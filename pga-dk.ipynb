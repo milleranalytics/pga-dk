{
 "cells": [
  {
   "cell_type": "markdown",
   "id": "51850cd5",
   "metadata": {},
   "source": [
    "## PGA Draftkings Notebook\n",
    "Use [PGA Website](https://www.pgatour.com/tournaments/schedule.html) to look up tournament info and fill out first USER INPUT block below. (Fetch/XHR from Network tab, Paylod sub-tab)\n",
    "\n",
    "Looks like the tournament ID is also in the address bar."
   ]
  },
  {
   "cell_type": "markdown",
   "id": "cc589d19",
   "metadata": {},
   "source": [
    "### User Input"
   ]
  },
  {
   "cell_type": "code",
   "execution_count": 1,
   "id": "5b16fd89",
   "metadata": {},
   "outputs": [],
   "source": [
    "# === USER INPUTS ===\n",
    "# Old Tournament\n",
    "old_tournament_name = \"John Deere Classic\"\n",
    "tournament_date = \"7/6/2025\"  # Ending date of tournament\n",
    "old_course = \"TPC Deere Run\"\n",
    "tournament_id = \"R2025030\"  # Tournament ID from the PGA Tour API - Also visible in the URL of the tournament page\n",
    "\n",
    "# New Tournament\n",
    "new_tournament_name = \"Genesis Scottish Open\"\n",
    "new_ending_date = \"7/13/2025\"\n",
    "new_course = \"The Renaissance Club\"\n",
    "new_season = 2025\n",
    "\n",
    "\n",
    "# === LIBRARIES AND VARIABLES ===\n",
    "# Import necessary libraries\n",
    "import requests\n",
    "import pandas as pd\n",
    "from datetime import datetime\n",
    "import sqlite3 as sql\n",
    "import numpy as np\n",
    "from numpy import nan\n",
    "import os\n",
    "import importlib\n",
    "import utils.db_utils\n",
    "from utils.db_utils import TOURNAMENT_NAME_MAP, PLAYER_NAME_MAP\n",
    "\n",
    "# === TOURNAMENT CONFIG ===\n",
    "tournament_config = {\n",
    "    \"old\": {\n",
    "        \"name\": old_tournament_name,\n",
    "        \"date\": tournament_date,\n",
    "        \"course\": old_course,\n",
    "        \"id\": tournament_id\n",
    "    },\n",
    "    \"new\": {\n",
    "        \"name\": new_tournament_name,\n",
    "        \"course\": new_course,\n",
    "        \"season\": new_season,\n",
    "        \"ending_date\": pd.to_datetime(new_ending_date, format=\"%m/%d/%Y\"),\n",
    "        \"quoted_course\": f'\"{new_course}\"',\n",
    "        \"quoted_name\": f\"'{new_tournament_name}'\"\n",
    "    }\n",
    "}\n",
    "\n",
    "this_week_key = str(tournament_config[\"new\"][\"ending_date\"].date())\n",
    "\n",
    "# Create a minimal one-row history DataFrame\n",
    "this_week_history = pd.DataFrame([{\n",
    "    \"SEASON\": tournament_config[\"new\"][\"season\"],\n",
    "    \"TOURNAMENT\": tournament_config[\"new\"][\"name\"],\n",
    "    \"ENDING_DATE\": tournament_config[\"new\"][\"ending_date\"],\n",
    "    \"COURSE\": tournament_config[\"new\"][\"course\"],\n",
    "    \"TOURN_ID\": None\n",
    "}])"
   ]
  },
  {
   "cell_type": "markdown",
   "id": "cd739282",
   "metadata": {},
   "source": [
    "### Update Database"
   ]
  },
  {
   "cell_type": "markdown",
   "id": "cebfc2dc",
   "metadata": {},
   "source": [
    "#### Old Tournament"
   ]
  },
  {
   "cell_type": "code",
   "execution_count": 2,
   "id": "31b12dc0",
   "metadata": {},
   "outputs": [
    {
     "name": "stdout",
     "output_type": "stream",
     "text": [
      "📦 Fetching results for tournament ID R2025030 (John Deere Classic), year: 20250\n",
      "✅ 156 new rows added for 'John Deere Classic'\n"
     ]
    },
    {
     "data": {
      "text/html": [
       "<div>\n",
       "<style scoped>\n",
       "    .dataframe tbody tr th:only-of-type {\n",
       "        vertical-align: middle;\n",
       "    }\n",
       "\n",
       "    .dataframe tbody tr th {\n",
       "        vertical-align: top;\n",
       "    }\n",
       "\n",
       "    .dataframe thead th {\n",
       "        text-align: right;\n",
       "    }\n",
       "</style>\n",
       "<table border=\"1\" class=\"dataframe\">\n",
       "  <thead>\n",
       "    <tr style=\"text-align: right;\">\n",
       "      <th></th>\n",
       "      <th>SEASON</th>\n",
       "      <th>ENDING_DATE</th>\n",
       "      <th>TOURN_ID</th>\n",
       "      <th>TOURNAMENT</th>\n",
       "      <th>COURSE</th>\n",
       "      <th>PLAYER</th>\n",
       "      <th>POS</th>\n",
       "      <th>FINAL_POS</th>\n",
       "      <th>ROUNDS:1</th>\n",
       "      <th>ROUNDS:2</th>\n",
       "      <th>ROUNDS:3</th>\n",
       "      <th>ROUNDS:4</th>\n",
       "      <th>OFFICIAL_MONEY</th>\n",
       "      <th>FEDEX_CUP_POINTS</th>\n",
       "    </tr>\n",
       "  </thead>\n",
       "  <tbody>\n",
       "    <tr>\n",
       "      <th>21</th>\n",
       "      <td>2025</td>\n",
       "      <td>2025-07-06</td>\n",
       "      <td>R2025030</td>\n",
       "      <td>John Deere Classic</td>\n",
       "      <td>TPC Deere Run</td>\n",
       "      <td>Brian Campbell</td>\n",
       "      <td>1</td>\n",
       "      <td>1</td>\n",
       "      <td>-6</td>\n",
       "      <td>-5</td>\n",
       "      <td>-3</td>\n",
       "      <td>-4</td>\n",
       "      <td>$1,512,000.00</td>\n",
       "      <td>500.000</td>\n",
       "    </tr>\n",
       "    <tr>\n",
       "      <th>46</th>\n",
       "      <td>2025</td>\n",
       "      <td>2025-07-06</td>\n",
       "      <td>R2025030</td>\n",
       "      <td>John Deere Classic</td>\n",
       "      <td>TPC Deere Run</td>\n",
       "      <td>Emiliano Grillo</td>\n",
       "      <td>2</td>\n",
       "      <td>2</td>\n",
       "      <td>-6</td>\n",
       "      <td>-5</td>\n",
       "      <td>-3</td>\n",
       "      <td>-4</td>\n",
       "      <td>$915,600.00</td>\n",
       "      <td>300.000</td>\n",
       "    </tr>\n",
       "    <tr>\n",
       "      <th>39</th>\n",
       "      <td>2025</td>\n",
       "      <td>2025-07-06</td>\n",
       "      <td>R2025030</td>\n",
       "      <td>John Deere Classic</td>\n",
       "      <td>TPC Deere Run</td>\n",
       "      <td>David Lipsky</td>\n",
       "      <td>T3</td>\n",
       "      <td>3</td>\n",
       "      <td>-7</td>\n",
       "      <td>-4</td>\n",
       "      <td>-3</td>\n",
       "      <td>-3</td>\n",
       "      <td>$495,600.00</td>\n",
       "      <td>162.500</td>\n",
       "    </tr>\n",
       "    <tr>\n",
       "      <th>78</th>\n",
       "      <td>2025</td>\n",
       "      <td>2025-07-06</td>\n",
       "      <td>R2025030</td>\n",
       "      <td>John Deere Classic</td>\n",
       "      <td>TPC Deere Run</td>\n",
       "      <td>Kevin Roy</td>\n",
       "      <td>T3</td>\n",
       "      <td>3</td>\n",
       "      <td>-4</td>\n",
       "      <td>-6</td>\n",
       "      <td>-1</td>\n",
       "      <td>-6</td>\n",
       "      <td>$495,600.00</td>\n",
       "      <td>162.500</td>\n",
       "    </tr>\n",
       "    <tr>\n",
       "      <th>61</th>\n",
       "      <td>2025</td>\n",
       "      <td>2025-07-06</td>\n",
       "      <td>R2025030</td>\n",
       "      <td>John Deere Classic</td>\n",
       "      <td>TPC Deere Run</td>\n",
       "      <td>Jacob Bridgeman</td>\n",
       "      <td>T5</td>\n",
       "      <td>5</td>\n",
       "      <td>-3</td>\n",
       "      <td>-3</td>\n",
       "      <td>-3</td>\n",
       "      <td>-7</td>\n",
       "      <td>$278,250.00</td>\n",
       "      <td>90.000</td>\n",
       "    </tr>\n",
       "  </tbody>\n",
       "</table>\n",
       "</div>"
      ],
      "text/plain": [
       "    SEASON ENDING_DATE  TOURN_ID          TOURNAMENT         COURSE  \\\n",
       "21    2025  2025-07-06  R2025030  John Deere Classic  TPC Deere Run   \n",
       "46    2025  2025-07-06  R2025030  John Deere Classic  TPC Deere Run   \n",
       "39    2025  2025-07-06  R2025030  John Deere Classic  TPC Deere Run   \n",
       "78    2025  2025-07-06  R2025030  John Deere Classic  TPC Deere Run   \n",
       "61    2025  2025-07-06  R2025030  John Deere Classic  TPC Deere Run   \n",
       "\n",
       "             PLAYER POS  FINAL_POS ROUNDS:1 ROUNDS:2 ROUNDS:3 ROUNDS:4  \\\n",
       "21   Brian Campbell   1          1       -6       -5       -3       -4   \n",
       "46  Emiliano Grillo   2          2       -6       -5       -3       -4   \n",
       "39     David Lipsky  T3          3       -7       -4       -3       -3   \n",
       "78        Kevin Roy  T3          3       -4       -6       -1       -6   \n",
       "61  Jacob Bridgeman  T5          5       -3       -3       -3       -7   \n",
       "\n",
       "   OFFICIAL_MONEY FEDEX_CUP_POINTS  \n",
       "21  $1,512,000.00          500.000  \n",
       "46    $915,600.00          300.000  \n",
       "39    $495,600.00          162.500  \n",
       "78    $495,600.00          162.500  \n",
       "61    $278,250.00           90.000  "
      ]
     },
     "execution_count": 2,
     "metadata": {},
     "output_type": "execute_result"
    }
   ],
   "source": [
    "importlib.reload(utils.db_utils)  # Only needed if you're actively editing db_utils.py\n",
    "from utils.db_utils import update_tournament_results\n",
    "\n",
    "# Change these each year!!\n",
    "season = 2025\n",
    "year = 20250  # Unique GraphQL year distinguishing number in case of multiple per year\n",
    "\n",
    "# Run the update\n",
    "db_path = \"data/golf.db\"  # Or use os.path.join(\"data\", \"golf.db\")\n",
    "tournDf = update_tournament_results(tournament_config, db_path, season, year)\n",
    "\n",
    "# Show just the most recent tournament added for confirmation\n",
    "from sqlalchemy import create_engine\n",
    "\n",
    "engine = create_engine(f\"sqlite:///{db_path}\")\n",
    "\n",
    "query = f\"\"\"\n",
    "SELECT *\n",
    "FROM tournaments\n",
    "WHERE TOURN_ID = '{tournament_config['old']['id']}'\n",
    "  AND ENDING_DATE = '{datetime.strptime(tournament_config['old']['date'], '%m/%d/%Y').date()}'\n",
    "\"\"\"\n",
    "\n",
    "recent = pd.read_sql(query, engine)\n",
    "engine.dispose()\n",
    "recent.sort_values(by='FINAL_POS').head()"
   ]
  },
  {
   "cell_type": "markdown",
   "id": "fb1dcb69",
   "metadata": {},
   "source": [
    "#### Stats"
   ]
  },
  {
   "cell_type": "code",
   "execution_count": 3,
   "id": "0cf3acf5",
   "metadata": {},
   "outputs": [
    {
     "name": "stdout",
     "output_type": "stream",
     "text": [
      "✅ Overwrote stats for season 2025 with 998 rows.\n"
     ]
    },
    {
     "data": {
      "text/html": [
       "<div>\n",
       "<style scoped>\n",
       "    .dataframe tbody tr th:only-of-type {\n",
       "        vertical-align: middle;\n",
       "    }\n",
       "\n",
       "    .dataframe tbody tr th {\n",
       "        vertical-align: top;\n",
       "    }\n",
       "\n",
       "    .dataframe thead th {\n",
       "        text-align: right;\n",
       "    }\n",
       "</style>\n",
       "<table border=\"1\" class=\"dataframe\">\n",
       "  <thead>\n",
       "    <tr style=\"text-align: right;\">\n",
       "      <th></th>\n",
       "      <th>PLAYER</th>\n",
       "      <th>SGTTG_RANK</th>\n",
       "      <th>SGTTG</th>\n",
       "      <th>SGOTT_RANK</th>\n",
       "      <th>SGOTT</th>\n",
       "      <th>SGAPR_RANK</th>\n",
       "      <th>SGAPR</th>\n",
       "      <th>SGATG_RANK</th>\n",
       "      <th>SGATG</th>\n",
       "      <th>SGP_RANK</th>\n",
       "      <th>...</th>\n",
       "      <th>DRIVING_DISTANCE</th>\n",
       "      <th>DRIVING_ACCURACY_RANK</th>\n",
       "      <th>DRIVING_ACCURACY</th>\n",
       "      <th>GIR_RANK</th>\n",
       "      <th>GIR</th>\n",
       "      <th>SCRAMBLING_RANK</th>\n",
       "      <th>SCRAMBLING</th>\n",
       "      <th>OWGR_RANK</th>\n",
       "      <th>OWGR</th>\n",
       "      <th>SEASON</th>\n",
       "    </tr>\n",
       "  </thead>\n",
       "  <tbody>\n",
       "    <tr>\n",
       "      <th>0</th>\n",
       "      <td>A.J. Ewart</td>\n",
       "      <td>NaN</td>\n",
       "      <td>NaN</td>\n",
       "      <td>NaN</td>\n",
       "      <td>NaN</td>\n",
       "      <td>NaN</td>\n",
       "      <td>NaN</td>\n",
       "      <td>NaN</td>\n",
       "      <td>NaN</td>\n",
       "      <td>NaN</td>\n",
       "      <td>...</td>\n",
       "      <td>NaN</td>\n",
       "      <td>NaN</td>\n",
       "      <td>NaN</td>\n",
       "      <td>NaN</td>\n",
       "      <td>NaN</td>\n",
       "      <td>NaN</td>\n",
       "      <td>NaN</td>\n",
       "      <td>624</td>\n",
       "      <td>.1888</td>\n",
       "      <td>2025</td>\n",
       "    </tr>\n",
       "    <tr>\n",
       "      <th>1</th>\n",
       "      <td>Aaron Baddeley</td>\n",
       "      <td>NaN</td>\n",
       "      <td>NaN</td>\n",
       "      <td>NaN</td>\n",
       "      <td>NaN</td>\n",
       "      <td>NaN</td>\n",
       "      <td>NaN</td>\n",
       "      <td>NaN</td>\n",
       "      <td>NaN</td>\n",
       "      <td>NaN</td>\n",
       "      <td>...</td>\n",
       "      <td>NaN</td>\n",
       "      <td>NaN</td>\n",
       "      <td>NaN</td>\n",
       "      <td>NaN</td>\n",
       "      <td>NaN</td>\n",
       "      <td>NaN</td>\n",
       "      <td>NaN</td>\n",
       "      <td>488</td>\n",
       "      <td>.2726</td>\n",
       "      <td>2025</td>\n",
       "    </tr>\n",
       "    <tr>\n",
       "      <th>2</th>\n",
       "      <td>Aaron Cockerill</td>\n",
       "      <td>NaN</td>\n",
       "      <td>NaN</td>\n",
       "      <td>NaN</td>\n",
       "      <td>NaN</td>\n",
       "      <td>NaN</td>\n",
       "      <td>NaN</td>\n",
       "      <td>NaN</td>\n",
       "      <td>NaN</td>\n",
       "      <td>NaN</td>\n",
       "      <td>...</td>\n",
       "      <td>NaN</td>\n",
       "      <td>NaN</td>\n",
       "      <td>NaN</td>\n",
       "      <td>NaN</td>\n",
       "      <td>NaN</td>\n",
       "      <td>NaN</td>\n",
       "      <td>NaN</td>\n",
       "      <td>327</td>\n",
       "      <td>.4381</td>\n",
       "      <td>2025</td>\n",
       "    </tr>\n",
       "    <tr>\n",
       "      <th>3</th>\n",
       "      <td>Aaron Rai</td>\n",
       "      <td>27.0</td>\n",
       "      <td>0.769</td>\n",
       "      <td>22.0</td>\n",
       "      <td>0.407</td>\n",
       "      <td>46.0</td>\n",
       "      <td>0.280</td>\n",
       "      <td>64.0</td>\n",
       "      <td>0.082</td>\n",
       "      <td>117.0</td>\n",
       "      <td>...</td>\n",
       "      <td>287.3</td>\n",
       "      <td>1.0</td>\n",
       "      <td>74.04%</td>\n",
       "      <td>21.0</td>\n",
       "      <td>69.44%</td>\n",
       "      <td>111.0</td>\n",
       "      <td>58.77%</td>\n",
       "      <td>34</td>\n",
       "      <td>2.6185</td>\n",
       "      <td>2025</td>\n",
       "    </tr>\n",
       "    <tr>\n",
       "      <th>4</th>\n",
       "      <td>Aaron Wilkin</td>\n",
       "      <td>NaN</td>\n",
       "      <td>NaN</td>\n",
       "      <td>NaN</td>\n",
       "      <td>NaN</td>\n",
       "      <td>NaN</td>\n",
       "      <td>NaN</td>\n",
       "      <td>NaN</td>\n",
       "      <td>NaN</td>\n",
       "      <td>NaN</td>\n",
       "      <td>...</td>\n",
       "      <td>NaN</td>\n",
       "      <td>NaN</td>\n",
       "      <td>NaN</td>\n",
       "      <td>NaN</td>\n",
       "      <td>NaN</td>\n",
       "      <td>NaN</td>\n",
       "      <td>NaN</td>\n",
       "      <td>852</td>\n",
       "      <td>.1117</td>\n",
       "      <td>2025</td>\n",
       "    </tr>\n",
       "  </tbody>\n",
       "</table>\n",
       "<p>5 rows × 32 columns</p>\n",
       "</div>"
      ],
      "text/plain": [
       "            PLAYER  SGTTG_RANK  SGTTG  SGOTT_RANK  SGOTT  SGAPR_RANK  SGAPR  \\\n",
       "0       A.J. Ewart         NaN    NaN         NaN    NaN         NaN    NaN   \n",
       "1   Aaron Baddeley         NaN    NaN         NaN    NaN         NaN    NaN   \n",
       "2  Aaron Cockerill         NaN    NaN         NaN    NaN         NaN    NaN   \n",
       "3        Aaron Rai        27.0  0.769        22.0  0.407        46.0  0.280   \n",
       "4     Aaron Wilkin         NaN    NaN         NaN    NaN         NaN    NaN   \n",
       "\n",
       "   SGATG_RANK  SGATG  SGP_RANK  ... DRIVING_DISTANCE  DRIVING_ACCURACY_RANK  \\\n",
       "0         NaN    NaN       NaN  ...              NaN                    NaN   \n",
       "1         NaN    NaN       NaN  ...              NaN                    NaN   \n",
       "2         NaN    NaN       NaN  ...              NaN                    NaN   \n",
       "3        64.0  0.082     117.0  ...            287.3                    1.0   \n",
       "4         NaN    NaN       NaN  ...              NaN                    NaN   \n",
       "\n",
       "  DRIVING_ACCURACY  GIR_RANK     GIR  SCRAMBLING_RANK SCRAMBLING  OWGR_RANK  \\\n",
       "0              NaN       NaN     NaN              NaN        NaN        624   \n",
       "1              NaN       NaN     NaN              NaN        NaN        488   \n",
       "2              NaN       NaN     NaN              NaN        NaN        327   \n",
       "3           74.04%      21.0  69.44%            111.0     58.77%         34   \n",
       "4              NaN       NaN     NaN              NaN        NaN        852   \n",
       "\n",
       "     OWGR  SEASON  \n",
       "0   .1888    2025  \n",
       "1   .2726    2025  \n",
       "2   .4381    2025  \n",
       "3  2.6185    2025  \n",
       "4   .1117    2025  \n",
       "\n",
       "[5 rows x 32 columns]"
      ]
     },
     "execution_count": 3,
     "metadata": {},
     "output_type": "execute_result"
    }
   ],
   "source": [
    "importlib.reload(utils.db_utils)\n",
    "from utils.db_utils import update_season_stats  # <- This line is essential\n",
    "\n",
    "# Change these each year!!\n",
    "statsYear = 2025\n",
    "\n",
    "stats_df = update_season_stats(statsYear, db_path)\n",
    "stats_df.head()"
   ]
  },
  {
   "cell_type": "markdown",
   "id": "e4d0572b",
   "metadata": {},
   "source": [
    "#### Odds\n",
    "Not usually needed for weekly routine."
   ]
  },
  {
   "cell_type": "markdown",
   "id": "ed73bb90",
   "metadata": {},
   "source": [
    "**Manual Fix! Odds name cleanup (only needed when joins fail)**\n",
    "\n",
    "Make sure to update the dictionaries in db_utils.py if new names need to be added."
   ]
  },
  {
   "cell_type": "code",
   "execution_count": 30,
   "id": "f47573f7",
   "metadata": {},
   "outputs": [
    {
     "name": "stdout",
     "output_type": "stream",
     "text": [
      "ℹ️ No odds rows required name cleanup.\n"
     ]
    },
    {
     "data": {
      "text/html": [
       "<div>\n",
       "<style scoped>\n",
       "    .dataframe tbody tr th:only-of-type {\n",
       "        vertical-align: middle;\n",
       "    }\n",
       "\n",
       "    .dataframe tbody tr th {\n",
       "        vertical-align: top;\n",
       "    }\n",
       "\n",
       "    .dataframe thead th {\n",
       "        text-align: right;\n",
       "    }\n",
       "</style>\n",
       "<table border=\"1\" class=\"dataframe\">\n",
       "  <thead>\n",
       "    <tr style=\"text-align: right;\">\n",
       "      <th></th>\n",
       "      <th>SEASON</th>\n",
       "      <th>TOURNAMENT</th>\n",
       "      <th>ENDING_DATE</th>\n",
       "      <th>PLAYER</th>\n",
       "      <th>ODDS</th>\n",
       "      <th>VEGAS_ODDS</th>\n",
       "      <th>TOURNAMENT_ORIG</th>\n",
       "      <th>PLAYER_ORIG</th>\n",
       "    </tr>\n",
       "  </thead>\n",
       "  <tbody>\n",
       "  </tbody>\n",
       "</table>\n",
       "</div>"
      ],
      "text/plain": [
       "Empty DataFrame\n",
       "Columns: [SEASON, TOURNAMENT, ENDING_DATE, PLAYER, ODDS, VEGAS_ODDS, TOURNAMENT_ORIG, PLAYER_ORIG]\n",
       "Index: []"
      ]
     },
     "execution_count": 30,
     "metadata": {},
     "output_type": "execute_result"
    }
   ],
   "source": [
    "importlib.reload(utils.db_utils)\n",
    "from utils.db_utils import clean_odds_names, PLAYER_NAME_MAP, TOURNAMENT_NAME_MAP\n",
    "\n",
    "db_path = \"data/golf.db\" \n",
    "updated_odds = clean_odds_names(db_path, TOURNAMENT_NAME_MAP, PLAYER_NAME_MAP)\n",
    "updated_odds.head()"
   ]
  },
  {
   "cell_type": "markdown",
   "id": "3ffcf8d8",
   "metadata": {},
   "source": [
    "**Historical Odds Updates**\n",
    "\n",
    "Only run this when loading in entire year odds at the start of each year or if corrections need to be made.  This will load in the entire year into the database and update it using the dictionary in db_utils.py."
   ]
  },
  {
   "cell_type": "code",
   "execution_count": 31,
   "id": "7b0ef77d",
   "metadata": {},
   "outputs": [
    {
     "name": "stdout",
     "output_type": "stream",
     "text": [
      "ℹ️ Historical odds for season 2023 already exist — no new rows added.\n"
     ]
    },
    {
     "data": {
      "text/html": [
       "<div>\n",
       "<style scoped>\n",
       "    .dataframe tbody tr th:only-of-type {\n",
       "        vertical-align: middle;\n",
       "    }\n",
       "\n",
       "    .dataframe tbody tr th {\n",
       "        vertical-align: top;\n",
       "    }\n",
       "\n",
       "    .dataframe thead th {\n",
       "        text-align: right;\n",
       "    }\n",
       "</style>\n",
       "<table border=\"1\" class=\"dataframe\">\n",
       "  <thead>\n",
       "    <tr style=\"text-align: right;\">\n",
       "      <th></th>\n",
       "      <th>SEASON</th>\n",
       "      <th>TOURNAMENT</th>\n",
       "      <th>ENDING_DATE</th>\n",
       "      <th>PLAYER</th>\n",
       "      <th>ODDS</th>\n",
       "      <th>VEGAS_ODDS</th>\n",
       "    </tr>\n",
       "  </thead>\n",
       "  <tbody>\n",
       "    <tr>\n",
       "      <th>4</th>\n",
       "      <td>2023</td>\n",
       "      <td>Fortinet Championship</td>\n",
       "      <td>2022-09-18</td>\n",
       "      <td>Hideki Matsuyama</td>\n",
       "      <td>18/1</td>\n",
       "      <td>18.0</td>\n",
       "    </tr>\n",
       "    <tr>\n",
       "      <th>5</th>\n",
       "      <td>2023</td>\n",
       "      <td>Fortinet Championship</td>\n",
       "      <td>2022-09-18</td>\n",
       "      <td>Max Homa</td>\n",
       "      <td>18/1</td>\n",
       "      <td>18.0</td>\n",
       "    </tr>\n",
       "    <tr>\n",
       "      <th>6</th>\n",
       "      <td>2023</td>\n",
       "      <td>Fortinet Championship</td>\n",
       "      <td>2022-09-18</td>\n",
       "      <td>Corey Conners</td>\n",
       "      <td>20/1</td>\n",
       "      <td>20.0</td>\n",
       "    </tr>\n",
       "    <tr>\n",
       "      <th>7</th>\n",
       "      <td>2023</td>\n",
       "      <td>Fortinet Championship</td>\n",
       "      <td>2022-09-18</td>\n",
       "      <td>Maverick McNealy</td>\n",
       "      <td>25/1</td>\n",
       "      <td>25.0</td>\n",
       "    </tr>\n",
       "    <tr>\n",
       "      <th>8</th>\n",
       "      <td>2023</td>\n",
       "      <td>Fortinet Championship</td>\n",
       "      <td>2022-09-18</td>\n",
       "      <td>Taylor Pendrith</td>\n",
       "      <td>25/1</td>\n",
       "      <td>25.0</td>\n",
       "    </tr>\n",
       "  </tbody>\n",
       "</table>\n",
       "</div>"
      ],
      "text/plain": [
       "   SEASON             TOURNAMENT ENDING_DATE            PLAYER  ODDS  \\\n",
       "4    2023  Fortinet Championship  2022-09-18  Hideki Matsuyama  18/1   \n",
       "5    2023  Fortinet Championship  2022-09-18          Max Homa  18/1   \n",
       "6    2023  Fortinet Championship  2022-09-18     Corey Conners  20/1   \n",
       "7    2023  Fortinet Championship  2022-09-18  Maverick McNealy  25/1   \n",
       "8    2023  Fortinet Championship  2022-09-18   Taylor Pendrith  25/1   \n",
       "\n",
       "   VEGAS_ODDS  \n",
       "4        18.0  \n",
       "5        18.0  \n",
       "6        20.0  \n",
       "7        25.0  \n",
       "8        25.0  "
      ]
     },
     "execution_count": 31,
     "metadata": {},
     "output_type": "execute_result"
    }
   ],
   "source": [
    "importlib.reload(utils.db_utils)\n",
    "from utils.db_utils import import_historical_odds\n",
    "\n",
    "oddsYear = \"2022-2023\"    # URL segment\n",
    "season = 2023             # PGA Tour season\n",
    "db_path = \"data/golf.db\"\n",
    "\n",
    "odds_df = import_historical_odds(oddsYear, season, db_path)\n",
    "odds_df.head()"
   ]
  },
  {
   "cell_type": "markdown",
   "id": "82fc5dfe",
   "metadata": {},
   "source": [
    "**Not normally needed**\n",
    "\n",
    "The code below is a way to troubleshoot the odds function that is in db_utils.py.  If it does not pull the stats correctly, we can run it outside of the db_utils.py file and explore what might be wrong with it, iterating until it works, and then using that fix to update db_utils.py.  This is not normally needed, but wanted to leave this in place as a reference because this odds website can be tricky."
   ]
  },
  {
   "cell_type": "code",
   "execution_count": 32,
   "id": "94460f27",
   "metadata": {},
   "outputs": [
    {
     "name": "stdout",
     "output_type": "stream",
     "text": [
      "📍 Detected: Safeway Open — Ending: 2020-09-13\n",
      "📍 Detected: US Open — Ending: 2020-09-20\n",
      "📍 Detected: R & C Championship — Ending: 2020-09-27\n",
      "📍 Detected: at Big Cedar Lodge - — Ending: 2020-09-22\n",
      "📍 Detected: Sanderson Farms Champ — Ending: 2020-10-04\n",
      "📍 Detected: Shriners H for C Open — Ending: 2020-10-11\n",
      "📍 Detected: The CJ Cup — Ending: 2020-10-18\n",
      "📍 Detected: ZOZO CHAMPIONSHIP — Ending: 2020-10-25\n",
      "📍 Detected: Bermuda Championship — Ending: 2020-11-01\n",
      "📍 Detected: Vivint Houston Open — Ending: 2020-11-08\n",
      "📍 Detected: The Masters — Ending: 2020-11-15\n",
      "📍 Detected: The RSM Classic — Ending: 2020-11-22\n",
      "📍 Detected: Champions for Change — Ending: 2020-11-27\n",
      "📍 Detected: Mayakoba Golf Classic — Ending: 2020-12-06\n",
      "📍 Detected: QBE Shootout — Ending: 2020-12-13\n",
      "📍 Detected: Sentry Tourn of Champions — Ending: 2021-01-10\n",
      "📍 Detected: Sony Open in Hawaii — Ending: 2021-01-17\n",
      "📍 Detected: The American Express — Ending: 2021-01-24\n",
      "📍 Detected: Abu Dhabi HSBC Champ — Ending: 2021-01-24\n",
      "📍 Detected: Farmers Insurance Open — Ending: 2021-01-31\n",
      "📍 Detected: Dubai Desert Classic — Ending: 2021-01-31\n",
      "📍 Detected: W M Phoenix Open — Ending: 2021-02-07\n",
      "📍 Detected: King Abdullah Economic City, — Ending: 2021-02-07\n",
      "📍 Detected: AT&T Pebble Beach Pro-Am — Ending: 2021-02-14\n",
      "📍 Detected: Collegiate Showcase — Ending: 2021-02-15\n",
      "📍 Detected: The Genesis Invitational — Ending: 2021-02-21\n",
      "📍 Detected: WGC-Workday Championship — Ending: 2021-02-28\n",
      "📍 Detected: Puerto Rico Open — Ending: 2021-02-28\n",
      "📍 Detected: Arnold Palmer Invitational — Ending: 2021-03-07\n",
      "📍 Detected: THE PLAYERS Championship — Ending: 2021-03-14\n",
      "📍 Detected: Qatar Masters — Ending: 2021-03-14\n",
      "📍 Detected: The Honda Classic — Ending: 2021-03-21\n",
      "📍 Detected: Magical Kenya Open — Ending: 2021-03-21\n",
      "📍 Detected: Kenya Savannah Classic — Ending: 2021-03-26\n",
      "📍 Detected: WGC-Dell Tech Match Play — Ending: 2021-03-28\n",
      "📍 Detected: Corales Punta Cana Champ — Ending: 2021-03-28\n",
      "📍 Detected: Valero Texas Open — Ending: 2021-04-04\n",
      "📍 Detected: The Masters — Ending: 2021-04-11\n",
      "📍 Detected: RBC Heritage — Ending: 2021-04-18\n",
      "📍 Detected: Austrian Golf Open — Ending: 2021-04-18\n",
      "📍 Detected: MGM Resorts Championship — Ending: 2021-04-18\n",
      "📍 Detected: Zurich Classic of New Orleans — Ending: 2021-04-25\n",
      "📍 Detected: Gran Canaria Lopesan Open — Ending: 2021-04-25\n",
      "📍 Detected: Valspar Championship — Ending: 2021-05-02\n",
      "📍 Detected: Tenerife Open — Ending: 2021-05-02\n",
      "📍 Detected: Wells Fargo Championship — Ending: 2021-05-09\n",
      "📍 Detected: Canary Islands Championship — Ending: 2021-05-09\n",
      "📍 Detected: AT&T Byron Nelson — Ending: 2021-05-16\n",
      "📍 Detected: British Masters — Ending: 2021-05-16\n",
      "📍 Detected: PGA Championship — Ending: 2021-05-23\n",
      "📍 Detected: Charles Schwab Challenge — Ending: 2021-05-30\n",
      "📍 Detected: Made in Himmerland — Ending: 2021-05-30\n",
      "📍 Detected: The Memorial Tournament — Ending: 2021-06-06\n",
      "📍 Detected: Porsche European Open — Ending: 2021-06-07\n",
      "📍 Detected: Palmetto Championship — Ending: 2021-06-13\n",
      "📍 Detected: Scandinavian Mixed — Ending: 2021-06-13\n",
      "📍 Detected: US Open — Ending: 2021-06-20\n",
      "📍 Detected: Travelers Championship — Ending: 2021-06-27\n",
      "📍 Detected: BMW International Open — Ending: 2021-06-27\n",
      "📍 Detected: Rocket Mortgage Classic — Ending: 2021-07-04\n",
      "📍 Detected: Dubai Duty Free Irish Open — Ending: 2021-07-04\n",
      "📍 Detected: Moonlight Basin - — Ending: 2021-07-06\n",
      "📍 Detected: John Deere Classic — Ending: 2021-07-11\n",
      "📍 Detected: abrdn Scottish Open — Ending: 2021-07-11\n",
      "📍 Detected: The Open Championship — Ending: 2021-07-18\n",
      "📍 Detected: Barbasol Championship — Ending: 2021-07-18\n",
      "📍 Detected: 3M Open — Ending: 2021-07-25\n",
      "📍 Detected: Cazoo Open — Ending: 2021-07-25\n",
      "📍 Detected: Men's Olympic Golf — Ending: 2021-08-01\n",
      "📍 Detected: World Invitational — Ending: 2021-08-01\n",
      "📍 Detected: WGC-FedEx St. Jude Invit — Ending: 2021-08-08\n",
      "📍 Detected: Barracuda Championship — Ending: 2021-08-08\n",
      "📍 Detected: Hero Open — Ending: 2021-08-08\n",
      "📍 Detected: Wyndham Championship — Ending: 2021-08-15\n",
      "📍 Detected: Cazoo Classic — Ending: 2021-08-15\n",
      "📍 Detected: The Northern Trust — Ending: 2021-08-23\n",
      "📍 Detected: D+D Real Czech Masters — Ending: 2021-08-22\n",
      "📍 Detected: BMW Championship — Ending: 2021-08-29\n",
      "📍 Detected: Omega European Masters — Ending: 2021-08-29\n",
      "📍 Detected: TOUR Championship — Ending: 2021-09-05\n",
      "📍 Detected: Italian Open — Ending: 2021-09-05\n",
      "📍 Detected: BMW PGA Championship — Ending: 2021-09-12\n",
      "📍 Detected: Dutch Open — Ending: 2021-09-19\n",
      "📍 Detected: 43rd Ryder Cup — Ending: 2021-09-26\n",
      "📍 Detected: Alfred Dunhill Links Champ — Ending: 2021-10-03\n",
      "📍 Detected: Open de Espana — Ending: 2021-10-10\n",
      "📍 Detected: Andalucia Masters — Ending: 2021-10-17\n",
      "📍 Detected: Mallorca Golf Open — Ending: 2021-10-24\n",
      "📍 Detected: Portugal Masters — Ending: 2021-11-07\n",
      "📍 Detected: AVIV Dubai Championship — Ending: 2021-11-14\n",
      "📍 Detected: DP World Tour Championship — Ending: 2021-11-21\n",
      "📍 Detected: Golf Nippon Series JT Cup — Ending: 2021-12-05\n"
     ]
    },
    {
     "data": {
      "text/html": [
       "<div>\n",
       "<style scoped>\n",
       "    .dataframe tbody tr th:only-of-type {\n",
       "        vertical-align: middle;\n",
       "    }\n",
       "\n",
       "    .dataframe tbody tr th {\n",
       "        vertical-align: top;\n",
       "    }\n",
       "\n",
       "    .dataframe thead th {\n",
       "        text-align: right;\n",
       "    }\n",
       "</style>\n",
       "<table border=\"1\" class=\"dataframe\">\n",
       "  <thead>\n",
       "    <tr style=\"text-align: right;\">\n",
       "      <th></th>\n",
       "      <th>SEASON</th>\n",
       "      <th>TOURNAMENT</th>\n",
       "      <th>ENDING_DATE</th>\n",
       "      <th>PLAYER</th>\n",
       "      <th>ODDS</th>\n",
       "      <th>VEGAS_ODDS</th>\n",
       "    </tr>\n",
       "  </thead>\n",
       "  <tbody>\n",
       "    <tr>\n",
       "      <th>0</th>\n",
       "      <td>2021</td>\n",
       "      <td>Safeway Open</td>\n",
       "      <td>2020-09-13</td>\n",
       "      <td>Phil Mickelson</td>\n",
       "      <td>20/1</td>\n",
       "      <td>20.0</td>\n",
       "    </tr>\n",
       "    <tr>\n",
       "      <th>1</th>\n",
       "      <td>2021</td>\n",
       "      <td>Safeway Open</td>\n",
       "      <td>2020-09-13</td>\n",
       "      <td>Si Woo Kim</td>\n",
       "      <td>20/1</td>\n",
       "      <td>20.0</td>\n",
       "    </tr>\n",
       "    <tr>\n",
       "      <th>2</th>\n",
       "      <td>2021</td>\n",
       "      <td>Safeway Open</td>\n",
       "      <td>2020-09-13</td>\n",
       "      <td>Brendan Steele</td>\n",
       "      <td>20/1</td>\n",
       "      <td>20.0</td>\n",
       "    </tr>\n",
       "    <tr>\n",
       "      <th>3</th>\n",
       "      <td>2021</td>\n",
       "      <td>Safeway Open</td>\n",
       "      <td>2020-09-13</td>\n",
       "      <td>Shane Lowry</td>\n",
       "      <td>25/1</td>\n",
       "      <td>25.0</td>\n",
       "    </tr>\n",
       "    <tr>\n",
       "      <th>4</th>\n",
       "      <td>2021</td>\n",
       "      <td>Safeway Open</td>\n",
       "      <td>2020-09-13</td>\n",
       "      <td>Sergio Garcia</td>\n",
       "      <td>30/1</td>\n",
       "      <td>30.0</td>\n",
       "    </tr>\n",
       "  </tbody>\n",
       "</table>\n",
       "</div>"
      ],
      "text/plain": [
       "   SEASON    TOURNAMENT ENDING_DATE          PLAYER  ODDS  VEGAS_ODDS\n",
       "0    2021  Safeway Open  2020-09-13  Phil Mickelson  20/1        20.0\n",
       "1    2021  Safeway Open  2020-09-13      Si Woo Kim  20/1        20.0\n",
       "2    2021  Safeway Open  2020-09-13  Brendan Steele  20/1        20.0\n",
       "3    2021  Safeway Open  2020-09-13     Shane Lowry  25/1        25.0\n",
       "4    2021  Safeway Open  2020-09-13   Sergio Garcia  30/1        30.0"
      ]
     },
     "metadata": {},
     "output_type": "display_data"
    }
   ],
   "source": [
    "import pandas as pd\n",
    "import numpy as np\n",
    "import requests\n",
    "import re\n",
    "from datetime import datetime\n",
    "from io import StringIO\n",
    "\n",
    "# === USER INPUT ===\n",
    "oddsYear = \"2020-2021\"    # URL segment\n",
    "season = 2021        # PGA Tour season\n",
    "\n",
    "url = f\"http://golfodds.com/archives-{oddsYear}.html\"\n",
    "response = requests.get(url)\n",
    "tables = pd.read_html(StringIO(response.text))\n",
    "# raw_df = tables[5]  # the actual table of interest\n",
    "# Find the largest 2-column table that contains at least some odds-like strings\n",
    "raw_df = None\n",
    "for tbl in tables:\n",
    "    if tbl.shape[1] == 2 and tbl.shape[0] > 50:  # Rough filter\n",
    "        sample = tbl.iloc[:, 1].astype(str).str.contains(r\"\\d+/\\d+\").sum()\n",
    "        if sample > 5:\n",
    "            raw_df = tbl\n",
    "            break\n",
    "\n",
    "if raw_df is None:\n",
    "    raise ValueError(\"❌ Could not find valid odds table on the page.\")\n",
    "\n",
    "# === STEP 1: Initial clean-up ===\n",
    "df = raw_df.dropna(how=\"all\").reset_index(drop=True)\n",
    "df.columns = [\"PLAYER\", \"ODDS\"]\n",
    "\n",
    "# 🔧 Clean up non-breaking spaces and extra whitespace\n",
    "df[\"PLAYER\"] = (\n",
    "    df[\"PLAYER\"]\n",
    "    .astype(str)\n",
    "    .str.replace(\"\\xa0\", \" \", regex=False)\n",
    "    .str.replace(r\"\\s+\", \" \", regex=True)\n",
    "    .str.strip()\n",
    ")\n",
    "\n",
    "df.insert(loc=0, column=\"SEASON\", value=season)\n",
    "df.insert(loc=1, column=\"TOURNAMENT\", value=np.nan)\n",
    "df.insert(loc=2, column=\"ENDING_DATE\", value=np.nan)\n",
    "\n",
    "# === STEP 2: Helper function for parsing date strings ===\n",
    "def parse_ending_date(text):\n",
    "    import re\n",
    "    from datetime import datetime\n",
    "\n",
    "    # Normalize whitespace and symbols\n",
    "    text = (\n",
    "        text.replace(\"\\u2013\", \"-\")\n",
    "            .replace(\"–\", \"-\")\n",
    "            .replace(\"\\xa0\", \" \")\n",
    "    )\n",
    "    text = re.sub(r\"\\bSept(?!ember)\\b\", \"Sep\", text)\n",
    "\n",
    "    # ✅ Fix typo: \"Match\" → \"March\" only when used in a date context\n",
    "    text = re.sub(r\"\\bMatch(?=\\s+\\d{1,2}\\s*[-–]\\s*\\d{1,2},\\s*\\d{4})\", \"March\", text)\n",
    "\n",
    "    # Pattern 1: \"July 30 - August 2, 2015\" or \"Oct 29 - Nov 1, 2015\"\n",
    "    match = re.search(r\"(\\w+)\\s\\d+\\s*-\\s*(\\w+)\\s(\\d+),\\s(\\d{4})\", text)\n",
    "    if match:\n",
    "        month2, day2, year = match.group(2), match.group(3), match.group(4)\n",
    "        for fmt in [\"%B %d, %Y\", \"%b %d, %Y\"]:\n",
    "            try:\n",
    "                return datetime.strptime(f\"{month2} {day2}, {year}\", fmt).date()\n",
    "            except ValueError:\n",
    "                continue\n",
    "\n",
    "    # Pattern 2: \"November 21-24, 2024\"\n",
    "    match = re.search(r\"(\\w+)\\s\\d+-\\d+,\\s(\\d{4})\", text)\n",
    "    if match:\n",
    "        month, year = match.group(1), match.group(2)\n",
    "        day = re.search(r\"(\\d+)-(\\d+)\", text).group(2)\n",
    "        for fmt in [\"%B %d, %Y\", \"%b %d, %Y\"]:\n",
    "            try:\n",
    "                return datetime.strptime(f\"{month} {day}, {year}\", fmt).date()\n",
    "            except ValueError:\n",
    "                continue\n",
    "\n",
    "    # Pattern 3: \"Sunday, October 20, 2019\"\n",
    "    try:\n",
    "        return datetime.strptime(text.strip(), \"%A, %B %d, %Y\").date()\n",
    "    except ValueError:\n",
    "        pass\n",
    "\n",
    "    # Pattern 4: \"October 20, 2019\"\n",
    "    try:\n",
    "        return datetime.strptime(text.strip(), \"%B %d, %Y\").date()\n",
    "    except ValueError:\n",
    "        pass\n",
    "\n",
    "    return None\n",
    "\n",
    "last_tourn_name = None\n",
    "last_date = None\n",
    "\n",
    "# === STEP 3: Iterate block by block ===\n",
    "final_rows = []\n",
    "i = 0\n",
    "last_tourn_name = None\n",
    "last_end_date = None\n",
    "\n",
    "while i < len(df) - 4:\n",
    "    player_i = str(df.loc[i, \"PLAYER\"])\n",
    "    player_i2 = str(df.loc[i + 2, \"PLAYER\"])\n",
    "    player_i3 = str(df.loc[i + 3, \"PLAYER\"]).lower()\n",
    "\n",
    "    # Detect start of a new tournament block\n",
    "    is_header = (\n",
    "        pd.isna(df.loc[i, \"ODDS\"]) and\n",
    "        pd.isna(df.loc[i + 1, \"ODDS\"]) and (\n",
    "            re.search(r\"\\w+\\s\\d+\\s*[-–]\\s*(\\w+\\s)?\\d+,\\s\\d{4}\", player_i2) or\n",
    "            re.search(r\"(Monday|Tuesday|Wednesday|Thursday|Friday|Saturday|Sunday),?\\s+\\w+\\s\\d{1,2},\\s\\d{4}\", player_i2)\n",
    "        )\n",
    "    )\n",
    "\n",
    "    if is_header:\n",
    "        tourn_name = player_i.strip()\n",
    "        end_date = parse_ending_date(player_i2)\n",
    "\n",
    "        # Skip cancelled or empty blocks\n",
    "        if \"cancelled\" in player_i3:\n",
    "            print(f\"⚠️ Skipping cancelled tournament: {tourn_name} — {end_date}\")\n",
    "            i += 4\n",
    "            continue\n",
    "\n",
    "        # Avoid duplicate block processing\n",
    "        if tourn_name == last_tourn_name and end_date == last_end_date:\n",
    "            i += 1\n",
    "            continue\n",
    "\n",
    "        print(f\"📍 Detected: {tourn_name} — Ending: {end_date}\")\n",
    "        last_tourn_name = tourn_name\n",
    "        last_end_date = end_date\n",
    "        i += 4  # Skip header lines\n",
    "\n",
    "        # Collect all player rows until next header block\n",
    "        while i < len(df) - 2:\n",
    "            next_i2 = str(df.loc[i + 2, \"PLAYER\"])\n",
    "            is_next_header = (\n",
    "                pd.isna(df.loc[i, \"ODDS\"]) and\n",
    "                pd.isna(df.loc[i + 1, \"ODDS\"]) and (\n",
    "                    re.search(r\"\\w+\\s\\d+\\s*[-–]\\s*(\\w+\\s)?\\d+,\\s\\d{4}\", next_i2) or\n",
    "                    re.search(r\"(Monday|Tuesday|Wednesday|Thursday|Friday|Saturday|Sunday),?\\s+\\w+\\s\\d{1,2},\\s\\d{4}\", next_i2)\n",
    "                )\n",
    "            )\n",
    "            if is_next_header:\n",
    "                break\n",
    "\n",
    "            if pd.notna(df.loc[i, \"ODDS\"]):\n",
    "                row = df.loc[i].copy()\n",
    "                row[\"TOURNAMENT\"] = tourn_name\n",
    "                row[\"ENDING_DATE\"] = end_date\n",
    "                final_rows.append(row)\n",
    "            i += 1\n",
    "    else:\n",
    "        i += 1\n",
    "\n",
    "# === STEP 4: Create cleaned DataFrame ===\n",
    "clean_df = pd.DataFrame(final_rows)\n",
    "\n",
    "# ✅ Prevent crash if nothing was parsed\n",
    "if clean_df.empty or \"PLAYER\" not in clean_df.columns:\n",
    "    print(f\"⚠️ No valid tournament blocks detected for season {season} ({oddsYear})\")\n",
    "    final_df = pd.DataFrame()  # Safe fallback\n",
    "else:\n",
    "    # Remove winner tag\n",
    "    clean_df[\"PLAYER\"] = clean_df[\"PLAYER\"].str.replace(r\"\\s\\*Winner\\*\", \"\", regex=True)\n",
    "\n",
    "    # Clean odds to numeric\n",
    "    clean_df[\"VEGAS_ODDS\"] = (\n",
    "        clean_df[\"ODDS\"]\n",
    "        .str.replace(\",\", \"\")\n",
    "        .str.extract(r\"(\\d+)/(\\d+)\")\n",
    "        .astype(float)\n",
    "        .apply(lambda x: x[0] / x[1], axis=1)\n",
    "    )\n",
    "\n",
    "    # Final output with source index for debugging\n",
    "    final_df = clean_df[\n",
    "        [\"SEASON\", \"TOURNAMENT\", \"ENDING_DATE\", \"PLAYER\", \"ODDS\", \"VEGAS_ODDS\"]\n",
    "    ].reset_index(drop=True)\n",
    "\n",
    "    # Drop non-standard team events (e.g., Presidents Cup, Ryder Cup)\n",
    "    drop_terms = [\"Presidents Cup\", \"Ryder Cup\"]\n",
    "    final_df = final_df[~final_df[\"TOURNAMENT\"].str.contains(\"|\".join(drop_terms), case=False, na=False)]\n",
    "\n",
    "    display(final_df.head())\n",
    "\n"
   ]
  },
  {
   "cell_type": "code",
   "execution_count": 33,
   "id": "1ba6ed1d",
   "metadata": {},
   "outputs": [
    {
     "name": "stdout",
     "output_type": "stream",
     "text": [
      "🧪 Rows with invalid ENDING_DATE values: 0\n"
     ]
    },
    {
     "data": {
      "text/html": [
       "<div>\n",
       "<style scoped>\n",
       "    .dataframe tbody tr th:only-of-type {\n",
       "        vertical-align: middle;\n",
       "    }\n",
       "\n",
       "    .dataframe tbody tr th {\n",
       "        vertical-align: top;\n",
       "    }\n",
       "\n",
       "    .dataframe thead th {\n",
       "        text-align: right;\n",
       "    }\n",
       "</style>\n",
       "<table border=\"1\" class=\"dataframe\">\n",
       "  <thead>\n",
       "    <tr style=\"text-align: right;\">\n",
       "      <th></th>\n",
       "      <th>SEASON</th>\n",
       "      <th>TOURNAMENT</th>\n",
       "      <th>ENDING_DATE</th>\n",
       "      <th>PLAYER</th>\n",
       "      <th>ODDS</th>\n",
       "      <th>VEGAS_ODDS</th>\n",
       "    </tr>\n",
       "  </thead>\n",
       "  <tbody>\n",
       "  </tbody>\n",
       "</table>\n",
       "</div>"
      ],
      "text/plain": [
       "Empty DataFrame\n",
       "Columns: [SEASON, TOURNAMENT, ENDING_DATE, PLAYER, ODDS, VEGAS_ODDS]\n",
       "Index: []"
      ]
     },
     "metadata": {},
     "output_type": "display_data"
    }
   ],
   "source": [
    "from datetime import datetime, date\n",
    "# ✅ Check for non-date types in ENDING_DATE\n",
    "non_dates = final_df[~final_df[\"ENDING_DATE\"].apply(lambda x: isinstance(x, date))]\n",
    "\n",
    "print(f\"🧪 Rows with invalid ENDING_DATE values: {len(non_dates)}\")\n",
    "display(non_dates.head(10))\n",
    "\n"
   ]
  },
  {
   "cell_type": "code",
   "execution_count": 34,
   "id": "d42bfaa0",
   "metadata": {},
   "outputs": [
    {
     "name": "stdout",
     "output_type": "stream",
     "text": [
      "🚨 Duplicate primary keys in final_df: 0\n"
     ]
    },
    {
     "data": {
      "text/html": [
       "<div>\n",
       "<style scoped>\n",
       "    .dataframe tbody tr th:only-of-type {\n",
       "        vertical-align: middle;\n",
       "    }\n",
       "\n",
       "    .dataframe tbody tr th {\n",
       "        vertical-align: top;\n",
       "    }\n",
       "\n",
       "    .dataframe thead th {\n",
       "        text-align: right;\n",
       "    }\n",
       "</style>\n",
       "<table border=\"1\" class=\"dataframe\">\n",
       "  <thead>\n",
       "    <tr style=\"text-align: right;\">\n",
       "      <th></th>\n",
       "      <th>SEASON</th>\n",
       "      <th>TOURNAMENT</th>\n",
       "      <th>ENDING_DATE</th>\n",
       "      <th>PLAYER</th>\n",
       "      <th>ODDS</th>\n",
       "      <th>VEGAS_ODDS</th>\n",
       "    </tr>\n",
       "  </thead>\n",
       "  <tbody>\n",
       "  </tbody>\n",
       "</table>\n",
       "</div>"
      ],
      "text/plain": [
       "Empty DataFrame\n",
       "Columns: [SEASON, TOURNAMENT, ENDING_DATE, PLAYER, ODDS, VEGAS_ODDS]\n",
       "Index: []"
      ]
     },
     "metadata": {},
     "output_type": "display_data"
    }
   ],
   "source": [
    "dupes = final_df.duplicated(subset=[\"SEASON\", \"TOURNAMENT\", \"ENDING_DATE\", \"PLAYER\"], keep=False)\n",
    "\n",
    "print(f\"🚨 Duplicate primary keys in final_df: {dupes.sum()}\")\n",
    "display(final_df[dupes].sort_values(by=[\"SEASON\", \"TOURNAMENT\", \"PLAYER\"]))"
   ]
  },
  {
   "cell_type": "markdown",
   "id": "d5827d49",
   "metadata": {},
   "source": [
    "## Historical Data"
   ]
  },
  {
   "cell_type": "markdown",
   "id": "72034314",
   "metadata": {},
   "source": [
    "### Pull Relevant Seasons\n",
    "Do a check to see when this course or tournament have been historically played."
   ]
  },
  {
   "cell_type": "code",
   "execution_count": 4,
   "id": "fea9c7c6",
   "metadata": {},
   "outputs": [
    {
     "name": "stdout",
     "output_type": "stream",
     "text": [
      "ℹ️ Found 3 relevant tournaments from course or tournament name.\n"
     ]
    },
    {
     "data": {
      "text/html": [
       "<div>\n",
       "<style scoped>\n",
       "    .dataframe tbody tr th:only-of-type {\n",
       "        vertical-align: middle;\n",
       "    }\n",
       "\n",
       "    .dataframe tbody tr th {\n",
       "        vertical-align: top;\n",
       "    }\n",
       "\n",
       "    .dataframe thead th {\n",
       "        text-align: right;\n",
       "    }\n",
       "</style>\n",
       "<table border=\"1\" class=\"dataframe\">\n",
       "  <thead>\n",
       "    <tr style=\"text-align: right;\">\n",
       "      <th></th>\n",
       "      <th>SEASON</th>\n",
       "      <th>COURSE</th>\n",
       "      <th>TOURN_ID</th>\n",
       "      <th>TOURNAMENT</th>\n",
       "      <th>ENDING_DATE</th>\n",
       "    </tr>\n",
       "  </thead>\n",
       "  <tbody>\n",
       "    <tr>\n",
       "      <th>0</th>\n",
       "      <td>2022</td>\n",
       "      <td>The Renaissance Club</td>\n",
       "      <td>521</td>\n",
       "      <td>Genesis Scottish Open</td>\n",
       "      <td>2022-07-10</td>\n",
       "    </tr>\n",
       "    <tr>\n",
       "      <th>78</th>\n",
       "      <td>2023</td>\n",
       "      <td>The Renaissance Club</td>\n",
       "      <td>R2023541</td>\n",
       "      <td>Genesis Scottish Open</td>\n",
       "      <td>2023-07-16</td>\n",
       "    </tr>\n",
       "    <tr>\n",
       "      <th>234</th>\n",
       "      <td>2024</td>\n",
       "      <td>The Renaissance Club</td>\n",
       "      <td>R2024541</td>\n",
       "      <td>Genesis Scottish Open</td>\n",
       "      <td>2024-07-14</td>\n",
       "    </tr>\n",
       "  </tbody>\n",
       "</table>\n",
       "</div>"
      ],
      "text/plain": [
       "     SEASON                COURSE  TOURN_ID             TOURNAMENT ENDING_DATE\n",
       "0      2022  The Renaissance Club       521  Genesis Scottish Open  2022-07-10\n",
       "78     2023  The Renaissance Club  R2023541  Genesis Scottish Open  2023-07-16\n",
       "234    2024  The Renaissance Club  R2024541  Genesis Scottish Open  2024-07-14"
      ]
     },
     "execution_count": 4,
     "metadata": {},
     "output_type": "execute_result"
    }
   ],
   "source": [
    "importlib.reload(utils.db_utils)\n",
    "from utils.db_utils import get_combined_history_seasons\n",
    "\n",
    "# === USER INPUT ===\n",
    "seasons = list(range(2016, 2025))  # Adjust as needed\n",
    "db_path = \"data/golf.db\"\n",
    "\n",
    "# Pull course and tournament from config\n",
    "n_course = tournament_config[\"new\"][\"course\"]\n",
    "n_tourn = tournament_config[\"new\"][\"name\"]\n",
    "\n",
    "# Fetch relevant history\n",
    "history_df = get_combined_history_seasons(db_path, course=n_course, tournament=n_tourn, allowed_seasons=seasons)\n",
    "history_df.head(20)\n"
   ]
  },
  {
   "cell_type": "markdown",
   "id": "09441025",
   "metadata": {},
   "source": [
    "### Cut Percentage and FedEx Points\n",
    "Use a rolling-window approach to look at the most recent cut percentage and how many FedEx cup points have been accumulated recently. This will intentionally not match the PGA Tour stats that start over every year, but will have the same amount of data all the time.  We also add a new feature called Form Density which divides the FedEx Cup Points by the Total Events."
   ]
  },
  {
   "cell_type": "code",
   "execution_count": 5,
   "id": "300bf650",
   "metadata": {},
   "outputs": [
    {
     "name": "stdout",
     "output_type": "stream",
     "text": [
      "\n",
      "📆 2022-07-10 — Genesis Scottish Open (525 players)\n"
     ]
    },
    {
     "data": {
      "text/html": [
       "<div>\n",
       "<style scoped>\n",
       "    .dataframe tbody tr th:only-of-type {\n",
       "        vertical-align: middle;\n",
       "    }\n",
       "\n",
       "    .dataframe tbody tr th {\n",
       "        vertical-align: top;\n",
       "    }\n",
       "\n",
       "    .dataframe thead th {\n",
       "        text-align: right;\n",
       "    }\n",
       "</style>\n",
       "<table border=\"1\" class=\"dataframe\">\n",
       "  <thead>\n",
       "    <tr style=\"text-align: right;\">\n",
       "      <th></th>\n",
       "      <th>PLAYER</th>\n",
       "      <th>TOTAL_EVENTS_PLAYED</th>\n",
       "      <th>CUTS_MADE</th>\n",
       "      <th>FEDEX_CUP_POINTS</th>\n",
       "      <th>CUT_PERCENTAGE</th>\n",
       "      <th>form_density</th>\n",
       "      <th>CONSECUTIVE_CUTS</th>\n",
       "      <th>ENDING_DATE</th>\n",
       "      <th>TOURNAMENT</th>\n",
       "    </tr>\n",
       "  </thead>\n",
       "  <tbody>\n",
       "    <tr>\n",
       "      <th>0</th>\n",
       "      <td>A.J. Ewart</td>\n",
       "      <td>1</td>\n",
       "      <td>0</td>\n",
       "      <td>0.00</td>\n",
       "      <td>0.0</td>\n",
       "      <td>0.00</td>\n",
       "      <td>0</td>\n",
       "      <td>2022-07-10</td>\n",
       "      <td>Genesis Scottish Open</td>\n",
       "    </tr>\n",
       "    <tr>\n",
       "      <th>1</th>\n",
       "      <td>Aaron Baddeley</td>\n",
       "      <td>5</td>\n",
       "      <td>2</td>\n",
       "      <td>45.94</td>\n",
       "      <td>40.0</td>\n",
       "      <td>9.19</td>\n",
       "      <td>1</td>\n",
       "      <td>2022-07-10</td>\n",
       "      <td>Genesis Scottish Open</td>\n",
       "    </tr>\n",
       "    <tr>\n",
       "      <th>2</th>\n",
       "      <td>Aaron Beverly</td>\n",
       "      <td>1</td>\n",
       "      <td>0</td>\n",
       "      <td>0.00</td>\n",
       "      <td>0.0</td>\n",
       "      <td>0.00</td>\n",
       "      <td>0</td>\n",
       "      <td>2022-07-10</td>\n",
       "      <td>Genesis Scottish Open</td>\n",
       "    </tr>\n",
       "  </tbody>\n",
       "</table>\n",
       "</div>"
      ],
      "text/plain": [
       "           PLAYER  TOTAL_EVENTS_PLAYED  CUTS_MADE  FEDEX_CUP_POINTS  \\\n",
       "0      A.J. Ewart                    1          0              0.00   \n",
       "1  Aaron Baddeley                    5          2             45.94   \n",
       "2   Aaron Beverly                    1          0              0.00   \n",
       "\n",
       "   CUT_PERCENTAGE  form_density  CONSECUTIVE_CUTS ENDING_DATE  \\\n",
       "0             0.0          0.00                 0  2022-07-10   \n",
       "1            40.0          9.19                 1  2022-07-10   \n",
       "2             0.0          0.00                 0  2022-07-10   \n",
       "\n",
       "              TOURNAMENT  \n",
       "0  Genesis Scottish Open  \n",
       "1  Genesis Scottish Open  \n",
       "2  Genesis Scottish Open  "
      ]
     },
     "metadata": {},
     "output_type": "display_data"
    },
    {
     "name": "stdout",
     "output_type": "stream",
     "text": [
      "\n",
      "📆 2023-07-16 — Genesis Scottish Open (539 players)\n"
     ]
    },
    {
     "data": {
      "text/html": [
       "<div>\n",
       "<style scoped>\n",
       "    .dataframe tbody tr th:only-of-type {\n",
       "        vertical-align: middle;\n",
       "    }\n",
       "\n",
       "    .dataframe tbody tr th {\n",
       "        vertical-align: top;\n",
       "    }\n",
       "\n",
       "    .dataframe thead th {\n",
       "        text-align: right;\n",
       "    }\n",
       "</style>\n",
       "<table border=\"1\" class=\"dataframe\">\n",
       "  <thead>\n",
       "    <tr style=\"text-align: right;\">\n",
       "      <th></th>\n",
       "      <th>PLAYER</th>\n",
       "      <th>TOTAL_EVENTS_PLAYED</th>\n",
       "      <th>CUTS_MADE</th>\n",
       "      <th>FEDEX_CUP_POINTS</th>\n",
       "      <th>CUT_PERCENTAGE</th>\n",
       "      <th>form_density</th>\n",
       "      <th>CONSECUTIVE_CUTS</th>\n",
       "      <th>ENDING_DATE</th>\n",
       "      <th>TOURNAMENT</th>\n",
       "    </tr>\n",
       "  </thead>\n",
       "  <tbody>\n",
       "    <tr>\n",
       "      <th>0</th>\n",
       "      <td>Aaron Baddeley</td>\n",
       "      <td>16</td>\n",
       "      <td>11</td>\n",
       "      <td>349.536</td>\n",
       "      <td>68.8</td>\n",
       "      <td>21.85</td>\n",
       "      <td>1</td>\n",
       "      <td>2023-07-16</td>\n",
       "      <td>Genesis Scottish Open</td>\n",
       "    </tr>\n",
       "    <tr>\n",
       "      <th>1</th>\n",
       "      <td>Aaron Beverly</td>\n",
       "      <td>1</td>\n",
       "      <td>1</td>\n",
       "      <td>0.000</td>\n",
       "      <td>100.0</td>\n",
       "      <td>0.00</td>\n",
       "      <td>1</td>\n",
       "      <td>2023-07-16</td>\n",
       "      <td>Genesis Scottish Open</td>\n",
       "    </tr>\n",
       "    <tr>\n",
       "      <th>2</th>\n",
       "      <td>Aaron Cockerill</td>\n",
       "      <td>1</td>\n",
       "      <td>0</td>\n",
       "      <td>0.000</td>\n",
       "      <td>0.0</td>\n",
       "      <td>0.00</td>\n",
       "      <td>0</td>\n",
       "      <td>2023-07-16</td>\n",
       "      <td>Genesis Scottish Open</td>\n",
       "    </tr>\n",
       "  </tbody>\n",
       "</table>\n",
       "</div>"
      ],
      "text/plain": [
       "            PLAYER  TOTAL_EVENTS_PLAYED  CUTS_MADE  FEDEX_CUP_POINTS  \\\n",
       "0   Aaron Baddeley                   16         11           349.536   \n",
       "1    Aaron Beverly                    1          1             0.000   \n",
       "2  Aaron Cockerill                    1          0             0.000   \n",
       "\n",
       "   CUT_PERCENTAGE  form_density  CONSECUTIVE_CUTS ENDING_DATE  \\\n",
       "0            68.8         21.85                 1  2023-07-16   \n",
       "1           100.0          0.00                 1  2023-07-16   \n",
       "2             0.0          0.00                 0  2023-07-16   \n",
       "\n",
       "              TOURNAMENT  \n",
       "0  Genesis Scottish Open  \n",
       "1  Genesis Scottish Open  \n",
       "2  Genesis Scottish Open  "
      ]
     },
     "metadata": {},
     "output_type": "display_data"
    },
    {
     "name": "stdout",
     "output_type": "stream",
     "text": [
      "\n",
      "📆 2024-07-14 — Genesis Scottish Open (507 players)\n"
     ]
    },
    {
     "data": {
      "text/html": [
       "<div>\n",
       "<style scoped>\n",
       "    .dataframe tbody tr th:only-of-type {\n",
       "        vertical-align: middle;\n",
       "    }\n",
       "\n",
       "    .dataframe tbody tr th {\n",
       "        vertical-align: top;\n",
       "    }\n",
       "\n",
       "    .dataframe thead th {\n",
       "        text-align: right;\n",
       "    }\n",
       "</style>\n",
       "<table border=\"1\" class=\"dataframe\">\n",
       "  <thead>\n",
       "    <tr style=\"text-align: right;\">\n",
       "      <th></th>\n",
       "      <th>PLAYER</th>\n",
       "      <th>TOTAL_EVENTS_PLAYED</th>\n",
       "      <th>CUTS_MADE</th>\n",
       "      <th>FEDEX_CUP_POINTS</th>\n",
       "      <th>CUT_PERCENTAGE</th>\n",
       "      <th>form_density</th>\n",
       "      <th>CONSECUTIVE_CUTS</th>\n",
       "      <th>ENDING_DATE</th>\n",
       "      <th>TOURNAMENT</th>\n",
       "    </tr>\n",
       "  </thead>\n",
       "  <tbody>\n",
       "    <tr>\n",
       "      <th>0</th>\n",
       "      <td>Aaron Baddeley</td>\n",
       "      <td>14</td>\n",
       "      <td>10</td>\n",
       "      <td>184.725</td>\n",
       "      <td>71.4</td>\n",
       "      <td>13.19</td>\n",
       "      <td>1</td>\n",
       "      <td>2024-07-14</td>\n",
       "      <td>Genesis Scottish Open</td>\n",
       "    </tr>\n",
       "    <tr>\n",
       "      <th>1</th>\n",
       "      <td>Aaron Cockerill</td>\n",
       "      <td>1</td>\n",
       "      <td>0</td>\n",
       "      <td>0.000</td>\n",
       "      <td>0.0</td>\n",
       "      <td>0.00</td>\n",
       "      <td>0</td>\n",
       "      <td>2024-07-14</td>\n",
       "      <td>Genesis Scottish Open</td>\n",
       "    </tr>\n",
       "    <tr>\n",
       "      <th>2</th>\n",
       "      <td>Aaron Rai</td>\n",
       "      <td>18</td>\n",
       "      <td>15</td>\n",
       "      <td>808.257</td>\n",
       "      <td>83.3</td>\n",
       "      <td>44.90</td>\n",
       "      <td>9</td>\n",
       "      <td>2024-07-14</td>\n",
       "      <td>Genesis Scottish Open</td>\n",
       "    </tr>\n",
       "  </tbody>\n",
       "</table>\n",
       "</div>"
      ],
      "text/plain": [
       "            PLAYER  TOTAL_EVENTS_PLAYED  CUTS_MADE  FEDEX_CUP_POINTS  \\\n",
       "0   Aaron Baddeley                   14         10           184.725   \n",
       "1  Aaron Cockerill                    1          0             0.000   \n",
       "2        Aaron Rai                   18         15           808.257   \n",
       "\n",
       "   CUT_PERCENTAGE  form_density  CONSECUTIVE_CUTS ENDING_DATE  \\\n",
       "0            71.4         13.19                 1  2024-07-14   \n",
       "1             0.0          0.00                 0  2024-07-14   \n",
       "2            83.3         44.90                 9  2024-07-14   \n",
       "\n",
       "              TOURNAMENT  \n",
       "0  Genesis Scottish Open  \n",
       "1  Genesis Scottish Open  \n",
       "2  Genesis Scottish Open  "
      ]
     },
     "metadata": {},
     "output_type": "display_data"
    }
   ],
   "source": [
    "importlib.reload(utils.db_utils)\n",
    "from utils.db_utils import get_cut_and_fedex_history\n",
    "\n",
    "cuts = get_cut_and_fedex_history(\"data/golf.db\", history_df, window_months=9)\n",
    "# cuts[\"2024-05-12\"].head(20)\n",
    "\n",
    "for end_date, df in cuts.items():\n",
    "    print(f\"\\n📆 {end_date} — {df['TOURNAMENT'].iloc[0]} ({len(df)} players)\")\n",
    "    display(df.head(3))"
   ]
  },
  {
   "cell_type": "markdown",
   "id": "ce90fa05",
   "metadata": {},
   "source": [
    "### Recent Form"
   ]
  },
  {
   "cell_type": "code",
   "execution_count": 6,
   "id": "20095a72",
   "metadata": {},
   "outputs": [
    {
     "name": "stdout",
     "output_type": "stream",
     "text": [
      "\n",
      "📆 2022-07-10 — Genesis Scottish Open (525 players)\n"
     ]
    },
    {
     "data": {
      "text/html": [
       "<div>\n",
       "<style scoped>\n",
       "    .dataframe tbody tr th:only-of-type {\n",
       "        vertical-align: middle;\n",
       "    }\n",
       "\n",
       "    .dataframe tbody tr th {\n",
       "        vertical-align: top;\n",
       "    }\n",
       "\n",
       "    .dataframe thead th {\n",
       "        text-align: right;\n",
       "    }\n",
       "</style>\n",
       "<table border=\"1\" class=\"dataframe\">\n",
       "  <thead>\n",
       "    <tr style=\"text-align: right;\">\n",
       "      <th></th>\n",
       "      <th>PLAYER</th>\n",
       "      <th>TOTAL_EVENTS_PLAYED</th>\n",
       "      <th>RECENT_FORM</th>\n",
       "      <th>adj_form</th>\n",
       "      <th>ENDING_DATE</th>\n",
       "      <th>TOURNAMENT</th>\n",
       "    </tr>\n",
       "  </thead>\n",
       "  <tbody>\n",
       "    <tr>\n",
       "      <th>0</th>\n",
       "      <td>Chris Gotterup</td>\n",
       "      <td>1</td>\n",
       "      <td>4.0</td>\n",
       "      <td>5.77</td>\n",
       "      <td>2022-07-10</td>\n",
       "      <td>Genesis Scottish Open</td>\n",
       "    </tr>\n",
       "    <tr>\n",
       "      <th>1</th>\n",
       "      <td>Haotong Li</td>\n",
       "      <td>1</td>\n",
       "      <td>12.0</td>\n",
       "      <td>17.31</td>\n",
       "      <td>2022-07-10</td>\n",
       "      <td>Genesis Scottish Open</td>\n",
       "    </tr>\n",
       "    <tr>\n",
       "      <th>2</th>\n",
       "      <td>Martin Contini</td>\n",
       "      <td>1</td>\n",
       "      <td>16.0</td>\n",
       "      <td>23.08</td>\n",
       "      <td>2022-07-10</td>\n",
       "      <td>Genesis Scottish Open</td>\n",
       "    </tr>\n",
       "  </tbody>\n",
       "</table>\n",
       "</div>"
      ],
      "text/plain": [
       "           PLAYER  TOTAL_EVENTS_PLAYED  RECENT_FORM  adj_form ENDING_DATE  \\\n",
       "0  Chris Gotterup                    1          4.0      5.77  2022-07-10   \n",
       "1      Haotong Li                    1         12.0     17.31  2022-07-10   \n",
       "2  Martin Contini                    1         16.0     23.08  2022-07-10   \n",
       "\n",
       "              TOURNAMENT  \n",
       "0  Genesis Scottish Open  \n",
       "1  Genesis Scottish Open  \n",
       "2  Genesis Scottish Open  "
      ]
     },
     "metadata": {},
     "output_type": "display_data"
    },
    {
     "name": "stdout",
     "output_type": "stream",
     "text": [
      "\n",
      "📆 2023-07-16 — Genesis Scottish Open (539 players)\n"
     ]
    },
    {
     "data": {
      "text/html": [
       "<div>\n",
       "<style scoped>\n",
       "    .dataframe tbody tr th:only-of-type {\n",
       "        vertical-align: middle;\n",
       "    }\n",
       "\n",
       "    .dataframe tbody tr th {\n",
       "        vertical-align: top;\n",
       "    }\n",
       "\n",
       "    .dataframe thead th {\n",
       "        text-align: right;\n",
       "    }\n",
       "</style>\n",
       "<table border=\"1\" class=\"dataframe\">\n",
       "  <thead>\n",
       "    <tr style=\"text-align: right;\">\n",
       "      <th></th>\n",
       "      <th>PLAYER</th>\n",
       "      <th>TOTAL_EVENTS_PLAYED</th>\n",
       "      <th>RECENT_FORM</th>\n",
       "      <th>adj_form</th>\n",
       "      <th>ENDING_DATE</th>\n",
       "      <th>TOURNAMENT</th>\n",
       "    </tr>\n",
       "  </thead>\n",
       "  <tbody>\n",
       "    <tr>\n",
       "      <th>0</th>\n",
       "      <td>Brooks Koepka</td>\n",
       "      <td>3</td>\n",
       "      <td>6.7</td>\n",
       "      <td>4.83</td>\n",
       "      <td>2023-07-16</td>\n",
       "      <td>Genesis Scottish Open</td>\n",
       "    </tr>\n",
       "    <tr>\n",
       "      <th>1</th>\n",
       "      <td>Scottie Scheffler</td>\n",
       "      <td>18</td>\n",
       "      <td>7.6</td>\n",
       "      <td>2.58</td>\n",
       "      <td>2023-07-16</td>\n",
       "      <td>Genesis Scottish Open</td>\n",
       "    </tr>\n",
       "    <tr>\n",
       "      <th>2</th>\n",
       "      <td>Ryo Hisatsune</td>\n",
       "      <td>1</td>\n",
       "      <td>12.0</td>\n",
       "      <td>17.31</td>\n",
       "      <td>2023-07-16</td>\n",
       "      <td>Genesis Scottish Open</td>\n",
       "    </tr>\n",
       "  </tbody>\n",
       "</table>\n",
       "</div>"
      ],
      "text/plain": [
       "              PLAYER  TOTAL_EVENTS_PLAYED  RECENT_FORM  adj_form ENDING_DATE  \\\n",
       "0      Brooks Koepka                    3          6.7      4.83  2023-07-16   \n",
       "1  Scottie Scheffler                   18          7.6      2.58  2023-07-16   \n",
       "2      Ryo Hisatsune                    1         12.0     17.31  2023-07-16   \n",
       "\n",
       "              TOURNAMENT  \n",
       "0  Genesis Scottish Open  \n",
       "1  Genesis Scottish Open  \n",
       "2  Genesis Scottish Open  "
      ]
     },
     "metadata": {},
     "output_type": "display_data"
    },
    {
     "name": "stdout",
     "output_type": "stream",
     "text": [
      "\n",
      "📆 2024-07-14 — Genesis Scottish Open (507 players)\n"
     ]
    },
    {
     "data": {
      "text/html": [
       "<div>\n",
       "<style scoped>\n",
       "    .dataframe tbody tr th:only-of-type {\n",
       "        vertical-align: middle;\n",
       "    }\n",
       "\n",
       "    .dataframe tbody tr th {\n",
       "        vertical-align: top;\n",
       "    }\n",
       "\n",
       "    .dataframe thead th {\n",
       "        text-align: right;\n",
       "    }\n",
       "</style>\n",
       "<table border=\"1\" class=\"dataframe\">\n",
       "  <thead>\n",
       "    <tr style=\"text-align: right;\">\n",
       "      <th></th>\n",
       "      <th>PLAYER</th>\n",
       "      <th>TOTAL_EVENTS_PLAYED</th>\n",
       "      <th>RECENT_FORM</th>\n",
       "      <th>adj_form</th>\n",
       "      <th>ENDING_DATE</th>\n",
       "      <th>TOURNAMENT</th>\n",
       "    </tr>\n",
       "  </thead>\n",
       "  <tbody>\n",
       "    <tr>\n",
       "      <th>0</th>\n",
       "      <td>Bryson DeChambeau</td>\n",
       "      <td>3</td>\n",
       "      <td>3.0</td>\n",
       "      <td>2.16</td>\n",
       "      <td>2024-07-14</td>\n",
       "      <td>Genesis Scottish Open</td>\n",
       "    </tr>\n",
       "    <tr>\n",
       "      <th>1</th>\n",
       "      <td>Scottie Scheffler</td>\n",
       "      <td>16</td>\n",
       "      <td>6.3</td>\n",
       "      <td>2.22</td>\n",
       "      <td>2024-07-14</td>\n",
       "      <td>Genesis Scottish Open</td>\n",
       "    </tr>\n",
       "    <tr>\n",
       "      <th>2</th>\n",
       "      <td>Xander Schauffele</td>\n",
       "      <td>16</td>\n",
       "      <td>12.9</td>\n",
       "      <td>4.55</td>\n",
       "      <td>2024-07-14</td>\n",
       "      <td>Genesis Scottish Open</td>\n",
       "    </tr>\n",
       "  </tbody>\n",
       "</table>\n",
       "</div>"
      ],
      "text/plain": [
       "              PLAYER  TOTAL_EVENTS_PLAYED  RECENT_FORM  adj_form ENDING_DATE  \\\n",
       "0  Bryson DeChambeau                    3          3.0      2.16  2024-07-14   \n",
       "1  Scottie Scheffler                   16          6.3      2.22  2024-07-14   \n",
       "2  Xander Schauffele                   16         12.9      4.55  2024-07-14   \n",
       "\n",
       "              TOURNAMENT  \n",
       "0  Genesis Scottish Open  \n",
       "1  Genesis Scottish Open  \n",
       "2  Genesis Scottish Open  "
      ]
     },
     "metadata": {},
     "output_type": "display_data"
    }
   ],
   "source": [
    "importlib.reload(utils.db_utils)\n",
    "from utils.db_utils import get_recent_avg_finish\n",
    "\n",
    "recent_form = get_recent_avg_finish(\"data/golf.db\", history_df, window_months=9)\n",
    "\n",
    "# Example preview\n",
    "for date, df in recent_form.items(): \n",
    "    print(f\"\\n📆 {date} — {df['TOURNAMENT'].iloc[0]} ({len(df)} players)\")\n",
    "    display(df.head(3))"
   ]
  },
  {
   "cell_type": "markdown",
   "id": "76a77f44",
   "metadata": {},
   "source": [
    "### Course History"
   ]
  },
  {
   "cell_type": "code",
   "execution_count": 7,
   "id": "7412401a",
   "metadata": {},
   "outputs": [
    {
     "name": "stdout",
     "output_type": "stream",
     "text": [
      "\n",
      "🏌️‍♂️ Course history for Genesis Scottish Open on 2023-07-16\n"
     ]
    },
    {
     "data": {
      "text/html": [
       "<div>\n",
       "<style scoped>\n",
       "    .dataframe tbody tr th:only-of-type {\n",
       "        vertical-align: middle;\n",
       "    }\n",
       "\n",
       "    .dataframe tbody tr th {\n",
       "        vertical-align: top;\n",
       "    }\n",
       "\n",
       "    .dataframe thead th {\n",
       "        text-align: right;\n",
       "    }\n",
       "</style>\n",
       "<table border=\"1\" class=\"dataframe\">\n",
       "  <thead>\n",
       "    <tr style=\"text-align: right;\">\n",
       "      <th></th>\n",
       "      <th>PLAYER</th>\n",
       "      <th>TOTAL_EVENTS_PLAYED</th>\n",
       "      <th>COURSE_HISTORY</th>\n",
       "      <th>adj_ch</th>\n",
       "      <th>ENDING_DATE</th>\n",
       "      <th>COURSE</th>\n",
       "      <th>TOURNAMENT</th>\n",
       "    </tr>\n",
       "  </thead>\n",
       "  <tbody>\n",
       "    <tr>\n",
       "      <th>0</th>\n",
       "      <td>Aaron Wise</td>\n",
       "      <td>1</td>\n",
       "      <td>5.0</td>\n",
       "      <td>7.21</td>\n",
       "      <td>2023-07-16</td>\n",
       "      <td>The Renaissance Club</td>\n",
       "      <td>Genesis Scottish Open</td>\n",
       "    </tr>\n",
       "    <tr>\n",
       "      <th>1</th>\n",
       "      <td>Abraham Ancer</td>\n",
       "      <td>1</td>\n",
       "      <td>14.0</td>\n",
       "      <td>20.20</td>\n",
       "      <td>2023-07-16</td>\n",
       "      <td>The Renaissance Club</td>\n",
       "      <td>Genesis Scottish Open</td>\n",
       "    </tr>\n",
       "    <tr>\n",
       "      <th>2</th>\n",
       "      <td>Adam Scott</td>\n",
       "      <td>1</td>\n",
       "      <td>5.0</td>\n",
       "      <td>7.21</td>\n",
       "      <td>2023-07-16</td>\n",
       "      <td>The Renaissance Club</td>\n",
       "      <td>Genesis Scottish Open</td>\n",
       "    </tr>\n",
       "  </tbody>\n",
       "</table>\n",
       "</div>"
      ],
      "text/plain": [
       "          PLAYER  TOTAL_EVENTS_PLAYED  COURSE_HISTORY  adj_ch ENDING_DATE  \\\n",
       "0     Aaron Wise                    1             5.0    7.21  2023-07-16   \n",
       "1  Abraham Ancer                    1            14.0   20.20  2023-07-16   \n",
       "2     Adam Scott                    1             5.0    7.21  2023-07-16   \n",
       "\n",
       "                 COURSE             TOURNAMENT  \n",
       "0  The Renaissance Club  Genesis Scottish Open  \n",
       "1  The Renaissance Club  Genesis Scottish Open  \n",
       "2  The Renaissance Club  Genesis Scottish Open  "
      ]
     },
     "metadata": {},
     "output_type": "display_data"
    },
    {
     "name": "stdout",
     "output_type": "stream",
     "text": [
      "\n",
      "🏌️‍♂️ Course history for Genesis Scottish Open on 2024-07-14\n"
     ]
    },
    {
     "data": {
      "text/html": [
       "<div>\n",
       "<style scoped>\n",
       "    .dataframe tbody tr th:only-of-type {\n",
       "        vertical-align: middle;\n",
       "    }\n",
       "\n",
       "    .dataframe tbody tr th {\n",
       "        vertical-align: top;\n",
       "    }\n",
       "\n",
       "    .dataframe thead th {\n",
       "        text-align: right;\n",
       "    }\n",
       "</style>\n",
       "<table border=\"1\" class=\"dataframe\">\n",
       "  <thead>\n",
       "    <tr style=\"text-align: right;\">\n",
       "      <th></th>\n",
       "      <th>PLAYER</th>\n",
       "      <th>TOTAL_EVENTS_PLAYED</th>\n",
       "      <th>COURSE_HISTORY</th>\n",
       "      <th>adj_ch</th>\n",
       "      <th>ENDING_DATE</th>\n",
       "      <th>COURSE</th>\n",
       "      <th>TOURNAMENT</th>\n",
       "    </tr>\n",
       "  </thead>\n",
       "  <tbody>\n",
       "    <tr>\n",
       "      <th>0</th>\n",
       "      <td>Aaron Baddeley</td>\n",
       "      <td>1</td>\n",
       "      <td>90.0</td>\n",
       "      <td>129.84</td>\n",
       "      <td>2024-07-14</td>\n",
       "      <td>The Renaissance Club</td>\n",
       "      <td>Genesis Scottish Open</td>\n",
       "    </tr>\n",
       "    <tr>\n",
       "      <th>1</th>\n",
       "      <td>Aaron Rai</td>\n",
       "      <td>1</td>\n",
       "      <td>90.0</td>\n",
       "      <td>129.84</td>\n",
       "      <td>2024-07-14</td>\n",
       "      <td>The Renaissance Club</td>\n",
       "      <td>Genesis Scottish Open</td>\n",
       "    </tr>\n",
       "    <tr>\n",
       "      <th>2</th>\n",
       "      <td>Aaron Wise</td>\n",
       "      <td>1</td>\n",
       "      <td>5.0</td>\n",
       "      <td>7.21</td>\n",
       "      <td>2024-07-14</td>\n",
       "      <td>The Renaissance Club</td>\n",
       "      <td>Genesis Scottish Open</td>\n",
       "    </tr>\n",
       "  </tbody>\n",
       "</table>\n",
       "</div>"
      ],
      "text/plain": [
       "           PLAYER  TOTAL_EVENTS_PLAYED  COURSE_HISTORY  adj_ch ENDING_DATE  \\\n",
       "0  Aaron Baddeley                    1            90.0  129.84  2024-07-14   \n",
       "1       Aaron Rai                    1            90.0  129.84  2024-07-14   \n",
       "2      Aaron Wise                    1             5.0    7.21  2024-07-14   \n",
       "\n",
       "                 COURSE             TOURNAMENT  \n",
       "0  The Renaissance Club  Genesis Scottish Open  \n",
       "1  The Renaissance Club  Genesis Scottish Open  \n",
       "2  The Renaissance Club  Genesis Scottish Open  "
      ]
     },
     "metadata": {},
     "output_type": "display_data"
    }
   ],
   "source": [
    "importlib.reload(utils.db_utils)\n",
    "from utils.db_utils import get_course_history\n",
    "\n",
    "# Filter history_df for only the course we're targeting\n",
    "target_course = tournament_config[\"new\"][\"course\"]\n",
    "course_df = history_df[history_df[\"COURSE\"] == target_course]\n",
    "course_hist = get_course_history(\"data/golf.db\", course_df)\n",
    "\n",
    "# View example\n",
    "for date, df in course_hist.items():\n",
    "    if not df.empty:\n",
    "        print(f\"\\n🏌️‍♂️ Course history for {df['TOURNAMENT'].iloc[0]} on {date}\")\n",
    "        display(df.head(3))"
   ]
  },
  {
   "cell_type": "code",
   "execution_count": 8,
   "id": "bb9221e1",
   "metadata": {},
   "outputs": [
    {
     "name": "stdout",
     "output_type": "stream",
     "text": [
      "ℹ️ Empty course_hist for date 2022-07-10\n"
     ]
    }
   ],
   "source": [
    "#  DEBUGGING: Check for empty DataFrames or missing columns\n",
    "for date_key, df in course_hist.items():\n",
    "    if df.empty:\n",
    "        print(f\"ℹ️ Empty course_hist for date {date_key}\")\n",
    "    elif \"PLAYER\" not in df.columns:\n",
    "        print(f\"❌ Missing 'PLAYER' column in course_hist[{date_key}]. Columns present: {df.columns.tolist()}\")\n",
    "        display(df.head())"
   ]
  },
  {
   "cell_type": "markdown",
   "id": "e8fa7578",
   "metadata": {},
   "source": [
    "## Training Dataset"
   ]
  },
  {
   "cell_type": "code",
   "execution_count": 9,
   "id": "a4277295",
   "metadata": {},
   "outputs": [
    {
     "data": {
      "text/html": [
       "<div>\n",
       "<style scoped>\n",
       "    .dataframe tbody tr th:only-of-type {\n",
       "        vertical-align: middle;\n",
       "    }\n",
       "\n",
       "    .dataframe tbody tr th {\n",
       "        vertical-align: top;\n",
       "    }\n",
       "\n",
       "    .dataframe thead th {\n",
       "        text-align: right;\n",
       "    }\n",
       "</style>\n",
       "<table border=\"1\" class=\"dataframe\">\n",
       "  <thead>\n",
       "    <tr style=\"text-align: right;\">\n",
       "      <th></th>\n",
       "      <th>SEASON</th>\n",
       "      <th>ENDING_DATE</th>\n",
       "      <th>TOURNAMENT</th>\n",
       "      <th>COURSE</th>\n",
       "      <th>PLAYER</th>\n",
       "      <th>POS</th>\n",
       "      <th>FINAL_POS</th>\n",
       "      <th>SGTTG_RANK</th>\n",
       "      <th>SGTTG</th>\n",
       "      <th>SGOTT_RANK</th>\n",
       "      <th>SGOTT</th>\n",
       "      <th>SGAPR_RANK</th>\n",
       "      <th>SGAPR</th>\n",
       "      <th>SGATG_RANK</th>\n",
       "      <th>SGATG</th>\n",
       "      <th>SGP_RANK</th>\n",
       "      <th>SGP</th>\n",
       "      <th>BIRDIES_RANK</th>\n",
       "      <th>BIRDIES</th>\n",
       "      <th>PAR_3_RANK</th>\n",
       "      <th>PAR_3</th>\n",
       "      <th>PAR_4_RANK</th>\n",
       "      <th>PAR_4</th>\n",
       "      <th>PAR_5_RANK</th>\n",
       "      <th>PAR_5</th>\n",
       "      <th>TOTAL_DRIVING_RANK</th>\n",
       "      <th>TOTAL_DRIVING</th>\n",
       "      <th>DRIVING_DISTANCE_RANK</th>\n",
       "      <th>DRIVING_DISTANCE</th>\n",
       "      <th>DRIVING_ACCURACY_RANK</th>\n",
       "      <th>DRIVING_ACCURACY</th>\n",
       "      <th>GIR_RANK</th>\n",
       "      <th>GIR</th>\n",
       "      <th>SCRAMBLING_RANK</th>\n",
       "      <th>SCRAMBLING</th>\n",
       "      <th>OWGR_RANK</th>\n",
       "      <th>OWGR</th>\n",
       "      <th>VEGAS_ODDS</th>\n",
       "      <th>CUT_PERCENTAGE</th>\n",
       "      <th>FEDEX_CUP_POINTS</th>\n",
       "      <th>form_density</th>\n",
       "      <th>CONSECUTIVE_CUTS</th>\n",
       "      <th>RECENT_FORM</th>\n",
       "      <th>adj_form</th>\n",
       "      <th>COURSE_HISTORY</th>\n",
       "      <th>adj_ch</th>\n",
       "      <th>TOP_20</th>\n",
       "    </tr>\n",
       "  </thead>\n",
       "  <tbody>\n",
       "    <tr>\n",
       "      <th>0</th>\n",
       "      <td>2022</td>\n",
       "      <td>2022-07-10</td>\n",
       "      <td>Genesis Scottish Open</td>\n",
       "      <td>The Renaissance Club</td>\n",
       "      <td>Aaron Wise</td>\n",
       "      <td>T5</td>\n",
       "      <td>5</td>\n",
       "      <td>25.0</td>\n",
       "      <td>0.952</td>\n",
       "      <td>31.0</td>\n",
       "      <td>0.387</td>\n",
       "      <td>21.0</td>\n",
       "      <td>0.489</td>\n",
       "      <td>85.0</td>\n",
       "      <td>0.076</td>\n",
       "      <td>81.0</td>\n",
       "      <td>0.100</td>\n",
       "      <td>22.0</td>\n",
       "      <td>23.39</td>\n",
       "      <td>4.0</td>\n",
       "      <td>2.98</td>\n",
       "      <td>25.0</td>\n",
       "      <td>3.99</td>\n",
       "      <td>24.0</td>\n",
       "      <td>4.55</td>\n",
       "      <td>44.0</td>\n",
       "      <td>154.0</td>\n",
       "      <td>39.0</td>\n",
       "      <td>308.3</td>\n",
       "      <td>115.0</td>\n",
       "      <td>59.15</td>\n",
       "      <td>21.0</td>\n",
       "      <td>69.06</td>\n",
       "      <td>31.0</td>\n",
       "      <td>62.63</td>\n",
       "      <td>37.0</td>\n",
       "      <td>2.69</td>\n",
       "      <td>NaN</td>\n",
       "      <td>72.2</td>\n",
       "      <td>846.11</td>\n",
       "      <td>47.01</td>\n",
       "      <td>0.0</td>\n",
       "      <td>42.7</td>\n",
       "      <td>14.50</td>\n",
       "      <td>NaN</td>\n",
       "      <td>NaN</td>\n",
       "      <td>1</td>\n",
       "    </tr>\n",
       "    <tr>\n",
       "      <th>1</th>\n",
       "      <td>2022</td>\n",
       "      <td>2022-07-10</td>\n",
       "      <td>Genesis Scottish Open</td>\n",
       "      <td>The Renaissance Club</td>\n",
       "      <td>Abraham Ancer</td>\n",
       "      <td>T14</td>\n",
       "      <td>14</td>\n",
       "      <td>122.0</td>\n",
       "      <td>-0.026</td>\n",
       "      <td>29.0</td>\n",
       "      <td>0.395</td>\n",
       "      <td>109.0</td>\n",
       "      <td>0.026</td>\n",
       "      <td>189.0</td>\n",
       "      <td>-0.447</td>\n",
       "      <td>62.0</td>\n",
       "      <td>0.165</td>\n",
       "      <td>61.0</td>\n",
       "      <td>21.84</td>\n",
       "      <td>62.0</td>\n",
       "      <td>3.04</td>\n",
       "      <td>25.0</td>\n",
       "      <td>3.99</td>\n",
       "      <td>81.0</td>\n",
       "      <td>4.62</td>\n",
       "      <td>18.0</td>\n",
       "      <td>124.0</td>\n",
       "      <td>120.0</td>\n",
       "      <td>297.1</td>\n",
       "      <td>4.0</td>\n",
       "      <td>70.54</td>\n",
       "      <td>77.0</td>\n",
       "      <td>66.86</td>\n",
       "      <td>64.0</td>\n",
       "      <td>60.69</td>\n",
       "      <td>24.0</td>\n",
       "      <td>3.21</td>\n",
       "      <td>NaN</td>\n",
       "      <td>68.8</td>\n",
       "      <td>338.30</td>\n",
       "      <td>21.14</td>\n",
       "      <td>1.0</td>\n",
       "      <td>50.0</td>\n",
       "      <td>17.65</td>\n",
       "      <td>NaN</td>\n",
       "      <td>NaN</td>\n",
       "      <td>1</td>\n",
       "    </tr>\n",
       "    <tr>\n",
       "      <th>2</th>\n",
       "      <td>2022</td>\n",
       "      <td>2022-07-10</td>\n",
       "      <td>Genesis Scottish Open</td>\n",
       "      <td>The Renaissance Club</td>\n",
       "      <td>Adam Scott</td>\n",
       "      <td>T5</td>\n",
       "      <td>5</td>\n",
       "      <td>66.0</td>\n",
       "      <td>0.340</td>\n",
       "      <td>68.0</td>\n",
       "      <td>0.158</td>\n",
       "      <td>53.0</td>\n",
       "      <td>0.256</td>\n",
       "      <td>136.0</td>\n",
       "      <td>-0.075</td>\n",
       "      <td>41.0</td>\n",
       "      <td>0.279</td>\n",
       "      <td>30.0</td>\n",
       "      <td>23.07</td>\n",
       "      <td>161.0</td>\n",
       "      <td>3.10</td>\n",
       "      <td>25.0</td>\n",
       "      <td>3.99</td>\n",
       "      <td>29.0</td>\n",
       "      <td>4.56</td>\n",
       "      <td>70.0</td>\n",
       "      <td>178.0</td>\n",
       "      <td>15.0</td>\n",
       "      <td>312.4</td>\n",
       "      <td>163.0</td>\n",
       "      <td>55.34</td>\n",
       "      <td>55.0</td>\n",
       "      <td>67.67</td>\n",
       "      <td>133.0</td>\n",
       "      <td>57.76</td>\n",
       "      <td>30.0</td>\n",
       "      <td>2.86</td>\n",
       "      <td>NaN</td>\n",
       "      <td>84.6</td>\n",
       "      <td>408.00</td>\n",
       "      <td>31.38</td>\n",
       "      <td>2.0</td>\n",
       "      <td>41.5</td>\n",
       "      <td>15.73</td>\n",
       "      <td>NaN</td>\n",
       "      <td>NaN</td>\n",
       "      <td>1</td>\n",
       "    </tr>\n",
       "    <tr>\n",
       "      <th>3</th>\n",
       "      <td>2022</td>\n",
       "      <td>2022-07-10</td>\n",
       "      <td>Genesis Scottish Open</td>\n",
       "      <td>The Renaissance Club</td>\n",
       "      <td>Alex Noren</td>\n",
       "      <td>T59</td>\n",
       "      <td>59</td>\n",
       "      <td>113.0</td>\n",
       "      <td>0.026</td>\n",
       "      <td>112.0</td>\n",
       "      <td>-0.019</td>\n",
       "      <td>119.0</td>\n",
       "      <td>0.002</td>\n",
       "      <td>93.0</td>\n",
       "      <td>0.042</td>\n",
       "      <td>18.0</td>\n",
       "      <td>0.457</td>\n",
       "      <td>143.0</td>\n",
       "      <td>20.23</td>\n",
       "      <td>14.0</td>\n",
       "      <td>3.00</td>\n",
       "      <td>76.0</td>\n",
       "      <td>4.02</td>\n",
       "      <td>44.0</td>\n",
       "      <td>4.58</td>\n",
       "      <td>167.0</td>\n",
       "      <td>248.0</td>\n",
       "      <td>100.0</td>\n",
       "      <td>299.8</td>\n",
       "      <td>148.0</td>\n",
       "      <td>56.22</td>\n",
       "      <td>117.0</td>\n",
       "      <td>65.71</td>\n",
       "      <td>12.0</td>\n",
       "      <td>64.56</td>\n",
       "      <td>54.0</td>\n",
       "      <td>2.04</td>\n",
       "      <td>80.0</td>\n",
       "      <td>68.8</td>\n",
       "      <td>444.57</td>\n",
       "      <td>27.79</td>\n",
       "      <td>0.0</td>\n",
       "      <td>47.6</td>\n",
       "      <td>16.80</td>\n",
       "      <td>NaN</td>\n",
       "      <td>NaN</td>\n",
       "      <td>0</td>\n",
       "    </tr>\n",
       "    <tr>\n",
       "      <th>4</th>\n",
       "      <td>2022</td>\n",
       "      <td>2022-07-10</td>\n",
       "      <td>Genesis Scottish Open</td>\n",
       "      <td>The Renaissance Club</td>\n",
       "      <td>Branden Grace</td>\n",
       "      <td>T68</td>\n",
       "      <td>68</td>\n",
       "      <td>144.0</td>\n",
       "      <td>-0.290</td>\n",
       "      <td>92.0</td>\n",
       "      <td>0.028</td>\n",
       "      <td>170.0</td>\n",
       "      <td>-0.318</td>\n",
       "      <td>110.0</td>\n",
       "      <td>0.001</td>\n",
       "      <td>188.0</td>\n",
       "      <td>-0.544</td>\n",
       "      <td>177.0</td>\n",
       "      <td>19.23</td>\n",
       "      <td>155.0</td>\n",
       "      <td>3.09</td>\n",
       "      <td>122.0</td>\n",
       "      <td>4.04</td>\n",
       "      <td>157.0</td>\n",
       "      <td>4.69</td>\n",
       "      <td>142.0</td>\n",
       "      <td>225.0</td>\n",
       "      <td>127.0</td>\n",
       "      <td>296.4</td>\n",
       "      <td>98.0</td>\n",
       "      <td>60.14</td>\n",
       "      <td>129.0</td>\n",
       "      <td>65.38</td>\n",
       "      <td>86.0</td>\n",
       "      <td>59.88</td>\n",
       "      <td>155.0</td>\n",
       "      <td>1.08</td>\n",
       "      <td>100.0</td>\n",
       "      <td>41.2</td>\n",
       "      <td>147.03</td>\n",
       "      <td>8.65</td>\n",
       "      <td>0.0</td>\n",
       "      <td>69.6</td>\n",
       "      <td>24.08</td>\n",
       "      <td>NaN</td>\n",
       "      <td>NaN</td>\n",
       "      <td>0</td>\n",
       "    </tr>\n",
       "    <tr>\n",
       "      <th>5</th>\n",
       "      <td>2022</td>\n",
       "      <td>2022-07-10</td>\n",
       "      <td>Genesis Scottish Open</td>\n",
       "      <td>The Renaissance Club</td>\n",
       "      <td>Brian Harman</td>\n",
       "      <td>T72</td>\n",
       "      <td>72</td>\n",
       "      <td>46.0</td>\n",
       "      <td>0.490</td>\n",
       "      <td>75.0</td>\n",
       "      <td>0.127</td>\n",
       "      <td>66.0</td>\n",
       "      <td>0.177</td>\n",
       "      <td>49.0</td>\n",
       "      <td>0.186</td>\n",
       "      <td>77.0</td>\n",
       "      <td>0.118</td>\n",
       "      <td>146.0</td>\n",
       "      <td>20.15</td>\n",
       "      <td>155.0</td>\n",
       "      <td>3.09</td>\n",
       "      <td>17.0</td>\n",
       "      <td>3.98</td>\n",
       "      <td>118.0</td>\n",
       "      <td>4.65</td>\n",
       "      <td>73.0</td>\n",
       "      <td>180.0</td>\n",
       "      <td>159.0</td>\n",
       "      <td>292.2</td>\n",
       "      <td>21.0</td>\n",
       "      <td>66.56</td>\n",
       "      <td>71.0</td>\n",
       "      <td>67.09</td>\n",
       "      <td>28.0</td>\n",
       "      <td>62.89</td>\n",
       "      <td>36.0</td>\n",
       "      <td>2.70</td>\n",
       "      <td>100.0</td>\n",
       "      <td>75.0</td>\n",
       "      <td>572.67</td>\n",
       "      <td>28.63</td>\n",
       "      <td>3.0</td>\n",
       "      <td>49.1</td>\n",
       "      <td>16.13</td>\n",
       "      <td>NaN</td>\n",
       "      <td>NaN</td>\n",
       "      <td>0</td>\n",
       "    </tr>\n",
       "    <tr>\n",
       "      <th>6</th>\n",
       "      <td>2022</td>\n",
       "      <td>2022-07-10</td>\n",
       "      <td>Genesis Scottish Open</td>\n",
       "      <td>The Renaissance Club</td>\n",
       "      <td>Brooks Koepka</td>\n",
       "      <td>T38</td>\n",
       "      <td>38</td>\n",
       "      <td>133.0</td>\n",
       "      <td>-0.137</td>\n",
       "      <td>55.0</td>\n",
       "      <td>0.210</td>\n",
       "      <td>132.0</td>\n",
       "      <td>-0.064</td>\n",
       "      <td>173.0</td>\n",
       "      <td>-0.284</td>\n",
       "      <td>45.0</td>\n",
       "      <td>0.262</td>\n",
       "      <td>59.0</td>\n",
       "      <td>21.86</td>\n",
       "      <td>179.0</td>\n",
       "      <td>3.12</td>\n",
       "      <td>122.0</td>\n",
       "      <td>4.04</td>\n",
       "      <td>64.0</td>\n",
       "      <td>4.60</td>\n",
       "      <td>93.0</td>\n",
       "      <td>192.0</td>\n",
       "      <td>17.0</td>\n",
       "      <td>311.9</td>\n",
       "      <td>175.0</td>\n",
       "      <td>53.41</td>\n",
       "      <td>178.0</td>\n",
       "      <td>63.16</td>\n",
       "      <td>161.0</td>\n",
       "      <td>56.39</td>\n",
       "      <td>27.0</td>\n",
       "      <td>3.03</td>\n",
       "      <td>NaN</td>\n",
       "      <td>57.1</td>\n",
       "      <td>310.95</td>\n",
       "      <td>22.21</td>\n",
       "      <td>2.0</td>\n",
       "      <td>58.1</td>\n",
       "      <td>21.45</td>\n",
       "      <td>NaN</td>\n",
       "      <td>NaN</td>\n",
       "      <td>0</td>\n",
       "    </tr>\n",
       "    <tr>\n",
       "      <th>7</th>\n",
       "      <td>2022</td>\n",
       "      <td>2022-07-10</td>\n",
       "      <td>Genesis Scottish Open</td>\n",
       "      <td>The Renaissance Club</td>\n",
       "      <td>Byeong Hun An</td>\n",
       "      <td>T59</td>\n",
       "      <td>59</td>\n",
       "      <td>NaN</td>\n",
       "      <td>NaN</td>\n",
       "      <td>NaN</td>\n",
       "      <td>NaN</td>\n",
       "      <td>NaN</td>\n",
       "      <td>NaN</td>\n",
       "      <td>NaN</td>\n",
       "      <td>NaN</td>\n",
       "      <td>NaN</td>\n",
       "      <td>NaN</td>\n",
       "      <td>NaN</td>\n",
       "      <td>None</td>\n",
       "      <td>NaN</td>\n",
       "      <td>NaN</td>\n",
       "      <td>NaN</td>\n",
       "      <td>NaN</td>\n",
       "      <td>NaN</td>\n",
       "      <td>NaN</td>\n",
       "      <td>NaN</td>\n",
       "      <td>NaN</td>\n",
       "      <td>NaN</td>\n",
       "      <td>NaN</td>\n",
       "      <td>NaN</td>\n",
       "      <td>None</td>\n",
       "      <td>NaN</td>\n",
       "      <td>None</td>\n",
       "      <td>NaN</td>\n",
       "      <td>None</td>\n",
       "      <td>309.0</td>\n",
       "      <td>0.60</td>\n",
       "      <td>NaN</td>\n",
       "      <td>100.0</td>\n",
       "      <td>0.00</td>\n",
       "      <td>0.00</td>\n",
       "      <td>1.0</td>\n",
       "      <td>59.0</td>\n",
       "      <td>85.12</td>\n",
       "      <td>NaN</td>\n",
       "      <td>NaN</td>\n",
       "      <td>0</td>\n",
       "    </tr>\n",
       "    <tr>\n",
       "      <th>8</th>\n",
       "      <td>2022</td>\n",
       "      <td>2022-07-10</td>\n",
       "      <td>Genesis Scottish Open</td>\n",
       "      <td>The Renaissance Club</td>\n",
       "      <td>Cam Davis</td>\n",
       "      <td>T64</td>\n",
       "      <td>64</td>\n",
       "      <td>54.0</td>\n",
       "      <td>0.446</td>\n",
       "      <td>73.0</td>\n",
       "      <td>0.138</td>\n",
       "      <td>50.0</td>\n",
       "      <td>0.269</td>\n",
       "      <td>97.0</td>\n",
       "      <td>0.038</td>\n",
       "      <td>84.0</td>\n",
       "      <td>0.096</td>\n",
       "      <td>27.0</td>\n",
       "      <td>23.17</td>\n",
       "      <td>9.0</td>\n",
       "      <td>2.99</td>\n",
       "      <td>101.0</td>\n",
       "      <td>4.03</td>\n",
       "      <td>44.0</td>\n",
       "      <td>4.58</td>\n",
       "      <td>90.0</td>\n",
       "      <td>189.0</td>\n",
       "      <td>35.0</td>\n",
       "      <td>308.5</td>\n",
       "      <td>154.0</td>\n",
       "      <td>55.74</td>\n",
       "      <td>132.0</td>\n",
       "      <td>65.31</td>\n",
       "      <td>95.0</td>\n",
       "      <td>59.57</td>\n",
       "      <td>63.0</td>\n",
       "      <td>1.91</td>\n",
       "      <td>NaN</td>\n",
       "      <td>68.4</td>\n",
       "      <td>453.11</td>\n",
       "      <td>23.85</td>\n",
       "      <td>5.0</td>\n",
       "      <td>52.3</td>\n",
       "      <td>17.46</td>\n",
       "      <td>NaN</td>\n",
       "      <td>NaN</td>\n",
       "      <td>0</td>\n",
       "    </tr>\n",
       "    <tr>\n",
       "      <th>9</th>\n",
       "      <td>2022</td>\n",
       "      <td>2022-07-10</td>\n",
       "      <td>Genesis Scottish Open</td>\n",
       "      <td>The Renaissance Club</td>\n",
       "      <td>Cameron Smith</td>\n",
       "      <td>T9</td>\n",
       "      <td>9</td>\n",
       "      <td>28.0</td>\n",
       "      <td>0.869</td>\n",
       "      <td>136.0</td>\n",
       "      <td>-0.125</td>\n",
       "      <td>5.0</td>\n",
       "      <td>0.771</td>\n",
       "      <td>42.0</td>\n",
       "      <td>0.223</td>\n",
       "      <td>8.0</td>\n",
       "      <td>0.563</td>\n",
       "      <td>1.0</td>\n",
       "      <td>26.52</td>\n",
       "      <td>62.0</td>\n",
       "      <td>3.04</td>\n",
       "      <td>3.0</td>\n",
       "      <td>3.95</td>\n",
       "      <td>2.0</td>\n",
       "      <td>4.43</td>\n",
       "      <td>151.0</td>\n",
       "      <td>236.0</td>\n",
       "      <td>101.0</td>\n",
       "      <td>299.7</td>\n",
       "      <td>135.0</td>\n",
       "      <td>57.49</td>\n",
       "      <td>47.0</td>\n",
       "      <td>68.01</td>\n",
       "      <td>83.0</td>\n",
       "      <td>59.94</td>\n",
       "      <td>3.0</td>\n",
       "      <td>8.92</td>\n",
       "      <td>25.0</td>\n",
       "      <td>76.9</td>\n",
       "      <td>1661.75</td>\n",
       "      <td>127.83</td>\n",
       "      <td>0.0</td>\n",
       "      <td>31.5</td>\n",
       "      <td>11.94</td>\n",
       "      <td>NaN</td>\n",
       "      <td>NaN</td>\n",
       "      <td>1</td>\n",
       "    </tr>\n",
       "  </tbody>\n",
       "</table>\n",
       "</div>"
      ],
      "text/plain": [
       "   SEASON ENDING_DATE             TOURNAMENT                COURSE  \\\n",
       "0    2022  2022-07-10  Genesis Scottish Open  The Renaissance Club   \n",
       "1    2022  2022-07-10  Genesis Scottish Open  The Renaissance Club   \n",
       "2    2022  2022-07-10  Genesis Scottish Open  The Renaissance Club   \n",
       "3    2022  2022-07-10  Genesis Scottish Open  The Renaissance Club   \n",
       "4    2022  2022-07-10  Genesis Scottish Open  The Renaissance Club   \n",
       "5    2022  2022-07-10  Genesis Scottish Open  The Renaissance Club   \n",
       "6    2022  2022-07-10  Genesis Scottish Open  The Renaissance Club   \n",
       "7    2022  2022-07-10  Genesis Scottish Open  The Renaissance Club   \n",
       "8    2022  2022-07-10  Genesis Scottish Open  The Renaissance Club   \n",
       "9    2022  2022-07-10  Genesis Scottish Open  The Renaissance Club   \n",
       "\n",
       "          PLAYER  POS  FINAL_POS  SGTTG_RANK  SGTTG  SGOTT_RANK  SGOTT  \\\n",
       "0     Aaron Wise   T5          5        25.0  0.952        31.0  0.387   \n",
       "1  Abraham Ancer  T14         14       122.0 -0.026        29.0  0.395   \n",
       "2     Adam Scott   T5          5        66.0  0.340        68.0  0.158   \n",
       "3     Alex Noren  T59         59       113.0  0.026       112.0 -0.019   \n",
       "4  Branden Grace  T68         68       144.0 -0.290        92.0  0.028   \n",
       "5   Brian Harman  T72         72        46.0  0.490        75.0  0.127   \n",
       "6  Brooks Koepka  T38         38       133.0 -0.137        55.0  0.210   \n",
       "7  Byeong Hun An  T59         59         NaN    NaN         NaN    NaN   \n",
       "8      Cam Davis  T64         64        54.0  0.446        73.0  0.138   \n",
       "9  Cameron Smith   T9          9        28.0  0.869       136.0 -0.125   \n",
       "\n",
       "   SGAPR_RANK  SGAPR  SGATG_RANK  SGATG  SGP_RANK    SGP  BIRDIES_RANK  \\\n",
       "0        21.0  0.489        85.0  0.076      81.0  0.100          22.0   \n",
       "1       109.0  0.026       189.0 -0.447      62.0  0.165          61.0   \n",
       "2        53.0  0.256       136.0 -0.075      41.0  0.279          30.0   \n",
       "3       119.0  0.002        93.0  0.042      18.0  0.457         143.0   \n",
       "4       170.0 -0.318       110.0  0.001     188.0 -0.544         177.0   \n",
       "5        66.0  0.177        49.0  0.186      77.0  0.118         146.0   \n",
       "6       132.0 -0.064       173.0 -0.284      45.0  0.262          59.0   \n",
       "7         NaN    NaN         NaN    NaN       NaN    NaN           NaN   \n",
       "8        50.0  0.269        97.0  0.038      84.0  0.096          27.0   \n",
       "9         5.0  0.771        42.0  0.223       8.0  0.563           1.0   \n",
       "\n",
       "  BIRDIES  PAR_3_RANK  PAR_3  PAR_4_RANK  PAR_4  PAR_5_RANK  PAR_5  \\\n",
       "0   23.39         4.0   2.98        25.0   3.99        24.0   4.55   \n",
       "1   21.84        62.0   3.04        25.0   3.99        81.0   4.62   \n",
       "2   23.07       161.0   3.10        25.0   3.99        29.0   4.56   \n",
       "3   20.23        14.0   3.00        76.0   4.02        44.0   4.58   \n",
       "4   19.23       155.0   3.09       122.0   4.04       157.0   4.69   \n",
       "5   20.15       155.0   3.09        17.0   3.98       118.0   4.65   \n",
       "6   21.86       179.0   3.12       122.0   4.04        64.0   4.60   \n",
       "7    None         NaN    NaN         NaN    NaN         NaN    NaN   \n",
       "8   23.17         9.0   2.99       101.0   4.03        44.0   4.58   \n",
       "9   26.52        62.0   3.04         3.0   3.95         2.0   4.43   \n",
       "\n",
       "   TOTAL_DRIVING_RANK  TOTAL_DRIVING  DRIVING_DISTANCE_RANK  DRIVING_DISTANCE  \\\n",
       "0                44.0          154.0                   39.0             308.3   \n",
       "1                18.0          124.0                  120.0             297.1   \n",
       "2                70.0          178.0                   15.0             312.4   \n",
       "3               167.0          248.0                  100.0             299.8   \n",
       "4               142.0          225.0                  127.0             296.4   \n",
       "5                73.0          180.0                  159.0             292.2   \n",
       "6                93.0          192.0                   17.0             311.9   \n",
       "7                 NaN            NaN                    NaN               NaN   \n",
       "8                90.0          189.0                   35.0             308.5   \n",
       "9               151.0          236.0                  101.0             299.7   \n",
       "\n",
       "   DRIVING_ACCURACY_RANK DRIVING_ACCURACY  GIR_RANK    GIR  SCRAMBLING_RANK  \\\n",
       "0                  115.0            59.15      21.0  69.06             31.0   \n",
       "1                    4.0            70.54      77.0  66.86             64.0   \n",
       "2                  163.0            55.34      55.0  67.67            133.0   \n",
       "3                  148.0            56.22     117.0  65.71             12.0   \n",
       "4                   98.0            60.14     129.0  65.38             86.0   \n",
       "5                   21.0            66.56      71.0  67.09             28.0   \n",
       "6                  175.0            53.41     178.0  63.16            161.0   \n",
       "7                    NaN             None       NaN   None              NaN   \n",
       "8                  154.0            55.74     132.0  65.31             95.0   \n",
       "9                  135.0            57.49      47.0  68.01             83.0   \n",
       "\n",
       "  SCRAMBLING  OWGR_RANK  OWGR  VEGAS_ODDS  CUT_PERCENTAGE  FEDEX_CUP_POINTS  \\\n",
       "0      62.63       37.0  2.69         NaN            72.2            846.11   \n",
       "1      60.69       24.0  3.21         NaN            68.8            338.30   \n",
       "2      57.76       30.0  2.86         NaN            84.6            408.00   \n",
       "3      64.56       54.0  2.04        80.0            68.8            444.57   \n",
       "4      59.88      155.0  1.08       100.0            41.2            147.03   \n",
       "5      62.89       36.0  2.70       100.0            75.0            572.67   \n",
       "6      56.39       27.0  3.03         NaN            57.1            310.95   \n",
       "7       None      309.0  0.60         NaN           100.0              0.00   \n",
       "8      59.57       63.0  1.91         NaN            68.4            453.11   \n",
       "9      59.94        3.0  8.92        25.0            76.9           1661.75   \n",
       "\n",
       "   form_density  CONSECUTIVE_CUTS  RECENT_FORM  adj_form  COURSE_HISTORY  \\\n",
       "0         47.01               0.0         42.7     14.50             NaN   \n",
       "1         21.14               1.0         50.0     17.65             NaN   \n",
       "2         31.38               2.0         41.5     15.73             NaN   \n",
       "3         27.79               0.0         47.6     16.80             NaN   \n",
       "4          8.65               0.0         69.6     24.08             NaN   \n",
       "5         28.63               3.0         49.1     16.13             NaN   \n",
       "6         22.21               2.0         58.1     21.45             NaN   \n",
       "7          0.00               1.0         59.0     85.12             NaN   \n",
       "8         23.85               5.0         52.3     17.46             NaN   \n",
       "9        127.83               0.0         31.5     11.94             NaN   \n",
       "\n",
       "   adj_ch  TOP_20  \n",
       "0     NaN       1  \n",
       "1     NaN       1  \n",
       "2     NaN       1  \n",
       "3     NaN       0  \n",
       "4     NaN       0  \n",
       "5     NaN       0  \n",
       "6     NaN       0  \n",
       "7     NaN       0  \n",
       "8     NaN       0  \n",
       "9     NaN       1  "
      ]
     },
     "execution_count": 9,
     "metadata": {},
     "output_type": "execute_result"
    }
   ],
   "source": [
    "pd.set_option(\"display.max_columns\", None)   # Show all columns\n",
    "importlib.reload(utils.db_utils)\n",
    "from utils.db_utils import build_training_rows\n",
    "training_df = build_training_rows(\n",
    "    db_path,\n",
    "    history_df,\n",
    "    cuts,\n",
    "    recent_form,\n",
    "    course_hist,\n",
    ")\n",
    "training_df.head(10)\n",
    "# training_df.info()\n",
    "# training_df.isna().sum().sort_values(ascending=False)"
   ]
  },
  {
   "cell_type": "code",
   "execution_count": 10,
   "id": "c5df12cc",
   "metadata": {},
   "outputs": [
    {
     "data": {
      "text/html": [
       "<div>\n",
       "<style scoped>\n",
       "    .dataframe tbody tr th:only-of-type {\n",
       "        vertical-align: middle;\n",
       "    }\n",
       "\n",
       "    .dataframe tbody tr th {\n",
       "        vertical-align: top;\n",
       "    }\n",
       "\n",
       "    .dataframe thead th {\n",
       "        text-align: right;\n",
       "    }\n",
       "</style>\n",
       "<table border=\"1\" class=\"dataframe\">\n",
       "  <thead>\n",
       "    <tr style=\"text-align: right;\">\n",
       "      <th></th>\n",
       "      <th>SEASON</th>\n",
       "      <th>ENDING_DATE</th>\n",
       "      <th>TOURNAMENT</th>\n",
       "      <th>COURSE</th>\n",
       "      <th>PLAYER</th>\n",
       "      <th>POS</th>\n",
       "      <th>FINAL_POS</th>\n",
       "      <th>SGTTG_RANK</th>\n",
       "      <th>SGTTG</th>\n",
       "      <th>SGOTT_RANK</th>\n",
       "      <th>SGOTT</th>\n",
       "      <th>SGAPR_RANK</th>\n",
       "      <th>SGAPR</th>\n",
       "      <th>SGATG_RANK</th>\n",
       "      <th>SGATG</th>\n",
       "      <th>SGP_RANK</th>\n",
       "      <th>SGP</th>\n",
       "      <th>BIRDIES_RANK</th>\n",
       "      <th>BIRDIES</th>\n",
       "      <th>PAR_3_RANK</th>\n",
       "      <th>PAR_3</th>\n",
       "      <th>PAR_4_RANK</th>\n",
       "      <th>PAR_4</th>\n",
       "      <th>PAR_5_RANK</th>\n",
       "      <th>PAR_5</th>\n",
       "      <th>TOTAL_DRIVING_RANK</th>\n",
       "      <th>TOTAL_DRIVING</th>\n",
       "      <th>DRIVING_DISTANCE_RANK</th>\n",
       "      <th>DRIVING_DISTANCE</th>\n",
       "      <th>DRIVING_ACCURACY_RANK</th>\n",
       "      <th>DRIVING_ACCURACY</th>\n",
       "      <th>GIR_RANK</th>\n",
       "      <th>GIR</th>\n",
       "      <th>SCRAMBLING_RANK</th>\n",
       "      <th>SCRAMBLING</th>\n",
       "      <th>OWGR_RANK</th>\n",
       "      <th>OWGR</th>\n",
       "      <th>VEGAS_ODDS</th>\n",
       "      <th>CUT_PERCENTAGE</th>\n",
       "      <th>FEDEX_CUP_POINTS</th>\n",
       "      <th>form_density</th>\n",
       "      <th>CONSECUTIVE_CUTS</th>\n",
       "      <th>RECENT_FORM</th>\n",
       "      <th>adj_form</th>\n",
       "      <th>COURSE_HISTORY</th>\n",
       "      <th>adj_ch</th>\n",
       "      <th>TOP_20</th>\n",
       "    </tr>\n",
       "  </thead>\n",
       "  <tbody>\n",
       "    <tr>\n",
       "      <th>234</th>\n",
       "      <td>2024</td>\n",
       "      <td>2024-07-14</td>\n",
       "      <td>Genesis Scottish Open</td>\n",
       "      <td>The Renaissance Club</td>\n",
       "      <td>Aaron Cockerill</td>\n",
       "      <td>CUT</td>\n",
       "      <td>90</td>\n",
       "      <td>NaN</td>\n",
       "      <td>NaN</td>\n",
       "      <td>NaN</td>\n",
       "      <td>NaN</td>\n",
       "      <td>NaN</td>\n",
       "      <td>NaN</td>\n",
       "      <td>NaN</td>\n",
       "      <td>NaN</td>\n",
       "      <td>NaN</td>\n",
       "      <td>NaN</td>\n",
       "      <td>NaN</td>\n",
       "      <td>None</td>\n",
       "      <td>NaN</td>\n",
       "      <td>NaN</td>\n",
       "      <td>NaN</td>\n",
       "      <td>NaN</td>\n",
       "      <td>NaN</td>\n",
       "      <td>NaN</td>\n",
       "      <td>NaN</td>\n",
       "      <td>NaN</td>\n",
       "      <td>NaN</td>\n",
       "      <td>NaN</td>\n",
       "      <td>NaN</td>\n",
       "      <td>None</td>\n",
       "      <td>NaN</td>\n",
       "      <td>None</td>\n",
       "      <td>NaN</td>\n",
       "      <td>None</td>\n",
       "      <td>251.0</td>\n",
       "      <td>0.5632</td>\n",
       "      <td>600.0</td>\n",
       "      <td>0.0</td>\n",
       "      <td>0.000</td>\n",
       "      <td>0.00</td>\n",
       "      <td>0.0</td>\n",
       "      <td>90.0</td>\n",
       "      <td>129.84</td>\n",
       "      <td>NaN</td>\n",
       "      <td>NaN</td>\n",
       "      <td>0</td>\n",
       "    </tr>\n",
       "    <tr>\n",
       "      <th>235</th>\n",
       "      <td>2024</td>\n",
       "      <td>2024-07-14</td>\n",
       "      <td>Genesis Scottish Open</td>\n",
       "      <td>The Renaissance Club</td>\n",
       "      <td>Aaron Rai</td>\n",
       "      <td>T4</td>\n",
       "      <td>4</td>\n",
       "      <td>9.0</td>\n",
       "      <td>1.131</td>\n",
       "      <td>36.0</td>\n",
       "      <td>0.303</td>\n",
       "      <td>8.0</td>\n",
       "      <td>0.676</td>\n",
       "      <td>56.0</td>\n",
       "      <td>0.152</td>\n",
       "      <td>83.0</td>\n",
       "      <td>0.054</td>\n",
       "      <td>99.0</td>\n",
       "      <td>22.10%</td>\n",
       "      <td>38.0</td>\n",
       "      <td>3.01</td>\n",
       "      <td>10.0</td>\n",
       "      <td>3.97</td>\n",
       "      <td>44.0</td>\n",
       "      <td>4.54</td>\n",
       "      <td>53.0</td>\n",
       "      <td>153.0</td>\n",
       "      <td>152.0</td>\n",
       "      <td>293.8</td>\n",
       "      <td>1.0</td>\n",
       "      <td>72.02%</td>\n",
       "      <td>7.0</td>\n",
       "      <td>71.58%</td>\n",
       "      <td>33.0</td>\n",
       "      <td>63.18%</td>\n",
       "      <td>21.0</td>\n",
       "      <td>3.2294</td>\n",
       "      <td>40.0</td>\n",
       "      <td>83.3</td>\n",
       "      <td>808.257</td>\n",
       "      <td>44.90</td>\n",
       "      <td>9.0</td>\n",
       "      <td>35.8</td>\n",
       "      <td>12.16</td>\n",
       "      <td>90.0</td>\n",
       "      <td>129.84</td>\n",
       "      <td>1</td>\n",
       "    </tr>\n",
       "    <tr>\n",
       "      <th>236</th>\n",
       "      <td>2024</td>\n",
       "      <td>2024-07-14</td>\n",
       "      <td>Genesis Scottish Open</td>\n",
       "      <td>The Renaissance Club</td>\n",
       "      <td>Adam Hadwin</td>\n",
       "      <td>T34</td>\n",
       "      <td>34</td>\n",
       "      <td>112.0</td>\n",
       "      <td>-0.036</td>\n",
       "      <td>101.0</td>\n",
       "      <td>0.016</td>\n",
       "      <td>113.0</td>\n",
       "      <td>-0.057</td>\n",
       "      <td>102.0</td>\n",
       "      <td>0.005</td>\n",
       "      <td>82.0</td>\n",
       "      <td>0.058</td>\n",
       "      <td>63.0</td>\n",
       "      <td>23.00%</td>\n",
       "      <td>52.0</td>\n",
       "      <td>3.02</td>\n",
       "      <td>131.0</td>\n",
       "      <td>4.04</td>\n",
       "      <td>116.0</td>\n",
       "      <td>4.61</td>\n",
       "      <td>123.0</td>\n",
       "      <td>198.0</td>\n",
       "      <td>124.0</td>\n",
       "      <td>297.9</td>\n",
       "      <td>74.0</td>\n",
       "      <td>61.57%</td>\n",
       "      <td>152.0</td>\n",
       "      <td>64.30%</td>\n",
       "      <td>151.0</td>\n",
       "      <td>55.81%</td>\n",
       "      <td>56.0</td>\n",
       "      <td>2.0027</td>\n",
       "      <td>150.0</td>\n",
       "      <td>72.2</td>\n",
       "      <td>1086.792</td>\n",
       "      <td>60.38</td>\n",
       "      <td>1.0</td>\n",
       "      <td>44.9</td>\n",
       "      <td>15.25</td>\n",
       "      <td>NaN</td>\n",
       "      <td>NaN</td>\n",
       "      <td>0</td>\n",
       "    </tr>\n",
       "    <tr>\n",
       "      <th>237</th>\n",
       "      <td>2024</td>\n",
       "      <td>2024-07-14</td>\n",
       "      <td>Genesis Scottish Open</td>\n",
       "      <td>The Renaissance Club</td>\n",
       "      <td>Adam Scott</td>\n",
       "      <td>2</td>\n",
       "      <td>2</td>\n",
       "      <td>38.0</td>\n",
       "      <td>0.540</td>\n",
       "      <td>33.0</td>\n",
       "      <td>0.322</td>\n",
       "      <td>87.0</td>\n",
       "      <td>0.114</td>\n",
       "      <td>67.0</td>\n",
       "      <td>0.104</td>\n",
       "      <td>29.0</td>\n",
       "      <td>0.398</td>\n",
       "      <td>79.0</td>\n",
       "      <td>22.54%</td>\n",
       "      <td>38.0</td>\n",
       "      <td>3.01</td>\n",
       "      <td>57.0</td>\n",
       "      <td>4.00</td>\n",
       "      <td>44.0</td>\n",
       "      <td>4.54</td>\n",
       "      <td>75.0</td>\n",
       "      <td>170.0</td>\n",
       "      <td>49.0</td>\n",
       "      <td>307.1</td>\n",
       "      <td>121.0</td>\n",
       "      <td>58.28%</td>\n",
       "      <td>102.0</td>\n",
       "      <td>66.35%</td>\n",
       "      <td>45.0</td>\n",
       "      <td>62.09%</td>\n",
       "      <td>20.0</td>\n",
       "      <td>3.2584</td>\n",
       "      <td>80.0</td>\n",
       "      <td>87.5</td>\n",
       "      <td>693.009</td>\n",
       "      <td>43.31</td>\n",
       "      <td>4.0</td>\n",
       "      <td>33.6</td>\n",
       "      <td>11.86</td>\n",
       "      <td>47.5</td>\n",
       "      <td>43.24</td>\n",
       "      <td>1</td>\n",
       "    </tr>\n",
       "    <tr>\n",
       "      <th>238</th>\n",
       "      <td>2024</td>\n",
       "      <td>2024-07-14</td>\n",
       "      <td>Genesis Scottish Open</td>\n",
       "      <td>The Renaissance Club</td>\n",
       "      <td>Adria Arnaus</td>\n",
       "      <td>CUT</td>\n",
       "      <td>90</td>\n",
       "      <td>NaN</td>\n",
       "      <td>NaN</td>\n",
       "      <td>NaN</td>\n",
       "      <td>NaN</td>\n",
       "      <td>NaN</td>\n",
       "      <td>NaN</td>\n",
       "      <td>NaN</td>\n",
       "      <td>NaN</td>\n",
       "      <td>NaN</td>\n",
       "      <td>NaN</td>\n",
       "      <td>NaN</td>\n",
       "      <td>NaN</td>\n",
       "      <td>NaN</td>\n",
       "      <td>NaN</td>\n",
       "      <td>NaN</td>\n",
       "      <td>NaN</td>\n",
       "      <td>NaN</td>\n",
       "      <td>NaN</td>\n",
       "      <td>NaN</td>\n",
       "      <td>NaN</td>\n",
       "      <td>NaN</td>\n",
       "      <td>NaN</td>\n",
       "      <td>NaN</td>\n",
       "      <td>NaN</td>\n",
       "      <td>NaN</td>\n",
       "      <td>NaN</td>\n",
       "      <td>NaN</td>\n",
       "      <td>NaN</td>\n",
       "      <td>NaN</td>\n",
       "      <td>NaN</td>\n",
       "      <td>NaN</td>\n",
       "      <td>NaN</td>\n",
       "      <td>NaN</td>\n",
       "      <td>NaN</td>\n",
       "      <td>NaN</td>\n",
       "      <td>NaN</td>\n",
       "      <td>NaN</td>\n",
       "      <td>68.0</td>\n",
       "      <td>98.10</td>\n",
       "      <td>0</td>\n",
       "    </tr>\n",
       "  </tbody>\n",
       "</table>\n",
       "</div>"
      ],
      "text/plain": [
       "     SEASON ENDING_DATE             TOURNAMENT                COURSE  \\\n",
       "234    2024  2024-07-14  Genesis Scottish Open  The Renaissance Club   \n",
       "235    2024  2024-07-14  Genesis Scottish Open  The Renaissance Club   \n",
       "236    2024  2024-07-14  Genesis Scottish Open  The Renaissance Club   \n",
       "237    2024  2024-07-14  Genesis Scottish Open  The Renaissance Club   \n",
       "238    2024  2024-07-14  Genesis Scottish Open  The Renaissance Club   \n",
       "\n",
       "              PLAYER  POS  FINAL_POS  SGTTG_RANK  SGTTG  SGOTT_RANK  SGOTT  \\\n",
       "234  Aaron Cockerill  CUT         90         NaN    NaN         NaN    NaN   \n",
       "235        Aaron Rai   T4          4         9.0  1.131        36.0  0.303   \n",
       "236      Adam Hadwin  T34         34       112.0 -0.036       101.0  0.016   \n",
       "237       Adam Scott    2          2        38.0  0.540        33.0  0.322   \n",
       "238     Adria Arnaus  CUT         90         NaN    NaN         NaN    NaN   \n",
       "\n",
       "     SGAPR_RANK  SGAPR  SGATG_RANK  SGATG  SGP_RANK    SGP  BIRDIES_RANK  \\\n",
       "234         NaN    NaN         NaN    NaN       NaN    NaN           NaN   \n",
       "235         8.0  0.676        56.0  0.152      83.0  0.054          99.0   \n",
       "236       113.0 -0.057       102.0  0.005      82.0  0.058          63.0   \n",
       "237        87.0  0.114        67.0  0.104      29.0  0.398          79.0   \n",
       "238         NaN    NaN         NaN    NaN       NaN    NaN           NaN   \n",
       "\n",
       "    BIRDIES  PAR_3_RANK  PAR_3  PAR_4_RANK  PAR_4  PAR_5_RANK  PAR_5  \\\n",
       "234    None         NaN    NaN         NaN    NaN         NaN    NaN   \n",
       "235  22.10%        38.0   3.01        10.0   3.97        44.0   4.54   \n",
       "236  23.00%        52.0   3.02       131.0   4.04       116.0   4.61   \n",
       "237  22.54%        38.0   3.01        57.0   4.00        44.0   4.54   \n",
       "238     NaN         NaN    NaN         NaN    NaN         NaN    NaN   \n",
       "\n",
       "     TOTAL_DRIVING_RANK  TOTAL_DRIVING  DRIVING_DISTANCE_RANK  \\\n",
       "234                 NaN            NaN                    NaN   \n",
       "235                53.0          153.0                  152.0   \n",
       "236               123.0          198.0                  124.0   \n",
       "237                75.0          170.0                   49.0   \n",
       "238                 NaN            NaN                    NaN   \n",
       "\n",
       "     DRIVING_DISTANCE  DRIVING_ACCURACY_RANK DRIVING_ACCURACY  GIR_RANK  \\\n",
       "234               NaN                    NaN             None       NaN   \n",
       "235             293.8                    1.0           72.02%       7.0   \n",
       "236             297.9                   74.0           61.57%     152.0   \n",
       "237             307.1                  121.0           58.28%     102.0   \n",
       "238               NaN                    NaN              NaN       NaN   \n",
       "\n",
       "        GIR  SCRAMBLING_RANK SCRAMBLING  OWGR_RANK    OWGR  VEGAS_ODDS  \\\n",
       "234    None              NaN       None      251.0  0.5632       600.0   \n",
       "235  71.58%             33.0     63.18%       21.0  3.2294        40.0   \n",
       "236  64.30%            151.0     55.81%       56.0  2.0027       150.0   \n",
       "237  66.35%             45.0     62.09%       20.0  3.2584        80.0   \n",
       "238     NaN              NaN        NaN        NaN     NaN         NaN   \n",
       "\n",
       "     CUT_PERCENTAGE  FEDEX_CUP_POINTS  form_density  CONSECUTIVE_CUTS  \\\n",
       "234             0.0             0.000          0.00               0.0   \n",
       "235            83.3           808.257         44.90               9.0   \n",
       "236            72.2          1086.792         60.38               1.0   \n",
       "237            87.5           693.009         43.31               4.0   \n",
       "238             NaN               NaN           NaN               NaN   \n",
       "\n",
       "     RECENT_FORM  adj_form  COURSE_HISTORY  adj_ch  TOP_20  \n",
       "234         90.0    129.84             NaN     NaN       0  \n",
       "235         35.8     12.16            90.0  129.84       1  \n",
       "236         44.9     15.25             NaN     NaN       0  \n",
       "237         33.6     11.86            47.5   43.24       1  \n",
       "238          NaN       NaN            68.0   98.10       0  "
      ]
     },
     "execution_count": 10,
     "metadata": {},
     "output_type": "execute_result"
    }
   ],
   "source": [
    "# Play with different years to see if I notice anything wrong (check Odds)\n",
    "training_df[training_df[\"SEASON\"] == 2024].head()"
   ]
  },
  {
   "cell_type": "markdown",
   "id": "5f92ff52",
   "metadata": {},
   "source": [
    "### Normalization\n",
    "***Fix Historical Odds***\n",
    "\n",
    "Many names do not have historical odds but rather are part of the \"field.\" So giving these \"NaN\" values the average odds (as I would for missing stats) isn't a good approximation of reality – they are typically the \"field\" because they are not notable and have poor odds individually.\n",
    "\n",
    "There are also some crazy odds numbers occasionally (1000/1 or 3000/1) that don't happen all that much and are making that tail too long.\n",
    "\n",
    "This cell assigns odds of 1000/1 for anyone missing and clips anything larger to 1000/1 to normalize the data better and assign the missing odds more appropriately where they belong.\n",
    "\n",
    "***OWGR Adjustment***\n",
    "\n",
    "The NaN's for OWGR are similarly bad players.  So we should assign these the worst ranking instead of the mean and clip it at 1000 just in case there are ever outliers.\n",
    "\n",
    "For the OWGR score, it should match the lowest score in the dataset to assign that person the same as the worst.\n",
    "\n",
    "***Recent Form Adjustment***\n",
    "\n",
    "The NaN's for Recent Form mean that this player has not played any tournaments in the lookback period (9 months).  Similar to Odds and OWGR, I want to punish those that don't play often in my model.  Set these to 90 (i.e. like they miss a lot of cuts - because if they aren't playing they aren't good enough to make it to these tournaments very frequently).  The adj_form feature will also need to be updated here with the new data.\n",
    "\n",
    "***FedEx Cup Point Adjustment***\n",
    "\n",
    "The NaN's for FedEx Cup Points means there is no data.  Therefore they should be 0."
   ]
  },
  {
   "cell_type": "code",
   "execution_count": 11,
   "id": "3e9f4f19",
   "metadata": {},
   "outputs": [
    {
     "data": {
      "text/html": [
       "<div>\n",
       "<style scoped>\n",
       "    .dataframe tbody tr th:only-of-type {\n",
       "        vertical-align: middle;\n",
       "    }\n",
       "\n",
       "    .dataframe tbody tr th {\n",
       "        vertical-align: top;\n",
       "    }\n",
       "\n",
       "    .dataframe thead th {\n",
       "        text-align: right;\n",
       "    }\n",
       "</style>\n",
       "<table border=\"1\" class=\"dataframe\">\n",
       "  <thead>\n",
       "    <tr style=\"text-align: right;\">\n",
       "      <th></th>\n",
       "      <th>SEASON</th>\n",
       "      <th>ENDING_DATE</th>\n",
       "      <th>TOURNAMENT</th>\n",
       "      <th>COURSE</th>\n",
       "      <th>PLAYER</th>\n",
       "      <th>POS</th>\n",
       "      <th>FINAL_POS</th>\n",
       "      <th>SGTTG_RANK</th>\n",
       "      <th>SGTTG</th>\n",
       "      <th>SGOTT_RANK</th>\n",
       "      <th>SGOTT</th>\n",
       "      <th>SGAPR_RANK</th>\n",
       "      <th>SGAPR</th>\n",
       "      <th>SGATG_RANK</th>\n",
       "      <th>SGATG</th>\n",
       "      <th>SGP_RANK</th>\n",
       "      <th>SGP</th>\n",
       "      <th>BIRDIES_RANK</th>\n",
       "      <th>BIRDIES</th>\n",
       "      <th>PAR_3_RANK</th>\n",
       "      <th>PAR_3</th>\n",
       "      <th>PAR_4_RANK</th>\n",
       "      <th>PAR_4</th>\n",
       "      <th>PAR_5_RANK</th>\n",
       "      <th>PAR_5</th>\n",
       "      <th>TOTAL_DRIVING_RANK</th>\n",
       "      <th>TOTAL_DRIVING</th>\n",
       "      <th>DRIVING_DISTANCE_RANK</th>\n",
       "      <th>DRIVING_DISTANCE</th>\n",
       "      <th>DRIVING_ACCURACY_RANK</th>\n",
       "      <th>DRIVING_ACCURACY</th>\n",
       "      <th>GIR_RANK</th>\n",
       "      <th>GIR</th>\n",
       "      <th>SCRAMBLING_RANK</th>\n",
       "      <th>SCRAMBLING</th>\n",
       "      <th>OWGR_RANK</th>\n",
       "      <th>OWGR</th>\n",
       "      <th>VEGAS_ODDS</th>\n",
       "      <th>CUT_PERCENTAGE</th>\n",
       "      <th>FEDEX_CUP_POINTS</th>\n",
       "      <th>form_density</th>\n",
       "      <th>CONSECUTIVE_CUTS</th>\n",
       "      <th>RECENT_FORM</th>\n",
       "      <th>adj_form</th>\n",
       "      <th>COURSE_HISTORY</th>\n",
       "      <th>adj_ch</th>\n",
       "      <th>TOP_20</th>\n",
       "    </tr>\n",
       "  </thead>\n",
       "  <tbody>\n",
       "    <tr>\n",
       "      <th>0</th>\n",
       "      <td>2022</td>\n",
       "      <td>2022-07-10</td>\n",
       "      <td>Genesis Scottish Open</td>\n",
       "      <td>The Renaissance Club</td>\n",
       "      <td>Aaron Wise</td>\n",
       "      <td>T5</td>\n",
       "      <td>5</td>\n",
       "      <td>25.0</td>\n",
       "      <td>0.952</td>\n",
       "      <td>31.0</td>\n",
       "      <td>0.387</td>\n",
       "      <td>21.0</td>\n",
       "      <td>0.489</td>\n",
       "      <td>85.0</td>\n",
       "      <td>0.076</td>\n",
       "      <td>81.0</td>\n",
       "      <td>0.100</td>\n",
       "      <td>22.0</td>\n",
       "      <td>23.39</td>\n",
       "      <td>4.0</td>\n",
       "      <td>2.98</td>\n",
       "      <td>25.0</td>\n",
       "      <td>3.99</td>\n",
       "      <td>24.0</td>\n",
       "      <td>4.55</td>\n",
       "      <td>44.0</td>\n",
       "      <td>154.0</td>\n",
       "      <td>39.0</td>\n",
       "      <td>308.3</td>\n",
       "      <td>115.0</td>\n",
       "      <td>59.15</td>\n",
       "      <td>21.0</td>\n",
       "      <td>69.06</td>\n",
       "      <td>31.0</td>\n",
       "      <td>62.63</td>\n",
       "      <td>37.0</td>\n",
       "      <td>2.69</td>\n",
       "      <td>1000.0</td>\n",
       "      <td>72.2</td>\n",
       "      <td>846.11</td>\n",
       "      <td>47.01</td>\n",
       "      <td>0.0</td>\n",
       "      <td>42.7</td>\n",
       "      <td>14.50</td>\n",
       "      <td>NaN</td>\n",
       "      <td>NaN</td>\n",
       "      <td>1</td>\n",
       "    </tr>\n",
       "    <tr>\n",
       "      <th>1</th>\n",
       "      <td>2022</td>\n",
       "      <td>2022-07-10</td>\n",
       "      <td>Genesis Scottish Open</td>\n",
       "      <td>The Renaissance Club</td>\n",
       "      <td>Abraham Ancer</td>\n",
       "      <td>T14</td>\n",
       "      <td>14</td>\n",
       "      <td>122.0</td>\n",
       "      <td>-0.026</td>\n",
       "      <td>29.0</td>\n",
       "      <td>0.395</td>\n",
       "      <td>109.0</td>\n",
       "      <td>0.026</td>\n",
       "      <td>189.0</td>\n",
       "      <td>-0.447</td>\n",
       "      <td>62.0</td>\n",
       "      <td>0.165</td>\n",
       "      <td>61.0</td>\n",
       "      <td>21.84</td>\n",
       "      <td>62.0</td>\n",
       "      <td>3.04</td>\n",
       "      <td>25.0</td>\n",
       "      <td>3.99</td>\n",
       "      <td>81.0</td>\n",
       "      <td>4.62</td>\n",
       "      <td>18.0</td>\n",
       "      <td>124.0</td>\n",
       "      <td>120.0</td>\n",
       "      <td>297.1</td>\n",
       "      <td>4.0</td>\n",
       "      <td>70.54</td>\n",
       "      <td>77.0</td>\n",
       "      <td>66.86</td>\n",
       "      <td>64.0</td>\n",
       "      <td>60.69</td>\n",
       "      <td>24.0</td>\n",
       "      <td>3.21</td>\n",
       "      <td>1000.0</td>\n",
       "      <td>68.8</td>\n",
       "      <td>338.30</td>\n",
       "      <td>21.14</td>\n",
       "      <td>1.0</td>\n",
       "      <td>50.0</td>\n",
       "      <td>17.65</td>\n",
       "      <td>NaN</td>\n",
       "      <td>NaN</td>\n",
       "      <td>1</td>\n",
       "    </tr>\n",
       "    <tr>\n",
       "      <th>2</th>\n",
       "      <td>2022</td>\n",
       "      <td>2022-07-10</td>\n",
       "      <td>Genesis Scottish Open</td>\n",
       "      <td>The Renaissance Club</td>\n",
       "      <td>Adam Scott</td>\n",
       "      <td>T5</td>\n",
       "      <td>5</td>\n",
       "      <td>66.0</td>\n",
       "      <td>0.340</td>\n",
       "      <td>68.0</td>\n",
       "      <td>0.158</td>\n",
       "      <td>53.0</td>\n",
       "      <td>0.256</td>\n",
       "      <td>136.0</td>\n",
       "      <td>-0.075</td>\n",
       "      <td>41.0</td>\n",
       "      <td>0.279</td>\n",
       "      <td>30.0</td>\n",
       "      <td>23.07</td>\n",
       "      <td>161.0</td>\n",
       "      <td>3.10</td>\n",
       "      <td>25.0</td>\n",
       "      <td>3.99</td>\n",
       "      <td>29.0</td>\n",
       "      <td>4.56</td>\n",
       "      <td>70.0</td>\n",
       "      <td>178.0</td>\n",
       "      <td>15.0</td>\n",
       "      <td>312.4</td>\n",
       "      <td>163.0</td>\n",
       "      <td>55.34</td>\n",
       "      <td>55.0</td>\n",
       "      <td>67.67</td>\n",
       "      <td>133.0</td>\n",
       "      <td>57.76</td>\n",
       "      <td>30.0</td>\n",
       "      <td>2.86</td>\n",
       "      <td>1000.0</td>\n",
       "      <td>84.6</td>\n",
       "      <td>408.00</td>\n",
       "      <td>31.38</td>\n",
       "      <td>2.0</td>\n",
       "      <td>41.5</td>\n",
       "      <td>15.73</td>\n",
       "      <td>NaN</td>\n",
       "      <td>NaN</td>\n",
       "      <td>1</td>\n",
       "    </tr>\n",
       "    <tr>\n",
       "      <th>3</th>\n",
       "      <td>2022</td>\n",
       "      <td>2022-07-10</td>\n",
       "      <td>Genesis Scottish Open</td>\n",
       "      <td>The Renaissance Club</td>\n",
       "      <td>Alex Noren</td>\n",
       "      <td>T59</td>\n",
       "      <td>59</td>\n",
       "      <td>113.0</td>\n",
       "      <td>0.026</td>\n",
       "      <td>112.0</td>\n",
       "      <td>-0.019</td>\n",
       "      <td>119.0</td>\n",
       "      <td>0.002</td>\n",
       "      <td>93.0</td>\n",
       "      <td>0.042</td>\n",
       "      <td>18.0</td>\n",
       "      <td>0.457</td>\n",
       "      <td>143.0</td>\n",
       "      <td>20.23</td>\n",
       "      <td>14.0</td>\n",
       "      <td>3.00</td>\n",
       "      <td>76.0</td>\n",
       "      <td>4.02</td>\n",
       "      <td>44.0</td>\n",
       "      <td>4.58</td>\n",
       "      <td>167.0</td>\n",
       "      <td>248.0</td>\n",
       "      <td>100.0</td>\n",
       "      <td>299.8</td>\n",
       "      <td>148.0</td>\n",
       "      <td>56.22</td>\n",
       "      <td>117.0</td>\n",
       "      <td>65.71</td>\n",
       "      <td>12.0</td>\n",
       "      <td>64.56</td>\n",
       "      <td>54.0</td>\n",
       "      <td>2.04</td>\n",
       "      <td>80.0</td>\n",
       "      <td>68.8</td>\n",
       "      <td>444.57</td>\n",
       "      <td>27.79</td>\n",
       "      <td>0.0</td>\n",
       "      <td>47.6</td>\n",
       "      <td>16.80</td>\n",
       "      <td>NaN</td>\n",
       "      <td>NaN</td>\n",
       "      <td>0</td>\n",
       "    </tr>\n",
       "    <tr>\n",
       "      <th>4</th>\n",
       "      <td>2022</td>\n",
       "      <td>2022-07-10</td>\n",
       "      <td>Genesis Scottish Open</td>\n",
       "      <td>The Renaissance Club</td>\n",
       "      <td>Branden Grace</td>\n",
       "      <td>T68</td>\n",
       "      <td>68</td>\n",
       "      <td>144.0</td>\n",
       "      <td>-0.290</td>\n",
       "      <td>92.0</td>\n",
       "      <td>0.028</td>\n",
       "      <td>170.0</td>\n",
       "      <td>-0.318</td>\n",
       "      <td>110.0</td>\n",
       "      <td>0.001</td>\n",
       "      <td>188.0</td>\n",
       "      <td>-0.544</td>\n",
       "      <td>177.0</td>\n",
       "      <td>19.23</td>\n",
       "      <td>155.0</td>\n",
       "      <td>3.09</td>\n",
       "      <td>122.0</td>\n",
       "      <td>4.04</td>\n",
       "      <td>157.0</td>\n",
       "      <td>4.69</td>\n",
       "      <td>142.0</td>\n",
       "      <td>225.0</td>\n",
       "      <td>127.0</td>\n",
       "      <td>296.4</td>\n",
       "      <td>98.0</td>\n",
       "      <td>60.14</td>\n",
       "      <td>129.0</td>\n",
       "      <td>65.38</td>\n",
       "      <td>86.0</td>\n",
       "      <td>59.88</td>\n",
       "      <td>155.0</td>\n",
       "      <td>1.08</td>\n",
       "      <td>100.0</td>\n",
       "      <td>41.2</td>\n",
       "      <td>147.03</td>\n",
       "      <td>8.65</td>\n",
       "      <td>0.0</td>\n",
       "      <td>69.6</td>\n",
       "      <td>24.08</td>\n",
       "      <td>NaN</td>\n",
       "      <td>NaN</td>\n",
       "      <td>0</td>\n",
       "    </tr>\n",
       "  </tbody>\n",
       "</table>\n",
       "</div>"
      ],
      "text/plain": [
       "   SEASON ENDING_DATE             TOURNAMENT                COURSE  \\\n",
       "0    2022  2022-07-10  Genesis Scottish Open  The Renaissance Club   \n",
       "1    2022  2022-07-10  Genesis Scottish Open  The Renaissance Club   \n",
       "2    2022  2022-07-10  Genesis Scottish Open  The Renaissance Club   \n",
       "3    2022  2022-07-10  Genesis Scottish Open  The Renaissance Club   \n",
       "4    2022  2022-07-10  Genesis Scottish Open  The Renaissance Club   \n",
       "\n",
       "          PLAYER  POS  FINAL_POS  SGTTG_RANK  SGTTG  SGOTT_RANK  SGOTT  \\\n",
       "0     Aaron Wise   T5          5        25.0  0.952        31.0  0.387   \n",
       "1  Abraham Ancer  T14         14       122.0 -0.026        29.0  0.395   \n",
       "2     Adam Scott   T5          5        66.0  0.340        68.0  0.158   \n",
       "3     Alex Noren  T59         59       113.0  0.026       112.0 -0.019   \n",
       "4  Branden Grace  T68         68       144.0 -0.290        92.0  0.028   \n",
       "\n",
       "   SGAPR_RANK  SGAPR  SGATG_RANK  SGATG  SGP_RANK    SGP  BIRDIES_RANK  \\\n",
       "0        21.0  0.489        85.0  0.076      81.0  0.100          22.0   \n",
       "1       109.0  0.026       189.0 -0.447      62.0  0.165          61.0   \n",
       "2        53.0  0.256       136.0 -0.075      41.0  0.279          30.0   \n",
       "3       119.0  0.002        93.0  0.042      18.0  0.457         143.0   \n",
       "4       170.0 -0.318       110.0  0.001     188.0 -0.544         177.0   \n",
       "\n",
       "  BIRDIES  PAR_3_RANK  PAR_3  PAR_4_RANK  PAR_4  PAR_5_RANK  PAR_5  \\\n",
       "0   23.39         4.0   2.98        25.0   3.99        24.0   4.55   \n",
       "1   21.84        62.0   3.04        25.0   3.99        81.0   4.62   \n",
       "2   23.07       161.0   3.10        25.0   3.99        29.0   4.56   \n",
       "3   20.23        14.0   3.00        76.0   4.02        44.0   4.58   \n",
       "4   19.23       155.0   3.09       122.0   4.04       157.0   4.69   \n",
       "\n",
       "   TOTAL_DRIVING_RANK  TOTAL_DRIVING  DRIVING_DISTANCE_RANK  DRIVING_DISTANCE  \\\n",
       "0                44.0          154.0                   39.0             308.3   \n",
       "1                18.0          124.0                  120.0             297.1   \n",
       "2                70.0          178.0                   15.0             312.4   \n",
       "3               167.0          248.0                  100.0             299.8   \n",
       "4               142.0          225.0                  127.0             296.4   \n",
       "\n",
       "   DRIVING_ACCURACY_RANK DRIVING_ACCURACY  GIR_RANK    GIR  SCRAMBLING_RANK  \\\n",
       "0                  115.0            59.15      21.0  69.06             31.0   \n",
       "1                    4.0            70.54      77.0  66.86             64.0   \n",
       "2                  163.0            55.34      55.0  67.67            133.0   \n",
       "3                  148.0            56.22     117.0  65.71             12.0   \n",
       "4                   98.0            60.14     129.0  65.38             86.0   \n",
       "\n",
       "  SCRAMBLING  OWGR_RANK  OWGR  VEGAS_ODDS  CUT_PERCENTAGE  FEDEX_CUP_POINTS  \\\n",
       "0      62.63       37.0  2.69      1000.0            72.2            846.11   \n",
       "1      60.69       24.0  3.21      1000.0            68.8            338.30   \n",
       "2      57.76       30.0  2.86      1000.0            84.6            408.00   \n",
       "3      64.56       54.0  2.04        80.0            68.8            444.57   \n",
       "4      59.88      155.0  1.08       100.0            41.2            147.03   \n",
       "\n",
       "   form_density  CONSECUTIVE_CUTS  RECENT_FORM  adj_form  COURSE_HISTORY  \\\n",
       "0         47.01               0.0         42.7     14.50             NaN   \n",
       "1         21.14               1.0         50.0     17.65             NaN   \n",
       "2         31.38               2.0         41.5     15.73             NaN   \n",
       "3         27.79               0.0         47.6     16.80             NaN   \n",
       "4          8.65               0.0         69.6     24.08             NaN   \n",
       "\n",
       "   adj_ch  TOP_20  \n",
       "0     NaN       1  \n",
       "1     NaN       1  \n",
       "2     NaN       1  \n",
       "3     NaN       0  \n",
       "4     NaN       0  "
      ]
     },
     "execution_count": 11,
     "metadata": {},
     "output_type": "execute_result"
    }
   ],
   "source": [
    "# === VEGAS ODDS ===\n",
    "training_df[\"VEGAS_ODDS\"] = training_df[\"VEGAS_ODDS\"].fillna(1000).clip(upper=1000)\n",
    "\n",
    "# === OWGR and OWGR_RANK ===\n",
    "owgr_min = training_df[\"OWGR\"].min(skipna=True)\n",
    "training_df[\"OWGR\"] = training_df[\"OWGR\"].fillna(owgr_min)\n",
    "training_df[\"OWGR_RANK\"] = training_df[\"OWGR_RANK\"].fillna(1000).astype(float).clip(upper=1000)\n",
    "\n",
    "# === RECENT FORM and adj_form ===\n",
    "training_df[\"RECENT_FORM\"] = training_df[\"RECENT_FORM\"].fillna(90)\n",
    "if \"TOTAL_EVENTS_PLAYED\" in training_df.columns:\n",
    "    training_df[\"adj_form\"] = (\n",
    "        training_df[\"RECENT_FORM\"] / np.log1p(training_df[\"TOTAL_EVENTS_PLAYED\"])\n",
    "    ).round(2)\n",
    "\n",
    "# === FEDEX CUP POINTS ===\n",
    "training_df[\"FEDEX_CUP_POINTS\"] = training_df[\"FEDEX_CUP_POINTS\"].fillna(0)\n",
    "\n",
    "training_df.head(5)\n"
   ]
  },
  {
   "cell_type": "markdown",
   "id": "f58c9b4a",
   "metadata": {},
   "source": [
    "#### Average the NaNs\n",
    "At this point, the intentional offsetting of NaNs for poor players is over.  I don't want to penalize statistics or course history because you never know where they might land on the spectrum, so for these NaN values, we will take the mean."
   ]
  },
  {
   "cell_type": "code",
   "execution_count": 12,
   "id": "1172b59c",
   "metadata": {},
   "outputs": [
    {
     "data": {
      "text/html": [
       "<div>\n",
       "<style scoped>\n",
       "    .dataframe tbody tr th:only-of-type {\n",
       "        vertical-align: middle;\n",
       "    }\n",
       "\n",
       "    .dataframe tbody tr th {\n",
       "        vertical-align: top;\n",
       "    }\n",
       "\n",
       "    .dataframe thead th {\n",
       "        text-align: right;\n",
       "    }\n",
       "</style>\n",
       "<table border=\"1\" class=\"dataframe\">\n",
       "  <thead>\n",
       "    <tr style=\"text-align: right;\">\n",
       "      <th></th>\n",
       "      <th>SEASON</th>\n",
       "      <th>ENDING_DATE</th>\n",
       "      <th>TOURNAMENT</th>\n",
       "      <th>COURSE</th>\n",
       "      <th>PLAYER</th>\n",
       "      <th>POS</th>\n",
       "      <th>FINAL_POS</th>\n",
       "      <th>SGTTG_RANK</th>\n",
       "      <th>SGTTG</th>\n",
       "      <th>SGOTT_RANK</th>\n",
       "      <th>SGOTT</th>\n",
       "      <th>SGAPR_RANK</th>\n",
       "      <th>SGAPR</th>\n",
       "      <th>SGATG_RANK</th>\n",
       "      <th>SGATG</th>\n",
       "      <th>SGP_RANK</th>\n",
       "      <th>SGP</th>\n",
       "      <th>BIRDIES_RANK</th>\n",
       "      <th>BIRDIES</th>\n",
       "      <th>PAR_3_RANK</th>\n",
       "      <th>PAR_3</th>\n",
       "      <th>PAR_4_RANK</th>\n",
       "      <th>PAR_4</th>\n",
       "      <th>PAR_5_RANK</th>\n",
       "      <th>PAR_5</th>\n",
       "      <th>TOTAL_DRIVING_RANK</th>\n",
       "      <th>TOTAL_DRIVING</th>\n",
       "      <th>DRIVING_DISTANCE_RANK</th>\n",
       "      <th>DRIVING_DISTANCE</th>\n",
       "      <th>DRIVING_ACCURACY_RANK</th>\n",
       "      <th>DRIVING_ACCURACY</th>\n",
       "      <th>GIR_RANK</th>\n",
       "      <th>GIR</th>\n",
       "      <th>SCRAMBLING_RANK</th>\n",
       "      <th>SCRAMBLING</th>\n",
       "      <th>OWGR_RANK</th>\n",
       "      <th>OWGR</th>\n",
       "      <th>VEGAS_ODDS</th>\n",
       "      <th>CUT_PERCENTAGE</th>\n",
       "      <th>FEDEX_CUP_POINTS</th>\n",
       "      <th>form_density</th>\n",
       "      <th>CONSECUTIVE_CUTS</th>\n",
       "      <th>RECENT_FORM</th>\n",
       "      <th>adj_form</th>\n",
       "      <th>COURSE_HISTORY</th>\n",
       "      <th>adj_ch</th>\n",
       "      <th>TOP_20</th>\n",
       "    </tr>\n",
       "  </thead>\n",
       "  <tbody>\n",
       "    <tr>\n",
       "      <th>0</th>\n",
       "      <td>2022</td>\n",
       "      <td>2022-07-10</td>\n",
       "      <td>Genesis Scottish Open</td>\n",
       "      <td>The Renaissance Club</td>\n",
       "      <td>Aaron Wise</td>\n",
       "      <td>T5</td>\n",
       "      <td>5</td>\n",
       "      <td>25.0</td>\n",
       "      <td>0.952</td>\n",
       "      <td>31.0</td>\n",
       "      <td>0.387</td>\n",
       "      <td>21.0</td>\n",
       "      <td>0.489</td>\n",
       "      <td>85.0</td>\n",
       "      <td>0.076</td>\n",
       "      <td>81.0</td>\n",
       "      <td>0.100</td>\n",
       "      <td>22.0</td>\n",
       "      <td>23.39</td>\n",
       "      <td>4.0</td>\n",
       "      <td>2.98</td>\n",
       "      <td>25.0</td>\n",
       "      <td>3.99</td>\n",
       "      <td>24.0</td>\n",
       "      <td>4.55</td>\n",
       "      <td>44.0</td>\n",
       "      <td>154.0</td>\n",
       "      <td>39.0</td>\n",
       "      <td>308.3</td>\n",
       "      <td>115.0</td>\n",
       "      <td>59.15</td>\n",
       "      <td>21.0</td>\n",
       "      <td>69.06</td>\n",
       "      <td>31.0</td>\n",
       "      <td>62.63</td>\n",
       "      <td>37.0</td>\n",
       "      <td>2.69</td>\n",
       "      <td>1000.0</td>\n",
       "      <td>72.2</td>\n",
       "      <td>846.11</td>\n",
       "      <td>47.01</td>\n",
       "      <td>0.0</td>\n",
       "      <td>42.7</td>\n",
       "      <td>14.50</td>\n",
       "      <td>50.868421</td>\n",
       "      <td>69.593609</td>\n",
       "      <td>1</td>\n",
       "    </tr>\n",
       "    <tr>\n",
       "      <th>1</th>\n",
       "      <td>2022</td>\n",
       "      <td>2022-07-10</td>\n",
       "      <td>Genesis Scottish Open</td>\n",
       "      <td>The Renaissance Club</td>\n",
       "      <td>Abraham Ancer</td>\n",
       "      <td>T14</td>\n",
       "      <td>14</td>\n",
       "      <td>122.0</td>\n",
       "      <td>-0.026</td>\n",
       "      <td>29.0</td>\n",
       "      <td>0.395</td>\n",
       "      <td>109.0</td>\n",
       "      <td>0.026</td>\n",
       "      <td>189.0</td>\n",
       "      <td>-0.447</td>\n",
       "      <td>62.0</td>\n",
       "      <td>0.165</td>\n",
       "      <td>61.0</td>\n",
       "      <td>21.84</td>\n",
       "      <td>62.0</td>\n",
       "      <td>3.04</td>\n",
       "      <td>25.0</td>\n",
       "      <td>3.99</td>\n",
       "      <td>81.0</td>\n",
       "      <td>4.62</td>\n",
       "      <td>18.0</td>\n",
       "      <td>124.0</td>\n",
       "      <td>120.0</td>\n",
       "      <td>297.1</td>\n",
       "      <td>4.0</td>\n",
       "      <td>70.54</td>\n",
       "      <td>77.0</td>\n",
       "      <td>66.86</td>\n",
       "      <td>64.0</td>\n",
       "      <td>60.69</td>\n",
       "      <td>24.0</td>\n",
       "      <td>3.21</td>\n",
       "      <td>1000.0</td>\n",
       "      <td>68.8</td>\n",
       "      <td>338.30</td>\n",
       "      <td>21.14</td>\n",
       "      <td>1.0</td>\n",
       "      <td>50.0</td>\n",
       "      <td>17.65</td>\n",
       "      <td>50.868421</td>\n",
       "      <td>69.593609</td>\n",
       "      <td>1</td>\n",
       "    </tr>\n",
       "    <tr>\n",
       "      <th>2</th>\n",
       "      <td>2022</td>\n",
       "      <td>2022-07-10</td>\n",
       "      <td>Genesis Scottish Open</td>\n",
       "      <td>The Renaissance Club</td>\n",
       "      <td>Adam Scott</td>\n",
       "      <td>T5</td>\n",
       "      <td>5</td>\n",
       "      <td>66.0</td>\n",
       "      <td>0.340</td>\n",
       "      <td>68.0</td>\n",
       "      <td>0.158</td>\n",
       "      <td>53.0</td>\n",
       "      <td>0.256</td>\n",
       "      <td>136.0</td>\n",
       "      <td>-0.075</td>\n",
       "      <td>41.0</td>\n",
       "      <td>0.279</td>\n",
       "      <td>30.0</td>\n",
       "      <td>23.07</td>\n",
       "      <td>161.0</td>\n",
       "      <td>3.10</td>\n",
       "      <td>25.0</td>\n",
       "      <td>3.99</td>\n",
       "      <td>29.0</td>\n",
       "      <td>4.56</td>\n",
       "      <td>70.0</td>\n",
       "      <td>178.0</td>\n",
       "      <td>15.0</td>\n",
       "      <td>312.4</td>\n",
       "      <td>163.0</td>\n",
       "      <td>55.34</td>\n",
       "      <td>55.0</td>\n",
       "      <td>67.67</td>\n",
       "      <td>133.0</td>\n",
       "      <td>57.76</td>\n",
       "      <td>30.0</td>\n",
       "      <td>2.86</td>\n",
       "      <td>1000.0</td>\n",
       "      <td>84.6</td>\n",
       "      <td>408.00</td>\n",
       "      <td>31.38</td>\n",
       "      <td>2.0</td>\n",
       "      <td>41.5</td>\n",
       "      <td>15.73</td>\n",
       "      <td>50.868421</td>\n",
       "      <td>69.593609</td>\n",
       "      <td>1</td>\n",
       "    </tr>\n",
       "    <tr>\n",
       "      <th>3</th>\n",
       "      <td>2022</td>\n",
       "      <td>2022-07-10</td>\n",
       "      <td>Genesis Scottish Open</td>\n",
       "      <td>The Renaissance Club</td>\n",
       "      <td>Alex Noren</td>\n",
       "      <td>T59</td>\n",
       "      <td>59</td>\n",
       "      <td>113.0</td>\n",
       "      <td>0.026</td>\n",
       "      <td>112.0</td>\n",
       "      <td>-0.019</td>\n",
       "      <td>119.0</td>\n",
       "      <td>0.002</td>\n",
       "      <td>93.0</td>\n",
       "      <td>0.042</td>\n",
       "      <td>18.0</td>\n",
       "      <td>0.457</td>\n",
       "      <td>143.0</td>\n",
       "      <td>20.23</td>\n",
       "      <td>14.0</td>\n",
       "      <td>3.00</td>\n",
       "      <td>76.0</td>\n",
       "      <td>4.02</td>\n",
       "      <td>44.0</td>\n",
       "      <td>4.58</td>\n",
       "      <td>167.0</td>\n",
       "      <td>248.0</td>\n",
       "      <td>100.0</td>\n",
       "      <td>299.8</td>\n",
       "      <td>148.0</td>\n",
       "      <td>56.22</td>\n",
       "      <td>117.0</td>\n",
       "      <td>65.71</td>\n",
       "      <td>12.0</td>\n",
       "      <td>64.56</td>\n",
       "      <td>54.0</td>\n",
       "      <td>2.04</td>\n",
       "      <td>80.0</td>\n",
       "      <td>68.8</td>\n",
       "      <td>444.57</td>\n",
       "      <td>27.79</td>\n",
       "      <td>0.0</td>\n",
       "      <td>47.6</td>\n",
       "      <td>16.80</td>\n",
       "      <td>50.868421</td>\n",
       "      <td>69.593609</td>\n",
       "      <td>0</td>\n",
       "    </tr>\n",
       "    <tr>\n",
       "      <th>4</th>\n",
       "      <td>2022</td>\n",
       "      <td>2022-07-10</td>\n",
       "      <td>Genesis Scottish Open</td>\n",
       "      <td>The Renaissance Club</td>\n",
       "      <td>Branden Grace</td>\n",
       "      <td>T68</td>\n",
       "      <td>68</td>\n",
       "      <td>144.0</td>\n",
       "      <td>-0.290</td>\n",
       "      <td>92.0</td>\n",
       "      <td>0.028</td>\n",
       "      <td>170.0</td>\n",
       "      <td>-0.318</td>\n",
       "      <td>110.0</td>\n",
       "      <td>0.001</td>\n",
       "      <td>188.0</td>\n",
       "      <td>-0.544</td>\n",
       "      <td>177.0</td>\n",
       "      <td>19.23</td>\n",
       "      <td>155.0</td>\n",
       "      <td>3.09</td>\n",
       "      <td>122.0</td>\n",
       "      <td>4.04</td>\n",
       "      <td>157.0</td>\n",
       "      <td>4.69</td>\n",
       "      <td>142.0</td>\n",
       "      <td>225.0</td>\n",
       "      <td>127.0</td>\n",
       "      <td>296.4</td>\n",
       "      <td>98.0</td>\n",
       "      <td>60.14</td>\n",
       "      <td>129.0</td>\n",
       "      <td>65.38</td>\n",
       "      <td>86.0</td>\n",
       "      <td>59.88</td>\n",
       "      <td>155.0</td>\n",
       "      <td>1.08</td>\n",
       "      <td>100.0</td>\n",
       "      <td>41.2</td>\n",
       "      <td>147.03</td>\n",
       "      <td>8.65</td>\n",
       "      <td>0.0</td>\n",
       "      <td>69.6</td>\n",
       "      <td>24.08</td>\n",
       "      <td>50.868421</td>\n",
       "      <td>69.593609</td>\n",
       "      <td>0</td>\n",
       "    </tr>\n",
       "  </tbody>\n",
       "</table>\n",
       "</div>"
      ],
      "text/plain": [
       "   SEASON ENDING_DATE             TOURNAMENT                COURSE  \\\n",
       "0    2022  2022-07-10  Genesis Scottish Open  The Renaissance Club   \n",
       "1    2022  2022-07-10  Genesis Scottish Open  The Renaissance Club   \n",
       "2    2022  2022-07-10  Genesis Scottish Open  The Renaissance Club   \n",
       "3    2022  2022-07-10  Genesis Scottish Open  The Renaissance Club   \n",
       "4    2022  2022-07-10  Genesis Scottish Open  The Renaissance Club   \n",
       "\n",
       "          PLAYER  POS  FINAL_POS  SGTTG_RANK  SGTTG  SGOTT_RANK  SGOTT  \\\n",
       "0     Aaron Wise   T5          5        25.0  0.952        31.0  0.387   \n",
       "1  Abraham Ancer  T14         14       122.0 -0.026        29.0  0.395   \n",
       "2     Adam Scott   T5          5        66.0  0.340        68.0  0.158   \n",
       "3     Alex Noren  T59         59       113.0  0.026       112.0 -0.019   \n",
       "4  Branden Grace  T68         68       144.0 -0.290        92.0  0.028   \n",
       "\n",
       "   SGAPR_RANK  SGAPR  SGATG_RANK  SGATG  SGP_RANK    SGP  BIRDIES_RANK  \\\n",
       "0        21.0  0.489        85.0  0.076      81.0  0.100          22.0   \n",
       "1       109.0  0.026       189.0 -0.447      62.0  0.165          61.0   \n",
       "2        53.0  0.256       136.0 -0.075      41.0  0.279          30.0   \n",
       "3       119.0  0.002        93.0  0.042      18.0  0.457         143.0   \n",
       "4       170.0 -0.318       110.0  0.001     188.0 -0.544         177.0   \n",
       "\n",
       "   BIRDIES  PAR_3_RANK  PAR_3  PAR_4_RANK  PAR_4  PAR_5_RANK  PAR_5  \\\n",
       "0    23.39         4.0   2.98        25.0   3.99        24.0   4.55   \n",
       "1    21.84        62.0   3.04        25.0   3.99        81.0   4.62   \n",
       "2    23.07       161.0   3.10        25.0   3.99        29.0   4.56   \n",
       "3    20.23        14.0   3.00        76.0   4.02        44.0   4.58   \n",
       "4    19.23       155.0   3.09       122.0   4.04       157.0   4.69   \n",
       "\n",
       "   TOTAL_DRIVING_RANK  TOTAL_DRIVING  DRIVING_DISTANCE_RANK  DRIVING_DISTANCE  \\\n",
       "0                44.0          154.0                   39.0             308.3   \n",
       "1                18.0          124.0                  120.0             297.1   \n",
       "2                70.0          178.0                   15.0             312.4   \n",
       "3               167.0          248.0                  100.0             299.8   \n",
       "4               142.0          225.0                  127.0             296.4   \n",
       "\n",
       "   DRIVING_ACCURACY_RANK  DRIVING_ACCURACY  GIR_RANK    GIR  SCRAMBLING_RANK  \\\n",
       "0                  115.0             59.15      21.0  69.06             31.0   \n",
       "1                    4.0             70.54      77.0  66.86             64.0   \n",
       "2                  163.0             55.34      55.0  67.67            133.0   \n",
       "3                  148.0             56.22     117.0  65.71             12.0   \n",
       "4                   98.0             60.14     129.0  65.38             86.0   \n",
       "\n",
       "   SCRAMBLING  OWGR_RANK  OWGR  VEGAS_ODDS  CUT_PERCENTAGE  FEDEX_CUP_POINTS  \\\n",
       "0       62.63       37.0  2.69      1000.0            72.2            846.11   \n",
       "1       60.69       24.0  3.21      1000.0            68.8            338.30   \n",
       "2       57.76       30.0  2.86      1000.0            84.6            408.00   \n",
       "3       64.56       54.0  2.04        80.0            68.8            444.57   \n",
       "4       59.88      155.0  1.08       100.0            41.2            147.03   \n",
       "\n",
       "   form_density  CONSECUTIVE_CUTS  RECENT_FORM  adj_form  COURSE_HISTORY  \\\n",
       "0         47.01               0.0         42.7     14.50       50.868421   \n",
       "1         21.14               1.0         50.0     17.65       50.868421   \n",
       "2         31.38               2.0         41.5     15.73       50.868421   \n",
       "3         27.79               0.0         47.6     16.80       50.868421   \n",
       "4          8.65               0.0         69.6     24.08       50.868421   \n",
       "\n",
       "      adj_ch  TOP_20  \n",
       "0  69.593609       1  \n",
       "1  69.593609       1  \n",
       "2  69.593609       1  \n",
       "3  69.593609       0  \n",
       "4  69.593609       0  "
      ]
     },
     "execution_count": 12,
     "metadata": {},
     "output_type": "execute_result"
    }
   ],
   "source": [
    "# === Clean percentage stats stored as strings like '62.5%' ===\n",
    "percent_stats = [\"SCRAMBLING\", \"DRIVING_ACCURACY\", \"BIRDIES\", \"GIR\"]\n",
    "\n",
    "for col in percent_stats:\n",
    "    if col in training_df.columns:\n",
    "        training_df[col] = (\n",
    "            training_df[col]\n",
    "            .astype(str)\n",
    "            .str.replace('%', '', regex=False)\n",
    "            .replace(['None', 'nan', 'NaN', '--', 'DNP', ''], np.nan)\n",
    "            .astype(float)\n",
    "        )\n",
    "\n",
    "# Select only the numeric columns\n",
    "numeric_columns = training_df.select_dtypes(include=['float64', 'int64'])\n",
    "\n",
    "# Fill NaN values with the mean of each column\n",
    "numeric_columns = numeric_columns.fillna(numeric_columns.mean())\n",
    "\n",
    "# Update the original dataframe with the filled numeric columns\n",
    "training_df.update(numeric_columns)\n",
    "\n",
    "training_df.head()"
   ]
  },
  {
   "cell_type": "code",
   "execution_count": 13,
   "id": "bb294b3c",
   "metadata": {},
   "outputs": [],
   "source": [
    "# Check for NaN values\n",
    "assert training_df.isna().sum().sum() == 0, \"🚨 Still missing values!\""
   ]
  },
  {
   "cell_type": "code",
   "execution_count": 14,
   "id": "5d68c5dc",
   "metadata": {},
   "outputs": [
    {
     "data": {
      "text/plain": [
       "SEASON         0\n",
       "ENDING_DATE    0\n",
       "TOURNAMENT     0\n",
       "COURSE         0\n",
       "PLAYER         0\n",
       "POS            0\n",
       "FINAL_POS      0\n",
       "SGTTG_RANK     0\n",
       "SGTTG          0\n",
       "SGOTT_RANK     0\n",
       "dtype: int64"
      ]
     },
     "execution_count": 14,
     "metadata": {},
     "output_type": "execute_result"
    }
   ],
   "source": [
    "# Inspect which columns have NaN values\n",
    "training_df.isna().sum().sort_values(ascending=False).head(10)\n"
   ]
  },
  {
   "cell_type": "markdown",
   "id": "1214b374",
   "metadata": {},
   "source": [
    "### Check Features for Outliers and General Health (Histograms)\n",
    "Now that all the data is cleaned, let's look at the distribution graphs."
   ]
  },
  {
   "cell_type": "code",
   "execution_count": null,
   "id": "c3ac2331",
   "metadata": {},
   "outputs": [],
   "source": [
    "import plotly.express as px\n",
    "import plotly.subplots as sp\n",
    "import plotly.graph_objects as go\n",
    "import pandas as pd\n",
    "import numpy as np\n",
    "\n",
    "# Select numeric columns with >1 unique value, excluding label\n",
    "df_numeric = training_df.select_dtypes(include=np.number)\n",
    "df_numeric = df_numeric.loc[:, df_numeric.nunique() > 1]\n",
    "df_numeric = df_numeric.drop(columns=[\"TOP_20\"], errors=\"ignore\")\n",
    "\n",
    "# Create subplots\n",
    "n_cols = 3\n",
    "n_rows = int(np.ceil(len(df_numeric.columns) / n_cols))\n",
    "fig = sp.make_subplots(rows=n_rows, cols=n_cols, subplot_titles=df_numeric.columns)\n",
    "\n",
    "# Add one histogram per feature with smart binning\n",
    "for i, column in enumerate(df_numeric.columns):\n",
    "    row = i // n_cols + 1\n",
    "    col = i % n_cols + 1\n",
    "\n",
    "    # Compute dynamic bin count\n",
    "    col_range = df_numeric[column].max() - df_numeric[column].min()\n",
    "    n_unique = df_numeric[column].nunique()\n",
    "    nbins = min(50, max(5, int(n_unique / 2))) if col_range < 10 else 50  # tighter for short-range\n",
    "\n",
    "    fig.add_trace(\n",
    "        go.Histogram(\n",
    "            x=df_numeric[column],\n",
    "            nbinsx=nbins,\n",
    "            histnorm=\"density\",\n",
    "            marker=dict(color=\"#636EFA\"),\n",
    "            opacity=0.8\n",
    "        ),\n",
    "        row=row,\n",
    "        col=col\n",
    "    )\n",
    "\n",
    "# Style the figure\n",
    "fig.update_layout(\n",
    "    height=300 * n_rows,\n",
    "    width=1000,\n",
    "    title_text=\"Feature Distributions (with Adaptive Binning)\",\n",
    "    template=\"plotly_dark\",\n",
    "    showlegend=False\n",
    ")\n",
    "\n",
    "fig.show()"
   ]
  },
  {
   "cell_type": "markdown",
   "id": "7dd53f87",
   "metadata": {},
   "source": [
    "# Current Week Data"
   ]
  },
  {
   "cell_type": "markdown",
   "id": "fbd0a012",
   "metadata": {},
   "source": [
    "## Import 2025 Field\n",
    "**Important!**  Save curren't week's `DKSalaries.csv` into Data folder before this step."
   ]
  },
  {
   "cell_type": "code",
   "execution_count": 15,
   "id": "f17875f6",
   "metadata": {},
   "outputs": [
    {
     "data": {
      "text/html": [
       "<div>\n",
       "<style scoped>\n",
       "    .dataframe tbody tr th:only-of-type {\n",
       "        vertical-align: middle;\n",
       "    }\n",
       "\n",
       "    .dataframe tbody tr th {\n",
       "        vertical-align: top;\n",
       "    }\n",
       "\n",
       "    .dataframe thead th {\n",
       "        text-align: right;\n",
       "    }\n",
       "</style>\n",
       "<table border=\"1\" class=\"dataframe\">\n",
       "  <thead>\n",
       "    <tr style=\"text-align: right;\">\n",
       "      <th></th>\n",
       "      <th>PLAYER</th>\n",
       "      <th>SALARY</th>\n",
       "    </tr>\n",
       "  </thead>\n",
       "  <tbody>\n",
       "    <tr>\n",
       "      <th>0</th>\n",
       "      <td>Scottie Scheffler</td>\n",
       "      <td>13100</td>\n",
       "    </tr>\n",
       "    <tr>\n",
       "      <th>1</th>\n",
       "      <td>Rory McIlroy</td>\n",
       "      <td>11400</td>\n",
       "    </tr>\n",
       "    <tr>\n",
       "      <th>2</th>\n",
       "      <td>Xander Schauffele</td>\n",
       "      <td>10100</td>\n",
       "    </tr>\n",
       "    <tr>\n",
       "      <th>3</th>\n",
       "      <td>Tommy Fleetwood</td>\n",
       "      <td>9900</td>\n",
       "    </tr>\n",
       "    <tr>\n",
       "      <th>4</th>\n",
       "      <td>Collin Morikawa</td>\n",
       "      <td>9600</td>\n",
       "    </tr>\n",
       "    <tr>\n",
       "      <th>5</th>\n",
       "      <td>Ludvig Aberg</td>\n",
       "      <td>9400</td>\n",
       "    </tr>\n",
       "    <tr>\n",
       "      <th>6</th>\n",
       "      <td>Viktor Hovland</td>\n",
       "      <td>9300</td>\n",
       "    </tr>\n",
       "    <tr>\n",
       "      <th>7</th>\n",
       "      <td>Justin Thomas</td>\n",
       "      <td>9200</td>\n",
       "    </tr>\n",
       "    <tr>\n",
       "      <th>8</th>\n",
       "      <td>Robert Macintyre</td>\n",
       "      <td>9100</td>\n",
       "    </tr>\n",
       "    <tr>\n",
       "      <th>9</th>\n",
       "      <td>Sam Burns</td>\n",
       "      <td>9000</td>\n",
       "    </tr>\n",
       "  </tbody>\n",
       "</table>\n",
       "</div>"
      ],
      "text/plain": [
       "              PLAYER  SALARY\n",
       "0  Scottie Scheffler   13100\n",
       "1       Rory McIlroy   11400\n",
       "2  Xander Schauffele   10100\n",
       "3    Tommy Fleetwood    9900\n",
       "4    Collin Morikawa    9600\n",
       "5       Ludvig Aberg    9400\n",
       "6     Viktor Hovland    9300\n",
       "7      Justin Thomas    9200\n",
       "8   Robert Macintyre    9100\n",
       "9          Sam Burns    9000"
      ]
     },
     "execution_count": 15,
     "metadata": {},
     "output_type": "execute_result"
    }
   ],
   "source": [
    "importlib.reload(utils.db_utils)\n",
    "from utils.db_utils import DK_PLAYER_NAME_MAP\n",
    "\n",
    "# Load DraftKings player list\n",
    "dk = pd.read_csv(\"data/DKSalaries.csv\", usecols=[\"Name\", \"Salary\"])\n",
    "\n",
    "# Normalize DK names to PGA naming convention\n",
    "dk[\"Name\"] = dk[\"Name\"].replace(DK_PLAYER_NAME_MAP)\n",
    "\n",
    "# Rename for consistency\n",
    "dk = dk.rename(columns={\"Name\": \"PLAYER\", \"Salary\": \"SALARY\"})\n",
    "\n",
    "dk.head(10)"
   ]
  },
  {
   "cell_type": "markdown",
   "id": "544d958c",
   "metadata": {},
   "source": [
    "## Vegas Odds\n",
    "Confirm the [Vegas Odds](http://golfodds.com/weekly-odds.html) page is updated with current tournament.\n",
    "\n",
    "Note: sometimes this site can give errors and not load correctly.  Just have to do it again later.\n",
    "Another trick to try is change the url try to run it and then put the url back the way it was.  Worked once, maybe random coincidence."
   ]
  },
  {
   "cell_type": "code",
   "execution_count": 16,
   "id": "a3cba953",
   "metadata": {},
   "outputs": [
    {
     "data": {
      "text/html": [
       "<div>\n",
       "<style scoped>\n",
       "    .dataframe tbody tr th:only-of-type {\n",
       "        vertical-align: middle;\n",
       "    }\n",
       "\n",
       "    .dataframe tbody tr th {\n",
       "        vertical-align: top;\n",
       "    }\n",
       "\n",
       "    .dataframe thead th {\n",
       "        text-align: right;\n",
       "    }\n",
       "</style>\n",
       "<table border=\"1\" class=\"dataframe\">\n",
       "  <thead>\n",
       "    <tr style=\"text-align: right;\">\n",
       "      <th></th>\n",
       "      <th>SEASON</th>\n",
       "      <th>TOURNAMENT</th>\n",
       "      <th>PLAYER</th>\n",
       "      <th>ODDS</th>\n",
       "      <th>VEGAS_ODDS</th>\n",
       "    </tr>\n",
       "  </thead>\n",
       "  <tbody>\n",
       "    <tr>\n",
       "      <th>1</th>\n",
       "      <td>2025</td>\n",
       "      <td>Genesis Scottish Open</td>\n",
       "      <td>Scottie Scheffler</td>\n",
       "      <td>5/1</td>\n",
       "      <td>5.0</td>\n",
       "    </tr>\n",
       "    <tr>\n",
       "      <th>2</th>\n",
       "      <td>2025</td>\n",
       "      <td>Genesis Scottish Open</td>\n",
       "      <td>Rory McIlroy</td>\n",
       "      <td>10/1</td>\n",
       "      <td>10.0</td>\n",
       "    </tr>\n",
       "    <tr>\n",
       "      <th>3</th>\n",
       "      <td>2025</td>\n",
       "      <td>Genesis Scottish Open</td>\n",
       "      <td>Tommy Fleetwood</td>\n",
       "      <td>20/1</td>\n",
       "      <td>20.0</td>\n",
       "    </tr>\n",
       "    <tr>\n",
       "      <th>4</th>\n",
       "      <td>2025</td>\n",
       "      <td>Genesis Scottish Open</td>\n",
       "      <td>Xander Schauffele</td>\n",
       "      <td>20/1</td>\n",
       "      <td>20.0</td>\n",
       "    </tr>\n",
       "    <tr>\n",
       "      <th>5</th>\n",
       "      <td>2025</td>\n",
       "      <td>Genesis Scottish Open</td>\n",
       "      <td>Ludvig Aberg</td>\n",
       "      <td>25/1</td>\n",
       "      <td>25.0</td>\n",
       "    </tr>\n",
       "    <tr>\n",
       "      <th>6</th>\n",
       "      <td>2025</td>\n",
       "      <td>Genesis Scottish Open</td>\n",
       "      <td>Collin Morikawa</td>\n",
       "      <td>25/1</td>\n",
       "      <td>25.0</td>\n",
       "    </tr>\n",
       "    <tr>\n",
       "      <th>7</th>\n",
       "      <td>2025</td>\n",
       "      <td>Genesis Scottish Open</td>\n",
       "      <td>Robert MacIntyre</td>\n",
       "      <td>25/1</td>\n",
       "      <td>25.0</td>\n",
       "    </tr>\n",
       "    <tr>\n",
       "      <th>8</th>\n",
       "      <td>2025</td>\n",
       "      <td>Genesis Scottish Open</td>\n",
       "      <td>Viktor Hovland</td>\n",
       "      <td>30/1</td>\n",
       "      <td>30.0</td>\n",
       "    </tr>\n",
       "    <tr>\n",
       "      <th>9</th>\n",
       "      <td>2025</td>\n",
       "      <td>Genesis Scottish Open</td>\n",
       "      <td>Justin Thomas</td>\n",
       "      <td>35/1</td>\n",
       "      <td>35.0</td>\n",
       "    </tr>\n",
       "    <tr>\n",
       "      <th>10</th>\n",
       "      <td>2025</td>\n",
       "      <td>Genesis Scottish Open</td>\n",
       "      <td>Sam Burns</td>\n",
       "      <td>35/1</td>\n",
       "      <td>35.0</td>\n",
       "    </tr>\n",
       "  </tbody>\n",
       "</table>\n",
       "</div>"
      ],
      "text/plain": [
       "    SEASON             TOURNAMENT             PLAYER  ODDS  VEGAS_ODDS\n",
       "1     2025  Genesis Scottish Open  Scottie Scheffler   5/1         5.0\n",
       "2     2025  Genesis Scottish Open       Rory McIlroy  10/1        10.0\n",
       "3     2025  Genesis Scottish Open    Tommy Fleetwood  20/1        20.0\n",
       "4     2025  Genesis Scottish Open  Xander Schauffele  20/1        20.0\n",
       "5     2025  Genesis Scottish Open       Ludvig Aberg  25/1        25.0\n",
       "6     2025  Genesis Scottish Open    Collin Morikawa  25/1        25.0\n",
       "7     2025  Genesis Scottish Open   Robert MacIntyre  25/1        25.0\n",
       "8     2025  Genesis Scottish Open     Viktor Hovland  30/1        30.0\n",
       "9     2025  Genesis Scottish Open      Justin Thomas  35/1        35.0\n",
       "10    2025  Genesis Scottish Open          Sam Burns  35/1        35.0"
      ]
     },
     "execution_count": 16,
     "metadata": {},
     "output_type": "execute_result"
    }
   ],
   "source": [
    "importlib.reload(utils.db_utils)\n",
    "from utils.db_utils import get_current_week_odds\n",
    "\n",
    "odds_current = get_current_week_odds(season=2025, tournament_name=new_tournament_name)\n",
    "odds_current.head(10)\n"
   ]
  },
  {
   "cell_type": "markdown",
   "id": "f58bb5d0",
   "metadata": {},
   "source": [
    "## Cut Percentage and FedEx Points"
   ]
  },
  {
   "cell_type": "code",
   "execution_count": 17,
   "id": "a927b0b2",
   "metadata": {},
   "outputs": [
    {
     "data": {
      "text/html": [
       "<div>\n",
       "<style scoped>\n",
       "    .dataframe tbody tr th:only-of-type {\n",
       "        vertical-align: middle;\n",
       "    }\n",
       "\n",
       "    .dataframe tbody tr th {\n",
       "        vertical-align: top;\n",
       "    }\n",
       "\n",
       "    .dataframe thead th {\n",
       "        text-align: right;\n",
       "    }\n",
       "</style>\n",
       "<table border=\"1\" class=\"dataframe\">\n",
       "  <thead>\n",
       "    <tr style=\"text-align: right;\">\n",
       "      <th></th>\n",
       "      <th>PLAYER</th>\n",
       "      <th>TOTAL_EVENTS_PLAYED</th>\n",
       "      <th>CUTS_MADE</th>\n",
       "      <th>FEDEX_CUP_POINTS</th>\n",
       "      <th>CUT_PERCENTAGE</th>\n",
       "      <th>form_density</th>\n",
       "      <th>CONSECUTIVE_CUTS</th>\n",
       "      <th>ENDING_DATE</th>\n",
       "      <th>TOURNAMENT</th>\n",
       "    </tr>\n",
       "  </thead>\n",
       "  <tbody>\n",
       "    <tr>\n",
       "      <th>0</th>\n",
       "      <td>A.J. Ewart</td>\n",
       "      <td>1</td>\n",
       "      <td>0</td>\n",
       "      <td>0.000</td>\n",
       "      <td>0.0</td>\n",
       "      <td>0.00</td>\n",
       "      <td>0</td>\n",
       "      <td>2025-07-13</td>\n",
       "      <td>Genesis Scottish Open</td>\n",
       "    </tr>\n",
       "    <tr>\n",
       "      <th>1</th>\n",
       "      <td>Aaron Baddeley</td>\n",
       "      <td>15</td>\n",
       "      <td>6</td>\n",
       "      <td>49.088</td>\n",
       "      <td>40.0</td>\n",
       "      <td>3.27</td>\n",
       "      <td>0</td>\n",
       "      <td>2025-07-13</td>\n",
       "      <td>Genesis Scottish Open</td>\n",
       "    </tr>\n",
       "    <tr>\n",
       "      <th>2</th>\n",
       "      <td>Aaron Rai</td>\n",
       "      <td>17</td>\n",
       "      <td>13</td>\n",
       "      <td>660.480</td>\n",
       "      <td>76.5</td>\n",
       "      <td>38.85</td>\n",
       "      <td>2</td>\n",
       "      <td>2025-07-13</td>\n",
       "      <td>Genesis Scottish Open</td>\n",
       "    </tr>\n",
       "    <tr>\n",
       "      <th>3</th>\n",
       "      <td>Aaron Wise</td>\n",
       "      <td>3</td>\n",
       "      <td>1</td>\n",
       "      <td>6.333</td>\n",
       "      <td>33.3</td>\n",
       "      <td>2.11</td>\n",
       "      <td>0</td>\n",
       "      <td>2025-07-13</td>\n",
       "      <td>Genesis Scottish Open</td>\n",
       "    </tr>\n",
       "    <tr>\n",
       "      <th>4</th>\n",
       "      <td>Adam Hadwin</td>\n",
       "      <td>20</td>\n",
       "      <td>13</td>\n",
       "      <td>214.432</td>\n",
       "      <td>65.0</td>\n",
       "      <td>10.72</td>\n",
       "      <td>0</td>\n",
       "      <td>2025-07-13</td>\n",
       "      <td>Genesis Scottish Open</td>\n",
       "    </tr>\n",
       "    <tr>\n",
       "      <th>5</th>\n",
       "      <td>Adam Long</td>\n",
       "      <td>1</td>\n",
       "      <td>0</td>\n",
       "      <td>0.000</td>\n",
       "      <td>0.0</td>\n",
       "      <td>0.00</td>\n",
       "      <td>0</td>\n",
       "      <td>2025-07-13</td>\n",
       "      <td>Genesis Scottish Open</td>\n",
       "    </tr>\n",
       "    <tr>\n",
       "      <th>6</th>\n",
       "      <td>Adam Schenk</td>\n",
       "      <td>20</td>\n",
       "      <td>9</td>\n",
       "      <td>270.904</td>\n",
       "      <td>45.0</td>\n",
       "      <td>13.55</td>\n",
       "      <td>0</td>\n",
       "      <td>2025-07-13</td>\n",
       "      <td>Genesis Scottish Open</td>\n",
       "    </tr>\n",
       "    <tr>\n",
       "      <th>7</th>\n",
       "      <td>Adam Scott</td>\n",
       "      <td>13</td>\n",
       "      <td>11</td>\n",
       "      <td>392.203</td>\n",
       "      <td>84.6</td>\n",
       "      <td>30.17</td>\n",
       "      <td>6</td>\n",
       "      <td>2025-07-13</td>\n",
       "      <td>Genesis Scottish Open</td>\n",
       "    </tr>\n",
       "    <tr>\n",
       "      <th>8</th>\n",
       "      <td>Adam Svensson</td>\n",
       "      <td>20</td>\n",
       "      <td>11</td>\n",
       "      <td>135.343</td>\n",
       "      <td>55.0</td>\n",
       "      <td>6.77</td>\n",
       "      <td>1</td>\n",
       "      <td>2025-07-13</td>\n",
       "      <td>Genesis Scottish Open</td>\n",
       "    </tr>\n",
       "    <tr>\n",
       "      <th>9</th>\n",
       "      <td>Adrien Dumont de Chassart</td>\n",
       "      <td>6</td>\n",
       "      <td>2</td>\n",
       "      <td>195.000</td>\n",
       "      <td>33.3</td>\n",
       "      <td>32.50</td>\n",
       "      <td>0</td>\n",
       "      <td>2025-07-13</td>\n",
       "      <td>Genesis Scottish Open</td>\n",
       "    </tr>\n",
       "  </tbody>\n",
       "</table>\n",
       "</div>"
      ],
      "text/plain": [
       "                      PLAYER  TOTAL_EVENTS_PLAYED  CUTS_MADE  \\\n",
       "0                 A.J. Ewart                    1          0   \n",
       "1             Aaron Baddeley                   15          6   \n",
       "2                  Aaron Rai                   17         13   \n",
       "3                 Aaron Wise                    3          1   \n",
       "4                Adam Hadwin                   20         13   \n",
       "5                  Adam Long                    1          0   \n",
       "6                Adam Schenk                   20          9   \n",
       "7                 Adam Scott                   13         11   \n",
       "8              Adam Svensson                   20         11   \n",
       "9  Adrien Dumont de Chassart                    6          2   \n",
       "\n",
       "   FEDEX_CUP_POINTS  CUT_PERCENTAGE  form_density  CONSECUTIVE_CUTS  \\\n",
       "0             0.000             0.0          0.00                 0   \n",
       "1            49.088            40.0          3.27                 0   \n",
       "2           660.480            76.5         38.85                 2   \n",
       "3             6.333            33.3          2.11                 0   \n",
       "4           214.432            65.0         10.72                 0   \n",
       "5             0.000             0.0          0.00                 0   \n",
       "6           270.904            45.0         13.55                 0   \n",
       "7           392.203            84.6         30.17                 6   \n",
       "8           135.343            55.0          6.77                 1   \n",
       "9           195.000            33.3         32.50                 0   \n",
       "\n",
       "  ENDING_DATE             TOURNAMENT  \n",
       "0  2025-07-13  Genesis Scottish Open  \n",
       "1  2025-07-13  Genesis Scottish Open  \n",
       "2  2025-07-13  Genesis Scottish Open  \n",
       "3  2025-07-13  Genesis Scottish Open  \n",
       "4  2025-07-13  Genesis Scottish Open  \n",
       "5  2025-07-13  Genesis Scottish Open  \n",
       "6  2025-07-13  Genesis Scottish Open  \n",
       "7  2025-07-13  Genesis Scottish Open  \n",
       "8  2025-07-13  Genesis Scottish Open  \n",
       "9  2025-07-13  Genesis Scottish Open  "
      ]
     },
     "execution_count": 17,
     "metadata": {},
     "output_type": "execute_result"
    }
   ],
   "source": [
    "importlib.reload(utils.db_utils)\n",
    "from utils.db_utils import get_cut_and_fedex_history\n",
    "\n",
    "cuts_rolling = get_cut_and_fedex_history(db_path, this_week_history, window_months=9)\n",
    "cuts_current = cuts_rolling[this_week_key].copy()\n",
    "cuts_current.head(10)"
   ]
  },
  {
   "cell_type": "markdown",
   "id": "abdf22cb",
   "metadata": {},
   "source": [
    "## Recent Form"
   ]
  },
  {
   "cell_type": "code",
   "execution_count": 18,
   "id": "58cfb255",
   "metadata": {},
   "outputs": [
    {
     "data": {
      "text/html": [
       "<div>\n",
       "<style scoped>\n",
       "    .dataframe tbody tr th:only-of-type {\n",
       "        vertical-align: middle;\n",
       "    }\n",
       "\n",
       "    .dataframe tbody tr th {\n",
       "        vertical-align: top;\n",
       "    }\n",
       "\n",
       "    .dataframe thead th {\n",
       "        text-align: right;\n",
       "    }\n",
       "</style>\n",
       "<table border=\"1\" class=\"dataframe\">\n",
       "  <thead>\n",
       "    <tr style=\"text-align: right;\">\n",
       "      <th></th>\n",
       "      <th>PLAYER</th>\n",
       "      <th>TOTAL_EVENTS_PLAYED</th>\n",
       "      <th>RECENT_FORM</th>\n",
       "      <th>adj_form</th>\n",
       "      <th>ENDING_DATE</th>\n",
       "      <th>TOURNAMENT</th>\n",
       "    </tr>\n",
       "  </thead>\n",
       "  <tbody>\n",
       "    <tr>\n",
       "      <th>0</th>\n",
       "      <td>Carlos Ortiz</td>\n",
       "      <td>1</td>\n",
       "      <td>4.0</td>\n",
       "      <td>5.77</td>\n",
       "      <td>2025-07-13</td>\n",
       "      <td>Genesis Scottish Open</td>\n",
       "    </tr>\n",
       "    <tr>\n",
       "      <th>1</th>\n",
       "      <td>Scottie Scheffler</td>\n",
       "      <td>15</td>\n",
       "      <td>6.9</td>\n",
       "      <td>2.49</td>\n",
       "      <td>2025-07-13</td>\n",
       "      <td>Genesis Scottish Open</td>\n",
       "    </tr>\n",
       "    <tr>\n",
       "      <th>2</th>\n",
       "      <td>Jon Rahm</td>\n",
       "      <td>3</td>\n",
       "      <td>9.7</td>\n",
       "      <td>7.00</td>\n",
       "      <td>2025-07-13</td>\n",
       "      <td>Genesis Scottish Open</td>\n",
       "    </tr>\n",
       "    <tr>\n",
       "      <th>3</th>\n",
       "      <td>Bubba Watson</td>\n",
       "      <td>1</td>\n",
       "      <td>14.0</td>\n",
       "      <td>20.20</td>\n",
       "      <td>2025-07-13</td>\n",
       "      <td>Genesis Scottish Open</td>\n",
       "    </tr>\n",
       "    <tr>\n",
       "      <th>4</th>\n",
       "      <td>Ian Gilligan</td>\n",
       "      <td>1</td>\n",
       "      <td>16.0</td>\n",
       "      <td>23.08</td>\n",
       "      <td>2025-07-13</td>\n",
       "      <td>Genesis Scottish Open</td>\n",
       "    </tr>\n",
       "    <tr>\n",
       "      <th>5</th>\n",
       "      <td>Taisei Shimizu</td>\n",
       "      <td>1</td>\n",
       "      <td>16.0</td>\n",
       "      <td>23.08</td>\n",
       "      <td>2025-07-13</td>\n",
       "      <td>Genesis Scottish Open</td>\n",
       "    </tr>\n",
       "    <tr>\n",
       "      <th>6</th>\n",
       "      <td>Stewart Cink</td>\n",
       "      <td>1</td>\n",
       "      <td>17.0</td>\n",
       "      <td>24.53</td>\n",
       "      <td>2025-07-13</td>\n",
       "      <td>Genesis Scottish Open</td>\n",
       "    </tr>\n",
       "    <tr>\n",
       "      <th>7</th>\n",
       "      <td>Rory McIlroy</td>\n",
       "      <td>11</td>\n",
       "      <td>19.0</td>\n",
       "      <td>7.65</td>\n",
       "      <td>2025-07-13</td>\n",
       "      <td>Genesis Scottish Open</td>\n",
       "    </tr>\n",
       "    <tr>\n",
       "      <th>8</th>\n",
       "      <td>Yuto Katsuragawa</td>\n",
       "      <td>1</td>\n",
       "      <td>22.0</td>\n",
       "      <td>31.74</td>\n",
       "      <td>2025-07-13</td>\n",
       "      <td>Genesis Scottish Open</td>\n",
       "    </tr>\n",
       "    <tr>\n",
       "      <th>9</th>\n",
       "      <td>Ren Yonezawa</td>\n",
       "      <td>1</td>\n",
       "      <td>22.0</td>\n",
       "      <td>31.74</td>\n",
       "      <td>2025-07-13</td>\n",
       "      <td>Genesis Scottish Open</td>\n",
       "    </tr>\n",
       "  </tbody>\n",
       "</table>\n",
       "</div>"
      ],
      "text/plain": [
       "              PLAYER  TOTAL_EVENTS_PLAYED  RECENT_FORM  adj_form ENDING_DATE  \\\n",
       "0       Carlos Ortiz                    1          4.0      5.77  2025-07-13   \n",
       "1  Scottie Scheffler                   15          6.9      2.49  2025-07-13   \n",
       "2           Jon Rahm                    3          9.7      7.00  2025-07-13   \n",
       "3       Bubba Watson                    1         14.0     20.20  2025-07-13   \n",
       "4       Ian Gilligan                    1         16.0     23.08  2025-07-13   \n",
       "5     Taisei Shimizu                    1         16.0     23.08  2025-07-13   \n",
       "6       Stewart Cink                    1         17.0     24.53  2025-07-13   \n",
       "7       Rory McIlroy                   11         19.0      7.65  2025-07-13   \n",
       "8   Yuto Katsuragawa                    1         22.0     31.74  2025-07-13   \n",
       "9       Ren Yonezawa                    1         22.0     31.74  2025-07-13   \n",
       "\n",
       "              TOURNAMENT  \n",
       "0  Genesis Scottish Open  \n",
       "1  Genesis Scottish Open  \n",
       "2  Genesis Scottish Open  \n",
       "3  Genesis Scottish Open  \n",
       "4  Genesis Scottish Open  \n",
       "5  Genesis Scottish Open  \n",
       "6  Genesis Scottish Open  \n",
       "7  Genesis Scottish Open  \n",
       "8  Genesis Scottish Open  \n",
       "9  Genesis Scottish Open  "
      ]
     },
     "execution_count": 18,
     "metadata": {},
     "output_type": "execute_result"
    }
   ],
   "source": [
    "importlib.reload(utils.db_utils)\n",
    "from utils.db_utils import get_recent_avg_finish\n",
    "\n",
    "recent_form = get_recent_avg_finish(db_path, this_week_history, window_months=9)\n",
    "recent_form_current = recent_form[this_week_key].copy()\n",
    "\n",
    "recent_form_current.head(10)"
   ]
  },
  {
   "cell_type": "markdown",
   "id": "6386214b",
   "metadata": {},
   "source": [
    "## Course History"
   ]
  },
  {
   "cell_type": "code",
   "execution_count": 19,
   "id": "c1c0ec95",
   "metadata": {},
   "outputs": [
    {
     "data": {
      "text/html": [
       "<div>\n",
       "<style scoped>\n",
       "    .dataframe tbody tr th:only-of-type {\n",
       "        vertical-align: middle;\n",
       "    }\n",
       "\n",
       "    .dataframe tbody tr th {\n",
       "        vertical-align: top;\n",
       "    }\n",
       "\n",
       "    .dataframe thead th {\n",
       "        text-align: right;\n",
       "    }\n",
       "</style>\n",
       "<table border=\"1\" class=\"dataframe\">\n",
       "  <thead>\n",
       "    <tr style=\"text-align: right;\">\n",
       "      <th></th>\n",
       "      <th>PLAYER</th>\n",
       "      <th>TOTAL_EVENTS_PLAYED</th>\n",
       "      <th>COURSE_HISTORY</th>\n",
       "      <th>adj_ch</th>\n",
       "      <th>ENDING_DATE</th>\n",
       "      <th>COURSE</th>\n",
       "      <th>TOURNAMENT</th>\n",
       "    </tr>\n",
       "  </thead>\n",
       "  <tbody>\n",
       "    <tr>\n",
       "      <th>0</th>\n",
       "      <td>Aaron Baddeley</td>\n",
       "      <td>1</td>\n",
       "      <td>90.0</td>\n",
       "      <td>129.84</td>\n",
       "      <td>2025-07-13</td>\n",
       "      <td>The Renaissance Club</td>\n",
       "      <td>Genesis Scottish Open</td>\n",
       "    </tr>\n",
       "    <tr>\n",
       "      <th>1</th>\n",
       "      <td>Aaron Cockerill</td>\n",
       "      <td>1</td>\n",
       "      <td>90.0</td>\n",
       "      <td>129.84</td>\n",
       "      <td>2025-07-13</td>\n",
       "      <td>The Renaissance Club</td>\n",
       "      <td>Genesis Scottish Open</td>\n",
       "    </tr>\n",
       "    <tr>\n",
       "      <th>2</th>\n",
       "      <td>Aaron Rai</td>\n",
       "      <td>2</td>\n",
       "      <td>47.0</td>\n",
       "      <td>42.78</td>\n",
       "      <td>2025-07-13</td>\n",
       "      <td>The Renaissance Club</td>\n",
       "      <td>Genesis Scottish Open</td>\n",
       "    </tr>\n",
       "    <tr>\n",
       "      <th>3</th>\n",
       "      <td>Aaron Wise</td>\n",
       "      <td>1</td>\n",
       "      <td>5.0</td>\n",
       "      <td>7.21</td>\n",
       "      <td>2025-07-13</td>\n",
       "      <td>The Renaissance Club</td>\n",
       "      <td>Genesis Scottish Open</td>\n",
       "    </tr>\n",
       "    <tr>\n",
       "      <th>4</th>\n",
       "      <td>Abraham Ancer</td>\n",
       "      <td>1</td>\n",
       "      <td>14.0</td>\n",
       "      <td>20.20</td>\n",
       "      <td>2025-07-13</td>\n",
       "      <td>The Renaissance Club</td>\n",
       "      <td>Genesis Scottish Open</td>\n",
       "    </tr>\n",
       "    <tr>\n",
       "      <th>5</th>\n",
       "      <td>Adam Hadwin</td>\n",
       "      <td>1</td>\n",
       "      <td>34.0</td>\n",
       "      <td>49.05</td>\n",
       "      <td>2025-07-13</td>\n",
       "      <td>The Renaissance Club</td>\n",
       "      <td>Genesis Scottish Open</td>\n",
       "    </tr>\n",
       "    <tr>\n",
       "      <th>6</th>\n",
       "      <td>Adam Scott</td>\n",
       "      <td>3</td>\n",
       "      <td>32.3</td>\n",
       "      <td>23.30</td>\n",
       "      <td>2025-07-13</td>\n",
       "      <td>The Renaissance Club</td>\n",
       "      <td>Genesis Scottish Open</td>\n",
       "    </tr>\n",
       "    <tr>\n",
       "      <th>7</th>\n",
       "      <td>Adria Arnaus</td>\n",
       "      <td>2</td>\n",
       "      <td>79.0</td>\n",
       "      <td>71.91</td>\n",
       "      <td>2025-07-13</td>\n",
       "      <td>The Renaissance Club</td>\n",
       "      <td>Genesis Scottish Open</td>\n",
       "    </tr>\n",
       "    <tr>\n",
       "      <th>8</th>\n",
       "      <td>Adrian Meronk</td>\n",
       "      <td>1</td>\n",
       "      <td>90.0</td>\n",
       "      <td>129.84</td>\n",
       "      <td>2025-07-13</td>\n",
       "      <td>The Renaissance Club</td>\n",
       "      <td>Genesis Scottish Open</td>\n",
       "    </tr>\n",
       "    <tr>\n",
       "      <th>9</th>\n",
       "      <td>Adrian Otaegui</td>\n",
       "      <td>2</td>\n",
       "      <td>90.0</td>\n",
       "      <td>81.92</td>\n",
       "      <td>2025-07-13</td>\n",
       "      <td>The Renaissance Club</td>\n",
       "      <td>Genesis Scottish Open</td>\n",
       "    </tr>\n",
       "  </tbody>\n",
       "</table>\n",
       "</div>"
      ],
      "text/plain": [
       "            PLAYER  TOTAL_EVENTS_PLAYED  COURSE_HISTORY  adj_ch ENDING_DATE  \\\n",
       "0   Aaron Baddeley                    1            90.0  129.84  2025-07-13   \n",
       "1  Aaron Cockerill                    1            90.0  129.84  2025-07-13   \n",
       "2        Aaron Rai                    2            47.0   42.78  2025-07-13   \n",
       "3       Aaron Wise                    1             5.0    7.21  2025-07-13   \n",
       "4    Abraham Ancer                    1            14.0   20.20  2025-07-13   \n",
       "5      Adam Hadwin                    1            34.0   49.05  2025-07-13   \n",
       "6       Adam Scott                    3            32.3   23.30  2025-07-13   \n",
       "7     Adria Arnaus                    2            79.0   71.91  2025-07-13   \n",
       "8    Adrian Meronk                    1            90.0  129.84  2025-07-13   \n",
       "9   Adrian Otaegui                    2            90.0   81.92  2025-07-13   \n",
       "\n",
       "                 COURSE             TOURNAMENT  \n",
       "0  The Renaissance Club  Genesis Scottish Open  \n",
       "1  The Renaissance Club  Genesis Scottish Open  \n",
       "2  The Renaissance Club  Genesis Scottish Open  \n",
       "3  The Renaissance Club  Genesis Scottish Open  \n",
       "4  The Renaissance Club  Genesis Scottish Open  \n",
       "5  The Renaissance Club  Genesis Scottish Open  \n",
       "6  The Renaissance Club  Genesis Scottish Open  \n",
       "7  The Renaissance Club  Genesis Scottish Open  \n",
       "8  The Renaissance Club  Genesis Scottish Open  \n",
       "9  The Renaissance Club  Genesis Scottish Open  "
      ]
     },
     "execution_count": 19,
     "metadata": {},
     "output_type": "execute_result"
    }
   ],
   "source": [
    "importlib.reload(utils.db_utils)\n",
    "from utils.db_utils import get_course_history\n",
    "\n",
    "course_hist = get_course_history(db_path, this_week_history, lookback_years=7)\n",
    "course_hist_current = course_hist[this_week_key].copy()\n",
    "\n",
    "course_hist_current.head(10)\n"
   ]
  },
  {
   "cell_type": "markdown",
   "id": "cff50c6a",
   "metadata": {},
   "source": [
    "## Merged Dataframe"
   ]
  },
  {
   "cell_type": "code",
   "execution_count": 20,
   "id": "4ea0e7da",
   "metadata": {},
   "outputs": [
    {
     "data": {
      "text/html": [
       "<div>\n",
       "<style scoped>\n",
       "    .dataframe tbody tr th:only-of-type {\n",
       "        vertical-align: middle;\n",
       "    }\n",
       "\n",
       "    .dataframe tbody tr th {\n",
       "        vertical-align: top;\n",
       "    }\n",
       "\n",
       "    .dataframe thead th {\n",
       "        text-align: right;\n",
       "    }\n",
       "</style>\n",
       "<table border=\"1\" class=\"dataframe\">\n",
       "  <thead>\n",
       "    <tr style=\"text-align: right;\">\n",
       "      <th></th>\n",
       "      <th>PLAYER</th>\n",
       "      <th>SGTTG_RANK</th>\n",
       "      <th>SGTTG</th>\n",
       "      <th>SGOTT_RANK</th>\n",
       "      <th>SGOTT</th>\n",
       "      <th>SGAPR_RANK</th>\n",
       "      <th>SGAPR</th>\n",
       "      <th>SGATG_RANK</th>\n",
       "      <th>SGATG</th>\n",
       "      <th>SGP_RANK</th>\n",
       "      <th>SGP</th>\n",
       "      <th>BIRDIES_RANK</th>\n",
       "      <th>BIRDIES</th>\n",
       "      <th>PAR_3_RANK</th>\n",
       "      <th>PAR_3</th>\n",
       "      <th>PAR_4_RANK</th>\n",
       "      <th>PAR_4</th>\n",
       "      <th>PAR_5_RANK</th>\n",
       "      <th>PAR_5</th>\n",
       "      <th>TOTAL_DRIVING_RANK</th>\n",
       "      <th>TOTAL_DRIVING</th>\n",
       "      <th>DRIVING_DISTANCE_RANK</th>\n",
       "      <th>DRIVING_DISTANCE</th>\n",
       "      <th>DRIVING_ACCURACY_RANK</th>\n",
       "      <th>DRIVING_ACCURACY</th>\n",
       "      <th>GIR_RANK</th>\n",
       "      <th>GIR</th>\n",
       "      <th>SCRAMBLING_RANK</th>\n",
       "      <th>SCRAMBLING</th>\n",
       "      <th>OWGR_RANK</th>\n",
       "      <th>OWGR</th>\n",
       "      <th>SEASON</th>\n",
       "      <th>VEGAS_ODDS</th>\n",
       "      <th>CUT_PERCENTAGE</th>\n",
       "      <th>FEDEX_CUP_POINTS</th>\n",
       "      <th>form_density</th>\n",
       "      <th>CONSECUTIVE_CUTS</th>\n",
       "      <th>RECENT_FORM</th>\n",
       "      <th>adj_form</th>\n",
       "      <th>COURSE_HISTORY</th>\n",
       "      <th>adj_ch</th>\n",
       "      <th>SALARY</th>\n",
       "    </tr>\n",
       "  </thead>\n",
       "  <tbody>\n",
       "    <tr>\n",
       "      <th>0</th>\n",
       "      <td>Aaron Cockerill</td>\n",
       "      <td>NaN</td>\n",
       "      <td>NaN</td>\n",
       "      <td>NaN</td>\n",
       "      <td>NaN</td>\n",
       "      <td>NaN</td>\n",
       "      <td>NaN</td>\n",
       "      <td>NaN</td>\n",
       "      <td>NaN</td>\n",
       "      <td>NaN</td>\n",
       "      <td>NaN</td>\n",
       "      <td>NaN</td>\n",
       "      <td>NaN</td>\n",
       "      <td>NaN</td>\n",
       "      <td>NaN</td>\n",
       "      <td>NaN</td>\n",
       "      <td>NaN</td>\n",
       "      <td>NaN</td>\n",
       "      <td>NaN</td>\n",
       "      <td>NaN</td>\n",
       "      <td>NaN</td>\n",
       "      <td>NaN</td>\n",
       "      <td>NaN</td>\n",
       "      <td>NaN</td>\n",
       "      <td>NaN</td>\n",
       "      <td>NaN</td>\n",
       "      <td>NaN</td>\n",
       "      <td>NaN</td>\n",
       "      <td>NaN</td>\n",
       "      <td>327.0</td>\n",
       "      <td>.4381</td>\n",
       "      <td>2025.0</td>\n",
       "      <td>1000.0</td>\n",
       "      <td>NaN</td>\n",
       "      <td>NaN</td>\n",
       "      <td>NaN</td>\n",
       "      <td>NaN</td>\n",
       "      <td>NaN</td>\n",
       "      <td>NaN</td>\n",
       "      <td>90.0</td>\n",
       "      <td>129.84</td>\n",
       "      <td>6100</td>\n",
       "    </tr>\n",
       "    <tr>\n",
       "      <th>1</th>\n",
       "      <td>Aaron Rai</td>\n",
       "      <td>27.0</td>\n",
       "      <td>0.769</td>\n",
       "      <td>22.0</td>\n",
       "      <td>0.407</td>\n",
       "      <td>46.0</td>\n",
       "      <td>0.280</td>\n",
       "      <td>64.0</td>\n",
       "      <td>0.082</td>\n",
       "      <td>117.0</td>\n",
       "      <td>-0.086</td>\n",
       "      <td>82.0</td>\n",
       "      <td>21.92%</td>\n",
       "      <td>172.0</td>\n",
       "      <td>3.19</td>\n",
       "      <td>8.0</td>\n",
       "      <td>3.97</td>\n",
       "      <td>39.0</td>\n",
       "      <td>4.56</td>\n",
       "      <td>71.0</td>\n",
       "      <td>167</td>\n",
       "      <td>166.0</td>\n",
       "      <td>287.3</td>\n",
       "      <td>1.0</td>\n",
       "      <td>74.04%</td>\n",
       "      <td>21.0</td>\n",
       "      <td>69.44%</td>\n",
       "      <td>111.0</td>\n",
       "      <td>58.77%</td>\n",
       "      <td>34.0</td>\n",
       "      <td>2.6185</td>\n",
       "      <td>2025.0</td>\n",
       "      <td>60.0</td>\n",
       "      <td>76.5</td>\n",
       "      <td>660.480</td>\n",
       "      <td>38.85</td>\n",
       "      <td>2.0</td>\n",
       "      <td>38.4</td>\n",
       "      <td>13.29</td>\n",
       "      <td>47.0</td>\n",
       "      <td>42.78</td>\n",
       "      <td>8300</td>\n",
       "    </tr>\n",
       "    <tr>\n",
       "      <th>2</th>\n",
       "      <td>Adam Scott</td>\n",
       "      <td>46.0</td>\n",
       "      <td>0.477</td>\n",
       "      <td>33.0</td>\n",
       "      <td>0.327</td>\n",
       "      <td>99.0</td>\n",
       "      <td>0.020</td>\n",
       "      <td>51.0</td>\n",
       "      <td>0.130</td>\n",
       "      <td>114.0</td>\n",
       "      <td>-0.075</td>\n",
       "      <td>97.0</td>\n",
       "      <td>21.53%</td>\n",
       "      <td>149.0</td>\n",
       "      <td>3.12</td>\n",
       "      <td>117.0</td>\n",
       "      <td>4.04</td>\n",
       "      <td>64.0</td>\n",
       "      <td>4.59</td>\n",
       "      <td>112.0</td>\n",
       "      <td>187</td>\n",
       "      <td>82.0</td>\n",
       "      <td>302.3</td>\n",
       "      <td>105.0</td>\n",
       "      <td>58.48%</td>\n",
       "      <td>134.0</td>\n",
       "      <td>64.35%</td>\n",
       "      <td>122.0</td>\n",
       "      <td>57.79%</td>\n",
       "      <td>42.0</td>\n",
       "      <td>2.3947</td>\n",
       "      <td>2025.0</td>\n",
       "      <td>40.0</td>\n",
       "      <td>84.6</td>\n",
       "      <td>392.203</td>\n",
       "      <td>30.17</td>\n",
       "      <td>6.0</td>\n",
       "      <td>40.2</td>\n",
       "      <td>15.23</td>\n",
       "      <td>32.3</td>\n",
       "      <td>23.30</td>\n",
       "      <td>8600</td>\n",
       "    </tr>\n",
       "    <tr>\n",
       "      <th>3</th>\n",
       "      <td>Adrian Otaegui</td>\n",
       "      <td>NaN</td>\n",
       "      <td>NaN</td>\n",
       "      <td>NaN</td>\n",
       "      <td>NaN</td>\n",
       "      <td>NaN</td>\n",
       "      <td>NaN</td>\n",
       "      <td>NaN</td>\n",
       "      <td>NaN</td>\n",
       "      <td>NaN</td>\n",
       "      <td>NaN</td>\n",
       "      <td>NaN</td>\n",
       "      <td>NaN</td>\n",
       "      <td>NaN</td>\n",
       "      <td>NaN</td>\n",
       "      <td>NaN</td>\n",
       "      <td>NaN</td>\n",
       "      <td>NaN</td>\n",
       "      <td>NaN</td>\n",
       "      <td>NaN</td>\n",
       "      <td>NaN</td>\n",
       "      <td>NaN</td>\n",
       "      <td>NaN</td>\n",
       "      <td>NaN</td>\n",
       "      <td>NaN</td>\n",
       "      <td>NaN</td>\n",
       "      <td>NaN</td>\n",
       "      <td>NaN</td>\n",
       "      <td>NaN</td>\n",
       "      <td>302.0</td>\n",
       "      <td>.4774</td>\n",
       "      <td>2025.0</td>\n",
       "      <td>1000.0</td>\n",
       "      <td>NaN</td>\n",
       "      <td>NaN</td>\n",
       "      <td>NaN</td>\n",
       "      <td>NaN</td>\n",
       "      <td>NaN</td>\n",
       "      <td>NaN</td>\n",
       "      <td>90.0</td>\n",
       "      <td>81.92</td>\n",
       "      <td>6100</td>\n",
       "    </tr>\n",
       "    <tr>\n",
       "      <th>4</th>\n",
       "      <td>Adrien Saddier</td>\n",
       "      <td>NaN</td>\n",
       "      <td>NaN</td>\n",
       "      <td>NaN</td>\n",
       "      <td>NaN</td>\n",
       "      <td>NaN</td>\n",
       "      <td>NaN</td>\n",
       "      <td>NaN</td>\n",
       "      <td>NaN</td>\n",
       "      <td>NaN</td>\n",
       "      <td>NaN</td>\n",
       "      <td>NaN</td>\n",
       "      <td>NaN</td>\n",
       "      <td>NaN</td>\n",
       "      <td>NaN</td>\n",
       "      <td>NaN</td>\n",
       "      <td>NaN</td>\n",
       "      <td>NaN</td>\n",
       "      <td>NaN</td>\n",
       "      <td>NaN</td>\n",
       "      <td>NaN</td>\n",
       "      <td>NaN</td>\n",
       "      <td>NaN</td>\n",
       "      <td>NaN</td>\n",
       "      <td>NaN</td>\n",
       "      <td>NaN</td>\n",
       "      <td>NaN</td>\n",
       "      <td>NaN</td>\n",
       "      <td>NaN</td>\n",
       "      <td>134.0</td>\n",
       "      <td>1.0914</td>\n",
       "      <td>2025.0</td>\n",
       "      <td>350.0</td>\n",
       "      <td>NaN</td>\n",
       "      <td>NaN</td>\n",
       "      <td>NaN</td>\n",
       "      <td>NaN</td>\n",
       "      <td>NaN</td>\n",
       "      <td>NaN</td>\n",
       "      <td>NaN</td>\n",
       "      <td>NaN</td>\n",
       "      <td>6600</td>\n",
       "    </tr>\n",
       "  </tbody>\n",
       "</table>\n",
       "</div>"
      ],
      "text/plain": [
       "            PLAYER  SGTTG_RANK  SGTTG  SGOTT_RANK  SGOTT  SGAPR_RANK  SGAPR  \\\n",
       "0  Aaron Cockerill         NaN    NaN         NaN    NaN         NaN    NaN   \n",
       "1        Aaron Rai        27.0  0.769        22.0  0.407        46.0  0.280   \n",
       "2       Adam Scott        46.0  0.477        33.0  0.327        99.0  0.020   \n",
       "3   Adrian Otaegui         NaN    NaN         NaN    NaN         NaN    NaN   \n",
       "4   Adrien Saddier         NaN    NaN         NaN    NaN         NaN    NaN   \n",
       "\n",
       "   SGATG_RANK  SGATG  SGP_RANK     SGP  BIRDIES_RANK BIRDIES  PAR_3_RANK  \\\n",
       "0         NaN    NaN       NaN     NaN           NaN     NaN         NaN   \n",
       "1        64.0  0.082     117.0  -0.086          82.0  21.92%       172.0   \n",
       "2        51.0  0.130     114.0  -0.075          97.0  21.53%       149.0   \n",
       "3         NaN    NaN       NaN     NaN           NaN     NaN         NaN   \n",
       "4         NaN    NaN       NaN     NaN           NaN     NaN         NaN   \n",
       "\n",
       "  PAR_3  PAR_4_RANK PAR_4  PAR_5_RANK PAR_5  TOTAL_DRIVING_RANK TOTAL_DRIVING  \\\n",
       "0   NaN         NaN   NaN         NaN   NaN                 NaN           NaN   \n",
       "1  3.19         8.0  3.97        39.0  4.56                71.0           167   \n",
       "2  3.12       117.0  4.04        64.0  4.59               112.0           187   \n",
       "3   NaN         NaN   NaN         NaN   NaN                 NaN           NaN   \n",
       "4   NaN         NaN   NaN         NaN   NaN                 NaN           NaN   \n",
       "\n",
       "   DRIVING_DISTANCE_RANK DRIVING_DISTANCE  DRIVING_ACCURACY_RANK  \\\n",
       "0                    NaN              NaN                    NaN   \n",
       "1                  166.0            287.3                    1.0   \n",
       "2                   82.0            302.3                  105.0   \n",
       "3                    NaN              NaN                    NaN   \n",
       "4                    NaN              NaN                    NaN   \n",
       "\n",
       "  DRIVING_ACCURACY  GIR_RANK     GIR  SCRAMBLING_RANK SCRAMBLING  OWGR_RANK  \\\n",
       "0              NaN       NaN     NaN              NaN        NaN      327.0   \n",
       "1           74.04%      21.0  69.44%            111.0     58.77%       34.0   \n",
       "2           58.48%     134.0  64.35%            122.0     57.79%       42.0   \n",
       "3              NaN       NaN     NaN              NaN        NaN      302.0   \n",
       "4              NaN       NaN     NaN              NaN        NaN      134.0   \n",
       "\n",
       "     OWGR  SEASON  VEGAS_ODDS  CUT_PERCENTAGE  FEDEX_CUP_POINTS  form_density  \\\n",
       "0   .4381  2025.0      1000.0             NaN               NaN           NaN   \n",
       "1  2.6185  2025.0        60.0            76.5           660.480         38.85   \n",
       "2  2.3947  2025.0        40.0            84.6           392.203         30.17   \n",
       "3   .4774  2025.0      1000.0             NaN               NaN           NaN   \n",
       "4  1.0914  2025.0       350.0             NaN               NaN           NaN   \n",
       "\n",
       "   CONSECUTIVE_CUTS  RECENT_FORM  adj_form  COURSE_HISTORY  adj_ch  SALARY  \n",
       "0               NaN          NaN       NaN            90.0  129.84    6100  \n",
       "1               2.0         38.4     13.29            47.0   42.78    8300  \n",
       "2               6.0         40.2     15.23            32.3   23.30    8600  \n",
       "3               NaN          NaN       NaN            90.0   81.92    6100  \n",
       "4               NaN          NaN       NaN             NaN     NaN    6600  "
      ]
     },
     "execution_count": 20,
     "metadata": {},
     "output_type": "execute_result"
    }
   ],
   "source": [
    "importlib.reload(utils.db_utils)\n",
    "from utils.db_utils import build_test_rows\n",
    "\n",
    "this_week = build_test_rows(\n",
    "    db_path=db_path,\n",
    "    stats_df=stats_df,\n",
    "    odds_df=odds_current,\n",
    "    cuts_df=cuts_current,\n",
    "    recent_form_df=recent_form_current,\n",
    "    course_hist_df=course_hist_current,\n",
    "    dk_df=dk,\n",
    "    season=tournament_config[\"new\"][\"season\"]\n",
    ")\n",
    "\n",
    "this_week.head()"
   ]
  },
  {
   "cell_type": "markdown",
   "id": "e30b6643",
   "metadata": {},
   "source": [
    "### Dataframe Normalization\n",
    "\n",
    "Run the same normalization techniques that I ran on the historical data:\n",
    "- Any NaN Odds go to 1000/1 and clip all values at 1000/1\n",
    "- OWGR NaN values go to 1000\n",
    "- Recent form NaN values act like a MC at 90\n",
    "- Average everything else."
   ]
  },
  {
   "cell_type": "code",
   "execution_count": 21,
   "id": "cfea9168",
   "metadata": {},
   "outputs": [],
   "source": [
    "# === 1. Clean percentage stats stored as strings like '62.5%' ===\n",
    "percent_stats = [\"SCRAMBLING\", \"DRIVING_ACCURACY\", \"BIRDIES\", \"GIR\"]\n",
    "\n",
    "for col in percent_stats:\n",
    "    if col in this_week.columns:\n",
    "        this_week[col] = (\n",
    "            this_week[col]\n",
    "            .astype(str)\n",
    "            .str.replace('%', '', regex=False)\n",
    "            .replace(['None', 'nan', 'NaN', '--', 'DNP', ''], np.nan)\n",
    "        )\n",
    "        this_week[col] = pd.to_numeric(this_week[col], errors=\"coerce\")\n",
    "\n",
    "# === 2. Normalize & assign fallback values for key fields ===\n",
    "this_week[\"VEGAS_ODDS\"] = pd.to_numeric(this_week[\"VEGAS_ODDS\"], errors=\"coerce\").fillna(1000).clip(upper=1000)\n",
    "\n",
    "if \"OWGR\" in this_week.columns:\n",
    "    this_week[\"OWGR\"] = pd.to_numeric(this_week[\"OWGR\"], errors=\"coerce\")\n",
    "    max_owgr = this_week[\"OWGR\"].dropna().max()\n",
    "    this_week[\"OWGR\"] = this_week[\"OWGR\"].fillna(max_owgr).clip(upper=1000)\n",
    "\n",
    "if \"OWGR_RANK\" in this_week.columns:\n",
    "    this_week[\"OWGR_RANK\"] = pd.to_numeric(this_week[\"OWGR_RANK\"], errors=\"coerce\").fillna(1000).clip(upper=1000)\n",
    "\n",
    "this_week[\"RECENT_FORM\"] = pd.to_numeric(this_week[\"RECENT_FORM\"], errors=\"coerce\").fillna(90)\n",
    "this_week[\"FEDEX_CUP_POINTS\"] = pd.to_numeric(this_week[\"FEDEX_CUP_POINTS\"], errors=\"coerce\").fillna(0)\n",
    "\n",
    "if \"COURSE_HISTORY\" in this_week.columns:\n",
    "    this_week[\"COURSE_HISTORY\"] = pd.to_numeric(this_week[\"COURSE_HISTORY\"], errors=\"coerce\")\n",
    "    ch_mean = this_week[\"COURSE_HISTORY\"].mean()\n",
    "    this_week[\"COURSE_HISTORY\"] = this_week[\"COURSE_HISTORY\"].fillna(ch_mean)\n",
    "\n",
    "# === 3. Fill all remaining NaNs in numeric columns ===\n",
    "# Recast everything that might look numeric to be sure\n",
    "for col in this_week.columns:\n",
    "    if col not in [\"PLAYER\", \"SALARY\", \"TOURNAMENT\", \"SEASON\"]:\n",
    "        try:\n",
    "            this_week[col] = pd.to_numeric(this_week[col], errors=\"coerce\")\n",
    "        except Exception:\n",
    "            continue\n",
    "\n",
    "numeric_cols = this_week.select_dtypes(include=[\"number\"]).columns.tolist()\n",
    "\n",
    "for col in numeric_cols:\n",
    "    if this_week[col].isna().any():\n",
    "        col_mean = this_week[col].mean()\n",
    "        this_week[col] = this_week[col].fillna(col_mean if not np.isnan(col_mean) else 0)\n"
   ]
  },
  {
   "cell_type": "code",
   "execution_count": 22,
   "id": "4b122fc3",
   "metadata": {},
   "outputs": [],
   "source": [
    "# === Final Check: No NaNs Should Remain ===\n",
    "assert this_week.isna().sum().sum() == 0, \"🚨 Still missing values in prediction set!\""
   ]
  },
  {
   "cell_type": "code",
   "execution_count": 23,
   "id": "b75f2cff",
   "metadata": {},
   "outputs": [
    {
     "name": "stdout",
     "output_type": "stream",
     "text": [
      "🧹 Columns still containing NaN values:\n"
     ]
    },
    {
     "data": {
      "text/plain": [
       "Series([], dtype: int64)"
      ]
     },
     "metadata": {},
     "output_type": "display_data"
    }
   ],
   "source": [
    "# === Check for Remaining Missing Values ===\n",
    "missing_summary = this_week.isna().sum()\n",
    "missing_summary = missing_summary[missing_summary > 0].sort_values(ascending=False)\n",
    "\n",
    "print(\"🧹 Columns still containing NaN values:\")\n",
    "display(missing_summary)"
   ]
  },
  {
   "cell_type": "code",
   "execution_count": 24,
   "id": "cc925bbf",
   "metadata": {},
   "outputs": [
    {
     "data": {
      "text/html": [
       "<div>\n",
       "<style scoped>\n",
       "    .dataframe tbody tr th:only-of-type {\n",
       "        vertical-align: middle;\n",
       "    }\n",
       "\n",
       "    .dataframe tbody tr th {\n",
       "        vertical-align: top;\n",
       "    }\n",
       "\n",
       "    .dataframe thead th {\n",
       "        text-align: right;\n",
       "    }\n",
       "</style>\n",
       "<table border=\"1\" class=\"dataframe\">\n",
       "  <thead>\n",
       "    <tr style=\"text-align: right;\">\n",
       "      <th></th>\n",
       "      <th>PLAYER</th>\n",
       "      <th>SGTTG_RANK</th>\n",
       "      <th>SGTTG</th>\n",
       "      <th>SGOTT_RANK</th>\n",
       "      <th>SGOTT</th>\n",
       "      <th>SGAPR_RANK</th>\n",
       "      <th>SGAPR</th>\n",
       "      <th>SGATG_RANK</th>\n",
       "      <th>SGATG</th>\n",
       "      <th>SGP_RANK</th>\n",
       "      <th>SGP</th>\n",
       "      <th>BIRDIES_RANK</th>\n",
       "      <th>BIRDIES</th>\n",
       "      <th>PAR_3_RANK</th>\n",
       "      <th>PAR_3</th>\n",
       "      <th>PAR_4_RANK</th>\n",
       "      <th>PAR_4</th>\n",
       "      <th>PAR_5_RANK</th>\n",
       "      <th>PAR_5</th>\n",
       "      <th>TOTAL_DRIVING_RANK</th>\n",
       "      <th>TOTAL_DRIVING</th>\n",
       "      <th>DRIVING_DISTANCE_RANK</th>\n",
       "      <th>DRIVING_DISTANCE</th>\n",
       "      <th>DRIVING_ACCURACY_RANK</th>\n",
       "      <th>DRIVING_ACCURACY</th>\n",
       "      <th>GIR_RANK</th>\n",
       "      <th>GIR</th>\n",
       "      <th>SCRAMBLING_RANK</th>\n",
       "      <th>SCRAMBLING</th>\n",
       "      <th>OWGR_RANK</th>\n",
       "      <th>OWGR</th>\n",
       "      <th>SEASON</th>\n",
       "      <th>VEGAS_ODDS</th>\n",
       "      <th>CUT_PERCENTAGE</th>\n",
       "      <th>FEDEX_CUP_POINTS</th>\n",
       "      <th>form_density</th>\n",
       "      <th>CONSECUTIVE_CUTS</th>\n",
       "      <th>RECENT_FORM</th>\n",
       "      <th>adj_form</th>\n",
       "      <th>COURSE_HISTORY</th>\n",
       "      <th>adj_ch</th>\n",
       "      <th>SALARY</th>\n",
       "    </tr>\n",
       "  </thead>\n",
       "  <tbody>\n",
       "    <tr>\n",
       "      <th>0</th>\n",
       "      <td>Aaron Cockerill</td>\n",
       "      <td>68.026667</td>\n",
       "      <td>0.34384</td>\n",
       "      <td>76.08</td>\n",
       "      <td>0.115347</td>\n",
       "      <td>73.706667</td>\n",
       "      <td>0.172147</td>\n",
       "      <td>79.093333</td>\n",
       "      <td>0.056307</td>\n",
       "      <td>75.92</td>\n",
       "      <td>0.106813</td>\n",
       "      <td>74.08</td>\n",
       "      <td>22.301867</td>\n",
       "      <td>87.346667</td>\n",
       "      <td>3.066133</td>\n",
       "      <td>64.12</td>\n",
       "      <td>4.010133</td>\n",
       "      <td>73.426667</td>\n",
       "      <td>4.589333</td>\n",
       "      <td>79.466667</td>\n",
       "      <td>167.92</td>\n",
       "      <td>84.706667</td>\n",
       "      <td>302.177333</td>\n",
       "      <td>83.213333</td>\n",
       "      <td>60.741733</td>\n",
       "      <td>83.426667</td>\n",
       "      <td>66.3892</td>\n",
       "      <td>84.066667</td>\n",
       "      <td>60.000933</td>\n",
       "      <td>327.0</td>\n",
       "      <td>0.4381</td>\n",
       "      <td>2025.0</td>\n",
       "      <td>1000.0</td>\n",
       "      <td>62.9</td>\n",
       "      <td>0.000</td>\n",
       "      <td>40.359149</td>\n",
       "      <td>2.510638</td>\n",
       "      <td>90.0</td>\n",
       "      <td>27.533723</td>\n",
       "      <td>90.000</td>\n",
       "      <td>129.8400</td>\n",
       "      <td>6100</td>\n",
       "    </tr>\n",
       "    <tr>\n",
       "      <th>1</th>\n",
       "      <td>Aaron Rai</td>\n",
       "      <td>27.000000</td>\n",
       "      <td>0.76900</td>\n",
       "      <td>22.00</td>\n",
       "      <td>0.407000</td>\n",
       "      <td>46.000000</td>\n",
       "      <td>0.280000</td>\n",
       "      <td>64.000000</td>\n",
       "      <td>0.082000</td>\n",
       "      <td>117.00</td>\n",
       "      <td>-0.086000</td>\n",
       "      <td>82.00</td>\n",
       "      <td>21.920000</td>\n",
       "      <td>172.000000</td>\n",
       "      <td>3.190000</td>\n",
       "      <td>8.00</td>\n",
       "      <td>3.970000</td>\n",
       "      <td>39.000000</td>\n",
       "      <td>4.560000</td>\n",
       "      <td>71.000000</td>\n",
       "      <td>167.00</td>\n",
       "      <td>166.000000</td>\n",
       "      <td>287.300000</td>\n",
       "      <td>1.000000</td>\n",
       "      <td>74.040000</td>\n",
       "      <td>21.000000</td>\n",
       "      <td>69.4400</td>\n",
       "      <td>111.000000</td>\n",
       "      <td>58.770000</td>\n",
       "      <td>34.0</td>\n",
       "      <td>2.6185</td>\n",
       "      <td>2025.0</td>\n",
       "      <td>60.0</td>\n",
       "      <td>76.5</td>\n",
       "      <td>660.480</td>\n",
       "      <td>38.850000</td>\n",
       "      <td>2.000000</td>\n",
       "      <td>38.4</td>\n",
       "      <td>13.290000</td>\n",
       "      <td>47.000</td>\n",
       "      <td>42.7800</td>\n",
       "      <td>8300</td>\n",
       "    </tr>\n",
       "    <tr>\n",
       "      <th>2</th>\n",
       "      <td>Adam Scott</td>\n",
       "      <td>46.000000</td>\n",
       "      <td>0.47700</td>\n",
       "      <td>33.00</td>\n",
       "      <td>0.327000</td>\n",
       "      <td>99.000000</td>\n",
       "      <td>0.020000</td>\n",
       "      <td>51.000000</td>\n",
       "      <td>0.130000</td>\n",
       "      <td>114.00</td>\n",
       "      <td>-0.075000</td>\n",
       "      <td>97.00</td>\n",
       "      <td>21.530000</td>\n",
       "      <td>149.000000</td>\n",
       "      <td>3.120000</td>\n",
       "      <td>117.00</td>\n",
       "      <td>4.040000</td>\n",
       "      <td>64.000000</td>\n",
       "      <td>4.590000</td>\n",
       "      <td>112.000000</td>\n",
       "      <td>187.00</td>\n",
       "      <td>82.000000</td>\n",
       "      <td>302.300000</td>\n",
       "      <td>105.000000</td>\n",
       "      <td>58.480000</td>\n",
       "      <td>134.000000</td>\n",
       "      <td>64.3500</td>\n",
       "      <td>122.000000</td>\n",
       "      <td>57.790000</td>\n",
       "      <td>42.0</td>\n",
       "      <td>2.3947</td>\n",
       "      <td>2025.0</td>\n",
       "      <td>40.0</td>\n",
       "      <td>84.6</td>\n",
       "      <td>392.203</td>\n",
       "      <td>30.170000</td>\n",
       "      <td>6.000000</td>\n",
       "      <td>40.2</td>\n",
       "      <td>15.230000</td>\n",
       "      <td>32.300</td>\n",
       "      <td>23.3000</td>\n",
       "      <td>8600</td>\n",
       "    </tr>\n",
       "    <tr>\n",
       "      <th>3</th>\n",
       "      <td>Adrian Otaegui</td>\n",
       "      <td>68.026667</td>\n",
       "      <td>0.34384</td>\n",
       "      <td>76.08</td>\n",
       "      <td>0.115347</td>\n",
       "      <td>73.706667</td>\n",
       "      <td>0.172147</td>\n",
       "      <td>79.093333</td>\n",
       "      <td>0.056307</td>\n",
       "      <td>75.92</td>\n",
       "      <td>0.106813</td>\n",
       "      <td>74.08</td>\n",
       "      <td>22.301867</td>\n",
       "      <td>87.346667</td>\n",
       "      <td>3.066133</td>\n",
       "      <td>64.12</td>\n",
       "      <td>4.010133</td>\n",
       "      <td>73.426667</td>\n",
       "      <td>4.589333</td>\n",
       "      <td>79.466667</td>\n",
       "      <td>167.92</td>\n",
       "      <td>84.706667</td>\n",
       "      <td>302.177333</td>\n",
       "      <td>83.213333</td>\n",
       "      <td>60.741733</td>\n",
       "      <td>83.426667</td>\n",
       "      <td>66.3892</td>\n",
       "      <td>84.066667</td>\n",
       "      <td>60.000933</td>\n",
       "      <td>302.0</td>\n",
       "      <td>0.4774</td>\n",
       "      <td>2025.0</td>\n",
       "      <td>1000.0</td>\n",
       "      <td>62.9</td>\n",
       "      <td>0.000</td>\n",
       "      <td>40.359149</td>\n",
       "      <td>2.510638</td>\n",
       "      <td>90.0</td>\n",
       "      <td>27.533723</td>\n",
       "      <td>90.000</td>\n",
       "      <td>81.9200</td>\n",
       "      <td>6100</td>\n",
       "    </tr>\n",
       "    <tr>\n",
       "      <th>4</th>\n",
       "      <td>Adrien Saddier</td>\n",
       "      <td>68.026667</td>\n",
       "      <td>0.34384</td>\n",
       "      <td>76.08</td>\n",
       "      <td>0.115347</td>\n",
       "      <td>73.706667</td>\n",
       "      <td>0.172147</td>\n",
       "      <td>79.093333</td>\n",
       "      <td>0.056307</td>\n",
       "      <td>75.92</td>\n",
       "      <td>0.106813</td>\n",
       "      <td>74.08</td>\n",
       "      <td>22.301867</td>\n",
       "      <td>87.346667</td>\n",
       "      <td>3.066133</td>\n",
       "      <td>64.12</td>\n",
       "      <td>4.010133</td>\n",
       "      <td>73.426667</td>\n",
       "      <td>4.589333</td>\n",
       "      <td>79.466667</td>\n",
       "      <td>167.92</td>\n",
       "      <td>84.706667</td>\n",
       "      <td>302.177333</td>\n",
       "      <td>83.213333</td>\n",
       "      <td>60.741733</td>\n",
       "      <td>83.426667</td>\n",
       "      <td>66.3892</td>\n",
       "      <td>84.066667</td>\n",
       "      <td>60.000933</td>\n",
       "      <td>134.0</td>\n",
       "      <td>1.0914</td>\n",
       "      <td>2025.0</td>\n",
       "      <td>350.0</td>\n",
       "      <td>62.9</td>\n",
       "      <td>0.000</td>\n",
       "      <td>40.359149</td>\n",
       "      <td>2.510638</td>\n",
       "      <td>90.0</td>\n",
       "      <td>27.533723</td>\n",
       "      <td>58.226</td>\n",
       "      <td>65.2845</td>\n",
       "      <td>6600</td>\n",
       "    </tr>\n",
       "    <tr>\n",
       "      <th>5</th>\n",
       "      <td>Aldrich Potgieter</td>\n",
       "      <td>68.000000</td>\n",
       "      <td>0.29200</td>\n",
       "      <td>2.00</td>\n",
       "      <td>0.730000</td>\n",
       "      <td>121.000000</td>\n",
       "      <td>-0.111000</td>\n",
       "      <td>158.000000</td>\n",
       "      <td>-0.327000</td>\n",
       "      <td>55.00</td>\n",
       "      <td>0.180000</td>\n",
       "      <td>21.00</td>\n",
       "      <td>23.810000</td>\n",
       "      <td>97.000000</td>\n",
       "      <td>3.070000</td>\n",
       "      <td>61.00</td>\n",
       "      <td>4.010000</td>\n",
       "      <td>134.000000</td>\n",
       "      <td>4.650000</td>\n",
       "      <td>30.000000</td>\n",
       "      <td>135.00</td>\n",
       "      <td>1.000000</td>\n",
       "      <td>328.400000</td>\n",
       "      <td>134.000000</td>\n",
       "      <td>56.030000</td>\n",
       "      <td>96.000000</td>\n",
       "      <td>65.8700</td>\n",
       "      <td>172.000000</td>\n",
       "      <td>51.940000</td>\n",
       "      <td>50.0</td>\n",
       "      <td>2.1493</td>\n",
       "      <td>2025.0</td>\n",
       "      <td>100.0</td>\n",
       "      <td>38.5</td>\n",
       "      <td>941.000</td>\n",
       "      <td>72.380000</td>\n",
       "      <td>0.000000</td>\n",
       "      <td>60.8</td>\n",
       "      <td>23.040000</td>\n",
       "      <td>58.226</td>\n",
       "      <td>65.2845</td>\n",
       "      <td>7200</td>\n",
       "    </tr>\n",
       "    <tr>\n",
       "      <th>6</th>\n",
       "      <td>Alejandro Del Rey</td>\n",
       "      <td>68.026667</td>\n",
       "      <td>0.34384</td>\n",
       "      <td>76.08</td>\n",
       "      <td>0.115347</td>\n",
       "      <td>73.706667</td>\n",
       "      <td>0.172147</td>\n",
       "      <td>79.093333</td>\n",
       "      <td>0.056307</td>\n",
       "      <td>75.92</td>\n",
       "      <td>0.106813</td>\n",
       "      <td>74.08</td>\n",
       "      <td>22.301867</td>\n",
       "      <td>87.346667</td>\n",
       "      <td>3.066133</td>\n",
       "      <td>64.12</td>\n",
       "      <td>4.010133</td>\n",
       "      <td>73.426667</td>\n",
       "      <td>4.589333</td>\n",
       "      <td>79.466667</td>\n",
       "      <td>167.92</td>\n",
       "      <td>84.706667</td>\n",
       "      <td>302.177333</td>\n",
       "      <td>83.213333</td>\n",
       "      <td>60.741733</td>\n",
       "      <td>83.426667</td>\n",
       "      <td>66.3892</td>\n",
       "      <td>84.066667</td>\n",
       "      <td>60.000933</td>\n",
       "      <td>198.0</td>\n",
       "      <td>0.7287</td>\n",
       "      <td>2025.0</td>\n",
       "      <td>250.0</td>\n",
       "      <td>62.9</td>\n",
       "      <td>0.000</td>\n",
       "      <td>40.359149</td>\n",
       "      <td>2.510638</td>\n",
       "      <td>90.0</td>\n",
       "      <td>27.533723</td>\n",
       "      <td>15.000</td>\n",
       "      <td>21.6400</td>\n",
       "      <td>6400</td>\n",
       "    </tr>\n",
       "    <tr>\n",
       "      <th>7</th>\n",
       "      <td>Alejandro Tosti</td>\n",
       "      <td>48.000000</td>\n",
       "      <td>0.46400</td>\n",
       "      <td>27.00</td>\n",
       "      <td>0.363000</td>\n",
       "      <td>128.000000</td>\n",
       "      <td>-0.161000</td>\n",
       "      <td>24.000000</td>\n",
       "      <td>0.261000</td>\n",
       "      <td>168.00</td>\n",
       "      <td>-0.643000</td>\n",
       "      <td>49.00</td>\n",
       "      <td>22.560000</td>\n",
       "      <td>112.000000</td>\n",
       "      <td>3.080000</td>\n",
       "      <td>61.00</td>\n",
       "      <td>4.010000</td>\n",
       "      <td>59.000000</td>\n",
       "      <td>4.580000</td>\n",
       "      <td>31.000000</td>\n",
       "      <td>136.00</td>\n",
       "      <td>12.000000</td>\n",
       "      <td>313.600000</td>\n",
       "      <td>124.000000</td>\n",
       "      <td>56.810000</td>\n",
       "      <td>124.000000</td>\n",
       "      <td>64.8900</td>\n",
       "      <td>74.000000</td>\n",
       "      <td>60.440000</td>\n",
       "      <td>153.0</td>\n",
       "      <td>0.8950</td>\n",
       "      <td>2025.0</td>\n",
       "      <td>400.0</td>\n",
       "      <td>42.1</td>\n",
       "      <td>316.783</td>\n",
       "      <td>16.670000</td>\n",
       "      <td>0.000000</td>\n",
       "      <td>66.4</td>\n",
       "      <td>22.160000</td>\n",
       "      <td>58.226</td>\n",
       "      <td>65.2845</td>\n",
       "      <td>6500</td>\n",
       "    </tr>\n",
       "    <tr>\n",
       "      <th>8</th>\n",
       "      <td>Alex Fitzpatrick</td>\n",
       "      <td>68.026667</td>\n",
       "      <td>0.34384</td>\n",
       "      <td>76.08</td>\n",
       "      <td>0.115347</td>\n",
       "      <td>73.706667</td>\n",
       "      <td>0.172147</td>\n",
       "      <td>79.093333</td>\n",
       "      <td>0.056307</td>\n",
       "      <td>75.92</td>\n",
       "      <td>0.106813</td>\n",
       "      <td>74.08</td>\n",
       "      <td>22.301867</td>\n",
       "      <td>87.346667</td>\n",
       "      <td>3.066133</td>\n",
       "      <td>64.12</td>\n",
       "      <td>4.010133</td>\n",
       "      <td>73.426667</td>\n",
       "      <td>4.589333</td>\n",
       "      <td>79.466667</td>\n",
       "      <td>167.92</td>\n",
       "      <td>84.706667</td>\n",
       "      <td>302.177333</td>\n",
       "      <td>83.213333</td>\n",
       "      <td>60.741733</td>\n",
       "      <td>83.426667</td>\n",
       "      <td>66.3892</td>\n",
       "      <td>84.066667</td>\n",
       "      <td>60.000933</td>\n",
       "      <td>256.0</td>\n",
       "      <td>0.5729</td>\n",
       "      <td>2025.0</td>\n",
       "      <td>350.0</td>\n",
       "      <td>62.9</td>\n",
       "      <td>0.000</td>\n",
       "      <td>40.359149</td>\n",
       "      <td>2.510638</td>\n",
       "      <td>90.0</td>\n",
       "      <td>27.533723</td>\n",
       "      <td>90.000</td>\n",
       "      <td>129.8400</td>\n",
       "      <td>6500</td>\n",
       "    </tr>\n",
       "    <tr>\n",
       "      <th>9</th>\n",
       "      <td>Alex Noren</td>\n",
       "      <td>68.026667</td>\n",
       "      <td>0.34384</td>\n",
       "      <td>76.08</td>\n",
       "      <td>0.115347</td>\n",
       "      <td>73.706667</td>\n",
       "      <td>0.172147</td>\n",
       "      <td>79.093333</td>\n",
       "      <td>0.056307</td>\n",
       "      <td>75.92</td>\n",
       "      <td>0.106813</td>\n",
       "      <td>74.08</td>\n",
       "      <td>22.301867</td>\n",
       "      <td>87.346667</td>\n",
       "      <td>3.066133</td>\n",
       "      <td>64.12</td>\n",
       "      <td>4.010133</td>\n",
       "      <td>73.426667</td>\n",
       "      <td>4.589333</td>\n",
       "      <td>79.466667</td>\n",
       "      <td>167.92</td>\n",
       "      <td>84.706667</td>\n",
       "      <td>302.177333</td>\n",
       "      <td>83.213333</td>\n",
       "      <td>60.741733</td>\n",
       "      <td>83.426667</td>\n",
       "      <td>66.3892</td>\n",
       "      <td>84.066667</td>\n",
       "      <td>60.000933</td>\n",
       "      <td>81.0</td>\n",
       "      <td>1.5848</td>\n",
       "      <td>2025.0</td>\n",
       "      <td>80.0</td>\n",
       "      <td>66.7</td>\n",
       "      <td>134.250</td>\n",
       "      <td>22.380000</td>\n",
       "      <td>0.000000</td>\n",
       "      <td>52.8</td>\n",
       "      <td>27.130000</td>\n",
       "      <td>53.000</td>\n",
       "      <td>38.2300</td>\n",
       "      <td>7500</td>\n",
       "    </tr>\n",
       "  </tbody>\n",
       "</table>\n",
       "</div>"
      ],
      "text/plain": [
       "              PLAYER  SGTTG_RANK    SGTTG  SGOTT_RANK     SGOTT  SGAPR_RANK  \\\n",
       "0    Aaron Cockerill   68.026667  0.34384       76.08  0.115347   73.706667   \n",
       "1          Aaron Rai   27.000000  0.76900       22.00  0.407000   46.000000   \n",
       "2         Adam Scott   46.000000  0.47700       33.00  0.327000   99.000000   \n",
       "3     Adrian Otaegui   68.026667  0.34384       76.08  0.115347   73.706667   \n",
       "4     Adrien Saddier   68.026667  0.34384       76.08  0.115347   73.706667   \n",
       "5  Aldrich Potgieter   68.000000  0.29200        2.00  0.730000  121.000000   \n",
       "6  Alejandro Del Rey   68.026667  0.34384       76.08  0.115347   73.706667   \n",
       "7    Alejandro Tosti   48.000000  0.46400       27.00  0.363000  128.000000   \n",
       "8   Alex Fitzpatrick   68.026667  0.34384       76.08  0.115347   73.706667   \n",
       "9         Alex Noren   68.026667  0.34384       76.08  0.115347   73.706667   \n",
       "\n",
       "      SGAPR  SGATG_RANK     SGATG  SGP_RANK       SGP  BIRDIES_RANK  \\\n",
       "0  0.172147   79.093333  0.056307     75.92  0.106813         74.08   \n",
       "1  0.280000   64.000000  0.082000    117.00 -0.086000         82.00   \n",
       "2  0.020000   51.000000  0.130000    114.00 -0.075000         97.00   \n",
       "3  0.172147   79.093333  0.056307     75.92  0.106813         74.08   \n",
       "4  0.172147   79.093333  0.056307     75.92  0.106813         74.08   \n",
       "5 -0.111000  158.000000 -0.327000     55.00  0.180000         21.00   \n",
       "6  0.172147   79.093333  0.056307     75.92  0.106813         74.08   \n",
       "7 -0.161000   24.000000  0.261000    168.00 -0.643000         49.00   \n",
       "8  0.172147   79.093333  0.056307     75.92  0.106813         74.08   \n",
       "9  0.172147   79.093333  0.056307     75.92  0.106813         74.08   \n",
       "\n",
       "     BIRDIES  PAR_3_RANK     PAR_3  PAR_4_RANK     PAR_4  PAR_5_RANK  \\\n",
       "0  22.301867   87.346667  3.066133       64.12  4.010133   73.426667   \n",
       "1  21.920000  172.000000  3.190000        8.00  3.970000   39.000000   \n",
       "2  21.530000  149.000000  3.120000      117.00  4.040000   64.000000   \n",
       "3  22.301867   87.346667  3.066133       64.12  4.010133   73.426667   \n",
       "4  22.301867   87.346667  3.066133       64.12  4.010133   73.426667   \n",
       "5  23.810000   97.000000  3.070000       61.00  4.010000  134.000000   \n",
       "6  22.301867   87.346667  3.066133       64.12  4.010133   73.426667   \n",
       "7  22.560000  112.000000  3.080000       61.00  4.010000   59.000000   \n",
       "8  22.301867   87.346667  3.066133       64.12  4.010133   73.426667   \n",
       "9  22.301867   87.346667  3.066133       64.12  4.010133   73.426667   \n",
       "\n",
       "      PAR_5  TOTAL_DRIVING_RANK  TOTAL_DRIVING  DRIVING_DISTANCE_RANK  \\\n",
       "0  4.589333           79.466667         167.92              84.706667   \n",
       "1  4.560000           71.000000         167.00             166.000000   \n",
       "2  4.590000          112.000000         187.00              82.000000   \n",
       "3  4.589333           79.466667         167.92              84.706667   \n",
       "4  4.589333           79.466667         167.92              84.706667   \n",
       "5  4.650000           30.000000         135.00               1.000000   \n",
       "6  4.589333           79.466667         167.92              84.706667   \n",
       "7  4.580000           31.000000         136.00              12.000000   \n",
       "8  4.589333           79.466667         167.92              84.706667   \n",
       "9  4.589333           79.466667         167.92              84.706667   \n",
       "\n",
       "   DRIVING_DISTANCE  DRIVING_ACCURACY_RANK  DRIVING_ACCURACY    GIR_RANK  \\\n",
       "0        302.177333              83.213333         60.741733   83.426667   \n",
       "1        287.300000               1.000000         74.040000   21.000000   \n",
       "2        302.300000             105.000000         58.480000  134.000000   \n",
       "3        302.177333              83.213333         60.741733   83.426667   \n",
       "4        302.177333              83.213333         60.741733   83.426667   \n",
       "5        328.400000             134.000000         56.030000   96.000000   \n",
       "6        302.177333              83.213333         60.741733   83.426667   \n",
       "7        313.600000             124.000000         56.810000  124.000000   \n",
       "8        302.177333              83.213333         60.741733   83.426667   \n",
       "9        302.177333              83.213333         60.741733   83.426667   \n",
       "\n",
       "       GIR  SCRAMBLING_RANK  SCRAMBLING  OWGR_RANK    OWGR  SEASON  \\\n",
       "0  66.3892        84.066667   60.000933      327.0  0.4381  2025.0   \n",
       "1  69.4400       111.000000   58.770000       34.0  2.6185  2025.0   \n",
       "2  64.3500       122.000000   57.790000       42.0  2.3947  2025.0   \n",
       "3  66.3892        84.066667   60.000933      302.0  0.4774  2025.0   \n",
       "4  66.3892        84.066667   60.000933      134.0  1.0914  2025.0   \n",
       "5  65.8700       172.000000   51.940000       50.0  2.1493  2025.0   \n",
       "6  66.3892        84.066667   60.000933      198.0  0.7287  2025.0   \n",
       "7  64.8900        74.000000   60.440000      153.0  0.8950  2025.0   \n",
       "8  66.3892        84.066667   60.000933      256.0  0.5729  2025.0   \n",
       "9  66.3892        84.066667   60.000933       81.0  1.5848  2025.0   \n",
       "\n",
       "   VEGAS_ODDS  CUT_PERCENTAGE  FEDEX_CUP_POINTS  form_density  \\\n",
       "0      1000.0            62.9             0.000     40.359149   \n",
       "1        60.0            76.5           660.480     38.850000   \n",
       "2        40.0            84.6           392.203     30.170000   \n",
       "3      1000.0            62.9             0.000     40.359149   \n",
       "4       350.0            62.9             0.000     40.359149   \n",
       "5       100.0            38.5           941.000     72.380000   \n",
       "6       250.0            62.9             0.000     40.359149   \n",
       "7       400.0            42.1           316.783     16.670000   \n",
       "8       350.0            62.9             0.000     40.359149   \n",
       "9        80.0            66.7           134.250     22.380000   \n",
       "\n",
       "   CONSECUTIVE_CUTS  RECENT_FORM   adj_form  COURSE_HISTORY    adj_ch  SALARY  \n",
       "0          2.510638         90.0  27.533723          90.000  129.8400    6100  \n",
       "1          2.000000         38.4  13.290000          47.000   42.7800    8300  \n",
       "2          6.000000         40.2  15.230000          32.300   23.3000    8600  \n",
       "3          2.510638         90.0  27.533723          90.000   81.9200    6100  \n",
       "4          2.510638         90.0  27.533723          58.226   65.2845    6600  \n",
       "5          0.000000         60.8  23.040000          58.226   65.2845    7200  \n",
       "6          2.510638         90.0  27.533723          15.000   21.6400    6400  \n",
       "7          0.000000         66.4  22.160000          58.226   65.2845    6500  \n",
       "8          2.510638         90.0  27.533723          90.000  129.8400    6500  \n",
       "9          0.000000         52.8  27.130000          53.000   38.2300    7500  "
      ]
     },
     "execution_count": 24,
     "metadata": {},
     "output_type": "execute_result"
    }
   ],
   "source": [
    "this_week.head(10)"
   ]
  },
  {
   "cell_type": "markdown",
   "id": "e37950e7",
   "metadata": {},
   "source": [
    "## Correlations\n",
    "**Last 4 Years**"
   ]
  },
  {
   "cell_type": "code",
   "execution_count": 25,
   "id": "d749a70f",
   "metadata": {},
   "outputs": [
    {
     "data": {
      "application/vnd.plotly.v1+json": {
       "config": {
        "plotlyServerURL": "https://plot.ly"
       },
       "data": [
        {
         "hovertemplate": "Feature=%{x}<br>Correlation=%{y}<extra></extra>",
         "legendgroup": "",
         "marker": {
          "color": "#636efa",
          "pattern": {
           "shape": ""
          }
         },
         "name": "",
         "orientation": "v",
         "showlegend": false,
         "textposition": "auto",
         "type": "bar",
         "x": [
          "OWGR",
          "form_density",
          "DRIVING_DISTANCE",
          "FEDEX_CUP_POINTS",
          "DRIVING_DISTANCE_RANK",
          "RECENT_FORM",
          "TOTAL_DRIVING",
          "SGOTT",
          "PAR_4_RANK",
          "TOTAL_DRIVING_RANK",
          "PAR_5",
          "adj_form",
          "PAR_4",
          "SGTTG",
          "SGTTG_RANK",
          "PAR_5_RANK",
          "OWGR_RANK",
          "SGOTT_RANK",
          "GIR_RANK",
          "VEGAS_ODDS",
          "SGP",
          "BIRDIES",
          "SGAPR",
          "SGP_RANK",
          "SGAPR_RANK",
          "SCRAMBLING_RANK",
          "BIRDIES_RANK",
          "SCRAMBLING",
          "GIR",
          "SGATG_RANK",
          "SGATG",
          "CONSECUTIVE_CUTS",
          "PAR_3",
          "PAR_3_RANK",
          "CUT_PERCENTAGE",
          "DRIVING_ACCURACY",
          "DRIVING_ACCURACY_RANK",
          "COURSE_HISTORY",
          "adj_ch"
         ],
         "xaxis": "x",
         "y": {
          "bdata": "GOTC1GvG1j+3KrVgFKjVP2TBYQ3iG9Q/BnAhVqGp0z8xgYnFISfTP//ctGXn3dI/EftLmyNu0j+U+L/x8NzRP28GYpXWt9E/DSxKc5SJ0T9dBTs7CCHRP3OEt5whG9E/Fi+GO9rc0D9slu90B5jPP8p1eJmdec4/brED46T0zT+4PHPKTGLMP1ZsOoSspco/jEGpC40ayj/BoueH5PPIPw6EPr1alsg/pZiEDjiBxz/rLe4fLKLEP6qX2ug7b8Q/kCauDpL+wz/u1E6cF4LCPzlPRzj0+sE/nvhhZxr2wD9yQCdM/2K9Px2sNmdefbQ/jWQl2ls/sz+Cx+1DhmquP6Df40PeWKw/pdcJoepZpj9wrmPkPl2aPxQHdUVHcpU/ezOkNooddj8AAAAAAAD4fwAAAAAAAPh/",
          "dtype": "f8"
         },
         "yaxis": "y"
        }
       ],
       "layout": {
        "barmode": "relative",
        "height": 500,
        "legend": {
         "tracegroupgap": 0
        },
        "template": {
         "data": {
          "bar": [
           {
            "error_x": {
             "color": "#f2f5fa"
            },
            "error_y": {
             "color": "#f2f5fa"
            },
            "marker": {
             "line": {
              "color": "rgb(17,17,17)",
              "width": 0.5
             },
             "pattern": {
              "fillmode": "overlay",
              "size": 10,
              "solidity": 0.2
             }
            },
            "type": "bar"
           }
          ],
          "barpolar": [
           {
            "marker": {
             "line": {
              "color": "rgb(17,17,17)",
              "width": 0.5
             },
             "pattern": {
              "fillmode": "overlay",
              "size": 10,
              "solidity": 0.2
             }
            },
            "type": "barpolar"
           }
          ],
          "carpet": [
           {
            "aaxis": {
             "endlinecolor": "#A2B1C6",
             "gridcolor": "#506784",
             "linecolor": "#506784",
             "minorgridcolor": "#506784",
             "startlinecolor": "#A2B1C6"
            },
            "baxis": {
             "endlinecolor": "#A2B1C6",
             "gridcolor": "#506784",
             "linecolor": "#506784",
             "minorgridcolor": "#506784",
             "startlinecolor": "#A2B1C6"
            },
            "type": "carpet"
           }
          ],
          "choropleth": [
           {
            "colorbar": {
             "outlinewidth": 0,
             "ticks": ""
            },
            "type": "choropleth"
           }
          ],
          "contour": [
           {
            "colorbar": {
             "outlinewidth": 0,
             "ticks": ""
            },
            "colorscale": [
             [
              0,
              "#0d0887"
             ],
             [
              0.1111111111111111,
              "#46039f"
             ],
             [
              0.2222222222222222,
              "#7201a8"
             ],
             [
              0.3333333333333333,
              "#9c179e"
             ],
             [
              0.4444444444444444,
              "#bd3786"
             ],
             [
              0.5555555555555556,
              "#d8576b"
             ],
             [
              0.6666666666666666,
              "#ed7953"
             ],
             [
              0.7777777777777778,
              "#fb9f3a"
             ],
             [
              0.8888888888888888,
              "#fdca26"
             ],
             [
              1,
              "#f0f921"
             ]
            ],
            "type": "contour"
           }
          ],
          "contourcarpet": [
           {
            "colorbar": {
             "outlinewidth": 0,
             "ticks": ""
            },
            "type": "contourcarpet"
           }
          ],
          "heatmap": [
           {
            "colorbar": {
             "outlinewidth": 0,
             "ticks": ""
            },
            "colorscale": [
             [
              0,
              "#0d0887"
             ],
             [
              0.1111111111111111,
              "#46039f"
             ],
             [
              0.2222222222222222,
              "#7201a8"
             ],
             [
              0.3333333333333333,
              "#9c179e"
             ],
             [
              0.4444444444444444,
              "#bd3786"
             ],
             [
              0.5555555555555556,
              "#d8576b"
             ],
             [
              0.6666666666666666,
              "#ed7953"
             ],
             [
              0.7777777777777778,
              "#fb9f3a"
             ],
             [
              0.8888888888888888,
              "#fdca26"
             ],
             [
              1,
              "#f0f921"
             ]
            ],
            "type": "heatmap"
           }
          ],
          "histogram": [
           {
            "marker": {
             "pattern": {
              "fillmode": "overlay",
              "size": 10,
              "solidity": 0.2
             }
            },
            "type": "histogram"
           }
          ],
          "histogram2d": [
           {
            "colorbar": {
             "outlinewidth": 0,
             "ticks": ""
            },
            "colorscale": [
             [
              0,
              "#0d0887"
             ],
             [
              0.1111111111111111,
              "#46039f"
             ],
             [
              0.2222222222222222,
              "#7201a8"
             ],
             [
              0.3333333333333333,
              "#9c179e"
             ],
             [
              0.4444444444444444,
              "#bd3786"
             ],
             [
              0.5555555555555556,
              "#d8576b"
             ],
             [
              0.6666666666666666,
              "#ed7953"
             ],
             [
              0.7777777777777778,
              "#fb9f3a"
             ],
             [
              0.8888888888888888,
              "#fdca26"
             ],
             [
              1,
              "#f0f921"
             ]
            ],
            "type": "histogram2d"
           }
          ],
          "histogram2dcontour": [
           {
            "colorbar": {
             "outlinewidth": 0,
             "ticks": ""
            },
            "colorscale": [
             [
              0,
              "#0d0887"
             ],
             [
              0.1111111111111111,
              "#46039f"
             ],
             [
              0.2222222222222222,
              "#7201a8"
             ],
             [
              0.3333333333333333,
              "#9c179e"
             ],
             [
              0.4444444444444444,
              "#bd3786"
             ],
             [
              0.5555555555555556,
              "#d8576b"
             ],
             [
              0.6666666666666666,
              "#ed7953"
             ],
             [
              0.7777777777777778,
              "#fb9f3a"
             ],
             [
              0.8888888888888888,
              "#fdca26"
             ],
             [
              1,
              "#f0f921"
             ]
            ],
            "type": "histogram2dcontour"
           }
          ],
          "mesh3d": [
           {
            "colorbar": {
             "outlinewidth": 0,
             "ticks": ""
            },
            "type": "mesh3d"
           }
          ],
          "parcoords": [
           {
            "line": {
             "colorbar": {
              "outlinewidth": 0,
              "ticks": ""
             }
            },
            "type": "parcoords"
           }
          ],
          "pie": [
           {
            "automargin": true,
            "type": "pie"
           }
          ],
          "scatter": [
           {
            "marker": {
             "line": {
              "color": "#283442"
             }
            },
            "type": "scatter"
           }
          ],
          "scatter3d": [
           {
            "line": {
             "colorbar": {
              "outlinewidth": 0,
              "ticks": ""
             }
            },
            "marker": {
             "colorbar": {
              "outlinewidth": 0,
              "ticks": ""
             }
            },
            "type": "scatter3d"
           }
          ],
          "scattercarpet": [
           {
            "marker": {
             "colorbar": {
              "outlinewidth": 0,
              "ticks": ""
             }
            },
            "type": "scattercarpet"
           }
          ],
          "scattergeo": [
           {
            "marker": {
             "colorbar": {
              "outlinewidth": 0,
              "ticks": ""
             }
            },
            "type": "scattergeo"
           }
          ],
          "scattergl": [
           {
            "marker": {
             "line": {
              "color": "#283442"
             }
            },
            "type": "scattergl"
           }
          ],
          "scattermap": [
           {
            "marker": {
             "colorbar": {
              "outlinewidth": 0,
              "ticks": ""
             }
            },
            "type": "scattermap"
           }
          ],
          "scattermapbox": [
           {
            "marker": {
             "colorbar": {
              "outlinewidth": 0,
              "ticks": ""
             }
            },
            "type": "scattermapbox"
           }
          ],
          "scatterpolar": [
           {
            "marker": {
             "colorbar": {
              "outlinewidth": 0,
              "ticks": ""
             }
            },
            "type": "scatterpolar"
           }
          ],
          "scatterpolargl": [
           {
            "marker": {
             "colorbar": {
              "outlinewidth": 0,
              "ticks": ""
             }
            },
            "type": "scatterpolargl"
           }
          ],
          "scatterternary": [
           {
            "marker": {
             "colorbar": {
              "outlinewidth": 0,
              "ticks": ""
             }
            },
            "type": "scatterternary"
           }
          ],
          "surface": [
           {
            "colorbar": {
             "outlinewidth": 0,
             "ticks": ""
            },
            "colorscale": [
             [
              0,
              "#0d0887"
             ],
             [
              0.1111111111111111,
              "#46039f"
             ],
             [
              0.2222222222222222,
              "#7201a8"
             ],
             [
              0.3333333333333333,
              "#9c179e"
             ],
             [
              0.4444444444444444,
              "#bd3786"
             ],
             [
              0.5555555555555556,
              "#d8576b"
             ],
             [
              0.6666666666666666,
              "#ed7953"
             ],
             [
              0.7777777777777778,
              "#fb9f3a"
             ],
             [
              0.8888888888888888,
              "#fdca26"
             ],
             [
              1,
              "#f0f921"
             ]
            ],
            "type": "surface"
           }
          ],
          "table": [
           {
            "cells": {
             "fill": {
              "color": "#506784"
             },
             "line": {
              "color": "rgb(17,17,17)"
             }
            },
            "header": {
             "fill": {
              "color": "#2a3f5f"
             },
             "line": {
              "color": "rgb(17,17,17)"
             }
            },
            "type": "table"
           }
          ]
         },
         "layout": {
          "annotationdefaults": {
           "arrowcolor": "#f2f5fa",
           "arrowhead": 0,
           "arrowwidth": 1
          },
          "autotypenumbers": "strict",
          "coloraxis": {
           "colorbar": {
            "outlinewidth": 0,
            "ticks": ""
           }
          },
          "colorscale": {
           "diverging": [
            [
             0,
             "#8e0152"
            ],
            [
             0.1,
             "#c51b7d"
            ],
            [
             0.2,
             "#de77ae"
            ],
            [
             0.3,
             "#f1b6da"
            ],
            [
             0.4,
             "#fde0ef"
            ],
            [
             0.5,
             "#f7f7f7"
            ],
            [
             0.6,
             "#e6f5d0"
            ],
            [
             0.7,
             "#b8e186"
            ],
            [
             0.8,
             "#7fbc41"
            ],
            [
             0.9,
             "#4d9221"
            ],
            [
             1,
             "#276419"
            ]
           ],
           "sequential": [
            [
             0,
             "#0d0887"
            ],
            [
             0.1111111111111111,
             "#46039f"
            ],
            [
             0.2222222222222222,
             "#7201a8"
            ],
            [
             0.3333333333333333,
             "#9c179e"
            ],
            [
             0.4444444444444444,
             "#bd3786"
            ],
            [
             0.5555555555555556,
             "#d8576b"
            ],
            [
             0.6666666666666666,
             "#ed7953"
            ],
            [
             0.7777777777777778,
             "#fb9f3a"
            ],
            [
             0.8888888888888888,
             "#fdca26"
            ],
            [
             1,
             "#f0f921"
            ]
           ],
           "sequentialminus": [
            [
             0,
             "#0d0887"
            ],
            [
             0.1111111111111111,
             "#46039f"
            ],
            [
             0.2222222222222222,
             "#7201a8"
            ],
            [
             0.3333333333333333,
             "#9c179e"
            ],
            [
             0.4444444444444444,
             "#bd3786"
            ],
            [
             0.5555555555555556,
             "#d8576b"
            ],
            [
             0.6666666666666666,
             "#ed7953"
            ],
            [
             0.7777777777777778,
             "#fb9f3a"
            ],
            [
             0.8888888888888888,
             "#fdca26"
            ],
            [
             1,
             "#f0f921"
            ]
           ]
          },
          "colorway": [
           "#636efa",
           "#EF553B",
           "#00cc96",
           "#ab63fa",
           "#FFA15A",
           "#19d3f3",
           "#FF6692",
           "#B6E880",
           "#FF97FF",
           "#FECB52"
          ],
          "font": {
           "color": "#f2f5fa"
          },
          "geo": {
           "bgcolor": "rgb(17,17,17)",
           "lakecolor": "rgb(17,17,17)",
           "landcolor": "rgb(17,17,17)",
           "showlakes": true,
           "showland": true,
           "subunitcolor": "#506784"
          },
          "hoverlabel": {
           "align": "left"
          },
          "hovermode": "closest",
          "mapbox": {
           "style": "dark"
          },
          "paper_bgcolor": "rgb(17,17,17)",
          "plot_bgcolor": "rgb(17,17,17)",
          "polar": {
           "angularaxis": {
            "gridcolor": "#506784",
            "linecolor": "#506784",
            "ticks": ""
           },
           "bgcolor": "rgb(17,17,17)",
           "radialaxis": {
            "gridcolor": "#506784",
            "linecolor": "#506784",
            "ticks": ""
           }
          },
          "scene": {
           "xaxis": {
            "backgroundcolor": "rgb(17,17,17)",
            "gridcolor": "#506784",
            "gridwidth": 2,
            "linecolor": "#506784",
            "showbackground": true,
            "ticks": "",
            "zerolinecolor": "#C8D4E3"
           },
           "yaxis": {
            "backgroundcolor": "rgb(17,17,17)",
            "gridcolor": "#506784",
            "gridwidth": 2,
            "linecolor": "#506784",
            "showbackground": true,
            "ticks": "",
            "zerolinecolor": "#C8D4E3"
           },
           "zaxis": {
            "backgroundcolor": "rgb(17,17,17)",
            "gridcolor": "#506784",
            "gridwidth": 2,
            "linecolor": "#506784",
            "showbackground": true,
            "ticks": "",
            "zerolinecolor": "#C8D4E3"
           }
          },
          "shapedefaults": {
           "line": {
            "color": "#f2f5fa"
           }
          },
          "sliderdefaults": {
           "bgcolor": "#C8D4E3",
           "bordercolor": "rgb(17,17,17)",
           "borderwidth": 1,
           "tickwidth": 0
          },
          "ternary": {
           "aaxis": {
            "gridcolor": "#506784",
            "linecolor": "#506784",
            "ticks": ""
           },
           "baxis": {
            "gridcolor": "#506784",
            "linecolor": "#506784",
            "ticks": ""
           },
           "bgcolor": "rgb(17,17,17)",
           "caxis": {
            "gridcolor": "#506784",
            "linecolor": "#506784",
            "ticks": ""
           }
          },
          "title": {
           "x": 0.05
          },
          "updatemenudefaults": {
           "bgcolor": "#506784",
           "borderwidth": 0
          },
          "xaxis": {
           "automargin": true,
           "gridcolor": "#283442",
           "linecolor": "#506784",
           "ticks": "",
           "title": {
            "standoff": 15
           },
           "zerolinecolor": "#283442",
           "zerolinewidth": 2
          },
          "yaxis": {
           "automargin": true,
           "gridcolor": "#283442",
           "linecolor": "#506784",
           "ticks": "",
           "title": {
            "standoff": 15
           },
           "zerolinecolor": "#283442",
           "zerolinewidth": 2
          }
         }
        },
        "title": {
         "text": "🔎 Correlation to TOP_20 — Season 2022"
        },
        "width": 1000,
        "xaxis": {
         "anchor": "y",
         "domain": [
          0,
          1
         ],
         "tickangle": -45,
         "title": {
          "text": "Feature"
         }
        },
        "yaxis": {
         "anchor": "x",
         "domain": [
          0,
          1
         ],
         "title": {
          "text": "Absolute Correlation to TOP_20"
         }
        }
       }
      }
     },
     "metadata": {},
     "output_type": "display_data"
    },
    {
     "data": {
      "application/vnd.plotly.v1+json": {
       "config": {
        "plotlyServerURL": "https://plot.ly"
       },
       "data": [
        {
         "hovertemplate": "Feature=%{x}<br>Correlation=%{y}<extra></extra>",
         "legendgroup": "",
         "marker": {
          "color": "#636efa",
          "pattern": {
           "shape": ""
          }
         },
         "name": "",
         "orientation": "v",
         "showlegend": false,
         "textposition": "auto",
         "type": "bar",
         "x": [
          "OWGR",
          "OWGR_RANK",
          "FEDEX_CUP_POINTS",
          "RECENT_FORM",
          "VEGAS_ODDS",
          "SGTTG",
          "SGTTG_RANK",
          "form_density",
          "SGAPR",
          "PAR_3",
          "PAR_5_RANK",
          "SGOTT",
          "SGAPR_RANK",
          "SGOTT_RANK",
          "PAR_3_RANK",
          "TOTAL_DRIVING_RANK",
          "PAR_5",
          "BIRDIES_RANK",
          "PAR_4",
          "SGP_RANK",
          "SGP",
          "adj_form",
          "BIRDIES",
          "TOTAL_DRIVING",
          "SCRAMBLING",
          "CUT_PERCENTAGE",
          "PAR_4_RANK",
          "DRIVING_ACCURACY_RANK",
          "SCRAMBLING_RANK",
          "DRIVING_ACCURACY",
          "CONSECUTIVE_CUTS",
          "COURSE_HISTORY",
          "DRIVING_DISTANCE",
          "adj_ch",
          "GIR",
          "SGATG_RANK",
          "GIR_RANK",
          "DRIVING_DISTANCE_RANK",
          "SGATG"
         ],
         "xaxis": "x",
         "y": {
          "bdata": "TOhlNAV42j+e9C5rjTXUP/Ie56MYHNQ/m24gQvRJ0z8QQrxOGCnSPwXzIGTJm9A/46chRhEuzT8aXP1AayvNPyQdQnMZGM0/ZROJMk5gyz+2SCSbS7HKP/RQ2REPl8o/M+/ASzTzyD8WDX00Pr7IP1KS/eopd8g/GtBn/koKxj/FVbYQlXHDPzglUAwWacI/3nJw7qrUwT+nabn8LgTBP3uzxm5JncA/43bAFY2XwD8rQrxOZIHAPxBOj+NXUsA/1MoH+kDevz8ThWPAdvG9P/QOTeLye7s/B78+EJeruj8ZwsChT6a3P47cYKevYLU/kpILLhQBtD//4dhu4yyxP9XZ73l/aq0/FFuw5DdFqD/adrNyJPOlP52f4qlOXKQ/WFfpzz92lj/3kdTWvz2VP9NL+ok0lZA/",
          "dtype": "f8"
         },
         "yaxis": "y"
        }
       ],
       "layout": {
        "barmode": "relative",
        "height": 500,
        "legend": {
         "tracegroupgap": 0
        },
        "template": {
         "data": {
          "bar": [
           {
            "error_x": {
             "color": "#f2f5fa"
            },
            "error_y": {
             "color": "#f2f5fa"
            },
            "marker": {
             "line": {
              "color": "rgb(17,17,17)",
              "width": 0.5
             },
             "pattern": {
              "fillmode": "overlay",
              "size": 10,
              "solidity": 0.2
             }
            },
            "type": "bar"
           }
          ],
          "barpolar": [
           {
            "marker": {
             "line": {
              "color": "rgb(17,17,17)",
              "width": 0.5
             },
             "pattern": {
              "fillmode": "overlay",
              "size": 10,
              "solidity": 0.2
             }
            },
            "type": "barpolar"
           }
          ],
          "carpet": [
           {
            "aaxis": {
             "endlinecolor": "#A2B1C6",
             "gridcolor": "#506784",
             "linecolor": "#506784",
             "minorgridcolor": "#506784",
             "startlinecolor": "#A2B1C6"
            },
            "baxis": {
             "endlinecolor": "#A2B1C6",
             "gridcolor": "#506784",
             "linecolor": "#506784",
             "minorgridcolor": "#506784",
             "startlinecolor": "#A2B1C6"
            },
            "type": "carpet"
           }
          ],
          "choropleth": [
           {
            "colorbar": {
             "outlinewidth": 0,
             "ticks": ""
            },
            "type": "choropleth"
           }
          ],
          "contour": [
           {
            "colorbar": {
             "outlinewidth": 0,
             "ticks": ""
            },
            "colorscale": [
             [
              0,
              "#0d0887"
             ],
             [
              0.1111111111111111,
              "#46039f"
             ],
             [
              0.2222222222222222,
              "#7201a8"
             ],
             [
              0.3333333333333333,
              "#9c179e"
             ],
             [
              0.4444444444444444,
              "#bd3786"
             ],
             [
              0.5555555555555556,
              "#d8576b"
             ],
             [
              0.6666666666666666,
              "#ed7953"
             ],
             [
              0.7777777777777778,
              "#fb9f3a"
             ],
             [
              0.8888888888888888,
              "#fdca26"
             ],
             [
              1,
              "#f0f921"
             ]
            ],
            "type": "contour"
           }
          ],
          "contourcarpet": [
           {
            "colorbar": {
             "outlinewidth": 0,
             "ticks": ""
            },
            "type": "contourcarpet"
           }
          ],
          "heatmap": [
           {
            "colorbar": {
             "outlinewidth": 0,
             "ticks": ""
            },
            "colorscale": [
             [
              0,
              "#0d0887"
             ],
             [
              0.1111111111111111,
              "#46039f"
             ],
             [
              0.2222222222222222,
              "#7201a8"
             ],
             [
              0.3333333333333333,
              "#9c179e"
             ],
             [
              0.4444444444444444,
              "#bd3786"
             ],
             [
              0.5555555555555556,
              "#d8576b"
             ],
             [
              0.6666666666666666,
              "#ed7953"
             ],
             [
              0.7777777777777778,
              "#fb9f3a"
             ],
             [
              0.8888888888888888,
              "#fdca26"
             ],
             [
              1,
              "#f0f921"
             ]
            ],
            "type": "heatmap"
           }
          ],
          "histogram": [
           {
            "marker": {
             "pattern": {
              "fillmode": "overlay",
              "size": 10,
              "solidity": 0.2
             }
            },
            "type": "histogram"
           }
          ],
          "histogram2d": [
           {
            "colorbar": {
             "outlinewidth": 0,
             "ticks": ""
            },
            "colorscale": [
             [
              0,
              "#0d0887"
             ],
             [
              0.1111111111111111,
              "#46039f"
             ],
             [
              0.2222222222222222,
              "#7201a8"
             ],
             [
              0.3333333333333333,
              "#9c179e"
             ],
             [
              0.4444444444444444,
              "#bd3786"
             ],
             [
              0.5555555555555556,
              "#d8576b"
             ],
             [
              0.6666666666666666,
              "#ed7953"
             ],
             [
              0.7777777777777778,
              "#fb9f3a"
             ],
             [
              0.8888888888888888,
              "#fdca26"
             ],
             [
              1,
              "#f0f921"
             ]
            ],
            "type": "histogram2d"
           }
          ],
          "histogram2dcontour": [
           {
            "colorbar": {
             "outlinewidth": 0,
             "ticks": ""
            },
            "colorscale": [
             [
              0,
              "#0d0887"
             ],
             [
              0.1111111111111111,
              "#46039f"
             ],
             [
              0.2222222222222222,
              "#7201a8"
             ],
             [
              0.3333333333333333,
              "#9c179e"
             ],
             [
              0.4444444444444444,
              "#bd3786"
             ],
             [
              0.5555555555555556,
              "#d8576b"
             ],
             [
              0.6666666666666666,
              "#ed7953"
             ],
             [
              0.7777777777777778,
              "#fb9f3a"
             ],
             [
              0.8888888888888888,
              "#fdca26"
             ],
             [
              1,
              "#f0f921"
             ]
            ],
            "type": "histogram2dcontour"
           }
          ],
          "mesh3d": [
           {
            "colorbar": {
             "outlinewidth": 0,
             "ticks": ""
            },
            "type": "mesh3d"
           }
          ],
          "parcoords": [
           {
            "line": {
             "colorbar": {
              "outlinewidth": 0,
              "ticks": ""
             }
            },
            "type": "parcoords"
           }
          ],
          "pie": [
           {
            "automargin": true,
            "type": "pie"
           }
          ],
          "scatter": [
           {
            "marker": {
             "line": {
              "color": "#283442"
             }
            },
            "type": "scatter"
           }
          ],
          "scatter3d": [
           {
            "line": {
             "colorbar": {
              "outlinewidth": 0,
              "ticks": ""
             }
            },
            "marker": {
             "colorbar": {
              "outlinewidth": 0,
              "ticks": ""
             }
            },
            "type": "scatter3d"
           }
          ],
          "scattercarpet": [
           {
            "marker": {
             "colorbar": {
              "outlinewidth": 0,
              "ticks": ""
             }
            },
            "type": "scattercarpet"
           }
          ],
          "scattergeo": [
           {
            "marker": {
             "colorbar": {
              "outlinewidth": 0,
              "ticks": ""
             }
            },
            "type": "scattergeo"
           }
          ],
          "scattergl": [
           {
            "marker": {
             "line": {
              "color": "#283442"
             }
            },
            "type": "scattergl"
           }
          ],
          "scattermap": [
           {
            "marker": {
             "colorbar": {
              "outlinewidth": 0,
              "ticks": ""
             }
            },
            "type": "scattermap"
           }
          ],
          "scattermapbox": [
           {
            "marker": {
             "colorbar": {
              "outlinewidth": 0,
              "ticks": ""
             }
            },
            "type": "scattermapbox"
           }
          ],
          "scatterpolar": [
           {
            "marker": {
             "colorbar": {
              "outlinewidth": 0,
              "ticks": ""
             }
            },
            "type": "scatterpolar"
           }
          ],
          "scatterpolargl": [
           {
            "marker": {
             "colorbar": {
              "outlinewidth": 0,
              "ticks": ""
             }
            },
            "type": "scatterpolargl"
           }
          ],
          "scatterternary": [
           {
            "marker": {
             "colorbar": {
              "outlinewidth": 0,
              "ticks": ""
             }
            },
            "type": "scatterternary"
           }
          ],
          "surface": [
           {
            "colorbar": {
             "outlinewidth": 0,
             "ticks": ""
            },
            "colorscale": [
             [
              0,
              "#0d0887"
             ],
             [
              0.1111111111111111,
              "#46039f"
             ],
             [
              0.2222222222222222,
              "#7201a8"
             ],
             [
              0.3333333333333333,
              "#9c179e"
             ],
             [
              0.4444444444444444,
              "#bd3786"
             ],
             [
              0.5555555555555556,
              "#d8576b"
             ],
             [
              0.6666666666666666,
              "#ed7953"
             ],
             [
              0.7777777777777778,
              "#fb9f3a"
             ],
             [
              0.8888888888888888,
              "#fdca26"
             ],
             [
              1,
              "#f0f921"
             ]
            ],
            "type": "surface"
           }
          ],
          "table": [
           {
            "cells": {
             "fill": {
              "color": "#506784"
             },
             "line": {
              "color": "rgb(17,17,17)"
             }
            },
            "header": {
             "fill": {
              "color": "#2a3f5f"
             },
             "line": {
              "color": "rgb(17,17,17)"
             }
            },
            "type": "table"
           }
          ]
         },
         "layout": {
          "annotationdefaults": {
           "arrowcolor": "#f2f5fa",
           "arrowhead": 0,
           "arrowwidth": 1
          },
          "autotypenumbers": "strict",
          "coloraxis": {
           "colorbar": {
            "outlinewidth": 0,
            "ticks": ""
           }
          },
          "colorscale": {
           "diverging": [
            [
             0,
             "#8e0152"
            ],
            [
             0.1,
             "#c51b7d"
            ],
            [
             0.2,
             "#de77ae"
            ],
            [
             0.3,
             "#f1b6da"
            ],
            [
             0.4,
             "#fde0ef"
            ],
            [
             0.5,
             "#f7f7f7"
            ],
            [
             0.6,
             "#e6f5d0"
            ],
            [
             0.7,
             "#b8e186"
            ],
            [
             0.8,
             "#7fbc41"
            ],
            [
             0.9,
             "#4d9221"
            ],
            [
             1,
             "#276419"
            ]
           ],
           "sequential": [
            [
             0,
             "#0d0887"
            ],
            [
             0.1111111111111111,
             "#46039f"
            ],
            [
             0.2222222222222222,
             "#7201a8"
            ],
            [
             0.3333333333333333,
             "#9c179e"
            ],
            [
             0.4444444444444444,
             "#bd3786"
            ],
            [
             0.5555555555555556,
             "#d8576b"
            ],
            [
             0.6666666666666666,
             "#ed7953"
            ],
            [
             0.7777777777777778,
             "#fb9f3a"
            ],
            [
             0.8888888888888888,
             "#fdca26"
            ],
            [
             1,
             "#f0f921"
            ]
           ],
           "sequentialminus": [
            [
             0,
             "#0d0887"
            ],
            [
             0.1111111111111111,
             "#46039f"
            ],
            [
             0.2222222222222222,
             "#7201a8"
            ],
            [
             0.3333333333333333,
             "#9c179e"
            ],
            [
             0.4444444444444444,
             "#bd3786"
            ],
            [
             0.5555555555555556,
             "#d8576b"
            ],
            [
             0.6666666666666666,
             "#ed7953"
            ],
            [
             0.7777777777777778,
             "#fb9f3a"
            ],
            [
             0.8888888888888888,
             "#fdca26"
            ],
            [
             1,
             "#f0f921"
            ]
           ]
          },
          "colorway": [
           "#636efa",
           "#EF553B",
           "#00cc96",
           "#ab63fa",
           "#FFA15A",
           "#19d3f3",
           "#FF6692",
           "#B6E880",
           "#FF97FF",
           "#FECB52"
          ],
          "font": {
           "color": "#f2f5fa"
          },
          "geo": {
           "bgcolor": "rgb(17,17,17)",
           "lakecolor": "rgb(17,17,17)",
           "landcolor": "rgb(17,17,17)",
           "showlakes": true,
           "showland": true,
           "subunitcolor": "#506784"
          },
          "hoverlabel": {
           "align": "left"
          },
          "hovermode": "closest",
          "mapbox": {
           "style": "dark"
          },
          "paper_bgcolor": "rgb(17,17,17)",
          "plot_bgcolor": "rgb(17,17,17)",
          "polar": {
           "angularaxis": {
            "gridcolor": "#506784",
            "linecolor": "#506784",
            "ticks": ""
           },
           "bgcolor": "rgb(17,17,17)",
           "radialaxis": {
            "gridcolor": "#506784",
            "linecolor": "#506784",
            "ticks": ""
           }
          },
          "scene": {
           "xaxis": {
            "backgroundcolor": "rgb(17,17,17)",
            "gridcolor": "#506784",
            "gridwidth": 2,
            "linecolor": "#506784",
            "showbackground": true,
            "ticks": "",
            "zerolinecolor": "#C8D4E3"
           },
           "yaxis": {
            "backgroundcolor": "rgb(17,17,17)",
            "gridcolor": "#506784",
            "gridwidth": 2,
            "linecolor": "#506784",
            "showbackground": true,
            "ticks": "",
            "zerolinecolor": "#C8D4E3"
           },
           "zaxis": {
            "backgroundcolor": "rgb(17,17,17)",
            "gridcolor": "#506784",
            "gridwidth": 2,
            "linecolor": "#506784",
            "showbackground": true,
            "ticks": "",
            "zerolinecolor": "#C8D4E3"
           }
          },
          "shapedefaults": {
           "line": {
            "color": "#f2f5fa"
           }
          },
          "sliderdefaults": {
           "bgcolor": "#C8D4E3",
           "bordercolor": "rgb(17,17,17)",
           "borderwidth": 1,
           "tickwidth": 0
          },
          "ternary": {
           "aaxis": {
            "gridcolor": "#506784",
            "linecolor": "#506784",
            "ticks": ""
           },
           "baxis": {
            "gridcolor": "#506784",
            "linecolor": "#506784",
            "ticks": ""
           },
           "bgcolor": "rgb(17,17,17)",
           "caxis": {
            "gridcolor": "#506784",
            "linecolor": "#506784",
            "ticks": ""
           }
          },
          "title": {
           "x": 0.05
          },
          "updatemenudefaults": {
           "bgcolor": "#506784",
           "borderwidth": 0
          },
          "xaxis": {
           "automargin": true,
           "gridcolor": "#283442",
           "linecolor": "#506784",
           "ticks": "",
           "title": {
            "standoff": 15
           },
           "zerolinecolor": "#283442",
           "zerolinewidth": 2
          },
          "yaxis": {
           "automargin": true,
           "gridcolor": "#283442",
           "linecolor": "#506784",
           "ticks": "",
           "title": {
            "standoff": 15
           },
           "zerolinecolor": "#283442",
           "zerolinewidth": 2
          }
         }
        },
        "title": {
         "text": "🔎 Correlation to TOP_20 — Season 2023"
        },
        "width": 1000,
        "xaxis": {
         "anchor": "y",
         "domain": [
          0,
          1
         ],
         "tickangle": -45,
         "title": {
          "text": "Feature"
         }
        },
        "yaxis": {
         "anchor": "x",
         "domain": [
          0,
          1
         ],
         "title": {
          "text": "Absolute Correlation to TOP_20"
         }
        }
       }
      }
     },
     "metadata": {},
     "output_type": "display_data"
    },
    {
     "data": {
      "application/vnd.plotly.v1+json": {
       "config": {
        "plotlyServerURL": "https://plot.ly"
       },
       "data": [
        {
         "hovertemplate": "Feature=%{x}<br>Correlation=%{y}<extra></extra>",
         "legendgroup": "",
         "marker": {
          "color": "#636efa",
          "pattern": {
           "shape": ""
          }
         },
         "name": "",
         "orientation": "v",
         "showlegend": false,
         "textposition": "auto",
         "type": "bar",
         "x": [
          "OWGR",
          "form_density",
          "FEDEX_CUP_POINTS",
          "SGTTG_RANK",
          "SGOTT_RANK",
          "SGTTG",
          "PAR_4_RANK",
          "PAR_4",
          "SGOTT",
          "CONSECUTIVE_CUTS",
          "SCRAMBLING",
          "RECENT_FORM",
          "OWGR_RANK",
          "SCRAMBLING_RANK",
          "VEGAS_ODDS",
          "TOTAL_DRIVING",
          "BIRDIES",
          "BIRDIES_RANK",
          "TOTAL_DRIVING_RANK",
          "SGAPR",
          "SGAPR_RANK",
          "adj_ch",
          "PAR_5",
          "COURSE_HISTORY",
          "SGP_RANK",
          "SGATG_RANK",
          "SGATG",
          "PAR_5_RANK",
          "PAR_3",
          "SGP",
          "PAR_3_RANK",
          "DRIVING_ACCURACY",
          "DRIVING_DISTANCE",
          "GIR",
          "DRIVING_ACCURACY_RANK",
          "GIR_RANK",
          "CUT_PERCENTAGE",
          "DRIVING_DISTANCE_RANK",
          "adj_form"
         ],
         "xaxis": "x",
         "y": {
          "bdata": "kLErNxwV4D+Z+ZOkv5zaPw72GYHIxdk/fjRoo+Z12D+6F3x2GDzXP0VKc4JdtdY/nzfUGjer1D8pKxG3rmDUP9nkQMzM6tM/QKbGSePR0D9S9vMACLjQP89f3jokTM8/mL6oOjE4zj+gO30yZQ3OP+ue4hAt0M0/RIaCx4lbzT8Yyt8jAUnNP9as3IgKZcw/Jwkc3d0Cyz/iFq9DMjfIP3rXmj7FAcg/zMI9L2/Sxz+tXdhYgoXGP61OCVEkYMY/ez7+ZKvmxT9BORpSFsLEP/0vReFMWsQ/k+5LnkEMwz8h04yE0M/CP1rKKrh7aME/9b/NA7lfwD9gq6UaYlC/P0162hbL/rw/0fSsu+08vD+DMOrEUNm7P4QyuK78aLs/8T1SOol2uD9yt1zyq0W4P5gRYUCbpqQ/",
          "dtype": "f8"
         },
         "yaxis": "y"
        }
       ],
       "layout": {
        "barmode": "relative",
        "height": 500,
        "legend": {
         "tracegroupgap": 0
        },
        "template": {
         "data": {
          "bar": [
           {
            "error_x": {
             "color": "#f2f5fa"
            },
            "error_y": {
             "color": "#f2f5fa"
            },
            "marker": {
             "line": {
              "color": "rgb(17,17,17)",
              "width": 0.5
             },
             "pattern": {
              "fillmode": "overlay",
              "size": 10,
              "solidity": 0.2
             }
            },
            "type": "bar"
           }
          ],
          "barpolar": [
           {
            "marker": {
             "line": {
              "color": "rgb(17,17,17)",
              "width": 0.5
             },
             "pattern": {
              "fillmode": "overlay",
              "size": 10,
              "solidity": 0.2
             }
            },
            "type": "barpolar"
           }
          ],
          "carpet": [
           {
            "aaxis": {
             "endlinecolor": "#A2B1C6",
             "gridcolor": "#506784",
             "linecolor": "#506784",
             "minorgridcolor": "#506784",
             "startlinecolor": "#A2B1C6"
            },
            "baxis": {
             "endlinecolor": "#A2B1C6",
             "gridcolor": "#506784",
             "linecolor": "#506784",
             "minorgridcolor": "#506784",
             "startlinecolor": "#A2B1C6"
            },
            "type": "carpet"
           }
          ],
          "choropleth": [
           {
            "colorbar": {
             "outlinewidth": 0,
             "ticks": ""
            },
            "type": "choropleth"
           }
          ],
          "contour": [
           {
            "colorbar": {
             "outlinewidth": 0,
             "ticks": ""
            },
            "colorscale": [
             [
              0,
              "#0d0887"
             ],
             [
              0.1111111111111111,
              "#46039f"
             ],
             [
              0.2222222222222222,
              "#7201a8"
             ],
             [
              0.3333333333333333,
              "#9c179e"
             ],
             [
              0.4444444444444444,
              "#bd3786"
             ],
             [
              0.5555555555555556,
              "#d8576b"
             ],
             [
              0.6666666666666666,
              "#ed7953"
             ],
             [
              0.7777777777777778,
              "#fb9f3a"
             ],
             [
              0.8888888888888888,
              "#fdca26"
             ],
             [
              1,
              "#f0f921"
             ]
            ],
            "type": "contour"
           }
          ],
          "contourcarpet": [
           {
            "colorbar": {
             "outlinewidth": 0,
             "ticks": ""
            },
            "type": "contourcarpet"
           }
          ],
          "heatmap": [
           {
            "colorbar": {
             "outlinewidth": 0,
             "ticks": ""
            },
            "colorscale": [
             [
              0,
              "#0d0887"
             ],
             [
              0.1111111111111111,
              "#46039f"
             ],
             [
              0.2222222222222222,
              "#7201a8"
             ],
             [
              0.3333333333333333,
              "#9c179e"
             ],
             [
              0.4444444444444444,
              "#bd3786"
             ],
             [
              0.5555555555555556,
              "#d8576b"
             ],
             [
              0.6666666666666666,
              "#ed7953"
             ],
             [
              0.7777777777777778,
              "#fb9f3a"
             ],
             [
              0.8888888888888888,
              "#fdca26"
             ],
             [
              1,
              "#f0f921"
             ]
            ],
            "type": "heatmap"
           }
          ],
          "histogram": [
           {
            "marker": {
             "pattern": {
              "fillmode": "overlay",
              "size": 10,
              "solidity": 0.2
             }
            },
            "type": "histogram"
           }
          ],
          "histogram2d": [
           {
            "colorbar": {
             "outlinewidth": 0,
             "ticks": ""
            },
            "colorscale": [
             [
              0,
              "#0d0887"
             ],
             [
              0.1111111111111111,
              "#46039f"
             ],
             [
              0.2222222222222222,
              "#7201a8"
             ],
             [
              0.3333333333333333,
              "#9c179e"
             ],
             [
              0.4444444444444444,
              "#bd3786"
             ],
             [
              0.5555555555555556,
              "#d8576b"
             ],
             [
              0.6666666666666666,
              "#ed7953"
             ],
             [
              0.7777777777777778,
              "#fb9f3a"
             ],
             [
              0.8888888888888888,
              "#fdca26"
             ],
             [
              1,
              "#f0f921"
             ]
            ],
            "type": "histogram2d"
           }
          ],
          "histogram2dcontour": [
           {
            "colorbar": {
             "outlinewidth": 0,
             "ticks": ""
            },
            "colorscale": [
             [
              0,
              "#0d0887"
             ],
             [
              0.1111111111111111,
              "#46039f"
             ],
             [
              0.2222222222222222,
              "#7201a8"
             ],
             [
              0.3333333333333333,
              "#9c179e"
             ],
             [
              0.4444444444444444,
              "#bd3786"
             ],
             [
              0.5555555555555556,
              "#d8576b"
             ],
             [
              0.6666666666666666,
              "#ed7953"
             ],
             [
              0.7777777777777778,
              "#fb9f3a"
             ],
             [
              0.8888888888888888,
              "#fdca26"
             ],
             [
              1,
              "#f0f921"
             ]
            ],
            "type": "histogram2dcontour"
           }
          ],
          "mesh3d": [
           {
            "colorbar": {
             "outlinewidth": 0,
             "ticks": ""
            },
            "type": "mesh3d"
           }
          ],
          "parcoords": [
           {
            "line": {
             "colorbar": {
              "outlinewidth": 0,
              "ticks": ""
             }
            },
            "type": "parcoords"
           }
          ],
          "pie": [
           {
            "automargin": true,
            "type": "pie"
           }
          ],
          "scatter": [
           {
            "marker": {
             "line": {
              "color": "#283442"
             }
            },
            "type": "scatter"
           }
          ],
          "scatter3d": [
           {
            "line": {
             "colorbar": {
              "outlinewidth": 0,
              "ticks": ""
             }
            },
            "marker": {
             "colorbar": {
              "outlinewidth": 0,
              "ticks": ""
             }
            },
            "type": "scatter3d"
           }
          ],
          "scattercarpet": [
           {
            "marker": {
             "colorbar": {
              "outlinewidth": 0,
              "ticks": ""
             }
            },
            "type": "scattercarpet"
           }
          ],
          "scattergeo": [
           {
            "marker": {
             "colorbar": {
              "outlinewidth": 0,
              "ticks": ""
             }
            },
            "type": "scattergeo"
           }
          ],
          "scattergl": [
           {
            "marker": {
             "line": {
              "color": "#283442"
             }
            },
            "type": "scattergl"
           }
          ],
          "scattermap": [
           {
            "marker": {
             "colorbar": {
              "outlinewidth": 0,
              "ticks": ""
             }
            },
            "type": "scattermap"
           }
          ],
          "scattermapbox": [
           {
            "marker": {
             "colorbar": {
              "outlinewidth": 0,
              "ticks": ""
             }
            },
            "type": "scattermapbox"
           }
          ],
          "scatterpolar": [
           {
            "marker": {
             "colorbar": {
              "outlinewidth": 0,
              "ticks": ""
             }
            },
            "type": "scatterpolar"
           }
          ],
          "scatterpolargl": [
           {
            "marker": {
             "colorbar": {
              "outlinewidth": 0,
              "ticks": ""
             }
            },
            "type": "scatterpolargl"
           }
          ],
          "scatterternary": [
           {
            "marker": {
             "colorbar": {
              "outlinewidth": 0,
              "ticks": ""
             }
            },
            "type": "scatterternary"
           }
          ],
          "surface": [
           {
            "colorbar": {
             "outlinewidth": 0,
             "ticks": ""
            },
            "colorscale": [
             [
              0,
              "#0d0887"
             ],
             [
              0.1111111111111111,
              "#46039f"
             ],
             [
              0.2222222222222222,
              "#7201a8"
             ],
             [
              0.3333333333333333,
              "#9c179e"
             ],
             [
              0.4444444444444444,
              "#bd3786"
             ],
             [
              0.5555555555555556,
              "#d8576b"
             ],
             [
              0.6666666666666666,
              "#ed7953"
             ],
             [
              0.7777777777777778,
              "#fb9f3a"
             ],
             [
              0.8888888888888888,
              "#fdca26"
             ],
             [
              1,
              "#f0f921"
             ]
            ],
            "type": "surface"
           }
          ],
          "table": [
           {
            "cells": {
             "fill": {
              "color": "#506784"
             },
             "line": {
              "color": "rgb(17,17,17)"
             }
            },
            "header": {
             "fill": {
              "color": "#2a3f5f"
             },
             "line": {
              "color": "rgb(17,17,17)"
             }
            },
            "type": "table"
           }
          ]
         },
         "layout": {
          "annotationdefaults": {
           "arrowcolor": "#f2f5fa",
           "arrowhead": 0,
           "arrowwidth": 1
          },
          "autotypenumbers": "strict",
          "coloraxis": {
           "colorbar": {
            "outlinewidth": 0,
            "ticks": ""
           }
          },
          "colorscale": {
           "diverging": [
            [
             0,
             "#8e0152"
            ],
            [
             0.1,
             "#c51b7d"
            ],
            [
             0.2,
             "#de77ae"
            ],
            [
             0.3,
             "#f1b6da"
            ],
            [
             0.4,
             "#fde0ef"
            ],
            [
             0.5,
             "#f7f7f7"
            ],
            [
             0.6,
             "#e6f5d0"
            ],
            [
             0.7,
             "#b8e186"
            ],
            [
             0.8,
             "#7fbc41"
            ],
            [
             0.9,
             "#4d9221"
            ],
            [
             1,
             "#276419"
            ]
           ],
           "sequential": [
            [
             0,
             "#0d0887"
            ],
            [
             0.1111111111111111,
             "#46039f"
            ],
            [
             0.2222222222222222,
             "#7201a8"
            ],
            [
             0.3333333333333333,
             "#9c179e"
            ],
            [
             0.4444444444444444,
             "#bd3786"
            ],
            [
             0.5555555555555556,
             "#d8576b"
            ],
            [
             0.6666666666666666,
             "#ed7953"
            ],
            [
             0.7777777777777778,
             "#fb9f3a"
            ],
            [
             0.8888888888888888,
             "#fdca26"
            ],
            [
             1,
             "#f0f921"
            ]
           ],
           "sequentialminus": [
            [
             0,
             "#0d0887"
            ],
            [
             0.1111111111111111,
             "#46039f"
            ],
            [
             0.2222222222222222,
             "#7201a8"
            ],
            [
             0.3333333333333333,
             "#9c179e"
            ],
            [
             0.4444444444444444,
             "#bd3786"
            ],
            [
             0.5555555555555556,
             "#d8576b"
            ],
            [
             0.6666666666666666,
             "#ed7953"
            ],
            [
             0.7777777777777778,
             "#fb9f3a"
            ],
            [
             0.8888888888888888,
             "#fdca26"
            ],
            [
             1,
             "#f0f921"
            ]
           ]
          },
          "colorway": [
           "#636efa",
           "#EF553B",
           "#00cc96",
           "#ab63fa",
           "#FFA15A",
           "#19d3f3",
           "#FF6692",
           "#B6E880",
           "#FF97FF",
           "#FECB52"
          ],
          "font": {
           "color": "#f2f5fa"
          },
          "geo": {
           "bgcolor": "rgb(17,17,17)",
           "lakecolor": "rgb(17,17,17)",
           "landcolor": "rgb(17,17,17)",
           "showlakes": true,
           "showland": true,
           "subunitcolor": "#506784"
          },
          "hoverlabel": {
           "align": "left"
          },
          "hovermode": "closest",
          "mapbox": {
           "style": "dark"
          },
          "paper_bgcolor": "rgb(17,17,17)",
          "plot_bgcolor": "rgb(17,17,17)",
          "polar": {
           "angularaxis": {
            "gridcolor": "#506784",
            "linecolor": "#506784",
            "ticks": ""
           },
           "bgcolor": "rgb(17,17,17)",
           "radialaxis": {
            "gridcolor": "#506784",
            "linecolor": "#506784",
            "ticks": ""
           }
          },
          "scene": {
           "xaxis": {
            "backgroundcolor": "rgb(17,17,17)",
            "gridcolor": "#506784",
            "gridwidth": 2,
            "linecolor": "#506784",
            "showbackground": true,
            "ticks": "",
            "zerolinecolor": "#C8D4E3"
           },
           "yaxis": {
            "backgroundcolor": "rgb(17,17,17)",
            "gridcolor": "#506784",
            "gridwidth": 2,
            "linecolor": "#506784",
            "showbackground": true,
            "ticks": "",
            "zerolinecolor": "#C8D4E3"
           },
           "zaxis": {
            "backgroundcolor": "rgb(17,17,17)",
            "gridcolor": "#506784",
            "gridwidth": 2,
            "linecolor": "#506784",
            "showbackground": true,
            "ticks": "",
            "zerolinecolor": "#C8D4E3"
           }
          },
          "shapedefaults": {
           "line": {
            "color": "#f2f5fa"
           }
          },
          "sliderdefaults": {
           "bgcolor": "#C8D4E3",
           "bordercolor": "rgb(17,17,17)",
           "borderwidth": 1,
           "tickwidth": 0
          },
          "ternary": {
           "aaxis": {
            "gridcolor": "#506784",
            "linecolor": "#506784",
            "ticks": ""
           },
           "baxis": {
            "gridcolor": "#506784",
            "linecolor": "#506784",
            "ticks": ""
           },
           "bgcolor": "rgb(17,17,17)",
           "caxis": {
            "gridcolor": "#506784",
            "linecolor": "#506784",
            "ticks": ""
           }
          },
          "title": {
           "x": 0.05
          },
          "updatemenudefaults": {
           "bgcolor": "#506784",
           "borderwidth": 0
          },
          "xaxis": {
           "automargin": true,
           "gridcolor": "#283442",
           "linecolor": "#506784",
           "ticks": "",
           "title": {
            "standoff": 15
           },
           "zerolinecolor": "#283442",
           "zerolinewidth": 2
          },
          "yaxis": {
           "automargin": true,
           "gridcolor": "#283442",
           "linecolor": "#506784",
           "ticks": "",
           "title": {
            "standoff": 15
           },
           "zerolinecolor": "#283442",
           "zerolinewidth": 2
          }
         }
        },
        "title": {
         "text": "🔎 Correlation to TOP_20 — Season 2024"
        },
        "width": 1000,
        "xaxis": {
         "anchor": "y",
         "domain": [
          0,
          1
         ],
         "tickangle": -45,
         "title": {
          "text": "Feature"
         }
        },
        "yaxis": {
         "anchor": "x",
         "domain": [
          0,
          1
         ],
         "title": {
          "text": "Absolute Correlation to TOP_20"
         }
        }
       }
      }
     },
     "metadata": {},
     "output_type": "display_data"
    }
   ],
   "source": [
    "import plotly.express as px\n",
    "\n",
    "# Get the 4 most recent seasons (or fewer if not available)\n",
    "available_seasons = sorted(training_df[\"SEASON\"].unique())[-4:]\n",
    "\n",
    "# Dictionary to store correlation results\n",
    "correlation_frames = {}\n",
    "\n",
    "# Calculate correlations for each season\n",
    "for season in available_seasons:\n",
    "    df = training_df[training_df[\"SEASON\"] == season].copy()\n",
    "\n",
    "    # Numeric features only, drop final result\n",
    "    numeric = df.select_dtypes(include=[\"float64\", \"int64\"]).drop(columns=[\"FINAL_POS\", \"SEASON\"], errors=\"ignore\")\n",
    "\n",
    "    # Skip if TOP_20 is not present\n",
    "    if \"TOP_20\" not in numeric.columns:\n",
    "        continue\n",
    "\n",
    "    # Correlation with TOP_20\n",
    "    cor = numeric.corr().abs()[\"TOP_20\"].drop(\"TOP_20\", errors=\"ignore\").sort_values(ascending=False)\n",
    "    cor_df = cor.reset_index()\n",
    "    cor_df.columns = [\"Feature\", \"Correlation\"]\n",
    "    correlation_frames[season] = cor_df\n",
    "\n",
    "# Plot one bar chart per season\n",
    "for season, cor_df in correlation_frames.items():\n",
    "    fig = px.bar(\n",
    "        cor_df,\n",
    "        x=\"Feature\",\n",
    "        y=\"Correlation\",\n",
    "        title=f\"🔎 Correlation to TOP_20 — Season {int(season)}\",\n",
    "        height=500,\n",
    "        width=1000\n",
    "    )\n",
    "\n",
    "    fig.update_layout(\n",
    "        xaxis_title=\"Feature\",\n",
    "        yaxis_title=\"Absolute Correlation to TOP_20\",\n",
    "        template=\"plotly_dark\",\n",
    "        xaxis_tickangle=-45\n",
    "    )\n",
    "\n",
    "    fig.show()\n"
   ]
  },
  {
   "cell_type": "markdown",
   "id": "07c346c9",
   "metadata": {},
   "source": [
    "**Average of Last 4 Years**"
   ]
  },
  {
   "cell_type": "code",
   "execution_count": 26,
   "id": "aee0c2ea",
   "metadata": {},
   "outputs": [
    {
     "data": {
      "application/vnd.plotly.v1+json": {
       "config": {
        "plotlyServerURL": "https://plot.ly"
       },
       "data": [
        {
         "hovertemplate": "Feature=%{x}<br>Avg Correlation=%{y}<extra></extra>",
         "legendgroup": "",
         "marker": {
          "color": "#636efa",
          "pattern": {
           "shape": ""
          }
         },
         "name": "",
         "orientation": "v",
         "showlegend": false,
         "textposition": "auto",
         "type": "bar",
         "x": [
          "OWGR",
          "FEDEX_CUP_POINTS",
          "form_density",
          "SGTTG",
          "SGTTG_RANK",
          "RECENT_FORM",
          "SGOTT",
          "OWGR_RANK",
          "SGOTT_RANK",
          "PAR_4",
          "VEGAS_ODDS",
          "PAR_4_RANK",
          "TOTAL_DRIVING_RANK",
          "TOTAL_DRIVING",
          "PAR_5",
          "PAR_5_RANK",
          "SGAPR",
          "BIRDIES",
          "SGAPR_RANK",
          "SCRAMBLING",
          "BIRDIES_RANK",
          "DRIVING_DISTANCE",
          "SCRAMBLING_RANK",
          "SGP_RANK",
          "SGP",
          "adj_form",
          "PAR_3",
          "DRIVING_DISTANCE_RANK",
          "CONSECUTIVE_CUTS",
          "COURSE_HISTORY",
          "PAR_3_RANK",
          "adj_ch",
          "GIR_RANK",
          "SGATG_RANK",
          "GIR",
          "SGATG",
          "CUT_PERCENTAGE",
          "DRIVING_ACCURACY",
          "DRIVING_ACCURACY_RANK"
         ],
         "xaxis": "x",
         "y": {
          "bdata": "LGXVJ+Mi2z8D12B+K9nVP3SbQjeD89Q/gK2uNQ5f0j8cwRGxlBjSP4F+wUFP79E/Tdf5bGwG0T9t+z7P7oDQPyWc8vBZT9A/Hw018T7Fzj+Z7MC8wFzOP4hWhvAGLM4/yWVd68UKzD99Q+P1YoPLP7mUAaBiaMk/Pfh7CWY7yT+lIPWc0qXIP/g2YIA0Gcc/FU8DM9n7xj/kmMRMbhzGPxgLfERcmMU/d+eOgZiwxD+J0I6K4SDEP5lq2xiyyMM/S6u69l+Jwz+6lsJf0qfCP3mfr8IcwsE/yPqzf/CywT+Ogi9p+xTBP6y/dQiW9r4/IDAJupPzvj+R2WkoveO9P9ADV5M3abw/e88eIOYPuD/l+rkV1d22P9THZOrAXbU/4OREkRpVtD88QyEx4VmzP+sQMShAorI/",
          "dtype": "f8"
         },
         "yaxis": "y"
        }
       ],
       "layout": {
        "barmode": "relative",
        "height": 600,
        "legend": {
         "tracegroupgap": 0
        },
        "showlegend": false,
        "template": {
         "data": {
          "bar": [
           {
            "error_x": {
             "color": "#f2f5fa"
            },
            "error_y": {
             "color": "#f2f5fa"
            },
            "marker": {
             "line": {
              "color": "rgb(17,17,17)",
              "width": 0.5
             },
             "pattern": {
              "fillmode": "overlay",
              "size": 10,
              "solidity": 0.2
             }
            },
            "type": "bar"
           }
          ],
          "barpolar": [
           {
            "marker": {
             "line": {
              "color": "rgb(17,17,17)",
              "width": 0.5
             },
             "pattern": {
              "fillmode": "overlay",
              "size": 10,
              "solidity": 0.2
             }
            },
            "type": "barpolar"
           }
          ],
          "carpet": [
           {
            "aaxis": {
             "endlinecolor": "#A2B1C6",
             "gridcolor": "#506784",
             "linecolor": "#506784",
             "minorgridcolor": "#506784",
             "startlinecolor": "#A2B1C6"
            },
            "baxis": {
             "endlinecolor": "#A2B1C6",
             "gridcolor": "#506784",
             "linecolor": "#506784",
             "minorgridcolor": "#506784",
             "startlinecolor": "#A2B1C6"
            },
            "type": "carpet"
           }
          ],
          "choropleth": [
           {
            "colorbar": {
             "outlinewidth": 0,
             "ticks": ""
            },
            "type": "choropleth"
           }
          ],
          "contour": [
           {
            "colorbar": {
             "outlinewidth": 0,
             "ticks": ""
            },
            "colorscale": [
             [
              0,
              "#0d0887"
             ],
             [
              0.1111111111111111,
              "#46039f"
             ],
             [
              0.2222222222222222,
              "#7201a8"
             ],
             [
              0.3333333333333333,
              "#9c179e"
             ],
             [
              0.4444444444444444,
              "#bd3786"
             ],
             [
              0.5555555555555556,
              "#d8576b"
             ],
             [
              0.6666666666666666,
              "#ed7953"
             ],
             [
              0.7777777777777778,
              "#fb9f3a"
             ],
             [
              0.8888888888888888,
              "#fdca26"
             ],
             [
              1,
              "#f0f921"
             ]
            ],
            "type": "contour"
           }
          ],
          "contourcarpet": [
           {
            "colorbar": {
             "outlinewidth": 0,
             "ticks": ""
            },
            "type": "contourcarpet"
           }
          ],
          "heatmap": [
           {
            "colorbar": {
             "outlinewidth": 0,
             "ticks": ""
            },
            "colorscale": [
             [
              0,
              "#0d0887"
             ],
             [
              0.1111111111111111,
              "#46039f"
             ],
             [
              0.2222222222222222,
              "#7201a8"
             ],
             [
              0.3333333333333333,
              "#9c179e"
             ],
             [
              0.4444444444444444,
              "#bd3786"
             ],
             [
              0.5555555555555556,
              "#d8576b"
             ],
             [
              0.6666666666666666,
              "#ed7953"
             ],
             [
              0.7777777777777778,
              "#fb9f3a"
             ],
             [
              0.8888888888888888,
              "#fdca26"
             ],
             [
              1,
              "#f0f921"
             ]
            ],
            "type": "heatmap"
           }
          ],
          "histogram": [
           {
            "marker": {
             "pattern": {
              "fillmode": "overlay",
              "size": 10,
              "solidity": 0.2
             }
            },
            "type": "histogram"
           }
          ],
          "histogram2d": [
           {
            "colorbar": {
             "outlinewidth": 0,
             "ticks": ""
            },
            "colorscale": [
             [
              0,
              "#0d0887"
             ],
             [
              0.1111111111111111,
              "#46039f"
             ],
             [
              0.2222222222222222,
              "#7201a8"
             ],
             [
              0.3333333333333333,
              "#9c179e"
             ],
             [
              0.4444444444444444,
              "#bd3786"
             ],
             [
              0.5555555555555556,
              "#d8576b"
             ],
             [
              0.6666666666666666,
              "#ed7953"
             ],
             [
              0.7777777777777778,
              "#fb9f3a"
             ],
             [
              0.8888888888888888,
              "#fdca26"
             ],
             [
              1,
              "#f0f921"
             ]
            ],
            "type": "histogram2d"
           }
          ],
          "histogram2dcontour": [
           {
            "colorbar": {
             "outlinewidth": 0,
             "ticks": ""
            },
            "colorscale": [
             [
              0,
              "#0d0887"
             ],
             [
              0.1111111111111111,
              "#46039f"
             ],
             [
              0.2222222222222222,
              "#7201a8"
             ],
             [
              0.3333333333333333,
              "#9c179e"
             ],
             [
              0.4444444444444444,
              "#bd3786"
             ],
             [
              0.5555555555555556,
              "#d8576b"
             ],
             [
              0.6666666666666666,
              "#ed7953"
             ],
             [
              0.7777777777777778,
              "#fb9f3a"
             ],
             [
              0.8888888888888888,
              "#fdca26"
             ],
             [
              1,
              "#f0f921"
             ]
            ],
            "type": "histogram2dcontour"
           }
          ],
          "mesh3d": [
           {
            "colorbar": {
             "outlinewidth": 0,
             "ticks": ""
            },
            "type": "mesh3d"
           }
          ],
          "parcoords": [
           {
            "line": {
             "colorbar": {
              "outlinewidth": 0,
              "ticks": ""
             }
            },
            "type": "parcoords"
           }
          ],
          "pie": [
           {
            "automargin": true,
            "type": "pie"
           }
          ],
          "scatter": [
           {
            "marker": {
             "line": {
              "color": "#283442"
             }
            },
            "type": "scatter"
           }
          ],
          "scatter3d": [
           {
            "line": {
             "colorbar": {
              "outlinewidth": 0,
              "ticks": ""
             }
            },
            "marker": {
             "colorbar": {
              "outlinewidth": 0,
              "ticks": ""
             }
            },
            "type": "scatter3d"
           }
          ],
          "scattercarpet": [
           {
            "marker": {
             "colorbar": {
              "outlinewidth": 0,
              "ticks": ""
             }
            },
            "type": "scattercarpet"
           }
          ],
          "scattergeo": [
           {
            "marker": {
             "colorbar": {
              "outlinewidth": 0,
              "ticks": ""
             }
            },
            "type": "scattergeo"
           }
          ],
          "scattergl": [
           {
            "marker": {
             "line": {
              "color": "#283442"
             }
            },
            "type": "scattergl"
           }
          ],
          "scattermap": [
           {
            "marker": {
             "colorbar": {
              "outlinewidth": 0,
              "ticks": ""
             }
            },
            "type": "scattermap"
           }
          ],
          "scattermapbox": [
           {
            "marker": {
             "colorbar": {
              "outlinewidth": 0,
              "ticks": ""
             }
            },
            "type": "scattermapbox"
           }
          ],
          "scatterpolar": [
           {
            "marker": {
             "colorbar": {
              "outlinewidth": 0,
              "ticks": ""
             }
            },
            "type": "scatterpolar"
           }
          ],
          "scatterpolargl": [
           {
            "marker": {
             "colorbar": {
              "outlinewidth": 0,
              "ticks": ""
             }
            },
            "type": "scatterpolargl"
           }
          ],
          "scatterternary": [
           {
            "marker": {
             "colorbar": {
              "outlinewidth": 0,
              "ticks": ""
             }
            },
            "type": "scatterternary"
           }
          ],
          "surface": [
           {
            "colorbar": {
             "outlinewidth": 0,
             "ticks": ""
            },
            "colorscale": [
             [
              0,
              "#0d0887"
             ],
             [
              0.1111111111111111,
              "#46039f"
             ],
             [
              0.2222222222222222,
              "#7201a8"
             ],
             [
              0.3333333333333333,
              "#9c179e"
             ],
             [
              0.4444444444444444,
              "#bd3786"
             ],
             [
              0.5555555555555556,
              "#d8576b"
             ],
             [
              0.6666666666666666,
              "#ed7953"
             ],
             [
              0.7777777777777778,
              "#fb9f3a"
             ],
             [
              0.8888888888888888,
              "#fdca26"
             ],
             [
              1,
              "#f0f921"
             ]
            ],
            "type": "surface"
           }
          ],
          "table": [
           {
            "cells": {
             "fill": {
              "color": "#506784"
             },
             "line": {
              "color": "rgb(17,17,17)"
             }
            },
            "header": {
             "fill": {
              "color": "#2a3f5f"
             },
             "line": {
              "color": "rgb(17,17,17)"
             }
            },
            "type": "table"
           }
          ]
         },
         "layout": {
          "annotationdefaults": {
           "arrowcolor": "#f2f5fa",
           "arrowhead": 0,
           "arrowwidth": 1
          },
          "autotypenumbers": "strict",
          "coloraxis": {
           "colorbar": {
            "outlinewidth": 0,
            "ticks": ""
           }
          },
          "colorscale": {
           "diverging": [
            [
             0,
             "#8e0152"
            ],
            [
             0.1,
             "#c51b7d"
            ],
            [
             0.2,
             "#de77ae"
            ],
            [
             0.3,
             "#f1b6da"
            ],
            [
             0.4,
             "#fde0ef"
            ],
            [
             0.5,
             "#f7f7f7"
            ],
            [
             0.6,
             "#e6f5d0"
            ],
            [
             0.7,
             "#b8e186"
            ],
            [
             0.8,
             "#7fbc41"
            ],
            [
             0.9,
             "#4d9221"
            ],
            [
             1,
             "#276419"
            ]
           ],
           "sequential": [
            [
             0,
             "#0d0887"
            ],
            [
             0.1111111111111111,
             "#46039f"
            ],
            [
             0.2222222222222222,
             "#7201a8"
            ],
            [
             0.3333333333333333,
             "#9c179e"
            ],
            [
             0.4444444444444444,
             "#bd3786"
            ],
            [
             0.5555555555555556,
             "#d8576b"
            ],
            [
             0.6666666666666666,
             "#ed7953"
            ],
            [
             0.7777777777777778,
             "#fb9f3a"
            ],
            [
             0.8888888888888888,
             "#fdca26"
            ],
            [
             1,
             "#f0f921"
            ]
           ],
           "sequentialminus": [
            [
             0,
             "#0d0887"
            ],
            [
             0.1111111111111111,
             "#46039f"
            ],
            [
             0.2222222222222222,
             "#7201a8"
            ],
            [
             0.3333333333333333,
             "#9c179e"
            ],
            [
             0.4444444444444444,
             "#bd3786"
            ],
            [
             0.5555555555555556,
             "#d8576b"
            ],
            [
             0.6666666666666666,
             "#ed7953"
            ],
            [
             0.7777777777777778,
             "#fb9f3a"
            ],
            [
             0.8888888888888888,
             "#fdca26"
            ],
            [
             1,
             "#f0f921"
            ]
           ]
          },
          "colorway": [
           "#636efa",
           "#EF553B",
           "#00cc96",
           "#ab63fa",
           "#FFA15A",
           "#19d3f3",
           "#FF6692",
           "#B6E880",
           "#FF97FF",
           "#FECB52"
          ],
          "font": {
           "color": "#f2f5fa"
          },
          "geo": {
           "bgcolor": "rgb(17,17,17)",
           "lakecolor": "rgb(17,17,17)",
           "landcolor": "rgb(17,17,17)",
           "showlakes": true,
           "showland": true,
           "subunitcolor": "#506784"
          },
          "hoverlabel": {
           "align": "left"
          },
          "hovermode": "closest",
          "mapbox": {
           "style": "dark"
          },
          "paper_bgcolor": "rgb(17,17,17)",
          "plot_bgcolor": "rgb(17,17,17)",
          "polar": {
           "angularaxis": {
            "gridcolor": "#506784",
            "linecolor": "#506784",
            "ticks": ""
           },
           "bgcolor": "rgb(17,17,17)",
           "radialaxis": {
            "gridcolor": "#506784",
            "linecolor": "#506784",
            "ticks": ""
           }
          },
          "scene": {
           "xaxis": {
            "backgroundcolor": "rgb(17,17,17)",
            "gridcolor": "#506784",
            "gridwidth": 2,
            "linecolor": "#506784",
            "showbackground": true,
            "ticks": "",
            "zerolinecolor": "#C8D4E3"
           },
           "yaxis": {
            "backgroundcolor": "rgb(17,17,17)",
            "gridcolor": "#506784",
            "gridwidth": 2,
            "linecolor": "#506784",
            "showbackground": true,
            "ticks": "",
            "zerolinecolor": "#C8D4E3"
           },
           "zaxis": {
            "backgroundcolor": "rgb(17,17,17)",
            "gridcolor": "#506784",
            "gridwidth": 2,
            "linecolor": "#506784",
            "showbackground": true,
            "ticks": "",
            "zerolinecolor": "#C8D4E3"
           }
          },
          "shapedefaults": {
           "line": {
            "color": "#f2f5fa"
           }
          },
          "sliderdefaults": {
           "bgcolor": "#C8D4E3",
           "bordercolor": "rgb(17,17,17)",
           "borderwidth": 1,
           "tickwidth": 0
          },
          "ternary": {
           "aaxis": {
            "gridcolor": "#506784",
            "linecolor": "#506784",
            "ticks": ""
           },
           "baxis": {
            "gridcolor": "#506784",
            "linecolor": "#506784",
            "ticks": ""
           },
           "bgcolor": "rgb(17,17,17)",
           "caxis": {
            "gridcolor": "#506784",
            "linecolor": "#506784",
            "ticks": ""
           }
          },
          "title": {
           "x": 0.05
          },
          "updatemenudefaults": {
           "bgcolor": "#506784",
           "borderwidth": 0
          },
          "xaxis": {
           "automargin": true,
           "gridcolor": "#283442",
           "linecolor": "#506784",
           "ticks": "",
           "title": {
            "standoff": 15
           },
           "zerolinecolor": "#283442",
           "zerolinewidth": 2
          },
          "yaxis": {
           "automargin": true,
           "gridcolor": "#283442",
           "linecolor": "#506784",
           "ticks": "",
           "title": {
            "standoff": 15
           },
           "zerolinecolor": "#283442",
           "zerolinewidth": 2
          }
         }
        },
        "title": {
         "text": "Average Correlation to TOP_20 (Last 4 Seasons)"
        },
        "width": 1000,
        "xaxis": {
         "anchor": "y",
         "domain": [
          0,
          1
         ],
         "tickangle": -45,
         "title": {
          "text": "Feature"
         }
        },
        "yaxis": {
         "anchor": "x",
         "domain": [
          0,
          1
         ],
         "title": {
          "text": "Avg Correlation"
         }
        }
       }
      }
     },
     "metadata": {},
     "output_type": "display_data"
    }
   ],
   "source": [
    "import pandas as pd\n",
    "import numpy as np\n",
    "import plotly.express as px\n",
    "\n",
    "# === Rebuild correlation matrices for the 4 most recent seasons ===\n",
    "cor = {}\n",
    "recent_seasons = sorted(training_df[\"SEASON\"].unique())[-4:]\n",
    "\n",
    "for season in recent_seasons:\n",
    "    df_season = training_df[training_df[\"SEASON\"] == season].copy()\n",
    "    numeric_cols = df_season.select_dtypes(include=[\"float64\", \"int64\"])\n",
    "    cor[int(season)] = numeric_cols.corr().abs()\n",
    "\n",
    "# === Combine into one summary DataFrame ===\n",
    "cor_df = pd.DataFrame()\n",
    "\n",
    "for season in recent_seasons:\n",
    "    df = cor[season].reset_index()\n",
    "    if \"TOP_20\" not in df.columns:\n",
    "        continue\n",
    "    temp = df[[\"index\", \"TOP_20\"]].copy()\n",
    "    temp = temp.rename(columns={\"TOP_20\": str(season)})\n",
    "    if cor_df.empty:\n",
    "        cor_df = temp\n",
    "    else:\n",
    "        cor_df = cor_df.merge(temp, on=\"index\", how=\"outer\")\n",
    "\n",
    "# Drop target and metadata rows\n",
    "cor_df = cor_df[~cor_df[\"index\"].isin([\"TOP_20\", \"FINAL_POS\", \"SEASON\"])]\n",
    "\n",
    "# Compute average correlation across seasons\n",
    "cor_df[\"AVERAGE\"] = cor_df.drop(columns=[\"index\"]).mean(axis=1)\n",
    "cor_df = cor_df.sort_values(by=\"AVERAGE\", ascending=False)\n",
    "\n",
    "# === Plotly Bar Chart ===\n",
    "fig = px.bar(\n",
    "    cor_df,\n",
    "    x=\"index\",\n",
    "    y=\"AVERAGE\",\n",
    "    title=\"Average Correlation to TOP_20 (Last 4 Seasons)\",\n",
    "    labels={\"index\": \"Feature\", \"AVERAGE\": \"Avg Correlation\"},\n",
    "    template=\"plotly_dark\"\n",
    ")\n",
    "\n",
    "fig.update_layout(\n",
    "    xaxis_tickangle=-45,\n",
    "    height=600,\n",
    "    width=1000,\n",
    "    showlegend=False\n",
    ")\n",
    "\n",
    "fig.show()\n"
   ]
  },
  {
   "cell_type": "markdown",
   "id": "b551789e",
   "metadata": {},
   "source": [
    "# ML Model"
   ]
  },
  {
   "cell_type": "markdown",
   "id": "d7df2d9b",
   "metadata": {},
   "source": [
    "## Predictors"
   ]
  },
  {
   "cell_type": "code",
   "execution_count": 27,
   "id": "7de6b0ed",
   "metadata": {},
   "outputs": [
    {
     "name": "stdout",
     "output_type": "stream",
     "text": [
      "Selected 39 features:\n",
      " ['SGTTG_RANK', 'SGTTG', 'SGOTT_RANK', 'SGOTT', 'SGAPR_RANK', 'SGAPR', 'SGATG_RANK', 'SGATG', 'SGP_RANK', 'SGP', 'BIRDIES_RANK', 'BIRDIES', 'PAR_3_RANK', 'PAR_3', 'PAR_4_RANK', 'PAR_4', 'PAR_5_RANK', 'PAR_5', 'TOTAL_DRIVING_RANK', 'TOTAL_DRIVING', 'DRIVING_DISTANCE_RANK', 'DRIVING_DISTANCE', 'DRIVING_ACCURACY_RANK', 'DRIVING_ACCURACY', 'GIR_RANK', 'GIR', 'SCRAMBLING_RANK', 'SCRAMBLING', 'OWGR_RANK', 'OWGR', 'VEGAS_ODDS', 'CUT_PERCENTAGE', 'FEDEX_CUP_POINTS', 'form_density', 'CONSECUTIVE_CUTS', 'RECENT_FORM', 'adj_form', 'COURSE_HISTORY', 'adj_ch']\n"
     ]
    }
   ],
   "source": [
    "# === Define Features and Target ===\n",
    "target_col = \"TOP_20\"\n",
    "\n",
    "# Columns to exclude from features\n",
    "exclude = [\n",
    "    \"PLAYER\", \"TOURNAMENT\", \"COURSE\", \"ENDING_DATE\", \"SEASON\", \"TOURN_ID\",\n",
    "    \"TOP_20\", \"FINAL_POS\"  \n",
    "]\n",
    "\n",
    "# Select numeric feature columns\n",
    "feature_cols = [\n",
    "    col for col in training_df.columns\n",
    "    if col not in exclude and training_df[col].dtype in [np.float64, np.int64]\n",
    "]\n",
    "\n",
    "print(f\"Selected {len(feature_cols)} features:\\n\", feature_cols)"
   ]
  },
  {
   "cell_type": "markdown",
   "id": "8cb568b3",
   "metadata": {},
   "source": [
    "### Random Forest\n",
    "Initial default model before hyperparameter tuning.\n",
    "\n",
    "This one actually performed really well (ROC AUC above 0.85).  Strangely doing hyperparameter tuning hurt the model (less than 0.7), so I removed that step and we will just use this default model.  This does cross-validation testing on 5 folds to ensure robust train/test splits."
   ]
  },
  {
   "cell_type": "code",
   "execution_count": 28,
   "id": "4879d3d9",
   "metadata": {},
   "outputs": [
    {
     "name": "stdout",
     "output_type": "stream",
     "text": [
      "📊 Random Forest (All Features)\n",
      "Cross-validation scores: [0.94326923 0.93822115 0.83570076 0.88330078 0.87792969]\n",
      "Average ROC AUC score: 0.90\n"
     ]
    }
   ],
   "source": [
    "from sklearn.ensemble import RandomForestClassifier\n",
    "from sklearn.model_selection import cross_val_score, StratifiedKFold\n",
    "from sklearn.preprocessing import StandardScaler\n",
    "from imblearn.over_sampling import SMOTE\n",
    "from imblearn.under_sampling import RandomUnderSampler\n",
    "from imblearn.pipeline import Pipeline\n",
    "\n",
    "# === Standardize features ===\n",
    "scaler = StandardScaler()\n",
    "X_rf_std = scaler.fit_transform(training_df[feature_cols])\n",
    "y_rf = training_df[\"TOP_20\"]\n",
    "\n",
    "# === Balance the dataset with SMOTE and undersampling ===\n",
    "over = SMOTE(sampling_strategy=0.5, k_neighbors=3)\n",
    "under = RandomUnderSampler(sampling_strategy=0.5)\n",
    "pipeline = Pipeline([(\"o\", over), (\"u\", under)])\n",
    "X_rf_bal, y_rf_bal = pipeline.fit_resample(X_rf_std, y_rf)\n",
    "\n",
    "# === Define and evaluate Random Forest ===\n",
    "rf = RandomForestClassifier(n_estimators=100, random_state=42)\n",
    "cv = StratifiedKFold(n_splits=5, shuffle=True, random_state=42)\n",
    "scores = cross_val_score(rf, X_rf_bal, y_rf_bal, cv=cv, scoring=\"roc_auc\")\n",
    "\n",
    "print(\"📊 Random Forest (All Features)\")\n",
    "print(\"Cross-validation scores:\", scores)\n",
    "print(\"Average ROC AUC score: {:.2f}\".format(scores.mean()))\n"
   ]
  },
  {
   "cell_type": "markdown",
   "id": "4fe9c753",
   "metadata": {},
   "source": [
    "Random Forest Training & Feature Importance\n",
    "\n",
    "Now we train on all the data (no longer cross-validation folds) and extract the feature importance to see how it compares with linear correlations.\n"
   ]
  },
  {
   "cell_type": "code",
   "execution_count": 29,
   "id": "74c2a8b7",
   "metadata": {},
   "outputs": [
    {
     "data": {
      "application/vnd.plotly.v1+json": {
       "config": {
        "plotlyServerURL": "https://plot.ly"
       },
       "data": [
        {
         "hovertemplate": "Feature=%{x}<br>Importance=%{y}<extra></extra>",
         "legendgroup": "",
         "marker": {
          "color": "#636efa",
          "pattern": {
           "shape": ""
          }
         },
         "name": "",
         "orientation": "v",
         "showlegend": false,
         "textposition": "auto",
         "type": "bar",
         "x": [
          "OWGR_RANK",
          "OWGR",
          "VEGAS_ODDS",
          "SGTTG_RANK",
          "SGOTT",
          "SGOTT_RANK",
          "PAR_5_RANK",
          "FEDEX_CUP_POINTS",
          "CUT_PERCENTAGE",
          "SGTTG",
          "adj_form",
          "RECENT_FORM",
          "SGP",
          "TOTAL_DRIVING_RANK",
          "form_density",
          "CONSECUTIVE_CUTS",
          "TOTAL_DRIVING",
          "PAR_4_RANK",
          "SGP_RANK",
          "BIRDIES",
          "PAR_3_RANK",
          "BIRDIES_RANK",
          "PAR_5",
          "PAR_4",
          "COURSE_HISTORY",
          "SCRAMBLING_RANK",
          "PAR_3",
          "adj_ch",
          "GIR",
          "GIR_RANK",
          "SCRAMBLING",
          "SGAPR_RANK",
          "SGATG",
          "DRIVING_DISTANCE",
          "SGAPR",
          "DRIVING_DISTANCE_RANK",
          "SGATG_RANK",
          "DRIVING_ACCURACY_RANK",
          "DRIVING_ACCURACY"
         ],
         "xaxis": "x",
         "y": {
          "bdata": "Cs8O2Qkstz/QBaIpN7S2PxCmG70LFao/QkhrMrILpj8stQTYB/2lPyLDfQZ4p6U/5Z5Z9r5eoT99SdTeh+mfP6g5iUCeoZ8/kzS/A97mnD/IoibkyGObP4tKo88kQpo/U2j19aXfmT+uhHyBoxOZP/rQNbRf3ZU/CcsPacF4lT/j1GigbkOVP6J6yNz0QJU/gFgHOkI4lT9DrcNa+POUPydIh5SDSJQ/twbMthgllD+VYp0nnbGTP9K7/9tbNJE/wJHcOMG1kD8Qb+ahxrGQP2f9IjsMcZA/A0NpQwVNkD/kBGcSjz2QP/QxF0LCFJA/wtvwCdJFjz8tszj//cyNPx15A8qiCow/4p1D7gFxiz+tfM9PyuKKP7BBBNjrS4o/loJgrt6liT9dZenEmCOIP4YlrodtLIc/",
          "dtype": "f8"
         },
         "yaxis": "y"
        }
       ],
       "layout": {
        "barmode": "relative",
        "legend": {
         "tracegroupgap": 0
        },
        "template": {
         "data": {
          "bar": [
           {
            "error_x": {
             "color": "#f2f5fa"
            },
            "error_y": {
             "color": "#f2f5fa"
            },
            "marker": {
             "line": {
              "color": "rgb(17,17,17)",
              "width": 0.5
             },
             "pattern": {
              "fillmode": "overlay",
              "size": 10,
              "solidity": 0.2
             }
            },
            "type": "bar"
           }
          ],
          "barpolar": [
           {
            "marker": {
             "line": {
              "color": "rgb(17,17,17)",
              "width": 0.5
             },
             "pattern": {
              "fillmode": "overlay",
              "size": 10,
              "solidity": 0.2
             }
            },
            "type": "barpolar"
           }
          ],
          "carpet": [
           {
            "aaxis": {
             "endlinecolor": "#A2B1C6",
             "gridcolor": "#506784",
             "linecolor": "#506784",
             "minorgridcolor": "#506784",
             "startlinecolor": "#A2B1C6"
            },
            "baxis": {
             "endlinecolor": "#A2B1C6",
             "gridcolor": "#506784",
             "linecolor": "#506784",
             "minorgridcolor": "#506784",
             "startlinecolor": "#A2B1C6"
            },
            "type": "carpet"
           }
          ],
          "choropleth": [
           {
            "colorbar": {
             "outlinewidth": 0,
             "ticks": ""
            },
            "type": "choropleth"
           }
          ],
          "contour": [
           {
            "colorbar": {
             "outlinewidth": 0,
             "ticks": ""
            },
            "colorscale": [
             [
              0,
              "#0d0887"
             ],
             [
              0.1111111111111111,
              "#46039f"
             ],
             [
              0.2222222222222222,
              "#7201a8"
             ],
             [
              0.3333333333333333,
              "#9c179e"
             ],
             [
              0.4444444444444444,
              "#bd3786"
             ],
             [
              0.5555555555555556,
              "#d8576b"
             ],
             [
              0.6666666666666666,
              "#ed7953"
             ],
             [
              0.7777777777777778,
              "#fb9f3a"
             ],
             [
              0.8888888888888888,
              "#fdca26"
             ],
             [
              1,
              "#f0f921"
             ]
            ],
            "type": "contour"
           }
          ],
          "contourcarpet": [
           {
            "colorbar": {
             "outlinewidth": 0,
             "ticks": ""
            },
            "type": "contourcarpet"
           }
          ],
          "heatmap": [
           {
            "colorbar": {
             "outlinewidth": 0,
             "ticks": ""
            },
            "colorscale": [
             [
              0,
              "#0d0887"
             ],
             [
              0.1111111111111111,
              "#46039f"
             ],
             [
              0.2222222222222222,
              "#7201a8"
             ],
             [
              0.3333333333333333,
              "#9c179e"
             ],
             [
              0.4444444444444444,
              "#bd3786"
             ],
             [
              0.5555555555555556,
              "#d8576b"
             ],
             [
              0.6666666666666666,
              "#ed7953"
             ],
             [
              0.7777777777777778,
              "#fb9f3a"
             ],
             [
              0.8888888888888888,
              "#fdca26"
             ],
             [
              1,
              "#f0f921"
             ]
            ],
            "type": "heatmap"
           }
          ],
          "histogram": [
           {
            "marker": {
             "pattern": {
              "fillmode": "overlay",
              "size": 10,
              "solidity": 0.2
             }
            },
            "type": "histogram"
           }
          ],
          "histogram2d": [
           {
            "colorbar": {
             "outlinewidth": 0,
             "ticks": ""
            },
            "colorscale": [
             [
              0,
              "#0d0887"
             ],
             [
              0.1111111111111111,
              "#46039f"
             ],
             [
              0.2222222222222222,
              "#7201a8"
             ],
             [
              0.3333333333333333,
              "#9c179e"
             ],
             [
              0.4444444444444444,
              "#bd3786"
             ],
             [
              0.5555555555555556,
              "#d8576b"
             ],
             [
              0.6666666666666666,
              "#ed7953"
             ],
             [
              0.7777777777777778,
              "#fb9f3a"
             ],
             [
              0.8888888888888888,
              "#fdca26"
             ],
             [
              1,
              "#f0f921"
             ]
            ],
            "type": "histogram2d"
           }
          ],
          "histogram2dcontour": [
           {
            "colorbar": {
             "outlinewidth": 0,
             "ticks": ""
            },
            "colorscale": [
             [
              0,
              "#0d0887"
             ],
             [
              0.1111111111111111,
              "#46039f"
             ],
             [
              0.2222222222222222,
              "#7201a8"
             ],
             [
              0.3333333333333333,
              "#9c179e"
             ],
             [
              0.4444444444444444,
              "#bd3786"
             ],
             [
              0.5555555555555556,
              "#d8576b"
             ],
             [
              0.6666666666666666,
              "#ed7953"
             ],
             [
              0.7777777777777778,
              "#fb9f3a"
             ],
             [
              0.8888888888888888,
              "#fdca26"
             ],
             [
              1,
              "#f0f921"
             ]
            ],
            "type": "histogram2dcontour"
           }
          ],
          "mesh3d": [
           {
            "colorbar": {
             "outlinewidth": 0,
             "ticks": ""
            },
            "type": "mesh3d"
           }
          ],
          "parcoords": [
           {
            "line": {
             "colorbar": {
              "outlinewidth": 0,
              "ticks": ""
             }
            },
            "type": "parcoords"
           }
          ],
          "pie": [
           {
            "automargin": true,
            "type": "pie"
           }
          ],
          "scatter": [
           {
            "marker": {
             "line": {
              "color": "#283442"
             }
            },
            "type": "scatter"
           }
          ],
          "scatter3d": [
           {
            "line": {
             "colorbar": {
              "outlinewidth": 0,
              "ticks": ""
             }
            },
            "marker": {
             "colorbar": {
              "outlinewidth": 0,
              "ticks": ""
             }
            },
            "type": "scatter3d"
           }
          ],
          "scattercarpet": [
           {
            "marker": {
             "colorbar": {
              "outlinewidth": 0,
              "ticks": ""
             }
            },
            "type": "scattercarpet"
           }
          ],
          "scattergeo": [
           {
            "marker": {
             "colorbar": {
              "outlinewidth": 0,
              "ticks": ""
             }
            },
            "type": "scattergeo"
           }
          ],
          "scattergl": [
           {
            "marker": {
             "line": {
              "color": "#283442"
             }
            },
            "type": "scattergl"
           }
          ],
          "scattermap": [
           {
            "marker": {
             "colorbar": {
              "outlinewidth": 0,
              "ticks": ""
             }
            },
            "type": "scattermap"
           }
          ],
          "scattermapbox": [
           {
            "marker": {
             "colorbar": {
              "outlinewidth": 0,
              "ticks": ""
             }
            },
            "type": "scattermapbox"
           }
          ],
          "scatterpolar": [
           {
            "marker": {
             "colorbar": {
              "outlinewidth": 0,
              "ticks": ""
             }
            },
            "type": "scatterpolar"
           }
          ],
          "scatterpolargl": [
           {
            "marker": {
             "colorbar": {
              "outlinewidth": 0,
              "ticks": ""
             }
            },
            "type": "scatterpolargl"
           }
          ],
          "scatterternary": [
           {
            "marker": {
             "colorbar": {
              "outlinewidth": 0,
              "ticks": ""
             }
            },
            "type": "scatterternary"
           }
          ],
          "surface": [
           {
            "colorbar": {
             "outlinewidth": 0,
             "ticks": ""
            },
            "colorscale": [
             [
              0,
              "#0d0887"
             ],
             [
              0.1111111111111111,
              "#46039f"
             ],
             [
              0.2222222222222222,
              "#7201a8"
             ],
             [
              0.3333333333333333,
              "#9c179e"
             ],
             [
              0.4444444444444444,
              "#bd3786"
             ],
             [
              0.5555555555555556,
              "#d8576b"
             ],
             [
              0.6666666666666666,
              "#ed7953"
             ],
             [
              0.7777777777777778,
              "#fb9f3a"
             ],
             [
              0.8888888888888888,
              "#fdca26"
             ],
             [
              1,
              "#f0f921"
             ]
            ],
            "type": "surface"
           }
          ],
          "table": [
           {
            "cells": {
             "fill": {
              "color": "#506784"
             },
             "line": {
              "color": "rgb(17,17,17)"
             }
            },
            "header": {
             "fill": {
              "color": "#2a3f5f"
             },
             "line": {
              "color": "rgb(17,17,17)"
             }
            },
            "type": "table"
           }
          ]
         },
         "layout": {
          "annotationdefaults": {
           "arrowcolor": "#f2f5fa",
           "arrowhead": 0,
           "arrowwidth": 1
          },
          "autotypenumbers": "strict",
          "coloraxis": {
           "colorbar": {
            "outlinewidth": 0,
            "ticks": ""
           }
          },
          "colorscale": {
           "diverging": [
            [
             0,
             "#8e0152"
            ],
            [
             0.1,
             "#c51b7d"
            ],
            [
             0.2,
             "#de77ae"
            ],
            [
             0.3,
             "#f1b6da"
            ],
            [
             0.4,
             "#fde0ef"
            ],
            [
             0.5,
             "#f7f7f7"
            ],
            [
             0.6,
             "#e6f5d0"
            ],
            [
             0.7,
             "#b8e186"
            ],
            [
             0.8,
             "#7fbc41"
            ],
            [
             0.9,
             "#4d9221"
            ],
            [
             1,
             "#276419"
            ]
           ],
           "sequential": [
            [
             0,
             "#0d0887"
            ],
            [
             0.1111111111111111,
             "#46039f"
            ],
            [
             0.2222222222222222,
             "#7201a8"
            ],
            [
             0.3333333333333333,
             "#9c179e"
            ],
            [
             0.4444444444444444,
             "#bd3786"
            ],
            [
             0.5555555555555556,
             "#d8576b"
            ],
            [
             0.6666666666666666,
             "#ed7953"
            ],
            [
             0.7777777777777778,
             "#fb9f3a"
            ],
            [
             0.8888888888888888,
             "#fdca26"
            ],
            [
             1,
             "#f0f921"
            ]
           ],
           "sequentialminus": [
            [
             0,
             "#0d0887"
            ],
            [
             0.1111111111111111,
             "#46039f"
            ],
            [
             0.2222222222222222,
             "#7201a8"
            ],
            [
             0.3333333333333333,
             "#9c179e"
            ],
            [
             0.4444444444444444,
             "#bd3786"
            ],
            [
             0.5555555555555556,
             "#d8576b"
            ],
            [
             0.6666666666666666,
             "#ed7953"
            ],
            [
             0.7777777777777778,
             "#fb9f3a"
            ],
            [
             0.8888888888888888,
             "#fdca26"
            ],
            [
             1,
             "#f0f921"
            ]
           ]
          },
          "colorway": [
           "#636efa",
           "#EF553B",
           "#00cc96",
           "#ab63fa",
           "#FFA15A",
           "#19d3f3",
           "#FF6692",
           "#B6E880",
           "#FF97FF",
           "#FECB52"
          ],
          "font": {
           "color": "#f2f5fa"
          },
          "geo": {
           "bgcolor": "rgb(17,17,17)",
           "lakecolor": "rgb(17,17,17)",
           "landcolor": "rgb(17,17,17)",
           "showlakes": true,
           "showland": true,
           "subunitcolor": "#506784"
          },
          "hoverlabel": {
           "align": "left"
          },
          "hovermode": "closest",
          "mapbox": {
           "style": "dark"
          },
          "paper_bgcolor": "rgb(17,17,17)",
          "plot_bgcolor": "rgb(17,17,17)",
          "polar": {
           "angularaxis": {
            "gridcolor": "#506784",
            "linecolor": "#506784",
            "ticks": ""
           },
           "bgcolor": "rgb(17,17,17)",
           "radialaxis": {
            "gridcolor": "#506784",
            "linecolor": "#506784",
            "ticks": ""
           }
          },
          "scene": {
           "xaxis": {
            "backgroundcolor": "rgb(17,17,17)",
            "gridcolor": "#506784",
            "gridwidth": 2,
            "linecolor": "#506784",
            "showbackground": true,
            "ticks": "",
            "zerolinecolor": "#C8D4E3"
           },
           "yaxis": {
            "backgroundcolor": "rgb(17,17,17)",
            "gridcolor": "#506784",
            "gridwidth": 2,
            "linecolor": "#506784",
            "showbackground": true,
            "ticks": "",
            "zerolinecolor": "#C8D4E3"
           },
           "zaxis": {
            "backgroundcolor": "rgb(17,17,17)",
            "gridcolor": "#506784",
            "gridwidth": 2,
            "linecolor": "#506784",
            "showbackground": true,
            "ticks": "",
            "zerolinecolor": "#C8D4E3"
           }
          },
          "shapedefaults": {
           "line": {
            "color": "#f2f5fa"
           }
          },
          "sliderdefaults": {
           "bgcolor": "#C8D4E3",
           "bordercolor": "rgb(17,17,17)",
           "borderwidth": 1,
           "tickwidth": 0
          },
          "ternary": {
           "aaxis": {
            "gridcolor": "#506784",
            "linecolor": "#506784",
            "ticks": ""
           },
           "baxis": {
            "gridcolor": "#506784",
            "linecolor": "#506784",
            "ticks": ""
           },
           "bgcolor": "rgb(17,17,17)",
           "caxis": {
            "gridcolor": "#506784",
            "linecolor": "#506784",
            "ticks": ""
           }
          },
          "title": {
           "x": 0.05
          },
          "updatemenudefaults": {
           "bgcolor": "#506784",
           "borderwidth": 0
          },
          "xaxis": {
           "automargin": true,
           "gridcolor": "#283442",
           "linecolor": "#506784",
           "ticks": "",
           "title": {
            "standoff": 15
           },
           "zerolinecolor": "#283442",
           "zerolinewidth": 2
          },
          "yaxis": {
           "automargin": true,
           "gridcolor": "#283442",
           "linecolor": "#506784",
           "ticks": "",
           "title": {
            "standoff": 15
           },
           "zerolinecolor": "#283442",
           "zerolinewidth": 2
          }
         }
        },
        "title": {
         "text": "Random Forest Feature Importances"
        },
        "xaxis": {
         "anchor": "y",
         "domain": [
          0,
          1
         ],
         "tickangle": -45,
         "title": {
          "text": "Feature"
         }
        },
        "yaxis": {
         "anchor": "x",
         "domain": [
          0,
          1
         ],
         "title": {
          "text": "Importance"
         }
        }
       }
      }
     },
     "metadata": {},
     "output_type": "display_data"
    }
   ],
   "source": [
    "from sklearn.ensemble import RandomForestClassifier\n",
    "from sklearn.calibration import CalibratedClassifierCV\n",
    "from sklearn.preprocessing import StandardScaler\n",
    "from imblearn.pipeline import Pipeline\n",
    "from imblearn.over_sampling import SMOTE\n",
    "from imblearn.under_sampling import RandomUnderSampler\n",
    "import pandas as pd\n",
    "import plotly.express as px\n",
    "\n",
    "# === Resample the full dataset ===\n",
    "over = SMOTE(sampling_strategy=0.5, k_neighbors=3)\n",
    "under = RandomUnderSampler(sampling_strategy=0.5)\n",
    "resample_pipeline = Pipeline([(\"o\", over), (\"u\", under)])\n",
    "X_all_resampled, y_all_resampled = resample_pipeline.fit_resample(\n",
    "    training_df[feature_cols], training_df[\"TOP_20\"]\n",
    ")\n",
    "\n",
    "# === Standardize ===\n",
    "scaler = StandardScaler()\n",
    "X_all_scaled = scaler.fit_transform(X_all_resampled)\n",
    "\n",
    "# === Train Calibrated Random Forest ===\n",
    "base_rf = RandomForestClassifier(random_state=42)\n",
    "final_model = CalibratedClassifierCV(estimator=base_rf, method=\"sigmoid\", cv=5)\n",
    "final_model.fit(X_all_scaled, y_all_resampled)\n",
    "\n",
    "# === Aggregate feature importances across all CV folds ===\n",
    "all_importances = np.array([\n",
    "    est.estimator.feature_importances_ for est in final_model.calibrated_classifiers_\n",
    "])\n",
    "mean_importance = all_importances.mean(axis=0)\n",
    "\n",
    "importance_df = pd.DataFrame({\n",
    "    \"Feature\": feature_cols,\n",
    "    \"Importance\": mean_importance\n",
    "}).sort_values(by=\"Importance\", ascending=False)\n",
    "\n",
    "# === Plot feature importances ===\n",
    "fig = px.bar(\n",
    "    importance_df,\n",
    "    x=\"Feature\",\n",
    "    y=\"Importance\",\n",
    "    title=\"Random Forest Feature Importances\",\n",
    "    template=\"plotly_dark\"\n",
    ")\n",
    "fig.update_layout(xaxis_tickangle=-45)\n",
    "fig.show()\n"
   ]
  },
  {
   "cell_type": "markdown",
   "id": "e5e84f8a",
   "metadata": {},
   "source": [
    "Use this model on this week's data to predict the best performers."
   ]
  },
  {
   "cell_type": "code",
   "execution_count": 30,
   "id": "f0bf9b7d",
   "metadata": {},
   "outputs": [
    {
     "data": {
      "text/html": [
       "<div>\n",
       "<style scoped>\n",
       "    .dataframe tbody tr th:only-of-type {\n",
       "        vertical-align: middle;\n",
       "    }\n",
       "\n",
       "    .dataframe tbody tr th {\n",
       "        vertical-align: top;\n",
       "    }\n",
       "\n",
       "    .dataframe thead th {\n",
       "        text-align: right;\n",
       "    }\n",
       "</style>\n",
       "<table border=\"1\" class=\"dataframe\">\n",
       "  <thead>\n",
       "    <tr style=\"text-align: right;\">\n",
       "      <th></th>\n",
       "      <th>PLAYER</th>\n",
       "      <th>SALARY</th>\n",
       "      <th>PROBABILITY</th>\n",
       "      <th>RECENT_FORM</th>\n",
       "      <th>COURSE_HISTORY</th>\n",
       "      <th>VEGAS_ODDS</th>\n",
       "      <th>CUT_PERCENTAGE</th>\n",
       "      <th>OWGR_RANK</th>\n",
       "      <th>FEDEX_CUP_POINTS</th>\n",
       "      <th>SGTTG_RANK</th>\n",
       "      <th>SGOTT_RANK</th>\n",
       "      <th>SGAPR_RANK</th>\n",
       "      <th>SGATG_RANK</th>\n",
       "      <th>SGP_RANK</th>\n",
       "      <th>BIRDIES_RANK</th>\n",
       "      <th>PAR_3_RANK</th>\n",
       "      <th>PAR_4_RANK</th>\n",
       "      <th>PAR_5_RANK</th>\n",
       "      <th>TOTAL_DRIVING_RANK</th>\n",
       "      <th>DRIVING_DISTANCE_RANK</th>\n",
       "      <th>DRIVING_ACCURACY_RANK</th>\n",
       "      <th>GIR_RANK</th>\n",
       "      <th>SCRAMBLING_RANK</th>\n",
       "    </tr>\n",
       "  </thead>\n",
       "  <tbody>\n",
       "    <tr>\n",
       "      <th>0</th>\n",
       "      <td>J.J. Spaun</td>\n",
       "      <td>8100</td>\n",
       "      <td>0.811725</td>\n",
       "      <td>33.5</td>\n",
       "      <td>58.226</td>\n",
       "      <td>70.0</td>\n",
       "      <td>82.6</td>\n",
       "      <td>8.0</td>\n",
       "      <td>2254.437</td>\n",
       "      <td>13.000000</td>\n",
       "      <td>41.00</td>\n",
       "      <td>7.000000</td>\n",
       "      <td>93.000000</td>\n",
       "      <td>39.00</td>\n",
       "      <td>59.00</td>\n",
       "      <td>55.000000</td>\n",
       "      <td>21.00</td>\n",
       "      <td>80.000000</td>\n",
       "      <td>22.000000</td>\n",
       "      <td>61.000000</td>\n",
       "      <td>62.000000</td>\n",
       "      <td>39.000000</td>\n",
       "      <td>104.000000</td>\n",
       "    </tr>\n",
       "    <tr>\n",
       "      <th>1</th>\n",
       "      <td>Corey Conners</td>\n",
       "      <td>8900</td>\n",
       "      <td>0.762836</td>\n",
       "      <td>32.6</td>\n",
       "      <td>14.500</td>\n",
       "      <td>50.0</td>\n",
       "      <td>87.5</td>\n",
       "      <td>24.0</td>\n",
       "      <td>1465.490</td>\n",
       "      <td>28.000000</td>\n",
       "      <td>15.00</td>\n",
       "      <td>43.000000</td>\n",
       "      <td>113.000000</td>\n",
       "      <td>57.00</td>\n",
       "      <td>78.00</td>\n",
       "      <td>80.000000</td>\n",
       "      <td>41.00</td>\n",
       "      <td>80.000000</td>\n",
       "      <td>49.000000</td>\n",
       "      <td>141.000000</td>\n",
       "      <td>14.000000</td>\n",
       "      <td>31.000000</td>\n",
       "      <td>73.000000</td>\n",
       "    </tr>\n",
       "    <tr>\n",
       "      <th>2</th>\n",
       "      <td>Scottie Scheffler</td>\n",
       "      <td>13100</td>\n",
       "      <td>0.746289</td>\n",
       "      <td>6.9</td>\n",
       "      <td>20.500</td>\n",
       "      <td>5.0</td>\n",
       "      <td>100.0</td>\n",
       "      <td>1.0</td>\n",
       "      <td>3975.967</td>\n",
       "      <td>1.000000</td>\n",
       "      <td>3.00</td>\n",
       "      <td>1.000000</td>\n",
       "      <td>25.000000</td>\n",
       "      <td>15.00</td>\n",
       "      <td>2.00</td>\n",
       "      <td>22.000000</td>\n",
       "      <td>1.00</td>\n",
       "      <td>1.000000</td>\n",
       "      <td>17.000000</td>\n",
       "      <td>76.000000</td>\n",
       "      <td>39.000000</td>\n",
       "      <td>13.000000</td>\n",
       "      <td>3.000000</td>\n",
       "    </tr>\n",
       "    <tr>\n",
       "      <th>3</th>\n",
       "      <td>Rory McIlroy</td>\n",
       "      <td>11400</td>\n",
       "      <td>0.736594</td>\n",
       "      <td>19.0</td>\n",
       "      <td>2.000</td>\n",
       "      <td>10.0</td>\n",
       "      <td>90.9</td>\n",
       "      <td>2.0</td>\n",
       "      <td>2944.036</td>\n",
       "      <td>11.000000</td>\n",
       "      <td>4.00</td>\n",
       "      <td>80.000000</td>\n",
       "      <td>40.000000</td>\n",
       "      <td>5.00</td>\n",
       "      <td>13.00</td>\n",
       "      <td>28.000000</td>\n",
       "      <td>21.00</td>\n",
       "      <td>10.000000</td>\n",
       "      <td>78.000000</td>\n",
       "      <td>2.000000</td>\n",
       "      <td>166.000000</td>\n",
       "      <td>74.000000</td>\n",
       "      <td>25.000000</td>\n",
       "    </tr>\n",
       "    <tr>\n",
       "      <th>4</th>\n",
       "      <td>Maverick McNealy</td>\n",
       "      <td>8000</td>\n",
       "      <td>0.677023</td>\n",
       "      <td>33.8</td>\n",
       "      <td>38.000</td>\n",
       "      <td>50.0</td>\n",
       "      <td>82.6</td>\n",
       "      <td>16.0</td>\n",
       "      <td>2269.672</td>\n",
       "      <td>44.000000</td>\n",
       "      <td>40.00</td>\n",
       "      <td>41.000000</td>\n",
       "      <td>125.000000</td>\n",
       "      <td>34.00</td>\n",
       "      <td>59.00</td>\n",
       "      <td>122.000000</td>\n",
       "      <td>41.00</td>\n",
       "      <td>64.000000</td>\n",
       "      <td>96.000000</td>\n",
       "      <td>76.000000</td>\n",
       "      <td>102.000000</td>\n",
       "      <td>48.000000</td>\n",
       "      <td>144.000000</td>\n",
       "    </tr>\n",
       "    <tr>\n",
       "      <th>5</th>\n",
       "      <td>Kristoffer Reitan</td>\n",
       "      <td>6900</td>\n",
       "      <td>0.644051</td>\n",
       "      <td>90.0</td>\n",
       "      <td>58.226</td>\n",
       "      <td>150.0</td>\n",
       "      <td>62.9</td>\n",
       "      <td>94.0</td>\n",
       "      <td>0.000</td>\n",
       "      <td>68.026667</td>\n",
       "      <td>76.08</td>\n",
       "      <td>73.706667</td>\n",
       "      <td>79.093333</td>\n",
       "      <td>75.92</td>\n",
       "      <td>74.08</td>\n",
       "      <td>87.346667</td>\n",
       "      <td>64.12</td>\n",
       "      <td>73.426667</td>\n",
       "      <td>79.466667</td>\n",
       "      <td>84.706667</td>\n",
       "      <td>83.213333</td>\n",
       "      <td>83.426667</td>\n",
       "      <td>84.066667</td>\n",
       "    </tr>\n",
       "    <tr>\n",
       "      <th>6</th>\n",
       "      <td>Collin Morikawa</td>\n",
       "      <td>9600</td>\n",
       "      <td>0.642303</td>\n",
       "      <td>23.6</td>\n",
       "      <td>3.000</td>\n",
       "      <td>25.0</td>\n",
       "      <td>100.0</td>\n",
       "      <td>5.0</td>\n",
       "      <td>1427.158</td>\n",
       "      <td>2.000000</td>\n",
       "      <td>10.00</td>\n",
       "      <td>5.000000</td>\n",
       "      <td>70.000000</td>\n",
       "      <td>115.00</td>\n",
       "      <td>7.00</td>\n",
       "      <td>6.000000</td>\n",
       "      <td>21.00</td>\n",
       "      <td>80.000000</td>\n",
       "      <td>45.000000</td>\n",
       "      <td>149.000000</td>\n",
       "      <td>3.000000</td>\n",
       "      <td>16.000000</td>\n",
       "      <td>102.000000</td>\n",
       "    </tr>\n",
       "    <tr>\n",
       "      <th>7</th>\n",
       "      <td>Laurie Canter</td>\n",
       "      <td>6900</td>\n",
       "      <td>0.625412</td>\n",
       "      <td>81.3</td>\n",
       "      <td>90.000</td>\n",
       "      <td>150.0</td>\n",
       "      <td>25.0</td>\n",
       "      <td>69.0</td>\n",
       "      <td>0.000</td>\n",
       "      <td>68.026667</td>\n",
       "      <td>76.08</td>\n",
       "      <td>73.706667</td>\n",
       "      <td>79.093333</td>\n",
       "      <td>75.92</td>\n",
       "      <td>74.08</td>\n",
       "      <td>87.346667</td>\n",
       "      <td>64.12</td>\n",
       "      <td>73.426667</td>\n",
       "      <td>79.466667</td>\n",
       "      <td>84.706667</td>\n",
       "      <td>83.213333</td>\n",
       "      <td>83.426667</td>\n",
       "      <td>84.066667</td>\n",
       "    </tr>\n",
       "    <tr>\n",
       "      <th>8</th>\n",
       "      <td>Justin Thomas</td>\n",
       "      <td>9200</td>\n",
       "      <td>0.617284</td>\n",
       "      <td>25.1</td>\n",
       "      <td>46.700</td>\n",
       "      <td>35.0</td>\n",
       "      <td>88.2</td>\n",
       "      <td>4.0</td>\n",
       "      <td>2222.365</td>\n",
       "      <td>25.000000</td>\n",
       "      <td>93.00</td>\n",
       "      <td>15.000000</td>\n",
       "      <td>36.000000</td>\n",
       "      <td>12.00</td>\n",
       "      <td>1.00</td>\n",
       "      <td>97.000000</td>\n",
       "      <td>2.00</td>\n",
       "      <td>94.000000</td>\n",
       "      <td>137.000000</td>\n",
       "      <td>67.000000</td>\n",
       "      <td>139.000000</td>\n",
       "      <td>78.000000</td>\n",
       "      <td>109.000000</td>\n",
       "    </tr>\n",
       "    <tr>\n",
       "      <th>9</th>\n",
       "      <td>Daniel Brown</td>\n",
       "      <td>7100</td>\n",
       "      <td>0.596184</td>\n",
       "      <td>90.0</td>\n",
       "      <td>61.000</td>\n",
       "      <td>150.0</td>\n",
       "      <td>62.9</td>\n",
       "      <td>104.0</td>\n",
       "      <td>0.000</td>\n",
       "      <td>68.026667</td>\n",
       "      <td>76.08</td>\n",
       "      <td>73.706667</td>\n",
       "      <td>79.093333</td>\n",
       "      <td>75.92</td>\n",
       "      <td>74.08</td>\n",
       "      <td>87.346667</td>\n",
       "      <td>64.12</td>\n",
       "      <td>73.426667</td>\n",
       "      <td>79.466667</td>\n",
       "      <td>84.706667</td>\n",
       "      <td>83.213333</td>\n",
       "      <td>83.426667</td>\n",
       "      <td>84.066667</td>\n",
       "    </tr>\n",
       "    <tr>\n",
       "      <th>10</th>\n",
       "      <td>Sepp Straka</td>\n",
       "      <td>8700</td>\n",
       "      <td>0.595363</td>\n",
       "      <td>34.1</td>\n",
       "      <td>90.000</td>\n",
       "      <td>50.0</td>\n",
       "      <td>73.7</td>\n",
       "      <td>10.0</td>\n",
       "      <td>2462.765</td>\n",
       "      <td>7.000000</td>\n",
       "      <td>37.00</td>\n",
       "      <td>3.000000</td>\n",
       "      <td>128.000000</td>\n",
       "      <td>40.00</td>\n",
       "      <td>3.00</td>\n",
       "      <td>1.000000</td>\n",
       "      <td>21.00</td>\n",
       "      <td>8.000000</td>\n",
       "      <td>51.000000</td>\n",
       "      <td>145.000000</td>\n",
       "      <td>11.000000</td>\n",
       "      <td>1.000000</td>\n",
       "      <td>106.000000</td>\n",
       "    </tr>\n",
       "    <tr>\n",
       "      <th>11</th>\n",
       "      <td>Aaron Rai</td>\n",
       "      <td>8300</td>\n",
       "      <td>0.565670</td>\n",
       "      <td>38.4</td>\n",
       "      <td>47.000</td>\n",
       "      <td>60.0</td>\n",
       "      <td>76.5</td>\n",
       "      <td>34.0</td>\n",
       "      <td>660.480</td>\n",
       "      <td>27.000000</td>\n",
       "      <td>22.00</td>\n",
       "      <td>46.000000</td>\n",
       "      <td>64.000000</td>\n",
       "      <td>117.00</td>\n",
       "      <td>82.00</td>\n",
       "      <td>172.000000</td>\n",
       "      <td>8.00</td>\n",
       "      <td>39.000000</td>\n",
       "      <td>71.000000</td>\n",
       "      <td>166.000000</td>\n",
       "      <td>1.000000</td>\n",
       "      <td>21.000000</td>\n",
       "      <td>111.000000</td>\n",
       "    </tr>\n",
       "    <tr>\n",
       "      <th>12</th>\n",
       "      <td>Haotong Li</td>\n",
       "      <td>7100</td>\n",
       "      <td>0.547511</td>\n",
       "      <td>90.0</td>\n",
       "      <td>55.500</td>\n",
       "      <td>125.0</td>\n",
       "      <td>62.9</td>\n",
       "      <td>107.0</td>\n",
       "      <td>0.000</td>\n",
       "      <td>68.026667</td>\n",
       "      <td>76.08</td>\n",
       "      <td>73.706667</td>\n",
       "      <td>79.093333</td>\n",
       "      <td>75.92</td>\n",
       "      <td>74.08</td>\n",
       "      <td>87.346667</td>\n",
       "      <td>64.12</td>\n",
       "      <td>73.426667</td>\n",
       "      <td>79.466667</td>\n",
       "      <td>84.706667</td>\n",
       "      <td>83.213333</td>\n",
       "      <td>83.426667</td>\n",
       "      <td>84.066667</td>\n",
       "    </tr>\n",
       "    <tr>\n",
       "      <th>13</th>\n",
       "      <td>Rasmus Neergaard-Petersen</td>\n",
       "      <td>7600</td>\n",
       "      <td>0.510039</td>\n",
       "      <td>41.3</td>\n",
       "      <td>58.226</td>\n",
       "      <td>60.0</td>\n",
       "      <td>66.7</td>\n",
       "      <td>82.0</td>\n",
       "      <td>0.000</td>\n",
       "      <td>68.026667</td>\n",
       "      <td>76.08</td>\n",
       "      <td>73.706667</td>\n",
       "      <td>79.093333</td>\n",
       "      <td>75.92</td>\n",
       "      <td>74.08</td>\n",
       "      <td>87.346667</td>\n",
       "      <td>64.12</td>\n",
       "      <td>73.426667</td>\n",
       "      <td>79.466667</td>\n",
       "      <td>84.706667</td>\n",
       "      <td>83.213333</td>\n",
       "      <td>83.426667</td>\n",
       "      <td>84.066667</td>\n",
       "    </tr>\n",
       "    <tr>\n",
       "      <th>14</th>\n",
       "      <td>Daniel Berger</td>\n",
       "      <td>7400</td>\n",
       "      <td>0.491616</td>\n",
       "      <td>36.3</td>\n",
       "      <td>58.226</td>\n",
       "      <td>80.0</td>\n",
       "      <td>81.8</td>\n",
       "      <td>31.0</td>\n",
       "      <td>1417.533</td>\n",
       "      <td>12.000000</td>\n",
       "      <td>18.00</td>\n",
       "      <td>23.000000</td>\n",
       "      <td>89.000000</td>\n",
       "      <td>108.00</td>\n",
       "      <td>115.00</td>\n",
       "      <td>122.000000</td>\n",
       "      <td>21.00</td>\n",
       "      <td>140.000000</td>\n",
       "      <td>13.000000</td>\n",
       "      <td>93.000000</td>\n",
       "      <td>16.000000</td>\n",
       "      <td>41.000000</td>\n",
       "      <td>52.000000</td>\n",
       "    </tr>\n",
       "    <tr>\n",
       "      <th>15</th>\n",
       "      <td>Shaun Norris</td>\n",
       "      <td>6400</td>\n",
       "      <td>0.483787</td>\n",
       "      <td>90.0</td>\n",
       "      <td>58.226</td>\n",
       "      <td>500.0</td>\n",
       "      <td>62.9</td>\n",
       "      <td>97.0</td>\n",
       "      <td>0.000</td>\n",
       "      <td>68.026667</td>\n",
       "      <td>76.08</td>\n",
       "      <td>73.706667</td>\n",
       "      <td>79.093333</td>\n",
       "      <td>75.92</td>\n",
       "      <td>74.08</td>\n",
       "      <td>87.346667</td>\n",
       "      <td>64.12</td>\n",
       "      <td>73.426667</td>\n",
       "      <td>79.466667</td>\n",
       "      <td>84.706667</td>\n",
       "      <td>83.213333</td>\n",
       "      <td>83.426667</td>\n",
       "      <td>84.066667</td>\n",
       "    </tr>\n",
       "    <tr>\n",
       "      <th>16</th>\n",
       "      <td>Tommy Fleetwood</td>\n",
       "      <td>9900</td>\n",
       "      <td>0.469061</td>\n",
       "      <td>22.5</td>\n",
       "      <td>26.000</td>\n",
       "      <td>20.0</td>\n",
       "      <td>92.9</td>\n",
       "      <td>13.0</td>\n",
       "      <td>1698.648</td>\n",
       "      <td>5.000000</td>\n",
       "      <td>51.00</td>\n",
       "      <td>8.000000</td>\n",
       "      <td>17.000000</td>\n",
       "      <td>33.00</td>\n",
       "      <td>56.00</td>\n",
       "      <td>157.000000</td>\n",
       "      <td>15.00</td>\n",
       "      <td>59.000000</td>\n",
       "      <td>91.000000</td>\n",
       "      <td>138.000000</td>\n",
       "      <td>37.000000</td>\n",
       "      <td>128.000000</td>\n",
       "      <td>48.000000</td>\n",
       "    </tr>\n",
       "    <tr>\n",
       "      <th>17</th>\n",
       "      <td>Alex Noren</td>\n",
       "      <td>7500</td>\n",
       "      <td>0.464029</td>\n",
       "      <td>52.8</td>\n",
       "      <td>53.000</td>\n",
       "      <td>80.0</td>\n",
       "      <td>66.7</td>\n",
       "      <td>81.0</td>\n",
       "      <td>134.250</td>\n",
       "      <td>68.026667</td>\n",
       "      <td>76.08</td>\n",
       "      <td>73.706667</td>\n",
       "      <td>79.093333</td>\n",
       "      <td>75.92</td>\n",
       "      <td>74.08</td>\n",
       "      <td>87.346667</td>\n",
       "      <td>64.12</td>\n",
       "      <td>73.426667</td>\n",
       "      <td>79.466667</td>\n",
       "      <td>84.706667</td>\n",
       "      <td>83.213333</td>\n",
       "      <td>83.426667</td>\n",
       "      <td>84.066667</td>\n",
       "    </tr>\n",
       "    <tr>\n",
       "      <th>18</th>\n",
       "      <td>Taylor Pendrith</td>\n",
       "      <td>7900</td>\n",
       "      <td>0.459736</td>\n",
       "      <td>39.4</td>\n",
       "      <td>58.226</td>\n",
       "      <td>70.0</td>\n",
       "      <td>78.9</td>\n",
       "      <td>39.0</td>\n",
       "      <td>975.473</td>\n",
       "      <td>30.000000</td>\n",
       "      <td>8.00</td>\n",
       "      <td>57.000000</td>\n",
       "      <td>122.000000</td>\n",
       "      <td>102.00</td>\n",
       "      <td>67.00</td>\n",
       "      <td>68.000000</td>\n",
       "      <td>104.00</td>\n",
       "      <td>30.000000</td>\n",
       "      <td>22.000000</td>\n",
       "      <td>31.000000</td>\n",
       "      <td>92.000000</td>\n",
       "      <td>29.000000</td>\n",
       "      <td>150.000000</td>\n",
       "    </tr>\n",
       "    <tr>\n",
       "      <th>19</th>\n",
       "      <td>Martin Couvra</td>\n",
       "      <td>6900</td>\n",
       "      <td>0.459213</td>\n",
       "      <td>90.0</td>\n",
       "      <td>58.226</td>\n",
       "      <td>200.0</td>\n",
       "      <td>62.9</td>\n",
       "      <td>118.0</td>\n",
       "      <td>0.000</td>\n",
       "      <td>68.026667</td>\n",
       "      <td>76.08</td>\n",
       "      <td>73.706667</td>\n",
       "      <td>79.093333</td>\n",
       "      <td>75.92</td>\n",
       "      <td>74.08</td>\n",
       "      <td>87.346667</td>\n",
       "      <td>64.12</td>\n",
       "      <td>73.426667</td>\n",
       "      <td>79.466667</td>\n",
       "      <td>84.706667</td>\n",
       "      <td>83.213333</td>\n",
       "      <td>83.426667</td>\n",
       "      <td>84.066667</td>\n",
       "    </tr>\n",
       "  </tbody>\n",
       "</table>\n",
       "</div>"
      ],
      "text/plain": [
       "                       PLAYER  SALARY  PROBABILITY  RECENT_FORM  \\\n",
       "0                  J.J. Spaun    8100     0.811725         33.5   \n",
       "1               Corey Conners    8900     0.762836         32.6   \n",
       "2           Scottie Scheffler   13100     0.746289          6.9   \n",
       "3                Rory McIlroy   11400     0.736594         19.0   \n",
       "4            Maverick McNealy    8000     0.677023         33.8   \n",
       "5           Kristoffer Reitan    6900     0.644051         90.0   \n",
       "6             Collin Morikawa    9600     0.642303         23.6   \n",
       "7               Laurie Canter    6900     0.625412         81.3   \n",
       "8               Justin Thomas    9200     0.617284         25.1   \n",
       "9                Daniel Brown    7100     0.596184         90.0   \n",
       "10                Sepp Straka    8700     0.595363         34.1   \n",
       "11                  Aaron Rai    8300     0.565670         38.4   \n",
       "12                 Haotong Li    7100     0.547511         90.0   \n",
       "13  Rasmus Neergaard-Petersen    7600     0.510039         41.3   \n",
       "14              Daniel Berger    7400     0.491616         36.3   \n",
       "15               Shaun Norris    6400     0.483787         90.0   \n",
       "16            Tommy Fleetwood    9900     0.469061         22.5   \n",
       "17                 Alex Noren    7500     0.464029         52.8   \n",
       "18            Taylor Pendrith    7900     0.459736         39.4   \n",
       "19              Martin Couvra    6900     0.459213         90.0   \n",
       "\n",
       "    COURSE_HISTORY  VEGAS_ODDS  CUT_PERCENTAGE  OWGR_RANK  FEDEX_CUP_POINTS  \\\n",
       "0           58.226        70.0            82.6        8.0          2254.437   \n",
       "1           14.500        50.0            87.5       24.0          1465.490   \n",
       "2           20.500         5.0           100.0        1.0          3975.967   \n",
       "3            2.000        10.0            90.9        2.0          2944.036   \n",
       "4           38.000        50.0            82.6       16.0          2269.672   \n",
       "5           58.226       150.0            62.9       94.0             0.000   \n",
       "6            3.000        25.0           100.0        5.0          1427.158   \n",
       "7           90.000       150.0            25.0       69.0             0.000   \n",
       "8           46.700        35.0            88.2        4.0          2222.365   \n",
       "9           61.000       150.0            62.9      104.0             0.000   \n",
       "10          90.000        50.0            73.7       10.0          2462.765   \n",
       "11          47.000        60.0            76.5       34.0           660.480   \n",
       "12          55.500       125.0            62.9      107.0             0.000   \n",
       "13          58.226        60.0            66.7       82.0             0.000   \n",
       "14          58.226        80.0            81.8       31.0          1417.533   \n",
       "15          58.226       500.0            62.9       97.0             0.000   \n",
       "16          26.000        20.0            92.9       13.0          1698.648   \n",
       "17          53.000        80.0            66.7       81.0           134.250   \n",
       "18          58.226        70.0            78.9       39.0           975.473   \n",
       "19          58.226       200.0            62.9      118.0             0.000   \n",
       "\n",
       "    SGTTG_RANK  SGOTT_RANK  SGAPR_RANK  SGATG_RANK  SGP_RANK  BIRDIES_RANK  \\\n",
       "0    13.000000       41.00    7.000000   93.000000     39.00         59.00   \n",
       "1    28.000000       15.00   43.000000  113.000000     57.00         78.00   \n",
       "2     1.000000        3.00    1.000000   25.000000     15.00          2.00   \n",
       "3    11.000000        4.00   80.000000   40.000000      5.00         13.00   \n",
       "4    44.000000       40.00   41.000000  125.000000     34.00         59.00   \n",
       "5    68.026667       76.08   73.706667   79.093333     75.92         74.08   \n",
       "6     2.000000       10.00    5.000000   70.000000    115.00          7.00   \n",
       "7    68.026667       76.08   73.706667   79.093333     75.92         74.08   \n",
       "8    25.000000       93.00   15.000000   36.000000     12.00          1.00   \n",
       "9    68.026667       76.08   73.706667   79.093333     75.92         74.08   \n",
       "10    7.000000       37.00    3.000000  128.000000     40.00          3.00   \n",
       "11   27.000000       22.00   46.000000   64.000000    117.00         82.00   \n",
       "12   68.026667       76.08   73.706667   79.093333     75.92         74.08   \n",
       "13   68.026667       76.08   73.706667   79.093333     75.92         74.08   \n",
       "14   12.000000       18.00   23.000000   89.000000    108.00        115.00   \n",
       "15   68.026667       76.08   73.706667   79.093333     75.92         74.08   \n",
       "16    5.000000       51.00    8.000000   17.000000     33.00         56.00   \n",
       "17   68.026667       76.08   73.706667   79.093333     75.92         74.08   \n",
       "18   30.000000        8.00   57.000000  122.000000    102.00         67.00   \n",
       "19   68.026667       76.08   73.706667   79.093333     75.92         74.08   \n",
       "\n",
       "    PAR_3_RANK  PAR_4_RANK  PAR_5_RANK  TOTAL_DRIVING_RANK  \\\n",
       "0    55.000000       21.00   80.000000           22.000000   \n",
       "1    80.000000       41.00   80.000000           49.000000   \n",
       "2    22.000000        1.00    1.000000           17.000000   \n",
       "3    28.000000       21.00   10.000000           78.000000   \n",
       "4   122.000000       41.00   64.000000           96.000000   \n",
       "5    87.346667       64.12   73.426667           79.466667   \n",
       "6     6.000000       21.00   80.000000           45.000000   \n",
       "7    87.346667       64.12   73.426667           79.466667   \n",
       "8    97.000000        2.00   94.000000          137.000000   \n",
       "9    87.346667       64.12   73.426667           79.466667   \n",
       "10    1.000000       21.00    8.000000           51.000000   \n",
       "11  172.000000        8.00   39.000000           71.000000   \n",
       "12   87.346667       64.12   73.426667           79.466667   \n",
       "13   87.346667       64.12   73.426667           79.466667   \n",
       "14  122.000000       21.00  140.000000           13.000000   \n",
       "15   87.346667       64.12   73.426667           79.466667   \n",
       "16  157.000000       15.00   59.000000           91.000000   \n",
       "17   87.346667       64.12   73.426667           79.466667   \n",
       "18   68.000000      104.00   30.000000           22.000000   \n",
       "19   87.346667       64.12   73.426667           79.466667   \n",
       "\n",
       "    DRIVING_DISTANCE_RANK  DRIVING_ACCURACY_RANK    GIR_RANK  SCRAMBLING_RANK  \n",
       "0               61.000000              62.000000   39.000000       104.000000  \n",
       "1              141.000000              14.000000   31.000000        73.000000  \n",
       "2               76.000000              39.000000   13.000000         3.000000  \n",
       "3                2.000000             166.000000   74.000000        25.000000  \n",
       "4               76.000000             102.000000   48.000000       144.000000  \n",
       "5               84.706667              83.213333   83.426667        84.066667  \n",
       "6              149.000000               3.000000   16.000000       102.000000  \n",
       "7               84.706667              83.213333   83.426667        84.066667  \n",
       "8               67.000000             139.000000   78.000000       109.000000  \n",
       "9               84.706667              83.213333   83.426667        84.066667  \n",
       "10             145.000000              11.000000    1.000000       106.000000  \n",
       "11             166.000000               1.000000   21.000000       111.000000  \n",
       "12              84.706667              83.213333   83.426667        84.066667  \n",
       "13              84.706667              83.213333   83.426667        84.066667  \n",
       "14              93.000000              16.000000   41.000000        52.000000  \n",
       "15              84.706667              83.213333   83.426667        84.066667  \n",
       "16             138.000000              37.000000  128.000000        48.000000  \n",
       "17              84.706667              83.213333   83.426667        84.066667  \n",
       "18              31.000000              92.000000   29.000000       150.000000  \n",
       "19              84.706667              83.213333   83.426667        84.066667  "
      ]
     },
     "execution_count": 30,
     "metadata": {},
     "output_type": "execute_result"
    }
   ],
   "source": [
    "# === Prepare test data (this week's players) ===\n",
    "\n",
    "# Select and standardize features using the same scaler as training\n",
    "X_test = this_week[feature_cols]\n",
    "X_test_scaled = scaler.transform(X_test)\n",
    "\n",
    "# === Predict probabilities for Top 20 finish ===\n",
    "# CalibratedClassifierCV returns well-calibrated probabilities\n",
    "this_week[\"PROBABILITY\"] = final_model.predict_proba(X_test_scaled)[:, 1]\n",
    "\n",
    "# === Sort results by highest predicted probability ===\n",
    "this_week_sorted = this_week.sort_values(by=\"PROBABILITY\", ascending=False).reset_index(drop=True)\n",
    "\n",
    "# === Define final column order explicitly ===\n",
    "columns_to_show = [\n",
    "    \"PLAYER\", \"SALARY\", \"PROBABILITY\",\n",
    "    \"RECENT_FORM\", \"COURSE_HISTORY\", \"VEGAS_ODDS\", \"CUT_PERCENTAGE\", \n",
    "    \"OWGR_RANK\", \"FEDEX_CUP_POINTS\",\n",
    "\n",
    "    # SG stats\n",
    "    \"SGTTG_RANK\", \"SGOTT_RANK\", \"SGAPR_RANK\", \"SGATG_RANK\", \"SGP_RANK\",\n",
    "\n",
    "    # Scoring/Performance\n",
    "    \"BIRDIES_RANK\", \"PAR_3_RANK\", \"PAR_4_RANK\", \"PAR_5_RANK\",\n",
    "\n",
    "    # Driving / Ball Striking\n",
    "    \"TOTAL_DRIVING_RANK\", \"DRIVING_DISTANCE_RANK\", \"DRIVING_ACCURACY_RANK\",\n",
    "    \"GIR_RANK\", \"SCRAMBLING_RANK\"\n",
    "]\n",
    "\n",
    "# Keep only columns that exist in the dataframe\n",
    "columns_to_show = [col for col in columns_to_show if col in this_week_sorted.columns]\n",
    "\n",
    "# Final dataframe for display/export\n",
    "export_df = this_week_sorted[columns_to_show].copy()\n",
    "\n",
    "# Preview top 20\n",
    "export_df.head(20)\n"
   ]
  },
  {
   "cell_type": "markdown",
   "id": "8641f78e",
   "metadata": {},
   "source": [
    "### Save to CSV"
   ]
  },
  {
   "cell_type": "code",
   "execution_count": 31,
   "id": "323933e9",
   "metadata": {},
   "outputs": [
    {
     "name": "stdout",
     "output_type": "stream",
     "text": [
      "✅ Exported to data/current_week_export.csv\n"
     ]
    }
   ],
   "source": [
    "# Ensure required columns for spreadsheet export\n",
    "if \"COURSE_HISTORY\" not in export_df.columns:\n",
    "    export_df[\"COURSE_HISTORY\"] = \"-\"\n",
    "\n",
    "# Define columns to round (FedEx + stats)\n",
    "columns_to_round = [\n",
    "    \"FEDEX_CUP_POINTS\",\n",
    "    \"SGTTG_RANK\", \"SGOTT_RANK\", \"SGAPR_RANK\", \"SGATG_RANK\", \"SGP_RANK\",\n",
    "    \"BIRDIES_RANK\", \"PAR_3_RANK\", \"PAR_4_RANK\", \"PAR_5_RANK\",\n",
    "    \"TOTAL_DRIVING_RANK\", \"DRIVING_DISTANCE_RANK\", \"DRIVING_ACCURACY_RANK\",\n",
    "    \"GIR_RANK\", \"SCRAMBLING_RANK\"\n",
    "]\n",
    "\n",
    "columns_to_round_1 = [\n",
    "    \"COURSE_HISTORY\", \"CUT_PERCENTAGE\"\n",
    "]\n",
    "\n",
    "# Round only the selected columns to 0 decimal places\n",
    "export_df[columns_to_round] = export_df[columns_to_round].round(0).astype(\"Int64\")\n",
    "# Round only the selected columns to 1 decimal places\n",
    "export_df[columns_to_round_1] = export_df[columns_to_round_1].round(1)\n",
    "\n",
    "# Explicit column order for Excel integration\n",
    "column_order = [\n",
    "    \"PLAYER\", \"SALARY\", \"PROBABILITY\", \"RECENT_FORM\", \"COURSE_HISTORY\", \"VEGAS_ODDS\", \n",
    "    \"CUT_PERCENTAGE\", \"OWGR_RANK\", \"FEDEX_CUP_POINTS\", \n",
    "    \"SGTTG_RANK\", \"SGOTT_RANK\", \"SGAPR_RANK\", \"SGATG_RANK\", \"SGP_RANK\",\n",
    "    \"BIRDIES_RANK\", \"PAR_3_RANK\", \"PAR_4_RANK\", \"PAR_5_RANK\",\n",
    "    \"TOTAL_DRIVING_RANK\", \"DRIVING_DISTANCE_RANK\", \"DRIVING_ACCURACY_RANK\",\n",
    "    \"GIR_RANK\", \"SCRAMBLING_RANK\"\n",
    "]\n",
    "\n",
    "# Ensure all expected columns exist\n",
    "for col in column_order:\n",
    "    if col not in export_df.columns:\n",
    "        export_df[col] = \"-\" if col == \"COURSE_HISTORY\" else np.nan\n",
    "\n",
    "# Reorder columns to match Excel layout\n",
    "export_df = export_df[column_order]\n",
    "\n",
    "# Export to CSV\n",
    "filename = f\"data/current_week_export.csv\"\n",
    "export_df.to_csv(filename, index=False)\n",
    "print(f\"✅ Exported to {filename}\")"
   ]
  }
 ],
 "metadata": {
  "kernelspec": {
   "display_name": "Python 3",
   "language": "python",
   "name": "python3"
  },
  "language_info": {
   "codemirror_mode": {
    "name": "ipython",
    "version": 3
   },
   "file_extension": ".py",
   "mimetype": "text/x-python",
   "name": "python",
   "nbconvert_exporter": "python",
   "pygments_lexer": "ipython3",
   "version": "3.13.3"
  }
 },
 "nbformat": 4,
 "nbformat_minor": 5
}
