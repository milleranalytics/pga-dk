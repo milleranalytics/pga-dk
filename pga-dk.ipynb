{
 "cells": [
  {
   "cell_type": "markdown",
   "id": "51850cd5",
   "metadata": {},
   "source": [
    "## PGA Draftkings Notebook\n",
    "Use [PGA Website](https://www.pgatour.com/tournaments/schedule.html) to look up tournament info and fill out first USER INPUT block below. (Fetch/XHR from Network tab, Paylod sub-tab)\n",
    "\n",
    "Looks like the tournament ID is also in the address bar."
   ]
  },
  {
   "cell_type": "markdown",
   "id": "cc589d19",
   "metadata": {},
   "source": [
    "### User Input"
   ]
  },
  {
   "cell_type": "code",
   "execution_count": 1,
   "id": "5b16fd89",
   "metadata": {},
   "outputs": [],
   "source": [
    "# === USER INPUTS ===\n",
    "# Old Tournament\n",
    "old_tournament_name = \"Charles Schwab Challenge\"\n",
    "tournament_date = \"5/25/2025\"  # Ending date of tournament\n",
    "old_course = \"Colonial Country Club\"\n",
    "tournament_id = \"R2025021\"\n",
    "\n",
    "# New Tournament\n",
    "new_tournament_name = \"the Memorial Tournament presented by Workday\"\n",
    "new_ending_date = \"6/1/2025\"\n",
    "new_course = \"Muirfield Village Golf Club\"\n",
    "new_season = 2025\n",
    "\n",
    "\n",
    "# === LIBRARIES AND VARIABLES ===\n",
    "# Import necessary libraries\n",
    "import requests\n",
    "import pandas as pd\n",
    "from datetime import datetime\n",
    "import sqlite3 as sql\n",
    "import numpy as np\n",
    "from numpy import nan\n",
    "import os\n",
    "import importlib\n",
    "import utils.db_utils\n",
    "from utils.db_utils import TOURNAMENT_NAME_MAP, PLAYER_NAME_MAP\n",
    "\n",
    "# === TOURNAMENT CONFIG ===\n",
    "tournament_config = {\n",
    "    \"old\": {\n",
    "        \"name\": old_tournament_name,\n",
    "        \"date\": tournament_date,\n",
    "        \"course\": old_course,\n",
    "        \"id\": tournament_id\n",
    "    },\n",
    "    \"new\": {\n",
    "        \"name\": new_tournament_name,\n",
    "        \"course\": new_course,\n",
    "        \"season\": new_season,\n",
    "        \"ending_date\": pd.to_datetime(new_ending_date, format=\"%m/%d/%Y\"),\n",
    "        \"quoted_course\": f'\"{new_course}\"',\n",
    "        \"quoted_name\": f\"'{new_tournament_name}'\"\n",
    "    }\n",
    "}\n",
    "\n",
    "this_week_key = str(tournament_config[\"new\"][\"ending_date\"].date())\n",
    "\n",
    "# Create a minimal one-row history DataFrame\n",
    "this_week_history = pd.DataFrame([{\n",
    "    \"SEASON\": tournament_config[\"new\"][\"season\"],\n",
    "    \"TOURNAMENT\": tournament_config[\"new\"][\"name\"],\n",
    "    \"ENDING_DATE\": tournament_config[\"new\"][\"ending_date\"],\n",
    "    \"COURSE\": tournament_config[\"new\"][\"course\"],\n",
    "    \"TOURN_ID\": None\n",
    "}])"
   ]
  },
  {
   "cell_type": "markdown",
   "id": "cd739282",
   "metadata": {},
   "source": [
    "### Update Database"
   ]
  },
  {
   "cell_type": "markdown",
   "id": "cebfc2dc",
   "metadata": {},
   "source": [
    "#### Old Tournament"
   ]
  },
  {
   "cell_type": "code",
   "execution_count": 2,
   "id": "31b12dc0",
   "metadata": {},
   "outputs": [
    {
     "name": "stdout",
     "output_type": "stream",
     "text": [
      "📦 Fetching results for tournament ID R2025021 (Charles Schwab Challenge), year: 20250\n",
      "✅ 135 new rows added for 'Charles Schwab Challenge'\n"
     ]
    },
    {
     "data": {
      "text/html": [
       "<div>\n",
       "<style scoped>\n",
       "    .dataframe tbody tr th:only-of-type {\n",
       "        vertical-align: middle;\n",
       "    }\n",
       "\n",
       "    .dataframe tbody tr th {\n",
       "        vertical-align: top;\n",
       "    }\n",
       "\n",
       "    .dataframe thead th {\n",
       "        text-align: right;\n",
       "    }\n",
       "</style>\n",
       "<table border=\"1\" class=\"dataframe\">\n",
       "  <thead>\n",
       "    <tr style=\"text-align: right;\">\n",
       "      <th></th>\n",
       "      <th>SEASON</th>\n",
       "      <th>ENDING_DATE</th>\n",
       "      <th>TOURN_ID</th>\n",
       "      <th>TOURNAMENT</th>\n",
       "      <th>COURSE</th>\n",
       "      <th>PLAYER</th>\n",
       "      <th>POS</th>\n",
       "      <th>FINAL_POS</th>\n",
       "      <th>ROUNDS:1</th>\n",
       "      <th>ROUNDS:2</th>\n",
       "      <th>ROUNDS:3</th>\n",
       "      <th>ROUNDS:4</th>\n",
       "      <th>OFFICIAL_MONEY</th>\n",
       "      <th>FEDEX_CUP_POINTS</th>\n",
       "    </tr>\n",
       "  </thead>\n",
       "  <tbody>\n",
       "    <tr>\n",
       "      <th>11</th>\n",
       "      <td>2025</td>\n",
       "      <td>2025-05-25</td>\n",
       "      <td>R2025021</td>\n",
       "      <td>Charles Schwab Challenge</td>\n",
       "      <td>Colonial Country Club</td>\n",
       "      <td>Ben Griffin</td>\n",
       "      <td>1</td>\n",
       "      <td>1</td>\n",
       "      <td>-4</td>\n",
       "      <td>-7</td>\n",
       "      <td>-2</td>\n",
       "      <td>+1</td>\n",
       "      <td>$1,710,000.00</td>\n",
       "      <td>500.000</td>\n",
       "    </tr>\n",
       "    <tr>\n",
       "      <th>86</th>\n",
       "      <td>2025</td>\n",
       "      <td>2025-05-25</td>\n",
       "      <td>R2025021</td>\n",
       "      <td>Charles Schwab Challenge</td>\n",
       "      <td>Colonial Country Club</td>\n",
       "      <td>Matti Schmid</td>\n",
       "      <td>2</td>\n",
       "      <td>2</td>\n",
       "      <td>-4</td>\n",
       "      <td>-7</td>\n",
       "      <td>-2</td>\n",
       "      <td>+2</td>\n",
       "      <td>$1,035,500.00</td>\n",
       "      <td>300.000</td>\n",
       "    </tr>\n",
       "    <tr>\n",
       "      <th>19</th>\n",
       "      <td>2025</td>\n",
       "      <td>2025-05-25</td>\n",
       "      <td>R2025021</td>\n",
       "      <td>Charles Schwab Challenge</td>\n",
       "      <td>Colonial Country Club</td>\n",
       "      <td>Bud Cauley</td>\n",
       "      <td>3</td>\n",
       "      <td>3</td>\n",
       "      <td>-4</td>\n",
       "      <td>-1</td>\n",
       "      <td>-1</td>\n",
       "      <td>-3</td>\n",
       "      <td>$655,500.00</td>\n",
       "      <td>190.000</td>\n",
       "    </tr>\n",
       "    <tr>\n",
       "      <th>126</th>\n",
       "      <td>2025</td>\n",
       "      <td>2025-05-25</td>\n",
       "      <td>R2025021</td>\n",
       "      <td>Charles Schwab Challenge</td>\n",
       "      <td>Colonial Country Club</td>\n",
       "      <td>Tommy Fleetwood</td>\n",
       "      <td>T4</td>\n",
       "      <td>4</td>\n",
       "      <td>-3</td>\n",
       "      <td>-3</td>\n",
       "      <td>E</td>\n",
       "      <td>-2</td>\n",
       "      <td>$427,500.00</td>\n",
       "      <td>122.500</td>\n",
       "    </tr>\n",
       "    <tr>\n",
       "      <th>116</th>\n",
       "      <td>2025</td>\n",
       "      <td>2025-05-25</td>\n",
       "      <td>R2025021</td>\n",
       "      <td>Charles Schwab Challenge</td>\n",
       "      <td>Colonial Country Club</td>\n",
       "      <td>Scottie Scheffler</td>\n",
       "      <td>T4</td>\n",
       "      <td>4</td>\n",
       "      <td>-2</td>\n",
       "      <td>+1</td>\n",
       "      <td>-6</td>\n",
       "      <td>-1</td>\n",
       "      <td>$427,500.00</td>\n",
       "      <td>122.500</td>\n",
       "    </tr>\n",
       "  </tbody>\n",
       "</table>\n",
       "</div>"
      ],
      "text/plain": [
       "     SEASON ENDING_DATE  TOURN_ID                TOURNAMENT  \\\n",
       "11     2025  2025-05-25  R2025021  Charles Schwab Challenge   \n",
       "86     2025  2025-05-25  R2025021  Charles Schwab Challenge   \n",
       "19     2025  2025-05-25  R2025021  Charles Schwab Challenge   \n",
       "126    2025  2025-05-25  R2025021  Charles Schwab Challenge   \n",
       "116    2025  2025-05-25  R2025021  Charles Schwab Challenge   \n",
       "\n",
       "                    COURSE             PLAYER POS  FINAL_POS ROUNDS:1  \\\n",
       "11   Colonial Country Club        Ben Griffin   1          1       -4   \n",
       "86   Colonial Country Club       Matti Schmid   2          2       -4   \n",
       "19   Colonial Country Club         Bud Cauley   3          3       -4   \n",
       "126  Colonial Country Club    Tommy Fleetwood  T4          4       -3   \n",
       "116  Colonial Country Club  Scottie Scheffler  T4          4       -2   \n",
       "\n",
       "    ROUNDS:2 ROUNDS:3 ROUNDS:4 OFFICIAL_MONEY FEDEX_CUP_POINTS  \n",
       "11        -7       -2       +1  $1,710,000.00          500.000  \n",
       "86        -7       -2       +2  $1,035,500.00          300.000  \n",
       "19        -1       -1       -3    $655,500.00          190.000  \n",
       "126       -3        E       -2    $427,500.00          122.500  \n",
       "116       +1       -6       -1    $427,500.00          122.500  "
      ]
     },
     "execution_count": 2,
     "metadata": {},
     "output_type": "execute_result"
    }
   ],
   "source": [
    "importlib.reload(utils.db_utils)  # Only needed if you're actively editing db_utils.py\n",
    "from utils.db_utils import update_tournament_results\n",
    "\n",
    "# Change these each year!!\n",
    "season = 2025\n",
    "year = 20250  # Unique GraphQL year distinguishing number in case of multiple per year\n",
    "\n",
    "# Run the update\n",
    "db_path = \"data/golf.db\"  # Or use os.path.join(\"data\", \"golf.db\")\n",
    "tournDf = update_tournament_results(tournament_config, db_path, season, year)\n",
    "\n",
    "# Show just the most recent tournament added for confirmation\n",
    "from sqlalchemy import create_engine\n",
    "\n",
    "engine = create_engine(f\"sqlite:///{db_path}\")\n",
    "\n",
    "query = f\"\"\"\n",
    "SELECT *\n",
    "FROM tournaments\n",
    "WHERE TOURN_ID = '{tournament_config['old']['id']}'\n",
    "  AND ENDING_DATE = '{datetime.strptime(tournament_config['old']['date'], '%m/%d/%Y').date()}'\n",
    "\"\"\"\n",
    "\n",
    "recent = pd.read_sql(query, engine)\n",
    "engine.dispose()\n",
    "recent.sort_values(by='FINAL_POS').head()"
   ]
  },
  {
   "cell_type": "markdown",
   "id": "fb1dcb69",
   "metadata": {},
   "source": [
    "#### Stats"
   ]
  },
  {
   "cell_type": "code",
   "execution_count": 3,
   "id": "0cf3acf5",
   "metadata": {},
   "outputs": [
    {
     "name": "stdout",
     "output_type": "stream",
     "text": [
      "✅ Overwrote stats for season 2025 with 999 rows.\n"
     ]
    },
    {
     "data": {
      "text/html": [
       "<div>\n",
       "<style scoped>\n",
       "    .dataframe tbody tr th:only-of-type {\n",
       "        vertical-align: middle;\n",
       "    }\n",
       "\n",
       "    .dataframe tbody tr th {\n",
       "        vertical-align: top;\n",
       "    }\n",
       "\n",
       "    .dataframe thead th {\n",
       "        text-align: right;\n",
       "    }\n",
       "</style>\n",
       "<table border=\"1\" class=\"dataframe\">\n",
       "  <thead>\n",
       "    <tr style=\"text-align: right;\">\n",
       "      <th></th>\n",
       "      <th>PLAYER</th>\n",
       "      <th>SGTTG_RANK</th>\n",
       "      <th>SGTTG</th>\n",
       "      <th>SGOTT_RANK</th>\n",
       "      <th>SGOTT</th>\n",
       "      <th>SGAPR_RANK</th>\n",
       "      <th>SGAPR</th>\n",
       "      <th>SGATG_RANK</th>\n",
       "      <th>SGATG</th>\n",
       "      <th>SGP_RANK</th>\n",
       "      <th>...</th>\n",
       "      <th>DRIVING_DISTANCE</th>\n",
       "      <th>DRIVING_ACCURACY_RANK</th>\n",
       "      <th>DRIVING_ACCURACY</th>\n",
       "      <th>GIR_RANK</th>\n",
       "      <th>GIR</th>\n",
       "      <th>SCRAMBLING_RANK</th>\n",
       "      <th>SCRAMBLING</th>\n",
       "      <th>OWGR_RANK</th>\n",
       "      <th>OWGR</th>\n",
       "      <th>SEASON</th>\n",
       "    </tr>\n",
       "  </thead>\n",
       "  <tbody>\n",
       "    <tr>\n",
       "      <th>0</th>\n",
       "      <td>A.J. Ewart</td>\n",
       "      <td>NaN</td>\n",
       "      <td>NaN</td>\n",
       "      <td>NaN</td>\n",
       "      <td>NaN</td>\n",
       "      <td>NaN</td>\n",
       "      <td>NaN</td>\n",
       "      <td>NaN</td>\n",
       "      <td>NaN</td>\n",
       "      <td>NaN</td>\n",
       "      <td>...</td>\n",
       "      <td>NaN</td>\n",
       "      <td>NaN</td>\n",
       "      <td>NaN</td>\n",
       "      <td>NaN</td>\n",
       "      <td>NaN</td>\n",
       "      <td>NaN</td>\n",
       "      <td>NaN</td>\n",
       "      <td>580</td>\n",
       "      <td>.2011</td>\n",
       "      <td>2025</td>\n",
       "    </tr>\n",
       "    <tr>\n",
       "      <th>1</th>\n",
       "      <td>Aaron Baddeley</td>\n",
       "      <td>167.0</td>\n",
       "      <td>-0.965</td>\n",
       "      <td>178.0</td>\n",
       "      <td>-1.366</td>\n",
       "      <td>137.0</td>\n",
       "      <td>-0.203</td>\n",
       "      <td>3.0</td>\n",
       "      <td>0.604</td>\n",
       "      <td>161.0</td>\n",
       "      <td>...</td>\n",
       "      <td>288.9</td>\n",
       "      <td>119.0</td>\n",
       "      <td>56.64%</td>\n",
       "      <td>171.0</td>\n",
       "      <td>60.61%</td>\n",
       "      <td>89.0</td>\n",
       "      <td>60.68%</td>\n",
       "      <td>423</td>\n",
       "      <td>.3101</td>\n",
       "      <td>2025</td>\n",
       "    </tr>\n",
       "    <tr>\n",
       "      <th>2</th>\n",
       "      <td>Aaron Cockerill</td>\n",
       "      <td>NaN</td>\n",
       "      <td>NaN</td>\n",
       "      <td>NaN</td>\n",
       "      <td>NaN</td>\n",
       "      <td>NaN</td>\n",
       "      <td>NaN</td>\n",
       "      <td>NaN</td>\n",
       "      <td>NaN</td>\n",
       "      <td>NaN</td>\n",
       "      <td>...</td>\n",
       "      <td>NaN</td>\n",
       "      <td>NaN</td>\n",
       "      <td>NaN</td>\n",
       "      <td>NaN</td>\n",
       "      <td>NaN</td>\n",
       "      <td>NaN</td>\n",
       "      <td>NaN</td>\n",
       "      <td>360</td>\n",
       "      <td>.3777</td>\n",
       "      <td>2025</td>\n",
       "    </tr>\n",
       "    <tr>\n",
       "      <th>3</th>\n",
       "      <td>Aaron Rai</td>\n",
       "      <td>19.0</td>\n",
       "      <td>0.867</td>\n",
       "      <td>26.0</td>\n",
       "      <td>0.355</td>\n",
       "      <td>19.0</td>\n",
       "      <td>0.523</td>\n",
       "      <td>104.0</td>\n",
       "      <td>-0.011</td>\n",
       "      <td>119.0</td>\n",
       "      <td>...</td>\n",
       "      <td>287.3</td>\n",
       "      <td>1.0</td>\n",
       "      <td>73.36%</td>\n",
       "      <td>7.0</td>\n",
       "      <td>70.05%</td>\n",
       "      <td>129.0</td>\n",
       "      <td>58.87%</td>\n",
       "      <td>30</td>\n",
       "      <td>2.7271</td>\n",
       "      <td>2025</td>\n",
       "    </tr>\n",
       "    <tr>\n",
       "      <th>4</th>\n",
       "      <td>Aaron Wilkin</td>\n",
       "      <td>NaN</td>\n",
       "      <td>NaN</td>\n",
       "      <td>NaN</td>\n",
       "      <td>NaN</td>\n",
       "      <td>NaN</td>\n",
       "      <td>NaN</td>\n",
       "      <td>NaN</td>\n",
       "      <td>NaN</td>\n",
       "      <td>NaN</td>\n",
       "      <td>...</td>\n",
       "      <td>NaN</td>\n",
       "      <td>NaN</td>\n",
       "      <td>NaN</td>\n",
       "      <td>NaN</td>\n",
       "      <td>NaN</td>\n",
       "      <td>NaN</td>\n",
       "      <td>NaN</td>\n",
       "      <td>770</td>\n",
       "      <td>.1267</td>\n",
       "      <td>2025</td>\n",
       "    </tr>\n",
       "  </tbody>\n",
       "</table>\n",
       "<p>5 rows × 32 columns</p>\n",
       "</div>"
      ],
      "text/plain": [
       "            PLAYER  SGTTG_RANK   SGTTG  SGOTT_RANK   SGOTT  SGAPR_RANK  \\\n",
       "0       A.J. Ewart         NaN     NaN         NaN     NaN         NaN   \n",
       "1   Aaron Baddeley       167.0  -0.965       178.0  -1.366       137.0   \n",
       "2  Aaron Cockerill         NaN     NaN         NaN     NaN         NaN   \n",
       "3        Aaron Rai        19.0   0.867        26.0   0.355        19.0   \n",
       "4     Aaron Wilkin         NaN     NaN         NaN     NaN         NaN   \n",
       "\n",
       "    SGAPR  SGATG_RANK   SGATG  SGP_RANK  ... DRIVING_DISTANCE  \\\n",
       "0     NaN         NaN     NaN       NaN  ...              NaN   \n",
       "1  -0.203         3.0   0.604     161.0  ...            288.9   \n",
       "2     NaN         NaN     NaN       NaN  ...              NaN   \n",
       "3   0.523       104.0  -0.011     119.0  ...            287.3   \n",
       "4     NaN         NaN     NaN       NaN  ...              NaN   \n",
       "\n",
       "   DRIVING_ACCURACY_RANK DRIVING_ACCURACY  GIR_RANK     GIR  SCRAMBLING_RANK  \\\n",
       "0                    NaN              NaN       NaN     NaN              NaN   \n",
       "1                  119.0           56.64%     171.0  60.61%             89.0   \n",
       "2                    NaN              NaN       NaN     NaN              NaN   \n",
       "3                    1.0           73.36%       7.0  70.05%            129.0   \n",
       "4                    NaN              NaN       NaN     NaN              NaN   \n",
       "\n",
       "  SCRAMBLING  OWGR_RANK    OWGR  SEASON  \n",
       "0        NaN        580   .2011    2025  \n",
       "1     60.68%        423   .3101    2025  \n",
       "2        NaN        360   .3777    2025  \n",
       "3     58.87%         30  2.7271    2025  \n",
       "4        NaN        770   .1267    2025  \n",
       "\n",
       "[5 rows x 32 columns]"
      ]
     },
     "execution_count": 3,
     "metadata": {},
     "output_type": "execute_result"
    }
   ],
   "source": [
    "importlib.reload(utils.db_utils)\n",
    "from utils.db_utils import update_season_stats  # <- This line is essential\n",
    "\n",
    "# Change these each year!!\n",
    "statsYear = 2025\n",
    "\n",
    "stats_df = update_season_stats(statsYear, db_path)\n",
    "stats_df.head()"
   ]
  },
  {
   "cell_type": "markdown",
   "id": "e4d0572b",
   "metadata": {},
   "source": [
    "#### Odds\n",
    "Not usually needed for weekly routine."
   ]
  },
  {
   "cell_type": "markdown",
   "id": "ed73bb90",
   "metadata": {},
   "source": [
    "**Manual Fix! Odds name cleanup (only needed when joins fail)**\n",
    "\n",
    "Make sure to update the dictionaries in db_utils.py if new names need to be added."
   ]
  },
  {
   "cell_type": "code",
   "execution_count": 30,
   "id": "f47573f7",
   "metadata": {},
   "outputs": [
    {
     "name": "stdout",
     "output_type": "stream",
     "text": [
      "ℹ️ No odds rows required name cleanup.\n"
     ]
    },
    {
     "data": {
      "text/html": [
       "<div>\n",
       "<style scoped>\n",
       "    .dataframe tbody tr th:only-of-type {\n",
       "        vertical-align: middle;\n",
       "    }\n",
       "\n",
       "    .dataframe tbody tr th {\n",
       "        vertical-align: top;\n",
       "    }\n",
       "\n",
       "    .dataframe thead th {\n",
       "        text-align: right;\n",
       "    }\n",
       "</style>\n",
       "<table border=\"1\" class=\"dataframe\">\n",
       "  <thead>\n",
       "    <tr style=\"text-align: right;\">\n",
       "      <th></th>\n",
       "      <th>SEASON</th>\n",
       "      <th>TOURNAMENT</th>\n",
       "      <th>ENDING_DATE</th>\n",
       "      <th>PLAYER</th>\n",
       "      <th>ODDS</th>\n",
       "      <th>VEGAS_ODDS</th>\n",
       "      <th>TOURNAMENT_ORIG</th>\n",
       "      <th>PLAYER_ORIG</th>\n",
       "    </tr>\n",
       "  </thead>\n",
       "  <tbody>\n",
       "  </tbody>\n",
       "</table>\n",
       "</div>"
      ],
      "text/plain": [
       "Empty DataFrame\n",
       "Columns: [SEASON, TOURNAMENT, ENDING_DATE, PLAYER, ODDS, VEGAS_ODDS, TOURNAMENT_ORIG, PLAYER_ORIG]\n",
       "Index: []"
      ]
     },
     "execution_count": 30,
     "metadata": {},
     "output_type": "execute_result"
    }
   ],
   "source": [
    "importlib.reload(utils.db_utils)\n",
    "from utils.db_utils import clean_odds_names, PLAYER_NAME_MAP, TOURNAMENT_NAME_MAP\n",
    "\n",
    "db_path = \"data/golf.db\" \n",
    "updated_odds = clean_odds_names(db_path, TOURNAMENT_NAME_MAP, PLAYER_NAME_MAP)\n",
    "updated_odds.head()"
   ]
  },
  {
   "cell_type": "markdown",
   "id": "3ffcf8d8",
   "metadata": {},
   "source": [
    "**Historical Odds Updates**\n",
    "\n",
    "Only run this when loading in entire year odds at the start of each year or if corrections need to be made.  This will load in the entire year into the database and update it using the dictionary in db_utils.py."
   ]
  },
  {
   "cell_type": "code",
   "execution_count": 31,
   "id": "7b0ef77d",
   "metadata": {},
   "outputs": [
    {
     "name": "stdout",
     "output_type": "stream",
     "text": [
      "ℹ️ Historical odds for season 2023 already exist — no new rows added.\n"
     ]
    },
    {
     "data": {
      "text/html": [
       "<div>\n",
       "<style scoped>\n",
       "    .dataframe tbody tr th:only-of-type {\n",
       "        vertical-align: middle;\n",
       "    }\n",
       "\n",
       "    .dataframe tbody tr th {\n",
       "        vertical-align: top;\n",
       "    }\n",
       "\n",
       "    .dataframe thead th {\n",
       "        text-align: right;\n",
       "    }\n",
       "</style>\n",
       "<table border=\"1\" class=\"dataframe\">\n",
       "  <thead>\n",
       "    <tr style=\"text-align: right;\">\n",
       "      <th></th>\n",
       "      <th>SEASON</th>\n",
       "      <th>TOURNAMENT</th>\n",
       "      <th>ENDING_DATE</th>\n",
       "      <th>PLAYER</th>\n",
       "      <th>ODDS</th>\n",
       "      <th>VEGAS_ODDS</th>\n",
       "    </tr>\n",
       "  </thead>\n",
       "  <tbody>\n",
       "    <tr>\n",
       "      <th>4</th>\n",
       "      <td>2023</td>\n",
       "      <td>Fortinet Championship</td>\n",
       "      <td>2022-09-18</td>\n",
       "      <td>Hideki Matsuyama</td>\n",
       "      <td>18/1</td>\n",
       "      <td>18.0</td>\n",
       "    </tr>\n",
       "    <tr>\n",
       "      <th>5</th>\n",
       "      <td>2023</td>\n",
       "      <td>Fortinet Championship</td>\n",
       "      <td>2022-09-18</td>\n",
       "      <td>Max Homa</td>\n",
       "      <td>18/1</td>\n",
       "      <td>18.0</td>\n",
       "    </tr>\n",
       "    <tr>\n",
       "      <th>6</th>\n",
       "      <td>2023</td>\n",
       "      <td>Fortinet Championship</td>\n",
       "      <td>2022-09-18</td>\n",
       "      <td>Corey Conners</td>\n",
       "      <td>20/1</td>\n",
       "      <td>20.0</td>\n",
       "    </tr>\n",
       "    <tr>\n",
       "      <th>7</th>\n",
       "      <td>2023</td>\n",
       "      <td>Fortinet Championship</td>\n",
       "      <td>2022-09-18</td>\n",
       "      <td>Maverick McNealy</td>\n",
       "      <td>25/1</td>\n",
       "      <td>25.0</td>\n",
       "    </tr>\n",
       "    <tr>\n",
       "      <th>8</th>\n",
       "      <td>2023</td>\n",
       "      <td>Fortinet Championship</td>\n",
       "      <td>2022-09-18</td>\n",
       "      <td>Taylor Pendrith</td>\n",
       "      <td>25/1</td>\n",
       "      <td>25.0</td>\n",
       "    </tr>\n",
       "  </tbody>\n",
       "</table>\n",
       "</div>"
      ],
      "text/plain": [
       "   SEASON             TOURNAMENT ENDING_DATE            PLAYER  ODDS  \\\n",
       "4    2023  Fortinet Championship  2022-09-18  Hideki Matsuyama  18/1   \n",
       "5    2023  Fortinet Championship  2022-09-18          Max Homa  18/1   \n",
       "6    2023  Fortinet Championship  2022-09-18     Corey Conners  20/1   \n",
       "7    2023  Fortinet Championship  2022-09-18  Maverick McNealy  25/1   \n",
       "8    2023  Fortinet Championship  2022-09-18   Taylor Pendrith  25/1   \n",
       "\n",
       "   VEGAS_ODDS  \n",
       "4        18.0  \n",
       "5        18.0  \n",
       "6        20.0  \n",
       "7        25.0  \n",
       "8        25.0  "
      ]
     },
     "execution_count": 31,
     "metadata": {},
     "output_type": "execute_result"
    }
   ],
   "source": [
    "importlib.reload(utils.db_utils)\n",
    "from utils.db_utils import import_historical_odds\n",
    "\n",
    "oddsYear = \"2022-2023\"    # URL segment\n",
    "season = 2023             # PGA Tour season\n",
    "db_path = \"data/golf.db\"\n",
    "\n",
    "odds_df = import_historical_odds(oddsYear, season, db_path)\n",
    "odds_df.head()"
   ]
  },
  {
   "cell_type": "markdown",
   "id": "82fc5dfe",
   "metadata": {},
   "source": [
    "**Not normally needed**\n",
    "\n",
    "The code below is a way to troubleshoot the odds function that is in db_utils.py.  If it does not pull the stats correctly, we can run it outside of the db_utils.py file and explore what might be wrong with it, iterating until it works, and then using that fix to update db_utils.py.  This is not normally needed, but wanted to leave this in place as a reference because this odds website can be tricky."
   ]
  },
  {
   "cell_type": "code",
   "execution_count": 32,
   "id": "94460f27",
   "metadata": {},
   "outputs": [
    {
     "name": "stdout",
     "output_type": "stream",
     "text": [
      "📍 Detected: Safeway Open — Ending: 2020-09-13\n",
      "📍 Detected: US Open — Ending: 2020-09-20\n",
      "📍 Detected: R & C Championship — Ending: 2020-09-27\n",
      "📍 Detected: at Big Cedar Lodge - — Ending: 2020-09-22\n",
      "📍 Detected: Sanderson Farms Champ — Ending: 2020-10-04\n",
      "📍 Detected: Shriners H for C Open — Ending: 2020-10-11\n",
      "📍 Detected: The CJ Cup — Ending: 2020-10-18\n",
      "📍 Detected: ZOZO CHAMPIONSHIP — Ending: 2020-10-25\n",
      "📍 Detected: Bermuda Championship — Ending: 2020-11-01\n",
      "📍 Detected: Vivint Houston Open — Ending: 2020-11-08\n",
      "📍 Detected: The Masters — Ending: 2020-11-15\n",
      "📍 Detected: The RSM Classic — Ending: 2020-11-22\n",
      "📍 Detected: Champions for Change — Ending: 2020-11-27\n",
      "📍 Detected: Mayakoba Golf Classic — Ending: 2020-12-06\n",
      "📍 Detected: QBE Shootout — Ending: 2020-12-13\n",
      "📍 Detected: Sentry Tourn of Champions — Ending: 2021-01-10\n",
      "📍 Detected: Sony Open in Hawaii — Ending: 2021-01-17\n",
      "📍 Detected: The American Express — Ending: 2021-01-24\n",
      "📍 Detected: Abu Dhabi HSBC Champ — Ending: 2021-01-24\n",
      "📍 Detected: Farmers Insurance Open — Ending: 2021-01-31\n",
      "📍 Detected: Dubai Desert Classic — Ending: 2021-01-31\n",
      "📍 Detected: W M Phoenix Open — Ending: 2021-02-07\n",
      "📍 Detected: King Abdullah Economic City, — Ending: 2021-02-07\n",
      "📍 Detected: AT&T Pebble Beach Pro-Am — Ending: 2021-02-14\n",
      "📍 Detected: Collegiate Showcase — Ending: 2021-02-15\n",
      "📍 Detected: The Genesis Invitational — Ending: 2021-02-21\n",
      "📍 Detected: WGC-Workday Championship — Ending: 2021-02-28\n",
      "📍 Detected: Puerto Rico Open — Ending: 2021-02-28\n",
      "📍 Detected: Arnold Palmer Invitational — Ending: 2021-03-07\n",
      "📍 Detected: THE PLAYERS Championship — Ending: 2021-03-14\n",
      "📍 Detected: Qatar Masters — Ending: 2021-03-14\n",
      "📍 Detected: The Honda Classic — Ending: 2021-03-21\n",
      "📍 Detected: Magical Kenya Open — Ending: 2021-03-21\n",
      "📍 Detected: Kenya Savannah Classic — Ending: 2021-03-26\n",
      "📍 Detected: WGC-Dell Tech Match Play — Ending: 2021-03-28\n",
      "📍 Detected: Corales Punta Cana Champ — Ending: 2021-03-28\n",
      "📍 Detected: Valero Texas Open — Ending: 2021-04-04\n",
      "📍 Detected: The Masters — Ending: 2021-04-11\n",
      "📍 Detected: RBC Heritage — Ending: 2021-04-18\n",
      "📍 Detected: Austrian Golf Open — Ending: 2021-04-18\n",
      "📍 Detected: MGM Resorts Championship — Ending: 2021-04-18\n",
      "📍 Detected: Zurich Classic of New Orleans — Ending: 2021-04-25\n",
      "📍 Detected: Gran Canaria Lopesan Open — Ending: 2021-04-25\n",
      "📍 Detected: Valspar Championship — Ending: 2021-05-02\n",
      "📍 Detected: Tenerife Open — Ending: 2021-05-02\n",
      "📍 Detected: Wells Fargo Championship — Ending: 2021-05-09\n",
      "📍 Detected: Canary Islands Championship — Ending: 2021-05-09\n",
      "📍 Detected: AT&T Byron Nelson — Ending: 2021-05-16\n",
      "📍 Detected: British Masters — Ending: 2021-05-16\n",
      "📍 Detected: PGA Championship — Ending: 2021-05-23\n",
      "📍 Detected: Charles Schwab Challenge — Ending: 2021-05-30\n",
      "📍 Detected: Made in Himmerland — Ending: 2021-05-30\n",
      "📍 Detected: The Memorial Tournament — Ending: 2021-06-06\n",
      "📍 Detected: Porsche European Open — Ending: 2021-06-07\n",
      "📍 Detected: Palmetto Championship — Ending: 2021-06-13\n",
      "📍 Detected: Scandinavian Mixed — Ending: 2021-06-13\n",
      "📍 Detected: US Open — Ending: 2021-06-20\n",
      "📍 Detected: Travelers Championship — Ending: 2021-06-27\n",
      "📍 Detected: BMW International Open — Ending: 2021-06-27\n",
      "📍 Detected: Rocket Mortgage Classic — Ending: 2021-07-04\n",
      "📍 Detected: Dubai Duty Free Irish Open — Ending: 2021-07-04\n",
      "📍 Detected: Moonlight Basin - — Ending: 2021-07-06\n",
      "📍 Detected: John Deere Classic — Ending: 2021-07-11\n",
      "📍 Detected: abrdn Scottish Open — Ending: 2021-07-11\n",
      "📍 Detected: The Open Championship — Ending: 2021-07-18\n",
      "📍 Detected: Barbasol Championship — Ending: 2021-07-18\n",
      "📍 Detected: 3M Open — Ending: 2021-07-25\n",
      "📍 Detected: Cazoo Open — Ending: 2021-07-25\n",
      "📍 Detected: Men's Olympic Golf — Ending: 2021-08-01\n",
      "📍 Detected: World Invitational — Ending: 2021-08-01\n",
      "📍 Detected: WGC-FedEx St. Jude Invit — Ending: 2021-08-08\n",
      "📍 Detected: Barracuda Championship — Ending: 2021-08-08\n",
      "📍 Detected: Hero Open — Ending: 2021-08-08\n",
      "📍 Detected: Wyndham Championship — Ending: 2021-08-15\n",
      "📍 Detected: Cazoo Classic — Ending: 2021-08-15\n",
      "📍 Detected: The Northern Trust — Ending: 2021-08-23\n",
      "📍 Detected: D+D Real Czech Masters — Ending: 2021-08-22\n",
      "📍 Detected: BMW Championship — Ending: 2021-08-29\n",
      "📍 Detected: Omega European Masters — Ending: 2021-08-29\n",
      "📍 Detected: TOUR Championship — Ending: 2021-09-05\n",
      "📍 Detected: Italian Open — Ending: 2021-09-05\n",
      "📍 Detected: BMW PGA Championship — Ending: 2021-09-12\n",
      "📍 Detected: Dutch Open — Ending: 2021-09-19\n",
      "📍 Detected: 43rd Ryder Cup — Ending: 2021-09-26\n",
      "📍 Detected: Alfred Dunhill Links Champ — Ending: 2021-10-03\n",
      "📍 Detected: Open de Espana — Ending: 2021-10-10\n",
      "📍 Detected: Andalucia Masters — Ending: 2021-10-17\n",
      "📍 Detected: Mallorca Golf Open — Ending: 2021-10-24\n",
      "📍 Detected: Portugal Masters — Ending: 2021-11-07\n",
      "📍 Detected: AVIV Dubai Championship — Ending: 2021-11-14\n",
      "📍 Detected: DP World Tour Championship — Ending: 2021-11-21\n",
      "📍 Detected: Golf Nippon Series JT Cup — Ending: 2021-12-05\n"
     ]
    },
    {
     "data": {
      "text/html": [
       "<div>\n",
       "<style scoped>\n",
       "    .dataframe tbody tr th:only-of-type {\n",
       "        vertical-align: middle;\n",
       "    }\n",
       "\n",
       "    .dataframe tbody tr th {\n",
       "        vertical-align: top;\n",
       "    }\n",
       "\n",
       "    .dataframe thead th {\n",
       "        text-align: right;\n",
       "    }\n",
       "</style>\n",
       "<table border=\"1\" class=\"dataframe\">\n",
       "  <thead>\n",
       "    <tr style=\"text-align: right;\">\n",
       "      <th></th>\n",
       "      <th>SEASON</th>\n",
       "      <th>TOURNAMENT</th>\n",
       "      <th>ENDING_DATE</th>\n",
       "      <th>PLAYER</th>\n",
       "      <th>ODDS</th>\n",
       "      <th>VEGAS_ODDS</th>\n",
       "    </tr>\n",
       "  </thead>\n",
       "  <tbody>\n",
       "    <tr>\n",
       "      <th>0</th>\n",
       "      <td>2021</td>\n",
       "      <td>Safeway Open</td>\n",
       "      <td>2020-09-13</td>\n",
       "      <td>Phil Mickelson</td>\n",
       "      <td>20/1</td>\n",
       "      <td>20.0</td>\n",
       "    </tr>\n",
       "    <tr>\n",
       "      <th>1</th>\n",
       "      <td>2021</td>\n",
       "      <td>Safeway Open</td>\n",
       "      <td>2020-09-13</td>\n",
       "      <td>Si Woo Kim</td>\n",
       "      <td>20/1</td>\n",
       "      <td>20.0</td>\n",
       "    </tr>\n",
       "    <tr>\n",
       "      <th>2</th>\n",
       "      <td>2021</td>\n",
       "      <td>Safeway Open</td>\n",
       "      <td>2020-09-13</td>\n",
       "      <td>Brendan Steele</td>\n",
       "      <td>20/1</td>\n",
       "      <td>20.0</td>\n",
       "    </tr>\n",
       "    <tr>\n",
       "      <th>3</th>\n",
       "      <td>2021</td>\n",
       "      <td>Safeway Open</td>\n",
       "      <td>2020-09-13</td>\n",
       "      <td>Shane Lowry</td>\n",
       "      <td>25/1</td>\n",
       "      <td>25.0</td>\n",
       "    </tr>\n",
       "    <tr>\n",
       "      <th>4</th>\n",
       "      <td>2021</td>\n",
       "      <td>Safeway Open</td>\n",
       "      <td>2020-09-13</td>\n",
       "      <td>Sergio Garcia</td>\n",
       "      <td>30/1</td>\n",
       "      <td>30.0</td>\n",
       "    </tr>\n",
       "  </tbody>\n",
       "</table>\n",
       "</div>"
      ],
      "text/plain": [
       "   SEASON    TOURNAMENT ENDING_DATE          PLAYER  ODDS  VEGAS_ODDS\n",
       "0    2021  Safeway Open  2020-09-13  Phil Mickelson  20/1        20.0\n",
       "1    2021  Safeway Open  2020-09-13      Si Woo Kim  20/1        20.0\n",
       "2    2021  Safeway Open  2020-09-13  Brendan Steele  20/1        20.0\n",
       "3    2021  Safeway Open  2020-09-13     Shane Lowry  25/1        25.0\n",
       "4    2021  Safeway Open  2020-09-13   Sergio Garcia  30/1        30.0"
      ]
     },
     "metadata": {},
     "output_type": "display_data"
    }
   ],
   "source": [
    "import pandas as pd\n",
    "import numpy as np\n",
    "import requests\n",
    "import re\n",
    "from datetime import datetime\n",
    "from io import StringIO\n",
    "\n",
    "# === USER INPUT ===\n",
    "oddsYear = \"2020-2021\"    # URL segment\n",
    "season = 2021        # PGA Tour season\n",
    "\n",
    "url = f\"http://golfodds.com/archives-{oddsYear}.html\"\n",
    "response = requests.get(url)\n",
    "tables = pd.read_html(StringIO(response.text))\n",
    "# raw_df = tables[5]  # the actual table of interest\n",
    "# Find the largest 2-column table that contains at least some odds-like strings\n",
    "raw_df = None\n",
    "for tbl in tables:\n",
    "    if tbl.shape[1] == 2 and tbl.shape[0] > 50:  # Rough filter\n",
    "        sample = tbl.iloc[:, 1].astype(str).str.contains(r\"\\d+/\\d+\").sum()\n",
    "        if sample > 5:\n",
    "            raw_df = tbl\n",
    "            break\n",
    "\n",
    "if raw_df is None:\n",
    "    raise ValueError(\"❌ Could not find valid odds table on the page.\")\n",
    "\n",
    "# === STEP 1: Initial clean-up ===\n",
    "df = raw_df.dropna(how=\"all\").reset_index(drop=True)\n",
    "df.columns = [\"PLAYER\", \"ODDS\"]\n",
    "\n",
    "# 🔧 Clean up non-breaking spaces and extra whitespace\n",
    "df[\"PLAYER\"] = (\n",
    "    df[\"PLAYER\"]\n",
    "    .astype(str)\n",
    "    .str.replace(\"\\xa0\", \" \", regex=False)\n",
    "    .str.replace(r\"\\s+\", \" \", regex=True)\n",
    "    .str.strip()\n",
    ")\n",
    "\n",
    "df.insert(loc=0, column=\"SEASON\", value=season)\n",
    "df.insert(loc=1, column=\"TOURNAMENT\", value=np.nan)\n",
    "df.insert(loc=2, column=\"ENDING_DATE\", value=np.nan)\n",
    "\n",
    "# === STEP 2: Helper function for parsing date strings ===\n",
    "def parse_ending_date(text):\n",
    "    import re\n",
    "    from datetime import datetime\n",
    "\n",
    "    # Normalize whitespace and symbols\n",
    "    text = (\n",
    "        text.replace(\"\\u2013\", \"-\")\n",
    "            .replace(\"–\", \"-\")\n",
    "            .replace(\"\\xa0\", \" \")\n",
    "    )\n",
    "    text = re.sub(r\"\\bSept(?!ember)\\b\", \"Sep\", text)\n",
    "\n",
    "    # ✅ Fix typo: \"Match\" → \"March\" only when used in a date context\n",
    "    text = re.sub(r\"\\bMatch(?=\\s+\\d{1,2}\\s*[-–]\\s*\\d{1,2},\\s*\\d{4})\", \"March\", text)\n",
    "\n",
    "    # Pattern 1: \"July 30 - August 2, 2015\" or \"Oct 29 - Nov 1, 2015\"\n",
    "    match = re.search(r\"(\\w+)\\s\\d+\\s*-\\s*(\\w+)\\s(\\d+),\\s(\\d{4})\", text)\n",
    "    if match:\n",
    "        month2, day2, year = match.group(2), match.group(3), match.group(4)\n",
    "        for fmt in [\"%B %d, %Y\", \"%b %d, %Y\"]:\n",
    "            try:\n",
    "                return datetime.strptime(f\"{month2} {day2}, {year}\", fmt).date()\n",
    "            except ValueError:\n",
    "                continue\n",
    "\n",
    "    # Pattern 2: \"November 21-24, 2024\"\n",
    "    match = re.search(r\"(\\w+)\\s\\d+-\\d+,\\s(\\d{4})\", text)\n",
    "    if match:\n",
    "        month, year = match.group(1), match.group(2)\n",
    "        day = re.search(r\"(\\d+)-(\\d+)\", text).group(2)\n",
    "        for fmt in [\"%B %d, %Y\", \"%b %d, %Y\"]:\n",
    "            try:\n",
    "                return datetime.strptime(f\"{month} {day}, {year}\", fmt).date()\n",
    "            except ValueError:\n",
    "                continue\n",
    "\n",
    "    # Pattern 3: \"Sunday, October 20, 2019\"\n",
    "    try:\n",
    "        return datetime.strptime(text.strip(), \"%A, %B %d, %Y\").date()\n",
    "    except ValueError:\n",
    "        pass\n",
    "\n",
    "    # Pattern 4: \"October 20, 2019\"\n",
    "    try:\n",
    "        return datetime.strptime(text.strip(), \"%B %d, %Y\").date()\n",
    "    except ValueError:\n",
    "        pass\n",
    "\n",
    "    return None\n",
    "\n",
    "last_tourn_name = None\n",
    "last_date = None\n",
    "\n",
    "# === STEP 3: Iterate block by block ===\n",
    "final_rows = []\n",
    "i = 0\n",
    "last_tourn_name = None\n",
    "last_end_date = None\n",
    "\n",
    "while i < len(df) - 4:\n",
    "    player_i = str(df.loc[i, \"PLAYER\"])\n",
    "    player_i2 = str(df.loc[i + 2, \"PLAYER\"])\n",
    "    player_i3 = str(df.loc[i + 3, \"PLAYER\"]).lower()\n",
    "\n",
    "    # Detect start of a new tournament block\n",
    "    is_header = (\n",
    "        pd.isna(df.loc[i, \"ODDS\"]) and\n",
    "        pd.isna(df.loc[i + 1, \"ODDS\"]) and (\n",
    "            re.search(r\"\\w+\\s\\d+\\s*[-–]\\s*(\\w+\\s)?\\d+,\\s\\d{4}\", player_i2) or\n",
    "            re.search(r\"(Monday|Tuesday|Wednesday|Thursday|Friday|Saturday|Sunday),?\\s+\\w+\\s\\d{1,2},\\s\\d{4}\", player_i2)\n",
    "        )\n",
    "    )\n",
    "\n",
    "    if is_header:\n",
    "        tourn_name = player_i.strip()\n",
    "        end_date = parse_ending_date(player_i2)\n",
    "\n",
    "        # Skip cancelled or empty blocks\n",
    "        if \"cancelled\" in player_i3:\n",
    "            print(f\"⚠️ Skipping cancelled tournament: {tourn_name} — {end_date}\")\n",
    "            i += 4\n",
    "            continue\n",
    "\n",
    "        # Avoid duplicate block processing\n",
    "        if tourn_name == last_tourn_name and end_date == last_end_date:\n",
    "            i += 1\n",
    "            continue\n",
    "\n",
    "        print(f\"📍 Detected: {tourn_name} — Ending: {end_date}\")\n",
    "        last_tourn_name = tourn_name\n",
    "        last_end_date = end_date\n",
    "        i += 4  # Skip header lines\n",
    "\n",
    "        # Collect all player rows until next header block\n",
    "        while i < len(df) - 2:\n",
    "            next_i2 = str(df.loc[i + 2, \"PLAYER\"])\n",
    "            is_next_header = (\n",
    "                pd.isna(df.loc[i, \"ODDS\"]) and\n",
    "                pd.isna(df.loc[i + 1, \"ODDS\"]) and (\n",
    "                    re.search(r\"\\w+\\s\\d+\\s*[-–]\\s*(\\w+\\s)?\\d+,\\s\\d{4}\", next_i2) or\n",
    "                    re.search(r\"(Monday|Tuesday|Wednesday|Thursday|Friday|Saturday|Sunday),?\\s+\\w+\\s\\d{1,2},\\s\\d{4}\", next_i2)\n",
    "                )\n",
    "            )\n",
    "            if is_next_header:\n",
    "                break\n",
    "\n",
    "            if pd.notna(df.loc[i, \"ODDS\"]):\n",
    "                row = df.loc[i].copy()\n",
    "                row[\"TOURNAMENT\"] = tourn_name\n",
    "                row[\"ENDING_DATE\"] = end_date\n",
    "                final_rows.append(row)\n",
    "            i += 1\n",
    "    else:\n",
    "        i += 1\n",
    "\n",
    "# === STEP 4: Create cleaned DataFrame ===\n",
    "clean_df = pd.DataFrame(final_rows)\n",
    "\n",
    "# ✅ Prevent crash if nothing was parsed\n",
    "if clean_df.empty or \"PLAYER\" not in clean_df.columns:\n",
    "    print(f\"⚠️ No valid tournament blocks detected for season {season} ({oddsYear})\")\n",
    "    final_df = pd.DataFrame()  # Safe fallback\n",
    "else:\n",
    "    # Remove winner tag\n",
    "    clean_df[\"PLAYER\"] = clean_df[\"PLAYER\"].str.replace(r\"\\s\\*Winner\\*\", \"\", regex=True)\n",
    "\n",
    "    # Clean odds to numeric\n",
    "    clean_df[\"VEGAS_ODDS\"] = (\n",
    "        clean_df[\"ODDS\"]\n",
    "        .str.replace(\",\", \"\")\n",
    "        .str.extract(r\"(\\d+)/(\\d+)\")\n",
    "        .astype(float)\n",
    "        .apply(lambda x: x[0] / x[1], axis=1)\n",
    "    )\n",
    "\n",
    "    # Final output with source index for debugging\n",
    "    final_df = clean_df[\n",
    "        [\"SEASON\", \"TOURNAMENT\", \"ENDING_DATE\", \"PLAYER\", \"ODDS\", \"VEGAS_ODDS\"]\n",
    "    ].reset_index(drop=True)\n",
    "\n",
    "    # Drop non-standard team events (e.g., Presidents Cup, Ryder Cup)\n",
    "    drop_terms = [\"Presidents Cup\", \"Ryder Cup\"]\n",
    "    final_df = final_df[~final_df[\"TOURNAMENT\"].str.contains(\"|\".join(drop_terms), case=False, na=False)]\n",
    "\n",
    "    display(final_df.head())\n",
    "\n"
   ]
  },
  {
   "cell_type": "code",
   "execution_count": 33,
   "id": "1ba6ed1d",
   "metadata": {},
   "outputs": [
    {
     "name": "stdout",
     "output_type": "stream",
     "text": [
      "🧪 Rows with invalid ENDING_DATE values: 0\n"
     ]
    },
    {
     "data": {
      "text/html": [
       "<div>\n",
       "<style scoped>\n",
       "    .dataframe tbody tr th:only-of-type {\n",
       "        vertical-align: middle;\n",
       "    }\n",
       "\n",
       "    .dataframe tbody tr th {\n",
       "        vertical-align: top;\n",
       "    }\n",
       "\n",
       "    .dataframe thead th {\n",
       "        text-align: right;\n",
       "    }\n",
       "</style>\n",
       "<table border=\"1\" class=\"dataframe\">\n",
       "  <thead>\n",
       "    <tr style=\"text-align: right;\">\n",
       "      <th></th>\n",
       "      <th>SEASON</th>\n",
       "      <th>TOURNAMENT</th>\n",
       "      <th>ENDING_DATE</th>\n",
       "      <th>PLAYER</th>\n",
       "      <th>ODDS</th>\n",
       "      <th>VEGAS_ODDS</th>\n",
       "    </tr>\n",
       "  </thead>\n",
       "  <tbody>\n",
       "  </tbody>\n",
       "</table>\n",
       "</div>"
      ],
      "text/plain": [
       "Empty DataFrame\n",
       "Columns: [SEASON, TOURNAMENT, ENDING_DATE, PLAYER, ODDS, VEGAS_ODDS]\n",
       "Index: []"
      ]
     },
     "metadata": {},
     "output_type": "display_data"
    }
   ],
   "source": [
    "from datetime import datetime, date\n",
    "# ✅ Check for non-date types in ENDING_DATE\n",
    "non_dates = final_df[~final_df[\"ENDING_DATE\"].apply(lambda x: isinstance(x, date))]\n",
    "\n",
    "print(f\"🧪 Rows with invalid ENDING_DATE values: {len(non_dates)}\")\n",
    "display(non_dates.head(10))\n",
    "\n"
   ]
  },
  {
   "cell_type": "code",
   "execution_count": 34,
   "id": "d42bfaa0",
   "metadata": {},
   "outputs": [
    {
     "name": "stdout",
     "output_type": "stream",
     "text": [
      "🚨 Duplicate primary keys in final_df: 0\n"
     ]
    },
    {
     "data": {
      "text/html": [
       "<div>\n",
       "<style scoped>\n",
       "    .dataframe tbody tr th:only-of-type {\n",
       "        vertical-align: middle;\n",
       "    }\n",
       "\n",
       "    .dataframe tbody tr th {\n",
       "        vertical-align: top;\n",
       "    }\n",
       "\n",
       "    .dataframe thead th {\n",
       "        text-align: right;\n",
       "    }\n",
       "</style>\n",
       "<table border=\"1\" class=\"dataframe\">\n",
       "  <thead>\n",
       "    <tr style=\"text-align: right;\">\n",
       "      <th></th>\n",
       "      <th>SEASON</th>\n",
       "      <th>TOURNAMENT</th>\n",
       "      <th>ENDING_DATE</th>\n",
       "      <th>PLAYER</th>\n",
       "      <th>ODDS</th>\n",
       "      <th>VEGAS_ODDS</th>\n",
       "    </tr>\n",
       "  </thead>\n",
       "  <tbody>\n",
       "  </tbody>\n",
       "</table>\n",
       "</div>"
      ],
      "text/plain": [
       "Empty DataFrame\n",
       "Columns: [SEASON, TOURNAMENT, ENDING_DATE, PLAYER, ODDS, VEGAS_ODDS]\n",
       "Index: []"
      ]
     },
     "metadata": {},
     "output_type": "display_data"
    }
   ],
   "source": [
    "dupes = final_df.duplicated(subset=[\"SEASON\", \"TOURNAMENT\", \"ENDING_DATE\", \"PLAYER\"], keep=False)\n",
    "\n",
    "print(f\"🚨 Duplicate primary keys in final_df: {dupes.sum()}\")\n",
    "display(final_df[dupes].sort_values(by=[\"SEASON\", \"TOURNAMENT\", \"PLAYER\"]))"
   ]
  },
  {
   "cell_type": "markdown",
   "id": "d5827d49",
   "metadata": {},
   "source": [
    "## Historical Data"
   ]
  },
  {
   "cell_type": "markdown",
   "id": "72034314",
   "metadata": {},
   "source": [
    "### Pull Relevant Seasons\n",
    "Do a check to see when this course or tournament have been historically played."
   ]
  },
  {
   "cell_type": "code",
   "execution_count": 2,
   "id": "fea9c7c6",
   "metadata": {},
   "outputs": [
    {
     "name": "stdout",
     "output_type": "stream",
     "text": [
      "ℹ️ Found 9 relevant tournaments from course or tournament name.\n"
     ]
    },
    {
     "data": {
      "text/html": [
       "<div>\n",
       "<style scoped>\n",
       "    .dataframe tbody tr th:only-of-type {\n",
       "        vertical-align: middle;\n",
       "    }\n",
       "\n",
       "    .dataframe tbody tr th {\n",
       "        vertical-align: top;\n",
       "    }\n",
       "\n",
       "    .dataframe thead th {\n",
       "        text-align: right;\n",
       "    }\n",
       "</style>\n",
       "<table border=\"1\" class=\"dataframe\">\n",
       "  <thead>\n",
       "    <tr style=\"text-align: right;\">\n",
       "      <th></th>\n",
       "      <th>SEASON</th>\n",
       "      <th>COURSE</th>\n",
       "      <th>TOURN_ID</th>\n",
       "      <th>TOURNAMENT</th>\n",
       "      <th>ENDING_DATE</th>\n",
       "    </tr>\n",
       "  </thead>\n",
       "  <tbody>\n",
       "    <tr>\n",
       "      <th>608</th>\n",
       "      <td>2016</td>\n",
       "      <td>Muirfield Village Golf Club</td>\n",
       "      <td>023</td>\n",
       "      <td>the Memorial Tournament presented by Nationwide</td>\n",
       "      <td>2016-06-05</td>\n",
       "    </tr>\n",
       "    <tr>\n",
       "      <th>489</th>\n",
       "      <td>2017</td>\n",
       "      <td>Muirfield Village Golf Club</td>\n",
       "      <td>023</td>\n",
       "      <td>the Memorial Tournament presented by Nationwide</td>\n",
       "      <td>2017-06-04</td>\n",
       "    </tr>\n",
       "    <tr>\n",
       "      <th>369</th>\n",
       "      <td>2018</td>\n",
       "      <td>Muirfield Village Golf Club</td>\n",
       "      <td>023</td>\n",
       "      <td>the Memorial Tournament presented by Nationwide</td>\n",
       "      <td>2018-06-03</td>\n",
       "    </tr>\n",
       "    <tr>\n",
       "      <th>249</th>\n",
       "      <td>2019</td>\n",
       "      <td>Muirfield Village Golf Club</td>\n",
       "      <td>023</td>\n",
       "      <td>the Memorial Tournament presented by Nationwide</td>\n",
       "      <td>2019-06-02</td>\n",
       "    </tr>\n",
       "    <tr>\n",
       "      <th>119</th>\n",
       "      <td>2020</td>\n",
       "      <td>Muirfield Village Golf Club</td>\n",
       "      <td>023</td>\n",
       "      <td>the Memorial Tournament presented by Nationwide</td>\n",
       "      <td>2020-07-19</td>\n",
       "    </tr>\n",
       "    <tr>\n",
       "      <th>0</th>\n",
       "      <td>2021</td>\n",
       "      <td>Muirfield Village Golf Club</td>\n",
       "      <td>023</td>\n",
       "      <td>the Memorial Tournament presented by Nationwide</td>\n",
       "      <td>2021-06-06</td>\n",
       "    </tr>\n",
       "    <tr>\n",
       "      <th>848</th>\n",
       "      <td>2022</td>\n",
       "      <td>Muirfield Village Golf Club</td>\n",
       "      <td>023</td>\n",
       "      <td>the Memorial Tournament presented by Workday</td>\n",
       "      <td>2022-06-05</td>\n",
       "    </tr>\n",
       "    <tr>\n",
       "      <th>967</th>\n",
       "      <td>2023</td>\n",
       "      <td>Muirfield Village Golf Club</td>\n",
       "      <td>R2023023</td>\n",
       "      <td>the Memorial Tournament presented by Workday</td>\n",
       "      <td>2023-06-04</td>\n",
       "    </tr>\n",
       "    <tr>\n",
       "      <th>1087</th>\n",
       "      <td>2024</td>\n",
       "      <td>Muirfield Village Golf Club</td>\n",
       "      <td>R2024023</td>\n",
       "      <td>the Memorial Tournament presented by Workday</td>\n",
       "      <td>2024-06-09</td>\n",
       "    </tr>\n",
       "  </tbody>\n",
       "</table>\n",
       "</div>"
      ],
      "text/plain": [
       "      SEASON                       COURSE  TOURN_ID  \\\n",
       "608     2016  Muirfield Village Golf Club       023   \n",
       "489     2017  Muirfield Village Golf Club       023   \n",
       "369     2018  Muirfield Village Golf Club       023   \n",
       "249     2019  Muirfield Village Golf Club       023   \n",
       "119     2020  Muirfield Village Golf Club       023   \n",
       "0       2021  Muirfield Village Golf Club       023   \n",
       "848     2022  Muirfield Village Golf Club       023   \n",
       "967     2023  Muirfield Village Golf Club  R2023023   \n",
       "1087    2024  Muirfield Village Golf Club  R2024023   \n",
       "\n",
       "                                           TOURNAMENT ENDING_DATE  \n",
       "608   the Memorial Tournament presented by Nationwide  2016-06-05  \n",
       "489   the Memorial Tournament presented by Nationwide  2017-06-04  \n",
       "369   the Memorial Tournament presented by Nationwide  2018-06-03  \n",
       "249   the Memorial Tournament presented by Nationwide  2019-06-02  \n",
       "119   the Memorial Tournament presented by Nationwide  2020-07-19  \n",
       "0     the Memorial Tournament presented by Nationwide  2021-06-06  \n",
       "848      the Memorial Tournament presented by Workday  2022-06-05  \n",
       "967      the Memorial Tournament presented by Workday  2023-06-04  \n",
       "1087     the Memorial Tournament presented by Workday  2024-06-09  "
      ]
     },
     "execution_count": 2,
     "metadata": {},
     "output_type": "execute_result"
    }
   ],
   "source": [
    "importlib.reload(utils.db_utils)\n",
    "from utils.db_utils import get_combined_history_seasons\n",
    "\n",
    "# === USER INPUT ===\n",
    "seasons = list(range(2016, 2025))  # Adjust as needed\n",
    "db_path = \"data/golf.db\"\n",
    "\n",
    "# Pull course and tournament from config\n",
    "n_course = tournament_config[\"new\"][\"course\"]\n",
    "n_tourn = tournament_config[\"new\"][\"name\"]\n",
    "\n",
    "# Fetch relevant history\n",
    "history_df = get_combined_history_seasons(db_path, course=n_course, tournament=n_tourn, allowed_seasons=seasons)\n",
    "history_df.head(20)\n"
   ]
  },
  {
   "cell_type": "markdown",
   "id": "09441025",
   "metadata": {},
   "source": [
    "### Cut Percentage and FedEx Points\n",
    "Use a rolling-window approach to look at the most recent cut percentage and how many FedEx cup points have been accumulated recently. This will intentionally not match the PGA Tour stats that start over every year, but will have the same amount of data all the time.  We also add a new feature called Form Density which divides the FedEx Cup Points by the Total Events."
   ]
  },
  {
   "cell_type": "code",
   "execution_count": 3,
   "id": "300bf650",
   "metadata": {},
   "outputs": [
    {
     "name": "stdout",
     "output_type": "stream",
     "text": [
      "\n",
      "📆 2016-06-05 — the Memorial Tournament presented by Nationwide (417 players)\n"
     ]
    },
    {
     "data": {
      "text/html": [
       "<div>\n",
       "<style scoped>\n",
       "    .dataframe tbody tr th:only-of-type {\n",
       "        vertical-align: middle;\n",
       "    }\n",
       "\n",
       "    .dataframe tbody tr th {\n",
       "        vertical-align: top;\n",
       "    }\n",
       "\n",
       "    .dataframe thead th {\n",
       "        text-align: right;\n",
       "    }\n",
       "</style>\n",
       "<table border=\"1\" class=\"dataframe\">\n",
       "  <thead>\n",
       "    <tr style=\"text-align: right;\">\n",
       "      <th></th>\n",
       "      <th>PLAYER</th>\n",
       "      <th>TOTAL_EVENTS_PLAYED</th>\n",
       "      <th>CUTS_MADE</th>\n",
       "      <th>FEDEX_CUP_POINTS</th>\n",
       "      <th>CUT_PERCENTAGE</th>\n",
       "      <th>form_density</th>\n",
       "      <th>CONSECUTIVE_CUTS</th>\n",
       "      <th>ENDING_DATE</th>\n",
       "      <th>TOURNAMENT</th>\n",
       "    </tr>\n",
       "  </thead>\n",
       "  <tbody>\n",
       "    <tr>\n",
       "      <th>0</th>\n",
       "      <td>Aaron Baddeley</td>\n",
       "      <td>16</td>\n",
       "      <td>10</td>\n",
       "      <td>378.0</td>\n",
       "      <td>62.5</td>\n",
       "      <td>23.62</td>\n",
       "      <td>1</td>\n",
       "      <td>2016-06-05</td>\n",
       "      <td>the Memorial Tournament presented by Nationwide</td>\n",
       "    </tr>\n",
       "    <tr>\n",
       "      <th>1</th>\n",
       "      <td>Aaron Wise</td>\n",
       "      <td>1</td>\n",
       "      <td>0</td>\n",
       "      <td>0.0</td>\n",
       "      <td>0.0</td>\n",
       "      <td>0.00</td>\n",
       "      <td>0</td>\n",
       "      <td>2016-06-05</td>\n",
       "      <td>the Memorial Tournament presented by Nationwide</td>\n",
       "    </tr>\n",
       "    <tr>\n",
       "      <th>2</th>\n",
       "      <td>Abraham Ancer</td>\n",
       "      <td>10</td>\n",
       "      <td>2</td>\n",
       "      <td>43.0</td>\n",
       "      <td>20.0</td>\n",
       "      <td>4.30</td>\n",
       "      <td>2</td>\n",
       "      <td>2016-06-05</td>\n",
       "      <td>the Memorial Tournament presented by Nationwide</td>\n",
       "    </tr>\n",
       "  </tbody>\n",
       "</table>\n",
       "</div>"
      ],
      "text/plain": [
       "           PLAYER  TOTAL_EVENTS_PLAYED  CUTS_MADE  FEDEX_CUP_POINTS  \\\n",
       "0  Aaron Baddeley                   16         10             378.0   \n",
       "1      Aaron Wise                    1          0               0.0   \n",
       "2   Abraham Ancer                   10          2              43.0   \n",
       "\n",
       "   CUT_PERCENTAGE  form_density  CONSECUTIVE_CUTS ENDING_DATE  \\\n",
       "0            62.5         23.62                 1  2016-06-05   \n",
       "1             0.0          0.00                 0  2016-06-05   \n",
       "2            20.0          4.30                 2  2016-06-05   \n",
       "\n",
       "                                        TOURNAMENT  \n",
       "0  the Memorial Tournament presented by Nationwide  \n",
       "1  the Memorial Tournament presented by Nationwide  \n",
       "2  the Memorial Tournament presented by Nationwide  "
      ]
     },
     "metadata": {},
     "output_type": "display_data"
    },
    {
     "name": "stdout",
     "output_type": "stream",
     "text": [
      "\n",
      "📆 2017-06-04 — the Memorial Tournament presented by Nationwide (404 players)\n"
     ]
    },
    {
     "data": {
      "text/html": [
       "<div>\n",
       "<style scoped>\n",
       "    .dataframe tbody tr th:only-of-type {\n",
       "        vertical-align: middle;\n",
       "    }\n",
       "\n",
       "    .dataframe tbody tr th {\n",
       "        vertical-align: top;\n",
       "    }\n",
       "\n",
       "    .dataframe thead th {\n",
       "        text-align: right;\n",
       "    }\n",
       "</style>\n",
       "<table border=\"1\" class=\"dataframe\">\n",
       "  <thead>\n",
       "    <tr style=\"text-align: right;\">\n",
       "      <th></th>\n",
       "      <th>PLAYER</th>\n",
       "      <th>TOTAL_EVENTS_PLAYED</th>\n",
       "      <th>CUTS_MADE</th>\n",
       "      <th>FEDEX_CUP_POINTS</th>\n",
       "      <th>CUT_PERCENTAGE</th>\n",
       "      <th>form_density</th>\n",
       "      <th>CONSECUTIVE_CUTS</th>\n",
       "      <th>ENDING_DATE</th>\n",
       "      <th>TOURNAMENT</th>\n",
       "    </tr>\n",
       "  </thead>\n",
       "  <tbody>\n",
       "    <tr>\n",
       "      <th>0</th>\n",
       "      <td>Aaron Baddeley</td>\n",
       "      <td>15</td>\n",
       "      <td>8</td>\n",
       "      <td>264.29</td>\n",
       "      <td>53.3</td>\n",
       "      <td>17.62</td>\n",
       "      <td>0</td>\n",
       "      <td>2017-06-04</td>\n",
       "      <td>the Memorial Tournament presented by Nationwide</td>\n",
       "    </tr>\n",
       "    <tr>\n",
       "      <th>1</th>\n",
       "      <td>Aaron Wise</td>\n",
       "      <td>6</td>\n",
       "      <td>4</td>\n",
       "      <td>0.00</td>\n",
       "      <td>66.7</td>\n",
       "      <td>0.00</td>\n",
       "      <td>4</td>\n",
       "      <td>2017-06-04</td>\n",
       "      <td>the Memorial Tournament presented by Nationwide</td>\n",
       "    </tr>\n",
       "    <tr>\n",
       "      <th>2</th>\n",
       "      <td>Abraham Ancer</td>\n",
       "      <td>1</td>\n",
       "      <td>1</td>\n",
       "      <td>0.00</td>\n",
       "      <td>100.0</td>\n",
       "      <td>0.00</td>\n",
       "      <td>1</td>\n",
       "      <td>2017-06-04</td>\n",
       "      <td>the Memorial Tournament presented by Nationwide</td>\n",
       "    </tr>\n",
       "  </tbody>\n",
       "</table>\n",
       "</div>"
      ],
      "text/plain": [
       "           PLAYER  TOTAL_EVENTS_PLAYED  CUTS_MADE  FEDEX_CUP_POINTS  \\\n",
       "0  Aaron Baddeley                   15          8            264.29   \n",
       "1      Aaron Wise                    6          4              0.00   \n",
       "2   Abraham Ancer                    1          1              0.00   \n",
       "\n",
       "   CUT_PERCENTAGE  form_density  CONSECUTIVE_CUTS ENDING_DATE  \\\n",
       "0            53.3         17.62                 0  2017-06-04   \n",
       "1            66.7          0.00                 4  2017-06-04   \n",
       "2           100.0          0.00                 1  2017-06-04   \n",
       "\n",
       "                                        TOURNAMENT  \n",
       "0  the Memorial Tournament presented by Nationwide  \n",
       "1  the Memorial Tournament presented by Nationwide  \n",
       "2  the Memorial Tournament presented by Nationwide  "
      ]
     },
     "metadata": {},
     "output_type": "display_data"
    },
    {
     "name": "stdout",
     "output_type": "stream",
     "text": [
      "\n",
      "📆 2018-06-03 — the Memorial Tournament presented by Nationwide (408 players)\n"
     ]
    },
    {
     "data": {
      "text/html": [
       "<div>\n",
       "<style scoped>\n",
       "    .dataframe tbody tr th:only-of-type {\n",
       "        vertical-align: middle;\n",
       "    }\n",
       "\n",
       "    .dataframe tbody tr th {\n",
       "        vertical-align: top;\n",
       "    }\n",
       "\n",
       "    .dataframe thead th {\n",
       "        text-align: right;\n",
       "    }\n",
       "</style>\n",
       "<table border=\"1\" class=\"dataframe\">\n",
       "  <thead>\n",
       "    <tr style=\"text-align: right;\">\n",
       "      <th></th>\n",
       "      <th>PLAYER</th>\n",
       "      <th>TOTAL_EVENTS_PLAYED</th>\n",
       "      <th>CUTS_MADE</th>\n",
       "      <th>FEDEX_CUP_POINTS</th>\n",
       "      <th>CUT_PERCENTAGE</th>\n",
       "      <th>form_density</th>\n",
       "      <th>CONSECUTIVE_CUTS</th>\n",
       "      <th>ENDING_DATE</th>\n",
       "      <th>TOURNAMENT</th>\n",
       "    </tr>\n",
       "  </thead>\n",
       "  <tbody>\n",
       "    <tr>\n",
       "      <th>0</th>\n",
       "      <td>A.J. McInerney</td>\n",
       "      <td>2</td>\n",
       "      <td>1</td>\n",
       "      <td>0.00</td>\n",
       "      <td>50.0</td>\n",
       "      <td>0.00</td>\n",
       "      <td>0</td>\n",
       "      <td>2018-06-03</td>\n",
       "      <td>the Memorial Tournament presented by Nationwide</td>\n",
       "    </tr>\n",
       "    <tr>\n",
       "      <th>1</th>\n",
       "      <td>Aaron Baddeley</td>\n",
       "      <td>17</td>\n",
       "      <td>10</td>\n",
       "      <td>239.12</td>\n",
       "      <td>58.8</td>\n",
       "      <td>14.07</td>\n",
       "      <td>0</td>\n",
       "      <td>2018-06-03</td>\n",
       "      <td>the Memorial Tournament presented by Nationwide</td>\n",
       "    </tr>\n",
       "    <tr>\n",
       "      <th>2</th>\n",
       "      <td>Aaron Wise</td>\n",
       "      <td>18</td>\n",
       "      <td>11</td>\n",
       "      <td>992.76</td>\n",
       "      <td>61.1</td>\n",
       "      <td>55.15</td>\n",
       "      <td>0</td>\n",
       "      <td>2018-06-03</td>\n",
       "      <td>the Memorial Tournament presented by Nationwide</td>\n",
       "    </tr>\n",
       "  </tbody>\n",
       "</table>\n",
       "</div>"
      ],
      "text/plain": [
       "           PLAYER  TOTAL_EVENTS_PLAYED  CUTS_MADE  FEDEX_CUP_POINTS  \\\n",
       "0  A.J. McInerney                    2          1              0.00   \n",
       "1  Aaron Baddeley                   17         10            239.12   \n",
       "2      Aaron Wise                   18         11            992.76   \n",
       "\n",
       "   CUT_PERCENTAGE  form_density  CONSECUTIVE_CUTS ENDING_DATE  \\\n",
       "0            50.0          0.00                 0  2018-06-03   \n",
       "1            58.8         14.07                 0  2018-06-03   \n",
       "2            61.1         55.15                 0  2018-06-03   \n",
       "\n",
       "                                        TOURNAMENT  \n",
       "0  the Memorial Tournament presented by Nationwide  \n",
       "1  the Memorial Tournament presented by Nationwide  \n",
       "2  the Memorial Tournament presented by Nationwide  "
      ]
     },
     "metadata": {},
     "output_type": "display_data"
    },
    {
     "name": "stdout",
     "output_type": "stream",
     "text": [
      "\n",
      "📆 2019-06-02 — the Memorial Tournament presented by Nationwide (431 players)\n"
     ]
    },
    {
     "data": {
      "text/html": [
       "<div>\n",
       "<style scoped>\n",
       "    .dataframe tbody tr th:only-of-type {\n",
       "        vertical-align: middle;\n",
       "    }\n",
       "\n",
       "    .dataframe tbody tr th {\n",
       "        vertical-align: top;\n",
       "    }\n",
       "\n",
       "    .dataframe thead th {\n",
       "        text-align: right;\n",
       "    }\n",
       "</style>\n",
       "<table border=\"1\" class=\"dataframe\">\n",
       "  <thead>\n",
       "    <tr style=\"text-align: right;\">\n",
       "      <th></th>\n",
       "      <th>PLAYER</th>\n",
       "      <th>TOTAL_EVENTS_PLAYED</th>\n",
       "      <th>CUTS_MADE</th>\n",
       "      <th>FEDEX_CUP_POINTS</th>\n",
       "      <th>CUT_PERCENTAGE</th>\n",
       "      <th>form_density</th>\n",
       "      <th>CONSECUTIVE_CUTS</th>\n",
       "      <th>ENDING_DATE</th>\n",
       "      <th>TOURNAMENT</th>\n",
       "    </tr>\n",
       "  </thead>\n",
       "  <tbody>\n",
       "    <tr>\n",
       "      <th>0</th>\n",
       "      <td>Aaron Baddeley</td>\n",
       "      <td>12</td>\n",
       "      <td>7</td>\n",
       "      <td>236.58</td>\n",
       "      <td>58.3</td>\n",
       "      <td>19.72</td>\n",
       "      <td>1</td>\n",
       "      <td>2019-06-02</td>\n",
       "      <td>the Memorial Tournament presented by Nationwide</td>\n",
       "    </tr>\n",
       "    <tr>\n",
       "      <th>1</th>\n",
       "      <td>Aaron Wise</td>\n",
       "      <td>12</td>\n",
       "      <td>9</td>\n",
       "      <td>485.89</td>\n",
       "      <td>75.0</td>\n",
       "      <td>40.49</td>\n",
       "      <td>4</td>\n",
       "      <td>2019-06-02</td>\n",
       "      <td>the Memorial Tournament presented by Nationwide</td>\n",
       "    </tr>\n",
       "    <tr>\n",
       "      <th>2</th>\n",
       "      <td>Abraham Ancer</td>\n",
       "      <td>15</td>\n",
       "      <td>12</td>\n",
       "      <td>403.34</td>\n",
       "      <td>80.0</td>\n",
       "      <td>26.89</td>\n",
       "      <td>3</td>\n",
       "      <td>2019-06-02</td>\n",
       "      <td>the Memorial Tournament presented by Nationwide</td>\n",
       "    </tr>\n",
       "  </tbody>\n",
       "</table>\n",
       "</div>"
      ],
      "text/plain": [
       "           PLAYER  TOTAL_EVENTS_PLAYED  CUTS_MADE  FEDEX_CUP_POINTS  \\\n",
       "0  Aaron Baddeley                   12          7            236.58   \n",
       "1      Aaron Wise                   12          9            485.89   \n",
       "2   Abraham Ancer                   15         12            403.34   \n",
       "\n",
       "   CUT_PERCENTAGE  form_density  CONSECUTIVE_CUTS ENDING_DATE  \\\n",
       "0            58.3         19.72                 1  2019-06-02   \n",
       "1            75.0         40.49                 4  2019-06-02   \n",
       "2            80.0         26.89                 3  2019-06-02   \n",
       "\n",
       "                                        TOURNAMENT  \n",
       "0  the Memorial Tournament presented by Nationwide  \n",
       "1  the Memorial Tournament presented by Nationwide  \n",
       "2  the Memorial Tournament presented by Nationwide  "
      ]
     },
     "metadata": {},
     "output_type": "display_data"
    },
    {
     "name": "stdout",
     "output_type": "stream",
     "text": [
      "\n",
      "📆 2020-07-19 — the Memorial Tournament presented by Nationwide (383 players)\n"
     ]
    },
    {
     "data": {
      "text/html": [
       "<div>\n",
       "<style scoped>\n",
       "    .dataframe tbody tr th:only-of-type {\n",
       "        vertical-align: middle;\n",
       "    }\n",
       "\n",
       "    .dataframe tbody tr th {\n",
       "        vertical-align: top;\n",
       "    }\n",
       "\n",
       "    .dataframe thead th {\n",
       "        text-align: right;\n",
       "    }\n",
       "</style>\n",
       "<table border=\"1\" class=\"dataframe\">\n",
       "  <thead>\n",
       "    <tr style=\"text-align: right;\">\n",
       "      <th></th>\n",
       "      <th>PLAYER</th>\n",
       "      <th>TOTAL_EVENTS_PLAYED</th>\n",
       "      <th>CUTS_MADE</th>\n",
       "      <th>FEDEX_CUP_POINTS</th>\n",
       "      <th>CUT_PERCENTAGE</th>\n",
       "      <th>form_density</th>\n",
       "      <th>CONSECUTIVE_CUTS</th>\n",
       "      <th>ENDING_DATE</th>\n",
       "      <th>TOURNAMENT</th>\n",
       "    </tr>\n",
       "  </thead>\n",
       "  <tbody>\n",
       "    <tr>\n",
       "      <th>0</th>\n",
       "      <td>Aaron Baddeley</td>\n",
       "      <td>10</td>\n",
       "      <td>4</td>\n",
       "      <td>78.40</td>\n",
       "      <td>40.0</td>\n",
       "      <td>7.84</td>\n",
       "      <td>0</td>\n",
       "      <td>2020-07-19</td>\n",
       "      <td>the Memorial Tournament presented by Nationwide</td>\n",
       "    </tr>\n",
       "    <tr>\n",
       "      <th>1</th>\n",
       "      <td>Aaron Wise</td>\n",
       "      <td>12</td>\n",
       "      <td>4</td>\n",
       "      <td>110.75</td>\n",
       "      <td>33.3</td>\n",
       "      <td>9.23</td>\n",
       "      <td>0</td>\n",
       "      <td>2020-07-19</td>\n",
       "      <td>the Memorial Tournament presented by Nationwide</td>\n",
       "    </tr>\n",
       "    <tr>\n",
       "      <th>2</th>\n",
       "      <td>Abraham Ancer</td>\n",
       "      <td>10</td>\n",
       "      <td>10</td>\n",
       "      <td>839.66</td>\n",
       "      <td>100.0</td>\n",
       "      <td>83.97</td>\n",
       "      <td>10</td>\n",
       "      <td>2020-07-19</td>\n",
       "      <td>the Memorial Tournament presented by Nationwide</td>\n",
       "    </tr>\n",
       "  </tbody>\n",
       "</table>\n",
       "</div>"
      ],
      "text/plain": [
       "           PLAYER  TOTAL_EVENTS_PLAYED  CUTS_MADE  FEDEX_CUP_POINTS  \\\n",
       "0  Aaron Baddeley                   10          4             78.40   \n",
       "1      Aaron Wise                   12          4            110.75   \n",
       "2   Abraham Ancer                   10         10            839.66   \n",
       "\n",
       "   CUT_PERCENTAGE  form_density  CONSECUTIVE_CUTS ENDING_DATE  \\\n",
       "0            40.0          7.84                 0  2020-07-19   \n",
       "1            33.3          9.23                 0  2020-07-19   \n",
       "2           100.0         83.97                10  2020-07-19   \n",
       "\n",
       "                                        TOURNAMENT  \n",
       "0  the Memorial Tournament presented by Nationwide  \n",
       "1  the Memorial Tournament presented by Nationwide  \n",
       "2  the Memorial Tournament presented by Nationwide  "
      ]
     },
     "metadata": {},
     "output_type": "display_data"
    },
    {
     "name": "stdout",
     "output_type": "stream",
     "text": [
      "\n",
      "📆 2021-06-06 — the Memorial Tournament presented by Nationwide (472 players)\n"
     ]
    },
    {
     "data": {
      "text/html": [
       "<div>\n",
       "<style scoped>\n",
       "    .dataframe tbody tr th:only-of-type {\n",
       "        vertical-align: middle;\n",
       "    }\n",
       "\n",
       "    .dataframe tbody tr th {\n",
       "        vertical-align: top;\n",
       "    }\n",
       "\n",
       "    .dataframe thead th {\n",
       "        text-align: right;\n",
       "    }\n",
       "</style>\n",
       "<table border=\"1\" class=\"dataframe\">\n",
       "  <thead>\n",
       "    <tr style=\"text-align: right;\">\n",
       "      <th></th>\n",
       "      <th>PLAYER</th>\n",
       "      <th>TOTAL_EVENTS_PLAYED</th>\n",
       "      <th>CUTS_MADE</th>\n",
       "      <th>FEDEX_CUP_POINTS</th>\n",
       "      <th>CUT_PERCENTAGE</th>\n",
       "      <th>form_density</th>\n",
       "      <th>CONSECUTIVE_CUTS</th>\n",
       "      <th>ENDING_DATE</th>\n",
       "      <th>TOURNAMENT</th>\n",
       "    </tr>\n",
       "  </thead>\n",
       "  <tbody>\n",
       "    <tr>\n",
       "      <th>0</th>\n",
       "      <td>Aaron Baddeley</td>\n",
       "      <td>11</td>\n",
       "      <td>2</td>\n",
       "      <td>18.08</td>\n",
       "      <td>18.2</td>\n",
       "      <td>1.64</td>\n",
       "      <td>0</td>\n",
       "      <td>2021-06-06</td>\n",
       "      <td>the Memorial Tournament presented by Nationwide</td>\n",
       "    </tr>\n",
       "    <tr>\n",
       "      <th>1</th>\n",
       "      <td>Aaron Rai</td>\n",
       "      <td>1</td>\n",
       "      <td>0</td>\n",
       "      <td>0.00</td>\n",
       "      <td>0.0</td>\n",
       "      <td>0.00</td>\n",
       "      <td>0</td>\n",
       "      <td>2021-06-06</td>\n",
       "      <td>the Memorial Tournament presented by Nationwide</td>\n",
       "    </tr>\n",
       "    <tr>\n",
       "      <th>2</th>\n",
       "      <td>Aaron Terrazas</td>\n",
       "      <td>1</td>\n",
       "      <td>0</td>\n",
       "      <td>0.00</td>\n",
       "      <td>0.0</td>\n",
       "      <td>0.00</td>\n",
       "      <td>0</td>\n",
       "      <td>2021-06-06</td>\n",
       "      <td>the Memorial Tournament presented by Nationwide</td>\n",
       "    </tr>\n",
       "  </tbody>\n",
       "</table>\n",
       "</div>"
      ],
      "text/plain": [
       "           PLAYER  TOTAL_EVENTS_PLAYED  CUTS_MADE  FEDEX_CUP_POINTS  \\\n",
       "0  Aaron Baddeley                   11          2             18.08   \n",
       "1       Aaron Rai                    1          0              0.00   \n",
       "2  Aaron Terrazas                    1          0              0.00   \n",
       "\n",
       "   CUT_PERCENTAGE  form_density  CONSECUTIVE_CUTS ENDING_DATE  \\\n",
       "0            18.2          1.64                 0  2021-06-06   \n",
       "1             0.0          0.00                 0  2021-06-06   \n",
       "2             0.0          0.00                 0  2021-06-06   \n",
       "\n",
       "                                        TOURNAMENT  \n",
       "0  the Memorial Tournament presented by Nationwide  \n",
       "1  the Memorial Tournament presented by Nationwide  \n",
       "2  the Memorial Tournament presented by Nationwide  "
      ]
     },
     "metadata": {},
     "output_type": "display_data"
    },
    {
     "name": "stdout",
     "output_type": "stream",
     "text": [
      "\n",
      "📆 2022-06-05 — the Memorial Tournament presented by Workday (476 players)\n"
     ]
    },
    {
     "data": {
      "text/html": [
       "<div>\n",
       "<style scoped>\n",
       "    .dataframe tbody tr th:only-of-type {\n",
       "        vertical-align: middle;\n",
       "    }\n",
       "\n",
       "    .dataframe tbody tr th {\n",
       "        vertical-align: top;\n",
       "    }\n",
       "\n",
       "    .dataframe thead th {\n",
       "        text-align: right;\n",
       "    }\n",
       "</style>\n",
       "<table border=\"1\" class=\"dataframe\">\n",
       "  <thead>\n",
       "    <tr style=\"text-align: right;\">\n",
       "      <th></th>\n",
       "      <th>PLAYER</th>\n",
       "      <th>TOTAL_EVENTS_PLAYED</th>\n",
       "      <th>CUTS_MADE</th>\n",
       "      <th>FEDEX_CUP_POINTS</th>\n",
       "      <th>CUT_PERCENTAGE</th>\n",
       "      <th>form_density</th>\n",
       "      <th>CONSECUTIVE_CUTS</th>\n",
       "      <th>ENDING_DATE</th>\n",
       "      <th>TOURNAMENT</th>\n",
       "    </tr>\n",
       "  </thead>\n",
       "  <tbody>\n",
       "    <tr>\n",
       "      <th>0</th>\n",
       "      <td>Aaron Baddeley</td>\n",
       "      <td>5</td>\n",
       "      <td>2</td>\n",
       "      <td>56.96</td>\n",
       "      <td>40.0</td>\n",
       "      <td>11.39</td>\n",
       "      <td>0</td>\n",
       "      <td>2022-06-05</td>\n",
       "      <td>the Memorial Tournament presented by Workday</td>\n",
       "    </tr>\n",
       "    <tr>\n",
       "      <th>1</th>\n",
       "      <td>Aaron Beverly</td>\n",
       "      <td>1</td>\n",
       "      <td>0</td>\n",
       "      <td>0.00</td>\n",
       "      <td>0.0</td>\n",
       "      <td>0.00</td>\n",
       "      <td>0</td>\n",
       "      <td>2022-06-05</td>\n",
       "      <td>the Memorial Tournament presented by Workday</td>\n",
       "    </tr>\n",
       "    <tr>\n",
       "      <th>2</th>\n",
       "      <td>Aaron Jarvis</td>\n",
       "      <td>1</td>\n",
       "      <td>0</td>\n",
       "      <td>0.00</td>\n",
       "      <td>0.0</td>\n",
       "      <td>0.00</td>\n",
       "      <td>0</td>\n",
       "      <td>2022-06-05</td>\n",
       "      <td>the Memorial Tournament presented by Workday</td>\n",
       "    </tr>\n",
       "  </tbody>\n",
       "</table>\n",
       "</div>"
      ],
      "text/plain": [
       "           PLAYER  TOTAL_EVENTS_PLAYED  CUTS_MADE  FEDEX_CUP_POINTS  \\\n",
       "0  Aaron Baddeley                    5          2             56.96   \n",
       "1   Aaron Beverly                    1          0              0.00   \n",
       "2    Aaron Jarvis                    1          0              0.00   \n",
       "\n",
       "   CUT_PERCENTAGE  form_density  CONSECUTIVE_CUTS ENDING_DATE  \\\n",
       "0            40.0         11.39                 0  2022-06-05   \n",
       "1             0.0          0.00                 0  2022-06-05   \n",
       "2             0.0          0.00                 0  2022-06-05   \n",
       "\n",
       "                                     TOURNAMENT  \n",
       "0  the Memorial Tournament presented by Workday  \n",
       "1  the Memorial Tournament presented by Workday  \n",
       "2  the Memorial Tournament presented by Workday  "
      ]
     },
     "metadata": {},
     "output_type": "display_data"
    },
    {
     "name": "stdout",
     "output_type": "stream",
     "text": [
      "\n",
      "📆 2023-06-04 — the Memorial Tournament presented by Workday (488 players)\n"
     ]
    },
    {
     "data": {
      "text/html": [
       "<div>\n",
       "<style scoped>\n",
       "    .dataframe tbody tr th:only-of-type {\n",
       "        vertical-align: middle;\n",
       "    }\n",
       "\n",
       "    .dataframe tbody tr th {\n",
       "        vertical-align: top;\n",
       "    }\n",
       "\n",
       "    .dataframe thead th {\n",
       "        text-align: right;\n",
       "    }\n",
       "</style>\n",
       "<table border=\"1\" class=\"dataframe\">\n",
       "  <thead>\n",
       "    <tr style=\"text-align: right;\">\n",
       "      <th></th>\n",
       "      <th>PLAYER</th>\n",
       "      <th>TOTAL_EVENTS_PLAYED</th>\n",
       "      <th>CUTS_MADE</th>\n",
       "      <th>FEDEX_CUP_POINTS</th>\n",
       "      <th>CUT_PERCENTAGE</th>\n",
       "      <th>form_density</th>\n",
       "      <th>CONSECUTIVE_CUTS</th>\n",
       "      <th>ENDING_DATE</th>\n",
       "      <th>TOURNAMENT</th>\n",
       "    </tr>\n",
       "  </thead>\n",
       "  <tbody>\n",
       "    <tr>\n",
       "      <th>0</th>\n",
       "      <td>Aaron Baddeley</td>\n",
       "      <td>14</td>\n",
       "      <td>11</td>\n",
       "      <td>342.286</td>\n",
       "      <td>78.6</td>\n",
       "      <td>24.45</td>\n",
       "      <td>5</td>\n",
       "      <td>2023-06-04</td>\n",
       "      <td>the Memorial Tournament presented by Workday</td>\n",
       "    </tr>\n",
       "    <tr>\n",
       "      <th>1</th>\n",
       "      <td>Aaron Beverly</td>\n",
       "      <td>1</td>\n",
       "      <td>1</td>\n",
       "      <td>0.000</td>\n",
       "      <td>100.0</td>\n",
       "      <td>0.00</td>\n",
       "      <td>1</td>\n",
       "      <td>2023-06-04</td>\n",
       "      <td>the Memorial Tournament presented by Workday</td>\n",
       "    </tr>\n",
       "    <tr>\n",
       "      <th>2</th>\n",
       "      <td>Aaron Jarvis</td>\n",
       "      <td>1</td>\n",
       "      <td>0</td>\n",
       "      <td>0.000</td>\n",
       "      <td>0.0</td>\n",
       "      <td>0.00</td>\n",
       "      <td>0</td>\n",
       "      <td>2023-06-04</td>\n",
       "      <td>the Memorial Tournament presented by Workday</td>\n",
       "    </tr>\n",
       "  </tbody>\n",
       "</table>\n",
       "</div>"
      ],
      "text/plain": [
       "           PLAYER  TOTAL_EVENTS_PLAYED  CUTS_MADE  FEDEX_CUP_POINTS  \\\n",
       "0  Aaron Baddeley                   14         11           342.286   \n",
       "1   Aaron Beverly                    1          1             0.000   \n",
       "2    Aaron Jarvis                    1          0             0.000   \n",
       "\n",
       "   CUT_PERCENTAGE  form_density  CONSECUTIVE_CUTS ENDING_DATE  \\\n",
       "0            78.6         24.45                 5  2023-06-04   \n",
       "1           100.0          0.00                 1  2023-06-04   \n",
       "2             0.0          0.00                 0  2023-06-04   \n",
       "\n",
       "                                     TOURNAMENT  \n",
       "0  the Memorial Tournament presented by Workday  \n",
       "1  the Memorial Tournament presented by Workday  \n",
       "2  the Memorial Tournament presented by Workday  "
      ]
     },
     "metadata": {},
     "output_type": "display_data"
    },
    {
     "name": "stdout",
     "output_type": "stream",
     "text": [
      "\n",
      "📆 2024-06-09 — the Memorial Tournament presented by Workday (468 players)\n"
     ]
    },
    {
     "data": {
      "text/html": [
       "<div>\n",
       "<style scoped>\n",
       "    .dataframe tbody tr th:only-of-type {\n",
       "        vertical-align: middle;\n",
       "    }\n",
       "\n",
       "    .dataframe tbody tr th {\n",
       "        vertical-align: top;\n",
       "    }\n",
       "\n",
       "    .dataframe thead th {\n",
       "        text-align: right;\n",
       "    }\n",
       "</style>\n",
       "<table border=\"1\" class=\"dataframe\">\n",
       "  <thead>\n",
       "    <tr style=\"text-align: right;\">\n",
       "      <th></th>\n",
       "      <th>PLAYER</th>\n",
       "      <th>TOTAL_EVENTS_PLAYED</th>\n",
       "      <th>CUTS_MADE</th>\n",
       "      <th>FEDEX_CUP_POINTS</th>\n",
       "      <th>CUT_PERCENTAGE</th>\n",
       "      <th>form_density</th>\n",
       "      <th>CONSECUTIVE_CUTS</th>\n",
       "      <th>ENDING_DATE</th>\n",
       "      <th>TOURNAMENT</th>\n",
       "    </tr>\n",
       "  </thead>\n",
       "  <tbody>\n",
       "    <tr>\n",
       "      <th>0</th>\n",
       "      <td>Aaron Baddeley</td>\n",
       "      <td>14</td>\n",
       "      <td>9</td>\n",
       "      <td>181.975</td>\n",
       "      <td>64.3</td>\n",
       "      <td>13.00</td>\n",
       "      <td>0</td>\n",
       "      <td>2024-06-09</td>\n",
       "      <td>the Memorial Tournament presented by Workday</td>\n",
       "    </tr>\n",
       "    <tr>\n",
       "      <th>1</th>\n",
       "      <td>Aaron Cockerill</td>\n",
       "      <td>1</td>\n",
       "      <td>0</td>\n",
       "      <td>0.000</td>\n",
       "      <td>0.0</td>\n",
       "      <td>0.00</td>\n",
       "      <td>0</td>\n",
       "      <td>2024-06-09</td>\n",
       "      <td>the Memorial Tournament presented by Workday</td>\n",
       "    </tr>\n",
       "    <tr>\n",
       "      <th>2</th>\n",
       "      <td>Aaron Rai</td>\n",
       "      <td>15</td>\n",
       "      <td>12</td>\n",
       "      <td>442.007</td>\n",
       "      <td>80.0</td>\n",
       "      <td>29.47</td>\n",
       "      <td>6</td>\n",
       "      <td>2024-06-09</td>\n",
       "      <td>the Memorial Tournament presented by Workday</td>\n",
       "    </tr>\n",
       "  </tbody>\n",
       "</table>\n",
       "</div>"
      ],
      "text/plain": [
       "            PLAYER  TOTAL_EVENTS_PLAYED  CUTS_MADE  FEDEX_CUP_POINTS  \\\n",
       "0   Aaron Baddeley                   14          9           181.975   \n",
       "1  Aaron Cockerill                    1          0             0.000   \n",
       "2        Aaron Rai                   15         12           442.007   \n",
       "\n",
       "   CUT_PERCENTAGE  form_density  CONSECUTIVE_CUTS ENDING_DATE  \\\n",
       "0            64.3         13.00                 0  2024-06-09   \n",
       "1             0.0          0.00                 0  2024-06-09   \n",
       "2            80.0         29.47                 6  2024-06-09   \n",
       "\n",
       "                                     TOURNAMENT  \n",
       "0  the Memorial Tournament presented by Workday  \n",
       "1  the Memorial Tournament presented by Workday  \n",
       "2  the Memorial Tournament presented by Workday  "
      ]
     },
     "metadata": {},
     "output_type": "display_data"
    }
   ],
   "source": [
    "importlib.reload(utils.db_utils)\n",
    "from utils.db_utils import get_cut_and_fedex_history\n",
    "\n",
    "cuts = get_cut_and_fedex_history(\"data/golf.db\", history_df, window_months=9)\n",
    "# cuts[\"2024-05-12\"].head(20)\n",
    "\n",
    "for end_date, df in cuts.items():\n",
    "    print(f\"\\n📆 {end_date} — {df['TOURNAMENT'].iloc[0]} ({len(df)} players)\")\n",
    "    display(df.head(3))"
   ]
  },
  {
   "cell_type": "markdown",
   "id": "ce90fa05",
   "metadata": {},
   "source": [
    "### Recent Form"
   ]
  },
  {
   "cell_type": "code",
   "execution_count": 4,
   "id": "20095a72",
   "metadata": {},
   "outputs": [
    {
     "name": "stdout",
     "output_type": "stream",
     "text": [
      "\n",
      "📆 2016-06-05 — the Memorial Tournament presented by Nationwide (417 players)\n"
     ]
    },
    {
     "data": {
      "text/html": [
       "<div>\n",
       "<style scoped>\n",
       "    .dataframe tbody tr th:only-of-type {\n",
       "        vertical-align: middle;\n",
       "    }\n",
       "\n",
       "    .dataframe tbody tr th {\n",
       "        vertical-align: top;\n",
       "    }\n",
       "\n",
       "    .dataframe thead th {\n",
       "        text-align: right;\n",
       "    }\n",
       "</style>\n",
       "<table border=\"1\" class=\"dataframe\">\n",
       "  <thead>\n",
       "    <tr style=\"text-align: right;\">\n",
       "      <th></th>\n",
       "      <th>PLAYER</th>\n",
       "      <th>TOTAL_EVENTS_PLAYED</th>\n",
       "      <th>RECENT_FORM</th>\n",
       "      <th>adj_form</th>\n",
       "      <th>ENDING_DATE</th>\n",
       "      <th>TOURNAMENT</th>\n",
       "    </tr>\n",
       "  </thead>\n",
       "  <tbody>\n",
       "    <tr>\n",
       "      <th>0</th>\n",
       "      <td>Lee McCoy</td>\n",
       "      <td>1</td>\n",
       "      <td>4.0</td>\n",
       "      <td>5.77</td>\n",
       "      <td>2016-06-05</td>\n",
       "      <td>the Memorial Tournament presented by Nationwide</td>\n",
       "    </tr>\n",
       "    <tr>\n",
       "      <th>1</th>\n",
       "      <td>Cody Gribble</td>\n",
       "      <td>1</td>\n",
       "      <td>8.0</td>\n",
       "      <td>11.54</td>\n",
       "      <td>2016-06-05</td>\n",
       "      <td>the Memorial Tournament presented by Nationwide</td>\n",
       "    </tr>\n",
       "    <tr>\n",
       "      <th>2</th>\n",
       "      <td>Jon Rahm</td>\n",
       "      <td>2</td>\n",
       "      <td>12.5</td>\n",
       "      <td>11.38</td>\n",
       "      <td>2016-06-05</td>\n",
       "      <td>the Memorial Tournament presented by Nationwide</td>\n",
       "    </tr>\n",
       "  </tbody>\n",
       "</table>\n",
       "</div>"
      ],
      "text/plain": [
       "         PLAYER  TOTAL_EVENTS_PLAYED  RECENT_FORM  adj_form ENDING_DATE  \\\n",
       "0     Lee McCoy                    1          4.0      5.77  2016-06-05   \n",
       "1  Cody Gribble                    1          8.0     11.54  2016-06-05   \n",
       "2      Jon Rahm                    2         12.5     11.38  2016-06-05   \n",
       "\n",
       "                                        TOURNAMENT  \n",
       "0  the Memorial Tournament presented by Nationwide  \n",
       "1  the Memorial Tournament presented by Nationwide  \n",
       "2  the Memorial Tournament presented by Nationwide  "
      ]
     },
     "metadata": {},
     "output_type": "display_data"
    },
    {
     "name": "stdout",
     "output_type": "stream",
     "text": [
      "\n",
      "📆 2017-06-04 — the Memorial Tournament presented by Nationwide (404 players)\n"
     ]
    },
    {
     "data": {
      "text/html": [
       "<div>\n",
       "<style scoped>\n",
       "    .dataframe tbody tr th:only-of-type {\n",
       "        vertical-align: middle;\n",
       "    }\n",
       "\n",
       "    .dataframe tbody tr th {\n",
       "        vertical-align: top;\n",
       "    }\n",
       "\n",
       "    .dataframe thead th {\n",
       "        text-align: right;\n",
       "    }\n",
       "</style>\n",
       "<table border=\"1\" class=\"dataframe\">\n",
       "  <thead>\n",
       "    <tr style=\"text-align: right;\">\n",
       "      <th></th>\n",
       "      <th>PLAYER</th>\n",
       "      <th>TOTAL_EVENTS_PLAYED</th>\n",
       "      <th>RECENT_FORM</th>\n",
       "      <th>adj_form</th>\n",
       "      <th>ENDING_DATE</th>\n",
       "      <th>TOURNAMENT</th>\n",
       "    </tr>\n",
       "  </thead>\n",
       "  <tbody>\n",
       "    <tr>\n",
       "      <th>0</th>\n",
       "      <td>Keith Mitchell</td>\n",
       "      <td>1</td>\n",
       "      <td>11.0</td>\n",
       "      <td>15.87</td>\n",
       "      <td>2017-06-04</td>\n",
       "      <td>the Memorial Tournament presented by Nationwide</td>\n",
       "    </tr>\n",
       "    <tr>\n",
       "      <th>1</th>\n",
       "      <td>Oscar Fraustro</td>\n",
       "      <td>1</td>\n",
       "      <td>13.0</td>\n",
       "      <td>18.76</td>\n",
       "      <td>2017-06-04</td>\n",
       "      <td>the Memorial Tournament presented by Nationwide</td>\n",
       "    </tr>\n",
       "    <tr>\n",
       "      <th>2</th>\n",
       "      <td>Cam Davis</td>\n",
       "      <td>1</td>\n",
       "      <td>15.0</td>\n",
       "      <td>21.64</td>\n",
       "      <td>2017-06-04</td>\n",
       "      <td>the Memorial Tournament presented by Nationwide</td>\n",
       "    </tr>\n",
       "  </tbody>\n",
       "</table>\n",
       "</div>"
      ],
      "text/plain": [
       "           PLAYER  TOTAL_EVENTS_PLAYED  RECENT_FORM  adj_form ENDING_DATE  \\\n",
       "0  Keith Mitchell                    1         11.0     15.87  2017-06-04   \n",
       "1  Oscar Fraustro                    1         13.0     18.76  2017-06-04   \n",
       "2       Cam Davis                    1         15.0     21.64  2017-06-04   \n",
       "\n",
       "                                        TOURNAMENT  \n",
       "0  the Memorial Tournament presented by Nationwide  \n",
       "1  the Memorial Tournament presented by Nationwide  \n",
       "2  the Memorial Tournament presented by Nationwide  "
      ]
     },
     "metadata": {},
     "output_type": "display_data"
    },
    {
     "name": "stdout",
     "output_type": "stream",
     "text": [
      "\n",
      "📆 2018-06-03 — the Memorial Tournament presented by Nationwide (408 players)\n"
     ]
    },
    {
     "data": {
      "text/html": [
       "<div>\n",
       "<style scoped>\n",
       "    .dataframe tbody tr th:only-of-type {\n",
       "        vertical-align: middle;\n",
       "    }\n",
       "\n",
       "    .dataframe tbody tr th {\n",
       "        vertical-align: top;\n",
       "    }\n",
       "\n",
       "    .dataframe thead th {\n",
       "        text-align: right;\n",
       "    }\n",
       "</style>\n",
       "<table border=\"1\" class=\"dataframe\">\n",
       "  <thead>\n",
       "    <tr style=\"text-align: right;\">\n",
       "      <th></th>\n",
       "      <th>PLAYER</th>\n",
       "      <th>TOTAL_EVENTS_PLAYED</th>\n",
       "      <th>RECENT_FORM</th>\n",
       "      <th>adj_form</th>\n",
       "      <th>ENDING_DATE</th>\n",
       "      <th>TOURNAMENT</th>\n",
       "    </tr>\n",
       "  </thead>\n",
       "  <tbody>\n",
       "    <tr>\n",
       "      <th>0</th>\n",
       "      <td>Jason Day</td>\n",
       "      <td>8</td>\n",
       "      <td>8.3</td>\n",
       "      <td>3.78</td>\n",
       "      <td>2018-06-03</td>\n",
       "      <td>the Memorial Tournament presented by Nationwide</td>\n",
       "    </tr>\n",
       "    <tr>\n",
       "      <th>1</th>\n",
       "      <td>Justin Rose</td>\n",
       "      <td>8</td>\n",
       "      <td>13.3</td>\n",
       "      <td>6.05</td>\n",
       "      <td>2018-06-03</td>\n",
       "      <td>the Memorial Tournament presented by Nationwide</td>\n",
       "    </tr>\n",
       "    <tr>\n",
       "      <th>2</th>\n",
       "      <td>Dustin Johnson</td>\n",
       "      <td>7</td>\n",
       "      <td>13.6</td>\n",
       "      <td>6.54</td>\n",
       "      <td>2018-06-03</td>\n",
       "      <td>the Memorial Tournament presented by Nationwide</td>\n",
       "    </tr>\n",
       "  </tbody>\n",
       "</table>\n",
       "</div>"
      ],
      "text/plain": [
       "           PLAYER  TOTAL_EVENTS_PLAYED  RECENT_FORM  adj_form ENDING_DATE  \\\n",
       "0       Jason Day                    8          8.3      3.78  2018-06-03   \n",
       "1     Justin Rose                    8         13.3      6.05  2018-06-03   \n",
       "2  Dustin Johnson                    7         13.6      6.54  2018-06-03   \n",
       "\n",
       "                                        TOURNAMENT  \n",
       "0  the Memorial Tournament presented by Nationwide  \n",
       "1  the Memorial Tournament presented by Nationwide  \n",
       "2  the Memorial Tournament presented by Nationwide  "
      ]
     },
     "metadata": {},
     "output_type": "display_data"
    },
    {
     "name": "stdout",
     "output_type": "stream",
     "text": [
      "\n",
      "📆 2019-06-02 — the Memorial Tournament presented by Nationwide (431 players)\n"
     ]
    },
    {
     "data": {
      "text/html": [
       "<div>\n",
       "<style scoped>\n",
       "    .dataframe tbody tr th:only-of-type {\n",
       "        vertical-align: middle;\n",
       "    }\n",
       "\n",
       "    .dataframe tbody tr th {\n",
       "        vertical-align: top;\n",
       "    }\n",
       "\n",
       "    .dataframe thead th {\n",
       "        text-align: right;\n",
       "    }\n",
       "</style>\n",
       "<table border=\"1\" class=\"dataframe\">\n",
       "  <thead>\n",
       "    <tr style=\"text-align: right;\">\n",
       "      <th></th>\n",
       "      <th>PLAYER</th>\n",
       "      <th>TOTAL_EVENTS_PLAYED</th>\n",
       "      <th>RECENT_FORM</th>\n",
       "      <th>adj_form</th>\n",
       "      <th>ENDING_DATE</th>\n",
       "      <th>TOURNAMENT</th>\n",
       "    </tr>\n",
       "  </thead>\n",
       "  <tbody>\n",
       "    <tr>\n",
       "      <th>0</th>\n",
       "      <td>Rory McIlroy</td>\n",
       "      <td>8</td>\n",
       "      <td>7.1</td>\n",
       "      <td>3.23</td>\n",
       "      <td>2019-06-02</td>\n",
       "      <td>the Memorial Tournament presented by Nationwide</td>\n",
       "    </tr>\n",
       "    <tr>\n",
       "      <th>1</th>\n",
       "      <td>Erik van Rooyen</td>\n",
       "      <td>1</td>\n",
       "      <td>8.0</td>\n",
       "      <td>11.54</td>\n",
       "      <td>2019-06-02</td>\n",
       "      <td>the Memorial Tournament presented by Nationwide</td>\n",
       "    </tr>\n",
       "    <tr>\n",
       "      <th>2</th>\n",
       "      <td>Dustin Johnson</td>\n",
       "      <td>9</td>\n",
       "      <td>13.9</td>\n",
       "      <td>6.04</td>\n",
       "      <td>2019-06-02</td>\n",
       "      <td>the Memorial Tournament presented by Nationwide</td>\n",
       "    </tr>\n",
       "  </tbody>\n",
       "</table>\n",
       "</div>"
      ],
      "text/plain": [
       "            PLAYER  TOTAL_EVENTS_PLAYED  RECENT_FORM  adj_form ENDING_DATE  \\\n",
       "0     Rory McIlroy                    8          7.1      3.23  2019-06-02   \n",
       "1  Erik van Rooyen                    1          8.0     11.54  2019-06-02   \n",
       "2   Dustin Johnson                    9         13.9      6.04  2019-06-02   \n",
       "\n",
       "                                        TOURNAMENT  \n",
       "0  the Memorial Tournament presented by Nationwide  \n",
       "1  the Memorial Tournament presented by Nationwide  \n",
       "2  the Memorial Tournament presented by Nationwide  "
      ]
     },
     "metadata": {},
     "output_type": "display_data"
    },
    {
     "name": "stdout",
     "output_type": "stream",
     "text": [
      "\n",
      "📆 2020-07-19 — the Memorial Tournament presented by Nationwide (383 players)\n"
     ]
    },
    {
     "data": {
      "text/html": [
       "<div>\n",
       "<style scoped>\n",
       "    .dataframe tbody tr th:only-of-type {\n",
       "        vertical-align: middle;\n",
       "    }\n",
       "\n",
       "    .dataframe tbody tr th {\n",
       "        vertical-align: top;\n",
       "    }\n",
       "\n",
       "    .dataframe thead th {\n",
       "        text-align: right;\n",
       "    }\n",
       "</style>\n",
       "<table border=\"1\" class=\"dataframe\">\n",
       "  <thead>\n",
       "    <tr style=\"text-align: right;\">\n",
       "      <th></th>\n",
       "      <th>PLAYER</th>\n",
       "      <th>TOTAL_EVENTS_PLAYED</th>\n",
       "      <th>RECENT_FORM</th>\n",
       "      <th>adj_form</th>\n",
       "      <th>ENDING_DATE</th>\n",
       "      <th>TOURNAMENT</th>\n",
       "    </tr>\n",
       "  </thead>\n",
       "  <tbody>\n",
       "    <tr>\n",
       "      <th>0</th>\n",
       "      <td>Tyrrell Hatton</td>\n",
       "      <td>4</td>\n",
       "      <td>3.5</td>\n",
       "      <td>2.17</td>\n",
       "      <td>2020-07-19</td>\n",
       "      <td>the Memorial Tournament presented by Nationwide</td>\n",
       "    </tr>\n",
       "    <tr>\n",
       "      <th>1</th>\n",
       "      <td>Patrick Cantlay</td>\n",
       "      <td>4</td>\n",
       "      <td>10.8</td>\n",
       "      <td>6.71</td>\n",
       "      <td>2020-07-19</td>\n",
       "      <td>the Memorial Tournament presented by Nationwide</td>\n",
       "    </tr>\n",
       "    <tr>\n",
       "      <th>2</th>\n",
       "      <td>Bryson DeChambeau</td>\n",
       "      <td>7</td>\n",
       "      <td>11.3</td>\n",
       "      <td>5.43</td>\n",
       "      <td>2020-07-19</td>\n",
       "      <td>the Memorial Tournament presented by Nationwide</td>\n",
       "    </tr>\n",
       "  </tbody>\n",
       "</table>\n",
       "</div>"
      ],
      "text/plain": [
       "              PLAYER  TOTAL_EVENTS_PLAYED  RECENT_FORM  adj_form ENDING_DATE  \\\n",
       "0     Tyrrell Hatton                    4          3.5      2.17  2020-07-19   \n",
       "1    Patrick Cantlay                    4         10.8      6.71  2020-07-19   \n",
       "2  Bryson DeChambeau                    7         11.3      5.43  2020-07-19   \n",
       "\n",
       "                                        TOURNAMENT  \n",
       "0  the Memorial Tournament presented by Nationwide  \n",
       "1  the Memorial Tournament presented by Nationwide  \n",
       "2  the Memorial Tournament presented by Nationwide  "
      ]
     },
     "metadata": {},
     "output_type": "display_data"
    },
    {
     "name": "stdout",
     "output_type": "stream",
     "text": [
      "\n",
      "📆 2021-06-06 — the Memorial Tournament presented by Nationwide (472 players)\n"
     ]
    },
    {
     "data": {
      "text/html": [
       "<div>\n",
       "<style scoped>\n",
       "    .dataframe tbody tr th:only-of-type {\n",
       "        vertical-align: middle;\n",
       "    }\n",
       "\n",
       "    .dataframe tbody tr th {\n",
       "        vertical-align: top;\n",
       "    }\n",
       "\n",
       "    .dataframe thead th {\n",
       "        text-align: right;\n",
       "    }\n",
       "</style>\n",
       "<table border=\"1\" class=\"dataframe\">\n",
       "  <thead>\n",
       "    <tr style=\"text-align: right;\">\n",
       "      <th></th>\n",
       "      <th>PLAYER</th>\n",
       "      <th>TOTAL_EVENTS_PLAYED</th>\n",
       "      <th>RECENT_FORM</th>\n",
       "      <th>adj_form</th>\n",
       "      <th>ENDING_DATE</th>\n",
       "      <th>TOURNAMENT</th>\n",
       "    </tr>\n",
       "  </thead>\n",
       "  <tbody>\n",
       "    <tr>\n",
       "      <th>0</th>\n",
       "      <td>Bud Cauley</td>\n",
       "      <td>1</td>\n",
       "      <td>14.0</td>\n",
       "      <td>20.20</td>\n",
       "      <td>2021-06-06</td>\n",
       "      <td>the Memorial Tournament presented by Nationwide</td>\n",
       "    </tr>\n",
       "    <tr>\n",
       "      <th>1</th>\n",
       "      <td>Jon Rahm</td>\n",
       "      <td>13</td>\n",
       "      <td>17.5</td>\n",
       "      <td>6.63</td>\n",
       "      <td>2021-06-06</td>\n",
       "      <td>the Memorial Tournament presented by Nationwide</td>\n",
       "    </tr>\n",
       "    <tr>\n",
       "      <th>2</th>\n",
       "      <td>Dawie van der Walt</td>\n",
       "      <td>1</td>\n",
       "      <td>20.0</td>\n",
       "      <td>28.85</td>\n",
       "      <td>2021-06-06</td>\n",
       "      <td>the Memorial Tournament presented by Nationwide</td>\n",
       "    </tr>\n",
       "  </tbody>\n",
       "</table>\n",
       "</div>"
      ],
      "text/plain": [
       "               PLAYER  TOTAL_EVENTS_PLAYED  RECENT_FORM  adj_form ENDING_DATE  \\\n",
       "0          Bud Cauley                    1         14.0     20.20  2021-06-06   \n",
       "1            Jon Rahm                   13         17.5      6.63  2021-06-06   \n",
       "2  Dawie van der Walt                    1         20.0     28.85  2021-06-06   \n",
       "\n",
       "                                        TOURNAMENT  \n",
       "0  the Memorial Tournament presented by Nationwide  \n",
       "1  the Memorial Tournament presented by Nationwide  \n",
       "2  the Memorial Tournament presented by Nationwide  "
      ]
     },
     "metadata": {},
     "output_type": "display_data"
    },
    {
     "name": "stdout",
     "output_type": "stream",
     "text": [
      "\n",
      "📆 2022-06-05 — the Memorial Tournament presented by Workday (476 players)\n"
     ]
    },
    {
     "data": {
      "text/html": [
       "<div>\n",
       "<style scoped>\n",
       "    .dataframe tbody tr th:only-of-type {\n",
       "        vertical-align: middle;\n",
       "    }\n",
       "\n",
       "    .dataframe tbody tr th {\n",
       "        vertical-align: top;\n",
       "    }\n",
       "\n",
       "    .dataframe thead th {\n",
       "        text-align: right;\n",
       "    }\n",
       "</style>\n",
       "<table border=\"1\" class=\"dataframe\">\n",
       "  <thead>\n",
       "    <tr style=\"text-align: right;\">\n",
       "      <th></th>\n",
       "      <th>PLAYER</th>\n",
       "      <th>TOTAL_EVENTS_PLAYED</th>\n",
       "      <th>RECENT_FORM</th>\n",
       "      <th>adj_form</th>\n",
       "      <th>ENDING_DATE</th>\n",
       "      <th>TOURNAMENT</th>\n",
       "    </tr>\n",
       "  </thead>\n",
       "  <tbody>\n",
       "    <tr>\n",
       "      <th>0</th>\n",
       "      <td>Taylor Montgomery</td>\n",
       "      <td>1</td>\n",
       "      <td>11.0</td>\n",
       "      <td>15.87</td>\n",
       "      <td>2022-06-05</td>\n",
       "      <td>the Memorial Tournament presented by Workday</td>\n",
       "    </tr>\n",
       "    <tr>\n",
       "      <th>1</th>\n",
       "      <td>Haotong Li</td>\n",
       "      <td>1</td>\n",
       "      <td>12.0</td>\n",
       "      <td>17.31</td>\n",
       "      <td>2022-06-05</td>\n",
       "      <td>the Memorial Tournament presented by Workday</td>\n",
       "    </tr>\n",
       "    <tr>\n",
       "      <th>2</th>\n",
       "      <td>Martin Contini</td>\n",
       "      <td>1</td>\n",
       "      <td>16.0</td>\n",
       "      <td>23.08</td>\n",
       "      <td>2022-06-05</td>\n",
       "      <td>the Memorial Tournament presented by Workday</td>\n",
       "    </tr>\n",
       "  </tbody>\n",
       "</table>\n",
       "</div>"
      ],
      "text/plain": [
       "              PLAYER  TOTAL_EVENTS_PLAYED  RECENT_FORM  adj_form ENDING_DATE  \\\n",
       "0  Taylor Montgomery                    1         11.0     15.87  2022-06-05   \n",
       "1         Haotong Li                    1         12.0     17.31  2022-06-05   \n",
       "2     Martin Contini                    1         16.0     23.08  2022-06-05   \n",
       "\n",
       "                                     TOURNAMENT  \n",
       "0  the Memorial Tournament presented by Workday  \n",
       "1  the Memorial Tournament presented by Workday  \n",
       "2  the Memorial Tournament presented by Workday  "
      ]
     },
     "metadata": {},
     "output_type": "display_data"
    },
    {
     "name": "stdout",
     "output_type": "stream",
     "text": [
      "\n",
      "📆 2023-06-04 — the Memorial Tournament presented by Workday (488 players)\n"
     ]
    },
    {
     "data": {
      "text/html": [
       "<div>\n",
       "<style scoped>\n",
       "    .dataframe tbody tr th:only-of-type {\n",
       "        vertical-align: middle;\n",
       "    }\n",
       "\n",
       "    .dataframe tbody tr th {\n",
       "        vertical-align: top;\n",
       "    }\n",
       "\n",
       "    .dataframe thead th {\n",
       "        text-align: right;\n",
       "    }\n",
       "</style>\n",
       "<table border=\"1\" class=\"dataframe\">\n",
       "  <thead>\n",
       "    <tr style=\"text-align: right;\">\n",
       "      <th></th>\n",
       "      <th>PLAYER</th>\n",
       "      <th>TOTAL_EVENTS_PLAYED</th>\n",
       "      <th>RECENT_FORM</th>\n",
       "      <th>adj_form</th>\n",
       "      <th>ENDING_DATE</th>\n",
       "      <th>TOURNAMENT</th>\n",
       "    </tr>\n",
       "  </thead>\n",
       "  <tbody>\n",
       "    <tr>\n",
       "      <th>0</th>\n",
       "      <td>Joohyung Kim</td>\n",
       "      <td>1</td>\n",
       "      <td>1.0</td>\n",
       "      <td>1.44</td>\n",
       "      <td>2023-06-04</td>\n",
       "      <td>the Memorial Tournament presented by Workday</td>\n",
       "    </tr>\n",
       "    <tr>\n",
       "      <th>1</th>\n",
       "      <td>Brooks Koepka</td>\n",
       "      <td>2</td>\n",
       "      <td>1.5</td>\n",
       "      <td>1.37</td>\n",
       "      <td>2023-06-04</td>\n",
       "      <td>the Memorial Tournament presented by Workday</td>\n",
       "    </tr>\n",
       "    <tr>\n",
       "      <th>2</th>\n",
       "      <td>Scottie Scheffler</td>\n",
       "      <td>15</td>\n",
       "      <td>8.4</td>\n",
       "      <td>3.03</td>\n",
       "      <td>2023-06-04</td>\n",
       "      <td>the Memorial Tournament presented by Workday</td>\n",
       "    </tr>\n",
       "  </tbody>\n",
       "</table>\n",
       "</div>"
      ],
      "text/plain": [
       "              PLAYER  TOTAL_EVENTS_PLAYED  RECENT_FORM  adj_form ENDING_DATE  \\\n",
       "0       Joohyung Kim                    1          1.0      1.44  2023-06-04   \n",
       "1      Brooks Koepka                    2          1.5      1.37  2023-06-04   \n",
       "2  Scottie Scheffler                   15          8.4      3.03  2023-06-04   \n",
       "\n",
       "                                     TOURNAMENT  \n",
       "0  the Memorial Tournament presented by Workday  \n",
       "1  the Memorial Tournament presented by Workday  \n",
       "2  the Memorial Tournament presented by Workday  "
      ]
     },
     "metadata": {},
     "output_type": "display_data"
    },
    {
     "name": "stdout",
     "output_type": "stream",
     "text": [
      "\n",
      "📆 2024-06-09 — the Memorial Tournament presented by Workday (468 players)\n"
     ]
    },
    {
     "data": {
      "text/html": [
       "<div>\n",
       "<style scoped>\n",
       "    .dataframe tbody tr th:only-of-type {\n",
       "        vertical-align: middle;\n",
       "    }\n",
       "\n",
       "    .dataframe tbody tr th {\n",
       "        vertical-align: top;\n",
       "    }\n",
       "\n",
       "    .dataframe thead th {\n",
       "        text-align: right;\n",
       "    }\n",
       "</style>\n",
       "<table border=\"1\" class=\"dataframe\">\n",
       "  <thead>\n",
       "    <tr style=\"text-align: right;\">\n",
       "      <th></th>\n",
       "      <th>PLAYER</th>\n",
       "      <th>TOTAL_EVENTS_PLAYED</th>\n",
       "      <th>RECENT_FORM</th>\n",
       "      <th>adj_form</th>\n",
       "      <th>ENDING_DATE</th>\n",
       "      <th>TOURNAMENT</th>\n",
       "    </tr>\n",
       "  </thead>\n",
       "  <tbody>\n",
       "    <tr>\n",
       "      <th>0</th>\n",
       "      <td>Bryson DeChambeau</td>\n",
       "      <td>2</td>\n",
       "      <td>4.0</td>\n",
       "      <td>3.64</td>\n",
       "      <td>2024-06-09</td>\n",
       "      <td>the Memorial Tournament presented by Workday</td>\n",
       "    </tr>\n",
       "    <tr>\n",
       "      <th>1</th>\n",
       "      <td>Scottie Scheffler</td>\n",
       "      <td>13</td>\n",
       "      <td>4.5</td>\n",
       "      <td>1.71</td>\n",
       "      <td>2024-06-09</td>\n",
       "      <td>the Memorial Tournament presented by Workday</td>\n",
       "    </tr>\n",
       "    <tr>\n",
       "      <th>2</th>\n",
       "      <td>Dean Burmester</td>\n",
       "      <td>1</td>\n",
       "      <td>12.0</td>\n",
       "      <td>17.31</td>\n",
       "      <td>2024-06-09</td>\n",
       "      <td>the Memorial Tournament presented by Workday</td>\n",
       "    </tr>\n",
       "  </tbody>\n",
       "</table>\n",
       "</div>"
      ],
      "text/plain": [
       "              PLAYER  TOTAL_EVENTS_PLAYED  RECENT_FORM  adj_form ENDING_DATE  \\\n",
       "0  Bryson DeChambeau                    2          4.0      3.64  2024-06-09   \n",
       "1  Scottie Scheffler                   13          4.5      1.71  2024-06-09   \n",
       "2     Dean Burmester                    1         12.0     17.31  2024-06-09   \n",
       "\n",
       "                                     TOURNAMENT  \n",
       "0  the Memorial Tournament presented by Workday  \n",
       "1  the Memorial Tournament presented by Workday  \n",
       "2  the Memorial Tournament presented by Workday  "
      ]
     },
     "metadata": {},
     "output_type": "display_data"
    }
   ],
   "source": [
    "importlib.reload(utils.db_utils)\n",
    "from utils.db_utils import get_recent_avg_finish\n",
    "\n",
    "recent_form = get_recent_avg_finish(\"data/golf.db\", history_df, window_months=9)\n",
    "\n",
    "# Example preview\n",
    "for date, df in recent_form.items(): \n",
    "    print(f\"\\n📆 {date} — {df['TOURNAMENT'].iloc[0]} ({len(df)} players)\")\n",
    "    display(df.head(3))"
   ]
  },
  {
   "cell_type": "markdown",
   "id": "76a77f44",
   "metadata": {},
   "source": [
    "### Course History"
   ]
  },
  {
   "cell_type": "code",
   "execution_count": 5,
   "id": "7412401a",
   "metadata": {},
   "outputs": [
    {
     "name": "stdout",
     "output_type": "stream",
     "text": [
      "\n",
      "🏌️‍♂️ Course history for the Memorial Tournament presented by Nationwide on 2016-06-05\n"
     ]
    },
    {
     "data": {
      "text/html": [
       "<div>\n",
       "<style scoped>\n",
       "    .dataframe tbody tr th:only-of-type {\n",
       "        vertical-align: middle;\n",
       "    }\n",
       "\n",
       "    .dataframe tbody tr th {\n",
       "        vertical-align: top;\n",
       "    }\n",
       "\n",
       "    .dataframe thead th {\n",
       "        text-align: right;\n",
       "    }\n",
       "</style>\n",
       "<table border=\"1\" class=\"dataframe\">\n",
       "  <thead>\n",
       "    <tr style=\"text-align: right;\">\n",
       "      <th></th>\n",
       "      <th>PLAYER</th>\n",
       "      <th>TOTAL_EVENTS_PLAYED</th>\n",
       "      <th>COURSE_HISTORY</th>\n",
       "      <th>adj_ch</th>\n",
       "      <th>ENDING_DATE</th>\n",
       "      <th>COURSE</th>\n",
       "      <th>TOURNAMENT</th>\n",
       "    </tr>\n",
       "  </thead>\n",
       "  <tbody>\n",
       "    <tr>\n",
       "      <th>0</th>\n",
       "      <td>Adam Hadwin</td>\n",
       "      <td>1</td>\n",
       "      <td>57.0</td>\n",
       "      <td>82.23</td>\n",
       "      <td>2016-06-05</td>\n",
       "      <td>Muirfield Village Golf Club</td>\n",
       "      <td>the Memorial Tournament presented by Nationwide</td>\n",
       "    </tr>\n",
       "    <tr>\n",
       "      <th>1</th>\n",
       "      <td>Alex Cejka</td>\n",
       "      <td>1</td>\n",
       "      <td>90.0</td>\n",
       "      <td>129.84</td>\n",
       "      <td>2016-06-05</td>\n",
       "      <td>Muirfield Village Golf Club</td>\n",
       "      <td>the Memorial Tournament presented by Nationwide</td>\n",
       "    </tr>\n",
       "    <tr>\n",
       "      <th>2</th>\n",
       "      <td>Andres Gonzales</td>\n",
       "      <td>1</td>\n",
       "      <td>90.0</td>\n",
       "      <td>129.84</td>\n",
       "      <td>2016-06-05</td>\n",
       "      <td>Muirfield Village Golf Club</td>\n",
       "      <td>the Memorial Tournament presented by Nationwide</td>\n",
       "    </tr>\n",
       "  </tbody>\n",
       "</table>\n",
       "</div>"
      ],
      "text/plain": [
       "            PLAYER  TOTAL_EVENTS_PLAYED  COURSE_HISTORY  adj_ch ENDING_DATE  \\\n",
       "0      Adam Hadwin                    1            57.0   82.23  2016-06-05   \n",
       "1       Alex Cejka                    1            90.0  129.84  2016-06-05   \n",
       "2  Andres Gonzales                    1            90.0  129.84  2016-06-05   \n",
       "\n",
       "                        COURSE  \\\n",
       "0  Muirfield Village Golf Club   \n",
       "1  Muirfield Village Golf Club   \n",
       "2  Muirfield Village Golf Club   \n",
       "\n",
       "                                        TOURNAMENT  \n",
       "0  the Memorial Tournament presented by Nationwide  \n",
       "1  the Memorial Tournament presented by Nationwide  \n",
       "2  the Memorial Tournament presented by Nationwide  "
      ]
     },
     "metadata": {},
     "output_type": "display_data"
    },
    {
     "name": "stdout",
     "output_type": "stream",
     "text": [
      "\n",
      "🏌️‍♂️ Course history for the Memorial Tournament presented by Nationwide on 2017-06-04\n"
     ]
    },
    {
     "data": {
      "text/html": [
       "<div>\n",
       "<style scoped>\n",
       "    .dataframe tbody tr th:only-of-type {\n",
       "        vertical-align: middle;\n",
       "    }\n",
       "\n",
       "    .dataframe tbody tr th {\n",
       "        vertical-align: top;\n",
       "    }\n",
       "\n",
       "    .dataframe thead th {\n",
       "        text-align: right;\n",
       "    }\n",
       "</style>\n",
       "<table border=\"1\" class=\"dataframe\">\n",
       "  <thead>\n",
       "    <tr style=\"text-align: right;\">\n",
       "      <th></th>\n",
       "      <th>PLAYER</th>\n",
       "      <th>TOTAL_EVENTS_PLAYED</th>\n",
       "      <th>COURSE_HISTORY</th>\n",
       "      <th>adj_ch</th>\n",
       "      <th>ENDING_DATE</th>\n",
       "      <th>COURSE</th>\n",
       "      <th>TOURNAMENT</th>\n",
       "    </tr>\n",
       "  </thead>\n",
       "  <tbody>\n",
       "    <tr>\n",
       "      <th>0</th>\n",
       "      <td>Aaron Baddeley</td>\n",
       "      <td>1</td>\n",
       "      <td>90.0</td>\n",
       "      <td>129.84</td>\n",
       "      <td>2017-06-04</td>\n",
       "      <td>Muirfield Village Golf Club</td>\n",
       "      <td>the Memorial Tournament presented by Nationwide</td>\n",
       "    </tr>\n",
       "    <tr>\n",
       "      <th>1</th>\n",
       "      <td>Adam Hadwin</td>\n",
       "      <td>2</td>\n",
       "      <td>34.0</td>\n",
       "      <td>30.95</td>\n",
       "      <td>2017-06-04</td>\n",
       "      <td>Muirfield Village Golf Club</td>\n",
       "      <td>the Memorial Tournament presented by Nationwide</td>\n",
       "    </tr>\n",
       "    <tr>\n",
       "      <th>2</th>\n",
       "      <td>Alex Cejka</td>\n",
       "      <td>2</td>\n",
       "      <td>73.5</td>\n",
       "      <td>66.90</td>\n",
       "      <td>2017-06-04</td>\n",
       "      <td>Muirfield Village Golf Club</td>\n",
       "      <td>the Memorial Tournament presented by Nationwide</td>\n",
       "    </tr>\n",
       "  </tbody>\n",
       "</table>\n",
       "</div>"
      ],
      "text/plain": [
       "           PLAYER  TOTAL_EVENTS_PLAYED  COURSE_HISTORY  adj_ch ENDING_DATE  \\\n",
       "0  Aaron Baddeley                    1            90.0  129.84  2017-06-04   \n",
       "1     Adam Hadwin                    2            34.0   30.95  2017-06-04   \n",
       "2      Alex Cejka                    2            73.5   66.90  2017-06-04   \n",
       "\n",
       "                        COURSE  \\\n",
       "0  Muirfield Village Golf Club   \n",
       "1  Muirfield Village Golf Club   \n",
       "2  Muirfield Village Golf Club   \n",
       "\n",
       "                                        TOURNAMENT  \n",
       "0  the Memorial Tournament presented by Nationwide  \n",
       "1  the Memorial Tournament presented by Nationwide  \n",
       "2  the Memorial Tournament presented by Nationwide  "
      ]
     },
     "metadata": {},
     "output_type": "display_data"
    },
    {
     "name": "stdout",
     "output_type": "stream",
     "text": [
      "\n",
      "🏌️‍♂️ Course history for the Memorial Tournament presented by Nationwide on 2018-06-03\n"
     ]
    },
    {
     "data": {
      "text/html": [
       "<div>\n",
       "<style scoped>\n",
       "    .dataframe tbody tr th:only-of-type {\n",
       "        vertical-align: middle;\n",
       "    }\n",
       "\n",
       "    .dataframe tbody tr th {\n",
       "        vertical-align: top;\n",
       "    }\n",
       "\n",
       "    .dataframe thead th {\n",
       "        text-align: right;\n",
       "    }\n",
       "</style>\n",
       "<table border=\"1\" class=\"dataframe\">\n",
       "  <thead>\n",
       "    <tr style=\"text-align: right;\">\n",
       "      <th></th>\n",
       "      <th>PLAYER</th>\n",
       "      <th>TOTAL_EVENTS_PLAYED</th>\n",
       "      <th>COURSE_HISTORY</th>\n",
       "      <th>adj_ch</th>\n",
       "      <th>ENDING_DATE</th>\n",
       "      <th>COURSE</th>\n",
       "      <th>TOURNAMENT</th>\n",
       "    </tr>\n",
       "  </thead>\n",
       "  <tbody>\n",
       "    <tr>\n",
       "      <th>0</th>\n",
       "      <td>Aaron Baddeley</td>\n",
       "      <td>2</td>\n",
       "      <td>90.0</td>\n",
       "      <td>81.92</td>\n",
       "      <td>2018-06-03</td>\n",
       "      <td>Muirfield Village Golf Club</td>\n",
       "      <td>the Memorial Tournament presented by Nationwide</td>\n",
       "    </tr>\n",
       "    <tr>\n",
       "      <th>1</th>\n",
       "      <td>Adam Hadwin</td>\n",
       "      <td>3</td>\n",
       "      <td>52.7</td>\n",
       "      <td>38.02</td>\n",
       "      <td>2018-06-03</td>\n",
       "      <td>Muirfield Village Golf Club</td>\n",
       "      <td>the Memorial Tournament presented by Nationwide</td>\n",
       "    </tr>\n",
       "    <tr>\n",
       "      <th>2</th>\n",
       "      <td>Adam Scott</td>\n",
       "      <td>1</td>\n",
       "      <td>31.0</td>\n",
       "      <td>44.72</td>\n",
       "      <td>2018-06-03</td>\n",
       "      <td>Muirfield Village Golf Club</td>\n",
       "      <td>the Memorial Tournament presented by Nationwide</td>\n",
       "    </tr>\n",
       "  </tbody>\n",
       "</table>\n",
       "</div>"
      ],
      "text/plain": [
       "           PLAYER  TOTAL_EVENTS_PLAYED  COURSE_HISTORY  adj_ch ENDING_DATE  \\\n",
       "0  Aaron Baddeley                    2            90.0   81.92  2018-06-03   \n",
       "1     Adam Hadwin                    3            52.7   38.02  2018-06-03   \n",
       "2      Adam Scott                    1            31.0   44.72  2018-06-03   \n",
       "\n",
       "                        COURSE  \\\n",
       "0  Muirfield Village Golf Club   \n",
       "1  Muirfield Village Golf Club   \n",
       "2  Muirfield Village Golf Club   \n",
       "\n",
       "                                        TOURNAMENT  \n",
       "0  the Memorial Tournament presented by Nationwide  \n",
       "1  the Memorial Tournament presented by Nationwide  \n",
       "2  the Memorial Tournament presented by Nationwide  "
      ]
     },
     "metadata": {},
     "output_type": "display_data"
    },
    {
     "name": "stdout",
     "output_type": "stream",
     "text": [
      "\n",
      "🏌️‍♂️ Course history for the Memorial Tournament presented by Nationwide on 2019-06-02\n"
     ]
    },
    {
     "data": {
      "text/html": [
       "<div>\n",
       "<style scoped>\n",
       "    .dataframe tbody tr th:only-of-type {\n",
       "        vertical-align: middle;\n",
       "    }\n",
       "\n",
       "    .dataframe tbody tr th {\n",
       "        vertical-align: top;\n",
       "    }\n",
       "\n",
       "    .dataframe thead th {\n",
       "        text-align: right;\n",
       "    }\n",
       "</style>\n",
       "<table border=\"1\" class=\"dataframe\">\n",
       "  <thead>\n",
       "    <tr style=\"text-align: right;\">\n",
       "      <th></th>\n",
       "      <th>PLAYER</th>\n",
       "      <th>TOTAL_EVENTS_PLAYED</th>\n",
       "      <th>COURSE_HISTORY</th>\n",
       "      <th>adj_ch</th>\n",
       "      <th>ENDING_DATE</th>\n",
       "      <th>COURSE</th>\n",
       "      <th>TOURNAMENT</th>\n",
       "    </tr>\n",
       "  </thead>\n",
       "  <tbody>\n",
       "    <tr>\n",
       "      <th>0</th>\n",
       "      <td>Aaron Baddeley</td>\n",
       "      <td>2</td>\n",
       "      <td>90.0</td>\n",
       "      <td>81.92</td>\n",
       "      <td>2019-06-02</td>\n",
       "      <td>Muirfield Village Golf Club</td>\n",
       "      <td>the Memorial Tournament presented by Nationwide</td>\n",
       "    </tr>\n",
       "    <tr>\n",
       "      <th>1</th>\n",
       "      <td>Aaron Wise</td>\n",
       "      <td>1</td>\n",
       "      <td>90.0</td>\n",
       "      <td>129.84</td>\n",
       "      <td>2019-06-02</td>\n",
       "      <td>Muirfield Village Golf Club</td>\n",
       "      <td>the Memorial Tournament presented by Nationwide</td>\n",
       "    </tr>\n",
       "    <tr>\n",
       "      <th>2</th>\n",
       "      <td>Abraham Ancer</td>\n",
       "      <td>1</td>\n",
       "      <td>57.0</td>\n",
       "      <td>82.23</td>\n",
       "      <td>2019-06-02</td>\n",
       "      <td>Muirfield Village Golf Club</td>\n",
       "      <td>the Memorial Tournament presented by Nationwide</td>\n",
       "    </tr>\n",
       "  </tbody>\n",
       "</table>\n",
       "</div>"
      ],
      "text/plain": [
       "           PLAYER  TOTAL_EVENTS_PLAYED  COURSE_HISTORY  adj_ch ENDING_DATE  \\\n",
       "0  Aaron Baddeley                    2            90.0   81.92  2019-06-02   \n",
       "1      Aaron Wise                    1            90.0  129.84  2019-06-02   \n",
       "2   Abraham Ancer                    1            57.0   82.23  2019-06-02   \n",
       "\n",
       "                        COURSE  \\\n",
       "0  Muirfield Village Golf Club   \n",
       "1  Muirfield Village Golf Club   \n",
       "2  Muirfield Village Golf Club   \n",
       "\n",
       "                                        TOURNAMENT  \n",
       "0  the Memorial Tournament presented by Nationwide  \n",
       "1  the Memorial Tournament presented by Nationwide  \n",
       "2  the Memorial Tournament presented by Nationwide  "
      ]
     },
     "metadata": {},
     "output_type": "display_data"
    },
    {
     "name": "stdout",
     "output_type": "stream",
     "text": [
      "\n",
      "🏌️‍♂️ Course history for the Memorial Tournament presented by Nationwide on 2020-07-19\n"
     ]
    },
    {
     "data": {
      "text/html": [
       "<div>\n",
       "<style scoped>\n",
       "    .dataframe tbody tr th:only-of-type {\n",
       "        vertical-align: middle;\n",
       "    }\n",
       "\n",
       "    .dataframe tbody tr th {\n",
       "        vertical-align: top;\n",
       "    }\n",
       "\n",
       "    .dataframe thead th {\n",
       "        text-align: right;\n",
       "    }\n",
       "</style>\n",
       "<table border=\"1\" class=\"dataframe\">\n",
       "  <thead>\n",
       "    <tr style=\"text-align: right;\">\n",
       "      <th></th>\n",
       "      <th>PLAYER</th>\n",
       "      <th>TOTAL_EVENTS_PLAYED</th>\n",
       "      <th>COURSE_HISTORY</th>\n",
       "      <th>adj_ch</th>\n",
       "      <th>ENDING_DATE</th>\n",
       "      <th>COURSE</th>\n",
       "      <th>TOURNAMENT</th>\n",
       "    </tr>\n",
       "  </thead>\n",
       "  <tbody>\n",
       "    <tr>\n",
       "      <th>0</th>\n",
       "      <td>Aaron Baddeley</td>\n",
       "      <td>3</td>\n",
       "      <td>67.3</td>\n",
       "      <td>48.55</td>\n",
       "      <td>2020-07-19</td>\n",
       "      <td>Muirfield Village Golf Club</td>\n",
       "      <td>the Memorial Tournament presented by Nationwide</td>\n",
       "    </tr>\n",
       "    <tr>\n",
       "      <th>1</th>\n",
       "      <td>Aaron Wise</td>\n",
       "      <td>2</td>\n",
       "      <td>90.0</td>\n",
       "      <td>81.92</td>\n",
       "      <td>2020-07-19</td>\n",
       "      <td>Muirfield Village Golf Club</td>\n",
       "      <td>the Memorial Tournament presented by Nationwide</td>\n",
       "    </tr>\n",
       "    <tr>\n",
       "      <th>2</th>\n",
       "      <td>Abraham Ancer</td>\n",
       "      <td>2</td>\n",
       "      <td>61.0</td>\n",
       "      <td>55.52</td>\n",
       "      <td>2020-07-19</td>\n",
       "      <td>Muirfield Village Golf Club</td>\n",
       "      <td>the Memorial Tournament presented by Nationwide</td>\n",
       "    </tr>\n",
       "  </tbody>\n",
       "</table>\n",
       "</div>"
      ],
      "text/plain": [
       "           PLAYER  TOTAL_EVENTS_PLAYED  COURSE_HISTORY  adj_ch ENDING_DATE  \\\n",
       "0  Aaron Baddeley                    3            67.3   48.55  2020-07-19   \n",
       "1      Aaron Wise                    2            90.0   81.92  2020-07-19   \n",
       "2   Abraham Ancer                    2            61.0   55.52  2020-07-19   \n",
       "\n",
       "                        COURSE  \\\n",
       "0  Muirfield Village Golf Club   \n",
       "1  Muirfield Village Golf Club   \n",
       "2  Muirfield Village Golf Club   \n",
       "\n",
       "                                        TOURNAMENT  \n",
       "0  the Memorial Tournament presented by Nationwide  \n",
       "1  the Memorial Tournament presented by Nationwide  \n",
       "2  the Memorial Tournament presented by Nationwide  "
      ]
     },
     "metadata": {},
     "output_type": "display_data"
    },
    {
     "name": "stdout",
     "output_type": "stream",
     "text": [
      "\n",
      "🏌️‍♂️ Course history for the Memorial Tournament presented by Nationwide on 2021-06-06\n"
     ]
    },
    {
     "data": {
      "text/html": [
       "<div>\n",
       "<style scoped>\n",
       "    .dataframe tbody tr th:only-of-type {\n",
       "        vertical-align: middle;\n",
       "    }\n",
       "\n",
       "    .dataframe tbody tr th {\n",
       "        vertical-align: top;\n",
       "    }\n",
       "\n",
       "    .dataframe thead th {\n",
       "        text-align: right;\n",
       "    }\n",
       "</style>\n",
       "<table border=\"1\" class=\"dataframe\">\n",
       "  <thead>\n",
       "    <tr style=\"text-align: right;\">\n",
       "      <th></th>\n",
       "      <th>PLAYER</th>\n",
       "      <th>TOTAL_EVENTS_PLAYED</th>\n",
       "      <th>COURSE_HISTORY</th>\n",
       "      <th>adj_ch</th>\n",
       "      <th>ENDING_DATE</th>\n",
       "      <th>COURSE</th>\n",
       "      <th>TOURNAMENT</th>\n",
       "    </tr>\n",
       "  </thead>\n",
       "  <tbody>\n",
       "    <tr>\n",
       "      <th>0</th>\n",
       "      <td>Aaron Baddeley</td>\n",
       "      <td>3</td>\n",
       "      <td>67.3</td>\n",
       "      <td>48.55</td>\n",
       "      <td>2021-06-06</td>\n",
       "      <td>Muirfield Village Golf Club</td>\n",
       "      <td>the Memorial Tournament presented by Nationwide</td>\n",
       "    </tr>\n",
       "    <tr>\n",
       "      <th>1</th>\n",
       "      <td>Aaron Wise</td>\n",
       "      <td>2</td>\n",
       "      <td>90.0</td>\n",
       "      <td>81.92</td>\n",
       "      <td>2021-06-06</td>\n",
       "      <td>Muirfield Village Golf Club</td>\n",
       "      <td>the Memorial Tournament presented by Nationwide</td>\n",
       "    </tr>\n",
       "    <tr>\n",
       "      <th>2</th>\n",
       "      <td>Abraham Ancer</td>\n",
       "      <td>3</td>\n",
       "      <td>60.0</td>\n",
       "      <td>43.28</td>\n",
       "      <td>2021-06-06</td>\n",
       "      <td>Muirfield Village Golf Club</td>\n",
       "      <td>the Memorial Tournament presented by Nationwide</td>\n",
       "    </tr>\n",
       "  </tbody>\n",
       "</table>\n",
       "</div>"
      ],
      "text/plain": [
       "           PLAYER  TOTAL_EVENTS_PLAYED  COURSE_HISTORY  adj_ch ENDING_DATE  \\\n",
       "0  Aaron Baddeley                    3            67.3   48.55  2021-06-06   \n",
       "1      Aaron Wise                    2            90.0   81.92  2021-06-06   \n",
       "2   Abraham Ancer                    3            60.0   43.28  2021-06-06   \n",
       "\n",
       "                        COURSE  \\\n",
       "0  Muirfield Village Golf Club   \n",
       "1  Muirfield Village Golf Club   \n",
       "2  Muirfield Village Golf Club   \n",
       "\n",
       "                                        TOURNAMENT  \n",
       "0  the Memorial Tournament presented by Nationwide  \n",
       "1  the Memorial Tournament presented by Nationwide  \n",
       "2  the Memorial Tournament presented by Nationwide  "
      ]
     },
     "metadata": {},
     "output_type": "display_data"
    },
    {
     "name": "stdout",
     "output_type": "stream",
     "text": [
      "\n",
      "🏌️‍♂️ Course history for the Memorial Tournament presented by Workday on 2022-06-05\n"
     ]
    },
    {
     "data": {
      "text/html": [
       "<div>\n",
       "<style scoped>\n",
       "    .dataframe tbody tr th:only-of-type {\n",
       "        vertical-align: middle;\n",
       "    }\n",
       "\n",
       "    .dataframe tbody tr th {\n",
       "        vertical-align: top;\n",
       "    }\n",
       "\n",
       "    .dataframe thead th {\n",
       "        text-align: right;\n",
       "    }\n",
       "</style>\n",
       "<table border=\"1\" class=\"dataframe\">\n",
       "  <thead>\n",
       "    <tr style=\"text-align: right;\">\n",
       "      <th></th>\n",
       "      <th>PLAYER</th>\n",
       "      <th>TOTAL_EVENTS_PLAYED</th>\n",
       "      <th>COURSE_HISTORY</th>\n",
       "      <th>adj_ch</th>\n",
       "      <th>ENDING_DATE</th>\n",
       "      <th>COURSE</th>\n",
       "      <th>TOURNAMENT</th>\n",
       "    </tr>\n",
       "  </thead>\n",
       "  <tbody>\n",
       "    <tr>\n",
       "      <th>0</th>\n",
       "      <td>Aaron Baddeley</td>\n",
       "      <td>3</td>\n",
       "      <td>67.3</td>\n",
       "      <td>48.55</td>\n",
       "      <td>2022-06-05</td>\n",
       "      <td>Muirfield Village Golf Club</td>\n",
       "      <td>the Memorial Tournament presented by Workday</td>\n",
       "    </tr>\n",
       "    <tr>\n",
       "      <th>1</th>\n",
       "      <td>Aaron Wise</td>\n",
       "      <td>3</td>\n",
       "      <td>63.0</td>\n",
       "      <td>45.44</td>\n",
       "      <td>2022-06-05</td>\n",
       "      <td>Muirfield Village Golf Club</td>\n",
       "      <td>the Memorial Tournament presented by Workday</td>\n",
       "    </tr>\n",
       "    <tr>\n",
       "      <th>2</th>\n",
       "      <td>Abraham Ancer</td>\n",
       "      <td>3</td>\n",
       "      <td>60.0</td>\n",
       "      <td>43.28</td>\n",
       "      <td>2022-06-05</td>\n",
       "      <td>Muirfield Village Golf Club</td>\n",
       "      <td>the Memorial Tournament presented by Workday</td>\n",
       "    </tr>\n",
       "  </tbody>\n",
       "</table>\n",
       "</div>"
      ],
      "text/plain": [
       "           PLAYER  TOTAL_EVENTS_PLAYED  COURSE_HISTORY  adj_ch ENDING_DATE  \\\n",
       "0  Aaron Baddeley                    3            67.3   48.55  2022-06-05   \n",
       "1      Aaron Wise                    3            63.0   45.44  2022-06-05   \n",
       "2   Abraham Ancer                    3            60.0   43.28  2022-06-05   \n",
       "\n",
       "                        COURSE                                    TOURNAMENT  \n",
       "0  Muirfield Village Golf Club  the Memorial Tournament presented by Workday  \n",
       "1  Muirfield Village Golf Club  the Memorial Tournament presented by Workday  \n",
       "2  Muirfield Village Golf Club  the Memorial Tournament presented by Workday  "
      ]
     },
     "metadata": {},
     "output_type": "display_data"
    },
    {
     "name": "stdout",
     "output_type": "stream",
     "text": [
      "\n",
      "🏌️‍♂️ Course history for the Memorial Tournament presented by Workday on 2023-06-04\n"
     ]
    },
    {
     "data": {
      "text/html": [
       "<div>\n",
       "<style scoped>\n",
       "    .dataframe tbody tr th:only-of-type {\n",
       "        vertical-align: middle;\n",
       "    }\n",
       "\n",
       "    .dataframe tbody tr th {\n",
       "        vertical-align: top;\n",
       "    }\n",
       "\n",
       "    .dataframe thead th {\n",
       "        text-align: right;\n",
       "    }\n",
       "</style>\n",
       "<table border=\"1\" class=\"dataframe\">\n",
       "  <thead>\n",
       "    <tr style=\"text-align: right;\">\n",
       "      <th></th>\n",
       "      <th>PLAYER</th>\n",
       "      <th>TOTAL_EVENTS_PLAYED</th>\n",
       "      <th>COURSE_HISTORY</th>\n",
       "      <th>adj_ch</th>\n",
       "      <th>ENDING_DATE</th>\n",
       "      <th>COURSE</th>\n",
       "      <th>TOURNAMENT</th>\n",
       "    </tr>\n",
       "  </thead>\n",
       "  <tbody>\n",
       "    <tr>\n",
       "      <th>0</th>\n",
       "      <td>Aaron Baddeley</td>\n",
       "      <td>3</td>\n",
       "      <td>67.3</td>\n",
       "      <td>48.55</td>\n",
       "      <td>2023-06-04</td>\n",
       "      <td>Muirfield Village Golf Club</td>\n",
       "      <td>the Memorial Tournament presented by Workday</td>\n",
       "    </tr>\n",
       "    <tr>\n",
       "      <th>1</th>\n",
       "      <td>Aaron Rai</td>\n",
       "      <td>1</td>\n",
       "      <td>26.0</td>\n",
       "      <td>37.51</td>\n",
       "      <td>2023-06-04</td>\n",
       "      <td>Muirfield Village Golf Club</td>\n",
       "      <td>the Memorial Tournament presented by Workday</td>\n",
       "    </tr>\n",
       "    <tr>\n",
       "      <th>2</th>\n",
       "      <td>Aaron Wise</td>\n",
       "      <td>4</td>\n",
       "      <td>47.8</td>\n",
       "      <td>29.70</td>\n",
       "      <td>2023-06-04</td>\n",
       "      <td>Muirfield Village Golf Club</td>\n",
       "      <td>the Memorial Tournament presented by Workday</td>\n",
       "    </tr>\n",
       "  </tbody>\n",
       "</table>\n",
       "</div>"
      ],
      "text/plain": [
       "           PLAYER  TOTAL_EVENTS_PLAYED  COURSE_HISTORY  adj_ch ENDING_DATE  \\\n",
       "0  Aaron Baddeley                    3            67.3   48.55  2023-06-04   \n",
       "1       Aaron Rai                    1            26.0   37.51  2023-06-04   \n",
       "2      Aaron Wise                    4            47.8   29.70  2023-06-04   \n",
       "\n",
       "                        COURSE                                    TOURNAMENT  \n",
       "0  Muirfield Village Golf Club  the Memorial Tournament presented by Workday  \n",
       "1  Muirfield Village Golf Club  the Memorial Tournament presented by Workday  \n",
       "2  Muirfield Village Golf Club  the Memorial Tournament presented by Workday  "
      ]
     },
     "metadata": {},
     "output_type": "display_data"
    },
    {
     "name": "stdout",
     "output_type": "stream",
     "text": [
      "\n",
      "🏌️‍♂️ Course history for the Memorial Tournament presented by Workday on 2024-06-09\n"
     ]
    },
    {
     "data": {
      "text/html": [
       "<div>\n",
       "<style scoped>\n",
       "    .dataframe tbody tr th:only-of-type {\n",
       "        vertical-align: middle;\n",
       "    }\n",
       "\n",
       "    .dataframe tbody tr th {\n",
       "        vertical-align: top;\n",
       "    }\n",
       "\n",
       "    .dataframe thead th {\n",
       "        text-align: right;\n",
       "    }\n",
       "</style>\n",
       "<table border=\"1\" class=\"dataframe\">\n",
       "  <thead>\n",
       "    <tr style=\"text-align: right;\">\n",
       "      <th></th>\n",
       "      <th>PLAYER</th>\n",
       "      <th>TOTAL_EVENTS_PLAYED</th>\n",
       "      <th>COURSE_HISTORY</th>\n",
       "      <th>adj_ch</th>\n",
       "      <th>ENDING_DATE</th>\n",
       "      <th>COURSE</th>\n",
       "      <th>TOURNAMENT</th>\n",
       "    </tr>\n",
       "  </thead>\n",
       "  <tbody>\n",
       "    <tr>\n",
       "      <th>0</th>\n",
       "      <td>Aaron Baddeley</td>\n",
       "      <td>1</td>\n",
       "      <td>22.0</td>\n",
       "      <td>31.74</td>\n",
       "      <td>2024-06-09</td>\n",
       "      <td>Muirfield Village Golf Club</td>\n",
       "      <td>the Memorial Tournament presented by Workday</td>\n",
       "    </tr>\n",
       "    <tr>\n",
       "      <th>1</th>\n",
       "      <td>Aaron Rai</td>\n",
       "      <td>2</td>\n",
       "      <td>58.0</td>\n",
       "      <td>52.79</td>\n",
       "      <td>2024-06-09</td>\n",
       "      <td>Muirfield Village Golf Club</td>\n",
       "      <td>the Memorial Tournament presented by Workday</td>\n",
       "    </tr>\n",
       "    <tr>\n",
       "      <th>2</th>\n",
       "      <td>Aaron Wise</td>\n",
       "      <td>4</td>\n",
       "      <td>47.8</td>\n",
       "      <td>29.70</td>\n",
       "      <td>2024-06-09</td>\n",
       "      <td>Muirfield Village Golf Club</td>\n",
       "      <td>the Memorial Tournament presented by Workday</td>\n",
       "    </tr>\n",
       "  </tbody>\n",
       "</table>\n",
       "</div>"
      ],
      "text/plain": [
       "           PLAYER  TOTAL_EVENTS_PLAYED  COURSE_HISTORY  adj_ch ENDING_DATE  \\\n",
       "0  Aaron Baddeley                    1            22.0   31.74  2024-06-09   \n",
       "1       Aaron Rai                    2            58.0   52.79  2024-06-09   \n",
       "2      Aaron Wise                    4            47.8   29.70  2024-06-09   \n",
       "\n",
       "                        COURSE                                    TOURNAMENT  \n",
       "0  Muirfield Village Golf Club  the Memorial Tournament presented by Workday  \n",
       "1  Muirfield Village Golf Club  the Memorial Tournament presented by Workday  \n",
       "2  Muirfield Village Golf Club  the Memorial Tournament presented by Workday  "
      ]
     },
     "metadata": {},
     "output_type": "display_data"
    }
   ],
   "source": [
    "importlib.reload(utils.db_utils)\n",
    "from utils.db_utils import get_course_history\n",
    "\n",
    "# Filter history_df for only the course we're targeting\n",
    "target_course = tournament_config[\"new\"][\"course\"]\n",
    "course_df = history_df[history_df[\"COURSE\"] == target_course]\n",
    "course_hist = get_course_history(\"data/golf.db\", course_df)\n",
    "\n",
    "# View example\n",
    "for date, df in course_hist.items():\n",
    "    if not df.empty:\n",
    "        print(f\"\\n🏌️‍♂️ Course history for {df['TOURNAMENT'].iloc[0]} on {date}\")\n",
    "        display(df.head(3))"
   ]
  },
  {
   "cell_type": "markdown",
   "id": "e8fa7578",
   "metadata": {},
   "source": [
    "## Training Dataset"
   ]
  },
  {
   "cell_type": "code",
   "execution_count": 6,
   "id": "a4277295",
   "metadata": {},
   "outputs": [
    {
     "data": {
      "text/html": [
       "<div>\n",
       "<style scoped>\n",
       "    .dataframe tbody tr th:only-of-type {\n",
       "        vertical-align: middle;\n",
       "    }\n",
       "\n",
       "    .dataframe tbody tr th {\n",
       "        vertical-align: top;\n",
       "    }\n",
       "\n",
       "    .dataframe thead th {\n",
       "        text-align: right;\n",
       "    }\n",
       "</style>\n",
       "<table border=\"1\" class=\"dataframe\">\n",
       "  <thead>\n",
       "    <tr style=\"text-align: right;\">\n",
       "      <th></th>\n",
       "      <th>SEASON</th>\n",
       "      <th>ENDING_DATE</th>\n",
       "      <th>TOURNAMENT</th>\n",
       "      <th>COURSE</th>\n",
       "      <th>PLAYER</th>\n",
       "      <th>POS</th>\n",
       "      <th>FINAL_POS</th>\n",
       "      <th>SGTTG_RANK</th>\n",
       "      <th>SGTTG</th>\n",
       "      <th>SGOTT_RANK</th>\n",
       "      <th>SGOTT</th>\n",
       "      <th>SGAPR_RANK</th>\n",
       "      <th>SGAPR</th>\n",
       "      <th>SGATG_RANK</th>\n",
       "      <th>SGATG</th>\n",
       "      <th>SGP_RANK</th>\n",
       "      <th>SGP</th>\n",
       "      <th>BIRDIES_RANK</th>\n",
       "      <th>BIRDIES</th>\n",
       "      <th>PAR_3_RANK</th>\n",
       "      <th>PAR_3</th>\n",
       "      <th>PAR_4_RANK</th>\n",
       "      <th>PAR_4</th>\n",
       "      <th>PAR_5_RANK</th>\n",
       "      <th>PAR_5</th>\n",
       "      <th>TOTAL_DRIVING_RANK</th>\n",
       "      <th>TOTAL_DRIVING</th>\n",
       "      <th>DRIVING_DISTANCE_RANK</th>\n",
       "      <th>DRIVING_DISTANCE</th>\n",
       "      <th>DRIVING_ACCURACY_RANK</th>\n",
       "      <th>DRIVING_ACCURACY</th>\n",
       "      <th>GIR_RANK</th>\n",
       "      <th>GIR</th>\n",
       "      <th>SCRAMBLING_RANK</th>\n",
       "      <th>SCRAMBLING</th>\n",
       "      <th>OWGR_RANK</th>\n",
       "      <th>OWGR</th>\n",
       "      <th>VEGAS_ODDS</th>\n",
       "      <th>CUT_PERCENTAGE</th>\n",
       "      <th>FEDEX_CUP_POINTS</th>\n",
       "      <th>form_density</th>\n",
       "      <th>CONSECUTIVE_CUTS</th>\n",
       "      <th>RECENT_FORM</th>\n",
       "      <th>adj_form</th>\n",
       "      <th>COURSE_HISTORY</th>\n",
       "      <th>adj_ch</th>\n",
       "      <th>TOP_20</th>\n",
       "    </tr>\n",
       "  </thead>\n",
       "  <tbody>\n",
       "    <tr>\n",
       "      <th>0</th>\n",
       "      <td>2016</td>\n",
       "      <td>2016-06-05</td>\n",
       "      <td>the Memorial Tournament presented by Nationwide</td>\n",
       "      <td>Muirfield Village Golf Club</td>\n",
       "      <td>Aaron Baddeley</td>\n",
       "      <td>CUT</td>\n",
       "      <td>90</td>\n",
       "      <td>146.0</td>\n",
       "      <td>-0.330</td>\n",
       "      <td>159.0</td>\n",
       "      <td>-0.366</td>\n",
       "      <td>164.0</td>\n",
       "      <td>-0.362</td>\n",
       "      <td>10.0</td>\n",
       "      <td>0.402</td>\n",
       "      <td>8.0</td>\n",
       "      <td>0.586</td>\n",
       "      <td>59.0</td>\n",
       "      <td>20.72</td>\n",
       "      <td>78.0</td>\n",
       "      <td>3.06</td>\n",
       "      <td>14.0</td>\n",
       "      <td>4.01</td>\n",
       "      <td>50.0</td>\n",
       "      <td>4.64</td>\n",
       "      <td>159.0</td>\n",
       "      <td>237.0</td>\n",
       "      <td>82.0</td>\n",
       "      <td>291.7</td>\n",
       "      <td>155.0</td>\n",
       "      <td>55.42</td>\n",
       "      <td>154.0</td>\n",
       "      <td>63.11</td>\n",
       "      <td>5.0</td>\n",
       "      <td>64.3</td>\n",
       "      <td>143.0</td>\n",
       "      <td>1.14</td>\n",
       "      <td>NaN</td>\n",
       "      <td>62.5</td>\n",
       "      <td>378.00</td>\n",
       "      <td>23.62</td>\n",
       "      <td>1.0</td>\n",
       "      <td>54.1</td>\n",
       "      <td>19.09</td>\n",
       "      <td>NaN</td>\n",
       "      <td>NaN</td>\n",
       "      <td>0</td>\n",
       "    </tr>\n",
       "    <tr>\n",
       "      <th>1</th>\n",
       "      <td>2016</td>\n",
       "      <td>2016-06-05</td>\n",
       "      <td>the Memorial Tournament presented by Nationwide</td>\n",
       "      <td>Muirfield Village Golf Club</td>\n",
       "      <td>Adam Hadwin</td>\n",
       "      <td>T11</td>\n",
       "      <td>11</td>\n",
       "      <td>111.0</td>\n",
       "      <td>-0.011</td>\n",
       "      <td>55.0</td>\n",
       "      <td>0.223</td>\n",
       "      <td>121.0</td>\n",
       "      <td>-0.055</td>\n",
       "      <td>132.0</td>\n",
       "      <td>-0.081</td>\n",
       "      <td>11.0</td>\n",
       "      <td>0.530</td>\n",
       "      <td>22.0</td>\n",
       "      <td>21.74</td>\n",
       "      <td>16.0</td>\n",
       "      <td>3.01</td>\n",
       "      <td>48.0</td>\n",
       "      <td>4.03</td>\n",
       "      <td>68.0</td>\n",
       "      <td>4.66</td>\n",
       "      <td>35.0</td>\n",
       "      <td>141.0</td>\n",
       "      <td>92.0</td>\n",
       "      <td>290.1</td>\n",
       "      <td>49.0</td>\n",
       "      <td>63.62</td>\n",
       "      <td>83.0</td>\n",
       "      <td>66.07</td>\n",
       "      <td>97.0</td>\n",
       "      <td>58.27</td>\n",
       "      <td>193.0</td>\n",
       "      <td>0.91</td>\n",
       "      <td>NaN</td>\n",
       "      <td>72.2</td>\n",
       "      <td>426.67</td>\n",
       "      <td>23.70</td>\n",
       "      <td>5.0</td>\n",
       "      <td>51.9</td>\n",
       "      <td>17.63</td>\n",
       "      <td>57.0</td>\n",
       "      <td>82.23</td>\n",
       "      <td>1</td>\n",
       "    </tr>\n",
       "    <tr>\n",
       "      <th>2</th>\n",
       "      <td>2016</td>\n",
       "      <td>2016-06-05</td>\n",
       "      <td>the Memorial Tournament presented by Nationwide</td>\n",
       "      <td>Muirfield Village Golf Club</td>\n",
       "      <td>Alex Cejka</td>\n",
       "      <td>T57</td>\n",
       "      <td>57</td>\n",
       "      <td>39.0</td>\n",
       "      <td>0.631</td>\n",
       "      <td>148.0</td>\n",
       "      <td>-0.292</td>\n",
       "      <td>12.0</td>\n",
       "      <td>0.626</td>\n",
       "      <td>20.0</td>\n",
       "      <td>0.297</td>\n",
       "      <td>90.0</td>\n",
       "      <td>0.010</td>\n",
       "      <td>17.0</td>\n",
       "      <td>21.89</td>\n",
       "      <td>3.0</td>\n",
       "      <td>2.98</td>\n",
       "      <td>14.0</td>\n",
       "      <td>4.01</td>\n",
       "      <td>10.0</td>\n",
       "      <td>4.57</td>\n",
       "      <td>78.0</td>\n",
       "      <td>177.0</td>\n",
       "      <td>155.0</td>\n",
       "      <td>281.5</td>\n",
       "      <td>22.0</td>\n",
       "      <td>65.89</td>\n",
       "      <td>39.0</td>\n",
       "      <td>67.99</td>\n",
       "      <td>3.0</td>\n",
       "      <td>65.03</td>\n",
       "      <td>130.0</td>\n",
       "      <td>1.22</td>\n",
       "      <td>NaN</td>\n",
       "      <td>57.1</td>\n",
       "      <td>491.17</td>\n",
       "      <td>35.08</td>\n",
       "      <td>0.0</td>\n",
       "      <td>52.5</td>\n",
       "      <td>19.39</td>\n",
       "      <td>90.0</td>\n",
       "      <td>129.84</td>\n",
       "      <td>0</td>\n",
       "    </tr>\n",
       "    <tr>\n",
       "      <th>3</th>\n",
       "      <td>2016</td>\n",
       "      <td>2016-06-05</td>\n",
       "      <td>the Memorial Tournament presented by Nationwide</td>\n",
       "      <td>Muirfield Village Golf Club</td>\n",
       "      <td>Andrew Loupe</td>\n",
       "      <td>CUT</td>\n",
       "      <td>90</td>\n",
       "      <td>150.0</td>\n",
       "      <td>-0.395</td>\n",
       "      <td>105.0</td>\n",
       "      <td>-0.005</td>\n",
       "      <td>154.0</td>\n",
       "      <td>-0.281</td>\n",
       "      <td>158.0</td>\n",
       "      <td>-0.172</td>\n",
       "      <td>38.0</td>\n",
       "      <td>0.280</td>\n",
       "      <td>12.0</td>\n",
       "      <td>22.74</td>\n",
       "      <td>78.0</td>\n",
       "      <td>3.06</td>\n",
       "      <td>177.0</td>\n",
       "      <td>4.11</td>\n",
       "      <td>13.0</td>\n",
       "      <td>4.58</td>\n",
       "      <td>101.0</td>\n",
       "      <td>189.0</td>\n",
       "      <td>5.0</td>\n",
       "      <td>309.3</td>\n",
       "      <td>184.0</td>\n",
       "      <td>45.56</td>\n",
       "      <td>148.0</td>\n",
       "      <td>63.41</td>\n",
       "      <td>175.0</td>\n",
       "      <td>52.83</td>\n",
       "      <td>194.0</td>\n",
       "      <td>0.91</td>\n",
       "      <td>NaN</td>\n",
       "      <td>58.8</td>\n",
       "      <td>482.82</td>\n",
       "      <td>28.40</td>\n",
       "      <td>0.0</td>\n",
       "      <td>56.0</td>\n",
       "      <td>19.37</td>\n",
       "      <td>NaN</td>\n",
       "      <td>NaN</td>\n",
       "      <td>0</td>\n",
       "    </tr>\n",
       "    <tr>\n",
       "      <th>4</th>\n",
       "      <td>2016</td>\n",
       "      <td>2016-06-05</td>\n",
       "      <td>the Memorial Tournament presented by Nationwide</td>\n",
       "      <td>Muirfield Village Golf Club</td>\n",
       "      <td>Anirban Lahiri</td>\n",
       "      <td>T61</td>\n",
       "      <td>61</td>\n",
       "      <td>97.0</td>\n",
       "      <td>0.088</td>\n",
       "      <td>95.0</td>\n",
       "      <td>0.025</td>\n",
       "      <td>90.0</td>\n",
       "      <td>0.143</td>\n",
       "      <td>130.0</td>\n",
       "      <td>-0.080</td>\n",
       "      <td>99.0</td>\n",
       "      <td>-0.020</td>\n",
       "      <td>107.0</td>\n",
       "      <td>19.73</td>\n",
       "      <td>136.0</td>\n",
       "      <td>3.09</td>\n",
       "      <td>97.0</td>\n",
       "      <td>4.05</td>\n",
       "      <td>155.0</td>\n",
       "      <td>4.74</td>\n",
       "      <td>154.0</td>\n",
       "      <td>232.0</td>\n",
       "      <td>82.0</td>\n",
       "      <td>291.7</td>\n",
       "      <td>150.0</td>\n",
       "      <td>56.31</td>\n",
       "      <td>161.0</td>\n",
       "      <td>62.88</td>\n",
       "      <td>138.0</td>\n",
       "      <td>56.4</td>\n",
       "      <td>92.0</td>\n",
       "      <td>1.63</td>\n",
       "      <td>100.0</td>\n",
       "      <td>70.0</td>\n",
       "      <td>269.75</td>\n",
       "      <td>26.98</td>\n",
       "      <td>4.0</td>\n",
       "      <td>50.5</td>\n",
       "      <td>21.06</td>\n",
       "      <td>NaN</td>\n",
       "      <td>NaN</td>\n",
       "      <td>0</td>\n",
       "    </tr>\n",
       "    <tr>\n",
       "      <th>5</th>\n",
       "      <td>2016</td>\n",
       "      <td>2016-06-05</td>\n",
       "      <td>the Memorial Tournament presented by Nationwide</td>\n",
       "      <td>Muirfield Village Golf Club</td>\n",
       "      <td>Ben Martin</td>\n",
       "      <td>T38</td>\n",
       "      <td>38</td>\n",
       "      <td>126.0</td>\n",
       "      <td>-0.117</td>\n",
       "      <td>79.0</td>\n",
       "      <td>0.079</td>\n",
       "      <td>101.0</td>\n",
       "      <td>0.081</td>\n",
       "      <td>169.0</td>\n",
       "      <td>-0.277</td>\n",
       "      <td>70.0</td>\n",
       "      <td>0.140</td>\n",
       "      <td>29.0</td>\n",
       "      <td>21.53</td>\n",
       "      <td>146.0</td>\n",
       "      <td>3.10</td>\n",
       "      <td>97.0</td>\n",
       "      <td>4.05</td>\n",
       "      <td>28.0</td>\n",
       "      <td>4.61</td>\n",
       "      <td>71.0</td>\n",
       "      <td>174.0</td>\n",
       "      <td>108.0</td>\n",
       "      <td>288.8</td>\n",
       "      <td>66.0</td>\n",
       "      <td>62.14</td>\n",
       "      <td>64.0</td>\n",
       "      <td>66.73</td>\n",
       "      <td>160.0</td>\n",
       "      <td>54.84</td>\n",
       "      <td>123.0</td>\n",
       "      <td>1.27</td>\n",
       "      <td>NaN</td>\n",
       "      <td>66.7</td>\n",
       "      <td>297.05</td>\n",
       "      <td>19.80</td>\n",
       "      <td>1.0</td>\n",
       "      <td>56.9</td>\n",
       "      <td>20.52</td>\n",
       "      <td>90.0</td>\n",
       "      <td>129.84</td>\n",
       "      <td>0</td>\n",
       "    </tr>\n",
       "    <tr>\n",
       "      <th>6</th>\n",
       "      <td>2016</td>\n",
       "      <td>2016-06-05</td>\n",
       "      <td>the Memorial Tournament presented by Nationwide</td>\n",
       "      <td>Muirfield Village Golf Club</td>\n",
       "      <td>Bill Haas</td>\n",
       "      <td>CUT</td>\n",
       "      <td>90</td>\n",
       "      <td>34.0</td>\n",
       "      <td>0.693</td>\n",
       "      <td>81.0</td>\n",
       "      <td>0.068</td>\n",
       "      <td>54.0</td>\n",
       "      <td>0.272</td>\n",
       "      <td>14.0</td>\n",
       "      <td>0.353</td>\n",
       "      <td>130.0</td>\n",
       "      <td>-0.174</td>\n",
       "      <td>172.0</td>\n",
       "      <td>17.89</td>\n",
       "      <td>22.0</td>\n",
       "      <td>3.02</td>\n",
       "      <td>68.0</td>\n",
       "      <td>4.04</td>\n",
       "      <td>100.0</td>\n",
       "      <td>4.69</td>\n",
       "      <td>55.0</td>\n",
       "      <td>159.0</td>\n",
       "      <td>97.0</td>\n",
       "      <td>289.6</td>\n",
       "      <td>62.0</td>\n",
       "      <td>62.34</td>\n",
       "      <td>57.0</td>\n",
       "      <td>67.14</td>\n",
       "      <td>12.0</td>\n",
       "      <td>63.3</td>\n",
       "      <td>44.0</td>\n",
       "      <td>2.87</td>\n",
       "      <td>60.0</td>\n",
       "      <td>78.6</td>\n",
       "      <td>932.50</td>\n",
       "      <td>66.61</td>\n",
       "      <td>2.0</td>\n",
       "      <td>36.2</td>\n",
       "      <td>13.37</td>\n",
       "      <td>18.0</td>\n",
       "      <td>25.97</td>\n",
       "      <td>0</td>\n",
       "    </tr>\n",
       "    <tr>\n",
       "      <th>7</th>\n",
       "      <td>2016</td>\n",
       "      <td>2016-06-05</td>\n",
       "      <td>the Memorial Tournament presented by Nationwide</td>\n",
       "      <td>Muirfield Village Golf Club</td>\n",
       "      <td>Brendan Steele</td>\n",
       "      <td>T20</td>\n",
       "      <td>20</td>\n",
       "      <td>50.0</td>\n",
       "      <td>0.542</td>\n",
       "      <td>39.0</td>\n",
       "      <td>0.331</td>\n",
       "      <td>63.0</td>\n",
       "      <td>0.238</td>\n",
       "      <td>161.0</td>\n",
       "      <td>-0.188</td>\n",
       "      <td>153.0</td>\n",
       "      <td>-0.287</td>\n",
       "      <td>82.0</td>\n",
       "      <td>20.17</td>\n",
       "      <td>136.0</td>\n",
       "      <td>3.09</td>\n",
       "      <td>114.0</td>\n",
       "      <td>4.06</td>\n",
       "      <td>13.0</td>\n",
       "      <td>4.58</td>\n",
       "      <td>15.0</td>\n",
       "      <td>114.0</td>\n",
       "      <td>20.0</td>\n",
       "      <td>302.2</td>\n",
       "      <td>94.0</td>\n",
       "      <td>60.29</td>\n",
       "      <td>25.0</td>\n",
       "      <td>68.72</td>\n",
       "      <td>162.0</td>\n",
       "      <td>54.76</td>\n",
       "      <td>88.0</td>\n",
       "      <td>1.69</td>\n",
       "      <td>150.0</td>\n",
       "      <td>73.3</td>\n",
       "      <td>602.08</td>\n",
       "      <td>40.14</td>\n",
       "      <td>3.0</td>\n",
       "      <td>44.9</td>\n",
       "      <td>16.19</td>\n",
       "      <td>63.0</td>\n",
       "      <td>90.89</td>\n",
       "      <td>1</td>\n",
       "    </tr>\n",
       "    <tr>\n",
       "      <th>8</th>\n",
       "      <td>2016</td>\n",
       "      <td>2016-06-05</td>\n",
       "      <td>the Memorial Tournament presented by Nationwide</td>\n",
       "      <td>Muirfield Village Golf Club</td>\n",
       "      <td>Brendon Todd</td>\n",
       "      <td>CUT</td>\n",
       "      <td>90</td>\n",
       "      <td>184.0</td>\n",
       "      <td>-2.055</td>\n",
       "      <td>184.0</td>\n",
       "      <td>-1.043</td>\n",
       "      <td>184.0</td>\n",
       "      <td>-1.424</td>\n",
       "      <td>5.0</td>\n",
       "      <td>0.412</td>\n",
       "      <td>17.0</td>\n",
       "      <td>0.462</td>\n",
       "      <td>183.0</td>\n",
       "      <td>15.78</td>\n",
       "      <td>184.0</td>\n",
       "      <td>3.21</td>\n",
       "      <td>177.0</td>\n",
       "      <td>4.11</td>\n",
       "      <td>164.0</td>\n",
       "      <td>4.75</td>\n",
       "      <td>178.0</td>\n",
       "      <td>292.0</td>\n",
       "      <td>167.0</td>\n",
       "      <td>280.1</td>\n",
       "      <td>125.0</td>\n",
       "      <td>58.02</td>\n",
       "      <td>185.0</td>\n",
       "      <td>54.23</td>\n",
       "      <td>35.0</td>\n",
       "      <td>61.46</td>\n",
       "      <td>364.0</td>\n",
       "      <td>0.51</td>\n",
       "      <td>NaN</td>\n",
       "      <td>20.0</td>\n",
       "      <td>242.73</td>\n",
       "      <td>12.14</td>\n",
       "      <td>0.0</td>\n",
       "      <td>81.4</td>\n",
       "      <td>26.74</td>\n",
       "      <td>17.0</td>\n",
       "      <td>24.53</td>\n",
       "      <td>0</td>\n",
       "    </tr>\n",
       "    <tr>\n",
       "      <th>9</th>\n",
       "      <td>2016</td>\n",
       "      <td>2016-06-05</td>\n",
       "      <td>the Memorial Tournament presented by Nationwide</td>\n",
       "      <td>Muirfield Village Golf Club</td>\n",
       "      <td>Brendon de Jonge</td>\n",
       "      <td>CUT</td>\n",
       "      <td>90</td>\n",
       "      <td>163.0</td>\n",
       "      <td>-0.488</td>\n",
       "      <td>143.0</td>\n",
       "      <td>-0.229</td>\n",
       "      <td>145.0</td>\n",
       "      <td>-0.195</td>\n",
       "      <td>125.0</td>\n",
       "      <td>-0.063</td>\n",
       "      <td>63.0</td>\n",
       "      <td>0.156</td>\n",
       "      <td>156.0</td>\n",
       "      <td>18.59</td>\n",
       "      <td>102.0</td>\n",
       "      <td>3.07</td>\n",
       "      <td>136.0</td>\n",
       "      <td>4.07</td>\n",
       "      <td>68.0</td>\n",
       "      <td>4.66</td>\n",
       "      <td>153.0</td>\n",
       "      <td>231.0</td>\n",
       "      <td>122.0</td>\n",
       "      <td>287.5</td>\n",
       "      <td>109.0</td>\n",
       "      <td>59.19</td>\n",
       "      <td>93.0</td>\n",
       "      <td>65.64</td>\n",
       "      <td>136.0</td>\n",
       "      <td>56.49</td>\n",
       "      <td>429.0</td>\n",
       "      <td>0.44</td>\n",
       "      <td>NaN</td>\n",
       "      <td>42.1</td>\n",
       "      <td>322.67</td>\n",
       "      <td>16.98</td>\n",
       "      <td>0.0</td>\n",
       "      <td>69.6</td>\n",
       "      <td>23.23</td>\n",
       "      <td>90.0</td>\n",
       "      <td>129.84</td>\n",
       "      <td>0</td>\n",
       "    </tr>\n",
       "  </tbody>\n",
       "</table>\n",
       "</div>"
      ],
      "text/plain": [
       "   SEASON ENDING_DATE                                       TOURNAMENT  \\\n",
       "0    2016  2016-06-05  the Memorial Tournament presented by Nationwide   \n",
       "1    2016  2016-06-05  the Memorial Tournament presented by Nationwide   \n",
       "2    2016  2016-06-05  the Memorial Tournament presented by Nationwide   \n",
       "3    2016  2016-06-05  the Memorial Tournament presented by Nationwide   \n",
       "4    2016  2016-06-05  the Memorial Tournament presented by Nationwide   \n",
       "5    2016  2016-06-05  the Memorial Tournament presented by Nationwide   \n",
       "6    2016  2016-06-05  the Memorial Tournament presented by Nationwide   \n",
       "7    2016  2016-06-05  the Memorial Tournament presented by Nationwide   \n",
       "8    2016  2016-06-05  the Memorial Tournament presented by Nationwide   \n",
       "9    2016  2016-06-05  the Memorial Tournament presented by Nationwide   \n",
       "\n",
       "                        COURSE            PLAYER  POS  FINAL_POS  SGTTG_RANK  \\\n",
       "0  Muirfield Village Golf Club    Aaron Baddeley  CUT         90       146.0   \n",
       "1  Muirfield Village Golf Club       Adam Hadwin  T11         11       111.0   \n",
       "2  Muirfield Village Golf Club        Alex Cejka  T57         57        39.0   \n",
       "3  Muirfield Village Golf Club      Andrew Loupe  CUT         90       150.0   \n",
       "4  Muirfield Village Golf Club    Anirban Lahiri  T61         61        97.0   \n",
       "5  Muirfield Village Golf Club        Ben Martin  T38         38       126.0   \n",
       "6  Muirfield Village Golf Club         Bill Haas  CUT         90        34.0   \n",
       "7  Muirfield Village Golf Club    Brendan Steele  T20         20        50.0   \n",
       "8  Muirfield Village Golf Club      Brendon Todd  CUT         90       184.0   \n",
       "9  Muirfield Village Golf Club  Brendon de Jonge  CUT         90       163.0   \n",
       "\n",
       "   SGTTG  SGOTT_RANK  SGOTT  SGAPR_RANK  SGAPR  SGATG_RANK  SGATG  SGP_RANK  \\\n",
       "0 -0.330       159.0 -0.366       164.0 -0.362        10.0  0.402       8.0   \n",
       "1 -0.011        55.0  0.223       121.0 -0.055       132.0 -0.081      11.0   \n",
       "2  0.631       148.0 -0.292        12.0  0.626        20.0  0.297      90.0   \n",
       "3 -0.395       105.0 -0.005       154.0 -0.281       158.0 -0.172      38.0   \n",
       "4  0.088        95.0  0.025        90.0  0.143       130.0 -0.080      99.0   \n",
       "5 -0.117        79.0  0.079       101.0  0.081       169.0 -0.277      70.0   \n",
       "6  0.693        81.0  0.068        54.0  0.272        14.0  0.353     130.0   \n",
       "7  0.542        39.0  0.331        63.0  0.238       161.0 -0.188     153.0   \n",
       "8 -2.055       184.0 -1.043       184.0 -1.424         5.0  0.412      17.0   \n",
       "9 -0.488       143.0 -0.229       145.0 -0.195       125.0 -0.063      63.0   \n",
       "\n",
       "     SGP  BIRDIES_RANK BIRDIES  PAR_3_RANK  PAR_3  PAR_4_RANK  PAR_4  \\\n",
       "0  0.586          59.0   20.72        78.0   3.06        14.0   4.01   \n",
       "1  0.530          22.0   21.74        16.0   3.01        48.0   4.03   \n",
       "2  0.010          17.0   21.89         3.0   2.98        14.0   4.01   \n",
       "3  0.280          12.0   22.74        78.0   3.06       177.0   4.11   \n",
       "4 -0.020         107.0   19.73       136.0   3.09        97.0   4.05   \n",
       "5  0.140          29.0   21.53       146.0   3.10        97.0   4.05   \n",
       "6 -0.174         172.0   17.89        22.0   3.02        68.0   4.04   \n",
       "7 -0.287          82.0   20.17       136.0   3.09       114.0   4.06   \n",
       "8  0.462         183.0   15.78       184.0   3.21       177.0   4.11   \n",
       "9  0.156         156.0   18.59       102.0   3.07       136.0   4.07   \n",
       "\n",
       "   PAR_5_RANK  PAR_5  TOTAL_DRIVING_RANK  TOTAL_DRIVING  \\\n",
       "0        50.0   4.64               159.0          237.0   \n",
       "1        68.0   4.66                35.0          141.0   \n",
       "2        10.0   4.57                78.0          177.0   \n",
       "3        13.0   4.58               101.0          189.0   \n",
       "4       155.0   4.74               154.0          232.0   \n",
       "5        28.0   4.61                71.0          174.0   \n",
       "6       100.0   4.69                55.0          159.0   \n",
       "7        13.0   4.58                15.0          114.0   \n",
       "8       164.0   4.75               178.0          292.0   \n",
       "9        68.0   4.66               153.0          231.0   \n",
       "\n",
       "   DRIVING_DISTANCE_RANK  DRIVING_DISTANCE  DRIVING_ACCURACY_RANK  \\\n",
       "0                   82.0             291.7                  155.0   \n",
       "1                   92.0             290.1                   49.0   \n",
       "2                  155.0             281.5                   22.0   \n",
       "3                    5.0             309.3                  184.0   \n",
       "4                   82.0             291.7                  150.0   \n",
       "5                  108.0             288.8                   66.0   \n",
       "6                   97.0             289.6                   62.0   \n",
       "7                   20.0             302.2                   94.0   \n",
       "8                  167.0             280.1                  125.0   \n",
       "9                  122.0             287.5                  109.0   \n",
       "\n",
       "  DRIVING_ACCURACY  GIR_RANK    GIR  SCRAMBLING_RANK SCRAMBLING  OWGR_RANK  \\\n",
       "0            55.42     154.0  63.11              5.0       64.3      143.0   \n",
       "1            63.62      83.0  66.07             97.0      58.27      193.0   \n",
       "2            65.89      39.0  67.99              3.0      65.03      130.0   \n",
       "3            45.56     148.0  63.41            175.0      52.83      194.0   \n",
       "4            56.31     161.0  62.88            138.0       56.4       92.0   \n",
       "5            62.14      64.0  66.73            160.0      54.84      123.0   \n",
       "6            62.34      57.0  67.14             12.0       63.3       44.0   \n",
       "7            60.29      25.0  68.72            162.0      54.76       88.0   \n",
       "8            58.02     185.0  54.23             35.0      61.46      364.0   \n",
       "9            59.19      93.0  65.64            136.0      56.49      429.0   \n",
       "\n",
       "   OWGR  VEGAS_ODDS  CUT_PERCENTAGE  FEDEX_CUP_POINTS  form_density  \\\n",
       "0  1.14         NaN            62.5            378.00         23.62   \n",
       "1  0.91         NaN            72.2            426.67         23.70   \n",
       "2  1.22         NaN            57.1            491.17         35.08   \n",
       "3  0.91         NaN            58.8            482.82         28.40   \n",
       "4  1.63       100.0            70.0            269.75         26.98   \n",
       "5  1.27         NaN            66.7            297.05         19.80   \n",
       "6  2.87        60.0            78.6            932.50         66.61   \n",
       "7  1.69       150.0            73.3            602.08         40.14   \n",
       "8  0.51         NaN            20.0            242.73         12.14   \n",
       "9  0.44         NaN            42.1            322.67         16.98   \n",
       "\n",
       "   CONSECUTIVE_CUTS  RECENT_FORM  adj_form  COURSE_HISTORY  adj_ch  TOP_20  \n",
       "0               1.0         54.1     19.09             NaN     NaN       0  \n",
       "1               5.0         51.9     17.63            57.0   82.23       1  \n",
       "2               0.0         52.5     19.39            90.0  129.84       0  \n",
       "3               0.0         56.0     19.37             NaN     NaN       0  \n",
       "4               4.0         50.5     21.06             NaN     NaN       0  \n",
       "5               1.0         56.9     20.52            90.0  129.84       0  \n",
       "6               2.0         36.2     13.37            18.0   25.97       0  \n",
       "7               3.0         44.9     16.19            63.0   90.89       1  \n",
       "8               0.0         81.4     26.74            17.0   24.53       0  \n",
       "9               0.0         69.6     23.23            90.0  129.84       0  "
      ]
     },
     "execution_count": 6,
     "metadata": {},
     "output_type": "execute_result"
    }
   ],
   "source": [
    "pd.set_option(\"display.max_columns\", None)   # Show all columns\n",
    "importlib.reload(utils.db_utils)\n",
    "from utils.db_utils import build_training_rows\n",
    "training_df = build_training_rows(\n",
    "    db_path,\n",
    "    history_df,\n",
    "    cuts,\n",
    "    recent_form,\n",
    "    course_hist,\n",
    ")\n",
    "training_df.head(10)\n",
    "# training_df.info()\n",
    "# training_df.isna().sum().sort_values(ascending=False)"
   ]
  },
  {
   "cell_type": "code",
   "execution_count": 7,
   "id": "c5df12cc",
   "metadata": {},
   "outputs": [
    {
     "data": {
      "text/html": [
       "<div>\n",
       "<style scoped>\n",
       "    .dataframe tbody tr th:only-of-type {\n",
       "        vertical-align: middle;\n",
       "    }\n",
       "\n",
       "    .dataframe tbody tr th {\n",
       "        vertical-align: top;\n",
       "    }\n",
       "\n",
       "    .dataframe thead th {\n",
       "        text-align: right;\n",
       "    }\n",
       "</style>\n",
       "<table border=\"1\" class=\"dataframe\">\n",
       "  <thead>\n",
       "    <tr style=\"text-align: right;\">\n",
       "      <th></th>\n",
       "      <th>SEASON</th>\n",
       "      <th>ENDING_DATE</th>\n",
       "      <th>TOURNAMENT</th>\n",
       "      <th>COURSE</th>\n",
       "      <th>PLAYER</th>\n",
       "      <th>POS</th>\n",
       "      <th>FINAL_POS</th>\n",
       "      <th>SGTTG_RANK</th>\n",
       "      <th>SGTTG</th>\n",
       "      <th>SGOTT_RANK</th>\n",
       "      <th>SGOTT</th>\n",
       "      <th>SGAPR_RANK</th>\n",
       "      <th>SGAPR</th>\n",
       "      <th>SGATG_RANK</th>\n",
       "      <th>SGATG</th>\n",
       "      <th>SGP_RANK</th>\n",
       "      <th>SGP</th>\n",
       "      <th>BIRDIES_RANK</th>\n",
       "      <th>BIRDIES</th>\n",
       "      <th>PAR_3_RANK</th>\n",
       "      <th>PAR_3</th>\n",
       "      <th>PAR_4_RANK</th>\n",
       "      <th>PAR_4</th>\n",
       "      <th>PAR_5_RANK</th>\n",
       "      <th>PAR_5</th>\n",
       "      <th>TOTAL_DRIVING_RANK</th>\n",
       "      <th>TOTAL_DRIVING</th>\n",
       "      <th>DRIVING_DISTANCE_RANK</th>\n",
       "      <th>DRIVING_DISTANCE</th>\n",
       "      <th>DRIVING_ACCURACY_RANK</th>\n",
       "      <th>DRIVING_ACCURACY</th>\n",
       "      <th>GIR_RANK</th>\n",
       "      <th>GIR</th>\n",
       "      <th>SCRAMBLING_RANK</th>\n",
       "      <th>SCRAMBLING</th>\n",
       "      <th>OWGR_RANK</th>\n",
       "      <th>OWGR</th>\n",
       "      <th>VEGAS_ODDS</th>\n",
       "      <th>CUT_PERCENTAGE</th>\n",
       "      <th>FEDEX_CUP_POINTS</th>\n",
       "      <th>form_density</th>\n",
       "      <th>CONSECUTIVE_CUTS</th>\n",
       "      <th>RECENT_FORM</th>\n",
       "      <th>adj_form</th>\n",
       "      <th>COURSE_HISTORY</th>\n",
       "      <th>adj_ch</th>\n",
       "      <th>TOP_20</th>\n",
       "    </tr>\n",
       "  </thead>\n",
       "  <tbody>\n",
       "    <tr>\n",
       "      <th>728</th>\n",
       "      <td>2022</td>\n",
       "      <td>2022-06-05</td>\n",
       "      <td>the Memorial Tournament presented by Workday</td>\n",
       "      <td>Muirfield Village Golf Club</td>\n",
       "      <td>Aaron Rai</td>\n",
       "      <td>T26</td>\n",
       "      <td>26</td>\n",
       "      <td>46.0</td>\n",
       "      <td>0.490</td>\n",
       "      <td>69.0</td>\n",
       "      <td>0.146</td>\n",
       "      <td>46.0</td>\n",
       "      <td>0.301</td>\n",
       "      <td>93.0</td>\n",
       "      <td>0.042</td>\n",
       "      <td>139.0</td>\n",
       "      <td>-0.106</td>\n",
       "      <td>151.0</td>\n",
       "      <td>20.04</td>\n",
       "      <td>125.0</td>\n",
       "      <td>3.07</td>\n",
       "      <td>76.0</td>\n",
       "      <td>4.02</td>\n",
       "      <td>44.0</td>\n",
       "      <td>4.58</td>\n",
       "      <td>42.0</td>\n",
       "      <td>151.0</td>\n",
       "      <td>135.0</td>\n",
       "      <td>295.4</td>\n",
       "      <td>16.0</td>\n",
       "      <td>67.37</td>\n",
       "      <td>23.0</td>\n",
       "      <td>68.79</td>\n",
       "      <td>75.0</td>\n",
       "      <td>60.2</td>\n",
       "      <td>173.0</td>\n",
       "      <td>1.00</td>\n",
       "      <td>150.0</td>\n",
       "      <td>68.4</td>\n",
       "      <td>317.41</td>\n",
       "      <td>16.71</td>\n",
       "      <td>2.0</td>\n",
       "      <td>56.6</td>\n",
       "      <td>18.89</td>\n",
       "      <td>NaN</td>\n",
       "      <td>NaN</td>\n",
       "      <td>0</td>\n",
       "    </tr>\n",
       "    <tr>\n",
       "      <th>729</th>\n",
       "      <td>2022</td>\n",
       "      <td>2022-06-05</td>\n",
       "      <td>the Memorial Tournament presented by Workday</td>\n",
       "      <td>Muirfield Village Golf Club</td>\n",
       "      <td>Aaron Wise</td>\n",
       "      <td>2</td>\n",
       "      <td>2</td>\n",
       "      <td>25.0</td>\n",
       "      <td>0.952</td>\n",
       "      <td>31.0</td>\n",
       "      <td>0.387</td>\n",
       "      <td>21.0</td>\n",
       "      <td>0.489</td>\n",
       "      <td>85.0</td>\n",
       "      <td>0.076</td>\n",
       "      <td>81.0</td>\n",
       "      <td>0.100</td>\n",
       "      <td>22.0</td>\n",
       "      <td>23.39</td>\n",
       "      <td>4.0</td>\n",
       "      <td>2.98</td>\n",
       "      <td>25.0</td>\n",
       "      <td>3.99</td>\n",
       "      <td>24.0</td>\n",
       "      <td>4.55</td>\n",
       "      <td>44.0</td>\n",
       "      <td>154.0</td>\n",
       "      <td>39.0</td>\n",
       "      <td>308.3</td>\n",
       "      <td>115.0</td>\n",
       "      <td>59.15</td>\n",
       "      <td>21.0</td>\n",
       "      <td>69.06</td>\n",
       "      <td>31.0</td>\n",
       "      <td>62.63</td>\n",
       "      <td>37.0</td>\n",
       "      <td>2.69</td>\n",
       "      <td>60.0</td>\n",
       "      <td>75.0</td>\n",
       "      <td>529.33</td>\n",
       "      <td>33.08</td>\n",
       "      <td>4.0</td>\n",
       "      <td>42.2</td>\n",
       "      <td>14.89</td>\n",
       "      <td>63.0</td>\n",
       "      <td>45.44</td>\n",
       "      <td>1</td>\n",
       "    </tr>\n",
       "    <tr>\n",
       "      <th>730</th>\n",
       "      <td>2022</td>\n",
       "      <td>2022-06-05</td>\n",
       "      <td>the Memorial Tournament presented by Workday</td>\n",
       "      <td>Muirfield Village Golf Club</td>\n",
       "      <td>Abraham Ancer</td>\n",
       "      <td>T32</td>\n",
       "      <td>32</td>\n",
       "      <td>122.0</td>\n",
       "      <td>-0.026</td>\n",
       "      <td>29.0</td>\n",
       "      <td>0.395</td>\n",
       "      <td>109.0</td>\n",
       "      <td>0.026</td>\n",
       "      <td>189.0</td>\n",
       "      <td>-0.447</td>\n",
       "      <td>62.0</td>\n",
       "      <td>0.165</td>\n",
       "      <td>61.0</td>\n",
       "      <td>21.84</td>\n",
       "      <td>62.0</td>\n",
       "      <td>3.04</td>\n",
       "      <td>25.0</td>\n",
       "      <td>3.99</td>\n",
       "      <td>81.0</td>\n",
       "      <td>4.62</td>\n",
       "      <td>18.0</td>\n",
       "      <td>124.0</td>\n",
       "      <td>120.0</td>\n",
       "      <td>297.1</td>\n",
       "      <td>4.0</td>\n",
       "      <td>70.54</td>\n",
       "      <td>77.0</td>\n",
       "      <td>66.86</td>\n",
       "      <td>64.0</td>\n",
       "      <td>60.69</td>\n",
       "      <td>24.0</td>\n",
       "      <td>3.21</td>\n",
       "      <td>60.0</td>\n",
       "      <td>66.7</td>\n",
       "      <td>313.03</td>\n",
       "      <td>20.87</td>\n",
       "      <td>0.0</td>\n",
       "      <td>51.2</td>\n",
       "      <td>18.47</td>\n",
       "      <td>60.0</td>\n",
       "      <td>43.28</td>\n",
       "      <td>0</td>\n",
       "    </tr>\n",
       "    <tr>\n",
       "      <th>731</th>\n",
       "      <td>2022</td>\n",
       "      <td>2022-06-05</td>\n",
       "      <td>the Memorial Tournament presented by Workday</td>\n",
       "      <td>Muirfield Village Golf Club</td>\n",
       "      <td>Adam Hadwin</td>\n",
       "      <td>T18</td>\n",
       "      <td>18</td>\n",
       "      <td>43.0</td>\n",
       "      <td>0.550</td>\n",
       "      <td>130.0</td>\n",
       "      <td>-0.084</td>\n",
       "      <td>49.0</td>\n",
       "      <td>0.274</td>\n",
       "      <td>14.0</td>\n",
       "      <td>0.361</td>\n",
       "      <td>73.0</td>\n",
       "      <td>0.127</td>\n",
       "      <td>81.0</td>\n",
       "      <td>21.54</td>\n",
       "      <td>31.0</td>\n",
       "      <td>3.02</td>\n",
       "      <td>58.0</td>\n",
       "      <td>4.01</td>\n",
       "      <td>64.0</td>\n",
       "      <td>4.60</td>\n",
       "      <td>49.0</td>\n",
       "      <td>161.0</td>\n",
       "      <td>117.0</td>\n",
       "      <td>297.2</td>\n",
       "      <td>44.0</td>\n",
       "      <td>63.71</td>\n",
       "      <td>52.0</td>\n",
       "      <td>67.84</td>\n",
       "      <td>46.0</td>\n",
       "      <td>61.61</td>\n",
       "      <td>82.0</td>\n",
       "      <td>1.60</td>\n",
       "      <td>100.0</td>\n",
       "      <td>76.5</td>\n",
       "      <td>531.52</td>\n",
       "      <td>31.27</td>\n",
       "      <td>1.0</td>\n",
       "      <td>44.0</td>\n",
       "      <td>15.22</td>\n",
       "      <td>61.1</td>\n",
       "      <td>29.38</td>\n",
       "      <td>1</td>\n",
       "    </tr>\n",
       "    <tr>\n",
       "      <th>732</th>\n",
       "      <td>2022</td>\n",
       "      <td>2022-06-05</td>\n",
       "      <td>the Memorial Tournament presented by Workday</td>\n",
       "      <td>Muirfield Village Golf Club</td>\n",
       "      <td>Adam Long</td>\n",
       "      <td>CUT</td>\n",
       "      <td>90</td>\n",
       "      <td>91.0</td>\n",
       "      <td>0.150</td>\n",
       "      <td>83.0</td>\n",
       "      <td>0.088</td>\n",
       "      <td>100.0</td>\n",
       "      <td>0.062</td>\n",
       "      <td>112.0</td>\n",
       "      <td>0.000</td>\n",
       "      <td>24.0</td>\n",
       "      <td>0.402</td>\n",
       "      <td>134.0</td>\n",
       "      <td>20.45</td>\n",
       "      <td>31.0</td>\n",
       "      <td>3.02</td>\n",
       "      <td>25.0</td>\n",
       "      <td>3.99</td>\n",
       "      <td>157.0</td>\n",
       "      <td>4.69</td>\n",
       "      <td>102.0</td>\n",
       "      <td>198.0</td>\n",
       "      <td>165.0</td>\n",
       "      <td>291.6</td>\n",
       "      <td>33.0</td>\n",
       "      <td>64.74</td>\n",
       "      <td>66.0</td>\n",
       "      <td>67.17</td>\n",
       "      <td>17.0</td>\n",
       "      <td>64.23</td>\n",
       "      <td>221.0</td>\n",
       "      <td>0.84</td>\n",
       "      <td>125.0</td>\n",
       "      <td>65.0</td>\n",
       "      <td>391.54</td>\n",
       "      <td>19.58</td>\n",
       "      <td>1.0</td>\n",
       "      <td>52.4</td>\n",
       "      <td>17.21</td>\n",
       "      <td>68.7</td>\n",
       "      <td>49.56</td>\n",
       "      <td>0</td>\n",
       "    </tr>\n",
       "  </tbody>\n",
       "</table>\n",
       "</div>"
      ],
      "text/plain": [
       "     SEASON ENDING_DATE                                    TOURNAMENT  \\\n",
       "728    2022  2022-06-05  the Memorial Tournament presented by Workday   \n",
       "729    2022  2022-06-05  the Memorial Tournament presented by Workday   \n",
       "730    2022  2022-06-05  the Memorial Tournament presented by Workday   \n",
       "731    2022  2022-06-05  the Memorial Tournament presented by Workday   \n",
       "732    2022  2022-06-05  the Memorial Tournament presented by Workday   \n",
       "\n",
       "                          COURSE         PLAYER  POS  FINAL_POS  SGTTG_RANK  \\\n",
       "728  Muirfield Village Golf Club      Aaron Rai  T26         26        46.0   \n",
       "729  Muirfield Village Golf Club     Aaron Wise    2          2        25.0   \n",
       "730  Muirfield Village Golf Club  Abraham Ancer  T32         32       122.0   \n",
       "731  Muirfield Village Golf Club    Adam Hadwin  T18         18        43.0   \n",
       "732  Muirfield Village Golf Club      Adam Long  CUT         90        91.0   \n",
       "\n",
       "     SGTTG  SGOTT_RANK  SGOTT  SGAPR_RANK  SGAPR  SGATG_RANK  SGATG  SGP_RANK  \\\n",
       "728  0.490        69.0  0.146        46.0  0.301        93.0  0.042     139.0   \n",
       "729  0.952        31.0  0.387        21.0  0.489        85.0  0.076      81.0   \n",
       "730 -0.026        29.0  0.395       109.0  0.026       189.0 -0.447      62.0   \n",
       "731  0.550       130.0 -0.084        49.0  0.274        14.0  0.361      73.0   \n",
       "732  0.150        83.0  0.088       100.0  0.062       112.0  0.000      24.0   \n",
       "\n",
       "       SGP  BIRDIES_RANK BIRDIES  PAR_3_RANK  PAR_3  PAR_4_RANK  PAR_4  \\\n",
       "728 -0.106         151.0   20.04       125.0   3.07        76.0   4.02   \n",
       "729  0.100          22.0   23.39         4.0   2.98        25.0   3.99   \n",
       "730  0.165          61.0   21.84        62.0   3.04        25.0   3.99   \n",
       "731  0.127          81.0   21.54        31.0   3.02        58.0   4.01   \n",
       "732  0.402         134.0   20.45        31.0   3.02        25.0   3.99   \n",
       "\n",
       "     PAR_5_RANK  PAR_5  TOTAL_DRIVING_RANK  TOTAL_DRIVING  \\\n",
       "728        44.0   4.58                42.0          151.0   \n",
       "729        24.0   4.55                44.0          154.0   \n",
       "730        81.0   4.62                18.0          124.0   \n",
       "731        64.0   4.60                49.0          161.0   \n",
       "732       157.0   4.69               102.0          198.0   \n",
       "\n",
       "     DRIVING_DISTANCE_RANK  DRIVING_DISTANCE  DRIVING_ACCURACY_RANK  \\\n",
       "728                  135.0             295.4                   16.0   \n",
       "729                   39.0             308.3                  115.0   \n",
       "730                  120.0             297.1                    4.0   \n",
       "731                  117.0             297.2                   44.0   \n",
       "732                  165.0             291.6                   33.0   \n",
       "\n",
       "    DRIVING_ACCURACY  GIR_RANK    GIR  SCRAMBLING_RANK SCRAMBLING  OWGR_RANK  \\\n",
       "728            67.37      23.0  68.79             75.0       60.2      173.0   \n",
       "729            59.15      21.0  69.06             31.0      62.63       37.0   \n",
       "730            70.54      77.0  66.86             64.0      60.69       24.0   \n",
       "731            63.71      52.0  67.84             46.0      61.61       82.0   \n",
       "732            64.74      66.0  67.17             17.0      64.23      221.0   \n",
       "\n",
       "     OWGR  VEGAS_ODDS  CUT_PERCENTAGE  FEDEX_CUP_POINTS  form_density  \\\n",
       "728  1.00       150.0            68.4            317.41         16.71   \n",
       "729  2.69        60.0            75.0            529.33         33.08   \n",
       "730  3.21        60.0            66.7            313.03         20.87   \n",
       "731  1.60       100.0            76.5            531.52         31.27   \n",
       "732  0.84       125.0            65.0            391.54         19.58   \n",
       "\n",
       "     CONSECUTIVE_CUTS  RECENT_FORM  adj_form  COURSE_HISTORY  adj_ch  TOP_20  \n",
       "728               2.0         56.6     18.89             NaN     NaN       0  \n",
       "729               4.0         42.2     14.89            63.0   45.44       1  \n",
       "730               0.0         51.2     18.47            60.0   43.28       0  \n",
       "731               1.0         44.0     15.22            61.1   29.38       1  \n",
       "732               1.0         52.4     17.21            68.7   49.56       0  "
      ]
     },
     "execution_count": 7,
     "metadata": {},
     "output_type": "execute_result"
    }
   ],
   "source": [
    "# Play with different years to see if I notice anything wrong\n",
    "training_df[training_df[\"SEASON\"] == 2022].head()"
   ]
  },
  {
   "cell_type": "markdown",
   "id": "5f92ff52",
   "metadata": {},
   "source": [
    "### Normalization\n",
    "***Fix Historical Odds***\n",
    "\n",
    "Many names do not have historical odds but rather are part of the \"field.\" So giving these \"NaN\" values the average odds (as I would for missing stats) isn't a good approximation of reality – they are typically the \"field\" because they are not notable and have poor odds individually.\n",
    "\n",
    "There are also some crazy odds numbers occasionally (1000/1 or 3000/1) that don't happen all that much and are making that tail too long.\n",
    "\n",
    "This cell assigns odds of 1000/1 for anyone missing and clips anything larger to 1000/1 to normalize the data better and assign the missing odds more appropriately where they belong.\n",
    "\n",
    "***OWGR Adjustment***\n",
    "\n",
    "The NaN's for OWGR are similarly bad players.  So we should assign these the worst ranking instead of the mean and clip it at 1000 just in case there are ever outliers.\n",
    "\n",
    "For the OWGR score, it should match the lowest score in the dataset to assign that person the same as the worst.\n",
    "\n",
    "***Recent Form Adjustment***\n",
    "\n",
    "The NaN's for Recent Form mean that this player has not played any tournaments in the lookback period (9 months).  Similar to Odds and OWGR, I want to punish those that don't play often in my model.  Set these to 90 (i.e. like they miss a lot of cuts - because if they aren't playing they aren't good enough to make it to these tournaments very frequently).  The adj_form feature will also need to be updated here with the new data.\n",
    "\n",
    "***FedEx Cup Point Adjustment***\n",
    "\n",
    "The NaN's for FedEx Cup Points means there is no data.  Therefore they should be 0."
   ]
  },
  {
   "cell_type": "code",
   "execution_count": 8,
   "id": "3e9f4f19",
   "metadata": {},
   "outputs": [
    {
     "data": {
      "text/html": [
       "<div>\n",
       "<style scoped>\n",
       "    .dataframe tbody tr th:only-of-type {\n",
       "        vertical-align: middle;\n",
       "    }\n",
       "\n",
       "    .dataframe tbody tr th {\n",
       "        vertical-align: top;\n",
       "    }\n",
       "\n",
       "    .dataframe thead th {\n",
       "        text-align: right;\n",
       "    }\n",
       "</style>\n",
       "<table border=\"1\" class=\"dataframe\">\n",
       "  <thead>\n",
       "    <tr style=\"text-align: right;\">\n",
       "      <th></th>\n",
       "      <th>SEASON</th>\n",
       "      <th>ENDING_DATE</th>\n",
       "      <th>TOURNAMENT</th>\n",
       "      <th>COURSE</th>\n",
       "      <th>PLAYER</th>\n",
       "      <th>POS</th>\n",
       "      <th>FINAL_POS</th>\n",
       "      <th>SGTTG_RANK</th>\n",
       "      <th>SGTTG</th>\n",
       "      <th>SGOTT_RANK</th>\n",
       "      <th>SGOTT</th>\n",
       "      <th>SGAPR_RANK</th>\n",
       "      <th>SGAPR</th>\n",
       "      <th>SGATG_RANK</th>\n",
       "      <th>SGATG</th>\n",
       "      <th>SGP_RANK</th>\n",
       "      <th>SGP</th>\n",
       "      <th>BIRDIES_RANK</th>\n",
       "      <th>BIRDIES</th>\n",
       "      <th>PAR_3_RANK</th>\n",
       "      <th>PAR_3</th>\n",
       "      <th>PAR_4_RANK</th>\n",
       "      <th>PAR_4</th>\n",
       "      <th>PAR_5_RANK</th>\n",
       "      <th>PAR_5</th>\n",
       "      <th>TOTAL_DRIVING_RANK</th>\n",
       "      <th>TOTAL_DRIVING</th>\n",
       "      <th>DRIVING_DISTANCE_RANK</th>\n",
       "      <th>DRIVING_DISTANCE</th>\n",
       "      <th>DRIVING_ACCURACY_RANK</th>\n",
       "      <th>DRIVING_ACCURACY</th>\n",
       "      <th>GIR_RANK</th>\n",
       "      <th>GIR</th>\n",
       "      <th>SCRAMBLING_RANK</th>\n",
       "      <th>SCRAMBLING</th>\n",
       "      <th>OWGR_RANK</th>\n",
       "      <th>OWGR</th>\n",
       "      <th>VEGAS_ODDS</th>\n",
       "      <th>CUT_PERCENTAGE</th>\n",
       "      <th>FEDEX_CUP_POINTS</th>\n",
       "      <th>form_density</th>\n",
       "      <th>CONSECUTIVE_CUTS</th>\n",
       "      <th>RECENT_FORM</th>\n",
       "      <th>adj_form</th>\n",
       "      <th>COURSE_HISTORY</th>\n",
       "      <th>adj_ch</th>\n",
       "      <th>TOP_20</th>\n",
       "    </tr>\n",
       "  </thead>\n",
       "  <tbody>\n",
       "    <tr>\n",
       "      <th>0</th>\n",
       "      <td>2016</td>\n",
       "      <td>2016-06-05</td>\n",
       "      <td>the Memorial Tournament presented by Nationwide</td>\n",
       "      <td>Muirfield Village Golf Club</td>\n",
       "      <td>Aaron Baddeley</td>\n",
       "      <td>CUT</td>\n",
       "      <td>90</td>\n",
       "      <td>146.0</td>\n",
       "      <td>-0.330</td>\n",
       "      <td>159.0</td>\n",
       "      <td>-0.366</td>\n",
       "      <td>164.0</td>\n",
       "      <td>-0.362</td>\n",
       "      <td>10.0</td>\n",
       "      <td>0.402</td>\n",
       "      <td>8.0</td>\n",
       "      <td>0.586</td>\n",
       "      <td>59.0</td>\n",
       "      <td>20.72</td>\n",
       "      <td>78.0</td>\n",
       "      <td>3.06</td>\n",
       "      <td>14.0</td>\n",
       "      <td>4.01</td>\n",
       "      <td>50.0</td>\n",
       "      <td>4.64</td>\n",
       "      <td>159.0</td>\n",
       "      <td>237.0</td>\n",
       "      <td>82.0</td>\n",
       "      <td>291.7</td>\n",
       "      <td>155.0</td>\n",
       "      <td>55.42</td>\n",
       "      <td>154.0</td>\n",
       "      <td>63.11</td>\n",
       "      <td>5.0</td>\n",
       "      <td>64.3</td>\n",
       "      <td>143.0</td>\n",
       "      <td>1.14</td>\n",
       "      <td>1000.0</td>\n",
       "      <td>62.5</td>\n",
       "      <td>378.00</td>\n",
       "      <td>23.62</td>\n",
       "      <td>1.0</td>\n",
       "      <td>54.1</td>\n",
       "      <td>19.09</td>\n",
       "      <td>NaN</td>\n",
       "      <td>NaN</td>\n",
       "      <td>0</td>\n",
       "    </tr>\n",
       "    <tr>\n",
       "      <th>1</th>\n",
       "      <td>2016</td>\n",
       "      <td>2016-06-05</td>\n",
       "      <td>the Memorial Tournament presented by Nationwide</td>\n",
       "      <td>Muirfield Village Golf Club</td>\n",
       "      <td>Adam Hadwin</td>\n",
       "      <td>T11</td>\n",
       "      <td>11</td>\n",
       "      <td>111.0</td>\n",
       "      <td>-0.011</td>\n",
       "      <td>55.0</td>\n",
       "      <td>0.223</td>\n",
       "      <td>121.0</td>\n",
       "      <td>-0.055</td>\n",
       "      <td>132.0</td>\n",
       "      <td>-0.081</td>\n",
       "      <td>11.0</td>\n",
       "      <td>0.530</td>\n",
       "      <td>22.0</td>\n",
       "      <td>21.74</td>\n",
       "      <td>16.0</td>\n",
       "      <td>3.01</td>\n",
       "      <td>48.0</td>\n",
       "      <td>4.03</td>\n",
       "      <td>68.0</td>\n",
       "      <td>4.66</td>\n",
       "      <td>35.0</td>\n",
       "      <td>141.0</td>\n",
       "      <td>92.0</td>\n",
       "      <td>290.1</td>\n",
       "      <td>49.0</td>\n",
       "      <td>63.62</td>\n",
       "      <td>83.0</td>\n",
       "      <td>66.07</td>\n",
       "      <td>97.0</td>\n",
       "      <td>58.27</td>\n",
       "      <td>193.0</td>\n",
       "      <td>0.91</td>\n",
       "      <td>1000.0</td>\n",
       "      <td>72.2</td>\n",
       "      <td>426.67</td>\n",
       "      <td>23.70</td>\n",
       "      <td>5.0</td>\n",
       "      <td>51.9</td>\n",
       "      <td>17.63</td>\n",
       "      <td>57.0</td>\n",
       "      <td>82.23</td>\n",
       "      <td>1</td>\n",
       "    </tr>\n",
       "    <tr>\n",
       "      <th>2</th>\n",
       "      <td>2016</td>\n",
       "      <td>2016-06-05</td>\n",
       "      <td>the Memorial Tournament presented by Nationwide</td>\n",
       "      <td>Muirfield Village Golf Club</td>\n",
       "      <td>Alex Cejka</td>\n",
       "      <td>T57</td>\n",
       "      <td>57</td>\n",
       "      <td>39.0</td>\n",
       "      <td>0.631</td>\n",
       "      <td>148.0</td>\n",
       "      <td>-0.292</td>\n",
       "      <td>12.0</td>\n",
       "      <td>0.626</td>\n",
       "      <td>20.0</td>\n",
       "      <td>0.297</td>\n",
       "      <td>90.0</td>\n",
       "      <td>0.010</td>\n",
       "      <td>17.0</td>\n",
       "      <td>21.89</td>\n",
       "      <td>3.0</td>\n",
       "      <td>2.98</td>\n",
       "      <td>14.0</td>\n",
       "      <td>4.01</td>\n",
       "      <td>10.0</td>\n",
       "      <td>4.57</td>\n",
       "      <td>78.0</td>\n",
       "      <td>177.0</td>\n",
       "      <td>155.0</td>\n",
       "      <td>281.5</td>\n",
       "      <td>22.0</td>\n",
       "      <td>65.89</td>\n",
       "      <td>39.0</td>\n",
       "      <td>67.99</td>\n",
       "      <td>3.0</td>\n",
       "      <td>65.03</td>\n",
       "      <td>130.0</td>\n",
       "      <td>1.22</td>\n",
       "      <td>1000.0</td>\n",
       "      <td>57.1</td>\n",
       "      <td>491.17</td>\n",
       "      <td>35.08</td>\n",
       "      <td>0.0</td>\n",
       "      <td>52.5</td>\n",
       "      <td>19.39</td>\n",
       "      <td>90.0</td>\n",
       "      <td>129.84</td>\n",
       "      <td>0</td>\n",
       "    </tr>\n",
       "    <tr>\n",
       "      <th>3</th>\n",
       "      <td>2016</td>\n",
       "      <td>2016-06-05</td>\n",
       "      <td>the Memorial Tournament presented by Nationwide</td>\n",
       "      <td>Muirfield Village Golf Club</td>\n",
       "      <td>Andrew Loupe</td>\n",
       "      <td>CUT</td>\n",
       "      <td>90</td>\n",
       "      <td>150.0</td>\n",
       "      <td>-0.395</td>\n",
       "      <td>105.0</td>\n",
       "      <td>-0.005</td>\n",
       "      <td>154.0</td>\n",
       "      <td>-0.281</td>\n",
       "      <td>158.0</td>\n",
       "      <td>-0.172</td>\n",
       "      <td>38.0</td>\n",
       "      <td>0.280</td>\n",
       "      <td>12.0</td>\n",
       "      <td>22.74</td>\n",
       "      <td>78.0</td>\n",
       "      <td>3.06</td>\n",
       "      <td>177.0</td>\n",
       "      <td>4.11</td>\n",
       "      <td>13.0</td>\n",
       "      <td>4.58</td>\n",
       "      <td>101.0</td>\n",
       "      <td>189.0</td>\n",
       "      <td>5.0</td>\n",
       "      <td>309.3</td>\n",
       "      <td>184.0</td>\n",
       "      <td>45.56</td>\n",
       "      <td>148.0</td>\n",
       "      <td>63.41</td>\n",
       "      <td>175.0</td>\n",
       "      <td>52.83</td>\n",
       "      <td>194.0</td>\n",
       "      <td>0.91</td>\n",
       "      <td>1000.0</td>\n",
       "      <td>58.8</td>\n",
       "      <td>482.82</td>\n",
       "      <td>28.40</td>\n",
       "      <td>0.0</td>\n",
       "      <td>56.0</td>\n",
       "      <td>19.37</td>\n",
       "      <td>NaN</td>\n",
       "      <td>NaN</td>\n",
       "      <td>0</td>\n",
       "    </tr>\n",
       "    <tr>\n",
       "      <th>4</th>\n",
       "      <td>2016</td>\n",
       "      <td>2016-06-05</td>\n",
       "      <td>the Memorial Tournament presented by Nationwide</td>\n",
       "      <td>Muirfield Village Golf Club</td>\n",
       "      <td>Anirban Lahiri</td>\n",
       "      <td>T61</td>\n",
       "      <td>61</td>\n",
       "      <td>97.0</td>\n",
       "      <td>0.088</td>\n",
       "      <td>95.0</td>\n",
       "      <td>0.025</td>\n",
       "      <td>90.0</td>\n",
       "      <td>0.143</td>\n",
       "      <td>130.0</td>\n",
       "      <td>-0.080</td>\n",
       "      <td>99.0</td>\n",
       "      <td>-0.020</td>\n",
       "      <td>107.0</td>\n",
       "      <td>19.73</td>\n",
       "      <td>136.0</td>\n",
       "      <td>3.09</td>\n",
       "      <td>97.0</td>\n",
       "      <td>4.05</td>\n",
       "      <td>155.0</td>\n",
       "      <td>4.74</td>\n",
       "      <td>154.0</td>\n",
       "      <td>232.0</td>\n",
       "      <td>82.0</td>\n",
       "      <td>291.7</td>\n",
       "      <td>150.0</td>\n",
       "      <td>56.31</td>\n",
       "      <td>161.0</td>\n",
       "      <td>62.88</td>\n",
       "      <td>138.0</td>\n",
       "      <td>56.4</td>\n",
       "      <td>92.0</td>\n",
       "      <td>1.63</td>\n",
       "      <td>100.0</td>\n",
       "      <td>70.0</td>\n",
       "      <td>269.75</td>\n",
       "      <td>26.98</td>\n",
       "      <td>4.0</td>\n",
       "      <td>50.5</td>\n",
       "      <td>21.06</td>\n",
       "      <td>NaN</td>\n",
       "      <td>NaN</td>\n",
       "      <td>0</td>\n",
       "    </tr>\n",
       "  </tbody>\n",
       "</table>\n",
       "</div>"
      ],
      "text/plain": [
       "   SEASON ENDING_DATE                                       TOURNAMENT  \\\n",
       "0    2016  2016-06-05  the Memorial Tournament presented by Nationwide   \n",
       "1    2016  2016-06-05  the Memorial Tournament presented by Nationwide   \n",
       "2    2016  2016-06-05  the Memorial Tournament presented by Nationwide   \n",
       "3    2016  2016-06-05  the Memorial Tournament presented by Nationwide   \n",
       "4    2016  2016-06-05  the Memorial Tournament presented by Nationwide   \n",
       "\n",
       "                        COURSE          PLAYER  POS  FINAL_POS  SGTTG_RANK  \\\n",
       "0  Muirfield Village Golf Club  Aaron Baddeley  CUT         90       146.0   \n",
       "1  Muirfield Village Golf Club     Adam Hadwin  T11         11       111.0   \n",
       "2  Muirfield Village Golf Club      Alex Cejka  T57         57        39.0   \n",
       "3  Muirfield Village Golf Club    Andrew Loupe  CUT         90       150.0   \n",
       "4  Muirfield Village Golf Club  Anirban Lahiri  T61         61        97.0   \n",
       "\n",
       "   SGTTG  SGOTT_RANK  SGOTT  SGAPR_RANK  SGAPR  SGATG_RANK  SGATG  SGP_RANK  \\\n",
       "0 -0.330       159.0 -0.366       164.0 -0.362        10.0  0.402       8.0   \n",
       "1 -0.011        55.0  0.223       121.0 -0.055       132.0 -0.081      11.0   \n",
       "2  0.631       148.0 -0.292        12.0  0.626        20.0  0.297      90.0   \n",
       "3 -0.395       105.0 -0.005       154.0 -0.281       158.0 -0.172      38.0   \n",
       "4  0.088        95.0  0.025        90.0  0.143       130.0 -0.080      99.0   \n",
       "\n",
       "     SGP  BIRDIES_RANK BIRDIES  PAR_3_RANK  PAR_3  PAR_4_RANK  PAR_4  \\\n",
       "0  0.586          59.0   20.72        78.0   3.06        14.0   4.01   \n",
       "1  0.530          22.0   21.74        16.0   3.01        48.0   4.03   \n",
       "2  0.010          17.0   21.89         3.0   2.98        14.0   4.01   \n",
       "3  0.280          12.0   22.74        78.0   3.06       177.0   4.11   \n",
       "4 -0.020         107.0   19.73       136.0   3.09        97.0   4.05   \n",
       "\n",
       "   PAR_5_RANK  PAR_5  TOTAL_DRIVING_RANK  TOTAL_DRIVING  \\\n",
       "0        50.0   4.64               159.0          237.0   \n",
       "1        68.0   4.66                35.0          141.0   \n",
       "2        10.0   4.57                78.0          177.0   \n",
       "3        13.0   4.58               101.0          189.0   \n",
       "4       155.0   4.74               154.0          232.0   \n",
       "\n",
       "   DRIVING_DISTANCE_RANK  DRIVING_DISTANCE  DRIVING_ACCURACY_RANK  \\\n",
       "0                   82.0             291.7                  155.0   \n",
       "1                   92.0             290.1                   49.0   \n",
       "2                  155.0             281.5                   22.0   \n",
       "3                    5.0             309.3                  184.0   \n",
       "4                   82.0             291.7                  150.0   \n",
       "\n",
       "  DRIVING_ACCURACY  GIR_RANK    GIR  SCRAMBLING_RANK SCRAMBLING  OWGR_RANK  \\\n",
       "0            55.42     154.0  63.11              5.0       64.3      143.0   \n",
       "1            63.62      83.0  66.07             97.0      58.27      193.0   \n",
       "2            65.89      39.0  67.99              3.0      65.03      130.0   \n",
       "3            45.56     148.0  63.41            175.0      52.83      194.0   \n",
       "4            56.31     161.0  62.88            138.0       56.4       92.0   \n",
       "\n",
       "   OWGR  VEGAS_ODDS  CUT_PERCENTAGE  FEDEX_CUP_POINTS  form_density  \\\n",
       "0  1.14      1000.0            62.5            378.00         23.62   \n",
       "1  0.91      1000.0            72.2            426.67         23.70   \n",
       "2  1.22      1000.0            57.1            491.17         35.08   \n",
       "3  0.91      1000.0            58.8            482.82         28.40   \n",
       "4  1.63       100.0            70.0            269.75         26.98   \n",
       "\n",
       "   CONSECUTIVE_CUTS  RECENT_FORM  adj_form  COURSE_HISTORY  adj_ch  TOP_20  \n",
       "0               1.0         54.1     19.09             NaN     NaN       0  \n",
       "1               5.0         51.9     17.63            57.0   82.23       1  \n",
       "2               0.0         52.5     19.39            90.0  129.84       0  \n",
       "3               0.0         56.0     19.37             NaN     NaN       0  \n",
       "4               4.0         50.5     21.06             NaN     NaN       0  "
      ]
     },
     "execution_count": 8,
     "metadata": {},
     "output_type": "execute_result"
    }
   ],
   "source": [
    "# === VEGAS ODDS ===\n",
    "training_df[\"VEGAS_ODDS\"] = training_df[\"VEGAS_ODDS\"].fillna(1000).clip(upper=1000)\n",
    "\n",
    "# === OWGR and OWGR_RANK ===\n",
    "owgr_min = training_df[\"OWGR\"].min(skipna=True)\n",
    "training_df[\"OWGR\"] = training_df[\"OWGR\"].fillna(owgr_min)\n",
    "training_df[\"OWGR_RANK\"] = training_df[\"OWGR_RANK\"].fillna(1000).astype(float).clip(upper=1000)\n",
    "\n",
    "# === RECENT FORM and adj_form ===\n",
    "training_df[\"RECENT_FORM\"] = training_df[\"RECENT_FORM\"].fillna(90)\n",
    "if \"TOTAL_EVENTS_PLAYED\" in training_df.columns:\n",
    "    training_df[\"adj_form\"] = (\n",
    "        training_df[\"RECENT_FORM\"] / np.log1p(training_df[\"TOTAL_EVENTS_PLAYED\"])\n",
    "    ).round(2)\n",
    "\n",
    "# === FEDEX CUP POINTS ===\n",
    "training_df[\"FEDEX_CUP_POINTS\"] = training_df[\"FEDEX_CUP_POINTS\"].fillna(0)\n",
    "\n",
    "training_df.head(5)\n"
   ]
  },
  {
   "cell_type": "markdown",
   "id": "f58c9b4a",
   "metadata": {},
   "source": [
    "#### Average the NaNs\n",
    "At this point, the intentional offsetting of NaNs for poor players is over.  I don't want to penalize statistics or course history because you never know where they might land on the spectrum, so for these NaN values, we will take the mean."
   ]
  },
  {
   "cell_type": "code",
   "execution_count": 9,
   "id": "1172b59c",
   "metadata": {},
   "outputs": [
    {
     "data": {
      "text/html": [
       "<div>\n",
       "<style scoped>\n",
       "    .dataframe tbody tr th:only-of-type {\n",
       "        vertical-align: middle;\n",
       "    }\n",
       "\n",
       "    .dataframe tbody tr th {\n",
       "        vertical-align: top;\n",
       "    }\n",
       "\n",
       "    .dataframe thead th {\n",
       "        text-align: right;\n",
       "    }\n",
       "</style>\n",
       "<table border=\"1\" class=\"dataframe\">\n",
       "  <thead>\n",
       "    <tr style=\"text-align: right;\">\n",
       "      <th></th>\n",
       "      <th>SEASON</th>\n",
       "      <th>ENDING_DATE</th>\n",
       "      <th>TOURNAMENT</th>\n",
       "      <th>COURSE</th>\n",
       "      <th>PLAYER</th>\n",
       "      <th>POS</th>\n",
       "      <th>FINAL_POS</th>\n",
       "      <th>SGTTG_RANK</th>\n",
       "      <th>SGTTG</th>\n",
       "      <th>SGOTT_RANK</th>\n",
       "      <th>SGOTT</th>\n",
       "      <th>SGAPR_RANK</th>\n",
       "      <th>SGAPR</th>\n",
       "      <th>SGATG_RANK</th>\n",
       "      <th>SGATG</th>\n",
       "      <th>SGP_RANK</th>\n",
       "      <th>SGP</th>\n",
       "      <th>BIRDIES_RANK</th>\n",
       "      <th>BIRDIES</th>\n",
       "      <th>PAR_3_RANK</th>\n",
       "      <th>PAR_3</th>\n",
       "      <th>PAR_4_RANK</th>\n",
       "      <th>PAR_4</th>\n",
       "      <th>PAR_5_RANK</th>\n",
       "      <th>PAR_5</th>\n",
       "      <th>TOTAL_DRIVING_RANK</th>\n",
       "      <th>TOTAL_DRIVING</th>\n",
       "      <th>DRIVING_DISTANCE_RANK</th>\n",
       "      <th>DRIVING_DISTANCE</th>\n",
       "      <th>DRIVING_ACCURACY_RANK</th>\n",
       "      <th>DRIVING_ACCURACY</th>\n",
       "      <th>GIR_RANK</th>\n",
       "      <th>GIR</th>\n",
       "      <th>SCRAMBLING_RANK</th>\n",
       "      <th>SCRAMBLING</th>\n",
       "      <th>OWGR_RANK</th>\n",
       "      <th>OWGR</th>\n",
       "      <th>VEGAS_ODDS</th>\n",
       "      <th>CUT_PERCENTAGE</th>\n",
       "      <th>FEDEX_CUP_POINTS</th>\n",
       "      <th>form_density</th>\n",
       "      <th>CONSECUTIVE_CUTS</th>\n",
       "      <th>RECENT_FORM</th>\n",
       "      <th>adj_form</th>\n",
       "      <th>COURSE_HISTORY</th>\n",
       "      <th>adj_ch</th>\n",
       "      <th>TOP_20</th>\n",
       "    </tr>\n",
       "  </thead>\n",
       "  <tbody>\n",
       "    <tr>\n",
       "      <th>0</th>\n",
       "      <td>2016</td>\n",
       "      <td>2016-06-05</td>\n",
       "      <td>the Memorial Tournament presented by Nationwide</td>\n",
       "      <td>Muirfield Village Golf Club</td>\n",
       "      <td>Aaron Baddeley</td>\n",
       "      <td>CUT</td>\n",
       "      <td>90</td>\n",
       "      <td>146.0</td>\n",
       "      <td>-0.330</td>\n",
       "      <td>159.0</td>\n",
       "      <td>-0.366</td>\n",
       "      <td>164.0</td>\n",
       "      <td>-0.362</td>\n",
       "      <td>10.0</td>\n",
       "      <td>0.402</td>\n",
       "      <td>8.0</td>\n",
       "      <td>0.586</td>\n",
       "      <td>59.0</td>\n",
       "      <td>20.72</td>\n",
       "      <td>78.0</td>\n",
       "      <td>3.06</td>\n",
       "      <td>14.0</td>\n",
       "      <td>4.01</td>\n",
       "      <td>50.0</td>\n",
       "      <td>4.64</td>\n",
       "      <td>159.0</td>\n",
       "      <td>237.0</td>\n",
       "      <td>82.0</td>\n",
       "      <td>291.7</td>\n",
       "      <td>155.0</td>\n",
       "      <td>55.42</td>\n",
       "      <td>154.0</td>\n",
       "      <td>63.11</td>\n",
       "      <td>5.0</td>\n",
       "      <td>64.30</td>\n",
       "      <td>143.0</td>\n",
       "      <td>1.14</td>\n",
       "      <td>1000.0</td>\n",
       "      <td>62.5</td>\n",
       "      <td>378.00</td>\n",
       "      <td>23.62</td>\n",
       "      <td>1.0</td>\n",
       "      <td>54.1</td>\n",
       "      <td>19.09</td>\n",
       "      <td>51.916169</td>\n",
       "      <td>49.737052</td>\n",
       "      <td>0</td>\n",
       "    </tr>\n",
       "    <tr>\n",
       "      <th>1</th>\n",
       "      <td>2016</td>\n",
       "      <td>2016-06-05</td>\n",
       "      <td>the Memorial Tournament presented by Nationwide</td>\n",
       "      <td>Muirfield Village Golf Club</td>\n",
       "      <td>Adam Hadwin</td>\n",
       "      <td>T11</td>\n",
       "      <td>11</td>\n",
       "      <td>111.0</td>\n",
       "      <td>-0.011</td>\n",
       "      <td>55.0</td>\n",
       "      <td>0.223</td>\n",
       "      <td>121.0</td>\n",
       "      <td>-0.055</td>\n",
       "      <td>132.0</td>\n",
       "      <td>-0.081</td>\n",
       "      <td>11.0</td>\n",
       "      <td>0.530</td>\n",
       "      <td>22.0</td>\n",
       "      <td>21.74</td>\n",
       "      <td>16.0</td>\n",
       "      <td>3.01</td>\n",
       "      <td>48.0</td>\n",
       "      <td>4.03</td>\n",
       "      <td>68.0</td>\n",
       "      <td>4.66</td>\n",
       "      <td>35.0</td>\n",
       "      <td>141.0</td>\n",
       "      <td>92.0</td>\n",
       "      <td>290.1</td>\n",
       "      <td>49.0</td>\n",
       "      <td>63.62</td>\n",
       "      <td>83.0</td>\n",
       "      <td>66.07</td>\n",
       "      <td>97.0</td>\n",
       "      <td>58.27</td>\n",
       "      <td>193.0</td>\n",
       "      <td>0.91</td>\n",
       "      <td>1000.0</td>\n",
       "      <td>72.2</td>\n",
       "      <td>426.67</td>\n",
       "      <td>23.70</td>\n",
       "      <td>5.0</td>\n",
       "      <td>51.9</td>\n",
       "      <td>17.63</td>\n",
       "      <td>57.000000</td>\n",
       "      <td>82.230000</td>\n",
       "      <td>1</td>\n",
       "    </tr>\n",
       "    <tr>\n",
       "      <th>2</th>\n",
       "      <td>2016</td>\n",
       "      <td>2016-06-05</td>\n",
       "      <td>the Memorial Tournament presented by Nationwide</td>\n",
       "      <td>Muirfield Village Golf Club</td>\n",
       "      <td>Alex Cejka</td>\n",
       "      <td>T57</td>\n",
       "      <td>57</td>\n",
       "      <td>39.0</td>\n",
       "      <td>0.631</td>\n",
       "      <td>148.0</td>\n",
       "      <td>-0.292</td>\n",
       "      <td>12.0</td>\n",
       "      <td>0.626</td>\n",
       "      <td>20.0</td>\n",
       "      <td>0.297</td>\n",
       "      <td>90.0</td>\n",
       "      <td>0.010</td>\n",
       "      <td>17.0</td>\n",
       "      <td>21.89</td>\n",
       "      <td>3.0</td>\n",
       "      <td>2.98</td>\n",
       "      <td>14.0</td>\n",
       "      <td>4.01</td>\n",
       "      <td>10.0</td>\n",
       "      <td>4.57</td>\n",
       "      <td>78.0</td>\n",
       "      <td>177.0</td>\n",
       "      <td>155.0</td>\n",
       "      <td>281.5</td>\n",
       "      <td>22.0</td>\n",
       "      <td>65.89</td>\n",
       "      <td>39.0</td>\n",
       "      <td>67.99</td>\n",
       "      <td>3.0</td>\n",
       "      <td>65.03</td>\n",
       "      <td>130.0</td>\n",
       "      <td>1.22</td>\n",
       "      <td>1000.0</td>\n",
       "      <td>57.1</td>\n",
       "      <td>491.17</td>\n",
       "      <td>35.08</td>\n",
       "      <td>0.0</td>\n",
       "      <td>52.5</td>\n",
       "      <td>19.39</td>\n",
       "      <td>90.000000</td>\n",
       "      <td>129.840000</td>\n",
       "      <td>0</td>\n",
       "    </tr>\n",
       "    <tr>\n",
       "      <th>3</th>\n",
       "      <td>2016</td>\n",
       "      <td>2016-06-05</td>\n",
       "      <td>the Memorial Tournament presented by Nationwide</td>\n",
       "      <td>Muirfield Village Golf Club</td>\n",
       "      <td>Andrew Loupe</td>\n",
       "      <td>CUT</td>\n",
       "      <td>90</td>\n",
       "      <td>150.0</td>\n",
       "      <td>-0.395</td>\n",
       "      <td>105.0</td>\n",
       "      <td>-0.005</td>\n",
       "      <td>154.0</td>\n",
       "      <td>-0.281</td>\n",
       "      <td>158.0</td>\n",
       "      <td>-0.172</td>\n",
       "      <td>38.0</td>\n",
       "      <td>0.280</td>\n",
       "      <td>12.0</td>\n",
       "      <td>22.74</td>\n",
       "      <td>78.0</td>\n",
       "      <td>3.06</td>\n",
       "      <td>177.0</td>\n",
       "      <td>4.11</td>\n",
       "      <td>13.0</td>\n",
       "      <td>4.58</td>\n",
       "      <td>101.0</td>\n",
       "      <td>189.0</td>\n",
       "      <td>5.0</td>\n",
       "      <td>309.3</td>\n",
       "      <td>184.0</td>\n",
       "      <td>45.56</td>\n",
       "      <td>148.0</td>\n",
       "      <td>63.41</td>\n",
       "      <td>175.0</td>\n",
       "      <td>52.83</td>\n",
       "      <td>194.0</td>\n",
       "      <td>0.91</td>\n",
       "      <td>1000.0</td>\n",
       "      <td>58.8</td>\n",
       "      <td>482.82</td>\n",
       "      <td>28.40</td>\n",
       "      <td>0.0</td>\n",
       "      <td>56.0</td>\n",
       "      <td>19.37</td>\n",
       "      <td>51.916169</td>\n",
       "      <td>49.737052</td>\n",
       "      <td>0</td>\n",
       "    </tr>\n",
       "    <tr>\n",
       "      <th>4</th>\n",
       "      <td>2016</td>\n",
       "      <td>2016-06-05</td>\n",
       "      <td>the Memorial Tournament presented by Nationwide</td>\n",
       "      <td>Muirfield Village Golf Club</td>\n",
       "      <td>Anirban Lahiri</td>\n",
       "      <td>T61</td>\n",
       "      <td>61</td>\n",
       "      <td>97.0</td>\n",
       "      <td>0.088</td>\n",
       "      <td>95.0</td>\n",
       "      <td>0.025</td>\n",
       "      <td>90.0</td>\n",
       "      <td>0.143</td>\n",
       "      <td>130.0</td>\n",
       "      <td>-0.080</td>\n",
       "      <td>99.0</td>\n",
       "      <td>-0.020</td>\n",
       "      <td>107.0</td>\n",
       "      <td>19.73</td>\n",
       "      <td>136.0</td>\n",
       "      <td>3.09</td>\n",
       "      <td>97.0</td>\n",
       "      <td>4.05</td>\n",
       "      <td>155.0</td>\n",
       "      <td>4.74</td>\n",
       "      <td>154.0</td>\n",
       "      <td>232.0</td>\n",
       "      <td>82.0</td>\n",
       "      <td>291.7</td>\n",
       "      <td>150.0</td>\n",
       "      <td>56.31</td>\n",
       "      <td>161.0</td>\n",
       "      <td>62.88</td>\n",
       "      <td>138.0</td>\n",
       "      <td>56.40</td>\n",
       "      <td>92.0</td>\n",
       "      <td>1.63</td>\n",
       "      <td>100.0</td>\n",
       "      <td>70.0</td>\n",
       "      <td>269.75</td>\n",
       "      <td>26.98</td>\n",
       "      <td>4.0</td>\n",
       "      <td>50.5</td>\n",
       "      <td>21.06</td>\n",
       "      <td>51.916169</td>\n",
       "      <td>49.737052</td>\n",
       "      <td>0</td>\n",
       "    </tr>\n",
       "  </tbody>\n",
       "</table>\n",
       "</div>"
      ],
      "text/plain": [
       "   SEASON ENDING_DATE                                       TOURNAMENT  \\\n",
       "0    2016  2016-06-05  the Memorial Tournament presented by Nationwide   \n",
       "1    2016  2016-06-05  the Memorial Tournament presented by Nationwide   \n",
       "2    2016  2016-06-05  the Memorial Tournament presented by Nationwide   \n",
       "3    2016  2016-06-05  the Memorial Tournament presented by Nationwide   \n",
       "4    2016  2016-06-05  the Memorial Tournament presented by Nationwide   \n",
       "\n",
       "                        COURSE          PLAYER  POS  FINAL_POS  SGTTG_RANK  \\\n",
       "0  Muirfield Village Golf Club  Aaron Baddeley  CUT         90       146.0   \n",
       "1  Muirfield Village Golf Club     Adam Hadwin  T11         11       111.0   \n",
       "2  Muirfield Village Golf Club      Alex Cejka  T57         57        39.0   \n",
       "3  Muirfield Village Golf Club    Andrew Loupe  CUT         90       150.0   \n",
       "4  Muirfield Village Golf Club  Anirban Lahiri  T61         61        97.0   \n",
       "\n",
       "   SGTTG  SGOTT_RANK  SGOTT  SGAPR_RANK  SGAPR  SGATG_RANK  SGATG  SGP_RANK  \\\n",
       "0 -0.330       159.0 -0.366       164.0 -0.362        10.0  0.402       8.0   \n",
       "1 -0.011        55.0  0.223       121.0 -0.055       132.0 -0.081      11.0   \n",
       "2  0.631       148.0 -0.292        12.0  0.626        20.0  0.297      90.0   \n",
       "3 -0.395       105.0 -0.005       154.0 -0.281       158.0 -0.172      38.0   \n",
       "4  0.088        95.0  0.025        90.0  0.143       130.0 -0.080      99.0   \n",
       "\n",
       "     SGP  BIRDIES_RANK  BIRDIES  PAR_3_RANK  PAR_3  PAR_4_RANK  PAR_4  \\\n",
       "0  0.586          59.0    20.72        78.0   3.06        14.0   4.01   \n",
       "1  0.530          22.0    21.74        16.0   3.01        48.0   4.03   \n",
       "2  0.010          17.0    21.89         3.0   2.98        14.0   4.01   \n",
       "3  0.280          12.0    22.74        78.0   3.06       177.0   4.11   \n",
       "4 -0.020         107.0    19.73       136.0   3.09        97.0   4.05   \n",
       "\n",
       "   PAR_5_RANK  PAR_5  TOTAL_DRIVING_RANK  TOTAL_DRIVING  \\\n",
       "0        50.0   4.64               159.0          237.0   \n",
       "1        68.0   4.66                35.0          141.0   \n",
       "2        10.0   4.57                78.0          177.0   \n",
       "3        13.0   4.58               101.0          189.0   \n",
       "4       155.0   4.74               154.0          232.0   \n",
       "\n",
       "   DRIVING_DISTANCE_RANK  DRIVING_DISTANCE  DRIVING_ACCURACY_RANK  \\\n",
       "0                   82.0             291.7                  155.0   \n",
       "1                   92.0             290.1                   49.0   \n",
       "2                  155.0             281.5                   22.0   \n",
       "3                    5.0             309.3                  184.0   \n",
       "4                   82.0             291.7                  150.0   \n",
       "\n",
       "   DRIVING_ACCURACY  GIR_RANK    GIR  SCRAMBLING_RANK  SCRAMBLING  OWGR_RANK  \\\n",
       "0             55.42     154.0  63.11              5.0       64.30      143.0   \n",
       "1             63.62      83.0  66.07             97.0       58.27      193.0   \n",
       "2             65.89      39.0  67.99              3.0       65.03      130.0   \n",
       "3             45.56     148.0  63.41            175.0       52.83      194.0   \n",
       "4             56.31     161.0  62.88            138.0       56.40       92.0   \n",
       "\n",
       "   OWGR  VEGAS_ODDS  CUT_PERCENTAGE  FEDEX_CUP_POINTS  form_density  \\\n",
       "0  1.14      1000.0            62.5            378.00         23.62   \n",
       "1  0.91      1000.0            72.2            426.67         23.70   \n",
       "2  1.22      1000.0            57.1            491.17         35.08   \n",
       "3  0.91      1000.0            58.8            482.82         28.40   \n",
       "4  1.63       100.0            70.0            269.75         26.98   \n",
       "\n",
       "   CONSECUTIVE_CUTS  RECENT_FORM  adj_form  COURSE_HISTORY      adj_ch  TOP_20  \n",
       "0               1.0         54.1     19.09       51.916169   49.737052       0  \n",
       "1               5.0         51.9     17.63       57.000000   82.230000       1  \n",
       "2               0.0         52.5     19.39       90.000000  129.840000       0  \n",
       "3               0.0         56.0     19.37       51.916169   49.737052       0  \n",
       "4               4.0         50.5     21.06       51.916169   49.737052       0  "
      ]
     },
     "execution_count": 9,
     "metadata": {},
     "output_type": "execute_result"
    }
   ],
   "source": [
    "# === Clean percentage stats stored as strings like '62.5%' ===\n",
    "percent_stats = [\"SCRAMBLING\", \"DRIVING_ACCURACY\", \"BIRDIES\", \"GIR\"]\n",
    "\n",
    "for col in percent_stats:\n",
    "    if col in training_df.columns:\n",
    "        training_df[col] = (\n",
    "            training_df[col]\n",
    "            .astype(str)\n",
    "            .str.replace('%', '', regex=False)\n",
    "            .replace(['None', 'nan', 'NaN', '--', 'DNP', ''], np.nan)\n",
    "            .astype(float)\n",
    "        )\n",
    "\n",
    "# Select only the numeric columns\n",
    "numeric_columns = training_df.select_dtypes(include=['float64', 'int64'])\n",
    "\n",
    "# Fill NaN values with the mean of each column\n",
    "numeric_columns = numeric_columns.fillna(numeric_columns.mean())\n",
    "\n",
    "# Update the original dataframe with the filled numeric columns\n",
    "training_df.update(numeric_columns)\n",
    "\n",
    "training_df.head()"
   ]
  },
  {
   "cell_type": "code",
   "execution_count": 10,
   "id": "bb294b3c",
   "metadata": {},
   "outputs": [],
   "source": [
    "# Check for NaN values\n",
    "assert training_df.isna().sum().sum() == 0, \"🚨 Still missing values!\""
   ]
  },
  {
   "cell_type": "code",
   "execution_count": 11,
   "id": "5d68c5dc",
   "metadata": {},
   "outputs": [
    {
     "data": {
      "text/plain": [
       "SEASON         0\n",
       "ENDING_DATE    0\n",
       "TOURNAMENT     0\n",
       "COURSE         0\n",
       "PLAYER         0\n",
       "POS            0\n",
       "FINAL_POS      0\n",
       "SGTTG_RANK     0\n",
       "SGTTG          0\n",
       "SGOTT_RANK     0\n",
       "dtype: int64"
      ]
     },
     "execution_count": 11,
     "metadata": {},
     "output_type": "execute_result"
    }
   ],
   "source": [
    "# Inspect which columns have NaN values\n",
    "training_df.isna().sum().sort_values(ascending=False).head(10)\n"
   ]
  },
  {
   "cell_type": "markdown",
   "id": "1214b374",
   "metadata": {},
   "source": [
    "### Check Features for Outliers and General Health (Histograms)\n",
    "Now that all the data is cleaned, let's look at the distribution graphs."
   ]
  },
  {
   "cell_type": "code",
   "execution_count": 12,
   "id": "c3ac2331",
   "metadata": {},
   "outputs": [
    {
     "data": {
      "application/vnd.plotly.v1+json": {
       "config": {
        "plotlyServerURL": "https://plot.ly"
       },
       "data": [
        {
         "histnorm": "density",
         "marker": {
          "color": "#636EFA"
         },
         "nbinsx": 5,
         "opacity": 0.8,
         "type": "histogram",
         "x": {
          "bdata": "4AfgB+AH4AfgB+AH4AfgB+AH4AfgB+AH4AfgB+AH4AfgB+AH4AfgB+AH4AfgB+AH4AfgB+AH4AfgB+AH4AfgB+AH4AfgB+AH4AfgB+AH4AfgB+AH4AfgB+AH4AfgB+AH4AfgB+AH4AfgB+AH4AfgB+AH4AfgB+AH4AfgB+AH4AfgB+AH4AfgB+AH4AfgB+AH4AfgB+AH4AfgB+AH4AfgB+AH4AfgB+AH4AfgB+AH4AfgB+AH4AfgB+AH4AfgB+AH4AfgB+AH4AfgB+AH4AfgB+AH4AfgB+AH4AfgB+AH4AfgB+AH4AfgB+AH4AfgB+AH4QfhB+EH4QfhB+EH4QfhB+EH4QfhB+EH4QfhB+EH4QfhB+EH4QfhB+EH4QfhB+EH4QfhB+EH4QfhB+EH4QfhB+EH4QfhB+EH4QfhB+EH4QfhB+EH4QfhB+EH4QfhB+EH4QfhB+EH4QfhB+EH4QfhB+EH4QfhB+EH4QfhB+EH4QfhB+EH4QfhB+EH4QfhB+EH4QfhB+EH4QfhB+EH4QfhB+EH4QfhB+EH4QfhB+EH4QfhB+EH4QfhB+EH4QfhB+EH4QfhB+EH4QfhB+EH4QfhB+EH4QfhB+EH4QfhB+EH4QfhB+EH4QfhB+EH4QfhB+IH4gfiB+IH4gfiB+IH4gfiB+IH4gfiB+IH4gfiB+IH4gfiB+IH4gfiB+IH4gfiB+IH4gfiB+IH4gfiB+IH4gfiB+IH4gfiB+IH4gfiB+IH4gfiB+IH4gfiB+IH4gfiB+IH4gfiB+IH4gfiB+IH4gfiB+IH4gfiB+IH4gfiB+IH4gfiB+IH4gfiB+IH4gfiB+IH4gfiB+IH4gfiB+IH4gfiB+IH4gfiB+IH4gfiB+IH4gfiB+IH4gfiB+IH4gfiB+IH4gfiB+IH4gfiB+IH4gfiB+IH4gfiB+IH4gfiB+IH4gfiB+IH4gfiB+IH4gfiB+MH4wfjB+MH4wfjB+MH4wfjB+MH4wfjB+MH4wfjB+MH4wfjB+MH4wfjB+MH4wfjB+MH4wfjB+MH4wfjB+MH4wfjB+MH4wfjB+MH4wfjB+MH4wfjB+MH4wfjB+MH4wfjB+MH4wfjB+MH4wfjB+MH4wfjB+MH4wfjB+MH4wfjB+MH4wfjB+MH4wfjB+MH4wfjB+MH4wfjB+MH4wfjB+MH4wfjB+MH4wfjB+MH4wfjB+MH4wfjB+MH4wfjB+MH4wfjB+MH4wfjB+MH4wfjB+MH4wfjB+MH4wfjB+MH4wfjB+MH4wfjB+MH4wfjB+MH4wfjB+QH5AfkB+QH5AfkB+QH5AfkB+QH5AfkB+QH5AfkB+QH5AfkB+QH5AfkB+QH5AfkB+QH5AfkB+QH5AfkB+QH5AfkB+QH5AfkB+QH5AfkB+QH5AfkB+QH5AfkB+QH5AfkB+QH5AfkB+QH5AfkB+QH5AfkB+QH5AfkB+QH5AfkB+QH5AfkB+QH5AfkB+QH5AfkB+QH5AfkB+QH5AfkB+QH5AfkB+QH5AfkB+QH5AfkB+QH5AfkB+QH5AfkB+QH5AfkB+QH5AfkB+QH5AfkB+QH5AfkB+QH5AfkB+QH5AfkB+QH5AfkB+QH5AfkB+QH5AfkB+QH5AfkB+QH5AfkB+QH5AfkB+QH5QflB+UH5QflB+UH5QflB+UH5QflB+UH5QflB+UH5QflB+UH5QflB+UH5QflB+UH5QflB+UH5QflB+UH5QflB+UH5QflB+UH5QflB+UH5QflB+UH5QflB+UH5QflB+UH5QflB+UH5QflB+UH5QflB+UH5QflB+UH5QflB+UH5QflB+UH5QflB+UH5QflB+UH5QflB+UH5QflB+UH5QflB+UH5QflB+UH5QflB+UH5QflB+UH5QflB+UH5QflB+UH5QflB+UH5QflB+UH5QflB+UH5QflB+UH5QflB+UH5QflB+UH5QflB+UH5QflB+YH5gfmB+YH5gfmB+YH5gfmB+YH5gfmB+YH5gfmB+YH5gfmB+YH5gfmB+YH5gfmB+YH5gfmB+YH5gfmB+YH5gfmB+YH5gfmB+YH5gfmB+YH5gfmB+YH5gfmB+YH5gfmB+YH5gfmB+YH5gfmB+YH5gfmB+YH5gfmB+YH5gfmB+YH5gfmB+YH5gfmB+YH5gfmB+YH5gfmB+YH5gfmB+YH5gfmB+YH5gfmB+YH5gfmB+YH5gfmB+YH5gfmB+YH5gfmB+YH5gfmB+YH5gfmB+YH5gfmB+YH5gfmB+YH5gfmB+YH5gfmB+YH5gfmB+YH5gfnB+cH5wfnB+cH5wfnB+cH5wfnB+cH5wfnB+cH5wfnB+cH5wfnB+cH5wfnB+cH5wfnB+cH5wfnB+cH5wfnB+cH5wfnB+cH5wfnB+cH5wfnB+cH5wfnB+cH5wfnB+cH5wfnB+cH5wfnB+cH5wfnB+cH5wfnB+cH5wfnB+cH5wfnB+cH5wfnB+cH5wfnB+cH5wfnB+cH5wfnB+cH5wfnB+cH5wfnB+cH5wfnB+cH5wfnB+cH5wfnB+cH5wfnB+cH5wfnB+cH5wfnB+cH5wfnB+cH5wfnB+cH5wfnB+cH5wfnB+cH5wfnB+cH5wfnB+cH5wfoB+gH6AfoB+gH6AfoB+gH6AfoB+gH6AfoB+gH6AfoB+gH6AfoB+gH6AfoB+gH6AfoB+gH6AfoB+gH6AfoB+gH6AfoB+gH6AfoB+gH6AfoB+gH6AfoB+gH6AfoB+gH6AfoB+gH6AfoB+gH6AfoB+gH6AfoB+gH6AfoB+gH6AfoB+gH6AfoB+gH6AfoB+gH6AfoBw==",
          "dtype": "i2"
         },
         "xaxis": "x",
         "yaxis": "y"
        },
        {
         "histnorm": "density",
         "marker": {
          "color": "#636EFA"
         },
         "nbinsx": 50,
         "opacity": 0.8,
         "type": "histogram",
         "x": {
          "bdata": "Wgs5Wj0mWhRaWiFFJkEmC1pBWloLMFpaQyY0GxtaWgMLWlpaWkUEIUkmOVouJloEND0bITBaWjRaWhsLWgIuOVo0CEUwWkoIFCFEC1oUBFpaCFomWloUNFpaFAs9BCFAMCYbWkVaWlpKFDlaWhRaWgtaWgtaARtaWlofOQIjGVpaOVoZWjQfBhkZKEE/WiMtWkk5CjFaD1ooWjEKIzQTLVpaWgYKDwEjWhNaWh8NBENaWjQGDVpaBi1aWi0PNFoETFpaMUcfEyM5Q1oZFlpaAhZaORZBWlpaWjlaWlo0D1paKFoZS0daKElaQ0NaPyhaOUojKD5BJVosOVo0WixGPgEsWgJaWlpaQVooNFpaHVoIF1oXSVoNDQ1aWiUsWlooWgYsSlpaHQYIWhdaI1paSlosQQ0CDTQlWj4XWg05QUYEHQhKBQ0IUE8ILB0sFw1RWlpaWjRaHVo5ORcNDVpFNB1aWlpGSigWWkE0WkECKVpaETQbWloJR1opWhshWloWCRFaWlpaWlpBWhspMAlaNCVaJQZaWjRaBz5aIRtEPgdaDVpaJUdaMFopBBFaOTQ5WgUDWlpEKVolWg4WRDkBWhFaWikOWlobGxZaIVo5WjA+KRZaOVpJCVoRITBaWg46NlpaWlpaWg0+Wg0WWlo+WiAsWixaRCYwWjAWFjAWWlogWjpaWhZaFloWWlpaDVoGWlpaBCxaWlowWj5aSgENWhJaRBZaCTZaLDYmCgYoSAMgBFoWWlpaWiAKElpaNlpaIFooAig+FjA9IFoSEj5JWlooWghaRFpaPjBaRFoNClo6CVoaEA0SQw0EMiU1WhJaWjlaWloaWhA1WjlaGiUCNVoaWloqWlpaWlovRFo+PlpBWlolGgZaWiBaEipBWloNKloSJRJaWjkqNVpaWloGQCpaAQVaWlolWgsgWhJaOSAyA1paBgkvIFpaElogMlpaORJaL1paCxoaAiASWhpDLVpaWlogAVpaRTwKElo1NVoNMDw1QFpDElo1Wg1aBVpaMCUNBTwgWhoSWlpaJVofWlolAyBaChJaNSUSWkBaMzwwWholWiVaWi0lWgVaDVpaGgM1WlpaWkBaElpaRloFWlpaLSANWgpaWjUzBVolElpaWgcJWlpaNFoFHhhaWlpaWilaWhhaWlo6WlomWlo2WgxaNjgCWjAYWh4YNFoQHiZaWloQBRBaKVpaWloeMFpaWkAMWlomEFpaHgk+MFpaWloeHloJWgcQHik6PxA4KVoDKRAQBBg8KSk8MFpBWlpaDAFaWgwYWgNaGxYWLSdaD1paIRYyMlpaBAIUWhsnGy1aCBY0WiFaWiErWi1aBVoFIVoWDBtaWiFaDxsMDwEbBTEPWghaISktKxQIDA8pWgg=",
          "dtype": "i1"
         },
         "xaxis": "x2",
         "yaxis": "y2"
        },
        {
         "histnorm": "density",
         "marker": {
          "color": "#636EFA"
         },
         "nbinsx": 50,
         "opacity": 0.8,
         "type": "histogram",
         "x": {
          "bdata": "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",
          "dtype": "f8"
         },
         "xaxis": "x3",
         "yaxis": "y3"
        },
        {
         "histnorm": "density",
         "marker": {
          "color": "#636EFA"
         },
         "nbinsx": 50,
         "opacity": 0.8,
         "type": "histogram",
         "x": {
          "bdata": "H4XrUbge1b+6SQwCK4eGv/7UeOkmMeQ/SOF6FK5H2b+6SQwCK4e2P8HKoUW2872/kxgEVg4t5j/y0k1iEFjhP3E9CtejcADACKwcWmQ737+LbOf7qfHSv+xRuB6F67G/x9ObvGVq0j9YObTIdr71P8fTm7xlatI/x9ObvGVq0j8j2/l+ary0v+f7qfHSTeK/x9ObvGVq0j9iEFg5tMjev+F6FK5H4fI/xSCwcmiR4T/8qfHSTWLoPx+F61G4HuU/YOXQItv55j9iEFg5tMjWv7Kd76fGS98/gZVDi2zn0z+R7Xw/NV7KP8fTm7xlatI/x9ObvGVq0j+8dJMYBFb6P0oMAiuHFuE/MQisHFpk27/H05u8ZWrSP6wcWmQ738+/sHJoke186z/l0CLb+X7avwrXo3A9CvE/rBxaZDvfzz/H05u8ZWrSPy/dJAaBldO/YhBYObTI3j8K16NwPQr1P76fGi/dJOq/AiuHFtnOtz9QjZduEoPwv6jGSzeJQeQ/rBxaZDvf1z9U46WbxCDQvy/dJAaBle8/4XoUrkfh6j8j2/l+arzcv2q8dJMYBOo/rBxaZDvf3z9vEoPAyqHdP9Ei2/l+arw/x9ObvGVq0j+cxCCwcmjBP6RwPQrXo8A/+n5qvHSTuD8OLbKd76fWvwRWDi2yneO/wcqhRbbz6T/+1HjpJjHgP4/C9Shcj8K/7nw/NV667T/hehSuR+HKvwisHFpkO/E/WDm0yHa+v78ZBFYOLbLhP83MzMzMzNw/yXa+nxovrT+mm8QgsHLoP3E9CtejcM0/UI2XbhKD0D9eukkMAivfv7pJDAIrh4a/QmDl0CLb7T8j2/l+arzUv8fTm7xlatI/rBxaZDvf5z9U46WbxCDgPyuHFtnO96O/KVyPwvUo9D99PzVeuknyv8UgsHJokek/x9ObvGVq0j8v3SQGgZXzP7Kd76fGS7e/MQisHFpk4z81XrpJDALrP0oMAiuHFqk/aJHtfD81/j8GgZVDi2zXP+xRuB6F6+E/nMQgsHJo4T/H05u8ZWrSPwAAAAAAAAAAppvEILBy5L8OLbKd76feP/hT46WbxNC/d76fGi/dxD+mm8QgsHLIP1yPwvUoXOM/xSCwcmiRzT9xPQrXo3DNP7gehetRuArAmpmZmZmZmb/H05u8ZWrSPzMzMzMzM8M/x9ObvGVq0j/ZzvdT46XLP9v5fmq8dOO/c2iR7Xw/3T/8qfHSTWLyP8fTm7xlatI/iUFg5dAi4z8UrkfhehTiv76fGi/dJOq/2c73U+Oly7/n+6nx0k3CP9nO91PjpfE/AiuHFtnOt7/fT42XbhLDPzm0yHa+n8o/LbKd76fG6z97FK5H4Xq0v6JFtvP91NC/0SLb+X5q7D/H05u8ZWrSP8fTm7xlatI/46WbxCCwwj8dWmQ730/Vv1YOLbKd7+M/nMQgsHJo0T8ZBFYOLbLpPwwCK4cW2e4/i2zn+6nxsr+Nl24Sg8DaP7Kd76fGS8e/sp3vp8ZL979U46WbxCDgP0w3iUFg5ew/16NwPQrXw7/H05u8ZWrSP5MYBFYOLbI/WDm0yHa+r78rhxbZzvezP7pJDAIrh6a/O99PjZdugr+YbhKDwMr9P6AaL90kBuE/7nw/NV662b+kcD0K16PwP7pJDAIrh94/46WbxCCwwj8zMzMzMzPrvycxCKwcWuA/AiuHFtnO+T/RItv5fmrUP2IQWDm0yOq/Di2yne+n5j8lBoGVQ4vMP1K4HoXrUeg/j8L1KFyP4j8hsHJoke3kPx1aZDvfT90/O99PjZduor+uR+F6FK7fP8l2vp8aL92/JzEIrBxa+D+q8dJNYhDsv7x0kxgEVvo/RIts5/up9z9/arx0kxjcv8/3U+Olm+g/+FPjpZvE4L+28/3UeOnqP8uhRbbz/eQ/zczMzMzM3D9qvHSTGATGP+f7qfHSTcK/vp8aL90k9D9oke18PzXuP6AaL90kBuW/rBxaZDvf8T97FK5H4XrUv3WTGARWDvE/O99PjZdu4j+28/3UeOnyv+F6FK5H4eo/x9ObvGVq0j+cxCCwcmiRP0SLbOf7qcG/F9nO91Pj1T/ufD81XrrZP8fTm7xlatI/exSuR+F64D8tsp3vp8bxP/Cnxks3idk/zczMzMzM5L9mZmZmZmbev8fTm7xlatI/jZduEoPA5j93vp8aL93Uv+xRuB6F66E/vp8aL90k8j/n+6nx0k3Sv8l2vp8aL72/001iEFg5xL/H05u8ZWrSPx+F61G4HsU/nMQgsHJowT/RItv5fmrUP8fTm7xlatI/GQRWDi2y7b+cxCCwcmixv2q8dJMYBNa/x9ObvGVq0j+q8dJNYhDQP57vp8ZLN9E/9P3UeOkm4T+8dJMYBFbiv3sUrkfheqS/x9ObvGVq0j+28/3UeOkFwDMzMzMzM+c/zczMzMzM1D/2KFyPwvXkv8fTm7xlatI/exSuR+F69D9MN4lBYOWgv8fTm7xlatI/+n5qvHST7D8730+Nl26yv8fTm7xlatI/K4cW2c73s7+F61G4HoXLPxkEVg4tst0/qvHSTWIQ2D9cj8L1KFzfP6AaL90kBvE/hxbZzvdT0z/H05u8ZWrSPxkEVg4tsp2/UrgehetRuL+oxks3iUHQP0Jg5dAi27m/mG4Sg8DKwT8K16NwPQrnP28Sg8DKod0/mpmZmZmZqT+wcmiR7Xy/P0Jg5dAi27m/wcqhRbbzzb8xCKwcWmTzP+58PzVeuuE/qvHSTWIQuD/b+X5qvHTxP8fTm7xlatI/ObTIdr6fuj/H05u8ZWrSP0SLbOf7qdG/ObTIdr6f4j9GtvP91HjZP83MzMzMzOQ/SgwCK4cW5T+4HoXrUbgGwPLSTWIQWLm/FK5H4XoUzr/H05u8ZWrSP5huEoPAyv8/YhBYObTI4j/H05u8ZWrSP4ts5/up8fA/eekmMQisjD/H05u8ZWrSP8P1KFyPwvU/oBov3SQG8T/+1HjpJjHoP9NNYhBYOdw/L90kBoGV2z/+1HjpJjHYP3sUrkfheuA/nMQgsHJosT8lBoGVQ4vgP2IQWDm0yLY/WmQ730+Nlz/H05u8ZWrSP3Noke18P7U/x9ObvGVq0j8dWmQ730/pvwRWDi2ynes/x9ObvGVq0j8730+Nl274PzVeukkMAvk/x9ObvGVq0j/RItv5fmryP7TIdr6fGt8/SOF6FK5H2b/H05u8ZWrSP8dLN4lBYOU/EFg5tMh23r/0/dR46SbRPy2yne+nxus/7nw/NV660T+sHFpkO9/XP/hT46WbxOQ/8KfGSzeJ4T/FILByaJHdPzEIrBxaZPU/d76fGi/dxD+sHFpkO9/fP/7UeOkmMcg/Vg4tsp3v87/Jdr6fGi/NP+f7qfHSTcI/kxgEVg4tsr93vp8aL93Ev6abxCCwcvQ/dZMYBFYO6T/LoUW28/3Uv1TjpZvEILC/BFYOLbKdzz/hehSuR+HaP1yPwvUoXO8/AAAAAAAA4L/wp8ZLN4nlvwRWDi2ynfU/iUFg5dAi0z9WDi2yne/XP76fGi/dJN4/SOF6FK5H2T/HSzeJQWDzP8fTm7xlatI/x9ObvGVq0j/LoUW28/3yv7gehetRuOa/ObTIdr6fmr/4U+Olm8TgP8fTm7xlatI/g8DKoUW2sz/sUbgehevpP5huEoPAyum/bxKDwMqhxb9I4XoUrkf1PxSuR+F6FM4/c2iR7Xw/8z8730+Nl27Cv8fTm7xlatI/PzVeukkM6r/ZzvdT46Xrv8fTm7xlatI/Gy/dJAaBlb956SYxCKzcP8fTm7xlatI/x9ObvGVq0j+6SQwCK4fqP8P1KFyPwtW/ZmZmZmZm3j+PwvUoXI/iP7Kd76fGS7c/SgwCK4cWqb/jpZvEILDCP+58PzVeuvc/+n5qvHSTaL/H05u8ZWrSP5MYBFYOLcI/y6FFtvP9xL8CK4cW2c7rvxkEVg4tss2/Gy/dJAaB6b9KDAIrhxa5P9nO91PjpdM/x9ObvGVq0j8730+Nl27aP9nO91PjpZu/BFYOLbKd47/8qfHSTWLQPy2yne+nxss/AAAAAAAAwL+JQWDl0CKrv1CNl24Sg+Q/hetRuB6F4z8730+Nl272P0SLbOf7qdG/x0s3iUFgxT9aZDvfT42nP/p+arx0k+A/2c73U+Olyz8MAiuHFtnWv4lBYOXQIvM/6SYxCKwcuj/RItv5fmrgP8fTm7xlatI/x9ObvGVq0j83iUFg5dDwP/T91HjpJuG/ZmZmZmZm8D/H05u8ZWrSP9v5fmq8dNs/g8DKoUW26z+YbhKDwMr3P4cW2c73U9M/6SYxCKwcqj83iUFg5dDSP7pJDAIrh94/Di2yne+n3j93vp8aL93wP6AaL90kBuk/SgwCK4cW6T/hehSuR+HqP1YOLbKd78c/x9ObvGVq0j+YbhKDwMrZv8fTm7xlatI/2c73U+Ol5z/H05u8ZWrSP99PjZduEv0/ukkMAiuHhr/H05u8ZWrSP57vp8ZLN+U/i2zn+6nx4j/P91PjpZvov30/NV66Scw/nMQgsHJo7T+oxks3iUHQvz0K16NwPdI/2/l+arx04z+WQ4ts5/vpP8fTm7xlatI/DAIrhxbZ3j/LoUW28/3gP8fTm7xlatI/PQrXo3A99r/H05u8ZWrSP+kmMQisHO4/qMZLN4lB4D9SuB6F61HoPxKDwMqhRbY/MzMzMzMz/78Sg8DKoUW2P2Dl0CLb+b4/x9ObvGVq0j9YObTIdr7Pv/Cnxks3ifc/rkfhehSu57+6SQwCK4e2v6JFtvP91OC/mG4Sg8DK0b+q8dJNYhDYP83MzMzMzOA/Vg4tsp3vx781XrpJDAIBQPLSTWIQWOU/CKwcWmQ75z/8qfHSTWJQP8fTm7xlatI/exSuR+F66D97FK5H4XrUv+xRuB6F66E/g8DKoUW2s7+q8dJNYhDQP8fTm7xlatI/okW28/3UyD/H05u8ZWrSP2iR7Xw/Nb4/ZmZmZmZm5j/6fmq8dJPQP90kBoGVQ+e/x9ObvGVq0j+sHFpkO9/rPxsv3SQGgdU/mG4Sg8DK5T/6fmq8dJO4Px1aZDvfT/W/x9ObvGVq0j/8qfHSTWLyP2iR7Xw/NeI/TDeJQWDl2D/ZzvdT46XTP1TjpZvEINA/okW28/3UyL+YbhKDwMr9v8fTm7xlatI/x9ObvGVq0j8Sg8DKoUXWP3WTGARWDt2/7FG4HoXr2T85tMh2vp/iP0Jg5dAi27m/x0s3iUFg3T9Ei2zn+6nBP8uhRbbz/eQ/dZMYBFYO7T8j2/l+arzkP42XbhKDwOI/j8L1KFyP4j/D9Shcj8K1v2q8dJMYBOI/9P3UeOkmwb/H05u8ZWrSPwisHFpkO9c/x9ObvGVq0j97FK5H4Xqkv2iR7Xw/NeI/x9ObvGVq0j9I4XoUrkf1P+kmMQisHPA/JQaBlUOL8D8xCKwcWmS7P0w3iUFg5eC/x9ObvGVq0j/6fmq8dJPgv4lBYOXQIuM/aJHtfD818j9iEFg5tMjWP4lBYOXQIuc/x9ObvGVq0j/H05u8ZWrSPycxCKwcWtw/6SYxCKwc4r/H05u8ZWrSP1K4HoXrUfI/vHSTGARW7j9CYOXQItvJvz0K16NwPdI/IbByaJHt9j/8qfHSTWJgPz81XrpJDMK/f2q8dJMY5D/ByqFFtvPlP5HtfD81XuI/x9ObvGVq0j/H05u8ZWrSP+kmMQisHNo/H4XrUbge5b9YObTIdr7fvwIrhxbZzuc/d76fGi/d5D8bL90kBoH1P/T91HjpJsE/wcqhRbbz1T9CYOXQItv7P8fTm7xlatI/0SLb+X5q5D9kO99PjZfev0a28/3UeMk//Knx0k1iYL+sHFpkO9/fP3Noke18P+W/2/l+arx00z8nMQisHFrUvylcj8L1KNw/w/UoXI/C6T/l0CLb+X7Svxsv3SQGgZU/UrgehetRuD9WDi2yne/HP3sUrkfheoS//Knx0k1icD8nMQisHFrEPwRWDi2yndc/x9ObvGVq0j83iUFg5dDav+xRuB6F68E/GQRWDi2yvT9aZDvfT43xPxKDwMqhReY/8tJNYhBY0b8/NV66SQzqP8fTm7xlatI/cT0K16NwzT+28/3UeOniv1pkO99Pjd8/oBov3SQG9T9qvHSTGAS2P6JFtvP91OA/SgwCK4cW5T/ZzvdT46Xbv2q8dJMYBKY/f2q8dJMY8j8nMQisHFrkPxkEVg4tsr0/x0s3iUFg9T8ZBFYOLbLlP76fGi/dJNY/x9ObvGVq0j/b+X5qvHSTv83MzMzMzMy/bxKDwMqh4T8pXI/C9Si8P8fTm7xlatI/uB6F61G41j/ZzvdT46XxPycxCKwcWuS/EoPAyqFFxj+6SQwCK4fWv8fTm7xlatI/x9ObvGVq0j9iEFg5tMjqP+kmMQisHPA/x9ObvGVq0j+wcmiR7Xzrv23n+6nx0vM/vp8aL90kxj/Jdr6fGi/tv6JFtvP91Lg/CtejcD0K6z/fT42XbhLDvwisHFpkO+O/TDeJQWDl0D/6fmq8dJO4P8fTm7xlatI//Knx0k1ikD9U46WbxCDYP23n+6nx0s0/46WbxCCwsr+wcmiR7XzPPz0K16NwPcq/I9v5fmq89r+sHFpkO9/1P9V46SYxCOg/JzEIrBxaxD+mm8QgsHLYP4lBYOXQItM//Knx0k1iUD91kxgEVg7hP4lBYOXQIuM/RIts5/up2T+Nl24Sg8DaP7TIdr6fGtc/QmDl0CLb0T/ZzvdT46XrP8fTm7xlatI/EFg5tMh25j/H05u8ZWrSP6abxCCwcvg/ZmZmZmZm8j/6fmq8dJOYP/yp8dJNYtA/x9ObvGVq0j/4U+Olm8TYvxsv3SQGgZW/SgwCK4cW7T8730+Nl26CPx1aZDvfT+U/vp8aL90kxj/H05u8ZWrSP/LSTWIQWOk/MzMzMzMzs78fhetRuB7dP8l2vp8aL/E/7FG4HoXr5b+4HoXrUbjmvxfZzvdT4+W/eekmMQisnD/H05u8ZWrSP0jhehSuR9k/K4cW2c73w79iEFg5tMjwv5ZDi2zn++k/x9ObvGVq0j/TTWIQWDnUPxKDwMqhRfw/w/UoXI/C5T/jpZvEILD2Py2yne+nxtM/mG4Sg8DK5b/FILByaJH1P5huEoPAyuU/JzEIrBxa6D85tMh2vp/KP7gehetRuOo/1XjpJjEI4D/H05u8ZWrSPyUGgZVDi+w/5/up8dJN4r9Ei2zn+6nBvyGwcmiR7by/JzEIrBxa1D/Xo3A9CtfjP3npJjEIrHw/0SLb+X5q6D8v3SQGgZXjP1g5tMh2vtc/AAAAAAAAwL/y0k1iEFjJv8fTm7xlatI/46WbxCCw9j/P91PjpZvkP1pkO99PjZe/YhBYObTIxj8zMzMzMzPTv6rx0k1iEOC/rkfhehSu17+iRbbz/dTIP166SQwCK9e/qvHSTWIQ4L9MN4lBYOXyP28Sg8DKoe0/y6FFtvP93D/H05u8ZWrSP5zEILByaOU/SgwCK4cW7T81XrpJDALTPwrXo3A9Cqc/L90kBoGV7z93vp8aL93kP4lBYOXQItM/N4lBYOXQ9r8X2c73U+PlP8fTm7xlatI/SOF6FK5H4T9aZDvfT43HP6RwPQrXo/A/eekmMQisvL+R7Xw/NV66v4/C9Shcj8I/x9ObvGVq0j9/arx0kxjUv8fTm7xlatI/aJHtfD819D/H05u8ZWrSP7Kd76fGS9e/qvHSTWIQ8D8xCKwcWmTbv1yPwvUoXN8/EFg5tMh27j85tMh2vp+av5qZmZmZmeE/MzMzMzMzwz/n+6nx0k3Sv8P1KFyPwtU/i2zn+6nxwj85tMh2vp+aP7pJDAIrh9Y/qMZLN4lBwD8730+Nl27aP3npJjEIrOS/Di2yne+n4j8CK4cW2c7nvwAAAAAAAOi/pHA9CtejwL9I4XoUrkfZv30/NV66Sew/XI/C9Shc3z/H05u8ZWrSP6jGSzeJQdA/JQaBlUOL3D9SuB6F61G4PwIrhxbZzus/+FPjpZvE0D+WQ4ts5/vxP7gehetRuI6/wcqhRbbz4b8v3SQGgZXTv8fTm7xlatI/1XjpJjEI7D8nMQisHFrEv+XQItv5fvA/dZMYBFYO8T+sHFpkO9/zP8fTm7xlatI/x9ObvGVq0j+gGi/dJAbZv+xRuB6F67E/x9ObvGVq0j+mm8QgsHLYP76fGi/dJN4/2/l+arx0kz9YObTIdr7PPxSuR+F6FN4/y6FFtvP9pD/jpZvEILCyv0SLbOf7qeW/exSuR+F66D/H05u8ZWrSP9NNYhBYOdS/46WbxCCw2j/H05u8ZWrSP3npJjEIrLw/TmIQWDm02L/H05u8ZWrSPwaBlUOLbOM/XI/C9Shc9T/hehSuR+G6P8fTm7xlatI/pHA9Ctej9D8j2/l+arzwP/yp8dJNYuC/O99PjZdu0j9aZDvfT43vP65H4XoUrus/CKwcWmQ73z97FK5H4XqEv9nO91PjpdM/F9nO91PjxT+sHFpkO9/XP+kmMQisHPK/O99PjZdusr9WDi2yne/1P+XQItv5fsq/7nw/NV660T+F61G4HoXrPxfZzvdT4/U/tvP91Hjp6j+JQWDl0CLLP5ZDi2zn++E/QmDl0CLb5b8zMzMzMzPvP8fTm7xlatI/L90kBoGV8T8bL90kBoG1P7Kd76fGS+e/ppvEILBy0D/l0CLb+X7yP0jhehSuR+G/lkOLbOf7yT956SYxCKx8v1g5tMh2vr+/x9ObvGVq0j9aZDvfT423P0w3iUFg5bA/gZVDi2zn+T8X2c73U+PhP8fTm7xlatI/x9ObvGVq0j9zaJHtfD/dP6abxCCwctg/8KfGSzeJwb85tMh2vp/SP0oMAiuHFtE/f2q8dJMY1L9oke18PzXwP/7UeOkmMeQ/I9v5fmq8xL9GtvP91Hj1PzMzMzMzM8M/d76fGi/d6D9xPQrXo3DNP6jGSzeJQdg/UrgehetR/D/H05u8ZWrSP6jGSzeJQcC/i2zn+6nx9D+q8dJNYhDsP/YoXI/C9dA/46WbxCCw2r9kO99PjZfWP8P1KFyPwt0/sp3vp8ZL3z+yne+nxkvnP8fTm7xlatI/Gy/dJAaBxT81XrpJDALnPxsv3SQGgcU/L90kBoGV0z8hsHJoke3MP6rx0k1iENg/30+Nl24S278zMzMzMzPTv8fTm7xlatI/YOXQItv5zj/H05u8ZWrSP6RwPQrXo9A/tMh2vp8azz8lBoGVQ4vsP65H4XoUrus/9ihcj8L15D9zaJHtfD/VvzMzMzMzM7O/x9ObvGVq0j9vEoPAyqHlP1pkO99PjZe/jZduEoPA+D8730+Nl27wPwisHFpkO8+/001iEFg55L+mm8QgsHLQP8fTm7xlatI/Gy/dJAaBlT+0yHa+nxrXP1g5tMh2vs8/QmDl0CLb9b81XrpJDALLP+kmMQisHOI/x9ObvGVq0j+4HoXrUbi+P28Sg8DKoe0/eekmMQisjD/ZzvdT46Wbv1K4HoXrUfA/JzEIrBxa6D/y0k1iEFjRP8/3U+Olm+A/uB6F61G4vj+Nl24Sg8DaP7ByaJHtfPU/K4cW2c734z/VeOkmMQjoP1K4HoXrUdi/5/up8dJN2r9WDi2yne/vPzVeukkMAts/x9ObvGVq0j/H05u8ZWrSP9V46SYxCNw/hxbZzvdT2z/H05u8ZWrSP+Olm8QgsNI/8KfGSzeJ0T9vEoPAyqHVv6AaL90kBtE/yXa+nxov6T/NzMzMzMzkv8fTm7xlatI/JzEIrBxa6D/sUbgeheuhP3E9CtejcM2/2/l+arx04z/y0k1iEFjZP+xRuB6F69k/ukkMAiuHlr+cxCCwcmjBP3sUrkfherQ/BFYOLbKd578pXI/C9SjUP6AaL90kBvk/yXa+nxov1T8nMQisHFrkv5MYBFYOLfI/WmQ730+Nlz81XrpJDAL/Py2yne+nxu8/x9ObvGVq0j+q8dJNYhDIP9v5fmq8dNM/x9ObvGVq0j+JQWDl0CLLP9v5fmq8dKM/x9ObvGVq0j/8qfHSTWJgP+xRuB6F6wRAWDm0yHa+z79QjZduEoPQP5ZDi2zn++0/fT81XrpJ8D++nxov3STuP/LSTWIQWNG/i2zn+6nx6j/TTWIQWDncv42XbhKDwMo/GQRWDi2ynT/H05u8ZWrSP3sUrkfhetQ/46WbxCCw6j+Nl24Sg8DKv/p+arx0k7g/sp3vp8ZL8T9kO99PjZf2P/yp8dJNYrA/eekmMQis1L9kO99PjZfqP57vp8ZLN/M/ZmZmZmZm4r8730+Nl26iv4ts5/up8dq/i2zn+6nx4j+YbhKDwMrZP/Cnxks3iek/mpmZmZmZmb99PzVeukncP0w3iUFg5dg/5dAi2/l+0j8hsHJoke30v23n+6nx0tW/WmQ730+N3z+6SQwCK4fiP2q8dJMYBMa/WDm0yHa+3z85tMh2vp+av8uhRbbz/eA/sp3vp8ZLxz9mZmZmZmbyPxSuR+F6FPI/2/l+arx067/n+6nx0k3wP/p+arx0k4g/001iEFg5tL97FK5H4XqUv7ByaJHtfL+/XI/C9Shc9z/8qfHSTWLAP8fTm7xlatI/001iEFg5xL8ZBFYOLbKtv/LSTWIQWNE/F9nO91Pj3b9eukkMAivxPwwCK4cW2d4/rkfhehSu8T/8qfHSTWJgvwisHFpkO+s/WmQ730+N7z+LbOf7qfGyv7pJDAIrh4a/H4XrUbgexb9Ei2zn+6nBv1pkO99PjZe/30+Nl24Sw7+4HoXrUbi+P4XrUbgehds/AAAAAAAAwD8730+Nl27qvzEIrBxaZNu/bef7qfHS8z956SYxCKzkP7TIdr6fGuc/001iEFg54D9oke18PzUDQAwCK4cW2dY/TmIQWDm0yD/b+X5qvHTnP4PAyqFFtu8/ppvEILBy2D8nMQisHFrkP+xRuB6F67G/O99PjZdu0j/dJAaBlUPTv7ByaJHtfN8/IbByaJHt3D8tsp3vp8bjP0jhehSuR/U/Di2yne+n1j8hsHJoke3cP6wcWmQ7388/mG4Sg8DK4T+8dJMYBFb4Pw==",
          "dtype": "f8"
         },
         "xaxis": "x4",
         "yaxis": "y4"
        },
        {
         "histnorm": "density",
         "marker": {
          "color": "#636EFA"
         },
         "nbinsx": 50,
         "opacity": 0.8,
         "type": "histogram",
         "x": {
          "bdata": "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",
          "dtype": "f8"
         },
         "xaxis": "x5",
         "yaxis": "y5"
        },
        {
         "histnorm": "density",
         "marker": {
          "color": "#636EFA"
         },
         "nbinsx": 50,
         "opacity": 0.8,
         "type": "histogram",
         "x": {
          "bdata": "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",
          "dtype": "f8"
         },
         "xaxis": "x6",
         "yaxis": "y6"
        },
        {
         "histnorm": "density",
         "marker": {
          "color": "#636EFA"
         },
         "nbinsx": 50,
         "opacity": 0.8,
         "type": "histogram",
         "x": {
          "bdata": "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",
          "dtype": "f8"
         },
         "xaxis": "x7",
         "yaxis": "y7"
        },
        {
         "histnorm": "density",
         "marker": {
          "color": "#636EFA"
         },
         "nbinsx": 50,
         "opacity": 0.8,
         "type": "histogram",
         "x": {
          "bdata": "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",
          "dtype": "f8"
         },
         "xaxis": "x8",
         "yaxis": "y8"
        },
        {
         "histnorm": "density",
         "marker": {
          "color": "#636EFA"
         },
         "nbinsx": 50,
         "opacity": 0.8,
         "type": "histogram",
         "x": {
          "bdata": "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",
          "dtype": "f8"
         },
         "xaxis": "x9",
         "yaxis": "y9"
        },
        {
         "histnorm": "density",
         "marker": {
          "color": "#636EFA"
         },
         "nbinsx": 50,
         "opacity": 0.8,
         "type": "histogram",
         "x": {
          "bdata": "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",
          "dtype": "f8"
         },
         "xaxis": "x10",
         "yaxis": "y10"
        },
        {
         "histnorm": "density",
         "marker": {
          "color": "#636EFA"
         },
         "nbinsx": 50,
         "opacity": 0.8,
         "type": "histogram",
         "x": {
          "bdata": "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",
          "dtype": "f8"
         },
         "xaxis": "x11",
         "yaxis": "y11"
        },
        {
         "histnorm": "density",
         "marker": {
          "color": "#636EFA"
         },
         "nbinsx": 50,
         "opacity": 0.8,
         "type": "histogram",
         "x": {
          "bdata": "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",
          "dtype": "f8"
         },
         "xaxis": "x12",
         "yaxis": "y12"
        },
        {
         "histnorm": "density",
         "marker": {
          "color": "#636EFA"
         },
         "nbinsx": 50,
         "opacity": 0.8,
         "type": "histogram",
         "x": {
          "bdata": "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",
          "dtype": "f8"
         },
         "xaxis": "x13",
         "yaxis": "y13"
        },
        {
         "histnorm": "density",
         "marker": {
          "color": "#636EFA"
         },
         "nbinsx": 50,
         "opacity": 0.8,
         "type": "histogram",
         "x": {
          "bdata": "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",
          "dtype": "f8"
         },
         "xaxis": "x14",
         "yaxis": "y14"
        },
        {
         "histnorm": "density",
         "marker": {
          "color": "#636EFA"
         },
         "nbinsx": 50,
         "opacity": 0.8,
         "type": "histogram",
         "x": {
          "bdata": "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",
          "dtype": "f8"
         },
         "xaxis": "x15",
         "yaxis": "y15"
        },
        {
         "histnorm": "density",
         "marker": {
          "color": "#636EFA"
         },
         "nbinsx": 15,
         "opacity": 0.8,
         "type": "histogram",
         "x": {
          "bdata": "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",
          "dtype": "f8"
         },
         "xaxis": "x16",
         "yaxis": "y16"
        },
        {
         "histnorm": "density",
         "marker": {
          "color": "#636EFA"
         },
         "nbinsx": 50,
         "opacity": 0.8,
         "type": "histogram",
         "x": {
          "bdata": "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",
          "dtype": "f8"
         },
         "xaxis": "x17",
         "yaxis": "y17"
        },
        {
         "histnorm": "density",
         "marker": {
          "color": "#636EFA"
         },
         "nbinsx": 15,
         "opacity": 0.8,
         "type": "histogram",
         "x": {
          "bdata": "CtejcD0KEEAfhetRuB4QQArXo3A9ChBAcT0K16NwEEAzMzMzMzMQQDMzMzMzMxBAKVyPwvUoEEA9CtejcD0QQHE9CtejcBBASOF6FK5HEEAUrkfhehQQQClcj8L1KBBAbUYZmPwXEEApXI/C9SgQQG1GGZj8FxBAbUYZmPwXEEA9CtejcD0QQGZmZmZmZhBAbUYZmPwXEEBmZmZmZmYQQB+F61G4HhBACtejcD0KEEAK16NwPQoQQClcj8L1KBBACtejcD0KEEA9CtejcD0QQD0K16NwPRBACtejcD0KEEApXI/C9SgQQG1GGZj8FxBAbUYZmPwXEEDD9Shcj8IPQB+F61G4HhBAcT0K16NwEEBtRhmY/BcQQGZmZmZmZhBAPQrXo3A9EEApXI/C9SgQQArXo3A9ChBAUrgehetREEBtRhmY/BcQQFyPwvUoXBBAXI/C9ShcEEAK16NwPQoQQGZmZmZmZhBAFK5H4XoUEEBI4XoUrkcQQClcj8L1KBBAFK5H4XoUEEAUrkfhehQQQOxRuB6F6w9ACtejcD0KEEApXI/C9SgQQDMzMzMzMxBAFK5H4XoUEEA9CtejcD0QQEjhehSuRxBAbUYZmPwXEEBI4XoUrkcQQBSuR+F6FBBAFK5H4XoUEEApXI/C9SgQQEjhehSuRxBA16NwPQrXD0A9CtejcD0QQClcj8L1KBBAPQrXo3A9EECF61G4HoUQQB+F61G4HhBAFK5H4XoUEEAAAAAAAAAQQClcj8L1KBBAKVyPwvUoEEAK16NwPQoQQB+F61G4HhBACtejcD0KEEA9CtejcD0QQFyPwvUoXBBAAAAAAAAAEEA9CtejcD0QQG1GGZj8FxBAFK5H4XoUEEAK16NwPQoQQEjhehSuRxBACtejcD0KEEBSuB6F61EQQClcj8L1KBBAbUYZmPwXEEDsUbgehesPQArXo3A9ChBAUrgehetREEDsUbgehesPQEjhehSuRxBAAAAAAAAAEEAK16NwPQoQQBSuR+F6FBBACtejcD0KEEBtRhmY/BcQQB+F61G4HhBASOF6FK5HEEAzMzMzMzMQQD0K16NwPRBACtejcD0KEEAzMzMzMzMQQBSuR+F6FBBAPQrXo3A9EEAfhetRuB4QQAAAAAAAABFAKVyPwvUoEEBtRhmY/BcQQDMzMzMzMxBAbUYZmPwXEEAfhetRuB4QQEjhehSuRxBAMzMzMzMzEEAAAAAAAAAQQG1GGZj8FxBAAAAAAAAAEEA9CtejcD0QQHsUrkfhehBAPQrXo3A9EEAfhetRuB4QQDMzMzMzMxBAPQrXo3A9EEA9CtejcD0QQDMzMzMzMxBACtejcD0KEEAzMzMzMzMQQD0K16NwPRBAFK5H4XoUEEBtRhmY/BcQQG1GGZj8FxBACtejcD0KEEBSuB6F61EQQDMzMzMzMxBASOF6FK5HEEAK16NwPQoQQD0K16NwPRBASOF6FK5HEEAzMzMzMzMQQB+F61G4HhBAj8L1KFyPEEA9CtejcD0QQArXo3A9ChBAH4XrUbgeEEBtRhmY/BcQQD0K16NwPRBASOF6FK5HEEApXI/C9SgQQD0K16NwPRBAPQrXo3A9EEDsUbgehesPQClcj8L1KBBAMzMzMzMzEEAUrkfhehQQQBSuR+F6FBBAPQrXo3A9EEBSuB6F61EQQClcj8L1KBBA16NwPQrXD0ApXI/C9SgQQFK4HoXrURBASOF6FK5HEEApXI/C9SgQQAAAAAAAABBAKVyPwvUoEEAK16NwPQoQQDMzMzMzMxBAH4XrUbgeEEApXI/C9SgQQEjhehSuRxBA16NwPQrXD0BmZmZmZmYQQHE9CtejcA9AhetRuB6FD0Bcj8L1KFwQQAAAAAAAABBAXI/C9ShcEEAzMzMzMzMQQBSuR+F6FBBAH4XrUbgeEEApXI/C9SgQQClcj8L1KBBAAAAAAAAAEEDsUbgehesPQEjhehSuRxBAKVyPwvUoEEBI4XoUrkcQQAAAAAAAABBAFK5H4XoUEEC4HoXrUbgQQAAAAAAAABBAbUYZmPwXEEAK16NwPQoQQDMzMzMzMxBAMzMzMzMzEEAfhetRuB4QQG1GGZj8FxBACtejcD0KEEAK16NwPQoQQB+F61G4HhBAUrgehetREEBSuB6F61EQQG1GGZj8FxBAKVyPwvUoEEApXI/C9SgQQClcj8L1KBBA7FG4HoXrD0AzMzMzMzMQQGZmZmZmZhBAcT0K16NwEEBtRhmY/BcQQClcj8L1KBBAKVyPwvUoEEAzMzMzMzMQQG1GGZj8FxBAPQrXo3A9EEAUrkfhehQQQClcj8L1KBBAbUYZmPwXEEAzMzMzMzMQQDMzMzMzMxBAH4XrUbgeEECPwvUoXI8QQEjhehSuRxBAbUYZmPwXEEDhehSuR+EQQOxRuB6F6w9AH4XrUbgeEEBcj8L1KFwQQG1GGZj8FxBA7FG4HoXrD0AUrkfhehQQQG1GGZj8FxBA7FG4HoXrD0AfhetRuB4QQG1GGZj8FxBAFK5H4XoUEEAK16NwPQoQQAAAAAAAABBACtejcD0KEEAAAAAAAAAQQClcj8L1KBBAH4XrUbgeEEBtRhmY/BcQQB+F61G4HhBAH4XrUbgeEEAK16NwPQoQQArXo3A9ChBAPQrXo3A9EEAAAAAAAAAQQClcj8L1KBBAKVyPwvUoEEAK16NwPQoQQArXo3A9ChBAKVyPwvUoEEDsUbgehesPQAAAAAAAABBASOF6FK5HEEAUrkfhehQQQG1GGZj8FxBAFK5H4XoUEEBtRhmY/BcQQFK4HoXrURBACtejcD0KEEAUrkfhehQQQBSuR+F6FBBA7FG4HoXrD0B7FK5H4XoQQB+F61G4HhBAH4XrUbgeEEBtRhmY/BcQQHE9CtejcA9ACtejcD0KEEBtRhmY/BcQQBSuR+F6FBBAPQrXo3A9EEBtRhmY/BcQQMP1KFyPwg9A16NwPQrXD0AUrkfhehQQQAAAAAAAABBAH4XrUbgeEEAUrkfhehQQQNejcD0K1w9AKVyPwvUoEEAUrkfhehQQQFK4HoXrURBAMzMzMzMzEEBtRhmY/BcQQBSuR+F6FBBAbUYZmPwXEEBSuB6F61EQQMP1KFyPwg9AbUYZmPwXEEBxPQrXo3APQJqZmZmZmQ9AbUYZmPwXEEAUrkfhehQQQBSuR+F6FBBAMzMzMzMzEEBtRhmY/BcQQClcj8L1KBBAH4XrUbgeEEDsUbgehesPQNejcD0K1w9AKVyPwvUoEEAzMzMzMzMQQAAAAAAAABBAH4XrUbgeEEAzMzMzMzMQQB+F61G4HhBAKVyPwvUoEEAK16NwPQoQQB+F61G4HhBAcT0K16NwEEDsUbgehesPQArXo3A9ChBAH4XrUbgeEEAfhetRuB4QQAAAAAAAABBAAAAAAAAAEEAzMzMzMzMQQClcj8L1KBBAFK5H4XoUEEAAAAAAAAAQQMP1KFyPwg9AZmZmZmZmEEBcj8L1KFwQQOxRuB6F6w9ACtejcD0KEEApXI/C9SgQQBSuR+F6FBBACtejcD0KEEDXo3A9CtcPQG1GGZj8FxBAbUYZmPwXEEB7FK5H4XoQQDMzMzMzMxBAPQrXo3A9EEA9CtejcD0QQG1GGZj8FxBASOF6FK5HEEAAAAAAAAAQQIXrUbgehRBAKVyPwvUoEEDD9Shcj8IPQB+F61G4HhBA7FG4HoXrD0AzMzMzMzMQQG1GGZj8FxBAMzMzMzMzEEAzMzMzMzMQQG1GGZj8FxBAH4XrUbgeEEApXI/C9SgQQG1GGZj8FxBAbUYZmPwXEEDXo3A9CtcPQOxRuB6F6w9AKVyPwvUoEEDXo3A9CtcPQB+F61G4HhBAPQrXo3A9EEAK16NwPQoQQAAAAAAAABBAPQrXo3A9EEBtRhmY/BcQQBSuR+F6FBBAH4XrUbgeEEA9CtejcD0QQB+F61G4HhBAFK5H4XoUEEApXI/C9SgQQArXo3A9ChBAbUYZmPwXEEBSuB6F61EQQD0K16NwPRBAH4XrUbgeEEAUrkfhehQQQOxRuB6F6w9A16NwPQrXD0AzMzMzMzMQQArXo3A9ChBAAAAAAAAAEEDsUbgehesPQD0K16NwPRBAH4XrUbgeEEAUrkfhehQQQNejcD0K1w9APQrXo3A9EEAzMzMzMzMQQBSuR+F6FBBAMzMzMzMzEEAzMzMzMzMQQG1GGZj8FxBAbUYZmPwXEEAzMzMzMzMQQDMzMzMzMxBA7FG4HoXrD0BtRhmY/BcQQAAAAAAAABBAKVyPwvUoEEDsUbgehesPQD0K16NwPRBACtejcD0KEEAAAAAAAAAQQOxRuB6F6w9AKVyPwvUoEEAAAAAAAAAQQArXo3A9ChBAAAAAAAAAEEDXo3A9CtcPQB+F61G4HhBAbUYZmPwXEEAUrkfhehQQQG1GGZj8FxBAAAAAAAAAEEBtRhmY/BcQQK5H4XoUrg9AFK5H4XoUEEBtRhmY/BcQQClcj8L1KBBAH4XrUbgeEEBI4XoUrkcQQOxRuB6F6w9AAAAAAAAAEEAzMzMzMzMQQClcj8L1KBBA7FG4HoXrD0DXo3A9CtcPQG1GGZj8FxBASOF6FK5HEEAUrkfhehQQQG1GGZj8FxBAXI/C9ShcEEBtRhmY/BcQQEjhehSuRxBAFK5H4XoUEEDsUbgehesPQEjhehSuRxBApHA9CtejEEAK16NwPQoQQClcj8L1KBBAbUYZmPwXEEAfhetRuB4QQK5H4XoUrg9AH4XrUbgeEEAAAAAAAAAQQArXo3A9ChBAH4XrUbgeEEAAAAAAAAAQQNejcD0K1w9AKVyPwvUoEECamZmZmZkPQArXo3A9ChBAFK5H4XoUEEAAAAAAAAAQQG1GGZj8FxBACtejcD0KEEAfhetRuB4QQNejcD0K1w9AH4XrUbgeEEApXI/C9SgQQG1GGZj8FxBACtejcD0KEEBtRhmY/BcQQD0K16NwPRBA7FG4HoXrD0DsUbgehesPQDMzMzMzMxBAbUYZmPwXEEAK16NwPQoQQArXo3A9ChBAKVyPwvUoEEDsUbgehesPQFyPwvUoXBBAbUYZmPwXEEDXo3A9CtcPQOxRuB6F6w9AAAAAAAAAEEDsUbgehesPQOxRuB6F6w9ACtejcD0KEEA9CtejcD0QQG1GGZj8FxBAbUYZmPwXEEAAAAAAAAAQQB+F61G4HhBA7FG4HoXrD0DXo3A9CtcPQNejcD0K1w9Aw/UoXI/CD0AK16NwPQoQQDMzMzMzMxBAcT0K16NwD0DXo3A9CtcPQBSuR+F6FBBACtejcD0KEEBcj8L1KFwQQAAAAAAAABBACtejcD0KEEBtRhmY/BcQQAAAAAAAABBAbUYZmPwXEEAAAAAAAAAQQAAAAAAAABBAbUYZmPwXEEAAAAAAAAAQQAAAAAAAABBAmpmZmZmZD0AK16NwPQoQQEjhehSuRxBAbUYZmPwXEEDsUbgehesPQMP1KFyPwg9AhetRuB6FD0AK16NwPQoQQBSuR+F6FBBAbUYZmPwXEEBtRhmY/BcQQArXo3A9ChBAcT0K16NwEEBtRhmY/BcQQOxRuB6F6w9ArkfhehSuD0DXo3A9CtcPQNejcD0K1w9Aw/UoXI/CD0AUrkfhehQQQArXo3A9ChBAKVyPwvUoEEApXI/C9SgQQArXo3A9ChBAbUYZmPwXEEBtRhmY/BcQQAAAAAAAABBAXI/C9ShcEEBxPQrXo3AQQNejcD0K1w9A16NwPQrXD0CamZmZmZkPQDMzMzMzMxBAMzMzMzMzEEBxPQrXo3APQG1GGZj8FxBAPQrXo3A9EEAzMzMzMzMQQNejcD0K1w9AAAAAAAAAEEAK16NwPQoQQD0K16NwPRBAAAAAAAAAEEAK16NwPQoQQBSuR+F6FBBAH4XrUbgeEEAfhetRuB4QQFK4HoXrURBAAAAAAAAAEEAK16NwPQoQQAAAAAAAABBASOF6FK5HEEAAAAAAAAAQQBSuR+F6FBBAbUYZmPwXEEAAAAAAAAAQQB+F61G4HhBAFK5H4XoUEEDXo3A9CtcPQJqZmZmZmQ9ACtejcD0KEEDXo3A9CtcPQG1GGZj8FxBAFK5H4XoUEEApXI/C9SgQQArXo3A9ChBArkfhehSuD0AfhetRuB4QQMP1KFyPwg9AFK5H4XoUEEBSuB6F61EQQB+F61G4HhBAmpmZmZmZD0AK16NwPQoQQB+F61G4HhBA16NwPQrXD0AK16NwPQoQQNejcD0K1w9AbUYZmPwXEEApXI/C9SgQQEjhehSuRxBA16NwPQrXD0AUrkfhehQQQG1GGZj8FxBA7FG4HoXrD0DD9Shcj8IPQArXo3A9ChBAH4XrUbgeEEAUrkfhehQQQG1GGZj8FxBAbUYZmPwXEEDsUbgehesPQB+F61G4Hg9AbUYZmPwXEEBcj8L1KFwQQIXrUbgehQ9ACtejcD0KEEBI4XoUrkcQQOxRuB6F6w9AFK5H4XoUEEA9CtejcD0QQClcj8L1KBBAPQrXo3A9EEA9CtejcD0QQG1GGZj8FxBAFK5H4XoUEEAK16NwPQoQQBSuR+F6FBBAKVyPwvUoEEA9CtejcD0QQBSuR+F6FBBAXI/C9ShcEEDsUbgehesPQD0K16NwPRBASOF6FK5HEEAUrkfhehQQQAAAAAAAABBAPQrXo3A9EEAAAAAAAAAQQNejcD0K1w9ACtejcD0KEEAK16NwPQoQQBSuR+F6FBBA16NwPQrXD0AAAAAAAAAQQG1GGZj8FxBArkfhehSuD0BtRhmY/BcQQNejcD0K1w9A7FG4HoXrD0Bcj8L1KFwQQHE9CtejcBBAbUYZmPwXEEApXI/C9SgQQBSuR+F6FBBAw/UoXI/CD0AzMzMzMzMQQK5H4XoUrg9AXI/C9ShcEEBtRhmY/BcQQBSuR+F6FBBAH4XrUbgeEEAfhetRuB4QQArXo3A9ChBAMzMzMzMzEEB7FK5H4XoQQD0K16NwPRBA16NwPQrXD0BtRhmY/BcQQClcj8L1KBBASOF6FK5HEEB7FK5H4XoQQArXo3A9ChBAbUYZmPwXEEAK16NwPQoQQK5H4XoUrg9A7FG4HoXrD0DD9Shcj8IPQB+F61G4HhBAZmZmZmZmEEAUrkfhehQQQAAAAAAAABBACtejcD0KEEAzMzMzMzMQQNejcD0K1w9AFK5H4XoUEEBtRhmY/BcQQD0K16NwPRBAMzMzMzMzEEA9CtejcD0QQDMzMzMzMxBAMzMzMzMzEEAUrkfhehQQQArXo3A9ChBAUrgehetREEAfhetRuB4QQD0K16NwPRBAH4XrUbgeEEAK16NwPQoQQG1GGZj8FxBAmpmZmZmZD0DsUbgehesPQDMzMzMzMxBA7FG4HoXrD0ApXI/C9SgQQEjhehSuRxBAMzMzMzMzEEAzMzMzMzMQQFyPwvUoXBBAFK5H4XoUEEAAAAAAAAAQQMP1KFyPwg9AAAAAAAAAEEBtRhmY/BcQQNejcD0K1w9A16NwPQrXD0AfhetRuB4QQBSuR+F6FBBAH4XrUbgeEEDsUbgehesPQB+F61G4HhBAcT0K16NwEEDsUbgehesPQG1GGZj8FxBACtejcD0KEEAUrkfhehQQQOxRuB6F6w9AKVyPwvUoEEBSuB6F61EQQEjhehSuRxBAbUYZmPwXEEAfhetRuB4QQG1GGZj8FxBA16NwPQrXD0BtRhmY/BcQQD0K16NwPRBAAAAAAAAAEEBcj8L1KFwQQBSuR+F6FBBA7FG4HoXrD0DsUbgehesPQArXo3A9ChBA7FG4HoXrD0BI4XoUrkcQQOxRuB6F6w9AFK5H4XoUEEAUrkfhehQQQArXo3A9ChBA7FG4HoXrD0AUrkfhehQQQEjhehSuRxBA7FG4HoXrD0B7FK5H4XoQQFK4HoXrURBACtejcD0KEEBSuB6F61EQQAAAAAAAABBA16NwPQrXD0BtRhmY/BcQQB+F61G4HhBAH4XrUbgeEEBmZmZmZmYQQJqZmZmZmQ9AH4XrUbgeEECuR+F6FK4PQB+F61G4HhBAPQrXo3A9EEAfhetRuB4QQG1GGZj8FxBAw/UoXI/CD0BSuB6F61EQQAAAAAAAABBA16NwPQrXD0DD9Shcj8IPQG1GGZj8FxBAbUYZmPwXEEA9CtejcD0QQClcj8L1KBBAbUYZmPwXEEApXI/C9SgQQAAAAAAAABBA16NwPQrXD0A9CtejcD0QQArXo3A9ChBAZmZmZmZmEEApXI/C9SgQQHsUrkfhehBAKVyPwvUoEEBtRhmY/BcQQDMzMzMzMxBA7FG4HoXrD0BtRhmY/BcQQAAAAAAAABBAZmZmZmZmEEBtRhmY/BcQQBSuR+F6FBBA7FG4HoXrD0ApXI/C9SgQQG1GGZj8FxBAw/UoXI/CD0DD9Shcj8IPQB+F61G4HhBAH4XrUbgeEEAK16NwPQoQQAAAAAAAABBAFK5H4XoUEEAzMzMzMzMQQArXo3A9ChBAAAAAAAAAEEAzMzMzMzMQQDMzMzMzMxBAH4XrUbgeEEAfhetRuB4QQClcj8L1KBBACtejcD0KEEAUrkfhehQQQOxRuB6F6w9AAAAAAAAAEEDXo3A9CtcPQDMzMzMzMxBAPQrXo3A9EEAUrkfhehQQQG1GGZj8FxBA7FG4HoXrD0DD9Shcj8IPQEjhehSuRxBAH4XrUbgeEECuR+F6FK4PQClcj8L1KBBAFK5H4XoUEEAfhetRuB4QQBSuR+F6FBBAbUYZmPwXEEBcj8L1KFwQQD0K16NwPRBAmpmZmZmZD0AfhetRuB4QQG1GGZj8FxBAbUYZmPwXEEApXI/C9SgQQAAAAAAAABBAMzMzMzMzEEAAAAAAAAAQQMP1KFyPwg9APQrXo3A9EEAAAAAAAAAQQClcj8L1KBBAH4XrUbgeEECamZmZmZkPQAAAAAAAABBAFK5H4XoUEEAUrkfhehQQQNejcD0K1w9A16NwPQrXD0BtRhmY/BcQQAAAAAAAABBAhetRuB6FD0DD9Shcj8IPQAAAAAAAABBAFK5H4XoUEEAfhetRuB4QQK5H4XoUrg9ACtejcD0KEECuR+F6FK4PQG1GGZj8FxBA7FG4HoXrD0AAAAAAAAAQQArXo3A9ChBACtejcD0KEEDD9Shcj8IPQOxRuB6F6w9APQrXo3A9EEA9CtejcD0QQG1GGZj8FxBA16NwPQrXD0BtRhmY/BcQQNejcD0K1w9Aw/UoXI/CD0DsUbgehesPQAAAAAAAABBAFK5H4XoUEEAUrkfhehQQQClcj8L1KBBAbUYZmPwXEEDsUbgehesPQAAAAAAAABBA7FG4HoXrD0AAAAAAAAAQQD0K16NwPRBAXI/C9ShcEEAfhetRuB4QQG1GGZj8FxBACtejcD0KEEAfhetRuB4QQJqZmZmZmQ9AcT0K16NwEEAUrkfhehQQQOxRuB6F6w9AbUYZmPwXEEAUrkfhehQQQDMzMzMzMxBAH4XrUbgeEEAUrkfhehQQQArXo3A9ChBA16NwPQrXD0AAAAAAAAAQQMP1KFyPwg9AFK5H4XoUEEApXI/C9SgQQK5H4XoUrg9AH4XrUbgeEEAK16NwPQoQQOxRuB6F6w9AH4XrUbgeEEAfhetRuB4QQB+F61G4HhBAbUYZmPwXEEBtRhmY/BcQQArXo3A9ChBACtejcD0KEEBtRhmY/BcQQBSuR+F6FBBASOF6FK5HEEAUrkfhehQQQB+F61G4HhBA16NwPQrXD0AAAAAAAAAQQG1GGZj8FxBAw/UoXI/CD0AUrkfhehQQQDMzMzMzMxBAAAAAAAAAEEAfhetRuB4QQArXo3A9ChBAMzMzMzMzEEBI4XoUrkcQQBSuR+F6FBBAPQrXo3A9EEAfhetRuB4QQHE9CtejcA9AFK5H4XoUEEA9CtejcD0QQOxRuB6F6w9ACtejcD0KEECamZmZmZkPQMP1KFyPwg9AbUYZmPwXEEAAAAAAAAAQQAAAAAAAABBAbUYZmPwXEEAfhetRuB4QQAAAAAAAABBAbUYZmPwXEEAzMzMzMzMQQEjhehSuRw9ACtejcD0KEEAUrkfhehQQQDMzMzMzMxBAFK5H4XoUEEDXo3A9CtcPQClcj8L1KBBA7FG4HoXrD0AAAAAAAAAQQBSuR+F6FBBA16NwPQrXD0BtRhmY/BcQQAAAAAAAABBArkfhehSuD0BI4XoUrkcQQDMzMzMzMxBAw/UoXI/CD0CF61G4HoUPQArXo3A9ChBAKVyPwvUoEEDXo3A9CtcPQK5H4XoUrg9APQrXo3A9EEApXI/C9SgQQClcj8L1KBBACtejcD0KEEAK16NwPQoQQK5H4XoUrg9AmpmZmZmZD0AzMzMzMzMQQK5H4XoUrg9AFK5H4XoUEEA9CtejcD0QQBSuR+F6FBBAAAAAAAAAEEAUrkfhehQQQEjhehSuRxBACtejcD0KEEAUrkfhehQQQOxRuB6F6w9A16NwPQrXD0CuR+F6FK4PQAAAAAAAABBAAAAAAAAAEEDXo3A9CtcPQArXo3A9ChBAH4XrUbgeEEAfhetRuB4QQArXo3A9ChBAw/UoXI/CD0AAAAAAAAAQQG1GGZj8FxBAPQrXo3A9EEDXo3A9CtcPQAAAAAAAABBAKVyPwvUoEEAK16NwPQoQQBSuR+F6FBBACtejcD0KEEAfhetRuB4QQMP1KFyPwg9Aw/UoXI/CD0AK16NwPQoQQDMzMzMzMxBA16NwPQrXD0AzMzMzMzMQQD0K16NwPRBAMzMzMzMzEEAK16NwPQoQQAAAAAAAABBACtejcD0KEEAfhetRuB4QQEjhehSuRxBA16NwPQrXD0DXo3A9CtcPQAAAAAAAABBAw/UoXI/CD0AK16NwPQoPQAAAAAAAABBAFK5H4XoUEEDXo3A9CtcPQArXo3A9ChBAAAAAAAAAEEDD9Shcj8IPQBSuR+F6FBBAw/UoXI/CD0ApXI/C9SgQQAAAAAAAABBACtejcD0KEEDsUbgehesPQArXo3A9ChBACtejcD0KEEDsUbgehesPQFK4HoXrURBA16NwPQrXD0Bcj8L1KFwPQA==",
          "dtype": "f8"
         },
         "xaxis": "x18",
         "yaxis": "y18"
        },
        {
         "histnorm": "density",
         "marker": {
          "color": "#636EFA"
         },
         "nbinsx": 50,
         "opacity": 0.8,
         "type": "histogram",
         "x": {
          "bdata": "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",
          "dtype": "f8"
         },
         "xaxis": "x19",
         "yaxis": "y19"
        },
        {
         "histnorm": "density",
         "marker": {
          "color": "#636EFA"
         },
         "nbinsx": 23,
         "opacity": 0.8,
         "type": "histogram",
         "x": {
          "bdata": "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",
          "dtype": "f8"
         },
         "xaxis": "x20",
         "yaxis": "y20"
        },
        {
         "histnorm": "density",
         "marker": {
          "color": "#636EFA"
         },
         "nbinsx": 50,
         "opacity": 0.8,
         "type": "histogram",
         "x": {
          "bdata": "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",
          "dtype": "f8"
         },
         "xaxis": "x21",
         "yaxis": "y21"
        },
        {
         "histnorm": "density",
         "marker": {
          "color": "#636EFA"
         },
         "nbinsx": 50,
         "opacity": 0.8,
         "type": "histogram",
         "x": {
          "bdata": "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",
          "dtype": "f8"
         },
         "xaxis": "x22",
         "yaxis": "y22"
        },
        {
         "histnorm": "density",
         "marker": {
          "color": "#636EFA"
         },
         "nbinsx": 50,
         "opacity": 0.8,
         "type": "histogram",
         "x": {
          "bdata": "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",
          "dtype": "f8"
         },
         "xaxis": "x23",
         "yaxis": "y23"
        },
        {
         "histnorm": "density",
         "marker": {
          "color": "#636EFA"
         },
         "nbinsx": 50,
         "opacity": 0.8,
         "type": "histogram",
         "x": {
          "bdata": "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",
          "dtype": "f8"
         },
         "xaxis": "x24",
         "yaxis": "y24"
        },
        {
         "histnorm": "density",
         "marker": {
          "color": "#636EFA"
         },
         "nbinsx": 50,
         "opacity": 0.8,
         "type": "histogram",
         "x": {
          "bdata": "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",
          "dtype": "f8"
         },
         "xaxis": "x25",
         "yaxis": "y25"
        },
        {
         "histnorm": "density",
         "marker": {
          "color": "#636EFA"
         },
         "nbinsx": 50,
         "opacity": 0.8,
         "type": "histogram",
         "x": {
          "bdata": "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",
          "dtype": "f8"
         },
         "xaxis": "x26",
         "yaxis": "y26"
        },
        {
         "histnorm": "density",
         "marker": {
          "color": "#636EFA"
         },
         "nbinsx": 50,
         "opacity": 0.8,
         "type": "histogram",
         "x": {
          "bdata": "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",
          "dtype": "f8"
         },
         "xaxis": "x27",
         "yaxis": "y27"
        },
        {
         "histnorm": "density",
         "marker": {
          "color": "#636EFA"
         },
         "nbinsx": 50,
         "opacity": 0.8,
         "type": "histogram",
         "x": {
          "bdata": "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",
          "dtype": "f8"
         },
         "xaxis": "x28",
         "yaxis": "y28"
        },
        {
         "histnorm": "density",
         "marker": {
          "color": "#636EFA"
         },
         "nbinsx": 50,
         "opacity": 0.8,
         "type": "histogram",
         "x": {
          "bdata": "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",
          "dtype": "f8"
         },
         "xaxis": "x29",
         "yaxis": "y29"
        },
        {
         "histnorm": "density",
         "marker": {
          "color": "#636EFA"
         },
         "nbinsx": 50,
         "opacity": 0.8,
         "type": "histogram",
         "x": {
          "bdata": "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",
          "dtype": "f8"
         },
         "xaxis": "x30",
         "yaxis": "y30"
        },
        {
         "histnorm": "density",
         "marker": {
          "color": "#636EFA"
         },
         "nbinsx": 50,
         "opacity": 0.8,
         "type": "histogram",
         "x": {
          "bdata": "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",
          "dtype": "f8"
         },
         "xaxis": "x31",
         "yaxis": "y31"
        },
        {
         "histnorm": "density",
         "marker": {
          "color": "#636EFA"
         },
         "nbinsx": 50,
         "opacity": 0.8,
         "type": "histogram",
         "x": {
          "bdata": "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",
          "dtype": "f8"
         },
         "xaxis": "x32",
         "yaxis": "y32"
        },
        {
         "histnorm": "density",
         "marker": {
          "color": "#636EFA"
         },
         "nbinsx": 50,
         "opacity": 0.8,
         "type": "histogram",
         "x": {
          "bdata": "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",
          "dtype": "f8"
         },
         "xaxis": "x33",
         "yaxis": "y33"
        },
        {
         "histnorm": "density",
         "marker": {
          "color": "#636EFA"
         },
         "nbinsx": 50,
         "opacity": 0.8,
         "type": "histogram",
         "x": {
          "bdata": "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",
          "dtype": "f8"
         },
         "xaxis": "x34",
         "yaxis": "y34"
        },
        {
         "histnorm": "density",
         "marker": {
          "color": "#636EFA"
         },
         "nbinsx": 50,
         "opacity": 0.8,
         "type": "histogram",
         "x": {
          "bdata": "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",
          "dtype": "f8"
         },
         "xaxis": "x35",
         "yaxis": "y35"
        },
        {
         "histnorm": "density",
         "marker": {
          "color": "#636EFA"
         },
         "nbinsx": 50,
         "opacity": 0.8,
         "type": "histogram",
         "x": {
          "bdata": "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",
          "dtype": "f8"
         },
         "xaxis": "x36",
         "yaxis": "y36"
        },
        {
         "histnorm": "density",
         "marker": {
          "color": "#636EFA"
         },
         "nbinsx": 50,
         "opacity": 0.8,
         "type": "histogram",
         "x": {
          "bdata": "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",
          "dtype": "f8"
         },
         "xaxis": "x37",
         "yaxis": "y37"
        },
        {
         "histnorm": "density",
         "marker": {
          "color": "#636EFA"
         },
         "nbinsx": 50,
         "opacity": 0.8,
         "type": "histogram",
         "x": {
          "bdata": "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",
          "dtype": "f8"
         },
         "xaxis": "x38",
         "yaxis": "y38"
        },
        {
         "histnorm": "density",
         "marker": {
          "color": "#636EFA"
         },
         "nbinsx": 50,
         "opacity": 0.8,
         "type": "histogram",
         "x": {
          "bdata": "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",
          "dtype": "f8"
         },
         "xaxis": "x39",
         "yaxis": "y39"
        },
        {
         "histnorm": "density",
         "marker": {
          "color": "#636EFA"
         },
         "nbinsx": 50,
         "opacity": 0.8,
         "type": "histogram",
         "x": {
          "bdata": "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",
          "dtype": "f8"
         },
         "xaxis": "x40",
         "yaxis": "y40"
        },
        {
         "histnorm": "density",
         "marker": {
          "color": "#636EFA"
         },
         "nbinsx": 50,
         "opacity": 0.8,
         "type": "histogram",
         "x": {
          "bdata": "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",
          "dtype": "f8"
         },
         "xaxis": "x41",
         "yaxis": "y41"
        }
       ],
       "layout": {
        "annotations": [
         {
          "font": {
           "size": 16
          },
          "showarrow": false,
          "text": "SEASON",
          "x": 0.14444444444444446,
          "xanchor": "center",
          "xref": "paper",
          "y": 1,
          "yanchor": "bottom",
          "yref": "paper"
         },
         {
          "font": {
           "size": 16
          },
          "showarrow": false,
          "text": "FINAL_POS",
          "x": 0.5,
          "xanchor": "center",
          "xref": "paper",
          "y": 1,
          "yanchor": "bottom",
          "yref": "paper"
         },
         {
          "font": {
           "size": 16
          },
          "showarrow": false,
          "text": "SGTTG_RANK",
          "x": 0.8555555555555556,
          "xanchor": "center",
          "xref": "paper",
          "y": 1,
          "yanchor": "bottom",
          "yref": "paper"
         },
         {
          "font": {
           "size": 16
          },
          "showarrow": false,
          "text": "SGTTG",
          "x": 0.14444444444444446,
          "xanchor": "center",
          "xref": "paper",
          "y": 0.9260204081632653,
          "yanchor": "bottom",
          "yref": "paper"
         },
         {
          "font": {
           "size": 16
          },
          "showarrow": false,
          "text": "SGOTT_RANK",
          "x": 0.5,
          "xanchor": "center",
          "xref": "paper",
          "y": 0.9260204081632653,
          "yanchor": "bottom",
          "yref": "paper"
         },
         {
          "font": {
           "size": 16
          },
          "showarrow": false,
          "text": "SGOTT",
          "x": 0.8555555555555556,
          "xanchor": "center",
          "xref": "paper",
          "y": 0.9260204081632653,
          "yanchor": "bottom",
          "yref": "paper"
         },
         {
          "font": {
           "size": 16
          },
          "showarrow": false,
          "text": "SGAPR_RANK",
          "x": 0.14444444444444446,
          "xanchor": "center",
          "xref": "paper",
          "y": 0.8520408163265307,
          "yanchor": "bottom",
          "yref": "paper"
         },
         {
          "font": {
           "size": 16
          },
          "showarrow": false,
          "text": "SGAPR",
          "x": 0.5,
          "xanchor": "center",
          "xref": "paper",
          "y": 0.8520408163265307,
          "yanchor": "bottom",
          "yref": "paper"
         },
         {
          "font": {
           "size": 16
          },
          "showarrow": false,
          "text": "SGATG_RANK",
          "x": 0.8555555555555556,
          "xanchor": "center",
          "xref": "paper",
          "y": 0.8520408163265307,
          "yanchor": "bottom",
          "yref": "paper"
         },
         {
          "font": {
           "size": 16
          },
          "showarrow": false,
          "text": "SGATG",
          "x": 0.14444444444444446,
          "xanchor": "center",
          "xref": "paper",
          "y": 0.778061224489796,
          "yanchor": "bottom",
          "yref": "paper"
         },
         {
          "font": {
           "size": 16
          },
          "showarrow": false,
          "text": "SGP_RANK",
          "x": 0.5,
          "xanchor": "center",
          "xref": "paper",
          "y": 0.778061224489796,
          "yanchor": "bottom",
          "yref": "paper"
         },
         {
          "font": {
           "size": 16
          },
          "showarrow": false,
          "text": "SGP",
          "x": 0.8555555555555556,
          "xanchor": "center",
          "xref": "paper",
          "y": 0.778061224489796,
          "yanchor": "bottom",
          "yref": "paper"
         },
         {
          "font": {
           "size": 16
          },
          "showarrow": false,
          "text": "BIRDIES_RANK",
          "x": 0.14444444444444446,
          "xanchor": "center",
          "xref": "paper",
          "y": 0.7040816326530612,
          "yanchor": "bottom",
          "yref": "paper"
         },
         {
          "font": {
           "size": 16
          },
          "showarrow": false,
          "text": "BIRDIES",
          "x": 0.5,
          "xanchor": "center",
          "xref": "paper",
          "y": 0.7040816326530612,
          "yanchor": "bottom",
          "yref": "paper"
         },
         {
          "font": {
           "size": 16
          },
          "showarrow": false,
          "text": "PAR_3_RANK",
          "x": 0.8555555555555556,
          "xanchor": "center",
          "xref": "paper",
          "y": 0.7040816326530612,
          "yanchor": "bottom",
          "yref": "paper"
         },
         {
          "font": {
           "size": 16
          },
          "showarrow": false,
          "text": "PAR_3",
          "x": 0.14444444444444446,
          "xanchor": "center",
          "xref": "paper",
          "y": 0.6301020408163265,
          "yanchor": "bottom",
          "yref": "paper"
         },
         {
          "font": {
           "size": 16
          },
          "showarrow": false,
          "text": "PAR_4_RANK",
          "x": 0.5,
          "xanchor": "center",
          "xref": "paper",
          "y": 0.6301020408163265,
          "yanchor": "bottom",
          "yref": "paper"
         },
         {
          "font": {
           "size": 16
          },
          "showarrow": false,
          "text": "PAR_4",
          "x": 0.8555555555555556,
          "xanchor": "center",
          "xref": "paper",
          "y": 0.6301020408163265,
          "yanchor": "bottom",
          "yref": "paper"
         },
         {
          "font": {
           "size": 16
          },
          "showarrow": false,
          "text": "PAR_5_RANK",
          "x": 0.14444444444444446,
          "xanchor": "center",
          "xref": "paper",
          "y": 0.5561224489795918,
          "yanchor": "bottom",
          "yref": "paper"
         },
         {
          "font": {
           "size": 16
          },
          "showarrow": false,
          "text": "PAR_5",
          "x": 0.5,
          "xanchor": "center",
          "xref": "paper",
          "y": 0.5561224489795918,
          "yanchor": "bottom",
          "yref": "paper"
         },
         {
          "font": {
           "size": 16
          },
          "showarrow": false,
          "text": "TOTAL_DRIVING_RANK",
          "x": 0.8555555555555556,
          "xanchor": "center",
          "xref": "paper",
          "y": 0.5561224489795918,
          "yanchor": "bottom",
          "yref": "paper"
         },
         {
          "font": {
           "size": 16
          },
          "showarrow": false,
          "text": "TOTAL_DRIVING",
          "x": 0.14444444444444446,
          "xanchor": "center",
          "xref": "paper",
          "y": 0.48214285714285715,
          "yanchor": "bottom",
          "yref": "paper"
         },
         {
          "font": {
           "size": 16
          },
          "showarrow": false,
          "text": "DRIVING_DISTANCE_RANK",
          "x": 0.5,
          "xanchor": "center",
          "xref": "paper",
          "y": 0.48214285714285715,
          "yanchor": "bottom",
          "yref": "paper"
         },
         {
          "font": {
           "size": 16
          },
          "showarrow": false,
          "text": "DRIVING_DISTANCE",
          "x": 0.8555555555555556,
          "xanchor": "center",
          "xref": "paper",
          "y": 0.48214285714285715,
          "yanchor": "bottom",
          "yref": "paper"
         },
         {
          "font": {
           "size": 16
          },
          "showarrow": false,
          "text": "DRIVING_ACCURACY_RANK",
          "x": 0.14444444444444446,
          "xanchor": "center",
          "xref": "paper",
          "y": 0.4081632653061225,
          "yanchor": "bottom",
          "yref": "paper"
         },
         {
          "font": {
           "size": 16
          },
          "showarrow": false,
          "text": "DRIVING_ACCURACY",
          "x": 0.5,
          "xanchor": "center",
          "xref": "paper",
          "y": 0.4081632653061225,
          "yanchor": "bottom",
          "yref": "paper"
         },
         {
          "font": {
           "size": 16
          },
          "showarrow": false,
          "text": "GIR_RANK",
          "x": 0.8555555555555556,
          "xanchor": "center",
          "xref": "paper",
          "y": 0.4081632653061225,
          "yanchor": "bottom",
          "yref": "paper"
         },
         {
          "font": {
           "size": 16
          },
          "showarrow": false,
          "text": "GIR",
          "x": 0.14444444444444446,
          "xanchor": "center",
          "xref": "paper",
          "y": 0.33418367346938777,
          "yanchor": "bottom",
          "yref": "paper"
         },
         {
          "font": {
           "size": 16
          },
          "showarrow": false,
          "text": "SCRAMBLING_RANK",
          "x": 0.5,
          "xanchor": "center",
          "xref": "paper",
          "y": 0.33418367346938777,
          "yanchor": "bottom",
          "yref": "paper"
         },
         {
          "font": {
           "size": 16
          },
          "showarrow": false,
          "text": "SCRAMBLING",
          "x": 0.8555555555555556,
          "xanchor": "center",
          "xref": "paper",
          "y": 0.33418367346938777,
          "yanchor": "bottom",
          "yref": "paper"
         },
         {
          "font": {
           "size": 16
          },
          "showarrow": false,
          "text": "OWGR_RANK",
          "x": 0.14444444444444446,
          "xanchor": "center",
          "xref": "paper",
          "y": 0.2602040816326531,
          "yanchor": "bottom",
          "yref": "paper"
         },
         {
          "font": {
           "size": 16
          },
          "showarrow": false,
          "text": "OWGR",
          "x": 0.5,
          "xanchor": "center",
          "xref": "paper",
          "y": 0.2602040816326531,
          "yanchor": "bottom",
          "yref": "paper"
         },
         {
          "font": {
           "size": 16
          },
          "showarrow": false,
          "text": "VEGAS_ODDS",
          "x": 0.8555555555555556,
          "xanchor": "center",
          "xref": "paper",
          "y": 0.2602040816326531,
          "yanchor": "bottom",
          "yref": "paper"
         },
         {
          "font": {
           "size": 16
          },
          "showarrow": false,
          "text": "CUT_PERCENTAGE",
          "x": 0.14444444444444446,
          "xanchor": "center",
          "xref": "paper",
          "y": 0.18622448979591838,
          "yanchor": "bottom",
          "yref": "paper"
         },
         {
          "font": {
           "size": 16
          },
          "showarrow": false,
          "text": "FEDEX_CUP_POINTS",
          "x": 0.5,
          "xanchor": "center",
          "xref": "paper",
          "y": 0.18622448979591838,
          "yanchor": "bottom",
          "yref": "paper"
         },
         {
          "font": {
           "size": 16
          },
          "showarrow": false,
          "text": "form_density",
          "x": 0.8555555555555556,
          "xanchor": "center",
          "xref": "paper",
          "y": 0.18622448979591838,
          "yanchor": "bottom",
          "yref": "paper"
         },
         {
          "font": {
           "size": 16
          },
          "showarrow": false,
          "text": "CONSECUTIVE_CUTS",
          "x": 0.14444444444444446,
          "xanchor": "center",
          "xref": "paper",
          "y": 0.11224489795918369,
          "yanchor": "bottom",
          "yref": "paper"
         },
         {
          "font": {
           "size": 16
          },
          "showarrow": false,
          "text": "RECENT_FORM",
          "x": 0.5,
          "xanchor": "center",
          "xref": "paper",
          "y": 0.11224489795918369,
          "yanchor": "bottom",
          "yref": "paper"
         },
         {
          "font": {
           "size": 16
          },
          "showarrow": false,
          "text": "adj_form",
          "x": 0.8555555555555556,
          "xanchor": "center",
          "xref": "paper",
          "y": 0.11224489795918369,
          "yanchor": "bottom",
          "yref": "paper"
         },
         {
          "font": {
           "size": 16
          },
          "showarrow": false,
          "text": "COURSE_HISTORY",
          "x": 0.14444444444444446,
          "xanchor": "center",
          "xref": "paper",
          "y": 0.03826530612244899,
          "yanchor": "bottom",
          "yref": "paper"
         },
         {
          "font": {
           "size": 16
          },
          "showarrow": false,
          "text": "adj_ch",
          "x": 0.5,
          "xanchor": "center",
          "xref": "paper",
          "y": 0.03826530612244899,
          "yanchor": "bottom",
          "yref": "paper"
         }
        ],
        "height": 4200,
        "showlegend": false,
        "template": {
         "data": {
          "bar": [
           {
            "error_x": {
             "color": "#f2f5fa"
            },
            "error_y": {
             "color": "#f2f5fa"
            },
            "marker": {
             "line": {
              "color": "rgb(17,17,17)",
              "width": 0.5
             },
             "pattern": {
              "fillmode": "overlay",
              "size": 10,
              "solidity": 0.2
             }
            },
            "type": "bar"
           }
          ],
          "barpolar": [
           {
            "marker": {
             "line": {
              "color": "rgb(17,17,17)",
              "width": 0.5
             },
             "pattern": {
              "fillmode": "overlay",
              "size": 10,
              "solidity": 0.2
             }
            },
            "type": "barpolar"
           }
          ],
          "carpet": [
           {
            "aaxis": {
             "endlinecolor": "#A2B1C6",
             "gridcolor": "#506784",
             "linecolor": "#506784",
             "minorgridcolor": "#506784",
             "startlinecolor": "#A2B1C6"
            },
            "baxis": {
             "endlinecolor": "#A2B1C6",
             "gridcolor": "#506784",
             "linecolor": "#506784",
             "minorgridcolor": "#506784",
             "startlinecolor": "#A2B1C6"
            },
            "type": "carpet"
           }
          ],
          "choropleth": [
           {
            "colorbar": {
             "outlinewidth": 0,
             "ticks": ""
            },
            "type": "choropleth"
           }
          ],
          "contour": [
           {
            "colorbar": {
             "outlinewidth": 0,
             "ticks": ""
            },
            "colorscale": [
             [
              0,
              "#0d0887"
             ],
             [
              0.1111111111111111,
              "#46039f"
             ],
             [
              0.2222222222222222,
              "#7201a8"
             ],
             [
              0.3333333333333333,
              "#9c179e"
             ],
             [
              0.4444444444444444,
              "#bd3786"
             ],
             [
              0.5555555555555556,
              "#d8576b"
             ],
             [
              0.6666666666666666,
              "#ed7953"
             ],
             [
              0.7777777777777778,
              "#fb9f3a"
             ],
             [
              0.8888888888888888,
              "#fdca26"
             ],
             [
              1,
              "#f0f921"
             ]
            ],
            "type": "contour"
           }
          ],
          "contourcarpet": [
           {
            "colorbar": {
             "outlinewidth": 0,
             "ticks": ""
            },
            "type": "contourcarpet"
           }
          ],
          "heatmap": [
           {
            "colorbar": {
             "outlinewidth": 0,
             "ticks": ""
            },
            "colorscale": [
             [
              0,
              "#0d0887"
             ],
             [
              0.1111111111111111,
              "#46039f"
             ],
             [
              0.2222222222222222,
              "#7201a8"
             ],
             [
              0.3333333333333333,
              "#9c179e"
             ],
             [
              0.4444444444444444,
              "#bd3786"
             ],
             [
              0.5555555555555556,
              "#d8576b"
             ],
             [
              0.6666666666666666,
              "#ed7953"
             ],
             [
              0.7777777777777778,
              "#fb9f3a"
             ],
             [
              0.8888888888888888,
              "#fdca26"
             ],
             [
              1,
              "#f0f921"
             ]
            ],
            "type": "heatmap"
           }
          ],
          "histogram": [
           {
            "marker": {
             "pattern": {
              "fillmode": "overlay",
              "size": 10,
              "solidity": 0.2
             }
            },
            "type": "histogram"
           }
          ],
          "histogram2d": [
           {
            "colorbar": {
             "outlinewidth": 0,
             "ticks": ""
            },
            "colorscale": [
             [
              0,
              "#0d0887"
             ],
             [
              0.1111111111111111,
              "#46039f"
             ],
             [
              0.2222222222222222,
              "#7201a8"
             ],
             [
              0.3333333333333333,
              "#9c179e"
             ],
             [
              0.4444444444444444,
              "#bd3786"
             ],
             [
              0.5555555555555556,
              "#d8576b"
             ],
             [
              0.6666666666666666,
              "#ed7953"
             ],
             [
              0.7777777777777778,
              "#fb9f3a"
             ],
             [
              0.8888888888888888,
              "#fdca26"
             ],
             [
              1,
              "#f0f921"
             ]
            ],
            "type": "histogram2d"
           }
          ],
          "histogram2dcontour": [
           {
            "colorbar": {
             "outlinewidth": 0,
             "ticks": ""
            },
            "colorscale": [
             [
              0,
              "#0d0887"
             ],
             [
              0.1111111111111111,
              "#46039f"
             ],
             [
              0.2222222222222222,
              "#7201a8"
             ],
             [
              0.3333333333333333,
              "#9c179e"
             ],
             [
              0.4444444444444444,
              "#bd3786"
             ],
             [
              0.5555555555555556,
              "#d8576b"
             ],
             [
              0.6666666666666666,
              "#ed7953"
             ],
             [
              0.7777777777777778,
              "#fb9f3a"
             ],
             [
              0.8888888888888888,
              "#fdca26"
             ],
             [
              1,
              "#f0f921"
             ]
            ],
            "type": "histogram2dcontour"
           }
          ],
          "mesh3d": [
           {
            "colorbar": {
             "outlinewidth": 0,
             "ticks": ""
            },
            "type": "mesh3d"
           }
          ],
          "parcoords": [
           {
            "line": {
             "colorbar": {
              "outlinewidth": 0,
              "ticks": ""
             }
            },
            "type": "parcoords"
           }
          ],
          "pie": [
           {
            "automargin": true,
            "type": "pie"
           }
          ],
          "scatter": [
           {
            "marker": {
             "line": {
              "color": "#283442"
             }
            },
            "type": "scatter"
           }
          ],
          "scatter3d": [
           {
            "line": {
             "colorbar": {
              "outlinewidth": 0,
              "ticks": ""
             }
            },
            "marker": {
             "colorbar": {
              "outlinewidth": 0,
              "ticks": ""
             }
            },
            "type": "scatter3d"
           }
          ],
          "scattercarpet": [
           {
            "marker": {
             "colorbar": {
              "outlinewidth": 0,
              "ticks": ""
             }
            },
            "type": "scattercarpet"
           }
          ],
          "scattergeo": [
           {
            "marker": {
             "colorbar": {
              "outlinewidth": 0,
              "ticks": ""
             }
            },
            "type": "scattergeo"
           }
          ],
          "scattergl": [
           {
            "marker": {
             "line": {
              "color": "#283442"
             }
            },
            "type": "scattergl"
           }
          ],
          "scattermap": [
           {
            "marker": {
             "colorbar": {
              "outlinewidth": 0,
              "ticks": ""
             }
            },
            "type": "scattermap"
           }
          ],
          "scattermapbox": [
           {
            "marker": {
             "colorbar": {
              "outlinewidth": 0,
              "ticks": ""
             }
            },
            "type": "scattermapbox"
           }
          ],
          "scatterpolar": [
           {
            "marker": {
             "colorbar": {
              "outlinewidth": 0,
              "ticks": ""
             }
            },
            "type": "scatterpolar"
           }
          ],
          "scatterpolargl": [
           {
            "marker": {
             "colorbar": {
              "outlinewidth": 0,
              "ticks": ""
             }
            },
            "type": "scatterpolargl"
           }
          ],
          "scatterternary": [
           {
            "marker": {
             "colorbar": {
              "outlinewidth": 0,
              "ticks": ""
             }
            },
            "type": "scatterternary"
           }
          ],
          "surface": [
           {
            "colorbar": {
             "outlinewidth": 0,
             "ticks": ""
            },
            "colorscale": [
             [
              0,
              "#0d0887"
             ],
             [
              0.1111111111111111,
              "#46039f"
             ],
             [
              0.2222222222222222,
              "#7201a8"
             ],
             [
              0.3333333333333333,
              "#9c179e"
             ],
             [
              0.4444444444444444,
              "#bd3786"
             ],
             [
              0.5555555555555556,
              "#d8576b"
             ],
             [
              0.6666666666666666,
              "#ed7953"
             ],
             [
              0.7777777777777778,
              "#fb9f3a"
             ],
             [
              0.8888888888888888,
              "#fdca26"
             ],
             [
              1,
              "#f0f921"
             ]
            ],
            "type": "surface"
           }
          ],
          "table": [
           {
            "cells": {
             "fill": {
              "color": "#506784"
             },
             "line": {
              "color": "rgb(17,17,17)"
             }
            },
            "header": {
             "fill": {
              "color": "#2a3f5f"
             },
             "line": {
              "color": "rgb(17,17,17)"
             }
            },
            "type": "table"
           }
          ]
         },
         "layout": {
          "annotationdefaults": {
           "arrowcolor": "#f2f5fa",
           "arrowhead": 0,
           "arrowwidth": 1
          },
          "autotypenumbers": "strict",
          "coloraxis": {
           "colorbar": {
            "outlinewidth": 0,
            "ticks": ""
           }
          },
          "colorscale": {
           "diverging": [
            [
             0,
             "#8e0152"
            ],
            [
             0.1,
             "#c51b7d"
            ],
            [
             0.2,
             "#de77ae"
            ],
            [
             0.3,
             "#f1b6da"
            ],
            [
             0.4,
             "#fde0ef"
            ],
            [
             0.5,
             "#f7f7f7"
            ],
            [
             0.6,
             "#e6f5d0"
            ],
            [
             0.7,
             "#b8e186"
            ],
            [
             0.8,
             "#7fbc41"
            ],
            [
             0.9,
             "#4d9221"
            ],
            [
             1,
             "#276419"
            ]
           ],
           "sequential": [
            [
             0,
             "#0d0887"
            ],
            [
             0.1111111111111111,
             "#46039f"
            ],
            [
             0.2222222222222222,
             "#7201a8"
            ],
            [
             0.3333333333333333,
             "#9c179e"
            ],
            [
             0.4444444444444444,
             "#bd3786"
            ],
            [
             0.5555555555555556,
             "#d8576b"
            ],
            [
             0.6666666666666666,
             "#ed7953"
            ],
            [
             0.7777777777777778,
             "#fb9f3a"
            ],
            [
             0.8888888888888888,
             "#fdca26"
            ],
            [
             1,
             "#f0f921"
            ]
           ],
           "sequentialminus": [
            [
             0,
             "#0d0887"
            ],
            [
             0.1111111111111111,
             "#46039f"
            ],
            [
             0.2222222222222222,
             "#7201a8"
            ],
            [
             0.3333333333333333,
             "#9c179e"
            ],
            [
             0.4444444444444444,
             "#bd3786"
            ],
            [
             0.5555555555555556,
             "#d8576b"
            ],
            [
             0.6666666666666666,
             "#ed7953"
            ],
            [
             0.7777777777777778,
             "#fb9f3a"
            ],
            [
             0.8888888888888888,
             "#fdca26"
            ],
            [
             1,
             "#f0f921"
            ]
           ]
          },
          "colorway": [
           "#636efa",
           "#EF553B",
           "#00cc96",
           "#ab63fa",
           "#FFA15A",
           "#19d3f3",
           "#FF6692",
           "#B6E880",
           "#FF97FF",
           "#FECB52"
          ],
          "font": {
           "color": "#f2f5fa"
          },
          "geo": {
           "bgcolor": "rgb(17,17,17)",
           "lakecolor": "rgb(17,17,17)",
           "landcolor": "rgb(17,17,17)",
           "showlakes": true,
           "showland": true,
           "subunitcolor": "#506784"
          },
          "hoverlabel": {
           "align": "left"
          },
          "hovermode": "closest",
          "mapbox": {
           "style": "dark"
          },
          "paper_bgcolor": "rgb(17,17,17)",
          "plot_bgcolor": "rgb(17,17,17)",
          "polar": {
           "angularaxis": {
            "gridcolor": "#506784",
            "linecolor": "#506784",
            "ticks": ""
           },
           "bgcolor": "rgb(17,17,17)",
           "radialaxis": {
            "gridcolor": "#506784",
            "linecolor": "#506784",
            "ticks": ""
           }
          },
          "scene": {
           "xaxis": {
            "backgroundcolor": "rgb(17,17,17)",
            "gridcolor": "#506784",
            "gridwidth": 2,
            "linecolor": "#506784",
            "showbackground": true,
            "ticks": "",
            "zerolinecolor": "#C8D4E3"
           },
           "yaxis": {
            "backgroundcolor": "rgb(17,17,17)",
            "gridcolor": "#506784",
            "gridwidth": 2,
            "linecolor": "#506784",
            "showbackground": true,
            "ticks": "",
            "zerolinecolor": "#C8D4E3"
           },
           "zaxis": {
            "backgroundcolor": "rgb(17,17,17)",
            "gridcolor": "#506784",
            "gridwidth": 2,
            "linecolor": "#506784",
            "showbackground": true,
            "ticks": "",
            "zerolinecolor": "#C8D4E3"
           }
          },
          "shapedefaults": {
           "line": {
            "color": "#f2f5fa"
           }
          },
          "sliderdefaults": {
           "bgcolor": "#C8D4E3",
           "bordercolor": "rgb(17,17,17)",
           "borderwidth": 1,
           "tickwidth": 0
          },
          "ternary": {
           "aaxis": {
            "gridcolor": "#506784",
            "linecolor": "#506784",
            "ticks": ""
           },
           "baxis": {
            "gridcolor": "#506784",
            "linecolor": "#506784",
            "ticks": ""
           },
           "bgcolor": "rgb(17,17,17)",
           "caxis": {
            "gridcolor": "#506784",
            "linecolor": "#506784",
            "ticks": ""
           }
          },
          "title": {
           "x": 0.05
          },
          "updatemenudefaults": {
           "bgcolor": "#506784",
           "borderwidth": 0
          },
          "xaxis": {
           "automargin": true,
           "gridcolor": "#283442",
           "linecolor": "#506784",
           "ticks": "",
           "title": {
            "standoff": 15
           },
           "zerolinecolor": "#283442",
           "zerolinewidth": 2
          },
          "yaxis": {
           "automargin": true,
           "gridcolor": "#283442",
           "linecolor": "#506784",
           "ticks": "",
           "title": {
            "standoff": 15
           },
           "zerolinecolor": "#283442",
           "zerolinewidth": 2
          }
         }
        },
        "title": {
         "text": "Feature Distributions (with Adaptive Binning)"
        },
        "width": 1000,
        "xaxis": {
         "anchor": "y",
         "domain": [
          0,
          0.2888888888888889
         ]
        },
        "xaxis10": {
         "anchor": "y10",
         "domain": [
          0,
          0.2888888888888889
         ]
        },
        "xaxis11": {
         "anchor": "y11",
         "domain": [
          0.35555555555555557,
          0.6444444444444445
         ]
        },
        "xaxis12": {
         "anchor": "y12",
         "domain": [
          0.7111111111111111,
          1
         ]
        },
        "xaxis13": {
         "anchor": "y13",
         "domain": [
          0,
          0.2888888888888889
         ]
        },
        "xaxis14": {
         "anchor": "y14",
         "domain": [
          0.35555555555555557,
          0.6444444444444445
         ]
        },
        "xaxis15": {
         "anchor": "y15",
         "domain": [
          0.7111111111111111,
          1
         ]
        },
        "xaxis16": {
         "anchor": "y16",
         "domain": [
          0,
          0.2888888888888889
         ]
        },
        "xaxis17": {
         "anchor": "y17",
         "domain": [
          0.35555555555555557,
          0.6444444444444445
         ]
        },
        "xaxis18": {
         "anchor": "y18",
         "domain": [
          0.7111111111111111,
          1
         ]
        },
        "xaxis19": {
         "anchor": "y19",
         "domain": [
          0,
          0.2888888888888889
         ]
        },
        "xaxis2": {
         "anchor": "y2",
         "domain": [
          0.35555555555555557,
          0.6444444444444445
         ]
        },
        "xaxis20": {
         "anchor": "y20",
         "domain": [
          0.35555555555555557,
          0.6444444444444445
         ]
        },
        "xaxis21": {
         "anchor": "y21",
         "domain": [
          0.7111111111111111,
          1
         ]
        },
        "xaxis22": {
         "anchor": "y22",
         "domain": [
          0,
          0.2888888888888889
         ]
        },
        "xaxis23": {
         "anchor": "y23",
         "domain": [
          0.35555555555555557,
          0.6444444444444445
         ]
        },
        "xaxis24": {
         "anchor": "y24",
         "domain": [
          0.7111111111111111,
          1
         ]
        },
        "xaxis25": {
         "anchor": "y25",
         "domain": [
          0,
          0.2888888888888889
         ]
        },
        "xaxis26": {
         "anchor": "y26",
         "domain": [
          0.35555555555555557,
          0.6444444444444445
         ]
        },
        "xaxis27": {
         "anchor": "y27",
         "domain": [
          0.7111111111111111,
          1
         ]
        },
        "xaxis28": {
         "anchor": "y28",
         "domain": [
          0,
          0.2888888888888889
         ]
        },
        "xaxis29": {
         "anchor": "y29",
         "domain": [
          0.35555555555555557,
          0.6444444444444445
         ]
        },
        "xaxis3": {
         "anchor": "y3",
         "domain": [
          0.7111111111111111,
          1
         ]
        },
        "xaxis30": {
         "anchor": "y30",
         "domain": [
          0.7111111111111111,
          1
         ]
        },
        "xaxis31": {
         "anchor": "y31",
         "domain": [
          0,
          0.2888888888888889
         ]
        },
        "xaxis32": {
         "anchor": "y32",
         "domain": [
          0.35555555555555557,
          0.6444444444444445
         ]
        },
        "xaxis33": {
         "anchor": "y33",
         "domain": [
          0.7111111111111111,
          1
         ]
        },
        "xaxis34": {
         "anchor": "y34",
         "domain": [
          0,
          0.2888888888888889
         ]
        },
        "xaxis35": {
         "anchor": "y35",
         "domain": [
          0.35555555555555557,
          0.6444444444444445
         ]
        },
        "xaxis36": {
         "anchor": "y36",
         "domain": [
          0.7111111111111111,
          1
         ]
        },
        "xaxis37": {
         "anchor": "y37",
         "domain": [
          0,
          0.2888888888888889
         ]
        },
        "xaxis38": {
         "anchor": "y38",
         "domain": [
          0.35555555555555557,
          0.6444444444444445
         ]
        },
        "xaxis39": {
         "anchor": "y39",
         "domain": [
          0.7111111111111111,
          1
         ]
        },
        "xaxis4": {
         "anchor": "y4",
         "domain": [
          0,
          0.2888888888888889
         ]
        },
        "xaxis40": {
         "anchor": "y40",
         "domain": [
          0,
          0.2888888888888889
         ]
        },
        "xaxis41": {
         "anchor": "y41",
         "domain": [
          0.35555555555555557,
          0.6444444444444445
         ]
        },
        "xaxis42": {
         "anchor": "y42",
         "domain": [
          0.7111111111111111,
          1
         ]
        },
        "xaxis5": {
         "anchor": "y5",
         "domain": [
          0.35555555555555557,
          0.6444444444444445
         ]
        },
        "xaxis6": {
         "anchor": "y6",
         "domain": [
          0.7111111111111111,
          1
         ]
        },
        "xaxis7": {
         "anchor": "y7",
         "domain": [
          0,
          0.2888888888888889
         ]
        },
        "xaxis8": {
         "anchor": "y8",
         "domain": [
          0.35555555555555557,
          0.6444444444444445
         ]
        },
        "xaxis9": {
         "anchor": "y9",
         "domain": [
          0.7111111111111111,
          1
         ]
        },
        "yaxis": {
         "anchor": "x",
         "domain": [
          0.9617346938775511,
          1
         ]
        },
        "yaxis10": {
         "anchor": "x10",
         "domain": [
          0.739795918367347,
          0.778061224489796
         ]
        },
        "yaxis11": {
         "anchor": "x11",
         "domain": [
          0.739795918367347,
          0.778061224489796
         ]
        },
        "yaxis12": {
         "anchor": "x12",
         "domain": [
          0.739795918367347,
          0.778061224489796
         ]
        },
        "yaxis13": {
         "anchor": "x13",
         "domain": [
          0.6658163265306123,
          0.7040816326530612
         ]
        },
        "yaxis14": {
         "anchor": "x14",
         "domain": [
          0.6658163265306123,
          0.7040816326530612
         ]
        },
        "yaxis15": {
         "anchor": "x15",
         "domain": [
          0.6658163265306123,
          0.7040816326530612
         ]
        },
        "yaxis16": {
         "anchor": "x16",
         "domain": [
          0.5918367346938775,
          0.6301020408163265
         ]
        },
        "yaxis17": {
         "anchor": "x17",
         "domain": [
          0.5918367346938775,
          0.6301020408163265
         ]
        },
        "yaxis18": {
         "anchor": "x18",
         "domain": [
          0.5918367346938775,
          0.6301020408163265
         ]
        },
        "yaxis19": {
         "anchor": "x19",
         "domain": [
          0.5178571428571429,
          0.5561224489795918
         ]
        },
        "yaxis2": {
         "anchor": "x2",
         "domain": [
          0.9617346938775511,
          1
         ]
        },
        "yaxis20": {
         "anchor": "x20",
         "domain": [
          0.5178571428571429,
          0.5561224489795918
         ]
        },
        "yaxis21": {
         "anchor": "x21",
         "domain": [
          0.5178571428571429,
          0.5561224489795918
         ]
        },
        "yaxis22": {
         "anchor": "x22",
         "domain": [
          0.44387755102040816,
          0.48214285714285715
         ]
        },
        "yaxis23": {
         "anchor": "x23",
         "domain": [
          0.44387755102040816,
          0.48214285714285715
         ]
        },
        "yaxis24": {
         "anchor": "x24",
         "domain": [
          0.44387755102040816,
          0.48214285714285715
         ]
        },
        "yaxis25": {
         "anchor": "x25",
         "domain": [
          0.3698979591836735,
          0.4081632653061225
         ]
        },
        "yaxis26": {
         "anchor": "x26",
         "domain": [
          0.3698979591836735,
          0.4081632653061225
         ]
        },
        "yaxis27": {
         "anchor": "x27",
         "domain": [
          0.3698979591836735,
          0.4081632653061225
         ]
        },
        "yaxis28": {
         "anchor": "x28",
         "domain": [
          0.29591836734693877,
          0.33418367346938777
         ]
        },
        "yaxis29": {
         "anchor": "x29",
         "domain": [
          0.29591836734693877,
          0.33418367346938777
         ]
        },
        "yaxis3": {
         "anchor": "x3",
         "domain": [
          0.9617346938775511,
          1
         ]
        },
        "yaxis30": {
         "anchor": "x30",
         "domain": [
          0.29591836734693877,
          0.33418367346938777
         ]
        },
        "yaxis31": {
         "anchor": "x31",
         "domain": [
          0.22193877551020408,
          0.2602040816326531
         ]
        },
        "yaxis32": {
         "anchor": "x32",
         "domain": [
          0.22193877551020408,
          0.2602040816326531
         ]
        },
        "yaxis33": {
         "anchor": "x33",
         "domain": [
          0.22193877551020408,
          0.2602040816326531
         ]
        },
        "yaxis34": {
         "anchor": "x34",
         "domain": [
          0.14795918367346939,
          0.18622448979591838
         ]
        },
        "yaxis35": {
         "anchor": "x35",
         "domain": [
          0.14795918367346939,
          0.18622448979591838
         ]
        },
        "yaxis36": {
         "anchor": "x36",
         "domain": [
          0.14795918367346939,
          0.18622448979591838
         ]
        },
        "yaxis37": {
         "anchor": "x37",
         "domain": [
          0.07397959183673469,
          0.11224489795918369
         ]
        },
        "yaxis38": {
         "anchor": "x38",
         "domain": [
          0.07397959183673469,
          0.11224489795918369
         ]
        },
        "yaxis39": {
         "anchor": "x39",
         "domain": [
          0.07397959183673469,
          0.11224489795918369
         ]
        },
        "yaxis4": {
         "anchor": "x4",
         "domain": [
          0.8877551020408163,
          0.9260204081632653
         ]
        },
        "yaxis40": {
         "anchor": "x40",
         "domain": [
          0,
          0.03826530612244899
         ]
        },
        "yaxis41": {
         "anchor": "x41",
         "domain": [
          0,
          0.03826530612244899
         ]
        },
        "yaxis42": {
         "anchor": "x42",
         "domain": [
          0,
          0.03826530612244899
         ]
        },
        "yaxis5": {
         "anchor": "x5",
         "domain": [
          0.8877551020408163,
          0.9260204081632653
         ]
        },
        "yaxis6": {
         "anchor": "x6",
         "domain": [
          0.8877551020408163,
          0.9260204081632653
         ]
        },
        "yaxis7": {
         "anchor": "x7",
         "domain": [
          0.8137755102040818,
          0.8520408163265307
         ]
        },
        "yaxis8": {
         "anchor": "x8",
         "domain": [
          0.8137755102040818,
          0.8520408163265307
         ]
        },
        "yaxis9": {
         "anchor": "x9",
         "domain": [
          0.8137755102040818,
          0.8520408163265307
         ]
        }
       }
      }
     },
     "metadata": {},
     "output_type": "display_data"
    }
   ],
   "source": [
    "import plotly.express as px\n",
    "import plotly.subplots as sp\n",
    "import plotly.graph_objects as go\n",
    "import pandas as pd\n",
    "import numpy as np\n",
    "\n",
    "# Select numeric columns with >1 unique value, excluding label\n",
    "df_numeric = training_df.select_dtypes(include=np.number)\n",
    "df_numeric = df_numeric.loc[:, df_numeric.nunique() > 1]\n",
    "df_numeric = df_numeric.drop(columns=[\"TOP_20\"], errors=\"ignore\")\n",
    "\n",
    "# Create subplots\n",
    "n_cols = 3\n",
    "n_rows = int(np.ceil(len(df_numeric.columns) / n_cols))\n",
    "fig = sp.make_subplots(rows=n_rows, cols=n_cols, subplot_titles=df_numeric.columns)\n",
    "\n",
    "# Add one histogram per feature with smart binning\n",
    "for i, column in enumerate(df_numeric.columns):\n",
    "    row = i // n_cols + 1\n",
    "    col = i % n_cols + 1\n",
    "\n",
    "    # Compute dynamic bin count\n",
    "    col_range = df_numeric[column].max() - df_numeric[column].min()\n",
    "    n_unique = df_numeric[column].nunique()\n",
    "    nbins = min(50, max(5, int(n_unique / 2))) if col_range < 10 else 50  # tighter for short-range\n",
    "\n",
    "    fig.add_trace(\n",
    "        go.Histogram(\n",
    "            x=df_numeric[column],\n",
    "            nbinsx=nbins,\n",
    "            histnorm=\"density\",\n",
    "            marker=dict(color=\"#636EFA\"),\n",
    "            opacity=0.8\n",
    "        ),\n",
    "        row=row,\n",
    "        col=col\n",
    "    )\n",
    "\n",
    "# Style the figure\n",
    "fig.update_layout(\n",
    "    height=300 * n_rows,\n",
    "    width=1000,\n",
    "    title_text=\"Feature Distributions (with Adaptive Binning)\",\n",
    "    template=\"plotly_dark\",\n",
    "    showlegend=False\n",
    ")\n",
    "\n",
    "fig.show()"
   ]
  },
  {
   "cell_type": "markdown",
   "id": "7dd53f87",
   "metadata": {},
   "source": [
    "# Current Week Data"
   ]
  },
  {
   "cell_type": "markdown",
   "id": "fbd0a012",
   "metadata": {},
   "source": [
    "## Import 2025 Field\n",
    "**Important!**  Save curren't week's `DKSalaries.csv` into Data folder before this step."
   ]
  },
  {
   "cell_type": "code",
   "execution_count": 13,
   "id": "f17875f6",
   "metadata": {},
   "outputs": [
    {
     "data": {
      "text/html": [
       "<div>\n",
       "<style scoped>\n",
       "    .dataframe tbody tr th:only-of-type {\n",
       "        vertical-align: middle;\n",
       "    }\n",
       "\n",
       "    .dataframe tbody tr th {\n",
       "        vertical-align: top;\n",
       "    }\n",
       "\n",
       "    .dataframe thead th {\n",
       "        text-align: right;\n",
       "    }\n",
       "</style>\n",
       "<table border=\"1\" class=\"dataframe\">\n",
       "  <thead>\n",
       "    <tr style=\"text-align: right;\">\n",
       "      <th></th>\n",
       "      <th>PLAYER</th>\n",
       "      <th>SALARY</th>\n",
       "    </tr>\n",
       "  </thead>\n",
       "  <tbody>\n",
       "    <tr>\n",
       "      <th>0</th>\n",
       "      <td>Scottie Scheffler</td>\n",
       "      <td>13300</td>\n",
       "    </tr>\n",
       "    <tr>\n",
       "      <th>1</th>\n",
       "      <td>Xander Schauffele</td>\n",
       "      <td>10900</td>\n",
       "    </tr>\n",
       "    <tr>\n",
       "      <th>2</th>\n",
       "      <td>Justin Thomas</td>\n",
       "      <td>10100</td>\n",
       "    </tr>\n",
       "    <tr>\n",
       "      <th>3</th>\n",
       "      <td>Collin Morikawa</td>\n",
       "      <td>9900</td>\n",
       "    </tr>\n",
       "    <tr>\n",
       "      <th>4</th>\n",
       "      <td>Patrick Cantlay</td>\n",
       "      <td>9500</td>\n",
       "    </tr>\n",
       "    <tr>\n",
       "      <th>5</th>\n",
       "      <td>Tommy Fleetwood</td>\n",
       "      <td>9400</td>\n",
       "    </tr>\n",
       "    <tr>\n",
       "      <th>6</th>\n",
       "      <td>Ludvig Aberg</td>\n",
       "      <td>9300</td>\n",
       "    </tr>\n",
       "    <tr>\n",
       "      <th>7</th>\n",
       "      <td>Corey Conners</td>\n",
       "      <td>9100</td>\n",
       "    </tr>\n",
       "    <tr>\n",
       "      <th>8</th>\n",
       "      <td>Hideki Matsuyama</td>\n",
       "      <td>9000</td>\n",
       "    </tr>\n",
       "    <tr>\n",
       "      <th>9</th>\n",
       "      <td>Viktor Hovland</td>\n",
       "      <td>8900</td>\n",
       "    </tr>\n",
       "  </tbody>\n",
       "</table>\n",
       "</div>"
      ],
      "text/plain": [
       "              PLAYER  SALARY\n",
       "0  Scottie Scheffler   13300\n",
       "1  Xander Schauffele   10900\n",
       "2      Justin Thomas   10100\n",
       "3    Collin Morikawa    9900\n",
       "4    Patrick Cantlay    9500\n",
       "5    Tommy Fleetwood    9400\n",
       "6       Ludvig Aberg    9300\n",
       "7      Corey Conners    9100\n",
       "8   Hideki Matsuyama    9000\n",
       "9     Viktor Hovland    8900"
      ]
     },
     "execution_count": 13,
     "metadata": {},
     "output_type": "execute_result"
    }
   ],
   "source": [
    "importlib.reload(utils.db_utils)\n",
    "from utils.db_utils import DK_PLAYER_NAME_MAP\n",
    "\n",
    "# Load DraftKings player list\n",
    "dk = pd.read_csv(\"data/DKSalaries.csv\", usecols=[\"Name\", \"Salary\"])\n",
    "\n",
    "# Normalize DK names to PGA naming convention\n",
    "dk[\"Name\"] = dk[\"Name\"].replace(DK_PLAYER_NAME_MAP)\n",
    "\n",
    "# Rename for consistency\n",
    "dk = dk.rename(columns={\"Name\": \"PLAYER\", \"Salary\": \"SALARY\"})\n",
    "\n",
    "dk.head(10)"
   ]
  },
  {
   "cell_type": "markdown",
   "id": "544d958c",
   "metadata": {},
   "source": [
    "## Vegas Odds\n",
    "Confirm the [Vegas Odds](http://golfodds.com/weekly-odds.html) page is updated with current tournament.\n",
    "\n",
    "Note: sometimes this site can give errors and not load correctly.  Just have to do it again later.\n",
    "Another trick to try is change the url try to run it and then put the url back the way it was.  Worked once, maybe random coincidence."
   ]
  },
  {
   "cell_type": "code",
   "execution_count": 14,
   "id": "a3cba953",
   "metadata": {},
   "outputs": [
    {
     "data": {
      "text/html": [
       "<div>\n",
       "<style scoped>\n",
       "    .dataframe tbody tr th:only-of-type {\n",
       "        vertical-align: middle;\n",
       "    }\n",
       "\n",
       "    .dataframe tbody tr th {\n",
       "        vertical-align: top;\n",
       "    }\n",
       "\n",
       "    .dataframe thead th {\n",
       "        text-align: right;\n",
       "    }\n",
       "</style>\n",
       "<table border=\"1\" class=\"dataframe\">\n",
       "  <thead>\n",
       "    <tr style=\"text-align: right;\">\n",
       "      <th></th>\n",
       "      <th>SEASON</th>\n",
       "      <th>TOURNAMENT</th>\n",
       "      <th>PLAYER</th>\n",
       "      <th>ODDS</th>\n",
       "      <th>VEGAS_ODDS</th>\n",
       "    </tr>\n",
       "  </thead>\n",
       "  <tbody>\n",
       "    <tr>\n",
       "      <th>1</th>\n",
       "      <td>2025</td>\n",
       "      <td>the Memorial Tournament presented by Workday</td>\n",
       "      <td>Scottie Scheffler</td>\n",
       "      <td>11/4</td>\n",
       "      <td>2.75</td>\n",
       "    </tr>\n",
       "    <tr>\n",
       "      <th>2</th>\n",
       "      <td>2025</td>\n",
       "      <td>the Memorial Tournament presented by Workday</td>\n",
       "      <td>Collin Morikawa</td>\n",
       "      <td>16/1</td>\n",
       "      <td>16.00</td>\n",
       "    </tr>\n",
       "    <tr>\n",
       "      <th>3</th>\n",
       "      <td>2025</td>\n",
       "      <td>the Memorial Tournament presented by Workday</td>\n",
       "      <td>Xander Schauffele</td>\n",
       "      <td>18/1</td>\n",
       "      <td>18.00</td>\n",
       "    </tr>\n",
       "    <tr>\n",
       "      <th>4</th>\n",
       "      <td>2025</td>\n",
       "      <td>the Memorial Tournament presented by Workday</td>\n",
       "      <td>Justin Thomas</td>\n",
       "      <td>20/1</td>\n",
       "      <td>20.00</td>\n",
       "    </tr>\n",
       "    <tr>\n",
       "      <th>5</th>\n",
       "      <td>2025</td>\n",
       "      <td>the Memorial Tournament presented by Workday</td>\n",
       "      <td>Patrick Cantlay</td>\n",
       "      <td>20/1</td>\n",
       "      <td>20.00</td>\n",
       "    </tr>\n",
       "    <tr>\n",
       "      <th>6</th>\n",
       "      <td>2025</td>\n",
       "      <td>the Memorial Tournament presented by Workday</td>\n",
       "      <td>Tommy Fleetwood</td>\n",
       "      <td>20/1</td>\n",
       "      <td>20.00</td>\n",
       "    </tr>\n",
       "    <tr>\n",
       "      <th>7</th>\n",
       "      <td>2025</td>\n",
       "      <td>the Memorial Tournament presented by Workday</td>\n",
       "      <td>Ludvig Aberg</td>\n",
       "      <td>25/1</td>\n",
       "      <td>25.00</td>\n",
       "    </tr>\n",
       "    <tr>\n",
       "      <th>8</th>\n",
       "      <td>2025</td>\n",
       "      <td>the Memorial Tournament presented by Workday</td>\n",
       "      <td>Viktor Hovland</td>\n",
       "      <td>30/1</td>\n",
       "      <td>30.00</td>\n",
       "    </tr>\n",
       "    <tr>\n",
       "      <th>9</th>\n",
       "      <td>2025</td>\n",
       "      <td>the Memorial Tournament presented by Workday</td>\n",
       "      <td>Corey Conners</td>\n",
       "      <td>30/1</td>\n",
       "      <td>30.00</td>\n",
       "    </tr>\n",
       "    <tr>\n",
       "      <th>10</th>\n",
       "      <td>2025</td>\n",
       "      <td>the Memorial Tournament presented by Workday</td>\n",
       "      <td>Hideki Matsuyama</td>\n",
       "      <td>35/1</td>\n",
       "      <td>35.00</td>\n",
       "    </tr>\n",
       "  </tbody>\n",
       "</table>\n",
       "</div>"
      ],
      "text/plain": [
       "    SEASON                                    TOURNAMENT             PLAYER  \\\n",
       "1     2025  the Memorial Tournament presented by Workday  Scottie Scheffler   \n",
       "2     2025  the Memorial Tournament presented by Workday    Collin Morikawa   \n",
       "3     2025  the Memorial Tournament presented by Workday  Xander Schauffele   \n",
       "4     2025  the Memorial Tournament presented by Workday      Justin Thomas   \n",
       "5     2025  the Memorial Tournament presented by Workday    Patrick Cantlay   \n",
       "6     2025  the Memorial Tournament presented by Workday    Tommy Fleetwood   \n",
       "7     2025  the Memorial Tournament presented by Workday       Ludvig Aberg   \n",
       "8     2025  the Memorial Tournament presented by Workday     Viktor Hovland   \n",
       "9     2025  the Memorial Tournament presented by Workday      Corey Conners   \n",
       "10    2025  the Memorial Tournament presented by Workday   Hideki Matsuyama   \n",
       "\n",
       "    ODDS  VEGAS_ODDS  \n",
       "1   11/4        2.75  \n",
       "2   16/1       16.00  \n",
       "3   18/1       18.00  \n",
       "4   20/1       20.00  \n",
       "5   20/1       20.00  \n",
       "6   20/1       20.00  \n",
       "7   25/1       25.00  \n",
       "8   30/1       30.00  \n",
       "9   30/1       30.00  \n",
       "10  35/1       35.00  "
      ]
     },
     "execution_count": 14,
     "metadata": {},
     "output_type": "execute_result"
    }
   ],
   "source": [
    "importlib.reload(utils.db_utils)\n",
    "from utils.db_utils import get_current_week_odds\n",
    "\n",
    "odds_current = get_current_week_odds(season=2025, tournament_name=new_tournament_name)\n",
    "odds_current.head(10)\n"
   ]
  },
  {
   "cell_type": "markdown",
   "id": "f58bb5d0",
   "metadata": {},
   "source": [
    "## Cut Percentage and FedEx Points"
   ]
  },
  {
   "cell_type": "code",
   "execution_count": 15,
   "id": "a927b0b2",
   "metadata": {},
   "outputs": [
    {
     "data": {
      "text/html": [
       "<div>\n",
       "<style scoped>\n",
       "    .dataframe tbody tr th:only-of-type {\n",
       "        vertical-align: middle;\n",
       "    }\n",
       "\n",
       "    .dataframe tbody tr th {\n",
       "        vertical-align: top;\n",
       "    }\n",
       "\n",
       "    .dataframe thead th {\n",
       "        text-align: right;\n",
       "    }\n",
       "</style>\n",
       "<table border=\"1\" class=\"dataframe\">\n",
       "  <thead>\n",
       "    <tr style=\"text-align: right;\">\n",
       "      <th></th>\n",
       "      <th>PLAYER</th>\n",
       "      <th>TOTAL_EVENTS_PLAYED</th>\n",
       "      <th>CUTS_MADE</th>\n",
       "      <th>FEDEX_CUP_POINTS</th>\n",
       "      <th>CUT_PERCENTAGE</th>\n",
       "      <th>form_density</th>\n",
       "      <th>CONSECUTIVE_CUTS</th>\n",
       "      <th>ENDING_DATE</th>\n",
       "      <th>TOURNAMENT</th>\n",
       "    </tr>\n",
       "  </thead>\n",
       "  <tbody>\n",
       "    <tr>\n",
       "      <th>0</th>\n",
       "      <td>Aaron Baddeley</td>\n",
       "      <td>15</td>\n",
       "      <td>7</td>\n",
       "      <td>55.951</td>\n",
       "      <td>46.7</td>\n",
       "      <td>3.73</td>\n",
       "      <td>0</td>\n",
       "      <td>2025-06-01</td>\n",
       "      <td>the Memorial Tournament presented by Workday</td>\n",
       "    </tr>\n",
       "    <tr>\n",
       "      <th>1</th>\n",
       "      <td>Aaron Rai</td>\n",
       "      <td>14</td>\n",
       "      <td>11</td>\n",
       "      <td>577.480</td>\n",
       "      <td>78.6</td>\n",
       "      <td>41.25</td>\n",
       "      <td>0</td>\n",
       "      <td>2025-06-01</td>\n",
       "      <td>the Memorial Tournament presented by Workday</td>\n",
       "    </tr>\n",
       "    <tr>\n",
       "      <th>2</th>\n",
       "      <td>Adam Hadwin</td>\n",
       "      <td>15</td>\n",
       "      <td>9</td>\n",
       "      <td>165.263</td>\n",
       "      <td>60.0</td>\n",
       "      <td>11.02</td>\n",
       "      <td>0</td>\n",
       "      <td>2025-06-01</td>\n",
       "      <td>the Memorial Tournament presented by Workday</td>\n",
       "    </tr>\n",
       "    <tr>\n",
       "      <th>3</th>\n",
       "      <td>Adam Long</td>\n",
       "      <td>1</td>\n",
       "      <td>0</td>\n",
       "      <td>0.000</td>\n",
       "      <td>0.0</td>\n",
       "      <td>0.00</td>\n",
       "      <td>0</td>\n",
       "      <td>2025-06-01</td>\n",
       "      <td>the Memorial Tournament presented by Workday</td>\n",
       "    </tr>\n",
       "    <tr>\n",
       "      <th>4</th>\n",
       "      <td>Adam Schenk</td>\n",
       "      <td>18</td>\n",
       "      <td>7</td>\n",
       "      <td>253.954</td>\n",
       "      <td>38.9</td>\n",
       "      <td>14.11</td>\n",
       "      <td>0</td>\n",
       "      <td>2025-06-01</td>\n",
       "      <td>the Memorial Tournament presented by Workday</td>\n",
       "    </tr>\n",
       "    <tr>\n",
       "      <th>5</th>\n",
       "      <td>Adam Scott</td>\n",
       "      <td>10</td>\n",
       "      <td>8</td>\n",
       "      <td>238.096</td>\n",
       "      <td>80.0</td>\n",
       "      <td>23.81</td>\n",
       "      <td>3</td>\n",
       "      <td>2025-06-01</td>\n",
       "      <td>the Memorial Tournament presented by Workday</td>\n",
       "    </tr>\n",
       "    <tr>\n",
       "      <th>6</th>\n",
       "      <td>Adam Svensson</td>\n",
       "      <td>19</td>\n",
       "      <td>11</td>\n",
       "      <td>173.158</td>\n",
       "      <td>57.9</td>\n",
       "      <td>9.11</td>\n",
       "      <td>1</td>\n",
       "      <td>2025-06-01</td>\n",
       "      <td>the Memorial Tournament presented by Workday</td>\n",
       "    </tr>\n",
       "    <tr>\n",
       "      <th>7</th>\n",
       "      <td>Adrien Dumont de Chassart</td>\n",
       "      <td>8</td>\n",
       "      <td>3</td>\n",
       "      <td>200.500</td>\n",
       "      <td>37.5</td>\n",
       "      <td>25.06</td>\n",
       "      <td>0</td>\n",
       "      <td>2025-06-01</td>\n",
       "      <td>the Memorial Tournament presented by Workday</td>\n",
       "    </tr>\n",
       "    <tr>\n",
       "      <th>8</th>\n",
       "      <td>Akshay Bhatia</td>\n",
       "      <td>14</td>\n",
       "      <td>11</td>\n",
       "      <td>731.490</td>\n",
       "      <td>78.6</td>\n",
       "      <td>52.25</td>\n",
       "      <td>1</td>\n",
       "      <td>2025-06-01</td>\n",
       "      <td>the Memorial Tournament presented by Workday</td>\n",
       "    </tr>\n",
       "    <tr>\n",
       "      <th>9</th>\n",
       "      <td>Aldrich Potgieter</td>\n",
       "      <td>11</td>\n",
       "      <td>4</td>\n",
       "      <td>441.000</td>\n",
       "      <td>36.4</td>\n",
       "      <td>40.09</td>\n",
       "      <td>1</td>\n",
       "      <td>2025-06-01</td>\n",
       "      <td>the Memorial Tournament presented by Workday</td>\n",
       "    </tr>\n",
       "  </tbody>\n",
       "</table>\n",
       "</div>"
      ],
      "text/plain": [
       "                      PLAYER  TOTAL_EVENTS_PLAYED  CUTS_MADE  \\\n",
       "0             Aaron Baddeley                   15          7   \n",
       "1                  Aaron Rai                   14         11   \n",
       "2                Adam Hadwin                   15          9   \n",
       "3                  Adam Long                    1          0   \n",
       "4                Adam Schenk                   18          7   \n",
       "5                 Adam Scott                   10          8   \n",
       "6              Adam Svensson                   19         11   \n",
       "7  Adrien Dumont de Chassart                    8          3   \n",
       "8              Akshay Bhatia                   14         11   \n",
       "9          Aldrich Potgieter                   11          4   \n",
       "\n",
       "   FEDEX_CUP_POINTS  CUT_PERCENTAGE  form_density  CONSECUTIVE_CUTS  \\\n",
       "0            55.951            46.7          3.73                 0   \n",
       "1           577.480            78.6         41.25                 0   \n",
       "2           165.263            60.0         11.02                 0   \n",
       "3             0.000             0.0          0.00                 0   \n",
       "4           253.954            38.9         14.11                 0   \n",
       "5           238.096            80.0         23.81                 3   \n",
       "6           173.158            57.9          9.11                 1   \n",
       "7           200.500            37.5         25.06                 0   \n",
       "8           731.490            78.6         52.25                 1   \n",
       "9           441.000            36.4         40.09                 1   \n",
       "\n",
       "  ENDING_DATE                                    TOURNAMENT  \n",
       "0  2025-06-01  the Memorial Tournament presented by Workday  \n",
       "1  2025-06-01  the Memorial Tournament presented by Workday  \n",
       "2  2025-06-01  the Memorial Tournament presented by Workday  \n",
       "3  2025-06-01  the Memorial Tournament presented by Workday  \n",
       "4  2025-06-01  the Memorial Tournament presented by Workday  \n",
       "5  2025-06-01  the Memorial Tournament presented by Workday  \n",
       "6  2025-06-01  the Memorial Tournament presented by Workday  \n",
       "7  2025-06-01  the Memorial Tournament presented by Workday  \n",
       "8  2025-06-01  the Memorial Tournament presented by Workday  \n",
       "9  2025-06-01  the Memorial Tournament presented by Workday  "
      ]
     },
     "execution_count": 15,
     "metadata": {},
     "output_type": "execute_result"
    }
   ],
   "source": [
    "importlib.reload(utils.db_utils)\n",
    "from utils.db_utils import get_cut_and_fedex_history\n",
    "\n",
    "cuts_rolling = get_cut_and_fedex_history(db_path, this_week_history, window_months=9)\n",
    "cuts_current = cuts_rolling[this_week_key].copy()\n",
    "cuts_current.head(10)"
   ]
  },
  {
   "cell_type": "markdown",
   "id": "abdf22cb",
   "metadata": {},
   "source": [
    "## Recent Form"
   ]
  },
  {
   "cell_type": "code",
   "execution_count": 16,
   "id": "58cfb255",
   "metadata": {},
   "outputs": [
    {
     "data": {
      "text/html": [
       "<div>\n",
       "<style scoped>\n",
       "    .dataframe tbody tr th:only-of-type {\n",
       "        vertical-align: middle;\n",
       "    }\n",
       "\n",
       "    .dataframe tbody tr th {\n",
       "        vertical-align: top;\n",
       "    }\n",
       "\n",
       "    .dataframe thead th {\n",
       "        text-align: right;\n",
       "    }\n",
       "</style>\n",
       "<table border=\"1\" class=\"dataframe\">\n",
       "  <thead>\n",
       "    <tr style=\"text-align: right;\">\n",
       "      <th></th>\n",
       "      <th>PLAYER</th>\n",
       "      <th>TOTAL_EVENTS_PLAYED</th>\n",
       "      <th>RECENT_FORM</th>\n",
       "      <th>adj_form</th>\n",
       "      <th>ENDING_DATE</th>\n",
       "      <th>TOURNAMENT</th>\n",
       "    </tr>\n",
       "  </thead>\n",
       "  <tbody>\n",
       "    <tr>\n",
       "      <th>0</th>\n",
       "      <td>Bryson DeChambeau</td>\n",
       "      <td>2</td>\n",
       "      <td>3.5</td>\n",
       "      <td>3.19</td>\n",
       "      <td>2025-06-01</td>\n",
       "      <td>the Memorial Tournament presented by Workday</td>\n",
       "    </tr>\n",
       "    <tr>\n",
       "      <th>1</th>\n",
       "      <td>Scottie Scheffler</td>\n",
       "      <td>12</td>\n",
       "      <td>7.4</td>\n",
       "      <td>2.89</td>\n",
       "      <td>2025-06-01</td>\n",
       "      <td>the Memorial Tournament presented by Workday</td>\n",
       "    </tr>\n",
       "    <tr>\n",
       "      <th>2</th>\n",
       "      <td>Jon Rahm</td>\n",
       "      <td>2</td>\n",
       "      <td>11.0</td>\n",
       "      <td>10.01</td>\n",
       "      <td>2025-06-01</td>\n",
       "      <td>the Memorial Tournament presented by Workday</td>\n",
       "    </tr>\n",
       "    <tr>\n",
       "      <th>3</th>\n",
       "      <td>Rory McIlroy</td>\n",
       "      <td>8</td>\n",
       "      <td>11.8</td>\n",
       "      <td>5.37</td>\n",
       "      <td>2025-06-01</td>\n",
       "      <td>the Memorial Tournament presented by Workday</td>\n",
       "    </tr>\n",
       "    <tr>\n",
       "      <th>4</th>\n",
       "      <td>John Keefer</td>\n",
       "      <td>1</td>\n",
       "      <td>13.0</td>\n",
       "      <td>18.76</td>\n",
       "      <td>2025-06-01</td>\n",
       "      <td>the Memorial Tournament presented by Workday</td>\n",
       "    </tr>\n",
       "    <tr>\n",
       "      <th>5</th>\n",
       "      <td>Bubba Watson</td>\n",
       "      <td>1</td>\n",
       "      <td>14.0</td>\n",
       "      <td>20.20</td>\n",
       "      <td>2025-06-01</td>\n",
       "      <td>the Memorial Tournament presented by Workday</td>\n",
       "    </tr>\n",
       "    <tr>\n",
       "      <th>6</th>\n",
       "      <td>Taisei Shimizu</td>\n",
       "      <td>1</td>\n",
       "      <td>16.0</td>\n",
       "      <td>23.08</td>\n",
       "      <td>2025-06-01</td>\n",
       "      <td>the Memorial Tournament presented by Workday</td>\n",
       "    </tr>\n",
       "    <tr>\n",
       "      <th>7</th>\n",
       "      <td>Ian Gilligan</td>\n",
       "      <td>1</td>\n",
       "      <td>16.0</td>\n",
       "      <td>23.08</td>\n",
       "      <td>2025-06-01</td>\n",
       "      <td>the Memorial Tournament presented by Workday</td>\n",
       "    </tr>\n",
       "    <tr>\n",
       "      <th>8</th>\n",
       "      <td>Joaquin Niemann</td>\n",
       "      <td>2</td>\n",
       "      <td>18.5</td>\n",
       "      <td>16.84</td>\n",
       "      <td>2025-06-01</td>\n",
       "      <td>the Memorial Tournament presented by Workday</td>\n",
       "    </tr>\n",
       "    <tr>\n",
       "      <th>9</th>\n",
       "      <td>Tommy Fleetwood</td>\n",
       "      <td>11</td>\n",
       "      <td>18.8</td>\n",
       "      <td>7.57</td>\n",
       "      <td>2025-06-01</td>\n",
       "      <td>the Memorial Tournament presented by Workday</td>\n",
       "    </tr>\n",
       "  </tbody>\n",
       "</table>\n",
       "</div>"
      ],
      "text/plain": [
       "              PLAYER  TOTAL_EVENTS_PLAYED  RECENT_FORM  adj_form ENDING_DATE  \\\n",
       "0  Bryson DeChambeau                    2          3.5      3.19  2025-06-01   \n",
       "1  Scottie Scheffler                   12          7.4      2.89  2025-06-01   \n",
       "2           Jon Rahm                    2         11.0     10.01  2025-06-01   \n",
       "3       Rory McIlroy                    8         11.8      5.37  2025-06-01   \n",
       "4        John Keefer                    1         13.0     18.76  2025-06-01   \n",
       "5       Bubba Watson                    1         14.0     20.20  2025-06-01   \n",
       "6     Taisei Shimizu                    1         16.0     23.08  2025-06-01   \n",
       "7       Ian Gilligan                    1         16.0     23.08  2025-06-01   \n",
       "8    Joaquin Niemann                    2         18.5     16.84  2025-06-01   \n",
       "9    Tommy Fleetwood                   11         18.8      7.57  2025-06-01   \n",
       "\n",
       "                                     TOURNAMENT  \n",
       "0  the Memorial Tournament presented by Workday  \n",
       "1  the Memorial Tournament presented by Workday  \n",
       "2  the Memorial Tournament presented by Workday  \n",
       "3  the Memorial Tournament presented by Workday  \n",
       "4  the Memorial Tournament presented by Workday  \n",
       "5  the Memorial Tournament presented by Workday  \n",
       "6  the Memorial Tournament presented by Workday  \n",
       "7  the Memorial Tournament presented by Workday  \n",
       "8  the Memorial Tournament presented by Workday  \n",
       "9  the Memorial Tournament presented by Workday  "
      ]
     },
     "execution_count": 16,
     "metadata": {},
     "output_type": "execute_result"
    }
   ],
   "source": [
    "importlib.reload(utils.db_utils)\n",
    "from utils.db_utils import get_recent_avg_finish\n",
    "\n",
    "recent_form = get_recent_avg_finish(db_path, this_week_history, window_months=9)\n",
    "recent_form_current = recent_form[this_week_key].copy()\n",
    "\n",
    "recent_form_current.head(10)"
   ]
  },
  {
   "cell_type": "markdown",
   "id": "6386214b",
   "metadata": {},
   "source": [
    "## Course History"
   ]
  },
  {
   "cell_type": "code",
   "execution_count": 17,
   "id": "c1c0ec95",
   "metadata": {},
   "outputs": [
    {
     "data": {
      "text/html": [
       "<div>\n",
       "<style scoped>\n",
       "    .dataframe tbody tr th:only-of-type {\n",
       "        vertical-align: middle;\n",
       "    }\n",
       "\n",
       "    .dataframe tbody tr th {\n",
       "        vertical-align: top;\n",
       "    }\n",
       "\n",
       "    .dataframe thead th {\n",
       "        text-align: right;\n",
       "    }\n",
       "</style>\n",
       "<table border=\"1\" class=\"dataframe\">\n",
       "  <thead>\n",
       "    <tr style=\"text-align: right;\">\n",
       "      <th></th>\n",
       "      <th>PLAYER</th>\n",
       "      <th>TOTAL_EVENTS_PLAYED</th>\n",
       "      <th>COURSE_HISTORY</th>\n",
       "      <th>adj_ch</th>\n",
       "      <th>ENDING_DATE</th>\n",
       "      <th>COURSE</th>\n",
       "      <th>TOURNAMENT</th>\n",
       "    </tr>\n",
       "  </thead>\n",
       "  <tbody>\n",
       "    <tr>\n",
       "      <th>0</th>\n",
       "      <td>Aaron Baddeley</td>\n",
       "      <td>1</td>\n",
       "      <td>22.0</td>\n",
       "      <td>31.74</td>\n",
       "      <td>2025-06-01</td>\n",
       "      <td>Muirfield Village Golf Club</td>\n",
       "      <td>the Memorial Tournament presented by Workday</td>\n",
       "    </tr>\n",
       "    <tr>\n",
       "      <th>1</th>\n",
       "      <td>Aaron Rai</td>\n",
       "      <td>2</td>\n",
       "      <td>58.0</td>\n",
       "      <td>52.79</td>\n",
       "      <td>2025-06-01</td>\n",
       "      <td>Muirfield Village Golf Club</td>\n",
       "      <td>the Memorial Tournament presented by Workday</td>\n",
       "    </tr>\n",
       "    <tr>\n",
       "      <th>2</th>\n",
       "      <td>Aaron Wise</td>\n",
       "      <td>4</td>\n",
       "      <td>47.8</td>\n",
       "      <td>29.70</td>\n",
       "      <td>2025-06-01</td>\n",
       "      <td>Muirfield Village Golf Club</td>\n",
       "      <td>the Memorial Tournament presented by Workday</td>\n",
       "    </tr>\n",
       "    <tr>\n",
       "      <th>3</th>\n",
       "      <td>Abraham Ancer</td>\n",
       "      <td>4</td>\n",
       "      <td>53.0</td>\n",
       "      <td>32.93</td>\n",
       "      <td>2025-06-01</td>\n",
       "      <td>Muirfield Village Golf Club</td>\n",
       "      <td>the Memorial Tournament presented by Workday</td>\n",
       "    </tr>\n",
       "    <tr>\n",
       "      <th>4</th>\n",
       "      <td>Adam Hadwin</td>\n",
       "      <td>7</td>\n",
       "      <td>54.4</td>\n",
       "      <td>26.16</td>\n",
       "      <td>2025-06-01</td>\n",
       "      <td>Muirfield Village Golf Club</td>\n",
       "      <td>the Memorial Tournament presented by Workday</td>\n",
       "    </tr>\n",
       "    <tr>\n",
       "      <th>5</th>\n",
       "      <td>Adam Long</td>\n",
       "      <td>5</td>\n",
       "      <td>77.2</td>\n",
       "      <td>43.09</td>\n",
       "      <td>2025-06-01</td>\n",
       "      <td>Muirfield Village Golf Club</td>\n",
       "      <td>the Memorial Tournament presented by Workday</td>\n",
       "    </tr>\n",
       "    <tr>\n",
       "      <th>6</th>\n",
       "      <td>Adam Schenk</td>\n",
       "      <td>4</td>\n",
       "      <td>47.0</td>\n",
       "      <td>29.20</td>\n",
       "      <td>2025-06-01</td>\n",
       "      <td>Muirfield Village Golf Club</td>\n",
       "      <td>the Memorial Tournament presented by Workday</td>\n",
       "    </tr>\n",
       "    <tr>\n",
       "      <th>7</th>\n",
       "      <td>Adam Scott</td>\n",
       "      <td>5</td>\n",
       "      <td>25.8</td>\n",
       "      <td>14.40</td>\n",
       "      <td>2025-06-01</td>\n",
       "      <td>Muirfield Village Golf Club</td>\n",
       "      <td>the Memorial Tournament presented by Workday</td>\n",
       "    </tr>\n",
       "    <tr>\n",
       "      <th>8</th>\n",
       "      <td>Adam Svensson</td>\n",
       "      <td>3</td>\n",
       "      <td>54.0</td>\n",
       "      <td>38.95</td>\n",
       "      <td>2025-06-01</td>\n",
       "      <td>Muirfield Village Golf Club</td>\n",
       "      <td>the Memorial Tournament presented by Workday</td>\n",
       "    </tr>\n",
       "    <tr>\n",
       "      <th>9</th>\n",
       "      <td>Akshay Bhatia</td>\n",
       "      <td>2</td>\n",
       "      <td>56.0</td>\n",
       "      <td>50.97</td>\n",
       "      <td>2025-06-01</td>\n",
       "      <td>Muirfield Village Golf Club</td>\n",
       "      <td>the Memorial Tournament presented by Workday</td>\n",
       "    </tr>\n",
       "  </tbody>\n",
       "</table>\n",
       "</div>"
      ],
      "text/plain": [
       "           PLAYER  TOTAL_EVENTS_PLAYED  COURSE_HISTORY  adj_ch ENDING_DATE  \\\n",
       "0  Aaron Baddeley                    1            22.0   31.74  2025-06-01   \n",
       "1       Aaron Rai                    2            58.0   52.79  2025-06-01   \n",
       "2      Aaron Wise                    4            47.8   29.70  2025-06-01   \n",
       "3   Abraham Ancer                    4            53.0   32.93  2025-06-01   \n",
       "4     Adam Hadwin                    7            54.4   26.16  2025-06-01   \n",
       "5       Adam Long                    5            77.2   43.09  2025-06-01   \n",
       "6     Adam Schenk                    4            47.0   29.20  2025-06-01   \n",
       "7      Adam Scott                    5            25.8   14.40  2025-06-01   \n",
       "8   Adam Svensson                    3            54.0   38.95  2025-06-01   \n",
       "9   Akshay Bhatia                    2            56.0   50.97  2025-06-01   \n",
       "\n",
       "                        COURSE                                    TOURNAMENT  \n",
       "0  Muirfield Village Golf Club  the Memorial Tournament presented by Workday  \n",
       "1  Muirfield Village Golf Club  the Memorial Tournament presented by Workday  \n",
       "2  Muirfield Village Golf Club  the Memorial Tournament presented by Workday  \n",
       "3  Muirfield Village Golf Club  the Memorial Tournament presented by Workday  \n",
       "4  Muirfield Village Golf Club  the Memorial Tournament presented by Workday  \n",
       "5  Muirfield Village Golf Club  the Memorial Tournament presented by Workday  \n",
       "6  Muirfield Village Golf Club  the Memorial Tournament presented by Workday  \n",
       "7  Muirfield Village Golf Club  the Memorial Tournament presented by Workday  \n",
       "8  Muirfield Village Golf Club  the Memorial Tournament presented by Workday  \n",
       "9  Muirfield Village Golf Club  the Memorial Tournament presented by Workday  "
      ]
     },
     "execution_count": 17,
     "metadata": {},
     "output_type": "execute_result"
    }
   ],
   "source": [
    "importlib.reload(utils.db_utils)\n",
    "from utils.db_utils import get_course_history\n",
    "\n",
    "course_hist = get_course_history(db_path, this_week_history, lookback_years=7)\n",
    "course_hist_current = course_hist[this_week_key].copy()\n",
    "\n",
    "course_hist_current.head(10)\n"
   ]
  },
  {
   "cell_type": "markdown",
   "id": "cff50c6a",
   "metadata": {},
   "source": [
    "## Merged Dataframe"
   ]
  },
  {
   "cell_type": "code",
   "execution_count": 18,
   "id": "2ca1130d",
   "metadata": {},
   "outputs": [
    {
     "data": {
      "text/html": [
       "<div>\n",
       "<style scoped>\n",
       "    .dataframe tbody tr th:only-of-type {\n",
       "        vertical-align: middle;\n",
       "    }\n",
       "\n",
       "    .dataframe tbody tr th {\n",
       "        vertical-align: top;\n",
       "    }\n",
       "\n",
       "    .dataframe thead th {\n",
       "        text-align: right;\n",
       "    }\n",
       "</style>\n",
       "<table border=\"1\" class=\"dataframe\">\n",
       "  <thead>\n",
       "    <tr style=\"text-align: right;\">\n",
       "      <th></th>\n",
       "      <th>SEASON</th>\n",
       "      <th>PLAYER</th>\n",
       "      <th>SGTTG_RANK</th>\n",
       "      <th>SGTTG</th>\n",
       "      <th>SGOTT_RANK</th>\n",
       "      <th>SGOTT</th>\n",
       "      <th>SGAPR_RANK</th>\n",
       "      <th>SGAPR</th>\n",
       "      <th>SGATG_RANK</th>\n",
       "      <th>SGATG</th>\n",
       "      <th>SGP_RANK</th>\n",
       "      <th>SGP</th>\n",
       "      <th>BIRDIES_RANK</th>\n",
       "      <th>BIRDIES</th>\n",
       "      <th>PAR_3_RANK</th>\n",
       "      <th>PAR_3</th>\n",
       "      <th>PAR_4_RANK</th>\n",
       "      <th>PAR_4</th>\n",
       "      <th>PAR_5_RANK</th>\n",
       "      <th>PAR_5</th>\n",
       "      <th>TOTAL_DRIVING_RANK</th>\n",
       "      <th>TOTAL_DRIVING</th>\n",
       "      <th>DRIVING_DISTANCE_RANK</th>\n",
       "      <th>DRIVING_DISTANCE</th>\n",
       "      <th>DRIVING_ACCURACY_RANK</th>\n",
       "      <th>DRIVING_ACCURACY</th>\n",
       "      <th>GIR_RANK</th>\n",
       "      <th>GIR</th>\n",
       "      <th>SCRAMBLING_RANK</th>\n",
       "      <th>SCRAMBLING</th>\n",
       "      <th>OWGR_RANK</th>\n",
       "      <th>OWGR</th>\n",
       "      <th>VEGAS_ODDS</th>\n",
       "      <th>CUT_PERCENTAGE</th>\n",
       "      <th>FEDEX_CUP_POINTS</th>\n",
       "      <th>form_density</th>\n",
       "      <th>CONSECUTIVE_CUTS</th>\n",
       "      <th>RECENT_FORM</th>\n",
       "      <th>adj_form</th>\n",
       "      <th>COURSE_HISTORY</th>\n",
       "      <th>adj_ch</th>\n",
       "      <th>SALARY</th>\n",
       "    </tr>\n",
       "  </thead>\n",
       "  <tbody>\n",
       "    <tr>\n",
       "      <th>0</th>\n",
       "      <td>2025.0</td>\n",
       "      <td>Aaron Rai</td>\n",
       "      <td>19.0</td>\n",
       "      <td>0.867</td>\n",
       "      <td>26.0</td>\n",
       "      <td>0.355</td>\n",
       "      <td>19.0</td>\n",
       "      <td>0.523</td>\n",
       "      <td>104.0</td>\n",
       "      <td>-0.011</td>\n",
       "      <td>119.0</td>\n",
       "      <td>-0.094</td>\n",
       "      <td>38.0</td>\n",
       "      <td>23.31%</td>\n",
       "      <td>176.0</td>\n",
       "      <td>3.17</td>\n",
       "      <td>5.0</td>\n",
       "      <td>3.95</td>\n",
       "      <td>29.0</td>\n",
       "      <td>4.54</td>\n",
       "      <td>79.0</td>\n",
       "      <td>171.0</td>\n",
       "      <td>170.0</td>\n",
       "      <td>287.3</td>\n",
       "      <td>1.0</td>\n",
       "      <td>73.36%</td>\n",
       "      <td>7.0</td>\n",
       "      <td>70.05%</td>\n",
       "      <td>129.0</td>\n",
       "      <td>58.87%</td>\n",
       "      <td>30.0</td>\n",
       "      <td>2.7271</td>\n",
       "      <td>50.0</td>\n",
       "      <td>78.6</td>\n",
       "      <td>577.480</td>\n",
       "      <td>41.25</td>\n",
       "      <td>0.0</td>\n",
       "      <td>36.6</td>\n",
       "      <td>13.52</td>\n",
       "      <td>58.0</td>\n",
       "      <td>52.79</td>\n",
       "      <td>7600</td>\n",
       "    </tr>\n",
       "    <tr>\n",
       "      <th>1</th>\n",
       "      <td>2025.0</td>\n",
       "      <td>Adam Hadwin</td>\n",
       "      <td>152.0</td>\n",
       "      <td>-0.564</td>\n",
       "      <td>144.0</td>\n",
       "      <td>-0.243</td>\n",
       "      <td>157.0</td>\n",
       "      <td>-0.480</td>\n",
       "      <td>51.0</td>\n",
       "      <td>0.159</td>\n",
       "      <td>114.0</td>\n",
       "      <td>-0.071</td>\n",
       "      <td>61.0</td>\n",
       "      <td>22.61%</td>\n",
       "      <td>30.0</td>\n",
       "      <td>3.02</td>\n",
       "      <td>126.0</td>\n",
       "      <td>4.05</td>\n",
       "      <td>139.0</td>\n",
       "      <td>4.65</td>\n",
       "      <td>117.0</td>\n",
       "      <td>196.0</td>\n",
       "      <td>105.0</td>\n",
       "      <td>299.1</td>\n",
       "      <td>91.0</td>\n",
       "      <td>59.00%</td>\n",
       "      <td>157.0</td>\n",
       "      <td>62.53%</td>\n",
       "      <td>164.0</td>\n",
       "      <td>55.17%</td>\n",
       "      <td>101.0</td>\n",
       "      <td>1.2731</td>\n",
       "      <td>300.0</td>\n",
       "      <td>60.0</td>\n",
       "      <td>165.263</td>\n",
       "      <td>11.02</td>\n",
       "      <td>0.0</td>\n",
       "      <td>64.0</td>\n",
       "      <td>23.08</td>\n",
       "      <td>54.4</td>\n",
       "      <td>26.16</td>\n",
       "      <td>6200</td>\n",
       "    </tr>\n",
       "    <tr>\n",
       "      <th>2</th>\n",
       "      <td>2025.0</td>\n",
       "      <td>Adam Scott</td>\n",
       "      <td>73.0</td>\n",
       "      <td>0.176</td>\n",
       "      <td>65.0</td>\n",
       "      <td>0.180</td>\n",
       "      <td>125.0</td>\n",
       "      <td>-0.148</td>\n",
       "      <td>56.0</td>\n",
       "      <td>0.144</td>\n",
       "      <td>90.0</td>\n",
       "      <td>0.051</td>\n",
       "      <td>67.0</td>\n",
       "      <td>22.53%</td>\n",
       "      <td>135.0</td>\n",
       "      <td>3.10</td>\n",
       "      <td>115.0</td>\n",
       "      <td>4.04</td>\n",
       "      <td>36.0</td>\n",
       "      <td>4.55</td>\n",
       "      <td>119.0</td>\n",
       "      <td>199.0</td>\n",
       "      <td>79.0</td>\n",
       "      <td>302.7</td>\n",
       "      <td>120.0</td>\n",
       "      <td>56.55%</td>\n",
       "      <td>112.0</td>\n",
       "      <td>64.51%</td>\n",
       "      <td>116.0</td>\n",
       "      <td>59.57%</td>\n",
       "      <td>41.0</td>\n",
       "      <td>2.3779</td>\n",
       "      <td>80.0</td>\n",
       "      <td>80.0</td>\n",
       "      <td>238.096</td>\n",
       "      <td>23.81</td>\n",
       "      <td>3.0</td>\n",
       "      <td>44.9</td>\n",
       "      <td>18.72</td>\n",
       "      <td>25.8</td>\n",
       "      <td>14.40</td>\n",
       "      <td>7200</td>\n",
       "    </tr>\n",
       "    <tr>\n",
       "      <th>3</th>\n",
       "      <td>2025.0</td>\n",
       "      <td>Akshay Bhatia</td>\n",
       "      <td>85.0</td>\n",
       "      <td>0.081</td>\n",
       "      <td>107.0</td>\n",
       "      <td>-0.015</td>\n",
       "      <td>35.0</td>\n",
       "      <td>0.387</td>\n",
       "      <td>154.0</td>\n",
       "      <td>-0.291</td>\n",
       "      <td>9.0</td>\n",
       "      <td>0.611</td>\n",
       "      <td>6.0</td>\n",
       "      <td>25.36%</td>\n",
       "      <td>7.0</td>\n",
       "      <td>2.97</td>\n",
       "      <td>32.0</td>\n",
       "      <td>3.99</td>\n",
       "      <td>162.0</td>\n",
       "      <td>4.69</td>\n",
       "      <td>141.0</td>\n",
       "      <td>218.0</td>\n",
       "      <td>157.0</td>\n",
       "      <td>293.3</td>\n",
       "      <td>61.0</td>\n",
       "      <td>60.87%</td>\n",
       "      <td>46.0</td>\n",
       "      <td>67.15%</td>\n",
       "      <td>158.0</td>\n",
       "      <td>56.25%</td>\n",
       "      <td>31.0</td>\n",
       "      <td>2.7051</td>\n",
       "      <td>80.0</td>\n",
       "      <td>78.6</td>\n",
       "      <td>731.490</td>\n",
       "      <td>52.25</td>\n",
       "      <td>1.0</td>\n",
       "      <td>38.1</td>\n",
       "      <td>14.07</td>\n",
       "      <td>56.0</td>\n",
       "      <td>50.97</td>\n",
       "      <td>7300</td>\n",
       "    </tr>\n",
       "    <tr>\n",
       "      <th>4</th>\n",
       "      <td>2025.0</td>\n",
       "      <td>Alex Noren</td>\n",
       "      <td>NaN</td>\n",
       "      <td>NaN</td>\n",
       "      <td>NaN</td>\n",
       "      <td>NaN</td>\n",
       "      <td>NaN</td>\n",
       "      <td>NaN</td>\n",
       "      <td>NaN</td>\n",
       "      <td>NaN</td>\n",
       "      <td>NaN</td>\n",
       "      <td>NaN</td>\n",
       "      <td>NaN</td>\n",
       "      <td>None</td>\n",
       "      <td>NaN</td>\n",
       "      <td>NaN</td>\n",
       "      <td>NaN</td>\n",
       "      <td>NaN</td>\n",
       "      <td>NaN</td>\n",
       "      <td>NaN</td>\n",
       "      <td>NaN</td>\n",
       "      <td>NaN</td>\n",
       "      <td>NaN</td>\n",
       "      <td>NaN</td>\n",
       "      <td>NaN</td>\n",
       "      <td>None</td>\n",
       "      <td>NaN</td>\n",
       "      <td>None</td>\n",
       "      <td>NaN</td>\n",
       "      <td>None</td>\n",
       "      <td>72.0</td>\n",
       "      <td>1.7302</td>\n",
       "      <td>70.0</td>\n",
       "      <td>100.0</td>\n",
       "      <td>84.500</td>\n",
       "      <td>42.25</td>\n",
       "      <td>2.0</td>\n",
       "      <td>34.0</td>\n",
       "      <td>30.95</td>\n",
       "      <td>51.3</td>\n",
       "      <td>26.36</td>\n",
       "      <td>7400</td>\n",
       "    </tr>\n",
       "  </tbody>\n",
       "</table>\n",
       "</div>"
      ],
      "text/plain": [
       "   SEASON         PLAYER  SGTTG_RANK  SGTTG  SGOTT_RANK  SGOTT  SGAPR_RANK  \\\n",
       "0  2025.0      Aaron Rai        19.0  0.867        26.0  0.355        19.0   \n",
       "1  2025.0    Adam Hadwin       152.0 -0.564       144.0 -0.243       157.0   \n",
       "2  2025.0     Adam Scott        73.0  0.176        65.0  0.180       125.0   \n",
       "3  2025.0  Akshay Bhatia        85.0  0.081       107.0 -0.015        35.0   \n",
       "4  2025.0     Alex Noren         NaN    NaN         NaN    NaN         NaN   \n",
       "\n",
       "   SGAPR  SGATG_RANK  SGATG  SGP_RANK    SGP  BIRDIES_RANK BIRDIES  \\\n",
       "0  0.523       104.0 -0.011     119.0 -0.094          38.0  23.31%   \n",
       "1 -0.480        51.0  0.159     114.0 -0.071          61.0  22.61%   \n",
       "2 -0.148        56.0  0.144      90.0  0.051          67.0  22.53%   \n",
       "3  0.387       154.0 -0.291       9.0  0.611           6.0  25.36%   \n",
       "4    NaN         NaN    NaN       NaN    NaN           NaN    None   \n",
       "\n",
       "   PAR_3_RANK  PAR_3  PAR_4_RANK  PAR_4  PAR_5_RANK  PAR_5  \\\n",
       "0       176.0   3.17         5.0   3.95        29.0   4.54   \n",
       "1        30.0   3.02       126.0   4.05       139.0   4.65   \n",
       "2       135.0   3.10       115.0   4.04        36.0   4.55   \n",
       "3         7.0   2.97        32.0   3.99       162.0   4.69   \n",
       "4         NaN    NaN         NaN    NaN         NaN    NaN   \n",
       "\n",
       "   TOTAL_DRIVING_RANK  TOTAL_DRIVING  DRIVING_DISTANCE_RANK  DRIVING_DISTANCE  \\\n",
       "0                79.0          171.0                  170.0             287.3   \n",
       "1               117.0          196.0                  105.0             299.1   \n",
       "2               119.0          199.0                   79.0             302.7   \n",
       "3               141.0          218.0                  157.0             293.3   \n",
       "4                 NaN            NaN                    NaN               NaN   \n",
       "\n",
       "   DRIVING_ACCURACY_RANK DRIVING_ACCURACY  GIR_RANK     GIR  SCRAMBLING_RANK  \\\n",
       "0                    1.0           73.36%       7.0  70.05%            129.0   \n",
       "1                   91.0           59.00%     157.0  62.53%            164.0   \n",
       "2                  120.0           56.55%     112.0  64.51%            116.0   \n",
       "3                   61.0           60.87%      46.0  67.15%            158.0   \n",
       "4                    NaN             None       NaN    None              NaN   \n",
       "\n",
       "  SCRAMBLING  OWGR_RANK    OWGR  VEGAS_ODDS  CUT_PERCENTAGE  FEDEX_CUP_POINTS  \\\n",
       "0     58.87%       30.0  2.7271        50.0            78.6           577.480   \n",
       "1     55.17%      101.0  1.2731       300.0            60.0           165.263   \n",
       "2     59.57%       41.0  2.3779        80.0            80.0           238.096   \n",
       "3     56.25%       31.0  2.7051        80.0            78.6           731.490   \n",
       "4       None       72.0  1.7302        70.0           100.0            84.500   \n",
       "\n",
       "   form_density  CONSECUTIVE_CUTS  RECENT_FORM  adj_form  COURSE_HISTORY  \\\n",
       "0         41.25               0.0         36.6     13.52            58.0   \n",
       "1         11.02               0.0         64.0     23.08            54.4   \n",
       "2         23.81               3.0         44.9     18.72            25.8   \n",
       "3         52.25               1.0         38.1     14.07            56.0   \n",
       "4         42.25               2.0         34.0     30.95            51.3   \n",
       "\n",
       "   adj_ch  SALARY  \n",
       "0   52.79    7600  \n",
       "1   26.16    6200  \n",
       "2   14.40    7200  \n",
       "3   50.97    7300  \n",
       "4   26.36    7400  "
      ]
     },
     "execution_count": 18,
     "metadata": {},
     "output_type": "execute_result"
    }
   ],
   "source": [
    "importlib.reload(utils.db_utils)\n",
    "from utils.db_utils import load_all_stats  # New helper function\n",
    "\n",
    "# === Load current season stats directly from database ===\n",
    "season = tournament_config[\"new\"][\"season\"]\n",
    "stats_df = load_all_stats(db_path)\n",
    "stats_df = stats_df[stats_df[\"SEASON\"] == season].copy()\n",
    "\n",
    "# === Standardize PLAYER columns for consistent merges ===\n",
    "for df in [stats_df, odds_current, cuts_current, recent_form_current, course_hist_current, dk]:\n",
    "    df[\"PLAYER\"] = df[\"PLAYER\"].astype(str).str.strip()\n",
    "\n",
    "# === Merge all engineered and DK features ===\n",
    "this_week = stats_df.copy()\n",
    "this_week = this_week.merge(odds_current[[\"PLAYER\", \"VEGAS_ODDS\"]], on=\"PLAYER\", how=\"left\")\n",
    "this_week = this_week.merge(cuts_current[[\"PLAYER\", \"CUT_PERCENTAGE\", \"FEDEX_CUP_POINTS\", \"form_density\", \"CONSECUTIVE_CUTS\"]], on=\"PLAYER\", how=\"left\")\n",
    "this_week = this_week.merge(recent_form_current[[\"PLAYER\", \"RECENT_FORM\", \"adj_form\"]], on=\"PLAYER\", how=\"left\")\n",
    "this_week = this_week.merge(course_hist_current[[\"PLAYER\", \"COURSE_HISTORY\", \"adj_ch\"]], on=\"PLAYER\", how=\"left\")\n",
    "this_week = this_week.merge(dk[[\"PLAYER\", \"SALARY\"]], on=\"PLAYER\", how=\"right\")  # keep only DK players\n",
    "\n",
    "# === Final cleanup ===\n",
    "this_week = this_week.sort_values(\"PLAYER\").reset_index(drop=True)\n",
    "this_week[\"SEASON\"] = this_week[\"SEASON\"].astype(float)  # allows averaging if needed\n",
    "\n",
    "this_week.head()"
   ]
  },
  {
   "cell_type": "markdown",
   "id": "e30b6643",
   "metadata": {},
   "source": [
    "### Dataframe Normalization\n",
    "\n",
    "Run the same normalization techniques that I ran on the historical data:\n",
    "- Any NaN Odds go to 1000/1 and clip all values at 1000/1\n",
    "- OWGR NaN values go to 1000\n",
    "- Recent form NaN values act like a MC at 90\n",
    "- Average everything else."
   ]
  },
  {
   "cell_type": "code",
   "execution_count": 19,
   "id": "cfea9168",
   "metadata": {},
   "outputs": [],
   "source": [
    "# === Clean percentage stats stored as strings like '62.5%' ===\n",
    "percent_stats = [\"SCRAMBLING\", \"DRIVING_ACCURACY\", \"BIRDIES\", \"GIR\"]\n",
    "\n",
    "for col in percent_stats:\n",
    "    if col in this_week.columns:\n",
    "        this_week[col] = (\n",
    "            this_week[col]\n",
    "            .astype(str)\n",
    "            .str.replace('%', '', regex=False)\n",
    "            .replace(['None', 'nan', 'NaN', '--', 'DNP', ''], np.nan)\n",
    "            .astype(float)\n",
    "        )\n",
    "\n",
    "# === Normalize & Assign Odds for Poor or Unknown Players ===\n",
    "this_week[\"VEGAS_ODDS\"] = this_week[\"VEGAS_ODDS\"].fillna(1000).clip(upper=1000)\n",
    "\n",
    "# === Normalize & Assign OWGR & OWGR_RANK for Unranked Players ===\n",
    "# OWGR (raw) — assign worst actual rank in dataset\n",
    "if \"OWGR\" in this_week.columns:\n",
    "    max_owgr = this_week[\"OWGR\"].dropna().max()\n",
    "    this_week[\"OWGR\"] = this_week[\"OWGR\"].fillna(max_owgr).astype(float).clip(upper=1000)\n",
    "\n",
    "# OWGR_RANK — if present, use 1000 for missing (very poor)\n",
    "if \"OWGR_RANK\" in this_week.columns:\n",
    "    this_week[\"OWGR_RANK\"] = this_week[\"OWGR_RANK\"].fillna(1000).clip(upper=1000)\n",
    "\n",
    "# === Assign RECENT FORM Score for Players Who Haven’t Played Recently ===\n",
    "this_week[\"RECENT_FORM\"] = this_week[\"RECENT_FORM\"].fillna(90)\n",
    "\n",
    "# === Assign 0 to FEDEX_CUP_POINTS Where No Data ===\n",
    "this_week[\"FEDEX_CUP_POINTS\"] = this_week[\"FEDEX_CUP_POINTS\"].fillna(0)\n",
    "\n",
    "# === Course History NaNs: Fill with Mean (not 0 — 0 implies bad, not missing) ===\n",
    "if \"COURSE_HISTORY\" in this_week.columns:\n",
    "    this_week[\"COURSE_HISTORY\"] = this_week[\"COURSE_HISTORY\"].fillna(this_week[\"COURSE_HISTORY\"].mean())\n",
    "\n",
    "# === Fill Remaining NaNs in Numeric Columns with Column Mean ===\n",
    "numeric_cols = this_week.select_dtypes(include=[\"float64\", \"int64\"])\n",
    "numeric_filled = numeric_cols.fillna(numeric_columns.mean())\n",
    "this_week.update(numeric_filled)\n",
    "\n"
   ]
  },
  {
   "cell_type": "code",
   "execution_count": 20,
   "id": "4b122fc3",
   "metadata": {},
   "outputs": [],
   "source": [
    "# === Final Check: No NaNs Should Remain ===\n",
    "assert this_week.isna().sum().sum() == 0, \"🚨 Still missing values in prediction set!\""
   ]
  },
  {
   "cell_type": "code",
   "execution_count": 21,
   "id": "b75f2cff",
   "metadata": {},
   "outputs": [
    {
     "name": "stdout",
     "output_type": "stream",
     "text": [
      "🧹 Columns still containing NaN values:\n"
     ]
    },
    {
     "data": {
      "text/plain": [
       "Series([], dtype: int64)"
      ]
     },
     "metadata": {},
     "output_type": "display_data"
    }
   ],
   "source": [
    "# === Check for Remaining Missing Values ===\n",
    "missing_summary = this_week.isna().sum()\n",
    "missing_summary = missing_summary[missing_summary > 0].sort_values(ascending=False)\n",
    "\n",
    "print(\"🧹 Columns still containing NaN values:\")\n",
    "display(missing_summary)"
   ]
  },
  {
   "cell_type": "markdown",
   "id": "e37950e7",
   "metadata": {},
   "source": [
    "## Correlations\n",
    "**Last 4 Years**"
   ]
  },
  {
   "cell_type": "code",
   "execution_count": 22,
   "id": "d749a70f",
   "metadata": {},
   "outputs": [
    {
     "data": {
      "application/vnd.plotly.v1+json": {
       "config": {
        "plotlyServerURL": "https://plot.ly"
       },
       "data": [
        {
         "hovertemplate": "Feature=%{x}<br>Correlation=%{y}<extra></extra>",
         "legendgroup": "",
         "marker": {
          "color": "#636efa",
          "pattern": {
           "shape": ""
          }
         },
         "name": "",
         "orientation": "v",
         "showlegend": false,
         "textposition": "auto",
         "type": "bar",
         "x": [
          "OWGR",
          "SGATG",
          "BIRDIES",
          "PAR_5",
          "SGATG_RANK",
          "BIRDIES_RANK",
          "PAR_5_RANK",
          "SGTTG_RANK",
          "form_density",
          "SGTTG",
          "OWGR_RANK",
          "RECENT_FORM",
          "VEGAS_ODDS",
          "FEDEX_CUP_POINTS",
          "SGAPR_RANK",
          "PAR_4_RANK",
          "SGP",
          "SGAPR",
          "SGP_RANK",
          "PAR_4",
          "CUT_PERCENTAGE",
          "DRIVING_DISTANCE",
          "SCRAMBLING",
          "DRIVING_DISTANCE_RANK",
          "SCRAMBLING_RANK",
          "CONSECUTIVE_CUTS",
          "PAR_3_RANK",
          "DRIVING_ACCURACY",
          "SGOTT",
          "adj_form",
          "DRIVING_ACCURACY_RANK",
          "GIR_RANK",
          "PAR_3",
          "SGOTT_RANK",
          "COURSE_HISTORY",
          "TOTAL_DRIVING_RANK",
          "adj_ch",
          "GIR",
          "TOTAL_DRIVING"
         ],
         "xaxis": "x",
         "y": {
          "bdata": "yI0wEuSK1z/N3NHOa6TSP98ou2xGBtI/ujIvEVX30T888ky/cPPRPxXZh6If7dE/wQUjYefl0T//co091Z7RP1r6dpRzCtE/mm65BJCD0D/Ag+s1CJzPP2g9MEc3Ys0/2OO0ulO+zD/JUG12JZfLPyDy9iqRhMo/48BG3Nsvyj/nbIYnxffJP1dUOn1mf8k/yFEvLRwZyD8KcYhulejGPxvdLNrLB8Y/MHwy2kM3vT+7SGQ5eNa8P00WCHzco7w/tllOTbAiuT+RUbfbDfi2P9Ghn+aUxbY/a8M+8QK8tD+0Veqjpke0P89q65n02rM/OKrdrO+1sz+RFddAT/yxP0TPWdvM07A/yASW46dNsD8pomrJ9YyuP1JEIgz2Wq4/kYipvVvfqj/3TRC3i1+oP+D5Nal5tKA/",
          "dtype": "f8"
         },
         "yaxis": "y"
        }
       ],
       "layout": {
        "barmode": "relative",
        "height": 500,
        "legend": {
         "tracegroupgap": 0
        },
        "template": {
         "data": {
          "bar": [
           {
            "error_x": {
             "color": "#f2f5fa"
            },
            "error_y": {
             "color": "#f2f5fa"
            },
            "marker": {
             "line": {
              "color": "rgb(17,17,17)",
              "width": 0.5
             },
             "pattern": {
              "fillmode": "overlay",
              "size": 10,
              "solidity": 0.2
             }
            },
            "type": "bar"
           }
          ],
          "barpolar": [
           {
            "marker": {
             "line": {
              "color": "rgb(17,17,17)",
              "width": 0.5
             },
             "pattern": {
              "fillmode": "overlay",
              "size": 10,
              "solidity": 0.2
             }
            },
            "type": "barpolar"
           }
          ],
          "carpet": [
           {
            "aaxis": {
             "endlinecolor": "#A2B1C6",
             "gridcolor": "#506784",
             "linecolor": "#506784",
             "minorgridcolor": "#506784",
             "startlinecolor": "#A2B1C6"
            },
            "baxis": {
             "endlinecolor": "#A2B1C6",
             "gridcolor": "#506784",
             "linecolor": "#506784",
             "minorgridcolor": "#506784",
             "startlinecolor": "#A2B1C6"
            },
            "type": "carpet"
           }
          ],
          "choropleth": [
           {
            "colorbar": {
             "outlinewidth": 0,
             "ticks": ""
            },
            "type": "choropleth"
           }
          ],
          "contour": [
           {
            "colorbar": {
             "outlinewidth": 0,
             "ticks": ""
            },
            "colorscale": [
             [
              0,
              "#0d0887"
             ],
             [
              0.1111111111111111,
              "#46039f"
             ],
             [
              0.2222222222222222,
              "#7201a8"
             ],
             [
              0.3333333333333333,
              "#9c179e"
             ],
             [
              0.4444444444444444,
              "#bd3786"
             ],
             [
              0.5555555555555556,
              "#d8576b"
             ],
             [
              0.6666666666666666,
              "#ed7953"
             ],
             [
              0.7777777777777778,
              "#fb9f3a"
             ],
             [
              0.8888888888888888,
              "#fdca26"
             ],
             [
              1,
              "#f0f921"
             ]
            ],
            "type": "contour"
           }
          ],
          "contourcarpet": [
           {
            "colorbar": {
             "outlinewidth": 0,
             "ticks": ""
            },
            "type": "contourcarpet"
           }
          ],
          "heatmap": [
           {
            "colorbar": {
             "outlinewidth": 0,
             "ticks": ""
            },
            "colorscale": [
             [
              0,
              "#0d0887"
             ],
             [
              0.1111111111111111,
              "#46039f"
             ],
             [
              0.2222222222222222,
              "#7201a8"
             ],
             [
              0.3333333333333333,
              "#9c179e"
             ],
             [
              0.4444444444444444,
              "#bd3786"
             ],
             [
              0.5555555555555556,
              "#d8576b"
             ],
             [
              0.6666666666666666,
              "#ed7953"
             ],
             [
              0.7777777777777778,
              "#fb9f3a"
             ],
             [
              0.8888888888888888,
              "#fdca26"
             ],
             [
              1,
              "#f0f921"
             ]
            ],
            "type": "heatmap"
           }
          ],
          "histogram": [
           {
            "marker": {
             "pattern": {
              "fillmode": "overlay",
              "size": 10,
              "solidity": 0.2
             }
            },
            "type": "histogram"
           }
          ],
          "histogram2d": [
           {
            "colorbar": {
             "outlinewidth": 0,
             "ticks": ""
            },
            "colorscale": [
             [
              0,
              "#0d0887"
             ],
             [
              0.1111111111111111,
              "#46039f"
             ],
             [
              0.2222222222222222,
              "#7201a8"
             ],
             [
              0.3333333333333333,
              "#9c179e"
             ],
             [
              0.4444444444444444,
              "#bd3786"
             ],
             [
              0.5555555555555556,
              "#d8576b"
             ],
             [
              0.6666666666666666,
              "#ed7953"
             ],
             [
              0.7777777777777778,
              "#fb9f3a"
             ],
             [
              0.8888888888888888,
              "#fdca26"
             ],
             [
              1,
              "#f0f921"
             ]
            ],
            "type": "histogram2d"
           }
          ],
          "histogram2dcontour": [
           {
            "colorbar": {
             "outlinewidth": 0,
             "ticks": ""
            },
            "colorscale": [
             [
              0,
              "#0d0887"
             ],
             [
              0.1111111111111111,
              "#46039f"
             ],
             [
              0.2222222222222222,
              "#7201a8"
             ],
             [
              0.3333333333333333,
              "#9c179e"
             ],
             [
              0.4444444444444444,
              "#bd3786"
             ],
             [
              0.5555555555555556,
              "#d8576b"
             ],
             [
              0.6666666666666666,
              "#ed7953"
             ],
             [
              0.7777777777777778,
              "#fb9f3a"
             ],
             [
              0.8888888888888888,
              "#fdca26"
             ],
             [
              1,
              "#f0f921"
             ]
            ],
            "type": "histogram2dcontour"
           }
          ],
          "mesh3d": [
           {
            "colorbar": {
             "outlinewidth": 0,
             "ticks": ""
            },
            "type": "mesh3d"
           }
          ],
          "parcoords": [
           {
            "line": {
             "colorbar": {
              "outlinewidth": 0,
              "ticks": ""
             }
            },
            "type": "parcoords"
           }
          ],
          "pie": [
           {
            "automargin": true,
            "type": "pie"
           }
          ],
          "scatter": [
           {
            "marker": {
             "line": {
              "color": "#283442"
             }
            },
            "type": "scatter"
           }
          ],
          "scatter3d": [
           {
            "line": {
             "colorbar": {
              "outlinewidth": 0,
              "ticks": ""
             }
            },
            "marker": {
             "colorbar": {
              "outlinewidth": 0,
              "ticks": ""
             }
            },
            "type": "scatter3d"
           }
          ],
          "scattercarpet": [
           {
            "marker": {
             "colorbar": {
              "outlinewidth": 0,
              "ticks": ""
             }
            },
            "type": "scattercarpet"
           }
          ],
          "scattergeo": [
           {
            "marker": {
             "colorbar": {
              "outlinewidth": 0,
              "ticks": ""
             }
            },
            "type": "scattergeo"
           }
          ],
          "scattergl": [
           {
            "marker": {
             "line": {
              "color": "#283442"
             }
            },
            "type": "scattergl"
           }
          ],
          "scattermap": [
           {
            "marker": {
             "colorbar": {
              "outlinewidth": 0,
              "ticks": ""
             }
            },
            "type": "scattermap"
           }
          ],
          "scattermapbox": [
           {
            "marker": {
             "colorbar": {
              "outlinewidth": 0,
              "ticks": ""
             }
            },
            "type": "scattermapbox"
           }
          ],
          "scatterpolar": [
           {
            "marker": {
             "colorbar": {
              "outlinewidth": 0,
              "ticks": ""
             }
            },
            "type": "scatterpolar"
           }
          ],
          "scatterpolargl": [
           {
            "marker": {
             "colorbar": {
              "outlinewidth": 0,
              "ticks": ""
             }
            },
            "type": "scatterpolargl"
           }
          ],
          "scatterternary": [
           {
            "marker": {
             "colorbar": {
              "outlinewidth": 0,
              "ticks": ""
             }
            },
            "type": "scatterternary"
           }
          ],
          "surface": [
           {
            "colorbar": {
             "outlinewidth": 0,
             "ticks": ""
            },
            "colorscale": [
             [
              0,
              "#0d0887"
             ],
             [
              0.1111111111111111,
              "#46039f"
             ],
             [
              0.2222222222222222,
              "#7201a8"
             ],
             [
              0.3333333333333333,
              "#9c179e"
             ],
             [
              0.4444444444444444,
              "#bd3786"
             ],
             [
              0.5555555555555556,
              "#d8576b"
             ],
             [
              0.6666666666666666,
              "#ed7953"
             ],
             [
              0.7777777777777778,
              "#fb9f3a"
             ],
             [
              0.8888888888888888,
              "#fdca26"
             ],
             [
              1,
              "#f0f921"
             ]
            ],
            "type": "surface"
           }
          ],
          "table": [
           {
            "cells": {
             "fill": {
              "color": "#506784"
             },
             "line": {
              "color": "rgb(17,17,17)"
             }
            },
            "header": {
             "fill": {
              "color": "#2a3f5f"
             },
             "line": {
              "color": "rgb(17,17,17)"
             }
            },
            "type": "table"
           }
          ]
         },
         "layout": {
          "annotationdefaults": {
           "arrowcolor": "#f2f5fa",
           "arrowhead": 0,
           "arrowwidth": 1
          },
          "autotypenumbers": "strict",
          "coloraxis": {
           "colorbar": {
            "outlinewidth": 0,
            "ticks": ""
           }
          },
          "colorscale": {
           "diverging": [
            [
             0,
             "#8e0152"
            ],
            [
             0.1,
             "#c51b7d"
            ],
            [
             0.2,
             "#de77ae"
            ],
            [
             0.3,
             "#f1b6da"
            ],
            [
             0.4,
             "#fde0ef"
            ],
            [
             0.5,
             "#f7f7f7"
            ],
            [
             0.6,
             "#e6f5d0"
            ],
            [
             0.7,
             "#b8e186"
            ],
            [
             0.8,
             "#7fbc41"
            ],
            [
             0.9,
             "#4d9221"
            ],
            [
             1,
             "#276419"
            ]
           ],
           "sequential": [
            [
             0,
             "#0d0887"
            ],
            [
             0.1111111111111111,
             "#46039f"
            ],
            [
             0.2222222222222222,
             "#7201a8"
            ],
            [
             0.3333333333333333,
             "#9c179e"
            ],
            [
             0.4444444444444444,
             "#bd3786"
            ],
            [
             0.5555555555555556,
             "#d8576b"
            ],
            [
             0.6666666666666666,
             "#ed7953"
            ],
            [
             0.7777777777777778,
             "#fb9f3a"
            ],
            [
             0.8888888888888888,
             "#fdca26"
            ],
            [
             1,
             "#f0f921"
            ]
           ],
           "sequentialminus": [
            [
             0,
             "#0d0887"
            ],
            [
             0.1111111111111111,
             "#46039f"
            ],
            [
             0.2222222222222222,
             "#7201a8"
            ],
            [
             0.3333333333333333,
             "#9c179e"
            ],
            [
             0.4444444444444444,
             "#bd3786"
            ],
            [
             0.5555555555555556,
             "#d8576b"
            ],
            [
             0.6666666666666666,
             "#ed7953"
            ],
            [
             0.7777777777777778,
             "#fb9f3a"
            ],
            [
             0.8888888888888888,
             "#fdca26"
            ],
            [
             1,
             "#f0f921"
            ]
           ]
          },
          "colorway": [
           "#636efa",
           "#EF553B",
           "#00cc96",
           "#ab63fa",
           "#FFA15A",
           "#19d3f3",
           "#FF6692",
           "#B6E880",
           "#FF97FF",
           "#FECB52"
          ],
          "font": {
           "color": "#f2f5fa"
          },
          "geo": {
           "bgcolor": "rgb(17,17,17)",
           "lakecolor": "rgb(17,17,17)",
           "landcolor": "rgb(17,17,17)",
           "showlakes": true,
           "showland": true,
           "subunitcolor": "#506784"
          },
          "hoverlabel": {
           "align": "left"
          },
          "hovermode": "closest",
          "mapbox": {
           "style": "dark"
          },
          "paper_bgcolor": "rgb(17,17,17)",
          "plot_bgcolor": "rgb(17,17,17)",
          "polar": {
           "angularaxis": {
            "gridcolor": "#506784",
            "linecolor": "#506784",
            "ticks": ""
           },
           "bgcolor": "rgb(17,17,17)",
           "radialaxis": {
            "gridcolor": "#506784",
            "linecolor": "#506784",
            "ticks": ""
           }
          },
          "scene": {
           "xaxis": {
            "backgroundcolor": "rgb(17,17,17)",
            "gridcolor": "#506784",
            "gridwidth": 2,
            "linecolor": "#506784",
            "showbackground": true,
            "ticks": "",
            "zerolinecolor": "#C8D4E3"
           },
           "yaxis": {
            "backgroundcolor": "rgb(17,17,17)",
            "gridcolor": "#506784",
            "gridwidth": 2,
            "linecolor": "#506784",
            "showbackground": true,
            "ticks": "",
            "zerolinecolor": "#C8D4E3"
           },
           "zaxis": {
            "backgroundcolor": "rgb(17,17,17)",
            "gridcolor": "#506784",
            "gridwidth": 2,
            "linecolor": "#506784",
            "showbackground": true,
            "ticks": "",
            "zerolinecolor": "#C8D4E3"
           }
          },
          "shapedefaults": {
           "line": {
            "color": "#f2f5fa"
           }
          },
          "sliderdefaults": {
           "bgcolor": "#C8D4E3",
           "bordercolor": "rgb(17,17,17)",
           "borderwidth": 1,
           "tickwidth": 0
          },
          "ternary": {
           "aaxis": {
            "gridcolor": "#506784",
            "linecolor": "#506784",
            "ticks": ""
           },
           "baxis": {
            "gridcolor": "#506784",
            "linecolor": "#506784",
            "ticks": ""
           },
           "bgcolor": "rgb(17,17,17)",
           "caxis": {
            "gridcolor": "#506784",
            "linecolor": "#506784",
            "ticks": ""
           }
          },
          "title": {
           "x": 0.05
          },
          "updatemenudefaults": {
           "bgcolor": "#506784",
           "borderwidth": 0
          },
          "xaxis": {
           "automargin": true,
           "gridcolor": "#283442",
           "linecolor": "#506784",
           "ticks": "",
           "title": {
            "standoff": 15
           },
           "zerolinecolor": "#283442",
           "zerolinewidth": 2
          },
          "yaxis": {
           "automargin": true,
           "gridcolor": "#283442",
           "linecolor": "#506784",
           "ticks": "",
           "title": {
            "standoff": 15
           },
           "zerolinecolor": "#283442",
           "zerolinewidth": 2
          }
         }
        },
        "title": {
         "text": "🔎 Correlation to TOP_20 — Season 2021"
        },
        "width": 1000,
        "xaxis": {
         "anchor": "y",
         "domain": [
          0,
          1
         ],
         "tickangle": -45,
         "title": {
          "text": "Feature"
         }
        },
        "yaxis": {
         "anchor": "x",
         "domain": [
          0,
          1
         ],
         "title": {
          "text": "Absolute Correlation to TOP_20"
         }
        }
       }
      }
     },
     "metadata": {},
     "output_type": "display_data"
    },
    {
     "data": {
      "application/vnd.plotly.v1+json": {
       "config": {
        "plotlyServerURL": "https://plot.ly"
       },
       "data": [
        {
         "hovertemplate": "Feature=%{x}<br>Correlation=%{y}<extra></extra>",
         "legendgroup": "",
         "marker": {
          "color": "#636efa",
          "pattern": {
           "shape": ""
          }
         },
         "name": "",
         "orientation": "v",
         "showlegend": false,
         "textposition": "auto",
         "type": "bar",
         "x": [
          "OWGR",
          "RECENT_FORM",
          "SGTTG",
          "form_density",
          "FEDEX_CUP_POINTS",
          "SGTTG_RANK",
          "PAR_4",
          "PAR_4_RANK",
          "BIRDIES",
          "CUT_PERCENTAGE",
          "GIR",
          "PAR_5",
          "SGOTT",
          "GIR_RANK",
          "BIRDIES_RANK",
          "SGOTT_RANK",
          "TOTAL_DRIVING",
          "PAR_5_RANK",
          "TOTAL_DRIVING_RANK",
          "VEGAS_ODDS",
          "SGAPR",
          "CONSECUTIVE_CUTS",
          "OWGR_RANK",
          "SGAPR_RANK",
          "SCRAMBLING_RANK",
          "PAR_3_RANK",
          "PAR_3",
          "adj_form",
          "SGATG_RANK",
          "SGATG",
          "DRIVING_DISTANCE",
          "DRIVING_DISTANCE_RANK",
          "SCRAMBLING",
          "SGP",
          "SGP_RANK",
          "DRIVING_ACCURACY_RANK",
          "DRIVING_ACCURACY",
          "adj_ch",
          "COURSE_HISTORY"
         ],
         "xaxis": "x",
         "y": {
          "bdata": "eWxZit4e4T8Z/f7QllPgP/Aj8Be8MuA/e/tlLaeo3z89lxHdVj7eP+g77nH0/d0/kccotxma3D9cnlWeSTjcP7n8CE1j8ts/BWkJTYvD2z+6eBbDNA7bP4XedMlY9dk/ibo2X/WC2T+R4dfYAHfZP71egRIbFNg/vpCwJMmV1j8ioUYg+XjWPyWzgYx6+9U/4lQLpcZC1T/qttMntfXUP79pD9P+8dQ/PTdItLPE1D8ry40qoF7UP0d60rLoyNM/+T23CVtA0z+QAcook9LSP5/Pf1InxNE/OAGyXFWd0T9yjWpRhp3QP8b6n6C84M4/QYB+Jrxvzj+ctIE7pAHOPz93zYRzPco/a9Ky9HsqwT8kpftDLjHAP7aUvs3c87k/K34UdU7gtz+CaJ6W51elPwoD/a+sSJA/",
          "dtype": "f8"
         },
         "yaxis": "y"
        }
       ],
       "layout": {
        "barmode": "relative",
        "height": 500,
        "legend": {
         "tracegroupgap": 0
        },
        "template": {
         "data": {
          "bar": [
           {
            "error_x": {
             "color": "#f2f5fa"
            },
            "error_y": {
             "color": "#f2f5fa"
            },
            "marker": {
             "line": {
              "color": "rgb(17,17,17)",
              "width": 0.5
             },
             "pattern": {
              "fillmode": "overlay",
              "size": 10,
              "solidity": 0.2
             }
            },
            "type": "bar"
           }
          ],
          "barpolar": [
           {
            "marker": {
             "line": {
              "color": "rgb(17,17,17)",
              "width": 0.5
             },
             "pattern": {
              "fillmode": "overlay",
              "size": 10,
              "solidity": 0.2
             }
            },
            "type": "barpolar"
           }
          ],
          "carpet": [
           {
            "aaxis": {
             "endlinecolor": "#A2B1C6",
             "gridcolor": "#506784",
             "linecolor": "#506784",
             "minorgridcolor": "#506784",
             "startlinecolor": "#A2B1C6"
            },
            "baxis": {
             "endlinecolor": "#A2B1C6",
             "gridcolor": "#506784",
             "linecolor": "#506784",
             "minorgridcolor": "#506784",
             "startlinecolor": "#A2B1C6"
            },
            "type": "carpet"
           }
          ],
          "choropleth": [
           {
            "colorbar": {
             "outlinewidth": 0,
             "ticks": ""
            },
            "type": "choropleth"
           }
          ],
          "contour": [
           {
            "colorbar": {
             "outlinewidth": 0,
             "ticks": ""
            },
            "colorscale": [
             [
              0,
              "#0d0887"
             ],
             [
              0.1111111111111111,
              "#46039f"
             ],
             [
              0.2222222222222222,
              "#7201a8"
             ],
             [
              0.3333333333333333,
              "#9c179e"
             ],
             [
              0.4444444444444444,
              "#bd3786"
             ],
             [
              0.5555555555555556,
              "#d8576b"
             ],
             [
              0.6666666666666666,
              "#ed7953"
             ],
             [
              0.7777777777777778,
              "#fb9f3a"
             ],
             [
              0.8888888888888888,
              "#fdca26"
             ],
             [
              1,
              "#f0f921"
             ]
            ],
            "type": "contour"
           }
          ],
          "contourcarpet": [
           {
            "colorbar": {
             "outlinewidth": 0,
             "ticks": ""
            },
            "type": "contourcarpet"
           }
          ],
          "heatmap": [
           {
            "colorbar": {
             "outlinewidth": 0,
             "ticks": ""
            },
            "colorscale": [
             [
              0,
              "#0d0887"
             ],
             [
              0.1111111111111111,
              "#46039f"
             ],
             [
              0.2222222222222222,
              "#7201a8"
             ],
             [
              0.3333333333333333,
              "#9c179e"
             ],
             [
              0.4444444444444444,
              "#bd3786"
             ],
             [
              0.5555555555555556,
              "#d8576b"
             ],
             [
              0.6666666666666666,
              "#ed7953"
             ],
             [
              0.7777777777777778,
              "#fb9f3a"
             ],
             [
              0.8888888888888888,
              "#fdca26"
             ],
             [
              1,
              "#f0f921"
             ]
            ],
            "type": "heatmap"
           }
          ],
          "histogram": [
           {
            "marker": {
             "pattern": {
              "fillmode": "overlay",
              "size": 10,
              "solidity": 0.2
             }
            },
            "type": "histogram"
           }
          ],
          "histogram2d": [
           {
            "colorbar": {
             "outlinewidth": 0,
             "ticks": ""
            },
            "colorscale": [
             [
              0,
              "#0d0887"
             ],
             [
              0.1111111111111111,
              "#46039f"
             ],
             [
              0.2222222222222222,
              "#7201a8"
             ],
             [
              0.3333333333333333,
              "#9c179e"
             ],
             [
              0.4444444444444444,
              "#bd3786"
             ],
             [
              0.5555555555555556,
              "#d8576b"
             ],
             [
              0.6666666666666666,
              "#ed7953"
             ],
             [
              0.7777777777777778,
              "#fb9f3a"
             ],
             [
              0.8888888888888888,
              "#fdca26"
             ],
             [
              1,
              "#f0f921"
             ]
            ],
            "type": "histogram2d"
           }
          ],
          "histogram2dcontour": [
           {
            "colorbar": {
             "outlinewidth": 0,
             "ticks": ""
            },
            "colorscale": [
             [
              0,
              "#0d0887"
             ],
             [
              0.1111111111111111,
              "#46039f"
             ],
             [
              0.2222222222222222,
              "#7201a8"
             ],
             [
              0.3333333333333333,
              "#9c179e"
             ],
             [
              0.4444444444444444,
              "#bd3786"
             ],
             [
              0.5555555555555556,
              "#d8576b"
             ],
             [
              0.6666666666666666,
              "#ed7953"
             ],
             [
              0.7777777777777778,
              "#fb9f3a"
             ],
             [
              0.8888888888888888,
              "#fdca26"
             ],
             [
              1,
              "#f0f921"
             ]
            ],
            "type": "histogram2dcontour"
           }
          ],
          "mesh3d": [
           {
            "colorbar": {
             "outlinewidth": 0,
             "ticks": ""
            },
            "type": "mesh3d"
           }
          ],
          "parcoords": [
           {
            "line": {
             "colorbar": {
              "outlinewidth": 0,
              "ticks": ""
             }
            },
            "type": "parcoords"
           }
          ],
          "pie": [
           {
            "automargin": true,
            "type": "pie"
           }
          ],
          "scatter": [
           {
            "marker": {
             "line": {
              "color": "#283442"
             }
            },
            "type": "scatter"
           }
          ],
          "scatter3d": [
           {
            "line": {
             "colorbar": {
              "outlinewidth": 0,
              "ticks": ""
             }
            },
            "marker": {
             "colorbar": {
              "outlinewidth": 0,
              "ticks": ""
             }
            },
            "type": "scatter3d"
           }
          ],
          "scattercarpet": [
           {
            "marker": {
             "colorbar": {
              "outlinewidth": 0,
              "ticks": ""
             }
            },
            "type": "scattercarpet"
           }
          ],
          "scattergeo": [
           {
            "marker": {
             "colorbar": {
              "outlinewidth": 0,
              "ticks": ""
             }
            },
            "type": "scattergeo"
           }
          ],
          "scattergl": [
           {
            "marker": {
             "line": {
              "color": "#283442"
             }
            },
            "type": "scattergl"
           }
          ],
          "scattermap": [
           {
            "marker": {
             "colorbar": {
              "outlinewidth": 0,
              "ticks": ""
             }
            },
            "type": "scattermap"
           }
          ],
          "scattermapbox": [
           {
            "marker": {
             "colorbar": {
              "outlinewidth": 0,
              "ticks": ""
             }
            },
            "type": "scattermapbox"
           }
          ],
          "scatterpolar": [
           {
            "marker": {
             "colorbar": {
              "outlinewidth": 0,
              "ticks": ""
             }
            },
            "type": "scatterpolar"
           }
          ],
          "scatterpolargl": [
           {
            "marker": {
             "colorbar": {
              "outlinewidth": 0,
              "ticks": ""
             }
            },
            "type": "scatterpolargl"
           }
          ],
          "scatterternary": [
           {
            "marker": {
             "colorbar": {
              "outlinewidth": 0,
              "ticks": ""
             }
            },
            "type": "scatterternary"
           }
          ],
          "surface": [
           {
            "colorbar": {
             "outlinewidth": 0,
             "ticks": ""
            },
            "colorscale": [
             [
              0,
              "#0d0887"
             ],
             [
              0.1111111111111111,
              "#46039f"
             ],
             [
              0.2222222222222222,
              "#7201a8"
             ],
             [
              0.3333333333333333,
              "#9c179e"
             ],
             [
              0.4444444444444444,
              "#bd3786"
             ],
             [
              0.5555555555555556,
              "#d8576b"
             ],
             [
              0.6666666666666666,
              "#ed7953"
             ],
             [
              0.7777777777777778,
              "#fb9f3a"
             ],
             [
              0.8888888888888888,
              "#fdca26"
             ],
             [
              1,
              "#f0f921"
             ]
            ],
            "type": "surface"
           }
          ],
          "table": [
           {
            "cells": {
             "fill": {
              "color": "#506784"
             },
             "line": {
              "color": "rgb(17,17,17)"
             }
            },
            "header": {
             "fill": {
              "color": "#2a3f5f"
             },
             "line": {
              "color": "rgb(17,17,17)"
             }
            },
            "type": "table"
           }
          ]
         },
         "layout": {
          "annotationdefaults": {
           "arrowcolor": "#f2f5fa",
           "arrowhead": 0,
           "arrowwidth": 1
          },
          "autotypenumbers": "strict",
          "coloraxis": {
           "colorbar": {
            "outlinewidth": 0,
            "ticks": ""
           }
          },
          "colorscale": {
           "diverging": [
            [
             0,
             "#8e0152"
            ],
            [
             0.1,
             "#c51b7d"
            ],
            [
             0.2,
             "#de77ae"
            ],
            [
             0.3,
             "#f1b6da"
            ],
            [
             0.4,
             "#fde0ef"
            ],
            [
             0.5,
             "#f7f7f7"
            ],
            [
             0.6,
             "#e6f5d0"
            ],
            [
             0.7,
             "#b8e186"
            ],
            [
             0.8,
             "#7fbc41"
            ],
            [
             0.9,
             "#4d9221"
            ],
            [
             1,
             "#276419"
            ]
           ],
           "sequential": [
            [
             0,
             "#0d0887"
            ],
            [
             0.1111111111111111,
             "#46039f"
            ],
            [
             0.2222222222222222,
             "#7201a8"
            ],
            [
             0.3333333333333333,
             "#9c179e"
            ],
            [
             0.4444444444444444,
             "#bd3786"
            ],
            [
             0.5555555555555556,
             "#d8576b"
            ],
            [
             0.6666666666666666,
             "#ed7953"
            ],
            [
             0.7777777777777778,
             "#fb9f3a"
            ],
            [
             0.8888888888888888,
             "#fdca26"
            ],
            [
             1,
             "#f0f921"
            ]
           ],
           "sequentialminus": [
            [
             0,
             "#0d0887"
            ],
            [
             0.1111111111111111,
             "#46039f"
            ],
            [
             0.2222222222222222,
             "#7201a8"
            ],
            [
             0.3333333333333333,
             "#9c179e"
            ],
            [
             0.4444444444444444,
             "#bd3786"
            ],
            [
             0.5555555555555556,
             "#d8576b"
            ],
            [
             0.6666666666666666,
             "#ed7953"
            ],
            [
             0.7777777777777778,
             "#fb9f3a"
            ],
            [
             0.8888888888888888,
             "#fdca26"
            ],
            [
             1,
             "#f0f921"
            ]
           ]
          },
          "colorway": [
           "#636efa",
           "#EF553B",
           "#00cc96",
           "#ab63fa",
           "#FFA15A",
           "#19d3f3",
           "#FF6692",
           "#B6E880",
           "#FF97FF",
           "#FECB52"
          ],
          "font": {
           "color": "#f2f5fa"
          },
          "geo": {
           "bgcolor": "rgb(17,17,17)",
           "lakecolor": "rgb(17,17,17)",
           "landcolor": "rgb(17,17,17)",
           "showlakes": true,
           "showland": true,
           "subunitcolor": "#506784"
          },
          "hoverlabel": {
           "align": "left"
          },
          "hovermode": "closest",
          "mapbox": {
           "style": "dark"
          },
          "paper_bgcolor": "rgb(17,17,17)",
          "plot_bgcolor": "rgb(17,17,17)",
          "polar": {
           "angularaxis": {
            "gridcolor": "#506784",
            "linecolor": "#506784",
            "ticks": ""
           },
           "bgcolor": "rgb(17,17,17)",
           "radialaxis": {
            "gridcolor": "#506784",
            "linecolor": "#506784",
            "ticks": ""
           }
          },
          "scene": {
           "xaxis": {
            "backgroundcolor": "rgb(17,17,17)",
            "gridcolor": "#506784",
            "gridwidth": 2,
            "linecolor": "#506784",
            "showbackground": true,
            "ticks": "",
            "zerolinecolor": "#C8D4E3"
           },
           "yaxis": {
            "backgroundcolor": "rgb(17,17,17)",
            "gridcolor": "#506784",
            "gridwidth": 2,
            "linecolor": "#506784",
            "showbackground": true,
            "ticks": "",
            "zerolinecolor": "#C8D4E3"
           },
           "zaxis": {
            "backgroundcolor": "rgb(17,17,17)",
            "gridcolor": "#506784",
            "gridwidth": 2,
            "linecolor": "#506784",
            "showbackground": true,
            "ticks": "",
            "zerolinecolor": "#C8D4E3"
           }
          },
          "shapedefaults": {
           "line": {
            "color": "#f2f5fa"
           }
          },
          "sliderdefaults": {
           "bgcolor": "#C8D4E3",
           "bordercolor": "rgb(17,17,17)",
           "borderwidth": 1,
           "tickwidth": 0
          },
          "ternary": {
           "aaxis": {
            "gridcolor": "#506784",
            "linecolor": "#506784",
            "ticks": ""
           },
           "baxis": {
            "gridcolor": "#506784",
            "linecolor": "#506784",
            "ticks": ""
           },
           "bgcolor": "rgb(17,17,17)",
           "caxis": {
            "gridcolor": "#506784",
            "linecolor": "#506784",
            "ticks": ""
           }
          },
          "title": {
           "x": 0.05
          },
          "updatemenudefaults": {
           "bgcolor": "#506784",
           "borderwidth": 0
          },
          "xaxis": {
           "automargin": true,
           "gridcolor": "#283442",
           "linecolor": "#506784",
           "ticks": "",
           "title": {
            "standoff": 15
           },
           "zerolinecolor": "#283442",
           "zerolinewidth": 2
          },
          "yaxis": {
           "automargin": true,
           "gridcolor": "#283442",
           "linecolor": "#506784",
           "ticks": "",
           "title": {
            "standoff": 15
           },
           "zerolinecolor": "#283442",
           "zerolinewidth": 2
          }
         }
        },
        "title": {
         "text": "🔎 Correlation to TOP_20 — Season 2022"
        },
        "width": 1000,
        "xaxis": {
         "anchor": "y",
         "domain": [
          0,
          1
         ],
         "tickangle": -45,
         "title": {
          "text": "Feature"
         }
        },
        "yaxis": {
         "anchor": "x",
         "domain": [
          0,
          1
         ],
         "title": {
          "text": "Absolute Correlation to TOP_20"
         }
        }
       }
      }
     },
     "metadata": {},
     "output_type": "display_data"
    },
    {
     "data": {
      "application/vnd.plotly.v1+json": {
       "config": {
        "plotlyServerURL": "https://plot.ly"
       },
       "data": [
        {
         "hovertemplate": "Feature=%{x}<br>Correlation=%{y}<extra></extra>",
         "legendgroup": "",
         "marker": {
          "color": "#636efa",
          "pattern": {
           "shape": ""
          }
         },
         "name": "",
         "orientation": "v",
         "showlegend": false,
         "textposition": "auto",
         "type": "bar",
         "x": [
          "OWGR",
          "form_density",
          "SGTTG",
          "FEDEX_CUP_POINTS",
          "SGTTG_RANK",
          "RECENT_FORM",
          "SGAPR",
          "SGAPR_RANK",
          "VEGAS_ODDS",
          "SGOTT",
          "PAR_4",
          "SGOTT_RANK",
          "CUT_PERCENTAGE",
          "OWGR_RANK",
          "PAR_5",
          "PAR_5_RANK",
          "DRIVING_DISTANCE",
          "adj_ch",
          "adj_form",
          "CONSECUTIVE_CUTS",
          "BIRDIES",
          "SCRAMBLING_RANK",
          "SCRAMBLING",
          "TOTAL_DRIVING_RANK",
          "PAR_3",
          "COURSE_HISTORY",
          "DRIVING_DISTANCE_RANK",
          "TOTAL_DRIVING",
          "GIR",
          "SGATG_RANK",
          "PAR_4_RANK",
          "PAR_3_RANK",
          "SGATG",
          "BIRDIES_RANK",
          "GIR_RANK",
          "SGP_RANK",
          "SGP",
          "DRIVING_ACCURACY_RANK",
          "DRIVING_ACCURACY"
         ],
         "xaxis": "x",
         "y": {
          "bdata": "rjFov6tW3z+u/pss5oTbPzvPJmfhYds/Bh+0VG/z2T+nQO21bVTZPzyY5fkyvtc/9AV3XseG1z8finuPoO/WP+wJek1qc9U/V+RVkyqe0T8yq1S7KznRP5lHOpMbHtE/xpOk3gKe0D9yF/7Vj87PP/3C8hDfbs8/tQKrBwOPzj/XZjbEobPLP97pBg9iN8s/FgcOQdReyj926cTKj8rJP2y2CB/bCsg/nk8xAGjzxz+KdCBefZnHP/K0qOkrdcc/EPUNvm9Mxz99XivQTlfGP23F5wwS7sU/cg2SirW5xT88TRUbnJHFPywKc8Akf8U/lZ3tefxkxT+YPrcjbknEP1g2LgFEYsM/ShO448iMvz80Ax9nAiC8P0VEhHWkx7Q/l3FT7AnGtD9JKlTBWMiPPyR4JpQ+EIY/",
          "dtype": "f8"
         },
         "yaxis": "y"
        }
       ],
       "layout": {
        "barmode": "relative",
        "height": 500,
        "legend": {
         "tracegroupgap": 0
        },
        "template": {
         "data": {
          "bar": [
           {
            "error_x": {
             "color": "#f2f5fa"
            },
            "error_y": {
             "color": "#f2f5fa"
            },
            "marker": {
             "line": {
              "color": "rgb(17,17,17)",
              "width": 0.5
             },
             "pattern": {
              "fillmode": "overlay",
              "size": 10,
              "solidity": 0.2
             }
            },
            "type": "bar"
           }
          ],
          "barpolar": [
           {
            "marker": {
             "line": {
              "color": "rgb(17,17,17)",
              "width": 0.5
             },
             "pattern": {
              "fillmode": "overlay",
              "size": 10,
              "solidity": 0.2
             }
            },
            "type": "barpolar"
           }
          ],
          "carpet": [
           {
            "aaxis": {
             "endlinecolor": "#A2B1C6",
             "gridcolor": "#506784",
             "linecolor": "#506784",
             "minorgridcolor": "#506784",
             "startlinecolor": "#A2B1C6"
            },
            "baxis": {
             "endlinecolor": "#A2B1C6",
             "gridcolor": "#506784",
             "linecolor": "#506784",
             "minorgridcolor": "#506784",
             "startlinecolor": "#A2B1C6"
            },
            "type": "carpet"
           }
          ],
          "choropleth": [
           {
            "colorbar": {
             "outlinewidth": 0,
             "ticks": ""
            },
            "type": "choropleth"
           }
          ],
          "contour": [
           {
            "colorbar": {
             "outlinewidth": 0,
             "ticks": ""
            },
            "colorscale": [
             [
              0,
              "#0d0887"
             ],
             [
              0.1111111111111111,
              "#46039f"
             ],
             [
              0.2222222222222222,
              "#7201a8"
             ],
             [
              0.3333333333333333,
              "#9c179e"
             ],
             [
              0.4444444444444444,
              "#bd3786"
             ],
             [
              0.5555555555555556,
              "#d8576b"
             ],
             [
              0.6666666666666666,
              "#ed7953"
             ],
             [
              0.7777777777777778,
              "#fb9f3a"
             ],
             [
              0.8888888888888888,
              "#fdca26"
             ],
             [
              1,
              "#f0f921"
             ]
            ],
            "type": "contour"
           }
          ],
          "contourcarpet": [
           {
            "colorbar": {
             "outlinewidth": 0,
             "ticks": ""
            },
            "type": "contourcarpet"
           }
          ],
          "heatmap": [
           {
            "colorbar": {
             "outlinewidth": 0,
             "ticks": ""
            },
            "colorscale": [
             [
              0,
              "#0d0887"
             ],
             [
              0.1111111111111111,
              "#46039f"
             ],
             [
              0.2222222222222222,
              "#7201a8"
             ],
             [
              0.3333333333333333,
              "#9c179e"
             ],
             [
              0.4444444444444444,
              "#bd3786"
             ],
             [
              0.5555555555555556,
              "#d8576b"
             ],
             [
              0.6666666666666666,
              "#ed7953"
             ],
             [
              0.7777777777777778,
              "#fb9f3a"
             ],
             [
              0.8888888888888888,
              "#fdca26"
             ],
             [
              1,
              "#f0f921"
             ]
            ],
            "type": "heatmap"
           }
          ],
          "histogram": [
           {
            "marker": {
             "pattern": {
              "fillmode": "overlay",
              "size": 10,
              "solidity": 0.2
             }
            },
            "type": "histogram"
           }
          ],
          "histogram2d": [
           {
            "colorbar": {
             "outlinewidth": 0,
             "ticks": ""
            },
            "colorscale": [
             [
              0,
              "#0d0887"
             ],
             [
              0.1111111111111111,
              "#46039f"
             ],
             [
              0.2222222222222222,
              "#7201a8"
             ],
             [
              0.3333333333333333,
              "#9c179e"
             ],
             [
              0.4444444444444444,
              "#bd3786"
             ],
             [
              0.5555555555555556,
              "#d8576b"
             ],
             [
              0.6666666666666666,
              "#ed7953"
             ],
             [
              0.7777777777777778,
              "#fb9f3a"
             ],
             [
              0.8888888888888888,
              "#fdca26"
             ],
             [
              1,
              "#f0f921"
             ]
            ],
            "type": "histogram2d"
           }
          ],
          "histogram2dcontour": [
           {
            "colorbar": {
             "outlinewidth": 0,
             "ticks": ""
            },
            "colorscale": [
             [
              0,
              "#0d0887"
             ],
             [
              0.1111111111111111,
              "#46039f"
             ],
             [
              0.2222222222222222,
              "#7201a8"
             ],
             [
              0.3333333333333333,
              "#9c179e"
             ],
             [
              0.4444444444444444,
              "#bd3786"
             ],
             [
              0.5555555555555556,
              "#d8576b"
             ],
             [
              0.6666666666666666,
              "#ed7953"
             ],
             [
              0.7777777777777778,
              "#fb9f3a"
             ],
             [
              0.8888888888888888,
              "#fdca26"
             ],
             [
              1,
              "#f0f921"
             ]
            ],
            "type": "histogram2dcontour"
           }
          ],
          "mesh3d": [
           {
            "colorbar": {
             "outlinewidth": 0,
             "ticks": ""
            },
            "type": "mesh3d"
           }
          ],
          "parcoords": [
           {
            "line": {
             "colorbar": {
              "outlinewidth": 0,
              "ticks": ""
             }
            },
            "type": "parcoords"
           }
          ],
          "pie": [
           {
            "automargin": true,
            "type": "pie"
           }
          ],
          "scatter": [
           {
            "marker": {
             "line": {
              "color": "#283442"
             }
            },
            "type": "scatter"
           }
          ],
          "scatter3d": [
           {
            "line": {
             "colorbar": {
              "outlinewidth": 0,
              "ticks": ""
             }
            },
            "marker": {
             "colorbar": {
              "outlinewidth": 0,
              "ticks": ""
             }
            },
            "type": "scatter3d"
           }
          ],
          "scattercarpet": [
           {
            "marker": {
             "colorbar": {
              "outlinewidth": 0,
              "ticks": ""
             }
            },
            "type": "scattercarpet"
           }
          ],
          "scattergeo": [
           {
            "marker": {
             "colorbar": {
              "outlinewidth": 0,
              "ticks": ""
             }
            },
            "type": "scattergeo"
           }
          ],
          "scattergl": [
           {
            "marker": {
             "line": {
              "color": "#283442"
             }
            },
            "type": "scattergl"
           }
          ],
          "scattermap": [
           {
            "marker": {
             "colorbar": {
              "outlinewidth": 0,
              "ticks": ""
             }
            },
            "type": "scattermap"
           }
          ],
          "scattermapbox": [
           {
            "marker": {
             "colorbar": {
              "outlinewidth": 0,
              "ticks": ""
             }
            },
            "type": "scattermapbox"
           }
          ],
          "scatterpolar": [
           {
            "marker": {
             "colorbar": {
              "outlinewidth": 0,
              "ticks": ""
             }
            },
            "type": "scatterpolar"
           }
          ],
          "scatterpolargl": [
           {
            "marker": {
             "colorbar": {
              "outlinewidth": 0,
              "ticks": ""
             }
            },
            "type": "scatterpolargl"
           }
          ],
          "scatterternary": [
           {
            "marker": {
             "colorbar": {
              "outlinewidth": 0,
              "ticks": ""
             }
            },
            "type": "scatterternary"
           }
          ],
          "surface": [
           {
            "colorbar": {
             "outlinewidth": 0,
             "ticks": ""
            },
            "colorscale": [
             [
              0,
              "#0d0887"
             ],
             [
              0.1111111111111111,
              "#46039f"
             ],
             [
              0.2222222222222222,
              "#7201a8"
             ],
             [
              0.3333333333333333,
              "#9c179e"
             ],
             [
              0.4444444444444444,
              "#bd3786"
             ],
             [
              0.5555555555555556,
              "#d8576b"
             ],
             [
              0.6666666666666666,
              "#ed7953"
             ],
             [
              0.7777777777777778,
              "#fb9f3a"
             ],
             [
              0.8888888888888888,
              "#fdca26"
             ],
             [
              1,
              "#f0f921"
             ]
            ],
            "type": "surface"
           }
          ],
          "table": [
           {
            "cells": {
             "fill": {
              "color": "#506784"
             },
             "line": {
              "color": "rgb(17,17,17)"
             }
            },
            "header": {
             "fill": {
              "color": "#2a3f5f"
             },
             "line": {
              "color": "rgb(17,17,17)"
             }
            },
            "type": "table"
           }
          ]
         },
         "layout": {
          "annotationdefaults": {
           "arrowcolor": "#f2f5fa",
           "arrowhead": 0,
           "arrowwidth": 1
          },
          "autotypenumbers": "strict",
          "coloraxis": {
           "colorbar": {
            "outlinewidth": 0,
            "ticks": ""
           }
          },
          "colorscale": {
           "diverging": [
            [
             0,
             "#8e0152"
            ],
            [
             0.1,
             "#c51b7d"
            ],
            [
             0.2,
             "#de77ae"
            ],
            [
             0.3,
             "#f1b6da"
            ],
            [
             0.4,
             "#fde0ef"
            ],
            [
             0.5,
             "#f7f7f7"
            ],
            [
             0.6,
             "#e6f5d0"
            ],
            [
             0.7,
             "#b8e186"
            ],
            [
             0.8,
             "#7fbc41"
            ],
            [
             0.9,
             "#4d9221"
            ],
            [
             1,
             "#276419"
            ]
           ],
           "sequential": [
            [
             0,
             "#0d0887"
            ],
            [
             0.1111111111111111,
             "#46039f"
            ],
            [
             0.2222222222222222,
             "#7201a8"
            ],
            [
             0.3333333333333333,
             "#9c179e"
            ],
            [
             0.4444444444444444,
             "#bd3786"
            ],
            [
             0.5555555555555556,
             "#d8576b"
            ],
            [
             0.6666666666666666,
             "#ed7953"
            ],
            [
             0.7777777777777778,
             "#fb9f3a"
            ],
            [
             0.8888888888888888,
             "#fdca26"
            ],
            [
             1,
             "#f0f921"
            ]
           ],
           "sequentialminus": [
            [
             0,
             "#0d0887"
            ],
            [
             0.1111111111111111,
             "#46039f"
            ],
            [
             0.2222222222222222,
             "#7201a8"
            ],
            [
             0.3333333333333333,
             "#9c179e"
            ],
            [
             0.4444444444444444,
             "#bd3786"
            ],
            [
             0.5555555555555556,
             "#d8576b"
            ],
            [
             0.6666666666666666,
             "#ed7953"
            ],
            [
             0.7777777777777778,
             "#fb9f3a"
            ],
            [
             0.8888888888888888,
             "#fdca26"
            ],
            [
             1,
             "#f0f921"
            ]
           ]
          },
          "colorway": [
           "#636efa",
           "#EF553B",
           "#00cc96",
           "#ab63fa",
           "#FFA15A",
           "#19d3f3",
           "#FF6692",
           "#B6E880",
           "#FF97FF",
           "#FECB52"
          ],
          "font": {
           "color": "#f2f5fa"
          },
          "geo": {
           "bgcolor": "rgb(17,17,17)",
           "lakecolor": "rgb(17,17,17)",
           "landcolor": "rgb(17,17,17)",
           "showlakes": true,
           "showland": true,
           "subunitcolor": "#506784"
          },
          "hoverlabel": {
           "align": "left"
          },
          "hovermode": "closest",
          "mapbox": {
           "style": "dark"
          },
          "paper_bgcolor": "rgb(17,17,17)",
          "plot_bgcolor": "rgb(17,17,17)",
          "polar": {
           "angularaxis": {
            "gridcolor": "#506784",
            "linecolor": "#506784",
            "ticks": ""
           },
           "bgcolor": "rgb(17,17,17)",
           "radialaxis": {
            "gridcolor": "#506784",
            "linecolor": "#506784",
            "ticks": ""
           }
          },
          "scene": {
           "xaxis": {
            "backgroundcolor": "rgb(17,17,17)",
            "gridcolor": "#506784",
            "gridwidth": 2,
            "linecolor": "#506784",
            "showbackground": true,
            "ticks": "",
            "zerolinecolor": "#C8D4E3"
           },
           "yaxis": {
            "backgroundcolor": "rgb(17,17,17)",
            "gridcolor": "#506784",
            "gridwidth": 2,
            "linecolor": "#506784",
            "showbackground": true,
            "ticks": "",
            "zerolinecolor": "#C8D4E3"
           },
           "zaxis": {
            "backgroundcolor": "rgb(17,17,17)",
            "gridcolor": "#506784",
            "gridwidth": 2,
            "linecolor": "#506784",
            "showbackground": true,
            "ticks": "",
            "zerolinecolor": "#C8D4E3"
           }
          },
          "shapedefaults": {
           "line": {
            "color": "#f2f5fa"
           }
          },
          "sliderdefaults": {
           "bgcolor": "#C8D4E3",
           "bordercolor": "rgb(17,17,17)",
           "borderwidth": 1,
           "tickwidth": 0
          },
          "ternary": {
           "aaxis": {
            "gridcolor": "#506784",
            "linecolor": "#506784",
            "ticks": ""
           },
           "baxis": {
            "gridcolor": "#506784",
            "linecolor": "#506784",
            "ticks": ""
           },
           "bgcolor": "rgb(17,17,17)",
           "caxis": {
            "gridcolor": "#506784",
            "linecolor": "#506784",
            "ticks": ""
           }
          },
          "title": {
           "x": 0.05
          },
          "updatemenudefaults": {
           "bgcolor": "#506784",
           "borderwidth": 0
          },
          "xaxis": {
           "automargin": true,
           "gridcolor": "#283442",
           "linecolor": "#506784",
           "ticks": "",
           "title": {
            "standoff": 15
           },
           "zerolinecolor": "#283442",
           "zerolinewidth": 2
          },
          "yaxis": {
           "automargin": true,
           "gridcolor": "#283442",
           "linecolor": "#506784",
           "ticks": "",
           "title": {
            "standoff": 15
           },
           "zerolinecolor": "#283442",
           "zerolinewidth": 2
          }
         }
        },
        "title": {
         "text": "🔎 Correlation to TOP_20 — Season 2023"
        },
        "width": 1000,
        "xaxis": {
         "anchor": "y",
         "domain": [
          0,
          1
         ],
         "tickangle": -45,
         "title": {
          "text": "Feature"
         }
        },
        "yaxis": {
         "anchor": "x",
         "domain": [
          0,
          1
         ],
         "title": {
          "text": "Absolute Correlation to TOP_20"
         }
        }
       }
      }
     },
     "metadata": {},
     "output_type": "display_data"
    },
    {
     "data": {
      "application/vnd.plotly.v1+json": {
       "config": {
        "plotlyServerURL": "https://plot.ly"
       },
       "data": [
        {
         "hovertemplate": "Feature=%{x}<br>Correlation=%{y}<extra></extra>",
         "legendgroup": "",
         "marker": {
          "color": "#636efa",
          "pattern": {
           "shape": ""
          }
         },
         "name": "",
         "orientation": "v",
         "showlegend": false,
         "textposition": "auto",
         "type": "bar",
         "x": [
          "OWGR",
          "SGTTG",
          "SGOTT",
          "SGTTG_RANK",
          "SGOTT_RANK",
          "SGAPR",
          "BIRDIES",
          "form_density",
          "RECENT_FORM",
          "PAR_3",
          "SGAPR_RANK",
          "BIRDIES_RANK",
          "PAR_3_RANK",
          "PAR_5",
          "FEDEX_CUP_POINTS",
          "PAR_5_RANK",
          "PAR_4",
          "adj_form",
          "TOTAL_DRIVING",
          "adj_ch",
          "TOTAL_DRIVING_RANK",
          "PAR_4_RANK",
          "SCRAMBLING",
          "GIR",
          "CONSECUTIVE_CUTS",
          "GIR_RANK",
          "OWGR_RANK",
          "CUT_PERCENTAGE",
          "COURSE_HISTORY",
          "SCRAMBLING_RANK",
          "DRIVING_ACCURACY",
          "DRIVING_ACCURACY_RANK",
          "VEGAS_ODDS",
          "DRIVING_DISTANCE",
          "SGATG_RANK",
          "DRIVING_DISTANCE_RANK",
          "SGP_RANK",
          "SGATG",
          "SGP"
         ],
         "xaxis": "x",
         "y": {
          "bdata": "b82aUOXM3z9Sdnd0fCfdP/44wwcVHds/lNoGoR3Q2T/WYSe9Z7jZP8EqsAyxcNc/2cTNdj8U1z8arI553dzWP6s1ytT7xNY/BCY0IM4b1j87jVNREz/VP3ePG1G7JdU/Tsw7l8mJ1D/bx3is8BrUPznQUM3stdM/ZIiGD6uM0z+UAWyPiArTP5GfX3twctI/5PDPlsZB0T8cMJw8asfQP+Qrhod4p9A/ha316Ol20D/HQhSdRYzOPxNXiX90Yc4/yXecuuZXzD8iqk3WpjbMP4umsGmdAcw/z0yqYakRyj+BT7OWseLJP28vUmUQfsk/d91Gt3mNxj/+QqXxw3LEPy42EOk5OMI/m9CfZAG3vz8ex6s3Iqa4P7uFgWsqAbg/hBTA+AOAtj8A3HxKE3G2PyuA4TXYcbM/",
          "dtype": "f8"
         },
         "yaxis": "y"
        }
       ],
       "layout": {
        "barmode": "relative",
        "height": 500,
        "legend": {
         "tracegroupgap": 0
        },
        "template": {
         "data": {
          "bar": [
           {
            "error_x": {
             "color": "#f2f5fa"
            },
            "error_y": {
             "color": "#f2f5fa"
            },
            "marker": {
             "line": {
              "color": "rgb(17,17,17)",
              "width": 0.5
             },
             "pattern": {
              "fillmode": "overlay",
              "size": 10,
              "solidity": 0.2
             }
            },
            "type": "bar"
           }
          ],
          "barpolar": [
           {
            "marker": {
             "line": {
              "color": "rgb(17,17,17)",
              "width": 0.5
             },
             "pattern": {
              "fillmode": "overlay",
              "size": 10,
              "solidity": 0.2
             }
            },
            "type": "barpolar"
           }
          ],
          "carpet": [
           {
            "aaxis": {
             "endlinecolor": "#A2B1C6",
             "gridcolor": "#506784",
             "linecolor": "#506784",
             "minorgridcolor": "#506784",
             "startlinecolor": "#A2B1C6"
            },
            "baxis": {
             "endlinecolor": "#A2B1C6",
             "gridcolor": "#506784",
             "linecolor": "#506784",
             "minorgridcolor": "#506784",
             "startlinecolor": "#A2B1C6"
            },
            "type": "carpet"
           }
          ],
          "choropleth": [
           {
            "colorbar": {
             "outlinewidth": 0,
             "ticks": ""
            },
            "type": "choropleth"
           }
          ],
          "contour": [
           {
            "colorbar": {
             "outlinewidth": 0,
             "ticks": ""
            },
            "colorscale": [
             [
              0,
              "#0d0887"
             ],
             [
              0.1111111111111111,
              "#46039f"
             ],
             [
              0.2222222222222222,
              "#7201a8"
             ],
             [
              0.3333333333333333,
              "#9c179e"
             ],
             [
              0.4444444444444444,
              "#bd3786"
             ],
             [
              0.5555555555555556,
              "#d8576b"
             ],
             [
              0.6666666666666666,
              "#ed7953"
             ],
             [
              0.7777777777777778,
              "#fb9f3a"
             ],
             [
              0.8888888888888888,
              "#fdca26"
             ],
             [
              1,
              "#f0f921"
             ]
            ],
            "type": "contour"
           }
          ],
          "contourcarpet": [
           {
            "colorbar": {
             "outlinewidth": 0,
             "ticks": ""
            },
            "type": "contourcarpet"
           }
          ],
          "heatmap": [
           {
            "colorbar": {
             "outlinewidth": 0,
             "ticks": ""
            },
            "colorscale": [
             [
              0,
              "#0d0887"
             ],
             [
              0.1111111111111111,
              "#46039f"
             ],
             [
              0.2222222222222222,
              "#7201a8"
             ],
             [
              0.3333333333333333,
              "#9c179e"
             ],
             [
              0.4444444444444444,
              "#bd3786"
             ],
             [
              0.5555555555555556,
              "#d8576b"
             ],
             [
              0.6666666666666666,
              "#ed7953"
             ],
             [
              0.7777777777777778,
              "#fb9f3a"
             ],
             [
              0.8888888888888888,
              "#fdca26"
             ],
             [
              1,
              "#f0f921"
             ]
            ],
            "type": "heatmap"
           }
          ],
          "histogram": [
           {
            "marker": {
             "pattern": {
              "fillmode": "overlay",
              "size": 10,
              "solidity": 0.2
             }
            },
            "type": "histogram"
           }
          ],
          "histogram2d": [
           {
            "colorbar": {
             "outlinewidth": 0,
             "ticks": ""
            },
            "colorscale": [
             [
              0,
              "#0d0887"
             ],
             [
              0.1111111111111111,
              "#46039f"
             ],
             [
              0.2222222222222222,
              "#7201a8"
             ],
             [
              0.3333333333333333,
              "#9c179e"
             ],
             [
              0.4444444444444444,
              "#bd3786"
             ],
             [
              0.5555555555555556,
              "#d8576b"
             ],
             [
              0.6666666666666666,
              "#ed7953"
             ],
             [
              0.7777777777777778,
              "#fb9f3a"
             ],
             [
              0.8888888888888888,
              "#fdca26"
             ],
             [
              1,
              "#f0f921"
             ]
            ],
            "type": "histogram2d"
           }
          ],
          "histogram2dcontour": [
           {
            "colorbar": {
             "outlinewidth": 0,
             "ticks": ""
            },
            "colorscale": [
             [
              0,
              "#0d0887"
             ],
             [
              0.1111111111111111,
              "#46039f"
             ],
             [
              0.2222222222222222,
              "#7201a8"
             ],
             [
              0.3333333333333333,
              "#9c179e"
             ],
             [
              0.4444444444444444,
              "#bd3786"
             ],
             [
              0.5555555555555556,
              "#d8576b"
             ],
             [
              0.6666666666666666,
              "#ed7953"
             ],
             [
              0.7777777777777778,
              "#fb9f3a"
             ],
             [
              0.8888888888888888,
              "#fdca26"
             ],
             [
              1,
              "#f0f921"
             ]
            ],
            "type": "histogram2dcontour"
           }
          ],
          "mesh3d": [
           {
            "colorbar": {
             "outlinewidth": 0,
             "ticks": ""
            },
            "type": "mesh3d"
           }
          ],
          "parcoords": [
           {
            "line": {
             "colorbar": {
              "outlinewidth": 0,
              "ticks": ""
             }
            },
            "type": "parcoords"
           }
          ],
          "pie": [
           {
            "automargin": true,
            "type": "pie"
           }
          ],
          "scatter": [
           {
            "marker": {
             "line": {
              "color": "#283442"
             }
            },
            "type": "scatter"
           }
          ],
          "scatter3d": [
           {
            "line": {
             "colorbar": {
              "outlinewidth": 0,
              "ticks": ""
             }
            },
            "marker": {
             "colorbar": {
              "outlinewidth": 0,
              "ticks": ""
             }
            },
            "type": "scatter3d"
           }
          ],
          "scattercarpet": [
           {
            "marker": {
             "colorbar": {
              "outlinewidth": 0,
              "ticks": ""
             }
            },
            "type": "scattercarpet"
           }
          ],
          "scattergeo": [
           {
            "marker": {
             "colorbar": {
              "outlinewidth": 0,
              "ticks": ""
             }
            },
            "type": "scattergeo"
           }
          ],
          "scattergl": [
           {
            "marker": {
             "line": {
              "color": "#283442"
             }
            },
            "type": "scattergl"
           }
          ],
          "scattermap": [
           {
            "marker": {
             "colorbar": {
              "outlinewidth": 0,
              "ticks": ""
             }
            },
            "type": "scattermap"
           }
          ],
          "scattermapbox": [
           {
            "marker": {
             "colorbar": {
              "outlinewidth": 0,
              "ticks": ""
             }
            },
            "type": "scattermapbox"
           }
          ],
          "scatterpolar": [
           {
            "marker": {
             "colorbar": {
              "outlinewidth": 0,
              "ticks": ""
             }
            },
            "type": "scatterpolar"
           }
          ],
          "scatterpolargl": [
           {
            "marker": {
             "colorbar": {
              "outlinewidth": 0,
              "ticks": ""
             }
            },
            "type": "scatterpolargl"
           }
          ],
          "scatterternary": [
           {
            "marker": {
             "colorbar": {
              "outlinewidth": 0,
              "ticks": ""
             }
            },
            "type": "scatterternary"
           }
          ],
          "surface": [
           {
            "colorbar": {
             "outlinewidth": 0,
             "ticks": ""
            },
            "colorscale": [
             [
              0,
              "#0d0887"
             ],
             [
              0.1111111111111111,
              "#46039f"
             ],
             [
              0.2222222222222222,
              "#7201a8"
             ],
             [
              0.3333333333333333,
              "#9c179e"
             ],
             [
              0.4444444444444444,
              "#bd3786"
             ],
             [
              0.5555555555555556,
              "#d8576b"
             ],
             [
              0.6666666666666666,
              "#ed7953"
             ],
             [
              0.7777777777777778,
              "#fb9f3a"
             ],
             [
              0.8888888888888888,
              "#fdca26"
             ],
             [
              1,
              "#f0f921"
             ]
            ],
            "type": "surface"
           }
          ],
          "table": [
           {
            "cells": {
             "fill": {
              "color": "#506784"
             },
             "line": {
              "color": "rgb(17,17,17)"
             }
            },
            "header": {
             "fill": {
              "color": "#2a3f5f"
             },
             "line": {
              "color": "rgb(17,17,17)"
             }
            },
            "type": "table"
           }
          ]
         },
         "layout": {
          "annotationdefaults": {
           "arrowcolor": "#f2f5fa",
           "arrowhead": 0,
           "arrowwidth": 1
          },
          "autotypenumbers": "strict",
          "coloraxis": {
           "colorbar": {
            "outlinewidth": 0,
            "ticks": ""
           }
          },
          "colorscale": {
           "diverging": [
            [
             0,
             "#8e0152"
            ],
            [
             0.1,
             "#c51b7d"
            ],
            [
             0.2,
             "#de77ae"
            ],
            [
             0.3,
             "#f1b6da"
            ],
            [
             0.4,
             "#fde0ef"
            ],
            [
             0.5,
             "#f7f7f7"
            ],
            [
             0.6,
             "#e6f5d0"
            ],
            [
             0.7,
             "#b8e186"
            ],
            [
             0.8,
             "#7fbc41"
            ],
            [
             0.9,
             "#4d9221"
            ],
            [
             1,
             "#276419"
            ]
           ],
           "sequential": [
            [
             0,
             "#0d0887"
            ],
            [
             0.1111111111111111,
             "#46039f"
            ],
            [
             0.2222222222222222,
             "#7201a8"
            ],
            [
             0.3333333333333333,
             "#9c179e"
            ],
            [
             0.4444444444444444,
             "#bd3786"
            ],
            [
             0.5555555555555556,
             "#d8576b"
            ],
            [
             0.6666666666666666,
             "#ed7953"
            ],
            [
             0.7777777777777778,
             "#fb9f3a"
            ],
            [
             0.8888888888888888,
             "#fdca26"
            ],
            [
             1,
             "#f0f921"
            ]
           ],
           "sequentialminus": [
            [
             0,
             "#0d0887"
            ],
            [
             0.1111111111111111,
             "#46039f"
            ],
            [
             0.2222222222222222,
             "#7201a8"
            ],
            [
             0.3333333333333333,
             "#9c179e"
            ],
            [
             0.4444444444444444,
             "#bd3786"
            ],
            [
             0.5555555555555556,
             "#d8576b"
            ],
            [
             0.6666666666666666,
             "#ed7953"
            ],
            [
             0.7777777777777778,
             "#fb9f3a"
            ],
            [
             0.8888888888888888,
             "#fdca26"
            ],
            [
             1,
             "#f0f921"
            ]
           ]
          },
          "colorway": [
           "#636efa",
           "#EF553B",
           "#00cc96",
           "#ab63fa",
           "#FFA15A",
           "#19d3f3",
           "#FF6692",
           "#B6E880",
           "#FF97FF",
           "#FECB52"
          ],
          "font": {
           "color": "#f2f5fa"
          },
          "geo": {
           "bgcolor": "rgb(17,17,17)",
           "lakecolor": "rgb(17,17,17)",
           "landcolor": "rgb(17,17,17)",
           "showlakes": true,
           "showland": true,
           "subunitcolor": "#506784"
          },
          "hoverlabel": {
           "align": "left"
          },
          "hovermode": "closest",
          "mapbox": {
           "style": "dark"
          },
          "paper_bgcolor": "rgb(17,17,17)",
          "plot_bgcolor": "rgb(17,17,17)",
          "polar": {
           "angularaxis": {
            "gridcolor": "#506784",
            "linecolor": "#506784",
            "ticks": ""
           },
           "bgcolor": "rgb(17,17,17)",
           "radialaxis": {
            "gridcolor": "#506784",
            "linecolor": "#506784",
            "ticks": ""
           }
          },
          "scene": {
           "xaxis": {
            "backgroundcolor": "rgb(17,17,17)",
            "gridcolor": "#506784",
            "gridwidth": 2,
            "linecolor": "#506784",
            "showbackground": true,
            "ticks": "",
            "zerolinecolor": "#C8D4E3"
           },
           "yaxis": {
            "backgroundcolor": "rgb(17,17,17)",
            "gridcolor": "#506784",
            "gridwidth": 2,
            "linecolor": "#506784",
            "showbackground": true,
            "ticks": "",
            "zerolinecolor": "#C8D4E3"
           },
           "zaxis": {
            "backgroundcolor": "rgb(17,17,17)",
            "gridcolor": "#506784",
            "gridwidth": 2,
            "linecolor": "#506784",
            "showbackground": true,
            "ticks": "",
            "zerolinecolor": "#C8D4E3"
           }
          },
          "shapedefaults": {
           "line": {
            "color": "#f2f5fa"
           }
          },
          "sliderdefaults": {
           "bgcolor": "#C8D4E3",
           "bordercolor": "rgb(17,17,17)",
           "borderwidth": 1,
           "tickwidth": 0
          },
          "ternary": {
           "aaxis": {
            "gridcolor": "#506784",
            "linecolor": "#506784",
            "ticks": ""
           },
           "baxis": {
            "gridcolor": "#506784",
            "linecolor": "#506784",
            "ticks": ""
           },
           "bgcolor": "rgb(17,17,17)",
           "caxis": {
            "gridcolor": "#506784",
            "linecolor": "#506784",
            "ticks": ""
           }
          },
          "title": {
           "x": 0.05
          },
          "updatemenudefaults": {
           "bgcolor": "#506784",
           "borderwidth": 0
          },
          "xaxis": {
           "automargin": true,
           "gridcolor": "#283442",
           "linecolor": "#506784",
           "ticks": "",
           "title": {
            "standoff": 15
           },
           "zerolinecolor": "#283442",
           "zerolinewidth": 2
          },
          "yaxis": {
           "automargin": true,
           "gridcolor": "#283442",
           "linecolor": "#506784",
           "ticks": "",
           "title": {
            "standoff": 15
           },
           "zerolinecolor": "#283442",
           "zerolinewidth": 2
          }
         }
        },
        "title": {
         "text": "🔎 Correlation to TOP_20 — Season 2024"
        },
        "width": 1000,
        "xaxis": {
         "anchor": "y",
         "domain": [
          0,
          1
         ],
         "tickangle": -45,
         "title": {
          "text": "Feature"
         }
        },
        "yaxis": {
         "anchor": "x",
         "domain": [
          0,
          1
         ],
         "title": {
          "text": "Absolute Correlation to TOP_20"
         }
        }
       }
      }
     },
     "metadata": {},
     "output_type": "display_data"
    }
   ],
   "source": [
    "import plotly.express as px\n",
    "\n",
    "# Get the 4 most recent seasons (or fewer if not available)\n",
    "available_seasons = sorted(training_df[\"SEASON\"].unique())[-4:]\n",
    "\n",
    "# Dictionary to store correlation results\n",
    "correlation_frames = {}\n",
    "\n",
    "# Calculate correlations for each season\n",
    "for season in available_seasons:\n",
    "    df = training_df[training_df[\"SEASON\"] == season].copy()\n",
    "\n",
    "    # Numeric features only, drop final result\n",
    "    numeric = df.select_dtypes(include=[\"float64\", \"int64\"]).drop(columns=[\"FINAL_POS\", \"SEASON\"], errors=\"ignore\")\n",
    "\n",
    "    # Skip if TOP_20 is not present\n",
    "    if \"TOP_20\" not in numeric.columns:\n",
    "        continue\n",
    "\n",
    "    # Correlation with TOP_20\n",
    "    cor = numeric.corr().abs()[\"TOP_20\"].drop(\"TOP_20\", errors=\"ignore\").sort_values(ascending=False)\n",
    "    cor_df = cor.reset_index()\n",
    "    cor_df.columns = [\"Feature\", \"Correlation\"]\n",
    "    correlation_frames[season] = cor_df\n",
    "\n",
    "# Plot one bar chart per season\n",
    "for season, cor_df in correlation_frames.items():\n",
    "    fig = px.bar(\n",
    "        cor_df,\n",
    "        x=\"Feature\",\n",
    "        y=\"Correlation\",\n",
    "        title=f\"🔎 Correlation to TOP_20 — Season {int(season)}\",\n",
    "        height=500,\n",
    "        width=1000\n",
    "    )\n",
    "\n",
    "    fig.update_layout(\n",
    "        xaxis_title=\"Feature\",\n",
    "        yaxis_title=\"Absolute Correlation to TOP_20\",\n",
    "        template=\"plotly_dark\",\n",
    "        xaxis_tickangle=-45\n",
    "    )\n",
    "\n",
    "    fig.show()\n"
   ]
  },
  {
   "cell_type": "markdown",
   "id": "07c346c9",
   "metadata": {},
   "source": [
    "**Average of Last 4 Years**"
   ]
  },
  {
   "cell_type": "code",
   "execution_count": 23,
   "id": "aee0c2ea",
   "metadata": {},
   "outputs": [
    {
     "data": {
      "application/vnd.plotly.v1+json": {
       "config": {
        "plotlyServerURL": "https://plot.ly"
       },
       "data": [
        {
         "hovertemplate": "Feature=%{x}<br>Avg Correlation=%{y}<extra></extra>",
         "legendgroup": "",
         "marker": {
          "color": "#636efa",
          "pattern": {
           "shape": ""
          }
         },
         "name": "",
         "orientation": "v",
         "showlegend": false,
         "textposition": "auto",
         "type": "bar",
         "x": [
          "OWGR",
          "SGTTG",
          "form_density",
          "SGTTG_RANK",
          "RECENT_FORM",
          "FEDEX_CUP_POINTS",
          "BIRDIES",
          "SGAPR",
          "PAR_5",
          "SGAPR_RANK",
          "PAR_4",
          "SGOTT",
          "PAR_5_RANK",
          "BIRDIES_RANK",
          "SGOTT_RANK",
          "PAR_4_RANK",
          "CUT_PERCENTAGE",
          "OWGR_RANK",
          "VEGAS_ODDS",
          "GIR",
          "PAR_3",
          "PAR_3_RANK",
          "adj_form",
          "CONSECUTIVE_CUTS",
          "TOTAL_DRIVING_RANK",
          "TOTAL_DRIVING",
          "SGATG_RANK",
          "GIR_RANK",
          "SCRAMBLING_RANK",
          "SGATG",
          "SCRAMBLING",
          "DRIVING_DISTANCE",
          "DRIVING_DISTANCE_RANK",
          "adj_ch",
          "SGP",
          "SGP_RANK",
          "COURSE_HISTORY",
          "DRIVING_ACCURACY",
          "DRIVING_ACCURACY_RANK"
         ],
         "xaxis": "x",
         "y": {
          "bdata": "dpm5jQw73j8C/w2EmVzaPyboAZo3xdg/ifKbQVWw2D+zeREF3nbXP7hLk27RbNY/apEFsJVE1D8o8TSfSirUP6aO5YPD79M/rUJHSnlO0z83a0suhhTTP1Kb0qgH1NI/qTBAoGOt0j8Hs8QPisLRP9jufZvtX9E/x16Z7Gce0T9wZGYykhvRPwK7VrkuhdA/dhPMkRl50D9R6qND1wnMP/6xSESQ3cs/z6rEhTyZyz+Ev4mP9hrLPyBe8zb5yco/5BF18Rm4yj/+K8PYFFfKP0b7bf8Ivck/ah7+VrSMyT/2Sean4SDJPy4WLHkYscg/vBQtp5yzxz9fg4cioCbGPwOSC2+OkMM/l1FU1wE1wj8a3KkWGZ+/P6iRJlQP974/dHuctynzvD/ictkpUx63P41ShN0XorY/",
          "dtype": "f8"
         },
         "yaxis": "y"
        }
       ],
       "layout": {
        "barmode": "relative",
        "height": 600,
        "legend": {
         "tracegroupgap": 0
        },
        "showlegend": false,
        "template": {
         "data": {
          "bar": [
           {
            "error_x": {
             "color": "#f2f5fa"
            },
            "error_y": {
             "color": "#f2f5fa"
            },
            "marker": {
             "line": {
              "color": "rgb(17,17,17)",
              "width": 0.5
             },
             "pattern": {
              "fillmode": "overlay",
              "size": 10,
              "solidity": 0.2
             }
            },
            "type": "bar"
           }
          ],
          "barpolar": [
           {
            "marker": {
             "line": {
              "color": "rgb(17,17,17)",
              "width": 0.5
             },
             "pattern": {
              "fillmode": "overlay",
              "size": 10,
              "solidity": 0.2
             }
            },
            "type": "barpolar"
           }
          ],
          "carpet": [
           {
            "aaxis": {
             "endlinecolor": "#A2B1C6",
             "gridcolor": "#506784",
             "linecolor": "#506784",
             "minorgridcolor": "#506784",
             "startlinecolor": "#A2B1C6"
            },
            "baxis": {
             "endlinecolor": "#A2B1C6",
             "gridcolor": "#506784",
             "linecolor": "#506784",
             "minorgridcolor": "#506784",
             "startlinecolor": "#A2B1C6"
            },
            "type": "carpet"
           }
          ],
          "choropleth": [
           {
            "colorbar": {
             "outlinewidth": 0,
             "ticks": ""
            },
            "type": "choropleth"
           }
          ],
          "contour": [
           {
            "colorbar": {
             "outlinewidth": 0,
             "ticks": ""
            },
            "colorscale": [
             [
              0,
              "#0d0887"
             ],
             [
              0.1111111111111111,
              "#46039f"
             ],
             [
              0.2222222222222222,
              "#7201a8"
             ],
             [
              0.3333333333333333,
              "#9c179e"
             ],
             [
              0.4444444444444444,
              "#bd3786"
             ],
             [
              0.5555555555555556,
              "#d8576b"
             ],
             [
              0.6666666666666666,
              "#ed7953"
             ],
             [
              0.7777777777777778,
              "#fb9f3a"
             ],
             [
              0.8888888888888888,
              "#fdca26"
             ],
             [
              1,
              "#f0f921"
             ]
            ],
            "type": "contour"
           }
          ],
          "contourcarpet": [
           {
            "colorbar": {
             "outlinewidth": 0,
             "ticks": ""
            },
            "type": "contourcarpet"
           }
          ],
          "heatmap": [
           {
            "colorbar": {
             "outlinewidth": 0,
             "ticks": ""
            },
            "colorscale": [
             [
              0,
              "#0d0887"
             ],
             [
              0.1111111111111111,
              "#46039f"
             ],
             [
              0.2222222222222222,
              "#7201a8"
             ],
             [
              0.3333333333333333,
              "#9c179e"
             ],
             [
              0.4444444444444444,
              "#bd3786"
             ],
             [
              0.5555555555555556,
              "#d8576b"
             ],
             [
              0.6666666666666666,
              "#ed7953"
             ],
             [
              0.7777777777777778,
              "#fb9f3a"
             ],
             [
              0.8888888888888888,
              "#fdca26"
             ],
             [
              1,
              "#f0f921"
             ]
            ],
            "type": "heatmap"
           }
          ],
          "histogram": [
           {
            "marker": {
             "pattern": {
              "fillmode": "overlay",
              "size": 10,
              "solidity": 0.2
             }
            },
            "type": "histogram"
           }
          ],
          "histogram2d": [
           {
            "colorbar": {
             "outlinewidth": 0,
             "ticks": ""
            },
            "colorscale": [
             [
              0,
              "#0d0887"
             ],
             [
              0.1111111111111111,
              "#46039f"
             ],
             [
              0.2222222222222222,
              "#7201a8"
             ],
             [
              0.3333333333333333,
              "#9c179e"
             ],
             [
              0.4444444444444444,
              "#bd3786"
             ],
             [
              0.5555555555555556,
              "#d8576b"
             ],
             [
              0.6666666666666666,
              "#ed7953"
             ],
             [
              0.7777777777777778,
              "#fb9f3a"
             ],
             [
              0.8888888888888888,
              "#fdca26"
             ],
             [
              1,
              "#f0f921"
             ]
            ],
            "type": "histogram2d"
           }
          ],
          "histogram2dcontour": [
           {
            "colorbar": {
             "outlinewidth": 0,
             "ticks": ""
            },
            "colorscale": [
             [
              0,
              "#0d0887"
             ],
             [
              0.1111111111111111,
              "#46039f"
             ],
             [
              0.2222222222222222,
              "#7201a8"
             ],
             [
              0.3333333333333333,
              "#9c179e"
             ],
             [
              0.4444444444444444,
              "#bd3786"
             ],
             [
              0.5555555555555556,
              "#d8576b"
             ],
             [
              0.6666666666666666,
              "#ed7953"
             ],
             [
              0.7777777777777778,
              "#fb9f3a"
             ],
             [
              0.8888888888888888,
              "#fdca26"
             ],
             [
              1,
              "#f0f921"
             ]
            ],
            "type": "histogram2dcontour"
           }
          ],
          "mesh3d": [
           {
            "colorbar": {
             "outlinewidth": 0,
             "ticks": ""
            },
            "type": "mesh3d"
           }
          ],
          "parcoords": [
           {
            "line": {
             "colorbar": {
              "outlinewidth": 0,
              "ticks": ""
             }
            },
            "type": "parcoords"
           }
          ],
          "pie": [
           {
            "automargin": true,
            "type": "pie"
           }
          ],
          "scatter": [
           {
            "marker": {
             "line": {
              "color": "#283442"
             }
            },
            "type": "scatter"
           }
          ],
          "scatter3d": [
           {
            "line": {
             "colorbar": {
              "outlinewidth": 0,
              "ticks": ""
             }
            },
            "marker": {
             "colorbar": {
              "outlinewidth": 0,
              "ticks": ""
             }
            },
            "type": "scatter3d"
           }
          ],
          "scattercarpet": [
           {
            "marker": {
             "colorbar": {
              "outlinewidth": 0,
              "ticks": ""
             }
            },
            "type": "scattercarpet"
           }
          ],
          "scattergeo": [
           {
            "marker": {
             "colorbar": {
              "outlinewidth": 0,
              "ticks": ""
             }
            },
            "type": "scattergeo"
           }
          ],
          "scattergl": [
           {
            "marker": {
             "line": {
              "color": "#283442"
             }
            },
            "type": "scattergl"
           }
          ],
          "scattermap": [
           {
            "marker": {
             "colorbar": {
              "outlinewidth": 0,
              "ticks": ""
             }
            },
            "type": "scattermap"
           }
          ],
          "scattermapbox": [
           {
            "marker": {
             "colorbar": {
              "outlinewidth": 0,
              "ticks": ""
             }
            },
            "type": "scattermapbox"
           }
          ],
          "scatterpolar": [
           {
            "marker": {
             "colorbar": {
              "outlinewidth": 0,
              "ticks": ""
             }
            },
            "type": "scatterpolar"
           }
          ],
          "scatterpolargl": [
           {
            "marker": {
             "colorbar": {
              "outlinewidth": 0,
              "ticks": ""
             }
            },
            "type": "scatterpolargl"
           }
          ],
          "scatterternary": [
           {
            "marker": {
             "colorbar": {
              "outlinewidth": 0,
              "ticks": ""
             }
            },
            "type": "scatterternary"
           }
          ],
          "surface": [
           {
            "colorbar": {
             "outlinewidth": 0,
             "ticks": ""
            },
            "colorscale": [
             [
              0,
              "#0d0887"
             ],
             [
              0.1111111111111111,
              "#46039f"
             ],
             [
              0.2222222222222222,
              "#7201a8"
             ],
             [
              0.3333333333333333,
              "#9c179e"
             ],
             [
              0.4444444444444444,
              "#bd3786"
             ],
             [
              0.5555555555555556,
              "#d8576b"
             ],
             [
              0.6666666666666666,
              "#ed7953"
             ],
             [
              0.7777777777777778,
              "#fb9f3a"
             ],
             [
              0.8888888888888888,
              "#fdca26"
             ],
             [
              1,
              "#f0f921"
             ]
            ],
            "type": "surface"
           }
          ],
          "table": [
           {
            "cells": {
             "fill": {
              "color": "#506784"
             },
             "line": {
              "color": "rgb(17,17,17)"
             }
            },
            "header": {
             "fill": {
              "color": "#2a3f5f"
             },
             "line": {
              "color": "rgb(17,17,17)"
             }
            },
            "type": "table"
           }
          ]
         },
         "layout": {
          "annotationdefaults": {
           "arrowcolor": "#f2f5fa",
           "arrowhead": 0,
           "arrowwidth": 1
          },
          "autotypenumbers": "strict",
          "coloraxis": {
           "colorbar": {
            "outlinewidth": 0,
            "ticks": ""
           }
          },
          "colorscale": {
           "diverging": [
            [
             0,
             "#8e0152"
            ],
            [
             0.1,
             "#c51b7d"
            ],
            [
             0.2,
             "#de77ae"
            ],
            [
             0.3,
             "#f1b6da"
            ],
            [
             0.4,
             "#fde0ef"
            ],
            [
             0.5,
             "#f7f7f7"
            ],
            [
             0.6,
             "#e6f5d0"
            ],
            [
             0.7,
             "#b8e186"
            ],
            [
             0.8,
             "#7fbc41"
            ],
            [
             0.9,
             "#4d9221"
            ],
            [
             1,
             "#276419"
            ]
           ],
           "sequential": [
            [
             0,
             "#0d0887"
            ],
            [
             0.1111111111111111,
             "#46039f"
            ],
            [
             0.2222222222222222,
             "#7201a8"
            ],
            [
             0.3333333333333333,
             "#9c179e"
            ],
            [
             0.4444444444444444,
             "#bd3786"
            ],
            [
             0.5555555555555556,
             "#d8576b"
            ],
            [
             0.6666666666666666,
             "#ed7953"
            ],
            [
             0.7777777777777778,
             "#fb9f3a"
            ],
            [
             0.8888888888888888,
             "#fdca26"
            ],
            [
             1,
             "#f0f921"
            ]
           ],
           "sequentialminus": [
            [
             0,
             "#0d0887"
            ],
            [
             0.1111111111111111,
             "#46039f"
            ],
            [
             0.2222222222222222,
             "#7201a8"
            ],
            [
             0.3333333333333333,
             "#9c179e"
            ],
            [
             0.4444444444444444,
             "#bd3786"
            ],
            [
             0.5555555555555556,
             "#d8576b"
            ],
            [
             0.6666666666666666,
             "#ed7953"
            ],
            [
             0.7777777777777778,
             "#fb9f3a"
            ],
            [
             0.8888888888888888,
             "#fdca26"
            ],
            [
             1,
             "#f0f921"
            ]
           ]
          },
          "colorway": [
           "#636efa",
           "#EF553B",
           "#00cc96",
           "#ab63fa",
           "#FFA15A",
           "#19d3f3",
           "#FF6692",
           "#B6E880",
           "#FF97FF",
           "#FECB52"
          ],
          "font": {
           "color": "#f2f5fa"
          },
          "geo": {
           "bgcolor": "rgb(17,17,17)",
           "lakecolor": "rgb(17,17,17)",
           "landcolor": "rgb(17,17,17)",
           "showlakes": true,
           "showland": true,
           "subunitcolor": "#506784"
          },
          "hoverlabel": {
           "align": "left"
          },
          "hovermode": "closest",
          "mapbox": {
           "style": "dark"
          },
          "paper_bgcolor": "rgb(17,17,17)",
          "plot_bgcolor": "rgb(17,17,17)",
          "polar": {
           "angularaxis": {
            "gridcolor": "#506784",
            "linecolor": "#506784",
            "ticks": ""
           },
           "bgcolor": "rgb(17,17,17)",
           "radialaxis": {
            "gridcolor": "#506784",
            "linecolor": "#506784",
            "ticks": ""
           }
          },
          "scene": {
           "xaxis": {
            "backgroundcolor": "rgb(17,17,17)",
            "gridcolor": "#506784",
            "gridwidth": 2,
            "linecolor": "#506784",
            "showbackground": true,
            "ticks": "",
            "zerolinecolor": "#C8D4E3"
           },
           "yaxis": {
            "backgroundcolor": "rgb(17,17,17)",
            "gridcolor": "#506784",
            "gridwidth": 2,
            "linecolor": "#506784",
            "showbackground": true,
            "ticks": "",
            "zerolinecolor": "#C8D4E3"
           },
           "zaxis": {
            "backgroundcolor": "rgb(17,17,17)",
            "gridcolor": "#506784",
            "gridwidth": 2,
            "linecolor": "#506784",
            "showbackground": true,
            "ticks": "",
            "zerolinecolor": "#C8D4E3"
           }
          },
          "shapedefaults": {
           "line": {
            "color": "#f2f5fa"
           }
          },
          "sliderdefaults": {
           "bgcolor": "#C8D4E3",
           "bordercolor": "rgb(17,17,17)",
           "borderwidth": 1,
           "tickwidth": 0
          },
          "ternary": {
           "aaxis": {
            "gridcolor": "#506784",
            "linecolor": "#506784",
            "ticks": ""
           },
           "baxis": {
            "gridcolor": "#506784",
            "linecolor": "#506784",
            "ticks": ""
           },
           "bgcolor": "rgb(17,17,17)",
           "caxis": {
            "gridcolor": "#506784",
            "linecolor": "#506784",
            "ticks": ""
           }
          },
          "title": {
           "x": 0.05
          },
          "updatemenudefaults": {
           "bgcolor": "#506784",
           "borderwidth": 0
          },
          "xaxis": {
           "automargin": true,
           "gridcolor": "#283442",
           "linecolor": "#506784",
           "ticks": "",
           "title": {
            "standoff": 15
           },
           "zerolinecolor": "#283442",
           "zerolinewidth": 2
          },
          "yaxis": {
           "automargin": true,
           "gridcolor": "#283442",
           "linecolor": "#506784",
           "ticks": "",
           "title": {
            "standoff": 15
           },
           "zerolinecolor": "#283442",
           "zerolinewidth": 2
          }
         }
        },
        "title": {
         "text": "Average Correlation to TOP_20 (Last 4 Seasons)"
        },
        "width": 1000,
        "xaxis": {
         "anchor": "y",
         "domain": [
          0,
          1
         ],
         "tickangle": -45,
         "title": {
          "text": "Feature"
         }
        },
        "yaxis": {
         "anchor": "x",
         "domain": [
          0,
          1
         ],
         "title": {
          "text": "Avg Correlation"
         }
        }
       }
      }
     },
     "metadata": {},
     "output_type": "display_data"
    }
   ],
   "source": [
    "import pandas as pd\n",
    "import numpy as np\n",
    "import plotly.express as px\n",
    "\n",
    "# === Rebuild correlation matrices for the 4 most recent seasons ===\n",
    "cor = {}\n",
    "recent_seasons = sorted(training_df[\"SEASON\"].unique())[-4:]\n",
    "\n",
    "for season in recent_seasons:\n",
    "    df_season = training_df[training_df[\"SEASON\"] == season].copy()\n",
    "    numeric_cols = df_season.select_dtypes(include=[\"float64\", \"int64\"])\n",
    "    cor[int(season)] = numeric_cols.corr().abs()\n",
    "\n",
    "# === Combine into one summary DataFrame ===\n",
    "cor_df = pd.DataFrame()\n",
    "\n",
    "for season in recent_seasons:\n",
    "    df = cor[season].reset_index()\n",
    "    if \"TOP_20\" not in df.columns:\n",
    "        continue\n",
    "    temp = df[[\"index\", \"TOP_20\"]].copy()\n",
    "    temp = temp.rename(columns={\"TOP_20\": str(season)})\n",
    "    if cor_df.empty:\n",
    "        cor_df = temp\n",
    "    else:\n",
    "        cor_df = cor_df.merge(temp, on=\"index\", how=\"outer\")\n",
    "\n",
    "# Drop target and metadata rows\n",
    "cor_df = cor_df[~cor_df[\"index\"].isin([\"TOP_20\", \"FINAL_POS\", \"SEASON\"])]\n",
    "\n",
    "# Compute average correlation across seasons\n",
    "cor_df[\"AVERAGE\"] = cor_df.drop(columns=[\"index\"]).mean(axis=1)\n",
    "cor_df = cor_df.sort_values(by=\"AVERAGE\", ascending=False)\n",
    "\n",
    "# === Plotly Bar Chart ===\n",
    "fig = px.bar(\n",
    "    cor_df,\n",
    "    x=\"index\",\n",
    "    y=\"AVERAGE\",\n",
    "    title=\"Average Correlation to TOP_20 (Last 4 Seasons)\",\n",
    "    labels={\"index\": \"Feature\", \"AVERAGE\": \"Avg Correlation\"},\n",
    "    template=\"plotly_dark\"\n",
    ")\n",
    "\n",
    "fig.update_layout(\n",
    "    xaxis_tickangle=-45,\n",
    "    height=600,\n",
    "    width=1000,\n",
    "    showlegend=False\n",
    ")\n",
    "\n",
    "fig.show()\n"
   ]
  },
  {
   "cell_type": "markdown",
   "id": "b551789e",
   "metadata": {},
   "source": [
    "# ML Model"
   ]
  },
  {
   "cell_type": "markdown",
   "id": "d7df2d9b",
   "metadata": {},
   "source": [
    "## Predictors"
   ]
  },
  {
   "cell_type": "code",
   "execution_count": 24,
   "id": "7de6b0ed",
   "metadata": {},
   "outputs": [
    {
     "name": "stdout",
     "output_type": "stream",
     "text": [
      "Selected 39 features:\n",
      " ['SGTTG_RANK', 'SGTTG', 'SGOTT_RANK', 'SGOTT', 'SGAPR_RANK', 'SGAPR', 'SGATG_RANK', 'SGATG', 'SGP_RANK', 'SGP', 'BIRDIES_RANK', 'BIRDIES', 'PAR_3_RANK', 'PAR_3', 'PAR_4_RANK', 'PAR_4', 'PAR_5_RANK', 'PAR_5', 'TOTAL_DRIVING_RANK', 'TOTAL_DRIVING', 'DRIVING_DISTANCE_RANK', 'DRIVING_DISTANCE', 'DRIVING_ACCURACY_RANK', 'DRIVING_ACCURACY', 'GIR_RANK', 'GIR', 'SCRAMBLING_RANK', 'SCRAMBLING', 'OWGR_RANK', 'OWGR', 'VEGAS_ODDS', 'CUT_PERCENTAGE', 'FEDEX_CUP_POINTS', 'form_density', 'CONSECUTIVE_CUTS', 'RECENT_FORM', 'adj_form', 'COURSE_HISTORY', 'adj_ch']\n"
     ]
    }
   ],
   "source": [
    "# === Define Features and Target ===\n",
    "target_col = \"TOP_20\"\n",
    "\n",
    "# Columns to exclude from features\n",
    "exclude = [\n",
    "    \"PLAYER\", \"TOURNAMENT\", \"COURSE\", \"ENDING_DATE\", \"SEASON\", \"TOURN_ID\",\n",
    "    \"TOP_20\", \"FINAL_POS\"  \n",
    "]\n",
    "\n",
    "# Select numeric feature columns\n",
    "feature_cols = [\n",
    "    col for col in training_df.columns\n",
    "    if col not in exclude and training_df[col].dtype in [np.float64, np.int64]\n",
    "]\n",
    "\n",
    "print(f\"Selected {len(feature_cols)} features:\\n\", feature_cols)"
   ]
  },
  {
   "cell_type": "markdown",
   "id": "8cb568b3",
   "metadata": {},
   "source": [
    "### Random Forest\n",
    "Initial default model before hyperparameter tuning.\n",
    "\n",
    "This one actually performed really well (ROC AUC above 0.85).  Strangely doing hyperparameter tuning hurt the model (less than 0.7), so I removed that step and we will just use this default model.  This does cross-validation testing on 5 folds to ensure robust train/test splits."
   ]
  },
  {
   "cell_type": "code",
   "execution_count": 25,
   "id": "4879d3d9",
   "metadata": {},
   "outputs": [
    {
     "name": "stdout",
     "output_type": "stream",
     "text": [
      "📊 Random Forest (All Features)\n",
      "Cross-validation scores: [0.910144   0.87904913 0.89109732 0.89235986 0.91659495]\n",
      "Average ROC AUC score: 0.90\n"
     ]
    }
   ],
   "source": [
    "from sklearn.ensemble import RandomForestClassifier\n",
    "from sklearn.model_selection import cross_val_score, StratifiedKFold\n",
    "from sklearn.preprocessing import StandardScaler\n",
    "from imblearn.over_sampling import SMOTE\n",
    "from imblearn.under_sampling import RandomUnderSampler\n",
    "from imblearn.pipeline import Pipeline\n",
    "\n",
    "# === Standardize features ===\n",
    "scaler = StandardScaler()\n",
    "X_rf_std = scaler.fit_transform(training_df[feature_cols])\n",
    "y_rf = training_df[\"TOP_20\"]\n",
    "\n",
    "# === Balance the dataset with SMOTE and undersampling ===\n",
    "over = SMOTE(sampling_strategy=0.5, k_neighbors=3)\n",
    "under = RandomUnderSampler(sampling_strategy=0.5)\n",
    "pipeline = Pipeline([(\"o\", over), (\"u\", under)])\n",
    "X_rf_bal, y_rf_bal = pipeline.fit_resample(X_rf_std, y_rf)\n",
    "\n",
    "# === Define and evaluate Random Forest ===\n",
    "rf = RandomForestClassifier(n_estimators=100, random_state=42)\n",
    "cv = StratifiedKFold(n_splits=5, shuffle=True, random_state=42)\n",
    "scores = cross_val_score(rf, X_rf_bal, y_rf_bal, cv=cv, scoring=\"roc_auc\")\n",
    "\n",
    "print(\"📊 Random Forest (All Features)\")\n",
    "print(\"Cross-validation scores:\", scores)\n",
    "print(\"Average ROC AUC score: {:.2f}\".format(scores.mean()))\n"
   ]
  },
  {
   "cell_type": "markdown",
   "id": "4fe9c753",
   "metadata": {},
   "source": [
    "Random Forest Training & Feature Importance\n",
    "\n",
    "Now we train on all the data (no longer cross-validation folds) and extract the feature importance to see how it compares with linear correlations.\n"
   ]
  },
  {
   "cell_type": "code",
   "execution_count": null,
   "id": "74c2a8b7",
   "metadata": {},
   "outputs": [
    {
     "data": {
      "application/vnd.plotly.v1+json": {
       "config": {
        "plotlyServerURL": "https://plot.ly"
       },
       "data": [
        {
         "hovertemplate": "Feature=%{x}<br>Importance=%{y}<extra></extra>",
         "legendgroup": "",
         "marker": {
          "color": "#636efa",
          "pattern": {
           "shape": ""
          }
         },
         "name": "",
         "orientation": "v",
         "showlegend": false,
         "textposition": "auto",
         "type": "bar",
         "x": [
          "OWGR",
          "OWGR_RANK",
          "VEGAS_ODDS",
          "SGTTG",
          "SGTTG_RANK",
          "SGATG",
          "SGATG_RANK",
          "BIRDIES",
          "RECENT_FORM",
          "adj_form",
          "SGP",
          "CUT_PERCENTAGE",
          "form_density",
          "SGOTT",
          "PAR_5_RANK",
          "SGP_RANK",
          "adj_ch",
          "SGAPR_RANK",
          "FEDEX_CUP_POINTS",
          "SGOTT_RANK",
          "PAR_5",
          "PAR_4",
          "CONSECUTIVE_CUTS",
          "BIRDIES_RANK",
          "DRIVING_DISTANCE",
          "SCRAMBLING",
          "COURSE_HISTORY",
          "SCRAMBLING_RANK",
          "PAR_4_RANK",
          "PAR_3_RANK",
          "SGAPR",
          "PAR_3",
          "DRIVING_ACCURACY_RANK",
          "TOTAL_DRIVING",
          "TOTAL_DRIVING_RANK",
          "DRIVING_DISTANCE_RANK",
          "DRIVING_ACCURACY",
          "GIR",
          "GIR_RANK"
         ],
         "xaxis": "x",
         "y": {
          "bdata": "FgR5LJyUsD9PMd8a8CiwP656MXSwKKg/vGLyUAKKpT9SOcVu+FmlP3Hz23usd6E/eTyi/Q3+oD9UkMozVY+gP6OgJFJdwZ0/qZ/fv39mmj8YKqlFxNGZP2q1t/U/tJg/MsQygx7/lz/3t1j1sO+XP453ll+O3Jc/MSbkWdPPlz9BaYtcpTyXP3T0rVhMApc/YTL+OmvMlj/3/+QyFYmWP2xfDCc/gZY/mFH22gMdlj9Jd34J/ZyVP9z43J3odpU/2tL/W4K5lD+37/6+FYKUPxS3kA0tAJQ/IeghRjvskz+1ds5QDWiTP8B+zn7QPZM/mOFK0GXpkj9Hqd0j0NaSP29ew2FjW5E/OG3HnEVFkT/jNKzgQSqRP/y5HgVIzpA/WiBNRlS1kD8vMQsyqWKQP1SjMEVnF5A/",
          "dtype": "f8"
         },
         "yaxis": "y"
        }
       ],
       "layout": {
        "barmode": "relative",
        "legend": {
         "tracegroupgap": 0
        },
        "template": {
         "data": {
          "bar": [
           {
            "error_x": {
             "color": "#f2f5fa"
            },
            "error_y": {
             "color": "#f2f5fa"
            },
            "marker": {
             "line": {
              "color": "rgb(17,17,17)",
              "width": 0.5
             },
             "pattern": {
              "fillmode": "overlay",
              "size": 10,
              "solidity": 0.2
             }
            },
            "type": "bar"
           }
          ],
          "barpolar": [
           {
            "marker": {
             "line": {
              "color": "rgb(17,17,17)",
              "width": 0.5
             },
             "pattern": {
              "fillmode": "overlay",
              "size": 10,
              "solidity": 0.2
             }
            },
            "type": "barpolar"
           }
          ],
          "carpet": [
           {
            "aaxis": {
             "endlinecolor": "#A2B1C6",
             "gridcolor": "#506784",
             "linecolor": "#506784",
             "minorgridcolor": "#506784",
             "startlinecolor": "#A2B1C6"
            },
            "baxis": {
             "endlinecolor": "#A2B1C6",
             "gridcolor": "#506784",
             "linecolor": "#506784",
             "minorgridcolor": "#506784",
             "startlinecolor": "#A2B1C6"
            },
            "type": "carpet"
           }
          ],
          "choropleth": [
           {
            "colorbar": {
             "outlinewidth": 0,
             "ticks": ""
            },
            "type": "choropleth"
           }
          ],
          "contour": [
           {
            "colorbar": {
             "outlinewidth": 0,
             "ticks": ""
            },
            "colorscale": [
             [
              0,
              "#0d0887"
             ],
             [
              0.1111111111111111,
              "#46039f"
             ],
             [
              0.2222222222222222,
              "#7201a8"
             ],
             [
              0.3333333333333333,
              "#9c179e"
             ],
             [
              0.4444444444444444,
              "#bd3786"
             ],
             [
              0.5555555555555556,
              "#d8576b"
             ],
             [
              0.6666666666666666,
              "#ed7953"
             ],
             [
              0.7777777777777778,
              "#fb9f3a"
             ],
             [
              0.8888888888888888,
              "#fdca26"
             ],
             [
              1,
              "#f0f921"
             ]
            ],
            "type": "contour"
           }
          ],
          "contourcarpet": [
           {
            "colorbar": {
             "outlinewidth": 0,
             "ticks": ""
            },
            "type": "contourcarpet"
           }
          ],
          "heatmap": [
           {
            "colorbar": {
             "outlinewidth": 0,
             "ticks": ""
            },
            "colorscale": [
             [
              0,
              "#0d0887"
             ],
             [
              0.1111111111111111,
              "#46039f"
             ],
             [
              0.2222222222222222,
              "#7201a8"
             ],
             [
              0.3333333333333333,
              "#9c179e"
             ],
             [
              0.4444444444444444,
              "#bd3786"
             ],
             [
              0.5555555555555556,
              "#d8576b"
             ],
             [
              0.6666666666666666,
              "#ed7953"
             ],
             [
              0.7777777777777778,
              "#fb9f3a"
             ],
             [
              0.8888888888888888,
              "#fdca26"
             ],
             [
              1,
              "#f0f921"
             ]
            ],
            "type": "heatmap"
           }
          ],
          "histogram": [
           {
            "marker": {
             "pattern": {
              "fillmode": "overlay",
              "size": 10,
              "solidity": 0.2
             }
            },
            "type": "histogram"
           }
          ],
          "histogram2d": [
           {
            "colorbar": {
             "outlinewidth": 0,
             "ticks": ""
            },
            "colorscale": [
             [
              0,
              "#0d0887"
             ],
             [
              0.1111111111111111,
              "#46039f"
             ],
             [
              0.2222222222222222,
              "#7201a8"
             ],
             [
              0.3333333333333333,
              "#9c179e"
             ],
             [
              0.4444444444444444,
              "#bd3786"
             ],
             [
              0.5555555555555556,
              "#d8576b"
             ],
             [
              0.6666666666666666,
              "#ed7953"
             ],
             [
              0.7777777777777778,
              "#fb9f3a"
             ],
             [
              0.8888888888888888,
              "#fdca26"
             ],
             [
              1,
              "#f0f921"
             ]
            ],
            "type": "histogram2d"
           }
          ],
          "histogram2dcontour": [
           {
            "colorbar": {
             "outlinewidth": 0,
             "ticks": ""
            },
            "colorscale": [
             [
              0,
              "#0d0887"
             ],
             [
              0.1111111111111111,
              "#46039f"
             ],
             [
              0.2222222222222222,
              "#7201a8"
             ],
             [
              0.3333333333333333,
              "#9c179e"
             ],
             [
              0.4444444444444444,
              "#bd3786"
             ],
             [
              0.5555555555555556,
              "#d8576b"
             ],
             [
              0.6666666666666666,
              "#ed7953"
             ],
             [
              0.7777777777777778,
              "#fb9f3a"
             ],
             [
              0.8888888888888888,
              "#fdca26"
             ],
             [
              1,
              "#f0f921"
             ]
            ],
            "type": "histogram2dcontour"
           }
          ],
          "mesh3d": [
           {
            "colorbar": {
             "outlinewidth": 0,
             "ticks": ""
            },
            "type": "mesh3d"
           }
          ],
          "parcoords": [
           {
            "line": {
             "colorbar": {
              "outlinewidth": 0,
              "ticks": ""
             }
            },
            "type": "parcoords"
           }
          ],
          "pie": [
           {
            "automargin": true,
            "type": "pie"
           }
          ],
          "scatter": [
           {
            "marker": {
             "line": {
              "color": "#283442"
             }
            },
            "type": "scatter"
           }
          ],
          "scatter3d": [
           {
            "line": {
             "colorbar": {
              "outlinewidth": 0,
              "ticks": ""
             }
            },
            "marker": {
             "colorbar": {
              "outlinewidth": 0,
              "ticks": ""
             }
            },
            "type": "scatter3d"
           }
          ],
          "scattercarpet": [
           {
            "marker": {
             "colorbar": {
              "outlinewidth": 0,
              "ticks": ""
             }
            },
            "type": "scattercarpet"
           }
          ],
          "scattergeo": [
           {
            "marker": {
             "colorbar": {
              "outlinewidth": 0,
              "ticks": ""
             }
            },
            "type": "scattergeo"
           }
          ],
          "scattergl": [
           {
            "marker": {
             "line": {
              "color": "#283442"
             }
            },
            "type": "scattergl"
           }
          ],
          "scattermap": [
           {
            "marker": {
             "colorbar": {
              "outlinewidth": 0,
              "ticks": ""
             }
            },
            "type": "scattermap"
           }
          ],
          "scattermapbox": [
           {
            "marker": {
             "colorbar": {
              "outlinewidth": 0,
              "ticks": ""
             }
            },
            "type": "scattermapbox"
           }
          ],
          "scatterpolar": [
           {
            "marker": {
             "colorbar": {
              "outlinewidth": 0,
              "ticks": ""
             }
            },
            "type": "scatterpolar"
           }
          ],
          "scatterpolargl": [
           {
            "marker": {
             "colorbar": {
              "outlinewidth": 0,
              "ticks": ""
             }
            },
            "type": "scatterpolargl"
           }
          ],
          "scatterternary": [
           {
            "marker": {
             "colorbar": {
              "outlinewidth": 0,
              "ticks": ""
             }
            },
            "type": "scatterternary"
           }
          ],
          "surface": [
           {
            "colorbar": {
             "outlinewidth": 0,
             "ticks": ""
            },
            "colorscale": [
             [
              0,
              "#0d0887"
             ],
             [
              0.1111111111111111,
              "#46039f"
             ],
             [
              0.2222222222222222,
              "#7201a8"
             ],
             [
              0.3333333333333333,
              "#9c179e"
             ],
             [
              0.4444444444444444,
              "#bd3786"
             ],
             [
              0.5555555555555556,
              "#d8576b"
             ],
             [
              0.6666666666666666,
              "#ed7953"
             ],
             [
              0.7777777777777778,
              "#fb9f3a"
             ],
             [
              0.8888888888888888,
              "#fdca26"
             ],
             [
              1,
              "#f0f921"
             ]
            ],
            "type": "surface"
           }
          ],
          "table": [
           {
            "cells": {
             "fill": {
              "color": "#506784"
             },
             "line": {
              "color": "rgb(17,17,17)"
             }
            },
            "header": {
             "fill": {
              "color": "#2a3f5f"
             },
             "line": {
              "color": "rgb(17,17,17)"
             }
            },
            "type": "table"
           }
          ]
         },
         "layout": {
          "annotationdefaults": {
           "arrowcolor": "#f2f5fa",
           "arrowhead": 0,
           "arrowwidth": 1
          },
          "autotypenumbers": "strict",
          "coloraxis": {
           "colorbar": {
            "outlinewidth": 0,
            "ticks": ""
           }
          },
          "colorscale": {
           "diverging": [
            [
             0,
             "#8e0152"
            ],
            [
             0.1,
             "#c51b7d"
            ],
            [
             0.2,
             "#de77ae"
            ],
            [
             0.3,
             "#f1b6da"
            ],
            [
             0.4,
             "#fde0ef"
            ],
            [
             0.5,
             "#f7f7f7"
            ],
            [
             0.6,
             "#e6f5d0"
            ],
            [
             0.7,
             "#b8e186"
            ],
            [
             0.8,
             "#7fbc41"
            ],
            [
             0.9,
             "#4d9221"
            ],
            [
             1,
             "#276419"
            ]
           ],
           "sequential": [
            [
             0,
             "#0d0887"
            ],
            [
             0.1111111111111111,
             "#46039f"
            ],
            [
             0.2222222222222222,
             "#7201a8"
            ],
            [
             0.3333333333333333,
             "#9c179e"
            ],
            [
             0.4444444444444444,
             "#bd3786"
            ],
            [
             0.5555555555555556,
             "#d8576b"
            ],
            [
             0.6666666666666666,
             "#ed7953"
            ],
            [
             0.7777777777777778,
             "#fb9f3a"
            ],
            [
             0.8888888888888888,
             "#fdca26"
            ],
            [
             1,
             "#f0f921"
            ]
           ],
           "sequentialminus": [
            [
             0,
             "#0d0887"
            ],
            [
             0.1111111111111111,
             "#46039f"
            ],
            [
             0.2222222222222222,
             "#7201a8"
            ],
            [
             0.3333333333333333,
             "#9c179e"
            ],
            [
             0.4444444444444444,
             "#bd3786"
            ],
            [
             0.5555555555555556,
             "#d8576b"
            ],
            [
             0.6666666666666666,
             "#ed7953"
            ],
            [
             0.7777777777777778,
             "#fb9f3a"
            ],
            [
             0.8888888888888888,
             "#fdca26"
            ],
            [
             1,
             "#f0f921"
            ]
           ]
          },
          "colorway": [
           "#636efa",
           "#EF553B",
           "#00cc96",
           "#ab63fa",
           "#FFA15A",
           "#19d3f3",
           "#FF6692",
           "#B6E880",
           "#FF97FF",
           "#FECB52"
          ],
          "font": {
           "color": "#f2f5fa"
          },
          "geo": {
           "bgcolor": "rgb(17,17,17)",
           "lakecolor": "rgb(17,17,17)",
           "landcolor": "rgb(17,17,17)",
           "showlakes": true,
           "showland": true,
           "subunitcolor": "#506784"
          },
          "hoverlabel": {
           "align": "left"
          },
          "hovermode": "closest",
          "mapbox": {
           "style": "dark"
          },
          "paper_bgcolor": "rgb(17,17,17)",
          "plot_bgcolor": "rgb(17,17,17)",
          "polar": {
           "angularaxis": {
            "gridcolor": "#506784",
            "linecolor": "#506784",
            "ticks": ""
           },
           "bgcolor": "rgb(17,17,17)",
           "radialaxis": {
            "gridcolor": "#506784",
            "linecolor": "#506784",
            "ticks": ""
           }
          },
          "scene": {
           "xaxis": {
            "backgroundcolor": "rgb(17,17,17)",
            "gridcolor": "#506784",
            "gridwidth": 2,
            "linecolor": "#506784",
            "showbackground": true,
            "ticks": "",
            "zerolinecolor": "#C8D4E3"
           },
           "yaxis": {
            "backgroundcolor": "rgb(17,17,17)",
            "gridcolor": "#506784",
            "gridwidth": 2,
            "linecolor": "#506784",
            "showbackground": true,
            "ticks": "",
            "zerolinecolor": "#C8D4E3"
           },
           "zaxis": {
            "backgroundcolor": "rgb(17,17,17)",
            "gridcolor": "#506784",
            "gridwidth": 2,
            "linecolor": "#506784",
            "showbackground": true,
            "ticks": "",
            "zerolinecolor": "#C8D4E3"
           }
          },
          "shapedefaults": {
           "line": {
            "color": "#f2f5fa"
           }
          },
          "sliderdefaults": {
           "bgcolor": "#C8D4E3",
           "bordercolor": "rgb(17,17,17)",
           "borderwidth": 1,
           "tickwidth": 0
          },
          "ternary": {
           "aaxis": {
            "gridcolor": "#506784",
            "linecolor": "#506784",
            "ticks": ""
           },
           "baxis": {
            "gridcolor": "#506784",
            "linecolor": "#506784",
            "ticks": ""
           },
           "bgcolor": "rgb(17,17,17)",
           "caxis": {
            "gridcolor": "#506784",
            "linecolor": "#506784",
            "ticks": ""
           }
          },
          "title": {
           "x": 0.05
          },
          "updatemenudefaults": {
           "bgcolor": "#506784",
           "borderwidth": 0
          },
          "xaxis": {
           "automargin": true,
           "gridcolor": "#283442",
           "linecolor": "#506784",
           "ticks": "",
           "title": {
            "standoff": 15
           },
           "zerolinecolor": "#283442",
           "zerolinewidth": 2
          },
          "yaxis": {
           "automargin": true,
           "gridcolor": "#283442",
           "linecolor": "#506784",
           "ticks": "",
           "title": {
            "standoff": 15
           },
           "zerolinecolor": "#283442",
           "zerolinewidth": 2
          }
         }
        },
        "title": {
         "text": "Random Forest Feature Importances"
        },
        "xaxis": {
         "anchor": "y",
         "domain": [
          0,
          1
         ],
         "tickangle": -45,
         "title": {
          "text": "Feature"
         }
        },
        "yaxis": {
         "anchor": "x",
         "domain": [
          0,
          1
         ],
         "title": {
          "text": "Importance"
         }
        }
       }
      }
     },
     "metadata": {},
     "output_type": "display_data"
    }
   ],
   "source": [
    "from sklearn.ensemble import RandomForestClassifier\n",
    "from sklearn.calibration import CalibratedClassifierCV\n",
    "from sklearn.preprocessing import StandardScaler\n",
    "from imblearn.pipeline import Pipeline\n",
    "from imblearn.over_sampling import SMOTE\n",
    "from imblearn.under_sampling import RandomUnderSampler\n",
    "import pandas as pd\n",
    "import plotly.express as px\n",
    "\n",
    "# === Resample the full dataset ===\n",
    "over = SMOTE(sampling_strategy=0.5, k_neighbors=3)\n",
    "under = RandomUnderSampler(sampling_strategy=0.5)\n",
    "resample_pipeline = Pipeline([(\"o\", over), (\"u\", under)])\n",
    "X_all_resampled, y_all_resampled = resample_pipeline.fit_resample(\n",
    "    training_df[feature_cols], training_df[\"TOP_20\"]\n",
    ")\n",
    "\n",
    "# === Standardize ===\n",
    "scaler = StandardScaler()\n",
    "X_all_scaled = scaler.fit_transform(X_all_resampled)\n",
    "\n",
    "# === Train Calibrated Random Forest ===\n",
    "base_rf = RandomForestClassifier(random_state=42)\n",
    "final_model = CalibratedClassifierCV(estimator=base_rf, method=\"sigmoid\", cv=5)\n",
    "final_model.fit(X_all_scaled, y_all_resampled)\n",
    "\n",
    "# === Aggregate feature importances across all CV folds ===\n",
    "all_importances = np.array([\n",
    "    est.estimator.feature_importances_ for est in final_model.calibrated_classifiers_\n",
    "])\n",
    "mean_importance = all_importances.mean(axis=0)\n",
    "\n",
    "importance_df = pd.DataFrame({\n",
    "    \"Feature\": feature_cols,\n",
    "    \"Importance\": mean_importance\n",
    "}).sort_values(by=\"Importance\", ascending=False)\n",
    "\n",
    "# === Plot feature importances ===\n",
    "fig = px.bar(\n",
    "    importance_df,\n",
    "    x=\"Feature\",\n",
    "    y=\"Importance\",\n",
    "    title=\"Random Forest Feature Importances\",\n",
    "    template=\"plotly_dark\"\n",
    ")\n",
    "fig.update_layout(xaxis_tickangle=-45)\n",
    "fig.show()\n"
   ]
  },
  {
   "cell_type": "markdown",
   "id": "e5e84f8a",
   "metadata": {},
   "source": [
    "Use this model on this week's data to predict the best performers."
   ]
  },
  {
   "cell_type": "code",
   "execution_count": 27,
   "id": "f0bf9b7d",
   "metadata": {},
   "outputs": [
    {
     "data": {
      "text/html": [
       "<div>\n",
       "<style scoped>\n",
       "    .dataframe tbody tr th:only-of-type {\n",
       "        vertical-align: middle;\n",
       "    }\n",
       "\n",
       "    .dataframe tbody tr th {\n",
       "        vertical-align: top;\n",
       "    }\n",
       "\n",
       "    .dataframe thead th {\n",
       "        text-align: right;\n",
       "    }\n",
       "</style>\n",
       "<table border=\"1\" class=\"dataframe\">\n",
       "  <thead>\n",
       "    <tr style=\"text-align: right;\">\n",
       "      <th></th>\n",
       "      <th>PLAYER</th>\n",
       "      <th>SALARY</th>\n",
       "      <th>PROBABILITY</th>\n",
       "      <th>RECENT_FORM</th>\n",
       "      <th>COURSE_HISTORY</th>\n",
       "      <th>VEGAS_ODDS</th>\n",
       "      <th>CUT_PERCENTAGE</th>\n",
       "      <th>OWGR_RANK</th>\n",
       "      <th>FEDEX_CUP_POINTS</th>\n",
       "      <th>SGTTG_RANK</th>\n",
       "      <th>SGOTT_RANK</th>\n",
       "      <th>SGAPR_RANK</th>\n",
       "      <th>SGATG_RANK</th>\n",
       "      <th>SGP_RANK</th>\n",
       "      <th>BIRDIES_RANK</th>\n",
       "      <th>PAR_3_RANK</th>\n",
       "      <th>PAR_4_RANK</th>\n",
       "      <th>PAR_5_RANK</th>\n",
       "      <th>TOTAL_DRIVING_RANK</th>\n",
       "      <th>DRIVING_DISTANCE_RANK</th>\n",
       "      <th>DRIVING_ACCURACY_RANK</th>\n",
       "      <th>GIR_RANK</th>\n",
       "      <th>SCRAMBLING_RANK</th>\n",
       "    </tr>\n",
       "  </thead>\n",
       "  <tbody>\n",
       "    <tr>\n",
       "      <th>0</th>\n",
       "      <td>Shane Lowry</td>\n",
       "      <td>8700</td>\n",
       "      <td>0.814180</td>\n",
       "      <td>29.9</td>\n",
       "      <td>40.8</td>\n",
       "      <td>35.00</td>\n",
       "      <td>81.8</td>\n",
       "      <td>14.0</td>\n",
       "      <td>1273.139</td>\n",
       "      <td>2.0</td>\n",
       "      <td>34.0</td>\n",
       "      <td>6.0</td>\n",
       "      <td>18.0</td>\n",
       "      <td>86.0</td>\n",
       "      <td>58.0</td>\n",
       "      <td>9.0</td>\n",
       "      <td>19.0</td>\n",
       "      <td>139.0</td>\n",
       "      <td>77.0</td>\n",
       "      <td>142.0</td>\n",
       "      <td>28.0</td>\n",
       "      <td>67.0</td>\n",
       "      <td>20.0</td>\n",
       "    </tr>\n",
       "    <tr>\n",
       "      <th>1</th>\n",
       "      <td>Collin Morikawa</td>\n",
       "      <td>9900</td>\n",
       "      <td>0.757324</td>\n",
       "      <td>23.7</td>\n",
       "      <td>46.4</td>\n",
       "      <td>16.00</td>\n",
       "      <td>100.0</td>\n",
       "      <td>4.0</td>\n",
       "      <td>1241.158</td>\n",
       "      <td>6.0</td>\n",
       "      <td>22.0</td>\n",
       "      <td>7.0</td>\n",
       "      <td>76.0</td>\n",
       "      <td>54.0</td>\n",
       "      <td>3.0</td>\n",
       "      <td>2.0</td>\n",
       "      <td>32.0</td>\n",
       "      <td>22.0</td>\n",
       "      <td>49.0</td>\n",
       "      <td>153.0</td>\n",
       "      <td>2.0</td>\n",
       "      <td>19.0</td>\n",
       "      <td>105.0</td>\n",
       "    </tr>\n",
       "    <tr>\n",
       "      <th>2</th>\n",
       "      <td>Justin Thomas</td>\n",
       "      <td>10100</td>\n",
       "      <td>0.736368</td>\n",
       "      <td>21.1</td>\n",
       "      <td>46.8</td>\n",
       "      <td>20.00</td>\n",
       "      <td>92.9</td>\n",
       "      <td>5.0</td>\n",
       "      <td>2043.984</td>\n",
       "      <td>8.0</td>\n",
       "      <td>100.0</td>\n",
       "      <td>5.0</td>\n",
       "      <td>21.0</td>\n",
       "      <td>17.0</td>\n",
       "      <td>1.0</td>\n",
       "      <td>84.0</td>\n",
       "      <td>2.0</td>\n",
       "      <td>36.0</td>\n",
       "      <td>67.0</td>\n",
       "      <td>55.0</td>\n",
       "      <td>111.0</td>\n",
       "      <td>43.0</td>\n",
       "      <td>114.0</td>\n",
       "    </tr>\n",
       "    <tr>\n",
       "      <th>3</th>\n",
       "      <td>Daniel Berger</td>\n",
       "      <td>8600</td>\n",
       "      <td>0.715518</td>\n",
       "      <td>34.2</td>\n",
       "      <td>47.5</td>\n",
       "      <td>35.00</td>\n",
       "      <td>81.0</td>\n",
       "      <td>28.0</td>\n",
       "      <td>1473.408</td>\n",
       "      <td>4.0</td>\n",
       "      <td>12.0</td>\n",
       "      <td>15.0</td>\n",
       "      <td>32.0</td>\n",
       "      <td>100.0</td>\n",
       "      <td>73.0</td>\n",
       "      <td>145.0</td>\n",
       "      <td>5.0</td>\n",
       "      <td>75.0</td>\n",
       "      <td>13.0</td>\n",
       "      <td>95.0</td>\n",
       "      <td>8.0</td>\n",
       "      <td>25.0</td>\n",
       "      <td>16.0</td>\n",
       "    </tr>\n",
       "    <tr>\n",
       "      <th>4</th>\n",
       "      <td>Scottie Scheffler</td>\n",
       "      <td>13300</td>\n",
       "      <td>0.699625</td>\n",
       "      <td>7.4</td>\n",
       "      <td>7.3</td>\n",
       "      <td>2.75</td>\n",
       "      <td>100.0</td>\n",
       "      <td>1.0</td>\n",
       "      <td>2800.967</td>\n",
       "      <td>1.0</td>\n",
       "      <td>2.0</td>\n",
       "      <td>1.0</td>\n",
       "      <td>63.0</td>\n",
       "      <td>23.0</td>\n",
       "      <td>4.0</td>\n",
       "      <td>30.0</td>\n",
       "      <td>1.0</td>\n",
       "      <td>1.0</td>\n",
       "      <td>7.0</td>\n",
       "      <td>68.0</td>\n",
       "      <td>26.0</td>\n",
       "      <td>3.0</td>\n",
       "      <td>2.0</td>\n",
       "    </tr>\n",
       "    <tr>\n",
       "      <th>5</th>\n",
       "      <td>Si Woo Kim</td>\n",
       "      <td>8300</td>\n",
       "      <td>0.698274</td>\n",
       "      <td>40.5</td>\n",
       "      <td>18.4</td>\n",
       "      <td>40.00</td>\n",
       "      <td>72.2</td>\n",
       "      <td>59.0</td>\n",
       "      <td>757.596</td>\n",
       "      <td>14.0</td>\n",
       "      <td>39.0</td>\n",
       "      <td>52.0</td>\n",
       "      <td>12.0</td>\n",
       "      <td>118.0</td>\n",
       "      <td>18.0</td>\n",
       "      <td>135.0</td>\n",
       "      <td>19.0</td>\n",
       "      <td>1.0</td>\n",
       "      <td>69.0</td>\n",
       "      <td>134.0</td>\n",
       "      <td>33.0</td>\n",
       "      <td>71.0</td>\n",
       "      <td>38.0</td>\n",
       "    </tr>\n",
       "    <tr>\n",
       "      <th>6</th>\n",
       "      <td>Tommy Fleetwood</td>\n",
       "      <td>9400</td>\n",
       "      <td>0.690054</td>\n",
       "      <td>18.8</td>\n",
       "      <td>20.0</td>\n",
       "      <td>20.00</td>\n",
       "      <td>100.0</td>\n",
       "      <td>12.0</td>\n",
       "      <td>1254.898</td>\n",
       "      <td>7.0</td>\n",
       "      <td>43.0</td>\n",
       "      <td>11.0</td>\n",
       "      <td>17.0</td>\n",
       "      <td>55.0</td>\n",
       "      <td>55.0</td>\n",
       "      <td>151.0</td>\n",
       "      <td>12.0</td>\n",
       "      <td>75.0</td>\n",
       "      <td>39.0</td>\n",
       "      <td>118.0</td>\n",
       "      <td>31.0</td>\n",
       "      <td>115.0</td>\n",
       "      <td>50.0</td>\n",
       "    </tr>\n",
       "    <tr>\n",
       "      <th>7</th>\n",
       "      <td>Keegan Bradley</td>\n",
       "      <td>8000</td>\n",
       "      <td>0.684378</td>\n",
       "      <td>27.5</td>\n",
       "      <td>54.4</td>\n",
       "      <td>40.00</td>\n",
       "      <td>92.3</td>\n",
       "      <td>18.0</td>\n",
       "      <td>797.717</td>\n",
       "      <td>5.0</td>\n",
       "      <td>23.0</td>\n",
       "      <td>13.0</td>\n",
       "      <td>19.0</td>\n",
       "      <td>148.0</td>\n",
       "      <td>63.0</td>\n",
       "      <td>135.0</td>\n",
       "      <td>19.0</td>\n",
       "      <td>58.0</td>\n",
       "      <td>18.0</td>\n",
       "      <td>65.0</td>\n",
       "      <td>45.0</td>\n",
       "      <td>55.0</td>\n",
       "      <td>105.0</td>\n",
       "    </tr>\n",
       "    <tr>\n",
       "      <th>8</th>\n",
       "      <td>Hideki Matsuyama</td>\n",
       "      <td>9000</td>\n",
       "      <td>0.675841</td>\n",
       "      <td>39.1</td>\n",
       "      <td>32.5</td>\n",
       "      <td>35.00</td>\n",
       "      <td>78.6</td>\n",
       "      <td>7.0</td>\n",
       "      <td>1073.294</td>\n",
       "      <td>17.0</td>\n",
       "      <td>103.0</td>\n",
       "      <td>30.0</td>\n",
       "      <td>6.0</td>\n",
       "      <td>61.0</td>\n",
       "      <td>49.0</td>\n",
       "      <td>9.0</td>\n",
       "      <td>44.0</td>\n",
       "      <td>29.0</td>\n",
       "      <td>148.0</td>\n",
       "      <td>92.0</td>\n",
       "      <td>130.0</td>\n",
       "      <td>77.0</td>\n",
       "      <td>3.0</td>\n",
       "    </tr>\n",
       "    <tr>\n",
       "      <th>9</th>\n",
       "      <td>Jordan Spieth</td>\n",
       "      <td>8500</td>\n",
       "      <td>0.623208</td>\n",
       "      <td>35.9</td>\n",
       "      <td>34.4</td>\n",
       "      <td>50.00</td>\n",
       "      <td>84.6</td>\n",
       "      <td>51.0</td>\n",
       "      <td>601.338</td>\n",
       "      <td>29.0</td>\n",
       "      <td>30.0</td>\n",
       "      <td>75.0</td>\n",
       "      <td>44.0</td>\n",
       "      <td>69.0</td>\n",
       "      <td>72.0</td>\n",
       "      <td>135.0</td>\n",
       "      <td>32.0</td>\n",
       "      <td>22.0</td>\n",
       "      <td>25.0</td>\n",
       "      <td>43.0</td>\n",
       "      <td>81.0</td>\n",
       "      <td>73.0</td>\n",
       "      <td>58.0</td>\n",
       "    </tr>\n",
       "    <tr>\n",
       "      <th>10</th>\n",
       "      <td>Sungjae Im</td>\n",
       "      <td>8100</td>\n",
       "      <td>0.598074</td>\n",
       "      <td>40.6</td>\n",
       "      <td>49.3</td>\n",
       "      <td>50.00</td>\n",
       "      <td>76.5</td>\n",
       "      <td>21.0</td>\n",
       "      <td>1042.772</td>\n",
       "      <td>89.0</td>\n",
       "      <td>18.0</td>\n",
       "      <td>172.0</td>\n",
       "      <td>14.0</td>\n",
       "      <td>25.0</td>\n",
       "      <td>10.0</td>\n",
       "      <td>145.0</td>\n",
       "      <td>12.0</td>\n",
       "      <td>9.0</td>\n",
       "      <td>52.0</td>\n",
       "      <td>148.0</td>\n",
       "      <td>10.0</td>\n",
       "      <td>123.0</td>\n",
       "      <td>61.0</td>\n",
       "    </tr>\n",
       "    <tr>\n",
       "      <th>11</th>\n",
       "      <td>Patrick Cantlay</td>\n",
       "      <td>9500</td>\n",
       "      <td>0.589771</td>\n",
       "      <td>24.0</td>\n",
       "      <td>23.0</td>\n",
       "      <td>20.00</td>\n",
       "      <td>91.7</td>\n",
       "      <td>15.0</td>\n",
       "      <td>1030.952</td>\n",
       "      <td>11.0</td>\n",
       "      <td>29.0</td>\n",
       "      <td>10.0</td>\n",
       "      <td>80.0</td>\n",
       "      <td>83.0</td>\n",
       "      <td>15.0</td>\n",
       "      <td>125.0</td>\n",
       "      <td>3.0</td>\n",
       "      <td>70.0</td>\n",
       "      <td>41.0</td>\n",
       "      <td>75.0</td>\n",
       "      <td>76.0</td>\n",
       "      <td>2.0</td>\n",
       "      <td>133.0</td>\n",
       "    </tr>\n",
       "    <tr>\n",
       "      <th>12</th>\n",
       "      <td>Sepp Straka</td>\n",
       "      <td>8800</td>\n",
       "      <td>0.588685</td>\n",
       "      <td>31.8</td>\n",
       "      <td>43.4</td>\n",
       "      <td>35.00</td>\n",
       "      <td>75.0</td>\n",
       "      <td>9.0</td>\n",
       "      <td>2098.408</td>\n",
       "      <td>9.0</td>\n",
       "      <td>52.0</td>\n",
       "      <td>2.0</td>\n",
       "      <td>126.0</td>\n",
       "      <td>28.0</td>\n",
       "      <td>2.0</td>\n",
       "      <td>3.0</td>\n",
       "      <td>12.0</td>\n",
       "      <td>1.0</td>\n",
       "      <td>47.0</td>\n",
       "      <td>142.0</td>\n",
       "      <td>11.0</td>\n",
       "      <td>1.0</td>\n",
       "      <td>79.0</td>\n",
       "    </tr>\n",
       "    <tr>\n",
       "      <th>13</th>\n",
       "      <td>Ben Griffin</td>\n",
       "      <td>7800</td>\n",
       "      <td>0.586624</td>\n",
       "      <td>38.9</td>\n",
       "      <td>90.0</td>\n",
       "      <td>60.00</td>\n",
       "      <td>79.2</td>\n",
       "      <td>24.0</td>\n",
       "      <td>1384.496</td>\n",
       "      <td>38.0</td>\n",
       "      <td>68.0</td>\n",
       "      <td>48.0</td>\n",
       "      <td>60.0</td>\n",
       "      <td>63.0</td>\n",
       "      <td>70.0</td>\n",
       "      <td>55.0</td>\n",
       "      <td>44.0</td>\n",
       "      <td>48.0</td>\n",
       "      <td>69.0</td>\n",
       "      <td>70.0</td>\n",
       "      <td>97.0</td>\n",
       "      <td>20.0</td>\n",
       "      <td>101.0</td>\n",
       "    </tr>\n",
       "    <tr>\n",
       "      <th>14</th>\n",
       "      <td>Russell Henley</td>\n",
       "      <td>8400</td>\n",
       "      <td>0.519150</td>\n",
       "      <td>31.2</td>\n",
       "      <td>40.5</td>\n",
       "      <td>50.00</td>\n",
       "      <td>83.3</td>\n",
       "      <td>8.0</td>\n",
       "      <td>1418.384</td>\n",
       "      <td>28.0</td>\n",
       "      <td>128.0</td>\n",
       "      <td>28.0</td>\n",
       "      <td>15.0</td>\n",
       "      <td>35.0</td>\n",
       "      <td>14.0</td>\n",
       "      <td>1.0</td>\n",
       "      <td>12.0</td>\n",
       "      <td>107.0</td>\n",
       "      <td>109.0</td>\n",
       "      <td>174.0</td>\n",
       "      <td>15.0</td>\n",
       "      <td>4.0</td>\n",
       "      <td>103.0</td>\n",
       "    </tr>\n",
       "    <tr>\n",
       "      <th>15</th>\n",
       "      <td>Tony Finau</td>\n",
       "      <td>8200</td>\n",
       "      <td>0.451877</td>\n",
       "      <td>45.3</td>\n",
       "      <td>30.2</td>\n",
       "      <td>50.00</td>\n",
       "      <td>69.2</td>\n",
       "      <td>37.0</td>\n",
       "      <td>614.569</td>\n",
       "      <td>53.0</td>\n",
       "      <td>38.0</td>\n",
       "      <td>93.0</td>\n",
       "      <td>62.0</td>\n",
       "      <td>96.0</td>\n",
       "      <td>34.0</td>\n",
       "      <td>84.0</td>\n",
       "      <td>44.0</td>\n",
       "      <td>119.0</td>\n",
       "      <td>33.0</td>\n",
       "      <td>59.0</td>\n",
       "      <td>84.0</td>\n",
       "      <td>55.0</td>\n",
       "      <td>126.0</td>\n",
       "    </tr>\n",
       "    <tr>\n",
       "      <th>16</th>\n",
       "      <td>Harris English</td>\n",
       "      <td>7800</td>\n",
       "      <td>0.435562</td>\n",
       "      <td>41.2</td>\n",
       "      <td>61.3</td>\n",
       "      <td>60.00</td>\n",
       "      <td>78.9</td>\n",
       "      <td>16.0</td>\n",
       "      <td>1495.343</td>\n",
       "      <td>67.0</td>\n",
       "      <td>53.0</td>\n",
       "      <td>88.0</td>\n",
       "      <td>110.0</td>\n",
       "      <td>34.0</td>\n",
       "      <td>145.0</td>\n",
       "      <td>102.0</td>\n",
       "      <td>64.0</td>\n",
       "      <td>107.0</td>\n",
       "      <td>30.0</td>\n",
       "      <td>88.0</td>\n",
       "      <td>47.0</td>\n",
       "      <td>58.0</td>\n",
       "      <td>55.0</td>\n",
       "    </tr>\n",
       "    <tr>\n",
       "      <th>17</th>\n",
       "      <td>J.J. Spaun</td>\n",
       "      <td>7500</td>\n",
       "      <td>0.424570</td>\n",
       "      <td>35.5</td>\n",
       "      <td>70.0</td>\n",
       "      <td>50.00</td>\n",
       "      <td>81.8</td>\n",
       "      <td>25.0</td>\n",
       "      <td>1444.687</td>\n",
       "      <td>12.0</td>\n",
       "      <td>51.0</td>\n",
       "      <td>4.0</td>\n",
       "      <td>119.0</td>\n",
       "      <td>74.0</td>\n",
       "      <td>60.0</td>\n",
       "      <td>55.0</td>\n",
       "      <td>19.0</td>\n",
       "      <td>75.0</td>\n",
       "      <td>6.0</td>\n",
       "      <td>50.0</td>\n",
       "      <td>42.0</td>\n",
       "      <td>23.0</td>\n",
       "      <td>92.0</td>\n",
       "    </tr>\n",
       "    <tr>\n",
       "      <th>18</th>\n",
       "      <td>Davis Thompson</td>\n",
       "      <td>7000</td>\n",
       "      <td>0.408651</td>\n",
       "      <td>49.5</td>\n",
       "      <td>41.5</td>\n",
       "      <td>100.00</td>\n",
       "      <td>70.6</td>\n",
       "      <td>56.0</td>\n",
       "      <td>434.367</td>\n",
       "      <td>44.0</td>\n",
       "      <td>24.0</td>\n",
       "      <td>112.0</td>\n",
       "      <td>43.0</td>\n",
       "      <td>143.0</td>\n",
       "      <td>30.0</td>\n",
       "      <td>112.0</td>\n",
       "      <td>77.0</td>\n",
       "      <td>17.0</td>\n",
       "      <td>20.0</td>\n",
       "      <td>72.0</td>\n",
       "      <td>46.0</td>\n",
       "      <td>28.0</td>\n",
       "      <td>99.0</td>\n",
       "    </tr>\n",
       "    <tr>\n",
       "      <th>19</th>\n",
       "      <td>Aaron Rai</td>\n",
       "      <td>7600</td>\n",
       "      <td>0.407061</td>\n",
       "      <td>36.6</td>\n",
       "      <td>58.0</td>\n",
       "      <td>50.00</td>\n",
       "      <td>78.6</td>\n",
       "      <td>30.0</td>\n",
       "      <td>577.480</td>\n",
       "      <td>19.0</td>\n",
       "      <td>26.0</td>\n",
       "      <td>19.0</td>\n",
       "      <td>104.0</td>\n",
       "      <td>119.0</td>\n",
       "      <td>38.0</td>\n",
       "      <td>176.0</td>\n",
       "      <td>5.0</td>\n",
       "      <td>29.0</td>\n",
       "      <td>79.0</td>\n",
       "      <td>170.0</td>\n",
       "      <td>1.0</td>\n",
       "      <td>7.0</td>\n",
       "      <td>129.0</td>\n",
       "    </tr>\n",
       "  </tbody>\n",
       "</table>\n",
       "</div>"
      ],
      "text/plain": [
       "               PLAYER  SALARY  PROBABILITY  RECENT_FORM  COURSE_HISTORY  \\\n",
       "0         Shane Lowry    8700     0.814180         29.9            40.8   \n",
       "1     Collin Morikawa    9900     0.757324         23.7            46.4   \n",
       "2       Justin Thomas   10100     0.736368         21.1            46.8   \n",
       "3       Daniel Berger    8600     0.715518         34.2            47.5   \n",
       "4   Scottie Scheffler   13300     0.699625          7.4             7.3   \n",
       "5          Si Woo Kim    8300     0.698274         40.5            18.4   \n",
       "6     Tommy Fleetwood    9400     0.690054         18.8            20.0   \n",
       "7      Keegan Bradley    8000     0.684378         27.5            54.4   \n",
       "8    Hideki Matsuyama    9000     0.675841         39.1            32.5   \n",
       "9       Jordan Spieth    8500     0.623208         35.9            34.4   \n",
       "10         Sungjae Im    8100     0.598074         40.6            49.3   \n",
       "11    Patrick Cantlay    9500     0.589771         24.0            23.0   \n",
       "12        Sepp Straka    8800     0.588685         31.8            43.4   \n",
       "13        Ben Griffin    7800     0.586624         38.9            90.0   \n",
       "14     Russell Henley    8400     0.519150         31.2            40.5   \n",
       "15         Tony Finau    8200     0.451877         45.3            30.2   \n",
       "16     Harris English    7800     0.435562         41.2            61.3   \n",
       "17         J.J. Spaun    7500     0.424570         35.5            70.0   \n",
       "18     Davis Thompson    7000     0.408651         49.5            41.5   \n",
       "19          Aaron Rai    7600     0.407061         36.6            58.0   \n",
       "\n",
       "    VEGAS_ODDS  CUT_PERCENTAGE  OWGR_RANK  FEDEX_CUP_POINTS  SGTTG_RANK  \\\n",
       "0        35.00            81.8       14.0          1273.139         2.0   \n",
       "1        16.00           100.0        4.0          1241.158         6.0   \n",
       "2        20.00            92.9        5.0          2043.984         8.0   \n",
       "3        35.00            81.0       28.0          1473.408         4.0   \n",
       "4         2.75           100.0        1.0          2800.967         1.0   \n",
       "5        40.00            72.2       59.0           757.596        14.0   \n",
       "6        20.00           100.0       12.0          1254.898         7.0   \n",
       "7        40.00            92.3       18.0           797.717         5.0   \n",
       "8        35.00            78.6        7.0          1073.294        17.0   \n",
       "9        50.00            84.6       51.0           601.338        29.0   \n",
       "10       50.00            76.5       21.0          1042.772        89.0   \n",
       "11       20.00            91.7       15.0          1030.952        11.0   \n",
       "12       35.00            75.0        9.0          2098.408         9.0   \n",
       "13       60.00            79.2       24.0          1384.496        38.0   \n",
       "14       50.00            83.3        8.0          1418.384        28.0   \n",
       "15       50.00            69.2       37.0           614.569        53.0   \n",
       "16       60.00            78.9       16.0          1495.343        67.0   \n",
       "17       50.00            81.8       25.0          1444.687        12.0   \n",
       "18      100.00            70.6       56.0           434.367        44.0   \n",
       "19       50.00            78.6       30.0           577.480        19.0   \n",
       "\n",
       "    SGOTT_RANK  SGAPR_RANK  SGATG_RANK  SGP_RANK  BIRDIES_RANK  PAR_3_RANK  \\\n",
       "0         34.0         6.0        18.0      86.0          58.0         9.0   \n",
       "1         22.0         7.0        76.0      54.0           3.0         2.0   \n",
       "2        100.0         5.0        21.0      17.0           1.0        84.0   \n",
       "3         12.0        15.0        32.0     100.0          73.0       145.0   \n",
       "4          2.0         1.0        63.0      23.0           4.0        30.0   \n",
       "5         39.0        52.0        12.0     118.0          18.0       135.0   \n",
       "6         43.0        11.0        17.0      55.0          55.0       151.0   \n",
       "7         23.0        13.0        19.0     148.0          63.0       135.0   \n",
       "8        103.0        30.0         6.0      61.0          49.0         9.0   \n",
       "9         30.0        75.0        44.0      69.0          72.0       135.0   \n",
       "10        18.0       172.0        14.0      25.0          10.0       145.0   \n",
       "11        29.0        10.0        80.0      83.0          15.0       125.0   \n",
       "12        52.0         2.0       126.0      28.0           2.0         3.0   \n",
       "13        68.0        48.0        60.0      63.0          70.0        55.0   \n",
       "14       128.0        28.0        15.0      35.0          14.0         1.0   \n",
       "15        38.0        93.0        62.0      96.0          34.0        84.0   \n",
       "16        53.0        88.0       110.0      34.0         145.0       102.0   \n",
       "17        51.0         4.0       119.0      74.0          60.0        55.0   \n",
       "18        24.0       112.0        43.0     143.0          30.0       112.0   \n",
       "19        26.0        19.0       104.0     119.0          38.0       176.0   \n",
       "\n",
       "    PAR_4_RANK  PAR_5_RANK  TOTAL_DRIVING_RANK  DRIVING_DISTANCE_RANK  \\\n",
       "0         19.0       139.0                77.0                  142.0   \n",
       "1         32.0        22.0                49.0                  153.0   \n",
       "2          2.0        36.0                67.0                   55.0   \n",
       "3          5.0        75.0                13.0                   95.0   \n",
       "4          1.0         1.0                 7.0                   68.0   \n",
       "5         19.0         1.0                69.0                  134.0   \n",
       "6         12.0        75.0                39.0                  118.0   \n",
       "7         19.0        58.0                18.0                   65.0   \n",
       "8         44.0        29.0               148.0                   92.0   \n",
       "9         32.0        22.0                25.0                   43.0   \n",
       "10        12.0         9.0                52.0                  148.0   \n",
       "11         3.0        70.0                41.0                   75.0   \n",
       "12        12.0         1.0                47.0                  142.0   \n",
       "13        44.0        48.0                69.0                   70.0   \n",
       "14        12.0       107.0               109.0                  174.0   \n",
       "15        44.0       119.0                33.0                   59.0   \n",
       "16        64.0       107.0                30.0                   88.0   \n",
       "17        19.0        75.0                 6.0                   50.0   \n",
       "18        77.0        17.0                20.0                   72.0   \n",
       "19         5.0        29.0                79.0                  170.0   \n",
       "\n",
       "    DRIVING_ACCURACY_RANK  GIR_RANK  SCRAMBLING_RANK  \n",
       "0                    28.0      67.0             20.0  \n",
       "1                     2.0      19.0            105.0  \n",
       "2                   111.0      43.0            114.0  \n",
       "3                     8.0      25.0             16.0  \n",
       "4                    26.0       3.0              2.0  \n",
       "5                    33.0      71.0             38.0  \n",
       "6                    31.0     115.0             50.0  \n",
       "7                    45.0      55.0            105.0  \n",
       "8                   130.0      77.0              3.0  \n",
       "9                    81.0      73.0             58.0  \n",
       "10                   10.0     123.0             61.0  \n",
       "11                   76.0       2.0            133.0  \n",
       "12                   11.0       1.0             79.0  \n",
       "13                   97.0      20.0            101.0  \n",
       "14                   15.0       4.0            103.0  \n",
       "15                   84.0      55.0            126.0  \n",
       "16                   47.0      58.0             55.0  \n",
       "17                   42.0      23.0             92.0  \n",
       "18                   46.0      28.0             99.0  \n",
       "19                    1.0       7.0            129.0  "
      ]
     },
     "execution_count": 27,
     "metadata": {},
     "output_type": "execute_result"
    }
   ],
   "source": [
    "# === Prepare test data (this week's players) ===\n",
    "\n",
    "# Select and standardize features using the same scaler as training\n",
    "X_test = this_week[feature_cols]\n",
    "X_test_scaled = scaler.transform(X_test)\n",
    "\n",
    "# === Predict probabilities for Top 20 finish ===\n",
    "# CalibratedClassifierCV returns well-calibrated probabilities\n",
    "this_week[\"PROBABILITY\"] = final_model.predict_proba(X_test_scaled)[:, 1]\n",
    "\n",
    "# === Sort results by highest predicted probability ===\n",
    "this_week_sorted = this_week.sort_values(by=\"PROBABILITY\", ascending=False).reset_index(drop=True)\n",
    "\n",
    "# === Define final column order explicitly ===\n",
    "columns_to_show = [\n",
    "    \"PLAYER\", \"SALARY\", \"PROBABILITY\",\n",
    "    \"RECENT_FORM\", \"COURSE_HISTORY\", \"VEGAS_ODDS\", \"CUT_PERCENTAGE\", \n",
    "    \"OWGR_RANK\", \"FEDEX_CUP_POINTS\",\n",
    "\n",
    "    # SG stats\n",
    "    \"SGTTG_RANK\", \"SGOTT_RANK\", \"SGAPR_RANK\", \"SGATG_RANK\", \"SGP_RANK\",\n",
    "\n",
    "    # Scoring/Performance\n",
    "    \"BIRDIES_RANK\", \"PAR_3_RANK\", \"PAR_4_RANK\", \"PAR_5_RANK\",\n",
    "\n",
    "    # Driving / Ball Striking\n",
    "    \"TOTAL_DRIVING_RANK\", \"DRIVING_DISTANCE_RANK\", \"DRIVING_ACCURACY_RANK\",\n",
    "    \"GIR_RANK\", \"SCRAMBLING_RANK\"\n",
    "]\n",
    "\n",
    "# Keep only columns that exist in the dataframe\n",
    "columns_to_show = [col for col in columns_to_show if col in this_week_sorted.columns]\n",
    "\n",
    "# Final dataframe for display/export\n",
    "export_df = this_week_sorted[columns_to_show].copy()\n",
    "\n",
    "# Preview top 20\n",
    "export_df.head(20)\n"
   ]
  },
  {
   "cell_type": "markdown",
   "id": "8641f78e",
   "metadata": {},
   "source": [
    "### Save to CSV"
   ]
  },
  {
   "cell_type": "code",
   "execution_count": 61,
   "id": "323933e9",
   "metadata": {},
   "outputs": [
    {
     "name": "stdout",
     "output_type": "stream",
     "text": [
      "✅ Exported to data/the_Memorial_Tournament_presented_by_Workday_2025-06-01.csv\n"
     ]
    }
   ],
   "source": [
    "# Define columns to round (FedEx + stats)\n",
    "columns_to_round = [\n",
    "    \"FEDEX_CUP_POINTS\",\n",
    "    \"SGTTG_RANK\", \"SGOTT_RANK\", \"SGAPR_RANK\", \"SGATG_RANK\", \"SGP_RANK\",\n",
    "    \"BIRDIES_RANK\", \"PAR_3_RANK\", \"PAR_4_RANK\", \"PAR_5_RANK\",\n",
    "    \"TOTAL_DRIVING_RANK\", \"DRIVING_DISTANCE_RANK\", \"DRIVING_ACCURACY_RANK\",\n",
    "    \"GIR_RANK\", \"SCRAMBLING_RANK\"\n",
    "]\n",
    "\n",
    "columns_to_round_1 = [\n",
    "    \"COURSE_HISTORY\", \"CUT_PERCENTAGE\"\n",
    "]\n",
    "\n",
    "# Round only the selected columns to 0 decimal places\n",
    "export_df[columns_to_round] = export_df[columns_to_round].round(0).astype(\"Int64\")\n",
    "# Round only the selected columns to 1 decimal places\n",
    "export_df[columns_to_round_1] = export_df[columns_to_round_1].round(1)\n",
    "\n",
    "# Export to CSV\n",
    "filename = f\"data/{tournament_config['new']['name'].replace(' ', '_')}_{tournament_config['new']['ending_date'].date()}.csv\"\n",
    "export_df.to_csv(filename, index=False)\n",
    "print(f\"✅ Exported to {filename}\")"
   ]
  }
 ],
 "metadata": {
  "kernelspec": {
   "display_name": "Python 3",
   "language": "python",
   "name": "python3"
  },
  "language_info": {
   "codemirror_mode": {
    "name": "ipython",
    "version": 3
   },
   "file_extension": ".py",
   "mimetype": "text/x-python",
   "name": "python",
   "nbconvert_exporter": "python",
   "pygments_lexer": "ipython3",
   "version": "3.13.3"
  }
 },
 "nbformat": 4,
 "nbformat_minor": 5
}
