{
 "cells": [
  {
   "cell_type": "markdown",
   "id": "51850cd5",
   "metadata": {},
   "source": [
    "## PGA Draftkings Notebook\n",
    "Use [PGA Website](https://www.pgatour.com/tournaments/schedule.html) to look up tournament info and fill out first USER INPUT block below. (Fetch/XHR from Network tab, Paylod sub-tab)\n",
    "\n",
    "Looks like the tournament ID is also in the address bar."
   ]
  },
  {
   "cell_type": "markdown",
   "id": "cc589d19",
   "metadata": {},
   "source": [
    "### User Input"
   ]
  },
  {
   "cell_type": "code",
   "execution_count": 1,
   "id": "5b16fd89",
   "metadata": {},
   "outputs": [],
   "source": [
    "# === USER INPUTS ===\n",
    "# Old Tournament\n",
    "old_tournament_name = \"U.S. Open\"\n",
    "tournament_date = \"6/15/2025\"  # Ending date of tournament\n",
    "old_course = \"Oakmont Country Club\"\n",
    "tournament_id = \"R2025026\"  # Tournament ID from the PGA Tour API - Also visible in the URL of the tournament page\n",
    "\n",
    "# New Tournament\n",
    "new_tournament_name = \"Travelers Championship\"\n",
    "new_ending_date = \"6/22/2025\"\n",
    "new_course = \"TPC River Highlands\"\n",
    "new_season = 2025\n",
    "\n",
    "\n",
    "# === LIBRARIES AND VARIABLES ===\n",
    "# Import necessary libraries\n",
    "import requests\n",
    "import pandas as pd\n",
    "from datetime import datetime\n",
    "import sqlite3 as sql\n",
    "import numpy as np\n",
    "from numpy import nan\n",
    "import os\n",
    "import importlib\n",
    "import utils.db_utils\n",
    "from utils.db_utils import TOURNAMENT_NAME_MAP, PLAYER_NAME_MAP\n",
    "\n",
    "# === TOURNAMENT CONFIG ===\n",
    "tournament_config = {\n",
    "    \"old\": {\n",
    "        \"name\": old_tournament_name,\n",
    "        \"date\": tournament_date,\n",
    "        \"course\": old_course,\n",
    "        \"id\": tournament_id\n",
    "    },\n",
    "    \"new\": {\n",
    "        \"name\": new_tournament_name,\n",
    "        \"course\": new_course,\n",
    "        \"season\": new_season,\n",
    "        \"ending_date\": pd.to_datetime(new_ending_date, format=\"%m/%d/%Y\"),\n",
    "        \"quoted_course\": f'\"{new_course}\"',\n",
    "        \"quoted_name\": f\"'{new_tournament_name}'\"\n",
    "    }\n",
    "}\n",
    "\n",
    "this_week_key = str(tournament_config[\"new\"][\"ending_date\"].date())\n",
    "\n",
    "# Create a minimal one-row history DataFrame\n",
    "this_week_history = pd.DataFrame([{\n",
    "    \"SEASON\": tournament_config[\"new\"][\"season\"],\n",
    "    \"TOURNAMENT\": tournament_config[\"new\"][\"name\"],\n",
    "    \"ENDING_DATE\": tournament_config[\"new\"][\"ending_date\"],\n",
    "    \"COURSE\": tournament_config[\"new\"][\"course\"],\n",
    "    \"TOURN_ID\": None\n",
    "}])"
   ]
  },
  {
   "cell_type": "markdown",
   "id": "cd739282",
   "metadata": {},
   "source": [
    "### Update Database"
   ]
  },
  {
   "cell_type": "markdown",
   "id": "cebfc2dc",
   "metadata": {},
   "source": [
    "#### Old Tournament"
   ]
  },
  {
   "cell_type": "code",
   "execution_count": 2,
   "id": "31b12dc0",
   "metadata": {},
   "outputs": [
    {
     "name": "stdout",
     "output_type": "stream",
     "text": [
      "📦 Fetching results for tournament ID R2025026 (U.S. Open), year: 20250\n",
      "✅ 156 new rows added for 'U.S. Open'\n"
     ]
    },
    {
     "data": {
      "text/html": [
       "<div>\n",
       "<style scoped>\n",
       "    .dataframe tbody tr th:only-of-type {\n",
       "        vertical-align: middle;\n",
       "    }\n",
       "\n",
       "    .dataframe tbody tr th {\n",
       "        vertical-align: top;\n",
       "    }\n",
       "\n",
       "    .dataframe thead th {\n",
       "        text-align: right;\n",
       "    }\n",
       "</style>\n",
       "<table border=\"1\" class=\"dataframe\">\n",
       "  <thead>\n",
       "    <tr style=\"text-align: right;\">\n",
       "      <th></th>\n",
       "      <th>SEASON</th>\n",
       "      <th>ENDING_DATE</th>\n",
       "      <th>TOURN_ID</th>\n",
       "      <th>TOURNAMENT</th>\n",
       "      <th>COURSE</th>\n",
       "      <th>PLAYER</th>\n",
       "      <th>POS</th>\n",
       "      <th>FINAL_POS</th>\n",
       "      <th>ROUNDS:1</th>\n",
       "      <th>ROUNDS:2</th>\n",
       "      <th>ROUNDS:3</th>\n",
       "      <th>ROUNDS:4</th>\n",
       "      <th>OFFICIAL_MONEY</th>\n",
       "      <th>FEDEX_CUP_POINTS</th>\n",
       "    </tr>\n",
       "  </thead>\n",
       "  <tbody>\n",
       "    <tr>\n",
       "      <th>53</th>\n",
       "      <td>2025</td>\n",
       "      <td>2025-06-15</td>\n",
       "      <td>R2025026</td>\n",
       "      <td>U.S. Open</td>\n",
       "      <td>Oakmont Country Club</td>\n",
       "      <td>J.J. Spaun</td>\n",
       "      <td>1</td>\n",
       "      <td>1</td>\n",
       "      <td>-4</td>\n",
       "      <td>+2</td>\n",
       "      <td>-1</td>\n",
       "      <td>+2</td>\n",
       "      <td>$4,300,000.00</td>\n",
       "      <td>750.000</td>\n",
       "    </tr>\n",
       "    <tr>\n",
       "      <th>116</th>\n",
       "      <td>2025</td>\n",
       "      <td>2025-06-15</td>\n",
       "      <td>R2025026</td>\n",
       "      <td>U.S. Open</td>\n",
       "      <td>Oakmont Country Club</td>\n",
       "      <td>Robert MacIntyre</td>\n",
       "      <td>2</td>\n",
       "      <td>2</td>\n",
       "      <td>E</td>\n",
       "      <td>+4</td>\n",
       "      <td>-1</td>\n",
       "      <td>-2</td>\n",
       "      <td>$2,322,000.00</td>\n",
       "      <td>500.000</td>\n",
       "    </tr>\n",
       "    <tr>\n",
       "      <th>148</th>\n",
       "      <td>2025</td>\n",
       "      <td>2025-06-15</td>\n",
       "      <td>R2025026</td>\n",
       "      <td>U.S. Open</td>\n",
       "      <td>Oakmont Country Club</td>\n",
       "      <td>Viktor Hovland</td>\n",
       "      <td>3</td>\n",
       "      <td>3</td>\n",
       "      <td>+1</td>\n",
       "      <td>-2</td>\n",
       "      <td>E</td>\n",
       "      <td>+3</td>\n",
       "      <td>$1,462,525.00</td>\n",
       "      <td>350.000</td>\n",
       "    </tr>\n",
       "    <tr>\n",
       "      <th>22</th>\n",
       "      <td>2025</td>\n",
       "      <td>2025-06-15</td>\n",
       "      <td>R2025026</td>\n",
       "      <td>U.S. Open</td>\n",
       "      <td>Oakmont Country Club</td>\n",
       "      <td>Cameron Young</td>\n",
       "      <td>T4</td>\n",
       "      <td>4</td>\n",
       "      <td>E</td>\n",
       "      <td>+4</td>\n",
       "      <td>-1</td>\n",
       "      <td>E</td>\n",
       "      <td>$878,815.00</td>\n",
       "      <td>300.000</td>\n",
       "    </tr>\n",
       "    <tr>\n",
       "      <th>146</th>\n",
       "      <td>2025</td>\n",
       "      <td>2025-06-15</td>\n",
       "      <td>R2025026</td>\n",
       "      <td>U.S. Open</td>\n",
       "      <td>Oakmont Country Club</td>\n",
       "      <td>Tyrrell Hatton</td>\n",
       "      <td>T4</td>\n",
       "      <td>4</td>\n",
       "      <td>+3</td>\n",
       "      <td>E</td>\n",
       "      <td>-2</td>\n",
       "      <td>+2</td>\n",
       "      <td>$878,815.00</td>\n",
       "      <td>0.000</td>\n",
       "    </tr>\n",
       "  </tbody>\n",
       "</table>\n",
       "</div>"
      ],
      "text/plain": [
       "     SEASON ENDING_DATE  TOURN_ID TOURNAMENT                COURSE  \\\n",
       "53     2025  2025-06-15  R2025026  U.S. Open  Oakmont Country Club   \n",
       "116    2025  2025-06-15  R2025026  U.S. Open  Oakmont Country Club   \n",
       "148    2025  2025-06-15  R2025026  U.S. Open  Oakmont Country Club   \n",
       "22     2025  2025-06-15  R2025026  U.S. Open  Oakmont Country Club   \n",
       "146    2025  2025-06-15  R2025026  U.S. Open  Oakmont Country Club   \n",
       "\n",
       "               PLAYER POS  FINAL_POS ROUNDS:1 ROUNDS:2 ROUNDS:3 ROUNDS:4  \\\n",
       "53         J.J. Spaun   1          1       -4       +2       -1       +2   \n",
       "116  Robert MacIntyre   2          2        E       +4       -1       -2   \n",
       "148    Viktor Hovland   3          3       +1       -2        E       +3   \n",
       "22      Cameron Young  T4          4        E       +4       -1        E   \n",
       "146    Tyrrell Hatton  T4          4       +3        E       -2       +2   \n",
       "\n",
       "    OFFICIAL_MONEY FEDEX_CUP_POINTS  \n",
       "53   $4,300,000.00          750.000  \n",
       "116  $2,322,000.00          500.000  \n",
       "148  $1,462,525.00          350.000  \n",
       "22     $878,815.00          300.000  \n",
       "146    $878,815.00            0.000  "
      ]
     },
     "execution_count": 2,
     "metadata": {},
     "output_type": "execute_result"
    }
   ],
   "source": [
    "importlib.reload(utils.db_utils)  # Only needed if you're actively editing db_utils.py\n",
    "from utils.db_utils import update_tournament_results\n",
    "\n",
    "# Change these each year!!\n",
    "season = 2025\n",
    "year = 20250  # Unique GraphQL year distinguishing number in case of multiple per year\n",
    "\n",
    "# Run the update\n",
    "db_path = \"data/golf.db\"  # Or use os.path.join(\"data\", \"golf.db\")\n",
    "tournDf = update_tournament_results(tournament_config, db_path, season, year)\n",
    "\n",
    "# Show just the most recent tournament added for confirmation\n",
    "from sqlalchemy import create_engine\n",
    "\n",
    "engine = create_engine(f\"sqlite:///{db_path}\")\n",
    "\n",
    "query = f\"\"\"\n",
    "SELECT *\n",
    "FROM tournaments\n",
    "WHERE TOURN_ID = '{tournament_config['old']['id']}'\n",
    "  AND ENDING_DATE = '{datetime.strptime(tournament_config['old']['date'], '%m/%d/%Y').date()}'\n",
    "\"\"\"\n",
    "\n",
    "recent = pd.read_sql(query, engine)\n",
    "engine.dispose()\n",
    "recent.sort_values(by='FINAL_POS').head()"
   ]
  },
  {
   "cell_type": "markdown",
   "id": "fb1dcb69",
   "metadata": {},
   "source": [
    "#### Stats"
   ]
  },
  {
   "cell_type": "code",
   "execution_count": 3,
   "id": "0cf3acf5",
   "metadata": {},
   "outputs": [
    {
     "name": "stdout",
     "output_type": "stream",
     "text": [
      "✅ Overwrote stats for season 2025 with 998 rows.\n"
     ]
    },
    {
     "data": {
      "text/html": [
       "<div>\n",
       "<style scoped>\n",
       "    .dataframe tbody tr th:only-of-type {\n",
       "        vertical-align: middle;\n",
       "    }\n",
       "\n",
       "    .dataframe tbody tr th {\n",
       "        vertical-align: top;\n",
       "    }\n",
       "\n",
       "    .dataframe thead th {\n",
       "        text-align: right;\n",
       "    }\n",
       "</style>\n",
       "<table border=\"1\" class=\"dataframe\">\n",
       "  <thead>\n",
       "    <tr style=\"text-align: right;\">\n",
       "      <th></th>\n",
       "      <th>PLAYER</th>\n",
       "      <th>SGTTG_RANK</th>\n",
       "      <th>SGTTG</th>\n",
       "      <th>SGOTT_RANK</th>\n",
       "      <th>SGOTT</th>\n",
       "      <th>SGAPR_RANK</th>\n",
       "      <th>SGAPR</th>\n",
       "      <th>SGATG_RANK</th>\n",
       "      <th>SGATG</th>\n",
       "      <th>SGP_RANK</th>\n",
       "      <th>...</th>\n",
       "      <th>DRIVING_DISTANCE</th>\n",
       "      <th>DRIVING_ACCURACY_RANK</th>\n",
       "      <th>DRIVING_ACCURACY</th>\n",
       "      <th>GIR_RANK</th>\n",
       "      <th>GIR</th>\n",
       "      <th>SCRAMBLING_RANK</th>\n",
       "      <th>SCRAMBLING</th>\n",
       "      <th>OWGR_RANK</th>\n",
       "      <th>OWGR</th>\n",
       "      <th>SEASON</th>\n",
       "    </tr>\n",
       "  </thead>\n",
       "  <tbody>\n",
       "    <tr>\n",
       "      <th>0</th>\n",
       "      <td>A.J. Ewart</td>\n",
       "      <td>NaN</td>\n",
       "      <td>NaN</td>\n",
       "      <td>NaN</td>\n",
       "      <td>NaN</td>\n",
       "      <td>NaN</td>\n",
       "      <td>NaN</td>\n",
       "      <td>NaN</td>\n",
       "      <td>NaN</td>\n",
       "      <td>NaN</td>\n",
       "      <td>...</td>\n",
       "      <td>NaN</td>\n",
       "      <td>NaN</td>\n",
       "      <td>NaN</td>\n",
       "      <td>NaN</td>\n",
       "      <td>NaN</td>\n",
       "      <td>NaN</td>\n",
       "      <td>NaN</td>\n",
       "      <td>606</td>\n",
       "      <td>.1950</td>\n",
       "      <td>2025</td>\n",
       "    </tr>\n",
       "    <tr>\n",
       "      <th>1</th>\n",
       "      <td>Aaron Baddeley</td>\n",
       "      <td>165.0</td>\n",
       "      <td>-1.022</td>\n",
       "      <td>175.0</td>\n",
       "      <td>-1.292</td>\n",
       "      <td>141.0</td>\n",
       "      <td>-0.265</td>\n",
       "      <td>4.0</td>\n",
       "      <td>0.536</td>\n",
       "      <td>158.0</td>\n",
       "      <td>...</td>\n",
       "      <td>289.6</td>\n",
       "      <td>112.0</td>\n",
       "      <td>57.29%</td>\n",
       "      <td>169.0</td>\n",
       "      <td>60.48%</td>\n",
       "      <td>79.0</td>\n",
       "      <td>60.24%</td>\n",
       "      <td>451</td>\n",
       "      <td>.2886</td>\n",
       "      <td>2025</td>\n",
       "    </tr>\n",
       "    <tr>\n",
       "      <th>2</th>\n",
       "      <td>Aaron Cockerill</td>\n",
       "      <td>NaN</td>\n",
       "      <td>NaN</td>\n",
       "      <td>NaN</td>\n",
       "      <td>NaN</td>\n",
       "      <td>NaN</td>\n",
       "      <td>NaN</td>\n",
       "      <td>NaN</td>\n",
       "      <td>NaN</td>\n",
       "      <td>NaN</td>\n",
       "      <td>...</td>\n",
       "      <td>NaN</td>\n",
       "      <td>NaN</td>\n",
       "      <td>NaN</td>\n",
       "      <td>NaN</td>\n",
       "      <td>NaN</td>\n",
       "      <td>NaN</td>\n",
       "      <td>NaN</td>\n",
       "      <td>353</td>\n",
       "      <td>.3962</td>\n",
       "      <td>2025</td>\n",
       "    </tr>\n",
       "    <tr>\n",
       "      <th>3</th>\n",
       "      <td>Aaron Rai</td>\n",
       "      <td>22.0</td>\n",
       "      <td>0.815</td>\n",
       "      <td>25.0</td>\n",
       "      <td>0.401</td>\n",
       "      <td>31.0</td>\n",
       "      <td>0.414</td>\n",
       "      <td>97.0</td>\n",
       "      <td>0.001</td>\n",
       "      <td>125.0</td>\n",
       "      <td>...</td>\n",
       "      <td>286.9</td>\n",
       "      <td>1.0</td>\n",
       "      <td>73.55%</td>\n",
       "      <td>18.0</td>\n",
       "      <td>69.12%</td>\n",
       "      <td>123.0</td>\n",
       "      <td>57.79%</td>\n",
       "      <td>32</td>\n",
       "      <td>2.6753</td>\n",
       "      <td>2025</td>\n",
       "    </tr>\n",
       "    <tr>\n",
       "      <th>4</th>\n",
       "      <td>Aaron Wilkin</td>\n",
       "      <td>NaN</td>\n",
       "      <td>NaN</td>\n",
       "      <td>NaN</td>\n",
       "      <td>NaN</td>\n",
       "      <td>NaN</td>\n",
       "      <td>NaN</td>\n",
       "      <td>NaN</td>\n",
       "      <td>NaN</td>\n",
       "      <td>NaN</td>\n",
       "      <td>...</td>\n",
       "      <td>NaN</td>\n",
       "      <td>NaN</td>\n",
       "      <td>NaN</td>\n",
       "      <td>NaN</td>\n",
       "      <td>NaN</td>\n",
       "      <td>NaN</td>\n",
       "      <td>NaN</td>\n",
       "      <td>814</td>\n",
       "      <td>.1192</td>\n",
       "      <td>2025</td>\n",
       "    </tr>\n",
       "  </tbody>\n",
       "</table>\n",
       "<p>5 rows × 32 columns</p>\n",
       "</div>"
      ],
      "text/plain": [
       "            PLAYER  SGTTG_RANK   SGTTG  SGOTT_RANK   SGOTT  SGAPR_RANK  \\\n",
       "0       A.J. Ewart         NaN     NaN         NaN     NaN         NaN   \n",
       "1   Aaron Baddeley       165.0  -1.022       175.0  -1.292       141.0   \n",
       "2  Aaron Cockerill         NaN     NaN         NaN     NaN         NaN   \n",
       "3        Aaron Rai        22.0   0.815        25.0   0.401        31.0   \n",
       "4     Aaron Wilkin         NaN     NaN         NaN     NaN         NaN   \n",
       "\n",
       "    SGAPR  SGATG_RANK  SGATG  SGP_RANK  ... DRIVING_DISTANCE  \\\n",
       "0     NaN         NaN    NaN       NaN  ...              NaN   \n",
       "1  -0.265         4.0  0.536     158.0  ...            289.6   \n",
       "2     NaN         NaN    NaN       NaN  ...              NaN   \n",
       "3   0.414        97.0  0.001     125.0  ...            286.9   \n",
       "4     NaN         NaN    NaN       NaN  ...              NaN   \n",
       "\n",
       "   DRIVING_ACCURACY_RANK DRIVING_ACCURACY  GIR_RANK     GIR  SCRAMBLING_RANK  \\\n",
       "0                    NaN              NaN       NaN     NaN              NaN   \n",
       "1                  112.0           57.29%     169.0  60.48%             79.0   \n",
       "2                    NaN              NaN       NaN     NaN              NaN   \n",
       "3                    1.0           73.55%      18.0  69.12%            123.0   \n",
       "4                    NaN              NaN       NaN     NaN              NaN   \n",
       "\n",
       "  SCRAMBLING  OWGR_RANK    OWGR  SEASON  \n",
       "0        NaN        606   .1950    2025  \n",
       "1     60.24%        451   .2886    2025  \n",
       "2        NaN        353   .3962    2025  \n",
       "3     57.79%         32  2.6753    2025  \n",
       "4        NaN        814   .1192    2025  \n",
       "\n",
       "[5 rows x 32 columns]"
      ]
     },
     "execution_count": 3,
     "metadata": {},
     "output_type": "execute_result"
    }
   ],
   "source": [
    "importlib.reload(utils.db_utils)\n",
    "from utils.db_utils import update_season_stats  # <- This line is essential\n",
    "\n",
    "# Change these each year!!\n",
    "statsYear = 2025\n",
    "\n",
    "stats_df = update_season_stats(statsYear, db_path)\n",
    "stats_df.head()"
   ]
  },
  {
   "cell_type": "markdown",
   "id": "e4d0572b",
   "metadata": {},
   "source": [
    "#### Odds\n",
    "Not usually needed for weekly routine."
   ]
  },
  {
   "cell_type": "markdown",
   "id": "ed73bb90",
   "metadata": {},
   "source": [
    "**Manual Fix! Odds name cleanup (only needed when joins fail)**\n",
    "\n",
    "Make sure to update the dictionaries in db_utils.py if new names need to be added."
   ]
  },
  {
   "cell_type": "code",
   "execution_count": 30,
   "id": "f47573f7",
   "metadata": {},
   "outputs": [
    {
     "name": "stdout",
     "output_type": "stream",
     "text": [
      "ℹ️ No odds rows required name cleanup.\n"
     ]
    },
    {
     "data": {
      "text/html": [
       "<div>\n",
       "<style scoped>\n",
       "    .dataframe tbody tr th:only-of-type {\n",
       "        vertical-align: middle;\n",
       "    }\n",
       "\n",
       "    .dataframe tbody tr th {\n",
       "        vertical-align: top;\n",
       "    }\n",
       "\n",
       "    .dataframe thead th {\n",
       "        text-align: right;\n",
       "    }\n",
       "</style>\n",
       "<table border=\"1\" class=\"dataframe\">\n",
       "  <thead>\n",
       "    <tr style=\"text-align: right;\">\n",
       "      <th></th>\n",
       "      <th>SEASON</th>\n",
       "      <th>TOURNAMENT</th>\n",
       "      <th>ENDING_DATE</th>\n",
       "      <th>PLAYER</th>\n",
       "      <th>ODDS</th>\n",
       "      <th>VEGAS_ODDS</th>\n",
       "      <th>TOURNAMENT_ORIG</th>\n",
       "      <th>PLAYER_ORIG</th>\n",
       "    </tr>\n",
       "  </thead>\n",
       "  <tbody>\n",
       "  </tbody>\n",
       "</table>\n",
       "</div>"
      ],
      "text/plain": [
       "Empty DataFrame\n",
       "Columns: [SEASON, TOURNAMENT, ENDING_DATE, PLAYER, ODDS, VEGAS_ODDS, TOURNAMENT_ORIG, PLAYER_ORIG]\n",
       "Index: []"
      ]
     },
     "execution_count": 30,
     "metadata": {},
     "output_type": "execute_result"
    }
   ],
   "source": [
    "importlib.reload(utils.db_utils)\n",
    "from utils.db_utils import clean_odds_names, PLAYER_NAME_MAP, TOURNAMENT_NAME_MAP\n",
    "\n",
    "db_path = \"data/golf.db\" \n",
    "updated_odds = clean_odds_names(db_path, TOURNAMENT_NAME_MAP, PLAYER_NAME_MAP)\n",
    "updated_odds.head()"
   ]
  },
  {
   "cell_type": "markdown",
   "id": "3ffcf8d8",
   "metadata": {},
   "source": [
    "**Historical Odds Updates**\n",
    "\n",
    "Only run this when loading in entire year odds at the start of each year or if corrections need to be made.  This will load in the entire year into the database and update it using the dictionary in db_utils.py."
   ]
  },
  {
   "cell_type": "code",
   "execution_count": 31,
   "id": "7b0ef77d",
   "metadata": {},
   "outputs": [
    {
     "name": "stdout",
     "output_type": "stream",
     "text": [
      "ℹ️ Historical odds for season 2023 already exist — no new rows added.\n"
     ]
    },
    {
     "data": {
      "text/html": [
       "<div>\n",
       "<style scoped>\n",
       "    .dataframe tbody tr th:only-of-type {\n",
       "        vertical-align: middle;\n",
       "    }\n",
       "\n",
       "    .dataframe tbody tr th {\n",
       "        vertical-align: top;\n",
       "    }\n",
       "\n",
       "    .dataframe thead th {\n",
       "        text-align: right;\n",
       "    }\n",
       "</style>\n",
       "<table border=\"1\" class=\"dataframe\">\n",
       "  <thead>\n",
       "    <tr style=\"text-align: right;\">\n",
       "      <th></th>\n",
       "      <th>SEASON</th>\n",
       "      <th>TOURNAMENT</th>\n",
       "      <th>ENDING_DATE</th>\n",
       "      <th>PLAYER</th>\n",
       "      <th>ODDS</th>\n",
       "      <th>VEGAS_ODDS</th>\n",
       "    </tr>\n",
       "  </thead>\n",
       "  <tbody>\n",
       "    <tr>\n",
       "      <th>4</th>\n",
       "      <td>2023</td>\n",
       "      <td>Fortinet Championship</td>\n",
       "      <td>2022-09-18</td>\n",
       "      <td>Hideki Matsuyama</td>\n",
       "      <td>18/1</td>\n",
       "      <td>18.0</td>\n",
       "    </tr>\n",
       "    <tr>\n",
       "      <th>5</th>\n",
       "      <td>2023</td>\n",
       "      <td>Fortinet Championship</td>\n",
       "      <td>2022-09-18</td>\n",
       "      <td>Max Homa</td>\n",
       "      <td>18/1</td>\n",
       "      <td>18.0</td>\n",
       "    </tr>\n",
       "    <tr>\n",
       "      <th>6</th>\n",
       "      <td>2023</td>\n",
       "      <td>Fortinet Championship</td>\n",
       "      <td>2022-09-18</td>\n",
       "      <td>Corey Conners</td>\n",
       "      <td>20/1</td>\n",
       "      <td>20.0</td>\n",
       "    </tr>\n",
       "    <tr>\n",
       "      <th>7</th>\n",
       "      <td>2023</td>\n",
       "      <td>Fortinet Championship</td>\n",
       "      <td>2022-09-18</td>\n",
       "      <td>Maverick McNealy</td>\n",
       "      <td>25/1</td>\n",
       "      <td>25.0</td>\n",
       "    </tr>\n",
       "    <tr>\n",
       "      <th>8</th>\n",
       "      <td>2023</td>\n",
       "      <td>Fortinet Championship</td>\n",
       "      <td>2022-09-18</td>\n",
       "      <td>Taylor Pendrith</td>\n",
       "      <td>25/1</td>\n",
       "      <td>25.0</td>\n",
       "    </tr>\n",
       "  </tbody>\n",
       "</table>\n",
       "</div>"
      ],
      "text/plain": [
       "   SEASON             TOURNAMENT ENDING_DATE            PLAYER  ODDS  \\\n",
       "4    2023  Fortinet Championship  2022-09-18  Hideki Matsuyama  18/1   \n",
       "5    2023  Fortinet Championship  2022-09-18          Max Homa  18/1   \n",
       "6    2023  Fortinet Championship  2022-09-18     Corey Conners  20/1   \n",
       "7    2023  Fortinet Championship  2022-09-18  Maverick McNealy  25/1   \n",
       "8    2023  Fortinet Championship  2022-09-18   Taylor Pendrith  25/1   \n",
       "\n",
       "   VEGAS_ODDS  \n",
       "4        18.0  \n",
       "5        18.0  \n",
       "6        20.0  \n",
       "7        25.0  \n",
       "8        25.0  "
      ]
     },
     "execution_count": 31,
     "metadata": {},
     "output_type": "execute_result"
    }
   ],
   "source": [
    "importlib.reload(utils.db_utils)\n",
    "from utils.db_utils import import_historical_odds\n",
    "\n",
    "oddsYear = \"2022-2023\"    # URL segment\n",
    "season = 2023             # PGA Tour season\n",
    "db_path = \"data/golf.db\"\n",
    "\n",
    "odds_df = import_historical_odds(oddsYear, season, db_path)\n",
    "odds_df.head()"
   ]
  },
  {
   "cell_type": "markdown",
   "id": "82fc5dfe",
   "metadata": {},
   "source": [
    "**Not normally needed**\n",
    "\n",
    "The code below is a way to troubleshoot the odds function that is in db_utils.py.  If it does not pull the stats correctly, we can run it outside of the db_utils.py file and explore what might be wrong with it, iterating until it works, and then using that fix to update db_utils.py.  This is not normally needed, but wanted to leave this in place as a reference because this odds website can be tricky."
   ]
  },
  {
   "cell_type": "code",
   "execution_count": 32,
   "id": "94460f27",
   "metadata": {},
   "outputs": [
    {
     "name": "stdout",
     "output_type": "stream",
     "text": [
      "📍 Detected: Safeway Open — Ending: 2020-09-13\n",
      "📍 Detected: US Open — Ending: 2020-09-20\n",
      "📍 Detected: R & C Championship — Ending: 2020-09-27\n",
      "📍 Detected: at Big Cedar Lodge - — Ending: 2020-09-22\n",
      "📍 Detected: Sanderson Farms Champ — Ending: 2020-10-04\n",
      "📍 Detected: Shriners H for C Open — Ending: 2020-10-11\n",
      "📍 Detected: The CJ Cup — Ending: 2020-10-18\n",
      "📍 Detected: ZOZO CHAMPIONSHIP — Ending: 2020-10-25\n",
      "📍 Detected: Bermuda Championship — Ending: 2020-11-01\n",
      "📍 Detected: Vivint Houston Open — Ending: 2020-11-08\n",
      "📍 Detected: The Masters — Ending: 2020-11-15\n",
      "📍 Detected: The RSM Classic — Ending: 2020-11-22\n",
      "📍 Detected: Champions for Change — Ending: 2020-11-27\n",
      "📍 Detected: Mayakoba Golf Classic — Ending: 2020-12-06\n",
      "📍 Detected: QBE Shootout — Ending: 2020-12-13\n",
      "📍 Detected: Sentry Tourn of Champions — Ending: 2021-01-10\n",
      "📍 Detected: Sony Open in Hawaii — Ending: 2021-01-17\n",
      "📍 Detected: The American Express — Ending: 2021-01-24\n",
      "📍 Detected: Abu Dhabi HSBC Champ — Ending: 2021-01-24\n",
      "📍 Detected: Farmers Insurance Open — Ending: 2021-01-31\n",
      "📍 Detected: Dubai Desert Classic — Ending: 2021-01-31\n",
      "📍 Detected: W M Phoenix Open — Ending: 2021-02-07\n",
      "📍 Detected: King Abdullah Economic City, — Ending: 2021-02-07\n",
      "📍 Detected: AT&T Pebble Beach Pro-Am — Ending: 2021-02-14\n",
      "📍 Detected: Collegiate Showcase — Ending: 2021-02-15\n",
      "📍 Detected: The Genesis Invitational — Ending: 2021-02-21\n",
      "📍 Detected: WGC-Workday Championship — Ending: 2021-02-28\n",
      "📍 Detected: Puerto Rico Open — Ending: 2021-02-28\n",
      "📍 Detected: Arnold Palmer Invitational — Ending: 2021-03-07\n",
      "📍 Detected: THE PLAYERS Championship — Ending: 2021-03-14\n",
      "📍 Detected: Qatar Masters — Ending: 2021-03-14\n",
      "📍 Detected: The Honda Classic — Ending: 2021-03-21\n",
      "📍 Detected: Magical Kenya Open — Ending: 2021-03-21\n",
      "📍 Detected: Kenya Savannah Classic — Ending: 2021-03-26\n",
      "📍 Detected: WGC-Dell Tech Match Play — Ending: 2021-03-28\n",
      "📍 Detected: Corales Punta Cana Champ — Ending: 2021-03-28\n",
      "📍 Detected: Valero Texas Open — Ending: 2021-04-04\n",
      "📍 Detected: The Masters — Ending: 2021-04-11\n",
      "📍 Detected: RBC Heritage — Ending: 2021-04-18\n",
      "📍 Detected: Austrian Golf Open — Ending: 2021-04-18\n",
      "📍 Detected: MGM Resorts Championship — Ending: 2021-04-18\n",
      "📍 Detected: Zurich Classic of New Orleans — Ending: 2021-04-25\n",
      "📍 Detected: Gran Canaria Lopesan Open — Ending: 2021-04-25\n",
      "📍 Detected: Valspar Championship — Ending: 2021-05-02\n",
      "📍 Detected: Tenerife Open — Ending: 2021-05-02\n",
      "📍 Detected: Wells Fargo Championship — Ending: 2021-05-09\n",
      "📍 Detected: Canary Islands Championship — Ending: 2021-05-09\n",
      "📍 Detected: AT&T Byron Nelson — Ending: 2021-05-16\n",
      "📍 Detected: British Masters — Ending: 2021-05-16\n",
      "📍 Detected: PGA Championship — Ending: 2021-05-23\n",
      "📍 Detected: Charles Schwab Challenge — Ending: 2021-05-30\n",
      "📍 Detected: Made in Himmerland — Ending: 2021-05-30\n",
      "📍 Detected: The Memorial Tournament — Ending: 2021-06-06\n",
      "📍 Detected: Porsche European Open — Ending: 2021-06-07\n",
      "📍 Detected: Palmetto Championship — Ending: 2021-06-13\n",
      "📍 Detected: Scandinavian Mixed — Ending: 2021-06-13\n",
      "📍 Detected: US Open — Ending: 2021-06-20\n",
      "📍 Detected: Travelers Championship — Ending: 2021-06-27\n",
      "📍 Detected: BMW International Open — Ending: 2021-06-27\n",
      "📍 Detected: Rocket Mortgage Classic — Ending: 2021-07-04\n",
      "📍 Detected: Dubai Duty Free Irish Open — Ending: 2021-07-04\n",
      "📍 Detected: Moonlight Basin - — Ending: 2021-07-06\n",
      "📍 Detected: John Deere Classic — Ending: 2021-07-11\n",
      "📍 Detected: abrdn Scottish Open — Ending: 2021-07-11\n",
      "📍 Detected: The Open Championship — Ending: 2021-07-18\n",
      "📍 Detected: Barbasol Championship — Ending: 2021-07-18\n",
      "📍 Detected: 3M Open — Ending: 2021-07-25\n",
      "📍 Detected: Cazoo Open — Ending: 2021-07-25\n",
      "📍 Detected: Men's Olympic Golf — Ending: 2021-08-01\n",
      "📍 Detected: World Invitational — Ending: 2021-08-01\n",
      "📍 Detected: WGC-FedEx St. Jude Invit — Ending: 2021-08-08\n",
      "📍 Detected: Barracuda Championship — Ending: 2021-08-08\n",
      "📍 Detected: Hero Open — Ending: 2021-08-08\n",
      "📍 Detected: Wyndham Championship — Ending: 2021-08-15\n",
      "📍 Detected: Cazoo Classic — Ending: 2021-08-15\n",
      "📍 Detected: The Northern Trust — Ending: 2021-08-23\n",
      "📍 Detected: D+D Real Czech Masters — Ending: 2021-08-22\n",
      "📍 Detected: BMW Championship — Ending: 2021-08-29\n",
      "📍 Detected: Omega European Masters — Ending: 2021-08-29\n",
      "📍 Detected: TOUR Championship — Ending: 2021-09-05\n",
      "📍 Detected: Italian Open — Ending: 2021-09-05\n",
      "📍 Detected: BMW PGA Championship — Ending: 2021-09-12\n",
      "📍 Detected: Dutch Open — Ending: 2021-09-19\n",
      "📍 Detected: 43rd Ryder Cup — Ending: 2021-09-26\n",
      "📍 Detected: Alfred Dunhill Links Champ — Ending: 2021-10-03\n",
      "📍 Detected: Open de Espana — Ending: 2021-10-10\n",
      "📍 Detected: Andalucia Masters — Ending: 2021-10-17\n",
      "📍 Detected: Mallorca Golf Open — Ending: 2021-10-24\n",
      "📍 Detected: Portugal Masters — Ending: 2021-11-07\n",
      "📍 Detected: AVIV Dubai Championship — Ending: 2021-11-14\n",
      "📍 Detected: DP World Tour Championship — Ending: 2021-11-21\n",
      "📍 Detected: Golf Nippon Series JT Cup — Ending: 2021-12-05\n"
     ]
    },
    {
     "data": {
      "text/html": [
       "<div>\n",
       "<style scoped>\n",
       "    .dataframe tbody tr th:only-of-type {\n",
       "        vertical-align: middle;\n",
       "    }\n",
       "\n",
       "    .dataframe tbody tr th {\n",
       "        vertical-align: top;\n",
       "    }\n",
       "\n",
       "    .dataframe thead th {\n",
       "        text-align: right;\n",
       "    }\n",
       "</style>\n",
       "<table border=\"1\" class=\"dataframe\">\n",
       "  <thead>\n",
       "    <tr style=\"text-align: right;\">\n",
       "      <th></th>\n",
       "      <th>SEASON</th>\n",
       "      <th>TOURNAMENT</th>\n",
       "      <th>ENDING_DATE</th>\n",
       "      <th>PLAYER</th>\n",
       "      <th>ODDS</th>\n",
       "      <th>VEGAS_ODDS</th>\n",
       "    </tr>\n",
       "  </thead>\n",
       "  <tbody>\n",
       "    <tr>\n",
       "      <th>0</th>\n",
       "      <td>2021</td>\n",
       "      <td>Safeway Open</td>\n",
       "      <td>2020-09-13</td>\n",
       "      <td>Phil Mickelson</td>\n",
       "      <td>20/1</td>\n",
       "      <td>20.0</td>\n",
       "    </tr>\n",
       "    <tr>\n",
       "      <th>1</th>\n",
       "      <td>2021</td>\n",
       "      <td>Safeway Open</td>\n",
       "      <td>2020-09-13</td>\n",
       "      <td>Si Woo Kim</td>\n",
       "      <td>20/1</td>\n",
       "      <td>20.0</td>\n",
       "    </tr>\n",
       "    <tr>\n",
       "      <th>2</th>\n",
       "      <td>2021</td>\n",
       "      <td>Safeway Open</td>\n",
       "      <td>2020-09-13</td>\n",
       "      <td>Brendan Steele</td>\n",
       "      <td>20/1</td>\n",
       "      <td>20.0</td>\n",
       "    </tr>\n",
       "    <tr>\n",
       "      <th>3</th>\n",
       "      <td>2021</td>\n",
       "      <td>Safeway Open</td>\n",
       "      <td>2020-09-13</td>\n",
       "      <td>Shane Lowry</td>\n",
       "      <td>25/1</td>\n",
       "      <td>25.0</td>\n",
       "    </tr>\n",
       "    <tr>\n",
       "      <th>4</th>\n",
       "      <td>2021</td>\n",
       "      <td>Safeway Open</td>\n",
       "      <td>2020-09-13</td>\n",
       "      <td>Sergio Garcia</td>\n",
       "      <td>30/1</td>\n",
       "      <td>30.0</td>\n",
       "    </tr>\n",
       "  </tbody>\n",
       "</table>\n",
       "</div>"
      ],
      "text/plain": [
       "   SEASON    TOURNAMENT ENDING_DATE          PLAYER  ODDS  VEGAS_ODDS\n",
       "0    2021  Safeway Open  2020-09-13  Phil Mickelson  20/1        20.0\n",
       "1    2021  Safeway Open  2020-09-13      Si Woo Kim  20/1        20.0\n",
       "2    2021  Safeway Open  2020-09-13  Brendan Steele  20/1        20.0\n",
       "3    2021  Safeway Open  2020-09-13     Shane Lowry  25/1        25.0\n",
       "4    2021  Safeway Open  2020-09-13   Sergio Garcia  30/1        30.0"
      ]
     },
     "metadata": {},
     "output_type": "display_data"
    }
   ],
   "source": [
    "import pandas as pd\n",
    "import numpy as np\n",
    "import requests\n",
    "import re\n",
    "from datetime import datetime\n",
    "from io import StringIO\n",
    "\n",
    "# === USER INPUT ===\n",
    "oddsYear = \"2020-2021\"    # URL segment\n",
    "season = 2021        # PGA Tour season\n",
    "\n",
    "url = f\"http://golfodds.com/archives-{oddsYear}.html\"\n",
    "response = requests.get(url)\n",
    "tables = pd.read_html(StringIO(response.text))\n",
    "# raw_df = tables[5]  # the actual table of interest\n",
    "# Find the largest 2-column table that contains at least some odds-like strings\n",
    "raw_df = None\n",
    "for tbl in tables:\n",
    "    if tbl.shape[1] == 2 and tbl.shape[0] > 50:  # Rough filter\n",
    "        sample = tbl.iloc[:, 1].astype(str).str.contains(r\"\\d+/\\d+\").sum()\n",
    "        if sample > 5:\n",
    "            raw_df = tbl\n",
    "            break\n",
    "\n",
    "if raw_df is None:\n",
    "    raise ValueError(\"❌ Could not find valid odds table on the page.\")\n",
    "\n",
    "# === STEP 1: Initial clean-up ===\n",
    "df = raw_df.dropna(how=\"all\").reset_index(drop=True)\n",
    "df.columns = [\"PLAYER\", \"ODDS\"]\n",
    "\n",
    "# 🔧 Clean up non-breaking spaces and extra whitespace\n",
    "df[\"PLAYER\"] = (\n",
    "    df[\"PLAYER\"]\n",
    "    .astype(str)\n",
    "    .str.replace(\"\\xa0\", \" \", regex=False)\n",
    "    .str.replace(r\"\\s+\", \" \", regex=True)\n",
    "    .str.strip()\n",
    ")\n",
    "\n",
    "df.insert(loc=0, column=\"SEASON\", value=season)\n",
    "df.insert(loc=1, column=\"TOURNAMENT\", value=np.nan)\n",
    "df.insert(loc=2, column=\"ENDING_DATE\", value=np.nan)\n",
    "\n",
    "# === STEP 2: Helper function for parsing date strings ===\n",
    "def parse_ending_date(text):\n",
    "    import re\n",
    "    from datetime import datetime\n",
    "\n",
    "    # Normalize whitespace and symbols\n",
    "    text = (\n",
    "        text.replace(\"\\u2013\", \"-\")\n",
    "            .replace(\"–\", \"-\")\n",
    "            .replace(\"\\xa0\", \" \")\n",
    "    )\n",
    "    text = re.sub(r\"\\bSept(?!ember)\\b\", \"Sep\", text)\n",
    "\n",
    "    # ✅ Fix typo: \"Match\" → \"March\" only when used in a date context\n",
    "    text = re.sub(r\"\\bMatch(?=\\s+\\d{1,2}\\s*[-–]\\s*\\d{1,2},\\s*\\d{4})\", \"March\", text)\n",
    "\n",
    "    # Pattern 1: \"July 30 - August 2, 2015\" or \"Oct 29 - Nov 1, 2015\"\n",
    "    match = re.search(r\"(\\w+)\\s\\d+\\s*-\\s*(\\w+)\\s(\\d+),\\s(\\d{4})\", text)\n",
    "    if match:\n",
    "        month2, day2, year = match.group(2), match.group(3), match.group(4)\n",
    "        for fmt in [\"%B %d, %Y\", \"%b %d, %Y\"]:\n",
    "            try:\n",
    "                return datetime.strptime(f\"{month2} {day2}, {year}\", fmt).date()\n",
    "            except ValueError:\n",
    "                continue\n",
    "\n",
    "    # Pattern 2: \"November 21-24, 2024\"\n",
    "    match = re.search(r\"(\\w+)\\s\\d+-\\d+,\\s(\\d{4})\", text)\n",
    "    if match:\n",
    "        month, year = match.group(1), match.group(2)\n",
    "        day = re.search(r\"(\\d+)-(\\d+)\", text).group(2)\n",
    "        for fmt in [\"%B %d, %Y\", \"%b %d, %Y\"]:\n",
    "            try:\n",
    "                return datetime.strptime(f\"{month} {day}, {year}\", fmt).date()\n",
    "            except ValueError:\n",
    "                continue\n",
    "\n",
    "    # Pattern 3: \"Sunday, October 20, 2019\"\n",
    "    try:\n",
    "        return datetime.strptime(text.strip(), \"%A, %B %d, %Y\").date()\n",
    "    except ValueError:\n",
    "        pass\n",
    "\n",
    "    # Pattern 4: \"October 20, 2019\"\n",
    "    try:\n",
    "        return datetime.strptime(text.strip(), \"%B %d, %Y\").date()\n",
    "    except ValueError:\n",
    "        pass\n",
    "\n",
    "    return None\n",
    "\n",
    "last_tourn_name = None\n",
    "last_date = None\n",
    "\n",
    "# === STEP 3: Iterate block by block ===\n",
    "final_rows = []\n",
    "i = 0\n",
    "last_tourn_name = None\n",
    "last_end_date = None\n",
    "\n",
    "while i < len(df) - 4:\n",
    "    player_i = str(df.loc[i, \"PLAYER\"])\n",
    "    player_i2 = str(df.loc[i + 2, \"PLAYER\"])\n",
    "    player_i3 = str(df.loc[i + 3, \"PLAYER\"]).lower()\n",
    "\n",
    "    # Detect start of a new tournament block\n",
    "    is_header = (\n",
    "        pd.isna(df.loc[i, \"ODDS\"]) and\n",
    "        pd.isna(df.loc[i + 1, \"ODDS\"]) and (\n",
    "            re.search(r\"\\w+\\s\\d+\\s*[-–]\\s*(\\w+\\s)?\\d+,\\s\\d{4}\", player_i2) or\n",
    "            re.search(r\"(Monday|Tuesday|Wednesday|Thursday|Friday|Saturday|Sunday),?\\s+\\w+\\s\\d{1,2},\\s\\d{4}\", player_i2)\n",
    "        )\n",
    "    )\n",
    "\n",
    "    if is_header:\n",
    "        tourn_name = player_i.strip()\n",
    "        end_date = parse_ending_date(player_i2)\n",
    "\n",
    "        # Skip cancelled or empty blocks\n",
    "        if \"cancelled\" in player_i3:\n",
    "            print(f\"⚠️ Skipping cancelled tournament: {tourn_name} — {end_date}\")\n",
    "            i += 4\n",
    "            continue\n",
    "\n",
    "        # Avoid duplicate block processing\n",
    "        if tourn_name == last_tourn_name and end_date == last_end_date:\n",
    "            i += 1\n",
    "            continue\n",
    "\n",
    "        print(f\"📍 Detected: {tourn_name} — Ending: {end_date}\")\n",
    "        last_tourn_name = tourn_name\n",
    "        last_end_date = end_date\n",
    "        i += 4  # Skip header lines\n",
    "\n",
    "        # Collect all player rows until next header block\n",
    "        while i < len(df) - 2:\n",
    "            next_i2 = str(df.loc[i + 2, \"PLAYER\"])\n",
    "            is_next_header = (\n",
    "                pd.isna(df.loc[i, \"ODDS\"]) and\n",
    "                pd.isna(df.loc[i + 1, \"ODDS\"]) and (\n",
    "                    re.search(r\"\\w+\\s\\d+\\s*[-–]\\s*(\\w+\\s)?\\d+,\\s\\d{4}\", next_i2) or\n",
    "                    re.search(r\"(Monday|Tuesday|Wednesday|Thursday|Friday|Saturday|Sunday),?\\s+\\w+\\s\\d{1,2},\\s\\d{4}\", next_i2)\n",
    "                )\n",
    "            )\n",
    "            if is_next_header:\n",
    "                break\n",
    "\n",
    "            if pd.notna(df.loc[i, \"ODDS\"]):\n",
    "                row = df.loc[i].copy()\n",
    "                row[\"TOURNAMENT\"] = tourn_name\n",
    "                row[\"ENDING_DATE\"] = end_date\n",
    "                final_rows.append(row)\n",
    "            i += 1\n",
    "    else:\n",
    "        i += 1\n",
    "\n",
    "# === STEP 4: Create cleaned DataFrame ===\n",
    "clean_df = pd.DataFrame(final_rows)\n",
    "\n",
    "# ✅ Prevent crash if nothing was parsed\n",
    "if clean_df.empty or \"PLAYER\" not in clean_df.columns:\n",
    "    print(f\"⚠️ No valid tournament blocks detected for season {season} ({oddsYear})\")\n",
    "    final_df = pd.DataFrame()  # Safe fallback\n",
    "else:\n",
    "    # Remove winner tag\n",
    "    clean_df[\"PLAYER\"] = clean_df[\"PLAYER\"].str.replace(r\"\\s\\*Winner\\*\", \"\", regex=True)\n",
    "\n",
    "    # Clean odds to numeric\n",
    "    clean_df[\"VEGAS_ODDS\"] = (\n",
    "        clean_df[\"ODDS\"]\n",
    "        .str.replace(\",\", \"\")\n",
    "        .str.extract(r\"(\\d+)/(\\d+)\")\n",
    "        .astype(float)\n",
    "        .apply(lambda x: x[0] / x[1], axis=1)\n",
    "    )\n",
    "\n",
    "    # Final output with source index for debugging\n",
    "    final_df = clean_df[\n",
    "        [\"SEASON\", \"TOURNAMENT\", \"ENDING_DATE\", \"PLAYER\", \"ODDS\", \"VEGAS_ODDS\"]\n",
    "    ].reset_index(drop=True)\n",
    "\n",
    "    # Drop non-standard team events (e.g., Presidents Cup, Ryder Cup)\n",
    "    drop_terms = [\"Presidents Cup\", \"Ryder Cup\"]\n",
    "    final_df = final_df[~final_df[\"TOURNAMENT\"].str.contains(\"|\".join(drop_terms), case=False, na=False)]\n",
    "\n",
    "    display(final_df.head())\n",
    "\n"
   ]
  },
  {
   "cell_type": "code",
   "execution_count": 33,
   "id": "1ba6ed1d",
   "metadata": {},
   "outputs": [
    {
     "name": "stdout",
     "output_type": "stream",
     "text": [
      "🧪 Rows with invalid ENDING_DATE values: 0\n"
     ]
    },
    {
     "data": {
      "text/html": [
       "<div>\n",
       "<style scoped>\n",
       "    .dataframe tbody tr th:only-of-type {\n",
       "        vertical-align: middle;\n",
       "    }\n",
       "\n",
       "    .dataframe tbody tr th {\n",
       "        vertical-align: top;\n",
       "    }\n",
       "\n",
       "    .dataframe thead th {\n",
       "        text-align: right;\n",
       "    }\n",
       "</style>\n",
       "<table border=\"1\" class=\"dataframe\">\n",
       "  <thead>\n",
       "    <tr style=\"text-align: right;\">\n",
       "      <th></th>\n",
       "      <th>SEASON</th>\n",
       "      <th>TOURNAMENT</th>\n",
       "      <th>ENDING_DATE</th>\n",
       "      <th>PLAYER</th>\n",
       "      <th>ODDS</th>\n",
       "      <th>VEGAS_ODDS</th>\n",
       "    </tr>\n",
       "  </thead>\n",
       "  <tbody>\n",
       "  </tbody>\n",
       "</table>\n",
       "</div>"
      ],
      "text/plain": [
       "Empty DataFrame\n",
       "Columns: [SEASON, TOURNAMENT, ENDING_DATE, PLAYER, ODDS, VEGAS_ODDS]\n",
       "Index: []"
      ]
     },
     "metadata": {},
     "output_type": "display_data"
    }
   ],
   "source": [
    "from datetime import datetime, date\n",
    "# ✅ Check for non-date types in ENDING_DATE\n",
    "non_dates = final_df[~final_df[\"ENDING_DATE\"].apply(lambda x: isinstance(x, date))]\n",
    "\n",
    "print(f\"🧪 Rows with invalid ENDING_DATE values: {len(non_dates)}\")\n",
    "display(non_dates.head(10))\n",
    "\n"
   ]
  },
  {
   "cell_type": "code",
   "execution_count": 34,
   "id": "d42bfaa0",
   "metadata": {},
   "outputs": [
    {
     "name": "stdout",
     "output_type": "stream",
     "text": [
      "🚨 Duplicate primary keys in final_df: 0\n"
     ]
    },
    {
     "data": {
      "text/html": [
       "<div>\n",
       "<style scoped>\n",
       "    .dataframe tbody tr th:only-of-type {\n",
       "        vertical-align: middle;\n",
       "    }\n",
       "\n",
       "    .dataframe tbody tr th {\n",
       "        vertical-align: top;\n",
       "    }\n",
       "\n",
       "    .dataframe thead th {\n",
       "        text-align: right;\n",
       "    }\n",
       "</style>\n",
       "<table border=\"1\" class=\"dataframe\">\n",
       "  <thead>\n",
       "    <tr style=\"text-align: right;\">\n",
       "      <th></th>\n",
       "      <th>SEASON</th>\n",
       "      <th>TOURNAMENT</th>\n",
       "      <th>ENDING_DATE</th>\n",
       "      <th>PLAYER</th>\n",
       "      <th>ODDS</th>\n",
       "      <th>VEGAS_ODDS</th>\n",
       "    </tr>\n",
       "  </thead>\n",
       "  <tbody>\n",
       "  </tbody>\n",
       "</table>\n",
       "</div>"
      ],
      "text/plain": [
       "Empty DataFrame\n",
       "Columns: [SEASON, TOURNAMENT, ENDING_DATE, PLAYER, ODDS, VEGAS_ODDS]\n",
       "Index: []"
      ]
     },
     "metadata": {},
     "output_type": "display_data"
    }
   ],
   "source": [
    "dupes = final_df.duplicated(subset=[\"SEASON\", \"TOURNAMENT\", \"ENDING_DATE\", \"PLAYER\"], keep=False)\n",
    "\n",
    "print(f\"🚨 Duplicate primary keys in final_df: {dupes.sum()}\")\n",
    "display(final_df[dupes].sort_values(by=[\"SEASON\", \"TOURNAMENT\", \"PLAYER\"]))"
   ]
  },
  {
   "cell_type": "markdown",
   "id": "d5827d49",
   "metadata": {},
   "source": [
    "## Historical Data"
   ]
  },
  {
   "cell_type": "markdown",
   "id": "72034314",
   "metadata": {},
   "source": [
    "### Pull Relevant Seasons\n",
    "Do a check to see when this course or tournament have been historically played."
   ]
  },
  {
   "cell_type": "code",
   "execution_count": 4,
   "id": "fea9c7c6",
   "metadata": {},
   "outputs": [
    {
     "name": "stdout",
     "output_type": "stream",
     "text": [
      "ℹ️ Found 9 relevant tournaments from course or tournament name.\n"
     ]
    },
    {
     "data": {
      "text/html": [
       "<div>\n",
       "<style scoped>\n",
       "    .dataframe tbody tr th:only-of-type {\n",
       "        vertical-align: middle;\n",
       "    }\n",
       "\n",
       "    .dataframe tbody tr th {\n",
       "        vertical-align: top;\n",
       "    }\n",
       "\n",
       "    .dataframe thead th {\n",
       "        text-align: right;\n",
       "    }\n",
       "</style>\n",
       "<table border=\"1\" class=\"dataframe\">\n",
       "  <thead>\n",
       "    <tr style=\"text-align: right;\">\n",
       "      <th></th>\n",
       "      <th>SEASON</th>\n",
       "      <th>COURSE</th>\n",
       "      <th>TOURN_ID</th>\n",
       "      <th>TOURNAMENT</th>\n",
       "      <th>ENDING_DATE</th>\n",
       "    </tr>\n",
       "  </thead>\n",
       "  <tbody>\n",
       "    <tr>\n",
       "      <th>780</th>\n",
       "      <td>2016</td>\n",
       "      <td>TPC River Highlands</td>\n",
       "      <td>034</td>\n",
       "      <td>Travelers Championship</td>\n",
       "      <td>2016-08-07</td>\n",
       "    </tr>\n",
       "    <tr>\n",
       "      <th>624</th>\n",
       "      <td>2017</td>\n",
       "      <td>TPC River Highlands</td>\n",
       "      <td>034</td>\n",
       "      <td>Travelers Championship</td>\n",
       "      <td>2017-06-25</td>\n",
       "    </tr>\n",
       "    <tr>\n",
       "      <th>468</th>\n",
       "      <td>2018</td>\n",
       "      <td>TPC River Highlands</td>\n",
       "      <td>034</td>\n",
       "      <td>Travelers Championship</td>\n",
       "      <td>2018-06-24</td>\n",
       "    </tr>\n",
       "    <tr>\n",
       "      <th>312</th>\n",
       "      <td>2019</td>\n",
       "      <td>TPC River Highlands</td>\n",
       "      <td>034</td>\n",
       "      <td>Travelers Championship</td>\n",
       "      <td>2019-06-23</td>\n",
       "    </tr>\n",
       "    <tr>\n",
       "      <th>156</th>\n",
       "      <td>2020</td>\n",
       "      <td>TPC River Highlands</td>\n",
       "      <td>034</td>\n",
       "      <td>Travelers Championship</td>\n",
       "      <td>2020-06-28</td>\n",
       "    </tr>\n",
       "    <tr>\n",
       "      <th>0</th>\n",
       "      <td>2021</td>\n",
       "      <td>TPC River Highlands</td>\n",
       "      <td>034</td>\n",
       "      <td>Travelers Championship</td>\n",
       "      <td>2021-06-27</td>\n",
       "    </tr>\n",
       "    <tr>\n",
       "      <th>1092</th>\n",
       "      <td>2022</td>\n",
       "      <td>TPC River Highlands</td>\n",
       "      <td>034</td>\n",
       "      <td>Travelers Championship</td>\n",
       "      <td>2022-06-26</td>\n",
       "    </tr>\n",
       "    <tr>\n",
       "      <th>1247</th>\n",
       "      <td>2023</td>\n",
       "      <td>TPC River Highlands</td>\n",
       "      <td>R2023034</td>\n",
       "      <td>Travelers Championship</td>\n",
       "      <td>2023-06-25</td>\n",
       "    </tr>\n",
       "    <tr>\n",
       "      <th>1403</th>\n",
       "      <td>2024</td>\n",
       "      <td>TPC River Highlands</td>\n",
       "      <td>R2024034</td>\n",
       "      <td>Travelers Championship</td>\n",
       "      <td>2024-06-23</td>\n",
       "    </tr>\n",
       "  </tbody>\n",
       "</table>\n",
       "</div>"
      ],
      "text/plain": [
       "      SEASON               COURSE  TOURN_ID              TOURNAMENT  \\\n",
       "780     2016  TPC River Highlands       034  Travelers Championship   \n",
       "624     2017  TPC River Highlands       034  Travelers Championship   \n",
       "468     2018  TPC River Highlands       034  Travelers Championship   \n",
       "312     2019  TPC River Highlands       034  Travelers Championship   \n",
       "156     2020  TPC River Highlands       034  Travelers Championship   \n",
       "0       2021  TPC River Highlands       034  Travelers Championship   \n",
       "1092    2022  TPC River Highlands       034  Travelers Championship   \n",
       "1247    2023  TPC River Highlands  R2023034  Travelers Championship   \n",
       "1403    2024  TPC River Highlands  R2024034  Travelers Championship   \n",
       "\n",
       "     ENDING_DATE  \n",
       "780   2016-08-07  \n",
       "624   2017-06-25  \n",
       "468   2018-06-24  \n",
       "312   2019-06-23  \n",
       "156   2020-06-28  \n",
       "0     2021-06-27  \n",
       "1092  2022-06-26  \n",
       "1247  2023-06-25  \n",
       "1403  2024-06-23  "
      ]
     },
     "execution_count": 4,
     "metadata": {},
     "output_type": "execute_result"
    }
   ],
   "source": [
    "importlib.reload(utils.db_utils)\n",
    "from utils.db_utils import get_combined_history_seasons\n",
    "\n",
    "# === USER INPUT ===\n",
    "seasons = list(range(2016, 2025))  # Adjust as needed\n",
    "db_path = \"data/golf.db\"\n",
    "\n",
    "# Pull course and tournament from config\n",
    "n_course = tournament_config[\"new\"][\"course\"]\n",
    "n_tourn = tournament_config[\"new\"][\"name\"]\n",
    "\n",
    "# Fetch relevant history\n",
    "history_df = get_combined_history_seasons(db_path, course=n_course, tournament=n_tourn, allowed_seasons=seasons)\n",
    "history_df.head(20)\n"
   ]
  },
  {
   "cell_type": "markdown",
   "id": "09441025",
   "metadata": {},
   "source": [
    "### Cut Percentage and FedEx Points\n",
    "Use a rolling-window approach to look at the most recent cut percentage and how many FedEx cup points have been accumulated recently. This will intentionally not match the PGA Tour stats that start over every year, but will have the same amount of data all the time.  We also add a new feature called Form Density which divides the FedEx Cup Points by the Total Events."
   ]
  },
  {
   "cell_type": "code",
   "execution_count": 5,
   "id": "300bf650",
   "metadata": {},
   "outputs": [
    {
     "name": "stdout",
     "output_type": "stream",
     "text": [
      "\n",
      "📆 2016-08-07 — Travelers Championship (523 players)\n"
     ]
    },
    {
     "data": {
      "text/html": [
       "<div>\n",
       "<style scoped>\n",
       "    .dataframe tbody tr th:only-of-type {\n",
       "        vertical-align: middle;\n",
       "    }\n",
       "\n",
       "    .dataframe tbody tr th {\n",
       "        vertical-align: top;\n",
       "    }\n",
       "\n",
       "    .dataframe thead th {\n",
       "        text-align: right;\n",
       "    }\n",
       "</style>\n",
       "<table border=\"1\" class=\"dataframe\">\n",
       "  <thead>\n",
       "    <tr style=\"text-align: right;\">\n",
       "      <th></th>\n",
       "      <th>PLAYER</th>\n",
       "      <th>TOTAL_EVENTS_PLAYED</th>\n",
       "      <th>CUTS_MADE</th>\n",
       "      <th>FEDEX_CUP_POINTS</th>\n",
       "      <th>CUT_PERCENTAGE</th>\n",
       "      <th>form_density</th>\n",
       "      <th>CONSECUTIVE_CUTS</th>\n",
       "      <th>ENDING_DATE</th>\n",
       "      <th>TOURNAMENT</th>\n",
       "    </tr>\n",
       "  </thead>\n",
       "  <tbody>\n",
       "    <tr>\n",
       "      <th>0</th>\n",
       "      <td>Aaron Baddeley</td>\n",
       "      <td>17</td>\n",
       "      <td>10</td>\n",
       "      <td>383.5</td>\n",
       "      <td>58.8</td>\n",
       "      <td>22.56</td>\n",
       "      <td>1</td>\n",
       "      <td>2016-08-07</td>\n",
       "      <td>Travelers Championship</td>\n",
       "    </tr>\n",
       "    <tr>\n",
       "      <th>1</th>\n",
       "      <td>Aaron Wise</td>\n",
       "      <td>1</td>\n",
       "      <td>0</td>\n",
       "      <td>0.0</td>\n",
       "      <td>0.0</td>\n",
       "      <td>0.00</td>\n",
       "      <td>0</td>\n",
       "      <td>2016-08-07</td>\n",
       "      <td>Travelers Championship</td>\n",
       "    </tr>\n",
       "    <tr>\n",
       "      <th>2</th>\n",
       "      <td>Abraham Ancer</td>\n",
       "      <td>9</td>\n",
       "      <td>2</td>\n",
       "      <td>43.0</td>\n",
       "      <td>22.2</td>\n",
       "      <td>4.78</td>\n",
       "      <td>0</td>\n",
       "      <td>2016-08-07</td>\n",
       "      <td>Travelers Championship</td>\n",
       "    </tr>\n",
       "  </tbody>\n",
       "</table>\n",
       "</div>"
      ],
      "text/plain": [
       "           PLAYER  TOTAL_EVENTS_PLAYED  CUTS_MADE  FEDEX_CUP_POINTS  \\\n",
       "0  Aaron Baddeley                   17         10             383.5   \n",
       "1      Aaron Wise                    1          0               0.0   \n",
       "2   Abraham Ancer                    9          2              43.0   \n",
       "\n",
       "   CUT_PERCENTAGE  form_density  CONSECUTIVE_CUTS ENDING_DATE  \\\n",
       "0            58.8         22.56                 1  2016-08-07   \n",
       "1             0.0          0.00                 0  2016-08-07   \n",
       "2            22.2          4.78                 0  2016-08-07   \n",
       "\n",
       "               TOURNAMENT  \n",
       "0  Travelers Championship  \n",
       "1  Travelers Championship  \n",
       "2  Travelers Championship  "
      ]
     },
     "metadata": {},
     "output_type": "display_data"
    },
    {
     "name": "stdout",
     "output_type": "stream",
     "text": [
      "\n",
      "📆 2017-06-25 — Travelers Championship (450 players)\n"
     ]
    },
    {
     "data": {
      "text/html": [
       "<div>\n",
       "<style scoped>\n",
       "    .dataframe tbody tr th:only-of-type {\n",
       "        vertical-align: middle;\n",
       "    }\n",
       "\n",
       "    .dataframe tbody tr th {\n",
       "        vertical-align: top;\n",
       "    }\n",
       "\n",
       "    .dataframe thead th {\n",
       "        text-align: right;\n",
       "    }\n",
       "</style>\n",
       "<table border=\"1\" class=\"dataframe\">\n",
       "  <thead>\n",
       "    <tr style=\"text-align: right;\">\n",
       "      <th></th>\n",
       "      <th>PLAYER</th>\n",
       "      <th>TOTAL_EVENTS_PLAYED</th>\n",
       "      <th>CUTS_MADE</th>\n",
       "      <th>FEDEX_CUP_POINTS</th>\n",
       "      <th>CUT_PERCENTAGE</th>\n",
       "      <th>form_density</th>\n",
       "      <th>CONSECUTIVE_CUTS</th>\n",
       "      <th>ENDING_DATE</th>\n",
       "      <th>TOURNAMENT</th>\n",
       "    </tr>\n",
       "  </thead>\n",
       "  <tbody>\n",
       "    <tr>\n",
       "      <th>0</th>\n",
       "      <td>Aaron Baddeley</td>\n",
       "      <td>15</td>\n",
       "      <td>7</td>\n",
       "      <td>228.29</td>\n",
       "      <td>46.7</td>\n",
       "      <td>15.22</td>\n",
       "      <td>0</td>\n",
       "      <td>2017-06-25</td>\n",
       "      <td>Travelers Championship</td>\n",
       "    </tr>\n",
       "    <tr>\n",
       "      <th>1</th>\n",
       "      <td>Aaron Rai</td>\n",
       "      <td>1</td>\n",
       "      <td>0</td>\n",
       "      <td>0.00</td>\n",
       "      <td>0.0</td>\n",
       "      <td>0.00</td>\n",
       "      <td>0</td>\n",
       "      <td>2017-06-25</td>\n",
       "      <td>Travelers Championship</td>\n",
       "    </tr>\n",
       "    <tr>\n",
       "      <th>2</th>\n",
       "      <td>Aaron Wise</td>\n",
       "      <td>6</td>\n",
       "      <td>4</td>\n",
       "      <td>0.00</td>\n",
       "      <td>66.7</td>\n",
       "      <td>0.00</td>\n",
       "      <td>4</td>\n",
       "      <td>2017-06-25</td>\n",
       "      <td>Travelers Championship</td>\n",
       "    </tr>\n",
       "  </tbody>\n",
       "</table>\n",
       "</div>"
      ],
      "text/plain": [
       "           PLAYER  TOTAL_EVENTS_PLAYED  CUTS_MADE  FEDEX_CUP_POINTS  \\\n",
       "0  Aaron Baddeley                   15          7            228.29   \n",
       "1       Aaron Rai                    1          0              0.00   \n",
       "2      Aaron Wise                    6          4              0.00   \n",
       "\n",
       "   CUT_PERCENTAGE  form_density  CONSECUTIVE_CUTS ENDING_DATE  \\\n",
       "0            46.7         15.22                 0  2017-06-25   \n",
       "1             0.0          0.00                 0  2017-06-25   \n",
       "2            66.7          0.00                 4  2017-06-25   \n",
       "\n",
       "               TOURNAMENT  \n",
       "0  Travelers Championship  \n",
       "1  Travelers Championship  \n",
       "2  Travelers Championship  "
      ]
     },
     "metadata": {},
     "output_type": "display_data"
    },
    {
     "name": "stdout",
     "output_type": "stream",
     "text": [
      "\n",
      "📆 2018-06-24 — Travelers Championship (458 players)\n"
     ]
    },
    {
     "data": {
      "text/html": [
       "<div>\n",
       "<style scoped>\n",
       "    .dataframe tbody tr th:only-of-type {\n",
       "        vertical-align: middle;\n",
       "    }\n",
       "\n",
       "    .dataframe tbody tr th {\n",
       "        vertical-align: top;\n",
       "    }\n",
       "\n",
       "    .dataframe thead th {\n",
       "        text-align: right;\n",
       "    }\n",
       "</style>\n",
       "<table border=\"1\" class=\"dataframe\">\n",
       "  <thead>\n",
       "    <tr style=\"text-align: right;\">\n",
       "      <th></th>\n",
       "      <th>PLAYER</th>\n",
       "      <th>TOTAL_EVENTS_PLAYED</th>\n",
       "      <th>CUTS_MADE</th>\n",
       "      <th>FEDEX_CUP_POINTS</th>\n",
       "      <th>CUT_PERCENTAGE</th>\n",
       "      <th>form_density</th>\n",
       "      <th>CONSECUTIVE_CUTS</th>\n",
       "      <th>ENDING_DATE</th>\n",
       "      <th>TOURNAMENT</th>\n",
       "    </tr>\n",
       "  </thead>\n",
       "  <tbody>\n",
       "    <tr>\n",
       "      <th>0</th>\n",
       "      <td>A.J. McInerney</td>\n",
       "      <td>2</td>\n",
       "      <td>1</td>\n",
       "      <td>0.00</td>\n",
       "      <td>50.0</td>\n",
       "      <td>0.00</td>\n",
       "      <td>0</td>\n",
       "      <td>2018-06-24</td>\n",
       "      <td>Travelers Championship</td>\n",
       "    </tr>\n",
       "    <tr>\n",
       "      <th>1</th>\n",
       "      <td>Aaron Baddeley</td>\n",
       "      <td>18</td>\n",
       "      <td>11</td>\n",
       "      <td>270.91</td>\n",
       "      <td>61.1</td>\n",
       "      <td>15.05</td>\n",
       "      <td>1</td>\n",
       "      <td>2018-06-24</td>\n",
       "      <td>Travelers Championship</td>\n",
       "    </tr>\n",
       "    <tr>\n",
       "      <th>2</th>\n",
       "      <td>Aaron Wise</td>\n",
       "      <td>20</td>\n",
       "      <td>11</td>\n",
       "      <td>992.76</td>\n",
       "      <td>55.0</td>\n",
       "      <td>49.64</td>\n",
       "      <td>0</td>\n",
       "      <td>2018-06-24</td>\n",
       "      <td>Travelers Championship</td>\n",
       "    </tr>\n",
       "  </tbody>\n",
       "</table>\n",
       "</div>"
      ],
      "text/plain": [
       "           PLAYER  TOTAL_EVENTS_PLAYED  CUTS_MADE  FEDEX_CUP_POINTS  \\\n",
       "0  A.J. McInerney                    2          1              0.00   \n",
       "1  Aaron Baddeley                   18         11            270.91   \n",
       "2      Aaron Wise                   20         11            992.76   \n",
       "\n",
       "   CUT_PERCENTAGE  form_density  CONSECUTIVE_CUTS ENDING_DATE  \\\n",
       "0            50.0          0.00                 0  2018-06-24   \n",
       "1            61.1         15.05                 1  2018-06-24   \n",
       "2            55.0         49.64                 0  2018-06-24   \n",
       "\n",
       "               TOURNAMENT  \n",
       "0  Travelers Championship  \n",
       "1  Travelers Championship  \n",
       "2  Travelers Championship  "
      ]
     },
     "metadata": {},
     "output_type": "display_data"
    },
    {
     "name": "stdout",
     "output_type": "stream",
     "text": [
      "\n",
      "📆 2019-06-23 — Travelers Championship (488 players)\n"
     ]
    },
    {
     "data": {
      "text/html": [
       "<div>\n",
       "<style scoped>\n",
       "    .dataframe tbody tr th:only-of-type {\n",
       "        vertical-align: middle;\n",
       "    }\n",
       "\n",
       "    .dataframe tbody tr th {\n",
       "        vertical-align: top;\n",
       "    }\n",
       "\n",
       "    .dataframe thead th {\n",
       "        text-align: right;\n",
       "    }\n",
       "</style>\n",
       "<table border=\"1\" class=\"dataframe\">\n",
       "  <thead>\n",
       "    <tr style=\"text-align: right;\">\n",
       "      <th></th>\n",
       "      <th>PLAYER</th>\n",
       "      <th>TOTAL_EVENTS_PLAYED</th>\n",
       "      <th>CUTS_MADE</th>\n",
       "      <th>FEDEX_CUP_POINTS</th>\n",
       "      <th>CUT_PERCENTAGE</th>\n",
       "      <th>form_density</th>\n",
       "      <th>CONSECUTIVE_CUTS</th>\n",
       "      <th>ENDING_DATE</th>\n",
       "      <th>TOURNAMENT</th>\n",
       "    </tr>\n",
       "  </thead>\n",
       "  <tbody>\n",
       "    <tr>\n",
       "      <th>0</th>\n",
       "      <td>Aaron Baddeley</td>\n",
       "      <td>14</td>\n",
       "      <td>8</td>\n",
       "      <td>273.88</td>\n",
       "      <td>57.1</td>\n",
       "      <td>19.56</td>\n",
       "      <td>0</td>\n",
       "      <td>2019-06-23</td>\n",
       "      <td>Travelers Championship</td>\n",
       "    </tr>\n",
       "    <tr>\n",
       "      <th>1</th>\n",
       "      <td>Aaron Wise</td>\n",
       "      <td>14</td>\n",
       "      <td>9</td>\n",
       "      <td>301.72</td>\n",
       "      <td>64.3</td>\n",
       "      <td>21.55</td>\n",
       "      <td>1</td>\n",
       "      <td>2019-06-23</td>\n",
       "      <td>Travelers Championship</td>\n",
       "    </tr>\n",
       "    <tr>\n",
       "      <th>2</th>\n",
       "      <td>Abraham Ancer</td>\n",
       "      <td>16</td>\n",
       "      <td>13</td>\n",
       "      <td>387.77</td>\n",
       "      <td>81.2</td>\n",
       "      <td>24.24</td>\n",
       "      <td>5</td>\n",
       "      <td>2019-06-23</td>\n",
       "      <td>Travelers Championship</td>\n",
       "    </tr>\n",
       "  </tbody>\n",
       "</table>\n",
       "</div>"
      ],
      "text/plain": [
       "           PLAYER  TOTAL_EVENTS_PLAYED  CUTS_MADE  FEDEX_CUP_POINTS  \\\n",
       "0  Aaron Baddeley                   14          8            273.88   \n",
       "1      Aaron Wise                   14          9            301.72   \n",
       "2   Abraham Ancer                   16         13            387.77   \n",
       "\n",
       "   CUT_PERCENTAGE  form_density  CONSECUTIVE_CUTS ENDING_DATE  \\\n",
       "0            57.1         19.56                 0  2019-06-23   \n",
       "1            64.3         21.55                 1  2019-06-23   \n",
       "2            81.2         24.24                 5  2019-06-23   \n",
       "\n",
       "               TOURNAMENT  \n",
       "0  Travelers Championship  \n",
       "1  Travelers Championship  \n",
       "2  Travelers Championship  "
      ]
     },
     "metadata": {},
     "output_type": "display_data"
    },
    {
     "name": "stdout",
     "output_type": "stream",
     "text": [
      "\n",
      "📆 2020-06-28 — Travelers Championship (399 players)\n"
     ]
    },
    {
     "data": {
      "text/html": [
       "<div>\n",
       "<style scoped>\n",
       "    .dataframe tbody tr th:only-of-type {\n",
       "        vertical-align: middle;\n",
       "    }\n",
       "\n",
       "    .dataframe tbody tr th {\n",
       "        vertical-align: top;\n",
       "    }\n",
       "\n",
       "    .dataframe thead th {\n",
       "        text-align: right;\n",
       "    }\n",
       "</style>\n",
       "<table border=\"1\" class=\"dataframe\">\n",
       "  <thead>\n",
       "    <tr style=\"text-align: right;\">\n",
       "      <th></th>\n",
       "      <th>PLAYER</th>\n",
       "      <th>TOTAL_EVENTS_PLAYED</th>\n",
       "      <th>CUTS_MADE</th>\n",
       "      <th>FEDEX_CUP_POINTS</th>\n",
       "      <th>CUT_PERCENTAGE</th>\n",
       "      <th>form_density</th>\n",
       "      <th>CONSECUTIVE_CUTS</th>\n",
       "      <th>ENDING_DATE</th>\n",
       "      <th>TOURNAMENT</th>\n",
       "    </tr>\n",
       "  </thead>\n",
       "  <tbody>\n",
       "    <tr>\n",
       "      <th>0</th>\n",
       "      <td>Aaron Baddeley</td>\n",
       "      <td>11</td>\n",
       "      <td>6</td>\n",
       "      <td>115.47</td>\n",
       "      <td>54.5</td>\n",
       "      <td>10.50</td>\n",
       "      <td>0</td>\n",
       "      <td>2020-06-28</td>\n",
       "      <td>Travelers Championship</td>\n",
       "    </tr>\n",
       "    <tr>\n",
       "      <th>1</th>\n",
       "      <td>Aaron Wise</td>\n",
       "      <td>11</td>\n",
       "      <td>3</td>\n",
       "      <td>102.00</td>\n",
       "      <td>27.3</td>\n",
       "      <td>9.27</td>\n",
       "      <td>0</td>\n",
       "      <td>2020-06-28</td>\n",
       "      <td>Travelers Championship</td>\n",
       "    </tr>\n",
       "    <tr>\n",
       "      <th>2</th>\n",
       "      <td>Abraham Ancer</td>\n",
       "      <td>11</td>\n",
       "      <td>9</td>\n",
       "      <td>783.33</td>\n",
       "      <td>81.8</td>\n",
       "      <td>71.21</td>\n",
       "      <td>9</td>\n",
       "      <td>2020-06-28</td>\n",
       "      <td>Travelers Championship</td>\n",
       "    </tr>\n",
       "  </tbody>\n",
       "</table>\n",
       "</div>"
      ],
      "text/plain": [
       "           PLAYER  TOTAL_EVENTS_PLAYED  CUTS_MADE  FEDEX_CUP_POINTS  \\\n",
       "0  Aaron Baddeley                   11          6            115.47   \n",
       "1      Aaron Wise                   11          3            102.00   \n",
       "2   Abraham Ancer                   11          9            783.33   \n",
       "\n",
       "   CUT_PERCENTAGE  form_density  CONSECUTIVE_CUTS ENDING_DATE  \\\n",
       "0            54.5         10.50                 0  2020-06-28   \n",
       "1            27.3          9.27                 0  2020-06-28   \n",
       "2            81.8         71.21                 9  2020-06-28   \n",
       "\n",
       "               TOURNAMENT  \n",
       "0  Travelers Championship  \n",
       "1  Travelers Championship  \n",
       "2  Travelers Championship  "
      ]
     },
     "metadata": {},
     "output_type": "display_data"
    },
    {
     "name": "stdout",
     "output_type": "stream",
     "text": [
      "\n",
      "📆 2021-06-27 — Travelers Championship (481 players)\n"
     ]
    },
    {
     "data": {
      "text/html": [
       "<div>\n",
       "<style scoped>\n",
       "    .dataframe tbody tr th:only-of-type {\n",
       "        vertical-align: middle;\n",
       "    }\n",
       "\n",
       "    .dataframe tbody tr th {\n",
       "        vertical-align: top;\n",
       "    }\n",
       "\n",
       "    .dataframe thead th {\n",
       "        text-align: right;\n",
       "    }\n",
       "</style>\n",
       "<table border=\"1\" class=\"dataframe\">\n",
       "  <thead>\n",
       "    <tr style=\"text-align: right;\">\n",
       "      <th></th>\n",
       "      <th>PLAYER</th>\n",
       "      <th>TOTAL_EVENTS_PLAYED</th>\n",
       "      <th>CUTS_MADE</th>\n",
       "      <th>FEDEX_CUP_POINTS</th>\n",
       "      <th>CUT_PERCENTAGE</th>\n",
       "      <th>form_density</th>\n",
       "      <th>CONSECUTIVE_CUTS</th>\n",
       "      <th>ENDING_DATE</th>\n",
       "      <th>TOURNAMENT</th>\n",
       "    </tr>\n",
       "  </thead>\n",
       "  <tbody>\n",
       "    <tr>\n",
       "      <th>0</th>\n",
       "      <td>Aaron Baddeley</td>\n",
       "      <td>10</td>\n",
       "      <td>2</td>\n",
       "      <td>18.08</td>\n",
       "      <td>20.0</td>\n",
       "      <td>1.81</td>\n",
       "      <td>0</td>\n",
       "      <td>2021-06-27</td>\n",
       "      <td>Travelers Championship</td>\n",
       "    </tr>\n",
       "    <tr>\n",
       "      <th>1</th>\n",
       "      <td>Aaron Rai</td>\n",
       "      <td>1</td>\n",
       "      <td>0</td>\n",
       "      <td>0.00</td>\n",
       "      <td>0.0</td>\n",
       "      <td>0.00</td>\n",
       "      <td>0</td>\n",
       "      <td>2021-06-27</td>\n",
       "      <td>Travelers Championship</td>\n",
       "    </tr>\n",
       "    <tr>\n",
       "      <th>2</th>\n",
       "      <td>Aaron Terrazas</td>\n",
       "      <td>1</td>\n",
       "      <td>0</td>\n",
       "      <td>0.00</td>\n",
       "      <td>0.0</td>\n",
       "      <td>0.00</td>\n",
       "      <td>0</td>\n",
       "      <td>2021-06-27</td>\n",
       "      <td>Travelers Championship</td>\n",
       "    </tr>\n",
       "  </tbody>\n",
       "</table>\n",
       "</div>"
      ],
      "text/plain": [
       "           PLAYER  TOTAL_EVENTS_PLAYED  CUTS_MADE  FEDEX_CUP_POINTS  \\\n",
       "0  Aaron Baddeley                   10          2             18.08   \n",
       "1       Aaron Rai                    1          0              0.00   \n",
       "2  Aaron Terrazas                    1          0              0.00   \n",
       "\n",
       "   CUT_PERCENTAGE  form_density  CONSECUTIVE_CUTS ENDING_DATE  \\\n",
       "0            20.0          1.81                 0  2021-06-27   \n",
       "1             0.0          0.00                 0  2021-06-27   \n",
       "2             0.0          0.00                 0  2021-06-27   \n",
       "\n",
       "               TOURNAMENT  \n",
       "0  Travelers Championship  \n",
       "1  Travelers Championship  \n",
       "2  Travelers Championship  "
      ]
     },
     "metadata": {},
     "output_type": "display_data"
    },
    {
     "name": "stdout",
     "output_type": "stream",
     "text": [
      "\n",
      "📆 2022-06-26 — Travelers Championship (523 players)\n"
     ]
    },
    {
     "data": {
      "text/html": [
       "<div>\n",
       "<style scoped>\n",
       "    .dataframe tbody tr th:only-of-type {\n",
       "        vertical-align: middle;\n",
       "    }\n",
       "\n",
       "    .dataframe tbody tr th {\n",
       "        vertical-align: top;\n",
       "    }\n",
       "\n",
       "    .dataframe thead th {\n",
       "        text-align: right;\n",
       "    }\n",
       "</style>\n",
       "<table border=\"1\" class=\"dataframe\">\n",
       "  <thead>\n",
       "    <tr style=\"text-align: right;\">\n",
       "      <th></th>\n",
       "      <th>PLAYER</th>\n",
       "      <th>TOTAL_EVENTS_PLAYED</th>\n",
       "      <th>CUTS_MADE</th>\n",
       "      <th>FEDEX_CUP_POINTS</th>\n",
       "      <th>CUT_PERCENTAGE</th>\n",
       "      <th>form_density</th>\n",
       "      <th>CONSECUTIVE_CUTS</th>\n",
       "      <th>ENDING_DATE</th>\n",
       "      <th>TOURNAMENT</th>\n",
       "    </tr>\n",
       "  </thead>\n",
       "  <tbody>\n",
       "    <tr>\n",
       "      <th>0</th>\n",
       "      <td>A.J. Ewart</td>\n",
       "      <td>1</td>\n",
       "      <td>0</td>\n",
       "      <td>0.00</td>\n",
       "      <td>0.0</td>\n",
       "      <td>0.00</td>\n",
       "      <td>0</td>\n",
       "      <td>2022-06-26</td>\n",
       "      <td>Travelers Championship</td>\n",
       "    </tr>\n",
       "    <tr>\n",
       "      <th>1</th>\n",
       "      <td>Aaron Baddeley</td>\n",
       "      <td>4</td>\n",
       "      <td>1</td>\n",
       "      <td>39.46</td>\n",
       "      <td>25.0</td>\n",
       "      <td>9.86</td>\n",
       "      <td>0</td>\n",
       "      <td>2022-06-26</td>\n",
       "      <td>Travelers Championship</td>\n",
       "    </tr>\n",
       "    <tr>\n",
       "      <th>2</th>\n",
       "      <td>Aaron Beverly</td>\n",
       "      <td>1</td>\n",
       "      <td>0</td>\n",
       "      <td>0.00</td>\n",
       "      <td>0.0</td>\n",
       "      <td>0.00</td>\n",
       "      <td>0</td>\n",
       "      <td>2022-06-26</td>\n",
       "      <td>Travelers Championship</td>\n",
       "    </tr>\n",
       "  </tbody>\n",
       "</table>\n",
       "</div>"
      ],
      "text/plain": [
       "           PLAYER  TOTAL_EVENTS_PLAYED  CUTS_MADE  FEDEX_CUP_POINTS  \\\n",
       "0      A.J. Ewart                    1          0              0.00   \n",
       "1  Aaron Baddeley                    4          1             39.46   \n",
       "2   Aaron Beverly                    1          0              0.00   \n",
       "\n",
       "   CUT_PERCENTAGE  form_density  CONSECUTIVE_CUTS ENDING_DATE  \\\n",
       "0             0.0          0.00                 0  2022-06-26   \n",
       "1            25.0          9.86                 0  2022-06-26   \n",
       "2             0.0          0.00                 0  2022-06-26   \n",
       "\n",
       "               TOURNAMENT  \n",
       "0  Travelers Championship  \n",
       "1  Travelers Championship  \n",
       "2  Travelers Championship  "
      ]
     },
     "metadata": {},
     "output_type": "display_data"
    },
    {
     "name": "stdout",
     "output_type": "stream",
     "text": [
      "\n",
      "📆 2023-06-25 — Travelers Championship (539 players)\n"
     ]
    },
    {
     "data": {
      "text/html": [
       "<div>\n",
       "<style scoped>\n",
       "    .dataframe tbody tr th:only-of-type {\n",
       "        vertical-align: middle;\n",
       "    }\n",
       "\n",
       "    .dataframe tbody tr th {\n",
       "        vertical-align: top;\n",
       "    }\n",
       "\n",
       "    .dataframe thead th {\n",
       "        text-align: right;\n",
       "    }\n",
       "</style>\n",
       "<table border=\"1\" class=\"dataframe\">\n",
       "  <thead>\n",
       "    <tr style=\"text-align: right;\">\n",
       "      <th></th>\n",
       "      <th>PLAYER</th>\n",
       "      <th>TOTAL_EVENTS_PLAYED</th>\n",
       "      <th>CUTS_MADE</th>\n",
       "      <th>FEDEX_CUP_POINTS</th>\n",
       "      <th>CUT_PERCENTAGE</th>\n",
       "      <th>form_density</th>\n",
       "      <th>CONSECUTIVE_CUTS</th>\n",
       "      <th>ENDING_DATE</th>\n",
       "      <th>TOURNAMENT</th>\n",
       "    </tr>\n",
       "  </thead>\n",
       "  <tbody>\n",
       "    <tr>\n",
       "      <th>0</th>\n",
       "      <td>Aaron Baddeley</td>\n",
       "      <td>14</td>\n",
       "      <td>10</td>\n",
       "      <td>325.286</td>\n",
       "      <td>71.4</td>\n",
       "      <td>23.23</td>\n",
       "      <td>0</td>\n",
       "      <td>2023-06-25</td>\n",
       "      <td>Travelers Championship</td>\n",
       "    </tr>\n",
       "    <tr>\n",
       "      <th>1</th>\n",
       "      <td>Aaron Beverly</td>\n",
       "      <td>1</td>\n",
       "      <td>1</td>\n",
       "      <td>0.000</td>\n",
       "      <td>100.0</td>\n",
       "      <td>0.00</td>\n",
       "      <td>1</td>\n",
       "      <td>2023-06-25</td>\n",
       "      <td>Travelers Championship</td>\n",
       "    </tr>\n",
       "    <tr>\n",
       "      <th>2</th>\n",
       "      <td>Aaron Cockerill</td>\n",
       "      <td>1</td>\n",
       "      <td>0</td>\n",
       "      <td>0.000</td>\n",
       "      <td>0.0</td>\n",
       "      <td>0.00</td>\n",
       "      <td>0</td>\n",
       "      <td>2023-06-25</td>\n",
       "      <td>Travelers Championship</td>\n",
       "    </tr>\n",
       "  </tbody>\n",
       "</table>\n",
       "</div>"
      ],
      "text/plain": [
       "            PLAYER  TOTAL_EVENTS_PLAYED  CUTS_MADE  FEDEX_CUP_POINTS  \\\n",
       "0   Aaron Baddeley                   14         10           325.286   \n",
       "1    Aaron Beverly                    1          1             0.000   \n",
       "2  Aaron Cockerill                    1          0             0.000   \n",
       "\n",
       "   CUT_PERCENTAGE  form_density  CONSECUTIVE_CUTS ENDING_DATE  \\\n",
       "0            71.4         23.23                 0  2023-06-25   \n",
       "1           100.0          0.00                 1  2023-06-25   \n",
       "2             0.0          0.00                 0  2023-06-25   \n",
       "\n",
       "               TOURNAMENT  \n",
       "0  Travelers Championship  \n",
       "1  Travelers Championship  \n",
       "2  Travelers Championship  "
      ]
     },
     "metadata": {},
     "output_type": "display_data"
    },
    {
     "name": "stdout",
     "output_type": "stream",
     "text": [
      "\n",
      "📆 2024-06-23 — Travelers Championship (502 players)\n"
     ]
    },
    {
     "data": {
      "text/html": [
       "<div>\n",
       "<style scoped>\n",
       "    .dataframe tbody tr th:only-of-type {\n",
       "        vertical-align: middle;\n",
       "    }\n",
       "\n",
       "    .dataframe tbody tr th {\n",
       "        vertical-align: top;\n",
       "    }\n",
       "\n",
       "    .dataframe thead th {\n",
       "        text-align: right;\n",
       "    }\n",
       "</style>\n",
       "<table border=\"1\" class=\"dataframe\">\n",
       "  <thead>\n",
       "    <tr style=\"text-align: right;\">\n",
       "      <th></th>\n",
       "      <th>PLAYER</th>\n",
       "      <th>TOTAL_EVENTS_PLAYED</th>\n",
       "      <th>CUTS_MADE</th>\n",
       "      <th>FEDEX_CUP_POINTS</th>\n",
       "      <th>CUT_PERCENTAGE</th>\n",
       "      <th>form_density</th>\n",
       "      <th>CONSECUTIVE_CUTS</th>\n",
       "      <th>ENDING_DATE</th>\n",
       "      <th>TOURNAMENT</th>\n",
       "    </tr>\n",
       "  </thead>\n",
       "  <tbody>\n",
       "    <tr>\n",
       "      <th>0</th>\n",
       "      <td>Aaron Baddeley</td>\n",
       "      <td>13</td>\n",
       "      <td>9</td>\n",
       "      <td>181.975</td>\n",
       "      <td>69.2</td>\n",
       "      <td>14.00</td>\n",
       "      <td>0</td>\n",
       "      <td>2024-06-23</td>\n",
       "      <td>Travelers Championship</td>\n",
       "    </tr>\n",
       "    <tr>\n",
       "      <th>1</th>\n",
       "      <td>Aaron Cockerill</td>\n",
       "      <td>1</td>\n",
       "      <td>0</td>\n",
       "      <td>0.000</td>\n",
       "      <td>0.0</td>\n",
       "      <td>0.00</td>\n",
       "      <td>0</td>\n",
       "      <td>2024-06-23</td>\n",
       "      <td>Travelers Championship</td>\n",
       "    </tr>\n",
       "    <tr>\n",
       "      <th>2</th>\n",
       "      <td>Aaron Rai</td>\n",
       "      <td>16</td>\n",
       "      <td>13</td>\n",
       "      <td>544.507</td>\n",
       "      <td>81.2</td>\n",
       "      <td>34.03</td>\n",
       "      <td>7</td>\n",
       "      <td>2024-06-23</td>\n",
       "      <td>Travelers Championship</td>\n",
       "    </tr>\n",
       "  </tbody>\n",
       "</table>\n",
       "</div>"
      ],
      "text/plain": [
       "            PLAYER  TOTAL_EVENTS_PLAYED  CUTS_MADE  FEDEX_CUP_POINTS  \\\n",
       "0   Aaron Baddeley                   13          9           181.975   \n",
       "1  Aaron Cockerill                    1          0             0.000   \n",
       "2        Aaron Rai                   16         13           544.507   \n",
       "\n",
       "   CUT_PERCENTAGE  form_density  CONSECUTIVE_CUTS ENDING_DATE  \\\n",
       "0            69.2         14.00                 0  2024-06-23   \n",
       "1             0.0          0.00                 0  2024-06-23   \n",
       "2            81.2         34.03                 7  2024-06-23   \n",
       "\n",
       "               TOURNAMENT  \n",
       "0  Travelers Championship  \n",
       "1  Travelers Championship  \n",
       "2  Travelers Championship  "
      ]
     },
     "metadata": {},
     "output_type": "display_data"
    }
   ],
   "source": [
    "importlib.reload(utils.db_utils)\n",
    "from utils.db_utils import get_cut_and_fedex_history\n",
    "\n",
    "cuts = get_cut_and_fedex_history(\"data/golf.db\", history_df, window_months=9)\n",
    "# cuts[\"2024-05-12\"].head(20)\n",
    "\n",
    "for end_date, df in cuts.items():\n",
    "    print(f\"\\n📆 {end_date} — {df['TOURNAMENT'].iloc[0]} ({len(df)} players)\")\n",
    "    display(df.head(3))"
   ]
  },
  {
   "cell_type": "markdown",
   "id": "ce90fa05",
   "metadata": {},
   "source": [
    "### Recent Form"
   ]
  },
  {
   "cell_type": "code",
   "execution_count": 6,
   "id": "20095a72",
   "metadata": {},
   "outputs": [
    {
     "name": "stdout",
     "output_type": "stream",
     "text": [
      "\n",
      "📆 2016-08-07 — Travelers Championship (523 players)\n"
     ]
    },
    {
     "data": {
      "text/html": [
       "<div>\n",
       "<style scoped>\n",
       "    .dataframe tbody tr th:only-of-type {\n",
       "        vertical-align: middle;\n",
       "    }\n",
       "\n",
       "    .dataframe tbody tr th {\n",
       "        vertical-align: top;\n",
       "    }\n",
       "\n",
       "    .dataframe thead th {\n",
       "        text-align: right;\n",
       "    }\n",
       "</style>\n",
       "<table border=\"1\" class=\"dataframe\">\n",
       "  <thead>\n",
       "    <tr style=\"text-align: right;\">\n",
       "      <th></th>\n",
       "      <th>PLAYER</th>\n",
       "      <th>TOTAL_EVENTS_PLAYED</th>\n",
       "      <th>RECENT_FORM</th>\n",
       "      <th>adj_form</th>\n",
       "      <th>ENDING_DATE</th>\n",
       "      <th>TOURNAMENT</th>\n",
       "    </tr>\n",
       "  </thead>\n",
       "  <tbody>\n",
       "    <tr>\n",
       "      <th>0</th>\n",
       "      <td>Lee McCoy</td>\n",
       "      <td>1</td>\n",
       "      <td>4.0</td>\n",
       "      <td>5.77</td>\n",
       "      <td>2016-08-07</td>\n",
       "      <td>Travelers Championship</td>\n",
       "    </tr>\n",
       "    <tr>\n",
       "      <th>1</th>\n",
       "      <td>Tyrrell Hatton</td>\n",
       "      <td>2</td>\n",
       "      <td>7.5</td>\n",
       "      <td>6.83</td>\n",
       "      <td>2016-08-07</td>\n",
       "      <td>Travelers Championship</td>\n",
       "    </tr>\n",
       "    <tr>\n",
       "      <th>2</th>\n",
       "      <td>Jared du Toit</td>\n",
       "      <td>1</td>\n",
       "      <td>9.0</td>\n",
       "      <td>12.98</td>\n",
       "      <td>2016-08-07</td>\n",
       "      <td>Travelers Championship</td>\n",
       "    </tr>\n",
       "  </tbody>\n",
       "</table>\n",
       "</div>"
      ],
      "text/plain": [
       "           PLAYER  TOTAL_EVENTS_PLAYED  RECENT_FORM  adj_form ENDING_DATE  \\\n",
       "0       Lee McCoy                    1          4.0      5.77  2016-08-07   \n",
       "1  Tyrrell Hatton                    2          7.5      6.83  2016-08-07   \n",
       "2   Jared du Toit                    1          9.0     12.98  2016-08-07   \n",
       "\n",
       "               TOURNAMENT  \n",
       "0  Travelers Championship  \n",
       "1  Travelers Championship  \n",
       "2  Travelers Championship  "
      ]
     },
     "metadata": {},
     "output_type": "display_data"
    },
    {
     "name": "stdout",
     "output_type": "stream",
     "text": [
      "\n",
      "📆 2017-06-25 — Travelers Championship (450 players)\n"
     ]
    },
    {
     "data": {
      "text/html": [
       "<div>\n",
       "<style scoped>\n",
       "    .dataframe tbody tr th:only-of-type {\n",
       "        vertical-align: middle;\n",
       "    }\n",
       "\n",
       "    .dataframe tbody tr th {\n",
       "        vertical-align: top;\n",
       "    }\n",
       "\n",
       "    .dataframe thead th {\n",
       "        text-align: right;\n",
       "    }\n",
       "</style>\n",
       "<table border=\"1\" class=\"dataframe\">\n",
       "  <thead>\n",
       "    <tr style=\"text-align: right;\">\n",
       "      <th></th>\n",
       "      <th>PLAYER</th>\n",
       "      <th>TOTAL_EVENTS_PLAYED</th>\n",
       "      <th>RECENT_FORM</th>\n",
       "      <th>adj_form</th>\n",
       "      <th>ENDING_DATE</th>\n",
       "      <th>TOURNAMENT</th>\n",
       "    </tr>\n",
       "  </thead>\n",
       "  <tbody>\n",
       "    <tr>\n",
       "      <th>0</th>\n",
       "      <td>Keith Mitchell</td>\n",
       "      <td>1</td>\n",
       "      <td>11.0</td>\n",
       "      <td>15.87</td>\n",
       "      <td>2017-06-25</td>\n",
       "      <td>Travelers Championship</td>\n",
       "    </tr>\n",
       "    <tr>\n",
       "      <th>1</th>\n",
       "      <td>Oscar Fraustro</td>\n",
       "      <td>1</td>\n",
       "      <td>13.0</td>\n",
       "      <td>18.76</td>\n",
       "      <td>2017-06-25</td>\n",
       "      <td>Travelers Championship</td>\n",
       "    </tr>\n",
       "    <tr>\n",
       "      <th>2</th>\n",
       "      <td>Cam Davis</td>\n",
       "      <td>1</td>\n",
       "      <td>15.0</td>\n",
       "      <td>21.64</td>\n",
       "      <td>2017-06-25</td>\n",
       "      <td>Travelers Championship</td>\n",
       "    </tr>\n",
       "  </tbody>\n",
       "</table>\n",
       "</div>"
      ],
      "text/plain": [
       "           PLAYER  TOTAL_EVENTS_PLAYED  RECENT_FORM  adj_form ENDING_DATE  \\\n",
       "0  Keith Mitchell                    1         11.0     15.87  2017-06-25   \n",
       "1  Oscar Fraustro                    1         13.0     18.76  2017-06-25   \n",
       "2       Cam Davis                    1         15.0     21.64  2017-06-25   \n",
       "\n",
       "               TOURNAMENT  \n",
       "0  Travelers Championship  \n",
       "1  Travelers Championship  \n",
       "2  Travelers Championship  "
      ]
     },
     "metadata": {},
     "output_type": "display_data"
    },
    {
     "name": "stdout",
     "output_type": "stream",
     "text": [
      "\n",
      "📆 2018-06-24 — Travelers Championship (458 players)\n"
     ]
    },
    {
     "data": {
      "text/html": [
       "<div>\n",
       "<style scoped>\n",
       "    .dataframe tbody tr th:only-of-type {\n",
       "        vertical-align: middle;\n",
       "    }\n",
       "\n",
       "    .dataframe tbody tr th {\n",
       "        vertical-align: top;\n",
       "    }\n",
       "\n",
       "    .dataframe thead th {\n",
       "        text-align: right;\n",
       "    }\n",
       "</style>\n",
       "<table border=\"1\" class=\"dataframe\">\n",
       "  <thead>\n",
       "    <tr style=\"text-align: right;\">\n",
       "      <th></th>\n",
       "      <th>PLAYER</th>\n",
       "      <th>TOTAL_EVENTS_PLAYED</th>\n",
       "      <th>RECENT_FORM</th>\n",
       "      <th>adj_form</th>\n",
       "      <th>ENDING_DATE</th>\n",
       "      <th>TOURNAMENT</th>\n",
       "    </tr>\n",
       "  </thead>\n",
       "  <tbody>\n",
       "    <tr>\n",
       "      <th>0</th>\n",
       "      <td>Dustin Johnson</td>\n",
       "      <td>8</td>\n",
       "      <td>9.1</td>\n",
       "      <td>4.14</td>\n",
       "      <td>2018-06-24</td>\n",
       "      <td>Travelers Championship</td>\n",
       "    </tr>\n",
       "    <tr>\n",
       "      <th>1</th>\n",
       "      <td>Justin Thomas</td>\n",
       "      <td>11</td>\n",
       "      <td>13.3</td>\n",
       "      <td>5.35</td>\n",
       "      <td>2018-06-24</td>\n",
       "      <td>Travelers Championship</td>\n",
       "    </tr>\n",
       "    <tr>\n",
       "      <th>2</th>\n",
       "      <td>Justin Rose</td>\n",
       "      <td>9</td>\n",
       "      <td>13.3</td>\n",
       "      <td>5.78</td>\n",
       "      <td>2018-06-24</td>\n",
       "      <td>Travelers Championship</td>\n",
       "    </tr>\n",
       "  </tbody>\n",
       "</table>\n",
       "</div>"
      ],
      "text/plain": [
       "           PLAYER  TOTAL_EVENTS_PLAYED  RECENT_FORM  adj_form ENDING_DATE  \\\n",
       "0  Dustin Johnson                    8          9.1      4.14  2018-06-24   \n",
       "1   Justin Thomas                   11         13.3      5.35  2018-06-24   \n",
       "2     Justin Rose                    9         13.3      5.78  2018-06-24   \n",
       "\n",
       "               TOURNAMENT  \n",
       "0  Travelers Championship  \n",
       "1  Travelers Championship  \n",
       "2  Travelers Championship  "
      ]
     },
     "metadata": {},
     "output_type": "display_data"
    },
    {
     "name": "stdout",
     "output_type": "stream",
     "text": [
      "\n",
      "📆 2019-06-23 — Travelers Championship (488 players)\n"
     ]
    },
    {
     "data": {
      "text/html": [
       "<div>\n",
       "<style scoped>\n",
       "    .dataframe tbody tr th:only-of-type {\n",
       "        vertical-align: middle;\n",
       "    }\n",
       "\n",
       "    .dataframe tbody tr th {\n",
       "        vertical-align: top;\n",
       "    }\n",
       "\n",
       "    .dataframe thead th {\n",
       "        text-align: right;\n",
       "    }\n",
       "</style>\n",
       "<table border=\"1\" class=\"dataframe\">\n",
       "  <thead>\n",
       "    <tr style=\"text-align: right;\">\n",
       "      <th></th>\n",
       "      <th>PLAYER</th>\n",
       "      <th>TOTAL_EVENTS_PLAYED</th>\n",
       "      <th>RECENT_FORM</th>\n",
       "      <th>adj_form</th>\n",
       "      <th>ENDING_DATE</th>\n",
       "      <th>TOURNAMENT</th>\n",
       "    </tr>\n",
       "  </thead>\n",
       "  <tbody>\n",
       "    <tr>\n",
       "      <th>0</th>\n",
       "      <td>Jazz Janewattananond</td>\n",
       "      <td>1</td>\n",
       "      <td>14.0</td>\n",
       "      <td>20.20</td>\n",
       "      <td>2019-06-23</td>\n",
       "      <td>Travelers Championship</td>\n",
       "    </tr>\n",
       "    <tr>\n",
       "      <th>1</th>\n",
       "      <td>Rory McIlroy</td>\n",
       "      <td>10</td>\n",
       "      <td>15.2</td>\n",
       "      <td>6.34</td>\n",
       "      <td>2019-06-23</td>\n",
       "      <td>Travelers Championship</td>\n",
       "    </tr>\n",
       "    <tr>\n",
       "      <th>2</th>\n",
       "      <td>Dustin Johnson</td>\n",
       "      <td>10</td>\n",
       "      <td>15.6</td>\n",
       "      <td>6.51</td>\n",
       "      <td>2019-06-23</td>\n",
       "      <td>Travelers Championship</td>\n",
       "    </tr>\n",
       "  </tbody>\n",
       "</table>\n",
       "</div>"
      ],
      "text/plain": [
       "                 PLAYER  TOTAL_EVENTS_PLAYED  RECENT_FORM  adj_form  \\\n",
       "0  Jazz Janewattananond                    1         14.0     20.20   \n",
       "1          Rory McIlroy                   10         15.2      6.34   \n",
       "2        Dustin Johnson                   10         15.6      6.51   \n",
       "\n",
       "  ENDING_DATE              TOURNAMENT  \n",
       "0  2019-06-23  Travelers Championship  \n",
       "1  2019-06-23  Travelers Championship  \n",
       "2  2019-06-23  Travelers Championship  "
      ]
     },
     "metadata": {},
     "output_type": "display_data"
    },
    {
     "name": "stdout",
     "output_type": "stream",
     "text": [
      "\n",
      "📆 2020-06-28 — Travelers Championship (399 players)\n"
     ]
    },
    {
     "data": {
      "text/html": [
       "<div>\n",
       "<style scoped>\n",
       "    .dataframe tbody tr th:only-of-type {\n",
       "        vertical-align: middle;\n",
       "    }\n",
       "\n",
       "    .dataframe tbody tr th {\n",
       "        vertical-align: top;\n",
       "    }\n",
       "\n",
       "    .dataframe thead th {\n",
       "        text-align: right;\n",
       "    }\n",
       "</style>\n",
       "<table border=\"1\" class=\"dataframe\">\n",
       "  <thead>\n",
       "    <tr style=\"text-align: right;\">\n",
       "      <th></th>\n",
       "      <th>PLAYER</th>\n",
       "      <th>TOTAL_EVENTS_PLAYED</th>\n",
       "      <th>RECENT_FORM</th>\n",
       "      <th>adj_form</th>\n",
       "      <th>ENDING_DATE</th>\n",
       "      <th>TOURNAMENT</th>\n",
       "    </tr>\n",
       "  </thead>\n",
       "  <tbody>\n",
       "    <tr>\n",
       "      <th>0</th>\n",
       "      <td>Tyrrell Hatton</td>\n",
       "      <td>3</td>\n",
       "      <td>3.3</td>\n",
       "      <td>2.38</td>\n",
       "      <td>2020-06-28</td>\n",
       "      <td>Travelers Championship</td>\n",
       "    </tr>\n",
       "    <tr>\n",
       "      <th>1</th>\n",
       "      <td>Bryson DeChambeau</td>\n",
       "      <td>7</td>\n",
       "      <td>12.7</td>\n",
       "      <td>6.11</td>\n",
       "      <td>2020-06-28</td>\n",
       "      <td>Travelers Championship</td>\n",
       "    </tr>\n",
       "    <tr>\n",
       "      <th>2</th>\n",
       "      <td>Patrick Cantlay</td>\n",
       "      <td>5</td>\n",
       "      <td>14.8</td>\n",
       "      <td>8.26</td>\n",
       "      <td>2020-06-28</td>\n",
       "      <td>Travelers Championship</td>\n",
       "    </tr>\n",
       "  </tbody>\n",
       "</table>\n",
       "</div>"
      ],
      "text/plain": [
       "              PLAYER  TOTAL_EVENTS_PLAYED  RECENT_FORM  adj_form ENDING_DATE  \\\n",
       "0     Tyrrell Hatton                    3          3.3      2.38  2020-06-28   \n",
       "1  Bryson DeChambeau                    7         12.7      6.11  2020-06-28   \n",
       "2    Patrick Cantlay                    5         14.8      8.26  2020-06-28   \n",
       "\n",
       "               TOURNAMENT  \n",
       "0  Travelers Championship  \n",
       "1  Travelers Championship  \n",
       "2  Travelers Championship  "
      ]
     },
     "metadata": {},
     "output_type": "display_data"
    },
    {
     "name": "stdout",
     "output_type": "stream",
     "text": [
      "\n",
      "📆 2021-06-27 — Travelers Championship (481 players)\n"
     ]
    },
    {
     "data": {
      "text/html": [
       "<div>\n",
       "<style scoped>\n",
       "    .dataframe tbody tr th:only-of-type {\n",
       "        vertical-align: middle;\n",
       "    }\n",
       "\n",
       "    .dataframe tbody tr th {\n",
       "        vertical-align: top;\n",
       "    }\n",
       "\n",
       "    .dataframe thead th {\n",
       "        text-align: right;\n",
       "    }\n",
       "</style>\n",
       "<table border=\"1\" class=\"dataframe\">\n",
       "  <thead>\n",
       "    <tr style=\"text-align: right;\">\n",
       "      <th></th>\n",
       "      <th>PLAYER</th>\n",
       "      <th>TOTAL_EVENTS_PLAYED</th>\n",
       "      <th>RECENT_FORM</th>\n",
       "      <th>adj_form</th>\n",
       "      <th>ENDING_DATE</th>\n",
       "      <th>TOURNAMENT</th>\n",
       "    </tr>\n",
       "  </thead>\n",
       "  <tbody>\n",
       "    <tr>\n",
       "      <th>0</th>\n",
       "      <td>Guido Migliozzi</td>\n",
       "      <td>1</td>\n",
       "      <td>4.0</td>\n",
       "      <td>5.77</td>\n",
       "      <td>2021-06-27</td>\n",
       "      <td>Travelers Championship</td>\n",
       "    </tr>\n",
       "    <tr>\n",
       "      <th>1</th>\n",
       "      <td>Dawie van der Walt</td>\n",
       "      <td>1</td>\n",
       "      <td>20.0</td>\n",
       "      <td>28.85</td>\n",
       "      <td>2021-06-27</td>\n",
       "      <td>Travelers Championship</td>\n",
       "    </tr>\n",
       "    <tr>\n",
       "      <th>2</th>\n",
       "      <td>Xander Schauffele</td>\n",
       "      <td>12</td>\n",
       "      <td>22.3</td>\n",
       "      <td>8.69</td>\n",
       "      <td>2021-06-27</td>\n",
       "      <td>Travelers Championship</td>\n",
       "    </tr>\n",
       "  </tbody>\n",
       "</table>\n",
       "</div>"
      ],
      "text/plain": [
       "               PLAYER  TOTAL_EVENTS_PLAYED  RECENT_FORM  adj_form ENDING_DATE  \\\n",
       "0     Guido Migliozzi                    1          4.0      5.77  2021-06-27   \n",
       "1  Dawie van der Walt                    1         20.0     28.85  2021-06-27   \n",
       "2   Xander Schauffele                   12         22.3      8.69  2021-06-27   \n",
       "\n",
       "               TOURNAMENT  \n",
       "0  Travelers Championship  \n",
       "1  Travelers Championship  \n",
       "2  Travelers Championship  "
      ]
     },
     "metadata": {},
     "output_type": "display_data"
    },
    {
     "name": "stdout",
     "output_type": "stream",
     "text": [
      "\n",
      "📆 2022-06-26 — Travelers Championship (523 players)\n"
     ]
    },
    {
     "data": {
      "text/html": [
       "<div>\n",
       "<style scoped>\n",
       "    .dataframe tbody tr th:only-of-type {\n",
       "        vertical-align: middle;\n",
       "    }\n",
       "\n",
       "    .dataframe tbody tr th {\n",
       "        vertical-align: top;\n",
       "    }\n",
       "\n",
       "    .dataframe thead th {\n",
       "        text-align: right;\n",
       "    }\n",
       "</style>\n",
       "<table border=\"1\" class=\"dataframe\">\n",
       "  <thead>\n",
       "    <tr style=\"text-align: right;\">\n",
       "      <th></th>\n",
       "      <th>PLAYER</th>\n",
       "      <th>TOTAL_EVENTS_PLAYED</th>\n",
       "      <th>RECENT_FORM</th>\n",
       "      <th>adj_form</th>\n",
       "      <th>ENDING_DATE</th>\n",
       "      <th>TOURNAMENT</th>\n",
       "    </tr>\n",
       "  </thead>\n",
       "  <tbody>\n",
       "    <tr>\n",
       "      <th>0</th>\n",
       "      <td>Haotong Li</td>\n",
       "      <td>1</td>\n",
       "      <td>12.0</td>\n",
       "      <td>17.31</td>\n",
       "      <td>2022-06-26</td>\n",
       "      <td>Travelers Championship</td>\n",
       "    </tr>\n",
       "    <tr>\n",
       "      <th>1</th>\n",
       "      <td>Martin Contini</td>\n",
       "      <td>1</td>\n",
       "      <td>16.0</td>\n",
       "      <td>23.08</td>\n",
       "      <td>2022-06-26</td>\n",
       "      <td>Travelers Championship</td>\n",
       "    </tr>\n",
       "    <tr>\n",
       "      <th>2</th>\n",
       "      <td>Rory McIlroy</td>\n",
       "      <td>11</td>\n",
       "      <td>16.9</td>\n",
       "      <td>6.80</td>\n",
       "      <td>2022-06-26</td>\n",
       "      <td>Travelers Championship</td>\n",
       "    </tr>\n",
       "  </tbody>\n",
       "</table>\n",
       "</div>"
      ],
      "text/plain": [
       "           PLAYER  TOTAL_EVENTS_PLAYED  RECENT_FORM  adj_form ENDING_DATE  \\\n",
       "0      Haotong Li                    1         12.0     17.31  2022-06-26   \n",
       "1  Martin Contini                    1         16.0     23.08  2022-06-26   \n",
       "2    Rory McIlroy                   11         16.9      6.80  2022-06-26   \n",
       "\n",
       "               TOURNAMENT  \n",
       "0  Travelers Championship  \n",
       "1  Travelers Championship  \n",
       "2  Travelers Championship  "
      ]
     },
     "metadata": {},
     "output_type": "display_data"
    },
    {
     "name": "stdout",
     "output_type": "stream",
     "text": [
      "\n",
      "📆 2023-06-25 — Travelers Championship (539 players)\n"
     ]
    },
    {
     "data": {
      "text/html": [
       "<div>\n",
       "<style scoped>\n",
       "    .dataframe tbody tr th:only-of-type {\n",
       "        vertical-align: middle;\n",
       "    }\n",
       "\n",
       "    .dataframe tbody tr th {\n",
       "        vertical-align: top;\n",
       "    }\n",
       "\n",
       "    .dataframe thead th {\n",
       "        text-align: right;\n",
       "    }\n",
       "</style>\n",
       "<table border=\"1\" class=\"dataframe\">\n",
       "  <thead>\n",
       "    <tr style=\"text-align: right;\">\n",
       "      <th></th>\n",
       "      <th>PLAYER</th>\n",
       "      <th>TOTAL_EVENTS_PLAYED</th>\n",
       "      <th>RECENT_FORM</th>\n",
       "      <th>adj_form</th>\n",
       "      <th>ENDING_DATE</th>\n",
       "      <th>TOURNAMENT</th>\n",
       "    </tr>\n",
       "  </thead>\n",
       "  <tbody>\n",
       "    <tr>\n",
       "      <th>0</th>\n",
       "      <td>Joohyung Kim</td>\n",
       "      <td>1</td>\n",
       "      <td>1.0</td>\n",
       "      <td>1.44</td>\n",
       "      <td>2023-06-25</td>\n",
       "      <td>Travelers Championship</td>\n",
       "    </tr>\n",
       "    <tr>\n",
       "      <th>1</th>\n",
       "      <td>Brooks Koepka</td>\n",
       "      <td>3</td>\n",
       "      <td>6.7</td>\n",
       "      <td>4.83</td>\n",
       "      <td>2023-06-25</td>\n",
       "      <td>Travelers Championship</td>\n",
       "    </tr>\n",
       "    <tr>\n",
       "      <th>2</th>\n",
       "      <td>Scottie Scheffler</td>\n",
       "      <td>17</td>\n",
       "      <td>7.8</td>\n",
       "      <td>2.70</td>\n",
       "      <td>2023-06-25</td>\n",
       "      <td>Travelers Championship</td>\n",
       "    </tr>\n",
       "  </tbody>\n",
       "</table>\n",
       "</div>"
      ],
      "text/plain": [
       "              PLAYER  TOTAL_EVENTS_PLAYED  RECENT_FORM  adj_form ENDING_DATE  \\\n",
       "0       Joohyung Kim                    1          1.0      1.44  2023-06-25   \n",
       "1      Brooks Koepka                    3          6.7      4.83  2023-06-25   \n",
       "2  Scottie Scheffler                   17          7.8      2.70  2023-06-25   \n",
       "\n",
       "               TOURNAMENT  \n",
       "0  Travelers Championship  \n",
       "1  Travelers Championship  \n",
       "2  Travelers Championship  "
      ]
     },
     "metadata": {},
     "output_type": "display_data"
    },
    {
     "name": "stdout",
     "output_type": "stream",
     "text": [
      "\n",
      "📆 2024-06-23 — Travelers Championship (502 players)\n"
     ]
    },
    {
     "data": {
      "text/html": [
       "<div>\n",
       "<style scoped>\n",
       "    .dataframe tbody tr th:only-of-type {\n",
       "        vertical-align: middle;\n",
       "    }\n",
       "\n",
       "    .dataframe tbody tr th {\n",
       "        vertical-align: top;\n",
       "    }\n",
       "\n",
       "    .dataframe thead th {\n",
       "        text-align: right;\n",
       "    }\n",
       "</style>\n",
       "<table border=\"1\" class=\"dataframe\">\n",
       "  <thead>\n",
       "    <tr style=\"text-align: right;\">\n",
       "      <th></th>\n",
       "      <th>PLAYER</th>\n",
       "      <th>TOTAL_EVENTS_PLAYED</th>\n",
       "      <th>RECENT_FORM</th>\n",
       "      <th>adj_form</th>\n",
       "      <th>ENDING_DATE</th>\n",
       "      <th>TOURNAMENT</th>\n",
       "    </tr>\n",
       "  </thead>\n",
       "  <tbody>\n",
       "    <tr>\n",
       "      <th>0</th>\n",
       "      <td>Bryson DeChambeau</td>\n",
       "      <td>3</td>\n",
       "      <td>3.0</td>\n",
       "      <td>2.16</td>\n",
       "      <td>2024-06-23</td>\n",
       "      <td>Travelers Championship</td>\n",
       "    </tr>\n",
       "    <tr>\n",
       "      <th>1</th>\n",
       "      <td>Scottie Scheffler</td>\n",
       "      <td>15</td>\n",
       "      <td>6.7</td>\n",
       "      <td>2.42</td>\n",
       "      <td>2024-06-23</td>\n",
       "      <td>Travelers Championship</td>\n",
       "    </tr>\n",
       "    <tr>\n",
       "      <th>2</th>\n",
       "      <td>Xander Schauffele</td>\n",
       "      <td>15</td>\n",
       "      <td>12.9</td>\n",
       "      <td>4.65</td>\n",
       "      <td>2024-06-23</td>\n",
       "      <td>Travelers Championship</td>\n",
       "    </tr>\n",
       "  </tbody>\n",
       "</table>\n",
       "</div>"
      ],
      "text/plain": [
       "              PLAYER  TOTAL_EVENTS_PLAYED  RECENT_FORM  adj_form ENDING_DATE  \\\n",
       "0  Bryson DeChambeau                    3          3.0      2.16  2024-06-23   \n",
       "1  Scottie Scheffler                   15          6.7      2.42  2024-06-23   \n",
       "2  Xander Schauffele                   15         12.9      4.65  2024-06-23   \n",
       "\n",
       "               TOURNAMENT  \n",
       "0  Travelers Championship  \n",
       "1  Travelers Championship  \n",
       "2  Travelers Championship  "
      ]
     },
     "metadata": {},
     "output_type": "display_data"
    }
   ],
   "source": [
    "importlib.reload(utils.db_utils)\n",
    "from utils.db_utils import get_recent_avg_finish\n",
    "\n",
    "recent_form = get_recent_avg_finish(\"data/golf.db\", history_df, window_months=9)\n",
    "\n",
    "# Example preview\n",
    "for date, df in recent_form.items(): \n",
    "    print(f\"\\n📆 {date} — {df['TOURNAMENT'].iloc[0]} ({len(df)} players)\")\n",
    "    display(df.head(3))"
   ]
  },
  {
   "cell_type": "markdown",
   "id": "76a77f44",
   "metadata": {},
   "source": [
    "### Course History"
   ]
  },
  {
   "cell_type": "code",
   "execution_count": 7,
   "id": "7412401a",
   "metadata": {},
   "outputs": [
    {
     "name": "stdout",
     "output_type": "stream",
     "text": [
      "\n",
      "🏌️‍♂️ Course history for Travelers Championship on 2016-08-07\n"
     ]
    },
    {
     "data": {
      "text/html": [
       "<div>\n",
       "<style scoped>\n",
       "    .dataframe tbody tr th:only-of-type {\n",
       "        vertical-align: middle;\n",
       "    }\n",
       "\n",
       "    .dataframe tbody tr th {\n",
       "        vertical-align: top;\n",
       "    }\n",
       "\n",
       "    .dataframe thead th {\n",
       "        text-align: right;\n",
       "    }\n",
       "</style>\n",
       "<table border=\"1\" class=\"dataframe\">\n",
       "  <thead>\n",
       "    <tr style=\"text-align: right;\">\n",
       "      <th></th>\n",
       "      <th>PLAYER</th>\n",
       "      <th>TOTAL_EVENTS_PLAYED</th>\n",
       "      <th>COURSE_HISTORY</th>\n",
       "      <th>adj_ch</th>\n",
       "      <th>ENDING_DATE</th>\n",
       "      <th>COURSE</th>\n",
       "      <th>TOURNAMENT</th>\n",
       "    </tr>\n",
       "  </thead>\n",
       "  <tbody>\n",
       "    <tr>\n",
       "      <th>0</th>\n",
       "      <td>Aaron Baddeley</td>\n",
       "      <td>1</td>\n",
       "      <td>48.0</td>\n",
       "      <td>69.25</td>\n",
       "      <td>2016-08-07</td>\n",
       "      <td>TPC River Highlands</td>\n",
       "      <td>Travelers Championship</td>\n",
       "    </tr>\n",
       "    <tr>\n",
       "      <th>1</th>\n",
       "      <td>Adam Hadwin</td>\n",
       "      <td>1</td>\n",
       "      <td>90.0</td>\n",
       "      <td>129.84</td>\n",
       "      <td>2016-08-07</td>\n",
       "      <td>TPC River Highlands</td>\n",
       "      <td>Travelers Championship</td>\n",
       "    </tr>\n",
       "    <tr>\n",
       "      <th>2</th>\n",
       "      <td>Alex Cejka</td>\n",
       "      <td>1</td>\n",
       "      <td>90.0</td>\n",
       "      <td>129.84</td>\n",
       "      <td>2016-08-07</td>\n",
       "      <td>TPC River Highlands</td>\n",
       "      <td>Travelers Championship</td>\n",
       "    </tr>\n",
       "  </tbody>\n",
       "</table>\n",
       "</div>"
      ],
      "text/plain": [
       "           PLAYER  TOTAL_EVENTS_PLAYED  COURSE_HISTORY  adj_ch ENDING_DATE  \\\n",
       "0  Aaron Baddeley                    1            48.0   69.25  2016-08-07   \n",
       "1     Adam Hadwin                    1            90.0  129.84  2016-08-07   \n",
       "2      Alex Cejka                    1            90.0  129.84  2016-08-07   \n",
       "\n",
       "                COURSE              TOURNAMENT  \n",
       "0  TPC River Highlands  Travelers Championship  \n",
       "1  TPC River Highlands  Travelers Championship  \n",
       "2  TPC River Highlands  Travelers Championship  "
      ]
     },
     "metadata": {},
     "output_type": "display_data"
    },
    {
     "name": "stdout",
     "output_type": "stream",
     "text": [
      "\n",
      "🏌️‍♂️ Course history for Travelers Championship on 2017-06-25\n"
     ]
    },
    {
     "data": {
      "text/html": [
       "<div>\n",
       "<style scoped>\n",
       "    .dataframe tbody tr th:only-of-type {\n",
       "        vertical-align: middle;\n",
       "    }\n",
       "\n",
       "    .dataframe tbody tr th {\n",
       "        vertical-align: top;\n",
       "    }\n",
       "\n",
       "    .dataframe thead th {\n",
       "        text-align: right;\n",
       "    }\n",
       "</style>\n",
       "<table border=\"1\" class=\"dataframe\">\n",
       "  <thead>\n",
       "    <tr style=\"text-align: right;\">\n",
       "      <th></th>\n",
       "      <th>PLAYER</th>\n",
       "      <th>TOTAL_EVENTS_PLAYED</th>\n",
       "      <th>COURSE_HISTORY</th>\n",
       "      <th>adj_ch</th>\n",
       "      <th>ENDING_DATE</th>\n",
       "      <th>COURSE</th>\n",
       "      <th>TOURNAMENT</th>\n",
       "    </tr>\n",
       "  </thead>\n",
       "  <tbody>\n",
       "    <tr>\n",
       "      <th>0</th>\n",
       "      <td>Aaron Baddeley</td>\n",
       "      <td>2</td>\n",
       "      <td>41.0</td>\n",
       "      <td>37.32</td>\n",
       "      <td>2017-06-25</td>\n",
       "      <td>TPC River Highlands</td>\n",
       "      <td>Travelers Championship</td>\n",
       "    </tr>\n",
       "    <tr>\n",
       "      <th>1</th>\n",
       "      <td>Abraham Ancer</td>\n",
       "      <td>1</td>\n",
       "      <td>56.0</td>\n",
       "      <td>80.79</td>\n",
       "      <td>2017-06-25</td>\n",
       "      <td>TPC River Highlands</td>\n",
       "      <td>Travelers Championship</td>\n",
       "    </tr>\n",
       "    <tr>\n",
       "      <th>2</th>\n",
       "      <td>Adam Hadwin</td>\n",
       "      <td>2</td>\n",
       "      <td>90.0</td>\n",
       "      <td>81.92</td>\n",
       "      <td>2017-06-25</td>\n",
       "      <td>TPC River Highlands</td>\n",
       "      <td>Travelers Championship</td>\n",
       "    </tr>\n",
       "  </tbody>\n",
       "</table>\n",
       "</div>"
      ],
      "text/plain": [
       "           PLAYER  TOTAL_EVENTS_PLAYED  COURSE_HISTORY  adj_ch ENDING_DATE  \\\n",
       "0  Aaron Baddeley                    2            41.0   37.32  2017-06-25   \n",
       "1   Abraham Ancer                    1            56.0   80.79  2017-06-25   \n",
       "2     Adam Hadwin                    2            90.0   81.92  2017-06-25   \n",
       "\n",
       "                COURSE              TOURNAMENT  \n",
       "0  TPC River Highlands  Travelers Championship  \n",
       "1  TPC River Highlands  Travelers Championship  \n",
       "2  TPC River Highlands  Travelers Championship  "
      ]
     },
     "metadata": {},
     "output_type": "display_data"
    },
    {
     "name": "stdout",
     "output_type": "stream",
     "text": [
      "\n",
      "🏌️‍♂️ Course history for Travelers Championship on 2018-06-24\n"
     ]
    },
    {
     "data": {
      "text/html": [
       "<div>\n",
       "<style scoped>\n",
       "    .dataframe tbody tr th:only-of-type {\n",
       "        vertical-align: middle;\n",
       "    }\n",
       "\n",
       "    .dataframe tbody tr th {\n",
       "        vertical-align: top;\n",
       "    }\n",
       "\n",
       "    .dataframe thead th {\n",
       "        text-align: right;\n",
       "    }\n",
       "</style>\n",
       "<table border=\"1\" class=\"dataframe\">\n",
       "  <thead>\n",
       "    <tr style=\"text-align: right;\">\n",
       "      <th></th>\n",
       "      <th>PLAYER</th>\n",
       "      <th>TOTAL_EVENTS_PLAYED</th>\n",
       "      <th>COURSE_HISTORY</th>\n",
       "      <th>adj_ch</th>\n",
       "      <th>ENDING_DATE</th>\n",
       "      <th>COURSE</th>\n",
       "      <th>TOURNAMENT</th>\n",
       "    </tr>\n",
       "  </thead>\n",
       "  <tbody>\n",
       "    <tr>\n",
       "      <th>0</th>\n",
       "      <td>Aaron Baddeley</td>\n",
       "      <td>2</td>\n",
       "      <td>41.0</td>\n",
       "      <td>37.32</td>\n",
       "      <td>2018-06-24</td>\n",
       "      <td>TPC River Highlands</td>\n",
       "      <td>Travelers Championship</td>\n",
       "    </tr>\n",
       "    <tr>\n",
       "      <th>1</th>\n",
       "      <td>Abraham Ancer</td>\n",
       "      <td>1</td>\n",
       "      <td>56.0</td>\n",
       "      <td>80.79</td>\n",
       "      <td>2018-06-24</td>\n",
       "      <td>TPC River Highlands</td>\n",
       "      <td>Travelers Championship</td>\n",
       "    </tr>\n",
       "    <tr>\n",
       "      <th>2</th>\n",
       "      <td>Adam Hadwin</td>\n",
       "      <td>3</td>\n",
       "      <td>79.0</td>\n",
       "      <td>56.99</td>\n",
       "      <td>2018-06-24</td>\n",
       "      <td>TPC River Highlands</td>\n",
       "      <td>Travelers Championship</td>\n",
       "    </tr>\n",
       "  </tbody>\n",
       "</table>\n",
       "</div>"
      ],
      "text/plain": [
       "           PLAYER  TOTAL_EVENTS_PLAYED  COURSE_HISTORY  adj_ch ENDING_DATE  \\\n",
       "0  Aaron Baddeley                    2            41.0   37.32  2018-06-24   \n",
       "1   Abraham Ancer                    1            56.0   80.79  2018-06-24   \n",
       "2     Adam Hadwin                    3            79.0   56.99  2018-06-24   \n",
       "\n",
       "                COURSE              TOURNAMENT  \n",
       "0  TPC River Highlands  Travelers Championship  \n",
       "1  TPC River Highlands  Travelers Championship  \n",
       "2  TPC River Highlands  Travelers Championship  "
      ]
     },
     "metadata": {},
     "output_type": "display_data"
    },
    {
     "name": "stdout",
     "output_type": "stream",
     "text": [
      "\n",
      "🏌️‍♂️ Course history for Travelers Championship on 2019-06-23\n"
     ]
    },
    {
     "data": {
      "text/html": [
       "<div>\n",
       "<style scoped>\n",
       "    .dataframe tbody tr th:only-of-type {\n",
       "        vertical-align: middle;\n",
       "    }\n",
       "\n",
       "    .dataframe tbody tr th {\n",
       "        vertical-align: top;\n",
       "    }\n",
       "\n",
       "    .dataframe thead th {\n",
       "        text-align: right;\n",
       "    }\n",
       "</style>\n",
       "<table border=\"1\" class=\"dataframe\">\n",
       "  <thead>\n",
       "    <tr style=\"text-align: right;\">\n",
       "      <th></th>\n",
       "      <th>PLAYER</th>\n",
       "      <th>TOTAL_EVENTS_PLAYED</th>\n",
       "      <th>COURSE_HISTORY</th>\n",
       "      <th>adj_ch</th>\n",
       "      <th>ENDING_DATE</th>\n",
       "      <th>COURSE</th>\n",
       "      <th>TOURNAMENT</th>\n",
       "    </tr>\n",
       "  </thead>\n",
       "  <tbody>\n",
       "    <tr>\n",
       "      <th>0</th>\n",
       "      <td>Aaron Baddeley</td>\n",
       "      <td>3</td>\n",
       "      <td>57.3</td>\n",
       "      <td>41.33</td>\n",
       "      <td>2019-06-23</td>\n",
       "      <td>TPC River Highlands</td>\n",
       "      <td>Travelers Championship</td>\n",
       "    </tr>\n",
       "    <tr>\n",
       "      <th>1</th>\n",
       "      <td>Abraham Ancer</td>\n",
       "      <td>2</td>\n",
       "      <td>73.0</td>\n",
       "      <td>66.45</td>\n",
       "      <td>2019-06-23</td>\n",
       "      <td>TPC River Highlands</td>\n",
       "      <td>Travelers Championship</td>\n",
       "    </tr>\n",
       "    <tr>\n",
       "      <th>2</th>\n",
       "      <td>Adam D'Amario</td>\n",
       "      <td>1</td>\n",
       "      <td>90.0</td>\n",
       "      <td>129.84</td>\n",
       "      <td>2019-06-23</td>\n",
       "      <td>TPC River Highlands</td>\n",
       "      <td>Travelers Championship</td>\n",
       "    </tr>\n",
       "  </tbody>\n",
       "</table>\n",
       "</div>"
      ],
      "text/plain": [
       "           PLAYER  TOTAL_EVENTS_PLAYED  COURSE_HISTORY  adj_ch ENDING_DATE  \\\n",
       "0  Aaron Baddeley                    3            57.3   41.33  2019-06-23   \n",
       "1   Abraham Ancer                    2            73.0   66.45  2019-06-23   \n",
       "2   Adam D'Amario                    1            90.0  129.84  2019-06-23   \n",
       "\n",
       "                COURSE              TOURNAMENT  \n",
       "0  TPC River Highlands  Travelers Championship  \n",
       "1  TPC River Highlands  Travelers Championship  \n",
       "2  TPC River Highlands  Travelers Championship  "
      ]
     },
     "metadata": {},
     "output_type": "display_data"
    },
    {
     "name": "stdout",
     "output_type": "stream",
     "text": [
      "\n",
      "🏌️‍♂️ Course history for Travelers Championship on 2020-06-28\n"
     ]
    },
    {
     "data": {
      "text/html": [
       "<div>\n",
       "<style scoped>\n",
       "    .dataframe tbody tr th:only-of-type {\n",
       "        vertical-align: middle;\n",
       "    }\n",
       "\n",
       "    .dataframe tbody tr th {\n",
       "        vertical-align: top;\n",
       "    }\n",
       "\n",
       "    .dataframe thead th {\n",
       "        text-align: right;\n",
       "    }\n",
       "</style>\n",
       "<table border=\"1\" class=\"dataframe\">\n",
       "  <thead>\n",
       "    <tr style=\"text-align: right;\">\n",
       "      <th></th>\n",
       "      <th>PLAYER</th>\n",
       "      <th>TOTAL_EVENTS_PLAYED</th>\n",
       "      <th>COURSE_HISTORY</th>\n",
       "      <th>adj_ch</th>\n",
       "      <th>ENDING_DATE</th>\n",
       "      <th>COURSE</th>\n",
       "      <th>TOURNAMENT</th>\n",
       "    </tr>\n",
       "  </thead>\n",
       "  <tbody>\n",
       "    <tr>\n",
       "      <th>0</th>\n",
       "      <td>Aaron Baddeley</td>\n",
       "      <td>4</td>\n",
       "      <td>65.5</td>\n",
       "      <td>40.70</td>\n",
       "      <td>2020-06-28</td>\n",
       "      <td>TPC River Highlands</td>\n",
       "      <td>Travelers Championship</td>\n",
       "    </tr>\n",
       "    <tr>\n",
       "      <th>1</th>\n",
       "      <td>Abraham Ancer</td>\n",
       "      <td>3</td>\n",
       "      <td>51.3</td>\n",
       "      <td>37.01</td>\n",
       "      <td>2020-06-28</td>\n",
       "      <td>TPC River Highlands</td>\n",
       "      <td>Travelers Championship</td>\n",
       "    </tr>\n",
       "    <tr>\n",
       "      <th>2</th>\n",
       "      <td>Adam D'Amario</td>\n",
       "      <td>1</td>\n",
       "      <td>90.0</td>\n",
       "      <td>129.84</td>\n",
       "      <td>2020-06-28</td>\n",
       "      <td>TPC River Highlands</td>\n",
       "      <td>Travelers Championship</td>\n",
       "    </tr>\n",
       "  </tbody>\n",
       "</table>\n",
       "</div>"
      ],
      "text/plain": [
       "           PLAYER  TOTAL_EVENTS_PLAYED  COURSE_HISTORY  adj_ch ENDING_DATE  \\\n",
       "0  Aaron Baddeley                    4            65.5   40.70  2020-06-28   \n",
       "1   Abraham Ancer                    3            51.3   37.01  2020-06-28   \n",
       "2   Adam D'Amario                    1            90.0  129.84  2020-06-28   \n",
       "\n",
       "                COURSE              TOURNAMENT  \n",
       "0  TPC River Highlands  Travelers Championship  \n",
       "1  TPC River Highlands  Travelers Championship  \n",
       "2  TPC River Highlands  Travelers Championship  "
      ]
     },
     "metadata": {},
     "output_type": "display_data"
    },
    {
     "name": "stdout",
     "output_type": "stream",
     "text": [
      "\n",
      "🏌️‍♂️ Course history for Travelers Championship on 2021-06-27\n"
     ]
    },
    {
     "data": {
      "text/html": [
       "<div>\n",
       "<style scoped>\n",
       "    .dataframe tbody tr th:only-of-type {\n",
       "        vertical-align: middle;\n",
       "    }\n",
       "\n",
       "    .dataframe tbody tr th {\n",
       "        vertical-align: top;\n",
       "    }\n",
       "\n",
       "    .dataframe thead th {\n",
       "        text-align: right;\n",
       "    }\n",
       "</style>\n",
       "<table border=\"1\" class=\"dataframe\">\n",
       "  <thead>\n",
       "    <tr style=\"text-align: right;\">\n",
       "      <th></th>\n",
       "      <th>PLAYER</th>\n",
       "      <th>TOTAL_EVENTS_PLAYED</th>\n",
       "      <th>COURSE_HISTORY</th>\n",
       "      <th>adj_ch</th>\n",
       "      <th>ENDING_DATE</th>\n",
       "      <th>COURSE</th>\n",
       "      <th>TOURNAMENT</th>\n",
       "    </tr>\n",
       "  </thead>\n",
       "  <tbody>\n",
       "    <tr>\n",
       "      <th>0</th>\n",
       "      <td>Aaron Baddeley</td>\n",
       "      <td>5</td>\n",
       "      <td>70.4</td>\n",
       "      <td>39.29</td>\n",
       "      <td>2021-06-27</td>\n",
       "      <td>TPC River Highlands</td>\n",
       "      <td>Travelers Championship</td>\n",
       "    </tr>\n",
       "    <tr>\n",
       "      <th>1</th>\n",
       "      <td>Aaron Wise</td>\n",
       "      <td>1</td>\n",
       "      <td>46.0</td>\n",
       "      <td>66.36</td>\n",
       "      <td>2021-06-27</td>\n",
       "      <td>TPC River Highlands</td>\n",
       "      <td>Travelers Championship</td>\n",
       "    </tr>\n",
       "    <tr>\n",
       "      <th>2</th>\n",
       "      <td>Abraham Ancer</td>\n",
       "      <td>4</td>\n",
       "      <td>41.3</td>\n",
       "      <td>25.66</td>\n",
       "      <td>2021-06-27</td>\n",
       "      <td>TPC River Highlands</td>\n",
       "      <td>Travelers Championship</td>\n",
       "    </tr>\n",
       "  </tbody>\n",
       "</table>\n",
       "</div>"
      ],
      "text/plain": [
       "           PLAYER  TOTAL_EVENTS_PLAYED  COURSE_HISTORY  adj_ch ENDING_DATE  \\\n",
       "0  Aaron Baddeley                    5            70.4   39.29  2021-06-27   \n",
       "1      Aaron Wise                    1            46.0   66.36  2021-06-27   \n",
       "2   Abraham Ancer                    4            41.3   25.66  2021-06-27   \n",
       "\n",
       "                COURSE              TOURNAMENT  \n",
       "0  TPC River Highlands  Travelers Championship  \n",
       "1  TPC River Highlands  Travelers Championship  \n",
       "2  TPC River Highlands  Travelers Championship  "
      ]
     },
     "metadata": {},
     "output_type": "display_data"
    },
    {
     "name": "stdout",
     "output_type": "stream",
     "text": [
      "\n",
      "🏌️‍♂️ Course history for Travelers Championship on 2022-06-26\n"
     ]
    },
    {
     "data": {
      "text/html": [
       "<div>\n",
       "<style scoped>\n",
       "    .dataframe tbody tr th:only-of-type {\n",
       "        vertical-align: middle;\n",
       "    }\n",
       "\n",
       "    .dataframe tbody tr th {\n",
       "        vertical-align: top;\n",
       "    }\n",
       "\n",
       "    .dataframe thead th {\n",
       "        text-align: right;\n",
       "    }\n",
       "</style>\n",
       "<table border=\"1\" class=\"dataframe\">\n",
       "  <thead>\n",
       "    <tr style=\"text-align: right;\">\n",
       "      <th></th>\n",
       "      <th>PLAYER</th>\n",
       "      <th>TOTAL_EVENTS_PLAYED</th>\n",
       "      <th>COURSE_HISTORY</th>\n",
       "      <th>adj_ch</th>\n",
       "      <th>ENDING_DATE</th>\n",
       "      <th>COURSE</th>\n",
       "      <th>TOURNAMENT</th>\n",
       "    </tr>\n",
       "  </thead>\n",
       "  <tbody>\n",
       "    <tr>\n",
       "      <th>0</th>\n",
       "      <td>Aaron Baddeley</td>\n",
       "      <td>5</td>\n",
       "      <td>70.4</td>\n",
       "      <td>39.29</td>\n",
       "      <td>2022-06-26</td>\n",
       "      <td>TPC River Highlands</td>\n",
       "      <td>Travelers Championship</td>\n",
       "    </tr>\n",
       "    <tr>\n",
       "      <th>1</th>\n",
       "      <td>Aaron Wise</td>\n",
       "      <td>2</td>\n",
       "      <td>56.0</td>\n",
       "      <td>50.97</td>\n",
       "      <td>2022-06-26</td>\n",
       "      <td>TPC River Highlands</td>\n",
       "      <td>Travelers Championship</td>\n",
       "    </tr>\n",
       "    <tr>\n",
       "      <th>2</th>\n",
       "      <td>Abraham Ancer</td>\n",
       "      <td>5</td>\n",
       "      <td>33.8</td>\n",
       "      <td>18.86</td>\n",
       "      <td>2022-06-26</td>\n",
       "      <td>TPC River Highlands</td>\n",
       "      <td>Travelers Championship</td>\n",
       "    </tr>\n",
       "  </tbody>\n",
       "</table>\n",
       "</div>"
      ],
      "text/plain": [
       "           PLAYER  TOTAL_EVENTS_PLAYED  COURSE_HISTORY  adj_ch ENDING_DATE  \\\n",
       "0  Aaron Baddeley                    5            70.4   39.29  2022-06-26   \n",
       "1      Aaron Wise                    2            56.0   50.97  2022-06-26   \n",
       "2   Abraham Ancer                    5            33.8   18.86  2022-06-26   \n",
       "\n",
       "                COURSE              TOURNAMENT  \n",
       "0  TPC River Highlands  Travelers Championship  \n",
       "1  TPC River Highlands  Travelers Championship  \n",
       "2  TPC River Highlands  Travelers Championship  "
      ]
     },
     "metadata": {},
     "output_type": "display_data"
    },
    {
     "name": "stdout",
     "output_type": "stream",
     "text": [
      "\n",
      "🏌️‍♂️ Course history for Travelers Championship on 2023-06-25\n"
     ]
    },
    {
     "data": {
      "text/html": [
       "<div>\n",
       "<style scoped>\n",
       "    .dataframe tbody tr th:only-of-type {\n",
       "        vertical-align: middle;\n",
       "    }\n",
       "\n",
       "    .dataframe tbody tr th {\n",
       "        vertical-align: top;\n",
       "    }\n",
       "\n",
       "    .dataframe thead th {\n",
       "        text-align: right;\n",
       "    }\n",
       "</style>\n",
       "<table border=\"1\" class=\"dataframe\">\n",
       "  <thead>\n",
       "    <tr style=\"text-align: right;\">\n",
       "      <th></th>\n",
       "      <th>PLAYER</th>\n",
       "      <th>TOTAL_EVENTS_PLAYED</th>\n",
       "      <th>COURSE_HISTORY</th>\n",
       "      <th>adj_ch</th>\n",
       "      <th>ENDING_DATE</th>\n",
       "      <th>COURSE</th>\n",
       "      <th>TOURNAMENT</th>\n",
       "    </tr>\n",
       "  </thead>\n",
       "  <tbody>\n",
       "    <tr>\n",
       "      <th>0</th>\n",
       "      <td>Aaron Baddeley</td>\n",
       "      <td>4</td>\n",
       "      <td>76.0</td>\n",
       "      <td>47.22</td>\n",
       "      <td>2023-06-25</td>\n",
       "      <td>TPC River Highlands</td>\n",
       "      <td>Travelers Championship</td>\n",
       "    </tr>\n",
       "    <tr>\n",
       "      <th>1</th>\n",
       "      <td>Aaron Rai</td>\n",
       "      <td>1</td>\n",
       "      <td>40.0</td>\n",
       "      <td>57.71</td>\n",
       "      <td>2023-06-25</td>\n",
       "      <td>TPC River Highlands</td>\n",
       "      <td>Travelers Championship</td>\n",
       "    </tr>\n",
       "    <tr>\n",
       "      <th>2</th>\n",
       "      <td>Aaron Wise</td>\n",
       "      <td>3</td>\n",
       "      <td>67.3</td>\n",
       "      <td>48.55</td>\n",
       "      <td>2023-06-25</td>\n",
       "      <td>TPC River Highlands</td>\n",
       "      <td>Travelers Championship</td>\n",
       "    </tr>\n",
       "  </tbody>\n",
       "</table>\n",
       "</div>"
      ],
      "text/plain": [
       "           PLAYER  TOTAL_EVENTS_PLAYED  COURSE_HISTORY  adj_ch ENDING_DATE  \\\n",
       "0  Aaron Baddeley                    4            76.0   47.22  2023-06-25   \n",
       "1       Aaron Rai                    1            40.0   57.71  2023-06-25   \n",
       "2      Aaron Wise                    3            67.3   48.55  2023-06-25   \n",
       "\n",
       "                COURSE              TOURNAMENT  \n",
       "0  TPC River Highlands  Travelers Championship  \n",
       "1  TPC River Highlands  Travelers Championship  \n",
       "2  TPC River Highlands  Travelers Championship  "
      ]
     },
     "metadata": {},
     "output_type": "display_data"
    },
    {
     "name": "stdout",
     "output_type": "stream",
     "text": [
      "\n",
      "🏌️‍♂️ Course history for Travelers Championship on 2024-06-23\n"
     ]
    },
    {
     "data": {
      "text/html": [
       "<div>\n",
       "<style scoped>\n",
       "    .dataframe tbody tr th:only-of-type {\n",
       "        vertical-align: middle;\n",
       "    }\n",
       "\n",
       "    .dataframe tbody tr th {\n",
       "        vertical-align: top;\n",
       "    }\n",
       "\n",
       "    .dataframe thead th {\n",
       "        text-align: right;\n",
       "    }\n",
       "</style>\n",
       "<table border=\"1\" class=\"dataframe\">\n",
       "  <thead>\n",
       "    <tr style=\"text-align: right;\">\n",
       "      <th></th>\n",
       "      <th>PLAYER</th>\n",
       "      <th>TOTAL_EVENTS_PLAYED</th>\n",
       "      <th>COURSE_HISTORY</th>\n",
       "      <th>adj_ch</th>\n",
       "      <th>ENDING_DATE</th>\n",
       "      <th>COURSE</th>\n",
       "      <th>TOURNAMENT</th>\n",
       "    </tr>\n",
       "  </thead>\n",
       "  <tbody>\n",
       "    <tr>\n",
       "      <th>0</th>\n",
       "      <td>Aaron Baddeley</td>\n",
       "      <td>3</td>\n",
       "      <td>90.0</td>\n",
       "      <td>64.92</td>\n",
       "      <td>2024-06-23</td>\n",
       "      <td>TPC River Highlands</td>\n",
       "      <td>Travelers Championship</td>\n",
       "    </tr>\n",
       "    <tr>\n",
       "      <th>1</th>\n",
       "      <td>Aaron Rai</td>\n",
       "      <td>2</td>\n",
       "      <td>32.0</td>\n",
       "      <td>29.13</td>\n",
       "      <td>2024-06-23</td>\n",
       "      <td>TPC River Highlands</td>\n",
       "      <td>Travelers Championship</td>\n",
       "    </tr>\n",
       "    <tr>\n",
       "      <th>2</th>\n",
       "      <td>Aaron Wise</td>\n",
       "      <td>3</td>\n",
       "      <td>67.3</td>\n",
       "      <td>48.55</td>\n",
       "      <td>2024-06-23</td>\n",
       "      <td>TPC River Highlands</td>\n",
       "      <td>Travelers Championship</td>\n",
       "    </tr>\n",
       "  </tbody>\n",
       "</table>\n",
       "</div>"
      ],
      "text/plain": [
       "           PLAYER  TOTAL_EVENTS_PLAYED  COURSE_HISTORY  adj_ch ENDING_DATE  \\\n",
       "0  Aaron Baddeley                    3            90.0   64.92  2024-06-23   \n",
       "1       Aaron Rai                    2            32.0   29.13  2024-06-23   \n",
       "2      Aaron Wise                    3            67.3   48.55  2024-06-23   \n",
       "\n",
       "                COURSE              TOURNAMENT  \n",
       "0  TPC River Highlands  Travelers Championship  \n",
       "1  TPC River Highlands  Travelers Championship  \n",
       "2  TPC River Highlands  Travelers Championship  "
      ]
     },
     "metadata": {},
     "output_type": "display_data"
    }
   ],
   "source": [
    "importlib.reload(utils.db_utils)\n",
    "from utils.db_utils import get_course_history\n",
    "\n",
    "# Filter history_df for only the course we're targeting\n",
    "target_course = tournament_config[\"new\"][\"course\"]\n",
    "course_df = history_df[history_df[\"COURSE\"] == target_course]\n",
    "course_hist = get_course_history(\"data/golf.db\", course_df)\n",
    "\n",
    "# View example\n",
    "for date, df in course_hist.items():\n",
    "    if not df.empty:\n",
    "        print(f\"\\n🏌️‍♂️ Course history for {df['TOURNAMENT'].iloc[0]} on {date}\")\n",
    "        display(df.head(3))"
   ]
  },
  {
   "cell_type": "markdown",
   "id": "e8fa7578",
   "metadata": {},
   "source": [
    "## Training Dataset"
   ]
  },
  {
   "cell_type": "code",
   "execution_count": 8,
   "id": "a4277295",
   "metadata": {},
   "outputs": [
    {
     "data": {
      "text/html": [
       "<div>\n",
       "<style scoped>\n",
       "    .dataframe tbody tr th:only-of-type {\n",
       "        vertical-align: middle;\n",
       "    }\n",
       "\n",
       "    .dataframe tbody tr th {\n",
       "        vertical-align: top;\n",
       "    }\n",
       "\n",
       "    .dataframe thead th {\n",
       "        text-align: right;\n",
       "    }\n",
       "</style>\n",
       "<table border=\"1\" class=\"dataframe\">\n",
       "  <thead>\n",
       "    <tr style=\"text-align: right;\">\n",
       "      <th></th>\n",
       "      <th>SEASON</th>\n",
       "      <th>ENDING_DATE</th>\n",
       "      <th>TOURNAMENT</th>\n",
       "      <th>COURSE</th>\n",
       "      <th>PLAYER</th>\n",
       "      <th>POS</th>\n",
       "      <th>FINAL_POS</th>\n",
       "      <th>SGTTG_RANK</th>\n",
       "      <th>SGTTG</th>\n",
       "      <th>SGOTT_RANK</th>\n",
       "      <th>SGOTT</th>\n",
       "      <th>SGAPR_RANK</th>\n",
       "      <th>SGAPR</th>\n",
       "      <th>SGATG_RANK</th>\n",
       "      <th>SGATG</th>\n",
       "      <th>SGP_RANK</th>\n",
       "      <th>SGP</th>\n",
       "      <th>BIRDIES_RANK</th>\n",
       "      <th>BIRDIES</th>\n",
       "      <th>PAR_3_RANK</th>\n",
       "      <th>PAR_3</th>\n",
       "      <th>PAR_4_RANK</th>\n",
       "      <th>PAR_4</th>\n",
       "      <th>PAR_5_RANK</th>\n",
       "      <th>PAR_5</th>\n",
       "      <th>TOTAL_DRIVING_RANK</th>\n",
       "      <th>TOTAL_DRIVING</th>\n",
       "      <th>DRIVING_DISTANCE_RANK</th>\n",
       "      <th>DRIVING_DISTANCE</th>\n",
       "      <th>DRIVING_ACCURACY_RANK</th>\n",
       "      <th>DRIVING_ACCURACY</th>\n",
       "      <th>GIR_RANK</th>\n",
       "      <th>GIR</th>\n",
       "      <th>SCRAMBLING_RANK</th>\n",
       "      <th>SCRAMBLING</th>\n",
       "      <th>OWGR_RANK</th>\n",
       "      <th>OWGR</th>\n",
       "      <th>VEGAS_ODDS</th>\n",
       "      <th>CUT_PERCENTAGE</th>\n",
       "      <th>FEDEX_CUP_POINTS</th>\n",
       "      <th>form_density</th>\n",
       "      <th>CONSECUTIVE_CUTS</th>\n",
       "      <th>RECENT_FORM</th>\n",
       "      <th>adj_form</th>\n",
       "      <th>COURSE_HISTORY</th>\n",
       "      <th>adj_ch</th>\n",
       "      <th>TOP_20</th>\n",
       "    </tr>\n",
       "  </thead>\n",
       "  <tbody>\n",
       "    <tr>\n",
       "      <th>0</th>\n",
       "      <td>2016</td>\n",
       "      <td>2016-08-07</td>\n",
       "      <td>Travelers Championship</td>\n",
       "      <td>TPC River Highlands</td>\n",
       "      <td>Aaron Baddeley</td>\n",
       "      <td>T34</td>\n",
       "      <td>34</td>\n",
       "      <td>146.0</td>\n",
       "      <td>-0.330</td>\n",
       "      <td>159.0</td>\n",
       "      <td>-0.366</td>\n",
       "      <td>164.0</td>\n",
       "      <td>-0.362</td>\n",
       "      <td>10.0</td>\n",
       "      <td>0.402</td>\n",
       "      <td>8.0</td>\n",
       "      <td>0.586</td>\n",
       "      <td>59.0</td>\n",
       "      <td>20.72</td>\n",
       "      <td>78.0</td>\n",
       "      <td>3.06</td>\n",
       "      <td>14.0</td>\n",
       "      <td>4.01</td>\n",
       "      <td>50.0</td>\n",
       "      <td>4.64</td>\n",
       "      <td>159.0</td>\n",
       "      <td>237.0</td>\n",
       "      <td>82.0</td>\n",
       "      <td>291.7</td>\n",
       "      <td>155.0</td>\n",
       "      <td>55.42</td>\n",
       "      <td>154.0</td>\n",
       "      <td>63.11</td>\n",
       "      <td>5.0</td>\n",
       "      <td>64.3</td>\n",
       "      <td>143.0</td>\n",
       "      <td>1.14</td>\n",
       "      <td>60.0</td>\n",
       "      <td>58.8</td>\n",
       "      <td>383.50</td>\n",
       "      <td>22.56</td>\n",
       "      <td>1.0</td>\n",
       "      <td>55.8</td>\n",
       "      <td>19.31</td>\n",
       "      <td>48.0</td>\n",
       "      <td>69.25</td>\n",
       "      <td>0</td>\n",
       "    </tr>\n",
       "    <tr>\n",
       "      <th>1</th>\n",
       "      <td>2016</td>\n",
       "      <td>2016-08-07</td>\n",
       "      <td>Travelers Championship</td>\n",
       "      <td>TPC River Highlands</td>\n",
       "      <td>Abraham Ancer</td>\n",
       "      <td>T56</td>\n",
       "      <td>56</td>\n",
       "      <td>144.0</td>\n",
       "      <td>-0.307</td>\n",
       "      <td>111.0</td>\n",
       "      <td>-0.024</td>\n",
       "      <td>161.0</td>\n",
       "      <td>-0.340</td>\n",
       "      <td>77.0</td>\n",
       "      <td>0.057</td>\n",
       "      <td>172.0</td>\n",
       "      <td>-0.421</td>\n",
       "      <td>154.0</td>\n",
       "      <td>18.63</td>\n",
       "      <td>120.0</td>\n",
       "      <td>3.08</td>\n",
       "      <td>136.0</td>\n",
       "      <td>4.07</td>\n",
       "      <td>183.0</td>\n",
       "      <td>4.80</td>\n",
       "      <td>131.0</td>\n",
       "      <td>205.0</td>\n",
       "      <td>178.0</td>\n",
       "      <td>276.4</td>\n",
       "      <td>27.0</td>\n",
       "      <td>65.42</td>\n",
       "      <td>174.0</td>\n",
       "      <td>61.81</td>\n",
       "      <td>131.0</td>\n",
       "      <td>56.67</td>\n",
       "      <td>619.0</td>\n",
       "      <td>0.25</td>\n",
       "      <td>NaN</td>\n",
       "      <td>22.2</td>\n",
       "      <td>43.00</td>\n",
       "      <td>4.78</td>\n",
       "      <td>0.0</td>\n",
       "      <td>80.1</td>\n",
       "      <td>34.79</td>\n",
       "      <td>NaN</td>\n",
       "      <td>NaN</td>\n",
       "      <td>0</td>\n",
       "    </tr>\n",
       "    <tr>\n",
       "      <th>2</th>\n",
       "      <td>2016</td>\n",
       "      <td>2016-08-07</td>\n",
       "      <td>Travelers Championship</td>\n",
       "      <td>TPC River Highlands</td>\n",
       "      <td>Adam Hadwin</td>\n",
       "      <td>CUT</td>\n",
       "      <td>90</td>\n",
       "      <td>111.0</td>\n",
       "      <td>-0.011</td>\n",
       "      <td>55.0</td>\n",
       "      <td>0.223</td>\n",
       "      <td>121.0</td>\n",
       "      <td>-0.055</td>\n",
       "      <td>132.0</td>\n",
       "      <td>-0.081</td>\n",
       "      <td>11.0</td>\n",
       "      <td>0.530</td>\n",
       "      <td>22.0</td>\n",
       "      <td>21.74</td>\n",
       "      <td>16.0</td>\n",
       "      <td>3.01</td>\n",
       "      <td>48.0</td>\n",
       "      <td>4.03</td>\n",
       "      <td>68.0</td>\n",
       "      <td>4.66</td>\n",
       "      <td>35.0</td>\n",
       "      <td>141.0</td>\n",
       "      <td>92.0</td>\n",
       "      <td>290.1</td>\n",
       "      <td>49.0</td>\n",
       "      <td>63.62</td>\n",
       "      <td>83.0</td>\n",
       "      <td>66.07</td>\n",
       "      <td>97.0</td>\n",
       "      <td>58.27</td>\n",
       "      <td>193.0</td>\n",
       "      <td>0.91</td>\n",
       "      <td>NaN</td>\n",
       "      <td>77.8</td>\n",
       "      <td>475.17</td>\n",
       "      <td>26.40</td>\n",
       "      <td>7.0</td>\n",
       "      <td>47.9</td>\n",
       "      <td>16.27</td>\n",
       "      <td>90.0</td>\n",
       "      <td>129.84</td>\n",
       "      <td>0</td>\n",
       "    </tr>\n",
       "    <tr>\n",
       "      <th>3</th>\n",
       "      <td>2016</td>\n",
       "      <td>2016-08-07</td>\n",
       "      <td>Travelers Championship</td>\n",
       "      <td>TPC River Highlands</td>\n",
       "      <td>Adam Rainaud</td>\n",
       "      <td>CUT</td>\n",
       "      <td>90</td>\n",
       "      <td>NaN</td>\n",
       "      <td>NaN</td>\n",
       "      <td>NaN</td>\n",
       "      <td>NaN</td>\n",
       "      <td>NaN</td>\n",
       "      <td>NaN</td>\n",
       "      <td>NaN</td>\n",
       "      <td>NaN</td>\n",
       "      <td>NaN</td>\n",
       "      <td>NaN</td>\n",
       "      <td>NaN</td>\n",
       "      <td>NaN</td>\n",
       "      <td>NaN</td>\n",
       "      <td>NaN</td>\n",
       "      <td>NaN</td>\n",
       "      <td>NaN</td>\n",
       "      <td>NaN</td>\n",
       "      <td>NaN</td>\n",
       "      <td>NaN</td>\n",
       "      <td>NaN</td>\n",
       "      <td>NaN</td>\n",
       "      <td>NaN</td>\n",
       "      <td>NaN</td>\n",
       "      <td>NaN</td>\n",
       "      <td>NaN</td>\n",
       "      <td>NaN</td>\n",
       "      <td>NaN</td>\n",
       "      <td>NaN</td>\n",
       "      <td>NaN</td>\n",
       "      <td>NaN</td>\n",
       "      <td>NaN</td>\n",
       "      <td>NaN</td>\n",
       "      <td>NaN</td>\n",
       "      <td>NaN</td>\n",
       "      <td>NaN</td>\n",
       "      <td>NaN</td>\n",
       "      <td>NaN</td>\n",
       "      <td>NaN</td>\n",
       "      <td>NaN</td>\n",
       "      <td>0</td>\n",
       "    </tr>\n",
       "    <tr>\n",
       "      <th>4</th>\n",
       "      <td>2016</td>\n",
       "      <td>2016-08-07</td>\n",
       "      <td>Travelers Championship</td>\n",
       "      <td>TPC River Highlands</td>\n",
       "      <td>Alex Cejka</td>\n",
       "      <td>T11</td>\n",
       "      <td>11</td>\n",
       "      <td>39.0</td>\n",
       "      <td>0.631</td>\n",
       "      <td>148.0</td>\n",
       "      <td>-0.292</td>\n",
       "      <td>12.0</td>\n",
       "      <td>0.626</td>\n",
       "      <td>20.0</td>\n",
       "      <td>0.297</td>\n",
       "      <td>90.0</td>\n",
       "      <td>0.010</td>\n",
       "      <td>17.0</td>\n",
       "      <td>21.89</td>\n",
       "      <td>3.0</td>\n",
       "      <td>2.98</td>\n",
       "      <td>14.0</td>\n",
       "      <td>4.01</td>\n",
       "      <td>10.0</td>\n",
       "      <td>4.57</td>\n",
       "      <td>78.0</td>\n",
       "      <td>177.0</td>\n",
       "      <td>155.0</td>\n",
       "      <td>281.5</td>\n",
       "      <td>22.0</td>\n",
       "      <td>65.89</td>\n",
       "      <td>39.0</td>\n",
       "      <td>67.99</td>\n",
       "      <td>3.0</td>\n",
       "      <td>65.03</td>\n",
       "      <td>130.0</td>\n",
       "      <td>1.22</td>\n",
       "      <td>NaN</td>\n",
       "      <td>60.0</td>\n",
       "      <td>445.75</td>\n",
       "      <td>29.72</td>\n",
       "      <td>2.0</td>\n",
       "      <td>53.0</td>\n",
       "      <td>19.12</td>\n",
       "      <td>90.0</td>\n",
       "      <td>129.84</td>\n",
       "      <td>1</td>\n",
       "    </tr>\n",
       "    <tr>\n",
       "      <th>5</th>\n",
       "      <td>2016</td>\n",
       "      <td>2016-08-07</td>\n",
       "      <td>Travelers Championship</td>\n",
       "      <td>TPC River Highlands</td>\n",
       "      <td>Andres Gonzales</td>\n",
       "      <td>T17</td>\n",
       "      <td>17</td>\n",
       "      <td>160.0</td>\n",
       "      <td>-0.469</td>\n",
       "      <td>141.0</td>\n",
       "      <td>-0.222</td>\n",
       "      <td>134.0</td>\n",
       "      <td>-0.112</td>\n",
       "      <td>151.0</td>\n",
       "      <td>-0.135</td>\n",
       "      <td>94.0</td>\n",
       "      <td>0.007</td>\n",
       "      <td>91.0</td>\n",
       "      <td>20.01</td>\n",
       "      <td>78.0</td>\n",
       "      <td>3.06</td>\n",
       "      <td>162.0</td>\n",
       "      <td>4.09</td>\n",
       "      <td>80.0</td>\n",
       "      <td>4.67</td>\n",
       "      <td>145.0</td>\n",
       "      <td>224.0</td>\n",
       "      <td>59.0</td>\n",
       "      <td>294.7</td>\n",
       "      <td>165.0</td>\n",
       "      <td>54.55</td>\n",
       "      <td>81.0</td>\n",
       "      <td>66.17</td>\n",
       "      <td>148.0</td>\n",
       "      <td>55.79</td>\n",
       "      <td>270.0</td>\n",
       "      <td>0.66</td>\n",
       "      <td>NaN</td>\n",
       "      <td>35.3</td>\n",
       "      <td>52.80</td>\n",
       "      <td>3.11</td>\n",
       "      <td>0.0</td>\n",
       "      <td>80.2</td>\n",
       "      <td>27.75</td>\n",
       "      <td>90.0</td>\n",
       "      <td>129.84</td>\n",
       "      <td>1</td>\n",
       "    </tr>\n",
       "    <tr>\n",
       "      <th>6</th>\n",
       "      <td>2016</td>\n",
       "      <td>2016-08-07</td>\n",
       "      <td>Travelers Championship</td>\n",
       "      <td>TPC River Highlands</td>\n",
       "      <td>Andrew Landry</td>\n",
       "      <td>CUT</td>\n",
       "      <td>90</td>\n",
       "      <td>172.0</td>\n",
       "      <td>-0.694</td>\n",
       "      <td>11.0</td>\n",
       "      <td>0.594</td>\n",
       "      <td>181.0</td>\n",
       "      <td>-0.892</td>\n",
       "      <td>179.0</td>\n",
       "      <td>-0.396</td>\n",
       "      <td>4.0</td>\n",
       "      <td>0.654</td>\n",
       "      <td>160.0</td>\n",
       "      <td>18.48</td>\n",
       "      <td>136.0</td>\n",
       "      <td>3.09</td>\n",
       "      <td>34.0</td>\n",
       "      <td>4.02</td>\n",
       "      <td>169.0</td>\n",
       "      <td>4.76</td>\n",
       "      <td>5.0</td>\n",
       "      <td>85.0</td>\n",
       "      <td>59.0</td>\n",
       "      <td>294.7</td>\n",
       "      <td>26.0</td>\n",
       "      <td>65.55</td>\n",
       "      <td>117.0</td>\n",
       "      <td>64.63</td>\n",
       "      <td>28.0</td>\n",
       "      <td>61.86</td>\n",
       "      <td>482.0</td>\n",
       "      <td>0.37</td>\n",
       "      <td>NaN</td>\n",
       "      <td>40.0</td>\n",
       "      <td>79.29</td>\n",
       "      <td>7.93</td>\n",
       "      <td>0.0</td>\n",
       "      <td>75.1</td>\n",
       "      <td>31.32</td>\n",
       "      <td>NaN</td>\n",
       "      <td>NaN</td>\n",
       "      <td>0</td>\n",
       "    </tr>\n",
       "    <tr>\n",
       "      <th>7</th>\n",
       "      <td>2016</td>\n",
       "      <td>2016-08-07</td>\n",
       "      <td>Travelers Championship</td>\n",
       "      <td>TPC River Highlands</td>\n",
       "      <td>Andrew Loupe</td>\n",
       "      <td>CUT</td>\n",
       "      <td>90</td>\n",
       "      <td>150.0</td>\n",
       "      <td>-0.395</td>\n",
       "      <td>105.0</td>\n",
       "      <td>-0.005</td>\n",
       "      <td>154.0</td>\n",
       "      <td>-0.281</td>\n",
       "      <td>158.0</td>\n",
       "      <td>-0.172</td>\n",
       "      <td>38.0</td>\n",
       "      <td>0.280</td>\n",
       "      <td>12.0</td>\n",
       "      <td>22.74</td>\n",
       "      <td>78.0</td>\n",
       "      <td>3.06</td>\n",
       "      <td>177.0</td>\n",
       "      <td>4.11</td>\n",
       "      <td>13.0</td>\n",
       "      <td>4.58</td>\n",
       "      <td>101.0</td>\n",
       "      <td>189.0</td>\n",
       "      <td>5.0</td>\n",
       "      <td>309.3</td>\n",
       "      <td>184.0</td>\n",
       "      <td>45.56</td>\n",
       "      <td>148.0</td>\n",
       "      <td>63.41</td>\n",
       "      <td>175.0</td>\n",
       "      <td>52.83</td>\n",
       "      <td>194.0</td>\n",
       "      <td>0.91</td>\n",
       "      <td>NaN</td>\n",
       "      <td>52.9</td>\n",
       "      <td>420.25</td>\n",
       "      <td>24.72</td>\n",
       "      <td>0.0</td>\n",
       "      <td>60.7</td>\n",
       "      <td>21.00</td>\n",
       "      <td>90.0</td>\n",
       "      <td>129.84</td>\n",
       "      <td>0</td>\n",
       "    </tr>\n",
       "    <tr>\n",
       "      <th>8</th>\n",
       "      <td>2016</td>\n",
       "      <td>2016-08-07</td>\n",
       "      <td>Travelers Championship</td>\n",
       "      <td>TPC River Highlands</td>\n",
       "      <td>Ben Crane</td>\n",
       "      <td>CUT</td>\n",
       "      <td>90</td>\n",
       "      <td>115.0</td>\n",
       "      <td>-0.028</td>\n",
       "      <td>117.0</td>\n",
       "      <td>-0.063</td>\n",
       "      <td>99.0</td>\n",
       "      <td>0.101</td>\n",
       "      <td>49.0</td>\n",
       "      <td>0.173</td>\n",
       "      <td>46.0</td>\n",
       "      <td>0.230</td>\n",
       "      <td>128.0</td>\n",
       "      <td>19.23</td>\n",
       "      <td>78.0</td>\n",
       "      <td>3.06</td>\n",
       "      <td>48.0</td>\n",
       "      <td>4.03</td>\n",
       "      <td>100.0</td>\n",
       "      <td>4.69</td>\n",
       "      <td>138.0</td>\n",
       "      <td>216.0</td>\n",
       "      <td>162.0</td>\n",
       "      <td>280.3</td>\n",
       "      <td>54.0</td>\n",
       "      <td>63.18</td>\n",
       "      <td>143.0</td>\n",
       "      <td>63.6</td>\n",
       "      <td>31.0</td>\n",
       "      <td>61.65</td>\n",
       "      <td>371.0</td>\n",
       "      <td>0.50</td>\n",
       "      <td>NaN</td>\n",
       "      <td>56.2</td>\n",
       "      <td>359.50</td>\n",
       "      <td>22.47</td>\n",
       "      <td>3.0</td>\n",
       "      <td>56.1</td>\n",
       "      <td>19.80</td>\n",
       "      <td>NaN</td>\n",
       "      <td>NaN</td>\n",
       "      <td>0</td>\n",
       "    </tr>\n",
       "    <tr>\n",
       "      <th>9</th>\n",
       "      <td>2016</td>\n",
       "      <td>2016-08-07</td>\n",
       "      <td>Travelers Championship</td>\n",
       "      <td>TPC River Highlands</td>\n",
       "      <td>Ben Martin</td>\n",
       "      <td>CUT</td>\n",
       "      <td>90</td>\n",
       "      <td>126.0</td>\n",
       "      <td>-0.117</td>\n",
       "      <td>79.0</td>\n",
       "      <td>0.079</td>\n",
       "      <td>101.0</td>\n",
       "      <td>0.081</td>\n",
       "      <td>169.0</td>\n",
       "      <td>-0.277</td>\n",
       "      <td>70.0</td>\n",
       "      <td>0.140</td>\n",
       "      <td>29.0</td>\n",
       "      <td>21.53</td>\n",
       "      <td>146.0</td>\n",
       "      <td>3.10</td>\n",
       "      <td>97.0</td>\n",
       "      <td>4.05</td>\n",
       "      <td>28.0</td>\n",
       "      <td>4.61</td>\n",
       "      <td>71.0</td>\n",
       "      <td>174.0</td>\n",
       "      <td>108.0</td>\n",
       "      <td>288.8</td>\n",
       "      <td>66.0</td>\n",
       "      <td>62.14</td>\n",
       "      <td>64.0</td>\n",
       "      <td>66.73</td>\n",
       "      <td>160.0</td>\n",
       "      <td>54.84</td>\n",
       "      <td>123.0</td>\n",
       "      <td>1.27</td>\n",
       "      <td>NaN</td>\n",
       "      <td>64.3</td>\n",
       "      <td>275.05</td>\n",
       "      <td>19.65</td>\n",
       "      <td>0.0</td>\n",
       "      <td>57.0</td>\n",
       "      <td>21.05</td>\n",
       "      <td>NaN</td>\n",
       "      <td>NaN</td>\n",
       "      <td>0</td>\n",
       "    </tr>\n",
       "  </tbody>\n",
       "</table>\n",
       "</div>"
      ],
      "text/plain": [
       "   SEASON ENDING_DATE              TOURNAMENT               COURSE  \\\n",
       "0    2016  2016-08-07  Travelers Championship  TPC River Highlands   \n",
       "1    2016  2016-08-07  Travelers Championship  TPC River Highlands   \n",
       "2    2016  2016-08-07  Travelers Championship  TPC River Highlands   \n",
       "3    2016  2016-08-07  Travelers Championship  TPC River Highlands   \n",
       "4    2016  2016-08-07  Travelers Championship  TPC River Highlands   \n",
       "5    2016  2016-08-07  Travelers Championship  TPC River Highlands   \n",
       "6    2016  2016-08-07  Travelers Championship  TPC River Highlands   \n",
       "7    2016  2016-08-07  Travelers Championship  TPC River Highlands   \n",
       "8    2016  2016-08-07  Travelers Championship  TPC River Highlands   \n",
       "9    2016  2016-08-07  Travelers Championship  TPC River Highlands   \n",
       "\n",
       "            PLAYER  POS  FINAL_POS  SGTTG_RANK  SGTTG  SGOTT_RANK  SGOTT  \\\n",
       "0   Aaron Baddeley  T34         34       146.0 -0.330       159.0 -0.366   \n",
       "1    Abraham Ancer  T56         56       144.0 -0.307       111.0 -0.024   \n",
       "2      Adam Hadwin  CUT         90       111.0 -0.011        55.0  0.223   \n",
       "3     Adam Rainaud  CUT         90         NaN    NaN         NaN    NaN   \n",
       "4       Alex Cejka  T11         11        39.0  0.631       148.0 -0.292   \n",
       "5  Andres Gonzales  T17         17       160.0 -0.469       141.0 -0.222   \n",
       "6    Andrew Landry  CUT         90       172.0 -0.694        11.0  0.594   \n",
       "7     Andrew Loupe  CUT         90       150.0 -0.395       105.0 -0.005   \n",
       "8        Ben Crane  CUT         90       115.0 -0.028       117.0 -0.063   \n",
       "9       Ben Martin  CUT         90       126.0 -0.117        79.0  0.079   \n",
       "\n",
       "   SGAPR_RANK  SGAPR  SGATG_RANK  SGATG  SGP_RANK    SGP  BIRDIES_RANK  \\\n",
       "0       164.0 -0.362        10.0  0.402       8.0  0.586          59.0   \n",
       "1       161.0 -0.340        77.0  0.057     172.0 -0.421         154.0   \n",
       "2       121.0 -0.055       132.0 -0.081      11.0  0.530          22.0   \n",
       "3         NaN    NaN         NaN    NaN       NaN    NaN           NaN   \n",
       "4        12.0  0.626        20.0  0.297      90.0  0.010          17.0   \n",
       "5       134.0 -0.112       151.0 -0.135      94.0  0.007          91.0   \n",
       "6       181.0 -0.892       179.0 -0.396       4.0  0.654         160.0   \n",
       "7       154.0 -0.281       158.0 -0.172      38.0  0.280          12.0   \n",
       "8        99.0  0.101        49.0  0.173      46.0  0.230         128.0   \n",
       "9       101.0  0.081       169.0 -0.277      70.0  0.140          29.0   \n",
       "\n",
       "  BIRDIES  PAR_3_RANK  PAR_3  PAR_4_RANK  PAR_4  PAR_5_RANK  PAR_5  \\\n",
       "0   20.72        78.0   3.06        14.0   4.01        50.0   4.64   \n",
       "1   18.63       120.0   3.08       136.0   4.07       183.0   4.80   \n",
       "2   21.74        16.0   3.01        48.0   4.03        68.0   4.66   \n",
       "3     NaN         NaN    NaN         NaN    NaN         NaN    NaN   \n",
       "4   21.89         3.0   2.98        14.0   4.01        10.0   4.57   \n",
       "5   20.01        78.0   3.06       162.0   4.09        80.0   4.67   \n",
       "6   18.48       136.0   3.09        34.0   4.02       169.0   4.76   \n",
       "7   22.74        78.0   3.06       177.0   4.11        13.0   4.58   \n",
       "8   19.23        78.0   3.06        48.0   4.03       100.0   4.69   \n",
       "9   21.53       146.0   3.10        97.0   4.05        28.0   4.61   \n",
       "\n",
       "   TOTAL_DRIVING_RANK  TOTAL_DRIVING  DRIVING_DISTANCE_RANK  DRIVING_DISTANCE  \\\n",
       "0               159.0          237.0                   82.0             291.7   \n",
       "1               131.0          205.0                  178.0             276.4   \n",
       "2                35.0          141.0                   92.0             290.1   \n",
       "3                 NaN            NaN                    NaN               NaN   \n",
       "4                78.0          177.0                  155.0             281.5   \n",
       "5               145.0          224.0                   59.0             294.7   \n",
       "6                 5.0           85.0                   59.0             294.7   \n",
       "7               101.0          189.0                    5.0             309.3   \n",
       "8               138.0          216.0                  162.0             280.3   \n",
       "9                71.0          174.0                  108.0             288.8   \n",
       "\n",
       "   DRIVING_ACCURACY_RANK DRIVING_ACCURACY  GIR_RANK    GIR  SCRAMBLING_RANK  \\\n",
       "0                  155.0            55.42     154.0  63.11              5.0   \n",
       "1                   27.0            65.42     174.0  61.81            131.0   \n",
       "2                   49.0            63.62      83.0  66.07             97.0   \n",
       "3                    NaN              NaN       NaN    NaN              NaN   \n",
       "4                   22.0            65.89      39.0  67.99              3.0   \n",
       "5                  165.0            54.55      81.0  66.17            148.0   \n",
       "6                   26.0            65.55     117.0  64.63             28.0   \n",
       "7                  184.0            45.56     148.0  63.41            175.0   \n",
       "8                   54.0            63.18     143.0   63.6             31.0   \n",
       "9                   66.0            62.14      64.0  66.73            160.0   \n",
       "\n",
       "  SCRAMBLING  OWGR_RANK  OWGR  VEGAS_ODDS  CUT_PERCENTAGE  FEDEX_CUP_POINTS  \\\n",
       "0       64.3      143.0  1.14        60.0            58.8            383.50   \n",
       "1      56.67      619.0  0.25         NaN            22.2             43.00   \n",
       "2      58.27      193.0  0.91         NaN            77.8            475.17   \n",
       "3        NaN        NaN   NaN         NaN             NaN               NaN   \n",
       "4      65.03      130.0  1.22         NaN            60.0            445.75   \n",
       "5      55.79      270.0  0.66         NaN            35.3             52.80   \n",
       "6      61.86      482.0  0.37         NaN            40.0             79.29   \n",
       "7      52.83      194.0  0.91         NaN            52.9            420.25   \n",
       "8      61.65      371.0  0.50         NaN            56.2            359.50   \n",
       "9      54.84      123.0  1.27         NaN            64.3            275.05   \n",
       "\n",
       "   form_density  CONSECUTIVE_CUTS  RECENT_FORM  adj_form  COURSE_HISTORY  \\\n",
       "0         22.56               1.0         55.8     19.31            48.0   \n",
       "1          4.78               0.0         80.1     34.79             NaN   \n",
       "2         26.40               7.0         47.9     16.27            90.0   \n",
       "3           NaN               NaN          NaN       NaN             NaN   \n",
       "4         29.72               2.0         53.0     19.12            90.0   \n",
       "5          3.11               0.0         80.2     27.75            90.0   \n",
       "6          7.93               0.0         75.1     31.32             NaN   \n",
       "7         24.72               0.0         60.7     21.00            90.0   \n",
       "8         22.47               3.0         56.1     19.80             NaN   \n",
       "9         19.65               0.0         57.0     21.05             NaN   \n",
       "\n",
       "   adj_ch  TOP_20  \n",
       "0   69.25       0  \n",
       "1     NaN       0  \n",
       "2  129.84       0  \n",
       "3     NaN       0  \n",
       "4  129.84       1  \n",
       "5  129.84       1  \n",
       "6     NaN       0  \n",
       "7  129.84       0  \n",
       "8     NaN       0  \n",
       "9     NaN       0  "
      ]
     },
     "execution_count": 8,
     "metadata": {},
     "output_type": "execute_result"
    }
   ],
   "source": [
    "pd.set_option(\"display.max_columns\", None)   # Show all columns\n",
    "importlib.reload(utils.db_utils)\n",
    "from utils.db_utils import build_training_rows\n",
    "training_df = build_training_rows(\n",
    "    db_path,\n",
    "    history_df,\n",
    "    cuts,\n",
    "    recent_form,\n",
    "    course_hist,\n",
    ")\n",
    "training_df.head(10)\n",
    "# training_df.info()\n",
    "# training_df.isna().sum().sort_values(ascending=False)"
   ]
  },
  {
   "cell_type": "code",
   "execution_count": null,
   "id": "c5df12cc",
   "metadata": {},
   "outputs": [
    {
     "data": {
      "text/html": [
       "<div>\n",
       "<style scoped>\n",
       "    .dataframe tbody tr th:only-of-type {\n",
       "        vertical-align: middle;\n",
       "    }\n",
       "\n",
       "    .dataframe tbody tr th {\n",
       "        vertical-align: top;\n",
       "    }\n",
       "\n",
       "    .dataframe thead th {\n",
       "        text-align: right;\n",
       "    }\n",
       "</style>\n",
       "<table border=\"1\" class=\"dataframe\">\n",
       "  <thead>\n",
       "    <tr style=\"text-align: right;\">\n",
       "      <th></th>\n",
       "      <th>SEASON</th>\n",
       "      <th>ENDING_DATE</th>\n",
       "      <th>TOURNAMENT</th>\n",
       "      <th>COURSE</th>\n",
       "      <th>PLAYER</th>\n",
       "      <th>POS</th>\n",
       "      <th>FINAL_POS</th>\n",
       "      <th>SGTTG_RANK</th>\n",
       "      <th>SGTTG</th>\n",
       "      <th>SGOTT_RANK</th>\n",
       "      <th>SGOTT</th>\n",
       "      <th>SGAPR_RANK</th>\n",
       "      <th>SGAPR</th>\n",
       "      <th>SGATG_RANK</th>\n",
       "      <th>SGATG</th>\n",
       "      <th>SGP_RANK</th>\n",
       "      <th>SGP</th>\n",
       "      <th>BIRDIES_RANK</th>\n",
       "      <th>BIRDIES</th>\n",
       "      <th>PAR_3_RANK</th>\n",
       "      <th>PAR_3</th>\n",
       "      <th>PAR_4_RANK</th>\n",
       "      <th>PAR_4</th>\n",
       "      <th>PAR_5_RANK</th>\n",
       "      <th>PAR_5</th>\n",
       "      <th>TOTAL_DRIVING_RANK</th>\n",
       "      <th>TOTAL_DRIVING</th>\n",
       "      <th>DRIVING_DISTANCE_RANK</th>\n",
       "      <th>DRIVING_DISTANCE</th>\n",
       "      <th>DRIVING_ACCURACY_RANK</th>\n",
       "      <th>DRIVING_ACCURACY</th>\n",
       "      <th>GIR_RANK</th>\n",
       "      <th>GIR</th>\n",
       "      <th>SCRAMBLING_RANK</th>\n",
       "      <th>SCRAMBLING</th>\n",
       "      <th>OWGR_RANK</th>\n",
       "      <th>OWGR</th>\n",
       "      <th>VEGAS_ODDS</th>\n",
       "      <th>CUT_PERCENTAGE</th>\n",
       "      <th>FEDEX_CUP_POINTS</th>\n",
       "      <th>form_density</th>\n",
       "      <th>CONSECUTIVE_CUTS</th>\n",
       "      <th>RECENT_FORM</th>\n",
       "      <th>adj_form</th>\n",
       "      <th>COURSE_HISTORY</th>\n",
       "      <th>adj_ch</th>\n",
       "      <th>TOP_20</th>\n",
       "    </tr>\n",
       "  </thead>\n",
       "  <tbody>\n",
       "    <tr>\n",
       "      <th>1247</th>\n",
       "      <td>2024</td>\n",
       "      <td>2024-06-23</td>\n",
       "      <td>Travelers Championship</td>\n",
       "      <td>TPC River Highlands</td>\n",
       "      <td>Adam Hadwin</td>\n",
       "      <td>T27</td>\n",
       "      <td>27</td>\n",
       "      <td>112.0</td>\n",
       "      <td>-0.036</td>\n",
       "      <td>101.0</td>\n",
       "      <td>0.016</td>\n",
       "      <td>113.0</td>\n",
       "      <td>-0.057</td>\n",
       "      <td>102.0</td>\n",
       "      <td>0.005</td>\n",
       "      <td>82.0</td>\n",
       "      <td>0.058</td>\n",
       "      <td>63.0</td>\n",
       "      <td>23.00%</td>\n",
       "      <td>52.0</td>\n",
       "      <td>3.02</td>\n",
       "      <td>131.0</td>\n",
       "      <td>4.04</td>\n",
       "      <td>116.0</td>\n",
       "      <td>4.61</td>\n",
       "      <td>123.0</td>\n",
       "      <td>198.0</td>\n",
       "      <td>124.0</td>\n",
       "      <td>297.9</td>\n",
       "      <td>74.0</td>\n",
       "      <td>61.57%</td>\n",
       "      <td>152.0</td>\n",
       "      <td>64.30%</td>\n",
       "      <td>151.0</td>\n",
       "      <td>55.81%</td>\n",
       "      <td>56.0</td>\n",
       "      <td>2.0027</td>\n",
       "      <td>150.0</td>\n",
       "      <td>70.6</td>\n",
       "      <td>1029.292</td>\n",
       "      <td>60.55</td>\n",
       "      <td>0.0</td>\n",
       "      <td>46.0</td>\n",
       "      <td>15.91</td>\n",
       "      <td>69.8</td>\n",
       "      <td>43.37</td>\n",
       "      <td>0</td>\n",
       "    </tr>\n",
       "    <tr>\n",
       "      <th>1248</th>\n",
       "      <td>2024</td>\n",
       "      <td>2024-06-23</td>\n",
       "      <td>Travelers Championship</td>\n",
       "      <td>TPC River Highlands</td>\n",
       "      <td>Adam Schenk</td>\n",
       "      <td>T55</td>\n",
       "      <td>55</td>\n",
       "      <td>146.0</td>\n",
       "      <td>-0.421</td>\n",
       "      <td>53.0</td>\n",
       "      <td>0.212</td>\n",
       "      <td>166.0</td>\n",
       "      <td>-0.520</td>\n",
       "      <td>130.0</td>\n",
       "      <td>-0.114</td>\n",
       "      <td>85.0</td>\n",
       "      <td>0.051</td>\n",
       "      <td>132.0</td>\n",
       "      <td>21.24%</td>\n",
       "      <td>152.0</td>\n",
       "      <td>3.09</td>\n",
       "      <td>131.0</td>\n",
       "      <td>4.04</td>\n",
       "      <td>116.0</td>\n",
       "      <td>4.61</td>\n",
       "      <td>102.0</td>\n",
       "      <td>180.0</td>\n",
       "      <td>82.0</td>\n",
       "      <td>302.4</td>\n",
       "      <td>98.0</td>\n",
       "      <td>59.93%</td>\n",
       "      <td>149.0</td>\n",
       "      <td>64.50%</td>\n",
       "      <td>74.0</td>\n",
       "      <td>60.50%</td>\n",
       "      <td>82.0</td>\n",
       "      <td>1.4461</td>\n",
       "      <td>300.0</td>\n",
       "      <td>63.6</td>\n",
       "      <td>568.417</td>\n",
       "      <td>25.84</td>\n",
       "      <td>0.0</td>\n",
       "      <td>52.7</td>\n",
       "      <td>16.81</td>\n",
       "      <td>90.0</td>\n",
       "      <td>46.25</td>\n",
       "      <td>0</td>\n",
       "    </tr>\n",
       "    <tr>\n",
       "      <th>1249</th>\n",
       "      <td>2024</td>\n",
       "      <td>2024-06-23</td>\n",
       "      <td>Travelers Championship</td>\n",
       "      <td>TPC River Highlands</td>\n",
       "      <td>Adam Scott</td>\n",
       "      <td>T39</td>\n",
       "      <td>39</td>\n",
       "      <td>38.0</td>\n",
       "      <td>0.540</td>\n",
       "      <td>33.0</td>\n",
       "      <td>0.322</td>\n",
       "      <td>87.0</td>\n",
       "      <td>0.114</td>\n",
       "      <td>67.0</td>\n",
       "      <td>0.104</td>\n",
       "      <td>29.0</td>\n",
       "      <td>0.398</td>\n",
       "      <td>79.0</td>\n",
       "      <td>22.54%</td>\n",
       "      <td>38.0</td>\n",
       "      <td>3.01</td>\n",
       "      <td>57.0</td>\n",
       "      <td>4.00</td>\n",
       "      <td>44.0</td>\n",
       "      <td>4.54</td>\n",
       "      <td>75.0</td>\n",
       "      <td>170.0</td>\n",
       "      <td>49.0</td>\n",
       "      <td>307.1</td>\n",
       "      <td>121.0</td>\n",
       "      <td>58.28%</td>\n",
       "      <td>102.0</td>\n",
       "      <td>66.35%</td>\n",
       "      <td>45.0</td>\n",
       "      <td>62.09%</td>\n",
       "      <td>20.0</td>\n",
       "      <td>3.2584</td>\n",
       "      <td>100.0</td>\n",
       "      <td>86.7</td>\n",
       "      <td>672.759</td>\n",
       "      <td>44.85</td>\n",
       "      <td>3.0</td>\n",
       "      <td>33.3</td>\n",
       "      <td>12.01</td>\n",
       "      <td>16.0</td>\n",
       "      <td>14.56</td>\n",
       "      <td>0</td>\n",
       "    </tr>\n",
       "    <tr>\n",
       "      <th>1250</th>\n",
       "      <td>2024</td>\n",
       "      <td>2024-06-23</td>\n",
       "      <td>Travelers Championship</td>\n",
       "      <td>TPC River Highlands</td>\n",
       "      <td>Adam Svensson</td>\n",
       "      <td>T16</td>\n",
       "      <td>16</td>\n",
       "      <td>33.0</td>\n",
       "      <td>0.592</td>\n",
       "      <td>99.0</td>\n",
       "      <td>0.019</td>\n",
       "      <td>28.0</td>\n",
       "      <td>0.380</td>\n",
       "      <td>39.0</td>\n",
       "      <td>0.193</td>\n",
       "      <td>164.0</td>\n",
       "      <td>-0.453</td>\n",
       "      <td>153.0</td>\n",
       "      <td>20.41%</td>\n",
       "      <td>142.0</td>\n",
       "      <td>3.08</td>\n",
       "      <td>85.0</td>\n",
       "      <td>4.01</td>\n",
       "      <td>121.0</td>\n",
       "      <td>4.62</td>\n",
       "      <td>62.0</td>\n",
       "      <td>158.0</td>\n",
       "      <td>118.0</td>\n",
       "      <td>298.3</td>\n",
       "      <td>40.0</td>\n",
       "      <td>64.18%</td>\n",
       "      <td>88.0</td>\n",
       "      <td>67.13%</td>\n",
       "      <td>60.0</td>\n",
       "      <td>61.39%</td>\n",
       "      <td>112.0</td>\n",
       "      <td>1.1671</td>\n",
       "      <td>150.0</td>\n",
       "      <td>79.2</td>\n",
       "      <td>374.841</td>\n",
       "      <td>15.62</td>\n",
       "      <td>10.0</td>\n",
       "      <td>47.7</td>\n",
       "      <td>14.82</td>\n",
       "      <td>68.3</td>\n",
       "      <td>49.27</td>\n",
       "      <td>1</td>\n",
       "    </tr>\n",
       "    <tr>\n",
       "      <th>1251</th>\n",
       "      <td>2024</td>\n",
       "      <td>2024-06-23</td>\n",
       "      <td>Travelers Championship</td>\n",
       "      <td>TPC River Highlands</td>\n",
       "      <td>Akshay Bhatia</td>\n",
       "      <td>T5</td>\n",
       "      <td>5</td>\n",
       "      <td>56.0</td>\n",
       "      <td>0.403</td>\n",
       "      <td>58.0</td>\n",
       "      <td>0.188</td>\n",
       "      <td>51.0</td>\n",
       "      <td>0.264</td>\n",
       "      <td>119.0</td>\n",
       "      <td>-0.048</td>\n",
       "      <td>34.0</td>\n",
       "      <td>0.345</td>\n",
       "      <td>87.0</td>\n",
       "      <td>22.35%</td>\n",
       "      <td>52.0</td>\n",
       "      <td>3.02</td>\n",
       "      <td>85.0</td>\n",
       "      <td>4.01</td>\n",
       "      <td>77.0</td>\n",
       "      <td>4.57</td>\n",
       "      <td>28.0</td>\n",
       "      <td>133.0</td>\n",
       "      <td>104.0</td>\n",
       "      <td>299.8</td>\n",
       "      <td>29.0</td>\n",
       "      <td>65.50%</td>\n",
       "      <td>114.0</td>\n",
       "      <td>66.02%</td>\n",
       "      <td>54.0</td>\n",
       "      <td>61.79%</td>\n",
       "      <td>29.0</td>\n",
       "      <td>2.7339</td>\n",
       "      <td>60.0</td>\n",
       "      <td>75.0</td>\n",
       "      <td>1343.276</td>\n",
       "      <td>55.97</td>\n",
       "      <td>3.0</td>\n",
       "      <td>40.4</td>\n",
       "      <td>12.55</td>\n",
       "      <td>NaN</td>\n",
       "      <td>NaN</td>\n",
       "      <td>1</td>\n",
       "    </tr>\n",
       "  </tbody>\n",
       "</table>\n",
       "</div>"
      ],
      "text/plain": [
       "      SEASON ENDING_DATE              TOURNAMENT               COURSE  \\\n",
       "1247    2024  2024-06-23  Travelers Championship  TPC River Highlands   \n",
       "1248    2024  2024-06-23  Travelers Championship  TPC River Highlands   \n",
       "1249    2024  2024-06-23  Travelers Championship  TPC River Highlands   \n",
       "1250    2024  2024-06-23  Travelers Championship  TPC River Highlands   \n",
       "1251    2024  2024-06-23  Travelers Championship  TPC River Highlands   \n",
       "\n",
       "             PLAYER  POS  FINAL_POS  SGTTG_RANK  SGTTG  SGOTT_RANK  SGOTT  \\\n",
       "1247    Adam Hadwin  T27         27       112.0 -0.036       101.0  0.016   \n",
       "1248    Adam Schenk  T55         55       146.0 -0.421        53.0  0.212   \n",
       "1249     Adam Scott  T39         39        38.0  0.540        33.0  0.322   \n",
       "1250  Adam Svensson  T16         16        33.0  0.592        99.0  0.019   \n",
       "1251  Akshay Bhatia   T5          5        56.0  0.403        58.0  0.188   \n",
       "\n",
       "      SGAPR_RANK  SGAPR  SGATG_RANK  SGATG  SGP_RANK    SGP  BIRDIES_RANK  \\\n",
       "1247       113.0 -0.057       102.0  0.005      82.0  0.058          63.0   \n",
       "1248       166.0 -0.520       130.0 -0.114      85.0  0.051         132.0   \n",
       "1249        87.0  0.114        67.0  0.104      29.0  0.398          79.0   \n",
       "1250        28.0  0.380        39.0  0.193     164.0 -0.453         153.0   \n",
       "1251        51.0  0.264       119.0 -0.048      34.0  0.345          87.0   \n",
       "\n",
       "     BIRDIES  PAR_3_RANK  PAR_3  PAR_4_RANK  PAR_4  PAR_5_RANK  PAR_5  \\\n",
       "1247  23.00%        52.0   3.02       131.0   4.04       116.0   4.61   \n",
       "1248  21.24%       152.0   3.09       131.0   4.04       116.0   4.61   \n",
       "1249  22.54%        38.0   3.01        57.0   4.00        44.0   4.54   \n",
       "1250  20.41%       142.0   3.08        85.0   4.01       121.0   4.62   \n",
       "1251  22.35%        52.0   3.02        85.0   4.01        77.0   4.57   \n",
       "\n",
       "      TOTAL_DRIVING_RANK  TOTAL_DRIVING  DRIVING_DISTANCE_RANK  \\\n",
       "1247               123.0          198.0                  124.0   \n",
       "1248               102.0          180.0                   82.0   \n",
       "1249                75.0          170.0                   49.0   \n",
       "1250                62.0          158.0                  118.0   \n",
       "1251                28.0          133.0                  104.0   \n",
       "\n",
       "      DRIVING_DISTANCE  DRIVING_ACCURACY_RANK DRIVING_ACCURACY  GIR_RANK  \\\n",
       "1247             297.9                   74.0           61.57%     152.0   \n",
       "1248             302.4                   98.0           59.93%     149.0   \n",
       "1249             307.1                  121.0           58.28%     102.0   \n",
       "1250             298.3                   40.0           64.18%      88.0   \n",
       "1251             299.8                   29.0           65.50%     114.0   \n",
       "\n",
       "         GIR  SCRAMBLING_RANK SCRAMBLING  OWGR_RANK    OWGR  VEGAS_ODDS  \\\n",
       "1247  64.30%            151.0     55.81%       56.0  2.0027       150.0   \n",
       "1248  64.50%             74.0     60.50%       82.0  1.4461       300.0   \n",
       "1249  66.35%             45.0     62.09%       20.0  3.2584       100.0   \n",
       "1250  67.13%             60.0     61.39%      112.0  1.1671       150.0   \n",
       "1251  66.02%             54.0     61.79%       29.0  2.7339        60.0   \n",
       "\n",
       "      CUT_PERCENTAGE  FEDEX_CUP_POINTS  form_density  CONSECUTIVE_CUTS  \\\n",
       "1247            70.6          1029.292         60.55               0.0   \n",
       "1248            63.6           568.417         25.84               0.0   \n",
       "1249            86.7           672.759         44.85               3.0   \n",
       "1250            79.2           374.841         15.62              10.0   \n",
       "1251            75.0          1343.276         55.97               3.0   \n",
       "\n",
       "      RECENT_FORM  adj_form  COURSE_HISTORY  adj_ch  TOP_20  \n",
       "1247         46.0     15.91            69.8   43.37       0  \n",
       "1248         52.7     16.81            90.0   46.25       0  \n",
       "1249         33.3     12.01            16.0   14.56       0  \n",
       "1250         47.7     14.82            68.3   49.27       1  \n",
       "1251         40.4     12.55             NaN     NaN       1  "
      ]
     },
     "execution_count": 9,
     "metadata": {},
     "output_type": "execute_result"
    }
   ],
   "source": [
    "# Play with different years to see if I notice anything wrong (check Odds)\n",
    "training_df[training_df[\"SEASON\"] == 2024].head()"
   ]
  },
  {
   "cell_type": "markdown",
   "id": "5f92ff52",
   "metadata": {},
   "source": [
    "### Normalization\n",
    "***Fix Historical Odds***\n",
    "\n",
    "Many names do not have historical odds but rather are part of the \"field.\" So giving these \"NaN\" values the average odds (as I would for missing stats) isn't a good approximation of reality – they are typically the \"field\" because they are not notable and have poor odds individually.\n",
    "\n",
    "There are also some crazy odds numbers occasionally (1000/1 or 3000/1) that don't happen all that much and are making that tail too long.\n",
    "\n",
    "This cell assigns odds of 1000/1 for anyone missing and clips anything larger to 1000/1 to normalize the data better and assign the missing odds more appropriately where they belong.\n",
    "\n",
    "***OWGR Adjustment***\n",
    "\n",
    "The NaN's for OWGR are similarly bad players.  So we should assign these the worst ranking instead of the mean and clip it at 1000 just in case there are ever outliers.\n",
    "\n",
    "For the OWGR score, it should match the lowest score in the dataset to assign that person the same as the worst.\n",
    "\n",
    "***Recent Form Adjustment***\n",
    "\n",
    "The NaN's for Recent Form mean that this player has not played any tournaments in the lookback period (9 months).  Similar to Odds and OWGR, I want to punish those that don't play often in my model.  Set these to 90 (i.e. like they miss a lot of cuts - because if they aren't playing they aren't good enough to make it to these tournaments very frequently).  The adj_form feature will also need to be updated here with the new data.\n",
    "\n",
    "***FedEx Cup Point Adjustment***\n",
    "\n",
    "The NaN's for FedEx Cup Points means there is no data.  Therefore they should be 0."
   ]
  },
  {
   "cell_type": "code",
   "execution_count": 10,
   "id": "3e9f4f19",
   "metadata": {},
   "outputs": [
    {
     "data": {
      "text/html": [
       "<div>\n",
       "<style scoped>\n",
       "    .dataframe tbody tr th:only-of-type {\n",
       "        vertical-align: middle;\n",
       "    }\n",
       "\n",
       "    .dataframe tbody tr th {\n",
       "        vertical-align: top;\n",
       "    }\n",
       "\n",
       "    .dataframe thead th {\n",
       "        text-align: right;\n",
       "    }\n",
       "</style>\n",
       "<table border=\"1\" class=\"dataframe\">\n",
       "  <thead>\n",
       "    <tr style=\"text-align: right;\">\n",
       "      <th></th>\n",
       "      <th>SEASON</th>\n",
       "      <th>ENDING_DATE</th>\n",
       "      <th>TOURNAMENT</th>\n",
       "      <th>COURSE</th>\n",
       "      <th>PLAYER</th>\n",
       "      <th>POS</th>\n",
       "      <th>FINAL_POS</th>\n",
       "      <th>SGTTG_RANK</th>\n",
       "      <th>SGTTG</th>\n",
       "      <th>SGOTT_RANK</th>\n",
       "      <th>SGOTT</th>\n",
       "      <th>SGAPR_RANK</th>\n",
       "      <th>SGAPR</th>\n",
       "      <th>SGATG_RANK</th>\n",
       "      <th>SGATG</th>\n",
       "      <th>SGP_RANK</th>\n",
       "      <th>SGP</th>\n",
       "      <th>BIRDIES_RANK</th>\n",
       "      <th>BIRDIES</th>\n",
       "      <th>PAR_3_RANK</th>\n",
       "      <th>PAR_3</th>\n",
       "      <th>PAR_4_RANK</th>\n",
       "      <th>PAR_4</th>\n",
       "      <th>PAR_5_RANK</th>\n",
       "      <th>PAR_5</th>\n",
       "      <th>TOTAL_DRIVING_RANK</th>\n",
       "      <th>TOTAL_DRIVING</th>\n",
       "      <th>DRIVING_DISTANCE_RANK</th>\n",
       "      <th>DRIVING_DISTANCE</th>\n",
       "      <th>DRIVING_ACCURACY_RANK</th>\n",
       "      <th>DRIVING_ACCURACY</th>\n",
       "      <th>GIR_RANK</th>\n",
       "      <th>GIR</th>\n",
       "      <th>SCRAMBLING_RANK</th>\n",
       "      <th>SCRAMBLING</th>\n",
       "      <th>OWGR_RANK</th>\n",
       "      <th>OWGR</th>\n",
       "      <th>VEGAS_ODDS</th>\n",
       "      <th>CUT_PERCENTAGE</th>\n",
       "      <th>FEDEX_CUP_POINTS</th>\n",
       "      <th>form_density</th>\n",
       "      <th>CONSECUTIVE_CUTS</th>\n",
       "      <th>RECENT_FORM</th>\n",
       "      <th>adj_form</th>\n",
       "      <th>COURSE_HISTORY</th>\n",
       "      <th>adj_ch</th>\n",
       "      <th>TOP_20</th>\n",
       "    </tr>\n",
       "  </thead>\n",
       "  <tbody>\n",
       "    <tr>\n",
       "      <th>0</th>\n",
       "      <td>2016</td>\n",
       "      <td>2016-08-07</td>\n",
       "      <td>Travelers Championship</td>\n",
       "      <td>TPC River Highlands</td>\n",
       "      <td>Aaron Baddeley</td>\n",
       "      <td>T34</td>\n",
       "      <td>34</td>\n",
       "      <td>146.0</td>\n",
       "      <td>-0.330</td>\n",
       "      <td>159.0</td>\n",
       "      <td>-0.366</td>\n",
       "      <td>164.0</td>\n",
       "      <td>-0.362</td>\n",
       "      <td>10.0</td>\n",
       "      <td>0.402</td>\n",
       "      <td>8.0</td>\n",
       "      <td>0.586</td>\n",
       "      <td>59.0</td>\n",
       "      <td>20.72</td>\n",
       "      <td>78.0</td>\n",
       "      <td>3.06</td>\n",
       "      <td>14.0</td>\n",
       "      <td>4.01</td>\n",
       "      <td>50.0</td>\n",
       "      <td>4.64</td>\n",
       "      <td>159.0</td>\n",
       "      <td>237.0</td>\n",
       "      <td>82.0</td>\n",
       "      <td>291.7</td>\n",
       "      <td>155.0</td>\n",
       "      <td>55.42</td>\n",
       "      <td>154.0</td>\n",
       "      <td>63.11</td>\n",
       "      <td>5.0</td>\n",
       "      <td>64.3</td>\n",
       "      <td>143.0</td>\n",
       "      <td>1.14</td>\n",
       "      <td>60.0</td>\n",
       "      <td>58.8</td>\n",
       "      <td>383.50</td>\n",
       "      <td>22.56</td>\n",
       "      <td>1.0</td>\n",
       "      <td>55.8</td>\n",
       "      <td>19.31</td>\n",
       "      <td>48.0</td>\n",
       "      <td>69.25</td>\n",
       "      <td>0</td>\n",
       "    </tr>\n",
       "    <tr>\n",
       "      <th>1</th>\n",
       "      <td>2016</td>\n",
       "      <td>2016-08-07</td>\n",
       "      <td>Travelers Championship</td>\n",
       "      <td>TPC River Highlands</td>\n",
       "      <td>Abraham Ancer</td>\n",
       "      <td>T56</td>\n",
       "      <td>56</td>\n",
       "      <td>144.0</td>\n",
       "      <td>-0.307</td>\n",
       "      <td>111.0</td>\n",
       "      <td>-0.024</td>\n",
       "      <td>161.0</td>\n",
       "      <td>-0.340</td>\n",
       "      <td>77.0</td>\n",
       "      <td>0.057</td>\n",
       "      <td>172.0</td>\n",
       "      <td>-0.421</td>\n",
       "      <td>154.0</td>\n",
       "      <td>18.63</td>\n",
       "      <td>120.0</td>\n",
       "      <td>3.08</td>\n",
       "      <td>136.0</td>\n",
       "      <td>4.07</td>\n",
       "      <td>183.0</td>\n",
       "      <td>4.80</td>\n",
       "      <td>131.0</td>\n",
       "      <td>205.0</td>\n",
       "      <td>178.0</td>\n",
       "      <td>276.4</td>\n",
       "      <td>27.0</td>\n",
       "      <td>65.42</td>\n",
       "      <td>174.0</td>\n",
       "      <td>61.81</td>\n",
       "      <td>131.0</td>\n",
       "      <td>56.67</td>\n",
       "      <td>619.0</td>\n",
       "      <td>0.25</td>\n",
       "      <td>1000.0</td>\n",
       "      <td>22.2</td>\n",
       "      <td>43.00</td>\n",
       "      <td>4.78</td>\n",
       "      <td>0.0</td>\n",
       "      <td>80.1</td>\n",
       "      <td>34.79</td>\n",
       "      <td>NaN</td>\n",
       "      <td>NaN</td>\n",
       "      <td>0</td>\n",
       "    </tr>\n",
       "    <tr>\n",
       "      <th>2</th>\n",
       "      <td>2016</td>\n",
       "      <td>2016-08-07</td>\n",
       "      <td>Travelers Championship</td>\n",
       "      <td>TPC River Highlands</td>\n",
       "      <td>Adam Hadwin</td>\n",
       "      <td>CUT</td>\n",
       "      <td>90</td>\n",
       "      <td>111.0</td>\n",
       "      <td>-0.011</td>\n",
       "      <td>55.0</td>\n",
       "      <td>0.223</td>\n",
       "      <td>121.0</td>\n",
       "      <td>-0.055</td>\n",
       "      <td>132.0</td>\n",
       "      <td>-0.081</td>\n",
       "      <td>11.0</td>\n",
       "      <td>0.530</td>\n",
       "      <td>22.0</td>\n",
       "      <td>21.74</td>\n",
       "      <td>16.0</td>\n",
       "      <td>3.01</td>\n",
       "      <td>48.0</td>\n",
       "      <td>4.03</td>\n",
       "      <td>68.0</td>\n",
       "      <td>4.66</td>\n",
       "      <td>35.0</td>\n",
       "      <td>141.0</td>\n",
       "      <td>92.0</td>\n",
       "      <td>290.1</td>\n",
       "      <td>49.0</td>\n",
       "      <td>63.62</td>\n",
       "      <td>83.0</td>\n",
       "      <td>66.07</td>\n",
       "      <td>97.0</td>\n",
       "      <td>58.27</td>\n",
       "      <td>193.0</td>\n",
       "      <td>0.91</td>\n",
       "      <td>1000.0</td>\n",
       "      <td>77.8</td>\n",
       "      <td>475.17</td>\n",
       "      <td>26.40</td>\n",
       "      <td>7.0</td>\n",
       "      <td>47.9</td>\n",
       "      <td>16.27</td>\n",
       "      <td>90.0</td>\n",
       "      <td>129.84</td>\n",
       "      <td>0</td>\n",
       "    </tr>\n",
       "    <tr>\n",
       "      <th>3</th>\n",
       "      <td>2016</td>\n",
       "      <td>2016-08-07</td>\n",
       "      <td>Travelers Championship</td>\n",
       "      <td>TPC River Highlands</td>\n",
       "      <td>Adam Rainaud</td>\n",
       "      <td>CUT</td>\n",
       "      <td>90</td>\n",
       "      <td>NaN</td>\n",
       "      <td>NaN</td>\n",
       "      <td>NaN</td>\n",
       "      <td>NaN</td>\n",
       "      <td>NaN</td>\n",
       "      <td>NaN</td>\n",
       "      <td>NaN</td>\n",
       "      <td>NaN</td>\n",
       "      <td>NaN</td>\n",
       "      <td>NaN</td>\n",
       "      <td>NaN</td>\n",
       "      <td>NaN</td>\n",
       "      <td>NaN</td>\n",
       "      <td>NaN</td>\n",
       "      <td>NaN</td>\n",
       "      <td>NaN</td>\n",
       "      <td>NaN</td>\n",
       "      <td>NaN</td>\n",
       "      <td>NaN</td>\n",
       "      <td>NaN</td>\n",
       "      <td>NaN</td>\n",
       "      <td>NaN</td>\n",
       "      <td>NaN</td>\n",
       "      <td>NaN</td>\n",
       "      <td>NaN</td>\n",
       "      <td>NaN</td>\n",
       "      <td>NaN</td>\n",
       "      <td>NaN</td>\n",
       "      <td>1000.0</td>\n",
       "      <td>0.09</td>\n",
       "      <td>1000.0</td>\n",
       "      <td>NaN</td>\n",
       "      <td>0.00</td>\n",
       "      <td>NaN</td>\n",
       "      <td>NaN</td>\n",
       "      <td>90.0</td>\n",
       "      <td>NaN</td>\n",
       "      <td>NaN</td>\n",
       "      <td>NaN</td>\n",
       "      <td>0</td>\n",
       "    </tr>\n",
       "    <tr>\n",
       "      <th>4</th>\n",
       "      <td>2016</td>\n",
       "      <td>2016-08-07</td>\n",
       "      <td>Travelers Championship</td>\n",
       "      <td>TPC River Highlands</td>\n",
       "      <td>Alex Cejka</td>\n",
       "      <td>T11</td>\n",
       "      <td>11</td>\n",
       "      <td>39.0</td>\n",
       "      <td>0.631</td>\n",
       "      <td>148.0</td>\n",
       "      <td>-0.292</td>\n",
       "      <td>12.0</td>\n",
       "      <td>0.626</td>\n",
       "      <td>20.0</td>\n",
       "      <td>0.297</td>\n",
       "      <td>90.0</td>\n",
       "      <td>0.010</td>\n",
       "      <td>17.0</td>\n",
       "      <td>21.89</td>\n",
       "      <td>3.0</td>\n",
       "      <td>2.98</td>\n",
       "      <td>14.0</td>\n",
       "      <td>4.01</td>\n",
       "      <td>10.0</td>\n",
       "      <td>4.57</td>\n",
       "      <td>78.0</td>\n",
       "      <td>177.0</td>\n",
       "      <td>155.0</td>\n",
       "      <td>281.5</td>\n",
       "      <td>22.0</td>\n",
       "      <td>65.89</td>\n",
       "      <td>39.0</td>\n",
       "      <td>67.99</td>\n",
       "      <td>3.0</td>\n",
       "      <td>65.03</td>\n",
       "      <td>130.0</td>\n",
       "      <td>1.22</td>\n",
       "      <td>1000.0</td>\n",
       "      <td>60.0</td>\n",
       "      <td>445.75</td>\n",
       "      <td>29.72</td>\n",
       "      <td>2.0</td>\n",
       "      <td>53.0</td>\n",
       "      <td>19.12</td>\n",
       "      <td>90.0</td>\n",
       "      <td>129.84</td>\n",
       "      <td>1</td>\n",
       "    </tr>\n",
       "  </tbody>\n",
       "</table>\n",
       "</div>"
      ],
      "text/plain": [
       "   SEASON ENDING_DATE              TOURNAMENT               COURSE  \\\n",
       "0    2016  2016-08-07  Travelers Championship  TPC River Highlands   \n",
       "1    2016  2016-08-07  Travelers Championship  TPC River Highlands   \n",
       "2    2016  2016-08-07  Travelers Championship  TPC River Highlands   \n",
       "3    2016  2016-08-07  Travelers Championship  TPC River Highlands   \n",
       "4    2016  2016-08-07  Travelers Championship  TPC River Highlands   \n",
       "\n",
       "           PLAYER  POS  FINAL_POS  SGTTG_RANK  SGTTG  SGOTT_RANK  SGOTT  \\\n",
       "0  Aaron Baddeley  T34         34       146.0 -0.330       159.0 -0.366   \n",
       "1   Abraham Ancer  T56         56       144.0 -0.307       111.0 -0.024   \n",
       "2     Adam Hadwin  CUT         90       111.0 -0.011        55.0  0.223   \n",
       "3    Adam Rainaud  CUT         90         NaN    NaN         NaN    NaN   \n",
       "4      Alex Cejka  T11         11        39.0  0.631       148.0 -0.292   \n",
       "\n",
       "   SGAPR_RANK  SGAPR  SGATG_RANK  SGATG  SGP_RANK    SGP  BIRDIES_RANK  \\\n",
       "0       164.0 -0.362        10.0  0.402       8.0  0.586          59.0   \n",
       "1       161.0 -0.340        77.0  0.057     172.0 -0.421         154.0   \n",
       "2       121.0 -0.055       132.0 -0.081      11.0  0.530          22.0   \n",
       "3         NaN    NaN         NaN    NaN       NaN    NaN           NaN   \n",
       "4        12.0  0.626        20.0  0.297      90.0  0.010          17.0   \n",
       "\n",
       "  BIRDIES  PAR_3_RANK  PAR_3  PAR_4_RANK  PAR_4  PAR_5_RANK  PAR_5  \\\n",
       "0   20.72        78.0   3.06        14.0   4.01        50.0   4.64   \n",
       "1   18.63       120.0   3.08       136.0   4.07       183.0   4.80   \n",
       "2   21.74        16.0   3.01        48.0   4.03        68.0   4.66   \n",
       "3     NaN         NaN    NaN         NaN    NaN         NaN    NaN   \n",
       "4   21.89         3.0   2.98        14.0   4.01        10.0   4.57   \n",
       "\n",
       "   TOTAL_DRIVING_RANK  TOTAL_DRIVING  DRIVING_DISTANCE_RANK  DRIVING_DISTANCE  \\\n",
       "0               159.0          237.0                   82.0             291.7   \n",
       "1               131.0          205.0                  178.0             276.4   \n",
       "2                35.0          141.0                   92.0             290.1   \n",
       "3                 NaN            NaN                    NaN               NaN   \n",
       "4                78.0          177.0                  155.0             281.5   \n",
       "\n",
       "   DRIVING_ACCURACY_RANK DRIVING_ACCURACY  GIR_RANK    GIR  SCRAMBLING_RANK  \\\n",
       "0                  155.0            55.42     154.0  63.11              5.0   \n",
       "1                   27.0            65.42     174.0  61.81            131.0   \n",
       "2                   49.0            63.62      83.0  66.07             97.0   \n",
       "3                    NaN              NaN       NaN    NaN              NaN   \n",
       "4                   22.0            65.89      39.0  67.99              3.0   \n",
       "\n",
       "  SCRAMBLING  OWGR_RANK  OWGR  VEGAS_ODDS  CUT_PERCENTAGE  FEDEX_CUP_POINTS  \\\n",
       "0       64.3      143.0  1.14        60.0            58.8            383.50   \n",
       "1      56.67      619.0  0.25      1000.0            22.2             43.00   \n",
       "2      58.27      193.0  0.91      1000.0            77.8            475.17   \n",
       "3        NaN     1000.0  0.09      1000.0             NaN              0.00   \n",
       "4      65.03      130.0  1.22      1000.0            60.0            445.75   \n",
       "\n",
       "   form_density  CONSECUTIVE_CUTS  RECENT_FORM  adj_form  COURSE_HISTORY  \\\n",
       "0         22.56               1.0         55.8     19.31            48.0   \n",
       "1          4.78               0.0         80.1     34.79             NaN   \n",
       "2         26.40               7.0         47.9     16.27            90.0   \n",
       "3           NaN               NaN         90.0       NaN             NaN   \n",
       "4         29.72               2.0         53.0     19.12            90.0   \n",
       "\n",
       "   adj_ch  TOP_20  \n",
       "0   69.25       0  \n",
       "1     NaN       0  \n",
       "2  129.84       0  \n",
       "3     NaN       0  \n",
       "4  129.84       1  "
      ]
     },
     "execution_count": 10,
     "metadata": {},
     "output_type": "execute_result"
    }
   ],
   "source": [
    "# === VEGAS ODDS ===\n",
    "training_df[\"VEGAS_ODDS\"] = training_df[\"VEGAS_ODDS\"].fillna(1000).clip(upper=1000)\n",
    "\n",
    "# === OWGR and OWGR_RANK ===\n",
    "owgr_min = training_df[\"OWGR\"].min(skipna=True)\n",
    "training_df[\"OWGR\"] = training_df[\"OWGR\"].fillna(owgr_min)\n",
    "training_df[\"OWGR_RANK\"] = training_df[\"OWGR_RANK\"].fillna(1000).astype(float).clip(upper=1000)\n",
    "\n",
    "# === RECENT FORM and adj_form ===\n",
    "training_df[\"RECENT_FORM\"] = training_df[\"RECENT_FORM\"].fillna(90)\n",
    "if \"TOTAL_EVENTS_PLAYED\" in training_df.columns:\n",
    "    training_df[\"adj_form\"] = (\n",
    "        training_df[\"RECENT_FORM\"] / np.log1p(training_df[\"TOTAL_EVENTS_PLAYED\"])\n",
    "    ).round(2)\n",
    "\n",
    "# === FEDEX CUP POINTS ===\n",
    "training_df[\"FEDEX_CUP_POINTS\"] = training_df[\"FEDEX_CUP_POINTS\"].fillna(0)\n",
    "\n",
    "training_df.head(5)\n"
   ]
  },
  {
   "cell_type": "markdown",
   "id": "f58c9b4a",
   "metadata": {},
   "source": [
    "#### Average the NaNs\n",
    "At this point, the intentional offsetting of NaNs for poor players is over.  I don't want to penalize statistics or course history because you never know where they might land on the spectrum, so for these NaN values, we will take the mean."
   ]
  },
  {
   "cell_type": "code",
   "execution_count": 11,
   "id": "1172b59c",
   "metadata": {},
   "outputs": [
    {
     "data": {
      "text/html": [
       "<div>\n",
       "<style scoped>\n",
       "    .dataframe tbody tr th:only-of-type {\n",
       "        vertical-align: middle;\n",
       "    }\n",
       "\n",
       "    .dataframe tbody tr th {\n",
       "        vertical-align: top;\n",
       "    }\n",
       "\n",
       "    .dataframe thead th {\n",
       "        text-align: right;\n",
       "    }\n",
       "</style>\n",
       "<table border=\"1\" class=\"dataframe\">\n",
       "  <thead>\n",
       "    <tr style=\"text-align: right;\">\n",
       "      <th></th>\n",
       "      <th>SEASON</th>\n",
       "      <th>ENDING_DATE</th>\n",
       "      <th>TOURNAMENT</th>\n",
       "      <th>COURSE</th>\n",
       "      <th>PLAYER</th>\n",
       "      <th>POS</th>\n",
       "      <th>FINAL_POS</th>\n",
       "      <th>SGTTG_RANK</th>\n",
       "      <th>SGTTG</th>\n",
       "      <th>SGOTT_RANK</th>\n",
       "      <th>SGOTT</th>\n",
       "      <th>SGAPR_RANK</th>\n",
       "      <th>SGAPR</th>\n",
       "      <th>SGATG_RANK</th>\n",
       "      <th>SGATG</th>\n",
       "      <th>SGP_RANK</th>\n",
       "      <th>SGP</th>\n",
       "      <th>BIRDIES_RANK</th>\n",
       "      <th>BIRDIES</th>\n",
       "      <th>PAR_3_RANK</th>\n",
       "      <th>PAR_3</th>\n",
       "      <th>PAR_4_RANK</th>\n",
       "      <th>PAR_4</th>\n",
       "      <th>PAR_5_RANK</th>\n",
       "      <th>PAR_5</th>\n",
       "      <th>TOTAL_DRIVING_RANK</th>\n",
       "      <th>TOTAL_DRIVING</th>\n",
       "      <th>DRIVING_DISTANCE_RANK</th>\n",
       "      <th>DRIVING_DISTANCE</th>\n",
       "      <th>DRIVING_ACCURACY_RANK</th>\n",
       "      <th>DRIVING_ACCURACY</th>\n",
       "      <th>GIR_RANK</th>\n",
       "      <th>GIR</th>\n",
       "      <th>SCRAMBLING_RANK</th>\n",
       "      <th>SCRAMBLING</th>\n",
       "      <th>OWGR_RANK</th>\n",
       "      <th>OWGR</th>\n",
       "      <th>VEGAS_ODDS</th>\n",
       "      <th>CUT_PERCENTAGE</th>\n",
       "      <th>FEDEX_CUP_POINTS</th>\n",
       "      <th>form_density</th>\n",
       "      <th>CONSECUTIVE_CUTS</th>\n",
       "      <th>RECENT_FORM</th>\n",
       "      <th>adj_form</th>\n",
       "      <th>COURSE_HISTORY</th>\n",
       "      <th>adj_ch</th>\n",
       "      <th>TOP_20</th>\n",
       "    </tr>\n",
       "  </thead>\n",
       "  <tbody>\n",
       "    <tr>\n",
       "      <th>0</th>\n",
       "      <td>2016</td>\n",
       "      <td>2016-08-07</td>\n",
       "      <td>Travelers Championship</td>\n",
       "      <td>TPC River Highlands</td>\n",
       "      <td>Aaron Baddeley</td>\n",
       "      <td>T34</td>\n",
       "      <td>34</td>\n",
       "      <td>146.000000</td>\n",
       "      <td>-0.330000</td>\n",
       "      <td>159.00000</td>\n",
       "      <td>-0.366000</td>\n",
       "      <td>164.000000</td>\n",
       "      <td>-0.362000</td>\n",
       "      <td>10.000000</td>\n",
       "      <td>0.40200</td>\n",
       "      <td>8.000000</td>\n",
       "      <td>0.586000</td>\n",
       "      <td>59.000000</td>\n",
       "      <td>20.720000</td>\n",
       "      <td>78.000000</td>\n",
       "      <td>3.060000</td>\n",
       "      <td>14.000000</td>\n",
       "      <td>4.010000</td>\n",
       "      <td>50.00000</td>\n",
       "      <td>4.64000</td>\n",
       "      <td>159.000000</td>\n",
       "      <td>237.000000</td>\n",
       "      <td>82.000000</td>\n",
       "      <td>291.700000</td>\n",
       "      <td>155.000000</td>\n",
       "      <td>55.420000</td>\n",
       "      <td>154.000000</td>\n",
       "      <td>63.110000</td>\n",
       "      <td>5.000000</td>\n",
       "      <td>64.300000</td>\n",
       "      <td>143.0</td>\n",
       "      <td>1.14</td>\n",
       "      <td>60.0</td>\n",
       "      <td>58.800000</td>\n",
       "      <td>383.50</td>\n",
       "      <td>22.560000</td>\n",
       "      <td>1.000000</td>\n",
       "      <td>55.8</td>\n",
       "      <td>19.310000</td>\n",
       "      <td>48.000000</td>\n",
       "      <td>69.250000</td>\n",
       "      <td>0</td>\n",
       "    </tr>\n",
       "    <tr>\n",
       "      <th>1</th>\n",
       "      <td>2016</td>\n",
       "      <td>2016-08-07</td>\n",
       "      <td>Travelers Championship</td>\n",
       "      <td>TPC River Highlands</td>\n",
       "      <td>Abraham Ancer</td>\n",
       "      <td>T56</td>\n",
       "      <td>56</td>\n",
       "      <td>144.000000</td>\n",
       "      <td>-0.307000</td>\n",
       "      <td>111.00000</td>\n",
       "      <td>-0.024000</td>\n",
       "      <td>161.000000</td>\n",
       "      <td>-0.340000</td>\n",
       "      <td>77.000000</td>\n",
       "      <td>0.05700</td>\n",
       "      <td>172.000000</td>\n",
       "      <td>-0.421000</td>\n",
       "      <td>154.000000</td>\n",
       "      <td>18.630000</td>\n",
       "      <td>120.000000</td>\n",
       "      <td>3.080000</td>\n",
       "      <td>136.000000</td>\n",
       "      <td>4.070000</td>\n",
       "      <td>183.00000</td>\n",
       "      <td>4.80000</td>\n",
       "      <td>131.000000</td>\n",
       "      <td>205.000000</td>\n",
       "      <td>178.000000</td>\n",
       "      <td>276.400000</td>\n",
       "      <td>27.000000</td>\n",
       "      <td>65.420000</td>\n",
       "      <td>174.000000</td>\n",
       "      <td>61.810000</td>\n",
       "      <td>131.000000</td>\n",
       "      <td>56.670000</td>\n",
       "      <td>619.0</td>\n",
       "      <td>0.25</td>\n",
       "      <td>1000.0</td>\n",
       "      <td>22.200000</td>\n",
       "      <td>43.00</td>\n",
       "      <td>4.780000</td>\n",
       "      <td>0.000000</td>\n",
       "      <td>80.1</td>\n",
       "      <td>34.790000</td>\n",
       "      <td>59.369261</td>\n",
       "      <td>57.855034</td>\n",
       "      <td>0</td>\n",
       "    </tr>\n",
       "    <tr>\n",
       "      <th>2</th>\n",
       "      <td>2016</td>\n",
       "      <td>2016-08-07</td>\n",
       "      <td>Travelers Championship</td>\n",
       "      <td>TPC River Highlands</td>\n",
       "      <td>Adam Hadwin</td>\n",
       "      <td>CUT</td>\n",
       "      <td>90</td>\n",
       "      <td>111.000000</td>\n",
       "      <td>-0.011000</td>\n",
       "      <td>55.00000</td>\n",
       "      <td>0.223000</td>\n",
       "      <td>121.000000</td>\n",
       "      <td>-0.055000</td>\n",
       "      <td>132.000000</td>\n",
       "      <td>-0.08100</td>\n",
       "      <td>11.000000</td>\n",
       "      <td>0.530000</td>\n",
       "      <td>22.000000</td>\n",
       "      <td>21.740000</td>\n",
       "      <td>16.000000</td>\n",
       "      <td>3.010000</td>\n",
       "      <td>48.000000</td>\n",
       "      <td>4.030000</td>\n",
       "      <td>68.00000</td>\n",
       "      <td>4.66000</td>\n",
       "      <td>35.000000</td>\n",
       "      <td>141.000000</td>\n",
       "      <td>92.000000</td>\n",
       "      <td>290.100000</td>\n",
       "      <td>49.000000</td>\n",
       "      <td>63.620000</td>\n",
       "      <td>83.000000</td>\n",
       "      <td>66.070000</td>\n",
       "      <td>97.000000</td>\n",
       "      <td>58.270000</td>\n",
       "      <td>193.0</td>\n",
       "      <td>0.91</td>\n",
       "      <td>1000.0</td>\n",
       "      <td>77.800000</td>\n",
       "      <td>475.17</td>\n",
       "      <td>26.400000</td>\n",
       "      <td>7.000000</td>\n",
       "      <td>47.9</td>\n",
       "      <td>16.270000</td>\n",
       "      <td>90.000000</td>\n",
       "      <td>129.840000</td>\n",
       "      <td>0</td>\n",
       "    </tr>\n",
       "    <tr>\n",
       "      <th>3</th>\n",
       "      <td>2016</td>\n",
       "      <td>2016-08-07</td>\n",
       "      <td>Travelers Championship</td>\n",
       "      <td>TPC River Highlands</td>\n",
       "      <td>Adam Rainaud</td>\n",
       "      <td>CUT</td>\n",
       "      <td>90</td>\n",
       "      <td>98.712702</td>\n",
       "      <td>0.079046</td>\n",
       "      <td>96.30179</td>\n",
       "      <td>0.030489</td>\n",
       "      <td>98.456095</td>\n",
       "      <td>0.037964</td>\n",
       "      <td>99.223359</td>\n",
       "      <td>0.01009</td>\n",
       "      <td>96.296675</td>\n",
       "      <td>0.025311</td>\n",
       "      <td>98.664962</td>\n",
       "      <td>20.994066</td>\n",
       "      <td>88.678876</td>\n",
       "      <td>3.055434</td>\n",
       "      <td>90.310315</td>\n",
       "      <td>4.030503</td>\n",
       "      <td>95.40971</td>\n",
       "      <td>4.64155</td>\n",
       "      <td>96.075021</td>\n",
       "      <td>191.888321</td>\n",
       "      <td>97.174766</td>\n",
       "      <td>296.395482</td>\n",
       "      <td>94.713555</td>\n",
       "      <td>60.829335</td>\n",
       "      <td>98.652174</td>\n",
       "      <td>66.163248</td>\n",
       "      <td>96.127025</td>\n",
       "      <td>59.000716</td>\n",
       "      <td>1000.0</td>\n",
       "      <td>0.09</td>\n",
       "      <td>1000.0</td>\n",
       "      <td>56.981167</td>\n",
       "      <td>0.00</td>\n",
       "      <td>24.933518</td>\n",
       "      <td>1.464591</td>\n",
       "      <td>90.0</td>\n",
       "      <td>23.062179</td>\n",
       "      <td>59.369261</td>\n",
       "      <td>57.855034</td>\n",
       "      <td>0</td>\n",
       "    </tr>\n",
       "    <tr>\n",
       "      <th>4</th>\n",
       "      <td>2016</td>\n",
       "      <td>2016-08-07</td>\n",
       "      <td>Travelers Championship</td>\n",
       "      <td>TPC River Highlands</td>\n",
       "      <td>Alex Cejka</td>\n",
       "      <td>T11</td>\n",
       "      <td>11</td>\n",
       "      <td>39.000000</td>\n",
       "      <td>0.631000</td>\n",
       "      <td>148.00000</td>\n",
       "      <td>-0.292000</td>\n",
       "      <td>12.000000</td>\n",
       "      <td>0.626000</td>\n",
       "      <td>20.000000</td>\n",
       "      <td>0.29700</td>\n",
       "      <td>90.000000</td>\n",
       "      <td>0.010000</td>\n",
       "      <td>17.000000</td>\n",
       "      <td>21.890000</td>\n",
       "      <td>3.000000</td>\n",
       "      <td>2.980000</td>\n",
       "      <td>14.000000</td>\n",
       "      <td>4.010000</td>\n",
       "      <td>10.00000</td>\n",
       "      <td>4.57000</td>\n",
       "      <td>78.000000</td>\n",
       "      <td>177.000000</td>\n",
       "      <td>155.000000</td>\n",
       "      <td>281.500000</td>\n",
       "      <td>22.000000</td>\n",
       "      <td>65.890000</td>\n",
       "      <td>39.000000</td>\n",
       "      <td>67.990000</td>\n",
       "      <td>3.000000</td>\n",
       "      <td>65.030000</td>\n",
       "      <td>130.0</td>\n",
       "      <td>1.22</td>\n",
       "      <td>1000.0</td>\n",
       "      <td>60.000000</td>\n",
       "      <td>445.75</td>\n",
       "      <td>29.720000</td>\n",
       "      <td>2.000000</td>\n",
       "      <td>53.0</td>\n",
       "      <td>19.120000</td>\n",
       "      <td>90.000000</td>\n",
       "      <td>129.840000</td>\n",
       "      <td>1</td>\n",
       "    </tr>\n",
       "  </tbody>\n",
       "</table>\n",
       "</div>"
      ],
      "text/plain": [
       "   SEASON ENDING_DATE              TOURNAMENT               COURSE  \\\n",
       "0    2016  2016-08-07  Travelers Championship  TPC River Highlands   \n",
       "1    2016  2016-08-07  Travelers Championship  TPC River Highlands   \n",
       "2    2016  2016-08-07  Travelers Championship  TPC River Highlands   \n",
       "3    2016  2016-08-07  Travelers Championship  TPC River Highlands   \n",
       "4    2016  2016-08-07  Travelers Championship  TPC River Highlands   \n",
       "\n",
       "           PLAYER  POS  FINAL_POS  SGTTG_RANK     SGTTG  SGOTT_RANK     SGOTT  \\\n",
       "0  Aaron Baddeley  T34         34  146.000000 -0.330000   159.00000 -0.366000   \n",
       "1   Abraham Ancer  T56         56  144.000000 -0.307000   111.00000 -0.024000   \n",
       "2     Adam Hadwin  CUT         90  111.000000 -0.011000    55.00000  0.223000   \n",
       "3    Adam Rainaud  CUT         90   98.712702  0.079046    96.30179  0.030489   \n",
       "4      Alex Cejka  T11         11   39.000000  0.631000   148.00000 -0.292000   \n",
       "\n",
       "   SGAPR_RANK     SGAPR  SGATG_RANK    SGATG    SGP_RANK       SGP  \\\n",
       "0  164.000000 -0.362000   10.000000  0.40200    8.000000  0.586000   \n",
       "1  161.000000 -0.340000   77.000000  0.05700  172.000000 -0.421000   \n",
       "2  121.000000 -0.055000  132.000000 -0.08100   11.000000  0.530000   \n",
       "3   98.456095  0.037964   99.223359  0.01009   96.296675  0.025311   \n",
       "4   12.000000  0.626000   20.000000  0.29700   90.000000  0.010000   \n",
       "\n",
       "   BIRDIES_RANK    BIRDIES  PAR_3_RANK     PAR_3  PAR_4_RANK     PAR_4  \\\n",
       "0     59.000000  20.720000   78.000000  3.060000   14.000000  4.010000   \n",
       "1    154.000000  18.630000  120.000000  3.080000  136.000000  4.070000   \n",
       "2     22.000000  21.740000   16.000000  3.010000   48.000000  4.030000   \n",
       "3     98.664962  20.994066   88.678876  3.055434   90.310315  4.030503   \n",
       "4     17.000000  21.890000    3.000000  2.980000   14.000000  4.010000   \n",
       "\n",
       "   PAR_5_RANK    PAR_5  TOTAL_DRIVING_RANK  TOTAL_DRIVING  \\\n",
       "0    50.00000  4.64000          159.000000     237.000000   \n",
       "1   183.00000  4.80000          131.000000     205.000000   \n",
       "2    68.00000  4.66000           35.000000     141.000000   \n",
       "3    95.40971  4.64155           96.075021     191.888321   \n",
       "4    10.00000  4.57000           78.000000     177.000000   \n",
       "\n",
       "   DRIVING_DISTANCE_RANK  DRIVING_DISTANCE  DRIVING_ACCURACY_RANK  \\\n",
       "0              82.000000        291.700000             155.000000   \n",
       "1             178.000000        276.400000              27.000000   \n",
       "2              92.000000        290.100000              49.000000   \n",
       "3              97.174766        296.395482              94.713555   \n",
       "4             155.000000        281.500000              22.000000   \n",
       "\n",
       "   DRIVING_ACCURACY    GIR_RANK        GIR  SCRAMBLING_RANK  SCRAMBLING  \\\n",
       "0         55.420000  154.000000  63.110000         5.000000   64.300000   \n",
       "1         65.420000  174.000000  61.810000       131.000000   56.670000   \n",
       "2         63.620000   83.000000  66.070000        97.000000   58.270000   \n",
       "3         60.829335   98.652174  66.163248        96.127025   59.000716   \n",
       "4         65.890000   39.000000  67.990000         3.000000   65.030000   \n",
       "\n",
       "   OWGR_RANK  OWGR  VEGAS_ODDS  CUT_PERCENTAGE  FEDEX_CUP_POINTS  \\\n",
       "0      143.0  1.14        60.0       58.800000            383.50   \n",
       "1      619.0  0.25      1000.0       22.200000             43.00   \n",
       "2      193.0  0.91      1000.0       77.800000            475.17   \n",
       "3     1000.0  0.09      1000.0       56.981167              0.00   \n",
       "4      130.0  1.22      1000.0       60.000000            445.75   \n",
       "\n",
       "   form_density  CONSECUTIVE_CUTS  RECENT_FORM   adj_form  COURSE_HISTORY  \\\n",
       "0     22.560000          1.000000         55.8  19.310000       48.000000   \n",
       "1      4.780000          0.000000         80.1  34.790000       59.369261   \n",
       "2     26.400000          7.000000         47.9  16.270000       90.000000   \n",
       "3     24.933518          1.464591         90.0  23.062179       59.369261   \n",
       "4     29.720000          2.000000         53.0  19.120000       90.000000   \n",
       "\n",
       "       adj_ch  TOP_20  \n",
       "0   69.250000       0  \n",
       "1   57.855034       0  \n",
       "2  129.840000       0  \n",
       "3   57.855034       0  \n",
       "4  129.840000       1  "
      ]
     },
     "execution_count": 11,
     "metadata": {},
     "output_type": "execute_result"
    }
   ],
   "source": [
    "# === Clean percentage stats stored as strings like '62.5%' ===\n",
    "percent_stats = [\"SCRAMBLING\", \"DRIVING_ACCURACY\", \"BIRDIES\", \"GIR\"]\n",
    "\n",
    "for col in percent_stats:\n",
    "    if col in training_df.columns:\n",
    "        training_df[col] = (\n",
    "            training_df[col]\n",
    "            .astype(str)\n",
    "            .str.replace('%', '', regex=False)\n",
    "            .replace(['None', 'nan', 'NaN', '--', 'DNP', ''], np.nan)\n",
    "            .astype(float)\n",
    "        )\n",
    "\n",
    "# Select only the numeric columns\n",
    "numeric_columns = training_df.select_dtypes(include=['float64', 'int64'])\n",
    "\n",
    "# Fill NaN values with the mean of each column\n",
    "numeric_columns = numeric_columns.fillna(numeric_columns.mean())\n",
    "\n",
    "# Update the original dataframe with the filled numeric columns\n",
    "training_df.update(numeric_columns)\n",
    "\n",
    "training_df.head()"
   ]
  },
  {
   "cell_type": "code",
   "execution_count": 12,
   "id": "bb294b3c",
   "metadata": {},
   "outputs": [],
   "source": [
    "# Check for NaN values\n",
    "assert training_df.isna().sum().sum() == 0, \"🚨 Still missing values!\""
   ]
  },
  {
   "cell_type": "code",
   "execution_count": 13,
   "id": "5d68c5dc",
   "metadata": {},
   "outputs": [
    {
     "data": {
      "text/plain": [
       "SEASON         0\n",
       "ENDING_DATE    0\n",
       "TOURNAMENT     0\n",
       "COURSE         0\n",
       "PLAYER         0\n",
       "POS            0\n",
       "FINAL_POS      0\n",
       "SGTTG_RANK     0\n",
       "SGTTG          0\n",
       "SGOTT_RANK     0\n",
       "dtype: int64"
      ]
     },
     "execution_count": 13,
     "metadata": {},
     "output_type": "execute_result"
    }
   ],
   "source": [
    "# Inspect which columns have NaN values\n",
    "training_df.isna().sum().sort_values(ascending=False).head(10)\n"
   ]
  },
  {
   "cell_type": "markdown",
   "id": "1214b374",
   "metadata": {},
   "source": [
    "### Check Features for Outliers and General Health (Histograms)\n",
    "Now that all the data is cleaned, let's look at the distribution graphs."
   ]
  },
  {
   "cell_type": "code",
   "execution_count": null,
   "id": "c3ac2331",
   "metadata": {},
   "outputs": [],
   "source": [
    "import plotly.express as px\n",
    "import plotly.subplots as sp\n",
    "import plotly.graph_objects as go\n",
    "import pandas as pd\n",
    "import numpy as np\n",
    "\n",
    "# Select numeric columns with >1 unique value, excluding label\n",
    "df_numeric = training_df.select_dtypes(include=np.number)\n",
    "df_numeric = df_numeric.loc[:, df_numeric.nunique() > 1]\n",
    "df_numeric = df_numeric.drop(columns=[\"TOP_20\"], errors=\"ignore\")\n",
    "\n",
    "# Create subplots\n",
    "n_cols = 3\n",
    "n_rows = int(np.ceil(len(df_numeric.columns) / n_cols))\n",
    "fig = sp.make_subplots(rows=n_rows, cols=n_cols, subplot_titles=df_numeric.columns)\n",
    "\n",
    "# Add one histogram per feature with smart binning\n",
    "for i, column in enumerate(df_numeric.columns):\n",
    "    row = i // n_cols + 1\n",
    "    col = i % n_cols + 1\n",
    "\n",
    "    # Compute dynamic bin count\n",
    "    col_range = df_numeric[column].max() - df_numeric[column].min()\n",
    "    n_unique = df_numeric[column].nunique()\n",
    "    nbins = min(50, max(5, int(n_unique / 2))) if col_range < 10 else 50  # tighter for short-range\n",
    "\n",
    "    fig.add_trace(\n",
    "        go.Histogram(\n",
    "            x=df_numeric[column],\n",
    "            nbinsx=nbins,\n",
    "            histnorm=\"density\",\n",
    "            marker=dict(color=\"#636EFA\"),\n",
    "            opacity=0.8\n",
    "        ),\n",
    "        row=row,\n",
    "        col=col\n",
    "    )\n",
    "\n",
    "# Style the figure\n",
    "fig.update_layout(\n",
    "    height=300 * n_rows,\n",
    "    width=1000,\n",
    "    title_text=\"Feature Distributions (with Adaptive Binning)\",\n",
    "    template=\"plotly_dark\",\n",
    "    showlegend=False\n",
    ")\n",
    "\n",
    "fig.show()"
   ]
  },
  {
   "cell_type": "markdown",
   "id": "7dd53f87",
   "metadata": {},
   "source": [
    "# Current Week Data"
   ]
  },
  {
   "cell_type": "markdown",
   "id": "fbd0a012",
   "metadata": {},
   "source": [
    "## Import 2025 Field\n",
    "**Important!**  Save curren't week's `DKSalaries.csv` into Data folder before this step."
   ]
  },
  {
   "cell_type": "code",
   "execution_count": 14,
   "id": "f17875f6",
   "metadata": {},
   "outputs": [
    {
     "data": {
      "text/html": [
       "<div>\n",
       "<style scoped>\n",
       "    .dataframe tbody tr th:only-of-type {\n",
       "        vertical-align: middle;\n",
       "    }\n",
       "\n",
       "    .dataframe tbody tr th {\n",
       "        vertical-align: top;\n",
       "    }\n",
       "\n",
       "    .dataframe thead th {\n",
       "        text-align: right;\n",
       "    }\n",
       "</style>\n",
       "<table border=\"1\" class=\"dataframe\">\n",
       "  <thead>\n",
       "    <tr style=\"text-align: right;\">\n",
       "      <th></th>\n",
       "      <th>PLAYER</th>\n",
       "      <th>SALARY</th>\n",
       "    </tr>\n",
       "  </thead>\n",
       "  <tbody>\n",
       "    <tr>\n",
       "      <th>0</th>\n",
       "      <td>Scottie Scheffler</td>\n",
       "      <td>13300</td>\n",
       "    </tr>\n",
       "    <tr>\n",
       "      <th>1</th>\n",
       "      <td>Rory McIlroy</td>\n",
       "      <td>11500</td>\n",
       "    </tr>\n",
       "    <tr>\n",
       "      <th>2</th>\n",
       "      <td>Xander Schauffele</td>\n",
       "      <td>10800</td>\n",
       "    </tr>\n",
       "    <tr>\n",
       "      <th>3</th>\n",
       "      <td>Collin Morikawa</td>\n",
       "      <td>10200</td>\n",
       "    </tr>\n",
       "    <tr>\n",
       "      <th>4</th>\n",
       "      <td>Patrick Cantlay</td>\n",
       "      <td>9800</td>\n",
       "    </tr>\n",
       "    <tr>\n",
       "      <th>5</th>\n",
       "      <td>Ludvig Aberg</td>\n",
       "      <td>9600</td>\n",
       "    </tr>\n",
       "    <tr>\n",
       "      <th>6</th>\n",
       "      <td>Justin Thomas</td>\n",
       "      <td>9300</td>\n",
       "    </tr>\n",
       "    <tr>\n",
       "      <th>7</th>\n",
       "      <td>Sepp Straka</td>\n",
       "      <td>9200</td>\n",
       "    </tr>\n",
       "    <tr>\n",
       "      <th>8</th>\n",
       "      <td>Sam Burns</td>\n",
       "      <td>9100</td>\n",
       "    </tr>\n",
       "    <tr>\n",
       "      <th>9</th>\n",
       "      <td>Viktor Hovland</td>\n",
       "      <td>9000</td>\n",
       "    </tr>\n",
       "  </tbody>\n",
       "</table>\n",
       "</div>"
      ],
      "text/plain": [
       "              PLAYER  SALARY\n",
       "0  Scottie Scheffler   13300\n",
       "1       Rory McIlroy   11500\n",
       "2  Xander Schauffele   10800\n",
       "3    Collin Morikawa   10200\n",
       "4    Patrick Cantlay    9800\n",
       "5       Ludvig Aberg    9600\n",
       "6      Justin Thomas    9300\n",
       "7        Sepp Straka    9200\n",
       "8          Sam Burns    9100\n",
       "9     Viktor Hovland    9000"
      ]
     },
     "execution_count": 14,
     "metadata": {},
     "output_type": "execute_result"
    }
   ],
   "source": [
    "importlib.reload(utils.db_utils)\n",
    "from utils.db_utils import DK_PLAYER_NAME_MAP\n",
    "\n",
    "# Load DraftKings player list\n",
    "dk = pd.read_csv(\"data/DKSalaries.csv\", usecols=[\"Name\", \"Salary\"])\n",
    "\n",
    "# Normalize DK names to PGA naming convention\n",
    "dk[\"Name\"] = dk[\"Name\"].replace(DK_PLAYER_NAME_MAP)\n",
    "\n",
    "# Rename for consistency\n",
    "dk = dk.rename(columns={\"Name\": \"PLAYER\", \"Salary\": \"SALARY\"})\n",
    "\n",
    "dk.head(10)"
   ]
  },
  {
   "cell_type": "markdown",
   "id": "544d958c",
   "metadata": {},
   "source": [
    "## Vegas Odds\n",
    "Confirm the [Vegas Odds](http://golfodds.com/weekly-odds.html) page is updated with current tournament.\n",
    "\n",
    "Note: sometimes this site can give errors and not load correctly.  Just have to do it again later.\n",
    "Another trick to try is change the url try to run it and then put the url back the way it was.  Worked once, maybe random coincidence."
   ]
  },
  {
   "cell_type": "code",
   "execution_count": 15,
   "id": "a3cba953",
   "metadata": {},
   "outputs": [
    {
     "data": {
      "text/html": [
       "<div>\n",
       "<style scoped>\n",
       "    .dataframe tbody tr th:only-of-type {\n",
       "        vertical-align: middle;\n",
       "    }\n",
       "\n",
       "    .dataframe tbody tr th {\n",
       "        vertical-align: top;\n",
       "    }\n",
       "\n",
       "    .dataframe thead th {\n",
       "        text-align: right;\n",
       "    }\n",
       "</style>\n",
       "<table border=\"1\" class=\"dataframe\">\n",
       "  <thead>\n",
       "    <tr style=\"text-align: right;\">\n",
       "      <th></th>\n",
       "      <th>SEASON</th>\n",
       "      <th>TOURNAMENT</th>\n",
       "      <th>PLAYER</th>\n",
       "      <th>ODDS</th>\n",
       "      <th>VEGAS_ODDS</th>\n",
       "    </tr>\n",
       "  </thead>\n",
       "  <tbody>\n",
       "    <tr>\n",
       "      <th>1</th>\n",
       "      <td>2025</td>\n",
       "      <td>Travelers Championship</td>\n",
       "      <td>Scottie Scheffler</td>\n",
       "      <td>3/1</td>\n",
       "      <td>3.0</td>\n",
       "    </tr>\n",
       "    <tr>\n",
       "      <th>2</th>\n",
       "      <td>2025</td>\n",
       "      <td>Travelers Championship</td>\n",
       "      <td>Rory McIlroy</td>\n",
       "      <td>14/1</td>\n",
       "      <td>14.0</td>\n",
       "    </tr>\n",
       "    <tr>\n",
       "      <th>3</th>\n",
       "      <td>2025</td>\n",
       "      <td>Travelers Championship</td>\n",
       "      <td>Collin Morikawa</td>\n",
       "      <td>16/1</td>\n",
       "      <td>16.0</td>\n",
       "    </tr>\n",
       "    <tr>\n",
       "      <th>4</th>\n",
       "      <td>2025</td>\n",
       "      <td>Travelers Championship</td>\n",
       "      <td>Xander Schauffele</td>\n",
       "      <td>16/1</td>\n",
       "      <td>16.0</td>\n",
       "    </tr>\n",
       "    <tr>\n",
       "      <th>5</th>\n",
       "      <td>2025</td>\n",
       "      <td>Travelers Championship</td>\n",
       "      <td>Patrick Cantlay</td>\n",
       "      <td>25/1</td>\n",
       "      <td>25.0</td>\n",
       "    </tr>\n",
       "    <tr>\n",
       "      <th>6</th>\n",
       "      <td>2025</td>\n",
       "      <td>Travelers Championship</td>\n",
       "      <td>Ludvig Aberg</td>\n",
       "      <td>30/1</td>\n",
       "      <td>30.0</td>\n",
       "    </tr>\n",
       "    <tr>\n",
       "      <th>7</th>\n",
       "      <td>2025</td>\n",
       "      <td>Travelers Championship</td>\n",
       "      <td>Justin Thomas</td>\n",
       "      <td>35/1</td>\n",
       "      <td>35.0</td>\n",
       "    </tr>\n",
       "    <tr>\n",
       "      <th>8</th>\n",
       "      <td>2025</td>\n",
       "      <td>Travelers Championship</td>\n",
       "      <td>Viktor Hovland</td>\n",
       "      <td>35/1</td>\n",
       "      <td>35.0</td>\n",
       "    </tr>\n",
       "    <tr>\n",
       "      <th>9</th>\n",
       "      <td>2025</td>\n",
       "      <td>Travelers Championship</td>\n",
       "      <td>Sepp Straka</td>\n",
       "      <td>30/1</td>\n",
       "      <td>30.0</td>\n",
       "    </tr>\n",
       "    <tr>\n",
       "      <th>10</th>\n",
       "      <td>2025</td>\n",
       "      <td>Travelers Championship</td>\n",
       "      <td>Tommy Fleetwood</td>\n",
       "      <td>30/1</td>\n",
       "      <td>30.0</td>\n",
       "    </tr>\n",
       "  </tbody>\n",
       "</table>\n",
       "</div>"
      ],
      "text/plain": [
       "    SEASON              TOURNAMENT             PLAYER  ODDS  VEGAS_ODDS\n",
       "1     2025  Travelers Championship  Scottie Scheffler   3/1         3.0\n",
       "2     2025  Travelers Championship       Rory McIlroy  14/1        14.0\n",
       "3     2025  Travelers Championship    Collin Morikawa  16/1        16.0\n",
       "4     2025  Travelers Championship  Xander Schauffele  16/1        16.0\n",
       "5     2025  Travelers Championship    Patrick Cantlay  25/1        25.0\n",
       "6     2025  Travelers Championship       Ludvig Aberg  30/1        30.0\n",
       "7     2025  Travelers Championship      Justin Thomas  35/1        35.0\n",
       "8     2025  Travelers Championship     Viktor Hovland  35/1        35.0\n",
       "9     2025  Travelers Championship        Sepp Straka  30/1        30.0\n",
       "10    2025  Travelers Championship    Tommy Fleetwood  30/1        30.0"
      ]
     },
     "execution_count": 15,
     "metadata": {},
     "output_type": "execute_result"
    }
   ],
   "source": [
    "importlib.reload(utils.db_utils)\n",
    "from utils.db_utils import get_current_week_odds\n",
    "\n",
    "odds_current = get_current_week_odds(season=2025, tournament_name=new_tournament_name)\n",
    "odds_current.head(10)\n"
   ]
  },
  {
   "cell_type": "markdown",
   "id": "f58bb5d0",
   "metadata": {},
   "source": [
    "## Cut Percentage and FedEx Points"
   ]
  },
  {
   "cell_type": "code",
   "execution_count": 16,
   "id": "a927b0b2",
   "metadata": {},
   "outputs": [
    {
     "data": {
      "text/html": [
       "<div>\n",
       "<style scoped>\n",
       "    .dataframe tbody tr th:only-of-type {\n",
       "        vertical-align: middle;\n",
       "    }\n",
       "\n",
       "    .dataframe tbody tr th {\n",
       "        vertical-align: top;\n",
       "    }\n",
       "\n",
       "    .dataframe thead th {\n",
       "        text-align: right;\n",
       "    }\n",
       "</style>\n",
       "<table border=\"1\" class=\"dataframe\">\n",
       "  <thead>\n",
       "    <tr style=\"text-align: right;\">\n",
       "      <th></th>\n",
       "      <th>PLAYER</th>\n",
       "      <th>TOTAL_EVENTS_PLAYED</th>\n",
       "      <th>CUTS_MADE</th>\n",
       "      <th>FEDEX_CUP_POINTS</th>\n",
       "      <th>CUT_PERCENTAGE</th>\n",
       "      <th>form_density</th>\n",
       "      <th>CONSECUTIVE_CUTS</th>\n",
       "      <th>ENDING_DATE</th>\n",
       "      <th>TOURNAMENT</th>\n",
       "    </tr>\n",
       "  </thead>\n",
       "  <tbody>\n",
       "    <tr>\n",
       "      <th>0</th>\n",
       "      <td>A.J. Ewart</td>\n",
       "      <td>1</td>\n",
       "      <td>0</td>\n",
       "      <td>0.000</td>\n",
       "      <td>0.0</td>\n",
       "      <td>0.00</td>\n",
       "      <td>0</td>\n",
       "      <td>2025-06-22</td>\n",
       "      <td>Travelers Championship</td>\n",
       "    </tr>\n",
       "    <tr>\n",
       "      <th>1</th>\n",
       "      <td>Aaron Baddeley</td>\n",
       "      <td>15</td>\n",
       "      <td>6</td>\n",
       "      <td>49.088</td>\n",
       "      <td>40.0</td>\n",
       "      <td>3.27</td>\n",
       "      <td>0</td>\n",
       "      <td>2025-06-22</td>\n",
       "      <td>Travelers Championship</td>\n",
       "    </tr>\n",
       "    <tr>\n",
       "      <th>2</th>\n",
       "      <td>Aaron Rai</td>\n",
       "      <td>16</td>\n",
       "      <td>12</td>\n",
       "      <td>605.730</td>\n",
       "      <td>75.0</td>\n",
       "      <td>37.86</td>\n",
       "      <td>1</td>\n",
       "      <td>2025-06-22</td>\n",
       "      <td>Travelers Championship</td>\n",
       "    </tr>\n",
       "    <tr>\n",
       "      <th>3</th>\n",
       "      <td>Aaron Wise</td>\n",
       "      <td>1</td>\n",
       "      <td>0</td>\n",
       "      <td>0.000</td>\n",
       "      <td>0.0</td>\n",
       "      <td>0.00</td>\n",
       "      <td>0</td>\n",
       "      <td>2025-06-22</td>\n",
       "      <td>Travelers Championship</td>\n",
       "    </tr>\n",
       "    <tr>\n",
       "      <th>4</th>\n",
       "      <td>Adam Hadwin</td>\n",
       "      <td>17</td>\n",
       "      <td>11</td>\n",
       "      <td>203.569</td>\n",
       "      <td>64.7</td>\n",
       "      <td>11.97</td>\n",
       "      <td>2</td>\n",
       "      <td>2025-06-22</td>\n",
       "      <td>Travelers Championship</td>\n",
       "    </tr>\n",
       "    <tr>\n",
       "      <th>5</th>\n",
       "      <td>Adam Long</td>\n",
       "      <td>1</td>\n",
       "      <td>0</td>\n",
       "      <td>0.000</td>\n",
       "      <td>0.0</td>\n",
       "      <td>0.00</td>\n",
       "      <td>0</td>\n",
       "      <td>2025-06-22</td>\n",
       "      <td>Travelers Championship</td>\n",
       "    </tr>\n",
       "    <tr>\n",
       "      <th>6</th>\n",
       "      <td>Adam Schenk</td>\n",
       "      <td>19</td>\n",
       "      <td>9</td>\n",
       "      <td>270.904</td>\n",
       "      <td>47.4</td>\n",
       "      <td>14.26</td>\n",
       "      <td>2</td>\n",
       "      <td>2025-06-22</td>\n",
       "      <td>Travelers Championship</td>\n",
       "    </tr>\n",
       "    <tr>\n",
       "      <th>7</th>\n",
       "      <td>Adam Scott</td>\n",
       "      <td>12</td>\n",
       "      <td>10</td>\n",
       "      <td>361.953</td>\n",
       "      <td>83.3</td>\n",
       "      <td>30.16</td>\n",
       "      <td>5</td>\n",
       "      <td>2025-06-22</td>\n",
       "      <td>Travelers Championship</td>\n",
       "    </tr>\n",
       "    <tr>\n",
       "      <th>8</th>\n",
       "      <td>Adam Svensson</td>\n",
       "      <td>19</td>\n",
       "      <td>10</td>\n",
       "      <td>126.043</td>\n",
       "      <td>52.6</td>\n",
       "      <td>6.63</td>\n",
       "      <td>0</td>\n",
       "      <td>2025-06-22</td>\n",
       "      <td>Travelers Championship</td>\n",
       "    </tr>\n",
       "    <tr>\n",
       "      <th>9</th>\n",
       "      <td>Adrien Dumont de Chassart</td>\n",
       "      <td>7</td>\n",
       "      <td>3</td>\n",
       "      <td>200.500</td>\n",
       "      <td>42.9</td>\n",
       "      <td>28.64</td>\n",
       "      <td>0</td>\n",
       "      <td>2025-06-22</td>\n",
       "      <td>Travelers Championship</td>\n",
       "    </tr>\n",
       "  </tbody>\n",
       "</table>\n",
       "</div>"
      ],
      "text/plain": [
       "                      PLAYER  TOTAL_EVENTS_PLAYED  CUTS_MADE  \\\n",
       "0                 A.J. Ewart                    1          0   \n",
       "1             Aaron Baddeley                   15          6   \n",
       "2                  Aaron Rai                   16         12   \n",
       "3                 Aaron Wise                    1          0   \n",
       "4                Adam Hadwin                   17         11   \n",
       "5                  Adam Long                    1          0   \n",
       "6                Adam Schenk                   19          9   \n",
       "7                 Adam Scott                   12         10   \n",
       "8              Adam Svensson                   19         10   \n",
       "9  Adrien Dumont de Chassart                    7          3   \n",
       "\n",
       "   FEDEX_CUP_POINTS  CUT_PERCENTAGE  form_density  CONSECUTIVE_CUTS  \\\n",
       "0             0.000             0.0          0.00                 0   \n",
       "1            49.088            40.0          3.27                 0   \n",
       "2           605.730            75.0         37.86                 1   \n",
       "3             0.000             0.0          0.00                 0   \n",
       "4           203.569            64.7         11.97                 2   \n",
       "5             0.000             0.0          0.00                 0   \n",
       "6           270.904            47.4         14.26                 2   \n",
       "7           361.953            83.3         30.16                 5   \n",
       "8           126.043            52.6          6.63                 0   \n",
       "9           200.500            42.9         28.64                 0   \n",
       "\n",
       "  ENDING_DATE              TOURNAMENT  \n",
       "0  2025-06-22  Travelers Championship  \n",
       "1  2025-06-22  Travelers Championship  \n",
       "2  2025-06-22  Travelers Championship  \n",
       "3  2025-06-22  Travelers Championship  \n",
       "4  2025-06-22  Travelers Championship  \n",
       "5  2025-06-22  Travelers Championship  \n",
       "6  2025-06-22  Travelers Championship  \n",
       "7  2025-06-22  Travelers Championship  \n",
       "8  2025-06-22  Travelers Championship  \n",
       "9  2025-06-22  Travelers Championship  "
      ]
     },
     "execution_count": 16,
     "metadata": {},
     "output_type": "execute_result"
    }
   ],
   "source": [
    "importlib.reload(utils.db_utils)\n",
    "from utils.db_utils import get_cut_and_fedex_history\n",
    "\n",
    "cuts_rolling = get_cut_and_fedex_history(db_path, this_week_history, window_months=9)\n",
    "cuts_current = cuts_rolling[this_week_key].copy()\n",
    "cuts_current.head(10)"
   ]
  },
  {
   "cell_type": "markdown",
   "id": "abdf22cb",
   "metadata": {},
   "source": [
    "## Recent Form"
   ]
  },
  {
   "cell_type": "code",
   "execution_count": 17,
   "id": "58cfb255",
   "metadata": {},
   "outputs": [
    {
     "data": {
      "text/html": [
       "<div>\n",
       "<style scoped>\n",
       "    .dataframe tbody tr th:only-of-type {\n",
       "        vertical-align: middle;\n",
       "    }\n",
       "\n",
       "    .dataframe tbody tr th {\n",
       "        vertical-align: top;\n",
       "    }\n",
       "\n",
       "    .dataframe thead th {\n",
       "        text-align: right;\n",
       "    }\n",
       "</style>\n",
       "<table border=\"1\" class=\"dataframe\">\n",
       "  <thead>\n",
       "    <tr style=\"text-align: right;\">\n",
       "      <th></th>\n",
       "      <th>PLAYER</th>\n",
       "      <th>TOTAL_EVENTS_PLAYED</th>\n",
       "      <th>RECENT_FORM</th>\n",
       "      <th>adj_form</th>\n",
       "      <th>ENDING_DATE</th>\n",
       "      <th>TOURNAMENT</th>\n",
       "    </tr>\n",
       "  </thead>\n",
       "  <tbody>\n",
       "    <tr>\n",
       "      <th>0</th>\n",
       "      <td>Carlos Ortiz</td>\n",
       "      <td>1</td>\n",
       "      <td>4.0</td>\n",
       "      <td>5.77</td>\n",
       "      <td>2025-06-22</td>\n",
       "      <td>Travelers Championship</td>\n",
       "    </tr>\n",
       "    <tr>\n",
       "      <th>1</th>\n",
       "      <td>Scottie Scheffler</td>\n",
       "      <td>14</td>\n",
       "      <td>6.9</td>\n",
       "      <td>2.55</td>\n",
       "      <td>2025-06-22</td>\n",
       "      <td>Travelers Championship</td>\n",
       "    </tr>\n",
       "    <tr>\n",
       "      <th>2</th>\n",
       "      <td>Jon Rahm</td>\n",
       "      <td>3</td>\n",
       "      <td>9.7</td>\n",
       "      <td>7.00</td>\n",
       "      <td>2025-06-22</td>\n",
       "      <td>Travelers Championship</td>\n",
       "    </tr>\n",
       "    <tr>\n",
       "      <th>3</th>\n",
       "      <td>Bubba Watson</td>\n",
       "      <td>1</td>\n",
       "      <td>14.0</td>\n",
       "      <td>20.20</td>\n",
       "      <td>2025-06-22</td>\n",
       "      <td>Travelers Championship</td>\n",
       "    </tr>\n",
       "    <tr>\n",
       "      <th>4</th>\n",
       "      <td>Ian Gilligan</td>\n",
       "      <td>1</td>\n",
       "      <td>16.0</td>\n",
       "      <td>23.08</td>\n",
       "      <td>2025-06-22</td>\n",
       "      <td>Travelers Championship</td>\n",
       "    </tr>\n",
       "    <tr>\n",
       "      <th>5</th>\n",
       "      <td>Taisei Shimizu</td>\n",
       "      <td>1</td>\n",
       "      <td>16.0</td>\n",
       "      <td>23.08</td>\n",
       "      <td>2025-06-22</td>\n",
       "      <td>Travelers Championship</td>\n",
       "    </tr>\n",
       "    <tr>\n",
       "      <th>6</th>\n",
       "      <td>Stewart Cink</td>\n",
       "      <td>1</td>\n",
       "      <td>17.0</td>\n",
       "      <td>24.53</td>\n",
       "      <td>2025-06-22</td>\n",
       "      <td>Travelers Championship</td>\n",
       "    </tr>\n",
       "    <tr>\n",
       "      <th>7</th>\n",
       "      <td>Rory McIlroy</td>\n",
       "      <td>10</td>\n",
       "      <td>20.3</td>\n",
       "      <td>8.47</td>\n",
       "      <td>2025-06-22</td>\n",
       "      <td>Travelers Championship</td>\n",
       "    </tr>\n",
       "    <tr>\n",
       "      <th>8</th>\n",
       "      <td>Ren Yonezawa</td>\n",
       "      <td>1</td>\n",
       "      <td>22.0</td>\n",
       "      <td>31.74</td>\n",
       "      <td>2025-06-22</td>\n",
       "      <td>Travelers Championship</td>\n",
       "    </tr>\n",
       "    <tr>\n",
       "      <th>9</th>\n",
       "      <td>Yuto Katsuragawa</td>\n",
       "      <td>1</td>\n",
       "      <td>22.0</td>\n",
       "      <td>31.74</td>\n",
       "      <td>2025-06-22</td>\n",
       "      <td>Travelers Championship</td>\n",
       "    </tr>\n",
       "  </tbody>\n",
       "</table>\n",
       "</div>"
      ],
      "text/plain": [
       "              PLAYER  TOTAL_EVENTS_PLAYED  RECENT_FORM  adj_form ENDING_DATE  \\\n",
       "0       Carlos Ortiz                    1          4.0      5.77  2025-06-22   \n",
       "1  Scottie Scheffler                   14          6.9      2.55  2025-06-22   \n",
       "2           Jon Rahm                    3          9.7      7.00  2025-06-22   \n",
       "3       Bubba Watson                    1         14.0     20.20  2025-06-22   \n",
       "4       Ian Gilligan                    1         16.0     23.08  2025-06-22   \n",
       "5     Taisei Shimizu                    1         16.0     23.08  2025-06-22   \n",
       "6       Stewart Cink                    1         17.0     24.53  2025-06-22   \n",
       "7       Rory McIlroy                   10         20.3      8.47  2025-06-22   \n",
       "8       Ren Yonezawa                    1         22.0     31.74  2025-06-22   \n",
       "9   Yuto Katsuragawa                    1         22.0     31.74  2025-06-22   \n",
       "\n",
       "               TOURNAMENT  \n",
       "0  Travelers Championship  \n",
       "1  Travelers Championship  \n",
       "2  Travelers Championship  \n",
       "3  Travelers Championship  \n",
       "4  Travelers Championship  \n",
       "5  Travelers Championship  \n",
       "6  Travelers Championship  \n",
       "7  Travelers Championship  \n",
       "8  Travelers Championship  \n",
       "9  Travelers Championship  "
      ]
     },
     "execution_count": 17,
     "metadata": {},
     "output_type": "execute_result"
    }
   ],
   "source": [
    "importlib.reload(utils.db_utils)\n",
    "from utils.db_utils import get_recent_avg_finish\n",
    "\n",
    "recent_form = get_recent_avg_finish(db_path, this_week_history, window_months=9)\n",
    "recent_form_current = recent_form[this_week_key].copy()\n",
    "\n",
    "recent_form_current.head(10)"
   ]
  },
  {
   "cell_type": "markdown",
   "id": "6386214b",
   "metadata": {},
   "source": [
    "## Course History"
   ]
  },
  {
   "cell_type": "code",
   "execution_count": 18,
   "id": "c1c0ec95",
   "metadata": {},
   "outputs": [
    {
     "data": {
      "text/html": [
       "<div>\n",
       "<style scoped>\n",
       "    .dataframe tbody tr th:only-of-type {\n",
       "        vertical-align: middle;\n",
       "    }\n",
       "\n",
       "    .dataframe tbody tr th {\n",
       "        vertical-align: top;\n",
       "    }\n",
       "\n",
       "    .dataframe thead th {\n",
       "        text-align: right;\n",
       "    }\n",
       "</style>\n",
       "<table border=\"1\" class=\"dataframe\">\n",
       "  <thead>\n",
       "    <tr style=\"text-align: right;\">\n",
       "      <th></th>\n",
       "      <th>PLAYER</th>\n",
       "      <th>TOTAL_EVENTS_PLAYED</th>\n",
       "      <th>COURSE_HISTORY</th>\n",
       "      <th>adj_ch</th>\n",
       "      <th>ENDING_DATE</th>\n",
       "      <th>COURSE</th>\n",
       "      <th>TOURNAMENT</th>\n",
       "    </tr>\n",
       "  </thead>\n",
       "  <tbody>\n",
       "    <tr>\n",
       "      <th>0</th>\n",
       "      <td>Aaron Baddeley</td>\n",
       "      <td>3</td>\n",
       "      <td>90.0</td>\n",
       "      <td>64.92</td>\n",
       "      <td>2025-06-22</td>\n",
       "      <td>TPC River Highlands</td>\n",
       "      <td>Travelers Championship</td>\n",
       "    </tr>\n",
       "    <tr>\n",
       "      <th>1</th>\n",
       "      <td>Aaron Rai</td>\n",
       "      <td>2</td>\n",
       "      <td>32.0</td>\n",
       "      <td>29.13</td>\n",
       "      <td>2025-06-22</td>\n",
       "      <td>TPC River Highlands</td>\n",
       "      <td>Travelers Championship</td>\n",
       "    </tr>\n",
       "    <tr>\n",
       "      <th>2</th>\n",
       "      <td>Aaron Wise</td>\n",
       "      <td>3</td>\n",
       "      <td>67.3</td>\n",
       "      <td>48.55</td>\n",
       "      <td>2025-06-22</td>\n",
       "      <td>TPC River Highlands</td>\n",
       "      <td>Travelers Championship</td>\n",
       "    </tr>\n",
       "    <tr>\n",
       "      <th>3</th>\n",
       "      <td>Abraham Ancer</td>\n",
       "      <td>4</td>\n",
       "      <td>28.3</td>\n",
       "      <td>17.58</td>\n",
       "      <td>2025-06-22</td>\n",
       "      <td>TPC River Highlands</td>\n",
       "      <td>Travelers Championship</td>\n",
       "    </tr>\n",
       "    <tr>\n",
       "      <th>4</th>\n",
       "      <td>Adam D'Amario</td>\n",
       "      <td>2</td>\n",
       "      <td>90.0</td>\n",
       "      <td>81.92</td>\n",
       "      <td>2025-06-22</td>\n",
       "      <td>TPC River Highlands</td>\n",
       "      <td>Travelers Championship</td>\n",
       "    </tr>\n",
       "    <tr>\n",
       "      <th>5</th>\n",
       "      <td>Adam Hadwin</td>\n",
       "      <td>4</td>\n",
       "      <td>62.3</td>\n",
       "      <td>38.71</td>\n",
       "      <td>2025-06-22</td>\n",
       "      <td>TPC River Highlands</td>\n",
       "      <td>Travelers Championship</td>\n",
       "    </tr>\n",
       "    <tr>\n",
       "      <th>6</th>\n",
       "      <td>Adam Long</td>\n",
       "      <td>5</td>\n",
       "      <td>50.0</td>\n",
       "      <td>27.91</td>\n",
       "      <td>2025-06-22</td>\n",
       "      <td>TPC River Highlands</td>\n",
       "      <td>Travelers Championship</td>\n",
       "    </tr>\n",
       "    <tr>\n",
       "      <th>7</th>\n",
       "      <td>Adam Schenk</td>\n",
       "      <td>7</td>\n",
       "      <td>85.0</td>\n",
       "      <td>40.88</td>\n",
       "      <td>2025-06-22</td>\n",
       "      <td>TPC River Highlands</td>\n",
       "      <td>Travelers Championship</td>\n",
       "    </tr>\n",
       "    <tr>\n",
       "      <th>8</th>\n",
       "      <td>Adam Scott</td>\n",
       "      <td>3</td>\n",
       "      <td>23.7</td>\n",
       "      <td>17.10</td>\n",
       "      <td>2025-06-22</td>\n",
       "      <td>TPC River Highlands</td>\n",
       "      <td>Travelers Championship</td>\n",
       "    </tr>\n",
       "    <tr>\n",
       "      <th>9</th>\n",
       "      <td>Adam Svensson</td>\n",
       "      <td>4</td>\n",
       "      <td>55.3</td>\n",
       "      <td>34.36</td>\n",
       "      <td>2025-06-22</td>\n",
       "      <td>TPC River Highlands</td>\n",
       "      <td>Travelers Championship</td>\n",
       "    </tr>\n",
       "  </tbody>\n",
       "</table>\n",
       "</div>"
      ],
      "text/plain": [
       "           PLAYER  TOTAL_EVENTS_PLAYED  COURSE_HISTORY  adj_ch ENDING_DATE  \\\n",
       "0  Aaron Baddeley                    3            90.0   64.92  2025-06-22   \n",
       "1       Aaron Rai                    2            32.0   29.13  2025-06-22   \n",
       "2      Aaron Wise                    3            67.3   48.55  2025-06-22   \n",
       "3   Abraham Ancer                    4            28.3   17.58  2025-06-22   \n",
       "4   Adam D'Amario                    2            90.0   81.92  2025-06-22   \n",
       "5     Adam Hadwin                    4            62.3   38.71  2025-06-22   \n",
       "6       Adam Long                    5            50.0   27.91  2025-06-22   \n",
       "7     Adam Schenk                    7            85.0   40.88  2025-06-22   \n",
       "8      Adam Scott                    3            23.7   17.10  2025-06-22   \n",
       "9   Adam Svensson                    4            55.3   34.36  2025-06-22   \n",
       "\n",
       "                COURSE              TOURNAMENT  \n",
       "0  TPC River Highlands  Travelers Championship  \n",
       "1  TPC River Highlands  Travelers Championship  \n",
       "2  TPC River Highlands  Travelers Championship  \n",
       "3  TPC River Highlands  Travelers Championship  \n",
       "4  TPC River Highlands  Travelers Championship  \n",
       "5  TPC River Highlands  Travelers Championship  \n",
       "6  TPC River Highlands  Travelers Championship  \n",
       "7  TPC River Highlands  Travelers Championship  \n",
       "8  TPC River Highlands  Travelers Championship  \n",
       "9  TPC River Highlands  Travelers Championship  "
      ]
     },
     "execution_count": 18,
     "metadata": {},
     "output_type": "execute_result"
    }
   ],
   "source": [
    "importlib.reload(utils.db_utils)\n",
    "from utils.db_utils import get_course_history\n",
    "\n",
    "course_hist = get_course_history(db_path, this_week_history, lookback_years=7)\n",
    "course_hist_current = course_hist[this_week_key].copy()\n",
    "\n",
    "course_hist_current.head(10)\n"
   ]
  },
  {
   "cell_type": "markdown",
   "id": "cff50c6a",
   "metadata": {},
   "source": [
    "## Merged Dataframe"
   ]
  },
  {
   "cell_type": "code",
   "execution_count": 19,
   "id": "4ea0e7da",
   "metadata": {},
   "outputs": [
    {
     "data": {
      "text/html": [
       "<div>\n",
       "<style scoped>\n",
       "    .dataframe tbody tr th:only-of-type {\n",
       "        vertical-align: middle;\n",
       "    }\n",
       "\n",
       "    .dataframe tbody tr th {\n",
       "        vertical-align: top;\n",
       "    }\n",
       "\n",
       "    .dataframe thead th {\n",
       "        text-align: right;\n",
       "    }\n",
       "</style>\n",
       "<table border=\"1\" class=\"dataframe\">\n",
       "  <thead>\n",
       "    <tr style=\"text-align: right;\">\n",
       "      <th></th>\n",
       "      <th>PLAYER</th>\n",
       "      <th>SGTTG_RANK</th>\n",
       "      <th>SGTTG</th>\n",
       "      <th>SGOTT_RANK</th>\n",
       "      <th>SGOTT</th>\n",
       "      <th>SGAPR_RANK</th>\n",
       "      <th>SGAPR</th>\n",
       "      <th>SGATG_RANK</th>\n",
       "      <th>SGATG</th>\n",
       "      <th>SGP_RANK</th>\n",
       "      <th>SGP</th>\n",
       "      <th>BIRDIES_RANK</th>\n",
       "      <th>BIRDIES</th>\n",
       "      <th>PAR_3_RANK</th>\n",
       "      <th>PAR_3</th>\n",
       "      <th>PAR_4_RANK</th>\n",
       "      <th>PAR_4</th>\n",
       "      <th>PAR_5_RANK</th>\n",
       "      <th>PAR_5</th>\n",
       "      <th>TOTAL_DRIVING_RANK</th>\n",
       "      <th>TOTAL_DRIVING</th>\n",
       "      <th>DRIVING_DISTANCE_RANK</th>\n",
       "      <th>DRIVING_DISTANCE</th>\n",
       "      <th>DRIVING_ACCURACY_RANK</th>\n",
       "      <th>DRIVING_ACCURACY</th>\n",
       "      <th>GIR_RANK</th>\n",
       "      <th>GIR</th>\n",
       "      <th>SCRAMBLING_RANK</th>\n",
       "      <th>SCRAMBLING</th>\n",
       "      <th>OWGR_RANK</th>\n",
       "      <th>OWGR</th>\n",
       "      <th>SEASON</th>\n",
       "      <th>VEGAS_ODDS</th>\n",
       "      <th>CUT_PERCENTAGE</th>\n",
       "      <th>FEDEX_CUP_POINTS</th>\n",
       "      <th>form_density</th>\n",
       "      <th>CONSECUTIVE_CUTS</th>\n",
       "      <th>RECENT_FORM</th>\n",
       "      <th>adj_form</th>\n",
       "      <th>COURSE_HISTORY</th>\n",
       "      <th>adj_ch</th>\n",
       "      <th>SALARY</th>\n",
       "    </tr>\n",
       "  </thead>\n",
       "  <tbody>\n",
       "    <tr>\n",
       "      <th>0</th>\n",
       "      <td>Aaron Rai</td>\n",
       "      <td>22.0</td>\n",
       "      <td>0.815</td>\n",
       "      <td>25.0</td>\n",
       "      <td>0.401</td>\n",
       "      <td>31.0</td>\n",
       "      <td>0.414</td>\n",
       "      <td>97.0</td>\n",
       "      <td>0.001</td>\n",
       "      <td>125.0</td>\n",
       "      <td>-0.137</td>\n",
       "      <td>54.0</td>\n",
       "      <td>22.22%</td>\n",
       "      <td>174.0</td>\n",
       "      <td>3.20</td>\n",
       "      <td>12.0</td>\n",
       "      <td>3.98</td>\n",
       "      <td>30.0</td>\n",
       "      <td>4.55</td>\n",
       "      <td>79.0</td>\n",
       "      <td>170</td>\n",
       "      <td>169.0</td>\n",
       "      <td>286.9</td>\n",
       "      <td>1.0</td>\n",
       "      <td>73.55%</td>\n",
       "      <td>18.0</td>\n",
       "      <td>69.12%</td>\n",
       "      <td>123.0</td>\n",
       "      <td>57.79%</td>\n",
       "      <td>32.0</td>\n",
       "      <td>2.6753</td>\n",
       "      <td>2025.0</td>\n",
       "      <td>45.0</td>\n",
       "      <td>75.0</td>\n",
       "      <td>605.730</td>\n",
       "      <td>37.86</td>\n",
       "      <td>1.0</td>\n",
       "      <td>39.7</td>\n",
       "      <td>14.01</td>\n",
       "      <td>32.0</td>\n",
       "      <td>29.13</td>\n",
       "      <td>7500</td>\n",
       "    </tr>\n",
       "    <tr>\n",
       "      <th>1</th>\n",
       "      <td>Adam Hadwin</td>\n",
       "      <td>150.0</td>\n",
       "      <td>-0.496</td>\n",
       "      <td>142.0</td>\n",
       "      <td>-0.252</td>\n",
       "      <td>153.0</td>\n",
       "      <td>-0.383</td>\n",
       "      <td>57.0</td>\n",
       "      <td>0.139</td>\n",
       "      <td>113.0</td>\n",
       "      <td>-0.066</td>\n",
       "      <td>48.0</td>\n",
       "      <td>22.33%</td>\n",
       "      <td>21.0</td>\n",
       "      <td>3.01</td>\n",
       "      <td>134.0</td>\n",
       "      <td>4.06</td>\n",
       "      <td>137.0</td>\n",
       "      <td>4.66</td>\n",
       "      <td>98.0</td>\n",
       "      <td>180</td>\n",
       "      <td>106.0</td>\n",
       "      <td>299.0</td>\n",
       "      <td>74.0</td>\n",
       "      <td>60.25%</td>\n",
       "      <td>139.0</td>\n",
       "      <td>63.29%</td>\n",
       "      <td>163.0</td>\n",
       "      <td>54.60%</td>\n",
       "      <td>103.0</td>\n",
       "      <td>1.2562</td>\n",
       "      <td>2025.0</td>\n",
       "      <td>500.0</td>\n",
       "      <td>64.7</td>\n",
       "      <td>203.569</td>\n",
       "      <td>11.97</td>\n",
       "      <td>2.0</td>\n",
       "      <td>61.1</td>\n",
       "      <td>21.14</td>\n",
       "      <td>62.3</td>\n",
       "      <td>38.71</td>\n",
       "      <td>6100</td>\n",
       "    </tr>\n",
       "    <tr>\n",
       "      <th>2</th>\n",
       "      <td>Adam Scott</td>\n",
       "      <td>56.0</td>\n",
       "      <td>0.402</td>\n",
       "      <td>34.0</td>\n",
       "      <td>0.319</td>\n",
       "      <td>112.0</td>\n",
       "      <td>-0.084</td>\n",
       "      <td>49.0</td>\n",
       "      <td>0.167</td>\n",
       "      <td>96.0</td>\n",
       "      <td>0.014</td>\n",
       "      <td>77.0</td>\n",
       "      <td>21.72%</td>\n",
       "      <td>154.0</td>\n",
       "      <td>3.13</td>\n",
       "      <td>134.0</td>\n",
       "      <td>4.06</td>\n",
       "      <td>41.0</td>\n",
       "      <td>4.57</td>\n",
       "      <td>122.0</td>\n",
       "      <td>199</td>\n",
       "      <td>83.0</td>\n",
       "      <td>302.0</td>\n",
       "      <td>116.0</td>\n",
       "      <td>56.98%</td>\n",
       "      <td>124.0</td>\n",
       "      <td>63.89%</td>\n",
       "      <td>139.0</td>\n",
       "      <td>56.64%</td>\n",
       "      <td>40.0</td>\n",
       "      <td>2.4827</td>\n",
       "      <td>2025.0</td>\n",
       "      <td>80.0</td>\n",
       "      <td>83.3</td>\n",
       "      <td>361.953</td>\n",
       "      <td>30.16</td>\n",
       "      <td>5.0</td>\n",
       "      <td>41.0</td>\n",
       "      <td>15.98</td>\n",
       "      <td>23.7</td>\n",
       "      <td>17.10</td>\n",
       "      <td>7600</td>\n",
       "    </tr>\n",
       "    <tr>\n",
       "      <th>3</th>\n",
       "      <td>Akshay Bhatia</td>\n",
       "      <td>77.0</td>\n",
       "      <td>0.213</td>\n",
       "      <td>105.0</td>\n",
       "      <td>0.003</td>\n",
       "      <td>25.0</td>\n",
       "      <td>0.456</td>\n",
       "      <td>150.0</td>\n",
       "      <td>-0.247</td>\n",
       "      <td>14.0</td>\n",
       "      <td>0.474</td>\n",
       "      <td>7.0</td>\n",
       "      <td>24.57%</td>\n",
       "      <td>5.0</td>\n",
       "      <td>2.98</td>\n",
       "      <td>44.0</td>\n",
       "      <td>4.01</td>\n",
       "      <td>157.0</td>\n",
       "      <td>4.70</td>\n",
       "      <td>136.0</td>\n",
       "      <td>211</td>\n",
       "      <td>154.0</td>\n",
       "      <td>293.6</td>\n",
       "      <td>57.0</td>\n",
       "      <td>61.40%</td>\n",
       "      <td>65.0</td>\n",
       "      <td>66.03%</td>\n",
       "      <td>160.0</td>\n",
       "      <td>55.03%</td>\n",
       "      <td>34.0</td>\n",
       "      <td>2.6269</td>\n",
       "      <td>2025.0</td>\n",
       "      <td>70.0</td>\n",
       "      <td>75.0</td>\n",
       "      <td>800.240</td>\n",
       "      <td>50.02</td>\n",
       "      <td>0.0</td>\n",
       "      <td>39.9</td>\n",
       "      <td>14.08</td>\n",
       "      <td>5.0</td>\n",
       "      <td>7.21</td>\n",
       "      <td>7400</td>\n",
       "    </tr>\n",
       "    <tr>\n",
       "      <th>4</th>\n",
       "      <td>Alex Noren</td>\n",
       "      <td>NaN</td>\n",
       "      <td>NaN</td>\n",
       "      <td>NaN</td>\n",
       "      <td>NaN</td>\n",
       "      <td>NaN</td>\n",
       "      <td>NaN</td>\n",
       "      <td>NaN</td>\n",
       "      <td>NaN</td>\n",
       "      <td>NaN</td>\n",
       "      <td>NaN</td>\n",
       "      <td>NaN</td>\n",
       "      <td>NaN</td>\n",
       "      <td>NaN</td>\n",
       "      <td>NaN</td>\n",
       "      <td>NaN</td>\n",
       "      <td>NaN</td>\n",
       "      <td>NaN</td>\n",
       "      <td>NaN</td>\n",
       "      <td>NaN</td>\n",
       "      <td>NaN</td>\n",
       "      <td>NaN</td>\n",
       "      <td>NaN</td>\n",
       "      <td>NaN</td>\n",
       "      <td>NaN</td>\n",
       "      <td>NaN</td>\n",
       "      <td>NaN</td>\n",
       "      <td>NaN</td>\n",
       "      <td>NaN</td>\n",
       "      <td>75.0</td>\n",
       "      <td>1.6465</td>\n",
       "      <td>2025.0</td>\n",
       "      <td>100.0</td>\n",
       "      <td>75.0</td>\n",
       "      <td>104.000</td>\n",
       "      <td>26.00</td>\n",
       "      <td>0.0</td>\n",
       "      <td>49.3</td>\n",
       "      <td>30.63</td>\n",
       "      <td>NaN</td>\n",
       "      <td>NaN</td>\n",
       "      <td>6500</td>\n",
       "    </tr>\n",
       "  </tbody>\n",
       "</table>\n",
       "</div>"
      ],
      "text/plain": [
       "          PLAYER  SGTTG_RANK   SGTTG  SGOTT_RANK   SGOTT  SGAPR_RANK   SGAPR  \\\n",
       "0      Aaron Rai        22.0   0.815        25.0   0.401        31.0   0.414   \n",
       "1    Adam Hadwin       150.0  -0.496       142.0  -0.252       153.0  -0.383   \n",
       "2     Adam Scott        56.0   0.402        34.0   0.319       112.0  -0.084   \n",
       "3  Akshay Bhatia        77.0   0.213       105.0   0.003        25.0   0.456   \n",
       "4     Alex Noren         NaN     NaN         NaN     NaN         NaN     NaN   \n",
       "\n",
       "   SGATG_RANK   SGATG  SGP_RANK     SGP  BIRDIES_RANK BIRDIES  PAR_3_RANK  \\\n",
       "0        97.0   0.001     125.0  -0.137          54.0  22.22%       174.0   \n",
       "1        57.0   0.139     113.0  -0.066          48.0  22.33%        21.0   \n",
       "2        49.0   0.167      96.0   0.014          77.0  21.72%       154.0   \n",
       "3       150.0  -0.247      14.0   0.474           7.0  24.57%         5.0   \n",
       "4         NaN     NaN       NaN     NaN           NaN     NaN         NaN   \n",
       "\n",
       "  PAR_3  PAR_4_RANK PAR_4  PAR_5_RANK PAR_5  TOTAL_DRIVING_RANK TOTAL_DRIVING  \\\n",
       "0  3.20        12.0  3.98        30.0  4.55                79.0           170   \n",
       "1  3.01       134.0  4.06       137.0  4.66                98.0           180   \n",
       "2  3.13       134.0  4.06        41.0  4.57               122.0           199   \n",
       "3  2.98        44.0  4.01       157.0  4.70               136.0           211   \n",
       "4   NaN         NaN   NaN         NaN   NaN                 NaN           NaN   \n",
       "\n",
       "   DRIVING_DISTANCE_RANK DRIVING_DISTANCE  DRIVING_ACCURACY_RANK  \\\n",
       "0                  169.0            286.9                    1.0   \n",
       "1                  106.0            299.0                   74.0   \n",
       "2                   83.0            302.0                  116.0   \n",
       "3                  154.0            293.6                   57.0   \n",
       "4                    NaN              NaN                    NaN   \n",
       "\n",
       "  DRIVING_ACCURACY  GIR_RANK     GIR  SCRAMBLING_RANK SCRAMBLING  OWGR_RANK  \\\n",
       "0           73.55%      18.0  69.12%            123.0     57.79%       32.0   \n",
       "1           60.25%     139.0  63.29%            163.0     54.60%      103.0   \n",
       "2           56.98%     124.0  63.89%            139.0     56.64%       40.0   \n",
       "3           61.40%      65.0  66.03%            160.0     55.03%       34.0   \n",
       "4              NaN       NaN     NaN              NaN        NaN       75.0   \n",
       "\n",
       "     OWGR  SEASON  VEGAS_ODDS  CUT_PERCENTAGE  FEDEX_CUP_POINTS  form_density  \\\n",
       "0  2.6753  2025.0        45.0            75.0           605.730         37.86   \n",
       "1  1.2562  2025.0       500.0            64.7           203.569         11.97   \n",
       "2  2.4827  2025.0        80.0            83.3           361.953         30.16   \n",
       "3  2.6269  2025.0        70.0            75.0           800.240         50.02   \n",
       "4  1.6465  2025.0       100.0            75.0           104.000         26.00   \n",
       "\n",
       "   CONSECUTIVE_CUTS  RECENT_FORM  adj_form  COURSE_HISTORY  adj_ch  SALARY  \n",
       "0               1.0         39.7     14.01            32.0   29.13    7500  \n",
       "1               2.0         61.1     21.14            62.3   38.71    6100  \n",
       "2               5.0         41.0     15.98            23.7   17.10    7600  \n",
       "3               0.0         39.9     14.08             5.0    7.21    7400  \n",
       "4               0.0         49.3     30.63             NaN     NaN    6500  "
      ]
     },
     "execution_count": 19,
     "metadata": {},
     "output_type": "execute_result"
    }
   ],
   "source": [
    "importlib.reload(utils.db_utils)\n",
    "from utils.db_utils import build_test_rows\n",
    "\n",
    "this_week = build_test_rows(\n",
    "    db_path=db_path,\n",
    "    stats_df=stats_df,\n",
    "    odds_df=odds_current,\n",
    "    cuts_df=cuts_current,\n",
    "    recent_form_df=recent_form_current,\n",
    "    course_hist_df=course_hist_current,\n",
    "    dk_df=dk,\n",
    "    season=tournament_config[\"new\"][\"season\"]\n",
    ")\n",
    "\n",
    "this_week.head()"
   ]
  },
  {
   "cell_type": "markdown",
   "id": "e30b6643",
   "metadata": {},
   "source": [
    "### Dataframe Normalization\n",
    "\n",
    "Run the same normalization techniques that I ran on the historical data:\n",
    "- Any NaN Odds go to 1000/1 and clip all values at 1000/1\n",
    "- OWGR NaN values go to 1000\n",
    "- Recent form NaN values act like a MC at 90\n",
    "- Average everything else."
   ]
  },
  {
   "cell_type": "code",
   "execution_count": 21,
   "id": "cfea9168",
   "metadata": {},
   "outputs": [],
   "source": [
    "# === 1. Clean percentage stats stored as strings like '62.5%' ===\n",
    "percent_stats = [\"SCRAMBLING\", \"DRIVING_ACCURACY\", \"BIRDIES\", \"GIR\"]\n",
    "\n",
    "for col in percent_stats:\n",
    "    if col in this_week.columns:\n",
    "        this_week[col] = (\n",
    "            this_week[col]\n",
    "            .astype(str)\n",
    "            .str.replace('%', '', regex=False)\n",
    "            .replace(['None', 'nan', 'NaN', '--', 'DNP', ''], np.nan)\n",
    "        )\n",
    "        this_week[col] = pd.to_numeric(this_week[col], errors=\"coerce\")\n",
    "\n",
    "# === 2. Normalize & assign fallback values for key fields ===\n",
    "this_week[\"VEGAS_ODDS\"] = pd.to_numeric(this_week[\"VEGAS_ODDS\"], errors=\"coerce\").fillna(1000).clip(upper=1000)\n",
    "\n",
    "if \"OWGR\" in this_week.columns:\n",
    "    this_week[\"OWGR\"] = pd.to_numeric(this_week[\"OWGR\"], errors=\"coerce\")\n",
    "    max_owgr = this_week[\"OWGR\"].dropna().max()\n",
    "    this_week[\"OWGR\"] = this_week[\"OWGR\"].fillna(max_owgr).clip(upper=1000)\n",
    "\n",
    "if \"OWGR_RANK\" in this_week.columns:\n",
    "    this_week[\"OWGR_RANK\"] = pd.to_numeric(this_week[\"OWGR_RANK\"], errors=\"coerce\").fillna(1000).clip(upper=1000)\n",
    "\n",
    "this_week[\"RECENT_FORM\"] = pd.to_numeric(this_week[\"RECENT_FORM\"], errors=\"coerce\").fillna(90)\n",
    "this_week[\"FEDEX_CUP_POINTS\"] = pd.to_numeric(this_week[\"FEDEX_CUP_POINTS\"], errors=\"coerce\").fillna(0)\n",
    "\n",
    "if \"COURSE_HISTORY\" in this_week.columns:\n",
    "    this_week[\"COURSE_HISTORY\"] = pd.to_numeric(this_week[\"COURSE_HISTORY\"], errors=\"coerce\")\n",
    "    ch_mean = this_week[\"COURSE_HISTORY\"].mean()\n",
    "    this_week[\"COURSE_HISTORY\"] = this_week[\"COURSE_HISTORY\"].fillna(ch_mean)\n",
    "\n",
    "# === 3. Fill all remaining NaNs in numeric columns ===\n",
    "# Recast everything that might look numeric to be sure\n",
    "for col in this_week.columns:\n",
    "    if col not in [\"PLAYER\", \"SALARY\", \"TOURNAMENT\", \"SEASON\"]:\n",
    "        try:\n",
    "            this_week[col] = pd.to_numeric(this_week[col], errors=\"coerce\")\n",
    "        except Exception:\n",
    "            continue\n",
    "\n",
    "numeric_cols = this_week.select_dtypes(include=[\"number\"]).columns.tolist()\n",
    "\n",
    "for col in numeric_cols:\n",
    "    if this_week[col].isna().any():\n",
    "        col_mean = this_week[col].mean()\n",
    "        this_week[col] = this_week[col].fillna(col_mean if not np.isnan(col_mean) else 0)\n"
   ]
  },
  {
   "cell_type": "code",
   "execution_count": 22,
   "id": "4b122fc3",
   "metadata": {},
   "outputs": [],
   "source": [
    "# === Final Check: No NaNs Should Remain ===\n",
    "assert this_week.isna().sum().sum() == 0, \"🚨 Still missing values in prediction set!\""
   ]
  },
  {
   "cell_type": "code",
   "execution_count": 23,
   "id": "b75f2cff",
   "metadata": {},
   "outputs": [
    {
     "name": "stdout",
     "output_type": "stream",
     "text": [
      "🧹 Columns still containing NaN values:\n"
     ]
    },
    {
     "data": {
      "text/plain": [
       "Series([], dtype: int64)"
      ]
     },
     "metadata": {},
     "output_type": "display_data"
    }
   ],
   "source": [
    "# === Check for Remaining Missing Values ===\n",
    "missing_summary = this_week.isna().sum()\n",
    "missing_summary = missing_summary[missing_summary > 0].sort_values(ascending=False)\n",
    "\n",
    "print(\"🧹 Columns still containing NaN values:\")\n",
    "display(missing_summary)"
   ]
  },
  {
   "cell_type": "code",
   "execution_count": 24,
   "id": "cc925bbf",
   "metadata": {},
   "outputs": [
    {
     "data": {
      "text/html": [
       "<div>\n",
       "<style scoped>\n",
       "    .dataframe tbody tr th:only-of-type {\n",
       "        vertical-align: middle;\n",
       "    }\n",
       "\n",
       "    .dataframe tbody tr th {\n",
       "        vertical-align: top;\n",
       "    }\n",
       "\n",
       "    .dataframe thead th {\n",
       "        text-align: right;\n",
       "    }\n",
       "</style>\n",
       "<table border=\"1\" class=\"dataframe\">\n",
       "  <thead>\n",
       "    <tr style=\"text-align: right;\">\n",
       "      <th></th>\n",
       "      <th>PLAYER</th>\n",
       "      <th>SGTTG_RANK</th>\n",
       "      <th>SGTTG</th>\n",
       "      <th>SGOTT_RANK</th>\n",
       "      <th>SGOTT</th>\n",
       "      <th>SGAPR_RANK</th>\n",
       "      <th>SGAPR</th>\n",
       "      <th>SGATG_RANK</th>\n",
       "      <th>SGATG</th>\n",
       "      <th>SGP_RANK</th>\n",
       "      <th>SGP</th>\n",
       "      <th>BIRDIES_RANK</th>\n",
       "      <th>BIRDIES</th>\n",
       "      <th>PAR_3_RANK</th>\n",
       "      <th>PAR_3</th>\n",
       "      <th>PAR_4_RANK</th>\n",
       "      <th>PAR_4</th>\n",
       "      <th>PAR_5_RANK</th>\n",
       "      <th>PAR_5</th>\n",
       "      <th>TOTAL_DRIVING_RANK</th>\n",
       "      <th>TOTAL_DRIVING</th>\n",
       "      <th>DRIVING_DISTANCE_RANK</th>\n",
       "      <th>DRIVING_DISTANCE</th>\n",
       "      <th>DRIVING_ACCURACY_RANK</th>\n",
       "      <th>DRIVING_ACCURACY</th>\n",
       "      <th>GIR_RANK</th>\n",
       "      <th>GIR</th>\n",
       "      <th>SCRAMBLING_RANK</th>\n",
       "      <th>SCRAMBLING</th>\n",
       "      <th>OWGR_RANK</th>\n",
       "      <th>OWGR</th>\n",
       "      <th>SEASON</th>\n",
       "      <th>VEGAS_ODDS</th>\n",
       "      <th>CUT_PERCENTAGE</th>\n",
       "      <th>FEDEX_CUP_POINTS</th>\n",
       "      <th>form_density</th>\n",
       "      <th>CONSECUTIVE_CUTS</th>\n",
       "      <th>RECENT_FORM</th>\n",
       "      <th>adj_form</th>\n",
       "      <th>COURSE_HISTORY</th>\n",
       "      <th>adj_ch</th>\n",
       "      <th>SALARY</th>\n",
       "    </tr>\n",
       "  </thead>\n",
       "  <tbody>\n",
       "    <tr>\n",
       "      <th>0</th>\n",
       "      <td>Aaron Rai</td>\n",
       "      <td>22.000000</td>\n",
       "      <td>0.815000</td>\n",
       "      <td>25.000000</td>\n",
       "      <td>0.401000</td>\n",
       "      <td>31.000000</td>\n",
       "      <td>0.41400</td>\n",
       "      <td>97.000000</td>\n",
       "      <td>0.001000</td>\n",
       "      <td>125.000000</td>\n",
       "      <td>-0.137000</td>\n",
       "      <td>54.000000</td>\n",
       "      <td>22.220000</td>\n",
       "      <td>174.000000</td>\n",
       "      <td>3.200000</td>\n",
       "      <td>12.000000</td>\n",
       "      <td>3.980000</td>\n",
       "      <td>30.000000</td>\n",
       "      <td>4.550000</td>\n",
       "      <td>79.000000</td>\n",
       "      <td>170.000000</td>\n",
       "      <td>169.000000</td>\n",
       "      <td>286.900000</td>\n",
       "      <td>1.000000</td>\n",
       "      <td>73.550000</td>\n",
       "      <td>18.00000</td>\n",
       "      <td>69.120000</td>\n",
       "      <td>123.00000</td>\n",
       "      <td>57.790000</td>\n",
       "      <td>32.0</td>\n",
       "      <td>2.6753</td>\n",
       "      <td>2025.0</td>\n",
       "      <td>45.0</td>\n",
       "      <td>75.0</td>\n",
       "      <td>605.730</td>\n",
       "      <td>37.86</td>\n",
       "      <td>1.0</td>\n",
       "      <td>39.7</td>\n",
       "      <td>14.01</td>\n",
       "      <td>32.000000</td>\n",
       "      <td>29.130000</td>\n",
       "      <td>7500</td>\n",
       "    </tr>\n",
       "    <tr>\n",
       "      <th>1</th>\n",
       "      <td>Adam Hadwin</td>\n",
       "      <td>150.000000</td>\n",
       "      <td>-0.496000</td>\n",
       "      <td>142.000000</td>\n",
       "      <td>-0.252000</td>\n",
       "      <td>153.000000</td>\n",
       "      <td>-0.38300</td>\n",
       "      <td>57.000000</td>\n",
       "      <td>0.139000</td>\n",
       "      <td>113.000000</td>\n",
       "      <td>-0.066000</td>\n",
       "      <td>48.000000</td>\n",
       "      <td>22.330000</td>\n",
       "      <td>21.000000</td>\n",
       "      <td>3.010000</td>\n",
       "      <td>134.000000</td>\n",
       "      <td>4.060000</td>\n",
       "      <td>137.000000</td>\n",
       "      <td>4.660000</td>\n",
       "      <td>98.000000</td>\n",
       "      <td>180.000000</td>\n",
       "      <td>106.000000</td>\n",
       "      <td>299.000000</td>\n",
       "      <td>74.000000</td>\n",
       "      <td>60.250000</td>\n",
       "      <td>139.00000</td>\n",
       "      <td>63.290000</td>\n",
       "      <td>163.00000</td>\n",
       "      <td>54.600000</td>\n",
       "      <td>103.0</td>\n",
       "      <td>1.2562</td>\n",
       "      <td>2025.0</td>\n",
       "      <td>500.0</td>\n",
       "      <td>64.7</td>\n",
       "      <td>203.569</td>\n",
       "      <td>11.97</td>\n",
       "      <td>2.0</td>\n",
       "      <td>61.1</td>\n",
       "      <td>21.14</td>\n",
       "      <td>62.300000</td>\n",
       "      <td>38.710000</td>\n",
       "      <td>6100</td>\n",
       "    </tr>\n",
       "    <tr>\n",
       "      <th>2</th>\n",
       "      <td>Adam Scott</td>\n",
       "      <td>56.000000</td>\n",
       "      <td>0.402000</td>\n",
       "      <td>34.000000</td>\n",
       "      <td>0.319000</td>\n",
       "      <td>112.000000</td>\n",
       "      <td>-0.08400</td>\n",
       "      <td>49.000000</td>\n",
       "      <td>0.167000</td>\n",
       "      <td>96.000000</td>\n",
       "      <td>0.014000</td>\n",
       "      <td>77.000000</td>\n",
       "      <td>21.720000</td>\n",
       "      <td>154.000000</td>\n",
       "      <td>3.130000</td>\n",
       "      <td>134.000000</td>\n",
       "      <td>4.060000</td>\n",
       "      <td>41.000000</td>\n",
       "      <td>4.570000</td>\n",
       "      <td>122.000000</td>\n",
       "      <td>199.000000</td>\n",
       "      <td>83.000000</td>\n",
       "      <td>302.000000</td>\n",
       "      <td>116.000000</td>\n",
       "      <td>56.980000</td>\n",
       "      <td>124.00000</td>\n",
       "      <td>63.890000</td>\n",
       "      <td>139.00000</td>\n",
       "      <td>56.640000</td>\n",
       "      <td>40.0</td>\n",
       "      <td>2.4827</td>\n",
       "      <td>2025.0</td>\n",
       "      <td>80.0</td>\n",
       "      <td>83.3</td>\n",
       "      <td>361.953</td>\n",
       "      <td>30.16</td>\n",
       "      <td>5.0</td>\n",
       "      <td>41.0</td>\n",
       "      <td>15.98</td>\n",
       "      <td>23.700000</td>\n",
       "      <td>17.100000</td>\n",
       "      <td>7600</td>\n",
       "    </tr>\n",
       "    <tr>\n",
       "      <th>3</th>\n",
       "      <td>Akshay Bhatia</td>\n",
       "      <td>77.000000</td>\n",
       "      <td>0.213000</td>\n",
       "      <td>105.000000</td>\n",
       "      <td>0.003000</td>\n",
       "      <td>25.000000</td>\n",
       "      <td>0.45600</td>\n",
       "      <td>150.000000</td>\n",
       "      <td>-0.247000</td>\n",
       "      <td>14.000000</td>\n",
       "      <td>0.474000</td>\n",
       "      <td>7.000000</td>\n",
       "      <td>24.570000</td>\n",
       "      <td>5.000000</td>\n",
       "      <td>2.980000</td>\n",
       "      <td>44.000000</td>\n",
       "      <td>4.010000</td>\n",
       "      <td>157.000000</td>\n",
       "      <td>4.700000</td>\n",
       "      <td>136.000000</td>\n",
       "      <td>211.000000</td>\n",
       "      <td>154.000000</td>\n",
       "      <td>293.600000</td>\n",
       "      <td>57.000000</td>\n",
       "      <td>61.400000</td>\n",
       "      <td>65.00000</td>\n",
       "      <td>66.030000</td>\n",
       "      <td>160.00000</td>\n",
       "      <td>55.030000</td>\n",
       "      <td>34.0</td>\n",
       "      <td>2.6269</td>\n",
       "      <td>2025.0</td>\n",
       "      <td>70.0</td>\n",
       "      <td>75.0</td>\n",
       "      <td>800.240</td>\n",
       "      <td>50.02</td>\n",
       "      <td>0.0</td>\n",
       "      <td>39.9</td>\n",
       "      <td>14.08</td>\n",
       "      <td>5.000000</td>\n",
       "      <td>7.210000</td>\n",
       "      <td>7400</td>\n",
       "    </tr>\n",
       "    <tr>\n",
       "      <th>4</th>\n",
       "      <td>Alex Noren</td>\n",
       "      <td>64.246377</td>\n",
       "      <td>0.378493</td>\n",
       "      <td>78.130435</td>\n",
       "      <td>0.098913</td>\n",
       "      <td>69.855072</td>\n",
       "      <td>0.19042</td>\n",
       "      <td>71.869565</td>\n",
       "      <td>0.089319</td>\n",
       "      <td>71.101449</td>\n",
       "      <td>0.142145</td>\n",
       "      <td>71.275362</td>\n",
       "      <td>22.080725</td>\n",
       "      <td>86.318841</td>\n",
       "      <td>3.066377</td>\n",
       "      <td>72.072464</td>\n",
       "      <td>4.023043</td>\n",
       "      <td>87.869565</td>\n",
       "      <td>4.614928</td>\n",
       "      <td>86.202899</td>\n",
       "      <td>175.536232</td>\n",
       "      <td>94.623188</td>\n",
       "      <td>300.485507</td>\n",
       "      <td>80.913043</td>\n",
       "      <td>60.098261</td>\n",
       "      <td>91.15942</td>\n",
       "      <td>65.284783</td>\n",
       "      <td>96.15942</td>\n",
       "      <td>59.245217</td>\n",
       "      <td>75.0</td>\n",
       "      <td>1.6465</td>\n",
       "      <td>2025.0</td>\n",
       "      <td>100.0</td>\n",
       "      <td>75.0</td>\n",
       "      <td>104.000</td>\n",
       "      <td>26.00</td>\n",
       "      <td>0.0</td>\n",
       "      <td>49.3</td>\n",
       "      <td>30.63</td>\n",
       "      <td>49.642623</td>\n",
       "      <td>35.744426</td>\n",
       "      <td>6500</td>\n",
       "    </tr>\n",
       "    <tr>\n",
       "      <th>5</th>\n",
       "      <td>Andrew Novak</td>\n",
       "      <td>49.000000</td>\n",
       "      <td>0.462000</td>\n",
       "      <td>71.000000</td>\n",
       "      <td>0.136000</td>\n",
       "      <td>77.000000</td>\n",
       "      <td>0.09100</td>\n",
       "      <td>31.000000</td>\n",
       "      <td>0.235000</td>\n",
       "      <td>60.000000</td>\n",
       "      <td>0.167000</td>\n",
       "      <td>117.000000</td>\n",
       "      <td>20.620000</td>\n",
       "      <td>164.000000</td>\n",
       "      <td>3.140000</td>\n",
       "      <td>103.000000</td>\n",
       "      <td>4.040000</td>\n",
       "      <td>60.000000</td>\n",
       "      <td>4.590000</td>\n",
       "      <td>151.000000</td>\n",
       "      <td>223.000000</td>\n",
       "      <td>105.000000</td>\n",
       "      <td>299.100000</td>\n",
       "      <td>118.000000</td>\n",
       "      <td>56.950000</td>\n",
       "      <td>166.00000</td>\n",
       "      <td>60.830000</td>\n",
       "      <td>54.00000</td>\n",
       "      <td>61.540000</td>\n",
       "      <td>35.0</td>\n",
       "      <td>2.5962</td>\n",
       "      <td>2025.0</td>\n",
       "      <td>100.0</td>\n",
       "      <td>62.5</td>\n",
       "      <td>1532.225</td>\n",
       "      <td>63.84</td>\n",
       "      <td>3.0</td>\n",
       "      <td>46.5</td>\n",
       "      <td>14.45</td>\n",
       "      <td>68.000000</td>\n",
       "      <td>61.900000</td>\n",
       "      <td>6700</td>\n",
       "    </tr>\n",
       "    <tr>\n",
       "      <th>6</th>\n",
       "      <td>Austin Eckroat</td>\n",
       "      <td>136.000000</td>\n",
       "      <td>-0.309000</td>\n",
       "      <td>55.000000</td>\n",
       "      <td>0.217000</td>\n",
       "      <td>114.000000</td>\n",
       "      <td>-0.09500</td>\n",
       "      <td>166.000000</td>\n",
       "      <td>-0.431000</td>\n",
       "      <td>119.000000</td>\n",
       "      <td>-0.121000</td>\n",
       "      <td>117.000000</td>\n",
       "      <td>20.620000</td>\n",
       "      <td>92.000000</td>\n",
       "      <td>3.070000</td>\n",
       "      <td>149.000000</td>\n",
       "      <td>4.070000</td>\n",
       "      <td>159.000000</td>\n",
       "      <td>4.710000</td>\n",
       "      <td>58.000000</td>\n",
       "      <td>159.000000</td>\n",
       "      <td>128.000000</td>\n",
       "      <td>297.400000</td>\n",
       "      <td>31.000000</td>\n",
       "      <td>63.970000</td>\n",
       "      <td>135.00000</td>\n",
       "      <td>63.460000</td>\n",
       "      <td>162.00000</td>\n",
       "      <td>54.680000</td>\n",
       "      <td>73.0</td>\n",
       "      <td>1.6916</td>\n",
       "      <td>2025.0</td>\n",
       "      <td>250.0</td>\n",
       "      <td>60.0</td>\n",
       "      <td>254.542</td>\n",
       "      <td>12.73</td>\n",
       "      <td>4.0</td>\n",
       "      <td>58.0</td>\n",
       "      <td>19.05</td>\n",
       "      <td>32.700000</td>\n",
       "      <td>23.590000</td>\n",
       "      <td>6100</td>\n",
       "    </tr>\n",
       "    <tr>\n",
       "      <th>7</th>\n",
       "      <td>Ben Griffin</td>\n",
       "      <td>25.000000</td>\n",
       "      <td>0.755000</td>\n",
       "      <td>53.000000</td>\n",
       "      <td>0.238000</td>\n",
       "      <td>37.000000</td>\n",
       "      <td>0.35400</td>\n",
       "      <td>50.000000</td>\n",
       "      <td>0.164000</td>\n",
       "      <td>41.000000</td>\n",
       "      <td>0.252000</td>\n",
       "      <td>53.000000</td>\n",
       "      <td>22.300000</td>\n",
       "      <td>29.000000</td>\n",
       "      <td>3.020000</td>\n",
       "      <td>44.000000</td>\n",
       "      <td>4.010000</td>\n",
       "      <td>41.000000</td>\n",
       "      <td>4.570000</td>\n",
       "      <td>64.000000</td>\n",
       "      <td>162.000000</td>\n",
       "      <td>67.000000</td>\n",
       "      <td>304.300000</td>\n",
       "      <td>95.000000</td>\n",
       "      <td>58.920000</td>\n",
       "      <td>30.00000</td>\n",
       "      <td>68.630000</td>\n",
       "      <td>105.00000</td>\n",
       "      <td>59.110000</td>\n",
       "      <td>15.0</td>\n",
       "      <td>3.9504</td>\n",
       "      <td>2025.0</td>\n",
       "      <td>55.0</td>\n",
       "      <td>80.8</td>\n",
       "      <td>1949.496</td>\n",
       "      <td>74.98</td>\n",
       "      <td>5.0</td>\n",
       "      <td>36.4</td>\n",
       "      <td>11.04</td>\n",
       "      <td>78.500000</td>\n",
       "      <td>71.450000</td>\n",
       "      <td>8100</td>\n",
       "    </tr>\n",
       "    <tr>\n",
       "      <th>8</th>\n",
       "      <td>Brian Campbell</td>\n",
       "      <td>143.000000</td>\n",
       "      <td>-0.416000</td>\n",
       "      <td>173.000000</td>\n",
       "      <td>-1.033000</td>\n",
       "      <td>43.000000</td>\n",
       "      <td>0.31600</td>\n",
       "      <td>19.000000</td>\n",
       "      <td>0.301000</td>\n",
       "      <td>73.000000</td>\n",
       "      <td>0.114000</td>\n",
       "      <td>102.000000</td>\n",
       "      <td>21.210000</td>\n",
       "      <td>51.000000</td>\n",
       "      <td>3.040000</td>\n",
       "      <td>160.000000</td>\n",
       "      <td>4.090000</td>\n",
       "      <td>137.000000</td>\n",
       "      <td>4.660000</td>\n",
       "      <td>121.000000</td>\n",
       "      <td>197.000000</td>\n",
       "      <td>176.000000</td>\n",
       "      <td>276.100000</td>\n",
       "      <td>21.000000</td>\n",
       "      <td>65.740000</td>\n",
       "      <td>152.00000</td>\n",
       "      <td>62.250000</td>\n",
       "      <td>144.00000</td>\n",
       "      <td>56.520000</td>\n",
       "      <td>111.0</td>\n",
       "      <td>1.1999</td>\n",
       "      <td>2025.0</td>\n",
       "      <td>600.0</td>\n",
       "      <td>43.8</td>\n",
       "      <td>603.535</td>\n",
       "      <td>37.72</td>\n",
       "      <td>0.0</td>\n",
       "      <td>66.4</td>\n",
       "      <td>23.44</td>\n",
       "      <td>49.642623</td>\n",
       "      <td>35.744426</td>\n",
       "      <td>6000</td>\n",
       "    </tr>\n",
       "    <tr>\n",
       "      <th>9</th>\n",
       "      <td>Brian Harman</td>\n",
       "      <td>89.000000</td>\n",
       "      <td>0.058000</td>\n",
       "      <td>121.000000</td>\n",
       "      <td>-0.054000</td>\n",
       "      <td>95.000000</td>\n",
       "      <td>0.01000</td>\n",
       "      <td>65.000000</td>\n",
       "      <td>0.102000</td>\n",
       "      <td>103.000000</td>\n",
       "      <td>-0.002000</td>\n",
       "      <td>135.000000</td>\n",
       "      <td>20.110000</td>\n",
       "      <td>117.000000</td>\n",
       "      <td>3.090000</td>\n",
       "      <td>103.000000</td>\n",
       "      <td>4.040000</td>\n",
       "      <td>120.000000</td>\n",
       "      <td>4.640000</td>\n",
       "      <td>125.000000</td>\n",
       "      <td>200.000000</td>\n",
       "      <td>159.000000</td>\n",
       "      <td>291.800000</td>\n",
       "      <td>41.000000</td>\n",
       "      <td>62.870000</td>\n",
       "      <td>79.00000</td>\n",
       "      <td>65.610000</td>\n",
       "      <td>111.00000</td>\n",
       "      <td>58.460000</td>\n",
       "      <td>28.0</td>\n",
       "      <td>2.7989</td>\n",
       "      <td>2025.0</td>\n",
       "      <td>80.0</td>\n",
       "      <td>84.2</td>\n",
       "      <td>1060.169</td>\n",
       "      <td>55.80</td>\n",
       "      <td>1.0</td>\n",
       "      <td>42.3</td>\n",
       "      <td>14.12</td>\n",
       "      <td>18.300000</td>\n",
       "      <td>8.800000</td>\n",
       "      <td>7200</td>\n",
       "    </tr>\n",
       "  </tbody>\n",
       "</table>\n",
       "</div>"
      ],
      "text/plain": [
       "           PLAYER  SGTTG_RANK     SGTTG  SGOTT_RANK     SGOTT  SGAPR_RANK  \\\n",
       "0       Aaron Rai   22.000000  0.815000   25.000000  0.401000   31.000000   \n",
       "1     Adam Hadwin  150.000000 -0.496000  142.000000 -0.252000  153.000000   \n",
       "2      Adam Scott   56.000000  0.402000   34.000000  0.319000  112.000000   \n",
       "3   Akshay Bhatia   77.000000  0.213000  105.000000  0.003000   25.000000   \n",
       "4      Alex Noren   64.246377  0.378493   78.130435  0.098913   69.855072   \n",
       "5    Andrew Novak   49.000000  0.462000   71.000000  0.136000   77.000000   \n",
       "6  Austin Eckroat  136.000000 -0.309000   55.000000  0.217000  114.000000   \n",
       "7     Ben Griffin   25.000000  0.755000   53.000000  0.238000   37.000000   \n",
       "8  Brian Campbell  143.000000 -0.416000  173.000000 -1.033000   43.000000   \n",
       "9    Brian Harman   89.000000  0.058000  121.000000 -0.054000   95.000000   \n",
       "\n",
       "     SGAPR  SGATG_RANK     SGATG    SGP_RANK       SGP  BIRDIES_RANK  \\\n",
       "0  0.41400   97.000000  0.001000  125.000000 -0.137000     54.000000   \n",
       "1 -0.38300   57.000000  0.139000  113.000000 -0.066000     48.000000   \n",
       "2 -0.08400   49.000000  0.167000   96.000000  0.014000     77.000000   \n",
       "3  0.45600  150.000000 -0.247000   14.000000  0.474000      7.000000   \n",
       "4  0.19042   71.869565  0.089319   71.101449  0.142145     71.275362   \n",
       "5  0.09100   31.000000  0.235000   60.000000  0.167000    117.000000   \n",
       "6 -0.09500  166.000000 -0.431000  119.000000 -0.121000    117.000000   \n",
       "7  0.35400   50.000000  0.164000   41.000000  0.252000     53.000000   \n",
       "8  0.31600   19.000000  0.301000   73.000000  0.114000    102.000000   \n",
       "9  0.01000   65.000000  0.102000  103.000000 -0.002000    135.000000   \n",
       "\n",
       "     BIRDIES  PAR_3_RANK     PAR_3  PAR_4_RANK     PAR_4  PAR_5_RANK  \\\n",
       "0  22.220000  174.000000  3.200000   12.000000  3.980000   30.000000   \n",
       "1  22.330000   21.000000  3.010000  134.000000  4.060000  137.000000   \n",
       "2  21.720000  154.000000  3.130000  134.000000  4.060000   41.000000   \n",
       "3  24.570000    5.000000  2.980000   44.000000  4.010000  157.000000   \n",
       "4  22.080725   86.318841  3.066377   72.072464  4.023043   87.869565   \n",
       "5  20.620000  164.000000  3.140000  103.000000  4.040000   60.000000   \n",
       "6  20.620000   92.000000  3.070000  149.000000  4.070000  159.000000   \n",
       "7  22.300000   29.000000  3.020000   44.000000  4.010000   41.000000   \n",
       "8  21.210000   51.000000  3.040000  160.000000  4.090000  137.000000   \n",
       "9  20.110000  117.000000  3.090000  103.000000  4.040000  120.000000   \n",
       "\n",
       "      PAR_5  TOTAL_DRIVING_RANK  TOTAL_DRIVING  DRIVING_DISTANCE_RANK  \\\n",
       "0  4.550000           79.000000     170.000000             169.000000   \n",
       "1  4.660000           98.000000     180.000000             106.000000   \n",
       "2  4.570000          122.000000     199.000000              83.000000   \n",
       "3  4.700000          136.000000     211.000000             154.000000   \n",
       "4  4.614928           86.202899     175.536232              94.623188   \n",
       "5  4.590000          151.000000     223.000000             105.000000   \n",
       "6  4.710000           58.000000     159.000000             128.000000   \n",
       "7  4.570000           64.000000     162.000000              67.000000   \n",
       "8  4.660000          121.000000     197.000000             176.000000   \n",
       "9  4.640000          125.000000     200.000000             159.000000   \n",
       "\n",
       "   DRIVING_DISTANCE  DRIVING_ACCURACY_RANK  DRIVING_ACCURACY   GIR_RANK  \\\n",
       "0        286.900000               1.000000         73.550000   18.00000   \n",
       "1        299.000000              74.000000         60.250000  139.00000   \n",
       "2        302.000000             116.000000         56.980000  124.00000   \n",
       "3        293.600000              57.000000         61.400000   65.00000   \n",
       "4        300.485507              80.913043         60.098261   91.15942   \n",
       "5        299.100000             118.000000         56.950000  166.00000   \n",
       "6        297.400000              31.000000         63.970000  135.00000   \n",
       "7        304.300000              95.000000         58.920000   30.00000   \n",
       "8        276.100000              21.000000         65.740000  152.00000   \n",
       "9        291.800000              41.000000         62.870000   79.00000   \n",
       "\n",
       "         GIR  SCRAMBLING_RANK  SCRAMBLING  OWGR_RANK    OWGR  SEASON  \\\n",
       "0  69.120000        123.00000   57.790000       32.0  2.6753  2025.0   \n",
       "1  63.290000        163.00000   54.600000      103.0  1.2562  2025.0   \n",
       "2  63.890000        139.00000   56.640000       40.0  2.4827  2025.0   \n",
       "3  66.030000        160.00000   55.030000       34.0  2.6269  2025.0   \n",
       "4  65.284783         96.15942   59.245217       75.0  1.6465  2025.0   \n",
       "5  60.830000         54.00000   61.540000       35.0  2.5962  2025.0   \n",
       "6  63.460000        162.00000   54.680000       73.0  1.6916  2025.0   \n",
       "7  68.630000        105.00000   59.110000       15.0  3.9504  2025.0   \n",
       "8  62.250000        144.00000   56.520000      111.0  1.1999  2025.0   \n",
       "9  65.610000        111.00000   58.460000       28.0  2.7989  2025.0   \n",
       "\n",
       "   VEGAS_ODDS  CUT_PERCENTAGE  FEDEX_CUP_POINTS  form_density  \\\n",
       "0        45.0            75.0           605.730         37.86   \n",
       "1       500.0            64.7           203.569         11.97   \n",
       "2        80.0            83.3           361.953         30.16   \n",
       "3        70.0            75.0           800.240         50.02   \n",
       "4       100.0            75.0           104.000         26.00   \n",
       "5       100.0            62.5          1532.225         63.84   \n",
       "6       250.0            60.0           254.542         12.73   \n",
       "7        55.0            80.8          1949.496         74.98   \n",
       "8       600.0            43.8           603.535         37.72   \n",
       "9        80.0            84.2          1060.169         55.80   \n",
       "\n",
       "   CONSECUTIVE_CUTS  RECENT_FORM  adj_form  COURSE_HISTORY     adj_ch  SALARY  \n",
       "0               1.0         39.7     14.01       32.000000  29.130000    7500  \n",
       "1               2.0         61.1     21.14       62.300000  38.710000    6100  \n",
       "2               5.0         41.0     15.98       23.700000  17.100000    7600  \n",
       "3               0.0         39.9     14.08        5.000000   7.210000    7400  \n",
       "4               0.0         49.3     30.63       49.642623  35.744426    6500  \n",
       "5               3.0         46.5     14.45       68.000000  61.900000    6700  \n",
       "6               4.0         58.0     19.05       32.700000  23.590000    6100  \n",
       "7               5.0         36.4     11.04       78.500000  71.450000    8100  \n",
       "8               0.0         66.4     23.44       49.642623  35.744426    6000  \n",
       "9               1.0         42.3     14.12       18.300000   8.800000    7200  "
      ]
     },
     "execution_count": 24,
     "metadata": {},
     "output_type": "execute_result"
    }
   ],
   "source": [
    "this_week.head(10)"
   ]
  },
  {
   "cell_type": "markdown",
   "id": "e37950e7",
   "metadata": {},
   "source": [
    "## Correlations\n",
    "**Last 4 Years**"
   ]
  },
  {
   "cell_type": "code",
   "execution_count": 25,
   "id": "d749a70f",
   "metadata": {},
   "outputs": [
    {
     "data": {
      "application/vnd.plotly.v1+json": {
       "config": {
        "plotlyServerURL": "https://plot.ly"
       },
       "data": [
        {
         "hovertemplate": "Feature=%{x}<br>Correlation=%{y}<extra></extra>",
         "legendgroup": "",
         "marker": {
          "color": "#636efa",
          "pattern": {
           "shape": ""
          }
         },
         "name": "",
         "orientation": "v",
         "showlegend": false,
         "textposition": "auto",
         "type": "bar",
         "x": [
          "OWGR",
          "RECENT_FORM",
          "PAR_5",
          "SGP_RANK",
          "PAR_5_RANK",
          "form_density",
          "SGP",
          "OWGR_RANK",
          "CUT_PERCENTAGE",
          "PAR_4",
          "SCRAMBLING",
          "BIRDIES",
          "FEDEX_CUP_POINTS",
          "PAR_3_RANK",
          "SGTTG",
          "PAR_4_RANK",
          "SGTTG_RANK",
          "VEGAS_ODDS",
          "SCRAMBLING_RANK",
          "PAR_3",
          "COURSE_HISTORY",
          "GIR_RANK",
          "BIRDIES_RANK",
          "GIR",
          "SGOTT",
          "SGATG",
          "adj_form",
          "adj_ch",
          "TOTAL_DRIVING_RANK",
          "SGATG_RANK",
          "SGAPR",
          "SGAPR_RANK",
          "CONSECUTIVE_CUTS",
          "SGOTT_RANK",
          "TOTAL_DRIVING",
          "DRIVING_ACCURACY",
          "DRIVING_ACCURACY_RANK",
          "DRIVING_DISTANCE",
          "DRIVING_DISTANCE_RANK"
         ],
         "xaxis": "x",
         "y": {
          "bdata": "pccd4DN11z/bzKeCdpbUP/PPd6UmR9M/m4fmZHnx0j+aI8xxFv7RP5RcDf3OhtE/s8NIKTFi0T95AG3lyVXRP5P0jCMGftA/Vi2zO3CVzj8//Fp2uRrOP95dJRjKps0/mpbP6LF+zT9Gu0jUvlLNP7ZgpV1dDM0/dkP5FBvmyz+L3gJaDYXLP8aW040ebss/cpdoKF5Eyj9sCky8gc3JP9aBFoQtq8k/I6F8Z8OhyT9lnKtsQgPJPwW+spe7tMc/oBQknHkwxz8+zvN8VI3DP9kJKQzdWsM/wvyHeoAIwz8e4rb+7YbCP0Wfz1QHNcE/6QNaUuTtwD9NsLwlT/2/P9RCM88J2b8/uMMgC/Qovz+k2i+uAVO8P9aW6KEeNrk/vtmg1pAbtj90j3f8B5efPyXz/f9ErUk/",
          "dtype": "f8"
         },
         "yaxis": "y"
        }
       ],
       "layout": {
        "barmode": "relative",
        "height": 500,
        "legend": {
         "tracegroupgap": 0
        },
        "template": {
         "data": {
          "bar": [
           {
            "error_x": {
             "color": "#f2f5fa"
            },
            "error_y": {
             "color": "#f2f5fa"
            },
            "marker": {
             "line": {
              "color": "rgb(17,17,17)",
              "width": 0.5
             },
             "pattern": {
              "fillmode": "overlay",
              "size": 10,
              "solidity": 0.2
             }
            },
            "type": "bar"
           }
          ],
          "barpolar": [
           {
            "marker": {
             "line": {
              "color": "rgb(17,17,17)",
              "width": 0.5
             },
             "pattern": {
              "fillmode": "overlay",
              "size": 10,
              "solidity": 0.2
             }
            },
            "type": "barpolar"
           }
          ],
          "carpet": [
           {
            "aaxis": {
             "endlinecolor": "#A2B1C6",
             "gridcolor": "#506784",
             "linecolor": "#506784",
             "minorgridcolor": "#506784",
             "startlinecolor": "#A2B1C6"
            },
            "baxis": {
             "endlinecolor": "#A2B1C6",
             "gridcolor": "#506784",
             "linecolor": "#506784",
             "minorgridcolor": "#506784",
             "startlinecolor": "#A2B1C6"
            },
            "type": "carpet"
           }
          ],
          "choropleth": [
           {
            "colorbar": {
             "outlinewidth": 0,
             "ticks": ""
            },
            "type": "choropleth"
           }
          ],
          "contour": [
           {
            "colorbar": {
             "outlinewidth": 0,
             "ticks": ""
            },
            "colorscale": [
             [
              0,
              "#0d0887"
             ],
             [
              0.1111111111111111,
              "#46039f"
             ],
             [
              0.2222222222222222,
              "#7201a8"
             ],
             [
              0.3333333333333333,
              "#9c179e"
             ],
             [
              0.4444444444444444,
              "#bd3786"
             ],
             [
              0.5555555555555556,
              "#d8576b"
             ],
             [
              0.6666666666666666,
              "#ed7953"
             ],
             [
              0.7777777777777778,
              "#fb9f3a"
             ],
             [
              0.8888888888888888,
              "#fdca26"
             ],
             [
              1,
              "#f0f921"
             ]
            ],
            "type": "contour"
           }
          ],
          "contourcarpet": [
           {
            "colorbar": {
             "outlinewidth": 0,
             "ticks": ""
            },
            "type": "contourcarpet"
           }
          ],
          "heatmap": [
           {
            "colorbar": {
             "outlinewidth": 0,
             "ticks": ""
            },
            "colorscale": [
             [
              0,
              "#0d0887"
             ],
             [
              0.1111111111111111,
              "#46039f"
             ],
             [
              0.2222222222222222,
              "#7201a8"
             ],
             [
              0.3333333333333333,
              "#9c179e"
             ],
             [
              0.4444444444444444,
              "#bd3786"
             ],
             [
              0.5555555555555556,
              "#d8576b"
             ],
             [
              0.6666666666666666,
              "#ed7953"
             ],
             [
              0.7777777777777778,
              "#fb9f3a"
             ],
             [
              0.8888888888888888,
              "#fdca26"
             ],
             [
              1,
              "#f0f921"
             ]
            ],
            "type": "heatmap"
           }
          ],
          "histogram": [
           {
            "marker": {
             "pattern": {
              "fillmode": "overlay",
              "size": 10,
              "solidity": 0.2
             }
            },
            "type": "histogram"
           }
          ],
          "histogram2d": [
           {
            "colorbar": {
             "outlinewidth": 0,
             "ticks": ""
            },
            "colorscale": [
             [
              0,
              "#0d0887"
             ],
             [
              0.1111111111111111,
              "#46039f"
             ],
             [
              0.2222222222222222,
              "#7201a8"
             ],
             [
              0.3333333333333333,
              "#9c179e"
             ],
             [
              0.4444444444444444,
              "#bd3786"
             ],
             [
              0.5555555555555556,
              "#d8576b"
             ],
             [
              0.6666666666666666,
              "#ed7953"
             ],
             [
              0.7777777777777778,
              "#fb9f3a"
             ],
             [
              0.8888888888888888,
              "#fdca26"
             ],
             [
              1,
              "#f0f921"
             ]
            ],
            "type": "histogram2d"
           }
          ],
          "histogram2dcontour": [
           {
            "colorbar": {
             "outlinewidth": 0,
             "ticks": ""
            },
            "colorscale": [
             [
              0,
              "#0d0887"
             ],
             [
              0.1111111111111111,
              "#46039f"
             ],
             [
              0.2222222222222222,
              "#7201a8"
             ],
             [
              0.3333333333333333,
              "#9c179e"
             ],
             [
              0.4444444444444444,
              "#bd3786"
             ],
             [
              0.5555555555555556,
              "#d8576b"
             ],
             [
              0.6666666666666666,
              "#ed7953"
             ],
             [
              0.7777777777777778,
              "#fb9f3a"
             ],
             [
              0.8888888888888888,
              "#fdca26"
             ],
             [
              1,
              "#f0f921"
             ]
            ],
            "type": "histogram2dcontour"
           }
          ],
          "mesh3d": [
           {
            "colorbar": {
             "outlinewidth": 0,
             "ticks": ""
            },
            "type": "mesh3d"
           }
          ],
          "parcoords": [
           {
            "line": {
             "colorbar": {
              "outlinewidth": 0,
              "ticks": ""
             }
            },
            "type": "parcoords"
           }
          ],
          "pie": [
           {
            "automargin": true,
            "type": "pie"
           }
          ],
          "scatter": [
           {
            "marker": {
             "line": {
              "color": "#283442"
             }
            },
            "type": "scatter"
           }
          ],
          "scatter3d": [
           {
            "line": {
             "colorbar": {
              "outlinewidth": 0,
              "ticks": ""
             }
            },
            "marker": {
             "colorbar": {
              "outlinewidth": 0,
              "ticks": ""
             }
            },
            "type": "scatter3d"
           }
          ],
          "scattercarpet": [
           {
            "marker": {
             "colorbar": {
              "outlinewidth": 0,
              "ticks": ""
             }
            },
            "type": "scattercarpet"
           }
          ],
          "scattergeo": [
           {
            "marker": {
             "colorbar": {
              "outlinewidth": 0,
              "ticks": ""
             }
            },
            "type": "scattergeo"
           }
          ],
          "scattergl": [
           {
            "marker": {
             "line": {
              "color": "#283442"
             }
            },
            "type": "scattergl"
           }
          ],
          "scattermap": [
           {
            "marker": {
             "colorbar": {
              "outlinewidth": 0,
              "ticks": ""
             }
            },
            "type": "scattermap"
           }
          ],
          "scattermapbox": [
           {
            "marker": {
             "colorbar": {
              "outlinewidth": 0,
              "ticks": ""
             }
            },
            "type": "scattermapbox"
           }
          ],
          "scatterpolar": [
           {
            "marker": {
             "colorbar": {
              "outlinewidth": 0,
              "ticks": ""
             }
            },
            "type": "scatterpolar"
           }
          ],
          "scatterpolargl": [
           {
            "marker": {
             "colorbar": {
              "outlinewidth": 0,
              "ticks": ""
             }
            },
            "type": "scatterpolargl"
           }
          ],
          "scatterternary": [
           {
            "marker": {
             "colorbar": {
              "outlinewidth": 0,
              "ticks": ""
             }
            },
            "type": "scatterternary"
           }
          ],
          "surface": [
           {
            "colorbar": {
             "outlinewidth": 0,
             "ticks": ""
            },
            "colorscale": [
             [
              0,
              "#0d0887"
             ],
             [
              0.1111111111111111,
              "#46039f"
             ],
             [
              0.2222222222222222,
              "#7201a8"
             ],
             [
              0.3333333333333333,
              "#9c179e"
             ],
             [
              0.4444444444444444,
              "#bd3786"
             ],
             [
              0.5555555555555556,
              "#d8576b"
             ],
             [
              0.6666666666666666,
              "#ed7953"
             ],
             [
              0.7777777777777778,
              "#fb9f3a"
             ],
             [
              0.8888888888888888,
              "#fdca26"
             ],
             [
              1,
              "#f0f921"
             ]
            ],
            "type": "surface"
           }
          ],
          "table": [
           {
            "cells": {
             "fill": {
              "color": "#506784"
             },
             "line": {
              "color": "rgb(17,17,17)"
             }
            },
            "header": {
             "fill": {
              "color": "#2a3f5f"
             },
             "line": {
              "color": "rgb(17,17,17)"
             }
            },
            "type": "table"
           }
          ]
         },
         "layout": {
          "annotationdefaults": {
           "arrowcolor": "#f2f5fa",
           "arrowhead": 0,
           "arrowwidth": 1
          },
          "autotypenumbers": "strict",
          "coloraxis": {
           "colorbar": {
            "outlinewidth": 0,
            "ticks": ""
           }
          },
          "colorscale": {
           "diverging": [
            [
             0,
             "#8e0152"
            ],
            [
             0.1,
             "#c51b7d"
            ],
            [
             0.2,
             "#de77ae"
            ],
            [
             0.3,
             "#f1b6da"
            ],
            [
             0.4,
             "#fde0ef"
            ],
            [
             0.5,
             "#f7f7f7"
            ],
            [
             0.6,
             "#e6f5d0"
            ],
            [
             0.7,
             "#b8e186"
            ],
            [
             0.8,
             "#7fbc41"
            ],
            [
             0.9,
             "#4d9221"
            ],
            [
             1,
             "#276419"
            ]
           ],
           "sequential": [
            [
             0,
             "#0d0887"
            ],
            [
             0.1111111111111111,
             "#46039f"
            ],
            [
             0.2222222222222222,
             "#7201a8"
            ],
            [
             0.3333333333333333,
             "#9c179e"
            ],
            [
             0.4444444444444444,
             "#bd3786"
            ],
            [
             0.5555555555555556,
             "#d8576b"
            ],
            [
             0.6666666666666666,
             "#ed7953"
            ],
            [
             0.7777777777777778,
             "#fb9f3a"
            ],
            [
             0.8888888888888888,
             "#fdca26"
            ],
            [
             1,
             "#f0f921"
            ]
           ],
           "sequentialminus": [
            [
             0,
             "#0d0887"
            ],
            [
             0.1111111111111111,
             "#46039f"
            ],
            [
             0.2222222222222222,
             "#7201a8"
            ],
            [
             0.3333333333333333,
             "#9c179e"
            ],
            [
             0.4444444444444444,
             "#bd3786"
            ],
            [
             0.5555555555555556,
             "#d8576b"
            ],
            [
             0.6666666666666666,
             "#ed7953"
            ],
            [
             0.7777777777777778,
             "#fb9f3a"
            ],
            [
             0.8888888888888888,
             "#fdca26"
            ],
            [
             1,
             "#f0f921"
            ]
           ]
          },
          "colorway": [
           "#636efa",
           "#EF553B",
           "#00cc96",
           "#ab63fa",
           "#FFA15A",
           "#19d3f3",
           "#FF6692",
           "#B6E880",
           "#FF97FF",
           "#FECB52"
          ],
          "font": {
           "color": "#f2f5fa"
          },
          "geo": {
           "bgcolor": "rgb(17,17,17)",
           "lakecolor": "rgb(17,17,17)",
           "landcolor": "rgb(17,17,17)",
           "showlakes": true,
           "showland": true,
           "subunitcolor": "#506784"
          },
          "hoverlabel": {
           "align": "left"
          },
          "hovermode": "closest",
          "mapbox": {
           "style": "dark"
          },
          "paper_bgcolor": "rgb(17,17,17)",
          "plot_bgcolor": "rgb(17,17,17)",
          "polar": {
           "angularaxis": {
            "gridcolor": "#506784",
            "linecolor": "#506784",
            "ticks": ""
           },
           "bgcolor": "rgb(17,17,17)",
           "radialaxis": {
            "gridcolor": "#506784",
            "linecolor": "#506784",
            "ticks": ""
           }
          },
          "scene": {
           "xaxis": {
            "backgroundcolor": "rgb(17,17,17)",
            "gridcolor": "#506784",
            "gridwidth": 2,
            "linecolor": "#506784",
            "showbackground": true,
            "ticks": "",
            "zerolinecolor": "#C8D4E3"
           },
           "yaxis": {
            "backgroundcolor": "rgb(17,17,17)",
            "gridcolor": "#506784",
            "gridwidth": 2,
            "linecolor": "#506784",
            "showbackground": true,
            "ticks": "",
            "zerolinecolor": "#C8D4E3"
           },
           "zaxis": {
            "backgroundcolor": "rgb(17,17,17)",
            "gridcolor": "#506784",
            "gridwidth": 2,
            "linecolor": "#506784",
            "showbackground": true,
            "ticks": "",
            "zerolinecolor": "#C8D4E3"
           }
          },
          "shapedefaults": {
           "line": {
            "color": "#f2f5fa"
           }
          },
          "sliderdefaults": {
           "bgcolor": "#C8D4E3",
           "bordercolor": "rgb(17,17,17)",
           "borderwidth": 1,
           "tickwidth": 0
          },
          "ternary": {
           "aaxis": {
            "gridcolor": "#506784",
            "linecolor": "#506784",
            "ticks": ""
           },
           "baxis": {
            "gridcolor": "#506784",
            "linecolor": "#506784",
            "ticks": ""
           },
           "bgcolor": "rgb(17,17,17)",
           "caxis": {
            "gridcolor": "#506784",
            "linecolor": "#506784",
            "ticks": ""
           }
          },
          "title": {
           "x": 0.05
          },
          "updatemenudefaults": {
           "bgcolor": "#506784",
           "borderwidth": 0
          },
          "xaxis": {
           "automargin": true,
           "gridcolor": "#283442",
           "linecolor": "#506784",
           "ticks": "",
           "title": {
            "standoff": 15
           },
           "zerolinecolor": "#283442",
           "zerolinewidth": 2
          },
          "yaxis": {
           "automargin": true,
           "gridcolor": "#283442",
           "linecolor": "#506784",
           "ticks": "",
           "title": {
            "standoff": 15
           },
           "zerolinecolor": "#283442",
           "zerolinewidth": 2
          }
         }
        },
        "title": {
         "text": "🔎 Correlation to TOP_20 — Season 2021"
        },
        "width": 1000,
        "xaxis": {
         "anchor": "y",
         "domain": [
          0,
          1
         ],
         "tickangle": -45,
         "title": {
          "text": "Feature"
         }
        },
        "yaxis": {
         "anchor": "x",
         "domain": [
          0,
          1
         ],
         "title": {
          "text": "Absolute Correlation to TOP_20"
         }
        }
       }
      }
     },
     "metadata": {},
     "output_type": "display_data"
    },
    {
     "data": {
      "application/vnd.plotly.v1+json": {
       "config": {
        "plotlyServerURL": "https://plot.ly"
       },
       "data": [
        {
         "hovertemplate": "Feature=%{x}<br>Correlation=%{y}<extra></extra>",
         "legendgroup": "",
         "marker": {
          "color": "#636efa",
          "pattern": {
           "shape": ""
          }
         },
         "name": "",
         "orientation": "v",
         "showlegend": false,
         "textposition": "auto",
         "type": "bar",
         "x": [
          "OWGR",
          "SGTTG",
          "SGTTG_RANK",
          "PAR_4",
          "PAR_4_RANK",
          "form_density",
          "SGAPR",
          "SGAPR_RANK",
          "BIRDIES",
          "FEDEX_CUP_POINTS",
          "OWGR_RANK",
          "PAR_5",
          "GIR",
          "TOTAL_DRIVING",
          "SGATG_RANK",
          "RECENT_FORM",
          "SGOTT",
          "GIR_RANK",
          "TOTAL_DRIVING_RANK",
          "BIRDIES_RANK",
          "PAR_5_RANK",
          "SGOTT_RANK",
          "SCRAMBLING_RANK",
          "SGATG",
          "SCRAMBLING",
          "PAR_3_RANK",
          "VEGAS_ODDS",
          "PAR_3",
          "CUT_PERCENTAGE",
          "SGP_RANK",
          "DRIVING_DISTANCE_RANK",
          "DRIVING_DISTANCE",
          "adj_ch",
          "CONSECUTIVE_CUTS",
          "SGP",
          "COURSE_HISTORY",
          "DRIVING_ACCURACY",
          "DRIVING_ACCURACY_RANK",
          "adj_form"
         ],
         "xaxis": "x",
         "y": {
          "bdata": "UxYNjsJx3T8LAoC7kj7YP958xIpt5NY/h4nUBYML1j+dAP6EDivUPzW9wJVNENQ/IzfjhVOE0z/u6lL2jvHSP31wmn0ZeNI/x8l/630D0j+XNmCzkvjRP/fVba/gudE/EcqkmJoL0T9tF34gV0jQPwlLt1/vRNA/RaHP1ZQ4zz9y+WoyDOzOP1ryaMmv4c4/ydwCmbXRzj+Q3Yh8Kl3OP/Af6a/bIs4/+I4umVH0zD/pJqOaOd7MP/Ec+/jvjsw/sz2+zQcvzD843CvAL/vHP2Pgjy3Aw8c/qq9WeQhyxj98ppsN79HEPw9rnRri0sI/oHlq5J+dwj9XxRvJz27AP1PkTp58zb8/X4UVjjjbvj/k9JPlH9C3P7tFuddgorQ/6O6qati8sT+7xWVgxy+vP0zWsz36LYg/",
          "dtype": "f8"
         },
         "yaxis": "y"
        }
       ],
       "layout": {
        "barmode": "relative",
        "height": 500,
        "legend": {
         "tracegroupgap": 0
        },
        "template": {
         "data": {
          "bar": [
           {
            "error_x": {
             "color": "#f2f5fa"
            },
            "error_y": {
             "color": "#f2f5fa"
            },
            "marker": {
             "line": {
              "color": "rgb(17,17,17)",
              "width": 0.5
             },
             "pattern": {
              "fillmode": "overlay",
              "size": 10,
              "solidity": 0.2
             }
            },
            "type": "bar"
           }
          ],
          "barpolar": [
           {
            "marker": {
             "line": {
              "color": "rgb(17,17,17)",
              "width": 0.5
             },
             "pattern": {
              "fillmode": "overlay",
              "size": 10,
              "solidity": 0.2
             }
            },
            "type": "barpolar"
           }
          ],
          "carpet": [
           {
            "aaxis": {
             "endlinecolor": "#A2B1C6",
             "gridcolor": "#506784",
             "linecolor": "#506784",
             "minorgridcolor": "#506784",
             "startlinecolor": "#A2B1C6"
            },
            "baxis": {
             "endlinecolor": "#A2B1C6",
             "gridcolor": "#506784",
             "linecolor": "#506784",
             "minorgridcolor": "#506784",
             "startlinecolor": "#A2B1C6"
            },
            "type": "carpet"
           }
          ],
          "choropleth": [
           {
            "colorbar": {
             "outlinewidth": 0,
             "ticks": ""
            },
            "type": "choropleth"
           }
          ],
          "contour": [
           {
            "colorbar": {
             "outlinewidth": 0,
             "ticks": ""
            },
            "colorscale": [
             [
              0,
              "#0d0887"
             ],
             [
              0.1111111111111111,
              "#46039f"
             ],
             [
              0.2222222222222222,
              "#7201a8"
             ],
             [
              0.3333333333333333,
              "#9c179e"
             ],
             [
              0.4444444444444444,
              "#bd3786"
             ],
             [
              0.5555555555555556,
              "#d8576b"
             ],
             [
              0.6666666666666666,
              "#ed7953"
             ],
             [
              0.7777777777777778,
              "#fb9f3a"
             ],
             [
              0.8888888888888888,
              "#fdca26"
             ],
             [
              1,
              "#f0f921"
             ]
            ],
            "type": "contour"
           }
          ],
          "contourcarpet": [
           {
            "colorbar": {
             "outlinewidth": 0,
             "ticks": ""
            },
            "type": "contourcarpet"
           }
          ],
          "heatmap": [
           {
            "colorbar": {
             "outlinewidth": 0,
             "ticks": ""
            },
            "colorscale": [
             [
              0,
              "#0d0887"
             ],
             [
              0.1111111111111111,
              "#46039f"
             ],
             [
              0.2222222222222222,
              "#7201a8"
             ],
             [
              0.3333333333333333,
              "#9c179e"
             ],
             [
              0.4444444444444444,
              "#bd3786"
             ],
             [
              0.5555555555555556,
              "#d8576b"
             ],
             [
              0.6666666666666666,
              "#ed7953"
             ],
             [
              0.7777777777777778,
              "#fb9f3a"
             ],
             [
              0.8888888888888888,
              "#fdca26"
             ],
             [
              1,
              "#f0f921"
             ]
            ],
            "type": "heatmap"
           }
          ],
          "histogram": [
           {
            "marker": {
             "pattern": {
              "fillmode": "overlay",
              "size": 10,
              "solidity": 0.2
             }
            },
            "type": "histogram"
           }
          ],
          "histogram2d": [
           {
            "colorbar": {
             "outlinewidth": 0,
             "ticks": ""
            },
            "colorscale": [
             [
              0,
              "#0d0887"
             ],
             [
              0.1111111111111111,
              "#46039f"
             ],
             [
              0.2222222222222222,
              "#7201a8"
             ],
             [
              0.3333333333333333,
              "#9c179e"
             ],
             [
              0.4444444444444444,
              "#bd3786"
             ],
             [
              0.5555555555555556,
              "#d8576b"
             ],
             [
              0.6666666666666666,
              "#ed7953"
             ],
             [
              0.7777777777777778,
              "#fb9f3a"
             ],
             [
              0.8888888888888888,
              "#fdca26"
             ],
             [
              1,
              "#f0f921"
             ]
            ],
            "type": "histogram2d"
           }
          ],
          "histogram2dcontour": [
           {
            "colorbar": {
             "outlinewidth": 0,
             "ticks": ""
            },
            "colorscale": [
             [
              0,
              "#0d0887"
             ],
             [
              0.1111111111111111,
              "#46039f"
             ],
             [
              0.2222222222222222,
              "#7201a8"
             ],
             [
              0.3333333333333333,
              "#9c179e"
             ],
             [
              0.4444444444444444,
              "#bd3786"
             ],
             [
              0.5555555555555556,
              "#d8576b"
             ],
             [
              0.6666666666666666,
              "#ed7953"
             ],
             [
              0.7777777777777778,
              "#fb9f3a"
             ],
             [
              0.8888888888888888,
              "#fdca26"
             ],
             [
              1,
              "#f0f921"
             ]
            ],
            "type": "histogram2dcontour"
           }
          ],
          "mesh3d": [
           {
            "colorbar": {
             "outlinewidth": 0,
             "ticks": ""
            },
            "type": "mesh3d"
           }
          ],
          "parcoords": [
           {
            "line": {
             "colorbar": {
              "outlinewidth": 0,
              "ticks": ""
             }
            },
            "type": "parcoords"
           }
          ],
          "pie": [
           {
            "automargin": true,
            "type": "pie"
           }
          ],
          "scatter": [
           {
            "marker": {
             "line": {
              "color": "#283442"
             }
            },
            "type": "scatter"
           }
          ],
          "scatter3d": [
           {
            "line": {
             "colorbar": {
              "outlinewidth": 0,
              "ticks": ""
             }
            },
            "marker": {
             "colorbar": {
              "outlinewidth": 0,
              "ticks": ""
             }
            },
            "type": "scatter3d"
           }
          ],
          "scattercarpet": [
           {
            "marker": {
             "colorbar": {
              "outlinewidth": 0,
              "ticks": ""
             }
            },
            "type": "scattercarpet"
           }
          ],
          "scattergeo": [
           {
            "marker": {
             "colorbar": {
              "outlinewidth": 0,
              "ticks": ""
             }
            },
            "type": "scattergeo"
           }
          ],
          "scattergl": [
           {
            "marker": {
             "line": {
              "color": "#283442"
             }
            },
            "type": "scattergl"
           }
          ],
          "scattermap": [
           {
            "marker": {
             "colorbar": {
              "outlinewidth": 0,
              "ticks": ""
             }
            },
            "type": "scattermap"
           }
          ],
          "scattermapbox": [
           {
            "marker": {
             "colorbar": {
              "outlinewidth": 0,
              "ticks": ""
             }
            },
            "type": "scattermapbox"
           }
          ],
          "scatterpolar": [
           {
            "marker": {
             "colorbar": {
              "outlinewidth": 0,
              "ticks": ""
             }
            },
            "type": "scatterpolar"
           }
          ],
          "scatterpolargl": [
           {
            "marker": {
             "colorbar": {
              "outlinewidth": 0,
              "ticks": ""
             }
            },
            "type": "scatterpolargl"
           }
          ],
          "scatterternary": [
           {
            "marker": {
             "colorbar": {
              "outlinewidth": 0,
              "ticks": ""
             }
            },
            "type": "scatterternary"
           }
          ],
          "surface": [
           {
            "colorbar": {
             "outlinewidth": 0,
             "ticks": ""
            },
            "colorscale": [
             [
              0,
              "#0d0887"
             ],
             [
              0.1111111111111111,
              "#46039f"
             ],
             [
              0.2222222222222222,
              "#7201a8"
             ],
             [
              0.3333333333333333,
              "#9c179e"
             ],
             [
              0.4444444444444444,
              "#bd3786"
             ],
             [
              0.5555555555555556,
              "#d8576b"
             ],
             [
              0.6666666666666666,
              "#ed7953"
             ],
             [
              0.7777777777777778,
              "#fb9f3a"
             ],
             [
              0.8888888888888888,
              "#fdca26"
             ],
             [
              1,
              "#f0f921"
             ]
            ],
            "type": "surface"
           }
          ],
          "table": [
           {
            "cells": {
             "fill": {
              "color": "#506784"
             },
             "line": {
              "color": "rgb(17,17,17)"
             }
            },
            "header": {
             "fill": {
              "color": "#2a3f5f"
             },
             "line": {
              "color": "rgb(17,17,17)"
             }
            },
            "type": "table"
           }
          ]
         },
         "layout": {
          "annotationdefaults": {
           "arrowcolor": "#f2f5fa",
           "arrowhead": 0,
           "arrowwidth": 1
          },
          "autotypenumbers": "strict",
          "coloraxis": {
           "colorbar": {
            "outlinewidth": 0,
            "ticks": ""
           }
          },
          "colorscale": {
           "diverging": [
            [
             0,
             "#8e0152"
            ],
            [
             0.1,
             "#c51b7d"
            ],
            [
             0.2,
             "#de77ae"
            ],
            [
             0.3,
             "#f1b6da"
            ],
            [
             0.4,
             "#fde0ef"
            ],
            [
             0.5,
             "#f7f7f7"
            ],
            [
             0.6,
             "#e6f5d0"
            ],
            [
             0.7,
             "#b8e186"
            ],
            [
             0.8,
             "#7fbc41"
            ],
            [
             0.9,
             "#4d9221"
            ],
            [
             1,
             "#276419"
            ]
           ],
           "sequential": [
            [
             0,
             "#0d0887"
            ],
            [
             0.1111111111111111,
             "#46039f"
            ],
            [
             0.2222222222222222,
             "#7201a8"
            ],
            [
             0.3333333333333333,
             "#9c179e"
            ],
            [
             0.4444444444444444,
             "#bd3786"
            ],
            [
             0.5555555555555556,
             "#d8576b"
            ],
            [
             0.6666666666666666,
             "#ed7953"
            ],
            [
             0.7777777777777778,
             "#fb9f3a"
            ],
            [
             0.8888888888888888,
             "#fdca26"
            ],
            [
             1,
             "#f0f921"
            ]
           ],
           "sequentialminus": [
            [
             0,
             "#0d0887"
            ],
            [
             0.1111111111111111,
             "#46039f"
            ],
            [
             0.2222222222222222,
             "#7201a8"
            ],
            [
             0.3333333333333333,
             "#9c179e"
            ],
            [
             0.4444444444444444,
             "#bd3786"
            ],
            [
             0.5555555555555556,
             "#d8576b"
            ],
            [
             0.6666666666666666,
             "#ed7953"
            ],
            [
             0.7777777777777778,
             "#fb9f3a"
            ],
            [
             0.8888888888888888,
             "#fdca26"
            ],
            [
             1,
             "#f0f921"
            ]
           ]
          },
          "colorway": [
           "#636efa",
           "#EF553B",
           "#00cc96",
           "#ab63fa",
           "#FFA15A",
           "#19d3f3",
           "#FF6692",
           "#B6E880",
           "#FF97FF",
           "#FECB52"
          ],
          "font": {
           "color": "#f2f5fa"
          },
          "geo": {
           "bgcolor": "rgb(17,17,17)",
           "lakecolor": "rgb(17,17,17)",
           "landcolor": "rgb(17,17,17)",
           "showlakes": true,
           "showland": true,
           "subunitcolor": "#506784"
          },
          "hoverlabel": {
           "align": "left"
          },
          "hovermode": "closest",
          "mapbox": {
           "style": "dark"
          },
          "paper_bgcolor": "rgb(17,17,17)",
          "plot_bgcolor": "rgb(17,17,17)",
          "polar": {
           "angularaxis": {
            "gridcolor": "#506784",
            "linecolor": "#506784",
            "ticks": ""
           },
           "bgcolor": "rgb(17,17,17)",
           "radialaxis": {
            "gridcolor": "#506784",
            "linecolor": "#506784",
            "ticks": ""
           }
          },
          "scene": {
           "xaxis": {
            "backgroundcolor": "rgb(17,17,17)",
            "gridcolor": "#506784",
            "gridwidth": 2,
            "linecolor": "#506784",
            "showbackground": true,
            "ticks": "",
            "zerolinecolor": "#C8D4E3"
           },
           "yaxis": {
            "backgroundcolor": "rgb(17,17,17)",
            "gridcolor": "#506784",
            "gridwidth": 2,
            "linecolor": "#506784",
            "showbackground": true,
            "ticks": "",
            "zerolinecolor": "#C8D4E3"
           },
           "zaxis": {
            "backgroundcolor": "rgb(17,17,17)",
            "gridcolor": "#506784",
            "gridwidth": 2,
            "linecolor": "#506784",
            "showbackground": true,
            "ticks": "",
            "zerolinecolor": "#C8D4E3"
           }
          },
          "shapedefaults": {
           "line": {
            "color": "#f2f5fa"
           }
          },
          "sliderdefaults": {
           "bgcolor": "#C8D4E3",
           "bordercolor": "rgb(17,17,17)",
           "borderwidth": 1,
           "tickwidth": 0
          },
          "ternary": {
           "aaxis": {
            "gridcolor": "#506784",
            "linecolor": "#506784",
            "ticks": ""
           },
           "baxis": {
            "gridcolor": "#506784",
            "linecolor": "#506784",
            "ticks": ""
           },
           "bgcolor": "rgb(17,17,17)",
           "caxis": {
            "gridcolor": "#506784",
            "linecolor": "#506784",
            "ticks": ""
           }
          },
          "title": {
           "x": 0.05
          },
          "updatemenudefaults": {
           "bgcolor": "#506784",
           "borderwidth": 0
          },
          "xaxis": {
           "automargin": true,
           "gridcolor": "#283442",
           "linecolor": "#506784",
           "ticks": "",
           "title": {
            "standoff": 15
           },
           "zerolinecolor": "#283442",
           "zerolinewidth": 2
          },
          "yaxis": {
           "automargin": true,
           "gridcolor": "#283442",
           "linecolor": "#506784",
           "ticks": "",
           "title": {
            "standoff": 15
           },
           "zerolinecolor": "#283442",
           "zerolinewidth": 2
          }
         }
        },
        "title": {
         "text": "🔎 Correlation to TOP_20 — Season 2022"
        },
        "width": 1000,
        "xaxis": {
         "anchor": "y",
         "domain": [
          0,
          1
         ],
         "tickangle": -45,
         "title": {
          "text": "Feature"
         }
        },
        "yaxis": {
         "anchor": "x",
         "domain": [
          0,
          1
         ],
         "title": {
          "text": "Absolute Correlation to TOP_20"
         }
        }
       }
      }
     },
     "metadata": {},
     "output_type": "display_data"
    },
    {
     "data": {
      "application/vnd.plotly.v1+json": {
       "config": {
        "plotlyServerURL": "https://plot.ly"
       },
       "data": [
        {
         "hovertemplate": "Feature=%{x}<br>Correlation=%{y}<extra></extra>",
         "legendgroup": "",
         "marker": {
          "color": "#636efa",
          "pattern": {
           "shape": ""
          }
         },
         "name": "",
         "orientation": "v",
         "showlegend": false,
         "textposition": "auto",
         "type": "bar",
         "x": [
          "OWGR",
          "SGTTG",
          "RECENT_FORM",
          "PAR_4",
          "SGTTG_RANK",
          "form_density",
          "SGAPR",
          "VEGAS_ODDS",
          "SGOTT",
          "SGAPR_RANK",
          "CUT_PERCENTAGE",
          "SGOTT_RANK",
          "OWGR_RANK",
          "PAR_4_RANK",
          "FEDEX_CUP_POINTS",
          "CONSECUTIVE_CUTS",
          "BIRDIES",
          "TOTAL_DRIVING",
          "TOTAL_DRIVING_RANK",
          "PAR_3_RANK",
          "SCRAMBLING",
          "BIRDIES_RANK",
          "GIR",
          "adj_form",
          "PAR_5_RANK",
          "PAR_3",
          "GIR_RANK",
          "PAR_5",
          "SCRAMBLING_RANK",
          "DRIVING_ACCURACY",
          "SGATG_RANK",
          "COURSE_HISTORY",
          "DRIVING_ACCURACY_RANK",
          "SGATG",
          "SGP",
          "SGP_RANK",
          "adj_ch",
          "DRIVING_DISTANCE",
          "DRIVING_DISTANCE_RANK"
         ],
         "xaxis": "x",
         "y": {
          "bdata": "Ay3g1/uQ2T9WeMMjJmvVP/JBolZkONU/UaL4mfhF0z8xi+0O3abSP1X+HRh3wtE/xY6v2qm80T/ubppfa5TRP/J+gHMt1dA/kfm7uE/Q0D9HicCHWETQP70Atq3lONA/lrNm9+QZ0D9/IuXMqs3OP53MIkzheM4/lOu8Sie9zD+Gpj0djOTJP8f0rvSwqcc/ATEI/QR4xz83st5gmKTGPz4F3hywb8U/TXQHuUhcxT9CdjVwo0vFP9+uiil+5sQ/m6lr3ffWxD/KwhOkG/DDP9CLQxoAuMM/AY/lTfWwwj+bFaNg6EjCPwxHAbRdkME/gLzXK9mwwD+0cE2sdozAP3xDZgO0M8A/hLRdP/tdvz96/VqEC0C+P5kk7yM+T7k/1G8l7HXotD9YYkd4NZ+tP7u9gXSHDKI/",
          "dtype": "f8"
         },
         "yaxis": "y"
        }
       ],
       "layout": {
        "barmode": "relative",
        "height": 500,
        "legend": {
         "tracegroupgap": 0
        },
        "template": {
         "data": {
          "bar": [
           {
            "error_x": {
             "color": "#f2f5fa"
            },
            "error_y": {
             "color": "#f2f5fa"
            },
            "marker": {
             "line": {
              "color": "rgb(17,17,17)",
              "width": 0.5
             },
             "pattern": {
              "fillmode": "overlay",
              "size": 10,
              "solidity": 0.2
             }
            },
            "type": "bar"
           }
          ],
          "barpolar": [
           {
            "marker": {
             "line": {
              "color": "rgb(17,17,17)",
              "width": 0.5
             },
             "pattern": {
              "fillmode": "overlay",
              "size": 10,
              "solidity": 0.2
             }
            },
            "type": "barpolar"
           }
          ],
          "carpet": [
           {
            "aaxis": {
             "endlinecolor": "#A2B1C6",
             "gridcolor": "#506784",
             "linecolor": "#506784",
             "minorgridcolor": "#506784",
             "startlinecolor": "#A2B1C6"
            },
            "baxis": {
             "endlinecolor": "#A2B1C6",
             "gridcolor": "#506784",
             "linecolor": "#506784",
             "minorgridcolor": "#506784",
             "startlinecolor": "#A2B1C6"
            },
            "type": "carpet"
           }
          ],
          "choropleth": [
           {
            "colorbar": {
             "outlinewidth": 0,
             "ticks": ""
            },
            "type": "choropleth"
           }
          ],
          "contour": [
           {
            "colorbar": {
             "outlinewidth": 0,
             "ticks": ""
            },
            "colorscale": [
             [
              0,
              "#0d0887"
             ],
             [
              0.1111111111111111,
              "#46039f"
             ],
             [
              0.2222222222222222,
              "#7201a8"
             ],
             [
              0.3333333333333333,
              "#9c179e"
             ],
             [
              0.4444444444444444,
              "#bd3786"
             ],
             [
              0.5555555555555556,
              "#d8576b"
             ],
             [
              0.6666666666666666,
              "#ed7953"
             ],
             [
              0.7777777777777778,
              "#fb9f3a"
             ],
             [
              0.8888888888888888,
              "#fdca26"
             ],
             [
              1,
              "#f0f921"
             ]
            ],
            "type": "contour"
           }
          ],
          "contourcarpet": [
           {
            "colorbar": {
             "outlinewidth": 0,
             "ticks": ""
            },
            "type": "contourcarpet"
           }
          ],
          "heatmap": [
           {
            "colorbar": {
             "outlinewidth": 0,
             "ticks": ""
            },
            "colorscale": [
             [
              0,
              "#0d0887"
             ],
             [
              0.1111111111111111,
              "#46039f"
             ],
             [
              0.2222222222222222,
              "#7201a8"
             ],
             [
              0.3333333333333333,
              "#9c179e"
             ],
             [
              0.4444444444444444,
              "#bd3786"
             ],
             [
              0.5555555555555556,
              "#d8576b"
             ],
             [
              0.6666666666666666,
              "#ed7953"
             ],
             [
              0.7777777777777778,
              "#fb9f3a"
             ],
             [
              0.8888888888888888,
              "#fdca26"
             ],
             [
              1,
              "#f0f921"
             ]
            ],
            "type": "heatmap"
           }
          ],
          "histogram": [
           {
            "marker": {
             "pattern": {
              "fillmode": "overlay",
              "size": 10,
              "solidity": 0.2
             }
            },
            "type": "histogram"
           }
          ],
          "histogram2d": [
           {
            "colorbar": {
             "outlinewidth": 0,
             "ticks": ""
            },
            "colorscale": [
             [
              0,
              "#0d0887"
             ],
             [
              0.1111111111111111,
              "#46039f"
             ],
             [
              0.2222222222222222,
              "#7201a8"
             ],
             [
              0.3333333333333333,
              "#9c179e"
             ],
             [
              0.4444444444444444,
              "#bd3786"
             ],
             [
              0.5555555555555556,
              "#d8576b"
             ],
             [
              0.6666666666666666,
              "#ed7953"
             ],
             [
              0.7777777777777778,
              "#fb9f3a"
             ],
             [
              0.8888888888888888,
              "#fdca26"
             ],
             [
              1,
              "#f0f921"
             ]
            ],
            "type": "histogram2d"
           }
          ],
          "histogram2dcontour": [
           {
            "colorbar": {
             "outlinewidth": 0,
             "ticks": ""
            },
            "colorscale": [
             [
              0,
              "#0d0887"
             ],
             [
              0.1111111111111111,
              "#46039f"
             ],
             [
              0.2222222222222222,
              "#7201a8"
             ],
             [
              0.3333333333333333,
              "#9c179e"
             ],
             [
              0.4444444444444444,
              "#bd3786"
             ],
             [
              0.5555555555555556,
              "#d8576b"
             ],
             [
              0.6666666666666666,
              "#ed7953"
             ],
             [
              0.7777777777777778,
              "#fb9f3a"
             ],
             [
              0.8888888888888888,
              "#fdca26"
             ],
             [
              1,
              "#f0f921"
             ]
            ],
            "type": "histogram2dcontour"
           }
          ],
          "mesh3d": [
           {
            "colorbar": {
             "outlinewidth": 0,
             "ticks": ""
            },
            "type": "mesh3d"
           }
          ],
          "parcoords": [
           {
            "line": {
             "colorbar": {
              "outlinewidth": 0,
              "ticks": ""
             }
            },
            "type": "parcoords"
           }
          ],
          "pie": [
           {
            "automargin": true,
            "type": "pie"
           }
          ],
          "scatter": [
           {
            "marker": {
             "line": {
              "color": "#283442"
             }
            },
            "type": "scatter"
           }
          ],
          "scatter3d": [
           {
            "line": {
             "colorbar": {
              "outlinewidth": 0,
              "ticks": ""
             }
            },
            "marker": {
             "colorbar": {
              "outlinewidth": 0,
              "ticks": ""
             }
            },
            "type": "scatter3d"
           }
          ],
          "scattercarpet": [
           {
            "marker": {
             "colorbar": {
              "outlinewidth": 0,
              "ticks": ""
             }
            },
            "type": "scattercarpet"
           }
          ],
          "scattergeo": [
           {
            "marker": {
             "colorbar": {
              "outlinewidth": 0,
              "ticks": ""
             }
            },
            "type": "scattergeo"
           }
          ],
          "scattergl": [
           {
            "marker": {
             "line": {
              "color": "#283442"
             }
            },
            "type": "scattergl"
           }
          ],
          "scattermap": [
           {
            "marker": {
             "colorbar": {
              "outlinewidth": 0,
              "ticks": ""
             }
            },
            "type": "scattermap"
           }
          ],
          "scattermapbox": [
           {
            "marker": {
             "colorbar": {
              "outlinewidth": 0,
              "ticks": ""
             }
            },
            "type": "scattermapbox"
           }
          ],
          "scatterpolar": [
           {
            "marker": {
             "colorbar": {
              "outlinewidth": 0,
              "ticks": ""
             }
            },
            "type": "scatterpolar"
           }
          ],
          "scatterpolargl": [
           {
            "marker": {
             "colorbar": {
              "outlinewidth": 0,
              "ticks": ""
             }
            },
            "type": "scatterpolargl"
           }
          ],
          "scatterternary": [
           {
            "marker": {
             "colorbar": {
              "outlinewidth": 0,
              "ticks": ""
             }
            },
            "type": "scatterternary"
           }
          ],
          "surface": [
           {
            "colorbar": {
             "outlinewidth": 0,
             "ticks": ""
            },
            "colorscale": [
             [
              0,
              "#0d0887"
             ],
             [
              0.1111111111111111,
              "#46039f"
             ],
             [
              0.2222222222222222,
              "#7201a8"
             ],
             [
              0.3333333333333333,
              "#9c179e"
             ],
             [
              0.4444444444444444,
              "#bd3786"
             ],
             [
              0.5555555555555556,
              "#d8576b"
             ],
             [
              0.6666666666666666,
              "#ed7953"
             ],
             [
              0.7777777777777778,
              "#fb9f3a"
             ],
             [
              0.8888888888888888,
              "#fdca26"
             ],
             [
              1,
              "#f0f921"
             ]
            ],
            "type": "surface"
           }
          ],
          "table": [
           {
            "cells": {
             "fill": {
              "color": "#506784"
             },
             "line": {
              "color": "rgb(17,17,17)"
             }
            },
            "header": {
             "fill": {
              "color": "#2a3f5f"
             },
             "line": {
              "color": "rgb(17,17,17)"
             }
            },
            "type": "table"
           }
          ]
         },
         "layout": {
          "annotationdefaults": {
           "arrowcolor": "#f2f5fa",
           "arrowhead": 0,
           "arrowwidth": 1
          },
          "autotypenumbers": "strict",
          "coloraxis": {
           "colorbar": {
            "outlinewidth": 0,
            "ticks": ""
           }
          },
          "colorscale": {
           "diverging": [
            [
             0,
             "#8e0152"
            ],
            [
             0.1,
             "#c51b7d"
            ],
            [
             0.2,
             "#de77ae"
            ],
            [
             0.3,
             "#f1b6da"
            ],
            [
             0.4,
             "#fde0ef"
            ],
            [
             0.5,
             "#f7f7f7"
            ],
            [
             0.6,
             "#e6f5d0"
            ],
            [
             0.7,
             "#b8e186"
            ],
            [
             0.8,
             "#7fbc41"
            ],
            [
             0.9,
             "#4d9221"
            ],
            [
             1,
             "#276419"
            ]
           ],
           "sequential": [
            [
             0,
             "#0d0887"
            ],
            [
             0.1111111111111111,
             "#46039f"
            ],
            [
             0.2222222222222222,
             "#7201a8"
            ],
            [
             0.3333333333333333,
             "#9c179e"
            ],
            [
             0.4444444444444444,
             "#bd3786"
            ],
            [
             0.5555555555555556,
             "#d8576b"
            ],
            [
             0.6666666666666666,
             "#ed7953"
            ],
            [
             0.7777777777777778,
             "#fb9f3a"
            ],
            [
             0.8888888888888888,
             "#fdca26"
            ],
            [
             1,
             "#f0f921"
            ]
           ],
           "sequentialminus": [
            [
             0,
             "#0d0887"
            ],
            [
             0.1111111111111111,
             "#46039f"
            ],
            [
             0.2222222222222222,
             "#7201a8"
            ],
            [
             0.3333333333333333,
             "#9c179e"
            ],
            [
             0.4444444444444444,
             "#bd3786"
            ],
            [
             0.5555555555555556,
             "#d8576b"
            ],
            [
             0.6666666666666666,
             "#ed7953"
            ],
            [
             0.7777777777777778,
             "#fb9f3a"
            ],
            [
             0.8888888888888888,
             "#fdca26"
            ],
            [
             1,
             "#f0f921"
            ]
           ]
          },
          "colorway": [
           "#636efa",
           "#EF553B",
           "#00cc96",
           "#ab63fa",
           "#FFA15A",
           "#19d3f3",
           "#FF6692",
           "#B6E880",
           "#FF97FF",
           "#FECB52"
          ],
          "font": {
           "color": "#f2f5fa"
          },
          "geo": {
           "bgcolor": "rgb(17,17,17)",
           "lakecolor": "rgb(17,17,17)",
           "landcolor": "rgb(17,17,17)",
           "showlakes": true,
           "showland": true,
           "subunitcolor": "#506784"
          },
          "hoverlabel": {
           "align": "left"
          },
          "hovermode": "closest",
          "mapbox": {
           "style": "dark"
          },
          "paper_bgcolor": "rgb(17,17,17)",
          "plot_bgcolor": "rgb(17,17,17)",
          "polar": {
           "angularaxis": {
            "gridcolor": "#506784",
            "linecolor": "#506784",
            "ticks": ""
           },
           "bgcolor": "rgb(17,17,17)",
           "radialaxis": {
            "gridcolor": "#506784",
            "linecolor": "#506784",
            "ticks": ""
           }
          },
          "scene": {
           "xaxis": {
            "backgroundcolor": "rgb(17,17,17)",
            "gridcolor": "#506784",
            "gridwidth": 2,
            "linecolor": "#506784",
            "showbackground": true,
            "ticks": "",
            "zerolinecolor": "#C8D4E3"
           },
           "yaxis": {
            "backgroundcolor": "rgb(17,17,17)",
            "gridcolor": "#506784",
            "gridwidth": 2,
            "linecolor": "#506784",
            "showbackground": true,
            "ticks": "",
            "zerolinecolor": "#C8D4E3"
           },
           "zaxis": {
            "backgroundcolor": "rgb(17,17,17)",
            "gridcolor": "#506784",
            "gridwidth": 2,
            "linecolor": "#506784",
            "showbackground": true,
            "ticks": "",
            "zerolinecolor": "#C8D4E3"
           }
          },
          "shapedefaults": {
           "line": {
            "color": "#f2f5fa"
           }
          },
          "sliderdefaults": {
           "bgcolor": "#C8D4E3",
           "bordercolor": "rgb(17,17,17)",
           "borderwidth": 1,
           "tickwidth": 0
          },
          "ternary": {
           "aaxis": {
            "gridcolor": "#506784",
            "linecolor": "#506784",
            "ticks": ""
           },
           "baxis": {
            "gridcolor": "#506784",
            "linecolor": "#506784",
            "ticks": ""
           },
           "bgcolor": "rgb(17,17,17)",
           "caxis": {
            "gridcolor": "#506784",
            "linecolor": "#506784",
            "ticks": ""
           }
          },
          "title": {
           "x": 0.05
          },
          "updatemenudefaults": {
           "bgcolor": "#506784",
           "borderwidth": 0
          },
          "xaxis": {
           "automargin": true,
           "gridcolor": "#283442",
           "linecolor": "#506784",
           "ticks": "",
           "title": {
            "standoff": 15
           },
           "zerolinecolor": "#283442",
           "zerolinewidth": 2
          },
          "yaxis": {
           "automargin": true,
           "gridcolor": "#283442",
           "linecolor": "#506784",
           "ticks": "",
           "title": {
            "standoff": 15
           },
           "zerolinecolor": "#283442",
           "zerolinewidth": 2
          }
         }
        },
        "title": {
         "text": "🔎 Correlation to TOP_20 — Season 2023"
        },
        "width": 1000,
        "xaxis": {
         "anchor": "y",
         "domain": [
          0,
          1
         ],
         "tickangle": -45,
         "title": {
          "text": "Feature"
         }
        },
        "yaxis": {
         "anchor": "x",
         "domain": [
          0,
          1
         ],
         "title": {
          "text": "Absolute Correlation to TOP_20"
         }
        }
       }
      }
     },
     "metadata": {},
     "output_type": "display_data"
    },
    {
     "data": {
      "application/vnd.plotly.v1+json": {
       "config": {
        "plotlyServerURL": "https://plot.ly"
       },
       "data": [
        {
         "hovertemplate": "Feature=%{x}<br>Correlation=%{y}<extra></extra>",
         "legendgroup": "",
         "marker": {
          "color": "#636efa",
          "pattern": {
           "shape": ""
          }
         },
         "name": "",
         "orientation": "v",
         "showlegend": false,
         "textposition": "auto",
         "type": "bar",
         "x": [
          "SGTTG_RANK",
          "SGTTG",
          "OWGR",
          "SGAPR",
          "SGOTT",
          "form_density",
          "SGOTT_RANK",
          "PAR_4",
          "CONSECUTIVE_CUTS",
          "SGAPR_RANK",
          "VEGAS_ODDS",
          "BIRDIES",
          "COURSE_HISTORY",
          "FEDEX_CUP_POINTS",
          "OWGR_RANK",
          "PAR_4_RANK",
          "GIR",
          "BIRDIES_RANK",
          "TOTAL_DRIVING",
          "TOTAL_DRIVING_RANK",
          "PAR_5",
          "RECENT_FORM",
          "GIR_RANK",
          "adj_ch",
          "CUT_PERCENTAGE",
          "PAR_5_RANK",
          "adj_form",
          "SCRAMBLING",
          "PAR_3",
          "DRIVING_DISTANCE",
          "SGATG_RANK",
          "DRIVING_ACCURACY",
          "DRIVING_DISTANCE_RANK",
          "DRIVING_ACCURACY_RANK",
          "PAR_3_RANK",
          "SCRAMBLING_RANK",
          "SGP",
          "SGATG",
          "SGP_RANK"
         ],
         "xaxis": "x",
         "y": {
          "bdata": "HwAy/z3o2D9lOcwjNCHYP54dyj4JdNc/gazjs1iZ1D/rODvTUZ3TPxBB+X/uk9M/VUDZVRZT0j+SWZHHED/SP3wevf0PDNI/n3DyqHXI0T+Fwm0eNbvRPx+5ho1FhdE/WR54LiYN0T91/2eHAPbQPzU6QfjKtdA/tfwLgkxR0D8Ol2WuqgjQPypjfRzvAdA/MEaA+ijWzj9BExFy1X/OPwWWo7Q+as0/KxWPuIeXzD+TV2Kz5JrLP5vexA4d18o/ZZzQbhzoyT8co3GSjwjJPwJ1sdqg68g/QAPKNVFkwj8JWLAKDUnBP82IG3UJEsE/SOw+YbbBvT8XmjA7D0a9PxUsgEJS9rw/VeTLnba9uz8qWu3xs0m6P74EYOb4Irk/wgmP/keVtj/Ww4UCqeqxP7D7TxT73Ks/",
          "dtype": "f8"
         },
         "yaxis": "y"
        }
       ],
       "layout": {
        "barmode": "relative",
        "height": 500,
        "legend": {
         "tracegroupgap": 0
        },
        "template": {
         "data": {
          "bar": [
           {
            "error_x": {
             "color": "#f2f5fa"
            },
            "error_y": {
             "color": "#f2f5fa"
            },
            "marker": {
             "line": {
              "color": "rgb(17,17,17)",
              "width": 0.5
             },
             "pattern": {
              "fillmode": "overlay",
              "size": 10,
              "solidity": 0.2
             }
            },
            "type": "bar"
           }
          ],
          "barpolar": [
           {
            "marker": {
             "line": {
              "color": "rgb(17,17,17)",
              "width": 0.5
             },
             "pattern": {
              "fillmode": "overlay",
              "size": 10,
              "solidity": 0.2
             }
            },
            "type": "barpolar"
           }
          ],
          "carpet": [
           {
            "aaxis": {
             "endlinecolor": "#A2B1C6",
             "gridcolor": "#506784",
             "linecolor": "#506784",
             "minorgridcolor": "#506784",
             "startlinecolor": "#A2B1C6"
            },
            "baxis": {
             "endlinecolor": "#A2B1C6",
             "gridcolor": "#506784",
             "linecolor": "#506784",
             "minorgridcolor": "#506784",
             "startlinecolor": "#A2B1C6"
            },
            "type": "carpet"
           }
          ],
          "choropleth": [
           {
            "colorbar": {
             "outlinewidth": 0,
             "ticks": ""
            },
            "type": "choropleth"
           }
          ],
          "contour": [
           {
            "colorbar": {
             "outlinewidth": 0,
             "ticks": ""
            },
            "colorscale": [
             [
              0,
              "#0d0887"
             ],
             [
              0.1111111111111111,
              "#46039f"
             ],
             [
              0.2222222222222222,
              "#7201a8"
             ],
             [
              0.3333333333333333,
              "#9c179e"
             ],
             [
              0.4444444444444444,
              "#bd3786"
             ],
             [
              0.5555555555555556,
              "#d8576b"
             ],
             [
              0.6666666666666666,
              "#ed7953"
             ],
             [
              0.7777777777777778,
              "#fb9f3a"
             ],
             [
              0.8888888888888888,
              "#fdca26"
             ],
             [
              1,
              "#f0f921"
             ]
            ],
            "type": "contour"
           }
          ],
          "contourcarpet": [
           {
            "colorbar": {
             "outlinewidth": 0,
             "ticks": ""
            },
            "type": "contourcarpet"
           }
          ],
          "heatmap": [
           {
            "colorbar": {
             "outlinewidth": 0,
             "ticks": ""
            },
            "colorscale": [
             [
              0,
              "#0d0887"
             ],
             [
              0.1111111111111111,
              "#46039f"
             ],
             [
              0.2222222222222222,
              "#7201a8"
             ],
             [
              0.3333333333333333,
              "#9c179e"
             ],
             [
              0.4444444444444444,
              "#bd3786"
             ],
             [
              0.5555555555555556,
              "#d8576b"
             ],
             [
              0.6666666666666666,
              "#ed7953"
             ],
             [
              0.7777777777777778,
              "#fb9f3a"
             ],
             [
              0.8888888888888888,
              "#fdca26"
             ],
             [
              1,
              "#f0f921"
             ]
            ],
            "type": "heatmap"
           }
          ],
          "histogram": [
           {
            "marker": {
             "pattern": {
              "fillmode": "overlay",
              "size": 10,
              "solidity": 0.2
             }
            },
            "type": "histogram"
           }
          ],
          "histogram2d": [
           {
            "colorbar": {
             "outlinewidth": 0,
             "ticks": ""
            },
            "colorscale": [
             [
              0,
              "#0d0887"
             ],
             [
              0.1111111111111111,
              "#46039f"
             ],
             [
              0.2222222222222222,
              "#7201a8"
             ],
             [
              0.3333333333333333,
              "#9c179e"
             ],
             [
              0.4444444444444444,
              "#bd3786"
             ],
             [
              0.5555555555555556,
              "#d8576b"
             ],
             [
              0.6666666666666666,
              "#ed7953"
             ],
             [
              0.7777777777777778,
              "#fb9f3a"
             ],
             [
              0.8888888888888888,
              "#fdca26"
             ],
             [
              1,
              "#f0f921"
             ]
            ],
            "type": "histogram2d"
           }
          ],
          "histogram2dcontour": [
           {
            "colorbar": {
             "outlinewidth": 0,
             "ticks": ""
            },
            "colorscale": [
             [
              0,
              "#0d0887"
             ],
             [
              0.1111111111111111,
              "#46039f"
             ],
             [
              0.2222222222222222,
              "#7201a8"
             ],
             [
              0.3333333333333333,
              "#9c179e"
             ],
             [
              0.4444444444444444,
              "#bd3786"
             ],
             [
              0.5555555555555556,
              "#d8576b"
             ],
             [
              0.6666666666666666,
              "#ed7953"
             ],
             [
              0.7777777777777778,
              "#fb9f3a"
             ],
             [
              0.8888888888888888,
              "#fdca26"
             ],
             [
              1,
              "#f0f921"
             ]
            ],
            "type": "histogram2dcontour"
           }
          ],
          "mesh3d": [
           {
            "colorbar": {
             "outlinewidth": 0,
             "ticks": ""
            },
            "type": "mesh3d"
           }
          ],
          "parcoords": [
           {
            "line": {
             "colorbar": {
              "outlinewidth": 0,
              "ticks": ""
             }
            },
            "type": "parcoords"
           }
          ],
          "pie": [
           {
            "automargin": true,
            "type": "pie"
           }
          ],
          "scatter": [
           {
            "marker": {
             "line": {
              "color": "#283442"
             }
            },
            "type": "scatter"
           }
          ],
          "scatter3d": [
           {
            "line": {
             "colorbar": {
              "outlinewidth": 0,
              "ticks": ""
             }
            },
            "marker": {
             "colorbar": {
              "outlinewidth": 0,
              "ticks": ""
             }
            },
            "type": "scatter3d"
           }
          ],
          "scattercarpet": [
           {
            "marker": {
             "colorbar": {
              "outlinewidth": 0,
              "ticks": ""
             }
            },
            "type": "scattercarpet"
           }
          ],
          "scattergeo": [
           {
            "marker": {
             "colorbar": {
              "outlinewidth": 0,
              "ticks": ""
             }
            },
            "type": "scattergeo"
           }
          ],
          "scattergl": [
           {
            "marker": {
             "line": {
              "color": "#283442"
             }
            },
            "type": "scattergl"
           }
          ],
          "scattermap": [
           {
            "marker": {
             "colorbar": {
              "outlinewidth": 0,
              "ticks": ""
             }
            },
            "type": "scattermap"
           }
          ],
          "scattermapbox": [
           {
            "marker": {
             "colorbar": {
              "outlinewidth": 0,
              "ticks": ""
             }
            },
            "type": "scattermapbox"
           }
          ],
          "scatterpolar": [
           {
            "marker": {
             "colorbar": {
              "outlinewidth": 0,
              "ticks": ""
             }
            },
            "type": "scatterpolar"
           }
          ],
          "scatterpolargl": [
           {
            "marker": {
             "colorbar": {
              "outlinewidth": 0,
              "ticks": ""
             }
            },
            "type": "scatterpolargl"
           }
          ],
          "scatterternary": [
           {
            "marker": {
             "colorbar": {
              "outlinewidth": 0,
              "ticks": ""
             }
            },
            "type": "scatterternary"
           }
          ],
          "surface": [
           {
            "colorbar": {
             "outlinewidth": 0,
             "ticks": ""
            },
            "colorscale": [
             [
              0,
              "#0d0887"
             ],
             [
              0.1111111111111111,
              "#46039f"
             ],
             [
              0.2222222222222222,
              "#7201a8"
             ],
             [
              0.3333333333333333,
              "#9c179e"
             ],
             [
              0.4444444444444444,
              "#bd3786"
             ],
             [
              0.5555555555555556,
              "#d8576b"
             ],
             [
              0.6666666666666666,
              "#ed7953"
             ],
             [
              0.7777777777777778,
              "#fb9f3a"
             ],
             [
              0.8888888888888888,
              "#fdca26"
             ],
             [
              1,
              "#f0f921"
             ]
            ],
            "type": "surface"
           }
          ],
          "table": [
           {
            "cells": {
             "fill": {
              "color": "#506784"
             },
             "line": {
              "color": "rgb(17,17,17)"
             }
            },
            "header": {
             "fill": {
              "color": "#2a3f5f"
             },
             "line": {
              "color": "rgb(17,17,17)"
             }
            },
            "type": "table"
           }
          ]
         },
         "layout": {
          "annotationdefaults": {
           "arrowcolor": "#f2f5fa",
           "arrowhead": 0,
           "arrowwidth": 1
          },
          "autotypenumbers": "strict",
          "coloraxis": {
           "colorbar": {
            "outlinewidth": 0,
            "ticks": ""
           }
          },
          "colorscale": {
           "diverging": [
            [
             0,
             "#8e0152"
            ],
            [
             0.1,
             "#c51b7d"
            ],
            [
             0.2,
             "#de77ae"
            ],
            [
             0.3,
             "#f1b6da"
            ],
            [
             0.4,
             "#fde0ef"
            ],
            [
             0.5,
             "#f7f7f7"
            ],
            [
             0.6,
             "#e6f5d0"
            ],
            [
             0.7,
             "#b8e186"
            ],
            [
             0.8,
             "#7fbc41"
            ],
            [
             0.9,
             "#4d9221"
            ],
            [
             1,
             "#276419"
            ]
           ],
           "sequential": [
            [
             0,
             "#0d0887"
            ],
            [
             0.1111111111111111,
             "#46039f"
            ],
            [
             0.2222222222222222,
             "#7201a8"
            ],
            [
             0.3333333333333333,
             "#9c179e"
            ],
            [
             0.4444444444444444,
             "#bd3786"
            ],
            [
             0.5555555555555556,
             "#d8576b"
            ],
            [
             0.6666666666666666,
             "#ed7953"
            ],
            [
             0.7777777777777778,
             "#fb9f3a"
            ],
            [
             0.8888888888888888,
             "#fdca26"
            ],
            [
             1,
             "#f0f921"
            ]
           ],
           "sequentialminus": [
            [
             0,
             "#0d0887"
            ],
            [
             0.1111111111111111,
             "#46039f"
            ],
            [
             0.2222222222222222,
             "#7201a8"
            ],
            [
             0.3333333333333333,
             "#9c179e"
            ],
            [
             0.4444444444444444,
             "#bd3786"
            ],
            [
             0.5555555555555556,
             "#d8576b"
            ],
            [
             0.6666666666666666,
             "#ed7953"
            ],
            [
             0.7777777777777778,
             "#fb9f3a"
            ],
            [
             0.8888888888888888,
             "#fdca26"
            ],
            [
             1,
             "#f0f921"
            ]
           ]
          },
          "colorway": [
           "#636efa",
           "#EF553B",
           "#00cc96",
           "#ab63fa",
           "#FFA15A",
           "#19d3f3",
           "#FF6692",
           "#B6E880",
           "#FF97FF",
           "#FECB52"
          ],
          "font": {
           "color": "#f2f5fa"
          },
          "geo": {
           "bgcolor": "rgb(17,17,17)",
           "lakecolor": "rgb(17,17,17)",
           "landcolor": "rgb(17,17,17)",
           "showlakes": true,
           "showland": true,
           "subunitcolor": "#506784"
          },
          "hoverlabel": {
           "align": "left"
          },
          "hovermode": "closest",
          "mapbox": {
           "style": "dark"
          },
          "paper_bgcolor": "rgb(17,17,17)",
          "plot_bgcolor": "rgb(17,17,17)",
          "polar": {
           "angularaxis": {
            "gridcolor": "#506784",
            "linecolor": "#506784",
            "ticks": ""
           },
           "bgcolor": "rgb(17,17,17)",
           "radialaxis": {
            "gridcolor": "#506784",
            "linecolor": "#506784",
            "ticks": ""
           }
          },
          "scene": {
           "xaxis": {
            "backgroundcolor": "rgb(17,17,17)",
            "gridcolor": "#506784",
            "gridwidth": 2,
            "linecolor": "#506784",
            "showbackground": true,
            "ticks": "",
            "zerolinecolor": "#C8D4E3"
           },
           "yaxis": {
            "backgroundcolor": "rgb(17,17,17)",
            "gridcolor": "#506784",
            "gridwidth": 2,
            "linecolor": "#506784",
            "showbackground": true,
            "ticks": "",
            "zerolinecolor": "#C8D4E3"
           },
           "zaxis": {
            "backgroundcolor": "rgb(17,17,17)",
            "gridcolor": "#506784",
            "gridwidth": 2,
            "linecolor": "#506784",
            "showbackground": true,
            "ticks": "",
            "zerolinecolor": "#C8D4E3"
           }
          },
          "shapedefaults": {
           "line": {
            "color": "#f2f5fa"
           }
          },
          "sliderdefaults": {
           "bgcolor": "#C8D4E3",
           "bordercolor": "rgb(17,17,17)",
           "borderwidth": 1,
           "tickwidth": 0
          },
          "ternary": {
           "aaxis": {
            "gridcolor": "#506784",
            "linecolor": "#506784",
            "ticks": ""
           },
           "baxis": {
            "gridcolor": "#506784",
            "linecolor": "#506784",
            "ticks": ""
           },
           "bgcolor": "rgb(17,17,17)",
           "caxis": {
            "gridcolor": "#506784",
            "linecolor": "#506784",
            "ticks": ""
           }
          },
          "title": {
           "x": 0.05
          },
          "updatemenudefaults": {
           "bgcolor": "#506784",
           "borderwidth": 0
          },
          "xaxis": {
           "automargin": true,
           "gridcolor": "#283442",
           "linecolor": "#506784",
           "ticks": "",
           "title": {
            "standoff": 15
           },
           "zerolinecolor": "#283442",
           "zerolinewidth": 2
          },
          "yaxis": {
           "automargin": true,
           "gridcolor": "#283442",
           "linecolor": "#506784",
           "ticks": "",
           "title": {
            "standoff": 15
           },
           "zerolinecolor": "#283442",
           "zerolinewidth": 2
          }
         }
        },
        "title": {
         "text": "🔎 Correlation to TOP_20 — Season 2024"
        },
        "width": 1000,
        "xaxis": {
         "anchor": "y",
         "domain": [
          0,
          1
         ],
         "tickangle": -45,
         "title": {
          "text": "Feature"
         }
        },
        "yaxis": {
         "anchor": "x",
         "domain": [
          0,
          1
         ],
         "title": {
          "text": "Absolute Correlation to TOP_20"
         }
        }
       }
      }
     },
     "metadata": {},
     "output_type": "display_data"
    }
   ],
   "source": [
    "import plotly.express as px\n",
    "\n",
    "# Get the 4 most recent seasons (or fewer if not available)\n",
    "available_seasons = sorted(training_df[\"SEASON\"].unique())[-4:]\n",
    "\n",
    "# Dictionary to store correlation results\n",
    "correlation_frames = {}\n",
    "\n",
    "# Calculate correlations for each season\n",
    "for season in available_seasons:\n",
    "    df = training_df[training_df[\"SEASON\"] == season].copy()\n",
    "\n",
    "    # Numeric features only, drop final result\n",
    "    numeric = df.select_dtypes(include=[\"float64\", \"int64\"]).drop(columns=[\"FINAL_POS\", \"SEASON\"], errors=\"ignore\")\n",
    "\n",
    "    # Skip if TOP_20 is not present\n",
    "    if \"TOP_20\" not in numeric.columns:\n",
    "        continue\n",
    "\n",
    "    # Correlation with TOP_20\n",
    "    cor = numeric.corr().abs()[\"TOP_20\"].drop(\"TOP_20\", errors=\"ignore\").sort_values(ascending=False)\n",
    "    cor_df = cor.reset_index()\n",
    "    cor_df.columns = [\"Feature\", \"Correlation\"]\n",
    "    correlation_frames[season] = cor_df\n",
    "\n",
    "# Plot one bar chart per season\n",
    "for season, cor_df in correlation_frames.items():\n",
    "    fig = px.bar(\n",
    "        cor_df,\n",
    "        x=\"Feature\",\n",
    "        y=\"Correlation\",\n",
    "        title=f\"🔎 Correlation to TOP_20 — Season {int(season)}\",\n",
    "        height=500,\n",
    "        width=1000\n",
    "    )\n",
    "\n",
    "    fig.update_layout(\n",
    "        xaxis_title=\"Feature\",\n",
    "        yaxis_title=\"Absolute Correlation to TOP_20\",\n",
    "        template=\"plotly_dark\",\n",
    "        xaxis_tickangle=-45\n",
    "    )\n",
    "\n",
    "    fig.show()\n"
   ]
  },
  {
   "cell_type": "markdown",
   "id": "07c346c9",
   "metadata": {},
   "source": [
    "**Average of Last 4 Years**"
   ]
  },
  {
   "cell_type": "code",
   "execution_count": 26,
   "id": "aee0c2ea",
   "metadata": {},
   "outputs": [
    {
     "data": {
      "application/vnd.plotly.v1+json": {
       "config": {
        "plotlyServerURL": "https://plot.ly"
       },
       "data": [
        {
         "hovertemplate": "Feature=%{x}<br>Avg Correlation=%{y}<extra></extra>",
         "legendgroup": "",
         "marker": {
          "color": "#636efa",
          "pattern": {
           "shape": ""
          }
         },
         "name": "",
         "orientation": "v",
         "showlegend": false,
         "textposition": "auto",
         "type": "bar",
         "x": [
          "OWGR",
          "SGTTG",
          "SGTTG_RANK",
          "form_density",
          "PAR_4",
          "RECENT_FORM",
          "OWGR_RANK",
          "SGAPR",
          "PAR_4_RANK",
          "FEDEX_CUP_POINTS",
          "BIRDIES",
          "SGOTT",
          "SGAPR_RANK",
          "PAR_5",
          "VEGAS_ODDS",
          "SGOTT_RANK",
          "CUT_PERCENTAGE",
          "PAR_5_RANK",
          "GIR",
          "BIRDIES_RANK",
          "GIR_RANK",
          "TOTAL_DRIVING_RANK",
          "TOTAL_DRIVING",
          "SCRAMBLING",
          "CONSECUTIVE_CUTS",
          "PAR_3_RANK",
          "COURSE_HISTORY",
          "SCRAMBLING_RANK",
          "PAR_3",
          "SGATG_RANK",
          "SGP_RANK",
          "SGP",
          "SGATG",
          "adj_ch",
          "adj_form",
          "DRIVING_ACCURACY",
          "DRIVING_ACCURACY_RANK",
          "DRIVING_DISTANCE",
          "DRIVING_DISTANCE_RANK"
         ],
         "xaxis": "x",
         "y": {
          "bdata": "Jko14f562T8ImXjsRhTVP91dedGDDdQ/S1a5imC70j8GB04h0bbSP4FaHki67dE/N0kdIoMH0T8X3WgPUpTQPxNM/n2PddA/tj5YA1I90D/oVekSheHPP3SfARdhwM8/mEC4ENTEzj82HBWrUIfOP4T23O1HdM4/vlx36TBozD+lz8E0sg/MP/es1wCk/8s/oT1/ZTrKyz8lrc32JDDLP7jdov+V9ck/ysC0gR/UyT/J1dBBgk7JP5xQsKVwh8g/KuM2HdoLyD+yfZI72EXGP4Y0TD7IqMU/lrW3JT9/xT86tRm5LF7FP/9ZLZwmVMQ/34LdriwVwz9dIbQBx0XCP9cpuKUlMMI/XMGhs6UOwj/IGhDt9qvAP3yr8Wtw1ro/+gnbyiR2uD9UDOzNw222P4Z+5RPM2rI/",
          "dtype": "f8"
         },
         "yaxis": "y"
        }
       ],
       "layout": {
        "barmode": "relative",
        "height": 600,
        "legend": {
         "tracegroupgap": 0
        },
        "showlegend": false,
        "template": {
         "data": {
          "bar": [
           {
            "error_x": {
             "color": "#f2f5fa"
            },
            "error_y": {
             "color": "#f2f5fa"
            },
            "marker": {
             "line": {
              "color": "rgb(17,17,17)",
              "width": 0.5
             },
             "pattern": {
              "fillmode": "overlay",
              "size": 10,
              "solidity": 0.2
             }
            },
            "type": "bar"
           }
          ],
          "barpolar": [
           {
            "marker": {
             "line": {
              "color": "rgb(17,17,17)",
              "width": 0.5
             },
             "pattern": {
              "fillmode": "overlay",
              "size": 10,
              "solidity": 0.2
             }
            },
            "type": "barpolar"
           }
          ],
          "carpet": [
           {
            "aaxis": {
             "endlinecolor": "#A2B1C6",
             "gridcolor": "#506784",
             "linecolor": "#506784",
             "minorgridcolor": "#506784",
             "startlinecolor": "#A2B1C6"
            },
            "baxis": {
             "endlinecolor": "#A2B1C6",
             "gridcolor": "#506784",
             "linecolor": "#506784",
             "minorgridcolor": "#506784",
             "startlinecolor": "#A2B1C6"
            },
            "type": "carpet"
           }
          ],
          "choropleth": [
           {
            "colorbar": {
             "outlinewidth": 0,
             "ticks": ""
            },
            "type": "choropleth"
           }
          ],
          "contour": [
           {
            "colorbar": {
             "outlinewidth": 0,
             "ticks": ""
            },
            "colorscale": [
             [
              0,
              "#0d0887"
             ],
             [
              0.1111111111111111,
              "#46039f"
             ],
             [
              0.2222222222222222,
              "#7201a8"
             ],
             [
              0.3333333333333333,
              "#9c179e"
             ],
             [
              0.4444444444444444,
              "#bd3786"
             ],
             [
              0.5555555555555556,
              "#d8576b"
             ],
             [
              0.6666666666666666,
              "#ed7953"
             ],
             [
              0.7777777777777778,
              "#fb9f3a"
             ],
             [
              0.8888888888888888,
              "#fdca26"
             ],
             [
              1,
              "#f0f921"
             ]
            ],
            "type": "contour"
           }
          ],
          "contourcarpet": [
           {
            "colorbar": {
             "outlinewidth": 0,
             "ticks": ""
            },
            "type": "contourcarpet"
           }
          ],
          "heatmap": [
           {
            "colorbar": {
             "outlinewidth": 0,
             "ticks": ""
            },
            "colorscale": [
             [
              0,
              "#0d0887"
             ],
             [
              0.1111111111111111,
              "#46039f"
             ],
             [
              0.2222222222222222,
              "#7201a8"
             ],
             [
              0.3333333333333333,
              "#9c179e"
             ],
             [
              0.4444444444444444,
              "#bd3786"
             ],
             [
              0.5555555555555556,
              "#d8576b"
             ],
             [
              0.6666666666666666,
              "#ed7953"
             ],
             [
              0.7777777777777778,
              "#fb9f3a"
             ],
             [
              0.8888888888888888,
              "#fdca26"
             ],
             [
              1,
              "#f0f921"
             ]
            ],
            "type": "heatmap"
           }
          ],
          "histogram": [
           {
            "marker": {
             "pattern": {
              "fillmode": "overlay",
              "size": 10,
              "solidity": 0.2
             }
            },
            "type": "histogram"
           }
          ],
          "histogram2d": [
           {
            "colorbar": {
             "outlinewidth": 0,
             "ticks": ""
            },
            "colorscale": [
             [
              0,
              "#0d0887"
             ],
             [
              0.1111111111111111,
              "#46039f"
             ],
             [
              0.2222222222222222,
              "#7201a8"
             ],
             [
              0.3333333333333333,
              "#9c179e"
             ],
             [
              0.4444444444444444,
              "#bd3786"
             ],
             [
              0.5555555555555556,
              "#d8576b"
             ],
             [
              0.6666666666666666,
              "#ed7953"
             ],
             [
              0.7777777777777778,
              "#fb9f3a"
             ],
             [
              0.8888888888888888,
              "#fdca26"
             ],
             [
              1,
              "#f0f921"
             ]
            ],
            "type": "histogram2d"
           }
          ],
          "histogram2dcontour": [
           {
            "colorbar": {
             "outlinewidth": 0,
             "ticks": ""
            },
            "colorscale": [
             [
              0,
              "#0d0887"
             ],
             [
              0.1111111111111111,
              "#46039f"
             ],
             [
              0.2222222222222222,
              "#7201a8"
             ],
             [
              0.3333333333333333,
              "#9c179e"
             ],
             [
              0.4444444444444444,
              "#bd3786"
             ],
             [
              0.5555555555555556,
              "#d8576b"
             ],
             [
              0.6666666666666666,
              "#ed7953"
             ],
             [
              0.7777777777777778,
              "#fb9f3a"
             ],
             [
              0.8888888888888888,
              "#fdca26"
             ],
             [
              1,
              "#f0f921"
             ]
            ],
            "type": "histogram2dcontour"
           }
          ],
          "mesh3d": [
           {
            "colorbar": {
             "outlinewidth": 0,
             "ticks": ""
            },
            "type": "mesh3d"
           }
          ],
          "parcoords": [
           {
            "line": {
             "colorbar": {
              "outlinewidth": 0,
              "ticks": ""
             }
            },
            "type": "parcoords"
           }
          ],
          "pie": [
           {
            "automargin": true,
            "type": "pie"
           }
          ],
          "scatter": [
           {
            "marker": {
             "line": {
              "color": "#283442"
             }
            },
            "type": "scatter"
           }
          ],
          "scatter3d": [
           {
            "line": {
             "colorbar": {
              "outlinewidth": 0,
              "ticks": ""
             }
            },
            "marker": {
             "colorbar": {
              "outlinewidth": 0,
              "ticks": ""
             }
            },
            "type": "scatter3d"
           }
          ],
          "scattercarpet": [
           {
            "marker": {
             "colorbar": {
              "outlinewidth": 0,
              "ticks": ""
             }
            },
            "type": "scattercarpet"
           }
          ],
          "scattergeo": [
           {
            "marker": {
             "colorbar": {
              "outlinewidth": 0,
              "ticks": ""
             }
            },
            "type": "scattergeo"
           }
          ],
          "scattergl": [
           {
            "marker": {
             "line": {
              "color": "#283442"
             }
            },
            "type": "scattergl"
           }
          ],
          "scattermap": [
           {
            "marker": {
             "colorbar": {
              "outlinewidth": 0,
              "ticks": ""
             }
            },
            "type": "scattermap"
           }
          ],
          "scattermapbox": [
           {
            "marker": {
             "colorbar": {
              "outlinewidth": 0,
              "ticks": ""
             }
            },
            "type": "scattermapbox"
           }
          ],
          "scatterpolar": [
           {
            "marker": {
             "colorbar": {
              "outlinewidth": 0,
              "ticks": ""
             }
            },
            "type": "scatterpolar"
           }
          ],
          "scatterpolargl": [
           {
            "marker": {
             "colorbar": {
              "outlinewidth": 0,
              "ticks": ""
             }
            },
            "type": "scatterpolargl"
           }
          ],
          "scatterternary": [
           {
            "marker": {
             "colorbar": {
              "outlinewidth": 0,
              "ticks": ""
             }
            },
            "type": "scatterternary"
           }
          ],
          "surface": [
           {
            "colorbar": {
             "outlinewidth": 0,
             "ticks": ""
            },
            "colorscale": [
             [
              0,
              "#0d0887"
             ],
             [
              0.1111111111111111,
              "#46039f"
             ],
             [
              0.2222222222222222,
              "#7201a8"
             ],
             [
              0.3333333333333333,
              "#9c179e"
             ],
             [
              0.4444444444444444,
              "#bd3786"
             ],
             [
              0.5555555555555556,
              "#d8576b"
             ],
             [
              0.6666666666666666,
              "#ed7953"
             ],
             [
              0.7777777777777778,
              "#fb9f3a"
             ],
             [
              0.8888888888888888,
              "#fdca26"
             ],
             [
              1,
              "#f0f921"
             ]
            ],
            "type": "surface"
           }
          ],
          "table": [
           {
            "cells": {
             "fill": {
              "color": "#506784"
             },
             "line": {
              "color": "rgb(17,17,17)"
             }
            },
            "header": {
             "fill": {
              "color": "#2a3f5f"
             },
             "line": {
              "color": "rgb(17,17,17)"
             }
            },
            "type": "table"
           }
          ]
         },
         "layout": {
          "annotationdefaults": {
           "arrowcolor": "#f2f5fa",
           "arrowhead": 0,
           "arrowwidth": 1
          },
          "autotypenumbers": "strict",
          "coloraxis": {
           "colorbar": {
            "outlinewidth": 0,
            "ticks": ""
           }
          },
          "colorscale": {
           "diverging": [
            [
             0,
             "#8e0152"
            ],
            [
             0.1,
             "#c51b7d"
            ],
            [
             0.2,
             "#de77ae"
            ],
            [
             0.3,
             "#f1b6da"
            ],
            [
             0.4,
             "#fde0ef"
            ],
            [
             0.5,
             "#f7f7f7"
            ],
            [
             0.6,
             "#e6f5d0"
            ],
            [
             0.7,
             "#b8e186"
            ],
            [
             0.8,
             "#7fbc41"
            ],
            [
             0.9,
             "#4d9221"
            ],
            [
             1,
             "#276419"
            ]
           ],
           "sequential": [
            [
             0,
             "#0d0887"
            ],
            [
             0.1111111111111111,
             "#46039f"
            ],
            [
             0.2222222222222222,
             "#7201a8"
            ],
            [
             0.3333333333333333,
             "#9c179e"
            ],
            [
             0.4444444444444444,
             "#bd3786"
            ],
            [
             0.5555555555555556,
             "#d8576b"
            ],
            [
             0.6666666666666666,
             "#ed7953"
            ],
            [
             0.7777777777777778,
             "#fb9f3a"
            ],
            [
             0.8888888888888888,
             "#fdca26"
            ],
            [
             1,
             "#f0f921"
            ]
           ],
           "sequentialminus": [
            [
             0,
             "#0d0887"
            ],
            [
             0.1111111111111111,
             "#46039f"
            ],
            [
             0.2222222222222222,
             "#7201a8"
            ],
            [
             0.3333333333333333,
             "#9c179e"
            ],
            [
             0.4444444444444444,
             "#bd3786"
            ],
            [
             0.5555555555555556,
             "#d8576b"
            ],
            [
             0.6666666666666666,
             "#ed7953"
            ],
            [
             0.7777777777777778,
             "#fb9f3a"
            ],
            [
             0.8888888888888888,
             "#fdca26"
            ],
            [
             1,
             "#f0f921"
            ]
           ]
          },
          "colorway": [
           "#636efa",
           "#EF553B",
           "#00cc96",
           "#ab63fa",
           "#FFA15A",
           "#19d3f3",
           "#FF6692",
           "#B6E880",
           "#FF97FF",
           "#FECB52"
          ],
          "font": {
           "color": "#f2f5fa"
          },
          "geo": {
           "bgcolor": "rgb(17,17,17)",
           "lakecolor": "rgb(17,17,17)",
           "landcolor": "rgb(17,17,17)",
           "showlakes": true,
           "showland": true,
           "subunitcolor": "#506784"
          },
          "hoverlabel": {
           "align": "left"
          },
          "hovermode": "closest",
          "mapbox": {
           "style": "dark"
          },
          "paper_bgcolor": "rgb(17,17,17)",
          "plot_bgcolor": "rgb(17,17,17)",
          "polar": {
           "angularaxis": {
            "gridcolor": "#506784",
            "linecolor": "#506784",
            "ticks": ""
           },
           "bgcolor": "rgb(17,17,17)",
           "radialaxis": {
            "gridcolor": "#506784",
            "linecolor": "#506784",
            "ticks": ""
           }
          },
          "scene": {
           "xaxis": {
            "backgroundcolor": "rgb(17,17,17)",
            "gridcolor": "#506784",
            "gridwidth": 2,
            "linecolor": "#506784",
            "showbackground": true,
            "ticks": "",
            "zerolinecolor": "#C8D4E3"
           },
           "yaxis": {
            "backgroundcolor": "rgb(17,17,17)",
            "gridcolor": "#506784",
            "gridwidth": 2,
            "linecolor": "#506784",
            "showbackground": true,
            "ticks": "",
            "zerolinecolor": "#C8D4E3"
           },
           "zaxis": {
            "backgroundcolor": "rgb(17,17,17)",
            "gridcolor": "#506784",
            "gridwidth": 2,
            "linecolor": "#506784",
            "showbackground": true,
            "ticks": "",
            "zerolinecolor": "#C8D4E3"
           }
          },
          "shapedefaults": {
           "line": {
            "color": "#f2f5fa"
           }
          },
          "sliderdefaults": {
           "bgcolor": "#C8D4E3",
           "bordercolor": "rgb(17,17,17)",
           "borderwidth": 1,
           "tickwidth": 0
          },
          "ternary": {
           "aaxis": {
            "gridcolor": "#506784",
            "linecolor": "#506784",
            "ticks": ""
           },
           "baxis": {
            "gridcolor": "#506784",
            "linecolor": "#506784",
            "ticks": ""
           },
           "bgcolor": "rgb(17,17,17)",
           "caxis": {
            "gridcolor": "#506784",
            "linecolor": "#506784",
            "ticks": ""
           }
          },
          "title": {
           "x": 0.05
          },
          "updatemenudefaults": {
           "bgcolor": "#506784",
           "borderwidth": 0
          },
          "xaxis": {
           "automargin": true,
           "gridcolor": "#283442",
           "linecolor": "#506784",
           "ticks": "",
           "title": {
            "standoff": 15
           },
           "zerolinecolor": "#283442",
           "zerolinewidth": 2
          },
          "yaxis": {
           "automargin": true,
           "gridcolor": "#283442",
           "linecolor": "#506784",
           "ticks": "",
           "title": {
            "standoff": 15
           },
           "zerolinecolor": "#283442",
           "zerolinewidth": 2
          }
         }
        },
        "title": {
         "text": "Average Correlation to TOP_20 (Last 4 Seasons)"
        },
        "width": 1000,
        "xaxis": {
         "anchor": "y",
         "domain": [
          0,
          1
         ],
         "tickangle": -45,
         "title": {
          "text": "Feature"
         }
        },
        "yaxis": {
         "anchor": "x",
         "domain": [
          0,
          1
         ],
         "title": {
          "text": "Avg Correlation"
         }
        }
       }
      }
     },
     "metadata": {},
     "output_type": "display_data"
    }
   ],
   "source": [
    "import pandas as pd\n",
    "import numpy as np\n",
    "import plotly.express as px\n",
    "\n",
    "# === Rebuild correlation matrices for the 4 most recent seasons ===\n",
    "cor = {}\n",
    "recent_seasons = sorted(training_df[\"SEASON\"].unique())[-4:]\n",
    "\n",
    "for season in recent_seasons:\n",
    "    df_season = training_df[training_df[\"SEASON\"] == season].copy()\n",
    "    numeric_cols = df_season.select_dtypes(include=[\"float64\", \"int64\"])\n",
    "    cor[int(season)] = numeric_cols.corr().abs()\n",
    "\n",
    "# === Combine into one summary DataFrame ===\n",
    "cor_df = pd.DataFrame()\n",
    "\n",
    "for season in recent_seasons:\n",
    "    df = cor[season].reset_index()\n",
    "    if \"TOP_20\" not in df.columns:\n",
    "        continue\n",
    "    temp = df[[\"index\", \"TOP_20\"]].copy()\n",
    "    temp = temp.rename(columns={\"TOP_20\": str(season)})\n",
    "    if cor_df.empty:\n",
    "        cor_df = temp\n",
    "    else:\n",
    "        cor_df = cor_df.merge(temp, on=\"index\", how=\"outer\")\n",
    "\n",
    "# Drop target and metadata rows\n",
    "cor_df = cor_df[~cor_df[\"index\"].isin([\"TOP_20\", \"FINAL_POS\", \"SEASON\"])]\n",
    "\n",
    "# Compute average correlation across seasons\n",
    "cor_df[\"AVERAGE\"] = cor_df.drop(columns=[\"index\"]).mean(axis=1)\n",
    "cor_df = cor_df.sort_values(by=\"AVERAGE\", ascending=False)\n",
    "\n",
    "# === Plotly Bar Chart ===\n",
    "fig = px.bar(\n",
    "    cor_df,\n",
    "    x=\"index\",\n",
    "    y=\"AVERAGE\",\n",
    "    title=\"Average Correlation to TOP_20 (Last 4 Seasons)\",\n",
    "    labels={\"index\": \"Feature\", \"AVERAGE\": \"Avg Correlation\"},\n",
    "    template=\"plotly_dark\"\n",
    ")\n",
    "\n",
    "fig.update_layout(\n",
    "    xaxis_tickangle=-45,\n",
    "    height=600,\n",
    "    width=1000,\n",
    "    showlegend=False\n",
    ")\n",
    "\n",
    "fig.show()\n"
   ]
  },
  {
   "cell_type": "markdown",
   "id": "b551789e",
   "metadata": {},
   "source": [
    "# ML Model"
   ]
  },
  {
   "cell_type": "markdown",
   "id": "d7df2d9b",
   "metadata": {},
   "source": [
    "## Predictors"
   ]
  },
  {
   "cell_type": "code",
   "execution_count": 27,
   "id": "7de6b0ed",
   "metadata": {},
   "outputs": [
    {
     "name": "stdout",
     "output_type": "stream",
     "text": [
      "Selected 39 features:\n",
      " ['SGTTG_RANK', 'SGTTG', 'SGOTT_RANK', 'SGOTT', 'SGAPR_RANK', 'SGAPR', 'SGATG_RANK', 'SGATG', 'SGP_RANK', 'SGP', 'BIRDIES_RANK', 'BIRDIES', 'PAR_3_RANK', 'PAR_3', 'PAR_4_RANK', 'PAR_4', 'PAR_5_RANK', 'PAR_5', 'TOTAL_DRIVING_RANK', 'TOTAL_DRIVING', 'DRIVING_DISTANCE_RANK', 'DRIVING_DISTANCE', 'DRIVING_ACCURACY_RANK', 'DRIVING_ACCURACY', 'GIR_RANK', 'GIR', 'SCRAMBLING_RANK', 'SCRAMBLING', 'OWGR_RANK', 'OWGR', 'VEGAS_ODDS', 'CUT_PERCENTAGE', 'FEDEX_CUP_POINTS', 'form_density', 'CONSECUTIVE_CUTS', 'RECENT_FORM', 'adj_form', 'COURSE_HISTORY', 'adj_ch']\n"
     ]
    }
   ],
   "source": [
    "# === Define Features and Target ===\n",
    "target_col = \"TOP_20\"\n",
    "\n",
    "# Columns to exclude from features\n",
    "exclude = [\n",
    "    \"PLAYER\", \"TOURNAMENT\", \"COURSE\", \"ENDING_DATE\", \"SEASON\", \"TOURN_ID\",\n",
    "    \"TOP_20\", \"FINAL_POS\"  \n",
    "]\n",
    "\n",
    "# Select numeric feature columns\n",
    "feature_cols = [\n",
    "    col for col in training_df.columns\n",
    "    if col not in exclude and training_df[col].dtype in [np.float64, np.int64]\n",
    "]\n",
    "\n",
    "print(f\"Selected {len(feature_cols)} features:\\n\", feature_cols)"
   ]
  },
  {
   "cell_type": "markdown",
   "id": "8cb568b3",
   "metadata": {},
   "source": [
    "### Random Forest\n",
    "Initial default model before hyperparameter tuning.\n",
    "\n",
    "This one actually performed really well (ROC AUC above 0.85).  Strangely doing hyperparameter tuning hurt the model (less than 0.7), so I removed that step and we will just use this default model.  This does cross-validation testing on 5 folds to ensure robust train/test splits."
   ]
  },
  {
   "cell_type": "code",
   "execution_count": 28,
   "id": "4879d3d9",
   "metadata": {},
   "outputs": [
    {
     "name": "stdout",
     "output_type": "stream",
     "text": [
      "📊 Random Forest (All Features)\n",
      "Cross-validation scores: [0.94702135 0.94710251 0.94432842 0.92370878 0.89802699]\n",
      "Average ROC AUC score: 0.93\n"
     ]
    }
   ],
   "source": [
    "from sklearn.ensemble import RandomForestClassifier\n",
    "from sklearn.model_selection import cross_val_score, StratifiedKFold\n",
    "from sklearn.preprocessing import StandardScaler\n",
    "from imblearn.over_sampling import SMOTE\n",
    "from imblearn.under_sampling import RandomUnderSampler\n",
    "from imblearn.pipeline import Pipeline\n",
    "\n",
    "# === Standardize features ===\n",
    "scaler = StandardScaler()\n",
    "X_rf_std = scaler.fit_transform(training_df[feature_cols])\n",
    "y_rf = training_df[\"TOP_20\"]\n",
    "\n",
    "# === Balance the dataset with SMOTE and undersampling ===\n",
    "over = SMOTE(sampling_strategy=0.5, k_neighbors=3)\n",
    "under = RandomUnderSampler(sampling_strategy=0.5)\n",
    "pipeline = Pipeline([(\"o\", over), (\"u\", under)])\n",
    "X_rf_bal, y_rf_bal = pipeline.fit_resample(X_rf_std, y_rf)\n",
    "\n",
    "# === Define and evaluate Random Forest ===\n",
    "rf = RandomForestClassifier(n_estimators=100, random_state=42)\n",
    "cv = StratifiedKFold(n_splits=5, shuffle=True, random_state=42)\n",
    "scores = cross_val_score(rf, X_rf_bal, y_rf_bal, cv=cv, scoring=\"roc_auc\")\n",
    "\n",
    "print(\"📊 Random Forest (All Features)\")\n",
    "print(\"Cross-validation scores:\", scores)\n",
    "print(\"Average ROC AUC score: {:.2f}\".format(scores.mean()))\n"
   ]
  },
  {
   "cell_type": "markdown",
   "id": "4fe9c753",
   "metadata": {},
   "source": [
    "Random Forest Training & Feature Importance\n",
    "\n",
    "Now we train on all the data (no longer cross-validation folds) and extract the feature importance to see how it compares with linear correlations.\n"
   ]
  },
  {
   "cell_type": "code",
   "execution_count": 29,
   "id": "74c2a8b7",
   "metadata": {},
   "outputs": [
    {
     "data": {
      "application/vnd.plotly.v1+json": {
       "config": {
        "plotlyServerURL": "https://plot.ly"
       },
       "data": [
        {
         "hovertemplate": "Feature=%{x}<br>Importance=%{y}<extra></extra>",
         "legendgroup": "",
         "marker": {
          "color": "#636efa",
          "pattern": {
           "shape": ""
          }
         },
         "name": "",
         "orientation": "v",
         "showlegend": false,
         "textposition": "auto",
         "type": "bar",
         "x": [
          "OWGR",
          "OWGR_RANK",
          "VEGAS_ODDS",
          "SGTTG",
          "CONSECUTIVE_CUTS",
          "SGTTG_RANK",
          "form_density",
          "RECENT_FORM",
          "adj_form",
          "PAR_4",
          "CUT_PERCENTAGE",
          "FEDEX_CUP_POINTS",
          "SGP_RANK",
          "SGAPR_RANK",
          "GIR_RANK",
          "TOTAL_DRIVING",
          "COURSE_HISTORY",
          "TOTAL_DRIVING_RANK",
          "PAR_4_RANK",
          "SGATG_RANK",
          "SGP",
          "SGAPR",
          "DRIVING_ACCURACY",
          "GIR",
          "adj_ch",
          "DRIVING_ACCURACY_RANK",
          "BIRDIES_RANK",
          "SGOTT",
          "PAR_3_RANK",
          "BIRDIES",
          "SGATG",
          "SGOTT_RANK",
          "DRIVING_DISTANCE",
          "PAR_5_RANK",
          "PAR_5",
          "DRIVING_DISTANCE_RANK",
          "PAR_3",
          "SCRAMBLING",
          "SCRAMBLING_RANK"
         ],
         "xaxis": "x",
         "y": {
          "bdata": "HA4PH8s1sz/TIEg+TQKwP8Bfyv0wdqs/HdI1xtPopD9yRev1hbijP26gpX6nBqM/5n7ZXFaVnz/YNNtJeYSdPyNXJvbI55o/EBWXCHy+mT+DEsu7Q3+ZP+fF/+Y1DZk/rtwSoDG8mD8KZqYsPKaXP3GQ2Z7ynJc/u9Vdl890lz9oofU1BCiXPx7u34oby5Y/OtdNfo9SlT/weX9wWiOVP8q7eNI0FpU/CGTdVSgSlT+aRCIRS+aUPyyUqdvon5Q/73kHcPw9lD8ZKPV4ArGTP1a5v/dTgpM/hzckGzqBkz+ITNnvM1eTP5J7hVb1SJM/axNJo8VHkz8i6RkHuD+TP1UaL1x6IJM/yKw8yGnakj+beKor3IGRPzO+aYUXHpE/Qz54NVTNkD9bFkqfsVaQP2vgU+WeY44/",
          "dtype": "f8"
         },
         "yaxis": "y"
        }
       ],
       "layout": {
        "barmode": "relative",
        "legend": {
         "tracegroupgap": 0
        },
        "template": {
         "data": {
          "bar": [
           {
            "error_x": {
             "color": "#f2f5fa"
            },
            "error_y": {
             "color": "#f2f5fa"
            },
            "marker": {
             "line": {
              "color": "rgb(17,17,17)",
              "width": 0.5
             },
             "pattern": {
              "fillmode": "overlay",
              "size": 10,
              "solidity": 0.2
             }
            },
            "type": "bar"
           }
          ],
          "barpolar": [
           {
            "marker": {
             "line": {
              "color": "rgb(17,17,17)",
              "width": 0.5
             },
             "pattern": {
              "fillmode": "overlay",
              "size": 10,
              "solidity": 0.2
             }
            },
            "type": "barpolar"
           }
          ],
          "carpet": [
           {
            "aaxis": {
             "endlinecolor": "#A2B1C6",
             "gridcolor": "#506784",
             "linecolor": "#506784",
             "minorgridcolor": "#506784",
             "startlinecolor": "#A2B1C6"
            },
            "baxis": {
             "endlinecolor": "#A2B1C6",
             "gridcolor": "#506784",
             "linecolor": "#506784",
             "minorgridcolor": "#506784",
             "startlinecolor": "#A2B1C6"
            },
            "type": "carpet"
           }
          ],
          "choropleth": [
           {
            "colorbar": {
             "outlinewidth": 0,
             "ticks": ""
            },
            "type": "choropleth"
           }
          ],
          "contour": [
           {
            "colorbar": {
             "outlinewidth": 0,
             "ticks": ""
            },
            "colorscale": [
             [
              0,
              "#0d0887"
             ],
             [
              0.1111111111111111,
              "#46039f"
             ],
             [
              0.2222222222222222,
              "#7201a8"
             ],
             [
              0.3333333333333333,
              "#9c179e"
             ],
             [
              0.4444444444444444,
              "#bd3786"
             ],
             [
              0.5555555555555556,
              "#d8576b"
             ],
             [
              0.6666666666666666,
              "#ed7953"
             ],
             [
              0.7777777777777778,
              "#fb9f3a"
             ],
             [
              0.8888888888888888,
              "#fdca26"
             ],
             [
              1,
              "#f0f921"
             ]
            ],
            "type": "contour"
           }
          ],
          "contourcarpet": [
           {
            "colorbar": {
             "outlinewidth": 0,
             "ticks": ""
            },
            "type": "contourcarpet"
           }
          ],
          "heatmap": [
           {
            "colorbar": {
             "outlinewidth": 0,
             "ticks": ""
            },
            "colorscale": [
             [
              0,
              "#0d0887"
             ],
             [
              0.1111111111111111,
              "#46039f"
             ],
             [
              0.2222222222222222,
              "#7201a8"
             ],
             [
              0.3333333333333333,
              "#9c179e"
             ],
             [
              0.4444444444444444,
              "#bd3786"
             ],
             [
              0.5555555555555556,
              "#d8576b"
             ],
             [
              0.6666666666666666,
              "#ed7953"
             ],
             [
              0.7777777777777778,
              "#fb9f3a"
             ],
             [
              0.8888888888888888,
              "#fdca26"
             ],
             [
              1,
              "#f0f921"
             ]
            ],
            "type": "heatmap"
           }
          ],
          "histogram": [
           {
            "marker": {
             "pattern": {
              "fillmode": "overlay",
              "size": 10,
              "solidity": 0.2
             }
            },
            "type": "histogram"
           }
          ],
          "histogram2d": [
           {
            "colorbar": {
             "outlinewidth": 0,
             "ticks": ""
            },
            "colorscale": [
             [
              0,
              "#0d0887"
             ],
             [
              0.1111111111111111,
              "#46039f"
             ],
             [
              0.2222222222222222,
              "#7201a8"
             ],
             [
              0.3333333333333333,
              "#9c179e"
             ],
             [
              0.4444444444444444,
              "#bd3786"
             ],
             [
              0.5555555555555556,
              "#d8576b"
             ],
             [
              0.6666666666666666,
              "#ed7953"
             ],
             [
              0.7777777777777778,
              "#fb9f3a"
             ],
             [
              0.8888888888888888,
              "#fdca26"
             ],
             [
              1,
              "#f0f921"
             ]
            ],
            "type": "histogram2d"
           }
          ],
          "histogram2dcontour": [
           {
            "colorbar": {
             "outlinewidth": 0,
             "ticks": ""
            },
            "colorscale": [
             [
              0,
              "#0d0887"
             ],
             [
              0.1111111111111111,
              "#46039f"
             ],
             [
              0.2222222222222222,
              "#7201a8"
             ],
             [
              0.3333333333333333,
              "#9c179e"
             ],
             [
              0.4444444444444444,
              "#bd3786"
             ],
             [
              0.5555555555555556,
              "#d8576b"
             ],
             [
              0.6666666666666666,
              "#ed7953"
             ],
             [
              0.7777777777777778,
              "#fb9f3a"
             ],
             [
              0.8888888888888888,
              "#fdca26"
             ],
             [
              1,
              "#f0f921"
             ]
            ],
            "type": "histogram2dcontour"
           }
          ],
          "mesh3d": [
           {
            "colorbar": {
             "outlinewidth": 0,
             "ticks": ""
            },
            "type": "mesh3d"
           }
          ],
          "parcoords": [
           {
            "line": {
             "colorbar": {
              "outlinewidth": 0,
              "ticks": ""
             }
            },
            "type": "parcoords"
           }
          ],
          "pie": [
           {
            "automargin": true,
            "type": "pie"
           }
          ],
          "scatter": [
           {
            "marker": {
             "line": {
              "color": "#283442"
             }
            },
            "type": "scatter"
           }
          ],
          "scatter3d": [
           {
            "line": {
             "colorbar": {
              "outlinewidth": 0,
              "ticks": ""
             }
            },
            "marker": {
             "colorbar": {
              "outlinewidth": 0,
              "ticks": ""
             }
            },
            "type": "scatter3d"
           }
          ],
          "scattercarpet": [
           {
            "marker": {
             "colorbar": {
              "outlinewidth": 0,
              "ticks": ""
             }
            },
            "type": "scattercarpet"
           }
          ],
          "scattergeo": [
           {
            "marker": {
             "colorbar": {
              "outlinewidth": 0,
              "ticks": ""
             }
            },
            "type": "scattergeo"
           }
          ],
          "scattergl": [
           {
            "marker": {
             "line": {
              "color": "#283442"
             }
            },
            "type": "scattergl"
           }
          ],
          "scattermap": [
           {
            "marker": {
             "colorbar": {
              "outlinewidth": 0,
              "ticks": ""
             }
            },
            "type": "scattermap"
           }
          ],
          "scattermapbox": [
           {
            "marker": {
             "colorbar": {
              "outlinewidth": 0,
              "ticks": ""
             }
            },
            "type": "scattermapbox"
           }
          ],
          "scatterpolar": [
           {
            "marker": {
             "colorbar": {
              "outlinewidth": 0,
              "ticks": ""
             }
            },
            "type": "scatterpolar"
           }
          ],
          "scatterpolargl": [
           {
            "marker": {
             "colorbar": {
              "outlinewidth": 0,
              "ticks": ""
             }
            },
            "type": "scatterpolargl"
           }
          ],
          "scatterternary": [
           {
            "marker": {
             "colorbar": {
              "outlinewidth": 0,
              "ticks": ""
             }
            },
            "type": "scatterternary"
           }
          ],
          "surface": [
           {
            "colorbar": {
             "outlinewidth": 0,
             "ticks": ""
            },
            "colorscale": [
             [
              0,
              "#0d0887"
             ],
             [
              0.1111111111111111,
              "#46039f"
             ],
             [
              0.2222222222222222,
              "#7201a8"
             ],
             [
              0.3333333333333333,
              "#9c179e"
             ],
             [
              0.4444444444444444,
              "#bd3786"
             ],
             [
              0.5555555555555556,
              "#d8576b"
             ],
             [
              0.6666666666666666,
              "#ed7953"
             ],
             [
              0.7777777777777778,
              "#fb9f3a"
             ],
             [
              0.8888888888888888,
              "#fdca26"
             ],
             [
              1,
              "#f0f921"
             ]
            ],
            "type": "surface"
           }
          ],
          "table": [
           {
            "cells": {
             "fill": {
              "color": "#506784"
             },
             "line": {
              "color": "rgb(17,17,17)"
             }
            },
            "header": {
             "fill": {
              "color": "#2a3f5f"
             },
             "line": {
              "color": "rgb(17,17,17)"
             }
            },
            "type": "table"
           }
          ]
         },
         "layout": {
          "annotationdefaults": {
           "arrowcolor": "#f2f5fa",
           "arrowhead": 0,
           "arrowwidth": 1
          },
          "autotypenumbers": "strict",
          "coloraxis": {
           "colorbar": {
            "outlinewidth": 0,
            "ticks": ""
           }
          },
          "colorscale": {
           "diverging": [
            [
             0,
             "#8e0152"
            ],
            [
             0.1,
             "#c51b7d"
            ],
            [
             0.2,
             "#de77ae"
            ],
            [
             0.3,
             "#f1b6da"
            ],
            [
             0.4,
             "#fde0ef"
            ],
            [
             0.5,
             "#f7f7f7"
            ],
            [
             0.6,
             "#e6f5d0"
            ],
            [
             0.7,
             "#b8e186"
            ],
            [
             0.8,
             "#7fbc41"
            ],
            [
             0.9,
             "#4d9221"
            ],
            [
             1,
             "#276419"
            ]
           ],
           "sequential": [
            [
             0,
             "#0d0887"
            ],
            [
             0.1111111111111111,
             "#46039f"
            ],
            [
             0.2222222222222222,
             "#7201a8"
            ],
            [
             0.3333333333333333,
             "#9c179e"
            ],
            [
             0.4444444444444444,
             "#bd3786"
            ],
            [
             0.5555555555555556,
             "#d8576b"
            ],
            [
             0.6666666666666666,
             "#ed7953"
            ],
            [
             0.7777777777777778,
             "#fb9f3a"
            ],
            [
             0.8888888888888888,
             "#fdca26"
            ],
            [
             1,
             "#f0f921"
            ]
           ],
           "sequentialminus": [
            [
             0,
             "#0d0887"
            ],
            [
             0.1111111111111111,
             "#46039f"
            ],
            [
             0.2222222222222222,
             "#7201a8"
            ],
            [
             0.3333333333333333,
             "#9c179e"
            ],
            [
             0.4444444444444444,
             "#bd3786"
            ],
            [
             0.5555555555555556,
             "#d8576b"
            ],
            [
             0.6666666666666666,
             "#ed7953"
            ],
            [
             0.7777777777777778,
             "#fb9f3a"
            ],
            [
             0.8888888888888888,
             "#fdca26"
            ],
            [
             1,
             "#f0f921"
            ]
           ]
          },
          "colorway": [
           "#636efa",
           "#EF553B",
           "#00cc96",
           "#ab63fa",
           "#FFA15A",
           "#19d3f3",
           "#FF6692",
           "#B6E880",
           "#FF97FF",
           "#FECB52"
          ],
          "font": {
           "color": "#f2f5fa"
          },
          "geo": {
           "bgcolor": "rgb(17,17,17)",
           "lakecolor": "rgb(17,17,17)",
           "landcolor": "rgb(17,17,17)",
           "showlakes": true,
           "showland": true,
           "subunitcolor": "#506784"
          },
          "hoverlabel": {
           "align": "left"
          },
          "hovermode": "closest",
          "mapbox": {
           "style": "dark"
          },
          "paper_bgcolor": "rgb(17,17,17)",
          "plot_bgcolor": "rgb(17,17,17)",
          "polar": {
           "angularaxis": {
            "gridcolor": "#506784",
            "linecolor": "#506784",
            "ticks": ""
           },
           "bgcolor": "rgb(17,17,17)",
           "radialaxis": {
            "gridcolor": "#506784",
            "linecolor": "#506784",
            "ticks": ""
           }
          },
          "scene": {
           "xaxis": {
            "backgroundcolor": "rgb(17,17,17)",
            "gridcolor": "#506784",
            "gridwidth": 2,
            "linecolor": "#506784",
            "showbackground": true,
            "ticks": "",
            "zerolinecolor": "#C8D4E3"
           },
           "yaxis": {
            "backgroundcolor": "rgb(17,17,17)",
            "gridcolor": "#506784",
            "gridwidth": 2,
            "linecolor": "#506784",
            "showbackground": true,
            "ticks": "",
            "zerolinecolor": "#C8D4E3"
           },
           "zaxis": {
            "backgroundcolor": "rgb(17,17,17)",
            "gridcolor": "#506784",
            "gridwidth": 2,
            "linecolor": "#506784",
            "showbackground": true,
            "ticks": "",
            "zerolinecolor": "#C8D4E3"
           }
          },
          "shapedefaults": {
           "line": {
            "color": "#f2f5fa"
           }
          },
          "sliderdefaults": {
           "bgcolor": "#C8D4E3",
           "bordercolor": "rgb(17,17,17)",
           "borderwidth": 1,
           "tickwidth": 0
          },
          "ternary": {
           "aaxis": {
            "gridcolor": "#506784",
            "linecolor": "#506784",
            "ticks": ""
           },
           "baxis": {
            "gridcolor": "#506784",
            "linecolor": "#506784",
            "ticks": ""
           },
           "bgcolor": "rgb(17,17,17)",
           "caxis": {
            "gridcolor": "#506784",
            "linecolor": "#506784",
            "ticks": ""
           }
          },
          "title": {
           "x": 0.05
          },
          "updatemenudefaults": {
           "bgcolor": "#506784",
           "borderwidth": 0
          },
          "xaxis": {
           "automargin": true,
           "gridcolor": "#283442",
           "linecolor": "#506784",
           "ticks": "",
           "title": {
            "standoff": 15
           },
           "zerolinecolor": "#283442",
           "zerolinewidth": 2
          },
          "yaxis": {
           "automargin": true,
           "gridcolor": "#283442",
           "linecolor": "#506784",
           "ticks": "",
           "title": {
            "standoff": 15
           },
           "zerolinecolor": "#283442",
           "zerolinewidth": 2
          }
         }
        },
        "title": {
         "text": "Random Forest Feature Importances"
        },
        "xaxis": {
         "anchor": "y",
         "domain": [
          0,
          1
         ],
         "tickangle": -45,
         "title": {
          "text": "Feature"
         }
        },
        "yaxis": {
         "anchor": "x",
         "domain": [
          0,
          1
         ],
         "title": {
          "text": "Importance"
         }
        }
       }
      }
     },
     "metadata": {},
     "output_type": "display_data"
    }
   ],
   "source": [
    "from sklearn.ensemble import RandomForestClassifier\n",
    "from sklearn.calibration import CalibratedClassifierCV\n",
    "from sklearn.preprocessing import StandardScaler\n",
    "from imblearn.pipeline import Pipeline\n",
    "from imblearn.over_sampling import SMOTE\n",
    "from imblearn.under_sampling import RandomUnderSampler\n",
    "import pandas as pd\n",
    "import plotly.express as px\n",
    "\n",
    "# === Resample the full dataset ===\n",
    "over = SMOTE(sampling_strategy=0.5, k_neighbors=3)\n",
    "under = RandomUnderSampler(sampling_strategy=0.5)\n",
    "resample_pipeline = Pipeline([(\"o\", over), (\"u\", under)])\n",
    "X_all_resampled, y_all_resampled = resample_pipeline.fit_resample(\n",
    "    training_df[feature_cols], training_df[\"TOP_20\"]\n",
    ")\n",
    "\n",
    "# === Standardize ===\n",
    "scaler = StandardScaler()\n",
    "X_all_scaled = scaler.fit_transform(X_all_resampled)\n",
    "\n",
    "# === Train Calibrated Random Forest ===\n",
    "base_rf = RandomForestClassifier(random_state=42)\n",
    "final_model = CalibratedClassifierCV(estimator=base_rf, method=\"sigmoid\", cv=5)\n",
    "final_model.fit(X_all_scaled, y_all_resampled)\n",
    "\n",
    "# === Aggregate feature importances across all CV folds ===\n",
    "all_importances = np.array([\n",
    "    est.estimator.feature_importances_ for est in final_model.calibrated_classifiers_\n",
    "])\n",
    "mean_importance = all_importances.mean(axis=0)\n",
    "\n",
    "importance_df = pd.DataFrame({\n",
    "    \"Feature\": feature_cols,\n",
    "    \"Importance\": mean_importance\n",
    "}).sort_values(by=\"Importance\", ascending=False)\n",
    "\n",
    "# === Plot feature importances ===\n",
    "fig = px.bar(\n",
    "    importance_df,\n",
    "    x=\"Feature\",\n",
    "    y=\"Importance\",\n",
    "    title=\"Random Forest Feature Importances\",\n",
    "    template=\"plotly_dark\"\n",
    ")\n",
    "fig.update_layout(xaxis_tickangle=-45)\n",
    "fig.show()\n"
   ]
  },
  {
   "cell_type": "markdown",
   "id": "e5e84f8a",
   "metadata": {},
   "source": [
    "Use this model on this week's data to predict the best performers."
   ]
  },
  {
   "cell_type": "code",
   "execution_count": 30,
   "id": "f0bf9b7d",
   "metadata": {},
   "outputs": [
    {
     "data": {
      "text/html": [
       "<div>\n",
       "<style scoped>\n",
       "    .dataframe tbody tr th:only-of-type {\n",
       "        vertical-align: middle;\n",
       "    }\n",
       "\n",
       "    .dataframe tbody tr th {\n",
       "        vertical-align: top;\n",
       "    }\n",
       "\n",
       "    .dataframe thead th {\n",
       "        text-align: right;\n",
       "    }\n",
       "</style>\n",
       "<table border=\"1\" class=\"dataframe\">\n",
       "  <thead>\n",
       "    <tr style=\"text-align: right;\">\n",
       "      <th></th>\n",
       "      <th>PLAYER</th>\n",
       "      <th>SALARY</th>\n",
       "      <th>PROBABILITY</th>\n",
       "      <th>RECENT_FORM</th>\n",
       "      <th>COURSE_HISTORY</th>\n",
       "      <th>VEGAS_ODDS</th>\n",
       "      <th>CUT_PERCENTAGE</th>\n",
       "      <th>OWGR_RANK</th>\n",
       "      <th>FEDEX_CUP_POINTS</th>\n",
       "      <th>SGTTG_RANK</th>\n",
       "      <th>SGOTT_RANK</th>\n",
       "      <th>SGAPR_RANK</th>\n",
       "      <th>SGATG_RANK</th>\n",
       "      <th>SGP_RANK</th>\n",
       "      <th>BIRDIES_RANK</th>\n",
       "      <th>PAR_3_RANK</th>\n",
       "      <th>PAR_4_RANK</th>\n",
       "      <th>PAR_5_RANK</th>\n",
       "      <th>TOTAL_DRIVING_RANK</th>\n",
       "      <th>DRIVING_DISTANCE_RANK</th>\n",
       "      <th>DRIVING_ACCURACY_RANK</th>\n",
       "      <th>GIR_RANK</th>\n",
       "      <th>SCRAMBLING_RANK</th>\n",
       "    </tr>\n",
       "  </thead>\n",
       "  <tbody>\n",
       "    <tr>\n",
       "      <th>0</th>\n",
       "      <td>Scottie Scheffler</td>\n",
       "      <td>13300</td>\n",
       "      <td>0.956233</td>\n",
       "      <td>6.9</td>\n",
       "      <td>31.0</td>\n",
       "      <td>3.0</td>\n",
       "      <td>100.0</td>\n",
       "      <td>1.0</td>\n",
       "      <td>3725.967</td>\n",
       "      <td>1.0</td>\n",
       "      <td>2.0</td>\n",
       "      <td>1.0</td>\n",
       "      <td>29.0</td>\n",
       "      <td>20.0</td>\n",
       "      <td>3.0</td>\n",
       "      <td>21.0</td>\n",
       "      <td>1.0</td>\n",
       "      <td>2.0</td>\n",
       "      <td>16.0</td>\n",
       "      <td>73.0</td>\n",
       "      <td>34.0</td>\n",
       "      <td>10.0</td>\n",
       "      <td>2.0</td>\n",
       "    </tr>\n",
       "    <tr>\n",
       "      <th>1</th>\n",
       "      <td>Ben Griffin</td>\n",
       "      <td>8100</td>\n",
       "      <td>0.925624</td>\n",
       "      <td>36.4</td>\n",
       "      <td>78.5</td>\n",
       "      <td>55.0</td>\n",
       "      <td>80.8</td>\n",
       "      <td>15.0</td>\n",
       "      <td>1949.496</td>\n",
       "      <td>25.0</td>\n",
       "      <td>53.0</td>\n",
       "      <td>37.0</td>\n",
       "      <td>50.0</td>\n",
       "      <td>41.0</td>\n",
       "      <td>53.0</td>\n",
       "      <td>29.0</td>\n",
       "      <td>44.0</td>\n",
       "      <td>41.0</td>\n",
       "      <td>64.0</td>\n",
       "      <td>67.0</td>\n",
       "      <td>95.0</td>\n",
       "      <td>30.0</td>\n",
       "      <td>105.0</td>\n",
       "    </tr>\n",
       "    <tr>\n",
       "      <th>2</th>\n",
       "      <td>Maverick McNealy</td>\n",
       "      <td>7600</td>\n",
       "      <td>0.902446</td>\n",
       "      <td>37.0</td>\n",
       "      <td>60.0</td>\n",
       "      <td>60.0</td>\n",
       "      <td>78.3</td>\n",
       "      <td>14.0</td>\n",
       "      <td>2214.922</td>\n",
       "      <td>48.0</td>\n",
       "      <td>43.0</td>\n",
       "      <td>41.0</td>\n",
       "      <td>133.0</td>\n",
       "      <td>37.0</td>\n",
       "      <td>46.0</td>\n",
       "      <td>128.0</td>\n",
       "      <td>44.0</td>\n",
       "      <td>73.0</td>\n",
       "      <td>79.0</td>\n",
       "      <td>72.0</td>\n",
       "      <td>98.0</td>\n",
       "      <td>43.0</td>\n",
       "      <td>149.0</td>\n",
       "    </tr>\n",
       "    <tr>\n",
       "      <th>3</th>\n",
       "      <td>Daniel Berger</td>\n",
       "      <td>7500</td>\n",
       "      <td>0.872361</td>\n",
       "      <td>34.7</td>\n",
       "      <td>78.5</td>\n",
       "      <td>45.0</td>\n",
       "      <td>81.8</td>\n",
       "      <td>29.0</td>\n",
       "      <td>1489.533</td>\n",
       "      <td>7.0</td>\n",
       "      <td>19.0</td>\n",
       "      <td>21.0</td>\n",
       "      <td>59.0</td>\n",
       "      <td>105.0</td>\n",
       "      <td>96.0</td>\n",
       "      <td>128.0</td>\n",
       "      <td>17.0</td>\n",
       "      <td>132.0</td>\n",
       "      <td>13.0</td>\n",
       "      <td>92.0</td>\n",
       "      <td>12.0</td>\n",
       "      <td>39.0</td>\n",
       "      <td>41.0</td>\n",
       "    </tr>\n",
       "    <tr>\n",
       "      <th>4</th>\n",
       "      <td>Rory McIlroy</td>\n",
       "      <td>11500</td>\n",
       "      <td>0.859232</td>\n",
       "      <td>20.3</td>\n",
       "      <td>12.3</td>\n",
       "      <td>14.0</td>\n",
       "      <td>90.0</td>\n",
       "      <td>2.0</td>\n",
       "      <td>2694.036</td>\n",
       "      <td>8.0</td>\n",
       "      <td>1.0</td>\n",
       "      <td>79.0</td>\n",
       "      <td>43.0</td>\n",
       "      <td>12.0</td>\n",
       "      <td>18.0</td>\n",
       "      <td>39.0</td>\n",
       "      <td>17.0</td>\n",
       "      <td>16.0</td>\n",
       "      <td>78.0</td>\n",
       "      <td>2.0</td>\n",
       "      <td>167.0</td>\n",
       "      <td>68.0</td>\n",
       "      <td>33.0</td>\n",
       "    </tr>\n",
       "    <tr>\n",
       "      <th>5</th>\n",
       "      <td>Corey Conners</td>\n",
       "      <td>8700</td>\n",
       "      <td>0.856233</td>\n",
       "      <td>32.6</td>\n",
       "      <td>54.0</td>\n",
       "      <td>45.0</td>\n",
       "      <td>87.5</td>\n",
       "      <td>24.0</td>\n",
       "      <td>1465.490</td>\n",
       "      <td>31.0</td>\n",
       "      <td>14.0</td>\n",
       "      <td>47.0</td>\n",
       "      <td>116.0</td>\n",
       "      <td>59.0</td>\n",
       "      <td>68.0</td>\n",
       "      <td>80.0</td>\n",
       "      <td>29.0</td>\n",
       "      <td>73.0</td>\n",
       "      <td>43.0</td>\n",
       "      <td>139.0</td>\n",
       "      <td>11.0</td>\n",
       "      <td>22.0</td>\n",
       "      <td>70.0</td>\n",
       "    </tr>\n",
       "    <tr>\n",
       "      <th>6</th>\n",
       "      <td>Patrick Cantlay</td>\n",
       "      <td>9800</td>\n",
       "      <td>0.848800</td>\n",
       "      <td>27.9</td>\n",
       "      <td>10.9</td>\n",
       "      <td>25.0</td>\n",
       "      <td>85.7</td>\n",
       "      <td>20.0</td>\n",
       "      <td>1135.952</td>\n",
       "      <td>11.0</td>\n",
       "      <td>31.0</td>\n",
       "      <td>15.0</td>\n",
       "      <td>78.0</td>\n",
       "      <td>65.0</td>\n",
       "      <td>14.0</td>\n",
       "      <td>128.0</td>\n",
       "      <td>6.0</td>\n",
       "      <td>73.0</td>\n",
       "      <td>53.0</td>\n",
       "      <td>75.0</td>\n",
       "      <td>81.0</td>\n",
       "      <td>4.0</td>\n",
       "      <td>139.0</td>\n",
       "    </tr>\n",
       "    <tr>\n",
       "      <th>7</th>\n",
       "      <td>Collin Morikawa</td>\n",
       "      <td>10200</td>\n",
       "      <td>0.832836</td>\n",
       "      <td>23.3</td>\n",
       "      <td>57.3</td>\n",
       "      <td>16.0</td>\n",
       "      <td>100.0</td>\n",
       "      <td>4.0</td>\n",
       "      <td>1334.158</td>\n",
       "      <td>2.0</td>\n",
       "      <td>12.0</td>\n",
       "      <td>4.0</td>\n",
       "      <td>73.0</td>\n",
       "      <td>110.0</td>\n",
       "      <td>9.0</td>\n",
       "      <td>2.0</td>\n",
       "      <td>29.0</td>\n",
       "      <td>93.0</td>\n",
       "      <td>58.0</td>\n",
       "      <td>156.0</td>\n",
       "      <td>3.0</td>\n",
       "      <td>34.0</td>\n",
       "      <td>81.0</td>\n",
       "    </tr>\n",
       "    <tr>\n",
       "      <th>8</th>\n",
       "      <td>J.J. Spaun</td>\n",
       "      <td>8600</td>\n",
       "      <td>0.831118</td>\n",
       "      <td>36.8</td>\n",
       "      <td>65.7</td>\n",
       "      <td>50.0</td>\n",
       "      <td>78.3</td>\n",
       "      <td>8.0</td>\n",
       "      <td>2164.437</td>\n",
       "      <td>10.0</td>\n",
       "      <td>47.0</td>\n",
       "      <td>7.0</td>\n",
       "      <td>104.0</td>\n",
       "      <td>40.0</td>\n",
       "      <td>57.0</td>\n",
       "      <td>51.0</td>\n",
       "      <td>17.0</td>\n",
       "      <td>73.0</td>\n",
       "      <td>23.0</td>\n",
       "      <td>63.0</td>\n",
       "      <td>56.0</td>\n",
       "      <td>35.0</td>\n",
       "      <td>106.0</td>\n",
       "    </tr>\n",
       "    <tr>\n",
       "      <th>9</th>\n",
       "      <td>Keegan Bradley</td>\n",
       "      <td>8500</td>\n",
       "      <td>0.792450</td>\n",
       "      <td>26.5</td>\n",
       "      <td>41.1</td>\n",
       "      <td>35.0</td>\n",
       "      <td>93.3</td>\n",
       "      <td>21.0</td>\n",
       "      <td>1001.967</td>\n",
       "      <td>4.0</td>\n",
       "      <td>26.0</td>\n",
       "      <td>28.0</td>\n",
       "      <td>14.0</td>\n",
       "      <td>132.0</td>\n",
       "      <td>58.0</td>\n",
       "      <td>105.0</td>\n",
       "      <td>17.0</td>\n",
       "      <td>120.0</td>\n",
       "      <td>19.0</td>\n",
       "      <td>68.0</td>\n",
       "      <td>45.0</td>\n",
       "      <td>74.0</td>\n",
       "      <td>118.0</td>\n",
       "    </tr>\n",
       "    <tr>\n",
       "      <th>10</th>\n",
       "      <td>Tommy Fleetwood</td>\n",
       "      <td>8900</td>\n",
       "      <td>0.756182</td>\n",
       "      <td>24.1</td>\n",
       "      <td>41.0</td>\n",
       "      <td>30.0</td>\n",
       "      <td>92.3</td>\n",
       "      <td>17.0</td>\n",
       "      <td>1323.648</td>\n",
       "      <td>9.0</td>\n",
       "      <td>61.0</td>\n",
       "      <td>11.0</td>\n",
       "      <td>36.0</td>\n",
       "      <td>33.0</td>\n",
       "      <td>48.0</td>\n",
       "      <td>169.0</td>\n",
       "      <td>12.0</td>\n",
       "      <td>86.0</td>\n",
       "      <td>82.0</td>\n",
       "      <td>135.0</td>\n",
       "      <td>36.0</td>\n",
       "      <td>131.0</td>\n",
       "      <td>63.0</td>\n",
       "    </tr>\n",
       "    <tr>\n",
       "      <th>11</th>\n",
       "      <td>Jordan Spieth</td>\n",
       "      <td>8200</td>\n",
       "      <td>0.753236</td>\n",
       "      <td>33.1</td>\n",
       "      <td>67.8</td>\n",
       "      <td>45.0</td>\n",
       "      <td>86.7</td>\n",
       "      <td>44.0</td>\n",
       "      <td>819.338</td>\n",
       "      <td>18.0</td>\n",
       "      <td>39.0</td>\n",
       "      <td>54.0</td>\n",
       "      <td>22.0</td>\n",
       "      <td>76.0</td>\n",
       "      <td>64.0</td>\n",
       "      <td>141.0</td>\n",
       "      <td>44.0</td>\n",
       "      <td>16.0</td>\n",
       "      <td>48.0</td>\n",
       "      <td>57.0</td>\n",
       "      <td>96.0</td>\n",
       "      <td>91.0</td>\n",
       "      <td>84.0</td>\n",
       "    </tr>\n",
       "    <tr>\n",
       "      <th>12</th>\n",
       "      <td>Nick Taylor</td>\n",
       "      <td>6900</td>\n",
       "      <td>0.750137</td>\n",
       "      <td>38.9</td>\n",
       "      <td>73.3</td>\n",
       "      <td>100.0</td>\n",
       "      <td>80.0</td>\n",
       "      <td>31.0</td>\n",
       "      <td>1377.232</td>\n",
       "      <td>36.0</td>\n",
       "      <td>112.0</td>\n",
       "      <td>12.0</td>\n",
       "      <td>71.0</td>\n",
       "      <td>48.0</td>\n",
       "      <td>73.0</td>\n",
       "      <td>29.0</td>\n",
       "      <td>12.0</td>\n",
       "      <td>102.0</td>\n",
       "      <td>96.0</td>\n",
       "      <td>160.0</td>\n",
       "      <td>19.0</td>\n",
       "      <td>8.0</td>\n",
       "      <td>44.0</td>\n",
       "    </tr>\n",
       "    <tr>\n",
       "      <th>13</th>\n",
       "      <td>Aaron Rai</td>\n",
       "      <td>7500</td>\n",
       "      <td>0.723760</td>\n",
       "      <td>39.7</td>\n",
       "      <td>32.0</td>\n",
       "      <td>45.0</td>\n",
       "      <td>75.0</td>\n",
       "      <td>32.0</td>\n",
       "      <td>605.730</td>\n",
       "      <td>22.0</td>\n",
       "      <td>25.0</td>\n",
       "      <td>31.0</td>\n",
       "      <td>97.0</td>\n",
       "      <td>125.0</td>\n",
       "      <td>54.0</td>\n",
       "      <td>174.0</td>\n",
       "      <td>12.0</td>\n",
       "      <td>30.0</td>\n",
       "      <td>79.0</td>\n",
       "      <td>169.0</td>\n",
       "      <td>1.0</td>\n",
       "      <td>18.0</td>\n",
       "      <td>123.0</td>\n",
       "    </tr>\n",
       "    <tr>\n",
       "      <th>14</th>\n",
       "      <td>Harris English</td>\n",
       "      <td>7700</td>\n",
       "      <td>0.723071</td>\n",
       "      <td>38.1</td>\n",
       "      <td>50.7</td>\n",
       "      <td>65.0</td>\n",
       "      <td>85.0</td>\n",
       "      <td>22.0</td>\n",
       "      <td>1609.593</td>\n",
       "      <td>79.0</td>\n",
       "      <td>54.0</td>\n",
       "      <td>101.0</td>\n",
       "      <td>114.0</td>\n",
       "      <td>25.0</td>\n",
       "      <td>158.0</td>\n",
       "      <td>105.0</td>\n",
       "      <td>103.0</td>\n",
       "      <td>120.0</td>\n",
       "      <td>31.0</td>\n",
       "      <td>89.0</td>\n",
       "      <td>43.0</td>\n",
       "      <td>77.0</td>\n",
       "      <td>97.0</td>\n",
       "    </tr>\n",
       "    <tr>\n",
       "      <th>15</th>\n",
       "      <td>Russell Henley</td>\n",
       "      <td>8800</td>\n",
       "      <td>0.708828</td>\n",
       "      <td>27.8</td>\n",
       "      <td>35.7</td>\n",
       "      <td>35.0</td>\n",
       "      <td>85.7</td>\n",
       "      <td>6.0</td>\n",
       "      <td>1870.884</td>\n",
       "      <td>13.0</td>\n",
       "      <td>127.0</td>\n",
       "      <td>14.0</td>\n",
       "      <td>8.0</td>\n",
       "      <td>34.0</td>\n",
       "      <td>27.0</td>\n",
       "      <td>1.0</td>\n",
       "      <td>29.0</td>\n",
       "      <td>86.0</td>\n",
       "      <td>108.0</td>\n",
       "      <td>171.0</td>\n",
       "      <td>17.0</td>\n",
       "      <td>13.0</td>\n",
       "      <td>82.0</td>\n",
       "    </tr>\n",
       "    <tr>\n",
       "      <th>16</th>\n",
       "      <td>Adam Scott</td>\n",
       "      <td>7600</td>\n",
       "      <td>0.667586</td>\n",
       "      <td>41.0</td>\n",
       "      <td>23.7</td>\n",
       "      <td>80.0</td>\n",
       "      <td>83.3</td>\n",
       "      <td>40.0</td>\n",
       "      <td>361.953</td>\n",
       "      <td>56.0</td>\n",
       "      <td>34.0</td>\n",
       "      <td>112.0</td>\n",
       "      <td>49.0</td>\n",
       "      <td>96.0</td>\n",
       "      <td>77.0</td>\n",
       "      <td>154.0</td>\n",
       "      <td>134.0</td>\n",
       "      <td>41.0</td>\n",
       "      <td>122.0</td>\n",
       "      <td>83.0</td>\n",
       "      <td>116.0</td>\n",
       "      <td>124.0</td>\n",
       "      <td>139.0</td>\n",
       "    </tr>\n",
       "    <tr>\n",
       "      <th>17</th>\n",
       "      <td>Tony Finau</td>\n",
       "      <td>7700</td>\n",
       "      <td>0.666191</td>\n",
       "      <td>43.9</td>\n",
       "      <td>55.5</td>\n",
       "      <td>80.0</td>\n",
       "      <td>73.3</td>\n",
       "      <td>43.0</td>\n",
       "      <td>663.783</td>\n",
       "      <td>51.0</td>\n",
       "      <td>82.0</td>\n",
       "      <td>72.0</td>\n",
       "      <td>35.0</td>\n",
       "      <td>98.0</td>\n",
       "      <td>39.0</td>\n",
       "      <td>105.0</td>\n",
       "      <td>88.0</td>\n",
       "      <td>137.0</td>\n",
       "      <td>86.0</td>\n",
       "      <td>70.0</td>\n",
       "      <td>104.0</td>\n",
       "      <td>88.0</td>\n",
       "      <td>121.0</td>\n",
       "    </tr>\n",
       "    <tr>\n",
       "      <th>18</th>\n",
       "      <td>Viktor Hovland</td>\n",
       "      <td>9000</td>\n",
       "      <td>0.658933</td>\n",
       "      <td>39.4</td>\n",
       "      <td>28.5</td>\n",
       "      <td>35.0</td>\n",
       "      <td>75.0</td>\n",
       "      <td>9.0</td>\n",
       "      <td>1134.606</td>\n",
       "      <td>24.0</td>\n",
       "      <td>77.0</td>\n",
       "      <td>6.0</td>\n",
       "      <td>118.0</td>\n",
       "      <td>124.0</td>\n",
       "      <td>21.0</td>\n",
       "      <td>66.0</td>\n",
       "      <td>134.0</td>\n",
       "      <td>37.0</td>\n",
       "      <td>37.0</td>\n",
       "      <td>96.0</td>\n",
       "      <td>46.0</td>\n",
       "      <td>53.0</td>\n",
       "      <td>154.0</td>\n",
       "    </tr>\n",
       "    <tr>\n",
       "      <th>19</th>\n",
       "      <td>J.T. Poston</td>\n",
       "      <td>7300</td>\n",
       "      <td>0.652775</td>\n",
       "      <td>33.3</td>\n",
       "      <td>69.5</td>\n",
       "      <td>70.0</td>\n",
       "      <td>89.5</td>\n",
       "      <td>41.0</td>\n",
       "      <td>756.746</td>\n",
       "      <td>55.0</td>\n",
       "      <td>86.0</td>\n",
       "      <td>87.0</td>\n",
       "      <td>20.0</td>\n",
       "      <td>89.0</td>\n",
       "      <td>82.0</td>\n",
       "      <td>92.0</td>\n",
       "      <td>67.0</td>\n",
       "      <td>102.0</td>\n",
       "      <td>91.0</td>\n",
       "      <td>151.0</td>\n",
       "      <td>25.0</td>\n",
       "      <td>101.0</td>\n",
       "      <td>89.0</td>\n",
       "    </tr>\n",
       "  </tbody>\n",
       "</table>\n",
       "</div>"
      ],
      "text/plain": [
       "               PLAYER  SALARY  PROBABILITY  RECENT_FORM  COURSE_HISTORY  \\\n",
       "0   Scottie Scheffler   13300     0.956233          6.9            31.0   \n",
       "1         Ben Griffin    8100     0.925624         36.4            78.5   \n",
       "2    Maverick McNealy    7600     0.902446         37.0            60.0   \n",
       "3       Daniel Berger    7500     0.872361         34.7            78.5   \n",
       "4        Rory McIlroy   11500     0.859232         20.3            12.3   \n",
       "5       Corey Conners    8700     0.856233         32.6            54.0   \n",
       "6     Patrick Cantlay    9800     0.848800         27.9            10.9   \n",
       "7     Collin Morikawa   10200     0.832836         23.3            57.3   \n",
       "8          J.J. Spaun    8600     0.831118         36.8            65.7   \n",
       "9      Keegan Bradley    8500     0.792450         26.5            41.1   \n",
       "10    Tommy Fleetwood    8900     0.756182         24.1            41.0   \n",
       "11      Jordan Spieth    8200     0.753236         33.1            67.8   \n",
       "12        Nick Taylor    6900     0.750137         38.9            73.3   \n",
       "13          Aaron Rai    7500     0.723760         39.7            32.0   \n",
       "14     Harris English    7700     0.723071         38.1            50.7   \n",
       "15     Russell Henley    8800     0.708828         27.8            35.7   \n",
       "16         Adam Scott    7600     0.667586         41.0            23.7   \n",
       "17         Tony Finau    7700     0.666191         43.9            55.5   \n",
       "18     Viktor Hovland    9000     0.658933         39.4            28.5   \n",
       "19        J.T. Poston    7300     0.652775         33.3            69.5   \n",
       "\n",
       "    VEGAS_ODDS  CUT_PERCENTAGE  OWGR_RANK  FEDEX_CUP_POINTS  SGTTG_RANK  \\\n",
       "0          3.0           100.0        1.0          3725.967         1.0   \n",
       "1         55.0            80.8       15.0          1949.496        25.0   \n",
       "2         60.0            78.3       14.0          2214.922        48.0   \n",
       "3         45.0            81.8       29.0          1489.533         7.0   \n",
       "4         14.0            90.0        2.0          2694.036         8.0   \n",
       "5         45.0            87.5       24.0          1465.490        31.0   \n",
       "6         25.0            85.7       20.0          1135.952        11.0   \n",
       "7         16.0           100.0        4.0          1334.158         2.0   \n",
       "8         50.0            78.3        8.0          2164.437        10.0   \n",
       "9         35.0            93.3       21.0          1001.967         4.0   \n",
       "10        30.0            92.3       17.0          1323.648         9.0   \n",
       "11        45.0            86.7       44.0           819.338        18.0   \n",
       "12       100.0            80.0       31.0          1377.232        36.0   \n",
       "13        45.0            75.0       32.0           605.730        22.0   \n",
       "14        65.0            85.0       22.0          1609.593        79.0   \n",
       "15        35.0            85.7        6.0          1870.884        13.0   \n",
       "16        80.0            83.3       40.0           361.953        56.0   \n",
       "17        80.0            73.3       43.0           663.783        51.0   \n",
       "18        35.0            75.0        9.0          1134.606        24.0   \n",
       "19        70.0            89.5       41.0           756.746        55.0   \n",
       "\n",
       "    SGOTT_RANK  SGAPR_RANK  SGATG_RANK  SGP_RANK  BIRDIES_RANK  PAR_3_RANK  \\\n",
       "0          2.0         1.0        29.0      20.0           3.0        21.0   \n",
       "1         53.0        37.0        50.0      41.0          53.0        29.0   \n",
       "2         43.0        41.0       133.0      37.0          46.0       128.0   \n",
       "3         19.0        21.0        59.0     105.0          96.0       128.0   \n",
       "4          1.0        79.0        43.0      12.0          18.0        39.0   \n",
       "5         14.0        47.0       116.0      59.0          68.0        80.0   \n",
       "6         31.0        15.0        78.0      65.0          14.0       128.0   \n",
       "7         12.0         4.0        73.0     110.0           9.0         2.0   \n",
       "8         47.0         7.0       104.0      40.0          57.0        51.0   \n",
       "9         26.0        28.0        14.0     132.0          58.0       105.0   \n",
       "10        61.0        11.0        36.0      33.0          48.0       169.0   \n",
       "11        39.0        54.0        22.0      76.0          64.0       141.0   \n",
       "12       112.0        12.0        71.0      48.0          73.0        29.0   \n",
       "13        25.0        31.0        97.0     125.0          54.0       174.0   \n",
       "14        54.0       101.0       114.0      25.0         158.0       105.0   \n",
       "15       127.0        14.0         8.0      34.0          27.0         1.0   \n",
       "16        34.0       112.0        49.0      96.0          77.0       154.0   \n",
       "17        82.0        72.0        35.0      98.0          39.0       105.0   \n",
       "18        77.0         6.0       118.0     124.0          21.0        66.0   \n",
       "19        86.0        87.0        20.0      89.0          82.0        92.0   \n",
       "\n",
       "    PAR_4_RANK  PAR_5_RANK  TOTAL_DRIVING_RANK  DRIVING_DISTANCE_RANK  \\\n",
       "0          1.0         2.0                16.0                   73.0   \n",
       "1         44.0        41.0                64.0                   67.0   \n",
       "2         44.0        73.0                79.0                   72.0   \n",
       "3         17.0       132.0                13.0                   92.0   \n",
       "4         17.0        16.0                78.0                    2.0   \n",
       "5         29.0        73.0                43.0                  139.0   \n",
       "6          6.0        73.0                53.0                   75.0   \n",
       "7         29.0        93.0                58.0                  156.0   \n",
       "8         17.0        73.0                23.0                   63.0   \n",
       "9         17.0       120.0                19.0                   68.0   \n",
       "10        12.0        86.0                82.0                  135.0   \n",
       "11        44.0        16.0                48.0                   57.0   \n",
       "12        12.0       102.0                96.0                  160.0   \n",
       "13        12.0        30.0                79.0                  169.0   \n",
       "14       103.0       120.0                31.0                   89.0   \n",
       "15        29.0        86.0               108.0                  171.0   \n",
       "16       134.0        41.0               122.0                   83.0   \n",
       "17        88.0       137.0                86.0                   70.0   \n",
       "18       134.0        37.0                37.0                   96.0   \n",
       "19        67.0       102.0                91.0                  151.0   \n",
       "\n",
       "    DRIVING_ACCURACY_RANK  GIR_RANK  SCRAMBLING_RANK  \n",
       "0                    34.0      10.0              2.0  \n",
       "1                    95.0      30.0            105.0  \n",
       "2                    98.0      43.0            149.0  \n",
       "3                    12.0      39.0             41.0  \n",
       "4                   167.0      68.0             33.0  \n",
       "5                    11.0      22.0             70.0  \n",
       "6                    81.0       4.0            139.0  \n",
       "7                     3.0      34.0             81.0  \n",
       "8                    56.0      35.0            106.0  \n",
       "9                    45.0      74.0            118.0  \n",
       "10                   36.0     131.0             63.0  \n",
       "11                   96.0      91.0             84.0  \n",
       "12                   19.0       8.0             44.0  \n",
       "13                    1.0      18.0            123.0  \n",
       "14                   43.0      77.0             97.0  \n",
       "15                   17.0      13.0             82.0  \n",
       "16                  116.0     124.0            139.0  \n",
       "17                  104.0      88.0            121.0  \n",
       "18                   46.0      53.0            154.0  \n",
       "19                   25.0     101.0             89.0  "
      ]
     },
     "execution_count": 30,
     "metadata": {},
     "output_type": "execute_result"
    }
   ],
   "source": [
    "# === Prepare test data (this week's players) ===\n",
    "\n",
    "# Select and standardize features using the same scaler as training\n",
    "X_test = this_week[feature_cols]\n",
    "X_test_scaled = scaler.transform(X_test)\n",
    "\n",
    "# === Predict probabilities for Top 20 finish ===\n",
    "# CalibratedClassifierCV returns well-calibrated probabilities\n",
    "this_week[\"PROBABILITY\"] = final_model.predict_proba(X_test_scaled)[:, 1]\n",
    "\n",
    "# === Sort results by highest predicted probability ===\n",
    "this_week_sorted = this_week.sort_values(by=\"PROBABILITY\", ascending=False).reset_index(drop=True)\n",
    "\n",
    "# === Define final column order explicitly ===\n",
    "columns_to_show = [\n",
    "    \"PLAYER\", \"SALARY\", \"PROBABILITY\",\n",
    "    \"RECENT_FORM\", \"COURSE_HISTORY\", \"VEGAS_ODDS\", \"CUT_PERCENTAGE\", \n",
    "    \"OWGR_RANK\", \"FEDEX_CUP_POINTS\",\n",
    "\n",
    "    # SG stats\n",
    "    \"SGTTG_RANK\", \"SGOTT_RANK\", \"SGAPR_RANK\", \"SGATG_RANK\", \"SGP_RANK\",\n",
    "\n",
    "    # Scoring/Performance\n",
    "    \"BIRDIES_RANK\", \"PAR_3_RANK\", \"PAR_4_RANK\", \"PAR_5_RANK\",\n",
    "\n",
    "    # Driving / Ball Striking\n",
    "    \"TOTAL_DRIVING_RANK\", \"DRIVING_DISTANCE_RANK\", \"DRIVING_ACCURACY_RANK\",\n",
    "    \"GIR_RANK\", \"SCRAMBLING_RANK\"\n",
    "]\n",
    "\n",
    "# Keep only columns that exist in the dataframe\n",
    "columns_to_show = [col for col in columns_to_show if col in this_week_sorted.columns]\n",
    "\n",
    "# Final dataframe for display/export\n",
    "export_df = this_week_sorted[columns_to_show].copy()\n",
    "\n",
    "# Preview top 20\n",
    "export_df.head(20)\n"
   ]
  },
  {
   "cell_type": "markdown",
   "id": "8641f78e",
   "metadata": {},
   "source": [
    "### Save to CSV"
   ]
  },
  {
   "cell_type": "code",
   "execution_count": 31,
   "id": "323933e9",
   "metadata": {},
   "outputs": [
    {
     "name": "stdout",
     "output_type": "stream",
     "text": [
      "✅ Exported to data/current_week_export.csv\n"
     ]
    }
   ],
   "source": [
    "# Ensure required columns for spreadsheet export\n",
    "if \"COURSE_HISTORY\" not in export_df.columns:\n",
    "    export_df[\"COURSE_HISTORY\"] = \"-\"\n",
    "\n",
    "# Define columns to round (FedEx + stats)\n",
    "columns_to_round = [\n",
    "    \"FEDEX_CUP_POINTS\",\n",
    "    \"SGTTG_RANK\", \"SGOTT_RANK\", \"SGAPR_RANK\", \"SGATG_RANK\", \"SGP_RANK\",\n",
    "    \"BIRDIES_RANK\", \"PAR_3_RANK\", \"PAR_4_RANK\", \"PAR_5_RANK\",\n",
    "    \"TOTAL_DRIVING_RANK\", \"DRIVING_DISTANCE_RANK\", \"DRIVING_ACCURACY_RANK\",\n",
    "    \"GIR_RANK\", \"SCRAMBLING_RANK\"\n",
    "]\n",
    "\n",
    "columns_to_round_1 = [\n",
    "    \"COURSE_HISTORY\", \"CUT_PERCENTAGE\"\n",
    "]\n",
    "\n",
    "# Round only the selected columns to 0 decimal places\n",
    "export_df[columns_to_round] = export_df[columns_to_round].round(0).astype(\"Int64\")\n",
    "# Round only the selected columns to 1 decimal places\n",
    "export_df[columns_to_round_1] = export_df[columns_to_round_1].round(1)\n",
    "\n",
    "# Explicit column order for Excel integration\n",
    "column_order = [\n",
    "    \"PLAYER\", \"SALARY\", \"PROBABILITY\", \"RECENT_FORM\", \"COURSE_HISTORY\", \"VEGAS_ODDS\", \n",
    "    \"CUT_PERCENTAGE\", \"OWGR_RANK\", \"FEDEX_CUP_POINTS\", \n",
    "    \"SGTTG_RANK\", \"SGOTT_RANK\", \"SGAPR_RANK\", \"SGATG_RANK\", \"SGP_RANK\",\n",
    "    \"BIRDIES_RANK\", \"PAR_3_RANK\", \"PAR_4_RANK\", \"PAR_5_RANK\",\n",
    "    \"TOTAL_DRIVING_RANK\", \"DRIVING_DISTANCE_RANK\", \"DRIVING_ACCURACY_RANK\",\n",
    "    \"GIR_RANK\", \"SCRAMBLING_RANK\"\n",
    "]\n",
    "\n",
    "# Ensure all expected columns exist\n",
    "for col in column_order:\n",
    "    if col not in export_df.columns:\n",
    "        export_df[col] = \"-\" if col == \"COURSE_HISTORY\" else np.nan\n",
    "\n",
    "# Reorder columns to match Excel layout\n",
    "export_df = export_df[column_order]\n",
    "\n",
    "# Export to CSV\n",
    "filename = f\"data/current_week_export.csv\"\n",
    "export_df.to_csv(filename, index=False)\n",
    "print(f\"✅ Exported to {filename}\")"
   ]
  }
 ],
 "metadata": {
  "kernelspec": {
   "display_name": "Python 3",
   "language": "python",
   "name": "python3"
  },
  "language_info": {
   "codemirror_mode": {
    "name": "ipython",
    "version": 3
   },
   "file_extension": ".py",
   "mimetype": "text/x-python",
   "name": "python",
   "nbconvert_exporter": "python",
   "pygments_lexer": "ipython3",
   "version": "3.13.3"
  }
 },
 "nbformat": 4,
 "nbformat_minor": 5
}
