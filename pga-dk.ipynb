{
 "cells": [
  {
   "cell_type": "markdown",
   "id": "51850cd5",
   "metadata": {},
   "source": [
    "## PGA Draftkings Notebook\n",
    "Use [PGA Website](https://www.pgatour.com/tournaments/schedule.html) to look up tournament info and fill out first USER INPUT block below. (Fetch/XHR from Network tab, Paylod sub-tab)\n",
    "\n",
    "Looks like the tournament ID is also in the address bar."
   ]
  },
  {
   "cell_type": "markdown",
   "id": "cc589d19",
   "metadata": {},
   "source": [
    "### User Input"
   ]
  },
  {
   "cell_type": "code",
   "execution_count": 2,
   "id": "5b16fd89",
   "metadata": {},
   "outputs": [],
   "source": [
    "# === USER INPUTS ===\n",
    "# Old Tournament\n",
    "old_tournament_name = \"Travelers Championship\"\n",
    "tournament_date = \"6/22/2025\"  # Ending date of tournament\n",
    "old_course = \"TPC River Highlands\"\n",
    "tournament_id = \"R2025034\"  # Tournament ID from the PGA Tour API - Also visible in the URL of the tournament page\n",
    "\n",
    "# New Tournament\n",
    "new_tournament_name = \"Rocket Classic\"\n",
    "new_ending_date = \"6/29/2025\"\n",
    "new_course = \"Detroit Golf Club\"\n",
    "new_season = 2025\n",
    "\n",
    "\n",
    "# === LIBRARIES AND VARIABLES ===\n",
    "# Import necessary libraries\n",
    "import requests\n",
    "import pandas as pd\n",
    "from datetime import datetime\n",
    "import sqlite3 as sql\n",
    "import numpy as np\n",
    "from numpy import nan\n",
    "import os\n",
    "import importlib\n",
    "import utils.db_utils\n",
    "from utils.db_utils import TOURNAMENT_NAME_MAP, PLAYER_NAME_MAP\n",
    "\n",
    "# === TOURNAMENT CONFIG ===\n",
    "tournament_config = {\n",
    "    \"old\": {\n",
    "        \"name\": old_tournament_name,\n",
    "        \"date\": tournament_date,\n",
    "        \"course\": old_course,\n",
    "        \"id\": tournament_id\n",
    "    },\n",
    "    \"new\": {\n",
    "        \"name\": new_tournament_name,\n",
    "        \"course\": new_course,\n",
    "        \"season\": new_season,\n",
    "        \"ending_date\": pd.to_datetime(new_ending_date, format=\"%m/%d/%Y\"),\n",
    "        \"quoted_course\": f'\"{new_course}\"',\n",
    "        \"quoted_name\": f\"'{new_tournament_name}'\"\n",
    "    }\n",
    "}\n",
    "\n",
    "this_week_key = str(tournament_config[\"new\"][\"ending_date\"].date())\n",
    "\n",
    "# Create a minimal one-row history DataFrame\n",
    "this_week_history = pd.DataFrame([{\n",
    "    \"SEASON\": tournament_config[\"new\"][\"season\"],\n",
    "    \"TOURNAMENT\": tournament_config[\"new\"][\"name\"],\n",
    "    \"ENDING_DATE\": tournament_config[\"new\"][\"ending_date\"],\n",
    "    \"COURSE\": tournament_config[\"new\"][\"course\"],\n",
    "    \"TOURN_ID\": None\n",
    "}])"
   ]
  },
  {
   "cell_type": "markdown",
   "id": "cd739282",
   "metadata": {},
   "source": [
    "### Update Database"
   ]
  },
  {
   "cell_type": "markdown",
   "id": "cebfc2dc",
   "metadata": {},
   "source": [
    "#### Old Tournament"
   ]
  },
  {
   "cell_type": "code",
   "execution_count": 3,
   "id": "31b12dc0",
   "metadata": {},
   "outputs": [
    {
     "name": "stdout",
     "output_type": "stream",
     "text": [
      "📦 Fetching results for tournament ID R2025034 (Travelers Championship), year: 20250\n",
      "✅ 72 new rows added for 'Travelers Championship'\n"
     ]
    },
    {
     "data": {
      "text/html": [
       "<div>\n",
       "<style scoped>\n",
       "    .dataframe tbody tr th:only-of-type {\n",
       "        vertical-align: middle;\n",
       "    }\n",
       "\n",
       "    .dataframe tbody tr th {\n",
       "        vertical-align: top;\n",
       "    }\n",
       "\n",
       "    .dataframe thead th {\n",
       "        text-align: right;\n",
       "    }\n",
       "</style>\n",
       "<table border=\"1\" class=\"dataframe\">\n",
       "  <thead>\n",
       "    <tr style=\"text-align: right;\">\n",
       "      <th></th>\n",
       "      <th>SEASON</th>\n",
       "      <th>ENDING_DATE</th>\n",
       "      <th>TOURN_ID</th>\n",
       "      <th>TOURNAMENT</th>\n",
       "      <th>COURSE</th>\n",
       "      <th>PLAYER</th>\n",
       "      <th>POS</th>\n",
       "      <th>FINAL_POS</th>\n",
       "      <th>ROUNDS:1</th>\n",
       "      <th>ROUNDS:2</th>\n",
       "      <th>ROUNDS:3</th>\n",
       "      <th>ROUNDS:4</th>\n",
       "      <th>OFFICIAL_MONEY</th>\n",
       "      <th>FEDEX_CUP_POINTS</th>\n",
       "    </tr>\n",
       "  </thead>\n",
       "  <tbody>\n",
       "    <tr>\n",
       "      <th>32</th>\n",
       "      <td>2025</td>\n",
       "      <td>2025-06-22</td>\n",
       "      <td>R2025034</td>\n",
       "      <td>Travelers Championship</td>\n",
       "      <td>TPC River Highlands</td>\n",
       "      <td>Keegan Bradley</td>\n",
       "      <td>1</td>\n",
       "      <td>1</td>\n",
       "      <td>-6</td>\n",
       "      <td>E</td>\n",
       "      <td>-7</td>\n",
       "      <td>-2</td>\n",
       "      <td>$3,600,000.00</td>\n",
       "      <td>700.000</td>\n",
       "    </tr>\n",
       "    <tr>\n",
       "      <th>52</th>\n",
       "      <td>2025</td>\n",
       "      <td>2025-06-22</td>\n",
       "      <td>R2025034</td>\n",
       "      <td>Travelers Championship</td>\n",
       "      <td>TPC River Highlands</td>\n",
       "      <td>Russell Henley</td>\n",
       "      <td>T2</td>\n",
       "      <td>2</td>\n",
       "      <td>-2</td>\n",
       "      <td>-2</td>\n",
       "      <td>-9</td>\n",
       "      <td>-1</td>\n",
       "      <td>$1,760,000.00</td>\n",
       "      <td>375.000</td>\n",
       "    </tr>\n",
       "    <tr>\n",
       "      <th>67</th>\n",
       "      <td>2025</td>\n",
       "      <td>2025-06-22</td>\n",
       "      <td>R2025034</td>\n",
       "      <td>Travelers Championship</td>\n",
       "      <td>TPC River Highlands</td>\n",
       "      <td>Tommy Fleetwood</td>\n",
       "      <td>T2</td>\n",
       "      <td>2</td>\n",
       "      <td>-4</td>\n",
       "      <td>-5</td>\n",
       "      <td>-7</td>\n",
       "      <td>+2</td>\n",
       "      <td>$1,760,000.00</td>\n",
       "      <td>375.000</td>\n",
       "    </tr>\n",
       "    <tr>\n",
       "      <th>27</th>\n",
       "      <td>2025</td>\n",
       "      <td>2025-06-22</td>\n",
       "      <td>R2025034</td>\n",
       "      <td>Travelers Championship</td>\n",
       "      <td>TPC River Highlands</td>\n",
       "      <td>Jason Day</td>\n",
       "      <td>T4</td>\n",
       "      <td>4</td>\n",
       "      <td>-4</td>\n",
       "      <td>-4</td>\n",
       "      <td>-3</td>\n",
       "      <td>-2</td>\n",
       "      <td>$880,000.00</td>\n",
       "      <td>312.500</td>\n",
       "    </tr>\n",
       "    <tr>\n",
       "      <th>21</th>\n",
       "      <td>2025</td>\n",
       "      <td>2025-06-22</td>\n",
       "      <td>R2025034</td>\n",
       "      <td>Travelers Championship</td>\n",
       "      <td>TPC River Highlands</td>\n",
       "      <td>Harris English</td>\n",
       "      <td>T4</td>\n",
       "      <td>4</td>\n",
       "      <td>-3</td>\n",
       "      <td>-2</td>\n",
       "      <td>-3</td>\n",
       "      <td>-5</td>\n",
       "      <td>$880,000.00</td>\n",
       "      <td>312.500</td>\n",
       "    </tr>\n",
       "  </tbody>\n",
       "</table>\n",
       "</div>"
      ],
      "text/plain": [
       "    SEASON ENDING_DATE  TOURN_ID              TOURNAMENT               COURSE  \\\n",
       "32    2025  2025-06-22  R2025034  Travelers Championship  TPC River Highlands   \n",
       "52    2025  2025-06-22  R2025034  Travelers Championship  TPC River Highlands   \n",
       "67    2025  2025-06-22  R2025034  Travelers Championship  TPC River Highlands   \n",
       "27    2025  2025-06-22  R2025034  Travelers Championship  TPC River Highlands   \n",
       "21    2025  2025-06-22  R2025034  Travelers Championship  TPC River Highlands   \n",
       "\n",
       "             PLAYER POS  FINAL_POS ROUNDS:1 ROUNDS:2 ROUNDS:3 ROUNDS:4  \\\n",
       "32   Keegan Bradley   1          1       -6        E       -7       -2   \n",
       "52   Russell Henley  T2          2       -2       -2       -9       -1   \n",
       "67  Tommy Fleetwood  T2          2       -4       -5       -7       +2   \n",
       "27        Jason Day  T4          4       -4       -4       -3       -2   \n",
       "21   Harris English  T4          4       -3       -2       -3       -5   \n",
       "\n",
       "   OFFICIAL_MONEY FEDEX_CUP_POINTS  \n",
       "32  $3,600,000.00          700.000  \n",
       "52  $1,760,000.00          375.000  \n",
       "67  $1,760,000.00          375.000  \n",
       "27    $880,000.00          312.500  \n",
       "21    $880,000.00          312.500  "
      ]
     },
     "execution_count": 3,
     "metadata": {},
     "output_type": "execute_result"
    }
   ],
   "source": [
    "importlib.reload(utils.db_utils)  # Only needed if you're actively editing db_utils.py\n",
    "from utils.db_utils import update_tournament_results\n",
    "\n",
    "# Change these each year!!\n",
    "season = 2025\n",
    "year = 20250  # Unique GraphQL year distinguishing number in case of multiple per year\n",
    "\n",
    "# Run the update\n",
    "db_path = \"data/golf.db\"  # Or use os.path.join(\"data\", \"golf.db\")\n",
    "tournDf = update_tournament_results(tournament_config, db_path, season, year)\n",
    "\n",
    "# Show just the most recent tournament added for confirmation\n",
    "from sqlalchemy import create_engine\n",
    "\n",
    "engine = create_engine(f\"sqlite:///{db_path}\")\n",
    "\n",
    "query = f\"\"\"\n",
    "SELECT *\n",
    "FROM tournaments\n",
    "WHERE TOURN_ID = '{tournament_config['old']['id']}'\n",
    "  AND ENDING_DATE = '{datetime.strptime(tournament_config['old']['date'], '%m/%d/%Y').date()}'\n",
    "\"\"\"\n",
    "\n",
    "recent = pd.read_sql(query, engine)\n",
    "engine.dispose()\n",
    "recent.sort_values(by='FINAL_POS').head()"
   ]
  },
  {
   "cell_type": "markdown",
   "id": "fb1dcb69",
   "metadata": {},
   "source": [
    "#### Stats"
   ]
  },
  {
   "cell_type": "code",
   "execution_count": 4,
   "id": "0cf3acf5",
   "metadata": {},
   "outputs": [
    {
     "name": "stdout",
     "output_type": "stream",
     "text": [
      "✅ Overwrote stats for season 2025 with 999 rows.\n"
     ]
    },
    {
     "data": {
      "text/html": [
       "<div>\n",
       "<style scoped>\n",
       "    .dataframe tbody tr th:only-of-type {\n",
       "        vertical-align: middle;\n",
       "    }\n",
       "\n",
       "    .dataframe tbody tr th {\n",
       "        vertical-align: top;\n",
       "    }\n",
       "\n",
       "    .dataframe thead th {\n",
       "        text-align: right;\n",
       "    }\n",
       "</style>\n",
       "<table border=\"1\" class=\"dataframe\">\n",
       "  <thead>\n",
       "    <tr style=\"text-align: right;\">\n",
       "      <th></th>\n",
       "      <th>PLAYER</th>\n",
       "      <th>SGTTG_RANK</th>\n",
       "      <th>SGTTG</th>\n",
       "      <th>SGOTT_RANK</th>\n",
       "      <th>SGOTT</th>\n",
       "      <th>SGAPR_RANK</th>\n",
       "      <th>SGAPR</th>\n",
       "      <th>SGATG_RANK</th>\n",
       "      <th>SGATG</th>\n",
       "      <th>SGP_RANK</th>\n",
       "      <th>...</th>\n",
       "      <th>DRIVING_DISTANCE</th>\n",
       "      <th>DRIVING_ACCURACY_RANK</th>\n",
       "      <th>DRIVING_ACCURACY</th>\n",
       "      <th>GIR_RANK</th>\n",
       "      <th>GIR</th>\n",
       "      <th>SCRAMBLING_RANK</th>\n",
       "      <th>SCRAMBLING</th>\n",
       "      <th>OWGR_RANK</th>\n",
       "      <th>OWGR</th>\n",
       "      <th>SEASON</th>\n",
       "    </tr>\n",
       "  </thead>\n",
       "  <tbody>\n",
       "    <tr>\n",
       "      <th>0</th>\n",
       "      <td>A.J. Ewart</td>\n",
       "      <td>NaN</td>\n",
       "      <td>NaN</td>\n",
       "      <td>NaN</td>\n",
       "      <td>NaN</td>\n",
       "      <td>NaN</td>\n",
       "      <td>NaN</td>\n",
       "      <td>NaN</td>\n",
       "      <td>NaN</td>\n",
       "      <td>NaN</td>\n",
       "      <td>...</td>\n",
       "      <td>NaN</td>\n",
       "      <td>NaN</td>\n",
       "      <td>NaN</td>\n",
       "      <td>NaN</td>\n",
       "      <td>NaN</td>\n",
       "      <td>NaN</td>\n",
       "      <td>NaN</td>\n",
       "      <td>612</td>\n",
       "      <td>.1930</td>\n",
       "      <td>2025</td>\n",
       "    </tr>\n",
       "    <tr>\n",
       "      <th>1</th>\n",
       "      <td>Aaron Baddeley</td>\n",
       "      <td>160.0</td>\n",
       "      <td>-1.022</td>\n",
       "      <td>168.0</td>\n",
       "      <td>-1.292</td>\n",
       "      <td>137.0</td>\n",
       "      <td>-0.265</td>\n",
       "      <td>4.0</td>\n",
       "      <td>0.536</td>\n",
       "      <td>153.0</td>\n",
       "      <td>...</td>\n",
       "      <td>289.6</td>\n",
       "      <td>113.0</td>\n",
       "      <td>57.29%</td>\n",
       "      <td>164.0</td>\n",
       "      <td>60.48%</td>\n",
       "      <td>81.0</td>\n",
       "      <td>60.24%</td>\n",
       "      <td>466</td>\n",
       "      <td>.2814</td>\n",
       "      <td>2025</td>\n",
       "    </tr>\n",
       "    <tr>\n",
       "      <th>2</th>\n",
       "      <td>Aaron Cockerill</td>\n",
       "      <td>NaN</td>\n",
       "      <td>NaN</td>\n",
       "      <td>NaN</td>\n",
       "      <td>NaN</td>\n",
       "      <td>NaN</td>\n",
       "      <td>NaN</td>\n",
       "      <td>NaN</td>\n",
       "      <td>NaN</td>\n",
       "      <td>NaN</td>\n",
       "      <td>...</td>\n",
       "      <td>NaN</td>\n",
       "      <td>NaN</td>\n",
       "      <td>NaN</td>\n",
       "      <td>NaN</td>\n",
       "      <td>NaN</td>\n",
       "      <td>NaN</td>\n",
       "      <td>NaN</td>\n",
       "      <td>361</td>\n",
       "      <td>.3893</td>\n",
       "      <td>2025</td>\n",
       "    </tr>\n",
       "    <tr>\n",
       "      <th>3</th>\n",
       "      <td>Aaron Rai</td>\n",
       "      <td>25.0</td>\n",
       "      <td>0.769</td>\n",
       "      <td>22.0</td>\n",
       "      <td>0.407</td>\n",
       "      <td>50.0</td>\n",
       "      <td>0.280</td>\n",
       "      <td>70.0</td>\n",
       "      <td>0.082</td>\n",
       "      <td>112.0</td>\n",
       "      <td>...</td>\n",
       "      <td>287.3</td>\n",
       "      <td>1.0</td>\n",
       "      <td>74.04%</td>\n",
       "      <td>13.0</td>\n",
       "      <td>69.44%</td>\n",
       "      <td>103.0</td>\n",
       "      <td>58.77%</td>\n",
       "      <td>33</td>\n",
       "      <td>2.7049</td>\n",
       "      <td>2025</td>\n",
       "    </tr>\n",
       "    <tr>\n",
       "      <th>4</th>\n",
       "      <td>Aaron Wilkin</td>\n",
       "      <td>NaN</td>\n",
       "      <td>NaN</td>\n",
       "      <td>NaN</td>\n",
       "      <td>NaN</td>\n",
       "      <td>NaN</td>\n",
       "      <td>NaN</td>\n",
       "      <td>NaN</td>\n",
       "      <td>NaN</td>\n",
       "      <td>NaN</td>\n",
       "      <td>...</td>\n",
       "      <td>NaN</td>\n",
       "      <td>NaN</td>\n",
       "      <td>NaN</td>\n",
       "      <td>NaN</td>\n",
       "      <td>NaN</td>\n",
       "      <td>NaN</td>\n",
       "      <td>NaN</td>\n",
       "      <td>828</td>\n",
       "      <td>.1167</td>\n",
       "      <td>2025</td>\n",
       "    </tr>\n",
       "  </tbody>\n",
       "</table>\n",
       "<p>5 rows × 32 columns</p>\n",
       "</div>"
      ],
      "text/plain": [
       "            PLAYER  SGTTG_RANK   SGTTG  SGOTT_RANK   SGOTT  SGAPR_RANK  \\\n",
       "0       A.J. Ewart         NaN     NaN         NaN     NaN         NaN   \n",
       "1   Aaron Baddeley       160.0  -1.022       168.0  -1.292       137.0   \n",
       "2  Aaron Cockerill         NaN     NaN         NaN     NaN         NaN   \n",
       "3        Aaron Rai        25.0   0.769        22.0   0.407        50.0   \n",
       "4     Aaron Wilkin         NaN     NaN         NaN     NaN         NaN   \n",
       "\n",
       "    SGAPR  SGATG_RANK  SGATG  SGP_RANK  ... DRIVING_DISTANCE  \\\n",
       "0     NaN         NaN    NaN       NaN  ...              NaN   \n",
       "1  -0.265         4.0  0.536     153.0  ...            289.6   \n",
       "2     NaN         NaN    NaN       NaN  ...              NaN   \n",
       "3   0.280        70.0  0.082     112.0  ...            287.3   \n",
       "4     NaN         NaN    NaN       NaN  ...              NaN   \n",
       "\n",
       "   DRIVING_ACCURACY_RANK DRIVING_ACCURACY  GIR_RANK     GIR  SCRAMBLING_RANK  \\\n",
       "0                    NaN              NaN       NaN     NaN              NaN   \n",
       "1                  113.0           57.29%     164.0  60.48%             81.0   \n",
       "2                    NaN              NaN       NaN     NaN              NaN   \n",
       "3                    1.0           74.04%      13.0  69.44%            103.0   \n",
       "4                    NaN              NaN       NaN     NaN              NaN   \n",
       "\n",
       "  SCRAMBLING  OWGR_RANK    OWGR  SEASON  \n",
       "0        NaN        612   .1930    2025  \n",
       "1     60.24%        466   .2814    2025  \n",
       "2        NaN        361   .3893    2025  \n",
       "3     58.77%         33  2.7049    2025  \n",
       "4        NaN        828   .1167    2025  \n",
       "\n",
       "[5 rows x 32 columns]"
      ]
     },
     "execution_count": 4,
     "metadata": {},
     "output_type": "execute_result"
    }
   ],
   "source": [
    "importlib.reload(utils.db_utils)\n",
    "from utils.db_utils import update_season_stats  # <- This line is essential\n",
    "\n",
    "# Change these each year!!\n",
    "statsYear = 2025\n",
    "\n",
    "stats_df = update_season_stats(statsYear, db_path)\n",
    "stats_df.head()"
   ]
  },
  {
   "cell_type": "markdown",
   "id": "e4d0572b",
   "metadata": {},
   "source": [
    "#### Odds\n",
    "Not usually needed for weekly routine."
   ]
  },
  {
   "cell_type": "markdown",
   "id": "ed73bb90",
   "metadata": {},
   "source": [
    "**Manual Fix! Odds name cleanup (only needed when joins fail)**\n",
    "\n",
    "Make sure to update the dictionaries in db_utils.py if new names need to be added."
   ]
  },
  {
   "cell_type": "code",
   "execution_count": 30,
   "id": "f47573f7",
   "metadata": {},
   "outputs": [
    {
     "name": "stdout",
     "output_type": "stream",
     "text": [
      "ℹ️ No odds rows required name cleanup.\n"
     ]
    },
    {
     "data": {
      "text/html": [
       "<div>\n",
       "<style scoped>\n",
       "    .dataframe tbody tr th:only-of-type {\n",
       "        vertical-align: middle;\n",
       "    }\n",
       "\n",
       "    .dataframe tbody tr th {\n",
       "        vertical-align: top;\n",
       "    }\n",
       "\n",
       "    .dataframe thead th {\n",
       "        text-align: right;\n",
       "    }\n",
       "</style>\n",
       "<table border=\"1\" class=\"dataframe\">\n",
       "  <thead>\n",
       "    <tr style=\"text-align: right;\">\n",
       "      <th></th>\n",
       "      <th>SEASON</th>\n",
       "      <th>TOURNAMENT</th>\n",
       "      <th>ENDING_DATE</th>\n",
       "      <th>PLAYER</th>\n",
       "      <th>ODDS</th>\n",
       "      <th>VEGAS_ODDS</th>\n",
       "      <th>TOURNAMENT_ORIG</th>\n",
       "      <th>PLAYER_ORIG</th>\n",
       "    </tr>\n",
       "  </thead>\n",
       "  <tbody>\n",
       "  </tbody>\n",
       "</table>\n",
       "</div>"
      ],
      "text/plain": [
       "Empty DataFrame\n",
       "Columns: [SEASON, TOURNAMENT, ENDING_DATE, PLAYER, ODDS, VEGAS_ODDS, TOURNAMENT_ORIG, PLAYER_ORIG]\n",
       "Index: []"
      ]
     },
     "execution_count": 30,
     "metadata": {},
     "output_type": "execute_result"
    }
   ],
   "source": [
    "importlib.reload(utils.db_utils)\n",
    "from utils.db_utils import clean_odds_names, PLAYER_NAME_MAP, TOURNAMENT_NAME_MAP\n",
    "\n",
    "db_path = \"data/golf.db\" \n",
    "updated_odds = clean_odds_names(db_path, TOURNAMENT_NAME_MAP, PLAYER_NAME_MAP)\n",
    "updated_odds.head()"
   ]
  },
  {
   "cell_type": "markdown",
   "id": "3ffcf8d8",
   "metadata": {},
   "source": [
    "**Historical Odds Updates**\n",
    "\n",
    "Only run this when loading in entire year odds at the start of each year or if corrections need to be made.  This will load in the entire year into the database and update it using the dictionary in db_utils.py."
   ]
  },
  {
   "cell_type": "code",
   "execution_count": 31,
   "id": "7b0ef77d",
   "metadata": {},
   "outputs": [
    {
     "name": "stdout",
     "output_type": "stream",
     "text": [
      "ℹ️ Historical odds for season 2023 already exist — no new rows added.\n"
     ]
    },
    {
     "data": {
      "text/html": [
       "<div>\n",
       "<style scoped>\n",
       "    .dataframe tbody tr th:only-of-type {\n",
       "        vertical-align: middle;\n",
       "    }\n",
       "\n",
       "    .dataframe tbody tr th {\n",
       "        vertical-align: top;\n",
       "    }\n",
       "\n",
       "    .dataframe thead th {\n",
       "        text-align: right;\n",
       "    }\n",
       "</style>\n",
       "<table border=\"1\" class=\"dataframe\">\n",
       "  <thead>\n",
       "    <tr style=\"text-align: right;\">\n",
       "      <th></th>\n",
       "      <th>SEASON</th>\n",
       "      <th>TOURNAMENT</th>\n",
       "      <th>ENDING_DATE</th>\n",
       "      <th>PLAYER</th>\n",
       "      <th>ODDS</th>\n",
       "      <th>VEGAS_ODDS</th>\n",
       "    </tr>\n",
       "  </thead>\n",
       "  <tbody>\n",
       "    <tr>\n",
       "      <th>4</th>\n",
       "      <td>2023</td>\n",
       "      <td>Fortinet Championship</td>\n",
       "      <td>2022-09-18</td>\n",
       "      <td>Hideki Matsuyama</td>\n",
       "      <td>18/1</td>\n",
       "      <td>18.0</td>\n",
       "    </tr>\n",
       "    <tr>\n",
       "      <th>5</th>\n",
       "      <td>2023</td>\n",
       "      <td>Fortinet Championship</td>\n",
       "      <td>2022-09-18</td>\n",
       "      <td>Max Homa</td>\n",
       "      <td>18/1</td>\n",
       "      <td>18.0</td>\n",
       "    </tr>\n",
       "    <tr>\n",
       "      <th>6</th>\n",
       "      <td>2023</td>\n",
       "      <td>Fortinet Championship</td>\n",
       "      <td>2022-09-18</td>\n",
       "      <td>Corey Conners</td>\n",
       "      <td>20/1</td>\n",
       "      <td>20.0</td>\n",
       "    </tr>\n",
       "    <tr>\n",
       "      <th>7</th>\n",
       "      <td>2023</td>\n",
       "      <td>Fortinet Championship</td>\n",
       "      <td>2022-09-18</td>\n",
       "      <td>Maverick McNealy</td>\n",
       "      <td>25/1</td>\n",
       "      <td>25.0</td>\n",
       "    </tr>\n",
       "    <tr>\n",
       "      <th>8</th>\n",
       "      <td>2023</td>\n",
       "      <td>Fortinet Championship</td>\n",
       "      <td>2022-09-18</td>\n",
       "      <td>Taylor Pendrith</td>\n",
       "      <td>25/1</td>\n",
       "      <td>25.0</td>\n",
       "    </tr>\n",
       "  </tbody>\n",
       "</table>\n",
       "</div>"
      ],
      "text/plain": [
       "   SEASON             TOURNAMENT ENDING_DATE            PLAYER  ODDS  \\\n",
       "4    2023  Fortinet Championship  2022-09-18  Hideki Matsuyama  18/1   \n",
       "5    2023  Fortinet Championship  2022-09-18          Max Homa  18/1   \n",
       "6    2023  Fortinet Championship  2022-09-18     Corey Conners  20/1   \n",
       "7    2023  Fortinet Championship  2022-09-18  Maverick McNealy  25/1   \n",
       "8    2023  Fortinet Championship  2022-09-18   Taylor Pendrith  25/1   \n",
       "\n",
       "   VEGAS_ODDS  \n",
       "4        18.0  \n",
       "5        18.0  \n",
       "6        20.0  \n",
       "7        25.0  \n",
       "8        25.0  "
      ]
     },
     "execution_count": 31,
     "metadata": {},
     "output_type": "execute_result"
    }
   ],
   "source": [
    "importlib.reload(utils.db_utils)\n",
    "from utils.db_utils import import_historical_odds\n",
    "\n",
    "oddsYear = \"2022-2023\"    # URL segment\n",
    "season = 2023             # PGA Tour season\n",
    "db_path = \"data/golf.db\"\n",
    "\n",
    "odds_df = import_historical_odds(oddsYear, season, db_path)\n",
    "odds_df.head()"
   ]
  },
  {
   "cell_type": "markdown",
   "id": "82fc5dfe",
   "metadata": {},
   "source": [
    "**Not normally needed**\n",
    "\n",
    "The code below is a way to troubleshoot the odds function that is in db_utils.py.  If it does not pull the stats correctly, we can run it outside of the db_utils.py file and explore what might be wrong with it, iterating until it works, and then using that fix to update db_utils.py.  This is not normally needed, but wanted to leave this in place as a reference because this odds website can be tricky."
   ]
  },
  {
   "cell_type": "code",
   "execution_count": 32,
   "id": "94460f27",
   "metadata": {},
   "outputs": [
    {
     "name": "stdout",
     "output_type": "stream",
     "text": [
      "📍 Detected: Safeway Open — Ending: 2020-09-13\n",
      "📍 Detected: US Open — Ending: 2020-09-20\n",
      "📍 Detected: R & C Championship — Ending: 2020-09-27\n",
      "📍 Detected: at Big Cedar Lodge - — Ending: 2020-09-22\n",
      "📍 Detected: Sanderson Farms Champ — Ending: 2020-10-04\n",
      "📍 Detected: Shriners H for C Open — Ending: 2020-10-11\n",
      "📍 Detected: The CJ Cup — Ending: 2020-10-18\n",
      "📍 Detected: ZOZO CHAMPIONSHIP — Ending: 2020-10-25\n",
      "📍 Detected: Bermuda Championship — Ending: 2020-11-01\n",
      "📍 Detected: Vivint Houston Open — Ending: 2020-11-08\n",
      "📍 Detected: The Masters — Ending: 2020-11-15\n",
      "📍 Detected: The RSM Classic — Ending: 2020-11-22\n",
      "📍 Detected: Champions for Change — Ending: 2020-11-27\n",
      "📍 Detected: Mayakoba Golf Classic — Ending: 2020-12-06\n",
      "📍 Detected: QBE Shootout — Ending: 2020-12-13\n",
      "📍 Detected: Sentry Tourn of Champions — Ending: 2021-01-10\n",
      "📍 Detected: Sony Open in Hawaii — Ending: 2021-01-17\n",
      "📍 Detected: The American Express — Ending: 2021-01-24\n",
      "📍 Detected: Abu Dhabi HSBC Champ — Ending: 2021-01-24\n",
      "📍 Detected: Farmers Insurance Open — Ending: 2021-01-31\n",
      "📍 Detected: Dubai Desert Classic — Ending: 2021-01-31\n",
      "📍 Detected: W M Phoenix Open — Ending: 2021-02-07\n",
      "📍 Detected: King Abdullah Economic City, — Ending: 2021-02-07\n",
      "📍 Detected: AT&T Pebble Beach Pro-Am — Ending: 2021-02-14\n",
      "📍 Detected: Collegiate Showcase — Ending: 2021-02-15\n",
      "📍 Detected: The Genesis Invitational — Ending: 2021-02-21\n",
      "📍 Detected: WGC-Workday Championship — Ending: 2021-02-28\n",
      "📍 Detected: Puerto Rico Open — Ending: 2021-02-28\n",
      "📍 Detected: Arnold Palmer Invitational — Ending: 2021-03-07\n",
      "📍 Detected: THE PLAYERS Championship — Ending: 2021-03-14\n",
      "📍 Detected: Qatar Masters — Ending: 2021-03-14\n",
      "📍 Detected: The Honda Classic — Ending: 2021-03-21\n",
      "📍 Detected: Magical Kenya Open — Ending: 2021-03-21\n",
      "📍 Detected: Kenya Savannah Classic — Ending: 2021-03-26\n",
      "📍 Detected: WGC-Dell Tech Match Play — Ending: 2021-03-28\n",
      "📍 Detected: Corales Punta Cana Champ — Ending: 2021-03-28\n",
      "📍 Detected: Valero Texas Open — Ending: 2021-04-04\n",
      "📍 Detected: The Masters — Ending: 2021-04-11\n",
      "📍 Detected: RBC Heritage — Ending: 2021-04-18\n",
      "📍 Detected: Austrian Golf Open — Ending: 2021-04-18\n",
      "📍 Detected: MGM Resorts Championship — Ending: 2021-04-18\n",
      "📍 Detected: Zurich Classic of New Orleans — Ending: 2021-04-25\n",
      "📍 Detected: Gran Canaria Lopesan Open — Ending: 2021-04-25\n",
      "📍 Detected: Valspar Championship — Ending: 2021-05-02\n",
      "📍 Detected: Tenerife Open — Ending: 2021-05-02\n",
      "📍 Detected: Wells Fargo Championship — Ending: 2021-05-09\n",
      "📍 Detected: Canary Islands Championship — Ending: 2021-05-09\n",
      "📍 Detected: AT&T Byron Nelson — Ending: 2021-05-16\n",
      "📍 Detected: British Masters — Ending: 2021-05-16\n",
      "📍 Detected: PGA Championship — Ending: 2021-05-23\n",
      "📍 Detected: Charles Schwab Challenge — Ending: 2021-05-30\n",
      "📍 Detected: Made in Himmerland — Ending: 2021-05-30\n",
      "📍 Detected: The Memorial Tournament — Ending: 2021-06-06\n",
      "📍 Detected: Porsche European Open — Ending: 2021-06-07\n",
      "📍 Detected: Palmetto Championship — Ending: 2021-06-13\n",
      "📍 Detected: Scandinavian Mixed — Ending: 2021-06-13\n",
      "📍 Detected: US Open — Ending: 2021-06-20\n",
      "📍 Detected: Travelers Championship — Ending: 2021-06-27\n",
      "📍 Detected: BMW International Open — Ending: 2021-06-27\n",
      "📍 Detected: Rocket Mortgage Classic — Ending: 2021-07-04\n",
      "📍 Detected: Dubai Duty Free Irish Open — Ending: 2021-07-04\n",
      "📍 Detected: Moonlight Basin - — Ending: 2021-07-06\n",
      "📍 Detected: John Deere Classic — Ending: 2021-07-11\n",
      "📍 Detected: abrdn Scottish Open — Ending: 2021-07-11\n",
      "📍 Detected: The Open Championship — Ending: 2021-07-18\n",
      "📍 Detected: Barbasol Championship — Ending: 2021-07-18\n",
      "📍 Detected: 3M Open — Ending: 2021-07-25\n",
      "📍 Detected: Cazoo Open — Ending: 2021-07-25\n",
      "📍 Detected: Men's Olympic Golf — Ending: 2021-08-01\n",
      "📍 Detected: World Invitational — Ending: 2021-08-01\n",
      "📍 Detected: WGC-FedEx St. Jude Invit — Ending: 2021-08-08\n",
      "📍 Detected: Barracuda Championship — Ending: 2021-08-08\n",
      "📍 Detected: Hero Open — Ending: 2021-08-08\n",
      "📍 Detected: Wyndham Championship — Ending: 2021-08-15\n",
      "📍 Detected: Cazoo Classic — Ending: 2021-08-15\n",
      "📍 Detected: The Northern Trust — Ending: 2021-08-23\n",
      "📍 Detected: D+D Real Czech Masters — Ending: 2021-08-22\n",
      "📍 Detected: BMW Championship — Ending: 2021-08-29\n",
      "📍 Detected: Omega European Masters — Ending: 2021-08-29\n",
      "📍 Detected: TOUR Championship — Ending: 2021-09-05\n",
      "📍 Detected: Italian Open — Ending: 2021-09-05\n",
      "📍 Detected: BMW PGA Championship — Ending: 2021-09-12\n",
      "📍 Detected: Dutch Open — Ending: 2021-09-19\n",
      "📍 Detected: 43rd Ryder Cup — Ending: 2021-09-26\n",
      "📍 Detected: Alfred Dunhill Links Champ — Ending: 2021-10-03\n",
      "📍 Detected: Open de Espana — Ending: 2021-10-10\n",
      "📍 Detected: Andalucia Masters — Ending: 2021-10-17\n",
      "📍 Detected: Mallorca Golf Open — Ending: 2021-10-24\n",
      "📍 Detected: Portugal Masters — Ending: 2021-11-07\n",
      "📍 Detected: AVIV Dubai Championship — Ending: 2021-11-14\n",
      "📍 Detected: DP World Tour Championship — Ending: 2021-11-21\n",
      "📍 Detected: Golf Nippon Series JT Cup — Ending: 2021-12-05\n"
     ]
    },
    {
     "data": {
      "text/html": [
       "<div>\n",
       "<style scoped>\n",
       "    .dataframe tbody tr th:only-of-type {\n",
       "        vertical-align: middle;\n",
       "    }\n",
       "\n",
       "    .dataframe tbody tr th {\n",
       "        vertical-align: top;\n",
       "    }\n",
       "\n",
       "    .dataframe thead th {\n",
       "        text-align: right;\n",
       "    }\n",
       "</style>\n",
       "<table border=\"1\" class=\"dataframe\">\n",
       "  <thead>\n",
       "    <tr style=\"text-align: right;\">\n",
       "      <th></th>\n",
       "      <th>SEASON</th>\n",
       "      <th>TOURNAMENT</th>\n",
       "      <th>ENDING_DATE</th>\n",
       "      <th>PLAYER</th>\n",
       "      <th>ODDS</th>\n",
       "      <th>VEGAS_ODDS</th>\n",
       "    </tr>\n",
       "  </thead>\n",
       "  <tbody>\n",
       "    <tr>\n",
       "      <th>0</th>\n",
       "      <td>2021</td>\n",
       "      <td>Safeway Open</td>\n",
       "      <td>2020-09-13</td>\n",
       "      <td>Phil Mickelson</td>\n",
       "      <td>20/1</td>\n",
       "      <td>20.0</td>\n",
       "    </tr>\n",
       "    <tr>\n",
       "      <th>1</th>\n",
       "      <td>2021</td>\n",
       "      <td>Safeway Open</td>\n",
       "      <td>2020-09-13</td>\n",
       "      <td>Si Woo Kim</td>\n",
       "      <td>20/1</td>\n",
       "      <td>20.0</td>\n",
       "    </tr>\n",
       "    <tr>\n",
       "      <th>2</th>\n",
       "      <td>2021</td>\n",
       "      <td>Safeway Open</td>\n",
       "      <td>2020-09-13</td>\n",
       "      <td>Brendan Steele</td>\n",
       "      <td>20/1</td>\n",
       "      <td>20.0</td>\n",
       "    </tr>\n",
       "    <tr>\n",
       "      <th>3</th>\n",
       "      <td>2021</td>\n",
       "      <td>Safeway Open</td>\n",
       "      <td>2020-09-13</td>\n",
       "      <td>Shane Lowry</td>\n",
       "      <td>25/1</td>\n",
       "      <td>25.0</td>\n",
       "    </tr>\n",
       "    <tr>\n",
       "      <th>4</th>\n",
       "      <td>2021</td>\n",
       "      <td>Safeway Open</td>\n",
       "      <td>2020-09-13</td>\n",
       "      <td>Sergio Garcia</td>\n",
       "      <td>30/1</td>\n",
       "      <td>30.0</td>\n",
       "    </tr>\n",
       "  </tbody>\n",
       "</table>\n",
       "</div>"
      ],
      "text/plain": [
       "   SEASON    TOURNAMENT ENDING_DATE          PLAYER  ODDS  VEGAS_ODDS\n",
       "0    2021  Safeway Open  2020-09-13  Phil Mickelson  20/1        20.0\n",
       "1    2021  Safeway Open  2020-09-13      Si Woo Kim  20/1        20.0\n",
       "2    2021  Safeway Open  2020-09-13  Brendan Steele  20/1        20.0\n",
       "3    2021  Safeway Open  2020-09-13     Shane Lowry  25/1        25.0\n",
       "4    2021  Safeway Open  2020-09-13   Sergio Garcia  30/1        30.0"
      ]
     },
     "metadata": {},
     "output_type": "display_data"
    }
   ],
   "source": [
    "import pandas as pd\n",
    "import numpy as np\n",
    "import requests\n",
    "import re\n",
    "from datetime import datetime\n",
    "from io import StringIO\n",
    "\n",
    "# === USER INPUT ===\n",
    "oddsYear = \"2020-2021\"    # URL segment\n",
    "season = 2021        # PGA Tour season\n",
    "\n",
    "url = f\"http://golfodds.com/archives-{oddsYear}.html\"\n",
    "response = requests.get(url)\n",
    "tables = pd.read_html(StringIO(response.text))\n",
    "# raw_df = tables[5]  # the actual table of interest\n",
    "# Find the largest 2-column table that contains at least some odds-like strings\n",
    "raw_df = None\n",
    "for tbl in tables:\n",
    "    if tbl.shape[1] == 2 and tbl.shape[0] > 50:  # Rough filter\n",
    "        sample = tbl.iloc[:, 1].astype(str).str.contains(r\"\\d+/\\d+\").sum()\n",
    "        if sample > 5:\n",
    "            raw_df = tbl\n",
    "            break\n",
    "\n",
    "if raw_df is None:\n",
    "    raise ValueError(\"❌ Could not find valid odds table on the page.\")\n",
    "\n",
    "# === STEP 1: Initial clean-up ===\n",
    "df = raw_df.dropna(how=\"all\").reset_index(drop=True)\n",
    "df.columns = [\"PLAYER\", \"ODDS\"]\n",
    "\n",
    "# 🔧 Clean up non-breaking spaces and extra whitespace\n",
    "df[\"PLAYER\"] = (\n",
    "    df[\"PLAYER\"]\n",
    "    .astype(str)\n",
    "    .str.replace(\"\\xa0\", \" \", regex=False)\n",
    "    .str.replace(r\"\\s+\", \" \", regex=True)\n",
    "    .str.strip()\n",
    ")\n",
    "\n",
    "df.insert(loc=0, column=\"SEASON\", value=season)\n",
    "df.insert(loc=1, column=\"TOURNAMENT\", value=np.nan)\n",
    "df.insert(loc=2, column=\"ENDING_DATE\", value=np.nan)\n",
    "\n",
    "# === STEP 2: Helper function for parsing date strings ===\n",
    "def parse_ending_date(text):\n",
    "    import re\n",
    "    from datetime import datetime\n",
    "\n",
    "    # Normalize whitespace and symbols\n",
    "    text = (\n",
    "        text.replace(\"\\u2013\", \"-\")\n",
    "            .replace(\"–\", \"-\")\n",
    "            .replace(\"\\xa0\", \" \")\n",
    "    )\n",
    "    text = re.sub(r\"\\bSept(?!ember)\\b\", \"Sep\", text)\n",
    "\n",
    "    # ✅ Fix typo: \"Match\" → \"March\" only when used in a date context\n",
    "    text = re.sub(r\"\\bMatch(?=\\s+\\d{1,2}\\s*[-–]\\s*\\d{1,2},\\s*\\d{4})\", \"March\", text)\n",
    "\n",
    "    # Pattern 1: \"July 30 - August 2, 2015\" or \"Oct 29 - Nov 1, 2015\"\n",
    "    match = re.search(r\"(\\w+)\\s\\d+\\s*-\\s*(\\w+)\\s(\\d+),\\s(\\d{4})\", text)\n",
    "    if match:\n",
    "        month2, day2, year = match.group(2), match.group(3), match.group(4)\n",
    "        for fmt in [\"%B %d, %Y\", \"%b %d, %Y\"]:\n",
    "            try:\n",
    "                return datetime.strptime(f\"{month2} {day2}, {year}\", fmt).date()\n",
    "            except ValueError:\n",
    "                continue\n",
    "\n",
    "    # Pattern 2: \"November 21-24, 2024\"\n",
    "    match = re.search(r\"(\\w+)\\s\\d+-\\d+,\\s(\\d{4})\", text)\n",
    "    if match:\n",
    "        month, year = match.group(1), match.group(2)\n",
    "        day = re.search(r\"(\\d+)-(\\d+)\", text).group(2)\n",
    "        for fmt in [\"%B %d, %Y\", \"%b %d, %Y\"]:\n",
    "            try:\n",
    "                return datetime.strptime(f\"{month} {day}, {year}\", fmt).date()\n",
    "            except ValueError:\n",
    "                continue\n",
    "\n",
    "    # Pattern 3: \"Sunday, October 20, 2019\"\n",
    "    try:\n",
    "        return datetime.strptime(text.strip(), \"%A, %B %d, %Y\").date()\n",
    "    except ValueError:\n",
    "        pass\n",
    "\n",
    "    # Pattern 4: \"October 20, 2019\"\n",
    "    try:\n",
    "        return datetime.strptime(text.strip(), \"%B %d, %Y\").date()\n",
    "    except ValueError:\n",
    "        pass\n",
    "\n",
    "    return None\n",
    "\n",
    "last_tourn_name = None\n",
    "last_date = None\n",
    "\n",
    "# === STEP 3: Iterate block by block ===\n",
    "final_rows = []\n",
    "i = 0\n",
    "last_tourn_name = None\n",
    "last_end_date = None\n",
    "\n",
    "while i < len(df) - 4:\n",
    "    player_i = str(df.loc[i, \"PLAYER\"])\n",
    "    player_i2 = str(df.loc[i + 2, \"PLAYER\"])\n",
    "    player_i3 = str(df.loc[i + 3, \"PLAYER\"]).lower()\n",
    "\n",
    "    # Detect start of a new tournament block\n",
    "    is_header = (\n",
    "        pd.isna(df.loc[i, \"ODDS\"]) and\n",
    "        pd.isna(df.loc[i + 1, \"ODDS\"]) and (\n",
    "            re.search(r\"\\w+\\s\\d+\\s*[-–]\\s*(\\w+\\s)?\\d+,\\s\\d{4}\", player_i2) or\n",
    "            re.search(r\"(Monday|Tuesday|Wednesday|Thursday|Friday|Saturday|Sunday),?\\s+\\w+\\s\\d{1,2},\\s\\d{4}\", player_i2)\n",
    "        )\n",
    "    )\n",
    "\n",
    "    if is_header:\n",
    "        tourn_name = player_i.strip()\n",
    "        end_date = parse_ending_date(player_i2)\n",
    "\n",
    "        # Skip cancelled or empty blocks\n",
    "        if \"cancelled\" in player_i3:\n",
    "            print(f\"⚠️ Skipping cancelled tournament: {tourn_name} — {end_date}\")\n",
    "            i += 4\n",
    "            continue\n",
    "\n",
    "        # Avoid duplicate block processing\n",
    "        if tourn_name == last_tourn_name and end_date == last_end_date:\n",
    "            i += 1\n",
    "            continue\n",
    "\n",
    "        print(f\"📍 Detected: {tourn_name} — Ending: {end_date}\")\n",
    "        last_tourn_name = tourn_name\n",
    "        last_end_date = end_date\n",
    "        i += 4  # Skip header lines\n",
    "\n",
    "        # Collect all player rows until next header block\n",
    "        while i < len(df) - 2:\n",
    "            next_i2 = str(df.loc[i + 2, \"PLAYER\"])\n",
    "            is_next_header = (\n",
    "                pd.isna(df.loc[i, \"ODDS\"]) and\n",
    "                pd.isna(df.loc[i + 1, \"ODDS\"]) and (\n",
    "                    re.search(r\"\\w+\\s\\d+\\s*[-–]\\s*(\\w+\\s)?\\d+,\\s\\d{4}\", next_i2) or\n",
    "                    re.search(r\"(Monday|Tuesday|Wednesday|Thursday|Friday|Saturday|Sunday),?\\s+\\w+\\s\\d{1,2},\\s\\d{4}\", next_i2)\n",
    "                )\n",
    "            )\n",
    "            if is_next_header:\n",
    "                break\n",
    "\n",
    "            if pd.notna(df.loc[i, \"ODDS\"]):\n",
    "                row = df.loc[i].copy()\n",
    "                row[\"TOURNAMENT\"] = tourn_name\n",
    "                row[\"ENDING_DATE\"] = end_date\n",
    "                final_rows.append(row)\n",
    "            i += 1\n",
    "    else:\n",
    "        i += 1\n",
    "\n",
    "# === STEP 4: Create cleaned DataFrame ===\n",
    "clean_df = pd.DataFrame(final_rows)\n",
    "\n",
    "# ✅ Prevent crash if nothing was parsed\n",
    "if clean_df.empty or \"PLAYER\" not in clean_df.columns:\n",
    "    print(f\"⚠️ No valid tournament blocks detected for season {season} ({oddsYear})\")\n",
    "    final_df = pd.DataFrame()  # Safe fallback\n",
    "else:\n",
    "    # Remove winner tag\n",
    "    clean_df[\"PLAYER\"] = clean_df[\"PLAYER\"].str.replace(r\"\\s\\*Winner\\*\", \"\", regex=True)\n",
    "\n",
    "    # Clean odds to numeric\n",
    "    clean_df[\"VEGAS_ODDS\"] = (\n",
    "        clean_df[\"ODDS\"]\n",
    "        .str.replace(\",\", \"\")\n",
    "        .str.extract(r\"(\\d+)/(\\d+)\")\n",
    "        .astype(float)\n",
    "        .apply(lambda x: x[0] / x[1], axis=1)\n",
    "    )\n",
    "\n",
    "    # Final output with source index for debugging\n",
    "    final_df = clean_df[\n",
    "        [\"SEASON\", \"TOURNAMENT\", \"ENDING_DATE\", \"PLAYER\", \"ODDS\", \"VEGAS_ODDS\"]\n",
    "    ].reset_index(drop=True)\n",
    "\n",
    "    # Drop non-standard team events (e.g., Presidents Cup, Ryder Cup)\n",
    "    drop_terms = [\"Presidents Cup\", \"Ryder Cup\"]\n",
    "    final_df = final_df[~final_df[\"TOURNAMENT\"].str.contains(\"|\".join(drop_terms), case=False, na=False)]\n",
    "\n",
    "    display(final_df.head())\n",
    "\n"
   ]
  },
  {
   "cell_type": "code",
   "execution_count": 33,
   "id": "1ba6ed1d",
   "metadata": {},
   "outputs": [
    {
     "name": "stdout",
     "output_type": "stream",
     "text": [
      "🧪 Rows with invalid ENDING_DATE values: 0\n"
     ]
    },
    {
     "data": {
      "text/html": [
       "<div>\n",
       "<style scoped>\n",
       "    .dataframe tbody tr th:only-of-type {\n",
       "        vertical-align: middle;\n",
       "    }\n",
       "\n",
       "    .dataframe tbody tr th {\n",
       "        vertical-align: top;\n",
       "    }\n",
       "\n",
       "    .dataframe thead th {\n",
       "        text-align: right;\n",
       "    }\n",
       "</style>\n",
       "<table border=\"1\" class=\"dataframe\">\n",
       "  <thead>\n",
       "    <tr style=\"text-align: right;\">\n",
       "      <th></th>\n",
       "      <th>SEASON</th>\n",
       "      <th>TOURNAMENT</th>\n",
       "      <th>ENDING_DATE</th>\n",
       "      <th>PLAYER</th>\n",
       "      <th>ODDS</th>\n",
       "      <th>VEGAS_ODDS</th>\n",
       "    </tr>\n",
       "  </thead>\n",
       "  <tbody>\n",
       "  </tbody>\n",
       "</table>\n",
       "</div>"
      ],
      "text/plain": [
       "Empty DataFrame\n",
       "Columns: [SEASON, TOURNAMENT, ENDING_DATE, PLAYER, ODDS, VEGAS_ODDS]\n",
       "Index: []"
      ]
     },
     "metadata": {},
     "output_type": "display_data"
    }
   ],
   "source": [
    "from datetime import datetime, date\n",
    "# ✅ Check for non-date types in ENDING_DATE\n",
    "non_dates = final_df[~final_df[\"ENDING_DATE\"].apply(lambda x: isinstance(x, date))]\n",
    "\n",
    "print(f\"🧪 Rows with invalid ENDING_DATE values: {len(non_dates)}\")\n",
    "display(non_dates.head(10))\n",
    "\n"
   ]
  },
  {
   "cell_type": "code",
   "execution_count": 34,
   "id": "d42bfaa0",
   "metadata": {},
   "outputs": [
    {
     "name": "stdout",
     "output_type": "stream",
     "text": [
      "🚨 Duplicate primary keys in final_df: 0\n"
     ]
    },
    {
     "data": {
      "text/html": [
       "<div>\n",
       "<style scoped>\n",
       "    .dataframe tbody tr th:only-of-type {\n",
       "        vertical-align: middle;\n",
       "    }\n",
       "\n",
       "    .dataframe tbody tr th {\n",
       "        vertical-align: top;\n",
       "    }\n",
       "\n",
       "    .dataframe thead th {\n",
       "        text-align: right;\n",
       "    }\n",
       "</style>\n",
       "<table border=\"1\" class=\"dataframe\">\n",
       "  <thead>\n",
       "    <tr style=\"text-align: right;\">\n",
       "      <th></th>\n",
       "      <th>SEASON</th>\n",
       "      <th>TOURNAMENT</th>\n",
       "      <th>ENDING_DATE</th>\n",
       "      <th>PLAYER</th>\n",
       "      <th>ODDS</th>\n",
       "      <th>VEGAS_ODDS</th>\n",
       "    </tr>\n",
       "  </thead>\n",
       "  <tbody>\n",
       "  </tbody>\n",
       "</table>\n",
       "</div>"
      ],
      "text/plain": [
       "Empty DataFrame\n",
       "Columns: [SEASON, TOURNAMENT, ENDING_DATE, PLAYER, ODDS, VEGAS_ODDS]\n",
       "Index: []"
      ]
     },
     "metadata": {},
     "output_type": "display_data"
    }
   ],
   "source": [
    "dupes = final_df.duplicated(subset=[\"SEASON\", \"TOURNAMENT\", \"ENDING_DATE\", \"PLAYER\"], keep=False)\n",
    "\n",
    "print(f\"🚨 Duplicate primary keys in final_df: {dupes.sum()}\")\n",
    "display(final_df[dupes].sort_values(by=[\"SEASON\", \"TOURNAMENT\", \"PLAYER\"]))"
   ]
  },
  {
   "cell_type": "markdown",
   "id": "d5827d49",
   "metadata": {},
   "source": [
    "## Historical Data"
   ]
  },
  {
   "cell_type": "markdown",
   "id": "72034314",
   "metadata": {},
   "source": [
    "### Pull Relevant Seasons\n",
    "Do a check to see when this course or tournament have been historically played."
   ]
  },
  {
   "cell_type": "code",
   "execution_count": 5,
   "id": "fea9c7c6",
   "metadata": {},
   "outputs": [
    {
     "name": "stdout",
     "output_type": "stream",
     "text": [
      "ℹ️ Found 5 relevant tournaments from course or tournament name.\n"
     ]
    },
    {
     "data": {
      "text/html": [
       "<div>\n",
       "<style scoped>\n",
       "    .dataframe tbody tr th:only-of-type {\n",
       "        vertical-align: middle;\n",
       "    }\n",
       "\n",
       "    .dataframe tbody tr th {\n",
       "        vertical-align: top;\n",
       "    }\n",
       "\n",
       "    .dataframe thead th {\n",
       "        text-align: right;\n",
       "    }\n",
       "</style>\n",
       "<table border=\"1\" class=\"dataframe\">\n",
       "  <thead>\n",
       "    <tr style=\"text-align: right;\">\n",
       "      <th></th>\n",
       "      <th>SEASON</th>\n",
       "      <th>COURSE</th>\n",
       "      <th>TOURN_ID</th>\n",
       "      <th>TOURNAMENT</th>\n",
       "      <th>ENDING_DATE</th>\n",
       "    </tr>\n",
       "  </thead>\n",
       "  <tbody>\n",
       "    <tr>\n",
       "      <th>312</th>\n",
       "      <td>2019</td>\n",
       "      <td>Detroit Golf Club</td>\n",
       "      <td>524</td>\n",
       "      <td>Rocket Mortgage Classic</td>\n",
       "      <td>2019-06-30</td>\n",
       "    </tr>\n",
       "    <tr>\n",
       "      <th>156</th>\n",
       "      <td>2020</td>\n",
       "      <td>Detroit Golf Club</td>\n",
       "      <td>524</td>\n",
       "      <td>Rocket Mortgage Classic</td>\n",
       "      <td>2020-07-05</td>\n",
       "    </tr>\n",
       "    <tr>\n",
       "      <th>0</th>\n",
       "      <td>2021</td>\n",
       "      <td>Detroit Golf Club</td>\n",
       "      <td>524</td>\n",
       "      <td>Rocket Mortgage Classic</td>\n",
       "      <td>2021-07-04</td>\n",
       "    </tr>\n",
       "    <tr>\n",
       "      <th>468</th>\n",
       "      <td>2023</td>\n",
       "      <td>Detroit Golf Club</td>\n",
       "      <td>R2023524</td>\n",
       "      <td>Rocket Mortgage Classic</td>\n",
       "      <td>2023-07-02</td>\n",
       "    </tr>\n",
       "    <tr>\n",
       "      <th>624</th>\n",
       "      <td>2024</td>\n",
       "      <td>Detroit Golf Club</td>\n",
       "      <td>R2024524</td>\n",
       "      <td>Rocket Mortgage Classic</td>\n",
       "      <td>2024-06-30</td>\n",
       "    </tr>\n",
       "  </tbody>\n",
       "</table>\n",
       "</div>"
      ],
      "text/plain": [
       "     SEASON             COURSE  TOURN_ID               TOURNAMENT ENDING_DATE\n",
       "312    2019  Detroit Golf Club       524  Rocket Mortgage Classic  2019-06-30\n",
       "156    2020  Detroit Golf Club       524  Rocket Mortgage Classic  2020-07-05\n",
       "0      2021  Detroit Golf Club       524  Rocket Mortgage Classic  2021-07-04\n",
       "468    2023  Detroit Golf Club  R2023524  Rocket Mortgage Classic  2023-07-02\n",
       "624    2024  Detroit Golf Club  R2024524  Rocket Mortgage Classic  2024-06-30"
      ]
     },
     "execution_count": 5,
     "metadata": {},
     "output_type": "execute_result"
    }
   ],
   "source": [
    "importlib.reload(utils.db_utils)\n",
    "from utils.db_utils import get_combined_history_seasons\n",
    "\n",
    "# === USER INPUT ===\n",
    "seasons = list(range(2016, 2025))  # Adjust as needed\n",
    "db_path = \"data/golf.db\"\n",
    "\n",
    "# Pull course and tournament from config\n",
    "n_course = tournament_config[\"new\"][\"course\"]\n",
    "n_tourn = tournament_config[\"new\"][\"name\"]\n",
    "\n",
    "# Fetch relevant history\n",
    "history_df = get_combined_history_seasons(db_path, course=n_course, tournament=n_tourn, allowed_seasons=seasons)\n",
    "history_df.head(20)\n"
   ]
  },
  {
   "cell_type": "markdown",
   "id": "09441025",
   "metadata": {},
   "source": [
    "### Cut Percentage and FedEx Points\n",
    "Use a rolling-window approach to look at the most recent cut percentage and how many FedEx cup points have been accumulated recently. This will intentionally not match the PGA Tour stats that start over every year, but will have the same amount of data all the time.  We also add a new feature called Form Density which divides the FedEx Cup Points by the Total Events."
   ]
  },
  {
   "cell_type": "code",
   "execution_count": 6,
   "id": "300bf650",
   "metadata": {},
   "outputs": [
    {
     "name": "stdout",
     "output_type": "stream",
     "text": [
      "\n",
      "📆 2019-06-30 — Rocket Mortgage Classic (492 players)\n"
     ]
    },
    {
     "data": {
      "text/html": [
       "<div>\n",
       "<style scoped>\n",
       "    .dataframe tbody tr th:only-of-type {\n",
       "        vertical-align: middle;\n",
       "    }\n",
       "\n",
       "    .dataframe tbody tr th {\n",
       "        vertical-align: top;\n",
       "    }\n",
       "\n",
       "    .dataframe thead th {\n",
       "        text-align: right;\n",
       "    }\n",
       "</style>\n",
       "<table border=\"1\" class=\"dataframe\">\n",
       "  <thead>\n",
       "    <tr style=\"text-align: right;\">\n",
       "      <th></th>\n",
       "      <th>PLAYER</th>\n",
       "      <th>TOTAL_EVENTS_PLAYED</th>\n",
       "      <th>CUTS_MADE</th>\n",
       "      <th>FEDEX_CUP_POINTS</th>\n",
       "      <th>CUT_PERCENTAGE</th>\n",
       "      <th>form_density</th>\n",
       "      <th>CONSECUTIVE_CUTS</th>\n",
       "      <th>ENDING_DATE</th>\n",
       "      <th>TOURNAMENT</th>\n",
       "    </tr>\n",
       "  </thead>\n",
       "  <tbody>\n",
       "    <tr>\n",
       "      <th>0</th>\n",
       "      <td>Aaron Baddeley</td>\n",
       "      <td>15</td>\n",
       "      <td>8</td>\n",
       "      <td>273.88</td>\n",
       "      <td>53.3</td>\n",
       "      <td>18.26</td>\n",
       "      <td>0</td>\n",
       "      <td>2019-06-30</td>\n",
       "      <td>Rocket Mortgage Classic</td>\n",
       "    </tr>\n",
       "    <tr>\n",
       "      <th>1</th>\n",
       "      <td>Aaron Wise</td>\n",
       "      <td>14</td>\n",
       "      <td>9</td>\n",
       "      <td>301.72</td>\n",
       "      <td>64.3</td>\n",
       "      <td>21.55</td>\n",
       "      <td>1</td>\n",
       "      <td>2019-06-30</td>\n",
       "      <td>Rocket Mortgage Classic</td>\n",
       "    </tr>\n",
       "    <tr>\n",
       "      <th>2</th>\n",
       "      <td>Abraham Ancer</td>\n",
       "      <td>17</td>\n",
       "      <td>14</td>\n",
       "      <td>462.77</td>\n",
       "      <td>82.4</td>\n",
       "      <td>27.22</td>\n",
       "      <td>6</td>\n",
       "      <td>2019-06-30</td>\n",
       "      <td>Rocket Mortgage Classic</td>\n",
       "    </tr>\n",
       "  </tbody>\n",
       "</table>\n",
       "</div>"
      ],
      "text/plain": [
       "           PLAYER  TOTAL_EVENTS_PLAYED  CUTS_MADE  FEDEX_CUP_POINTS  \\\n",
       "0  Aaron Baddeley                   15          8            273.88   \n",
       "1      Aaron Wise                   14          9            301.72   \n",
       "2   Abraham Ancer                   17         14            462.77   \n",
       "\n",
       "   CUT_PERCENTAGE  form_density  CONSECUTIVE_CUTS ENDING_DATE  \\\n",
       "0            53.3         18.26                 0  2019-06-30   \n",
       "1            64.3         21.55                 1  2019-06-30   \n",
       "2            82.4         27.22                 6  2019-06-30   \n",
       "\n",
       "                TOURNAMENT  \n",
       "0  Rocket Mortgage Classic  \n",
       "1  Rocket Mortgage Classic  \n",
       "2  Rocket Mortgage Classic  "
      ]
     },
     "metadata": {},
     "output_type": "display_data"
    },
    {
     "name": "stdout",
     "output_type": "stream",
     "text": [
      "\n",
      "📆 2020-07-05 — Rocket Mortgage Classic (396 players)\n"
     ]
    },
    {
     "data": {
      "text/html": [
       "<div>\n",
       "<style scoped>\n",
       "    .dataframe tbody tr th:only-of-type {\n",
       "        vertical-align: middle;\n",
       "    }\n",
       "\n",
       "    .dataframe tbody tr th {\n",
       "        vertical-align: top;\n",
       "    }\n",
       "\n",
       "    .dataframe thead th {\n",
       "        text-align: right;\n",
       "    }\n",
       "</style>\n",
       "<table border=\"1\" class=\"dataframe\">\n",
       "  <thead>\n",
       "    <tr style=\"text-align: right;\">\n",
       "      <th></th>\n",
       "      <th>PLAYER</th>\n",
       "      <th>TOTAL_EVENTS_PLAYED</th>\n",
       "      <th>CUTS_MADE</th>\n",
       "      <th>FEDEX_CUP_POINTS</th>\n",
       "      <th>CUT_PERCENTAGE</th>\n",
       "      <th>form_density</th>\n",
       "      <th>CONSECUTIVE_CUTS</th>\n",
       "      <th>ENDING_DATE</th>\n",
       "      <th>TOURNAMENT</th>\n",
       "    </tr>\n",
       "  </thead>\n",
       "  <tbody>\n",
       "    <tr>\n",
       "      <th>0</th>\n",
       "      <td>Aaron Baddeley</td>\n",
       "      <td>11</td>\n",
       "      <td>5</td>\n",
       "      <td>95.40</td>\n",
       "      <td>45.5</td>\n",
       "      <td>8.67</td>\n",
       "      <td>0</td>\n",
       "      <td>2020-07-05</td>\n",
       "      <td>Rocket Mortgage Classic</td>\n",
       "    </tr>\n",
       "    <tr>\n",
       "      <th>1</th>\n",
       "      <td>Aaron Wise</td>\n",
       "      <td>12</td>\n",
       "      <td>4</td>\n",
       "      <td>110.75</td>\n",
       "      <td>33.3</td>\n",
       "      <td>9.23</td>\n",
       "      <td>1</td>\n",
       "      <td>2020-07-05</td>\n",
       "      <td>Rocket Mortgage Classic</td>\n",
       "    </tr>\n",
       "    <tr>\n",
       "      <th>2</th>\n",
       "      <td>Abraham Ancer</td>\n",
       "      <td>11</td>\n",
       "      <td>10</td>\n",
       "      <td>839.66</td>\n",
       "      <td>90.9</td>\n",
       "      <td>76.33</td>\n",
       "      <td>10</td>\n",
       "      <td>2020-07-05</td>\n",
       "      <td>Rocket Mortgage Classic</td>\n",
       "    </tr>\n",
       "  </tbody>\n",
       "</table>\n",
       "</div>"
      ],
      "text/plain": [
       "           PLAYER  TOTAL_EVENTS_PLAYED  CUTS_MADE  FEDEX_CUP_POINTS  \\\n",
       "0  Aaron Baddeley                   11          5             95.40   \n",
       "1      Aaron Wise                   12          4            110.75   \n",
       "2   Abraham Ancer                   11         10            839.66   \n",
       "\n",
       "   CUT_PERCENTAGE  form_density  CONSECUTIVE_CUTS ENDING_DATE  \\\n",
       "0            45.5          8.67                 0  2020-07-05   \n",
       "1            33.3          9.23                 1  2020-07-05   \n",
       "2            90.9         76.33                10  2020-07-05   \n",
       "\n",
       "                TOURNAMENT  \n",
       "0  Rocket Mortgage Classic  \n",
       "1  Rocket Mortgage Classic  \n",
       "2  Rocket Mortgage Classic  "
      ]
     },
     "metadata": {},
     "output_type": "display_data"
    },
    {
     "name": "stdout",
     "output_type": "stream",
     "text": [
      "\n",
      "📆 2021-07-04 — Rocket Mortgage Classic (485 players)\n"
     ]
    },
    {
     "data": {
      "text/html": [
       "<div>\n",
       "<style scoped>\n",
       "    .dataframe tbody tr th:only-of-type {\n",
       "        vertical-align: middle;\n",
       "    }\n",
       "\n",
       "    .dataframe tbody tr th {\n",
       "        vertical-align: top;\n",
       "    }\n",
       "\n",
       "    .dataframe thead th {\n",
       "        text-align: right;\n",
       "    }\n",
       "</style>\n",
       "<table border=\"1\" class=\"dataframe\">\n",
       "  <thead>\n",
       "    <tr style=\"text-align: right;\">\n",
       "      <th></th>\n",
       "      <th>PLAYER</th>\n",
       "      <th>TOTAL_EVENTS_PLAYED</th>\n",
       "      <th>CUTS_MADE</th>\n",
       "      <th>FEDEX_CUP_POINTS</th>\n",
       "      <th>CUT_PERCENTAGE</th>\n",
       "      <th>form_density</th>\n",
       "      <th>CONSECUTIVE_CUTS</th>\n",
       "      <th>ENDING_DATE</th>\n",
       "      <th>TOURNAMENT</th>\n",
       "    </tr>\n",
       "  </thead>\n",
       "  <tbody>\n",
       "    <tr>\n",
       "      <th>0</th>\n",
       "      <td>Aaron Baddeley</td>\n",
       "      <td>10</td>\n",
       "      <td>2</td>\n",
       "      <td>18.08</td>\n",
       "      <td>20.0</td>\n",
       "      <td>1.81</td>\n",
       "      <td>0</td>\n",
       "      <td>2021-07-04</td>\n",
       "      <td>Rocket Mortgage Classic</td>\n",
       "    </tr>\n",
       "    <tr>\n",
       "      <th>1</th>\n",
       "      <td>Aaron Rai</td>\n",
       "      <td>1</td>\n",
       "      <td>0</td>\n",
       "      <td>0.00</td>\n",
       "      <td>0.0</td>\n",
       "      <td>0.00</td>\n",
       "      <td>0</td>\n",
       "      <td>2021-07-04</td>\n",
       "      <td>Rocket Mortgage Classic</td>\n",
       "    </tr>\n",
       "    <tr>\n",
       "      <th>2</th>\n",
       "      <td>Aaron Terrazas</td>\n",
       "      <td>1</td>\n",
       "      <td>0</td>\n",
       "      <td>0.00</td>\n",
       "      <td>0.0</td>\n",
       "      <td>0.00</td>\n",
       "      <td>0</td>\n",
       "      <td>2021-07-04</td>\n",
       "      <td>Rocket Mortgage Classic</td>\n",
       "    </tr>\n",
       "  </tbody>\n",
       "</table>\n",
       "</div>"
      ],
      "text/plain": [
       "           PLAYER  TOTAL_EVENTS_PLAYED  CUTS_MADE  FEDEX_CUP_POINTS  \\\n",
       "0  Aaron Baddeley                   10          2             18.08   \n",
       "1       Aaron Rai                    1          0              0.00   \n",
       "2  Aaron Terrazas                    1          0              0.00   \n",
       "\n",
       "   CUT_PERCENTAGE  form_density  CONSECUTIVE_CUTS ENDING_DATE  \\\n",
       "0            20.0          1.81                 0  2021-07-04   \n",
       "1             0.0          0.00                 0  2021-07-04   \n",
       "2             0.0          0.00                 0  2021-07-04   \n",
       "\n",
       "                TOURNAMENT  \n",
       "0  Rocket Mortgage Classic  \n",
       "1  Rocket Mortgage Classic  \n",
       "2  Rocket Mortgage Classic  "
      ]
     },
     "metadata": {},
     "output_type": "display_data"
    },
    {
     "name": "stdout",
     "output_type": "stream",
     "text": [
      "\n",
      "📆 2023-07-02 — Rocket Mortgage Classic (542 players)\n"
     ]
    },
    {
     "data": {
      "text/html": [
       "<div>\n",
       "<style scoped>\n",
       "    .dataframe tbody tr th:only-of-type {\n",
       "        vertical-align: middle;\n",
       "    }\n",
       "\n",
       "    .dataframe tbody tr th {\n",
       "        vertical-align: top;\n",
       "    }\n",
       "\n",
       "    .dataframe thead th {\n",
       "        text-align: right;\n",
       "    }\n",
       "</style>\n",
       "<table border=\"1\" class=\"dataframe\">\n",
       "  <thead>\n",
       "    <tr style=\"text-align: right;\">\n",
       "      <th></th>\n",
       "      <th>PLAYER</th>\n",
       "      <th>TOTAL_EVENTS_PLAYED</th>\n",
       "      <th>CUTS_MADE</th>\n",
       "      <th>FEDEX_CUP_POINTS</th>\n",
       "      <th>CUT_PERCENTAGE</th>\n",
       "      <th>form_density</th>\n",
       "      <th>CONSECUTIVE_CUTS</th>\n",
       "      <th>ENDING_DATE</th>\n",
       "      <th>TOURNAMENT</th>\n",
       "    </tr>\n",
       "  </thead>\n",
       "  <tbody>\n",
       "    <tr>\n",
       "      <th>0</th>\n",
       "      <td>Aaron Baddeley</td>\n",
       "      <td>14</td>\n",
       "      <td>10</td>\n",
       "      <td>325.286</td>\n",
       "      <td>71.4</td>\n",
       "      <td>23.23</td>\n",
       "      <td>0</td>\n",
       "      <td>2023-07-02</td>\n",
       "      <td>Rocket Mortgage Classic</td>\n",
       "    </tr>\n",
       "    <tr>\n",
       "      <th>1</th>\n",
       "      <td>Aaron Beverly</td>\n",
       "      <td>1</td>\n",
       "      <td>1</td>\n",
       "      <td>0.000</td>\n",
       "      <td>100.0</td>\n",
       "      <td>0.00</td>\n",
       "      <td>1</td>\n",
       "      <td>2023-07-02</td>\n",
       "      <td>Rocket Mortgage Classic</td>\n",
       "    </tr>\n",
       "    <tr>\n",
       "      <th>2</th>\n",
       "      <td>Aaron Cockerill</td>\n",
       "      <td>1</td>\n",
       "      <td>0</td>\n",
       "      <td>0.000</td>\n",
       "      <td>0.0</td>\n",
       "      <td>0.00</td>\n",
       "      <td>0</td>\n",
       "      <td>2023-07-02</td>\n",
       "      <td>Rocket Mortgage Classic</td>\n",
       "    </tr>\n",
       "  </tbody>\n",
       "</table>\n",
       "</div>"
      ],
      "text/plain": [
       "            PLAYER  TOTAL_EVENTS_PLAYED  CUTS_MADE  FEDEX_CUP_POINTS  \\\n",
       "0   Aaron Baddeley                   14         10           325.286   \n",
       "1    Aaron Beverly                    1          1             0.000   \n",
       "2  Aaron Cockerill                    1          0             0.000   \n",
       "\n",
       "   CUT_PERCENTAGE  form_density  CONSECUTIVE_CUTS ENDING_DATE  \\\n",
       "0            71.4         23.23                 0  2023-07-02   \n",
       "1           100.0          0.00                 1  2023-07-02   \n",
       "2             0.0          0.00                 0  2023-07-02   \n",
       "\n",
       "                TOURNAMENT  \n",
       "0  Rocket Mortgage Classic  \n",
       "1  Rocket Mortgage Classic  \n",
       "2  Rocket Mortgage Classic  "
      ]
     },
     "metadata": {},
     "output_type": "display_data"
    },
    {
     "name": "stdout",
     "output_type": "stream",
     "text": [
      "\n",
      "📆 2024-06-30 — Rocket Mortgage Classic (503 players)\n"
     ]
    },
    {
     "data": {
      "text/html": [
       "<div>\n",
       "<style scoped>\n",
       "    .dataframe tbody tr th:only-of-type {\n",
       "        vertical-align: middle;\n",
       "    }\n",
       "\n",
       "    .dataframe tbody tr th {\n",
       "        vertical-align: top;\n",
       "    }\n",
       "\n",
       "    .dataframe thead th {\n",
       "        text-align: right;\n",
       "    }\n",
       "</style>\n",
       "<table border=\"1\" class=\"dataframe\">\n",
       "  <thead>\n",
       "    <tr style=\"text-align: right;\">\n",
       "      <th></th>\n",
       "      <th>PLAYER</th>\n",
       "      <th>TOTAL_EVENTS_PLAYED</th>\n",
       "      <th>CUTS_MADE</th>\n",
       "      <th>FEDEX_CUP_POINTS</th>\n",
       "      <th>CUT_PERCENTAGE</th>\n",
       "      <th>form_density</th>\n",
       "      <th>CONSECUTIVE_CUTS</th>\n",
       "      <th>ENDING_DATE</th>\n",
       "      <th>TOURNAMENT</th>\n",
       "    </tr>\n",
       "  </thead>\n",
       "  <tbody>\n",
       "    <tr>\n",
       "      <th>0</th>\n",
       "      <td>Aaron Baddeley</td>\n",
       "      <td>13</td>\n",
       "      <td>9</td>\n",
       "      <td>181.975</td>\n",
       "      <td>69.2</td>\n",
       "      <td>14.00</td>\n",
       "      <td>0</td>\n",
       "      <td>2024-06-30</td>\n",
       "      <td>Rocket Mortgage Classic</td>\n",
       "    </tr>\n",
       "    <tr>\n",
       "      <th>1</th>\n",
       "      <td>Aaron Cockerill</td>\n",
       "      <td>1</td>\n",
       "      <td>0</td>\n",
       "      <td>0.000</td>\n",
       "      <td>0.0</td>\n",
       "      <td>0.00</td>\n",
       "      <td>0</td>\n",
       "      <td>2024-06-30</td>\n",
       "      <td>Rocket Mortgage Classic</td>\n",
       "    </tr>\n",
       "    <tr>\n",
       "      <th>2</th>\n",
       "      <td>Aaron Rai</td>\n",
       "      <td>16</td>\n",
       "      <td>13</td>\n",
       "      <td>544.507</td>\n",
       "      <td>81.2</td>\n",
       "      <td>34.03</td>\n",
       "      <td>7</td>\n",
       "      <td>2024-06-30</td>\n",
       "      <td>Rocket Mortgage Classic</td>\n",
       "    </tr>\n",
       "  </tbody>\n",
       "</table>\n",
       "</div>"
      ],
      "text/plain": [
       "            PLAYER  TOTAL_EVENTS_PLAYED  CUTS_MADE  FEDEX_CUP_POINTS  \\\n",
       "0   Aaron Baddeley                   13          9           181.975   \n",
       "1  Aaron Cockerill                    1          0             0.000   \n",
       "2        Aaron Rai                   16         13           544.507   \n",
       "\n",
       "   CUT_PERCENTAGE  form_density  CONSECUTIVE_CUTS ENDING_DATE  \\\n",
       "0            69.2         14.00                 0  2024-06-30   \n",
       "1             0.0          0.00                 0  2024-06-30   \n",
       "2            81.2         34.03                 7  2024-06-30   \n",
       "\n",
       "                TOURNAMENT  \n",
       "0  Rocket Mortgage Classic  \n",
       "1  Rocket Mortgage Classic  \n",
       "2  Rocket Mortgage Classic  "
      ]
     },
     "metadata": {},
     "output_type": "display_data"
    }
   ],
   "source": [
    "importlib.reload(utils.db_utils)\n",
    "from utils.db_utils import get_cut_and_fedex_history\n",
    "\n",
    "cuts = get_cut_and_fedex_history(\"data/golf.db\", history_df, window_months=9)\n",
    "# cuts[\"2024-05-12\"].head(20)\n",
    "\n",
    "for end_date, df in cuts.items():\n",
    "    print(f\"\\n📆 {end_date} — {df['TOURNAMENT'].iloc[0]} ({len(df)} players)\")\n",
    "    display(df.head(3))"
   ]
  },
  {
   "cell_type": "markdown",
   "id": "ce90fa05",
   "metadata": {},
   "source": [
    "### Recent Form"
   ]
  },
  {
   "cell_type": "code",
   "execution_count": 7,
   "id": "20095a72",
   "metadata": {},
   "outputs": [
    {
     "name": "stdout",
     "output_type": "stream",
     "text": [
      "\n",
      "📆 2019-06-30 — Rocket Mortgage Classic (492 players)\n"
     ]
    },
    {
     "data": {
      "text/html": [
       "<div>\n",
       "<style scoped>\n",
       "    .dataframe tbody tr th:only-of-type {\n",
       "        vertical-align: middle;\n",
       "    }\n",
       "\n",
       "    .dataframe tbody tr th {\n",
       "        vertical-align: top;\n",
       "    }\n",
       "\n",
       "    .dataframe thead th {\n",
       "        text-align: right;\n",
       "    }\n",
       "</style>\n",
       "<table border=\"1\" class=\"dataframe\">\n",
       "  <thead>\n",
       "    <tr style=\"text-align: right;\">\n",
       "      <th></th>\n",
       "      <th>PLAYER</th>\n",
       "      <th>TOTAL_EVENTS_PLAYED</th>\n",
       "      <th>RECENT_FORM</th>\n",
       "      <th>adj_form</th>\n",
       "      <th>ENDING_DATE</th>\n",
       "      <th>TOURNAMENT</th>\n",
       "    </tr>\n",
       "  </thead>\n",
       "  <tbody>\n",
       "    <tr>\n",
       "      <th>0</th>\n",
       "      <td>Jazz Janewattananond</td>\n",
       "      <td>1</td>\n",
       "      <td>14.0</td>\n",
       "      <td>20.20</td>\n",
       "      <td>2019-06-30</td>\n",
       "      <td>Rocket Mortgage Classic</td>\n",
       "    </tr>\n",
       "    <tr>\n",
       "      <th>1</th>\n",
       "      <td>Rory McIlroy</td>\n",
       "      <td>10</td>\n",
       "      <td>15.2</td>\n",
       "      <td>6.34</td>\n",
       "      <td>2019-06-30</td>\n",
       "      <td>Rocket Mortgage Classic</td>\n",
       "    </tr>\n",
       "    <tr>\n",
       "      <th>2</th>\n",
       "      <td>Dustin Johnson</td>\n",
       "      <td>10</td>\n",
       "      <td>15.6</td>\n",
       "      <td>6.51</td>\n",
       "      <td>2019-06-30</td>\n",
       "      <td>Rocket Mortgage Classic</td>\n",
       "    </tr>\n",
       "  </tbody>\n",
       "</table>\n",
       "</div>"
      ],
      "text/plain": [
       "                 PLAYER  TOTAL_EVENTS_PLAYED  RECENT_FORM  adj_form  \\\n",
       "0  Jazz Janewattananond                    1         14.0     20.20   \n",
       "1          Rory McIlroy                   10         15.2      6.34   \n",
       "2        Dustin Johnson                   10         15.6      6.51   \n",
       "\n",
       "  ENDING_DATE               TOURNAMENT  \n",
       "0  2019-06-30  Rocket Mortgage Classic  \n",
       "1  2019-06-30  Rocket Mortgage Classic  \n",
       "2  2019-06-30  Rocket Mortgage Classic  "
      ]
     },
     "metadata": {},
     "output_type": "display_data"
    },
    {
     "name": "stdout",
     "output_type": "stream",
     "text": [
      "\n",
      "📆 2020-07-05 — Rocket Mortgage Classic (396 players)\n"
     ]
    },
    {
     "data": {
      "text/html": [
       "<div>\n",
       "<style scoped>\n",
       "    .dataframe tbody tr th:only-of-type {\n",
       "        vertical-align: middle;\n",
       "    }\n",
       "\n",
       "    .dataframe tbody tr th {\n",
       "        vertical-align: top;\n",
       "    }\n",
       "\n",
       "    .dataframe thead th {\n",
       "        text-align: right;\n",
       "    }\n",
       "</style>\n",
       "<table border=\"1\" class=\"dataframe\">\n",
       "  <thead>\n",
       "    <tr style=\"text-align: right;\">\n",
       "      <th></th>\n",
       "      <th>PLAYER</th>\n",
       "      <th>TOTAL_EVENTS_PLAYED</th>\n",
       "      <th>RECENT_FORM</th>\n",
       "      <th>adj_form</th>\n",
       "      <th>ENDING_DATE</th>\n",
       "      <th>TOURNAMENT</th>\n",
       "    </tr>\n",
       "  </thead>\n",
       "  <tbody>\n",
       "    <tr>\n",
       "      <th>0</th>\n",
       "      <td>Tyrrell Hatton</td>\n",
       "      <td>3</td>\n",
       "      <td>3.3</td>\n",
       "      <td>2.38</td>\n",
       "      <td>2020-07-05</td>\n",
       "      <td>Rocket Mortgage Classic</td>\n",
       "    </tr>\n",
       "    <tr>\n",
       "      <th>1</th>\n",
       "      <td>Patrick Cantlay</td>\n",
       "      <td>5</td>\n",
       "      <td>9.0</td>\n",
       "      <td>5.02</td>\n",
       "      <td>2020-07-05</td>\n",
       "      <td>Rocket Mortgage Classic</td>\n",
       "    </tr>\n",
       "    <tr>\n",
       "      <th>2</th>\n",
       "      <td>Bryson DeChambeau</td>\n",
       "      <td>7</td>\n",
       "      <td>11.7</td>\n",
       "      <td>5.63</td>\n",
       "      <td>2020-07-05</td>\n",
       "      <td>Rocket Mortgage Classic</td>\n",
       "    </tr>\n",
       "  </tbody>\n",
       "</table>\n",
       "</div>"
      ],
      "text/plain": [
       "              PLAYER  TOTAL_EVENTS_PLAYED  RECENT_FORM  adj_form ENDING_DATE  \\\n",
       "0     Tyrrell Hatton                    3          3.3      2.38  2020-07-05   \n",
       "1    Patrick Cantlay                    5          9.0      5.02  2020-07-05   \n",
       "2  Bryson DeChambeau                    7         11.7      5.63  2020-07-05   \n",
       "\n",
       "                TOURNAMENT  \n",
       "0  Rocket Mortgage Classic  \n",
       "1  Rocket Mortgage Classic  \n",
       "2  Rocket Mortgage Classic  "
      ]
     },
     "metadata": {},
     "output_type": "display_data"
    },
    {
     "name": "stdout",
     "output_type": "stream",
     "text": [
      "\n",
      "📆 2021-07-04 — Rocket Mortgage Classic (485 players)\n"
     ]
    },
    {
     "data": {
      "text/html": [
       "<div>\n",
       "<style scoped>\n",
       "    .dataframe tbody tr th:only-of-type {\n",
       "        vertical-align: middle;\n",
       "    }\n",
       "\n",
       "    .dataframe tbody tr th {\n",
       "        vertical-align: top;\n",
       "    }\n",
       "\n",
       "    .dataframe thead th {\n",
       "        text-align: right;\n",
       "    }\n",
       "</style>\n",
       "<table border=\"1\" class=\"dataframe\">\n",
       "  <thead>\n",
       "    <tr style=\"text-align: right;\">\n",
       "      <th></th>\n",
       "      <th>PLAYER</th>\n",
       "      <th>TOTAL_EVENTS_PLAYED</th>\n",
       "      <th>RECENT_FORM</th>\n",
       "      <th>adj_form</th>\n",
       "      <th>ENDING_DATE</th>\n",
       "      <th>TOURNAMENT</th>\n",
       "    </tr>\n",
       "  </thead>\n",
       "  <tbody>\n",
       "    <tr>\n",
       "      <th>0</th>\n",
       "      <td>Guido Migliozzi</td>\n",
       "      <td>2</td>\n",
       "      <td>8.5</td>\n",
       "      <td>7.74</td>\n",
       "      <td>2021-07-04</td>\n",
       "      <td>Rocket Mortgage Classic</td>\n",
       "    </tr>\n",
       "    <tr>\n",
       "      <th>1</th>\n",
       "      <td>Dawie van der Walt</td>\n",
       "      <td>1</td>\n",
       "      <td>20.0</td>\n",
       "      <td>28.85</td>\n",
       "      <td>2021-07-04</td>\n",
       "      <td>Rocket Mortgage Classic</td>\n",
       "    </tr>\n",
       "    <tr>\n",
       "      <th>2</th>\n",
       "      <td>Xander Schauffele</td>\n",
       "      <td>12</td>\n",
       "      <td>22.3</td>\n",
       "      <td>8.69</td>\n",
       "      <td>2021-07-04</td>\n",
       "      <td>Rocket Mortgage Classic</td>\n",
       "    </tr>\n",
       "  </tbody>\n",
       "</table>\n",
       "</div>"
      ],
      "text/plain": [
       "               PLAYER  TOTAL_EVENTS_PLAYED  RECENT_FORM  adj_form ENDING_DATE  \\\n",
       "0     Guido Migliozzi                    2          8.5      7.74  2021-07-04   \n",
       "1  Dawie van der Walt                    1         20.0     28.85  2021-07-04   \n",
       "2   Xander Schauffele                   12         22.3      8.69  2021-07-04   \n",
       "\n",
       "                TOURNAMENT  \n",
       "0  Rocket Mortgage Classic  \n",
       "1  Rocket Mortgage Classic  \n",
       "2  Rocket Mortgage Classic  "
      ]
     },
     "metadata": {},
     "output_type": "display_data"
    },
    {
     "name": "stdout",
     "output_type": "stream",
     "text": [
      "\n",
      "📆 2023-07-02 — Rocket Mortgage Classic (542 players)\n"
     ]
    },
    {
     "data": {
      "text/html": [
       "<div>\n",
       "<style scoped>\n",
       "    .dataframe tbody tr th:only-of-type {\n",
       "        vertical-align: middle;\n",
       "    }\n",
       "\n",
       "    .dataframe tbody tr th {\n",
       "        vertical-align: top;\n",
       "    }\n",
       "\n",
       "    .dataframe thead th {\n",
       "        text-align: right;\n",
       "    }\n",
       "</style>\n",
       "<table border=\"1\" class=\"dataframe\">\n",
       "  <thead>\n",
       "    <tr style=\"text-align: right;\">\n",
       "      <th></th>\n",
       "      <th>PLAYER</th>\n",
       "      <th>TOTAL_EVENTS_PLAYED</th>\n",
       "      <th>RECENT_FORM</th>\n",
       "      <th>adj_form</th>\n",
       "      <th>ENDING_DATE</th>\n",
       "      <th>TOURNAMENT</th>\n",
       "    </tr>\n",
       "  </thead>\n",
       "  <tbody>\n",
       "    <tr>\n",
       "      <th>0</th>\n",
       "      <td>Joohyung Kim</td>\n",
       "      <td>1</td>\n",
       "      <td>1.0</td>\n",
       "      <td>1.44</td>\n",
       "      <td>2023-07-02</td>\n",
       "      <td>Rocket Mortgage Classic</td>\n",
       "    </tr>\n",
       "    <tr>\n",
       "      <th>1</th>\n",
       "      <td>Brooks Koepka</td>\n",
       "      <td>3</td>\n",
       "      <td>6.7</td>\n",
       "      <td>4.83</td>\n",
       "      <td>2023-07-02</td>\n",
       "      <td>Rocket Mortgage Classic</td>\n",
       "    </tr>\n",
       "    <tr>\n",
       "      <th>2</th>\n",
       "      <td>Scottie Scheffler</td>\n",
       "      <td>18</td>\n",
       "      <td>7.6</td>\n",
       "      <td>2.58</td>\n",
       "      <td>2023-07-02</td>\n",
       "      <td>Rocket Mortgage Classic</td>\n",
       "    </tr>\n",
       "  </tbody>\n",
       "</table>\n",
       "</div>"
      ],
      "text/plain": [
       "              PLAYER  TOTAL_EVENTS_PLAYED  RECENT_FORM  adj_form ENDING_DATE  \\\n",
       "0       Joohyung Kim                    1          1.0      1.44  2023-07-02   \n",
       "1      Brooks Koepka                    3          6.7      4.83  2023-07-02   \n",
       "2  Scottie Scheffler                   18          7.6      2.58  2023-07-02   \n",
       "\n",
       "                TOURNAMENT  \n",
       "0  Rocket Mortgage Classic  \n",
       "1  Rocket Mortgage Classic  \n",
       "2  Rocket Mortgage Classic  "
      ]
     },
     "metadata": {},
     "output_type": "display_data"
    },
    {
     "name": "stdout",
     "output_type": "stream",
     "text": [
      "\n",
      "📆 2024-06-30 — Rocket Mortgage Classic (503 players)\n"
     ]
    },
    {
     "data": {
      "text/html": [
       "<div>\n",
       "<style scoped>\n",
       "    .dataframe tbody tr th:only-of-type {\n",
       "        vertical-align: middle;\n",
       "    }\n",
       "\n",
       "    .dataframe tbody tr th {\n",
       "        vertical-align: top;\n",
       "    }\n",
       "\n",
       "    .dataframe thead th {\n",
       "        text-align: right;\n",
       "    }\n",
       "</style>\n",
       "<table border=\"1\" class=\"dataframe\">\n",
       "  <thead>\n",
       "    <tr style=\"text-align: right;\">\n",
       "      <th></th>\n",
       "      <th>PLAYER</th>\n",
       "      <th>TOTAL_EVENTS_PLAYED</th>\n",
       "      <th>RECENT_FORM</th>\n",
       "      <th>adj_form</th>\n",
       "      <th>ENDING_DATE</th>\n",
       "      <th>TOURNAMENT</th>\n",
       "    </tr>\n",
       "  </thead>\n",
       "  <tbody>\n",
       "    <tr>\n",
       "      <th>0</th>\n",
       "      <td>Bryson DeChambeau</td>\n",
       "      <td>3</td>\n",
       "      <td>3.0</td>\n",
       "      <td>2.16</td>\n",
       "      <td>2024-06-30</td>\n",
       "      <td>Rocket Mortgage Classic</td>\n",
       "    </tr>\n",
       "    <tr>\n",
       "      <th>1</th>\n",
       "      <td>Scottie Scheffler</td>\n",
       "      <td>16</td>\n",
       "      <td>6.3</td>\n",
       "      <td>2.22</td>\n",
       "      <td>2024-06-30</td>\n",
       "      <td>Rocket Mortgage Classic</td>\n",
       "    </tr>\n",
       "    <tr>\n",
       "      <th>2</th>\n",
       "      <td>Xander Schauffele</td>\n",
       "      <td>16</td>\n",
       "      <td>12.9</td>\n",
       "      <td>4.55</td>\n",
       "      <td>2024-06-30</td>\n",
       "      <td>Rocket Mortgage Classic</td>\n",
       "    </tr>\n",
       "  </tbody>\n",
       "</table>\n",
       "</div>"
      ],
      "text/plain": [
       "              PLAYER  TOTAL_EVENTS_PLAYED  RECENT_FORM  adj_form ENDING_DATE  \\\n",
       "0  Bryson DeChambeau                    3          3.0      2.16  2024-06-30   \n",
       "1  Scottie Scheffler                   16          6.3      2.22  2024-06-30   \n",
       "2  Xander Schauffele                   16         12.9      4.55  2024-06-30   \n",
       "\n",
       "                TOURNAMENT  \n",
       "0  Rocket Mortgage Classic  \n",
       "1  Rocket Mortgage Classic  \n",
       "2  Rocket Mortgage Classic  "
      ]
     },
     "metadata": {},
     "output_type": "display_data"
    }
   ],
   "source": [
    "importlib.reload(utils.db_utils)\n",
    "from utils.db_utils import get_recent_avg_finish\n",
    "\n",
    "recent_form = get_recent_avg_finish(\"data/golf.db\", history_df, window_months=9)\n",
    "\n",
    "# Example preview\n",
    "for date, df in recent_form.items(): \n",
    "    print(f\"\\n📆 {date} — {df['TOURNAMENT'].iloc[0]} ({len(df)} players)\")\n",
    "    display(df.head(3))"
   ]
  },
  {
   "cell_type": "markdown",
   "id": "76a77f44",
   "metadata": {},
   "source": [
    "### Course History"
   ]
  },
  {
   "cell_type": "code",
   "execution_count": 8,
   "id": "7412401a",
   "metadata": {},
   "outputs": [
    {
     "name": "stdout",
     "output_type": "stream",
     "text": [
      "\n",
      "🏌️‍♂️ Course history for Rocket Mortgage Classic on 2020-07-05\n"
     ]
    },
    {
     "data": {
      "text/html": [
       "<div>\n",
       "<style scoped>\n",
       "    .dataframe tbody tr th:only-of-type {\n",
       "        vertical-align: middle;\n",
       "    }\n",
       "\n",
       "    .dataframe tbody tr th {\n",
       "        vertical-align: top;\n",
       "    }\n",
       "\n",
       "    .dataframe thead th {\n",
       "        text-align: right;\n",
       "    }\n",
       "</style>\n",
       "<table border=\"1\" class=\"dataframe\">\n",
       "  <thead>\n",
       "    <tr style=\"text-align: right;\">\n",
       "      <th></th>\n",
       "      <th>PLAYER</th>\n",
       "      <th>TOTAL_EVENTS_PLAYED</th>\n",
       "      <th>COURSE_HISTORY</th>\n",
       "      <th>adj_ch</th>\n",
       "      <th>ENDING_DATE</th>\n",
       "      <th>COURSE</th>\n",
       "      <th>TOURNAMENT</th>\n",
       "    </tr>\n",
       "  </thead>\n",
       "  <tbody>\n",
       "    <tr>\n",
       "      <th>0</th>\n",
       "      <td>Aaron Wise</td>\n",
       "      <td>1</td>\n",
       "      <td>35.0</td>\n",
       "      <td>50.49</td>\n",
       "      <td>2020-07-05</td>\n",
       "      <td>Detroit Golf Club</td>\n",
       "      <td>Rocket Mortgage Classic</td>\n",
       "    </tr>\n",
       "    <tr>\n",
       "      <th>1</th>\n",
       "      <td>Adam Long</td>\n",
       "      <td>1</td>\n",
       "      <td>90.0</td>\n",
       "      <td>129.84</td>\n",
       "      <td>2020-07-05</td>\n",
       "      <td>Detroit Golf Club</td>\n",
       "      <td>Rocket Mortgage Classic</td>\n",
       "    </tr>\n",
       "    <tr>\n",
       "      <th>2</th>\n",
       "      <td>Adam Schenk</td>\n",
       "      <td>1</td>\n",
       "      <td>42.0</td>\n",
       "      <td>60.59</td>\n",
       "      <td>2020-07-05</td>\n",
       "      <td>Detroit Golf Club</td>\n",
       "      <td>Rocket Mortgage Classic</td>\n",
       "    </tr>\n",
       "  </tbody>\n",
       "</table>\n",
       "</div>"
      ],
      "text/plain": [
       "        PLAYER  TOTAL_EVENTS_PLAYED  COURSE_HISTORY  adj_ch ENDING_DATE  \\\n",
       "0   Aaron Wise                    1            35.0   50.49  2020-07-05   \n",
       "1    Adam Long                    1            90.0  129.84  2020-07-05   \n",
       "2  Adam Schenk                    1            42.0   60.59  2020-07-05   \n",
       "\n",
       "              COURSE               TOURNAMENT  \n",
       "0  Detroit Golf Club  Rocket Mortgage Classic  \n",
       "1  Detroit Golf Club  Rocket Mortgage Classic  \n",
       "2  Detroit Golf Club  Rocket Mortgage Classic  "
      ]
     },
     "metadata": {},
     "output_type": "display_data"
    },
    {
     "name": "stdout",
     "output_type": "stream",
     "text": [
      "\n",
      "🏌️‍♂️ Course history for Rocket Mortgage Classic on 2021-07-04\n"
     ]
    },
    {
     "data": {
      "text/html": [
       "<div>\n",
       "<style scoped>\n",
       "    .dataframe tbody tr th:only-of-type {\n",
       "        vertical-align: middle;\n",
       "    }\n",
       "\n",
       "    .dataframe tbody tr th {\n",
       "        vertical-align: top;\n",
       "    }\n",
       "\n",
       "    .dataframe thead th {\n",
       "        text-align: right;\n",
       "    }\n",
       "</style>\n",
       "<table border=\"1\" class=\"dataframe\">\n",
       "  <thead>\n",
       "    <tr style=\"text-align: right;\">\n",
       "      <th></th>\n",
       "      <th>PLAYER</th>\n",
       "      <th>TOTAL_EVENTS_PLAYED</th>\n",
       "      <th>COURSE_HISTORY</th>\n",
       "      <th>adj_ch</th>\n",
       "      <th>ENDING_DATE</th>\n",
       "      <th>COURSE</th>\n",
       "      <th>TOURNAMENT</th>\n",
       "    </tr>\n",
       "  </thead>\n",
       "  <tbody>\n",
       "    <tr>\n",
       "      <th>0</th>\n",
       "      <td>Aaron Baddeley</td>\n",
       "      <td>1</td>\n",
       "      <td>90.0</td>\n",
       "      <td>129.84</td>\n",
       "      <td>2021-07-04</td>\n",
       "      <td>Detroit Golf Club</td>\n",
       "      <td>Rocket Mortgage Classic</td>\n",
       "    </tr>\n",
       "    <tr>\n",
       "      <th>1</th>\n",
       "      <td>Aaron Wise</td>\n",
       "      <td>2</td>\n",
       "      <td>62.5</td>\n",
       "      <td>56.89</td>\n",
       "      <td>2021-07-04</td>\n",
       "      <td>Detroit Golf Club</td>\n",
       "      <td>Rocket Mortgage Classic</td>\n",
       "    </tr>\n",
       "    <tr>\n",
       "      <th>2</th>\n",
       "      <td>Adam Hadwin</td>\n",
       "      <td>1</td>\n",
       "      <td>4.0</td>\n",
       "      <td>5.77</td>\n",
       "      <td>2021-07-04</td>\n",
       "      <td>Detroit Golf Club</td>\n",
       "      <td>Rocket Mortgage Classic</td>\n",
       "    </tr>\n",
       "  </tbody>\n",
       "</table>\n",
       "</div>"
      ],
      "text/plain": [
       "           PLAYER  TOTAL_EVENTS_PLAYED  COURSE_HISTORY  adj_ch ENDING_DATE  \\\n",
       "0  Aaron Baddeley                    1            90.0  129.84  2021-07-04   \n",
       "1      Aaron Wise                    2            62.5   56.89  2021-07-04   \n",
       "2     Adam Hadwin                    1             4.0    5.77  2021-07-04   \n",
       "\n",
       "              COURSE               TOURNAMENT  \n",
       "0  Detroit Golf Club  Rocket Mortgage Classic  \n",
       "1  Detroit Golf Club  Rocket Mortgage Classic  \n",
       "2  Detroit Golf Club  Rocket Mortgage Classic  "
      ]
     },
     "metadata": {},
     "output_type": "display_data"
    },
    {
     "name": "stdout",
     "output_type": "stream",
     "text": [
      "\n",
      "🏌️‍♂️ Course history for Rocket Mortgage Classic on 2023-07-02\n"
     ]
    },
    {
     "data": {
      "text/html": [
       "<div>\n",
       "<style scoped>\n",
       "    .dataframe tbody tr th:only-of-type {\n",
       "        vertical-align: middle;\n",
       "    }\n",
       "\n",
       "    .dataframe tbody tr th {\n",
       "        vertical-align: top;\n",
       "    }\n",
       "\n",
       "    .dataframe thead th {\n",
       "        text-align: right;\n",
       "    }\n",
       "</style>\n",
       "<table border=\"1\" class=\"dataframe\">\n",
       "  <thead>\n",
       "    <tr style=\"text-align: right;\">\n",
       "      <th></th>\n",
       "      <th>PLAYER</th>\n",
       "      <th>TOTAL_EVENTS_PLAYED</th>\n",
       "      <th>COURSE_HISTORY</th>\n",
       "      <th>adj_ch</th>\n",
       "      <th>ENDING_DATE</th>\n",
       "      <th>COURSE</th>\n",
       "      <th>TOURNAMENT</th>\n",
       "    </tr>\n",
       "  </thead>\n",
       "  <tbody>\n",
       "    <tr>\n",
       "      <th>0</th>\n",
       "      <td>Aaron Baddeley</td>\n",
       "      <td>2</td>\n",
       "      <td>65.5</td>\n",
       "      <td>59.62</td>\n",
       "      <td>2023-07-02</td>\n",
       "      <td>Detroit Golf Club</td>\n",
       "      <td>Rocket Mortgage Classic</td>\n",
       "    </tr>\n",
       "    <tr>\n",
       "      <th>1</th>\n",
       "      <td>Aaron Wise</td>\n",
       "      <td>2</td>\n",
       "      <td>62.5</td>\n",
       "      <td>56.89</td>\n",
       "      <td>2023-07-02</td>\n",
       "      <td>Detroit Golf Club</td>\n",
       "      <td>Rocket Mortgage Classic</td>\n",
       "    </tr>\n",
       "    <tr>\n",
       "      <th>2</th>\n",
       "      <td>Adam Hadwin</td>\n",
       "      <td>2</td>\n",
       "      <td>47.0</td>\n",
       "      <td>42.78</td>\n",
       "      <td>2023-07-02</td>\n",
       "      <td>Detroit Golf Club</td>\n",
       "      <td>Rocket Mortgage Classic</td>\n",
       "    </tr>\n",
       "  </tbody>\n",
       "</table>\n",
       "</div>"
      ],
      "text/plain": [
       "           PLAYER  TOTAL_EVENTS_PLAYED  COURSE_HISTORY  adj_ch ENDING_DATE  \\\n",
       "0  Aaron Baddeley                    2            65.5   59.62  2023-07-02   \n",
       "1      Aaron Wise                    2            62.5   56.89  2023-07-02   \n",
       "2     Adam Hadwin                    2            47.0   42.78  2023-07-02   \n",
       "\n",
       "              COURSE               TOURNAMENT  \n",
       "0  Detroit Golf Club  Rocket Mortgage Classic  \n",
       "1  Detroit Golf Club  Rocket Mortgage Classic  \n",
       "2  Detroit Golf Club  Rocket Mortgage Classic  "
      ]
     },
     "metadata": {},
     "output_type": "display_data"
    },
    {
     "name": "stdout",
     "output_type": "stream",
     "text": [
      "\n",
      "🏌️‍♂️ Course history for Rocket Mortgage Classic on 2024-06-30\n"
     ]
    },
    {
     "data": {
      "text/html": [
       "<div>\n",
       "<style scoped>\n",
       "    .dataframe tbody tr th:only-of-type {\n",
       "        vertical-align: middle;\n",
       "    }\n",
       "\n",
       "    .dataframe tbody tr th {\n",
       "        vertical-align: top;\n",
       "    }\n",
       "\n",
       "    .dataframe thead th {\n",
       "        text-align: right;\n",
       "    }\n",
       "</style>\n",
       "<table border=\"1\" class=\"dataframe\">\n",
       "  <thead>\n",
       "    <tr style=\"text-align: right;\">\n",
       "      <th></th>\n",
       "      <th>PLAYER</th>\n",
       "      <th>TOTAL_EVENTS_PLAYED</th>\n",
       "      <th>COURSE_HISTORY</th>\n",
       "      <th>adj_ch</th>\n",
       "      <th>ENDING_DATE</th>\n",
       "      <th>COURSE</th>\n",
       "      <th>TOURNAMENT</th>\n",
       "    </tr>\n",
       "  </thead>\n",
       "  <tbody>\n",
       "    <tr>\n",
       "      <th>0</th>\n",
       "      <td>Aaron Baddeley</td>\n",
       "      <td>3</td>\n",
       "      <td>73.7</td>\n",
       "      <td>53.16</td>\n",
       "      <td>2024-06-30</td>\n",
       "      <td>Detroit Golf Club</td>\n",
       "      <td>Rocket Mortgage Classic</td>\n",
       "    </tr>\n",
       "    <tr>\n",
       "      <th>1</th>\n",
       "      <td>Aaron Rai</td>\n",
       "      <td>1</td>\n",
       "      <td>9.0</td>\n",
       "      <td>12.98</td>\n",
       "      <td>2024-06-30</td>\n",
       "      <td>Detroit Golf Club</td>\n",
       "      <td>Rocket Mortgage Classic</td>\n",
       "    </tr>\n",
       "    <tr>\n",
       "      <th>2</th>\n",
       "      <td>Aaron Wise</td>\n",
       "      <td>2</td>\n",
       "      <td>62.5</td>\n",
       "      <td>56.89</td>\n",
       "      <td>2024-06-30</td>\n",
       "      <td>Detroit Golf Club</td>\n",
       "      <td>Rocket Mortgage Classic</td>\n",
       "    </tr>\n",
       "  </tbody>\n",
       "</table>\n",
       "</div>"
      ],
      "text/plain": [
       "           PLAYER  TOTAL_EVENTS_PLAYED  COURSE_HISTORY  adj_ch ENDING_DATE  \\\n",
       "0  Aaron Baddeley                    3            73.7   53.16  2024-06-30   \n",
       "1       Aaron Rai                    1             9.0   12.98  2024-06-30   \n",
       "2      Aaron Wise                    2            62.5   56.89  2024-06-30   \n",
       "\n",
       "              COURSE               TOURNAMENT  \n",
       "0  Detroit Golf Club  Rocket Mortgage Classic  \n",
       "1  Detroit Golf Club  Rocket Mortgage Classic  \n",
       "2  Detroit Golf Club  Rocket Mortgage Classic  "
      ]
     },
     "metadata": {},
     "output_type": "display_data"
    }
   ],
   "source": [
    "importlib.reload(utils.db_utils)\n",
    "from utils.db_utils import get_course_history\n",
    "\n",
    "# Filter history_df for only the course we're targeting\n",
    "target_course = tournament_config[\"new\"][\"course\"]\n",
    "course_df = history_df[history_df[\"COURSE\"] == target_course]\n",
    "course_hist = get_course_history(\"data/golf.db\", course_df)\n",
    "\n",
    "# View example\n",
    "for date, df in course_hist.items():\n",
    "    if not df.empty:\n",
    "        print(f\"\\n🏌️‍♂️ Course history for {df['TOURNAMENT'].iloc[0]} on {date}\")\n",
    "        display(df.head(3))"
   ]
  },
  {
   "cell_type": "code",
   "execution_count": 12,
   "id": "bb9221e1",
   "metadata": {},
   "outputs": [
    {
     "name": "stdout",
     "output_type": "stream",
     "text": [
      "ℹ️ Empty course_hist for date 2019-06-30\n"
     ]
    }
   ],
   "source": [
    "#  DEBUGGING: Check for empty DataFrames or missing columns\n",
    "for date_key, df in course_hist.items():\n",
    "    if df.empty:\n",
    "        print(f\"ℹ️ Empty course_hist for date {date_key}\")\n",
    "    elif \"PLAYER\" not in df.columns:\n",
    "        print(f\"❌ Missing 'PLAYER' column in course_hist[{date_key}]. Columns present: {df.columns.tolist()}\")\n",
    "        display(df.head())"
   ]
  },
  {
   "cell_type": "code",
   "execution_count": null,
   "id": "0384870a",
   "metadata": {},
   "outputs": [],
   "source": []
  },
  {
   "cell_type": "markdown",
   "id": "e8fa7578",
   "metadata": {},
   "source": [
    "## Training Dataset"
   ]
  },
  {
   "cell_type": "code",
   "execution_count": 13,
   "id": "a4277295",
   "metadata": {},
   "outputs": [
    {
     "data": {
      "text/html": [
       "<div>\n",
       "<style scoped>\n",
       "    .dataframe tbody tr th:only-of-type {\n",
       "        vertical-align: middle;\n",
       "    }\n",
       "\n",
       "    .dataframe tbody tr th {\n",
       "        vertical-align: top;\n",
       "    }\n",
       "\n",
       "    .dataframe thead th {\n",
       "        text-align: right;\n",
       "    }\n",
       "</style>\n",
       "<table border=\"1\" class=\"dataframe\">\n",
       "  <thead>\n",
       "    <tr style=\"text-align: right;\">\n",
       "      <th></th>\n",
       "      <th>SEASON</th>\n",
       "      <th>ENDING_DATE</th>\n",
       "      <th>TOURNAMENT</th>\n",
       "      <th>COURSE</th>\n",
       "      <th>PLAYER</th>\n",
       "      <th>POS</th>\n",
       "      <th>FINAL_POS</th>\n",
       "      <th>SGTTG_RANK</th>\n",
       "      <th>SGTTG</th>\n",
       "      <th>SGOTT_RANK</th>\n",
       "      <th>SGOTT</th>\n",
       "      <th>SGAPR_RANK</th>\n",
       "      <th>SGAPR</th>\n",
       "      <th>SGATG_RANK</th>\n",
       "      <th>SGATG</th>\n",
       "      <th>SGP_RANK</th>\n",
       "      <th>SGP</th>\n",
       "      <th>BIRDIES_RANK</th>\n",
       "      <th>BIRDIES</th>\n",
       "      <th>PAR_3_RANK</th>\n",
       "      <th>PAR_3</th>\n",
       "      <th>PAR_4_RANK</th>\n",
       "      <th>PAR_4</th>\n",
       "      <th>PAR_5_RANK</th>\n",
       "      <th>PAR_5</th>\n",
       "      <th>TOTAL_DRIVING_RANK</th>\n",
       "      <th>TOTAL_DRIVING</th>\n",
       "      <th>DRIVING_DISTANCE_RANK</th>\n",
       "      <th>DRIVING_DISTANCE</th>\n",
       "      <th>DRIVING_ACCURACY_RANK</th>\n",
       "      <th>DRIVING_ACCURACY</th>\n",
       "      <th>GIR_RANK</th>\n",
       "      <th>GIR</th>\n",
       "      <th>SCRAMBLING_RANK</th>\n",
       "      <th>SCRAMBLING</th>\n",
       "      <th>OWGR_RANK</th>\n",
       "      <th>OWGR</th>\n",
       "      <th>VEGAS_ODDS</th>\n",
       "      <th>CUT_PERCENTAGE</th>\n",
       "      <th>FEDEX_CUP_POINTS</th>\n",
       "      <th>form_density</th>\n",
       "      <th>CONSECUTIVE_CUTS</th>\n",
       "      <th>RECENT_FORM</th>\n",
       "      <th>adj_form</th>\n",
       "      <th>COURSE_HISTORY</th>\n",
       "      <th>adj_ch</th>\n",
       "      <th>TOP_20</th>\n",
       "    </tr>\n",
       "  </thead>\n",
       "  <tbody>\n",
       "    <tr>\n",
       "      <th>0</th>\n",
       "      <td>2019</td>\n",
       "      <td>2019-06-30</td>\n",
       "      <td>Rocket Mortgage Classic</td>\n",
       "      <td>Detroit Golf Club</td>\n",
       "      <td>Aaron Wise</td>\n",
       "      <td>T35</td>\n",
       "      <td>35</td>\n",
       "      <td>56.0</td>\n",
       "      <td>0.475</td>\n",
       "      <td>14.0</td>\n",
       "      <td>0.533</td>\n",
       "      <td>129.0</td>\n",
       "      <td>-0.085</td>\n",
       "      <td>99.0</td>\n",
       "      <td>0.026</td>\n",
       "      <td>132.0</td>\n",
       "      <td>-0.146</td>\n",
       "      <td>7.0</td>\n",
       "      <td>24.8</td>\n",
       "      <td>27.0</td>\n",
       "      <td>3.01</td>\n",
       "      <td>116.0</td>\n",
       "      <td>4.04</td>\n",
       "      <td>23.0</td>\n",
       "      <td>4.54</td>\n",
       "      <td>24.0</td>\n",
       "      <td>140.0</td>\n",
       "      <td>33.0</td>\n",
       "      <td>302.6</td>\n",
       "      <td>107.0</td>\n",
       "      <td>61.75</td>\n",
       "      <td>38.0</td>\n",
       "      <td>68.6</td>\n",
       "      <td>186.0</td>\n",
       "      <td>52.05</td>\n",
       "      <td>81.0</td>\n",
       "      <td>1.77</td>\n",
       "      <td>40.0</td>\n",
       "      <td>64.3</td>\n",
       "      <td>301.72</td>\n",
       "      <td>21.55</td>\n",
       "      <td>1.0</td>\n",
       "      <td>49.7</td>\n",
       "      <td>18.35</td>\n",
       "      <td>NaN</td>\n",
       "      <td>NaN</td>\n",
       "      <td>0</td>\n",
       "    </tr>\n",
       "    <tr>\n",
       "      <th>1</th>\n",
       "      <td>2019</td>\n",
       "      <td>2019-06-30</td>\n",
       "      <td>Rocket Mortgage Classic</td>\n",
       "      <td>Detroit Golf Club</td>\n",
       "      <td>Adam Long</td>\n",
       "      <td>CUT</td>\n",
       "      <td>90</td>\n",
       "      <td>121.0</td>\n",
       "      <td>-0.049</td>\n",
       "      <td>118.0</td>\n",
       "      <td>-0.036</td>\n",
       "      <td>78.0</td>\n",
       "      <td>0.138</td>\n",
       "      <td>145.0</td>\n",
       "      <td>-0.151</td>\n",
       "      <td>170.0</td>\n",
       "      <td>-0.369</td>\n",
       "      <td>178.0</td>\n",
       "      <td>18.86</td>\n",
       "      <td>165.0</td>\n",
       "      <td>3.10</td>\n",
       "      <td>153.0</td>\n",
       "      <td>4.06</td>\n",
       "      <td>144.0</td>\n",
       "      <td>4.67</td>\n",
       "      <td>47.0</td>\n",
       "      <td>158.0</td>\n",
       "      <td>112.0</td>\n",
       "      <td>292.0</td>\n",
       "      <td>46.0</td>\n",
       "      <td>66.51</td>\n",
       "      <td>134.0</td>\n",
       "      <td>65.28</td>\n",
       "      <td>126.0</td>\n",
       "      <td>58.74</td>\n",
       "      <td>127.0</td>\n",
       "      <td>1.20</td>\n",
       "      <td>150.0</td>\n",
       "      <td>42.1</td>\n",
       "      <td>671.78</td>\n",
       "      <td>35.36</td>\n",
       "      <td>1.0</td>\n",
       "      <td>66.8</td>\n",
       "      <td>22.30</td>\n",
       "      <td>NaN</td>\n",
       "      <td>NaN</td>\n",
       "      <td>0</td>\n",
       "    </tr>\n",
       "    <tr>\n",
       "      <th>2</th>\n",
       "      <td>2019</td>\n",
       "      <td>2019-06-30</td>\n",
       "      <td>Rocket Mortgage Classic</td>\n",
       "      <td>Detroit Golf Club</td>\n",
       "      <td>Adam Schenk</td>\n",
       "      <td>T42</td>\n",
       "      <td>42</td>\n",
       "      <td>94.0</td>\n",
       "      <td>0.146</td>\n",
       "      <td>91.0</td>\n",
       "      <td>0.080</td>\n",
       "      <td>76.0</td>\n",
       "      <td>0.142</td>\n",
       "      <td>127.0</td>\n",
       "      <td>-0.075</td>\n",
       "      <td>33.0</td>\n",
       "      <td>0.341</td>\n",
       "      <td>45.0</td>\n",
       "      <td>22.67</td>\n",
       "      <td>41.0</td>\n",
       "      <td>3.02</td>\n",
       "      <td>61.0</td>\n",
       "      <td>4.01</td>\n",
       "      <td>60.0</td>\n",
       "      <td>4.59</td>\n",
       "      <td>55.0</td>\n",
       "      <td>162.0</td>\n",
       "      <td>47.0</td>\n",
       "      <td>300.8</td>\n",
       "      <td>115.0</td>\n",
       "      <td>61.27</td>\n",
       "      <td>36.0</td>\n",
       "      <td>68.61</td>\n",
       "      <td>74.0</td>\n",
       "      <td>60.71</td>\n",
       "      <td>219.0</td>\n",
       "      <td>0.78</td>\n",
       "      <td>NaN</td>\n",
       "      <td>61.9</td>\n",
       "      <td>347.58</td>\n",
       "      <td>16.55</td>\n",
       "      <td>0.0</td>\n",
       "      <td>56.1</td>\n",
       "      <td>18.15</td>\n",
       "      <td>NaN</td>\n",
       "      <td>NaN</td>\n",
       "      <td>0</td>\n",
       "    </tr>\n",
       "    <tr>\n",
       "      <th>3</th>\n",
       "      <td>2019</td>\n",
       "      <td>2019-06-30</td>\n",
       "      <td>Rocket Mortgage Classic</td>\n",
       "      <td>Detroit Golf Club</td>\n",
       "      <td>Adam Svensson</td>\n",
       "      <td>CUT</td>\n",
       "      <td>90</td>\n",
       "      <td>17.0</td>\n",
       "      <td>0.981</td>\n",
       "      <td>58.0</td>\n",
       "      <td>0.213</td>\n",
       "      <td>23.0</td>\n",
       "      <td>0.509</td>\n",
       "      <td>33.0</td>\n",
       "      <td>0.259</td>\n",
       "      <td>183.0</td>\n",
       "      <td>-0.602</td>\n",
       "      <td>77.0</td>\n",
       "      <td>21.64</td>\n",
       "      <td>70.0</td>\n",
       "      <td>3.04</td>\n",
       "      <td>61.0</td>\n",
       "      <td>4.01</td>\n",
       "      <td>75.0</td>\n",
       "      <td>4.61</td>\n",
       "      <td>106.0</td>\n",
       "      <td>193.0</td>\n",
       "      <td>130.0</td>\n",
       "      <td>289.8</td>\n",
       "      <td>63.0</td>\n",
       "      <td>65.24</td>\n",
       "      <td>19.0</td>\n",
       "      <td>69.4</td>\n",
       "      <td>75.0</td>\n",
       "      <td>60.7</td>\n",
       "      <td>434.0</td>\n",
       "      <td>0.42</td>\n",
       "      <td>NaN</td>\n",
       "      <td>40.0</td>\n",
       "      <td>87.81</td>\n",
       "      <td>5.85</td>\n",
       "      <td>0.0</td>\n",
       "      <td>70.1</td>\n",
       "      <td>25.28</td>\n",
       "      <td>NaN</td>\n",
       "      <td>NaN</td>\n",
       "      <td>0</td>\n",
       "    </tr>\n",
       "    <tr>\n",
       "      <th>4</th>\n",
       "      <td>2019</td>\n",
       "      <td>2019-06-30</td>\n",
       "      <td>Rocket Mortgage Classic</td>\n",
       "      <td>Detroit Golf Club</td>\n",
       "      <td>Alex Cejka</td>\n",
       "      <td>CUT</td>\n",
       "      <td>90</td>\n",
       "      <td>153.0</td>\n",
       "      <td>-0.362</td>\n",
       "      <td>133.0</td>\n",
       "      <td>-0.092</td>\n",
       "      <td>114.0</td>\n",
       "      <td>-0.014</td>\n",
       "      <td>169.0</td>\n",
       "      <td>-0.257</td>\n",
       "      <td>174.0</td>\n",
       "      <td>-0.482</td>\n",
       "      <td>185.0</td>\n",
       "      <td>17.44</td>\n",
       "      <td>3.0</td>\n",
       "      <td>2.97</td>\n",
       "      <td>182.0</td>\n",
       "      <td>4.09</td>\n",
       "      <td>185.0</td>\n",
       "      <td>4.77</td>\n",
       "      <td>150.0</td>\n",
       "      <td>222.0</td>\n",
       "      <td>183.0</td>\n",
       "      <td>278.0</td>\n",
       "      <td>39.0</td>\n",
       "      <td>67.19</td>\n",
       "      <td>156.0</td>\n",
       "      <td>64.44</td>\n",
       "      <td>99.0</td>\n",
       "      <td>59.69</td>\n",
       "      <td>631.0</td>\n",
       "      <td>0.26</td>\n",
       "      <td>NaN</td>\n",
       "      <td>38.5</td>\n",
       "      <td>28.59</td>\n",
       "      <td>2.20</td>\n",
       "      <td>1.0</td>\n",
       "      <td>77.5</td>\n",
       "      <td>29.37</td>\n",
       "      <td>NaN</td>\n",
       "      <td>NaN</td>\n",
       "      <td>0</td>\n",
       "    </tr>\n",
       "    <tr>\n",
       "      <th>5</th>\n",
       "      <td>2019</td>\n",
       "      <td>2019-06-30</td>\n",
       "      <td>Rocket Mortgage Classic</td>\n",
       "      <td>Detroit Golf Club</td>\n",
       "      <td>Alex Prugh</td>\n",
       "      <td>CUT</td>\n",
       "      <td>90</td>\n",
       "      <td>75.0</td>\n",
       "      <td>0.278</td>\n",
       "      <td>27.0</td>\n",
       "      <td>0.379</td>\n",
       "      <td>59.0</td>\n",
       "      <td>0.222</td>\n",
       "      <td>179.0</td>\n",
       "      <td>-0.323</td>\n",
       "      <td>167.0</td>\n",
       "      <td>-0.344</td>\n",
       "      <td>148.0</td>\n",
       "      <td>20.19</td>\n",
       "      <td>165.0</td>\n",
       "      <td>3.10</td>\n",
       "      <td>79.0</td>\n",
       "      <td>4.02</td>\n",
       "      <td>70.0</td>\n",
       "      <td>4.60</td>\n",
       "      <td>5.0</td>\n",
       "      <td>98.0</td>\n",
       "      <td>27.0</td>\n",
       "      <td>303.7</td>\n",
       "      <td>71.0</td>\n",
       "      <td>64.08</td>\n",
       "      <td>3.0</td>\n",
       "      <td>71.44</td>\n",
       "      <td>183.0</td>\n",
       "      <td>52.88</td>\n",
       "      <td>435.0</td>\n",
       "      <td>0.42</td>\n",
       "      <td>150.0</td>\n",
       "      <td>56.2</td>\n",
       "      <td>158.31</td>\n",
       "      <td>9.89</td>\n",
       "      <td>2.0</td>\n",
       "      <td>63.4</td>\n",
       "      <td>22.38</td>\n",
       "      <td>NaN</td>\n",
       "      <td>NaN</td>\n",
       "      <td>0</td>\n",
       "    </tr>\n",
       "    <tr>\n",
       "      <th>6</th>\n",
       "      <td>2019</td>\n",
       "      <td>2019-06-30</td>\n",
       "      <td>Rocket Mortgage Classic</td>\n",
       "      <td>Detroit Golf Club</td>\n",
       "      <td>Anders Albertson</td>\n",
       "      <td>T64</td>\n",
       "      <td>64</td>\n",
       "      <td>133.0</td>\n",
       "      <td>-0.213</td>\n",
       "      <td>158.0</td>\n",
       "      <td>-0.265</td>\n",
       "      <td>68.0</td>\n",
       "      <td>0.165</td>\n",
       "      <td>135.0</td>\n",
       "      <td>-0.113</td>\n",
       "      <td>163.0</td>\n",
       "      <td>-0.307</td>\n",
       "      <td>146.0</td>\n",
       "      <td>20.23</td>\n",
       "      <td>7.0</td>\n",
       "      <td>2.98</td>\n",
       "      <td>139.0</td>\n",
       "      <td>4.05</td>\n",
       "      <td>154.0</td>\n",
       "      <td>4.68</td>\n",
       "      <td>159.0</td>\n",
       "      <td>235.0</td>\n",
       "      <td>105.0</td>\n",
       "      <td>293.2</td>\n",
       "      <td>130.0</td>\n",
       "      <td>60.11</td>\n",
       "      <td>61.0</td>\n",
       "      <td>67.71</td>\n",
       "      <td>38.0</td>\n",
       "      <td>62.37</td>\n",
       "      <td>395.0</td>\n",
       "      <td>0.46</td>\n",
       "      <td>NaN</td>\n",
       "      <td>37.5</td>\n",
       "      <td>163.61</td>\n",
       "      <td>10.23</td>\n",
       "      <td>0.0</td>\n",
       "      <td>69.6</td>\n",
       "      <td>24.57</td>\n",
       "      <td>NaN</td>\n",
       "      <td>NaN</td>\n",
       "      <td>0</td>\n",
       "    </tr>\n",
       "    <tr>\n",
       "      <th>7</th>\n",
       "      <td>2019</td>\n",
       "      <td>2019-06-30</td>\n",
       "      <td>Rocket Mortgage Classic</td>\n",
       "      <td>Detroit Golf Club</td>\n",
       "      <td>Andrew Landry</td>\n",
       "      <td>T59</td>\n",
       "      <td>59</td>\n",
       "      <td>95.0</td>\n",
       "      <td>0.142</td>\n",
       "      <td>65.0</td>\n",
       "      <td>0.185</td>\n",
       "      <td>64.0</td>\n",
       "      <td>0.200</td>\n",
       "      <td>166.0</td>\n",
       "      <td>-0.244</td>\n",
       "      <td>133.0</td>\n",
       "      <td>-0.153</td>\n",
       "      <td>83.0</td>\n",
       "      <td>21.47</td>\n",
       "      <td>70.0</td>\n",
       "      <td>3.04</td>\n",
       "      <td>79.0</td>\n",
       "      <td>4.02</td>\n",
       "      <td>144.0</td>\n",
       "      <td>4.67</td>\n",
       "      <td>59.0</td>\n",
       "      <td>165.0</td>\n",
       "      <td>159.0</td>\n",
       "      <td>286.8</td>\n",
       "      <td>6.0</td>\n",
       "      <td>71.72</td>\n",
       "      <td>81.0</td>\n",
       "      <td>67.12</td>\n",
       "      <td>87.0</td>\n",
       "      <td>60.27</td>\n",
       "      <td>146.0</td>\n",
       "      <td>1.07</td>\n",
       "      <td>NaN</td>\n",
       "      <td>55.6</td>\n",
       "      <td>140.12</td>\n",
       "      <td>7.78</td>\n",
       "      <td>1.0</td>\n",
       "      <td>65.0</td>\n",
       "      <td>22.08</td>\n",
       "      <td>NaN</td>\n",
       "      <td>NaN</td>\n",
       "      <td>0</td>\n",
       "    </tr>\n",
       "    <tr>\n",
       "      <th>8</th>\n",
       "      <td>2019</td>\n",
       "      <td>2019-06-30</td>\n",
       "      <td>Rocket Mortgage Classic</td>\n",
       "      <td>Detroit Golf Club</td>\n",
       "      <td>Anirban Lahiri</td>\n",
       "      <td>T42</td>\n",
       "      <td>42</td>\n",
       "      <td>176.0</td>\n",
       "      <td>-0.869</td>\n",
       "      <td>173.0</td>\n",
       "      <td>-0.431</td>\n",
       "      <td>155.0</td>\n",
       "      <td>-0.298</td>\n",
       "      <td>141.0</td>\n",
       "      <td>-0.139</td>\n",
       "      <td>68.0</td>\n",
       "      <td>0.116</td>\n",
       "      <td>154.0</td>\n",
       "      <td>20.05</td>\n",
       "      <td>52.0</td>\n",
       "      <td>3.03</td>\n",
       "      <td>153.0</td>\n",
       "      <td>4.06</td>\n",
       "      <td>181.0</td>\n",
       "      <td>4.75</td>\n",
       "      <td>173.0</td>\n",
       "      <td>257.0</td>\n",
       "      <td>125.0</td>\n",
       "      <td>290.2</td>\n",
       "      <td>132.0</td>\n",
       "      <td>60.08</td>\n",
       "      <td>177.0</td>\n",
       "      <td>62.96</td>\n",
       "      <td>104.0</td>\n",
       "      <td>59.57</td>\n",
       "      <td>294.0</td>\n",
       "      <td>0.61</td>\n",
       "      <td>250.0</td>\n",
       "      <td>47.1</td>\n",
       "      <td>122.72</td>\n",
       "      <td>7.22</td>\n",
       "      <td>0.0</td>\n",
       "      <td>70.6</td>\n",
       "      <td>24.43</td>\n",
       "      <td>NaN</td>\n",
       "      <td>NaN</td>\n",
       "      <td>0</td>\n",
       "    </tr>\n",
       "    <tr>\n",
       "      <th>9</th>\n",
       "      <td>2019</td>\n",
       "      <td>2019-06-30</td>\n",
       "      <td>Rocket Mortgage Classic</td>\n",
       "      <td>Detroit Golf Club</td>\n",
       "      <td>Austen Truslow</td>\n",
       "      <td>CUT</td>\n",
       "      <td>90</td>\n",
       "      <td>NaN</td>\n",
       "      <td>NaN</td>\n",
       "      <td>NaN</td>\n",
       "      <td>NaN</td>\n",
       "      <td>NaN</td>\n",
       "      <td>NaN</td>\n",
       "      <td>NaN</td>\n",
       "      <td>NaN</td>\n",
       "      <td>NaN</td>\n",
       "      <td>NaN</td>\n",
       "      <td>NaN</td>\n",
       "      <td>None</td>\n",
       "      <td>NaN</td>\n",
       "      <td>NaN</td>\n",
       "      <td>NaN</td>\n",
       "      <td>NaN</td>\n",
       "      <td>NaN</td>\n",
       "      <td>NaN</td>\n",
       "      <td>NaN</td>\n",
       "      <td>NaN</td>\n",
       "      <td>NaN</td>\n",
       "      <td>NaN</td>\n",
       "      <td>NaN</td>\n",
       "      <td>None</td>\n",
       "      <td>NaN</td>\n",
       "      <td>None</td>\n",
       "      <td>NaN</td>\n",
       "      <td>None</td>\n",
       "      <td>928.0</td>\n",
       "      <td>0.14</td>\n",
       "      <td>NaN</td>\n",
       "      <td>0.0</td>\n",
       "      <td>0.00</td>\n",
       "      <td>0.00</td>\n",
       "      <td>0.0</td>\n",
       "      <td>90.0</td>\n",
       "      <td>129.84</td>\n",
       "      <td>NaN</td>\n",
       "      <td>NaN</td>\n",
       "      <td>0</td>\n",
       "    </tr>\n",
       "  </tbody>\n",
       "</table>\n",
       "</div>"
      ],
      "text/plain": [
       "   SEASON ENDING_DATE               TOURNAMENT             COURSE  \\\n",
       "0    2019  2019-06-30  Rocket Mortgage Classic  Detroit Golf Club   \n",
       "1    2019  2019-06-30  Rocket Mortgage Classic  Detroit Golf Club   \n",
       "2    2019  2019-06-30  Rocket Mortgage Classic  Detroit Golf Club   \n",
       "3    2019  2019-06-30  Rocket Mortgage Classic  Detroit Golf Club   \n",
       "4    2019  2019-06-30  Rocket Mortgage Classic  Detroit Golf Club   \n",
       "5    2019  2019-06-30  Rocket Mortgage Classic  Detroit Golf Club   \n",
       "6    2019  2019-06-30  Rocket Mortgage Classic  Detroit Golf Club   \n",
       "7    2019  2019-06-30  Rocket Mortgage Classic  Detroit Golf Club   \n",
       "8    2019  2019-06-30  Rocket Mortgage Classic  Detroit Golf Club   \n",
       "9    2019  2019-06-30  Rocket Mortgage Classic  Detroit Golf Club   \n",
       "\n",
       "             PLAYER  POS  FINAL_POS  SGTTG_RANK  SGTTG  SGOTT_RANK  SGOTT  \\\n",
       "0        Aaron Wise  T35         35        56.0  0.475        14.0  0.533   \n",
       "1         Adam Long  CUT         90       121.0 -0.049       118.0 -0.036   \n",
       "2       Adam Schenk  T42         42        94.0  0.146        91.0  0.080   \n",
       "3     Adam Svensson  CUT         90        17.0  0.981        58.0  0.213   \n",
       "4        Alex Cejka  CUT         90       153.0 -0.362       133.0 -0.092   \n",
       "5        Alex Prugh  CUT         90        75.0  0.278        27.0  0.379   \n",
       "6  Anders Albertson  T64         64       133.0 -0.213       158.0 -0.265   \n",
       "7     Andrew Landry  T59         59        95.0  0.142        65.0  0.185   \n",
       "8    Anirban Lahiri  T42         42       176.0 -0.869       173.0 -0.431   \n",
       "9    Austen Truslow  CUT         90         NaN    NaN         NaN    NaN   \n",
       "\n",
       "   SGAPR_RANK  SGAPR  SGATG_RANK  SGATG  SGP_RANK    SGP  BIRDIES_RANK  \\\n",
       "0       129.0 -0.085        99.0  0.026     132.0 -0.146           7.0   \n",
       "1        78.0  0.138       145.0 -0.151     170.0 -0.369         178.0   \n",
       "2        76.0  0.142       127.0 -0.075      33.0  0.341          45.0   \n",
       "3        23.0  0.509        33.0  0.259     183.0 -0.602          77.0   \n",
       "4       114.0 -0.014       169.0 -0.257     174.0 -0.482         185.0   \n",
       "5        59.0  0.222       179.0 -0.323     167.0 -0.344         148.0   \n",
       "6        68.0  0.165       135.0 -0.113     163.0 -0.307         146.0   \n",
       "7        64.0  0.200       166.0 -0.244     133.0 -0.153          83.0   \n",
       "8       155.0 -0.298       141.0 -0.139      68.0  0.116         154.0   \n",
       "9         NaN    NaN         NaN    NaN       NaN    NaN           NaN   \n",
       "\n",
       "  BIRDIES  PAR_3_RANK  PAR_3  PAR_4_RANK  PAR_4  PAR_5_RANK  PAR_5  \\\n",
       "0    24.8        27.0   3.01       116.0   4.04        23.0   4.54   \n",
       "1   18.86       165.0   3.10       153.0   4.06       144.0   4.67   \n",
       "2   22.67        41.0   3.02        61.0   4.01        60.0   4.59   \n",
       "3   21.64        70.0   3.04        61.0   4.01        75.0   4.61   \n",
       "4   17.44         3.0   2.97       182.0   4.09       185.0   4.77   \n",
       "5   20.19       165.0   3.10        79.0   4.02        70.0   4.60   \n",
       "6   20.23         7.0   2.98       139.0   4.05       154.0   4.68   \n",
       "7   21.47        70.0   3.04        79.0   4.02       144.0   4.67   \n",
       "8   20.05        52.0   3.03       153.0   4.06       181.0   4.75   \n",
       "9    None         NaN    NaN         NaN    NaN         NaN    NaN   \n",
       "\n",
       "   TOTAL_DRIVING_RANK  TOTAL_DRIVING  DRIVING_DISTANCE_RANK  DRIVING_DISTANCE  \\\n",
       "0                24.0          140.0                   33.0             302.6   \n",
       "1                47.0          158.0                  112.0             292.0   \n",
       "2                55.0          162.0                   47.0             300.8   \n",
       "3               106.0          193.0                  130.0             289.8   \n",
       "4               150.0          222.0                  183.0             278.0   \n",
       "5                 5.0           98.0                   27.0             303.7   \n",
       "6               159.0          235.0                  105.0             293.2   \n",
       "7                59.0          165.0                  159.0             286.8   \n",
       "8               173.0          257.0                  125.0             290.2   \n",
       "9                 NaN            NaN                    NaN               NaN   \n",
       "\n",
       "   DRIVING_ACCURACY_RANK DRIVING_ACCURACY  GIR_RANK    GIR  SCRAMBLING_RANK  \\\n",
       "0                  107.0            61.75      38.0   68.6            186.0   \n",
       "1                   46.0            66.51     134.0  65.28            126.0   \n",
       "2                  115.0            61.27      36.0  68.61             74.0   \n",
       "3                   63.0            65.24      19.0   69.4             75.0   \n",
       "4                   39.0            67.19     156.0  64.44             99.0   \n",
       "5                   71.0            64.08       3.0  71.44            183.0   \n",
       "6                  130.0            60.11      61.0  67.71             38.0   \n",
       "7                    6.0            71.72      81.0  67.12             87.0   \n",
       "8                  132.0            60.08     177.0  62.96            104.0   \n",
       "9                    NaN             None       NaN   None              NaN   \n",
       "\n",
       "  SCRAMBLING  OWGR_RANK  OWGR  VEGAS_ODDS  CUT_PERCENTAGE  FEDEX_CUP_POINTS  \\\n",
       "0      52.05       81.0  1.77        40.0            64.3            301.72   \n",
       "1      58.74      127.0  1.20       150.0            42.1            671.78   \n",
       "2      60.71      219.0  0.78         NaN            61.9            347.58   \n",
       "3       60.7      434.0  0.42         NaN            40.0             87.81   \n",
       "4      59.69      631.0  0.26         NaN            38.5             28.59   \n",
       "5      52.88      435.0  0.42       150.0            56.2            158.31   \n",
       "6      62.37      395.0  0.46         NaN            37.5            163.61   \n",
       "7      60.27      146.0  1.07         NaN            55.6            140.12   \n",
       "8      59.57      294.0  0.61       250.0            47.1            122.72   \n",
       "9       None      928.0  0.14         NaN             0.0              0.00   \n",
       "\n",
       "   form_density  CONSECUTIVE_CUTS  RECENT_FORM  adj_form  COURSE_HISTORY  \\\n",
       "0         21.55               1.0         49.7     18.35             NaN   \n",
       "1         35.36               1.0         66.8     22.30             NaN   \n",
       "2         16.55               0.0         56.1     18.15             NaN   \n",
       "3          5.85               0.0         70.1     25.28             NaN   \n",
       "4          2.20               1.0         77.5     29.37             NaN   \n",
       "5          9.89               2.0         63.4     22.38             NaN   \n",
       "6         10.23               0.0         69.6     24.57             NaN   \n",
       "7          7.78               1.0         65.0     22.08             NaN   \n",
       "8          7.22               0.0         70.6     24.43             NaN   \n",
       "9          0.00               0.0         90.0    129.84             NaN   \n",
       "\n",
       "   adj_ch  TOP_20  \n",
       "0     NaN       0  \n",
       "1     NaN       0  \n",
       "2     NaN       0  \n",
       "3     NaN       0  \n",
       "4     NaN       0  \n",
       "5     NaN       0  \n",
       "6     NaN       0  \n",
       "7     NaN       0  \n",
       "8     NaN       0  \n",
       "9     NaN       0  "
      ]
     },
     "execution_count": 13,
     "metadata": {},
     "output_type": "execute_result"
    }
   ],
   "source": [
    "pd.set_option(\"display.max_columns\", None)   # Show all columns\n",
    "importlib.reload(utils.db_utils)\n",
    "from utils.db_utils import build_training_rows\n",
    "training_df = build_training_rows(\n",
    "    db_path,\n",
    "    history_df,\n",
    "    cuts,\n",
    "    recent_form,\n",
    "    course_hist,\n",
    ")\n",
    "training_df.head(10)\n",
    "# training_df.info()\n",
    "# training_df.isna().sum().sort_values(ascending=False)"
   ]
  },
  {
   "cell_type": "code",
   "execution_count": 14,
   "id": "c5df12cc",
   "metadata": {},
   "outputs": [
    {
     "data": {
      "text/html": [
       "<div>\n",
       "<style scoped>\n",
       "    .dataframe tbody tr th:only-of-type {\n",
       "        vertical-align: middle;\n",
       "    }\n",
       "\n",
       "    .dataframe tbody tr th {\n",
       "        vertical-align: top;\n",
       "    }\n",
       "\n",
       "    .dataframe thead th {\n",
       "        text-align: right;\n",
       "    }\n",
       "</style>\n",
       "<table border=\"1\" class=\"dataframe\">\n",
       "  <thead>\n",
       "    <tr style=\"text-align: right;\">\n",
       "      <th></th>\n",
       "      <th>SEASON</th>\n",
       "      <th>ENDING_DATE</th>\n",
       "      <th>TOURNAMENT</th>\n",
       "      <th>COURSE</th>\n",
       "      <th>PLAYER</th>\n",
       "      <th>POS</th>\n",
       "      <th>FINAL_POS</th>\n",
       "      <th>SGTTG_RANK</th>\n",
       "      <th>SGTTG</th>\n",
       "      <th>SGOTT_RANK</th>\n",
       "      <th>SGOTT</th>\n",
       "      <th>SGAPR_RANK</th>\n",
       "      <th>SGAPR</th>\n",
       "      <th>SGATG_RANK</th>\n",
       "      <th>SGATG</th>\n",
       "      <th>SGP_RANK</th>\n",
       "      <th>SGP</th>\n",
       "      <th>BIRDIES_RANK</th>\n",
       "      <th>BIRDIES</th>\n",
       "      <th>PAR_3_RANK</th>\n",
       "      <th>PAR_3</th>\n",
       "      <th>PAR_4_RANK</th>\n",
       "      <th>PAR_4</th>\n",
       "      <th>PAR_5_RANK</th>\n",
       "      <th>PAR_5</th>\n",
       "      <th>TOTAL_DRIVING_RANK</th>\n",
       "      <th>TOTAL_DRIVING</th>\n",
       "      <th>DRIVING_DISTANCE_RANK</th>\n",
       "      <th>DRIVING_DISTANCE</th>\n",
       "      <th>DRIVING_ACCURACY_RANK</th>\n",
       "      <th>DRIVING_ACCURACY</th>\n",
       "      <th>GIR_RANK</th>\n",
       "      <th>GIR</th>\n",
       "      <th>SCRAMBLING_RANK</th>\n",
       "      <th>SCRAMBLING</th>\n",
       "      <th>OWGR_RANK</th>\n",
       "      <th>OWGR</th>\n",
       "      <th>VEGAS_ODDS</th>\n",
       "      <th>CUT_PERCENTAGE</th>\n",
       "      <th>FEDEX_CUP_POINTS</th>\n",
       "      <th>form_density</th>\n",
       "      <th>CONSECUTIVE_CUTS</th>\n",
       "      <th>RECENT_FORM</th>\n",
       "      <th>adj_form</th>\n",
       "      <th>COURSE_HISTORY</th>\n",
       "      <th>adj_ch</th>\n",
       "      <th>TOP_20</th>\n",
       "    </tr>\n",
       "  </thead>\n",
       "  <tbody>\n",
       "    <tr>\n",
       "      <th>624</th>\n",
       "      <td>2024</td>\n",
       "      <td>2024-06-30</td>\n",
       "      <td>Rocket Mortgage Classic</td>\n",
       "      <td>Detroit Golf Club</td>\n",
       "      <td>Aaron Baddeley</td>\n",
       "      <td>T72</td>\n",
       "      <td>72</td>\n",
       "      <td>167.0</td>\n",
       "      <td>-0.982</td>\n",
       "      <td>175.0</td>\n",
       "      <td>-1.009</td>\n",
       "      <td>153.0</td>\n",
       "      <td>-0.375</td>\n",
       "      <td>7.0</td>\n",
       "      <td>0.402</td>\n",
       "      <td>19.0</td>\n",
       "      <td>0.470</td>\n",
       "      <td>155.0</td>\n",
       "      <td>20.20%</td>\n",
       "      <td>11.0</td>\n",
       "      <td>2.99</td>\n",
       "      <td>141.0</td>\n",
       "      <td>4.05</td>\n",
       "      <td>158.0</td>\n",
       "      <td>4.67</td>\n",
       "      <td>175.0</td>\n",
       "      <td>316.0</td>\n",
       "      <td>171.0</td>\n",
       "      <td>284.8</td>\n",
       "      <td>145.0</td>\n",
       "      <td>56.21%</td>\n",
       "      <td>173.0</td>\n",
       "      <td>62.17%</td>\n",
       "      <td>7.0</td>\n",
       "      <td>65.97%</td>\n",
       "      <td>299.0</td>\n",
       "      <td>0.4698</td>\n",
       "      <td>300.0</td>\n",
       "      <td>69.2</td>\n",
       "      <td>181.975</td>\n",
       "      <td>14.00</td>\n",
       "      <td>0.0</td>\n",
       "      <td>54.8</td>\n",
       "      <td>20.76</td>\n",
       "      <td>73.7</td>\n",
       "      <td>53.16</td>\n",
       "      <td>0</td>\n",
       "    </tr>\n",
       "    <tr>\n",
       "      <th>625</th>\n",
       "      <td>2024</td>\n",
       "      <td>2024-06-30</td>\n",
       "      <td>Rocket Mortgage Classic</td>\n",
       "      <td>Detroit Golf Club</td>\n",
       "      <td>Aaron Rai</td>\n",
       "      <td>T2</td>\n",
       "      <td>2</td>\n",
       "      <td>9.0</td>\n",
       "      <td>1.131</td>\n",
       "      <td>36.0</td>\n",
       "      <td>0.303</td>\n",
       "      <td>8.0</td>\n",
       "      <td>0.676</td>\n",
       "      <td>56.0</td>\n",
       "      <td>0.152</td>\n",
       "      <td>83.0</td>\n",
       "      <td>0.054</td>\n",
       "      <td>99.0</td>\n",
       "      <td>22.10%</td>\n",
       "      <td>38.0</td>\n",
       "      <td>3.01</td>\n",
       "      <td>10.0</td>\n",
       "      <td>3.97</td>\n",
       "      <td>44.0</td>\n",
       "      <td>4.54</td>\n",
       "      <td>53.0</td>\n",
       "      <td>153.0</td>\n",
       "      <td>152.0</td>\n",
       "      <td>293.8</td>\n",
       "      <td>1.0</td>\n",
       "      <td>72.02%</td>\n",
       "      <td>7.0</td>\n",
       "      <td>71.58%</td>\n",
       "      <td>33.0</td>\n",
       "      <td>63.18%</td>\n",
       "      <td>21.0</td>\n",
       "      <td>3.2294</td>\n",
       "      <td>30.0</td>\n",
       "      <td>81.2</td>\n",
       "      <td>544.507</td>\n",
       "      <td>34.03</td>\n",
       "      <td>7.0</td>\n",
       "      <td>39.8</td>\n",
       "      <td>14.05</td>\n",
       "      <td>9.0</td>\n",
       "      <td>12.98</td>\n",
       "      <td>1</td>\n",
       "    </tr>\n",
       "    <tr>\n",
       "      <th>626</th>\n",
       "      <td>2024</td>\n",
       "      <td>2024-06-30</td>\n",
       "      <td>Rocket Mortgage Classic</td>\n",
       "      <td>Detroit Golf Club</td>\n",
       "      <td>Adam Schenk</td>\n",
       "      <td>CUT</td>\n",
       "      <td>90</td>\n",
       "      <td>146.0</td>\n",
       "      <td>-0.421</td>\n",
       "      <td>53.0</td>\n",
       "      <td>0.212</td>\n",
       "      <td>166.0</td>\n",
       "      <td>-0.520</td>\n",
       "      <td>130.0</td>\n",
       "      <td>-0.114</td>\n",
       "      <td>85.0</td>\n",
       "      <td>0.051</td>\n",
       "      <td>132.0</td>\n",
       "      <td>21.24%</td>\n",
       "      <td>152.0</td>\n",
       "      <td>3.09</td>\n",
       "      <td>131.0</td>\n",
       "      <td>4.04</td>\n",
       "      <td>116.0</td>\n",
       "      <td>4.61</td>\n",
       "      <td>102.0</td>\n",
       "      <td>180.0</td>\n",
       "      <td>82.0</td>\n",
       "      <td>302.4</td>\n",
       "      <td>98.0</td>\n",
       "      <td>59.93%</td>\n",
       "      <td>149.0</td>\n",
       "      <td>64.50%</td>\n",
       "      <td>74.0</td>\n",
       "      <td>60.50%</td>\n",
       "      <td>82.0</td>\n",
       "      <td>1.4461</td>\n",
       "      <td>80.0</td>\n",
       "      <td>65.2</td>\n",
       "      <td>577.709</td>\n",
       "      <td>25.12</td>\n",
       "      <td>1.0</td>\n",
       "      <td>52.8</td>\n",
       "      <td>16.61</td>\n",
       "      <td>30.0</td>\n",
       "      <td>18.64</td>\n",
       "      <td>0</td>\n",
       "    </tr>\n",
       "    <tr>\n",
       "      <th>627</th>\n",
       "      <td>2024</td>\n",
       "      <td>2024-06-30</td>\n",
       "      <td>Rocket Mortgage Classic</td>\n",
       "      <td>Detroit Golf Club</td>\n",
       "      <td>Adam Svensson</td>\n",
       "      <td>CUT</td>\n",
       "      <td>90</td>\n",
       "      <td>33.0</td>\n",
       "      <td>0.592</td>\n",
       "      <td>99.0</td>\n",
       "      <td>0.019</td>\n",
       "      <td>28.0</td>\n",
       "      <td>0.380</td>\n",
       "      <td>39.0</td>\n",
       "      <td>0.193</td>\n",
       "      <td>164.0</td>\n",
       "      <td>-0.453</td>\n",
       "      <td>153.0</td>\n",
       "      <td>20.41%</td>\n",
       "      <td>142.0</td>\n",
       "      <td>3.08</td>\n",
       "      <td>85.0</td>\n",
       "      <td>4.01</td>\n",
       "      <td>121.0</td>\n",
       "      <td>4.62</td>\n",
       "      <td>62.0</td>\n",
       "      <td>158.0</td>\n",
       "      <td>118.0</td>\n",
       "      <td>298.3</td>\n",
       "      <td>40.0</td>\n",
       "      <td>64.18%</td>\n",
       "      <td>88.0</td>\n",
       "      <td>67.13%</td>\n",
       "      <td>60.0</td>\n",
       "      <td>61.39%</td>\n",
       "      <td>112.0</td>\n",
       "      <td>1.1671</td>\n",
       "      <td>50.0</td>\n",
       "      <td>80.0</td>\n",
       "      <td>487.341</td>\n",
       "      <td>19.49</td>\n",
       "      <td>11.0</td>\n",
       "      <td>46.4</td>\n",
       "      <td>14.24</td>\n",
       "      <td>65.0</td>\n",
       "      <td>59.17</td>\n",
       "      <td>0</td>\n",
       "    </tr>\n",
       "    <tr>\n",
       "      <th>628</th>\n",
       "      <td>2024</td>\n",
       "      <td>2024-06-30</td>\n",
       "      <td>Rocket Mortgage Classic</td>\n",
       "      <td>Detroit Golf Club</td>\n",
       "      <td>Adrien Dumont de Chassart</td>\n",
       "      <td>CUT</td>\n",
       "      <td>90</td>\n",
       "      <td>169.0</td>\n",
       "      <td>-1.094</td>\n",
       "      <td>157.0</td>\n",
       "      <td>-0.381</td>\n",
       "      <td>157.0</td>\n",
       "      <td>-0.421</td>\n",
       "      <td>157.0</td>\n",
       "      <td>-0.292</td>\n",
       "      <td>141.0</td>\n",
       "      <td>-0.244</td>\n",
       "      <td>141.0</td>\n",
       "      <td>21.06%</td>\n",
       "      <td>142.0</td>\n",
       "      <td>3.08</td>\n",
       "      <td>141.0</td>\n",
       "      <td>4.05</td>\n",
       "      <td>116.0</td>\n",
       "      <td>4.61</td>\n",
       "      <td>154.0</td>\n",
       "      <td>229.0</td>\n",
       "      <td>69.0</td>\n",
       "      <td>303.9</td>\n",
       "      <td>160.0</td>\n",
       "      <td>54.73%</td>\n",
       "      <td>104.0</td>\n",
       "      <td>66.23%</td>\n",
       "      <td>171.0</td>\n",
       "      <td>53.47%</td>\n",
       "      <td>263.0</td>\n",
       "      <td>0.5384</td>\n",
       "      <td>300.0</td>\n",
       "      <td>45.5</td>\n",
       "      <td>37.255</td>\n",
       "      <td>3.39</td>\n",
       "      <td>2.0</td>\n",
       "      <td>76.1</td>\n",
       "      <td>30.62</td>\n",
       "      <td>NaN</td>\n",
       "      <td>NaN</td>\n",
       "      <td>0</td>\n",
       "    </tr>\n",
       "  </tbody>\n",
       "</table>\n",
       "</div>"
      ],
      "text/plain": [
       "     SEASON ENDING_DATE               TOURNAMENT             COURSE  \\\n",
       "624    2024  2024-06-30  Rocket Mortgage Classic  Detroit Golf Club   \n",
       "625    2024  2024-06-30  Rocket Mortgage Classic  Detroit Golf Club   \n",
       "626    2024  2024-06-30  Rocket Mortgage Classic  Detroit Golf Club   \n",
       "627    2024  2024-06-30  Rocket Mortgage Classic  Detroit Golf Club   \n",
       "628    2024  2024-06-30  Rocket Mortgage Classic  Detroit Golf Club   \n",
       "\n",
       "                        PLAYER  POS  FINAL_POS  SGTTG_RANK  SGTTG  SGOTT_RANK  \\\n",
       "624             Aaron Baddeley  T72         72       167.0 -0.982       175.0   \n",
       "625                  Aaron Rai   T2          2         9.0  1.131        36.0   \n",
       "626                Adam Schenk  CUT         90       146.0 -0.421        53.0   \n",
       "627              Adam Svensson  CUT         90        33.0  0.592        99.0   \n",
       "628  Adrien Dumont de Chassart  CUT         90       169.0 -1.094       157.0   \n",
       "\n",
       "     SGOTT  SGAPR_RANK  SGAPR  SGATG_RANK  SGATG  SGP_RANK    SGP  \\\n",
       "624 -1.009       153.0 -0.375         7.0  0.402      19.0  0.470   \n",
       "625  0.303         8.0  0.676        56.0  0.152      83.0  0.054   \n",
       "626  0.212       166.0 -0.520       130.0 -0.114      85.0  0.051   \n",
       "627  0.019        28.0  0.380        39.0  0.193     164.0 -0.453   \n",
       "628 -0.381       157.0 -0.421       157.0 -0.292     141.0 -0.244   \n",
       "\n",
       "     BIRDIES_RANK BIRDIES  PAR_3_RANK  PAR_3  PAR_4_RANK  PAR_4  PAR_5_RANK  \\\n",
       "624         155.0  20.20%        11.0   2.99       141.0   4.05       158.0   \n",
       "625          99.0  22.10%        38.0   3.01        10.0   3.97        44.0   \n",
       "626         132.0  21.24%       152.0   3.09       131.0   4.04       116.0   \n",
       "627         153.0  20.41%       142.0   3.08        85.0   4.01       121.0   \n",
       "628         141.0  21.06%       142.0   3.08       141.0   4.05       116.0   \n",
       "\n",
       "     PAR_5  TOTAL_DRIVING_RANK  TOTAL_DRIVING  DRIVING_DISTANCE_RANK  \\\n",
       "624   4.67               175.0          316.0                  171.0   \n",
       "625   4.54                53.0          153.0                  152.0   \n",
       "626   4.61               102.0          180.0                   82.0   \n",
       "627   4.62                62.0          158.0                  118.0   \n",
       "628   4.61               154.0          229.0                   69.0   \n",
       "\n",
       "     DRIVING_DISTANCE  DRIVING_ACCURACY_RANK DRIVING_ACCURACY  GIR_RANK  \\\n",
       "624             284.8                  145.0           56.21%     173.0   \n",
       "625             293.8                    1.0           72.02%       7.0   \n",
       "626             302.4                   98.0           59.93%     149.0   \n",
       "627             298.3                   40.0           64.18%      88.0   \n",
       "628             303.9                  160.0           54.73%     104.0   \n",
       "\n",
       "        GIR  SCRAMBLING_RANK SCRAMBLING  OWGR_RANK    OWGR  VEGAS_ODDS  \\\n",
       "624  62.17%              7.0     65.97%      299.0  0.4698       300.0   \n",
       "625  71.58%             33.0     63.18%       21.0  3.2294        30.0   \n",
       "626  64.50%             74.0     60.50%       82.0  1.4461        80.0   \n",
       "627  67.13%             60.0     61.39%      112.0  1.1671        50.0   \n",
       "628  66.23%            171.0     53.47%      263.0  0.5384       300.0   \n",
       "\n",
       "     CUT_PERCENTAGE  FEDEX_CUP_POINTS  form_density  CONSECUTIVE_CUTS  \\\n",
       "624            69.2           181.975         14.00               0.0   \n",
       "625            81.2           544.507         34.03               7.0   \n",
       "626            65.2           577.709         25.12               1.0   \n",
       "627            80.0           487.341         19.49              11.0   \n",
       "628            45.5            37.255          3.39               2.0   \n",
       "\n",
       "     RECENT_FORM  adj_form  COURSE_HISTORY  adj_ch  TOP_20  \n",
       "624         54.8     20.76            73.7   53.16       0  \n",
       "625         39.8     14.05             9.0   12.98       1  \n",
       "626         52.8     16.61            30.0   18.64       0  \n",
       "627         46.4     14.24            65.0   59.17       0  \n",
       "628         76.1     30.62             NaN     NaN       0  "
      ]
     },
     "execution_count": 14,
     "metadata": {},
     "output_type": "execute_result"
    }
   ],
   "source": [
    "# Play with different years to see if I notice anything wrong (check Odds)\n",
    "training_df[training_df[\"SEASON\"] == 2024].head()"
   ]
  },
  {
   "cell_type": "markdown",
   "id": "5f92ff52",
   "metadata": {},
   "source": [
    "### Normalization\n",
    "***Fix Historical Odds***\n",
    "\n",
    "Many names do not have historical odds but rather are part of the \"field.\" So giving these \"NaN\" values the average odds (as I would for missing stats) isn't a good approximation of reality – they are typically the \"field\" because they are not notable and have poor odds individually.\n",
    "\n",
    "There are also some crazy odds numbers occasionally (1000/1 or 3000/1) that don't happen all that much and are making that tail too long.\n",
    "\n",
    "This cell assigns odds of 1000/1 for anyone missing and clips anything larger to 1000/1 to normalize the data better and assign the missing odds more appropriately where they belong.\n",
    "\n",
    "***OWGR Adjustment***\n",
    "\n",
    "The NaN's for OWGR are similarly bad players.  So we should assign these the worst ranking instead of the mean and clip it at 1000 just in case there are ever outliers.\n",
    "\n",
    "For the OWGR score, it should match the lowest score in the dataset to assign that person the same as the worst.\n",
    "\n",
    "***Recent Form Adjustment***\n",
    "\n",
    "The NaN's for Recent Form mean that this player has not played any tournaments in the lookback period (9 months).  Similar to Odds and OWGR, I want to punish those that don't play often in my model.  Set these to 90 (i.e. like they miss a lot of cuts - because if they aren't playing they aren't good enough to make it to these tournaments very frequently).  The adj_form feature will also need to be updated here with the new data.\n",
    "\n",
    "***FedEx Cup Point Adjustment***\n",
    "\n",
    "The NaN's for FedEx Cup Points means there is no data.  Therefore they should be 0."
   ]
  },
  {
   "cell_type": "code",
   "execution_count": 15,
   "id": "3e9f4f19",
   "metadata": {},
   "outputs": [
    {
     "data": {
      "text/html": [
       "<div>\n",
       "<style scoped>\n",
       "    .dataframe tbody tr th:only-of-type {\n",
       "        vertical-align: middle;\n",
       "    }\n",
       "\n",
       "    .dataframe tbody tr th {\n",
       "        vertical-align: top;\n",
       "    }\n",
       "\n",
       "    .dataframe thead th {\n",
       "        text-align: right;\n",
       "    }\n",
       "</style>\n",
       "<table border=\"1\" class=\"dataframe\">\n",
       "  <thead>\n",
       "    <tr style=\"text-align: right;\">\n",
       "      <th></th>\n",
       "      <th>SEASON</th>\n",
       "      <th>ENDING_DATE</th>\n",
       "      <th>TOURNAMENT</th>\n",
       "      <th>COURSE</th>\n",
       "      <th>PLAYER</th>\n",
       "      <th>POS</th>\n",
       "      <th>FINAL_POS</th>\n",
       "      <th>SGTTG_RANK</th>\n",
       "      <th>SGTTG</th>\n",
       "      <th>SGOTT_RANK</th>\n",
       "      <th>SGOTT</th>\n",
       "      <th>SGAPR_RANK</th>\n",
       "      <th>SGAPR</th>\n",
       "      <th>SGATG_RANK</th>\n",
       "      <th>SGATG</th>\n",
       "      <th>SGP_RANK</th>\n",
       "      <th>SGP</th>\n",
       "      <th>BIRDIES_RANK</th>\n",
       "      <th>BIRDIES</th>\n",
       "      <th>PAR_3_RANK</th>\n",
       "      <th>PAR_3</th>\n",
       "      <th>PAR_4_RANK</th>\n",
       "      <th>PAR_4</th>\n",
       "      <th>PAR_5_RANK</th>\n",
       "      <th>PAR_5</th>\n",
       "      <th>TOTAL_DRIVING_RANK</th>\n",
       "      <th>TOTAL_DRIVING</th>\n",
       "      <th>DRIVING_DISTANCE_RANK</th>\n",
       "      <th>DRIVING_DISTANCE</th>\n",
       "      <th>DRIVING_ACCURACY_RANK</th>\n",
       "      <th>DRIVING_ACCURACY</th>\n",
       "      <th>GIR_RANK</th>\n",
       "      <th>GIR</th>\n",
       "      <th>SCRAMBLING_RANK</th>\n",
       "      <th>SCRAMBLING</th>\n",
       "      <th>OWGR_RANK</th>\n",
       "      <th>OWGR</th>\n",
       "      <th>VEGAS_ODDS</th>\n",
       "      <th>CUT_PERCENTAGE</th>\n",
       "      <th>FEDEX_CUP_POINTS</th>\n",
       "      <th>form_density</th>\n",
       "      <th>CONSECUTIVE_CUTS</th>\n",
       "      <th>RECENT_FORM</th>\n",
       "      <th>adj_form</th>\n",
       "      <th>COURSE_HISTORY</th>\n",
       "      <th>adj_ch</th>\n",
       "      <th>TOP_20</th>\n",
       "    </tr>\n",
       "  </thead>\n",
       "  <tbody>\n",
       "    <tr>\n",
       "      <th>0</th>\n",
       "      <td>2019</td>\n",
       "      <td>2019-06-30</td>\n",
       "      <td>Rocket Mortgage Classic</td>\n",
       "      <td>Detroit Golf Club</td>\n",
       "      <td>Aaron Wise</td>\n",
       "      <td>T35</td>\n",
       "      <td>35</td>\n",
       "      <td>56.0</td>\n",
       "      <td>0.475</td>\n",
       "      <td>14.0</td>\n",
       "      <td>0.533</td>\n",
       "      <td>129.0</td>\n",
       "      <td>-0.085</td>\n",
       "      <td>99.0</td>\n",
       "      <td>0.026</td>\n",
       "      <td>132.0</td>\n",
       "      <td>-0.146</td>\n",
       "      <td>7.0</td>\n",
       "      <td>24.8</td>\n",
       "      <td>27.0</td>\n",
       "      <td>3.01</td>\n",
       "      <td>116.0</td>\n",
       "      <td>4.04</td>\n",
       "      <td>23.0</td>\n",
       "      <td>4.54</td>\n",
       "      <td>24.0</td>\n",
       "      <td>140.0</td>\n",
       "      <td>33.0</td>\n",
       "      <td>302.6</td>\n",
       "      <td>107.0</td>\n",
       "      <td>61.75</td>\n",
       "      <td>38.0</td>\n",
       "      <td>68.6</td>\n",
       "      <td>186.0</td>\n",
       "      <td>52.05</td>\n",
       "      <td>81.0</td>\n",
       "      <td>1.77</td>\n",
       "      <td>40.0</td>\n",
       "      <td>64.3</td>\n",
       "      <td>301.72</td>\n",
       "      <td>21.55</td>\n",
       "      <td>1.0</td>\n",
       "      <td>49.7</td>\n",
       "      <td>18.35</td>\n",
       "      <td>NaN</td>\n",
       "      <td>NaN</td>\n",
       "      <td>0</td>\n",
       "    </tr>\n",
       "    <tr>\n",
       "      <th>1</th>\n",
       "      <td>2019</td>\n",
       "      <td>2019-06-30</td>\n",
       "      <td>Rocket Mortgage Classic</td>\n",
       "      <td>Detroit Golf Club</td>\n",
       "      <td>Adam Long</td>\n",
       "      <td>CUT</td>\n",
       "      <td>90</td>\n",
       "      <td>121.0</td>\n",
       "      <td>-0.049</td>\n",
       "      <td>118.0</td>\n",
       "      <td>-0.036</td>\n",
       "      <td>78.0</td>\n",
       "      <td>0.138</td>\n",
       "      <td>145.0</td>\n",
       "      <td>-0.151</td>\n",
       "      <td>170.0</td>\n",
       "      <td>-0.369</td>\n",
       "      <td>178.0</td>\n",
       "      <td>18.86</td>\n",
       "      <td>165.0</td>\n",
       "      <td>3.10</td>\n",
       "      <td>153.0</td>\n",
       "      <td>4.06</td>\n",
       "      <td>144.0</td>\n",
       "      <td>4.67</td>\n",
       "      <td>47.0</td>\n",
       "      <td>158.0</td>\n",
       "      <td>112.0</td>\n",
       "      <td>292.0</td>\n",
       "      <td>46.0</td>\n",
       "      <td>66.51</td>\n",
       "      <td>134.0</td>\n",
       "      <td>65.28</td>\n",
       "      <td>126.0</td>\n",
       "      <td>58.74</td>\n",
       "      <td>127.0</td>\n",
       "      <td>1.20</td>\n",
       "      <td>150.0</td>\n",
       "      <td>42.1</td>\n",
       "      <td>671.78</td>\n",
       "      <td>35.36</td>\n",
       "      <td>1.0</td>\n",
       "      <td>66.8</td>\n",
       "      <td>22.30</td>\n",
       "      <td>NaN</td>\n",
       "      <td>NaN</td>\n",
       "      <td>0</td>\n",
       "    </tr>\n",
       "    <tr>\n",
       "      <th>2</th>\n",
       "      <td>2019</td>\n",
       "      <td>2019-06-30</td>\n",
       "      <td>Rocket Mortgage Classic</td>\n",
       "      <td>Detroit Golf Club</td>\n",
       "      <td>Adam Schenk</td>\n",
       "      <td>T42</td>\n",
       "      <td>42</td>\n",
       "      <td>94.0</td>\n",
       "      <td>0.146</td>\n",
       "      <td>91.0</td>\n",
       "      <td>0.080</td>\n",
       "      <td>76.0</td>\n",
       "      <td>0.142</td>\n",
       "      <td>127.0</td>\n",
       "      <td>-0.075</td>\n",
       "      <td>33.0</td>\n",
       "      <td>0.341</td>\n",
       "      <td>45.0</td>\n",
       "      <td>22.67</td>\n",
       "      <td>41.0</td>\n",
       "      <td>3.02</td>\n",
       "      <td>61.0</td>\n",
       "      <td>4.01</td>\n",
       "      <td>60.0</td>\n",
       "      <td>4.59</td>\n",
       "      <td>55.0</td>\n",
       "      <td>162.0</td>\n",
       "      <td>47.0</td>\n",
       "      <td>300.8</td>\n",
       "      <td>115.0</td>\n",
       "      <td>61.27</td>\n",
       "      <td>36.0</td>\n",
       "      <td>68.61</td>\n",
       "      <td>74.0</td>\n",
       "      <td>60.71</td>\n",
       "      <td>219.0</td>\n",
       "      <td>0.78</td>\n",
       "      <td>1000.0</td>\n",
       "      <td>61.9</td>\n",
       "      <td>347.58</td>\n",
       "      <td>16.55</td>\n",
       "      <td>0.0</td>\n",
       "      <td>56.1</td>\n",
       "      <td>18.15</td>\n",
       "      <td>NaN</td>\n",
       "      <td>NaN</td>\n",
       "      <td>0</td>\n",
       "    </tr>\n",
       "    <tr>\n",
       "      <th>3</th>\n",
       "      <td>2019</td>\n",
       "      <td>2019-06-30</td>\n",
       "      <td>Rocket Mortgage Classic</td>\n",
       "      <td>Detroit Golf Club</td>\n",
       "      <td>Adam Svensson</td>\n",
       "      <td>CUT</td>\n",
       "      <td>90</td>\n",
       "      <td>17.0</td>\n",
       "      <td>0.981</td>\n",
       "      <td>58.0</td>\n",
       "      <td>0.213</td>\n",
       "      <td>23.0</td>\n",
       "      <td>0.509</td>\n",
       "      <td>33.0</td>\n",
       "      <td>0.259</td>\n",
       "      <td>183.0</td>\n",
       "      <td>-0.602</td>\n",
       "      <td>77.0</td>\n",
       "      <td>21.64</td>\n",
       "      <td>70.0</td>\n",
       "      <td>3.04</td>\n",
       "      <td>61.0</td>\n",
       "      <td>4.01</td>\n",
       "      <td>75.0</td>\n",
       "      <td>4.61</td>\n",
       "      <td>106.0</td>\n",
       "      <td>193.0</td>\n",
       "      <td>130.0</td>\n",
       "      <td>289.8</td>\n",
       "      <td>63.0</td>\n",
       "      <td>65.24</td>\n",
       "      <td>19.0</td>\n",
       "      <td>69.4</td>\n",
       "      <td>75.0</td>\n",
       "      <td>60.7</td>\n",
       "      <td>434.0</td>\n",
       "      <td>0.42</td>\n",
       "      <td>1000.0</td>\n",
       "      <td>40.0</td>\n",
       "      <td>87.81</td>\n",
       "      <td>5.85</td>\n",
       "      <td>0.0</td>\n",
       "      <td>70.1</td>\n",
       "      <td>25.28</td>\n",
       "      <td>NaN</td>\n",
       "      <td>NaN</td>\n",
       "      <td>0</td>\n",
       "    </tr>\n",
       "    <tr>\n",
       "      <th>4</th>\n",
       "      <td>2019</td>\n",
       "      <td>2019-06-30</td>\n",
       "      <td>Rocket Mortgage Classic</td>\n",
       "      <td>Detroit Golf Club</td>\n",
       "      <td>Alex Cejka</td>\n",
       "      <td>CUT</td>\n",
       "      <td>90</td>\n",
       "      <td>153.0</td>\n",
       "      <td>-0.362</td>\n",
       "      <td>133.0</td>\n",
       "      <td>-0.092</td>\n",
       "      <td>114.0</td>\n",
       "      <td>-0.014</td>\n",
       "      <td>169.0</td>\n",
       "      <td>-0.257</td>\n",
       "      <td>174.0</td>\n",
       "      <td>-0.482</td>\n",
       "      <td>185.0</td>\n",
       "      <td>17.44</td>\n",
       "      <td>3.0</td>\n",
       "      <td>2.97</td>\n",
       "      <td>182.0</td>\n",
       "      <td>4.09</td>\n",
       "      <td>185.0</td>\n",
       "      <td>4.77</td>\n",
       "      <td>150.0</td>\n",
       "      <td>222.0</td>\n",
       "      <td>183.0</td>\n",
       "      <td>278.0</td>\n",
       "      <td>39.0</td>\n",
       "      <td>67.19</td>\n",
       "      <td>156.0</td>\n",
       "      <td>64.44</td>\n",
       "      <td>99.0</td>\n",
       "      <td>59.69</td>\n",
       "      <td>631.0</td>\n",
       "      <td>0.26</td>\n",
       "      <td>1000.0</td>\n",
       "      <td>38.5</td>\n",
       "      <td>28.59</td>\n",
       "      <td>2.20</td>\n",
       "      <td>1.0</td>\n",
       "      <td>77.5</td>\n",
       "      <td>29.37</td>\n",
       "      <td>NaN</td>\n",
       "      <td>NaN</td>\n",
       "      <td>0</td>\n",
       "    </tr>\n",
       "  </tbody>\n",
       "</table>\n",
       "</div>"
      ],
      "text/plain": [
       "   SEASON ENDING_DATE               TOURNAMENT             COURSE  \\\n",
       "0    2019  2019-06-30  Rocket Mortgage Classic  Detroit Golf Club   \n",
       "1    2019  2019-06-30  Rocket Mortgage Classic  Detroit Golf Club   \n",
       "2    2019  2019-06-30  Rocket Mortgage Classic  Detroit Golf Club   \n",
       "3    2019  2019-06-30  Rocket Mortgage Classic  Detroit Golf Club   \n",
       "4    2019  2019-06-30  Rocket Mortgage Classic  Detroit Golf Club   \n",
       "\n",
       "          PLAYER  POS  FINAL_POS  SGTTG_RANK  SGTTG  SGOTT_RANK  SGOTT  \\\n",
       "0     Aaron Wise  T35         35        56.0  0.475        14.0  0.533   \n",
       "1      Adam Long  CUT         90       121.0 -0.049       118.0 -0.036   \n",
       "2    Adam Schenk  T42         42        94.0  0.146        91.0  0.080   \n",
       "3  Adam Svensson  CUT         90        17.0  0.981        58.0  0.213   \n",
       "4     Alex Cejka  CUT         90       153.0 -0.362       133.0 -0.092   \n",
       "\n",
       "   SGAPR_RANK  SGAPR  SGATG_RANK  SGATG  SGP_RANK    SGP  BIRDIES_RANK  \\\n",
       "0       129.0 -0.085        99.0  0.026     132.0 -0.146           7.0   \n",
       "1        78.0  0.138       145.0 -0.151     170.0 -0.369         178.0   \n",
       "2        76.0  0.142       127.0 -0.075      33.0  0.341          45.0   \n",
       "3        23.0  0.509        33.0  0.259     183.0 -0.602          77.0   \n",
       "4       114.0 -0.014       169.0 -0.257     174.0 -0.482         185.0   \n",
       "\n",
       "  BIRDIES  PAR_3_RANK  PAR_3  PAR_4_RANK  PAR_4  PAR_5_RANK  PAR_5  \\\n",
       "0    24.8        27.0   3.01       116.0   4.04        23.0   4.54   \n",
       "1   18.86       165.0   3.10       153.0   4.06       144.0   4.67   \n",
       "2   22.67        41.0   3.02        61.0   4.01        60.0   4.59   \n",
       "3   21.64        70.0   3.04        61.0   4.01        75.0   4.61   \n",
       "4   17.44         3.0   2.97       182.0   4.09       185.0   4.77   \n",
       "\n",
       "   TOTAL_DRIVING_RANK  TOTAL_DRIVING  DRIVING_DISTANCE_RANK  DRIVING_DISTANCE  \\\n",
       "0                24.0          140.0                   33.0             302.6   \n",
       "1                47.0          158.0                  112.0             292.0   \n",
       "2                55.0          162.0                   47.0             300.8   \n",
       "3               106.0          193.0                  130.0             289.8   \n",
       "4               150.0          222.0                  183.0             278.0   \n",
       "\n",
       "   DRIVING_ACCURACY_RANK DRIVING_ACCURACY  GIR_RANK    GIR  SCRAMBLING_RANK  \\\n",
       "0                  107.0            61.75      38.0   68.6            186.0   \n",
       "1                   46.0            66.51     134.0  65.28            126.0   \n",
       "2                  115.0            61.27      36.0  68.61             74.0   \n",
       "3                   63.0            65.24      19.0   69.4             75.0   \n",
       "4                   39.0            67.19     156.0  64.44             99.0   \n",
       "\n",
       "  SCRAMBLING  OWGR_RANK  OWGR  VEGAS_ODDS  CUT_PERCENTAGE  FEDEX_CUP_POINTS  \\\n",
       "0      52.05       81.0  1.77        40.0            64.3            301.72   \n",
       "1      58.74      127.0  1.20       150.0            42.1            671.78   \n",
       "2      60.71      219.0  0.78      1000.0            61.9            347.58   \n",
       "3       60.7      434.0  0.42      1000.0            40.0             87.81   \n",
       "4      59.69      631.0  0.26      1000.0            38.5             28.59   \n",
       "\n",
       "   form_density  CONSECUTIVE_CUTS  RECENT_FORM  adj_form  COURSE_HISTORY  \\\n",
       "0         21.55               1.0         49.7     18.35             NaN   \n",
       "1         35.36               1.0         66.8     22.30             NaN   \n",
       "2         16.55               0.0         56.1     18.15             NaN   \n",
       "3          5.85               0.0         70.1     25.28             NaN   \n",
       "4          2.20               1.0         77.5     29.37             NaN   \n",
       "\n",
       "   adj_ch  TOP_20  \n",
       "0     NaN       0  \n",
       "1     NaN       0  \n",
       "2     NaN       0  \n",
       "3     NaN       0  \n",
       "4     NaN       0  "
      ]
     },
     "execution_count": 15,
     "metadata": {},
     "output_type": "execute_result"
    }
   ],
   "source": [
    "# === VEGAS ODDS ===\n",
    "training_df[\"VEGAS_ODDS\"] = training_df[\"VEGAS_ODDS\"].fillna(1000).clip(upper=1000)\n",
    "\n",
    "# === OWGR and OWGR_RANK ===\n",
    "owgr_min = training_df[\"OWGR\"].min(skipna=True)\n",
    "training_df[\"OWGR\"] = training_df[\"OWGR\"].fillna(owgr_min)\n",
    "training_df[\"OWGR_RANK\"] = training_df[\"OWGR_RANK\"].fillna(1000).astype(float).clip(upper=1000)\n",
    "\n",
    "# === RECENT FORM and adj_form ===\n",
    "training_df[\"RECENT_FORM\"] = training_df[\"RECENT_FORM\"].fillna(90)\n",
    "if \"TOTAL_EVENTS_PLAYED\" in training_df.columns:\n",
    "    training_df[\"adj_form\"] = (\n",
    "        training_df[\"RECENT_FORM\"] / np.log1p(training_df[\"TOTAL_EVENTS_PLAYED\"])\n",
    "    ).round(2)\n",
    "\n",
    "# === FEDEX CUP POINTS ===\n",
    "training_df[\"FEDEX_CUP_POINTS\"] = training_df[\"FEDEX_CUP_POINTS\"].fillna(0)\n",
    "\n",
    "training_df.head(5)\n"
   ]
  },
  {
   "cell_type": "markdown",
   "id": "f58c9b4a",
   "metadata": {},
   "source": [
    "#### Average the NaNs\n",
    "At this point, the intentional offsetting of NaNs for poor players is over.  I don't want to penalize statistics or course history because you never know where they might land on the spectrum, so for these NaN values, we will take the mean."
   ]
  },
  {
   "cell_type": "code",
   "execution_count": 16,
   "id": "1172b59c",
   "metadata": {},
   "outputs": [
    {
     "data": {
      "text/html": [
       "<div>\n",
       "<style scoped>\n",
       "    .dataframe tbody tr th:only-of-type {\n",
       "        vertical-align: middle;\n",
       "    }\n",
       "\n",
       "    .dataframe tbody tr th {\n",
       "        vertical-align: top;\n",
       "    }\n",
       "\n",
       "    .dataframe thead th {\n",
       "        text-align: right;\n",
       "    }\n",
       "</style>\n",
       "<table border=\"1\" class=\"dataframe\">\n",
       "  <thead>\n",
       "    <tr style=\"text-align: right;\">\n",
       "      <th></th>\n",
       "      <th>SEASON</th>\n",
       "      <th>ENDING_DATE</th>\n",
       "      <th>TOURNAMENT</th>\n",
       "      <th>COURSE</th>\n",
       "      <th>PLAYER</th>\n",
       "      <th>POS</th>\n",
       "      <th>FINAL_POS</th>\n",
       "      <th>SGTTG_RANK</th>\n",
       "      <th>SGTTG</th>\n",
       "      <th>SGOTT_RANK</th>\n",
       "      <th>SGOTT</th>\n",
       "      <th>SGAPR_RANK</th>\n",
       "      <th>SGAPR</th>\n",
       "      <th>SGATG_RANK</th>\n",
       "      <th>SGATG</th>\n",
       "      <th>SGP_RANK</th>\n",
       "      <th>SGP</th>\n",
       "      <th>BIRDIES_RANK</th>\n",
       "      <th>BIRDIES</th>\n",
       "      <th>PAR_3_RANK</th>\n",
       "      <th>PAR_3</th>\n",
       "      <th>PAR_4_RANK</th>\n",
       "      <th>PAR_4</th>\n",
       "      <th>PAR_5_RANK</th>\n",
       "      <th>PAR_5</th>\n",
       "      <th>TOTAL_DRIVING_RANK</th>\n",
       "      <th>TOTAL_DRIVING</th>\n",
       "      <th>DRIVING_DISTANCE_RANK</th>\n",
       "      <th>DRIVING_DISTANCE</th>\n",
       "      <th>DRIVING_ACCURACY_RANK</th>\n",
       "      <th>DRIVING_ACCURACY</th>\n",
       "      <th>GIR_RANK</th>\n",
       "      <th>GIR</th>\n",
       "      <th>SCRAMBLING_RANK</th>\n",
       "      <th>SCRAMBLING</th>\n",
       "      <th>OWGR_RANK</th>\n",
       "      <th>OWGR</th>\n",
       "      <th>VEGAS_ODDS</th>\n",
       "      <th>CUT_PERCENTAGE</th>\n",
       "      <th>FEDEX_CUP_POINTS</th>\n",
       "      <th>form_density</th>\n",
       "      <th>CONSECUTIVE_CUTS</th>\n",
       "      <th>RECENT_FORM</th>\n",
       "      <th>adj_form</th>\n",
       "      <th>COURSE_HISTORY</th>\n",
       "      <th>adj_ch</th>\n",
       "      <th>TOP_20</th>\n",
       "    </tr>\n",
       "  </thead>\n",
       "  <tbody>\n",
       "    <tr>\n",
       "      <th>0</th>\n",
       "      <td>2019</td>\n",
       "      <td>2019-06-30</td>\n",
       "      <td>Rocket Mortgage Classic</td>\n",
       "      <td>Detroit Golf Club</td>\n",
       "      <td>Aaron Wise</td>\n",
       "      <td>T35</td>\n",
       "      <td>35</td>\n",
       "      <td>56.0</td>\n",
       "      <td>0.475</td>\n",
       "      <td>14.0</td>\n",
       "      <td>0.533</td>\n",
       "      <td>129.0</td>\n",
       "      <td>-0.085</td>\n",
       "      <td>99.0</td>\n",
       "      <td>0.026</td>\n",
       "      <td>132.0</td>\n",
       "      <td>-0.146</td>\n",
       "      <td>7.0</td>\n",
       "      <td>24.80</td>\n",
       "      <td>27.0</td>\n",
       "      <td>3.01</td>\n",
       "      <td>116.0</td>\n",
       "      <td>4.04</td>\n",
       "      <td>23.0</td>\n",
       "      <td>4.54</td>\n",
       "      <td>24.0</td>\n",
       "      <td>140.0</td>\n",
       "      <td>33.0</td>\n",
       "      <td>302.6</td>\n",
       "      <td>107.0</td>\n",
       "      <td>61.75</td>\n",
       "      <td>38.0</td>\n",
       "      <td>68.60</td>\n",
       "      <td>186.0</td>\n",
       "      <td>52.05</td>\n",
       "      <td>81.0</td>\n",
       "      <td>1.77</td>\n",
       "      <td>40.0</td>\n",
       "      <td>64.3</td>\n",
       "      <td>301.72</td>\n",
       "      <td>21.55</td>\n",
       "      <td>1.0</td>\n",
       "      <td>49.7</td>\n",
       "      <td>18.35</td>\n",
       "      <td>60.331658</td>\n",
       "      <td>69.656206</td>\n",
       "      <td>0</td>\n",
       "    </tr>\n",
       "    <tr>\n",
       "      <th>1</th>\n",
       "      <td>2019</td>\n",
       "      <td>2019-06-30</td>\n",
       "      <td>Rocket Mortgage Classic</td>\n",
       "      <td>Detroit Golf Club</td>\n",
       "      <td>Adam Long</td>\n",
       "      <td>CUT</td>\n",
       "      <td>90</td>\n",
       "      <td>121.0</td>\n",
       "      <td>-0.049</td>\n",
       "      <td>118.0</td>\n",
       "      <td>-0.036</td>\n",
       "      <td>78.0</td>\n",
       "      <td>0.138</td>\n",
       "      <td>145.0</td>\n",
       "      <td>-0.151</td>\n",
       "      <td>170.0</td>\n",
       "      <td>-0.369</td>\n",
       "      <td>178.0</td>\n",
       "      <td>18.86</td>\n",
       "      <td>165.0</td>\n",
       "      <td>3.10</td>\n",
       "      <td>153.0</td>\n",
       "      <td>4.06</td>\n",
       "      <td>144.0</td>\n",
       "      <td>4.67</td>\n",
       "      <td>47.0</td>\n",
       "      <td>158.0</td>\n",
       "      <td>112.0</td>\n",
       "      <td>292.0</td>\n",
       "      <td>46.0</td>\n",
       "      <td>66.51</td>\n",
       "      <td>134.0</td>\n",
       "      <td>65.28</td>\n",
       "      <td>126.0</td>\n",
       "      <td>58.74</td>\n",
       "      <td>127.0</td>\n",
       "      <td>1.20</td>\n",
       "      <td>150.0</td>\n",
       "      <td>42.1</td>\n",
       "      <td>671.78</td>\n",
       "      <td>35.36</td>\n",
       "      <td>1.0</td>\n",
       "      <td>66.8</td>\n",
       "      <td>22.30</td>\n",
       "      <td>60.331658</td>\n",
       "      <td>69.656206</td>\n",
       "      <td>0</td>\n",
       "    </tr>\n",
       "    <tr>\n",
       "      <th>2</th>\n",
       "      <td>2019</td>\n",
       "      <td>2019-06-30</td>\n",
       "      <td>Rocket Mortgage Classic</td>\n",
       "      <td>Detroit Golf Club</td>\n",
       "      <td>Adam Schenk</td>\n",
       "      <td>T42</td>\n",
       "      <td>42</td>\n",
       "      <td>94.0</td>\n",
       "      <td>0.146</td>\n",
       "      <td>91.0</td>\n",
       "      <td>0.080</td>\n",
       "      <td>76.0</td>\n",
       "      <td>0.142</td>\n",
       "      <td>127.0</td>\n",
       "      <td>-0.075</td>\n",
       "      <td>33.0</td>\n",
       "      <td>0.341</td>\n",
       "      <td>45.0</td>\n",
       "      <td>22.67</td>\n",
       "      <td>41.0</td>\n",
       "      <td>3.02</td>\n",
       "      <td>61.0</td>\n",
       "      <td>4.01</td>\n",
       "      <td>60.0</td>\n",
       "      <td>4.59</td>\n",
       "      <td>55.0</td>\n",
       "      <td>162.0</td>\n",
       "      <td>47.0</td>\n",
       "      <td>300.8</td>\n",
       "      <td>115.0</td>\n",
       "      <td>61.27</td>\n",
       "      <td>36.0</td>\n",
       "      <td>68.61</td>\n",
       "      <td>74.0</td>\n",
       "      <td>60.71</td>\n",
       "      <td>219.0</td>\n",
       "      <td>0.78</td>\n",
       "      <td>1000.0</td>\n",
       "      <td>61.9</td>\n",
       "      <td>347.58</td>\n",
       "      <td>16.55</td>\n",
       "      <td>0.0</td>\n",
       "      <td>56.1</td>\n",
       "      <td>18.15</td>\n",
       "      <td>60.331658</td>\n",
       "      <td>69.656206</td>\n",
       "      <td>0</td>\n",
       "    </tr>\n",
       "    <tr>\n",
       "      <th>3</th>\n",
       "      <td>2019</td>\n",
       "      <td>2019-06-30</td>\n",
       "      <td>Rocket Mortgage Classic</td>\n",
       "      <td>Detroit Golf Club</td>\n",
       "      <td>Adam Svensson</td>\n",
       "      <td>CUT</td>\n",
       "      <td>90</td>\n",
       "      <td>17.0</td>\n",
       "      <td>0.981</td>\n",
       "      <td>58.0</td>\n",
       "      <td>0.213</td>\n",
       "      <td>23.0</td>\n",
       "      <td>0.509</td>\n",
       "      <td>33.0</td>\n",
       "      <td>0.259</td>\n",
       "      <td>183.0</td>\n",
       "      <td>-0.602</td>\n",
       "      <td>77.0</td>\n",
       "      <td>21.64</td>\n",
       "      <td>70.0</td>\n",
       "      <td>3.04</td>\n",
       "      <td>61.0</td>\n",
       "      <td>4.01</td>\n",
       "      <td>75.0</td>\n",
       "      <td>4.61</td>\n",
       "      <td>106.0</td>\n",
       "      <td>193.0</td>\n",
       "      <td>130.0</td>\n",
       "      <td>289.8</td>\n",
       "      <td>63.0</td>\n",
       "      <td>65.24</td>\n",
       "      <td>19.0</td>\n",
       "      <td>69.40</td>\n",
       "      <td>75.0</td>\n",
       "      <td>60.70</td>\n",
       "      <td>434.0</td>\n",
       "      <td>0.42</td>\n",
       "      <td>1000.0</td>\n",
       "      <td>40.0</td>\n",
       "      <td>87.81</td>\n",
       "      <td>5.85</td>\n",
       "      <td>0.0</td>\n",
       "      <td>70.1</td>\n",
       "      <td>25.28</td>\n",
       "      <td>60.331658</td>\n",
       "      <td>69.656206</td>\n",
       "      <td>0</td>\n",
       "    </tr>\n",
       "    <tr>\n",
       "      <th>4</th>\n",
       "      <td>2019</td>\n",
       "      <td>2019-06-30</td>\n",
       "      <td>Rocket Mortgage Classic</td>\n",
       "      <td>Detroit Golf Club</td>\n",
       "      <td>Alex Cejka</td>\n",
       "      <td>CUT</td>\n",
       "      <td>90</td>\n",
       "      <td>153.0</td>\n",
       "      <td>-0.362</td>\n",
       "      <td>133.0</td>\n",
       "      <td>-0.092</td>\n",
       "      <td>114.0</td>\n",
       "      <td>-0.014</td>\n",
       "      <td>169.0</td>\n",
       "      <td>-0.257</td>\n",
       "      <td>174.0</td>\n",
       "      <td>-0.482</td>\n",
       "      <td>185.0</td>\n",
       "      <td>17.44</td>\n",
       "      <td>3.0</td>\n",
       "      <td>2.97</td>\n",
       "      <td>182.0</td>\n",
       "      <td>4.09</td>\n",
       "      <td>185.0</td>\n",
       "      <td>4.77</td>\n",
       "      <td>150.0</td>\n",
       "      <td>222.0</td>\n",
       "      <td>183.0</td>\n",
       "      <td>278.0</td>\n",
       "      <td>39.0</td>\n",
       "      <td>67.19</td>\n",
       "      <td>156.0</td>\n",
       "      <td>64.44</td>\n",
       "      <td>99.0</td>\n",
       "      <td>59.69</td>\n",
       "      <td>631.0</td>\n",
       "      <td>0.26</td>\n",
       "      <td>1000.0</td>\n",
       "      <td>38.5</td>\n",
       "      <td>28.59</td>\n",
       "      <td>2.20</td>\n",
       "      <td>1.0</td>\n",
       "      <td>77.5</td>\n",
       "      <td>29.37</td>\n",
       "      <td>60.331658</td>\n",
       "      <td>69.656206</td>\n",
       "      <td>0</td>\n",
       "    </tr>\n",
       "  </tbody>\n",
       "</table>\n",
       "</div>"
      ],
      "text/plain": [
       "   SEASON ENDING_DATE               TOURNAMENT             COURSE  \\\n",
       "0    2019  2019-06-30  Rocket Mortgage Classic  Detroit Golf Club   \n",
       "1    2019  2019-06-30  Rocket Mortgage Classic  Detroit Golf Club   \n",
       "2    2019  2019-06-30  Rocket Mortgage Classic  Detroit Golf Club   \n",
       "3    2019  2019-06-30  Rocket Mortgage Classic  Detroit Golf Club   \n",
       "4    2019  2019-06-30  Rocket Mortgage Classic  Detroit Golf Club   \n",
       "\n",
       "          PLAYER  POS  FINAL_POS  SGTTG_RANK  SGTTG  SGOTT_RANK  SGOTT  \\\n",
       "0     Aaron Wise  T35         35        56.0  0.475        14.0  0.533   \n",
       "1      Adam Long  CUT         90       121.0 -0.049       118.0 -0.036   \n",
       "2    Adam Schenk  T42         42        94.0  0.146        91.0  0.080   \n",
       "3  Adam Svensson  CUT         90        17.0  0.981        58.0  0.213   \n",
       "4     Alex Cejka  CUT         90       153.0 -0.362       133.0 -0.092   \n",
       "\n",
       "   SGAPR_RANK  SGAPR  SGATG_RANK  SGATG  SGP_RANK    SGP  BIRDIES_RANK  \\\n",
       "0       129.0 -0.085        99.0  0.026     132.0 -0.146           7.0   \n",
       "1        78.0  0.138       145.0 -0.151     170.0 -0.369         178.0   \n",
       "2        76.0  0.142       127.0 -0.075      33.0  0.341          45.0   \n",
       "3        23.0  0.509        33.0  0.259     183.0 -0.602          77.0   \n",
       "4       114.0 -0.014       169.0 -0.257     174.0 -0.482         185.0   \n",
       "\n",
       "   BIRDIES  PAR_3_RANK  PAR_3  PAR_4_RANK  PAR_4  PAR_5_RANK  PAR_5  \\\n",
       "0    24.80        27.0   3.01       116.0   4.04        23.0   4.54   \n",
       "1    18.86       165.0   3.10       153.0   4.06       144.0   4.67   \n",
       "2    22.67        41.0   3.02        61.0   4.01        60.0   4.59   \n",
       "3    21.64        70.0   3.04        61.0   4.01        75.0   4.61   \n",
       "4    17.44         3.0   2.97       182.0   4.09       185.0   4.77   \n",
       "\n",
       "   TOTAL_DRIVING_RANK  TOTAL_DRIVING  DRIVING_DISTANCE_RANK  DRIVING_DISTANCE  \\\n",
       "0                24.0          140.0                   33.0             302.6   \n",
       "1                47.0          158.0                  112.0             292.0   \n",
       "2                55.0          162.0                   47.0             300.8   \n",
       "3               106.0          193.0                  130.0             289.8   \n",
       "4               150.0          222.0                  183.0             278.0   \n",
       "\n",
       "   DRIVING_ACCURACY_RANK  DRIVING_ACCURACY  GIR_RANK    GIR  SCRAMBLING_RANK  \\\n",
       "0                  107.0             61.75      38.0  68.60            186.0   \n",
       "1                   46.0             66.51     134.0  65.28            126.0   \n",
       "2                  115.0             61.27      36.0  68.61             74.0   \n",
       "3                   63.0             65.24      19.0  69.40             75.0   \n",
       "4                   39.0             67.19     156.0  64.44             99.0   \n",
       "\n",
       "   SCRAMBLING  OWGR_RANK  OWGR  VEGAS_ODDS  CUT_PERCENTAGE  FEDEX_CUP_POINTS  \\\n",
       "0       52.05       81.0  1.77        40.0            64.3            301.72   \n",
       "1       58.74      127.0  1.20       150.0            42.1            671.78   \n",
       "2       60.71      219.0  0.78      1000.0            61.9            347.58   \n",
       "3       60.70      434.0  0.42      1000.0            40.0             87.81   \n",
       "4       59.69      631.0  0.26      1000.0            38.5             28.59   \n",
       "\n",
       "   form_density  CONSECUTIVE_CUTS  RECENT_FORM  adj_form  COURSE_HISTORY  \\\n",
       "0         21.55               1.0         49.7     18.35       60.331658   \n",
       "1         35.36               1.0         66.8     22.30       60.331658   \n",
       "2         16.55               0.0         56.1     18.15       60.331658   \n",
       "3          5.85               0.0         70.1     25.28       60.331658   \n",
       "4          2.20               1.0         77.5     29.37       60.331658   \n",
       "\n",
       "      adj_ch  TOP_20  \n",
       "0  69.656206       0  \n",
       "1  69.656206       0  \n",
       "2  69.656206       0  \n",
       "3  69.656206       0  \n",
       "4  69.656206       0  "
      ]
     },
     "execution_count": 16,
     "metadata": {},
     "output_type": "execute_result"
    }
   ],
   "source": [
    "# === Clean percentage stats stored as strings like '62.5%' ===\n",
    "percent_stats = [\"SCRAMBLING\", \"DRIVING_ACCURACY\", \"BIRDIES\", \"GIR\"]\n",
    "\n",
    "for col in percent_stats:\n",
    "    if col in training_df.columns:\n",
    "        training_df[col] = (\n",
    "            training_df[col]\n",
    "            .astype(str)\n",
    "            .str.replace('%', '', regex=False)\n",
    "            .replace(['None', 'nan', 'NaN', '--', 'DNP', ''], np.nan)\n",
    "            .astype(float)\n",
    "        )\n",
    "\n",
    "# Select only the numeric columns\n",
    "numeric_columns = training_df.select_dtypes(include=['float64', 'int64'])\n",
    "\n",
    "# Fill NaN values with the mean of each column\n",
    "numeric_columns = numeric_columns.fillna(numeric_columns.mean())\n",
    "\n",
    "# Update the original dataframe with the filled numeric columns\n",
    "training_df.update(numeric_columns)\n",
    "\n",
    "training_df.head()"
   ]
  },
  {
   "cell_type": "code",
   "execution_count": 17,
   "id": "bb294b3c",
   "metadata": {},
   "outputs": [],
   "source": [
    "# Check for NaN values\n",
    "assert training_df.isna().sum().sum() == 0, \"🚨 Still missing values!\""
   ]
  },
  {
   "cell_type": "code",
   "execution_count": 18,
   "id": "5d68c5dc",
   "metadata": {},
   "outputs": [
    {
     "data": {
      "text/plain": [
       "SEASON         0\n",
       "ENDING_DATE    0\n",
       "TOURNAMENT     0\n",
       "COURSE         0\n",
       "PLAYER         0\n",
       "POS            0\n",
       "FINAL_POS      0\n",
       "SGTTG_RANK     0\n",
       "SGTTG          0\n",
       "SGOTT_RANK     0\n",
       "dtype: int64"
      ]
     },
     "execution_count": 18,
     "metadata": {},
     "output_type": "execute_result"
    }
   ],
   "source": [
    "# Inspect which columns have NaN values\n",
    "training_df.isna().sum().sort_values(ascending=False).head(10)\n"
   ]
  },
  {
   "cell_type": "markdown",
   "id": "1214b374",
   "metadata": {},
   "source": [
    "### Check Features for Outliers and General Health (Histograms)\n",
    "Now that all the data is cleaned, let's look at the distribution graphs."
   ]
  },
  {
   "cell_type": "code",
   "execution_count": null,
   "id": "c3ac2331",
   "metadata": {},
   "outputs": [],
   "source": [
    "import plotly.express as px\n",
    "import plotly.subplots as sp\n",
    "import plotly.graph_objects as go\n",
    "import pandas as pd\n",
    "import numpy as np\n",
    "\n",
    "# Select numeric columns with >1 unique value, excluding label\n",
    "df_numeric = training_df.select_dtypes(include=np.number)\n",
    "df_numeric = df_numeric.loc[:, df_numeric.nunique() > 1]\n",
    "df_numeric = df_numeric.drop(columns=[\"TOP_20\"], errors=\"ignore\")\n",
    "\n",
    "# Create subplots\n",
    "n_cols = 3\n",
    "n_rows = int(np.ceil(len(df_numeric.columns) / n_cols))\n",
    "fig = sp.make_subplots(rows=n_rows, cols=n_cols, subplot_titles=df_numeric.columns)\n",
    "\n",
    "# Add one histogram per feature with smart binning\n",
    "for i, column in enumerate(df_numeric.columns):\n",
    "    row = i // n_cols + 1\n",
    "    col = i % n_cols + 1\n",
    "\n",
    "    # Compute dynamic bin count\n",
    "    col_range = df_numeric[column].max() - df_numeric[column].min()\n",
    "    n_unique = df_numeric[column].nunique()\n",
    "    nbins = min(50, max(5, int(n_unique / 2))) if col_range < 10 else 50  # tighter for short-range\n",
    "\n",
    "    fig.add_trace(\n",
    "        go.Histogram(\n",
    "            x=df_numeric[column],\n",
    "            nbinsx=nbins,\n",
    "            histnorm=\"density\",\n",
    "            marker=dict(color=\"#636EFA\"),\n",
    "            opacity=0.8\n",
    "        ),\n",
    "        row=row,\n",
    "        col=col\n",
    "    )\n",
    "\n",
    "# Style the figure\n",
    "fig.update_layout(\n",
    "    height=300 * n_rows,\n",
    "    width=1000,\n",
    "    title_text=\"Feature Distributions (with Adaptive Binning)\",\n",
    "    template=\"plotly_dark\",\n",
    "    showlegend=False\n",
    ")\n",
    "\n",
    "fig.show()"
   ]
  },
  {
   "cell_type": "markdown",
   "id": "7dd53f87",
   "metadata": {},
   "source": [
    "# Current Week Data"
   ]
  },
  {
   "cell_type": "markdown",
   "id": "fbd0a012",
   "metadata": {},
   "source": [
    "## Import 2025 Field\n",
    "**Important!**  Save curren't week's `DKSalaries.csv` into Data folder before this step."
   ]
  },
  {
   "cell_type": "code",
   "execution_count": 19,
   "id": "f17875f6",
   "metadata": {},
   "outputs": [
    {
     "data": {
      "text/html": [
       "<div>\n",
       "<style scoped>\n",
       "    .dataframe tbody tr th:only-of-type {\n",
       "        vertical-align: middle;\n",
       "    }\n",
       "\n",
       "    .dataframe tbody tr th {\n",
       "        vertical-align: top;\n",
       "    }\n",
       "\n",
       "    .dataframe thead th {\n",
       "        text-align: right;\n",
       "    }\n",
       "</style>\n",
       "<table border=\"1\" class=\"dataframe\">\n",
       "  <thead>\n",
       "    <tr style=\"text-align: right;\">\n",
       "      <th></th>\n",
       "      <th>PLAYER</th>\n",
       "      <th>SALARY</th>\n",
       "    </tr>\n",
       "  </thead>\n",
       "  <tbody>\n",
       "    <tr>\n",
       "      <th>0</th>\n",
       "      <td>Collin Morikawa</td>\n",
       "      <td>10900</td>\n",
       "    </tr>\n",
       "    <tr>\n",
       "      <th>1</th>\n",
       "      <td>Keegan Bradley</td>\n",
       "      <td>10400</td>\n",
       "    </tr>\n",
       "    <tr>\n",
       "      <th>2</th>\n",
       "      <td>Patrick Cantlay</td>\n",
       "      <td>10200</td>\n",
       "    </tr>\n",
       "    <tr>\n",
       "      <th>3</th>\n",
       "      <td>Ben Griffin</td>\n",
       "      <td>9800</td>\n",
       "    </tr>\n",
       "    <tr>\n",
       "      <th>4</th>\n",
       "      <td>Hideki Matsuyama</td>\n",
       "      <td>9600</td>\n",
       "    </tr>\n",
       "    <tr>\n",
       "      <th>5</th>\n",
       "      <td>Harry Hall</td>\n",
       "      <td>9500</td>\n",
       "    </tr>\n",
       "    <tr>\n",
       "      <th>6</th>\n",
       "      <td>Cameron Young</td>\n",
       "      <td>9300</td>\n",
       "    </tr>\n",
       "    <tr>\n",
       "      <th>7</th>\n",
       "      <td>Si Woo Kim</td>\n",
       "      <td>9200</td>\n",
       "    </tr>\n",
       "    <tr>\n",
       "      <th>8</th>\n",
       "      <td>Max Greyserman</td>\n",
       "      <td>9100</td>\n",
       "    </tr>\n",
       "    <tr>\n",
       "      <th>9</th>\n",
       "      <td>Luke Clanton</td>\n",
       "      <td>9000</td>\n",
       "    </tr>\n",
       "  </tbody>\n",
       "</table>\n",
       "</div>"
      ],
      "text/plain": [
       "             PLAYER  SALARY\n",
       "0   Collin Morikawa   10900\n",
       "1    Keegan Bradley   10400\n",
       "2   Patrick Cantlay   10200\n",
       "3       Ben Griffin    9800\n",
       "4  Hideki Matsuyama    9600\n",
       "5        Harry Hall    9500\n",
       "6     Cameron Young    9300\n",
       "7        Si Woo Kim    9200\n",
       "8    Max Greyserman    9100\n",
       "9      Luke Clanton    9000"
      ]
     },
     "execution_count": 19,
     "metadata": {},
     "output_type": "execute_result"
    }
   ],
   "source": [
    "importlib.reload(utils.db_utils)\n",
    "from utils.db_utils import DK_PLAYER_NAME_MAP\n",
    "\n",
    "# Load DraftKings player list\n",
    "dk = pd.read_csv(\"data/DKSalaries.csv\", usecols=[\"Name\", \"Salary\"])\n",
    "\n",
    "# Normalize DK names to PGA naming convention\n",
    "dk[\"Name\"] = dk[\"Name\"].replace(DK_PLAYER_NAME_MAP)\n",
    "\n",
    "# Rename for consistency\n",
    "dk = dk.rename(columns={\"Name\": \"PLAYER\", \"Salary\": \"SALARY\"})\n",
    "\n",
    "dk.head(10)"
   ]
  },
  {
   "cell_type": "markdown",
   "id": "544d958c",
   "metadata": {},
   "source": [
    "## Vegas Odds\n",
    "Confirm the [Vegas Odds](http://golfodds.com/weekly-odds.html) page is updated with current tournament.\n",
    "\n",
    "Note: sometimes this site can give errors and not load correctly.  Just have to do it again later.\n",
    "Another trick to try is change the url try to run it and then put the url back the way it was.  Worked once, maybe random coincidence."
   ]
  },
  {
   "cell_type": "code",
   "execution_count": 20,
   "id": "a3cba953",
   "metadata": {},
   "outputs": [
    {
     "data": {
      "text/html": [
       "<div>\n",
       "<style scoped>\n",
       "    .dataframe tbody tr th:only-of-type {\n",
       "        vertical-align: middle;\n",
       "    }\n",
       "\n",
       "    .dataframe tbody tr th {\n",
       "        vertical-align: top;\n",
       "    }\n",
       "\n",
       "    .dataframe thead th {\n",
       "        text-align: right;\n",
       "    }\n",
       "</style>\n",
       "<table border=\"1\" class=\"dataframe\">\n",
       "  <thead>\n",
       "    <tr style=\"text-align: right;\">\n",
       "      <th></th>\n",
       "      <th>SEASON</th>\n",
       "      <th>TOURNAMENT</th>\n",
       "      <th>PLAYER</th>\n",
       "      <th>ODDS</th>\n",
       "      <th>VEGAS_ODDS</th>\n",
       "    </tr>\n",
       "  </thead>\n",
       "  <tbody>\n",
       "    <tr>\n",
       "      <th>1</th>\n",
       "      <td>2025</td>\n",
       "      <td>Rocket Classic</td>\n",
       "      <td>Collin Morikawa</td>\n",
       "      <td>12/1</td>\n",
       "      <td>12.0</td>\n",
       "    </tr>\n",
       "    <tr>\n",
       "      <th>2</th>\n",
       "      <td>2025</td>\n",
       "      <td>Rocket Classic</td>\n",
       "      <td>Patrick Cantlay</td>\n",
       "      <td>14/1</td>\n",
       "      <td>14.0</td>\n",
       "    </tr>\n",
       "    <tr>\n",
       "      <th>3</th>\n",
       "      <td>2025</td>\n",
       "      <td>Rocket Classic</td>\n",
       "      <td>Keegan Bradley</td>\n",
       "      <td>18/1</td>\n",
       "      <td>18.0</td>\n",
       "    </tr>\n",
       "    <tr>\n",
       "      <th>4</th>\n",
       "      <td>2025</td>\n",
       "      <td>Rocket Classic</td>\n",
       "      <td>Ben Griffin</td>\n",
       "      <td>20/1</td>\n",
       "      <td>20.0</td>\n",
       "    </tr>\n",
       "    <tr>\n",
       "      <th>5</th>\n",
       "      <td>2025</td>\n",
       "      <td>Rocket Classic</td>\n",
       "      <td>Hideki Matsuyama</td>\n",
       "      <td>25/1</td>\n",
       "      <td>25.0</td>\n",
       "    </tr>\n",
       "    <tr>\n",
       "      <th>6</th>\n",
       "      <td>2025</td>\n",
       "      <td>Rocket Classic</td>\n",
       "      <td>Cameron Young</td>\n",
       "      <td>25/1</td>\n",
       "      <td>25.0</td>\n",
       "    </tr>\n",
       "    <tr>\n",
       "      <th>7</th>\n",
       "      <td>2025</td>\n",
       "      <td>Rocket Classic</td>\n",
       "      <td>Si Woo Kim</td>\n",
       "      <td>35/1</td>\n",
       "      <td>35.0</td>\n",
       "    </tr>\n",
       "    <tr>\n",
       "      <th>8</th>\n",
       "      <td>2025</td>\n",
       "      <td>Rocket Classic</td>\n",
       "      <td>Tony Finau</td>\n",
       "      <td>40/1</td>\n",
       "      <td>40.0</td>\n",
       "    </tr>\n",
       "    <tr>\n",
       "      <th>9</th>\n",
       "      <td>2025</td>\n",
       "      <td>Rocket Classic</td>\n",
       "      <td>Rickie Fowler</td>\n",
       "      <td>40/1</td>\n",
       "      <td>40.0</td>\n",
       "    </tr>\n",
       "    <tr>\n",
       "      <th>10</th>\n",
       "      <td>2025</td>\n",
       "      <td>Rocket Classic</td>\n",
       "      <td>Luke Clanton</td>\n",
       "      <td>40/1</td>\n",
       "      <td>40.0</td>\n",
       "    </tr>\n",
       "  </tbody>\n",
       "</table>\n",
       "</div>"
      ],
      "text/plain": [
       "    SEASON      TOURNAMENT            PLAYER  ODDS  VEGAS_ODDS\n",
       "1     2025  Rocket Classic   Collin Morikawa  12/1        12.0\n",
       "2     2025  Rocket Classic   Patrick Cantlay  14/1        14.0\n",
       "3     2025  Rocket Classic    Keegan Bradley  18/1        18.0\n",
       "4     2025  Rocket Classic       Ben Griffin  20/1        20.0\n",
       "5     2025  Rocket Classic  Hideki Matsuyama  25/1        25.0\n",
       "6     2025  Rocket Classic     Cameron Young  25/1        25.0\n",
       "7     2025  Rocket Classic        Si Woo Kim  35/1        35.0\n",
       "8     2025  Rocket Classic        Tony Finau  40/1        40.0\n",
       "9     2025  Rocket Classic     Rickie Fowler  40/1        40.0\n",
       "10    2025  Rocket Classic      Luke Clanton  40/1        40.0"
      ]
     },
     "execution_count": 20,
     "metadata": {},
     "output_type": "execute_result"
    }
   ],
   "source": [
    "importlib.reload(utils.db_utils)\n",
    "from utils.db_utils import get_current_week_odds\n",
    "\n",
    "odds_current = get_current_week_odds(season=2025, tournament_name=new_tournament_name)\n",
    "odds_current.head(10)\n"
   ]
  },
  {
   "cell_type": "markdown",
   "id": "f58bb5d0",
   "metadata": {},
   "source": [
    "## Cut Percentage and FedEx Points"
   ]
  },
  {
   "cell_type": "code",
   "execution_count": 21,
   "id": "a927b0b2",
   "metadata": {},
   "outputs": [
    {
     "data": {
      "text/html": [
       "<div>\n",
       "<style scoped>\n",
       "    .dataframe tbody tr th:only-of-type {\n",
       "        vertical-align: middle;\n",
       "    }\n",
       "\n",
       "    .dataframe tbody tr th {\n",
       "        vertical-align: top;\n",
       "    }\n",
       "\n",
       "    .dataframe thead th {\n",
       "        text-align: right;\n",
       "    }\n",
       "</style>\n",
       "<table border=\"1\" class=\"dataframe\">\n",
       "  <thead>\n",
       "    <tr style=\"text-align: right;\">\n",
       "      <th></th>\n",
       "      <th>PLAYER</th>\n",
       "      <th>TOTAL_EVENTS_PLAYED</th>\n",
       "      <th>CUTS_MADE</th>\n",
       "      <th>FEDEX_CUP_POINTS</th>\n",
       "      <th>CUT_PERCENTAGE</th>\n",
       "      <th>form_density</th>\n",
       "      <th>CONSECUTIVE_CUTS</th>\n",
       "      <th>ENDING_DATE</th>\n",
       "      <th>TOURNAMENT</th>\n",
       "    </tr>\n",
       "  </thead>\n",
       "  <tbody>\n",
       "    <tr>\n",
       "      <th>0</th>\n",
       "      <td>A.J. Ewart</td>\n",
       "      <td>1</td>\n",
       "      <td>0</td>\n",
       "      <td>0.000</td>\n",
       "      <td>0.0</td>\n",
       "      <td>0.00</td>\n",
       "      <td>0</td>\n",
       "      <td>2025-06-29</td>\n",
       "      <td>Rocket Classic</td>\n",
       "    </tr>\n",
       "    <tr>\n",
       "      <th>1</th>\n",
       "      <td>Aaron Baddeley</td>\n",
       "      <td>15</td>\n",
       "      <td>6</td>\n",
       "      <td>49.088</td>\n",
       "      <td>40.0</td>\n",
       "      <td>3.27</td>\n",
       "      <td>0</td>\n",
       "      <td>2025-06-29</td>\n",
       "      <td>Rocket Classic</td>\n",
       "    </tr>\n",
       "    <tr>\n",
       "      <th>2</th>\n",
       "      <td>Aaron Rai</td>\n",
       "      <td>17</td>\n",
       "      <td>13</td>\n",
       "      <td>660.480</td>\n",
       "      <td>76.5</td>\n",
       "      <td>38.85</td>\n",
       "      <td>2</td>\n",
       "      <td>2025-06-29</td>\n",
       "      <td>Rocket Classic</td>\n",
       "    </tr>\n",
       "    <tr>\n",
       "      <th>3</th>\n",
       "      <td>Aaron Wise</td>\n",
       "      <td>1</td>\n",
       "      <td>0</td>\n",
       "      <td>0.000</td>\n",
       "      <td>0.0</td>\n",
       "      <td>0.00</td>\n",
       "      <td>0</td>\n",
       "      <td>2025-06-29</td>\n",
       "      <td>Rocket Classic</td>\n",
       "    </tr>\n",
       "    <tr>\n",
       "      <th>4</th>\n",
       "      <td>Adam Hadwin</td>\n",
       "      <td>18</td>\n",
       "      <td>12</td>\n",
       "      <td>212.382</td>\n",
       "      <td>66.7</td>\n",
       "      <td>11.80</td>\n",
       "      <td>3</td>\n",
       "      <td>2025-06-29</td>\n",
       "      <td>Rocket Classic</td>\n",
       "    </tr>\n",
       "    <tr>\n",
       "      <th>5</th>\n",
       "      <td>Adam Long</td>\n",
       "      <td>1</td>\n",
       "      <td>0</td>\n",
       "      <td>0.000</td>\n",
       "      <td>0.0</td>\n",
       "      <td>0.00</td>\n",
       "      <td>0</td>\n",
       "      <td>2025-06-29</td>\n",
       "      <td>Rocket Classic</td>\n",
       "    </tr>\n",
       "    <tr>\n",
       "      <th>6</th>\n",
       "      <td>Adam Schenk</td>\n",
       "      <td>19</td>\n",
       "      <td>9</td>\n",
       "      <td>270.904</td>\n",
       "      <td>47.4</td>\n",
       "      <td>14.26</td>\n",
       "      <td>2</td>\n",
       "      <td>2025-06-29</td>\n",
       "      <td>Rocket Classic</td>\n",
       "    </tr>\n",
       "    <tr>\n",
       "      <th>7</th>\n",
       "      <td>Adam Scott</td>\n",
       "      <td>13</td>\n",
       "      <td>11</td>\n",
       "      <td>392.203</td>\n",
       "      <td>84.6</td>\n",
       "      <td>30.17</td>\n",
       "      <td>6</td>\n",
       "      <td>2025-06-29</td>\n",
       "      <td>Rocket Classic</td>\n",
       "    </tr>\n",
       "    <tr>\n",
       "      <th>8</th>\n",
       "      <td>Adam Svensson</td>\n",
       "      <td>19</td>\n",
       "      <td>10</td>\n",
       "      <td>126.043</td>\n",
       "      <td>52.6</td>\n",
       "      <td>6.63</td>\n",
       "      <td>0</td>\n",
       "      <td>2025-06-29</td>\n",
       "      <td>Rocket Classic</td>\n",
       "    </tr>\n",
       "    <tr>\n",
       "      <th>9</th>\n",
       "      <td>Adrien Dumont de Chassart</td>\n",
       "      <td>7</td>\n",
       "      <td>3</td>\n",
       "      <td>200.500</td>\n",
       "      <td>42.9</td>\n",
       "      <td>28.64</td>\n",
       "      <td>0</td>\n",
       "      <td>2025-06-29</td>\n",
       "      <td>Rocket Classic</td>\n",
       "    </tr>\n",
       "  </tbody>\n",
       "</table>\n",
       "</div>"
      ],
      "text/plain": [
       "                      PLAYER  TOTAL_EVENTS_PLAYED  CUTS_MADE  \\\n",
       "0                 A.J. Ewart                    1          0   \n",
       "1             Aaron Baddeley                   15          6   \n",
       "2                  Aaron Rai                   17         13   \n",
       "3                 Aaron Wise                    1          0   \n",
       "4                Adam Hadwin                   18         12   \n",
       "5                  Adam Long                    1          0   \n",
       "6                Adam Schenk                   19          9   \n",
       "7                 Adam Scott                   13         11   \n",
       "8              Adam Svensson                   19         10   \n",
       "9  Adrien Dumont de Chassart                    7          3   \n",
       "\n",
       "   FEDEX_CUP_POINTS  CUT_PERCENTAGE  form_density  CONSECUTIVE_CUTS  \\\n",
       "0             0.000             0.0          0.00                 0   \n",
       "1            49.088            40.0          3.27                 0   \n",
       "2           660.480            76.5         38.85                 2   \n",
       "3             0.000             0.0          0.00                 0   \n",
       "4           212.382            66.7         11.80                 3   \n",
       "5             0.000             0.0          0.00                 0   \n",
       "6           270.904            47.4         14.26                 2   \n",
       "7           392.203            84.6         30.17                 6   \n",
       "8           126.043            52.6          6.63                 0   \n",
       "9           200.500            42.9         28.64                 0   \n",
       "\n",
       "  ENDING_DATE      TOURNAMENT  \n",
       "0  2025-06-29  Rocket Classic  \n",
       "1  2025-06-29  Rocket Classic  \n",
       "2  2025-06-29  Rocket Classic  \n",
       "3  2025-06-29  Rocket Classic  \n",
       "4  2025-06-29  Rocket Classic  \n",
       "5  2025-06-29  Rocket Classic  \n",
       "6  2025-06-29  Rocket Classic  \n",
       "7  2025-06-29  Rocket Classic  \n",
       "8  2025-06-29  Rocket Classic  \n",
       "9  2025-06-29  Rocket Classic  "
      ]
     },
     "execution_count": 21,
     "metadata": {},
     "output_type": "execute_result"
    }
   ],
   "source": [
    "importlib.reload(utils.db_utils)\n",
    "from utils.db_utils import get_cut_and_fedex_history\n",
    "\n",
    "cuts_rolling = get_cut_and_fedex_history(db_path, this_week_history, window_months=9)\n",
    "cuts_current = cuts_rolling[this_week_key].copy()\n",
    "cuts_current.head(10)"
   ]
  },
  {
   "cell_type": "markdown",
   "id": "abdf22cb",
   "metadata": {},
   "source": [
    "## Recent Form"
   ]
  },
  {
   "cell_type": "code",
   "execution_count": 22,
   "id": "58cfb255",
   "metadata": {},
   "outputs": [
    {
     "data": {
      "text/html": [
       "<div>\n",
       "<style scoped>\n",
       "    .dataframe tbody tr th:only-of-type {\n",
       "        vertical-align: middle;\n",
       "    }\n",
       "\n",
       "    .dataframe tbody tr th {\n",
       "        vertical-align: top;\n",
       "    }\n",
       "\n",
       "    .dataframe thead th {\n",
       "        text-align: right;\n",
       "    }\n",
       "</style>\n",
       "<table border=\"1\" class=\"dataframe\">\n",
       "  <thead>\n",
       "    <tr style=\"text-align: right;\">\n",
       "      <th></th>\n",
       "      <th>PLAYER</th>\n",
       "      <th>TOTAL_EVENTS_PLAYED</th>\n",
       "      <th>RECENT_FORM</th>\n",
       "      <th>adj_form</th>\n",
       "      <th>ENDING_DATE</th>\n",
       "      <th>TOURNAMENT</th>\n",
       "    </tr>\n",
       "  </thead>\n",
       "  <tbody>\n",
       "    <tr>\n",
       "      <th>0</th>\n",
       "      <td>Carlos Ortiz</td>\n",
       "      <td>1</td>\n",
       "      <td>4.0</td>\n",
       "      <td>5.77</td>\n",
       "      <td>2025-06-29</td>\n",
       "      <td>Rocket Classic</td>\n",
       "    </tr>\n",
       "    <tr>\n",
       "      <th>1</th>\n",
       "      <td>Scottie Scheffler</td>\n",
       "      <td>15</td>\n",
       "      <td>6.9</td>\n",
       "      <td>2.49</td>\n",
       "      <td>2025-06-29</td>\n",
       "      <td>Rocket Classic</td>\n",
       "    </tr>\n",
       "    <tr>\n",
       "      <th>2</th>\n",
       "      <td>Jon Rahm</td>\n",
       "      <td>3</td>\n",
       "      <td>9.7</td>\n",
       "      <td>7.00</td>\n",
       "      <td>2025-06-29</td>\n",
       "      <td>Rocket Classic</td>\n",
       "    </tr>\n",
       "    <tr>\n",
       "      <th>3</th>\n",
       "      <td>Bubba Watson</td>\n",
       "      <td>1</td>\n",
       "      <td>14.0</td>\n",
       "      <td>20.20</td>\n",
       "      <td>2025-06-29</td>\n",
       "      <td>Rocket Classic</td>\n",
       "    </tr>\n",
       "    <tr>\n",
       "      <th>4</th>\n",
       "      <td>Ian Gilligan</td>\n",
       "      <td>1</td>\n",
       "      <td>16.0</td>\n",
       "      <td>23.08</td>\n",
       "      <td>2025-06-29</td>\n",
       "      <td>Rocket Classic</td>\n",
       "    </tr>\n",
       "    <tr>\n",
       "      <th>5</th>\n",
       "      <td>Taisei Shimizu</td>\n",
       "      <td>1</td>\n",
       "      <td>16.0</td>\n",
       "      <td>23.08</td>\n",
       "      <td>2025-06-29</td>\n",
       "      <td>Rocket Classic</td>\n",
       "    </tr>\n",
       "    <tr>\n",
       "      <th>6</th>\n",
       "      <td>Stewart Cink</td>\n",
       "      <td>1</td>\n",
       "      <td>17.0</td>\n",
       "      <td>24.53</td>\n",
       "      <td>2025-06-29</td>\n",
       "      <td>Rocket Classic</td>\n",
       "    </tr>\n",
       "    <tr>\n",
       "      <th>7</th>\n",
       "      <td>Rory McIlroy</td>\n",
       "      <td>11</td>\n",
       "      <td>19.0</td>\n",
       "      <td>7.65</td>\n",
       "      <td>2025-06-29</td>\n",
       "      <td>Rocket Classic</td>\n",
       "    </tr>\n",
       "    <tr>\n",
       "      <th>8</th>\n",
       "      <td>Ren Yonezawa</td>\n",
       "      <td>1</td>\n",
       "      <td>22.0</td>\n",
       "      <td>31.74</td>\n",
       "      <td>2025-06-29</td>\n",
       "      <td>Rocket Classic</td>\n",
       "    </tr>\n",
       "    <tr>\n",
       "      <th>9</th>\n",
       "      <td>Yuto Katsuragawa</td>\n",
       "      <td>1</td>\n",
       "      <td>22.0</td>\n",
       "      <td>31.74</td>\n",
       "      <td>2025-06-29</td>\n",
       "      <td>Rocket Classic</td>\n",
       "    </tr>\n",
       "  </tbody>\n",
       "</table>\n",
       "</div>"
      ],
      "text/plain": [
       "              PLAYER  TOTAL_EVENTS_PLAYED  RECENT_FORM  adj_form ENDING_DATE  \\\n",
       "0       Carlos Ortiz                    1          4.0      5.77  2025-06-29   \n",
       "1  Scottie Scheffler                   15          6.9      2.49  2025-06-29   \n",
       "2           Jon Rahm                    3          9.7      7.00  2025-06-29   \n",
       "3       Bubba Watson                    1         14.0     20.20  2025-06-29   \n",
       "4       Ian Gilligan                    1         16.0     23.08  2025-06-29   \n",
       "5     Taisei Shimizu                    1         16.0     23.08  2025-06-29   \n",
       "6       Stewart Cink                    1         17.0     24.53  2025-06-29   \n",
       "7       Rory McIlroy                   11         19.0      7.65  2025-06-29   \n",
       "8       Ren Yonezawa                    1         22.0     31.74  2025-06-29   \n",
       "9   Yuto Katsuragawa                    1         22.0     31.74  2025-06-29   \n",
       "\n",
       "       TOURNAMENT  \n",
       "0  Rocket Classic  \n",
       "1  Rocket Classic  \n",
       "2  Rocket Classic  \n",
       "3  Rocket Classic  \n",
       "4  Rocket Classic  \n",
       "5  Rocket Classic  \n",
       "6  Rocket Classic  \n",
       "7  Rocket Classic  \n",
       "8  Rocket Classic  \n",
       "9  Rocket Classic  "
      ]
     },
     "execution_count": 22,
     "metadata": {},
     "output_type": "execute_result"
    }
   ],
   "source": [
    "importlib.reload(utils.db_utils)\n",
    "from utils.db_utils import get_recent_avg_finish\n",
    "\n",
    "recent_form = get_recent_avg_finish(db_path, this_week_history, window_months=9)\n",
    "recent_form_current = recent_form[this_week_key].copy()\n",
    "\n",
    "recent_form_current.head(10)"
   ]
  },
  {
   "cell_type": "markdown",
   "id": "6386214b",
   "metadata": {},
   "source": [
    "## Course History"
   ]
  },
  {
   "cell_type": "code",
   "execution_count": 23,
   "id": "c1c0ec95",
   "metadata": {},
   "outputs": [
    {
     "data": {
      "text/html": [
       "<div>\n",
       "<style scoped>\n",
       "    .dataframe tbody tr th:only-of-type {\n",
       "        vertical-align: middle;\n",
       "    }\n",
       "\n",
       "    .dataframe tbody tr th {\n",
       "        vertical-align: top;\n",
       "    }\n",
       "\n",
       "    .dataframe thead th {\n",
       "        text-align: right;\n",
       "    }\n",
       "</style>\n",
       "<table border=\"1\" class=\"dataframe\">\n",
       "  <thead>\n",
       "    <tr style=\"text-align: right;\">\n",
       "      <th></th>\n",
       "      <th>PLAYER</th>\n",
       "      <th>TOTAL_EVENTS_PLAYED</th>\n",
       "      <th>COURSE_HISTORY</th>\n",
       "      <th>adj_ch</th>\n",
       "      <th>ENDING_DATE</th>\n",
       "      <th>COURSE</th>\n",
       "      <th>TOURNAMENT</th>\n",
       "    </tr>\n",
       "  </thead>\n",
       "  <tbody>\n",
       "    <tr>\n",
       "      <th>0</th>\n",
       "      <td>Aaron Baddeley</td>\n",
       "      <td>4</td>\n",
       "      <td>73.3</td>\n",
       "      <td>45.54</td>\n",
       "      <td>2025-06-29</td>\n",
       "      <td>Detroit Golf Club</td>\n",
       "      <td>Rocket Classic</td>\n",
       "    </tr>\n",
       "    <tr>\n",
       "      <th>1</th>\n",
       "      <td>Aaron Rai</td>\n",
       "      <td>2</td>\n",
       "      <td>5.5</td>\n",
       "      <td>5.01</td>\n",
       "      <td>2025-06-29</td>\n",
       "      <td>Detroit Golf Club</td>\n",
       "      <td>Rocket Classic</td>\n",
       "    </tr>\n",
       "    <tr>\n",
       "      <th>2</th>\n",
       "      <td>Aaron Wise</td>\n",
       "      <td>2</td>\n",
       "      <td>62.5</td>\n",
       "      <td>56.89</td>\n",
       "      <td>2025-06-29</td>\n",
       "      <td>Detroit Golf Club</td>\n",
       "      <td>Rocket Classic</td>\n",
       "    </tr>\n",
       "    <tr>\n",
       "      <th>3</th>\n",
       "      <td>Adam Hadwin</td>\n",
       "      <td>3</td>\n",
       "      <td>32.0</td>\n",
       "      <td>23.08</td>\n",
       "      <td>2025-06-29</td>\n",
       "      <td>Detroit Golf Club</td>\n",
       "      <td>Rocket Classic</td>\n",
       "    </tr>\n",
       "    <tr>\n",
       "      <th>4</th>\n",
       "      <td>Adam Long</td>\n",
       "      <td>3</td>\n",
       "      <td>90.0</td>\n",
       "      <td>64.92</td>\n",
       "      <td>2025-06-29</td>\n",
       "      <td>Detroit Golf Club</td>\n",
       "      <td>Rocket Classic</td>\n",
       "    </tr>\n",
       "    <tr>\n",
       "      <th>5</th>\n",
       "      <td>Adam Schenk</td>\n",
       "      <td>5</td>\n",
       "      <td>42.0</td>\n",
       "      <td>23.44</td>\n",
       "      <td>2025-06-29</td>\n",
       "      <td>Detroit Golf Club</td>\n",
       "      <td>Rocket Classic</td>\n",
       "    </tr>\n",
       "    <tr>\n",
       "      <th>6</th>\n",
       "      <td>Adam Svensson</td>\n",
       "      <td>3</td>\n",
       "      <td>73.3</td>\n",
       "      <td>52.87</td>\n",
       "      <td>2025-06-29</td>\n",
       "      <td>Detroit Golf Club</td>\n",
       "      <td>Rocket Classic</td>\n",
       "    </tr>\n",
       "    <tr>\n",
       "      <th>7</th>\n",
       "      <td>Adrien Dumont de Chassart</td>\n",
       "      <td>1</td>\n",
       "      <td>90.0</td>\n",
       "      <td>129.84</td>\n",
       "      <td>2025-06-29</td>\n",
       "      <td>Detroit Golf Club</td>\n",
       "      <td>Rocket Classic</td>\n",
       "    </tr>\n",
       "    <tr>\n",
       "      <th>8</th>\n",
       "      <td>Akshay Bhatia</td>\n",
       "      <td>2</td>\n",
       "      <td>46.0</td>\n",
       "      <td>41.87</td>\n",
       "      <td>2025-06-29</td>\n",
       "      <td>Detroit Golf Club</td>\n",
       "      <td>Rocket Classic</td>\n",
       "    </tr>\n",
       "    <tr>\n",
       "      <th>9</th>\n",
       "      <td>Aldrich Potgieter</td>\n",
       "      <td>1</td>\n",
       "      <td>90.0</td>\n",
       "      <td>129.84</td>\n",
       "      <td>2025-06-29</td>\n",
       "      <td>Detroit Golf Club</td>\n",
       "      <td>Rocket Classic</td>\n",
       "    </tr>\n",
       "  </tbody>\n",
       "</table>\n",
       "</div>"
      ],
      "text/plain": [
       "                      PLAYER  TOTAL_EVENTS_PLAYED  COURSE_HISTORY  adj_ch  \\\n",
       "0             Aaron Baddeley                    4            73.3   45.54   \n",
       "1                  Aaron Rai                    2             5.5    5.01   \n",
       "2                 Aaron Wise                    2            62.5   56.89   \n",
       "3                Adam Hadwin                    3            32.0   23.08   \n",
       "4                  Adam Long                    3            90.0   64.92   \n",
       "5                Adam Schenk                    5            42.0   23.44   \n",
       "6              Adam Svensson                    3            73.3   52.87   \n",
       "7  Adrien Dumont de Chassart                    1            90.0  129.84   \n",
       "8              Akshay Bhatia                    2            46.0   41.87   \n",
       "9          Aldrich Potgieter                    1            90.0  129.84   \n",
       "\n",
       "  ENDING_DATE             COURSE      TOURNAMENT  \n",
       "0  2025-06-29  Detroit Golf Club  Rocket Classic  \n",
       "1  2025-06-29  Detroit Golf Club  Rocket Classic  \n",
       "2  2025-06-29  Detroit Golf Club  Rocket Classic  \n",
       "3  2025-06-29  Detroit Golf Club  Rocket Classic  \n",
       "4  2025-06-29  Detroit Golf Club  Rocket Classic  \n",
       "5  2025-06-29  Detroit Golf Club  Rocket Classic  \n",
       "6  2025-06-29  Detroit Golf Club  Rocket Classic  \n",
       "7  2025-06-29  Detroit Golf Club  Rocket Classic  \n",
       "8  2025-06-29  Detroit Golf Club  Rocket Classic  \n",
       "9  2025-06-29  Detroit Golf Club  Rocket Classic  "
      ]
     },
     "execution_count": 23,
     "metadata": {},
     "output_type": "execute_result"
    }
   ],
   "source": [
    "importlib.reload(utils.db_utils)\n",
    "from utils.db_utils import get_course_history\n",
    "\n",
    "course_hist = get_course_history(db_path, this_week_history, lookback_years=7)\n",
    "course_hist_current = course_hist[this_week_key].copy()\n",
    "\n",
    "course_hist_current.head(10)\n"
   ]
  },
  {
   "cell_type": "markdown",
   "id": "cff50c6a",
   "metadata": {},
   "source": [
    "## Merged Dataframe"
   ]
  },
  {
   "cell_type": "code",
   "execution_count": 24,
   "id": "4ea0e7da",
   "metadata": {},
   "outputs": [
    {
     "data": {
      "text/html": [
       "<div>\n",
       "<style scoped>\n",
       "    .dataframe tbody tr th:only-of-type {\n",
       "        vertical-align: middle;\n",
       "    }\n",
       "\n",
       "    .dataframe tbody tr th {\n",
       "        vertical-align: top;\n",
       "    }\n",
       "\n",
       "    .dataframe thead th {\n",
       "        text-align: right;\n",
       "    }\n",
       "</style>\n",
       "<table border=\"1\" class=\"dataframe\">\n",
       "  <thead>\n",
       "    <tr style=\"text-align: right;\">\n",
       "      <th></th>\n",
       "      <th>PLAYER</th>\n",
       "      <th>SGTTG_RANK</th>\n",
       "      <th>SGTTG</th>\n",
       "      <th>SGOTT_RANK</th>\n",
       "      <th>SGOTT</th>\n",
       "      <th>SGAPR_RANK</th>\n",
       "      <th>SGAPR</th>\n",
       "      <th>SGATG_RANK</th>\n",
       "      <th>SGATG</th>\n",
       "      <th>SGP_RANK</th>\n",
       "      <th>SGP</th>\n",
       "      <th>BIRDIES_RANK</th>\n",
       "      <th>BIRDIES</th>\n",
       "      <th>PAR_3_RANK</th>\n",
       "      <th>PAR_3</th>\n",
       "      <th>PAR_4_RANK</th>\n",
       "      <th>PAR_4</th>\n",
       "      <th>PAR_5_RANK</th>\n",
       "      <th>PAR_5</th>\n",
       "      <th>TOTAL_DRIVING_RANK</th>\n",
       "      <th>TOTAL_DRIVING</th>\n",
       "      <th>DRIVING_DISTANCE_RANK</th>\n",
       "      <th>DRIVING_DISTANCE</th>\n",
       "      <th>DRIVING_ACCURACY_RANK</th>\n",
       "      <th>DRIVING_ACCURACY</th>\n",
       "      <th>GIR_RANK</th>\n",
       "      <th>GIR</th>\n",
       "      <th>SCRAMBLING_RANK</th>\n",
       "      <th>SCRAMBLING</th>\n",
       "      <th>OWGR_RANK</th>\n",
       "      <th>OWGR</th>\n",
       "      <th>SEASON</th>\n",
       "      <th>VEGAS_ODDS</th>\n",
       "      <th>CUT_PERCENTAGE</th>\n",
       "      <th>FEDEX_CUP_POINTS</th>\n",
       "      <th>form_density</th>\n",
       "      <th>CONSECUTIVE_CUTS</th>\n",
       "      <th>RECENT_FORM</th>\n",
       "      <th>adj_form</th>\n",
       "      <th>COURSE_HISTORY</th>\n",
       "      <th>adj_ch</th>\n",
       "      <th>SALARY</th>\n",
       "    </tr>\n",
       "  </thead>\n",
       "  <tbody>\n",
       "    <tr>\n",
       "      <th>0</th>\n",
       "      <td>Aaron Baddeley</td>\n",
       "      <td>160.0</td>\n",
       "      <td>-1.022</td>\n",
       "      <td>168.0</td>\n",
       "      <td>-1.292</td>\n",
       "      <td>137.0</td>\n",
       "      <td>-0.265</td>\n",
       "      <td>4.0</td>\n",
       "      <td>0.536</td>\n",
       "      <td>153.0</td>\n",
       "      <td>-0.445</td>\n",
       "      <td>169.0</td>\n",
       "      <td>18.10%</td>\n",
       "      <td>103.0</td>\n",
       "      <td>3.08</td>\n",
       "      <td>151.0</td>\n",
       "      <td>4.08</td>\n",
       "      <td>169.0</td>\n",
       "      <td>4.77</td>\n",
       "      <td>167.0</td>\n",
       "      <td>270</td>\n",
       "      <td>157.0</td>\n",
       "      <td>289.6</td>\n",
       "      <td>113.0</td>\n",
       "      <td>57.29%</td>\n",
       "      <td>164.0</td>\n",
       "      <td>60.48%</td>\n",
       "      <td>81.0</td>\n",
       "      <td>60.24%</td>\n",
       "      <td>466.0</td>\n",
       "      <td>.2814</td>\n",
       "      <td>2025.0</td>\n",
       "      <td>2000.0</td>\n",
       "      <td>40.0</td>\n",
       "      <td>49.088</td>\n",
       "      <td>3.27</td>\n",
       "      <td>0.0</td>\n",
       "      <td>77.6</td>\n",
       "      <td>27.99</td>\n",
       "      <td>73.3</td>\n",
       "      <td>45.54</td>\n",
       "      <td>6100</td>\n",
       "    </tr>\n",
       "    <tr>\n",
       "      <th>1</th>\n",
       "      <td>Aaron Wise</td>\n",
       "      <td>NaN</td>\n",
       "      <td>NaN</td>\n",
       "      <td>NaN</td>\n",
       "      <td>NaN</td>\n",
       "      <td>NaN</td>\n",
       "      <td>NaN</td>\n",
       "      <td>NaN</td>\n",
       "      <td>NaN</td>\n",
       "      <td>NaN</td>\n",
       "      <td>NaN</td>\n",
       "      <td>NaN</td>\n",
       "      <td>NaN</td>\n",
       "      <td>NaN</td>\n",
       "      <td>NaN</td>\n",
       "      <td>NaN</td>\n",
       "      <td>NaN</td>\n",
       "      <td>NaN</td>\n",
       "      <td>NaN</td>\n",
       "      <td>NaN</td>\n",
       "      <td>NaN</td>\n",
       "      <td>NaN</td>\n",
       "      <td>NaN</td>\n",
       "      <td>NaN</td>\n",
       "      <td>NaN</td>\n",
       "      <td>NaN</td>\n",
       "      <td>NaN</td>\n",
       "      <td>NaN</td>\n",
       "      <td>NaN</td>\n",
       "      <td>NaN</td>\n",
       "      <td>NaN</td>\n",
       "      <td>NaN</td>\n",
       "      <td>NaN</td>\n",
       "      <td>NaN</td>\n",
       "      <td>NaN</td>\n",
       "      <td>NaN</td>\n",
       "      <td>NaN</td>\n",
       "      <td>NaN</td>\n",
       "      <td>NaN</td>\n",
       "      <td>NaN</td>\n",
       "      <td>NaN</td>\n",
       "      <td>6200</td>\n",
       "    </tr>\n",
       "    <tr>\n",
       "      <th>2</th>\n",
       "      <td>Adam Hadwin</td>\n",
       "      <td>146.0</td>\n",
       "      <td>-0.523</td>\n",
       "      <td>136.0</td>\n",
       "      <td>-0.251</td>\n",
       "      <td>149.0</td>\n",
       "      <td>-0.371</td>\n",
       "      <td>62.0</td>\n",
       "      <td>0.100</td>\n",
       "      <td>114.0</td>\n",
       "      <td>-0.111</td>\n",
       "      <td>59.0</td>\n",
       "      <td>22.02%</td>\n",
       "      <td>29.0</td>\n",
       "      <td>3.02</td>\n",
       "      <td>136.0</td>\n",
       "      <td>4.06</td>\n",
       "      <td>136.0</td>\n",
       "      <td>4.67</td>\n",
       "      <td>91.0</td>\n",
       "      <td>173</td>\n",
       "      <td>103.0</td>\n",
       "      <td>298.7</td>\n",
       "      <td>70.0</td>\n",
       "      <td>60.42%</td>\n",
       "      <td>120.0</td>\n",
       "      <td>64.34%</td>\n",
       "      <td>159.0</td>\n",
       "      <td>53.82%</td>\n",
       "      <td>107.0</td>\n",
       "      <td>1.2058</td>\n",
       "      <td>2025.0</td>\n",
       "      <td>200.0</td>\n",
       "      <td>66.7</td>\n",
       "      <td>212.382</td>\n",
       "      <td>11.80</td>\n",
       "      <td>3.0</td>\n",
       "      <td>60.8</td>\n",
       "      <td>20.65</td>\n",
       "      <td>32.0</td>\n",
       "      <td>23.08</td>\n",
       "      <td>6800</td>\n",
       "    </tr>\n",
       "    <tr>\n",
       "      <th>3</th>\n",
       "      <td>Adam Schenk</td>\n",
       "      <td>115.0</td>\n",
       "      <td>-0.129</td>\n",
       "      <td>89.0</td>\n",
       "      <td>0.078</td>\n",
       "      <td>119.0</td>\n",
       "      <td>-0.126</td>\n",
       "      <td>117.0</td>\n",
       "      <td>-0.081</td>\n",
       "      <td>107.0</td>\n",
       "      <td>-0.056</td>\n",
       "      <td>119.0</td>\n",
       "      <td>20.49%</td>\n",
       "      <td>37.0</td>\n",
       "      <td>3.03</td>\n",
       "      <td>155.0</td>\n",
       "      <td>4.09</td>\n",
       "      <td>36.0</td>\n",
       "      <td>4.57</td>\n",
       "      <td>135.0</td>\n",
       "      <td>209</td>\n",
       "      <td>52.0</td>\n",
       "      <td>305.1</td>\n",
       "      <td>157.0</td>\n",
       "      <td>52.40%</td>\n",
       "      <td>159.0</td>\n",
       "      <td>61.23%</td>\n",
       "      <td>96.0</td>\n",
       "      <td>59.24%</td>\n",
       "      <td>151.0</td>\n",
       "      <td>.8787</td>\n",
       "      <td>2025.0</td>\n",
       "      <td>250.0</td>\n",
       "      <td>47.4</td>\n",
       "      <td>270.904</td>\n",
       "      <td>14.26</td>\n",
       "      <td>2.0</td>\n",
       "      <td>65.4</td>\n",
       "      <td>21.83</td>\n",
       "      <td>42.0</td>\n",
       "      <td>23.44</td>\n",
       "      <td>6700</td>\n",
       "    </tr>\n",
       "    <tr>\n",
       "      <th>4</th>\n",
       "      <td>Adam Svensson</td>\n",
       "      <td>77.0</td>\n",
       "      <td>0.119</td>\n",
       "      <td>119.0</td>\n",
       "      <td>-0.087</td>\n",
       "      <td>93.0</td>\n",
       "      <td>0.015</td>\n",
       "      <td>40.0</td>\n",
       "      <td>0.190</td>\n",
       "      <td>154.0</td>\n",
       "      <td>-0.467</td>\n",
       "      <td>155.0</td>\n",
       "      <td>19.27%</td>\n",
       "      <td>103.0</td>\n",
       "      <td>3.08</td>\n",
       "      <td>104.0</td>\n",
       "      <td>4.04</td>\n",
       "      <td>66.0</td>\n",
       "      <td>4.60</td>\n",
       "      <td>94.0</td>\n",
       "      <td>176</td>\n",
       "      <td>147.0</td>\n",
       "      <td>293.8</td>\n",
       "      <td>29.0</td>\n",
       "      <td>64.50%</td>\n",
       "      <td>50.0</td>\n",
       "      <td>66.78%</td>\n",
       "      <td>93.0</td>\n",
       "      <td>59.39%</td>\n",
       "      <td>198.0</td>\n",
       "      <td>.6987</td>\n",
       "      <td>2025.0</td>\n",
       "      <td>250.0</td>\n",
       "      <td>52.6</td>\n",
       "      <td>126.043</td>\n",
       "      <td>6.63</td>\n",
       "      <td>0.0</td>\n",
       "      <td>66.2</td>\n",
       "      <td>22.10</td>\n",
       "      <td>73.3</td>\n",
       "      <td>52.87</td>\n",
       "      <td>6700</td>\n",
       "    </tr>\n",
       "  </tbody>\n",
       "</table>\n",
       "</div>"
      ],
      "text/plain": [
       "           PLAYER  SGTTG_RANK   SGTTG  SGOTT_RANK   SGOTT  SGAPR_RANK   SGAPR  \\\n",
       "0  Aaron Baddeley       160.0  -1.022       168.0  -1.292       137.0  -0.265   \n",
       "1      Aaron Wise         NaN     NaN         NaN     NaN         NaN     NaN   \n",
       "2     Adam Hadwin       146.0  -0.523       136.0  -0.251       149.0  -0.371   \n",
       "3     Adam Schenk       115.0  -0.129        89.0   0.078       119.0  -0.126   \n",
       "4   Adam Svensson        77.0   0.119       119.0  -0.087        93.0   0.015   \n",
       "\n",
       "   SGATG_RANK   SGATG  SGP_RANK     SGP  BIRDIES_RANK BIRDIES  PAR_3_RANK  \\\n",
       "0         4.0   0.536     153.0  -0.445         169.0  18.10%       103.0   \n",
       "1         NaN     NaN       NaN     NaN           NaN     NaN         NaN   \n",
       "2        62.0   0.100     114.0  -0.111          59.0  22.02%        29.0   \n",
       "3       117.0  -0.081     107.0  -0.056         119.0  20.49%        37.0   \n",
       "4        40.0   0.190     154.0  -0.467         155.0  19.27%       103.0   \n",
       "\n",
       "  PAR_3  PAR_4_RANK PAR_4  PAR_5_RANK PAR_5  TOTAL_DRIVING_RANK TOTAL_DRIVING  \\\n",
       "0  3.08       151.0  4.08       169.0  4.77               167.0           270   \n",
       "1   NaN         NaN   NaN         NaN   NaN                 NaN           NaN   \n",
       "2  3.02       136.0  4.06       136.0  4.67                91.0           173   \n",
       "3  3.03       155.0  4.09        36.0  4.57               135.0           209   \n",
       "4  3.08       104.0  4.04        66.0  4.60                94.0           176   \n",
       "\n",
       "   DRIVING_DISTANCE_RANK DRIVING_DISTANCE  DRIVING_ACCURACY_RANK  \\\n",
       "0                  157.0            289.6                  113.0   \n",
       "1                    NaN              NaN                    NaN   \n",
       "2                  103.0            298.7                   70.0   \n",
       "3                   52.0            305.1                  157.0   \n",
       "4                  147.0            293.8                   29.0   \n",
       "\n",
       "  DRIVING_ACCURACY  GIR_RANK     GIR  SCRAMBLING_RANK SCRAMBLING  OWGR_RANK  \\\n",
       "0           57.29%     164.0  60.48%             81.0     60.24%      466.0   \n",
       "1              NaN       NaN     NaN              NaN        NaN        NaN   \n",
       "2           60.42%     120.0  64.34%            159.0     53.82%      107.0   \n",
       "3           52.40%     159.0  61.23%             96.0     59.24%      151.0   \n",
       "4           64.50%      50.0  66.78%             93.0     59.39%      198.0   \n",
       "\n",
       "     OWGR  SEASON  VEGAS_ODDS  CUT_PERCENTAGE  FEDEX_CUP_POINTS  form_density  \\\n",
       "0   .2814  2025.0      2000.0            40.0            49.088          3.27   \n",
       "1     NaN     NaN         NaN             NaN               NaN           NaN   \n",
       "2  1.2058  2025.0       200.0            66.7           212.382         11.80   \n",
       "3   .8787  2025.0       250.0            47.4           270.904         14.26   \n",
       "4   .6987  2025.0       250.0            52.6           126.043          6.63   \n",
       "\n",
       "   CONSECUTIVE_CUTS  RECENT_FORM  adj_form  COURSE_HISTORY  adj_ch  SALARY  \n",
       "0               0.0         77.6     27.99            73.3   45.54    6100  \n",
       "1               NaN          NaN       NaN             NaN     NaN    6200  \n",
       "2               3.0         60.8     20.65            32.0   23.08    6800  \n",
       "3               2.0         65.4     21.83            42.0   23.44    6700  \n",
       "4               0.0         66.2     22.10            73.3   52.87    6700  "
      ]
     },
     "execution_count": 24,
     "metadata": {},
     "output_type": "execute_result"
    }
   ],
   "source": [
    "importlib.reload(utils.db_utils)\n",
    "from utils.db_utils import build_test_rows\n",
    "\n",
    "this_week = build_test_rows(\n",
    "    db_path=db_path,\n",
    "    stats_df=stats_df,\n",
    "    odds_df=odds_current,\n",
    "    cuts_df=cuts_current,\n",
    "    recent_form_df=recent_form_current,\n",
    "    course_hist_df=course_hist_current,\n",
    "    dk_df=dk,\n",
    "    season=tournament_config[\"new\"][\"season\"]\n",
    ")\n",
    "\n",
    "this_week.head()"
   ]
  },
  {
   "cell_type": "markdown",
   "id": "e30b6643",
   "metadata": {},
   "source": [
    "### Dataframe Normalization\n",
    "\n",
    "Run the same normalization techniques that I ran on the historical data:\n",
    "- Any NaN Odds go to 1000/1 and clip all values at 1000/1\n",
    "- OWGR NaN values go to 1000\n",
    "- Recent form NaN values act like a MC at 90\n",
    "- Average everything else."
   ]
  },
  {
   "cell_type": "code",
   "execution_count": 25,
   "id": "cfea9168",
   "metadata": {},
   "outputs": [],
   "source": [
    "# === 1. Clean percentage stats stored as strings like '62.5%' ===\n",
    "percent_stats = [\"SCRAMBLING\", \"DRIVING_ACCURACY\", \"BIRDIES\", \"GIR\"]\n",
    "\n",
    "for col in percent_stats:\n",
    "    if col in this_week.columns:\n",
    "        this_week[col] = (\n",
    "            this_week[col]\n",
    "            .astype(str)\n",
    "            .str.replace('%', '', regex=False)\n",
    "            .replace(['None', 'nan', 'NaN', '--', 'DNP', ''], np.nan)\n",
    "        )\n",
    "        this_week[col] = pd.to_numeric(this_week[col], errors=\"coerce\")\n",
    "\n",
    "# === 2. Normalize & assign fallback values for key fields ===\n",
    "this_week[\"VEGAS_ODDS\"] = pd.to_numeric(this_week[\"VEGAS_ODDS\"], errors=\"coerce\").fillna(1000).clip(upper=1000)\n",
    "\n",
    "if \"OWGR\" in this_week.columns:\n",
    "    this_week[\"OWGR\"] = pd.to_numeric(this_week[\"OWGR\"], errors=\"coerce\")\n",
    "    max_owgr = this_week[\"OWGR\"].dropna().max()\n",
    "    this_week[\"OWGR\"] = this_week[\"OWGR\"].fillna(max_owgr).clip(upper=1000)\n",
    "\n",
    "if \"OWGR_RANK\" in this_week.columns:\n",
    "    this_week[\"OWGR_RANK\"] = pd.to_numeric(this_week[\"OWGR_RANK\"], errors=\"coerce\").fillna(1000).clip(upper=1000)\n",
    "\n",
    "this_week[\"RECENT_FORM\"] = pd.to_numeric(this_week[\"RECENT_FORM\"], errors=\"coerce\").fillna(90)\n",
    "this_week[\"FEDEX_CUP_POINTS\"] = pd.to_numeric(this_week[\"FEDEX_CUP_POINTS\"], errors=\"coerce\").fillna(0)\n",
    "\n",
    "if \"COURSE_HISTORY\" in this_week.columns:\n",
    "    this_week[\"COURSE_HISTORY\"] = pd.to_numeric(this_week[\"COURSE_HISTORY\"], errors=\"coerce\")\n",
    "    ch_mean = this_week[\"COURSE_HISTORY\"].mean()\n",
    "    this_week[\"COURSE_HISTORY\"] = this_week[\"COURSE_HISTORY\"].fillna(ch_mean)\n",
    "\n",
    "# === 3. Fill all remaining NaNs in numeric columns ===\n",
    "# Recast everything that might look numeric to be sure\n",
    "for col in this_week.columns:\n",
    "    if col not in [\"PLAYER\", \"SALARY\", \"TOURNAMENT\", \"SEASON\"]:\n",
    "        try:\n",
    "            this_week[col] = pd.to_numeric(this_week[col], errors=\"coerce\")\n",
    "        except Exception:\n",
    "            continue\n",
    "\n",
    "numeric_cols = this_week.select_dtypes(include=[\"number\"]).columns.tolist()\n",
    "\n",
    "for col in numeric_cols:\n",
    "    if this_week[col].isna().any():\n",
    "        col_mean = this_week[col].mean()\n",
    "        this_week[col] = this_week[col].fillna(col_mean if not np.isnan(col_mean) else 0)\n"
   ]
  },
  {
   "cell_type": "code",
   "execution_count": 26,
   "id": "4b122fc3",
   "metadata": {},
   "outputs": [],
   "source": [
    "# === Final Check: No NaNs Should Remain ===\n",
    "assert this_week.isna().sum().sum() == 0, \"🚨 Still missing values in prediction set!\""
   ]
  },
  {
   "cell_type": "code",
   "execution_count": 27,
   "id": "b75f2cff",
   "metadata": {},
   "outputs": [
    {
     "name": "stdout",
     "output_type": "stream",
     "text": [
      "🧹 Columns still containing NaN values:\n"
     ]
    },
    {
     "data": {
      "text/plain": [
       "Series([], dtype: int64)"
      ]
     },
     "metadata": {},
     "output_type": "display_data"
    }
   ],
   "source": [
    "# === Check for Remaining Missing Values ===\n",
    "missing_summary = this_week.isna().sum()\n",
    "missing_summary = missing_summary[missing_summary > 0].sort_values(ascending=False)\n",
    "\n",
    "print(\"🧹 Columns still containing NaN values:\")\n",
    "display(missing_summary)"
   ]
  },
  {
   "cell_type": "code",
   "execution_count": 28,
   "id": "cc925bbf",
   "metadata": {},
   "outputs": [
    {
     "data": {
      "text/html": [
       "<div>\n",
       "<style scoped>\n",
       "    .dataframe tbody tr th:only-of-type {\n",
       "        vertical-align: middle;\n",
       "    }\n",
       "\n",
       "    .dataframe tbody tr th {\n",
       "        vertical-align: top;\n",
       "    }\n",
       "\n",
       "    .dataframe thead th {\n",
       "        text-align: right;\n",
       "    }\n",
       "</style>\n",
       "<table border=\"1\" class=\"dataframe\">\n",
       "  <thead>\n",
       "    <tr style=\"text-align: right;\">\n",
       "      <th></th>\n",
       "      <th>PLAYER</th>\n",
       "      <th>SGTTG_RANK</th>\n",
       "      <th>SGTTG</th>\n",
       "      <th>SGOTT_RANK</th>\n",
       "      <th>SGOTT</th>\n",
       "      <th>SGAPR_RANK</th>\n",
       "      <th>SGAPR</th>\n",
       "      <th>SGATG_RANK</th>\n",
       "      <th>SGATG</th>\n",
       "      <th>SGP_RANK</th>\n",
       "      <th>SGP</th>\n",
       "      <th>BIRDIES_RANK</th>\n",
       "      <th>BIRDIES</th>\n",
       "      <th>PAR_3_RANK</th>\n",
       "      <th>PAR_3</th>\n",
       "      <th>PAR_4_RANK</th>\n",
       "      <th>PAR_4</th>\n",
       "      <th>PAR_5_RANK</th>\n",
       "      <th>PAR_5</th>\n",
       "      <th>TOTAL_DRIVING_RANK</th>\n",
       "      <th>TOTAL_DRIVING</th>\n",
       "      <th>DRIVING_DISTANCE_RANK</th>\n",
       "      <th>DRIVING_DISTANCE</th>\n",
       "      <th>DRIVING_ACCURACY_RANK</th>\n",
       "      <th>DRIVING_ACCURACY</th>\n",
       "      <th>GIR_RANK</th>\n",
       "      <th>GIR</th>\n",
       "      <th>SCRAMBLING_RANK</th>\n",
       "      <th>SCRAMBLING</th>\n",
       "      <th>OWGR_RANK</th>\n",
       "      <th>OWGR</th>\n",
       "      <th>SEASON</th>\n",
       "      <th>VEGAS_ODDS</th>\n",
       "      <th>CUT_PERCENTAGE</th>\n",
       "      <th>FEDEX_CUP_POINTS</th>\n",
       "      <th>form_density</th>\n",
       "      <th>CONSECUTIVE_CUTS</th>\n",
       "      <th>RECENT_FORM</th>\n",
       "      <th>adj_form</th>\n",
       "      <th>COURSE_HISTORY</th>\n",
       "      <th>adj_ch</th>\n",
       "      <th>SALARY</th>\n",
       "    </tr>\n",
       "  </thead>\n",
       "  <tbody>\n",
       "    <tr>\n",
       "      <th>0</th>\n",
       "      <td>Aaron Baddeley</td>\n",
       "      <td>160.00000</td>\n",
       "      <td>-1.022000</td>\n",
       "      <td>168.000000</td>\n",
       "      <td>-1.292000</td>\n",
       "      <td>137.000000</td>\n",
       "      <td>-0.265000</td>\n",
       "      <td>4.000000</td>\n",
       "      <td>0.53600</td>\n",
       "      <td>153.000000</td>\n",
       "      <td>-0.445000</td>\n",
       "      <td>169.000000</td>\n",
       "      <td>18.100000</td>\n",
       "      <td>103.000000</td>\n",
       "      <td>3.080000</td>\n",
       "      <td>151.000000</td>\n",
       "      <td>4.080000</td>\n",
       "      <td>169.000000</td>\n",
       "      <td>4.770</td>\n",
       "      <td>167.000000</td>\n",
       "      <td>270.000000</td>\n",
       "      <td>157.000000</td>\n",
       "      <td>289.600000</td>\n",
       "      <td>113.000000</td>\n",
       "      <td>57.290000</td>\n",
       "      <td>164.00000</td>\n",
       "      <td>60.480000</td>\n",
       "      <td>81.00000</td>\n",
       "      <td>60.240000</td>\n",
       "      <td>466.0</td>\n",
       "      <td>0.2814</td>\n",
       "      <td>2025.0</td>\n",
       "      <td>1000.0</td>\n",
       "      <td>40.000000</td>\n",
       "      <td>49.088</td>\n",
       "      <td>3.270000</td>\n",
       "      <td>0.000000</td>\n",
       "      <td>77.6</td>\n",
       "      <td>27.990000</td>\n",
       "      <td>73.300000</td>\n",
       "      <td>45.540000</td>\n",
       "      <td>6100</td>\n",
       "    </tr>\n",
       "    <tr>\n",
       "      <th>1</th>\n",
       "      <td>Aaron Wise</td>\n",
       "      <td>93.62931</td>\n",
       "      <td>0.001655</td>\n",
       "      <td>88.724138</td>\n",
       "      <td>0.006319</td>\n",
       "      <td>92.862069</td>\n",
       "      <td>-0.005897</td>\n",
       "      <td>88.836207</td>\n",
       "      <td>0.00131</td>\n",
       "      <td>94.844828</td>\n",
       "      <td>-0.048741</td>\n",
       "      <td>92.577586</td>\n",
       "      <td>21.241379</td>\n",
       "      <td>80.956897</td>\n",
       "      <td>3.064052</td>\n",
       "      <td>83.594828</td>\n",
       "      <td>4.031121</td>\n",
       "      <td>82.508621</td>\n",
       "      <td>4.615</td>\n",
       "      <td>83.853448</td>\n",
       "      <td>169.146552</td>\n",
       "      <td>79.982759</td>\n",
       "      <td>301.984483</td>\n",
       "      <td>89.163793</td>\n",
       "      <td>59.192845</td>\n",
       "      <td>87.87069</td>\n",
       "      <td>65.341983</td>\n",
       "      <td>83.12069</td>\n",
       "      <td>59.902586</td>\n",
       "      <td>1000.0</td>\n",
       "      <td>6.0895</td>\n",
       "      <td>2025.0</td>\n",
       "      <td>1000.0</td>\n",
       "      <td>55.133088</td>\n",
       "      <td>0.000</td>\n",
       "      <td>20.951838</td>\n",
       "      <td>1.610294</td>\n",
       "      <td>90.0</td>\n",
       "      <td>22.503309</td>\n",
       "      <td>57.139423</td>\n",
       "      <td>53.776923</td>\n",
       "      <td>6200</td>\n",
       "    </tr>\n",
       "    <tr>\n",
       "      <th>2</th>\n",
       "      <td>Adam Hadwin</td>\n",
       "      <td>146.00000</td>\n",
       "      <td>-0.523000</td>\n",
       "      <td>136.000000</td>\n",
       "      <td>-0.251000</td>\n",
       "      <td>149.000000</td>\n",
       "      <td>-0.371000</td>\n",
       "      <td>62.000000</td>\n",
       "      <td>0.10000</td>\n",
       "      <td>114.000000</td>\n",
       "      <td>-0.111000</td>\n",
       "      <td>59.000000</td>\n",
       "      <td>22.020000</td>\n",
       "      <td>29.000000</td>\n",
       "      <td>3.020000</td>\n",
       "      <td>136.000000</td>\n",
       "      <td>4.060000</td>\n",
       "      <td>136.000000</td>\n",
       "      <td>4.670</td>\n",
       "      <td>91.000000</td>\n",
       "      <td>173.000000</td>\n",
       "      <td>103.000000</td>\n",
       "      <td>298.700000</td>\n",
       "      <td>70.000000</td>\n",
       "      <td>60.420000</td>\n",
       "      <td>120.00000</td>\n",
       "      <td>64.340000</td>\n",
       "      <td>159.00000</td>\n",
       "      <td>53.820000</td>\n",
       "      <td>107.0</td>\n",
       "      <td>1.2058</td>\n",
       "      <td>2025.0</td>\n",
       "      <td>200.0</td>\n",
       "      <td>66.700000</td>\n",
       "      <td>212.382</td>\n",
       "      <td>11.800000</td>\n",
       "      <td>3.000000</td>\n",
       "      <td>60.8</td>\n",
       "      <td>20.650000</td>\n",
       "      <td>32.000000</td>\n",
       "      <td>23.080000</td>\n",
       "      <td>6800</td>\n",
       "    </tr>\n",
       "    <tr>\n",
       "      <th>3</th>\n",
       "      <td>Adam Schenk</td>\n",
       "      <td>115.00000</td>\n",
       "      <td>-0.129000</td>\n",
       "      <td>89.000000</td>\n",
       "      <td>0.078000</td>\n",
       "      <td>119.000000</td>\n",
       "      <td>-0.126000</td>\n",
       "      <td>117.000000</td>\n",
       "      <td>-0.08100</td>\n",
       "      <td>107.000000</td>\n",
       "      <td>-0.056000</td>\n",
       "      <td>119.000000</td>\n",
       "      <td>20.490000</td>\n",
       "      <td>37.000000</td>\n",
       "      <td>3.030000</td>\n",
       "      <td>155.000000</td>\n",
       "      <td>4.090000</td>\n",
       "      <td>36.000000</td>\n",
       "      <td>4.570</td>\n",
       "      <td>135.000000</td>\n",
       "      <td>209.000000</td>\n",
       "      <td>52.000000</td>\n",
       "      <td>305.100000</td>\n",
       "      <td>157.000000</td>\n",
       "      <td>52.400000</td>\n",
       "      <td>159.00000</td>\n",
       "      <td>61.230000</td>\n",
       "      <td>96.00000</td>\n",
       "      <td>59.240000</td>\n",
       "      <td>151.0</td>\n",
       "      <td>0.8787</td>\n",
       "      <td>2025.0</td>\n",
       "      <td>250.0</td>\n",
       "      <td>47.400000</td>\n",
       "      <td>270.904</td>\n",
       "      <td>14.260000</td>\n",
       "      <td>2.000000</td>\n",
       "      <td>65.4</td>\n",
       "      <td>21.830000</td>\n",
       "      <td>42.000000</td>\n",
       "      <td>23.440000</td>\n",
       "      <td>6700</td>\n",
       "    </tr>\n",
       "    <tr>\n",
       "      <th>4</th>\n",
       "      <td>Adam Svensson</td>\n",
       "      <td>77.00000</td>\n",
       "      <td>0.119000</td>\n",
       "      <td>119.000000</td>\n",
       "      <td>-0.087000</td>\n",
       "      <td>93.000000</td>\n",
       "      <td>0.015000</td>\n",
       "      <td>40.000000</td>\n",
       "      <td>0.19000</td>\n",
       "      <td>154.000000</td>\n",
       "      <td>-0.467000</td>\n",
       "      <td>155.000000</td>\n",
       "      <td>19.270000</td>\n",
       "      <td>103.000000</td>\n",
       "      <td>3.080000</td>\n",
       "      <td>104.000000</td>\n",
       "      <td>4.040000</td>\n",
       "      <td>66.000000</td>\n",
       "      <td>4.600</td>\n",
       "      <td>94.000000</td>\n",
       "      <td>176.000000</td>\n",
       "      <td>147.000000</td>\n",
       "      <td>293.800000</td>\n",
       "      <td>29.000000</td>\n",
       "      <td>64.500000</td>\n",
       "      <td>50.00000</td>\n",
       "      <td>66.780000</td>\n",
       "      <td>93.00000</td>\n",
       "      <td>59.390000</td>\n",
       "      <td>198.0</td>\n",
       "      <td>0.6987</td>\n",
       "      <td>2025.0</td>\n",
       "      <td>250.0</td>\n",
       "      <td>52.600000</td>\n",
       "      <td>126.043</td>\n",
       "      <td>6.630000</td>\n",
       "      <td>0.000000</td>\n",
       "      <td>66.2</td>\n",
       "      <td>22.100000</td>\n",
       "      <td>73.300000</td>\n",
       "      <td>52.870000</td>\n",
       "      <td>6700</td>\n",
       "    </tr>\n",
       "    <tr>\n",
       "      <th>5</th>\n",
       "      <td>Akshay Bhatia</td>\n",
       "      <td>78.00000</td>\n",
       "      <td>0.115000</td>\n",
       "      <td>107.000000</td>\n",
       "      <td>-0.025000</td>\n",
       "      <td>24.000000</td>\n",
       "      <td>0.458000</td>\n",
       "      <td>152.000000</td>\n",
       "      <td>-0.31800</td>\n",
       "      <td>15.000000</td>\n",
       "      <td>0.422000</td>\n",
       "      <td>20.000000</td>\n",
       "      <td>23.710000</td>\n",
       "      <td>8.000000</td>\n",
       "      <td>2.990000</td>\n",
       "      <td>64.000000</td>\n",
       "      <td>4.020000</td>\n",
       "      <td>152.000000</td>\n",
       "      <td>4.700</td>\n",
       "      <td>135.000000</td>\n",
       "      <td>209.000000</td>\n",
       "      <td>147.000000</td>\n",
       "      <td>293.800000</td>\n",
       "      <td>62.000000</td>\n",
       "      <td>61.100000</td>\n",
       "      <td>55.00000</td>\n",
       "      <td>66.370000</td>\n",
       "      <td>157.00000</td>\n",
       "      <td>54.870000</td>\n",
       "      <td>36.0</td>\n",
       "      <td>2.5932</td>\n",
       "      <td>2025.0</td>\n",
       "      <td>45.0</td>\n",
       "      <td>76.500000</td>\n",
       "      <td>810.740</td>\n",
       "      <td>47.690000</td>\n",
       "      <td>1.000000</td>\n",
       "      <td>40.8</td>\n",
       "      <td>14.120000</td>\n",
       "      <td>46.000000</td>\n",
       "      <td>41.870000</td>\n",
       "      <td>8200</td>\n",
       "    </tr>\n",
       "    <tr>\n",
       "      <th>6</th>\n",
       "      <td>Aldrich Potgieter</td>\n",
       "      <td>111.00000</td>\n",
       "      <td>-0.094000</td>\n",
       "      <td>5.000000</td>\n",
       "      <td>0.637000</td>\n",
       "      <td>141.000000</td>\n",
       "      <td>-0.272000</td>\n",
       "      <td>161.000000</td>\n",
       "      <td>-0.45900</td>\n",
       "      <td>34.000000</td>\n",
       "      <td>0.252000</td>\n",
       "      <td>58.000000</td>\n",
       "      <td>22.060000</td>\n",
       "      <td>65.000000</td>\n",
       "      <td>3.050000</td>\n",
       "      <td>119.000000</td>\n",
       "      <td>4.050000</td>\n",
       "      <td>153.000000</td>\n",
       "      <td>4.710</td>\n",
       "      <td>53.000000</td>\n",
       "      <td>151.000000</td>\n",
       "      <td>1.000000</td>\n",
       "      <td>326.600000</td>\n",
       "      <td>150.000000</td>\n",
       "      <td>53.730000</td>\n",
       "      <td>138.00000</td>\n",
       "      <td>63.170000</td>\n",
       "      <td>162.00000</td>\n",
       "      <td>53.450000</td>\n",
       "      <td>123.0</td>\n",
       "      <td>1.1014</td>\n",
       "      <td>2025.0</td>\n",
       "      <td>125.0</td>\n",
       "      <td>36.400000</td>\n",
       "      <td>441.000</td>\n",
       "      <td>40.090000</td>\n",
       "      <td>1.000000</td>\n",
       "      <td>63.6</td>\n",
       "      <td>25.590000</td>\n",
       "      <td>90.000000</td>\n",
       "      <td>129.840000</td>\n",
       "      <td>7000</td>\n",
       "    </tr>\n",
       "    <tr>\n",
       "      <th>7</th>\n",
       "      <td>Alejandro Tosti</td>\n",
       "      <td>43.00000</td>\n",
       "      <td>0.540000</td>\n",
       "      <td>29.000000</td>\n",
       "      <td>0.335000</td>\n",
       "      <td>114.000000</td>\n",
       "      <td>-0.101000</td>\n",
       "      <td>18.000000</td>\n",
       "      <td>0.30600</td>\n",
       "      <td>164.000000</td>\n",
       "      <td>-0.681000</td>\n",
       "      <td>42.000000</td>\n",
       "      <td>22.460000</td>\n",
       "      <td>91.000000</td>\n",
       "      <td>3.070000</td>\n",
       "      <td>64.000000</td>\n",
       "      <td>4.020000</td>\n",
       "      <td>50.000000</td>\n",
       "      <td>4.580</td>\n",
       "      <td>30.000000</td>\n",
       "      <td>129.000000</td>\n",
       "      <td>10.000000</td>\n",
       "      <td>314.100000</td>\n",
       "      <td>119.000000</td>\n",
       "      <td>56.780000</td>\n",
       "      <td>113.00000</td>\n",
       "      <td>64.490000</td>\n",
       "      <td>71.00000</td>\n",
       "      <td>60.540000</td>\n",
       "      <td>146.0</td>\n",
       "      <td>0.9258</td>\n",
       "      <td>2025.0</td>\n",
       "      <td>200.0</td>\n",
       "      <td>44.400000</td>\n",
       "      <td>316.783</td>\n",
       "      <td>17.600000</td>\n",
       "      <td>0.000000</td>\n",
       "      <td>65.1</td>\n",
       "      <td>22.110000</td>\n",
       "      <td>90.000000</td>\n",
       "      <td>129.840000</td>\n",
       "      <td>6800</td>\n",
       "    </tr>\n",
       "    <tr>\n",
       "      <th>8</th>\n",
       "      <td>Alex Noren</td>\n",
       "      <td>93.62931</td>\n",
       "      <td>0.001655</td>\n",
       "      <td>88.724138</td>\n",
       "      <td>0.006319</td>\n",
       "      <td>92.862069</td>\n",
       "      <td>-0.005897</td>\n",
       "      <td>88.836207</td>\n",
       "      <td>0.00131</td>\n",
       "      <td>94.844828</td>\n",
       "      <td>-0.048741</td>\n",
       "      <td>92.577586</td>\n",
       "      <td>21.241379</td>\n",
       "      <td>80.956897</td>\n",
       "      <td>3.064052</td>\n",
       "      <td>83.594828</td>\n",
       "      <td>4.031121</td>\n",
       "      <td>82.508621</td>\n",
       "      <td>4.615</td>\n",
       "      <td>83.853448</td>\n",
       "      <td>169.146552</td>\n",
       "      <td>79.982759</td>\n",
       "      <td>301.984483</td>\n",
       "      <td>89.163793</td>\n",
       "      <td>59.192845</td>\n",
       "      <td>87.87069</td>\n",
       "      <td>65.341983</td>\n",
       "      <td>83.12069</td>\n",
       "      <td>59.902586</td>\n",
       "      <td>76.0</td>\n",
       "      <td>1.6565</td>\n",
       "      <td>2025.0</td>\n",
       "      <td>60.0</td>\n",
       "      <td>80.000000</td>\n",
       "      <td>134.250</td>\n",
       "      <td>26.850000</td>\n",
       "      <td>1.000000</td>\n",
       "      <td>45.4</td>\n",
       "      <td>25.340000</td>\n",
       "      <td>48.300000</td>\n",
       "      <td>30.010000</td>\n",
       "      <td>7800</td>\n",
       "    </tr>\n",
       "    <tr>\n",
       "      <th>9</th>\n",
       "      <td>Alex Smalley</td>\n",
       "      <td>6.00000</td>\n",
       "      <td>1.142000</td>\n",
       "      <td>17.000000</td>\n",
       "      <td>0.452000</td>\n",
       "      <td>46.000000</td>\n",
       "      <td>0.286000</td>\n",
       "      <td>11.000000</td>\n",
       "      <td>0.40400</td>\n",
       "      <td>40.000000</td>\n",
       "      <td>0.224000</td>\n",
       "      <td>14.000000</td>\n",
       "      <td>23.870000</td>\n",
       "      <td>78.000000</td>\n",
       "      <td>3.060000</td>\n",
       "      <td>2.000000</td>\n",
       "      <td>3.930000</td>\n",
       "      <td>50.000000</td>\n",
       "      <td>4.580</td>\n",
       "      <td>2.000000</td>\n",
       "      <td>71.000000</td>\n",
       "      <td>41.000000</td>\n",
       "      <td>306.300000</td>\n",
       "      <td>30.000000</td>\n",
       "      <td>64.440000</td>\n",
       "      <td>24.00000</td>\n",
       "      <td>68.930000</td>\n",
       "      <td>16.00000</td>\n",
       "      <td>64.570000</td>\n",
       "      <td>112.0</td>\n",
       "      <td>1.1819</td>\n",
       "      <td>2025.0</td>\n",
       "      <td>50.0</td>\n",
       "      <td>70.000000</td>\n",
       "      <td>639.388</td>\n",
       "      <td>31.970000</td>\n",
       "      <td>1.000000</td>\n",
       "      <td>43.6</td>\n",
       "      <td>14.320000</td>\n",
       "      <td>68.500000</td>\n",
       "      <td>62.350000</td>\n",
       "      <td>8000</td>\n",
       "    </tr>\n",
       "  </tbody>\n",
       "</table>\n",
       "</div>"
      ],
      "text/plain": [
       "              PLAYER  SGTTG_RANK     SGTTG  SGOTT_RANK     SGOTT  SGAPR_RANK  \\\n",
       "0     Aaron Baddeley   160.00000 -1.022000  168.000000 -1.292000  137.000000   \n",
       "1         Aaron Wise    93.62931  0.001655   88.724138  0.006319   92.862069   \n",
       "2        Adam Hadwin   146.00000 -0.523000  136.000000 -0.251000  149.000000   \n",
       "3        Adam Schenk   115.00000 -0.129000   89.000000  0.078000  119.000000   \n",
       "4      Adam Svensson    77.00000  0.119000  119.000000 -0.087000   93.000000   \n",
       "5      Akshay Bhatia    78.00000  0.115000  107.000000 -0.025000   24.000000   \n",
       "6  Aldrich Potgieter   111.00000 -0.094000    5.000000  0.637000  141.000000   \n",
       "7    Alejandro Tosti    43.00000  0.540000   29.000000  0.335000  114.000000   \n",
       "8         Alex Noren    93.62931  0.001655   88.724138  0.006319   92.862069   \n",
       "9       Alex Smalley     6.00000  1.142000   17.000000  0.452000   46.000000   \n",
       "\n",
       "      SGAPR  SGATG_RANK    SGATG    SGP_RANK       SGP  BIRDIES_RANK  \\\n",
       "0 -0.265000    4.000000  0.53600  153.000000 -0.445000    169.000000   \n",
       "1 -0.005897   88.836207  0.00131   94.844828 -0.048741     92.577586   \n",
       "2 -0.371000   62.000000  0.10000  114.000000 -0.111000     59.000000   \n",
       "3 -0.126000  117.000000 -0.08100  107.000000 -0.056000    119.000000   \n",
       "4  0.015000   40.000000  0.19000  154.000000 -0.467000    155.000000   \n",
       "5  0.458000  152.000000 -0.31800   15.000000  0.422000     20.000000   \n",
       "6 -0.272000  161.000000 -0.45900   34.000000  0.252000     58.000000   \n",
       "7 -0.101000   18.000000  0.30600  164.000000 -0.681000     42.000000   \n",
       "8 -0.005897   88.836207  0.00131   94.844828 -0.048741     92.577586   \n",
       "9  0.286000   11.000000  0.40400   40.000000  0.224000     14.000000   \n",
       "\n",
       "     BIRDIES  PAR_3_RANK     PAR_3  PAR_4_RANK     PAR_4  PAR_5_RANK  PAR_5  \\\n",
       "0  18.100000  103.000000  3.080000  151.000000  4.080000  169.000000  4.770   \n",
       "1  21.241379   80.956897  3.064052   83.594828  4.031121   82.508621  4.615   \n",
       "2  22.020000   29.000000  3.020000  136.000000  4.060000  136.000000  4.670   \n",
       "3  20.490000   37.000000  3.030000  155.000000  4.090000   36.000000  4.570   \n",
       "4  19.270000  103.000000  3.080000  104.000000  4.040000   66.000000  4.600   \n",
       "5  23.710000    8.000000  2.990000   64.000000  4.020000  152.000000  4.700   \n",
       "6  22.060000   65.000000  3.050000  119.000000  4.050000  153.000000  4.710   \n",
       "7  22.460000   91.000000  3.070000   64.000000  4.020000   50.000000  4.580   \n",
       "8  21.241379   80.956897  3.064052   83.594828  4.031121   82.508621  4.615   \n",
       "9  23.870000   78.000000  3.060000    2.000000  3.930000   50.000000  4.580   \n",
       "\n",
       "   TOTAL_DRIVING_RANK  TOTAL_DRIVING  DRIVING_DISTANCE_RANK  DRIVING_DISTANCE  \\\n",
       "0          167.000000     270.000000             157.000000        289.600000   \n",
       "1           83.853448     169.146552              79.982759        301.984483   \n",
       "2           91.000000     173.000000             103.000000        298.700000   \n",
       "3          135.000000     209.000000              52.000000        305.100000   \n",
       "4           94.000000     176.000000             147.000000        293.800000   \n",
       "5          135.000000     209.000000             147.000000        293.800000   \n",
       "6           53.000000     151.000000               1.000000        326.600000   \n",
       "7           30.000000     129.000000              10.000000        314.100000   \n",
       "8           83.853448     169.146552              79.982759        301.984483   \n",
       "9            2.000000      71.000000              41.000000        306.300000   \n",
       "\n",
       "   DRIVING_ACCURACY_RANK  DRIVING_ACCURACY   GIR_RANK        GIR  \\\n",
       "0             113.000000         57.290000  164.00000  60.480000   \n",
       "1              89.163793         59.192845   87.87069  65.341983   \n",
       "2              70.000000         60.420000  120.00000  64.340000   \n",
       "3             157.000000         52.400000  159.00000  61.230000   \n",
       "4              29.000000         64.500000   50.00000  66.780000   \n",
       "5              62.000000         61.100000   55.00000  66.370000   \n",
       "6             150.000000         53.730000  138.00000  63.170000   \n",
       "7             119.000000         56.780000  113.00000  64.490000   \n",
       "8              89.163793         59.192845   87.87069  65.341983   \n",
       "9              30.000000         64.440000   24.00000  68.930000   \n",
       "\n",
       "   SCRAMBLING_RANK  SCRAMBLING  OWGR_RANK    OWGR  SEASON  VEGAS_ODDS  \\\n",
       "0         81.00000   60.240000      466.0  0.2814  2025.0      1000.0   \n",
       "1         83.12069   59.902586     1000.0  6.0895  2025.0      1000.0   \n",
       "2        159.00000   53.820000      107.0  1.2058  2025.0       200.0   \n",
       "3         96.00000   59.240000      151.0  0.8787  2025.0       250.0   \n",
       "4         93.00000   59.390000      198.0  0.6987  2025.0       250.0   \n",
       "5        157.00000   54.870000       36.0  2.5932  2025.0        45.0   \n",
       "6        162.00000   53.450000      123.0  1.1014  2025.0       125.0   \n",
       "7         71.00000   60.540000      146.0  0.9258  2025.0       200.0   \n",
       "8         83.12069   59.902586       76.0  1.6565  2025.0        60.0   \n",
       "9         16.00000   64.570000      112.0  1.1819  2025.0        50.0   \n",
       "\n",
       "   CUT_PERCENTAGE  FEDEX_CUP_POINTS  form_density  CONSECUTIVE_CUTS  \\\n",
       "0       40.000000            49.088      3.270000          0.000000   \n",
       "1       55.133088             0.000     20.951838          1.610294   \n",
       "2       66.700000           212.382     11.800000          3.000000   \n",
       "3       47.400000           270.904     14.260000          2.000000   \n",
       "4       52.600000           126.043      6.630000          0.000000   \n",
       "5       76.500000           810.740     47.690000          1.000000   \n",
       "6       36.400000           441.000     40.090000          1.000000   \n",
       "7       44.400000           316.783     17.600000          0.000000   \n",
       "8       80.000000           134.250     26.850000          1.000000   \n",
       "9       70.000000           639.388     31.970000          1.000000   \n",
       "\n",
       "   RECENT_FORM   adj_form  COURSE_HISTORY      adj_ch  SALARY  \n",
       "0         77.6  27.990000       73.300000   45.540000    6100  \n",
       "1         90.0  22.503309       57.139423   53.776923    6200  \n",
       "2         60.8  20.650000       32.000000   23.080000    6800  \n",
       "3         65.4  21.830000       42.000000   23.440000    6700  \n",
       "4         66.2  22.100000       73.300000   52.870000    6700  \n",
       "5         40.8  14.120000       46.000000   41.870000    8200  \n",
       "6         63.6  25.590000       90.000000  129.840000    7000  \n",
       "7         65.1  22.110000       90.000000  129.840000    6800  \n",
       "8         45.4  25.340000       48.300000   30.010000    7800  \n",
       "9         43.6  14.320000       68.500000   62.350000    8000  "
      ]
     },
     "execution_count": 28,
     "metadata": {},
     "output_type": "execute_result"
    }
   ],
   "source": [
    "this_week.head(10)"
   ]
  },
  {
   "cell_type": "markdown",
   "id": "e37950e7",
   "metadata": {},
   "source": [
    "## Correlations\n",
    "**Last 4 Years**"
   ]
  },
  {
   "cell_type": "code",
   "execution_count": 29,
   "id": "d749a70f",
   "metadata": {},
   "outputs": [
    {
     "data": {
      "application/vnd.plotly.v1+json": {
       "config": {
        "plotlyServerURL": "https://plot.ly"
       },
       "data": [
        {
         "hovertemplate": "Feature=%{x}<br>Correlation=%{y}<extra></extra>",
         "legendgroup": "",
         "marker": {
          "color": "#636efa",
          "pattern": {
           "shape": ""
          }
         },
         "name": "",
         "orientation": "v",
         "showlegend": false,
         "textposition": "auto",
         "type": "bar",
         "x": [
          "OWGR",
          "form_density",
          "OWGR_RANK",
          "BIRDIES",
          "SGOTT",
          "RECENT_FORM",
          "TOTAL_DRIVING_RANK",
          "SGOTT_RANK",
          "SGP_RANK",
          "TOTAL_DRIVING",
          "BIRDIES_RANK",
          "SGP",
          "SGTTG_RANK",
          "VEGAS_ODDS",
          "CONSECUTIVE_CUTS",
          "FEDEX_CUP_POINTS",
          "PAR_4",
          "SGTTG",
          "PAR_4_RANK",
          "CUT_PERCENTAGE",
          "PAR_5",
          "PAR_5_RANK",
          "DRIVING_DISTANCE",
          "DRIVING_ACCURACY",
          "adj_form",
          "SGAPR",
          "PAR_3",
          "DRIVING_ACCURACY_RANK",
          "SGAPR_RANK",
          "PAR_3_RANK",
          "DRIVING_DISTANCE_RANK",
          "GIR_RANK",
          "GIR",
          "SCRAMBLING",
          "SGATG_RANK",
          "COURSE_HISTORY",
          "SGATG",
          "SCRAMBLING_RANK",
          "adj_ch"
         ],
         "xaxis": "x",
         "y": {
          "bdata": "C929JcFo2z/CDFplghXUPyIfwSbqUdI/l9H2vUw50j9u/fOtgSXSPx1v1axy7dA/04BHWqKU0D84Zc8vwI/QP5GQO+wiFc8/Pj/ts1OHzj9SpRpweHDOP8uqD3vbbc4/1L/g1qhszT8XIfFPT5jMPx0uW64LHMw/wxlvHa9lyz9sZrIPayTLPwSUBsZ9oso/iMRfoXqhyD+GRI3B2HrFP5+92cY8o8Q/tknFdOSmwz8wMBYAMsjBP+2EXndVZ78/QW6D/fBQvj+2U+J3Se69P0F7K1mUgL0/+6B3iTknvD8Dyx5wN9u7P3DoDghSuLs/TxXwCVe9uT+5D1ODNhayPwrEu08Tx7A/RStX74HTqj/7vypz9w+oPzZyFuv05qE/WC/YdfDXoT+7NHDeXPCgPyqhlvZkzKA/",
          "dtype": "f8"
         },
         "yaxis": "y"
        }
       ],
       "layout": {
        "barmode": "relative",
        "height": 500,
        "legend": {
         "tracegroupgap": 0
        },
        "template": {
         "data": {
          "bar": [
           {
            "error_x": {
             "color": "#f2f5fa"
            },
            "error_y": {
             "color": "#f2f5fa"
            },
            "marker": {
             "line": {
              "color": "rgb(17,17,17)",
              "width": 0.5
             },
             "pattern": {
              "fillmode": "overlay",
              "size": 10,
              "solidity": 0.2
             }
            },
            "type": "bar"
           }
          ],
          "barpolar": [
           {
            "marker": {
             "line": {
              "color": "rgb(17,17,17)",
              "width": 0.5
             },
             "pattern": {
              "fillmode": "overlay",
              "size": 10,
              "solidity": 0.2
             }
            },
            "type": "barpolar"
           }
          ],
          "carpet": [
           {
            "aaxis": {
             "endlinecolor": "#A2B1C6",
             "gridcolor": "#506784",
             "linecolor": "#506784",
             "minorgridcolor": "#506784",
             "startlinecolor": "#A2B1C6"
            },
            "baxis": {
             "endlinecolor": "#A2B1C6",
             "gridcolor": "#506784",
             "linecolor": "#506784",
             "minorgridcolor": "#506784",
             "startlinecolor": "#A2B1C6"
            },
            "type": "carpet"
           }
          ],
          "choropleth": [
           {
            "colorbar": {
             "outlinewidth": 0,
             "ticks": ""
            },
            "type": "choropleth"
           }
          ],
          "contour": [
           {
            "colorbar": {
             "outlinewidth": 0,
             "ticks": ""
            },
            "colorscale": [
             [
              0,
              "#0d0887"
             ],
             [
              0.1111111111111111,
              "#46039f"
             ],
             [
              0.2222222222222222,
              "#7201a8"
             ],
             [
              0.3333333333333333,
              "#9c179e"
             ],
             [
              0.4444444444444444,
              "#bd3786"
             ],
             [
              0.5555555555555556,
              "#d8576b"
             ],
             [
              0.6666666666666666,
              "#ed7953"
             ],
             [
              0.7777777777777778,
              "#fb9f3a"
             ],
             [
              0.8888888888888888,
              "#fdca26"
             ],
             [
              1,
              "#f0f921"
             ]
            ],
            "type": "contour"
           }
          ],
          "contourcarpet": [
           {
            "colorbar": {
             "outlinewidth": 0,
             "ticks": ""
            },
            "type": "contourcarpet"
           }
          ],
          "heatmap": [
           {
            "colorbar": {
             "outlinewidth": 0,
             "ticks": ""
            },
            "colorscale": [
             [
              0,
              "#0d0887"
             ],
             [
              0.1111111111111111,
              "#46039f"
             ],
             [
              0.2222222222222222,
              "#7201a8"
             ],
             [
              0.3333333333333333,
              "#9c179e"
             ],
             [
              0.4444444444444444,
              "#bd3786"
             ],
             [
              0.5555555555555556,
              "#d8576b"
             ],
             [
              0.6666666666666666,
              "#ed7953"
             ],
             [
              0.7777777777777778,
              "#fb9f3a"
             ],
             [
              0.8888888888888888,
              "#fdca26"
             ],
             [
              1,
              "#f0f921"
             ]
            ],
            "type": "heatmap"
           }
          ],
          "histogram": [
           {
            "marker": {
             "pattern": {
              "fillmode": "overlay",
              "size": 10,
              "solidity": 0.2
             }
            },
            "type": "histogram"
           }
          ],
          "histogram2d": [
           {
            "colorbar": {
             "outlinewidth": 0,
             "ticks": ""
            },
            "colorscale": [
             [
              0,
              "#0d0887"
             ],
             [
              0.1111111111111111,
              "#46039f"
             ],
             [
              0.2222222222222222,
              "#7201a8"
             ],
             [
              0.3333333333333333,
              "#9c179e"
             ],
             [
              0.4444444444444444,
              "#bd3786"
             ],
             [
              0.5555555555555556,
              "#d8576b"
             ],
             [
              0.6666666666666666,
              "#ed7953"
             ],
             [
              0.7777777777777778,
              "#fb9f3a"
             ],
             [
              0.8888888888888888,
              "#fdca26"
             ],
             [
              1,
              "#f0f921"
             ]
            ],
            "type": "histogram2d"
           }
          ],
          "histogram2dcontour": [
           {
            "colorbar": {
             "outlinewidth": 0,
             "ticks": ""
            },
            "colorscale": [
             [
              0,
              "#0d0887"
             ],
             [
              0.1111111111111111,
              "#46039f"
             ],
             [
              0.2222222222222222,
              "#7201a8"
             ],
             [
              0.3333333333333333,
              "#9c179e"
             ],
             [
              0.4444444444444444,
              "#bd3786"
             ],
             [
              0.5555555555555556,
              "#d8576b"
             ],
             [
              0.6666666666666666,
              "#ed7953"
             ],
             [
              0.7777777777777778,
              "#fb9f3a"
             ],
             [
              0.8888888888888888,
              "#fdca26"
             ],
             [
              1,
              "#f0f921"
             ]
            ],
            "type": "histogram2dcontour"
           }
          ],
          "mesh3d": [
           {
            "colorbar": {
             "outlinewidth": 0,
             "ticks": ""
            },
            "type": "mesh3d"
           }
          ],
          "parcoords": [
           {
            "line": {
             "colorbar": {
              "outlinewidth": 0,
              "ticks": ""
             }
            },
            "type": "parcoords"
           }
          ],
          "pie": [
           {
            "automargin": true,
            "type": "pie"
           }
          ],
          "scatter": [
           {
            "marker": {
             "line": {
              "color": "#283442"
             }
            },
            "type": "scatter"
           }
          ],
          "scatter3d": [
           {
            "line": {
             "colorbar": {
              "outlinewidth": 0,
              "ticks": ""
             }
            },
            "marker": {
             "colorbar": {
              "outlinewidth": 0,
              "ticks": ""
             }
            },
            "type": "scatter3d"
           }
          ],
          "scattercarpet": [
           {
            "marker": {
             "colorbar": {
              "outlinewidth": 0,
              "ticks": ""
             }
            },
            "type": "scattercarpet"
           }
          ],
          "scattergeo": [
           {
            "marker": {
             "colorbar": {
              "outlinewidth": 0,
              "ticks": ""
             }
            },
            "type": "scattergeo"
           }
          ],
          "scattergl": [
           {
            "marker": {
             "line": {
              "color": "#283442"
             }
            },
            "type": "scattergl"
           }
          ],
          "scattermap": [
           {
            "marker": {
             "colorbar": {
              "outlinewidth": 0,
              "ticks": ""
             }
            },
            "type": "scattermap"
           }
          ],
          "scattermapbox": [
           {
            "marker": {
             "colorbar": {
              "outlinewidth": 0,
              "ticks": ""
             }
            },
            "type": "scattermapbox"
           }
          ],
          "scatterpolar": [
           {
            "marker": {
             "colorbar": {
              "outlinewidth": 0,
              "ticks": ""
             }
            },
            "type": "scatterpolar"
           }
          ],
          "scatterpolargl": [
           {
            "marker": {
             "colorbar": {
              "outlinewidth": 0,
              "ticks": ""
             }
            },
            "type": "scatterpolargl"
           }
          ],
          "scatterternary": [
           {
            "marker": {
             "colorbar": {
              "outlinewidth": 0,
              "ticks": ""
             }
            },
            "type": "scatterternary"
           }
          ],
          "surface": [
           {
            "colorbar": {
             "outlinewidth": 0,
             "ticks": ""
            },
            "colorscale": [
             [
              0,
              "#0d0887"
             ],
             [
              0.1111111111111111,
              "#46039f"
             ],
             [
              0.2222222222222222,
              "#7201a8"
             ],
             [
              0.3333333333333333,
              "#9c179e"
             ],
             [
              0.4444444444444444,
              "#bd3786"
             ],
             [
              0.5555555555555556,
              "#d8576b"
             ],
             [
              0.6666666666666666,
              "#ed7953"
             ],
             [
              0.7777777777777778,
              "#fb9f3a"
             ],
             [
              0.8888888888888888,
              "#fdca26"
             ],
             [
              1,
              "#f0f921"
             ]
            ],
            "type": "surface"
           }
          ],
          "table": [
           {
            "cells": {
             "fill": {
              "color": "#506784"
             },
             "line": {
              "color": "rgb(17,17,17)"
             }
            },
            "header": {
             "fill": {
              "color": "#2a3f5f"
             },
             "line": {
              "color": "rgb(17,17,17)"
             }
            },
            "type": "table"
           }
          ]
         },
         "layout": {
          "annotationdefaults": {
           "arrowcolor": "#f2f5fa",
           "arrowhead": 0,
           "arrowwidth": 1
          },
          "autotypenumbers": "strict",
          "coloraxis": {
           "colorbar": {
            "outlinewidth": 0,
            "ticks": ""
           }
          },
          "colorscale": {
           "diverging": [
            [
             0,
             "#8e0152"
            ],
            [
             0.1,
             "#c51b7d"
            ],
            [
             0.2,
             "#de77ae"
            ],
            [
             0.3,
             "#f1b6da"
            ],
            [
             0.4,
             "#fde0ef"
            ],
            [
             0.5,
             "#f7f7f7"
            ],
            [
             0.6,
             "#e6f5d0"
            ],
            [
             0.7,
             "#b8e186"
            ],
            [
             0.8,
             "#7fbc41"
            ],
            [
             0.9,
             "#4d9221"
            ],
            [
             1,
             "#276419"
            ]
           ],
           "sequential": [
            [
             0,
             "#0d0887"
            ],
            [
             0.1111111111111111,
             "#46039f"
            ],
            [
             0.2222222222222222,
             "#7201a8"
            ],
            [
             0.3333333333333333,
             "#9c179e"
            ],
            [
             0.4444444444444444,
             "#bd3786"
            ],
            [
             0.5555555555555556,
             "#d8576b"
            ],
            [
             0.6666666666666666,
             "#ed7953"
            ],
            [
             0.7777777777777778,
             "#fb9f3a"
            ],
            [
             0.8888888888888888,
             "#fdca26"
            ],
            [
             1,
             "#f0f921"
            ]
           ],
           "sequentialminus": [
            [
             0,
             "#0d0887"
            ],
            [
             0.1111111111111111,
             "#46039f"
            ],
            [
             0.2222222222222222,
             "#7201a8"
            ],
            [
             0.3333333333333333,
             "#9c179e"
            ],
            [
             0.4444444444444444,
             "#bd3786"
            ],
            [
             0.5555555555555556,
             "#d8576b"
            ],
            [
             0.6666666666666666,
             "#ed7953"
            ],
            [
             0.7777777777777778,
             "#fb9f3a"
            ],
            [
             0.8888888888888888,
             "#fdca26"
            ],
            [
             1,
             "#f0f921"
            ]
           ]
          },
          "colorway": [
           "#636efa",
           "#EF553B",
           "#00cc96",
           "#ab63fa",
           "#FFA15A",
           "#19d3f3",
           "#FF6692",
           "#B6E880",
           "#FF97FF",
           "#FECB52"
          ],
          "font": {
           "color": "#f2f5fa"
          },
          "geo": {
           "bgcolor": "rgb(17,17,17)",
           "lakecolor": "rgb(17,17,17)",
           "landcolor": "rgb(17,17,17)",
           "showlakes": true,
           "showland": true,
           "subunitcolor": "#506784"
          },
          "hoverlabel": {
           "align": "left"
          },
          "hovermode": "closest",
          "mapbox": {
           "style": "dark"
          },
          "paper_bgcolor": "rgb(17,17,17)",
          "plot_bgcolor": "rgb(17,17,17)",
          "polar": {
           "angularaxis": {
            "gridcolor": "#506784",
            "linecolor": "#506784",
            "ticks": ""
           },
           "bgcolor": "rgb(17,17,17)",
           "radialaxis": {
            "gridcolor": "#506784",
            "linecolor": "#506784",
            "ticks": ""
           }
          },
          "scene": {
           "xaxis": {
            "backgroundcolor": "rgb(17,17,17)",
            "gridcolor": "#506784",
            "gridwidth": 2,
            "linecolor": "#506784",
            "showbackground": true,
            "ticks": "",
            "zerolinecolor": "#C8D4E3"
           },
           "yaxis": {
            "backgroundcolor": "rgb(17,17,17)",
            "gridcolor": "#506784",
            "gridwidth": 2,
            "linecolor": "#506784",
            "showbackground": true,
            "ticks": "",
            "zerolinecolor": "#C8D4E3"
           },
           "zaxis": {
            "backgroundcolor": "rgb(17,17,17)",
            "gridcolor": "#506784",
            "gridwidth": 2,
            "linecolor": "#506784",
            "showbackground": true,
            "ticks": "",
            "zerolinecolor": "#C8D4E3"
           }
          },
          "shapedefaults": {
           "line": {
            "color": "#f2f5fa"
           }
          },
          "sliderdefaults": {
           "bgcolor": "#C8D4E3",
           "bordercolor": "rgb(17,17,17)",
           "borderwidth": 1,
           "tickwidth": 0
          },
          "ternary": {
           "aaxis": {
            "gridcolor": "#506784",
            "linecolor": "#506784",
            "ticks": ""
           },
           "baxis": {
            "gridcolor": "#506784",
            "linecolor": "#506784",
            "ticks": ""
           },
           "bgcolor": "rgb(17,17,17)",
           "caxis": {
            "gridcolor": "#506784",
            "linecolor": "#506784",
            "ticks": ""
           }
          },
          "title": {
           "x": 0.05
          },
          "updatemenudefaults": {
           "bgcolor": "#506784",
           "borderwidth": 0
          },
          "xaxis": {
           "automargin": true,
           "gridcolor": "#283442",
           "linecolor": "#506784",
           "ticks": "",
           "title": {
            "standoff": 15
           },
           "zerolinecolor": "#283442",
           "zerolinewidth": 2
          },
          "yaxis": {
           "automargin": true,
           "gridcolor": "#283442",
           "linecolor": "#506784",
           "ticks": "",
           "title": {
            "standoff": 15
           },
           "zerolinecolor": "#283442",
           "zerolinewidth": 2
          }
         }
        },
        "title": {
         "text": "🔎 Correlation to TOP_20 — Season 2020"
        },
        "width": 1000,
        "xaxis": {
         "anchor": "y",
         "domain": [
          0,
          1
         ],
         "tickangle": -45,
         "title": {
          "text": "Feature"
         }
        },
        "yaxis": {
         "anchor": "x",
         "domain": [
          0,
          1
         ],
         "title": {
          "text": "Absolute Correlation to TOP_20"
         }
        }
       }
      }
     },
     "metadata": {},
     "output_type": "display_data"
    },
    {
     "data": {
      "application/vnd.plotly.v1+json": {
       "config": {
        "plotlyServerURL": "https://plot.ly"
       },
       "data": [
        {
         "hovertemplate": "Feature=%{x}<br>Correlation=%{y}<extra></extra>",
         "legendgroup": "",
         "marker": {
          "color": "#636efa",
          "pattern": {
           "shape": ""
          }
         },
         "name": "",
         "orientation": "v",
         "showlegend": false,
         "textposition": "auto",
         "type": "bar",
         "x": [
          "RECENT_FORM",
          "OWGR",
          "FEDEX_CUP_POINTS",
          "PAR_3_RANK",
          "form_density",
          "OWGR_RANK",
          "SGTTG_RANK",
          "SGTTG",
          "CONSECUTIVE_CUTS",
          "SGATG",
          "PAR_3",
          "SGATG_RANK",
          "SGP_RANK",
          "SGP",
          "CUT_PERCENTAGE",
          "PAR_5_RANK",
          "SCRAMBLING",
          "SCRAMBLING_RANK",
          "BIRDIES_RANK",
          "PAR_5",
          "VEGAS_ODDS",
          "PAR_4",
          "BIRDIES",
          "GIR_RANK",
          "adj_form",
          "PAR_4_RANK",
          "SGOTT",
          "GIR",
          "SGAPR",
          "SGOTT_RANK",
          "adj_ch",
          "TOTAL_DRIVING",
          "SGAPR_RANK",
          "DRIVING_DISTANCE_RANK",
          "DRIVING_DISTANCE",
          "COURSE_HISTORY",
          "TOTAL_DRIVING_RANK",
          "DRIVING_ACCURACY",
          "DRIVING_ACCURACY_RANK"
         ],
         "xaxis": "x",
         "y": {
          "bdata": "5VW9/Uyn0j/p/pGi0OPRP1F+fAAmhdE/SL8W6YNl0T9hdIHjKV3RP0py92UiOc8/AE/+TzDazj/ZGNxPhWLOP3CIPc+OXs4/2u5vRQKPzT+ZjXSvrIvNP4daKOq/R80/vpUFBgxTzD9hEHnr4RHMPzLuCS2+T8s/LG/DMB5Gyz/4J7rIbCLLPwLoSuyVicg/ROjHS4LNxj/SFRAFDYfGP8SAEUubEcY/JFRQAum3xD8DBBMs1K7EP+Zl/JJJc8Q/e6SkCbpfxD/V5NOCKbXCP8Bu2oqc98E/HhHau/HqwT+fZT5R5WG/P63brW0ROb8/eYmkDWlXvj8KcAx3/U2+Pz+xtMzp1rs/9FottAFbuj9EGbaZ+9W5Pxf0xERDLrg/YAoDTsq7tT9jSY7uO158P8ZDgFjYkWM/",
          "dtype": "f8"
         },
         "yaxis": "y"
        }
       ],
       "layout": {
        "barmode": "relative",
        "height": 500,
        "legend": {
         "tracegroupgap": 0
        },
        "template": {
         "data": {
          "bar": [
           {
            "error_x": {
             "color": "#f2f5fa"
            },
            "error_y": {
             "color": "#f2f5fa"
            },
            "marker": {
             "line": {
              "color": "rgb(17,17,17)",
              "width": 0.5
             },
             "pattern": {
              "fillmode": "overlay",
              "size": 10,
              "solidity": 0.2
             }
            },
            "type": "bar"
           }
          ],
          "barpolar": [
           {
            "marker": {
             "line": {
              "color": "rgb(17,17,17)",
              "width": 0.5
             },
             "pattern": {
              "fillmode": "overlay",
              "size": 10,
              "solidity": 0.2
             }
            },
            "type": "barpolar"
           }
          ],
          "carpet": [
           {
            "aaxis": {
             "endlinecolor": "#A2B1C6",
             "gridcolor": "#506784",
             "linecolor": "#506784",
             "minorgridcolor": "#506784",
             "startlinecolor": "#A2B1C6"
            },
            "baxis": {
             "endlinecolor": "#A2B1C6",
             "gridcolor": "#506784",
             "linecolor": "#506784",
             "minorgridcolor": "#506784",
             "startlinecolor": "#A2B1C6"
            },
            "type": "carpet"
           }
          ],
          "choropleth": [
           {
            "colorbar": {
             "outlinewidth": 0,
             "ticks": ""
            },
            "type": "choropleth"
           }
          ],
          "contour": [
           {
            "colorbar": {
             "outlinewidth": 0,
             "ticks": ""
            },
            "colorscale": [
             [
              0,
              "#0d0887"
             ],
             [
              0.1111111111111111,
              "#46039f"
             ],
             [
              0.2222222222222222,
              "#7201a8"
             ],
             [
              0.3333333333333333,
              "#9c179e"
             ],
             [
              0.4444444444444444,
              "#bd3786"
             ],
             [
              0.5555555555555556,
              "#d8576b"
             ],
             [
              0.6666666666666666,
              "#ed7953"
             ],
             [
              0.7777777777777778,
              "#fb9f3a"
             ],
             [
              0.8888888888888888,
              "#fdca26"
             ],
             [
              1,
              "#f0f921"
             ]
            ],
            "type": "contour"
           }
          ],
          "contourcarpet": [
           {
            "colorbar": {
             "outlinewidth": 0,
             "ticks": ""
            },
            "type": "contourcarpet"
           }
          ],
          "heatmap": [
           {
            "colorbar": {
             "outlinewidth": 0,
             "ticks": ""
            },
            "colorscale": [
             [
              0,
              "#0d0887"
             ],
             [
              0.1111111111111111,
              "#46039f"
             ],
             [
              0.2222222222222222,
              "#7201a8"
             ],
             [
              0.3333333333333333,
              "#9c179e"
             ],
             [
              0.4444444444444444,
              "#bd3786"
             ],
             [
              0.5555555555555556,
              "#d8576b"
             ],
             [
              0.6666666666666666,
              "#ed7953"
             ],
             [
              0.7777777777777778,
              "#fb9f3a"
             ],
             [
              0.8888888888888888,
              "#fdca26"
             ],
             [
              1,
              "#f0f921"
             ]
            ],
            "type": "heatmap"
           }
          ],
          "histogram": [
           {
            "marker": {
             "pattern": {
              "fillmode": "overlay",
              "size": 10,
              "solidity": 0.2
             }
            },
            "type": "histogram"
           }
          ],
          "histogram2d": [
           {
            "colorbar": {
             "outlinewidth": 0,
             "ticks": ""
            },
            "colorscale": [
             [
              0,
              "#0d0887"
             ],
             [
              0.1111111111111111,
              "#46039f"
             ],
             [
              0.2222222222222222,
              "#7201a8"
             ],
             [
              0.3333333333333333,
              "#9c179e"
             ],
             [
              0.4444444444444444,
              "#bd3786"
             ],
             [
              0.5555555555555556,
              "#d8576b"
             ],
             [
              0.6666666666666666,
              "#ed7953"
             ],
             [
              0.7777777777777778,
              "#fb9f3a"
             ],
             [
              0.8888888888888888,
              "#fdca26"
             ],
             [
              1,
              "#f0f921"
             ]
            ],
            "type": "histogram2d"
           }
          ],
          "histogram2dcontour": [
           {
            "colorbar": {
             "outlinewidth": 0,
             "ticks": ""
            },
            "colorscale": [
             [
              0,
              "#0d0887"
             ],
             [
              0.1111111111111111,
              "#46039f"
             ],
             [
              0.2222222222222222,
              "#7201a8"
             ],
             [
              0.3333333333333333,
              "#9c179e"
             ],
             [
              0.4444444444444444,
              "#bd3786"
             ],
             [
              0.5555555555555556,
              "#d8576b"
             ],
             [
              0.6666666666666666,
              "#ed7953"
             ],
             [
              0.7777777777777778,
              "#fb9f3a"
             ],
             [
              0.8888888888888888,
              "#fdca26"
             ],
             [
              1,
              "#f0f921"
             ]
            ],
            "type": "histogram2dcontour"
           }
          ],
          "mesh3d": [
           {
            "colorbar": {
             "outlinewidth": 0,
             "ticks": ""
            },
            "type": "mesh3d"
           }
          ],
          "parcoords": [
           {
            "line": {
             "colorbar": {
              "outlinewidth": 0,
              "ticks": ""
             }
            },
            "type": "parcoords"
           }
          ],
          "pie": [
           {
            "automargin": true,
            "type": "pie"
           }
          ],
          "scatter": [
           {
            "marker": {
             "line": {
              "color": "#283442"
             }
            },
            "type": "scatter"
           }
          ],
          "scatter3d": [
           {
            "line": {
             "colorbar": {
              "outlinewidth": 0,
              "ticks": ""
             }
            },
            "marker": {
             "colorbar": {
              "outlinewidth": 0,
              "ticks": ""
             }
            },
            "type": "scatter3d"
           }
          ],
          "scattercarpet": [
           {
            "marker": {
             "colorbar": {
              "outlinewidth": 0,
              "ticks": ""
             }
            },
            "type": "scattercarpet"
           }
          ],
          "scattergeo": [
           {
            "marker": {
             "colorbar": {
              "outlinewidth": 0,
              "ticks": ""
             }
            },
            "type": "scattergeo"
           }
          ],
          "scattergl": [
           {
            "marker": {
             "line": {
              "color": "#283442"
             }
            },
            "type": "scattergl"
           }
          ],
          "scattermap": [
           {
            "marker": {
             "colorbar": {
              "outlinewidth": 0,
              "ticks": ""
             }
            },
            "type": "scattermap"
           }
          ],
          "scattermapbox": [
           {
            "marker": {
             "colorbar": {
              "outlinewidth": 0,
              "ticks": ""
             }
            },
            "type": "scattermapbox"
           }
          ],
          "scatterpolar": [
           {
            "marker": {
             "colorbar": {
              "outlinewidth": 0,
              "ticks": ""
             }
            },
            "type": "scatterpolar"
           }
          ],
          "scatterpolargl": [
           {
            "marker": {
             "colorbar": {
              "outlinewidth": 0,
              "ticks": ""
             }
            },
            "type": "scatterpolargl"
           }
          ],
          "scatterternary": [
           {
            "marker": {
             "colorbar": {
              "outlinewidth": 0,
              "ticks": ""
             }
            },
            "type": "scatterternary"
           }
          ],
          "surface": [
           {
            "colorbar": {
             "outlinewidth": 0,
             "ticks": ""
            },
            "colorscale": [
             [
              0,
              "#0d0887"
             ],
             [
              0.1111111111111111,
              "#46039f"
             ],
             [
              0.2222222222222222,
              "#7201a8"
             ],
             [
              0.3333333333333333,
              "#9c179e"
             ],
             [
              0.4444444444444444,
              "#bd3786"
             ],
             [
              0.5555555555555556,
              "#d8576b"
             ],
             [
              0.6666666666666666,
              "#ed7953"
             ],
             [
              0.7777777777777778,
              "#fb9f3a"
             ],
             [
              0.8888888888888888,
              "#fdca26"
             ],
             [
              1,
              "#f0f921"
             ]
            ],
            "type": "surface"
           }
          ],
          "table": [
           {
            "cells": {
             "fill": {
              "color": "#506784"
             },
             "line": {
              "color": "rgb(17,17,17)"
             }
            },
            "header": {
             "fill": {
              "color": "#2a3f5f"
             },
             "line": {
              "color": "rgb(17,17,17)"
             }
            },
            "type": "table"
           }
          ]
         },
         "layout": {
          "annotationdefaults": {
           "arrowcolor": "#f2f5fa",
           "arrowhead": 0,
           "arrowwidth": 1
          },
          "autotypenumbers": "strict",
          "coloraxis": {
           "colorbar": {
            "outlinewidth": 0,
            "ticks": ""
           }
          },
          "colorscale": {
           "diverging": [
            [
             0,
             "#8e0152"
            ],
            [
             0.1,
             "#c51b7d"
            ],
            [
             0.2,
             "#de77ae"
            ],
            [
             0.3,
             "#f1b6da"
            ],
            [
             0.4,
             "#fde0ef"
            ],
            [
             0.5,
             "#f7f7f7"
            ],
            [
             0.6,
             "#e6f5d0"
            ],
            [
             0.7,
             "#b8e186"
            ],
            [
             0.8,
             "#7fbc41"
            ],
            [
             0.9,
             "#4d9221"
            ],
            [
             1,
             "#276419"
            ]
           ],
           "sequential": [
            [
             0,
             "#0d0887"
            ],
            [
             0.1111111111111111,
             "#46039f"
            ],
            [
             0.2222222222222222,
             "#7201a8"
            ],
            [
             0.3333333333333333,
             "#9c179e"
            ],
            [
             0.4444444444444444,
             "#bd3786"
            ],
            [
             0.5555555555555556,
             "#d8576b"
            ],
            [
             0.6666666666666666,
             "#ed7953"
            ],
            [
             0.7777777777777778,
             "#fb9f3a"
            ],
            [
             0.8888888888888888,
             "#fdca26"
            ],
            [
             1,
             "#f0f921"
            ]
           ],
           "sequentialminus": [
            [
             0,
             "#0d0887"
            ],
            [
             0.1111111111111111,
             "#46039f"
            ],
            [
             0.2222222222222222,
             "#7201a8"
            ],
            [
             0.3333333333333333,
             "#9c179e"
            ],
            [
             0.4444444444444444,
             "#bd3786"
            ],
            [
             0.5555555555555556,
             "#d8576b"
            ],
            [
             0.6666666666666666,
             "#ed7953"
            ],
            [
             0.7777777777777778,
             "#fb9f3a"
            ],
            [
             0.8888888888888888,
             "#fdca26"
            ],
            [
             1,
             "#f0f921"
            ]
           ]
          },
          "colorway": [
           "#636efa",
           "#EF553B",
           "#00cc96",
           "#ab63fa",
           "#FFA15A",
           "#19d3f3",
           "#FF6692",
           "#B6E880",
           "#FF97FF",
           "#FECB52"
          ],
          "font": {
           "color": "#f2f5fa"
          },
          "geo": {
           "bgcolor": "rgb(17,17,17)",
           "lakecolor": "rgb(17,17,17)",
           "landcolor": "rgb(17,17,17)",
           "showlakes": true,
           "showland": true,
           "subunitcolor": "#506784"
          },
          "hoverlabel": {
           "align": "left"
          },
          "hovermode": "closest",
          "mapbox": {
           "style": "dark"
          },
          "paper_bgcolor": "rgb(17,17,17)",
          "plot_bgcolor": "rgb(17,17,17)",
          "polar": {
           "angularaxis": {
            "gridcolor": "#506784",
            "linecolor": "#506784",
            "ticks": ""
           },
           "bgcolor": "rgb(17,17,17)",
           "radialaxis": {
            "gridcolor": "#506784",
            "linecolor": "#506784",
            "ticks": ""
           }
          },
          "scene": {
           "xaxis": {
            "backgroundcolor": "rgb(17,17,17)",
            "gridcolor": "#506784",
            "gridwidth": 2,
            "linecolor": "#506784",
            "showbackground": true,
            "ticks": "",
            "zerolinecolor": "#C8D4E3"
           },
           "yaxis": {
            "backgroundcolor": "rgb(17,17,17)",
            "gridcolor": "#506784",
            "gridwidth": 2,
            "linecolor": "#506784",
            "showbackground": true,
            "ticks": "",
            "zerolinecolor": "#C8D4E3"
           },
           "zaxis": {
            "backgroundcolor": "rgb(17,17,17)",
            "gridcolor": "#506784",
            "gridwidth": 2,
            "linecolor": "#506784",
            "showbackground": true,
            "ticks": "",
            "zerolinecolor": "#C8D4E3"
           }
          },
          "shapedefaults": {
           "line": {
            "color": "#f2f5fa"
           }
          },
          "sliderdefaults": {
           "bgcolor": "#C8D4E3",
           "bordercolor": "rgb(17,17,17)",
           "borderwidth": 1,
           "tickwidth": 0
          },
          "ternary": {
           "aaxis": {
            "gridcolor": "#506784",
            "linecolor": "#506784",
            "ticks": ""
           },
           "baxis": {
            "gridcolor": "#506784",
            "linecolor": "#506784",
            "ticks": ""
           },
           "bgcolor": "rgb(17,17,17)",
           "caxis": {
            "gridcolor": "#506784",
            "linecolor": "#506784",
            "ticks": ""
           }
          },
          "title": {
           "x": 0.05
          },
          "updatemenudefaults": {
           "bgcolor": "#506784",
           "borderwidth": 0
          },
          "xaxis": {
           "automargin": true,
           "gridcolor": "#283442",
           "linecolor": "#506784",
           "ticks": "",
           "title": {
            "standoff": 15
           },
           "zerolinecolor": "#283442",
           "zerolinewidth": 2
          },
          "yaxis": {
           "automargin": true,
           "gridcolor": "#283442",
           "linecolor": "#506784",
           "ticks": "",
           "title": {
            "standoff": 15
           },
           "zerolinecolor": "#283442",
           "zerolinewidth": 2
          }
         }
        },
        "title": {
         "text": "🔎 Correlation to TOP_20 — Season 2021"
        },
        "width": 1000,
        "xaxis": {
         "anchor": "y",
         "domain": [
          0,
          1
         ],
         "tickangle": -45,
         "title": {
          "text": "Feature"
         }
        },
        "yaxis": {
         "anchor": "x",
         "domain": [
          0,
          1
         ],
         "title": {
          "text": "Absolute Correlation to TOP_20"
         }
        }
       }
      }
     },
     "metadata": {},
     "output_type": "display_data"
    },
    {
     "data": {
      "application/vnd.plotly.v1+json": {
       "config": {
        "plotlyServerURL": "https://plot.ly"
       },
       "data": [
        {
         "hovertemplate": "Feature=%{x}<br>Correlation=%{y}<extra></extra>",
         "legendgroup": "",
         "marker": {
          "color": "#636efa",
          "pattern": {
           "shape": ""
          }
         },
         "name": "",
         "orientation": "v",
         "showlegend": false,
         "textposition": "auto",
         "type": "bar",
         "x": [
          "OWGR",
          "OWGR_RANK",
          "FEDEX_CUP_POINTS",
          "SGTTG",
          "SGTTG_RANK",
          "VEGAS_ODDS",
          "form_density",
          "PAR_4",
          "PAR_4_RANK",
          "SCRAMBLING_RANK",
          "SCRAMBLING",
          "PAR_3",
          "RECENT_FORM",
          "PAR_3_RANK",
          "SGAPR",
          "SGATG",
          "SGATG_RANK",
          "SGP_RANK",
          "SGP",
          "BIRDIES",
          "SGAPR_RANK",
          "adj_form",
          "BIRDIES_RANK",
          "SGOTT_RANK",
          "SGOTT",
          "PAR_5_RANK",
          "PAR_5",
          "COURSE_HISTORY",
          "CUT_PERCENTAGE",
          "adj_ch",
          "GIR",
          "CONSECUTIVE_CUTS",
          "GIR_RANK",
          "TOTAL_DRIVING_RANK",
          "DRIVING_DISTANCE",
          "DRIVING_ACCURACY",
          "DRIVING_ACCURACY_RANK",
          "TOTAL_DRIVING",
          "DRIVING_DISTANCE_RANK"
         ],
         "xaxis": "x",
         "y": {
          "bdata": "w6Cy63Ev1j9uR+ZzRv3RP/VfWGMyac8/LWcTPx8lzz+BUj6yXkrMP1i2dBnUGcw/EKaI1zaKyT9aH8TLo4DJP18vbrGiMMk/1WWyUioQyT/vSAp9Qb/IP5uTMZlVjsc/DCfFcE5qxz/e1cQJ4VXHP6gZa86Bs8Y/tnnztZfLxT+d02GYLXTFPw0d7BPcZ8Q/5l0I3Wzywz+6Gdv9savDP3PywmNFecM/me4LxW44wz99YZivtc/CP2NtRvhhr8I/tWEqf88JwD//RGBRroG/P5bJ3M0Wdr8/1J+ocDZvvT94foNd4SG9P/2ijaDGYLI/HIx/yY/isD/W7n8uLRSvP1GHXg3LR6s/GMZfpR/doj8cepC+oiueP4gHBLvTwYo/xc7ywa9cgz/IE7LBza6CPz5lPPpMImA/",
          "dtype": "f8"
         },
         "yaxis": "y"
        }
       ],
       "layout": {
        "barmode": "relative",
        "height": 500,
        "legend": {
         "tracegroupgap": 0
        },
        "template": {
         "data": {
          "bar": [
           {
            "error_x": {
             "color": "#f2f5fa"
            },
            "error_y": {
             "color": "#f2f5fa"
            },
            "marker": {
             "line": {
              "color": "rgb(17,17,17)",
              "width": 0.5
             },
             "pattern": {
              "fillmode": "overlay",
              "size": 10,
              "solidity": 0.2
             }
            },
            "type": "bar"
           }
          ],
          "barpolar": [
           {
            "marker": {
             "line": {
              "color": "rgb(17,17,17)",
              "width": 0.5
             },
             "pattern": {
              "fillmode": "overlay",
              "size": 10,
              "solidity": 0.2
             }
            },
            "type": "barpolar"
           }
          ],
          "carpet": [
           {
            "aaxis": {
             "endlinecolor": "#A2B1C6",
             "gridcolor": "#506784",
             "linecolor": "#506784",
             "minorgridcolor": "#506784",
             "startlinecolor": "#A2B1C6"
            },
            "baxis": {
             "endlinecolor": "#A2B1C6",
             "gridcolor": "#506784",
             "linecolor": "#506784",
             "minorgridcolor": "#506784",
             "startlinecolor": "#A2B1C6"
            },
            "type": "carpet"
           }
          ],
          "choropleth": [
           {
            "colorbar": {
             "outlinewidth": 0,
             "ticks": ""
            },
            "type": "choropleth"
           }
          ],
          "contour": [
           {
            "colorbar": {
             "outlinewidth": 0,
             "ticks": ""
            },
            "colorscale": [
             [
              0,
              "#0d0887"
             ],
             [
              0.1111111111111111,
              "#46039f"
             ],
             [
              0.2222222222222222,
              "#7201a8"
             ],
             [
              0.3333333333333333,
              "#9c179e"
             ],
             [
              0.4444444444444444,
              "#bd3786"
             ],
             [
              0.5555555555555556,
              "#d8576b"
             ],
             [
              0.6666666666666666,
              "#ed7953"
             ],
             [
              0.7777777777777778,
              "#fb9f3a"
             ],
             [
              0.8888888888888888,
              "#fdca26"
             ],
             [
              1,
              "#f0f921"
             ]
            ],
            "type": "contour"
           }
          ],
          "contourcarpet": [
           {
            "colorbar": {
             "outlinewidth": 0,
             "ticks": ""
            },
            "type": "contourcarpet"
           }
          ],
          "heatmap": [
           {
            "colorbar": {
             "outlinewidth": 0,
             "ticks": ""
            },
            "colorscale": [
             [
              0,
              "#0d0887"
             ],
             [
              0.1111111111111111,
              "#46039f"
             ],
             [
              0.2222222222222222,
              "#7201a8"
             ],
             [
              0.3333333333333333,
              "#9c179e"
             ],
             [
              0.4444444444444444,
              "#bd3786"
             ],
             [
              0.5555555555555556,
              "#d8576b"
             ],
             [
              0.6666666666666666,
              "#ed7953"
             ],
             [
              0.7777777777777778,
              "#fb9f3a"
             ],
             [
              0.8888888888888888,
              "#fdca26"
             ],
             [
              1,
              "#f0f921"
             ]
            ],
            "type": "heatmap"
           }
          ],
          "histogram": [
           {
            "marker": {
             "pattern": {
              "fillmode": "overlay",
              "size": 10,
              "solidity": 0.2
             }
            },
            "type": "histogram"
           }
          ],
          "histogram2d": [
           {
            "colorbar": {
             "outlinewidth": 0,
             "ticks": ""
            },
            "colorscale": [
             [
              0,
              "#0d0887"
             ],
             [
              0.1111111111111111,
              "#46039f"
             ],
             [
              0.2222222222222222,
              "#7201a8"
             ],
             [
              0.3333333333333333,
              "#9c179e"
             ],
             [
              0.4444444444444444,
              "#bd3786"
             ],
             [
              0.5555555555555556,
              "#d8576b"
             ],
             [
              0.6666666666666666,
              "#ed7953"
             ],
             [
              0.7777777777777778,
              "#fb9f3a"
             ],
             [
              0.8888888888888888,
              "#fdca26"
             ],
             [
              1,
              "#f0f921"
             ]
            ],
            "type": "histogram2d"
           }
          ],
          "histogram2dcontour": [
           {
            "colorbar": {
             "outlinewidth": 0,
             "ticks": ""
            },
            "colorscale": [
             [
              0,
              "#0d0887"
             ],
             [
              0.1111111111111111,
              "#46039f"
             ],
             [
              0.2222222222222222,
              "#7201a8"
             ],
             [
              0.3333333333333333,
              "#9c179e"
             ],
             [
              0.4444444444444444,
              "#bd3786"
             ],
             [
              0.5555555555555556,
              "#d8576b"
             ],
             [
              0.6666666666666666,
              "#ed7953"
             ],
             [
              0.7777777777777778,
              "#fb9f3a"
             ],
             [
              0.8888888888888888,
              "#fdca26"
             ],
             [
              1,
              "#f0f921"
             ]
            ],
            "type": "histogram2dcontour"
           }
          ],
          "mesh3d": [
           {
            "colorbar": {
             "outlinewidth": 0,
             "ticks": ""
            },
            "type": "mesh3d"
           }
          ],
          "parcoords": [
           {
            "line": {
             "colorbar": {
              "outlinewidth": 0,
              "ticks": ""
             }
            },
            "type": "parcoords"
           }
          ],
          "pie": [
           {
            "automargin": true,
            "type": "pie"
           }
          ],
          "scatter": [
           {
            "marker": {
             "line": {
              "color": "#283442"
             }
            },
            "type": "scatter"
           }
          ],
          "scatter3d": [
           {
            "line": {
             "colorbar": {
              "outlinewidth": 0,
              "ticks": ""
             }
            },
            "marker": {
             "colorbar": {
              "outlinewidth": 0,
              "ticks": ""
             }
            },
            "type": "scatter3d"
           }
          ],
          "scattercarpet": [
           {
            "marker": {
             "colorbar": {
              "outlinewidth": 0,
              "ticks": ""
             }
            },
            "type": "scattercarpet"
           }
          ],
          "scattergeo": [
           {
            "marker": {
             "colorbar": {
              "outlinewidth": 0,
              "ticks": ""
             }
            },
            "type": "scattergeo"
           }
          ],
          "scattergl": [
           {
            "marker": {
             "line": {
              "color": "#283442"
             }
            },
            "type": "scattergl"
           }
          ],
          "scattermap": [
           {
            "marker": {
             "colorbar": {
              "outlinewidth": 0,
              "ticks": ""
             }
            },
            "type": "scattermap"
           }
          ],
          "scattermapbox": [
           {
            "marker": {
             "colorbar": {
              "outlinewidth": 0,
              "ticks": ""
             }
            },
            "type": "scattermapbox"
           }
          ],
          "scatterpolar": [
           {
            "marker": {
             "colorbar": {
              "outlinewidth": 0,
              "ticks": ""
             }
            },
            "type": "scatterpolar"
           }
          ],
          "scatterpolargl": [
           {
            "marker": {
             "colorbar": {
              "outlinewidth": 0,
              "ticks": ""
             }
            },
            "type": "scatterpolargl"
           }
          ],
          "scatterternary": [
           {
            "marker": {
             "colorbar": {
              "outlinewidth": 0,
              "ticks": ""
             }
            },
            "type": "scatterternary"
           }
          ],
          "surface": [
           {
            "colorbar": {
             "outlinewidth": 0,
             "ticks": ""
            },
            "colorscale": [
             [
              0,
              "#0d0887"
             ],
             [
              0.1111111111111111,
              "#46039f"
             ],
             [
              0.2222222222222222,
              "#7201a8"
             ],
             [
              0.3333333333333333,
              "#9c179e"
             ],
             [
              0.4444444444444444,
              "#bd3786"
             ],
             [
              0.5555555555555556,
              "#d8576b"
             ],
             [
              0.6666666666666666,
              "#ed7953"
             ],
             [
              0.7777777777777778,
              "#fb9f3a"
             ],
             [
              0.8888888888888888,
              "#fdca26"
             ],
             [
              1,
              "#f0f921"
             ]
            ],
            "type": "surface"
           }
          ],
          "table": [
           {
            "cells": {
             "fill": {
              "color": "#506784"
             },
             "line": {
              "color": "rgb(17,17,17)"
             }
            },
            "header": {
             "fill": {
              "color": "#2a3f5f"
             },
             "line": {
              "color": "rgb(17,17,17)"
             }
            },
            "type": "table"
           }
          ]
         },
         "layout": {
          "annotationdefaults": {
           "arrowcolor": "#f2f5fa",
           "arrowhead": 0,
           "arrowwidth": 1
          },
          "autotypenumbers": "strict",
          "coloraxis": {
           "colorbar": {
            "outlinewidth": 0,
            "ticks": ""
           }
          },
          "colorscale": {
           "diverging": [
            [
             0,
             "#8e0152"
            ],
            [
             0.1,
             "#c51b7d"
            ],
            [
             0.2,
             "#de77ae"
            ],
            [
             0.3,
             "#f1b6da"
            ],
            [
             0.4,
             "#fde0ef"
            ],
            [
             0.5,
             "#f7f7f7"
            ],
            [
             0.6,
             "#e6f5d0"
            ],
            [
             0.7,
             "#b8e186"
            ],
            [
             0.8,
             "#7fbc41"
            ],
            [
             0.9,
             "#4d9221"
            ],
            [
             1,
             "#276419"
            ]
           ],
           "sequential": [
            [
             0,
             "#0d0887"
            ],
            [
             0.1111111111111111,
             "#46039f"
            ],
            [
             0.2222222222222222,
             "#7201a8"
            ],
            [
             0.3333333333333333,
             "#9c179e"
            ],
            [
             0.4444444444444444,
             "#bd3786"
            ],
            [
             0.5555555555555556,
             "#d8576b"
            ],
            [
             0.6666666666666666,
             "#ed7953"
            ],
            [
             0.7777777777777778,
             "#fb9f3a"
            ],
            [
             0.8888888888888888,
             "#fdca26"
            ],
            [
             1,
             "#f0f921"
            ]
           ],
           "sequentialminus": [
            [
             0,
             "#0d0887"
            ],
            [
             0.1111111111111111,
             "#46039f"
            ],
            [
             0.2222222222222222,
             "#7201a8"
            ],
            [
             0.3333333333333333,
             "#9c179e"
            ],
            [
             0.4444444444444444,
             "#bd3786"
            ],
            [
             0.5555555555555556,
             "#d8576b"
            ],
            [
             0.6666666666666666,
             "#ed7953"
            ],
            [
             0.7777777777777778,
             "#fb9f3a"
            ],
            [
             0.8888888888888888,
             "#fdca26"
            ],
            [
             1,
             "#f0f921"
            ]
           ]
          },
          "colorway": [
           "#636efa",
           "#EF553B",
           "#00cc96",
           "#ab63fa",
           "#FFA15A",
           "#19d3f3",
           "#FF6692",
           "#B6E880",
           "#FF97FF",
           "#FECB52"
          ],
          "font": {
           "color": "#f2f5fa"
          },
          "geo": {
           "bgcolor": "rgb(17,17,17)",
           "lakecolor": "rgb(17,17,17)",
           "landcolor": "rgb(17,17,17)",
           "showlakes": true,
           "showland": true,
           "subunitcolor": "#506784"
          },
          "hoverlabel": {
           "align": "left"
          },
          "hovermode": "closest",
          "mapbox": {
           "style": "dark"
          },
          "paper_bgcolor": "rgb(17,17,17)",
          "plot_bgcolor": "rgb(17,17,17)",
          "polar": {
           "angularaxis": {
            "gridcolor": "#506784",
            "linecolor": "#506784",
            "ticks": ""
           },
           "bgcolor": "rgb(17,17,17)",
           "radialaxis": {
            "gridcolor": "#506784",
            "linecolor": "#506784",
            "ticks": ""
           }
          },
          "scene": {
           "xaxis": {
            "backgroundcolor": "rgb(17,17,17)",
            "gridcolor": "#506784",
            "gridwidth": 2,
            "linecolor": "#506784",
            "showbackground": true,
            "ticks": "",
            "zerolinecolor": "#C8D4E3"
           },
           "yaxis": {
            "backgroundcolor": "rgb(17,17,17)",
            "gridcolor": "#506784",
            "gridwidth": 2,
            "linecolor": "#506784",
            "showbackground": true,
            "ticks": "",
            "zerolinecolor": "#C8D4E3"
           },
           "zaxis": {
            "backgroundcolor": "rgb(17,17,17)",
            "gridcolor": "#506784",
            "gridwidth": 2,
            "linecolor": "#506784",
            "showbackground": true,
            "ticks": "",
            "zerolinecolor": "#C8D4E3"
           }
          },
          "shapedefaults": {
           "line": {
            "color": "#f2f5fa"
           }
          },
          "sliderdefaults": {
           "bgcolor": "#C8D4E3",
           "bordercolor": "rgb(17,17,17)",
           "borderwidth": 1,
           "tickwidth": 0
          },
          "ternary": {
           "aaxis": {
            "gridcolor": "#506784",
            "linecolor": "#506784",
            "ticks": ""
           },
           "baxis": {
            "gridcolor": "#506784",
            "linecolor": "#506784",
            "ticks": ""
           },
           "bgcolor": "rgb(17,17,17)",
           "caxis": {
            "gridcolor": "#506784",
            "linecolor": "#506784",
            "ticks": ""
           }
          },
          "title": {
           "x": 0.05
          },
          "updatemenudefaults": {
           "bgcolor": "#506784",
           "borderwidth": 0
          },
          "xaxis": {
           "automargin": true,
           "gridcolor": "#283442",
           "linecolor": "#506784",
           "ticks": "",
           "title": {
            "standoff": 15
           },
           "zerolinecolor": "#283442",
           "zerolinewidth": 2
          },
          "yaxis": {
           "automargin": true,
           "gridcolor": "#283442",
           "linecolor": "#506784",
           "ticks": "",
           "title": {
            "standoff": 15
           },
           "zerolinecolor": "#283442",
           "zerolinewidth": 2
          }
         }
        },
        "title": {
         "text": "🔎 Correlation to TOP_20 — Season 2023"
        },
        "width": 1000,
        "xaxis": {
         "anchor": "y",
         "domain": [
          0,
          1
         ],
         "tickangle": -45,
         "title": {
          "text": "Feature"
         }
        },
        "yaxis": {
         "anchor": "x",
         "domain": [
          0,
          1
         ],
         "title": {
          "text": "Absolute Correlation to TOP_20"
         }
        }
       }
      }
     },
     "metadata": {},
     "output_type": "display_data"
    },
    {
     "data": {
      "application/vnd.plotly.v1+json": {
       "config": {
        "plotlyServerURL": "https://plot.ly"
       },
       "data": [
        {
         "hovertemplate": "Feature=%{x}<br>Correlation=%{y}<extra></extra>",
         "legendgroup": "",
         "marker": {
          "color": "#636efa",
          "pattern": {
           "shape": ""
          }
         },
         "name": "",
         "orientation": "v",
         "showlegend": false,
         "textposition": "auto",
         "type": "bar",
         "x": [
          "OWGR",
          "RECENT_FORM",
          "CUT_PERCENTAGE",
          "SGTTG",
          "SGTTG_RANK",
          "SGAPR",
          "FEDEX_CUP_POINTS",
          "SGAPR_RANK",
          "BIRDIES",
          "VEGAS_ODDS",
          "BIRDIES_RANK",
          "OWGR_RANK",
          "form_density",
          "COURSE_HISTORY",
          "PAR_5",
          "SGOTT",
          "SGOTT_RANK",
          "PAR_5_RANK",
          "adj_form",
          "TOTAL_DRIVING_RANK",
          "TOTAL_DRIVING",
          "PAR_4",
          "PAR_4_RANK",
          "DRIVING_DISTANCE",
          "adj_ch",
          "PAR_3",
          "DRIVING_ACCURACY",
          "SCRAMBLING",
          "DRIVING_DISTANCE_RANK",
          "SGATG",
          "SCRAMBLING_RANK",
          "DRIVING_ACCURACY_RANK",
          "PAR_3_RANK",
          "GIR",
          "GIR_RANK",
          "SGP",
          "CONSECUTIVE_CUTS",
          "SGP_RANK",
          "SGATG_RANK"
         ],
         "xaxis": "x",
         "y": {
          "bdata": "Iuwscyy40z+gUrjOc4rSP0LUfXX0GNA/SSFeQlLnyT/55zmSA1zIPxJZIT2jHcc/6w5faSmPxj+QM97QX8HFP620E4RDysQ/GKQUas+jxD9srjgb6jrEP/u5hJgI8sM/5rAP8KpUwj/NtYLiQkHCPyniJT4wxMA/ept9eT0pwD+gbEDmEvq9Pzc8SBaQub0/Mi70N3VtvT9NTZI0fum8P+neiLx+Abw/sJ0Hwscduj/DMM24rby0P3dTyX4rCLE/tn6/9MZQsD+4VZjdtTGwP7KX7rQOx68/4axtfgaDrj+wOtp9762tPxDB/qojSqw/Q3/2T6l2qz/j3bhCg56jPxtkm9dnZqM/SFJreF3toT/jClrCxcKeP7MCY+AKgZk/huXOSEJlmT95cxhyi1aVPz3pTNjyW5E/",
          "dtype": "f8"
         },
         "yaxis": "y"
        }
       ],
       "layout": {
        "barmode": "relative",
        "height": 500,
        "legend": {
         "tracegroupgap": 0
        },
        "template": {
         "data": {
          "bar": [
           {
            "error_x": {
             "color": "#f2f5fa"
            },
            "error_y": {
             "color": "#f2f5fa"
            },
            "marker": {
             "line": {
              "color": "rgb(17,17,17)",
              "width": 0.5
             },
             "pattern": {
              "fillmode": "overlay",
              "size": 10,
              "solidity": 0.2
             }
            },
            "type": "bar"
           }
          ],
          "barpolar": [
           {
            "marker": {
             "line": {
              "color": "rgb(17,17,17)",
              "width": 0.5
             },
             "pattern": {
              "fillmode": "overlay",
              "size": 10,
              "solidity": 0.2
             }
            },
            "type": "barpolar"
           }
          ],
          "carpet": [
           {
            "aaxis": {
             "endlinecolor": "#A2B1C6",
             "gridcolor": "#506784",
             "linecolor": "#506784",
             "minorgridcolor": "#506784",
             "startlinecolor": "#A2B1C6"
            },
            "baxis": {
             "endlinecolor": "#A2B1C6",
             "gridcolor": "#506784",
             "linecolor": "#506784",
             "minorgridcolor": "#506784",
             "startlinecolor": "#A2B1C6"
            },
            "type": "carpet"
           }
          ],
          "choropleth": [
           {
            "colorbar": {
             "outlinewidth": 0,
             "ticks": ""
            },
            "type": "choropleth"
           }
          ],
          "contour": [
           {
            "colorbar": {
             "outlinewidth": 0,
             "ticks": ""
            },
            "colorscale": [
             [
              0,
              "#0d0887"
             ],
             [
              0.1111111111111111,
              "#46039f"
             ],
             [
              0.2222222222222222,
              "#7201a8"
             ],
             [
              0.3333333333333333,
              "#9c179e"
             ],
             [
              0.4444444444444444,
              "#bd3786"
             ],
             [
              0.5555555555555556,
              "#d8576b"
             ],
             [
              0.6666666666666666,
              "#ed7953"
             ],
             [
              0.7777777777777778,
              "#fb9f3a"
             ],
             [
              0.8888888888888888,
              "#fdca26"
             ],
             [
              1,
              "#f0f921"
             ]
            ],
            "type": "contour"
           }
          ],
          "contourcarpet": [
           {
            "colorbar": {
             "outlinewidth": 0,
             "ticks": ""
            },
            "type": "contourcarpet"
           }
          ],
          "heatmap": [
           {
            "colorbar": {
             "outlinewidth": 0,
             "ticks": ""
            },
            "colorscale": [
             [
              0,
              "#0d0887"
             ],
             [
              0.1111111111111111,
              "#46039f"
             ],
             [
              0.2222222222222222,
              "#7201a8"
             ],
             [
              0.3333333333333333,
              "#9c179e"
             ],
             [
              0.4444444444444444,
              "#bd3786"
             ],
             [
              0.5555555555555556,
              "#d8576b"
             ],
             [
              0.6666666666666666,
              "#ed7953"
             ],
             [
              0.7777777777777778,
              "#fb9f3a"
             ],
             [
              0.8888888888888888,
              "#fdca26"
             ],
             [
              1,
              "#f0f921"
             ]
            ],
            "type": "heatmap"
           }
          ],
          "histogram": [
           {
            "marker": {
             "pattern": {
              "fillmode": "overlay",
              "size": 10,
              "solidity": 0.2
             }
            },
            "type": "histogram"
           }
          ],
          "histogram2d": [
           {
            "colorbar": {
             "outlinewidth": 0,
             "ticks": ""
            },
            "colorscale": [
             [
              0,
              "#0d0887"
             ],
             [
              0.1111111111111111,
              "#46039f"
             ],
             [
              0.2222222222222222,
              "#7201a8"
             ],
             [
              0.3333333333333333,
              "#9c179e"
             ],
             [
              0.4444444444444444,
              "#bd3786"
             ],
             [
              0.5555555555555556,
              "#d8576b"
             ],
             [
              0.6666666666666666,
              "#ed7953"
             ],
             [
              0.7777777777777778,
              "#fb9f3a"
             ],
             [
              0.8888888888888888,
              "#fdca26"
             ],
             [
              1,
              "#f0f921"
             ]
            ],
            "type": "histogram2d"
           }
          ],
          "histogram2dcontour": [
           {
            "colorbar": {
             "outlinewidth": 0,
             "ticks": ""
            },
            "colorscale": [
             [
              0,
              "#0d0887"
             ],
             [
              0.1111111111111111,
              "#46039f"
             ],
             [
              0.2222222222222222,
              "#7201a8"
             ],
             [
              0.3333333333333333,
              "#9c179e"
             ],
             [
              0.4444444444444444,
              "#bd3786"
             ],
             [
              0.5555555555555556,
              "#d8576b"
             ],
             [
              0.6666666666666666,
              "#ed7953"
             ],
             [
              0.7777777777777778,
              "#fb9f3a"
             ],
             [
              0.8888888888888888,
              "#fdca26"
             ],
             [
              1,
              "#f0f921"
             ]
            ],
            "type": "histogram2dcontour"
           }
          ],
          "mesh3d": [
           {
            "colorbar": {
             "outlinewidth": 0,
             "ticks": ""
            },
            "type": "mesh3d"
           }
          ],
          "parcoords": [
           {
            "line": {
             "colorbar": {
              "outlinewidth": 0,
              "ticks": ""
             }
            },
            "type": "parcoords"
           }
          ],
          "pie": [
           {
            "automargin": true,
            "type": "pie"
           }
          ],
          "scatter": [
           {
            "marker": {
             "line": {
              "color": "#283442"
             }
            },
            "type": "scatter"
           }
          ],
          "scatter3d": [
           {
            "line": {
             "colorbar": {
              "outlinewidth": 0,
              "ticks": ""
             }
            },
            "marker": {
             "colorbar": {
              "outlinewidth": 0,
              "ticks": ""
             }
            },
            "type": "scatter3d"
           }
          ],
          "scattercarpet": [
           {
            "marker": {
             "colorbar": {
              "outlinewidth": 0,
              "ticks": ""
             }
            },
            "type": "scattercarpet"
           }
          ],
          "scattergeo": [
           {
            "marker": {
             "colorbar": {
              "outlinewidth": 0,
              "ticks": ""
             }
            },
            "type": "scattergeo"
           }
          ],
          "scattergl": [
           {
            "marker": {
             "line": {
              "color": "#283442"
             }
            },
            "type": "scattergl"
           }
          ],
          "scattermap": [
           {
            "marker": {
             "colorbar": {
              "outlinewidth": 0,
              "ticks": ""
             }
            },
            "type": "scattermap"
           }
          ],
          "scattermapbox": [
           {
            "marker": {
             "colorbar": {
              "outlinewidth": 0,
              "ticks": ""
             }
            },
            "type": "scattermapbox"
           }
          ],
          "scatterpolar": [
           {
            "marker": {
             "colorbar": {
              "outlinewidth": 0,
              "ticks": ""
             }
            },
            "type": "scatterpolar"
           }
          ],
          "scatterpolargl": [
           {
            "marker": {
             "colorbar": {
              "outlinewidth": 0,
              "ticks": ""
             }
            },
            "type": "scatterpolargl"
           }
          ],
          "scatterternary": [
           {
            "marker": {
             "colorbar": {
              "outlinewidth": 0,
              "ticks": ""
             }
            },
            "type": "scatterternary"
           }
          ],
          "surface": [
           {
            "colorbar": {
             "outlinewidth": 0,
             "ticks": ""
            },
            "colorscale": [
             [
              0,
              "#0d0887"
             ],
             [
              0.1111111111111111,
              "#46039f"
             ],
             [
              0.2222222222222222,
              "#7201a8"
             ],
             [
              0.3333333333333333,
              "#9c179e"
             ],
             [
              0.4444444444444444,
              "#bd3786"
             ],
             [
              0.5555555555555556,
              "#d8576b"
             ],
             [
              0.6666666666666666,
              "#ed7953"
             ],
             [
              0.7777777777777778,
              "#fb9f3a"
             ],
             [
              0.8888888888888888,
              "#fdca26"
             ],
             [
              1,
              "#f0f921"
             ]
            ],
            "type": "surface"
           }
          ],
          "table": [
           {
            "cells": {
             "fill": {
              "color": "#506784"
             },
             "line": {
              "color": "rgb(17,17,17)"
             }
            },
            "header": {
             "fill": {
              "color": "#2a3f5f"
             },
             "line": {
              "color": "rgb(17,17,17)"
             }
            },
            "type": "table"
           }
          ]
         },
         "layout": {
          "annotationdefaults": {
           "arrowcolor": "#f2f5fa",
           "arrowhead": 0,
           "arrowwidth": 1
          },
          "autotypenumbers": "strict",
          "coloraxis": {
           "colorbar": {
            "outlinewidth": 0,
            "ticks": ""
           }
          },
          "colorscale": {
           "diverging": [
            [
             0,
             "#8e0152"
            ],
            [
             0.1,
             "#c51b7d"
            ],
            [
             0.2,
             "#de77ae"
            ],
            [
             0.3,
             "#f1b6da"
            ],
            [
             0.4,
             "#fde0ef"
            ],
            [
             0.5,
             "#f7f7f7"
            ],
            [
             0.6,
             "#e6f5d0"
            ],
            [
             0.7,
             "#b8e186"
            ],
            [
             0.8,
             "#7fbc41"
            ],
            [
             0.9,
             "#4d9221"
            ],
            [
             1,
             "#276419"
            ]
           ],
           "sequential": [
            [
             0,
             "#0d0887"
            ],
            [
             0.1111111111111111,
             "#46039f"
            ],
            [
             0.2222222222222222,
             "#7201a8"
            ],
            [
             0.3333333333333333,
             "#9c179e"
            ],
            [
             0.4444444444444444,
             "#bd3786"
            ],
            [
             0.5555555555555556,
             "#d8576b"
            ],
            [
             0.6666666666666666,
             "#ed7953"
            ],
            [
             0.7777777777777778,
             "#fb9f3a"
            ],
            [
             0.8888888888888888,
             "#fdca26"
            ],
            [
             1,
             "#f0f921"
            ]
           ],
           "sequentialminus": [
            [
             0,
             "#0d0887"
            ],
            [
             0.1111111111111111,
             "#46039f"
            ],
            [
             0.2222222222222222,
             "#7201a8"
            ],
            [
             0.3333333333333333,
             "#9c179e"
            ],
            [
             0.4444444444444444,
             "#bd3786"
            ],
            [
             0.5555555555555556,
             "#d8576b"
            ],
            [
             0.6666666666666666,
             "#ed7953"
            ],
            [
             0.7777777777777778,
             "#fb9f3a"
            ],
            [
             0.8888888888888888,
             "#fdca26"
            ],
            [
             1,
             "#f0f921"
            ]
           ]
          },
          "colorway": [
           "#636efa",
           "#EF553B",
           "#00cc96",
           "#ab63fa",
           "#FFA15A",
           "#19d3f3",
           "#FF6692",
           "#B6E880",
           "#FF97FF",
           "#FECB52"
          ],
          "font": {
           "color": "#f2f5fa"
          },
          "geo": {
           "bgcolor": "rgb(17,17,17)",
           "lakecolor": "rgb(17,17,17)",
           "landcolor": "rgb(17,17,17)",
           "showlakes": true,
           "showland": true,
           "subunitcolor": "#506784"
          },
          "hoverlabel": {
           "align": "left"
          },
          "hovermode": "closest",
          "mapbox": {
           "style": "dark"
          },
          "paper_bgcolor": "rgb(17,17,17)",
          "plot_bgcolor": "rgb(17,17,17)",
          "polar": {
           "angularaxis": {
            "gridcolor": "#506784",
            "linecolor": "#506784",
            "ticks": ""
           },
           "bgcolor": "rgb(17,17,17)",
           "radialaxis": {
            "gridcolor": "#506784",
            "linecolor": "#506784",
            "ticks": ""
           }
          },
          "scene": {
           "xaxis": {
            "backgroundcolor": "rgb(17,17,17)",
            "gridcolor": "#506784",
            "gridwidth": 2,
            "linecolor": "#506784",
            "showbackground": true,
            "ticks": "",
            "zerolinecolor": "#C8D4E3"
           },
           "yaxis": {
            "backgroundcolor": "rgb(17,17,17)",
            "gridcolor": "#506784",
            "gridwidth": 2,
            "linecolor": "#506784",
            "showbackground": true,
            "ticks": "",
            "zerolinecolor": "#C8D4E3"
           },
           "zaxis": {
            "backgroundcolor": "rgb(17,17,17)",
            "gridcolor": "#506784",
            "gridwidth": 2,
            "linecolor": "#506784",
            "showbackground": true,
            "ticks": "",
            "zerolinecolor": "#C8D4E3"
           }
          },
          "shapedefaults": {
           "line": {
            "color": "#f2f5fa"
           }
          },
          "sliderdefaults": {
           "bgcolor": "#C8D4E3",
           "bordercolor": "rgb(17,17,17)",
           "borderwidth": 1,
           "tickwidth": 0
          },
          "ternary": {
           "aaxis": {
            "gridcolor": "#506784",
            "linecolor": "#506784",
            "ticks": ""
           },
           "baxis": {
            "gridcolor": "#506784",
            "linecolor": "#506784",
            "ticks": ""
           },
           "bgcolor": "rgb(17,17,17)",
           "caxis": {
            "gridcolor": "#506784",
            "linecolor": "#506784",
            "ticks": ""
           }
          },
          "title": {
           "x": 0.05
          },
          "updatemenudefaults": {
           "bgcolor": "#506784",
           "borderwidth": 0
          },
          "xaxis": {
           "automargin": true,
           "gridcolor": "#283442",
           "linecolor": "#506784",
           "ticks": "",
           "title": {
            "standoff": 15
           },
           "zerolinecolor": "#283442",
           "zerolinewidth": 2
          },
          "yaxis": {
           "automargin": true,
           "gridcolor": "#283442",
           "linecolor": "#506784",
           "ticks": "",
           "title": {
            "standoff": 15
           },
           "zerolinecolor": "#283442",
           "zerolinewidth": 2
          }
         }
        },
        "title": {
         "text": "🔎 Correlation to TOP_20 — Season 2024"
        },
        "width": 1000,
        "xaxis": {
         "anchor": "y",
         "domain": [
          0,
          1
         ],
         "tickangle": -45,
         "title": {
          "text": "Feature"
         }
        },
        "yaxis": {
         "anchor": "x",
         "domain": [
          0,
          1
         ],
         "title": {
          "text": "Absolute Correlation to TOP_20"
         }
        }
       }
      }
     },
     "metadata": {},
     "output_type": "display_data"
    }
   ],
   "source": [
    "import plotly.express as px\n",
    "\n",
    "# Get the 4 most recent seasons (or fewer if not available)\n",
    "available_seasons = sorted(training_df[\"SEASON\"].unique())[-4:]\n",
    "\n",
    "# Dictionary to store correlation results\n",
    "correlation_frames = {}\n",
    "\n",
    "# Calculate correlations for each season\n",
    "for season in available_seasons:\n",
    "    df = training_df[training_df[\"SEASON\"] == season].copy()\n",
    "\n",
    "    # Numeric features only, drop final result\n",
    "    numeric = df.select_dtypes(include=[\"float64\", \"int64\"]).drop(columns=[\"FINAL_POS\", \"SEASON\"], errors=\"ignore\")\n",
    "\n",
    "    # Skip if TOP_20 is not present\n",
    "    if \"TOP_20\" not in numeric.columns:\n",
    "        continue\n",
    "\n",
    "    # Correlation with TOP_20\n",
    "    cor = numeric.corr().abs()[\"TOP_20\"].drop(\"TOP_20\", errors=\"ignore\").sort_values(ascending=False)\n",
    "    cor_df = cor.reset_index()\n",
    "    cor_df.columns = [\"Feature\", \"Correlation\"]\n",
    "    correlation_frames[season] = cor_df\n",
    "\n",
    "# Plot one bar chart per season\n",
    "for season, cor_df in correlation_frames.items():\n",
    "    fig = px.bar(\n",
    "        cor_df,\n",
    "        x=\"Feature\",\n",
    "        y=\"Correlation\",\n",
    "        title=f\"🔎 Correlation to TOP_20 — Season {int(season)}\",\n",
    "        height=500,\n",
    "        width=1000\n",
    "    )\n",
    "\n",
    "    fig.update_layout(\n",
    "        xaxis_title=\"Feature\",\n",
    "        yaxis_title=\"Absolute Correlation to TOP_20\",\n",
    "        template=\"plotly_dark\",\n",
    "        xaxis_tickangle=-45\n",
    "    )\n",
    "\n",
    "    fig.show()\n"
   ]
  },
  {
   "cell_type": "markdown",
   "id": "07c346c9",
   "metadata": {},
   "source": [
    "**Average of Last 4 Years**"
   ]
  },
  {
   "cell_type": "code",
   "execution_count": 30,
   "id": "aee0c2ea",
   "metadata": {},
   "outputs": [
    {
     "data": {
      "application/vnd.plotly.v1+json": {
       "config": {
        "plotlyServerURL": "https://plot.ly"
       },
       "data": [
        {
         "hovertemplate": "Feature=%{x}<br>Avg Correlation=%{y}<extra></extra>",
         "legendgroup": "",
         "marker": {
          "color": "#636efa",
          "pattern": {
           "shape": ""
          }
         },
         "name": "",
         "orientation": "v",
         "showlegend": false,
         "textposition": "auto",
         "type": "bar",
         "x": [
          "OWGR",
          "RECENT_FORM",
          "OWGR_RANK",
          "form_density",
          "FEDEX_CUP_POINTS",
          "SGTTG",
          "SGTTG_RANK",
          "VEGAS_ODDS",
          "BIRDIES",
          "CUT_PERCENTAGE",
          "BIRDIES_RANK",
          "SGOTT",
          "PAR_4",
          "SGP_RANK",
          "SGOTT_RANK",
          "SGP",
          "PAR_4_RANK",
          "PAR_5_RANK",
          "PAR_3_RANK",
          "SGAPR",
          "PAR_3",
          "PAR_5",
          "adj_form",
          "CONSECUTIVE_CUTS",
          "SGAPR_RANK",
          "SCRAMBLING",
          "TOTAL_DRIVING_RANK",
          "SGATG",
          "TOTAL_DRIVING",
          "SCRAMBLING_RANK",
          "SGATG_RANK",
          "COURSE_HISTORY",
          "DRIVING_DISTANCE",
          "GIR_RANK",
          "GIR",
          "adj_ch",
          "DRIVING_DISTANCE_RANK",
          "DRIVING_ACCURACY",
          "DRIVING_ACCURACY_RANK"
         ],
         "xaxis": "x",
         "y": {
          "bdata": "NtrLCQzN1T/KamusFnXQP1q+8gxj8s4/UNZTlg6xzT9R4ce6FRrNP1QN1SVdhMw/U9LV2k47zD8T/6KH49nIP2Xde8rYZcg/niYVIlzjxz9g56yhJhLHP7KZ2jdrncU/MKqy7/aaxT9zFBwdt57EP/4WdyAdmsQ/Wl7n55JoxD9HHIJsZ7nDP18+V3aoYsM/bCh49ao1wz/ZMwccTx7DP2wCAtnJ/MI/mYY/XGHqwj9TGFv61l3BP7yjlIQTW8E/CbnCdO1EwT+8aU0Y1I3AP4HPmG+Ymb8/VZLMgY9xvz/6g+lU/2y+P2t9S+XAWb4/pj0v3bR1vT8ojv973sS4P+n6E/JcfrU/eWgkKFgUtD/hRklTjZ2zP/A+j0fKW7I/Mhw3uRjcsD8mmw+EfTSqP/I16/JPf6Q/",
          "dtype": "f8"
         },
         "yaxis": "y"
        }
       ],
       "layout": {
        "barmode": "relative",
        "height": 600,
        "legend": {
         "tracegroupgap": 0
        },
        "showlegend": false,
        "template": {
         "data": {
          "bar": [
           {
            "error_x": {
             "color": "#f2f5fa"
            },
            "error_y": {
             "color": "#f2f5fa"
            },
            "marker": {
             "line": {
              "color": "rgb(17,17,17)",
              "width": 0.5
             },
             "pattern": {
              "fillmode": "overlay",
              "size": 10,
              "solidity": 0.2
             }
            },
            "type": "bar"
           }
          ],
          "barpolar": [
           {
            "marker": {
             "line": {
              "color": "rgb(17,17,17)",
              "width": 0.5
             },
             "pattern": {
              "fillmode": "overlay",
              "size": 10,
              "solidity": 0.2
             }
            },
            "type": "barpolar"
           }
          ],
          "carpet": [
           {
            "aaxis": {
             "endlinecolor": "#A2B1C6",
             "gridcolor": "#506784",
             "linecolor": "#506784",
             "minorgridcolor": "#506784",
             "startlinecolor": "#A2B1C6"
            },
            "baxis": {
             "endlinecolor": "#A2B1C6",
             "gridcolor": "#506784",
             "linecolor": "#506784",
             "minorgridcolor": "#506784",
             "startlinecolor": "#A2B1C6"
            },
            "type": "carpet"
           }
          ],
          "choropleth": [
           {
            "colorbar": {
             "outlinewidth": 0,
             "ticks": ""
            },
            "type": "choropleth"
           }
          ],
          "contour": [
           {
            "colorbar": {
             "outlinewidth": 0,
             "ticks": ""
            },
            "colorscale": [
             [
              0,
              "#0d0887"
             ],
             [
              0.1111111111111111,
              "#46039f"
             ],
             [
              0.2222222222222222,
              "#7201a8"
             ],
             [
              0.3333333333333333,
              "#9c179e"
             ],
             [
              0.4444444444444444,
              "#bd3786"
             ],
             [
              0.5555555555555556,
              "#d8576b"
             ],
             [
              0.6666666666666666,
              "#ed7953"
             ],
             [
              0.7777777777777778,
              "#fb9f3a"
             ],
             [
              0.8888888888888888,
              "#fdca26"
             ],
             [
              1,
              "#f0f921"
             ]
            ],
            "type": "contour"
           }
          ],
          "contourcarpet": [
           {
            "colorbar": {
             "outlinewidth": 0,
             "ticks": ""
            },
            "type": "contourcarpet"
           }
          ],
          "heatmap": [
           {
            "colorbar": {
             "outlinewidth": 0,
             "ticks": ""
            },
            "colorscale": [
             [
              0,
              "#0d0887"
             ],
             [
              0.1111111111111111,
              "#46039f"
             ],
             [
              0.2222222222222222,
              "#7201a8"
             ],
             [
              0.3333333333333333,
              "#9c179e"
             ],
             [
              0.4444444444444444,
              "#bd3786"
             ],
             [
              0.5555555555555556,
              "#d8576b"
             ],
             [
              0.6666666666666666,
              "#ed7953"
             ],
             [
              0.7777777777777778,
              "#fb9f3a"
             ],
             [
              0.8888888888888888,
              "#fdca26"
             ],
             [
              1,
              "#f0f921"
             ]
            ],
            "type": "heatmap"
           }
          ],
          "histogram": [
           {
            "marker": {
             "pattern": {
              "fillmode": "overlay",
              "size": 10,
              "solidity": 0.2
             }
            },
            "type": "histogram"
           }
          ],
          "histogram2d": [
           {
            "colorbar": {
             "outlinewidth": 0,
             "ticks": ""
            },
            "colorscale": [
             [
              0,
              "#0d0887"
             ],
             [
              0.1111111111111111,
              "#46039f"
             ],
             [
              0.2222222222222222,
              "#7201a8"
             ],
             [
              0.3333333333333333,
              "#9c179e"
             ],
             [
              0.4444444444444444,
              "#bd3786"
             ],
             [
              0.5555555555555556,
              "#d8576b"
             ],
             [
              0.6666666666666666,
              "#ed7953"
             ],
             [
              0.7777777777777778,
              "#fb9f3a"
             ],
             [
              0.8888888888888888,
              "#fdca26"
             ],
             [
              1,
              "#f0f921"
             ]
            ],
            "type": "histogram2d"
           }
          ],
          "histogram2dcontour": [
           {
            "colorbar": {
             "outlinewidth": 0,
             "ticks": ""
            },
            "colorscale": [
             [
              0,
              "#0d0887"
             ],
             [
              0.1111111111111111,
              "#46039f"
             ],
             [
              0.2222222222222222,
              "#7201a8"
             ],
             [
              0.3333333333333333,
              "#9c179e"
             ],
             [
              0.4444444444444444,
              "#bd3786"
             ],
             [
              0.5555555555555556,
              "#d8576b"
             ],
             [
              0.6666666666666666,
              "#ed7953"
             ],
             [
              0.7777777777777778,
              "#fb9f3a"
             ],
             [
              0.8888888888888888,
              "#fdca26"
             ],
             [
              1,
              "#f0f921"
             ]
            ],
            "type": "histogram2dcontour"
           }
          ],
          "mesh3d": [
           {
            "colorbar": {
             "outlinewidth": 0,
             "ticks": ""
            },
            "type": "mesh3d"
           }
          ],
          "parcoords": [
           {
            "line": {
             "colorbar": {
              "outlinewidth": 0,
              "ticks": ""
             }
            },
            "type": "parcoords"
           }
          ],
          "pie": [
           {
            "automargin": true,
            "type": "pie"
           }
          ],
          "scatter": [
           {
            "marker": {
             "line": {
              "color": "#283442"
             }
            },
            "type": "scatter"
           }
          ],
          "scatter3d": [
           {
            "line": {
             "colorbar": {
              "outlinewidth": 0,
              "ticks": ""
             }
            },
            "marker": {
             "colorbar": {
              "outlinewidth": 0,
              "ticks": ""
             }
            },
            "type": "scatter3d"
           }
          ],
          "scattercarpet": [
           {
            "marker": {
             "colorbar": {
              "outlinewidth": 0,
              "ticks": ""
             }
            },
            "type": "scattercarpet"
           }
          ],
          "scattergeo": [
           {
            "marker": {
             "colorbar": {
              "outlinewidth": 0,
              "ticks": ""
             }
            },
            "type": "scattergeo"
           }
          ],
          "scattergl": [
           {
            "marker": {
             "line": {
              "color": "#283442"
             }
            },
            "type": "scattergl"
           }
          ],
          "scattermap": [
           {
            "marker": {
             "colorbar": {
              "outlinewidth": 0,
              "ticks": ""
             }
            },
            "type": "scattermap"
           }
          ],
          "scattermapbox": [
           {
            "marker": {
             "colorbar": {
              "outlinewidth": 0,
              "ticks": ""
             }
            },
            "type": "scattermapbox"
           }
          ],
          "scatterpolar": [
           {
            "marker": {
             "colorbar": {
              "outlinewidth": 0,
              "ticks": ""
             }
            },
            "type": "scatterpolar"
           }
          ],
          "scatterpolargl": [
           {
            "marker": {
             "colorbar": {
              "outlinewidth": 0,
              "ticks": ""
             }
            },
            "type": "scatterpolargl"
           }
          ],
          "scatterternary": [
           {
            "marker": {
             "colorbar": {
              "outlinewidth": 0,
              "ticks": ""
             }
            },
            "type": "scatterternary"
           }
          ],
          "surface": [
           {
            "colorbar": {
             "outlinewidth": 0,
             "ticks": ""
            },
            "colorscale": [
             [
              0,
              "#0d0887"
             ],
             [
              0.1111111111111111,
              "#46039f"
             ],
             [
              0.2222222222222222,
              "#7201a8"
             ],
             [
              0.3333333333333333,
              "#9c179e"
             ],
             [
              0.4444444444444444,
              "#bd3786"
             ],
             [
              0.5555555555555556,
              "#d8576b"
             ],
             [
              0.6666666666666666,
              "#ed7953"
             ],
             [
              0.7777777777777778,
              "#fb9f3a"
             ],
             [
              0.8888888888888888,
              "#fdca26"
             ],
             [
              1,
              "#f0f921"
             ]
            ],
            "type": "surface"
           }
          ],
          "table": [
           {
            "cells": {
             "fill": {
              "color": "#506784"
             },
             "line": {
              "color": "rgb(17,17,17)"
             }
            },
            "header": {
             "fill": {
              "color": "#2a3f5f"
             },
             "line": {
              "color": "rgb(17,17,17)"
             }
            },
            "type": "table"
           }
          ]
         },
         "layout": {
          "annotationdefaults": {
           "arrowcolor": "#f2f5fa",
           "arrowhead": 0,
           "arrowwidth": 1
          },
          "autotypenumbers": "strict",
          "coloraxis": {
           "colorbar": {
            "outlinewidth": 0,
            "ticks": ""
           }
          },
          "colorscale": {
           "diverging": [
            [
             0,
             "#8e0152"
            ],
            [
             0.1,
             "#c51b7d"
            ],
            [
             0.2,
             "#de77ae"
            ],
            [
             0.3,
             "#f1b6da"
            ],
            [
             0.4,
             "#fde0ef"
            ],
            [
             0.5,
             "#f7f7f7"
            ],
            [
             0.6,
             "#e6f5d0"
            ],
            [
             0.7,
             "#b8e186"
            ],
            [
             0.8,
             "#7fbc41"
            ],
            [
             0.9,
             "#4d9221"
            ],
            [
             1,
             "#276419"
            ]
           ],
           "sequential": [
            [
             0,
             "#0d0887"
            ],
            [
             0.1111111111111111,
             "#46039f"
            ],
            [
             0.2222222222222222,
             "#7201a8"
            ],
            [
             0.3333333333333333,
             "#9c179e"
            ],
            [
             0.4444444444444444,
             "#bd3786"
            ],
            [
             0.5555555555555556,
             "#d8576b"
            ],
            [
             0.6666666666666666,
             "#ed7953"
            ],
            [
             0.7777777777777778,
             "#fb9f3a"
            ],
            [
             0.8888888888888888,
             "#fdca26"
            ],
            [
             1,
             "#f0f921"
            ]
           ],
           "sequentialminus": [
            [
             0,
             "#0d0887"
            ],
            [
             0.1111111111111111,
             "#46039f"
            ],
            [
             0.2222222222222222,
             "#7201a8"
            ],
            [
             0.3333333333333333,
             "#9c179e"
            ],
            [
             0.4444444444444444,
             "#bd3786"
            ],
            [
             0.5555555555555556,
             "#d8576b"
            ],
            [
             0.6666666666666666,
             "#ed7953"
            ],
            [
             0.7777777777777778,
             "#fb9f3a"
            ],
            [
             0.8888888888888888,
             "#fdca26"
            ],
            [
             1,
             "#f0f921"
            ]
           ]
          },
          "colorway": [
           "#636efa",
           "#EF553B",
           "#00cc96",
           "#ab63fa",
           "#FFA15A",
           "#19d3f3",
           "#FF6692",
           "#B6E880",
           "#FF97FF",
           "#FECB52"
          ],
          "font": {
           "color": "#f2f5fa"
          },
          "geo": {
           "bgcolor": "rgb(17,17,17)",
           "lakecolor": "rgb(17,17,17)",
           "landcolor": "rgb(17,17,17)",
           "showlakes": true,
           "showland": true,
           "subunitcolor": "#506784"
          },
          "hoverlabel": {
           "align": "left"
          },
          "hovermode": "closest",
          "mapbox": {
           "style": "dark"
          },
          "paper_bgcolor": "rgb(17,17,17)",
          "plot_bgcolor": "rgb(17,17,17)",
          "polar": {
           "angularaxis": {
            "gridcolor": "#506784",
            "linecolor": "#506784",
            "ticks": ""
           },
           "bgcolor": "rgb(17,17,17)",
           "radialaxis": {
            "gridcolor": "#506784",
            "linecolor": "#506784",
            "ticks": ""
           }
          },
          "scene": {
           "xaxis": {
            "backgroundcolor": "rgb(17,17,17)",
            "gridcolor": "#506784",
            "gridwidth": 2,
            "linecolor": "#506784",
            "showbackground": true,
            "ticks": "",
            "zerolinecolor": "#C8D4E3"
           },
           "yaxis": {
            "backgroundcolor": "rgb(17,17,17)",
            "gridcolor": "#506784",
            "gridwidth": 2,
            "linecolor": "#506784",
            "showbackground": true,
            "ticks": "",
            "zerolinecolor": "#C8D4E3"
           },
           "zaxis": {
            "backgroundcolor": "rgb(17,17,17)",
            "gridcolor": "#506784",
            "gridwidth": 2,
            "linecolor": "#506784",
            "showbackground": true,
            "ticks": "",
            "zerolinecolor": "#C8D4E3"
           }
          },
          "shapedefaults": {
           "line": {
            "color": "#f2f5fa"
           }
          },
          "sliderdefaults": {
           "bgcolor": "#C8D4E3",
           "bordercolor": "rgb(17,17,17)",
           "borderwidth": 1,
           "tickwidth": 0
          },
          "ternary": {
           "aaxis": {
            "gridcolor": "#506784",
            "linecolor": "#506784",
            "ticks": ""
           },
           "baxis": {
            "gridcolor": "#506784",
            "linecolor": "#506784",
            "ticks": ""
           },
           "bgcolor": "rgb(17,17,17)",
           "caxis": {
            "gridcolor": "#506784",
            "linecolor": "#506784",
            "ticks": ""
           }
          },
          "title": {
           "x": 0.05
          },
          "updatemenudefaults": {
           "bgcolor": "#506784",
           "borderwidth": 0
          },
          "xaxis": {
           "automargin": true,
           "gridcolor": "#283442",
           "linecolor": "#506784",
           "ticks": "",
           "title": {
            "standoff": 15
           },
           "zerolinecolor": "#283442",
           "zerolinewidth": 2
          },
          "yaxis": {
           "automargin": true,
           "gridcolor": "#283442",
           "linecolor": "#506784",
           "ticks": "",
           "title": {
            "standoff": 15
           },
           "zerolinecolor": "#283442",
           "zerolinewidth": 2
          }
         }
        },
        "title": {
         "text": "Average Correlation to TOP_20 (Last 4 Seasons)"
        },
        "width": 1000,
        "xaxis": {
         "anchor": "y",
         "domain": [
          0,
          1
         ],
         "tickangle": -45,
         "title": {
          "text": "Feature"
         }
        },
        "yaxis": {
         "anchor": "x",
         "domain": [
          0,
          1
         ],
         "title": {
          "text": "Avg Correlation"
         }
        }
       }
      }
     },
     "metadata": {},
     "output_type": "display_data"
    }
   ],
   "source": [
    "import pandas as pd\n",
    "import numpy as np\n",
    "import plotly.express as px\n",
    "\n",
    "# === Rebuild correlation matrices for the 4 most recent seasons ===\n",
    "cor = {}\n",
    "recent_seasons = sorted(training_df[\"SEASON\"].unique())[-4:]\n",
    "\n",
    "for season in recent_seasons:\n",
    "    df_season = training_df[training_df[\"SEASON\"] == season].copy()\n",
    "    numeric_cols = df_season.select_dtypes(include=[\"float64\", \"int64\"])\n",
    "    cor[int(season)] = numeric_cols.corr().abs()\n",
    "\n",
    "# === Combine into one summary DataFrame ===\n",
    "cor_df = pd.DataFrame()\n",
    "\n",
    "for season in recent_seasons:\n",
    "    df = cor[season].reset_index()\n",
    "    if \"TOP_20\" not in df.columns:\n",
    "        continue\n",
    "    temp = df[[\"index\", \"TOP_20\"]].copy()\n",
    "    temp = temp.rename(columns={\"TOP_20\": str(season)})\n",
    "    if cor_df.empty:\n",
    "        cor_df = temp\n",
    "    else:\n",
    "        cor_df = cor_df.merge(temp, on=\"index\", how=\"outer\")\n",
    "\n",
    "# Drop target and metadata rows\n",
    "cor_df = cor_df[~cor_df[\"index\"].isin([\"TOP_20\", \"FINAL_POS\", \"SEASON\"])]\n",
    "\n",
    "# Compute average correlation across seasons\n",
    "cor_df[\"AVERAGE\"] = cor_df.drop(columns=[\"index\"]).mean(axis=1)\n",
    "cor_df = cor_df.sort_values(by=\"AVERAGE\", ascending=False)\n",
    "\n",
    "# === Plotly Bar Chart ===\n",
    "fig = px.bar(\n",
    "    cor_df,\n",
    "    x=\"index\",\n",
    "    y=\"AVERAGE\",\n",
    "    title=\"Average Correlation to TOP_20 (Last 4 Seasons)\",\n",
    "    labels={\"index\": \"Feature\", \"AVERAGE\": \"Avg Correlation\"},\n",
    "    template=\"plotly_dark\"\n",
    ")\n",
    "\n",
    "fig.update_layout(\n",
    "    xaxis_tickangle=-45,\n",
    "    height=600,\n",
    "    width=1000,\n",
    "    showlegend=False\n",
    ")\n",
    "\n",
    "fig.show()\n"
   ]
  },
  {
   "cell_type": "markdown",
   "id": "b551789e",
   "metadata": {},
   "source": [
    "# ML Model"
   ]
  },
  {
   "cell_type": "markdown",
   "id": "d7df2d9b",
   "metadata": {},
   "source": [
    "## Predictors"
   ]
  },
  {
   "cell_type": "code",
   "execution_count": 31,
   "id": "7de6b0ed",
   "metadata": {},
   "outputs": [
    {
     "name": "stdout",
     "output_type": "stream",
     "text": [
      "Selected 39 features:\n",
      " ['SGTTG_RANK', 'SGTTG', 'SGOTT_RANK', 'SGOTT', 'SGAPR_RANK', 'SGAPR', 'SGATG_RANK', 'SGATG', 'SGP_RANK', 'SGP', 'BIRDIES_RANK', 'BIRDIES', 'PAR_3_RANK', 'PAR_3', 'PAR_4_RANK', 'PAR_4', 'PAR_5_RANK', 'PAR_5', 'TOTAL_DRIVING_RANK', 'TOTAL_DRIVING', 'DRIVING_DISTANCE_RANK', 'DRIVING_DISTANCE', 'DRIVING_ACCURACY_RANK', 'DRIVING_ACCURACY', 'GIR_RANK', 'GIR', 'SCRAMBLING_RANK', 'SCRAMBLING', 'OWGR_RANK', 'OWGR', 'VEGAS_ODDS', 'CUT_PERCENTAGE', 'FEDEX_CUP_POINTS', 'form_density', 'CONSECUTIVE_CUTS', 'RECENT_FORM', 'adj_form', 'COURSE_HISTORY', 'adj_ch']\n"
     ]
    }
   ],
   "source": [
    "# === Define Features and Target ===\n",
    "target_col = \"TOP_20\"\n",
    "\n",
    "# Columns to exclude from features\n",
    "exclude = [\n",
    "    \"PLAYER\", \"TOURNAMENT\", \"COURSE\", \"ENDING_DATE\", \"SEASON\", \"TOURN_ID\",\n",
    "    \"TOP_20\", \"FINAL_POS\"  \n",
    "]\n",
    "\n",
    "# Select numeric feature columns\n",
    "feature_cols = [\n",
    "    col for col in training_df.columns\n",
    "    if col not in exclude and training_df[col].dtype in [np.float64, np.int64]\n",
    "]\n",
    "\n",
    "print(f\"Selected {len(feature_cols)} features:\\n\", feature_cols)"
   ]
  },
  {
   "cell_type": "markdown",
   "id": "8cb568b3",
   "metadata": {},
   "source": [
    "### Random Forest\n",
    "Initial default model before hyperparameter tuning.\n",
    "\n",
    "This one actually performed really well (ROC AUC above 0.85).  Strangely doing hyperparameter tuning hurt the model (less than 0.7), so I removed that step and we will just use this default model.  This does cross-validation testing on 5 folds to ensure robust train/test splits."
   ]
  },
  {
   "cell_type": "code",
   "execution_count": 32,
   "id": "4879d3d9",
   "metadata": {},
   "outputs": [
    {
     "name": "stdout",
     "output_type": "stream",
     "text": [
      "📊 Random Forest (All Features)\n",
      "Cross-validation scores: [0.9338784  0.95882353 0.9662854  0.96781046 0.91249309]\n",
      "Average ROC AUC score: 0.95\n"
     ]
    }
   ],
   "source": [
    "from sklearn.ensemble import RandomForestClassifier\n",
    "from sklearn.model_selection import cross_val_score, StratifiedKFold\n",
    "from sklearn.preprocessing import StandardScaler\n",
    "from imblearn.over_sampling import SMOTE\n",
    "from imblearn.under_sampling import RandomUnderSampler\n",
    "from imblearn.pipeline import Pipeline\n",
    "\n",
    "# === Standardize features ===\n",
    "scaler = StandardScaler()\n",
    "X_rf_std = scaler.fit_transform(training_df[feature_cols])\n",
    "y_rf = training_df[\"TOP_20\"]\n",
    "\n",
    "# === Balance the dataset with SMOTE and undersampling ===\n",
    "over = SMOTE(sampling_strategy=0.5, k_neighbors=3)\n",
    "under = RandomUnderSampler(sampling_strategy=0.5)\n",
    "pipeline = Pipeline([(\"o\", over), (\"u\", under)])\n",
    "X_rf_bal, y_rf_bal = pipeline.fit_resample(X_rf_std, y_rf)\n",
    "\n",
    "# === Define and evaluate Random Forest ===\n",
    "rf = RandomForestClassifier(n_estimators=100, random_state=42)\n",
    "cv = StratifiedKFold(n_splits=5, shuffle=True, random_state=42)\n",
    "scores = cross_val_score(rf, X_rf_bal, y_rf_bal, cv=cv, scoring=\"roc_auc\")\n",
    "\n",
    "print(\"📊 Random Forest (All Features)\")\n",
    "print(\"Cross-validation scores:\", scores)\n",
    "print(\"Average ROC AUC score: {:.2f}\".format(scores.mean()))\n"
   ]
  },
  {
   "cell_type": "markdown",
   "id": "4fe9c753",
   "metadata": {},
   "source": [
    "Random Forest Training & Feature Importance\n",
    "\n",
    "Now we train on all the data (no longer cross-validation folds) and extract the feature importance to see how it compares with linear correlations.\n"
   ]
  },
  {
   "cell_type": "code",
   "execution_count": 33,
   "id": "74c2a8b7",
   "metadata": {},
   "outputs": [
    {
     "data": {
      "application/vnd.plotly.v1+json": {
       "config": {
        "plotlyServerURL": "https://plot.ly"
       },
       "data": [
        {
         "hovertemplate": "Feature=%{x}<br>Importance=%{y}<extra></extra>",
         "legendgroup": "",
         "marker": {
          "color": "#636efa",
          "pattern": {
           "shape": ""
          }
         },
         "name": "",
         "orientation": "v",
         "showlegend": false,
         "textposition": "auto",
         "type": "bar",
         "x": [
          "OWGR",
          "OWGR_RANK",
          "RECENT_FORM",
          "FEDEX_CUP_POINTS",
          "VEGAS_ODDS",
          "adj_form",
          "CUT_PERCENTAGE",
          "BIRDIES_RANK",
          "SGP_RANK",
          "SGTTG_RANK",
          "form_density",
          "CONSECUTIVE_CUTS",
          "BIRDIES",
          "SGTTG",
          "SGP",
          "PAR_5_RANK",
          "SGATG_RANK",
          "SGATG",
          "PAR_4_RANK",
          "COURSE_HISTORY",
          "PAR_3",
          "SGAPR_RANK",
          "PAR_3_RANK",
          "PAR_5",
          "SGOTT_RANK",
          "adj_ch",
          "PAR_4",
          "SGAPR",
          "DRIVING_DISTANCE_RANK",
          "SCRAMBLING_RANK",
          "DRIVING_DISTANCE",
          "DRIVING_ACCURACY_RANK",
          "TOTAL_DRIVING",
          "GIR_RANK",
          "GIR",
          "DRIVING_ACCURACY",
          "SGOTT",
          "TOTAL_DRIVING_RANK",
          "SCRAMBLING"
         ],
         "xaxis": "x",
         "y": {
          "bdata": "fiXOw/3btD8QcTl2V0yzP4k0R43ZUqY/Q0K81Oiboj9qLg4w536iPxdwFymMn6A/M6na3gcNoD+JXiiU5wCgP35ZRYRTmJ8/KqLsuksKnj9i1xD0LYSdP1vof0uagZ0/q6gimiSTmj+9vOy9d+WZP8441FZuH5g/FsBwSp1dlz9HOOYMqBSWP6UxTh+Q4JU/Mv8LbF7LlD9gGmOY4HKUPxnQFMIsp5M/ckSLcW2Kkz+PHhZyMVmTP5DsNxzrEZM/pQoJDha/kj8Fc7D0aIuSPwL3Ui22b5I/QgapFoQ/kj+lSE6s4SqSPwqWKKxS55E/brJVmUHakT8WxTN3PLyRP7KvuagwvJE/o1FjW8Y2kT/a/pptBgKRP33tFnZk+JA/qNwh3Dh9kD+N1bUDeW+QP9Q9hNmjPZA/",
          "dtype": "f8"
         },
         "yaxis": "y"
        }
       ],
       "layout": {
        "barmode": "relative",
        "legend": {
         "tracegroupgap": 0
        },
        "template": {
         "data": {
          "bar": [
           {
            "error_x": {
             "color": "#f2f5fa"
            },
            "error_y": {
             "color": "#f2f5fa"
            },
            "marker": {
             "line": {
              "color": "rgb(17,17,17)",
              "width": 0.5
             },
             "pattern": {
              "fillmode": "overlay",
              "size": 10,
              "solidity": 0.2
             }
            },
            "type": "bar"
           }
          ],
          "barpolar": [
           {
            "marker": {
             "line": {
              "color": "rgb(17,17,17)",
              "width": 0.5
             },
             "pattern": {
              "fillmode": "overlay",
              "size": 10,
              "solidity": 0.2
             }
            },
            "type": "barpolar"
           }
          ],
          "carpet": [
           {
            "aaxis": {
             "endlinecolor": "#A2B1C6",
             "gridcolor": "#506784",
             "linecolor": "#506784",
             "minorgridcolor": "#506784",
             "startlinecolor": "#A2B1C6"
            },
            "baxis": {
             "endlinecolor": "#A2B1C6",
             "gridcolor": "#506784",
             "linecolor": "#506784",
             "minorgridcolor": "#506784",
             "startlinecolor": "#A2B1C6"
            },
            "type": "carpet"
           }
          ],
          "choropleth": [
           {
            "colorbar": {
             "outlinewidth": 0,
             "ticks": ""
            },
            "type": "choropleth"
           }
          ],
          "contour": [
           {
            "colorbar": {
             "outlinewidth": 0,
             "ticks": ""
            },
            "colorscale": [
             [
              0,
              "#0d0887"
             ],
             [
              0.1111111111111111,
              "#46039f"
             ],
             [
              0.2222222222222222,
              "#7201a8"
             ],
             [
              0.3333333333333333,
              "#9c179e"
             ],
             [
              0.4444444444444444,
              "#bd3786"
             ],
             [
              0.5555555555555556,
              "#d8576b"
             ],
             [
              0.6666666666666666,
              "#ed7953"
             ],
             [
              0.7777777777777778,
              "#fb9f3a"
             ],
             [
              0.8888888888888888,
              "#fdca26"
             ],
             [
              1,
              "#f0f921"
             ]
            ],
            "type": "contour"
           }
          ],
          "contourcarpet": [
           {
            "colorbar": {
             "outlinewidth": 0,
             "ticks": ""
            },
            "type": "contourcarpet"
           }
          ],
          "heatmap": [
           {
            "colorbar": {
             "outlinewidth": 0,
             "ticks": ""
            },
            "colorscale": [
             [
              0,
              "#0d0887"
             ],
             [
              0.1111111111111111,
              "#46039f"
             ],
             [
              0.2222222222222222,
              "#7201a8"
             ],
             [
              0.3333333333333333,
              "#9c179e"
             ],
             [
              0.4444444444444444,
              "#bd3786"
             ],
             [
              0.5555555555555556,
              "#d8576b"
             ],
             [
              0.6666666666666666,
              "#ed7953"
             ],
             [
              0.7777777777777778,
              "#fb9f3a"
             ],
             [
              0.8888888888888888,
              "#fdca26"
             ],
             [
              1,
              "#f0f921"
             ]
            ],
            "type": "heatmap"
           }
          ],
          "histogram": [
           {
            "marker": {
             "pattern": {
              "fillmode": "overlay",
              "size": 10,
              "solidity": 0.2
             }
            },
            "type": "histogram"
           }
          ],
          "histogram2d": [
           {
            "colorbar": {
             "outlinewidth": 0,
             "ticks": ""
            },
            "colorscale": [
             [
              0,
              "#0d0887"
             ],
             [
              0.1111111111111111,
              "#46039f"
             ],
             [
              0.2222222222222222,
              "#7201a8"
             ],
             [
              0.3333333333333333,
              "#9c179e"
             ],
             [
              0.4444444444444444,
              "#bd3786"
             ],
             [
              0.5555555555555556,
              "#d8576b"
             ],
             [
              0.6666666666666666,
              "#ed7953"
             ],
             [
              0.7777777777777778,
              "#fb9f3a"
             ],
             [
              0.8888888888888888,
              "#fdca26"
             ],
             [
              1,
              "#f0f921"
             ]
            ],
            "type": "histogram2d"
           }
          ],
          "histogram2dcontour": [
           {
            "colorbar": {
             "outlinewidth": 0,
             "ticks": ""
            },
            "colorscale": [
             [
              0,
              "#0d0887"
             ],
             [
              0.1111111111111111,
              "#46039f"
             ],
             [
              0.2222222222222222,
              "#7201a8"
             ],
             [
              0.3333333333333333,
              "#9c179e"
             ],
             [
              0.4444444444444444,
              "#bd3786"
             ],
             [
              0.5555555555555556,
              "#d8576b"
             ],
             [
              0.6666666666666666,
              "#ed7953"
             ],
             [
              0.7777777777777778,
              "#fb9f3a"
             ],
             [
              0.8888888888888888,
              "#fdca26"
             ],
             [
              1,
              "#f0f921"
             ]
            ],
            "type": "histogram2dcontour"
           }
          ],
          "mesh3d": [
           {
            "colorbar": {
             "outlinewidth": 0,
             "ticks": ""
            },
            "type": "mesh3d"
           }
          ],
          "parcoords": [
           {
            "line": {
             "colorbar": {
              "outlinewidth": 0,
              "ticks": ""
             }
            },
            "type": "parcoords"
           }
          ],
          "pie": [
           {
            "automargin": true,
            "type": "pie"
           }
          ],
          "scatter": [
           {
            "marker": {
             "line": {
              "color": "#283442"
             }
            },
            "type": "scatter"
           }
          ],
          "scatter3d": [
           {
            "line": {
             "colorbar": {
              "outlinewidth": 0,
              "ticks": ""
             }
            },
            "marker": {
             "colorbar": {
              "outlinewidth": 0,
              "ticks": ""
             }
            },
            "type": "scatter3d"
           }
          ],
          "scattercarpet": [
           {
            "marker": {
             "colorbar": {
              "outlinewidth": 0,
              "ticks": ""
             }
            },
            "type": "scattercarpet"
           }
          ],
          "scattergeo": [
           {
            "marker": {
             "colorbar": {
              "outlinewidth": 0,
              "ticks": ""
             }
            },
            "type": "scattergeo"
           }
          ],
          "scattergl": [
           {
            "marker": {
             "line": {
              "color": "#283442"
             }
            },
            "type": "scattergl"
           }
          ],
          "scattermap": [
           {
            "marker": {
             "colorbar": {
              "outlinewidth": 0,
              "ticks": ""
             }
            },
            "type": "scattermap"
           }
          ],
          "scattermapbox": [
           {
            "marker": {
             "colorbar": {
              "outlinewidth": 0,
              "ticks": ""
             }
            },
            "type": "scattermapbox"
           }
          ],
          "scatterpolar": [
           {
            "marker": {
             "colorbar": {
              "outlinewidth": 0,
              "ticks": ""
             }
            },
            "type": "scatterpolar"
           }
          ],
          "scatterpolargl": [
           {
            "marker": {
             "colorbar": {
              "outlinewidth": 0,
              "ticks": ""
             }
            },
            "type": "scatterpolargl"
           }
          ],
          "scatterternary": [
           {
            "marker": {
             "colorbar": {
              "outlinewidth": 0,
              "ticks": ""
             }
            },
            "type": "scatterternary"
           }
          ],
          "surface": [
           {
            "colorbar": {
             "outlinewidth": 0,
             "ticks": ""
            },
            "colorscale": [
             [
              0,
              "#0d0887"
             ],
             [
              0.1111111111111111,
              "#46039f"
             ],
             [
              0.2222222222222222,
              "#7201a8"
             ],
             [
              0.3333333333333333,
              "#9c179e"
             ],
             [
              0.4444444444444444,
              "#bd3786"
             ],
             [
              0.5555555555555556,
              "#d8576b"
             ],
             [
              0.6666666666666666,
              "#ed7953"
             ],
             [
              0.7777777777777778,
              "#fb9f3a"
             ],
             [
              0.8888888888888888,
              "#fdca26"
             ],
             [
              1,
              "#f0f921"
             ]
            ],
            "type": "surface"
           }
          ],
          "table": [
           {
            "cells": {
             "fill": {
              "color": "#506784"
             },
             "line": {
              "color": "rgb(17,17,17)"
             }
            },
            "header": {
             "fill": {
              "color": "#2a3f5f"
             },
             "line": {
              "color": "rgb(17,17,17)"
             }
            },
            "type": "table"
           }
          ]
         },
         "layout": {
          "annotationdefaults": {
           "arrowcolor": "#f2f5fa",
           "arrowhead": 0,
           "arrowwidth": 1
          },
          "autotypenumbers": "strict",
          "coloraxis": {
           "colorbar": {
            "outlinewidth": 0,
            "ticks": ""
           }
          },
          "colorscale": {
           "diverging": [
            [
             0,
             "#8e0152"
            ],
            [
             0.1,
             "#c51b7d"
            ],
            [
             0.2,
             "#de77ae"
            ],
            [
             0.3,
             "#f1b6da"
            ],
            [
             0.4,
             "#fde0ef"
            ],
            [
             0.5,
             "#f7f7f7"
            ],
            [
             0.6,
             "#e6f5d0"
            ],
            [
             0.7,
             "#b8e186"
            ],
            [
             0.8,
             "#7fbc41"
            ],
            [
             0.9,
             "#4d9221"
            ],
            [
             1,
             "#276419"
            ]
           ],
           "sequential": [
            [
             0,
             "#0d0887"
            ],
            [
             0.1111111111111111,
             "#46039f"
            ],
            [
             0.2222222222222222,
             "#7201a8"
            ],
            [
             0.3333333333333333,
             "#9c179e"
            ],
            [
             0.4444444444444444,
             "#bd3786"
            ],
            [
             0.5555555555555556,
             "#d8576b"
            ],
            [
             0.6666666666666666,
             "#ed7953"
            ],
            [
             0.7777777777777778,
             "#fb9f3a"
            ],
            [
             0.8888888888888888,
             "#fdca26"
            ],
            [
             1,
             "#f0f921"
            ]
           ],
           "sequentialminus": [
            [
             0,
             "#0d0887"
            ],
            [
             0.1111111111111111,
             "#46039f"
            ],
            [
             0.2222222222222222,
             "#7201a8"
            ],
            [
             0.3333333333333333,
             "#9c179e"
            ],
            [
             0.4444444444444444,
             "#bd3786"
            ],
            [
             0.5555555555555556,
             "#d8576b"
            ],
            [
             0.6666666666666666,
             "#ed7953"
            ],
            [
             0.7777777777777778,
             "#fb9f3a"
            ],
            [
             0.8888888888888888,
             "#fdca26"
            ],
            [
             1,
             "#f0f921"
            ]
           ]
          },
          "colorway": [
           "#636efa",
           "#EF553B",
           "#00cc96",
           "#ab63fa",
           "#FFA15A",
           "#19d3f3",
           "#FF6692",
           "#B6E880",
           "#FF97FF",
           "#FECB52"
          ],
          "font": {
           "color": "#f2f5fa"
          },
          "geo": {
           "bgcolor": "rgb(17,17,17)",
           "lakecolor": "rgb(17,17,17)",
           "landcolor": "rgb(17,17,17)",
           "showlakes": true,
           "showland": true,
           "subunitcolor": "#506784"
          },
          "hoverlabel": {
           "align": "left"
          },
          "hovermode": "closest",
          "mapbox": {
           "style": "dark"
          },
          "paper_bgcolor": "rgb(17,17,17)",
          "plot_bgcolor": "rgb(17,17,17)",
          "polar": {
           "angularaxis": {
            "gridcolor": "#506784",
            "linecolor": "#506784",
            "ticks": ""
           },
           "bgcolor": "rgb(17,17,17)",
           "radialaxis": {
            "gridcolor": "#506784",
            "linecolor": "#506784",
            "ticks": ""
           }
          },
          "scene": {
           "xaxis": {
            "backgroundcolor": "rgb(17,17,17)",
            "gridcolor": "#506784",
            "gridwidth": 2,
            "linecolor": "#506784",
            "showbackground": true,
            "ticks": "",
            "zerolinecolor": "#C8D4E3"
           },
           "yaxis": {
            "backgroundcolor": "rgb(17,17,17)",
            "gridcolor": "#506784",
            "gridwidth": 2,
            "linecolor": "#506784",
            "showbackground": true,
            "ticks": "",
            "zerolinecolor": "#C8D4E3"
           },
           "zaxis": {
            "backgroundcolor": "rgb(17,17,17)",
            "gridcolor": "#506784",
            "gridwidth": 2,
            "linecolor": "#506784",
            "showbackground": true,
            "ticks": "",
            "zerolinecolor": "#C8D4E3"
           }
          },
          "shapedefaults": {
           "line": {
            "color": "#f2f5fa"
           }
          },
          "sliderdefaults": {
           "bgcolor": "#C8D4E3",
           "bordercolor": "rgb(17,17,17)",
           "borderwidth": 1,
           "tickwidth": 0
          },
          "ternary": {
           "aaxis": {
            "gridcolor": "#506784",
            "linecolor": "#506784",
            "ticks": ""
           },
           "baxis": {
            "gridcolor": "#506784",
            "linecolor": "#506784",
            "ticks": ""
           },
           "bgcolor": "rgb(17,17,17)",
           "caxis": {
            "gridcolor": "#506784",
            "linecolor": "#506784",
            "ticks": ""
           }
          },
          "title": {
           "x": 0.05
          },
          "updatemenudefaults": {
           "bgcolor": "#506784",
           "borderwidth": 0
          },
          "xaxis": {
           "automargin": true,
           "gridcolor": "#283442",
           "linecolor": "#506784",
           "ticks": "",
           "title": {
            "standoff": 15
           },
           "zerolinecolor": "#283442",
           "zerolinewidth": 2
          },
          "yaxis": {
           "automargin": true,
           "gridcolor": "#283442",
           "linecolor": "#506784",
           "ticks": "",
           "title": {
            "standoff": 15
           },
           "zerolinecolor": "#283442",
           "zerolinewidth": 2
          }
         }
        },
        "title": {
         "text": "Random Forest Feature Importances"
        },
        "xaxis": {
         "anchor": "y",
         "domain": [
          0,
          1
         ],
         "tickangle": -45,
         "title": {
          "text": "Feature"
         }
        },
        "yaxis": {
         "anchor": "x",
         "domain": [
          0,
          1
         ],
         "title": {
          "text": "Importance"
         }
        }
       }
      }
     },
     "metadata": {},
     "output_type": "display_data"
    }
   ],
   "source": [
    "from sklearn.ensemble import RandomForestClassifier\n",
    "from sklearn.calibration import CalibratedClassifierCV\n",
    "from sklearn.preprocessing import StandardScaler\n",
    "from imblearn.pipeline import Pipeline\n",
    "from imblearn.over_sampling import SMOTE\n",
    "from imblearn.under_sampling import RandomUnderSampler\n",
    "import pandas as pd\n",
    "import plotly.express as px\n",
    "\n",
    "# === Resample the full dataset ===\n",
    "over = SMOTE(sampling_strategy=0.5, k_neighbors=3)\n",
    "under = RandomUnderSampler(sampling_strategy=0.5)\n",
    "resample_pipeline = Pipeline([(\"o\", over), (\"u\", under)])\n",
    "X_all_resampled, y_all_resampled = resample_pipeline.fit_resample(\n",
    "    training_df[feature_cols], training_df[\"TOP_20\"]\n",
    ")\n",
    "\n",
    "# === Standardize ===\n",
    "scaler = StandardScaler()\n",
    "X_all_scaled = scaler.fit_transform(X_all_resampled)\n",
    "\n",
    "# === Train Calibrated Random Forest ===\n",
    "base_rf = RandomForestClassifier(random_state=42)\n",
    "final_model = CalibratedClassifierCV(estimator=base_rf, method=\"sigmoid\", cv=5)\n",
    "final_model.fit(X_all_scaled, y_all_resampled)\n",
    "\n",
    "# === Aggregate feature importances across all CV folds ===\n",
    "all_importances = np.array([\n",
    "    est.estimator.feature_importances_ for est in final_model.calibrated_classifiers_\n",
    "])\n",
    "mean_importance = all_importances.mean(axis=0)\n",
    "\n",
    "importance_df = pd.DataFrame({\n",
    "    \"Feature\": feature_cols,\n",
    "    \"Importance\": mean_importance\n",
    "}).sort_values(by=\"Importance\", ascending=False)\n",
    "\n",
    "# === Plot feature importances ===\n",
    "fig = px.bar(\n",
    "    importance_df,\n",
    "    x=\"Feature\",\n",
    "    y=\"Importance\",\n",
    "    title=\"Random Forest Feature Importances\",\n",
    "    template=\"plotly_dark\"\n",
    ")\n",
    "fig.update_layout(xaxis_tickangle=-45)\n",
    "fig.show()\n"
   ]
  },
  {
   "cell_type": "markdown",
   "id": "e5e84f8a",
   "metadata": {},
   "source": [
    "Use this model on this week's data to predict the best performers."
   ]
  },
  {
   "cell_type": "code",
   "execution_count": 34,
   "id": "f0bf9b7d",
   "metadata": {},
   "outputs": [
    {
     "data": {
      "text/html": [
       "<div>\n",
       "<style scoped>\n",
       "    .dataframe tbody tr th:only-of-type {\n",
       "        vertical-align: middle;\n",
       "    }\n",
       "\n",
       "    .dataframe tbody tr th {\n",
       "        vertical-align: top;\n",
       "    }\n",
       "\n",
       "    .dataframe thead th {\n",
       "        text-align: right;\n",
       "    }\n",
       "</style>\n",
       "<table border=\"1\" class=\"dataframe\">\n",
       "  <thead>\n",
       "    <tr style=\"text-align: right;\">\n",
       "      <th></th>\n",
       "      <th>PLAYER</th>\n",
       "      <th>SALARY</th>\n",
       "      <th>PROBABILITY</th>\n",
       "      <th>RECENT_FORM</th>\n",
       "      <th>COURSE_HISTORY</th>\n",
       "      <th>VEGAS_ODDS</th>\n",
       "      <th>CUT_PERCENTAGE</th>\n",
       "      <th>OWGR_RANK</th>\n",
       "      <th>FEDEX_CUP_POINTS</th>\n",
       "      <th>SGTTG_RANK</th>\n",
       "      <th>SGOTT_RANK</th>\n",
       "      <th>SGAPR_RANK</th>\n",
       "      <th>SGATG_RANK</th>\n",
       "      <th>SGP_RANK</th>\n",
       "      <th>BIRDIES_RANK</th>\n",
       "      <th>PAR_3_RANK</th>\n",
       "      <th>PAR_4_RANK</th>\n",
       "      <th>PAR_5_RANK</th>\n",
       "      <th>TOTAL_DRIVING_RANK</th>\n",
       "      <th>DRIVING_DISTANCE_RANK</th>\n",
       "      <th>DRIVING_ACCURACY_RANK</th>\n",
       "      <th>GIR_RANK</th>\n",
       "      <th>SCRAMBLING_RANK</th>\n",
       "    </tr>\n",
       "  </thead>\n",
       "  <tbody>\n",
       "    <tr>\n",
       "      <th>0</th>\n",
       "      <td>Max Greyserman</td>\n",
       "      <td>9100</td>\n",
       "      <td>0.836727</td>\n",
       "      <td>35.6</td>\n",
       "      <td>31.000000</td>\n",
       "      <td>40.0</td>\n",
       "      <td>85.0</td>\n",
       "      <td>48.0</td>\n",
       "      <td>517.887</td>\n",
       "      <td>83.00000</td>\n",
       "      <td>114.000000</td>\n",
       "      <td>98.000000</td>\n",
       "      <td>54.000000</td>\n",
       "      <td>41.000000</td>\n",
       "      <td>39.000000</td>\n",
       "      <td>117.000000</td>\n",
       "      <td>88.000000</td>\n",
       "      <td>66.000000</td>\n",
       "      <td>99.000000</td>\n",
       "      <td>36.000000</td>\n",
       "      <td>141.000000</td>\n",
       "      <td>107.00000</td>\n",
       "      <td>141.00000</td>\n",
       "    </tr>\n",
       "    <tr>\n",
       "      <th>1</th>\n",
       "      <td>Ben Griffin</td>\n",
       "      <td>9800</td>\n",
       "      <td>0.813217</td>\n",
       "      <td>35.6</td>\n",
       "      <td>32.000000</td>\n",
       "      <td>20.0</td>\n",
       "      <td>81.5</td>\n",
       "      <td>17.0</td>\n",
       "      <td>2039.496</td>\n",
       "      <td>26.00000</td>\n",
       "      <td>51.000000</td>\n",
       "      <td>34.000000</td>\n",
       "      <td>56.000000</td>\n",
       "      <td>35.000000</td>\n",
       "      <td>52.000000</td>\n",
       "      <td>29.000000</td>\n",
       "      <td>46.000000</td>\n",
       "      <td>36.000000</td>\n",
       "      <td>53.000000</td>\n",
       "      <td>64.000000</td>\n",
       "      <td>87.000000</td>\n",
       "      <td>17.00000</td>\n",
       "      <td>102.00000</td>\n",
       "    </tr>\n",
       "    <tr>\n",
       "      <th>2</th>\n",
       "      <td>Davis Thompson</td>\n",
       "      <td>8100</td>\n",
       "      <td>0.673072</td>\n",
       "      <td>50.3</td>\n",
       "      <td>28.000000</td>\n",
       "      <td>40.0</td>\n",
       "      <td>70.0</td>\n",
       "      <td>61.0</td>\n",
       "      <td>485.617</td>\n",
       "      <td>41.00000</td>\n",
       "      <td>27.000000</td>\n",
       "      <td>85.000000</td>\n",
       "      <td>46.000000</td>\n",
       "      <td>149.000000</td>\n",
       "      <td>37.000000</td>\n",
       "      <td>103.000000</td>\n",
       "      <td>88.000000</td>\n",
       "      <td>36.000000</td>\n",
       "      <td>24.000000</td>\n",
       "      <td>73.000000</td>\n",
       "      <td>41.000000</td>\n",
       "      <td>42.00000</td>\n",
       "      <td>124.00000</td>\n",
       "    </tr>\n",
       "    <tr>\n",
       "      <th>3</th>\n",
       "      <td>Wyndham Clark</td>\n",
       "      <td>8600</td>\n",
       "      <td>0.667525</td>\n",
       "      <td>45.1</td>\n",
       "      <td>17.000000</td>\n",
       "      <td>40.0</td>\n",
       "      <td>82.4</td>\n",
       "      <td>29.0</td>\n",
       "      <td>422.873</td>\n",
       "      <td>94.00000</td>\n",
       "      <td>66.000000</td>\n",
       "      <td>148.000000</td>\n",
       "      <td>36.000000</td>\n",
       "      <td>64.000000</td>\n",
       "      <td>28.000000</td>\n",
       "      <td>145.000000</td>\n",
       "      <td>88.000000</td>\n",
       "      <td>23.000000</td>\n",
       "      <td>42.000000</td>\n",
       "      <td>15.000000</td>\n",
       "      <td>129.000000</td>\n",
       "      <td>115.00000</td>\n",
       "      <td>134.00000</td>\n",
       "    </tr>\n",
       "    <tr>\n",
       "      <th>4</th>\n",
       "      <td>Ryan Gerard</td>\n",
       "      <td>7900</td>\n",
       "      <td>0.664504</td>\n",
       "      <td>35.3</td>\n",
       "      <td>56.000000</td>\n",
       "      <td>40.0</td>\n",
       "      <td>94.4</td>\n",
       "      <td>70.0</td>\n",
       "      <td>812.212</td>\n",
       "      <td>27.00000</td>\n",
       "      <td>49.000000</td>\n",
       "      <td>32.000000</td>\n",
       "      <td>65.000000</td>\n",
       "      <td>104.000000</td>\n",
       "      <td>90.000000</td>\n",
       "      <td>47.000000</td>\n",
       "      <td>64.000000</td>\n",
       "      <td>114.000000</td>\n",
       "      <td>35.000000</td>\n",
       "      <td>81.000000</td>\n",
       "      <td>58.000000</td>\n",
       "      <td>121.00000</td>\n",
       "      <td>77.00000</td>\n",
       "    </tr>\n",
       "    <tr>\n",
       "      <th>5</th>\n",
       "      <td>Tony Finau</td>\n",
       "      <td>8900</td>\n",
       "      <td>0.648425</td>\n",
       "      <td>45.3</td>\n",
       "      <td>71.500000</td>\n",
       "      <td>40.0</td>\n",
       "      <td>75.0</td>\n",
       "      <td>44.0</td>\n",
       "      <td>670.408</td>\n",
       "      <td>65.00000</td>\n",
       "      <td>107.000000</td>\n",
       "      <td>77.000000</td>\n",
       "      <td>31.000000</td>\n",
       "      <td>121.000000</td>\n",
       "      <td>50.000000</td>\n",
       "      <td>117.000000</td>\n",
       "      <td>104.000000</td>\n",
       "      <td>127.000000</td>\n",
       "      <td>89.000000</td>\n",
       "      <td>67.000000</td>\n",
       "      <td>105.000000</td>\n",
       "      <td>91.00000</td>\n",
       "      <td>130.00000</td>\n",
       "    </tr>\n",
       "    <tr>\n",
       "      <th>6</th>\n",
       "      <td>Alex Noren</td>\n",
       "      <td>7800</td>\n",
       "      <td>0.644483</td>\n",
       "      <td>45.4</td>\n",
       "      <td>48.300000</td>\n",
       "      <td>60.0</td>\n",
       "      <td>80.0</td>\n",
       "      <td>76.0</td>\n",
       "      <td>134.250</td>\n",
       "      <td>93.62931</td>\n",
       "      <td>88.724138</td>\n",
       "      <td>92.862069</td>\n",
       "      <td>88.836207</td>\n",
       "      <td>94.844828</td>\n",
       "      <td>92.577586</td>\n",
       "      <td>80.956897</td>\n",
       "      <td>83.594828</td>\n",
       "      <td>82.508621</td>\n",
       "      <td>83.853448</td>\n",
       "      <td>79.982759</td>\n",
       "      <td>89.163793</td>\n",
       "      <td>87.87069</td>\n",
       "      <td>83.12069</td>\n",
       "    </tr>\n",
       "    <tr>\n",
       "      <th>7</th>\n",
       "      <td>Byeong Hun An</td>\n",
       "      <td>7600</td>\n",
       "      <td>0.637630</td>\n",
       "      <td>50.0</td>\n",
       "      <td>59.700000</td>\n",
       "      <td>60.0</td>\n",
       "      <td>72.2</td>\n",
       "      <td>46.0</td>\n",
       "      <td>588.934</td>\n",
       "      <td>73.00000</td>\n",
       "      <td>34.000000</td>\n",
       "      <td>142.000000</td>\n",
       "      <td>41.000000</td>\n",
       "      <td>147.000000</td>\n",
       "      <td>87.000000</td>\n",
       "      <td>117.000000</td>\n",
       "      <td>64.000000</td>\n",
       "      <td>136.000000</td>\n",
       "      <td>102.000000</td>\n",
       "      <td>44.000000</td>\n",
       "      <td>135.000000</td>\n",
       "      <td>127.00000</td>\n",
       "      <td>110.00000</td>\n",
       "    </tr>\n",
       "    <tr>\n",
       "      <th>8</th>\n",
       "      <td>Jacob Bridgeman</td>\n",
       "      <td>7300</td>\n",
       "      <td>0.616447</td>\n",
       "      <td>49.8</td>\n",
       "      <td>31.000000</td>\n",
       "      <td>90.0</td>\n",
       "      <td>62.5</td>\n",
       "      <td>69.0</td>\n",
       "      <td>1135.114</td>\n",
       "      <td>130.00000</td>\n",
       "      <td>122.000000</td>\n",
       "      <td>111.000000</td>\n",
       "      <td>114.000000</td>\n",
       "      <td>7.000000</td>\n",
       "      <td>77.000000</td>\n",
       "      <td>47.000000</td>\n",
       "      <td>104.000000</td>\n",
       "      <td>66.000000</td>\n",
       "      <td>157.000000</td>\n",
       "      <td>117.000000</td>\n",
       "      <td>116.000000</td>\n",
       "      <td>136.00000</td>\n",
       "      <td>64.00000</td>\n",
       "    </tr>\n",
       "    <tr>\n",
       "      <th>9</th>\n",
       "      <td>Akshay Bhatia</td>\n",
       "      <td>8200</td>\n",
       "      <td>0.616323</td>\n",
       "      <td>40.8</td>\n",
       "      <td>46.000000</td>\n",
       "      <td>45.0</td>\n",
       "      <td>76.5</td>\n",
       "      <td>36.0</td>\n",
       "      <td>810.740</td>\n",
       "      <td>78.00000</td>\n",
       "      <td>107.000000</td>\n",
       "      <td>24.000000</td>\n",
       "      <td>152.000000</td>\n",
       "      <td>15.000000</td>\n",
       "      <td>20.000000</td>\n",
       "      <td>8.000000</td>\n",
       "      <td>64.000000</td>\n",
       "      <td>152.000000</td>\n",
       "      <td>135.000000</td>\n",
       "      <td>147.000000</td>\n",
       "      <td>62.000000</td>\n",
       "      <td>55.00000</td>\n",
       "      <td>157.00000</td>\n",
       "    </tr>\n",
       "    <tr>\n",
       "      <th>10</th>\n",
       "      <td>Stephan Jaeger</td>\n",
       "      <td>7700</td>\n",
       "      <td>0.583361</td>\n",
       "      <td>41.5</td>\n",
       "      <td>63.000000</td>\n",
       "      <td>60.0</td>\n",
       "      <td>81.0</td>\n",
       "      <td>52.0</td>\n",
       "      <td>725.800</td>\n",
       "      <td>74.00000</td>\n",
       "      <td>135.000000</td>\n",
       "      <td>39.000000</td>\n",
       "      <td>53.000000</td>\n",
       "      <td>25.000000</td>\n",
       "      <td>23.000000</td>\n",
       "      <td>65.000000</td>\n",
       "      <td>64.000000</td>\n",
       "      <td>88.000000</td>\n",
       "      <td>142.000000</td>\n",
       "      <td>60.000000</td>\n",
       "      <td>153.000000</td>\n",
       "      <td>124.00000</td>\n",
       "      <td>148.00000</td>\n",
       "    </tr>\n",
       "    <tr>\n",
       "      <th>11</th>\n",
       "      <td>Si Woo Kim</td>\n",
       "      <td>9200</td>\n",
       "      <td>0.519148</td>\n",
       "      <td>42.5</td>\n",
       "      <td>68.300000</td>\n",
       "      <td>35.0</td>\n",
       "      <td>71.4</td>\n",
       "      <td>62.0</td>\n",
       "      <td>803.435</td>\n",
       "      <td>13.00000</td>\n",
       "      <td>35.000000</td>\n",
       "      <td>51.000000</td>\n",
       "      <td>14.000000</td>\n",
       "      <td>134.000000</td>\n",
       "      <td>30.000000</td>\n",
       "      <td>130.000000</td>\n",
       "      <td>31.000000</td>\n",
       "      <td>12.000000</td>\n",
       "      <td>75.000000</td>\n",
       "      <td>137.000000</td>\n",
       "      <td>26.000000</td>\n",
       "      <td>84.00000</td>\n",
       "      <td>40.00000</td>\n",
       "    </tr>\n",
       "    <tr>\n",
       "      <th>12</th>\n",
       "      <td>Matt Fitzpatrick</td>\n",
       "      <td>8400</td>\n",
       "      <td>0.510535</td>\n",
       "      <td>43.4</td>\n",
       "      <td>57.139423</td>\n",
       "      <td>40.0</td>\n",
       "      <td>78.6</td>\n",
       "      <td>75.0</td>\n",
       "      <td>439.091</td>\n",
       "      <td>88.00000</td>\n",
       "      <td>72.000000</td>\n",
       "      <td>105.000000</td>\n",
       "      <td>112.000000</td>\n",
       "      <td>63.000000</td>\n",
       "      <td>126.000000</td>\n",
       "      <td>145.000000</td>\n",
       "      <td>119.000000</td>\n",
       "      <td>66.000000</td>\n",
       "      <td>53.000000</td>\n",
       "      <td>100.000000</td>\n",
       "      <td>51.000000</td>\n",
       "      <td>92.00000</td>\n",
       "      <td>108.00000</td>\n",
       "    </tr>\n",
       "    <tr>\n",
       "      <th>13</th>\n",
       "      <td>Michael Kim</td>\n",
       "      <td>7700</td>\n",
       "      <td>0.508155</td>\n",
       "      <td>41.1</td>\n",
       "      <td>80.500000</td>\n",
       "      <td>60.0</td>\n",
       "      <td>76.0</td>\n",
       "      <td>55.0</td>\n",
       "      <td>1270.774</td>\n",
       "      <td>39.00000</td>\n",
       "      <td>95.000000</td>\n",
       "      <td>47.000000</td>\n",
       "      <td>27.000000</td>\n",
       "      <td>92.000000</td>\n",
       "      <td>147.000000</td>\n",
       "      <td>152.000000</td>\n",
       "      <td>46.000000</td>\n",
       "      <td>50.000000</td>\n",
       "      <td>125.000000</td>\n",
       "      <td>93.000000</td>\n",
       "      <td>106.000000</td>\n",
       "      <td>121.00000</td>\n",
       "      <td>23.00000</td>\n",
       "    </tr>\n",
       "    <tr>\n",
       "      <th>14</th>\n",
       "      <td>Patrick Cantlay</td>\n",
       "      <td>10200</td>\n",
       "      <td>0.498903</td>\n",
       "      <td>26.8</td>\n",
       "      <td>57.139423</td>\n",
       "      <td>14.0</td>\n",
       "      <td>86.7</td>\n",
       "      <td>20.0</td>\n",
       "      <td>1250.952</td>\n",
       "      <td>9.00000</td>\n",
       "      <td>26.000000</td>\n",
       "      <td>14.000000</td>\n",
       "      <td>58.000000</td>\n",
       "      <td>68.000000</td>\n",
       "      <td>17.000000</td>\n",
       "      <td>130.000000</td>\n",
       "      <td>5.000000</td>\n",
       "      <td>81.000000</td>\n",
       "      <td>39.000000</td>\n",
       "      <td>70.000000</td>\n",
       "      <td>71.000000</td>\n",
       "      <td>3.00000</td>\n",
       "      <td>128.00000</td>\n",
       "    </tr>\n",
       "    <tr>\n",
       "      <th>15</th>\n",
       "      <td>Min Woo Lee</td>\n",
       "      <td>8500</td>\n",
       "      <td>0.493628</td>\n",
       "      <td>45.3</td>\n",
       "      <td>2.000000</td>\n",
       "      <td>45.0</td>\n",
       "      <td>80.0</td>\n",
       "      <td>38.0</td>\n",
       "      <td>825.806</td>\n",
       "      <td>79.00000</td>\n",
       "      <td>103.000000</td>\n",
       "      <td>145.000000</td>\n",
       "      <td>10.000000</td>\n",
       "      <td>57.000000</td>\n",
       "      <td>97.000000</td>\n",
       "      <td>103.000000</td>\n",
       "      <td>104.000000</td>\n",
       "      <td>136.000000</td>\n",
       "      <td>50.000000</td>\n",
       "      <td>12.000000</td>\n",
       "      <td>137.000000</td>\n",
       "      <td>125.00000</td>\n",
       "      <td>105.00000</td>\n",
       "    </tr>\n",
       "    <tr>\n",
       "      <th>16</th>\n",
       "      <td>Garrick Higgo</td>\n",
       "      <td>6800</td>\n",
       "      <td>0.476614</td>\n",
       "      <td>52.8</td>\n",
       "      <td>54.700000</td>\n",
       "      <td>200.0</td>\n",
       "      <td>77.8</td>\n",
       "      <td>138.0</td>\n",
       "      <td>169.622</td>\n",
       "      <td>93.62931</td>\n",
       "      <td>88.724138</td>\n",
       "      <td>92.862069</td>\n",
       "      <td>88.836207</td>\n",
       "      <td>94.844828</td>\n",
       "      <td>92.577586</td>\n",
       "      <td>80.956897</td>\n",
       "      <td>83.594828</td>\n",
       "      <td>82.508621</td>\n",
       "      <td>83.853448</td>\n",
       "      <td>79.982759</td>\n",
       "      <td>89.163793</td>\n",
       "      <td>87.87069</td>\n",
       "      <td>83.12069</td>\n",
       "    </tr>\n",
       "    <tr>\n",
       "      <th>17</th>\n",
       "      <td>Luke Clanton</td>\n",
       "      <td>9000</td>\n",
       "      <td>0.448258</td>\n",
       "      <td>47.6</td>\n",
       "      <td>10.000000</td>\n",
       "      <td>40.0</td>\n",
       "      <td>62.5</td>\n",
       "      <td>117.0</td>\n",
       "      <td>25.750</td>\n",
       "      <td>93.62931</td>\n",
       "      <td>88.724138</td>\n",
       "      <td>92.862069</td>\n",
       "      <td>88.836207</td>\n",
       "      <td>94.844828</td>\n",
       "      <td>92.577586</td>\n",
       "      <td>80.956897</td>\n",
       "      <td>83.594828</td>\n",
       "      <td>82.508621</td>\n",
       "      <td>83.853448</td>\n",
       "      <td>79.982759</td>\n",
       "      <td>89.163793</td>\n",
       "      <td>87.87069</td>\n",
       "      <td>83.12069</td>\n",
       "    </tr>\n",
       "    <tr>\n",
       "      <th>18</th>\n",
       "      <td>Thriston Lawrence</td>\n",
       "      <td>6900</td>\n",
       "      <td>0.440736</td>\n",
       "      <td>79.1</td>\n",
       "      <td>57.139423</td>\n",
       "      <td>150.0</td>\n",
       "      <td>20.0</td>\n",
       "      <td>83.0</td>\n",
       "      <td>102.043</td>\n",
       "      <td>93.62931</td>\n",
       "      <td>88.724138</td>\n",
       "      <td>92.862069</td>\n",
       "      <td>88.836207</td>\n",
       "      <td>94.844828</td>\n",
       "      <td>92.577586</td>\n",
       "      <td>80.956897</td>\n",
       "      <td>83.594828</td>\n",
       "      <td>82.508621</td>\n",
       "      <td>83.853448</td>\n",
       "      <td>79.982759</td>\n",
       "      <td>89.163793</td>\n",
       "      <td>87.87069</td>\n",
       "      <td>83.12069</td>\n",
       "    </tr>\n",
       "    <tr>\n",
       "      <th>19</th>\n",
       "      <td>Collin Morikawa</td>\n",
       "      <td>10900</td>\n",
       "      <td>0.429588</td>\n",
       "      <td>24.8</td>\n",
       "      <td>2.000000</td>\n",
       "      <td>12.0</td>\n",
       "      <td>100.0</td>\n",
       "      <td>5.0</td>\n",
       "      <td>1352.158</td>\n",
       "      <td>2.00000</td>\n",
       "      <td>10.000000</td>\n",
       "      <td>6.000000</td>\n",
       "      <td>79.000000</td>\n",
       "      <td>109.000000</td>\n",
       "      <td>8.000000</td>\n",
       "      <td>8.000000</td>\n",
       "      <td>31.000000</td>\n",
       "      <td>96.000000</td>\n",
       "      <td>53.000000</td>\n",
       "      <td>149.000000</td>\n",
       "      <td>2.000000</td>\n",
       "      <td>27.00000</td>\n",
       "      <td>115.00000</td>\n",
       "    </tr>\n",
       "  </tbody>\n",
       "</table>\n",
       "</div>"
      ],
      "text/plain": [
       "               PLAYER  SALARY  PROBABILITY  RECENT_FORM  COURSE_HISTORY  \\\n",
       "0      Max Greyserman    9100     0.836727         35.6       31.000000   \n",
       "1         Ben Griffin    9800     0.813217         35.6       32.000000   \n",
       "2      Davis Thompson    8100     0.673072         50.3       28.000000   \n",
       "3       Wyndham Clark    8600     0.667525         45.1       17.000000   \n",
       "4         Ryan Gerard    7900     0.664504         35.3       56.000000   \n",
       "5          Tony Finau    8900     0.648425         45.3       71.500000   \n",
       "6          Alex Noren    7800     0.644483         45.4       48.300000   \n",
       "7       Byeong Hun An    7600     0.637630         50.0       59.700000   \n",
       "8     Jacob Bridgeman    7300     0.616447         49.8       31.000000   \n",
       "9       Akshay Bhatia    8200     0.616323         40.8       46.000000   \n",
       "10     Stephan Jaeger    7700     0.583361         41.5       63.000000   \n",
       "11         Si Woo Kim    9200     0.519148         42.5       68.300000   \n",
       "12   Matt Fitzpatrick    8400     0.510535         43.4       57.139423   \n",
       "13        Michael Kim    7700     0.508155         41.1       80.500000   \n",
       "14    Patrick Cantlay   10200     0.498903         26.8       57.139423   \n",
       "15        Min Woo Lee    8500     0.493628         45.3        2.000000   \n",
       "16      Garrick Higgo    6800     0.476614         52.8       54.700000   \n",
       "17       Luke Clanton    9000     0.448258         47.6       10.000000   \n",
       "18  Thriston Lawrence    6900     0.440736         79.1       57.139423   \n",
       "19    Collin Morikawa   10900     0.429588         24.8        2.000000   \n",
       "\n",
       "    VEGAS_ODDS  CUT_PERCENTAGE  OWGR_RANK  FEDEX_CUP_POINTS  SGTTG_RANK  \\\n",
       "0         40.0            85.0       48.0           517.887    83.00000   \n",
       "1         20.0            81.5       17.0          2039.496    26.00000   \n",
       "2         40.0            70.0       61.0           485.617    41.00000   \n",
       "3         40.0            82.4       29.0           422.873    94.00000   \n",
       "4         40.0            94.4       70.0           812.212    27.00000   \n",
       "5         40.0            75.0       44.0           670.408    65.00000   \n",
       "6         60.0            80.0       76.0           134.250    93.62931   \n",
       "7         60.0            72.2       46.0           588.934    73.00000   \n",
       "8         90.0            62.5       69.0          1135.114   130.00000   \n",
       "9         45.0            76.5       36.0           810.740    78.00000   \n",
       "10        60.0            81.0       52.0           725.800    74.00000   \n",
       "11        35.0            71.4       62.0           803.435    13.00000   \n",
       "12        40.0            78.6       75.0           439.091    88.00000   \n",
       "13        60.0            76.0       55.0          1270.774    39.00000   \n",
       "14        14.0            86.7       20.0          1250.952     9.00000   \n",
       "15        45.0            80.0       38.0           825.806    79.00000   \n",
       "16       200.0            77.8      138.0           169.622    93.62931   \n",
       "17        40.0            62.5      117.0            25.750    93.62931   \n",
       "18       150.0            20.0       83.0           102.043    93.62931   \n",
       "19        12.0           100.0        5.0          1352.158     2.00000   \n",
       "\n",
       "    SGOTT_RANK  SGAPR_RANK  SGATG_RANK    SGP_RANK  BIRDIES_RANK  PAR_3_RANK  \\\n",
       "0   114.000000   98.000000   54.000000   41.000000     39.000000  117.000000   \n",
       "1    51.000000   34.000000   56.000000   35.000000     52.000000   29.000000   \n",
       "2    27.000000   85.000000   46.000000  149.000000     37.000000  103.000000   \n",
       "3    66.000000  148.000000   36.000000   64.000000     28.000000  145.000000   \n",
       "4    49.000000   32.000000   65.000000  104.000000     90.000000   47.000000   \n",
       "5   107.000000   77.000000   31.000000  121.000000     50.000000  117.000000   \n",
       "6    88.724138   92.862069   88.836207   94.844828     92.577586   80.956897   \n",
       "7    34.000000  142.000000   41.000000  147.000000     87.000000  117.000000   \n",
       "8   122.000000  111.000000  114.000000    7.000000     77.000000   47.000000   \n",
       "9   107.000000   24.000000  152.000000   15.000000     20.000000    8.000000   \n",
       "10  135.000000   39.000000   53.000000   25.000000     23.000000   65.000000   \n",
       "11   35.000000   51.000000   14.000000  134.000000     30.000000  130.000000   \n",
       "12   72.000000  105.000000  112.000000   63.000000    126.000000  145.000000   \n",
       "13   95.000000   47.000000   27.000000   92.000000    147.000000  152.000000   \n",
       "14   26.000000   14.000000   58.000000   68.000000     17.000000  130.000000   \n",
       "15  103.000000  145.000000   10.000000   57.000000     97.000000  103.000000   \n",
       "16   88.724138   92.862069   88.836207   94.844828     92.577586   80.956897   \n",
       "17   88.724138   92.862069   88.836207   94.844828     92.577586   80.956897   \n",
       "18   88.724138   92.862069   88.836207   94.844828     92.577586   80.956897   \n",
       "19   10.000000    6.000000   79.000000  109.000000      8.000000    8.000000   \n",
       "\n",
       "    PAR_4_RANK  PAR_5_RANK  TOTAL_DRIVING_RANK  DRIVING_DISTANCE_RANK  \\\n",
       "0    88.000000   66.000000           99.000000              36.000000   \n",
       "1    46.000000   36.000000           53.000000              64.000000   \n",
       "2    88.000000   36.000000           24.000000              73.000000   \n",
       "3    88.000000   23.000000           42.000000              15.000000   \n",
       "4    64.000000  114.000000           35.000000              81.000000   \n",
       "5   104.000000  127.000000           89.000000              67.000000   \n",
       "6    83.594828   82.508621           83.853448              79.982759   \n",
       "7    64.000000  136.000000          102.000000              44.000000   \n",
       "8   104.000000   66.000000          157.000000             117.000000   \n",
       "9    64.000000  152.000000          135.000000             147.000000   \n",
       "10   64.000000   88.000000          142.000000              60.000000   \n",
       "11   31.000000   12.000000           75.000000             137.000000   \n",
       "12  119.000000   66.000000           53.000000             100.000000   \n",
       "13   46.000000   50.000000          125.000000              93.000000   \n",
       "14    5.000000   81.000000           39.000000              70.000000   \n",
       "15  104.000000  136.000000           50.000000              12.000000   \n",
       "16   83.594828   82.508621           83.853448              79.982759   \n",
       "17   83.594828   82.508621           83.853448              79.982759   \n",
       "18   83.594828   82.508621           83.853448              79.982759   \n",
       "19   31.000000   96.000000           53.000000             149.000000   \n",
       "\n",
       "    DRIVING_ACCURACY_RANK   GIR_RANK  SCRAMBLING_RANK  \n",
       "0              141.000000  107.00000        141.00000  \n",
       "1               87.000000   17.00000        102.00000  \n",
       "2               41.000000   42.00000        124.00000  \n",
       "3              129.000000  115.00000        134.00000  \n",
       "4               58.000000  121.00000         77.00000  \n",
       "5              105.000000   91.00000        130.00000  \n",
       "6               89.163793   87.87069         83.12069  \n",
       "7              135.000000  127.00000        110.00000  \n",
       "8              116.000000  136.00000         64.00000  \n",
       "9               62.000000   55.00000        157.00000  \n",
       "10             153.000000  124.00000        148.00000  \n",
       "11              26.000000   84.00000         40.00000  \n",
       "12              51.000000   92.00000        108.00000  \n",
       "13             106.000000  121.00000         23.00000  \n",
       "14              71.000000    3.00000        128.00000  \n",
       "15             137.000000  125.00000        105.00000  \n",
       "16              89.163793   87.87069         83.12069  \n",
       "17              89.163793   87.87069         83.12069  \n",
       "18              89.163793   87.87069         83.12069  \n",
       "19               2.000000   27.00000        115.00000  "
      ]
     },
     "execution_count": 34,
     "metadata": {},
     "output_type": "execute_result"
    }
   ],
   "source": [
    "# === Prepare test data (this week's players) ===\n",
    "\n",
    "# Select and standardize features using the same scaler as training\n",
    "X_test = this_week[feature_cols]\n",
    "X_test_scaled = scaler.transform(X_test)\n",
    "\n",
    "# === Predict probabilities for Top 20 finish ===\n",
    "# CalibratedClassifierCV returns well-calibrated probabilities\n",
    "this_week[\"PROBABILITY\"] = final_model.predict_proba(X_test_scaled)[:, 1]\n",
    "\n",
    "# === Sort results by highest predicted probability ===\n",
    "this_week_sorted = this_week.sort_values(by=\"PROBABILITY\", ascending=False).reset_index(drop=True)\n",
    "\n",
    "# === Define final column order explicitly ===\n",
    "columns_to_show = [\n",
    "    \"PLAYER\", \"SALARY\", \"PROBABILITY\",\n",
    "    \"RECENT_FORM\", \"COURSE_HISTORY\", \"VEGAS_ODDS\", \"CUT_PERCENTAGE\", \n",
    "    \"OWGR_RANK\", \"FEDEX_CUP_POINTS\",\n",
    "\n",
    "    # SG stats\n",
    "    \"SGTTG_RANK\", \"SGOTT_RANK\", \"SGAPR_RANK\", \"SGATG_RANK\", \"SGP_RANK\",\n",
    "\n",
    "    # Scoring/Performance\n",
    "    \"BIRDIES_RANK\", \"PAR_3_RANK\", \"PAR_4_RANK\", \"PAR_5_RANK\",\n",
    "\n",
    "    # Driving / Ball Striking\n",
    "    \"TOTAL_DRIVING_RANK\", \"DRIVING_DISTANCE_RANK\", \"DRIVING_ACCURACY_RANK\",\n",
    "    \"GIR_RANK\", \"SCRAMBLING_RANK\"\n",
    "]\n",
    "\n",
    "# Keep only columns that exist in the dataframe\n",
    "columns_to_show = [col for col in columns_to_show if col in this_week_sorted.columns]\n",
    "\n",
    "# Final dataframe for display/export\n",
    "export_df = this_week_sorted[columns_to_show].copy()\n",
    "\n",
    "# Preview top 20\n",
    "export_df.head(20)\n"
   ]
  },
  {
   "cell_type": "markdown",
   "id": "8641f78e",
   "metadata": {},
   "source": [
    "### Save to CSV"
   ]
  },
  {
   "cell_type": "code",
   "execution_count": 35,
   "id": "323933e9",
   "metadata": {},
   "outputs": [
    {
     "name": "stdout",
     "output_type": "stream",
     "text": [
      "✅ Exported to data/current_week_export.csv\n"
     ]
    }
   ],
   "source": [
    "# Ensure required columns for spreadsheet export\n",
    "if \"COURSE_HISTORY\" not in export_df.columns:\n",
    "    export_df[\"COURSE_HISTORY\"] = \"-\"\n",
    "\n",
    "# Define columns to round (FedEx + stats)\n",
    "columns_to_round = [\n",
    "    \"FEDEX_CUP_POINTS\",\n",
    "    \"SGTTG_RANK\", \"SGOTT_RANK\", \"SGAPR_RANK\", \"SGATG_RANK\", \"SGP_RANK\",\n",
    "    \"BIRDIES_RANK\", \"PAR_3_RANK\", \"PAR_4_RANK\", \"PAR_5_RANK\",\n",
    "    \"TOTAL_DRIVING_RANK\", \"DRIVING_DISTANCE_RANK\", \"DRIVING_ACCURACY_RANK\",\n",
    "    \"GIR_RANK\", \"SCRAMBLING_RANK\"\n",
    "]\n",
    "\n",
    "columns_to_round_1 = [\n",
    "    \"COURSE_HISTORY\", \"CUT_PERCENTAGE\"\n",
    "]\n",
    "\n",
    "# Round only the selected columns to 0 decimal places\n",
    "export_df[columns_to_round] = export_df[columns_to_round].round(0).astype(\"Int64\")\n",
    "# Round only the selected columns to 1 decimal places\n",
    "export_df[columns_to_round_1] = export_df[columns_to_round_1].round(1)\n",
    "\n",
    "# Explicit column order for Excel integration\n",
    "column_order = [\n",
    "    \"PLAYER\", \"SALARY\", \"PROBABILITY\", \"RECENT_FORM\", \"COURSE_HISTORY\", \"VEGAS_ODDS\", \n",
    "    \"CUT_PERCENTAGE\", \"OWGR_RANK\", \"FEDEX_CUP_POINTS\", \n",
    "    \"SGTTG_RANK\", \"SGOTT_RANK\", \"SGAPR_RANK\", \"SGATG_RANK\", \"SGP_RANK\",\n",
    "    \"BIRDIES_RANK\", \"PAR_3_RANK\", \"PAR_4_RANK\", \"PAR_5_RANK\",\n",
    "    \"TOTAL_DRIVING_RANK\", \"DRIVING_DISTANCE_RANK\", \"DRIVING_ACCURACY_RANK\",\n",
    "    \"GIR_RANK\", \"SCRAMBLING_RANK\"\n",
    "]\n",
    "\n",
    "# Ensure all expected columns exist\n",
    "for col in column_order:\n",
    "    if col not in export_df.columns:\n",
    "        export_df[col] = \"-\" if col == \"COURSE_HISTORY\" else np.nan\n",
    "\n",
    "# Reorder columns to match Excel layout\n",
    "export_df = export_df[column_order]\n",
    "\n",
    "# Export to CSV\n",
    "filename = f\"data/current_week_export.csv\"\n",
    "export_df.to_csv(filename, index=False)\n",
    "print(f\"✅ Exported to {filename}\")"
   ]
  }
 ],
 "metadata": {
  "kernelspec": {
   "display_name": "Python 3",
   "language": "python",
   "name": "python3"
  },
  "language_info": {
   "codemirror_mode": {
    "name": "ipython",
    "version": 3
   },
   "file_extension": ".py",
   "mimetype": "text/x-python",
   "name": "python",
   "nbconvert_exporter": "python",
   "pygments_lexer": "ipython3",
   "version": "3.13.3"
  }
 },
 "nbformat": 4,
 "nbformat_minor": 5
}
