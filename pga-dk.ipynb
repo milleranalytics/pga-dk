{
 "cells": [
  {
   "cell_type": "markdown",
   "id": "51850cd5",
   "metadata": {},
   "source": [
    "## PGA Draftkings Notebook\n",
    "Use [PGA Website](https://www.pgatour.com/tournaments/schedule.html) to look up tournament info and fill out first USER INPUT block below. (Fetch/XHR from Network tab, Paylod sub-tab)\n",
    "\n",
    "Looks like the tournament ID is also in the address bar."
   ]
  },
  {
   "cell_type": "markdown",
   "id": "cc589d19",
   "metadata": {},
   "source": [
    "### User Input"
   ]
  },
  {
   "cell_type": "code",
   "execution_count": 1,
   "id": "5b16fd89",
   "metadata": {},
   "outputs": [],
   "source": [
    "# === USER INPUTS ===\n",
    "# Old Tournament\n",
    "old_tournament_name = \"3M Open\"\n",
    "tournament_date = \"7/27/2025\"  # Ending date of tournament\n",
    "old_course = \"TPC Twin Cities\"\n",
    "tournament_id = \"R2025525\"  # Tournament ID from the PGA Tour API - Also visible in the URL of the tournament page\n",
    "\n",
    "# New Tournament\n",
    "new_tournament_name = \"Wyndham Championship\"\n",
    "new_ending_date = \"8/3/2025\"\n",
    "new_course = \"Sedgefield Country Club\"\n",
    "new_season = 2025\n",
    "\n",
    "\n",
    "# === LIBRARIES AND VARIABLES ===\n",
    "# Import necessary libraries\n",
    "import requests\n",
    "import pandas as pd\n",
    "from datetime import datetime\n",
    "import sqlite3 as sql\n",
    "import numpy as np\n",
    "from numpy import nan\n",
    "import os\n",
    "import importlib\n",
    "import utils.db_utils\n",
    "from utils.db_utils import TOURNAMENT_NAME_MAP, PLAYER_NAME_MAP\n",
    "\n",
    "# === TOURNAMENT CONFIG ===\n",
    "tournament_config = {\n",
    "    \"old\": {\n",
    "        \"name\": old_tournament_name,\n",
    "        \"date\": tournament_date,\n",
    "        \"course\": old_course,\n",
    "        \"id\": tournament_id\n",
    "    },\n",
    "    \"new\": {\n",
    "        \"name\": new_tournament_name,\n",
    "        \"course\": new_course,\n",
    "        \"season\": new_season,\n",
    "        \"ending_date\": pd.to_datetime(new_ending_date, format=\"%m/%d/%Y\"),\n",
    "        \"quoted_course\": f'\"{new_course}\"',\n",
    "        \"quoted_name\": f\"'{new_tournament_name}'\"\n",
    "    }\n",
    "}\n",
    "\n",
    "this_week_key = str(tournament_config[\"new\"][\"ending_date\"].date())\n",
    "\n",
    "# Create a minimal one-row history DataFrame\n",
    "this_week_history = pd.DataFrame([{\n",
    "    \"SEASON\": tournament_config[\"new\"][\"season\"],\n",
    "    \"TOURNAMENT\": tournament_config[\"new\"][\"name\"],\n",
    "    \"ENDING_DATE\": tournament_config[\"new\"][\"ending_date\"],\n",
    "    \"COURSE\": tournament_config[\"new\"][\"course\"],\n",
    "    \"TOURN_ID\": None\n",
    "}])"
   ]
  },
  {
   "cell_type": "markdown",
   "id": "cd739282",
   "metadata": {},
   "source": [
    "### Update Database"
   ]
  },
  {
   "cell_type": "markdown",
   "id": "cebfc2dc",
   "metadata": {},
   "source": [
    "#### Old Tournament"
   ]
  },
  {
   "cell_type": "code",
   "execution_count": 2,
   "id": "31b12dc0",
   "metadata": {},
   "outputs": [
    {
     "name": "stdout",
     "output_type": "stream",
     "text": [
      "📦 Fetching results for tournament ID R2025525 (3M Open), year: 20250\n",
      "✅ 156 new rows added for '3M Open'\n"
     ]
    },
    {
     "data": {
      "text/html": [
       "<div>\n",
       "<style scoped>\n",
       "    .dataframe tbody tr th:only-of-type {\n",
       "        vertical-align: middle;\n",
       "    }\n",
       "\n",
       "    .dataframe tbody tr th {\n",
       "        vertical-align: top;\n",
       "    }\n",
       "\n",
       "    .dataframe thead th {\n",
       "        text-align: right;\n",
       "    }\n",
       "</style>\n",
       "<table border=\"1\" class=\"dataframe\">\n",
       "  <thead>\n",
       "    <tr style=\"text-align: right;\">\n",
       "      <th></th>\n",
       "      <th>SEASON</th>\n",
       "      <th>ENDING_DATE</th>\n",
       "      <th>TOURN_ID</th>\n",
       "      <th>TOURNAMENT</th>\n",
       "      <th>COURSE</th>\n",
       "      <th>PLAYER</th>\n",
       "      <th>POS</th>\n",
       "      <th>FINAL_POS</th>\n",
       "      <th>ROUNDS:1</th>\n",
       "      <th>ROUNDS:2</th>\n",
       "      <th>ROUNDS:3</th>\n",
       "      <th>ROUNDS:4</th>\n",
       "      <th>OFFICIAL_MONEY</th>\n",
       "      <th>FEDEX_CUP_POINTS</th>\n",
       "    </tr>\n",
       "  </thead>\n",
       "  <tbody>\n",
       "    <tr>\n",
       "      <th>0</th>\n",
       "      <td>2025</td>\n",
       "      <td>2025-07-27</td>\n",
       "      <td>R2025525</td>\n",
       "      <td>3M Open</td>\n",
       "      <td>TPC Twin Cities</td>\n",
       "      <td>Kurt Kitayama</td>\n",
       "      <td>1</td>\n",
       "      <td>1</td>\n",
       "      <td>-6</td>\n",
       "      <td>E</td>\n",
       "      <td>-11</td>\n",
       "      <td>-6</td>\n",
       "      <td>$1,512,000.00</td>\n",
       "      <td>500.000</td>\n",
       "    </tr>\n",
       "    <tr>\n",
       "      <th>1</th>\n",
       "      <td>2025</td>\n",
       "      <td>2025-07-27</td>\n",
       "      <td>R2025525</td>\n",
       "      <td>3M Open</td>\n",
       "      <td>TPC Twin Cities</td>\n",
       "      <td>Sam Stevens</td>\n",
       "      <td>2</td>\n",
       "      <td>2</td>\n",
       "      <td>-9</td>\n",
       "      <td>-3</td>\n",
       "      <td>-5</td>\n",
       "      <td>-5</td>\n",
       "      <td>$915,600.00</td>\n",
       "      <td>300.000</td>\n",
       "    </tr>\n",
       "    <tr>\n",
       "      <th>2</th>\n",
       "      <td>2025</td>\n",
       "      <td>2025-07-27</td>\n",
       "      <td>R2025525</td>\n",
       "      <td>3M Open</td>\n",
       "      <td>TPC Twin Cities</td>\n",
       "      <td>Matt Wallace</td>\n",
       "      <td>T3</td>\n",
       "      <td>3</td>\n",
       "      <td>-6</td>\n",
       "      <td>-4</td>\n",
       "      <td>-3</td>\n",
       "      <td>-7</td>\n",
       "      <td>$410,025.00</td>\n",
       "      <td>133.750</td>\n",
       "    </tr>\n",
       "    <tr>\n",
       "      <th>3</th>\n",
       "      <td>2025</td>\n",
       "      <td>2025-07-27</td>\n",
       "      <td>R2025525</td>\n",
       "      <td>3M Open</td>\n",
       "      <td>TPC Twin Cities</td>\n",
       "      <td>David Lipsky</td>\n",
       "      <td>T3</td>\n",
       "      <td>3</td>\n",
       "      <td>-3</td>\n",
       "      <td>-3</td>\n",
       "      <td>-7</td>\n",
       "      <td>-7</td>\n",
       "      <td>$410,025.00</td>\n",
       "      <td>133.750</td>\n",
       "    </tr>\n",
       "    <tr>\n",
       "      <th>4</th>\n",
       "      <td>2025</td>\n",
       "      <td>2025-07-27</td>\n",
       "      <td>R2025525</td>\n",
       "      <td>3M Open</td>\n",
       "      <td>TPC Twin Cities</td>\n",
       "      <td>Pierceson Coody</td>\n",
       "      <td>T3</td>\n",
       "      <td>3</td>\n",
       "      <td>-6</td>\n",
       "      <td>-6</td>\n",
       "      <td>-4</td>\n",
       "      <td>-4</td>\n",
       "      <td>$410,025.00</td>\n",
       "      <td>133.750</td>\n",
       "    </tr>\n",
       "  </tbody>\n",
       "</table>\n",
       "</div>"
      ],
      "text/plain": [
       "   SEASON ENDING_DATE  TOURN_ID TOURNAMENT           COURSE           PLAYER  \\\n",
       "0    2025  2025-07-27  R2025525    3M Open  TPC Twin Cities    Kurt Kitayama   \n",
       "1    2025  2025-07-27  R2025525    3M Open  TPC Twin Cities      Sam Stevens   \n",
       "2    2025  2025-07-27  R2025525    3M Open  TPC Twin Cities     Matt Wallace   \n",
       "3    2025  2025-07-27  R2025525    3M Open  TPC Twin Cities     David Lipsky   \n",
       "4    2025  2025-07-27  R2025525    3M Open  TPC Twin Cities  Pierceson Coody   \n",
       "\n",
       "  POS  FINAL_POS ROUNDS:1 ROUNDS:2 ROUNDS:3 ROUNDS:4 OFFICIAL_MONEY  \\\n",
       "0   1          1       -6        E      -11       -6  $1,512,000.00   \n",
       "1   2          2       -9       -3       -5       -5    $915,600.00   \n",
       "2  T3          3       -6       -4       -3       -7    $410,025.00   \n",
       "3  T3          3       -3       -3       -7       -7    $410,025.00   \n",
       "4  T3          3       -6       -6       -4       -4    $410,025.00   \n",
       "\n",
       "  FEDEX_CUP_POINTS  \n",
       "0          500.000  \n",
       "1          300.000  \n",
       "2          133.750  \n",
       "3          133.750  \n",
       "4          133.750  "
      ]
     },
     "execution_count": 2,
     "metadata": {},
     "output_type": "execute_result"
    }
   ],
   "source": [
    "importlib.reload(utils.db_utils)  # Only needed if you're actively editing db_utils.py\n",
    "from utils.db_utils import update_tournament_results\n",
    "\n",
    "# Change these each year!!\n",
    "season = 2025\n",
    "year = 20250  # Unique GraphQL year distinguishing number in case of multiple per year\n",
    "\n",
    "# Run the update\n",
    "db_path = \"data/golf.db\"  # Or use os.path.join(\"data\", \"golf.db\")\n",
    "tournDf = update_tournament_results(tournament_config, db_path, season, year)\n",
    "\n",
    "# Show just the most recent tournament added for confirmation\n",
    "from sqlalchemy import create_engine\n",
    "\n",
    "engine = create_engine(f\"sqlite:///{db_path}\")\n",
    "\n",
    "query = f\"\"\"\n",
    "SELECT *\n",
    "FROM tournaments\n",
    "WHERE TOURN_ID = '{tournament_config['old']['id']}'\n",
    "  AND ENDING_DATE = '{datetime.strptime(tournament_config['old']['date'], '%m/%d/%Y').date()}'\n",
    "\"\"\"\n",
    "\n",
    "recent = pd.read_sql(query, engine)\n",
    "engine.dispose()\n",
    "recent.sort_values(by='FINAL_POS').head()"
   ]
  },
  {
   "cell_type": "markdown",
   "id": "fb1dcb69",
   "metadata": {},
   "source": [
    "#### Stats"
   ]
  },
  {
   "cell_type": "code",
   "execution_count": 3,
   "id": "0cf3acf5",
   "metadata": {},
   "outputs": [
    {
     "name": "stdout",
     "output_type": "stream",
     "text": [
      "✅ Overwrote stats for season 2025 with 998 rows.\n"
     ]
    },
    {
     "data": {
      "text/html": [
       "<div>\n",
       "<style scoped>\n",
       "    .dataframe tbody tr th:only-of-type {\n",
       "        vertical-align: middle;\n",
       "    }\n",
       "\n",
       "    .dataframe tbody tr th {\n",
       "        vertical-align: top;\n",
       "    }\n",
       "\n",
       "    .dataframe thead th {\n",
       "        text-align: right;\n",
       "    }\n",
       "</style>\n",
       "<table border=\"1\" class=\"dataframe\">\n",
       "  <thead>\n",
       "    <tr style=\"text-align: right;\">\n",
       "      <th></th>\n",
       "      <th>PLAYER</th>\n",
       "      <th>SGTTG_RANK</th>\n",
       "      <th>SGTTG</th>\n",
       "      <th>SGOTT_RANK</th>\n",
       "      <th>SGOTT</th>\n",
       "      <th>SGAPR_RANK</th>\n",
       "      <th>SGAPR</th>\n",
       "      <th>SGATG_RANK</th>\n",
       "      <th>SGATG</th>\n",
       "      <th>SGP_RANK</th>\n",
       "      <th>...</th>\n",
       "      <th>DRIVING_DISTANCE</th>\n",
       "      <th>DRIVING_ACCURACY_RANK</th>\n",
       "      <th>DRIVING_ACCURACY</th>\n",
       "      <th>GIR_RANK</th>\n",
       "      <th>GIR</th>\n",
       "      <th>SCRAMBLING_RANK</th>\n",
       "      <th>SCRAMBLING</th>\n",
       "      <th>OWGR_RANK</th>\n",
       "      <th>OWGR</th>\n",
       "      <th>SEASON</th>\n",
       "    </tr>\n",
       "  </thead>\n",
       "  <tbody>\n",
       "    <tr>\n",
       "      <th>0</th>\n",
       "      <td>A.J. Ewart</td>\n",
       "      <td>NaN</td>\n",
       "      <td>NaN</td>\n",
       "      <td>NaN</td>\n",
       "      <td>NaN</td>\n",
       "      <td>NaN</td>\n",
       "      <td>NaN</td>\n",
       "      <td>NaN</td>\n",
       "      <td>NaN</td>\n",
       "      <td>NaN</td>\n",
       "      <td>...</td>\n",
       "      <td>NaN</td>\n",
       "      <td>NaN</td>\n",
       "      <td>NaN</td>\n",
       "      <td>NaN</td>\n",
       "      <td>NaN</td>\n",
       "      <td>NaN</td>\n",
       "      <td>NaN</td>\n",
       "      <td>618</td>\n",
       "      <td>.1979</td>\n",
       "      <td>2025</td>\n",
       "    </tr>\n",
       "    <tr>\n",
       "      <th>1</th>\n",
       "      <td>Aaron Baddeley</td>\n",
       "      <td>173.0</td>\n",
       "      <td>-1.327</td>\n",
       "      <td>175.0</td>\n",
       "      <td>-1.232</td>\n",
       "      <td>169.0</td>\n",
       "      <td>-0.543</td>\n",
       "      <td>9.0</td>\n",
       "      <td>0.447</td>\n",
       "      <td>158.0</td>\n",
       "      <td>...</td>\n",
       "      <td>289.8</td>\n",
       "      <td>120.0</td>\n",
       "      <td>57.27%</td>\n",
       "      <td>175.0</td>\n",
       "      <td>59.76%</td>\n",
       "      <td>85.0</td>\n",
       "      <td>59.60%</td>\n",
       "      <td>514</td>\n",
       "      <td>.2509</td>\n",
       "      <td>2025</td>\n",
       "    </tr>\n",
       "    <tr>\n",
       "      <th>2</th>\n",
       "      <td>Aaron Cockerill</td>\n",
       "      <td>NaN</td>\n",
       "      <td>NaN</td>\n",
       "      <td>NaN</td>\n",
       "      <td>NaN</td>\n",
       "      <td>NaN</td>\n",
       "      <td>NaN</td>\n",
       "      <td>NaN</td>\n",
       "      <td>NaN</td>\n",
       "      <td>NaN</td>\n",
       "      <td>...</td>\n",
       "      <td>NaN</td>\n",
       "      <td>NaN</td>\n",
       "      <td>NaN</td>\n",
       "      <td>NaN</td>\n",
       "      <td>NaN</td>\n",
       "      <td>NaN</td>\n",
       "      <td>NaN</td>\n",
       "      <td>347</td>\n",
       "      <td>.4169</td>\n",
       "      <td>2025</td>\n",
       "    </tr>\n",
       "    <tr>\n",
       "      <th>3</th>\n",
       "      <td>Aaron Rai</td>\n",
       "      <td>29.0</td>\n",
       "      <td>0.724</td>\n",
       "      <td>22.0</td>\n",
       "      <td>0.390</td>\n",
       "      <td>57.0</td>\n",
       "      <td>0.246</td>\n",
       "      <td>64.0</td>\n",
       "      <td>0.087</td>\n",
       "      <td>108.0</td>\n",
       "      <td>...</td>\n",
       "      <td>288.6</td>\n",
       "      <td>2.0</td>\n",
       "      <td>73.37%</td>\n",
       "      <td>23.0</td>\n",
       "      <td>69.53%</td>\n",
       "      <td>93.0</td>\n",
       "      <td>59.26%</td>\n",
       "      <td>35</td>\n",
       "      <td>2.5936</td>\n",
       "      <td>2025</td>\n",
       "    </tr>\n",
       "    <tr>\n",
       "      <th>4</th>\n",
       "      <td>Aaron Wilkin</td>\n",
       "      <td>NaN</td>\n",
       "      <td>NaN</td>\n",
       "      <td>NaN</td>\n",
       "      <td>NaN</td>\n",
       "      <td>NaN</td>\n",
       "      <td>NaN</td>\n",
       "      <td>NaN</td>\n",
       "      <td>NaN</td>\n",
       "      <td>NaN</td>\n",
       "      <td>...</td>\n",
       "      <td>NaN</td>\n",
       "      <td>NaN</td>\n",
       "      <td>NaN</td>\n",
       "      <td>NaN</td>\n",
       "      <td>NaN</td>\n",
       "      <td>NaN</td>\n",
       "      <td>NaN</td>\n",
       "      <td>891</td>\n",
       "      <td>.1041</td>\n",
       "      <td>2025</td>\n",
       "    </tr>\n",
       "  </tbody>\n",
       "</table>\n",
       "<p>5 rows × 32 columns</p>\n",
       "</div>"
      ],
      "text/plain": [
       "            PLAYER  SGTTG_RANK   SGTTG  SGOTT_RANK   SGOTT  SGAPR_RANK  \\\n",
       "0       A.J. Ewart         NaN     NaN         NaN     NaN         NaN   \n",
       "1   Aaron Baddeley       173.0  -1.327       175.0  -1.232       169.0   \n",
       "2  Aaron Cockerill         NaN     NaN         NaN     NaN         NaN   \n",
       "3        Aaron Rai        29.0   0.724        22.0   0.390        57.0   \n",
       "4     Aaron Wilkin         NaN     NaN         NaN     NaN         NaN   \n",
       "\n",
       "    SGAPR  SGATG_RANK  SGATG  SGP_RANK  ... DRIVING_DISTANCE  \\\n",
       "0     NaN         NaN    NaN       NaN  ...              NaN   \n",
       "1  -0.543         9.0  0.447     158.0  ...            289.8   \n",
       "2     NaN         NaN    NaN       NaN  ...              NaN   \n",
       "3   0.246        64.0  0.087     108.0  ...            288.6   \n",
       "4     NaN         NaN    NaN       NaN  ...              NaN   \n",
       "\n",
       "   DRIVING_ACCURACY_RANK DRIVING_ACCURACY  GIR_RANK     GIR  SCRAMBLING_RANK  \\\n",
       "0                    NaN              NaN       NaN     NaN              NaN   \n",
       "1                  120.0           57.27%     175.0  59.76%             85.0   \n",
       "2                    NaN              NaN       NaN     NaN              NaN   \n",
       "3                    2.0           73.37%      23.0  69.53%             93.0   \n",
       "4                    NaN              NaN       NaN     NaN              NaN   \n",
       "\n",
       "  SCRAMBLING  OWGR_RANK    OWGR  SEASON  \n",
       "0        NaN        618   .1979    2025  \n",
       "1     59.60%        514   .2509    2025  \n",
       "2        NaN        347   .4169    2025  \n",
       "3     59.26%         35  2.5936    2025  \n",
       "4        NaN        891   .1041    2025  \n",
       "\n",
       "[5 rows x 32 columns]"
      ]
     },
     "execution_count": 3,
     "metadata": {},
     "output_type": "execute_result"
    }
   ],
   "source": [
    "importlib.reload(utils.db_utils)\n",
    "from utils.db_utils import update_season_stats  # <- This line is essential\n",
    "\n",
    "# Change these each year!!\n",
    "statsYear = 2025\n",
    "\n",
    "stats_df = update_season_stats(statsYear, db_path)\n",
    "stats_df.head()"
   ]
  },
  {
   "cell_type": "markdown",
   "id": "e4d0572b",
   "metadata": {},
   "source": [
    "#### Odds\n",
    "Not usually needed for weekly routine."
   ]
  },
  {
   "cell_type": "markdown",
   "id": "ed73bb90",
   "metadata": {},
   "source": [
    "**Manual Fix! Odds name cleanup (only needed when joins fail)**\n",
    "\n",
    "Make sure to update the dictionaries in db_utils.py if new names need to be added."
   ]
  },
  {
   "cell_type": "code",
   "execution_count": 19,
   "id": "f47573f7",
   "metadata": {},
   "outputs": [
    {
     "name": "stdout",
     "output_type": "stream",
     "text": [
      "✅ Cleaned and updated 207 rows in 'odds' table.\n"
     ]
    },
    {
     "data": {
      "text/html": [
       "<div>\n",
       "<style scoped>\n",
       "    .dataframe tbody tr th:only-of-type {\n",
       "        vertical-align: middle;\n",
       "    }\n",
       "\n",
       "    .dataframe tbody tr th {\n",
       "        vertical-align: top;\n",
       "    }\n",
       "\n",
       "    .dataframe thead th {\n",
       "        text-align: right;\n",
       "    }\n",
       "</style>\n",
       "<table border=\"1\" class=\"dataframe\">\n",
       "  <thead>\n",
       "    <tr style=\"text-align: right;\">\n",
       "      <th></th>\n",
       "      <th>SEASON</th>\n",
       "      <th>TOURNAMENT</th>\n",
       "      <th>ENDING_DATE</th>\n",
       "      <th>PLAYER</th>\n",
       "      <th>ODDS</th>\n",
       "      <th>VEGAS_ODDS</th>\n",
       "      <th>TOURNAMENT_ORIG</th>\n",
       "      <th>PLAYER_ORIG</th>\n",
       "    </tr>\n",
       "  </thead>\n",
       "  <tbody>\n",
       "    <tr>\n",
       "      <th>5797</th>\n",
       "      <td>2024</td>\n",
       "      <td>The Open Championship</td>\n",
       "      <td>2024-07-21</td>\n",
       "      <td>Rory McIlroy</td>\n",
       "      <td>17/2</td>\n",
       "      <td>8.5</td>\n",
       "      <td>Open Championship</td>\n",
       "      <td>Rory McIlroy</td>\n",
       "    </tr>\n",
       "    <tr>\n",
       "      <th>5798</th>\n",
       "      <td>2024</td>\n",
       "      <td>The Open Championship</td>\n",
       "      <td>2024-07-21</td>\n",
       "      <td>Jon Rahm</td>\n",
       "      <td>20/1</td>\n",
       "      <td>20.0</td>\n",
       "      <td>Open Championship</td>\n",
       "      <td>Jon Rahm</td>\n",
       "    </tr>\n",
       "    <tr>\n",
       "      <th>5799</th>\n",
       "      <td>2024</td>\n",
       "      <td>The Open Championship</td>\n",
       "      <td>2024-07-21</td>\n",
       "      <td>Scottie Scheffler</td>\n",
       "      <td>11/2</td>\n",
       "      <td>5.5</td>\n",
       "      <td>Open Championship</td>\n",
       "      <td>Scottie Scheffler</td>\n",
       "    </tr>\n",
       "    <tr>\n",
       "      <th>5800</th>\n",
       "      <td>2024</td>\n",
       "      <td>The Open Championship</td>\n",
       "      <td>2024-07-21</td>\n",
       "      <td>Viktor Hovland</td>\n",
       "      <td>30/1</td>\n",
       "      <td>30.0</td>\n",
       "      <td>Open Championship</td>\n",
       "      <td>Viktor Hovland</td>\n",
       "    </tr>\n",
       "    <tr>\n",
       "      <th>5801</th>\n",
       "      <td>2024</td>\n",
       "      <td>The Open Championship</td>\n",
       "      <td>2024-07-21</td>\n",
       "      <td>Cameron Smith</td>\n",
       "      <td>50/1</td>\n",
       "      <td>50.0</td>\n",
       "      <td>Open Championship</td>\n",
       "      <td>Cameron Smith</td>\n",
       "    </tr>\n",
       "  </tbody>\n",
       "</table>\n",
       "</div>"
      ],
      "text/plain": [
       "      SEASON             TOURNAMENT ENDING_DATE             PLAYER  ODDS  \\\n",
       "5797    2024  The Open Championship  2024-07-21       Rory McIlroy  17/2   \n",
       "5798    2024  The Open Championship  2024-07-21           Jon Rahm  20/1   \n",
       "5799    2024  The Open Championship  2024-07-21  Scottie Scheffler  11/2   \n",
       "5800    2024  The Open Championship  2024-07-21     Viktor Hovland  30/1   \n",
       "5801    2024  The Open Championship  2024-07-21      Cameron Smith  50/1   \n",
       "\n",
       "      VEGAS_ODDS    TOURNAMENT_ORIG        PLAYER_ORIG  \n",
       "5797         8.5  Open Championship       Rory McIlroy  \n",
       "5798        20.0  Open Championship           Jon Rahm  \n",
       "5799         5.5  Open Championship  Scottie Scheffler  \n",
       "5800        30.0  Open Championship     Viktor Hovland  \n",
       "5801        50.0  Open Championship      Cameron Smith  "
      ]
     },
     "execution_count": 19,
     "metadata": {},
     "output_type": "execute_result"
    }
   ],
   "source": [
    "importlib.reload(utils.db_utils)\n",
    "from utils.db_utils import clean_odds_names, PLAYER_NAME_MAP, TOURNAMENT_NAME_MAP\n",
    "\n",
    "db_path = \"data/golf.db\" \n",
    "updated_odds = clean_odds_names(db_path, TOURNAMENT_NAME_MAP, PLAYER_NAME_MAP)\n",
    "updated_odds.head()"
   ]
  },
  {
   "cell_type": "markdown",
   "id": "3ffcf8d8",
   "metadata": {},
   "source": [
    "**Historical Odds Updates**\n",
    "\n",
    "Only run this when loading in entire year odds at the start of each year or if corrections need to be made.  This will load in the entire year into the database and update it using the dictionary in db_utils.py."
   ]
  },
  {
   "cell_type": "code",
   "execution_count": 15,
   "id": "7b0ef77d",
   "metadata": {},
   "outputs": [
    {
     "name": "stdout",
     "output_type": "stream",
     "text": [
      "✅ Inserting 120 new rows into odds table...\n"
     ]
    },
    {
     "data": {
      "text/html": [
       "<div>\n",
       "<style scoped>\n",
       "    .dataframe tbody tr th:only-of-type {\n",
       "        vertical-align: middle;\n",
       "    }\n",
       "\n",
       "    .dataframe tbody tr th {\n",
       "        vertical-align: top;\n",
       "    }\n",
       "\n",
       "    .dataframe thead th {\n",
       "        text-align: right;\n",
       "    }\n",
       "</style>\n",
       "<table border=\"1\" class=\"dataframe\">\n",
       "  <thead>\n",
       "    <tr style=\"text-align: right;\">\n",
       "      <th></th>\n",
       "      <th>SEASON</th>\n",
       "      <th>TOURNAMENT</th>\n",
       "      <th>ENDING_DATE</th>\n",
       "      <th>PLAYER</th>\n",
       "      <th>ODDS</th>\n",
       "      <th>VEGAS_ODDS</th>\n",
       "    </tr>\n",
       "  </thead>\n",
       "  <tbody>\n",
       "    <tr>\n",
       "      <th>4</th>\n",
       "      <td>2023</td>\n",
       "      <td>Fortinet Championship</td>\n",
       "      <td>2022-09-18</td>\n",
       "      <td>Hideki Matsuyama</td>\n",
       "      <td>18/1</td>\n",
       "      <td>18.0</td>\n",
       "    </tr>\n",
       "    <tr>\n",
       "      <th>5</th>\n",
       "      <td>2023</td>\n",
       "      <td>Fortinet Championship</td>\n",
       "      <td>2022-09-18</td>\n",
       "      <td>Max Homa</td>\n",
       "      <td>18/1</td>\n",
       "      <td>18.0</td>\n",
       "    </tr>\n",
       "    <tr>\n",
       "      <th>6</th>\n",
       "      <td>2023</td>\n",
       "      <td>Fortinet Championship</td>\n",
       "      <td>2022-09-18</td>\n",
       "      <td>Corey Conners</td>\n",
       "      <td>20/1</td>\n",
       "      <td>20.0</td>\n",
       "    </tr>\n",
       "    <tr>\n",
       "      <th>7</th>\n",
       "      <td>2023</td>\n",
       "      <td>Fortinet Championship</td>\n",
       "      <td>2022-09-18</td>\n",
       "      <td>Maverick McNealy</td>\n",
       "      <td>25/1</td>\n",
       "      <td>25.0</td>\n",
       "    </tr>\n",
       "    <tr>\n",
       "      <th>8</th>\n",
       "      <td>2023</td>\n",
       "      <td>Fortinet Championship</td>\n",
       "      <td>2022-09-18</td>\n",
       "      <td>Taylor Pendrith</td>\n",
       "      <td>25/1</td>\n",
       "      <td>25.0</td>\n",
       "    </tr>\n",
       "  </tbody>\n",
       "</table>\n",
       "</div>"
      ],
      "text/plain": [
       "   SEASON             TOURNAMENT ENDING_DATE            PLAYER  ODDS  \\\n",
       "4    2023  Fortinet Championship  2022-09-18  Hideki Matsuyama  18/1   \n",
       "5    2023  Fortinet Championship  2022-09-18          Max Homa  18/1   \n",
       "6    2023  Fortinet Championship  2022-09-18     Corey Conners  20/1   \n",
       "7    2023  Fortinet Championship  2022-09-18  Maverick McNealy  25/1   \n",
       "8    2023  Fortinet Championship  2022-09-18   Taylor Pendrith  25/1   \n",
       "\n",
       "   VEGAS_ODDS  \n",
       "4        18.0  \n",
       "5        18.0  \n",
       "6        20.0  \n",
       "7        25.0  \n",
       "8        25.0  "
      ]
     },
     "execution_count": 15,
     "metadata": {},
     "output_type": "execute_result"
    }
   ],
   "source": [
    "importlib.reload(utils.db_utils)\n",
    "from utils.db_utils import import_historical_odds\n",
    "\n",
    "oddsYear = \"2022-2023\"    # URL segment\n",
    "season = 2023             # PGA Tour season\n",
    "db_path = \"data/golf.db\"\n",
    "\n",
    "odds_df = import_historical_odds(oddsYear, season, db_path)\n",
    "odds_df.head()"
   ]
  },
  {
   "cell_type": "markdown",
   "id": "82fc5dfe",
   "metadata": {},
   "source": [
    "**Not normally needed**\n",
    "\n",
    "The code below is a way to troubleshoot the odds function that is in db_utils.py.  If it does not pull the stats correctly, we can run it outside of the db_utils.py file and explore what might be wrong with it, iterating until it works, and then using that fix to update db_utils.py.  This is not normally needed, but wanted to leave this in place as a reference because this odds website can be tricky."
   ]
  },
  {
   "cell_type": "code",
   "execution_count": 16,
   "id": "94460f27",
   "metadata": {},
   "outputs": [
    {
     "name": "stdout",
     "output_type": "stream",
     "text": [
      "📍 Detected: Safeway Open — Ending: 2020-09-13\n",
      "📍 Detected: US Open — Ending: 2020-09-20\n",
      "📍 Detected: R & C Championship — Ending: 2020-09-27\n",
      "📍 Detected: at Big Cedar Lodge - — Ending: 2020-09-22\n",
      "📍 Detected: Sanderson Farms Champ — Ending: 2020-10-04\n",
      "📍 Detected: Shriners H for C Open — Ending: 2020-10-11\n",
      "📍 Detected: The CJ Cup — Ending: 2020-10-18\n",
      "📍 Detected: ZOZO CHAMPIONSHIP — Ending: 2020-10-25\n",
      "📍 Detected: Bermuda Championship — Ending: 2020-11-01\n",
      "📍 Detected: Vivint Houston Open — Ending: 2020-11-08\n",
      "📍 Detected: The Masters — Ending: 2020-11-15\n",
      "📍 Detected: The RSM Classic — Ending: 2020-11-22\n",
      "📍 Detected: Champions for Change — Ending: 2020-11-27\n",
      "📍 Detected: Mayakoba Golf Classic — Ending: 2020-12-06\n",
      "📍 Detected: QBE Shootout — Ending: 2020-12-13\n",
      "📍 Detected: Sentry Tourn of Champions — Ending: 2021-01-10\n",
      "📍 Detected: Sony Open in Hawaii — Ending: 2021-01-17\n",
      "📍 Detected: The American Express — Ending: 2021-01-24\n",
      "📍 Detected: Abu Dhabi HSBC Champ — Ending: 2021-01-24\n",
      "📍 Detected: Farmers Insurance Open — Ending: 2021-01-31\n",
      "📍 Detected: Dubai Desert Classic — Ending: 2021-01-31\n",
      "📍 Detected: W M Phoenix Open — Ending: 2021-02-07\n",
      "📍 Detected: King Abdullah Economic City, — Ending: 2021-02-07\n",
      "📍 Detected: AT&T Pebble Beach Pro-Am — Ending: 2021-02-14\n",
      "📍 Detected: Collegiate Showcase — Ending: 2021-02-15\n",
      "📍 Detected: The Genesis Invitational — Ending: 2021-02-21\n",
      "📍 Detected: WGC-Workday Championship — Ending: 2021-02-28\n",
      "📍 Detected: Puerto Rico Open — Ending: 2021-02-28\n",
      "📍 Detected: Arnold Palmer Invitational — Ending: 2021-03-07\n",
      "📍 Detected: THE PLAYERS Championship — Ending: 2021-03-14\n",
      "📍 Detected: Qatar Masters — Ending: 2021-03-14\n",
      "📍 Detected: The Honda Classic — Ending: 2021-03-21\n",
      "📍 Detected: Magical Kenya Open — Ending: 2021-03-21\n",
      "📍 Detected: Kenya Savannah Classic — Ending: 2021-03-26\n",
      "📍 Detected: WGC-Dell Tech Match Play — Ending: 2021-03-28\n",
      "📍 Detected: Corales Punta Cana Champ — Ending: 2021-03-28\n",
      "📍 Detected: Valero Texas Open — Ending: 2021-04-04\n",
      "📍 Detected: The Masters — Ending: 2021-04-11\n",
      "📍 Detected: RBC Heritage — Ending: 2021-04-18\n",
      "📍 Detected: Austrian Golf Open — Ending: 2021-04-18\n",
      "📍 Detected: MGM Resorts Championship — Ending: 2021-04-18\n",
      "📍 Detected: Zurich Classic of New Orleans — Ending: 2021-04-25\n",
      "📍 Detected: Gran Canaria Lopesan Open — Ending: 2021-04-25\n",
      "📍 Detected: Valspar Championship — Ending: 2021-05-02\n",
      "📍 Detected: Tenerife Open — Ending: 2021-05-02\n",
      "📍 Detected: Wells Fargo Championship — Ending: 2021-05-09\n",
      "📍 Detected: Canary Islands Championship — Ending: 2021-05-09\n",
      "📍 Detected: AT&T Byron Nelson — Ending: 2021-05-16\n",
      "📍 Detected: British Masters — Ending: 2021-05-16\n",
      "📍 Detected: PGA Championship — Ending: 2021-05-23\n",
      "📍 Detected: Charles Schwab Challenge — Ending: 2021-05-30\n",
      "📍 Detected: Made in Himmerland — Ending: 2021-05-30\n",
      "📍 Detected: The Memorial Tournament — Ending: 2021-06-06\n",
      "📍 Detected: Porsche European Open — Ending: 2021-06-07\n",
      "📍 Detected: Palmetto Championship — Ending: 2021-06-13\n",
      "📍 Detected: Scandinavian Mixed — Ending: 2021-06-13\n",
      "📍 Detected: US Open — Ending: 2021-06-20\n",
      "📍 Detected: Travelers Championship — Ending: 2021-06-27\n",
      "📍 Detected: BMW International Open — Ending: 2021-06-27\n",
      "📍 Detected: Rocket Mortgage Classic — Ending: 2021-07-04\n",
      "📍 Detected: Dubai Duty Free Irish Open — Ending: 2021-07-04\n",
      "📍 Detected: Moonlight Basin - — Ending: 2021-07-06\n",
      "📍 Detected: John Deere Classic — Ending: 2021-07-11\n",
      "📍 Detected: abrdn Scottish Open — Ending: 2021-07-11\n",
      "📍 Detected: The Open Championship — Ending: 2021-07-18\n",
      "📍 Detected: Barbasol Championship — Ending: 2021-07-18\n",
      "📍 Detected: 3M Open — Ending: 2021-07-25\n",
      "📍 Detected: Cazoo Open — Ending: 2021-07-25\n",
      "📍 Detected: Men's Olympic Golf — Ending: 2021-08-01\n",
      "📍 Detected: World Invitational — Ending: 2021-08-01\n",
      "📍 Detected: WGC-FedEx St. Jude Invit — Ending: 2021-08-08\n",
      "📍 Detected: Barracuda Championship — Ending: 2021-08-08\n",
      "📍 Detected: Hero Open — Ending: 2021-08-08\n",
      "📍 Detected: Wyndham Championship — Ending: 2021-08-15\n",
      "📍 Detected: Cazoo Classic — Ending: 2021-08-15\n",
      "📍 Detected: The Northern Trust — Ending: 2021-08-23\n",
      "📍 Detected: D+D Real Czech Masters — Ending: 2021-08-22\n",
      "📍 Detected: BMW Championship — Ending: 2021-08-29\n",
      "📍 Detected: Omega European Masters — Ending: 2021-08-29\n",
      "📍 Detected: TOUR Championship — Ending: 2021-09-05\n",
      "📍 Detected: Italian Open — Ending: 2021-09-05\n",
      "📍 Detected: BMW PGA Championship — Ending: 2021-09-12\n",
      "📍 Detected: Dutch Open — Ending: 2021-09-19\n",
      "📍 Detected: 43rd Ryder Cup — Ending: 2021-09-26\n",
      "📍 Detected: Alfred Dunhill Links Champ — Ending: 2021-10-03\n",
      "📍 Detected: Open de Espana — Ending: 2021-10-10\n",
      "📍 Detected: Andalucia Masters — Ending: 2021-10-17\n",
      "📍 Detected: Mallorca Golf Open — Ending: 2021-10-24\n",
      "📍 Detected: Portugal Masters — Ending: 2021-11-07\n",
      "📍 Detected: AVIV Dubai Championship — Ending: 2021-11-14\n",
      "📍 Detected: DP World Tour Championship — Ending: 2021-11-21\n",
      "📍 Detected: Golf Nippon Series JT Cup — Ending: 2021-12-05\n"
     ]
    },
    {
     "data": {
      "text/html": [
       "<div>\n",
       "<style scoped>\n",
       "    .dataframe tbody tr th:only-of-type {\n",
       "        vertical-align: middle;\n",
       "    }\n",
       "\n",
       "    .dataframe tbody tr th {\n",
       "        vertical-align: top;\n",
       "    }\n",
       "\n",
       "    .dataframe thead th {\n",
       "        text-align: right;\n",
       "    }\n",
       "</style>\n",
       "<table border=\"1\" class=\"dataframe\">\n",
       "  <thead>\n",
       "    <tr style=\"text-align: right;\">\n",
       "      <th></th>\n",
       "      <th>SEASON</th>\n",
       "      <th>TOURNAMENT</th>\n",
       "      <th>ENDING_DATE</th>\n",
       "      <th>PLAYER</th>\n",
       "      <th>ODDS</th>\n",
       "      <th>VEGAS_ODDS</th>\n",
       "    </tr>\n",
       "  </thead>\n",
       "  <tbody>\n",
       "    <tr>\n",
       "      <th>0</th>\n",
       "      <td>2021</td>\n",
       "      <td>Safeway Open</td>\n",
       "      <td>2020-09-13</td>\n",
       "      <td>Phil Mickelson</td>\n",
       "      <td>20/1</td>\n",
       "      <td>20.0</td>\n",
       "    </tr>\n",
       "    <tr>\n",
       "      <th>1</th>\n",
       "      <td>2021</td>\n",
       "      <td>Safeway Open</td>\n",
       "      <td>2020-09-13</td>\n",
       "      <td>Si Woo Kim</td>\n",
       "      <td>20/1</td>\n",
       "      <td>20.0</td>\n",
       "    </tr>\n",
       "    <tr>\n",
       "      <th>2</th>\n",
       "      <td>2021</td>\n",
       "      <td>Safeway Open</td>\n",
       "      <td>2020-09-13</td>\n",
       "      <td>Brendan Steele</td>\n",
       "      <td>20/1</td>\n",
       "      <td>20.0</td>\n",
       "    </tr>\n",
       "    <tr>\n",
       "      <th>3</th>\n",
       "      <td>2021</td>\n",
       "      <td>Safeway Open</td>\n",
       "      <td>2020-09-13</td>\n",
       "      <td>Shane Lowry</td>\n",
       "      <td>25/1</td>\n",
       "      <td>25.0</td>\n",
       "    </tr>\n",
       "    <tr>\n",
       "      <th>4</th>\n",
       "      <td>2021</td>\n",
       "      <td>Safeway Open</td>\n",
       "      <td>2020-09-13</td>\n",
       "      <td>Sergio Garcia</td>\n",
       "      <td>30/1</td>\n",
       "      <td>30.0</td>\n",
       "    </tr>\n",
       "  </tbody>\n",
       "</table>\n",
       "</div>"
      ],
      "text/plain": [
       "   SEASON    TOURNAMENT ENDING_DATE          PLAYER  ODDS  VEGAS_ODDS\n",
       "0    2021  Safeway Open  2020-09-13  Phil Mickelson  20/1        20.0\n",
       "1    2021  Safeway Open  2020-09-13      Si Woo Kim  20/1        20.0\n",
       "2    2021  Safeway Open  2020-09-13  Brendan Steele  20/1        20.0\n",
       "3    2021  Safeway Open  2020-09-13     Shane Lowry  25/1        25.0\n",
       "4    2021  Safeway Open  2020-09-13   Sergio Garcia  30/1        30.0"
      ]
     },
     "metadata": {},
     "output_type": "display_data"
    }
   ],
   "source": [
    "import pandas as pd\n",
    "import numpy as np\n",
    "import requests\n",
    "import re\n",
    "from datetime import datetime\n",
    "from io import StringIO\n",
    "\n",
    "# === USER INPUT ===\n",
    "oddsYear = \"2020-2021\"    # URL segment\n",
    "season = 2021        # PGA Tour season\n",
    "\n",
    "url = f\"http://golfodds.com/archives-{oddsYear}.html\"\n",
    "response = requests.get(url)\n",
    "tables = pd.read_html(StringIO(response.text))\n",
    "# raw_df = tables[5]  # the actual table of interest\n",
    "# Find the largest 2-column table that contains at least some odds-like strings\n",
    "raw_df = None\n",
    "for tbl in tables:\n",
    "    if tbl.shape[1] == 2 and tbl.shape[0] > 50:  # Rough filter\n",
    "        sample = tbl.iloc[:, 1].astype(str).str.contains(r\"\\d+/\\d+\").sum()\n",
    "        if sample > 5:\n",
    "            raw_df = tbl\n",
    "            break\n",
    "\n",
    "if raw_df is None:\n",
    "    raise ValueError(\"❌ Could not find valid odds table on the page.\")\n",
    "\n",
    "# === STEP 1: Initial clean-up ===\n",
    "df = raw_df.dropna(how=\"all\").reset_index(drop=True)\n",
    "df.columns = [\"PLAYER\", \"ODDS\"]\n",
    "\n",
    "# 🔧 Clean up non-breaking spaces and extra whitespace\n",
    "df[\"PLAYER\"] = (\n",
    "    df[\"PLAYER\"]\n",
    "    .astype(str)\n",
    "    .str.replace(\"\\xa0\", \" \", regex=False)\n",
    "    .str.replace(r\"\\s+\", \" \", regex=True)\n",
    "    .str.strip()\n",
    ")\n",
    "\n",
    "df.insert(loc=0, column=\"SEASON\", value=season)\n",
    "df.insert(loc=1, column=\"TOURNAMENT\", value=np.nan)\n",
    "df.insert(loc=2, column=\"ENDING_DATE\", value=np.nan)\n",
    "\n",
    "# === STEP 2: Helper function for parsing date strings ===\n",
    "def parse_ending_date(text):\n",
    "    import re\n",
    "    from datetime import datetime\n",
    "\n",
    "    # Normalize whitespace and symbols\n",
    "    text = (\n",
    "        text.replace(\"\\u2013\", \"-\")\n",
    "            .replace(\"–\", \"-\")\n",
    "            .replace(\"\\xa0\", \" \")\n",
    "    )\n",
    "    text = re.sub(r\"\\bSept(?!ember)\\b\", \"Sep\", text)\n",
    "\n",
    "    # ✅ Fix typo: \"Match\" → \"March\" only when used in a date context\n",
    "    text = re.sub(r\"\\bMatch(?=\\s+\\d{1,2}\\s*[-–]\\s*\\d{1,2},\\s*\\d{4})\", \"March\", text)\n",
    "\n",
    "    # Pattern 1: \"July 30 - August 2, 2015\" or \"Oct 29 - Nov 1, 2015\"\n",
    "    match = re.search(r\"(\\w+)\\s\\d+\\s*-\\s*(\\w+)\\s(\\d+),\\s(\\d{4})\", text)\n",
    "    if match:\n",
    "        month2, day2, year = match.group(2), match.group(3), match.group(4)\n",
    "        for fmt in [\"%B %d, %Y\", \"%b %d, %Y\"]:\n",
    "            try:\n",
    "                return datetime.strptime(f\"{month2} {day2}, {year}\", fmt).date()\n",
    "            except ValueError:\n",
    "                continue\n",
    "\n",
    "    # Pattern 2: \"November 21-24, 2024\"\n",
    "    match = re.search(r\"(\\w+)\\s\\d+-\\d+,\\s(\\d{4})\", text)\n",
    "    if match:\n",
    "        month, year = match.group(1), match.group(2)\n",
    "        day = re.search(r\"(\\d+)-(\\d+)\", text).group(2)\n",
    "        for fmt in [\"%B %d, %Y\", \"%b %d, %Y\"]:\n",
    "            try:\n",
    "                return datetime.strptime(f\"{month} {day}, {year}\", fmt).date()\n",
    "            except ValueError:\n",
    "                continue\n",
    "\n",
    "    # Pattern 3: \"Sunday, October 20, 2019\"\n",
    "    try:\n",
    "        return datetime.strptime(text.strip(), \"%A, %B %d, %Y\").date()\n",
    "    except ValueError:\n",
    "        pass\n",
    "\n",
    "    # Pattern 4: \"October 20, 2019\"\n",
    "    try:\n",
    "        return datetime.strptime(text.strip(), \"%B %d, %Y\").date()\n",
    "    except ValueError:\n",
    "        pass\n",
    "\n",
    "    return None\n",
    "\n",
    "last_tourn_name = None\n",
    "last_date = None\n",
    "\n",
    "# === STEP 3: Iterate block by block ===\n",
    "final_rows = []\n",
    "i = 0\n",
    "last_tourn_name = None\n",
    "last_end_date = None\n",
    "\n",
    "while i < len(df) - 4:\n",
    "    player_i = str(df.loc[i, \"PLAYER\"])\n",
    "    player_i2 = str(df.loc[i + 2, \"PLAYER\"])\n",
    "    player_i3 = str(df.loc[i + 3, \"PLAYER\"]).lower()\n",
    "\n",
    "    # Detect start of a new tournament block\n",
    "    is_header = (\n",
    "        pd.isna(df.loc[i, \"ODDS\"]) and\n",
    "        pd.isna(df.loc[i + 1, \"ODDS\"]) and (\n",
    "            re.search(r\"\\w+\\s\\d+\\s*[-–]\\s*(\\w+\\s)?\\d+,\\s\\d{4}\", player_i2) or\n",
    "            re.search(r\"(Monday|Tuesday|Wednesday|Thursday|Friday|Saturday|Sunday),?\\s+\\w+\\s\\d{1,2},\\s\\d{4}\", player_i2)\n",
    "        )\n",
    "    )\n",
    "\n",
    "    if is_header:\n",
    "        tourn_name = player_i.strip()\n",
    "        end_date = parse_ending_date(player_i2)\n",
    "\n",
    "        # Skip cancelled or empty blocks\n",
    "        if \"cancelled\" in player_i3:\n",
    "            print(f\"⚠️ Skipping cancelled tournament: {tourn_name} — {end_date}\")\n",
    "            i += 4\n",
    "            continue\n",
    "\n",
    "        # Avoid duplicate block processing\n",
    "        if tourn_name == last_tourn_name and end_date == last_end_date:\n",
    "            i += 1\n",
    "            continue\n",
    "\n",
    "        print(f\"📍 Detected: {tourn_name} — Ending: {end_date}\")\n",
    "        last_tourn_name = tourn_name\n",
    "        last_end_date = end_date\n",
    "        i += 4  # Skip header lines\n",
    "\n",
    "        # Collect all player rows until next header block\n",
    "        while i < len(df) - 2:\n",
    "            next_i2 = str(df.loc[i + 2, \"PLAYER\"])\n",
    "            is_next_header = (\n",
    "                pd.isna(df.loc[i, \"ODDS\"]) and\n",
    "                pd.isna(df.loc[i + 1, \"ODDS\"]) and (\n",
    "                    re.search(r\"\\w+\\s\\d+\\s*[-–]\\s*(\\w+\\s)?\\d+,\\s\\d{4}\", next_i2) or\n",
    "                    re.search(r\"(Monday|Tuesday|Wednesday|Thursday|Friday|Saturday|Sunday),?\\s+\\w+\\s\\d{1,2},\\s\\d{4}\", next_i2)\n",
    "                )\n",
    "            )\n",
    "            if is_next_header:\n",
    "                break\n",
    "\n",
    "            if pd.notna(df.loc[i, \"ODDS\"]):\n",
    "                row = df.loc[i].copy()\n",
    "                row[\"TOURNAMENT\"] = tourn_name\n",
    "                row[\"ENDING_DATE\"] = end_date\n",
    "                final_rows.append(row)\n",
    "            i += 1\n",
    "    else:\n",
    "        i += 1\n",
    "\n",
    "# === STEP 4: Create cleaned DataFrame ===\n",
    "clean_df = pd.DataFrame(final_rows)\n",
    "\n",
    "# ✅ Prevent crash if nothing was parsed\n",
    "if clean_df.empty or \"PLAYER\" not in clean_df.columns:\n",
    "    print(f\"⚠️ No valid tournament blocks detected for season {season} ({oddsYear})\")\n",
    "    final_df = pd.DataFrame()  # Safe fallback\n",
    "else:\n",
    "    # Remove winner tag\n",
    "    clean_df[\"PLAYER\"] = clean_df[\"PLAYER\"].str.replace(r\"\\s\\*Winner\\*\", \"\", regex=True)\n",
    "\n",
    "    # Clean odds to numeric\n",
    "    clean_df[\"VEGAS_ODDS\"] = (\n",
    "        clean_df[\"ODDS\"]\n",
    "        .str.replace(\",\", \"\")\n",
    "        .str.extract(r\"(\\d+)/(\\d+)\")\n",
    "        .astype(float)\n",
    "        .apply(lambda x: x[0] / x[1], axis=1)\n",
    "    )\n",
    "\n",
    "    # Final output with source index for debugging\n",
    "    final_df = clean_df[\n",
    "        [\"SEASON\", \"TOURNAMENT\", \"ENDING_DATE\", \"PLAYER\", \"ODDS\", \"VEGAS_ODDS\"]\n",
    "    ].reset_index(drop=True)\n",
    "\n",
    "    # Drop non-standard team events (e.g., Presidents Cup, Ryder Cup)\n",
    "    drop_terms = [\"Presidents Cup\", \"Ryder Cup\"]\n",
    "    final_df = final_df[~final_df[\"TOURNAMENT\"].str.contains(\"|\".join(drop_terms), case=False, na=False)]\n",
    "\n",
    "    display(final_df.head())\n",
    "\n"
   ]
  },
  {
   "cell_type": "code",
   "execution_count": 17,
   "id": "1ba6ed1d",
   "metadata": {},
   "outputs": [
    {
     "name": "stdout",
     "output_type": "stream",
     "text": [
      "🧪 Rows with invalid ENDING_DATE values: 0\n"
     ]
    },
    {
     "data": {
      "text/html": [
       "<div>\n",
       "<style scoped>\n",
       "    .dataframe tbody tr th:only-of-type {\n",
       "        vertical-align: middle;\n",
       "    }\n",
       "\n",
       "    .dataframe tbody tr th {\n",
       "        vertical-align: top;\n",
       "    }\n",
       "\n",
       "    .dataframe thead th {\n",
       "        text-align: right;\n",
       "    }\n",
       "</style>\n",
       "<table border=\"1\" class=\"dataframe\">\n",
       "  <thead>\n",
       "    <tr style=\"text-align: right;\">\n",
       "      <th></th>\n",
       "      <th>SEASON</th>\n",
       "      <th>TOURNAMENT</th>\n",
       "      <th>ENDING_DATE</th>\n",
       "      <th>PLAYER</th>\n",
       "      <th>ODDS</th>\n",
       "      <th>VEGAS_ODDS</th>\n",
       "    </tr>\n",
       "  </thead>\n",
       "  <tbody>\n",
       "  </tbody>\n",
       "</table>\n",
       "</div>"
      ],
      "text/plain": [
       "Empty DataFrame\n",
       "Columns: [SEASON, TOURNAMENT, ENDING_DATE, PLAYER, ODDS, VEGAS_ODDS]\n",
       "Index: []"
      ]
     },
     "metadata": {},
     "output_type": "display_data"
    }
   ],
   "source": [
    "from datetime import datetime, date\n",
    "# ✅ Check for non-date types in ENDING_DATE\n",
    "non_dates = final_df[~final_df[\"ENDING_DATE\"].apply(lambda x: isinstance(x, date))]\n",
    "\n",
    "print(f\"🧪 Rows with invalid ENDING_DATE values: {len(non_dates)}\")\n",
    "display(non_dates.head(10))\n",
    "\n"
   ]
  },
  {
   "cell_type": "code",
   "execution_count": 18,
   "id": "d42bfaa0",
   "metadata": {},
   "outputs": [
    {
     "name": "stdout",
     "output_type": "stream",
     "text": [
      "🚨 Duplicate primary keys in final_df: 0\n"
     ]
    },
    {
     "data": {
      "text/html": [
       "<div>\n",
       "<style scoped>\n",
       "    .dataframe tbody tr th:only-of-type {\n",
       "        vertical-align: middle;\n",
       "    }\n",
       "\n",
       "    .dataframe tbody tr th {\n",
       "        vertical-align: top;\n",
       "    }\n",
       "\n",
       "    .dataframe thead th {\n",
       "        text-align: right;\n",
       "    }\n",
       "</style>\n",
       "<table border=\"1\" class=\"dataframe\">\n",
       "  <thead>\n",
       "    <tr style=\"text-align: right;\">\n",
       "      <th></th>\n",
       "      <th>SEASON</th>\n",
       "      <th>TOURNAMENT</th>\n",
       "      <th>ENDING_DATE</th>\n",
       "      <th>PLAYER</th>\n",
       "      <th>ODDS</th>\n",
       "      <th>VEGAS_ODDS</th>\n",
       "    </tr>\n",
       "  </thead>\n",
       "  <tbody>\n",
       "  </tbody>\n",
       "</table>\n",
       "</div>"
      ],
      "text/plain": [
       "Empty DataFrame\n",
       "Columns: [SEASON, TOURNAMENT, ENDING_DATE, PLAYER, ODDS, VEGAS_ODDS]\n",
       "Index: []"
      ]
     },
     "metadata": {},
     "output_type": "display_data"
    }
   ],
   "source": [
    "dupes = final_df.duplicated(subset=[\"SEASON\", \"TOURNAMENT\", \"ENDING_DATE\", \"PLAYER\"], keep=False)\n",
    "\n",
    "print(f\"🚨 Duplicate primary keys in final_df: {dupes.sum()}\")\n",
    "display(final_df[dupes].sort_values(by=[\"SEASON\", \"TOURNAMENT\", \"PLAYER\"]))"
   ]
  },
  {
   "cell_type": "markdown",
   "id": "d0386967",
   "metadata": {},
   "source": [
    "#### Misc. Cleaning\n",
    "Not normally needed"
   ]
  },
  {
   "cell_type": "code",
   "execution_count": 26,
   "id": "944b893a",
   "metadata": {},
   "outputs": [
    {
     "name": "stdout",
     "output_type": "stream",
     "text": [
      "ℹ️ No player names needed updates in 'tournaments'.\n",
      "ℹ️ No player names needed updates in 'stats'.\n",
      "ℹ️ No player names needed updates in 'odds'.\n"
     ]
    },
    {
     "data": {
      "text/html": [
       "<div>\n",
       "<style scoped>\n",
       "    .dataframe tbody tr th:only-of-type {\n",
       "        vertical-align: middle;\n",
       "    }\n",
       "\n",
       "    .dataframe tbody tr th {\n",
       "        vertical-align: top;\n",
       "    }\n",
       "\n",
       "    .dataframe thead th {\n",
       "        text-align: right;\n",
       "    }\n",
       "</style>\n",
       "<table border=\"1\" class=\"dataframe\">\n",
       "  <thead>\n",
       "    <tr style=\"text-align: right;\">\n",
       "      <th></th>\n",
       "      <th>SEASON</th>\n",
       "      <th>TOURNAMENT</th>\n",
       "      <th>ENDING_DATE</th>\n",
       "      <th>PLAYER</th>\n",
       "      <th>ODDS</th>\n",
       "      <th>VEGAS_ODDS</th>\n",
       "      <th>PLAYER_ORIG</th>\n",
       "    </tr>\n",
       "  </thead>\n",
       "  <tbody>\n",
       "  </tbody>\n",
       "</table>\n",
       "</div>"
      ],
      "text/plain": [
       "Empty DataFrame\n",
       "Columns: [SEASON, TOURNAMENT, ENDING_DATE, PLAYER, ODDS, VEGAS_ODDS, PLAYER_ORIG]\n",
       "Index: []"
      ]
     },
     "execution_count": 26,
     "metadata": {},
     "output_type": "execute_result"
    }
   ],
   "source": [
    "importlib.reload(utils.db_utils)\n",
    "from utils.db_utils import clean_player_names_in_table, PLAYER_NAME_MAP\n",
    "\n",
    "db_path = \"data/golf.db\"\n",
    "\n",
    "# Run for all relevant tables\n",
    "clean_player_names_in_table(db_path, \"tournaments\", PLAYER_NAME_MAP)\n",
    "clean_player_names_in_table(db_path, \"stats\", PLAYER_NAME_MAP)\n",
    "clean_player_names_in_table(db_path, \"odds\", PLAYER_NAME_MAP)"
   ]
  },
  {
   "cell_type": "markdown",
   "id": "d5827d49",
   "metadata": {},
   "source": [
    "## Historical Data"
   ]
  },
  {
   "cell_type": "markdown",
   "id": "72034314",
   "metadata": {},
   "source": [
    "### Pull Relevant Seasons\n",
    "Do a check to see when this course or tournament have been historically played."
   ]
  },
  {
   "cell_type": "code",
   "execution_count": 4,
   "id": "fea9c7c6",
   "metadata": {},
   "outputs": [
    {
     "name": "stdout",
     "output_type": "stream",
     "text": [
      "ℹ️ Found 9 relevant tournaments from course or tournament name.\n"
     ]
    },
    {
     "data": {
      "text/html": [
       "<div>\n",
       "<style scoped>\n",
       "    .dataframe tbody tr th:only-of-type {\n",
       "        vertical-align: middle;\n",
       "    }\n",
       "\n",
       "    .dataframe tbody tr th {\n",
       "        vertical-align: top;\n",
       "    }\n",
       "\n",
       "    .dataframe thead th {\n",
       "        text-align: right;\n",
       "    }\n",
       "</style>\n",
       "<table border=\"1\" class=\"dataframe\">\n",
       "  <thead>\n",
       "    <tr style=\"text-align: right;\">\n",
       "      <th></th>\n",
       "      <th>SEASON</th>\n",
       "      <th>COURSE</th>\n",
       "      <th>TOURN_ID</th>\n",
       "      <th>TOURNAMENT</th>\n",
       "      <th>ENDING_DATE</th>\n",
       "    </tr>\n",
       "  </thead>\n",
       "  <tbody>\n",
       "    <tr>\n",
       "      <th>779</th>\n",
       "      <td>2016</td>\n",
       "      <td>Sedgefield Country Club</td>\n",
       "      <td>013</td>\n",
       "      <td>Wyndham Championship</td>\n",
       "      <td>2016-08-21</td>\n",
       "    </tr>\n",
       "    <tr>\n",
       "      <th>623</th>\n",
       "      <td>2017</td>\n",
       "      <td>Sedgefield Country Club</td>\n",
       "      <td>013</td>\n",
       "      <td>Wyndham Championship</td>\n",
       "      <td>2017-08-20</td>\n",
       "    </tr>\n",
       "    <tr>\n",
       "      <th>467</th>\n",
       "      <td>2018</td>\n",
       "      <td>Sedgefield Country Club</td>\n",
       "      <td>013</td>\n",
       "      <td>Wyndham Championship</td>\n",
       "      <td>2018-08-19</td>\n",
       "    </tr>\n",
       "    <tr>\n",
       "      <th>312</th>\n",
       "      <td>2019</td>\n",
       "      <td>Sedgefield Country Club</td>\n",
       "      <td>013</td>\n",
       "      <td>Wyndham Championship</td>\n",
       "      <td>2019-08-04</td>\n",
       "    </tr>\n",
       "    <tr>\n",
       "      <th>156</th>\n",
       "      <td>2020</td>\n",
       "      <td>Sedgefield Country Club</td>\n",
       "      <td>013</td>\n",
       "      <td>Wyndham Championship</td>\n",
       "      <td>2020-08-16</td>\n",
       "    </tr>\n",
       "    <tr>\n",
       "      <th>0</th>\n",
       "      <td>2021</td>\n",
       "      <td>Sedgefield Country Club</td>\n",
       "      <td>013</td>\n",
       "      <td>Wyndham Championship</td>\n",
       "      <td>2021-08-15</td>\n",
       "    </tr>\n",
       "    <tr>\n",
       "      <th>1088</th>\n",
       "      <td>2022</td>\n",
       "      <td>Sedgefield Country Club</td>\n",
       "      <td>013</td>\n",
       "      <td>Wyndham Championship</td>\n",
       "      <td>2022-08-07</td>\n",
       "    </tr>\n",
       "    <tr>\n",
       "      <th>1244</th>\n",
       "      <td>2023</td>\n",
       "      <td>Sedgefield Country Club</td>\n",
       "      <td>R2023013</td>\n",
       "      <td>Wyndham Championship</td>\n",
       "      <td>2023-08-06</td>\n",
       "    </tr>\n",
       "    <tr>\n",
       "      <th>1400</th>\n",
       "      <td>2024</td>\n",
       "      <td>Sedgefield Country Club</td>\n",
       "      <td>R2024013</td>\n",
       "      <td>Wyndham Championship</td>\n",
       "      <td>2024-08-11</td>\n",
       "    </tr>\n",
       "  </tbody>\n",
       "</table>\n",
       "</div>"
      ],
      "text/plain": [
       "      SEASON                   COURSE  TOURN_ID            TOURNAMENT  \\\n",
       "779     2016  Sedgefield Country Club       013  Wyndham Championship   \n",
       "623     2017  Sedgefield Country Club       013  Wyndham Championship   \n",
       "467     2018  Sedgefield Country Club       013  Wyndham Championship   \n",
       "312     2019  Sedgefield Country Club       013  Wyndham Championship   \n",
       "156     2020  Sedgefield Country Club       013  Wyndham Championship   \n",
       "0       2021  Sedgefield Country Club       013  Wyndham Championship   \n",
       "1088    2022  Sedgefield Country Club       013  Wyndham Championship   \n",
       "1244    2023  Sedgefield Country Club  R2023013  Wyndham Championship   \n",
       "1400    2024  Sedgefield Country Club  R2024013  Wyndham Championship   \n",
       "\n",
       "     ENDING_DATE  \n",
       "779   2016-08-21  \n",
       "623   2017-08-20  \n",
       "467   2018-08-19  \n",
       "312   2019-08-04  \n",
       "156   2020-08-16  \n",
       "0     2021-08-15  \n",
       "1088  2022-08-07  \n",
       "1244  2023-08-06  \n",
       "1400  2024-08-11  "
      ]
     },
     "execution_count": 4,
     "metadata": {},
     "output_type": "execute_result"
    }
   ],
   "source": [
    "importlib.reload(utils.db_utils)\n",
    "from utils.db_utils import get_combined_history_seasons\n",
    "\n",
    "# === USER INPUT ===\n",
    "seasons = list(range(2016, 2025))  # Adjust as needed\n",
    "db_path = \"data/golf.db\"\n",
    "\n",
    "# Pull course and tournament from config\n",
    "n_course = tournament_config[\"new\"][\"course\"]\n",
    "n_tourn = tournament_config[\"new\"][\"name\"]\n",
    "\n",
    "# Fetch relevant history\n",
    "history_df = get_combined_history_seasons(db_path, course=n_course, tournament=n_tourn, allowed_seasons=seasons)\n",
    "history_df.head(20)\n"
   ]
  },
  {
   "cell_type": "markdown",
   "id": "09441025",
   "metadata": {},
   "source": [
    "### Cut Percentage and FedEx Points\n",
    "Use a rolling-window approach to look at the most recent cut percentage and how many FedEx cup points have been accumulated recently. This will intentionally not match the PGA Tour stats that start over every year, but will have the same amount of data all the time.  We also add a new feature called Form Density which divides the FedEx Cup Points by the Total Events."
   ]
  },
  {
   "cell_type": "code",
   "execution_count": 5,
   "id": "300bf650",
   "metadata": {},
   "outputs": [
    {
     "name": "stdout",
     "output_type": "stream",
     "text": [
      "\n",
      "📆 2016-08-21 — Wyndham Championship (524 players)\n"
     ]
    },
    {
     "data": {
      "text/html": [
       "<div>\n",
       "<style scoped>\n",
       "    .dataframe tbody tr th:only-of-type {\n",
       "        vertical-align: middle;\n",
       "    }\n",
       "\n",
       "    .dataframe tbody tr th {\n",
       "        vertical-align: top;\n",
       "    }\n",
       "\n",
       "    .dataframe thead th {\n",
       "        text-align: right;\n",
       "    }\n",
       "</style>\n",
       "<table border=\"1\" class=\"dataframe\">\n",
       "  <thead>\n",
       "    <tr style=\"text-align: right;\">\n",
       "      <th></th>\n",
       "      <th>PLAYER</th>\n",
       "      <th>TOTAL_EVENTS_PLAYED</th>\n",
       "      <th>CUTS_MADE</th>\n",
       "      <th>FEDEX_CUP_POINTS</th>\n",
       "      <th>CUT_PERCENTAGE</th>\n",
       "      <th>form_density</th>\n",
       "      <th>CONSECUTIVE_CUTS</th>\n",
       "      <th>ENDING_DATE</th>\n",
       "      <th>TOURNAMENT</th>\n",
       "    </tr>\n",
       "  </thead>\n",
       "  <tbody>\n",
       "    <tr>\n",
       "      <th>0</th>\n",
       "      <td>Aaron Baddeley</td>\n",
       "      <td>16</td>\n",
       "      <td>9</td>\n",
       "      <td>334.0</td>\n",
       "      <td>56.2</td>\n",
       "      <td>20.88</td>\n",
       "      <td>2</td>\n",
       "      <td>2016-08-21</td>\n",
       "      <td>Wyndham Championship</td>\n",
       "    </tr>\n",
       "    <tr>\n",
       "      <th>1</th>\n",
       "      <td>Aaron Wise</td>\n",
       "      <td>2</td>\n",
       "      <td>1</td>\n",
       "      <td>0.0</td>\n",
       "      <td>50.0</td>\n",
       "      <td>0.00</td>\n",
       "      <td>1</td>\n",
       "      <td>2016-08-21</td>\n",
       "      <td>Wyndham Championship</td>\n",
       "    </tr>\n",
       "    <tr>\n",
       "      <th>2</th>\n",
       "      <td>Abraham Ancer</td>\n",
       "      <td>9</td>\n",
       "      <td>4</td>\n",
       "      <td>96.5</td>\n",
       "      <td>44.4</td>\n",
       "      <td>10.72</td>\n",
       "      <td>2</td>\n",
       "      <td>2016-08-21</td>\n",
       "      <td>Wyndham Championship</td>\n",
       "    </tr>\n",
       "  </tbody>\n",
       "</table>\n",
       "</div>"
      ],
      "text/plain": [
       "           PLAYER  TOTAL_EVENTS_PLAYED  CUTS_MADE  FEDEX_CUP_POINTS  \\\n",
       "0  Aaron Baddeley                   16          9             334.0   \n",
       "1      Aaron Wise                    2          1               0.0   \n",
       "2   Abraham Ancer                    9          4              96.5   \n",
       "\n",
       "   CUT_PERCENTAGE  form_density  CONSECUTIVE_CUTS ENDING_DATE  \\\n",
       "0            56.2         20.88                 2  2016-08-21   \n",
       "1            50.0          0.00                 1  2016-08-21   \n",
       "2            44.4         10.72                 2  2016-08-21   \n",
       "\n",
       "             TOURNAMENT  \n",
       "0  Wyndham Championship  \n",
       "1  Wyndham Championship  \n",
       "2  Wyndham Championship  "
      ]
     },
     "metadata": {},
     "output_type": "display_data"
    },
    {
     "name": "stdout",
     "output_type": "stream",
     "text": [
      "\n",
      "📆 2017-08-20 — Wyndham Championship (519 players)\n"
     ]
    },
    {
     "data": {
      "text/html": [
       "<div>\n",
       "<style scoped>\n",
       "    .dataframe tbody tr th:only-of-type {\n",
       "        vertical-align: middle;\n",
       "    }\n",
       "\n",
       "    .dataframe tbody tr th {\n",
       "        vertical-align: top;\n",
       "    }\n",
       "\n",
       "    .dataframe thead th {\n",
       "        text-align: right;\n",
       "    }\n",
       "</style>\n",
       "<table border=\"1\" class=\"dataframe\">\n",
       "  <thead>\n",
       "    <tr style=\"text-align: right;\">\n",
       "      <th></th>\n",
       "      <th>PLAYER</th>\n",
       "      <th>TOTAL_EVENTS_PLAYED</th>\n",
       "      <th>CUTS_MADE</th>\n",
       "      <th>FEDEX_CUP_POINTS</th>\n",
       "      <th>CUT_PERCENTAGE</th>\n",
       "      <th>form_density</th>\n",
       "      <th>CONSECUTIVE_CUTS</th>\n",
       "      <th>ENDING_DATE</th>\n",
       "      <th>TOURNAMENT</th>\n",
       "    </tr>\n",
       "  </thead>\n",
       "  <tbody>\n",
       "    <tr>\n",
       "      <th>0</th>\n",
       "      <td>Aaron Baddeley</td>\n",
       "      <td>14</td>\n",
       "      <td>7</td>\n",
       "      <td>254.14</td>\n",
       "      <td>50.0</td>\n",
       "      <td>18.15</td>\n",
       "      <td>1</td>\n",
       "      <td>2017-08-20</td>\n",
       "      <td>Wyndham Championship</td>\n",
       "    </tr>\n",
       "    <tr>\n",
       "      <th>1</th>\n",
       "      <td>Aaron Rai</td>\n",
       "      <td>1</td>\n",
       "      <td>0</td>\n",
       "      <td>0.00</td>\n",
       "      <td>0.0</td>\n",
       "      <td>0.00</td>\n",
       "      <td>0</td>\n",
       "      <td>2017-08-20</td>\n",
       "      <td>Wyndham Championship</td>\n",
       "    </tr>\n",
       "    <tr>\n",
       "      <th>2</th>\n",
       "      <td>Aaron Wise</td>\n",
       "      <td>2</td>\n",
       "      <td>2</td>\n",
       "      <td>0.00</td>\n",
       "      <td>100.0</td>\n",
       "      <td>0.00</td>\n",
       "      <td>2</td>\n",
       "      <td>2017-08-20</td>\n",
       "      <td>Wyndham Championship</td>\n",
       "    </tr>\n",
       "  </tbody>\n",
       "</table>\n",
       "</div>"
      ],
      "text/plain": [
       "           PLAYER  TOTAL_EVENTS_PLAYED  CUTS_MADE  FEDEX_CUP_POINTS  \\\n",
       "0  Aaron Baddeley                   14          7            254.14   \n",
       "1       Aaron Rai                    1          0              0.00   \n",
       "2      Aaron Wise                    2          2              0.00   \n",
       "\n",
       "   CUT_PERCENTAGE  form_density  CONSECUTIVE_CUTS ENDING_DATE  \\\n",
       "0            50.0         18.15                 1  2017-08-20   \n",
       "1             0.0          0.00                 0  2017-08-20   \n",
       "2           100.0          0.00                 2  2017-08-20   \n",
       "\n",
       "             TOURNAMENT  \n",
       "0  Wyndham Championship  \n",
       "1  Wyndham Championship  \n",
       "2  Wyndham Championship  "
      ]
     },
     "metadata": {},
     "output_type": "display_data"
    },
    {
     "name": "stdout",
     "output_type": "stream",
     "text": [
      "\n",
      "📆 2018-08-19 — Wyndham Championship (552 players)\n"
     ]
    },
    {
     "data": {
      "text/html": [
       "<div>\n",
       "<style scoped>\n",
       "    .dataframe tbody tr th:only-of-type {\n",
       "        vertical-align: middle;\n",
       "    }\n",
       "\n",
       "    .dataframe tbody tr th {\n",
       "        vertical-align: top;\n",
       "    }\n",
       "\n",
       "    .dataframe thead th {\n",
       "        text-align: right;\n",
       "    }\n",
       "</style>\n",
       "<table border=\"1\" class=\"dataframe\">\n",
       "  <thead>\n",
       "    <tr style=\"text-align: right;\">\n",
       "      <th></th>\n",
       "      <th>PLAYER</th>\n",
       "      <th>TOTAL_EVENTS_PLAYED</th>\n",
       "      <th>CUTS_MADE</th>\n",
       "      <th>FEDEX_CUP_POINTS</th>\n",
       "      <th>CUT_PERCENTAGE</th>\n",
       "      <th>form_density</th>\n",
       "      <th>CONSECUTIVE_CUTS</th>\n",
       "      <th>ENDING_DATE</th>\n",
       "      <th>TOURNAMENT</th>\n",
       "    </tr>\n",
       "  </thead>\n",
       "  <tbody>\n",
       "    <tr>\n",
       "      <th>0</th>\n",
       "      <td>A.J. McInerney</td>\n",
       "      <td>1</td>\n",
       "      <td>0</td>\n",
       "      <td>0.00</td>\n",
       "      <td>0.0</td>\n",
       "      <td>0.00</td>\n",
       "      <td>0</td>\n",
       "      <td>2018-08-19</td>\n",
       "      <td>Wyndham Championship</td>\n",
       "    </tr>\n",
       "    <tr>\n",
       "      <th>1</th>\n",
       "      <td>Aaron Baddeley</td>\n",
       "      <td>18</td>\n",
       "      <td>9</td>\n",
       "      <td>192.32</td>\n",
       "      <td>50.0</td>\n",
       "      <td>10.68</td>\n",
       "      <td>1</td>\n",
       "      <td>2018-08-19</td>\n",
       "      <td>Wyndham Championship</td>\n",
       "    </tr>\n",
       "    <tr>\n",
       "      <th>2</th>\n",
       "      <td>Aaron Wise</td>\n",
       "      <td>19</td>\n",
       "      <td>10</td>\n",
       "      <td>1045.37</td>\n",
       "      <td>52.6</td>\n",
       "      <td>55.02</td>\n",
       "      <td>0</td>\n",
       "      <td>2018-08-19</td>\n",
       "      <td>Wyndham Championship</td>\n",
       "    </tr>\n",
       "  </tbody>\n",
       "</table>\n",
       "</div>"
      ],
      "text/plain": [
       "           PLAYER  TOTAL_EVENTS_PLAYED  CUTS_MADE  FEDEX_CUP_POINTS  \\\n",
       "0  A.J. McInerney                    1          0              0.00   \n",
       "1  Aaron Baddeley                   18          9            192.32   \n",
       "2      Aaron Wise                   19         10           1045.37   \n",
       "\n",
       "   CUT_PERCENTAGE  form_density  CONSECUTIVE_CUTS ENDING_DATE  \\\n",
       "0             0.0          0.00                 0  2018-08-19   \n",
       "1            50.0         10.68                 1  2018-08-19   \n",
       "2            52.6         55.02                 0  2018-08-19   \n",
       "\n",
       "             TOURNAMENT  \n",
       "0  Wyndham Championship  \n",
       "1  Wyndham Championship  \n",
       "2  Wyndham Championship  "
      ]
     },
     "metadata": {},
     "output_type": "display_data"
    },
    {
     "name": "stdout",
     "output_type": "stream",
     "text": [
      "\n",
      "📆 2019-08-04 — Wyndham Championship (546 players)\n"
     ]
    },
    {
     "data": {
      "text/html": [
       "<div>\n",
       "<style scoped>\n",
       "    .dataframe tbody tr th:only-of-type {\n",
       "        vertical-align: middle;\n",
       "    }\n",
       "\n",
       "    .dataframe tbody tr th {\n",
       "        vertical-align: top;\n",
       "    }\n",
       "\n",
       "    .dataframe thead th {\n",
       "        text-align: right;\n",
       "    }\n",
       "</style>\n",
       "<table border=\"1\" class=\"dataframe\">\n",
       "  <thead>\n",
       "    <tr style=\"text-align: right;\">\n",
       "      <th></th>\n",
       "      <th>PLAYER</th>\n",
       "      <th>TOTAL_EVENTS_PLAYED</th>\n",
       "      <th>CUTS_MADE</th>\n",
       "      <th>FEDEX_CUP_POINTS</th>\n",
       "      <th>CUT_PERCENTAGE</th>\n",
       "      <th>form_density</th>\n",
       "      <th>CONSECUTIVE_CUTS</th>\n",
       "      <th>ENDING_DATE</th>\n",
       "      <th>TOURNAMENT</th>\n",
       "    </tr>\n",
       "  </thead>\n",
       "  <tbody>\n",
       "    <tr>\n",
       "      <th>0</th>\n",
       "      <td>Aaron Baddeley</td>\n",
       "      <td>13</td>\n",
       "      <td>7</td>\n",
       "      <td>169.88</td>\n",
       "      <td>53.8</td>\n",
       "      <td>13.07</td>\n",
       "      <td>0</td>\n",
       "      <td>2019-08-04</td>\n",
       "      <td>Wyndham Championship</td>\n",
       "    </tr>\n",
       "    <tr>\n",
       "      <th>1</th>\n",
       "      <td>Aaron Rai</td>\n",
       "      <td>1</td>\n",
       "      <td>1</td>\n",
       "      <td>0.00</td>\n",
       "      <td>100.0</td>\n",
       "      <td>0.00</td>\n",
       "      <td>1</td>\n",
       "      <td>2019-08-04</td>\n",
       "      <td>Wyndham Championship</td>\n",
       "    </tr>\n",
       "    <tr>\n",
       "      <th>2</th>\n",
       "      <td>Aaron Wise</td>\n",
       "      <td>16</td>\n",
       "      <td>11</td>\n",
       "      <td>332.47</td>\n",
       "      <td>68.8</td>\n",
       "      <td>20.78</td>\n",
       "      <td>3</td>\n",
       "      <td>2019-08-04</td>\n",
       "      <td>Wyndham Championship</td>\n",
       "    </tr>\n",
       "  </tbody>\n",
       "</table>\n",
       "</div>"
      ],
      "text/plain": [
       "           PLAYER  TOTAL_EVENTS_PLAYED  CUTS_MADE  FEDEX_CUP_POINTS  \\\n",
       "0  Aaron Baddeley                   13          7            169.88   \n",
       "1       Aaron Rai                    1          1              0.00   \n",
       "2      Aaron Wise                   16         11            332.47   \n",
       "\n",
       "   CUT_PERCENTAGE  form_density  CONSECUTIVE_CUTS ENDING_DATE  \\\n",
       "0            53.8         13.07                 0  2019-08-04   \n",
       "1           100.0          0.00                 1  2019-08-04   \n",
       "2            68.8         20.78                 3  2019-08-04   \n",
       "\n",
       "             TOURNAMENT  \n",
       "0  Wyndham Championship  \n",
       "1  Wyndham Championship  \n",
       "2  Wyndham Championship  "
      ]
     },
     "metadata": {},
     "output_type": "display_data"
    },
    {
     "name": "stdout",
     "output_type": "stream",
     "text": [
      "\n",
      "📆 2020-08-16 — Wyndham Championship (378 players)\n"
     ]
    },
    {
     "data": {
      "text/html": [
       "<div>\n",
       "<style scoped>\n",
       "    .dataframe tbody tr th:only-of-type {\n",
       "        vertical-align: middle;\n",
       "    }\n",
       "\n",
       "    .dataframe tbody tr th {\n",
       "        vertical-align: top;\n",
       "    }\n",
       "\n",
       "    .dataframe thead th {\n",
       "        text-align: right;\n",
       "    }\n",
       "</style>\n",
       "<table border=\"1\" class=\"dataframe\">\n",
       "  <thead>\n",
       "    <tr style=\"text-align: right;\">\n",
       "      <th></th>\n",
       "      <th>PLAYER</th>\n",
       "      <th>TOTAL_EVENTS_PLAYED</th>\n",
       "      <th>CUTS_MADE</th>\n",
       "      <th>FEDEX_CUP_POINTS</th>\n",
       "      <th>CUT_PERCENTAGE</th>\n",
       "      <th>form_density</th>\n",
       "      <th>CONSECUTIVE_CUTS</th>\n",
       "      <th>ENDING_DATE</th>\n",
       "      <th>TOURNAMENT</th>\n",
       "    </tr>\n",
       "  </thead>\n",
       "  <tbody>\n",
       "    <tr>\n",
       "      <th>0</th>\n",
       "      <td>Aaron Baddeley</td>\n",
       "      <td>11</td>\n",
       "      <td>5</td>\n",
       "      <td>115.57</td>\n",
       "      <td>45.5</td>\n",
       "      <td>10.51</td>\n",
       "      <td>1</td>\n",
       "      <td>2020-08-16</td>\n",
       "      <td>Wyndham Championship</td>\n",
       "    </tr>\n",
       "    <tr>\n",
       "      <th>1</th>\n",
       "      <td>Aaron Crawford</td>\n",
       "      <td>1</td>\n",
       "      <td>0</td>\n",
       "      <td>0.00</td>\n",
       "      <td>0.0</td>\n",
       "      <td>0.00</td>\n",
       "      <td>0</td>\n",
       "      <td>2020-08-16</td>\n",
       "      <td>Wyndham Championship</td>\n",
       "    </tr>\n",
       "    <tr>\n",
       "      <th>2</th>\n",
       "      <td>Aaron Wise</td>\n",
       "      <td>12</td>\n",
       "      <td>3</td>\n",
       "      <td>33.25</td>\n",
       "      <td>25.0</td>\n",
       "      <td>2.77</td>\n",
       "      <td>0</td>\n",
       "      <td>2020-08-16</td>\n",
       "      <td>Wyndham Championship</td>\n",
       "    </tr>\n",
       "  </tbody>\n",
       "</table>\n",
       "</div>"
      ],
      "text/plain": [
       "           PLAYER  TOTAL_EVENTS_PLAYED  CUTS_MADE  FEDEX_CUP_POINTS  \\\n",
       "0  Aaron Baddeley                   11          5            115.57   \n",
       "1  Aaron Crawford                    1          0              0.00   \n",
       "2      Aaron Wise                   12          3             33.25   \n",
       "\n",
       "   CUT_PERCENTAGE  form_density  CONSECUTIVE_CUTS ENDING_DATE  \\\n",
       "0            45.5         10.51                 1  2020-08-16   \n",
       "1             0.0          0.00                 0  2020-08-16   \n",
       "2            25.0          2.77                 0  2020-08-16   \n",
       "\n",
       "             TOURNAMENT  \n",
       "0  Wyndham Championship  \n",
       "1  Wyndham Championship  \n",
       "2  Wyndham Championship  "
      ]
     },
     "metadata": {},
     "output_type": "display_data"
    },
    {
     "name": "stdout",
     "output_type": "stream",
     "text": [
      "\n",
      "📆 2021-08-15 — Wyndham Championship (525 players)\n"
     ]
    },
    {
     "data": {
      "text/html": [
       "<div>\n",
       "<style scoped>\n",
       "    .dataframe tbody tr th:only-of-type {\n",
       "        vertical-align: middle;\n",
       "    }\n",
       "\n",
       "    .dataframe tbody tr th {\n",
       "        vertical-align: top;\n",
       "    }\n",
       "\n",
       "    .dataframe thead th {\n",
       "        text-align: right;\n",
       "    }\n",
       "</style>\n",
       "<table border=\"1\" class=\"dataframe\">\n",
       "  <thead>\n",
       "    <tr style=\"text-align: right;\">\n",
       "      <th></th>\n",
       "      <th>PLAYER</th>\n",
       "      <th>TOTAL_EVENTS_PLAYED</th>\n",
       "      <th>CUTS_MADE</th>\n",
       "      <th>FEDEX_CUP_POINTS</th>\n",
       "      <th>CUT_PERCENTAGE</th>\n",
       "      <th>form_density</th>\n",
       "      <th>CONSECUTIVE_CUTS</th>\n",
       "      <th>ENDING_DATE</th>\n",
       "      <th>TOURNAMENT</th>\n",
       "    </tr>\n",
       "  </thead>\n",
       "  <tbody>\n",
       "    <tr>\n",
       "      <th>0</th>\n",
       "      <td>Aaron Baddeley</td>\n",
       "      <td>12</td>\n",
       "      <td>4</td>\n",
       "      <td>35.67</td>\n",
       "      <td>33.3</td>\n",
       "      <td>2.97</td>\n",
       "      <td>1</td>\n",
       "      <td>2021-08-15</td>\n",
       "      <td>Wyndham Championship</td>\n",
       "    </tr>\n",
       "    <tr>\n",
       "      <th>1</th>\n",
       "      <td>Aaron Pike</td>\n",
       "      <td>1</td>\n",
       "      <td>0</td>\n",
       "      <td>0.00</td>\n",
       "      <td>0.0</td>\n",
       "      <td>0.00</td>\n",
       "      <td>0</td>\n",
       "      <td>2021-08-15</td>\n",
       "      <td>Wyndham Championship</td>\n",
       "    </tr>\n",
       "    <tr>\n",
       "      <th>2</th>\n",
       "      <td>Aaron Rai</td>\n",
       "      <td>3</td>\n",
       "      <td>2</td>\n",
       "      <td>0.00</td>\n",
       "      <td>66.7</td>\n",
       "      <td>0.00</td>\n",
       "      <td>2</td>\n",
       "      <td>2021-08-15</td>\n",
       "      <td>Wyndham Championship</td>\n",
       "    </tr>\n",
       "  </tbody>\n",
       "</table>\n",
       "</div>"
      ],
      "text/plain": [
       "           PLAYER  TOTAL_EVENTS_PLAYED  CUTS_MADE  FEDEX_CUP_POINTS  \\\n",
       "0  Aaron Baddeley                   12          4             35.67   \n",
       "1      Aaron Pike                    1          0              0.00   \n",
       "2       Aaron Rai                    3          2              0.00   \n",
       "\n",
       "   CUT_PERCENTAGE  form_density  CONSECUTIVE_CUTS ENDING_DATE  \\\n",
       "0            33.3          2.97                 1  2021-08-15   \n",
       "1             0.0          0.00                 0  2021-08-15   \n",
       "2            66.7          0.00                 2  2021-08-15   \n",
       "\n",
       "             TOURNAMENT  \n",
       "0  Wyndham Championship  \n",
       "1  Wyndham Championship  \n",
       "2  Wyndham Championship  "
      ]
     },
     "metadata": {},
     "output_type": "display_data"
    },
    {
     "name": "stdout",
     "output_type": "stream",
     "text": [
      "\n",
      "📆 2022-08-07 — Wyndham Championship (560 players)\n"
     ]
    },
    {
     "data": {
      "text/html": [
       "<div>\n",
       "<style scoped>\n",
       "    .dataframe tbody tr th:only-of-type {\n",
       "        vertical-align: middle;\n",
       "    }\n",
       "\n",
       "    .dataframe tbody tr th {\n",
       "        vertical-align: top;\n",
       "    }\n",
       "\n",
       "    .dataframe thead th {\n",
       "        text-align: right;\n",
       "    }\n",
       "</style>\n",
       "<table border=\"1\" class=\"dataframe\">\n",
       "  <thead>\n",
       "    <tr style=\"text-align: right;\">\n",
       "      <th></th>\n",
       "      <th>PLAYER</th>\n",
       "      <th>TOTAL_EVENTS_PLAYED</th>\n",
       "      <th>CUTS_MADE</th>\n",
       "      <th>FEDEX_CUP_POINTS</th>\n",
       "      <th>CUT_PERCENTAGE</th>\n",
       "      <th>form_density</th>\n",
       "      <th>CONSECUTIVE_CUTS</th>\n",
       "      <th>ENDING_DATE</th>\n",
       "      <th>TOURNAMENT</th>\n",
       "    </tr>\n",
       "  </thead>\n",
       "  <tbody>\n",
       "    <tr>\n",
       "      <th>0</th>\n",
       "      <td>A.J. Ewart</td>\n",
       "      <td>1</td>\n",
       "      <td>0</td>\n",
       "      <td>0.00</td>\n",
       "      <td>0.0</td>\n",
       "      <td>0.00</td>\n",
       "      <td>0</td>\n",
       "      <td>2022-08-07</td>\n",
       "      <td>Wyndham Championship</td>\n",
       "    </tr>\n",
       "    <tr>\n",
       "      <th>1</th>\n",
       "      <td>Aaron Baddeley</td>\n",
       "      <td>6</td>\n",
       "      <td>3</td>\n",
       "      <td>53.94</td>\n",
       "      <td>50.0</td>\n",
       "      <td>8.99</td>\n",
       "      <td>2</td>\n",
       "      <td>2022-08-07</td>\n",
       "      <td>Wyndham Championship</td>\n",
       "    </tr>\n",
       "    <tr>\n",
       "      <th>2</th>\n",
       "      <td>Aaron Beverly</td>\n",
       "      <td>1</td>\n",
       "      <td>0</td>\n",
       "      <td>0.00</td>\n",
       "      <td>0.0</td>\n",
       "      <td>0.00</td>\n",
       "      <td>0</td>\n",
       "      <td>2022-08-07</td>\n",
       "      <td>Wyndham Championship</td>\n",
       "    </tr>\n",
       "  </tbody>\n",
       "</table>\n",
       "</div>"
      ],
      "text/plain": [
       "           PLAYER  TOTAL_EVENTS_PLAYED  CUTS_MADE  FEDEX_CUP_POINTS  \\\n",
       "0      A.J. Ewart                    1          0              0.00   \n",
       "1  Aaron Baddeley                    6          3             53.94   \n",
       "2   Aaron Beverly                    1          0              0.00   \n",
       "\n",
       "   CUT_PERCENTAGE  form_density  CONSECUTIVE_CUTS ENDING_DATE  \\\n",
       "0             0.0          0.00                 0  2022-08-07   \n",
       "1            50.0          8.99                 2  2022-08-07   \n",
       "2             0.0          0.00                 0  2022-08-07   \n",
       "\n",
       "             TOURNAMENT  \n",
       "0  Wyndham Championship  \n",
       "1  Wyndham Championship  \n",
       "2  Wyndham Championship  "
      ]
     },
     "metadata": {},
     "output_type": "display_data"
    },
    {
     "name": "stdout",
     "output_type": "stream",
     "text": [
      "\n",
      "📆 2023-08-06 — Wyndham Championship (604 players)\n"
     ]
    },
    {
     "data": {
      "text/html": [
       "<div>\n",
       "<style scoped>\n",
       "    .dataframe tbody tr th:only-of-type {\n",
       "        vertical-align: middle;\n",
       "    }\n",
       "\n",
       "    .dataframe tbody tr th {\n",
       "        vertical-align: top;\n",
       "    }\n",
       "\n",
       "    .dataframe thead th {\n",
       "        text-align: right;\n",
       "    }\n",
       "</style>\n",
       "<table border=\"1\" class=\"dataframe\">\n",
       "  <thead>\n",
       "    <tr style=\"text-align: right;\">\n",
       "      <th></th>\n",
       "      <th>PLAYER</th>\n",
       "      <th>TOTAL_EVENTS_PLAYED</th>\n",
       "      <th>CUTS_MADE</th>\n",
       "      <th>FEDEX_CUP_POINTS</th>\n",
       "      <th>CUT_PERCENTAGE</th>\n",
       "      <th>form_density</th>\n",
       "      <th>CONSECUTIVE_CUTS</th>\n",
       "      <th>ENDING_DATE</th>\n",
       "      <th>TOURNAMENT</th>\n",
       "    </tr>\n",
       "  </thead>\n",
       "  <tbody>\n",
       "    <tr>\n",
       "      <th>0</th>\n",
       "      <td>Aaron Baddeley</td>\n",
       "      <td>17</td>\n",
       "      <td>11</td>\n",
       "      <td>339.536</td>\n",
       "      <td>64.7</td>\n",
       "      <td>19.97</td>\n",
       "      <td>1</td>\n",
       "      <td>2023-08-06</td>\n",
       "      <td>Wyndham Championship</td>\n",
       "    </tr>\n",
       "    <tr>\n",
       "      <th>1</th>\n",
       "      <td>Aaron Beverly</td>\n",
       "      <td>1</td>\n",
       "      <td>1</td>\n",
       "      <td>0.000</td>\n",
       "      <td>100.0</td>\n",
       "      <td>0.00</td>\n",
       "      <td>1</td>\n",
       "      <td>2023-08-06</td>\n",
       "      <td>Wyndham Championship</td>\n",
       "    </tr>\n",
       "    <tr>\n",
       "      <th>2</th>\n",
       "      <td>Aaron Cockerill</td>\n",
       "      <td>1</td>\n",
       "      <td>0</td>\n",
       "      <td>0.000</td>\n",
       "      <td>0.0</td>\n",
       "      <td>0.00</td>\n",
       "      <td>0</td>\n",
       "      <td>2023-08-06</td>\n",
       "      <td>Wyndham Championship</td>\n",
       "    </tr>\n",
       "  </tbody>\n",
       "</table>\n",
       "</div>"
      ],
      "text/plain": [
       "            PLAYER  TOTAL_EVENTS_PLAYED  CUTS_MADE  FEDEX_CUP_POINTS  \\\n",
       "0   Aaron Baddeley                   17         11           339.536   \n",
       "1    Aaron Beverly                    1          1             0.000   \n",
       "2  Aaron Cockerill                    1          0             0.000   \n",
       "\n",
       "   CUT_PERCENTAGE  form_density  CONSECUTIVE_CUTS ENDING_DATE  \\\n",
       "0            64.7         19.97                 1  2023-08-06   \n",
       "1           100.0          0.00                 1  2023-08-06   \n",
       "2             0.0          0.00                 0  2023-08-06   \n",
       "\n",
       "             TOURNAMENT  \n",
       "0  Wyndham Championship  \n",
       "1  Wyndham Championship  \n",
       "2  Wyndham Championship  "
      ]
     },
     "metadata": {},
     "output_type": "display_data"
    },
    {
     "name": "stdout",
     "output_type": "stream",
     "text": [
      "\n",
      "📆 2024-08-11 — Wyndham Championship (585 players)\n"
     ]
    },
    {
     "data": {
      "text/html": [
       "<div>\n",
       "<style scoped>\n",
       "    .dataframe tbody tr th:only-of-type {\n",
       "        vertical-align: middle;\n",
       "    }\n",
       "\n",
       "    .dataframe tbody tr th {\n",
       "        vertical-align: top;\n",
       "    }\n",
       "\n",
       "    .dataframe thead th {\n",
       "        text-align: right;\n",
       "    }\n",
       "</style>\n",
       "<table border=\"1\" class=\"dataframe\">\n",
       "  <thead>\n",
       "    <tr style=\"text-align: right;\">\n",
       "      <th></th>\n",
       "      <th>PLAYER</th>\n",
       "      <th>TOTAL_EVENTS_PLAYED</th>\n",
       "      <th>CUTS_MADE</th>\n",
       "      <th>FEDEX_CUP_POINTS</th>\n",
       "      <th>CUT_PERCENTAGE</th>\n",
       "      <th>form_density</th>\n",
       "      <th>CONSECUTIVE_CUTS</th>\n",
       "      <th>ENDING_DATE</th>\n",
       "      <th>TOURNAMENT</th>\n",
       "    </tr>\n",
       "  </thead>\n",
       "  <tbody>\n",
       "    <tr>\n",
       "      <th>0</th>\n",
       "      <td>Aaron Baddeley</td>\n",
       "      <td>14</td>\n",
       "      <td>10</td>\n",
       "      <td>155.725</td>\n",
       "      <td>71.4</td>\n",
       "      <td>11.12</td>\n",
       "      <td>2</td>\n",
       "      <td>2024-08-11</td>\n",
       "      <td>Wyndham Championship</td>\n",
       "    </tr>\n",
       "    <tr>\n",
       "      <th>1</th>\n",
       "      <td>Aaron Cockerill</td>\n",
       "      <td>2</td>\n",
       "      <td>0</td>\n",
       "      <td>0.000</td>\n",
       "      <td>0.0</td>\n",
       "      <td>0.00</td>\n",
       "      <td>0</td>\n",
       "      <td>2024-08-11</td>\n",
       "      <td>Wyndham Championship</td>\n",
       "    </tr>\n",
       "    <tr>\n",
       "      <th>2</th>\n",
       "      <td>Aaron Rai</td>\n",
       "      <td>18</td>\n",
       "      <td>15</td>\n",
       "      <td>851.657</td>\n",
       "      <td>83.3</td>\n",
       "      <td>47.31</td>\n",
       "      <td>11</td>\n",
       "      <td>2024-08-11</td>\n",
       "      <td>Wyndham Championship</td>\n",
       "    </tr>\n",
       "  </tbody>\n",
       "</table>\n",
       "</div>"
      ],
      "text/plain": [
       "            PLAYER  TOTAL_EVENTS_PLAYED  CUTS_MADE  FEDEX_CUP_POINTS  \\\n",
       "0   Aaron Baddeley                   14         10           155.725   \n",
       "1  Aaron Cockerill                    2          0             0.000   \n",
       "2        Aaron Rai                   18         15           851.657   \n",
       "\n",
       "   CUT_PERCENTAGE  form_density  CONSECUTIVE_CUTS ENDING_DATE  \\\n",
       "0            71.4         11.12                 2  2024-08-11   \n",
       "1             0.0          0.00                 0  2024-08-11   \n",
       "2            83.3         47.31                11  2024-08-11   \n",
       "\n",
       "             TOURNAMENT  \n",
       "0  Wyndham Championship  \n",
       "1  Wyndham Championship  \n",
       "2  Wyndham Championship  "
      ]
     },
     "metadata": {},
     "output_type": "display_data"
    }
   ],
   "source": [
    "importlib.reload(utils.db_utils)\n",
    "from utils.db_utils import get_cut_and_fedex_history\n",
    "\n",
    "cuts = get_cut_and_fedex_history(\"data/golf.db\", history_df, window_months=9)\n",
    "# cuts[\"2024-05-12\"].head(20)\n",
    "\n",
    "for end_date, df in cuts.items():\n",
    "    print(f\"\\n📆 {end_date} — {df['TOURNAMENT'].iloc[0]} ({len(df)} players)\")\n",
    "    display(df.head(3))"
   ]
  },
  {
   "cell_type": "markdown",
   "id": "ce90fa05",
   "metadata": {},
   "source": [
    "### Recent Form"
   ]
  },
  {
   "cell_type": "code",
   "execution_count": 6,
   "id": "20095a72",
   "metadata": {},
   "outputs": [
    {
     "name": "stdout",
     "output_type": "stream",
     "text": [
      "\n",
      "📆 2016-08-21 — Wyndham Championship (524 players)\n"
     ]
    },
    {
     "data": {
      "text/html": [
       "<div>\n",
       "<style scoped>\n",
       "    .dataframe tbody tr th:only-of-type {\n",
       "        vertical-align: middle;\n",
       "    }\n",
       "\n",
       "    .dataframe tbody tr th {\n",
       "        vertical-align: top;\n",
       "    }\n",
       "\n",
       "    .dataframe thead th {\n",
       "        text-align: right;\n",
       "    }\n",
       "</style>\n",
       "<table border=\"1\" class=\"dataframe\">\n",
       "  <thead>\n",
       "    <tr style=\"text-align: right;\">\n",
       "      <th></th>\n",
       "      <th>PLAYER</th>\n",
       "      <th>TOTAL_EVENTS_PLAYED</th>\n",
       "      <th>RECENT_FORM</th>\n",
       "      <th>adj_form</th>\n",
       "      <th>ENDING_DATE</th>\n",
       "      <th>TOURNAMENT</th>\n",
       "    </tr>\n",
       "  </thead>\n",
       "  <tbody>\n",
       "    <tr>\n",
       "      <th>0</th>\n",
       "      <td>Wesley Bryan</td>\n",
       "      <td>1</td>\n",
       "      <td>8.0</td>\n",
       "      <td>11.54</td>\n",
       "      <td>2016-08-21</td>\n",
       "      <td>Wyndham Championship</td>\n",
       "    </tr>\n",
       "    <tr>\n",
       "      <th>1</th>\n",
       "      <td>Jared du Toit</td>\n",
       "      <td>1</td>\n",
       "      <td>9.0</td>\n",
       "      <td>12.98</td>\n",
       "      <td>2016-08-21</td>\n",
       "      <td>Wyndham Championship</td>\n",
       "    </tr>\n",
       "    <tr>\n",
       "      <th>2</th>\n",
       "      <td>Tyrrell Hatton</td>\n",
       "      <td>3</td>\n",
       "      <td>10.7</td>\n",
       "      <td>7.72</td>\n",
       "      <td>2016-08-21</td>\n",
       "      <td>Wyndham Championship</td>\n",
       "    </tr>\n",
       "  </tbody>\n",
       "</table>\n",
       "</div>"
      ],
      "text/plain": [
       "           PLAYER  TOTAL_EVENTS_PLAYED  RECENT_FORM  adj_form ENDING_DATE  \\\n",
       "0    Wesley Bryan                    1          8.0     11.54  2016-08-21   \n",
       "1   Jared du Toit                    1          9.0     12.98  2016-08-21   \n",
       "2  Tyrrell Hatton                    3         10.7      7.72  2016-08-21   \n",
       "\n",
       "             TOURNAMENT  \n",
       "0  Wyndham Championship  \n",
       "1  Wyndham Championship  \n",
       "2  Wyndham Championship  "
      ]
     },
     "metadata": {},
     "output_type": "display_data"
    },
    {
     "name": "stdout",
     "output_type": "stream",
     "text": [
      "\n",
      "📆 2017-08-20 — Wyndham Championship (519 players)\n"
     ]
    },
    {
     "data": {
      "text/html": [
       "<div>\n",
       "<style scoped>\n",
       "    .dataframe tbody tr th:only-of-type {\n",
       "        vertical-align: middle;\n",
       "    }\n",
       "\n",
       "    .dataframe tbody tr th {\n",
       "        vertical-align: top;\n",
       "    }\n",
       "\n",
       "    .dataframe thead th {\n",
       "        text-align: right;\n",
       "    }\n",
       "</style>\n",
       "<table border=\"1\" class=\"dataframe\">\n",
       "  <thead>\n",
       "    <tr style=\"text-align: right;\">\n",
       "      <th></th>\n",
       "      <th>PLAYER</th>\n",
       "      <th>TOTAL_EVENTS_PLAYED</th>\n",
       "      <th>RECENT_FORM</th>\n",
       "      <th>adj_form</th>\n",
       "      <th>ENDING_DATE</th>\n",
       "      <th>TOURNAMENT</th>\n",
       "    </tr>\n",
       "  </thead>\n",
       "  <tbody>\n",
       "    <tr>\n",
       "      <th>0</th>\n",
       "      <td>Matthew Southgate</td>\n",
       "      <td>1</td>\n",
       "      <td>6.0</td>\n",
       "      <td>8.66</td>\n",
       "      <td>2017-08-20</td>\n",
       "      <td>Wyndham Championship</td>\n",
       "    </tr>\n",
       "    <tr>\n",
       "      <th>1</th>\n",
       "      <td>Jordan L Smith</td>\n",
       "      <td>1</td>\n",
       "      <td>9.0</td>\n",
       "      <td>12.98</td>\n",
       "      <td>2017-08-20</td>\n",
       "      <td>Wyndham Championship</td>\n",
       "    </tr>\n",
       "    <tr>\n",
       "      <th>2</th>\n",
       "      <td>Keith Mitchell</td>\n",
       "      <td>1</td>\n",
       "      <td>11.0</td>\n",
       "      <td>15.87</td>\n",
       "      <td>2017-08-20</td>\n",
       "      <td>Wyndham Championship</td>\n",
       "    </tr>\n",
       "  </tbody>\n",
       "</table>\n",
       "</div>"
      ],
      "text/plain": [
       "              PLAYER  TOTAL_EVENTS_PLAYED  RECENT_FORM  adj_form ENDING_DATE  \\\n",
       "0  Matthew Southgate                    1          6.0      8.66  2017-08-20   \n",
       "1     Jordan L Smith                    1          9.0     12.98  2017-08-20   \n",
       "2     Keith Mitchell                    1         11.0     15.87  2017-08-20   \n",
       "\n",
       "             TOURNAMENT  \n",
       "0  Wyndham Championship  \n",
       "1  Wyndham Championship  \n",
       "2  Wyndham Championship  "
      ]
     },
     "metadata": {},
     "output_type": "display_data"
    },
    {
     "name": "stdout",
     "output_type": "stream",
     "text": [
      "\n",
      "📆 2018-08-19 — Wyndham Championship (552 players)\n"
     ]
    },
    {
     "data": {
      "text/html": [
       "<div>\n",
       "<style scoped>\n",
       "    .dataframe tbody tr th:only-of-type {\n",
       "        vertical-align: middle;\n",
       "    }\n",
       "\n",
       "    .dataframe tbody tr th {\n",
       "        vertical-align: top;\n",
       "    }\n",
       "\n",
       "    .dataframe thead th {\n",
       "        text-align: right;\n",
       "    }\n",
       "</style>\n",
       "<table border=\"1\" class=\"dataframe\">\n",
       "  <thead>\n",
       "    <tr style=\"text-align: right;\">\n",
       "      <th></th>\n",
       "      <th>PLAYER</th>\n",
       "      <th>TOTAL_EVENTS_PLAYED</th>\n",
       "      <th>RECENT_FORM</th>\n",
       "      <th>adj_form</th>\n",
       "      <th>ENDING_DATE</th>\n",
       "      <th>TOURNAMENT</th>\n",
       "    </tr>\n",
       "  </thead>\n",
       "  <tbody>\n",
       "    <tr>\n",
       "      <th>0</th>\n",
       "      <td>Chase Seiffert</td>\n",
       "      <td>1</td>\n",
       "      <td>9.0</td>\n",
       "      <td>12.98</td>\n",
       "      <td>2018-08-19</td>\n",
       "      <td>Wyndham Championship</td>\n",
       "    </tr>\n",
       "    <tr>\n",
       "      <th>1</th>\n",
       "      <td>Justin Rose</td>\n",
       "      <td>11</td>\n",
       "      <td>12.8</td>\n",
       "      <td>5.15</td>\n",
       "      <td>2018-08-19</td>\n",
       "      <td>Wyndham Championship</td>\n",
       "    </tr>\n",
       "    <tr>\n",
       "      <th>2</th>\n",
       "      <td>Sam Horsfield</td>\n",
       "      <td>1</td>\n",
       "      <td>14.0</td>\n",
       "      <td>20.20</td>\n",
       "      <td>2018-08-19</td>\n",
       "      <td>Wyndham Championship</td>\n",
       "    </tr>\n",
       "  </tbody>\n",
       "</table>\n",
       "</div>"
      ],
      "text/plain": [
       "           PLAYER  TOTAL_EVENTS_PLAYED  RECENT_FORM  adj_form ENDING_DATE  \\\n",
       "0  Chase Seiffert                    1          9.0     12.98  2018-08-19   \n",
       "1     Justin Rose                   11         12.8      5.15  2018-08-19   \n",
       "2   Sam Horsfield                    1         14.0     20.20  2018-08-19   \n",
       "\n",
       "             TOURNAMENT  \n",
       "0  Wyndham Championship  \n",
       "1  Wyndham Championship  \n",
       "2  Wyndham Championship  "
      ]
     },
     "metadata": {},
     "output_type": "display_data"
    },
    {
     "name": "stdout",
     "output_type": "stream",
     "text": [
      "\n",
      "📆 2019-08-04 — Wyndham Championship (546 players)\n"
     ]
    },
    {
     "data": {
      "text/html": [
       "<div>\n",
       "<style scoped>\n",
       "    .dataframe tbody tr th:only-of-type {\n",
       "        vertical-align: middle;\n",
       "    }\n",
       "\n",
       "    .dataframe tbody tr th {\n",
       "        vertical-align: top;\n",
       "    }\n",
       "\n",
       "    .dataframe thead th {\n",
       "        text-align: right;\n",
       "    }\n",
       "</style>\n",
       "<table border=\"1\" class=\"dataframe\">\n",
       "  <thead>\n",
       "    <tr style=\"text-align: right;\">\n",
       "      <th></th>\n",
       "      <th>PLAYER</th>\n",
       "      <th>TOTAL_EVENTS_PLAYED</th>\n",
       "      <th>RECENT_FORM</th>\n",
       "      <th>adj_form</th>\n",
       "      <th>ENDING_DATE</th>\n",
       "      <th>TOURNAMENT</th>\n",
       "    </tr>\n",
       "  </thead>\n",
       "  <tbody>\n",
       "    <tr>\n",
       "      <th>0</th>\n",
       "      <td>Robert MacIntyre</td>\n",
       "      <td>1</td>\n",
       "      <td>6.0</td>\n",
       "      <td>8.66</td>\n",
       "      <td>2019-08-04</td>\n",
       "      <td>Wyndham Championship</td>\n",
       "    </tr>\n",
       "    <tr>\n",
       "      <th>1</th>\n",
       "      <td>Aaron Rai</td>\n",
       "      <td>1</td>\n",
       "      <td>12.0</td>\n",
       "      <td>17.31</td>\n",
       "      <td>2019-08-04</td>\n",
       "      <td>Wyndham Championship</td>\n",
       "    </tr>\n",
       "    <tr>\n",
       "      <th>2</th>\n",
       "      <td>Sanghyun Park</td>\n",
       "      <td>1</td>\n",
       "      <td>16.0</td>\n",
       "      <td>23.08</td>\n",
       "      <td>2019-08-04</td>\n",
       "      <td>Wyndham Championship</td>\n",
       "    </tr>\n",
       "  </tbody>\n",
       "</table>\n",
       "</div>"
      ],
      "text/plain": [
       "             PLAYER  TOTAL_EVENTS_PLAYED  RECENT_FORM  adj_form ENDING_DATE  \\\n",
       "0  Robert MacIntyre                    1          6.0      8.66  2019-08-04   \n",
       "1         Aaron Rai                    1         12.0     17.31  2019-08-04   \n",
       "2     Sanghyun Park                    1         16.0     23.08  2019-08-04   \n",
       "\n",
       "             TOURNAMENT  \n",
       "0  Wyndham Championship  \n",
       "1  Wyndham Championship  \n",
       "2  Wyndham Championship  "
      ]
     },
     "metadata": {},
     "output_type": "display_data"
    },
    {
     "name": "stdout",
     "output_type": "stream",
     "text": [
      "\n",
      "📆 2020-08-16 — Wyndham Championship (378 players)\n"
     ]
    },
    {
     "data": {
      "text/html": [
       "<div>\n",
       "<style scoped>\n",
       "    .dataframe tbody tr th:only-of-type {\n",
       "        vertical-align: middle;\n",
       "    }\n",
       "\n",
       "    .dataframe tbody tr th {\n",
       "        vertical-align: top;\n",
       "    }\n",
       "\n",
       "    .dataframe thead th {\n",
       "        text-align: right;\n",
       "    }\n",
       "</style>\n",
       "<table border=\"1\" class=\"dataframe\">\n",
       "  <thead>\n",
       "    <tr style=\"text-align: right;\">\n",
       "      <th></th>\n",
       "      <th>PLAYER</th>\n",
       "      <th>TOTAL_EVENTS_PLAYED</th>\n",
       "      <th>RECENT_FORM</th>\n",
       "      <th>adj_form</th>\n",
       "      <th>ENDING_DATE</th>\n",
       "      <th>TOURNAMENT</th>\n",
       "    </tr>\n",
       "  </thead>\n",
       "  <tbody>\n",
       "    <tr>\n",
       "      <th>0</th>\n",
       "      <td>Daniel Berger</td>\n",
       "      <td>10</td>\n",
       "      <td>19.4</td>\n",
       "      <td>8.09</td>\n",
       "      <td>2020-08-16</td>\n",
       "      <td>Wyndham Championship</td>\n",
       "    </tr>\n",
       "    <tr>\n",
       "      <th>1</th>\n",
       "      <td>Bryson DeChambeau</td>\n",
       "      <td>10</td>\n",
       "      <td>20.3</td>\n",
       "      <td>8.47</td>\n",
       "      <td>2020-08-16</td>\n",
       "      <td>Wyndham Championship</td>\n",
       "    </tr>\n",
       "    <tr>\n",
       "      <th>2</th>\n",
       "      <td>Patrick Cantlay</td>\n",
       "      <td>7</td>\n",
       "      <td>21.9</td>\n",
       "      <td>10.53</td>\n",
       "      <td>2020-08-16</td>\n",
       "      <td>Wyndham Championship</td>\n",
       "    </tr>\n",
       "  </tbody>\n",
       "</table>\n",
       "</div>"
      ],
      "text/plain": [
       "              PLAYER  TOTAL_EVENTS_PLAYED  RECENT_FORM  adj_form ENDING_DATE  \\\n",
       "0      Daniel Berger                   10         19.4      8.09  2020-08-16   \n",
       "1  Bryson DeChambeau                   10         20.3      8.47  2020-08-16   \n",
       "2    Patrick Cantlay                    7         21.9     10.53  2020-08-16   \n",
       "\n",
       "             TOURNAMENT  \n",
       "0  Wyndham Championship  \n",
       "1  Wyndham Championship  \n",
       "2  Wyndham Championship  "
      ]
     },
     "metadata": {},
     "output_type": "display_data"
    },
    {
     "name": "stdout",
     "output_type": "stream",
     "text": [
      "\n",
      "📆 2021-08-15 — Wyndham Championship (525 players)\n"
     ]
    },
    {
     "data": {
      "text/html": [
       "<div>\n",
       "<style scoped>\n",
       "    .dataframe tbody tr th:only-of-type {\n",
       "        vertical-align: middle;\n",
       "    }\n",
       "\n",
       "    .dataframe tbody tr th {\n",
       "        vertical-align: top;\n",
       "    }\n",
       "\n",
       "    .dataframe thead th {\n",
       "        text-align: right;\n",
       "    }\n",
       "</style>\n",
       "<table border=\"1\" class=\"dataframe\">\n",
       "  <thead>\n",
       "    <tr style=\"text-align: right;\">\n",
       "      <th></th>\n",
       "      <th>PLAYER</th>\n",
       "      <th>TOTAL_EVENTS_PLAYED</th>\n",
       "      <th>RECENT_FORM</th>\n",
       "      <th>adj_form</th>\n",
       "      <th>ENDING_DATE</th>\n",
       "      <th>TOURNAMENT</th>\n",
       "    </tr>\n",
       "  </thead>\n",
       "  <tbody>\n",
       "    <tr>\n",
       "      <th>0</th>\n",
       "      <td>Taylor Pendrith</td>\n",
       "      <td>1</td>\n",
       "      <td>11.0</td>\n",
       "      <td>15.87</td>\n",
       "      <td>2021-08-15</td>\n",
       "      <td>Wyndham Championship</td>\n",
       "    </tr>\n",
       "    <tr>\n",
       "      <th>1</th>\n",
       "      <td>Marcel Siem</td>\n",
       "      <td>1</td>\n",
       "      <td>15.0</td>\n",
       "      <td>21.64</td>\n",
       "      <td>2021-08-15</td>\n",
       "      <td>Wyndham Championship</td>\n",
       "    </tr>\n",
       "    <tr>\n",
       "      <th>2</th>\n",
       "      <td>Collin Morikawa</td>\n",
       "      <td>12</td>\n",
       "      <td>18.2</td>\n",
       "      <td>7.10</td>\n",
       "      <td>2021-08-15</td>\n",
       "      <td>Wyndham Championship</td>\n",
       "    </tr>\n",
       "  </tbody>\n",
       "</table>\n",
       "</div>"
      ],
      "text/plain": [
       "            PLAYER  TOTAL_EVENTS_PLAYED  RECENT_FORM  adj_form ENDING_DATE  \\\n",
       "0  Taylor Pendrith                    1         11.0     15.87  2021-08-15   \n",
       "1      Marcel Siem                    1         15.0     21.64  2021-08-15   \n",
       "2  Collin Morikawa                   12         18.2      7.10  2021-08-15   \n",
       "\n",
       "             TOURNAMENT  \n",
       "0  Wyndham Championship  \n",
       "1  Wyndham Championship  \n",
       "2  Wyndham Championship  "
      ]
     },
     "metadata": {},
     "output_type": "display_data"
    },
    {
     "name": "stdout",
     "output_type": "stream",
     "text": [
      "\n",
      "📆 2022-08-07 — Wyndham Championship (560 players)\n"
     ]
    },
    {
     "data": {
      "text/html": [
       "<div>\n",
       "<style scoped>\n",
       "    .dataframe tbody tr th:only-of-type {\n",
       "        vertical-align: middle;\n",
       "    }\n",
       "\n",
       "    .dataframe tbody tr th {\n",
       "        vertical-align: top;\n",
       "    }\n",
       "\n",
       "    .dataframe thead th {\n",
       "        text-align: right;\n",
       "    }\n",
       "</style>\n",
       "<table border=\"1\" class=\"dataframe\">\n",
       "  <thead>\n",
       "    <tr style=\"text-align: right;\">\n",
       "      <th></th>\n",
       "      <th>PLAYER</th>\n",
       "      <th>TOTAL_EVENTS_PLAYED</th>\n",
       "      <th>RECENT_FORM</th>\n",
       "      <th>adj_form</th>\n",
       "      <th>ENDING_DATE</th>\n",
       "      <th>TOURNAMENT</th>\n",
       "    </tr>\n",
       "  </thead>\n",
       "  <tbody>\n",
       "    <tr>\n",
       "      <th>0</th>\n",
       "      <td>Anthony Quayle</td>\n",
       "      <td>1</td>\n",
       "      <td>15.0</td>\n",
       "      <td>21.64</td>\n",
       "      <td>2022-08-07</td>\n",
       "      <td>Wyndham Championship</td>\n",
       "    </tr>\n",
       "    <tr>\n",
       "      <th>1</th>\n",
       "      <td>Martin Contini</td>\n",
       "      <td>1</td>\n",
       "      <td>16.0</td>\n",
       "      <td>23.08</td>\n",
       "      <td>2022-08-07</td>\n",
       "      <td>Wyndham Championship</td>\n",
       "    </tr>\n",
       "    <tr>\n",
       "      <th>2</th>\n",
       "      <td>Rory McIlroy</td>\n",
       "      <td>13</td>\n",
       "      <td>16.0</td>\n",
       "      <td>6.06</td>\n",
       "      <td>2022-08-07</td>\n",
       "      <td>Wyndham Championship</td>\n",
       "    </tr>\n",
       "  </tbody>\n",
       "</table>\n",
       "</div>"
      ],
      "text/plain": [
       "           PLAYER  TOTAL_EVENTS_PLAYED  RECENT_FORM  adj_form ENDING_DATE  \\\n",
       "0  Anthony Quayle                    1         15.0     21.64  2022-08-07   \n",
       "1  Martin Contini                    1         16.0     23.08  2022-08-07   \n",
       "2    Rory McIlroy                   13         16.0      6.06  2022-08-07   \n",
       "\n",
       "             TOURNAMENT  \n",
       "0  Wyndham Championship  \n",
       "1  Wyndham Championship  \n",
       "2  Wyndham Championship  "
      ]
     },
     "metadata": {},
     "output_type": "display_data"
    },
    {
     "name": "stdout",
     "output_type": "stream",
     "text": [
      "\n",
      "📆 2023-08-06 — Wyndham Championship (604 players)\n"
     ]
    },
    {
     "data": {
      "text/html": [
       "<div>\n",
       "<style scoped>\n",
       "    .dataframe tbody tr th:only-of-type {\n",
       "        vertical-align: middle;\n",
       "    }\n",
       "\n",
       "    .dataframe tbody tr th {\n",
       "        vertical-align: top;\n",
       "    }\n",
       "\n",
       "    .dataframe thead th {\n",
       "        text-align: right;\n",
       "    }\n",
       "</style>\n",
       "<table border=\"1\" class=\"dataframe\">\n",
       "  <thead>\n",
       "    <tr style=\"text-align: right;\">\n",
       "      <th></th>\n",
       "      <th>PLAYER</th>\n",
       "      <th>TOTAL_EVENTS_PLAYED</th>\n",
       "      <th>RECENT_FORM</th>\n",
       "      <th>adj_form</th>\n",
       "      <th>ENDING_DATE</th>\n",
       "      <th>TOURNAMENT</th>\n",
       "    </tr>\n",
       "  </thead>\n",
       "  <tbody>\n",
       "    <tr>\n",
       "      <th>0</th>\n",
       "      <td>Scottie Scheffler</td>\n",
       "      <td>19</td>\n",
       "      <td>6.2</td>\n",
       "      <td>2.07</td>\n",
       "      <td>2023-08-06</td>\n",
       "      <td>Wyndham Championship</td>\n",
       "    </tr>\n",
       "    <tr>\n",
       "      <th>1</th>\n",
       "      <td>Grant Forrest</td>\n",
       "      <td>1</td>\n",
       "      <td>11.0</td>\n",
       "      <td>15.87</td>\n",
       "      <td>2023-08-06</td>\n",
       "      <td>Wyndham Championship</td>\n",
       "    </tr>\n",
       "    <tr>\n",
       "      <th>2</th>\n",
       "      <td>Henrik Stenson</td>\n",
       "      <td>1</td>\n",
       "      <td>13.0</td>\n",
       "      <td>18.76</td>\n",
       "      <td>2023-08-06</td>\n",
       "      <td>Wyndham Championship</td>\n",
       "    </tr>\n",
       "  </tbody>\n",
       "</table>\n",
       "</div>"
      ],
      "text/plain": [
       "              PLAYER  TOTAL_EVENTS_PLAYED  RECENT_FORM  adj_form ENDING_DATE  \\\n",
       "0  Scottie Scheffler                   19          6.2      2.07  2023-08-06   \n",
       "1      Grant Forrest                    1         11.0     15.87  2023-08-06   \n",
       "2     Henrik Stenson                    1         13.0     18.76  2023-08-06   \n",
       "\n",
       "             TOURNAMENT  \n",
       "0  Wyndham Championship  \n",
       "1  Wyndham Championship  \n",
       "2  Wyndham Championship  "
      ]
     },
     "metadata": {},
     "output_type": "display_data"
    },
    {
     "name": "stdout",
     "output_type": "stream",
     "text": [
      "\n",
      "📆 2024-08-11 — Wyndham Championship (585 players)\n"
     ]
    },
    {
     "data": {
      "text/html": [
       "<div>\n",
       "<style scoped>\n",
       "    .dataframe tbody tr th:only-of-type {\n",
       "        vertical-align: middle;\n",
       "    }\n",
       "\n",
       "    .dataframe tbody tr th {\n",
       "        vertical-align: top;\n",
       "    }\n",
       "\n",
       "    .dataframe thead th {\n",
       "        text-align: right;\n",
       "    }\n",
       "</style>\n",
       "<table border=\"1\" class=\"dataframe\">\n",
       "  <thead>\n",
       "    <tr style=\"text-align: right;\">\n",
       "      <th></th>\n",
       "      <th>PLAYER</th>\n",
       "      <th>TOTAL_EVENTS_PLAYED</th>\n",
       "      <th>RECENT_FORM</th>\n",
       "      <th>adj_form</th>\n",
       "      <th>ENDING_DATE</th>\n",
       "      <th>TOURNAMENT</th>\n",
       "    </tr>\n",
       "  </thead>\n",
       "  <tbody>\n",
       "    <tr>\n",
       "      <th>0</th>\n",
       "      <td>Scottie Scheffler</td>\n",
       "      <td>17</td>\n",
       "      <td>6.4</td>\n",
       "      <td>2.21</td>\n",
       "      <td>2024-08-11</td>\n",
       "      <td>Wyndham Championship</td>\n",
       "    </tr>\n",
       "    <tr>\n",
       "      <th>1</th>\n",
       "      <td>Xander Schauffele</td>\n",
       "      <td>17</td>\n",
       "      <td>10.9</td>\n",
       "      <td>3.77</td>\n",
       "      <td>2024-08-11</td>\n",
       "      <td>Wyndham Championship</td>\n",
       "    </tr>\n",
       "    <tr>\n",
       "      <th>2</th>\n",
       "      <td>Alvaro Ortiz</td>\n",
       "      <td>1</td>\n",
       "      <td>13.0</td>\n",
       "      <td>18.76</td>\n",
       "      <td>2024-08-11</td>\n",
       "      <td>Wyndham Championship</td>\n",
       "    </tr>\n",
       "  </tbody>\n",
       "</table>\n",
       "</div>"
      ],
      "text/plain": [
       "              PLAYER  TOTAL_EVENTS_PLAYED  RECENT_FORM  adj_form ENDING_DATE  \\\n",
       "0  Scottie Scheffler                   17          6.4      2.21  2024-08-11   \n",
       "1  Xander Schauffele                   17         10.9      3.77  2024-08-11   \n",
       "2       Alvaro Ortiz                    1         13.0     18.76  2024-08-11   \n",
       "\n",
       "             TOURNAMENT  \n",
       "0  Wyndham Championship  \n",
       "1  Wyndham Championship  \n",
       "2  Wyndham Championship  "
      ]
     },
     "metadata": {},
     "output_type": "display_data"
    }
   ],
   "source": [
    "importlib.reload(utils.db_utils)\n",
    "from utils.db_utils import get_recent_avg_finish\n",
    "\n",
    "recent_form = get_recent_avg_finish(\"data/golf.db\", history_df, window_months=9)\n",
    "\n",
    "# Example preview\n",
    "for date, df in recent_form.items(): \n",
    "    print(f\"\\n📆 {date} — {df['TOURNAMENT'].iloc[0]} ({len(df)} players)\")\n",
    "    display(df.head(3))"
   ]
  },
  {
   "cell_type": "markdown",
   "id": "76a77f44",
   "metadata": {},
   "source": [
    "### Course History"
   ]
  },
  {
   "cell_type": "code",
   "execution_count": 7,
   "id": "7412401a",
   "metadata": {},
   "outputs": [
    {
     "name": "stdout",
     "output_type": "stream",
     "text": [
      "\n",
      "🏌️‍♂️ Course history for Wyndham Championship on 2016-08-21\n"
     ]
    },
    {
     "data": {
      "text/html": [
       "<div>\n",
       "<style scoped>\n",
       "    .dataframe tbody tr th:only-of-type {\n",
       "        vertical-align: middle;\n",
       "    }\n",
       "\n",
       "    .dataframe tbody tr th {\n",
       "        vertical-align: top;\n",
       "    }\n",
       "\n",
       "    .dataframe thead th {\n",
       "        text-align: right;\n",
       "    }\n",
       "</style>\n",
       "<table border=\"1\" class=\"dataframe\">\n",
       "  <thead>\n",
       "    <tr style=\"text-align: right;\">\n",
       "      <th></th>\n",
       "      <th>PLAYER</th>\n",
       "      <th>TOTAL_EVENTS_PLAYED</th>\n",
       "      <th>COURSE_HISTORY</th>\n",
       "      <th>adj_ch</th>\n",
       "      <th>ENDING_DATE</th>\n",
       "      <th>COURSE</th>\n",
       "      <th>TOURNAMENT</th>\n",
       "    </tr>\n",
       "  </thead>\n",
       "  <tbody>\n",
       "    <tr>\n",
       "      <th>0</th>\n",
       "      <td>Aaron Baddeley</td>\n",
       "      <td>1</td>\n",
       "      <td>90.0</td>\n",
       "      <td>129.84</td>\n",
       "      <td>2016-08-21</td>\n",
       "      <td>Sedgefield Country Club</td>\n",
       "      <td>Wyndham Championship</td>\n",
       "    </tr>\n",
       "    <tr>\n",
       "      <th>1</th>\n",
       "      <td>Adam Hadwin</td>\n",
       "      <td>1</td>\n",
       "      <td>51.0</td>\n",
       "      <td>73.58</td>\n",
       "      <td>2016-08-21</td>\n",
       "      <td>Sedgefield Country Club</td>\n",
       "      <td>Wyndham Championship</td>\n",
       "    </tr>\n",
       "    <tr>\n",
       "      <th>2</th>\n",
       "      <td>Adam Scott</td>\n",
       "      <td>1</td>\n",
       "      <td>63.0</td>\n",
       "      <td>90.89</td>\n",
       "      <td>2016-08-21</td>\n",
       "      <td>Sedgefield Country Club</td>\n",
       "      <td>Wyndham Championship</td>\n",
       "    </tr>\n",
       "  </tbody>\n",
       "</table>\n",
       "</div>"
      ],
      "text/plain": [
       "           PLAYER  TOTAL_EVENTS_PLAYED  COURSE_HISTORY  adj_ch ENDING_DATE  \\\n",
       "0  Aaron Baddeley                    1            90.0  129.84  2016-08-21   \n",
       "1     Adam Hadwin                    1            51.0   73.58  2016-08-21   \n",
       "2      Adam Scott                    1            63.0   90.89  2016-08-21   \n",
       "\n",
       "                    COURSE            TOURNAMENT  \n",
       "0  Sedgefield Country Club  Wyndham Championship  \n",
       "1  Sedgefield Country Club  Wyndham Championship  \n",
       "2  Sedgefield Country Club  Wyndham Championship  "
      ]
     },
     "metadata": {},
     "output_type": "display_data"
    },
    {
     "name": "stdout",
     "output_type": "stream",
     "text": [
      "\n",
      "🏌️‍♂️ Course history for Wyndham Championship on 2017-08-20\n"
     ]
    },
    {
     "data": {
      "text/html": [
       "<div>\n",
       "<style scoped>\n",
       "    .dataframe tbody tr th:only-of-type {\n",
       "        vertical-align: middle;\n",
       "    }\n",
       "\n",
       "    .dataframe tbody tr th {\n",
       "        vertical-align: top;\n",
       "    }\n",
       "\n",
       "    .dataframe thead th {\n",
       "        text-align: right;\n",
       "    }\n",
       "</style>\n",
       "<table border=\"1\" class=\"dataframe\">\n",
       "  <thead>\n",
       "    <tr style=\"text-align: right;\">\n",
       "      <th></th>\n",
       "      <th>PLAYER</th>\n",
       "      <th>TOTAL_EVENTS_PLAYED</th>\n",
       "      <th>COURSE_HISTORY</th>\n",
       "      <th>adj_ch</th>\n",
       "      <th>ENDING_DATE</th>\n",
       "      <th>COURSE</th>\n",
       "      <th>TOURNAMENT</th>\n",
       "    </tr>\n",
       "  </thead>\n",
       "  <tbody>\n",
       "    <tr>\n",
       "      <th>0</th>\n",
       "      <td>Aaron Baddeley</td>\n",
       "      <td>1</td>\n",
       "      <td>90.0</td>\n",
       "      <td>129.84</td>\n",
       "      <td>2017-08-20</td>\n",
       "      <td>Sedgefield Country Club</td>\n",
       "      <td>Wyndham Championship</td>\n",
       "    </tr>\n",
       "    <tr>\n",
       "      <th>1</th>\n",
       "      <td>Abraham Ancer</td>\n",
       "      <td>1</td>\n",
       "      <td>90.0</td>\n",
       "      <td>129.84</td>\n",
       "      <td>2017-08-20</td>\n",
       "      <td>Sedgefield Country Club</td>\n",
       "      <td>Wyndham Championship</td>\n",
       "    </tr>\n",
       "    <tr>\n",
       "      <th>2</th>\n",
       "      <td>Adam Hadwin</td>\n",
       "      <td>2</td>\n",
       "      <td>42.0</td>\n",
       "      <td>38.23</td>\n",
       "      <td>2017-08-20</td>\n",
       "      <td>Sedgefield Country Club</td>\n",
       "      <td>Wyndham Championship</td>\n",
       "    </tr>\n",
       "  </tbody>\n",
       "</table>\n",
       "</div>"
      ],
      "text/plain": [
       "           PLAYER  TOTAL_EVENTS_PLAYED  COURSE_HISTORY  adj_ch ENDING_DATE  \\\n",
       "0  Aaron Baddeley                    1            90.0  129.84  2017-08-20   \n",
       "1   Abraham Ancer                    1            90.0  129.84  2017-08-20   \n",
       "2     Adam Hadwin                    2            42.0   38.23  2017-08-20   \n",
       "\n",
       "                    COURSE            TOURNAMENT  \n",
       "0  Sedgefield Country Club  Wyndham Championship  \n",
       "1  Sedgefield Country Club  Wyndham Championship  \n",
       "2  Sedgefield Country Club  Wyndham Championship  "
      ]
     },
     "metadata": {},
     "output_type": "display_data"
    },
    {
     "name": "stdout",
     "output_type": "stream",
     "text": [
      "\n",
      "🏌️‍♂️ Course history for Wyndham Championship on 2018-08-19\n"
     ]
    },
    {
     "data": {
      "text/html": [
       "<div>\n",
       "<style scoped>\n",
       "    .dataframe tbody tr th:only-of-type {\n",
       "        vertical-align: middle;\n",
       "    }\n",
       "\n",
       "    .dataframe tbody tr th {\n",
       "        vertical-align: top;\n",
       "    }\n",
       "\n",
       "    .dataframe thead th {\n",
       "        text-align: right;\n",
       "    }\n",
       "</style>\n",
       "<table border=\"1\" class=\"dataframe\">\n",
       "  <thead>\n",
       "    <tr style=\"text-align: right;\">\n",
       "      <th></th>\n",
       "      <th>PLAYER</th>\n",
       "      <th>TOTAL_EVENTS_PLAYED</th>\n",
       "      <th>COURSE_HISTORY</th>\n",
       "      <th>adj_ch</th>\n",
       "      <th>ENDING_DATE</th>\n",
       "      <th>COURSE</th>\n",
       "      <th>TOURNAMENT</th>\n",
       "    </tr>\n",
       "  </thead>\n",
       "  <tbody>\n",
       "    <tr>\n",
       "      <th>0</th>\n",
       "      <td>Aaron Baddeley</td>\n",
       "      <td>2</td>\n",
       "      <td>82.5</td>\n",
       "      <td>75.09</td>\n",
       "      <td>2018-08-19</td>\n",
       "      <td>Sedgefield Country Club</td>\n",
       "      <td>Wyndham Championship</td>\n",
       "    </tr>\n",
       "    <tr>\n",
       "      <th>1</th>\n",
       "      <td>Abraham Ancer</td>\n",
       "      <td>1</td>\n",
       "      <td>90.0</td>\n",
       "      <td>129.84</td>\n",
       "      <td>2018-08-19</td>\n",
       "      <td>Sedgefield Country Club</td>\n",
       "      <td>Wyndham Championship</td>\n",
       "    </tr>\n",
       "    <tr>\n",
       "      <th>2</th>\n",
       "      <td>Adam Hadwin</td>\n",
       "      <td>2</td>\n",
       "      <td>42.0</td>\n",
       "      <td>38.23</td>\n",
       "      <td>2018-08-19</td>\n",
       "      <td>Sedgefield Country Club</td>\n",
       "      <td>Wyndham Championship</td>\n",
       "    </tr>\n",
       "  </tbody>\n",
       "</table>\n",
       "</div>"
      ],
      "text/plain": [
       "           PLAYER  TOTAL_EVENTS_PLAYED  COURSE_HISTORY  adj_ch ENDING_DATE  \\\n",
       "0  Aaron Baddeley                    2            82.5   75.09  2018-08-19   \n",
       "1   Abraham Ancer                    1            90.0  129.84  2018-08-19   \n",
       "2     Adam Hadwin                    2            42.0   38.23  2018-08-19   \n",
       "\n",
       "                    COURSE            TOURNAMENT  \n",
       "0  Sedgefield Country Club  Wyndham Championship  \n",
       "1  Sedgefield Country Club  Wyndham Championship  \n",
       "2  Sedgefield Country Club  Wyndham Championship  "
      ]
     },
     "metadata": {},
     "output_type": "display_data"
    },
    {
     "name": "stdout",
     "output_type": "stream",
     "text": [
      "\n",
      "🏌️‍♂️ Course history for Wyndham Championship on 2019-08-04\n"
     ]
    },
    {
     "data": {
      "text/html": [
       "<div>\n",
       "<style scoped>\n",
       "    .dataframe tbody tr th:only-of-type {\n",
       "        vertical-align: middle;\n",
       "    }\n",
       "\n",
       "    .dataframe tbody tr th {\n",
       "        vertical-align: top;\n",
       "    }\n",
       "\n",
       "    .dataframe thead th {\n",
       "        text-align: right;\n",
       "    }\n",
       "</style>\n",
       "<table border=\"1\" class=\"dataframe\">\n",
       "  <thead>\n",
       "    <tr style=\"text-align: right;\">\n",
       "      <th></th>\n",
       "      <th>PLAYER</th>\n",
       "      <th>TOTAL_EVENTS_PLAYED</th>\n",
       "      <th>COURSE_HISTORY</th>\n",
       "      <th>adj_ch</th>\n",
       "      <th>ENDING_DATE</th>\n",
       "      <th>COURSE</th>\n",
       "      <th>TOURNAMENT</th>\n",
       "    </tr>\n",
       "  </thead>\n",
       "  <tbody>\n",
       "    <tr>\n",
       "      <th>0</th>\n",
       "      <td>Aaron Baddeley</td>\n",
       "      <td>3</td>\n",
       "      <td>63.0</td>\n",
       "      <td>45.44</td>\n",
       "      <td>2019-08-04</td>\n",
       "      <td>Sedgefield Country Club</td>\n",
       "      <td>Wyndham Championship</td>\n",
       "    </tr>\n",
       "    <tr>\n",
       "      <th>1</th>\n",
       "      <td>Abraham Ancer</td>\n",
       "      <td>2</td>\n",
       "      <td>57.0</td>\n",
       "      <td>51.88</td>\n",
       "      <td>2019-08-04</td>\n",
       "      <td>Sedgefield Country Club</td>\n",
       "      <td>Wyndham Championship</td>\n",
       "    </tr>\n",
       "    <tr>\n",
       "      <th>2</th>\n",
       "      <td>Adam Hadwin</td>\n",
       "      <td>2</td>\n",
       "      <td>42.0</td>\n",
       "      <td>38.23</td>\n",
       "      <td>2019-08-04</td>\n",
       "      <td>Sedgefield Country Club</td>\n",
       "      <td>Wyndham Championship</td>\n",
       "    </tr>\n",
       "  </tbody>\n",
       "</table>\n",
       "</div>"
      ],
      "text/plain": [
       "           PLAYER  TOTAL_EVENTS_PLAYED  COURSE_HISTORY  adj_ch ENDING_DATE  \\\n",
       "0  Aaron Baddeley                    3            63.0   45.44  2019-08-04   \n",
       "1   Abraham Ancer                    2            57.0   51.88  2019-08-04   \n",
       "2     Adam Hadwin                    2            42.0   38.23  2019-08-04   \n",
       "\n",
       "                    COURSE            TOURNAMENT  \n",
       "0  Sedgefield Country Club  Wyndham Championship  \n",
       "1  Sedgefield Country Club  Wyndham Championship  \n",
       "2  Sedgefield Country Club  Wyndham Championship  "
      ]
     },
     "metadata": {},
     "output_type": "display_data"
    },
    {
     "name": "stdout",
     "output_type": "stream",
     "text": [
      "\n",
      "🏌️‍♂️ Course history for Wyndham Championship on 2020-08-16\n"
     ]
    },
    {
     "data": {
      "text/html": [
       "<div>\n",
       "<style scoped>\n",
       "    .dataframe tbody tr th:only-of-type {\n",
       "        vertical-align: middle;\n",
       "    }\n",
       "\n",
       "    .dataframe tbody tr th {\n",
       "        vertical-align: top;\n",
       "    }\n",
       "\n",
       "    .dataframe thead th {\n",
       "        text-align: right;\n",
       "    }\n",
       "</style>\n",
       "<table border=\"1\" class=\"dataframe\">\n",
       "  <thead>\n",
       "    <tr style=\"text-align: right;\">\n",
       "      <th></th>\n",
       "      <th>PLAYER</th>\n",
       "      <th>TOTAL_EVENTS_PLAYED</th>\n",
       "      <th>COURSE_HISTORY</th>\n",
       "      <th>adj_ch</th>\n",
       "      <th>ENDING_DATE</th>\n",
       "      <th>COURSE</th>\n",
       "      <th>TOURNAMENT</th>\n",
       "    </tr>\n",
       "  </thead>\n",
       "  <tbody>\n",
       "    <tr>\n",
       "      <th>0</th>\n",
       "      <td>Aaron Baddeley</td>\n",
       "      <td>3</td>\n",
       "      <td>63.0</td>\n",
       "      <td>45.44</td>\n",
       "      <td>2020-08-16</td>\n",
       "      <td>Sedgefield Country Club</td>\n",
       "      <td>Wyndham Championship</td>\n",
       "    </tr>\n",
       "    <tr>\n",
       "      <th>1</th>\n",
       "      <td>Aaron Wise</td>\n",
       "      <td>1</td>\n",
       "      <td>48.0</td>\n",
       "      <td>69.25</td>\n",
       "      <td>2020-08-16</td>\n",
       "      <td>Sedgefield Country Club</td>\n",
       "      <td>Wyndham Championship</td>\n",
       "    </tr>\n",
       "    <tr>\n",
       "      <th>2</th>\n",
       "      <td>Abraham Ancer</td>\n",
       "      <td>3</td>\n",
       "      <td>68.0</td>\n",
       "      <td>49.05</td>\n",
       "      <td>2020-08-16</td>\n",
       "      <td>Sedgefield Country Club</td>\n",
       "      <td>Wyndham Championship</td>\n",
       "    </tr>\n",
       "  </tbody>\n",
       "</table>\n",
       "</div>"
      ],
      "text/plain": [
       "           PLAYER  TOTAL_EVENTS_PLAYED  COURSE_HISTORY  adj_ch ENDING_DATE  \\\n",
       "0  Aaron Baddeley                    3            63.0   45.44  2020-08-16   \n",
       "1      Aaron Wise                    1            48.0   69.25  2020-08-16   \n",
       "2   Abraham Ancer                    3            68.0   49.05  2020-08-16   \n",
       "\n",
       "                    COURSE            TOURNAMENT  \n",
       "0  Sedgefield Country Club  Wyndham Championship  \n",
       "1  Sedgefield Country Club  Wyndham Championship  \n",
       "2  Sedgefield Country Club  Wyndham Championship  "
      ]
     },
     "metadata": {},
     "output_type": "display_data"
    },
    {
     "name": "stdout",
     "output_type": "stream",
     "text": [
      "\n",
      "🏌️‍♂️ Course history for Wyndham Championship on 2021-08-15\n"
     ]
    },
    {
     "data": {
      "text/html": [
       "<div>\n",
       "<style scoped>\n",
       "    .dataframe tbody tr th:only-of-type {\n",
       "        vertical-align: middle;\n",
       "    }\n",
       "\n",
       "    .dataframe tbody tr th {\n",
       "        vertical-align: top;\n",
       "    }\n",
       "\n",
       "    .dataframe thead th {\n",
       "        text-align: right;\n",
       "    }\n",
       "</style>\n",
       "<table border=\"1\" class=\"dataframe\">\n",
       "  <thead>\n",
       "    <tr style=\"text-align: right;\">\n",
       "      <th></th>\n",
       "      <th>PLAYER</th>\n",
       "      <th>TOTAL_EVENTS_PLAYED</th>\n",
       "      <th>COURSE_HISTORY</th>\n",
       "      <th>adj_ch</th>\n",
       "      <th>ENDING_DATE</th>\n",
       "      <th>COURSE</th>\n",
       "      <th>TOURNAMENT</th>\n",
       "    </tr>\n",
       "  </thead>\n",
       "  <tbody>\n",
       "    <tr>\n",
       "      <th>0</th>\n",
       "      <td>Aaron Baddeley</td>\n",
       "      <td>4</td>\n",
       "      <td>69.8</td>\n",
       "      <td>43.37</td>\n",
       "      <td>2021-08-15</td>\n",
       "      <td>Sedgefield Country Club</td>\n",
       "      <td>Wyndham Championship</td>\n",
       "    </tr>\n",
       "    <tr>\n",
       "      <th>1</th>\n",
       "      <td>Aaron Wise</td>\n",
       "      <td>2</td>\n",
       "      <td>69.0</td>\n",
       "      <td>62.81</td>\n",
       "      <td>2021-08-15</td>\n",
       "      <td>Sedgefield Country Club</td>\n",
       "      <td>Wyndham Championship</td>\n",
       "    </tr>\n",
       "    <tr>\n",
       "      <th>2</th>\n",
       "      <td>Abraham Ancer</td>\n",
       "      <td>3</td>\n",
       "      <td>68.0</td>\n",
       "      <td>49.05</td>\n",
       "      <td>2021-08-15</td>\n",
       "      <td>Sedgefield Country Club</td>\n",
       "      <td>Wyndham Championship</td>\n",
       "    </tr>\n",
       "  </tbody>\n",
       "</table>\n",
       "</div>"
      ],
      "text/plain": [
       "           PLAYER  TOTAL_EVENTS_PLAYED  COURSE_HISTORY  adj_ch ENDING_DATE  \\\n",
       "0  Aaron Baddeley                    4            69.8   43.37  2021-08-15   \n",
       "1      Aaron Wise                    2            69.0   62.81  2021-08-15   \n",
       "2   Abraham Ancer                    3            68.0   49.05  2021-08-15   \n",
       "\n",
       "                    COURSE            TOURNAMENT  \n",
       "0  Sedgefield Country Club  Wyndham Championship  \n",
       "1  Sedgefield Country Club  Wyndham Championship  \n",
       "2  Sedgefield Country Club  Wyndham Championship  "
      ]
     },
     "metadata": {},
     "output_type": "display_data"
    },
    {
     "name": "stdout",
     "output_type": "stream",
     "text": [
      "\n",
      "🏌️‍♂️ Course history for Wyndham Championship on 2022-08-07\n"
     ]
    },
    {
     "data": {
      "text/html": [
       "<div>\n",
       "<style scoped>\n",
       "    .dataframe tbody tr th:only-of-type {\n",
       "        vertical-align: middle;\n",
       "    }\n",
       "\n",
       "    .dataframe tbody tr th {\n",
       "        vertical-align: top;\n",
       "    }\n",
       "\n",
       "    .dataframe thead th {\n",
       "        text-align: right;\n",
       "    }\n",
       "</style>\n",
       "<table border=\"1\" class=\"dataframe\">\n",
       "  <thead>\n",
       "    <tr style=\"text-align: right;\">\n",
       "      <th></th>\n",
       "      <th>PLAYER</th>\n",
       "      <th>TOTAL_EVENTS_PLAYED</th>\n",
       "      <th>COURSE_HISTORY</th>\n",
       "      <th>adj_ch</th>\n",
       "      <th>ENDING_DATE</th>\n",
       "      <th>COURSE</th>\n",
       "      <th>TOURNAMENT</th>\n",
       "    </tr>\n",
       "  </thead>\n",
       "  <tbody>\n",
       "    <tr>\n",
       "      <th>0</th>\n",
       "      <td>Aaron Baddeley</td>\n",
       "      <td>5</td>\n",
       "      <td>73.8</td>\n",
       "      <td>41.19</td>\n",
       "      <td>2022-08-07</td>\n",
       "      <td>Sedgefield Country Club</td>\n",
       "      <td>Wyndham Championship</td>\n",
       "    </tr>\n",
       "    <tr>\n",
       "      <th>1</th>\n",
       "      <td>Aaron Wise</td>\n",
       "      <td>3</td>\n",
       "      <td>61.3</td>\n",
       "      <td>44.22</td>\n",
       "      <td>2022-08-07</td>\n",
       "      <td>Sedgefield Country Club</td>\n",
       "      <td>Wyndham Championship</td>\n",
       "    </tr>\n",
       "    <tr>\n",
       "      <th>2</th>\n",
       "      <td>Abraham Ancer</td>\n",
       "      <td>3</td>\n",
       "      <td>68.0</td>\n",
       "      <td>49.05</td>\n",
       "      <td>2022-08-07</td>\n",
       "      <td>Sedgefield Country Club</td>\n",
       "      <td>Wyndham Championship</td>\n",
       "    </tr>\n",
       "  </tbody>\n",
       "</table>\n",
       "</div>"
      ],
      "text/plain": [
       "           PLAYER  TOTAL_EVENTS_PLAYED  COURSE_HISTORY  adj_ch ENDING_DATE  \\\n",
       "0  Aaron Baddeley                    5            73.8   41.19  2022-08-07   \n",
       "1      Aaron Wise                    3            61.3   44.22  2022-08-07   \n",
       "2   Abraham Ancer                    3            68.0   49.05  2022-08-07   \n",
       "\n",
       "                    COURSE            TOURNAMENT  \n",
       "0  Sedgefield Country Club  Wyndham Championship  \n",
       "1  Sedgefield Country Club  Wyndham Championship  \n",
       "2  Sedgefield Country Club  Wyndham Championship  "
      ]
     },
     "metadata": {},
     "output_type": "display_data"
    },
    {
     "name": "stdout",
     "output_type": "stream",
     "text": [
      "\n",
      "🏌️‍♂️ Course history for Wyndham Championship on 2023-08-06\n"
     ]
    },
    {
     "data": {
      "text/html": [
       "<div>\n",
       "<style scoped>\n",
       "    .dataframe tbody tr th:only-of-type {\n",
       "        vertical-align: middle;\n",
       "    }\n",
       "\n",
       "    .dataframe tbody tr th {\n",
       "        vertical-align: top;\n",
       "    }\n",
       "\n",
       "    .dataframe thead th {\n",
       "        text-align: right;\n",
       "    }\n",
       "</style>\n",
       "<table border=\"1\" class=\"dataframe\">\n",
       "  <thead>\n",
       "    <tr style=\"text-align: right;\">\n",
       "      <th></th>\n",
       "      <th>PLAYER</th>\n",
       "      <th>TOTAL_EVENTS_PLAYED</th>\n",
       "      <th>COURSE_HISTORY</th>\n",
       "      <th>adj_ch</th>\n",
       "      <th>ENDING_DATE</th>\n",
       "      <th>COURSE</th>\n",
       "      <th>TOURNAMENT</th>\n",
       "    </tr>\n",
       "  </thead>\n",
       "  <tbody>\n",
       "    <tr>\n",
       "      <th>0</th>\n",
       "      <td>Aaron Baddeley</td>\n",
       "      <td>5</td>\n",
       "      <td>73.8</td>\n",
       "      <td>41.19</td>\n",
       "      <td>2023-08-06</td>\n",
       "      <td>Sedgefield Country Club</td>\n",
       "      <td>Wyndham Championship</td>\n",
       "    </tr>\n",
       "    <tr>\n",
       "      <th>1</th>\n",
       "      <td>Aaron Rai</td>\n",
       "      <td>1</td>\n",
       "      <td>71.0</td>\n",
       "      <td>102.43</td>\n",
       "      <td>2023-08-06</td>\n",
       "      <td>Sedgefield Country Club</td>\n",
       "      <td>Wyndham Championship</td>\n",
       "    </tr>\n",
       "    <tr>\n",
       "      <th>2</th>\n",
       "      <td>Aaron Wise</td>\n",
       "      <td>4</td>\n",
       "      <td>49.3</td>\n",
       "      <td>30.63</td>\n",
       "      <td>2023-08-06</td>\n",
       "      <td>Sedgefield Country Club</td>\n",
       "      <td>Wyndham Championship</td>\n",
       "    </tr>\n",
       "  </tbody>\n",
       "</table>\n",
       "</div>"
      ],
      "text/plain": [
       "           PLAYER  TOTAL_EVENTS_PLAYED  COURSE_HISTORY  adj_ch ENDING_DATE  \\\n",
       "0  Aaron Baddeley                    5            73.8   41.19  2023-08-06   \n",
       "1       Aaron Rai                    1            71.0  102.43  2023-08-06   \n",
       "2      Aaron Wise                    4            49.3   30.63  2023-08-06   \n",
       "\n",
       "                    COURSE            TOURNAMENT  \n",
       "0  Sedgefield Country Club  Wyndham Championship  \n",
       "1  Sedgefield Country Club  Wyndham Championship  \n",
       "2  Sedgefield Country Club  Wyndham Championship  "
      ]
     },
     "metadata": {},
     "output_type": "display_data"
    },
    {
     "name": "stdout",
     "output_type": "stream",
     "text": [
      "\n",
      "🏌️‍♂️ Course history for Wyndham Championship on 2024-08-11\n"
     ]
    },
    {
     "data": {
      "text/html": [
       "<div>\n",
       "<style scoped>\n",
       "    .dataframe tbody tr th:only-of-type {\n",
       "        vertical-align: middle;\n",
       "    }\n",
       "\n",
       "    .dataframe tbody tr th {\n",
       "        vertical-align: top;\n",
       "    }\n",
       "\n",
       "    .dataframe thead th {\n",
       "        text-align: right;\n",
       "    }\n",
       "</style>\n",
       "<table border=\"1\" class=\"dataframe\">\n",
       "  <thead>\n",
       "    <tr style=\"text-align: right;\">\n",
       "      <th></th>\n",
       "      <th>PLAYER</th>\n",
       "      <th>TOTAL_EVENTS_PLAYED</th>\n",
       "      <th>COURSE_HISTORY</th>\n",
       "      <th>adj_ch</th>\n",
       "      <th>ENDING_DATE</th>\n",
       "      <th>COURSE</th>\n",
       "      <th>TOURNAMENT</th>\n",
       "    </tr>\n",
       "  </thead>\n",
       "  <tbody>\n",
       "    <tr>\n",
       "      <th>0</th>\n",
       "      <td>Aaron Baddeley</td>\n",
       "      <td>6</td>\n",
       "      <td>76.5</td>\n",
       "      <td>39.31</td>\n",
       "      <td>2024-08-11</td>\n",
       "      <td>Sedgefield Country Club</td>\n",
       "      <td>Wyndham Championship</td>\n",
       "    </tr>\n",
       "    <tr>\n",
       "      <th>1</th>\n",
       "      <td>Aaron Rai</td>\n",
       "      <td>2</td>\n",
       "      <td>80.5</td>\n",
       "      <td>73.27</td>\n",
       "      <td>2024-08-11</td>\n",
       "      <td>Sedgefield Country Club</td>\n",
       "      <td>Wyndham Championship</td>\n",
       "    </tr>\n",
       "    <tr>\n",
       "      <th>2</th>\n",
       "      <td>Aaron Wise</td>\n",
       "      <td>4</td>\n",
       "      <td>49.3</td>\n",
       "      <td>30.63</td>\n",
       "      <td>2024-08-11</td>\n",
       "      <td>Sedgefield Country Club</td>\n",
       "      <td>Wyndham Championship</td>\n",
       "    </tr>\n",
       "  </tbody>\n",
       "</table>\n",
       "</div>"
      ],
      "text/plain": [
       "           PLAYER  TOTAL_EVENTS_PLAYED  COURSE_HISTORY  adj_ch ENDING_DATE  \\\n",
       "0  Aaron Baddeley                    6            76.5   39.31  2024-08-11   \n",
       "1       Aaron Rai                    2            80.5   73.27  2024-08-11   \n",
       "2      Aaron Wise                    4            49.3   30.63  2024-08-11   \n",
       "\n",
       "                    COURSE            TOURNAMENT  \n",
       "0  Sedgefield Country Club  Wyndham Championship  \n",
       "1  Sedgefield Country Club  Wyndham Championship  \n",
       "2  Sedgefield Country Club  Wyndham Championship  "
      ]
     },
     "metadata": {},
     "output_type": "display_data"
    }
   ],
   "source": [
    "importlib.reload(utils.db_utils)\n",
    "from utils.db_utils import get_course_history\n",
    "\n",
    "# Filter history_df for only the course we're targeting\n",
    "target_course = tournament_config[\"new\"][\"course\"]\n",
    "course_df = history_df[history_df[\"COURSE\"] == target_course]\n",
    "course_hist = get_course_history(\"data/golf.db\", course_df)\n",
    "\n",
    "# View example\n",
    "for date, df in course_hist.items():\n",
    "    if not df.empty:\n",
    "        print(f\"\\n🏌️‍♂️ Course history for {df['TOURNAMENT'].iloc[0]} on {date}\")\n",
    "        display(df.head(3))"
   ]
  },
  {
   "cell_type": "code",
   "execution_count": 8,
   "id": "bb9221e1",
   "metadata": {},
   "outputs": [],
   "source": [
    "#  DEBUGGING: Check for empty DataFrames or missing columns\n",
    "for date_key, df in course_hist.items():\n",
    "    if df.empty:\n",
    "        print(f\"ℹ️ Empty course_hist for date {date_key}\")\n",
    "    elif \"PLAYER\" not in df.columns:\n",
    "        print(f\"❌ Missing 'PLAYER' column in course_hist[{date_key}]. Columns present: {df.columns.tolist()}\")\n",
    "        display(df.head())"
   ]
  },
  {
   "cell_type": "markdown",
   "id": "e8fa7578",
   "metadata": {},
   "source": [
    "## Training Dataset"
   ]
  },
  {
   "cell_type": "code",
   "execution_count": 9,
   "id": "a4277295",
   "metadata": {},
   "outputs": [
    {
     "data": {
      "text/html": [
       "<div>\n",
       "<style scoped>\n",
       "    .dataframe tbody tr th:only-of-type {\n",
       "        vertical-align: middle;\n",
       "    }\n",
       "\n",
       "    .dataframe tbody tr th {\n",
       "        vertical-align: top;\n",
       "    }\n",
       "\n",
       "    .dataframe thead th {\n",
       "        text-align: right;\n",
       "    }\n",
       "</style>\n",
       "<table border=\"1\" class=\"dataframe\">\n",
       "  <thead>\n",
       "    <tr style=\"text-align: right;\">\n",
       "      <th></th>\n",
       "      <th>SEASON</th>\n",
       "      <th>ENDING_DATE</th>\n",
       "      <th>TOURNAMENT</th>\n",
       "      <th>COURSE</th>\n",
       "      <th>PLAYER</th>\n",
       "      <th>POS</th>\n",
       "      <th>FINAL_POS</th>\n",
       "      <th>SGTTG_RANK</th>\n",
       "      <th>SGTTG</th>\n",
       "      <th>SGOTT_RANK</th>\n",
       "      <th>SGOTT</th>\n",
       "      <th>SGAPR_RANK</th>\n",
       "      <th>SGAPR</th>\n",
       "      <th>SGATG_RANK</th>\n",
       "      <th>SGATG</th>\n",
       "      <th>SGP_RANK</th>\n",
       "      <th>SGP</th>\n",
       "      <th>BIRDIES_RANK</th>\n",
       "      <th>BIRDIES</th>\n",
       "      <th>PAR_3_RANK</th>\n",
       "      <th>PAR_3</th>\n",
       "      <th>PAR_4_RANK</th>\n",
       "      <th>PAR_4</th>\n",
       "      <th>PAR_5_RANK</th>\n",
       "      <th>PAR_5</th>\n",
       "      <th>TOTAL_DRIVING_RANK</th>\n",
       "      <th>TOTAL_DRIVING</th>\n",
       "      <th>DRIVING_DISTANCE_RANK</th>\n",
       "      <th>DRIVING_DISTANCE</th>\n",
       "      <th>DRIVING_ACCURACY_RANK</th>\n",
       "      <th>DRIVING_ACCURACY</th>\n",
       "      <th>GIR_RANK</th>\n",
       "      <th>GIR</th>\n",
       "      <th>SCRAMBLING_RANK</th>\n",
       "      <th>SCRAMBLING</th>\n",
       "      <th>OWGR_RANK</th>\n",
       "      <th>OWGR</th>\n",
       "      <th>VEGAS_ODDS</th>\n",
       "      <th>CUT_PERCENTAGE</th>\n",
       "      <th>FEDEX_CUP_POINTS</th>\n",
       "      <th>form_density</th>\n",
       "      <th>CONSECUTIVE_CUTS</th>\n",
       "      <th>RECENT_FORM</th>\n",
       "      <th>adj_form</th>\n",
       "      <th>COURSE_HISTORY</th>\n",
       "      <th>adj_ch</th>\n",
       "      <th>TOP_20</th>\n",
       "    </tr>\n",
       "  </thead>\n",
       "  <tbody>\n",
       "    <tr>\n",
       "      <th>0</th>\n",
       "      <td>2016</td>\n",
       "      <td>2016-08-21</td>\n",
       "      <td>Wyndham Championship</td>\n",
       "      <td>Sedgefield Country Club</td>\n",
       "      <td>Si Woo Kim</td>\n",
       "      <td>1</td>\n",
       "      <td>1</td>\n",
       "      <td>42.0</td>\n",
       "      <td>0.605</td>\n",
       "      <td>53.0</td>\n",
       "      <td>0.257</td>\n",
       "      <td>140.0</td>\n",
       "      <td>-0.168</td>\n",
       "      <td>9.0</td>\n",
       "      <td>0.403</td>\n",
       "      <td>118.0</td>\n",
       "      <td>-0.102</td>\n",
       "      <td>46.0</td>\n",
       "      <td>21.0</td>\n",
       "      <td>78.0</td>\n",
       "      <td>3.06</td>\n",
       "      <td>34.0</td>\n",
       "      <td>4.02</td>\n",
       "      <td>17.0</td>\n",
       "      <td>4.59</td>\n",
       "      <td>18.0</td>\n",
       "      <td>126.0</td>\n",
       "      <td>69.0</td>\n",
       "      <td>293.5</td>\n",
       "      <td>57.0</td>\n",
       "      <td>62.84</td>\n",
       "      <td>112.0</td>\n",
       "      <td>64.83</td>\n",
       "      <td>20.0</td>\n",
       "      <td>62.32</td>\n",
       "      <td>52.0</td>\n",
       "      <td>2.56</td>\n",
       "      <td>125.0</td>\n",
       "      <td>70.0</td>\n",
       "      <td>601.72</td>\n",
       "      <td>30.09</td>\n",
       "      <td>1.0</td>\n",
       "      <td>50.0</td>\n",
       "      <td>16.42</td>\n",
       "      <td>NaN</td>\n",
       "      <td>NaN</td>\n",
       "      <td>1</td>\n",
       "    </tr>\n",
       "    <tr>\n",
       "      <th>1</th>\n",
       "      <td>2016</td>\n",
       "      <td>2016-08-21</td>\n",
       "      <td>Wyndham Championship</td>\n",
       "      <td>Sedgefield Country Club</td>\n",
       "      <td>Luke Donald</td>\n",
       "      <td>2</td>\n",
       "      <td>2</td>\n",
       "      <td>76.0</td>\n",
       "      <td>0.230</td>\n",
       "      <td>180.0</td>\n",
       "      <td>-0.665</td>\n",
       "      <td>27.0</td>\n",
       "      <td>0.465</td>\n",
       "      <td>4.0</td>\n",
       "      <td>0.429</td>\n",
       "      <td>68.0</td>\n",
       "      <td>0.148</td>\n",
       "      <td>170.0</td>\n",
       "      <td>17.9</td>\n",
       "      <td>50.0</td>\n",
       "      <td>3.04</td>\n",
       "      <td>48.0</td>\n",
       "      <td>4.03</td>\n",
       "      <td>146.0</td>\n",
       "      <td>4.73</td>\n",
       "      <td>180.0</td>\n",
       "      <td>295.0</td>\n",
       "      <td>151.0</td>\n",
       "      <td>282.9</td>\n",
       "      <td>144.0</td>\n",
       "      <td>56.69</td>\n",
       "      <td>118.0</td>\n",
       "      <td>64.61</td>\n",
       "      <td>6.0</td>\n",
       "      <td>64.15</td>\n",
       "      <td>69.0</td>\n",
       "      <td>2.04</td>\n",
       "      <td>100.0</td>\n",
       "      <td>62.5</td>\n",
       "      <td>490.68</td>\n",
       "      <td>30.67</td>\n",
       "      <td>0.0</td>\n",
       "      <td>57.4</td>\n",
       "      <td>20.26</td>\n",
       "      <td>26.0</td>\n",
       "      <td>37.51</td>\n",
       "      <td>1</td>\n",
       "    </tr>\n",
       "    <tr>\n",
       "      <th>2</th>\n",
       "      <td>2016</td>\n",
       "      <td>2016-08-21</td>\n",
       "      <td>Wyndham Championship</td>\n",
       "      <td>Sedgefield Country Club</td>\n",
       "      <td>Hideki Matsuyama</td>\n",
       "      <td>T3</td>\n",
       "      <td>3</td>\n",
       "      <td>6.0</td>\n",
       "      <td>1.315</td>\n",
       "      <td>19.0</td>\n",
       "      <td>0.527</td>\n",
       "      <td>3.0</td>\n",
       "      <td>0.774</td>\n",
       "      <td>94.0</td>\n",
       "      <td>0.015</td>\n",
       "      <td>102.0</td>\n",
       "      <td>-0.025</td>\n",
       "      <td>6.0</td>\n",
       "      <td>23.52</td>\n",
       "      <td>22.0</td>\n",
       "      <td>3.02</td>\n",
       "      <td>14.0</td>\n",
       "      <td>4.01</td>\n",
       "      <td>17.0</td>\n",
       "      <td>4.59</td>\n",
       "      <td>21.0</td>\n",
       "      <td>132.0</td>\n",
       "      <td>65.0</td>\n",
       "      <td>294.5</td>\n",
       "      <td>67.0</td>\n",
       "      <td>62.04</td>\n",
       "      <td>35.0</td>\n",
       "      <td>68.11</td>\n",
       "      <td>46.0</td>\n",
       "      <td>60.86</td>\n",
       "      <td>18.0</td>\n",
       "      <td>4.46</td>\n",
       "      <td>20.0</td>\n",
       "      <td>61.5</td>\n",
       "      <td>1063.44</td>\n",
       "      <td>81.80</td>\n",
       "      <td>1.0</td>\n",
       "      <td>41.5</td>\n",
       "      <td>15.73</td>\n",
       "      <td>90.0</td>\n",
       "      <td>129.84</td>\n",
       "      <td>1</td>\n",
       "    </tr>\n",
       "    <tr>\n",
       "      <th>3</th>\n",
       "      <td>2016</td>\n",
       "      <td>2016-08-21</td>\n",
       "      <td>Wyndham Championship</td>\n",
       "      <td>Sedgefield Country Club</td>\n",
       "      <td>Brandt Snedeker</td>\n",
       "      <td>T3</td>\n",
       "      <td>3</td>\n",
       "      <td>44.0</td>\n",
       "      <td>0.573</td>\n",
       "      <td>116.0</td>\n",
       "      <td>-0.059</td>\n",
       "      <td>78.0</td>\n",
       "      <td>0.164</td>\n",
       "      <td>18.0</td>\n",
       "      <td>0.320</td>\n",
       "      <td>25.0</td>\n",
       "      <td>0.395</td>\n",
       "      <td>32.0</td>\n",
       "      <td>21.41</td>\n",
       "      <td>78.0</td>\n",
       "      <td>3.06</td>\n",
       "      <td>2.0</td>\n",
       "      <td>3.98</td>\n",
       "      <td>100.0</td>\n",
       "      <td>4.69</td>\n",
       "      <td>99.0</td>\n",
       "      <td>188.0</td>\n",
       "      <td>75.0</td>\n",
       "      <td>292.6</td>\n",
       "      <td>113.0</td>\n",
       "      <td>58.69</td>\n",
       "      <td>90.0</td>\n",
       "      <td>65.67</td>\n",
       "      <td>16.0</td>\n",
       "      <td>62.73</td>\n",
       "      <td>20.0</td>\n",
       "      <td>4.08</td>\n",
       "      <td>25.0</td>\n",
       "      <td>72.2</td>\n",
       "      <td>1436.35</td>\n",
       "      <td>79.80</td>\n",
       "      <td>4.0</td>\n",
       "      <td>39.8</td>\n",
       "      <td>13.52</td>\n",
       "      <td>43.0</td>\n",
       "      <td>62.04</td>\n",
       "      <td>1</td>\n",
       "    </tr>\n",
       "    <tr>\n",
       "      <th>4</th>\n",
       "      <td>2016</td>\n",
       "      <td>2016-08-21</td>\n",
       "      <td>Wyndham Championship</td>\n",
       "      <td>Sedgefield Country Club</td>\n",
       "      <td>Rafa Cabrera Bello</td>\n",
       "      <td>T5</td>\n",
       "      <td>5</td>\n",
       "      <td>NaN</td>\n",
       "      <td>NaN</td>\n",
       "      <td>NaN</td>\n",
       "      <td>NaN</td>\n",
       "      <td>NaN</td>\n",
       "      <td>NaN</td>\n",
       "      <td>NaN</td>\n",
       "      <td>NaN</td>\n",
       "      <td>NaN</td>\n",
       "      <td>NaN</td>\n",
       "      <td>NaN</td>\n",
       "      <td>None</td>\n",
       "      <td>NaN</td>\n",
       "      <td>NaN</td>\n",
       "      <td>NaN</td>\n",
       "      <td>NaN</td>\n",
       "      <td>NaN</td>\n",
       "      <td>NaN</td>\n",
       "      <td>NaN</td>\n",
       "      <td>NaN</td>\n",
       "      <td>NaN</td>\n",
       "      <td>NaN</td>\n",
       "      <td>NaN</td>\n",
       "      <td>None</td>\n",
       "      <td>NaN</td>\n",
       "      <td>None</td>\n",
       "      <td>NaN</td>\n",
       "      <td>None</td>\n",
       "      <td>30.0</td>\n",
       "      <td>3.40</td>\n",
       "      <td>30.0</td>\n",
       "      <td>85.7</td>\n",
       "      <td>0.00</td>\n",
       "      <td>0.00</td>\n",
       "      <td>4.0</td>\n",
       "      <td>40.4</td>\n",
       "      <td>19.43</td>\n",
       "      <td>NaN</td>\n",
       "      <td>NaN</td>\n",
       "      <td>1</td>\n",
       "    </tr>\n",
       "    <tr>\n",
       "      <th>5</th>\n",
       "      <td>2016</td>\n",
       "      <td>2016-08-21</td>\n",
       "      <td>Wyndham Championship</td>\n",
       "      <td>Sedgefield Country Club</td>\n",
       "      <td>Billy Horschel</td>\n",
       "      <td>T5</td>\n",
       "      <td>5</td>\n",
       "      <td>32.0</td>\n",
       "      <td>0.717</td>\n",
       "      <td>59.0</td>\n",
       "      <td>0.201</td>\n",
       "      <td>36.0</td>\n",
       "      <td>0.422</td>\n",
       "      <td>136.0</td>\n",
       "      <td>-0.102</td>\n",
       "      <td>77.0</td>\n",
       "      <td>0.112</td>\n",
       "      <td>48.0</td>\n",
       "      <td>20.95</td>\n",
       "      <td>146.0</td>\n",
       "      <td>3.10</td>\n",
       "      <td>48.0</td>\n",
       "      <td>4.03</td>\n",
       "      <td>100.0</td>\n",
       "      <td>4.69</td>\n",
       "      <td>52.0</td>\n",
       "      <td>156.0</td>\n",
       "      <td>72.0</td>\n",
       "      <td>293.0</td>\n",
       "      <td>84.0</td>\n",
       "      <td>60.71</td>\n",
       "      <td>45.0</td>\n",
       "      <td>67.7</td>\n",
       "      <td>166.0</td>\n",
       "      <td>54.55</td>\n",
       "      <td>71.0</td>\n",
       "      <td>2.02</td>\n",
       "      <td>80.0</td>\n",
       "      <td>84.6</td>\n",
       "      <td>514.28</td>\n",
       "      <td>39.56</td>\n",
       "      <td>1.0</td>\n",
       "      <td>39.1</td>\n",
       "      <td>14.82</td>\n",
       "      <td>90.0</td>\n",
       "      <td>129.84</td>\n",
       "      <td>1</td>\n",
       "    </tr>\n",
       "    <tr>\n",
       "      <th>6</th>\n",
       "      <td>2016</td>\n",
       "      <td>2016-08-21</td>\n",
       "      <td>Wyndham Championship</td>\n",
       "      <td>Sedgefield Country Club</td>\n",
       "      <td>Graeme McDowell</td>\n",
       "      <td>T5</td>\n",
       "      <td>5</td>\n",
       "      <td>107.0</td>\n",
       "      <td>0.021</td>\n",
       "      <td>132.0</td>\n",
       "      <td>-0.129</td>\n",
       "      <td>87.0</td>\n",
       "      <td>0.153</td>\n",
       "      <td>104.0</td>\n",
       "      <td>-0.003</td>\n",
       "      <td>137.0</td>\n",
       "      <td>-0.199</td>\n",
       "      <td>108.0</td>\n",
       "      <td>19.72</td>\n",
       "      <td>78.0</td>\n",
       "      <td>3.06</td>\n",
       "      <td>136.0</td>\n",
       "      <td>4.07</td>\n",
       "      <td>100.0</td>\n",
       "      <td>4.69</td>\n",
       "      <td>68.0</td>\n",
       "      <td>169.0</td>\n",
       "      <td>156.0</td>\n",
       "      <td>281.4</td>\n",
       "      <td>13.0</td>\n",
       "      <td>67.7</td>\n",
       "      <td>125.0</td>\n",
       "      <td>64.44</td>\n",
       "      <td>86.0</td>\n",
       "      <td>58.85</td>\n",
       "      <td>80.0</td>\n",
       "      <td>1.82</td>\n",
       "      <td>100.0</td>\n",
       "      <td>46.2</td>\n",
       "      <td>482.43</td>\n",
       "      <td>37.11</td>\n",
       "      <td>0.0</td>\n",
       "      <td>58.2</td>\n",
       "      <td>22.05</td>\n",
       "      <td>NaN</td>\n",
       "      <td>NaN</td>\n",
       "      <td>1</td>\n",
       "    </tr>\n",
       "    <tr>\n",
       "      <th>7</th>\n",
       "      <td>2016</td>\n",
       "      <td>2016-08-21</td>\n",
       "      <td>Wyndham Championship</td>\n",
       "      <td>Sedgefield Country Club</td>\n",
       "      <td>Brett Stegmaier</td>\n",
       "      <td>T5</td>\n",
       "      <td>5</td>\n",
       "      <td>93.0</td>\n",
       "      <td>0.109</td>\n",
       "      <td>70.0</td>\n",
       "      <td>0.128</td>\n",
       "      <td>93.0</td>\n",
       "      <td>0.133</td>\n",
       "      <td>152.0</td>\n",
       "      <td>-0.152</td>\n",
       "      <td>109.0</td>\n",
       "      <td>-0.061</td>\n",
       "      <td>121.0</td>\n",
       "      <td>19.48</td>\n",
       "      <td>160.0</td>\n",
       "      <td>3.11</td>\n",
       "      <td>48.0</td>\n",
       "      <td>4.03</td>\n",
       "      <td>50.0</td>\n",
       "      <td>4.64</td>\n",
       "      <td>21.0</td>\n",
       "      <td>132.0</td>\n",
       "      <td>52.0</td>\n",
       "      <td>295.3</td>\n",
       "      <td>80.0</td>\n",
       "      <td>60.93</td>\n",
       "      <td>60.0</td>\n",
       "      <td>66.8</td>\n",
       "      <td>97.0</td>\n",
       "      <td>58.27</td>\n",
       "      <td>248.0</td>\n",
       "      <td>0.73</td>\n",
       "      <td>NaN</td>\n",
       "      <td>50.0</td>\n",
       "      <td>188.79</td>\n",
       "      <td>10.49</td>\n",
       "      <td>0.0</td>\n",
       "      <td>69.3</td>\n",
       "      <td>23.54</td>\n",
       "      <td>NaN</td>\n",
       "      <td>NaN</td>\n",
       "      <td>1</td>\n",
       "    </tr>\n",
       "    <tr>\n",
       "      <th>8</th>\n",
       "      <td>2016</td>\n",
       "      <td>2016-08-21</td>\n",
       "      <td>Wyndham Championship</td>\n",
       "      <td>Sedgefield Country Club</td>\n",
       "      <td>Johnson Wagner</td>\n",
       "      <td>T5</td>\n",
       "      <td>5</td>\n",
       "      <td>95.0</td>\n",
       "      <td>0.096</td>\n",
       "      <td>93.0</td>\n",
       "      <td>0.030</td>\n",
       "      <td>69.0</td>\n",
       "      <td>0.219</td>\n",
       "      <td>153.0</td>\n",
       "      <td>-0.154</td>\n",
       "      <td>41.0</td>\n",
       "      <td>0.273</td>\n",
       "      <td>64.0</td>\n",
       "      <td>20.54</td>\n",
       "      <td>50.0</td>\n",
       "      <td>3.04</td>\n",
       "      <td>34.0</td>\n",
       "      <td>4.02</td>\n",
       "      <td>68.0</td>\n",
       "      <td>4.66</td>\n",
       "      <td>78.0</td>\n",
       "      <td>177.0</td>\n",
       "      <td>101.0</td>\n",
       "      <td>289.4</td>\n",
       "      <td>76.0</td>\n",
       "      <td>61.13</td>\n",
       "      <td>13.0</td>\n",
       "      <td>69.38</td>\n",
       "      <td>109.0</td>\n",
       "      <td>57.81</td>\n",
       "      <td>166.0</td>\n",
       "      <td>1.02</td>\n",
       "      <td>NaN</td>\n",
       "      <td>58.8</td>\n",
       "      <td>334.29</td>\n",
       "      <td>19.66</td>\n",
       "      <td>1.0</td>\n",
       "      <td>59.9</td>\n",
       "      <td>20.72</td>\n",
       "      <td>90.0</td>\n",
       "      <td>129.84</td>\n",
       "      <td>1</td>\n",
       "    </tr>\n",
       "    <tr>\n",
       "      <th>9</th>\n",
       "      <td>2016</td>\n",
       "      <td>2016-08-21</td>\n",
       "      <td>Wyndham Championship</td>\n",
       "      <td>Sedgefield Country Club</td>\n",
       "      <td>Bud Cauley</td>\n",
       "      <td>T10</td>\n",
       "      <td>10</td>\n",
       "      <td>NaN</td>\n",
       "      <td>NaN</td>\n",
       "      <td>NaN</td>\n",
       "      <td>NaN</td>\n",
       "      <td>NaN</td>\n",
       "      <td>NaN</td>\n",
       "      <td>NaN</td>\n",
       "      <td>NaN</td>\n",
       "      <td>NaN</td>\n",
       "      <td>NaN</td>\n",
       "      <td>NaN</td>\n",
       "      <td>None</td>\n",
       "      <td>NaN</td>\n",
       "      <td>NaN</td>\n",
       "      <td>NaN</td>\n",
       "      <td>NaN</td>\n",
       "      <td>NaN</td>\n",
       "      <td>NaN</td>\n",
       "      <td>NaN</td>\n",
       "      <td>NaN</td>\n",
       "      <td>NaN</td>\n",
       "      <td>NaN</td>\n",
       "      <td>NaN</td>\n",
       "      <td>None</td>\n",
       "      <td>NaN</td>\n",
       "      <td>None</td>\n",
       "      <td>NaN</td>\n",
       "      <td>None</td>\n",
       "      <td>277.0</td>\n",
       "      <td>0.65</td>\n",
       "      <td>80.0</td>\n",
       "      <td>70.0</td>\n",
       "      <td>319.98</td>\n",
       "      <td>32.00</td>\n",
       "      <td>5.0</td>\n",
       "      <td>47.8</td>\n",
       "      <td>19.93</td>\n",
       "      <td>NaN</td>\n",
       "      <td>NaN</td>\n",
       "      <td>1</td>\n",
       "    </tr>\n",
       "  </tbody>\n",
       "</table>\n",
       "</div>"
      ],
      "text/plain": [
       "   SEASON ENDING_DATE            TOURNAMENT                   COURSE  \\\n",
       "0    2016  2016-08-21  Wyndham Championship  Sedgefield Country Club   \n",
       "1    2016  2016-08-21  Wyndham Championship  Sedgefield Country Club   \n",
       "2    2016  2016-08-21  Wyndham Championship  Sedgefield Country Club   \n",
       "3    2016  2016-08-21  Wyndham Championship  Sedgefield Country Club   \n",
       "4    2016  2016-08-21  Wyndham Championship  Sedgefield Country Club   \n",
       "5    2016  2016-08-21  Wyndham Championship  Sedgefield Country Club   \n",
       "6    2016  2016-08-21  Wyndham Championship  Sedgefield Country Club   \n",
       "7    2016  2016-08-21  Wyndham Championship  Sedgefield Country Club   \n",
       "8    2016  2016-08-21  Wyndham Championship  Sedgefield Country Club   \n",
       "9    2016  2016-08-21  Wyndham Championship  Sedgefield Country Club   \n",
       "\n",
       "               PLAYER  POS  FINAL_POS  SGTTG_RANK  SGTTG  SGOTT_RANK  SGOTT  \\\n",
       "0          Si Woo Kim    1          1        42.0  0.605        53.0  0.257   \n",
       "1         Luke Donald    2          2        76.0  0.230       180.0 -0.665   \n",
       "2    Hideki Matsuyama   T3          3         6.0  1.315        19.0  0.527   \n",
       "3     Brandt Snedeker   T3          3        44.0  0.573       116.0 -0.059   \n",
       "4  Rafa Cabrera Bello   T5          5         NaN    NaN         NaN    NaN   \n",
       "5      Billy Horschel   T5          5        32.0  0.717        59.0  0.201   \n",
       "6     Graeme McDowell   T5          5       107.0  0.021       132.0 -0.129   \n",
       "7     Brett Stegmaier   T5          5        93.0  0.109        70.0  0.128   \n",
       "8      Johnson Wagner   T5          5        95.0  0.096        93.0  0.030   \n",
       "9          Bud Cauley  T10         10         NaN    NaN         NaN    NaN   \n",
       "\n",
       "   SGAPR_RANK  SGAPR  SGATG_RANK  SGATG  SGP_RANK    SGP  BIRDIES_RANK  \\\n",
       "0       140.0 -0.168         9.0  0.403     118.0 -0.102          46.0   \n",
       "1        27.0  0.465         4.0  0.429      68.0  0.148         170.0   \n",
       "2         3.0  0.774        94.0  0.015     102.0 -0.025           6.0   \n",
       "3        78.0  0.164        18.0  0.320      25.0  0.395          32.0   \n",
       "4         NaN    NaN         NaN    NaN       NaN    NaN           NaN   \n",
       "5        36.0  0.422       136.0 -0.102      77.0  0.112          48.0   \n",
       "6        87.0  0.153       104.0 -0.003     137.0 -0.199         108.0   \n",
       "7        93.0  0.133       152.0 -0.152     109.0 -0.061         121.0   \n",
       "8        69.0  0.219       153.0 -0.154      41.0  0.273          64.0   \n",
       "9         NaN    NaN         NaN    NaN       NaN    NaN           NaN   \n",
       "\n",
       "  BIRDIES  PAR_3_RANK  PAR_3  PAR_4_RANK  PAR_4  PAR_5_RANK  PAR_5  \\\n",
       "0    21.0        78.0   3.06        34.0   4.02        17.0   4.59   \n",
       "1    17.9        50.0   3.04        48.0   4.03       146.0   4.73   \n",
       "2   23.52        22.0   3.02        14.0   4.01        17.0   4.59   \n",
       "3   21.41        78.0   3.06         2.0   3.98       100.0   4.69   \n",
       "4    None         NaN    NaN         NaN    NaN         NaN    NaN   \n",
       "5   20.95       146.0   3.10        48.0   4.03       100.0   4.69   \n",
       "6   19.72        78.0   3.06       136.0   4.07       100.0   4.69   \n",
       "7   19.48       160.0   3.11        48.0   4.03        50.0   4.64   \n",
       "8   20.54        50.0   3.04        34.0   4.02        68.0   4.66   \n",
       "9    None         NaN    NaN         NaN    NaN         NaN    NaN   \n",
       "\n",
       "   TOTAL_DRIVING_RANK  TOTAL_DRIVING  DRIVING_DISTANCE_RANK  DRIVING_DISTANCE  \\\n",
       "0                18.0          126.0                   69.0             293.5   \n",
       "1               180.0          295.0                  151.0             282.9   \n",
       "2                21.0          132.0                   65.0             294.5   \n",
       "3                99.0          188.0                   75.0             292.6   \n",
       "4                 NaN            NaN                    NaN               NaN   \n",
       "5                52.0          156.0                   72.0             293.0   \n",
       "6                68.0          169.0                  156.0             281.4   \n",
       "7                21.0          132.0                   52.0             295.3   \n",
       "8                78.0          177.0                  101.0             289.4   \n",
       "9                 NaN            NaN                    NaN               NaN   \n",
       "\n",
       "   DRIVING_ACCURACY_RANK DRIVING_ACCURACY  GIR_RANK    GIR  SCRAMBLING_RANK  \\\n",
       "0                   57.0            62.84     112.0  64.83             20.0   \n",
       "1                  144.0            56.69     118.0  64.61              6.0   \n",
       "2                   67.0            62.04      35.0  68.11             46.0   \n",
       "3                  113.0            58.69      90.0  65.67             16.0   \n",
       "4                    NaN             None       NaN   None              NaN   \n",
       "5                   84.0            60.71      45.0   67.7            166.0   \n",
       "6                   13.0             67.7     125.0  64.44             86.0   \n",
       "7                   80.0            60.93      60.0   66.8             97.0   \n",
       "8                   76.0            61.13      13.0  69.38            109.0   \n",
       "9                    NaN             None       NaN   None              NaN   \n",
       "\n",
       "  SCRAMBLING  OWGR_RANK  OWGR  VEGAS_ODDS  CUT_PERCENTAGE  FEDEX_CUP_POINTS  \\\n",
       "0      62.32       52.0  2.56       125.0            70.0            601.72   \n",
       "1      64.15       69.0  2.04       100.0            62.5            490.68   \n",
       "2      60.86       18.0  4.46        20.0            61.5           1063.44   \n",
       "3      62.73       20.0  4.08        25.0            72.2           1436.35   \n",
       "4       None       30.0  3.40        30.0            85.7              0.00   \n",
       "5      54.55       71.0  2.02        80.0            84.6            514.28   \n",
       "6      58.85       80.0  1.82       100.0            46.2            482.43   \n",
       "7      58.27      248.0  0.73         NaN            50.0            188.79   \n",
       "8      57.81      166.0  1.02         NaN            58.8            334.29   \n",
       "9       None      277.0  0.65        80.0            70.0            319.98   \n",
       "\n",
       "   form_density  CONSECUTIVE_CUTS  RECENT_FORM  adj_form  COURSE_HISTORY  \\\n",
       "0         30.09               1.0         50.0     16.42             NaN   \n",
       "1         30.67               0.0         57.4     20.26            26.0   \n",
       "2         81.80               1.0         41.5     15.73            90.0   \n",
       "3         79.80               4.0         39.8     13.52            43.0   \n",
       "4          0.00               4.0         40.4     19.43             NaN   \n",
       "5         39.56               1.0         39.1     14.82            90.0   \n",
       "6         37.11               0.0         58.2     22.05             NaN   \n",
       "7         10.49               0.0         69.3     23.54             NaN   \n",
       "8         19.66               1.0         59.9     20.72            90.0   \n",
       "9         32.00               5.0         47.8     19.93             NaN   \n",
       "\n",
       "   adj_ch  TOP_20  \n",
       "0     NaN       1  \n",
       "1   37.51       1  \n",
       "2  129.84       1  \n",
       "3   62.04       1  \n",
       "4     NaN       1  \n",
       "5  129.84       1  \n",
       "6     NaN       1  \n",
       "7     NaN       1  \n",
       "8  129.84       1  \n",
       "9     NaN       1  "
      ]
     },
     "execution_count": 9,
     "metadata": {},
     "output_type": "execute_result"
    }
   ],
   "source": [
    "pd.set_option(\"display.max_columns\", None)   # Show all columns\n",
    "importlib.reload(utils.db_utils)\n",
    "from utils.db_utils import build_training_rows\n",
    "training_df = build_training_rows(\n",
    "    db_path,\n",
    "    history_df,\n",
    "    cuts,\n",
    "    recent_form,\n",
    "    course_hist,\n",
    ")\n",
    "training_df.head(10)\n",
    "# training_df.info()\n",
    "# training_df.isna().sum().sort_values(ascending=False)"
   ]
  },
  {
   "cell_type": "code",
   "execution_count": 10,
   "id": "c5df12cc",
   "metadata": {},
   "outputs": [
    {
     "data": {
      "text/html": [
       "<div>\n",
       "<style scoped>\n",
       "    .dataframe tbody tr th:only-of-type {\n",
       "        vertical-align: middle;\n",
       "    }\n",
       "\n",
       "    .dataframe tbody tr th {\n",
       "        vertical-align: top;\n",
       "    }\n",
       "\n",
       "    .dataframe thead th {\n",
       "        text-align: right;\n",
       "    }\n",
       "</style>\n",
       "<table border=\"1\" class=\"dataframe\">\n",
       "  <thead>\n",
       "    <tr style=\"text-align: right;\">\n",
       "      <th></th>\n",
       "      <th>SEASON</th>\n",
       "      <th>ENDING_DATE</th>\n",
       "      <th>TOURNAMENT</th>\n",
       "      <th>COURSE</th>\n",
       "      <th>PLAYER</th>\n",
       "      <th>POS</th>\n",
       "      <th>FINAL_POS</th>\n",
       "      <th>SGTTG_RANK</th>\n",
       "      <th>SGTTG</th>\n",
       "      <th>SGOTT_RANK</th>\n",
       "      <th>SGOTT</th>\n",
       "      <th>SGAPR_RANK</th>\n",
       "      <th>SGAPR</th>\n",
       "      <th>SGATG_RANK</th>\n",
       "      <th>SGATG</th>\n",
       "      <th>SGP_RANK</th>\n",
       "      <th>SGP</th>\n",
       "      <th>BIRDIES_RANK</th>\n",
       "      <th>BIRDIES</th>\n",
       "      <th>PAR_3_RANK</th>\n",
       "      <th>PAR_3</th>\n",
       "      <th>PAR_4_RANK</th>\n",
       "      <th>PAR_4</th>\n",
       "      <th>PAR_5_RANK</th>\n",
       "      <th>PAR_5</th>\n",
       "      <th>TOTAL_DRIVING_RANK</th>\n",
       "      <th>TOTAL_DRIVING</th>\n",
       "      <th>DRIVING_DISTANCE_RANK</th>\n",
       "      <th>DRIVING_DISTANCE</th>\n",
       "      <th>DRIVING_ACCURACY_RANK</th>\n",
       "      <th>DRIVING_ACCURACY</th>\n",
       "      <th>GIR_RANK</th>\n",
       "      <th>GIR</th>\n",
       "      <th>SCRAMBLING_RANK</th>\n",
       "      <th>SCRAMBLING</th>\n",
       "      <th>OWGR_RANK</th>\n",
       "      <th>OWGR</th>\n",
       "      <th>VEGAS_ODDS</th>\n",
       "      <th>CUT_PERCENTAGE</th>\n",
       "      <th>FEDEX_CUP_POINTS</th>\n",
       "      <th>form_density</th>\n",
       "      <th>CONSECUTIVE_CUTS</th>\n",
       "      <th>RECENT_FORM</th>\n",
       "      <th>adj_form</th>\n",
       "      <th>COURSE_HISTORY</th>\n",
       "      <th>adj_ch</th>\n",
       "      <th>TOP_20</th>\n",
       "    </tr>\n",
       "  </thead>\n",
       "  <tbody>\n",
       "    <tr>\n",
       "      <th>1247</th>\n",
       "      <td>2024</td>\n",
       "      <td>2024-08-11</td>\n",
       "      <td>Wyndham Championship</td>\n",
       "      <td>Sedgefield Country Club</td>\n",
       "      <td>Aaron Rai</td>\n",
       "      <td>1</td>\n",
       "      <td>1</td>\n",
       "      <td>9.0</td>\n",
       "      <td>1.131</td>\n",
       "      <td>36.0</td>\n",
       "      <td>0.303</td>\n",
       "      <td>8.0</td>\n",
       "      <td>0.676</td>\n",
       "      <td>56.0</td>\n",
       "      <td>0.152</td>\n",
       "      <td>83.0</td>\n",
       "      <td>0.054</td>\n",
       "      <td>99.0</td>\n",
       "      <td>22.10%</td>\n",
       "      <td>38.0</td>\n",
       "      <td>3.01</td>\n",
       "      <td>10.0</td>\n",
       "      <td>3.97</td>\n",
       "      <td>44.0</td>\n",
       "      <td>4.54</td>\n",
       "      <td>53.0</td>\n",
       "      <td>153.0</td>\n",
       "      <td>152.0</td>\n",
       "      <td>293.8</td>\n",
       "      <td>1.0</td>\n",
       "      <td>72.02%</td>\n",
       "      <td>7.0</td>\n",
       "      <td>71.58%</td>\n",
       "      <td>33.0</td>\n",
       "      <td>63.18%</td>\n",
       "      <td>21.0</td>\n",
       "      <td>3.2294</td>\n",
       "      <td>30.0</td>\n",
       "      <td>83.3</td>\n",
       "      <td>851.657</td>\n",
       "      <td>47.31</td>\n",
       "      <td>11.0</td>\n",
       "      <td>37.5</td>\n",
       "      <td>12.74</td>\n",
       "      <td>80.5</td>\n",
       "      <td>73.27</td>\n",
       "      <td>1</td>\n",
       "    </tr>\n",
       "    <tr>\n",
       "      <th>1248</th>\n",
       "      <td>2024</td>\n",
       "      <td>2024-08-11</td>\n",
       "      <td>Wyndham Championship</td>\n",
       "      <td>Sedgefield Country Club</td>\n",
       "      <td>Max Greyserman</td>\n",
       "      <td>2</td>\n",
       "      <td>2</td>\n",
       "      <td>93.0</td>\n",
       "      <td>0.076</td>\n",
       "      <td>66.0</td>\n",
       "      <td>0.161</td>\n",
       "      <td>110.0</td>\n",
       "      <td>-0.034</td>\n",
       "      <td>120.0</td>\n",
       "      <td>-0.051</td>\n",
       "      <td>5.0</td>\n",
       "      <td>0.625</td>\n",
       "      <td>38.0</td>\n",
       "      <td>23.74%</td>\n",
       "      <td>52.0</td>\n",
       "      <td>3.02</td>\n",
       "      <td>43.0</td>\n",
       "      <td>3.99</td>\n",
       "      <td>15.0</td>\n",
       "      <td>4.50</td>\n",
       "      <td>40.0</td>\n",
       "      <td>143.0</td>\n",
       "      <td>18.0</td>\n",
       "      <td>312.2</td>\n",
       "      <td>125.0</td>\n",
       "      <td>58.03%</td>\n",
       "      <td>80.0</td>\n",
       "      <td>67.31%</td>\n",
       "      <td>47.0</td>\n",
       "      <td>62.07%</td>\n",
       "      <td>52.0</td>\n",
       "      <td>2.0569</td>\n",
       "      <td>80.0</td>\n",
       "      <td>56.2</td>\n",
       "      <td>589.273</td>\n",
       "      <td>36.83</td>\n",
       "      <td>5.0</td>\n",
       "      <td>54.6</td>\n",
       "      <td>19.27</td>\n",
       "      <td>NaN</td>\n",
       "      <td>NaN</td>\n",
       "      <td>1</td>\n",
       "    </tr>\n",
       "    <tr>\n",
       "      <th>1249</th>\n",
       "      <td>2024</td>\n",
       "      <td>2024-08-11</td>\n",
       "      <td>Wyndham Championship</td>\n",
       "      <td>Sedgefield Country Club</td>\n",
       "      <td>J.J. Spaun</td>\n",
       "      <td>T3</td>\n",
       "      <td>3</td>\n",
       "      <td>47.0</td>\n",
       "      <td>0.458</td>\n",
       "      <td>109.0</td>\n",
       "      <td>-0.028</td>\n",
       "      <td>17.0</td>\n",
       "      <td>0.473</td>\n",
       "      <td>99.0</td>\n",
       "      <td>0.013</td>\n",
       "      <td>114.0</td>\n",
       "      <td>-0.080</td>\n",
       "      <td>76.0</td>\n",
       "      <td>22.62%</td>\n",
       "      <td>126.0</td>\n",
       "      <td>3.07</td>\n",
       "      <td>26.0</td>\n",
       "      <td>3.98</td>\n",
       "      <td>70.0</td>\n",
       "      <td>4.56</td>\n",
       "      <td>84.0</td>\n",
       "      <td>174.0</td>\n",
       "      <td>85.0</td>\n",
       "      <td>302.1</td>\n",
       "      <td>89.0</td>\n",
       "      <td>60.49%</td>\n",
       "      <td>18.0</td>\n",
       "      <td>70.56%</td>\n",
       "      <td>106.0</td>\n",
       "      <td>58.76%</td>\n",
       "      <td>117.0</td>\n",
       "      <td>1.1299</td>\n",
       "      <td>80.0</td>\n",
       "      <td>47.1</td>\n",
       "      <td>268.231</td>\n",
       "      <td>15.78</td>\n",
       "      <td>3.0</td>\n",
       "      <td>62.9</td>\n",
       "      <td>21.76</td>\n",
       "      <td>65.5</td>\n",
       "      <td>33.66</td>\n",
       "      <td>1</td>\n",
       "    </tr>\n",
       "    <tr>\n",
       "      <th>1250</th>\n",
       "      <td>2024</td>\n",
       "      <td>2024-08-11</td>\n",
       "      <td>Wyndham Championship</td>\n",
       "      <td>Sedgefield Country Club</td>\n",
       "      <td>Ryo Hisatsune</td>\n",
       "      <td>T3</td>\n",
       "      <td>3</td>\n",
       "      <td>59.0</td>\n",
       "      <td>0.384</td>\n",
       "      <td>91.0</td>\n",
       "      <td>0.056</td>\n",
       "      <td>47.0</td>\n",
       "      <td>0.282</td>\n",
       "      <td>89.0</td>\n",
       "      <td>0.046</td>\n",
       "      <td>117.0</td>\n",
       "      <td>-0.084</td>\n",
       "      <td>77.0</td>\n",
       "      <td>22.59%</td>\n",
       "      <td>74.0</td>\n",
       "      <td>3.04</td>\n",
       "      <td>26.0</td>\n",
       "      <td>3.98</td>\n",
       "      <td>129.0</td>\n",
       "      <td>4.63</td>\n",
       "      <td>79.0</td>\n",
       "      <td>171.0</td>\n",
       "      <td>125.0</td>\n",
       "      <td>297.8</td>\n",
       "      <td>46.0</td>\n",
       "      <td>63.83%</td>\n",
       "      <td>21.0</td>\n",
       "      <td>70.37%</td>\n",
       "      <td>134.0</td>\n",
       "      <td>57.29%</td>\n",
       "      <td>88.0</td>\n",
       "      <td>1.3308</td>\n",
       "      <td>200.0</td>\n",
       "      <td>57.9</td>\n",
       "      <td>332.308</td>\n",
       "      <td>17.49</td>\n",
       "      <td>0.0</td>\n",
       "      <td>58.0</td>\n",
       "      <td>19.36</td>\n",
       "      <td>NaN</td>\n",
       "      <td>NaN</td>\n",
       "      <td>1</td>\n",
       "    </tr>\n",
       "    <tr>\n",
       "      <th>1251</th>\n",
       "      <td>2024</td>\n",
       "      <td>2024-08-11</td>\n",
       "      <td>Wyndham Championship</td>\n",
       "      <td>Sedgefield Country Club</td>\n",
       "      <td>Luke Clanton</td>\n",
       "      <td>5</td>\n",
       "      <td>5</td>\n",
       "      <td>NaN</td>\n",
       "      <td>NaN</td>\n",
       "      <td>NaN</td>\n",
       "      <td>NaN</td>\n",
       "      <td>NaN</td>\n",
       "      <td>NaN</td>\n",
       "      <td>NaN</td>\n",
       "      <td>NaN</td>\n",
       "      <td>NaN</td>\n",
       "      <td>NaN</td>\n",
       "      <td>NaN</td>\n",
       "      <td>None</td>\n",
       "      <td>NaN</td>\n",
       "      <td>NaN</td>\n",
       "      <td>NaN</td>\n",
       "      <td>NaN</td>\n",
       "      <td>NaN</td>\n",
       "      <td>NaN</td>\n",
       "      <td>NaN</td>\n",
       "      <td>NaN</td>\n",
       "      <td>NaN</td>\n",
       "      <td>NaN</td>\n",
       "      <td>NaN</td>\n",
       "      <td>None</td>\n",
       "      <td>NaN</td>\n",
       "      <td>None</td>\n",
       "      <td>NaN</td>\n",
       "      <td>None</td>\n",
       "      <td>148.0</td>\n",
       "      <td>0.9236</td>\n",
       "      <td>60.0</td>\n",
       "      <td>75.0</td>\n",
       "      <td>0.000</td>\n",
       "      <td>0.00</td>\n",
       "      <td>0.0</td>\n",
       "      <td>35.8</td>\n",
       "      <td>22.24</td>\n",
       "      <td>NaN</td>\n",
       "      <td>NaN</td>\n",
       "      <td>1</td>\n",
       "    </tr>\n",
       "  </tbody>\n",
       "</table>\n",
       "</div>"
      ],
      "text/plain": [
       "      SEASON ENDING_DATE            TOURNAMENT                   COURSE  \\\n",
       "1247    2024  2024-08-11  Wyndham Championship  Sedgefield Country Club   \n",
       "1248    2024  2024-08-11  Wyndham Championship  Sedgefield Country Club   \n",
       "1249    2024  2024-08-11  Wyndham Championship  Sedgefield Country Club   \n",
       "1250    2024  2024-08-11  Wyndham Championship  Sedgefield Country Club   \n",
       "1251    2024  2024-08-11  Wyndham Championship  Sedgefield Country Club   \n",
       "\n",
       "              PLAYER POS  FINAL_POS  SGTTG_RANK  SGTTG  SGOTT_RANK  SGOTT  \\\n",
       "1247       Aaron Rai   1          1         9.0  1.131        36.0  0.303   \n",
       "1248  Max Greyserman   2          2        93.0  0.076        66.0  0.161   \n",
       "1249      J.J. Spaun  T3          3        47.0  0.458       109.0 -0.028   \n",
       "1250   Ryo Hisatsune  T3          3        59.0  0.384        91.0  0.056   \n",
       "1251    Luke Clanton   5          5         NaN    NaN         NaN    NaN   \n",
       "\n",
       "      SGAPR_RANK  SGAPR  SGATG_RANK  SGATG  SGP_RANK    SGP  BIRDIES_RANK  \\\n",
       "1247         8.0  0.676        56.0  0.152      83.0  0.054          99.0   \n",
       "1248       110.0 -0.034       120.0 -0.051       5.0  0.625          38.0   \n",
       "1249        17.0  0.473        99.0  0.013     114.0 -0.080          76.0   \n",
       "1250        47.0  0.282        89.0  0.046     117.0 -0.084          77.0   \n",
       "1251         NaN    NaN         NaN    NaN       NaN    NaN           NaN   \n",
       "\n",
       "     BIRDIES  PAR_3_RANK  PAR_3  PAR_4_RANK  PAR_4  PAR_5_RANK  PAR_5  \\\n",
       "1247  22.10%        38.0   3.01        10.0   3.97        44.0   4.54   \n",
       "1248  23.74%        52.0   3.02        43.0   3.99        15.0   4.50   \n",
       "1249  22.62%       126.0   3.07        26.0   3.98        70.0   4.56   \n",
       "1250  22.59%        74.0   3.04        26.0   3.98       129.0   4.63   \n",
       "1251    None         NaN    NaN         NaN    NaN         NaN    NaN   \n",
       "\n",
       "      TOTAL_DRIVING_RANK  TOTAL_DRIVING  DRIVING_DISTANCE_RANK  \\\n",
       "1247                53.0          153.0                  152.0   \n",
       "1248                40.0          143.0                   18.0   \n",
       "1249                84.0          174.0                   85.0   \n",
       "1250                79.0          171.0                  125.0   \n",
       "1251                 NaN            NaN                    NaN   \n",
       "\n",
       "      DRIVING_DISTANCE  DRIVING_ACCURACY_RANK DRIVING_ACCURACY  GIR_RANK  \\\n",
       "1247             293.8                    1.0           72.02%       7.0   \n",
       "1248             312.2                  125.0           58.03%      80.0   \n",
       "1249             302.1                   89.0           60.49%      18.0   \n",
       "1250             297.8                   46.0           63.83%      21.0   \n",
       "1251               NaN                    NaN             None       NaN   \n",
       "\n",
       "         GIR  SCRAMBLING_RANK SCRAMBLING  OWGR_RANK    OWGR  VEGAS_ODDS  \\\n",
       "1247  71.58%             33.0     63.18%       21.0  3.2294        30.0   \n",
       "1248  67.31%             47.0     62.07%       52.0  2.0569        80.0   \n",
       "1249  70.56%            106.0     58.76%      117.0  1.1299        80.0   \n",
       "1250  70.37%            134.0     57.29%       88.0  1.3308       200.0   \n",
       "1251    None              NaN       None      148.0  0.9236        60.0   \n",
       "\n",
       "      CUT_PERCENTAGE  FEDEX_CUP_POINTS  form_density  CONSECUTIVE_CUTS  \\\n",
       "1247            83.3           851.657         47.31              11.0   \n",
       "1248            56.2           589.273         36.83               5.0   \n",
       "1249            47.1           268.231         15.78               3.0   \n",
       "1250            57.9           332.308         17.49               0.0   \n",
       "1251            75.0             0.000          0.00               0.0   \n",
       "\n",
       "      RECENT_FORM  adj_form  COURSE_HISTORY  adj_ch  TOP_20  \n",
       "1247         37.5     12.74            80.5   73.27       1  \n",
       "1248         54.6     19.27             NaN     NaN       1  \n",
       "1249         62.9     21.76            65.5   33.66       1  \n",
       "1250         58.0     19.36             NaN     NaN       1  \n",
       "1251         35.8     22.24             NaN     NaN       1  "
      ]
     },
     "execution_count": 10,
     "metadata": {},
     "output_type": "execute_result"
    }
   ],
   "source": [
    "# Play with different years to see if I notice anything wrong (check Odds for tournament name mismatches)\n",
    "training_df[training_df[\"SEASON\"] == 2024].head()"
   ]
  },
  {
   "cell_type": "markdown",
   "id": "5f92ff52",
   "metadata": {},
   "source": [
    "### Normalization\n",
    "***Fix Historical Odds***\n",
    "\n",
    "Many names do not have historical odds but rather are part of the \"field.\" So giving these \"NaN\" values the average odds (as I would for missing stats) isn't a good approximation of reality – they are typically the \"field\" because they are not notable and have poor odds individually.\n",
    "\n",
    "There are also some crazy odds numbers occasionally (1000/1 or 3000/1) that don't happen all that much and are making that tail too long.\n",
    "\n",
    "This cell assigns odds of 1000/1 for anyone missing and clips anything larger to 1000/1 to normalize the data better and assign the missing odds more appropriately where they belong.\n",
    "\n",
    "***OWGR Adjustment***\n",
    "\n",
    "The NaN's for OWGR are similarly bad players.  So we should assign these the worst ranking instead of the mean and clip it at 1000 just in case there are ever outliers.\n",
    "\n",
    "For the OWGR score, it should match the lowest score in the dataset to assign that person the same as the worst.\n",
    "\n",
    "***Recent Form Adjustment***\n",
    "\n",
    "The NaN's for Recent Form mean that this player has not played any tournaments in the lookback period (9 months).  Similar to Odds and OWGR, I want to punish those that don't play often in my model.  Set these to 90 (i.e. like they miss a lot of cuts - because if they aren't playing they aren't good enough to make it to these tournaments very frequently).  The adj_form feature will also need to be updated here with the new data.\n",
    "\n",
    "***FedEx Cup Point Adjustment***\n",
    "\n",
    "The NaN's for FedEx Cup Points means there is no data.  Therefore they should be 0."
   ]
  },
  {
   "cell_type": "code",
   "execution_count": 11,
   "id": "3e9f4f19",
   "metadata": {},
   "outputs": [
    {
     "data": {
      "text/html": [
       "<div>\n",
       "<style scoped>\n",
       "    .dataframe tbody tr th:only-of-type {\n",
       "        vertical-align: middle;\n",
       "    }\n",
       "\n",
       "    .dataframe tbody tr th {\n",
       "        vertical-align: top;\n",
       "    }\n",
       "\n",
       "    .dataframe thead th {\n",
       "        text-align: right;\n",
       "    }\n",
       "</style>\n",
       "<table border=\"1\" class=\"dataframe\">\n",
       "  <thead>\n",
       "    <tr style=\"text-align: right;\">\n",
       "      <th></th>\n",
       "      <th>SEASON</th>\n",
       "      <th>ENDING_DATE</th>\n",
       "      <th>TOURNAMENT</th>\n",
       "      <th>COURSE</th>\n",
       "      <th>PLAYER</th>\n",
       "      <th>POS</th>\n",
       "      <th>FINAL_POS</th>\n",
       "      <th>SGTTG_RANK</th>\n",
       "      <th>SGTTG</th>\n",
       "      <th>SGOTT_RANK</th>\n",
       "      <th>SGOTT</th>\n",
       "      <th>SGAPR_RANK</th>\n",
       "      <th>SGAPR</th>\n",
       "      <th>SGATG_RANK</th>\n",
       "      <th>SGATG</th>\n",
       "      <th>SGP_RANK</th>\n",
       "      <th>SGP</th>\n",
       "      <th>BIRDIES_RANK</th>\n",
       "      <th>BIRDIES</th>\n",
       "      <th>PAR_3_RANK</th>\n",
       "      <th>PAR_3</th>\n",
       "      <th>PAR_4_RANK</th>\n",
       "      <th>PAR_4</th>\n",
       "      <th>PAR_5_RANK</th>\n",
       "      <th>PAR_5</th>\n",
       "      <th>TOTAL_DRIVING_RANK</th>\n",
       "      <th>TOTAL_DRIVING</th>\n",
       "      <th>DRIVING_DISTANCE_RANK</th>\n",
       "      <th>DRIVING_DISTANCE</th>\n",
       "      <th>DRIVING_ACCURACY_RANK</th>\n",
       "      <th>DRIVING_ACCURACY</th>\n",
       "      <th>GIR_RANK</th>\n",
       "      <th>GIR</th>\n",
       "      <th>SCRAMBLING_RANK</th>\n",
       "      <th>SCRAMBLING</th>\n",
       "      <th>OWGR_RANK</th>\n",
       "      <th>OWGR</th>\n",
       "      <th>VEGAS_ODDS</th>\n",
       "      <th>CUT_PERCENTAGE</th>\n",
       "      <th>FEDEX_CUP_POINTS</th>\n",
       "      <th>form_density</th>\n",
       "      <th>CONSECUTIVE_CUTS</th>\n",
       "      <th>RECENT_FORM</th>\n",
       "      <th>adj_form</th>\n",
       "      <th>COURSE_HISTORY</th>\n",
       "      <th>adj_ch</th>\n",
       "      <th>TOP_20</th>\n",
       "    </tr>\n",
       "  </thead>\n",
       "  <tbody>\n",
       "    <tr>\n",
       "      <th>0</th>\n",
       "      <td>2016</td>\n",
       "      <td>2016-08-21</td>\n",
       "      <td>Wyndham Championship</td>\n",
       "      <td>Sedgefield Country Club</td>\n",
       "      <td>Si Woo Kim</td>\n",
       "      <td>1</td>\n",
       "      <td>1</td>\n",
       "      <td>42.0</td>\n",
       "      <td>0.605</td>\n",
       "      <td>53.0</td>\n",
       "      <td>0.257</td>\n",
       "      <td>140.0</td>\n",
       "      <td>-0.168</td>\n",
       "      <td>9.0</td>\n",
       "      <td>0.403</td>\n",
       "      <td>118.0</td>\n",
       "      <td>-0.102</td>\n",
       "      <td>46.0</td>\n",
       "      <td>21.0</td>\n",
       "      <td>78.0</td>\n",
       "      <td>3.06</td>\n",
       "      <td>34.0</td>\n",
       "      <td>4.02</td>\n",
       "      <td>17.0</td>\n",
       "      <td>4.59</td>\n",
       "      <td>18.0</td>\n",
       "      <td>126.0</td>\n",
       "      <td>69.0</td>\n",
       "      <td>293.5</td>\n",
       "      <td>57.0</td>\n",
       "      <td>62.84</td>\n",
       "      <td>112.0</td>\n",
       "      <td>64.83</td>\n",
       "      <td>20.0</td>\n",
       "      <td>62.32</td>\n",
       "      <td>52.0</td>\n",
       "      <td>2.56</td>\n",
       "      <td>125.0</td>\n",
       "      <td>70.0</td>\n",
       "      <td>601.72</td>\n",
       "      <td>30.09</td>\n",
       "      <td>1.0</td>\n",
       "      <td>50.0</td>\n",
       "      <td>16.42</td>\n",
       "      <td>NaN</td>\n",
       "      <td>NaN</td>\n",
       "      <td>1</td>\n",
       "    </tr>\n",
       "    <tr>\n",
       "      <th>1</th>\n",
       "      <td>2016</td>\n",
       "      <td>2016-08-21</td>\n",
       "      <td>Wyndham Championship</td>\n",
       "      <td>Sedgefield Country Club</td>\n",
       "      <td>Luke Donald</td>\n",
       "      <td>2</td>\n",
       "      <td>2</td>\n",
       "      <td>76.0</td>\n",
       "      <td>0.230</td>\n",
       "      <td>180.0</td>\n",
       "      <td>-0.665</td>\n",
       "      <td>27.0</td>\n",
       "      <td>0.465</td>\n",
       "      <td>4.0</td>\n",
       "      <td>0.429</td>\n",
       "      <td>68.0</td>\n",
       "      <td>0.148</td>\n",
       "      <td>170.0</td>\n",
       "      <td>17.9</td>\n",
       "      <td>50.0</td>\n",
       "      <td>3.04</td>\n",
       "      <td>48.0</td>\n",
       "      <td>4.03</td>\n",
       "      <td>146.0</td>\n",
       "      <td>4.73</td>\n",
       "      <td>180.0</td>\n",
       "      <td>295.0</td>\n",
       "      <td>151.0</td>\n",
       "      <td>282.9</td>\n",
       "      <td>144.0</td>\n",
       "      <td>56.69</td>\n",
       "      <td>118.0</td>\n",
       "      <td>64.61</td>\n",
       "      <td>6.0</td>\n",
       "      <td>64.15</td>\n",
       "      <td>69.0</td>\n",
       "      <td>2.04</td>\n",
       "      <td>100.0</td>\n",
       "      <td>62.5</td>\n",
       "      <td>490.68</td>\n",
       "      <td>30.67</td>\n",
       "      <td>0.0</td>\n",
       "      <td>57.4</td>\n",
       "      <td>20.26</td>\n",
       "      <td>26.0</td>\n",
       "      <td>37.51</td>\n",
       "      <td>1</td>\n",
       "    </tr>\n",
       "    <tr>\n",
       "      <th>2</th>\n",
       "      <td>2016</td>\n",
       "      <td>2016-08-21</td>\n",
       "      <td>Wyndham Championship</td>\n",
       "      <td>Sedgefield Country Club</td>\n",
       "      <td>Hideki Matsuyama</td>\n",
       "      <td>T3</td>\n",
       "      <td>3</td>\n",
       "      <td>6.0</td>\n",
       "      <td>1.315</td>\n",
       "      <td>19.0</td>\n",
       "      <td>0.527</td>\n",
       "      <td>3.0</td>\n",
       "      <td>0.774</td>\n",
       "      <td>94.0</td>\n",
       "      <td>0.015</td>\n",
       "      <td>102.0</td>\n",
       "      <td>-0.025</td>\n",
       "      <td>6.0</td>\n",
       "      <td>23.52</td>\n",
       "      <td>22.0</td>\n",
       "      <td>3.02</td>\n",
       "      <td>14.0</td>\n",
       "      <td>4.01</td>\n",
       "      <td>17.0</td>\n",
       "      <td>4.59</td>\n",
       "      <td>21.0</td>\n",
       "      <td>132.0</td>\n",
       "      <td>65.0</td>\n",
       "      <td>294.5</td>\n",
       "      <td>67.0</td>\n",
       "      <td>62.04</td>\n",
       "      <td>35.0</td>\n",
       "      <td>68.11</td>\n",
       "      <td>46.0</td>\n",
       "      <td>60.86</td>\n",
       "      <td>18.0</td>\n",
       "      <td>4.46</td>\n",
       "      <td>20.0</td>\n",
       "      <td>61.5</td>\n",
       "      <td>1063.44</td>\n",
       "      <td>81.80</td>\n",
       "      <td>1.0</td>\n",
       "      <td>41.5</td>\n",
       "      <td>15.73</td>\n",
       "      <td>90.0</td>\n",
       "      <td>129.84</td>\n",
       "      <td>1</td>\n",
       "    </tr>\n",
       "    <tr>\n",
       "      <th>3</th>\n",
       "      <td>2016</td>\n",
       "      <td>2016-08-21</td>\n",
       "      <td>Wyndham Championship</td>\n",
       "      <td>Sedgefield Country Club</td>\n",
       "      <td>Brandt Snedeker</td>\n",
       "      <td>T3</td>\n",
       "      <td>3</td>\n",
       "      <td>44.0</td>\n",
       "      <td>0.573</td>\n",
       "      <td>116.0</td>\n",
       "      <td>-0.059</td>\n",
       "      <td>78.0</td>\n",
       "      <td>0.164</td>\n",
       "      <td>18.0</td>\n",
       "      <td>0.320</td>\n",
       "      <td>25.0</td>\n",
       "      <td>0.395</td>\n",
       "      <td>32.0</td>\n",
       "      <td>21.41</td>\n",
       "      <td>78.0</td>\n",
       "      <td>3.06</td>\n",
       "      <td>2.0</td>\n",
       "      <td>3.98</td>\n",
       "      <td>100.0</td>\n",
       "      <td>4.69</td>\n",
       "      <td>99.0</td>\n",
       "      <td>188.0</td>\n",
       "      <td>75.0</td>\n",
       "      <td>292.6</td>\n",
       "      <td>113.0</td>\n",
       "      <td>58.69</td>\n",
       "      <td>90.0</td>\n",
       "      <td>65.67</td>\n",
       "      <td>16.0</td>\n",
       "      <td>62.73</td>\n",
       "      <td>20.0</td>\n",
       "      <td>4.08</td>\n",
       "      <td>25.0</td>\n",
       "      <td>72.2</td>\n",
       "      <td>1436.35</td>\n",
       "      <td>79.80</td>\n",
       "      <td>4.0</td>\n",
       "      <td>39.8</td>\n",
       "      <td>13.52</td>\n",
       "      <td>43.0</td>\n",
       "      <td>62.04</td>\n",
       "      <td>1</td>\n",
       "    </tr>\n",
       "    <tr>\n",
       "      <th>4</th>\n",
       "      <td>2016</td>\n",
       "      <td>2016-08-21</td>\n",
       "      <td>Wyndham Championship</td>\n",
       "      <td>Sedgefield Country Club</td>\n",
       "      <td>Rafa Cabrera Bello</td>\n",
       "      <td>T5</td>\n",
       "      <td>5</td>\n",
       "      <td>NaN</td>\n",
       "      <td>NaN</td>\n",
       "      <td>NaN</td>\n",
       "      <td>NaN</td>\n",
       "      <td>NaN</td>\n",
       "      <td>NaN</td>\n",
       "      <td>NaN</td>\n",
       "      <td>NaN</td>\n",
       "      <td>NaN</td>\n",
       "      <td>NaN</td>\n",
       "      <td>NaN</td>\n",
       "      <td>None</td>\n",
       "      <td>NaN</td>\n",
       "      <td>NaN</td>\n",
       "      <td>NaN</td>\n",
       "      <td>NaN</td>\n",
       "      <td>NaN</td>\n",
       "      <td>NaN</td>\n",
       "      <td>NaN</td>\n",
       "      <td>NaN</td>\n",
       "      <td>NaN</td>\n",
       "      <td>NaN</td>\n",
       "      <td>NaN</td>\n",
       "      <td>None</td>\n",
       "      <td>NaN</td>\n",
       "      <td>None</td>\n",
       "      <td>NaN</td>\n",
       "      <td>None</td>\n",
       "      <td>30.0</td>\n",
       "      <td>3.40</td>\n",
       "      <td>30.0</td>\n",
       "      <td>85.7</td>\n",
       "      <td>0.00</td>\n",
       "      <td>0.00</td>\n",
       "      <td>4.0</td>\n",
       "      <td>40.4</td>\n",
       "      <td>19.43</td>\n",
       "      <td>NaN</td>\n",
       "      <td>NaN</td>\n",
       "      <td>1</td>\n",
       "    </tr>\n",
       "  </tbody>\n",
       "</table>\n",
       "</div>"
      ],
      "text/plain": [
       "   SEASON ENDING_DATE            TOURNAMENT                   COURSE  \\\n",
       "0    2016  2016-08-21  Wyndham Championship  Sedgefield Country Club   \n",
       "1    2016  2016-08-21  Wyndham Championship  Sedgefield Country Club   \n",
       "2    2016  2016-08-21  Wyndham Championship  Sedgefield Country Club   \n",
       "3    2016  2016-08-21  Wyndham Championship  Sedgefield Country Club   \n",
       "4    2016  2016-08-21  Wyndham Championship  Sedgefield Country Club   \n",
       "\n",
       "               PLAYER POS  FINAL_POS  SGTTG_RANK  SGTTG  SGOTT_RANK  SGOTT  \\\n",
       "0          Si Woo Kim   1          1        42.0  0.605        53.0  0.257   \n",
       "1         Luke Donald   2          2        76.0  0.230       180.0 -0.665   \n",
       "2    Hideki Matsuyama  T3          3         6.0  1.315        19.0  0.527   \n",
       "3     Brandt Snedeker  T3          3        44.0  0.573       116.0 -0.059   \n",
       "4  Rafa Cabrera Bello  T5          5         NaN    NaN         NaN    NaN   \n",
       "\n",
       "   SGAPR_RANK  SGAPR  SGATG_RANK  SGATG  SGP_RANK    SGP  BIRDIES_RANK  \\\n",
       "0       140.0 -0.168         9.0  0.403     118.0 -0.102          46.0   \n",
       "1        27.0  0.465         4.0  0.429      68.0  0.148         170.0   \n",
       "2         3.0  0.774        94.0  0.015     102.0 -0.025           6.0   \n",
       "3        78.0  0.164        18.0  0.320      25.0  0.395          32.0   \n",
       "4         NaN    NaN         NaN    NaN       NaN    NaN           NaN   \n",
       "\n",
       "  BIRDIES  PAR_3_RANK  PAR_3  PAR_4_RANK  PAR_4  PAR_5_RANK  PAR_5  \\\n",
       "0    21.0        78.0   3.06        34.0   4.02        17.0   4.59   \n",
       "1    17.9        50.0   3.04        48.0   4.03       146.0   4.73   \n",
       "2   23.52        22.0   3.02        14.0   4.01        17.0   4.59   \n",
       "3   21.41        78.0   3.06         2.0   3.98       100.0   4.69   \n",
       "4    None         NaN    NaN         NaN    NaN         NaN    NaN   \n",
       "\n",
       "   TOTAL_DRIVING_RANK  TOTAL_DRIVING  DRIVING_DISTANCE_RANK  DRIVING_DISTANCE  \\\n",
       "0                18.0          126.0                   69.0             293.5   \n",
       "1               180.0          295.0                  151.0             282.9   \n",
       "2                21.0          132.0                   65.0             294.5   \n",
       "3                99.0          188.0                   75.0             292.6   \n",
       "4                 NaN            NaN                    NaN               NaN   \n",
       "\n",
       "   DRIVING_ACCURACY_RANK DRIVING_ACCURACY  GIR_RANK    GIR  SCRAMBLING_RANK  \\\n",
       "0                   57.0            62.84     112.0  64.83             20.0   \n",
       "1                  144.0            56.69     118.0  64.61              6.0   \n",
       "2                   67.0            62.04      35.0  68.11             46.0   \n",
       "3                  113.0            58.69      90.0  65.67             16.0   \n",
       "4                    NaN             None       NaN   None              NaN   \n",
       "\n",
       "  SCRAMBLING  OWGR_RANK  OWGR  VEGAS_ODDS  CUT_PERCENTAGE  FEDEX_CUP_POINTS  \\\n",
       "0      62.32       52.0  2.56       125.0            70.0            601.72   \n",
       "1      64.15       69.0  2.04       100.0            62.5            490.68   \n",
       "2      60.86       18.0  4.46        20.0            61.5           1063.44   \n",
       "3      62.73       20.0  4.08        25.0            72.2           1436.35   \n",
       "4       None       30.0  3.40        30.0            85.7              0.00   \n",
       "\n",
       "   form_density  CONSECUTIVE_CUTS  RECENT_FORM  adj_form  COURSE_HISTORY  \\\n",
       "0         30.09               1.0         50.0     16.42             NaN   \n",
       "1         30.67               0.0         57.4     20.26            26.0   \n",
       "2         81.80               1.0         41.5     15.73            90.0   \n",
       "3         79.80               4.0         39.8     13.52            43.0   \n",
       "4          0.00               4.0         40.4     19.43             NaN   \n",
       "\n",
       "   adj_ch  TOP_20  \n",
       "0     NaN       1  \n",
       "1   37.51       1  \n",
       "2  129.84       1  \n",
       "3   62.04       1  \n",
       "4     NaN       1  "
      ]
     },
     "execution_count": 11,
     "metadata": {},
     "output_type": "execute_result"
    }
   ],
   "source": [
    "# === VEGAS ODDS ===\n",
    "training_df[\"VEGAS_ODDS\"] = training_df[\"VEGAS_ODDS\"].fillna(1000).clip(upper=1000)\n",
    "\n",
    "# === OWGR and OWGR_RANK ===\n",
    "owgr_min = training_df[\"OWGR\"].min(skipna=True)\n",
    "training_df[\"OWGR\"] = training_df[\"OWGR\"].fillna(owgr_min)\n",
    "training_df[\"OWGR_RANK\"] = training_df[\"OWGR_RANK\"].fillna(1000).astype(float).clip(upper=1000)\n",
    "\n",
    "# === RECENT FORM and adj_form ===\n",
    "training_df[\"RECENT_FORM\"] = training_df[\"RECENT_FORM\"].fillna(90)\n",
    "if \"TOTAL_EVENTS_PLAYED\" in training_df.columns:\n",
    "    training_df[\"adj_form\"] = (\n",
    "        training_df[\"RECENT_FORM\"] / np.log1p(training_df[\"TOTAL_EVENTS_PLAYED\"])\n",
    "    ).round(2)\n",
    "\n",
    "# === FEDEX CUP POINTS ===\n",
    "training_df[\"FEDEX_CUP_POINTS\"] = training_df[\"FEDEX_CUP_POINTS\"].fillna(0)\n",
    "\n",
    "training_df.head(5)\n"
   ]
  },
  {
   "cell_type": "markdown",
   "id": "f58c9b4a",
   "metadata": {},
   "source": [
    "#### Average the NaNs\n",
    "At this point, the intentional offsetting of NaNs for poor players is over.  I don't want to penalize statistics or course history because you never know where they might land on the spectrum, so for these NaN values, we will take the mean."
   ]
  },
  {
   "cell_type": "code",
   "execution_count": 12,
   "id": "1172b59c",
   "metadata": {},
   "outputs": [
    {
     "data": {
      "text/html": [
       "<div>\n",
       "<style scoped>\n",
       "    .dataframe tbody tr th:only-of-type {\n",
       "        vertical-align: middle;\n",
       "    }\n",
       "\n",
       "    .dataframe tbody tr th {\n",
       "        vertical-align: top;\n",
       "    }\n",
       "\n",
       "    .dataframe thead th {\n",
       "        text-align: right;\n",
       "    }\n",
       "</style>\n",
       "<table border=\"1\" class=\"dataframe\">\n",
       "  <thead>\n",
       "    <tr style=\"text-align: right;\">\n",
       "      <th></th>\n",
       "      <th>SEASON</th>\n",
       "      <th>ENDING_DATE</th>\n",
       "      <th>TOURNAMENT</th>\n",
       "      <th>COURSE</th>\n",
       "      <th>PLAYER</th>\n",
       "      <th>POS</th>\n",
       "      <th>FINAL_POS</th>\n",
       "      <th>SGTTG_RANK</th>\n",
       "      <th>SGTTG</th>\n",
       "      <th>SGOTT_RANK</th>\n",
       "      <th>SGOTT</th>\n",
       "      <th>SGAPR_RANK</th>\n",
       "      <th>SGAPR</th>\n",
       "      <th>SGATG_RANK</th>\n",
       "      <th>SGATG</th>\n",
       "      <th>SGP_RANK</th>\n",
       "      <th>SGP</th>\n",
       "      <th>BIRDIES_RANK</th>\n",
       "      <th>BIRDIES</th>\n",
       "      <th>PAR_3_RANK</th>\n",
       "      <th>PAR_3</th>\n",
       "      <th>PAR_4_RANK</th>\n",
       "      <th>PAR_4</th>\n",
       "      <th>PAR_5_RANK</th>\n",
       "      <th>PAR_5</th>\n",
       "      <th>TOTAL_DRIVING_RANK</th>\n",
       "      <th>TOTAL_DRIVING</th>\n",
       "      <th>DRIVING_DISTANCE_RANK</th>\n",
       "      <th>DRIVING_DISTANCE</th>\n",
       "      <th>DRIVING_ACCURACY_RANK</th>\n",
       "      <th>DRIVING_ACCURACY</th>\n",
       "      <th>GIR_RANK</th>\n",
       "      <th>GIR</th>\n",
       "      <th>SCRAMBLING_RANK</th>\n",
       "      <th>SCRAMBLING</th>\n",
       "      <th>OWGR_RANK</th>\n",
       "      <th>OWGR</th>\n",
       "      <th>VEGAS_ODDS</th>\n",
       "      <th>CUT_PERCENTAGE</th>\n",
       "      <th>FEDEX_CUP_POINTS</th>\n",
       "      <th>form_density</th>\n",
       "      <th>CONSECUTIVE_CUTS</th>\n",
       "      <th>RECENT_FORM</th>\n",
       "      <th>adj_form</th>\n",
       "      <th>COURSE_HISTORY</th>\n",
       "      <th>adj_ch</th>\n",
       "      <th>TOP_20</th>\n",
       "    </tr>\n",
       "  </thead>\n",
       "  <tbody>\n",
       "    <tr>\n",
       "      <th>0</th>\n",
       "      <td>2016</td>\n",
       "      <td>2016-08-21</td>\n",
       "      <td>Wyndham Championship</td>\n",
       "      <td>Sedgefield Country Club</td>\n",
       "      <td>Si Woo Kim</td>\n",
       "      <td>1</td>\n",
       "      <td>1</td>\n",
       "      <td>42.000000</td>\n",
       "      <td>0.605000</td>\n",
       "      <td>53.000000</td>\n",
       "      <td>0.25700</td>\n",
       "      <td>140.000000</td>\n",
       "      <td>-0.168000</td>\n",
       "      <td>9.000000</td>\n",
       "      <td>0.40300</td>\n",
       "      <td>118.000000</td>\n",
       "      <td>-0.10200</td>\n",
       "      <td>46.000000</td>\n",
       "      <td>21.000000</td>\n",
       "      <td>78.000000</td>\n",
       "      <td>3.060000</td>\n",
       "      <td>34.000000</td>\n",
       "      <td>4.020000</td>\n",
       "      <td>17.000000</td>\n",
       "      <td>4.590000</td>\n",
       "      <td>18.000000</td>\n",
       "      <td>126.000000</td>\n",
       "      <td>69.000000</td>\n",
       "      <td>293.500000</td>\n",
       "      <td>57.00000</td>\n",
       "      <td>62.840000</td>\n",
       "      <td>112.000000</td>\n",
       "      <td>64.830000</td>\n",
       "      <td>20.000000</td>\n",
       "      <td>62.320000</td>\n",
       "      <td>52.0</td>\n",
       "      <td>2.56</td>\n",
       "      <td>125.0</td>\n",
       "      <td>70.0</td>\n",
       "      <td>601.72</td>\n",
       "      <td>30.09</td>\n",
       "      <td>1.0</td>\n",
       "      <td>50.0</td>\n",
       "      <td>16.42</td>\n",
       "      <td>59.818304</td>\n",
       "      <td>58.687842</td>\n",
       "      <td>1</td>\n",
       "    </tr>\n",
       "    <tr>\n",
       "      <th>1</th>\n",
       "      <td>2016</td>\n",
       "      <td>2016-08-21</td>\n",
       "      <td>Wyndham Championship</td>\n",
       "      <td>Sedgefield Country Club</td>\n",
       "      <td>Luke Donald</td>\n",
       "      <td>2</td>\n",
       "      <td>2</td>\n",
       "      <td>76.000000</td>\n",
       "      <td>0.230000</td>\n",
       "      <td>180.000000</td>\n",
       "      <td>-0.66500</td>\n",
       "      <td>27.000000</td>\n",
       "      <td>0.465000</td>\n",
       "      <td>4.000000</td>\n",
       "      <td>0.42900</td>\n",
       "      <td>68.000000</td>\n",
       "      <td>0.14800</td>\n",
       "      <td>170.000000</td>\n",
       "      <td>17.900000</td>\n",
       "      <td>50.000000</td>\n",
       "      <td>3.040000</td>\n",
       "      <td>48.000000</td>\n",
       "      <td>4.030000</td>\n",
       "      <td>146.000000</td>\n",
       "      <td>4.730000</td>\n",
       "      <td>180.000000</td>\n",
       "      <td>295.000000</td>\n",
       "      <td>151.000000</td>\n",
       "      <td>282.900000</td>\n",
       "      <td>144.00000</td>\n",
       "      <td>56.690000</td>\n",
       "      <td>118.000000</td>\n",
       "      <td>64.610000</td>\n",
       "      <td>6.000000</td>\n",
       "      <td>64.150000</td>\n",
       "      <td>69.0</td>\n",
       "      <td>2.04</td>\n",
       "      <td>100.0</td>\n",
       "      <td>62.5</td>\n",
       "      <td>490.68</td>\n",
       "      <td>30.67</td>\n",
       "      <td>0.0</td>\n",
       "      <td>57.4</td>\n",
       "      <td>20.26</td>\n",
       "      <td>26.000000</td>\n",
       "      <td>37.510000</td>\n",
       "      <td>1</td>\n",
       "    </tr>\n",
       "    <tr>\n",
       "      <th>2</th>\n",
       "      <td>2016</td>\n",
       "      <td>2016-08-21</td>\n",
       "      <td>Wyndham Championship</td>\n",
       "      <td>Sedgefield Country Club</td>\n",
       "      <td>Hideki Matsuyama</td>\n",
       "      <td>T3</td>\n",
       "      <td>3</td>\n",
       "      <td>6.000000</td>\n",
       "      <td>1.315000</td>\n",
       "      <td>19.000000</td>\n",
       "      <td>0.52700</td>\n",
       "      <td>3.000000</td>\n",
       "      <td>0.774000</td>\n",
       "      <td>94.000000</td>\n",
       "      <td>0.01500</td>\n",
       "      <td>102.000000</td>\n",
       "      <td>-0.02500</td>\n",
       "      <td>6.000000</td>\n",
       "      <td>23.520000</td>\n",
       "      <td>22.000000</td>\n",
       "      <td>3.020000</td>\n",
       "      <td>14.000000</td>\n",
       "      <td>4.010000</td>\n",
       "      <td>17.000000</td>\n",
       "      <td>4.590000</td>\n",
       "      <td>21.000000</td>\n",
       "      <td>132.000000</td>\n",
       "      <td>65.000000</td>\n",
       "      <td>294.500000</td>\n",
       "      <td>67.00000</td>\n",
       "      <td>62.040000</td>\n",
       "      <td>35.000000</td>\n",
       "      <td>68.110000</td>\n",
       "      <td>46.000000</td>\n",
       "      <td>60.860000</td>\n",
       "      <td>18.0</td>\n",
       "      <td>4.46</td>\n",
       "      <td>20.0</td>\n",
       "      <td>61.5</td>\n",
       "      <td>1063.44</td>\n",
       "      <td>81.80</td>\n",
       "      <td>1.0</td>\n",
       "      <td>41.5</td>\n",
       "      <td>15.73</td>\n",
       "      <td>90.000000</td>\n",
       "      <td>129.840000</td>\n",
       "      <td>1</td>\n",
       "    </tr>\n",
       "    <tr>\n",
       "      <th>3</th>\n",
       "      <td>2016</td>\n",
       "      <td>2016-08-21</td>\n",
       "      <td>Wyndham Championship</td>\n",
       "      <td>Sedgefield Country Club</td>\n",
       "      <td>Brandt Snedeker</td>\n",
       "      <td>T3</td>\n",
       "      <td>3</td>\n",
       "      <td>44.000000</td>\n",
       "      <td>0.573000</td>\n",
       "      <td>116.000000</td>\n",
       "      <td>-0.05900</td>\n",
       "      <td>78.000000</td>\n",
       "      <td>0.164000</td>\n",
       "      <td>18.000000</td>\n",
       "      <td>0.32000</td>\n",
       "      <td>25.000000</td>\n",
       "      <td>0.39500</td>\n",
       "      <td>32.000000</td>\n",
       "      <td>21.410000</td>\n",
       "      <td>78.000000</td>\n",
       "      <td>3.060000</td>\n",
       "      <td>2.000000</td>\n",
       "      <td>3.980000</td>\n",
       "      <td>100.000000</td>\n",
       "      <td>4.690000</td>\n",
       "      <td>99.000000</td>\n",
       "      <td>188.000000</td>\n",
       "      <td>75.000000</td>\n",
       "      <td>292.600000</td>\n",
       "      <td>113.00000</td>\n",
       "      <td>58.690000</td>\n",
       "      <td>90.000000</td>\n",
       "      <td>65.670000</td>\n",
       "      <td>16.000000</td>\n",
       "      <td>62.730000</td>\n",
       "      <td>20.0</td>\n",
       "      <td>4.08</td>\n",
       "      <td>25.0</td>\n",
       "      <td>72.2</td>\n",
       "      <td>1436.35</td>\n",
       "      <td>79.80</td>\n",
       "      <td>4.0</td>\n",
       "      <td>39.8</td>\n",
       "      <td>13.52</td>\n",
       "      <td>43.000000</td>\n",
       "      <td>62.040000</td>\n",
       "      <td>1</td>\n",
       "    </tr>\n",
       "    <tr>\n",
       "      <th>4</th>\n",
       "      <td>2016</td>\n",
       "      <td>2016-08-21</td>\n",
       "      <td>Wyndham Championship</td>\n",
       "      <td>Sedgefield Country Club</td>\n",
       "      <td>Rafa Cabrera Bello</td>\n",
       "      <td>T5</td>\n",
       "      <td>5</td>\n",
       "      <td>108.402367</td>\n",
       "      <td>-0.045962</td>\n",
       "      <td>105.005917</td>\n",
       "      <td>-0.03122</td>\n",
       "      <td>105.649197</td>\n",
       "      <td>-0.017095</td>\n",
       "      <td>100.447168</td>\n",
       "      <td>0.00197</td>\n",
       "      <td>101.153001</td>\n",
       "      <td>-0.00735</td>\n",
       "      <td>105.448859</td>\n",
       "      <td>20.837117</td>\n",
       "      <td>92.592561</td>\n",
       "      <td>3.058166</td>\n",
       "      <td>97.351648</td>\n",
       "      <td>4.034683</td>\n",
       "      <td>99.732037</td>\n",
       "      <td>4.644387</td>\n",
       "      <td>101.645816</td>\n",
       "      <td>196.696534</td>\n",
       "      <td>103.422654</td>\n",
       "      <td>295.711496</td>\n",
       "      <td>93.27388</td>\n",
       "      <td>60.854565</td>\n",
       "      <td>97.868132</td>\n",
       "      <td>66.233711</td>\n",
       "      <td>100.522401</td>\n",
       "      <td>58.743043</td>\n",
       "      <td>30.0</td>\n",
       "      <td>3.40</td>\n",
       "      <td>30.0</td>\n",
       "      <td>85.7</td>\n",
       "      <td>0.00</td>\n",
       "      <td>0.00</td>\n",
       "      <td>4.0</td>\n",
       "      <td>40.4</td>\n",
       "      <td>19.43</td>\n",
       "      <td>59.818304</td>\n",
       "      <td>58.687842</td>\n",
       "      <td>1</td>\n",
       "    </tr>\n",
       "  </tbody>\n",
       "</table>\n",
       "</div>"
      ],
      "text/plain": [
       "   SEASON ENDING_DATE            TOURNAMENT                   COURSE  \\\n",
       "0    2016  2016-08-21  Wyndham Championship  Sedgefield Country Club   \n",
       "1    2016  2016-08-21  Wyndham Championship  Sedgefield Country Club   \n",
       "2    2016  2016-08-21  Wyndham Championship  Sedgefield Country Club   \n",
       "3    2016  2016-08-21  Wyndham Championship  Sedgefield Country Club   \n",
       "4    2016  2016-08-21  Wyndham Championship  Sedgefield Country Club   \n",
       "\n",
       "               PLAYER POS  FINAL_POS  SGTTG_RANK     SGTTG  SGOTT_RANK  \\\n",
       "0          Si Woo Kim   1          1   42.000000  0.605000   53.000000   \n",
       "1         Luke Donald   2          2   76.000000  0.230000  180.000000   \n",
       "2    Hideki Matsuyama  T3          3    6.000000  1.315000   19.000000   \n",
       "3     Brandt Snedeker  T3          3   44.000000  0.573000  116.000000   \n",
       "4  Rafa Cabrera Bello  T5          5  108.402367 -0.045962  105.005917   \n",
       "\n",
       "     SGOTT  SGAPR_RANK     SGAPR  SGATG_RANK    SGATG    SGP_RANK      SGP  \\\n",
       "0  0.25700  140.000000 -0.168000    9.000000  0.40300  118.000000 -0.10200   \n",
       "1 -0.66500   27.000000  0.465000    4.000000  0.42900   68.000000  0.14800   \n",
       "2  0.52700    3.000000  0.774000   94.000000  0.01500  102.000000 -0.02500   \n",
       "3 -0.05900   78.000000  0.164000   18.000000  0.32000   25.000000  0.39500   \n",
       "4 -0.03122  105.649197 -0.017095  100.447168  0.00197  101.153001 -0.00735   \n",
       "\n",
       "   BIRDIES_RANK    BIRDIES  PAR_3_RANK     PAR_3  PAR_4_RANK     PAR_4  \\\n",
       "0     46.000000  21.000000   78.000000  3.060000   34.000000  4.020000   \n",
       "1    170.000000  17.900000   50.000000  3.040000   48.000000  4.030000   \n",
       "2      6.000000  23.520000   22.000000  3.020000   14.000000  4.010000   \n",
       "3     32.000000  21.410000   78.000000  3.060000    2.000000  3.980000   \n",
       "4    105.448859  20.837117   92.592561  3.058166   97.351648  4.034683   \n",
       "\n",
       "   PAR_5_RANK     PAR_5  TOTAL_DRIVING_RANK  TOTAL_DRIVING  \\\n",
       "0   17.000000  4.590000           18.000000     126.000000   \n",
       "1  146.000000  4.730000          180.000000     295.000000   \n",
       "2   17.000000  4.590000           21.000000     132.000000   \n",
       "3  100.000000  4.690000           99.000000     188.000000   \n",
       "4   99.732037  4.644387          101.645816     196.696534   \n",
       "\n",
       "   DRIVING_DISTANCE_RANK  DRIVING_DISTANCE  DRIVING_ACCURACY_RANK  \\\n",
       "0              69.000000        293.500000               57.00000   \n",
       "1             151.000000        282.900000              144.00000   \n",
       "2              65.000000        294.500000               67.00000   \n",
       "3              75.000000        292.600000              113.00000   \n",
       "4             103.422654        295.711496               93.27388   \n",
       "\n",
       "   DRIVING_ACCURACY    GIR_RANK        GIR  SCRAMBLING_RANK  SCRAMBLING  \\\n",
       "0         62.840000  112.000000  64.830000        20.000000   62.320000   \n",
       "1         56.690000  118.000000  64.610000         6.000000   64.150000   \n",
       "2         62.040000   35.000000  68.110000        46.000000   60.860000   \n",
       "3         58.690000   90.000000  65.670000        16.000000   62.730000   \n",
       "4         60.854565   97.868132  66.233711       100.522401   58.743043   \n",
       "\n",
       "   OWGR_RANK  OWGR  VEGAS_ODDS  CUT_PERCENTAGE  FEDEX_CUP_POINTS  \\\n",
       "0       52.0  2.56       125.0            70.0            601.72   \n",
       "1       69.0  2.04       100.0            62.5            490.68   \n",
       "2       18.0  4.46        20.0            61.5           1063.44   \n",
       "3       20.0  4.08        25.0            72.2           1436.35   \n",
       "4       30.0  3.40        30.0            85.7              0.00   \n",
       "\n",
       "   form_density  CONSECUTIVE_CUTS  RECENT_FORM  adj_form  COURSE_HISTORY  \\\n",
       "0         30.09               1.0         50.0     16.42       59.818304   \n",
       "1         30.67               0.0         57.4     20.26       26.000000   \n",
       "2         81.80               1.0         41.5     15.73       90.000000   \n",
       "3         79.80               4.0         39.8     13.52       43.000000   \n",
       "4          0.00               4.0         40.4     19.43       59.818304   \n",
       "\n",
       "       adj_ch  TOP_20  \n",
       "0   58.687842       1  \n",
       "1   37.510000       1  \n",
       "2  129.840000       1  \n",
       "3   62.040000       1  \n",
       "4   58.687842       1  "
      ]
     },
     "execution_count": 12,
     "metadata": {},
     "output_type": "execute_result"
    }
   ],
   "source": [
    "# === Clean percentage stats stored as strings like '62.5%' ===\n",
    "percent_stats = [\"SCRAMBLING\", \"DRIVING_ACCURACY\", \"BIRDIES\", \"GIR\"]\n",
    "\n",
    "for col in percent_stats:\n",
    "    if col in training_df.columns:\n",
    "        training_df[col] = (\n",
    "            training_df[col]\n",
    "            .astype(str)\n",
    "            .str.replace('%', '', regex=False)\n",
    "            .replace(['None', 'nan', 'NaN', '--', 'DNP', ''], np.nan)\n",
    "            .astype(float)\n",
    "        )\n",
    "\n",
    "# Select only the numeric columns\n",
    "numeric_columns = training_df.select_dtypes(include=['float64', 'int64'])\n",
    "\n",
    "# Fill NaN values with the mean of each column\n",
    "numeric_columns = numeric_columns.fillna(numeric_columns.mean())\n",
    "\n",
    "# Update the original dataframe with the filled numeric columns\n",
    "training_df.update(numeric_columns)\n",
    "\n",
    "training_df.head()"
   ]
  },
  {
   "cell_type": "code",
   "execution_count": 13,
   "id": "bb294b3c",
   "metadata": {},
   "outputs": [],
   "source": [
    "# Check for NaN values\n",
    "assert training_df.isna().sum().sum() == 0, \"🚨 Still missing values!\""
   ]
  },
  {
   "cell_type": "code",
   "execution_count": 14,
   "id": "5d68c5dc",
   "metadata": {},
   "outputs": [
    {
     "data": {
      "text/plain": [
       "SEASON         0\n",
       "ENDING_DATE    0\n",
       "TOURNAMENT     0\n",
       "COURSE         0\n",
       "PLAYER         0\n",
       "POS            0\n",
       "FINAL_POS      0\n",
       "SGTTG_RANK     0\n",
       "SGTTG          0\n",
       "SGOTT_RANK     0\n",
       "dtype: int64"
      ]
     },
     "execution_count": 14,
     "metadata": {},
     "output_type": "execute_result"
    }
   ],
   "source": [
    "# Inspect which columns have NaN values\n",
    "training_df.isna().sum().sort_values(ascending=False).head(10)\n"
   ]
  },
  {
   "cell_type": "markdown",
   "id": "1214b374",
   "metadata": {},
   "source": [
    "### Check Features for Outliers and General Health (Histograms)\n",
    "Now that all the data is cleaned, let's look at the distribution graphs."
   ]
  },
  {
   "cell_type": "code",
   "execution_count": 19,
   "id": "c3ac2331",
   "metadata": {},
   "outputs": [
    {
     "data": {
      "application/vnd.plotly.v1+json": {
       "config": {
        "plotlyServerURL": "https://plot.ly"
       },
       "data": [
        {
         "histnorm": "density",
         "marker": {
          "color": "#636EFA"
         },
         "nbinsx": 5,
         "opacity": 0.8,
         "type": "histogram",
         "x": {
          "bdata": "4wfjB+MH4wfjB+MH4wfjB+MH4wfjB+MH4wfjB+MH4wfjB+MH4wfjB+MH4wfjB+MH4wfjB+MH4wfjB+MH4wfjB+MH4wfjB+MH4wfjB+MH4wfjB+MH4wfjB+MH4wfjB+MH4wfjB+MH4wfjB+MH4wfjB+MH4wfjB+MH4wfjB+MH4wfjB+MH4wfjB+MH4wfjB+MH4wfjB+MH4wfjB+MH4wfjB+MH4wfjB+MH4wfjB+MH4wfjB+MH4wfjB+MH4wfjB+MH4wfjB+MH4wfjB+MH4wfjB+MH4wfjB+MH4wfjB+MH4wfjB+MH4wfjB+MH4wfjB+MH4wfjB+MH4wfjB+MH4wfjB+MH4wfjB+MH4wfjB+MH4wfjB+MH4wfjB+MH4wfjB+MH4wfjB+MH4wfjB+MH4wfjB+MH4wfjB+QH5AfkB+QH5AfkB+QH5AfkB+QH5AfkB+QH5AfkB+QH5AfkB+QH5AfkB+QH5AfkB+QH5AfkB+QH5AfkB+QH5AfkB+QH5AfkB+QH5AfkB+QH5AfkB+QH5AfkB+QH5AfkB+QH5AfkB+QH5AfkB+QH5AfkB+QH5AfkB+QH5AfkB+QH5AfkB+QH5AfkB+QH5AfkB+QH5AfkB+QH5AfkB+QH5AfkB+QH5AfkB+QH5AfkB+QH5AfkB+QH5AfkB+QH5AfkB+QH5AfkB+QH5AfkB+QH5AfkB+QH5AfkB+QH5AfkB+QH5AfkB+QH5AfkB+QH5AfkB+QH5AfkB+QH5AfkB+QH5AfkB+QH5AfkB+QH5AfkB+QH5AfkB+QH5AfkB+QH5AfkB+QH5AfkB+QH5AfkB+QH5AfkB+QH5AflB+UH5QflB+UH5QflB+UH5QflB+UH5QflB+UH5QflB+UH5QflB+UH5QflB+UH5QflB+UH5QflB+UH5QflB+UH5QflB+UH5QflB+UH5QflB+UH5QflB+UH5QflB+UH5QflB+UH5QflB+UH5QflB+UH5QflB+UH5QflB+UH5QflB+UH5QflB+UH5QflB+UH5QflB+UH5QflB+UH5QflB+UH5QflB+UH5QflB+UH5QflB+UH5QflB+UH5QflB+UH5QflB+UH5QflB+UH5QflB+UH5QflB+UH5QflB+UH5QflB+UH5QflB+UH5QflB+UH5QflB+UH5QflB+UH5QflB+UH5QflB+UH5QflB+UH5QflB+UH5QflB+UH5QflB+UH5QflB+UH5QflB+UH5QflB+UH5QflB+UH5gfmB+YH5gfmB+YH5gfmB+YH5gfmB+YH5gfmB+YH5gfmB+YH5gfmB+YH5gfmB+YH5gfmB+YH5gfmB+YH5gfmB+YH5gfmB+YH5gfmB+YH5gfmB+YH5gfmB+YH5gfmB+YH5gfmB+YH5gfmB+YH5gfmB+YH5gfmB+YH5gfmB+YH5gfmB+YH5gfmB+YH5gfmB+YH5gfmB+YH5gfmB+YH5gfmB+YH5gfmB+YH5gfmB+YH5gfmB+YH5gfmB+YH5gfmB+YH5gfmB+YH5gfmB+YH5gfmB+YH5gfmB+YH5gfmB+YH5gfmB+YH5gfmB+YH5gfmB+YH5gfmB+YH5gfmB+YH5gfmB+YH5gfmB+YH5gfmB+YH5gfmB+YH5gfmB+YH5gfmB+YH5gfmB+YH5gfmB+YH5gfmB+YH5gfmB+cH5wfnB+cH5wfnB+cH5wfnB+cH5wfnB+cH5wfnB+cH5wfnB+cH5wfnB+cH5wfnB+cH5wfnB+cH5wfnB+cH5wfnB+cH5wfnB+cH5wfnB+cH5wfnB+cH5wfnB+cH5wfnB+cH5wfnB+cH5wfnB+cH5wfnB+cH5wfnB+cH5wfnB+cH5wfnB+cH5wfnB+cH5wfnB+cH5wfnB+cH5wfnB+cH5wfnB+cH5wfnB+cH5wfnB+cH5wfnB+cH5wfnB+cH5wfnB+cH5wfnB+cH5wfnB+cH5wfnB+cH5wfnB+cH5wfnB+cH5wfnB+cH5wfnB+cH5wfnB+cH5wfnB+cH5wfnB+cH5wfnB+cH5wfnB+cH5wfnB+cH5wfnB+cH5wfnB+cH5wfnB+cH5wfnB+cH5wfnB+cH5wfnB+cH5wfnB+cH6AfoB+gH6AfoB+gH6AfoB+gH6AfoB+gH6AfoB+gH6AfoB+gH6AfoB+gH6AfoB+gH6AfoB+gH6AfoB+gH6AfoB+gH6AfoB+gH6AfoB+gH6AfoB+gH6AfoB+gH6AfoB+gH6AfoB+gH6AfoB+gH6AfoB+gH6AfoB+gH6AfoB+gH6AfoB+gH6AfoB+gH6AfoB+gH6AfoB+gH6AfoB+gH6AfoB+gH6AfoB+gH6AfoB+gH6AfoB+gH6AfoB+gH6AfoB+gH6AfoB+gH6AfoB+gH6AfoB+gH6AfoB+gH6AfoB+gH6AfoB+gH6AfoB+gH6AfoB+gH6AfoB+gH6AfoB+gH6AfoB+gH6AfoB+gH6AfoB+gH6AfoB+gH6AfoB+gH6AfoB+gH6AfoB+gH6AfoB+gH6AfoB+gH6AfoB+gH",
          "dtype": "i2"
         },
         "xaxis": "x",
         "yaxis": "y"
        },
        {
         "histnorm": "density",
         "marker": {
          "color": "#636EFA"
         },
         "nbinsx": 50,
         "opacity": 0.8,
         "type": "histogram",
         "x": {
          "bdata": "AQICBAUFBwcHBwcHDQ0PDw8PDw8PDxcXFxcXFxcXFxcXIiIiIiIiIiIqKioqLi4uLi4uLjU1NTg4Ojo6Ojo6OkFCQkJCQkJISUpKSkpKT09PUlNUVVpaWlpaWlpaWlpaWlpaWlpaWlpaWlpaWlpaWlpaWlpaWlpaWlpaWlpaWlpaWlpaWlpaWlpaWlpaWlpaWlpaWlpaWlpaWloBAgMDAwMDAwMDAwwMDAwMDBISEhISFxcXGhoaGhoaICAgICAgICAgKSkpKSkuLi4uLi4uNTU1ODg6Ojo9Pj5AQUJDRFpaWlpaWlpaWlpaWlpaWlpaWlpaWlpaWlpaWlpaWlpaWlpaWlpaWlpaWlpaWlpaWlpaWlpaWlpaWlpaWlpaWlpaWlpaWlpaWlpaWlpaWlpaWlpaWlpaWgECAgIFBgYGBgYLCwsLCxAQEBAQEBAQEBkZGRwcHBwcHCIiIiIiJycnJycnJycnJzExMzMzMzMzMzo6Ojo6OjpBQUNDQ0ZHR1paWlpaWlpaWlpaWlpaWlpaWlpaWlpaWlpaWlpaWlpaWlpaWlpaWlpaWlpaWlpaWlpaWlpaWlpaWlpaWlpaWlpaWlpaWlpaWlpaWlpaWlpaWlpaAQICBAQEBwcHCgsLCwsLEBAQEBAQEBAYGBoaGhoaHx8fHx8fHyYmJiYmJiYtLS0tMTExMTE2NjY2Ojo6Ojo6QEBAQEBFRkZISEhIWlpaWlpaWlpaWlpaWlpaWlpaWlpaWlpaWlpaWlpaWlpaWlpaWlpaWlpaWlpaWlpaWlpaWlpaWlpaWlpaWlpaWlpaWlpaWlpaWlpaWlpaWloBAgICBQUHBwcKCgoNDQ0NDQ0NFBQUFBQUFBsbGx4eHh4eHh4lJSUlJSUrKysrKysrMjIyNTU1NTk5OTk5Pj5AQEBAQEBFRkdISFpaWlpaWlpaWlpaWlpaWlpaWlpaWlpaWlpaWlpaWlpaWlpaWlpaWlpaWlpaWlpaWlpaWlpaWlpaWlpaWlpaWlpaWlpaWlpaWlpaWlpaWlpaWlpaAQIDAwUGBgYJCQkMDAwMDAwMExMTExMYGBgYGBgYGBghISEhJSUlJSUlJSwsLi4uLi4uLjU1NTU1NTs7Ozs7QEBAQ0NDQ0dISUlaWlpaWlpaWlpaWlpaWlpaWlpaWlpaWlpaWlpaWlpaWlpaWlpaWlpaWlpaWlpaWlpaWlpaWlpaWlpaWlpaWlpaWlpaWlpaWlpaWlpaWlpaWlpa",
          "dtype": "i1"
         },
         "xaxis": "x2",
         "yaxis": "y2"
        },
        {
         "histnorm": "density",
         "marker": {
          "color": "#636EFA"
         },
         "nbinsx": 50,
         "opacity": 0.8,
         "type": "histogram",
         "x": {
          "bdata": "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",
          "dtype": "f8"
         },
         "xaxis": "x3",
         "yaxis": "y3"
        },
        {
         "histnorm": "density",
         "marker": {
          "color": "#636EFA"
         },
         "nbinsx": 50,
         "opacity": 0.8,
         "type": "histogram",
         "x": {
          "bdata": "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",
          "dtype": "f8"
         },
         "xaxis": "x4",
         "yaxis": "y4"
        },
        {
         "histnorm": "density",
         "marker": {
          "color": "#636EFA"
         },
         "nbinsx": 50,
         "opacity": 0.8,
         "type": "histogram",
         "x": {
          "bdata": "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",
          "dtype": "f8"
         },
         "xaxis": "x5",
         "yaxis": "y5"
        },
        {
         "histnorm": "density",
         "marker": {
          "color": "#636EFA"
         },
         "nbinsx": 50,
         "opacity": 0.8,
         "type": "histogram",
         "x": {
          "bdata": "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",
          "dtype": "f8"
         },
         "xaxis": "x6",
         "yaxis": "y6"
        },
        {
         "histnorm": "density",
         "marker": {
          "color": "#636EFA"
         },
         "nbinsx": 50,
         "opacity": 0.8,
         "type": "histogram",
         "x": {
          "bdata": "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",
          "dtype": "f8"
         },
         "xaxis": "x7",
         "yaxis": "y7"
        },
        {
         "histnorm": "density",
         "marker": {
          "color": "#636EFA"
         },
         "nbinsx": 50,
         "opacity": 0.8,
         "type": "histogram",
         "x": {
          "bdata": "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",
          "dtype": "f8"
         },
         "xaxis": "x8",
         "yaxis": "y8"
        },
        {
         "histnorm": "density",
         "marker": {
          "color": "#636EFA"
         },
         "nbinsx": 50,
         "opacity": 0.8,
         "type": "histogram",
         "x": {
          "bdata": "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",
          "dtype": "f8"
         },
         "xaxis": "x9",
         "yaxis": "y9"
        },
        {
         "histnorm": "density",
         "marker": {
          "color": "#636EFA"
         },
         "nbinsx": 50,
         "opacity": 0.8,
         "type": "histogram",
         "x": {
          "bdata": "s/5LUx6glL/8qfHSTWKQv7P+S1MeoJS/dZMYBFYOzb9OYhBYObTQP7gehetRuK6/2/l+arx007+PwvUoXI/CP+xRuB6F68G/XI/C9Shczz9oke18PzXWP8uhRbbz/aQ/0SLb+X5qzD+z/ktTHqCUvxkEVg4tsp2/okW28/3UyL+z/ktTHqCUvz0K16NwPdI/9P3UeOkmsT/hehSuR+G6v6AaL90kBsE/+n5qvHST0D8v3SQGgZXDv3e+nxov3cS/30+Nl24Swz8EVg4tsp3Pv9V46SYxCNS/s/5LUx6glL/6fmq8dJOoP8uhRbbz/dQ/O99PjZdukj9zaJHtfD/VP/T91HjpJtG/i2zn+6nxsr8QWDm0yHbiP3sUrkfherS/uB6F61G4vr8j2/l+ary0P8/3U+Olm8S/CKwcWmQ7vz8ZBFYOLbKtP4lBYOXQIrs/XI/C9Shczz8ZBFYOLbKdP7ByaJHtfL8/kxgEVg4twr8rhxbZzvejP7ByaJHtfL+/okW28/3UuD/b+X5qvHSjP8l2vp8aL72/30+Nl24Swz/Jdr6fGi/Nv7P+S1MeoJS/cT0K16Nw1T+kcD0K16OwP5huEoPAytE/LbKd76fG07/8qfHSTWKQP+XQItv5ftq/s/5LUx6glL9/arx0kxjEv7P+S1MeoJS/s/5LUx6glL8730+Nl26iP5qZmZmZmZk/WDm0yHa+vz/6fmq8dJN4P1yPwvUoXNc/6SYxCKwcur/6fmq8dJNoP05iEFg5tNA/ObTIdr6fur/6fmq8dJN4P7P+S1MeoJS/ZmZmZmZm1j+cxCCwcmiRv8/3U+Olm9Q/VOOlm8QgsD+z/ktTHqCUv9v5fmq8dNO/IbByaJHtvL+e76fGSzfJv5huEoPAysG/IbByaJHtvD+HFtnO91PTv6abxCCwctC/Gy/dJAaBlb97FK5H4Xp0v7P+S1MeoJS/Rrbz/dR40b8IrBxaZDvPv7P+S1MeoJS/ke18PzVe4r+amZmZmZmZv8P1KFyPwrU/AiuHFtnO17/0/dR46SbBP5huEoPAysG/jZduEoPA0r+z/ktTHqCUvwaBlUOLbNe/ppvEILByyL8j2/l+arzEv7P+S1MeoJS/s/5LUx6glL+z/ktTHqCUv3E9CtejcM2/ukkMAiuH1j+F61G4HoXTPxsv3SQGgZW/+n5qvHSTeD+z/ktTHqCUv57vp8ZLN8k/s/5LUx6glL93vp8aL93Ev7bz/dR46cY/hxbZzvdTw7956SYxCKzUvzMzMzMzM7O/exSuR+F6dD+z/ktTHqCUv05iEFg5tMi/2/l+arx0kz9iEFg5tMjGvzMzMzMzM8M/KVyPwvUorD+TGARWDi2yv+xRuB6F66E/VOOlm8QgsD+z/ktTHqCUv7P+S1MeoJS/s/5LUx6glL+cxCCwcmihP3Noke18P7W/WDm0yHa+v7+z/ktTHqCUv7P+S1MeoJS/okW28/3U0D+z/ktTHqCUv7P+S1MeoJS/qvHSTWIQuD+z/ktTHqCUv3sUrkfherS/cT0K16Nw1b97FK5H4XqkP7TIdr6fGuO/001iEFg5tL+yne+nxku3P1TjpZvEINC/BoGVQ4ts17+z/ktTHqCUv7P+S1MeoJS/uB6F61G41j+z/ktTHqCUv3sUrkfheqS/KVyPwvUorL+gGi/dJAbRPzEIrBxaZLu/WDm0yHa+z79KDAIrhxbZPycxCKwcWtw/s/5LUx6glL8v3SQGgZXDv/YoXI/C9cg/sp3vp8ZLtz/4U+Olm8TAP7gehetRuI6/nMQgsHJowb8j2/l+arzEP8UgsHJokdW/VOOlm8QgsD9CYOXQItvRP0oMAiuHFtE/uB6F61G4vj/8qfHSTWKQPzvfT42XbtK/pHA9Ctej4D/pJjEIrBzKv0SLbOf7qbG/2c73U+Olmz97FK5H4Xq0v7P+S1MeoJS/gZVDi2znuz+LbOf7qfHSv7P+S1MeoJS/nu+nxks32b/HSzeJQWDFP7P+S1MeoJS/aJHtfD81vj+z/ktTHqCUv3npJjEIrIw/y6FFtvP91L/wp8ZLN4nBvzvfT42XbpK/4XoUrkfhur9zaJHtfD+1v166SQwCK9c/s/5LUx6glL9SuB6F61G4v7gehetRuL6/30+Nl24Swz9SuB6F61G4v4XrUbgehdM/s/5LUx6glL+YbhKDwMrZv1g5tMh2vp+/EFg5tMh2zj+z/ktTHqCUv8HKoUW2880/SgwCK4cWqb8730+Nl26Cv/YoXI/C9dA/TmIQWDm0yD+z/ktTHqCUv7P+S1MeoJS/O99PjZdusj+PwvUoXI/SP7P+S1MeoJS/+n5qvHSTqL9QjZduEoPAP7P+S1MeoJS/SOF6FK5H2b+z/ktTHqCUv7P+S1MeoJS/arx0kxgEtr+z/ktTHqCUv7P+S1MeoJS/s/5LUx6glL/D9Shcj8K1P3npJjEIrMw/s/5LUx6glL/D9Shcj8K1v3npJjEIrJy/s/5LUx6glL/jpZvEILCyPzEIrBxaZMu/+n5qvHSTyL/jpZvEILDCv0jhehSuR+W/jZduEoPAyr97FK5H4XqEvxfZzvdT48W/exSuR+F6xD8pXI/C9Si8P/YoXI/C9ci/EoPAyqFFtr+z/ktTHqCUv7P+S1MeoJS/EFg5tMh2zr+z/ktTHqCUvxsv3SQGgaU/CKwcWmQ7z7+z/ktTHqCUv/yp8dJNYnA/s/5LUx6glL8xCKwcWmS7PzvfT42XbqK/qvHSTWIQqD+DwMqhRbazP8dLN4lBYN2/001iEFg5xL+4HoXrUbjWv3Noke18P9W/bef7qfHSzb+LbOf7qfHCP1K4HoXrUbg/s/5LUx6glL+z/ktTHqCUv42XbhKDwNK/CKwcWmQ717+z/ktTHqCUvwisHFpkO6+/UI2XbhKDwD+z/ktTHqCUv7P+S1MeoJS/s/5LUx6glL9MN4lBYOXQv7P+S1MeoJS/s/5LUx6glL/6fmq8dJPQv4ts5/up8cK/8tJNYhBYub+z/ktTHqCUv3E9CtejcM2/s/5LUx6glL+z/ktTHqCUv7P+S1MeoJS/9P3UeOkmsT+DwMqhRbbbP7P+S1MeoJS/iUFg5dAi27/Xo3A9CtfDv/p+arx0k9C/5/up8dJN0r+LbOf7qfHCv5zEILByaKG/s/5LUx6glL+wcmiR7XzPv7P+S1MeoJS/9P3UeOkm4T+z/ktTHqCUv7P+S1MeoJS//tR46SYx0L8X2c73U+PVP7P+S1MeoJS/exSuR+F6hD/pJjEIrByqv7P+S1MeoJS//Knx0k1iYD9/arx0kxjcv2Q730+Nl9Y/PQrXo3A9yj8Sg8DKoUW2v8HKoUW289W/WDm0yHa+r7+JQWDl0CLLP5ZDi2zn+8k/s/5LUx6glL+q8dJNYhDIP9ejcD0K18M/eekmMQisnL8xCKwcWmTLPwrXo3A9Cqe/O99PjZdusj/8qfHSTWKQv7P+S1MeoJS/JzEIrBxaxL/hehSuR+HSv7pJDAIrh4a/Di2yne+nxj/0/dR46SaxPzvfT42XbqI/YOXQItv5zj+TGARWDi2yP28Sg8DKocW/+n5qvHST2L9qvHSTGATGv/yp8dJNYqA/30+Nl24S0z+z/ktTHqCUv6RwPQrXo7C/YhBYObTIxr+z/ktTHqCUv8HKoUW289U/sHJoke18v79aZDvfT43XPwrXo3A9Cre/s/5LUx6glL8fhetRuB7FPxKDwMqhRcY//Knx0k1ikD9aZDvfT423P+xRuB6F67E/O99PjZdusj+TGARWDi3Sv1CNl24Sg8A/JzEIrBxa1L/dJAaBlUPTv3sUrkfheoQ/KVyPwvUozD9oke18PzWuv2q8dJMYBOa/s/5LUx6glL9zaJHtfD/Fv9ejcD0K19M/7FG4HoXroT97FK5H4XqUPxkEVg4tss2/WmQ730+Nl79zaJHtfD+1P9NNYhBYObS//Knx0k1iYL85tMh2vp+qP8dLN4lBYMU/WDm0yHa+nz+q8dJNYhCov28Sg8DKocW/arx0kxgExj89CtejcD3KvxkEVg4tst2/L90kBoGVwz+z/ktTHqCUv1K4HoXrUbg/j8L1KFyP0j+WQ4ts5/vRv3sUrkfheoQ/ke18PzVeyr8Sg8DKoUXGPx1aZDvfT80/s/5LUx6glL8Sg8DKoUW2P5zEILByaMG/s/5LUx6glL9Ei2zn+6mxP7P+S1MeoJS/pHA9CtejsL+cxCCwcmihv5MYBFYOLcK/XrpJDAIrxz/pJjEIrBzKP+f7qfHSTcK/2/l+arx0sz+z/ktTHqCUv7P+S1MeoJS/2c73U+Olq78/NV66SQzCP2IQWDm0yLY/N4lBYOXQwj+kcD0K16PAv0SLbOf7qbG/c2iR7Xw/tb8v3SQGgZXDP7P+S1MeoJS/s/5LUx6glL+z/ktTHqCUv2Dl0CLb+d4/uB6F61G4zj+e76fGSzfRP2q8dJMYBLa/DAIrhxbZzj9QjZduEoPQP7P+S1MeoJS/TDeJQWDloD+z/ktTHqCUv7P+S1MeoJS/dZMYBFYO6b+z/ktTHqCUv8l2vp8aL60/IbByaJHtzD+z/ktTHqCUvyuHFtnO99M/vHSTGARW3r9YObTIdr7Xv3E9CtejcM0/6SYxCKwcuj+z/ktTHqCUv7P+S1MeoJS/+n5qvHSTqL+z/ktTHqCUv1pkO99Pjbe/s/5LUx6glL+z/ktTHqCUv4/C9Shcj8K/7FG4HoXrsb+z/ktTHqCUv7P+S1MeoJS/001iEFg55L+kcD0K16PAP7P+S1MeoJS/s/5LUx6glL9Ei2zn+6nhv9nO91PjpZs/MQisHFpk0z+z/ktTHqCUv9NNYhBYOdS/s/5LUx6glL81XrpJDALTvxkEVg4tsr2/s/5LUx6glL9MN4lBYOWwv7P+S1MeoJS/vp8aL90kxj9OYhBYObTgv/yp8dJNYrA/ke18PzVeyj/ZzvdT46Wrv1CNl24Sg9g/001iEFg5tL956SYxCKysP166SQwCK8c/kxgEVg4tsr+iRbbz/dS4v9Ei2/l+auA/WDm0yHa+z7/0/dR46SbRv8dLN4lBYMU/gZVDi2znyz8dWmQ730/VP5MYBFYOLbI/s/5LUx6glL9cj8L1KFzXv9v5fmq8dKM/CtejcD0Kp7+iRbbz/dS4v/yp8dJNYmA/uB6F61G4jj8AAAAAAAAAAKwcWmQ738+/YhBYObTI1r/l0CLb+X7Kv7P+S1MeoJS/+FPjpZvEwD9MN4lBYOXAP7ByaJHtfL+/s/5LUx6glL+BlUOLbOe7P3sUrkfherQ/rkfhehSu57+z/ktTHqCUv8HKoUW2870/WmQ730+Nl78rhxbZzvejP/Cnxks3idE/tMh2vp8a1z8IrBxaZDuvv7P+S1MeoJS/exSuR+F6dD/6fmq8dJPYv7P+S1MeoJS/O99PjZduoj/ufD81XrrJv/yp8dJNYlA/s/5LUx6glL+6SQwCK4emvzvfT42XbpK/i2zn+6nxsr+z/ktTHqCUv/p+arx0k5g/TmIQWDm02L8K16NwPQqnP4GVQ4ts58u/ppvEILBy2D+z/ktTHqCUvyuHFtnO99O/s/5LUx6glL+z/ktTHqCUv99PjZduEtM/xSCwcmiRzT+HFtnO91PTPzVeukkMAsu/s/5LUx6glL8730+Nl27CPxKDwMqhRca/s/5LUx6glL+z/ktTHqCUv/7UeOkmMdC/s/5LUx6glL/6fmq8dJOYv+kmMQisHMo/ObTIdr6fij9iEFg5tMi2v7gehetRuM4/s/5LUx6glL/6fmq8dJNov1pkO99Pjae/qMZLN4lBwL8ZBFYOLbKtP7P+S1MeoJS/JQaBlUOL1L+8dJMYBFbWPz81XrpJDMI//Knx0k1iwD/RItv5fmrUv7P+S1MeoJS/CKwcWmQ7rz/b+X5qvHTbv+kmMQisHKo/2/l+arx0oz+z/ktTHqCUv7P+S1MeoJS/s/5LUx6glL/6fmq8dJO4P7P+S1MeoJS/46WbxCCwwj/HSzeJQWDFP5HtfD81Xro/8KfGSzeJwb/LoUW28/20v1pkO99Pjae/s/5LUx6glL956SYxCKzMv7P+S1MeoJS/s/5LUx6glL+z/ktTHqCUvzm0yHa+n5q/nMQgsHJo0b+z/ktTHqCUv0jhehSuR8G/YhBYObTIxr+sHFpkO9/Pv7P+S1MeoJS/s/5LUx6glL+z/ktTHqCUv+kmMQisHNK/6SYxCKwc2j+z/ktTHqCUv7P+S1MeoJS/i2zn+6nx2r+z/ktTHqCUv4lBYOXQItO/s/5LUx6glL+z/ktTHqCUv7P+S1MeoJS/j8L1KFyP0r9Ei2zn+6nBv7P+S1MeoJS/s/5LUx6glL+e76fGSzfZv7P+S1MeoJS/s/5LUx6glL+z/ktTHqCUvy/dJAaBldO/8KfGSzeJwb+z/ktTHqCUv8P1KFyPwsU/s/5LUx6glL8730+Nl26CP7P+S1MeoJS/eekmMQisjL+z/ktTHqCUv7P+S1MeoJS/s/5LUx6glL+z/ktTHqCUv7P+S1MeoJS/s/5LUx6glL/y0k1iEFjRP7P+S1MeoJS/ke18PzVeyj+z/ktTHqCUv3sUrkfhesS/arx0kxgEpj9KDAIrhxapP1CNl24Sg8A/O99PjZdukr/b+X5qvHSTP2IQWDm0yMY/ukkMAiuHlr/ByqFFtvPdP6JFtvP91Mi/ppvEILByyD+z/ktTHqCUv8l2vp8aL60/mpmZmZmZyb9KDAIrhxa5vwrXo3A9Ctc/+n5qvHST0D9oke18PzXOv83MzMzMzMw/9P3UeOkmwb9iEFg5tMjWv3npJjEIrLw/30+Nl24Swz8nMQisHFrUPxkEVg4tsq0/arx0kxgE3r+PwvUoXI/av1pkO99Pjbc/4XoUrkfhyj8j2/l+arzUP1TjpZvEINg/TDeJQWDl2D8730+Nl26SP8uhRbbz/bS/oBov3SQG2b/dJAaBlUPTP/p+arx0k6g/1XjpJjEIzD/0/dR46SaxP0Jg5dAi28k/UrgehetRyD+amZmZmZmZP1yPwvUoXNc/yXa+nxovzT9oke18PzWuPzVeukkMAsu/8tJNYhBY2b9mZmZmZmbGv3sUrkfhenS/TDeJQWDlwL+4HoXrUbiev7P+S1MeoJS/001iEFg5tL+z/ktTHqCUv6rx0k1iEKi/8tJNYhBYuT/8qfHSTWKQv9nO91Pjpas/7FG4HoXroT/TTWIQWDnEP7P+S1MeoJS/s/5LUx6glL/sUbgehevRvwisHFpkO88/s/5LUx6glL+z/ktTHqCUvwIrhxbZzt+/SgwCK4cWqb+z/ktTHqCUv/p+arx0k3i/2c73U+Olqz/sUbgeheuhP0SLbOf7qbG/iUFg5dAi078IrBxaZDuvv7ByaJHtfNe/s/5LUx6glL956SYxCKy8vy/dJAaBlcO/pHA9CtejsD9I4XoUrkfBvwAAAAAAAMC/z/dT46WbxD/4U+Olm8TAv7P+S1MeoJS/rkfhehSuxz+6SQwCK4eWP/yp8dJNYpA/SgwCK4cW0T/8qfHSTWKQv4GVQ4ts59s/+n5qvHST7L9CYOXQItu5P7Kd76fGS8e/nMQgsHJosT/TTWIQWDnEP4XrUbgehcs/PQrXo3A9yj956SYxCKx8vxBYObTIdr4/O99PjZdusr9KDAIrhxa5PwwCK4cW2c6/yXa+nxovrT+TGARWDi3Cv1K4HoXrUdA/QmDl0CLb0T9CYOXQItvJPzm0yHa+n4o/KVyPwvUo1D8j2/l+arzcvy2yne+nxsu/j8L1KFyP0j+TGARWDi3Cv7P+S1MeoJS/TDeJQWDl4D9eukkMAivHP4lBYOXQIru/YOXQItv5zr/dJAaBlUPLvxkEVg4tsp0/iUFg5dAiyz8IrBxaZDvXvwIrhxbZzre/IbByaJHt4L99PzVeuknUv7gehetRuJ6/nMQgsHJoob8xCKwcWmS7P3sUrkfheqQ/s/5LUx6glL+z/ktTHqCUv7P+S1MeoJS/MzMzMzMzs7+e76fGSzfRP7P+S1MeoJS/eekmMQisrD+8dJMYBFbWv7P+S1MeoJS/s/5LUx6glL+amZmZmZmpP/LSTWIQWNG/qvHSTWIQ0L8K16NwPQq3P7P+S1MeoJS/uB6F61G4vr9aZDvfT42Xv7P+S1MeoJS/exSuR+F63L8CK4cW2c7fv7P+S1MeoJS/NV66SQwC078730+Nl27av7P+S1MeoJS/CtejcD0Kpz85tMh2vp/SvzvfT42XbqK/XrpJDAIrx7/pJjEIrByqv6wcWmQ7388/TmIQWDm02D+q8dJNYhCov5HtfD81Xro/w/UoXI/Cxb/8qfHSTWKgPzm0yHa+n4o/XrpJDAIrxz+z/ktTHqCUvwIrhxbZzuO/+n5qvHSTeD8K16NwPQrXP0oMAiuHFqk/tMh2vp8az79Ei2zn+6mxP5HtfD81Xsq/SOF6FK5H0T+Nl24Sg8DaP8/3U+Olm8Q/NV66SQwCy7/LoUW28/2kP3E9CtejcL2/hetRuB6F2z+cxCCwcmixPzm0yHa+n5o/mG4Sg8DKwT/pJjEIrBzav1g5tMh2vp8/I9v5fmq81L9U46WbxCDQPyPb+X5qvLS/O99PjZdu2r+z/ktTHqCUv/LSTWIQWNE/s/5LUx6glL8pXI/C9SjUvy2yne+nxss/s/5LUx6glL9YObTIdr6/Pylcj8L1KKw/TmIQWDm0yD9oke18PzXWvzMzMzMzM8M/exSuR+F6pL/8qfHSTWJgv0oMAiuHFtm/s/5LUx6glL+z/ktTHqCUv3npJjEIrHw/s/5LUx6glL8IrBxaZDuvP7P+S1MeoJS/QmDl0CLbuT9Ei2zn+6mxPzEIrBxaZLu/7nw/NV662T/ZzvdT46WrP3sUrkfheqQ/yXa+nxovvb9I4XoUrkfBPx+F61G4HsU/+n5qvHSTmL+z/ktTHqCUv/p+arx0k6i/s/5LUx6glL9SuB6F61HYP7P+S1MeoJS/WDm0yHa+nz8dWmQ730/Vv/YoXI/C9dC/s/5LUx6glL+DwMqhRbbTvwAAAAAAAMA/s/5LUx6glL+z/ktTHqCUvyuHFtnO96M/hetRuB6Fyz/ufD81XrrJv8uhRbbz/bQ/s/5LUx6glL9t5/up8dLNv/YoXI/C9cg/s/5LUx6glL956SYxCKzUP7P+S1MeoJS/2/l+arx0wz9oke18PzWuP0oMAiuHFqk/s/5LUx6glL9eukkMAivHPycxCKwcWsS/s/5LUx6glL/HSzeJQWDFP7P+S1MeoJS/eekmMQisrD+z/ktTHqCUv+Olm8QgsMK/SgwCK4cW0T/ZzvdT46XTv3sUrkfhenQ/s/5LUx6glL+z/ktTHqCUv7P+S1MeoJS/ZDvfT42Xzj+YbhKDwMrBP83MzMzMzMw/YOXQItv5vj/l0CLb+X7av7P+S1MeoJS/sp3vp8ZLxz+z/ktTHqCUvxfZzvdT4+G/46WbxCCw0r8pXI/C9SjMv9Ei2/l+arw/s/5LUx6glL+LbOf7qfHCv7P+S1MeoJS/CKwcWmQ7v79aZDvfT42nv1TjpZvEINg/s/5LUx6glL+28/3UeOnGv8/3U+Olm9S/s/5LUx6glL/l0CLb+X7SvzEIrBxaZOu/gZVDi2znu7+z/ktTHqCUv2Dl0CLb+da/s/5LUx6glL9qvHSTGATGP1g5tMh2vte/s/5LUx6glL+z/ktTHqCUvwrXo3A9Cse/s/5LUx6glL8bL90kBoG1v9NNYhBYOdQ/hetRuB6Fy7/ZzvdT46XLv7P+S1MeoJS/9P3UeOkm0b+LbOf7qfGiP7P+S1MeoJS/s/5LUx6glL+z/ktTHqCUv7P+S1MeoJS/s/5LUx6glL9aZDvfT42nP/7UeOkmMdC/y6FFtvP9tD+z/ktTHqCUv5ZDi2zn+8m/",
          "dtype": "f8"
         },
         "xaxis": "x10",
         "yaxis": "y10"
        },
        {
         "histnorm": "density",
         "marker": {
          "color": "#636EFA"
         },
         "nbinsx": 50,
         "opacity": 0.8,
         "type": "histogram",
         "x": {
          "bdata": "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",
          "dtype": "f8"
         },
         "xaxis": "x11",
         "yaxis": "y11"
        },
        {
         "histnorm": "density",
         "marker": {
          "color": "#636EFA"
         },
         "nbinsx": 50,
         "opacity": 0.8,
         "type": "histogram",
         "x": {
          "bdata": "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",
          "dtype": "f8"
         },
         "xaxis": "x12",
         "yaxis": "y12"
        },
        {
         "histnorm": "density",
         "marker": {
          "color": "#636EFA"
         },
         "nbinsx": 50,
         "opacity": 0.8,
         "type": "histogram",
         "x": {
          "bdata": "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",
          "dtype": "f8"
         },
         "xaxis": "x13",
         "yaxis": "y13"
        },
        {
         "histnorm": "density",
         "marker": {
          "color": "#636EFA"
         },
         "nbinsx": 50,
         "opacity": 0.8,
         "type": "histogram",
         "x": {
          "bdata": "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",
          "dtype": "f8"
         },
         "xaxis": "x14",
         "yaxis": "y14"
        },
        {
         "histnorm": "density",
         "marker": {
          "color": "#636EFA"
         },
         "nbinsx": 50,
         "opacity": 0.8,
         "type": "histogram",
         "x": {
          "bdata": "A1HpyJ7BV0AAAAAAAAA7QANR6ciewVdAAAAAAADAVkAAAAAAAEBjQAAAAAAAQFxAAAAAAABAY0AAAAAAAAA7QAAAAAAAoGBAAAAAAABAY0AAAAAAAAAIQAAAAAAAABxAAAAAAACAREADUenInsFXQAAAAAAAgFFAAAAAAACgYEADUenInsFXQAAAAAAAAEpAAAAAAAAACEAAAAAAAEBcQAAAAAAAABxAAAAAAACAUUAAAAAAAMBWQAAAAAAAgFFAAAAAAAAAHEAAAAAAAMBWQAAAAAAAwFZAA1HpyJ7BV0AAAAAAAAA7QAAAAAAAADBAAAAAAABAXEAAAAAAAIBRQAAAAAAAADRAAAAAAAAASkAAAAAAAAA0QAAAAAAAwFZAAAAAAACAREAAAAAAAIBEQAAAAAAAwFZAAAAAAABAXEAAAAAAAMBWQAAAAAAAADBAAAAAAACgZEAAAAAAAABKQAAAAAAAwFZAAAAAAAAAHEAAAAAAAAA7QAAAAAAAADRAAAAAAACAREAAAAAAAKBgQAAAAAAAADtAAAAAAAAgYkAAAAAAAGBmQANR6ciewVdAAAAAAACAREAAAAAAAEBjQAAAAAAAoGRAAAAAAABAY0AAAAAAAEBjQAAAAAAAQGdAA1HpyJ7BV0AAAAAAAMBlQANR6ciewVdAA1HpyJ7BV0AAAAAAAABKQAAAAAAAgFFAAAAAAADAVkAAAAAAAKBgQAAAAAAAADRAAAAAAABAXEAAAAAAAIBRQAAAAAAAwFZAAAAAAACAUUAAAAAAAIBEQANR6ciewVdAAAAAAADAZUAAAAAAAMBWQAAAAAAAgERAAAAAAADAVkADUenInsFXQAAAAAAAgFFAAAAAAAAAHEAAAAAAAABKQAAAAAAAAEpAAAAAAAAAO0AAAAAAAMBlQAAAAAAAAAhAAAAAAACAUUAAAAAAAEBcQANR6ciewVdAAAAAAAAAO0AAAAAAAIBRQANR6ciewVdAAAAAAACgZEAAAAAAAMBWQAAAAAAAQFxAAAAAAACgYEAAAAAAAOBmQAAAAAAAABxAAAAAAABAY0ADUenInsFXQAAAAAAAAGdAAAAAAAAgYkAAAAAAAABKQANR6ciewVdAA1HpyJ7BV0ADUenInsFXQAAAAAAAQFxAAAAAAABAXEAAAAAAAKBgQAAAAAAAIGJAAAAAAABgZkADUenInsFXQAAAAAAAAPA/A1HpyJ7BV0AAAAAAACBiQAAAAAAAADtAAAAAAACgZEAAAAAAAKBkQAAAAAAAgERAAAAAAACAUUADUenInsFXQAAAAAAAoGRAAAAAAACgYEAAAAAAAABKQAAAAAAAQFxAAAAAAAAASkAAAAAAACBiQAAAAAAAAEpAAAAAAACAZ0ADUenInsFXQANR6ciewVdAA1HpyJ7BV0AAAAAAAABKQAAAAAAAoGBAAAAAAACgYEADUenInsFXQANR6ciewVdAAAAAAAAAHEADUenInsFXQANR6ciewVdAAAAAAACgZEADUenInsFXQAAAAAAAQFxAAAAAAABgZkAAAAAAAAA7QAAAAAAAgFFAAAAAAACAUUAAAAAAAKBkQAAAAAAAoGRAAAAAAADAZUADUenInsFXQANR6ciewVdAAAAAAACAUUADUenInsFXQAAAAAAAAEhAAAAAAACAWkAAAAAAAMBRQAAAAAAAwFFAAAAAAACAVkAAAAAAAIBWQAAAAAAAwFFAA1HpyJ7BV0AAAAAAAOBiQAAAAAAAwFFAAAAAAAAA8D8AAAAAAMBRQAAAAAAAADxAAAAAAACAVkAAAAAAAIBLQAAAAAAAgFpAAAAAAADgYUAAAAAAAAAAQAAAAAAA4GJAAAAAAABgZEAAAAAAAAA8QAAAAAAAwFFAAAAAAAAASEAAAAAAAOBiQAAAAAAAADxAAAAAAAAAPEAAAAAAAGBlQANR6ciewVdAAAAAAACAS0AAAAAAAIBWQANR6ciewVdAAAAAAABAZkAAAAAAAIBaQANR6ciewVdAAAAAAAAAYEADUenInsFXQAAAAAAAgFZAAAAAAADAUUAAAAAAAABIQAAAAAAAgFZAAAAAAADAUUAAAAAAAAAQQAAAAAAAgEtAA1HpyJ7BV0AAAAAAAIBLQAAAAAAAwFFAAAAAAAAAPEAAAAAAAIBaQAAAAAAAAGBAA1HpyJ7BV0AAAAAAAAAUQAAAAAAAgFpAAAAAAAAAZ0ADUenInsFXQAAAAAAAgFpAAAAAAACAWkAAAAAAAOBiQAAAAAAAwFFAAAAAAADgYkADUenInsFXQANR6ciewVdAAAAAAAAAKEAAAAAAAIBLQANR6ciewVdAAAAAAAAgZUAAAAAAAOBhQANR6ciewVdAAAAAAADgZ0ADUenInsFXQANR6ciewVdAAAAAAADgYkADUenInsFXQANR6ciewVdAA1HpyJ7BV0AAAAAAAIBLQAAAAAAAADNAA1HpyJ7BV0AAAAAAAMBRQAAAAAAAgFpAA1HpyJ7BV0AAAAAAAIBaQAAAAAAAgFpAAAAAAAAAPEAAAAAAAIBWQAAAAAAAYGVAAAAAAABgZUAAAAAAAAAwQAAAAAAAADxAAAAAAAAAIkAAAAAAAABgQAAAAAAAgFpAAAAAAADgYUADUenInsFXQANR6ciewVdAAAAAAAAAYEADUenInsFXQAAAAAAAYGRAAAAAAAAAYEADUenInsFXQAAAAAAAAEhAA1HpyJ7BV0AAAAAAAABIQAAAAAAAABRAAAAAAAAAYEAAAAAAAIBWQAAAAAAAQGZAAAAAAAAAM0AAAAAAAGBkQAAAAAAAgFZAAAAAAAAAM0AAAAAAAIBWQAAAAAAA4GJAA1HpyJ7BV0ADUenInsFXQAAAAAAAADxAAAAAAABAZkADUenInsFXQAAAAAAA4GFAAAAAAACAWkADUenInsFXQANR6ciewVdAA1HpyJ7BV0AAAAAAAABnQANR6ciewVdAA1HpyJ7BV0AAAAAAAAAwQAAAAAAAIGVAAAAAAAAAPEADUenInsFXQAAAAAAAgEtAA1HpyJ7BV0ADUenInsFXQANR6ciewVdAAAAAAACAWkAAAAAAAAA8QANR6ciewVdAAAAAAAAAZ0AAAAAAAAA8QAAAAAAAgFpAAAAAAADAUUAAAAAAAGBlQAAAAAAAgFZAA1HpyJ7BV0AAAAAAAIBLQANR6ciewVdAAAAAAACAWkADUenInsFXQANR6ciewVdAAAAAAAAgaEAAAAAAAAAzQANR6ciewVdAAAAAAADgYkAAAAAAAAAUQANR6ciewVdAAAAAAACAS0AAAAAAAABhQAAAAAAAAFBAAAAAAACgZEAAAAAAAIBUQAAAAAAAAGFAAAAAAACAVEAAAAAAAAA2QAAAAAAAwF9AA1HpyJ7BV0AAAAAAAABQQAAAAAAAADZAAAAAAABAY0AAAAAAAEBmQAAAAAAAQGNAAAAAAAAAWUAAAAAAAABJQANR6ciewVdAAAAAAACAQEAAAAAAAABhQAAAAAAAAF1AAAAAAAAAEEAAAAAAAIBAQAAAAAAAAFlAAAAAAAAASUAAAAAAAIBUQAAAAAAA4GZAAAAAAACAVEAAAAAAAABdQAAAAAAAgFRAAAAAAAAAMUADUenInsFXQAAAAAAAoGRAAAAAAAAAYUADUenInsFXQAAAAAAAwF9AAAAAAAAACEAAAAAAAIBUQAAAAAAAQGZAA1HpyJ7BV0AAAAAAAABQQAAAAAAAwGdAAAAAAACAQEAAAAAAAAAxQAAAAAAAgEBAAAAAAAAAWUAAAAAAAABJQAAAAAAAAFlAAAAAAACgZEAAAAAAAABZQAAAAAAAoGRAAAAAAAAAXUAAAAAAAMBfQAAAAAAAoGRAA1HpyJ7BV0AAAAAAAABQQAAAAAAAAGFAAAAAAAAAYUAAAAAAAABhQAAAAAAAAFlAAAAAAACAVEAAAAAAAAA2QAAAAAAAwF9AAAAAAABgaEAAAAAAAEBmQAAAAAAAQGNAAAAAAADgZkAAAAAAAABQQAAAAAAAQGNAAAAAAAAAWUAAAAAAAKBkQAAAAAAAAF1AAAAAAAAAUEADUenInsFXQAAAAAAAADZAAAAAAAAAXUAAAAAAAEBjQAAAAAAAgGdAAAAAAAAASUAAAAAAAABZQAAAAAAAAGFAA1HpyJ7BV0AAAAAAAMBfQAAAAAAAoGRAA1HpyJ7BV0AAAAAAAABQQANR6ciewVdAAAAAAAAAXUAAAAAAAAA2QAAAAAAAAFBAAAAAAAAAWUAAAAAAAABdQAAAAAAAAGhAAAAAAAAAYUADUenInsFXQANR6ciewVdAAAAAAAAA8D8AAAAAAAA2QAAAAAAAoGRAAAAAAAAAMUAAAAAAAABJQAAAAAAAQGNAAAAAAAAAYUAAAAAAAMBfQANR6ciewVdAA1HpyJ7BV0ADUenInsFXQAAAAAAAAFBAAAAAAAAAYUAAAAAAAAA2QAAAAAAAAElAAAAAAACAQEAAAAAAAMBfQANR6ciewVdAAAAAAABAY0ADUenInsFXQANR6ciewVdAAAAAAACAaEADUenInsFXQAAAAAAAABhAAAAAAAAANkADUenInsFXQAAAAAAAAGFAAAAAAAAAXUAAAAAAAABJQAAAAAAAAElAAAAAAAAAUEADUenInsFXQANR6ciewVdAAAAAAAAASUADUenInsFXQAAAAAAAQGZAA1HpyJ7BV0ADUenInsFXQAAAAAAAAF1AAAAAAAAAWUADUenInsFXQANR6ciewVdAAAAAAABAaEAAAAAAAIBnQANR6ciewVdAA1HpyJ7BV0AAAAAAAOBmQAAAAAAAAGFAAAAAAACgZEADUenInsFXQAAAAAAAgEBAA1HpyJ7BV0AAAAAAAOBmQAAAAAAAoGRAA1HpyJ7BV0AAAAAAAABhQANR6ciewVdAAAAAAAAAWUAAAAAAACBoQAAAAAAAAElAAAAAAACASUAAAAAAAMBUQAAAAAAAADJAAAAAAAAAZkAAAAAAAAAQQAAAAAAAIGRAAAAAAAAAP0AAAAAAAGBmQAAAAAAAYGNAAAAAAACASUAAAAAAAEBfQAAAAAAAgElAAAAAAABAWkAAAAAAAEBaQAAAAAAAQFpAA1HpyJ7BV0AAAAAAACBkQAAAAAAAACJAAAAAAADAVEAAAAAAAOBhQAAAAAAAACxAAAAAAADgYUAAAAAAAAA/QAAAAAAAQF9AAAAAAABAWkAAAAAAAOBhQANR6ciewVdAAAAAAAAgZEAAAAAAAAAyQAAAAAAAwFRAA1HpyJ7BV0AAAAAAAEBfQAAAAAAAADJAAAAAAABAX0ADUenInsFXQAAAAAAAwFRAAAAAAABAWkAAAAAAAMBUQAAAAAAAwFRAAAAAAAAAP0AAAAAAAEBfQANR6ciewVdAAAAAAAAgZEAAAAAAAEBfQANR6ciewVdAAAAAAAAAP0AAAAAAAGBjQAAAAAAAYGZAA1HpyJ7BV0AAAAAAAIBJQAAAAAAAwFRAAAAAAAAAP0ADUenInsFXQAAAAAAA4GFAAAAAAABAX0AAAAAAAOBhQAAAAAAAAE9AAAAAAACASUADUenInsFXQAAAAAAAAE9AA1HpyJ7BV0ADUenInsFXQAAAAAAAgGdAAAAAAADgYUAAAAAAAGBjQAAAAAAAQFpAA1HpyJ7BV0AAAAAAAAAyQAAAAAAA4GFAA1HpyJ7BV0ADUenInsFXQAAAAAAAAGhAA1HpyJ7BV0AAAAAAAEBaQAAAAAAAAGdAAAAAAAAAT0AAAAAAAEBaQAAAAAAAAE9AA1HpyJ7BV0AAAAAAAAA/QAAAAAAAwFRAAAAAAAAgZEAAAAAAAMBUQANR6ciewVdAAAAAAAAgZEAAAAAAAEBaQAAAAAAA4GFAAAAAAAAAT0AAAAAAAAA/QANR6ciewVdAAAAAAABAX0AAAAAAAABnQAAAAAAAYGNAAAAAAACASUADUenInsFXQANR6ciewVdAA1HpyJ7BV0AAAAAAAABPQANR6ciewVdAAAAAAAAAMkAAAAAAAEBfQAAAAAAAgElAAAAAAAAgZEAAAAAAAABPQAAAAAAA4GFAA1HpyJ7BV0AAAAAAAEBaQANR6ciewVdAA1HpyJ7BV0ADUenInsFXQAAAAAAAAE9AAAAAAAAAT0ADUenInsFXQAAAAAAAIGRAAAAAAAAAP0AAAAAAAMBUQANR6ciewVdAA1HpyJ7BV0ADUenInsFXQAAAAAAAQF9AAAAAAAAACEADUenInsFXQANR6ciewVdAAAAAAAAAP0ADUenInsFXQAAAAAAAQFpAA1HpyJ7BV0ADUenInsFXQANR6ciewVdAAAAAAAAgaEAAAAAAAEBfQANR6ciewVdAA1HpyJ7BV0AAAAAAAEBaQANR6ciewVdAA1HpyJ7BV0ADUenInsFXQAAAAAAAgGdAAAAAAABAX0ADUenInsFXQAAAAAAAAGZAA1HpyJ7BV0AAAAAAAMBUQANR6ciewVdAAAAAAADAZ0ADUenInsFXQANR6ciewVdAA1HpyJ7BV0ADUenInsFXQANR6ciewVdAA1HpyJ7BV0AAAAAAAEBfQANR6ciewVdAAAAAAAAAIkADUenInsFXQAAAAAAAgFdAAAAAAACATUAAAAAAAIBNQAAAAAAA4GNAAAAAAACATUAAAAAAAIBNQAAAAAAAgFdAAAAAAAAAIEAAAAAAAAAUQAAAAAAAAC5AAAAAAABAW0ADUenInsFXQAAAAAAA4GNAAAAAAAAAOUAAAAAAAOBjQAAAAAAAADlAAAAAAABAW0AAAAAAAABTQAAAAAAAgE1AAAAAAAAAOUAAAAAAAEBbQAAAAAAA4GNAAAAAAACgYkAAAAAAAAA5QAAAAAAAYGFAAAAAAABAX0AAAAAAAAA5QAAAAAAAADlAAAAAAACgYkAAAAAAAAA5QAAAAAAAgE1AAAAAAAAAOUAAAAAAAEBfQAAAAAAA4GNAAAAAAAAAU0AAAAAAAAAAQAAAAAAAQF9AAAAAAAAAOUAAAAAAAAA5QAAAAAAAYGFAAAAAAAAASEAAAAAAAIBXQAAAAAAAADlAAAAAAABgYUAAAAAAAEBfQAAAAAAAQFtAAAAAAAAAIEAAAAAAAKBiQAAAAAAAgFdAAAAAAAAgZ0AAAAAAAIBXQANR6ciewVdAAAAAAAAAU0ADUenInsFXQAAAAAAAADlAAAAAAAAAOUAAAAAAAABTQAAAAAAAAC5AAAAAAAAAU0AAAAAAAEBmQANR6ciewVdAA1HpyJ7BV0AAAAAAAEBbQAAAAAAAgGdAA1HpyJ7BV0ADUenInsFXQAAAAAAAQGZAAAAAAACAV0ADUenInsFXQAAAAAAAAFNAAAAAAABAX0AAAAAAAIBNQAAAAAAAQFtAAAAAAACgYkAAAAAAAAA5QAAAAAAAQFtAA1HpyJ7BV0AAAAAAAGBhQAAAAAAAYGFAAAAAAAAAKEAAAAAAAGBhQAAAAAAAQFtAAAAAAACAV0AAAAAAAOBjQANR6ciewVdAAAAAAAAASEAAAAAAAABIQAAAAAAAABBAAAAAAAAALkAAAAAAAEBfQAAAAAAA4GNAAAAAAADAZ0AAAAAAAIBXQAAAAAAAoGJAAAAAAACAV0AAAAAAAABTQAAAAAAAAEhAAAAAAAAASEAAAAAAAAA5QAAAAAAAQFtAAAAAAAAALkAAAAAAAKBiQAAAAAAAgE1AAAAAAABAX0AAAAAAAEBmQAAAAAAAgE1AAAAAAACATUAAAAAAAAAuQAAAAAAAABBAAAAAAACAV0AAAAAAAAA5QAAAAAAAQF9AAAAAAABAX0AAAAAAAKBiQANR6ciewVdAAAAAAACAZUAAAAAAAEBbQAAAAAAAAFNAAAAAAAAAU0AAAAAAAAA5QAAAAAAAIGdAAAAAAACATUAAAAAAAEBfQAAAAAAA4GNAAAAAAACAZUAAAAAAAEBbQAAAAAAA4GNAAAAAAAAASEAAAAAAAIBXQAAAAAAAYGFAA1HpyJ7BV0ADUenInsFXQANR6ciewVdAAAAAAACgYkAAAAAAAABTQANR6ciewVdAAAAAAABAX0AAAAAAAKBiQANR6ciewVdAA1HpyJ7BV0AAAAAAAABTQAAAAAAAIGdAAAAAAABAW0AAAAAAAAAuQANR6ciewVdAAAAAAACAZUAAAAAAAABnQANR6ciewVdAAAAAAACAZ0AAAAAAAMBnQANR6ciewVdAAAAAAACATUAAAAAAAKBiQANR6ciewVdAAAAAAADgY0AAAAAAAIBlQAAAAAAAAEhAAAAAAAAANUAAAAAAAABKQAAAAAAAAGNAAAAAAAAAJkAAAAAAAMBhQAAAAAAAACZAAAAAAAAASkAAAAAAAIBSQAAAAAAAgF9AAAAAAACAUkADUenInsFXQAAAAAAAgFxAAAAAAAAASkAAAAAAAMBYQAAAAAAAgF9AAAAAAAAASkAAAAAAAMBQQAAAAAAAAGNAAAAAAACAXEAAAAAAAIBSQAAAAAAAAEpAAAAAAAAASkAAAAAAAIBSQAAAAAAAAABAAAAAAAAANUAAAAAAAABKQAAAAAAAwFBAAAAAAAAAGEAAAAAAAIBSQAAAAAAAgFJAAAAAAAAAQ0AAAAAAAMBYQAAAAAAAwFBAAAAAAAAgZUADUenInsFXQAAAAAAAAEpAA1HpyJ7BV0AAAAAAAIBfQAAAAAAAgF9AA1HpyJ7BV0AAAAAAAABKQAAAAAAAgFJAAAAAAADAYUAAAAAAAIBSQAAAAAAAACZAAAAAAADgZUAAAAAAAAAYQAAAAAAAwFBAA1HpyJ7BV0ADUenInsFXQAAAAAAAwGFAA1HpyJ7BV0AAAAAAAMBYQANR6ciewVdAAAAAAAAANUAAAAAAAAA1QAAAAAAAgF9AAAAAAAAAJkAAAAAAAIBSQAAAAAAAgFxAAAAAAAAAY0AAAAAAAMBYQAAAAAAAADVAAAAAAADAWEADUenInsFXQAAAAAAAAEpAA1HpyJ7BV0AAAAAAAIBcQANR6ciewVdAAAAAAACAX0AAAAAAAMBYQAAAAAAAgFJAA1HpyJ7BV0AAAAAAAAAmQAAAAAAAgF9AA1HpyJ7BV0ADUenInsFXQAAAAAAAABBAAAAAAAAAY0AAAAAAAMBQQAAAAAAAgFxAA1HpyJ7BV0AAAAAAAIBSQAAAAAAAAEpAA1HpyJ7BV0AAAAAAAAA1QANR6ciewVdAAAAAAACAXEAAAAAAAMBkQAAAAAAAgFJAA1HpyJ7BV0AAAAAAAABKQAAAAAAAAEpAA1HpyJ7BV0AAAAAAAIBfQANR6ciewVdAAAAAAADAWEADUenInsFXQAAAAAAAwGFAAAAAAAAANUAAAAAAAABDQAAAAAAAAEpAA1HpyJ7BV0ADUenInsFXQANR6ciewVdAAAAAAACAUkAAAAAAAIBfQAAAAAAAADVAAAAAAAAAY0AAAAAAAMBhQANR6ciewVdAAAAAAAAACEADUenInsFXQAAAAAAAQGRAAAAAAADAYUAAAAAAAIBSQAAAAAAAADVAA1HpyJ7BV0AAAAAAAIBfQANR6ciewVdAAAAAAAAgZUAAAAAAACBlQAAAAAAAwFhAA1HpyJ7BV0AAAAAAAABjQAAAAAAAgFxAA1HpyJ7BV0AAAAAAAABjQAAAAAAAIGZAAAAAAAAAY0ADUenInsFXQAAAAAAAQGRAA1HpyJ7BV0AAAAAAAMBYQAAAAAAAAGZAA1HpyJ7BV0ADUenInsFXQAAAAAAAIGVAA1HpyJ7BV0AAAAAAAABjQAAAAAAAwFhAAAAAAADAYUAAAAAAAAAmQANR6ciewVdAAAAAAADAUEAAAAAAAMBYQANR6ciewVdAA1HpyJ7BV0ADUenInsFXQANR6ciewVdAA1HpyJ7BV0AAAAAAAIBSQAAAAAAAgF9AAAAAAACAX0ADUenInsFXQAAAAAAAgFxA",
          "dtype": "f8"
         },
         "xaxis": "x15",
         "yaxis": "y15"
        },
        {
         "histnorm": "density",
         "marker": {
          "color": "#636EFA"
         },
         "nbinsx": 15,
         "opacity": 0.8,
         "type": "histogram",
         "x": {
          "bdata": "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",
          "dtype": "f8"
         },
         "xaxis": "x16",
         "yaxis": "y16"
        },
        {
         "histnorm": "density",
         "marker": {
          "color": "#636EFA"
         },
         "nbinsx": 50,
         "opacity": 0.8,
         "type": "histogram",
         "x": {
          "bdata": "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",
          "dtype": "f8"
         },
         "xaxis": "x17",
         "yaxis": "y17"
        },
        {
         "histnorm": "density",
         "marker": {
          "color": "#636EFA"
         },
         "nbinsx": 12,
         "opacity": 0.8,
         "type": "histogram",
         "x": {
          "bdata": "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",
          "dtype": "f8"
         },
         "xaxis": "x18",
         "yaxis": "y18"
        },
        {
         "histnorm": "density",
         "marker": {
          "color": "#636EFA"
         },
         "nbinsx": 50,
         "opacity": 0.8,
         "type": "histogram",
         "x": {
          "bdata": "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",
          "dtype": "f8"
         },
         "xaxis": "x19",
         "yaxis": "y19"
        },
        {
         "histnorm": "density",
         "marker": {
          "color": "#636EFA"
         },
         "nbinsx": 19,
         "opacity": 0.8,
         "type": "histogram",
         "x": {
          "bdata": "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",
          "dtype": "f8"
         },
         "xaxis": "x20",
         "yaxis": "y20"
        },
        {
         "histnorm": "density",
         "marker": {
          "color": "#636EFA"
         },
         "nbinsx": 50,
         "opacity": 0.8,
         "type": "histogram",
         "x": {
          "bdata": "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",
          "dtype": "f8"
         },
         "xaxis": "x21",
         "yaxis": "y21"
        },
        {
         "histnorm": "density",
         "marker": {
          "color": "#636EFA"
         },
         "nbinsx": 50,
         "opacity": 0.8,
         "type": "histogram",
         "x": {
          "bdata": "Q4qAjdGWaEAAAAAAAABZQEOKgI3RlmhAAAAAAADgYkAAAAAAAOBlQAAAAAAAwGFAAAAAAABAZkAAAAAAAEBgQAAAAAAAwGdAAAAAAACAZUAAAAAAACBiQAAAAAAAAGNAAAAAAADAYkBDioCN0ZZoQAAAAAAAwFlAAAAAAADAaUBDioCN0ZZoQAAAAAAAoGFAAAAAAACgYUAAAAAAAEBnQAAAAAAAwGZAAAAAAAAgaEAAAAAAACBkQAAAAAAAgGxAAAAAAABAZkAAAAAAAGBrQAAAAAAAoGJAQ4qAjdGWaEAAAAAAAABmQAAAAAAAAF5AAAAAAACgYkAAAAAAAEBpQAAAAAAAgGpAAAAAAACAX0AAAAAAAMBmQAAAAAAAoGhAAAAAAABAakAAAAAAAABjQAAAAAAAYGVAAAAAAABAcEAAAAAAAMBhQAAAAAAAgGdAAAAAAAAgYUAAAAAAAKBhQAAAAAAAQGhAAAAAAADAW0AAAAAAAOBpQAAAAAAAAFtAAAAAAAAQckAAAAAAAIBrQAAAAAAAIGtAAAAAAACAZEAAAAAAAABMQEOKgI3RlmhAAAAAAABAbEAAAAAAAMBoQAAAAAAAIG9AAAAAAABAaEAAAAAAACBoQAAAAAAAQGpAQ4qAjdGWaEAAAAAAAEBzQEOKgI3RlmhAQ4qAjdGWaEAAAAAAAABcQAAAAAAAAGJAAAAAAAAAZEAAAAAAAMBrQAAAAAAA4G1AAAAAAAAgY0AAAAAAAABpQAAAAAAAQGhAAAAAAACgakAAAAAAAEBtQEOKgI3RlmhAAAAAAADAbEAAAAAAAMBqQAAAAAAAgGxAAAAAAAAAZ0BDioCN0ZZoQAAAAAAAAGpAAAAAAABgbUAAAAAAAIBkQAAAAAAAEHBAAAAAAACgZEAAAAAAACBnQAAAAAAAwGtAAAAAAACAZEAAAAAAAABlQEOKgI3RlmhAAAAAAABgbUAAAAAAAKBkQEOKgI3RlmhAAAAAAADgYUAAAAAAAKBpQAAAAAAAYG9AAAAAAAAgYEAAAAAAAGBjQAAAAAAA4GlAAAAAAAAAaEBDioCN0ZZoQAAAAAAAIGVAAAAAAAAAWEAAAAAAAMBnQEOKgI3RlmhAQ4qAjdGWaEBDioCN0ZZoQAAAAAAAoG1AAAAAAAAAaEAAAAAAAABoQAAAAAAAgGhAAAAAAAAgZ0BDioCN0ZZoQAAAAAAAYGJAQ4qAjdGWaEAAAAAAAOBpQAAAAAAAIGpAAAAAAADAY0AAAAAAAIBYQAAAAAAAQGRAAAAAAACAaUBDioCN0ZZoQAAAAAAA4G5AAAAAAACgZ0AAAAAAAAByQAAAAAAAwHZAAAAAAABgZkAAAAAAAEBqQAAAAAAAcHFAAAAAAABgakBDioCN0ZZoQEOKgI3RlmhAQ4qAjdGWaEAAAAAAAMBpQAAAAAAAwGRAAAAAAAAAa0BDioCN0ZZoQEOKgI3RlmhAAAAAAABAZkBDioCN0ZZoQEOKgI3RlmhAAAAAAACAaUBDioCN0ZZoQAAAAAAA0HBAAAAAAABwcEAAAAAAAMBmQAAAAAAAAGZAAAAAAAAgZ0AAAAAAAEByQAAAAAAAAGlAAAAAAABAaUBDioCN0ZZoQEOKgI3RlmhAAAAAAACAaUBDioCN0ZZoQAAAAAAAoGhAAAAAAABgakAAAAAAAKBoQAAAAAAAQGFAAAAAAACAZ0AAAAAAAIBsQAAAAAAA4G1AQ4qAjdGWaEAAAAAAAGBnQAAAAAAAoGtAAAAAAACga0AAAAAAAMBhQAAAAAAAAGZAAAAAAAAAZUAAAAAAAKBpQAAAAAAAIGBAAAAAAADgbUAAAAAAAMBhQAAAAAAAQG1AAAAAAADgY0AAAAAAAIBqQAAAAAAAoGFAAAAAAAAAckAAAAAAAKBiQAAAAAAAoGpAAAAAAAAgaEAAAAAAAIBoQEOKgI3RlmhAAAAAAAAga0AAAAAAACBoQEOKgI3RlmhAAAAAAACgZUAAAAAAAMBoQEOKgI3RlmhAAAAAAAAAZEBDioCN0ZZoQAAAAAAAwGZAAAAAAADgaEAAAAAAAEBqQAAAAAAAoGhAAAAAAAAAZUAAAAAAAABtQAAAAAAA4GdAQ4qAjdGWaEAAAAAAAEBdQAAAAAAAoHBAAAAAAAAgaEAAAAAAAKBuQAAAAAAAQG1AQ4qAjdGWaEAAAAAAAGBpQAAAAAAAQHJAAAAAAABgaEBDioCN0ZZoQAAAAAAAAGhAAAAAAADgYkAAAAAAAMBhQAAAAAAAIGpAAAAAAADAY0BDioCN0ZZoQEOKgI3RlmhAAAAAAABgbUAAAAAAAIBuQEOKgI3RlmhAAAAAAAAwcEAAAAAAAGBhQEOKgI3RlmhAAAAAAAAQcUBDioCN0ZZoQEOKgI3RlmhAAAAAAABga0BDioCN0ZZoQEOKgI3RlmhAQ4qAjdGWaEAAAAAAAABwQAAAAAAAIGdAQ4qAjdGWaEAAAAAAACBpQAAAAAAAIGlAQ4qAjdGWaEAAAAAAAMBqQAAAAAAAAG1AAAAAAACAb0AAAAAAAIBWQAAAAAAAwGBAAAAAAAAgYkAAAAAAAEBkQAAAAAAA4G5AAAAAAAAAZ0AAAAAAAIBqQAAAAAAAQGBAAAAAAADAYkBDioCN0ZZoQEOKgI3RlmhAAAAAAAAAZ0BDioCN0ZZoQAAAAAAAIHFAAAAAAACQcEBDioCN0ZZoQAAAAAAAYGZAQ4qAjdGWaEAAAAAAAABYQAAAAAAAoGNAAAAAAAAAaUAAAAAAACBmQAAAAAAAIGZAAAAAAACAZEAAAAAAAGBkQAAAAAAAAFtAAAAAAACgakAAAAAAAABtQAAAAAAAAGBAQ4qAjdGWaEBDioCN0ZZoQAAAAAAAIGhAAAAAAADAUkBDioCN0ZZoQAAAAAAA0HFAAAAAAACAZ0BDioCN0ZZoQEOKgI3RlmhAQ4qAjdGWaEAAAAAAACBtQEOKgI3RlmhAQ4qAjdGWaEAAAAAAAKBsQAAAAAAAgG5AAAAAAAAAZkBDioCN0ZZoQAAAAAAAoHBAQ4qAjdGWaEBDioCN0ZZoQEOKgI3RlmhAAAAAAADgdEAAAAAAAKBjQEOKgI3RlmhAAAAAAAAQcUAAAAAAAKBpQAAAAAAAwGdAAAAAAAAAV0AAAAAAAOBgQAAAAAAAwG9AQ4qAjdGWaEAAAAAAAEB1QEOKgI3RlmhAAAAAAADAbUBDioCN0ZZoQEOKgI3RlmhAAAAAAACAbUAAAAAAAABxQEOKgI3RlmhAAAAAAADga0AAAAAAAIBxQEOKgI3RlmhAAAAAAAAAYEAAAAAAAABgQAAAAAAAIGNAAAAAAAAAZ0AAAAAAAGBkQAAAAAAAwGZAAAAAAAAgaEAAAAAAAABpQAAAAAAAoGJAQ4qAjdGWaEAAAAAAAIBoQAAAAAAAAGxAAAAAAAAAaEAAAAAAAKBtQAAAAAAA8HFAAAAAAADgZ0AAAAAAAGB0QEOKgI3RlmhAAAAAAABgZkAAAAAAAOBmQAAAAAAAgGpAAAAAAABAakAAAAAAAKBmQAAAAAAAQGhAAAAAAADgZkAAAAAAAEBbQAAAAAAAIGhAAAAAAACgZkAAAAAAACBnQAAAAAAA4GpAAAAAAABgaEBDioCN0ZZoQAAAAAAAoGpAAAAAAACAbEBDioCN0ZZoQAAAAAAAoGdAAAAAAABAbkAAAAAAACBrQAAAAAAAEHBAQ4qAjdGWaEAAAAAAAEBbQAAAAAAAwGdAAAAAAAAwdEAAAAAAAMBnQAAAAAAAwG5AAAAAAACgaUAAAAAAAKBqQAAAAAAAoGdAAAAAAAAgaEAAAAAAAABpQAAAAAAAAGlAAAAAAADwckAAAAAAAOBmQAAAAAAAwGhAQ4qAjdGWaEAAAAAAAKBkQAAAAAAAYHJAAAAAAADgYkAAAAAAAIBsQAAAAAAAgG9AAAAAAABgaUAAAAAAAKBmQAAAAAAAwGhAAAAAAABgbUAAAAAAACBgQAAAAAAAIGVAAAAAAAAgZkAAAAAAACBkQAAAAAAAoGhAAAAAAACAZ0AAAAAAAABzQAAAAAAAQGhAAAAAAAAAaEBDioCN0ZZoQAAAAAAAYGdAAAAAAAAgaUAAAAAAAMBmQAAAAAAAcHJAAAAAAADgaEAAAAAAAMBrQAAAAAAAAGtAQ4qAjdGWaEAAAAAAAHBzQAAAAAAAAGVAQ4qAjdGWaEAAAAAAAKBjQEOKgI3RlmhAAAAAAACAaEAAAAAAAABmQAAAAAAAIGdAAAAAAADgcEAAAAAAAGBoQAAAAAAAYHJAAAAAAADgaUBDioCN0ZZoQEOKgI3RlmhAAAAAAACAZ0AAAAAAAGBiQAAAAAAAgGJAAAAAAADgYUAAAAAAAMBnQAAAAAAAgGJAAAAAAADgYkAAAAAAAKBtQEOKgI3RlmhAQ4qAjdGWaEBDioCN0ZZoQAAAAAAAYHFAAAAAAAAwcEAAAAAAAGBqQAAAAAAAgGdAAAAAAAAAbEAAAAAAAGByQEOKgI3RlmhAAAAAAAAwcEBDioCN0ZZoQEOKgI3RlmhAAAAAAADgcEBDioCN0ZZoQAAAAAAAMHJAAAAAAABgbkBDioCN0ZZoQAAAAAAAYGlAAAAAAACAZkAAAAAAAKBgQAAAAAAAwGhAAAAAAABAcUBDioCN0ZZoQEOKgI3RlmhAAAAAAAAAX0BDioCN0ZZoQAAAAAAAAHRAQ4qAjdGWaEBDioCN0ZZoQAAAAAAAsHRAAAAAAABgbEBDioCN0ZZoQEOKgI3RlmhAAAAAAADgb0AAAAAAACBpQEOKgI3RlmhAQ4qAjdGWaEAAAAAAAGBmQAAAAAAAoGtAAAAAAABgbUBDioCN0ZZoQAAAAAAA4GdAQ4qAjdGWaEAAAAAAAEBpQAAAAAAAQGpAQ4qAjdGWaEAAAAAAAFByQEOKgI3RlmhAAAAAAACAakAAAAAAAKBrQAAAAAAAIGpAAAAAAAAgZUAAAAAAAMBYQAAAAAAAgFhAAAAAAABgY0AAAAAAAEBnQAAAAAAAIHFAAAAAAABgaEAAAAAAAIBoQAAAAAAAQGhAAAAAAAAgbkAAAAAAAIBoQAAAAAAAwHFAAAAAAADgakAAAAAAAOBrQAAAAAAAQGlAQ4qAjdGWaEAAAAAAAKBgQAAAAAAAoGdAAAAAAABgZUAAAAAAAGBpQAAAAAAAgGVAAAAAAABAakAAAAAAAMBoQAAAAAAAgGNAAAAAAAAAXUAAAAAAAEBcQEOKgI3RlmhAAAAAAACgbUAAAAAAAEBpQAAAAAAAgGdAQ4qAjdGWaEAAAAAAAABpQAAAAAAA4GZAAAAAAABAYkBDioCN0ZZoQAAAAAAAIGVAAAAAAABgbkAAAAAAAKBmQAAAAAAAwGNAAAAAAAAgZEAAAAAAAOBrQEOKgI3RlmhAAAAAAAAAcEAAAAAAAMBqQEOKgI3RlmhAAAAAAACAYkAAAAAAAABuQAAAAAAAQGxAQ4qAjdGWaEAAAAAAAOBlQAAAAAAAQGlAAAAAAACAaEBDioCN0ZZoQAAAAAAAoHBAAAAAAADgakAAAAAAAMBwQAAAAAAAgGZAAAAAAAAgbkBDioCN0ZZoQAAAAAAAoGdAQ4qAjdGWaEBDioCN0ZZoQAAAAAAAcHJAAAAAAADAZUAAAAAAAEBwQAAAAAAAQGdAQ4qAjdGWaEAAAAAAAOBoQAAAAAAAoGlAQ4qAjdGWaEBDioCN0ZZoQAAAAAAAwG5AQ4qAjdGWaEAAAAAAAGBjQAAAAAAAQHBAAAAAAACgaUAAAAAAAABuQAAAAAAAQF5AQ4qAjdGWaEAAAAAAAIBbQAAAAAAAwG9AAAAAAAAAbUAAAAAAAABqQEOKgI3RlmhAAAAAAADgbUAAAAAAAABvQAAAAAAAIGpAAAAAAABAZ0AAAAAAAPBwQEOKgI3RlmhAAAAAAABAbEAAAAAAAABgQAAAAAAAwG9AAAAAAAAAaUBDioCN0ZZoQEOKgI3RlmhAQ4qAjdGWaEAAAAAAAOBvQEOKgI3RlmhAAAAAAACAaEAAAAAAAMBtQAAAAAAAoGlAAAAAAAAgckAAAAAAAGBnQAAAAAAAIGdAQ4qAjdGWaEAAAAAAAABgQEOKgI3RlmhAQ4qAjdGWaEBDioCN0ZZoQAAAAAAAIGdAAAAAAABgbkBDioCN0ZZoQAAAAAAAwF5AAAAAAABAaEAAAAAAAOBmQEOKgI3RlmhAQ4qAjdGWaEBDioCN0ZZoQAAAAAAAYGVAAAAAAAAwckBDioCN0ZZoQEOKgI3RlmhAAAAAAAAgbkBDioCN0ZZoQAAAAAAAAGpAQ4qAjdGWaEBDioCN0ZZoQEOKgI3RlmhAAAAAAAAgaUAAAAAAAOBtQEOKgI3RlmhAQ4qAjdGWaEAAAAAAAOBoQEOKgI3RlmhAQ4qAjdGWaEBDioCN0ZZoQAAAAAAAgHBAAAAAAACAbkBDioCN0ZZoQAAAAAAAMHFAQ4qAjdGWaEAAAAAAAKBrQEOKgI3RlmhAAAAAAADwcEBDioCN0ZZoQEOKgI3RlmhAQ4qAjdGWaEBDioCN0ZZoQEOKgI3RlmhAQ4qAjdGWaEAAAAAAALByQEOKgI3RlmhAAAAAAACAZUBDioCN0ZZoQAAAAAAAYGdAAAAAAAAAZ0AAAAAAAEBqQAAAAAAAIGtAAAAAAACATEAAAAAAAMBpQAAAAAAAYGJAAAAAAACwcUAAAAAAAJBzQAAAAAAAgGNAAAAAAABAZUBDioCN0ZZoQAAAAAAAQGVAAAAAAACAZEAAAAAAAIBjQAAAAAAAAG9AAAAAAACgZkAAAAAAACBpQAAAAAAAgGhAAAAAAADgbUAAAAAAAABgQAAAAAAAAG1AAAAAAACgY0AAAAAAAMBtQAAAAAAAIHFAAAAAAAAAWUAAAAAAAEBsQAAAAAAAYGBAAAAAAABgZUAAAAAAAOBrQAAAAAAAAHBAAAAAAADAZUAAAAAAAKBwQAAAAAAAQGVAAAAAAAAga0AAAAAAADBxQAAAAAAAwGtAAAAAAABAY0AAAAAAAIBlQAAAAAAAgGZAAAAAAADAZ0AAAAAAAABZQAAAAAAAQGhAAAAAAADgbEAAAAAAAMBpQAAAAAAAwG5AAAAAAABAY0AAAAAAAGBhQAAAAAAAAGpAAAAAAACAaUAAAAAAAEBgQEOKgI3RlmhAAAAAAABgbEBDioCN0ZZoQAAAAAAAoG1AAAAAAAAAakAAAAAAAKBpQAAAAAAAoGlAAAAAAAAga0AAAAAAACBtQEOKgI3RlmhAQ4qAjdGWaEAAAAAAAMBhQAAAAAAAAGxAQ4qAjdGWaEBDioCN0ZZoQAAAAAAAgGVAAAAAAADAbEBDioCN0ZZoQAAAAAAAYG1AAAAAAABAaUAAAAAAAABvQAAAAAAAYGVAAAAAAABgZ0AAAAAAAMBiQAAAAAAAQGZAQ4qAjdGWaEAAAAAAAOBlQAAAAAAAwGJAAAAAAACAZkAAAAAAAMBqQAAAAAAAgGdAAAAAAADAYkAAAAAAAGBqQEOKgI3RlmhAAAAAAAAga0AAAAAAAMBoQAAAAAAAoGdAAAAAAAAAbUAAAAAAAMBqQAAAAAAAIGdAAAAAAADgZ0AAAAAAAMBrQAAAAAAAYHRAAAAAAAAAXEAAAAAAAHBwQAAAAAAAgG9AAAAAAAAAbUAAAAAAAEBcQAAAAAAA4GZAAAAAAABwcEAAAAAAAOBqQAAAAAAA4GZAAAAAAADgb0AAAAAAAEBqQAAAAAAAoGdAAAAAAAAAZEAAAAAAAOBtQAAAAAAAwG1AAAAAAAAga0AAAAAAAKBjQAAAAAAAwGlAAAAAAACAakAAAAAAAIBnQEOKgI3RlmhAAAAAAAAAb0AAAAAAAIBmQAAAAAAAAGxAAAAAAAAAYUAAAAAAAEBoQAAAAAAAkHBAAAAAAAAAZkAAAAAAACBtQAAAAAAAQGlAAAAAAAAAbUAAAAAAAKBpQAAAAAAAYGZAAAAAAAAAXkAAAAAAAGBrQAAAAAAAQGtAQ4qAjdGWaEBDioCN0ZZoQEOKgI3RlmhAAAAAAADAXEAAAAAAADB0QEOKgI3RlmhAAAAAAAAgbUAAAAAAAEBfQEOKgI3RlmhAQ4qAjdGWaEAAAAAAAIBkQAAAAAAAgGpAAAAAAABgaUAAAAAAAIBpQEOKgI3RlmhAAAAAAAAAb0AAAAAAAIBrQEOKgI3RlmhAAAAAAACAa0AAAAAAAIBOQEOKgI3RlmhAAAAAAABAYkAAAAAAAMBWQEOKgI3RlmhAAAAAAAAgbUAAAAAAAMBoQAAAAAAAwG5AAAAAAACAWUAAAAAAAOBhQAAAAAAAwGlAAAAAAACgZEAAAAAAAOBhQAAAAAAAgGFAAAAAAABAWkAAAAAAAEBjQAAAAAAAwGVAAAAAAADAW0BDioCN0ZZoQAAAAAAAAFtAAAAAAADgYkAAAAAAAMBjQAAAAAAAwGVAAAAAAAAAXUAAAAAAAMBdQAAAAAAAQGBAAAAAAABgaUAAAAAAABBxQAAAAAAAIGlAAAAAAADgZEAAAAAAAIBjQAAAAAAAAGxAAAAAAABAbUAAAAAAAIBnQAAAAAAAwGBAAAAAAADAakAAAAAAAOBpQAAAAAAAYGZAAAAAAAAAZEAAAAAAAKBwQAAAAAAAQG5AAAAAAADgbUBDioCN0ZZoQAAAAAAAQGVAQ4qAjdGWaEAAAAAAAABmQAAAAAAAwGVAQ4qAjdGWaEAAAAAAAOBlQAAAAAAAYGBAAAAAAADAY0AAAAAAAKBgQAAAAAAAoGNAAAAAAADgaUAAAAAAAIBhQAAAAAAAAGdAQ4qAjdGWaEBDioCN0ZZoQAAAAAAAAF1AQ4qAjdGWaEAAAAAAAEBtQEOKgI3RlmhAAAAAAADgaEAAAAAAAIBpQAAAAAAAYGFAAAAAAADAc0AAAAAAACBqQAAAAAAAoGJAAAAAAACAZkAAAAAAAKBmQAAAAAAAIGFAAAAAAACAZkBDioCN0ZZoQAAAAAAAoGBAQ4qAjdGWaEAAAAAAADBxQEOKgI3RlmhAAAAAAABgakAAAAAAACBgQAAAAAAAoGJAQ4qAjdGWaEAAAAAAAIBiQAAAAAAAwGZAQ4qAjdGWaEBDioCN0ZZoQAAAAAAAgGtAAAAAAAAAZkAAAAAAAIBsQAAAAAAAwFlAQ4qAjdGWaEAAAAAAAEBbQAAAAAAAAGBAQ4qAjdGWaEAAAAAAAABeQEOKgI3RlmhAAAAAAAAAaUAAAAAAACByQAAAAAAAIGlAQ4qAjdGWaEAAAAAAAMBnQAAAAAAAgG1AQ4qAjdGWaEAAAAAAACBtQEOKgI3RlmhAAAAAAABAZkBDioCN0ZZoQAAAAAAAYGdAAAAAAACAcEAAAAAAAOBoQAAAAAAAwGhAQ4qAjdGWaEBDioCN0ZZoQEOKgI3RlmhAAAAAAAAgZ0AAAAAAACBvQAAAAAAAoGVAAAAAAACgb0AAAAAAAIBlQEOKgI3RlmhAAAAAAABAZUBDioCN0ZZoQAAAAAAA4GZAAAAAAACgbEAAAAAAAABoQAAAAAAAwGVAQ4qAjdGWaEAAAAAAAKBkQEOKgI3RlmhAAAAAAABAZkAAAAAAAIBvQAAAAAAA4GhAQ4qAjdGWaEAAAAAAAABpQAAAAAAAAGJAQ4qAjdGWaEAAAAAAAEBqQAAAAAAAgGNAAAAAAAAgaUBDioCN0ZZoQAAAAAAAQGZAQ4qAjdGWaEAAAAAAACBqQAAAAAAAIGJAQ4qAjdGWaEBDioCN0ZZoQAAAAAAAwGJAQ4qAjdGWaEAAAAAAAOBsQAAAAAAA8HBAAAAAAADgaEAAAAAAAIBjQEOKgI3RlmhAAAAAAABgY0AAAAAAAMBhQEOKgI3RlmhAQ4qAjdGWaEBDioCN0ZZoQEOKgI3RlmhAQ4qAjdGWaEAAAAAAAGBlQAAAAAAAIGZAAAAAAADAakBDioCN0ZZoQAAAAAAAIGVA",
          "dtype": "f8"
         },
         "xaxis": "x22",
         "yaxis": "y22"
        },
        {
         "histnorm": "density",
         "marker": {
          "color": "#636EFA"
         },
         "nbinsx": 50,
         "opacity": 0.8,
         "type": "histogram",
         "x": {
          "bdata": "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",
          "dtype": "f8"
         },
         "xaxis": "x23",
         "yaxis": "y23"
        },
        {
         "histnorm": "density",
         "marker": {
          "color": "#636EFA"
         },
         "nbinsx": 50,
         "opacity": 0.8,
         "type": "histogram",
         "x": {
          "bdata": "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",
          "dtype": "f8"
         },
         "xaxis": "x24",
         "yaxis": "y24"
        },
        {
         "histnorm": "density",
         "marker": {
          "color": "#636EFA"
         },
         "nbinsx": 50,
         "opacity": 0.8,
         "type": "histogram",
         "x": {
          "bdata": "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",
          "dtype": "f8"
         },
         "xaxis": "x25",
         "yaxis": "y25"
        },
        {
         "histnorm": "density",
         "marker": {
          "color": "#636EFA"
         },
         "nbinsx": 50,
         "opacity": 0.8,
         "type": "histogram",
         "x": {
          "bdata": "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",
          "dtype": "f8"
         },
         "xaxis": "x26",
         "yaxis": "y26"
        },
        {
         "histnorm": "density",
         "marker": {
          "color": "#636EFA"
         },
         "nbinsx": 50,
         "opacity": 0.8,
         "type": "histogram",
         "x": {
          "bdata": "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",
          "dtype": "f8"
         },
         "xaxis": "x27",
         "yaxis": "y27"
        },
        {
         "histnorm": "density",
         "marker": {
          "color": "#636EFA"
         },
         "nbinsx": 50,
         "opacity": 0.8,
         "type": "histogram",
         "x": {
          "bdata": "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",
          "dtype": "f8"
         },
         "xaxis": "x28",
         "yaxis": "y28"
        },
        {
         "histnorm": "density",
         "marker": {
          "color": "#636EFA"
         },
         "nbinsx": 50,
         "opacity": 0.8,
         "type": "histogram",
         "x": {
          "bdata": "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",
          "dtype": "f8"
         },
         "xaxis": "x29",
         "yaxis": "y29"
        },
        {
         "histnorm": "density",
         "marker": {
          "color": "#636EFA"
         },
         "nbinsx": 50,
         "opacity": 0.8,
         "type": "histogram",
         "x": {
          "bdata": "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",
          "dtype": "f8"
         },
         "xaxis": "x30",
         "yaxis": "y30"
        },
        {
         "histnorm": "density",
         "marker": {
          "color": "#636EFA"
         },
         "nbinsx": 50,
         "opacity": 0.8,
         "type": "histogram",
         "x": {
          "bdata": "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",
          "dtype": "f8"
         },
         "xaxis": "x31",
         "yaxis": "y31"
        },
        {
         "histnorm": "density",
         "marker": {
          "color": "#636EFA"
         },
         "nbinsx": 50,
         "opacity": 0.8,
         "type": "histogram",
         "x": {
          "bdata": "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",
          "dtype": "f8"
         },
         "xaxis": "x32",
         "yaxis": "y32"
        },
        {
         "histnorm": "density",
         "marker": {
          "color": "#636EFA"
         },
         "nbinsx": 50,
         "opacity": 0.8,
         "type": "histogram",
         "x": {
          "bdata": "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",
          "dtype": "f8"
         },
         "xaxis": "x33",
         "yaxis": "y33"
        },
        {
         "histnorm": "density",
         "marker": {
          "color": "#636EFA"
         },
         "nbinsx": 50,
         "opacity": 0.8,
         "type": "histogram",
         "x": {
          "bdata": "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",
          "dtype": "f8"
         },
         "xaxis": "x34",
         "yaxis": "y34"
        },
        {
         "histnorm": "density",
         "marker": {
          "color": "#636EFA"
         },
         "nbinsx": 50,
         "opacity": 0.8,
         "type": "histogram",
         "x": {
          "bdata": "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",
          "dtype": "f8"
         },
         "xaxis": "x35",
         "yaxis": "y35"
        },
        {
         "histnorm": "density",
         "marker": {
          "color": "#636EFA"
         },
         "nbinsx": 50,
         "opacity": 0.8,
         "type": "histogram",
         "x": {
          "bdata": "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",
          "dtype": "f8"
         },
         "xaxis": "x36",
         "yaxis": "y36"
        },
        {
         "histnorm": "density",
         "marker": {
          "color": "#636EFA"
         },
         "nbinsx": 50,
         "opacity": 0.8,
         "type": "histogram",
         "x": {
          "bdata": "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",
          "dtype": "f8"
         },
         "xaxis": "x37",
         "yaxis": "y37"
        },
        {
         "histnorm": "density",
         "marker": {
          "color": "#636EFA"
         },
         "nbinsx": 50,
         "opacity": 0.8,
         "type": "histogram",
         "x": {
          "bdata": "MzMzMzNTUkDNzMzMzMxBQM3MzMzMTDxAAAAAAAAAR0BmZmZmZiZLQGZmZmZmJlBAMzMzMzMzTEDNzMzMzExCQAAAAAAAIFJAmpmZmZlZTkAzMzMzMzM1QDMzMzMzc0lAAAAAAADAUUCamZmZmRlEQM3MzMzMTExAMzMzMzOTUEAAAAAAAABNQAAAAAAAAEdAAAAAAABAQkAzMzMzM3NPQGZmZmZmxlBAmpmZmZnZUUAAAAAAAEBPQM3MzMzMzFFAZmZmZmZmTEAAAAAAAGBRQGZmZmZmRlFAAAAAAACAVkAAAAAAAEBIQM3MzMzMDEdAZmZmZmamSEBmZmZmZmZEQGZmZmZmpk5AZmZmZmYGU0CamZmZmdlMQAAAAAAAwE9AzczMzMxMT0AzMzMzM/NMQJqZmZmZWUxAAAAAAAAgUUAzMzMzM3NIQM3MzMzMjE1AAAAAAABgUEAzMzMzM3NMQJqZmZmZWUhAAAAAAACASUAAAAAAAMBNQGZmZmZmJk5AZmZmZmbmSECamZmZmZlJQDMzMzMzc09AmpmZmZlZS0AAAAAAAMBOQGZmZmZmJlRAZmZmZmZmSkCamZmZmZlMQAAAAAAAYFRAZmZmZmZmU0DNzMzMzExTQAAAAAAAIFJAAAAAAACAVkAAAAAAAIBSQDMzMzMzs0pAAAAAAACAVkDNzMzMzEw6QAAAAAAAgDpAzczMzMyMUEAzMzMzM3NPQM3MzMzMbFBAzczMzMwMTEAzMzMzM/NIQGZmZmZmpk5AMzMzMzNzS0CamZmZmVlQQAAAAAAAgFJAZmZmZmamTkCamZmZmVlQQAAAAAAAQEpAmpmZmZnZUEDNzMzMzMxHQJqZmZmZmUxAMzMzMzNTUUDNzMzMzCxRQAAAAAAAQFFAmpmZmZmZSkCamZmZmXlTQJqZmZmZmVNAMzMzMzMzUEBmZmZmZgZRQJqZmZmZmVNAAAAAAADgUkDNzMzMzCxQQAAAAAAAgFJAMzMzMzNzUUAAAAAAAIBSQJqZmZmZmVBAzczMzMzMUECamZmZmVlLQM3MzMzMjElAmpmZmZmZT0AAAAAAACBTQDMzMzMzU1JAzczMzMwsUUAzMzMzM/NPQAAAAAAAIFRAAAAAAACAVkAAAAAAAIBWQDMzMzMzs01AmpmZmZnZTUAzMzMzM3NLQM3MzMzMDEVAzczMzMzMTEAAAAAAAIBWQDMzMzMzM09AAAAAAACAVkAAAAAAACBUQDMzMzMzs09AAAAAAAAAUUCamZmZmTlQQAAAAAAAwEtAMzMzMzMzT0AAAAAAAMBVQJqZmZmZeVJAMzMzMzPzUEAAAAAAAOBTQAAAAAAAYFVAMzMzMzOzSEBmZmZmZoZSQJqZmZmZ2VJAzczMzMzsU0AzMzMzM5NUQGZmZmZmplJAMzMzMzMzUkAAAAAAAMBKQAAAAAAAgElAmpmZmZlZTkCamZmZmflRQAAAAAAAACRAZmZmZmamQkAzMzMzMxNUQM3MzMzM7FRAZmZmZmZmTEDNzMzMzAxSQDMzMzMz01NAmpmZmZmZT0AzMzMzM3NLQM3MzMzMTEtAAAAAAAAAUUAAAAAAAGBQQGZmZmZmhlBAAAAAAACgVUAAAAAAAIBWQAAAAAAAgFZAZmZmZmYmTEDNzMzMzIxSQGZmZmZmBlBAMzMzMzNzS0BmZmZmZqZFQGZmZmZmhlFAmpmZmZlZREDNzMzMzMxLQM3MzMzMTEdAZmZmZmYGUEBmZmZmZkZRQDMzMzMzc0lAMzMzMzMzTEAAAAAAAIBMQM3MzMzMTFBAmpmZmZkZT0AzMzMzM/NQQGZmZmZmJklAAAAAAAAAUUDNzMzMzMxCQM3MzMzMDElAzczMzMzMVUAzMzMzM7NJQJqZmZmZmVBAAAAAAABgUUBmZmZmZuZGQAAAAAAAgExAzczMzMyMT0CamZmZmflSQAAAAAAAgFZAAAAAAABgUEBmZmZmZiZOQAAAAAAAgFZAmpmZmZkZSUAAAAAAAEBOQJqZmZmZ2UhAzczMzMzMTUAAAAAAAIBWQM3MzMzMDFNAMzMzMzPzTkCamZmZmVlNQJqZmZmZmUhAZmZmZmYmTUCamZmZmZlSQGZmZmZmpkpAAAAAAACgUUAzMzMzMxNQQAAAAAAAAE5AzczMzMzMSkAzMzMzMzNMQDMzMzMzU1FAmpmZmZnZREBmZmZmZgZTQDMzMzMzM1JAzczMzMzMUUAzMzMzM1NUQGZmZmZmpkxAAAAAAADgUkCamZmZmXlSQM3MzMzMbFJAmpmZmZnZUEAAAAAAAIBMQM3MzMzMDFVAZmZmZmYmSEAzMzMzM5NSQDMzMzMzU1NAMzMzMzPzVUAzMzMzM3NOQAAAAAAAgFZAZmZmZmamVEBmZmZmZiZRQAAAAAAAgFZAzczMzMyMTUAAAAAAAKBRQAAAAAAAgFZAAAAAAADgUUCamZmZmXlRQDMzMzMzk1BAzczMzMxsU0AAAAAAAMBMQGZmZmZmZkdAAAAAAACAVkAAAAAAAGBQQDMzMzMz81FAmpmZmZl5U0DNzMzMzIxIQDMzMzMz01JAzczMzMyMSUDNzMzMzAxSQAAAAAAAgExAZmZmZmamTEAzMzMzM7NOQJqZmZmZ2U1AZmZmZmaGUUAAAAAAAIBWQAAAAAAAoFFAZmZmZmZmTUAAAAAAAGBUQJqZmZmZ2VRAmpmZmZk5U0AAAAAAAIBWQDMzMzMz81FAAAAAAACAVkBmZmZmZiZDQGZmZmZmZkZAZmZmZmZmUEBmZmZmZqZNQJqZmZmZ2UpAmpmZmZmZRkAAAAAAAMBIQJqZmZmZmUlAAAAAAAAAS0BmZmZmZsZTQM3MzMzMDFBAzczMzMzMUEAzMzMzM3NUQGZmZmZmZlBAAAAAAAAAREBmZmZmZiZOQGZmZmZmJlJAMzMzMzNzT0AAAAAAAIBWQDMzMzMzk1NAAAAAAABgU0CamZmZmZlSQAAAAAAAgFZAAAAAAACAVkDNzMzMzMxLQAAAAAAAgFJAmpmZmZm5UUAAAAAAAIBSQAAAAAAAwFNAzczMzMyMVUAAAAAAAIBWQAAAAAAAgFZAZmZmZmYmUkBmZmZmZmZFQAAAAAAAgFZAMzMzMzOTVEBmZmZmZiZKQDMzMzMzk1FAzczMzMwMSEBmZmZmZqZHQAAAAAAAAFBAAAAAAACAVkBmZmZmZuZSQAAAAAAAgFZAzczMzMzsUEAAAAAAAABPQM3MzMzMTExAAAAAAABAVEAAAAAAAEBQQAAAAAAAAE1AMzMzMzOzUECamZmZmRlSQDMzMzMz01FAZmZmZmamQUDNzMzMzAxPQJqZmZmZGTlAmpmZmZnZSUAzMzMzM7NJQM3MzMzMjE9AmpmZmZk5UEAzMzMzMzNPQDMzMzMzs01AAAAAAACARUAAAAAAAMBNQGZmZmZmZk9AzczMzMysUUAzMzMzMzNMQAAAAAAAYFJAzczMzMyMTkBmZmZmZsZTQGZmZmZm5k1AZmZmZmamT0CamZmZmblSQGZmZmZmJk1AMzMzMzNzTUAzMzMzM/NIQAAAAAAAgExAAAAAAAAAQ0CamZmZmVlNQAAAAAAAYFBAMzMzMzOTUUCamZmZmRlJQDMzMzMzc1BAmpmZmZmZQEAzMzMzM5NRQM3MzMzMjE5AAAAAAADAUkDNzMzMzMxTQJqZmZmZGUxAAAAAAAAAUECamZmZmRlDQDMzMzMz81RAMzMzMzNTU0DNzMzMzIxGQDMzMzMzM0pAAAAAAACgVEDNzMzMzIxEQAAAAAAAQExAZmZmZmYmUECamZmZmZlNQM3MzMzMzEpAZmZmZmbmUECamZmZmdlRQM3MzMzMrFBAZmZmZmbGU0DNzMzMzIxSQAAAAAAAAFNAzczMzMwsVEAAAAAAAMBNQGZmZmZmJkxAAAAAAABAR0AAAAAAAMBQQGZmZmZmxlFAMzMzMzPTUkAAAAAAAEBNQAAAAAAA4FBAMzMzMzMzVUBmZmZmZiZSQM3MzMzMbFBAMzMzMzNzTkDNzMzMzMxNQDMzMzMzM05AZmZmZmZGUECamZmZmVlSQJqZmZmZ2VBAZmZmZmYmT0AAAAAAAIBWQAAAAAAAIFBAmpmZmZmZTEAzMzMzM/NRQDMzMzMzU1JAAAAAAADASEAAAAAAAKBRQDMzMzMzs05AZmZmZmYmRUBmZmZmZiZSQAAAAAAAwE9AzczMzMxMTkAzMzMzM1NQQAAAAAAAIFVAzczMzMwsUUAAAAAAAIBGQJqZmZmZWUxAAAAAAACAT0AzMzMzM7NJQDMzMzMzc1NAMzMzMzPTUEAAAAAAAIBWQDMzMzMzc1BAmpmZmZmZSEAAAAAAAIBHQJqZmZmZmVJAzczMzMxMP0CamZmZmTlRQGZmZmZmBlJAAAAAAABATECamZmZmblSQM3MzMzMLFNAMzMzMzOzU0AAAAAAAIBWQM3MzMzMjFNAzczMzMxMVUCamZmZmdlEQDMzMzMzM01AAAAAAACATkCamZmZmTlTQM3MzMzM7FFAMzMzMzMzTEAAAAAAAIBWQJqZmZmZ2UtAMzMzMzNTVUAAAAAAAIBWQJqZmZmZGVJAMzMzMzMTUUAAAAAAAMBQQJqZmZmZGVFAAAAAAAAgUUAAAAAAAIBIQAAAAAAAQE5AAAAAAABAT0DNzMzMzKxVQAAAAAAAgFZAZmZmZmZmT0AAAAAAAIBWQAAAAAAAIFJAAAAAAACAVkDNzMzMzGxUQDMzMzMz81NAAAAAAADAUEAAAAAAAIBPQAAAAAAAAFRAmpmZmZkZVECamZmZmdlLQAAAAAAAgFZAMzMzMzNzR0BmZmZmZuZUQDMzMzMzs05AZmZmZmZGUUAAAAAAAMBTQDMzMzMzc05AAAAAAACAVkAzMzMzM/NTQDMzMzMzc1NAmpmZmZk5UkAzMzMzM5NSQAAAAAAAgFZAMzMzMzMzT0AAAAAAAGBVQDMzMzMzc0dAMzMzMzNzRUAAAAAAAABQQDMzMzMzs0FAZmZmZmYGUUAAAAAAAEBJQDMzMzMzs1BAmpmZmZlZTUAzMzMzM1NRQDMzMzMzM09AZmZmZmZmUkAAAAAAAABQQGZmZmZm5kxAMzMzMzPzTECamZmZmdlNQDMzMzMz81BAAAAAAADAUkDNzMzMzExRQJqZmZmZ2UpAMzMzMzMzTkCamZmZmZlOQDMzMzMzc05AMzMzMzOzUEAAAAAAAIBHQM3MzMzMzE9AMzMzMzMzTUDNzMzMzIxRQJqZmZmZmUZAZmZmZmaGVUCamZmZmRlOQAAAAAAAYFJAAAAAAAAAEEAzMzMzM7NMQGZmZmZmpkpAmpmZmZkZUkBmZmZmZuZVQGZmZmZm5lFAAAAAAAAgVECamZmZmdlMQGZmZmZmZk1AzczMzMwMRUBmZmZmZqZMQGZmZmZmZk9AzczMzMysU0AzMzMzMzNVQDMzMzMzc1VAZmZmZmYGUEAzMzMzM9NUQGZmZmZmhlBAMzMzMzPzUEDNzMzMzIxDQGZmZmZmpkZAZmZmZmZmTEAzMzMzMzNSQJqZmZmZmVBAMzMzMzNTUUAzMzMzM5NRQDMzMzMz81JAmpmZmZmZTkAAAAAAAIBWQM3MzMzMjE9AAAAAAAAAPkAAAAAAAIBWQGZmZmZmJlJAMzMzMzNzTEDNzMzMzCxTQDMzMzMzM1BAzczMzMwMUEAzMzMzM3NJQAAAAAAAgE5AAAAAAACAVkBmZmZmZsZQQM3MzMzM7FNAzczMzMzsU0AAAAAAAABJQAAAAAAAgEhAzczMzMxsUkAzMzMzMzNRQDMzMzMzc0pAAAAAAAAAT0AAAAAAAIBFQJqZmZmZeVBAzczMzMzsUUDNzMzMzMxSQAAAAAAAgFZAMzMzMzOzVEAAAAAAAEBPQJqZmZmZ2UtAmpmZmZnZSUAzMzMzM5NSQAAAAAAAgFZAMzMzMzPzUkAAAAAAAEBUQGZmZmZmZkxAAAAAAACAUEAAAAAAAIBWQM3MzMzMbFRAAAAAAACgUUAAAAAAAMBJQGZmZmZmpk5AAAAAAAAgUkBmZmZmZqZHQDMzMzMz80lAZmZmZmZGVEDNzMzMzIxNQM3MzMzMjFFAmpmZmZm5U0AAAAAAAEBKQAAAAAAAgFZAAAAAAACAVkAAAAAAAIBWQDMzMzMzM1BAMzMzMzOzUEAAAAAAAIBWQGZmZmZmJklAMzMzMzPzSUDNzMzMzOxRQAAAAAAAgFZAAAAAAACAVkAzMzMzM1NTQAAAAAAAIFFAAAAAAACAUEAzMzMzM1NQQAAAAAAAgFZAMzMzMzMTUUAzMzMzMxNTQJqZmZmZ+VFAMzMzMzPzVEAAAAAAAIBWQAAAAAAAgFZAZmZmZmZGU0BmZmZmZgZTQAAAAAAAYFJAAAAAAACAVkCamZmZmblQQDMzMzMzM1RAMzMzMzOTVUAAAAAAAIBWQGZmZmZmRlNAzczMzMwsUUAAAAAAAIBWQAAAAAAAIFNAAAAAAACAVkDNzMzMzKxSQAAAAAAAgFZAmpmZmZmZVUAAAAAAAIBWQAAAAAAAAEJAAAAAAACAVkAAAAAAAIBWQAAAAAAAwFJAAAAAAACAVkAAAAAAAIBSQM3MzMzM7FRAzczMzMxMPUAzMzMzMzNUQGZmZmZm5k1AmpmZmZlZUkCamZmZmZlKQAAAAAAAwE9AMzMzMzPzR0BmZmZmZiZKQDMzMzMzs0FAzczMzMzMTkAzMzMzM3NKQM3MzMzMzElAmpmZmZkZT0AAAAAAAIBPQM3MzMzMbFBAzczMzMzMTkCamZmZmRlMQAAAAAAAwE5AmpmZmZlZS0AAAAAAACBRQDMzMzMz81BAMzMzMzOzTUBmZmZmZoZSQDMzMzMz81JAMzMzMzMzS0BmZmZmZiZJQDMzMzMzk1JAAAAAAADgU0AAAAAAAKBQQGZmZmZm5k5AAAAAAADATUAAAAAAAIBCQDMzMzMzE1FAAAAAAABAREDNzMzMzOxUQM3MzMzMbFFAmpmZmZn5UkDNzMzMzAxGQDMzMzMzU1FAzczMzMwMSkAAAAAAAIBJQJqZmZmZeVFAMzMzMzPzSEAAAAAAAMBIQGZmZmZmJkpAAAAAAAAgUkAAAAAAAMBPQGZmZmZm5lBAZmZmZmamRkDNzMzMzMxMQM3MzMzMDFNAAAAAAACgUUAzMzMzM7NQQDMzMzMzM0JAzczMzMzMT0AzMzMzM3NTQM3MzMzMDFFAZmZmZmbmUEBmZmZmZqZMQDMzMzMz80tAZmZmZmZmUUAAAAAAAEBKQAAAAAAAAFNAAAAAAACAVkBmZmZmZoZRQAAAAAAA4FJAZmZmZmYmQ0BmZmZmZiZDQDMzMzMzk1JAzczMzMwMUkAAAAAAAIBWQJqZmZmZGVBAzczMzMxMT0AzMzMzMzNQQJqZmZmZeVFAzczMzMzsUkAAAAAAAABQQM3MzMzMDFJAAAAAAACAVkCamZmZmRlOQM3MzMzMTFBAmpmZmZlZSECamZmZmTlRQGZmZmZmhlFAZmZmZmbmTkBmZmZmZmZTQAAAAAAAgFZAMzMzMzOzSECamZmZmflQQM3MzMzMTEVAAAAAAADAQkAAAAAAAKBRQM3MzMzMDEZAmpmZmZmZVUCamZmZmVlUQM3MzMzMTFRAZmZmZmYmUEAAAAAAAMBMQJqZmZmZGU5AMzMzMzNzS0DNzMzMzAxDQDMzMzMzU1BAMzMzMzOzUkBmZmZmZmZPQJqZmZmZOVJAzczMzMysU0BmZmZmZsZRQJqZmZmZWUxAzczMzMxMQkCamZmZmdlMQM3MzMzMzFBAmpmZmZnZSkAzMzMzM/NPQDMzMzMzE1BAAAAAAADgUUAzMzMzM5NSQAAAAAAAgFZAAAAAAABgUkAAAAAAAEBOQAAAAAAAQFBAmpmZmZnZR0DNzMzMzExLQAAAAAAA4FNAZmZmZmZGU0AzMzMzM/NTQGZmZmZm5lNAMzMzMzOzVUAAAAAAAIBMQAAAAAAAIFBAMzMzMzNzTUCamZmZmRlRQDMzMzMzs05AAAAAAACAVkAAAAAAAMBFQAAAAAAAgFZAMzMzMzNTUUAAAAAAAABRQAAAAAAAgFZAAAAAAAAgUEDNzMzMzIxFQJqZmZmZ2VJAAAAAAACAVkDNzMzMzMxNQGZmZmZmJlNAAAAAAACgU0DNzMzMzIxNQDMzMzMzc0NAMzMzMzNzTUDNzMzMzOxTQAAAAAAAgFZAZmZmZmamU0CamZmZmblSQAAAAAAAgFZAMzMzMzMTUUAzMzMzM3NMQAAAAAAAgFZAmpmZmZm5UEAzMzMzM9NTQDMzMzMzc1BAZmZmZmZmTkDNzMzMzAxNQGZmZmZmpk9AAAAAAACARkCamZmZmVlIQM3MzMzMjERAZmZmZmYGVUAzMzMzM3NCQJqZmZmZmVBAZmZmZmamT0BmZmZmZkZSQM3MzMzMTFJAMzMzMzPTUkBmZmZmZuY8QAAAAAAAAEhAZmZmZmbmUEBmZmZmZqZAQM3MzMzMzFJAZmZmZmamR0CamZmZmZlDQDMzMzMz805AMzMzMzNTUkDNzMzMzAxHQJqZmZmZ2U9AmpmZmZmZT0BmZmZmZmZRQGZmZmZmJk1AMzMzMzPzR0DNzMzMzAxIQAAAAAAAIFJAzczMzMzMTUBmZmZmZmZNQAAAAAAAwEpAZmZmZmYGVUAAAAAAAABLQM3MzMzMTFBAZmZmZmamSkDNzMzMzAxRQGZmZmZm5k5AZmZmZmamR0AAAAAAAIBIQM3MzMzMjElAMzMzMzMzSUBmZmZmZsZQQDMzMzMzM1FAMzMzMzMzUUBmZmZmZqZGQAAAAAAAQE1AMzMzMzNTU0AzMzMzM7NRQJqZmZmZmURAmpmZmZmZTkDNzMzMzExNQM3MzMzMzExAzczMzMzMT0CamZmZmVlIQDMzMzMzU1BAZmZmZmZmTUCamZmZmTlQQJqZmZmZWU5AAAAAAAAATEAzMzMzM3NSQDMzMzMzE1BAZmZmZmaGUUCamZmZmRlLQGZmZmZmJkRAZmZmZmYmUkCamZmZmRlPQJqZmZmZ2VBAzczMzMwMUEAAAAAAAIBKQDMzMzMzM1FAMzMzMzMTU0AzMzMzMzNNQGZmZmZm5lJAmpmZmZmZVEDNzMzMzCxUQDMzMzMz805AZmZmZmbmTEAAAAAAAIBCQDMzMzMzc05AAAAAAACgUkBmZmZmZqZGQM3MzMzMDE1AmpmZmZl5U0AzMzMzM7NMQAAAAAAAgE5AZmZmZmYmUkAAAAAAAABPQDMzMzMz80lAMzMzMzNzUUDNzMzMzAxRQJqZmZmZOVFAAAAAAACATEAAAAAAAMBQQGZmZmZmxlFAAAAAAADgUEAzMzMzM1NTQJqZmZmZeVFAmpmZmZkZR0DNzMzMzMxNQAAAAAAAgEhAmpmZmZnZRUAzMzMzM7MxQAAAAAAAgFZAMzMzMzNzQ0CamZmZmdlRQDMzMzMz01BAmpmZmZl5VUBmZmZmZuZSQAAAAAAAgFZAmpmZmZkZTkCamZmZmdlPQDMzMzMzc1NAMzMzMzOzUkAzMzMzM7NPQDMzMzMzs05AAAAAAACAVkCamZmZmVlNQAAAAAAAQFVAMzMzMzPTVUAAAAAAAGBVQAAAAAAAgElAAAAAAACAVkBmZmZmZiZVQM3MzMzMTFNAAAAAAADAUEDNzMzMzExSQDMzMzMzc1VAMzMzMzOzTEBmZmZmZmZTQAAAAAAA4FFAAAAAAADARUCamZmZmZlLQAAAAAAAAFBAMzMzMzMzVkAAAAAAAIBWQDMzMzMzM1FAMzMzMzMTVkCamZmZmVlRQJqZmZmZWU9AzczMzMyMTUBmZmZmZqZEQGZmZmZmpk5AzczMzMxMS0CamZmZmRlOQDMzMzMzs05AAAAAAACAVkAAAAAAAIBWQAAAAAAAQFRAAAAAAACAVkCamZmZmRlMQJqZmZmZ2VBAZmZmZmZmUUAzMzMzM3NTQJqZmZmZmUlA",
          "dtype": "f8"
         },
         "xaxis": "x38",
         "yaxis": "y38"
        },
        {
         "histnorm": "density",
         "marker": {
          "color": "#636EFA"
         },
         "nbinsx": 50,
         "opacity": 0.8,
         "type": "histogram",
         "x": {
          "bdata": "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",
          "dtype": "f8"
         },
         "xaxis": "x39",
         "yaxis": "y39"
        },
        {
         "histnorm": "density",
         "marker": {
          "color": "#636EFA"
         },
         "nbinsx": 50,
         "opacity": 0.8,
         "type": "histogram",
         "x": {
          "bdata": "8AM/8APnTUDwAz/wA+dNQPADP/AD501A8AM/8APnTUDwAz/wA+dNQPADP/AD501A8AM/8APnTUDwAz/wA+dNQPADP/AD501A8AM/8APnTUDwAz/wA+dNQPADP/AD501A8AM/8APnTUDwAz/wA+dNQPADP/AD501A8AM/8APnTUDwAz/wA+dNQPADP/AD501A8AM/8APnTUDwAz/wA+dNQPADP/AD501A8AM/8APnTUDwAz/wA+dNQPADP/AD501A8AM/8APnTUDwAz/wA+dNQPADP/AD501A8AM/8APnTUDwAz/wA+dNQPADP/AD501A8AM/8APnTUDwAz/wA+dNQPADP/AD501A8AM/8APnTUDwAz/wA+dNQPADP/AD501A8AM/8APnTUDwAz/wA+dNQPADP/AD501A8AM/8APnTUDwAz/wA+dNQPADP/AD501A8AM/8APnTUDwAz/wA+dNQPADP/AD501A8AM/8APnTUDwAz/wA+dNQPADP/AD501A8AM/8APnTUDwAz/wA+dNQPADP/AD501A8AM/8APnTUDwAz/wA+dNQPADP/AD501A8AM/8APnTUDwAz/wA+dNQPADP/AD501A8AM/8APnTUDwAz/wA+dNQPADP/AD501A8AM/8APnTUDwAz/wA+dNQPADP/AD501A8AM/8APnTUDwAz/wA+dNQPADP/AD501A8AM/8APnTUDwAz/wA+dNQPADP/AD501A8AM/8APnTUDwAz/wA+dNQPADP/AD501A8AM/8APnTUDwAz/wA+dNQPADP/AD501A8AM/8APnTUDwAz/wA+dNQPADP/AD501A8AM/8APnTUDwAz/wA+dNQPADP/AD501A8AM/8APnTUDwAz/wA+dNQPADP/AD501A8AM/8APnTUDwAz/wA+dNQPADP/AD501A8AM/8APnTUDwAz/wA+dNQPADP/AD501A8AM/8APnTUDwAz/wA+dNQPADP/AD501A8AM/8APnTUDwAz/wA+dNQPADP/AD501A8AM/8APnTUDwAz/wA+dNQPADP/AD501A8AM/8APnTUDwAz/wA+dNQPADP/AD501A8AM/8APnTUDwAz/wA+dNQPADP/AD501A8AM/8APnTUDwAz/wA+dNQPADP/AD501A8AM/8APnTUDwAz/wA+dNQPADP/AD501A8AM/8APnTUDwAz/wA+dNQPADP/AD501A8AM/8APnTUDwAz/wA+dNQPADP/AD501A8AM/8APnTUDwAz/wA+dNQPADP/AD501A8AM/8APnTUDwAz/wA+dNQPADP/AD501A8AM/8APnTUDwAz/wA+dNQPADP/AD501A8AM/8APnTUDwAz/wA+dNQPADP/AD501A8AM/8APnTUDwAz/wA+dNQPADP/AD501A8AM/8APnTUDwAz/wA+dNQPADP/AD501A8AM/8APnTUDwAz/wA+dNQPADP/AD501A8AM/8APnTUDwAz/wA+dNQPADP/AD501A8AM/8APnTUDwAz/wA+dNQPADP/AD501A8AM/8APnTUDwAz/wA+dNQPADP/AD501A8AM/8APnTUDwAz/wA+dNQPADP/AD501A8AM/8APnTUDwAz/wA+dNQPADP/AD501A8AM/8APnTUDwAz/wA+dNQAAAAAAAQFVAAAAAAACAVkAAAAAAAAA3QPADP/AD501AAAAAAADAU0AAAAAAAAA3QPADP/AD501A8AM/8APnTUDwAz/wA+dNQAAAAAAAAEVAAAAAAAAAR0AAAAAAAIBWQPADP/AD501AAAAAAACAVkAAAAAAAIBWQAAAAAAAAPA/8AM/8APnTUAAAAAAAIBWQAAAAAAAAEdA8AM/8APnTUAAAAAAAEBSQAAAAAAAgFZA8AM/8APnTUDwAz/wA+dNQAAAAAAAgEpAAAAAAAAAN0DwAz/wA+dNQPADP/AD501AAAAAAAAAQUAAAAAAAIBWQPADP/AD501AAAAAAAAAHEAAAAAAAIBQQPADP/AD501AAAAAAACAVkDwAz/wA+dNQPADP/AD501A8AM/8APnTUAAAAAAAAA3QPADP/AD501A8AM/8APnTUAAAAAAAABBQAAAAAAAABxA8AM/8APnTUAAAAAAAIBWQPADP/AD501A8AM/8APnTUAAAAAAAAA3QAAAAAAAgFZAAAAAAACAVkDwAz/wA+dNQAAAAAAAAEFAAAAAAAAAN0AAAAAAAIBSQPADP/AD501AAAAAAACAVkAAAAAAAIBWQAAAAAAAgFJAAAAAAAAARUDwAz/wA+dNQPADP/AD501AAAAAAACAUkAAAAAAAIBWQPADP/AD501A8AM/8APnTUAAAAAAAIBWQPADP/AD501AAAAAAADAU0DwAz/wA+dNQPADP/AD501A8AM/8APnTUDwAz/wA+dNQAAAAAAAAEdA8AM/8APnTUDwAz/wA+dNQAAAAAAAgFZAAAAAAACAVkAAAAAAAABBQAAAAAAAQFBAAAAAAAAATUAAAAAAAIBWQAAAAAAAgFBA8AM/8APnTUDwAz/wA+dNQPADP/AD501A8AM/8APnTUDwAz/wA+dNQPADP/AD501AAAAAAAAARUAAAAAAAAAUQAAAAAAAgFZA8AM/8APnTUAAAAAAAIBWQPADP/AD501AAAAAAAAAHEDwAz/wA+dNQAAAAAAAAC5AAAAAAAAAQUAAAAAAAIBSQAAAAAAAAC5A8AM/8APnTUDwAz/wA+dNQPADP/AD501AAAAAAAAATUDwAz/wA+dNQAAAAAAAgFBA8AM/8APnTUAAAAAAAAAuQAAAAAAAgFZA8AM/8APnTUAAAAAAAABNQPADP/AD501A8AM/8APnTUAAAAAAAAA3QPADP/AD501A8AM/8APnTUDwAz/wA+dNQAAAAAAAAExAAAAAAAAAKkDwAz/wA+dNQAAAAAAAgFZA8AM/8APnTUDwAz/wA+dNQPADP/AD501AAAAAAACAVkDwAz/wA+dNQAAAAAAAgFZAAAAAAAAAQUAAAAAAAIBWQAAAAAAAgFZA8AM/8APnTUDwAz/wA+dNQPADP/AD501AAAAAAAAAR0DwAz/wA+dNQPADP/AD501A8AM/8APnTUDwAz/wA+dNQPADP/AD501AAAAAAAAAHEDwAz/wA+dNQAAAAAAAgFZAAAAAAACAVkDwAz/wA+dNQPADP/AD501A8AM/8APnTUAAAAAAAAAuQPADP/AD501AAAAAAACAVkDwAz/wA+dNQPADP/AD501A8AM/8APnTUAAAAAAAIBWQPADP/AD501A8AM/8APnTUAAAAAAAIBWQPADP/AD501AAAAAAAAACEAAAAAAAIBWQAAAAAAAgFNAAAAAAACAUEAAAAAAAAAQQAAAAAAAgFNA8AM/8APnTUDwAz/wA+dNQAAAAAAAAENA8AM/8APnTUDwAz/wA+dNQAAAAAAAgFJA8AM/8APnTUAAAAAAAIBWQPADP/AD501AAAAAAACAOEAAAAAAAABHQAAAAAAAAChA8AM/8APnTUDwAz/wA+dNQAAAAAAAQEpAAAAAAACANkDwAz/wA+dNQAAAAAAAAEdAAAAAAAAAT0AAAAAAAIBJQAAAAAAAgEhAAAAAAAAAKkAAAAAAAIBWQPADP/AD501AAAAAAABAUEAAAAAAAIBWQPADP/AD501AAAAAAACAVkAAAAAAAAA3QAAAAAAAgElA8AM/8APnTUAAAAAAAABHQAAAAAAAACpAAAAAAACAVkAAAAAAAABEQAAAAAAAQEhAAAAAAAAAQEAAAAAAAABRQAAAAAAAgEVAAAAAAAAAGkAAAAAAAAA6QAAAAAAAAE9AAAAAAAAAN0AAAAAAAIBEQAAAAAAAgFZA8AM/8APnTUAAAAAAAGBQQPADP/AD501AAAAAAACAVkAAAAAAAABAQAAAAAAAgFZAAAAAAACAUkAAAAAAAIBOQAAAAAAAgFZAAAAAAACAVkAAAAAAAIBWQAAAAAAAgFZAAAAAAABAUkDwAz/wA+dNQAAAAAAAAEBAAAAAAACAO0AAAAAAAIBWQAAAAAAAQEpAAAAAAABASkAAAAAAAIBUQAAAAAAAwEJAAAAAAADAR0AAAAAAAMBUQAAAAAAAQFJA8AM/8APnTUAAAAAAAIBWQPADP/AD501A8AM/8APnTUAAAAAAAABRQAAAAAAAgFZAAAAAAACASUDwAz/wA+dNQPADP/AD501AAAAAAACAU0AAAAAAAABAQAAAAAAAAEtAAAAAAAAAT0DwAz/wA+dNQAAAAAAAgFZA8AM/8APnTUDwAz/wA+dNQAAAAAAAgFZAAAAAAAAAR0AAAAAAAAAyQAAAAAAAgFZAAAAAAACAVkAAAAAAAIBWQPADP/AD501AAAAAAACAVkAAAAAAAIBWQPADP/AD501AAAAAAABASkDwAz/wA+dNQAAAAAAAwElAAAAAAACAUEAAAAAAAIBEQAAAAAAAgFZAAAAAAACAVkAAAAAAAAAIQAAAAAAAQExAAAAAAACAVkAAAAAAAGBSQPADP/AD501AAAAAAACAVkDwAz/wA+dNQAAAAAAAgFZAAAAAAACAVkDwAz/wA+dNQAAAAAAAAEBAAAAAAACAVkAAAAAAAAAIQPADP/AD501AAAAAAACAVkDwAz/wA+dNQAAAAAAAgFZA8AM/8APnTUDwAz/wA+dNQAAAAAAAgFZA8AM/8APnTUAAAAAAAIBSQAAAAAAAgFZAAAAAAABAQUAAAAAAAIBWQAAAAAAAgFZAAAAAAACAVkAAAAAAAABHQPADP/AD501A8AM/8APnTUAAAAAAAIBWQAAAAAAAgDhA8AM/8APnTUAAAAAAAIBWQAAAAAAAAE1AAAAAAACAVkDwAz/wA+dNQAAAAAAAQFJAAAAAAACAVkAAAAAAAIBWQAAAAAAAgFZAAAAAAACAVkDwAz/wA+dNQAAAAAAAAD5AAAAAAAAAMkAAAAAAAEBHQAAAAAAAAC5AAAAAAACAVkAAAAAAAIBKQJqZmZmZWU1A8AM/8APnTUDwAz/wA+dNQPADP/AD501AMzMzMzPTU0AAAAAAAIBWQDMzMzMz01JAAAAAAAAAPEAAAAAAAIBWQDMzMzMz01FAmpmZmZlZTUAAAAAAAMBGQGZmZmZmpkVAAAAAAAAAS0AAAAAAAMBCQPADP/AD501AAAAAAAAASUAAAAAAAIBDQAAAAAAAAFFA8AM/8APnTUDwAz/wA+dNQPADP/AD501AAAAAAAAAT0CamZmZmdlEQPADP/AD501A8AM/8APnTUDwAz/wA+dNQPADP/AD501A8AM/8APnTUAAAAAAAKBRQDMzMzMzszVA8AM/8APnTUCamZmZmdlOQAAAAAAAAEFAAAAAAAAAFECamZmZmdlDQAAAAAAAgFZAZmZmZmYmREDwAz/wA+dNQAAAAAAAgFZAAAAAAACgVUAAAAAAAAAsQAAAAAAAgFJAAAAAAACAQkAAAAAAAAAwQGZmZmZmpkZAAAAAAAAAJkAAAAAAAEBHQPADP/AD501AmpmZmZlZTkDwAz/wA+dNQPADP/AD501AAAAAAAAAT0DwAz/wA+dNQPADP/AD501A8AM/8APnTUAAAAAAAABQQAAAAAAAgElAAAAAAACAUEDwAz/wA+dNQAAAAAAAgFJAAAAAAACAVkAAAAAAAIBWQPADP/AD501AAAAAAACAVkAzMzMzM1NRQAAAAAAAgFZAAAAAAACAVkAAAAAAAIBWQAAAAAAAAEBAzczMzMysU0AAAAAAAIBWQAAAAAAAAEVAAAAAAACAVkDwAz/wA+dNQJqZmZmZ2UhAMzMzMzPTU0AAAAAAAIBWQPADP/AD501A8AM/8APnTUAAAAAAAIBSQJqZmZmZ2UxAAAAAAACAVkDwAz/wA+dNQPADP/AD501AAAAAAAAAN0AAAAAAAIBWQAAAAAAAAEdAAAAAAACAVkAAAAAAAIBOQAAAAAAAgFZAAAAAAACAVkBmZmZmZqZJQAAAAAAAAFBAAAAAAAAAGEAAAAAAAIBWQM3MzMzMTDRAZmZmZmYmR0AAAAAAAABHQAAAAAAAYFNAAAAAAADAUEAAAAAAAEBIQPADP/AD501A8AM/8APnTUDwAz/wA+dNQAAAAAAAgFZA8AM/8APnTUAAAAAAAIBWQAAAAAAAgEpAAAAAAAAALkAAAAAAAIBDQPADP/AD501AAAAAAACAVkDNzMzMzCxRQAAAAAAAAElAAAAAAACAUEAAAAAAAIBWQPADP/AD501AAAAAAACAVkAAAAAAAIBWQPADP/AD501AAAAAAACAVkDwAz/wA+dNQAAAAAAAwFNAAAAAAAAAUUAAAAAAAABUQM3MzMzMrFNA8AM/8APnTUDwAz/wA+dNQAAAAAAAgFZAAAAAAAAATUDwAz/wA+dNQGZmZmZmpkZA8AM/8APnTUAAAAAAAIBWQPADP/AD501A8AM/8APnTUDwAz/wA+dNQPADP/AD501AAAAAAAAARUAAAAAAAIBWQPADP/AD501AAAAAAACAVkDwAz/wA+dNQPADP/AD501AAAAAAACAVkDwAz/wA+dNQAAAAAAAAENAAAAAAAAAHEAAAAAAAIBWQAAAAAAAADBAAAAAAACAUEAAAAAAAIAzQAAAAAAAAEFAmpmZmZnZSkAAAAAAAIBWQJqZmZmZmStAZmZmZmbmTUAAAAAAAIBEQDMzMzMzsz9AAAAAAABAQkDwAz/wA+dNQPADP/AD501AAAAAAAAATUAAAAAAAIBWQAAAAAAAAAhAMzMzMzNzUEAAAAAAAAAcQPADP/AD501AZmZmZmZmREDNzMzMzCxSQAAAAAAAAEtA8AM/8APnTUDwAz/wA+dNQPADP/AD501A8AM/8APnTUAAAAAAAABPQGZmZmZmpkRA8AM/8APnTUAAAAAAAEBIQAAAAAAAgFBAAAAAAACAU0AAAAAAAIBWQGZmZmZmpk9AAAAAAACAVkDwAz/wA+dNQGZmZmZmpkpAAAAAAACAVEAAAAAAAEBKQGZmZmZmpkBAAAAAAADAQUDwAz/wA+dNQAAAAAAAgFZAAAAAAAAAOkDwAz/wA+dNQAAAAAAAgFZAAAAAAAAATUAAAAAAAIBJQPADP/AD501AAAAAAACAVkDwAz/wA+dNQAAAAAAAgFZA8AM/8APnTUAAAAAAAAAmQAAAAAAAgFZAAAAAAAAAOEDwAz/wA+dNQAAAAAAAgFZAAAAAAABATEDwAz/wA+dNQAAAAAAAQFNA8AM/8APnTUAAAAAAAIBHQAAAAAAAAEpA8AM/8APnTUDwAz/wA+dNQPADP/AD501AAAAAAABAUUDwAz/wA+dNQPADP/AD501AAAAAAAAAP0AAAAAAAIBWQPADP/AD501A8AM/8APnTUBmZmZmZiZPQAAAAAAAgFJA8AM/8APnTUDwAz/wA+dNQAAAAAAAAD9AAAAAAAAAMEAAAAAAAIBWQAAAAAAAgExA8AM/8APnTUAAAAAAAIBWQAAAAAAAgFZAAAAAAAAAS0AAAAAAAIBWQPADP/AD501AAAAAAACAVkAAAAAAAIBWQPADP/AD501AAAAAAACAVkAAAAAAAABIQAAAAAAAQExA8AM/8APnTUDwAz/wA+dNQAAAAAAAQEdA8AM/8APnTUDwAz/wA+dNQAAAAAAAwFBAAAAAAACAVkAAAAAAAEBFQAAAAAAAoFFAZmZmZmYmTEBmZmZmZqZMQAAAAAAAAEtAAAAAAAAAIUAAAAAAAAAwQAAAAAAAAFVA8AM/8APnTUDwAz/wA+dNQPADP/AD501AAAAAAABgVEDwAz/wA+dNQAAAAAAAgFJAmpmZmZlZTkDNzMzMzKxRQAAAAAAAAElAAAAAAACAUEAAAAAAAAA+QAAAAAAAgE5AZmZmZmYmR0AAAAAAAMBEQPADP/AD501AzczMzMxMPkAAAAAAAIBWQAAAAAAAgFZAAAAAAAAAMEDwAz/wA+dNQGZmZmZmpkNA8AM/8APnTUDwAz/wA+dNQPADP/AD501AAAAAAACAVkBmZmZmZqZNQAAAAAAAgFZA8AM/8APnTUAAAAAAAAAmQAAAAAAAYFRA8AM/8APnTUAAAAAAAEBSQAAAAAAAgFZA8AM/8APnTUAAAAAAAAAcQPADP/AD501AAAAAAACAVkAAAAAAAIBUQPADP/AD501AZmZmZmamTEDwAz/wA+dNQPADP/AD501AAAAAAAAAOEAAAAAAAIBWQPADP/AD501A8AM/8APnTUAAAAAAAEBJQAAAAAAAgEZAAAAAAAAAR0DwAz/wA+dNQAAAAAAAoFBAAAAAAABAQEAAAAAAAIBWQPADP/AD501A8AM/8APnTUAAAAAAAIBWQDMzMzMzs1FAAAAAAACAT0AAAAAAAGBVQJqZmZmZ2UFAmpmZmZlZTEDNzMzMzMwoQPADP/AD501AAAAAAAAANEAAAAAAAIAzQPADP/AD501AmpmZmZnZT0AAAAAAAABIQPADP/AD501AAAAAAABASUAzMzMzMzM/QAAAAAAAAEtAAAAAAACAVkDwAz/wA+dNQGZmZmZm5kJAAAAAAAAAUkDNzMzMzEw6QAAAAAAAgEpAAAAAAACAVkAAAAAAAEBBQAAAAAAAoFBA8AM/8APnTUCamZmZmdlPQM3MzMzMzD1AAAAAAAAAS0AAAAAAAEBJQM3MzMzMbFRA8AM/8APnTUAAAAAAAABCQAAAAAAAgFZAZmZmZmamR0AAAAAAAIBWQPADP/AD501AAAAAAACAVkAAAAAAAMBEQAAAAAAAwEFAAAAAAACAT0AAAAAAAIBHQAAAAAAAQEVAZmZmZmamSEAAAAAAAMBHQAAAAAAAgExA8AM/8APnTUAAAAAAAIBWQAAAAAAAwE1AAAAAAABAQEAAAAAAAIBWQPADP/AD501AAAAAAACATUAAAAAAAAA/QPADP/AD501AAAAAAAAAMkAAAAAAAAAkQPADP/AD501AAAAAAACAVkAAAAAAAIBOQPADP/AD501AAAAAAACgUEAAAAAAAIBWQPADP/AD501AAAAAAACAVkAAAAAAAIBCQAAAAAAAAElAMzMzMzOzUEDwAz/wA+dNQDMzMzMzU1NAmpmZmZmZUkDNzMzMzExCQAAAAAAAAC5AZmZmZmbmVEAAAAAAAIBKQAAAAAAAgFZAAAAAAACAVkDwAz/wA+dNQAAAAAAAgFZAZmZmZmbmQ0CamZmZmVlQQPADP/AD501AzczMzMxsU0AAAAAAAAAqQPADP/AD501AzczMzMzMVEAAAAAAAIBMQAAAAAAAAEFAAAAAAACAS0AAAAAAAIBTQAAAAAAAwElAAAAAAAAANEAAAAAAAABOQAAAAAAAQEFA8AM/8APnTUDwAz/wA+dNQPADP/AD501AZmZmZmZmK0AAAAAAAIBFQAAAAAAAQEhAzczMzMzsVEDwAz/wA+dNQPADP/AD501AMzMzMzNzVEAAAAAAAABKQAAAAAAAYFBA8AM/8APnTUAAAAAAAIBLQAAAAAAAAEFA8AM/8APnTUAAAAAAAKBTQAAAAAAAAD9AMzMzMzOTUUAAAAAAAABAQJqZmZmZmUtAAAAAAACAVEAAAAAAAAAkQAAAAAAAAElA8AM/8APnTUDwAz/wA+dNQAAAAAAAAD9A8AM/8APnTUDwAz/wA+dNQAAAAAAAgFZA8AM/8APnTUAAAAAAAAA7QPADP/AD501A8AM/8APnTUDwAz/wA+dNQAAAAAAAADpAmpmZmZmZT0DwAz/wA+dNQJqZmZmZWUZAmpmZmZmZSEAzMzMzM9NTQPADP/AD501AAAAAAAAAIUAzMzMzM7NIQAAAAAAAgFZA8AM/8APnTUDwAz/wA+dNQPADP/AD501AAAAAAACAVkDwAz/wA+dNQPADP/AD501AAAAAAAAANEAAAAAAAEBRQPADP/AD501A",
          "dtype": "f8"
         },
         "xaxis": "x40",
         "yaxis": "y40"
        },
        {
         "histnorm": "density",
         "marker": {
          "color": "#636EFA"
         },
         "nbinsx": 50,
         "opacity": 0.8,
         "type": "histogram",
         "x": {
          "bdata": "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",
          "dtype": "f8"
         },
         "xaxis": "x41",
         "yaxis": "y41"
        }
       ],
       "layout": {
        "annotations": [
         {
          "font": {
           "size": 16
          },
          "showarrow": false,
          "text": "SEASON",
          "x": 0.14444444444444446,
          "xanchor": "center",
          "xref": "paper",
          "y": 1,
          "yanchor": "bottom",
          "yref": "paper"
         },
         {
          "font": {
           "size": 16
          },
          "showarrow": false,
          "text": "FINAL_POS",
          "x": 0.5,
          "xanchor": "center",
          "xref": "paper",
          "y": 1,
          "yanchor": "bottom",
          "yref": "paper"
         },
         {
          "font": {
           "size": 16
          },
          "showarrow": false,
          "text": "SGTTG_RANK",
          "x": 0.8555555555555556,
          "xanchor": "center",
          "xref": "paper",
          "y": 1,
          "yanchor": "bottom",
          "yref": "paper"
         },
         {
          "font": {
           "size": 16
          },
          "showarrow": false,
          "text": "SGTTG",
          "x": 0.14444444444444446,
          "xanchor": "center",
          "xref": "paper",
          "y": 0.9260204081632653,
          "yanchor": "bottom",
          "yref": "paper"
         },
         {
          "font": {
           "size": 16
          },
          "showarrow": false,
          "text": "SGOTT_RANK",
          "x": 0.5,
          "xanchor": "center",
          "xref": "paper",
          "y": 0.9260204081632653,
          "yanchor": "bottom",
          "yref": "paper"
         },
         {
          "font": {
           "size": 16
          },
          "showarrow": false,
          "text": "SGOTT",
          "x": 0.8555555555555556,
          "xanchor": "center",
          "xref": "paper",
          "y": 0.9260204081632653,
          "yanchor": "bottom",
          "yref": "paper"
         },
         {
          "font": {
           "size": 16
          },
          "showarrow": false,
          "text": "SGAPR_RANK",
          "x": 0.14444444444444446,
          "xanchor": "center",
          "xref": "paper",
          "y": 0.8520408163265307,
          "yanchor": "bottom",
          "yref": "paper"
         },
         {
          "font": {
           "size": 16
          },
          "showarrow": false,
          "text": "SGAPR",
          "x": 0.5,
          "xanchor": "center",
          "xref": "paper",
          "y": 0.8520408163265307,
          "yanchor": "bottom",
          "yref": "paper"
         },
         {
          "font": {
           "size": 16
          },
          "showarrow": false,
          "text": "SGATG_RANK",
          "x": 0.8555555555555556,
          "xanchor": "center",
          "xref": "paper",
          "y": 0.8520408163265307,
          "yanchor": "bottom",
          "yref": "paper"
         },
         {
          "font": {
           "size": 16
          },
          "showarrow": false,
          "text": "SGATG",
          "x": 0.14444444444444446,
          "xanchor": "center",
          "xref": "paper",
          "y": 0.778061224489796,
          "yanchor": "bottom",
          "yref": "paper"
         },
         {
          "font": {
           "size": 16
          },
          "showarrow": false,
          "text": "SGP_RANK",
          "x": 0.5,
          "xanchor": "center",
          "xref": "paper",
          "y": 0.778061224489796,
          "yanchor": "bottom",
          "yref": "paper"
         },
         {
          "font": {
           "size": 16
          },
          "showarrow": false,
          "text": "SGP",
          "x": 0.8555555555555556,
          "xanchor": "center",
          "xref": "paper",
          "y": 0.778061224489796,
          "yanchor": "bottom",
          "yref": "paper"
         },
         {
          "font": {
           "size": 16
          },
          "showarrow": false,
          "text": "BIRDIES_RANK",
          "x": 0.14444444444444446,
          "xanchor": "center",
          "xref": "paper",
          "y": 0.7040816326530612,
          "yanchor": "bottom",
          "yref": "paper"
         },
         {
          "font": {
           "size": 16
          },
          "showarrow": false,
          "text": "BIRDIES",
          "x": 0.5,
          "xanchor": "center",
          "xref": "paper",
          "y": 0.7040816326530612,
          "yanchor": "bottom",
          "yref": "paper"
         },
         {
          "font": {
           "size": 16
          },
          "showarrow": false,
          "text": "PAR_3_RANK",
          "x": 0.8555555555555556,
          "xanchor": "center",
          "xref": "paper",
          "y": 0.7040816326530612,
          "yanchor": "bottom",
          "yref": "paper"
         },
         {
          "font": {
           "size": 16
          },
          "showarrow": false,
          "text": "PAR_3",
          "x": 0.14444444444444446,
          "xanchor": "center",
          "xref": "paper",
          "y": 0.6301020408163265,
          "yanchor": "bottom",
          "yref": "paper"
         },
         {
          "font": {
           "size": 16
          },
          "showarrow": false,
          "text": "PAR_4_RANK",
          "x": 0.5,
          "xanchor": "center",
          "xref": "paper",
          "y": 0.6301020408163265,
          "yanchor": "bottom",
          "yref": "paper"
         },
         {
          "font": {
           "size": 16
          },
          "showarrow": false,
          "text": "PAR_4",
          "x": 0.8555555555555556,
          "xanchor": "center",
          "xref": "paper",
          "y": 0.6301020408163265,
          "yanchor": "bottom",
          "yref": "paper"
         },
         {
          "font": {
           "size": 16
          },
          "showarrow": false,
          "text": "PAR_5_RANK",
          "x": 0.14444444444444446,
          "xanchor": "center",
          "xref": "paper",
          "y": 0.5561224489795918,
          "yanchor": "bottom",
          "yref": "paper"
         },
         {
          "font": {
           "size": 16
          },
          "showarrow": false,
          "text": "PAR_5",
          "x": 0.5,
          "xanchor": "center",
          "xref": "paper",
          "y": 0.5561224489795918,
          "yanchor": "bottom",
          "yref": "paper"
         },
         {
          "font": {
           "size": 16
          },
          "showarrow": false,
          "text": "TOTAL_DRIVING_RANK",
          "x": 0.8555555555555556,
          "xanchor": "center",
          "xref": "paper",
          "y": 0.5561224489795918,
          "yanchor": "bottom",
          "yref": "paper"
         },
         {
          "font": {
           "size": 16
          },
          "showarrow": false,
          "text": "TOTAL_DRIVING",
          "x": 0.14444444444444446,
          "xanchor": "center",
          "xref": "paper",
          "y": 0.48214285714285715,
          "yanchor": "bottom",
          "yref": "paper"
         },
         {
          "font": {
           "size": 16
          },
          "showarrow": false,
          "text": "DRIVING_DISTANCE_RANK",
          "x": 0.5,
          "xanchor": "center",
          "xref": "paper",
          "y": 0.48214285714285715,
          "yanchor": "bottom",
          "yref": "paper"
         },
         {
          "font": {
           "size": 16
          },
          "showarrow": false,
          "text": "DRIVING_DISTANCE",
          "x": 0.8555555555555556,
          "xanchor": "center",
          "xref": "paper",
          "y": 0.48214285714285715,
          "yanchor": "bottom",
          "yref": "paper"
         },
         {
          "font": {
           "size": 16
          },
          "showarrow": false,
          "text": "DRIVING_ACCURACY_RANK",
          "x": 0.14444444444444446,
          "xanchor": "center",
          "xref": "paper",
          "y": 0.4081632653061225,
          "yanchor": "bottom",
          "yref": "paper"
         },
         {
          "font": {
           "size": 16
          },
          "showarrow": false,
          "text": "DRIVING_ACCURACY",
          "x": 0.5,
          "xanchor": "center",
          "xref": "paper",
          "y": 0.4081632653061225,
          "yanchor": "bottom",
          "yref": "paper"
         },
         {
          "font": {
           "size": 16
          },
          "showarrow": false,
          "text": "GIR_RANK",
          "x": 0.8555555555555556,
          "xanchor": "center",
          "xref": "paper",
          "y": 0.4081632653061225,
          "yanchor": "bottom",
          "yref": "paper"
         },
         {
          "font": {
           "size": 16
          },
          "showarrow": false,
          "text": "GIR",
          "x": 0.14444444444444446,
          "xanchor": "center",
          "xref": "paper",
          "y": 0.33418367346938777,
          "yanchor": "bottom",
          "yref": "paper"
         },
         {
          "font": {
           "size": 16
          },
          "showarrow": false,
          "text": "SCRAMBLING_RANK",
          "x": 0.5,
          "xanchor": "center",
          "xref": "paper",
          "y": 0.33418367346938777,
          "yanchor": "bottom",
          "yref": "paper"
         },
         {
          "font": {
           "size": 16
          },
          "showarrow": false,
          "text": "SCRAMBLING",
          "x": 0.8555555555555556,
          "xanchor": "center",
          "xref": "paper",
          "y": 0.33418367346938777,
          "yanchor": "bottom",
          "yref": "paper"
         },
         {
          "font": {
           "size": 16
          },
          "showarrow": false,
          "text": "OWGR_RANK",
          "x": 0.14444444444444446,
          "xanchor": "center",
          "xref": "paper",
          "y": 0.2602040816326531,
          "yanchor": "bottom",
          "yref": "paper"
         },
         {
          "font": {
           "size": 16
          },
          "showarrow": false,
          "text": "OWGR",
          "x": 0.5,
          "xanchor": "center",
          "xref": "paper",
          "y": 0.2602040816326531,
          "yanchor": "bottom",
          "yref": "paper"
         },
         {
          "font": {
           "size": 16
          },
          "showarrow": false,
          "text": "VEGAS_ODDS",
          "x": 0.8555555555555556,
          "xanchor": "center",
          "xref": "paper",
          "y": 0.2602040816326531,
          "yanchor": "bottom",
          "yref": "paper"
         },
         {
          "font": {
           "size": 16
          },
          "showarrow": false,
          "text": "CUT_PERCENTAGE",
          "x": 0.14444444444444446,
          "xanchor": "center",
          "xref": "paper",
          "y": 0.18622448979591838,
          "yanchor": "bottom",
          "yref": "paper"
         },
         {
          "font": {
           "size": 16
          },
          "showarrow": false,
          "text": "FEDEX_CUP_POINTS",
          "x": 0.5,
          "xanchor": "center",
          "xref": "paper",
          "y": 0.18622448979591838,
          "yanchor": "bottom",
          "yref": "paper"
         },
         {
          "font": {
           "size": 16
          },
          "showarrow": false,
          "text": "form_density",
          "x": 0.8555555555555556,
          "xanchor": "center",
          "xref": "paper",
          "y": 0.18622448979591838,
          "yanchor": "bottom",
          "yref": "paper"
         },
         {
          "font": {
           "size": 16
          },
          "showarrow": false,
          "text": "CONSECUTIVE_CUTS",
          "x": 0.14444444444444446,
          "xanchor": "center",
          "xref": "paper",
          "y": 0.11224489795918369,
          "yanchor": "bottom",
          "yref": "paper"
         },
         {
          "font": {
           "size": 16
          },
          "showarrow": false,
          "text": "RECENT_FORM",
          "x": 0.5,
          "xanchor": "center",
          "xref": "paper",
          "y": 0.11224489795918369,
          "yanchor": "bottom",
          "yref": "paper"
         },
         {
          "font": {
           "size": 16
          },
          "showarrow": false,
          "text": "adj_form",
          "x": 0.8555555555555556,
          "xanchor": "center",
          "xref": "paper",
          "y": 0.11224489795918369,
          "yanchor": "bottom",
          "yref": "paper"
         },
         {
          "font": {
           "size": 16
          },
          "showarrow": false,
          "text": "COURSE_HISTORY",
          "x": 0.14444444444444446,
          "xanchor": "center",
          "xref": "paper",
          "y": 0.03826530612244899,
          "yanchor": "bottom",
          "yref": "paper"
         },
         {
          "font": {
           "size": 16
          },
          "showarrow": false,
          "text": "adj_ch",
          "x": 0.5,
          "xanchor": "center",
          "xref": "paper",
          "y": 0.03826530612244899,
          "yanchor": "bottom",
          "yref": "paper"
         }
        ],
        "height": 4200,
        "showlegend": false,
        "template": {
         "data": {
          "bar": [
           {
            "error_x": {
             "color": "#f2f5fa"
            },
            "error_y": {
             "color": "#f2f5fa"
            },
            "marker": {
             "line": {
              "color": "rgb(17,17,17)",
              "width": 0.5
             },
             "pattern": {
              "fillmode": "overlay",
              "size": 10,
              "solidity": 0.2
             }
            },
            "type": "bar"
           }
          ],
          "barpolar": [
           {
            "marker": {
             "line": {
              "color": "rgb(17,17,17)",
              "width": 0.5
             },
             "pattern": {
              "fillmode": "overlay",
              "size": 10,
              "solidity": 0.2
             }
            },
            "type": "barpolar"
           }
          ],
          "carpet": [
           {
            "aaxis": {
             "endlinecolor": "#A2B1C6",
             "gridcolor": "#506784",
             "linecolor": "#506784",
             "minorgridcolor": "#506784",
             "startlinecolor": "#A2B1C6"
            },
            "baxis": {
             "endlinecolor": "#A2B1C6",
             "gridcolor": "#506784",
             "linecolor": "#506784",
             "minorgridcolor": "#506784",
             "startlinecolor": "#A2B1C6"
            },
            "type": "carpet"
           }
          ],
          "choropleth": [
           {
            "colorbar": {
             "outlinewidth": 0,
             "ticks": ""
            },
            "type": "choropleth"
           }
          ],
          "contour": [
           {
            "colorbar": {
             "outlinewidth": 0,
             "ticks": ""
            },
            "colorscale": [
             [
              0,
              "#0d0887"
             ],
             [
              0.1111111111111111,
              "#46039f"
             ],
             [
              0.2222222222222222,
              "#7201a8"
             ],
             [
              0.3333333333333333,
              "#9c179e"
             ],
             [
              0.4444444444444444,
              "#bd3786"
             ],
             [
              0.5555555555555556,
              "#d8576b"
             ],
             [
              0.6666666666666666,
              "#ed7953"
             ],
             [
              0.7777777777777778,
              "#fb9f3a"
             ],
             [
              0.8888888888888888,
              "#fdca26"
             ],
             [
              1,
              "#f0f921"
             ]
            ],
            "type": "contour"
           }
          ],
          "contourcarpet": [
           {
            "colorbar": {
             "outlinewidth": 0,
             "ticks": ""
            },
            "type": "contourcarpet"
           }
          ],
          "heatmap": [
           {
            "colorbar": {
             "outlinewidth": 0,
             "ticks": ""
            },
            "colorscale": [
             [
              0,
              "#0d0887"
             ],
             [
              0.1111111111111111,
              "#46039f"
             ],
             [
              0.2222222222222222,
              "#7201a8"
             ],
             [
              0.3333333333333333,
              "#9c179e"
             ],
             [
              0.4444444444444444,
              "#bd3786"
             ],
             [
              0.5555555555555556,
              "#d8576b"
             ],
             [
              0.6666666666666666,
              "#ed7953"
             ],
             [
              0.7777777777777778,
              "#fb9f3a"
             ],
             [
              0.8888888888888888,
              "#fdca26"
             ],
             [
              1,
              "#f0f921"
             ]
            ],
            "type": "heatmap"
           }
          ],
          "histogram": [
           {
            "marker": {
             "pattern": {
              "fillmode": "overlay",
              "size": 10,
              "solidity": 0.2
             }
            },
            "type": "histogram"
           }
          ],
          "histogram2d": [
           {
            "colorbar": {
             "outlinewidth": 0,
             "ticks": ""
            },
            "colorscale": [
             [
              0,
              "#0d0887"
             ],
             [
              0.1111111111111111,
              "#46039f"
             ],
             [
              0.2222222222222222,
              "#7201a8"
             ],
             [
              0.3333333333333333,
              "#9c179e"
             ],
             [
              0.4444444444444444,
              "#bd3786"
             ],
             [
              0.5555555555555556,
              "#d8576b"
             ],
             [
              0.6666666666666666,
              "#ed7953"
             ],
             [
              0.7777777777777778,
              "#fb9f3a"
             ],
             [
              0.8888888888888888,
              "#fdca26"
             ],
             [
              1,
              "#f0f921"
             ]
            ],
            "type": "histogram2d"
           }
          ],
          "histogram2dcontour": [
           {
            "colorbar": {
             "outlinewidth": 0,
             "ticks": ""
            },
            "colorscale": [
             [
              0,
              "#0d0887"
             ],
             [
              0.1111111111111111,
              "#46039f"
             ],
             [
              0.2222222222222222,
              "#7201a8"
             ],
             [
              0.3333333333333333,
              "#9c179e"
             ],
             [
              0.4444444444444444,
              "#bd3786"
             ],
             [
              0.5555555555555556,
              "#d8576b"
             ],
             [
              0.6666666666666666,
              "#ed7953"
             ],
             [
              0.7777777777777778,
              "#fb9f3a"
             ],
             [
              0.8888888888888888,
              "#fdca26"
             ],
             [
              1,
              "#f0f921"
             ]
            ],
            "type": "histogram2dcontour"
           }
          ],
          "mesh3d": [
           {
            "colorbar": {
             "outlinewidth": 0,
             "ticks": ""
            },
            "type": "mesh3d"
           }
          ],
          "parcoords": [
           {
            "line": {
             "colorbar": {
              "outlinewidth": 0,
              "ticks": ""
             }
            },
            "type": "parcoords"
           }
          ],
          "pie": [
           {
            "automargin": true,
            "type": "pie"
           }
          ],
          "scatter": [
           {
            "marker": {
             "line": {
              "color": "#283442"
             }
            },
            "type": "scatter"
           }
          ],
          "scatter3d": [
           {
            "line": {
             "colorbar": {
              "outlinewidth": 0,
              "ticks": ""
             }
            },
            "marker": {
             "colorbar": {
              "outlinewidth": 0,
              "ticks": ""
             }
            },
            "type": "scatter3d"
           }
          ],
          "scattercarpet": [
           {
            "marker": {
             "colorbar": {
              "outlinewidth": 0,
              "ticks": ""
             }
            },
            "type": "scattercarpet"
           }
          ],
          "scattergeo": [
           {
            "marker": {
             "colorbar": {
              "outlinewidth": 0,
              "ticks": ""
             }
            },
            "type": "scattergeo"
           }
          ],
          "scattergl": [
           {
            "marker": {
             "line": {
              "color": "#283442"
             }
            },
            "type": "scattergl"
           }
          ],
          "scattermap": [
           {
            "marker": {
             "colorbar": {
              "outlinewidth": 0,
              "ticks": ""
             }
            },
            "type": "scattermap"
           }
          ],
          "scattermapbox": [
           {
            "marker": {
             "colorbar": {
              "outlinewidth": 0,
              "ticks": ""
             }
            },
            "type": "scattermapbox"
           }
          ],
          "scatterpolar": [
           {
            "marker": {
             "colorbar": {
              "outlinewidth": 0,
              "ticks": ""
             }
            },
            "type": "scatterpolar"
           }
          ],
          "scatterpolargl": [
           {
            "marker": {
             "colorbar": {
              "outlinewidth": 0,
              "ticks": ""
             }
            },
            "type": "scatterpolargl"
           }
          ],
          "scatterternary": [
           {
            "marker": {
             "colorbar": {
              "outlinewidth": 0,
              "ticks": ""
             }
            },
            "type": "scatterternary"
           }
          ],
          "surface": [
           {
            "colorbar": {
             "outlinewidth": 0,
             "ticks": ""
            },
            "colorscale": [
             [
              0,
              "#0d0887"
             ],
             [
              0.1111111111111111,
              "#46039f"
             ],
             [
              0.2222222222222222,
              "#7201a8"
             ],
             [
              0.3333333333333333,
              "#9c179e"
             ],
             [
              0.4444444444444444,
              "#bd3786"
             ],
             [
              0.5555555555555556,
              "#d8576b"
             ],
             [
              0.6666666666666666,
              "#ed7953"
             ],
             [
              0.7777777777777778,
              "#fb9f3a"
             ],
             [
              0.8888888888888888,
              "#fdca26"
             ],
             [
              1,
              "#f0f921"
             ]
            ],
            "type": "surface"
           }
          ],
          "table": [
           {
            "cells": {
             "fill": {
              "color": "#506784"
             },
             "line": {
              "color": "rgb(17,17,17)"
             }
            },
            "header": {
             "fill": {
              "color": "#2a3f5f"
             },
             "line": {
              "color": "rgb(17,17,17)"
             }
            },
            "type": "table"
           }
          ]
         },
         "layout": {
          "annotationdefaults": {
           "arrowcolor": "#f2f5fa",
           "arrowhead": 0,
           "arrowwidth": 1
          },
          "autotypenumbers": "strict",
          "coloraxis": {
           "colorbar": {
            "outlinewidth": 0,
            "ticks": ""
           }
          },
          "colorscale": {
           "diverging": [
            [
             0,
             "#8e0152"
            ],
            [
             0.1,
             "#c51b7d"
            ],
            [
             0.2,
             "#de77ae"
            ],
            [
             0.3,
             "#f1b6da"
            ],
            [
             0.4,
             "#fde0ef"
            ],
            [
             0.5,
             "#f7f7f7"
            ],
            [
             0.6,
             "#e6f5d0"
            ],
            [
             0.7,
             "#b8e186"
            ],
            [
             0.8,
             "#7fbc41"
            ],
            [
             0.9,
             "#4d9221"
            ],
            [
             1,
             "#276419"
            ]
           ],
           "sequential": [
            [
             0,
             "#0d0887"
            ],
            [
             0.1111111111111111,
             "#46039f"
            ],
            [
             0.2222222222222222,
             "#7201a8"
            ],
            [
             0.3333333333333333,
             "#9c179e"
            ],
            [
             0.4444444444444444,
             "#bd3786"
            ],
            [
             0.5555555555555556,
             "#d8576b"
            ],
            [
             0.6666666666666666,
             "#ed7953"
            ],
            [
             0.7777777777777778,
             "#fb9f3a"
            ],
            [
             0.8888888888888888,
             "#fdca26"
            ],
            [
             1,
             "#f0f921"
            ]
           ],
           "sequentialminus": [
            [
             0,
             "#0d0887"
            ],
            [
             0.1111111111111111,
             "#46039f"
            ],
            [
             0.2222222222222222,
             "#7201a8"
            ],
            [
             0.3333333333333333,
             "#9c179e"
            ],
            [
             0.4444444444444444,
             "#bd3786"
            ],
            [
             0.5555555555555556,
             "#d8576b"
            ],
            [
             0.6666666666666666,
             "#ed7953"
            ],
            [
             0.7777777777777778,
             "#fb9f3a"
            ],
            [
             0.8888888888888888,
             "#fdca26"
            ],
            [
             1,
             "#f0f921"
            ]
           ]
          },
          "colorway": [
           "#636efa",
           "#EF553B",
           "#00cc96",
           "#ab63fa",
           "#FFA15A",
           "#19d3f3",
           "#FF6692",
           "#B6E880",
           "#FF97FF",
           "#FECB52"
          ],
          "font": {
           "color": "#f2f5fa"
          },
          "geo": {
           "bgcolor": "rgb(17,17,17)",
           "lakecolor": "rgb(17,17,17)",
           "landcolor": "rgb(17,17,17)",
           "showlakes": true,
           "showland": true,
           "subunitcolor": "#506784"
          },
          "hoverlabel": {
           "align": "left"
          },
          "hovermode": "closest",
          "mapbox": {
           "style": "dark"
          },
          "paper_bgcolor": "rgb(17,17,17)",
          "plot_bgcolor": "rgb(17,17,17)",
          "polar": {
           "angularaxis": {
            "gridcolor": "#506784",
            "linecolor": "#506784",
            "ticks": ""
           },
           "bgcolor": "rgb(17,17,17)",
           "radialaxis": {
            "gridcolor": "#506784",
            "linecolor": "#506784",
            "ticks": ""
           }
          },
          "scene": {
           "xaxis": {
            "backgroundcolor": "rgb(17,17,17)",
            "gridcolor": "#506784",
            "gridwidth": 2,
            "linecolor": "#506784",
            "showbackground": true,
            "ticks": "",
            "zerolinecolor": "#C8D4E3"
           },
           "yaxis": {
            "backgroundcolor": "rgb(17,17,17)",
            "gridcolor": "#506784",
            "gridwidth": 2,
            "linecolor": "#506784",
            "showbackground": true,
            "ticks": "",
            "zerolinecolor": "#C8D4E3"
           },
           "zaxis": {
            "backgroundcolor": "rgb(17,17,17)",
            "gridcolor": "#506784",
            "gridwidth": 2,
            "linecolor": "#506784",
            "showbackground": true,
            "ticks": "",
            "zerolinecolor": "#C8D4E3"
           }
          },
          "shapedefaults": {
           "line": {
            "color": "#f2f5fa"
           }
          },
          "sliderdefaults": {
           "bgcolor": "#C8D4E3",
           "bordercolor": "rgb(17,17,17)",
           "borderwidth": 1,
           "tickwidth": 0
          },
          "ternary": {
           "aaxis": {
            "gridcolor": "#506784",
            "linecolor": "#506784",
            "ticks": ""
           },
           "baxis": {
            "gridcolor": "#506784",
            "linecolor": "#506784",
            "ticks": ""
           },
           "bgcolor": "rgb(17,17,17)",
           "caxis": {
            "gridcolor": "#506784",
            "linecolor": "#506784",
            "ticks": ""
           }
          },
          "title": {
           "x": 0.05
          },
          "updatemenudefaults": {
           "bgcolor": "#506784",
           "borderwidth": 0
          },
          "xaxis": {
           "automargin": true,
           "gridcolor": "#283442",
           "linecolor": "#506784",
           "ticks": "",
           "title": {
            "standoff": 15
           },
           "zerolinecolor": "#283442",
           "zerolinewidth": 2
          },
          "yaxis": {
           "automargin": true,
           "gridcolor": "#283442",
           "linecolor": "#506784",
           "ticks": "",
           "title": {
            "standoff": 15
           },
           "zerolinecolor": "#283442",
           "zerolinewidth": 2
          }
         }
        },
        "title": {
         "text": "Feature Distributions (with Adaptive Binning)"
        },
        "width": 1000,
        "xaxis": {
         "anchor": "y",
         "domain": [
          0,
          0.2888888888888889
         ]
        },
        "xaxis10": {
         "anchor": "y10",
         "domain": [
          0,
          0.2888888888888889
         ]
        },
        "xaxis11": {
         "anchor": "y11",
         "domain": [
          0.35555555555555557,
          0.6444444444444445
         ]
        },
        "xaxis12": {
         "anchor": "y12",
         "domain": [
          0.7111111111111111,
          1
         ]
        },
        "xaxis13": {
         "anchor": "y13",
         "domain": [
          0,
          0.2888888888888889
         ]
        },
        "xaxis14": {
         "anchor": "y14",
         "domain": [
          0.35555555555555557,
          0.6444444444444445
         ]
        },
        "xaxis15": {
         "anchor": "y15",
         "domain": [
          0.7111111111111111,
          1
         ]
        },
        "xaxis16": {
         "anchor": "y16",
         "domain": [
          0,
          0.2888888888888889
         ]
        },
        "xaxis17": {
         "anchor": "y17",
         "domain": [
          0.35555555555555557,
          0.6444444444444445
         ]
        },
        "xaxis18": {
         "anchor": "y18",
         "domain": [
          0.7111111111111111,
          1
         ]
        },
        "xaxis19": {
         "anchor": "y19",
         "domain": [
          0,
          0.2888888888888889
         ]
        },
        "xaxis2": {
         "anchor": "y2",
         "domain": [
          0.35555555555555557,
          0.6444444444444445
         ]
        },
        "xaxis20": {
         "anchor": "y20",
         "domain": [
          0.35555555555555557,
          0.6444444444444445
         ]
        },
        "xaxis21": {
         "anchor": "y21",
         "domain": [
          0.7111111111111111,
          1
         ]
        },
        "xaxis22": {
         "anchor": "y22",
         "domain": [
          0,
          0.2888888888888889
         ]
        },
        "xaxis23": {
         "anchor": "y23",
         "domain": [
          0.35555555555555557,
          0.6444444444444445
         ]
        },
        "xaxis24": {
         "anchor": "y24",
         "domain": [
          0.7111111111111111,
          1
         ]
        },
        "xaxis25": {
         "anchor": "y25",
         "domain": [
          0,
          0.2888888888888889
         ]
        },
        "xaxis26": {
         "anchor": "y26",
         "domain": [
          0.35555555555555557,
          0.6444444444444445
         ]
        },
        "xaxis27": {
         "anchor": "y27",
         "domain": [
          0.7111111111111111,
          1
         ]
        },
        "xaxis28": {
         "anchor": "y28",
         "domain": [
          0,
          0.2888888888888889
         ]
        },
        "xaxis29": {
         "anchor": "y29",
         "domain": [
          0.35555555555555557,
          0.6444444444444445
         ]
        },
        "xaxis3": {
         "anchor": "y3",
         "domain": [
          0.7111111111111111,
          1
         ]
        },
        "xaxis30": {
         "anchor": "y30",
         "domain": [
          0.7111111111111111,
          1
         ]
        },
        "xaxis31": {
         "anchor": "y31",
         "domain": [
          0,
          0.2888888888888889
         ]
        },
        "xaxis32": {
         "anchor": "y32",
         "domain": [
          0.35555555555555557,
          0.6444444444444445
         ]
        },
        "xaxis33": {
         "anchor": "y33",
         "domain": [
          0.7111111111111111,
          1
         ]
        },
        "xaxis34": {
         "anchor": "y34",
         "domain": [
          0,
          0.2888888888888889
         ]
        },
        "xaxis35": {
         "anchor": "y35",
         "domain": [
          0.35555555555555557,
          0.6444444444444445
         ]
        },
        "xaxis36": {
         "anchor": "y36",
         "domain": [
          0.7111111111111111,
          1
         ]
        },
        "xaxis37": {
         "anchor": "y37",
         "domain": [
          0,
          0.2888888888888889
         ]
        },
        "xaxis38": {
         "anchor": "y38",
         "domain": [
          0.35555555555555557,
          0.6444444444444445
         ]
        },
        "xaxis39": {
         "anchor": "y39",
         "domain": [
          0.7111111111111111,
          1
         ]
        },
        "xaxis4": {
         "anchor": "y4",
         "domain": [
          0,
          0.2888888888888889
         ]
        },
        "xaxis40": {
         "anchor": "y40",
         "domain": [
          0,
          0.2888888888888889
         ]
        },
        "xaxis41": {
         "anchor": "y41",
         "domain": [
          0.35555555555555557,
          0.6444444444444445
         ]
        },
        "xaxis42": {
         "anchor": "y42",
         "domain": [
          0.7111111111111111,
          1
         ]
        },
        "xaxis5": {
         "anchor": "y5",
         "domain": [
          0.35555555555555557,
          0.6444444444444445
         ]
        },
        "xaxis6": {
         "anchor": "y6",
         "domain": [
          0.7111111111111111,
          1
         ]
        },
        "xaxis7": {
         "anchor": "y7",
         "domain": [
          0,
          0.2888888888888889
         ]
        },
        "xaxis8": {
         "anchor": "y8",
         "domain": [
          0.35555555555555557,
          0.6444444444444445
         ]
        },
        "xaxis9": {
         "anchor": "y9",
         "domain": [
          0.7111111111111111,
          1
         ]
        },
        "yaxis": {
         "anchor": "x",
         "domain": [
          0.9617346938775511,
          1
         ]
        },
        "yaxis10": {
         "anchor": "x10",
         "domain": [
          0.739795918367347,
          0.778061224489796
         ]
        },
        "yaxis11": {
         "anchor": "x11",
         "domain": [
          0.739795918367347,
          0.778061224489796
         ]
        },
        "yaxis12": {
         "anchor": "x12",
         "domain": [
          0.739795918367347,
          0.778061224489796
         ]
        },
        "yaxis13": {
         "anchor": "x13",
         "domain": [
          0.6658163265306123,
          0.7040816326530612
         ]
        },
        "yaxis14": {
         "anchor": "x14",
         "domain": [
          0.6658163265306123,
          0.7040816326530612
         ]
        },
        "yaxis15": {
         "anchor": "x15",
         "domain": [
          0.6658163265306123,
          0.7040816326530612
         ]
        },
        "yaxis16": {
         "anchor": "x16",
         "domain": [
          0.5918367346938775,
          0.6301020408163265
         ]
        },
        "yaxis17": {
         "anchor": "x17",
         "domain": [
          0.5918367346938775,
          0.6301020408163265
         ]
        },
        "yaxis18": {
         "anchor": "x18",
         "domain": [
          0.5918367346938775,
          0.6301020408163265
         ]
        },
        "yaxis19": {
         "anchor": "x19",
         "domain": [
          0.5178571428571429,
          0.5561224489795918
         ]
        },
        "yaxis2": {
         "anchor": "x2",
         "domain": [
          0.9617346938775511,
          1
         ]
        },
        "yaxis20": {
         "anchor": "x20",
         "domain": [
          0.5178571428571429,
          0.5561224489795918
         ]
        },
        "yaxis21": {
         "anchor": "x21",
         "domain": [
          0.5178571428571429,
          0.5561224489795918
         ]
        },
        "yaxis22": {
         "anchor": "x22",
         "domain": [
          0.44387755102040816,
          0.48214285714285715
         ]
        },
        "yaxis23": {
         "anchor": "x23",
         "domain": [
          0.44387755102040816,
          0.48214285714285715
         ]
        },
        "yaxis24": {
         "anchor": "x24",
         "domain": [
          0.44387755102040816,
          0.48214285714285715
         ]
        },
        "yaxis25": {
         "anchor": "x25",
         "domain": [
          0.3698979591836735,
          0.4081632653061225
         ]
        },
        "yaxis26": {
         "anchor": "x26",
         "domain": [
          0.3698979591836735,
          0.4081632653061225
         ]
        },
        "yaxis27": {
         "anchor": "x27",
         "domain": [
          0.3698979591836735,
          0.4081632653061225
         ]
        },
        "yaxis28": {
         "anchor": "x28",
         "domain": [
          0.29591836734693877,
          0.33418367346938777
         ]
        },
        "yaxis29": {
         "anchor": "x29",
         "domain": [
          0.29591836734693877,
          0.33418367346938777
         ]
        },
        "yaxis3": {
         "anchor": "x3",
         "domain": [
          0.9617346938775511,
          1
         ]
        },
        "yaxis30": {
         "anchor": "x30",
         "domain": [
          0.29591836734693877,
          0.33418367346938777
         ]
        },
        "yaxis31": {
         "anchor": "x31",
         "domain": [
          0.22193877551020408,
          0.2602040816326531
         ]
        },
        "yaxis32": {
         "anchor": "x32",
         "domain": [
          0.22193877551020408,
          0.2602040816326531
         ]
        },
        "yaxis33": {
         "anchor": "x33",
         "domain": [
          0.22193877551020408,
          0.2602040816326531
         ]
        },
        "yaxis34": {
         "anchor": "x34",
         "domain": [
          0.14795918367346939,
          0.18622448979591838
         ]
        },
        "yaxis35": {
         "anchor": "x35",
         "domain": [
          0.14795918367346939,
          0.18622448979591838
         ]
        },
        "yaxis36": {
         "anchor": "x36",
         "domain": [
          0.14795918367346939,
          0.18622448979591838
         ]
        },
        "yaxis37": {
         "anchor": "x37",
         "domain": [
          0.07397959183673469,
          0.11224489795918369
         ]
        },
        "yaxis38": {
         "anchor": "x38",
         "domain": [
          0.07397959183673469,
          0.11224489795918369
         ]
        },
        "yaxis39": {
         "anchor": "x39",
         "domain": [
          0.07397959183673469,
          0.11224489795918369
         ]
        },
        "yaxis4": {
         "anchor": "x4",
         "domain": [
          0.8877551020408163,
          0.9260204081632653
         ]
        },
        "yaxis40": {
         "anchor": "x40",
         "domain": [
          0,
          0.03826530612244899
         ]
        },
        "yaxis41": {
         "anchor": "x41",
         "domain": [
          0,
          0.03826530612244899
         ]
        },
        "yaxis42": {
         "anchor": "x42",
         "domain": [
          0,
          0.03826530612244899
         ]
        },
        "yaxis5": {
         "anchor": "x5",
         "domain": [
          0.8877551020408163,
          0.9260204081632653
         ]
        },
        "yaxis6": {
         "anchor": "x6",
         "domain": [
          0.8877551020408163,
          0.9260204081632653
         ]
        },
        "yaxis7": {
         "anchor": "x7",
         "domain": [
          0.8137755102040818,
          0.8520408163265307
         ]
        },
        "yaxis8": {
         "anchor": "x8",
         "domain": [
          0.8137755102040818,
          0.8520408163265307
         ]
        },
        "yaxis9": {
         "anchor": "x9",
         "domain": [
          0.8137755102040818,
          0.8520408163265307
         ]
        }
       }
      }
     },
     "metadata": {},
     "output_type": "display_data"
    }
   ],
   "source": [
    "import plotly.express as px\n",
    "import plotly.subplots as sp\n",
    "import plotly.graph_objects as go\n",
    "import pandas as pd\n",
    "import numpy as np\n",
    "\n",
    "# Select numeric columns with >1 unique value, excluding label\n",
    "df_numeric = training_df.select_dtypes(include=np.number)\n",
    "df_numeric = df_numeric.loc[:, df_numeric.nunique() > 1]\n",
    "df_numeric = df_numeric.drop(columns=[\"TOP_20\"], errors=\"ignore\")\n",
    "\n",
    "# Create subplots\n",
    "n_cols = 3\n",
    "n_rows = int(np.ceil(len(df_numeric.columns) / n_cols))\n",
    "fig = sp.make_subplots(rows=n_rows, cols=n_cols, subplot_titles=df_numeric.columns)\n",
    "\n",
    "# Add one histogram per feature with smart binning\n",
    "for i, column in enumerate(df_numeric.columns):\n",
    "    row = i // n_cols + 1\n",
    "    col = i % n_cols + 1\n",
    "\n",
    "    # Compute dynamic bin count\n",
    "    col_range = df_numeric[column].max() - df_numeric[column].min()\n",
    "    n_unique = df_numeric[column].nunique()\n",
    "    nbins = min(50, max(5, int(n_unique / 2))) if col_range < 10 else 50  # tighter for short-range\n",
    "\n",
    "    fig.add_trace(\n",
    "        go.Histogram(\n",
    "            x=df_numeric[column],\n",
    "            nbinsx=nbins,\n",
    "            histnorm=\"density\",\n",
    "            marker=dict(color=\"#636EFA\"),\n",
    "            opacity=0.8\n",
    "        ),\n",
    "        row=row,\n",
    "        col=col\n",
    "    )\n",
    "\n",
    "# Style the figure\n",
    "fig.update_layout(\n",
    "    height=300 * n_rows,\n",
    "    width=1000,\n",
    "    title_text=\"Feature Distributions (with Adaptive Binning)\",\n",
    "    template=\"plotly_dark\",\n",
    "    showlegend=False\n",
    ")\n",
    "\n",
    "fig.show()"
   ]
  },
  {
   "cell_type": "markdown",
   "id": "7dd53f87",
   "metadata": {},
   "source": [
    "# Current Week Data"
   ]
  },
  {
   "cell_type": "markdown",
   "id": "fbd0a012",
   "metadata": {},
   "source": [
    "## Import 2025 Field\n",
    "**Important!**  Save curren't week's `DKSalaries.csv` into Data folder before this step."
   ]
  },
  {
   "cell_type": "code",
   "execution_count": 15,
   "id": "f17875f6",
   "metadata": {},
   "outputs": [
    {
     "data": {
      "text/html": [
       "<div>\n",
       "<style scoped>\n",
       "    .dataframe tbody tr th:only-of-type {\n",
       "        vertical-align: middle;\n",
       "    }\n",
       "\n",
       "    .dataframe tbody tr th {\n",
       "        vertical-align: top;\n",
       "    }\n",
       "\n",
       "    .dataframe thead th {\n",
       "        text-align: right;\n",
       "    }\n",
       "</style>\n",
       "<table border=\"1\" class=\"dataframe\">\n",
       "  <thead>\n",
       "    <tr style=\"text-align: right;\">\n",
       "      <th></th>\n",
       "      <th>PLAYER</th>\n",
       "      <th>SALARY</th>\n",
       "    </tr>\n",
       "  </thead>\n",
       "  <tbody>\n",
       "    <tr>\n",
       "      <th>0</th>\n",
       "      <td>Matt Fitzpatrick</td>\n",
       "      <td>10600</td>\n",
       "    </tr>\n",
       "    <tr>\n",
       "      <th>1</th>\n",
       "      <td>Keegan Bradley</td>\n",
       "      <td>10300</td>\n",
       "    </tr>\n",
       "    <tr>\n",
       "      <th>2</th>\n",
       "      <td>Ben Griffin</td>\n",
       "      <td>10100</td>\n",
       "    </tr>\n",
       "    <tr>\n",
       "      <th>3</th>\n",
       "      <td>Hideki Matsuyama</td>\n",
       "      <td>9800</td>\n",
       "    </tr>\n",
       "    <tr>\n",
       "      <th>4</th>\n",
       "      <td>Robert Macintyre</td>\n",
       "      <td>9600</td>\n",
       "    </tr>\n",
       "    <tr>\n",
       "      <th>5</th>\n",
       "      <td>Jordan Spieth</td>\n",
       "      <td>9400</td>\n",
       "    </tr>\n",
       "    <tr>\n",
       "      <th>6</th>\n",
       "      <td>Aaron Rai</td>\n",
       "      <td>9300</td>\n",
       "    </tr>\n",
       "    <tr>\n",
       "      <th>7</th>\n",
       "      <td>Harry Hall</td>\n",
       "      <td>9200</td>\n",
       "    </tr>\n",
       "    <tr>\n",
       "      <th>8</th>\n",
       "      <td>Jake Knapp</td>\n",
       "      <td>9100</td>\n",
       "    </tr>\n",
       "    <tr>\n",
       "      <th>9</th>\n",
       "      <td>Akshay Bhatia</td>\n",
       "      <td>9000</td>\n",
       "    </tr>\n",
       "  </tbody>\n",
       "</table>\n",
       "</div>"
      ],
      "text/plain": [
       "             PLAYER  SALARY\n",
       "0  Matt Fitzpatrick   10600\n",
       "1    Keegan Bradley   10300\n",
       "2       Ben Griffin   10100\n",
       "3  Hideki Matsuyama    9800\n",
       "4  Robert Macintyre    9600\n",
       "5     Jordan Spieth    9400\n",
       "6         Aaron Rai    9300\n",
       "7        Harry Hall    9200\n",
       "8        Jake Knapp    9100\n",
       "9     Akshay Bhatia    9000"
      ]
     },
     "execution_count": 15,
     "metadata": {},
     "output_type": "execute_result"
    }
   ],
   "source": [
    "importlib.reload(utils.db_utils)\n",
    "from utils.db_utils import DK_PLAYER_NAME_MAP\n",
    "from utils.db_utils import standardize_player_names\n",
    "\n",
    "# Load DraftKings player list\n",
    "dk = pd.read_csv(\"data/DKSalaries.csv\", usecols=[\"Name\", \"Salary\"])\n",
    "\n",
    "# Normalize DK names to PGA naming convention\n",
    "dk[\"Name\"] = dk[\"Name\"].replace(DK_PLAYER_NAME_MAP)\n",
    "\n",
    "# Rename for consistency\n",
    "dk = dk.rename(columns={\"Name\": \"PLAYER\", \"Salary\": \"SALARY\"})\n",
    "\n",
    "dk = standardize_player_names(dk)  # ✅ Normalize to match DB\n",
    "\n",
    "dk.head(10)"
   ]
  },
  {
   "cell_type": "markdown",
   "id": "544d958c",
   "metadata": {},
   "source": [
    "## Vegas Odds\n",
    "Confirm the [Vegas Odds](http://golfodds.com/weekly-odds.html) page is updated with current tournament.\n",
    "\n",
    "Note: sometimes this site can give errors and not load correctly.  Just have to do it again later.\n",
    "Another trick to try is change the url try to run it and then put the url back the way it was.  Worked once, maybe random coincidence."
   ]
  },
  {
   "cell_type": "code",
   "execution_count": 16,
   "id": "a3cba953",
   "metadata": {},
   "outputs": [
    {
     "data": {
      "text/html": [
       "<div>\n",
       "<style scoped>\n",
       "    .dataframe tbody tr th:only-of-type {\n",
       "        vertical-align: middle;\n",
       "    }\n",
       "\n",
       "    .dataframe tbody tr th {\n",
       "        vertical-align: top;\n",
       "    }\n",
       "\n",
       "    .dataframe thead th {\n",
       "        text-align: right;\n",
       "    }\n",
       "</style>\n",
       "<table border=\"1\" class=\"dataframe\">\n",
       "  <thead>\n",
       "    <tr style=\"text-align: right;\">\n",
       "      <th></th>\n",
       "      <th>SEASON</th>\n",
       "      <th>TOURNAMENT</th>\n",
       "      <th>PLAYER</th>\n",
       "      <th>ODDS</th>\n",
       "      <th>VEGAS_ODDS</th>\n",
       "    </tr>\n",
       "  </thead>\n",
       "  <tbody>\n",
       "    <tr>\n",
       "      <th>1</th>\n",
       "      <td>2025</td>\n",
       "      <td>Wyndham Championship</td>\n",
       "      <td>Matt Fitzpatrick</td>\n",
       "      <td>18/1</td>\n",
       "      <td>18.0</td>\n",
       "    </tr>\n",
       "    <tr>\n",
       "      <th>2</th>\n",
       "      <td>2025</td>\n",
       "      <td>Wyndham Championship</td>\n",
       "      <td>Aaron Rai</td>\n",
       "      <td>20/1</td>\n",
       "      <td>20.0</td>\n",
       "    </tr>\n",
       "    <tr>\n",
       "      <th>3</th>\n",
       "      <td>2025</td>\n",
       "      <td>Wyndham Championship</td>\n",
       "      <td>Keegan Bradley</td>\n",
       "      <td>25/1</td>\n",
       "      <td>25.0</td>\n",
       "    </tr>\n",
       "    <tr>\n",
       "      <th>4</th>\n",
       "      <td>2025</td>\n",
       "      <td>Wyndham Championship</td>\n",
       "      <td>Ben Griffin</td>\n",
       "      <td>25/1</td>\n",
       "      <td>25.0</td>\n",
       "    </tr>\n",
       "    <tr>\n",
       "      <th>5</th>\n",
       "      <td>2025</td>\n",
       "      <td>Wyndham Championship</td>\n",
       "      <td>Robert MacIntyre</td>\n",
       "      <td>30/1</td>\n",
       "      <td>30.0</td>\n",
       "    </tr>\n",
       "    <tr>\n",
       "      <th>6</th>\n",
       "      <td>2025</td>\n",
       "      <td>Wyndham Championship</td>\n",
       "      <td>Si Woo Kim</td>\n",
       "      <td>30/1</td>\n",
       "      <td>30.0</td>\n",
       "    </tr>\n",
       "    <tr>\n",
       "      <th>7</th>\n",
       "      <td>2025</td>\n",
       "      <td>Wyndham Championship</td>\n",
       "      <td>Jordan Spieth</td>\n",
       "      <td>35/1</td>\n",
       "      <td>35.0</td>\n",
       "    </tr>\n",
       "    <tr>\n",
       "      <th>8</th>\n",
       "      <td>2025</td>\n",
       "      <td>Wyndham Championship</td>\n",
       "      <td>Hideki Matsuyama</td>\n",
       "      <td>35/1</td>\n",
       "      <td>35.0</td>\n",
       "    </tr>\n",
       "    <tr>\n",
       "      <th>9</th>\n",
       "      <td>2025</td>\n",
       "      <td>Wyndham Championship</td>\n",
       "      <td>Lucas Glover</td>\n",
       "      <td>35/1</td>\n",
       "      <td>35.0</td>\n",
       "    </tr>\n",
       "    <tr>\n",
       "      <th>10</th>\n",
       "      <td>2025</td>\n",
       "      <td>Wyndham Championship</td>\n",
       "      <td>Jake Knapp</td>\n",
       "      <td>35/1</td>\n",
       "      <td>35.0</td>\n",
       "    </tr>\n",
       "  </tbody>\n",
       "</table>\n",
       "</div>"
      ],
      "text/plain": [
       "    SEASON            TOURNAMENT            PLAYER  ODDS  VEGAS_ODDS\n",
       "1     2025  Wyndham Championship  Matt Fitzpatrick  18/1        18.0\n",
       "2     2025  Wyndham Championship         Aaron Rai  20/1        20.0\n",
       "3     2025  Wyndham Championship    Keegan Bradley  25/1        25.0\n",
       "4     2025  Wyndham Championship       Ben Griffin  25/1        25.0\n",
       "5     2025  Wyndham Championship  Robert MacIntyre  30/1        30.0\n",
       "6     2025  Wyndham Championship        Si Woo Kim  30/1        30.0\n",
       "7     2025  Wyndham Championship     Jordan Spieth  35/1        35.0\n",
       "8     2025  Wyndham Championship  Hideki Matsuyama  35/1        35.0\n",
       "9     2025  Wyndham Championship      Lucas Glover  35/1        35.0\n",
       "10    2025  Wyndham Championship        Jake Knapp  35/1        35.0"
      ]
     },
     "execution_count": 16,
     "metadata": {},
     "output_type": "execute_result"
    }
   ],
   "source": [
    "importlib.reload(utils.db_utils)\n",
    "from utils.db_utils import get_current_week_odds\n",
    "\n",
    "odds_current = get_current_week_odds(season=2025, tournament_name=new_tournament_name)\n",
    "odds_current.head(10)\n"
   ]
  },
  {
   "cell_type": "markdown",
   "id": "f58bb5d0",
   "metadata": {},
   "source": [
    "## Cut Percentage and FedEx Points"
   ]
  },
  {
   "cell_type": "code",
   "execution_count": 17,
   "id": "a927b0b2",
   "metadata": {},
   "outputs": [
    {
     "data": {
      "text/html": [
       "<div>\n",
       "<style scoped>\n",
       "    .dataframe tbody tr th:only-of-type {\n",
       "        vertical-align: middle;\n",
       "    }\n",
       "\n",
       "    .dataframe tbody tr th {\n",
       "        vertical-align: top;\n",
       "    }\n",
       "\n",
       "    .dataframe thead th {\n",
       "        text-align: right;\n",
       "    }\n",
       "</style>\n",
       "<table border=\"1\" class=\"dataframe\">\n",
       "  <thead>\n",
       "    <tr style=\"text-align: right;\">\n",
       "      <th></th>\n",
       "      <th>PLAYER</th>\n",
       "      <th>TOTAL_EVENTS_PLAYED</th>\n",
       "      <th>CUTS_MADE</th>\n",
       "      <th>FEDEX_CUP_POINTS</th>\n",
       "      <th>CUT_PERCENTAGE</th>\n",
       "      <th>form_density</th>\n",
       "      <th>CONSECUTIVE_CUTS</th>\n",
       "      <th>ENDING_DATE</th>\n",
       "      <th>TOURNAMENT</th>\n",
       "    </tr>\n",
       "  </thead>\n",
       "  <tbody>\n",
       "    <tr>\n",
       "      <th>0</th>\n",
       "      <td>A.J. Ewart</td>\n",
       "      <td>1</td>\n",
       "      <td>0</td>\n",
       "      <td>0.000</td>\n",
       "      <td>0.0</td>\n",
       "      <td>0.00</td>\n",
       "      <td>0</td>\n",
       "      <td>2025-08-03</td>\n",
       "      <td>Wyndham Championship</td>\n",
       "    </tr>\n",
       "    <tr>\n",
       "      <th>1</th>\n",
       "      <td>Aaron Baddeley</td>\n",
       "      <td>15</td>\n",
       "      <td>6</td>\n",
       "      <td>49.088</td>\n",
       "      <td>40.0</td>\n",
       "      <td>3.27</td>\n",
       "      <td>0</td>\n",
       "      <td>2025-08-03</td>\n",
       "      <td>Wyndham Championship</td>\n",
       "    </tr>\n",
       "    <tr>\n",
       "      <th>2</th>\n",
       "      <td>Aaron Cockerill</td>\n",
       "      <td>1</td>\n",
       "      <td>0</td>\n",
       "      <td>0.000</td>\n",
       "      <td>0.0</td>\n",
       "      <td>0.00</td>\n",
       "      <td>0</td>\n",
       "      <td>2025-08-03</td>\n",
       "      <td>Wyndham Championship</td>\n",
       "    </tr>\n",
       "    <tr>\n",
       "      <th>3</th>\n",
       "      <td>Aaron Rai</td>\n",
       "      <td>19</td>\n",
       "      <td>15</td>\n",
       "      <td>695.647</td>\n",
       "      <td>78.9</td>\n",
       "      <td>36.61</td>\n",
       "      <td>4</td>\n",
       "      <td>2025-08-03</td>\n",
       "      <td>Wyndham Championship</td>\n",
       "    </tr>\n",
       "    <tr>\n",
       "      <th>4</th>\n",
       "      <td>Aaron Wise</td>\n",
       "      <td>4</td>\n",
       "      <td>1</td>\n",
       "      <td>6.333</td>\n",
       "      <td>25.0</td>\n",
       "      <td>1.58</td>\n",
       "      <td>0</td>\n",
       "      <td>2025-08-03</td>\n",
       "      <td>Wyndham Championship</td>\n",
       "    </tr>\n",
       "    <tr>\n",
       "      <th>5</th>\n",
       "      <td>Adam Hadwin</td>\n",
       "      <td>21</td>\n",
       "      <td>14</td>\n",
       "      <td>223.988</td>\n",
       "      <td>66.7</td>\n",
       "      <td>10.67</td>\n",
       "      <td>1</td>\n",
       "      <td>2025-08-03</td>\n",
       "      <td>Wyndham Championship</td>\n",
       "    </tr>\n",
       "    <tr>\n",
       "      <th>6</th>\n",
       "      <td>Adam Long</td>\n",
       "      <td>1</td>\n",
       "      <td>0</td>\n",
       "      <td>0.000</td>\n",
       "      <td>0.0</td>\n",
       "      <td>0.00</td>\n",
       "      <td>0</td>\n",
       "      <td>2025-08-03</td>\n",
       "      <td>Wyndham Championship</td>\n",
       "    </tr>\n",
       "    <tr>\n",
       "      <th>7</th>\n",
       "      <td>Adam Schenk</td>\n",
       "      <td>20</td>\n",
       "      <td>7</td>\n",
       "      <td>258.004</td>\n",
       "      <td>35.0</td>\n",
       "      <td>12.90</td>\n",
       "      <td>0</td>\n",
       "      <td>2025-08-03</td>\n",
       "      <td>Wyndham Championship</td>\n",
       "    </tr>\n",
       "    <tr>\n",
       "      <th>8</th>\n",
       "      <td>Adam Scott</td>\n",
       "      <td>16</td>\n",
       "      <td>13</td>\n",
       "      <td>445.528</td>\n",
       "      <td>81.2</td>\n",
       "      <td>27.85</td>\n",
       "      <td>1</td>\n",
       "      <td>2025-08-03</td>\n",
       "      <td>Wyndham Championship</td>\n",
       "    </tr>\n",
       "    <tr>\n",
       "      <th>9</th>\n",
       "      <td>Adam Svensson</td>\n",
       "      <td>19</td>\n",
       "      <td>10</td>\n",
       "      <td>149.843</td>\n",
       "      <td>52.6</td>\n",
       "      <td>7.89</td>\n",
       "      <td>1</td>\n",
       "      <td>2025-08-03</td>\n",
       "      <td>Wyndham Championship</td>\n",
       "    </tr>\n",
       "  </tbody>\n",
       "</table>\n",
       "</div>"
      ],
      "text/plain": [
       "            PLAYER  TOTAL_EVENTS_PLAYED  CUTS_MADE  FEDEX_CUP_POINTS  \\\n",
       "0       A.J. Ewart                    1          0             0.000   \n",
       "1   Aaron Baddeley                   15          6            49.088   \n",
       "2  Aaron Cockerill                    1          0             0.000   \n",
       "3        Aaron Rai                   19         15           695.647   \n",
       "4       Aaron Wise                    4          1             6.333   \n",
       "5      Adam Hadwin                   21         14           223.988   \n",
       "6        Adam Long                    1          0             0.000   \n",
       "7      Adam Schenk                   20          7           258.004   \n",
       "8       Adam Scott                   16         13           445.528   \n",
       "9    Adam Svensson                   19         10           149.843   \n",
       "\n",
       "   CUT_PERCENTAGE  form_density  CONSECUTIVE_CUTS ENDING_DATE  \\\n",
       "0             0.0          0.00                 0  2025-08-03   \n",
       "1            40.0          3.27                 0  2025-08-03   \n",
       "2             0.0          0.00                 0  2025-08-03   \n",
       "3            78.9         36.61                 4  2025-08-03   \n",
       "4            25.0          1.58                 0  2025-08-03   \n",
       "5            66.7         10.67                 1  2025-08-03   \n",
       "6             0.0          0.00                 0  2025-08-03   \n",
       "7            35.0         12.90                 0  2025-08-03   \n",
       "8            81.2         27.85                 1  2025-08-03   \n",
       "9            52.6          7.89                 1  2025-08-03   \n",
       "\n",
       "             TOURNAMENT  \n",
       "0  Wyndham Championship  \n",
       "1  Wyndham Championship  \n",
       "2  Wyndham Championship  \n",
       "3  Wyndham Championship  \n",
       "4  Wyndham Championship  \n",
       "5  Wyndham Championship  \n",
       "6  Wyndham Championship  \n",
       "7  Wyndham Championship  \n",
       "8  Wyndham Championship  \n",
       "9  Wyndham Championship  "
      ]
     },
     "execution_count": 17,
     "metadata": {},
     "output_type": "execute_result"
    }
   ],
   "source": [
    "importlib.reload(utils.db_utils)\n",
    "from utils.db_utils import get_cut_and_fedex_history\n",
    "\n",
    "cuts_rolling = get_cut_and_fedex_history(db_path, this_week_history, window_months=9)\n",
    "cuts_current = cuts_rolling[this_week_key].copy()\n",
    "cuts_current.head(10)"
   ]
  },
  {
   "cell_type": "markdown",
   "id": "abdf22cb",
   "metadata": {},
   "source": [
    "## Recent Form"
   ]
  },
  {
   "cell_type": "code",
   "execution_count": 18,
   "id": "58cfb255",
   "metadata": {},
   "outputs": [
    {
     "data": {
      "text/html": [
       "<div>\n",
       "<style scoped>\n",
       "    .dataframe tbody tr th:only-of-type {\n",
       "        vertical-align: middle;\n",
       "    }\n",
       "\n",
       "    .dataframe tbody tr th {\n",
       "        vertical-align: top;\n",
       "    }\n",
       "\n",
       "    .dataframe thead th {\n",
       "        text-align: right;\n",
       "    }\n",
       "</style>\n",
       "<table border=\"1\" class=\"dataframe\">\n",
       "  <thead>\n",
       "    <tr style=\"text-align: right;\">\n",
       "      <th></th>\n",
       "      <th>PLAYER</th>\n",
       "      <th>TOTAL_EVENTS_PLAYED</th>\n",
       "      <th>RECENT_FORM</th>\n",
       "      <th>adj_form</th>\n",
       "      <th>ENDING_DATE</th>\n",
       "      <th>TOURNAMENT</th>\n",
       "    </tr>\n",
       "  </thead>\n",
       "  <tbody>\n",
       "    <tr>\n",
       "      <th>0</th>\n",
       "      <td>Scottie Scheffler</td>\n",
       "      <td>17</td>\n",
       "      <td>6.6</td>\n",
       "      <td>2.28</td>\n",
       "      <td>2025-08-03</td>\n",
       "      <td>Wyndham Championship</td>\n",
       "    </tr>\n",
       "    <tr>\n",
       "      <th>1</th>\n",
       "      <td>Jason Scrivener</td>\n",
       "      <td>1</td>\n",
       "      <td>8.0</td>\n",
       "      <td>11.54</td>\n",
       "      <td>2025-08-03</td>\n",
       "      <td>Wyndham Championship</td>\n",
       "    </tr>\n",
       "    <tr>\n",
       "      <th>2</th>\n",
       "      <td>Bubba Watson</td>\n",
       "      <td>1</td>\n",
       "      <td>14.0</td>\n",
       "      <td>20.20</td>\n",
       "      <td>2025-08-03</td>\n",
       "      <td>Wyndham Championship</td>\n",
       "    </tr>\n",
       "    <tr>\n",
       "      <th>3</th>\n",
       "      <td>Jon Rahm</td>\n",
       "      <td>4</td>\n",
       "      <td>15.8</td>\n",
       "      <td>9.82</td>\n",
       "      <td>2025-08-03</td>\n",
       "      <td>Wyndham Championship</td>\n",
       "    </tr>\n",
       "    <tr>\n",
       "      <th>4</th>\n",
       "      <td>Rory McIlroy</td>\n",
       "      <td>13</td>\n",
       "      <td>16.8</td>\n",
       "      <td>6.37</td>\n",
       "      <td>2025-08-03</td>\n",
       "      <td>Wyndham Championship</td>\n",
       "    </tr>\n",
       "    <tr>\n",
       "      <th>5</th>\n",
       "      <td>Robin Williams</td>\n",
       "      <td>1</td>\n",
       "      <td>17.0</td>\n",
       "      <td>24.53</td>\n",
       "      <td>2025-08-03</td>\n",
       "      <td>Wyndham Championship</td>\n",
       "    </tr>\n",
       "    <tr>\n",
       "      <th>6</th>\n",
       "      <td>Andy Sullivan</td>\n",
       "      <td>1</td>\n",
       "      <td>17.0</td>\n",
       "      <td>24.53</td>\n",
       "      <td>2025-08-03</td>\n",
       "      <td>Wyndham Championship</td>\n",
       "    </tr>\n",
       "    <tr>\n",
       "      <th>7</th>\n",
       "      <td>Joel Girrbach</td>\n",
       "      <td>1</td>\n",
       "      <td>20.0</td>\n",
       "      <td>28.85</td>\n",
       "      <td>2025-08-03</td>\n",
       "      <td>Wyndham Championship</td>\n",
       "    </tr>\n",
       "    <tr>\n",
       "      <th>8</th>\n",
       "      <td>Kensei Hirata</td>\n",
       "      <td>1</td>\n",
       "      <td>21.0</td>\n",
       "      <td>30.30</td>\n",
       "      <td>2025-08-03</td>\n",
       "      <td>Wyndham Championship</td>\n",
       "    </tr>\n",
       "    <tr>\n",
       "      <th>9</th>\n",
       "      <td>Kristoffer Reitan</td>\n",
       "      <td>2</td>\n",
       "      <td>21.5</td>\n",
       "      <td>19.57</td>\n",
       "      <td>2025-08-03</td>\n",
       "      <td>Wyndham Championship</td>\n",
       "    </tr>\n",
       "  </tbody>\n",
       "</table>\n",
       "</div>"
      ],
      "text/plain": [
       "              PLAYER  TOTAL_EVENTS_PLAYED  RECENT_FORM  adj_form ENDING_DATE  \\\n",
       "0  Scottie Scheffler                   17          6.6      2.28  2025-08-03   \n",
       "1    Jason Scrivener                    1          8.0     11.54  2025-08-03   \n",
       "2       Bubba Watson                    1         14.0     20.20  2025-08-03   \n",
       "3           Jon Rahm                    4         15.8      9.82  2025-08-03   \n",
       "4       Rory McIlroy                   13         16.8      6.37  2025-08-03   \n",
       "5     Robin Williams                    1         17.0     24.53  2025-08-03   \n",
       "6      Andy Sullivan                    1         17.0     24.53  2025-08-03   \n",
       "7      Joel Girrbach                    1         20.0     28.85  2025-08-03   \n",
       "8      Kensei Hirata                    1         21.0     30.30  2025-08-03   \n",
       "9  Kristoffer Reitan                    2         21.5     19.57  2025-08-03   \n",
       "\n",
       "             TOURNAMENT  \n",
       "0  Wyndham Championship  \n",
       "1  Wyndham Championship  \n",
       "2  Wyndham Championship  \n",
       "3  Wyndham Championship  \n",
       "4  Wyndham Championship  \n",
       "5  Wyndham Championship  \n",
       "6  Wyndham Championship  \n",
       "7  Wyndham Championship  \n",
       "8  Wyndham Championship  \n",
       "9  Wyndham Championship  "
      ]
     },
     "execution_count": 18,
     "metadata": {},
     "output_type": "execute_result"
    }
   ],
   "source": [
    "importlib.reload(utils.db_utils)\n",
    "from utils.db_utils import get_recent_avg_finish\n",
    "\n",
    "recent_form = get_recent_avg_finish(db_path, this_week_history, window_months=9)\n",
    "recent_form_current = recent_form[this_week_key].copy()\n",
    "\n",
    "recent_form_current.head(10)"
   ]
  },
  {
   "cell_type": "markdown",
   "id": "6386214b",
   "metadata": {},
   "source": [
    "## Course History"
   ]
  },
  {
   "cell_type": "code",
   "execution_count": 19,
   "id": "c1c0ec95",
   "metadata": {},
   "outputs": [
    {
     "data": {
      "text/html": [
       "<div>\n",
       "<style scoped>\n",
       "    .dataframe tbody tr th:only-of-type {\n",
       "        vertical-align: middle;\n",
       "    }\n",
       "\n",
       "    .dataframe tbody tr th {\n",
       "        vertical-align: top;\n",
       "    }\n",
       "\n",
       "    .dataframe thead th {\n",
       "        text-align: right;\n",
       "    }\n",
       "</style>\n",
       "<table border=\"1\" class=\"dataframe\">\n",
       "  <thead>\n",
       "    <tr style=\"text-align: right;\">\n",
       "      <th></th>\n",
       "      <th>PLAYER</th>\n",
       "      <th>TOTAL_EVENTS_PLAYED</th>\n",
       "      <th>COURSE_HISTORY</th>\n",
       "      <th>adj_ch</th>\n",
       "      <th>ENDING_DATE</th>\n",
       "      <th>COURSE</th>\n",
       "      <th>TOURNAMENT</th>\n",
       "    </tr>\n",
       "  </thead>\n",
       "  <tbody>\n",
       "    <tr>\n",
       "      <th>0</th>\n",
       "      <td>Aaron Baddeley</td>\n",
       "      <td>6</td>\n",
       "      <td>79.0</td>\n",
       "      <td>40.60</td>\n",
       "      <td>2025-08-03</td>\n",
       "      <td>Sedgefield Country Club</td>\n",
       "      <td>Wyndham Championship</td>\n",
       "    </tr>\n",
       "    <tr>\n",
       "      <th>1</th>\n",
       "      <td>Aaron Rai</td>\n",
       "      <td>3</td>\n",
       "      <td>54.0</td>\n",
       "      <td>38.95</td>\n",
       "      <td>2025-08-03</td>\n",
       "      <td>Sedgefield Country Club</td>\n",
       "      <td>Wyndham Championship</td>\n",
       "    </tr>\n",
       "    <tr>\n",
       "      <th>2</th>\n",
       "      <td>Aaron Wise</td>\n",
       "      <td>4</td>\n",
       "      <td>49.3</td>\n",
       "      <td>30.63</td>\n",
       "      <td>2025-08-03</td>\n",
       "      <td>Sedgefield Country Club</td>\n",
       "      <td>Wyndham Championship</td>\n",
       "    </tr>\n",
       "    <tr>\n",
       "      <th>3</th>\n",
       "      <td>Abraham Ancer</td>\n",
       "      <td>2</td>\n",
       "      <td>57.0</td>\n",
       "      <td>51.88</td>\n",
       "      <td>2025-08-03</td>\n",
       "      <td>Sedgefield Country Club</td>\n",
       "      <td>Wyndham Championship</td>\n",
       "    </tr>\n",
       "    <tr>\n",
       "      <th>4</th>\n",
       "      <td>Adam Hadwin</td>\n",
       "      <td>4</td>\n",
       "      <td>54.5</td>\n",
       "      <td>33.86</td>\n",
       "      <td>2025-08-03</td>\n",
       "      <td>Sedgefield Country Club</td>\n",
       "      <td>Wyndham Championship</td>\n",
       "    </tr>\n",
       "    <tr>\n",
       "      <th>5</th>\n",
       "      <td>Adam Long</td>\n",
       "      <td>5</td>\n",
       "      <td>78.2</td>\n",
       "      <td>43.64</td>\n",
       "      <td>2025-08-03</td>\n",
       "      <td>Sedgefield Country Club</td>\n",
       "      <td>Wyndham Championship</td>\n",
       "    </tr>\n",
       "    <tr>\n",
       "      <th>6</th>\n",
       "      <td>Adam Schenk</td>\n",
       "      <td>7</td>\n",
       "      <td>80.7</td>\n",
       "      <td>38.81</td>\n",
       "      <td>2025-08-03</td>\n",
       "      <td>Sedgefield Country Club</td>\n",
       "      <td>Wyndham Championship</td>\n",
       "    </tr>\n",
       "    <tr>\n",
       "      <th>7</th>\n",
       "      <td>Adam Scott</td>\n",
       "      <td>3</td>\n",
       "      <td>28.3</td>\n",
       "      <td>20.41</td>\n",
       "      <td>2025-08-03</td>\n",
       "      <td>Sedgefield Country Club</td>\n",
       "      <td>Wyndham Championship</td>\n",
       "    </tr>\n",
       "    <tr>\n",
       "      <th>8</th>\n",
       "      <td>Adam Svensson</td>\n",
       "      <td>4</td>\n",
       "      <td>30.8</td>\n",
       "      <td>19.14</td>\n",
       "      <td>2025-08-03</td>\n",
       "      <td>Sedgefield Country Club</td>\n",
       "      <td>Wyndham Championship</td>\n",
       "    </tr>\n",
       "    <tr>\n",
       "      <th>9</th>\n",
       "      <td>Adrien Dumont de Chassart</td>\n",
       "      <td>1</td>\n",
       "      <td>90.0</td>\n",
       "      <td>129.84</td>\n",
       "      <td>2025-08-03</td>\n",
       "      <td>Sedgefield Country Club</td>\n",
       "      <td>Wyndham Championship</td>\n",
       "    </tr>\n",
       "  </tbody>\n",
       "</table>\n",
       "</div>"
      ],
      "text/plain": [
       "                      PLAYER  TOTAL_EVENTS_PLAYED  COURSE_HISTORY  adj_ch  \\\n",
       "0             Aaron Baddeley                    6            79.0   40.60   \n",
       "1                  Aaron Rai                    3            54.0   38.95   \n",
       "2                 Aaron Wise                    4            49.3   30.63   \n",
       "3              Abraham Ancer                    2            57.0   51.88   \n",
       "4                Adam Hadwin                    4            54.5   33.86   \n",
       "5                  Adam Long                    5            78.2   43.64   \n",
       "6                Adam Schenk                    7            80.7   38.81   \n",
       "7                 Adam Scott                    3            28.3   20.41   \n",
       "8              Adam Svensson                    4            30.8   19.14   \n",
       "9  Adrien Dumont de Chassart                    1            90.0  129.84   \n",
       "\n",
       "  ENDING_DATE                   COURSE            TOURNAMENT  \n",
       "0  2025-08-03  Sedgefield Country Club  Wyndham Championship  \n",
       "1  2025-08-03  Sedgefield Country Club  Wyndham Championship  \n",
       "2  2025-08-03  Sedgefield Country Club  Wyndham Championship  \n",
       "3  2025-08-03  Sedgefield Country Club  Wyndham Championship  \n",
       "4  2025-08-03  Sedgefield Country Club  Wyndham Championship  \n",
       "5  2025-08-03  Sedgefield Country Club  Wyndham Championship  \n",
       "6  2025-08-03  Sedgefield Country Club  Wyndham Championship  \n",
       "7  2025-08-03  Sedgefield Country Club  Wyndham Championship  \n",
       "8  2025-08-03  Sedgefield Country Club  Wyndham Championship  \n",
       "9  2025-08-03  Sedgefield Country Club  Wyndham Championship  "
      ]
     },
     "execution_count": 19,
     "metadata": {},
     "output_type": "execute_result"
    }
   ],
   "source": [
    "importlib.reload(utils.db_utils)\n",
    "from utils.db_utils import get_course_history\n",
    "\n",
    "course_hist = get_course_history(db_path, this_week_history, lookback_years=7)\n",
    "course_hist_current = course_hist[this_week_key].copy()\n",
    "\n",
    "course_hist_current.head(10)\n"
   ]
  },
  {
   "cell_type": "markdown",
   "id": "cff50c6a",
   "metadata": {},
   "source": [
    "## Merged Dataframe"
   ]
  },
  {
   "cell_type": "code",
   "execution_count": 20,
   "id": "4ea0e7da",
   "metadata": {},
   "outputs": [
    {
     "data": {
      "text/html": [
       "<div>\n",
       "<style scoped>\n",
       "    .dataframe tbody tr th:only-of-type {\n",
       "        vertical-align: middle;\n",
       "    }\n",
       "\n",
       "    .dataframe tbody tr th {\n",
       "        vertical-align: top;\n",
       "    }\n",
       "\n",
       "    .dataframe thead th {\n",
       "        text-align: right;\n",
       "    }\n",
       "</style>\n",
       "<table border=\"1\" class=\"dataframe\">\n",
       "  <thead>\n",
       "    <tr style=\"text-align: right;\">\n",
       "      <th></th>\n",
       "      <th>PLAYER</th>\n",
       "      <th>SGTTG_RANK</th>\n",
       "      <th>SGTTG</th>\n",
       "      <th>SGOTT_RANK</th>\n",
       "      <th>SGOTT</th>\n",
       "      <th>SGAPR_RANK</th>\n",
       "      <th>SGAPR</th>\n",
       "      <th>SGATG_RANK</th>\n",
       "      <th>SGATG</th>\n",
       "      <th>SGP_RANK</th>\n",
       "      <th>SGP</th>\n",
       "      <th>BIRDIES_RANK</th>\n",
       "      <th>BIRDIES</th>\n",
       "      <th>PAR_3_RANK</th>\n",
       "      <th>PAR_3</th>\n",
       "      <th>PAR_4_RANK</th>\n",
       "      <th>PAR_4</th>\n",
       "      <th>PAR_5_RANK</th>\n",
       "      <th>PAR_5</th>\n",
       "      <th>TOTAL_DRIVING_RANK</th>\n",
       "      <th>TOTAL_DRIVING</th>\n",
       "      <th>DRIVING_DISTANCE_RANK</th>\n",
       "      <th>DRIVING_DISTANCE</th>\n",
       "      <th>DRIVING_ACCURACY_RANK</th>\n",
       "      <th>DRIVING_ACCURACY</th>\n",
       "      <th>GIR_RANK</th>\n",
       "      <th>GIR</th>\n",
       "      <th>SCRAMBLING_RANK</th>\n",
       "      <th>SCRAMBLING</th>\n",
       "      <th>OWGR_RANK</th>\n",
       "      <th>OWGR</th>\n",
       "      <th>SEASON</th>\n",
       "      <th>VEGAS_ODDS</th>\n",
       "      <th>CUT_PERCENTAGE</th>\n",
       "      <th>FEDEX_CUP_POINTS</th>\n",
       "      <th>form_density</th>\n",
       "      <th>CONSECUTIVE_CUTS</th>\n",
       "      <th>RECENT_FORM</th>\n",
       "      <th>adj_form</th>\n",
       "      <th>COURSE_HISTORY</th>\n",
       "      <th>adj_ch</th>\n",
       "      <th>SALARY</th>\n",
       "    </tr>\n",
       "  </thead>\n",
       "  <tbody>\n",
       "    <tr>\n",
       "      <th>0</th>\n",
       "      <td>Aaron Baddeley</td>\n",
       "      <td>173.0</td>\n",
       "      <td>-1.327</td>\n",
       "      <td>175.0</td>\n",
       "      <td>-1.232</td>\n",
       "      <td>169.0</td>\n",
       "      <td>-0.543</td>\n",
       "      <td>9.0</td>\n",
       "      <td>0.447</td>\n",
       "      <td>158.0</td>\n",
       "      <td>-0.422</td>\n",
       "      <td>176.0</td>\n",
       "      <td>17.48%</td>\n",
       "      <td>135.0</td>\n",
       "      <td>3.09</td>\n",
       "      <td>164.0</td>\n",
       "      <td>4.09</td>\n",
       "      <td>176.0</td>\n",
       "      <td>4.78</td>\n",
       "      <td>173.0</td>\n",
       "      <td>284</td>\n",
       "      <td>164.0</td>\n",
       "      <td>289.8</td>\n",
       "      <td>120.0</td>\n",
       "      <td>57.27%</td>\n",
       "      <td>175.0</td>\n",
       "      <td>59.76%</td>\n",
       "      <td>85.0</td>\n",
       "      <td>59.60%</td>\n",
       "      <td>514.0</td>\n",
       "      <td>.2509</td>\n",
       "      <td>2025.0</td>\n",
       "      <td>2000.0</td>\n",
       "      <td>40.0</td>\n",
       "      <td>49.088</td>\n",
       "      <td>3.27</td>\n",
       "      <td>0.0</td>\n",
       "      <td>77.6</td>\n",
       "      <td>27.99</td>\n",
       "      <td>79.0</td>\n",
       "      <td>40.60</td>\n",
       "      <td>6000</td>\n",
       "    </tr>\n",
       "    <tr>\n",
       "      <th>1</th>\n",
       "      <td>Aaron Rai</td>\n",
       "      <td>29.0</td>\n",
       "      <td>0.724</td>\n",
       "      <td>22.0</td>\n",
       "      <td>0.390</td>\n",
       "      <td>57.0</td>\n",
       "      <td>0.246</td>\n",
       "      <td>64.0</td>\n",
       "      <td>0.087</td>\n",
       "      <td>108.0</td>\n",
       "      <td>-0.047</td>\n",
       "      <td>108.0</td>\n",
       "      <td>21.35%</td>\n",
       "      <td>176.0</td>\n",
       "      <td>3.18</td>\n",
       "      <td>13.0</td>\n",
       "      <td>3.98</td>\n",
       "      <td>38.0</td>\n",
       "      <td>4.56</td>\n",
       "      <td>74.0</td>\n",
       "      <td>170</td>\n",
       "      <td>168.0</td>\n",
       "      <td>288.6</td>\n",
       "      <td>2.0</td>\n",
       "      <td>73.37%</td>\n",
       "      <td>23.0</td>\n",
       "      <td>69.53%</td>\n",
       "      <td>93.0</td>\n",
       "      <td>59.26%</td>\n",
       "      <td>35.0</td>\n",
       "      <td>2.5936</td>\n",
       "      <td>2025.0</td>\n",
       "      <td>20.0</td>\n",
       "      <td>78.9</td>\n",
       "      <td>695.647</td>\n",
       "      <td>36.61</td>\n",
       "      <td>4.0</td>\n",
       "      <td>38.6</td>\n",
       "      <td>12.88</td>\n",
       "      <td>54.0</td>\n",
       "      <td>38.95</td>\n",
       "      <td>9300</td>\n",
       "    </tr>\n",
       "    <tr>\n",
       "      <th>2</th>\n",
       "      <td>Aaron Wise</td>\n",
       "      <td>NaN</td>\n",
       "      <td>NaN</td>\n",
       "      <td>NaN</td>\n",
       "      <td>NaN</td>\n",
       "      <td>NaN</td>\n",
       "      <td>NaN</td>\n",
       "      <td>NaN</td>\n",
       "      <td>NaN</td>\n",
       "      <td>NaN</td>\n",
       "      <td>NaN</td>\n",
       "      <td>NaN</td>\n",
       "      <td>NaN</td>\n",
       "      <td>NaN</td>\n",
       "      <td>NaN</td>\n",
       "      <td>NaN</td>\n",
       "      <td>NaN</td>\n",
       "      <td>NaN</td>\n",
       "      <td>NaN</td>\n",
       "      <td>NaN</td>\n",
       "      <td>NaN</td>\n",
       "      <td>NaN</td>\n",
       "      <td>NaN</td>\n",
       "      <td>NaN</td>\n",
       "      <td>NaN</td>\n",
       "      <td>NaN</td>\n",
       "      <td>NaN</td>\n",
       "      <td>NaN</td>\n",
       "      <td>NaN</td>\n",
       "      <td>NaN</td>\n",
       "      <td>NaN</td>\n",
       "      <td>NaN</td>\n",
       "      <td>NaN</td>\n",
       "      <td>NaN</td>\n",
       "      <td>NaN</td>\n",
       "      <td>NaN</td>\n",
       "      <td>NaN</td>\n",
       "      <td>NaN</td>\n",
       "      <td>NaN</td>\n",
       "      <td>NaN</td>\n",
       "      <td>NaN</td>\n",
       "      <td>6000</td>\n",
       "    </tr>\n",
       "    <tr>\n",
       "      <th>3</th>\n",
       "      <td>Adam Hadwin</td>\n",
       "      <td>160.0</td>\n",
       "      <td>-0.675</td>\n",
       "      <td>135.0</td>\n",
       "      <td>-0.197</td>\n",
       "      <td>163.0</td>\n",
       "      <td>-0.462</td>\n",
       "      <td>101.0</td>\n",
       "      <td>-0.016</td>\n",
       "      <td>84.0</td>\n",
       "      <td>0.071</td>\n",
       "      <td>76.0</td>\n",
       "      <td>22.06%</td>\n",
       "      <td>39.0</td>\n",
       "      <td>3.03</td>\n",
       "      <td>134.0</td>\n",
       "      <td>4.05</td>\n",
       "      <td>128.0</td>\n",
       "      <td>4.64</td>\n",
       "      <td>91.0</td>\n",
       "      <td>178</td>\n",
       "      <td>107.0</td>\n",
       "      <td>300.3</td>\n",
       "      <td>71.0</td>\n",
       "      <td>61.22%</td>\n",
       "      <td>147.0</td>\n",
       "      <td>63.68%</td>\n",
       "      <td>161.0</td>\n",
       "      <td>55.02%</td>\n",
       "      <td>141.0</td>\n",
       "      <td>1.0540</td>\n",
       "      <td>2025.0</td>\n",
       "      <td>250.0</td>\n",
       "      <td>66.7</td>\n",
       "      <td>223.988</td>\n",
       "      <td>10.67</td>\n",
       "      <td>1.0</td>\n",
       "      <td>62.2</td>\n",
       "      <td>20.12</td>\n",
       "      <td>54.5</td>\n",
       "      <td>33.86</td>\n",
       "      <td>6400</td>\n",
       "    </tr>\n",
       "    <tr>\n",
       "      <th>4</th>\n",
       "      <td>Adam Schenk</td>\n",
       "      <td>128.0</td>\n",
       "      <td>-0.185</td>\n",
       "      <td>102.0</td>\n",
       "      <td>0.009</td>\n",
       "      <td>122.0</td>\n",
       "      <td>-0.102</td>\n",
       "      <td>129.0</td>\n",
       "      <td>-0.093</td>\n",
       "      <td>130.0</td>\n",
       "      <td>-0.135</td>\n",
       "      <td>122.0</td>\n",
       "      <td>20.96%</td>\n",
       "      <td>39.0</td>\n",
       "      <td>3.03</td>\n",
       "      <td>162.0</td>\n",
       "      <td>4.08</td>\n",
       "      <td>72.0</td>\n",
       "      <td>4.59</td>\n",
       "      <td>148.0</td>\n",
       "      <td>213</td>\n",
       "      <td>57.0</td>\n",
       "      <td>305.9</td>\n",
       "      <td>156.0</td>\n",
       "      <td>53.93%</td>\n",
       "      <td>167.0</td>\n",
       "      <td>61.74%</td>\n",
       "      <td>117.0</td>\n",
       "      <td>57.81%</td>\n",
       "      <td>184.0</td>\n",
       "      <td>.7831</td>\n",
       "      <td>2025.0</td>\n",
       "      <td>400.0</td>\n",
       "      <td>35.0</td>\n",
       "      <td>258.004</td>\n",
       "      <td>12.90</td>\n",
       "      <td>0.0</td>\n",
       "      <td>70.0</td>\n",
       "      <td>22.99</td>\n",
       "      <td>80.7</td>\n",
       "      <td>38.81</td>\n",
       "      <td>6200</td>\n",
       "    </tr>\n",
       "  </tbody>\n",
       "</table>\n",
       "</div>"
      ],
      "text/plain": [
       "           PLAYER  SGTTG_RANK   SGTTG  SGOTT_RANK   SGOTT  SGAPR_RANK   SGAPR  \\\n",
       "0  Aaron Baddeley       173.0  -1.327       175.0  -1.232       169.0  -0.543   \n",
       "1       Aaron Rai        29.0   0.724        22.0   0.390        57.0   0.246   \n",
       "2      Aaron Wise         NaN     NaN         NaN     NaN         NaN     NaN   \n",
       "3     Adam Hadwin       160.0  -0.675       135.0  -0.197       163.0  -0.462   \n",
       "4     Adam Schenk       128.0  -0.185       102.0   0.009       122.0  -0.102   \n",
       "\n",
       "   SGATG_RANK   SGATG  SGP_RANK     SGP  BIRDIES_RANK BIRDIES  PAR_3_RANK  \\\n",
       "0         9.0   0.447     158.0  -0.422         176.0  17.48%       135.0   \n",
       "1        64.0   0.087     108.0  -0.047         108.0  21.35%       176.0   \n",
       "2         NaN     NaN       NaN     NaN           NaN     NaN         NaN   \n",
       "3       101.0  -0.016      84.0   0.071          76.0  22.06%        39.0   \n",
       "4       129.0  -0.093     130.0  -0.135         122.0  20.96%        39.0   \n",
       "\n",
       "  PAR_3  PAR_4_RANK PAR_4  PAR_5_RANK PAR_5  TOTAL_DRIVING_RANK TOTAL_DRIVING  \\\n",
       "0  3.09       164.0  4.09       176.0  4.78               173.0           284   \n",
       "1  3.18        13.0  3.98        38.0  4.56                74.0           170   \n",
       "2   NaN         NaN   NaN         NaN   NaN                 NaN           NaN   \n",
       "3  3.03       134.0  4.05       128.0  4.64                91.0           178   \n",
       "4  3.03       162.0  4.08        72.0  4.59               148.0           213   \n",
       "\n",
       "   DRIVING_DISTANCE_RANK DRIVING_DISTANCE  DRIVING_ACCURACY_RANK  \\\n",
       "0                  164.0            289.8                  120.0   \n",
       "1                  168.0            288.6                    2.0   \n",
       "2                    NaN              NaN                    NaN   \n",
       "3                  107.0            300.3                   71.0   \n",
       "4                   57.0            305.9                  156.0   \n",
       "\n",
       "  DRIVING_ACCURACY  GIR_RANK     GIR  SCRAMBLING_RANK SCRAMBLING  OWGR_RANK  \\\n",
       "0           57.27%     175.0  59.76%             85.0     59.60%      514.0   \n",
       "1           73.37%      23.0  69.53%             93.0     59.26%       35.0   \n",
       "2              NaN       NaN     NaN              NaN        NaN        NaN   \n",
       "3           61.22%     147.0  63.68%            161.0     55.02%      141.0   \n",
       "4           53.93%     167.0  61.74%            117.0     57.81%      184.0   \n",
       "\n",
       "     OWGR  SEASON  VEGAS_ODDS  CUT_PERCENTAGE  FEDEX_CUP_POINTS  form_density  \\\n",
       "0   .2509  2025.0      2000.0            40.0            49.088          3.27   \n",
       "1  2.5936  2025.0        20.0            78.9           695.647         36.61   \n",
       "2     NaN     NaN         NaN             NaN               NaN           NaN   \n",
       "3  1.0540  2025.0       250.0            66.7           223.988         10.67   \n",
       "4   .7831  2025.0       400.0            35.0           258.004         12.90   \n",
       "\n",
       "   CONSECUTIVE_CUTS  RECENT_FORM  adj_form  COURSE_HISTORY  adj_ch  SALARY  \n",
       "0               0.0         77.6     27.99            79.0   40.60    6000  \n",
       "1               4.0         38.6     12.88            54.0   38.95    9300  \n",
       "2               NaN          NaN       NaN             NaN     NaN    6000  \n",
       "3               1.0         62.2     20.12            54.5   33.86    6400  \n",
       "4               0.0         70.0     22.99            80.7   38.81    6200  "
      ]
     },
     "execution_count": 20,
     "metadata": {},
     "output_type": "execute_result"
    }
   ],
   "source": [
    "importlib.reload(utils.db_utils)\n",
    "from utils.db_utils import build_test_rows\n",
    "\n",
    "this_week = build_test_rows(\n",
    "    db_path=db_path,\n",
    "    stats_df=stats_df,\n",
    "    odds_df=odds_current,\n",
    "    cuts_df=cuts_current,\n",
    "    recent_form_df=recent_form_current,\n",
    "    course_hist_df=course_hist_current,\n",
    "    dk_df=dk,\n",
    "    season=tournament_config[\"new\"][\"season\"]\n",
    ")\n",
    "\n",
    "this_week.head()"
   ]
  },
  {
   "cell_type": "markdown",
   "id": "e30b6643",
   "metadata": {},
   "source": [
    "### Dataframe Normalization\n",
    "\n",
    "Run the same normalization techniques that I ran on the historical data:\n",
    "- Any NaN Odds go to 1000/1 and clip all values at 1000/1\n",
    "- OWGR NaN values go to 1000\n",
    "- Recent form NaN values act like a MC at 90\n",
    "- Average everything else."
   ]
  },
  {
   "cell_type": "code",
   "execution_count": 21,
   "id": "cfea9168",
   "metadata": {},
   "outputs": [],
   "source": [
    "# === 1. Clean percentage stats stored as strings like '62.5%' ===\n",
    "percent_stats = [\"SCRAMBLING\", \"DRIVING_ACCURACY\", \"BIRDIES\", \"GIR\"]\n",
    "\n",
    "for col in percent_stats:\n",
    "    if col in this_week.columns:\n",
    "        this_week[col] = (\n",
    "            this_week[col]\n",
    "            .astype(str)\n",
    "            .str.replace('%', '', regex=False)\n",
    "            .replace(['None', 'nan', 'NaN', '--', 'DNP', ''], np.nan)\n",
    "        )\n",
    "        this_week[col] = pd.to_numeric(this_week[col], errors=\"coerce\")\n",
    "\n",
    "# === 2. Normalize & assign fallback values for key fields ===\n",
    "this_week[\"VEGAS_ODDS\"] = pd.to_numeric(this_week[\"VEGAS_ODDS\"], errors=\"coerce\").fillna(1000).clip(upper=1000)\n",
    "\n",
    "if \"OWGR\" in this_week.columns:\n",
    "    this_week[\"OWGR\"] = pd.to_numeric(this_week[\"OWGR\"], errors=\"coerce\")\n",
    "    max_owgr = this_week[\"OWGR\"].dropna().max()\n",
    "    this_week[\"OWGR\"] = this_week[\"OWGR\"].fillna(max_owgr).clip(upper=1000)\n",
    "\n",
    "if \"OWGR_RANK\" in this_week.columns:\n",
    "    this_week[\"OWGR_RANK\"] = pd.to_numeric(this_week[\"OWGR_RANK\"], errors=\"coerce\").fillna(1000).clip(upper=1000)\n",
    "\n",
    "this_week[\"RECENT_FORM\"] = pd.to_numeric(this_week[\"RECENT_FORM\"], errors=\"coerce\").fillna(90)\n",
    "this_week[\"FEDEX_CUP_POINTS\"] = pd.to_numeric(this_week[\"FEDEX_CUP_POINTS\"], errors=\"coerce\").fillna(0)\n",
    "\n",
    "if \"COURSE_HISTORY\" in this_week.columns:\n",
    "    this_week[\"COURSE_HISTORY\"] = pd.to_numeric(this_week[\"COURSE_HISTORY\"], errors=\"coerce\")\n",
    "    ch_mean = this_week[\"COURSE_HISTORY\"].mean()\n",
    "    this_week[\"COURSE_HISTORY\"] = this_week[\"COURSE_HISTORY\"].fillna(ch_mean)\n",
    "\n",
    "# === 3. Fill all remaining NaNs in numeric columns ===\n",
    "# Recast everything that might look numeric to be sure\n",
    "for col in this_week.columns:\n",
    "    if col not in [\"PLAYER\", \"SALARY\", \"TOURNAMENT\", \"SEASON\"]:\n",
    "        try:\n",
    "            this_week[col] = pd.to_numeric(this_week[col], errors=\"coerce\")\n",
    "        except Exception:\n",
    "            continue\n",
    "\n",
    "numeric_cols = this_week.select_dtypes(include=[\"number\"]).columns.tolist()\n",
    "\n",
    "for col in numeric_cols:\n",
    "    if this_week[col].isna().any():\n",
    "        col_mean = this_week[col].mean()\n",
    "        this_week[col] = this_week[col].fillna(col_mean if not np.isnan(col_mean) else 0)\n"
   ]
  },
  {
   "cell_type": "code",
   "execution_count": 22,
   "id": "4b122fc3",
   "metadata": {},
   "outputs": [],
   "source": [
    "# === Final Check: No NaNs Should Remain ===\n",
    "assert this_week.isna().sum().sum() == 0, \"🚨 Still missing values in prediction set!\""
   ]
  },
  {
   "cell_type": "code",
   "execution_count": 23,
   "id": "b75f2cff",
   "metadata": {},
   "outputs": [
    {
     "name": "stdout",
     "output_type": "stream",
     "text": [
      "🧹 Columns still containing NaN values:\n"
     ]
    },
    {
     "data": {
      "text/plain": [
       "Series([], dtype: int64)"
      ]
     },
     "metadata": {},
     "output_type": "display_data"
    }
   ],
   "source": [
    "# === Check for Remaining Missing Values ===\n",
    "missing_summary = this_week.isna().sum()\n",
    "missing_summary = missing_summary[missing_summary > 0].sort_values(ascending=False)\n",
    "\n",
    "print(\"🧹 Columns still containing NaN values:\")\n",
    "display(missing_summary)"
   ]
  },
  {
   "cell_type": "code",
   "execution_count": 24,
   "id": "cc925bbf",
   "metadata": {},
   "outputs": [
    {
     "data": {
      "text/html": [
       "<div>\n",
       "<style scoped>\n",
       "    .dataframe tbody tr th:only-of-type {\n",
       "        vertical-align: middle;\n",
       "    }\n",
       "\n",
       "    .dataframe tbody tr th {\n",
       "        vertical-align: top;\n",
       "    }\n",
       "\n",
       "    .dataframe thead th {\n",
       "        text-align: right;\n",
       "    }\n",
       "</style>\n",
       "<table border=\"1\" class=\"dataframe\">\n",
       "  <thead>\n",
       "    <tr style=\"text-align: right;\">\n",
       "      <th></th>\n",
       "      <th>PLAYER</th>\n",
       "      <th>SGTTG_RANK</th>\n",
       "      <th>SGTTG</th>\n",
       "      <th>SGOTT_RANK</th>\n",
       "      <th>SGOTT</th>\n",
       "      <th>SGAPR_RANK</th>\n",
       "      <th>SGAPR</th>\n",
       "      <th>SGATG_RANK</th>\n",
       "      <th>SGATG</th>\n",
       "      <th>SGP_RANK</th>\n",
       "      <th>SGP</th>\n",
       "      <th>BIRDIES_RANK</th>\n",
       "      <th>BIRDIES</th>\n",
       "      <th>PAR_3_RANK</th>\n",
       "      <th>PAR_3</th>\n",
       "      <th>PAR_4_RANK</th>\n",
       "      <th>PAR_4</th>\n",
       "      <th>PAR_5_RANK</th>\n",
       "      <th>PAR_5</th>\n",
       "      <th>TOTAL_DRIVING_RANK</th>\n",
       "      <th>TOTAL_DRIVING</th>\n",
       "      <th>DRIVING_DISTANCE_RANK</th>\n",
       "      <th>DRIVING_DISTANCE</th>\n",
       "      <th>DRIVING_ACCURACY_RANK</th>\n",
       "      <th>DRIVING_ACCURACY</th>\n",
       "      <th>GIR_RANK</th>\n",
       "      <th>GIR</th>\n",
       "      <th>SCRAMBLING_RANK</th>\n",
       "      <th>SCRAMBLING</th>\n",
       "      <th>OWGR_RANK</th>\n",
       "      <th>OWGR</th>\n",
       "      <th>SEASON</th>\n",
       "      <th>VEGAS_ODDS</th>\n",
       "      <th>CUT_PERCENTAGE</th>\n",
       "      <th>FEDEX_CUP_POINTS</th>\n",
       "      <th>form_density</th>\n",
       "      <th>CONSECUTIVE_CUTS</th>\n",
       "      <th>RECENT_FORM</th>\n",
       "      <th>adj_form</th>\n",
       "      <th>COURSE_HISTORY</th>\n",
       "      <th>adj_ch</th>\n",
       "      <th>SALARY</th>\n",
       "    </tr>\n",
       "  </thead>\n",
       "  <tbody>\n",
       "    <tr>\n",
       "      <th>0</th>\n",
       "      <td>Aaron Baddeley</td>\n",
       "      <td>173.000000</td>\n",
       "      <td>-1.327000</td>\n",
       "      <td>175.000000</td>\n",
       "      <td>-1.232000</td>\n",
       "      <td>169.000000</td>\n",
       "      <td>-0.543</td>\n",
       "      <td>9.000000</td>\n",
       "      <td>0.447000</td>\n",
       "      <td>158.0</td>\n",
       "      <td>-0.422000</td>\n",
       "      <td>176.000000</td>\n",
       "      <td>17.480000</td>\n",
       "      <td>135.000000</td>\n",
       "      <td>3.090000</td>\n",
       "      <td>164.000000</td>\n",
       "      <td>4.090000</td>\n",
       "      <td>176.000000</td>\n",
       "      <td>4.780</td>\n",
       "      <td>173.000000</td>\n",
       "      <td>284.000000</td>\n",
       "      <td>164.000000</td>\n",
       "      <td>289.8</td>\n",
       "      <td>120.000000</td>\n",
       "      <td>57.270000</td>\n",
       "      <td>175.000000</td>\n",
       "      <td>59.760</td>\n",
       "      <td>85.000000</td>\n",
       "      <td>59.600000</td>\n",
       "      <td>514.0</td>\n",
       "      <td>0.2509</td>\n",
       "      <td>2025.0</td>\n",
       "      <td>1000.0</td>\n",
       "      <td>40.000000</td>\n",
       "      <td>49.088</td>\n",
       "      <td>3.270000</td>\n",
       "      <td>0.000000</td>\n",
       "      <td>77.6</td>\n",
       "      <td>27.990000</td>\n",
       "      <td>79.000000</td>\n",
       "      <td>40.600000</td>\n",
       "      <td>6000</td>\n",
       "    </tr>\n",
       "    <tr>\n",
       "      <th>1</th>\n",
       "      <td>Aaron Rai</td>\n",
       "      <td>29.000000</td>\n",
       "      <td>0.724000</td>\n",
       "      <td>22.000000</td>\n",
       "      <td>0.390000</td>\n",
       "      <td>57.000000</td>\n",
       "      <td>0.246</td>\n",
       "      <td>64.000000</td>\n",
       "      <td>0.087000</td>\n",
       "      <td>108.0</td>\n",
       "      <td>-0.047000</td>\n",
       "      <td>108.000000</td>\n",
       "      <td>21.350000</td>\n",
       "      <td>176.000000</td>\n",
       "      <td>3.180000</td>\n",
       "      <td>13.000000</td>\n",
       "      <td>3.980000</td>\n",
       "      <td>38.000000</td>\n",
       "      <td>4.560</td>\n",
       "      <td>74.000000</td>\n",
       "      <td>170.000000</td>\n",
       "      <td>168.000000</td>\n",
       "      <td>288.6</td>\n",
       "      <td>2.000000</td>\n",
       "      <td>73.370000</td>\n",
       "      <td>23.000000</td>\n",
       "      <td>69.530</td>\n",
       "      <td>93.000000</td>\n",
       "      <td>59.260000</td>\n",
       "      <td>35.0</td>\n",
       "      <td>2.5936</td>\n",
       "      <td>2025.0</td>\n",
       "      <td>20.0</td>\n",
       "      <td>78.900000</td>\n",
       "      <td>695.647</td>\n",
       "      <td>36.610000</td>\n",
       "      <td>4.000000</td>\n",
       "      <td>38.6</td>\n",
       "      <td>12.880000</td>\n",
       "      <td>54.000000</td>\n",
       "      <td>38.950000</td>\n",
       "      <td>9300</td>\n",
       "    </tr>\n",
       "    <tr>\n",
       "      <th>2</th>\n",
       "      <td>Aaron Wise</td>\n",
       "      <td>95.769231</td>\n",
       "      <td>0.031577</td>\n",
       "      <td>94.976923</td>\n",
       "      <td>-0.022077</td>\n",
       "      <td>93.046154</td>\n",
       "      <td>0.028</td>\n",
       "      <td>87.869231</td>\n",
       "      <td>0.025638</td>\n",
       "      <td>93.3</td>\n",
       "      <td>0.000708</td>\n",
       "      <td>96.523077</td>\n",
       "      <td>21.574538</td>\n",
       "      <td>84.638462</td>\n",
       "      <td>3.058538</td>\n",
       "      <td>84.392308</td>\n",
       "      <td>4.024769</td>\n",
       "      <td>89.661538</td>\n",
       "      <td>4.608</td>\n",
       "      <td>90.776923</td>\n",
       "      <td>178.269231</td>\n",
       "      <td>91.907692</td>\n",
       "      <td>302.0</td>\n",
       "      <td>86.361538</td>\n",
       "      <td>60.114769</td>\n",
       "      <td>93.453846</td>\n",
       "      <td>66.098</td>\n",
       "      <td>86.853846</td>\n",
       "      <td>59.581538</td>\n",
       "      <td>1000.0</td>\n",
       "      <td>4.8821</td>\n",
       "      <td>2025.0</td>\n",
       "      <td>1000.0</td>\n",
       "      <td>57.046429</td>\n",
       "      <td>0.000</td>\n",
       "      <td>22.782857</td>\n",
       "      <td>1.578571</td>\n",
       "      <td>90.0</td>\n",
       "      <td>20.407357</td>\n",
       "      <td>57.112264</td>\n",
       "      <td>48.395472</td>\n",
       "      <td>6000</td>\n",
       "    </tr>\n",
       "    <tr>\n",
       "      <th>3</th>\n",
       "      <td>Adam Hadwin</td>\n",
       "      <td>160.000000</td>\n",
       "      <td>-0.675000</td>\n",
       "      <td>135.000000</td>\n",
       "      <td>-0.197000</td>\n",
       "      <td>163.000000</td>\n",
       "      <td>-0.462</td>\n",
       "      <td>101.000000</td>\n",
       "      <td>-0.016000</td>\n",
       "      <td>84.0</td>\n",
       "      <td>0.071000</td>\n",
       "      <td>76.000000</td>\n",
       "      <td>22.060000</td>\n",
       "      <td>39.000000</td>\n",
       "      <td>3.030000</td>\n",
       "      <td>134.000000</td>\n",
       "      <td>4.050000</td>\n",
       "      <td>128.000000</td>\n",
       "      <td>4.640</td>\n",
       "      <td>91.000000</td>\n",
       "      <td>178.000000</td>\n",
       "      <td>107.000000</td>\n",
       "      <td>300.3</td>\n",
       "      <td>71.000000</td>\n",
       "      <td>61.220000</td>\n",
       "      <td>147.000000</td>\n",
       "      <td>63.680</td>\n",
       "      <td>161.000000</td>\n",
       "      <td>55.020000</td>\n",
       "      <td>141.0</td>\n",
       "      <td>1.0540</td>\n",
       "      <td>2025.0</td>\n",
       "      <td>250.0</td>\n",
       "      <td>66.700000</td>\n",
       "      <td>223.988</td>\n",
       "      <td>10.670000</td>\n",
       "      <td>1.000000</td>\n",
       "      <td>62.2</td>\n",
       "      <td>20.120000</td>\n",
       "      <td>54.500000</td>\n",
       "      <td>33.860000</td>\n",
       "      <td>6400</td>\n",
       "    </tr>\n",
       "    <tr>\n",
       "      <th>4</th>\n",
       "      <td>Adam Schenk</td>\n",
       "      <td>128.000000</td>\n",
       "      <td>-0.185000</td>\n",
       "      <td>102.000000</td>\n",
       "      <td>0.009000</td>\n",
       "      <td>122.000000</td>\n",
       "      <td>-0.102</td>\n",
       "      <td>129.000000</td>\n",
       "      <td>-0.093000</td>\n",
       "      <td>130.0</td>\n",
       "      <td>-0.135000</td>\n",
       "      <td>122.000000</td>\n",
       "      <td>20.960000</td>\n",
       "      <td>39.000000</td>\n",
       "      <td>3.030000</td>\n",
       "      <td>162.000000</td>\n",
       "      <td>4.080000</td>\n",
       "      <td>72.000000</td>\n",
       "      <td>4.590</td>\n",
       "      <td>148.000000</td>\n",
       "      <td>213.000000</td>\n",
       "      <td>57.000000</td>\n",
       "      <td>305.9</td>\n",
       "      <td>156.000000</td>\n",
       "      <td>53.930000</td>\n",
       "      <td>167.000000</td>\n",
       "      <td>61.740</td>\n",
       "      <td>117.000000</td>\n",
       "      <td>57.810000</td>\n",
       "      <td>184.0</td>\n",
       "      <td>0.7831</td>\n",
       "      <td>2025.0</td>\n",
       "      <td>400.0</td>\n",
       "      <td>35.000000</td>\n",
       "      <td>258.004</td>\n",
       "      <td>12.900000</td>\n",
       "      <td>0.000000</td>\n",
       "      <td>70.0</td>\n",
       "      <td>22.990000</td>\n",
       "      <td>80.700000</td>\n",
       "      <td>38.810000</td>\n",
       "      <td>6200</td>\n",
       "    </tr>\n",
       "    <tr>\n",
       "      <th>5</th>\n",
       "      <td>Adam Scott</td>\n",
       "      <td>41.000000</td>\n",
       "      <td>0.548000</td>\n",
       "      <td>32.000000</td>\n",
       "      <td>0.312000</td>\n",
       "      <td>73.000000</td>\n",
       "      <td>0.157</td>\n",
       "      <td>67.000000</td>\n",
       "      <td>0.079000</td>\n",
       "      <td>115.0</td>\n",
       "      <td>-0.069000</td>\n",
       "      <td>107.000000</td>\n",
       "      <td>21.360000</td>\n",
       "      <td>147.000000</td>\n",
       "      <td>3.100000</td>\n",
       "      <td>146.000000</td>\n",
       "      <td>4.060000</td>\n",
       "      <td>34.000000</td>\n",
       "      <td>4.550</td>\n",
       "      <td>131.000000</td>\n",
       "      <td>201.000000</td>\n",
       "      <td>79.000000</td>\n",
       "      <td>303.8</td>\n",
       "      <td>122.000000</td>\n",
       "      <td>56.930000</td>\n",
       "      <td>115.000000</td>\n",
       "      <td>65.230</td>\n",
       "      <td>142.000000</td>\n",
       "      <td>56.750000</td>\n",
       "      <td>45.0</td>\n",
       "      <td>2.3495</td>\n",
       "      <td>2025.0</td>\n",
       "      <td>40.0</td>\n",
       "      <td>81.200000</td>\n",
       "      <td>445.528</td>\n",
       "      <td>27.850000</td>\n",
       "      <td>1.000000</td>\n",
       "      <td>42.6</td>\n",
       "      <td>15.040000</td>\n",
       "      <td>28.300000</td>\n",
       "      <td>20.410000</td>\n",
       "      <td>8600</td>\n",
       "    </tr>\n",
       "    <tr>\n",
       "      <th>6</th>\n",
       "      <td>Adam Svensson</td>\n",
       "      <td>63.000000</td>\n",
       "      <td>0.352000</td>\n",
       "      <td>130.000000</td>\n",
       "      <td>-0.177000</td>\n",
       "      <td>45.000000</td>\n",
       "      <td>0.278</td>\n",
       "      <td>28.000000</td>\n",
       "      <td>0.251000</td>\n",
       "      <td>168.0</td>\n",
       "      <td>-0.533000</td>\n",
       "      <td>154.000000</td>\n",
       "      <td>20.130000</td>\n",
       "      <td>54.000000</td>\n",
       "      <td>3.040000</td>\n",
       "      <td>117.000000</td>\n",
       "      <td>4.040000</td>\n",
       "      <td>38.000000</td>\n",
       "      <td>4.560</td>\n",
       "      <td>97.000000</td>\n",
       "      <td>181.000000</td>\n",
       "      <td>154.000000</td>\n",
       "      <td>295.1</td>\n",
       "      <td>27.000000</td>\n",
       "      <td>65.170000</td>\n",
       "      <td>41.000000</td>\n",
       "      <td>68.580</td>\n",
       "      <td>90.000000</td>\n",
       "      <td>59.420000</td>\n",
       "      <td>211.0</td>\n",
       "      <td>0.6908</td>\n",
       "      <td>2025.0</td>\n",
       "      <td>100.0</td>\n",
       "      <td>52.600000</td>\n",
       "      <td>149.843</td>\n",
       "      <td>7.890000</td>\n",
       "      <td>1.000000</td>\n",
       "      <td>65.5</td>\n",
       "      <td>21.860000</td>\n",
       "      <td>30.800000</td>\n",
       "      <td>19.140000</td>\n",
       "      <td>6900</td>\n",
       "    </tr>\n",
       "    <tr>\n",
       "      <th>7</th>\n",
       "      <td>Akshay Bhatia</td>\n",
       "      <td>74.000000</td>\n",
       "      <td>0.235000</td>\n",
       "      <td>114.000000</td>\n",
       "      <td>-0.027000</td>\n",
       "      <td>17.000000</td>\n",
       "      <td>0.559</td>\n",
       "      <td>159.000000</td>\n",
       "      <td>-0.297000</td>\n",
       "      <td>16.0</td>\n",
       "      <td>0.410000</td>\n",
       "      <td>12.000000</td>\n",
       "      <td>24.590000</td>\n",
       "      <td>11.000000</td>\n",
       "      <td>2.990000</td>\n",
       "      <td>41.000000</td>\n",
       "      <td>4.000000</td>\n",
       "      <td>133.000000</td>\n",
       "      <td>4.650</td>\n",
       "      <td>121.000000</td>\n",
       "      <td>195.000000</td>\n",
       "      <td>140.000000</td>\n",
       "      <td>296.7</td>\n",
       "      <td>55.000000</td>\n",
       "      <td>62.080000</td>\n",
       "      <td>60.000000</td>\n",
       "      <td>67.570</td>\n",
       "      <td>166.000000</td>\n",
       "      <td>54.160000</td>\n",
       "      <td>38.0</td>\n",
       "      <td>2.5468</td>\n",
       "      <td>2025.0</td>\n",
       "      <td>40.0</td>\n",
       "      <td>80.000000</td>\n",
       "      <td>908.990</td>\n",
       "      <td>45.450000</td>\n",
       "      <td>4.000000</td>\n",
       "      <td>38.7</td>\n",
       "      <td>12.710000</td>\n",
       "      <td>90.000000</td>\n",
       "      <td>55.920000</td>\n",
       "      <td>9000</td>\n",
       "    </tr>\n",
       "    <tr>\n",
       "      <th>8</th>\n",
       "      <td>Alex Noren</td>\n",
       "      <td>95.769231</td>\n",
       "      <td>0.031577</td>\n",
       "      <td>94.976923</td>\n",
       "      <td>-0.022077</td>\n",
       "      <td>93.046154</td>\n",
       "      <td>0.028</td>\n",
       "      <td>87.869231</td>\n",
       "      <td>0.025638</td>\n",
       "      <td>93.3</td>\n",
       "      <td>0.000708</td>\n",
       "      <td>96.523077</td>\n",
       "      <td>21.574538</td>\n",
       "      <td>84.638462</td>\n",
       "      <td>3.058538</td>\n",
       "      <td>84.392308</td>\n",
       "      <td>4.024769</td>\n",
       "      <td>89.661538</td>\n",
       "      <td>4.608</td>\n",
       "      <td>90.776923</td>\n",
       "      <td>178.269231</td>\n",
       "      <td>91.907692</td>\n",
       "      <td>302.0</td>\n",
       "      <td>86.361538</td>\n",
       "      <td>60.114769</td>\n",
       "      <td>93.453846</td>\n",
       "      <td>66.098</td>\n",
       "      <td>86.853846</td>\n",
       "      <td>59.581538</td>\n",
       "      <td>85.0</td>\n",
       "      <td>1.6740</td>\n",
       "      <td>2025.0</td>\n",
       "      <td>80.0</td>\n",
       "      <td>62.500000</td>\n",
       "      <td>219.250</td>\n",
       "      <td>27.410000</td>\n",
       "      <td>1.000000</td>\n",
       "      <td>51.8</td>\n",
       "      <td>23.580000</td>\n",
       "      <td>49.000000</td>\n",
       "      <td>44.600000</td>\n",
       "      <td>7200</td>\n",
       "    </tr>\n",
       "    <tr>\n",
       "      <th>9</th>\n",
       "      <td>Alex Smalley</td>\n",
       "      <td>25.000000</td>\n",
       "      <td>0.773000</td>\n",
       "      <td>20.000000</td>\n",
       "      <td>0.418000</td>\n",
       "      <td>79.000000</td>\n",
       "      <td>0.131</td>\n",
       "      <td>32.000000</td>\n",
       "      <td>0.224000</td>\n",
       "      <td>28.0</td>\n",
       "      <td>0.319000</td>\n",
       "      <td>18.000000</td>\n",
       "      <td>24.070000</td>\n",
       "      <td>54.000000</td>\n",
       "      <td>3.040000</td>\n",
       "      <td>2.000000</td>\n",
       "      <td>3.950000</td>\n",
       "      <td>48.000000</td>\n",
       "      <td>4.570</td>\n",
       "      <td>5.000000</td>\n",
       "      <td>86.000000</td>\n",
       "      <td>47.000000</td>\n",
       "      <td>307.5</td>\n",
       "      <td>39.000000</td>\n",
       "      <td>63.600000</td>\n",
       "      <td>39.000000</td>\n",
       "      <td>68.690</td>\n",
       "      <td>17.000000</td>\n",
       "      <td>64.250000</td>\n",
       "      <td>124.0</td>\n",
       "      <td>1.1855</td>\n",
       "      <td>2025.0</td>\n",
       "      <td>80.0</td>\n",
       "      <td>61.900000</td>\n",
       "      <td>529.194</td>\n",
       "      <td>25.200000</td>\n",
       "      <td>2.000000</td>\n",
       "      <td>49.3</td>\n",
       "      <td>15.950000</td>\n",
       "      <td>55.500000</td>\n",
       "      <td>34.480000</td>\n",
       "      <td>7200</td>\n",
       "    </tr>\n",
       "  </tbody>\n",
       "</table>\n",
       "</div>"
      ],
      "text/plain": [
       "           PLAYER  SGTTG_RANK     SGTTG  SGOTT_RANK     SGOTT  SGAPR_RANK  \\\n",
       "0  Aaron Baddeley  173.000000 -1.327000  175.000000 -1.232000  169.000000   \n",
       "1       Aaron Rai   29.000000  0.724000   22.000000  0.390000   57.000000   \n",
       "2      Aaron Wise   95.769231  0.031577   94.976923 -0.022077   93.046154   \n",
       "3     Adam Hadwin  160.000000 -0.675000  135.000000 -0.197000  163.000000   \n",
       "4     Adam Schenk  128.000000 -0.185000  102.000000  0.009000  122.000000   \n",
       "5      Adam Scott   41.000000  0.548000   32.000000  0.312000   73.000000   \n",
       "6   Adam Svensson   63.000000  0.352000  130.000000 -0.177000   45.000000   \n",
       "7   Akshay Bhatia   74.000000  0.235000  114.000000 -0.027000   17.000000   \n",
       "8      Alex Noren   95.769231  0.031577   94.976923 -0.022077   93.046154   \n",
       "9    Alex Smalley   25.000000  0.773000   20.000000  0.418000   79.000000   \n",
       "\n",
       "   SGAPR  SGATG_RANK     SGATG  SGP_RANK       SGP  BIRDIES_RANK    BIRDIES  \\\n",
       "0 -0.543    9.000000  0.447000     158.0 -0.422000    176.000000  17.480000   \n",
       "1  0.246   64.000000  0.087000     108.0 -0.047000    108.000000  21.350000   \n",
       "2  0.028   87.869231  0.025638      93.3  0.000708     96.523077  21.574538   \n",
       "3 -0.462  101.000000 -0.016000      84.0  0.071000     76.000000  22.060000   \n",
       "4 -0.102  129.000000 -0.093000     130.0 -0.135000    122.000000  20.960000   \n",
       "5  0.157   67.000000  0.079000     115.0 -0.069000    107.000000  21.360000   \n",
       "6  0.278   28.000000  0.251000     168.0 -0.533000    154.000000  20.130000   \n",
       "7  0.559  159.000000 -0.297000      16.0  0.410000     12.000000  24.590000   \n",
       "8  0.028   87.869231  0.025638      93.3  0.000708     96.523077  21.574538   \n",
       "9  0.131   32.000000  0.224000      28.0  0.319000     18.000000  24.070000   \n",
       "\n",
       "   PAR_3_RANK     PAR_3  PAR_4_RANK     PAR_4  PAR_5_RANK  PAR_5  \\\n",
       "0  135.000000  3.090000  164.000000  4.090000  176.000000  4.780   \n",
       "1  176.000000  3.180000   13.000000  3.980000   38.000000  4.560   \n",
       "2   84.638462  3.058538   84.392308  4.024769   89.661538  4.608   \n",
       "3   39.000000  3.030000  134.000000  4.050000  128.000000  4.640   \n",
       "4   39.000000  3.030000  162.000000  4.080000   72.000000  4.590   \n",
       "5  147.000000  3.100000  146.000000  4.060000   34.000000  4.550   \n",
       "6   54.000000  3.040000  117.000000  4.040000   38.000000  4.560   \n",
       "7   11.000000  2.990000   41.000000  4.000000  133.000000  4.650   \n",
       "8   84.638462  3.058538   84.392308  4.024769   89.661538  4.608   \n",
       "9   54.000000  3.040000    2.000000  3.950000   48.000000  4.570   \n",
       "\n",
       "   TOTAL_DRIVING_RANK  TOTAL_DRIVING  DRIVING_DISTANCE_RANK  DRIVING_DISTANCE  \\\n",
       "0          173.000000     284.000000             164.000000             289.8   \n",
       "1           74.000000     170.000000             168.000000             288.6   \n",
       "2           90.776923     178.269231              91.907692             302.0   \n",
       "3           91.000000     178.000000             107.000000             300.3   \n",
       "4          148.000000     213.000000              57.000000             305.9   \n",
       "5          131.000000     201.000000              79.000000             303.8   \n",
       "6           97.000000     181.000000             154.000000             295.1   \n",
       "7          121.000000     195.000000             140.000000             296.7   \n",
       "8           90.776923     178.269231              91.907692             302.0   \n",
       "9            5.000000      86.000000              47.000000             307.5   \n",
       "\n",
       "   DRIVING_ACCURACY_RANK  DRIVING_ACCURACY    GIR_RANK     GIR  \\\n",
       "0             120.000000         57.270000  175.000000  59.760   \n",
       "1               2.000000         73.370000   23.000000  69.530   \n",
       "2              86.361538         60.114769   93.453846  66.098   \n",
       "3              71.000000         61.220000  147.000000  63.680   \n",
       "4             156.000000         53.930000  167.000000  61.740   \n",
       "5             122.000000         56.930000  115.000000  65.230   \n",
       "6              27.000000         65.170000   41.000000  68.580   \n",
       "7              55.000000         62.080000   60.000000  67.570   \n",
       "8              86.361538         60.114769   93.453846  66.098   \n",
       "9              39.000000         63.600000   39.000000  68.690   \n",
       "\n",
       "   SCRAMBLING_RANK  SCRAMBLING  OWGR_RANK    OWGR  SEASON  VEGAS_ODDS  \\\n",
       "0        85.000000   59.600000      514.0  0.2509  2025.0      1000.0   \n",
       "1        93.000000   59.260000       35.0  2.5936  2025.0        20.0   \n",
       "2        86.853846   59.581538     1000.0  4.8821  2025.0      1000.0   \n",
       "3       161.000000   55.020000      141.0  1.0540  2025.0       250.0   \n",
       "4       117.000000   57.810000      184.0  0.7831  2025.0       400.0   \n",
       "5       142.000000   56.750000       45.0  2.3495  2025.0        40.0   \n",
       "6        90.000000   59.420000      211.0  0.6908  2025.0       100.0   \n",
       "7       166.000000   54.160000       38.0  2.5468  2025.0        40.0   \n",
       "8        86.853846   59.581538       85.0  1.6740  2025.0        80.0   \n",
       "9        17.000000   64.250000      124.0  1.1855  2025.0        80.0   \n",
       "\n",
       "   CUT_PERCENTAGE  FEDEX_CUP_POINTS  form_density  CONSECUTIVE_CUTS  \\\n",
       "0       40.000000            49.088      3.270000          0.000000   \n",
       "1       78.900000           695.647     36.610000          4.000000   \n",
       "2       57.046429             0.000     22.782857          1.578571   \n",
       "3       66.700000           223.988     10.670000          1.000000   \n",
       "4       35.000000           258.004     12.900000          0.000000   \n",
       "5       81.200000           445.528     27.850000          1.000000   \n",
       "6       52.600000           149.843      7.890000          1.000000   \n",
       "7       80.000000           908.990     45.450000          4.000000   \n",
       "8       62.500000           219.250     27.410000          1.000000   \n",
       "9       61.900000           529.194     25.200000          2.000000   \n",
       "\n",
       "   RECENT_FORM   adj_form  COURSE_HISTORY     adj_ch  SALARY  \n",
       "0         77.6  27.990000       79.000000  40.600000    6000  \n",
       "1         38.6  12.880000       54.000000  38.950000    9300  \n",
       "2         90.0  20.407357       57.112264  48.395472    6000  \n",
       "3         62.2  20.120000       54.500000  33.860000    6400  \n",
       "4         70.0  22.990000       80.700000  38.810000    6200  \n",
       "5         42.6  15.040000       28.300000  20.410000    8600  \n",
       "6         65.5  21.860000       30.800000  19.140000    6900  \n",
       "7         38.7  12.710000       90.000000  55.920000    9000  \n",
       "8         51.8  23.580000       49.000000  44.600000    7200  \n",
       "9         49.3  15.950000       55.500000  34.480000    7200  "
      ]
     },
     "execution_count": 24,
     "metadata": {},
     "output_type": "execute_result"
    }
   ],
   "source": [
    "this_week.head(10)"
   ]
  },
  {
   "cell_type": "markdown",
   "id": "e37950e7",
   "metadata": {},
   "source": [
    "## Correlations\n",
    "**Last 4 Years**"
   ]
  },
  {
   "cell_type": "code",
   "execution_count": 25,
   "id": "d749a70f",
   "metadata": {},
   "outputs": [
    {
     "data": {
      "application/vnd.plotly.v1+json": {
       "config": {
        "plotlyServerURL": "https://plot.ly"
       },
       "data": [
        {
         "hovertemplate": "Feature=%{x}<br>Correlation=%{y}<extra></extra>",
         "legendgroup": "",
         "marker": {
          "color": "#636efa",
          "pattern": {
           "shape": ""
          }
         },
         "name": "",
         "orientation": "v",
         "showlegend": false,
         "textposition": "auto",
         "type": "bar",
         "x": [
          "OWGR",
          "OWGR_RANK",
          "BIRDIES_RANK",
          "BIRDIES",
          "RECENT_FORM",
          "SGP_RANK",
          "CUT_PERCENTAGE",
          "VEGAS_ODDS",
          "SGP",
          "form_density",
          "PAR_4_RANK",
          "FEDEX_CUP_POINTS",
          "PAR_4",
          "adj_form",
          "SGATG",
          "PAR_3_RANK",
          "PAR_3",
          "CONSECUTIVE_CUTS",
          "SGATG_RANK",
          "SGTTG",
          "SGTTG_RANK",
          "DRIVING_ACCURACY",
          "PAR_5_RANK",
          "COURSE_HISTORY",
          "PAR_5",
          "adj_ch",
          "DRIVING_ACCURACY_RANK",
          "SGAPR",
          "DRIVING_DISTANCE",
          "SGOTT_RANK",
          "TOTAL_DRIVING_RANK",
          "GIR_RANK",
          "TOTAL_DRIVING",
          "DRIVING_DISTANCE_RANK",
          "SGOTT",
          "GIR",
          "SGAPR_RANK",
          "SCRAMBLING",
          "SCRAMBLING_RANK"
         ],
         "xaxis": "x",
         "y": {
          "bdata": "4wyAIL2l1D9n6nZpMJLRP+stxv0WhtE/T9q813390D++UeCNwHbNP2aufw6mqMw/tNX52b6AzD8zhaTpVSvMP8Qh4MjLOss/r5/cHbjYyD8wIwyzGUjIP03Al4IBicc/xvhO5DmWxj+wBPBuQEXGP2E6HWS9RcQ/hHX+iJ8WwT8dfRfCyTPAPxANtrfEHr0/Yo9Xk4cMuz+V60/yy7O6P4aqoP1ASbo/ASLNmhLJuD8kJt4ohp+yP0r2iW6lf7E/Onkg38wZsD91ZlQlhOOvPw/LEyDsTqw/vVwj0XPzqD+jagxEmvunP2uYUszTzqU/nQjUq1Jkoz+FmOawAEahP6HYbmnZVqA/fYwtV8Yhnz/Uu8k8SyKYP0K388hBK5Y/uUdVVRJ7lD8LAHq3PniOP8KUCZi4g4k/",
          "dtype": "f8"
         },
         "yaxis": "y"
        }
       ],
       "layout": {
        "barmode": "relative",
        "height": 500,
        "legend": {
         "tracegroupgap": 0
        },
        "template": {
         "data": {
          "bar": [
           {
            "error_x": {
             "color": "#f2f5fa"
            },
            "error_y": {
             "color": "#f2f5fa"
            },
            "marker": {
             "line": {
              "color": "rgb(17,17,17)",
              "width": 0.5
             },
             "pattern": {
              "fillmode": "overlay",
              "size": 10,
              "solidity": 0.2
             }
            },
            "type": "bar"
           }
          ],
          "barpolar": [
           {
            "marker": {
             "line": {
              "color": "rgb(17,17,17)",
              "width": 0.5
             },
             "pattern": {
              "fillmode": "overlay",
              "size": 10,
              "solidity": 0.2
             }
            },
            "type": "barpolar"
           }
          ],
          "carpet": [
           {
            "aaxis": {
             "endlinecolor": "#A2B1C6",
             "gridcolor": "#506784",
             "linecolor": "#506784",
             "minorgridcolor": "#506784",
             "startlinecolor": "#A2B1C6"
            },
            "baxis": {
             "endlinecolor": "#A2B1C6",
             "gridcolor": "#506784",
             "linecolor": "#506784",
             "minorgridcolor": "#506784",
             "startlinecolor": "#A2B1C6"
            },
            "type": "carpet"
           }
          ],
          "choropleth": [
           {
            "colorbar": {
             "outlinewidth": 0,
             "ticks": ""
            },
            "type": "choropleth"
           }
          ],
          "contour": [
           {
            "colorbar": {
             "outlinewidth": 0,
             "ticks": ""
            },
            "colorscale": [
             [
              0,
              "#0d0887"
             ],
             [
              0.1111111111111111,
              "#46039f"
             ],
             [
              0.2222222222222222,
              "#7201a8"
             ],
             [
              0.3333333333333333,
              "#9c179e"
             ],
             [
              0.4444444444444444,
              "#bd3786"
             ],
             [
              0.5555555555555556,
              "#d8576b"
             ],
             [
              0.6666666666666666,
              "#ed7953"
             ],
             [
              0.7777777777777778,
              "#fb9f3a"
             ],
             [
              0.8888888888888888,
              "#fdca26"
             ],
             [
              1,
              "#f0f921"
             ]
            ],
            "type": "contour"
           }
          ],
          "contourcarpet": [
           {
            "colorbar": {
             "outlinewidth": 0,
             "ticks": ""
            },
            "type": "contourcarpet"
           }
          ],
          "heatmap": [
           {
            "colorbar": {
             "outlinewidth": 0,
             "ticks": ""
            },
            "colorscale": [
             [
              0,
              "#0d0887"
             ],
             [
              0.1111111111111111,
              "#46039f"
             ],
             [
              0.2222222222222222,
              "#7201a8"
             ],
             [
              0.3333333333333333,
              "#9c179e"
             ],
             [
              0.4444444444444444,
              "#bd3786"
             ],
             [
              0.5555555555555556,
              "#d8576b"
             ],
             [
              0.6666666666666666,
              "#ed7953"
             ],
             [
              0.7777777777777778,
              "#fb9f3a"
             ],
             [
              0.8888888888888888,
              "#fdca26"
             ],
             [
              1,
              "#f0f921"
             ]
            ],
            "type": "heatmap"
           }
          ],
          "histogram": [
           {
            "marker": {
             "pattern": {
              "fillmode": "overlay",
              "size": 10,
              "solidity": 0.2
             }
            },
            "type": "histogram"
           }
          ],
          "histogram2d": [
           {
            "colorbar": {
             "outlinewidth": 0,
             "ticks": ""
            },
            "colorscale": [
             [
              0,
              "#0d0887"
             ],
             [
              0.1111111111111111,
              "#46039f"
             ],
             [
              0.2222222222222222,
              "#7201a8"
             ],
             [
              0.3333333333333333,
              "#9c179e"
             ],
             [
              0.4444444444444444,
              "#bd3786"
             ],
             [
              0.5555555555555556,
              "#d8576b"
             ],
             [
              0.6666666666666666,
              "#ed7953"
             ],
             [
              0.7777777777777778,
              "#fb9f3a"
             ],
             [
              0.8888888888888888,
              "#fdca26"
             ],
             [
              1,
              "#f0f921"
             ]
            ],
            "type": "histogram2d"
           }
          ],
          "histogram2dcontour": [
           {
            "colorbar": {
             "outlinewidth": 0,
             "ticks": ""
            },
            "colorscale": [
             [
              0,
              "#0d0887"
             ],
             [
              0.1111111111111111,
              "#46039f"
             ],
             [
              0.2222222222222222,
              "#7201a8"
             ],
             [
              0.3333333333333333,
              "#9c179e"
             ],
             [
              0.4444444444444444,
              "#bd3786"
             ],
             [
              0.5555555555555556,
              "#d8576b"
             ],
             [
              0.6666666666666666,
              "#ed7953"
             ],
             [
              0.7777777777777778,
              "#fb9f3a"
             ],
             [
              0.8888888888888888,
              "#fdca26"
             ],
             [
              1,
              "#f0f921"
             ]
            ],
            "type": "histogram2dcontour"
           }
          ],
          "mesh3d": [
           {
            "colorbar": {
             "outlinewidth": 0,
             "ticks": ""
            },
            "type": "mesh3d"
           }
          ],
          "parcoords": [
           {
            "line": {
             "colorbar": {
              "outlinewidth": 0,
              "ticks": ""
             }
            },
            "type": "parcoords"
           }
          ],
          "pie": [
           {
            "automargin": true,
            "type": "pie"
           }
          ],
          "scatter": [
           {
            "marker": {
             "line": {
              "color": "#283442"
             }
            },
            "type": "scatter"
           }
          ],
          "scatter3d": [
           {
            "line": {
             "colorbar": {
              "outlinewidth": 0,
              "ticks": ""
             }
            },
            "marker": {
             "colorbar": {
              "outlinewidth": 0,
              "ticks": ""
             }
            },
            "type": "scatter3d"
           }
          ],
          "scattercarpet": [
           {
            "marker": {
             "colorbar": {
              "outlinewidth": 0,
              "ticks": ""
             }
            },
            "type": "scattercarpet"
           }
          ],
          "scattergeo": [
           {
            "marker": {
             "colorbar": {
              "outlinewidth": 0,
              "ticks": ""
             }
            },
            "type": "scattergeo"
           }
          ],
          "scattergl": [
           {
            "marker": {
             "line": {
              "color": "#283442"
             }
            },
            "type": "scattergl"
           }
          ],
          "scattermap": [
           {
            "marker": {
             "colorbar": {
              "outlinewidth": 0,
              "ticks": ""
             }
            },
            "type": "scattermap"
           }
          ],
          "scattermapbox": [
           {
            "marker": {
             "colorbar": {
              "outlinewidth": 0,
              "ticks": ""
             }
            },
            "type": "scattermapbox"
           }
          ],
          "scatterpolar": [
           {
            "marker": {
             "colorbar": {
              "outlinewidth": 0,
              "ticks": ""
             }
            },
            "type": "scatterpolar"
           }
          ],
          "scatterpolargl": [
           {
            "marker": {
             "colorbar": {
              "outlinewidth": 0,
              "ticks": ""
             }
            },
            "type": "scatterpolargl"
           }
          ],
          "scatterternary": [
           {
            "marker": {
             "colorbar": {
              "outlinewidth": 0,
              "ticks": ""
             }
            },
            "type": "scatterternary"
           }
          ],
          "surface": [
           {
            "colorbar": {
             "outlinewidth": 0,
             "ticks": ""
            },
            "colorscale": [
             [
              0,
              "#0d0887"
             ],
             [
              0.1111111111111111,
              "#46039f"
             ],
             [
              0.2222222222222222,
              "#7201a8"
             ],
             [
              0.3333333333333333,
              "#9c179e"
             ],
             [
              0.4444444444444444,
              "#bd3786"
             ],
             [
              0.5555555555555556,
              "#d8576b"
             ],
             [
              0.6666666666666666,
              "#ed7953"
             ],
             [
              0.7777777777777778,
              "#fb9f3a"
             ],
             [
              0.8888888888888888,
              "#fdca26"
             ],
             [
              1,
              "#f0f921"
             ]
            ],
            "type": "surface"
           }
          ],
          "table": [
           {
            "cells": {
             "fill": {
              "color": "#506784"
             },
             "line": {
              "color": "rgb(17,17,17)"
             }
            },
            "header": {
             "fill": {
              "color": "#2a3f5f"
             },
             "line": {
              "color": "rgb(17,17,17)"
             }
            },
            "type": "table"
           }
          ]
         },
         "layout": {
          "annotationdefaults": {
           "arrowcolor": "#f2f5fa",
           "arrowhead": 0,
           "arrowwidth": 1
          },
          "autotypenumbers": "strict",
          "coloraxis": {
           "colorbar": {
            "outlinewidth": 0,
            "ticks": ""
           }
          },
          "colorscale": {
           "diverging": [
            [
             0,
             "#8e0152"
            ],
            [
             0.1,
             "#c51b7d"
            ],
            [
             0.2,
             "#de77ae"
            ],
            [
             0.3,
             "#f1b6da"
            ],
            [
             0.4,
             "#fde0ef"
            ],
            [
             0.5,
             "#f7f7f7"
            ],
            [
             0.6,
             "#e6f5d0"
            ],
            [
             0.7,
             "#b8e186"
            ],
            [
             0.8,
             "#7fbc41"
            ],
            [
             0.9,
             "#4d9221"
            ],
            [
             1,
             "#276419"
            ]
           ],
           "sequential": [
            [
             0,
             "#0d0887"
            ],
            [
             0.1111111111111111,
             "#46039f"
            ],
            [
             0.2222222222222222,
             "#7201a8"
            ],
            [
             0.3333333333333333,
             "#9c179e"
            ],
            [
             0.4444444444444444,
             "#bd3786"
            ],
            [
             0.5555555555555556,
             "#d8576b"
            ],
            [
             0.6666666666666666,
             "#ed7953"
            ],
            [
             0.7777777777777778,
             "#fb9f3a"
            ],
            [
             0.8888888888888888,
             "#fdca26"
            ],
            [
             1,
             "#f0f921"
            ]
           ],
           "sequentialminus": [
            [
             0,
             "#0d0887"
            ],
            [
             0.1111111111111111,
             "#46039f"
            ],
            [
             0.2222222222222222,
             "#7201a8"
            ],
            [
             0.3333333333333333,
             "#9c179e"
            ],
            [
             0.4444444444444444,
             "#bd3786"
            ],
            [
             0.5555555555555556,
             "#d8576b"
            ],
            [
             0.6666666666666666,
             "#ed7953"
            ],
            [
             0.7777777777777778,
             "#fb9f3a"
            ],
            [
             0.8888888888888888,
             "#fdca26"
            ],
            [
             1,
             "#f0f921"
            ]
           ]
          },
          "colorway": [
           "#636efa",
           "#EF553B",
           "#00cc96",
           "#ab63fa",
           "#FFA15A",
           "#19d3f3",
           "#FF6692",
           "#B6E880",
           "#FF97FF",
           "#FECB52"
          ],
          "font": {
           "color": "#f2f5fa"
          },
          "geo": {
           "bgcolor": "rgb(17,17,17)",
           "lakecolor": "rgb(17,17,17)",
           "landcolor": "rgb(17,17,17)",
           "showlakes": true,
           "showland": true,
           "subunitcolor": "#506784"
          },
          "hoverlabel": {
           "align": "left"
          },
          "hovermode": "closest",
          "mapbox": {
           "style": "dark"
          },
          "paper_bgcolor": "rgb(17,17,17)",
          "plot_bgcolor": "rgb(17,17,17)",
          "polar": {
           "angularaxis": {
            "gridcolor": "#506784",
            "linecolor": "#506784",
            "ticks": ""
           },
           "bgcolor": "rgb(17,17,17)",
           "radialaxis": {
            "gridcolor": "#506784",
            "linecolor": "#506784",
            "ticks": ""
           }
          },
          "scene": {
           "xaxis": {
            "backgroundcolor": "rgb(17,17,17)",
            "gridcolor": "#506784",
            "gridwidth": 2,
            "linecolor": "#506784",
            "showbackground": true,
            "ticks": "",
            "zerolinecolor": "#C8D4E3"
           },
           "yaxis": {
            "backgroundcolor": "rgb(17,17,17)",
            "gridcolor": "#506784",
            "gridwidth": 2,
            "linecolor": "#506784",
            "showbackground": true,
            "ticks": "",
            "zerolinecolor": "#C8D4E3"
           },
           "zaxis": {
            "backgroundcolor": "rgb(17,17,17)",
            "gridcolor": "#506784",
            "gridwidth": 2,
            "linecolor": "#506784",
            "showbackground": true,
            "ticks": "",
            "zerolinecolor": "#C8D4E3"
           }
          },
          "shapedefaults": {
           "line": {
            "color": "#f2f5fa"
           }
          },
          "sliderdefaults": {
           "bgcolor": "#C8D4E3",
           "bordercolor": "rgb(17,17,17)",
           "borderwidth": 1,
           "tickwidth": 0
          },
          "ternary": {
           "aaxis": {
            "gridcolor": "#506784",
            "linecolor": "#506784",
            "ticks": ""
           },
           "baxis": {
            "gridcolor": "#506784",
            "linecolor": "#506784",
            "ticks": ""
           },
           "bgcolor": "rgb(17,17,17)",
           "caxis": {
            "gridcolor": "#506784",
            "linecolor": "#506784",
            "ticks": ""
           }
          },
          "title": {
           "x": 0.05
          },
          "updatemenudefaults": {
           "bgcolor": "#506784",
           "borderwidth": 0
          },
          "xaxis": {
           "automargin": true,
           "gridcolor": "#283442",
           "linecolor": "#506784",
           "ticks": "",
           "title": {
            "standoff": 15
           },
           "zerolinecolor": "#283442",
           "zerolinewidth": 2
          },
          "yaxis": {
           "automargin": true,
           "gridcolor": "#283442",
           "linecolor": "#506784",
           "ticks": "",
           "title": {
            "standoff": 15
           },
           "zerolinecolor": "#283442",
           "zerolinewidth": 2
          }
         }
        },
        "title": {
         "text": "🔎 Correlation to TOP_20 — Season 2021"
        },
        "width": 1000,
        "xaxis": {
         "anchor": "y",
         "domain": [
          0,
          1
         ],
         "tickangle": -45,
         "title": {
          "text": "Feature"
         }
        },
        "yaxis": {
         "anchor": "x",
         "domain": [
          0,
          1
         ],
         "title": {
          "text": "Absolute Correlation to TOP_20"
         }
        }
       }
      }
     },
     "metadata": {},
     "output_type": "display_data"
    },
    {
     "data": {
      "application/vnd.plotly.v1+json": {
       "config": {
        "plotlyServerURL": "https://plot.ly"
       },
       "data": [
        {
         "hovertemplate": "Feature=%{x}<br>Correlation=%{y}<extra></extra>",
         "legendgroup": "",
         "marker": {
          "color": "#636efa",
          "pattern": {
           "shape": ""
          }
         },
         "name": "",
         "orientation": "v",
         "showlegend": false,
         "textposition": "auto",
         "type": "bar",
         "x": [
          "BIRDIES",
          "BIRDIES_RANK",
          "PAR_4_RANK",
          "PAR_4",
          "OWGR_RANK",
          "OWGR",
          "SGTTG_RANK",
          "VEGAS_ODDS",
          "SGTTG",
          "PAR_3",
          "PAR_3_RANK",
          "FEDEX_CUP_POINTS",
          "form_density",
          "PAR_5",
          "SGOTT_RANK",
          "SGOTT",
          "SGATG_RANK",
          "SGATG",
          "PAR_5_RANK",
          "DRIVING_DISTANCE",
          "GIR",
          "TOTAL_DRIVING_RANK",
          "RECENT_FORM",
          "SGP",
          "SGAPR",
          "TOTAL_DRIVING",
          "DRIVING_DISTANCE_RANK",
          "SGAPR_RANK",
          "GIR_RANK",
          "COURSE_HISTORY",
          "SGP_RANK",
          "SCRAMBLING",
          "SCRAMBLING_RANK",
          "adj_form",
          "CUT_PERCENTAGE",
          "adj_ch",
          "DRIVING_ACCURACY",
          "CONSECUTIVE_CUTS",
          "DRIVING_ACCURACY_RANK"
         ],
         "xaxis": "x",
         "y": {
          "bdata": "uggGwKZd1T/CxRGEnnbUP9dH9AoeI8s/squrCAaVyj9J29j7FtnJP+OUeNGIPsc/UTFIBkZOxT8CW/zXHvXDP+KQWF93dcM/pRb8Nbtlwz8XQcv4/FzCP8Jjo0y8OMI/Ut543bvZwD89UnqFghbAP+sOdgDrDr8/v24UDwRquj/QuupBOLe5P7c74OHlsLk/rzAqKFVluT9g6pcX/Su5P3PIpWdWibg/ZmXAJTbrtz8EvZlXh5y3P/Ng3gI497Y/8k63V83Ltj9rqiWXSi+2P+TIPtrZFbQ/1N9EhllPsz/F+JiKYbmxP2HFceOwSK4/5lkvTJGlrT80avB9El6qP+FyThd6n6E/tlqxGXjJoD/zowqBZFKBPwHqwRLTwns/rXotifDVdj8NqwL5pthAP9n5RfNG4Ag/",
          "dtype": "f8"
         },
         "yaxis": "y"
        }
       ],
       "layout": {
        "barmode": "relative",
        "height": 500,
        "legend": {
         "tracegroupgap": 0
        },
        "template": {
         "data": {
          "bar": [
           {
            "error_x": {
             "color": "#f2f5fa"
            },
            "error_y": {
             "color": "#f2f5fa"
            },
            "marker": {
             "line": {
              "color": "rgb(17,17,17)",
              "width": 0.5
             },
             "pattern": {
              "fillmode": "overlay",
              "size": 10,
              "solidity": 0.2
             }
            },
            "type": "bar"
           }
          ],
          "barpolar": [
           {
            "marker": {
             "line": {
              "color": "rgb(17,17,17)",
              "width": 0.5
             },
             "pattern": {
              "fillmode": "overlay",
              "size": 10,
              "solidity": 0.2
             }
            },
            "type": "barpolar"
           }
          ],
          "carpet": [
           {
            "aaxis": {
             "endlinecolor": "#A2B1C6",
             "gridcolor": "#506784",
             "linecolor": "#506784",
             "minorgridcolor": "#506784",
             "startlinecolor": "#A2B1C6"
            },
            "baxis": {
             "endlinecolor": "#A2B1C6",
             "gridcolor": "#506784",
             "linecolor": "#506784",
             "minorgridcolor": "#506784",
             "startlinecolor": "#A2B1C6"
            },
            "type": "carpet"
           }
          ],
          "choropleth": [
           {
            "colorbar": {
             "outlinewidth": 0,
             "ticks": ""
            },
            "type": "choropleth"
           }
          ],
          "contour": [
           {
            "colorbar": {
             "outlinewidth": 0,
             "ticks": ""
            },
            "colorscale": [
             [
              0,
              "#0d0887"
             ],
             [
              0.1111111111111111,
              "#46039f"
             ],
             [
              0.2222222222222222,
              "#7201a8"
             ],
             [
              0.3333333333333333,
              "#9c179e"
             ],
             [
              0.4444444444444444,
              "#bd3786"
             ],
             [
              0.5555555555555556,
              "#d8576b"
             ],
             [
              0.6666666666666666,
              "#ed7953"
             ],
             [
              0.7777777777777778,
              "#fb9f3a"
             ],
             [
              0.8888888888888888,
              "#fdca26"
             ],
             [
              1,
              "#f0f921"
             ]
            ],
            "type": "contour"
           }
          ],
          "contourcarpet": [
           {
            "colorbar": {
             "outlinewidth": 0,
             "ticks": ""
            },
            "type": "contourcarpet"
           }
          ],
          "heatmap": [
           {
            "colorbar": {
             "outlinewidth": 0,
             "ticks": ""
            },
            "colorscale": [
             [
              0,
              "#0d0887"
             ],
             [
              0.1111111111111111,
              "#46039f"
             ],
             [
              0.2222222222222222,
              "#7201a8"
             ],
             [
              0.3333333333333333,
              "#9c179e"
             ],
             [
              0.4444444444444444,
              "#bd3786"
             ],
             [
              0.5555555555555556,
              "#d8576b"
             ],
             [
              0.6666666666666666,
              "#ed7953"
             ],
             [
              0.7777777777777778,
              "#fb9f3a"
             ],
             [
              0.8888888888888888,
              "#fdca26"
             ],
             [
              1,
              "#f0f921"
             ]
            ],
            "type": "heatmap"
           }
          ],
          "histogram": [
           {
            "marker": {
             "pattern": {
              "fillmode": "overlay",
              "size": 10,
              "solidity": 0.2
             }
            },
            "type": "histogram"
           }
          ],
          "histogram2d": [
           {
            "colorbar": {
             "outlinewidth": 0,
             "ticks": ""
            },
            "colorscale": [
             [
              0,
              "#0d0887"
             ],
             [
              0.1111111111111111,
              "#46039f"
             ],
             [
              0.2222222222222222,
              "#7201a8"
             ],
             [
              0.3333333333333333,
              "#9c179e"
             ],
             [
              0.4444444444444444,
              "#bd3786"
             ],
             [
              0.5555555555555556,
              "#d8576b"
             ],
             [
              0.6666666666666666,
              "#ed7953"
             ],
             [
              0.7777777777777778,
              "#fb9f3a"
             ],
             [
              0.8888888888888888,
              "#fdca26"
             ],
             [
              1,
              "#f0f921"
             ]
            ],
            "type": "histogram2d"
           }
          ],
          "histogram2dcontour": [
           {
            "colorbar": {
             "outlinewidth": 0,
             "ticks": ""
            },
            "colorscale": [
             [
              0,
              "#0d0887"
             ],
             [
              0.1111111111111111,
              "#46039f"
             ],
             [
              0.2222222222222222,
              "#7201a8"
             ],
             [
              0.3333333333333333,
              "#9c179e"
             ],
             [
              0.4444444444444444,
              "#bd3786"
             ],
             [
              0.5555555555555556,
              "#d8576b"
             ],
             [
              0.6666666666666666,
              "#ed7953"
             ],
             [
              0.7777777777777778,
              "#fb9f3a"
             ],
             [
              0.8888888888888888,
              "#fdca26"
             ],
             [
              1,
              "#f0f921"
             ]
            ],
            "type": "histogram2dcontour"
           }
          ],
          "mesh3d": [
           {
            "colorbar": {
             "outlinewidth": 0,
             "ticks": ""
            },
            "type": "mesh3d"
           }
          ],
          "parcoords": [
           {
            "line": {
             "colorbar": {
              "outlinewidth": 0,
              "ticks": ""
             }
            },
            "type": "parcoords"
           }
          ],
          "pie": [
           {
            "automargin": true,
            "type": "pie"
           }
          ],
          "scatter": [
           {
            "marker": {
             "line": {
              "color": "#283442"
             }
            },
            "type": "scatter"
           }
          ],
          "scatter3d": [
           {
            "line": {
             "colorbar": {
              "outlinewidth": 0,
              "ticks": ""
             }
            },
            "marker": {
             "colorbar": {
              "outlinewidth": 0,
              "ticks": ""
             }
            },
            "type": "scatter3d"
           }
          ],
          "scattercarpet": [
           {
            "marker": {
             "colorbar": {
              "outlinewidth": 0,
              "ticks": ""
             }
            },
            "type": "scattercarpet"
           }
          ],
          "scattergeo": [
           {
            "marker": {
             "colorbar": {
              "outlinewidth": 0,
              "ticks": ""
             }
            },
            "type": "scattergeo"
           }
          ],
          "scattergl": [
           {
            "marker": {
             "line": {
              "color": "#283442"
             }
            },
            "type": "scattergl"
           }
          ],
          "scattermap": [
           {
            "marker": {
             "colorbar": {
              "outlinewidth": 0,
              "ticks": ""
             }
            },
            "type": "scattermap"
           }
          ],
          "scattermapbox": [
           {
            "marker": {
             "colorbar": {
              "outlinewidth": 0,
              "ticks": ""
             }
            },
            "type": "scattermapbox"
           }
          ],
          "scatterpolar": [
           {
            "marker": {
             "colorbar": {
              "outlinewidth": 0,
              "ticks": ""
             }
            },
            "type": "scatterpolar"
           }
          ],
          "scatterpolargl": [
           {
            "marker": {
             "colorbar": {
              "outlinewidth": 0,
              "ticks": ""
             }
            },
            "type": "scatterpolargl"
           }
          ],
          "scatterternary": [
           {
            "marker": {
             "colorbar": {
              "outlinewidth": 0,
              "ticks": ""
             }
            },
            "type": "scatterternary"
           }
          ],
          "surface": [
           {
            "colorbar": {
             "outlinewidth": 0,
             "ticks": ""
            },
            "colorscale": [
             [
              0,
              "#0d0887"
             ],
             [
              0.1111111111111111,
              "#46039f"
             ],
             [
              0.2222222222222222,
              "#7201a8"
             ],
             [
              0.3333333333333333,
              "#9c179e"
             ],
             [
              0.4444444444444444,
              "#bd3786"
             ],
             [
              0.5555555555555556,
              "#d8576b"
             ],
             [
              0.6666666666666666,
              "#ed7953"
             ],
             [
              0.7777777777777778,
              "#fb9f3a"
             ],
             [
              0.8888888888888888,
              "#fdca26"
             ],
             [
              1,
              "#f0f921"
             ]
            ],
            "type": "surface"
           }
          ],
          "table": [
           {
            "cells": {
             "fill": {
              "color": "#506784"
             },
             "line": {
              "color": "rgb(17,17,17)"
             }
            },
            "header": {
             "fill": {
              "color": "#2a3f5f"
             },
             "line": {
              "color": "rgb(17,17,17)"
             }
            },
            "type": "table"
           }
          ]
         },
         "layout": {
          "annotationdefaults": {
           "arrowcolor": "#f2f5fa",
           "arrowhead": 0,
           "arrowwidth": 1
          },
          "autotypenumbers": "strict",
          "coloraxis": {
           "colorbar": {
            "outlinewidth": 0,
            "ticks": ""
           }
          },
          "colorscale": {
           "diverging": [
            [
             0,
             "#8e0152"
            ],
            [
             0.1,
             "#c51b7d"
            ],
            [
             0.2,
             "#de77ae"
            ],
            [
             0.3,
             "#f1b6da"
            ],
            [
             0.4,
             "#fde0ef"
            ],
            [
             0.5,
             "#f7f7f7"
            ],
            [
             0.6,
             "#e6f5d0"
            ],
            [
             0.7,
             "#b8e186"
            ],
            [
             0.8,
             "#7fbc41"
            ],
            [
             0.9,
             "#4d9221"
            ],
            [
             1,
             "#276419"
            ]
           ],
           "sequential": [
            [
             0,
             "#0d0887"
            ],
            [
             0.1111111111111111,
             "#46039f"
            ],
            [
             0.2222222222222222,
             "#7201a8"
            ],
            [
             0.3333333333333333,
             "#9c179e"
            ],
            [
             0.4444444444444444,
             "#bd3786"
            ],
            [
             0.5555555555555556,
             "#d8576b"
            ],
            [
             0.6666666666666666,
             "#ed7953"
            ],
            [
             0.7777777777777778,
             "#fb9f3a"
            ],
            [
             0.8888888888888888,
             "#fdca26"
            ],
            [
             1,
             "#f0f921"
            ]
           ],
           "sequentialminus": [
            [
             0,
             "#0d0887"
            ],
            [
             0.1111111111111111,
             "#46039f"
            ],
            [
             0.2222222222222222,
             "#7201a8"
            ],
            [
             0.3333333333333333,
             "#9c179e"
            ],
            [
             0.4444444444444444,
             "#bd3786"
            ],
            [
             0.5555555555555556,
             "#d8576b"
            ],
            [
             0.6666666666666666,
             "#ed7953"
            ],
            [
             0.7777777777777778,
             "#fb9f3a"
            ],
            [
             0.8888888888888888,
             "#fdca26"
            ],
            [
             1,
             "#f0f921"
            ]
           ]
          },
          "colorway": [
           "#636efa",
           "#EF553B",
           "#00cc96",
           "#ab63fa",
           "#FFA15A",
           "#19d3f3",
           "#FF6692",
           "#B6E880",
           "#FF97FF",
           "#FECB52"
          ],
          "font": {
           "color": "#f2f5fa"
          },
          "geo": {
           "bgcolor": "rgb(17,17,17)",
           "lakecolor": "rgb(17,17,17)",
           "landcolor": "rgb(17,17,17)",
           "showlakes": true,
           "showland": true,
           "subunitcolor": "#506784"
          },
          "hoverlabel": {
           "align": "left"
          },
          "hovermode": "closest",
          "mapbox": {
           "style": "dark"
          },
          "paper_bgcolor": "rgb(17,17,17)",
          "plot_bgcolor": "rgb(17,17,17)",
          "polar": {
           "angularaxis": {
            "gridcolor": "#506784",
            "linecolor": "#506784",
            "ticks": ""
           },
           "bgcolor": "rgb(17,17,17)",
           "radialaxis": {
            "gridcolor": "#506784",
            "linecolor": "#506784",
            "ticks": ""
           }
          },
          "scene": {
           "xaxis": {
            "backgroundcolor": "rgb(17,17,17)",
            "gridcolor": "#506784",
            "gridwidth": 2,
            "linecolor": "#506784",
            "showbackground": true,
            "ticks": "",
            "zerolinecolor": "#C8D4E3"
           },
           "yaxis": {
            "backgroundcolor": "rgb(17,17,17)",
            "gridcolor": "#506784",
            "gridwidth": 2,
            "linecolor": "#506784",
            "showbackground": true,
            "ticks": "",
            "zerolinecolor": "#C8D4E3"
           },
           "zaxis": {
            "backgroundcolor": "rgb(17,17,17)",
            "gridcolor": "#506784",
            "gridwidth": 2,
            "linecolor": "#506784",
            "showbackground": true,
            "ticks": "",
            "zerolinecolor": "#C8D4E3"
           }
          },
          "shapedefaults": {
           "line": {
            "color": "#f2f5fa"
           }
          },
          "sliderdefaults": {
           "bgcolor": "#C8D4E3",
           "bordercolor": "rgb(17,17,17)",
           "borderwidth": 1,
           "tickwidth": 0
          },
          "ternary": {
           "aaxis": {
            "gridcolor": "#506784",
            "linecolor": "#506784",
            "ticks": ""
           },
           "baxis": {
            "gridcolor": "#506784",
            "linecolor": "#506784",
            "ticks": ""
           },
           "bgcolor": "rgb(17,17,17)",
           "caxis": {
            "gridcolor": "#506784",
            "linecolor": "#506784",
            "ticks": ""
           }
          },
          "title": {
           "x": 0.05
          },
          "updatemenudefaults": {
           "bgcolor": "#506784",
           "borderwidth": 0
          },
          "xaxis": {
           "automargin": true,
           "gridcolor": "#283442",
           "linecolor": "#506784",
           "ticks": "",
           "title": {
            "standoff": 15
           },
           "zerolinecolor": "#283442",
           "zerolinewidth": 2
          },
          "yaxis": {
           "automargin": true,
           "gridcolor": "#283442",
           "linecolor": "#506784",
           "ticks": "",
           "title": {
            "standoff": 15
           },
           "zerolinecolor": "#283442",
           "zerolinewidth": 2
          }
         }
        },
        "title": {
         "text": "🔎 Correlation to TOP_20 — Season 2022"
        },
        "width": 1000,
        "xaxis": {
         "anchor": "y",
         "domain": [
          0,
          1
         ],
         "tickangle": -45,
         "title": {
          "text": "Feature"
         }
        },
        "yaxis": {
         "anchor": "x",
         "domain": [
          0,
          1
         ],
         "title": {
          "text": "Absolute Correlation to TOP_20"
         }
        }
       }
      }
     },
     "metadata": {},
     "output_type": "display_data"
    },
    {
     "data": {
      "application/vnd.plotly.v1+json": {
       "config": {
        "plotlyServerURL": "https://plot.ly"
       },
       "data": [
        {
         "hovertemplate": "Feature=%{x}<br>Correlation=%{y}<extra></extra>",
         "legendgroup": "",
         "marker": {
          "color": "#636efa",
          "pattern": {
           "shape": ""
          }
         },
         "name": "",
         "orientation": "v",
         "showlegend": false,
         "textposition": "auto",
         "type": "bar",
         "x": [
          "OWGR",
          "RECENT_FORM",
          "SGTTG_RANK",
          "SGTTG",
          "CUT_PERCENTAGE",
          "form_density",
          "adj_form",
          "VEGAS_ODDS",
          "OWGR_RANK",
          "PAR_5",
          "FEDEX_CUP_POINTS",
          "PAR_5_RANK",
          "SGATG",
          "BIRDIES_RANK",
          "SGATG_RANK",
          "BIRDIES",
          "SGAPR_RANK",
          "SGAPR",
          "PAR_4_RANK",
          "PAR_4",
          "COURSE_HISTORY",
          "PAR_3",
          "CONSECUTIVE_CUTS",
          "PAR_3_RANK",
          "TOTAL_DRIVING_RANK",
          "SCRAMBLING_RANK",
          "SCRAMBLING",
          "SGOTT",
          "SGOTT_RANK",
          "adj_ch",
          "SGP_RANK",
          "SGP",
          "DRIVING_DISTANCE_RANK",
          "DRIVING_DISTANCE",
          "TOTAL_DRIVING",
          "DRIVING_ACCURACY_RANK",
          "GIR_RANK",
          "DRIVING_ACCURACY",
          "GIR"
         ],
         "xaxis": "x",
         "y": {
          "bdata": "ZWWpqf4G4D8X81W19RPXP2nOv4Q8+NU/9XsnHJzJ1D/Q2+GCNNHSP7opdvlrwtI/I74drtbk0T8h4sT4wH7RP9kOU7TLR9E/Lh+WZ00B0T9U52YS/OXQPz4BVr8ZjtA/Qe24B5co0D9oRezYQJnPP3kSKMd4cM8/NeWJCsn5zj8kAUKvHZ3NP9fJ8YlS2Mw/E7vAfnDCxz+jPHPJsTfHP31ucOK4bcU/Ce6jEW9mxT/CG0IqA+zEPwz3yoL4CsQ/7LZ2s5Dcwz9JomPyU7DDP2lEIVauhcM/pXbUbs9Qwj+JM++yOgzCP6aIM7498cE/mG/yVW5rwT/cFMGb7o3APx4R2UFzGMA/LM/MRx2pvz/+0Vt2MNu4P/Hp+zlPq6c/oBuNaw3akj+EamUFXtOIP02ABQPjm4E/",
          "dtype": "f8"
         },
         "yaxis": "y"
        }
       ],
       "layout": {
        "barmode": "relative",
        "height": 500,
        "legend": {
         "tracegroupgap": 0
        },
        "template": {
         "data": {
          "bar": [
           {
            "error_x": {
             "color": "#f2f5fa"
            },
            "error_y": {
             "color": "#f2f5fa"
            },
            "marker": {
             "line": {
              "color": "rgb(17,17,17)",
              "width": 0.5
             },
             "pattern": {
              "fillmode": "overlay",
              "size": 10,
              "solidity": 0.2
             }
            },
            "type": "bar"
           }
          ],
          "barpolar": [
           {
            "marker": {
             "line": {
              "color": "rgb(17,17,17)",
              "width": 0.5
             },
             "pattern": {
              "fillmode": "overlay",
              "size": 10,
              "solidity": 0.2
             }
            },
            "type": "barpolar"
           }
          ],
          "carpet": [
           {
            "aaxis": {
             "endlinecolor": "#A2B1C6",
             "gridcolor": "#506784",
             "linecolor": "#506784",
             "minorgridcolor": "#506784",
             "startlinecolor": "#A2B1C6"
            },
            "baxis": {
             "endlinecolor": "#A2B1C6",
             "gridcolor": "#506784",
             "linecolor": "#506784",
             "minorgridcolor": "#506784",
             "startlinecolor": "#A2B1C6"
            },
            "type": "carpet"
           }
          ],
          "choropleth": [
           {
            "colorbar": {
             "outlinewidth": 0,
             "ticks": ""
            },
            "type": "choropleth"
           }
          ],
          "contour": [
           {
            "colorbar": {
             "outlinewidth": 0,
             "ticks": ""
            },
            "colorscale": [
             [
              0,
              "#0d0887"
             ],
             [
              0.1111111111111111,
              "#46039f"
             ],
             [
              0.2222222222222222,
              "#7201a8"
             ],
             [
              0.3333333333333333,
              "#9c179e"
             ],
             [
              0.4444444444444444,
              "#bd3786"
             ],
             [
              0.5555555555555556,
              "#d8576b"
             ],
             [
              0.6666666666666666,
              "#ed7953"
             ],
             [
              0.7777777777777778,
              "#fb9f3a"
             ],
             [
              0.8888888888888888,
              "#fdca26"
             ],
             [
              1,
              "#f0f921"
             ]
            ],
            "type": "contour"
           }
          ],
          "contourcarpet": [
           {
            "colorbar": {
             "outlinewidth": 0,
             "ticks": ""
            },
            "type": "contourcarpet"
           }
          ],
          "heatmap": [
           {
            "colorbar": {
             "outlinewidth": 0,
             "ticks": ""
            },
            "colorscale": [
             [
              0,
              "#0d0887"
             ],
             [
              0.1111111111111111,
              "#46039f"
             ],
             [
              0.2222222222222222,
              "#7201a8"
             ],
             [
              0.3333333333333333,
              "#9c179e"
             ],
             [
              0.4444444444444444,
              "#bd3786"
             ],
             [
              0.5555555555555556,
              "#d8576b"
             ],
             [
              0.6666666666666666,
              "#ed7953"
             ],
             [
              0.7777777777777778,
              "#fb9f3a"
             ],
             [
              0.8888888888888888,
              "#fdca26"
             ],
             [
              1,
              "#f0f921"
             ]
            ],
            "type": "heatmap"
           }
          ],
          "histogram": [
           {
            "marker": {
             "pattern": {
              "fillmode": "overlay",
              "size": 10,
              "solidity": 0.2
             }
            },
            "type": "histogram"
           }
          ],
          "histogram2d": [
           {
            "colorbar": {
             "outlinewidth": 0,
             "ticks": ""
            },
            "colorscale": [
             [
              0,
              "#0d0887"
             ],
             [
              0.1111111111111111,
              "#46039f"
             ],
             [
              0.2222222222222222,
              "#7201a8"
             ],
             [
              0.3333333333333333,
              "#9c179e"
             ],
             [
              0.4444444444444444,
              "#bd3786"
             ],
             [
              0.5555555555555556,
              "#d8576b"
             ],
             [
              0.6666666666666666,
              "#ed7953"
             ],
             [
              0.7777777777777778,
              "#fb9f3a"
             ],
             [
              0.8888888888888888,
              "#fdca26"
             ],
             [
              1,
              "#f0f921"
             ]
            ],
            "type": "histogram2d"
           }
          ],
          "histogram2dcontour": [
           {
            "colorbar": {
             "outlinewidth": 0,
             "ticks": ""
            },
            "colorscale": [
             [
              0,
              "#0d0887"
             ],
             [
              0.1111111111111111,
              "#46039f"
             ],
             [
              0.2222222222222222,
              "#7201a8"
             ],
             [
              0.3333333333333333,
              "#9c179e"
             ],
             [
              0.4444444444444444,
              "#bd3786"
             ],
             [
              0.5555555555555556,
              "#d8576b"
             ],
             [
              0.6666666666666666,
              "#ed7953"
             ],
             [
              0.7777777777777778,
              "#fb9f3a"
             ],
             [
              0.8888888888888888,
              "#fdca26"
             ],
             [
              1,
              "#f0f921"
             ]
            ],
            "type": "histogram2dcontour"
           }
          ],
          "mesh3d": [
           {
            "colorbar": {
             "outlinewidth": 0,
             "ticks": ""
            },
            "type": "mesh3d"
           }
          ],
          "parcoords": [
           {
            "line": {
             "colorbar": {
              "outlinewidth": 0,
              "ticks": ""
             }
            },
            "type": "parcoords"
           }
          ],
          "pie": [
           {
            "automargin": true,
            "type": "pie"
           }
          ],
          "scatter": [
           {
            "marker": {
             "line": {
              "color": "#283442"
             }
            },
            "type": "scatter"
           }
          ],
          "scatter3d": [
           {
            "line": {
             "colorbar": {
              "outlinewidth": 0,
              "ticks": ""
             }
            },
            "marker": {
             "colorbar": {
              "outlinewidth": 0,
              "ticks": ""
             }
            },
            "type": "scatter3d"
           }
          ],
          "scattercarpet": [
           {
            "marker": {
             "colorbar": {
              "outlinewidth": 0,
              "ticks": ""
             }
            },
            "type": "scattercarpet"
           }
          ],
          "scattergeo": [
           {
            "marker": {
             "colorbar": {
              "outlinewidth": 0,
              "ticks": ""
             }
            },
            "type": "scattergeo"
           }
          ],
          "scattergl": [
           {
            "marker": {
             "line": {
              "color": "#283442"
             }
            },
            "type": "scattergl"
           }
          ],
          "scattermap": [
           {
            "marker": {
             "colorbar": {
              "outlinewidth": 0,
              "ticks": ""
             }
            },
            "type": "scattermap"
           }
          ],
          "scattermapbox": [
           {
            "marker": {
             "colorbar": {
              "outlinewidth": 0,
              "ticks": ""
             }
            },
            "type": "scattermapbox"
           }
          ],
          "scatterpolar": [
           {
            "marker": {
             "colorbar": {
              "outlinewidth": 0,
              "ticks": ""
             }
            },
            "type": "scatterpolar"
           }
          ],
          "scatterpolargl": [
           {
            "marker": {
             "colorbar": {
              "outlinewidth": 0,
              "ticks": ""
             }
            },
            "type": "scatterpolargl"
           }
          ],
          "scatterternary": [
           {
            "marker": {
             "colorbar": {
              "outlinewidth": 0,
              "ticks": ""
             }
            },
            "type": "scatterternary"
           }
          ],
          "surface": [
           {
            "colorbar": {
             "outlinewidth": 0,
             "ticks": ""
            },
            "colorscale": [
             [
              0,
              "#0d0887"
             ],
             [
              0.1111111111111111,
              "#46039f"
             ],
             [
              0.2222222222222222,
              "#7201a8"
             ],
             [
              0.3333333333333333,
              "#9c179e"
             ],
             [
              0.4444444444444444,
              "#bd3786"
             ],
             [
              0.5555555555555556,
              "#d8576b"
             ],
             [
              0.6666666666666666,
              "#ed7953"
             ],
             [
              0.7777777777777778,
              "#fb9f3a"
             ],
             [
              0.8888888888888888,
              "#fdca26"
             ],
             [
              1,
              "#f0f921"
             ]
            ],
            "type": "surface"
           }
          ],
          "table": [
           {
            "cells": {
             "fill": {
              "color": "#506784"
             },
             "line": {
              "color": "rgb(17,17,17)"
             }
            },
            "header": {
             "fill": {
              "color": "#2a3f5f"
             },
             "line": {
              "color": "rgb(17,17,17)"
             }
            },
            "type": "table"
           }
          ]
         },
         "layout": {
          "annotationdefaults": {
           "arrowcolor": "#f2f5fa",
           "arrowhead": 0,
           "arrowwidth": 1
          },
          "autotypenumbers": "strict",
          "coloraxis": {
           "colorbar": {
            "outlinewidth": 0,
            "ticks": ""
           }
          },
          "colorscale": {
           "diverging": [
            [
             0,
             "#8e0152"
            ],
            [
             0.1,
             "#c51b7d"
            ],
            [
             0.2,
             "#de77ae"
            ],
            [
             0.3,
             "#f1b6da"
            ],
            [
             0.4,
             "#fde0ef"
            ],
            [
             0.5,
             "#f7f7f7"
            ],
            [
             0.6,
             "#e6f5d0"
            ],
            [
             0.7,
             "#b8e186"
            ],
            [
             0.8,
             "#7fbc41"
            ],
            [
             0.9,
             "#4d9221"
            ],
            [
             1,
             "#276419"
            ]
           ],
           "sequential": [
            [
             0,
             "#0d0887"
            ],
            [
             0.1111111111111111,
             "#46039f"
            ],
            [
             0.2222222222222222,
             "#7201a8"
            ],
            [
             0.3333333333333333,
             "#9c179e"
            ],
            [
             0.4444444444444444,
             "#bd3786"
            ],
            [
             0.5555555555555556,
             "#d8576b"
            ],
            [
             0.6666666666666666,
             "#ed7953"
            ],
            [
             0.7777777777777778,
             "#fb9f3a"
            ],
            [
             0.8888888888888888,
             "#fdca26"
            ],
            [
             1,
             "#f0f921"
            ]
           ],
           "sequentialminus": [
            [
             0,
             "#0d0887"
            ],
            [
             0.1111111111111111,
             "#46039f"
            ],
            [
             0.2222222222222222,
             "#7201a8"
            ],
            [
             0.3333333333333333,
             "#9c179e"
            ],
            [
             0.4444444444444444,
             "#bd3786"
            ],
            [
             0.5555555555555556,
             "#d8576b"
            ],
            [
             0.6666666666666666,
             "#ed7953"
            ],
            [
             0.7777777777777778,
             "#fb9f3a"
            ],
            [
             0.8888888888888888,
             "#fdca26"
            ],
            [
             1,
             "#f0f921"
            ]
           ]
          },
          "colorway": [
           "#636efa",
           "#EF553B",
           "#00cc96",
           "#ab63fa",
           "#FFA15A",
           "#19d3f3",
           "#FF6692",
           "#B6E880",
           "#FF97FF",
           "#FECB52"
          ],
          "font": {
           "color": "#f2f5fa"
          },
          "geo": {
           "bgcolor": "rgb(17,17,17)",
           "lakecolor": "rgb(17,17,17)",
           "landcolor": "rgb(17,17,17)",
           "showlakes": true,
           "showland": true,
           "subunitcolor": "#506784"
          },
          "hoverlabel": {
           "align": "left"
          },
          "hovermode": "closest",
          "mapbox": {
           "style": "dark"
          },
          "paper_bgcolor": "rgb(17,17,17)",
          "plot_bgcolor": "rgb(17,17,17)",
          "polar": {
           "angularaxis": {
            "gridcolor": "#506784",
            "linecolor": "#506784",
            "ticks": ""
           },
           "bgcolor": "rgb(17,17,17)",
           "radialaxis": {
            "gridcolor": "#506784",
            "linecolor": "#506784",
            "ticks": ""
           }
          },
          "scene": {
           "xaxis": {
            "backgroundcolor": "rgb(17,17,17)",
            "gridcolor": "#506784",
            "gridwidth": 2,
            "linecolor": "#506784",
            "showbackground": true,
            "ticks": "",
            "zerolinecolor": "#C8D4E3"
           },
           "yaxis": {
            "backgroundcolor": "rgb(17,17,17)",
            "gridcolor": "#506784",
            "gridwidth": 2,
            "linecolor": "#506784",
            "showbackground": true,
            "ticks": "",
            "zerolinecolor": "#C8D4E3"
           },
           "zaxis": {
            "backgroundcolor": "rgb(17,17,17)",
            "gridcolor": "#506784",
            "gridwidth": 2,
            "linecolor": "#506784",
            "showbackground": true,
            "ticks": "",
            "zerolinecolor": "#C8D4E3"
           }
          },
          "shapedefaults": {
           "line": {
            "color": "#f2f5fa"
           }
          },
          "sliderdefaults": {
           "bgcolor": "#C8D4E3",
           "bordercolor": "rgb(17,17,17)",
           "borderwidth": 1,
           "tickwidth": 0
          },
          "ternary": {
           "aaxis": {
            "gridcolor": "#506784",
            "linecolor": "#506784",
            "ticks": ""
           },
           "baxis": {
            "gridcolor": "#506784",
            "linecolor": "#506784",
            "ticks": ""
           },
           "bgcolor": "rgb(17,17,17)",
           "caxis": {
            "gridcolor": "#506784",
            "linecolor": "#506784",
            "ticks": ""
           }
          },
          "title": {
           "x": 0.05
          },
          "updatemenudefaults": {
           "bgcolor": "#506784",
           "borderwidth": 0
          },
          "xaxis": {
           "automargin": true,
           "gridcolor": "#283442",
           "linecolor": "#506784",
           "ticks": "",
           "title": {
            "standoff": 15
           },
           "zerolinecolor": "#283442",
           "zerolinewidth": 2
          },
          "yaxis": {
           "automargin": true,
           "gridcolor": "#283442",
           "linecolor": "#506784",
           "ticks": "",
           "title": {
            "standoff": 15
           },
           "zerolinecolor": "#283442",
           "zerolinewidth": 2
          }
         }
        },
        "title": {
         "text": "🔎 Correlation to TOP_20 — Season 2023"
        },
        "width": 1000,
        "xaxis": {
         "anchor": "y",
         "domain": [
          0,
          1
         ],
         "tickangle": -45,
         "title": {
          "text": "Feature"
         }
        },
        "yaxis": {
         "anchor": "x",
         "domain": [
          0,
          1
         ],
         "title": {
          "text": "Absolute Correlation to TOP_20"
         }
        }
       }
      }
     },
     "metadata": {},
     "output_type": "display_data"
    },
    {
     "data": {
      "application/vnd.plotly.v1+json": {
       "config": {
        "plotlyServerURL": "https://plot.ly"
       },
       "data": [
        {
         "hovertemplate": "Feature=%{x}<br>Correlation=%{y}<extra></extra>",
         "legendgroup": "",
         "marker": {
          "color": "#636efa",
          "pattern": {
           "shape": ""
          }
         },
         "name": "",
         "orientation": "v",
         "showlegend": false,
         "textposition": "auto",
         "type": "bar",
         "x": [
          "PAR_4_RANK",
          "PAR_4",
          "SGATG_RANK",
          "SGTTG",
          "SGATG",
          "SGTTG_RANK",
          "VEGAS_ODDS",
          "SCRAMBLING_RANK",
          "BIRDIES",
          "SGAPR_RANK",
          "SGAPR",
          "SCRAMBLING",
          "RECENT_FORM",
          "BIRDIES_RANK",
          "OWGR_RANK",
          "OWGR",
          "CUT_PERCENTAGE",
          "PAR_3",
          "PAR_3_RANK",
          "COURSE_HISTORY",
          "PAR_5_RANK",
          "SGP",
          "PAR_5",
          "GIR_RANK",
          "CONSECUTIVE_CUTS",
          "adj_ch",
          "SGP_RANK",
          "GIR",
          "adj_form",
          "DRIVING_ACCURACY",
          "DRIVING_ACCURACY_RANK",
          "FEDEX_CUP_POINTS",
          "TOTAL_DRIVING",
          "TOTAL_DRIVING_RANK",
          "form_density",
          "SGOTT",
          "DRIVING_DISTANCE_RANK",
          "SGOTT_RANK",
          "DRIVING_DISTANCE"
         ],
         "xaxis": "x",
         "y": {
          "bdata": "C1WL+flK0z+r8Q3TAuvSP0xFMaCs7tA/6Iwvcx2z0D9iVGb8V1jQP2G/P5GoQdA/xZmPZnuHzj8xQVXt3AbNP/4v436Gqcw/N+b4dy+hzD8I+VHBit3LP3F2dLocnMs/RlkRnXxDyz/mKnoHEfbKPwxQlpvXlco/IWYBvpWayT8Jg3BERonFP6Z2k5/7sMQ/1NDGRbWGxD/XkM5rLgDEP1zVCkM9e8E/lGDh5BW5wD91am0m76jAPzo/+4nLAsA/pVSqUbHpvz95SEWqlKC/P7PxW4Khz74/3S+uIsQovj97R85+L9+9P7OFosmNnb0/lwaLgn9tuz850prFy0W0P3fNMiaX+LI/tDa9u/c6sD/kCFQMTrWrP6iCeWZlwaY/EP40ulxipj86suLQW76fP7sdK4I17p4/",
          "dtype": "f8"
         },
         "yaxis": "y"
        }
       ],
       "layout": {
        "barmode": "relative",
        "height": 500,
        "legend": {
         "tracegroupgap": 0
        },
        "template": {
         "data": {
          "bar": [
           {
            "error_x": {
             "color": "#f2f5fa"
            },
            "error_y": {
             "color": "#f2f5fa"
            },
            "marker": {
             "line": {
              "color": "rgb(17,17,17)",
              "width": 0.5
             },
             "pattern": {
              "fillmode": "overlay",
              "size": 10,
              "solidity": 0.2
             }
            },
            "type": "bar"
           }
          ],
          "barpolar": [
           {
            "marker": {
             "line": {
              "color": "rgb(17,17,17)",
              "width": 0.5
             },
             "pattern": {
              "fillmode": "overlay",
              "size": 10,
              "solidity": 0.2
             }
            },
            "type": "barpolar"
           }
          ],
          "carpet": [
           {
            "aaxis": {
             "endlinecolor": "#A2B1C6",
             "gridcolor": "#506784",
             "linecolor": "#506784",
             "minorgridcolor": "#506784",
             "startlinecolor": "#A2B1C6"
            },
            "baxis": {
             "endlinecolor": "#A2B1C6",
             "gridcolor": "#506784",
             "linecolor": "#506784",
             "minorgridcolor": "#506784",
             "startlinecolor": "#A2B1C6"
            },
            "type": "carpet"
           }
          ],
          "choropleth": [
           {
            "colorbar": {
             "outlinewidth": 0,
             "ticks": ""
            },
            "type": "choropleth"
           }
          ],
          "contour": [
           {
            "colorbar": {
             "outlinewidth": 0,
             "ticks": ""
            },
            "colorscale": [
             [
              0,
              "#0d0887"
             ],
             [
              0.1111111111111111,
              "#46039f"
             ],
             [
              0.2222222222222222,
              "#7201a8"
             ],
             [
              0.3333333333333333,
              "#9c179e"
             ],
             [
              0.4444444444444444,
              "#bd3786"
             ],
             [
              0.5555555555555556,
              "#d8576b"
             ],
             [
              0.6666666666666666,
              "#ed7953"
             ],
             [
              0.7777777777777778,
              "#fb9f3a"
             ],
             [
              0.8888888888888888,
              "#fdca26"
             ],
             [
              1,
              "#f0f921"
             ]
            ],
            "type": "contour"
           }
          ],
          "contourcarpet": [
           {
            "colorbar": {
             "outlinewidth": 0,
             "ticks": ""
            },
            "type": "contourcarpet"
           }
          ],
          "heatmap": [
           {
            "colorbar": {
             "outlinewidth": 0,
             "ticks": ""
            },
            "colorscale": [
             [
              0,
              "#0d0887"
             ],
             [
              0.1111111111111111,
              "#46039f"
             ],
             [
              0.2222222222222222,
              "#7201a8"
             ],
             [
              0.3333333333333333,
              "#9c179e"
             ],
             [
              0.4444444444444444,
              "#bd3786"
             ],
             [
              0.5555555555555556,
              "#d8576b"
             ],
             [
              0.6666666666666666,
              "#ed7953"
             ],
             [
              0.7777777777777778,
              "#fb9f3a"
             ],
             [
              0.8888888888888888,
              "#fdca26"
             ],
             [
              1,
              "#f0f921"
             ]
            ],
            "type": "heatmap"
           }
          ],
          "histogram": [
           {
            "marker": {
             "pattern": {
              "fillmode": "overlay",
              "size": 10,
              "solidity": 0.2
             }
            },
            "type": "histogram"
           }
          ],
          "histogram2d": [
           {
            "colorbar": {
             "outlinewidth": 0,
             "ticks": ""
            },
            "colorscale": [
             [
              0,
              "#0d0887"
             ],
             [
              0.1111111111111111,
              "#46039f"
             ],
             [
              0.2222222222222222,
              "#7201a8"
             ],
             [
              0.3333333333333333,
              "#9c179e"
             ],
             [
              0.4444444444444444,
              "#bd3786"
             ],
             [
              0.5555555555555556,
              "#d8576b"
             ],
             [
              0.6666666666666666,
              "#ed7953"
             ],
             [
              0.7777777777777778,
              "#fb9f3a"
             ],
             [
              0.8888888888888888,
              "#fdca26"
             ],
             [
              1,
              "#f0f921"
             ]
            ],
            "type": "histogram2d"
           }
          ],
          "histogram2dcontour": [
           {
            "colorbar": {
             "outlinewidth": 0,
             "ticks": ""
            },
            "colorscale": [
             [
              0,
              "#0d0887"
             ],
             [
              0.1111111111111111,
              "#46039f"
             ],
             [
              0.2222222222222222,
              "#7201a8"
             ],
             [
              0.3333333333333333,
              "#9c179e"
             ],
             [
              0.4444444444444444,
              "#bd3786"
             ],
             [
              0.5555555555555556,
              "#d8576b"
             ],
             [
              0.6666666666666666,
              "#ed7953"
             ],
             [
              0.7777777777777778,
              "#fb9f3a"
             ],
             [
              0.8888888888888888,
              "#fdca26"
             ],
             [
              1,
              "#f0f921"
             ]
            ],
            "type": "histogram2dcontour"
           }
          ],
          "mesh3d": [
           {
            "colorbar": {
             "outlinewidth": 0,
             "ticks": ""
            },
            "type": "mesh3d"
           }
          ],
          "parcoords": [
           {
            "line": {
             "colorbar": {
              "outlinewidth": 0,
              "ticks": ""
             }
            },
            "type": "parcoords"
           }
          ],
          "pie": [
           {
            "automargin": true,
            "type": "pie"
           }
          ],
          "scatter": [
           {
            "marker": {
             "line": {
              "color": "#283442"
             }
            },
            "type": "scatter"
           }
          ],
          "scatter3d": [
           {
            "line": {
             "colorbar": {
              "outlinewidth": 0,
              "ticks": ""
             }
            },
            "marker": {
             "colorbar": {
              "outlinewidth": 0,
              "ticks": ""
             }
            },
            "type": "scatter3d"
           }
          ],
          "scattercarpet": [
           {
            "marker": {
             "colorbar": {
              "outlinewidth": 0,
              "ticks": ""
             }
            },
            "type": "scattercarpet"
           }
          ],
          "scattergeo": [
           {
            "marker": {
             "colorbar": {
              "outlinewidth": 0,
              "ticks": ""
             }
            },
            "type": "scattergeo"
           }
          ],
          "scattergl": [
           {
            "marker": {
             "line": {
              "color": "#283442"
             }
            },
            "type": "scattergl"
           }
          ],
          "scattermap": [
           {
            "marker": {
             "colorbar": {
              "outlinewidth": 0,
              "ticks": ""
             }
            },
            "type": "scattermap"
           }
          ],
          "scattermapbox": [
           {
            "marker": {
             "colorbar": {
              "outlinewidth": 0,
              "ticks": ""
             }
            },
            "type": "scattermapbox"
           }
          ],
          "scatterpolar": [
           {
            "marker": {
             "colorbar": {
              "outlinewidth": 0,
              "ticks": ""
             }
            },
            "type": "scatterpolar"
           }
          ],
          "scatterpolargl": [
           {
            "marker": {
             "colorbar": {
              "outlinewidth": 0,
              "ticks": ""
             }
            },
            "type": "scatterpolargl"
           }
          ],
          "scatterternary": [
           {
            "marker": {
             "colorbar": {
              "outlinewidth": 0,
              "ticks": ""
             }
            },
            "type": "scatterternary"
           }
          ],
          "surface": [
           {
            "colorbar": {
             "outlinewidth": 0,
             "ticks": ""
            },
            "colorscale": [
             [
              0,
              "#0d0887"
             ],
             [
              0.1111111111111111,
              "#46039f"
             ],
             [
              0.2222222222222222,
              "#7201a8"
             ],
             [
              0.3333333333333333,
              "#9c179e"
             ],
             [
              0.4444444444444444,
              "#bd3786"
             ],
             [
              0.5555555555555556,
              "#d8576b"
             ],
             [
              0.6666666666666666,
              "#ed7953"
             ],
             [
              0.7777777777777778,
              "#fb9f3a"
             ],
             [
              0.8888888888888888,
              "#fdca26"
             ],
             [
              1,
              "#f0f921"
             ]
            ],
            "type": "surface"
           }
          ],
          "table": [
           {
            "cells": {
             "fill": {
              "color": "#506784"
             },
             "line": {
              "color": "rgb(17,17,17)"
             }
            },
            "header": {
             "fill": {
              "color": "#2a3f5f"
             },
             "line": {
              "color": "rgb(17,17,17)"
             }
            },
            "type": "table"
           }
          ]
         },
         "layout": {
          "annotationdefaults": {
           "arrowcolor": "#f2f5fa",
           "arrowhead": 0,
           "arrowwidth": 1
          },
          "autotypenumbers": "strict",
          "coloraxis": {
           "colorbar": {
            "outlinewidth": 0,
            "ticks": ""
           }
          },
          "colorscale": {
           "diverging": [
            [
             0,
             "#8e0152"
            ],
            [
             0.1,
             "#c51b7d"
            ],
            [
             0.2,
             "#de77ae"
            ],
            [
             0.3,
             "#f1b6da"
            ],
            [
             0.4,
             "#fde0ef"
            ],
            [
             0.5,
             "#f7f7f7"
            ],
            [
             0.6,
             "#e6f5d0"
            ],
            [
             0.7,
             "#b8e186"
            ],
            [
             0.8,
             "#7fbc41"
            ],
            [
             0.9,
             "#4d9221"
            ],
            [
             1,
             "#276419"
            ]
           ],
           "sequential": [
            [
             0,
             "#0d0887"
            ],
            [
             0.1111111111111111,
             "#46039f"
            ],
            [
             0.2222222222222222,
             "#7201a8"
            ],
            [
             0.3333333333333333,
             "#9c179e"
            ],
            [
             0.4444444444444444,
             "#bd3786"
            ],
            [
             0.5555555555555556,
             "#d8576b"
            ],
            [
             0.6666666666666666,
             "#ed7953"
            ],
            [
             0.7777777777777778,
             "#fb9f3a"
            ],
            [
             0.8888888888888888,
             "#fdca26"
            ],
            [
             1,
             "#f0f921"
            ]
           ],
           "sequentialminus": [
            [
             0,
             "#0d0887"
            ],
            [
             0.1111111111111111,
             "#46039f"
            ],
            [
             0.2222222222222222,
             "#7201a8"
            ],
            [
             0.3333333333333333,
             "#9c179e"
            ],
            [
             0.4444444444444444,
             "#bd3786"
            ],
            [
             0.5555555555555556,
             "#d8576b"
            ],
            [
             0.6666666666666666,
             "#ed7953"
            ],
            [
             0.7777777777777778,
             "#fb9f3a"
            ],
            [
             0.8888888888888888,
             "#fdca26"
            ],
            [
             1,
             "#f0f921"
            ]
           ]
          },
          "colorway": [
           "#636efa",
           "#EF553B",
           "#00cc96",
           "#ab63fa",
           "#FFA15A",
           "#19d3f3",
           "#FF6692",
           "#B6E880",
           "#FF97FF",
           "#FECB52"
          ],
          "font": {
           "color": "#f2f5fa"
          },
          "geo": {
           "bgcolor": "rgb(17,17,17)",
           "lakecolor": "rgb(17,17,17)",
           "landcolor": "rgb(17,17,17)",
           "showlakes": true,
           "showland": true,
           "subunitcolor": "#506784"
          },
          "hoverlabel": {
           "align": "left"
          },
          "hovermode": "closest",
          "mapbox": {
           "style": "dark"
          },
          "paper_bgcolor": "rgb(17,17,17)",
          "plot_bgcolor": "rgb(17,17,17)",
          "polar": {
           "angularaxis": {
            "gridcolor": "#506784",
            "linecolor": "#506784",
            "ticks": ""
           },
           "bgcolor": "rgb(17,17,17)",
           "radialaxis": {
            "gridcolor": "#506784",
            "linecolor": "#506784",
            "ticks": ""
           }
          },
          "scene": {
           "xaxis": {
            "backgroundcolor": "rgb(17,17,17)",
            "gridcolor": "#506784",
            "gridwidth": 2,
            "linecolor": "#506784",
            "showbackground": true,
            "ticks": "",
            "zerolinecolor": "#C8D4E3"
           },
           "yaxis": {
            "backgroundcolor": "rgb(17,17,17)",
            "gridcolor": "#506784",
            "gridwidth": 2,
            "linecolor": "#506784",
            "showbackground": true,
            "ticks": "",
            "zerolinecolor": "#C8D4E3"
           },
           "zaxis": {
            "backgroundcolor": "rgb(17,17,17)",
            "gridcolor": "#506784",
            "gridwidth": 2,
            "linecolor": "#506784",
            "showbackground": true,
            "ticks": "",
            "zerolinecolor": "#C8D4E3"
           }
          },
          "shapedefaults": {
           "line": {
            "color": "#f2f5fa"
           }
          },
          "sliderdefaults": {
           "bgcolor": "#C8D4E3",
           "bordercolor": "rgb(17,17,17)",
           "borderwidth": 1,
           "tickwidth": 0
          },
          "ternary": {
           "aaxis": {
            "gridcolor": "#506784",
            "linecolor": "#506784",
            "ticks": ""
           },
           "baxis": {
            "gridcolor": "#506784",
            "linecolor": "#506784",
            "ticks": ""
           },
           "bgcolor": "rgb(17,17,17)",
           "caxis": {
            "gridcolor": "#506784",
            "linecolor": "#506784",
            "ticks": ""
           }
          },
          "title": {
           "x": 0.05
          },
          "updatemenudefaults": {
           "bgcolor": "#506784",
           "borderwidth": 0
          },
          "xaxis": {
           "automargin": true,
           "gridcolor": "#283442",
           "linecolor": "#506784",
           "ticks": "",
           "title": {
            "standoff": 15
           },
           "zerolinecolor": "#283442",
           "zerolinewidth": 2
          },
          "yaxis": {
           "automargin": true,
           "gridcolor": "#283442",
           "linecolor": "#506784",
           "ticks": "",
           "title": {
            "standoff": 15
           },
           "zerolinecolor": "#283442",
           "zerolinewidth": 2
          }
         }
        },
        "title": {
         "text": "🔎 Correlation to TOP_20 — Season 2024"
        },
        "width": 1000,
        "xaxis": {
         "anchor": "y",
         "domain": [
          0,
          1
         ],
         "tickangle": -45,
         "title": {
          "text": "Feature"
         }
        },
        "yaxis": {
         "anchor": "x",
         "domain": [
          0,
          1
         ],
         "title": {
          "text": "Absolute Correlation to TOP_20"
         }
        }
       }
      }
     },
     "metadata": {},
     "output_type": "display_data"
    }
   ],
   "source": [
    "import plotly.express as px\n",
    "\n",
    "# Get the 4 most recent seasons (or fewer if not available)\n",
    "available_seasons = sorted(training_df[\"SEASON\"].unique())[-4:]\n",
    "\n",
    "# Dictionary to store correlation results\n",
    "correlation_frames = {}\n",
    "\n",
    "# Calculate correlations for each season\n",
    "for season in available_seasons:\n",
    "    df = training_df[training_df[\"SEASON\"] == season].copy()\n",
    "\n",
    "    # Numeric features only, drop final result\n",
    "    numeric = df.select_dtypes(include=[\"float64\", \"int64\"]).drop(columns=[\"FINAL_POS\", \"SEASON\"], errors=\"ignore\")\n",
    "\n",
    "    # Skip if TOP_20 is not present\n",
    "    if \"TOP_20\" not in numeric.columns:\n",
    "        continue\n",
    "\n",
    "    # Correlation with TOP_20\n",
    "    cor = numeric.corr().abs()[\"TOP_20\"].drop(\"TOP_20\", errors=\"ignore\").sort_values(ascending=False)\n",
    "    cor_df = cor.reset_index()\n",
    "    cor_df.columns = [\"Feature\", \"Correlation\"]\n",
    "    correlation_frames[season] = cor_df\n",
    "\n",
    "# Plot one bar chart per season\n",
    "for season, cor_df in correlation_frames.items():\n",
    "    fig = px.bar(\n",
    "        cor_df,\n",
    "        x=\"Feature\",\n",
    "        y=\"Correlation\",\n",
    "        title=f\"🔎 Correlation to TOP_20 — Season {int(season)}\",\n",
    "        height=500,\n",
    "        width=1000\n",
    "    )\n",
    "\n",
    "    fig.update_layout(\n",
    "        xaxis_title=\"Feature\",\n",
    "        yaxis_title=\"Absolute Correlation to TOP_20\",\n",
    "        template=\"plotly_dark\",\n",
    "        xaxis_tickangle=-45\n",
    "    )\n",
    "\n",
    "    fig.show()\n"
   ]
  },
  {
   "cell_type": "markdown",
   "id": "07c346c9",
   "metadata": {},
   "source": [
    "**Average of Last 4 Years**"
   ]
  },
  {
   "cell_type": "code",
   "execution_count": 26,
   "id": "aee0c2ea",
   "metadata": {},
   "outputs": [
    {
     "data": {
      "application/vnd.plotly.v1+json": {
       "config": {
        "plotlyServerURL": "https://plot.ly"
       },
       "data": [
        {
         "hovertemplate": "Feature=%{x}<br>Avg Correlation=%{y}<extra></extra>",
         "legendgroup": "",
         "marker": {
          "color": "#636efa",
          "pattern": {
           "shape": ""
          }
         },
         "name": "",
         "orientation": "v",
         "showlegend": false,
         "textposition": "auto",
         "type": "bar",
         "x": [
          "OWGR",
          "BIRDIES",
          "BIRDIES_RANK",
          "OWGR_RANK",
          "RECENT_FORM",
          "PAR_4_RANK",
          "VEGAS_ODDS",
          "SGTTG_RANK",
          "PAR_4",
          "SGTTG",
          "SGATG",
          "SGATG_RANK",
          "CUT_PERCENTAGE",
          "form_density",
          "FEDEX_CUP_POINTS",
          "PAR_3",
          "adj_form",
          "PAR_3_RANK",
          "PAR_5",
          "SGAPR",
          "PAR_5_RANK",
          "SGP",
          "SGAPR_RANK",
          "SGP_RANK",
          "COURSE_HISTORY",
          "SCRAMBLING",
          "SCRAMBLING_RANK",
          "CONSECUTIVE_CUTS",
          "TOTAL_DRIVING_RANK",
          "SGOTT_RANK",
          "adj_ch",
          "SGOTT",
          "DRIVING_DISTANCE",
          "TOTAL_DRIVING",
          "DRIVING_DISTANCE_RANK",
          "GIR_RANK",
          "GIR",
          "DRIVING_ACCURACY",
          "DRIVING_ACCURACY_RANK"
         ],
         "xaxis": "x",
         "y": {
          "bdata": "TPXjbhJI0z9oWx4XMwvRP/XKgpwX0dA/dcfAtLmIzj/um1oQG6zMPwz09QvncMw/j49uhlxpzD+K6EUsrLnLPxxxItc9jss/GqbLHTTyyj/h9lKXA4jIP4rwinzs68Y/p64PG2Uwxj/rtFXcJ4nFP/WWtfUmbMU/HL5S6jtswz/Yvj/kOEzDP5/flpJSAcM/6w2puryzwj9iENo6KJbCP9DAjpp3JsI/7HG8Elv/wT8PAEINV53BP1T7Kl5SOcE/6DUwH/PfvD+0usTNadC7P8CMhnelW7s/o6f1aovAuT+QQ5UnXmS2P7CbLVCYf7U/6Kqg2j9MtT8VI8sbOh20P5RtfTidI7M/jO0aup+Lsj9SszUUGNCxPzIF8yg+jK8/Fst4rjM4rz9YlteWNXetP+ukOJzctqo/",
          "dtype": "f8"
         },
         "yaxis": "y"
        }
       ],
       "layout": {
        "barmode": "relative",
        "height": 600,
        "legend": {
         "tracegroupgap": 0
        },
        "showlegend": false,
        "template": {
         "data": {
          "bar": [
           {
            "error_x": {
             "color": "#f2f5fa"
            },
            "error_y": {
             "color": "#f2f5fa"
            },
            "marker": {
             "line": {
              "color": "rgb(17,17,17)",
              "width": 0.5
             },
             "pattern": {
              "fillmode": "overlay",
              "size": 10,
              "solidity": 0.2
             }
            },
            "type": "bar"
           }
          ],
          "barpolar": [
           {
            "marker": {
             "line": {
              "color": "rgb(17,17,17)",
              "width": 0.5
             },
             "pattern": {
              "fillmode": "overlay",
              "size": 10,
              "solidity": 0.2
             }
            },
            "type": "barpolar"
           }
          ],
          "carpet": [
           {
            "aaxis": {
             "endlinecolor": "#A2B1C6",
             "gridcolor": "#506784",
             "linecolor": "#506784",
             "minorgridcolor": "#506784",
             "startlinecolor": "#A2B1C6"
            },
            "baxis": {
             "endlinecolor": "#A2B1C6",
             "gridcolor": "#506784",
             "linecolor": "#506784",
             "minorgridcolor": "#506784",
             "startlinecolor": "#A2B1C6"
            },
            "type": "carpet"
           }
          ],
          "choropleth": [
           {
            "colorbar": {
             "outlinewidth": 0,
             "ticks": ""
            },
            "type": "choropleth"
           }
          ],
          "contour": [
           {
            "colorbar": {
             "outlinewidth": 0,
             "ticks": ""
            },
            "colorscale": [
             [
              0,
              "#0d0887"
             ],
             [
              0.1111111111111111,
              "#46039f"
             ],
             [
              0.2222222222222222,
              "#7201a8"
             ],
             [
              0.3333333333333333,
              "#9c179e"
             ],
             [
              0.4444444444444444,
              "#bd3786"
             ],
             [
              0.5555555555555556,
              "#d8576b"
             ],
             [
              0.6666666666666666,
              "#ed7953"
             ],
             [
              0.7777777777777778,
              "#fb9f3a"
             ],
             [
              0.8888888888888888,
              "#fdca26"
             ],
             [
              1,
              "#f0f921"
             ]
            ],
            "type": "contour"
           }
          ],
          "contourcarpet": [
           {
            "colorbar": {
             "outlinewidth": 0,
             "ticks": ""
            },
            "type": "contourcarpet"
           }
          ],
          "heatmap": [
           {
            "colorbar": {
             "outlinewidth": 0,
             "ticks": ""
            },
            "colorscale": [
             [
              0,
              "#0d0887"
             ],
             [
              0.1111111111111111,
              "#46039f"
             ],
             [
              0.2222222222222222,
              "#7201a8"
             ],
             [
              0.3333333333333333,
              "#9c179e"
             ],
             [
              0.4444444444444444,
              "#bd3786"
             ],
             [
              0.5555555555555556,
              "#d8576b"
             ],
             [
              0.6666666666666666,
              "#ed7953"
             ],
             [
              0.7777777777777778,
              "#fb9f3a"
             ],
             [
              0.8888888888888888,
              "#fdca26"
             ],
             [
              1,
              "#f0f921"
             ]
            ],
            "type": "heatmap"
           }
          ],
          "histogram": [
           {
            "marker": {
             "pattern": {
              "fillmode": "overlay",
              "size": 10,
              "solidity": 0.2
             }
            },
            "type": "histogram"
           }
          ],
          "histogram2d": [
           {
            "colorbar": {
             "outlinewidth": 0,
             "ticks": ""
            },
            "colorscale": [
             [
              0,
              "#0d0887"
             ],
             [
              0.1111111111111111,
              "#46039f"
             ],
             [
              0.2222222222222222,
              "#7201a8"
             ],
             [
              0.3333333333333333,
              "#9c179e"
             ],
             [
              0.4444444444444444,
              "#bd3786"
             ],
             [
              0.5555555555555556,
              "#d8576b"
             ],
             [
              0.6666666666666666,
              "#ed7953"
             ],
             [
              0.7777777777777778,
              "#fb9f3a"
             ],
             [
              0.8888888888888888,
              "#fdca26"
             ],
             [
              1,
              "#f0f921"
             ]
            ],
            "type": "histogram2d"
           }
          ],
          "histogram2dcontour": [
           {
            "colorbar": {
             "outlinewidth": 0,
             "ticks": ""
            },
            "colorscale": [
             [
              0,
              "#0d0887"
             ],
             [
              0.1111111111111111,
              "#46039f"
             ],
             [
              0.2222222222222222,
              "#7201a8"
             ],
             [
              0.3333333333333333,
              "#9c179e"
             ],
             [
              0.4444444444444444,
              "#bd3786"
             ],
             [
              0.5555555555555556,
              "#d8576b"
             ],
             [
              0.6666666666666666,
              "#ed7953"
             ],
             [
              0.7777777777777778,
              "#fb9f3a"
             ],
             [
              0.8888888888888888,
              "#fdca26"
             ],
             [
              1,
              "#f0f921"
             ]
            ],
            "type": "histogram2dcontour"
           }
          ],
          "mesh3d": [
           {
            "colorbar": {
             "outlinewidth": 0,
             "ticks": ""
            },
            "type": "mesh3d"
           }
          ],
          "parcoords": [
           {
            "line": {
             "colorbar": {
              "outlinewidth": 0,
              "ticks": ""
             }
            },
            "type": "parcoords"
           }
          ],
          "pie": [
           {
            "automargin": true,
            "type": "pie"
           }
          ],
          "scatter": [
           {
            "marker": {
             "line": {
              "color": "#283442"
             }
            },
            "type": "scatter"
           }
          ],
          "scatter3d": [
           {
            "line": {
             "colorbar": {
              "outlinewidth": 0,
              "ticks": ""
             }
            },
            "marker": {
             "colorbar": {
              "outlinewidth": 0,
              "ticks": ""
             }
            },
            "type": "scatter3d"
           }
          ],
          "scattercarpet": [
           {
            "marker": {
             "colorbar": {
              "outlinewidth": 0,
              "ticks": ""
             }
            },
            "type": "scattercarpet"
           }
          ],
          "scattergeo": [
           {
            "marker": {
             "colorbar": {
              "outlinewidth": 0,
              "ticks": ""
             }
            },
            "type": "scattergeo"
           }
          ],
          "scattergl": [
           {
            "marker": {
             "line": {
              "color": "#283442"
             }
            },
            "type": "scattergl"
           }
          ],
          "scattermap": [
           {
            "marker": {
             "colorbar": {
              "outlinewidth": 0,
              "ticks": ""
             }
            },
            "type": "scattermap"
           }
          ],
          "scattermapbox": [
           {
            "marker": {
             "colorbar": {
              "outlinewidth": 0,
              "ticks": ""
             }
            },
            "type": "scattermapbox"
           }
          ],
          "scatterpolar": [
           {
            "marker": {
             "colorbar": {
              "outlinewidth": 0,
              "ticks": ""
             }
            },
            "type": "scatterpolar"
           }
          ],
          "scatterpolargl": [
           {
            "marker": {
             "colorbar": {
              "outlinewidth": 0,
              "ticks": ""
             }
            },
            "type": "scatterpolargl"
           }
          ],
          "scatterternary": [
           {
            "marker": {
             "colorbar": {
              "outlinewidth": 0,
              "ticks": ""
             }
            },
            "type": "scatterternary"
           }
          ],
          "surface": [
           {
            "colorbar": {
             "outlinewidth": 0,
             "ticks": ""
            },
            "colorscale": [
             [
              0,
              "#0d0887"
             ],
             [
              0.1111111111111111,
              "#46039f"
             ],
             [
              0.2222222222222222,
              "#7201a8"
             ],
             [
              0.3333333333333333,
              "#9c179e"
             ],
             [
              0.4444444444444444,
              "#bd3786"
             ],
             [
              0.5555555555555556,
              "#d8576b"
             ],
             [
              0.6666666666666666,
              "#ed7953"
             ],
             [
              0.7777777777777778,
              "#fb9f3a"
             ],
             [
              0.8888888888888888,
              "#fdca26"
             ],
             [
              1,
              "#f0f921"
             ]
            ],
            "type": "surface"
           }
          ],
          "table": [
           {
            "cells": {
             "fill": {
              "color": "#506784"
             },
             "line": {
              "color": "rgb(17,17,17)"
             }
            },
            "header": {
             "fill": {
              "color": "#2a3f5f"
             },
             "line": {
              "color": "rgb(17,17,17)"
             }
            },
            "type": "table"
           }
          ]
         },
         "layout": {
          "annotationdefaults": {
           "arrowcolor": "#f2f5fa",
           "arrowhead": 0,
           "arrowwidth": 1
          },
          "autotypenumbers": "strict",
          "coloraxis": {
           "colorbar": {
            "outlinewidth": 0,
            "ticks": ""
           }
          },
          "colorscale": {
           "diverging": [
            [
             0,
             "#8e0152"
            ],
            [
             0.1,
             "#c51b7d"
            ],
            [
             0.2,
             "#de77ae"
            ],
            [
             0.3,
             "#f1b6da"
            ],
            [
             0.4,
             "#fde0ef"
            ],
            [
             0.5,
             "#f7f7f7"
            ],
            [
             0.6,
             "#e6f5d0"
            ],
            [
             0.7,
             "#b8e186"
            ],
            [
             0.8,
             "#7fbc41"
            ],
            [
             0.9,
             "#4d9221"
            ],
            [
             1,
             "#276419"
            ]
           ],
           "sequential": [
            [
             0,
             "#0d0887"
            ],
            [
             0.1111111111111111,
             "#46039f"
            ],
            [
             0.2222222222222222,
             "#7201a8"
            ],
            [
             0.3333333333333333,
             "#9c179e"
            ],
            [
             0.4444444444444444,
             "#bd3786"
            ],
            [
             0.5555555555555556,
             "#d8576b"
            ],
            [
             0.6666666666666666,
             "#ed7953"
            ],
            [
             0.7777777777777778,
             "#fb9f3a"
            ],
            [
             0.8888888888888888,
             "#fdca26"
            ],
            [
             1,
             "#f0f921"
            ]
           ],
           "sequentialminus": [
            [
             0,
             "#0d0887"
            ],
            [
             0.1111111111111111,
             "#46039f"
            ],
            [
             0.2222222222222222,
             "#7201a8"
            ],
            [
             0.3333333333333333,
             "#9c179e"
            ],
            [
             0.4444444444444444,
             "#bd3786"
            ],
            [
             0.5555555555555556,
             "#d8576b"
            ],
            [
             0.6666666666666666,
             "#ed7953"
            ],
            [
             0.7777777777777778,
             "#fb9f3a"
            ],
            [
             0.8888888888888888,
             "#fdca26"
            ],
            [
             1,
             "#f0f921"
            ]
           ]
          },
          "colorway": [
           "#636efa",
           "#EF553B",
           "#00cc96",
           "#ab63fa",
           "#FFA15A",
           "#19d3f3",
           "#FF6692",
           "#B6E880",
           "#FF97FF",
           "#FECB52"
          ],
          "font": {
           "color": "#f2f5fa"
          },
          "geo": {
           "bgcolor": "rgb(17,17,17)",
           "lakecolor": "rgb(17,17,17)",
           "landcolor": "rgb(17,17,17)",
           "showlakes": true,
           "showland": true,
           "subunitcolor": "#506784"
          },
          "hoverlabel": {
           "align": "left"
          },
          "hovermode": "closest",
          "mapbox": {
           "style": "dark"
          },
          "paper_bgcolor": "rgb(17,17,17)",
          "plot_bgcolor": "rgb(17,17,17)",
          "polar": {
           "angularaxis": {
            "gridcolor": "#506784",
            "linecolor": "#506784",
            "ticks": ""
           },
           "bgcolor": "rgb(17,17,17)",
           "radialaxis": {
            "gridcolor": "#506784",
            "linecolor": "#506784",
            "ticks": ""
           }
          },
          "scene": {
           "xaxis": {
            "backgroundcolor": "rgb(17,17,17)",
            "gridcolor": "#506784",
            "gridwidth": 2,
            "linecolor": "#506784",
            "showbackground": true,
            "ticks": "",
            "zerolinecolor": "#C8D4E3"
           },
           "yaxis": {
            "backgroundcolor": "rgb(17,17,17)",
            "gridcolor": "#506784",
            "gridwidth": 2,
            "linecolor": "#506784",
            "showbackground": true,
            "ticks": "",
            "zerolinecolor": "#C8D4E3"
           },
           "zaxis": {
            "backgroundcolor": "rgb(17,17,17)",
            "gridcolor": "#506784",
            "gridwidth": 2,
            "linecolor": "#506784",
            "showbackground": true,
            "ticks": "",
            "zerolinecolor": "#C8D4E3"
           }
          },
          "shapedefaults": {
           "line": {
            "color": "#f2f5fa"
           }
          },
          "sliderdefaults": {
           "bgcolor": "#C8D4E3",
           "bordercolor": "rgb(17,17,17)",
           "borderwidth": 1,
           "tickwidth": 0
          },
          "ternary": {
           "aaxis": {
            "gridcolor": "#506784",
            "linecolor": "#506784",
            "ticks": ""
           },
           "baxis": {
            "gridcolor": "#506784",
            "linecolor": "#506784",
            "ticks": ""
           },
           "bgcolor": "rgb(17,17,17)",
           "caxis": {
            "gridcolor": "#506784",
            "linecolor": "#506784",
            "ticks": ""
           }
          },
          "title": {
           "x": 0.05
          },
          "updatemenudefaults": {
           "bgcolor": "#506784",
           "borderwidth": 0
          },
          "xaxis": {
           "automargin": true,
           "gridcolor": "#283442",
           "linecolor": "#506784",
           "ticks": "",
           "title": {
            "standoff": 15
           },
           "zerolinecolor": "#283442",
           "zerolinewidth": 2
          },
          "yaxis": {
           "automargin": true,
           "gridcolor": "#283442",
           "linecolor": "#506784",
           "ticks": "",
           "title": {
            "standoff": 15
           },
           "zerolinecolor": "#283442",
           "zerolinewidth": 2
          }
         }
        },
        "title": {
         "text": "Average Correlation to TOP_20 (Last 4 Seasons)"
        },
        "width": 1000,
        "xaxis": {
         "anchor": "y",
         "domain": [
          0,
          1
         ],
         "tickangle": -45,
         "title": {
          "text": "Feature"
         }
        },
        "yaxis": {
         "anchor": "x",
         "domain": [
          0,
          1
         ],
         "title": {
          "text": "Avg Correlation"
         }
        }
       }
      }
     },
     "metadata": {},
     "output_type": "display_data"
    }
   ],
   "source": [
    "import pandas as pd\n",
    "import numpy as np\n",
    "import plotly.express as px\n",
    "\n",
    "# === Rebuild correlation matrices for the 4 most recent seasons ===\n",
    "cor = {}\n",
    "recent_seasons = sorted(training_df[\"SEASON\"].unique())[-4:]\n",
    "\n",
    "for season in recent_seasons:\n",
    "    df_season = training_df[training_df[\"SEASON\"] == season].copy()\n",
    "    numeric_cols = df_season.select_dtypes(include=[\"float64\", \"int64\"])\n",
    "    cor[int(season)] = numeric_cols.corr().abs()\n",
    "\n",
    "# === Combine into one summary DataFrame ===\n",
    "cor_df = pd.DataFrame()\n",
    "\n",
    "for season in recent_seasons:\n",
    "    df = cor[season].reset_index()\n",
    "    if \"TOP_20\" not in df.columns:\n",
    "        continue\n",
    "    temp = df[[\"index\", \"TOP_20\"]].copy()\n",
    "    temp = temp.rename(columns={\"TOP_20\": str(season)})\n",
    "    if cor_df.empty:\n",
    "        cor_df = temp\n",
    "    else:\n",
    "        cor_df = cor_df.merge(temp, on=\"index\", how=\"outer\")\n",
    "\n",
    "# Drop target and metadata rows\n",
    "cor_df = cor_df[~cor_df[\"index\"].isin([\"TOP_20\", \"FINAL_POS\", \"SEASON\"])]\n",
    "\n",
    "# Compute average correlation across seasons\n",
    "cor_df[\"AVERAGE\"] = cor_df.drop(columns=[\"index\"]).mean(axis=1)\n",
    "cor_df = cor_df.sort_values(by=\"AVERAGE\", ascending=False)\n",
    "\n",
    "# === Plotly Bar Chart ===\n",
    "fig = px.bar(\n",
    "    cor_df,\n",
    "    x=\"index\",\n",
    "    y=\"AVERAGE\",\n",
    "    title=\"Average Correlation to TOP_20 (Last 4 Seasons)\",\n",
    "    labels={\"index\": \"Feature\", \"AVERAGE\": \"Avg Correlation\"},\n",
    "    template=\"plotly_dark\"\n",
    ")\n",
    "\n",
    "fig.update_layout(\n",
    "    xaxis_tickangle=-45,\n",
    "    height=600,\n",
    "    width=1000,\n",
    "    showlegend=False\n",
    ")\n",
    "\n",
    "fig.show()\n"
   ]
  },
  {
   "cell_type": "markdown",
   "id": "b551789e",
   "metadata": {},
   "source": [
    "# ML Model"
   ]
  },
  {
   "cell_type": "markdown",
   "id": "d7df2d9b",
   "metadata": {},
   "source": [
    "## Predictors"
   ]
  },
  {
   "cell_type": "code",
   "execution_count": 27,
   "id": "7de6b0ed",
   "metadata": {},
   "outputs": [
    {
     "name": "stdout",
     "output_type": "stream",
     "text": [
      "Selected 39 features:\n",
      " ['SGTTG_RANK', 'SGTTG', 'SGOTT_RANK', 'SGOTT', 'SGAPR_RANK', 'SGAPR', 'SGATG_RANK', 'SGATG', 'SGP_RANK', 'SGP', 'BIRDIES_RANK', 'BIRDIES', 'PAR_3_RANK', 'PAR_3', 'PAR_4_RANK', 'PAR_4', 'PAR_5_RANK', 'PAR_5', 'TOTAL_DRIVING_RANK', 'TOTAL_DRIVING', 'DRIVING_DISTANCE_RANK', 'DRIVING_DISTANCE', 'DRIVING_ACCURACY_RANK', 'DRIVING_ACCURACY', 'GIR_RANK', 'GIR', 'SCRAMBLING_RANK', 'SCRAMBLING', 'OWGR_RANK', 'OWGR', 'VEGAS_ODDS', 'CUT_PERCENTAGE', 'FEDEX_CUP_POINTS', 'form_density', 'CONSECUTIVE_CUTS', 'RECENT_FORM', 'adj_form', 'COURSE_HISTORY', 'adj_ch']\n"
     ]
    }
   ],
   "source": [
    "# === Define Features and Target ===\n",
    "target_col = \"TOP_20\"\n",
    "\n",
    "# Columns to exclude from features\n",
    "exclude = [\n",
    "    \"PLAYER\", \"TOURNAMENT\", \"COURSE\", \"ENDING_DATE\", \"SEASON\", \"TOURN_ID\",\n",
    "    \"TOP_20\", \"FINAL_POS\"  \n",
    "]\n",
    "\n",
    "# Select numeric feature columns\n",
    "feature_cols = [\n",
    "    col for col in training_df.columns\n",
    "    if col not in exclude and training_df[col].dtype in [np.float64, np.int64]\n",
    "]\n",
    "\n",
    "print(f\"Selected {len(feature_cols)} features:\\n\", feature_cols)"
   ]
  },
  {
   "cell_type": "markdown",
   "id": "8cb568b3",
   "metadata": {},
   "source": [
    "### Random Forest\n",
    "Initial default model before hyperparameter tuning.\n",
    "\n",
    "This one actually performed really well (ROC AUC above 0.85).  Strangely doing hyperparameter tuning hurt the model (less than 0.7), so I removed that step and we will just use this default model.  This does cross-validation testing on 5 folds to ensure robust train/test splits."
   ]
  },
  {
   "cell_type": "code",
   "execution_count": 28,
   "id": "4879d3d9",
   "metadata": {},
   "outputs": [
    {
     "name": "stdout",
     "output_type": "stream",
     "text": [
      "📊 Random Forest (All Features)\n",
      "Cross-validation scores: [0.94505157 0.95123284 0.93610537 0.94148006 0.95620863]\n",
      "Average ROC AUC score: 0.95\n"
     ]
    }
   ],
   "source": [
    "from sklearn.ensemble import RandomForestClassifier\n",
    "from sklearn.model_selection import cross_val_score, StratifiedKFold\n",
    "from sklearn.preprocessing import StandardScaler\n",
    "from imblearn.over_sampling import SMOTE\n",
    "from imblearn.under_sampling import RandomUnderSampler\n",
    "from imblearn.pipeline import Pipeline\n",
    "\n",
    "# === Standardize features ===\n",
    "scaler = StandardScaler()\n",
    "X_rf_std = scaler.fit_transform(training_df[feature_cols])\n",
    "y_rf = training_df[\"TOP_20\"]\n",
    "\n",
    "# === Balance the dataset with SMOTE and undersampling ===\n",
    "over = SMOTE(sampling_strategy=0.5, k_neighbors=3)\n",
    "under = RandomUnderSampler(sampling_strategy=0.5)\n",
    "pipeline = Pipeline([(\"o\", over), (\"u\", under)])\n",
    "X_rf_bal, y_rf_bal = pipeline.fit_resample(X_rf_std, y_rf)\n",
    "\n",
    "# === Define and evaluate Random Forest ===\n",
    "rf = RandomForestClassifier(n_estimators=100, random_state=42)\n",
    "cv = StratifiedKFold(n_splits=5, shuffle=True, random_state=42)\n",
    "scores = cross_val_score(rf, X_rf_bal, y_rf_bal, cv=cv, scoring=\"roc_auc\")\n",
    "\n",
    "print(\"📊 Random Forest (All Features)\")\n",
    "print(\"Cross-validation scores:\", scores)\n",
    "print(\"Average ROC AUC score: {:.2f}\".format(scores.mean()))\n"
   ]
  },
  {
   "cell_type": "markdown",
   "id": "4fe9c753",
   "metadata": {},
   "source": [
    "Random Forest Training & Feature Importance\n",
    "\n",
    "Now we train on all the data (no longer cross-validation folds) and extract the feature importance to see how it compares with linear correlations.\n"
   ]
  },
  {
   "cell_type": "code",
   "execution_count": 29,
   "id": "74c2a8b7",
   "metadata": {},
   "outputs": [
    {
     "data": {
      "application/vnd.plotly.v1+json": {
       "config": {
        "plotlyServerURL": "https://plot.ly"
       },
       "data": [
        {
         "hovertemplate": "Feature=%{x}<br>Importance=%{y}<extra></extra>",
         "legendgroup": "",
         "marker": {
          "color": "#636efa",
          "pattern": {
           "shape": ""
          }
         },
         "name": "",
         "orientation": "v",
         "showlegend": false,
         "textposition": "auto",
         "type": "bar",
         "x": [
          "OWGR",
          "OWGR_RANK",
          "PAR_4_RANK",
          "VEGAS_ODDS",
          "PAR_4",
          "adj_form",
          "RECENT_FORM",
          "BIRDIES_RANK",
          "SGTTG",
          "FEDEX_CUP_POINTS",
          "SGTTG_RANK",
          "CUT_PERCENTAGE",
          "CONSECUTIVE_CUTS",
          "form_density",
          "SGP",
          "adj_ch",
          "COURSE_HISTORY",
          "PAR_5_RANK",
          "PAR_3_RANK",
          "DRIVING_ACCURACY",
          "BIRDIES",
          "TOTAL_DRIVING_RANK",
          "DRIVING_ACCURACY_RANK",
          "SGP_RANK",
          "SGAPR",
          "SCRAMBLING",
          "SGAPR_RANK",
          "SCRAMBLING_RANK",
          "DRIVING_DISTANCE",
          "PAR_5",
          "SGATG",
          "TOTAL_DRIVING",
          "DRIVING_DISTANCE_RANK",
          "GIR_RANK",
          "GIR",
          "PAR_3",
          "SGATG_RANK",
          "SGOTT_RANK",
          "SGOTT"
         ],
         "xaxis": "x",
         "y": {
          "bdata": "1uz7CLSmrj+d8AyS5PyoP7fTgTBZNKQ/snUiwNUYpD8veQ3H8q6hPx6qGIbqGKE/77d5mLPVoD+DkrtgEmCgP/j5qRUJ954/lXB9lcP5nT+Q20rozeOdPxNMdgVBRJw/zcxab40kmz9VgPkp3z2aP/UwgJ6x4Zg/JcINQZC7mD+Q+HAl8/iXP9ojBJ269Jc/V3yO1QTnlz+aDLR7HIGXPxpoA6CtH5c/u7QQgBQYlz+E4NpRXcCWPz7kQqWRO5Y/Dp2wsqbslT/4W6z5NWuVP9z4jEPTFZU/ICBgYcM8lD8ZXbSmWCWUP3AhWa/3BpQ/hwkHJi7Ykz9664YW68eTPxatze04X5M/eOJPfTvLkT8TRdspV3uRP2RnAA07ZZE/vqrPRVsckT9LUpL7WQ6RP8S++VeH1JA/",
          "dtype": "f8"
         },
         "yaxis": "y"
        }
       ],
       "layout": {
        "barmode": "relative",
        "legend": {
         "tracegroupgap": 0
        },
        "template": {
         "data": {
          "bar": [
           {
            "error_x": {
             "color": "#f2f5fa"
            },
            "error_y": {
             "color": "#f2f5fa"
            },
            "marker": {
             "line": {
              "color": "rgb(17,17,17)",
              "width": 0.5
             },
             "pattern": {
              "fillmode": "overlay",
              "size": 10,
              "solidity": 0.2
             }
            },
            "type": "bar"
           }
          ],
          "barpolar": [
           {
            "marker": {
             "line": {
              "color": "rgb(17,17,17)",
              "width": 0.5
             },
             "pattern": {
              "fillmode": "overlay",
              "size": 10,
              "solidity": 0.2
             }
            },
            "type": "barpolar"
           }
          ],
          "carpet": [
           {
            "aaxis": {
             "endlinecolor": "#A2B1C6",
             "gridcolor": "#506784",
             "linecolor": "#506784",
             "minorgridcolor": "#506784",
             "startlinecolor": "#A2B1C6"
            },
            "baxis": {
             "endlinecolor": "#A2B1C6",
             "gridcolor": "#506784",
             "linecolor": "#506784",
             "minorgridcolor": "#506784",
             "startlinecolor": "#A2B1C6"
            },
            "type": "carpet"
           }
          ],
          "choropleth": [
           {
            "colorbar": {
             "outlinewidth": 0,
             "ticks": ""
            },
            "type": "choropleth"
           }
          ],
          "contour": [
           {
            "colorbar": {
             "outlinewidth": 0,
             "ticks": ""
            },
            "colorscale": [
             [
              0,
              "#0d0887"
             ],
             [
              0.1111111111111111,
              "#46039f"
             ],
             [
              0.2222222222222222,
              "#7201a8"
             ],
             [
              0.3333333333333333,
              "#9c179e"
             ],
             [
              0.4444444444444444,
              "#bd3786"
             ],
             [
              0.5555555555555556,
              "#d8576b"
             ],
             [
              0.6666666666666666,
              "#ed7953"
             ],
             [
              0.7777777777777778,
              "#fb9f3a"
             ],
             [
              0.8888888888888888,
              "#fdca26"
             ],
             [
              1,
              "#f0f921"
             ]
            ],
            "type": "contour"
           }
          ],
          "contourcarpet": [
           {
            "colorbar": {
             "outlinewidth": 0,
             "ticks": ""
            },
            "type": "contourcarpet"
           }
          ],
          "heatmap": [
           {
            "colorbar": {
             "outlinewidth": 0,
             "ticks": ""
            },
            "colorscale": [
             [
              0,
              "#0d0887"
             ],
             [
              0.1111111111111111,
              "#46039f"
             ],
             [
              0.2222222222222222,
              "#7201a8"
             ],
             [
              0.3333333333333333,
              "#9c179e"
             ],
             [
              0.4444444444444444,
              "#bd3786"
             ],
             [
              0.5555555555555556,
              "#d8576b"
             ],
             [
              0.6666666666666666,
              "#ed7953"
             ],
             [
              0.7777777777777778,
              "#fb9f3a"
             ],
             [
              0.8888888888888888,
              "#fdca26"
             ],
             [
              1,
              "#f0f921"
             ]
            ],
            "type": "heatmap"
           }
          ],
          "histogram": [
           {
            "marker": {
             "pattern": {
              "fillmode": "overlay",
              "size": 10,
              "solidity": 0.2
             }
            },
            "type": "histogram"
           }
          ],
          "histogram2d": [
           {
            "colorbar": {
             "outlinewidth": 0,
             "ticks": ""
            },
            "colorscale": [
             [
              0,
              "#0d0887"
             ],
             [
              0.1111111111111111,
              "#46039f"
             ],
             [
              0.2222222222222222,
              "#7201a8"
             ],
             [
              0.3333333333333333,
              "#9c179e"
             ],
             [
              0.4444444444444444,
              "#bd3786"
             ],
             [
              0.5555555555555556,
              "#d8576b"
             ],
             [
              0.6666666666666666,
              "#ed7953"
             ],
             [
              0.7777777777777778,
              "#fb9f3a"
             ],
             [
              0.8888888888888888,
              "#fdca26"
             ],
             [
              1,
              "#f0f921"
             ]
            ],
            "type": "histogram2d"
           }
          ],
          "histogram2dcontour": [
           {
            "colorbar": {
             "outlinewidth": 0,
             "ticks": ""
            },
            "colorscale": [
             [
              0,
              "#0d0887"
             ],
             [
              0.1111111111111111,
              "#46039f"
             ],
             [
              0.2222222222222222,
              "#7201a8"
             ],
             [
              0.3333333333333333,
              "#9c179e"
             ],
             [
              0.4444444444444444,
              "#bd3786"
             ],
             [
              0.5555555555555556,
              "#d8576b"
             ],
             [
              0.6666666666666666,
              "#ed7953"
             ],
             [
              0.7777777777777778,
              "#fb9f3a"
             ],
             [
              0.8888888888888888,
              "#fdca26"
             ],
             [
              1,
              "#f0f921"
             ]
            ],
            "type": "histogram2dcontour"
           }
          ],
          "mesh3d": [
           {
            "colorbar": {
             "outlinewidth": 0,
             "ticks": ""
            },
            "type": "mesh3d"
           }
          ],
          "parcoords": [
           {
            "line": {
             "colorbar": {
              "outlinewidth": 0,
              "ticks": ""
             }
            },
            "type": "parcoords"
           }
          ],
          "pie": [
           {
            "automargin": true,
            "type": "pie"
           }
          ],
          "scatter": [
           {
            "marker": {
             "line": {
              "color": "#283442"
             }
            },
            "type": "scatter"
           }
          ],
          "scatter3d": [
           {
            "line": {
             "colorbar": {
              "outlinewidth": 0,
              "ticks": ""
             }
            },
            "marker": {
             "colorbar": {
              "outlinewidth": 0,
              "ticks": ""
             }
            },
            "type": "scatter3d"
           }
          ],
          "scattercarpet": [
           {
            "marker": {
             "colorbar": {
              "outlinewidth": 0,
              "ticks": ""
             }
            },
            "type": "scattercarpet"
           }
          ],
          "scattergeo": [
           {
            "marker": {
             "colorbar": {
              "outlinewidth": 0,
              "ticks": ""
             }
            },
            "type": "scattergeo"
           }
          ],
          "scattergl": [
           {
            "marker": {
             "line": {
              "color": "#283442"
             }
            },
            "type": "scattergl"
           }
          ],
          "scattermap": [
           {
            "marker": {
             "colorbar": {
              "outlinewidth": 0,
              "ticks": ""
             }
            },
            "type": "scattermap"
           }
          ],
          "scattermapbox": [
           {
            "marker": {
             "colorbar": {
              "outlinewidth": 0,
              "ticks": ""
             }
            },
            "type": "scattermapbox"
           }
          ],
          "scatterpolar": [
           {
            "marker": {
             "colorbar": {
              "outlinewidth": 0,
              "ticks": ""
             }
            },
            "type": "scatterpolar"
           }
          ],
          "scatterpolargl": [
           {
            "marker": {
             "colorbar": {
              "outlinewidth": 0,
              "ticks": ""
             }
            },
            "type": "scatterpolargl"
           }
          ],
          "scatterternary": [
           {
            "marker": {
             "colorbar": {
              "outlinewidth": 0,
              "ticks": ""
             }
            },
            "type": "scatterternary"
           }
          ],
          "surface": [
           {
            "colorbar": {
             "outlinewidth": 0,
             "ticks": ""
            },
            "colorscale": [
             [
              0,
              "#0d0887"
             ],
             [
              0.1111111111111111,
              "#46039f"
             ],
             [
              0.2222222222222222,
              "#7201a8"
             ],
             [
              0.3333333333333333,
              "#9c179e"
             ],
             [
              0.4444444444444444,
              "#bd3786"
             ],
             [
              0.5555555555555556,
              "#d8576b"
             ],
             [
              0.6666666666666666,
              "#ed7953"
             ],
             [
              0.7777777777777778,
              "#fb9f3a"
             ],
             [
              0.8888888888888888,
              "#fdca26"
             ],
             [
              1,
              "#f0f921"
             ]
            ],
            "type": "surface"
           }
          ],
          "table": [
           {
            "cells": {
             "fill": {
              "color": "#506784"
             },
             "line": {
              "color": "rgb(17,17,17)"
             }
            },
            "header": {
             "fill": {
              "color": "#2a3f5f"
             },
             "line": {
              "color": "rgb(17,17,17)"
             }
            },
            "type": "table"
           }
          ]
         },
         "layout": {
          "annotationdefaults": {
           "arrowcolor": "#f2f5fa",
           "arrowhead": 0,
           "arrowwidth": 1
          },
          "autotypenumbers": "strict",
          "coloraxis": {
           "colorbar": {
            "outlinewidth": 0,
            "ticks": ""
           }
          },
          "colorscale": {
           "diverging": [
            [
             0,
             "#8e0152"
            ],
            [
             0.1,
             "#c51b7d"
            ],
            [
             0.2,
             "#de77ae"
            ],
            [
             0.3,
             "#f1b6da"
            ],
            [
             0.4,
             "#fde0ef"
            ],
            [
             0.5,
             "#f7f7f7"
            ],
            [
             0.6,
             "#e6f5d0"
            ],
            [
             0.7,
             "#b8e186"
            ],
            [
             0.8,
             "#7fbc41"
            ],
            [
             0.9,
             "#4d9221"
            ],
            [
             1,
             "#276419"
            ]
           ],
           "sequential": [
            [
             0,
             "#0d0887"
            ],
            [
             0.1111111111111111,
             "#46039f"
            ],
            [
             0.2222222222222222,
             "#7201a8"
            ],
            [
             0.3333333333333333,
             "#9c179e"
            ],
            [
             0.4444444444444444,
             "#bd3786"
            ],
            [
             0.5555555555555556,
             "#d8576b"
            ],
            [
             0.6666666666666666,
             "#ed7953"
            ],
            [
             0.7777777777777778,
             "#fb9f3a"
            ],
            [
             0.8888888888888888,
             "#fdca26"
            ],
            [
             1,
             "#f0f921"
            ]
           ],
           "sequentialminus": [
            [
             0,
             "#0d0887"
            ],
            [
             0.1111111111111111,
             "#46039f"
            ],
            [
             0.2222222222222222,
             "#7201a8"
            ],
            [
             0.3333333333333333,
             "#9c179e"
            ],
            [
             0.4444444444444444,
             "#bd3786"
            ],
            [
             0.5555555555555556,
             "#d8576b"
            ],
            [
             0.6666666666666666,
             "#ed7953"
            ],
            [
             0.7777777777777778,
             "#fb9f3a"
            ],
            [
             0.8888888888888888,
             "#fdca26"
            ],
            [
             1,
             "#f0f921"
            ]
           ]
          },
          "colorway": [
           "#636efa",
           "#EF553B",
           "#00cc96",
           "#ab63fa",
           "#FFA15A",
           "#19d3f3",
           "#FF6692",
           "#B6E880",
           "#FF97FF",
           "#FECB52"
          ],
          "font": {
           "color": "#f2f5fa"
          },
          "geo": {
           "bgcolor": "rgb(17,17,17)",
           "lakecolor": "rgb(17,17,17)",
           "landcolor": "rgb(17,17,17)",
           "showlakes": true,
           "showland": true,
           "subunitcolor": "#506784"
          },
          "hoverlabel": {
           "align": "left"
          },
          "hovermode": "closest",
          "mapbox": {
           "style": "dark"
          },
          "paper_bgcolor": "rgb(17,17,17)",
          "plot_bgcolor": "rgb(17,17,17)",
          "polar": {
           "angularaxis": {
            "gridcolor": "#506784",
            "linecolor": "#506784",
            "ticks": ""
           },
           "bgcolor": "rgb(17,17,17)",
           "radialaxis": {
            "gridcolor": "#506784",
            "linecolor": "#506784",
            "ticks": ""
           }
          },
          "scene": {
           "xaxis": {
            "backgroundcolor": "rgb(17,17,17)",
            "gridcolor": "#506784",
            "gridwidth": 2,
            "linecolor": "#506784",
            "showbackground": true,
            "ticks": "",
            "zerolinecolor": "#C8D4E3"
           },
           "yaxis": {
            "backgroundcolor": "rgb(17,17,17)",
            "gridcolor": "#506784",
            "gridwidth": 2,
            "linecolor": "#506784",
            "showbackground": true,
            "ticks": "",
            "zerolinecolor": "#C8D4E3"
           },
           "zaxis": {
            "backgroundcolor": "rgb(17,17,17)",
            "gridcolor": "#506784",
            "gridwidth": 2,
            "linecolor": "#506784",
            "showbackground": true,
            "ticks": "",
            "zerolinecolor": "#C8D4E3"
           }
          },
          "shapedefaults": {
           "line": {
            "color": "#f2f5fa"
           }
          },
          "sliderdefaults": {
           "bgcolor": "#C8D4E3",
           "bordercolor": "rgb(17,17,17)",
           "borderwidth": 1,
           "tickwidth": 0
          },
          "ternary": {
           "aaxis": {
            "gridcolor": "#506784",
            "linecolor": "#506784",
            "ticks": ""
           },
           "baxis": {
            "gridcolor": "#506784",
            "linecolor": "#506784",
            "ticks": ""
           },
           "bgcolor": "rgb(17,17,17)",
           "caxis": {
            "gridcolor": "#506784",
            "linecolor": "#506784",
            "ticks": ""
           }
          },
          "title": {
           "x": 0.05
          },
          "updatemenudefaults": {
           "bgcolor": "#506784",
           "borderwidth": 0
          },
          "xaxis": {
           "automargin": true,
           "gridcolor": "#283442",
           "linecolor": "#506784",
           "ticks": "",
           "title": {
            "standoff": 15
           },
           "zerolinecolor": "#283442",
           "zerolinewidth": 2
          },
          "yaxis": {
           "automargin": true,
           "gridcolor": "#283442",
           "linecolor": "#506784",
           "ticks": "",
           "title": {
            "standoff": 15
           },
           "zerolinecolor": "#283442",
           "zerolinewidth": 2
          }
         }
        },
        "title": {
         "text": "Random Forest Feature Importances"
        },
        "xaxis": {
         "anchor": "y",
         "domain": [
          0,
          1
         ],
         "tickangle": -45,
         "title": {
          "text": "Feature"
         }
        },
        "yaxis": {
         "anchor": "x",
         "domain": [
          0,
          1
         ],
         "title": {
          "text": "Importance"
         }
        }
       }
      }
     },
     "metadata": {},
     "output_type": "display_data"
    }
   ],
   "source": [
    "from sklearn.ensemble import RandomForestClassifier\n",
    "from sklearn.calibration import CalibratedClassifierCV\n",
    "from sklearn.preprocessing import StandardScaler\n",
    "from imblearn.pipeline import Pipeline\n",
    "from imblearn.over_sampling import SMOTE\n",
    "from imblearn.under_sampling import RandomUnderSampler\n",
    "import pandas as pd\n",
    "import plotly.express as px\n",
    "\n",
    "# === Resample the full dataset ===\n",
    "over = SMOTE(sampling_strategy=0.5, k_neighbors=3)\n",
    "under = RandomUnderSampler(sampling_strategy=0.5)\n",
    "resample_pipeline = Pipeline([(\"o\", over), (\"u\", under)])\n",
    "X_all_resampled, y_all_resampled = resample_pipeline.fit_resample(\n",
    "    training_df[feature_cols], training_df[\"TOP_20\"]\n",
    ")\n",
    "\n",
    "# === Standardize ===\n",
    "scaler = StandardScaler()\n",
    "X_all_scaled = scaler.fit_transform(X_all_resampled)\n",
    "\n",
    "# === Train Calibrated Random Forest ===\n",
    "base_rf = RandomForestClassifier(random_state=42)\n",
    "final_model = CalibratedClassifierCV(estimator=base_rf, method=\"sigmoid\", cv=5)\n",
    "final_model.fit(X_all_scaled, y_all_resampled)\n",
    "\n",
    "# === Aggregate feature importances across all CV folds ===\n",
    "all_importances = np.array([\n",
    "    est.estimator.feature_importances_ for est in final_model.calibrated_classifiers_\n",
    "])\n",
    "mean_importance = all_importances.mean(axis=0)\n",
    "\n",
    "importance_df = pd.DataFrame({\n",
    "    \"Feature\": feature_cols,\n",
    "    \"Importance\": mean_importance\n",
    "}).sort_values(by=\"Importance\", ascending=False)\n",
    "\n",
    "# === Plot feature importances ===\n",
    "fig = px.bar(\n",
    "    importance_df,\n",
    "    x=\"Feature\",\n",
    "    y=\"Importance\",\n",
    "    title=\"Random Forest Feature Importances\",\n",
    "    template=\"plotly_dark\"\n",
    ")\n",
    "fig.update_layout(xaxis_tickangle=-45)\n",
    "fig.show()\n"
   ]
  },
  {
   "cell_type": "markdown",
   "id": "e5e84f8a",
   "metadata": {},
   "source": [
    "Use this model on this week's data to predict the best performers."
   ]
  },
  {
   "cell_type": "code",
   "execution_count": 30,
   "id": "f0bf9b7d",
   "metadata": {},
   "outputs": [
    {
     "data": {
      "text/html": [
       "<div>\n",
       "<style scoped>\n",
       "    .dataframe tbody tr th:only-of-type {\n",
       "        vertical-align: middle;\n",
       "    }\n",
       "\n",
       "    .dataframe tbody tr th {\n",
       "        vertical-align: top;\n",
       "    }\n",
       "\n",
       "    .dataframe thead th {\n",
       "        text-align: right;\n",
       "    }\n",
       "</style>\n",
       "<table border=\"1\" class=\"dataframe\">\n",
       "  <thead>\n",
       "    <tr style=\"text-align: right;\">\n",
       "      <th></th>\n",
       "      <th>PLAYER</th>\n",
       "      <th>SALARY</th>\n",
       "      <th>PROBABILITY</th>\n",
       "      <th>RECENT_FORM</th>\n",
       "      <th>COURSE_HISTORY</th>\n",
       "      <th>VEGAS_ODDS</th>\n",
       "      <th>CUT_PERCENTAGE</th>\n",
       "      <th>OWGR_RANK</th>\n",
       "      <th>FEDEX_CUP_POINTS</th>\n",
       "      <th>SGTTG_RANK</th>\n",
       "      <th>SGOTT_RANK</th>\n",
       "      <th>SGAPR_RANK</th>\n",
       "      <th>SGATG_RANK</th>\n",
       "      <th>SGP_RANK</th>\n",
       "      <th>BIRDIES_RANK</th>\n",
       "      <th>PAR_3_RANK</th>\n",
       "      <th>PAR_4_RANK</th>\n",
       "      <th>PAR_5_RANK</th>\n",
       "      <th>TOTAL_DRIVING_RANK</th>\n",
       "      <th>DRIVING_DISTANCE_RANK</th>\n",
       "      <th>DRIVING_ACCURACY_RANK</th>\n",
       "      <th>GIR_RANK</th>\n",
       "      <th>SCRAMBLING_RANK</th>\n",
       "    </tr>\n",
       "  </thead>\n",
       "  <tbody>\n",
       "    <tr>\n",
       "      <th>0</th>\n",
       "      <td>Si Woo Kim</td>\n",
       "      <td>8700</td>\n",
       "      <td>0.844904</td>\n",
       "      <td>47.8</td>\n",
       "      <td>44.700000</td>\n",
       "      <td>30.0</td>\n",
       "      <td>68.000000</td>\n",
       "      <td>67.0</td>\n",
       "      <td>881.749</td>\n",
       "      <td>12.000000</td>\n",
       "      <td>40.000000</td>\n",
       "      <td>39.000000</td>\n",
       "      <td>13.000000</td>\n",
       "      <td>150.0</td>\n",
       "      <td>38.000000</td>\n",
       "      <td>121.000000</td>\n",
       "      <td>41.000000</td>\n",
       "      <td>18.000000</td>\n",
       "      <td>76.000000</td>\n",
       "      <td>144.000000</td>\n",
       "      <td>28.000000</td>\n",
       "      <td>77.000000</td>\n",
       "      <td>60.000000</td>\n",
       "    </tr>\n",
       "    <tr>\n",
       "      <th>1</th>\n",
       "      <td>Jake Knapp</td>\n",
       "      <td>9100</td>\n",
       "      <td>0.760719</td>\n",
       "      <td>42.2</td>\n",
       "      <td>90.000000</td>\n",
       "      <td>35.0</td>\n",
       "      <td>76.200000</td>\n",
       "      <td>77.0</td>\n",
       "      <td>769.686</td>\n",
       "      <td>69.000000</td>\n",
       "      <td>63.000000</td>\n",
       "      <td>80.000000</td>\n",
       "      <td>105.000000</td>\n",
       "      <td>11.0</td>\n",
       "      <td>4.000000</td>\n",
       "      <td>90.000000</td>\n",
       "      <td>7.000000</td>\n",
       "      <td>4.000000</td>\n",
       "      <td>76.000000</td>\n",
       "      <td>21.000000</td>\n",
       "      <td>151.000000</td>\n",
       "      <td>43.000000</td>\n",
       "      <td>21.000000</td>\n",
       "    </tr>\n",
       "    <tr>\n",
       "      <th>2</th>\n",
       "      <td>Kurt Kitayama</td>\n",
       "      <td>8800</td>\n",
       "      <td>0.737553</td>\n",
       "      <td>52.4</td>\n",
       "      <td>90.000000</td>\n",
       "      <td>40.0</td>\n",
       "      <td>61.100000</td>\n",
       "      <td>39.0</td>\n",
       "      <td>816.559</td>\n",
       "      <td>8.000000</td>\n",
       "      <td>12.000000</td>\n",
       "      <td>36.000000</td>\n",
       "      <td>48.000000</td>\n",
       "      <td>152.0</td>\n",
       "      <td>5.000000</td>\n",
       "      <td>90.000000</td>\n",
       "      <td>10.000000</td>\n",
       "      <td>14.000000</td>\n",
       "      <td>39.000000</td>\n",
       "      <td>7.000000</td>\n",
       "      <td>139.000000</td>\n",
       "      <td>49.000000</td>\n",
       "      <td>84.000000</td>\n",
       "    </tr>\n",
       "    <tr>\n",
       "      <th>3</th>\n",
       "      <td>Ryan Fox</td>\n",
       "      <td>7300</td>\n",
       "      <td>0.611685</td>\n",
       "      <td>47.7</td>\n",
       "      <td>90.000000</td>\n",
       "      <td>80.0</td>\n",
       "      <td>73.300000</td>\n",
       "      <td>32.0</td>\n",
       "      <td>823.200</td>\n",
       "      <td>37.000000</td>\n",
       "      <td>97.000000</td>\n",
       "      <td>25.000000</td>\n",
       "      <td>65.000000</td>\n",
       "      <td>38.0</td>\n",
       "      <td>40.000000</td>\n",
       "      <td>103.000000</td>\n",
       "      <td>85.000000</td>\n",
       "      <td>38.000000</td>\n",
       "      <td>141.000000</td>\n",
       "      <td>53.000000</td>\n",
       "      <td>155.000000</td>\n",
       "      <td>126.000000</td>\n",
       "      <td>151.000000</td>\n",
       "    </tr>\n",
       "    <tr>\n",
       "      <th>4</th>\n",
       "      <td>Emiliano Grillo</td>\n",
       "      <td>7500</td>\n",
       "      <td>0.565220</td>\n",
       "      <td>54.9</td>\n",
       "      <td>59.000000</td>\n",
       "      <td>70.0</td>\n",
       "      <td>66.700000</td>\n",
       "      <td>99.0</td>\n",
       "      <td>586.013</td>\n",
       "      <td>77.000000</td>\n",
       "      <td>67.000000</td>\n",
       "      <td>40.000000</td>\n",
       "      <td>157.000000</td>\n",
       "      <td>40.0</td>\n",
       "      <td>84.000000</td>\n",
       "      <td>75.000000</td>\n",
       "      <td>41.000000</td>\n",
       "      <td>116.000000</td>\n",
       "      <td>16.000000</td>\n",
       "      <td>99.000000</td>\n",
       "      <td>16.000000</td>\n",
       "      <td>74.000000</td>\n",
       "      <td>112.000000</td>\n",
       "    </tr>\n",
       "    <tr>\n",
       "      <th>5</th>\n",
       "      <td>Keith Mitchell</td>\n",
       "      <td>7500</td>\n",
       "      <td>0.559763</td>\n",
       "      <td>49.4</td>\n",
       "      <td>50.400000</td>\n",
       "      <td>80.0</td>\n",
       "      <td>68.400000</td>\n",
       "      <td>101.0</td>\n",
       "      <td>478.759</td>\n",
       "      <td>44.000000</td>\n",
       "      <td>17.000000</td>\n",
       "      <td>55.000000</td>\n",
       "      <td>154.000000</td>\n",
       "      <td>93.0</td>\n",
       "      <td>6.000000</td>\n",
       "      <td>103.000000</td>\n",
       "      <td>13.000000</td>\n",
       "      <td>7.000000</td>\n",
       "      <td>11.000000</td>\n",
       "      <td>11.000000</td>\n",
       "      <td>94.000000</td>\n",
       "      <td>23.000000</td>\n",
       "      <td>88.000000</td>\n",
       "    </tr>\n",
       "    <tr>\n",
       "      <th>6</th>\n",
       "      <td>Hideki Matsuyama</td>\n",
       "      <td>9800</td>\n",
       "      <td>0.520358</td>\n",
       "      <td>35.6</td>\n",
       "      <td>70.300000</td>\n",
       "      <td>35.0</td>\n",
       "      <td>83.300000</td>\n",
       "      <td>12.0</td>\n",
       "      <td>1264.979</td>\n",
       "      <td>19.000000</td>\n",
       "      <td>128.000000</td>\n",
       "      <td>24.000000</td>\n",
       "      <td>5.000000</td>\n",
       "      <td>75.0</td>\n",
       "      <td>42.000000</td>\n",
       "      <td>29.000000</td>\n",
       "      <td>23.000000</td>\n",
       "      <td>105.000000</td>\n",
       "      <td>163.000000</td>\n",
       "      <td>115.000000</td>\n",
       "      <td>132.000000</td>\n",
       "      <td>89.000000</td>\n",
       "      <td>6.000000</td>\n",
       "    </tr>\n",
       "    <tr>\n",
       "      <th>7</th>\n",
       "      <td>Akshay Bhatia</td>\n",
       "      <td>9000</td>\n",
       "      <td>0.509032</td>\n",
       "      <td>38.7</td>\n",
       "      <td>90.000000</td>\n",
       "      <td>40.0</td>\n",
       "      <td>80.000000</td>\n",
       "      <td>38.0</td>\n",
       "      <td>908.990</td>\n",
       "      <td>74.000000</td>\n",
       "      <td>114.000000</td>\n",
       "      <td>17.000000</td>\n",
       "      <td>159.000000</td>\n",
       "      <td>16.0</td>\n",
       "      <td>12.000000</td>\n",
       "      <td>11.000000</td>\n",
       "      <td>41.000000</td>\n",
       "      <td>133.000000</td>\n",
       "      <td>121.000000</td>\n",
       "      <td>140.000000</td>\n",
       "      <td>55.000000</td>\n",
       "      <td>60.000000</td>\n",
       "      <td>166.000000</td>\n",
       "    </tr>\n",
       "    <tr>\n",
       "      <th>8</th>\n",
       "      <td>Lee Hodges</td>\n",
       "      <td>6900</td>\n",
       "      <td>0.474565</td>\n",
       "      <td>48.0</td>\n",
       "      <td>68.500000</td>\n",
       "      <td>125.0</td>\n",
       "      <td>64.700000</td>\n",
       "      <td>127.0</td>\n",
       "      <td>477.614</td>\n",
       "      <td>36.000000</td>\n",
       "      <td>91.000000</td>\n",
       "      <td>19.000000</td>\n",
       "      <td>94.000000</td>\n",
       "      <td>88.0</td>\n",
       "      <td>45.000000</td>\n",
       "      <td>39.000000</td>\n",
       "      <td>13.000000</td>\n",
       "      <td>7.000000</td>\n",
       "      <td>19.000000</td>\n",
       "      <td>76.000000</td>\n",
       "      <td>45.000000</td>\n",
       "      <td>16.000000</td>\n",
       "      <td>19.000000</td>\n",
       "    </tr>\n",
       "    <tr>\n",
       "      <th>9</th>\n",
       "      <td>Aaron Rai</td>\n",
       "      <td>9300</td>\n",
       "      <td>0.469283</td>\n",
       "      <td>38.6</td>\n",
       "      <td>54.000000</td>\n",
       "      <td>20.0</td>\n",
       "      <td>78.900000</td>\n",
       "      <td>35.0</td>\n",
       "      <td>695.647</td>\n",
       "      <td>29.000000</td>\n",
       "      <td>22.000000</td>\n",
       "      <td>57.000000</td>\n",
       "      <td>64.000000</td>\n",
       "      <td>108.0</td>\n",
       "      <td>108.000000</td>\n",
       "      <td>176.000000</td>\n",
       "      <td>13.000000</td>\n",
       "      <td>38.000000</td>\n",
       "      <td>74.000000</td>\n",
       "      <td>168.000000</td>\n",
       "      <td>2.000000</td>\n",
       "      <td>23.000000</td>\n",
       "      <td>93.000000</td>\n",
       "    </tr>\n",
       "    <tr>\n",
       "      <th>10</th>\n",
       "      <td>Harry Hall</td>\n",
       "      <td>9200</td>\n",
       "      <td>0.464033</td>\n",
       "      <td>33.1</td>\n",
       "      <td>90.000000</td>\n",
       "      <td>40.0</td>\n",
       "      <td>85.000000</td>\n",
       "      <td>75.0</td>\n",
       "      <td>898.664</td>\n",
       "      <td>60.000000</td>\n",
       "      <td>106.000000</td>\n",
       "      <td>99.000000</td>\n",
       "      <td>15.000000</td>\n",
       "      <td>3.0</td>\n",
       "      <td>3.000000</td>\n",
       "      <td>11.000000</td>\n",
       "      <td>2.000000</td>\n",
       "      <td>18.000000</td>\n",
       "      <td>121.000000</td>\n",
       "      <td>86.000000</td>\n",
       "      <td>109.000000</td>\n",
       "      <td>107.000000</td>\n",
       "      <td>7.000000</td>\n",
       "    </tr>\n",
       "    <tr>\n",
       "      <th>11</th>\n",
       "      <td>Rickie Fowler</td>\n",
       "      <td>8500</td>\n",
       "      <td>0.445108</td>\n",
       "      <td>42.0</td>\n",
       "      <td>90.000000</td>\n",
       "      <td>50.0</td>\n",
       "      <td>83.300000</td>\n",
       "      <td>100.0</td>\n",
       "      <td>656.080</td>\n",
       "      <td>90.000000</td>\n",
       "      <td>50.000000</td>\n",
       "      <td>106.000000</td>\n",
       "      <td>131.000000</td>\n",
       "      <td>97.0</td>\n",
       "      <td>50.000000</td>\n",
       "      <td>39.000000</td>\n",
       "      <td>58.000000</td>\n",
       "      <td>72.000000</td>\n",
       "      <td>25.000000</td>\n",
       "      <td>78.000000</td>\n",
       "      <td>49.000000</td>\n",
       "      <td>111.000000</td>\n",
       "      <td>45.000000</td>\n",
       "    </tr>\n",
       "    <tr>\n",
       "      <th>12</th>\n",
       "      <td>Aaron Wise</td>\n",
       "      <td>6000</td>\n",
       "      <td>0.444741</td>\n",
       "      <td>90.0</td>\n",
       "      <td>57.112264</td>\n",
       "      <td>1000.0</td>\n",
       "      <td>57.046429</td>\n",
       "      <td>1000.0</td>\n",
       "      <td>0.000</td>\n",
       "      <td>95.769231</td>\n",
       "      <td>94.976923</td>\n",
       "      <td>93.046154</td>\n",
       "      <td>87.869231</td>\n",
       "      <td>93.3</td>\n",
       "      <td>96.523077</td>\n",
       "      <td>84.638462</td>\n",
       "      <td>84.392308</td>\n",
       "      <td>89.661538</td>\n",
       "      <td>90.776923</td>\n",
       "      <td>91.907692</td>\n",
       "      <td>86.361538</td>\n",
       "      <td>93.453846</td>\n",
       "      <td>86.853846</td>\n",
       "    </tr>\n",
       "    <tr>\n",
       "      <th>13</th>\n",
       "      <td>David Ford</td>\n",
       "      <td>6400</td>\n",
       "      <td>0.444741</td>\n",
       "      <td>90.0</td>\n",
       "      <td>57.112264</td>\n",
       "      <td>1000.0</td>\n",
       "      <td>57.046429</td>\n",
       "      <td>1000.0</td>\n",
       "      <td>0.000</td>\n",
       "      <td>95.769231</td>\n",
       "      <td>94.976923</td>\n",
       "      <td>93.046154</td>\n",
       "      <td>87.869231</td>\n",
       "      <td>93.3</td>\n",
       "      <td>96.523077</td>\n",
       "      <td>84.638462</td>\n",
       "      <td>84.392308</td>\n",
       "      <td>89.661538</td>\n",
       "      <td>90.776923</td>\n",
       "      <td>91.907692</td>\n",
       "      <td>86.361538</td>\n",
       "      <td>93.453846</td>\n",
       "      <td>86.853846</td>\n",
       "    </tr>\n",
       "    <tr>\n",
       "      <th>14</th>\n",
       "      <td>Matthew McCarty</td>\n",
       "      <td>6800</td>\n",
       "      <td>0.444741</td>\n",
       "      <td>90.0</td>\n",
       "      <td>57.112264</td>\n",
       "      <td>1000.0</td>\n",
       "      <td>57.046429</td>\n",
       "      <td>1000.0</td>\n",
       "      <td>0.000</td>\n",
       "      <td>95.769231</td>\n",
       "      <td>94.976923</td>\n",
       "      <td>93.046154</td>\n",
       "      <td>87.869231</td>\n",
       "      <td>93.3</td>\n",
       "      <td>96.523077</td>\n",
       "      <td>84.638462</td>\n",
       "      <td>84.392308</td>\n",
       "      <td>89.661538</td>\n",
       "      <td>90.776923</td>\n",
       "      <td>91.907692</td>\n",
       "      <td>86.361538</td>\n",
       "      <td>93.453846</td>\n",
       "      <td>86.853846</td>\n",
       "    </tr>\n",
       "    <tr>\n",
       "      <th>15</th>\n",
       "      <td>Gordon Sargent</td>\n",
       "      <td>6200</td>\n",
       "      <td>0.444741</td>\n",
       "      <td>90.0</td>\n",
       "      <td>57.112264</td>\n",
       "      <td>1000.0</td>\n",
       "      <td>57.046429</td>\n",
       "      <td>1000.0</td>\n",
       "      <td>0.000</td>\n",
       "      <td>95.769231</td>\n",
       "      <td>94.976923</td>\n",
       "      <td>93.046154</td>\n",
       "      <td>87.869231</td>\n",
       "      <td>93.3</td>\n",
       "      <td>96.523077</td>\n",
       "      <td>84.638462</td>\n",
       "      <td>84.392308</td>\n",
       "      <td>89.661538</td>\n",
       "      <td>90.776923</td>\n",
       "      <td>91.907692</td>\n",
       "      <td>86.361538</td>\n",
       "      <td>93.453846</td>\n",
       "      <td>86.853846</td>\n",
       "    </tr>\n",
       "    <tr>\n",
       "      <th>16</th>\n",
       "      <td>Nicolai Hojgaard</td>\n",
       "      <td>7900</td>\n",
       "      <td>0.444741</td>\n",
       "      <td>90.0</td>\n",
       "      <td>57.112264</td>\n",
       "      <td>1000.0</td>\n",
       "      <td>57.046429</td>\n",
       "      <td>1000.0</td>\n",
       "      <td>0.000</td>\n",
       "      <td>95.769231</td>\n",
       "      <td>94.976923</td>\n",
       "      <td>93.046154</td>\n",
       "      <td>87.869231</td>\n",
       "      <td>93.3</td>\n",
       "      <td>96.523077</td>\n",
       "      <td>84.638462</td>\n",
       "      <td>84.392308</td>\n",
       "      <td>89.661538</td>\n",
       "      <td>90.776923</td>\n",
       "      <td>91.907692</td>\n",
       "      <td>86.361538</td>\n",
       "      <td>93.453846</td>\n",
       "      <td>86.853846</td>\n",
       "    </tr>\n",
       "    <tr>\n",
       "      <th>17</th>\n",
       "      <td>Jim Herman</td>\n",
       "      <td>6000</td>\n",
       "      <td>0.444741</td>\n",
       "      <td>90.0</td>\n",
       "      <td>57.112264</td>\n",
       "      <td>1000.0</td>\n",
       "      <td>57.046429</td>\n",
       "      <td>1000.0</td>\n",
       "      <td>0.000</td>\n",
       "      <td>95.769231</td>\n",
       "      <td>94.976923</td>\n",
       "      <td>93.046154</td>\n",
       "      <td>87.869231</td>\n",
       "      <td>93.3</td>\n",
       "      <td>96.523077</td>\n",
       "      <td>84.638462</td>\n",
       "      <td>84.392308</td>\n",
       "      <td>89.661538</td>\n",
       "      <td>90.776923</td>\n",
       "      <td>91.907692</td>\n",
       "      <td>86.361538</td>\n",
       "      <td>93.453846</td>\n",
       "      <td>86.853846</td>\n",
       "    </tr>\n",
       "    <tr>\n",
       "      <th>18</th>\n",
       "      <td>Frankie Capan</td>\n",
       "      <td>6000</td>\n",
       "      <td>0.444741</td>\n",
       "      <td>90.0</td>\n",
       "      <td>57.112264</td>\n",
       "      <td>1000.0</td>\n",
       "      <td>57.046429</td>\n",
       "      <td>1000.0</td>\n",
       "      <td>0.000</td>\n",
       "      <td>95.769231</td>\n",
       "      <td>94.976923</td>\n",
       "      <td>93.046154</td>\n",
       "      <td>87.869231</td>\n",
       "      <td>93.3</td>\n",
       "      <td>96.523077</td>\n",
       "      <td>84.638462</td>\n",
       "      <td>84.392308</td>\n",
       "      <td>89.661538</td>\n",
       "      <td>90.776923</td>\n",
       "      <td>91.907692</td>\n",
       "      <td>86.361538</td>\n",
       "      <td>93.453846</td>\n",
       "      <td>86.853846</td>\n",
       "    </tr>\n",
       "    <tr>\n",
       "      <th>19</th>\n",
       "      <td>Austin Duncan</td>\n",
       "      <td>6000</td>\n",
       "      <td>0.444741</td>\n",
       "      <td>90.0</td>\n",
       "      <td>57.112264</td>\n",
       "      <td>1000.0</td>\n",
       "      <td>57.046429</td>\n",
       "      <td>1000.0</td>\n",
       "      <td>0.000</td>\n",
       "      <td>95.769231</td>\n",
       "      <td>94.976923</td>\n",
       "      <td>93.046154</td>\n",
       "      <td>87.869231</td>\n",
       "      <td>93.3</td>\n",
       "      <td>96.523077</td>\n",
       "      <td>84.638462</td>\n",
       "      <td>84.392308</td>\n",
       "      <td>89.661538</td>\n",
       "      <td>90.776923</td>\n",
       "      <td>91.907692</td>\n",
       "      <td>86.361538</td>\n",
       "      <td>93.453846</td>\n",
       "      <td>86.853846</td>\n",
       "    </tr>\n",
       "  </tbody>\n",
       "</table>\n",
       "</div>"
      ],
      "text/plain": [
       "              PLAYER  SALARY  PROBABILITY  RECENT_FORM  COURSE_HISTORY  \\\n",
       "0         Si Woo Kim    8700     0.844904         47.8       44.700000   \n",
       "1         Jake Knapp    9100     0.760719         42.2       90.000000   \n",
       "2      Kurt Kitayama    8800     0.737553         52.4       90.000000   \n",
       "3           Ryan Fox    7300     0.611685         47.7       90.000000   \n",
       "4    Emiliano Grillo    7500     0.565220         54.9       59.000000   \n",
       "5     Keith Mitchell    7500     0.559763         49.4       50.400000   \n",
       "6   Hideki Matsuyama    9800     0.520358         35.6       70.300000   \n",
       "7      Akshay Bhatia    9000     0.509032         38.7       90.000000   \n",
       "8         Lee Hodges    6900     0.474565         48.0       68.500000   \n",
       "9          Aaron Rai    9300     0.469283         38.6       54.000000   \n",
       "10        Harry Hall    9200     0.464033         33.1       90.000000   \n",
       "11     Rickie Fowler    8500     0.445108         42.0       90.000000   \n",
       "12        Aaron Wise    6000     0.444741         90.0       57.112264   \n",
       "13        David Ford    6400     0.444741         90.0       57.112264   \n",
       "14   Matthew McCarty    6800     0.444741         90.0       57.112264   \n",
       "15    Gordon Sargent    6200     0.444741         90.0       57.112264   \n",
       "16  Nicolai Hojgaard    7900     0.444741         90.0       57.112264   \n",
       "17        Jim Herman    6000     0.444741         90.0       57.112264   \n",
       "18     Frankie Capan    6000     0.444741         90.0       57.112264   \n",
       "19     Austin Duncan    6000     0.444741         90.0       57.112264   \n",
       "\n",
       "    VEGAS_ODDS  CUT_PERCENTAGE  OWGR_RANK  FEDEX_CUP_POINTS  SGTTG_RANK  \\\n",
       "0         30.0       68.000000       67.0           881.749   12.000000   \n",
       "1         35.0       76.200000       77.0           769.686   69.000000   \n",
       "2         40.0       61.100000       39.0           816.559    8.000000   \n",
       "3         80.0       73.300000       32.0           823.200   37.000000   \n",
       "4         70.0       66.700000       99.0           586.013   77.000000   \n",
       "5         80.0       68.400000      101.0           478.759   44.000000   \n",
       "6         35.0       83.300000       12.0          1264.979   19.000000   \n",
       "7         40.0       80.000000       38.0           908.990   74.000000   \n",
       "8        125.0       64.700000      127.0           477.614   36.000000   \n",
       "9         20.0       78.900000       35.0           695.647   29.000000   \n",
       "10        40.0       85.000000       75.0           898.664   60.000000   \n",
       "11        50.0       83.300000      100.0           656.080   90.000000   \n",
       "12      1000.0       57.046429     1000.0             0.000   95.769231   \n",
       "13      1000.0       57.046429     1000.0             0.000   95.769231   \n",
       "14      1000.0       57.046429     1000.0             0.000   95.769231   \n",
       "15      1000.0       57.046429     1000.0             0.000   95.769231   \n",
       "16      1000.0       57.046429     1000.0             0.000   95.769231   \n",
       "17      1000.0       57.046429     1000.0             0.000   95.769231   \n",
       "18      1000.0       57.046429     1000.0             0.000   95.769231   \n",
       "19      1000.0       57.046429     1000.0             0.000   95.769231   \n",
       "\n",
       "    SGOTT_RANK  SGAPR_RANK  SGATG_RANK  SGP_RANK  BIRDIES_RANK  PAR_3_RANK  \\\n",
       "0    40.000000   39.000000   13.000000     150.0     38.000000  121.000000   \n",
       "1    63.000000   80.000000  105.000000      11.0      4.000000   90.000000   \n",
       "2    12.000000   36.000000   48.000000     152.0      5.000000   90.000000   \n",
       "3    97.000000   25.000000   65.000000      38.0     40.000000  103.000000   \n",
       "4    67.000000   40.000000  157.000000      40.0     84.000000   75.000000   \n",
       "5    17.000000   55.000000  154.000000      93.0      6.000000  103.000000   \n",
       "6   128.000000   24.000000    5.000000      75.0     42.000000   29.000000   \n",
       "7   114.000000   17.000000  159.000000      16.0     12.000000   11.000000   \n",
       "8    91.000000   19.000000   94.000000      88.0     45.000000   39.000000   \n",
       "9    22.000000   57.000000   64.000000     108.0    108.000000  176.000000   \n",
       "10  106.000000   99.000000   15.000000       3.0      3.000000   11.000000   \n",
       "11   50.000000  106.000000  131.000000      97.0     50.000000   39.000000   \n",
       "12   94.976923   93.046154   87.869231      93.3     96.523077   84.638462   \n",
       "13   94.976923   93.046154   87.869231      93.3     96.523077   84.638462   \n",
       "14   94.976923   93.046154   87.869231      93.3     96.523077   84.638462   \n",
       "15   94.976923   93.046154   87.869231      93.3     96.523077   84.638462   \n",
       "16   94.976923   93.046154   87.869231      93.3     96.523077   84.638462   \n",
       "17   94.976923   93.046154   87.869231      93.3     96.523077   84.638462   \n",
       "18   94.976923   93.046154   87.869231      93.3     96.523077   84.638462   \n",
       "19   94.976923   93.046154   87.869231      93.3     96.523077   84.638462   \n",
       "\n",
       "    PAR_4_RANK  PAR_5_RANK  TOTAL_DRIVING_RANK  DRIVING_DISTANCE_RANK  \\\n",
       "0    41.000000   18.000000           76.000000             144.000000   \n",
       "1     7.000000    4.000000           76.000000              21.000000   \n",
       "2    10.000000   14.000000           39.000000               7.000000   \n",
       "3    85.000000   38.000000          141.000000              53.000000   \n",
       "4    41.000000  116.000000           16.000000              99.000000   \n",
       "5    13.000000    7.000000           11.000000              11.000000   \n",
       "6    23.000000  105.000000          163.000000             115.000000   \n",
       "7    41.000000  133.000000          121.000000             140.000000   \n",
       "8    13.000000    7.000000           19.000000              76.000000   \n",
       "9    13.000000   38.000000           74.000000             168.000000   \n",
       "10    2.000000   18.000000          121.000000              86.000000   \n",
       "11   58.000000   72.000000           25.000000              78.000000   \n",
       "12   84.392308   89.661538           90.776923              91.907692   \n",
       "13   84.392308   89.661538           90.776923              91.907692   \n",
       "14   84.392308   89.661538           90.776923              91.907692   \n",
       "15   84.392308   89.661538           90.776923              91.907692   \n",
       "16   84.392308   89.661538           90.776923              91.907692   \n",
       "17   84.392308   89.661538           90.776923              91.907692   \n",
       "18   84.392308   89.661538           90.776923              91.907692   \n",
       "19   84.392308   89.661538           90.776923              91.907692   \n",
       "\n",
       "    DRIVING_ACCURACY_RANK    GIR_RANK  SCRAMBLING_RANK  \n",
       "0               28.000000   77.000000        60.000000  \n",
       "1              151.000000   43.000000        21.000000  \n",
       "2              139.000000   49.000000        84.000000  \n",
       "3              155.000000  126.000000       151.000000  \n",
       "4               16.000000   74.000000       112.000000  \n",
       "5               94.000000   23.000000        88.000000  \n",
       "6              132.000000   89.000000         6.000000  \n",
       "7               55.000000   60.000000       166.000000  \n",
       "8               45.000000   16.000000        19.000000  \n",
       "9                2.000000   23.000000        93.000000  \n",
       "10             109.000000  107.000000         7.000000  \n",
       "11              49.000000  111.000000        45.000000  \n",
       "12              86.361538   93.453846        86.853846  \n",
       "13              86.361538   93.453846        86.853846  \n",
       "14              86.361538   93.453846        86.853846  \n",
       "15              86.361538   93.453846        86.853846  \n",
       "16              86.361538   93.453846        86.853846  \n",
       "17              86.361538   93.453846        86.853846  \n",
       "18              86.361538   93.453846        86.853846  \n",
       "19              86.361538   93.453846        86.853846  "
      ]
     },
     "execution_count": 30,
     "metadata": {},
     "output_type": "execute_result"
    }
   ],
   "source": [
    "# === Prepare test data (this week's players) ===\n",
    "\n",
    "# Select and standardize features using the same scaler as training\n",
    "X_test = this_week[feature_cols]\n",
    "X_test_scaled = scaler.transform(X_test)\n",
    "\n",
    "# === Predict probabilities for Top 20 finish ===\n",
    "# CalibratedClassifierCV returns well-calibrated probabilities\n",
    "this_week[\"PROBABILITY\"] = final_model.predict_proba(X_test_scaled)[:, 1]\n",
    "\n",
    "# === Sort results by highest predicted probability ===\n",
    "this_week_sorted = this_week.sort_values(by=\"PROBABILITY\", ascending=False).reset_index(drop=True)\n",
    "\n",
    "# === Define final column order explicitly ===\n",
    "columns_to_show = [\n",
    "    \"PLAYER\", \"SALARY\", \"PROBABILITY\",\n",
    "    \"RECENT_FORM\", \"COURSE_HISTORY\", \"VEGAS_ODDS\", \"CUT_PERCENTAGE\", \n",
    "    \"OWGR_RANK\", \"FEDEX_CUP_POINTS\",\n",
    "\n",
    "    # SG stats\n",
    "    \"SGTTG_RANK\", \"SGOTT_RANK\", \"SGAPR_RANK\", \"SGATG_RANK\", \"SGP_RANK\",\n",
    "\n",
    "    # Scoring/Performance\n",
    "    \"BIRDIES_RANK\", \"PAR_3_RANK\", \"PAR_4_RANK\", \"PAR_5_RANK\",\n",
    "\n",
    "    # Driving / Ball Striking\n",
    "    \"TOTAL_DRIVING_RANK\", \"DRIVING_DISTANCE_RANK\", \"DRIVING_ACCURACY_RANK\",\n",
    "    \"GIR_RANK\", \"SCRAMBLING_RANK\"\n",
    "]\n",
    "\n",
    "# Keep only columns that exist in the dataframe\n",
    "columns_to_show = [col for col in columns_to_show if col in this_week_sorted.columns]\n",
    "\n",
    "# Final dataframe for display/export\n",
    "export_df = this_week_sorted[columns_to_show].copy()\n",
    "\n",
    "# Preview top 20\n",
    "export_df.head(20)\n"
   ]
  },
  {
   "cell_type": "markdown",
   "id": "8641f78e",
   "metadata": {},
   "source": [
    "### Save to CSV"
   ]
  },
  {
   "cell_type": "code",
   "execution_count": 31,
   "id": "323933e9",
   "metadata": {},
   "outputs": [
    {
     "name": "stdout",
     "output_type": "stream",
     "text": [
      "✅ Exported to data/current_week_export.csv\n"
     ]
    }
   ],
   "source": [
    "# Ensure required columns for spreadsheet export\n",
    "if \"COURSE_HISTORY\" not in export_df.columns:\n",
    "    export_df[\"COURSE_HISTORY\"] = \"-\"\n",
    "\n",
    "# Define columns to round (FedEx + stats)\n",
    "columns_to_round = [\n",
    "    \"FEDEX_CUP_POINTS\",\n",
    "    \"SGTTG_RANK\", \"SGOTT_RANK\", \"SGAPR_RANK\", \"SGATG_RANK\", \"SGP_RANK\",\n",
    "    \"BIRDIES_RANK\", \"PAR_3_RANK\", \"PAR_4_RANK\", \"PAR_5_RANK\",\n",
    "    \"TOTAL_DRIVING_RANK\", \"DRIVING_DISTANCE_RANK\", \"DRIVING_ACCURACY_RANK\",\n",
    "    \"GIR_RANK\", \"SCRAMBLING_RANK\"\n",
    "]\n",
    "\n",
    "columns_to_round_1 = [\n",
    "    \"COURSE_HISTORY\", \"CUT_PERCENTAGE\"\n",
    "]\n",
    "\n",
    "# Round only the selected columns to 0 decimal places\n",
    "export_df[columns_to_round] = export_df[columns_to_round].round(0).astype(\"Int64\")\n",
    "# Round only the selected columns to 1 decimal places\n",
    "export_df[columns_to_round_1] = export_df[columns_to_round_1].round(1)\n",
    "\n",
    "# Explicit column order for Excel integration\n",
    "column_order = [\n",
    "    \"PLAYER\", \"SALARY\", \"PROBABILITY\", \"RECENT_FORM\", \"COURSE_HISTORY\", \"VEGAS_ODDS\", \n",
    "    \"CUT_PERCENTAGE\", \"OWGR_RANK\", \"FEDEX_CUP_POINTS\", \n",
    "    \"SGTTG_RANK\", \"SGOTT_RANK\", \"SGAPR_RANK\", \"SGATG_RANK\", \"SGP_RANK\",\n",
    "    \"BIRDIES_RANK\", \"PAR_3_RANK\", \"PAR_4_RANK\", \"PAR_5_RANK\",\n",
    "    \"TOTAL_DRIVING_RANK\", \"DRIVING_DISTANCE_RANK\", \"DRIVING_ACCURACY_RANK\",\n",
    "    \"GIR_RANK\", \"SCRAMBLING_RANK\"\n",
    "]\n",
    "\n",
    "# Ensure all expected columns exist\n",
    "for col in column_order:\n",
    "    if col not in export_df.columns:\n",
    "        export_df[col] = \"-\" if col == \"COURSE_HISTORY\" else np.nan\n",
    "\n",
    "# Reorder columns to match Excel layout\n",
    "export_df = export_df[column_order]\n",
    "\n",
    "# Export to CSV\n",
    "filename = f\"data/current_week_export.csv\"\n",
    "export_df.to_csv(filename, index=False)\n",
    "print(f\"✅ Exported to {filename}\")"
   ]
  }
 ],
 "metadata": {
  "kernelspec": {
   "display_name": "Python 3",
   "language": "python",
   "name": "python3"
  },
  "language_info": {
   "codemirror_mode": {
    "name": "ipython",
    "version": 3
   },
   "file_extension": ".py",
   "mimetype": "text/x-python",
   "name": "python",
   "nbconvert_exporter": "python",
   "pygments_lexer": "ipython3",
   "version": "3.13.3"
  }
 },
 "nbformat": 4,
 "nbformat_minor": 5
}
