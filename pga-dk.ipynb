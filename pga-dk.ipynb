{
 "cells": [
  {
   "cell_type": "markdown",
   "id": "51850cd5",
   "metadata": {},
   "source": [
    "## PGA Draftkings Notebook\n",
    "Use [PGA Website](https://www.pgatour.com/tournaments/schedule.html) to look up tournament info and fill out first USER INPUT block below. (Fetch/XHR from Network tab, Paylod sub-tab)\n",
    "\n",
    "Looks like the tournament ID is also in the address bar."
   ]
  },
  {
   "cell_type": "markdown",
   "id": "cc589d19",
   "metadata": {},
   "source": [
    "### User Input"
   ]
  },
  {
   "cell_type": "code",
   "execution_count": 1,
   "id": "5b16fd89",
   "metadata": {},
   "outputs": [],
   "source": [
    "# === USER INPUTS ===\n",
    "# Old Tournament\n",
    "old_tournament_name = \"PGA Championship\"\n",
    "tournament_date = \"5/18/2025\"\n",
    "old_course = \"Quail Hollow Club\"\n",
    "tournament_id = \"R2025033\"\n",
    "\n",
    "# New Tournament\n",
    "new_tournament_name = \"Charles Schwab Challenge\"\n",
    "new_ending_date = \"2025-05-25\"\n",
    "new_course = \"Colonial Country Club\"\n",
    "new_season = 2025\n",
    "\n",
    "\n",
    "# === LIBRARIES AND VARIABLES ===\n",
    "# Import necessary libraries\n",
    "import requests\n",
    "import pandas as pd\n",
    "from datetime import datetime\n",
    "import sqlite3 as sql\n",
    "import numpy as np\n",
    "from numpy import nan\n",
    "import os\n",
    "import importlib\n",
    "import utils.db_utils\n",
    "from utils.db_utils import TOURNAMENT_NAME_MAP, PLAYER_NAME_MAP\n",
    "\n",
    "# === TOURNAMENT CONFIG ===\n",
    "tournament_config = {\n",
    "    \"old\": {\n",
    "        \"name\": old_tournament_name,\n",
    "        \"date\": tournament_date,\n",
    "        \"course\": old_course,\n",
    "        \"id\": tournament_id\n",
    "    },\n",
    "    \"new\": {\n",
    "        \"name\": new_tournament_name,\n",
    "        \"course\": new_course,\n",
    "        \"season\": new_season,\n",
    "        \"ending_date\": pd.to_datetime(new_ending_date),\n",
    "        \"quoted_course\": f'\"{new_course}\"',\n",
    "        \"quoted_name\": f\"'{new_tournament_name}'\"\n",
    "    }\n",
    "}\n",
    "\n",
    "this_week_key = str(tournament_config[\"new\"][\"ending_date\"].date())\n",
    "\n",
    "# Create a minimal one-row history DataFrame\n",
    "this_week_history = pd.DataFrame([{\n",
    "    \"SEASON\": tournament_config[\"new\"][\"season\"],\n",
    "    \"TOURNAMENT\": tournament_config[\"new\"][\"name\"],\n",
    "    \"ENDING_DATE\": tournament_config[\"new\"][\"ending_date\"],\n",
    "    \"COURSE\": tournament_config[\"new\"][\"course\"],\n",
    "    \"TOURN_ID\": None\n",
    "}])"
   ]
  },
  {
   "cell_type": "markdown",
   "id": "cd739282",
   "metadata": {},
   "source": [
    "### Update Database"
   ]
  },
  {
   "cell_type": "markdown",
   "id": "cebfc2dc",
   "metadata": {},
   "source": [
    "#### Old Tournament"
   ]
  },
  {
   "cell_type": "code",
   "execution_count": 21,
   "id": "31b12dc0",
   "metadata": {},
   "outputs": [
    {
     "name": "stdout",
     "output_type": "stream",
     "text": [
      "📦 Fetching results for tournament ID R2025033 (PGA Championship), year: 20250\n",
      "ℹ️ Tournament 'PGA Championship' already exists — no new data inserted.\n"
     ]
    },
    {
     "data": {
      "text/html": [
       "<div>\n",
       "<style scoped>\n",
       "    .dataframe tbody tr th:only-of-type {\n",
       "        vertical-align: middle;\n",
       "    }\n",
       "\n",
       "    .dataframe tbody tr th {\n",
       "        vertical-align: top;\n",
       "    }\n",
       "\n",
       "    .dataframe thead th {\n",
       "        text-align: right;\n",
       "    }\n",
       "</style>\n",
       "<table border=\"1\" class=\"dataframe\">\n",
       "  <thead>\n",
       "    <tr style=\"text-align: right;\">\n",
       "      <th></th>\n",
       "      <th>SEASON</th>\n",
       "      <th>ENDING_DATE</th>\n",
       "      <th>TOURN_ID</th>\n",
       "      <th>TOURNAMENT</th>\n",
       "      <th>COURSE</th>\n",
       "      <th>PLAYER</th>\n",
       "      <th>POS</th>\n",
       "      <th>FINAL_POS</th>\n",
       "      <th>ROUNDS:1</th>\n",
       "      <th>ROUNDS:2</th>\n",
       "      <th>ROUNDS:3</th>\n",
       "      <th>ROUNDS:4</th>\n",
       "      <th>OFFICIAL_MONEY</th>\n",
       "      <th>FEDEX_CUP_POINTS</th>\n",
       "    </tr>\n",
       "  </thead>\n",
       "  <tbody>\n",
       "    <tr>\n",
       "      <th>127</th>\n",
       "      <td>2025</td>\n",
       "      <td>2025-05-18</td>\n",
       "      <td>R2025033</td>\n",
       "      <td>PGA Championship</td>\n",
       "      <td>Quail Hollow Club</td>\n",
       "      <td>Scottie Scheffler</td>\n",
       "      <td>1</td>\n",
       "      <td>1</td>\n",
       "      <td>-2</td>\n",
       "      <td>-3</td>\n",
       "      <td>-6</td>\n",
       "      <td>E</td>\n",
       "      <td>$3,420,000.00</td>\n",
       "      <td>750.000</td>\n",
       "    </tr>\n",
       "    <tr>\n",
       "      <th>31</th>\n",
       "      <td>2025</td>\n",
       "      <td>2025-05-18</td>\n",
       "      <td>R2025033</td>\n",
       "      <td>PGA Championship</td>\n",
       "      <td>Quail Hollow Club</td>\n",
       "      <td>Davis Riley</td>\n",
       "      <td>T2</td>\n",
       "      <td>2</td>\n",
       "      <td>E</td>\n",
       "      <td>-3</td>\n",
       "      <td>-4</td>\n",
       "      <td>+1</td>\n",
       "      <td>$1,418,666.67</td>\n",
       "      <td>391.667</td>\n",
       "    </tr>\n",
       "    <tr>\n",
       "      <th>45</th>\n",
       "      <td>2025</td>\n",
       "      <td>2025-05-18</td>\n",
       "      <td>R2025033</td>\n",
       "      <td>PGA Championship</td>\n",
       "      <td>Quail Hollow Club</td>\n",
       "      <td>Harris English</td>\n",
       "      <td>T2</td>\n",
       "      <td>2</td>\n",
       "      <td>+1</td>\n",
       "      <td>-1</td>\n",
       "      <td>E</td>\n",
       "      <td>-6</td>\n",
       "      <td>$1,418,666.67</td>\n",
       "      <td>391.667</td>\n",
       "    </tr>\n",
       "    <tr>\n",
       "      <th>18</th>\n",
       "      <td>2025</td>\n",
       "      <td>2025-05-18</td>\n",
       "      <td>R2025033</td>\n",
       "      <td>PGA Championship</td>\n",
       "      <td>Quail Hollow Club</td>\n",
       "      <td>Bryson DeChambeau</td>\n",
       "      <td>T2</td>\n",
       "      <td>2</td>\n",
       "      <td>E</td>\n",
       "      <td>-3</td>\n",
       "      <td>-2</td>\n",
       "      <td>-1</td>\n",
       "      <td>$1,418,666.67</td>\n",
       "      <td>0.000</td>\n",
       "    </tr>\n",
       "    <tr>\n",
       "      <th>55</th>\n",
       "      <td>2025</td>\n",
       "      <td>2025-05-18</td>\n",
       "      <td>R2025033</td>\n",
       "      <td>PGA Championship</td>\n",
       "      <td>Quail Hollow Club</td>\n",
       "      <td>Jhonattan Vegas</td>\n",
       "      <td>T5</td>\n",
       "      <td>5</td>\n",
       "      <td>-7</td>\n",
       "      <td>-1</td>\n",
       "      <td>+2</td>\n",
       "      <td>+1</td>\n",
       "      <td>$694,700.00</td>\n",
       "      <td>275.000</td>\n",
       "    </tr>\n",
       "  </tbody>\n",
       "</table>\n",
       "</div>"
      ],
      "text/plain": [
       "     SEASON ENDING_DATE  TOURN_ID        TOURNAMENT             COURSE  \\\n",
       "127    2025  2025-05-18  R2025033  PGA Championship  Quail Hollow Club   \n",
       "31     2025  2025-05-18  R2025033  PGA Championship  Quail Hollow Club   \n",
       "45     2025  2025-05-18  R2025033  PGA Championship  Quail Hollow Club   \n",
       "18     2025  2025-05-18  R2025033  PGA Championship  Quail Hollow Club   \n",
       "55     2025  2025-05-18  R2025033  PGA Championship  Quail Hollow Club   \n",
       "\n",
       "                PLAYER POS  FINAL_POS ROUNDS:1 ROUNDS:2 ROUNDS:3 ROUNDS:4  \\\n",
       "127  Scottie Scheffler   1          1       -2       -3       -6        E   \n",
       "31         Davis Riley  T2          2        E       -3       -4       +1   \n",
       "45      Harris English  T2          2       +1       -1        E       -6   \n",
       "18   Bryson DeChambeau  T2          2        E       -3       -2       -1   \n",
       "55     Jhonattan Vegas  T5          5       -7       -1       +2       +1   \n",
       "\n",
       "    OFFICIAL_MONEY FEDEX_CUP_POINTS  \n",
       "127  $3,420,000.00          750.000  \n",
       "31   $1,418,666.67          391.667  \n",
       "45   $1,418,666.67          391.667  \n",
       "18   $1,418,666.67            0.000  \n",
       "55     $694,700.00          275.000  "
      ]
     },
     "execution_count": 21,
     "metadata": {},
     "output_type": "execute_result"
    }
   ],
   "source": [
    "importlib.reload(utils.db_utils)  # Only needed if you're actively editing db_utils.py\n",
    "from utils.db_utils import update_tournament_results\n",
    "\n",
    "# Change these each year!!\n",
    "season = 2025\n",
    "year = 20250  # Unique GraphQL year distinguishing number in case of multiple per year\n",
    "\n",
    "# Run the update\n",
    "db_path = \"data/golf.db\"  # Or use os.path.join(\"data\", \"golf.db\")\n",
    "tournDf = update_tournament_results(tournament_config, db_path, season, year)\n",
    "\n",
    "# Show just the most recent tournament added for confirmation\n",
    "from sqlalchemy import create_engine\n",
    "\n",
    "engine = create_engine(f\"sqlite:///{db_path}\")\n",
    "\n",
    "query = f\"\"\"\n",
    "SELECT *\n",
    "FROM tournaments\n",
    "WHERE TOURN_ID = '{tournament_config['old']['id']}'\n",
    "  AND ENDING_DATE = '{datetime.strptime(tournament_config['old']['date'], '%m/%d/%Y').date()}'\n",
    "\"\"\"\n",
    "\n",
    "recent = pd.read_sql(query, engine)\n",
    "engine.dispose()\n",
    "recent.sort_values(by='FINAL_POS').head()"
   ]
  },
  {
   "cell_type": "markdown",
   "id": "fb1dcb69",
   "metadata": {},
   "source": [
    "#### Stats"
   ]
  },
  {
   "cell_type": "code",
   "execution_count": 41,
   "id": "0cf3acf5",
   "metadata": {},
   "outputs": [
    {
     "name": "stdout",
     "output_type": "stream",
     "text": [
      "✅ Overwrote stats for season 2025 with 999 rows.\n"
     ]
    },
    {
     "data": {
      "text/html": [
       "<div>\n",
       "<style scoped>\n",
       "    .dataframe tbody tr th:only-of-type {\n",
       "        vertical-align: middle;\n",
       "    }\n",
       "\n",
       "    .dataframe tbody tr th {\n",
       "        vertical-align: top;\n",
       "    }\n",
       "\n",
       "    .dataframe thead th {\n",
       "        text-align: right;\n",
       "    }\n",
       "</style>\n",
       "<table border=\"1\" class=\"dataframe\">\n",
       "  <thead>\n",
       "    <tr style=\"text-align: right;\">\n",
       "      <th></th>\n",
       "      <th>PLAYER</th>\n",
       "      <th>SGTTG_RANK</th>\n",
       "      <th>SGTTG</th>\n",
       "      <th>SGOTT_RANK</th>\n",
       "      <th>SGOTT</th>\n",
       "      <th>SGAPR_RANK</th>\n",
       "      <th>SGAPR</th>\n",
       "      <th>SGATG_RANK</th>\n",
       "      <th>SGATG</th>\n",
       "      <th>SGP_RANK</th>\n",
       "      <th>SGP</th>\n",
       "      <th>BIRDIES_RANK</th>\n",
       "      <th>BIRDIES</th>\n",
       "      <th>PAR_3_RANK</th>\n",
       "      <th>PAR_3</th>\n",
       "      <th>PAR_4_RANK</th>\n",
       "      <th>PAR_4</th>\n",
       "      <th>PAR_5_RANK</th>\n",
       "      <th>PAR_5</th>\n",
       "      <th>TOTAL_DRIVING_RANK</th>\n",
       "      <th>TOTAL_DRIVING</th>\n",
       "      <th>DRIVING_DISTANCE_RANK</th>\n",
       "      <th>DRIVING_DISTANCE</th>\n",
       "      <th>DRIVING_ACCURACY_RANK</th>\n",
       "      <th>DRIVING_ACCURACY</th>\n",
       "      <th>GIR_RANK</th>\n",
       "      <th>GIR</th>\n",
       "      <th>SCRAMBLING_RANK</th>\n",
       "      <th>SCRAMBLING</th>\n",
       "      <th>OWGR_RANK</th>\n",
       "      <th>OWGR</th>\n",
       "      <th>SEASON</th>\n",
       "    </tr>\n",
       "  </thead>\n",
       "  <tbody>\n",
       "    <tr>\n",
       "      <th>0</th>\n",
       "      <td>A.J. Ewart</td>\n",
       "      <td>NaN</td>\n",
       "      <td>NaN</td>\n",
       "      <td>NaN</td>\n",
       "      <td>NaN</td>\n",
       "      <td>NaN</td>\n",
       "      <td>NaN</td>\n",
       "      <td>NaN</td>\n",
       "      <td>NaN</td>\n",
       "      <td>NaN</td>\n",
       "      <td>NaN</td>\n",
       "      <td>NaN</td>\n",
       "      <td>NaN</td>\n",
       "      <td>NaN</td>\n",
       "      <td>NaN</td>\n",
       "      <td>NaN</td>\n",
       "      <td>NaN</td>\n",
       "      <td>NaN</td>\n",
       "      <td>NaN</td>\n",
       "      <td>NaN</td>\n",
       "      <td>NaN</td>\n",
       "      <td>NaN</td>\n",
       "      <td>NaN</td>\n",
       "      <td>NaN</td>\n",
       "      <td>NaN</td>\n",
       "      <td>NaN</td>\n",
       "      <td>NaN</td>\n",
       "      <td>NaN</td>\n",
       "      <td>NaN</td>\n",
       "      <td>656</td>\n",
       "      <td>.1687</td>\n",
       "      <td>2025</td>\n",
       "    </tr>\n",
       "    <tr>\n",
       "      <th>1</th>\n",
       "      <td>Aaron Baddeley</td>\n",
       "      <td>166.0</td>\n",
       "      <td>-0.965</td>\n",
       "      <td>179.0</td>\n",
       "      <td>-1.366</td>\n",
       "      <td>133.0</td>\n",
       "      <td>-0.203</td>\n",
       "      <td>3.0</td>\n",
       "      <td>0.604</td>\n",
       "      <td>158.0</td>\n",
       "      <td>-0.470</td>\n",
       "      <td>178.0</td>\n",
       "      <td>18.01%</td>\n",
       "      <td>111.0</td>\n",
       "      <td>3.08</td>\n",
       "      <td>155.0</td>\n",
       "      <td>4.07</td>\n",
       "      <td>179.0</td>\n",
       "      <td>4.78</td>\n",
       "      <td>176.0</td>\n",
       "      <td>290</td>\n",
       "      <td>167.0</td>\n",
       "      <td>288.9</td>\n",
       "      <td>123.0</td>\n",
       "      <td>56.64%</td>\n",
       "      <td>173.0</td>\n",
       "      <td>60.61%</td>\n",
       "      <td>87.0</td>\n",
       "      <td>60.68%</td>\n",
       "      <td>417</td>\n",
       "      <td>.3112</td>\n",
       "      <td>2025</td>\n",
       "    </tr>\n",
       "    <tr>\n",
       "      <th>2</th>\n",
       "      <td>Aaron Cockerill</td>\n",
       "      <td>NaN</td>\n",
       "      <td>NaN</td>\n",
       "      <td>NaN</td>\n",
       "      <td>NaN</td>\n",
       "      <td>NaN</td>\n",
       "      <td>NaN</td>\n",
       "      <td>NaN</td>\n",
       "      <td>NaN</td>\n",
       "      <td>NaN</td>\n",
       "      <td>NaN</td>\n",
       "      <td>NaN</td>\n",
       "      <td>NaN</td>\n",
       "      <td>NaN</td>\n",
       "      <td>NaN</td>\n",
       "      <td>NaN</td>\n",
       "      <td>NaN</td>\n",
       "      <td>NaN</td>\n",
       "      <td>NaN</td>\n",
       "      <td>NaN</td>\n",
       "      <td>NaN</td>\n",
       "      <td>NaN</td>\n",
       "      <td>NaN</td>\n",
       "      <td>NaN</td>\n",
       "      <td>NaN</td>\n",
       "      <td>NaN</td>\n",
       "      <td>NaN</td>\n",
       "      <td>NaN</td>\n",
       "      <td>NaN</td>\n",
       "      <td>358</td>\n",
       "      <td>.3667</td>\n",
       "      <td>2025</td>\n",
       "    </tr>\n",
       "    <tr>\n",
       "      <th>3</th>\n",
       "      <td>Aaron Rai</td>\n",
       "      <td>21.0</td>\n",
       "      <td>0.831</td>\n",
       "      <td>35.0</td>\n",
       "      <td>0.330</td>\n",
       "      <td>20.0</td>\n",
       "      <td>0.513</td>\n",
       "      <td>107.0</td>\n",
       "      <td>-0.012</td>\n",
       "      <td>96.0</td>\n",
       "      <td>0.004</td>\n",
       "      <td>27.0</td>\n",
       "      <td>23.86%</td>\n",
       "      <td>179.0</td>\n",
       "      <td>3.19</td>\n",
       "      <td>6.0</td>\n",
       "      <td>3.95</td>\n",
       "      <td>25.0</td>\n",
       "      <td>4.53</td>\n",
       "      <td>75.0</td>\n",
       "      <td>170</td>\n",
       "      <td>169.0</td>\n",
       "      <td>286.7</td>\n",
       "      <td>1.0</td>\n",
       "      <td>73.13%</td>\n",
       "      <td>16.0</td>\n",
       "      <td>69.57%</td>\n",
       "      <td>131.0</td>\n",
       "      <td>58.51%</td>\n",
       "      <td>28</td>\n",
       "      <td>2.7748</td>\n",
       "      <td>2025</td>\n",
       "    </tr>\n",
       "    <tr>\n",
       "      <th>4</th>\n",
       "      <td>Aaron Wilkin</td>\n",
       "      <td>NaN</td>\n",
       "      <td>NaN</td>\n",
       "      <td>NaN</td>\n",
       "      <td>NaN</td>\n",
       "      <td>NaN</td>\n",
       "      <td>NaN</td>\n",
       "      <td>NaN</td>\n",
       "      <td>NaN</td>\n",
       "      <td>NaN</td>\n",
       "      <td>NaN</td>\n",
       "      <td>NaN</td>\n",
       "      <td>NaN</td>\n",
       "      <td>NaN</td>\n",
       "      <td>NaN</td>\n",
       "      <td>NaN</td>\n",
       "      <td>NaN</td>\n",
       "      <td>NaN</td>\n",
       "      <td>NaN</td>\n",
       "      <td>NaN</td>\n",
       "      <td>NaN</td>\n",
       "      <td>NaN</td>\n",
       "      <td>NaN</td>\n",
       "      <td>NaN</td>\n",
       "      <td>NaN</td>\n",
       "      <td>NaN</td>\n",
       "      <td>NaN</td>\n",
       "      <td>NaN</td>\n",
       "      <td>NaN</td>\n",
       "      <td>744</td>\n",
       "      <td>.1321</td>\n",
       "      <td>2025</td>\n",
       "    </tr>\n",
       "  </tbody>\n",
       "</table>\n",
       "</div>"
      ],
      "text/plain": [
       "            PLAYER  SGTTG_RANK   SGTTG  SGOTT_RANK   SGOTT  SGAPR_RANK  \\\n",
       "0       A.J. Ewart         NaN     NaN         NaN     NaN         NaN   \n",
       "1   Aaron Baddeley       166.0  -0.965       179.0  -1.366       133.0   \n",
       "2  Aaron Cockerill         NaN     NaN         NaN     NaN         NaN   \n",
       "3        Aaron Rai        21.0   0.831        35.0   0.330        20.0   \n",
       "4     Aaron Wilkin         NaN     NaN         NaN     NaN         NaN   \n",
       "\n",
       "    SGAPR  SGATG_RANK   SGATG  SGP_RANK     SGP  BIRDIES_RANK BIRDIES  \\\n",
       "0     NaN         NaN     NaN       NaN     NaN           NaN     NaN   \n",
       "1  -0.203         3.0   0.604     158.0  -0.470         178.0  18.01%   \n",
       "2     NaN         NaN     NaN       NaN     NaN           NaN     NaN   \n",
       "3   0.513       107.0  -0.012      96.0   0.004          27.0  23.86%   \n",
       "4     NaN         NaN     NaN       NaN     NaN           NaN     NaN   \n",
       "\n",
       "   PAR_3_RANK PAR_3  PAR_4_RANK PAR_4  PAR_5_RANK PAR_5  TOTAL_DRIVING_RANK  \\\n",
       "0         NaN   NaN         NaN   NaN         NaN   NaN                 NaN   \n",
       "1       111.0  3.08       155.0  4.07       179.0  4.78               176.0   \n",
       "2         NaN   NaN         NaN   NaN         NaN   NaN                 NaN   \n",
       "3       179.0  3.19         6.0  3.95        25.0  4.53                75.0   \n",
       "4         NaN   NaN         NaN   NaN         NaN   NaN                 NaN   \n",
       "\n",
       "  TOTAL_DRIVING  DRIVING_DISTANCE_RANK DRIVING_DISTANCE  \\\n",
       "0           NaN                    NaN              NaN   \n",
       "1           290                  167.0            288.9   \n",
       "2           NaN                    NaN              NaN   \n",
       "3           170                  169.0            286.7   \n",
       "4           NaN                    NaN              NaN   \n",
       "\n",
       "   DRIVING_ACCURACY_RANK DRIVING_ACCURACY  GIR_RANK     GIR  SCRAMBLING_RANK  \\\n",
       "0                    NaN              NaN       NaN     NaN              NaN   \n",
       "1                  123.0           56.64%     173.0  60.61%             87.0   \n",
       "2                    NaN              NaN       NaN     NaN              NaN   \n",
       "3                    1.0           73.13%      16.0  69.57%            131.0   \n",
       "4                    NaN              NaN       NaN     NaN              NaN   \n",
       "\n",
       "  SCRAMBLING  OWGR_RANK    OWGR  SEASON  \n",
       "0        NaN        656   .1687    2025  \n",
       "1     60.68%        417   .3112    2025  \n",
       "2        NaN        358   .3667    2025  \n",
       "3     58.51%         28  2.7748    2025  \n",
       "4        NaN        744   .1321    2025  "
      ]
     },
     "execution_count": 41,
     "metadata": {},
     "output_type": "execute_result"
    }
   ],
   "source": [
    "importlib.reload(utils.db_utils)\n",
    "from utils.db_utils import update_season_stats  # <- This line is essential\n",
    "\n",
    "# Change these each year!!\n",
    "statsYear = 2025\n",
    "\n",
    "stats_df = update_season_stats(statsYear, db_path)\n",
    "stats_df.head()"
   ]
  },
  {
   "cell_type": "markdown",
   "id": "e4d0572b",
   "metadata": {},
   "source": [
    "#### Odds\n",
    "Not usually needed for weekly routine."
   ]
  },
  {
   "cell_type": "markdown",
   "id": "ed73bb90",
   "metadata": {},
   "source": [
    "**Manual Fix! Odds name cleanup (only needed when joins fail)**\n",
    "\n",
    "Make sure to update the dictionaries in db_utils.py if new names need to be added."
   ]
  },
  {
   "cell_type": "code",
   "execution_count": 62,
   "id": "f47573f7",
   "metadata": {},
   "outputs": [
    {
     "name": "stdout",
     "output_type": "stream",
     "text": [
      "ℹ️ No odds rows required name cleanup.\n"
     ]
    },
    {
     "data": {
      "text/html": [
       "<div>\n",
       "<style scoped>\n",
       "    .dataframe tbody tr th:only-of-type {\n",
       "        vertical-align: middle;\n",
       "    }\n",
       "\n",
       "    .dataframe tbody tr th {\n",
       "        vertical-align: top;\n",
       "    }\n",
       "\n",
       "    .dataframe thead th {\n",
       "        text-align: right;\n",
       "    }\n",
       "</style>\n",
       "<table border=\"1\" class=\"dataframe\">\n",
       "  <thead>\n",
       "    <tr style=\"text-align: right;\">\n",
       "      <th></th>\n",
       "      <th>SEASON</th>\n",
       "      <th>TOURNAMENT</th>\n",
       "      <th>ENDING_DATE</th>\n",
       "      <th>PLAYER</th>\n",
       "      <th>ODDS</th>\n",
       "      <th>VEGAS_ODDS</th>\n",
       "      <th>TOURNAMENT_ORIG</th>\n",
       "      <th>PLAYER_ORIG</th>\n",
       "    </tr>\n",
       "  </thead>\n",
       "  <tbody>\n",
       "  </tbody>\n",
       "</table>\n",
       "</div>"
      ],
      "text/plain": [
       "Empty DataFrame\n",
       "Columns: [SEASON, TOURNAMENT, ENDING_DATE, PLAYER, ODDS, VEGAS_ODDS, TOURNAMENT_ORIG, PLAYER_ORIG]\n",
       "Index: []"
      ]
     },
     "execution_count": 62,
     "metadata": {},
     "output_type": "execute_result"
    }
   ],
   "source": [
    "importlib.reload(utils.db_utils)\n",
    "from utils.db_utils import clean_odds_names, PLAYER_NAME_MAP, TOURNAMENT_NAME_MAP\n",
    "\n",
    "db_path = \"data/golf.db\" \n",
    "updated_odds = clean_odds_names(db_path, TOURNAMENT_NAME_MAP, PLAYER_NAME_MAP)\n",
    "updated_odds.head()"
   ]
  },
  {
   "cell_type": "markdown",
   "id": "3ffcf8d8",
   "metadata": {},
   "source": [
    "**Historical Odds Updates**\n",
    "\n",
    "Only run this when loading in entire year odds at the start of each year or if corrections need to be made.  This will load in the entire year into the database and update it using the dictionary in db_utils.py."
   ]
  },
  {
   "cell_type": "code",
   "execution_count": 8,
   "id": "7b0ef77d",
   "metadata": {},
   "outputs": [
    {
     "name": "stdout",
     "output_type": "stream",
     "text": [
      "✅ Inserting 10769 new rows into odds table...\n"
     ]
    },
    {
     "data": {
      "text/html": [
       "<div>\n",
       "<style scoped>\n",
       "    .dataframe tbody tr th:only-of-type {\n",
       "        vertical-align: middle;\n",
       "    }\n",
       "\n",
       "    .dataframe tbody tr th {\n",
       "        vertical-align: top;\n",
       "    }\n",
       "\n",
       "    .dataframe thead th {\n",
       "        text-align: right;\n",
       "    }\n",
       "</style>\n",
       "<table border=\"1\" class=\"dataframe\">\n",
       "  <thead>\n",
       "    <tr style=\"text-align: right;\">\n",
       "      <th></th>\n",
       "      <th>SEASON</th>\n",
       "      <th>TOURNAMENT</th>\n",
       "      <th>ENDING_DATE</th>\n",
       "      <th>PLAYER</th>\n",
       "      <th>ODDS</th>\n",
       "      <th>VEGAS_ODDS</th>\n",
       "    </tr>\n",
       "  </thead>\n",
       "  <tbody>\n",
       "    <tr>\n",
       "      <th>4</th>\n",
       "      <td>2023</td>\n",
       "      <td>Fortinet Championship</td>\n",
       "      <td>2022-09-18</td>\n",
       "      <td>Hideki Matsuyama</td>\n",
       "      <td>18/1</td>\n",
       "      <td>18.0</td>\n",
       "    </tr>\n",
       "    <tr>\n",
       "      <th>5</th>\n",
       "      <td>2023</td>\n",
       "      <td>Fortinet Championship</td>\n",
       "      <td>2022-09-18</td>\n",
       "      <td>Max Homa</td>\n",
       "      <td>18/1</td>\n",
       "      <td>18.0</td>\n",
       "    </tr>\n",
       "    <tr>\n",
       "      <th>6</th>\n",
       "      <td>2023</td>\n",
       "      <td>Fortinet Championship</td>\n",
       "      <td>2022-09-18</td>\n",
       "      <td>Corey Conners</td>\n",
       "      <td>20/1</td>\n",
       "      <td>20.0</td>\n",
       "    </tr>\n",
       "    <tr>\n",
       "      <th>7</th>\n",
       "      <td>2023</td>\n",
       "      <td>Fortinet Championship</td>\n",
       "      <td>2022-09-18</td>\n",
       "      <td>Maverick McNealy</td>\n",
       "      <td>25/1</td>\n",
       "      <td>25.0</td>\n",
       "    </tr>\n",
       "    <tr>\n",
       "      <th>8</th>\n",
       "      <td>2023</td>\n",
       "      <td>Fortinet Championship</td>\n",
       "      <td>2022-09-18</td>\n",
       "      <td>Taylor Pendrith</td>\n",
       "      <td>25/1</td>\n",
       "      <td>25.0</td>\n",
       "    </tr>\n",
       "  </tbody>\n",
       "</table>\n",
       "</div>"
      ],
      "text/plain": [
       "   SEASON             TOURNAMENT ENDING_DATE            PLAYER  ODDS  \\\n",
       "4    2023  Fortinet Championship  2022-09-18  Hideki Matsuyama  18/1   \n",
       "5    2023  Fortinet Championship  2022-09-18          Max Homa  18/1   \n",
       "6    2023  Fortinet Championship  2022-09-18     Corey Conners  20/1   \n",
       "7    2023  Fortinet Championship  2022-09-18  Maverick McNealy  25/1   \n",
       "8    2023  Fortinet Championship  2022-09-18   Taylor Pendrith  25/1   \n",
       "\n",
       "   VEGAS_ODDS  \n",
       "4        18.0  \n",
       "5        18.0  \n",
       "6        20.0  \n",
       "7        25.0  \n",
       "8        25.0  "
      ]
     },
     "execution_count": 8,
     "metadata": {},
     "output_type": "execute_result"
    }
   ],
   "source": [
    "importlib.reload(utils.db_utils)\n",
    "from utils.db_utils import import_historical_odds\n",
    "\n",
    "oddsYear = \"2022-2023\"    # URL segment\n",
    "season = 2023             # PGA Tour season\n",
    "db_path = \"data/golf.db\"\n",
    "\n",
    "odds_df = import_historical_odds(oddsYear, season, db_path)\n",
    "odds_df.head()"
   ]
  },
  {
   "cell_type": "markdown",
   "id": "82fc5dfe",
   "metadata": {},
   "source": [
    "**Not normally needed**\n",
    "\n",
    "The code below is a way to troubleshoot the odds function that is in db_utils.py.  If it does not pull the stats correctly, we can run it outside of the db_utils.py file and explore what might be wrong with it, iterating until it works, and then using that fix to update db_utils.py.  This is not normally needed, but wanted to leave this in place as a reference because this odds website can be tricky."
   ]
  },
  {
   "cell_type": "code",
   "execution_count": 3,
   "id": "94460f27",
   "metadata": {},
   "outputs": [
    {
     "name": "stdout",
     "output_type": "stream",
     "text": [
      "📍 Detected: Safeway Open — Ending: 2020-09-13\n",
      "📍 Detected: US Open — Ending: 2020-09-20\n",
      "📍 Detected: R & C Championship — Ending: 2020-09-27\n",
      "📍 Detected: at Big Cedar Lodge - — Ending: 2020-09-22\n",
      "📍 Detected: Sanderson Farms Champ — Ending: 2020-10-04\n",
      "📍 Detected: Shriners H for C Open — Ending: 2020-10-11\n",
      "📍 Detected: The CJ Cup — Ending: 2020-10-18\n",
      "📍 Detected: ZOZO CHAMPIONSHIP — Ending: 2020-10-25\n",
      "📍 Detected: Bermuda Championship — Ending: 2020-11-01\n",
      "📍 Detected: Vivint Houston Open — Ending: 2020-11-08\n",
      "📍 Detected: The Masters — Ending: 2020-11-15\n",
      "📍 Detected: The RSM Classic — Ending: 2020-11-22\n",
      "📍 Detected: Champions for Change — Ending: 2020-11-27\n",
      "📍 Detected: Mayakoba Golf Classic — Ending: 2020-12-06\n",
      "📍 Detected: QBE Shootout — Ending: 2020-12-13\n",
      "📍 Detected: Sentry Tourn of Champions — Ending: 2021-01-10\n",
      "📍 Detected: Sony Open in Hawaii — Ending: 2021-01-17\n",
      "📍 Detected: The American Express — Ending: 2021-01-24\n",
      "📍 Detected: Abu Dhabi HSBC Champ — Ending: 2021-01-24\n",
      "📍 Detected: Farmers Insurance Open — Ending: 2021-01-31\n",
      "📍 Detected: Dubai Desert Classic — Ending: 2021-01-31\n",
      "📍 Detected: W M Phoenix Open — Ending: 2021-02-07\n",
      "📍 Detected: King Abdullah Economic City, — Ending: 2021-02-07\n",
      "📍 Detected: AT&T Pebble Beach Pro-Am — Ending: 2021-02-14\n",
      "📍 Detected: Collegiate Showcase — Ending: 2021-02-15\n",
      "📍 Detected: The Genesis Invitational — Ending: 2021-02-21\n",
      "📍 Detected: WGC-Workday Championship — Ending: 2021-02-28\n",
      "📍 Detected: Puerto Rico Open — Ending: 2021-02-28\n",
      "📍 Detected: Arnold Palmer Invitational — Ending: 2021-03-07\n",
      "📍 Detected: THE PLAYERS Championship — Ending: 2021-03-14\n",
      "📍 Detected: Qatar Masters — Ending: 2021-03-14\n",
      "📍 Detected: The Honda Classic — Ending: 2021-03-21\n",
      "📍 Detected: Magical Kenya Open — Ending: 2021-03-21\n",
      "📍 Detected: Kenya Savannah Classic — Ending: 2021-03-26\n",
      "📍 Detected: WGC-Dell Tech Match Play — Ending: 2021-03-28\n",
      "📍 Detected: Corales Punta Cana Champ — Ending: 2021-03-28\n",
      "📍 Detected: Valero Texas Open — Ending: 2021-04-04\n",
      "📍 Detected: The Masters — Ending: 2021-04-11\n",
      "📍 Detected: RBC Heritage — Ending: 2021-04-18\n",
      "📍 Detected: Austrian Golf Open — Ending: 2021-04-18\n",
      "📍 Detected: MGM Resorts Championship — Ending: 2021-04-18\n",
      "📍 Detected: Zurich Classic of New Orleans — Ending: 2021-04-25\n",
      "📍 Detected: Gran Canaria Lopesan Open — Ending: 2021-04-25\n",
      "📍 Detected: Valspar Championship — Ending: 2021-05-02\n",
      "📍 Detected: Tenerife Open — Ending: 2021-05-02\n",
      "📍 Detected: Wells Fargo Championship — Ending: 2021-05-09\n",
      "📍 Detected: Canary Islands Championship — Ending: 2021-05-09\n",
      "📍 Detected: AT&T Byron Nelson — Ending: 2021-05-16\n",
      "📍 Detected: British Masters — Ending: 2021-05-16\n",
      "📍 Detected: PGA Championship — Ending: 2021-05-23\n",
      "📍 Detected: Charles Schwab Challenge — Ending: 2021-05-30\n",
      "📍 Detected: Made in Himmerland — Ending: 2021-05-30\n",
      "📍 Detected: The Memorial Tournament — Ending: 2021-06-06\n",
      "📍 Detected: Porsche European Open — Ending: 2021-06-07\n",
      "📍 Detected: Palmetto Championship — Ending: 2021-06-13\n",
      "📍 Detected: Scandinavian Mixed — Ending: 2021-06-13\n",
      "📍 Detected: US Open — Ending: 2021-06-20\n",
      "📍 Detected: Travelers Championship — Ending: 2021-06-27\n",
      "📍 Detected: BMW International Open — Ending: 2021-06-27\n",
      "📍 Detected: Rocket Mortgage Classic — Ending: 2021-07-04\n",
      "📍 Detected: Dubai Duty Free Irish Open — Ending: 2021-07-04\n",
      "📍 Detected: Moonlight Basin - — Ending: 2021-07-06\n",
      "📍 Detected: John Deere Classic — Ending: 2021-07-11\n",
      "📍 Detected: abrdn Scottish Open — Ending: 2021-07-11\n",
      "📍 Detected: The Open Championship — Ending: 2021-07-18\n",
      "📍 Detected: Barbasol Championship — Ending: 2021-07-18\n",
      "📍 Detected: 3M Open — Ending: 2021-07-25\n",
      "📍 Detected: Cazoo Open — Ending: 2021-07-25\n",
      "📍 Detected: Men's Olympic Golf — Ending: 2021-08-01\n",
      "📍 Detected: World Invitational — Ending: 2021-08-01\n",
      "📍 Detected: WGC-FedEx St. Jude Invit — Ending: 2021-08-08\n",
      "📍 Detected: Barracuda Championship — Ending: 2021-08-08\n",
      "📍 Detected: Hero Open — Ending: 2021-08-08\n",
      "📍 Detected: Wyndham Championship — Ending: 2021-08-15\n",
      "📍 Detected: Cazoo Classic — Ending: 2021-08-15\n",
      "📍 Detected: The Northern Trust — Ending: 2021-08-23\n",
      "📍 Detected: D+D Real Czech Masters — Ending: 2021-08-22\n",
      "📍 Detected: BMW Championship — Ending: 2021-08-29\n",
      "📍 Detected: Omega European Masters — Ending: 2021-08-29\n",
      "📍 Detected: TOUR Championship — Ending: 2021-09-05\n",
      "📍 Detected: Italian Open — Ending: 2021-09-05\n",
      "📍 Detected: BMW PGA Championship — Ending: 2021-09-12\n",
      "📍 Detected: Dutch Open — Ending: 2021-09-19\n",
      "📍 Detected: 43rd Ryder Cup — Ending: 2021-09-26\n",
      "📍 Detected: Alfred Dunhill Links Champ — Ending: 2021-10-03\n",
      "📍 Detected: Open de Espana — Ending: 2021-10-10\n",
      "📍 Detected: Andalucia Masters — Ending: 2021-10-17\n",
      "📍 Detected: Mallorca Golf Open — Ending: 2021-10-24\n",
      "📍 Detected: Portugal Masters — Ending: 2021-11-07\n",
      "📍 Detected: AVIV Dubai Championship — Ending: 2021-11-14\n",
      "📍 Detected: DP World Tour Championship — Ending: 2021-11-21\n",
      "📍 Detected: Golf Nippon Series JT Cup — Ending: 2021-12-05\n"
     ]
    },
    {
     "data": {
      "text/html": [
       "<div>\n",
       "<style scoped>\n",
       "    .dataframe tbody tr th:only-of-type {\n",
       "        vertical-align: middle;\n",
       "    }\n",
       "\n",
       "    .dataframe tbody tr th {\n",
       "        vertical-align: top;\n",
       "    }\n",
       "\n",
       "    .dataframe thead th {\n",
       "        text-align: right;\n",
       "    }\n",
       "</style>\n",
       "<table border=\"1\" class=\"dataframe\">\n",
       "  <thead>\n",
       "    <tr style=\"text-align: right;\">\n",
       "      <th></th>\n",
       "      <th>SEASON</th>\n",
       "      <th>TOURNAMENT</th>\n",
       "      <th>ENDING_DATE</th>\n",
       "      <th>PLAYER</th>\n",
       "      <th>ODDS</th>\n",
       "      <th>VEGAS_ODDS</th>\n",
       "    </tr>\n",
       "  </thead>\n",
       "  <tbody>\n",
       "    <tr>\n",
       "      <th>0</th>\n",
       "      <td>2021</td>\n",
       "      <td>Safeway Open</td>\n",
       "      <td>2020-09-13</td>\n",
       "      <td>Phil Mickelson</td>\n",
       "      <td>20/1</td>\n",
       "      <td>20.0</td>\n",
       "    </tr>\n",
       "    <tr>\n",
       "      <th>1</th>\n",
       "      <td>2021</td>\n",
       "      <td>Safeway Open</td>\n",
       "      <td>2020-09-13</td>\n",
       "      <td>Si Woo Kim</td>\n",
       "      <td>20/1</td>\n",
       "      <td>20.0</td>\n",
       "    </tr>\n",
       "    <tr>\n",
       "      <th>2</th>\n",
       "      <td>2021</td>\n",
       "      <td>Safeway Open</td>\n",
       "      <td>2020-09-13</td>\n",
       "      <td>Brendan Steele</td>\n",
       "      <td>20/1</td>\n",
       "      <td>20.0</td>\n",
       "    </tr>\n",
       "    <tr>\n",
       "      <th>3</th>\n",
       "      <td>2021</td>\n",
       "      <td>Safeway Open</td>\n",
       "      <td>2020-09-13</td>\n",
       "      <td>Shane Lowry</td>\n",
       "      <td>25/1</td>\n",
       "      <td>25.0</td>\n",
       "    </tr>\n",
       "    <tr>\n",
       "      <th>4</th>\n",
       "      <td>2021</td>\n",
       "      <td>Safeway Open</td>\n",
       "      <td>2020-09-13</td>\n",
       "      <td>Sergio Garcia</td>\n",
       "      <td>30/1</td>\n",
       "      <td>30.0</td>\n",
       "    </tr>\n",
       "  </tbody>\n",
       "</table>\n",
       "</div>"
      ],
      "text/plain": [
       "   SEASON    TOURNAMENT ENDING_DATE          PLAYER  ODDS  VEGAS_ODDS\n",
       "0    2021  Safeway Open  2020-09-13  Phil Mickelson  20/1        20.0\n",
       "1    2021  Safeway Open  2020-09-13      Si Woo Kim  20/1        20.0\n",
       "2    2021  Safeway Open  2020-09-13  Brendan Steele  20/1        20.0\n",
       "3    2021  Safeway Open  2020-09-13     Shane Lowry  25/1        25.0\n",
       "4    2021  Safeway Open  2020-09-13   Sergio Garcia  30/1        30.0"
      ]
     },
     "metadata": {},
     "output_type": "display_data"
    }
   ],
   "source": [
    "import pandas as pd\n",
    "import numpy as np\n",
    "import requests\n",
    "import re\n",
    "from datetime import datetime\n",
    "from io import StringIO\n",
    "\n",
    "# === USER INPUT ===\n",
    "oddsYear = \"2020-2021\"    # URL segment\n",
    "season = 2021        # PGA Tour season\n",
    "\n",
    "url = f\"http://golfodds.com/archives-{oddsYear}.html\"\n",
    "response = requests.get(url)\n",
    "tables = pd.read_html(StringIO(response.text))\n",
    "# raw_df = tables[5]  # the actual table of interest\n",
    "# Find the largest 2-column table that contains at least some odds-like strings\n",
    "raw_df = None\n",
    "for tbl in tables:\n",
    "    if tbl.shape[1] == 2 and tbl.shape[0] > 50:  # Rough filter\n",
    "        sample = tbl.iloc[:, 1].astype(str).str.contains(r\"\\d+/\\d+\").sum()\n",
    "        if sample > 5:\n",
    "            raw_df = tbl\n",
    "            break\n",
    "\n",
    "if raw_df is None:\n",
    "    raise ValueError(\"❌ Could not find valid odds table on the page.\")\n",
    "\n",
    "# === STEP 1: Initial clean-up ===\n",
    "df = raw_df.dropna(how=\"all\").reset_index(drop=True)\n",
    "df.columns = [\"PLAYER\", \"ODDS\"]\n",
    "\n",
    "# 🔧 Clean up non-breaking spaces and extra whitespace\n",
    "df[\"PLAYER\"] = (\n",
    "    df[\"PLAYER\"]\n",
    "    .astype(str)\n",
    "    .str.replace(\"\\xa0\", \" \", regex=False)\n",
    "    .str.replace(r\"\\s+\", \" \", regex=True)\n",
    "    .str.strip()\n",
    ")\n",
    "\n",
    "df.insert(loc=0, column=\"SEASON\", value=season)\n",
    "df.insert(loc=1, column=\"TOURNAMENT\", value=np.nan)\n",
    "df.insert(loc=2, column=\"ENDING_DATE\", value=np.nan)\n",
    "\n",
    "# === STEP 2: Helper function for parsing date strings ===\n",
    "def parse_ending_date(text):\n",
    "    import re\n",
    "    from datetime import datetime\n",
    "\n",
    "    # Normalize whitespace and symbols\n",
    "    text = (\n",
    "        text.replace(\"\\u2013\", \"-\")\n",
    "            .replace(\"–\", \"-\")\n",
    "            .replace(\"\\xa0\", \" \")\n",
    "    )\n",
    "    text = re.sub(r\"\\bSept(?!ember)\\b\", \"Sep\", text)\n",
    "\n",
    "    # ✅ Fix typo: \"Match\" → \"March\" only when used in a date context\n",
    "    text = re.sub(r\"\\bMatch(?=\\s+\\d{1,2}\\s*[-–]\\s*\\d{1,2},\\s*\\d{4})\", \"March\", text)\n",
    "\n",
    "    # Pattern 1: \"July 30 - August 2, 2015\" or \"Oct 29 - Nov 1, 2015\"\n",
    "    match = re.search(r\"(\\w+)\\s\\d+\\s*-\\s*(\\w+)\\s(\\d+),\\s(\\d{4})\", text)\n",
    "    if match:\n",
    "        month2, day2, year = match.group(2), match.group(3), match.group(4)\n",
    "        for fmt in [\"%B %d, %Y\", \"%b %d, %Y\"]:\n",
    "            try:\n",
    "                return datetime.strptime(f\"{month2} {day2}, {year}\", fmt).date()\n",
    "            except ValueError:\n",
    "                continue\n",
    "\n",
    "    # Pattern 2: \"November 21-24, 2024\"\n",
    "    match = re.search(r\"(\\w+)\\s\\d+-\\d+,\\s(\\d{4})\", text)\n",
    "    if match:\n",
    "        month, year = match.group(1), match.group(2)\n",
    "        day = re.search(r\"(\\d+)-(\\d+)\", text).group(2)\n",
    "        for fmt in [\"%B %d, %Y\", \"%b %d, %Y\"]:\n",
    "            try:\n",
    "                return datetime.strptime(f\"{month} {day}, {year}\", fmt).date()\n",
    "            except ValueError:\n",
    "                continue\n",
    "\n",
    "    # Pattern 3: \"Sunday, October 20, 2019\"\n",
    "    try:\n",
    "        return datetime.strptime(text.strip(), \"%A, %B %d, %Y\").date()\n",
    "    except ValueError:\n",
    "        pass\n",
    "\n",
    "    # Pattern 4: \"October 20, 2019\"\n",
    "    try:\n",
    "        return datetime.strptime(text.strip(), \"%B %d, %Y\").date()\n",
    "    except ValueError:\n",
    "        pass\n",
    "\n",
    "    return None\n",
    "\n",
    "last_tourn_name = None\n",
    "last_date = None\n",
    "\n",
    "# === STEP 3: Iterate block by block ===\n",
    "final_rows = []\n",
    "i = 0\n",
    "last_tourn_name = None\n",
    "last_end_date = None\n",
    "\n",
    "while i < len(df) - 4:\n",
    "    player_i = str(df.loc[i, \"PLAYER\"])\n",
    "    player_i2 = str(df.loc[i + 2, \"PLAYER\"])\n",
    "    player_i3 = str(df.loc[i + 3, \"PLAYER\"]).lower()\n",
    "\n",
    "    # Detect start of a new tournament block\n",
    "    is_header = (\n",
    "        pd.isna(df.loc[i, \"ODDS\"]) and\n",
    "        pd.isna(df.loc[i + 1, \"ODDS\"]) and (\n",
    "            re.search(r\"\\w+\\s\\d+\\s*[-–]\\s*(\\w+\\s)?\\d+,\\s\\d{4}\", player_i2) or\n",
    "            re.search(r\"(Monday|Tuesday|Wednesday|Thursday|Friday|Saturday|Sunday),?\\s+\\w+\\s\\d{1,2},\\s\\d{4}\", player_i2)\n",
    "        )\n",
    "    )\n",
    "\n",
    "    if is_header:\n",
    "        tourn_name = player_i.strip()\n",
    "        end_date = parse_ending_date(player_i2)\n",
    "\n",
    "        # Skip cancelled or empty blocks\n",
    "        if \"cancelled\" in player_i3:\n",
    "            print(f\"⚠️ Skipping cancelled tournament: {tourn_name} — {end_date}\")\n",
    "            i += 4\n",
    "            continue\n",
    "\n",
    "        # Avoid duplicate block processing\n",
    "        if tourn_name == last_tourn_name and end_date == last_end_date:\n",
    "            i += 1\n",
    "            continue\n",
    "\n",
    "        print(f\"📍 Detected: {tourn_name} — Ending: {end_date}\")\n",
    "        last_tourn_name = tourn_name\n",
    "        last_end_date = end_date\n",
    "        i += 4  # Skip header lines\n",
    "\n",
    "        # Collect all player rows until next header block\n",
    "        while i < len(df) - 2:\n",
    "            next_i2 = str(df.loc[i + 2, \"PLAYER\"])\n",
    "            is_next_header = (\n",
    "                pd.isna(df.loc[i, \"ODDS\"]) and\n",
    "                pd.isna(df.loc[i + 1, \"ODDS\"]) and (\n",
    "                    re.search(r\"\\w+\\s\\d+\\s*[-–]\\s*(\\w+\\s)?\\d+,\\s\\d{4}\", next_i2) or\n",
    "                    re.search(r\"(Monday|Tuesday|Wednesday|Thursday|Friday|Saturday|Sunday),?\\s+\\w+\\s\\d{1,2},\\s\\d{4}\", next_i2)\n",
    "                )\n",
    "            )\n",
    "            if is_next_header:\n",
    "                break\n",
    "\n",
    "            if pd.notna(df.loc[i, \"ODDS\"]):\n",
    "                row = df.loc[i].copy()\n",
    "                row[\"TOURNAMENT\"] = tourn_name\n",
    "                row[\"ENDING_DATE\"] = end_date\n",
    "                final_rows.append(row)\n",
    "            i += 1\n",
    "    else:\n",
    "        i += 1\n",
    "\n",
    "# === STEP 4: Create cleaned DataFrame ===\n",
    "clean_df = pd.DataFrame(final_rows)\n",
    "\n",
    "# ✅ Prevent crash if nothing was parsed\n",
    "if clean_df.empty or \"PLAYER\" not in clean_df.columns:\n",
    "    print(f\"⚠️ No valid tournament blocks detected for season {season} ({oddsYear})\")\n",
    "    final_df = pd.DataFrame()  # Safe fallback\n",
    "else:\n",
    "    # Remove winner tag\n",
    "    clean_df[\"PLAYER\"] = clean_df[\"PLAYER\"].str.replace(r\"\\s\\*Winner\\*\", \"\", regex=True)\n",
    "\n",
    "    # Clean odds to numeric\n",
    "    clean_df[\"VEGAS_ODDS\"] = (\n",
    "        clean_df[\"ODDS\"]\n",
    "        .str.replace(\",\", \"\")\n",
    "        .str.extract(r\"(\\d+)/(\\d+)\")\n",
    "        .astype(float)\n",
    "        .apply(lambda x: x[0] / x[1], axis=1)\n",
    "    )\n",
    "\n",
    "    # Final output with source index for debugging\n",
    "    final_df = clean_df[\n",
    "        [\"SEASON\", \"TOURNAMENT\", \"ENDING_DATE\", \"PLAYER\", \"ODDS\", \"VEGAS_ODDS\"]\n",
    "    ].reset_index(drop=True)\n",
    "\n",
    "    # Drop non-standard team events (e.g., Presidents Cup, Ryder Cup)\n",
    "    drop_terms = [\"Presidents Cup\", \"Ryder Cup\"]\n",
    "    final_df = final_df[~final_df[\"TOURNAMENT\"].str.contains(\"|\".join(drop_terms), case=False, na=False)]\n",
    "\n",
    "    display(final_df.head())\n",
    "\n"
   ]
  },
  {
   "cell_type": "code",
   "execution_count": 4,
   "id": "1ba6ed1d",
   "metadata": {},
   "outputs": [
    {
     "name": "stdout",
     "output_type": "stream",
     "text": [
      "🧪 Rows with invalid ENDING_DATE values: 0\n"
     ]
    },
    {
     "data": {
      "text/html": [
       "<div>\n",
       "<style scoped>\n",
       "    .dataframe tbody tr th:only-of-type {\n",
       "        vertical-align: middle;\n",
       "    }\n",
       "\n",
       "    .dataframe tbody tr th {\n",
       "        vertical-align: top;\n",
       "    }\n",
       "\n",
       "    .dataframe thead th {\n",
       "        text-align: right;\n",
       "    }\n",
       "</style>\n",
       "<table border=\"1\" class=\"dataframe\">\n",
       "  <thead>\n",
       "    <tr style=\"text-align: right;\">\n",
       "      <th></th>\n",
       "      <th>SEASON</th>\n",
       "      <th>TOURNAMENT</th>\n",
       "      <th>ENDING_DATE</th>\n",
       "      <th>PLAYER</th>\n",
       "      <th>ODDS</th>\n",
       "      <th>VEGAS_ODDS</th>\n",
       "    </tr>\n",
       "  </thead>\n",
       "  <tbody>\n",
       "  </tbody>\n",
       "</table>\n",
       "</div>"
      ],
      "text/plain": [
       "Empty DataFrame\n",
       "Columns: [SEASON, TOURNAMENT, ENDING_DATE, PLAYER, ODDS, VEGAS_ODDS]\n",
       "Index: []"
      ]
     },
     "metadata": {},
     "output_type": "display_data"
    }
   ],
   "source": [
    "from datetime import datetime, date\n",
    "# ✅ Check for non-date types in ENDING_DATE\n",
    "non_dates = final_df[~final_df[\"ENDING_DATE\"].apply(lambda x: isinstance(x, date))]\n",
    "\n",
    "print(f\"🧪 Rows with invalid ENDING_DATE values: {len(non_dates)}\")\n",
    "display(non_dates.head(10))\n",
    "\n"
   ]
  },
  {
   "cell_type": "code",
   "execution_count": 5,
   "id": "d42bfaa0",
   "metadata": {},
   "outputs": [
    {
     "name": "stdout",
     "output_type": "stream",
     "text": [
      "🚨 Duplicate primary keys in final_df: 0\n"
     ]
    },
    {
     "data": {
      "text/html": [
       "<div>\n",
       "<style scoped>\n",
       "    .dataframe tbody tr th:only-of-type {\n",
       "        vertical-align: middle;\n",
       "    }\n",
       "\n",
       "    .dataframe tbody tr th {\n",
       "        vertical-align: top;\n",
       "    }\n",
       "\n",
       "    .dataframe thead th {\n",
       "        text-align: right;\n",
       "    }\n",
       "</style>\n",
       "<table border=\"1\" class=\"dataframe\">\n",
       "  <thead>\n",
       "    <tr style=\"text-align: right;\">\n",
       "      <th></th>\n",
       "      <th>SEASON</th>\n",
       "      <th>TOURNAMENT</th>\n",
       "      <th>ENDING_DATE</th>\n",
       "      <th>PLAYER</th>\n",
       "      <th>ODDS</th>\n",
       "      <th>VEGAS_ODDS</th>\n",
       "    </tr>\n",
       "  </thead>\n",
       "  <tbody>\n",
       "  </tbody>\n",
       "</table>\n",
       "</div>"
      ],
      "text/plain": [
       "Empty DataFrame\n",
       "Columns: [SEASON, TOURNAMENT, ENDING_DATE, PLAYER, ODDS, VEGAS_ODDS]\n",
       "Index: []"
      ]
     },
     "metadata": {},
     "output_type": "display_data"
    }
   ],
   "source": [
    "dupes = final_df.duplicated(subset=[\"SEASON\", \"TOURNAMENT\", \"ENDING_DATE\", \"PLAYER\"], keep=False)\n",
    "\n",
    "print(f\"🚨 Duplicate primary keys in final_df: {dupes.sum()}\")\n",
    "display(final_df[dupes].sort_values(by=[\"SEASON\", \"TOURNAMENT\", \"PLAYER\"]))"
   ]
  },
  {
   "cell_type": "markdown",
   "id": "d5827d49",
   "metadata": {},
   "source": [
    "## Historical Data"
   ]
  },
  {
   "cell_type": "markdown",
   "id": "72034314",
   "metadata": {},
   "source": [
    "### Pull Relevant Seasons\n",
    "Do a check to see when this course or tournament have been historically played."
   ]
  },
  {
   "cell_type": "code",
   "execution_count": 2,
   "id": "fea9c7c6",
   "metadata": {},
   "outputs": [
    {
     "name": "stdout",
     "output_type": "stream",
     "text": [
      "ℹ️ Found 9 relevant tournaments from course or tournament name.\n"
     ]
    },
    {
     "data": {
      "text/html": [
       "<div>\n",
       "<style scoped>\n",
       "    .dataframe tbody tr th:only-of-type {\n",
       "        vertical-align: middle;\n",
       "    }\n",
       "\n",
       "    .dataframe tbody tr th {\n",
       "        vertical-align: top;\n",
       "    }\n",
       "\n",
       "    .dataframe thead th {\n",
       "        text-align: right;\n",
       "    }\n",
       "</style>\n",
       "<table border=\"1\" class=\"dataframe\">\n",
       "  <thead>\n",
       "    <tr style=\"text-align: right;\">\n",
       "      <th></th>\n",
       "      <th>SEASON</th>\n",
       "      <th>COURSE</th>\n",
       "      <th>TOURN_ID</th>\n",
       "      <th>TOURNAMENT</th>\n",
       "      <th>ENDING_DATE</th>\n",
       "    </tr>\n",
       "  </thead>\n",
       "  <tbody>\n",
       "    <tr>\n",
       "      <th>632</th>\n",
       "      <td>2016</td>\n",
       "      <td>Colonial Country Club</td>\n",
       "      <td>021</td>\n",
       "      <td>DEAN &amp; DELUCA Invitational</td>\n",
       "      <td>2016-05-29</td>\n",
       "    </tr>\n",
       "    <tr>\n",
       "      <th>511</th>\n",
       "      <td>2017</td>\n",
       "      <td>Colonial Country Club</td>\n",
       "      <td>021</td>\n",
       "      <td>DEAN &amp; DELUCA Invitational</td>\n",
       "      <td>2017-05-28</td>\n",
       "    </tr>\n",
       "    <tr>\n",
       "      <th>390</th>\n",
       "      <td>2018</td>\n",
       "      <td>Colonial Country Club</td>\n",
       "      <td>021</td>\n",
       "      <td>Fort Worth Invitational</td>\n",
       "      <td>2018-05-27</td>\n",
       "    </tr>\n",
       "    <tr>\n",
       "      <th>269</th>\n",
       "      <td>2019</td>\n",
       "      <td>Colonial Country Club</td>\n",
       "      <td>021</td>\n",
       "      <td>Charles Schwab Challenge</td>\n",
       "      <td>2019-05-26</td>\n",
       "    </tr>\n",
       "    <tr>\n",
       "      <th>121</th>\n",
       "      <td>2020</td>\n",
       "      <td>Colonial Country Club</td>\n",
       "      <td>021</td>\n",
       "      <td>Charles Schwab Challenge</td>\n",
       "      <td>2020-06-14</td>\n",
       "    </tr>\n",
       "    <tr>\n",
       "      <th>0</th>\n",
       "      <td>2021</td>\n",
       "      <td>Colonial Country Club</td>\n",
       "      <td>021</td>\n",
       "      <td>Charles Schwab Challenge</td>\n",
       "      <td>2021-05-30</td>\n",
       "    </tr>\n",
       "    <tr>\n",
       "      <th>875</th>\n",
       "      <td>2022</td>\n",
       "      <td>Colonial Country Club</td>\n",
       "      <td>021</td>\n",
       "      <td>Charles Schwab Challenge</td>\n",
       "      <td>2022-05-29</td>\n",
       "    </tr>\n",
       "    <tr>\n",
       "      <th>995</th>\n",
       "      <td>2023</td>\n",
       "      <td>Colonial Country Club</td>\n",
       "      <td>R2023021</td>\n",
       "      <td>Charles Schwab Challenge</td>\n",
       "      <td>2023-05-28</td>\n",
       "    </tr>\n",
       "    <tr>\n",
       "      <th>1115</th>\n",
       "      <td>2024</td>\n",
       "      <td>Colonial Country Club</td>\n",
       "      <td>R2024021</td>\n",
       "      <td>Charles Schwab Challenge</td>\n",
       "      <td>2024-05-26</td>\n",
       "    </tr>\n",
       "  </tbody>\n",
       "</table>\n",
       "</div>"
      ],
      "text/plain": [
       "      SEASON                 COURSE  TOURN_ID                  TOURNAMENT  \\\n",
       "632     2016  Colonial Country Club       021  DEAN & DELUCA Invitational   \n",
       "511     2017  Colonial Country Club       021  DEAN & DELUCA Invitational   \n",
       "390     2018  Colonial Country Club       021     Fort Worth Invitational   \n",
       "269     2019  Colonial Country Club       021    Charles Schwab Challenge   \n",
       "121     2020  Colonial Country Club       021    Charles Schwab Challenge   \n",
       "0       2021  Colonial Country Club       021    Charles Schwab Challenge   \n",
       "875     2022  Colonial Country Club       021    Charles Schwab Challenge   \n",
       "995     2023  Colonial Country Club  R2023021    Charles Schwab Challenge   \n",
       "1115    2024  Colonial Country Club  R2024021    Charles Schwab Challenge   \n",
       "\n",
       "     ENDING_DATE  \n",
       "632   2016-05-29  \n",
       "511   2017-05-28  \n",
       "390   2018-05-27  \n",
       "269   2019-05-26  \n",
       "121   2020-06-14  \n",
       "0     2021-05-30  \n",
       "875   2022-05-29  \n",
       "995   2023-05-28  \n",
       "1115  2024-05-26  "
      ]
     },
     "execution_count": 2,
     "metadata": {},
     "output_type": "execute_result"
    }
   ],
   "source": [
    "importlib.reload(utils.db_utils)\n",
    "from utils.db_utils import get_combined_history_seasons\n",
    "\n",
    "# === USER INPUT ===\n",
    "seasons = list(range(2016, 2025))  # Adjust as needed\n",
    "db_path = \"data/golf.db\"\n",
    "\n",
    "# Pull course and tournament from config\n",
    "n_course = tournament_config[\"new\"][\"course\"]\n",
    "n_tourn = tournament_config[\"new\"][\"name\"]\n",
    "\n",
    "# Fetch relevant history\n",
    "history_df = get_combined_history_seasons(db_path, course=n_course, tournament=n_tourn, allowed_seasons=seasons)\n",
    "history_df.head(20)\n"
   ]
  },
  {
   "cell_type": "markdown",
   "id": "09441025",
   "metadata": {},
   "source": [
    "### Cut Percentage and FedEx Points\n",
    "Use a rolling-window approach to look at the most recent cut percentage and how many FedEx cup points have been accumulated recently. This will intentionally not match the PGA Tour stats that start over every year, but will have the same amount of data all the time.  We also add a new feature called Form Density which divides the FedEx Cup Points by the Total Events."
   ]
  },
  {
   "cell_type": "code",
   "execution_count": 3,
   "id": "300bf650",
   "metadata": {},
   "outputs": [
    {
     "name": "stdout",
     "output_type": "stream",
     "text": [
      "\n",
      "📆 2016-05-29 — DEAN & DELUCA Invitational (415 players)\n"
     ]
    },
    {
     "data": {
      "text/html": [
       "<div>\n",
       "<style scoped>\n",
       "    .dataframe tbody tr th:only-of-type {\n",
       "        vertical-align: middle;\n",
       "    }\n",
       "\n",
       "    .dataframe tbody tr th {\n",
       "        vertical-align: top;\n",
       "    }\n",
       "\n",
       "    .dataframe thead th {\n",
       "        text-align: right;\n",
       "    }\n",
       "</style>\n",
       "<table border=\"1\" class=\"dataframe\">\n",
       "  <thead>\n",
       "    <tr style=\"text-align: right;\">\n",
       "      <th></th>\n",
       "      <th>PLAYER</th>\n",
       "      <th>TOTAL_EVENTS_PLAYED</th>\n",
       "      <th>CUTS_MADE</th>\n",
       "      <th>FEDEX_CUP_POINTS</th>\n",
       "      <th>CUT_PERCENTAGE</th>\n",
       "      <th>form_density</th>\n",
       "      <th>CONSECUTIVE_CUTS</th>\n",
       "      <th>ENDING_DATE</th>\n",
       "      <th>TOURNAMENT</th>\n",
       "    </tr>\n",
       "  </thead>\n",
       "  <tbody>\n",
       "    <tr>\n",
       "      <th>0</th>\n",
       "      <td>Aaron Baddeley</td>\n",
       "      <td>15</td>\n",
       "      <td>9</td>\n",
       "      <td>365.0</td>\n",
       "      <td>60.0</td>\n",
       "      <td>24.33</td>\n",
       "      <td>0</td>\n",
       "      <td>2016-05-29</td>\n",
       "      <td>DEAN &amp; DELUCA Invitational</td>\n",
       "    </tr>\n",
       "    <tr>\n",
       "      <th>1</th>\n",
       "      <td>Aaron Wise</td>\n",
       "      <td>1</td>\n",
       "      <td>0</td>\n",
       "      <td>0.0</td>\n",
       "      <td>0.0</td>\n",
       "      <td>0.00</td>\n",
       "      <td>0</td>\n",
       "      <td>2016-05-29</td>\n",
       "      <td>DEAN &amp; DELUCA Invitational</td>\n",
       "    </tr>\n",
       "    <tr>\n",
       "      <th>2</th>\n",
       "      <td>Abraham Ancer</td>\n",
       "      <td>10</td>\n",
       "      <td>2</td>\n",
       "      <td>43.0</td>\n",
       "      <td>20.0</td>\n",
       "      <td>4.30</td>\n",
       "      <td>2</td>\n",
       "      <td>2016-05-29</td>\n",
       "      <td>DEAN &amp; DELUCA Invitational</td>\n",
       "    </tr>\n",
       "  </tbody>\n",
       "</table>\n",
       "</div>"
      ],
      "text/plain": [
       "           PLAYER  TOTAL_EVENTS_PLAYED  CUTS_MADE  FEDEX_CUP_POINTS  \\\n",
       "0  Aaron Baddeley                   15          9             365.0   \n",
       "1      Aaron Wise                    1          0               0.0   \n",
       "2   Abraham Ancer                   10          2              43.0   \n",
       "\n",
       "   CUT_PERCENTAGE  form_density  CONSECUTIVE_CUTS ENDING_DATE  \\\n",
       "0            60.0         24.33                 0  2016-05-29   \n",
       "1             0.0          0.00                 0  2016-05-29   \n",
       "2            20.0          4.30                 2  2016-05-29   \n",
       "\n",
       "                   TOURNAMENT  \n",
       "0  DEAN & DELUCA Invitational  \n",
       "1  DEAN & DELUCA Invitational  \n",
       "2  DEAN & DELUCA Invitational  "
      ]
     },
     "metadata": {},
     "output_type": "display_data"
    },
    {
     "name": "stdout",
     "output_type": "stream",
     "text": [
      "\n",
      "📆 2017-05-28 — DEAN & DELUCA Invitational (400 players)\n"
     ]
    },
    {
     "data": {
      "text/html": [
       "<div>\n",
       "<style scoped>\n",
       "    .dataframe tbody tr th:only-of-type {\n",
       "        vertical-align: middle;\n",
       "    }\n",
       "\n",
       "    .dataframe tbody tr th {\n",
       "        vertical-align: top;\n",
       "    }\n",
       "\n",
       "    .dataframe thead th {\n",
       "        text-align: right;\n",
       "    }\n",
       "</style>\n",
       "<table border=\"1\" class=\"dataframe\">\n",
       "  <thead>\n",
       "    <tr style=\"text-align: right;\">\n",
       "      <th></th>\n",
       "      <th>PLAYER</th>\n",
       "      <th>TOTAL_EVENTS_PLAYED</th>\n",
       "      <th>CUTS_MADE</th>\n",
       "      <th>FEDEX_CUP_POINTS</th>\n",
       "      <th>CUT_PERCENTAGE</th>\n",
       "      <th>form_density</th>\n",
       "      <th>CONSECUTIVE_CUTS</th>\n",
       "      <th>ENDING_DATE</th>\n",
       "      <th>TOURNAMENT</th>\n",
       "    </tr>\n",
       "  </thead>\n",
       "  <tbody>\n",
       "    <tr>\n",
       "      <th>0</th>\n",
       "      <td>Aaron Baddeley</td>\n",
       "      <td>14</td>\n",
       "      <td>8</td>\n",
       "      <td>264.29</td>\n",
       "      <td>57.1</td>\n",
       "      <td>18.88</td>\n",
       "      <td>2</td>\n",
       "      <td>2017-05-28</td>\n",
       "      <td>DEAN &amp; DELUCA Invitational</td>\n",
       "    </tr>\n",
       "    <tr>\n",
       "      <th>1</th>\n",
       "      <td>Aaron Wise</td>\n",
       "      <td>6</td>\n",
       "      <td>4</td>\n",
       "      <td>0.00</td>\n",
       "      <td>66.7</td>\n",
       "      <td>0.00</td>\n",
       "      <td>4</td>\n",
       "      <td>2017-05-28</td>\n",
       "      <td>DEAN &amp; DELUCA Invitational</td>\n",
       "    </tr>\n",
       "    <tr>\n",
       "      <th>2</th>\n",
       "      <td>Abraham Ancer</td>\n",
       "      <td>1</td>\n",
       "      <td>1</td>\n",
       "      <td>0.00</td>\n",
       "      <td>100.0</td>\n",
       "      <td>0.00</td>\n",
       "      <td>1</td>\n",
       "      <td>2017-05-28</td>\n",
       "      <td>DEAN &amp; DELUCA Invitational</td>\n",
       "    </tr>\n",
       "  </tbody>\n",
       "</table>\n",
       "</div>"
      ],
      "text/plain": [
       "           PLAYER  TOTAL_EVENTS_PLAYED  CUTS_MADE  FEDEX_CUP_POINTS  \\\n",
       "0  Aaron Baddeley                   14          8            264.29   \n",
       "1      Aaron Wise                    6          4              0.00   \n",
       "2   Abraham Ancer                    1          1              0.00   \n",
       "\n",
       "   CUT_PERCENTAGE  form_density  CONSECUTIVE_CUTS ENDING_DATE  \\\n",
       "0            57.1         18.88                 2  2017-05-28   \n",
       "1            66.7          0.00                 4  2017-05-28   \n",
       "2           100.0          0.00                 1  2017-05-28   \n",
       "\n",
       "                   TOURNAMENT  \n",
       "0  DEAN & DELUCA Invitational  \n",
       "1  DEAN & DELUCA Invitational  \n",
       "2  DEAN & DELUCA Invitational  "
      ]
     },
     "metadata": {},
     "output_type": "display_data"
    },
    {
     "name": "stdout",
     "output_type": "stream",
     "text": [
      "\n",
      "📆 2018-05-27 — Fort Worth Invitational (407 players)\n"
     ]
    },
    {
     "data": {
      "text/html": [
       "<div>\n",
       "<style scoped>\n",
       "    .dataframe tbody tr th:only-of-type {\n",
       "        vertical-align: middle;\n",
       "    }\n",
       "\n",
       "    .dataframe tbody tr th {\n",
       "        vertical-align: top;\n",
       "    }\n",
       "\n",
       "    .dataframe thead th {\n",
       "        text-align: right;\n",
       "    }\n",
       "</style>\n",
       "<table border=\"1\" class=\"dataframe\">\n",
       "  <thead>\n",
       "    <tr style=\"text-align: right;\">\n",
       "      <th></th>\n",
       "      <th>PLAYER</th>\n",
       "      <th>TOTAL_EVENTS_PLAYED</th>\n",
       "      <th>CUTS_MADE</th>\n",
       "      <th>FEDEX_CUP_POINTS</th>\n",
       "      <th>CUT_PERCENTAGE</th>\n",
       "      <th>form_density</th>\n",
       "      <th>CONSECUTIVE_CUTS</th>\n",
       "      <th>ENDING_DATE</th>\n",
       "      <th>TOURNAMENT</th>\n",
       "    </tr>\n",
       "  </thead>\n",
       "  <tbody>\n",
       "    <tr>\n",
       "      <th>0</th>\n",
       "      <td>A.J. McInerney</td>\n",
       "      <td>2</td>\n",
       "      <td>1</td>\n",
       "      <td>0.00</td>\n",
       "      <td>50.0</td>\n",
       "      <td>0.00</td>\n",
       "      <td>0</td>\n",
       "      <td>2018-05-27</td>\n",
       "      <td>Fort Worth Invitational</td>\n",
       "    </tr>\n",
       "    <tr>\n",
       "      <th>1</th>\n",
       "      <td>Aaron Baddeley</td>\n",
       "      <td>16</td>\n",
       "      <td>10</td>\n",
       "      <td>239.12</td>\n",
       "      <td>62.5</td>\n",
       "      <td>14.94</td>\n",
       "      <td>0</td>\n",
       "      <td>2018-05-27</td>\n",
       "      <td>Fort Worth Invitational</td>\n",
       "    </tr>\n",
       "    <tr>\n",
       "      <th>2</th>\n",
       "      <td>Aaron Wise</td>\n",
       "      <td>17</td>\n",
       "      <td>11</td>\n",
       "      <td>992.76</td>\n",
       "      <td>64.7</td>\n",
       "      <td>58.40</td>\n",
       "      <td>2</td>\n",
       "      <td>2018-05-27</td>\n",
       "      <td>Fort Worth Invitational</td>\n",
       "    </tr>\n",
       "  </tbody>\n",
       "</table>\n",
       "</div>"
      ],
      "text/plain": [
       "           PLAYER  TOTAL_EVENTS_PLAYED  CUTS_MADE  FEDEX_CUP_POINTS  \\\n",
       "0  A.J. McInerney                    2          1              0.00   \n",
       "1  Aaron Baddeley                   16         10            239.12   \n",
       "2      Aaron Wise                   17         11            992.76   \n",
       "\n",
       "   CUT_PERCENTAGE  form_density  CONSECUTIVE_CUTS ENDING_DATE  \\\n",
       "0            50.0          0.00                 0  2018-05-27   \n",
       "1            62.5         14.94                 0  2018-05-27   \n",
       "2            64.7         58.40                 2  2018-05-27   \n",
       "\n",
       "                TOURNAMENT  \n",
       "0  Fort Worth Invitational  \n",
       "1  Fort Worth Invitational  \n",
       "2  Fort Worth Invitational  "
      ]
     },
     "metadata": {},
     "output_type": "display_data"
    },
    {
     "name": "stdout",
     "output_type": "stream",
     "text": [
      "\n",
      "📆 2019-05-26 — Charles Schwab Challenge (428 players)\n"
     ]
    },
    {
     "data": {
      "text/html": [
       "<div>\n",
       "<style scoped>\n",
       "    .dataframe tbody tr th:only-of-type {\n",
       "        vertical-align: middle;\n",
       "    }\n",
       "\n",
       "    .dataframe tbody tr th {\n",
       "        vertical-align: top;\n",
       "    }\n",
       "\n",
       "    .dataframe thead th {\n",
       "        text-align: right;\n",
       "    }\n",
       "</style>\n",
       "<table border=\"1\" class=\"dataframe\">\n",
       "  <thead>\n",
       "    <tr style=\"text-align: right;\">\n",
       "      <th></th>\n",
       "      <th>PLAYER</th>\n",
       "      <th>TOTAL_EVENTS_PLAYED</th>\n",
       "      <th>CUTS_MADE</th>\n",
       "      <th>FEDEX_CUP_POINTS</th>\n",
       "      <th>CUT_PERCENTAGE</th>\n",
       "      <th>form_density</th>\n",
       "      <th>CONSECUTIVE_CUTS</th>\n",
       "      <th>ENDING_DATE</th>\n",
       "      <th>TOURNAMENT</th>\n",
       "    </tr>\n",
       "  </thead>\n",
       "  <tbody>\n",
       "    <tr>\n",
       "      <th>0</th>\n",
       "      <td>Aaron Baddeley</td>\n",
       "      <td>11</td>\n",
       "      <td>6</td>\n",
       "      <td>228.08</td>\n",
       "      <td>54.5</td>\n",
       "      <td>20.73</td>\n",
       "      <td>0</td>\n",
       "      <td>2019-05-26</td>\n",
       "      <td>Charles Schwab Challenge</td>\n",
       "    </tr>\n",
       "    <tr>\n",
       "      <th>1</th>\n",
       "      <td>Aaron Wise</td>\n",
       "      <td>12</td>\n",
       "      <td>9</td>\n",
       "      <td>485.89</td>\n",
       "      <td>75.0</td>\n",
       "      <td>40.49</td>\n",
       "      <td>4</td>\n",
       "      <td>2019-05-26</td>\n",
       "      <td>Charles Schwab Challenge</td>\n",
       "    </tr>\n",
       "    <tr>\n",
       "      <th>2</th>\n",
       "      <td>Abraham Ancer</td>\n",
       "      <td>14</td>\n",
       "      <td>11</td>\n",
       "      <td>398.44</td>\n",
       "      <td>78.6</td>\n",
       "      <td>28.46</td>\n",
       "      <td>2</td>\n",
       "      <td>2019-05-26</td>\n",
       "      <td>Charles Schwab Challenge</td>\n",
       "    </tr>\n",
       "  </tbody>\n",
       "</table>\n",
       "</div>"
      ],
      "text/plain": [
       "           PLAYER  TOTAL_EVENTS_PLAYED  CUTS_MADE  FEDEX_CUP_POINTS  \\\n",
       "0  Aaron Baddeley                   11          6            228.08   \n",
       "1      Aaron Wise                   12          9            485.89   \n",
       "2   Abraham Ancer                   14         11            398.44   \n",
       "\n",
       "   CUT_PERCENTAGE  form_density  CONSECUTIVE_CUTS ENDING_DATE  \\\n",
       "0            54.5         20.73                 0  2019-05-26   \n",
       "1            75.0         40.49                 4  2019-05-26   \n",
       "2            78.6         28.46                 2  2019-05-26   \n",
       "\n",
       "                 TOURNAMENT  \n",
       "0  Charles Schwab Challenge  \n",
       "1  Charles Schwab Challenge  \n",
       "2  Charles Schwab Challenge  "
      ]
     },
     "metadata": {},
     "output_type": "display_data"
    },
    {
     "name": "stdout",
     "output_type": "stream",
     "text": [
      "\n",
      "📆 2020-06-14 — Charles Schwab Challenge (393 players)\n"
     ]
    },
    {
     "data": {
      "text/html": [
       "<div>\n",
       "<style scoped>\n",
       "    .dataframe tbody tr th:only-of-type {\n",
       "        vertical-align: middle;\n",
       "    }\n",
       "\n",
       "    .dataframe tbody tr th {\n",
       "        vertical-align: top;\n",
       "    }\n",
       "\n",
       "    .dataframe thead th {\n",
       "        text-align: right;\n",
       "    }\n",
       "</style>\n",
       "<table border=\"1\" class=\"dataframe\">\n",
       "  <thead>\n",
       "    <tr style=\"text-align: right;\">\n",
       "      <th></th>\n",
       "      <th>PLAYER</th>\n",
       "      <th>TOTAL_EVENTS_PLAYED</th>\n",
       "      <th>CUTS_MADE</th>\n",
       "      <th>FEDEX_CUP_POINTS</th>\n",
       "      <th>CUT_PERCENTAGE</th>\n",
       "      <th>form_density</th>\n",
       "      <th>CONSECUTIVE_CUTS</th>\n",
       "      <th>ENDING_DATE</th>\n",
       "      <th>TOURNAMENT</th>\n",
       "    </tr>\n",
       "  </thead>\n",
       "  <tbody>\n",
       "    <tr>\n",
       "      <th>0</th>\n",
       "      <td>Aaron Baddeley</td>\n",
       "      <td>10</td>\n",
       "      <td>6</td>\n",
       "      <td>115.47</td>\n",
       "      <td>60.0</td>\n",
       "      <td>11.55</td>\n",
       "      <td>0</td>\n",
       "      <td>2020-06-14</td>\n",
       "      <td>Charles Schwab Challenge</td>\n",
       "    </tr>\n",
       "    <tr>\n",
       "      <th>1</th>\n",
       "      <td>Aaron Wise</td>\n",
       "      <td>11</td>\n",
       "      <td>4</td>\n",
       "      <td>116.50</td>\n",
       "      <td>36.4</td>\n",
       "      <td>10.59</td>\n",
       "      <td>1</td>\n",
       "      <td>2020-06-14</td>\n",
       "      <td>Charles Schwab Challenge</td>\n",
       "    </tr>\n",
       "    <tr>\n",
       "      <th>2</th>\n",
       "      <td>Abraham Ancer</td>\n",
       "      <td>9</td>\n",
       "      <td>7</td>\n",
       "      <td>430.33</td>\n",
       "      <td>77.8</td>\n",
       "      <td>47.81</td>\n",
       "      <td>7</td>\n",
       "      <td>2020-06-14</td>\n",
       "      <td>Charles Schwab Challenge</td>\n",
       "    </tr>\n",
       "  </tbody>\n",
       "</table>\n",
       "</div>"
      ],
      "text/plain": [
       "           PLAYER  TOTAL_EVENTS_PLAYED  CUTS_MADE  FEDEX_CUP_POINTS  \\\n",
       "0  Aaron Baddeley                   10          6            115.47   \n",
       "1      Aaron Wise                   11          4            116.50   \n",
       "2   Abraham Ancer                    9          7            430.33   \n",
       "\n",
       "   CUT_PERCENTAGE  form_density  CONSECUTIVE_CUTS ENDING_DATE  \\\n",
       "0            60.0         11.55                 0  2020-06-14   \n",
       "1            36.4         10.59                 1  2020-06-14   \n",
       "2            77.8         47.81                 7  2020-06-14   \n",
       "\n",
       "                 TOURNAMENT  \n",
       "0  Charles Schwab Challenge  \n",
       "1  Charles Schwab Challenge  \n",
       "2  Charles Schwab Challenge  "
      ]
     },
     "metadata": {},
     "output_type": "display_data"
    },
    {
     "name": "stdout",
     "output_type": "stream",
     "text": [
      "\n",
      "📆 2021-05-30 — Charles Schwab Challenge (471 players)\n"
     ]
    },
    {
     "data": {
      "text/html": [
       "<div>\n",
       "<style scoped>\n",
       "    .dataframe tbody tr th:only-of-type {\n",
       "        vertical-align: middle;\n",
       "    }\n",
       "\n",
       "    .dataframe tbody tr th {\n",
       "        vertical-align: top;\n",
       "    }\n",
       "\n",
       "    .dataframe thead th {\n",
       "        text-align: right;\n",
       "    }\n",
       "</style>\n",
       "<table border=\"1\" class=\"dataframe\">\n",
       "  <thead>\n",
       "    <tr style=\"text-align: right;\">\n",
       "      <th></th>\n",
       "      <th>PLAYER</th>\n",
       "      <th>TOTAL_EVENTS_PLAYED</th>\n",
       "      <th>CUTS_MADE</th>\n",
       "      <th>FEDEX_CUP_POINTS</th>\n",
       "      <th>CUT_PERCENTAGE</th>\n",
       "      <th>form_density</th>\n",
       "      <th>CONSECUTIVE_CUTS</th>\n",
       "      <th>ENDING_DATE</th>\n",
       "      <th>TOURNAMENT</th>\n",
       "    </tr>\n",
       "  </thead>\n",
       "  <tbody>\n",
       "    <tr>\n",
       "      <th>0</th>\n",
       "      <td>Aaron Baddeley</td>\n",
       "      <td>11</td>\n",
       "      <td>2</td>\n",
       "      <td>18.08</td>\n",
       "      <td>18.2</td>\n",
       "      <td>1.64</td>\n",
       "      <td>0</td>\n",
       "      <td>2021-05-30</td>\n",
       "      <td>Charles Schwab Challenge</td>\n",
       "    </tr>\n",
       "    <tr>\n",
       "      <th>1</th>\n",
       "      <td>Aaron Rai</td>\n",
       "      <td>1</td>\n",
       "      <td>0</td>\n",
       "      <td>0.00</td>\n",
       "      <td>0.0</td>\n",
       "      <td>0.00</td>\n",
       "      <td>0</td>\n",
       "      <td>2021-05-30</td>\n",
       "      <td>Charles Schwab Challenge</td>\n",
       "    </tr>\n",
       "    <tr>\n",
       "      <th>2</th>\n",
       "      <td>Aaron Terrazas</td>\n",
       "      <td>1</td>\n",
       "      <td>0</td>\n",
       "      <td>0.00</td>\n",
       "      <td>0.0</td>\n",
       "      <td>0.00</td>\n",
       "      <td>0</td>\n",
       "      <td>2021-05-30</td>\n",
       "      <td>Charles Schwab Challenge</td>\n",
       "    </tr>\n",
       "  </tbody>\n",
       "</table>\n",
       "</div>"
      ],
      "text/plain": [
       "           PLAYER  TOTAL_EVENTS_PLAYED  CUTS_MADE  FEDEX_CUP_POINTS  \\\n",
       "0  Aaron Baddeley                   11          2             18.08   \n",
       "1       Aaron Rai                    1          0              0.00   \n",
       "2  Aaron Terrazas                    1          0              0.00   \n",
       "\n",
       "   CUT_PERCENTAGE  form_density  CONSECUTIVE_CUTS ENDING_DATE  \\\n",
       "0            18.2          1.64                 0  2021-05-30   \n",
       "1             0.0          0.00                 0  2021-05-30   \n",
       "2             0.0          0.00                 0  2021-05-30   \n",
       "\n",
       "                 TOURNAMENT  \n",
       "0  Charles Schwab Challenge  \n",
       "1  Charles Schwab Challenge  \n",
       "2  Charles Schwab Challenge  "
      ]
     },
     "metadata": {},
     "output_type": "display_data"
    },
    {
     "name": "stdout",
     "output_type": "stream",
     "text": [
      "\n",
      "📆 2022-05-29 — Charles Schwab Challenge (475 players)\n"
     ]
    },
    {
     "data": {
      "text/html": [
       "<div>\n",
       "<style scoped>\n",
       "    .dataframe tbody tr th:only-of-type {\n",
       "        vertical-align: middle;\n",
       "    }\n",
       "\n",
       "    .dataframe tbody tr th {\n",
       "        vertical-align: top;\n",
       "    }\n",
       "\n",
       "    .dataframe thead th {\n",
       "        text-align: right;\n",
       "    }\n",
       "</style>\n",
       "<table border=\"1\" class=\"dataframe\">\n",
       "  <thead>\n",
       "    <tr style=\"text-align: right;\">\n",
       "      <th></th>\n",
       "      <th>PLAYER</th>\n",
       "      <th>TOTAL_EVENTS_PLAYED</th>\n",
       "      <th>CUTS_MADE</th>\n",
       "      <th>FEDEX_CUP_POINTS</th>\n",
       "      <th>CUT_PERCENTAGE</th>\n",
       "      <th>form_density</th>\n",
       "      <th>CONSECUTIVE_CUTS</th>\n",
       "      <th>ENDING_DATE</th>\n",
       "      <th>TOURNAMENT</th>\n",
       "    </tr>\n",
       "  </thead>\n",
       "  <tbody>\n",
       "    <tr>\n",
       "      <th>0</th>\n",
       "      <td>Aaron Baddeley</td>\n",
       "      <td>5</td>\n",
       "      <td>2</td>\n",
       "      <td>56.96</td>\n",
       "      <td>40.0</td>\n",
       "      <td>11.39</td>\n",
       "      <td>0</td>\n",
       "      <td>2022-05-29</td>\n",
       "      <td>Charles Schwab Challenge</td>\n",
       "    </tr>\n",
       "    <tr>\n",
       "      <th>1</th>\n",
       "      <td>Aaron Beverly</td>\n",
       "      <td>1</td>\n",
       "      <td>0</td>\n",
       "      <td>0.00</td>\n",
       "      <td>0.0</td>\n",
       "      <td>0.00</td>\n",
       "      <td>0</td>\n",
       "      <td>2022-05-29</td>\n",
       "      <td>Charles Schwab Challenge</td>\n",
       "    </tr>\n",
       "    <tr>\n",
       "      <th>2</th>\n",
       "      <td>Aaron Jarvis</td>\n",
       "      <td>1</td>\n",
       "      <td>0</td>\n",
       "      <td>0.00</td>\n",
       "      <td>0.0</td>\n",
       "      <td>0.00</td>\n",
       "      <td>0</td>\n",
       "      <td>2022-05-29</td>\n",
       "      <td>Charles Schwab Challenge</td>\n",
       "    </tr>\n",
       "  </tbody>\n",
       "</table>\n",
       "</div>"
      ],
      "text/plain": [
       "           PLAYER  TOTAL_EVENTS_PLAYED  CUTS_MADE  FEDEX_CUP_POINTS  \\\n",
       "0  Aaron Baddeley                    5          2             56.96   \n",
       "1   Aaron Beverly                    1          0              0.00   \n",
       "2    Aaron Jarvis                    1          0              0.00   \n",
       "\n",
       "   CUT_PERCENTAGE  form_density  CONSECUTIVE_CUTS ENDING_DATE  \\\n",
       "0            40.0         11.39                 0  2022-05-29   \n",
       "1             0.0          0.00                 0  2022-05-29   \n",
       "2             0.0          0.00                 0  2022-05-29   \n",
       "\n",
       "                 TOURNAMENT  \n",
       "0  Charles Schwab Challenge  \n",
       "1  Charles Schwab Challenge  \n",
       "2  Charles Schwab Challenge  "
      ]
     },
     "metadata": {},
     "output_type": "display_data"
    },
    {
     "name": "stdout",
     "output_type": "stream",
     "text": [
      "\n",
      "📆 2023-05-28 — Charles Schwab Challenge (487 players)\n"
     ]
    },
    {
     "data": {
      "text/html": [
       "<div>\n",
       "<style scoped>\n",
       "    .dataframe tbody tr th:only-of-type {\n",
       "        vertical-align: middle;\n",
       "    }\n",
       "\n",
       "    .dataframe tbody tr th {\n",
       "        vertical-align: top;\n",
       "    }\n",
       "\n",
       "    .dataframe thead th {\n",
       "        text-align: right;\n",
       "    }\n",
       "</style>\n",
       "<table border=\"1\" class=\"dataframe\">\n",
       "  <thead>\n",
       "    <tr style=\"text-align: right;\">\n",
       "      <th></th>\n",
       "      <th>PLAYER</th>\n",
       "      <th>TOTAL_EVENTS_PLAYED</th>\n",
       "      <th>CUTS_MADE</th>\n",
       "      <th>FEDEX_CUP_POINTS</th>\n",
       "      <th>CUT_PERCENTAGE</th>\n",
       "      <th>form_density</th>\n",
       "      <th>CONSECUTIVE_CUTS</th>\n",
       "      <th>ENDING_DATE</th>\n",
       "      <th>TOURNAMENT</th>\n",
       "    </tr>\n",
       "  </thead>\n",
       "  <tbody>\n",
       "    <tr>\n",
       "      <th>0</th>\n",
       "      <td>Aaron Baddeley</td>\n",
       "      <td>13</td>\n",
       "      <td>10</td>\n",
       "      <td>305.661</td>\n",
       "      <td>76.9</td>\n",
       "      <td>23.51</td>\n",
       "      <td>4</td>\n",
       "      <td>2023-05-28</td>\n",
       "      <td>Charles Schwab Challenge</td>\n",
       "    </tr>\n",
       "    <tr>\n",
       "      <th>1</th>\n",
       "      <td>Aaron Beverly</td>\n",
       "      <td>1</td>\n",
       "      <td>1</td>\n",
       "      <td>0.000</td>\n",
       "      <td>100.0</td>\n",
       "      <td>0.00</td>\n",
       "      <td>1</td>\n",
       "      <td>2023-05-28</td>\n",
       "      <td>Charles Schwab Challenge</td>\n",
       "    </tr>\n",
       "    <tr>\n",
       "      <th>2</th>\n",
       "      <td>Aaron Jarvis</td>\n",
       "      <td>1</td>\n",
       "      <td>0</td>\n",
       "      <td>0.000</td>\n",
       "      <td>0.0</td>\n",
       "      <td>0.00</td>\n",
       "      <td>0</td>\n",
       "      <td>2023-05-28</td>\n",
       "      <td>Charles Schwab Challenge</td>\n",
       "    </tr>\n",
       "  </tbody>\n",
       "</table>\n",
       "</div>"
      ],
      "text/plain": [
       "           PLAYER  TOTAL_EVENTS_PLAYED  CUTS_MADE  FEDEX_CUP_POINTS  \\\n",
       "0  Aaron Baddeley                   13         10           305.661   \n",
       "1   Aaron Beverly                    1          1             0.000   \n",
       "2    Aaron Jarvis                    1          0             0.000   \n",
       "\n",
       "   CUT_PERCENTAGE  form_density  CONSECUTIVE_CUTS ENDING_DATE  \\\n",
       "0            76.9         23.51                 4  2023-05-28   \n",
       "1           100.0          0.00                 1  2023-05-28   \n",
       "2             0.0          0.00                 0  2023-05-28   \n",
       "\n",
       "                 TOURNAMENT  \n",
       "0  Charles Schwab Challenge  \n",
       "1  Charles Schwab Challenge  \n",
       "2  Charles Schwab Challenge  "
      ]
     },
     "metadata": {},
     "output_type": "display_data"
    },
    {
     "name": "stdout",
     "output_type": "stream",
     "text": [
      "\n",
      "📆 2024-05-26 — Charles Schwab Challenge (448 players)\n"
     ]
    },
    {
     "data": {
      "text/html": [
       "<div>\n",
       "<style scoped>\n",
       "    .dataframe tbody tr th:only-of-type {\n",
       "        vertical-align: middle;\n",
       "    }\n",
       "\n",
       "    .dataframe tbody tr th {\n",
       "        vertical-align: top;\n",
       "    }\n",
       "\n",
       "    .dataframe thead th {\n",
       "        text-align: right;\n",
       "    }\n",
       "</style>\n",
       "<table border=\"1\" class=\"dataframe\">\n",
       "  <thead>\n",
       "    <tr style=\"text-align: right;\">\n",
       "      <th></th>\n",
       "      <th>PLAYER</th>\n",
       "      <th>TOTAL_EVENTS_PLAYED</th>\n",
       "      <th>CUTS_MADE</th>\n",
       "      <th>FEDEX_CUP_POINTS</th>\n",
       "      <th>CUT_PERCENTAGE</th>\n",
       "      <th>form_density</th>\n",
       "      <th>CONSECUTIVE_CUTS</th>\n",
       "      <th>ENDING_DATE</th>\n",
       "      <th>TOURNAMENT</th>\n",
       "    </tr>\n",
       "  </thead>\n",
       "  <tbody>\n",
       "    <tr>\n",
       "      <th>0</th>\n",
       "      <td>Aaron Baddeley</td>\n",
       "      <td>13</td>\n",
       "      <td>9</td>\n",
       "      <td>181.975</td>\n",
       "      <td>69.2</td>\n",
       "      <td>14.00</td>\n",
       "      <td>4</td>\n",
       "      <td>2024-05-26</td>\n",
       "      <td>Charles Schwab Challenge</td>\n",
       "    </tr>\n",
       "    <tr>\n",
       "      <th>1</th>\n",
       "      <td>Aaron Rai</td>\n",
       "      <td>13</td>\n",
       "      <td>10</td>\n",
       "      <td>368.707</td>\n",
       "      <td>76.9</td>\n",
       "      <td>28.36</td>\n",
       "      <td>4</td>\n",
       "      <td>2024-05-26</td>\n",
       "      <td>Charles Schwab Challenge</td>\n",
       "    </tr>\n",
       "    <tr>\n",
       "      <th>2</th>\n",
       "      <td>Adam Hadwin</td>\n",
       "      <td>14</td>\n",
       "      <td>11</td>\n",
       "      <td>679.292</td>\n",
       "      <td>78.6</td>\n",
       "      <td>48.52</td>\n",
       "      <td>5</td>\n",
       "      <td>2024-05-26</td>\n",
       "      <td>Charles Schwab Challenge</td>\n",
       "    </tr>\n",
       "  </tbody>\n",
       "</table>\n",
       "</div>"
      ],
      "text/plain": [
       "           PLAYER  TOTAL_EVENTS_PLAYED  CUTS_MADE  FEDEX_CUP_POINTS  \\\n",
       "0  Aaron Baddeley                   13          9           181.975   \n",
       "1       Aaron Rai                   13         10           368.707   \n",
       "2     Adam Hadwin                   14         11           679.292   \n",
       "\n",
       "   CUT_PERCENTAGE  form_density  CONSECUTIVE_CUTS ENDING_DATE  \\\n",
       "0            69.2         14.00                 4  2024-05-26   \n",
       "1            76.9         28.36                 4  2024-05-26   \n",
       "2            78.6         48.52                 5  2024-05-26   \n",
       "\n",
       "                 TOURNAMENT  \n",
       "0  Charles Schwab Challenge  \n",
       "1  Charles Schwab Challenge  \n",
       "2  Charles Schwab Challenge  "
      ]
     },
     "metadata": {},
     "output_type": "display_data"
    }
   ],
   "source": [
    "importlib.reload(utils.db_utils)\n",
    "from utils.db_utils import get_cut_and_fedex_history\n",
    "\n",
    "cuts = get_cut_and_fedex_history(\"data/golf.db\", history_df, window_months=9)\n",
    "# cuts[\"2024-05-12\"].head(20)\n",
    "\n",
    "for end_date, df in cuts.items():\n",
    "    print(f\"\\n📆 {end_date} — {df['TOURNAMENT'].iloc[0]} ({len(df)} players)\")\n",
    "    display(df.head(3))"
   ]
  },
  {
   "cell_type": "markdown",
   "id": "ce90fa05",
   "metadata": {},
   "source": [
    "### Recent Form"
   ]
  },
  {
   "cell_type": "code",
   "execution_count": 4,
   "id": "20095a72",
   "metadata": {},
   "outputs": [
    {
     "name": "stdout",
     "output_type": "stream",
     "text": [
      "\n",
      "📆 2016-05-29 — DEAN & DELUCA Invitational (415 players)\n"
     ]
    },
    {
     "data": {
      "text/html": [
       "<div>\n",
       "<style scoped>\n",
       "    .dataframe tbody tr th:only-of-type {\n",
       "        vertical-align: middle;\n",
       "    }\n",
       "\n",
       "    .dataframe tbody tr th {\n",
       "        vertical-align: top;\n",
       "    }\n",
       "\n",
       "    .dataframe thead th {\n",
       "        text-align: right;\n",
       "    }\n",
       "</style>\n",
       "<table border=\"1\" class=\"dataframe\">\n",
       "  <thead>\n",
       "    <tr style=\"text-align: right;\">\n",
       "      <th></th>\n",
       "      <th>PLAYER</th>\n",
       "      <th>TOTAL_EVENTS_PLAYED</th>\n",
       "      <th>RECENT_FORM</th>\n",
       "      <th>adj_form</th>\n",
       "      <th>ENDING_DATE</th>\n",
       "      <th>TOURNAMENT</th>\n",
       "    </tr>\n",
       "  </thead>\n",
       "  <tbody>\n",
       "    <tr>\n",
       "      <th>0</th>\n",
       "      <td>Lee McCoy</td>\n",
       "      <td>1</td>\n",
       "      <td>4.0</td>\n",
       "      <td>5.77</td>\n",
       "      <td>2016-05-29</td>\n",
       "      <td>DEAN &amp; DELUCA Invitational</td>\n",
       "    </tr>\n",
       "    <tr>\n",
       "      <th>1</th>\n",
       "      <td>Cody Gribble</td>\n",
       "      <td>1</td>\n",
       "      <td>8.0</td>\n",
       "      <td>11.54</td>\n",
       "      <td>2016-05-29</td>\n",
       "      <td>DEAN &amp; DELUCA Invitational</td>\n",
       "    </tr>\n",
       "    <tr>\n",
       "      <th>2</th>\n",
       "      <td>Jon Rahm</td>\n",
       "      <td>2</td>\n",
       "      <td>12.5</td>\n",
       "      <td>11.38</td>\n",
       "      <td>2016-05-29</td>\n",
       "      <td>DEAN &amp; DELUCA Invitational</td>\n",
       "    </tr>\n",
       "  </tbody>\n",
       "</table>\n",
       "</div>"
      ],
      "text/plain": [
       "         PLAYER  TOTAL_EVENTS_PLAYED  RECENT_FORM  adj_form ENDING_DATE  \\\n",
       "0     Lee McCoy                    1          4.0      5.77  2016-05-29   \n",
       "1  Cody Gribble                    1          8.0     11.54  2016-05-29   \n",
       "2      Jon Rahm                    2         12.5     11.38  2016-05-29   \n",
       "\n",
       "                   TOURNAMENT  \n",
       "0  DEAN & DELUCA Invitational  \n",
       "1  DEAN & DELUCA Invitational  \n",
       "2  DEAN & DELUCA Invitational  "
      ]
     },
     "metadata": {},
     "output_type": "display_data"
    },
    {
     "name": "stdout",
     "output_type": "stream",
     "text": [
      "\n",
      "📆 2017-05-28 — DEAN & DELUCA Invitational (400 players)\n"
     ]
    },
    {
     "data": {
      "text/html": [
       "<div>\n",
       "<style scoped>\n",
       "    .dataframe tbody tr th:only-of-type {\n",
       "        vertical-align: middle;\n",
       "    }\n",
       "\n",
       "    .dataframe tbody tr th {\n",
       "        vertical-align: top;\n",
       "    }\n",
       "\n",
       "    .dataframe thead th {\n",
       "        text-align: right;\n",
       "    }\n",
       "</style>\n",
       "<table border=\"1\" class=\"dataframe\">\n",
       "  <thead>\n",
       "    <tr style=\"text-align: right;\">\n",
       "      <th></th>\n",
       "      <th>PLAYER</th>\n",
       "      <th>TOTAL_EVENTS_PLAYED</th>\n",
       "      <th>RECENT_FORM</th>\n",
       "      <th>adj_form</th>\n",
       "      <th>ENDING_DATE</th>\n",
       "      <th>TOURNAMENT</th>\n",
       "    </tr>\n",
       "  </thead>\n",
       "  <tbody>\n",
       "    <tr>\n",
       "      <th>0</th>\n",
       "      <td>Keith Mitchell</td>\n",
       "      <td>1</td>\n",
       "      <td>11.0</td>\n",
       "      <td>15.87</td>\n",
       "      <td>2017-05-28</td>\n",
       "      <td>DEAN &amp; DELUCA Invitational</td>\n",
       "    </tr>\n",
       "    <tr>\n",
       "      <th>1</th>\n",
       "      <td>Oscar Fraustro</td>\n",
       "      <td>1</td>\n",
       "      <td>13.0</td>\n",
       "      <td>18.76</td>\n",
       "      <td>2017-05-28</td>\n",
       "      <td>DEAN &amp; DELUCA Invitational</td>\n",
       "    </tr>\n",
       "    <tr>\n",
       "      <th>2</th>\n",
       "      <td>Cam Davis</td>\n",
       "      <td>1</td>\n",
       "      <td>15.0</td>\n",
       "      <td>21.64</td>\n",
       "      <td>2017-05-28</td>\n",
       "      <td>DEAN &amp; DELUCA Invitational</td>\n",
       "    </tr>\n",
       "  </tbody>\n",
       "</table>\n",
       "</div>"
      ],
      "text/plain": [
       "           PLAYER  TOTAL_EVENTS_PLAYED  RECENT_FORM  adj_form ENDING_DATE  \\\n",
       "0  Keith Mitchell                    1         11.0     15.87  2017-05-28   \n",
       "1  Oscar Fraustro                    1         13.0     18.76  2017-05-28   \n",
       "2       Cam Davis                    1         15.0     21.64  2017-05-28   \n",
       "\n",
       "                   TOURNAMENT  \n",
       "0  DEAN & DELUCA Invitational  \n",
       "1  DEAN & DELUCA Invitational  \n",
       "2  DEAN & DELUCA Invitational  "
      ]
     },
     "metadata": {},
     "output_type": "display_data"
    },
    {
     "name": "stdout",
     "output_type": "stream",
     "text": [
      "\n",
      "📆 2018-05-27 — Fort Worth Invitational (407 players)\n"
     ]
    },
    {
     "data": {
      "text/html": [
       "<div>\n",
       "<style scoped>\n",
       "    .dataframe tbody tr th:only-of-type {\n",
       "        vertical-align: middle;\n",
       "    }\n",
       "\n",
       "    .dataframe tbody tr th {\n",
       "        vertical-align: top;\n",
       "    }\n",
       "\n",
       "    .dataframe thead th {\n",
       "        text-align: right;\n",
       "    }\n",
       "</style>\n",
       "<table border=\"1\" class=\"dataframe\">\n",
       "  <thead>\n",
       "    <tr style=\"text-align: right;\">\n",
       "      <th></th>\n",
       "      <th>PLAYER</th>\n",
       "      <th>TOTAL_EVENTS_PLAYED</th>\n",
       "      <th>RECENT_FORM</th>\n",
       "      <th>adj_form</th>\n",
       "      <th>ENDING_DATE</th>\n",
       "      <th>TOURNAMENT</th>\n",
       "    </tr>\n",
       "  </thead>\n",
       "  <tbody>\n",
       "    <tr>\n",
       "      <th>0</th>\n",
       "      <td>Jason Day</td>\n",
       "      <td>8</td>\n",
       "      <td>8.3</td>\n",
       "      <td>3.78</td>\n",
       "      <td>2018-05-27</td>\n",
       "      <td>Fort Worth Invitational</td>\n",
       "    </tr>\n",
       "    <tr>\n",
       "      <th>1</th>\n",
       "      <td>Dustin Johnson</td>\n",
       "      <td>7</td>\n",
       "      <td>13.6</td>\n",
       "      <td>6.54</td>\n",
       "      <td>2018-05-27</td>\n",
       "      <td>Fort Worth Invitational</td>\n",
       "    </tr>\n",
       "    <tr>\n",
       "      <th>2</th>\n",
       "      <td>Sam Horsfield</td>\n",
       "      <td>1</td>\n",
       "      <td>14.0</td>\n",
       "      <td>20.20</td>\n",
       "      <td>2018-05-27</td>\n",
       "      <td>Fort Worth Invitational</td>\n",
       "    </tr>\n",
       "  </tbody>\n",
       "</table>\n",
       "</div>"
      ],
      "text/plain": [
       "           PLAYER  TOTAL_EVENTS_PLAYED  RECENT_FORM  adj_form ENDING_DATE  \\\n",
       "0       Jason Day                    8          8.3      3.78  2018-05-27   \n",
       "1  Dustin Johnson                    7         13.6      6.54  2018-05-27   \n",
       "2   Sam Horsfield                    1         14.0     20.20  2018-05-27   \n",
       "\n",
       "                TOURNAMENT  \n",
       "0  Fort Worth Invitational  \n",
       "1  Fort Worth Invitational  \n",
       "2  Fort Worth Invitational  "
      ]
     },
     "metadata": {},
     "output_type": "display_data"
    },
    {
     "name": "stdout",
     "output_type": "stream",
     "text": [
      "\n",
      "📆 2019-05-26 — Charles Schwab Challenge (428 players)\n"
     ]
    },
    {
     "data": {
      "text/html": [
       "<div>\n",
       "<style scoped>\n",
       "    .dataframe tbody tr th:only-of-type {\n",
       "        vertical-align: middle;\n",
       "    }\n",
       "\n",
       "    .dataframe tbody tr th {\n",
       "        vertical-align: top;\n",
       "    }\n",
       "\n",
       "    .dataframe thead th {\n",
       "        text-align: right;\n",
       "    }\n",
       "</style>\n",
       "<table border=\"1\" class=\"dataframe\">\n",
       "  <thead>\n",
       "    <tr style=\"text-align: right;\">\n",
       "      <th></th>\n",
       "      <th>PLAYER</th>\n",
       "      <th>TOTAL_EVENTS_PLAYED</th>\n",
       "      <th>RECENT_FORM</th>\n",
       "      <th>adj_form</th>\n",
       "      <th>ENDING_DATE</th>\n",
       "      <th>TOURNAMENT</th>\n",
       "    </tr>\n",
       "  </thead>\n",
       "  <tbody>\n",
       "    <tr>\n",
       "      <th>0</th>\n",
       "      <td>Rory McIlroy</td>\n",
       "      <td>8</td>\n",
       "      <td>7.1</td>\n",
       "      <td>3.23</td>\n",
       "      <td>2019-05-26</td>\n",
       "      <td>Charles Schwab Challenge</td>\n",
       "    </tr>\n",
       "    <tr>\n",
       "      <th>1</th>\n",
       "      <td>Erik van Rooyen</td>\n",
       "      <td>1</td>\n",
       "      <td>8.0</td>\n",
       "      <td>11.54</td>\n",
       "      <td>2019-05-26</td>\n",
       "      <td>Charles Schwab Challenge</td>\n",
       "    </tr>\n",
       "    <tr>\n",
       "      <th>2</th>\n",
       "      <td>Dustin Johnson</td>\n",
       "      <td>9</td>\n",
       "      <td>13.9</td>\n",
       "      <td>6.04</td>\n",
       "      <td>2019-05-26</td>\n",
       "      <td>Charles Schwab Challenge</td>\n",
       "    </tr>\n",
       "  </tbody>\n",
       "</table>\n",
       "</div>"
      ],
      "text/plain": [
       "            PLAYER  TOTAL_EVENTS_PLAYED  RECENT_FORM  adj_form ENDING_DATE  \\\n",
       "0     Rory McIlroy                    8          7.1      3.23  2019-05-26   \n",
       "1  Erik van Rooyen                    1          8.0     11.54  2019-05-26   \n",
       "2   Dustin Johnson                    9         13.9      6.04  2019-05-26   \n",
       "\n",
       "                 TOURNAMENT  \n",
       "0  Charles Schwab Challenge  \n",
       "1  Charles Schwab Challenge  \n",
       "2  Charles Schwab Challenge  "
      ]
     },
     "metadata": {},
     "output_type": "display_data"
    },
    {
     "name": "stdout",
     "output_type": "stream",
     "text": [
      "\n",
      "📆 2020-06-14 — Charles Schwab Challenge (393 players)\n"
     ]
    },
    {
     "data": {
      "text/html": [
       "<div>\n",
       "<style scoped>\n",
       "    .dataframe tbody tr th:only-of-type {\n",
       "        vertical-align: middle;\n",
       "    }\n",
       "\n",
       "    .dataframe tbody tr th {\n",
       "        vertical-align: top;\n",
       "    }\n",
       "\n",
       "    .dataframe thead th {\n",
       "        text-align: right;\n",
       "    }\n",
       "</style>\n",
       "<table border=\"1\" class=\"dataframe\">\n",
       "  <thead>\n",
       "    <tr style=\"text-align: right;\">\n",
       "      <th></th>\n",
       "      <th>PLAYER</th>\n",
       "      <th>TOTAL_EVENTS_PLAYED</th>\n",
       "      <th>RECENT_FORM</th>\n",
       "      <th>adj_form</th>\n",
       "      <th>ENDING_DATE</th>\n",
       "      <th>TOURNAMENT</th>\n",
       "    </tr>\n",
       "  </thead>\n",
       "  <tbody>\n",
       "    <tr>\n",
       "      <th>0</th>\n",
       "      <td>Webb Simpson</td>\n",
       "      <td>4</td>\n",
       "      <td>3.3</td>\n",
       "      <td>2.05</td>\n",
       "      <td>2020-06-14</td>\n",
       "      <td>Charles Schwab Challenge</td>\n",
       "    </tr>\n",
       "    <tr>\n",
       "      <th>1</th>\n",
       "      <td>Tyrrell Hatton</td>\n",
       "      <td>2</td>\n",
       "      <td>3.5</td>\n",
       "      <td>3.19</td>\n",
       "      <td>2020-06-14</td>\n",
       "      <td>Charles Schwab Challenge</td>\n",
       "    </tr>\n",
       "    <tr>\n",
       "      <th>2</th>\n",
       "      <td>Rory McIlroy</td>\n",
       "      <td>4</td>\n",
       "      <td>4.0</td>\n",
       "      <td>2.49</td>\n",
       "      <td>2020-06-14</td>\n",
       "      <td>Charles Schwab Challenge</td>\n",
       "    </tr>\n",
       "  </tbody>\n",
       "</table>\n",
       "</div>"
      ],
      "text/plain": [
       "           PLAYER  TOTAL_EVENTS_PLAYED  RECENT_FORM  adj_form ENDING_DATE  \\\n",
       "0    Webb Simpson                    4          3.3      2.05  2020-06-14   \n",
       "1  Tyrrell Hatton                    2          3.5      3.19  2020-06-14   \n",
       "2    Rory McIlroy                    4          4.0      2.49  2020-06-14   \n",
       "\n",
       "                 TOURNAMENT  \n",
       "0  Charles Schwab Challenge  \n",
       "1  Charles Schwab Challenge  \n",
       "2  Charles Schwab Challenge  "
      ]
     },
     "metadata": {},
     "output_type": "display_data"
    },
    {
     "name": "stdout",
     "output_type": "stream",
     "text": [
      "\n",
      "📆 2021-05-30 — Charles Schwab Challenge (471 players)\n"
     ]
    },
    {
     "data": {
      "text/html": [
       "<div>\n",
       "<style scoped>\n",
       "    .dataframe tbody tr th:only-of-type {\n",
       "        vertical-align: middle;\n",
       "    }\n",
       "\n",
       "    .dataframe tbody tr th {\n",
       "        vertical-align: top;\n",
       "    }\n",
       "\n",
       "    .dataframe thead th {\n",
       "        text-align: right;\n",
       "    }\n",
       "</style>\n",
       "<table border=\"1\" class=\"dataframe\">\n",
       "  <thead>\n",
       "    <tr style=\"text-align: right;\">\n",
       "      <th></th>\n",
       "      <th>PLAYER</th>\n",
       "      <th>TOTAL_EVENTS_PLAYED</th>\n",
       "      <th>RECENT_FORM</th>\n",
       "      <th>adj_form</th>\n",
       "      <th>ENDING_DATE</th>\n",
       "      <th>TOURNAMENT</th>\n",
       "    </tr>\n",
       "  </thead>\n",
       "  <tbody>\n",
       "    <tr>\n",
       "      <th>0</th>\n",
       "      <td>Bud Cauley</td>\n",
       "      <td>1</td>\n",
       "      <td>14.0</td>\n",
       "      <td>20.20</td>\n",
       "      <td>2021-05-30</td>\n",
       "      <td>Charles Schwab Challenge</td>\n",
       "    </tr>\n",
       "    <tr>\n",
       "      <th>1</th>\n",
       "      <td>Jon Rahm</td>\n",
       "      <td>14</td>\n",
       "      <td>16.3</td>\n",
       "      <td>6.02</td>\n",
       "      <td>2021-05-30</td>\n",
       "      <td>Charles Schwab Challenge</td>\n",
       "    </tr>\n",
       "    <tr>\n",
       "      <th>2</th>\n",
       "      <td>Dawie van der Walt</td>\n",
       "      <td>1</td>\n",
       "      <td>20.0</td>\n",
       "      <td>28.85</td>\n",
       "      <td>2021-05-30</td>\n",
       "      <td>Charles Schwab Challenge</td>\n",
       "    </tr>\n",
       "  </tbody>\n",
       "</table>\n",
       "</div>"
      ],
      "text/plain": [
       "               PLAYER  TOTAL_EVENTS_PLAYED  RECENT_FORM  adj_form ENDING_DATE  \\\n",
       "0          Bud Cauley                    1         14.0     20.20  2021-05-30   \n",
       "1            Jon Rahm                   14         16.3      6.02  2021-05-30   \n",
       "2  Dawie van der Walt                    1         20.0     28.85  2021-05-30   \n",
       "\n",
       "                 TOURNAMENT  \n",
       "0  Charles Schwab Challenge  \n",
       "1  Charles Schwab Challenge  \n",
       "2  Charles Schwab Challenge  "
      ]
     },
     "metadata": {},
     "output_type": "display_data"
    },
    {
     "name": "stdout",
     "output_type": "stream",
     "text": [
      "\n",
      "📆 2022-05-29 — Charles Schwab Challenge (475 players)\n"
     ]
    },
    {
     "data": {
      "text/html": [
       "<div>\n",
       "<style scoped>\n",
       "    .dataframe tbody tr th:only-of-type {\n",
       "        vertical-align: middle;\n",
       "    }\n",
       "\n",
       "    .dataframe tbody tr th {\n",
       "        vertical-align: top;\n",
       "    }\n",
       "\n",
       "    .dataframe thead th {\n",
       "        text-align: right;\n",
       "    }\n",
       "</style>\n",
       "<table border=\"1\" class=\"dataframe\">\n",
       "  <thead>\n",
       "    <tr style=\"text-align: right;\">\n",
       "      <th></th>\n",
       "      <th>PLAYER</th>\n",
       "      <th>TOTAL_EVENTS_PLAYED</th>\n",
       "      <th>RECENT_FORM</th>\n",
       "      <th>adj_form</th>\n",
       "      <th>ENDING_DATE</th>\n",
       "      <th>TOURNAMENT</th>\n",
       "    </tr>\n",
       "  </thead>\n",
       "  <tbody>\n",
       "    <tr>\n",
       "      <th>0</th>\n",
       "      <td>Taylor Montgomery</td>\n",
       "      <td>1</td>\n",
       "      <td>11.0</td>\n",
       "      <td>15.87</td>\n",
       "      <td>2022-05-29</td>\n",
       "      <td>Charles Schwab Challenge</td>\n",
       "    </tr>\n",
       "    <tr>\n",
       "      <th>1</th>\n",
       "      <td>Haotong Li</td>\n",
       "      <td>1</td>\n",
       "      <td>12.0</td>\n",
       "      <td>17.31</td>\n",
       "      <td>2022-05-29</td>\n",
       "      <td>Charles Schwab Challenge</td>\n",
       "    </tr>\n",
       "    <tr>\n",
       "      <th>2</th>\n",
       "      <td>Justin Thomas</td>\n",
       "      <td>13</td>\n",
       "      <td>12.8</td>\n",
       "      <td>4.85</td>\n",
       "      <td>2022-05-29</td>\n",
       "      <td>Charles Schwab Challenge</td>\n",
       "    </tr>\n",
       "  </tbody>\n",
       "</table>\n",
       "</div>"
      ],
      "text/plain": [
       "              PLAYER  TOTAL_EVENTS_PLAYED  RECENT_FORM  adj_form ENDING_DATE  \\\n",
       "0  Taylor Montgomery                    1         11.0     15.87  2022-05-29   \n",
       "1         Haotong Li                    1         12.0     17.31  2022-05-29   \n",
       "2      Justin Thomas                   13         12.8      4.85  2022-05-29   \n",
       "\n",
       "                 TOURNAMENT  \n",
       "0  Charles Schwab Challenge  \n",
       "1  Charles Schwab Challenge  \n",
       "2  Charles Schwab Challenge  "
      ]
     },
     "metadata": {},
     "output_type": "display_data"
    },
    {
     "name": "stdout",
     "output_type": "stream",
     "text": [
      "\n",
      "📆 2023-05-28 — Charles Schwab Challenge (487 players)\n"
     ]
    },
    {
     "data": {
      "text/html": [
       "<div>\n",
       "<style scoped>\n",
       "    .dataframe tbody tr th:only-of-type {\n",
       "        vertical-align: middle;\n",
       "    }\n",
       "\n",
       "    .dataframe tbody tr th {\n",
       "        vertical-align: top;\n",
       "    }\n",
       "\n",
       "    .dataframe thead th {\n",
       "        text-align: right;\n",
       "    }\n",
       "</style>\n",
       "<table border=\"1\" class=\"dataframe\">\n",
       "  <thead>\n",
       "    <tr style=\"text-align: right;\">\n",
       "      <th></th>\n",
       "      <th>PLAYER</th>\n",
       "      <th>TOTAL_EVENTS_PLAYED</th>\n",
       "      <th>RECENT_FORM</th>\n",
       "      <th>adj_form</th>\n",
       "      <th>ENDING_DATE</th>\n",
       "      <th>TOURNAMENT</th>\n",
       "    </tr>\n",
       "  </thead>\n",
       "  <tbody>\n",
       "    <tr>\n",
       "      <th>0</th>\n",
       "      <td>Joohyung Kim</td>\n",
       "      <td>1</td>\n",
       "      <td>1.0</td>\n",
       "      <td>1.44</td>\n",
       "      <td>2023-05-28</td>\n",
       "      <td>Charles Schwab Challenge</td>\n",
       "    </tr>\n",
       "    <tr>\n",
       "      <th>1</th>\n",
       "      <td>Brooks Koepka</td>\n",
       "      <td>2</td>\n",
       "      <td>1.5</td>\n",
       "      <td>1.37</td>\n",
       "      <td>2023-05-28</td>\n",
       "      <td>Charles Schwab Challenge</td>\n",
       "    </tr>\n",
       "    <tr>\n",
       "      <th>2</th>\n",
       "      <td>Scottie Scheffler</td>\n",
       "      <td>14</td>\n",
       "      <td>8.8</td>\n",
       "      <td>3.25</td>\n",
       "      <td>2023-05-28</td>\n",
       "      <td>Charles Schwab Challenge</td>\n",
       "    </tr>\n",
       "  </tbody>\n",
       "</table>\n",
       "</div>"
      ],
      "text/plain": [
       "              PLAYER  TOTAL_EVENTS_PLAYED  RECENT_FORM  adj_form ENDING_DATE  \\\n",
       "0       Joohyung Kim                    1          1.0      1.44  2023-05-28   \n",
       "1      Brooks Koepka                    2          1.5      1.37  2023-05-28   \n",
       "2  Scottie Scheffler                   14          8.8      3.25  2023-05-28   \n",
       "\n",
       "                 TOURNAMENT  \n",
       "0  Charles Schwab Challenge  \n",
       "1  Charles Schwab Challenge  \n",
       "2  Charles Schwab Challenge  "
      ]
     },
     "metadata": {},
     "output_type": "display_data"
    },
    {
     "name": "stdout",
     "output_type": "stream",
     "text": [
      "\n",
      "📆 2024-05-26 — Charles Schwab Challenge (448 players)\n"
     ]
    },
    {
     "data": {
      "text/html": [
       "<div>\n",
       "<style scoped>\n",
       "    .dataframe tbody tr th:only-of-type {\n",
       "        vertical-align: middle;\n",
       "    }\n",
       "\n",
       "    .dataframe tbody tr th {\n",
       "        vertical-align: top;\n",
       "    }\n",
       "\n",
       "    .dataframe thead th {\n",
       "        text-align: right;\n",
       "    }\n",
       "</style>\n",
       "<table border=\"1\" class=\"dataframe\">\n",
       "  <thead>\n",
       "    <tr style=\"text-align: right;\">\n",
       "      <th></th>\n",
       "      <th>PLAYER</th>\n",
       "      <th>TOTAL_EVENTS_PLAYED</th>\n",
       "      <th>RECENT_FORM</th>\n",
       "      <th>adj_form</th>\n",
       "      <th>ENDING_DATE</th>\n",
       "      <th>TOURNAMENT</th>\n",
       "    </tr>\n",
       "  </thead>\n",
       "  <tbody>\n",
       "    <tr>\n",
       "      <th>0</th>\n",
       "      <td>Bryson DeChambeau</td>\n",
       "      <td>2</td>\n",
       "      <td>4.0</td>\n",
       "      <td>3.64</td>\n",
       "      <td>2024-05-26</td>\n",
       "      <td>Charles Schwab Challenge</td>\n",
       "    </tr>\n",
       "    <tr>\n",
       "      <th>1</th>\n",
       "      <td>Scottie Scheffler</td>\n",
       "      <td>12</td>\n",
       "      <td>4.7</td>\n",
       "      <td>1.83</td>\n",
       "      <td>2024-05-26</td>\n",
       "      <td>Charles Schwab Challenge</td>\n",
       "    </tr>\n",
       "    <tr>\n",
       "      <th>2</th>\n",
       "      <td>Dean Burmester</td>\n",
       "      <td>1</td>\n",
       "      <td>12.0</td>\n",
       "      <td>17.31</td>\n",
       "      <td>2024-05-26</td>\n",
       "      <td>Charles Schwab Challenge</td>\n",
       "    </tr>\n",
       "  </tbody>\n",
       "</table>\n",
       "</div>"
      ],
      "text/plain": [
       "              PLAYER  TOTAL_EVENTS_PLAYED  RECENT_FORM  adj_form ENDING_DATE  \\\n",
       "0  Bryson DeChambeau                    2          4.0      3.64  2024-05-26   \n",
       "1  Scottie Scheffler                   12          4.7      1.83  2024-05-26   \n",
       "2     Dean Burmester                    1         12.0     17.31  2024-05-26   \n",
       "\n",
       "                 TOURNAMENT  \n",
       "0  Charles Schwab Challenge  \n",
       "1  Charles Schwab Challenge  \n",
       "2  Charles Schwab Challenge  "
      ]
     },
     "metadata": {},
     "output_type": "display_data"
    }
   ],
   "source": [
    "importlib.reload(utils.db_utils)\n",
    "from utils.db_utils import get_recent_avg_finish\n",
    "\n",
    "recent_form = get_recent_avg_finish(\"data/golf.db\", history_df, window_months=9)\n",
    "\n",
    "# Example preview\n",
    "for date, df in recent_form.items(): \n",
    "    print(f\"\\n📆 {date} — {df['TOURNAMENT'].iloc[0]} ({len(df)} players)\")\n",
    "    display(df.head(3))"
   ]
  },
  {
   "cell_type": "markdown",
   "id": "76a77f44",
   "metadata": {},
   "source": [
    "### Course History"
   ]
  },
  {
   "cell_type": "code",
   "execution_count": 5,
   "id": "7412401a",
   "metadata": {},
   "outputs": [
    {
     "name": "stdout",
     "output_type": "stream",
     "text": [
      "\n",
      "🏌️‍♂️ Course history for DEAN & DELUCA Invitational on 2016-05-29\n"
     ]
    },
    {
     "data": {
      "text/html": [
       "<div>\n",
       "<style scoped>\n",
       "    .dataframe tbody tr th:only-of-type {\n",
       "        vertical-align: middle;\n",
       "    }\n",
       "\n",
       "    .dataframe tbody tr th {\n",
       "        vertical-align: top;\n",
       "    }\n",
       "\n",
       "    .dataframe thead th {\n",
       "        text-align: right;\n",
       "    }\n",
       "</style>\n",
       "<table border=\"1\" class=\"dataframe\">\n",
       "  <thead>\n",
       "    <tr style=\"text-align: right;\">\n",
       "      <th></th>\n",
       "      <th>PLAYER</th>\n",
       "      <th>TOTAL_EVENTS_PLAYED</th>\n",
       "      <th>COURSE_HISTORY</th>\n",
       "      <th>adj_ch</th>\n",
       "      <th>ENDING_DATE</th>\n",
       "      <th>COURSE</th>\n",
       "      <th>TOURNAMENT</th>\n",
       "    </tr>\n",
       "  </thead>\n",
       "  <tbody>\n",
       "    <tr>\n",
       "      <th>0</th>\n",
       "      <td>Aaron Baddeley</td>\n",
       "      <td>1</td>\n",
       "      <td>90.0</td>\n",
       "      <td>129.84</td>\n",
       "      <td>2016-05-29</td>\n",
       "      <td>Colonial Country Club</td>\n",
       "      <td>DEAN &amp; DELUCA Invitational</td>\n",
       "    </tr>\n",
       "    <tr>\n",
       "      <th>1</th>\n",
       "      <td>Adam Hadwin</td>\n",
       "      <td>1</td>\n",
       "      <td>5.0</td>\n",
       "      <td>7.21</td>\n",
       "      <td>2016-05-29</td>\n",
       "      <td>Colonial Country Club</td>\n",
       "      <td>DEAN &amp; DELUCA Invitational</td>\n",
       "    </tr>\n",
       "    <tr>\n",
       "      <th>2</th>\n",
       "      <td>Adam Scott</td>\n",
       "      <td>1</td>\n",
       "      <td>24.0</td>\n",
       "      <td>34.62</td>\n",
       "      <td>2016-05-29</td>\n",
       "      <td>Colonial Country Club</td>\n",
       "      <td>DEAN &amp; DELUCA Invitational</td>\n",
       "    </tr>\n",
       "  </tbody>\n",
       "</table>\n",
       "</div>"
      ],
      "text/plain": [
       "           PLAYER  TOTAL_EVENTS_PLAYED  COURSE_HISTORY  adj_ch ENDING_DATE  \\\n",
       "0  Aaron Baddeley                    1            90.0  129.84  2016-05-29   \n",
       "1     Adam Hadwin                    1             5.0    7.21  2016-05-29   \n",
       "2      Adam Scott                    1            24.0   34.62  2016-05-29   \n",
       "\n",
       "                  COURSE                  TOURNAMENT  \n",
       "0  Colonial Country Club  DEAN & DELUCA Invitational  \n",
       "1  Colonial Country Club  DEAN & DELUCA Invitational  \n",
       "2  Colonial Country Club  DEAN & DELUCA Invitational  "
      ]
     },
     "metadata": {},
     "output_type": "display_data"
    },
    {
     "name": "stdout",
     "output_type": "stream",
     "text": [
      "\n",
      "🏌️‍♂️ Course history for DEAN & DELUCA Invitational on 2017-05-28\n"
     ]
    },
    {
     "data": {
      "text/html": [
       "<div>\n",
       "<style scoped>\n",
       "    .dataframe tbody tr th:only-of-type {\n",
       "        vertical-align: middle;\n",
       "    }\n",
       "\n",
       "    .dataframe tbody tr th {\n",
       "        vertical-align: top;\n",
       "    }\n",
       "\n",
       "    .dataframe thead th {\n",
       "        text-align: right;\n",
       "    }\n",
       "</style>\n",
       "<table border=\"1\" class=\"dataframe\">\n",
       "  <thead>\n",
       "    <tr style=\"text-align: right;\">\n",
       "      <th></th>\n",
       "      <th>PLAYER</th>\n",
       "      <th>TOTAL_EVENTS_PLAYED</th>\n",
       "      <th>COURSE_HISTORY</th>\n",
       "      <th>adj_ch</th>\n",
       "      <th>ENDING_DATE</th>\n",
       "      <th>COURSE</th>\n",
       "      <th>TOURNAMENT</th>\n",
       "    </tr>\n",
       "  </thead>\n",
       "  <tbody>\n",
       "    <tr>\n",
       "      <th>0</th>\n",
       "      <td>Aaron Baddeley</td>\n",
       "      <td>2</td>\n",
       "      <td>72.5</td>\n",
       "      <td>65.99</td>\n",
       "      <td>2017-05-28</td>\n",
       "      <td>Colonial Country Club</td>\n",
       "      <td>DEAN &amp; DELUCA Invitational</td>\n",
       "    </tr>\n",
       "    <tr>\n",
       "      <th>1</th>\n",
       "      <td>Adam Hadwin</td>\n",
       "      <td>2</td>\n",
       "      <td>13.5</td>\n",
       "      <td>12.29</td>\n",
       "      <td>2017-05-28</td>\n",
       "      <td>Colonial Country Club</td>\n",
       "      <td>DEAN &amp; DELUCA Invitational</td>\n",
       "    </tr>\n",
       "    <tr>\n",
       "      <th>2</th>\n",
       "      <td>Adam Scott</td>\n",
       "      <td>2</td>\n",
       "      <td>39.5</td>\n",
       "      <td>35.95</td>\n",
       "      <td>2017-05-28</td>\n",
       "      <td>Colonial Country Club</td>\n",
       "      <td>DEAN &amp; DELUCA Invitational</td>\n",
       "    </tr>\n",
       "  </tbody>\n",
       "</table>\n",
       "</div>"
      ],
      "text/plain": [
       "           PLAYER  TOTAL_EVENTS_PLAYED  COURSE_HISTORY  adj_ch ENDING_DATE  \\\n",
       "0  Aaron Baddeley                    2            72.5   65.99  2017-05-28   \n",
       "1     Adam Hadwin                    2            13.5   12.29  2017-05-28   \n",
       "2      Adam Scott                    2            39.5   35.95  2017-05-28   \n",
       "\n",
       "                  COURSE                  TOURNAMENT  \n",
       "0  Colonial Country Club  DEAN & DELUCA Invitational  \n",
       "1  Colonial Country Club  DEAN & DELUCA Invitational  \n",
       "2  Colonial Country Club  DEAN & DELUCA Invitational  "
      ]
     },
     "metadata": {},
     "output_type": "display_data"
    },
    {
     "name": "stdout",
     "output_type": "stream",
     "text": [
      "\n",
      "🏌️‍♂️ Course history for Fort Worth Invitational on 2018-05-27\n"
     ]
    },
    {
     "data": {
      "text/html": [
       "<div>\n",
       "<style scoped>\n",
       "    .dataframe tbody tr th:only-of-type {\n",
       "        vertical-align: middle;\n",
       "    }\n",
       "\n",
       "    .dataframe tbody tr th {\n",
       "        vertical-align: top;\n",
       "    }\n",
       "\n",
       "    .dataframe thead th {\n",
       "        text-align: right;\n",
       "    }\n",
       "</style>\n",
       "<table border=\"1\" class=\"dataframe\">\n",
       "  <thead>\n",
       "    <tr style=\"text-align: right;\">\n",
       "      <th></th>\n",
       "      <th>PLAYER</th>\n",
       "      <th>TOTAL_EVENTS_PLAYED</th>\n",
       "      <th>COURSE_HISTORY</th>\n",
       "      <th>adj_ch</th>\n",
       "      <th>ENDING_DATE</th>\n",
       "      <th>COURSE</th>\n",
       "      <th>TOURNAMENT</th>\n",
       "    </tr>\n",
       "  </thead>\n",
       "  <tbody>\n",
       "    <tr>\n",
       "      <th>0</th>\n",
       "      <td>Aaron Baddeley</td>\n",
       "      <td>3</td>\n",
       "      <td>78.3</td>\n",
       "      <td>56.48</td>\n",
       "      <td>2018-05-27</td>\n",
       "      <td>Colonial Country Club</td>\n",
       "      <td>Fort Worth Invitational</td>\n",
       "    </tr>\n",
       "    <tr>\n",
       "      <th>1</th>\n",
       "      <td>Adam Hadwin</td>\n",
       "      <td>3</td>\n",
       "      <td>26.7</td>\n",
       "      <td>19.26</td>\n",
       "      <td>2018-05-27</td>\n",
       "      <td>Colonial Country Club</td>\n",
       "      <td>Fort Worth Invitational</td>\n",
       "    </tr>\n",
       "    <tr>\n",
       "      <th>2</th>\n",
       "      <td>Adam Scott</td>\n",
       "      <td>2</td>\n",
       "      <td>39.5</td>\n",
       "      <td>35.95</td>\n",
       "      <td>2018-05-27</td>\n",
       "      <td>Colonial Country Club</td>\n",
       "      <td>Fort Worth Invitational</td>\n",
       "    </tr>\n",
       "  </tbody>\n",
       "</table>\n",
       "</div>"
      ],
      "text/plain": [
       "           PLAYER  TOTAL_EVENTS_PLAYED  COURSE_HISTORY  adj_ch ENDING_DATE  \\\n",
       "0  Aaron Baddeley                    3            78.3   56.48  2018-05-27   \n",
       "1     Adam Hadwin                    3            26.7   19.26  2018-05-27   \n",
       "2      Adam Scott                    2            39.5   35.95  2018-05-27   \n",
       "\n",
       "                  COURSE               TOURNAMENT  \n",
       "0  Colonial Country Club  Fort Worth Invitational  \n",
       "1  Colonial Country Club  Fort Worth Invitational  \n",
       "2  Colonial Country Club  Fort Worth Invitational  "
      ]
     },
     "metadata": {},
     "output_type": "display_data"
    },
    {
     "name": "stdout",
     "output_type": "stream",
     "text": [
      "\n",
      "🏌️‍♂️ Course history for Charles Schwab Challenge on 2019-05-26\n"
     ]
    },
    {
     "data": {
      "text/html": [
       "<div>\n",
       "<style scoped>\n",
       "    .dataframe tbody tr th:only-of-type {\n",
       "        vertical-align: middle;\n",
       "    }\n",
       "\n",
       "    .dataframe tbody tr th {\n",
       "        vertical-align: top;\n",
       "    }\n",
       "\n",
       "    .dataframe thead th {\n",
       "        text-align: right;\n",
       "    }\n",
       "</style>\n",
       "<table border=\"1\" class=\"dataframe\">\n",
       "  <thead>\n",
       "    <tr style=\"text-align: right;\">\n",
       "      <th></th>\n",
       "      <th>PLAYER</th>\n",
       "      <th>TOTAL_EVENTS_PLAYED</th>\n",
       "      <th>COURSE_HISTORY</th>\n",
       "      <th>adj_ch</th>\n",
       "      <th>ENDING_DATE</th>\n",
       "      <th>COURSE</th>\n",
       "      <th>TOURNAMENT</th>\n",
       "    </tr>\n",
       "  </thead>\n",
       "  <tbody>\n",
       "    <tr>\n",
       "      <th>0</th>\n",
       "      <td>Aaron Baddeley</td>\n",
       "      <td>4</td>\n",
       "      <td>81.3</td>\n",
       "      <td>50.51</td>\n",
       "      <td>2019-05-26</td>\n",
       "      <td>Colonial Country Club</td>\n",
       "      <td>Charles Schwab Challenge</td>\n",
       "    </tr>\n",
       "    <tr>\n",
       "      <th>1</th>\n",
       "      <td>Aaron Wise</td>\n",
       "      <td>1</td>\n",
       "      <td>90.0</td>\n",
       "      <td>129.84</td>\n",
       "      <td>2019-05-26</td>\n",
       "      <td>Colonial Country Club</td>\n",
       "      <td>Charles Schwab Challenge</td>\n",
       "    </tr>\n",
       "    <tr>\n",
       "      <th>2</th>\n",
       "      <td>Abraham Ancer</td>\n",
       "      <td>1</td>\n",
       "      <td>52.0</td>\n",
       "      <td>75.02</td>\n",
       "      <td>2019-05-26</td>\n",
       "      <td>Colonial Country Club</td>\n",
       "      <td>Charles Schwab Challenge</td>\n",
       "    </tr>\n",
       "  </tbody>\n",
       "</table>\n",
       "</div>"
      ],
      "text/plain": [
       "           PLAYER  TOTAL_EVENTS_PLAYED  COURSE_HISTORY  adj_ch ENDING_DATE  \\\n",
       "0  Aaron Baddeley                    4            81.3   50.51  2019-05-26   \n",
       "1      Aaron Wise                    1            90.0  129.84  2019-05-26   \n",
       "2   Abraham Ancer                    1            52.0   75.02  2019-05-26   \n",
       "\n",
       "                  COURSE                TOURNAMENT  \n",
       "0  Colonial Country Club  Charles Schwab Challenge  \n",
       "1  Colonial Country Club  Charles Schwab Challenge  \n",
       "2  Colonial Country Club  Charles Schwab Challenge  "
      ]
     },
     "metadata": {},
     "output_type": "display_data"
    },
    {
     "name": "stdout",
     "output_type": "stream",
     "text": [
      "\n",
      "🏌️‍♂️ Course history for Charles Schwab Challenge on 2020-06-14\n"
     ]
    },
    {
     "data": {
      "text/html": [
       "<div>\n",
       "<style scoped>\n",
       "    .dataframe tbody tr th:only-of-type {\n",
       "        vertical-align: middle;\n",
       "    }\n",
       "\n",
       "    .dataframe tbody tr th {\n",
       "        vertical-align: top;\n",
       "    }\n",
       "\n",
       "    .dataframe thead th {\n",
       "        text-align: right;\n",
       "    }\n",
       "</style>\n",
       "<table border=\"1\" class=\"dataframe\">\n",
       "  <thead>\n",
       "    <tr style=\"text-align: right;\">\n",
       "      <th></th>\n",
       "      <th>PLAYER</th>\n",
       "      <th>TOTAL_EVENTS_PLAYED</th>\n",
       "      <th>COURSE_HISTORY</th>\n",
       "      <th>adj_ch</th>\n",
       "      <th>ENDING_DATE</th>\n",
       "      <th>COURSE</th>\n",
       "      <th>TOURNAMENT</th>\n",
       "    </tr>\n",
       "  </thead>\n",
       "  <tbody>\n",
       "    <tr>\n",
       "      <th>0</th>\n",
       "      <td>Aaron Baddeley</td>\n",
       "      <td>5</td>\n",
       "      <td>74.6</td>\n",
       "      <td>41.64</td>\n",
       "      <td>2020-06-14</td>\n",
       "      <td>Colonial Country Club</td>\n",
       "      <td>Charles Schwab Challenge</td>\n",
       "    </tr>\n",
       "    <tr>\n",
       "      <th>1</th>\n",
       "      <td>Aaron Wise</td>\n",
       "      <td>1</td>\n",
       "      <td>90.0</td>\n",
       "      <td>129.84</td>\n",
       "      <td>2020-06-14</td>\n",
       "      <td>Colonial Country Club</td>\n",
       "      <td>Charles Schwab Challenge</td>\n",
       "    </tr>\n",
       "    <tr>\n",
       "      <th>2</th>\n",
       "      <td>Abraham Ancer</td>\n",
       "      <td>2</td>\n",
       "      <td>55.0</td>\n",
       "      <td>50.06</td>\n",
       "      <td>2020-06-14</td>\n",
       "      <td>Colonial Country Club</td>\n",
       "      <td>Charles Schwab Challenge</td>\n",
       "    </tr>\n",
       "  </tbody>\n",
       "</table>\n",
       "</div>"
      ],
      "text/plain": [
       "           PLAYER  TOTAL_EVENTS_PLAYED  COURSE_HISTORY  adj_ch ENDING_DATE  \\\n",
       "0  Aaron Baddeley                    5            74.6   41.64  2020-06-14   \n",
       "1      Aaron Wise                    1            90.0  129.84  2020-06-14   \n",
       "2   Abraham Ancer                    2            55.0   50.06  2020-06-14   \n",
       "\n",
       "                  COURSE                TOURNAMENT  \n",
       "0  Colonial Country Club  Charles Schwab Challenge  \n",
       "1  Colonial Country Club  Charles Schwab Challenge  \n",
       "2  Colonial Country Club  Charles Schwab Challenge  "
      ]
     },
     "metadata": {},
     "output_type": "display_data"
    },
    {
     "name": "stdout",
     "output_type": "stream",
     "text": [
      "\n",
      "🏌️‍♂️ Course history for Charles Schwab Challenge on 2021-05-30\n"
     ]
    },
    {
     "data": {
      "text/html": [
       "<div>\n",
       "<style scoped>\n",
       "    .dataframe tbody tr th:only-of-type {\n",
       "        vertical-align: middle;\n",
       "    }\n",
       "\n",
       "    .dataframe tbody tr th {\n",
       "        vertical-align: top;\n",
       "    }\n",
       "\n",
       "    .dataframe thead th {\n",
       "        text-align: right;\n",
       "    }\n",
       "</style>\n",
       "<table border=\"1\" class=\"dataframe\">\n",
       "  <thead>\n",
       "    <tr style=\"text-align: right;\">\n",
       "      <th></th>\n",
       "      <th>PLAYER</th>\n",
       "      <th>TOTAL_EVENTS_PLAYED</th>\n",
       "      <th>COURSE_HISTORY</th>\n",
       "      <th>adj_ch</th>\n",
       "      <th>ENDING_DATE</th>\n",
       "      <th>COURSE</th>\n",
       "      <th>TOURNAMENT</th>\n",
       "    </tr>\n",
       "  </thead>\n",
       "  <tbody>\n",
       "    <tr>\n",
       "      <th>0</th>\n",
       "      <td>Aaron Baddeley</td>\n",
       "      <td>5</td>\n",
       "      <td>74.6</td>\n",
       "      <td>41.64</td>\n",
       "      <td>2021-05-30</td>\n",
       "      <td>Colonial Country Club</td>\n",
       "      <td>Charles Schwab Challenge</td>\n",
       "    </tr>\n",
       "    <tr>\n",
       "      <th>1</th>\n",
       "      <td>Aaron Wise</td>\n",
       "      <td>1</td>\n",
       "      <td>90.0</td>\n",
       "      <td>129.84</td>\n",
       "      <td>2021-05-30</td>\n",
       "      <td>Colonial Country Club</td>\n",
       "      <td>Charles Schwab Challenge</td>\n",
       "    </tr>\n",
       "    <tr>\n",
       "      <th>2</th>\n",
       "      <td>Abraham Ancer</td>\n",
       "      <td>3</td>\n",
       "      <td>41.3</td>\n",
       "      <td>29.79</td>\n",
       "      <td>2021-05-30</td>\n",
       "      <td>Colonial Country Club</td>\n",
       "      <td>Charles Schwab Challenge</td>\n",
       "    </tr>\n",
       "  </tbody>\n",
       "</table>\n",
       "</div>"
      ],
      "text/plain": [
       "           PLAYER  TOTAL_EVENTS_PLAYED  COURSE_HISTORY  adj_ch ENDING_DATE  \\\n",
       "0  Aaron Baddeley                    5            74.6   41.64  2021-05-30   \n",
       "1      Aaron Wise                    1            90.0  129.84  2021-05-30   \n",
       "2   Abraham Ancer                    3            41.3   29.79  2021-05-30   \n",
       "\n",
       "                  COURSE                TOURNAMENT  \n",
       "0  Colonial Country Club  Charles Schwab Challenge  \n",
       "1  Colonial Country Club  Charles Schwab Challenge  \n",
       "2  Colonial Country Club  Charles Schwab Challenge  "
      ]
     },
     "metadata": {},
     "output_type": "display_data"
    },
    {
     "name": "stdout",
     "output_type": "stream",
     "text": [
      "\n",
      "🏌️‍♂️ Course history for Charles Schwab Challenge on 2022-05-29\n"
     ]
    },
    {
     "data": {
      "text/html": [
       "<div>\n",
       "<style scoped>\n",
       "    .dataframe tbody tr th:only-of-type {\n",
       "        vertical-align: middle;\n",
       "    }\n",
       "\n",
       "    .dataframe tbody tr th {\n",
       "        vertical-align: top;\n",
       "    }\n",
       "\n",
       "    .dataframe thead th {\n",
       "        text-align: right;\n",
       "    }\n",
       "</style>\n",
       "<table border=\"1\" class=\"dataframe\">\n",
       "  <thead>\n",
       "    <tr style=\"text-align: right;\">\n",
       "      <th></th>\n",
       "      <th>PLAYER</th>\n",
       "      <th>TOTAL_EVENTS_PLAYED</th>\n",
       "      <th>COURSE_HISTORY</th>\n",
       "      <th>adj_ch</th>\n",
       "      <th>ENDING_DATE</th>\n",
       "      <th>COURSE</th>\n",
       "      <th>TOURNAMENT</th>\n",
       "    </tr>\n",
       "  </thead>\n",
       "  <tbody>\n",
       "    <tr>\n",
       "      <th>0</th>\n",
       "      <td>Aaron Baddeley</td>\n",
       "      <td>4</td>\n",
       "      <td>70.8</td>\n",
       "      <td>43.99</td>\n",
       "      <td>2022-05-29</td>\n",
       "      <td>Colonial Country Club</td>\n",
       "      <td>Charles Schwab Challenge</td>\n",
       "    </tr>\n",
       "    <tr>\n",
       "      <th>1</th>\n",
       "      <td>Aaron Wise</td>\n",
       "      <td>1</td>\n",
       "      <td>90.0</td>\n",
       "      <td>129.84</td>\n",
       "      <td>2022-05-29</td>\n",
       "      <td>Colonial Country Club</td>\n",
       "      <td>Charles Schwab Challenge</td>\n",
       "    </tr>\n",
       "    <tr>\n",
       "      <th>2</th>\n",
       "      <td>Abraham Ancer</td>\n",
       "      <td>4</td>\n",
       "      <td>34.5</td>\n",
       "      <td>21.44</td>\n",
       "      <td>2022-05-29</td>\n",
       "      <td>Colonial Country Club</td>\n",
       "      <td>Charles Schwab Challenge</td>\n",
       "    </tr>\n",
       "  </tbody>\n",
       "</table>\n",
       "</div>"
      ],
      "text/plain": [
       "           PLAYER  TOTAL_EVENTS_PLAYED  COURSE_HISTORY  adj_ch ENDING_DATE  \\\n",
       "0  Aaron Baddeley                    4            70.8   43.99  2022-05-29   \n",
       "1      Aaron Wise                    1            90.0  129.84  2022-05-29   \n",
       "2   Abraham Ancer                    4            34.5   21.44  2022-05-29   \n",
       "\n",
       "                  COURSE                TOURNAMENT  \n",
       "0  Colonial Country Club  Charles Schwab Challenge  \n",
       "1  Colonial Country Club  Charles Schwab Challenge  \n",
       "2  Colonial Country Club  Charles Schwab Challenge  "
      ]
     },
     "metadata": {},
     "output_type": "display_data"
    },
    {
     "name": "stdout",
     "output_type": "stream",
     "text": [
      "\n",
      "🏌️‍♂️ Course history for Charles Schwab Challenge on 2023-05-28\n"
     ]
    },
    {
     "data": {
      "text/html": [
       "<div>\n",
       "<style scoped>\n",
       "    .dataframe tbody tr th:only-of-type {\n",
       "        vertical-align: middle;\n",
       "    }\n",
       "\n",
       "    .dataframe tbody tr th {\n",
       "        vertical-align: top;\n",
       "    }\n",
       "\n",
       "    .dataframe thead th {\n",
       "        text-align: right;\n",
       "    }\n",
       "</style>\n",
       "<table border=\"1\" class=\"dataframe\">\n",
       "  <thead>\n",
       "    <tr style=\"text-align: right;\">\n",
       "      <th></th>\n",
       "      <th>PLAYER</th>\n",
       "      <th>TOTAL_EVENTS_PLAYED</th>\n",
       "      <th>COURSE_HISTORY</th>\n",
       "      <th>adj_ch</th>\n",
       "      <th>ENDING_DATE</th>\n",
       "      <th>COURSE</th>\n",
       "      <th>TOURNAMENT</th>\n",
       "    </tr>\n",
       "  </thead>\n",
       "  <tbody>\n",
       "    <tr>\n",
       "      <th>0</th>\n",
       "      <td>Aaron Baddeley</td>\n",
       "      <td>4</td>\n",
       "      <td>70.8</td>\n",
       "      <td>43.99</td>\n",
       "      <td>2023-05-28</td>\n",
       "      <td>Colonial Country Club</td>\n",
       "      <td>Charles Schwab Challenge</td>\n",
       "    </tr>\n",
       "    <tr>\n",
       "      <th>1</th>\n",
       "      <td>Aaron Rai</td>\n",
       "      <td>1</td>\n",
       "      <td>68.0</td>\n",
       "      <td>98.10</td>\n",
       "      <td>2023-05-28</td>\n",
       "      <td>Colonial Country Club</td>\n",
       "      <td>Charles Schwab Challenge</td>\n",
       "    </tr>\n",
       "    <tr>\n",
       "      <th>2</th>\n",
       "      <td>Aaron Wise</td>\n",
       "      <td>1</td>\n",
       "      <td>90.0</td>\n",
       "      <td>129.84</td>\n",
       "      <td>2023-05-28</td>\n",
       "      <td>Colonial Country Club</td>\n",
       "      <td>Charles Schwab Challenge</td>\n",
       "    </tr>\n",
       "  </tbody>\n",
       "</table>\n",
       "</div>"
      ],
      "text/plain": [
       "           PLAYER  TOTAL_EVENTS_PLAYED  COURSE_HISTORY  adj_ch ENDING_DATE  \\\n",
       "0  Aaron Baddeley                    4            70.8   43.99  2023-05-28   \n",
       "1       Aaron Rai                    1            68.0   98.10  2023-05-28   \n",
       "2      Aaron Wise                    1            90.0  129.84  2023-05-28   \n",
       "\n",
       "                  COURSE                TOURNAMENT  \n",
       "0  Colonial Country Club  Charles Schwab Challenge  \n",
       "1  Colonial Country Club  Charles Schwab Challenge  \n",
       "2  Colonial Country Club  Charles Schwab Challenge  "
      ]
     },
     "metadata": {},
     "output_type": "display_data"
    },
    {
     "name": "stdout",
     "output_type": "stream",
     "text": [
      "\n",
      "🏌️‍♂️ Course history for Charles Schwab Challenge on 2024-05-26\n"
     ]
    },
    {
     "data": {
      "text/html": [
       "<div>\n",
       "<style scoped>\n",
       "    .dataframe tbody tr th:only-of-type {\n",
       "        vertical-align: middle;\n",
       "    }\n",
       "\n",
       "    .dataframe tbody tr th {\n",
       "        vertical-align: top;\n",
       "    }\n",
       "\n",
       "    .dataframe thead th {\n",
       "        text-align: right;\n",
       "    }\n",
       "</style>\n",
       "<table border=\"1\" class=\"dataframe\">\n",
       "  <thead>\n",
       "    <tr style=\"text-align: right;\">\n",
       "      <th></th>\n",
       "      <th>PLAYER</th>\n",
       "      <th>TOTAL_EVENTS_PLAYED</th>\n",
       "      <th>COURSE_HISTORY</th>\n",
       "      <th>adj_ch</th>\n",
       "      <th>ENDING_DATE</th>\n",
       "      <th>COURSE</th>\n",
       "      <th>TOURNAMENT</th>\n",
       "    </tr>\n",
       "  </thead>\n",
       "  <tbody>\n",
       "    <tr>\n",
       "      <th>0</th>\n",
       "      <td>Aaron Baddeley</td>\n",
       "      <td>4</td>\n",
       "      <td>62.3</td>\n",
       "      <td>38.71</td>\n",
       "      <td>2024-05-26</td>\n",
       "      <td>Colonial Country Club</td>\n",
       "      <td>Charles Schwab Challenge</td>\n",
       "    </tr>\n",
       "    <tr>\n",
       "      <th>1</th>\n",
       "      <td>Aaron Rai</td>\n",
       "      <td>2</td>\n",
       "      <td>40.0</td>\n",
       "      <td>36.41</td>\n",
       "      <td>2024-05-26</td>\n",
       "      <td>Colonial Country Club</td>\n",
       "      <td>Charles Schwab Challenge</td>\n",
       "    </tr>\n",
       "    <tr>\n",
       "      <th>2</th>\n",
       "      <td>Aaron Wise</td>\n",
       "      <td>1</td>\n",
       "      <td>90.0</td>\n",
       "      <td>129.84</td>\n",
       "      <td>2024-05-26</td>\n",
       "      <td>Colonial Country Club</td>\n",
       "      <td>Charles Schwab Challenge</td>\n",
       "    </tr>\n",
       "  </tbody>\n",
       "</table>\n",
       "</div>"
      ],
      "text/plain": [
       "           PLAYER  TOTAL_EVENTS_PLAYED  COURSE_HISTORY  adj_ch ENDING_DATE  \\\n",
       "0  Aaron Baddeley                    4            62.3   38.71  2024-05-26   \n",
       "1       Aaron Rai                    2            40.0   36.41  2024-05-26   \n",
       "2      Aaron Wise                    1            90.0  129.84  2024-05-26   \n",
       "\n",
       "                  COURSE                TOURNAMENT  \n",
       "0  Colonial Country Club  Charles Schwab Challenge  \n",
       "1  Colonial Country Club  Charles Schwab Challenge  \n",
       "2  Colonial Country Club  Charles Schwab Challenge  "
      ]
     },
     "metadata": {},
     "output_type": "display_data"
    }
   ],
   "source": [
    "importlib.reload(utils.db_utils)\n",
    "from utils.db_utils import get_course_history\n",
    "\n",
    "# Filter history_df for only the course we're targeting\n",
    "target_course = tournament_config[\"new\"][\"course\"]\n",
    "course_df = history_df[history_df[\"COURSE\"] == target_course]\n",
    "course_hist = get_course_history(\"data/golf.db\", course_df)\n",
    "\n",
    "# View example\n",
    "for date, df in course_hist.items():\n",
    "    if not df.empty:\n",
    "        print(f\"\\n🏌️‍♂️ Course history for {df['TOURNAMENT'].iloc[0]} on {date}\")\n",
    "        display(df.head(3))"
   ]
  },
  {
   "cell_type": "markdown",
   "id": "e8fa7578",
   "metadata": {},
   "source": [
    "## Training Dataset"
   ]
  },
  {
   "cell_type": "code",
   "execution_count": 6,
   "id": "a4277295",
   "metadata": {},
   "outputs": [
    {
     "data": {
      "text/html": [
       "<div>\n",
       "<style scoped>\n",
       "    .dataframe tbody tr th:only-of-type {\n",
       "        vertical-align: middle;\n",
       "    }\n",
       "\n",
       "    .dataframe tbody tr th {\n",
       "        vertical-align: top;\n",
       "    }\n",
       "\n",
       "    .dataframe thead th {\n",
       "        text-align: right;\n",
       "    }\n",
       "</style>\n",
       "<table border=\"1\" class=\"dataframe\">\n",
       "  <thead>\n",
       "    <tr style=\"text-align: right;\">\n",
       "      <th></th>\n",
       "      <th>SEASON</th>\n",
       "      <th>ENDING_DATE</th>\n",
       "      <th>TOURNAMENT</th>\n",
       "      <th>COURSE</th>\n",
       "      <th>PLAYER</th>\n",
       "      <th>POS</th>\n",
       "      <th>FINAL_POS</th>\n",
       "      <th>SGTTG_RANK</th>\n",
       "      <th>SGTTG</th>\n",
       "      <th>SGOTT_RANK</th>\n",
       "      <th>SGOTT</th>\n",
       "      <th>SGAPR_RANK</th>\n",
       "      <th>SGAPR</th>\n",
       "      <th>SGATG_RANK</th>\n",
       "      <th>SGATG</th>\n",
       "      <th>SGP_RANK</th>\n",
       "      <th>SGP</th>\n",
       "      <th>BIRDIES_RANK</th>\n",
       "      <th>BIRDIES</th>\n",
       "      <th>PAR_3_RANK</th>\n",
       "      <th>PAR_3</th>\n",
       "      <th>PAR_4_RANK</th>\n",
       "      <th>PAR_4</th>\n",
       "      <th>PAR_5_RANK</th>\n",
       "      <th>PAR_5</th>\n",
       "      <th>TOTAL_DRIVING_RANK</th>\n",
       "      <th>TOTAL_DRIVING</th>\n",
       "      <th>DRIVING_DISTANCE_RANK</th>\n",
       "      <th>DRIVING_DISTANCE</th>\n",
       "      <th>DRIVING_ACCURACY_RANK</th>\n",
       "      <th>DRIVING_ACCURACY</th>\n",
       "      <th>GIR_RANK</th>\n",
       "      <th>GIR</th>\n",
       "      <th>SCRAMBLING_RANK</th>\n",
       "      <th>SCRAMBLING</th>\n",
       "      <th>OWGR_RANK</th>\n",
       "      <th>OWGR</th>\n",
       "      <th>VEGAS_ODDS</th>\n",
       "      <th>CUT_PERCENTAGE</th>\n",
       "      <th>FEDEX_CUP_POINTS</th>\n",
       "      <th>form_density</th>\n",
       "      <th>CONSECUTIVE_CUTS</th>\n",
       "      <th>RECENT_FORM</th>\n",
       "      <th>adj_form</th>\n",
       "      <th>COURSE_HISTORY</th>\n",
       "      <th>adj_ch</th>\n",
       "      <th>TOP_20</th>\n",
       "    </tr>\n",
       "  </thead>\n",
       "  <tbody>\n",
       "    <tr>\n",
       "      <th>0</th>\n",
       "      <td>2016</td>\n",
       "      <td>2016-05-29</td>\n",
       "      <td>DEAN &amp; DELUCA Invitational</td>\n",
       "      <td>Colonial Country Club</td>\n",
       "      <td>Aaron Baddeley</td>\n",
       "      <td>T55</td>\n",
       "      <td>55</td>\n",
       "      <td>146.0</td>\n",
       "      <td>-0.330</td>\n",
       "      <td>159.0</td>\n",
       "      <td>-0.366</td>\n",
       "      <td>164.0</td>\n",
       "      <td>-0.362</td>\n",
       "      <td>10.0</td>\n",
       "      <td>0.402</td>\n",
       "      <td>8.0</td>\n",
       "      <td>0.586</td>\n",
       "      <td>59.0</td>\n",
       "      <td>20.72</td>\n",
       "      <td>78.0</td>\n",
       "      <td>3.06</td>\n",
       "      <td>14.0</td>\n",
       "      <td>4.01</td>\n",
       "      <td>50.0</td>\n",
       "      <td>4.64</td>\n",
       "      <td>159.0</td>\n",
       "      <td>237.0</td>\n",
       "      <td>82.0</td>\n",
       "      <td>291.7</td>\n",
       "      <td>155.0</td>\n",
       "      <td>55.42</td>\n",
       "      <td>154.0</td>\n",
       "      <td>63.11</td>\n",
       "      <td>5.0</td>\n",
       "      <td>64.3</td>\n",
       "      <td>143.0</td>\n",
       "      <td>1.14</td>\n",
       "      <td>NaN</td>\n",
       "      <td>60.0</td>\n",
       "      <td>365.00</td>\n",
       "      <td>24.33</td>\n",
       "      <td>0.0</td>\n",
       "      <td>54.0</td>\n",
       "      <td>19.48</td>\n",
       "      <td>90.0</td>\n",
       "      <td>129.84</td>\n",
       "      <td>0</td>\n",
       "    </tr>\n",
       "    <tr>\n",
       "      <th>1</th>\n",
       "      <td>2016</td>\n",
       "      <td>2016-05-29</td>\n",
       "      <td>DEAN &amp; DELUCA Invitational</td>\n",
       "      <td>Colonial Country Club</td>\n",
       "      <td>Adam Hadwin</td>\n",
       "      <td>T22</td>\n",
       "      <td>22</td>\n",
       "      <td>111.0</td>\n",
       "      <td>-0.011</td>\n",
       "      <td>55.0</td>\n",
       "      <td>0.223</td>\n",
       "      <td>121.0</td>\n",
       "      <td>-0.055</td>\n",
       "      <td>132.0</td>\n",
       "      <td>-0.081</td>\n",
       "      <td>11.0</td>\n",
       "      <td>0.530</td>\n",
       "      <td>22.0</td>\n",
       "      <td>21.74</td>\n",
       "      <td>16.0</td>\n",
       "      <td>3.01</td>\n",
       "      <td>48.0</td>\n",
       "      <td>4.03</td>\n",
       "      <td>68.0</td>\n",
       "      <td>4.66</td>\n",
       "      <td>35.0</td>\n",
       "      <td>141.0</td>\n",
       "      <td>92.0</td>\n",
       "      <td>290.1</td>\n",
       "      <td>49.0</td>\n",
       "      <td>63.62</td>\n",
       "      <td>83.0</td>\n",
       "      <td>66.07</td>\n",
       "      <td>97.0</td>\n",
       "      <td>58.27</td>\n",
       "      <td>193.0</td>\n",
       "      <td>0.91</td>\n",
       "      <td>NaN</td>\n",
       "      <td>70.6</td>\n",
       "      <td>378.67</td>\n",
       "      <td>22.27</td>\n",
       "      <td>4.0</td>\n",
       "      <td>53.6</td>\n",
       "      <td>18.54</td>\n",
       "      <td>5.0</td>\n",
       "      <td>7.21</td>\n",
       "      <td>0</td>\n",
       "    </tr>\n",
       "    <tr>\n",
       "      <th>2</th>\n",
       "      <td>2016</td>\n",
       "      <td>2016-05-29</td>\n",
       "      <td>DEAN &amp; DELUCA Invitational</td>\n",
       "      <td>Colonial Country Club</td>\n",
       "      <td>Adam Scott</td>\n",
       "      <td>T55</td>\n",
       "      <td>55</td>\n",
       "      <td>1.0</td>\n",
       "      <td>2.062</td>\n",
       "      <td>20.0</td>\n",
       "      <td>0.522</td>\n",
       "      <td>1.0</td>\n",
       "      <td>1.491</td>\n",
       "      <td>83.0</td>\n",
       "      <td>0.049</td>\n",
       "      <td>129.0</td>\n",
       "      <td>-0.168</td>\n",
       "      <td>9.0</td>\n",
       "      <td>22.88</td>\n",
       "      <td>10.0</td>\n",
       "      <td>3.00</td>\n",
       "      <td>8.0</td>\n",
       "      <td>4.00</td>\n",
       "      <td>13.0</td>\n",
       "      <td>4.58</td>\n",
       "      <td>64.0</td>\n",
       "      <td>166.0</td>\n",
       "      <td>13.0</td>\n",
       "      <td>304.6</td>\n",
       "      <td>153.0</td>\n",
       "      <td>55.55</td>\n",
       "      <td>3.0</td>\n",
       "      <td>70.76</td>\n",
       "      <td>74.0</td>\n",
       "      <td>59.5</td>\n",
       "      <td>6.0</td>\n",
       "      <td>7.07</td>\n",
       "      <td>12.0</td>\n",
       "      <td>100.0</td>\n",
       "      <td>958.35</td>\n",
       "      <td>136.91</td>\n",
       "      <td>7.0</td>\n",
       "      <td>20.3</td>\n",
       "      <td>9.76</td>\n",
       "      <td>24.0</td>\n",
       "      <td>34.62</td>\n",
       "      <td>0</td>\n",
       "    </tr>\n",
       "    <tr>\n",
       "      <th>3</th>\n",
       "      <td>2016</td>\n",
       "      <td>2016-05-29</td>\n",
       "      <td>DEAN &amp; DELUCA Invitational</td>\n",
       "      <td>Colonial Country Club</td>\n",
       "      <td>Andrew Loupe</td>\n",
       "      <td>CUT</td>\n",
       "      <td>90</td>\n",
       "      <td>150.0</td>\n",
       "      <td>-0.395</td>\n",
       "      <td>105.0</td>\n",
       "      <td>-0.005</td>\n",
       "      <td>154.0</td>\n",
       "      <td>-0.281</td>\n",
       "      <td>158.0</td>\n",
       "      <td>-0.172</td>\n",
       "      <td>38.0</td>\n",
       "      <td>0.280</td>\n",
       "      <td>12.0</td>\n",
       "      <td>22.74</td>\n",
       "      <td>78.0</td>\n",
       "      <td>3.06</td>\n",
       "      <td>177.0</td>\n",
       "      <td>4.11</td>\n",
       "      <td>13.0</td>\n",
       "      <td>4.58</td>\n",
       "      <td>101.0</td>\n",
       "      <td>189.0</td>\n",
       "      <td>5.0</td>\n",
       "      <td>309.3</td>\n",
       "      <td>184.0</td>\n",
       "      <td>45.56</td>\n",
       "      <td>148.0</td>\n",
       "      <td>63.41</td>\n",
       "      <td>175.0</td>\n",
       "      <td>52.83</td>\n",
       "      <td>194.0</td>\n",
       "      <td>0.91</td>\n",
       "      <td>NaN</td>\n",
       "      <td>62.5</td>\n",
       "      <td>482.82</td>\n",
       "      <td>30.18</td>\n",
       "      <td>2.0</td>\n",
       "      <td>53.9</td>\n",
       "      <td>19.02</td>\n",
       "      <td>NaN</td>\n",
       "      <td>NaN</td>\n",
       "      <td>0</td>\n",
       "    </tr>\n",
       "    <tr>\n",
       "      <th>4</th>\n",
       "      <td>2016</td>\n",
       "      <td>2016-05-29</td>\n",
       "      <td>DEAN &amp; DELUCA Invitational</td>\n",
       "      <td>Colonial Country Club</td>\n",
       "      <td>Anirban Lahiri</td>\n",
       "      <td>T6</td>\n",
       "      <td>6</td>\n",
       "      <td>97.0</td>\n",
       "      <td>0.088</td>\n",
       "      <td>95.0</td>\n",
       "      <td>0.025</td>\n",
       "      <td>90.0</td>\n",
       "      <td>0.143</td>\n",
       "      <td>130.0</td>\n",
       "      <td>-0.080</td>\n",
       "      <td>99.0</td>\n",
       "      <td>-0.020</td>\n",
       "      <td>107.0</td>\n",
       "      <td>19.73</td>\n",
       "      <td>136.0</td>\n",
       "      <td>3.09</td>\n",
       "      <td>97.0</td>\n",
       "      <td>4.05</td>\n",
       "      <td>155.0</td>\n",
       "      <td>4.74</td>\n",
       "      <td>154.0</td>\n",
       "      <td>232.0</td>\n",
       "      <td>82.0</td>\n",
       "      <td>291.7</td>\n",
       "      <td>150.0</td>\n",
       "      <td>56.31</td>\n",
       "      <td>161.0</td>\n",
       "      <td>62.88</td>\n",
       "      <td>138.0</td>\n",
       "      <td>56.4</td>\n",
       "      <td>92.0</td>\n",
       "      <td>1.63</td>\n",
       "      <td>100.0</td>\n",
       "      <td>66.7</td>\n",
       "      <td>181.00</td>\n",
       "      <td>20.11</td>\n",
       "      <td>3.0</td>\n",
       "      <td>55.4</td>\n",
       "      <td>24.06</td>\n",
       "      <td>NaN</td>\n",
       "      <td>NaN</td>\n",
       "      <td>1</td>\n",
       "    </tr>\n",
       "    <tr>\n",
       "      <th>5</th>\n",
       "      <td>2016</td>\n",
       "      <td>2016-05-29</td>\n",
       "      <td>DEAN &amp; DELUCA Invitational</td>\n",
       "      <td>Colonial Country Club</td>\n",
       "      <td>Ben Crane</td>\n",
       "      <td>T29</td>\n",
       "      <td>29</td>\n",
       "      <td>115.0</td>\n",
       "      <td>-0.028</td>\n",
       "      <td>117.0</td>\n",
       "      <td>-0.063</td>\n",
       "      <td>99.0</td>\n",
       "      <td>0.101</td>\n",
       "      <td>49.0</td>\n",
       "      <td>0.173</td>\n",
       "      <td>46.0</td>\n",
       "      <td>0.230</td>\n",
       "      <td>128.0</td>\n",
       "      <td>19.23</td>\n",
       "      <td>78.0</td>\n",
       "      <td>3.06</td>\n",
       "      <td>48.0</td>\n",
       "      <td>4.03</td>\n",
       "      <td>100.0</td>\n",
       "      <td>4.69</td>\n",
       "      <td>138.0</td>\n",
       "      <td>216.0</td>\n",
       "      <td>162.0</td>\n",
       "      <td>280.3</td>\n",
       "      <td>54.0</td>\n",
       "      <td>63.18</td>\n",
       "      <td>143.0</td>\n",
       "      <td>63.6</td>\n",
       "      <td>31.0</td>\n",
       "      <td>61.65</td>\n",
       "      <td>371.0</td>\n",
       "      <td>0.50</td>\n",
       "      <td>NaN</td>\n",
       "      <td>53.3</td>\n",
       "      <td>282.00</td>\n",
       "      <td>18.80</td>\n",
       "      <td>1.0</td>\n",
       "      <td>59.5</td>\n",
       "      <td>21.46</td>\n",
       "      <td>71.0</td>\n",
       "      <td>102.43</td>\n",
       "      <td>0</td>\n",
       "    </tr>\n",
       "    <tr>\n",
       "      <th>6</th>\n",
       "      <td>2016</td>\n",
       "      <td>2016-05-29</td>\n",
       "      <td>DEAN &amp; DELUCA Invitational</td>\n",
       "      <td>Colonial Country Club</td>\n",
       "      <td>Ben Martin</td>\n",
       "      <td>T29</td>\n",
       "      <td>29</td>\n",
       "      <td>126.0</td>\n",
       "      <td>-0.117</td>\n",
       "      <td>79.0</td>\n",
       "      <td>0.079</td>\n",
       "      <td>101.0</td>\n",
       "      <td>0.081</td>\n",
       "      <td>169.0</td>\n",
       "      <td>-0.277</td>\n",
       "      <td>70.0</td>\n",
       "      <td>0.140</td>\n",
       "      <td>29.0</td>\n",
       "      <td>21.53</td>\n",
       "      <td>146.0</td>\n",
       "      <td>3.10</td>\n",
       "      <td>97.0</td>\n",
       "      <td>4.05</td>\n",
       "      <td>28.0</td>\n",
       "      <td>4.61</td>\n",
       "      <td>71.0</td>\n",
       "      <td>174.0</td>\n",
       "      <td>108.0</td>\n",
       "      <td>288.8</td>\n",
       "      <td>66.0</td>\n",
       "      <td>62.14</td>\n",
       "      <td>64.0</td>\n",
       "      <td>66.73</td>\n",
       "      <td>160.0</td>\n",
       "      <td>54.84</td>\n",
       "      <td>123.0</td>\n",
       "      <td>1.27</td>\n",
       "      <td>NaN</td>\n",
       "      <td>64.3</td>\n",
       "      <td>257.05</td>\n",
       "      <td>18.36</td>\n",
       "      <td>0.0</td>\n",
       "      <td>58.9</td>\n",
       "      <td>21.75</td>\n",
       "      <td>10.0</td>\n",
       "      <td>14.43</td>\n",
       "      <td>0</td>\n",
       "    </tr>\n",
       "    <tr>\n",
       "      <th>7</th>\n",
       "      <td>2016</td>\n",
       "      <td>2016-05-29</td>\n",
       "      <td>DEAN &amp; DELUCA Invitational</td>\n",
       "      <td>Colonial Country Club</td>\n",
       "      <td>Bill Haas</td>\n",
       "      <td>T47</td>\n",
       "      <td>47</td>\n",
       "      <td>34.0</td>\n",
       "      <td>0.693</td>\n",
       "      <td>81.0</td>\n",
       "      <td>0.068</td>\n",
       "      <td>54.0</td>\n",
       "      <td>0.272</td>\n",
       "      <td>14.0</td>\n",
       "      <td>0.353</td>\n",
       "      <td>130.0</td>\n",
       "      <td>-0.174</td>\n",
       "      <td>172.0</td>\n",
       "      <td>17.89</td>\n",
       "      <td>22.0</td>\n",
       "      <td>3.02</td>\n",
       "      <td>68.0</td>\n",
       "      <td>4.04</td>\n",
       "      <td>100.0</td>\n",
       "      <td>4.69</td>\n",
       "      <td>55.0</td>\n",
       "      <td>159.0</td>\n",
       "      <td>97.0</td>\n",
       "      <td>289.6</td>\n",
       "      <td>62.0</td>\n",
       "      <td>62.34</td>\n",
       "      <td>57.0</td>\n",
       "      <td>67.14</td>\n",
       "      <td>12.0</td>\n",
       "      <td>63.3</td>\n",
       "      <td>44.0</td>\n",
       "      <td>2.87</td>\n",
       "      <td>40.0</td>\n",
       "      <td>76.9</td>\n",
       "      <td>912.00</td>\n",
       "      <td>70.15</td>\n",
       "      <td>1.0</td>\n",
       "      <td>35.4</td>\n",
       "      <td>13.41</td>\n",
       "      <td>NaN</td>\n",
       "      <td>NaN</td>\n",
       "      <td>0</td>\n",
       "    </tr>\n",
       "    <tr>\n",
       "      <th>8</th>\n",
       "      <td>2016</td>\n",
       "      <td>2016-05-29</td>\n",
       "      <td>DEAN &amp; DELUCA Invitational</td>\n",
       "      <td>Colonial Country Club</td>\n",
       "      <td>Blayne Barber</td>\n",
       "      <td>T34</td>\n",
       "      <td>34</td>\n",
       "      <td>97.0</td>\n",
       "      <td>0.088</td>\n",
       "      <td>98.0</td>\n",
       "      <td>0.018</td>\n",
       "      <td>94.0</td>\n",
       "      <td>0.127</td>\n",
       "      <td>121.0</td>\n",
       "      <td>-0.056</td>\n",
       "      <td>90.0</td>\n",
       "      <td>0.010</td>\n",
       "      <td>88.0</td>\n",
       "      <td>20.07</td>\n",
       "      <td>35.0</td>\n",
       "      <td>3.03</td>\n",
       "      <td>114.0</td>\n",
       "      <td>4.06</td>\n",
       "      <td>60.0</td>\n",
       "      <td>4.65</td>\n",
       "      <td>53.0</td>\n",
       "      <td>157.0</td>\n",
       "      <td>97.0</td>\n",
       "      <td>289.6</td>\n",
       "      <td>60.0</td>\n",
       "      <td>62.37</td>\n",
       "      <td>63.0</td>\n",
       "      <td>66.74</td>\n",
       "      <td>115.0</td>\n",
       "      <td>57.62</td>\n",
       "      <td>249.0</td>\n",
       "      <td>0.72</td>\n",
       "      <td>NaN</td>\n",
       "      <td>37.5</td>\n",
       "      <td>260.34</td>\n",
       "      <td>16.27</td>\n",
       "      <td>0.0</td>\n",
       "      <td>71.1</td>\n",
       "      <td>25.10</td>\n",
       "      <td>NaN</td>\n",
       "      <td>NaN</td>\n",
       "      <td>0</td>\n",
       "    </tr>\n",
       "    <tr>\n",
       "      <th>9</th>\n",
       "      <td>2016</td>\n",
       "      <td>2016-05-29</td>\n",
       "      <td>DEAN &amp; DELUCA Invitational</td>\n",
       "      <td>Colonial Country Club</td>\n",
       "      <td>Boo Weekley</td>\n",
       "      <td>CUT</td>\n",
       "      <td>90</td>\n",
       "      <td>69.0</td>\n",
       "      <td>0.307</td>\n",
       "      <td>14.0</td>\n",
       "      <td>0.571</td>\n",
       "      <td>127.0</td>\n",
       "      <td>-0.090</td>\n",
       "      <td>159.0</td>\n",
       "      <td>-0.174</td>\n",
       "      <td>144.0</td>\n",
       "      <td>-0.225</td>\n",
       "      <td>52.0</td>\n",
       "      <td>20.88</td>\n",
       "      <td>102.0</td>\n",
       "      <td>3.07</td>\n",
       "      <td>97.0</td>\n",
       "      <td>4.05</td>\n",
       "      <td>24.0</td>\n",
       "      <td>4.60</td>\n",
       "      <td>11.0</td>\n",
       "      <td>100.0</td>\n",
       "      <td>84.0</td>\n",
       "      <td>291.5</td>\n",
       "      <td>16.0</td>\n",
       "      <td>66.98</td>\n",
       "      <td>41.0</td>\n",
       "      <td>67.87</td>\n",
       "      <td>94.0</td>\n",
       "      <td>58.33</td>\n",
       "      <td>202.0</td>\n",
       "      <td>0.88</td>\n",
       "      <td>80.0</td>\n",
       "      <td>58.8</td>\n",
       "      <td>398.55</td>\n",
       "      <td>23.44</td>\n",
       "      <td>5.0</td>\n",
       "      <td>56.5</td>\n",
       "      <td>19.55</td>\n",
       "      <td>33.0</td>\n",
       "      <td>47.61</td>\n",
       "      <td>0</td>\n",
       "    </tr>\n",
       "  </tbody>\n",
       "</table>\n",
       "</div>"
      ],
      "text/plain": [
       "   SEASON ENDING_DATE                  TOURNAMENT                 COURSE  \\\n",
       "0    2016  2016-05-29  DEAN & DELUCA Invitational  Colonial Country Club   \n",
       "1    2016  2016-05-29  DEAN & DELUCA Invitational  Colonial Country Club   \n",
       "2    2016  2016-05-29  DEAN & DELUCA Invitational  Colonial Country Club   \n",
       "3    2016  2016-05-29  DEAN & DELUCA Invitational  Colonial Country Club   \n",
       "4    2016  2016-05-29  DEAN & DELUCA Invitational  Colonial Country Club   \n",
       "5    2016  2016-05-29  DEAN & DELUCA Invitational  Colonial Country Club   \n",
       "6    2016  2016-05-29  DEAN & DELUCA Invitational  Colonial Country Club   \n",
       "7    2016  2016-05-29  DEAN & DELUCA Invitational  Colonial Country Club   \n",
       "8    2016  2016-05-29  DEAN & DELUCA Invitational  Colonial Country Club   \n",
       "9    2016  2016-05-29  DEAN & DELUCA Invitational  Colonial Country Club   \n",
       "\n",
       "           PLAYER  POS  FINAL_POS  SGTTG_RANK  SGTTG  SGOTT_RANK  SGOTT  \\\n",
       "0  Aaron Baddeley  T55         55       146.0 -0.330       159.0 -0.366   \n",
       "1     Adam Hadwin  T22         22       111.0 -0.011        55.0  0.223   \n",
       "2      Adam Scott  T55         55         1.0  2.062        20.0  0.522   \n",
       "3    Andrew Loupe  CUT         90       150.0 -0.395       105.0 -0.005   \n",
       "4  Anirban Lahiri   T6          6        97.0  0.088        95.0  0.025   \n",
       "5       Ben Crane  T29         29       115.0 -0.028       117.0 -0.063   \n",
       "6      Ben Martin  T29         29       126.0 -0.117        79.0  0.079   \n",
       "7       Bill Haas  T47         47        34.0  0.693        81.0  0.068   \n",
       "8   Blayne Barber  T34         34        97.0  0.088        98.0  0.018   \n",
       "9     Boo Weekley  CUT         90        69.0  0.307        14.0  0.571   \n",
       "\n",
       "   SGAPR_RANK  SGAPR  SGATG_RANK  SGATG  SGP_RANK    SGP  BIRDIES_RANK  \\\n",
       "0       164.0 -0.362        10.0  0.402       8.0  0.586          59.0   \n",
       "1       121.0 -0.055       132.0 -0.081      11.0  0.530          22.0   \n",
       "2         1.0  1.491        83.0  0.049     129.0 -0.168           9.0   \n",
       "3       154.0 -0.281       158.0 -0.172      38.0  0.280          12.0   \n",
       "4        90.0  0.143       130.0 -0.080      99.0 -0.020         107.0   \n",
       "5        99.0  0.101        49.0  0.173      46.0  0.230         128.0   \n",
       "6       101.0  0.081       169.0 -0.277      70.0  0.140          29.0   \n",
       "7        54.0  0.272        14.0  0.353     130.0 -0.174         172.0   \n",
       "8        94.0  0.127       121.0 -0.056      90.0  0.010          88.0   \n",
       "9       127.0 -0.090       159.0 -0.174     144.0 -0.225          52.0   \n",
       "\n",
       "  BIRDIES  PAR_3_RANK  PAR_3  PAR_4_RANK  PAR_4  PAR_5_RANK  PAR_5  \\\n",
       "0   20.72        78.0   3.06        14.0   4.01        50.0   4.64   \n",
       "1   21.74        16.0   3.01        48.0   4.03        68.0   4.66   \n",
       "2   22.88        10.0   3.00         8.0   4.00        13.0   4.58   \n",
       "3   22.74        78.0   3.06       177.0   4.11        13.0   4.58   \n",
       "4   19.73       136.0   3.09        97.0   4.05       155.0   4.74   \n",
       "5   19.23        78.0   3.06        48.0   4.03       100.0   4.69   \n",
       "6   21.53       146.0   3.10        97.0   4.05        28.0   4.61   \n",
       "7   17.89        22.0   3.02        68.0   4.04       100.0   4.69   \n",
       "8   20.07        35.0   3.03       114.0   4.06        60.0   4.65   \n",
       "9   20.88       102.0   3.07        97.0   4.05        24.0   4.60   \n",
       "\n",
       "   TOTAL_DRIVING_RANK  TOTAL_DRIVING  DRIVING_DISTANCE_RANK  DRIVING_DISTANCE  \\\n",
       "0               159.0          237.0                   82.0             291.7   \n",
       "1                35.0          141.0                   92.0             290.1   \n",
       "2                64.0          166.0                   13.0             304.6   \n",
       "3               101.0          189.0                    5.0             309.3   \n",
       "4               154.0          232.0                   82.0             291.7   \n",
       "5               138.0          216.0                  162.0             280.3   \n",
       "6                71.0          174.0                  108.0             288.8   \n",
       "7                55.0          159.0                   97.0             289.6   \n",
       "8                53.0          157.0                   97.0             289.6   \n",
       "9                11.0          100.0                   84.0             291.5   \n",
       "\n",
       "   DRIVING_ACCURACY_RANK DRIVING_ACCURACY  GIR_RANK    GIR  SCRAMBLING_RANK  \\\n",
       "0                  155.0            55.42     154.0  63.11              5.0   \n",
       "1                   49.0            63.62      83.0  66.07             97.0   \n",
       "2                  153.0            55.55       3.0  70.76             74.0   \n",
       "3                  184.0            45.56     148.0  63.41            175.0   \n",
       "4                  150.0            56.31     161.0  62.88            138.0   \n",
       "5                   54.0            63.18     143.0   63.6             31.0   \n",
       "6                   66.0            62.14      64.0  66.73            160.0   \n",
       "7                   62.0            62.34      57.0  67.14             12.0   \n",
       "8                   60.0            62.37      63.0  66.74            115.0   \n",
       "9                   16.0            66.98      41.0  67.87             94.0   \n",
       "\n",
       "  SCRAMBLING  OWGR_RANK  OWGR  VEGAS_ODDS  CUT_PERCENTAGE  FEDEX_CUP_POINTS  \\\n",
       "0       64.3      143.0  1.14         NaN            60.0            365.00   \n",
       "1      58.27      193.0  0.91         NaN            70.6            378.67   \n",
       "2       59.5        6.0  7.07        12.0           100.0            958.35   \n",
       "3      52.83      194.0  0.91         NaN            62.5            482.82   \n",
       "4       56.4       92.0  1.63       100.0            66.7            181.00   \n",
       "5      61.65      371.0  0.50         NaN            53.3            282.00   \n",
       "6      54.84      123.0  1.27         NaN            64.3            257.05   \n",
       "7       63.3       44.0  2.87        40.0            76.9            912.00   \n",
       "8      57.62      249.0  0.72         NaN            37.5            260.34   \n",
       "9      58.33      202.0  0.88        80.0            58.8            398.55   \n",
       "\n",
       "   form_density  CONSECUTIVE_CUTS  RECENT_FORM  adj_form  COURSE_HISTORY  \\\n",
       "0         24.33               0.0         54.0     19.48            90.0   \n",
       "1         22.27               4.0         53.6     18.54             5.0   \n",
       "2        136.91               7.0         20.3      9.76            24.0   \n",
       "3         30.18               2.0         53.9     19.02             NaN   \n",
       "4         20.11               3.0         55.4     24.06             NaN   \n",
       "5         18.80               1.0         59.5     21.46            71.0   \n",
       "6         18.36               0.0         58.9     21.75            10.0   \n",
       "7         70.15               1.0         35.4     13.41             NaN   \n",
       "8         16.27               0.0         71.1     25.10             NaN   \n",
       "9         23.44               5.0         56.5     19.55            33.0   \n",
       "\n",
       "   adj_ch  TOP_20  \n",
       "0  129.84       0  \n",
       "1    7.21       0  \n",
       "2   34.62       0  \n",
       "3     NaN       0  \n",
       "4     NaN       1  \n",
       "5  102.43       0  \n",
       "6   14.43       0  \n",
       "7     NaN       0  \n",
       "8     NaN       0  \n",
       "9   47.61       0  "
      ]
     },
     "execution_count": 6,
     "metadata": {},
     "output_type": "execute_result"
    }
   ],
   "source": [
    "pd.set_option(\"display.max_columns\", None)   # Show all columns\n",
    "importlib.reload(utils.db_utils)\n",
    "from utils.db_utils import build_training_rows\n",
    "training_df = build_training_rows(\n",
    "    db_path,\n",
    "    history_df,\n",
    "    cuts,\n",
    "    recent_form,\n",
    "    course_hist,\n",
    ")\n",
    "training_df.head(10)\n",
    "# training_df.info()\n",
    "# training_df.isna().sum().sort_values(ascending=False)"
   ]
  },
  {
   "cell_type": "code",
   "execution_count": 7,
   "id": "c5df12cc",
   "metadata": {},
   "outputs": [
    {
     "data": {
      "text/html": [
       "<div>\n",
       "<style scoped>\n",
       "    .dataframe tbody tr th:only-of-type {\n",
       "        vertical-align: middle;\n",
       "    }\n",
       "\n",
       "    .dataframe tbody tr th {\n",
       "        vertical-align: top;\n",
       "    }\n",
       "\n",
       "    .dataframe thead th {\n",
       "        text-align: right;\n",
       "    }\n",
       "</style>\n",
       "<table border=\"1\" class=\"dataframe\">\n",
       "  <thead>\n",
       "    <tr style=\"text-align: right;\">\n",
       "      <th></th>\n",
       "      <th>SEASON</th>\n",
       "      <th>ENDING_DATE</th>\n",
       "      <th>TOURNAMENT</th>\n",
       "      <th>COURSE</th>\n",
       "      <th>PLAYER</th>\n",
       "      <th>POS</th>\n",
       "      <th>FINAL_POS</th>\n",
       "      <th>SGTTG_RANK</th>\n",
       "      <th>SGTTG</th>\n",
       "      <th>SGOTT_RANK</th>\n",
       "      <th>SGOTT</th>\n",
       "      <th>SGAPR_RANK</th>\n",
       "      <th>SGAPR</th>\n",
       "      <th>SGATG_RANK</th>\n",
       "      <th>SGATG</th>\n",
       "      <th>SGP_RANK</th>\n",
       "      <th>SGP</th>\n",
       "      <th>BIRDIES_RANK</th>\n",
       "      <th>BIRDIES</th>\n",
       "      <th>PAR_3_RANK</th>\n",
       "      <th>PAR_3</th>\n",
       "      <th>PAR_4_RANK</th>\n",
       "      <th>PAR_4</th>\n",
       "      <th>PAR_5_RANK</th>\n",
       "      <th>PAR_5</th>\n",
       "      <th>TOTAL_DRIVING_RANK</th>\n",
       "      <th>TOTAL_DRIVING</th>\n",
       "      <th>DRIVING_DISTANCE_RANK</th>\n",
       "      <th>DRIVING_DISTANCE</th>\n",
       "      <th>DRIVING_ACCURACY_RANK</th>\n",
       "      <th>DRIVING_ACCURACY</th>\n",
       "      <th>GIR_RANK</th>\n",
       "      <th>GIR</th>\n",
       "      <th>SCRAMBLING_RANK</th>\n",
       "      <th>SCRAMBLING</th>\n",
       "      <th>OWGR_RANK</th>\n",
       "      <th>OWGR</th>\n",
       "      <th>VEGAS_ODDS</th>\n",
       "      <th>CUT_PERCENTAGE</th>\n",
       "      <th>FEDEX_CUP_POINTS</th>\n",
       "      <th>form_density</th>\n",
       "      <th>CONSECUTIVE_CUTS</th>\n",
       "      <th>RECENT_FORM</th>\n",
       "      <th>adj_form</th>\n",
       "      <th>COURSE_HISTORY</th>\n",
       "      <th>adj_ch</th>\n",
       "      <th>TOP_20</th>\n",
       "    </tr>\n",
       "  </thead>\n",
       "  <tbody>\n",
       "    <tr>\n",
       "      <th>993</th>\n",
       "      <td>2024</td>\n",
       "      <td>2024-05-26</td>\n",
       "      <td>Charles Schwab Challenge</td>\n",
       "      <td>Colonial Country Club</td>\n",
       "      <td>Aaron Rai</td>\n",
       "      <td>T32</td>\n",
       "      <td>32</td>\n",
       "      <td>9.0</td>\n",
       "      <td>1.131</td>\n",
       "      <td>36.0</td>\n",
       "      <td>0.303</td>\n",
       "      <td>8.0</td>\n",
       "      <td>0.676</td>\n",
       "      <td>56.0</td>\n",
       "      <td>0.152</td>\n",
       "      <td>83.0</td>\n",
       "      <td>0.054</td>\n",
       "      <td>99.0</td>\n",
       "      <td>22.10%</td>\n",
       "      <td>38.0</td>\n",
       "      <td>3.01</td>\n",
       "      <td>10.0</td>\n",
       "      <td>3.97</td>\n",
       "      <td>44.0</td>\n",
       "      <td>4.54</td>\n",
       "      <td>53.0</td>\n",
       "      <td>153.0</td>\n",
       "      <td>152.0</td>\n",
       "      <td>293.8</td>\n",
       "      <td>1.0</td>\n",
       "      <td>72.02%</td>\n",
       "      <td>7.0</td>\n",
       "      <td>71.58%</td>\n",
       "      <td>33.0</td>\n",
       "      <td>63.18%</td>\n",
       "      <td>21.0</td>\n",
       "      <td>3.2294</td>\n",
       "      <td>50.0</td>\n",
       "      <td>76.9</td>\n",
       "      <td>368.707</td>\n",
       "      <td>28.36</td>\n",
       "      <td>4.0</td>\n",
       "      <td>43.9</td>\n",
       "      <td>16.63</td>\n",
       "      <td>40.0</td>\n",
       "      <td>36.41</td>\n",
       "      <td>0</td>\n",
       "    </tr>\n",
       "    <tr>\n",
       "      <th>994</th>\n",
       "      <td>2024</td>\n",
       "      <td>2024-05-26</td>\n",
       "      <td>Charles Schwab Challenge</td>\n",
       "      <td>Colonial Country Club</td>\n",
       "      <td>Adam Schenk</td>\n",
       "      <td>W/D</td>\n",
       "      <td>90</td>\n",
       "      <td>146.0</td>\n",
       "      <td>-0.421</td>\n",
       "      <td>53.0</td>\n",
       "      <td>0.212</td>\n",
       "      <td>166.0</td>\n",
       "      <td>-0.520</td>\n",
       "      <td>130.0</td>\n",
       "      <td>-0.114</td>\n",
       "      <td>85.0</td>\n",
       "      <td>0.051</td>\n",
       "      <td>132.0</td>\n",
       "      <td>21.24%</td>\n",
       "      <td>152.0</td>\n",
       "      <td>3.09</td>\n",
       "      <td>131.0</td>\n",
       "      <td>4.04</td>\n",
       "      <td>116.0</td>\n",
       "      <td>4.61</td>\n",
       "      <td>102.0</td>\n",
       "      <td>180.0</td>\n",
       "      <td>82.0</td>\n",
       "      <td>302.4</td>\n",
       "      <td>98.0</td>\n",
       "      <td>59.93%</td>\n",
       "      <td>149.0</td>\n",
       "      <td>64.50%</td>\n",
       "      <td>74.0</td>\n",
       "      <td>60.50%</td>\n",
       "      <td>82.0</td>\n",
       "      <td>1.4461</td>\n",
       "      <td>80.0</td>\n",
       "      <td>73.7</td>\n",
       "      <td>568.417</td>\n",
       "      <td>29.92</td>\n",
       "      <td>0.0</td>\n",
       "      <td>46.8</td>\n",
       "      <td>15.62</td>\n",
       "      <td>63.3</td>\n",
       "      <td>32.53</td>\n",
       "      <td>0</td>\n",
       "    </tr>\n",
       "    <tr>\n",
       "      <th>995</th>\n",
       "      <td>2024</td>\n",
       "      <td>2024-05-26</td>\n",
       "      <td>Charles Schwab Challenge</td>\n",
       "      <td>Colonial Country Club</td>\n",
       "      <td>Adam Scott</td>\n",
       "      <td>T12</td>\n",
       "      <td>12</td>\n",
       "      <td>38.0</td>\n",
       "      <td>0.540</td>\n",
       "      <td>33.0</td>\n",
       "      <td>0.322</td>\n",
       "      <td>87.0</td>\n",
       "      <td>0.114</td>\n",
       "      <td>67.0</td>\n",
       "      <td>0.104</td>\n",
       "      <td>29.0</td>\n",
       "      <td>0.398</td>\n",
       "      <td>79.0</td>\n",
       "      <td>22.54%</td>\n",
       "      <td>38.0</td>\n",
       "      <td>3.01</td>\n",
       "      <td>57.0</td>\n",
       "      <td>4.00</td>\n",
       "      <td>44.0</td>\n",
       "      <td>4.54</td>\n",
       "      <td>75.0</td>\n",
       "      <td>170.0</td>\n",
       "      <td>49.0</td>\n",
       "      <td>307.1</td>\n",
       "      <td>121.0</td>\n",
       "      <td>58.28%</td>\n",
       "      <td>102.0</td>\n",
       "      <td>66.35%</td>\n",
       "      <td>45.0</td>\n",
       "      <td>62.09%</td>\n",
       "      <td>20.0</td>\n",
       "      <td>3.2584</td>\n",
       "      <td>60.0</td>\n",
       "      <td>83.3</td>\n",
       "      <td>577.232</td>\n",
       "      <td>48.10</td>\n",
       "      <td>0.0</td>\n",
       "      <td>34.4</td>\n",
       "      <td>13.41</td>\n",
       "      <td>52.0</td>\n",
       "      <td>75.02</td>\n",
       "      <td>1</td>\n",
       "    </tr>\n",
       "    <tr>\n",
       "      <th>996</th>\n",
       "      <td>2024</td>\n",
       "      <td>2024-05-26</td>\n",
       "      <td>Charles Schwab Challenge</td>\n",
       "      <td>Colonial Country Club</td>\n",
       "      <td>Adam Svensson</td>\n",
       "      <td>T24</td>\n",
       "      <td>24</td>\n",
       "      <td>33.0</td>\n",
       "      <td>0.592</td>\n",
       "      <td>99.0</td>\n",
       "      <td>0.019</td>\n",
       "      <td>28.0</td>\n",
       "      <td>0.380</td>\n",
       "      <td>39.0</td>\n",
       "      <td>0.193</td>\n",
       "      <td>164.0</td>\n",
       "      <td>-0.453</td>\n",
       "      <td>153.0</td>\n",
       "      <td>20.41%</td>\n",
       "      <td>142.0</td>\n",
       "      <td>3.08</td>\n",
       "      <td>85.0</td>\n",
       "      <td>4.01</td>\n",
       "      <td>121.0</td>\n",
       "      <td>4.62</td>\n",
       "      <td>62.0</td>\n",
       "      <td>158.0</td>\n",
       "      <td>118.0</td>\n",
       "      <td>298.3</td>\n",
       "      <td>40.0</td>\n",
       "      <td>64.18%</td>\n",
       "      <td>88.0</td>\n",
       "      <td>67.13%</td>\n",
       "      <td>60.0</td>\n",
       "      <td>61.39%</td>\n",
       "      <td>112.0</td>\n",
       "      <td>1.1671</td>\n",
       "      <td>100.0</td>\n",
       "      <td>75.0</td>\n",
       "      <td>275.228</td>\n",
       "      <td>13.76</td>\n",
       "      <td>6.0</td>\n",
       "      <td>49.3</td>\n",
       "      <td>16.19</td>\n",
       "      <td>40.0</td>\n",
       "      <td>57.71</td>\n",
       "      <td>0</td>\n",
       "    </tr>\n",
       "    <tr>\n",
       "      <th>997</th>\n",
       "      <td>2024</td>\n",
       "      <td>2024-05-26</td>\n",
       "      <td>Charles Schwab Challenge</td>\n",
       "      <td>Colonial Country Club</td>\n",
       "      <td>Akshay Bhatia</td>\n",
       "      <td>CUT</td>\n",
       "      <td>90</td>\n",
       "      <td>56.0</td>\n",
       "      <td>0.403</td>\n",
       "      <td>58.0</td>\n",
       "      <td>0.188</td>\n",
       "      <td>51.0</td>\n",
       "      <td>0.264</td>\n",
       "      <td>119.0</td>\n",
       "      <td>-0.048</td>\n",
       "      <td>34.0</td>\n",
       "      <td>0.345</td>\n",
       "      <td>87.0</td>\n",
       "      <td>22.35%</td>\n",
       "      <td>52.0</td>\n",
       "      <td>3.02</td>\n",
       "      <td>85.0</td>\n",
       "      <td>4.01</td>\n",
       "      <td>77.0</td>\n",
       "      <td>4.57</td>\n",
       "      <td>28.0</td>\n",
       "      <td>133.0</td>\n",
       "      <td>104.0</td>\n",
       "      <td>299.8</td>\n",
       "      <td>29.0</td>\n",
       "      <td>65.50%</td>\n",
       "      <td>114.0</td>\n",
       "      <td>66.02%</td>\n",
       "      <td>54.0</td>\n",
       "      <td>61.79%</td>\n",
       "      <td>29.0</td>\n",
       "      <td>2.7339</td>\n",
       "      <td>60.0</td>\n",
       "      <td>71.4</td>\n",
       "      <td>1143.376</td>\n",
       "      <td>54.45</td>\n",
       "      <td>0.0</td>\n",
       "      <td>41.5</td>\n",
       "      <td>13.43</td>\n",
       "      <td>56.0</td>\n",
       "      <td>80.79</td>\n",
       "      <td>0</td>\n",
       "    </tr>\n",
       "    <tr>\n",
       "      <th>...</th>\n",
       "      <td>...</td>\n",
       "      <td>...</td>\n",
       "      <td>...</td>\n",
       "      <td>...</td>\n",
       "      <td>...</td>\n",
       "      <td>...</td>\n",
       "      <td>...</td>\n",
       "      <td>...</td>\n",
       "      <td>...</td>\n",
       "      <td>...</td>\n",
       "      <td>...</td>\n",
       "      <td>...</td>\n",
       "      <td>...</td>\n",
       "      <td>...</td>\n",
       "      <td>...</td>\n",
       "      <td>...</td>\n",
       "      <td>...</td>\n",
       "      <td>...</td>\n",
       "      <td>...</td>\n",
       "      <td>...</td>\n",
       "      <td>...</td>\n",
       "      <td>...</td>\n",
       "      <td>...</td>\n",
       "      <td>...</td>\n",
       "      <td>...</td>\n",
       "      <td>...</td>\n",
       "      <td>...</td>\n",
       "      <td>...</td>\n",
       "      <td>...</td>\n",
       "      <td>...</td>\n",
       "      <td>...</td>\n",
       "      <td>...</td>\n",
       "      <td>...</td>\n",
       "      <td>...</td>\n",
       "      <td>...</td>\n",
       "      <td>...</td>\n",
       "      <td>...</td>\n",
       "      <td>...</td>\n",
       "      <td>...</td>\n",
       "      <td>...</td>\n",
       "      <td>...</td>\n",
       "      <td>...</td>\n",
       "      <td>...</td>\n",
       "      <td>...</td>\n",
       "      <td>...</td>\n",
       "      <td>...</td>\n",
       "      <td>...</td>\n",
       "    </tr>\n",
       "    <tr>\n",
       "      <th>1120</th>\n",
       "      <td>2024</td>\n",
       "      <td>2024-05-26</td>\n",
       "      <td>Charles Schwab Challenge</td>\n",
       "      <td>Colonial Country Club</td>\n",
       "      <td>Vincent Norrman</td>\n",
       "      <td>T70</td>\n",
       "      <td>70</td>\n",
       "      <td>145.0</td>\n",
       "      <td>-0.420</td>\n",
       "      <td>52.0</td>\n",
       "      <td>0.214</td>\n",
       "      <td>142.0</td>\n",
       "      <td>-0.313</td>\n",
       "      <td>162.0</td>\n",
       "      <td>-0.322</td>\n",
       "      <td>177.0</td>\n",
       "      <td>-0.954</td>\n",
       "      <td>177.0</td>\n",
       "      <td>16.89%</td>\n",
       "      <td>114.0</td>\n",
       "      <td>3.06</td>\n",
       "      <td>177.0</td>\n",
       "      <td>4.14</td>\n",
       "      <td>147.0</td>\n",
       "      <td>4.65</td>\n",
       "      <td>42.0</td>\n",
       "      <td>144.0</td>\n",
       "      <td>22.0</td>\n",
       "      <td>311.0</td>\n",
       "      <td>122.0</td>\n",
       "      <td>58.27%</td>\n",
       "      <td>56.0</td>\n",
       "      <td>68.25%</td>\n",
       "      <td>175.0</td>\n",
       "      <td>51.79%</td>\n",
       "      <td>193.0</td>\n",
       "      <td>0.7219</td>\n",
       "      <td>300.0</td>\n",
       "      <td>46.2</td>\n",
       "      <td>50.800</td>\n",
       "      <td>3.91</td>\n",
       "      <td>0.0</td>\n",
       "      <td>73.7</td>\n",
       "      <td>27.93</td>\n",
       "      <td>48.0</td>\n",
       "      <td>69.25</td>\n",
       "      <td>0</td>\n",
       "    </tr>\n",
       "    <tr>\n",
       "      <th>1121</th>\n",
       "      <td>2024</td>\n",
       "      <td>2024-05-26</td>\n",
       "      <td>Charles Schwab Challenge</td>\n",
       "      <td>Colonial Country Club</td>\n",
       "      <td>Webb Simpson</td>\n",
       "      <td>T50</td>\n",
       "      <td>50</td>\n",
       "      <td>NaN</td>\n",
       "      <td>NaN</td>\n",
       "      <td>NaN</td>\n",
       "      <td>NaN</td>\n",
       "      <td>NaN</td>\n",
       "      <td>NaN</td>\n",
       "      <td>NaN</td>\n",
       "      <td>NaN</td>\n",
       "      <td>NaN</td>\n",
       "      <td>NaN</td>\n",
       "      <td>NaN</td>\n",
       "      <td>None</td>\n",
       "      <td>NaN</td>\n",
       "      <td>NaN</td>\n",
       "      <td>NaN</td>\n",
       "      <td>NaN</td>\n",
       "      <td>NaN</td>\n",
       "      <td>NaN</td>\n",
       "      <td>NaN</td>\n",
       "      <td>NaN</td>\n",
       "      <td>NaN</td>\n",
       "      <td>NaN</td>\n",
       "      <td>NaN</td>\n",
       "      <td>None</td>\n",
       "      <td>NaN</td>\n",
       "      <td>None</td>\n",
       "      <td>NaN</td>\n",
       "      <td>None</td>\n",
       "      <td>305.0</td>\n",
       "      <td>0.4596</td>\n",
       "      <td>125.0</td>\n",
       "      <td>72.7</td>\n",
       "      <td>172.393</td>\n",
       "      <td>15.67</td>\n",
       "      <td>4.0</td>\n",
       "      <td>56.0</td>\n",
       "      <td>22.54</td>\n",
       "      <td>53.0</td>\n",
       "      <td>32.93</td>\n",
       "      <td>0</td>\n",
       "    </tr>\n",
       "    <tr>\n",
       "      <th>1122</th>\n",
       "      <td>2024</td>\n",
       "      <td>2024-05-26</td>\n",
       "      <td>Charles Schwab Challenge</td>\n",
       "      <td>Colonial Country Club</td>\n",
       "      <td>Wesley Bryan</td>\n",
       "      <td>CUT</td>\n",
       "      <td>90</td>\n",
       "      <td>NaN</td>\n",
       "      <td>NaN</td>\n",
       "      <td>NaN</td>\n",
       "      <td>NaN</td>\n",
       "      <td>NaN</td>\n",
       "      <td>NaN</td>\n",
       "      <td>NaN</td>\n",
       "      <td>NaN</td>\n",
       "      <td>NaN</td>\n",
       "      <td>NaN</td>\n",
       "      <td>NaN</td>\n",
       "      <td>None</td>\n",
       "      <td>NaN</td>\n",
       "      <td>NaN</td>\n",
       "      <td>NaN</td>\n",
       "      <td>NaN</td>\n",
       "      <td>NaN</td>\n",
       "      <td>NaN</td>\n",
       "      <td>NaN</td>\n",
       "      <td>NaN</td>\n",
       "      <td>NaN</td>\n",
       "      <td>NaN</td>\n",
       "      <td>NaN</td>\n",
       "      <td>None</td>\n",
       "      <td>NaN</td>\n",
       "      <td>None</td>\n",
       "      <td>NaN</td>\n",
       "      <td>None</td>\n",
       "      <td>264.0</td>\n",
       "      <td>0.5372</td>\n",
       "      <td>500.0</td>\n",
       "      <td>60.0</td>\n",
       "      <td>29.456</td>\n",
       "      <td>5.89</td>\n",
       "      <td>0.0</td>\n",
       "      <td>64.6</td>\n",
       "      <td>36.05</td>\n",
       "      <td>59.5</td>\n",
       "      <td>54.16</td>\n",
       "      <td>0</td>\n",
       "    </tr>\n",
       "    <tr>\n",
       "      <th>1123</th>\n",
       "      <td>2024</td>\n",
       "      <td>2024-05-26</td>\n",
       "      <td>Charles Schwab Challenge</td>\n",
       "      <td>Colonial Country Club</td>\n",
       "      <td>Zac Blair</td>\n",
       "      <td>CUT</td>\n",
       "      <td>90</td>\n",
       "      <td>105.0</td>\n",
       "      <td>-0.018</td>\n",
       "      <td>151.0</td>\n",
       "      <td>-0.282</td>\n",
       "      <td>93.0</td>\n",
       "      <td>0.083</td>\n",
       "      <td>42.0</td>\n",
       "      <td>0.181</td>\n",
       "      <td>118.0</td>\n",
       "      <td>-0.087</td>\n",
       "      <td>163.0</td>\n",
       "      <td>19.97%</td>\n",
       "      <td>52.0</td>\n",
       "      <td>3.02</td>\n",
       "      <td>85.0</td>\n",
       "      <td>4.01</td>\n",
       "      <td>163.0</td>\n",
       "      <td>4.69</td>\n",
       "      <td>118.0</td>\n",
       "      <td>190.0</td>\n",
       "      <td>174.0</td>\n",
       "      <td>283.6</td>\n",
       "      <td>16.0</td>\n",
       "      <td>67.21%</td>\n",
       "      <td>125.0</td>\n",
       "      <td>65.56%</td>\n",
       "      <td>36.0</td>\n",
       "      <td>62.67%</td>\n",
       "      <td>144.0</td>\n",
       "      <td>0.9649</td>\n",
       "      <td>600.0</td>\n",
       "      <td>52.9</td>\n",
       "      <td>91.811</td>\n",
       "      <td>5.40</td>\n",
       "      <td>1.0</td>\n",
       "      <td>69.0</td>\n",
       "      <td>23.87</td>\n",
       "      <td>78.3</td>\n",
       "      <td>56.48</td>\n",
       "      <td>0</td>\n",
       "    </tr>\n",
       "    <tr>\n",
       "      <th>1124</th>\n",
       "      <td>2024</td>\n",
       "      <td>2024-05-26</td>\n",
       "      <td>Charles Schwab Challenge</td>\n",
       "      <td>Colonial Country Club</td>\n",
       "      <td>Zach Johnson</td>\n",
       "      <td>T45</td>\n",
       "      <td>45</td>\n",
       "      <td>127.0</td>\n",
       "      <td>-0.153</td>\n",
       "      <td>125.0</td>\n",
       "      <td>-0.126</td>\n",
       "      <td>123.0</td>\n",
       "      <td>-0.128</td>\n",
       "      <td>69.0</td>\n",
       "      <td>0.101</td>\n",
       "      <td>21.0</td>\n",
       "      <td>0.450</td>\n",
       "      <td>75.0</td>\n",
       "      <td>22.67%</td>\n",
       "      <td>21.0</td>\n",
       "      <td>3.00</td>\n",
       "      <td>43.0</td>\n",
       "      <td>3.99</td>\n",
       "      <td>160.0</td>\n",
       "      <td>4.68</td>\n",
       "      <td>124.0</td>\n",
       "      <td>199.0</td>\n",
       "      <td>172.0</td>\n",
       "      <td>284.1</td>\n",
       "      <td>27.0</td>\n",
       "      <td>65.89%</td>\n",
       "      <td>95.0</td>\n",
       "      <td>66.91%</td>\n",
       "      <td>67.0</td>\n",
       "      <td>60.95%</td>\n",
       "      <td>289.0</td>\n",
       "      <td>0.4892</td>\n",
       "      <td>300.0</td>\n",
       "      <td>40.0</td>\n",
       "      <td>113.529</td>\n",
       "      <td>11.35</td>\n",
       "      <td>1.0</td>\n",
       "      <td>66.6</td>\n",
       "      <td>27.77</td>\n",
       "      <td>61.6</td>\n",
       "      <td>29.62</td>\n",
       "      <td>0</td>\n",
       "    </tr>\n",
       "  </tbody>\n",
       "</table>\n",
       "<p>132 rows × 47 columns</p>\n",
       "</div>"
      ],
      "text/plain": [
       "      SEASON ENDING_DATE                TOURNAMENT                 COURSE  \\\n",
       "993     2024  2024-05-26  Charles Schwab Challenge  Colonial Country Club   \n",
       "994     2024  2024-05-26  Charles Schwab Challenge  Colonial Country Club   \n",
       "995     2024  2024-05-26  Charles Schwab Challenge  Colonial Country Club   \n",
       "996     2024  2024-05-26  Charles Schwab Challenge  Colonial Country Club   \n",
       "997     2024  2024-05-26  Charles Schwab Challenge  Colonial Country Club   \n",
       "...      ...         ...                       ...                    ...   \n",
       "1120    2024  2024-05-26  Charles Schwab Challenge  Colonial Country Club   \n",
       "1121    2024  2024-05-26  Charles Schwab Challenge  Colonial Country Club   \n",
       "1122    2024  2024-05-26  Charles Schwab Challenge  Colonial Country Club   \n",
       "1123    2024  2024-05-26  Charles Schwab Challenge  Colonial Country Club   \n",
       "1124    2024  2024-05-26  Charles Schwab Challenge  Colonial Country Club   \n",
       "\n",
       "               PLAYER  POS  FINAL_POS  SGTTG_RANK  SGTTG  SGOTT_RANK  SGOTT  \\\n",
       "993         Aaron Rai  T32         32         9.0  1.131        36.0  0.303   \n",
       "994       Adam Schenk  W/D         90       146.0 -0.421        53.0  0.212   \n",
       "995        Adam Scott  T12         12        38.0  0.540        33.0  0.322   \n",
       "996     Adam Svensson  T24         24        33.0  0.592        99.0  0.019   \n",
       "997     Akshay Bhatia  CUT         90        56.0  0.403        58.0  0.188   \n",
       "...               ...  ...        ...         ...    ...         ...    ...   \n",
       "1120  Vincent Norrman  T70         70       145.0 -0.420        52.0  0.214   \n",
       "1121     Webb Simpson  T50         50         NaN    NaN         NaN    NaN   \n",
       "1122     Wesley Bryan  CUT         90         NaN    NaN         NaN    NaN   \n",
       "1123        Zac Blair  CUT         90       105.0 -0.018       151.0 -0.282   \n",
       "1124     Zach Johnson  T45         45       127.0 -0.153       125.0 -0.126   \n",
       "\n",
       "      SGAPR_RANK  SGAPR  SGATG_RANK  SGATG  SGP_RANK    SGP  BIRDIES_RANK  \\\n",
       "993          8.0  0.676        56.0  0.152      83.0  0.054          99.0   \n",
       "994        166.0 -0.520       130.0 -0.114      85.0  0.051         132.0   \n",
       "995         87.0  0.114        67.0  0.104      29.0  0.398          79.0   \n",
       "996         28.0  0.380        39.0  0.193     164.0 -0.453         153.0   \n",
       "997         51.0  0.264       119.0 -0.048      34.0  0.345          87.0   \n",
       "...          ...    ...         ...    ...       ...    ...           ...   \n",
       "1120       142.0 -0.313       162.0 -0.322     177.0 -0.954         177.0   \n",
       "1121         NaN    NaN         NaN    NaN       NaN    NaN           NaN   \n",
       "1122         NaN    NaN         NaN    NaN       NaN    NaN           NaN   \n",
       "1123        93.0  0.083        42.0  0.181     118.0 -0.087         163.0   \n",
       "1124       123.0 -0.128        69.0  0.101      21.0  0.450          75.0   \n",
       "\n",
       "     BIRDIES  PAR_3_RANK  PAR_3  PAR_4_RANK  PAR_4  PAR_5_RANK  PAR_5  \\\n",
       "993   22.10%        38.0   3.01        10.0   3.97        44.0   4.54   \n",
       "994   21.24%       152.0   3.09       131.0   4.04       116.0   4.61   \n",
       "995   22.54%        38.0   3.01        57.0   4.00        44.0   4.54   \n",
       "996   20.41%       142.0   3.08        85.0   4.01       121.0   4.62   \n",
       "997   22.35%        52.0   3.02        85.0   4.01        77.0   4.57   \n",
       "...      ...         ...    ...         ...    ...         ...    ...   \n",
       "1120  16.89%       114.0   3.06       177.0   4.14       147.0   4.65   \n",
       "1121    None         NaN    NaN         NaN    NaN         NaN    NaN   \n",
       "1122    None         NaN    NaN         NaN    NaN         NaN    NaN   \n",
       "1123  19.97%        52.0   3.02        85.0   4.01       163.0   4.69   \n",
       "1124  22.67%        21.0   3.00        43.0   3.99       160.0   4.68   \n",
       "\n",
       "      TOTAL_DRIVING_RANK  TOTAL_DRIVING  DRIVING_DISTANCE_RANK  \\\n",
       "993                 53.0          153.0                  152.0   \n",
       "994                102.0          180.0                   82.0   \n",
       "995                 75.0          170.0                   49.0   \n",
       "996                 62.0          158.0                  118.0   \n",
       "997                 28.0          133.0                  104.0   \n",
       "...                  ...            ...                    ...   \n",
       "1120                42.0          144.0                   22.0   \n",
       "1121                 NaN            NaN                    NaN   \n",
       "1122                 NaN            NaN                    NaN   \n",
       "1123               118.0          190.0                  174.0   \n",
       "1124               124.0          199.0                  172.0   \n",
       "\n",
       "      DRIVING_DISTANCE  DRIVING_ACCURACY_RANK DRIVING_ACCURACY  GIR_RANK  \\\n",
       "993              293.8                    1.0           72.02%       7.0   \n",
       "994              302.4                   98.0           59.93%     149.0   \n",
       "995              307.1                  121.0           58.28%     102.0   \n",
       "996              298.3                   40.0           64.18%      88.0   \n",
       "997              299.8                   29.0           65.50%     114.0   \n",
       "...                ...                    ...              ...       ...   \n",
       "1120             311.0                  122.0           58.27%      56.0   \n",
       "1121               NaN                    NaN             None       NaN   \n",
       "1122               NaN                    NaN             None       NaN   \n",
       "1123             283.6                   16.0           67.21%     125.0   \n",
       "1124             284.1                   27.0           65.89%      95.0   \n",
       "\n",
       "         GIR  SCRAMBLING_RANK SCRAMBLING  OWGR_RANK    OWGR  VEGAS_ODDS  \\\n",
       "993   71.58%             33.0     63.18%       21.0  3.2294        50.0   \n",
       "994   64.50%             74.0     60.50%       82.0  1.4461        80.0   \n",
       "995   66.35%             45.0     62.09%       20.0  3.2584        60.0   \n",
       "996   67.13%             60.0     61.39%      112.0  1.1671       100.0   \n",
       "997   66.02%             54.0     61.79%       29.0  2.7339        60.0   \n",
       "...      ...              ...        ...        ...     ...         ...   \n",
       "1120  68.25%            175.0     51.79%      193.0  0.7219       300.0   \n",
       "1121    None              NaN       None      305.0  0.4596       125.0   \n",
       "1122    None              NaN       None      264.0  0.5372       500.0   \n",
       "1123  65.56%             36.0     62.67%      144.0  0.9649       600.0   \n",
       "1124  66.91%             67.0     60.95%      289.0  0.4892       300.0   \n",
       "\n",
       "      CUT_PERCENTAGE  FEDEX_CUP_POINTS  form_density  CONSECUTIVE_CUTS  \\\n",
       "993             76.9           368.707         28.36               4.0   \n",
       "994             73.7           568.417         29.92               0.0   \n",
       "995             83.3           577.232         48.10               0.0   \n",
       "996             75.0           275.228         13.76               6.0   \n",
       "997             71.4          1143.376         54.45               0.0   \n",
       "...              ...               ...           ...               ...   \n",
       "1120            46.2            50.800          3.91               0.0   \n",
       "1121            72.7           172.393         15.67               4.0   \n",
       "1122            60.0            29.456          5.89               0.0   \n",
       "1123            52.9            91.811          5.40               1.0   \n",
       "1124            40.0           113.529         11.35               1.0   \n",
       "\n",
       "      RECENT_FORM  adj_form  COURSE_HISTORY  adj_ch  TOP_20  \n",
       "993          43.9     16.63            40.0   36.41       0  \n",
       "994          46.8     15.62            63.3   32.53       0  \n",
       "995          34.4     13.41            52.0   75.02       1  \n",
       "996          49.3     16.19            40.0   57.71       0  \n",
       "997          41.5     13.43            56.0   80.79       0  \n",
       "...           ...       ...             ...     ...     ...  \n",
       "1120         73.7     27.93            48.0   69.25       0  \n",
       "1121         56.0     22.54            53.0   32.93       0  \n",
       "1122         64.6     36.05            59.5   54.16       0  \n",
       "1123         69.0     23.87            78.3   56.48       0  \n",
       "1124         66.6     27.77            61.6   29.62       0  \n",
       "\n",
       "[132 rows x 47 columns]"
      ]
     },
     "execution_count": 7,
     "metadata": {},
     "output_type": "execute_result"
    }
   ],
   "source": [
    "# Play with different years to see if I notice anything wrong\n",
    "training_df[training_df[\"SEASON\"] == 2024]"
   ]
  },
  {
   "cell_type": "markdown",
   "id": "5f92ff52",
   "metadata": {},
   "source": [
    "### Normalization\n",
    "***Fix Historical Odds***\n",
    "\n",
    "Many names do not have historical odds but rather are part of the \"field.\" So giving these \"NaN\" values the average odds (as I would for missing stats) isn't a good approximation of reality – they are typically the \"field\" because they are not notable and have poor odds individually.\n",
    "\n",
    "There are also some crazy odds numbers occasionally (1000/1 or 3000/1) that don't happen all that much and are making that tail too long.\n",
    "\n",
    "This cell assigns odds of 1000/1 for anyone missing and clips anything larger to 1000/1 to normalize the data better and assign the missing odds more appropriately where they belong.\n",
    "\n",
    "***OWGR Adjustment***\n",
    "\n",
    "The NaN's for OWGR are similarly bad players.  So we should assign these the worst ranking instead of the mean and clip it at 1000 just in case there are ever outliers.\n",
    "\n",
    "For the OWGR score, it should match the lowest score in the dataset to assign that person the same as the worst.\n",
    "\n",
    "***Recent Form Adjustment***\n",
    "\n",
    "The NaN's for Recent Form mean that this player has not played any tournaments in the lookback period (9 months).  Similar to Odds and OWGR, I want to punish those that don't play often in my model.  Set these to 90 (i.e. like they miss a lot of cuts - because if they aren't playing they aren't good enough to make it to these tournaments very frequently).  The adj_form feature will also need to be updated here with the new data.\n",
    "\n",
    "***FedEx Cup Point Adjustment***\n",
    "\n",
    "The NaN's for FedEx Cup Points means there is no data.  Therefore they should be 0."
   ]
  },
  {
   "cell_type": "code",
   "execution_count": 7,
   "id": "3e9f4f19",
   "metadata": {},
   "outputs": [
    {
     "data": {
      "text/html": [
       "<div>\n",
       "<style scoped>\n",
       "    .dataframe tbody tr th:only-of-type {\n",
       "        vertical-align: middle;\n",
       "    }\n",
       "\n",
       "    .dataframe tbody tr th {\n",
       "        vertical-align: top;\n",
       "    }\n",
       "\n",
       "    .dataframe thead th {\n",
       "        text-align: right;\n",
       "    }\n",
       "</style>\n",
       "<table border=\"1\" class=\"dataframe\">\n",
       "  <thead>\n",
       "    <tr style=\"text-align: right;\">\n",
       "      <th></th>\n",
       "      <th>SEASON</th>\n",
       "      <th>ENDING_DATE</th>\n",
       "      <th>TOURNAMENT</th>\n",
       "      <th>COURSE</th>\n",
       "      <th>PLAYER</th>\n",
       "      <th>POS</th>\n",
       "      <th>FINAL_POS</th>\n",
       "      <th>SGTTG_RANK</th>\n",
       "      <th>SGTTG</th>\n",
       "      <th>SGOTT_RANK</th>\n",
       "      <th>SGOTT</th>\n",
       "      <th>SGAPR_RANK</th>\n",
       "      <th>SGAPR</th>\n",
       "      <th>SGATG_RANK</th>\n",
       "      <th>SGATG</th>\n",
       "      <th>SGP_RANK</th>\n",
       "      <th>SGP</th>\n",
       "      <th>BIRDIES_RANK</th>\n",
       "      <th>BIRDIES</th>\n",
       "      <th>PAR_3_RANK</th>\n",
       "      <th>PAR_3</th>\n",
       "      <th>PAR_4_RANK</th>\n",
       "      <th>PAR_4</th>\n",
       "      <th>PAR_5_RANK</th>\n",
       "      <th>PAR_5</th>\n",
       "      <th>TOTAL_DRIVING_RANK</th>\n",
       "      <th>TOTAL_DRIVING</th>\n",
       "      <th>DRIVING_DISTANCE_RANK</th>\n",
       "      <th>DRIVING_DISTANCE</th>\n",
       "      <th>DRIVING_ACCURACY_RANK</th>\n",
       "      <th>DRIVING_ACCURACY</th>\n",
       "      <th>GIR_RANK</th>\n",
       "      <th>GIR</th>\n",
       "      <th>SCRAMBLING_RANK</th>\n",
       "      <th>SCRAMBLING</th>\n",
       "      <th>OWGR_RANK</th>\n",
       "      <th>OWGR</th>\n",
       "      <th>VEGAS_ODDS</th>\n",
       "      <th>CUT_PERCENTAGE</th>\n",
       "      <th>FEDEX_CUP_POINTS</th>\n",
       "      <th>form_density</th>\n",
       "      <th>CONSECUTIVE_CUTS</th>\n",
       "      <th>RECENT_FORM</th>\n",
       "      <th>adj_form</th>\n",
       "      <th>COURSE_HISTORY</th>\n",
       "      <th>adj_ch</th>\n",
       "      <th>TOP_20</th>\n",
       "    </tr>\n",
       "  </thead>\n",
       "  <tbody>\n",
       "    <tr>\n",
       "      <th>0</th>\n",
       "      <td>2016</td>\n",
       "      <td>2016-05-29</td>\n",
       "      <td>DEAN &amp; DELUCA Invitational</td>\n",
       "      <td>Colonial Country Club</td>\n",
       "      <td>Aaron Baddeley</td>\n",
       "      <td>T55</td>\n",
       "      <td>55</td>\n",
       "      <td>146.0</td>\n",
       "      <td>-0.330</td>\n",
       "      <td>159.0</td>\n",
       "      <td>-0.366</td>\n",
       "      <td>164.0</td>\n",
       "      <td>-0.362</td>\n",
       "      <td>10.0</td>\n",
       "      <td>0.402</td>\n",
       "      <td>8.0</td>\n",
       "      <td>0.586</td>\n",
       "      <td>59.0</td>\n",
       "      <td>20.72</td>\n",
       "      <td>78.0</td>\n",
       "      <td>3.06</td>\n",
       "      <td>14.0</td>\n",
       "      <td>4.01</td>\n",
       "      <td>50.0</td>\n",
       "      <td>4.64</td>\n",
       "      <td>159.0</td>\n",
       "      <td>237.0</td>\n",
       "      <td>82.0</td>\n",
       "      <td>291.7</td>\n",
       "      <td>155.0</td>\n",
       "      <td>55.42</td>\n",
       "      <td>154.0</td>\n",
       "      <td>63.11</td>\n",
       "      <td>5.0</td>\n",
       "      <td>64.3</td>\n",
       "      <td>143.0</td>\n",
       "      <td>1.14</td>\n",
       "      <td>1000.0</td>\n",
       "      <td>60.0</td>\n",
       "      <td>365.00</td>\n",
       "      <td>24.33</td>\n",
       "      <td>0.0</td>\n",
       "      <td>54.0</td>\n",
       "      <td>19.48</td>\n",
       "      <td>90.0</td>\n",
       "      <td>129.84</td>\n",
       "      <td>0</td>\n",
       "    </tr>\n",
       "    <tr>\n",
       "      <th>1</th>\n",
       "      <td>2016</td>\n",
       "      <td>2016-05-29</td>\n",
       "      <td>DEAN &amp; DELUCA Invitational</td>\n",
       "      <td>Colonial Country Club</td>\n",
       "      <td>Adam Hadwin</td>\n",
       "      <td>T22</td>\n",
       "      <td>22</td>\n",
       "      <td>111.0</td>\n",
       "      <td>-0.011</td>\n",
       "      <td>55.0</td>\n",
       "      <td>0.223</td>\n",
       "      <td>121.0</td>\n",
       "      <td>-0.055</td>\n",
       "      <td>132.0</td>\n",
       "      <td>-0.081</td>\n",
       "      <td>11.0</td>\n",
       "      <td>0.530</td>\n",
       "      <td>22.0</td>\n",
       "      <td>21.74</td>\n",
       "      <td>16.0</td>\n",
       "      <td>3.01</td>\n",
       "      <td>48.0</td>\n",
       "      <td>4.03</td>\n",
       "      <td>68.0</td>\n",
       "      <td>4.66</td>\n",
       "      <td>35.0</td>\n",
       "      <td>141.0</td>\n",
       "      <td>92.0</td>\n",
       "      <td>290.1</td>\n",
       "      <td>49.0</td>\n",
       "      <td>63.62</td>\n",
       "      <td>83.0</td>\n",
       "      <td>66.07</td>\n",
       "      <td>97.0</td>\n",
       "      <td>58.27</td>\n",
       "      <td>193.0</td>\n",
       "      <td>0.91</td>\n",
       "      <td>1000.0</td>\n",
       "      <td>70.6</td>\n",
       "      <td>378.67</td>\n",
       "      <td>22.27</td>\n",
       "      <td>4.0</td>\n",
       "      <td>53.6</td>\n",
       "      <td>18.54</td>\n",
       "      <td>5.0</td>\n",
       "      <td>7.21</td>\n",
       "      <td>0</td>\n",
       "    </tr>\n",
       "    <tr>\n",
       "      <th>2</th>\n",
       "      <td>2016</td>\n",
       "      <td>2016-05-29</td>\n",
       "      <td>DEAN &amp; DELUCA Invitational</td>\n",
       "      <td>Colonial Country Club</td>\n",
       "      <td>Adam Scott</td>\n",
       "      <td>T55</td>\n",
       "      <td>55</td>\n",
       "      <td>1.0</td>\n",
       "      <td>2.062</td>\n",
       "      <td>20.0</td>\n",
       "      <td>0.522</td>\n",
       "      <td>1.0</td>\n",
       "      <td>1.491</td>\n",
       "      <td>83.0</td>\n",
       "      <td>0.049</td>\n",
       "      <td>129.0</td>\n",
       "      <td>-0.168</td>\n",
       "      <td>9.0</td>\n",
       "      <td>22.88</td>\n",
       "      <td>10.0</td>\n",
       "      <td>3.00</td>\n",
       "      <td>8.0</td>\n",
       "      <td>4.00</td>\n",
       "      <td>13.0</td>\n",
       "      <td>4.58</td>\n",
       "      <td>64.0</td>\n",
       "      <td>166.0</td>\n",
       "      <td>13.0</td>\n",
       "      <td>304.6</td>\n",
       "      <td>153.0</td>\n",
       "      <td>55.55</td>\n",
       "      <td>3.0</td>\n",
       "      <td>70.76</td>\n",
       "      <td>74.0</td>\n",
       "      <td>59.5</td>\n",
       "      <td>6.0</td>\n",
       "      <td>7.07</td>\n",
       "      <td>12.0</td>\n",
       "      <td>100.0</td>\n",
       "      <td>958.35</td>\n",
       "      <td>136.91</td>\n",
       "      <td>7.0</td>\n",
       "      <td>20.3</td>\n",
       "      <td>9.76</td>\n",
       "      <td>24.0</td>\n",
       "      <td>34.62</td>\n",
       "      <td>0</td>\n",
       "    </tr>\n",
       "    <tr>\n",
       "      <th>3</th>\n",
       "      <td>2016</td>\n",
       "      <td>2016-05-29</td>\n",
       "      <td>DEAN &amp; DELUCA Invitational</td>\n",
       "      <td>Colonial Country Club</td>\n",
       "      <td>Andrew Loupe</td>\n",
       "      <td>CUT</td>\n",
       "      <td>90</td>\n",
       "      <td>150.0</td>\n",
       "      <td>-0.395</td>\n",
       "      <td>105.0</td>\n",
       "      <td>-0.005</td>\n",
       "      <td>154.0</td>\n",
       "      <td>-0.281</td>\n",
       "      <td>158.0</td>\n",
       "      <td>-0.172</td>\n",
       "      <td>38.0</td>\n",
       "      <td>0.280</td>\n",
       "      <td>12.0</td>\n",
       "      <td>22.74</td>\n",
       "      <td>78.0</td>\n",
       "      <td>3.06</td>\n",
       "      <td>177.0</td>\n",
       "      <td>4.11</td>\n",
       "      <td>13.0</td>\n",
       "      <td>4.58</td>\n",
       "      <td>101.0</td>\n",
       "      <td>189.0</td>\n",
       "      <td>5.0</td>\n",
       "      <td>309.3</td>\n",
       "      <td>184.0</td>\n",
       "      <td>45.56</td>\n",
       "      <td>148.0</td>\n",
       "      <td>63.41</td>\n",
       "      <td>175.0</td>\n",
       "      <td>52.83</td>\n",
       "      <td>194.0</td>\n",
       "      <td>0.91</td>\n",
       "      <td>1000.0</td>\n",
       "      <td>62.5</td>\n",
       "      <td>482.82</td>\n",
       "      <td>30.18</td>\n",
       "      <td>2.0</td>\n",
       "      <td>53.9</td>\n",
       "      <td>19.02</td>\n",
       "      <td>NaN</td>\n",
       "      <td>NaN</td>\n",
       "      <td>0</td>\n",
       "    </tr>\n",
       "    <tr>\n",
       "      <th>4</th>\n",
       "      <td>2016</td>\n",
       "      <td>2016-05-29</td>\n",
       "      <td>DEAN &amp; DELUCA Invitational</td>\n",
       "      <td>Colonial Country Club</td>\n",
       "      <td>Anirban Lahiri</td>\n",
       "      <td>T6</td>\n",
       "      <td>6</td>\n",
       "      <td>97.0</td>\n",
       "      <td>0.088</td>\n",
       "      <td>95.0</td>\n",
       "      <td>0.025</td>\n",
       "      <td>90.0</td>\n",
       "      <td>0.143</td>\n",
       "      <td>130.0</td>\n",
       "      <td>-0.080</td>\n",
       "      <td>99.0</td>\n",
       "      <td>-0.020</td>\n",
       "      <td>107.0</td>\n",
       "      <td>19.73</td>\n",
       "      <td>136.0</td>\n",
       "      <td>3.09</td>\n",
       "      <td>97.0</td>\n",
       "      <td>4.05</td>\n",
       "      <td>155.0</td>\n",
       "      <td>4.74</td>\n",
       "      <td>154.0</td>\n",
       "      <td>232.0</td>\n",
       "      <td>82.0</td>\n",
       "      <td>291.7</td>\n",
       "      <td>150.0</td>\n",
       "      <td>56.31</td>\n",
       "      <td>161.0</td>\n",
       "      <td>62.88</td>\n",
       "      <td>138.0</td>\n",
       "      <td>56.4</td>\n",
       "      <td>92.0</td>\n",
       "      <td>1.63</td>\n",
       "      <td>100.0</td>\n",
       "      <td>66.7</td>\n",
       "      <td>181.00</td>\n",
       "      <td>20.11</td>\n",
       "      <td>3.0</td>\n",
       "      <td>55.4</td>\n",
       "      <td>24.06</td>\n",
       "      <td>NaN</td>\n",
       "      <td>NaN</td>\n",
       "      <td>1</td>\n",
       "    </tr>\n",
       "    <tr>\n",
       "      <th>5</th>\n",
       "      <td>2016</td>\n",
       "      <td>2016-05-29</td>\n",
       "      <td>DEAN &amp; DELUCA Invitational</td>\n",
       "      <td>Colonial Country Club</td>\n",
       "      <td>Ben Crane</td>\n",
       "      <td>T29</td>\n",
       "      <td>29</td>\n",
       "      <td>115.0</td>\n",
       "      <td>-0.028</td>\n",
       "      <td>117.0</td>\n",
       "      <td>-0.063</td>\n",
       "      <td>99.0</td>\n",
       "      <td>0.101</td>\n",
       "      <td>49.0</td>\n",
       "      <td>0.173</td>\n",
       "      <td>46.0</td>\n",
       "      <td>0.230</td>\n",
       "      <td>128.0</td>\n",
       "      <td>19.23</td>\n",
       "      <td>78.0</td>\n",
       "      <td>3.06</td>\n",
       "      <td>48.0</td>\n",
       "      <td>4.03</td>\n",
       "      <td>100.0</td>\n",
       "      <td>4.69</td>\n",
       "      <td>138.0</td>\n",
       "      <td>216.0</td>\n",
       "      <td>162.0</td>\n",
       "      <td>280.3</td>\n",
       "      <td>54.0</td>\n",
       "      <td>63.18</td>\n",
       "      <td>143.0</td>\n",
       "      <td>63.6</td>\n",
       "      <td>31.0</td>\n",
       "      <td>61.65</td>\n",
       "      <td>371.0</td>\n",
       "      <td>0.50</td>\n",
       "      <td>1000.0</td>\n",
       "      <td>53.3</td>\n",
       "      <td>282.00</td>\n",
       "      <td>18.80</td>\n",
       "      <td>1.0</td>\n",
       "      <td>59.5</td>\n",
       "      <td>21.46</td>\n",
       "      <td>71.0</td>\n",
       "      <td>102.43</td>\n",
       "      <td>0</td>\n",
       "    </tr>\n",
       "    <tr>\n",
       "      <th>6</th>\n",
       "      <td>2016</td>\n",
       "      <td>2016-05-29</td>\n",
       "      <td>DEAN &amp; DELUCA Invitational</td>\n",
       "      <td>Colonial Country Club</td>\n",
       "      <td>Ben Martin</td>\n",
       "      <td>T29</td>\n",
       "      <td>29</td>\n",
       "      <td>126.0</td>\n",
       "      <td>-0.117</td>\n",
       "      <td>79.0</td>\n",
       "      <td>0.079</td>\n",
       "      <td>101.0</td>\n",
       "      <td>0.081</td>\n",
       "      <td>169.0</td>\n",
       "      <td>-0.277</td>\n",
       "      <td>70.0</td>\n",
       "      <td>0.140</td>\n",
       "      <td>29.0</td>\n",
       "      <td>21.53</td>\n",
       "      <td>146.0</td>\n",
       "      <td>3.10</td>\n",
       "      <td>97.0</td>\n",
       "      <td>4.05</td>\n",
       "      <td>28.0</td>\n",
       "      <td>4.61</td>\n",
       "      <td>71.0</td>\n",
       "      <td>174.0</td>\n",
       "      <td>108.0</td>\n",
       "      <td>288.8</td>\n",
       "      <td>66.0</td>\n",
       "      <td>62.14</td>\n",
       "      <td>64.0</td>\n",
       "      <td>66.73</td>\n",
       "      <td>160.0</td>\n",
       "      <td>54.84</td>\n",
       "      <td>123.0</td>\n",
       "      <td>1.27</td>\n",
       "      <td>1000.0</td>\n",
       "      <td>64.3</td>\n",
       "      <td>257.05</td>\n",
       "      <td>18.36</td>\n",
       "      <td>0.0</td>\n",
       "      <td>58.9</td>\n",
       "      <td>21.75</td>\n",
       "      <td>10.0</td>\n",
       "      <td>14.43</td>\n",
       "      <td>0</td>\n",
       "    </tr>\n",
       "    <tr>\n",
       "      <th>7</th>\n",
       "      <td>2016</td>\n",
       "      <td>2016-05-29</td>\n",
       "      <td>DEAN &amp; DELUCA Invitational</td>\n",
       "      <td>Colonial Country Club</td>\n",
       "      <td>Bill Haas</td>\n",
       "      <td>T47</td>\n",
       "      <td>47</td>\n",
       "      <td>34.0</td>\n",
       "      <td>0.693</td>\n",
       "      <td>81.0</td>\n",
       "      <td>0.068</td>\n",
       "      <td>54.0</td>\n",
       "      <td>0.272</td>\n",
       "      <td>14.0</td>\n",
       "      <td>0.353</td>\n",
       "      <td>130.0</td>\n",
       "      <td>-0.174</td>\n",
       "      <td>172.0</td>\n",
       "      <td>17.89</td>\n",
       "      <td>22.0</td>\n",
       "      <td>3.02</td>\n",
       "      <td>68.0</td>\n",
       "      <td>4.04</td>\n",
       "      <td>100.0</td>\n",
       "      <td>4.69</td>\n",
       "      <td>55.0</td>\n",
       "      <td>159.0</td>\n",
       "      <td>97.0</td>\n",
       "      <td>289.6</td>\n",
       "      <td>62.0</td>\n",
       "      <td>62.34</td>\n",
       "      <td>57.0</td>\n",
       "      <td>67.14</td>\n",
       "      <td>12.0</td>\n",
       "      <td>63.3</td>\n",
       "      <td>44.0</td>\n",
       "      <td>2.87</td>\n",
       "      <td>40.0</td>\n",
       "      <td>76.9</td>\n",
       "      <td>912.00</td>\n",
       "      <td>70.15</td>\n",
       "      <td>1.0</td>\n",
       "      <td>35.4</td>\n",
       "      <td>13.41</td>\n",
       "      <td>NaN</td>\n",
       "      <td>NaN</td>\n",
       "      <td>0</td>\n",
       "    </tr>\n",
       "    <tr>\n",
       "      <th>8</th>\n",
       "      <td>2016</td>\n",
       "      <td>2016-05-29</td>\n",
       "      <td>DEAN &amp; DELUCA Invitational</td>\n",
       "      <td>Colonial Country Club</td>\n",
       "      <td>Blayne Barber</td>\n",
       "      <td>T34</td>\n",
       "      <td>34</td>\n",
       "      <td>97.0</td>\n",
       "      <td>0.088</td>\n",
       "      <td>98.0</td>\n",
       "      <td>0.018</td>\n",
       "      <td>94.0</td>\n",
       "      <td>0.127</td>\n",
       "      <td>121.0</td>\n",
       "      <td>-0.056</td>\n",
       "      <td>90.0</td>\n",
       "      <td>0.010</td>\n",
       "      <td>88.0</td>\n",
       "      <td>20.07</td>\n",
       "      <td>35.0</td>\n",
       "      <td>3.03</td>\n",
       "      <td>114.0</td>\n",
       "      <td>4.06</td>\n",
       "      <td>60.0</td>\n",
       "      <td>4.65</td>\n",
       "      <td>53.0</td>\n",
       "      <td>157.0</td>\n",
       "      <td>97.0</td>\n",
       "      <td>289.6</td>\n",
       "      <td>60.0</td>\n",
       "      <td>62.37</td>\n",
       "      <td>63.0</td>\n",
       "      <td>66.74</td>\n",
       "      <td>115.0</td>\n",
       "      <td>57.62</td>\n",
       "      <td>249.0</td>\n",
       "      <td>0.72</td>\n",
       "      <td>1000.0</td>\n",
       "      <td>37.5</td>\n",
       "      <td>260.34</td>\n",
       "      <td>16.27</td>\n",
       "      <td>0.0</td>\n",
       "      <td>71.1</td>\n",
       "      <td>25.10</td>\n",
       "      <td>NaN</td>\n",
       "      <td>NaN</td>\n",
       "      <td>0</td>\n",
       "    </tr>\n",
       "    <tr>\n",
       "      <th>9</th>\n",
       "      <td>2016</td>\n",
       "      <td>2016-05-29</td>\n",
       "      <td>DEAN &amp; DELUCA Invitational</td>\n",
       "      <td>Colonial Country Club</td>\n",
       "      <td>Boo Weekley</td>\n",
       "      <td>CUT</td>\n",
       "      <td>90</td>\n",
       "      <td>69.0</td>\n",
       "      <td>0.307</td>\n",
       "      <td>14.0</td>\n",
       "      <td>0.571</td>\n",
       "      <td>127.0</td>\n",
       "      <td>-0.090</td>\n",
       "      <td>159.0</td>\n",
       "      <td>-0.174</td>\n",
       "      <td>144.0</td>\n",
       "      <td>-0.225</td>\n",
       "      <td>52.0</td>\n",
       "      <td>20.88</td>\n",
       "      <td>102.0</td>\n",
       "      <td>3.07</td>\n",
       "      <td>97.0</td>\n",
       "      <td>4.05</td>\n",
       "      <td>24.0</td>\n",
       "      <td>4.60</td>\n",
       "      <td>11.0</td>\n",
       "      <td>100.0</td>\n",
       "      <td>84.0</td>\n",
       "      <td>291.5</td>\n",
       "      <td>16.0</td>\n",
       "      <td>66.98</td>\n",
       "      <td>41.0</td>\n",
       "      <td>67.87</td>\n",
       "      <td>94.0</td>\n",
       "      <td>58.33</td>\n",
       "      <td>202.0</td>\n",
       "      <td>0.88</td>\n",
       "      <td>80.0</td>\n",
       "      <td>58.8</td>\n",
       "      <td>398.55</td>\n",
       "      <td>23.44</td>\n",
       "      <td>5.0</td>\n",
       "      <td>56.5</td>\n",
       "      <td>19.55</td>\n",
       "      <td>33.0</td>\n",
       "      <td>47.61</td>\n",
       "      <td>0</td>\n",
       "    </tr>\n",
       "  </tbody>\n",
       "</table>\n",
       "</div>"
      ],
      "text/plain": [
       "   SEASON ENDING_DATE                  TOURNAMENT                 COURSE  \\\n",
       "0    2016  2016-05-29  DEAN & DELUCA Invitational  Colonial Country Club   \n",
       "1    2016  2016-05-29  DEAN & DELUCA Invitational  Colonial Country Club   \n",
       "2    2016  2016-05-29  DEAN & DELUCA Invitational  Colonial Country Club   \n",
       "3    2016  2016-05-29  DEAN & DELUCA Invitational  Colonial Country Club   \n",
       "4    2016  2016-05-29  DEAN & DELUCA Invitational  Colonial Country Club   \n",
       "5    2016  2016-05-29  DEAN & DELUCA Invitational  Colonial Country Club   \n",
       "6    2016  2016-05-29  DEAN & DELUCA Invitational  Colonial Country Club   \n",
       "7    2016  2016-05-29  DEAN & DELUCA Invitational  Colonial Country Club   \n",
       "8    2016  2016-05-29  DEAN & DELUCA Invitational  Colonial Country Club   \n",
       "9    2016  2016-05-29  DEAN & DELUCA Invitational  Colonial Country Club   \n",
       "\n",
       "           PLAYER  POS  FINAL_POS  SGTTG_RANK  SGTTG  SGOTT_RANK  SGOTT  \\\n",
       "0  Aaron Baddeley  T55         55       146.0 -0.330       159.0 -0.366   \n",
       "1     Adam Hadwin  T22         22       111.0 -0.011        55.0  0.223   \n",
       "2      Adam Scott  T55         55         1.0  2.062        20.0  0.522   \n",
       "3    Andrew Loupe  CUT         90       150.0 -0.395       105.0 -0.005   \n",
       "4  Anirban Lahiri   T6          6        97.0  0.088        95.0  0.025   \n",
       "5       Ben Crane  T29         29       115.0 -0.028       117.0 -0.063   \n",
       "6      Ben Martin  T29         29       126.0 -0.117        79.0  0.079   \n",
       "7       Bill Haas  T47         47        34.0  0.693        81.0  0.068   \n",
       "8   Blayne Barber  T34         34        97.0  0.088        98.0  0.018   \n",
       "9     Boo Weekley  CUT         90        69.0  0.307        14.0  0.571   \n",
       "\n",
       "   SGAPR_RANK  SGAPR  SGATG_RANK  SGATG  SGP_RANK    SGP  BIRDIES_RANK  \\\n",
       "0       164.0 -0.362        10.0  0.402       8.0  0.586          59.0   \n",
       "1       121.0 -0.055       132.0 -0.081      11.0  0.530          22.0   \n",
       "2         1.0  1.491        83.0  0.049     129.0 -0.168           9.0   \n",
       "3       154.0 -0.281       158.0 -0.172      38.0  0.280          12.0   \n",
       "4        90.0  0.143       130.0 -0.080      99.0 -0.020         107.0   \n",
       "5        99.0  0.101        49.0  0.173      46.0  0.230         128.0   \n",
       "6       101.0  0.081       169.0 -0.277      70.0  0.140          29.0   \n",
       "7        54.0  0.272        14.0  0.353     130.0 -0.174         172.0   \n",
       "8        94.0  0.127       121.0 -0.056      90.0  0.010          88.0   \n",
       "9       127.0 -0.090       159.0 -0.174     144.0 -0.225          52.0   \n",
       "\n",
       "  BIRDIES  PAR_3_RANK  PAR_3  PAR_4_RANK  PAR_4  PAR_5_RANK  PAR_5  \\\n",
       "0   20.72        78.0   3.06        14.0   4.01        50.0   4.64   \n",
       "1   21.74        16.0   3.01        48.0   4.03        68.0   4.66   \n",
       "2   22.88        10.0   3.00         8.0   4.00        13.0   4.58   \n",
       "3   22.74        78.0   3.06       177.0   4.11        13.0   4.58   \n",
       "4   19.73       136.0   3.09        97.0   4.05       155.0   4.74   \n",
       "5   19.23        78.0   3.06        48.0   4.03       100.0   4.69   \n",
       "6   21.53       146.0   3.10        97.0   4.05        28.0   4.61   \n",
       "7   17.89        22.0   3.02        68.0   4.04       100.0   4.69   \n",
       "8   20.07        35.0   3.03       114.0   4.06        60.0   4.65   \n",
       "9   20.88       102.0   3.07        97.0   4.05        24.0   4.60   \n",
       "\n",
       "   TOTAL_DRIVING_RANK  TOTAL_DRIVING  DRIVING_DISTANCE_RANK  DRIVING_DISTANCE  \\\n",
       "0               159.0          237.0                   82.0             291.7   \n",
       "1                35.0          141.0                   92.0             290.1   \n",
       "2                64.0          166.0                   13.0             304.6   \n",
       "3               101.0          189.0                    5.0             309.3   \n",
       "4               154.0          232.0                   82.0             291.7   \n",
       "5               138.0          216.0                  162.0             280.3   \n",
       "6                71.0          174.0                  108.0             288.8   \n",
       "7                55.0          159.0                   97.0             289.6   \n",
       "8                53.0          157.0                   97.0             289.6   \n",
       "9                11.0          100.0                   84.0             291.5   \n",
       "\n",
       "   DRIVING_ACCURACY_RANK DRIVING_ACCURACY  GIR_RANK    GIR  SCRAMBLING_RANK  \\\n",
       "0                  155.0            55.42     154.0  63.11              5.0   \n",
       "1                   49.0            63.62      83.0  66.07             97.0   \n",
       "2                  153.0            55.55       3.0  70.76             74.0   \n",
       "3                  184.0            45.56     148.0  63.41            175.0   \n",
       "4                  150.0            56.31     161.0  62.88            138.0   \n",
       "5                   54.0            63.18     143.0   63.6             31.0   \n",
       "6                   66.0            62.14      64.0  66.73            160.0   \n",
       "7                   62.0            62.34      57.0  67.14             12.0   \n",
       "8                   60.0            62.37      63.0  66.74            115.0   \n",
       "9                   16.0            66.98      41.0  67.87             94.0   \n",
       "\n",
       "  SCRAMBLING  OWGR_RANK  OWGR  VEGAS_ODDS  CUT_PERCENTAGE  FEDEX_CUP_POINTS  \\\n",
       "0       64.3      143.0  1.14      1000.0            60.0            365.00   \n",
       "1      58.27      193.0  0.91      1000.0            70.6            378.67   \n",
       "2       59.5        6.0  7.07        12.0           100.0            958.35   \n",
       "3      52.83      194.0  0.91      1000.0            62.5            482.82   \n",
       "4       56.4       92.0  1.63       100.0            66.7            181.00   \n",
       "5      61.65      371.0  0.50      1000.0            53.3            282.00   \n",
       "6      54.84      123.0  1.27      1000.0            64.3            257.05   \n",
       "7       63.3       44.0  2.87        40.0            76.9            912.00   \n",
       "8      57.62      249.0  0.72      1000.0            37.5            260.34   \n",
       "9      58.33      202.0  0.88        80.0            58.8            398.55   \n",
       "\n",
       "   form_density  CONSECUTIVE_CUTS  RECENT_FORM  adj_form  COURSE_HISTORY  \\\n",
       "0         24.33               0.0         54.0     19.48            90.0   \n",
       "1         22.27               4.0         53.6     18.54             5.0   \n",
       "2        136.91               7.0         20.3      9.76            24.0   \n",
       "3         30.18               2.0         53.9     19.02             NaN   \n",
       "4         20.11               3.0         55.4     24.06             NaN   \n",
       "5         18.80               1.0         59.5     21.46            71.0   \n",
       "6         18.36               0.0         58.9     21.75            10.0   \n",
       "7         70.15               1.0         35.4     13.41             NaN   \n",
       "8         16.27               0.0         71.1     25.10             NaN   \n",
       "9         23.44               5.0         56.5     19.55            33.0   \n",
       "\n",
       "   adj_ch  TOP_20  \n",
       "0  129.84       0  \n",
       "1    7.21       0  \n",
       "2   34.62       0  \n",
       "3     NaN       0  \n",
       "4     NaN       1  \n",
       "5  102.43       0  \n",
       "6   14.43       0  \n",
       "7     NaN       0  \n",
       "8     NaN       0  \n",
       "9   47.61       0  "
      ]
     },
     "execution_count": 7,
     "metadata": {},
     "output_type": "execute_result"
    }
   ],
   "source": [
    "# === VEGAS ODDS ===\n",
    "training_df[\"VEGAS_ODDS\"] = training_df[\"VEGAS_ODDS\"].fillna(1000).clip(upper=1000)\n",
    "\n",
    "# === OWGR and OWGR_RANK ===\n",
    "owgr_min = training_df[\"OWGR\"].min(skipna=True)\n",
    "training_df[\"OWGR\"] = training_df[\"OWGR\"].fillna(owgr_min)\n",
    "training_df[\"OWGR_RANK\"] = training_df[\"OWGR_RANK\"].fillna(1000).astype(float).clip(upper=1000)\n",
    "\n",
    "# === RECENT FORM and adj_form ===\n",
    "training_df[\"RECENT_FORM\"] = training_df[\"RECENT_FORM\"].fillna(90)\n",
    "if \"TOTAL_EVENTS_PLAYED\" in training_df.columns:\n",
    "    training_df[\"adj_form\"] = (\n",
    "        training_df[\"RECENT_FORM\"] / np.log1p(training_df[\"TOTAL_EVENTS_PLAYED\"])\n",
    "    ).round(2)\n",
    "\n",
    "# === FEDEX CUP POINTS ===\n",
    "training_df[\"FEDEX_CUP_POINTS\"] = training_df[\"FEDEX_CUP_POINTS\"].fillna(0)\n",
    "\n",
    "training_df.head(10)\n"
   ]
  },
  {
   "cell_type": "markdown",
   "id": "f58c9b4a",
   "metadata": {},
   "source": [
    "#### Average the NaNs\n",
    "At this point, the intentional offsetting of NaNs for poor players is over.  I don't want to penalize statistics or course history because you never know where they might land on the spectrum, so for these NaN values, we will take the mean."
   ]
  },
  {
   "cell_type": "code",
   "execution_count": 8,
   "id": "1172b59c",
   "metadata": {},
   "outputs": [
    {
     "data": {
      "text/html": [
       "<div>\n",
       "<style scoped>\n",
       "    .dataframe tbody tr th:only-of-type {\n",
       "        vertical-align: middle;\n",
       "    }\n",
       "\n",
       "    .dataframe tbody tr th {\n",
       "        vertical-align: top;\n",
       "    }\n",
       "\n",
       "    .dataframe thead th {\n",
       "        text-align: right;\n",
       "    }\n",
       "</style>\n",
       "<table border=\"1\" class=\"dataframe\">\n",
       "  <thead>\n",
       "    <tr style=\"text-align: right;\">\n",
       "      <th></th>\n",
       "      <th>SEASON</th>\n",
       "      <th>ENDING_DATE</th>\n",
       "      <th>TOURNAMENT</th>\n",
       "      <th>COURSE</th>\n",
       "      <th>PLAYER</th>\n",
       "      <th>POS</th>\n",
       "      <th>FINAL_POS</th>\n",
       "      <th>SGTTG_RANK</th>\n",
       "      <th>SGTTG</th>\n",
       "      <th>SGOTT_RANK</th>\n",
       "      <th>SGOTT</th>\n",
       "      <th>SGAPR_RANK</th>\n",
       "      <th>SGAPR</th>\n",
       "      <th>SGATG_RANK</th>\n",
       "      <th>SGATG</th>\n",
       "      <th>SGP_RANK</th>\n",
       "      <th>SGP</th>\n",
       "      <th>BIRDIES_RANK</th>\n",
       "      <th>BIRDIES</th>\n",
       "      <th>PAR_3_RANK</th>\n",
       "      <th>PAR_3</th>\n",
       "      <th>PAR_4_RANK</th>\n",
       "      <th>PAR_4</th>\n",
       "      <th>PAR_5_RANK</th>\n",
       "      <th>PAR_5</th>\n",
       "      <th>TOTAL_DRIVING_RANK</th>\n",
       "      <th>TOTAL_DRIVING</th>\n",
       "      <th>DRIVING_DISTANCE_RANK</th>\n",
       "      <th>DRIVING_DISTANCE</th>\n",
       "      <th>DRIVING_ACCURACY_RANK</th>\n",
       "      <th>DRIVING_ACCURACY</th>\n",
       "      <th>GIR_RANK</th>\n",
       "      <th>GIR</th>\n",
       "      <th>SCRAMBLING_RANK</th>\n",
       "      <th>SCRAMBLING</th>\n",
       "      <th>OWGR_RANK</th>\n",
       "      <th>OWGR</th>\n",
       "      <th>VEGAS_ODDS</th>\n",
       "      <th>CUT_PERCENTAGE</th>\n",
       "      <th>FEDEX_CUP_POINTS</th>\n",
       "      <th>form_density</th>\n",
       "      <th>CONSECUTIVE_CUTS</th>\n",
       "      <th>RECENT_FORM</th>\n",
       "      <th>adj_form</th>\n",
       "      <th>COURSE_HISTORY</th>\n",
       "      <th>adj_ch</th>\n",
       "      <th>TOP_20</th>\n",
       "    </tr>\n",
       "  </thead>\n",
       "  <tbody>\n",
       "    <tr>\n",
       "      <th>0</th>\n",
       "      <td>2016</td>\n",
       "      <td>2016-05-29</td>\n",
       "      <td>DEAN &amp; DELUCA Invitational</td>\n",
       "      <td>Colonial Country Club</td>\n",
       "      <td>Aaron Baddeley</td>\n",
       "      <td>T55</td>\n",
       "      <td>55</td>\n",
       "      <td>146.0</td>\n",
       "      <td>-0.330</td>\n",
       "      <td>159.0</td>\n",
       "      <td>-0.366</td>\n",
       "      <td>164.0</td>\n",
       "      <td>-0.362</td>\n",
       "      <td>10.0</td>\n",
       "      <td>0.402</td>\n",
       "      <td>8.0</td>\n",
       "      <td>0.586</td>\n",
       "      <td>59.0</td>\n",
       "      <td>20.72</td>\n",
       "      <td>78.0</td>\n",
       "      <td>3.06</td>\n",
       "      <td>14.0</td>\n",
       "      <td>4.01</td>\n",
       "      <td>50.0</td>\n",
       "      <td>4.64</td>\n",
       "      <td>159.0</td>\n",
       "      <td>237.0</td>\n",
       "      <td>82.0</td>\n",
       "      <td>291.7</td>\n",
       "      <td>155.0</td>\n",
       "      <td>55.42</td>\n",
       "      <td>154.0</td>\n",
       "      <td>63.11</td>\n",
       "      <td>5.0</td>\n",
       "      <td>64.30</td>\n",
       "      <td>143.0</td>\n",
       "      <td>1.14</td>\n",
       "      <td>1000.0</td>\n",
       "      <td>60.0</td>\n",
       "      <td>365.00</td>\n",
       "      <td>24.33</td>\n",
       "      <td>0.0</td>\n",
       "      <td>54.0</td>\n",
       "      <td>19.48</td>\n",
       "      <td>90.000000</td>\n",
       "      <td>129.840000</td>\n",
       "      <td>0</td>\n",
       "    </tr>\n",
       "    <tr>\n",
       "      <th>1</th>\n",
       "      <td>2016</td>\n",
       "      <td>2016-05-29</td>\n",
       "      <td>DEAN &amp; DELUCA Invitational</td>\n",
       "      <td>Colonial Country Club</td>\n",
       "      <td>Adam Hadwin</td>\n",
       "      <td>T22</td>\n",
       "      <td>22</td>\n",
       "      <td>111.0</td>\n",
       "      <td>-0.011</td>\n",
       "      <td>55.0</td>\n",
       "      <td>0.223</td>\n",
       "      <td>121.0</td>\n",
       "      <td>-0.055</td>\n",
       "      <td>132.0</td>\n",
       "      <td>-0.081</td>\n",
       "      <td>11.0</td>\n",
       "      <td>0.530</td>\n",
       "      <td>22.0</td>\n",
       "      <td>21.74</td>\n",
       "      <td>16.0</td>\n",
       "      <td>3.01</td>\n",
       "      <td>48.0</td>\n",
       "      <td>4.03</td>\n",
       "      <td>68.0</td>\n",
       "      <td>4.66</td>\n",
       "      <td>35.0</td>\n",
       "      <td>141.0</td>\n",
       "      <td>92.0</td>\n",
       "      <td>290.1</td>\n",
       "      <td>49.0</td>\n",
       "      <td>63.62</td>\n",
       "      <td>83.0</td>\n",
       "      <td>66.07</td>\n",
       "      <td>97.0</td>\n",
       "      <td>58.27</td>\n",
       "      <td>193.0</td>\n",
       "      <td>0.91</td>\n",
       "      <td>1000.0</td>\n",
       "      <td>70.6</td>\n",
       "      <td>378.67</td>\n",
       "      <td>22.27</td>\n",
       "      <td>4.0</td>\n",
       "      <td>53.6</td>\n",
       "      <td>18.54</td>\n",
       "      <td>5.000000</td>\n",
       "      <td>7.210000</td>\n",
       "      <td>0</td>\n",
       "    </tr>\n",
       "    <tr>\n",
       "      <th>2</th>\n",
       "      <td>2016</td>\n",
       "      <td>2016-05-29</td>\n",
       "      <td>DEAN &amp; DELUCA Invitational</td>\n",
       "      <td>Colonial Country Club</td>\n",
       "      <td>Adam Scott</td>\n",
       "      <td>T55</td>\n",
       "      <td>55</td>\n",
       "      <td>1.0</td>\n",
       "      <td>2.062</td>\n",
       "      <td>20.0</td>\n",
       "      <td>0.522</td>\n",
       "      <td>1.0</td>\n",
       "      <td>1.491</td>\n",
       "      <td>83.0</td>\n",
       "      <td>0.049</td>\n",
       "      <td>129.0</td>\n",
       "      <td>-0.168</td>\n",
       "      <td>9.0</td>\n",
       "      <td>22.88</td>\n",
       "      <td>10.0</td>\n",
       "      <td>3.00</td>\n",
       "      <td>8.0</td>\n",
       "      <td>4.00</td>\n",
       "      <td>13.0</td>\n",
       "      <td>4.58</td>\n",
       "      <td>64.0</td>\n",
       "      <td>166.0</td>\n",
       "      <td>13.0</td>\n",
       "      <td>304.6</td>\n",
       "      <td>153.0</td>\n",
       "      <td>55.55</td>\n",
       "      <td>3.0</td>\n",
       "      <td>70.76</td>\n",
       "      <td>74.0</td>\n",
       "      <td>59.50</td>\n",
       "      <td>6.0</td>\n",
       "      <td>7.07</td>\n",
       "      <td>12.0</td>\n",
       "      <td>100.0</td>\n",
       "      <td>958.35</td>\n",
       "      <td>136.91</td>\n",
       "      <td>7.0</td>\n",
       "      <td>20.3</td>\n",
       "      <td>9.76</td>\n",
       "      <td>24.000000</td>\n",
       "      <td>34.620000</td>\n",
       "      <td>0</td>\n",
       "    </tr>\n",
       "    <tr>\n",
       "      <th>3</th>\n",
       "      <td>2016</td>\n",
       "      <td>2016-05-29</td>\n",
       "      <td>DEAN &amp; DELUCA Invitational</td>\n",
       "      <td>Colonial Country Club</td>\n",
       "      <td>Andrew Loupe</td>\n",
       "      <td>CUT</td>\n",
       "      <td>90</td>\n",
       "      <td>150.0</td>\n",
       "      <td>-0.395</td>\n",
       "      <td>105.0</td>\n",
       "      <td>-0.005</td>\n",
       "      <td>154.0</td>\n",
       "      <td>-0.281</td>\n",
       "      <td>158.0</td>\n",
       "      <td>-0.172</td>\n",
       "      <td>38.0</td>\n",
       "      <td>0.280</td>\n",
       "      <td>12.0</td>\n",
       "      <td>22.74</td>\n",
       "      <td>78.0</td>\n",
       "      <td>3.06</td>\n",
       "      <td>177.0</td>\n",
       "      <td>4.11</td>\n",
       "      <td>13.0</td>\n",
       "      <td>4.58</td>\n",
       "      <td>101.0</td>\n",
       "      <td>189.0</td>\n",
       "      <td>5.0</td>\n",
       "      <td>309.3</td>\n",
       "      <td>184.0</td>\n",
       "      <td>45.56</td>\n",
       "      <td>148.0</td>\n",
       "      <td>63.41</td>\n",
       "      <td>175.0</td>\n",
       "      <td>52.83</td>\n",
       "      <td>194.0</td>\n",
       "      <td>0.91</td>\n",
       "      <td>1000.0</td>\n",
       "      <td>62.5</td>\n",
       "      <td>482.82</td>\n",
       "      <td>30.18</td>\n",
       "      <td>2.0</td>\n",
       "      <td>53.9</td>\n",
       "      <td>19.02</td>\n",
       "      <td>53.497427</td>\n",
       "      <td>51.807708</td>\n",
       "      <td>0</td>\n",
       "    </tr>\n",
       "    <tr>\n",
       "      <th>4</th>\n",
       "      <td>2016</td>\n",
       "      <td>2016-05-29</td>\n",
       "      <td>DEAN &amp; DELUCA Invitational</td>\n",
       "      <td>Colonial Country Club</td>\n",
       "      <td>Anirban Lahiri</td>\n",
       "      <td>T6</td>\n",
       "      <td>6</td>\n",
       "      <td>97.0</td>\n",
       "      <td>0.088</td>\n",
       "      <td>95.0</td>\n",
       "      <td>0.025</td>\n",
       "      <td>90.0</td>\n",
       "      <td>0.143</td>\n",
       "      <td>130.0</td>\n",
       "      <td>-0.080</td>\n",
       "      <td>99.0</td>\n",
       "      <td>-0.020</td>\n",
       "      <td>107.0</td>\n",
       "      <td>19.73</td>\n",
       "      <td>136.0</td>\n",
       "      <td>3.09</td>\n",
       "      <td>97.0</td>\n",
       "      <td>4.05</td>\n",
       "      <td>155.0</td>\n",
       "      <td>4.74</td>\n",
       "      <td>154.0</td>\n",
       "      <td>232.0</td>\n",
       "      <td>82.0</td>\n",
       "      <td>291.7</td>\n",
       "      <td>150.0</td>\n",
       "      <td>56.31</td>\n",
       "      <td>161.0</td>\n",
       "      <td>62.88</td>\n",
       "      <td>138.0</td>\n",
       "      <td>56.40</td>\n",
       "      <td>92.0</td>\n",
       "      <td>1.63</td>\n",
       "      <td>100.0</td>\n",
       "      <td>66.7</td>\n",
       "      <td>181.00</td>\n",
       "      <td>20.11</td>\n",
       "      <td>3.0</td>\n",
       "      <td>55.4</td>\n",
       "      <td>24.06</td>\n",
       "      <td>53.497427</td>\n",
       "      <td>51.807708</td>\n",
       "      <td>1</td>\n",
       "    </tr>\n",
       "  </tbody>\n",
       "</table>\n",
       "</div>"
      ],
      "text/plain": [
       "   SEASON ENDING_DATE                  TOURNAMENT                 COURSE  \\\n",
       "0    2016  2016-05-29  DEAN & DELUCA Invitational  Colonial Country Club   \n",
       "1    2016  2016-05-29  DEAN & DELUCA Invitational  Colonial Country Club   \n",
       "2    2016  2016-05-29  DEAN & DELUCA Invitational  Colonial Country Club   \n",
       "3    2016  2016-05-29  DEAN & DELUCA Invitational  Colonial Country Club   \n",
       "4    2016  2016-05-29  DEAN & DELUCA Invitational  Colonial Country Club   \n",
       "\n",
       "           PLAYER  POS  FINAL_POS  SGTTG_RANK  SGTTG  SGOTT_RANK  SGOTT  \\\n",
       "0  Aaron Baddeley  T55         55       146.0 -0.330       159.0 -0.366   \n",
       "1     Adam Hadwin  T22         22       111.0 -0.011        55.0  0.223   \n",
       "2      Adam Scott  T55         55         1.0  2.062        20.0  0.522   \n",
       "3    Andrew Loupe  CUT         90       150.0 -0.395       105.0 -0.005   \n",
       "4  Anirban Lahiri   T6          6        97.0  0.088        95.0  0.025   \n",
       "\n",
       "   SGAPR_RANK  SGAPR  SGATG_RANK  SGATG  SGP_RANK    SGP  BIRDIES_RANK  \\\n",
       "0       164.0 -0.362        10.0  0.402       8.0  0.586          59.0   \n",
       "1       121.0 -0.055       132.0 -0.081      11.0  0.530          22.0   \n",
       "2         1.0  1.491        83.0  0.049     129.0 -0.168           9.0   \n",
       "3       154.0 -0.281       158.0 -0.172      38.0  0.280          12.0   \n",
       "4        90.0  0.143       130.0 -0.080      99.0 -0.020         107.0   \n",
       "\n",
       "   BIRDIES  PAR_3_RANK  PAR_3  PAR_4_RANK  PAR_4  PAR_5_RANK  PAR_5  \\\n",
       "0    20.72        78.0   3.06        14.0   4.01        50.0   4.64   \n",
       "1    21.74        16.0   3.01        48.0   4.03        68.0   4.66   \n",
       "2    22.88        10.0   3.00         8.0   4.00        13.0   4.58   \n",
       "3    22.74        78.0   3.06       177.0   4.11        13.0   4.58   \n",
       "4    19.73       136.0   3.09        97.0   4.05       155.0   4.74   \n",
       "\n",
       "   TOTAL_DRIVING_RANK  TOTAL_DRIVING  DRIVING_DISTANCE_RANK  DRIVING_DISTANCE  \\\n",
       "0               159.0          237.0                   82.0             291.7   \n",
       "1                35.0          141.0                   92.0             290.1   \n",
       "2                64.0          166.0                   13.0             304.6   \n",
       "3               101.0          189.0                    5.0             309.3   \n",
       "4               154.0          232.0                   82.0             291.7   \n",
       "\n",
       "   DRIVING_ACCURACY_RANK  DRIVING_ACCURACY  GIR_RANK    GIR  SCRAMBLING_RANK  \\\n",
       "0                  155.0             55.42     154.0  63.11              5.0   \n",
       "1                   49.0             63.62      83.0  66.07             97.0   \n",
       "2                  153.0             55.55       3.0  70.76             74.0   \n",
       "3                  184.0             45.56     148.0  63.41            175.0   \n",
       "4                  150.0             56.31     161.0  62.88            138.0   \n",
       "\n",
       "   SCRAMBLING  OWGR_RANK  OWGR  VEGAS_ODDS  CUT_PERCENTAGE  FEDEX_CUP_POINTS  \\\n",
       "0       64.30      143.0  1.14      1000.0            60.0            365.00   \n",
       "1       58.27      193.0  0.91      1000.0            70.6            378.67   \n",
       "2       59.50        6.0  7.07        12.0           100.0            958.35   \n",
       "3       52.83      194.0  0.91      1000.0            62.5            482.82   \n",
       "4       56.40       92.0  1.63       100.0            66.7            181.00   \n",
       "\n",
       "   form_density  CONSECUTIVE_CUTS  RECENT_FORM  adj_form  COURSE_HISTORY  \\\n",
       "0         24.33               0.0         54.0     19.48       90.000000   \n",
       "1         22.27               4.0         53.6     18.54        5.000000   \n",
       "2        136.91               7.0         20.3      9.76       24.000000   \n",
       "3         30.18               2.0         53.9     19.02       53.497427   \n",
       "4         20.11               3.0         55.4     24.06       53.497427   \n",
       "\n",
       "       adj_ch  TOP_20  \n",
       "0  129.840000       0  \n",
       "1    7.210000       0  \n",
       "2   34.620000       0  \n",
       "3   51.807708       0  \n",
       "4   51.807708       1  "
      ]
     },
     "execution_count": 8,
     "metadata": {},
     "output_type": "execute_result"
    }
   ],
   "source": [
    "# === Clean percentage stats stored as strings like '62.5%' ===\n",
    "percent_stats = [\"SCRAMBLING\", \"DRIVING_ACCURACY\", \"BIRDIES\", \"GIR\"]\n",
    "\n",
    "for col in percent_stats:\n",
    "    if col in training_df.columns:\n",
    "        training_df[col] = (\n",
    "            training_df[col]\n",
    "            .astype(str)\n",
    "            .str.replace('%', '', regex=False)\n",
    "            .replace(['None', 'nan', 'NaN', '--', 'DNP', ''], np.nan)\n",
    "            .astype(float)\n",
    "        )\n",
    "\n",
    "# Select only the numeric columns\n",
    "numeric_columns = training_df.select_dtypes(include=['float64', 'int64'])\n",
    "\n",
    "# Fill NaN values with the mean of each column\n",
    "numeric_columns = numeric_columns.fillna(numeric_columns.mean())\n",
    "\n",
    "# Update the original dataframe with the filled numeric columns\n",
    "training_df.update(numeric_columns)\n",
    "\n",
    "training_df.head()"
   ]
  },
  {
   "cell_type": "code",
   "execution_count": 9,
   "id": "bb294b3c",
   "metadata": {},
   "outputs": [],
   "source": [
    "# Check for NaN values\n",
    "assert training_df.isna().sum().sum() == 0, \"🚨 Still missing values!\""
   ]
  },
  {
   "cell_type": "code",
   "execution_count": 10,
   "id": "5d68c5dc",
   "metadata": {},
   "outputs": [
    {
     "data": {
      "text/plain": [
       "SEASON         0\n",
       "ENDING_DATE    0\n",
       "TOURNAMENT     0\n",
       "COURSE         0\n",
       "PLAYER         0\n",
       "POS            0\n",
       "FINAL_POS      0\n",
       "SGTTG_RANK     0\n",
       "SGTTG          0\n",
       "SGOTT_RANK     0\n",
       "dtype: int64"
      ]
     },
     "execution_count": 10,
     "metadata": {},
     "output_type": "execute_result"
    }
   ],
   "source": [
    "# Inspect which columns have NaN values\n",
    "training_df.isna().sum().sort_values(ascending=False).head(10)\n"
   ]
  },
  {
   "cell_type": "markdown",
   "id": "1214b374",
   "metadata": {},
   "source": [
    "### Check Features for Outliers and General Health (Histograms)\n",
    "Now that all the data is cleaned, let's look at the distribution graphs."
   ]
  },
  {
   "cell_type": "code",
   "execution_count": 11,
   "id": "c3ac2331",
   "metadata": {},
   "outputs": [
    {
     "data": {
      "application/vnd.plotly.v1+json": {
       "config": {
        "plotlyServerURL": "https://plot.ly"
       },
       "data": [
        {
         "histnorm": "density",
         "marker": {
          "color": "#636EFA"
         },
         "nbinsx": 5,
         "opacity": 0.8,
         "type": "histogram",
         "x": {
          "bdata": "4AfgB+AH4AfgB+AH4AfgB+AH4AfgB+AH4AfgB+AH4AfgB+AH4AfgB+AH4AfgB+AH4AfgB+AH4AfgB+AH4AfgB+AH4AfgB+AH4AfgB+AH4AfgB+AH4AfgB+AH4AfgB+AH4AfgB+AH4AfgB+AH4AfgB+AH4AfgB+AH4AfgB+AH4AfgB+AH4AfgB+AH4AfgB+AH4AfgB+AH4AfgB+AH4AfgB+AH4AfgB+AH4AfgB+AH4AfgB+AH4AfgB+AH4AfgB+AH4AfgB+AH4AfgB+AH4AfgB+AH4AfgB+AH4AfgB+AH4AfgB+AH4AfgB+AH4AfgB+AH4AfhB+EH4QfhB+EH4QfhB+EH4QfhB+EH4QfhB+EH4QfhB+EH4QfhB+EH4QfhB+EH4QfhB+EH4QfhB+EH4QfhB+EH4QfhB+EH4QfhB+EH4QfhB+EH4QfhB+EH4QfhB+EH4QfhB+EH4QfhB+EH4QfhB+EH4QfhB+EH4QfhB+EH4QfhB+EH4QfhB+EH4QfhB+EH4QfhB+EH4QfhB+EH4QfhB+EH4QfhB+EH4QfhB+EH4QfhB+EH4QfhB+EH4QfhB+EH4QfhB+EH4QfhB+EH4QfhB+EH4QfhB+EH4QfhB+EH4QfhB+EH4QfhB+EH4QfhB+EH4QfhB+IH4gfiB+IH4gfiB+IH4gfiB+IH4gfiB+IH4gfiB+IH4gfiB+IH4gfiB+IH4gfiB+IH4gfiB+IH4gfiB+IH4gfiB+IH4gfiB+IH4gfiB+IH4gfiB+IH4gfiB+IH4gfiB+IH4gfiB+IH4gfiB+IH4gfiB+IH4gfiB+IH4gfiB+IH4gfiB+IH4gfiB+IH4gfiB+IH4gfiB+IH4gfiB+IH4gfiB+IH4gfiB+IH4gfiB+IH4gfiB+IH4gfiB+IH4gfiB+IH4gfiB+IH4gfiB+IH4gfiB+IH4gfiB+IH4gfiB+IH4gfiB+IH4gfiB+IH4gfiB+IH4wfjB+MH4wfjB+MH4wfjB+MH4wfjB+MH4wfjB+MH4wfjB+MH4wfjB+MH4wfjB+MH4wfjB+MH4wfjB+MH4wfjB+MH4wfjB+MH4wfjB+MH4wfjB+MH4wfjB+MH4wfjB+MH4wfjB+MH4wfjB+MH4wfjB+MH4wfjB+MH4wfjB+MH4wfjB+MH4wfjB+MH4wfjB+MH4wfjB+MH4wfjB+MH4wfjB+MH4wfjB+MH4wfjB+MH4wfjB+MH4wfjB+MH4wfjB+MH4wfjB+MH4wfjB+MH4wfjB+MH4wfjB+MH4wfjB+MH4wfjB+MH4wfjB+MH4wfjB+MH4wfkB+QH5AfkB+QH5AfkB+QH5AfkB+QH5AfkB+QH5AfkB+QH5AfkB+QH5AfkB+QH5AfkB+QH5AfkB+QH5AfkB+QH5AfkB+QH5AfkB+QH5AfkB+QH5AfkB+QH5AfkB+QH5AfkB+QH5AfkB+QH5AfkB+QH5AfkB+QH5AfkB+QH5AfkB+QH5AfkB+QH5AfkB+QH5AfkB+QH5AfkB+QH5AfkB+QH5AfkB+QH5AfkB+QH5AfkB+QH5AfkB+QH5AfkB+QH5AfkB+QH5AfkB+QH5AfkB+QH5AfkB+QH5AfkB+QH5AfkB+QH5AfkB+QH5AfkB+QH5AfkB+QH5AfkB+QH5AfkB+QH5AfkB+QH5AfkB+QH5AfkB+QH5AfkB+QH5AfkB+QH5AfkB+QH5AfkB+UH5QflB+UH5QflB+UH5QflB+UH5QflB+UH5QflB+UH5QflB+UH5QflB+UH5QflB+UH5QflB+UH5QflB+UH5QflB+UH5QflB+UH5QflB+UH5QflB+UH5QflB+UH5QflB+UH5QflB+UH5QflB+UH5QflB+UH5QflB+UH5QflB+UH5QflB+UH5QflB+UH5QflB+UH5QflB+UH5QflB+UH5QflB+UH5QflB+UH5QflB+UH5QflB+UH5QflB+UH5QflB+UH5QflB+UH5QflB+UH5QflB+UH5QflB+UH5QflB+UH5QflB+UH5QflB+UH5QflB+UH5gfmB+YH5gfmB+YH5gfmB+YH5gfmB+YH5gfmB+YH5gfmB+YH5gfmB+YH5gfmB+YH5gfmB+YH5gfmB+YH5gfmB+YH5gfmB+YH5gfmB+YH5gfmB+YH5gfmB+YH5gfmB+YH5gfmB+YH5gfmB+YH5gfmB+YH5gfmB+YH5gfmB+YH5gfmB+YH5gfmB+YH5gfmB+YH5gfmB+YH5gfmB+YH5gfmB+YH5gfmB+YH5gfmB+YH5gfmB+YH5gfmB+YH5gfmB+YH5gfmB+YH5gfmB+YH5gfmB+YH5gfmB+YH5gfmB+YH5gfmB+YH5gfmB+YH5gfmB+YH5wfnB+cH5wfnB+cH5wfnB+cH5wfnB+cH5wfnB+cH5wfnB+cH5wfnB+cH5wfnB+cH5wfnB+cH5wfnB+cH5wfnB+cH5wfnB+cH5wfnB+cH5wfnB+cH5wfnB+cH5wfnB+cH5wfnB+cH5wfnB+cH5wfnB+cH5wfnB+cH5wfnB+cH5wfnB+cH5wfnB+cH5wfnB+cH5wfnB+cH5wfnB+cH5wfnB+cH5wfnB+cH5wfnB+cH5wfnB+cH5wfnB+cH5wfnB+cH5wfnB+cH5wfnB+cH5wfnB+cH5wfnB+cH5wfnB+cH5wfnB+cH5wfnB+cH5wfnB+cH6AfoB+gH6AfoB+gH6AfoB+gH6AfoB+gH6AfoB+gH6AfoB+gH6AfoB+gH6AfoB+gH6AfoB+gH6AfoB+gH6AfoB+gH6AfoB+gH6AfoB+gH6AfoB+gH6AfoB+gH6AfoB+gH6AfoB+gH6AfoB+gH6AfoB+gH6AfoB+gH6AfoB+gH6AfoB+gH6AfoB+gH6AfoB+gH6AfoB+gH6AfoB+gH6AfoB+gH6AfoB+gH6AfoB+gH6AfoB+gH6AfoB+gH6AfoB+gH6AfoB+gH6AfoB+gH6AfoB+gH6AfoB+gH6AfoB+gH6AfoB+gH6AfoB+gH6AfoB+gH6AfoB+gH6AfoB+gH6AfoB+gH6AfoB+gH",
          "dtype": "i2"
         },
         "xaxis": "x",
         "yaxis": "y"
        },
        {
         "histnorm": "density",
         "marker": {
          "color": "#636EFA"
         },
         "nbinsx": 50,
         "opacity": 0.8,
         "type": "histogram",
         "x": {
          "bdata": "NxY3WgYdHS8iWhFaWkEZWgpaPlpaCiIZKlpaDw1DLxYRGT43WlpaWlpaAkMvWlpaIgZaN1paWlodHVpaIi83AVpaWloKKlpaBVpaWg0+WgZaBlovD1paKkZBA1paQ1oiKiJaWjdaLxZaWh0vESIRGSo3IgNaL1oRWlo1Wlo5DCIpWlpaMCIHGFpaKVpaWkhaIhgwQykpIloGRgxaMEUYWjUdOVpaHVpaWilaWlpaWlpaWloCEgJaEgESElpaWlpaIlpaWlo/DCk5DD01HVpaPwodEiJaWhhDRhgMBz8CDFpaB1oKOVodWhIFMCI9MDVaPylaWjQ0WjRCWhQ6WkAIIAsOQioOIFoCKhRaKjQUWgtaWiAIDlpaKgNaFFpaFFogSUIUCBQqTQVaIAFaWjQETAUFKlpaTSAqICBaWkoqWlpASg5aNFoUOhQOWlpaWhRaWlpaWkIUQlogOlpaKgsqOjpHDhRaRzogWlpaMDoTWloDNRMoQCgwE1o1E1oNH0AoWlpaRAM6Wg0fWjBaHzUwH1pGWloTNUlaRhtaKB8NEx9aWgUIETpAWlpaWgEfE1paCCg1EUBaG1paOkVaCFpaWlooDVpaWlofBghaWgYfMFoTWlpaWlodOkgoAihaHQg6WlpaWg4rWis8MVpaWlpaJhNaWloXK1omIAMHHTxaWg5aWloxWhdaPFoCEwFaWlpCOlpaWlpaWglaE1omWh1aClpDA1o8MVpaIBNaWgpaAwpaIFpAHVpaWlpaNxdaWisgJlpaMTYgWlpaWjEHDloOWhc6WlogDlpaWlpaWlpAN1paWlpaWloKK1paWhdaJlpaWhdaWgNaNysOCBRBPlpaWihaWjIIWgg4ODIgLVpaIEUoA1pFDhRLFChaOw5aCBQOWiBaMlotA0paWkEBRVoyWhQCWhQoWlooIBQOCFoIWlpFWjI4WhRaWlogPi1aWgNaWlogLTstQ1ogWlpaWkNaA1oUWj5aDlpaFAcyFFo7FEkgRFojWigbDz8VG1paOQNaWjQHWlpaG0IbDw8oFxcwBBtaWiM/WlpaWlobRVooWlpaWlpDPwxaB1paWloHWlpaKCMoMCg0NAw5OVoXNChaB1owWgwHI1paWlo5WjQPWig5AVpaBAIwWloPG1paIwRaOQ9aFVobWloXFQxaAjgdKCgdEBVGNDlaKDkdFVpaPxUMKFoVP1odWloQWlpaWgFaP1paWgxaA1paWj9aKERaWjkMEDlaCVoVHVodWig5WglaMEY0CVoGKFowWjkwBR1aWgYdWhBIFVpaBlodKFoDHR1EWloVNFpaWlpaEDA0Wlo/IFoMGFoRWlpaWkFaWlolIFoYWloyGCVGOFpaWlpaDDJaWlpaEQQtCVoBERgyWkBaWlotWlpaWgVaWgxaWjglWiVaIFogAiVBMhg9DAxaQSVaERhaEVpaBVpaGFpBWlo9LVolBVolCVpaIEVaWj1aWloCBTgJWjgRGFoRLThaMkYyWlot",
          "dtype": "i1"
         },
         "xaxis": "x2",
         "yaxis": "y2"
        },
        {
         "histnorm": "density",
         "marker": {
          "color": "#636EFA"
         },
         "nbinsx": 50,
         "opacity": 0.8,
         "type": "histogram",
         "x": {
          "bdata": "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",
          "dtype": "f8"
         },
         "xaxis": "x3",
         "yaxis": "y3"
        },
        {
         "histnorm": "density",
         "marker": {
          "color": "#636EFA"
         },
         "nbinsx": 50,
         "opacity": 0.8,
         "type": "histogram",
         "x": {
          "bdata": "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",
          "dtype": "f8"
         },
         "xaxis": "x4",
         "yaxis": "y4"
        },
        {
         "histnorm": "density",
         "marker": {
          "color": "#636EFA"
         },
         "nbinsx": 50,
         "opacity": 0.8,
         "type": "histogram",
         "x": {
          "bdata": "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",
          "dtype": "f8"
         },
         "xaxis": "x5",
         "yaxis": "y5"
        },
        {
         "histnorm": "density",
         "marker": {
          "color": "#636EFA"
         },
         "nbinsx": 50,
         "opacity": 0.8,
         "type": "histogram",
         "x": {
          "bdata": "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",
          "dtype": "f8"
         },
         "xaxis": "x6",
         "yaxis": "y6"
        },
        {
         "histnorm": "density",
         "marker": {
          "color": "#636EFA"
         },
         "nbinsx": 50,
         "opacity": 0.8,
         "type": "histogram",
         "x": {
          "bdata": "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",
          "dtype": "f8"
         },
         "xaxis": "x7",
         "yaxis": "y7"
        },
        {
         "histnorm": "density",
         "marker": {
          "color": "#636EFA"
         },
         "nbinsx": 50,
         "opacity": 0.8,
         "type": "histogram",
         "x": {
          "bdata": "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",
          "dtype": "f8"
         },
         "xaxis": "x8",
         "yaxis": "y8"
        },
        {
         "histnorm": "density",
         "marker": {
          "color": "#636EFA"
         },
         "nbinsx": 50,
         "opacity": 0.8,
         "type": "histogram",
         "x": {
          "bdata": "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",
          "dtype": "f8"
         },
         "xaxis": "x9",
         "yaxis": "y9"
        },
        {
         "histnorm": "density",
         "marker": {
          "color": "#636EFA"
         },
         "nbinsx": 50,
         "opacity": 0.8,
         "type": "histogram",
         "x": {
          "bdata": "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",
          "dtype": "f8"
         },
         "xaxis": "x10",
         "yaxis": "y10"
        },
        {
         "histnorm": "density",
         "marker": {
          "color": "#636EFA"
         },
         "nbinsx": 50,
         "opacity": 0.8,
         "type": "histogram",
         "x": {
          "bdata": "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",
          "dtype": "f8"
         },
         "xaxis": "x11",
         "yaxis": "y11"
        },
        {
         "histnorm": "density",
         "marker": {
          "color": "#636EFA"
         },
         "nbinsx": 50,
         "opacity": 0.8,
         "type": "histogram",
         "x": {
          "bdata": "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",
          "dtype": "f8"
         },
         "xaxis": "x12",
         "yaxis": "y12"
        },
        {
         "histnorm": "density",
         "marker": {
          "color": "#636EFA"
         },
         "nbinsx": 50,
         "opacity": 0.8,
         "type": "histogram",
         "x": {
          "bdata": "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",
          "dtype": "f8"
         },
         "xaxis": "x13",
         "yaxis": "y13"
        },
        {
         "histnorm": "density",
         "marker": {
          "color": "#636EFA"
         },
         "nbinsx": 50,
         "opacity": 0.8,
         "type": "histogram",
         "x": {
          "bdata": "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",
          "dtype": "f8"
         },
         "xaxis": "x14",
         "yaxis": "y14"
        },
        {
         "histnorm": "density",
         "marker": {
          "color": "#636EFA"
         },
         "nbinsx": 50,
         "opacity": 0.8,
         "type": "histogram",
         "x": {
          "bdata": "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",
          "dtype": "f8"
         },
         "xaxis": "x15",
         "yaxis": "y15"
        },
        {
         "histnorm": "density",
         "marker": {
          "color": "#636EFA"
         },
         "nbinsx": 14,
         "opacity": 0.8,
         "type": "histogram",
         "x": {
          "bdata": "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",
          "dtype": "f8"
         },
         "xaxis": "x16",
         "yaxis": "y16"
        },
        {
         "histnorm": "density",
         "marker": {
          "color": "#636EFA"
         },
         "nbinsx": 50,
         "opacity": 0.8,
         "type": "histogram",
         "x": {
          "bdata": "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",
          "dtype": "f8"
         },
         "xaxis": "x17",
         "yaxis": "y17"
        },
        {
         "histnorm": "density",
         "marker": {
          "color": "#636EFA"
         },
         "nbinsx": 15,
         "opacity": 0.8,
         "type": "histogram",
         "x": {
          "bdata": "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",
          "dtype": "f8"
         },
         "xaxis": "x18",
         "yaxis": "y18"
        },
        {
         "histnorm": "density",
         "marker": {
          "color": "#636EFA"
         },
         "nbinsx": 50,
         "opacity": 0.8,
         "type": "histogram",
         "x": {
          "bdata": "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",
          "dtype": "f8"
         },
         "xaxis": "x19",
         "yaxis": "y19"
        },
        {
         "histnorm": "density",
         "marker": {
          "color": "#636EFA"
         },
         "nbinsx": 22,
         "opacity": 0.8,
         "type": "histogram",
         "x": {
          "bdata": "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",
          "dtype": "f8"
         },
         "xaxis": "x20",
         "yaxis": "y20"
        },
        {
         "histnorm": "density",
         "marker": {
          "color": "#636EFA"
         },
         "nbinsx": 50,
         "opacity": 0.8,
         "type": "histogram",
         "x": {
          "bdata": "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",
          "dtype": "f8"
         },
         "xaxis": "x21",
         "yaxis": "y21"
        },
        {
         "histnorm": "density",
         "marker": {
          "color": "#636EFA"
         },
         "nbinsx": 50,
         "opacity": 0.8,
         "type": "histogram",
         "x": {
          "bdata": "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",
          "dtype": "f8"
         },
         "xaxis": "x22",
         "yaxis": "y22"
        },
        {
         "histnorm": "density",
         "marker": {
          "color": "#636EFA"
         },
         "nbinsx": 50,
         "opacity": 0.8,
         "type": "histogram",
         "x": {
          "bdata": "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",
          "dtype": "f8"
         },
         "xaxis": "x23",
         "yaxis": "y23"
        },
        {
         "histnorm": "density",
         "marker": {
          "color": "#636EFA"
         },
         "nbinsx": 50,
         "opacity": 0.8,
         "type": "histogram",
         "x": {
          "bdata": "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",
          "dtype": "f8"
         },
         "xaxis": "x24",
         "yaxis": "y24"
        },
        {
         "histnorm": "density",
         "marker": {
          "color": "#636EFA"
         },
         "nbinsx": 50,
         "opacity": 0.8,
         "type": "histogram",
         "x": {
          "bdata": "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",
          "dtype": "f8"
         },
         "xaxis": "x25",
         "yaxis": "y25"
        },
        {
         "histnorm": "density",
         "marker": {
          "color": "#636EFA"
         },
         "nbinsx": 50,
         "opacity": 0.8,
         "type": "histogram",
         "x": {
          "bdata": "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",
          "dtype": "f8"
         },
         "xaxis": "x26",
         "yaxis": "y26"
        },
        {
         "histnorm": "density",
         "marker": {
          "color": "#636EFA"
         },
         "nbinsx": 50,
         "opacity": 0.8,
         "type": "histogram",
         "x": {
          "bdata": "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",
          "dtype": "f8"
         },
         "xaxis": "x27",
         "yaxis": "y27"
        },
        {
         "histnorm": "density",
         "marker": {
          "color": "#636EFA"
         },
         "nbinsx": 50,
         "opacity": 0.8,
         "type": "histogram",
         "x": {
          "bdata": "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",
          "dtype": "f8"
         },
         "xaxis": "x28",
         "yaxis": "y28"
        },
        {
         "histnorm": "density",
         "marker": {
          "color": "#636EFA"
         },
         "nbinsx": 50,
         "opacity": 0.8,
         "type": "histogram",
         "x": {
          "bdata": "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",
          "dtype": "f8"
         },
         "xaxis": "x29",
         "yaxis": "y29"
        },
        {
         "histnorm": "density",
         "marker": {
          "color": "#636EFA"
         },
         "nbinsx": 50,
         "opacity": 0.8,
         "type": "histogram",
         "x": {
          "bdata": "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",
          "dtype": "f8"
         },
         "xaxis": "x30",
         "yaxis": "y30"
        },
        {
         "histnorm": "density",
         "marker": {
          "color": "#636EFA"
         },
         "nbinsx": 50,
         "opacity": 0.8,
         "type": "histogram",
         "x": {
          "bdata": "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",
          "dtype": "f8"
         },
         "xaxis": "x31",
         "yaxis": "y31"
        },
        {
         "histnorm": "density",
         "marker": {
          "color": "#636EFA"
         },
         "nbinsx": 50,
         "opacity": 0.8,
         "type": "histogram",
         "x": {
          "bdata": "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",
          "dtype": "f8"
         },
         "xaxis": "x32",
         "yaxis": "y32"
        },
        {
         "histnorm": "density",
         "marker": {
          "color": "#636EFA"
         },
         "nbinsx": 50,
         "opacity": 0.8,
         "type": "histogram",
         "x": {
          "bdata": "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",
          "dtype": "f8"
         },
         "xaxis": "x33",
         "yaxis": "y33"
        },
        {
         "histnorm": "density",
         "marker": {
          "color": "#636EFA"
         },
         "nbinsx": 50,
         "opacity": 0.8,
         "type": "histogram",
         "x": {
          "bdata": "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",
          "dtype": "f8"
         },
         "xaxis": "x34",
         "yaxis": "y34"
        },
        {
         "histnorm": "density",
         "marker": {
          "color": "#636EFA"
         },
         "nbinsx": 50,
         "opacity": 0.8,
         "type": "histogram",
         "x": {
          "bdata": "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",
          "dtype": "f8"
         },
         "xaxis": "x35",
         "yaxis": "y35"
        },
        {
         "histnorm": "density",
         "marker": {
          "color": "#636EFA"
         },
         "nbinsx": 50,
         "opacity": 0.8,
         "type": "histogram",
         "x": {
          "bdata": "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",
          "dtype": "f8"
         },
         "xaxis": "x36",
         "yaxis": "y36"
        },
        {
         "histnorm": "density",
         "marker": {
          "color": "#636EFA"
         },
         "nbinsx": 50,
         "opacity": 0.8,
         "type": "histogram",
         "x": {
          "bdata": "AAAAAAAAAAAAAAAAAAAQQAAAAAAAABxAAAAAAAAAAEAAAAAAAAAIQAAAAAAAAPA/AAAAAAAAAAAAAAAAAADwPwAAAAAAAAAAAAAAAAAAFEAAAAAAAAAAAAAAAAAAAAAAAAAAAAAA8D8AAAAAAAAAQAAAAAAAAAAAAAAAAAAA8D8AAAAAAAAYQAAAAAAAAAAAAAAAAAAAFEAAAAAAAAAAQAAAAAAAAAAAAAAAAAAAAEAAAAAAAAAAAAAAAAAAAPA/AAAAAAAA8D8AAAAAAAAAAAAAAAAAAPA/AAAAAAAAAAAAAAAAAADwPwAAAAAAABhAAAAAAAAAEEAAAAAAAAAIQAAAAAAAAPA/AAAAAAAAAAAAAAAAAADwPwAAAAAAAAAAAAAAAAAACED+8oN87MX6PwAAAAAAAAhAAAAAAAAAAAAAAAAAAAAAAAAAAAAAAPA/AAAAAAAA8D8AAAAAAADwPwAAAAAAAABAAAAAAAAAAAAAAAAAAAAAAAAAAAAAAABAAAAAAAAAAAAAAAAAAAAIQAAAAAAAAAAAAAAAAAAAAAAAAAAAAADwPwAAAAAAAAAAAAAAAAAACEAAAAAAAADwPwAAAAAAAAAAAAAAAAAA8D8AAAAAAAAAAAAAAAAAAPA/AAAAAAAAGEAAAAAAAAAIQAAAAAAAAABAAAAAAAAA8D8AAAAAAAAAAP7yg3zsxfo/AAAAAAAAAAAAAAAAAAAQQAAAAAAAAAAAAAAAAAAAAAAAAAAAAADwPwAAAAAAAAAAAAAAAAAAEEAAAAAAAADwPwAAAAAAAAAAAAAAAAAAAAAAAAAAAAAAAAAAAAAAAAAAAAAAAAAAAAAAAAAAAAAAAAAAAAAAAAAAAAAAAAAAFEAAAAAAAAAUQAAAAAAAAAAAAAAAAAAAAAAAAAAAAAAIQAAAAAAAAAAAAAAAAAAA8D8AAAAAAAAAAAAAAAAAAABAAAAAAAAAAAAAAAAAAAAAAAAAAAAAAAAAAAAAAAAAAAAAAAAAAAAIQAAAAAAAAAhAAAAAAAAAAAAAAAAAAAAAAAAAAAAAAPA/AAAAAAAAAAAAAAAAAAAAQAAAAAAAAPA/AAAAAAAAAAAAAAAAAADwPwAAAAAAAAAAAAAAAAAA8D8AAAAAAADwPwAAAAAAAAhAAAAAAAAACEAAAAAAAADwPwAAAAAAAAAAAAAAAAAAAAAAAAAAAADwPwAAAAAAAAAAAAAAAAAACEAAAAAAAAAAAAAAAAAAAABAAAAAAAAAEEAAAAAAAAAAAAAAAAAAABBAAAAAAAAAAAAAAAAAAAAAQAAAAAAAACpAAAAAAAAAAAAAAAAAAADwPwAAAAAAAABAAAAAAAAAAAAAAAAAAADwPwAAAAAAABRAAAAAAAAAHEAAAAAAAAAAQAAAAAAAAAAAAAAAAAAAAAAAAAAAAADwPwAAAAAAAAhAAAAAAAAAAAAAAAAAAAAAAAAAAAAAAAAAAAAAAAAACEAAAAAAAAAAAAAAAAAAAAAAAAAAAAAAAAAAAAAAAAAAQAAAAAAAAAAAAAAAAAAA8D8AAAAAAAAIQAAAAAAAAAAAAAAAAAAAAEAAAAAAAAAAAAAAAAAAAAAAAAAAAAAA8D8AAAAAAAAUQAAAAAAAAPA/AAAAAAAA8D8AAAAAAAAAQAAAAAAAAAAAAAAAAAAAAAAAAAAAAADwPwAAAAAAABxAAAAAAAAAAAAAAAAAAADwPwAAAAAAACJAAAAAAAAAAAAAAAAAAADwPwAAAAAAAPA/AAAAAAAAAAAAAAAAAAAAAAAAAAAAAAhAAAAAAAAAFEAAAAAAAAAAAAAAAAAAAPA//vKDfOzF+j8AAAAAAADwPwAAAAAAACBAAAAAAAAA8D/+8oN87MX6PwAAAAAAAPA/AAAAAAAA8D8AAAAAAAAAAAAAAAAAACZAAAAAAAAAAAAAAAAAAAAAAP7yg3zsxfo/AAAAAAAAAAAAAAAAAADwPwAAAAAAAPA/AAAAAAAACEAAAAAAAADwPwAAAAAAABRAAAAAAAAACEAAAAAAAAAAAAAAAAAAAABAAAAAAAAA8D8AAAAAAAAAAAAAAAAAAAAA/vKDfOzF+j8AAAAAAAAAAAAAAAAAAAAAAAAAAAAAFEAAAAAAAAAAQAAAAAAAAAAAAAAAAAAAAEAAAAAAAAAgQAAAAAAAAABAAAAAAAAACEAAAAAAAAAoQAAAAAAAAPA/AAAAAAAAAAAAAAAAAAAgQAAAAAAAACZAAAAAAAAAEEAAAAAAAAAAAAAAAAAAAAhAAAAAAAAAAAAAAAAAAAAAAAAAAAAAAAAAAAAAAAAA8D8AAAAAAAAAAAAAAAAAAPA/AAAAAAAA8D8AAAAAAADwPwAAAAAAAPA/AAAAAAAAGEAAAAAAAAAAAAAAAAAAAABAAAAAAAAAAEAAAAAAAAAAAAAAAAAAAAAAAAAAAAAAFEAAAAAAAADwPwAAAAAAAPA/AAAAAAAAAAAAAAAAAAAAAAAAAAAAAPA/AAAAAAAAAAAAAAAAAAAAAAAAAAAAAPA/AAAAAAAAAAAAAAAAAAAAQAAAAAAAAPA/AAAAAAAAAEAAAAAAAAAAAAAAAAAAAAAAAAAAAAAAAEAAAAAAAADwPwAAAAAAACZAAAAAAAAA8D8AAAAAAAAIQAAAAAAAAAAAAAAAAAAA8D8AAAAAAAAQQAAAAAAAAPA/AAAAAAAAEEAAAAAAAAAcQAAAAAAAABBAAAAAAAAAAAAAAAAAAAAAAAAAAAAAAAAAAAAAAAAACEAAAAAAAAAAAAAAAAAAAAAAAAAAAAAA8D8AAAAAAAAQQAAAAAAAABBAAAAAAAAAFEAAAAAAAAAIQAAAAAAAAAAAAAAAAAAAAAAAAAAAAAAAAAAAAAAAABhAAAAAAAAAAEAAAAAAAAAIQAAAAAAAAABAAAAAAAAAAEAAAAAAAAAAAAAAAAAAAAhAAAAAAAAA8D8AAAAAAAAAAAAAAAAAAAAAAAAAAAAA8D8AAAAAAAAqQAAAAAAAAAAAAAAAAAAAAAAAAAAAAAAAAAAAAAAAAPA/AAAAAAAA8D8AAAAAAAAAQAAAAAAAAPA/AAAAAAAAAEAAAAAAAAAQQAAAAAAAABxAAAAAAAAAAAAAAAAAAAAUQAAAAAAAAAAAAAAAAAAAAAAAAAAAAAAgQAAAAAAAAPA/AAAAAAAAEEAAAAAAAAAcQP7yg3zsxfo/AAAAAAAAAAAAAAAAAAAAAAAAAAAAAABAAAAAAAAAAAAAAAAAAAAAQAAAAAAAAAAAAAAAAAAAAEAAAAAAAADwPwAAAAAAAAAAAAAAAAAA8D8AAAAAAAAAAAAAAAAAAPA/AAAAAAAA8D8AAAAAAADwPwAAAAAAAABAAAAAAAAAJkAAAAAAAAAcQAAAAAAAAAAAAAAAAAAAAEAAAAAAAADwPwAAAAAAAAAAAAAAAAAAAAAAAAAAAAAAAAAAAAAAAPA/AAAAAAAA8D8AAAAAAADwPwAAAAAAAChAAAAAAAAAAAAAAAAAAADwPwAAAAAAAPA/AAAAAAAACEAAAAAAAAAAAAAAAAAAABBAAAAAAAAAAAAAAAAAAAAAAAAAAAAAAPA/AAAAAAAA8D8AAAAAAAAAAAAAAAAAAAAAAAAAAAAAAAAAAAAAAAAAQAAAAAAAAAAAAAAAAAAAEEAAAAAAAAAAAAAAAAAAAPA/AAAAAAAAAAAAAAAAAADwPwAAAAAAAAAAAAAAAAAACEAAAAAAAAAAAAAAAAAAAABAAAAAAAAAAEAAAAAAAAAAAAAAAAAAAABAAAAAAAAAAAAAAAAAAADwPwAAAAAAABhAAAAAAAAAAAAAAAAAAAAAAAAAAAAAAAAAAAAAAAAAHEAAAAAAAAAAAAAAAAAAACpAAAAAAAAAAAAAAAAAAAAAQAAAAAAAAABAAAAAAAAAAAAAAAAAAAAAQAAAAAAAAPA/AAAAAAAAAAAAAAAAAAAAAAAAAAAAAAhAAAAAAAAA8D8AAAAAAAAAAAAAAAAAAABAAAAAAAAACEAAAAAAAADwPwAAAAAAAAAAAAAAAAAAAEAAAAAAAAAAQAAAAAAAAAAAAAAAAAAAAAAAAAAAAAAQQAAAAAAAAPA/AAAAAAAA8D8AAAAAAAAAAAAAAAAAAAhAAAAAAAAAAAAAAAAAAAAAAAAAAAAAAPA/AAAAAAAA8D8AAAAAAAAUQAAAAAAAAAAAAAAAAAAACEAAAAAAAAAAAAAAAAAAAAAAAAAAAAAA8D8AAAAAAAAQQAAAAAAAAPA//vKDfOzF+j8AAAAAAADwPwAAAAAAAAAAAAAAAAAA8D8AAAAAAAAAAAAAAAAAABBAAAAAAAAA8D8AAAAAAAAgQAAAAAAAAAAAAAAAAAAAAAAAAAAAAAAAAAAAAAAAAPA/AAAAAAAAAAAAAAAAAAAAAAAAAAAAAAAAAAAAAAAA8D8AAAAAAAAAAAAAAAAAABhAAAAAAAAAAAAAAAAAAADwPwAAAAAAABRAAAAAAAAAAAAAAAAAAAAAQAAAAAAAABBA/vKDfOzF+j8AAAAAAADwPwAAAAAAAAAAAAAAAAAAAAAAAAAAAAAAAAAAAAAAAAhAAAAAAAAACEAAAAAAAAAIQAAAAAAAAABAAAAAAAAAAAAAAAAAAAAAAAAAAAAAAABAAAAAAAAA8D8AAAAAAAAUQAAAAAAAABhAAAAAAAAACEAAAAAAAAAAAAAAAAAAAAAAAAAAAAAAAAAAAAAAAAAAQAAAAAAAAAAAAAAAAAAAAAAAAAAAAAAQQAAAAAAAABRAAAAAAAAAAAAAAAAAAAAAQAAAAAAAAPA/AAAAAAAA8D8AAAAAAAAAAAAAAAAAACZAAAAAAAAAAAAAAAAAAAAAAAAAAAAAAPA/AAAAAAAAHEAAAAAAAAAAAAAAAAAAAAAAAAAAAAAAAAAAAAAAAAAAAAAAAAAAAABAAAAAAAAAAAAAAAAAAAAAAAAAAAAAABRAAAAAAAAAAAAAAAAAAAAIQAAAAAAAAABAAAAAAAAAAAAAAAAAAAAAAAAAAAAAAAAAAAAAAAAAAAAAAAAAAADwPwAAAAAAAABAAAAAAAAAHEAAAAAAAAAAAP7yg3zsxfo/AAAAAAAAAAAAAAAAAAAAQAAAAAAAAABAAAAAAAAAAAAAAAAAAAAAAAAAAAAAAAhAAAAAAAAA8D8AAAAAAAAcQAAAAAAAAPA/AAAAAAAAAEAAAAAAAAAAAAAAAAAAAAAAAAAAAAAA8D8AAAAAAAAAAP7yg3zsxfo/AAAAAAAAFED+8oN87MX6PwAAAAAAAAAAAAAAAAAAEEAAAAAAAAAAAAAAAAAAAAAAAAAAAAAAIkAAAAAAAADwPwAAAAAAAAAAAAAAAAAAAAAAAAAAAADwPwAAAAAAAAAAAAAAAAAA8D8AAAAAAAAUQAAAAAAAAAAAAAAAAAAAEEAAAAAAAAAQQAAAAAAAAAAAAAAAAAAAFEAAAAAAAAAAAAAAAAAAAAAAAAAAAAAAAAAAAAAAAAAAAAAAAAAAAAAAAAAAAAAA8D8AAAAAAAAAAAAAAAAAAABAAAAAAAAAAAAAAAAAAADwPwAAAAAAACRAAAAAAAAAAAAAAAAAAAAYQAAAAAAAAABAAAAAAAAA8D/+8oN87MX6PwAAAAAAAAAAAAAAAAAA8D8AAAAAAAAAAAAAAAAAAAhAAAAAAAAAAEAAAAAAAADwPwAAAAAAAAAA/vKDfOzF+j8AAAAAAAAAQAAAAAAAAPA/AAAAAAAACEAAAAAAAAAUQAAAAAAAABRAAAAAAAAAAAAAAAAAAAAQQAAAAAAAAAAAAAAAAAAAAAAAAAAAAAAAAAAAAAAAABRAAAAAAAAA8D8AAAAAAAAAAAAAAAAAAPA/AAAAAAAAAAAAAAAAAAAAAAAAAAAAAABAAAAAAAAAAAAAAAAAAAAIQAAAAAAAAPA/AAAAAAAAEEAAAAAAAAAAQAAAAAAAAAAAAAAAAAAAAAAAAAAAAAAAAAAAAAAAAAhAAAAAAAAA8D/+8oN87MX6PwAAAAAAAPA/AAAAAAAAAAAAAAAAAADwPwAAAAAAAAAAAAAAAAAAAAAAAAAAAADwPwAAAAAAAAhAAAAAAAAAAAAAAAAAAAAAAAAAAAAAAPA/AAAAAAAAHEAAAAAAAAAAAAAAAAAAABBAAAAAAAAAAEAAAAAAAAAIQAAAAAAAAPA/AAAAAAAAAAAAAAAAAAAAQAAAAAAAAAAAAAAAAAAAIkAAAAAAAAAAAAAAAAAAAPA//vKDfOzF+j8AAAAAAAAAAAAAAAAAAAhAAAAAAAAACEAAAAAAAAAAQAAAAAAAAAAAAAAAAAAAAAAAAAAAAAAAAAAAAAAAAPA/AAAAAAAA8D8AAAAAAAAAQAAAAAAAABBAAAAAAAAACEAAAAAAAAAAAAAAAAAAAABAAAAAAAAAAEAAAAAAAAAAAAAAAAAAAPA/AAAAAAAA8D/+8oN87MX6PwAAAAAAAAAAAAAAAAAAAEAAAAAAAAAAAAAAAAAAAAAAAAAAAAAACEAAAAAAAAAAQAAAAAAAAAAAAAAAAAAAAEAAAAAAAAAAQAAAAAAAAABAAAAAAAAAKEAAAAAAAADwP/7yg3zsxfo/AAAAAAAA8D8AAAAAAAAAAAAAAAAAAPA/AAAAAAAAAAAAAAAAAAAAAAAAAAAAAAhA/vKDfOzF+j8AAAAAAADwPwAAAAAAABBAAAAAAAAAFEAAAAAAAAAIQAAAAAAAAPA/AAAAAAAA8D8AAAAAAAAAQAAAAAAAABxAAAAAAAAA8D8AAAAAAAAAAAAAAAAAAPA/AAAAAAAAAAAAAAAAAAAAAAAAAAAAAAAAAAAAAAAA8D8AAAAAAAAQQAAAAAAAABBAAAAAAAAAAAAAAAAAAAAQQAAAAAAAAAAAAAAAAAAA8D8AAAAAAAAAAAAAAAAAAABAAAAAAAAA8D8AAAAAAADwPwAAAAAAAPA/AAAAAAAAAEAAAAAAAAAAAAAAAAAAAPA/AAAAAAAAAAAAAAAAAAAQQAAAAAAAAAhAAAAAAAAAIEAAAAAAAAAAAAAAAAAAAAAAAAAAAAAAJEAAAAAAAAAgQAAAAAAAAAAAAAAAAAAACEAAAAAAAAAAAAAAAAAAAPA/AAAAAAAA8D8AAAAAAAAAAAAAAAAAAAAAAAAAAAAAAEAAAAAAAAAAAAAAAAAAAABAAAAAAAAAAAAAAAAAAADwPwAAAAAAAPA/AAAAAAAAAAAAAAAAAAAIQAAAAAAAAAAAAAAAAAAA8D8AAAAAAAAAAAAAAAAAAAAAAAAAAAAAAAAAAAAAAAAAAAAAAAAAACJAAAAAAAAACEAAAAAAAADwPwAAAAAAADBAAAAAAAAACEAAAAAAAAAAAAAAAAAAACJAAAAAAAAA8D8AAAAAAADwPwAAAAAAAAAA/vKDfOzF+j8AAAAAAAAUQAAAAAAAAAAAAAAAAAAAAAAAAAAAAAAAQAAAAAAAAAAAAAAAAAAAAEAAAAAAAAAIQAAAAAAAAAAAAAAAAAAAAEAAAAAAAAAAAAAAAAAAAPA/AAAAAAAAFEAAAAAAAAAAAAAAAAAAABRAAAAAAAAAFEAAAAAAAAAAAAAAAAAAAAhAAAAAAAAAAAAAAAAAAAAAAAAAAAAAAAAAAAAAAAAA8D8AAAAAAAAIQAAAAAAAAABAAAAAAAAAAEAAAAAAAAAIQAAAAAAAAAAAAAAAAAAAAAAAAAAAAAAAQAAAAAAAAPA/AAAAAAAAAEAAAAAAAAAAAAAAAAAAAPA/AAAAAAAA8D8AAAAAAAAIQAAAAAAAAAAAAAAAAAAAAAAAAAAAAAAAAAAAAAAAAPA/AAAAAAAAAAAAAAAAAAAIQAAAAAAAABRAAAAAAAAAAAAAAAAAAAAUQAAAAAAAAAAAAAAAAAAAAAAAAAAAAADwPwAAAAAAAPA/AAAAAAAACEAAAAAAAADwPwAAAAAAAPA/AAAAAAAA8D8AAAAAAADwPwAAAAAAAAAAAAAAAAAAGEAAAAAAAAAAAAAAAAAAAABAAAAAAAAAFEAAAAAAAAAAAAAAAAAAAAAAAAAAAAAA8D8AAAAAAAAIQAAAAAAAAAAAAAAAAAAACEAAAAAAAADwPwAAAAAAAAAAAAAAAAAAAAAAAAAAAAAUQAAAAAAAAABAAAAAAAAA8D8AAAAAAAAIQAAAAAAAAPA/AAAAAAAAAAAAAAAAAAAAAAAAAAAAAAhAAAAAAAAAAAAAAAAAAAAUQAAAAAAAAPA/AAAAAAAAEEAAAAAAAADwPwAAAAAAAAAAAAAAAAAAAAAAAAAAAAAAAAAAAAAAAAAAAAAAAAAA8D8AAAAAAAAAAAAAAAAAABBAAAAAAAAAAAAAAAAAAAAAAAAAAAAAAPA/AAAAAAAACEAAAAAAAAAgQAAAAAAAAAAAAAAAAAAAAAAAAAAAAAAgQAAAAAAAAABAAAAAAAAAAAAAAAAAAAAAAAAAAAAAAAAAAAAAAAAA8D8AAAAAAAAAAAAAAAAAABRAAAAAAAAAAAAAAAAAAAAAAAAAAAAAAAAAAAAAAAAAAAAAAAAAAADwPwAAAAAAAABAAAAAAAAAAAAAAAAAAAAAAAAAAAAAABBAAAAAAAAAAAAAAAAAAAAAAAAAAAAAAPA/AAAAAAAACEAAAAAAAADwPwAAAAAAACpAAAAAAAAACEAAAAAAAAAAAAAAAAAAABBAAAAAAAAA8D8AAAAAAAAAAAAAAAAAAPA/AAAAAAAAAAAAAAAAAAAAAAAAAAAAAPA/AAAAAAAA8D8AAAAAAAAAAAAAAAAAAPA/AAAAAAAA8D8AAAAAAAAAAAAAAAAAAAhAAAAAAAAA8D8AAAAAAAAsQAAAAAAAABxAAAAAAAAA8D8AAAAAAAAAQAAAAAAAAAAAAAAAAAAAFEAAAAAAAADwPwAAAAAAAAAAAAAAAAAAAAAAAAAAAAAIQAAAAAAAAPA/AAAAAAAACEAAAAAAAAAIQAAAAAAAAABAAAAAAAAAFEAAAAAAAAAAAAAAAAAAAABAAAAAAAAAAAAAAAAAAAAAQAAAAAAAAAAAAAAAAAAAAAAAAAAAAAAAAAAAAAAAABRAAAAAAAAA8D8AAAAAAAAAAAAAAAAAAAAAAAAAAAAAAAAAAAAAAAAAAAAAAAAAACBAAAAAAAAACEAAAAAAAAAIQAAAAAAAABBAAAAAAAAA8D8AAAAAAAAAQAAAAAAAAABAAAAAAAAAHEAAAAAAAAAUQAAAAAAAAPA/AAAAAAAAHEAAAAAAAADwP/7yg3zsxfo/AAAAAAAAGEAAAAAAAADwPwAAAAAAAPA/AAAAAAAA8D8AAAAAAAAAAAAAAAAAAAAAAAAAAAAAEEAAAAAAAAAAAAAAAAAAAAAAAAAAAAAAAAAAAAAAAAAAQAAAAAAAAAAAAAAAAAAAAEAAAAAAAAAQQAAAAAAAAAAAAAAAAAAACEAAAAAAAAAAAAAAAAAAABRAAAAAAAAAAAAAAAAAAAAAAAAAAAAAAPA/AAAAAAAAAAAAAAAAAAAAAAAAAAAAAAAAAAAAAAAAAAAAAAAAAAAAQAAAAAAAAAhAAAAAAAAAAAAAAAAAAAAAAAAAAAAAAABAAAAAAAAA8D8AAAAAAAAUQAAAAAAAAAAAAAAAAAAAAAAAAAAAAADwPwAAAAAAAPA/AAAAAAAAAAAAAAAAAAAAAAAAAAAAAAAAAAAAAAAAAAAAAAAAAAAUQAAAAAAAAAAAAAAAAAAA8D8AAAAAAAAAAAAAAAAAAPA//vKDfOzF+j8AAAAAAAAAAAAAAAAAAAAAAAAAAAAAAAAAAAAAAAAAAAAAAAAAAABAAAAAAAAAAAAAAAAAAAAAAAAAAAAAABBAAAAAAAAAAEAAAAAAAAAAAAAAAAAAAPA/AAAAAAAAAAAAAAAAAADwPwAAAAAAAPA/AAAAAAAACEAAAAAAAAAAAAAAAAAAABRAAAAAAAAAAEAAAAAAAAAYQAAAAAAAAAAAAAAAAAAA8D8AAAAAAAAAAAAAAAAAAPA/AAAAAAAA8D8AAAAAAAAAAAAAAAAAAPA/AAAAAAAAAEAAAAAAAAAAAAAAAAAAAAAAAAAAAAAA8D8AAAAAAAAQQAAAAAAAAPA/AAAAAAAAEEAAAAAAAAAAAAAAAAAAAAAAAAAAAAAAAEAAAAAAAAAAQAAAAAAAAPA/AAAAAAAA8D8AAAAAAAAQQAAAAAAAAAAAAAAAAAAAAAAAAAAAAADwPwAAAAAAAAAAAAAAAAAAAAAAAAAAAAAAAAAAAAAAAAAAAAAAAAAAAAAAAAAAAAAAAAAAAAAAAAAAAAAAAAAAAAAAAAAAAAAAAAAAAAAAAAAAAAAAAAAA8D8AAAAAAAAAQAAAAAAAAAAAAAAAAAAAAAAAAAAAAAAAAAAAAAAAAAhAAAAAAAAAAAAAAAAAAAAAAAAAAAAAACxAAAAAAAAA8D8AAAAAAAAAAAAAAAAAABBAAAAAAAAAAAAAAAAAAAAcQAAAAAAAAPA/AAAAAAAAAEAAAAAAAAAgQAAAAAAAACxAAAAAAAAAAAAAAAAAAAAAAAAAAAAAAAAAAAAAAAAALEAAAAAAAAAAQAAAAAAAAAAAAAAAAAAA8D8AAAAAAADwPwAAAAAAAABAAAAAAAAAEEAAAAAAAAAAAAAAAAAAAAAAAAAAAAAAGEAAAAAAAAAAAAAAAAAAAPA/AAAAAAAAAAAAAAAAAAAQQAAAAAAAABBAAAAAAAAACEAAAAAAAAAAAAAAAAAAAAAAAAAAAAAAAAAAAAAAAAAQQAAAAAAAABBAAAAAAAAAAAAAAAAAAAAAAAAAAAAAAABAAAAAAAAAAAAAAAAAAAAAQAAAAAAAABRAAAAAAAAACEAAAAAAAAAAAAAAAAAAAAAAAAAAAAAAAAAAAAAAAAAAAAAAAAAAAAAAAAAAAAAA8D8AAAAAAAAAAAAAAAAAAAAAAAAAAAAAAAAAAAAAAAAAAAAAAAAAAAAAAAAAAAAAAAAAAAAAAAAAAAAAAAAAAAAAAAAAAAAAAAAAAAAAAAAYQAAAAAAAAABAAAAAAAAAAAAAAAAAAADwPwAAAAAAAPA/AAAAAAAAAAAAAAAAAAAAAAAAAAAAAPA/AAAAAAAAFEAAAAAAAAAAAAAAAAAAAAAAAAAAAAAAAAAAAAAAAAAAAAAAAAAAAAhAAAAAAAAAEEAAAAAAAAAAAAAAAAAAABBAAAAAAAAAAAAAAAAAAADwPwAAAAAAAAAAAAAAAAAAAAAAAAAAAAAAAAAAAAAAAAAAAAAAAAAAAAAAAAAAAADwPwAAAAAAAABAAAAAAAAA8D8AAAAAAAAAAAAAAAAAAAhAAAAAAAAACEAAAAAAAAAAAAAAAAAAAAAAAAAAAAAAEEAAAAAAAAAAAAAAAAAAAAAAAAAAAAAAAAAAAAAAAAAAQAAAAAAAAAAAAAAAAAAACEAAAAAAAAAYQAAAAAAAAAAAAAAAAAAAKEAAAAAAAAAYQAAAAAAAAAAAAAAAAAAA8D8AAAAAAAAAAAAAAAAAAAAAAAAAAAAAJEAAAAAAAAAAAAAAAAAAACBAAAAAAAAAAAAAAAAAAAAAAAAAAAAAAAAAAAAAAAAACEAAAAAAAAAAAAAAAAAAAAAAAAAAAAAA8D8AAAAAAAAIQAAAAAAAAAAAAAAAAAAAAAAAAAAAAAAAAAAAAAAAAAAAAAAAAAAAAAAAAAAAAADwPwAAAAAAABBAAAAAAAAAAAAAAAAAAADwP/7yg3zsxfo/AAAAAAAA8D8AAAAAAAAAAAAAAAAAAAAAAAAAAAAAAEAAAAAAAAAUQAAAAAAAAAAAAAAAAAAAAAAAAAAAAAAQQAAAAAAAAChAAAAAAAAAAAAAAAAAAAAAAAAAAAAAAAAAAAAAAAAALEAAAAAAAADwPwAAAAAAACpAAAAAAAAAFEAAAAAAAAAAQAAAAAAAABRAAAAAAAAA8D8AAAAAAADwPwAAAAAAAAhAAAAAAAAAAAAAAAAAAAAAAAAAAAAAABBAAAAAAAAAAAAAAAAAAADwPwAAAAAAAPA/",
          "dtype": "f8"
         },
         "xaxis": "x37",
         "yaxis": "y37"
        },
        {
         "histnorm": "density",
         "marker": {
          "color": "#636EFA"
         },
         "nbinsx": 50,
         "opacity": 0.8,
         "type": "histogram",
         "x": {
          "bdata": "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",
          "dtype": "f8"
         },
         "xaxis": "x38",
         "yaxis": "y38"
        },
        {
         "histnorm": "density",
         "marker": {
          "color": "#636EFA"
         },
         "nbinsx": 50,
         "opacity": 0.8,
         "type": "histogram",
         "x": {
          "bdata": "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",
          "dtype": "f8"
         },
         "xaxis": "x39",
         "yaxis": "y39"
        },
        {
         "histnorm": "density",
         "marker": {
          "color": "#636EFA"
         },
         "nbinsx": 50,
         "opacity": 0.8,
         "type": "histogram",
         "x": {
          "bdata": "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",
          "dtype": "f8"
         },
         "xaxis": "x40",
         "yaxis": "y40"
        },
        {
         "histnorm": "density",
         "marker": {
          "color": "#636EFA"
         },
         "nbinsx": 50,
         "opacity": 0.8,
         "type": "histogram",
         "x": {
          "bdata": "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",
          "dtype": "f8"
         },
         "xaxis": "x41",
         "yaxis": "y41"
        }
       ],
       "layout": {
        "annotations": [
         {
          "font": {
           "size": 16
          },
          "showarrow": false,
          "text": "SEASON",
          "x": 0.14444444444444446,
          "xanchor": "center",
          "xref": "paper",
          "y": 1,
          "yanchor": "bottom",
          "yref": "paper"
         },
         {
          "font": {
           "size": 16
          },
          "showarrow": false,
          "text": "FINAL_POS",
          "x": 0.5,
          "xanchor": "center",
          "xref": "paper",
          "y": 1,
          "yanchor": "bottom",
          "yref": "paper"
         },
         {
          "font": {
           "size": 16
          },
          "showarrow": false,
          "text": "SGTTG_RANK",
          "x": 0.8555555555555556,
          "xanchor": "center",
          "xref": "paper",
          "y": 1,
          "yanchor": "bottom",
          "yref": "paper"
         },
         {
          "font": {
           "size": 16
          },
          "showarrow": false,
          "text": "SGTTG",
          "x": 0.14444444444444446,
          "xanchor": "center",
          "xref": "paper",
          "y": 0.9260204081632653,
          "yanchor": "bottom",
          "yref": "paper"
         },
         {
          "font": {
           "size": 16
          },
          "showarrow": false,
          "text": "SGOTT_RANK",
          "x": 0.5,
          "xanchor": "center",
          "xref": "paper",
          "y": 0.9260204081632653,
          "yanchor": "bottom",
          "yref": "paper"
         },
         {
          "font": {
           "size": 16
          },
          "showarrow": false,
          "text": "SGOTT",
          "x": 0.8555555555555556,
          "xanchor": "center",
          "xref": "paper",
          "y": 0.9260204081632653,
          "yanchor": "bottom",
          "yref": "paper"
         },
         {
          "font": {
           "size": 16
          },
          "showarrow": false,
          "text": "SGAPR_RANK",
          "x": 0.14444444444444446,
          "xanchor": "center",
          "xref": "paper",
          "y": 0.8520408163265307,
          "yanchor": "bottom",
          "yref": "paper"
         },
         {
          "font": {
           "size": 16
          },
          "showarrow": false,
          "text": "SGAPR",
          "x": 0.5,
          "xanchor": "center",
          "xref": "paper",
          "y": 0.8520408163265307,
          "yanchor": "bottom",
          "yref": "paper"
         },
         {
          "font": {
           "size": 16
          },
          "showarrow": false,
          "text": "SGATG_RANK",
          "x": 0.8555555555555556,
          "xanchor": "center",
          "xref": "paper",
          "y": 0.8520408163265307,
          "yanchor": "bottom",
          "yref": "paper"
         },
         {
          "font": {
           "size": 16
          },
          "showarrow": false,
          "text": "SGATG",
          "x": 0.14444444444444446,
          "xanchor": "center",
          "xref": "paper",
          "y": 0.778061224489796,
          "yanchor": "bottom",
          "yref": "paper"
         },
         {
          "font": {
           "size": 16
          },
          "showarrow": false,
          "text": "SGP_RANK",
          "x": 0.5,
          "xanchor": "center",
          "xref": "paper",
          "y": 0.778061224489796,
          "yanchor": "bottom",
          "yref": "paper"
         },
         {
          "font": {
           "size": 16
          },
          "showarrow": false,
          "text": "SGP",
          "x": 0.8555555555555556,
          "xanchor": "center",
          "xref": "paper",
          "y": 0.778061224489796,
          "yanchor": "bottom",
          "yref": "paper"
         },
         {
          "font": {
           "size": 16
          },
          "showarrow": false,
          "text": "BIRDIES_RANK",
          "x": 0.14444444444444446,
          "xanchor": "center",
          "xref": "paper",
          "y": 0.7040816326530612,
          "yanchor": "bottom",
          "yref": "paper"
         },
         {
          "font": {
           "size": 16
          },
          "showarrow": false,
          "text": "BIRDIES",
          "x": 0.5,
          "xanchor": "center",
          "xref": "paper",
          "y": 0.7040816326530612,
          "yanchor": "bottom",
          "yref": "paper"
         },
         {
          "font": {
           "size": 16
          },
          "showarrow": false,
          "text": "PAR_3_RANK",
          "x": 0.8555555555555556,
          "xanchor": "center",
          "xref": "paper",
          "y": 0.7040816326530612,
          "yanchor": "bottom",
          "yref": "paper"
         },
         {
          "font": {
           "size": 16
          },
          "showarrow": false,
          "text": "PAR_3",
          "x": 0.14444444444444446,
          "xanchor": "center",
          "xref": "paper",
          "y": 0.6301020408163265,
          "yanchor": "bottom",
          "yref": "paper"
         },
         {
          "font": {
           "size": 16
          },
          "showarrow": false,
          "text": "PAR_4_RANK",
          "x": 0.5,
          "xanchor": "center",
          "xref": "paper",
          "y": 0.6301020408163265,
          "yanchor": "bottom",
          "yref": "paper"
         },
         {
          "font": {
           "size": 16
          },
          "showarrow": false,
          "text": "PAR_4",
          "x": 0.8555555555555556,
          "xanchor": "center",
          "xref": "paper",
          "y": 0.6301020408163265,
          "yanchor": "bottom",
          "yref": "paper"
         },
         {
          "font": {
           "size": 16
          },
          "showarrow": false,
          "text": "PAR_5_RANK",
          "x": 0.14444444444444446,
          "xanchor": "center",
          "xref": "paper",
          "y": 0.5561224489795918,
          "yanchor": "bottom",
          "yref": "paper"
         },
         {
          "font": {
           "size": 16
          },
          "showarrow": false,
          "text": "PAR_5",
          "x": 0.5,
          "xanchor": "center",
          "xref": "paper",
          "y": 0.5561224489795918,
          "yanchor": "bottom",
          "yref": "paper"
         },
         {
          "font": {
           "size": 16
          },
          "showarrow": false,
          "text": "TOTAL_DRIVING_RANK",
          "x": 0.8555555555555556,
          "xanchor": "center",
          "xref": "paper",
          "y": 0.5561224489795918,
          "yanchor": "bottom",
          "yref": "paper"
         },
         {
          "font": {
           "size": 16
          },
          "showarrow": false,
          "text": "TOTAL_DRIVING",
          "x": 0.14444444444444446,
          "xanchor": "center",
          "xref": "paper",
          "y": 0.48214285714285715,
          "yanchor": "bottom",
          "yref": "paper"
         },
         {
          "font": {
           "size": 16
          },
          "showarrow": false,
          "text": "DRIVING_DISTANCE_RANK",
          "x": 0.5,
          "xanchor": "center",
          "xref": "paper",
          "y": 0.48214285714285715,
          "yanchor": "bottom",
          "yref": "paper"
         },
         {
          "font": {
           "size": 16
          },
          "showarrow": false,
          "text": "DRIVING_DISTANCE",
          "x": 0.8555555555555556,
          "xanchor": "center",
          "xref": "paper",
          "y": 0.48214285714285715,
          "yanchor": "bottom",
          "yref": "paper"
         },
         {
          "font": {
           "size": 16
          },
          "showarrow": false,
          "text": "DRIVING_ACCURACY_RANK",
          "x": 0.14444444444444446,
          "xanchor": "center",
          "xref": "paper",
          "y": 0.4081632653061225,
          "yanchor": "bottom",
          "yref": "paper"
         },
         {
          "font": {
           "size": 16
          },
          "showarrow": false,
          "text": "DRIVING_ACCURACY",
          "x": 0.5,
          "xanchor": "center",
          "xref": "paper",
          "y": 0.4081632653061225,
          "yanchor": "bottom",
          "yref": "paper"
         },
         {
          "font": {
           "size": 16
          },
          "showarrow": false,
          "text": "GIR_RANK",
          "x": 0.8555555555555556,
          "xanchor": "center",
          "xref": "paper",
          "y": 0.4081632653061225,
          "yanchor": "bottom",
          "yref": "paper"
         },
         {
          "font": {
           "size": 16
          },
          "showarrow": false,
          "text": "GIR",
          "x": 0.14444444444444446,
          "xanchor": "center",
          "xref": "paper",
          "y": 0.33418367346938777,
          "yanchor": "bottom",
          "yref": "paper"
         },
         {
          "font": {
           "size": 16
          },
          "showarrow": false,
          "text": "SCRAMBLING_RANK",
          "x": 0.5,
          "xanchor": "center",
          "xref": "paper",
          "y": 0.33418367346938777,
          "yanchor": "bottom",
          "yref": "paper"
         },
         {
          "font": {
           "size": 16
          },
          "showarrow": false,
          "text": "SCRAMBLING",
          "x": 0.8555555555555556,
          "xanchor": "center",
          "xref": "paper",
          "y": 0.33418367346938777,
          "yanchor": "bottom",
          "yref": "paper"
         },
         {
          "font": {
           "size": 16
          },
          "showarrow": false,
          "text": "OWGR_RANK",
          "x": 0.14444444444444446,
          "xanchor": "center",
          "xref": "paper",
          "y": 0.2602040816326531,
          "yanchor": "bottom",
          "yref": "paper"
         },
         {
          "font": {
           "size": 16
          },
          "showarrow": false,
          "text": "OWGR",
          "x": 0.5,
          "xanchor": "center",
          "xref": "paper",
          "y": 0.2602040816326531,
          "yanchor": "bottom",
          "yref": "paper"
         },
         {
          "font": {
           "size": 16
          },
          "showarrow": false,
          "text": "VEGAS_ODDS",
          "x": 0.8555555555555556,
          "xanchor": "center",
          "xref": "paper",
          "y": 0.2602040816326531,
          "yanchor": "bottom",
          "yref": "paper"
         },
         {
          "font": {
           "size": 16
          },
          "showarrow": false,
          "text": "CUT_PERCENTAGE",
          "x": 0.14444444444444446,
          "xanchor": "center",
          "xref": "paper",
          "y": 0.18622448979591838,
          "yanchor": "bottom",
          "yref": "paper"
         },
         {
          "font": {
           "size": 16
          },
          "showarrow": false,
          "text": "FEDEX_CUP_POINTS",
          "x": 0.5,
          "xanchor": "center",
          "xref": "paper",
          "y": 0.18622448979591838,
          "yanchor": "bottom",
          "yref": "paper"
         },
         {
          "font": {
           "size": 16
          },
          "showarrow": false,
          "text": "form_density",
          "x": 0.8555555555555556,
          "xanchor": "center",
          "xref": "paper",
          "y": 0.18622448979591838,
          "yanchor": "bottom",
          "yref": "paper"
         },
         {
          "font": {
           "size": 16
          },
          "showarrow": false,
          "text": "CONSECUTIVE_CUTS",
          "x": 0.14444444444444446,
          "xanchor": "center",
          "xref": "paper",
          "y": 0.11224489795918369,
          "yanchor": "bottom",
          "yref": "paper"
         },
         {
          "font": {
           "size": 16
          },
          "showarrow": false,
          "text": "RECENT_FORM",
          "x": 0.5,
          "xanchor": "center",
          "xref": "paper",
          "y": 0.11224489795918369,
          "yanchor": "bottom",
          "yref": "paper"
         },
         {
          "font": {
           "size": 16
          },
          "showarrow": false,
          "text": "adj_form",
          "x": 0.8555555555555556,
          "xanchor": "center",
          "xref": "paper",
          "y": 0.11224489795918369,
          "yanchor": "bottom",
          "yref": "paper"
         },
         {
          "font": {
           "size": 16
          },
          "showarrow": false,
          "text": "COURSE_HISTORY",
          "x": 0.14444444444444446,
          "xanchor": "center",
          "xref": "paper",
          "y": 0.03826530612244899,
          "yanchor": "bottom",
          "yref": "paper"
         },
         {
          "font": {
           "size": 16
          },
          "showarrow": false,
          "text": "adj_ch",
          "x": 0.5,
          "xanchor": "center",
          "xref": "paper",
          "y": 0.03826530612244899,
          "yanchor": "bottom",
          "yref": "paper"
         }
        ],
        "height": 4200,
        "showlegend": false,
        "template": {
         "data": {
          "bar": [
           {
            "error_x": {
             "color": "#f2f5fa"
            },
            "error_y": {
             "color": "#f2f5fa"
            },
            "marker": {
             "line": {
              "color": "rgb(17,17,17)",
              "width": 0.5
             },
             "pattern": {
              "fillmode": "overlay",
              "size": 10,
              "solidity": 0.2
             }
            },
            "type": "bar"
           }
          ],
          "barpolar": [
           {
            "marker": {
             "line": {
              "color": "rgb(17,17,17)",
              "width": 0.5
             },
             "pattern": {
              "fillmode": "overlay",
              "size": 10,
              "solidity": 0.2
             }
            },
            "type": "barpolar"
           }
          ],
          "carpet": [
           {
            "aaxis": {
             "endlinecolor": "#A2B1C6",
             "gridcolor": "#506784",
             "linecolor": "#506784",
             "minorgridcolor": "#506784",
             "startlinecolor": "#A2B1C6"
            },
            "baxis": {
             "endlinecolor": "#A2B1C6",
             "gridcolor": "#506784",
             "linecolor": "#506784",
             "minorgridcolor": "#506784",
             "startlinecolor": "#A2B1C6"
            },
            "type": "carpet"
           }
          ],
          "choropleth": [
           {
            "colorbar": {
             "outlinewidth": 0,
             "ticks": ""
            },
            "type": "choropleth"
           }
          ],
          "contour": [
           {
            "colorbar": {
             "outlinewidth": 0,
             "ticks": ""
            },
            "colorscale": [
             [
              0,
              "#0d0887"
             ],
             [
              0.1111111111111111,
              "#46039f"
             ],
             [
              0.2222222222222222,
              "#7201a8"
             ],
             [
              0.3333333333333333,
              "#9c179e"
             ],
             [
              0.4444444444444444,
              "#bd3786"
             ],
             [
              0.5555555555555556,
              "#d8576b"
             ],
             [
              0.6666666666666666,
              "#ed7953"
             ],
             [
              0.7777777777777778,
              "#fb9f3a"
             ],
             [
              0.8888888888888888,
              "#fdca26"
             ],
             [
              1,
              "#f0f921"
             ]
            ],
            "type": "contour"
           }
          ],
          "contourcarpet": [
           {
            "colorbar": {
             "outlinewidth": 0,
             "ticks": ""
            },
            "type": "contourcarpet"
           }
          ],
          "heatmap": [
           {
            "colorbar": {
             "outlinewidth": 0,
             "ticks": ""
            },
            "colorscale": [
             [
              0,
              "#0d0887"
             ],
             [
              0.1111111111111111,
              "#46039f"
             ],
             [
              0.2222222222222222,
              "#7201a8"
             ],
             [
              0.3333333333333333,
              "#9c179e"
             ],
             [
              0.4444444444444444,
              "#bd3786"
             ],
             [
              0.5555555555555556,
              "#d8576b"
             ],
             [
              0.6666666666666666,
              "#ed7953"
             ],
             [
              0.7777777777777778,
              "#fb9f3a"
             ],
             [
              0.8888888888888888,
              "#fdca26"
             ],
             [
              1,
              "#f0f921"
             ]
            ],
            "type": "heatmap"
           }
          ],
          "histogram": [
           {
            "marker": {
             "pattern": {
              "fillmode": "overlay",
              "size": 10,
              "solidity": 0.2
             }
            },
            "type": "histogram"
           }
          ],
          "histogram2d": [
           {
            "colorbar": {
             "outlinewidth": 0,
             "ticks": ""
            },
            "colorscale": [
             [
              0,
              "#0d0887"
             ],
             [
              0.1111111111111111,
              "#46039f"
             ],
             [
              0.2222222222222222,
              "#7201a8"
             ],
             [
              0.3333333333333333,
              "#9c179e"
             ],
             [
              0.4444444444444444,
              "#bd3786"
             ],
             [
              0.5555555555555556,
              "#d8576b"
             ],
             [
              0.6666666666666666,
              "#ed7953"
             ],
             [
              0.7777777777777778,
              "#fb9f3a"
             ],
             [
              0.8888888888888888,
              "#fdca26"
             ],
             [
              1,
              "#f0f921"
             ]
            ],
            "type": "histogram2d"
           }
          ],
          "histogram2dcontour": [
           {
            "colorbar": {
             "outlinewidth": 0,
             "ticks": ""
            },
            "colorscale": [
             [
              0,
              "#0d0887"
             ],
             [
              0.1111111111111111,
              "#46039f"
             ],
             [
              0.2222222222222222,
              "#7201a8"
             ],
             [
              0.3333333333333333,
              "#9c179e"
             ],
             [
              0.4444444444444444,
              "#bd3786"
             ],
             [
              0.5555555555555556,
              "#d8576b"
             ],
             [
              0.6666666666666666,
              "#ed7953"
             ],
             [
              0.7777777777777778,
              "#fb9f3a"
             ],
             [
              0.8888888888888888,
              "#fdca26"
             ],
             [
              1,
              "#f0f921"
             ]
            ],
            "type": "histogram2dcontour"
           }
          ],
          "mesh3d": [
           {
            "colorbar": {
             "outlinewidth": 0,
             "ticks": ""
            },
            "type": "mesh3d"
           }
          ],
          "parcoords": [
           {
            "line": {
             "colorbar": {
              "outlinewidth": 0,
              "ticks": ""
             }
            },
            "type": "parcoords"
           }
          ],
          "pie": [
           {
            "automargin": true,
            "type": "pie"
           }
          ],
          "scatter": [
           {
            "marker": {
             "line": {
              "color": "#283442"
             }
            },
            "type": "scatter"
           }
          ],
          "scatter3d": [
           {
            "line": {
             "colorbar": {
              "outlinewidth": 0,
              "ticks": ""
             }
            },
            "marker": {
             "colorbar": {
              "outlinewidth": 0,
              "ticks": ""
             }
            },
            "type": "scatter3d"
           }
          ],
          "scattercarpet": [
           {
            "marker": {
             "colorbar": {
              "outlinewidth": 0,
              "ticks": ""
             }
            },
            "type": "scattercarpet"
           }
          ],
          "scattergeo": [
           {
            "marker": {
             "colorbar": {
              "outlinewidth": 0,
              "ticks": ""
             }
            },
            "type": "scattergeo"
           }
          ],
          "scattergl": [
           {
            "marker": {
             "line": {
              "color": "#283442"
             }
            },
            "type": "scattergl"
           }
          ],
          "scattermap": [
           {
            "marker": {
             "colorbar": {
              "outlinewidth": 0,
              "ticks": ""
             }
            },
            "type": "scattermap"
           }
          ],
          "scattermapbox": [
           {
            "marker": {
             "colorbar": {
              "outlinewidth": 0,
              "ticks": ""
             }
            },
            "type": "scattermapbox"
           }
          ],
          "scatterpolar": [
           {
            "marker": {
             "colorbar": {
              "outlinewidth": 0,
              "ticks": ""
             }
            },
            "type": "scatterpolar"
           }
          ],
          "scatterpolargl": [
           {
            "marker": {
             "colorbar": {
              "outlinewidth": 0,
              "ticks": ""
             }
            },
            "type": "scatterpolargl"
           }
          ],
          "scatterternary": [
           {
            "marker": {
             "colorbar": {
              "outlinewidth": 0,
              "ticks": ""
             }
            },
            "type": "scatterternary"
           }
          ],
          "surface": [
           {
            "colorbar": {
             "outlinewidth": 0,
             "ticks": ""
            },
            "colorscale": [
             [
              0,
              "#0d0887"
             ],
             [
              0.1111111111111111,
              "#46039f"
             ],
             [
              0.2222222222222222,
              "#7201a8"
             ],
             [
              0.3333333333333333,
              "#9c179e"
             ],
             [
              0.4444444444444444,
              "#bd3786"
             ],
             [
              0.5555555555555556,
              "#d8576b"
             ],
             [
              0.6666666666666666,
              "#ed7953"
             ],
             [
              0.7777777777777778,
              "#fb9f3a"
             ],
             [
              0.8888888888888888,
              "#fdca26"
             ],
             [
              1,
              "#f0f921"
             ]
            ],
            "type": "surface"
           }
          ],
          "table": [
           {
            "cells": {
             "fill": {
              "color": "#506784"
             },
             "line": {
              "color": "rgb(17,17,17)"
             }
            },
            "header": {
             "fill": {
              "color": "#2a3f5f"
             },
             "line": {
              "color": "rgb(17,17,17)"
             }
            },
            "type": "table"
           }
          ]
         },
         "layout": {
          "annotationdefaults": {
           "arrowcolor": "#f2f5fa",
           "arrowhead": 0,
           "arrowwidth": 1
          },
          "autotypenumbers": "strict",
          "coloraxis": {
           "colorbar": {
            "outlinewidth": 0,
            "ticks": ""
           }
          },
          "colorscale": {
           "diverging": [
            [
             0,
             "#8e0152"
            ],
            [
             0.1,
             "#c51b7d"
            ],
            [
             0.2,
             "#de77ae"
            ],
            [
             0.3,
             "#f1b6da"
            ],
            [
             0.4,
             "#fde0ef"
            ],
            [
             0.5,
             "#f7f7f7"
            ],
            [
             0.6,
             "#e6f5d0"
            ],
            [
             0.7,
             "#b8e186"
            ],
            [
             0.8,
             "#7fbc41"
            ],
            [
             0.9,
             "#4d9221"
            ],
            [
             1,
             "#276419"
            ]
           ],
           "sequential": [
            [
             0,
             "#0d0887"
            ],
            [
             0.1111111111111111,
             "#46039f"
            ],
            [
             0.2222222222222222,
             "#7201a8"
            ],
            [
             0.3333333333333333,
             "#9c179e"
            ],
            [
             0.4444444444444444,
             "#bd3786"
            ],
            [
             0.5555555555555556,
             "#d8576b"
            ],
            [
             0.6666666666666666,
             "#ed7953"
            ],
            [
             0.7777777777777778,
             "#fb9f3a"
            ],
            [
             0.8888888888888888,
             "#fdca26"
            ],
            [
             1,
             "#f0f921"
            ]
           ],
           "sequentialminus": [
            [
             0,
             "#0d0887"
            ],
            [
             0.1111111111111111,
             "#46039f"
            ],
            [
             0.2222222222222222,
             "#7201a8"
            ],
            [
             0.3333333333333333,
             "#9c179e"
            ],
            [
             0.4444444444444444,
             "#bd3786"
            ],
            [
             0.5555555555555556,
             "#d8576b"
            ],
            [
             0.6666666666666666,
             "#ed7953"
            ],
            [
             0.7777777777777778,
             "#fb9f3a"
            ],
            [
             0.8888888888888888,
             "#fdca26"
            ],
            [
             1,
             "#f0f921"
            ]
           ]
          },
          "colorway": [
           "#636efa",
           "#EF553B",
           "#00cc96",
           "#ab63fa",
           "#FFA15A",
           "#19d3f3",
           "#FF6692",
           "#B6E880",
           "#FF97FF",
           "#FECB52"
          ],
          "font": {
           "color": "#f2f5fa"
          },
          "geo": {
           "bgcolor": "rgb(17,17,17)",
           "lakecolor": "rgb(17,17,17)",
           "landcolor": "rgb(17,17,17)",
           "showlakes": true,
           "showland": true,
           "subunitcolor": "#506784"
          },
          "hoverlabel": {
           "align": "left"
          },
          "hovermode": "closest",
          "mapbox": {
           "style": "dark"
          },
          "paper_bgcolor": "rgb(17,17,17)",
          "plot_bgcolor": "rgb(17,17,17)",
          "polar": {
           "angularaxis": {
            "gridcolor": "#506784",
            "linecolor": "#506784",
            "ticks": ""
           },
           "bgcolor": "rgb(17,17,17)",
           "radialaxis": {
            "gridcolor": "#506784",
            "linecolor": "#506784",
            "ticks": ""
           }
          },
          "scene": {
           "xaxis": {
            "backgroundcolor": "rgb(17,17,17)",
            "gridcolor": "#506784",
            "gridwidth": 2,
            "linecolor": "#506784",
            "showbackground": true,
            "ticks": "",
            "zerolinecolor": "#C8D4E3"
           },
           "yaxis": {
            "backgroundcolor": "rgb(17,17,17)",
            "gridcolor": "#506784",
            "gridwidth": 2,
            "linecolor": "#506784",
            "showbackground": true,
            "ticks": "",
            "zerolinecolor": "#C8D4E3"
           },
           "zaxis": {
            "backgroundcolor": "rgb(17,17,17)",
            "gridcolor": "#506784",
            "gridwidth": 2,
            "linecolor": "#506784",
            "showbackground": true,
            "ticks": "",
            "zerolinecolor": "#C8D4E3"
           }
          },
          "shapedefaults": {
           "line": {
            "color": "#f2f5fa"
           }
          },
          "sliderdefaults": {
           "bgcolor": "#C8D4E3",
           "bordercolor": "rgb(17,17,17)",
           "borderwidth": 1,
           "tickwidth": 0
          },
          "ternary": {
           "aaxis": {
            "gridcolor": "#506784",
            "linecolor": "#506784",
            "ticks": ""
           },
           "baxis": {
            "gridcolor": "#506784",
            "linecolor": "#506784",
            "ticks": ""
           },
           "bgcolor": "rgb(17,17,17)",
           "caxis": {
            "gridcolor": "#506784",
            "linecolor": "#506784",
            "ticks": ""
           }
          },
          "title": {
           "x": 0.05
          },
          "updatemenudefaults": {
           "bgcolor": "#506784",
           "borderwidth": 0
          },
          "xaxis": {
           "automargin": true,
           "gridcolor": "#283442",
           "linecolor": "#506784",
           "ticks": "",
           "title": {
            "standoff": 15
           },
           "zerolinecolor": "#283442",
           "zerolinewidth": 2
          },
          "yaxis": {
           "automargin": true,
           "gridcolor": "#283442",
           "linecolor": "#506784",
           "ticks": "",
           "title": {
            "standoff": 15
           },
           "zerolinecolor": "#283442",
           "zerolinewidth": 2
          }
         }
        },
        "title": {
         "text": "Feature Distributions (with Adaptive Binning)"
        },
        "width": 1000,
        "xaxis": {
         "anchor": "y",
         "domain": [
          0,
          0.2888888888888889
         ]
        },
        "xaxis10": {
         "anchor": "y10",
         "domain": [
          0,
          0.2888888888888889
         ]
        },
        "xaxis11": {
         "anchor": "y11",
         "domain": [
          0.35555555555555557,
          0.6444444444444445
         ]
        },
        "xaxis12": {
         "anchor": "y12",
         "domain": [
          0.7111111111111111,
          1
         ]
        },
        "xaxis13": {
         "anchor": "y13",
         "domain": [
          0,
          0.2888888888888889
         ]
        },
        "xaxis14": {
         "anchor": "y14",
         "domain": [
          0.35555555555555557,
          0.6444444444444445
         ]
        },
        "xaxis15": {
         "anchor": "y15",
         "domain": [
          0.7111111111111111,
          1
         ]
        },
        "xaxis16": {
         "anchor": "y16",
         "domain": [
          0,
          0.2888888888888889
         ]
        },
        "xaxis17": {
         "anchor": "y17",
         "domain": [
          0.35555555555555557,
          0.6444444444444445
         ]
        },
        "xaxis18": {
         "anchor": "y18",
         "domain": [
          0.7111111111111111,
          1
         ]
        },
        "xaxis19": {
         "anchor": "y19",
         "domain": [
          0,
          0.2888888888888889
         ]
        },
        "xaxis2": {
         "anchor": "y2",
         "domain": [
          0.35555555555555557,
          0.6444444444444445
         ]
        },
        "xaxis20": {
         "anchor": "y20",
         "domain": [
          0.35555555555555557,
          0.6444444444444445
         ]
        },
        "xaxis21": {
         "anchor": "y21",
         "domain": [
          0.7111111111111111,
          1
         ]
        },
        "xaxis22": {
         "anchor": "y22",
         "domain": [
          0,
          0.2888888888888889
         ]
        },
        "xaxis23": {
         "anchor": "y23",
         "domain": [
          0.35555555555555557,
          0.6444444444444445
         ]
        },
        "xaxis24": {
         "anchor": "y24",
         "domain": [
          0.7111111111111111,
          1
         ]
        },
        "xaxis25": {
         "anchor": "y25",
         "domain": [
          0,
          0.2888888888888889
         ]
        },
        "xaxis26": {
         "anchor": "y26",
         "domain": [
          0.35555555555555557,
          0.6444444444444445
         ]
        },
        "xaxis27": {
         "anchor": "y27",
         "domain": [
          0.7111111111111111,
          1
         ]
        },
        "xaxis28": {
         "anchor": "y28",
         "domain": [
          0,
          0.2888888888888889
         ]
        },
        "xaxis29": {
         "anchor": "y29",
         "domain": [
          0.35555555555555557,
          0.6444444444444445
         ]
        },
        "xaxis3": {
         "anchor": "y3",
         "domain": [
          0.7111111111111111,
          1
         ]
        },
        "xaxis30": {
         "anchor": "y30",
         "domain": [
          0.7111111111111111,
          1
         ]
        },
        "xaxis31": {
         "anchor": "y31",
         "domain": [
          0,
          0.2888888888888889
         ]
        },
        "xaxis32": {
         "anchor": "y32",
         "domain": [
          0.35555555555555557,
          0.6444444444444445
         ]
        },
        "xaxis33": {
         "anchor": "y33",
         "domain": [
          0.7111111111111111,
          1
         ]
        },
        "xaxis34": {
         "anchor": "y34",
         "domain": [
          0,
          0.2888888888888889
         ]
        },
        "xaxis35": {
         "anchor": "y35",
         "domain": [
          0.35555555555555557,
          0.6444444444444445
         ]
        },
        "xaxis36": {
         "anchor": "y36",
         "domain": [
          0.7111111111111111,
          1
         ]
        },
        "xaxis37": {
         "anchor": "y37",
         "domain": [
          0,
          0.2888888888888889
         ]
        },
        "xaxis38": {
         "anchor": "y38",
         "domain": [
          0.35555555555555557,
          0.6444444444444445
         ]
        },
        "xaxis39": {
         "anchor": "y39",
         "domain": [
          0.7111111111111111,
          1
         ]
        },
        "xaxis4": {
         "anchor": "y4",
         "domain": [
          0,
          0.2888888888888889
         ]
        },
        "xaxis40": {
         "anchor": "y40",
         "domain": [
          0,
          0.2888888888888889
         ]
        },
        "xaxis41": {
         "anchor": "y41",
         "domain": [
          0.35555555555555557,
          0.6444444444444445
         ]
        },
        "xaxis42": {
         "anchor": "y42",
         "domain": [
          0.7111111111111111,
          1
         ]
        },
        "xaxis5": {
         "anchor": "y5",
         "domain": [
          0.35555555555555557,
          0.6444444444444445
         ]
        },
        "xaxis6": {
         "anchor": "y6",
         "domain": [
          0.7111111111111111,
          1
         ]
        },
        "xaxis7": {
         "anchor": "y7",
         "domain": [
          0,
          0.2888888888888889
         ]
        },
        "xaxis8": {
         "anchor": "y8",
         "domain": [
          0.35555555555555557,
          0.6444444444444445
         ]
        },
        "xaxis9": {
         "anchor": "y9",
         "domain": [
          0.7111111111111111,
          1
         ]
        },
        "yaxis": {
         "anchor": "x",
         "domain": [
          0.9617346938775511,
          1
         ]
        },
        "yaxis10": {
         "anchor": "x10",
         "domain": [
          0.739795918367347,
          0.778061224489796
         ]
        },
        "yaxis11": {
         "anchor": "x11",
         "domain": [
          0.739795918367347,
          0.778061224489796
         ]
        },
        "yaxis12": {
         "anchor": "x12",
         "domain": [
          0.739795918367347,
          0.778061224489796
         ]
        },
        "yaxis13": {
         "anchor": "x13",
         "domain": [
          0.6658163265306123,
          0.7040816326530612
         ]
        },
        "yaxis14": {
         "anchor": "x14",
         "domain": [
          0.6658163265306123,
          0.7040816326530612
         ]
        },
        "yaxis15": {
         "anchor": "x15",
         "domain": [
          0.6658163265306123,
          0.7040816326530612
         ]
        },
        "yaxis16": {
         "anchor": "x16",
         "domain": [
          0.5918367346938775,
          0.6301020408163265
         ]
        },
        "yaxis17": {
         "anchor": "x17",
         "domain": [
          0.5918367346938775,
          0.6301020408163265
         ]
        },
        "yaxis18": {
         "anchor": "x18",
         "domain": [
          0.5918367346938775,
          0.6301020408163265
         ]
        },
        "yaxis19": {
         "anchor": "x19",
         "domain": [
          0.5178571428571429,
          0.5561224489795918
         ]
        },
        "yaxis2": {
         "anchor": "x2",
         "domain": [
          0.9617346938775511,
          1
         ]
        },
        "yaxis20": {
         "anchor": "x20",
         "domain": [
          0.5178571428571429,
          0.5561224489795918
         ]
        },
        "yaxis21": {
         "anchor": "x21",
         "domain": [
          0.5178571428571429,
          0.5561224489795918
         ]
        },
        "yaxis22": {
         "anchor": "x22",
         "domain": [
          0.44387755102040816,
          0.48214285714285715
         ]
        },
        "yaxis23": {
         "anchor": "x23",
         "domain": [
          0.44387755102040816,
          0.48214285714285715
         ]
        },
        "yaxis24": {
         "anchor": "x24",
         "domain": [
          0.44387755102040816,
          0.48214285714285715
         ]
        },
        "yaxis25": {
         "anchor": "x25",
         "domain": [
          0.3698979591836735,
          0.4081632653061225
         ]
        },
        "yaxis26": {
         "anchor": "x26",
         "domain": [
          0.3698979591836735,
          0.4081632653061225
         ]
        },
        "yaxis27": {
         "anchor": "x27",
         "domain": [
          0.3698979591836735,
          0.4081632653061225
         ]
        },
        "yaxis28": {
         "anchor": "x28",
         "domain": [
          0.29591836734693877,
          0.33418367346938777
         ]
        },
        "yaxis29": {
         "anchor": "x29",
         "domain": [
          0.29591836734693877,
          0.33418367346938777
         ]
        },
        "yaxis3": {
         "anchor": "x3",
         "domain": [
          0.9617346938775511,
          1
         ]
        },
        "yaxis30": {
         "anchor": "x30",
         "domain": [
          0.29591836734693877,
          0.33418367346938777
         ]
        },
        "yaxis31": {
         "anchor": "x31",
         "domain": [
          0.22193877551020408,
          0.2602040816326531
         ]
        },
        "yaxis32": {
         "anchor": "x32",
         "domain": [
          0.22193877551020408,
          0.2602040816326531
         ]
        },
        "yaxis33": {
         "anchor": "x33",
         "domain": [
          0.22193877551020408,
          0.2602040816326531
         ]
        },
        "yaxis34": {
         "anchor": "x34",
         "domain": [
          0.14795918367346939,
          0.18622448979591838
         ]
        },
        "yaxis35": {
         "anchor": "x35",
         "domain": [
          0.14795918367346939,
          0.18622448979591838
         ]
        },
        "yaxis36": {
         "anchor": "x36",
         "domain": [
          0.14795918367346939,
          0.18622448979591838
         ]
        },
        "yaxis37": {
         "anchor": "x37",
         "domain": [
          0.07397959183673469,
          0.11224489795918369
         ]
        },
        "yaxis38": {
         "anchor": "x38",
         "domain": [
          0.07397959183673469,
          0.11224489795918369
         ]
        },
        "yaxis39": {
         "anchor": "x39",
         "domain": [
          0.07397959183673469,
          0.11224489795918369
         ]
        },
        "yaxis4": {
         "anchor": "x4",
         "domain": [
          0.8877551020408163,
          0.9260204081632653
         ]
        },
        "yaxis40": {
         "anchor": "x40",
         "domain": [
          0,
          0.03826530612244899
         ]
        },
        "yaxis41": {
         "anchor": "x41",
         "domain": [
          0,
          0.03826530612244899
         ]
        },
        "yaxis42": {
         "anchor": "x42",
         "domain": [
          0,
          0.03826530612244899
         ]
        },
        "yaxis5": {
         "anchor": "x5",
         "domain": [
          0.8877551020408163,
          0.9260204081632653
         ]
        },
        "yaxis6": {
         "anchor": "x6",
         "domain": [
          0.8877551020408163,
          0.9260204081632653
         ]
        },
        "yaxis7": {
         "anchor": "x7",
         "domain": [
          0.8137755102040818,
          0.8520408163265307
         ]
        },
        "yaxis8": {
         "anchor": "x8",
         "domain": [
          0.8137755102040818,
          0.8520408163265307
         ]
        },
        "yaxis9": {
         "anchor": "x9",
         "domain": [
          0.8137755102040818,
          0.8520408163265307
         ]
        }
       }
      }
     },
     "metadata": {},
     "output_type": "display_data"
    }
   ],
   "source": [
    "import plotly.express as px\n",
    "import plotly.subplots as sp\n",
    "import plotly.graph_objects as go\n",
    "import pandas as pd\n",
    "import numpy as np\n",
    "\n",
    "# Select numeric columns with >1 unique value, excluding label\n",
    "df_numeric = training_df.select_dtypes(include=np.number)\n",
    "df_numeric = df_numeric.loc[:, df_numeric.nunique() > 1]\n",
    "df_numeric = df_numeric.drop(columns=[\"TOP_20\"], errors=\"ignore\")\n",
    "\n",
    "# Create subplots\n",
    "n_cols = 3\n",
    "n_rows = int(np.ceil(len(df_numeric.columns) / n_cols))\n",
    "fig = sp.make_subplots(rows=n_rows, cols=n_cols, subplot_titles=df_numeric.columns)\n",
    "\n",
    "# Add one histogram per feature with smart binning\n",
    "for i, column in enumerate(df_numeric.columns):\n",
    "    row = i // n_cols + 1\n",
    "    col = i % n_cols + 1\n",
    "\n",
    "    # Compute dynamic bin count\n",
    "    col_range = df_numeric[column].max() - df_numeric[column].min()\n",
    "    n_unique = df_numeric[column].nunique()\n",
    "    nbins = min(50, max(5, int(n_unique / 2))) if col_range < 10 else 50  # tighter for short-range\n",
    "\n",
    "    fig.add_trace(\n",
    "        go.Histogram(\n",
    "            x=df_numeric[column],\n",
    "            nbinsx=nbins,\n",
    "            histnorm=\"density\",\n",
    "            marker=dict(color=\"#636EFA\"),\n",
    "            opacity=0.8\n",
    "        ),\n",
    "        row=row,\n",
    "        col=col\n",
    "    )\n",
    "\n",
    "# Style the figure\n",
    "fig.update_layout(\n",
    "    height=300 * n_rows,\n",
    "    width=1000,\n",
    "    title_text=\"Feature Distributions (with Adaptive Binning)\",\n",
    "    template=\"plotly_dark\",\n",
    "    showlegend=False\n",
    ")\n",
    "\n",
    "fig.show()"
   ]
  },
  {
   "cell_type": "markdown",
   "id": "7dd53f87",
   "metadata": {},
   "source": [
    "# Current Week Data"
   ]
  },
  {
   "cell_type": "markdown",
   "id": "fbd0a012",
   "metadata": {},
   "source": [
    "## Import 2025 Field\n",
    "**Important!**  Save curren't week's `DKSalaries.csv` into Data folder before this step."
   ]
  },
  {
   "cell_type": "code",
   "execution_count": 12,
   "id": "f17875f6",
   "metadata": {},
   "outputs": [
    {
     "data": {
      "text/html": [
       "<div>\n",
       "<style scoped>\n",
       "    .dataframe tbody tr th:only-of-type {\n",
       "        vertical-align: middle;\n",
       "    }\n",
       "\n",
       "    .dataframe tbody tr th {\n",
       "        vertical-align: top;\n",
       "    }\n",
       "\n",
       "    .dataframe thead th {\n",
       "        text-align: right;\n",
       "    }\n",
       "</style>\n",
       "<table border=\"1\" class=\"dataframe\">\n",
       "  <thead>\n",
       "    <tr style=\"text-align: right;\">\n",
       "      <th></th>\n",
       "      <th>PLAYER</th>\n",
       "      <th>SALARY</th>\n",
       "    </tr>\n",
       "  </thead>\n",
       "  <tbody>\n",
       "    <tr>\n",
       "      <th>0</th>\n",
       "      <td>Scottie Scheffler</td>\n",
       "      <td>13700</td>\n",
       "    </tr>\n",
       "    <tr>\n",
       "      <th>1</th>\n",
       "      <td>Tommy Fleetwood</td>\n",
       "      <td>10000</td>\n",
       "    </tr>\n",
       "    <tr>\n",
       "      <th>2</th>\n",
       "      <td>Daniel Berger</td>\n",
       "      <td>9900</td>\n",
       "    </tr>\n",
       "    <tr>\n",
       "      <th>3</th>\n",
       "      <td>Jordan Spieth</td>\n",
       "      <td>9800</td>\n",
       "    </tr>\n",
       "    <tr>\n",
       "      <th>4</th>\n",
       "      <td>Hideki Matsuyama</td>\n",
       "      <td>9600</td>\n",
       "    </tr>\n",
       "    <tr>\n",
       "      <th>5</th>\n",
       "      <td>Maverick McNealy</td>\n",
       "      <td>9500</td>\n",
       "    </tr>\n",
       "    <tr>\n",
       "      <th>6</th>\n",
       "      <td>J.T. Poston</td>\n",
       "      <td>9400</td>\n",
       "    </tr>\n",
       "    <tr>\n",
       "      <th>7</th>\n",
       "      <td>Robert Macintyre</td>\n",
       "      <td>9300</td>\n",
       "    </tr>\n",
       "    <tr>\n",
       "      <th>8</th>\n",
       "      <td>Harris English</td>\n",
       "      <td>9200</td>\n",
       "    </tr>\n",
       "    <tr>\n",
       "      <th>9</th>\n",
       "      <td>Aaron Rai</td>\n",
       "      <td>9100</td>\n",
       "    </tr>\n",
       "  </tbody>\n",
       "</table>\n",
       "</div>"
      ],
      "text/plain": [
       "              PLAYER  SALARY\n",
       "0  Scottie Scheffler   13700\n",
       "1    Tommy Fleetwood   10000\n",
       "2      Daniel Berger    9900\n",
       "3      Jordan Spieth    9800\n",
       "4   Hideki Matsuyama    9600\n",
       "5   Maverick McNealy    9500\n",
       "6        J.T. Poston    9400\n",
       "7   Robert Macintyre    9300\n",
       "8     Harris English    9200\n",
       "9          Aaron Rai    9100"
      ]
     },
     "execution_count": 12,
     "metadata": {},
     "output_type": "execute_result"
    }
   ],
   "source": [
    "importlib.reload(utils.db_utils)\n",
    "from utils.db_utils import DK_PLAYER_NAME_MAP\n",
    "\n",
    "# Load DraftKings player list\n",
    "dk = pd.read_csv(\"data/DKSalaries.csv\", usecols=[\"Name\", \"Salary\"])\n",
    "\n",
    "# Normalize DK names to PGA naming convention\n",
    "dk[\"Name\"] = dk[\"Name\"].replace(DK_PLAYER_NAME_MAP)\n",
    "\n",
    "# Rename for consistency\n",
    "dk = dk.rename(columns={\"Name\": \"PLAYER\", \"Salary\": \"SALARY\"})\n",
    "\n",
    "dk.head(10)"
   ]
  },
  {
   "cell_type": "markdown",
   "id": "544d958c",
   "metadata": {},
   "source": [
    "## Vegas Odds\n",
    "Confirm the [Vegas Odds](http://golfodds.com/weekly-odds.html) page is updated with current tournament.\n",
    "\n",
    "Note: sometimes this site can give errors and not load correctly.  Just have to do it again later.\n",
    "Another trick to try is change the url try to run it and then put the url back the way it was.  Worked once, maybe random coincidence."
   ]
  },
  {
   "cell_type": "code",
   "execution_count": 13,
   "id": "a3cba953",
   "metadata": {},
   "outputs": [
    {
     "data": {
      "text/html": [
       "<div>\n",
       "<style scoped>\n",
       "    .dataframe tbody tr th:only-of-type {\n",
       "        vertical-align: middle;\n",
       "    }\n",
       "\n",
       "    .dataframe tbody tr th {\n",
       "        vertical-align: top;\n",
       "    }\n",
       "\n",
       "    .dataframe thead th {\n",
       "        text-align: right;\n",
       "    }\n",
       "</style>\n",
       "<table border=\"1\" class=\"dataframe\">\n",
       "  <thead>\n",
       "    <tr style=\"text-align: right;\">\n",
       "      <th></th>\n",
       "      <th>SEASON</th>\n",
       "      <th>TOURNAMENT</th>\n",
       "      <th>PLAYER</th>\n",
       "      <th>ODDS</th>\n",
       "      <th>VEGAS_ODDS</th>\n",
       "    </tr>\n",
       "  </thead>\n",
       "  <tbody>\n",
       "    <tr>\n",
       "      <th>1</th>\n",
       "      <td>2025</td>\n",
       "      <td>Charles Schwab Challenge</td>\n",
       "      <td>Scottie Scheffler</td>\n",
       "      <td>9/4</td>\n",
       "      <td>2.25</td>\n",
       "    </tr>\n",
       "    <tr>\n",
       "      <th>2</th>\n",
       "      <td>2025</td>\n",
       "      <td>Charles Schwab Challenge</td>\n",
       "      <td>Daniel Berger</td>\n",
       "      <td>20/1</td>\n",
       "      <td>20.00</td>\n",
       "    </tr>\n",
       "    <tr>\n",
       "      <th>3</th>\n",
       "      <td>2025</td>\n",
       "      <td>Charles Schwab Challenge</td>\n",
       "      <td>Tommy Fleetwood</td>\n",
       "      <td>25/1</td>\n",
       "      <td>25.00</td>\n",
       "    </tr>\n",
       "    <tr>\n",
       "      <th>4</th>\n",
       "      <td>2025</td>\n",
       "      <td>Charles Schwab Challenge</td>\n",
       "      <td>Hideki Matsuyama</td>\n",
       "      <td>25/1</td>\n",
       "      <td>25.00</td>\n",
       "    </tr>\n",
       "    <tr>\n",
       "      <th>5</th>\n",
       "      <td>2025</td>\n",
       "      <td>Charles Schwab Challenge</td>\n",
       "      <td>Jordan Spieth</td>\n",
       "      <td>25/1</td>\n",
       "      <td>25.00</td>\n",
       "    </tr>\n",
       "    <tr>\n",
       "      <th>6</th>\n",
       "      <td>2025</td>\n",
       "      <td>Charles Schwab Challenge</td>\n",
       "      <td>Maverick McNealy</td>\n",
       "      <td>30/1</td>\n",
       "      <td>30.00</td>\n",
       "    </tr>\n",
       "    <tr>\n",
       "      <th>7</th>\n",
       "      <td>2025</td>\n",
       "      <td>Charles Schwab Challenge</td>\n",
       "      <td>Aaron Rai</td>\n",
       "      <td>30/1</td>\n",
       "      <td>30.00</td>\n",
       "    </tr>\n",
       "    <tr>\n",
       "      <th>8</th>\n",
       "      <td>2025</td>\n",
       "      <td>Charles Schwab Challenge</td>\n",
       "      <td>Harris English</td>\n",
       "      <td>35/1</td>\n",
       "      <td>35.00</td>\n",
       "    </tr>\n",
       "    <tr>\n",
       "      <th>9</th>\n",
       "      <td>2025</td>\n",
       "      <td>Charles Schwab Challenge</td>\n",
       "      <td>Si Woo Kim</td>\n",
       "      <td>40/1</td>\n",
       "      <td>40.00</td>\n",
       "    </tr>\n",
       "    <tr>\n",
       "      <th>10</th>\n",
       "      <td>2025</td>\n",
       "      <td>Charles Schwab Challenge</td>\n",
       "      <td>J.T. Poston</td>\n",
       "      <td>40/1</td>\n",
       "      <td>40.00</td>\n",
       "    </tr>\n",
       "  </tbody>\n",
       "</table>\n",
       "</div>"
      ],
      "text/plain": [
       "    SEASON                TOURNAMENT             PLAYER  ODDS  VEGAS_ODDS\n",
       "1     2025  Charles Schwab Challenge  Scottie Scheffler   9/4        2.25\n",
       "2     2025  Charles Schwab Challenge      Daniel Berger  20/1       20.00\n",
       "3     2025  Charles Schwab Challenge    Tommy Fleetwood  25/1       25.00\n",
       "4     2025  Charles Schwab Challenge   Hideki Matsuyama  25/1       25.00\n",
       "5     2025  Charles Schwab Challenge      Jordan Spieth  25/1       25.00\n",
       "6     2025  Charles Schwab Challenge   Maverick McNealy  30/1       30.00\n",
       "7     2025  Charles Schwab Challenge          Aaron Rai  30/1       30.00\n",
       "8     2025  Charles Schwab Challenge     Harris English  35/1       35.00\n",
       "9     2025  Charles Schwab Challenge         Si Woo Kim  40/1       40.00\n",
       "10    2025  Charles Schwab Challenge        J.T. Poston  40/1       40.00"
      ]
     },
     "execution_count": 13,
     "metadata": {},
     "output_type": "execute_result"
    }
   ],
   "source": [
    "importlib.reload(utils.db_utils)\n",
    "from utils.db_utils import get_current_week_odds\n",
    "\n",
    "odds_current = get_current_week_odds(season=2025, tournament_name=new_tournament_name)\n",
    "odds_current.head(10)\n"
   ]
  },
  {
   "cell_type": "markdown",
   "id": "f58bb5d0",
   "metadata": {},
   "source": [
    "## Cut Percentage and FedEx Points"
   ]
  },
  {
   "cell_type": "code",
   "execution_count": 14,
   "id": "a927b0b2",
   "metadata": {},
   "outputs": [
    {
     "data": {
      "text/html": [
       "<div>\n",
       "<style scoped>\n",
       "    .dataframe tbody tr th:only-of-type {\n",
       "        vertical-align: middle;\n",
       "    }\n",
       "\n",
       "    .dataframe tbody tr th {\n",
       "        vertical-align: top;\n",
       "    }\n",
       "\n",
       "    .dataframe thead th {\n",
       "        text-align: right;\n",
       "    }\n",
       "</style>\n",
       "<table border=\"1\" class=\"dataframe\">\n",
       "  <thead>\n",
       "    <tr style=\"text-align: right;\">\n",
       "      <th></th>\n",
       "      <th>PLAYER</th>\n",
       "      <th>TOTAL_EVENTS_PLAYED</th>\n",
       "      <th>CUTS_MADE</th>\n",
       "      <th>FEDEX_CUP_POINTS</th>\n",
       "      <th>CUT_PERCENTAGE</th>\n",
       "      <th>form_density</th>\n",
       "      <th>CONSECUTIVE_CUTS</th>\n",
       "      <th>ENDING_DATE</th>\n",
       "      <th>TOURNAMENT</th>\n",
       "    </tr>\n",
       "  </thead>\n",
       "  <tbody>\n",
       "    <tr>\n",
       "      <th>0</th>\n",
       "      <td>Aaron Baddeley</td>\n",
       "      <td>15</td>\n",
       "      <td>7</td>\n",
       "      <td>55.951</td>\n",
       "      <td>46.7</td>\n",
       "      <td>3.73</td>\n",
       "      <td>0</td>\n",
       "      <td>2025-05-25</td>\n",
       "      <td>Charles Schwab Challenge</td>\n",
       "    </tr>\n",
       "    <tr>\n",
       "      <th>1</th>\n",
       "      <td>Aaron Rai</td>\n",
       "      <td>14</td>\n",
       "      <td>12</td>\n",
       "      <td>785.480</td>\n",
       "      <td>85.7</td>\n",
       "      <td>56.11</td>\n",
       "      <td>4</td>\n",
       "      <td>2025-05-25</td>\n",
       "      <td>Charles Schwab Challenge</td>\n",
       "    </tr>\n",
       "    <tr>\n",
       "      <th>2</th>\n",
       "      <td>Adam Hadwin</td>\n",
       "      <td>16</td>\n",
       "      <td>10</td>\n",
       "      <td>192.713</td>\n",
       "      <td>62.5</td>\n",
       "      <td>12.04</td>\n",
       "      <td>0</td>\n",
       "      <td>2025-05-25</td>\n",
       "      <td>Charles Schwab Challenge</td>\n",
       "    </tr>\n",
       "    <tr>\n",
       "      <th>3</th>\n",
       "      <td>Adam Long</td>\n",
       "      <td>1</td>\n",
       "      <td>0</td>\n",
       "      <td>0.000</td>\n",
       "      <td>0.0</td>\n",
       "      <td>0.00</td>\n",
       "      <td>0</td>\n",
       "      <td>2025-05-25</td>\n",
       "      <td>Charles Schwab Challenge</td>\n",
       "    </tr>\n",
       "    <tr>\n",
       "      <th>4</th>\n",
       "      <td>Adam Schenk</td>\n",
       "      <td>17</td>\n",
       "      <td>7</td>\n",
       "      <td>253.954</td>\n",
       "      <td>41.2</td>\n",
       "      <td>14.94</td>\n",
       "      <td>1</td>\n",
       "      <td>2025-05-25</td>\n",
       "      <td>Charles Schwab Challenge</td>\n",
       "    </tr>\n",
       "    <tr>\n",
       "      <th>5</th>\n",
       "      <td>Adam Scott</td>\n",
       "      <td>11</td>\n",
       "      <td>9</td>\n",
       "      <td>422.096</td>\n",
       "      <td>81.8</td>\n",
       "      <td>38.37</td>\n",
       "      <td>3</td>\n",
       "      <td>2025-05-25</td>\n",
       "      <td>Charles Schwab Challenge</td>\n",
       "    </tr>\n",
       "    <tr>\n",
       "      <th>6</th>\n",
       "      <td>Adam Svensson</td>\n",
       "      <td>18</td>\n",
       "      <td>10</td>\n",
       "      <td>164.158</td>\n",
       "      <td>55.6</td>\n",
       "      <td>9.12</td>\n",
       "      <td>0</td>\n",
       "      <td>2025-05-25</td>\n",
       "      <td>Charles Schwab Challenge</td>\n",
       "    </tr>\n",
       "    <tr>\n",
       "      <th>7</th>\n",
       "      <td>Adrien Dumont de Chassart</td>\n",
       "      <td>8</td>\n",
       "      <td>3</td>\n",
       "      <td>200.500</td>\n",
       "      <td>37.5</td>\n",
       "      <td>25.06</td>\n",
       "      <td>0</td>\n",
       "      <td>2025-05-25</td>\n",
       "      <td>Charles Schwab Challenge</td>\n",
       "    </tr>\n",
       "    <tr>\n",
       "      <th>8</th>\n",
       "      <td>Akshay Bhatia</td>\n",
       "      <td>14</td>\n",
       "      <td>11</td>\n",
       "      <td>931.990</td>\n",
       "      <td>78.6</td>\n",
       "      <td>66.57</td>\n",
       "      <td>0</td>\n",
       "      <td>2025-05-25</td>\n",
       "      <td>Charles Schwab Challenge</td>\n",
       "    </tr>\n",
       "    <tr>\n",
       "      <th>9</th>\n",
       "      <td>Aldrich Potgieter</td>\n",
       "      <td>10</td>\n",
       "      <td>3</td>\n",
       "      <td>355.000</td>\n",
       "      <td>30.0</td>\n",
       "      <td>35.50</td>\n",
       "      <td>0</td>\n",
       "      <td>2025-05-25</td>\n",
       "      <td>Charles Schwab Challenge</td>\n",
       "    </tr>\n",
       "  </tbody>\n",
       "</table>\n",
       "</div>"
      ],
      "text/plain": [
       "                      PLAYER  TOTAL_EVENTS_PLAYED  CUTS_MADE  \\\n",
       "0             Aaron Baddeley                   15          7   \n",
       "1                  Aaron Rai                   14         12   \n",
       "2                Adam Hadwin                   16         10   \n",
       "3                  Adam Long                    1          0   \n",
       "4                Adam Schenk                   17          7   \n",
       "5                 Adam Scott                   11          9   \n",
       "6              Adam Svensson                   18         10   \n",
       "7  Adrien Dumont de Chassart                    8          3   \n",
       "8              Akshay Bhatia                   14         11   \n",
       "9          Aldrich Potgieter                   10          3   \n",
       "\n",
       "   FEDEX_CUP_POINTS  CUT_PERCENTAGE  form_density  CONSECUTIVE_CUTS  \\\n",
       "0            55.951            46.7          3.73                 0   \n",
       "1           785.480            85.7         56.11                 4   \n",
       "2           192.713            62.5         12.04                 0   \n",
       "3             0.000             0.0          0.00                 0   \n",
       "4           253.954            41.2         14.94                 1   \n",
       "5           422.096            81.8         38.37                 3   \n",
       "6           164.158            55.6          9.12                 0   \n",
       "7           200.500            37.5         25.06                 0   \n",
       "8           931.990            78.6         66.57                 0   \n",
       "9           355.000            30.0         35.50                 0   \n",
       "\n",
       "  ENDING_DATE                TOURNAMENT  \n",
       "0  2025-05-25  Charles Schwab Challenge  \n",
       "1  2025-05-25  Charles Schwab Challenge  \n",
       "2  2025-05-25  Charles Schwab Challenge  \n",
       "3  2025-05-25  Charles Schwab Challenge  \n",
       "4  2025-05-25  Charles Schwab Challenge  \n",
       "5  2025-05-25  Charles Schwab Challenge  \n",
       "6  2025-05-25  Charles Schwab Challenge  \n",
       "7  2025-05-25  Charles Schwab Challenge  \n",
       "8  2025-05-25  Charles Schwab Challenge  \n",
       "9  2025-05-25  Charles Schwab Challenge  "
      ]
     },
     "execution_count": 14,
     "metadata": {},
     "output_type": "execute_result"
    }
   ],
   "source": [
    "importlib.reload(utils.db_utils)\n",
    "from utils.db_utils import get_cut_and_fedex_history\n",
    "\n",
    "cuts_rolling = get_cut_and_fedex_history(db_path, this_week_history, window_months=9)\n",
    "cuts_current = cuts_rolling[this_week_key].copy()\n",
    "cuts_current.head(10)"
   ]
  },
  {
   "cell_type": "markdown",
   "id": "abdf22cb",
   "metadata": {},
   "source": [
    "## Recent Form"
   ]
  },
  {
   "cell_type": "code",
   "execution_count": 15,
   "id": "58cfb255",
   "metadata": {},
   "outputs": [
    {
     "data": {
      "text/html": [
       "<div>\n",
       "<style scoped>\n",
       "    .dataframe tbody tr th:only-of-type {\n",
       "        vertical-align: middle;\n",
       "    }\n",
       "\n",
       "    .dataframe tbody tr th {\n",
       "        vertical-align: top;\n",
       "    }\n",
       "\n",
       "    .dataframe thead th {\n",
       "        text-align: right;\n",
       "    }\n",
       "</style>\n",
       "<table border=\"1\" class=\"dataframe\">\n",
       "  <thead>\n",
       "    <tr style=\"text-align: right;\">\n",
       "      <th></th>\n",
       "      <th>PLAYER</th>\n",
       "      <th>TOTAL_EVENTS_PLAYED</th>\n",
       "      <th>RECENT_FORM</th>\n",
       "      <th>adj_form</th>\n",
       "      <th>ENDING_DATE</th>\n",
       "      <th>TOURNAMENT</th>\n",
       "    </tr>\n",
       "  </thead>\n",
       "  <tbody>\n",
       "    <tr>\n",
       "      <th>0</th>\n",
       "      <td>Bryson DeChambeau</td>\n",
       "      <td>2</td>\n",
       "      <td>3.5</td>\n",
       "      <td>3.19</td>\n",
       "      <td>2025-05-25</td>\n",
       "      <td>Charles Schwab Challenge</td>\n",
       "    </tr>\n",
       "    <tr>\n",
       "      <th>1</th>\n",
       "      <td>Scottie Scheffler</td>\n",
       "      <td>12</td>\n",
       "      <td>7.4</td>\n",
       "      <td>2.89</td>\n",
       "      <td>2025-05-25</td>\n",
       "      <td>Charles Schwab Challenge</td>\n",
       "    </tr>\n",
       "    <tr>\n",
       "      <th>2</th>\n",
       "      <td>Jon Rahm</td>\n",
       "      <td>2</td>\n",
       "      <td>11.0</td>\n",
       "      <td>10.01</td>\n",
       "      <td>2025-05-25</td>\n",
       "      <td>Charles Schwab Challenge</td>\n",
       "    </tr>\n",
       "    <tr>\n",
       "      <th>3</th>\n",
       "      <td>John Keefer</td>\n",
       "      <td>1</td>\n",
       "      <td>13.0</td>\n",
       "      <td>18.76</td>\n",
       "      <td>2025-05-25</td>\n",
       "      <td>Charles Schwab Challenge</td>\n",
       "    </tr>\n",
       "    <tr>\n",
       "      <th>4</th>\n",
       "      <td>Bubba Watson</td>\n",
       "      <td>1</td>\n",
       "      <td>14.0</td>\n",
       "      <td>20.20</td>\n",
       "      <td>2025-05-25</td>\n",
       "      <td>Charles Schwab Challenge</td>\n",
       "    </tr>\n",
       "    <tr>\n",
       "      <th>5</th>\n",
       "      <td>Ian Gilligan</td>\n",
       "      <td>1</td>\n",
       "      <td>16.0</td>\n",
       "      <td>23.08</td>\n",
       "      <td>2025-05-25</td>\n",
       "      <td>Charles Schwab Challenge</td>\n",
       "    </tr>\n",
       "    <tr>\n",
       "      <th>6</th>\n",
       "      <td>Taisei Shimizu</td>\n",
       "      <td>1</td>\n",
       "      <td>16.0</td>\n",
       "      <td>23.08</td>\n",
       "      <td>2025-05-25</td>\n",
       "      <td>Charles Schwab Challenge</td>\n",
       "    </tr>\n",
       "    <tr>\n",
       "      <th>7</th>\n",
       "      <td>Rory McIlroy</td>\n",
       "      <td>9</td>\n",
       "      <td>18.0</td>\n",
       "      <td>7.82</td>\n",
       "      <td>2025-05-25</td>\n",
       "      <td>Charles Schwab Challenge</td>\n",
       "    </tr>\n",
       "    <tr>\n",
       "      <th>8</th>\n",
       "      <td>Joaquin Niemann</td>\n",
       "      <td>2</td>\n",
       "      <td>18.5</td>\n",
       "      <td>16.84</td>\n",
       "      <td>2025-05-25</td>\n",
       "      <td>Charles Schwab Challenge</td>\n",
       "    </tr>\n",
       "    <tr>\n",
       "      <th>9</th>\n",
       "      <td>Tommy Fleetwood</td>\n",
       "      <td>11</td>\n",
       "      <td>20.5</td>\n",
       "      <td>8.25</td>\n",
       "      <td>2025-05-25</td>\n",
       "      <td>Charles Schwab Challenge</td>\n",
       "    </tr>\n",
       "  </tbody>\n",
       "</table>\n",
       "</div>"
      ],
      "text/plain": [
       "              PLAYER  TOTAL_EVENTS_PLAYED  RECENT_FORM  adj_form ENDING_DATE  \\\n",
       "0  Bryson DeChambeau                    2          3.5      3.19  2025-05-25   \n",
       "1  Scottie Scheffler                   12          7.4      2.89  2025-05-25   \n",
       "2           Jon Rahm                    2         11.0     10.01  2025-05-25   \n",
       "3        John Keefer                    1         13.0     18.76  2025-05-25   \n",
       "4       Bubba Watson                    1         14.0     20.20  2025-05-25   \n",
       "5       Ian Gilligan                    1         16.0     23.08  2025-05-25   \n",
       "6     Taisei Shimizu                    1         16.0     23.08  2025-05-25   \n",
       "7       Rory McIlroy                    9         18.0      7.82  2025-05-25   \n",
       "8    Joaquin Niemann                    2         18.5     16.84  2025-05-25   \n",
       "9    Tommy Fleetwood                   11         20.5      8.25  2025-05-25   \n",
       "\n",
       "                 TOURNAMENT  \n",
       "0  Charles Schwab Challenge  \n",
       "1  Charles Schwab Challenge  \n",
       "2  Charles Schwab Challenge  \n",
       "3  Charles Schwab Challenge  \n",
       "4  Charles Schwab Challenge  \n",
       "5  Charles Schwab Challenge  \n",
       "6  Charles Schwab Challenge  \n",
       "7  Charles Schwab Challenge  \n",
       "8  Charles Schwab Challenge  \n",
       "9  Charles Schwab Challenge  "
      ]
     },
     "execution_count": 15,
     "metadata": {},
     "output_type": "execute_result"
    }
   ],
   "source": [
    "importlib.reload(utils.db_utils)\n",
    "from utils.db_utils import get_recent_avg_finish\n",
    "\n",
    "recent_form = get_recent_avg_finish(db_path, this_week_history, window_months=9)\n",
    "recent_form_current = recent_form[this_week_key].copy()\n",
    "\n",
    "recent_form_current.head(10)"
   ]
  },
  {
   "cell_type": "markdown",
   "id": "6386214b",
   "metadata": {},
   "source": [
    "## Course History"
   ]
  },
  {
   "cell_type": "code",
   "execution_count": 16,
   "id": "c1c0ec95",
   "metadata": {},
   "outputs": [
    {
     "data": {
      "text/html": [
       "<div>\n",
       "<style scoped>\n",
       "    .dataframe tbody tr th:only-of-type {\n",
       "        vertical-align: middle;\n",
       "    }\n",
       "\n",
       "    .dataframe tbody tr th {\n",
       "        vertical-align: top;\n",
       "    }\n",
       "\n",
       "    .dataframe thead th {\n",
       "        text-align: right;\n",
       "    }\n",
       "</style>\n",
       "<table border=\"1\" class=\"dataframe\">\n",
       "  <thead>\n",
       "    <tr style=\"text-align: right;\">\n",
       "      <th></th>\n",
       "      <th>PLAYER</th>\n",
       "      <th>TOTAL_EVENTS_PLAYED</th>\n",
       "      <th>COURSE_HISTORY</th>\n",
       "      <th>adj_ch</th>\n",
       "      <th>ENDING_DATE</th>\n",
       "      <th>COURSE</th>\n",
       "      <th>TOURNAMENT</th>\n",
       "    </tr>\n",
       "  </thead>\n",
       "  <tbody>\n",
       "    <tr>\n",
       "      <th>0</th>\n",
       "      <td>Aaron Baddeley</td>\n",
       "      <td>3</td>\n",
       "      <td>53.0</td>\n",
       "      <td>38.23</td>\n",
       "      <td>2025-05-25</td>\n",
       "      <td>Colonial Country Club</td>\n",
       "      <td>Charles Schwab Challenge</td>\n",
       "    </tr>\n",
       "    <tr>\n",
       "      <th>1</th>\n",
       "      <td>Aaron Rai</td>\n",
       "      <td>3</td>\n",
       "      <td>37.3</td>\n",
       "      <td>26.91</td>\n",
       "      <td>2025-05-25</td>\n",
       "      <td>Colonial Country Club</td>\n",
       "      <td>Charles Schwab Challenge</td>\n",
       "    </tr>\n",
       "    <tr>\n",
       "      <th>2</th>\n",
       "      <td>Aaron Wise</td>\n",
       "      <td>1</td>\n",
       "      <td>90.0</td>\n",
       "      <td>129.84</td>\n",
       "      <td>2025-05-25</td>\n",
       "      <td>Colonial Country Club</td>\n",
       "      <td>Charles Schwab Challenge</td>\n",
       "    </tr>\n",
       "    <tr>\n",
       "      <th>3</th>\n",
       "      <td>Abraham Ancer</td>\n",
       "      <td>5</td>\n",
       "      <td>45.6</td>\n",
       "      <td>25.45</td>\n",
       "      <td>2025-05-25</td>\n",
       "      <td>Colonial Country Club</td>\n",
       "      <td>Charles Schwab Challenge</td>\n",
       "    </tr>\n",
       "    <tr>\n",
       "      <th>4</th>\n",
       "      <td>Adam Hadwin</td>\n",
       "      <td>3</td>\n",
       "      <td>34.3</td>\n",
       "      <td>24.74</td>\n",
       "      <td>2025-05-25</td>\n",
       "      <td>Colonial Country Club</td>\n",
       "      <td>Charles Schwab Challenge</td>\n",
       "    </tr>\n",
       "    <tr>\n",
       "      <th>5</th>\n",
       "      <td>Adam Long</td>\n",
       "      <td>5</td>\n",
       "      <td>50.8</td>\n",
       "      <td>28.35</td>\n",
       "      <td>2025-05-25</td>\n",
       "      <td>Colonial Country Club</td>\n",
       "      <td>Charles Schwab Challenge</td>\n",
       "    </tr>\n",
       "    <tr>\n",
       "      <th>6</th>\n",
       "      <td>Adam Schenk</td>\n",
       "      <td>7</td>\n",
       "      <td>67.1</td>\n",
       "      <td>32.27</td>\n",
       "      <td>2025-05-25</td>\n",
       "      <td>Colonial Country Club</td>\n",
       "      <td>Charles Schwab Challenge</td>\n",
       "    </tr>\n",
       "    <tr>\n",
       "      <th>7</th>\n",
       "      <td>Adam Scott</td>\n",
       "      <td>2</td>\n",
       "      <td>32.0</td>\n",
       "      <td>29.13</td>\n",
       "      <td>2025-05-25</td>\n",
       "      <td>Colonial Country Club</td>\n",
       "      <td>Charles Schwab Challenge</td>\n",
       "    </tr>\n",
       "    <tr>\n",
       "      <th>8</th>\n",
       "      <td>Adam Svensson</td>\n",
       "      <td>2</td>\n",
       "      <td>32.0</td>\n",
       "      <td>29.13</td>\n",
       "      <td>2025-05-25</td>\n",
       "      <td>Colonial Country Club</td>\n",
       "      <td>Charles Schwab Challenge</td>\n",
       "    </tr>\n",
       "    <tr>\n",
       "      <th>9</th>\n",
       "      <td>Akshay Bhatia</td>\n",
       "      <td>2</td>\n",
       "      <td>73.0</td>\n",
       "      <td>66.45</td>\n",
       "      <td>2025-05-25</td>\n",
       "      <td>Colonial Country Club</td>\n",
       "      <td>Charles Schwab Challenge</td>\n",
       "    </tr>\n",
       "  </tbody>\n",
       "</table>\n",
       "</div>"
      ],
      "text/plain": [
       "           PLAYER  TOTAL_EVENTS_PLAYED  COURSE_HISTORY  adj_ch ENDING_DATE  \\\n",
       "0  Aaron Baddeley                    3            53.0   38.23  2025-05-25   \n",
       "1       Aaron Rai                    3            37.3   26.91  2025-05-25   \n",
       "2      Aaron Wise                    1            90.0  129.84  2025-05-25   \n",
       "3   Abraham Ancer                    5            45.6   25.45  2025-05-25   \n",
       "4     Adam Hadwin                    3            34.3   24.74  2025-05-25   \n",
       "5       Adam Long                    5            50.8   28.35  2025-05-25   \n",
       "6     Adam Schenk                    7            67.1   32.27  2025-05-25   \n",
       "7      Adam Scott                    2            32.0   29.13  2025-05-25   \n",
       "8   Adam Svensson                    2            32.0   29.13  2025-05-25   \n",
       "9   Akshay Bhatia                    2            73.0   66.45  2025-05-25   \n",
       "\n",
       "                  COURSE                TOURNAMENT  \n",
       "0  Colonial Country Club  Charles Schwab Challenge  \n",
       "1  Colonial Country Club  Charles Schwab Challenge  \n",
       "2  Colonial Country Club  Charles Schwab Challenge  \n",
       "3  Colonial Country Club  Charles Schwab Challenge  \n",
       "4  Colonial Country Club  Charles Schwab Challenge  \n",
       "5  Colonial Country Club  Charles Schwab Challenge  \n",
       "6  Colonial Country Club  Charles Schwab Challenge  \n",
       "7  Colonial Country Club  Charles Schwab Challenge  \n",
       "8  Colonial Country Club  Charles Schwab Challenge  \n",
       "9  Colonial Country Club  Charles Schwab Challenge  "
      ]
     },
     "execution_count": 16,
     "metadata": {},
     "output_type": "execute_result"
    }
   ],
   "source": [
    "importlib.reload(utils.db_utils)\n",
    "from utils.db_utils import get_course_history\n",
    "\n",
    "course_hist = get_course_history(db_path, this_week_history, lookback_years=7)\n",
    "course_hist_current = course_hist[this_week_key].copy()\n",
    "\n",
    "course_hist_current.head(10)\n"
   ]
  },
  {
   "cell_type": "markdown",
   "id": "cff50c6a",
   "metadata": {},
   "source": [
    "## Merged Dataframe"
   ]
  },
  {
   "cell_type": "code",
   "execution_count": 17,
   "id": "2ca1130d",
   "metadata": {},
   "outputs": [
    {
     "data": {
      "text/html": [
       "<div>\n",
       "<style scoped>\n",
       "    .dataframe tbody tr th:only-of-type {\n",
       "        vertical-align: middle;\n",
       "    }\n",
       "\n",
       "    .dataframe tbody tr th {\n",
       "        vertical-align: top;\n",
       "    }\n",
       "\n",
       "    .dataframe thead th {\n",
       "        text-align: right;\n",
       "    }\n",
       "</style>\n",
       "<table border=\"1\" class=\"dataframe\">\n",
       "  <thead>\n",
       "    <tr style=\"text-align: right;\">\n",
       "      <th></th>\n",
       "      <th>SEASON</th>\n",
       "      <th>PLAYER</th>\n",
       "      <th>SGTTG_RANK</th>\n",
       "      <th>SGTTG</th>\n",
       "      <th>SGOTT_RANK</th>\n",
       "      <th>SGOTT</th>\n",
       "      <th>SGAPR_RANK</th>\n",
       "      <th>SGAPR</th>\n",
       "      <th>SGATG_RANK</th>\n",
       "      <th>SGATG</th>\n",
       "      <th>SGP_RANK</th>\n",
       "      <th>SGP</th>\n",
       "      <th>BIRDIES_RANK</th>\n",
       "      <th>BIRDIES</th>\n",
       "      <th>PAR_3_RANK</th>\n",
       "      <th>PAR_3</th>\n",
       "      <th>PAR_4_RANK</th>\n",
       "      <th>PAR_4</th>\n",
       "      <th>PAR_5_RANK</th>\n",
       "      <th>PAR_5</th>\n",
       "      <th>TOTAL_DRIVING_RANK</th>\n",
       "      <th>TOTAL_DRIVING</th>\n",
       "      <th>DRIVING_DISTANCE_RANK</th>\n",
       "      <th>DRIVING_DISTANCE</th>\n",
       "      <th>DRIVING_ACCURACY_RANK</th>\n",
       "      <th>DRIVING_ACCURACY</th>\n",
       "      <th>GIR_RANK</th>\n",
       "      <th>GIR</th>\n",
       "      <th>SCRAMBLING_RANK</th>\n",
       "      <th>SCRAMBLING</th>\n",
       "      <th>OWGR_RANK</th>\n",
       "      <th>OWGR</th>\n",
       "      <th>VEGAS_ODDS</th>\n",
       "      <th>CUT_PERCENTAGE</th>\n",
       "      <th>FEDEX_CUP_POINTS</th>\n",
       "      <th>form_density</th>\n",
       "      <th>CONSECUTIVE_CUTS</th>\n",
       "      <th>RECENT_FORM</th>\n",
       "      <th>adj_form</th>\n",
       "      <th>COURSE_HISTORY</th>\n",
       "      <th>adj_ch</th>\n",
       "      <th>SALARY</th>\n",
       "    </tr>\n",
       "  </thead>\n",
       "  <tbody>\n",
       "    <tr>\n",
       "      <th>0</th>\n",
       "      <td>2025.0</td>\n",
       "      <td>Aaron Rai</td>\n",
       "      <td>21.0</td>\n",
       "      <td>0.831</td>\n",
       "      <td>35.0</td>\n",
       "      <td>0.330</td>\n",
       "      <td>20.0</td>\n",
       "      <td>0.513</td>\n",
       "      <td>107.0</td>\n",
       "      <td>-0.012</td>\n",
       "      <td>96.0</td>\n",
       "      <td>0.004</td>\n",
       "      <td>27.0</td>\n",
       "      <td>23.86%</td>\n",
       "      <td>179.0</td>\n",
       "      <td>3.19</td>\n",
       "      <td>6.0</td>\n",
       "      <td>3.95</td>\n",
       "      <td>25.0</td>\n",
       "      <td>4.53</td>\n",
       "      <td>75.0</td>\n",
       "      <td>170.0</td>\n",
       "      <td>169.0</td>\n",
       "      <td>286.7</td>\n",
       "      <td>1.0</td>\n",
       "      <td>73.13%</td>\n",
       "      <td>16.0</td>\n",
       "      <td>69.57%</td>\n",
       "      <td>131.0</td>\n",
       "      <td>58.51%</td>\n",
       "      <td>28.0</td>\n",
       "      <td>2.7748</td>\n",
       "      <td>30.0</td>\n",
       "      <td>85.7</td>\n",
       "      <td>785.480</td>\n",
       "      <td>56.11</td>\n",
       "      <td>4.0</td>\n",
       "      <td>31.3</td>\n",
       "      <td>11.56</td>\n",
       "      <td>37.3</td>\n",
       "      <td>26.91</td>\n",
       "      <td>9100</td>\n",
       "    </tr>\n",
       "    <tr>\n",
       "      <th>1</th>\n",
       "      <td>2025.0</td>\n",
       "      <td>Adam Schenk</td>\n",
       "      <td>79.0</td>\n",
       "      <td>0.135</td>\n",
       "      <td>49.0</td>\n",
       "      <td>0.240</td>\n",
       "      <td>90.0</td>\n",
       "      <td>0.017</td>\n",
       "      <td>129.0</td>\n",
       "      <td>-0.122</td>\n",
       "      <td>104.0</td>\n",
       "      <td>-0.045</td>\n",
       "      <td>93.0</td>\n",
       "      <td>21.90%</td>\n",
       "      <td>61.0</td>\n",
       "      <td>3.05</td>\n",
       "      <td>127.0</td>\n",
       "      <td>4.05</td>\n",
       "      <td>40.0</td>\n",
       "      <td>4.55</td>\n",
       "      <td>129.0</td>\n",
       "      <td>207.0</td>\n",
       "      <td>41.0</td>\n",
       "      <td>306.7</td>\n",
       "      <td>166.0</td>\n",
       "      <td>52.06%</td>\n",
       "      <td>162.0</td>\n",
       "      <td>62.38%</td>\n",
       "      <td>66.0</td>\n",
       "      <td>61.60%</td>\n",
       "      <td>143.0</td>\n",
       "      <td>0.9231</td>\n",
       "      <td>250.0</td>\n",
       "      <td>41.2</td>\n",
       "      <td>253.954</td>\n",
       "      <td>14.94</td>\n",
       "      <td>1.0</td>\n",
       "      <td>66.3</td>\n",
       "      <td>22.94</td>\n",
       "      <td>67.1</td>\n",
       "      <td>32.27</td>\n",
       "      <td>6500</td>\n",
       "    </tr>\n",
       "    <tr>\n",
       "      <th>2</th>\n",
       "      <td>2025.0</td>\n",
       "      <td>Adam Svensson</td>\n",
       "      <td>70.0</td>\n",
       "      <td>0.191</td>\n",
       "      <td>110.0</td>\n",
       "      <td>-0.021</td>\n",
       "      <td>108.0</td>\n",
       "      <td>-0.049</td>\n",
       "      <td>32.0</td>\n",
       "      <td>0.261</td>\n",
       "      <td>159.0</td>\n",
       "      <td>-0.472</td>\n",
       "      <td>160.0</td>\n",
       "      <td>19.51%</td>\n",
       "      <td>85.0</td>\n",
       "      <td>3.06</td>\n",
       "      <td>115.0</td>\n",
       "      <td>4.04</td>\n",
       "      <td>96.0</td>\n",
       "      <td>4.61</td>\n",
       "      <td>102.0</td>\n",
       "      <td>189.0</td>\n",
       "      <td>160.0</td>\n",
       "      <td>291.5</td>\n",
       "      <td>29.0</td>\n",
       "      <td>64.70%</td>\n",
       "      <td>50.0</td>\n",
       "      <td>67.31%</td>\n",
       "      <td>91.0</td>\n",
       "      <td>60.47%</td>\n",
       "      <td>185.0</td>\n",
       "      <td>0.7574</td>\n",
       "      <td>200.0</td>\n",
       "      <td>55.6</td>\n",
       "      <td>164.158</td>\n",
       "      <td>9.12</td>\n",
       "      <td>0.0</td>\n",
       "      <td>63.1</td>\n",
       "      <td>21.43</td>\n",
       "      <td>32.0</td>\n",
       "      <td>29.13</td>\n",
       "      <td>6600</td>\n",
       "    </tr>\n",
       "    <tr>\n",
       "      <th>3</th>\n",
       "      <td>2025.0</td>\n",
       "      <td>Akshay Bhatia</td>\n",
       "      <td>96.0</td>\n",
       "      <td>0.012</td>\n",
       "      <td>118.0</td>\n",
       "      <td>-0.047</td>\n",
       "      <td>46.0</td>\n",
       "      <td>0.326</td>\n",
       "      <td>153.0</td>\n",
       "      <td>-0.267</td>\n",
       "      <td>9.0</td>\n",
       "      <td>0.614</td>\n",
       "      <td>6.0</td>\n",
       "      <td>25.66%</td>\n",
       "      <td>10.0</td>\n",
       "      <td>2.98</td>\n",
       "      <td>22.0</td>\n",
       "      <td>3.98</td>\n",
       "      <td>160.0</td>\n",
       "      <td>4.69</td>\n",
       "      <td>140.0</td>\n",
       "      <td>212.0</td>\n",
       "      <td>157.0</td>\n",
       "      <td>292.9</td>\n",
       "      <td>55.0</td>\n",
       "      <td>61.56%</td>\n",
       "      <td>54.0</td>\n",
       "      <td>67.20%</td>\n",
       "      <td>156.0</td>\n",
       "      <td>56.05%</td>\n",
       "      <td>30.0</td>\n",
       "      <td>2.6940</td>\n",
       "      <td>60.0</td>\n",
       "      <td>78.6</td>\n",
       "      <td>931.990</td>\n",
       "      <td>66.57</td>\n",
       "      <td>0.0</td>\n",
       "      <td>37.4</td>\n",
       "      <td>13.81</td>\n",
       "      <td>73.0</td>\n",
       "      <td>66.45</td>\n",
       "      <td>8000</td>\n",
       "    </tr>\n",
       "    <tr>\n",
       "      <th>4</th>\n",
       "      <td>2025.0</td>\n",
       "      <td>Aldrich Potgieter</td>\n",
       "      <td>136.0</td>\n",
       "      <td>-0.325</td>\n",
       "      <td>8.0</td>\n",
       "      <td>0.544</td>\n",
       "      <td>151.0</td>\n",
       "      <td>-0.399</td>\n",
       "      <td>172.0</td>\n",
       "      <td>-0.470</td>\n",
       "      <td>58.0</td>\n",
       "      <td>0.188</td>\n",
       "      <td>108.0</td>\n",
       "      <td>21.33%</td>\n",
       "      <td>61.0</td>\n",
       "      <td>3.05</td>\n",
       "      <td>166.0</td>\n",
       "      <td>4.08</td>\n",
       "      <td>170.0</td>\n",
       "      <td>4.71</td>\n",
       "      <td>69.0</td>\n",
       "      <td>166.0</td>\n",
       "      <td>1.0</td>\n",
       "      <td>323.9</td>\n",
       "      <td>165.0</td>\n",
       "      <td>52.11%</td>\n",
       "      <td>144.0</td>\n",
       "      <td>63.44%</td>\n",
       "      <td>174.0</td>\n",
       "      <td>52.94%</td>\n",
       "      <td>142.0</td>\n",
       "      <td>0.9265</td>\n",
       "      <td>250.0</td>\n",
       "      <td>30.0</td>\n",
       "      <td>355.000</td>\n",
       "      <td>35.50</td>\n",
       "      <td>0.0</td>\n",
       "      <td>69.4</td>\n",
       "      <td>28.94</td>\n",
       "      <td>NaN</td>\n",
       "      <td>NaN</td>\n",
       "      <td>6400</td>\n",
       "    </tr>\n",
       "  </tbody>\n",
       "</table>\n",
       "</div>"
      ],
      "text/plain": [
       "   SEASON             PLAYER  SGTTG_RANK  SGTTG  SGOTT_RANK  SGOTT  \\\n",
       "0  2025.0          Aaron Rai        21.0  0.831        35.0  0.330   \n",
       "1  2025.0        Adam Schenk        79.0  0.135        49.0  0.240   \n",
       "2  2025.0      Adam Svensson        70.0  0.191       110.0 -0.021   \n",
       "3  2025.0      Akshay Bhatia        96.0  0.012       118.0 -0.047   \n",
       "4  2025.0  Aldrich Potgieter       136.0 -0.325         8.0  0.544   \n",
       "\n",
       "   SGAPR_RANK  SGAPR  SGATG_RANK  SGATG  SGP_RANK    SGP  BIRDIES_RANK  \\\n",
       "0        20.0  0.513       107.0 -0.012      96.0  0.004          27.0   \n",
       "1        90.0  0.017       129.0 -0.122     104.0 -0.045          93.0   \n",
       "2       108.0 -0.049        32.0  0.261     159.0 -0.472         160.0   \n",
       "3        46.0  0.326       153.0 -0.267       9.0  0.614           6.0   \n",
       "4       151.0 -0.399       172.0 -0.470      58.0  0.188         108.0   \n",
       "\n",
       "  BIRDIES  PAR_3_RANK  PAR_3  PAR_4_RANK  PAR_4  PAR_5_RANK  PAR_5  \\\n",
       "0  23.86%       179.0   3.19         6.0   3.95        25.0   4.53   \n",
       "1  21.90%        61.0   3.05       127.0   4.05        40.0   4.55   \n",
       "2  19.51%        85.0   3.06       115.0   4.04        96.0   4.61   \n",
       "3  25.66%        10.0   2.98        22.0   3.98       160.0   4.69   \n",
       "4  21.33%        61.0   3.05       166.0   4.08       170.0   4.71   \n",
       "\n",
       "   TOTAL_DRIVING_RANK  TOTAL_DRIVING  DRIVING_DISTANCE_RANK  DRIVING_DISTANCE  \\\n",
       "0                75.0          170.0                  169.0             286.7   \n",
       "1               129.0          207.0                   41.0             306.7   \n",
       "2               102.0          189.0                  160.0             291.5   \n",
       "3               140.0          212.0                  157.0             292.9   \n",
       "4                69.0          166.0                    1.0             323.9   \n",
       "\n",
       "   DRIVING_ACCURACY_RANK DRIVING_ACCURACY  GIR_RANK     GIR  SCRAMBLING_RANK  \\\n",
       "0                    1.0           73.13%      16.0  69.57%            131.0   \n",
       "1                  166.0           52.06%     162.0  62.38%             66.0   \n",
       "2                   29.0           64.70%      50.0  67.31%             91.0   \n",
       "3                   55.0           61.56%      54.0  67.20%            156.0   \n",
       "4                  165.0           52.11%     144.0  63.44%            174.0   \n",
       "\n",
       "  SCRAMBLING  OWGR_RANK    OWGR  VEGAS_ODDS  CUT_PERCENTAGE  FEDEX_CUP_POINTS  \\\n",
       "0     58.51%       28.0  2.7748        30.0            85.7           785.480   \n",
       "1     61.60%      143.0  0.9231       250.0            41.2           253.954   \n",
       "2     60.47%      185.0  0.7574       200.0            55.6           164.158   \n",
       "3     56.05%       30.0  2.6940        60.0            78.6           931.990   \n",
       "4     52.94%      142.0  0.9265       250.0            30.0           355.000   \n",
       "\n",
       "   form_density  CONSECUTIVE_CUTS  RECENT_FORM  adj_form  COURSE_HISTORY  \\\n",
       "0         56.11               4.0         31.3     11.56            37.3   \n",
       "1         14.94               1.0         66.3     22.94            67.1   \n",
       "2          9.12               0.0         63.1     21.43            32.0   \n",
       "3         66.57               0.0         37.4     13.81            73.0   \n",
       "4         35.50               0.0         69.4     28.94             NaN   \n",
       "\n",
       "   adj_ch  SALARY  \n",
       "0   26.91    9100  \n",
       "1   32.27    6500  \n",
       "2   29.13    6600  \n",
       "3   66.45    8000  \n",
       "4     NaN    6400  "
      ]
     },
     "execution_count": 17,
     "metadata": {},
     "output_type": "execute_result"
    }
   ],
   "source": [
    "importlib.reload(utils.db_utils)\n",
    "from utils.db_utils import load_all_stats  # New helper function\n",
    "\n",
    "# === Load current season stats directly from database ===\n",
    "season = tournament_config[\"new\"][\"season\"]\n",
    "stats_df = load_all_stats(db_path)\n",
    "stats_df = stats_df[stats_df[\"SEASON\"] == season].copy()\n",
    "\n",
    "# === Standardize PLAYER columns for consistent merges ===\n",
    "for df in [stats_df, odds_current, cuts_current, recent_form_current, course_hist_current, dk]:\n",
    "    df[\"PLAYER\"] = df[\"PLAYER\"].astype(str).str.strip()\n",
    "\n",
    "# === Merge all engineered and DK features ===\n",
    "this_week = stats_df.copy()\n",
    "this_week = this_week.merge(odds_current[[\"PLAYER\", \"VEGAS_ODDS\"]], on=\"PLAYER\", how=\"left\")\n",
    "this_week = this_week.merge(cuts_current[[\"PLAYER\", \"CUT_PERCENTAGE\", \"FEDEX_CUP_POINTS\", \"form_density\", \"CONSECUTIVE_CUTS\"]], on=\"PLAYER\", how=\"left\")\n",
    "this_week = this_week.merge(recent_form_current[[\"PLAYER\", \"RECENT_FORM\", \"adj_form\"]], on=\"PLAYER\", how=\"left\")\n",
    "this_week = this_week.merge(course_hist_current[[\"PLAYER\", \"COURSE_HISTORY\", \"adj_ch\"]], on=\"PLAYER\", how=\"left\")\n",
    "this_week = this_week.merge(dk[[\"PLAYER\", \"SALARY\"]], on=\"PLAYER\", how=\"right\")  # keep only DK players\n",
    "\n",
    "# === Final cleanup ===\n",
    "this_week = this_week.sort_values(\"PLAYER\").reset_index(drop=True)\n",
    "this_week[\"SEASON\"] = this_week[\"SEASON\"].astype(float)  # allows averaging if needed\n",
    "\n",
    "this_week.head()"
   ]
  },
  {
   "cell_type": "markdown",
   "id": "e30b6643",
   "metadata": {},
   "source": [
    "### Dataframe Normalization\n",
    "\n",
    "Run the same normalization techniques that I ran on the historical data:\n",
    "- Any NaN Odds go to 1000/1 and clip all values at 1000/1\n",
    "- OWGR NaN values go to 1000\n",
    "- Recent form NaN values act like a MC at 90\n",
    "- Average everything else."
   ]
  },
  {
   "cell_type": "code",
   "execution_count": 18,
   "id": "cfea9168",
   "metadata": {},
   "outputs": [],
   "source": [
    "# === Clean percentage stats stored as strings like '62.5%' ===\n",
    "percent_stats = [\"SCRAMBLING\", \"DRIVING_ACCURACY\", \"BIRDIES\", \"GIR\"]\n",
    "\n",
    "for col in percent_stats:\n",
    "    if col in this_week.columns:\n",
    "        this_week[col] = (\n",
    "            this_week[col]\n",
    "            .astype(str)\n",
    "            .str.replace('%', '', regex=False)\n",
    "            .replace(['None', 'nan', 'NaN', '--', 'DNP', ''], np.nan)\n",
    "            .astype(float)\n",
    "        )\n",
    "\n",
    "# === Normalize & Assign Odds for Poor or Unknown Players ===\n",
    "this_week[\"VEGAS_ODDS\"] = this_week[\"VEGAS_ODDS\"].fillna(1000).clip(upper=1000)\n",
    "\n",
    "# === Normalize & Assign OWGR & OWGR_RANK for Unranked Players ===\n",
    "# OWGR (raw) — assign worst actual rank in dataset\n",
    "if \"OWGR\" in this_week.columns:\n",
    "    max_owgr = this_week[\"OWGR\"].dropna().max()\n",
    "    this_week[\"OWGR\"] = this_week[\"OWGR\"].fillna(max_owgr).astype(float).clip(upper=1000)\n",
    "\n",
    "# OWGR_RANK — if present, use 1000 for missing (very poor)\n",
    "if \"OWGR_RANK\" in this_week.columns:\n",
    "    this_week[\"OWGR_RANK\"] = this_week[\"OWGR_RANK\"].fillna(1000).clip(upper=1000)\n",
    "\n",
    "# === Assign RECENT FORM Score for Players Who Haven’t Played Recently ===\n",
    "this_week[\"RECENT_FORM\"] = this_week[\"RECENT_FORM\"].fillna(90)\n",
    "\n",
    "# === Assign 0 to FEDEX_CUP_POINTS Where No Data ===\n",
    "this_week[\"FEDEX_CUP_POINTS\"] = this_week[\"FEDEX_CUP_POINTS\"].fillna(0)\n",
    "\n",
    "# === Course History NaNs: Fill with Mean (not 0 — 0 implies bad, not missing) ===\n",
    "if \"COURSE_HISTORY\" in this_week.columns:\n",
    "    this_week[\"COURSE_HISTORY\"] = this_week[\"COURSE_HISTORY\"].fillna(this_week[\"COURSE_HISTORY\"].mean())\n",
    "\n",
    "# === Fill Remaining NaNs in Numeric Columns with Column Mean ===\n",
    "numeric_cols = this_week.select_dtypes(include=[\"float64\", \"int64\"])\n",
    "numeric_filled = numeric_cols.fillna(numeric_columns.mean())\n",
    "this_week.update(numeric_filled)\n",
    "\n"
   ]
  },
  {
   "cell_type": "code",
   "execution_count": 19,
   "id": "4b122fc3",
   "metadata": {},
   "outputs": [],
   "source": [
    "# === Final Check: No NaNs Should Remain ===\n",
    "assert this_week.isna().sum().sum() == 0, \"🚨 Still missing values in prediction set!\""
   ]
  },
  {
   "cell_type": "code",
   "execution_count": 20,
   "id": "b75f2cff",
   "metadata": {},
   "outputs": [
    {
     "name": "stdout",
     "output_type": "stream",
     "text": [
      "🧹 Columns still containing NaN values:\n"
     ]
    },
    {
     "data": {
      "text/plain": [
       "Series([], dtype: int64)"
      ]
     },
     "metadata": {},
     "output_type": "display_data"
    }
   ],
   "source": [
    "# === Check for Remaining Missing Values ===\n",
    "missing_summary = this_week.isna().sum()\n",
    "missing_summary = missing_summary[missing_summary > 0].sort_values(ascending=False)\n",
    "\n",
    "print(\"🧹 Columns still containing NaN values:\")\n",
    "display(missing_summary)"
   ]
  },
  {
   "cell_type": "markdown",
   "id": "e37950e7",
   "metadata": {},
   "source": [
    "## Correlations\n",
    "**Last 4 Years**"
   ]
  },
  {
   "cell_type": "code",
   "execution_count": 21,
   "id": "d749a70f",
   "metadata": {},
   "outputs": [
    {
     "data": {
      "application/vnd.plotly.v1+json": {
       "config": {
        "plotlyServerURL": "https://plot.ly"
       },
       "data": [
        {
         "hovertemplate": "Feature=%{x}<br>Correlation=%{y}<extra></extra>",
         "legendgroup": "",
         "marker": {
          "color": "#636efa",
          "pattern": {
           "shape": ""
          }
         },
         "name": "",
         "orientation": "v",
         "showlegend": false,
         "textposition": "auto",
         "type": "bar",
         "x": [
          "PAR_3_RANK",
          "PAR_3",
          "RECENT_FORM",
          "BIRDIES",
          "SGTTG",
          "FEDEX_CUP_POINTS",
          "OWGR",
          "SGTTG_RANK",
          "BIRDIES_RANK",
          "TOTAL_DRIVING_RANK",
          "form_density",
          "TOTAL_DRIVING",
          "PAR_4",
          "SGAPR",
          "PAR_4_RANK",
          "CUT_PERCENTAGE",
          "SGAPR_RANK",
          "CONSECUTIVE_CUTS",
          "SGOTT_RANK",
          "SGOTT",
          "PAR_5",
          "PAR_5_RANK",
          "COURSE_HISTORY",
          "adj_ch",
          "GIR",
          "GIR_RANK",
          "DRIVING_ACCURACY",
          "DRIVING_ACCURACY_RANK",
          "OWGR_RANK",
          "SCRAMBLING",
          "SCRAMBLING_RANK",
          "SGP",
          "SGP_RANK",
          "SGATG",
          "SGATG_RANK",
          "VEGAS_ODDS",
          "adj_form",
          "DRIVING_DISTANCE_RANK",
          "DRIVING_DISTANCE"
         ],
         "xaxis": "x",
         "y": {
          "bdata": "e3BeXXtk1T/NdAgdU6nUP2JUmGrgAtM/LEapJZT50j8mAzJLb6nSP/OX4vYpQ9I/sEMaAGUV0j+iQJb5MPPRP4xDkkBcStE/YUYoyV6b0D9hgDmRU4rQP4+PgMpzBc8/p+Yu5v0wzj+ixuEq/wDOP3hCSmTn4M0/bnritfmLzT/M1MAYSQvNP17WAHIZ78s/2Aw09Jj0yT/bWQ8CaWjJPyLUUZWKNMk/6+jRy+3VyD/3VIdwkaHIPx2E9lBG+8c/kLHPGc3Oxz+DltsCRlrHP2pw8rdHYsY/eURgOts5xj97z8gqpgDEPwRsE8cRMMM/dEfCkNuRwj/8+/hFDG7BP1bOffVu2sA/sRYb5CpKuT8Jell/6nO3PzyN8Z/bX7c/F7W+9yLYrj+1KA9cyeeWP+k/OvYWUW8/",
          "dtype": "f8"
         },
         "yaxis": "y"
        }
       ],
       "layout": {
        "barmode": "relative",
        "height": 500,
        "legend": {
         "tracegroupgap": 0
        },
        "template": {
         "data": {
          "bar": [
           {
            "error_x": {
             "color": "#f2f5fa"
            },
            "error_y": {
             "color": "#f2f5fa"
            },
            "marker": {
             "line": {
              "color": "rgb(17,17,17)",
              "width": 0.5
             },
             "pattern": {
              "fillmode": "overlay",
              "size": 10,
              "solidity": 0.2
             }
            },
            "type": "bar"
           }
          ],
          "barpolar": [
           {
            "marker": {
             "line": {
              "color": "rgb(17,17,17)",
              "width": 0.5
             },
             "pattern": {
              "fillmode": "overlay",
              "size": 10,
              "solidity": 0.2
             }
            },
            "type": "barpolar"
           }
          ],
          "carpet": [
           {
            "aaxis": {
             "endlinecolor": "#A2B1C6",
             "gridcolor": "#506784",
             "linecolor": "#506784",
             "minorgridcolor": "#506784",
             "startlinecolor": "#A2B1C6"
            },
            "baxis": {
             "endlinecolor": "#A2B1C6",
             "gridcolor": "#506784",
             "linecolor": "#506784",
             "minorgridcolor": "#506784",
             "startlinecolor": "#A2B1C6"
            },
            "type": "carpet"
           }
          ],
          "choropleth": [
           {
            "colorbar": {
             "outlinewidth": 0,
             "ticks": ""
            },
            "type": "choropleth"
           }
          ],
          "contour": [
           {
            "colorbar": {
             "outlinewidth": 0,
             "ticks": ""
            },
            "colorscale": [
             [
              0,
              "#0d0887"
             ],
             [
              0.1111111111111111,
              "#46039f"
             ],
             [
              0.2222222222222222,
              "#7201a8"
             ],
             [
              0.3333333333333333,
              "#9c179e"
             ],
             [
              0.4444444444444444,
              "#bd3786"
             ],
             [
              0.5555555555555556,
              "#d8576b"
             ],
             [
              0.6666666666666666,
              "#ed7953"
             ],
             [
              0.7777777777777778,
              "#fb9f3a"
             ],
             [
              0.8888888888888888,
              "#fdca26"
             ],
             [
              1,
              "#f0f921"
             ]
            ],
            "type": "contour"
           }
          ],
          "contourcarpet": [
           {
            "colorbar": {
             "outlinewidth": 0,
             "ticks": ""
            },
            "type": "contourcarpet"
           }
          ],
          "heatmap": [
           {
            "colorbar": {
             "outlinewidth": 0,
             "ticks": ""
            },
            "colorscale": [
             [
              0,
              "#0d0887"
             ],
             [
              0.1111111111111111,
              "#46039f"
             ],
             [
              0.2222222222222222,
              "#7201a8"
             ],
             [
              0.3333333333333333,
              "#9c179e"
             ],
             [
              0.4444444444444444,
              "#bd3786"
             ],
             [
              0.5555555555555556,
              "#d8576b"
             ],
             [
              0.6666666666666666,
              "#ed7953"
             ],
             [
              0.7777777777777778,
              "#fb9f3a"
             ],
             [
              0.8888888888888888,
              "#fdca26"
             ],
             [
              1,
              "#f0f921"
             ]
            ],
            "type": "heatmap"
           }
          ],
          "histogram": [
           {
            "marker": {
             "pattern": {
              "fillmode": "overlay",
              "size": 10,
              "solidity": 0.2
             }
            },
            "type": "histogram"
           }
          ],
          "histogram2d": [
           {
            "colorbar": {
             "outlinewidth": 0,
             "ticks": ""
            },
            "colorscale": [
             [
              0,
              "#0d0887"
             ],
             [
              0.1111111111111111,
              "#46039f"
             ],
             [
              0.2222222222222222,
              "#7201a8"
             ],
             [
              0.3333333333333333,
              "#9c179e"
             ],
             [
              0.4444444444444444,
              "#bd3786"
             ],
             [
              0.5555555555555556,
              "#d8576b"
             ],
             [
              0.6666666666666666,
              "#ed7953"
             ],
             [
              0.7777777777777778,
              "#fb9f3a"
             ],
             [
              0.8888888888888888,
              "#fdca26"
             ],
             [
              1,
              "#f0f921"
             ]
            ],
            "type": "histogram2d"
           }
          ],
          "histogram2dcontour": [
           {
            "colorbar": {
             "outlinewidth": 0,
             "ticks": ""
            },
            "colorscale": [
             [
              0,
              "#0d0887"
             ],
             [
              0.1111111111111111,
              "#46039f"
             ],
             [
              0.2222222222222222,
              "#7201a8"
             ],
             [
              0.3333333333333333,
              "#9c179e"
             ],
             [
              0.4444444444444444,
              "#bd3786"
             ],
             [
              0.5555555555555556,
              "#d8576b"
             ],
             [
              0.6666666666666666,
              "#ed7953"
             ],
             [
              0.7777777777777778,
              "#fb9f3a"
             ],
             [
              0.8888888888888888,
              "#fdca26"
             ],
             [
              1,
              "#f0f921"
             ]
            ],
            "type": "histogram2dcontour"
           }
          ],
          "mesh3d": [
           {
            "colorbar": {
             "outlinewidth": 0,
             "ticks": ""
            },
            "type": "mesh3d"
           }
          ],
          "parcoords": [
           {
            "line": {
             "colorbar": {
              "outlinewidth": 0,
              "ticks": ""
             }
            },
            "type": "parcoords"
           }
          ],
          "pie": [
           {
            "automargin": true,
            "type": "pie"
           }
          ],
          "scatter": [
           {
            "marker": {
             "line": {
              "color": "#283442"
             }
            },
            "type": "scatter"
           }
          ],
          "scatter3d": [
           {
            "line": {
             "colorbar": {
              "outlinewidth": 0,
              "ticks": ""
             }
            },
            "marker": {
             "colorbar": {
              "outlinewidth": 0,
              "ticks": ""
             }
            },
            "type": "scatter3d"
           }
          ],
          "scattercarpet": [
           {
            "marker": {
             "colorbar": {
              "outlinewidth": 0,
              "ticks": ""
             }
            },
            "type": "scattercarpet"
           }
          ],
          "scattergeo": [
           {
            "marker": {
             "colorbar": {
              "outlinewidth": 0,
              "ticks": ""
             }
            },
            "type": "scattergeo"
           }
          ],
          "scattergl": [
           {
            "marker": {
             "line": {
              "color": "#283442"
             }
            },
            "type": "scattergl"
           }
          ],
          "scattermap": [
           {
            "marker": {
             "colorbar": {
              "outlinewidth": 0,
              "ticks": ""
             }
            },
            "type": "scattermap"
           }
          ],
          "scattermapbox": [
           {
            "marker": {
             "colorbar": {
              "outlinewidth": 0,
              "ticks": ""
             }
            },
            "type": "scattermapbox"
           }
          ],
          "scatterpolar": [
           {
            "marker": {
             "colorbar": {
              "outlinewidth": 0,
              "ticks": ""
             }
            },
            "type": "scatterpolar"
           }
          ],
          "scatterpolargl": [
           {
            "marker": {
             "colorbar": {
              "outlinewidth": 0,
              "ticks": ""
             }
            },
            "type": "scatterpolargl"
           }
          ],
          "scatterternary": [
           {
            "marker": {
             "colorbar": {
              "outlinewidth": 0,
              "ticks": ""
             }
            },
            "type": "scatterternary"
           }
          ],
          "surface": [
           {
            "colorbar": {
             "outlinewidth": 0,
             "ticks": ""
            },
            "colorscale": [
             [
              0,
              "#0d0887"
             ],
             [
              0.1111111111111111,
              "#46039f"
             ],
             [
              0.2222222222222222,
              "#7201a8"
             ],
             [
              0.3333333333333333,
              "#9c179e"
             ],
             [
              0.4444444444444444,
              "#bd3786"
             ],
             [
              0.5555555555555556,
              "#d8576b"
             ],
             [
              0.6666666666666666,
              "#ed7953"
             ],
             [
              0.7777777777777778,
              "#fb9f3a"
             ],
             [
              0.8888888888888888,
              "#fdca26"
             ],
             [
              1,
              "#f0f921"
             ]
            ],
            "type": "surface"
           }
          ],
          "table": [
           {
            "cells": {
             "fill": {
              "color": "#506784"
             },
             "line": {
              "color": "rgb(17,17,17)"
             }
            },
            "header": {
             "fill": {
              "color": "#2a3f5f"
             },
             "line": {
              "color": "rgb(17,17,17)"
             }
            },
            "type": "table"
           }
          ]
         },
         "layout": {
          "annotationdefaults": {
           "arrowcolor": "#f2f5fa",
           "arrowhead": 0,
           "arrowwidth": 1
          },
          "autotypenumbers": "strict",
          "coloraxis": {
           "colorbar": {
            "outlinewidth": 0,
            "ticks": ""
           }
          },
          "colorscale": {
           "diverging": [
            [
             0,
             "#8e0152"
            ],
            [
             0.1,
             "#c51b7d"
            ],
            [
             0.2,
             "#de77ae"
            ],
            [
             0.3,
             "#f1b6da"
            ],
            [
             0.4,
             "#fde0ef"
            ],
            [
             0.5,
             "#f7f7f7"
            ],
            [
             0.6,
             "#e6f5d0"
            ],
            [
             0.7,
             "#b8e186"
            ],
            [
             0.8,
             "#7fbc41"
            ],
            [
             0.9,
             "#4d9221"
            ],
            [
             1,
             "#276419"
            ]
           ],
           "sequential": [
            [
             0,
             "#0d0887"
            ],
            [
             0.1111111111111111,
             "#46039f"
            ],
            [
             0.2222222222222222,
             "#7201a8"
            ],
            [
             0.3333333333333333,
             "#9c179e"
            ],
            [
             0.4444444444444444,
             "#bd3786"
            ],
            [
             0.5555555555555556,
             "#d8576b"
            ],
            [
             0.6666666666666666,
             "#ed7953"
            ],
            [
             0.7777777777777778,
             "#fb9f3a"
            ],
            [
             0.8888888888888888,
             "#fdca26"
            ],
            [
             1,
             "#f0f921"
            ]
           ],
           "sequentialminus": [
            [
             0,
             "#0d0887"
            ],
            [
             0.1111111111111111,
             "#46039f"
            ],
            [
             0.2222222222222222,
             "#7201a8"
            ],
            [
             0.3333333333333333,
             "#9c179e"
            ],
            [
             0.4444444444444444,
             "#bd3786"
            ],
            [
             0.5555555555555556,
             "#d8576b"
            ],
            [
             0.6666666666666666,
             "#ed7953"
            ],
            [
             0.7777777777777778,
             "#fb9f3a"
            ],
            [
             0.8888888888888888,
             "#fdca26"
            ],
            [
             1,
             "#f0f921"
            ]
           ]
          },
          "colorway": [
           "#636efa",
           "#EF553B",
           "#00cc96",
           "#ab63fa",
           "#FFA15A",
           "#19d3f3",
           "#FF6692",
           "#B6E880",
           "#FF97FF",
           "#FECB52"
          ],
          "font": {
           "color": "#f2f5fa"
          },
          "geo": {
           "bgcolor": "rgb(17,17,17)",
           "lakecolor": "rgb(17,17,17)",
           "landcolor": "rgb(17,17,17)",
           "showlakes": true,
           "showland": true,
           "subunitcolor": "#506784"
          },
          "hoverlabel": {
           "align": "left"
          },
          "hovermode": "closest",
          "mapbox": {
           "style": "dark"
          },
          "paper_bgcolor": "rgb(17,17,17)",
          "plot_bgcolor": "rgb(17,17,17)",
          "polar": {
           "angularaxis": {
            "gridcolor": "#506784",
            "linecolor": "#506784",
            "ticks": ""
           },
           "bgcolor": "rgb(17,17,17)",
           "radialaxis": {
            "gridcolor": "#506784",
            "linecolor": "#506784",
            "ticks": ""
           }
          },
          "scene": {
           "xaxis": {
            "backgroundcolor": "rgb(17,17,17)",
            "gridcolor": "#506784",
            "gridwidth": 2,
            "linecolor": "#506784",
            "showbackground": true,
            "ticks": "",
            "zerolinecolor": "#C8D4E3"
           },
           "yaxis": {
            "backgroundcolor": "rgb(17,17,17)",
            "gridcolor": "#506784",
            "gridwidth": 2,
            "linecolor": "#506784",
            "showbackground": true,
            "ticks": "",
            "zerolinecolor": "#C8D4E3"
           },
           "zaxis": {
            "backgroundcolor": "rgb(17,17,17)",
            "gridcolor": "#506784",
            "gridwidth": 2,
            "linecolor": "#506784",
            "showbackground": true,
            "ticks": "",
            "zerolinecolor": "#C8D4E3"
           }
          },
          "shapedefaults": {
           "line": {
            "color": "#f2f5fa"
           }
          },
          "sliderdefaults": {
           "bgcolor": "#C8D4E3",
           "bordercolor": "rgb(17,17,17)",
           "borderwidth": 1,
           "tickwidth": 0
          },
          "ternary": {
           "aaxis": {
            "gridcolor": "#506784",
            "linecolor": "#506784",
            "ticks": ""
           },
           "baxis": {
            "gridcolor": "#506784",
            "linecolor": "#506784",
            "ticks": ""
           },
           "bgcolor": "rgb(17,17,17)",
           "caxis": {
            "gridcolor": "#506784",
            "linecolor": "#506784",
            "ticks": ""
           }
          },
          "title": {
           "x": 0.05
          },
          "updatemenudefaults": {
           "bgcolor": "#506784",
           "borderwidth": 0
          },
          "xaxis": {
           "automargin": true,
           "gridcolor": "#283442",
           "linecolor": "#506784",
           "ticks": "",
           "title": {
            "standoff": 15
           },
           "zerolinecolor": "#283442",
           "zerolinewidth": 2
          },
          "yaxis": {
           "automargin": true,
           "gridcolor": "#283442",
           "linecolor": "#506784",
           "ticks": "",
           "title": {
            "standoff": 15
           },
           "zerolinecolor": "#283442",
           "zerolinewidth": 2
          }
         }
        },
        "title": {
         "text": "🔎 Correlation to TOP_20 — Season 2021"
        },
        "width": 1000,
        "xaxis": {
         "anchor": "y",
         "domain": [
          0,
          1
         ],
         "tickangle": -45,
         "title": {
          "text": "Feature"
         }
        },
        "yaxis": {
         "anchor": "x",
         "domain": [
          0,
          1
         ],
         "title": {
          "text": "Absolute Correlation to TOP_20"
         }
        }
       }
      }
     },
     "metadata": {},
     "output_type": "display_data"
    },
    {
     "data": {
      "application/vnd.plotly.v1+json": {
       "config": {
        "plotlyServerURL": "https://plot.ly"
       },
       "data": [
        {
         "hovertemplate": "Feature=%{x}<br>Correlation=%{y}<extra></extra>",
         "legendgroup": "",
         "marker": {
          "color": "#636efa",
          "pattern": {
           "shape": ""
          }
         },
         "name": "",
         "orientation": "v",
         "showlegend": false,
         "textposition": "auto",
         "type": "bar",
         "x": [
          "PAR_4",
          "PAR_4_RANK",
          "SGTTG",
          "SGTTG_RANK",
          "SCRAMBLING_RANK",
          "SGATG_RANK",
          "SCRAMBLING",
          "OWGR",
          "SGATG",
          "FEDEX_CUP_POINTS",
          "form_density",
          "SGAPR_RANK",
          "BIRDIES",
          "OWGR_RANK",
          "SGAPR",
          "BIRDIES_RANK",
          "RECENT_FORM",
          "GIR",
          "VEGAS_ODDS",
          "PAR_5",
          "PAR_5_RANK",
          "GIR_RANK",
          "CUT_PERCENTAGE",
          "PAR_3_RANK",
          "adj_form",
          "SGOTT",
          "PAR_3",
          "SGP_RANK",
          "SGP",
          "SGOTT_RANK",
          "TOTAL_DRIVING_RANK",
          "TOTAL_DRIVING",
          "DRIVING_ACCURACY",
          "COURSE_HISTORY",
          "DRIVING_ACCURACY_RANK",
          "CONSECUTIVE_CUTS",
          "adj_ch",
          "DRIVING_DISTANCE_RANK",
          "DRIVING_DISTANCE"
         ],
         "xaxis": "x",
         "y": {
          "bdata": "O87Lw5e41z8uLtuK+/bWP68L2ALxldU/2FofKAEo1T86chMf2VrUP8Rt8vsYSNQ/psZfESn70z+8yPa3dLvTP9/0giW6ndM/494hGFUc0z9uAmMa89rQP+g0VtPSP9A/zti/v3Rvzz9x4zX1PyDOPzoonTK23sw/RoiIXKipzD+hwsKUGlLMP2Lcyi6D9ss//WtR/e8gyz8nvaSE40XKP33T1jITr8Y/qCDSBtMkxT8SniYNbpXEP1wQojq1XMQ/NhaublUlwz9h2hxLj6zAP3YrJqORmsA/PuXuHbJHwD+S3HJHgT7APy4rTMXsXL8//znK3gyctT8mJgFHIAqzPyfxGAN4dLE/1pPPfDsdrD/WhIsuGvuoP+I79Gn5iqU/hSxxSMqUkj+vOHjP7NGOP1OWNlEbTng/",
          "dtype": "f8"
         },
         "yaxis": "y"
        }
       ],
       "layout": {
        "barmode": "relative",
        "height": 500,
        "legend": {
         "tracegroupgap": 0
        },
        "template": {
         "data": {
          "bar": [
           {
            "error_x": {
             "color": "#f2f5fa"
            },
            "error_y": {
             "color": "#f2f5fa"
            },
            "marker": {
             "line": {
              "color": "rgb(17,17,17)",
              "width": 0.5
             },
             "pattern": {
              "fillmode": "overlay",
              "size": 10,
              "solidity": 0.2
             }
            },
            "type": "bar"
           }
          ],
          "barpolar": [
           {
            "marker": {
             "line": {
              "color": "rgb(17,17,17)",
              "width": 0.5
             },
             "pattern": {
              "fillmode": "overlay",
              "size": 10,
              "solidity": 0.2
             }
            },
            "type": "barpolar"
           }
          ],
          "carpet": [
           {
            "aaxis": {
             "endlinecolor": "#A2B1C6",
             "gridcolor": "#506784",
             "linecolor": "#506784",
             "minorgridcolor": "#506784",
             "startlinecolor": "#A2B1C6"
            },
            "baxis": {
             "endlinecolor": "#A2B1C6",
             "gridcolor": "#506784",
             "linecolor": "#506784",
             "minorgridcolor": "#506784",
             "startlinecolor": "#A2B1C6"
            },
            "type": "carpet"
           }
          ],
          "choropleth": [
           {
            "colorbar": {
             "outlinewidth": 0,
             "ticks": ""
            },
            "type": "choropleth"
           }
          ],
          "contour": [
           {
            "colorbar": {
             "outlinewidth": 0,
             "ticks": ""
            },
            "colorscale": [
             [
              0,
              "#0d0887"
             ],
             [
              0.1111111111111111,
              "#46039f"
             ],
             [
              0.2222222222222222,
              "#7201a8"
             ],
             [
              0.3333333333333333,
              "#9c179e"
             ],
             [
              0.4444444444444444,
              "#bd3786"
             ],
             [
              0.5555555555555556,
              "#d8576b"
             ],
             [
              0.6666666666666666,
              "#ed7953"
             ],
             [
              0.7777777777777778,
              "#fb9f3a"
             ],
             [
              0.8888888888888888,
              "#fdca26"
             ],
             [
              1,
              "#f0f921"
             ]
            ],
            "type": "contour"
           }
          ],
          "contourcarpet": [
           {
            "colorbar": {
             "outlinewidth": 0,
             "ticks": ""
            },
            "type": "contourcarpet"
           }
          ],
          "heatmap": [
           {
            "colorbar": {
             "outlinewidth": 0,
             "ticks": ""
            },
            "colorscale": [
             [
              0,
              "#0d0887"
             ],
             [
              0.1111111111111111,
              "#46039f"
             ],
             [
              0.2222222222222222,
              "#7201a8"
             ],
             [
              0.3333333333333333,
              "#9c179e"
             ],
             [
              0.4444444444444444,
              "#bd3786"
             ],
             [
              0.5555555555555556,
              "#d8576b"
             ],
             [
              0.6666666666666666,
              "#ed7953"
             ],
             [
              0.7777777777777778,
              "#fb9f3a"
             ],
             [
              0.8888888888888888,
              "#fdca26"
             ],
             [
              1,
              "#f0f921"
             ]
            ],
            "type": "heatmap"
           }
          ],
          "histogram": [
           {
            "marker": {
             "pattern": {
              "fillmode": "overlay",
              "size": 10,
              "solidity": 0.2
             }
            },
            "type": "histogram"
           }
          ],
          "histogram2d": [
           {
            "colorbar": {
             "outlinewidth": 0,
             "ticks": ""
            },
            "colorscale": [
             [
              0,
              "#0d0887"
             ],
             [
              0.1111111111111111,
              "#46039f"
             ],
             [
              0.2222222222222222,
              "#7201a8"
             ],
             [
              0.3333333333333333,
              "#9c179e"
             ],
             [
              0.4444444444444444,
              "#bd3786"
             ],
             [
              0.5555555555555556,
              "#d8576b"
             ],
             [
              0.6666666666666666,
              "#ed7953"
             ],
             [
              0.7777777777777778,
              "#fb9f3a"
             ],
             [
              0.8888888888888888,
              "#fdca26"
             ],
             [
              1,
              "#f0f921"
             ]
            ],
            "type": "histogram2d"
           }
          ],
          "histogram2dcontour": [
           {
            "colorbar": {
             "outlinewidth": 0,
             "ticks": ""
            },
            "colorscale": [
             [
              0,
              "#0d0887"
             ],
             [
              0.1111111111111111,
              "#46039f"
             ],
             [
              0.2222222222222222,
              "#7201a8"
             ],
             [
              0.3333333333333333,
              "#9c179e"
             ],
             [
              0.4444444444444444,
              "#bd3786"
             ],
             [
              0.5555555555555556,
              "#d8576b"
             ],
             [
              0.6666666666666666,
              "#ed7953"
             ],
             [
              0.7777777777777778,
              "#fb9f3a"
             ],
             [
              0.8888888888888888,
              "#fdca26"
             ],
             [
              1,
              "#f0f921"
             ]
            ],
            "type": "histogram2dcontour"
           }
          ],
          "mesh3d": [
           {
            "colorbar": {
             "outlinewidth": 0,
             "ticks": ""
            },
            "type": "mesh3d"
           }
          ],
          "parcoords": [
           {
            "line": {
             "colorbar": {
              "outlinewidth": 0,
              "ticks": ""
             }
            },
            "type": "parcoords"
           }
          ],
          "pie": [
           {
            "automargin": true,
            "type": "pie"
           }
          ],
          "scatter": [
           {
            "marker": {
             "line": {
              "color": "#283442"
             }
            },
            "type": "scatter"
           }
          ],
          "scatter3d": [
           {
            "line": {
             "colorbar": {
              "outlinewidth": 0,
              "ticks": ""
             }
            },
            "marker": {
             "colorbar": {
              "outlinewidth": 0,
              "ticks": ""
             }
            },
            "type": "scatter3d"
           }
          ],
          "scattercarpet": [
           {
            "marker": {
             "colorbar": {
              "outlinewidth": 0,
              "ticks": ""
             }
            },
            "type": "scattercarpet"
           }
          ],
          "scattergeo": [
           {
            "marker": {
             "colorbar": {
              "outlinewidth": 0,
              "ticks": ""
             }
            },
            "type": "scattergeo"
           }
          ],
          "scattergl": [
           {
            "marker": {
             "line": {
              "color": "#283442"
             }
            },
            "type": "scattergl"
           }
          ],
          "scattermap": [
           {
            "marker": {
             "colorbar": {
              "outlinewidth": 0,
              "ticks": ""
             }
            },
            "type": "scattermap"
           }
          ],
          "scattermapbox": [
           {
            "marker": {
             "colorbar": {
              "outlinewidth": 0,
              "ticks": ""
             }
            },
            "type": "scattermapbox"
           }
          ],
          "scatterpolar": [
           {
            "marker": {
             "colorbar": {
              "outlinewidth": 0,
              "ticks": ""
             }
            },
            "type": "scatterpolar"
           }
          ],
          "scatterpolargl": [
           {
            "marker": {
             "colorbar": {
              "outlinewidth": 0,
              "ticks": ""
             }
            },
            "type": "scatterpolargl"
           }
          ],
          "scatterternary": [
           {
            "marker": {
             "colorbar": {
              "outlinewidth": 0,
              "ticks": ""
             }
            },
            "type": "scatterternary"
           }
          ],
          "surface": [
           {
            "colorbar": {
             "outlinewidth": 0,
             "ticks": ""
            },
            "colorscale": [
             [
              0,
              "#0d0887"
             ],
             [
              0.1111111111111111,
              "#46039f"
             ],
             [
              0.2222222222222222,
              "#7201a8"
             ],
             [
              0.3333333333333333,
              "#9c179e"
             ],
             [
              0.4444444444444444,
              "#bd3786"
             ],
             [
              0.5555555555555556,
              "#d8576b"
             ],
             [
              0.6666666666666666,
              "#ed7953"
             ],
             [
              0.7777777777777778,
              "#fb9f3a"
             ],
             [
              0.8888888888888888,
              "#fdca26"
             ],
             [
              1,
              "#f0f921"
             ]
            ],
            "type": "surface"
           }
          ],
          "table": [
           {
            "cells": {
             "fill": {
              "color": "#506784"
             },
             "line": {
              "color": "rgb(17,17,17)"
             }
            },
            "header": {
             "fill": {
              "color": "#2a3f5f"
             },
             "line": {
              "color": "rgb(17,17,17)"
             }
            },
            "type": "table"
           }
          ]
         },
         "layout": {
          "annotationdefaults": {
           "arrowcolor": "#f2f5fa",
           "arrowhead": 0,
           "arrowwidth": 1
          },
          "autotypenumbers": "strict",
          "coloraxis": {
           "colorbar": {
            "outlinewidth": 0,
            "ticks": ""
           }
          },
          "colorscale": {
           "diverging": [
            [
             0,
             "#8e0152"
            ],
            [
             0.1,
             "#c51b7d"
            ],
            [
             0.2,
             "#de77ae"
            ],
            [
             0.3,
             "#f1b6da"
            ],
            [
             0.4,
             "#fde0ef"
            ],
            [
             0.5,
             "#f7f7f7"
            ],
            [
             0.6,
             "#e6f5d0"
            ],
            [
             0.7,
             "#b8e186"
            ],
            [
             0.8,
             "#7fbc41"
            ],
            [
             0.9,
             "#4d9221"
            ],
            [
             1,
             "#276419"
            ]
           ],
           "sequential": [
            [
             0,
             "#0d0887"
            ],
            [
             0.1111111111111111,
             "#46039f"
            ],
            [
             0.2222222222222222,
             "#7201a8"
            ],
            [
             0.3333333333333333,
             "#9c179e"
            ],
            [
             0.4444444444444444,
             "#bd3786"
            ],
            [
             0.5555555555555556,
             "#d8576b"
            ],
            [
             0.6666666666666666,
             "#ed7953"
            ],
            [
             0.7777777777777778,
             "#fb9f3a"
            ],
            [
             0.8888888888888888,
             "#fdca26"
            ],
            [
             1,
             "#f0f921"
            ]
           ],
           "sequentialminus": [
            [
             0,
             "#0d0887"
            ],
            [
             0.1111111111111111,
             "#46039f"
            ],
            [
             0.2222222222222222,
             "#7201a8"
            ],
            [
             0.3333333333333333,
             "#9c179e"
            ],
            [
             0.4444444444444444,
             "#bd3786"
            ],
            [
             0.5555555555555556,
             "#d8576b"
            ],
            [
             0.6666666666666666,
             "#ed7953"
            ],
            [
             0.7777777777777778,
             "#fb9f3a"
            ],
            [
             0.8888888888888888,
             "#fdca26"
            ],
            [
             1,
             "#f0f921"
            ]
           ]
          },
          "colorway": [
           "#636efa",
           "#EF553B",
           "#00cc96",
           "#ab63fa",
           "#FFA15A",
           "#19d3f3",
           "#FF6692",
           "#B6E880",
           "#FF97FF",
           "#FECB52"
          ],
          "font": {
           "color": "#f2f5fa"
          },
          "geo": {
           "bgcolor": "rgb(17,17,17)",
           "lakecolor": "rgb(17,17,17)",
           "landcolor": "rgb(17,17,17)",
           "showlakes": true,
           "showland": true,
           "subunitcolor": "#506784"
          },
          "hoverlabel": {
           "align": "left"
          },
          "hovermode": "closest",
          "mapbox": {
           "style": "dark"
          },
          "paper_bgcolor": "rgb(17,17,17)",
          "plot_bgcolor": "rgb(17,17,17)",
          "polar": {
           "angularaxis": {
            "gridcolor": "#506784",
            "linecolor": "#506784",
            "ticks": ""
           },
           "bgcolor": "rgb(17,17,17)",
           "radialaxis": {
            "gridcolor": "#506784",
            "linecolor": "#506784",
            "ticks": ""
           }
          },
          "scene": {
           "xaxis": {
            "backgroundcolor": "rgb(17,17,17)",
            "gridcolor": "#506784",
            "gridwidth": 2,
            "linecolor": "#506784",
            "showbackground": true,
            "ticks": "",
            "zerolinecolor": "#C8D4E3"
           },
           "yaxis": {
            "backgroundcolor": "rgb(17,17,17)",
            "gridcolor": "#506784",
            "gridwidth": 2,
            "linecolor": "#506784",
            "showbackground": true,
            "ticks": "",
            "zerolinecolor": "#C8D4E3"
           },
           "zaxis": {
            "backgroundcolor": "rgb(17,17,17)",
            "gridcolor": "#506784",
            "gridwidth": 2,
            "linecolor": "#506784",
            "showbackground": true,
            "ticks": "",
            "zerolinecolor": "#C8D4E3"
           }
          },
          "shapedefaults": {
           "line": {
            "color": "#f2f5fa"
           }
          },
          "sliderdefaults": {
           "bgcolor": "#C8D4E3",
           "bordercolor": "rgb(17,17,17)",
           "borderwidth": 1,
           "tickwidth": 0
          },
          "ternary": {
           "aaxis": {
            "gridcolor": "#506784",
            "linecolor": "#506784",
            "ticks": ""
           },
           "baxis": {
            "gridcolor": "#506784",
            "linecolor": "#506784",
            "ticks": ""
           },
           "bgcolor": "rgb(17,17,17)",
           "caxis": {
            "gridcolor": "#506784",
            "linecolor": "#506784",
            "ticks": ""
           }
          },
          "title": {
           "x": 0.05
          },
          "updatemenudefaults": {
           "bgcolor": "#506784",
           "borderwidth": 0
          },
          "xaxis": {
           "automargin": true,
           "gridcolor": "#283442",
           "linecolor": "#506784",
           "ticks": "",
           "title": {
            "standoff": 15
           },
           "zerolinecolor": "#283442",
           "zerolinewidth": 2
          },
          "yaxis": {
           "automargin": true,
           "gridcolor": "#283442",
           "linecolor": "#506784",
           "ticks": "",
           "title": {
            "standoff": 15
           },
           "zerolinecolor": "#283442",
           "zerolinewidth": 2
          }
         }
        },
        "title": {
         "text": "🔎 Correlation to TOP_20 — Season 2022"
        },
        "width": 1000,
        "xaxis": {
         "anchor": "y",
         "domain": [
          0,
          1
         ],
         "tickangle": -45,
         "title": {
          "text": "Feature"
         }
        },
        "yaxis": {
         "anchor": "x",
         "domain": [
          0,
          1
         ],
         "title": {
          "text": "Absolute Correlation to TOP_20"
         }
        }
       }
      }
     },
     "metadata": {},
     "output_type": "display_data"
    },
    {
     "data": {
      "application/vnd.plotly.v1+json": {
       "config": {
        "plotlyServerURL": "https://plot.ly"
       },
       "data": [
        {
         "hovertemplate": "Feature=%{x}<br>Correlation=%{y}<extra></extra>",
         "legendgroup": "",
         "marker": {
          "color": "#636efa",
          "pattern": {
           "shape": ""
          }
         },
         "name": "",
         "orientation": "v",
         "showlegend": false,
         "textposition": "auto",
         "type": "bar",
         "x": [
          "OWGR",
          "form_density",
          "FEDEX_CUP_POINTS",
          "PAR_3",
          "PAR_3_RANK",
          "SGTTG",
          "adj_form",
          "OWGR_RANK",
          "SGAPR",
          "RECENT_FORM",
          "SGAPR_RANK",
          "CUT_PERCENTAGE",
          "SGTTG_RANK",
          "DRIVING_ACCURACY_RANK",
          "DRIVING_ACCURACY",
          "TOTAL_DRIVING",
          "TOTAL_DRIVING_RANK",
          "PAR_4",
          "BIRDIES",
          "COURSE_HISTORY",
          "CONSECUTIVE_CUTS",
          "VEGAS_ODDS",
          "SGP",
          "SGP_RANK",
          "SGOTT",
          "GIR",
          "SCRAMBLING",
          "SCRAMBLING_RANK",
          "adj_ch",
          "SGATG_RANK",
          "BIRDIES_RANK",
          "SGATG",
          "SGOTT_RANK",
          "PAR_4_RANK",
          "PAR_5",
          "GIR_RANK",
          "PAR_5_RANK",
          "DRIVING_DISTANCE_RANK",
          "DRIVING_DISTANCE"
         ],
         "xaxis": "x",
         "y": {
          "bdata": "Hcc47YUd2D9u2Uqtr3fSP7W/7elVU9E/eemtVcEk0T9zJZcMwZDQP/UOurne8s4/fJhfOHLazj8Ff0i1P1fOP7tBp41bzs0/nfwuJDJCzD++NXkvS8bKPz9snZjrB8o/0thQM9dgyT/22j08gu3IP7C1Uyu5Ssg/ssw0WHwFyD9IGxaUXnfGPwFr4aQBvsU/CJW9pVIqxT/0KftFaSLFP/kXXwT+oMQ/k1eKo8IaxD9rztMXwbbCP+E8fM9QgMI/mkVDuJ5Jvz8GYDKSWhu/PxE5C3D3Q74/2a8b5TbevT8s9+Ripou8P/paMAgZLLw/pg76hqHouz+WZ0RWhEe6P7aKqBWqBbg/GgWOToPktj/ZqUeCzqi2P7RIVbHGa7I/nlvtFzjgsD88B31H6X+bP9j34MrX8iQ/",
          "dtype": "f8"
         },
         "yaxis": "y"
        }
       ],
       "layout": {
        "barmode": "relative",
        "height": 500,
        "legend": {
         "tracegroupgap": 0
        },
        "template": {
         "data": {
          "bar": [
           {
            "error_x": {
             "color": "#f2f5fa"
            },
            "error_y": {
             "color": "#f2f5fa"
            },
            "marker": {
             "line": {
              "color": "rgb(17,17,17)",
              "width": 0.5
             },
             "pattern": {
              "fillmode": "overlay",
              "size": 10,
              "solidity": 0.2
             }
            },
            "type": "bar"
           }
          ],
          "barpolar": [
           {
            "marker": {
             "line": {
              "color": "rgb(17,17,17)",
              "width": 0.5
             },
             "pattern": {
              "fillmode": "overlay",
              "size": 10,
              "solidity": 0.2
             }
            },
            "type": "barpolar"
           }
          ],
          "carpet": [
           {
            "aaxis": {
             "endlinecolor": "#A2B1C6",
             "gridcolor": "#506784",
             "linecolor": "#506784",
             "minorgridcolor": "#506784",
             "startlinecolor": "#A2B1C6"
            },
            "baxis": {
             "endlinecolor": "#A2B1C6",
             "gridcolor": "#506784",
             "linecolor": "#506784",
             "minorgridcolor": "#506784",
             "startlinecolor": "#A2B1C6"
            },
            "type": "carpet"
           }
          ],
          "choropleth": [
           {
            "colorbar": {
             "outlinewidth": 0,
             "ticks": ""
            },
            "type": "choropleth"
           }
          ],
          "contour": [
           {
            "colorbar": {
             "outlinewidth": 0,
             "ticks": ""
            },
            "colorscale": [
             [
              0,
              "#0d0887"
             ],
             [
              0.1111111111111111,
              "#46039f"
             ],
             [
              0.2222222222222222,
              "#7201a8"
             ],
             [
              0.3333333333333333,
              "#9c179e"
             ],
             [
              0.4444444444444444,
              "#bd3786"
             ],
             [
              0.5555555555555556,
              "#d8576b"
             ],
             [
              0.6666666666666666,
              "#ed7953"
             ],
             [
              0.7777777777777778,
              "#fb9f3a"
             ],
             [
              0.8888888888888888,
              "#fdca26"
             ],
             [
              1,
              "#f0f921"
             ]
            ],
            "type": "contour"
           }
          ],
          "contourcarpet": [
           {
            "colorbar": {
             "outlinewidth": 0,
             "ticks": ""
            },
            "type": "contourcarpet"
           }
          ],
          "heatmap": [
           {
            "colorbar": {
             "outlinewidth": 0,
             "ticks": ""
            },
            "colorscale": [
             [
              0,
              "#0d0887"
             ],
             [
              0.1111111111111111,
              "#46039f"
             ],
             [
              0.2222222222222222,
              "#7201a8"
             ],
             [
              0.3333333333333333,
              "#9c179e"
             ],
             [
              0.4444444444444444,
              "#bd3786"
             ],
             [
              0.5555555555555556,
              "#d8576b"
             ],
             [
              0.6666666666666666,
              "#ed7953"
             ],
             [
              0.7777777777777778,
              "#fb9f3a"
             ],
             [
              0.8888888888888888,
              "#fdca26"
             ],
             [
              1,
              "#f0f921"
             ]
            ],
            "type": "heatmap"
           }
          ],
          "histogram": [
           {
            "marker": {
             "pattern": {
              "fillmode": "overlay",
              "size": 10,
              "solidity": 0.2
             }
            },
            "type": "histogram"
           }
          ],
          "histogram2d": [
           {
            "colorbar": {
             "outlinewidth": 0,
             "ticks": ""
            },
            "colorscale": [
             [
              0,
              "#0d0887"
             ],
             [
              0.1111111111111111,
              "#46039f"
             ],
             [
              0.2222222222222222,
              "#7201a8"
             ],
             [
              0.3333333333333333,
              "#9c179e"
             ],
             [
              0.4444444444444444,
              "#bd3786"
             ],
             [
              0.5555555555555556,
              "#d8576b"
             ],
             [
              0.6666666666666666,
              "#ed7953"
             ],
             [
              0.7777777777777778,
              "#fb9f3a"
             ],
             [
              0.8888888888888888,
              "#fdca26"
             ],
             [
              1,
              "#f0f921"
             ]
            ],
            "type": "histogram2d"
           }
          ],
          "histogram2dcontour": [
           {
            "colorbar": {
             "outlinewidth": 0,
             "ticks": ""
            },
            "colorscale": [
             [
              0,
              "#0d0887"
             ],
             [
              0.1111111111111111,
              "#46039f"
             ],
             [
              0.2222222222222222,
              "#7201a8"
             ],
             [
              0.3333333333333333,
              "#9c179e"
             ],
             [
              0.4444444444444444,
              "#bd3786"
             ],
             [
              0.5555555555555556,
              "#d8576b"
             ],
             [
              0.6666666666666666,
              "#ed7953"
             ],
             [
              0.7777777777777778,
              "#fb9f3a"
             ],
             [
              0.8888888888888888,
              "#fdca26"
             ],
             [
              1,
              "#f0f921"
             ]
            ],
            "type": "histogram2dcontour"
           }
          ],
          "mesh3d": [
           {
            "colorbar": {
             "outlinewidth": 0,
             "ticks": ""
            },
            "type": "mesh3d"
           }
          ],
          "parcoords": [
           {
            "line": {
             "colorbar": {
              "outlinewidth": 0,
              "ticks": ""
             }
            },
            "type": "parcoords"
           }
          ],
          "pie": [
           {
            "automargin": true,
            "type": "pie"
           }
          ],
          "scatter": [
           {
            "marker": {
             "line": {
              "color": "#283442"
             }
            },
            "type": "scatter"
           }
          ],
          "scatter3d": [
           {
            "line": {
             "colorbar": {
              "outlinewidth": 0,
              "ticks": ""
             }
            },
            "marker": {
             "colorbar": {
              "outlinewidth": 0,
              "ticks": ""
             }
            },
            "type": "scatter3d"
           }
          ],
          "scattercarpet": [
           {
            "marker": {
             "colorbar": {
              "outlinewidth": 0,
              "ticks": ""
             }
            },
            "type": "scattercarpet"
           }
          ],
          "scattergeo": [
           {
            "marker": {
             "colorbar": {
              "outlinewidth": 0,
              "ticks": ""
             }
            },
            "type": "scattergeo"
           }
          ],
          "scattergl": [
           {
            "marker": {
             "line": {
              "color": "#283442"
             }
            },
            "type": "scattergl"
           }
          ],
          "scattermap": [
           {
            "marker": {
             "colorbar": {
              "outlinewidth": 0,
              "ticks": ""
             }
            },
            "type": "scattermap"
           }
          ],
          "scattermapbox": [
           {
            "marker": {
             "colorbar": {
              "outlinewidth": 0,
              "ticks": ""
             }
            },
            "type": "scattermapbox"
           }
          ],
          "scatterpolar": [
           {
            "marker": {
             "colorbar": {
              "outlinewidth": 0,
              "ticks": ""
             }
            },
            "type": "scatterpolar"
           }
          ],
          "scatterpolargl": [
           {
            "marker": {
             "colorbar": {
              "outlinewidth": 0,
              "ticks": ""
             }
            },
            "type": "scatterpolargl"
           }
          ],
          "scatterternary": [
           {
            "marker": {
             "colorbar": {
              "outlinewidth": 0,
              "ticks": ""
             }
            },
            "type": "scatterternary"
           }
          ],
          "surface": [
           {
            "colorbar": {
             "outlinewidth": 0,
             "ticks": ""
            },
            "colorscale": [
             [
              0,
              "#0d0887"
             ],
             [
              0.1111111111111111,
              "#46039f"
             ],
             [
              0.2222222222222222,
              "#7201a8"
             ],
             [
              0.3333333333333333,
              "#9c179e"
             ],
             [
              0.4444444444444444,
              "#bd3786"
             ],
             [
              0.5555555555555556,
              "#d8576b"
             ],
             [
              0.6666666666666666,
              "#ed7953"
             ],
             [
              0.7777777777777778,
              "#fb9f3a"
             ],
             [
              0.8888888888888888,
              "#fdca26"
             ],
             [
              1,
              "#f0f921"
             ]
            ],
            "type": "surface"
           }
          ],
          "table": [
           {
            "cells": {
             "fill": {
              "color": "#506784"
             },
             "line": {
              "color": "rgb(17,17,17)"
             }
            },
            "header": {
             "fill": {
              "color": "#2a3f5f"
             },
             "line": {
              "color": "rgb(17,17,17)"
             }
            },
            "type": "table"
           }
          ]
         },
         "layout": {
          "annotationdefaults": {
           "arrowcolor": "#f2f5fa",
           "arrowhead": 0,
           "arrowwidth": 1
          },
          "autotypenumbers": "strict",
          "coloraxis": {
           "colorbar": {
            "outlinewidth": 0,
            "ticks": ""
           }
          },
          "colorscale": {
           "diverging": [
            [
             0,
             "#8e0152"
            ],
            [
             0.1,
             "#c51b7d"
            ],
            [
             0.2,
             "#de77ae"
            ],
            [
             0.3,
             "#f1b6da"
            ],
            [
             0.4,
             "#fde0ef"
            ],
            [
             0.5,
             "#f7f7f7"
            ],
            [
             0.6,
             "#e6f5d0"
            ],
            [
             0.7,
             "#b8e186"
            ],
            [
             0.8,
             "#7fbc41"
            ],
            [
             0.9,
             "#4d9221"
            ],
            [
             1,
             "#276419"
            ]
           ],
           "sequential": [
            [
             0,
             "#0d0887"
            ],
            [
             0.1111111111111111,
             "#46039f"
            ],
            [
             0.2222222222222222,
             "#7201a8"
            ],
            [
             0.3333333333333333,
             "#9c179e"
            ],
            [
             0.4444444444444444,
             "#bd3786"
            ],
            [
             0.5555555555555556,
             "#d8576b"
            ],
            [
             0.6666666666666666,
             "#ed7953"
            ],
            [
             0.7777777777777778,
             "#fb9f3a"
            ],
            [
             0.8888888888888888,
             "#fdca26"
            ],
            [
             1,
             "#f0f921"
            ]
           ],
           "sequentialminus": [
            [
             0,
             "#0d0887"
            ],
            [
             0.1111111111111111,
             "#46039f"
            ],
            [
             0.2222222222222222,
             "#7201a8"
            ],
            [
             0.3333333333333333,
             "#9c179e"
            ],
            [
             0.4444444444444444,
             "#bd3786"
            ],
            [
             0.5555555555555556,
             "#d8576b"
            ],
            [
             0.6666666666666666,
             "#ed7953"
            ],
            [
             0.7777777777777778,
             "#fb9f3a"
            ],
            [
             0.8888888888888888,
             "#fdca26"
            ],
            [
             1,
             "#f0f921"
            ]
           ]
          },
          "colorway": [
           "#636efa",
           "#EF553B",
           "#00cc96",
           "#ab63fa",
           "#FFA15A",
           "#19d3f3",
           "#FF6692",
           "#B6E880",
           "#FF97FF",
           "#FECB52"
          ],
          "font": {
           "color": "#f2f5fa"
          },
          "geo": {
           "bgcolor": "rgb(17,17,17)",
           "lakecolor": "rgb(17,17,17)",
           "landcolor": "rgb(17,17,17)",
           "showlakes": true,
           "showland": true,
           "subunitcolor": "#506784"
          },
          "hoverlabel": {
           "align": "left"
          },
          "hovermode": "closest",
          "mapbox": {
           "style": "dark"
          },
          "paper_bgcolor": "rgb(17,17,17)",
          "plot_bgcolor": "rgb(17,17,17)",
          "polar": {
           "angularaxis": {
            "gridcolor": "#506784",
            "linecolor": "#506784",
            "ticks": ""
           },
           "bgcolor": "rgb(17,17,17)",
           "radialaxis": {
            "gridcolor": "#506784",
            "linecolor": "#506784",
            "ticks": ""
           }
          },
          "scene": {
           "xaxis": {
            "backgroundcolor": "rgb(17,17,17)",
            "gridcolor": "#506784",
            "gridwidth": 2,
            "linecolor": "#506784",
            "showbackground": true,
            "ticks": "",
            "zerolinecolor": "#C8D4E3"
           },
           "yaxis": {
            "backgroundcolor": "rgb(17,17,17)",
            "gridcolor": "#506784",
            "gridwidth": 2,
            "linecolor": "#506784",
            "showbackground": true,
            "ticks": "",
            "zerolinecolor": "#C8D4E3"
           },
           "zaxis": {
            "backgroundcolor": "rgb(17,17,17)",
            "gridcolor": "#506784",
            "gridwidth": 2,
            "linecolor": "#506784",
            "showbackground": true,
            "ticks": "",
            "zerolinecolor": "#C8D4E3"
           }
          },
          "shapedefaults": {
           "line": {
            "color": "#f2f5fa"
           }
          },
          "sliderdefaults": {
           "bgcolor": "#C8D4E3",
           "bordercolor": "rgb(17,17,17)",
           "borderwidth": 1,
           "tickwidth": 0
          },
          "ternary": {
           "aaxis": {
            "gridcolor": "#506784",
            "linecolor": "#506784",
            "ticks": ""
           },
           "baxis": {
            "gridcolor": "#506784",
            "linecolor": "#506784",
            "ticks": ""
           },
           "bgcolor": "rgb(17,17,17)",
           "caxis": {
            "gridcolor": "#506784",
            "linecolor": "#506784",
            "ticks": ""
           }
          },
          "title": {
           "x": 0.05
          },
          "updatemenudefaults": {
           "bgcolor": "#506784",
           "borderwidth": 0
          },
          "xaxis": {
           "automargin": true,
           "gridcolor": "#283442",
           "linecolor": "#506784",
           "ticks": "",
           "title": {
            "standoff": 15
           },
           "zerolinecolor": "#283442",
           "zerolinewidth": 2
          },
          "yaxis": {
           "automargin": true,
           "gridcolor": "#283442",
           "linecolor": "#506784",
           "ticks": "",
           "title": {
            "standoff": 15
           },
           "zerolinecolor": "#283442",
           "zerolinewidth": 2
          }
         }
        },
        "title": {
         "text": "🔎 Correlation to TOP_20 — Season 2023"
        },
        "width": 1000,
        "xaxis": {
         "anchor": "y",
         "domain": [
          0,
          1
         ],
         "tickangle": -45,
         "title": {
          "text": "Feature"
         }
        },
        "yaxis": {
         "anchor": "x",
         "domain": [
          0,
          1
         ],
         "title": {
          "text": "Absolute Correlation to TOP_20"
         }
        }
       }
      }
     },
     "metadata": {},
     "output_type": "display_data"
    },
    {
     "data": {
      "application/vnd.plotly.v1+json": {
       "config": {
        "plotlyServerURL": "https://plot.ly"
       },
       "data": [
        {
         "hovertemplate": "Feature=%{x}<br>Correlation=%{y}<extra></extra>",
         "legendgroup": "",
         "marker": {
          "color": "#636efa",
          "pattern": {
           "shape": ""
          }
         },
         "name": "",
         "orientation": "v",
         "showlegend": false,
         "textposition": "auto",
         "type": "bar",
         "x": [
          "OWGR",
          "form_density",
          "FEDEX_CUP_POINTS",
          "PAR_4",
          "RECENT_FORM",
          "BIRDIES",
          "BIRDIES_RANK",
          "PAR_4_RANK",
          "SGTTG",
          "adj_form",
          "SGTTG_RANK",
          "CONSECUTIVE_CUTS",
          "OWGR_RANK",
          "SGATG_RANK",
          "CUT_PERCENTAGE",
          "SGATG",
          "SGAPR",
          "SGAPR_RANK",
          "GIR_RANK",
          "SGOTT",
          "VEGAS_ODDS",
          "DRIVING_ACCURACY",
          "DRIVING_ACCURACY_RANK",
          "SGOTT_RANK",
          "SCRAMBLING",
          "adj_ch",
          "COURSE_HISTORY",
          "SGP",
          "SGP_RANK",
          "GIR",
          "SCRAMBLING_RANK",
          "PAR_5",
          "TOTAL_DRIVING_RANK",
          "DRIVING_DISTANCE_RANK",
          "TOTAL_DRIVING",
          "PAR_5_RANK",
          "DRIVING_DISTANCE",
          "PAR_3",
          "PAR_3_RANK"
         ],
         "xaxis": "x",
         "y": {
          "bdata": "vqASBydo1j9rhScB02bSPxMTrDc0ldE/fj9MqjSEzj/cx8RUMHTNP7b3eqpOssw/1hRFqW8byz9ZPmQCDr/KP4CKHOdYCso/gYk6TmIxyT/EyH2LUmHGP8bvBBJQTMY/m0erQV6oxT/jvckp7lvFPzl9mcQeVcU/pn7TQvevxD9bO1bL04TDPz0/RC9w9Lw/QBvZnKUIuz/Wlb5EY5K6P2/Yz8Fnirk/2AeqZYMOuT8bTjDwJEW4PyEv95ItIbY/VdZbHKHTtT/OKmi3VI21P91beA2t47Q/1WYta1VNtD/7Kps3wJiyP6JbYxTjW7I/yks22j15sT8CxV6hsZGwPyHBnqwMa68/PV7SVgHyrT8mJ1U/O0GoP26TQWaqmKA/VfMH53dDjT+l1oTJaqOLP08c0x7XcIA/",
          "dtype": "f8"
         },
         "yaxis": "y"
        }
       ],
       "layout": {
        "barmode": "relative",
        "height": 500,
        "legend": {
         "tracegroupgap": 0
        },
        "template": {
         "data": {
          "bar": [
           {
            "error_x": {
             "color": "#f2f5fa"
            },
            "error_y": {
             "color": "#f2f5fa"
            },
            "marker": {
             "line": {
              "color": "rgb(17,17,17)",
              "width": 0.5
             },
             "pattern": {
              "fillmode": "overlay",
              "size": 10,
              "solidity": 0.2
             }
            },
            "type": "bar"
           }
          ],
          "barpolar": [
           {
            "marker": {
             "line": {
              "color": "rgb(17,17,17)",
              "width": 0.5
             },
             "pattern": {
              "fillmode": "overlay",
              "size": 10,
              "solidity": 0.2
             }
            },
            "type": "barpolar"
           }
          ],
          "carpet": [
           {
            "aaxis": {
             "endlinecolor": "#A2B1C6",
             "gridcolor": "#506784",
             "linecolor": "#506784",
             "minorgridcolor": "#506784",
             "startlinecolor": "#A2B1C6"
            },
            "baxis": {
             "endlinecolor": "#A2B1C6",
             "gridcolor": "#506784",
             "linecolor": "#506784",
             "minorgridcolor": "#506784",
             "startlinecolor": "#A2B1C6"
            },
            "type": "carpet"
           }
          ],
          "choropleth": [
           {
            "colorbar": {
             "outlinewidth": 0,
             "ticks": ""
            },
            "type": "choropleth"
           }
          ],
          "contour": [
           {
            "colorbar": {
             "outlinewidth": 0,
             "ticks": ""
            },
            "colorscale": [
             [
              0,
              "#0d0887"
             ],
             [
              0.1111111111111111,
              "#46039f"
             ],
             [
              0.2222222222222222,
              "#7201a8"
             ],
             [
              0.3333333333333333,
              "#9c179e"
             ],
             [
              0.4444444444444444,
              "#bd3786"
             ],
             [
              0.5555555555555556,
              "#d8576b"
             ],
             [
              0.6666666666666666,
              "#ed7953"
             ],
             [
              0.7777777777777778,
              "#fb9f3a"
             ],
             [
              0.8888888888888888,
              "#fdca26"
             ],
             [
              1,
              "#f0f921"
             ]
            ],
            "type": "contour"
           }
          ],
          "contourcarpet": [
           {
            "colorbar": {
             "outlinewidth": 0,
             "ticks": ""
            },
            "type": "contourcarpet"
           }
          ],
          "heatmap": [
           {
            "colorbar": {
             "outlinewidth": 0,
             "ticks": ""
            },
            "colorscale": [
             [
              0,
              "#0d0887"
             ],
             [
              0.1111111111111111,
              "#46039f"
             ],
             [
              0.2222222222222222,
              "#7201a8"
             ],
             [
              0.3333333333333333,
              "#9c179e"
             ],
             [
              0.4444444444444444,
              "#bd3786"
             ],
             [
              0.5555555555555556,
              "#d8576b"
             ],
             [
              0.6666666666666666,
              "#ed7953"
             ],
             [
              0.7777777777777778,
              "#fb9f3a"
             ],
             [
              0.8888888888888888,
              "#fdca26"
             ],
             [
              1,
              "#f0f921"
             ]
            ],
            "type": "heatmap"
           }
          ],
          "histogram": [
           {
            "marker": {
             "pattern": {
              "fillmode": "overlay",
              "size": 10,
              "solidity": 0.2
             }
            },
            "type": "histogram"
           }
          ],
          "histogram2d": [
           {
            "colorbar": {
             "outlinewidth": 0,
             "ticks": ""
            },
            "colorscale": [
             [
              0,
              "#0d0887"
             ],
             [
              0.1111111111111111,
              "#46039f"
             ],
             [
              0.2222222222222222,
              "#7201a8"
             ],
             [
              0.3333333333333333,
              "#9c179e"
             ],
             [
              0.4444444444444444,
              "#bd3786"
             ],
             [
              0.5555555555555556,
              "#d8576b"
             ],
             [
              0.6666666666666666,
              "#ed7953"
             ],
             [
              0.7777777777777778,
              "#fb9f3a"
             ],
             [
              0.8888888888888888,
              "#fdca26"
             ],
             [
              1,
              "#f0f921"
             ]
            ],
            "type": "histogram2d"
           }
          ],
          "histogram2dcontour": [
           {
            "colorbar": {
             "outlinewidth": 0,
             "ticks": ""
            },
            "colorscale": [
             [
              0,
              "#0d0887"
             ],
             [
              0.1111111111111111,
              "#46039f"
             ],
             [
              0.2222222222222222,
              "#7201a8"
             ],
             [
              0.3333333333333333,
              "#9c179e"
             ],
             [
              0.4444444444444444,
              "#bd3786"
             ],
             [
              0.5555555555555556,
              "#d8576b"
             ],
             [
              0.6666666666666666,
              "#ed7953"
             ],
             [
              0.7777777777777778,
              "#fb9f3a"
             ],
             [
              0.8888888888888888,
              "#fdca26"
             ],
             [
              1,
              "#f0f921"
             ]
            ],
            "type": "histogram2dcontour"
           }
          ],
          "mesh3d": [
           {
            "colorbar": {
             "outlinewidth": 0,
             "ticks": ""
            },
            "type": "mesh3d"
           }
          ],
          "parcoords": [
           {
            "line": {
             "colorbar": {
              "outlinewidth": 0,
              "ticks": ""
             }
            },
            "type": "parcoords"
           }
          ],
          "pie": [
           {
            "automargin": true,
            "type": "pie"
           }
          ],
          "scatter": [
           {
            "marker": {
             "line": {
              "color": "#283442"
             }
            },
            "type": "scatter"
           }
          ],
          "scatter3d": [
           {
            "line": {
             "colorbar": {
              "outlinewidth": 0,
              "ticks": ""
             }
            },
            "marker": {
             "colorbar": {
              "outlinewidth": 0,
              "ticks": ""
             }
            },
            "type": "scatter3d"
           }
          ],
          "scattercarpet": [
           {
            "marker": {
             "colorbar": {
              "outlinewidth": 0,
              "ticks": ""
             }
            },
            "type": "scattercarpet"
           }
          ],
          "scattergeo": [
           {
            "marker": {
             "colorbar": {
              "outlinewidth": 0,
              "ticks": ""
             }
            },
            "type": "scattergeo"
           }
          ],
          "scattergl": [
           {
            "marker": {
             "line": {
              "color": "#283442"
             }
            },
            "type": "scattergl"
           }
          ],
          "scattermap": [
           {
            "marker": {
             "colorbar": {
              "outlinewidth": 0,
              "ticks": ""
             }
            },
            "type": "scattermap"
           }
          ],
          "scattermapbox": [
           {
            "marker": {
             "colorbar": {
              "outlinewidth": 0,
              "ticks": ""
             }
            },
            "type": "scattermapbox"
           }
          ],
          "scatterpolar": [
           {
            "marker": {
             "colorbar": {
              "outlinewidth": 0,
              "ticks": ""
             }
            },
            "type": "scatterpolar"
           }
          ],
          "scatterpolargl": [
           {
            "marker": {
             "colorbar": {
              "outlinewidth": 0,
              "ticks": ""
             }
            },
            "type": "scatterpolargl"
           }
          ],
          "scatterternary": [
           {
            "marker": {
             "colorbar": {
              "outlinewidth": 0,
              "ticks": ""
             }
            },
            "type": "scatterternary"
           }
          ],
          "surface": [
           {
            "colorbar": {
             "outlinewidth": 0,
             "ticks": ""
            },
            "colorscale": [
             [
              0,
              "#0d0887"
             ],
             [
              0.1111111111111111,
              "#46039f"
             ],
             [
              0.2222222222222222,
              "#7201a8"
             ],
             [
              0.3333333333333333,
              "#9c179e"
             ],
             [
              0.4444444444444444,
              "#bd3786"
             ],
             [
              0.5555555555555556,
              "#d8576b"
             ],
             [
              0.6666666666666666,
              "#ed7953"
             ],
             [
              0.7777777777777778,
              "#fb9f3a"
             ],
             [
              0.8888888888888888,
              "#fdca26"
             ],
             [
              1,
              "#f0f921"
             ]
            ],
            "type": "surface"
           }
          ],
          "table": [
           {
            "cells": {
             "fill": {
              "color": "#506784"
             },
             "line": {
              "color": "rgb(17,17,17)"
             }
            },
            "header": {
             "fill": {
              "color": "#2a3f5f"
             },
             "line": {
              "color": "rgb(17,17,17)"
             }
            },
            "type": "table"
           }
          ]
         },
         "layout": {
          "annotationdefaults": {
           "arrowcolor": "#f2f5fa",
           "arrowhead": 0,
           "arrowwidth": 1
          },
          "autotypenumbers": "strict",
          "coloraxis": {
           "colorbar": {
            "outlinewidth": 0,
            "ticks": ""
           }
          },
          "colorscale": {
           "diverging": [
            [
             0,
             "#8e0152"
            ],
            [
             0.1,
             "#c51b7d"
            ],
            [
             0.2,
             "#de77ae"
            ],
            [
             0.3,
             "#f1b6da"
            ],
            [
             0.4,
             "#fde0ef"
            ],
            [
             0.5,
             "#f7f7f7"
            ],
            [
             0.6,
             "#e6f5d0"
            ],
            [
             0.7,
             "#b8e186"
            ],
            [
             0.8,
             "#7fbc41"
            ],
            [
             0.9,
             "#4d9221"
            ],
            [
             1,
             "#276419"
            ]
           ],
           "sequential": [
            [
             0,
             "#0d0887"
            ],
            [
             0.1111111111111111,
             "#46039f"
            ],
            [
             0.2222222222222222,
             "#7201a8"
            ],
            [
             0.3333333333333333,
             "#9c179e"
            ],
            [
             0.4444444444444444,
             "#bd3786"
            ],
            [
             0.5555555555555556,
             "#d8576b"
            ],
            [
             0.6666666666666666,
             "#ed7953"
            ],
            [
             0.7777777777777778,
             "#fb9f3a"
            ],
            [
             0.8888888888888888,
             "#fdca26"
            ],
            [
             1,
             "#f0f921"
            ]
           ],
           "sequentialminus": [
            [
             0,
             "#0d0887"
            ],
            [
             0.1111111111111111,
             "#46039f"
            ],
            [
             0.2222222222222222,
             "#7201a8"
            ],
            [
             0.3333333333333333,
             "#9c179e"
            ],
            [
             0.4444444444444444,
             "#bd3786"
            ],
            [
             0.5555555555555556,
             "#d8576b"
            ],
            [
             0.6666666666666666,
             "#ed7953"
            ],
            [
             0.7777777777777778,
             "#fb9f3a"
            ],
            [
             0.8888888888888888,
             "#fdca26"
            ],
            [
             1,
             "#f0f921"
            ]
           ]
          },
          "colorway": [
           "#636efa",
           "#EF553B",
           "#00cc96",
           "#ab63fa",
           "#FFA15A",
           "#19d3f3",
           "#FF6692",
           "#B6E880",
           "#FF97FF",
           "#FECB52"
          ],
          "font": {
           "color": "#f2f5fa"
          },
          "geo": {
           "bgcolor": "rgb(17,17,17)",
           "lakecolor": "rgb(17,17,17)",
           "landcolor": "rgb(17,17,17)",
           "showlakes": true,
           "showland": true,
           "subunitcolor": "#506784"
          },
          "hoverlabel": {
           "align": "left"
          },
          "hovermode": "closest",
          "mapbox": {
           "style": "dark"
          },
          "paper_bgcolor": "rgb(17,17,17)",
          "plot_bgcolor": "rgb(17,17,17)",
          "polar": {
           "angularaxis": {
            "gridcolor": "#506784",
            "linecolor": "#506784",
            "ticks": ""
           },
           "bgcolor": "rgb(17,17,17)",
           "radialaxis": {
            "gridcolor": "#506784",
            "linecolor": "#506784",
            "ticks": ""
           }
          },
          "scene": {
           "xaxis": {
            "backgroundcolor": "rgb(17,17,17)",
            "gridcolor": "#506784",
            "gridwidth": 2,
            "linecolor": "#506784",
            "showbackground": true,
            "ticks": "",
            "zerolinecolor": "#C8D4E3"
           },
           "yaxis": {
            "backgroundcolor": "rgb(17,17,17)",
            "gridcolor": "#506784",
            "gridwidth": 2,
            "linecolor": "#506784",
            "showbackground": true,
            "ticks": "",
            "zerolinecolor": "#C8D4E3"
           },
           "zaxis": {
            "backgroundcolor": "rgb(17,17,17)",
            "gridcolor": "#506784",
            "gridwidth": 2,
            "linecolor": "#506784",
            "showbackground": true,
            "ticks": "",
            "zerolinecolor": "#C8D4E3"
           }
          },
          "shapedefaults": {
           "line": {
            "color": "#f2f5fa"
           }
          },
          "sliderdefaults": {
           "bgcolor": "#C8D4E3",
           "bordercolor": "rgb(17,17,17)",
           "borderwidth": 1,
           "tickwidth": 0
          },
          "ternary": {
           "aaxis": {
            "gridcolor": "#506784",
            "linecolor": "#506784",
            "ticks": ""
           },
           "baxis": {
            "gridcolor": "#506784",
            "linecolor": "#506784",
            "ticks": ""
           },
           "bgcolor": "rgb(17,17,17)",
           "caxis": {
            "gridcolor": "#506784",
            "linecolor": "#506784",
            "ticks": ""
           }
          },
          "title": {
           "x": 0.05
          },
          "updatemenudefaults": {
           "bgcolor": "#506784",
           "borderwidth": 0
          },
          "xaxis": {
           "automargin": true,
           "gridcolor": "#283442",
           "linecolor": "#506784",
           "ticks": "",
           "title": {
            "standoff": 15
           },
           "zerolinecolor": "#283442",
           "zerolinewidth": 2
          },
          "yaxis": {
           "automargin": true,
           "gridcolor": "#283442",
           "linecolor": "#506784",
           "ticks": "",
           "title": {
            "standoff": 15
           },
           "zerolinecolor": "#283442",
           "zerolinewidth": 2
          }
         }
        },
        "title": {
         "text": "🔎 Correlation to TOP_20 — Season 2024"
        },
        "width": 1000,
        "xaxis": {
         "anchor": "y",
         "domain": [
          0,
          1
         ],
         "tickangle": -45,
         "title": {
          "text": "Feature"
         }
        },
        "yaxis": {
         "anchor": "x",
         "domain": [
          0,
          1
         ],
         "title": {
          "text": "Absolute Correlation to TOP_20"
         }
        }
       }
      }
     },
     "metadata": {},
     "output_type": "display_data"
    }
   ],
   "source": [
    "import plotly.express as px\n",
    "\n",
    "# Get the 4 most recent seasons (or fewer if not available)\n",
    "available_seasons = sorted(training_df[\"SEASON\"].unique())[-4:]\n",
    "\n",
    "# Dictionary to store correlation results\n",
    "correlation_frames = {}\n",
    "\n",
    "# Calculate correlations for each season\n",
    "for season in available_seasons:\n",
    "    df = training_df[training_df[\"SEASON\"] == season].copy()\n",
    "\n",
    "    # Numeric features only, drop final result\n",
    "    numeric = df.select_dtypes(include=[\"float64\", \"int64\"]).drop(columns=[\"FINAL_POS\", \"SEASON\"], errors=\"ignore\")\n",
    "\n",
    "    # Skip if TOP_20 is not present\n",
    "    if \"TOP_20\" not in numeric.columns:\n",
    "        continue\n",
    "\n",
    "    # Correlation with TOP_20\n",
    "    cor = numeric.corr().abs()[\"TOP_20\"].drop(\"TOP_20\", errors=\"ignore\").sort_values(ascending=False)\n",
    "    cor_df = cor.reset_index()\n",
    "    cor_df.columns = [\"Feature\", \"Correlation\"]\n",
    "    correlation_frames[season] = cor_df\n",
    "\n",
    "# Plot one bar chart per season\n",
    "for season, cor_df in correlation_frames.items():\n",
    "    fig = px.bar(\n",
    "        cor_df,\n",
    "        x=\"Feature\",\n",
    "        y=\"Correlation\",\n",
    "        title=f\"🔎 Correlation to TOP_20 — Season {int(season)}\",\n",
    "        height=500,\n",
    "        width=1000\n",
    "    )\n",
    "\n",
    "    fig.update_layout(\n",
    "        xaxis_title=\"Feature\",\n",
    "        yaxis_title=\"Absolute Correlation to TOP_20\",\n",
    "        template=\"plotly_dark\",\n",
    "        xaxis_tickangle=-45\n",
    "    )\n",
    "\n",
    "    fig.show()\n"
   ]
  },
  {
   "cell_type": "markdown",
   "id": "07c346c9",
   "metadata": {},
   "source": [
    "**Average of Last 4 Years**"
   ]
  },
  {
   "cell_type": "code",
   "execution_count": 22,
   "id": "aee0c2ea",
   "metadata": {},
   "outputs": [
    {
     "data": {
      "application/vnd.plotly.v1+json": {
       "config": {
        "plotlyServerURL": "https://plot.ly"
       },
       "data": [
        {
         "hovertemplate": "Feature=%{x}<br>Avg Correlation=%{y}<extra></extra>",
         "legendgroup": "",
         "marker": {
          "color": "#636efa",
          "pattern": {
           "shape": ""
          }
         },
         "name": "",
         "orientation": "v",
         "showlegend": false,
         "textposition": "auto",
         "type": "bar",
         "x": [
          "OWGR",
          "FEDEX_CUP_POINTS",
          "form_density",
          "SGTTG",
          "PAR_4",
          "SGTTG_RANK",
          "RECENT_FORM",
          "BIRDIES",
          "PAR_4_RANK",
          "SGAPR",
          "BIRDIES_RANK",
          "SGAPR_RANK",
          "OWGR_RANK",
          "CUT_PERCENTAGE",
          "PAR_3_RANK",
          "PAR_3",
          "SGATG_RANK",
          "SGATG",
          "SCRAMBLING",
          "SCRAMBLING_RANK",
          "adj_form",
          "GIR",
          "CONSECUTIVE_CUTS",
          "TOTAL_DRIVING_RANK",
          "VEGAS_ODDS",
          "PAR_5",
          "SGOTT",
          "TOTAL_DRIVING",
          "DRIVING_ACCURACY",
          "GIR_RANK",
          "DRIVING_ACCURACY_RANK",
          "SGOTT_RANK",
          "COURSE_HISTORY",
          "SGP",
          "SGP_RANK",
          "PAR_5_RANK",
          "adj_ch",
          "DRIVING_DISTANCE_RANK",
          "DRIVING_DISTANCE"
         ],
         "xaxis": "x",
         "y": {
          "bdata": "Eh0Xq6EV1T9okidMAhLSP2q4g1bykNE/5FadB38v0T+zhZ53jDzQPyN2joAjfs8/98u5eI8Dzz96vNKWz8/NP+736ogLgMw//RqfLbkMyz/iyptSiBPKP/4kooHcssk/Y568BSGIyT9+ABCInF/IP3+bHuCOU8g/W81KTTx8xz/74Fx5CO/FP+JJwsoQbcU/QaABDIxMxT9uiqQL0rzEP175zazMucQ/8Vr5xjsgwz9Ge7h4yQ/DP1TdPHC5lcI/mh1vFDXswT8tcvKK68XBP31I61K+wME/R86CxROowT+m6Omln/vAP0o6McxTzsA/7EmWni1iwD/Xf8rKni3AP+dIOQ6Qnr8/MS1rrfxEvz/5Qlv/aHe+P4rnF9KjDb4/Vp2Vky6tuT8wQjvuKm2fPyypLlZLyXg/",
          "dtype": "f8"
         },
         "yaxis": "y"
        }
       ],
       "layout": {
        "barmode": "relative",
        "height": 600,
        "legend": {
         "tracegroupgap": 0
        },
        "showlegend": false,
        "template": {
         "data": {
          "bar": [
           {
            "error_x": {
             "color": "#f2f5fa"
            },
            "error_y": {
             "color": "#f2f5fa"
            },
            "marker": {
             "line": {
              "color": "rgb(17,17,17)",
              "width": 0.5
             },
             "pattern": {
              "fillmode": "overlay",
              "size": 10,
              "solidity": 0.2
             }
            },
            "type": "bar"
           }
          ],
          "barpolar": [
           {
            "marker": {
             "line": {
              "color": "rgb(17,17,17)",
              "width": 0.5
             },
             "pattern": {
              "fillmode": "overlay",
              "size": 10,
              "solidity": 0.2
             }
            },
            "type": "barpolar"
           }
          ],
          "carpet": [
           {
            "aaxis": {
             "endlinecolor": "#A2B1C6",
             "gridcolor": "#506784",
             "linecolor": "#506784",
             "minorgridcolor": "#506784",
             "startlinecolor": "#A2B1C6"
            },
            "baxis": {
             "endlinecolor": "#A2B1C6",
             "gridcolor": "#506784",
             "linecolor": "#506784",
             "minorgridcolor": "#506784",
             "startlinecolor": "#A2B1C6"
            },
            "type": "carpet"
           }
          ],
          "choropleth": [
           {
            "colorbar": {
             "outlinewidth": 0,
             "ticks": ""
            },
            "type": "choropleth"
           }
          ],
          "contour": [
           {
            "colorbar": {
             "outlinewidth": 0,
             "ticks": ""
            },
            "colorscale": [
             [
              0,
              "#0d0887"
             ],
             [
              0.1111111111111111,
              "#46039f"
             ],
             [
              0.2222222222222222,
              "#7201a8"
             ],
             [
              0.3333333333333333,
              "#9c179e"
             ],
             [
              0.4444444444444444,
              "#bd3786"
             ],
             [
              0.5555555555555556,
              "#d8576b"
             ],
             [
              0.6666666666666666,
              "#ed7953"
             ],
             [
              0.7777777777777778,
              "#fb9f3a"
             ],
             [
              0.8888888888888888,
              "#fdca26"
             ],
             [
              1,
              "#f0f921"
             ]
            ],
            "type": "contour"
           }
          ],
          "contourcarpet": [
           {
            "colorbar": {
             "outlinewidth": 0,
             "ticks": ""
            },
            "type": "contourcarpet"
           }
          ],
          "heatmap": [
           {
            "colorbar": {
             "outlinewidth": 0,
             "ticks": ""
            },
            "colorscale": [
             [
              0,
              "#0d0887"
             ],
             [
              0.1111111111111111,
              "#46039f"
             ],
             [
              0.2222222222222222,
              "#7201a8"
             ],
             [
              0.3333333333333333,
              "#9c179e"
             ],
             [
              0.4444444444444444,
              "#bd3786"
             ],
             [
              0.5555555555555556,
              "#d8576b"
             ],
             [
              0.6666666666666666,
              "#ed7953"
             ],
             [
              0.7777777777777778,
              "#fb9f3a"
             ],
             [
              0.8888888888888888,
              "#fdca26"
             ],
             [
              1,
              "#f0f921"
             ]
            ],
            "type": "heatmap"
           }
          ],
          "histogram": [
           {
            "marker": {
             "pattern": {
              "fillmode": "overlay",
              "size": 10,
              "solidity": 0.2
             }
            },
            "type": "histogram"
           }
          ],
          "histogram2d": [
           {
            "colorbar": {
             "outlinewidth": 0,
             "ticks": ""
            },
            "colorscale": [
             [
              0,
              "#0d0887"
             ],
             [
              0.1111111111111111,
              "#46039f"
             ],
             [
              0.2222222222222222,
              "#7201a8"
             ],
             [
              0.3333333333333333,
              "#9c179e"
             ],
             [
              0.4444444444444444,
              "#bd3786"
             ],
             [
              0.5555555555555556,
              "#d8576b"
             ],
             [
              0.6666666666666666,
              "#ed7953"
             ],
             [
              0.7777777777777778,
              "#fb9f3a"
             ],
             [
              0.8888888888888888,
              "#fdca26"
             ],
             [
              1,
              "#f0f921"
             ]
            ],
            "type": "histogram2d"
           }
          ],
          "histogram2dcontour": [
           {
            "colorbar": {
             "outlinewidth": 0,
             "ticks": ""
            },
            "colorscale": [
             [
              0,
              "#0d0887"
             ],
             [
              0.1111111111111111,
              "#46039f"
             ],
             [
              0.2222222222222222,
              "#7201a8"
             ],
             [
              0.3333333333333333,
              "#9c179e"
             ],
             [
              0.4444444444444444,
              "#bd3786"
             ],
             [
              0.5555555555555556,
              "#d8576b"
             ],
             [
              0.6666666666666666,
              "#ed7953"
             ],
             [
              0.7777777777777778,
              "#fb9f3a"
             ],
             [
              0.8888888888888888,
              "#fdca26"
             ],
             [
              1,
              "#f0f921"
             ]
            ],
            "type": "histogram2dcontour"
           }
          ],
          "mesh3d": [
           {
            "colorbar": {
             "outlinewidth": 0,
             "ticks": ""
            },
            "type": "mesh3d"
           }
          ],
          "parcoords": [
           {
            "line": {
             "colorbar": {
              "outlinewidth": 0,
              "ticks": ""
             }
            },
            "type": "parcoords"
           }
          ],
          "pie": [
           {
            "automargin": true,
            "type": "pie"
           }
          ],
          "scatter": [
           {
            "marker": {
             "line": {
              "color": "#283442"
             }
            },
            "type": "scatter"
           }
          ],
          "scatter3d": [
           {
            "line": {
             "colorbar": {
              "outlinewidth": 0,
              "ticks": ""
             }
            },
            "marker": {
             "colorbar": {
              "outlinewidth": 0,
              "ticks": ""
             }
            },
            "type": "scatter3d"
           }
          ],
          "scattercarpet": [
           {
            "marker": {
             "colorbar": {
              "outlinewidth": 0,
              "ticks": ""
             }
            },
            "type": "scattercarpet"
           }
          ],
          "scattergeo": [
           {
            "marker": {
             "colorbar": {
              "outlinewidth": 0,
              "ticks": ""
             }
            },
            "type": "scattergeo"
           }
          ],
          "scattergl": [
           {
            "marker": {
             "line": {
              "color": "#283442"
             }
            },
            "type": "scattergl"
           }
          ],
          "scattermap": [
           {
            "marker": {
             "colorbar": {
              "outlinewidth": 0,
              "ticks": ""
             }
            },
            "type": "scattermap"
           }
          ],
          "scattermapbox": [
           {
            "marker": {
             "colorbar": {
              "outlinewidth": 0,
              "ticks": ""
             }
            },
            "type": "scattermapbox"
           }
          ],
          "scatterpolar": [
           {
            "marker": {
             "colorbar": {
              "outlinewidth": 0,
              "ticks": ""
             }
            },
            "type": "scatterpolar"
           }
          ],
          "scatterpolargl": [
           {
            "marker": {
             "colorbar": {
              "outlinewidth": 0,
              "ticks": ""
             }
            },
            "type": "scatterpolargl"
           }
          ],
          "scatterternary": [
           {
            "marker": {
             "colorbar": {
              "outlinewidth": 0,
              "ticks": ""
             }
            },
            "type": "scatterternary"
           }
          ],
          "surface": [
           {
            "colorbar": {
             "outlinewidth": 0,
             "ticks": ""
            },
            "colorscale": [
             [
              0,
              "#0d0887"
             ],
             [
              0.1111111111111111,
              "#46039f"
             ],
             [
              0.2222222222222222,
              "#7201a8"
             ],
             [
              0.3333333333333333,
              "#9c179e"
             ],
             [
              0.4444444444444444,
              "#bd3786"
             ],
             [
              0.5555555555555556,
              "#d8576b"
             ],
             [
              0.6666666666666666,
              "#ed7953"
             ],
             [
              0.7777777777777778,
              "#fb9f3a"
             ],
             [
              0.8888888888888888,
              "#fdca26"
             ],
             [
              1,
              "#f0f921"
             ]
            ],
            "type": "surface"
           }
          ],
          "table": [
           {
            "cells": {
             "fill": {
              "color": "#506784"
             },
             "line": {
              "color": "rgb(17,17,17)"
             }
            },
            "header": {
             "fill": {
              "color": "#2a3f5f"
             },
             "line": {
              "color": "rgb(17,17,17)"
             }
            },
            "type": "table"
           }
          ]
         },
         "layout": {
          "annotationdefaults": {
           "arrowcolor": "#f2f5fa",
           "arrowhead": 0,
           "arrowwidth": 1
          },
          "autotypenumbers": "strict",
          "coloraxis": {
           "colorbar": {
            "outlinewidth": 0,
            "ticks": ""
           }
          },
          "colorscale": {
           "diverging": [
            [
             0,
             "#8e0152"
            ],
            [
             0.1,
             "#c51b7d"
            ],
            [
             0.2,
             "#de77ae"
            ],
            [
             0.3,
             "#f1b6da"
            ],
            [
             0.4,
             "#fde0ef"
            ],
            [
             0.5,
             "#f7f7f7"
            ],
            [
             0.6,
             "#e6f5d0"
            ],
            [
             0.7,
             "#b8e186"
            ],
            [
             0.8,
             "#7fbc41"
            ],
            [
             0.9,
             "#4d9221"
            ],
            [
             1,
             "#276419"
            ]
           ],
           "sequential": [
            [
             0,
             "#0d0887"
            ],
            [
             0.1111111111111111,
             "#46039f"
            ],
            [
             0.2222222222222222,
             "#7201a8"
            ],
            [
             0.3333333333333333,
             "#9c179e"
            ],
            [
             0.4444444444444444,
             "#bd3786"
            ],
            [
             0.5555555555555556,
             "#d8576b"
            ],
            [
             0.6666666666666666,
             "#ed7953"
            ],
            [
             0.7777777777777778,
             "#fb9f3a"
            ],
            [
             0.8888888888888888,
             "#fdca26"
            ],
            [
             1,
             "#f0f921"
            ]
           ],
           "sequentialminus": [
            [
             0,
             "#0d0887"
            ],
            [
             0.1111111111111111,
             "#46039f"
            ],
            [
             0.2222222222222222,
             "#7201a8"
            ],
            [
             0.3333333333333333,
             "#9c179e"
            ],
            [
             0.4444444444444444,
             "#bd3786"
            ],
            [
             0.5555555555555556,
             "#d8576b"
            ],
            [
             0.6666666666666666,
             "#ed7953"
            ],
            [
             0.7777777777777778,
             "#fb9f3a"
            ],
            [
             0.8888888888888888,
             "#fdca26"
            ],
            [
             1,
             "#f0f921"
            ]
           ]
          },
          "colorway": [
           "#636efa",
           "#EF553B",
           "#00cc96",
           "#ab63fa",
           "#FFA15A",
           "#19d3f3",
           "#FF6692",
           "#B6E880",
           "#FF97FF",
           "#FECB52"
          ],
          "font": {
           "color": "#f2f5fa"
          },
          "geo": {
           "bgcolor": "rgb(17,17,17)",
           "lakecolor": "rgb(17,17,17)",
           "landcolor": "rgb(17,17,17)",
           "showlakes": true,
           "showland": true,
           "subunitcolor": "#506784"
          },
          "hoverlabel": {
           "align": "left"
          },
          "hovermode": "closest",
          "mapbox": {
           "style": "dark"
          },
          "paper_bgcolor": "rgb(17,17,17)",
          "plot_bgcolor": "rgb(17,17,17)",
          "polar": {
           "angularaxis": {
            "gridcolor": "#506784",
            "linecolor": "#506784",
            "ticks": ""
           },
           "bgcolor": "rgb(17,17,17)",
           "radialaxis": {
            "gridcolor": "#506784",
            "linecolor": "#506784",
            "ticks": ""
           }
          },
          "scene": {
           "xaxis": {
            "backgroundcolor": "rgb(17,17,17)",
            "gridcolor": "#506784",
            "gridwidth": 2,
            "linecolor": "#506784",
            "showbackground": true,
            "ticks": "",
            "zerolinecolor": "#C8D4E3"
           },
           "yaxis": {
            "backgroundcolor": "rgb(17,17,17)",
            "gridcolor": "#506784",
            "gridwidth": 2,
            "linecolor": "#506784",
            "showbackground": true,
            "ticks": "",
            "zerolinecolor": "#C8D4E3"
           },
           "zaxis": {
            "backgroundcolor": "rgb(17,17,17)",
            "gridcolor": "#506784",
            "gridwidth": 2,
            "linecolor": "#506784",
            "showbackground": true,
            "ticks": "",
            "zerolinecolor": "#C8D4E3"
           }
          },
          "shapedefaults": {
           "line": {
            "color": "#f2f5fa"
           }
          },
          "sliderdefaults": {
           "bgcolor": "#C8D4E3",
           "bordercolor": "rgb(17,17,17)",
           "borderwidth": 1,
           "tickwidth": 0
          },
          "ternary": {
           "aaxis": {
            "gridcolor": "#506784",
            "linecolor": "#506784",
            "ticks": ""
           },
           "baxis": {
            "gridcolor": "#506784",
            "linecolor": "#506784",
            "ticks": ""
           },
           "bgcolor": "rgb(17,17,17)",
           "caxis": {
            "gridcolor": "#506784",
            "linecolor": "#506784",
            "ticks": ""
           }
          },
          "title": {
           "x": 0.05
          },
          "updatemenudefaults": {
           "bgcolor": "#506784",
           "borderwidth": 0
          },
          "xaxis": {
           "automargin": true,
           "gridcolor": "#283442",
           "linecolor": "#506784",
           "ticks": "",
           "title": {
            "standoff": 15
           },
           "zerolinecolor": "#283442",
           "zerolinewidth": 2
          },
          "yaxis": {
           "automargin": true,
           "gridcolor": "#283442",
           "linecolor": "#506784",
           "ticks": "",
           "title": {
            "standoff": 15
           },
           "zerolinecolor": "#283442",
           "zerolinewidth": 2
          }
         }
        },
        "title": {
         "text": "Average Correlation to TOP_20 (Last 4 Seasons)"
        },
        "width": 1000,
        "xaxis": {
         "anchor": "y",
         "domain": [
          0,
          1
         ],
         "tickangle": -45,
         "title": {
          "text": "Feature"
         }
        },
        "yaxis": {
         "anchor": "x",
         "domain": [
          0,
          1
         ],
         "title": {
          "text": "Avg Correlation"
         }
        }
       }
      }
     },
     "metadata": {},
     "output_type": "display_data"
    }
   ],
   "source": [
    "import pandas as pd\n",
    "import numpy as np\n",
    "import plotly.express as px\n",
    "\n",
    "# === Rebuild correlation matrices for the 4 most recent seasons ===\n",
    "cor = {}\n",
    "recent_seasons = sorted(training_df[\"SEASON\"].unique())[-4:]\n",
    "\n",
    "for season in recent_seasons:\n",
    "    df_season = training_df[training_df[\"SEASON\"] == season].copy()\n",
    "    numeric_cols = df_season.select_dtypes(include=[\"float64\", \"int64\"])\n",
    "    cor[int(season)] = numeric_cols.corr().abs()\n",
    "\n",
    "# === Combine into one summary DataFrame ===\n",
    "cor_df = pd.DataFrame()\n",
    "\n",
    "for season in recent_seasons:\n",
    "    df = cor[season].reset_index()\n",
    "    if \"TOP_20\" not in df.columns:\n",
    "        continue\n",
    "    temp = df[[\"index\", \"TOP_20\"]].copy()\n",
    "    temp = temp.rename(columns={\"TOP_20\": str(season)})\n",
    "    if cor_df.empty:\n",
    "        cor_df = temp\n",
    "    else:\n",
    "        cor_df = cor_df.merge(temp, on=\"index\", how=\"outer\")\n",
    "\n",
    "# Drop target and metadata rows\n",
    "cor_df = cor_df[~cor_df[\"index\"].isin([\"TOP_20\", \"FINAL_POS\", \"SEASON\"])]\n",
    "\n",
    "# Compute average correlation across seasons\n",
    "cor_df[\"AVERAGE\"] = cor_df.drop(columns=[\"index\"]).mean(axis=1)\n",
    "cor_df = cor_df.sort_values(by=\"AVERAGE\", ascending=False)\n",
    "\n",
    "# === Plotly Bar Chart ===\n",
    "fig = px.bar(\n",
    "    cor_df,\n",
    "    x=\"index\",\n",
    "    y=\"AVERAGE\",\n",
    "    title=\"Average Correlation to TOP_20 (Last 4 Seasons)\",\n",
    "    labels={\"index\": \"Feature\", \"AVERAGE\": \"Avg Correlation\"},\n",
    "    template=\"plotly_dark\"\n",
    ")\n",
    "\n",
    "fig.update_layout(\n",
    "    xaxis_tickangle=-45,\n",
    "    height=600,\n",
    "    width=1000,\n",
    "    showlegend=False\n",
    ")\n",
    "\n",
    "fig.show()\n"
   ]
  },
  {
   "cell_type": "markdown",
   "id": "b551789e",
   "metadata": {},
   "source": [
    "# ML Model"
   ]
  },
  {
   "cell_type": "markdown",
   "id": "d7df2d9b",
   "metadata": {},
   "source": [
    "## Predictors"
   ]
  },
  {
   "cell_type": "code",
   "execution_count": 23,
   "id": "7de6b0ed",
   "metadata": {},
   "outputs": [
    {
     "name": "stdout",
     "output_type": "stream",
     "text": [
      "Selected 39 features:\n",
      " ['SGTTG_RANK', 'SGTTG', 'SGOTT_RANK', 'SGOTT', 'SGAPR_RANK', 'SGAPR', 'SGATG_RANK', 'SGATG', 'SGP_RANK', 'SGP', 'BIRDIES_RANK', 'BIRDIES', 'PAR_3_RANK', 'PAR_3', 'PAR_4_RANK', 'PAR_4', 'PAR_5_RANK', 'PAR_5', 'TOTAL_DRIVING_RANK', 'TOTAL_DRIVING', 'DRIVING_DISTANCE_RANK', 'DRIVING_DISTANCE', 'DRIVING_ACCURACY_RANK', 'DRIVING_ACCURACY', 'GIR_RANK', 'GIR', 'SCRAMBLING_RANK', 'SCRAMBLING', 'OWGR_RANK', 'OWGR', 'VEGAS_ODDS', 'CUT_PERCENTAGE', 'FEDEX_CUP_POINTS', 'form_density', 'CONSECUTIVE_CUTS', 'RECENT_FORM', 'adj_form', 'COURSE_HISTORY', 'adj_ch']\n"
     ]
    }
   ],
   "source": [
    "# === Define Features and Target ===\n",
    "target_col = \"TOP_20\"\n",
    "\n",
    "# Columns to exclude from features\n",
    "exclude = [\n",
    "    \"PLAYER\", \"TOURNAMENT\", \"COURSE\", \"ENDING_DATE\", \"SEASON\", \"TOURN_ID\",\n",
    "    \"TOP_20\", \"FINAL_POS\"  \n",
    "]\n",
    "\n",
    "# Select numeric feature columns\n",
    "feature_cols = [\n",
    "    col for col in training_df.columns\n",
    "    if col not in exclude and training_df[col].dtype in [np.float64, np.int64]\n",
    "]\n",
    "\n",
    "print(f\"Selected {len(feature_cols)} features:\\n\", feature_cols)"
   ]
  },
  {
   "cell_type": "markdown",
   "id": "8cb568b3",
   "metadata": {},
   "source": [
    "### Random Forest\n",
    "Initial default model before hyperparameter tuning.\n",
    "\n",
    "This one actually performed really well (ROC AUC above 0.85).  Strangely doing hyperparameter tuning hurt the model (less than 0.7), so I removed that step and we will just use this default model.  This does cross-validation testing on 5 folds to ensure robust train/test splits."
   ]
  },
  {
   "cell_type": "code",
   "execution_count": 24,
   "id": "4879d3d9",
   "metadata": {},
   "outputs": [
    {
     "name": "stdout",
     "output_type": "stream",
     "text": [
      "📊 Random Forest (All Features)\n",
      "Cross-validation scores: [0.87724912 0.87398865 0.89126984 0.85416793 0.88194402]\n",
      "Average ROC AUC score: 0.88\n"
     ]
    }
   ],
   "source": [
    "from sklearn.ensemble import RandomForestClassifier\n",
    "from sklearn.model_selection import cross_val_score, StratifiedKFold\n",
    "from sklearn.preprocessing import StandardScaler\n",
    "from imblearn.over_sampling import SMOTE\n",
    "from imblearn.under_sampling import RandomUnderSampler\n",
    "from imblearn.pipeline import Pipeline\n",
    "\n",
    "# === Standardize features ===\n",
    "scaler = StandardScaler()\n",
    "X_rf_std = scaler.fit_transform(training_df[feature_cols])\n",
    "y_rf = training_df[\"TOP_20\"]\n",
    "\n",
    "# === Balance the dataset with SMOTE and undersampling ===\n",
    "over = SMOTE(sampling_strategy=0.5, k_neighbors=3)\n",
    "under = RandomUnderSampler(sampling_strategy=0.5)\n",
    "pipeline = Pipeline([(\"o\", over), (\"u\", under)])\n",
    "X_rf_bal, y_rf_bal = pipeline.fit_resample(X_rf_std, y_rf)\n",
    "\n",
    "# === Define and evaluate Random Forest ===\n",
    "rf = RandomForestClassifier(n_estimators=100, random_state=42)\n",
    "cv = StratifiedKFold(n_splits=5, shuffle=True, random_state=42)\n",
    "scores = cross_val_score(rf, X_rf_bal, y_rf_bal, cv=cv, scoring=\"roc_auc\")\n",
    "\n",
    "print(\"📊 Random Forest (All Features)\")\n",
    "print(\"Cross-validation scores:\", scores)\n",
    "print(\"Average ROC AUC score: {:.2f}\".format(scores.mean()))\n"
   ]
  },
  {
   "cell_type": "markdown",
   "id": "4fe9c753",
   "metadata": {},
   "source": [
    "Random Forest Training & Feature Importance\n",
    "\n",
    "Now we train on all the data (no longer cross-validation folds) and extract the feature importance to see how it compares with linear correlations.\n"
   ]
  },
  {
   "cell_type": "code",
   "execution_count": 25,
   "id": "74c2a8b7",
   "metadata": {},
   "outputs": [
    {
     "data": {
      "application/vnd.plotly.v1+json": {
       "config": {
        "plotlyServerURL": "https://plot.ly"
       },
       "data": [
        {
         "hovertemplate": "Feature=%{x}<br>Importance=%{y}<extra></extra>",
         "legendgroup": "",
         "marker": {
          "color": "#636efa",
          "pattern": {
           "shape": ""
          }
         },
         "name": "",
         "orientation": "v",
         "showlegend": false,
         "textposition": "auto",
         "type": "bar",
         "x": [
          "OWGR",
          "OWGR_RANK",
          "VEGAS_ODDS",
          "BIRDIES",
          "SGTTG",
          "adj_ch",
          "SGTTG_RANK",
          "CUT_PERCENTAGE",
          "RECENT_FORM",
          "form_density",
          "adj_form",
          "SCRAMBLING",
          "FEDEX_CUP_POINTS",
          "COURSE_HISTORY",
          "PAR_3",
          "PAR_4",
          "PAR_3_RANK",
          "PAR_4_RANK",
          "SGATG_RANK",
          "CONSECUTIVE_CUTS",
          "SGATG",
          "DRIVING_ACCURACY",
          "BIRDIES_RANK",
          "DRIVING_DISTANCE_RANK",
          "DRIVING_ACCURACY_RANK",
          "SGOTT_RANK",
          "SGP",
          "SGP_RANK",
          "SGAPR",
          "SCRAMBLING_RANK",
          "GIR_RANK",
          "SGOTT",
          "DRIVING_DISTANCE",
          "GIR",
          "PAR_5",
          "PAR_5_RANK",
          "TOTAL_DRIVING_RANK",
          "SGAPR_RANK",
          "TOTAL_DRIVING"
         ],
         "xaxis": "x",
         "y": {
          "bdata": "mBmJGaRirT81qcjt2JGrPzzScak7fqY/EfX6Yhmboz82pA2U51ShP2VAiQhACKE/v+/87wg/oD9OVQyaOGqeP17kc7p7NZ4/+wnTVmjnnD+BInP+dLicP4p2d+6b/ps/7W9aaL/Smz+p17TWn2ibPzQjigBiAJk/PcJ/zRR3mD+YHdF6QQ6YP2AjywuPDZg/LnO7pZkJmD+nRMAsNc2XP2EQA0FmtZc/1wH72ittlz8V4l+fxcKWP2ps3L0As5Y/rSPV8mbJlT83Jz3nRX2VP7NKDdWlUpU/PVSZWPgylT+33DW+e7CUP984E3aXR5Q/x8pSvGnBkz+AszLA2x2TP3g7MxDnNpI/dw9uQ2amkT/AD88Sj3+RP07+UfzGG5E/tUHwBj39kD9apkq42Q+QP0shLW2hBpA/",
          "dtype": "f8"
         },
         "yaxis": "y"
        }
       ],
       "layout": {
        "barmode": "relative",
        "legend": {
         "tracegroupgap": 0
        },
        "template": {
         "data": {
          "bar": [
           {
            "error_x": {
             "color": "#f2f5fa"
            },
            "error_y": {
             "color": "#f2f5fa"
            },
            "marker": {
             "line": {
              "color": "rgb(17,17,17)",
              "width": 0.5
             },
             "pattern": {
              "fillmode": "overlay",
              "size": 10,
              "solidity": 0.2
             }
            },
            "type": "bar"
           }
          ],
          "barpolar": [
           {
            "marker": {
             "line": {
              "color": "rgb(17,17,17)",
              "width": 0.5
             },
             "pattern": {
              "fillmode": "overlay",
              "size": 10,
              "solidity": 0.2
             }
            },
            "type": "barpolar"
           }
          ],
          "carpet": [
           {
            "aaxis": {
             "endlinecolor": "#A2B1C6",
             "gridcolor": "#506784",
             "linecolor": "#506784",
             "minorgridcolor": "#506784",
             "startlinecolor": "#A2B1C6"
            },
            "baxis": {
             "endlinecolor": "#A2B1C6",
             "gridcolor": "#506784",
             "linecolor": "#506784",
             "minorgridcolor": "#506784",
             "startlinecolor": "#A2B1C6"
            },
            "type": "carpet"
           }
          ],
          "choropleth": [
           {
            "colorbar": {
             "outlinewidth": 0,
             "ticks": ""
            },
            "type": "choropleth"
           }
          ],
          "contour": [
           {
            "colorbar": {
             "outlinewidth": 0,
             "ticks": ""
            },
            "colorscale": [
             [
              0,
              "#0d0887"
             ],
             [
              0.1111111111111111,
              "#46039f"
             ],
             [
              0.2222222222222222,
              "#7201a8"
             ],
             [
              0.3333333333333333,
              "#9c179e"
             ],
             [
              0.4444444444444444,
              "#bd3786"
             ],
             [
              0.5555555555555556,
              "#d8576b"
             ],
             [
              0.6666666666666666,
              "#ed7953"
             ],
             [
              0.7777777777777778,
              "#fb9f3a"
             ],
             [
              0.8888888888888888,
              "#fdca26"
             ],
             [
              1,
              "#f0f921"
             ]
            ],
            "type": "contour"
           }
          ],
          "contourcarpet": [
           {
            "colorbar": {
             "outlinewidth": 0,
             "ticks": ""
            },
            "type": "contourcarpet"
           }
          ],
          "heatmap": [
           {
            "colorbar": {
             "outlinewidth": 0,
             "ticks": ""
            },
            "colorscale": [
             [
              0,
              "#0d0887"
             ],
             [
              0.1111111111111111,
              "#46039f"
             ],
             [
              0.2222222222222222,
              "#7201a8"
             ],
             [
              0.3333333333333333,
              "#9c179e"
             ],
             [
              0.4444444444444444,
              "#bd3786"
             ],
             [
              0.5555555555555556,
              "#d8576b"
             ],
             [
              0.6666666666666666,
              "#ed7953"
             ],
             [
              0.7777777777777778,
              "#fb9f3a"
             ],
             [
              0.8888888888888888,
              "#fdca26"
             ],
             [
              1,
              "#f0f921"
             ]
            ],
            "type": "heatmap"
           }
          ],
          "histogram": [
           {
            "marker": {
             "pattern": {
              "fillmode": "overlay",
              "size": 10,
              "solidity": 0.2
             }
            },
            "type": "histogram"
           }
          ],
          "histogram2d": [
           {
            "colorbar": {
             "outlinewidth": 0,
             "ticks": ""
            },
            "colorscale": [
             [
              0,
              "#0d0887"
             ],
             [
              0.1111111111111111,
              "#46039f"
             ],
             [
              0.2222222222222222,
              "#7201a8"
             ],
             [
              0.3333333333333333,
              "#9c179e"
             ],
             [
              0.4444444444444444,
              "#bd3786"
             ],
             [
              0.5555555555555556,
              "#d8576b"
             ],
             [
              0.6666666666666666,
              "#ed7953"
             ],
             [
              0.7777777777777778,
              "#fb9f3a"
             ],
             [
              0.8888888888888888,
              "#fdca26"
             ],
             [
              1,
              "#f0f921"
             ]
            ],
            "type": "histogram2d"
           }
          ],
          "histogram2dcontour": [
           {
            "colorbar": {
             "outlinewidth": 0,
             "ticks": ""
            },
            "colorscale": [
             [
              0,
              "#0d0887"
             ],
             [
              0.1111111111111111,
              "#46039f"
             ],
             [
              0.2222222222222222,
              "#7201a8"
             ],
             [
              0.3333333333333333,
              "#9c179e"
             ],
             [
              0.4444444444444444,
              "#bd3786"
             ],
             [
              0.5555555555555556,
              "#d8576b"
             ],
             [
              0.6666666666666666,
              "#ed7953"
             ],
             [
              0.7777777777777778,
              "#fb9f3a"
             ],
             [
              0.8888888888888888,
              "#fdca26"
             ],
             [
              1,
              "#f0f921"
             ]
            ],
            "type": "histogram2dcontour"
           }
          ],
          "mesh3d": [
           {
            "colorbar": {
             "outlinewidth": 0,
             "ticks": ""
            },
            "type": "mesh3d"
           }
          ],
          "parcoords": [
           {
            "line": {
             "colorbar": {
              "outlinewidth": 0,
              "ticks": ""
             }
            },
            "type": "parcoords"
           }
          ],
          "pie": [
           {
            "automargin": true,
            "type": "pie"
           }
          ],
          "scatter": [
           {
            "marker": {
             "line": {
              "color": "#283442"
             }
            },
            "type": "scatter"
           }
          ],
          "scatter3d": [
           {
            "line": {
             "colorbar": {
              "outlinewidth": 0,
              "ticks": ""
             }
            },
            "marker": {
             "colorbar": {
              "outlinewidth": 0,
              "ticks": ""
             }
            },
            "type": "scatter3d"
           }
          ],
          "scattercarpet": [
           {
            "marker": {
             "colorbar": {
              "outlinewidth": 0,
              "ticks": ""
             }
            },
            "type": "scattercarpet"
           }
          ],
          "scattergeo": [
           {
            "marker": {
             "colorbar": {
              "outlinewidth": 0,
              "ticks": ""
             }
            },
            "type": "scattergeo"
           }
          ],
          "scattergl": [
           {
            "marker": {
             "line": {
              "color": "#283442"
             }
            },
            "type": "scattergl"
           }
          ],
          "scattermap": [
           {
            "marker": {
             "colorbar": {
              "outlinewidth": 0,
              "ticks": ""
             }
            },
            "type": "scattermap"
           }
          ],
          "scattermapbox": [
           {
            "marker": {
             "colorbar": {
              "outlinewidth": 0,
              "ticks": ""
             }
            },
            "type": "scattermapbox"
           }
          ],
          "scatterpolar": [
           {
            "marker": {
             "colorbar": {
              "outlinewidth": 0,
              "ticks": ""
             }
            },
            "type": "scatterpolar"
           }
          ],
          "scatterpolargl": [
           {
            "marker": {
             "colorbar": {
              "outlinewidth": 0,
              "ticks": ""
             }
            },
            "type": "scatterpolargl"
           }
          ],
          "scatterternary": [
           {
            "marker": {
             "colorbar": {
              "outlinewidth": 0,
              "ticks": ""
             }
            },
            "type": "scatterternary"
           }
          ],
          "surface": [
           {
            "colorbar": {
             "outlinewidth": 0,
             "ticks": ""
            },
            "colorscale": [
             [
              0,
              "#0d0887"
             ],
             [
              0.1111111111111111,
              "#46039f"
             ],
             [
              0.2222222222222222,
              "#7201a8"
             ],
             [
              0.3333333333333333,
              "#9c179e"
             ],
             [
              0.4444444444444444,
              "#bd3786"
             ],
             [
              0.5555555555555556,
              "#d8576b"
             ],
             [
              0.6666666666666666,
              "#ed7953"
             ],
             [
              0.7777777777777778,
              "#fb9f3a"
             ],
             [
              0.8888888888888888,
              "#fdca26"
             ],
             [
              1,
              "#f0f921"
             ]
            ],
            "type": "surface"
           }
          ],
          "table": [
           {
            "cells": {
             "fill": {
              "color": "#506784"
             },
             "line": {
              "color": "rgb(17,17,17)"
             }
            },
            "header": {
             "fill": {
              "color": "#2a3f5f"
             },
             "line": {
              "color": "rgb(17,17,17)"
             }
            },
            "type": "table"
           }
          ]
         },
         "layout": {
          "annotationdefaults": {
           "arrowcolor": "#f2f5fa",
           "arrowhead": 0,
           "arrowwidth": 1
          },
          "autotypenumbers": "strict",
          "coloraxis": {
           "colorbar": {
            "outlinewidth": 0,
            "ticks": ""
           }
          },
          "colorscale": {
           "diverging": [
            [
             0,
             "#8e0152"
            ],
            [
             0.1,
             "#c51b7d"
            ],
            [
             0.2,
             "#de77ae"
            ],
            [
             0.3,
             "#f1b6da"
            ],
            [
             0.4,
             "#fde0ef"
            ],
            [
             0.5,
             "#f7f7f7"
            ],
            [
             0.6,
             "#e6f5d0"
            ],
            [
             0.7,
             "#b8e186"
            ],
            [
             0.8,
             "#7fbc41"
            ],
            [
             0.9,
             "#4d9221"
            ],
            [
             1,
             "#276419"
            ]
           ],
           "sequential": [
            [
             0,
             "#0d0887"
            ],
            [
             0.1111111111111111,
             "#46039f"
            ],
            [
             0.2222222222222222,
             "#7201a8"
            ],
            [
             0.3333333333333333,
             "#9c179e"
            ],
            [
             0.4444444444444444,
             "#bd3786"
            ],
            [
             0.5555555555555556,
             "#d8576b"
            ],
            [
             0.6666666666666666,
             "#ed7953"
            ],
            [
             0.7777777777777778,
             "#fb9f3a"
            ],
            [
             0.8888888888888888,
             "#fdca26"
            ],
            [
             1,
             "#f0f921"
            ]
           ],
           "sequentialminus": [
            [
             0,
             "#0d0887"
            ],
            [
             0.1111111111111111,
             "#46039f"
            ],
            [
             0.2222222222222222,
             "#7201a8"
            ],
            [
             0.3333333333333333,
             "#9c179e"
            ],
            [
             0.4444444444444444,
             "#bd3786"
            ],
            [
             0.5555555555555556,
             "#d8576b"
            ],
            [
             0.6666666666666666,
             "#ed7953"
            ],
            [
             0.7777777777777778,
             "#fb9f3a"
            ],
            [
             0.8888888888888888,
             "#fdca26"
            ],
            [
             1,
             "#f0f921"
            ]
           ]
          },
          "colorway": [
           "#636efa",
           "#EF553B",
           "#00cc96",
           "#ab63fa",
           "#FFA15A",
           "#19d3f3",
           "#FF6692",
           "#B6E880",
           "#FF97FF",
           "#FECB52"
          ],
          "font": {
           "color": "#f2f5fa"
          },
          "geo": {
           "bgcolor": "rgb(17,17,17)",
           "lakecolor": "rgb(17,17,17)",
           "landcolor": "rgb(17,17,17)",
           "showlakes": true,
           "showland": true,
           "subunitcolor": "#506784"
          },
          "hoverlabel": {
           "align": "left"
          },
          "hovermode": "closest",
          "mapbox": {
           "style": "dark"
          },
          "paper_bgcolor": "rgb(17,17,17)",
          "plot_bgcolor": "rgb(17,17,17)",
          "polar": {
           "angularaxis": {
            "gridcolor": "#506784",
            "linecolor": "#506784",
            "ticks": ""
           },
           "bgcolor": "rgb(17,17,17)",
           "radialaxis": {
            "gridcolor": "#506784",
            "linecolor": "#506784",
            "ticks": ""
           }
          },
          "scene": {
           "xaxis": {
            "backgroundcolor": "rgb(17,17,17)",
            "gridcolor": "#506784",
            "gridwidth": 2,
            "linecolor": "#506784",
            "showbackground": true,
            "ticks": "",
            "zerolinecolor": "#C8D4E3"
           },
           "yaxis": {
            "backgroundcolor": "rgb(17,17,17)",
            "gridcolor": "#506784",
            "gridwidth": 2,
            "linecolor": "#506784",
            "showbackground": true,
            "ticks": "",
            "zerolinecolor": "#C8D4E3"
           },
           "zaxis": {
            "backgroundcolor": "rgb(17,17,17)",
            "gridcolor": "#506784",
            "gridwidth": 2,
            "linecolor": "#506784",
            "showbackground": true,
            "ticks": "",
            "zerolinecolor": "#C8D4E3"
           }
          },
          "shapedefaults": {
           "line": {
            "color": "#f2f5fa"
           }
          },
          "sliderdefaults": {
           "bgcolor": "#C8D4E3",
           "bordercolor": "rgb(17,17,17)",
           "borderwidth": 1,
           "tickwidth": 0
          },
          "ternary": {
           "aaxis": {
            "gridcolor": "#506784",
            "linecolor": "#506784",
            "ticks": ""
           },
           "baxis": {
            "gridcolor": "#506784",
            "linecolor": "#506784",
            "ticks": ""
           },
           "bgcolor": "rgb(17,17,17)",
           "caxis": {
            "gridcolor": "#506784",
            "linecolor": "#506784",
            "ticks": ""
           }
          },
          "title": {
           "x": 0.05
          },
          "updatemenudefaults": {
           "bgcolor": "#506784",
           "borderwidth": 0
          },
          "xaxis": {
           "automargin": true,
           "gridcolor": "#283442",
           "linecolor": "#506784",
           "ticks": "",
           "title": {
            "standoff": 15
           },
           "zerolinecolor": "#283442",
           "zerolinewidth": 2
          },
          "yaxis": {
           "automargin": true,
           "gridcolor": "#283442",
           "linecolor": "#506784",
           "ticks": "",
           "title": {
            "standoff": 15
           },
           "zerolinecolor": "#283442",
           "zerolinewidth": 2
          }
         }
        },
        "title": {
         "text": "Random Forest Feature Importances"
        },
        "xaxis": {
         "anchor": "y",
         "domain": [
          0,
          1
         ],
         "tickangle": -45,
         "title": {
          "text": "Feature"
         }
        },
        "yaxis": {
         "anchor": "x",
         "domain": [
          0,
          1
         ],
         "title": {
          "text": "Importance"
         }
        }
       }
      }
     },
     "metadata": {},
     "output_type": "display_data"
    }
   ],
   "source": [
    "from sklearn.ensemble import RandomForestClassifier\n",
    "from sklearn.calibration import CalibratedClassifierCV\n",
    "from sklearn.preprocessing import StandardScaler\n",
    "from imblearn.pipeline import Pipeline\n",
    "from imblearn.over_sampling import SMOTE\n",
    "from imblearn.under_sampling import RandomUnderSampler\n",
    "import pandas as pd\n",
    "import plotly.express as px\n",
    "\n",
    "# === Resample the full dataset ===\n",
    "over = SMOTE(sampling_strategy=0.5, k_neighbors=3)\n",
    "under = RandomUnderSampler(sampling_strategy=0.5)\n",
    "resample_pipeline = Pipeline([(\"o\", over), (\"u\", under)])\n",
    "X_all_resampled, y_all_resampled = resample_pipeline.fit_resample(\n",
    "    training_df[feature_cols], training_df[\"TOP_20\"]\n",
    ")\n",
    "\n",
    "# === Standardize ===\n",
    "scaler = StandardScaler()\n",
    "X_all_scaled = scaler.fit_transform(X_all_resampled)\n",
    "\n",
    "# === Train Calibrated Random Forest ===\n",
    "base_rf = RandomForestClassifier(random_state=42)\n",
    "final_model = CalibratedClassifierCV(estimator=base_rf, method=\"sigmoid\", cv=5)\n",
    "final_model.fit(X_all_scaled, y_all_resampled)\n",
    "\n",
    "# === Extract feature importances from one of the inner estimators ===\n",
    "rf_model = final_model.calibrated_classifiers_[0].estimator\n",
    "importances = rf_model.feature_importances_\n",
    "importance_df = pd.DataFrame({\n",
    "    \"Feature\": feature_cols,\n",
    "    \"Importance\": importances\n",
    "}).sort_values(by=\"Importance\", ascending=False)\n",
    "\n",
    "# === Plot feature importances ===\n",
    "fig = px.bar(\n",
    "    importance_df,\n",
    "    x=\"Feature\",\n",
    "    y=\"Importance\",\n",
    "    title=\"Random Forest Feature Importances\",\n",
    "    template=\"plotly_dark\"\n",
    ")\n",
    "fig.update_layout(xaxis_tickangle=-45)\n",
    "fig.show()\n"
   ]
  },
  {
   "cell_type": "markdown",
   "id": "e5e84f8a",
   "metadata": {},
   "source": [
    "Use this model on this week's data to predict the best performers."
   ]
  },
  {
   "cell_type": "code",
   "execution_count": 26,
   "id": "f0bf9b7d",
   "metadata": {},
   "outputs": [
    {
     "data": {
      "text/html": [
       "<div>\n",
       "<style scoped>\n",
       "    .dataframe tbody tr th:only-of-type {\n",
       "        vertical-align: middle;\n",
       "    }\n",
       "\n",
       "    .dataframe tbody tr th {\n",
       "        vertical-align: top;\n",
       "    }\n",
       "\n",
       "    .dataframe thead th {\n",
       "        text-align: right;\n",
       "    }\n",
       "</style>\n",
       "<table border=\"1\" class=\"dataframe\">\n",
       "  <thead>\n",
       "    <tr style=\"text-align: right;\">\n",
       "      <th></th>\n",
       "      <th>PLAYER</th>\n",
       "      <th>SALARY</th>\n",
       "      <th>PROBABILITY</th>\n",
       "      <th>RECENT_FORM</th>\n",
       "      <th>COURSE_HISTORY</th>\n",
       "      <th>VEGAS_ODDS</th>\n",
       "      <th>CUT_PERCENTAGE</th>\n",
       "      <th>OWGR_RANK</th>\n",
       "      <th>FEDEX_CUP_POINTS</th>\n",
       "      <th>SGTTG_RANK</th>\n",
       "      <th>SGOTT_RANK</th>\n",
       "      <th>SGAPR_RANK</th>\n",
       "      <th>SGATG_RANK</th>\n",
       "      <th>SGP_RANK</th>\n",
       "      <th>BIRDIES_RANK</th>\n",
       "      <th>PAR_3_RANK</th>\n",
       "      <th>PAR_4_RANK</th>\n",
       "      <th>PAR_5_RANK</th>\n",
       "      <th>TOTAL_DRIVING_RANK</th>\n",
       "      <th>DRIVING_DISTANCE_RANK</th>\n",
       "      <th>DRIVING_ACCURACY_RANK</th>\n",
       "      <th>GIR_RANK</th>\n",
       "      <th>SCRAMBLING_RANK</th>\n",
       "    </tr>\n",
       "  </thead>\n",
       "  <tbody>\n",
       "    <tr>\n",
       "      <th>0</th>\n",
       "      <td>Scottie Scheffler</td>\n",
       "      <td>13700</td>\n",
       "      <td>0.820055</td>\n",
       "      <td>7.4</td>\n",
       "      <td>30.400000</td>\n",
       "      <td>2.25</td>\n",
       "      <td>100.0</td>\n",
       "      <td>1.0</td>\n",
       "      <td>3218.467</td>\n",
       "      <td>1.0</td>\n",
       "      <td>2.0</td>\n",
       "      <td>1.0</td>\n",
       "      <td>55.0</td>\n",
       "      <td>15.0</td>\n",
       "      <td>3.0</td>\n",
       "      <td>25.0</td>\n",
       "      <td>1.0</td>\n",
       "      <td>5.0</td>\n",
       "      <td>14.0</td>\n",
       "      <td>77.0</td>\n",
       "      <td>27.0</td>\n",
       "      <td>3.0</td>\n",
       "      <td>3.0</td>\n",
       "    </tr>\n",
       "    <tr>\n",
       "      <th>1</th>\n",
       "      <td>Daniel Berger</td>\n",
       "      <td>9900</td>\n",
       "      <td>0.742644</td>\n",
       "      <td>31.4</td>\n",
       "      <td>28.400000</td>\n",
       "      <td>20.00</td>\n",
       "      <td>85.0</td>\n",
       "      <td>25.0</td>\n",
       "      <td>1473.408</td>\n",
       "      <td>4.0</td>\n",
       "      <td>17.0</td>\n",
       "      <td>15.0</td>\n",
       "      <td>34.0</td>\n",
       "      <td>76.0</td>\n",
       "      <td>67.0</td>\n",
       "      <td>145.0</td>\n",
       "      <td>6.0</td>\n",
       "      <td>70.0</td>\n",
       "      <td>11.0</td>\n",
       "      <td>92.0</td>\n",
       "      <td>9.0</td>\n",
       "      <td>33.0</td>\n",
       "      <td>13.0</td>\n",
       "    </tr>\n",
       "    <tr>\n",
       "      <th>2</th>\n",
       "      <td>Si Woo Kim</td>\n",
       "      <td>8900</td>\n",
       "      <td>0.706170</td>\n",
       "      <td>41.7</td>\n",
       "      <td>70.200000</td>\n",
       "      <td>40.00</td>\n",
       "      <td>72.2</td>\n",
       "      <td>59.0</td>\n",
       "      <td>759.233</td>\n",
       "      <td>14.0</td>\n",
       "      <td>38.0</td>\n",
       "      <td>45.0</td>\n",
       "      <td>14.0</td>\n",
       "      <td>129.0</td>\n",
       "      <td>17.0</td>\n",
       "      <td>153.0</td>\n",
       "      <td>11.0</td>\n",
       "      <td>1.0</td>\n",
       "      <td>70.0</td>\n",
       "      <td>137.0</td>\n",
       "      <td>30.0</td>\n",
       "      <td>61.0</td>\n",
       "      <td>58.0</td>\n",
       "    </tr>\n",
       "    <tr>\n",
       "      <th>3</th>\n",
       "      <td>Aaron Rai</td>\n",
       "      <td>9100</td>\n",
       "      <td>0.625534</td>\n",
       "      <td>31.3</td>\n",
       "      <td>37.300000</td>\n",
       "      <td>30.00</td>\n",
       "      <td>85.7</td>\n",
       "      <td>28.0</td>\n",
       "      <td>785.480</td>\n",
       "      <td>21.0</td>\n",
       "      <td>35.0</td>\n",
       "      <td>20.0</td>\n",
       "      <td>107.0</td>\n",
       "      <td>96.0</td>\n",
       "      <td>27.0</td>\n",
       "      <td>179.0</td>\n",
       "      <td>6.0</td>\n",
       "      <td>25.0</td>\n",
       "      <td>75.0</td>\n",
       "      <td>169.0</td>\n",
       "      <td>1.0</td>\n",
       "      <td>16.0</td>\n",
       "      <td>131.0</td>\n",
       "    </tr>\n",
       "    <tr>\n",
       "      <th>4</th>\n",
       "      <td>J.J. Spaun</td>\n",
       "      <td>8400</td>\n",
       "      <td>0.599289</td>\n",
       "      <td>37.0</td>\n",
       "      <td>83.300000</td>\n",
       "      <td>50.00</td>\n",
       "      <td>81.0</td>\n",
       "      <td>27.0</td>\n",
       "      <td>1358.687</td>\n",
       "      <td>17.0</td>\n",
       "      <td>55.0</td>\n",
       "      <td>4.0</td>\n",
       "      <td>130.0</td>\n",
       "      <td>80.0</td>\n",
       "      <td>62.0</td>\n",
       "      <td>40.0</td>\n",
       "      <td>35.0</td>\n",
       "      <td>70.0</td>\n",
       "      <td>6.0</td>\n",
       "      <td>50.0</td>\n",
       "      <td>46.0</td>\n",
       "      <td>24.0</td>\n",
       "      <td>124.0</td>\n",
       "    </tr>\n",
       "    <tr>\n",
       "      <th>5</th>\n",
       "      <td>Kevin Yu</td>\n",
       "      <td>7400</td>\n",
       "      <td>0.588849</td>\n",
       "      <td>47.9</td>\n",
       "      <td>61.000000</td>\n",
       "      <td>90.00</td>\n",
       "      <td>66.7</td>\n",
       "      <td>78.0</td>\n",
       "      <td>891.378</td>\n",
       "      <td>18.0</td>\n",
       "      <td>9.0</td>\n",
       "      <td>14.0</td>\n",
       "      <td>138.0</td>\n",
       "      <td>141.0</td>\n",
       "      <td>34.0</td>\n",
       "      <td>25.0</td>\n",
       "      <td>66.0</td>\n",
       "      <td>30.0</td>\n",
       "      <td>13.0</td>\n",
       "      <td>46.0</td>\n",
       "      <td>57.0</td>\n",
       "      <td>15.0</td>\n",
       "      <td>146.0</td>\n",
       "    </tr>\n",
       "    <tr>\n",
       "      <th>6</th>\n",
       "      <td>Ryan Gerard</td>\n",
       "      <td>7900</td>\n",
       "      <td>0.587187</td>\n",
       "      <td>31.1</td>\n",
       "      <td>60.551546</td>\n",
       "      <td>70.00</td>\n",
       "      <td>92.9</td>\n",
       "      <td>74.0</td>\n",
       "      <td>741.012</td>\n",
       "      <td>34.0</td>\n",
       "      <td>66.0</td>\n",
       "      <td>26.0</td>\n",
       "      <td>91.0</td>\n",
       "      <td>30.0</td>\n",
       "      <td>49.0</td>\n",
       "      <td>33.0</td>\n",
       "      <td>11.0</td>\n",
       "      <td>96.0</td>\n",
       "      <td>58.0</td>\n",
       "      <td>78.0</td>\n",
       "      <td>81.0</td>\n",
       "      <td>90.0</td>\n",
       "      <td>48.0</td>\n",
       "    </tr>\n",
       "    <tr>\n",
       "      <th>7</th>\n",
       "      <td>Hideki Matsuyama</td>\n",
       "      <td>9600</td>\n",
       "      <td>0.572959</td>\n",
       "      <td>36.6</td>\n",
       "      <td>60.551546</td>\n",
       "      <td>25.00</td>\n",
       "      <td>78.6</td>\n",
       "      <td>7.0</td>\n",
       "      <td>1058.794</td>\n",
       "      <td>15.0</td>\n",
       "      <td>120.0</td>\n",
       "      <td>31.0</td>\n",
       "      <td>5.0</td>\n",
       "      <td>63.0</td>\n",
       "      <td>44.0</td>\n",
       "      <td>10.0</td>\n",
       "      <td>48.0</td>\n",
       "      <td>40.0</td>\n",
       "      <td>161.0</td>\n",
       "      <td>96.0</td>\n",
       "      <td>139.0</td>\n",
       "      <td>83.0</td>\n",
       "      <td>4.0</td>\n",
       "    </tr>\n",
       "    <tr>\n",
       "      <th>8</th>\n",
       "      <td>Tommy Fleetwood</td>\n",
       "      <td>10000</td>\n",
       "      <td>0.534250</td>\n",
       "      <td>20.5</td>\n",
       "      <td>62.500000</td>\n",
       "      <td>25.00</td>\n",
       "      <td>100.0</td>\n",
       "      <td>14.0</td>\n",
       "      <td>1272.148</td>\n",
       "      <td>10.0</td>\n",
       "      <td>51.0</td>\n",
       "      <td>12.0</td>\n",
       "      <td>22.0</td>\n",
       "      <td>68.0</td>\n",
       "      <td>55.0</td>\n",
       "      <td>161.0</td>\n",
       "      <td>11.0</td>\n",
       "      <td>81.0</td>\n",
       "      <td>66.0</td>\n",
       "      <td>129.0</td>\n",
       "      <td>35.0</td>\n",
       "      <td>114.0</td>\n",
       "      <td>69.0</td>\n",
       "    </tr>\n",
       "    <tr>\n",
       "      <th>9</th>\n",
       "      <td>Jordan Spieth</td>\n",
       "      <td>9800</td>\n",
       "      <td>0.515307</td>\n",
       "      <td>38.4</td>\n",
       "      <td>26.600000</td>\n",
       "      <td>25.00</td>\n",
       "      <td>84.6</td>\n",
       "      <td>51.0</td>\n",
       "      <td>598.038</td>\n",
       "      <td>36.0</td>\n",
       "      <td>45.0</td>\n",
       "      <td>71.0</td>\n",
       "      <td>44.0</td>\n",
       "      <td>57.0</td>\n",
       "      <td>56.0</td>\n",
       "      <td>111.0</td>\n",
       "      <td>48.0</td>\n",
       "      <td>25.0</td>\n",
       "      <td>34.0</td>\n",
       "      <td>57.0</td>\n",
       "      <td>85.0</td>\n",
       "      <td>82.0</td>\n",
       "      <td>47.0</td>\n",
       "    </tr>\n",
       "    <tr>\n",
       "      <th>10</th>\n",
       "      <td>Maverick McNealy</td>\n",
       "      <td>9500</td>\n",
       "      <td>0.460984</td>\n",
       "      <td>37.3</td>\n",
       "      <td>42.200000</td>\n",
       "      <td>30.00</td>\n",
       "      <td>77.3</td>\n",
       "      <td>11.0</td>\n",
       "      <td>2139.422</td>\n",
       "      <td>54.0</td>\n",
       "      <td>54.0</td>\n",
       "      <td>34.0</td>\n",
       "      <td>140.0</td>\n",
       "      <td>41.0</td>\n",
       "      <td>51.0</td>\n",
       "      <td>95.0</td>\n",
       "      <td>35.0</td>\n",
       "      <td>61.0</td>\n",
       "      <td>84.0</td>\n",
       "      <td>67.0</td>\n",
       "      <td>107.0</td>\n",
       "      <td>29.0</td>\n",
       "      <td>138.0</td>\n",
       "    </tr>\n",
       "    <tr>\n",
       "      <th>11</th>\n",
       "      <td>Alex Smalley</td>\n",
       "      <td>7700</td>\n",
       "      <td>0.420736</td>\n",
       "      <td>45.3</td>\n",
       "      <td>52.300000</td>\n",
       "      <td>80.00</td>\n",
       "      <td>68.4</td>\n",
       "      <td>110.0</td>\n",
       "      <td>584.188</td>\n",
       "      <td>8.0</td>\n",
       "      <td>16.0</td>\n",
       "      <td>57.0</td>\n",
       "      <td>12.0</td>\n",
       "      <td>42.0</td>\n",
       "      <td>32.0</td>\n",
       "      <td>111.0</td>\n",
       "      <td>3.0</td>\n",
       "      <td>61.0</td>\n",
       "      <td>2.0</td>\n",
       "      <td>55.0</td>\n",
       "      <td>33.0</td>\n",
       "      <td>35.0</td>\n",
       "      <td>20.0</td>\n",
       "    </tr>\n",
       "    <tr>\n",
       "      <th>12</th>\n",
       "      <td>Ben Griffin</td>\n",
       "      <td>8700</td>\n",
       "      <td>0.414734</td>\n",
       "      <td>41.0</td>\n",
       "      <td>71.000000</td>\n",
       "      <td>50.00</td>\n",
       "      <td>79.2</td>\n",
       "      <td>52.0</td>\n",
       "      <td>911.946</td>\n",
       "      <td>46.0</td>\n",
       "      <td>77.0</td>\n",
       "      <td>52.0</td>\n",
       "      <td>71.0</td>\n",
       "      <td>89.0</td>\n",
       "      <td>90.0</td>\n",
       "      <td>56.0</td>\n",
       "      <td>66.0</td>\n",
       "      <td>54.0</td>\n",
       "      <td>61.0</td>\n",
       "      <td>67.0</td>\n",
       "      <td>95.0</td>\n",
       "      <td>22.0</td>\n",
       "      <td>116.0</td>\n",
       "    </tr>\n",
       "    <tr>\n",
       "      <th>13</th>\n",
       "      <td>Bud Cauley</td>\n",
       "      <td>7800</td>\n",
       "      <td>0.410771</td>\n",
       "      <td>31.7</td>\n",
       "      <td>59.500000</td>\n",
       "      <td>100.00</td>\n",
       "      <td>92.3</td>\n",
       "      <td>87.0</td>\n",
       "      <td>732.682</td>\n",
       "      <td>22.0</td>\n",
       "      <td>46.0</td>\n",
       "      <td>22.0</td>\n",
       "      <td>74.0</td>\n",
       "      <td>45.0</td>\n",
       "      <td>47.0</td>\n",
       "      <td>61.0</td>\n",
       "      <td>22.0</td>\n",
       "      <td>96.0</td>\n",
       "      <td>123.0</td>\n",
       "      <td>70.0</td>\n",
       "      <td>134.0</td>\n",
       "      <td>78.0</td>\n",
       "      <td>45.0</td>\n",
       "    </tr>\n",
       "    <tr>\n",
       "      <th>14</th>\n",
       "      <td>Akshay Bhatia</td>\n",
       "      <td>8000</td>\n",
       "      <td>0.410295</td>\n",
       "      <td>37.4</td>\n",
       "      <td>73.000000</td>\n",
       "      <td>60.00</td>\n",
       "      <td>78.6</td>\n",
       "      <td>30.0</td>\n",
       "      <td>931.990</td>\n",
       "      <td>96.0</td>\n",
       "      <td>118.0</td>\n",
       "      <td>46.0</td>\n",
       "      <td>153.0</td>\n",
       "      <td>9.0</td>\n",
       "      <td>6.0</td>\n",
       "      <td>10.0</td>\n",
       "      <td>22.0</td>\n",
       "      <td>160.0</td>\n",
       "      <td>140.0</td>\n",
       "      <td>157.0</td>\n",
       "      <td>55.0</td>\n",
       "      <td>54.0</td>\n",
       "      <td>156.0</td>\n",
       "    </tr>\n",
       "    <tr>\n",
       "      <th>15</th>\n",
       "      <td>Davis Thompson</td>\n",
       "      <td>8800</td>\n",
       "      <td>0.390911</td>\n",
       "      <td>46.2</td>\n",
       "      <td>17.000000</td>\n",
       "      <td>50.00</td>\n",
       "      <td>76.5</td>\n",
       "      <td>54.0</td>\n",
       "      <td>514.653</td>\n",
       "      <td>41.0</td>\n",
       "      <td>27.0</td>\n",
       "      <td>105.0</td>\n",
       "      <td>40.0</td>\n",
       "      <td>142.0</td>\n",
       "      <td>22.0</td>\n",
       "      <td>111.0</td>\n",
       "      <td>66.0</td>\n",
       "      <td>9.0</td>\n",
       "      <td>15.0</td>\n",
       "      <td>62.0</td>\n",
       "      <td>45.0</td>\n",
       "      <td>35.0</td>\n",
       "      <td>95.0</td>\n",
       "    </tr>\n",
       "    <tr>\n",
       "      <th>16</th>\n",
       "      <td>Jhonattan Vegas</td>\n",
       "      <td>7200</td>\n",
       "      <td>0.384607</td>\n",
       "      <td>49.4</td>\n",
       "      <td>58.300000</td>\n",
       "      <td>100.00</td>\n",
       "      <td>72.2</td>\n",
       "      <td>49.0</td>\n",
       "      <td>893.625</td>\n",
       "      <td>49.0</td>\n",
       "      <td>63.0</td>\n",
       "      <td>55.0</td>\n",
       "      <td>87.0</td>\n",
       "      <td>123.0</td>\n",
       "      <td>37.0</td>\n",
       "      <td>95.0</td>\n",
       "      <td>84.0</td>\n",
       "      <td>81.0</td>\n",
       "      <td>75.0</td>\n",
       "      <td>34.0</td>\n",
       "      <td>136.0</td>\n",
       "      <td>44.0</td>\n",
       "      <td>117.0</td>\n",
       "    </tr>\n",
       "    <tr>\n",
       "      <th>17</th>\n",
       "      <td>Christiaan Bezuidenhout</td>\n",
       "      <td>7500</td>\n",
       "      <td>0.377546</td>\n",
       "      <td>50.0</td>\n",
       "      <td>35.800000</td>\n",
       "      <td>90.00</td>\n",
       "      <td>71.4</td>\n",
       "      <td>70.0</td>\n",
       "      <td>432.425</td>\n",
       "      <td>142.0</td>\n",
       "      <td>162.0</td>\n",
       "      <td>142.0</td>\n",
       "      <td>24.0</td>\n",
       "      <td>14.0</td>\n",
       "      <td>134.0</td>\n",
       "      <td>157.0</td>\n",
       "      <td>22.0</td>\n",
       "      <td>160.0</td>\n",
       "      <td>136.0</td>\n",
       "      <td>168.0</td>\n",
       "      <td>43.0</td>\n",
       "      <td>116.0</td>\n",
       "      <td>52.0</td>\n",
       "    </tr>\n",
       "    <tr>\n",
       "      <th>18</th>\n",
       "      <td>Michael Kim</td>\n",
       "      <td>8300</td>\n",
       "      <td>0.374111</td>\n",
       "      <td>43.9</td>\n",
       "      <td>62.000000</td>\n",
       "      <td>60.00</td>\n",
       "      <td>68.2</td>\n",
       "      <td>55.0</td>\n",
       "      <td>1175.974</td>\n",
       "      <td>19.0</td>\n",
       "      <td>81.0</td>\n",
       "      <td>50.0</td>\n",
       "      <td>10.0</td>\n",
       "      <td>118.0</td>\n",
       "      <td>141.0</td>\n",
       "      <td>145.0</td>\n",
       "      <td>22.0</td>\n",
       "      <td>54.0</td>\n",
       "      <td>122.0</td>\n",
       "      <td>93.0</td>\n",
       "      <td>110.0</td>\n",
       "      <td>105.0</td>\n",
       "      <td>19.0</td>\n",
       "    </tr>\n",
       "    <tr>\n",
       "      <th>19</th>\n",
       "      <td>Mackenzie Hughes</td>\n",
       "      <td>7900</td>\n",
       "      <td>0.364252</td>\n",
       "      <td>47.2</td>\n",
       "      <td>57.500000</td>\n",
       "      <td>60.00</td>\n",
       "      <td>72.2</td>\n",
       "      <td>48.0</td>\n",
       "      <td>816.081</td>\n",
       "      <td>90.0</td>\n",
       "      <td>132.0</td>\n",
       "      <td>127.0</td>\n",
       "      <td>21.0</td>\n",
       "      <td>85.0</td>\n",
       "      <td>120.0</td>\n",
       "      <td>56.0</td>\n",
       "      <td>84.0</td>\n",
       "      <td>81.0</td>\n",
       "      <td>136.0</td>\n",
       "      <td>89.0</td>\n",
       "      <td>122.0</td>\n",
       "      <td>89.0</td>\n",
       "      <td>64.0</td>\n",
       "    </tr>\n",
       "  </tbody>\n",
       "</table>\n",
       "</div>"
      ],
      "text/plain": [
       "                     PLAYER  SALARY  PROBABILITY  RECENT_FORM  COURSE_HISTORY  \\\n",
       "0         Scottie Scheffler   13700     0.820055          7.4       30.400000   \n",
       "1             Daniel Berger    9900     0.742644         31.4       28.400000   \n",
       "2                Si Woo Kim    8900     0.706170         41.7       70.200000   \n",
       "3                 Aaron Rai    9100     0.625534         31.3       37.300000   \n",
       "4                J.J. Spaun    8400     0.599289         37.0       83.300000   \n",
       "5                  Kevin Yu    7400     0.588849         47.9       61.000000   \n",
       "6               Ryan Gerard    7900     0.587187         31.1       60.551546   \n",
       "7          Hideki Matsuyama    9600     0.572959         36.6       60.551546   \n",
       "8           Tommy Fleetwood   10000     0.534250         20.5       62.500000   \n",
       "9             Jordan Spieth    9800     0.515307         38.4       26.600000   \n",
       "10         Maverick McNealy    9500     0.460984         37.3       42.200000   \n",
       "11             Alex Smalley    7700     0.420736         45.3       52.300000   \n",
       "12              Ben Griffin    8700     0.414734         41.0       71.000000   \n",
       "13               Bud Cauley    7800     0.410771         31.7       59.500000   \n",
       "14            Akshay Bhatia    8000     0.410295         37.4       73.000000   \n",
       "15           Davis Thompson    8800     0.390911         46.2       17.000000   \n",
       "16          Jhonattan Vegas    7200     0.384607         49.4       58.300000   \n",
       "17  Christiaan Bezuidenhout    7500     0.377546         50.0       35.800000   \n",
       "18              Michael Kim    8300     0.374111         43.9       62.000000   \n",
       "19         Mackenzie Hughes    7900     0.364252         47.2       57.500000   \n",
       "\n",
       "    VEGAS_ODDS  CUT_PERCENTAGE  OWGR_RANK  FEDEX_CUP_POINTS  SGTTG_RANK  \\\n",
       "0         2.25           100.0        1.0          3218.467         1.0   \n",
       "1        20.00            85.0       25.0          1473.408         4.0   \n",
       "2        40.00            72.2       59.0           759.233        14.0   \n",
       "3        30.00            85.7       28.0           785.480        21.0   \n",
       "4        50.00            81.0       27.0          1358.687        17.0   \n",
       "5        90.00            66.7       78.0           891.378        18.0   \n",
       "6        70.00            92.9       74.0           741.012        34.0   \n",
       "7        25.00            78.6        7.0          1058.794        15.0   \n",
       "8        25.00           100.0       14.0          1272.148        10.0   \n",
       "9        25.00            84.6       51.0           598.038        36.0   \n",
       "10       30.00            77.3       11.0          2139.422        54.0   \n",
       "11       80.00            68.4      110.0           584.188         8.0   \n",
       "12       50.00            79.2       52.0           911.946        46.0   \n",
       "13      100.00            92.3       87.0           732.682        22.0   \n",
       "14       60.00            78.6       30.0           931.990        96.0   \n",
       "15       50.00            76.5       54.0           514.653        41.0   \n",
       "16      100.00            72.2       49.0           893.625        49.0   \n",
       "17       90.00            71.4       70.0           432.425       142.0   \n",
       "18       60.00            68.2       55.0          1175.974        19.0   \n",
       "19       60.00            72.2       48.0           816.081        90.0   \n",
       "\n",
       "    SGOTT_RANK  SGAPR_RANK  SGATG_RANK  SGP_RANK  BIRDIES_RANK  PAR_3_RANK  \\\n",
       "0          2.0         1.0        55.0      15.0           3.0        25.0   \n",
       "1         17.0        15.0        34.0      76.0          67.0       145.0   \n",
       "2         38.0        45.0        14.0     129.0          17.0       153.0   \n",
       "3         35.0        20.0       107.0      96.0          27.0       179.0   \n",
       "4         55.0         4.0       130.0      80.0          62.0        40.0   \n",
       "5          9.0        14.0       138.0     141.0          34.0        25.0   \n",
       "6         66.0        26.0        91.0      30.0          49.0        33.0   \n",
       "7        120.0        31.0         5.0      63.0          44.0        10.0   \n",
       "8         51.0        12.0        22.0      68.0          55.0       161.0   \n",
       "9         45.0        71.0        44.0      57.0          56.0       111.0   \n",
       "10        54.0        34.0       140.0      41.0          51.0        95.0   \n",
       "11        16.0        57.0        12.0      42.0          32.0       111.0   \n",
       "12        77.0        52.0        71.0      89.0          90.0        56.0   \n",
       "13        46.0        22.0        74.0      45.0          47.0        61.0   \n",
       "14       118.0        46.0       153.0       9.0           6.0        10.0   \n",
       "15        27.0       105.0        40.0     142.0          22.0       111.0   \n",
       "16        63.0        55.0        87.0     123.0          37.0        95.0   \n",
       "17       162.0       142.0        24.0      14.0         134.0       157.0   \n",
       "18        81.0        50.0        10.0     118.0         141.0       145.0   \n",
       "19       132.0       127.0        21.0      85.0         120.0        56.0   \n",
       "\n",
       "    PAR_4_RANK  PAR_5_RANK  TOTAL_DRIVING_RANK  DRIVING_DISTANCE_RANK  \\\n",
       "0          1.0         5.0                14.0                   77.0   \n",
       "1          6.0        70.0                11.0                   92.0   \n",
       "2         11.0         1.0                70.0                  137.0   \n",
       "3          6.0        25.0                75.0                  169.0   \n",
       "4         35.0        70.0                 6.0                   50.0   \n",
       "5         66.0        30.0                13.0                   46.0   \n",
       "6         11.0        96.0                58.0                   78.0   \n",
       "7         48.0        40.0               161.0                   96.0   \n",
       "8         11.0        81.0                66.0                  129.0   \n",
       "9         48.0        25.0                34.0                   57.0   \n",
       "10        35.0        61.0                84.0                   67.0   \n",
       "11         3.0        61.0                 2.0                   55.0   \n",
       "12        66.0        54.0                61.0                   67.0   \n",
       "13        22.0        96.0               123.0                   70.0   \n",
       "14        22.0       160.0               140.0                  157.0   \n",
       "15        66.0         9.0                15.0                   62.0   \n",
       "16        84.0        81.0                75.0                   34.0   \n",
       "17        22.0       160.0               136.0                  168.0   \n",
       "18        22.0        54.0               122.0                   93.0   \n",
       "19        84.0        81.0               136.0                   89.0   \n",
       "\n",
       "    DRIVING_ACCURACY_RANK  GIR_RANK  SCRAMBLING_RANK  \n",
       "0                    27.0       3.0              3.0  \n",
       "1                     9.0      33.0             13.0  \n",
       "2                    30.0      61.0             58.0  \n",
       "3                     1.0      16.0            131.0  \n",
       "4                    46.0      24.0            124.0  \n",
       "5                    57.0      15.0            146.0  \n",
       "6                    81.0      90.0             48.0  \n",
       "7                   139.0      83.0              4.0  \n",
       "8                    35.0     114.0             69.0  \n",
       "9                    85.0      82.0             47.0  \n",
       "10                  107.0      29.0            138.0  \n",
       "11                   33.0      35.0             20.0  \n",
       "12                   95.0      22.0            116.0  \n",
       "13                  134.0      78.0             45.0  \n",
       "14                   55.0      54.0            156.0  \n",
       "15                   45.0      35.0             95.0  \n",
       "16                  136.0      44.0            117.0  \n",
       "17                   43.0     116.0             52.0  \n",
       "18                  110.0     105.0             19.0  \n",
       "19                  122.0      89.0             64.0  "
      ]
     },
     "execution_count": 26,
     "metadata": {},
     "output_type": "execute_result"
    }
   ],
   "source": [
    "# === Prepare test data (this week's players) ===\n",
    "\n",
    "# Select and standardize features using the same scaler as training\n",
    "X_test = this_week[feature_cols]\n",
    "X_test_scaled = scaler.transform(X_test)\n",
    "\n",
    "# === Predict probabilities for Top 20 finish ===\n",
    "# CalibratedClassifierCV returns well-calibrated probabilities\n",
    "this_week[\"PROBABILITY\"] = final_model.predict_proba(X_test_scaled)[:, 1]\n",
    "\n",
    "# === Sort results by highest predicted probability ===\n",
    "this_week_sorted = this_week.sort_values(by=\"PROBABILITY\", ascending=False).reset_index(drop=True)\n",
    "\n",
    "# === Define final column order explicitly ===\n",
    "columns_to_show = [\n",
    "    \"PLAYER\", \"SALARY\", \"PROBABILITY\",\n",
    "    \"RECENT_FORM\", \"COURSE_HISTORY\", \"VEGAS_ODDS\", \"CUT_PERCENTAGE\", \n",
    "    \"OWGR_RANK\", \"FEDEX_CUP_POINTS\",\n",
    "\n",
    "    # SG stats\n",
    "    \"SGTTG_RANK\", \"SGOTT_RANK\", \"SGAPR_RANK\", \"SGATG_RANK\", \"SGP_RANK\",\n",
    "\n",
    "    # Scoring/Performance\n",
    "    \"BIRDIES_RANK\", \"PAR_3_RANK\", \"PAR_4_RANK\", \"PAR_5_RANK\",\n",
    "\n",
    "    # Driving / Ball Striking\n",
    "    \"TOTAL_DRIVING_RANK\", \"DRIVING_DISTANCE_RANK\", \"DRIVING_ACCURACY_RANK\",\n",
    "    \"GIR_RANK\", \"SCRAMBLING_RANK\"\n",
    "]\n",
    "\n",
    "# Keep only columns that exist in the dataframe\n",
    "columns_to_show = [col for col in columns_to_show if col in this_week_sorted.columns]\n",
    "\n",
    "# Final dataframe for display/export\n",
    "export_df = this_week_sorted[columns_to_show].copy()\n",
    "\n",
    "# Preview top 20\n",
    "export_df.head(20)\n"
   ]
  },
  {
   "cell_type": "markdown",
   "id": "8641f78e",
   "metadata": {},
   "source": [
    "### Save to CSV"
   ]
  },
  {
   "cell_type": "code",
   "execution_count": 75,
   "id": "323933e9",
   "metadata": {},
   "outputs": [
    {
     "name": "stdout",
     "output_type": "stream",
     "text": [
      "✅ Exported to data/Charles_Schwab_Challenge_2025-05-25.csv\n"
     ]
    }
   ],
   "source": [
    "# Define columns to round (FedEx + stats)\n",
    "columns_to_round = [\n",
    "    \"FEDEX_CUP_POINTS\",\n",
    "    \"SGTTG_RANK\", \"SGOTT_RANK\", \"SGAPR_RANK\", \"SGATG_RANK\", \"SGP_RANK\",\n",
    "    \"BIRDIES_RANK\", \"PAR_3_RANK\", \"PAR_4_RANK\", \"PAR_5_RANK\",\n",
    "    \"TOTAL_DRIVING_RANK\", \"DRIVING_DISTANCE_RANK\", \"DRIVING_ACCURACY_RANK\",\n",
    "    \"GIR_RANK\", \"SCRAMBLING_RANK\"\n",
    "]\n",
    "\n",
    "columns_to_round_1 = [\n",
    "    \"COURSE_HISTORY\", \"CUT_PERCENTAGE\"\n",
    "]\n",
    "\n",
    "# Round only the selected columns to 0 decimal places\n",
    "export_df[columns_to_round] = export_df[columns_to_round].round(0).astype(\"Int64\")\n",
    "# Round only the selected columns to 1 decimal places\n",
    "export_df[columns_to_round_1] = export_df[columns_to_round_1].round(1)\n",
    "\n",
    "# Export to CSV\n",
    "filename = f\"data/{tournament_config['new']['name'].replace(' ', '_')}_{tournament_config['new']['ending_date'].date()}.csv\"\n",
    "export_df.to_csv(filename, index=False)\n",
    "print(f\"✅ Exported to {filename}\")"
   ]
  }
 ],
 "metadata": {
  "kernelspec": {
   "display_name": "Python 3",
   "language": "python",
   "name": "python3"
  },
  "language_info": {
   "codemirror_mode": {
    "name": "ipython",
    "version": 3
   },
   "file_extension": ".py",
   "mimetype": "text/x-python",
   "name": "python",
   "nbconvert_exporter": "python",
   "pygments_lexer": "ipython3",
   "version": "3.13.3"
  }
 },
 "nbformat": 4,
 "nbformat_minor": 5
}
