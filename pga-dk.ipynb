{
 "cells": [
  {
   "cell_type": "markdown",
   "id": "51850cd5",
   "metadata": {},
   "source": [
    "## PGA Draftkings Notebook\n",
    "Use [PGA Website](https://www.pgatour.com/tournaments/schedule.html) to look up tournament info and fill out first USER INPUT block below. (Fetch/XHR from Network tab, Paylod sub-tab)\n",
    "\n",
    "Looks like the tournament ID is also in the address bar."
   ]
  },
  {
   "cell_type": "markdown",
   "id": "cc589d19",
   "metadata": {},
   "source": [
    "### User Input"
   ]
  },
  {
   "cell_type": "code",
   "execution_count": 1,
   "id": "5b16fd89",
   "metadata": {},
   "outputs": [],
   "source": [
    "# === USER INPUTS ===\n",
    "# Old Tournament\n",
    "old_tournament_name = \"Rocket Classic\"\n",
    "tournament_date = \"6/29/2025\"  # Ending date of tournament\n",
    "old_course = \"Detroit Golf Club\"\n",
    "tournament_id = \"R2025524\"  # Tournament ID from the PGA Tour API - Also visible in the URL of the tournament page\n",
    "\n",
    "# New Tournament\n",
    "new_tournament_name = \"John Deere Classic\"\n",
    "new_ending_date = \"7/6/2025\"\n",
    "new_course = \"TPC Deere Run\"\n",
    "new_season = 2025\n",
    "\n",
    "\n",
    "# === LIBRARIES AND VARIABLES ===\n",
    "# Import necessary libraries\n",
    "import requests\n",
    "import pandas as pd\n",
    "from datetime import datetime\n",
    "import sqlite3 as sql\n",
    "import numpy as np\n",
    "from numpy import nan\n",
    "import os\n",
    "import importlib\n",
    "import utils.db_utils\n",
    "from utils.db_utils import TOURNAMENT_NAME_MAP, PLAYER_NAME_MAP\n",
    "\n",
    "# === TOURNAMENT CONFIG ===\n",
    "tournament_config = {\n",
    "    \"old\": {\n",
    "        \"name\": old_tournament_name,\n",
    "        \"date\": tournament_date,\n",
    "        \"course\": old_course,\n",
    "        \"id\": tournament_id\n",
    "    },\n",
    "    \"new\": {\n",
    "        \"name\": new_tournament_name,\n",
    "        \"course\": new_course,\n",
    "        \"season\": new_season,\n",
    "        \"ending_date\": pd.to_datetime(new_ending_date, format=\"%m/%d/%Y\"),\n",
    "        \"quoted_course\": f'\"{new_course}\"',\n",
    "        \"quoted_name\": f\"'{new_tournament_name}'\"\n",
    "    }\n",
    "}\n",
    "\n",
    "this_week_key = str(tournament_config[\"new\"][\"ending_date\"].date())\n",
    "\n",
    "# Create a minimal one-row history DataFrame\n",
    "this_week_history = pd.DataFrame([{\n",
    "    \"SEASON\": tournament_config[\"new\"][\"season\"],\n",
    "    \"TOURNAMENT\": tournament_config[\"new\"][\"name\"],\n",
    "    \"ENDING_DATE\": tournament_config[\"new\"][\"ending_date\"],\n",
    "    \"COURSE\": tournament_config[\"new\"][\"course\"],\n",
    "    \"TOURN_ID\": None\n",
    "}])"
   ]
  },
  {
   "cell_type": "markdown",
   "id": "cd739282",
   "metadata": {},
   "source": [
    "### Update Database"
   ]
  },
  {
   "cell_type": "markdown",
   "id": "cebfc2dc",
   "metadata": {},
   "source": [
    "#### Old Tournament"
   ]
  },
  {
   "cell_type": "code",
   "execution_count": 2,
   "id": "31b12dc0",
   "metadata": {},
   "outputs": [
    {
     "name": "stdout",
     "output_type": "stream",
     "text": [
      "📦 Fetching results for tournament ID R2025524 (Rocket Classic), year: 20250\n",
      "✅ 156 new rows added for 'Rocket Classic'\n"
     ]
    },
    {
     "data": {
      "text/html": [
       "<div>\n",
       "<style scoped>\n",
       "    .dataframe tbody tr th:only-of-type {\n",
       "        vertical-align: middle;\n",
       "    }\n",
       "\n",
       "    .dataframe tbody tr th {\n",
       "        vertical-align: top;\n",
       "    }\n",
       "\n",
       "    .dataframe thead th {\n",
       "        text-align: right;\n",
       "    }\n",
       "</style>\n",
       "<table border=\"1\" class=\"dataframe\">\n",
       "  <thead>\n",
       "    <tr style=\"text-align: right;\">\n",
       "      <th></th>\n",
       "      <th>SEASON</th>\n",
       "      <th>ENDING_DATE</th>\n",
       "      <th>TOURN_ID</th>\n",
       "      <th>TOURNAMENT</th>\n",
       "      <th>COURSE</th>\n",
       "      <th>PLAYER</th>\n",
       "      <th>POS</th>\n",
       "      <th>FINAL_POS</th>\n",
       "      <th>ROUNDS:1</th>\n",
       "      <th>ROUNDS:2</th>\n",
       "      <th>ROUNDS:3</th>\n",
       "      <th>ROUNDS:4</th>\n",
       "      <th>OFFICIAL_MONEY</th>\n",
       "      <th>FEDEX_CUP_POINTS</th>\n",
       "    </tr>\n",
       "  </thead>\n",
       "  <tbody>\n",
       "    <tr>\n",
       "      <th>6</th>\n",
       "      <td>2025</td>\n",
       "      <td>2025-06-29</td>\n",
       "      <td>R2025524</td>\n",
       "      <td>Rocket Classic</td>\n",
       "      <td>Detroit Golf Club</td>\n",
       "      <td>Aldrich Potgieter</td>\n",
       "      <td>1</td>\n",
       "      <td>1</td>\n",
       "      <td>-10</td>\n",
       "      <td>-2</td>\n",
       "      <td>-7</td>\n",
       "      <td>-3</td>\n",
       "      <td>$1,728,000.00</td>\n",
       "      <td>500.000</td>\n",
       "    </tr>\n",
       "    <tr>\n",
       "      <th>36</th>\n",
       "      <td>2025</td>\n",
       "      <td>2025-06-29</td>\n",
       "      <td>R2025524</td>\n",
       "      <td>Rocket Classic</td>\n",
       "      <td>Detroit Golf Club</td>\n",
       "      <td>Chris Kirk</td>\n",
       "      <td>T2</td>\n",
       "      <td>2</td>\n",
       "      <td>-7</td>\n",
       "      <td>-7</td>\n",
       "      <td>-3</td>\n",
       "      <td>-5</td>\n",
       "      <td>$854,400.00</td>\n",
       "      <td>245.000</td>\n",
       "    </tr>\n",
       "    <tr>\n",
       "      <th>98</th>\n",
       "      <td>2025</td>\n",
       "      <td>2025-06-29</td>\n",
       "      <td>R2025524</td>\n",
       "      <td>Rocket Classic</td>\n",
       "      <td>Detroit Golf Club</td>\n",
       "      <td>Max Greyserman</td>\n",
       "      <td>T2</td>\n",
       "      <td>2</td>\n",
       "      <td>-9</td>\n",
       "      <td>-2</td>\n",
       "      <td>-6</td>\n",
       "      <td>-5</td>\n",
       "      <td>$854,400.00</td>\n",
       "      <td>245.000</td>\n",
       "    </tr>\n",
       "    <tr>\n",
       "      <th>67</th>\n",
       "      <td>2025</td>\n",
       "      <td>2025-06-29</td>\n",
       "      <td>R2025524</td>\n",
       "      <td>Rocket Classic</td>\n",
       "      <td>Detroit Golf Club</td>\n",
       "      <td>Jake Knapp</td>\n",
       "      <td>T4</td>\n",
       "      <td>4</td>\n",
       "      <td>E</td>\n",
       "      <td>-11</td>\n",
       "      <td>-6</td>\n",
       "      <td>-4</td>\n",
       "      <td>$432,000.00</td>\n",
       "      <td>122.500</td>\n",
       "    </tr>\n",
       "    <tr>\n",
       "      <th>103</th>\n",
       "      <td>2025</td>\n",
       "      <td>2025-06-29</td>\n",
       "      <td>R2025524</td>\n",
       "      <td>Rocket Classic</td>\n",
       "      <td>Detroit Golf Club</td>\n",
       "      <td>Michael Thorbjornsen</td>\n",
       "      <td>T4</td>\n",
       "      <td>4</td>\n",
       "      <td>-7</td>\n",
       "      <td>-5</td>\n",
       "      <td>-4</td>\n",
       "      <td>-5</td>\n",
       "      <td>$432,000.00</td>\n",
       "      <td>122.500</td>\n",
       "    </tr>\n",
       "  </tbody>\n",
       "</table>\n",
       "</div>"
      ],
      "text/plain": [
       "     SEASON ENDING_DATE  TOURN_ID      TOURNAMENT             COURSE  \\\n",
       "6      2025  2025-06-29  R2025524  Rocket Classic  Detroit Golf Club   \n",
       "36     2025  2025-06-29  R2025524  Rocket Classic  Detroit Golf Club   \n",
       "98     2025  2025-06-29  R2025524  Rocket Classic  Detroit Golf Club   \n",
       "67     2025  2025-06-29  R2025524  Rocket Classic  Detroit Golf Club   \n",
       "103    2025  2025-06-29  R2025524  Rocket Classic  Detroit Golf Club   \n",
       "\n",
       "                   PLAYER POS  FINAL_POS ROUNDS:1 ROUNDS:2 ROUNDS:3 ROUNDS:4  \\\n",
       "6       Aldrich Potgieter   1          1      -10       -2       -7       -3   \n",
       "36             Chris Kirk  T2          2       -7       -7       -3       -5   \n",
       "98         Max Greyserman  T2          2       -9       -2       -6       -5   \n",
       "67             Jake Knapp  T4          4        E      -11       -6       -4   \n",
       "103  Michael Thorbjornsen  T4          4       -7       -5       -4       -5   \n",
       "\n",
       "    OFFICIAL_MONEY FEDEX_CUP_POINTS  \n",
       "6    $1,728,000.00          500.000  \n",
       "36     $854,400.00          245.000  \n",
       "98     $854,400.00          245.000  \n",
       "67     $432,000.00          122.500  \n",
       "103    $432,000.00          122.500  "
      ]
     },
     "execution_count": 2,
     "metadata": {},
     "output_type": "execute_result"
    }
   ],
   "source": [
    "importlib.reload(utils.db_utils)  # Only needed if you're actively editing db_utils.py\n",
    "from utils.db_utils import update_tournament_results\n",
    "\n",
    "# Change these each year!!\n",
    "season = 2025\n",
    "year = 20250  # Unique GraphQL year distinguishing number in case of multiple per year\n",
    "\n",
    "# Run the update\n",
    "db_path = \"data/golf.db\"  # Or use os.path.join(\"data\", \"golf.db\")\n",
    "tournDf = update_tournament_results(tournament_config, db_path, season, year)\n",
    "\n",
    "# Show just the most recent tournament added for confirmation\n",
    "from sqlalchemy import create_engine\n",
    "\n",
    "engine = create_engine(f\"sqlite:///{db_path}\")\n",
    "\n",
    "query = f\"\"\"\n",
    "SELECT *\n",
    "FROM tournaments\n",
    "WHERE TOURN_ID = '{tournament_config['old']['id']}'\n",
    "  AND ENDING_DATE = '{datetime.strptime(tournament_config['old']['date'], '%m/%d/%Y').date()}'\n",
    "\"\"\"\n",
    "\n",
    "recent = pd.read_sql(query, engine)\n",
    "engine.dispose()\n",
    "recent.sort_values(by='FINAL_POS').head()"
   ]
  },
  {
   "cell_type": "markdown",
   "id": "fb1dcb69",
   "metadata": {},
   "source": [
    "#### Stats"
   ]
  },
  {
   "cell_type": "code",
   "execution_count": 3,
   "id": "0cf3acf5",
   "metadata": {},
   "outputs": [
    {
     "name": "stdout",
     "output_type": "stream",
     "text": [
      "✅ Overwrote stats for season 2025 with 998 rows.\n"
     ]
    },
    {
     "data": {
      "text/html": [
       "<div>\n",
       "<style scoped>\n",
       "    .dataframe tbody tr th:only-of-type {\n",
       "        vertical-align: middle;\n",
       "    }\n",
       "\n",
       "    .dataframe tbody tr th {\n",
       "        vertical-align: top;\n",
       "    }\n",
       "\n",
       "    .dataframe thead th {\n",
       "        text-align: right;\n",
       "    }\n",
       "</style>\n",
       "<table border=\"1\" class=\"dataframe\">\n",
       "  <thead>\n",
       "    <tr style=\"text-align: right;\">\n",
       "      <th></th>\n",
       "      <th>PLAYER</th>\n",
       "      <th>SGTTG_RANK</th>\n",
       "      <th>SGTTG</th>\n",
       "      <th>SGOTT_RANK</th>\n",
       "      <th>SGOTT</th>\n",
       "      <th>SGAPR_RANK</th>\n",
       "      <th>SGAPR</th>\n",
       "      <th>SGATG_RANK</th>\n",
       "      <th>SGATG</th>\n",
       "      <th>SGP_RANK</th>\n",
       "      <th>...</th>\n",
       "      <th>DRIVING_DISTANCE</th>\n",
       "      <th>DRIVING_ACCURACY_RANK</th>\n",
       "      <th>DRIVING_ACCURACY</th>\n",
       "      <th>GIR_RANK</th>\n",
       "      <th>GIR</th>\n",
       "      <th>SCRAMBLING_RANK</th>\n",
       "      <th>SCRAMBLING</th>\n",
       "      <th>OWGR_RANK</th>\n",
       "      <th>OWGR</th>\n",
       "      <th>SEASON</th>\n",
       "    </tr>\n",
       "  </thead>\n",
       "  <tbody>\n",
       "    <tr>\n",
       "      <th>0</th>\n",
       "      <td>A.J. Ewart</td>\n",
       "      <td>NaN</td>\n",
       "      <td>NaN</td>\n",
       "      <td>NaN</td>\n",
       "      <td>NaN</td>\n",
       "      <td>NaN</td>\n",
       "      <td>NaN</td>\n",
       "      <td>NaN</td>\n",
       "      <td>NaN</td>\n",
       "      <td>NaN</td>\n",
       "      <td>...</td>\n",
       "      <td>NaN</td>\n",
       "      <td>NaN</td>\n",
       "      <td>NaN</td>\n",
       "      <td>NaN</td>\n",
       "      <td>NaN</td>\n",
       "      <td>NaN</td>\n",
       "      <td>NaN</td>\n",
       "      <td>618</td>\n",
       "      <td>.1909</td>\n",
       "      <td>2025</td>\n",
       "    </tr>\n",
       "    <tr>\n",
       "      <th>1</th>\n",
       "      <td>Aaron Baddeley</td>\n",
       "      <td>167.0</td>\n",
       "      <td>-1.150</td>\n",
       "      <td>170.0</td>\n",
       "      <td>-1.243</td>\n",
       "      <td>152.0</td>\n",
       "      <td>-0.369</td>\n",
       "      <td>8.0</td>\n",
       "      <td>0.463</td>\n",
       "      <td>153.0</td>\n",
       "      <td>...</td>\n",
       "      <td>289.7</td>\n",
       "      <td>106.0</td>\n",
       "      <td>58.07%</td>\n",
       "      <td>168.0</td>\n",
       "      <td>60.51%</td>\n",
       "      <td>79.0</td>\n",
       "      <td>60.46%</td>\n",
       "      <td>483</td>\n",
       "      <td>.2741</td>\n",
       "      <td>2025</td>\n",
       "    </tr>\n",
       "    <tr>\n",
       "      <th>2</th>\n",
       "      <td>Aaron Cockerill</td>\n",
       "      <td>NaN</td>\n",
       "      <td>NaN</td>\n",
       "      <td>NaN</td>\n",
       "      <td>NaN</td>\n",
       "      <td>NaN</td>\n",
       "      <td>NaN</td>\n",
       "      <td>NaN</td>\n",
       "      <td>NaN</td>\n",
       "      <td>NaN</td>\n",
       "      <td>...</td>\n",
       "      <td>NaN</td>\n",
       "      <td>NaN</td>\n",
       "      <td>NaN</td>\n",
       "      <td>NaN</td>\n",
       "      <td>NaN</td>\n",
       "      <td>NaN</td>\n",
       "      <td>NaN</td>\n",
       "      <td>331</td>\n",
       "      <td>.4285</td>\n",
       "      <td>2025</td>\n",
       "    </tr>\n",
       "    <tr>\n",
       "      <th>3</th>\n",
       "      <td>Aaron Rai</td>\n",
       "      <td>26.0</td>\n",
       "      <td>0.769</td>\n",
       "      <td>21.0</td>\n",
       "      <td>0.407</td>\n",
       "      <td>46.0</td>\n",
       "      <td>0.280</td>\n",
       "      <td>66.0</td>\n",
       "      <td>0.082</td>\n",
       "      <td>114.0</td>\n",
       "      <td>...</td>\n",
       "      <td>287.3</td>\n",
       "      <td>1.0</td>\n",
       "      <td>74.04%</td>\n",
       "      <td>21.0</td>\n",
       "      <td>69.44%</td>\n",
       "      <td>114.0</td>\n",
       "      <td>58.77%</td>\n",
       "      <td>34</td>\n",
       "      <td>2.6617</td>\n",
       "      <td>2025</td>\n",
       "    </tr>\n",
       "    <tr>\n",
       "      <th>4</th>\n",
       "      <td>Aaron Wilkin</td>\n",
       "      <td>NaN</td>\n",
       "      <td>NaN</td>\n",
       "      <td>NaN</td>\n",
       "      <td>NaN</td>\n",
       "      <td>NaN</td>\n",
       "      <td>NaN</td>\n",
       "      <td>NaN</td>\n",
       "      <td>NaN</td>\n",
       "      <td>NaN</td>\n",
       "      <td>...</td>\n",
       "      <td>NaN</td>\n",
       "      <td>NaN</td>\n",
       "      <td>NaN</td>\n",
       "      <td>NaN</td>\n",
       "      <td>NaN</td>\n",
       "      <td>NaN</td>\n",
       "      <td>NaN</td>\n",
       "      <td>837</td>\n",
       "      <td>.1142</td>\n",
       "      <td>2025</td>\n",
       "    </tr>\n",
       "  </tbody>\n",
       "</table>\n",
       "<p>5 rows × 32 columns</p>\n",
       "</div>"
      ],
      "text/plain": [
       "            PLAYER  SGTTG_RANK   SGTTG  SGOTT_RANK   SGOTT  SGAPR_RANK  \\\n",
       "0       A.J. Ewart         NaN     NaN         NaN     NaN         NaN   \n",
       "1   Aaron Baddeley       167.0  -1.150       170.0  -1.243       152.0   \n",
       "2  Aaron Cockerill         NaN     NaN         NaN     NaN         NaN   \n",
       "3        Aaron Rai        26.0   0.769        21.0   0.407        46.0   \n",
       "4     Aaron Wilkin         NaN     NaN         NaN     NaN         NaN   \n",
       "\n",
       "    SGAPR  SGATG_RANK  SGATG  SGP_RANK  ... DRIVING_DISTANCE  \\\n",
       "0     NaN         NaN    NaN       NaN  ...              NaN   \n",
       "1  -0.369         8.0  0.463     153.0  ...            289.7   \n",
       "2     NaN         NaN    NaN       NaN  ...              NaN   \n",
       "3   0.280        66.0  0.082     114.0  ...            287.3   \n",
       "4     NaN         NaN    NaN       NaN  ...              NaN   \n",
       "\n",
       "   DRIVING_ACCURACY_RANK DRIVING_ACCURACY  GIR_RANK     GIR  SCRAMBLING_RANK  \\\n",
       "0                    NaN              NaN       NaN     NaN              NaN   \n",
       "1                  106.0           58.07%     168.0  60.51%             79.0   \n",
       "2                    NaN              NaN       NaN     NaN              NaN   \n",
       "3                    1.0           74.04%      21.0  69.44%            114.0   \n",
       "4                    NaN              NaN       NaN     NaN              NaN   \n",
       "\n",
       "  SCRAMBLING  OWGR_RANK    OWGR  SEASON  \n",
       "0        NaN        618   .1909    2025  \n",
       "1     60.46%        483   .2741    2025  \n",
       "2        NaN        331   .4285    2025  \n",
       "3     58.77%         34  2.6617    2025  \n",
       "4        NaN        837   .1142    2025  \n",
       "\n",
       "[5 rows x 32 columns]"
      ]
     },
     "execution_count": 3,
     "metadata": {},
     "output_type": "execute_result"
    }
   ],
   "source": [
    "importlib.reload(utils.db_utils)\n",
    "from utils.db_utils import update_season_stats  # <- This line is essential\n",
    "\n",
    "# Change these each year!!\n",
    "statsYear = 2025\n",
    "\n",
    "stats_df = update_season_stats(statsYear, db_path)\n",
    "stats_df.head()"
   ]
  },
  {
   "cell_type": "markdown",
   "id": "e4d0572b",
   "metadata": {},
   "source": [
    "#### Odds\n",
    "Not usually needed for weekly routine."
   ]
  },
  {
   "cell_type": "markdown",
   "id": "ed73bb90",
   "metadata": {},
   "source": [
    "**Manual Fix! Odds name cleanup (only needed when joins fail)**\n",
    "\n",
    "Make sure to update the dictionaries in db_utils.py if new names need to be added."
   ]
  },
  {
   "cell_type": "code",
   "execution_count": 30,
   "id": "f47573f7",
   "metadata": {},
   "outputs": [
    {
     "name": "stdout",
     "output_type": "stream",
     "text": [
      "ℹ️ No odds rows required name cleanup.\n"
     ]
    },
    {
     "data": {
      "text/html": [
       "<div>\n",
       "<style scoped>\n",
       "    .dataframe tbody tr th:only-of-type {\n",
       "        vertical-align: middle;\n",
       "    }\n",
       "\n",
       "    .dataframe tbody tr th {\n",
       "        vertical-align: top;\n",
       "    }\n",
       "\n",
       "    .dataframe thead th {\n",
       "        text-align: right;\n",
       "    }\n",
       "</style>\n",
       "<table border=\"1\" class=\"dataframe\">\n",
       "  <thead>\n",
       "    <tr style=\"text-align: right;\">\n",
       "      <th></th>\n",
       "      <th>SEASON</th>\n",
       "      <th>TOURNAMENT</th>\n",
       "      <th>ENDING_DATE</th>\n",
       "      <th>PLAYER</th>\n",
       "      <th>ODDS</th>\n",
       "      <th>VEGAS_ODDS</th>\n",
       "      <th>TOURNAMENT_ORIG</th>\n",
       "      <th>PLAYER_ORIG</th>\n",
       "    </tr>\n",
       "  </thead>\n",
       "  <tbody>\n",
       "  </tbody>\n",
       "</table>\n",
       "</div>"
      ],
      "text/plain": [
       "Empty DataFrame\n",
       "Columns: [SEASON, TOURNAMENT, ENDING_DATE, PLAYER, ODDS, VEGAS_ODDS, TOURNAMENT_ORIG, PLAYER_ORIG]\n",
       "Index: []"
      ]
     },
     "execution_count": 30,
     "metadata": {},
     "output_type": "execute_result"
    }
   ],
   "source": [
    "importlib.reload(utils.db_utils)\n",
    "from utils.db_utils import clean_odds_names, PLAYER_NAME_MAP, TOURNAMENT_NAME_MAP\n",
    "\n",
    "db_path = \"data/golf.db\" \n",
    "updated_odds = clean_odds_names(db_path, TOURNAMENT_NAME_MAP, PLAYER_NAME_MAP)\n",
    "updated_odds.head()"
   ]
  },
  {
   "cell_type": "markdown",
   "id": "3ffcf8d8",
   "metadata": {},
   "source": [
    "**Historical Odds Updates**\n",
    "\n",
    "Only run this when loading in entire year odds at the start of each year or if corrections need to be made.  This will load in the entire year into the database and update it using the dictionary in db_utils.py."
   ]
  },
  {
   "cell_type": "code",
   "execution_count": 31,
   "id": "7b0ef77d",
   "metadata": {},
   "outputs": [
    {
     "name": "stdout",
     "output_type": "stream",
     "text": [
      "ℹ️ Historical odds for season 2023 already exist — no new rows added.\n"
     ]
    },
    {
     "data": {
      "text/html": [
       "<div>\n",
       "<style scoped>\n",
       "    .dataframe tbody tr th:only-of-type {\n",
       "        vertical-align: middle;\n",
       "    }\n",
       "\n",
       "    .dataframe tbody tr th {\n",
       "        vertical-align: top;\n",
       "    }\n",
       "\n",
       "    .dataframe thead th {\n",
       "        text-align: right;\n",
       "    }\n",
       "</style>\n",
       "<table border=\"1\" class=\"dataframe\">\n",
       "  <thead>\n",
       "    <tr style=\"text-align: right;\">\n",
       "      <th></th>\n",
       "      <th>SEASON</th>\n",
       "      <th>TOURNAMENT</th>\n",
       "      <th>ENDING_DATE</th>\n",
       "      <th>PLAYER</th>\n",
       "      <th>ODDS</th>\n",
       "      <th>VEGAS_ODDS</th>\n",
       "    </tr>\n",
       "  </thead>\n",
       "  <tbody>\n",
       "    <tr>\n",
       "      <th>4</th>\n",
       "      <td>2023</td>\n",
       "      <td>Fortinet Championship</td>\n",
       "      <td>2022-09-18</td>\n",
       "      <td>Hideki Matsuyama</td>\n",
       "      <td>18/1</td>\n",
       "      <td>18.0</td>\n",
       "    </tr>\n",
       "    <tr>\n",
       "      <th>5</th>\n",
       "      <td>2023</td>\n",
       "      <td>Fortinet Championship</td>\n",
       "      <td>2022-09-18</td>\n",
       "      <td>Max Homa</td>\n",
       "      <td>18/1</td>\n",
       "      <td>18.0</td>\n",
       "    </tr>\n",
       "    <tr>\n",
       "      <th>6</th>\n",
       "      <td>2023</td>\n",
       "      <td>Fortinet Championship</td>\n",
       "      <td>2022-09-18</td>\n",
       "      <td>Corey Conners</td>\n",
       "      <td>20/1</td>\n",
       "      <td>20.0</td>\n",
       "    </tr>\n",
       "    <tr>\n",
       "      <th>7</th>\n",
       "      <td>2023</td>\n",
       "      <td>Fortinet Championship</td>\n",
       "      <td>2022-09-18</td>\n",
       "      <td>Maverick McNealy</td>\n",
       "      <td>25/1</td>\n",
       "      <td>25.0</td>\n",
       "    </tr>\n",
       "    <tr>\n",
       "      <th>8</th>\n",
       "      <td>2023</td>\n",
       "      <td>Fortinet Championship</td>\n",
       "      <td>2022-09-18</td>\n",
       "      <td>Taylor Pendrith</td>\n",
       "      <td>25/1</td>\n",
       "      <td>25.0</td>\n",
       "    </tr>\n",
       "  </tbody>\n",
       "</table>\n",
       "</div>"
      ],
      "text/plain": [
       "   SEASON             TOURNAMENT ENDING_DATE            PLAYER  ODDS  \\\n",
       "4    2023  Fortinet Championship  2022-09-18  Hideki Matsuyama  18/1   \n",
       "5    2023  Fortinet Championship  2022-09-18          Max Homa  18/1   \n",
       "6    2023  Fortinet Championship  2022-09-18     Corey Conners  20/1   \n",
       "7    2023  Fortinet Championship  2022-09-18  Maverick McNealy  25/1   \n",
       "8    2023  Fortinet Championship  2022-09-18   Taylor Pendrith  25/1   \n",
       "\n",
       "   VEGAS_ODDS  \n",
       "4        18.0  \n",
       "5        18.0  \n",
       "6        20.0  \n",
       "7        25.0  \n",
       "8        25.0  "
      ]
     },
     "execution_count": 31,
     "metadata": {},
     "output_type": "execute_result"
    }
   ],
   "source": [
    "importlib.reload(utils.db_utils)\n",
    "from utils.db_utils import import_historical_odds\n",
    "\n",
    "oddsYear = \"2022-2023\"    # URL segment\n",
    "season = 2023             # PGA Tour season\n",
    "db_path = \"data/golf.db\"\n",
    "\n",
    "odds_df = import_historical_odds(oddsYear, season, db_path)\n",
    "odds_df.head()"
   ]
  },
  {
   "cell_type": "markdown",
   "id": "82fc5dfe",
   "metadata": {},
   "source": [
    "**Not normally needed**\n",
    "\n",
    "The code below is a way to troubleshoot the odds function that is in db_utils.py.  If it does not pull the stats correctly, we can run it outside of the db_utils.py file and explore what might be wrong with it, iterating until it works, and then using that fix to update db_utils.py.  This is not normally needed, but wanted to leave this in place as a reference because this odds website can be tricky."
   ]
  },
  {
   "cell_type": "code",
   "execution_count": 32,
   "id": "94460f27",
   "metadata": {},
   "outputs": [
    {
     "name": "stdout",
     "output_type": "stream",
     "text": [
      "📍 Detected: Safeway Open — Ending: 2020-09-13\n",
      "📍 Detected: US Open — Ending: 2020-09-20\n",
      "📍 Detected: R & C Championship — Ending: 2020-09-27\n",
      "📍 Detected: at Big Cedar Lodge - — Ending: 2020-09-22\n",
      "📍 Detected: Sanderson Farms Champ — Ending: 2020-10-04\n",
      "📍 Detected: Shriners H for C Open — Ending: 2020-10-11\n",
      "📍 Detected: The CJ Cup — Ending: 2020-10-18\n",
      "📍 Detected: ZOZO CHAMPIONSHIP — Ending: 2020-10-25\n",
      "📍 Detected: Bermuda Championship — Ending: 2020-11-01\n",
      "📍 Detected: Vivint Houston Open — Ending: 2020-11-08\n",
      "📍 Detected: The Masters — Ending: 2020-11-15\n",
      "📍 Detected: The RSM Classic — Ending: 2020-11-22\n",
      "📍 Detected: Champions for Change — Ending: 2020-11-27\n",
      "📍 Detected: Mayakoba Golf Classic — Ending: 2020-12-06\n",
      "📍 Detected: QBE Shootout — Ending: 2020-12-13\n",
      "📍 Detected: Sentry Tourn of Champions — Ending: 2021-01-10\n",
      "📍 Detected: Sony Open in Hawaii — Ending: 2021-01-17\n",
      "📍 Detected: The American Express — Ending: 2021-01-24\n",
      "📍 Detected: Abu Dhabi HSBC Champ — Ending: 2021-01-24\n",
      "📍 Detected: Farmers Insurance Open — Ending: 2021-01-31\n",
      "📍 Detected: Dubai Desert Classic — Ending: 2021-01-31\n",
      "📍 Detected: W M Phoenix Open — Ending: 2021-02-07\n",
      "📍 Detected: King Abdullah Economic City, — Ending: 2021-02-07\n",
      "📍 Detected: AT&T Pebble Beach Pro-Am — Ending: 2021-02-14\n",
      "📍 Detected: Collegiate Showcase — Ending: 2021-02-15\n",
      "📍 Detected: The Genesis Invitational — Ending: 2021-02-21\n",
      "📍 Detected: WGC-Workday Championship — Ending: 2021-02-28\n",
      "📍 Detected: Puerto Rico Open — Ending: 2021-02-28\n",
      "📍 Detected: Arnold Palmer Invitational — Ending: 2021-03-07\n",
      "📍 Detected: THE PLAYERS Championship — Ending: 2021-03-14\n",
      "📍 Detected: Qatar Masters — Ending: 2021-03-14\n",
      "📍 Detected: The Honda Classic — Ending: 2021-03-21\n",
      "📍 Detected: Magical Kenya Open — Ending: 2021-03-21\n",
      "📍 Detected: Kenya Savannah Classic — Ending: 2021-03-26\n",
      "📍 Detected: WGC-Dell Tech Match Play — Ending: 2021-03-28\n",
      "📍 Detected: Corales Punta Cana Champ — Ending: 2021-03-28\n",
      "📍 Detected: Valero Texas Open — Ending: 2021-04-04\n",
      "📍 Detected: The Masters — Ending: 2021-04-11\n",
      "📍 Detected: RBC Heritage — Ending: 2021-04-18\n",
      "📍 Detected: Austrian Golf Open — Ending: 2021-04-18\n",
      "📍 Detected: MGM Resorts Championship — Ending: 2021-04-18\n",
      "📍 Detected: Zurich Classic of New Orleans — Ending: 2021-04-25\n",
      "📍 Detected: Gran Canaria Lopesan Open — Ending: 2021-04-25\n",
      "📍 Detected: Valspar Championship — Ending: 2021-05-02\n",
      "📍 Detected: Tenerife Open — Ending: 2021-05-02\n",
      "📍 Detected: Wells Fargo Championship — Ending: 2021-05-09\n",
      "📍 Detected: Canary Islands Championship — Ending: 2021-05-09\n",
      "📍 Detected: AT&T Byron Nelson — Ending: 2021-05-16\n",
      "📍 Detected: British Masters — Ending: 2021-05-16\n",
      "📍 Detected: PGA Championship — Ending: 2021-05-23\n",
      "📍 Detected: Charles Schwab Challenge — Ending: 2021-05-30\n",
      "📍 Detected: Made in Himmerland — Ending: 2021-05-30\n",
      "📍 Detected: The Memorial Tournament — Ending: 2021-06-06\n",
      "📍 Detected: Porsche European Open — Ending: 2021-06-07\n",
      "📍 Detected: Palmetto Championship — Ending: 2021-06-13\n",
      "📍 Detected: Scandinavian Mixed — Ending: 2021-06-13\n",
      "📍 Detected: US Open — Ending: 2021-06-20\n",
      "📍 Detected: Travelers Championship — Ending: 2021-06-27\n",
      "📍 Detected: BMW International Open — Ending: 2021-06-27\n",
      "📍 Detected: Rocket Mortgage Classic — Ending: 2021-07-04\n",
      "📍 Detected: Dubai Duty Free Irish Open — Ending: 2021-07-04\n",
      "📍 Detected: Moonlight Basin - — Ending: 2021-07-06\n",
      "📍 Detected: John Deere Classic — Ending: 2021-07-11\n",
      "📍 Detected: abrdn Scottish Open — Ending: 2021-07-11\n",
      "📍 Detected: The Open Championship — Ending: 2021-07-18\n",
      "📍 Detected: Barbasol Championship — Ending: 2021-07-18\n",
      "📍 Detected: 3M Open — Ending: 2021-07-25\n",
      "📍 Detected: Cazoo Open — Ending: 2021-07-25\n",
      "📍 Detected: Men's Olympic Golf — Ending: 2021-08-01\n",
      "📍 Detected: World Invitational — Ending: 2021-08-01\n",
      "📍 Detected: WGC-FedEx St. Jude Invit — Ending: 2021-08-08\n",
      "📍 Detected: Barracuda Championship — Ending: 2021-08-08\n",
      "📍 Detected: Hero Open — Ending: 2021-08-08\n",
      "📍 Detected: Wyndham Championship — Ending: 2021-08-15\n",
      "📍 Detected: Cazoo Classic — Ending: 2021-08-15\n",
      "📍 Detected: The Northern Trust — Ending: 2021-08-23\n",
      "📍 Detected: D+D Real Czech Masters — Ending: 2021-08-22\n",
      "📍 Detected: BMW Championship — Ending: 2021-08-29\n",
      "📍 Detected: Omega European Masters — Ending: 2021-08-29\n",
      "📍 Detected: TOUR Championship — Ending: 2021-09-05\n",
      "📍 Detected: Italian Open — Ending: 2021-09-05\n",
      "📍 Detected: BMW PGA Championship — Ending: 2021-09-12\n",
      "📍 Detected: Dutch Open — Ending: 2021-09-19\n",
      "📍 Detected: 43rd Ryder Cup — Ending: 2021-09-26\n",
      "📍 Detected: Alfred Dunhill Links Champ — Ending: 2021-10-03\n",
      "📍 Detected: Open de Espana — Ending: 2021-10-10\n",
      "📍 Detected: Andalucia Masters — Ending: 2021-10-17\n",
      "📍 Detected: Mallorca Golf Open — Ending: 2021-10-24\n",
      "📍 Detected: Portugal Masters — Ending: 2021-11-07\n",
      "📍 Detected: AVIV Dubai Championship — Ending: 2021-11-14\n",
      "📍 Detected: DP World Tour Championship — Ending: 2021-11-21\n",
      "📍 Detected: Golf Nippon Series JT Cup — Ending: 2021-12-05\n"
     ]
    },
    {
     "data": {
      "text/html": [
       "<div>\n",
       "<style scoped>\n",
       "    .dataframe tbody tr th:only-of-type {\n",
       "        vertical-align: middle;\n",
       "    }\n",
       "\n",
       "    .dataframe tbody tr th {\n",
       "        vertical-align: top;\n",
       "    }\n",
       "\n",
       "    .dataframe thead th {\n",
       "        text-align: right;\n",
       "    }\n",
       "</style>\n",
       "<table border=\"1\" class=\"dataframe\">\n",
       "  <thead>\n",
       "    <tr style=\"text-align: right;\">\n",
       "      <th></th>\n",
       "      <th>SEASON</th>\n",
       "      <th>TOURNAMENT</th>\n",
       "      <th>ENDING_DATE</th>\n",
       "      <th>PLAYER</th>\n",
       "      <th>ODDS</th>\n",
       "      <th>VEGAS_ODDS</th>\n",
       "    </tr>\n",
       "  </thead>\n",
       "  <tbody>\n",
       "    <tr>\n",
       "      <th>0</th>\n",
       "      <td>2021</td>\n",
       "      <td>Safeway Open</td>\n",
       "      <td>2020-09-13</td>\n",
       "      <td>Phil Mickelson</td>\n",
       "      <td>20/1</td>\n",
       "      <td>20.0</td>\n",
       "    </tr>\n",
       "    <tr>\n",
       "      <th>1</th>\n",
       "      <td>2021</td>\n",
       "      <td>Safeway Open</td>\n",
       "      <td>2020-09-13</td>\n",
       "      <td>Si Woo Kim</td>\n",
       "      <td>20/1</td>\n",
       "      <td>20.0</td>\n",
       "    </tr>\n",
       "    <tr>\n",
       "      <th>2</th>\n",
       "      <td>2021</td>\n",
       "      <td>Safeway Open</td>\n",
       "      <td>2020-09-13</td>\n",
       "      <td>Brendan Steele</td>\n",
       "      <td>20/1</td>\n",
       "      <td>20.0</td>\n",
       "    </tr>\n",
       "    <tr>\n",
       "      <th>3</th>\n",
       "      <td>2021</td>\n",
       "      <td>Safeway Open</td>\n",
       "      <td>2020-09-13</td>\n",
       "      <td>Shane Lowry</td>\n",
       "      <td>25/1</td>\n",
       "      <td>25.0</td>\n",
       "    </tr>\n",
       "    <tr>\n",
       "      <th>4</th>\n",
       "      <td>2021</td>\n",
       "      <td>Safeway Open</td>\n",
       "      <td>2020-09-13</td>\n",
       "      <td>Sergio Garcia</td>\n",
       "      <td>30/1</td>\n",
       "      <td>30.0</td>\n",
       "    </tr>\n",
       "  </tbody>\n",
       "</table>\n",
       "</div>"
      ],
      "text/plain": [
       "   SEASON    TOURNAMENT ENDING_DATE          PLAYER  ODDS  VEGAS_ODDS\n",
       "0    2021  Safeway Open  2020-09-13  Phil Mickelson  20/1        20.0\n",
       "1    2021  Safeway Open  2020-09-13      Si Woo Kim  20/1        20.0\n",
       "2    2021  Safeway Open  2020-09-13  Brendan Steele  20/1        20.0\n",
       "3    2021  Safeway Open  2020-09-13     Shane Lowry  25/1        25.0\n",
       "4    2021  Safeway Open  2020-09-13   Sergio Garcia  30/1        30.0"
      ]
     },
     "metadata": {},
     "output_type": "display_data"
    }
   ],
   "source": [
    "import pandas as pd\n",
    "import numpy as np\n",
    "import requests\n",
    "import re\n",
    "from datetime import datetime\n",
    "from io import StringIO\n",
    "\n",
    "# === USER INPUT ===\n",
    "oddsYear = \"2020-2021\"    # URL segment\n",
    "season = 2021        # PGA Tour season\n",
    "\n",
    "url = f\"http://golfodds.com/archives-{oddsYear}.html\"\n",
    "response = requests.get(url)\n",
    "tables = pd.read_html(StringIO(response.text))\n",
    "# raw_df = tables[5]  # the actual table of interest\n",
    "# Find the largest 2-column table that contains at least some odds-like strings\n",
    "raw_df = None\n",
    "for tbl in tables:\n",
    "    if tbl.shape[1] == 2 and tbl.shape[0] > 50:  # Rough filter\n",
    "        sample = tbl.iloc[:, 1].astype(str).str.contains(r\"\\d+/\\d+\").sum()\n",
    "        if sample > 5:\n",
    "            raw_df = tbl\n",
    "            break\n",
    "\n",
    "if raw_df is None:\n",
    "    raise ValueError(\"❌ Could not find valid odds table on the page.\")\n",
    "\n",
    "# === STEP 1: Initial clean-up ===\n",
    "df = raw_df.dropna(how=\"all\").reset_index(drop=True)\n",
    "df.columns = [\"PLAYER\", \"ODDS\"]\n",
    "\n",
    "# 🔧 Clean up non-breaking spaces and extra whitespace\n",
    "df[\"PLAYER\"] = (\n",
    "    df[\"PLAYER\"]\n",
    "    .astype(str)\n",
    "    .str.replace(\"\\xa0\", \" \", regex=False)\n",
    "    .str.replace(r\"\\s+\", \" \", regex=True)\n",
    "    .str.strip()\n",
    ")\n",
    "\n",
    "df.insert(loc=0, column=\"SEASON\", value=season)\n",
    "df.insert(loc=1, column=\"TOURNAMENT\", value=np.nan)\n",
    "df.insert(loc=2, column=\"ENDING_DATE\", value=np.nan)\n",
    "\n",
    "# === STEP 2: Helper function for parsing date strings ===\n",
    "def parse_ending_date(text):\n",
    "    import re\n",
    "    from datetime import datetime\n",
    "\n",
    "    # Normalize whitespace and symbols\n",
    "    text = (\n",
    "        text.replace(\"\\u2013\", \"-\")\n",
    "            .replace(\"–\", \"-\")\n",
    "            .replace(\"\\xa0\", \" \")\n",
    "    )\n",
    "    text = re.sub(r\"\\bSept(?!ember)\\b\", \"Sep\", text)\n",
    "\n",
    "    # ✅ Fix typo: \"Match\" → \"March\" only when used in a date context\n",
    "    text = re.sub(r\"\\bMatch(?=\\s+\\d{1,2}\\s*[-–]\\s*\\d{1,2},\\s*\\d{4})\", \"March\", text)\n",
    "\n",
    "    # Pattern 1: \"July 30 - August 2, 2015\" or \"Oct 29 - Nov 1, 2015\"\n",
    "    match = re.search(r\"(\\w+)\\s\\d+\\s*-\\s*(\\w+)\\s(\\d+),\\s(\\d{4})\", text)\n",
    "    if match:\n",
    "        month2, day2, year = match.group(2), match.group(3), match.group(4)\n",
    "        for fmt in [\"%B %d, %Y\", \"%b %d, %Y\"]:\n",
    "            try:\n",
    "                return datetime.strptime(f\"{month2} {day2}, {year}\", fmt).date()\n",
    "            except ValueError:\n",
    "                continue\n",
    "\n",
    "    # Pattern 2: \"November 21-24, 2024\"\n",
    "    match = re.search(r\"(\\w+)\\s\\d+-\\d+,\\s(\\d{4})\", text)\n",
    "    if match:\n",
    "        month, year = match.group(1), match.group(2)\n",
    "        day = re.search(r\"(\\d+)-(\\d+)\", text).group(2)\n",
    "        for fmt in [\"%B %d, %Y\", \"%b %d, %Y\"]:\n",
    "            try:\n",
    "                return datetime.strptime(f\"{month} {day}, {year}\", fmt).date()\n",
    "            except ValueError:\n",
    "                continue\n",
    "\n",
    "    # Pattern 3: \"Sunday, October 20, 2019\"\n",
    "    try:\n",
    "        return datetime.strptime(text.strip(), \"%A, %B %d, %Y\").date()\n",
    "    except ValueError:\n",
    "        pass\n",
    "\n",
    "    # Pattern 4: \"October 20, 2019\"\n",
    "    try:\n",
    "        return datetime.strptime(text.strip(), \"%B %d, %Y\").date()\n",
    "    except ValueError:\n",
    "        pass\n",
    "\n",
    "    return None\n",
    "\n",
    "last_tourn_name = None\n",
    "last_date = None\n",
    "\n",
    "# === STEP 3: Iterate block by block ===\n",
    "final_rows = []\n",
    "i = 0\n",
    "last_tourn_name = None\n",
    "last_end_date = None\n",
    "\n",
    "while i < len(df) - 4:\n",
    "    player_i = str(df.loc[i, \"PLAYER\"])\n",
    "    player_i2 = str(df.loc[i + 2, \"PLAYER\"])\n",
    "    player_i3 = str(df.loc[i + 3, \"PLAYER\"]).lower()\n",
    "\n",
    "    # Detect start of a new tournament block\n",
    "    is_header = (\n",
    "        pd.isna(df.loc[i, \"ODDS\"]) and\n",
    "        pd.isna(df.loc[i + 1, \"ODDS\"]) and (\n",
    "            re.search(r\"\\w+\\s\\d+\\s*[-–]\\s*(\\w+\\s)?\\d+,\\s\\d{4}\", player_i2) or\n",
    "            re.search(r\"(Monday|Tuesday|Wednesday|Thursday|Friday|Saturday|Sunday),?\\s+\\w+\\s\\d{1,2},\\s\\d{4}\", player_i2)\n",
    "        )\n",
    "    )\n",
    "\n",
    "    if is_header:\n",
    "        tourn_name = player_i.strip()\n",
    "        end_date = parse_ending_date(player_i2)\n",
    "\n",
    "        # Skip cancelled or empty blocks\n",
    "        if \"cancelled\" in player_i3:\n",
    "            print(f\"⚠️ Skipping cancelled tournament: {tourn_name} — {end_date}\")\n",
    "            i += 4\n",
    "            continue\n",
    "\n",
    "        # Avoid duplicate block processing\n",
    "        if tourn_name == last_tourn_name and end_date == last_end_date:\n",
    "            i += 1\n",
    "            continue\n",
    "\n",
    "        print(f\"📍 Detected: {tourn_name} — Ending: {end_date}\")\n",
    "        last_tourn_name = tourn_name\n",
    "        last_end_date = end_date\n",
    "        i += 4  # Skip header lines\n",
    "\n",
    "        # Collect all player rows until next header block\n",
    "        while i < len(df) - 2:\n",
    "            next_i2 = str(df.loc[i + 2, \"PLAYER\"])\n",
    "            is_next_header = (\n",
    "                pd.isna(df.loc[i, \"ODDS\"]) and\n",
    "                pd.isna(df.loc[i + 1, \"ODDS\"]) and (\n",
    "                    re.search(r\"\\w+\\s\\d+\\s*[-–]\\s*(\\w+\\s)?\\d+,\\s\\d{4}\", next_i2) or\n",
    "                    re.search(r\"(Monday|Tuesday|Wednesday|Thursday|Friday|Saturday|Sunday),?\\s+\\w+\\s\\d{1,2},\\s\\d{4}\", next_i2)\n",
    "                )\n",
    "            )\n",
    "            if is_next_header:\n",
    "                break\n",
    "\n",
    "            if pd.notna(df.loc[i, \"ODDS\"]):\n",
    "                row = df.loc[i].copy()\n",
    "                row[\"TOURNAMENT\"] = tourn_name\n",
    "                row[\"ENDING_DATE\"] = end_date\n",
    "                final_rows.append(row)\n",
    "            i += 1\n",
    "    else:\n",
    "        i += 1\n",
    "\n",
    "# === STEP 4: Create cleaned DataFrame ===\n",
    "clean_df = pd.DataFrame(final_rows)\n",
    "\n",
    "# ✅ Prevent crash if nothing was parsed\n",
    "if clean_df.empty or \"PLAYER\" not in clean_df.columns:\n",
    "    print(f\"⚠️ No valid tournament blocks detected for season {season} ({oddsYear})\")\n",
    "    final_df = pd.DataFrame()  # Safe fallback\n",
    "else:\n",
    "    # Remove winner tag\n",
    "    clean_df[\"PLAYER\"] = clean_df[\"PLAYER\"].str.replace(r\"\\s\\*Winner\\*\", \"\", regex=True)\n",
    "\n",
    "    # Clean odds to numeric\n",
    "    clean_df[\"VEGAS_ODDS\"] = (\n",
    "        clean_df[\"ODDS\"]\n",
    "        .str.replace(\",\", \"\")\n",
    "        .str.extract(r\"(\\d+)/(\\d+)\")\n",
    "        .astype(float)\n",
    "        .apply(lambda x: x[0] / x[1], axis=1)\n",
    "    )\n",
    "\n",
    "    # Final output with source index for debugging\n",
    "    final_df = clean_df[\n",
    "        [\"SEASON\", \"TOURNAMENT\", \"ENDING_DATE\", \"PLAYER\", \"ODDS\", \"VEGAS_ODDS\"]\n",
    "    ].reset_index(drop=True)\n",
    "\n",
    "    # Drop non-standard team events (e.g., Presidents Cup, Ryder Cup)\n",
    "    drop_terms = [\"Presidents Cup\", \"Ryder Cup\"]\n",
    "    final_df = final_df[~final_df[\"TOURNAMENT\"].str.contains(\"|\".join(drop_terms), case=False, na=False)]\n",
    "\n",
    "    display(final_df.head())\n",
    "\n"
   ]
  },
  {
   "cell_type": "code",
   "execution_count": 33,
   "id": "1ba6ed1d",
   "metadata": {},
   "outputs": [
    {
     "name": "stdout",
     "output_type": "stream",
     "text": [
      "🧪 Rows with invalid ENDING_DATE values: 0\n"
     ]
    },
    {
     "data": {
      "text/html": [
       "<div>\n",
       "<style scoped>\n",
       "    .dataframe tbody tr th:only-of-type {\n",
       "        vertical-align: middle;\n",
       "    }\n",
       "\n",
       "    .dataframe tbody tr th {\n",
       "        vertical-align: top;\n",
       "    }\n",
       "\n",
       "    .dataframe thead th {\n",
       "        text-align: right;\n",
       "    }\n",
       "</style>\n",
       "<table border=\"1\" class=\"dataframe\">\n",
       "  <thead>\n",
       "    <tr style=\"text-align: right;\">\n",
       "      <th></th>\n",
       "      <th>SEASON</th>\n",
       "      <th>TOURNAMENT</th>\n",
       "      <th>ENDING_DATE</th>\n",
       "      <th>PLAYER</th>\n",
       "      <th>ODDS</th>\n",
       "      <th>VEGAS_ODDS</th>\n",
       "    </tr>\n",
       "  </thead>\n",
       "  <tbody>\n",
       "  </tbody>\n",
       "</table>\n",
       "</div>"
      ],
      "text/plain": [
       "Empty DataFrame\n",
       "Columns: [SEASON, TOURNAMENT, ENDING_DATE, PLAYER, ODDS, VEGAS_ODDS]\n",
       "Index: []"
      ]
     },
     "metadata": {},
     "output_type": "display_data"
    }
   ],
   "source": [
    "from datetime import datetime, date\n",
    "# ✅ Check for non-date types in ENDING_DATE\n",
    "non_dates = final_df[~final_df[\"ENDING_DATE\"].apply(lambda x: isinstance(x, date))]\n",
    "\n",
    "print(f\"🧪 Rows with invalid ENDING_DATE values: {len(non_dates)}\")\n",
    "display(non_dates.head(10))\n",
    "\n"
   ]
  },
  {
   "cell_type": "code",
   "execution_count": 34,
   "id": "d42bfaa0",
   "metadata": {},
   "outputs": [
    {
     "name": "stdout",
     "output_type": "stream",
     "text": [
      "🚨 Duplicate primary keys in final_df: 0\n"
     ]
    },
    {
     "data": {
      "text/html": [
       "<div>\n",
       "<style scoped>\n",
       "    .dataframe tbody tr th:only-of-type {\n",
       "        vertical-align: middle;\n",
       "    }\n",
       "\n",
       "    .dataframe tbody tr th {\n",
       "        vertical-align: top;\n",
       "    }\n",
       "\n",
       "    .dataframe thead th {\n",
       "        text-align: right;\n",
       "    }\n",
       "</style>\n",
       "<table border=\"1\" class=\"dataframe\">\n",
       "  <thead>\n",
       "    <tr style=\"text-align: right;\">\n",
       "      <th></th>\n",
       "      <th>SEASON</th>\n",
       "      <th>TOURNAMENT</th>\n",
       "      <th>ENDING_DATE</th>\n",
       "      <th>PLAYER</th>\n",
       "      <th>ODDS</th>\n",
       "      <th>VEGAS_ODDS</th>\n",
       "    </tr>\n",
       "  </thead>\n",
       "  <tbody>\n",
       "  </tbody>\n",
       "</table>\n",
       "</div>"
      ],
      "text/plain": [
       "Empty DataFrame\n",
       "Columns: [SEASON, TOURNAMENT, ENDING_DATE, PLAYER, ODDS, VEGAS_ODDS]\n",
       "Index: []"
      ]
     },
     "metadata": {},
     "output_type": "display_data"
    }
   ],
   "source": [
    "dupes = final_df.duplicated(subset=[\"SEASON\", \"TOURNAMENT\", \"ENDING_DATE\", \"PLAYER\"], keep=False)\n",
    "\n",
    "print(f\"🚨 Duplicate primary keys in final_df: {dupes.sum()}\")\n",
    "display(final_df[dupes].sort_values(by=[\"SEASON\", \"TOURNAMENT\", \"PLAYER\"]))"
   ]
  },
  {
   "cell_type": "markdown",
   "id": "d5827d49",
   "metadata": {},
   "source": [
    "## Historical Data"
   ]
  },
  {
   "cell_type": "markdown",
   "id": "72034314",
   "metadata": {},
   "source": [
    "### Pull Relevant Seasons\n",
    "Do a check to see when this course or tournament have been historically played."
   ]
  },
  {
   "cell_type": "code",
   "execution_count": 4,
   "id": "fea9c7c6",
   "metadata": {},
   "outputs": [
    {
     "name": "stdout",
     "output_type": "stream",
     "text": [
      "ℹ️ Found 8 relevant tournaments from course or tournament name.\n"
     ]
    },
    {
     "data": {
      "text/html": [
       "<div>\n",
       "<style scoped>\n",
       "    .dataframe tbody tr th:only-of-type {\n",
       "        vertical-align: middle;\n",
       "    }\n",
       "\n",
       "    .dataframe tbody tr th {\n",
       "        vertical-align: top;\n",
       "    }\n",
       "\n",
       "    .dataframe thead th {\n",
       "        text-align: right;\n",
       "    }\n",
       "</style>\n",
       "<table border=\"1\" class=\"dataframe\">\n",
       "  <thead>\n",
       "    <tr style=\"text-align: right;\">\n",
       "      <th></th>\n",
       "      <th>SEASON</th>\n",
       "      <th>COURSE</th>\n",
       "      <th>TOURN_ID</th>\n",
       "      <th>TOURNAMENT</th>\n",
       "      <th>ENDING_DATE</th>\n",
       "    </tr>\n",
       "  </thead>\n",
       "  <tbody>\n",
       "    <tr>\n",
       "      <th>619</th>\n",
       "      <td>2016</td>\n",
       "      <td>TPC Deere Run</td>\n",
       "      <td>030</td>\n",
       "      <td>John Deere Classic</td>\n",
       "      <td>2016-08-14</td>\n",
       "    </tr>\n",
       "    <tr>\n",
       "      <th>464</th>\n",
       "      <td>2017</td>\n",
       "      <td>TPC Deere Run</td>\n",
       "      <td>030</td>\n",
       "      <td>John Deere Classic</td>\n",
       "      <td>2017-07-16</td>\n",
       "    </tr>\n",
       "    <tr>\n",
       "      <th>309</th>\n",
       "      <td>2018</td>\n",
       "      <td>TPC Deere Run</td>\n",
       "      <td>030</td>\n",
       "      <td>John Deere Classic</td>\n",
       "      <td>2018-07-15</td>\n",
       "    </tr>\n",
       "    <tr>\n",
       "      <th>154</th>\n",
       "      <td>2019</td>\n",
       "      <td>TPC Deere Run</td>\n",
       "      <td>030</td>\n",
       "      <td>John Deere Classic</td>\n",
       "      <td>2019-07-14</td>\n",
       "    </tr>\n",
       "    <tr>\n",
       "      <th>0</th>\n",
       "      <td>2021</td>\n",
       "      <td>TPC Deere Run</td>\n",
       "      <td>030</td>\n",
       "      <td>John Deere Classic</td>\n",
       "      <td>2021-07-11</td>\n",
       "    </tr>\n",
       "    <tr>\n",
       "      <th>930</th>\n",
       "      <td>2022</td>\n",
       "      <td>TPC Deere Run</td>\n",
       "      <td>030</td>\n",
       "      <td>John Deere Classic</td>\n",
       "      <td>2022-07-03</td>\n",
       "    </tr>\n",
       "    <tr>\n",
       "      <th>1086</th>\n",
       "      <td>2023</td>\n",
       "      <td>TPC Deere Run</td>\n",
       "      <td>R2023030</td>\n",
       "      <td>John Deere Classic</td>\n",
       "      <td>2023-07-09</td>\n",
       "    </tr>\n",
       "    <tr>\n",
       "      <th>1242</th>\n",
       "      <td>2024</td>\n",
       "      <td>TPC Deere Run</td>\n",
       "      <td>R2024030</td>\n",
       "      <td>John Deere Classic</td>\n",
       "      <td>2024-07-07</td>\n",
       "    </tr>\n",
       "  </tbody>\n",
       "</table>\n",
       "</div>"
      ],
      "text/plain": [
       "      SEASON         COURSE  TOURN_ID          TOURNAMENT ENDING_DATE\n",
       "619     2016  TPC Deere Run       030  John Deere Classic  2016-08-14\n",
       "464     2017  TPC Deere Run       030  John Deere Classic  2017-07-16\n",
       "309     2018  TPC Deere Run       030  John Deere Classic  2018-07-15\n",
       "154     2019  TPC Deere Run       030  John Deere Classic  2019-07-14\n",
       "0       2021  TPC Deere Run       030  John Deere Classic  2021-07-11\n",
       "930     2022  TPC Deere Run       030  John Deere Classic  2022-07-03\n",
       "1086    2023  TPC Deere Run  R2023030  John Deere Classic  2023-07-09\n",
       "1242    2024  TPC Deere Run  R2024030  John Deere Classic  2024-07-07"
      ]
     },
     "execution_count": 4,
     "metadata": {},
     "output_type": "execute_result"
    }
   ],
   "source": [
    "importlib.reload(utils.db_utils)\n",
    "from utils.db_utils import get_combined_history_seasons\n",
    "\n",
    "# === USER INPUT ===\n",
    "seasons = list(range(2016, 2025))  # Adjust as needed\n",
    "db_path = \"data/golf.db\"\n",
    "\n",
    "# Pull course and tournament from config\n",
    "n_course = tournament_config[\"new\"][\"course\"]\n",
    "n_tourn = tournament_config[\"new\"][\"name\"]\n",
    "\n",
    "# Fetch relevant history\n",
    "history_df = get_combined_history_seasons(db_path, course=n_course, tournament=n_tourn, allowed_seasons=seasons)\n",
    "history_df.head(20)\n"
   ]
  },
  {
   "cell_type": "markdown",
   "id": "09441025",
   "metadata": {},
   "source": [
    "### Cut Percentage and FedEx Points\n",
    "Use a rolling-window approach to look at the most recent cut percentage and how many FedEx cup points have been accumulated recently. This will intentionally not match the PGA Tour stats that start over every year, but will have the same amount of data all the time.  We also add a new feature called Form Density which divides the FedEx Cup Points by the Total Events."
   ]
  },
  {
   "cell_type": "code",
   "execution_count": 5,
   "id": "300bf650",
   "metadata": {},
   "outputs": [
    {
     "name": "stdout",
     "output_type": "stream",
     "text": [
      "\n",
      "📆 2016-08-14 — John Deere Classic (516 players)\n"
     ]
    },
    {
     "data": {
      "text/html": [
       "<div>\n",
       "<style scoped>\n",
       "    .dataframe tbody tr th:only-of-type {\n",
       "        vertical-align: middle;\n",
       "    }\n",
       "\n",
       "    .dataframe tbody tr th {\n",
       "        vertical-align: top;\n",
       "    }\n",
       "\n",
       "    .dataframe thead th {\n",
       "        text-align: right;\n",
       "    }\n",
       "</style>\n",
       "<table border=\"1\" class=\"dataframe\">\n",
       "  <thead>\n",
       "    <tr style=\"text-align: right;\">\n",
       "      <th></th>\n",
       "      <th>PLAYER</th>\n",
       "      <th>TOTAL_EVENTS_PLAYED</th>\n",
       "      <th>CUTS_MADE</th>\n",
       "      <th>FEDEX_CUP_POINTS</th>\n",
       "      <th>CUT_PERCENTAGE</th>\n",
       "      <th>form_density</th>\n",
       "      <th>CONSECUTIVE_CUTS</th>\n",
       "      <th>ENDING_DATE</th>\n",
       "      <th>TOURNAMENT</th>\n",
       "    </tr>\n",
       "  </thead>\n",
       "  <tbody>\n",
       "    <tr>\n",
       "      <th>0</th>\n",
       "      <td>Aaron Baddeley</td>\n",
       "      <td>17</td>\n",
       "      <td>10</td>\n",
       "      <td>357.0</td>\n",
       "      <td>58.8</td>\n",
       "      <td>21.00</td>\n",
       "      <td>2</td>\n",
       "      <td>2016-08-14</td>\n",
       "      <td>John Deere Classic</td>\n",
       "    </tr>\n",
       "    <tr>\n",
       "      <th>1</th>\n",
       "      <td>Aaron Wise</td>\n",
       "      <td>1</td>\n",
       "      <td>0</td>\n",
       "      <td>0.0</td>\n",
       "      <td>0.0</td>\n",
       "      <td>0.00</td>\n",
       "      <td>0</td>\n",
       "      <td>2016-08-14</td>\n",
       "      <td>John Deere Classic</td>\n",
       "    </tr>\n",
       "    <tr>\n",
       "      <th>2</th>\n",
       "      <td>Abraham Ancer</td>\n",
       "      <td>9</td>\n",
       "      <td>3</td>\n",
       "      <td>55.5</td>\n",
       "      <td>33.3</td>\n",
       "      <td>6.17</td>\n",
       "      <td>1</td>\n",
       "      <td>2016-08-14</td>\n",
       "      <td>John Deere Classic</td>\n",
       "    </tr>\n",
       "  </tbody>\n",
       "</table>\n",
       "</div>"
      ],
      "text/plain": [
       "           PLAYER  TOTAL_EVENTS_PLAYED  CUTS_MADE  FEDEX_CUP_POINTS  \\\n",
       "0  Aaron Baddeley                   17         10             357.0   \n",
       "1      Aaron Wise                    1          0               0.0   \n",
       "2   Abraham Ancer                    9          3              55.5   \n",
       "\n",
       "   CUT_PERCENTAGE  form_density  CONSECUTIVE_CUTS ENDING_DATE  \\\n",
       "0            58.8         21.00                 2  2016-08-14   \n",
       "1             0.0          0.00                 0  2016-08-14   \n",
       "2            33.3          6.17                 1  2016-08-14   \n",
       "\n",
       "           TOURNAMENT  \n",
       "0  John Deere Classic  \n",
       "1  John Deere Classic  \n",
       "2  John Deere Classic  "
      ]
     },
     "metadata": {},
     "output_type": "display_data"
    },
    {
     "name": "stdout",
     "output_type": "stream",
     "text": [
      "\n",
      "📆 2017-07-16 — John Deere Classic (455 players)\n"
     ]
    },
    {
     "data": {
      "text/html": [
       "<div>\n",
       "<style scoped>\n",
       "    .dataframe tbody tr th:only-of-type {\n",
       "        vertical-align: middle;\n",
       "    }\n",
       "\n",
       "    .dataframe tbody tr th {\n",
       "        vertical-align: top;\n",
       "    }\n",
       "\n",
       "    .dataframe thead th {\n",
       "        text-align: right;\n",
       "    }\n",
       "</style>\n",
       "<table border=\"1\" class=\"dataframe\">\n",
       "  <thead>\n",
       "    <tr style=\"text-align: right;\">\n",
       "      <th></th>\n",
       "      <th>PLAYER</th>\n",
       "      <th>TOTAL_EVENTS_PLAYED</th>\n",
       "      <th>CUTS_MADE</th>\n",
       "      <th>FEDEX_CUP_POINTS</th>\n",
       "      <th>CUT_PERCENTAGE</th>\n",
       "      <th>form_density</th>\n",
       "      <th>CONSECUTIVE_CUTS</th>\n",
       "      <th>ENDING_DATE</th>\n",
       "      <th>TOURNAMENT</th>\n",
       "    </tr>\n",
       "  </thead>\n",
       "  <tbody>\n",
       "    <tr>\n",
       "      <th>0</th>\n",
       "      <td>Aaron Baddeley</td>\n",
       "      <td>15</td>\n",
       "      <td>7</td>\n",
       "      <td>228.29</td>\n",
       "      <td>46.7</td>\n",
       "      <td>15.22</td>\n",
       "      <td>0</td>\n",
       "      <td>2017-07-16</td>\n",
       "      <td>John Deere Classic</td>\n",
       "    </tr>\n",
       "    <tr>\n",
       "      <th>1</th>\n",
       "      <td>Aaron Rai</td>\n",
       "      <td>1</td>\n",
       "      <td>0</td>\n",
       "      <td>0.00</td>\n",
       "      <td>0.0</td>\n",
       "      <td>0.00</td>\n",
       "      <td>0</td>\n",
       "      <td>2017-07-16</td>\n",
       "      <td>John Deere Classic</td>\n",
       "    </tr>\n",
       "    <tr>\n",
       "      <th>2</th>\n",
       "      <td>Aaron Wise</td>\n",
       "      <td>6</td>\n",
       "      <td>4</td>\n",
       "      <td>0.00</td>\n",
       "      <td>66.7</td>\n",
       "      <td>0.00</td>\n",
       "      <td>4</td>\n",
       "      <td>2017-07-16</td>\n",
       "      <td>John Deere Classic</td>\n",
       "    </tr>\n",
       "  </tbody>\n",
       "</table>\n",
       "</div>"
      ],
      "text/plain": [
       "           PLAYER  TOTAL_EVENTS_PLAYED  CUTS_MADE  FEDEX_CUP_POINTS  \\\n",
       "0  Aaron Baddeley                   15          7            228.29   \n",
       "1       Aaron Rai                    1          0              0.00   \n",
       "2      Aaron Wise                    6          4              0.00   \n",
       "\n",
       "   CUT_PERCENTAGE  form_density  CONSECUTIVE_CUTS ENDING_DATE  \\\n",
       "0            46.7         15.22                 0  2017-07-16   \n",
       "1             0.0          0.00                 0  2017-07-16   \n",
       "2            66.7          0.00                 4  2017-07-16   \n",
       "\n",
       "           TOURNAMENT  \n",
       "0  John Deere Classic  \n",
       "1  John Deere Classic  \n",
       "2  John Deere Classic  "
      ]
     },
     "metadata": {},
     "output_type": "display_data"
    },
    {
     "name": "stdout",
     "output_type": "stream",
     "text": [
      "\n",
      "📆 2018-07-15 — John Deere Classic (458 players)\n"
     ]
    },
    {
     "data": {
      "text/html": [
       "<div>\n",
       "<style scoped>\n",
       "    .dataframe tbody tr th:only-of-type {\n",
       "        vertical-align: middle;\n",
       "    }\n",
       "\n",
       "    .dataframe tbody tr th {\n",
       "        vertical-align: top;\n",
       "    }\n",
       "\n",
       "    .dataframe thead th {\n",
       "        text-align: right;\n",
       "    }\n",
       "</style>\n",
       "<table border=\"1\" class=\"dataframe\">\n",
       "  <thead>\n",
       "    <tr style=\"text-align: right;\">\n",
       "      <th></th>\n",
       "      <th>PLAYER</th>\n",
       "      <th>TOTAL_EVENTS_PLAYED</th>\n",
       "      <th>CUTS_MADE</th>\n",
       "      <th>FEDEX_CUP_POINTS</th>\n",
       "      <th>CUT_PERCENTAGE</th>\n",
       "      <th>form_density</th>\n",
       "      <th>CONSECUTIVE_CUTS</th>\n",
       "      <th>ENDING_DATE</th>\n",
       "      <th>TOURNAMENT</th>\n",
       "    </tr>\n",
       "  </thead>\n",
       "  <tbody>\n",
       "    <tr>\n",
       "      <th>0</th>\n",
       "      <td>A.J. McInerney</td>\n",
       "      <td>2</td>\n",
       "      <td>1</td>\n",
       "      <td>0.00</td>\n",
       "      <td>50.0</td>\n",
       "      <td>0.00</td>\n",
       "      <td>0</td>\n",
       "      <td>2018-07-15</td>\n",
       "      <td>John Deere Classic</td>\n",
       "    </tr>\n",
       "    <tr>\n",
       "      <th>1</th>\n",
       "      <td>Aaron Baddeley</td>\n",
       "      <td>18</td>\n",
       "      <td>11</td>\n",
       "      <td>270.91</td>\n",
       "      <td>61.1</td>\n",
       "      <td>15.05</td>\n",
       "      <td>0</td>\n",
       "      <td>2018-07-15</td>\n",
       "      <td>John Deere Classic</td>\n",
       "    </tr>\n",
       "    <tr>\n",
       "      <th>2</th>\n",
       "      <td>Aaron Wise</td>\n",
       "      <td>19</td>\n",
       "      <td>11</td>\n",
       "      <td>992.76</td>\n",
       "      <td>57.9</td>\n",
       "      <td>52.25</td>\n",
       "      <td>0</td>\n",
       "      <td>2018-07-15</td>\n",
       "      <td>John Deere Classic</td>\n",
       "    </tr>\n",
       "  </tbody>\n",
       "</table>\n",
       "</div>"
      ],
      "text/plain": [
       "           PLAYER  TOTAL_EVENTS_PLAYED  CUTS_MADE  FEDEX_CUP_POINTS  \\\n",
       "0  A.J. McInerney                    2          1              0.00   \n",
       "1  Aaron Baddeley                   18         11            270.91   \n",
       "2      Aaron Wise                   19         11            992.76   \n",
       "\n",
       "   CUT_PERCENTAGE  form_density  CONSECUTIVE_CUTS ENDING_DATE  \\\n",
       "0            50.0          0.00                 0  2018-07-15   \n",
       "1            61.1         15.05                 0  2018-07-15   \n",
       "2            57.9         52.25                 0  2018-07-15   \n",
       "\n",
       "           TOURNAMENT  \n",
       "0  John Deere Classic  \n",
       "1  John Deere Classic  \n",
       "2  John Deere Classic  "
      ]
     },
     "metadata": {},
     "output_type": "display_data"
    },
    {
     "name": "stdout",
     "output_type": "stream",
     "text": [
      "\n",
      "📆 2019-07-14 — John Deere Classic (496 players)\n"
     ]
    },
    {
     "data": {
      "text/html": [
       "<div>\n",
       "<style scoped>\n",
       "    .dataframe tbody tr th:only-of-type {\n",
       "        vertical-align: middle;\n",
       "    }\n",
       "\n",
       "    .dataframe tbody tr th {\n",
       "        vertical-align: top;\n",
       "    }\n",
       "\n",
       "    .dataframe thead th {\n",
       "        text-align: right;\n",
       "    }\n",
       "</style>\n",
       "<table border=\"1\" class=\"dataframe\">\n",
       "  <thead>\n",
       "    <tr style=\"text-align: right;\">\n",
       "      <th></th>\n",
       "      <th>PLAYER</th>\n",
       "      <th>TOTAL_EVENTS_PLAYED</th>\n",
       "      <th>CUTS_MADE</th>\n",
       "      <th>FEDEX_CUP_POINTS</th>\n",
       "      <th>CUT_PERCENTAGE</th>\n",
       "      <th>form_density</th>\n",
       "      <th>CONSECUTIVE_CUTS</th>\n",
       "      <th>ENDING_DATE</th>\n",
       "      <th>TOURNAMENT</th>\n",
       "    </tr>\n",
       "  </thead>\n",
       "  <tbody>\n",
       "    <tr>\n",
       "      <th>0</th>\n",
       "      <td>Aaron Baddeley</td>\n",
       "      <td>14</td>\n",
       "      <td>7</td>\n",
       "      <td>169.88</td>\n",
       "      <td>50.0</td>\n",
       "      <td>12.13</td>\n",
       "      <td>0</td>\n",
       "      <td>2019-07-14</td>\n",
       "      <td>John Deere Classic</td>\n",
       "    </tr>\n",
       "    <tr>\n",
       "      <th>1</th>\n",
       "      <td>Aaron Wise</td>\n",
       "      <td>15</td>\n",
       "      <td>10</td>\n",
       "      <td>319.72</td>\n",
       "      <td>66.7</td>\n",
       "      <td>21.31</td>\n",
       "      <td>2</td>\n",
       "      <td>2019-07-14</td>\n",
       "      <td>John Deere Classic</td>\n",
       "    </tr>\n",
       "    <tr>\n",
       "      <th>2</th>\n",
       "      <td>Abraham Ancer</td>\n",
       "      <td>17</td>\n",
       "      <td>14</td>\n",
       "      <td>462.77</td>\n",
       "      <td>82.4</td>\n",
       "      <td>27.22</td>\n",
       "      <td>6</td>\n",
       "      <td>2019-07-14</td>\n",
       "      <td>John Deere Classic</td>\n",
       "    </tr>\n",
       "  </tbody>\n",
       "</table>\n",
       "</div>"
      ],
      "text/plain": [
       "           PLAYER  TOTAL_EVENTS_PLAYED  CUTS_MADE  FEDEX_CUP_POINTS  \\\n",
       "0  Aaron Baddeley                   14          7            169.88   \n",
       "1      Aaron Wise                   15         10            319.72   \n",
       "2   Abraham Ancer                   17         14            462.77   \n",
       "\n",
       "   CUT_PERCENTAGE  form_density  CONSECUTIVE_CUTS ENDING_DATE  \\\n",
       "0            50.0         12.13                 0  2019-07-14   \n",
       "1            66.7         21.31                 2  2019-07-14   \n",
       "2            82.4         27.22                 6  2019-07-14   \n",
       "\n",
       "           TOURNAMENT  \n",
       "0  John Deere Classic  \n",
       "1  John Deere Classic  \n",
       "2  John Deere Classic  "
      ]
     },
     "metadata": {},
     "output_type": "display_data"
    },
    {
     "name": "stdout",
     "output_type": "stream",
     "text": [
      "\n",
      "📆 2021-07-11 — John Deere Classic (485 players)\n"
     ]
    },
    {
     "data": {
      "text/html": [
       "<div>\n",
       "<style scoped>\n",
       "    .dataframe tbody tr th:only-of-type {\n",
       "        vertical-align: middle;\n",
       "    }\n",
       "\n",
       "    .dataframe tbody tr th {\n",
       "        vertical-align: top;\n",
       "    }\n",
       "\n",
       "    .dataframe thead th {\n",
       "        text-align: right;\n",
       "    }\n",
       "</style>\n",
       "<table border=\"1\" class=\"dataframe\">\n",
       "  <thead>\n",
       "    <tr style=\"text-align: right;\">\n",
       "      <th></th>\n",
       "      <th>PLAYER</th>\n",
       "      <th>TOTAL_EVENTS_PLAYED</th>\n",
       "      <th>CUTS_MADE</th>\n",
       "      <th>FEDEX_CUP_POINTS</th>\n",
       "      <th>CUT_PERCENTAGE</th>\n",
       "      <th>form_density</th>\n",
       "      <th>CONSECUTIVE_CUTS</th>\n",
       "      <th>ENDING_DATE</th>\n",
       "      <th>TOURNAMENT</th>\n",
       "    </tr>\n",
       "  </thead>\n",
       "  <tbody>\n",
       "    <tr>\n",
       "      <th>0</th>\n",
       "      <td>Aaron Baddeley</td>\n",
       "      <td>10</td>\n",
       "      <td>3</td>\n",
       "      <td>29.04</td>\n",
       "      <td>30.0</td>\n",
       "      <td>2.9</td>\n",
       "      <td>1</td>\n",
       "      <td>2021-07-11</td>\n",
       "      <td>John Deere Classic</td>\n",
       "    </tr>\n",
       "    <tr>\n",
       "      <th>1</th>\n",
       "      <td>Aaron Rai</td>\n",
       "      <td>1</td>\n",
       "      <td>0</td>\n",
       "      <td>0.00</td>\n",
       "      <td>0.0</td>\n",
       "      <td>0.0</td>\n",
       "      <td>0</td>\n",
       "      <td>2021-07-11</td>\n",
       "      <td>John Deere Classic</td>\n",
       "    </tr>\n",
       "    <tr>\n",
       "      <th>2</th>\n",
       "      <td>Aaron Terrazas</td>\n",
       "      <td>1</td>\n",
       "      <td>0</td>\n",
       "      <td>0.00</td>\n",
       "      <td>0.0</td>\n",
       "      <td>0.0</td>\n",
       "      <td>0</td>\n",
       "      <td>2021-07-11</td>\n",
       "      <td>John Deere Classic</td>\n",
       "    </tr>\n",
       "  </tbody>\n",
       "</table>\n",
       "</div>"
      ],
      "text/plain": [
       "           PLAYER  TOTAL_EVENTS_PLAYED  CUTS_MADE  FEDEX_CUP_POINTS  \\\n",
       "0  Aaron Baddeley                   10          3             29.04   \n",
       "1       Aaron Rai                    1          0              0.00   \n",
       "2  Aaron Terrazas                    1          0              0.00   \n",
       "\n",
       "   CUT_PERCENTAGE  form_density  CONSECUTIVE_CUTS ENDING_DATE  \\\n",
       "0            30.0           2.9                 1  2021-07-11   \n",
       "1             0.0           0.0                 0  2021-07-11   \n",
       "2             0.0           0.0                 0  2021-07-11   \n",
       "\n",
       "           TOURNAMENT  \n",
       "0  John Deere Classic  \n",
       "1  John Deere Classic  \n",
       "2  John Deere Classic  "
      ]
     },
     "metadata": {},
     "output_type": "display_data"
    },
    {
     "name": "stdout",
     "output_type": "stream",
     "text": [
      "\n",
      "📆 2022-07-03 — John Deere Classic (526 players)\n"
     ]
    },
    {
     "data": {
      "text/html": [
       "<div>\n",
       "<style scoped>\n",
       "    .dataframe tbody tr th:only-of-type {\n",
       "        vertical-align: middle;\n",
       "    }\n",
       "\n",
       "    .dataframe tbody tr th {\n",
       "        vertical-align: top;\n",
       "    }\n",
       "\n",
       "    .dataframe thead th {\n",
       "        text-align: right;\n",
       "    }\n",
       "</style>\n",
       "<table border=\"1\" class=\"dataframe\">\n",
       "  <thead>\n",
       "    <tr style=\"text-align: right;\">\n",
       "      <th></th>\n",
       "      <th>PLAYER</th>\n",
       "      <th>TOTAL_EVENTS_PLAYED</th>\n",
       "      <th>CUTS_MADE</th>\n",
       "      <th>FEDEX_CUP_POINTS</th>\n",
       "      <th>CUT_PERCENTAGE</th>\n",
       "      <th>form_density</th>\n",
       "      <th>CONSECUTIVE_CUTS</th>\n",
       "      <th>ENDING_DATE</th>\n",
       "      <th>TOURNAMENT</th>\n",
       "    </tr>\n",
       "  </thead>\n",
       "  <tbody>\n",
       "    <tr>\n",
       "      <th>0</th>\n",
       "      <td>A.J. Ewart</td>\n",
       "      <td>1</td>\n",
       "      <td>0</td>\n",
       "      <td>0.00</td>\n",
       "      <td>0.0</td>\n",
       "      <td>0.00</td>\n",
       "      <td>0</td>\n",
       "      <td>2022-07-03</td>\n",
       "      <td>John Deere Classic</td>\n",
       "    </tr>\n",
       "    <tr>\n",
       "      <th>1</th>\n",
       "      <td>Aaron Baddeley</td>\n",
       "      <td>4</td>\n",
       "      <td>1</td>\n",
       "      <td>39.46</td>\n",
       "      <td>25.0</td>\n",
       "      <td>9.86</td>\n",
       "      <td>0</td>\n",
       "      <td>2022-07-03</td>\n",
       "      <td>John Deere Classic</td>\n",
       "    </tr>\n",
       "    <tr>\n",
       "      <th>2</th>\n",
       "      <td>Aaron Beverly</td>\n",
       "      <td>1</td>\n",
       "      <td>0</td>\n",
       "      <td>0.00</td>\n",
       "      <td>0.0</td>\n",
       "      <td>0.00</td>\n",
       "      <td>0</td>\n",
       "      <td>2022-07-03</td>\n",
       "      <td>John Deere Classic</td>\n",
       "    </tr>\n",
       "  </tbody>\n",
       "</table>\n",
       "</div>"
      ],
      "text/plain": [
       "           PLAYER  TOTAL_EVENTS_PLAYED  CUTS_MADE  FEDEX_CUP_POINTS  \\\n",
       "0      A.J. Ewart                    1          0              0.00   \n",
       "1  Aaron Baddeley                    4          1             39.46   \n",
       "2   Aaron Beverly                    1          0              0.00   \n",
       "\n",
       "   CUT_PERCENTAGE  form_density  CONSECUTIVE_CUTS ENDING_DATE  \\\n",
       "0             0.0          0.00                 0  2022-07-03   \n",
       "1            25.0          9.86                 0  2022-07-03   \n",
       "2             0.0          0.00                 0  2022-07-03   \n",
       "\n",
       "           TOURNAMENT  \n",
       "0  John Deere Classic  \n",
       "1  John Deere Classic  \n",
       "2  John Deere Classic  "
      ]
     },
     "metadata": {},
     "output_type": "display_data"
    },
    {
     "name": "stdout",
     "output_type": "stream",
     "text": [
      "\n",
      "📆 2023-07-09 — John Deere Classic (541 players)\n"
     ]
    },
    {
     "data": {
      "text/html": [
       "<div>\n",
       "<style scoped>\n",
       "    .dataframe tbody tr th:only-of-type {\n",
       "        vertical-align: middle;\n",
       "    }\n",
       "\n",
       "    .dataframe tbody tr th {\n",
       "        vertical-align: top;\n",
       "    }\n",
       "\n",
       "    .dataframe thead th {\n",
       "        text-align: right;\n",
       "    }\n",
       "</style>\n",
       "<table border=\"1\" class=\"dataframe\">\n",
       "  <thead>\n",
       "    <tr style=\"text-align: right;\">\n",
       "      <th></th>\n",
       "      <th>PLAYER</th>\n",
       "      <th>TOTAL_EVENTS_PLAYED</th>\n",
       "      <th>CUTS_MADE</th>\n",
       "      <th>FEDEX_CUP_POINTS</th>\n",
       "      <th>CUT_PERCENTAGE</th>\n",
       "      <th>form_density</th>\n",
       "      <th>CONSECUTIVE_CUTS</th>\n",
       "      <th>ENDING_DATE</th>\n",
       "      <th>TOURNAMENT</th>\n",
       "    </tr>\n",
       "  </thead>\n",
       "  <tbody>\n",
       "    <tr>\n",
       "      <th>0</th>\n",
       "      <td>Aaron Baddeley</td>\n",
       "      <td>15</td>\n",
       "      <td>10</td>\n",
       "      <td>325.286</td>\n",
       "      <td>66.7</td>\n",
       "      <td>21.69</td>\n",
       "      <td>0</td>\n",
       "      <td>2023-07-09</td>\n",
       "      <td>John Deere Classic</td>\n",
       "    </tr>\n",
       "    <tr>\n",
       "      <th>1</th>\n",
       "      <td>Aaron Beverly</td>\n",
       "      <td>1</td>\n",
       "      <td>1</td>\n",
       "      <td>0.000</td>\n",
       "      <td>100.0</td>\n",
       "      <td>0.00</td>\n",
       "      <td>1</td>\n",
       "      <td>2023-07-09</td>\n",
       "      <td>John Deere Classic</td>\n",
       "    </tr>\n",
       "    <tr>\n",
       "      <th>2</th>\n",
       "      <td>Aaron Cockerill</td>\n",
       "      <td>1</td>\n",
       "      <td>0</td>\n",
       "      <td>0.000</td>\n",
       "      <td>0.0</td>\n",
       "      <td>0.00</td>\n",
       "      <td>0</td>\n",
       "      <td>2023-07-09</td>\n",
       "      <td>John Deere Classic</td>\n",
       "    </tr>\n",
       "  </tbody>\n",
       "</table>\n",
       "</div>"
      ],
      "text/plain": [
       "            PLAYER  TOTAL_EVENTS_PLAYED  CUTS_MADE  FEDEX_CUP_POINTS  \\\n",
       "0   Aaron Baddeley                   15         10           325.286   \n",
       "1    Aaron Beverly                    1          1             0.000   \n",
       "2  Aaron Cockerill                    1          0             0.000   \n",
       "\n",
       "   CUT_PERCENTAGE  form_density  CONSECUTIVE_CUTS ENDING_DATE  \\\n",
       "0            66.7         21.69                 0  2023-07-09   \n",
       "1           100.0          0.00                 1  2023-07-09   \n",
       "2             0.0          0.00                 0  2023-07-09   \n",
       "\n",
       "           TOURNAMENT  \n",
       "0  John Deere Classic  \n",
       "1  John Deere Classic  \n",
       "2  John Deere Classic  "
      ]
     },
     "metadata": {},
     "output_type": "display_data"
    },
    {
     "name": "stdout",
     "output_type": "stream",
     "text": [
      "\n",
      "📆 2024-07-07 — John Deere Classic (510 players)\n"
     ]
    },
    {
     "data": {
      "text/html": [
       "<div>\n",
       "<style scoped>\n",
       "    .dataframe tbody tr th:only-of-type {\n",
       "        vertical-align: middle;\n",
       "    }\n",
       "\n",
       "    .dataframe tbody tr th {\n",
       "        vertical-align: top;\n",
       "    }\n",
       "\n",
       "    .dataframe thead th {\n",
       "        text-align: right;\n",
       "    }\n",
       "</style>\n",
       "<table border=\"1\" class=\"dataframe\">\n",
       "  <thead>\n",
       "    <tr style=\"text-align: right;\">\n",
       "      <th></th>\n",
       "      <th>PLAYER</th>\n",
       "      <th>TOTAL_EVENTS_PLAYED</th>\n",
       "      <th>CUTS_MADE</th>\n",
       "      <th>FEDEX_CUP_POINTS</th>\n",
       "      <th>CUT_PERCENTAGE</th>\n",
       "      <th>form_density</th>\n",
       "      <th>CONSECUTIVE_CUTS</th>\n",
       "      <th>ENDING_DATE</th>\n",
       "      <th>TOURNAMENT</th>\n",
       "    </tr>\n",
       "  </thead>\n",
       "  <tbody>\n",
       "    <tr>\n",
       "      <th>0</th>\n",
       "      <td>Aaron Baddeley</td>\n",
       "      <td>14</td>\n",
       "      <td>10</td>\n",
       "      <td>184.725</td>\n",
       "      <td>71.4</td>\n",
       "      <td>13.19</td>\n",
       "      <td>1</td>\n",
       "      <td>2024-07-07</td>\n",
       "      <td>John Deere Classic</td>\n",
       "    </tr>\n",
       "    <tr>\n",
       "      <th>1</th>\n",
       "      <td>Aaron Cockerill</td>\n",
       "      <td>1</td>\n",
       "      <td>0</td>\n",
       "      <td>0.000</td>\n",
       "      <td>0.0</td>\n",
       "      <td>0.00</td>\n",
       "      <td>0</td>\n",
       "      <td>2024-07-07</td>\n",
       "      <td>John Deere Classic</td>\n",
       "    </tr>\n",
       "    <tr>\n",
       "      <th>2</th>\n",
       "      <td>Aaron Rai</td>\n",
       "      <td>17</td>\n",
       "      <td>14</td>\n",
       "      <td>728.257</td>\n",
       "      <td>82.4</td>\n",
       "      <td>42.84</td>\n",
       "      <td>8</td>\n",
       "      <td>2024-07-07</td>\n",
       "      <td>John Deere Classic</td>\n",
       "    </tr>\n",
       "  </tbody>\n",
       "</table>\n",
       "</div>"
      ],
      "text/plain": [
       "            PLAYER  TOTAL_EVENTS_PLAYED  CUTS_MADE  FEDEX_CUP_POINTS  \\\n",
       "0   Aaron Baddeley                   14         10           184.725   \n",
       "1  Aaron Cockerill                    1          0             0.000   \n",
       "2        Aaron Rai                   17         14           728.257   \n",
       "\n",
       "   CUT_PERCENTAGE  form_density  CONSECUTIVE_CUTS ENDING_DATE  \\\n",
       "0            71.4         13.19                 1  2024-07-07   \n",
       "1             0.0          0.00                 0  2024-07-07   \n",
       "2            82.4         42.84                 8  2024-07-07   \n",
       "\n",
       "           TOURNAMENT  \n",
       "0  John Deere Classic  \n",
       "1  John Deere Classic  \n",
       "2  John Deere Classic  "
      ]
     },
     "metadata": {},
     "output_type": "display_data"
    }
   ],
   "source": [
    "importlib.reload(utils.db_utils)\n",
    "from utils.db_utils import get_cut_and_fedex_history\n",
    "\n",
    "cuts = get_cut_and_fedex_history(\"data/golf.db\", history_df, window_months=9)\n",
    "# cuts[\"2024-05-12\"].head(20)\n",
    "\n",
    "for end_date, df in cuts.items():\n",
    "    print(f\"\\n📆 {end_date} — {df['TOURNAMENT'].iloc[0]} ({len(df)} players)\")\n",
    "    display(df.head(3))"
   ]
  },
  {
   "cell_type": "markdown",
   "id": "ce90fa05",
   "metadata": {},
   "source": [
    "### Recent Form"
   ]
  },
  {
   "cell_type": "code",
   "execution_count": 6,
   "id": "20095a72",
   "metadata": {},
   "outputs": [
    {
     "name": "stdout",
     "output_type": "stream",
     "text": [
      "\n",
      "📆 2016-08-14 — John Deere Classic (516 players)\n"
     ]
    },
    {
     "data": {
      "text/html": [
       "<div>\n",
       "<style scoped>\n",
       "    .dataframe tbody tr th:only-of-type {\n",
       "        vertical-align: middle;\n",
       "    }\n",
       "\n",
       "    .dataframe tbody tr th {\n",
       "        vertical-align: top;\n",
       "    }\n",
       "\n",
       "    .dataframe thead th {\n",
       "        text-align: right;\n",
       "    }\n",
       "</style>\n",
       "<table border=\"1\" class=\"dataframe\">\n",
       "  <thead>\n",
       "    <tr style=\"text-align: right;\">\n",
       "      <th></th>\n",
       "      <th>PLAYER</th>\n",
       "      <th>TOTAL_EVENTS_PLAYED</th>\n",
       "      <th>RECENT_FORM</th>\n",
       "      <th>adj_form</th>\n",
       "      <th>ENDING_DATE</th>\n",
       "      <th>TOURNAMENT</th>\n",
       "    </tr>\n",
       "  </thead>\n",
       "  <tbody>\n",
       "    <tr>\n",
       "      <th>0</th>\n",
       "      <td>Jared du Toit</td>\n",
       "      <td>1</td>\n",
       "      <td>9.0</td>\n",
       "      <td>12.98</td>\n",
       "      <td>2016-08-14</td>\n",
       "      <td>John Deere Classic</td>\n",
       "    </tr>\n",
       "    <tr>\n",
       "      <th>1</th>\n",
       "      <td>Tyrrell Hatton</td>\n",
       "      <td>3</td>\n",
       "      <td>10.7</td>\n",
       "      <td>7.72</td>\n",
       "      <td>2016-08-14</td>\n",
       "      <td>John Deere Classic</td>\n",
       "    </tr>\n",
       "    <tr>\n",
       "      <th>2</th>\n",
       "      <td>Matthew Southgate</td>\n",
       "      <td>1</td>\n",
       "      <td>12.0</td>\n",
       "      <td>17.31</td>\n",
       "      <td>2016-08-14</td>\n",
       "      <td>John Deere Classic</td>\n",
       "    </tr>\n",
       "  </tbody>\n",
       "</table>\n",
       "</div>"
      ],
      "text/plain": [
       "              PLAYER  TOTAL_EVENTS_PLAYED  RECENT_FORM  adj_form ENDING_DATE  \\\n",
       "0      Jared du Toit                    1          9.0     12.98  2016-08-14   \n",
       "1     Tyrrell Hatton                    3         10.7      7.72  2016-08-14   \n",
       "2  Matthew Southgate                    1         12.0     17.31  2016-08-14   \n",
       "\n",
       "           TOURNAMENT  \n",
       "0  John Deere Classic  \n",
       "1  John Deere Classic  \n",
       "2  John Deere Classic  "
      ]
     },
     "metadata": {},
     "output_type": "display_data"
    },
    {
     "name": "stdout",
     "output_type": "stream",
     "text": [
      "\n",
      "📆 2017-07-16 — John Deere Classic (455 players)\n"
     ]
    },
    {
     "data": {
      "text/html": [
       "<div>\n",
       "<style scoped>\n",
       "    .dataframe tbody tr th:only-of-type {\n",
       "        vertical-align: middle;\n",
       "    }\n",
       "\n",
       "    .dataframe tbody tr th {\n",
       "        vertical-align: top;\n",
       "    }\n",
       "\n",
       "    .dataframe thead th {\n",
       "        text-align: right;\n",
       "    }\n",
       "</style>\n",
       "<table border=\"1\" class=\"dataframe\">\n",
       "  <thead>\n",
       "    <tr style=\"text-align: right;\">\n",
       "      <th></th>\n",
       "      <th>PLAYER</th>\n",
       "      <th>TOTAL_EVENTS_PLAYED</th>\n",
       "      <th>RECENT_FORM</th>\n",
       "      <th>adj_form</th>\n",
       "      <th>ENDING_DATE</th>\n",
       "      <th>TOURNAMENT</th>\n",
       "    </tr>\n",
       "  </thead>\n",
       "  <tbody>\n",
       "    <tr>\n",
       "      <th>0</th>\n",
       "      <td>Keith Mitchell</td>\n",
       "      <td>1</td>\n",
       "      <td>11.0</td>\n",
       "      <td>15.87</td>\n",
       "      <td>2017-07-16</td>\n",
       "      <td>John Deere Classic</td>\n",
       "    </tr>\n",
       "    <tr>\n",
       "      <th>1</th>\n",
       "      <td>Oscar Fraustro</td>\n",
       "      <td>1</td>\n",
       "      <td>13.0</td>\n",
       "      <td>18.76</td>\n",
       "      <td>2017-07-16</td>\n",
       "      <td>John Deere Classic</td>\n",
       "    </tr>\n",
       "    <tr>\n",
       "      <th>2</th>\n",
       "      <td>Cam Davis</td>\n",
       "      <td>1</td>\n",
       "      <td>15.0</td>\n",
       "      <td>21.64</td>\n",
       "      <td>2017-07-16</td>\n",
       "      <td>John Deere Classic</td>\n",
       "    </tr>\n",
       "  </tbody>\n",
       "</table>\n",
       "</div>"
      ],
      "text/plain": [
       "           PLAYER  TOTAL_EVENTS_PLAYED  RECENT_FORM  adj_form ENDING_DATE  \\\n",
       "0  Keith Mitchell                    1         11.0     15.87  2017-07-16   \n",
       "1  Oscar Fraustro                    1         13.0     18.76  2017-07-16   \n",
       "2       Cam Davis                    1         15.0     21.64  2017-07-16   \n",
       "\n",
       "           TOURNAMENT  \n",
       "0  John Deere Classic  \n",
       "1  John Deere Classic  \n",
       "2  John Deere Classic  "
      ]
     },
     "metadata": {},
     "output_type": "display_data"
    },
    {
     "name": "stdout",
     "output_type": "stream",
     "text": [
      "\n",
      "📆 2018-07-15 — John Deere Classic (458 players)\n"
     ]
    },
    {
     "data": {
      "text/html": [
       "<div>\n",
       "<style scoped>\n",
       "    .dataframe tbody tr th:only-of-type {\n",
       "        vertical-align: middle;\n",
       "    }\n",
       "\n",
       "    .dataframe tbody tr th {\n",
       "        vertical-align: top;\n",
       "    }\n",
       "\n",
       "    .dataframe thead th {\n",
       "        text-align: right;\n",
       "    }\n",
       "</style>\n",
       "<table border=\"1\" class=\"dataframe\">\n",
       "  <thead>\n",
       "    <tr style=\"text-align: right;\">\n",
       "      <th></th>\n",
       "      <th>PLAYER</th>\n",
       "      <th>TOTAL_EVENTS_PLAYED</th>\n",
       "      <th>RECENT_FORM</th>\n",
       "      <th>adj_form</th>\n",
       "      <th>ENDING_DATE</th>\n",
       "      <th>TOURNAMENT</th>\n",
       "    </tr>\n",
       "  </thead>\n",
       "  <tbody>\n",
       "    <tr>\n",
       "      <th>0</th>\n",
       "      <td>Chase Seiffert</td>\n",
       "      <td>1</td>\n",
       "      <td>9.0</td>\n",
       "      <td>12.98</td>\n",
       "      <td>2018-07-15</td>\n",
       "      <td>John Deere Classic</td>\n",
       "    </tr>\n",
       "    <tr>\n",
       "      <th>1</th>\n",
       "      <td>Dustin Johnson</td>\n",
       "      <td>8</td>\n",
       "      <td>9.1</td>\n",
       "      <td>4.14</td>\n",
       "      <td>2018-07-15</td>\n",
       "      <td>John Deere Classic</td>\n",
       "    </tr>\n",
       "    <tr>\n",
       "      <th>2</th>\n",
       "      <td>Justin Rose</td>\n",
       "      <td>9</td>\n",
       "      <td>13.3</td>\n",
       "      <td>5.78</td>\n",
       "      <td>2018-07-15</td>\n",
       "      <td>John Deere Classic</td>\n",
       "    </tr>\n",
       "  </tbody>\n",
       "</table>\n",
       "</div>"
      ],
      "text/plain": [
       "           PLAYER  TOTAL_EVENTS_PLAYED  RECENT_FORM  adj_form ENDING_DATE  \\\n",
       "0  Chase Seiffert                    1          9.0     12.98  2018-07-15   \n",
       "1  Dustin Johnson                    8          9.1      4.14  2018-07-15   \n",
       "2     Justin Rose                    9         13.3      5.78  2018-07-15   \n",
       "\n",
       "           TOURNAMENT  \n",
       "0  John Deere Classic  \n",
       "1  John Deere Classic  \n",
       "2  John Deere Classic  "
      ]
     },
     "metadata": {},
     "output_type": "display_data"
    },
    {
     "name": "stdout",
     "output_type": "stream",
     "text": [
      "\n",
      "📆 2019-07-14 — John Deere Classic (496 players)\n"
     ]
    },
    {
     "data": {
      "text/html": [
       "<div>\n",
       "<style scoped>\n",
       "    .dataframe tbody tr th:only-of-type {\n",
       "        vertical-align: middle;\n",
       "    }\n",
       "\n",
       "    .dataframe tbody tr th {\n",
       "        vertical-align: top;\n",
       "    }\n",
       "\n",
       "    .dataframe thead th {\n",
       "        text-align: right;\n",
       "    }\n",
       "</style>\n",
       "<table border=\"1\" class=\"dataframe\">\n",
       "  <thead>\n",
       "    <tr style=\"text-align: right;\">\n",
       "      <th></th>\n",
       "      <th>PLAYER</th>\n",
       "      <th>TOTAL_EVENTS_PLAYED</th>\n",
       "      <th>RECENT_FORM</th>\n",
       "      <th>adj_form</th>\n",
       "      <th>ENDING_DATE</th>\n",
       "      <th>TOURNAMENT</th>\n",
       "    </tr>\n",
       "  </thead>\n",
       "  <tbody>\n",
       "    <tr>\n",
       "      <th>0</th>\n",
       "      <td>Jazz Janewattananond</td>\n",
       "      <td>1</td>\n",
       "      <td>14.0</td>\n",
       "      <td>20.20</td>\n",
       "      <td>2019-07-14</td>\n",
       "      <td>John Deere Classic</td>\n",
       "    </tr>\n",
       "    <tr>\n",
       "      <th>1</th>\n",
       "      <td>Rory McIlroy</td>\n",
       "      <td>10</td>\n",
       "      <td>15.2</td>\n",
       "      <td>6.34</td>\n",
       "      <td>2019-07-14</td>\n",
       "      <td>John Deere Classic</td>\n",
       "    </tr>\n",
       "    <tr>\n",
       "      <th>2</th>\n",
       "      <td>Michael Lorenzo-Vera</td>\n",
       "      <td>1</td>\n",
       "      <td>16.0</td>\n",
       "      <td>23.08</td>\n",
       "      <td>2019-07-14</td>\n",
       "      <td>John Deere Classic</td>\n",
       "    </tr>\n",
       "  </tbody>\n",
       "</table>\n",
       "</div>"
      ],
      "text/plain": [
       "                 PLAYER  TOTAL_EVENTS_PLAYED  RECENT_FORM  adj_form  \\\n",
       "0  Jazz Janewattananond                    1         14.0     20.20   \n",
       "1          Rory McIlroy                   10         15.2      6.34   \n",
       "2  Michael Lorenzo-Vera                    1         16.0     23.08   \n",
       "\n",
       "  ENDING_DATE          TOURNAMENT  \n",
       "0  2019-07-14  John Deere Classic  \n",
       "1  2019-07-14  John Deere Classic  \n",
       "2  2019-07-14  John Deere Classic  "
      ]
     },
     "metadata": {},
     "output_type": "display_data"
    },
    {
     "name": "stdout",
     "output_type": "stream",
     "text": [
      "\n",
      "📆 2021-07-11 — John Deere Classic (485 players)\n"
     ]
    },
    {
     "data": {
      "text/html": [
       "<div>\n",
       "<style scoped>\n",
       "    .dataframe tbody tr th:only-of-type {\n",
       "        vertical-align: middle;\n",
       "    }\n",
       "\n",
       "    .dataframe tbody tr th {\n",
       "        vertical-align: top;\n",
       "    }\n",
       "\n",
       "    .dataframe thead th {\n",
       "        text-align: right;\n",
       "    }\n",
       "</style>\n",
       "<table border=\"1\" class=\"dataframe\">\n",
       "  <thead>\n",
       "    <tr style=\"text-align: right;\">\n",
       "      <th></th>\n",
       "      <th>PLAYER</th>\n",
       "      <th>TOTAL_EVENTS_PLAYED</th>\n",
       "      <th>RECENT_FORM</th>\n",
       "      <th>adj_form</th>\n",
       "      <th>ENDING_DATE</th>\n",
       "      <th>TOURNAMENT</th>\n",
       "    </tr>\n",
       "  </thead>\n",
       "  <tbody>\n",
       "    <tr>\n",
       "      <th>0</th>\n",
       "      <td>Guido Migliozzi</td>\n",
       "      <td>2</td>\n",
       "      <td>8.5</td>\n",
       "      <td>7.74</td>\n",
       "      <td>2021-07-11</td>\n",
       "      <td>John Deere Classic</td>\n",
       "    </tr>\n",
       "    <tr>\n",
       "      <th>1</th>\n",
       "      <td>Dawie van der Walt</td>\n",
       "      <td>1</td>\n",
       "      <td>20.0</td>\n",
       "      <td>28.85</td>\n",
       "      <td>2021-07-11</td>\n",
       "      <td>John Deere Classic</td>\n",
       "    </tr>\n",
       "    <tr>\n",
       "      <th>2</th>\n",
       "      <td>Curtis Thompson</td>\n",
       "      <td>1</td>\n",
       "      <td>21.0</td>\n",
       "      <td>30.30</td>\n",
       "      <td>2021-07-11</td>\n",
       "      <td>John Deere Classic</td>\n",
       "    </tr>\n",
       "  </tbody>\n",
       "</table>\n",
       "</div>"
      ],
      "text/plain": [
       "               PLAYER  TOTAL_EVENTS_PLAYED  RECENT_FORM  adj_form ENDING_DATE  \\\n",
       "0     Guido Migliozzi                    2          8.5      7.74  2021-07-11   \n",
       "1  Dawie van der Walt                    1         20.0     28.85  2021-07-11   \n",
       "2     Curtis Thompson                    1         21.0     30.30  2021-07-11   \n",
       "\n",
       "           TOURNAMENT  \n",
       "0  John Deere Classic  \n",
       "1  John Deere Classic  \n",
       "2  John Deere Classic  "
      ]
     },
     "metadata": {},
     "output_type": "display_data"
    },
    {
     "name": "stdout",
     "output_type": "stream",
     "text": [
      "\n",
      "📆 2022-07-03 — John Deere Classic (526 players)\n"
     ]
    },
    {
     "data": {
      "text/html": [
       "<div>\n",
       "<style scoped>\n",
       "    .dataframe tbody tr th:only-of-type {\n",
       "        vertical-align: middle;\n",
       "    }\n",
       "\n",
       "    .dataframe tbody tr th {\n",
       "        vertical-align: top;\n",
       "    }\n",
       "\n",
       "    .dataframe thead th {\n",
       "        text-align: right;\n",
       "    }\n",
       "</style>\n",
       "<table border=\"1\" class=\"dataframe\">\n",
       "  <thead>\n",
       "    <tr style=\"text-align: right;\">\n",
       "      <th></th>\n",
       "      <th>PLAYER</th>\n",
       "      <th>TOTAL_EVENTS_PLAYED</th>\n",
       "      <th>RECENT_FORM</th>\n",
       "      <th>adj_form</th>\n",
       "      <th>ENDING_DATE</th>\n",
       "      <th>TOURNAMENT</th>\n",
       "    </tr>\n",
       "  </thead>\n",
       "  <tbody>\n",
       "    <tr>\n",
       "      <th>0</th>\n",
       "      <td>Haotong Li</td>\n",
       "      <td>1</td>\n",
       "      <td>12.0</td>\n",
       "      <td>17.31</td>\n",
       "      <td>2022-07-03</td>\n",
       "      <td>John Deere Classic</td>\n",
       "    </tr>\n",
       "    <tr>\n",
       "      <th>1</th>\n",
       "      <td>Martin Contini</td>\n",
       "      <td>1</td>\n",
       "      <td>16.0</td>\n",
       "      <td>23.08</td>\n",
       "      <td>2022-07-03</td>\n",
       "      <td>John Deere Classic</td>\n",
       "    </tr>\n",
       "    <tr>\n",
       "      <th>2</th>\n",
       "      <td>Grant Hirschman</td>\n",
       "      <td>1</td>\n",
       "      <td>17.0</td>\n",
       "      <td>24.53</td>\n",
       "      <td>2022-07-03</td>\n",
       "      <td>John Deere Classic</td>\n",
       "    </tr>\n",
       "  </tbody>\n",
       "</table>\n",
       "</div>"
      ],
      "text/plain": [
       "            PLAYER  TOTAL_EVENTS_PLAYED  RECENT_FORM  adj_form ENDING_DATE  \\\n",
       "0       Haotong Li                    1         12.0     17.31  2022-07-03   \n",
       "1   Martin Contini                    1         16.0     23.08  2022-07-03   \n",
       "2  Grant Hirschman                    1         17.0     24.53  2022-07-03   \n",
       "\n",
       "           TOURNAMENT  \n",
       "0  John Deere Classic  \n",
       "1  John Deere Classic  \n",
       "2  John Deere Classic  "
      ]
     },
     "metadata": {},
     "output_type": "display_data"
    },
    {
     "name": "stdout",
     "output_type": "stream",
     "text": [
      "\n",
      "📆 2023-07-09 — John Deere Classic (541 players)\n"
     ]
    },
    {
     "data": {
      "text/html": [
       "<div>\n",
       "<style scoped>\n",
       "    .dataframe tbody tr th:only-of-type {\n",
       "        vertical-align: middle;\n",
       "    }\n",
       "\n",
       "    .dataframe tbody tr th {\n",
       "        vertical-align: top;\n",
       "    }\n",
       "\n",
       "    .dataframe thead th {\n",
       "        text-align: right;\n",
       "    }\n",
       "</style>\n",
       "<table border=\"1\" class=\"dataframe\">\n",
       "  <thead>\n",
       "    <tr style=\"text-align: right;\">\n",
       "      <th></th>\n",
       "      <th>PLAYER</th>\n",
       "      <th>TOTAL_EVENTS_PLAYED</th>\n",
       "      <th>RECENT_FORM</th>\n",
       "      <th>adj_form</th>\n",
       "      <th>ENDING_DATE</th>\n",
       "      <th>TOURNAMENT</th>\n",
       "    </tr>\n",
       "  </thead>\n",
       "  <tbody>\n",
       "    <tr>\n",
       "      <th>0</th>\n",
       "      <td>Joohyung Kim</td>\n",
       "      <td>1</td>\n",
       "      <td>1.0</td>\n",
       "      <td>1.44</td>\n",
       "      <td>2023-07-09</td>\n",
       "      <td>John Deere Classic</td>\n",
       "    </tr>\n",
       "    <tr>\n",
       "      <th>1</th>\n",
       "      <td>Brooks Koepka</td>\n",
       "      <td>3</td>\n",
       "      <td>6.7</td>\n",
       "      <td>4.83</td>\n",
       "      <td>2023-07-09</td>\n",
       "      <td>John Deere Classic</td>\n",
       "    </tr>\n",
       "    <tr>\n",
       "      <th>2</th>\n",
       "      <td>Scottie Scheffler</td>\n",
       "      <td>18</td>\n",
       "      <td>7.6</td>\n",
       "      <td>2.58</td>\n",
       "      <td>2023-07-09</td>\n",
       "      <td>John Deere Classic</td>\n",
       "    </tr>\n",
       "  </tbody>\n",
       "</table>\n",
       "</div>"
      ],
      "text/plain": [
       "              PLAYER  TOTAL_EVENTS_PLAYED  RECENT_FORM  adj_form ENDING_DATE  \\\n",
       "0       Joohyung Kim                    1          1.0      1.44  2023-07-09   \n",
       "1      Brooks Koepka                    3          6.7      4.83  2023-07-09   \n",
       "2  Scottie Scheffler                   18          7.6      2.58  2023-07-09   \n",
       "\n",
       "           TOURNAMENT  \n",
       "0  John Deere Classic  \n",
       "1  John Deere Classic  \n",
       "2  John Deere Classic  "
      ]
     },
     "metadata": {},
     "output_type": "display_data"
    },
    {
     "name": "stdout",
     "output_type": "stream",
     "text": [
      "\n",
      "📆 2024-07-07 — John Deere Classic (510 players)\n"
     ]
    },
    {
     "data": {
      "text/html": [
       "<div>\n",
       "<style scoped>\n",
       "    .dataframe tbody tr th:only-of-type {\n",
       "        vertical-align: middle;\n",
       "    }\n",
       "\n",
       "    .dataframe tbody tr th {\n",
       "        vertical-align: top;\n",
       "    }\n",
       "\n",
       "    .dataframe thead th {\n",
       "        text-align: right;\n",
       "    }\n",
       "</style>\n",
       "<table border=\"1\" class=\"dataframe\">\n",
       "  <thead>\n",
       "    <tr style=\"text-align: right;\">\n",
       "      <th></th>\n",
       "      <th>PLAYER</th>\n",
       "      <th>TOTAL_EVENTS_PLAYED</th>\n",
       "      <th>RECENT_FORM</th>\n",
       "      <th>adj_form</th>\n",
       "      <th>ENDING_DATE</th>\n",
       "      <th>TOURNAMENT</th>\n",
       "    </tr>\n",
       "  </thead>\n",
       "  <tbody>\n",
       "    <tr>\n",
       "      <th>0</th>\n",
       "      <td>Bryson DeChambeau</td>\n",
       "      <td>3</td>\n",
       "      <td>3.0</td>\n",
       "      <td>2.16</td>\n",
       "      <td>2024-07-07</td>\n",
       "      <td>John Deere Classic</td>\n",
       "    </tr>\n",
       "    <tr>\n",
       "      <th>1</th>\n",
       "      <td>Scottie Scheffler</td>\n",
       "      <td>16</td>\n",
       "      <td>6.3</td>\n",
       "      <td>2.22</td>\n",
       "      <td>2024-07-07</td>\n",
       "      <td>John Deere Classic</td>\n",
       "    </tr>\n",
       "    <tr>\n",
       "      <th>2</th>\n",
       "      <td>Xander Schauffele</td>\n",
       "      <td>16</td>\n",
       "      <td>12.9</td>\n",
       "      <td>4.55</td>\n",
       "      <td>2024-07-07</td>\n",
       "      <td>John Deere Classic</td>\n",
       "    </tr>\n",
       "  </tbody>\n",
       "</table>\n",
       "</div>"
      ],
      "text/plain": [
       "              PLAYER  TOTAL_EVENTS_PLAYED  RECENT_FORM  adj_form ENDING_DATE  \\\n",
       "0  Bryson DeChambeau                    3          3.0      2.16  2024-07-07   \n",
       "1  Scottie Scheffler                   16          6.3      2.22  2024-07-07   \n",
       "2  Xander Schauffele                   16         12.9      4.55  2024-07-07   \n",
       "\n",
       "           TOURNAMENT  \n",
       "0  John Deere Classic  \n",
       "1  John Deere Classic  \n",
       "2  John Deere Classic  "
      ]
     },
     "metadata": {},
     "output_type": "display_data"
    }
   ],
   "source": [
    "importlib.reload(utils.db_utils)\n",
    "from utils.db_utils import get_recent_avg_finish\n",
    "\n",
    "recent_form = get_recent_avg_finish(\"data/golf.db\", history_df, window_months=9)\n",
    "\n",
    "# Example preview\n",
    "for date, df in recent_form.items(): \n",
    "    print(f\"\\n📆 {date} — {df['TOURNAMENT'].iloc[0]} ({len(df)} players)\")\n",
    "    display(df.head(3))"
   ]
  },
  {
   "cell_type": "markdown",
   "id": "76a77f44",
   "metadata": {},
   "source": [
    "### Course History"
   ]
  },
  {
   "cell_type": "code",
   "execution_count": 7,
   "id": "7412401a",
   "metadata": {},
   "outputs": [
    {
     "name": "stdout",
     "output_type": "stream",
     "text": [
      "\n",
      "🏌️‍♂️ Course history for John Deere Classic on 2016-08-14\n"
     ]
    },
    {
     "data": {
      "text/html": [
       "<div>\n",
       "<style scoped>\n",
       "    .dataframe tbody tr th:only-of-type {\n",
       "        vertical-align: middle;\n",
       "    }\n",
       "\n",
       "    .dataframe tbody tr th {\n",
       "        vertical-align: top;\n",
       "    }\n",
       "\n",
       "    .dataframe thead th {\n",
       "        text-align: right;\n",
       "    }\n",
       "</style>\n",
       "<table border=\"1\" class=\"dataframe\">\n",
       "  <thead>\n",
       "    <tr style=\"text-align: right;\">\n",
       "      <th></th>\n",
       "      <th>PLAYER</th>\n",
       "      <th>TOTAL_EVENTS_PLAYED</th>\n",
       "      <th>COURSE_HISTORY</th>\n",
       "      <th>adj_ch</th>\n",
       "      <th>ENDING_DATE</th>\n",
       "      <th>COURSE</th>\n",
       "      <th>TOURNAMENT</th>\n",
       "    </tr>\n",
       "  </thead>\n",
       "  <tbody>\n",
       "    <tr>\n",
       "      <th>0</th>\n",
       "      <td>Aaron Baddeley</td>\n",
       "      <td>1</td>\n",
       "      <td>90.0</td>\n",
       "      <td>129.84</td>\n",
       "      <td>2016-08-14</td>\n",
       "      <td>TPC Deere Run</td>\n",
       "      <td>John Deere Classic</td>\n",
       "    </tr>\n",
       "    <tr>\n",
       "      <th>1</th>\n",
       "      <td>Adam Hadwin</td>\n",
       "      <td>1</td>\n",
       "      <td>18.0</td>\n",
       "      <td>25.97</td>\n",
       "      <td>2016-08-14</td>\n",
       "      <td>TPC Deere Run</td>\n",
       "      <td>John Deere Classic</td>\n",
       "    </tr>\n",
       "    <tr>\n",
       "      <th>2</th>\n",
       "      <td>Alex Cejka</td>\n",
       "      <td>1</td>\n",
       "      <td>55.0</td>\n",
       "      <td>79.35</td>\n",
       "      <td>2016-08-14</td>\n",
       "      <td>TPC Deere Run</td>\n",
       "      <td>John Deere Classic</td>\n",
       "    </tr>\n",
       "  </tbody>\n",
       "</table>\n",
       "</div>"
      ],
      "text/plain": [
       "           PLAYER  TOTAL_EVENTS_PLAYED  COURSE_HISTORY  adj_ch ENDING_DATE  \\\n",
       "0  Aaron Baddeley                    1            90.0  129.84  2016-08-14   \n",
       "1     Adam Hadwin                    1            18.0   25.97  2016-08-14   \n",
       "2      Alex Cejka                    1            55.0   79.35  2016-08-14   \n",
       "\n",
       "          COURSE          TOURNAMENT  \n",
       "0  TPC Deere Run  John Deere Classic  \n",
       "1  TPC Deere Run  John Deere Classic  \n",
       "2  TPC Deere Run  John Deere Classic  "
      ]
     },
     "metadata": {},
     "output_type": "display_data"
    },
    {
     "name": "stdout",
     "output_type": "stream",
     "text": [
      "\n",
      "🏌️‍♂️ Course history for John Deere Classic on 2017-07-16\n"
     ]
    },
    {
     "data": {
      "text/html": [
       "<div>\n",
       "<style scoped>\n",
       "    .dataframe tbody tr th:only-of-type {\n",
       "        vertical-align: middle;\n",
       "    }\n",
       "\n",
       "    .dataframe tbody tr th {\n",
       "        vertical-align: top;\n",
       "    }\n",
       "\n",
       "    .dataframe thead th {\n",
       "        text-align: right;\n",
       "    }\n",
       "</style>\n",
       "<table border=\"1\" class=\"dataframe\">\n",
       "  <thead>\n",
       "    <tr style=\"text-align: right;\">\n",
       "      <th></th>\n",
       "      <th>PLAYER</th>\n",
       "      <th>TOTAL_EVENTS_PLAYED</th>\n",
       "      <th>COURSE_HISTORY</th>\n",
       "      <th>adj_ch</th>\n",
       "      <th>ENDING_DATE</th>\n",
       "      <th>COURSE</th>\n",
       "      <th>TOURNAMENT</th>\n",
       "    </tr>\n",
       "  </thead>\n",
       "  <tbody>\n",
       "    <tr>\n",
       "      <th>0</th>\n",
       "      <td>Aaron Baddeley</td>\n",
       "      <td>1</td>\n",
       "      <td>90.0</td>\n",
       "      <td>129.84</td>\n",
       "      <td>2017-07-16</td>\n",
       "      <td>TPC Deere Run</td>\n",
       "      <td>John Deere Classic</td>\n",
       "    </tr>\n",
       "    <tr>\n",
       "      <th>1</th>\n",
       "      <td>Aaron Wise</td>\n",
       "      <td>1</td>\n",
       "      <td>16.0</td>\n",
       "      <td>23.08</td>\n",
       "      <td>2017-07-16</td>\n",
       "      <td>TPC Deere Run</td>\n",
       "      <td>John Deere Classic</td>\n",
       "    </tr>\n",
       "    <tr>\n",
       "      <th>2</th>\n",
       "      <td>Abraham Ancer</td>\n",
       "      <td>1</td>\n",
       "      <td>27.0</td>\n",
       "      <td>38.95</td>\n",
       "      <td>2017-07-16</td>\n",
       "      <td>TPC Deere Run</td>\n",
       "      <td>John Deere Classic</td>\n",
       "    </tr>\n",
       "  </tbody>\n",
       "</table>\n",
       "</div>"
      ],
      "text/plain": [
       "           PLAYER  TOTAL_EVENTS_PLAYED  COURSE_HISTORY  adj_ch ENDING_DATE  \\\n",
       "0  Aaron Baddeley                    1            90.0  129.84  2017-07-16   \n",
       "1      Aaron Wise                    1            16.0   23.08  2017-07-16   \n",
       "2   Abraham Ancer                    1            27.0   38.95  2017-07-16   \n",
       "\n",
       "          COURSE          TOURNAMENT  \n",
       "0  TPC Deere Run  John Deere Classic  \n",
       "1  TPC Deere Run  John Deere Classic  \n",
       "2  TPC Deere Run  John Deere Classic  "
      ]
     },
     "metadata": {},
     "output_type": "display_data"
    },
    {
     "name": "stdout",
     "output_type": "stream",
     "text": [
      "\n",
      "🏌️‍♂️ Course history for John Deere Classic on 2018-07-15\n"
     ]
    },
    {
     "data": {
      "text/html": [
       "<div>\n",
       "<style scoped>\n",
       "    .dataframe tbody tr th:only-of-type {\n",
       "        vertical-align: middle;\n",
       "    }\n",
       "\n",
       "    .dataframe tbody tr th {\n",
       "        vertical-align: top;\n",
       "    }\n",
       "\n",
       "    .dataframe thead th {\n",
       "        text-align: right;\n",
       "    }\n",
       "</style>\n",
       "<table border=\"1\" class=\"dataframe\">\n",
       "  <thead>\n",
       "    <tr style=\"text-align: right;\">\n",
       "      <th></th>\n",
       "      <th>PLAYER</th>\n",
       "      <th>TOTAL_EVENTS_PLAYED</th>\n",
       "      <th>COURSE_HISTORY</th>\n",
       "      <th>adj_ch</th>\n",
       "      <th>ENDING_DATE</th>\n",
       "      <th>COURSE</th>\n",
       "      <th>TOURNAMENT</th>\n",
       "    </tr>\n",
       "  </thead>\n",
       "  <tbody>\n",
       "    <tr>\n",
       "      <th>0</th>\n",
       "      <td>Aaron Baddeley</td>\n",
       "      <td>1</td>\n",
       "      <td>90.0</td>\n",
       "      <td>129.84</td>\n",
       "      <td>2018-07-15</td>\n",
       "      <td>TPC Deere Run</td>\n",
       "      <td>John Deere Classic</td>\n",
       "    </tr>\n",
       "    <tr>\n",
       "      <th>1</th>\n",
       "      <td>Aaron Wise</td>\n",
       "      <td>1</td>\n",
       "      <td>16.0</td>\n",
       "      <td>23.08</td>\n",
       "      <td>2018-07-15</td>\n",
       "      <td>TPC Deere Run</td>\n",
       "      <td>John Deere Classic</td>\n",
       "    </tr>\n",
       "    <tr>\n",
       "      <th>2</th>\n",
       "      <td>Abraham Ancer</td>\n",
       "      <td>1</td>\n",
       "      <td>27.0</td>\n",
       "      <td>38.95</td>\n",
       "      <td>2018-07-15</td>\n",
       "      <td>TPC Deere Run</td>\n",
       "      <td>John Deere Classic</td>\n",
       "    </tr>\n",
       "  </tbody>\n",
       "</table>\n",
       "</div>"
      ],
      "text/plain": [
       "           PLAYER  TOTAL_EVENTS_PLAYED  COURSE_HISTORY  adj_ch ENDING_DATE  \\\n",
       "0  Aaron Baddeley                    1            90.0  129.84  2018-07-15   \n",
       "1      Aaron Wise                    1            16.0   23.08  2018-07-15   \n",
       "2   Abraham Ancer                    1            27.0   38.95  2018-07-15   \n",
       "\n",
       "          COURSE          TOURNAMENT  \n",
       "0  TPC Deere Run  John Deere Classic  \n",
       "1  TPC Deere Run  John Deere Classic  \n",
       "2  TPC Deere Run  John Deere Classic  "
      ]
     },
     "metadata": {},
     "output_type": "display_data"
    },
    {
     "name": "stdout",
     "output_type": "stream",
     "text": [
      "\n",
      "🏌️‍♂️ Course history for John Deere Classic on 2019-07-14\n"
     ]
    },
    {
     "data": {
      "text/html": [
       "<div>\n",
       "<style scoped>\n",
       "    .dataframe tbody tr th:only-of-type {\n",
       "        vertical-align: middle;\n",
       "    }\n",
       "\n",
       "    .dataframe tbody tr th {\n",
       "        vertical-align: top;\n",
       "    }\n",
       "\n",
       "    .dataframe thead th {\n",
       "        text-align: right;\n",
       "    }\n",
       "</style>\n",
       "<table border=\"1\" class=\"dataframe\">\n",
       "  <thead>\n",
       "    <tr style=\"text-align: right;\">\n",
       "      <th></th>\n",
       "      <th>PLAYER</th>\n",
       "      <th>TOTAL_EVENTS_PLAYED</th>\n",
       "      <th>COURSE_HISTORY</th>\n",
       "      <th>adj_ch</th>\n",
       "      <th>ENDING_DATE</th>\n",
       "      <th>COURSE</th>\n",
       "      <th>TOURNAMENT</th>\n",
       "    </tr>\n",
       "  </thead>\n",
       "  <tbody>\n",
       "    <tr>\n",
       "      <th>0</th>\n",
       "      <td>Aaron Baddeley</td>\n",
       "      <td>2</td>\n",
       "      <td>90.0</td>\n",
       "      <td>81.92</td>\n",
       "      <td>2019-07-14</td>\n",
       "      <td>TPC Deere Run</td>\n",
       "      <td>John Deere Classic</td>\n",
       "    </tr>\n",
       "    <tr>\n",
       "      <th>1</th>\n",
       "      <td>Aaron Wise</td>\n",
       "      <td>2</td>\n",
       "      <td>53.0</td>\n",
       "      <td>48.24</td>\n",
       "      <td>2019-07-14</td>\n",
       "      <td>TPC Deere Run</td>\n",
       "      <td>John Deere Classic</td>\n",
       "    </tr>\n",
       "    <tr>\n",
       "      <th>2</th>\n",
       "      <td>Abraham Ancer</td>\n",
       "      <td>1</td>\n",
       "      <td>27.0</td>\n",
       "      <td>38.95</td>\n",
       "      <td>2019-07-14</td>\n",
       "      <td>TPC Deere Run</td>\n",
       "      <td>John Deere Classic</td>\n",
       "    </tr>\n",
       "  </tbody>\n",
       "</table>\n",
       "</div>"
      ],
      "text/plain": [
       "           PLAYER  TOTAL_EVENTS_PLAYED  COURSE_HISTORY  adj_ch ENDING_DATE  \\\n",
       "0  Aaron Baddeley                    2            90.0   81.92  2019-07-14   \n",
       "1      Aaron Wise                    2            53.0   48.24  2019-07-14   \n",
       "2   Abraham Ancer                    1            27.0   38.95  2019-07-14   \n",
       "\n",
       "          COURSE          TOURNAMENT  \n",
       "0  TPC Deere Run  John Deere Classic  \n",
       "1  TPC Deere Run  John Deere Classic  \n",
       "2  TPC Deere Run  John Deere Classic  "
      ]
     },
     "metadata": {},
     "output_type": "display_data"
    },
    {
     "name": "stdout",
     "output_type": "stream",
     "text": [
      "\n",
      "🏌️‍♂️ Course history for John Deere Classic on 2021-07-11\n"
     ]
    },
    {
     "data": {
      "text/html": [
       "<div>\n",
       "<style scoped>\n",
       "    .dataframe tbody tr th:only-of-type {\n",
       "        vertical-align: middle;\n",
       "    }\n",
       "\n",
       "    .dataframe tbody tr th {\n",
       "        vertical-align: top;\n",
       "    }\n",
       "\n",
       "    .dataframe thead th {\n",
       "        text-align: right;\n",
       "    }\n",
       "</style>\n",
       "<table border=\"1\" class=\"dataframe\">\n",
       "  <thead>\n",
       "    <tr style=\"text-align: right;\">\n",
       "      <th></th>\n",
       "      <th>PLAYER</th>\n",
       "      <th>TOTAL_EVENTS_PLAYED</th>\n",
       "      <th>COURSE_HISTORY</th>\n",
       "      <th>adj_ch</th>\n",
       "      <th>ENDING_DATE</th>\n",
       "      <th>COURSE</th>\n",
       "      <th>TOURNAMENT</th>\n",
       "    </tr>\n",
       "  </thead>\n",
       "  <tbody>\n",
       "    <tr>\n",
       "      <th>0</th>\n",
       "      <td>Aaron Baddeley</td>\n",
       "      <td>2</td>\n",
       "      <td>90.0</td>\n",
       "      <td>81.92</td>\n",
       "      <td>2021-07-11</td>\n",
       "      <td>TPC Deere Run</td>\n",
       "      <td>John Deere Classic</td>\n",
       "    </tr>\n",
       "    <tr>\n",
       "      <th>1</th>\n",
       "      <td>Aaron Wise</td>\n",
       "      <td>2</td>\n",
       "      <td>53.0</td>\n",
       "      <td>48.24</td>\n",
       "      <td>2021-07-11</td>\n",
       "      <td>TPC Deere Run</td>\n",
       "      <td>John Deere Classic</td>\n",
       "    </tr>\n",
       "    <tr>\n",
       "      <th>2</th>\n",
       "      <td>Abraham Ancer</td>\n",
       "      <td>1</td>\n",
       "      <td>27.0</td>\n",
       "      <td>38.95</td>\n",
       "      <td>2021-07-11</td>\n",
       "      <td>TPC Deere Run</td>\n",
       "      <td>John Deere Classic</td>\n",
       "    </tr>\n",
       "  </tbody>\n",
       "</table>\n",
       "</div>"
      ],
      "text/plain": [
       "           PLAYER  TOTAL_EVENTS_PLAYED  COURSE_HISTORY  adj_ch ENDING_DATE  \\\n",
       "0  Aaron Baddeley                    2            90.0   81.92  2021-07-11   \n",
       "1      Aaron Wise                    2            53.0   48.24  2021-07-11   \n",
       "2   Abraham Ancer                    1            27.0   38.95  2021-07-11   \n",
       "\n",
       "          COURSE          TOURNAMENT  \n",
       "0  TPC Deere Run  John Deere Classic  \n",
       "1  TPC Deere Run  John Deere Classic  \n",
       "2  TPC Deere Run  John Deere Classic  "
      ]
     },
     "metadata": {},
     "output_type": "display_data"
    },
    {
     "name": "stdout",
     "output_type": "stream",
     "text": [
      "\n",
      "🏌️‍♂️ Course history for John Deere Classic on 2022-07-03\n"
     ]
    },
    {
     "data": {
      "text/html": [
       "<div>\n",
       "<style scoped>\n",
       "    .dataframe tbody tr th:only-of-type {\n",
       "        vertical-align: middle;\n",
       "    }\n",
       "\n",
       "    .dataframe tbody tr th {\n",
       "        vertical-align: top;\n",
       "    }\n",
       "\n",
       "    .dataframe thead th {\n",
       "        text-align: right;\n",
       "    }\n",
       "</style>\n",
       "<table border=\"1\" class=\"dataframe\">\n",
       "  <thead>\n",
       "    <tr style=\"text-align: right;\">\n",
       "      <th></th>\n",
       "      <th>PLAYER</th>\n",
       "      <th>TOTAL_EVENTS_PLAYED</th>\n",
       "      <th>COURSE_HISTORY</th>\n",
       "      <th>adj_ch</th>\n",
       "      <th>ENDING_DATE</th>\n",
       "      <th>COURSE</th>\n",
       "      <th>TOURNAMENT</th>\n",
       "    </tr>\n",
       "  </thead>\n",
       "  <tbody>\n",
       "    <tr>\n",
       "      <th>0</th>\n",
       "      <td>Aaron Baddeley</td>\n",
       "      <td>3</td>\n",
       "      <td>90.0</td>\n",
       "      <td>64.92</td>\n",
       "      <td>2022-07-03</td>\n",
       "      <td>TPC Deere Run</td>\n",
       "      <td>John Deere Classic</td>\n",
       "    </tr>\n",
       "    <tr>\n",
       "      <th>1</th>\n",
       "      <td>Aaron Wise</td>\n",
       "      <td>3</td>\n",
       "      <td>58.3</td>\n",
       "      <td>42.05</td>\n",
       "      <td>2022-07-03</td>\n",
       "      <td>TPC Deere Run</td>\n",
       "      <td>John Deere Classic</td>\n",
       "    </tr>\n",
       "    <tr>\n",
       "      <th>2</th>\n",
       "      <td>Abraham Ancer</td>\n",
       "      <td>1</td>\n",
       "      <td>27.0</td>\n",
       "      <td>38.95</td>\n",
       "      <td>2022-07-03</td>\n",
       "      <td>TPC Deere Run</td>\n",
       "      <td>John Deere Classic</td>\n",
       "    </tr>\n",
       "  </tbody>\n",
       "</table>\n",
       "</div>"
      ],
      "text/plain": [
       "           PLAYER  TOTAL_EVENTS_PLAYED  COURSE_HISTORY  adj_ch ENDING_DATE  \\\n",
       "0  Aaron Baddeley                    3            90.0   64.92  2022-07-03   \n",
       "1      Aaron Wise                    3            58.3   42.05  2022-07-03   \n",
       "2   Abraham Ancer                    1            27.0   38.95  2022-07-03   \n",
       "\n",
       "          COURSE          TOURNAMENT  \n",
       "0  TPC Deere Run  John Deere Classic  \n",
       "1  TPC Deere Run  John Deere Classic  \n",
       "2  TPC Deere Run  John Deere Classic  "
      ]
     },
     "metadata": {},
     "output_type": "display_data"
    },
    {
     "name": "stdout",
     "output_type": "stream",
     "text": [
      "\n",
      "🏌️‍♂️ Course history for John Deere Classic on 2023-07-09\n"
     ]
    },
    {
     "data": {
      "text/html": [
       "<div>\n",
       "<style scoped>\n",
       "    .dataframe tbody tr th:only-of-type {\n",
       "        vertical-align: middle;\n",
       "    }\n",
       "\n",
       "    .dataframe tbody tr th {\n",
       "        vertical-align: top;\n",
       "    }\n",
       "\n",
       "    .dataframe thead th {\n",
       "        text-align: right;\n",
       "    }\n",
       "</style>\n",
       "<table border=\"1\" class=\"dataframe\">\n",
       "  <thead>\n",
       "    <tr style=\"text-align: right;\">\n",
       "      <th></th>\n",
       "      <th>PLAYER</th>\n",
       "      <th>TOTAL_EVENTS_PLAYED</th>\n",
       "      <th>COURSE_HISTORY</th>\n",
       "      <th>adj_ch</th>\n",
       "      <th>ENDING_DATE</th>\n",
       "      <th>COURSE</th>\n",
       "      <th>TOURNAMENT</th>\n",
       "    </tr>\n",
       "  </thead>\n",
       "  <tbody>\n",
       "    <tr>\n",
       "      <th>0</th>\n",
       "      <td>Aaron Baddeley</td>\n",
       "      <td>3</td>\n",
       "      <td>77.0</td>\n",
       "      <td>55.54</td>\n",
       "      <td>2023-07-09</td>\n",
       "      <td>TPC Deere Run</td>\n",
       "      <td>John Deere Classic</td>\n",
       "    </tr>\n",
       "    <tr>\n",
       "      <th>1</th>\n",
       "      <td>Aaron Wise</td>\n",
       "      <td>3</td>\n",
       "      <td>58.3</td>\n",
       "      <td>42.05</td>\n",
       "      <td>2023-07-09</td>\n",
       "      <td>TPC Deere Run</td>\n",
       "      <td>John Deere Classic</td>\n",
       "    </tr>\n",
       "    <tr>\n",
       "      <th>2</th>\n",
       "      <td>Abraham Ancer</td>\n",
       "      <td>1</td>\n",
       "      <td>27.0</td>\n",
       "      <td>38.95</td>\n",
       "      <td>2023-07-09</td>\n",
       "      <td>TPC Deere Run</td>\n",
       "      <td>John Deere Classic</td>\n",
       "    </tr>\n",
       "  </tbody>\n",
       "</table>\n",
       "</div>"
      ],
      "text/plain": [
       "           PLAYER  TOTAL_EVENTS_PLAYED  COURSE_HISTORY  adj_ch ENDING_DATE  \\\n",
       "0  Aaron Baddeley                    3            77.0   55.54  2023-07-09   \n",
       "1      Aaron Wise                    3            58.3   42.05  2023-07-09   \n",
       "2   Abraham Ancer                    1            27.0   38.95  2023-07-09   \n",
       "\n",
       "          COURSE          TOURNAMENT  \n",
       "0  TPC Deere Run  John Deere Classic  \n",
       "1  TPC Deere Run  John Deere Classic  \n",
       "2  TPC Deere Run  John Deere Classic  "
      ]
     },
     "metadata": {},
     "output_type": "display_data"
    },
    {
     "name": "stdout",
     "output_type": "stream",
     "text": [
      "\n",
      "🏌️‍♂️ Course history for John Deere Classic on 2024-07-07\n"
     ]
    },
    {
     "data": {
      "text/html": [
       "<div>\n",
       "<style scoped>\n",
       "    .dataframe tbody tr th:only-of-type {\n",
       "        vertical-align: middle;\n",
       "    }\n",
       "\n",
       "    .dataframe tbody tr th {\n",
       "        vertical-align: top;\n",
       "    }\n",
       "\n",
       "    .dataframe thead th {\n",
       "        text-align: right;\n",
       "    }\n",
       "</style>\n",
       "<table border=\"1\" class=\"dataframe\">\n",
       "  <thead>\n",
       "    <tr style=\"text-align: right;\">\n",
       "      <th></th>\n",
       "      <th>PLAYER</th>\n",
       "      <th>TOTAL_EVENTS_PLAYED</th>\n",
       "      <th>COURSE_HISTORY</th>\n",
       "      <th>adj_ch</th>\n",
       "      <th>ENDING_DATE</th>\n",
       "      <th>COURSE</th>\n",
       "      <th>TOURNAMENT</th>\n",
       "    </tr>\n",
       "  </thead>\n",
       "  <tbody>\n",
       "    <tr>\n",
       "      <th>0</th>\n",
       "      <td>Aaron Baddeley</td>\n",
       "      <td>4</td>\n",
       "      <td>65.5</td>\n",
       "      <td>40.70</td>\n",
       "      <td>2024-07-07</td>\n",
       "      <td>TPC Deere Run</td>\n",
       "      <td>John Deere Classic</td>\n",
       "    </tr>\n",
       "    <tr>\n",
       "      <th>1</th>\n",
       "      <td>Aaron Wise</td>\n",
       "      <td>2</td>\n",
       "      <td>79.5</td>\n",
       "      <td>72.36</td>\n",
       "      <td>2024-07-07</td>\n",
       "      <td>TPC Deere Run</td>\n",
       "      <td>John Deere Classic</td>\n",
       "    </tr>\n",
       "    <tr>\n",
       "      <th>2</th>\n",
       "      <td>Adam Hadwin</td>\n",
       "      <td>2</td>\n",
       "      <td>90.0</td>\n",
       "      <td>81.92</td>\n",
       "      <td>2024-07-07</td>\n",
       "      <td>TPC Deere Run</td>\n",
       "      <td>John Deere Classic</td>\n",
       "    </tr>\n",
       "  </tbody>\n",
       "</table>\n",
       "</div>"
      ],
      "text/plain": [
       "           PLAYER  TOTAL_EVENTS_PLAYED  COURSE_HISTORY  adj_ch ENDING_DATE  \\\n",
       "0  Aaron Baddeley                    4            65.5   40.70  2024-07-07   \n",
       "1      Aaron Wise                    2            79.5   72.36  2024-07-07   \n",
       "2     Adam Hadwin                    2            90.0   81.92  2024-07-07   \n",
       "\n",
       "          COURSE          TOURNAMENT  \n",
       "0  TPC Deere Run  John Deere Classic  \n",
       "1  TPC Deere Run  John Deere Classic  \n",
       "2  TPC Deere Run  John Deere Classic  "
      ]
     },
     "metadata": {},
     "output_type": "display_data"
    }
   ],
   "source": [
    "importlib.reload(utils.db_utils)\n",
    "from utils.db_utils import get_course_history\n",
    "\n",
    "# Filter history_df for only the course we're targeting\n",
    "target_course = tournament_config[\"new\"][\"course\"]\n",
    "course_df = history_df[history_df[\"COURSE\"] == target_course]\n",
    "course_hist = get_course_history(\"data/golf.db\", course_df)\n",
    "\n",
    "# View example\n",
    "for date, df in course_hist.items():\n",
    "    if not df.empty:\n",
    "        print(f\"\\n🏌️‍♂️ Course history for {df['TOURNAMENT'].iloc[0]} on {date}\")\n",
    "        display(df.head(3))"
   ]
  },
  {
   "cell_type": "code",
   "execution_count": 12,
   "id": "bb9221e1",
   "metadata": {},
   "outputs": [],
   "source": [
    "#  DEBUGGING: Check for empty DataFrames or missing columns\n",
    "for date_key, df in course_hist.items():\n",
    "    if df.empty:\n",
    "        print(f\"ℹ️ Empty course_hist for date {date_key}\")\n",
    "    elif \"PLAYER\" not in df.columns:\n",
    "        print(f\"❌ Missing 'PLAYER' column in course_hist[{date_key}]. Columns present: {df.columns.tolist()}\")\n",
    "        display(df.head())"
   ]
  },
  {
   "cell_type": "markdown",
   "id": "e8fa7578",
   "metadata": {},
   "source": [
    "## Training Dataset"
   ]
  },
  {
   "cell_type": "code",
   "execution_count": 9,
   "id": "a4277295",
   "metadata": {},
   "outputs": [
    {
     "data": {
      "text/html": [
       "<div>\n",
       "<style scoped>\n",
       "    .dataframe tbody tr th:only-of-type {\n",
       "        vertical-align: middle;\n",
       "    }\n",
       "\n",
       "    .dataframe tbody tr th {\n",
       "        vertical-align: top;\n",
       "    }\n",
       "\n",
       "    .dataframe thead th {\n",
       "        text-align: right;\n",
       "    }\n",
       "</style>\n",
       "<table border=\"1\" class=\"dataframe\">\n",
       "  <thead>\n",
       "    <tr style=\"text-align: right;\">\n",
       "      <th></th>\n",
       "      <th>SEASON</th>\n",
       "      <th>ENDING_DATE</th>\n",
       "      <th>TOURNAMENT</th>\n",
       "      <th>COURSE</th>\n",
       "      <th>PLAYER</th>\n",
       "      <th>POS</th>\n",
       "      <th>FINAL_POS</th>\n",
       "      <th>SGTTG_RANK</th>\n",
       "      <th>SGTTG</th>\n",
       "      <th>SGOTT_RANK</th>\n",
       "      <th>SGOTT</th>\n",
       "      <th>SGAPR_RANK</th>\n",
       "      <th>SGAPR</th>\n",
       "      <th>SGATG_RANK</th>\n",
       "      <th>SGATG</th>\n",
       "      <th>SGP_RANK</th>\n",
       "      <th>SGP</th>\n",
       "      <th>BIRDIES_RANK</th>\n",
       "      <th>BIRDIES</th>\n",
       "      <th>PAR_3_RANK</th>\n",
       "      <th>PAR_3</th>\n",
       "      <th>PAR_4_RANK</th>\n",
       "      <th>PAR_4</th>\n",
       "      <th>PAR_5_RANK</th>\n",
       "      <th>PAR_5</th>\n",
       "      <th>TOTAL_DRIVING_RANK</th>\n",
       "      <th>TOTAL_DRIVING</th>\n",
       "      <th>DRIVING_DISTANCE_RANK</th>\n",
       "      <th>DRIVING_DISTANCE</th>\n",
       "      <th>DRIVING_ACCURACY_RANK</th>\n",
       "      <th>DRIVING_ACCURACY</th>\n",
       "      <th>GIR_RANK</th>\n",
       "      <th>GIR</th>\n",
       "      <th>SCRAMBLING_RANK</th>\n",
       "      <th>SCRAMBLING</th>\n",
       "      <th>OWGR_RANK</th>\n",
       "      <th>OWGR</th>\n",
       "      <th>VEGAS_ODDS</th>\n",
       "      <th>CUT_PERCENTAGE</th>\n",
       "      <th>FEDEX_CUP_POINTS</th>\n",
       "      <th>form_density</th>\n",
       "      <th>CONSECUTIVE_CUTS</th>\n",
       "      <th>RECENT_FORM</th>\n",
       "      <th>adj_form</th>\n",
       "      <th>COURSE_HISTORY</th>\n",
       "      <th>adj_ch</th>\n",
       "      <th>TOP_20</th>\n",
       "    </tr>\n",
       "  </thead>\n",
       "  <tbody>\n",
       "    <tr>\n",
       "      <th>0</th>\n",
       "      <td>2016</td>\n",
       "      <td>2016-08-14</td>\n",
       "      <td>John Deere Classic</td>\n",
       "      <td>TPC Deere Run</td>\n",
       "      <td>Aaron Wise</td>\n",
       "      <td>T16</td>\n",
       "      <td>16</td>\n",
       "      <td>NaN</td>\n",
       "      <td>NaN</td>\n",
       "      <td>NaN</td>\n",
       "      <td>NaN</td>\n",
       "      <td>NaN</td>\n",
       "      <td>NaN</td>\n",
       "      <td>NaN</td>\n",
       "      <td>NaN</td>\n",
       "      <td>NaN</td>\n",
       "      <td>NaN</td>\n",
       "      <td>NaN</td>\n",
       "      <td>None</td>\n",
       "      <td>NaN</td>\n",
       "      <td>NaN</td>\n",
       "      <td>NaN</td>\n",
       "      <td>NaN</td>\n",
       "      <td>NaN</td>\n",
       "      <td>NaN</td>\n",
       "      <td>NaN</td>\n",
       "      <td>NaN</td>\n",
       "      <td>NaN</td>\n",
       "      <td>NaN</td>\n",
       "      <td>NaN</td>\n",
       "      <td>None</td>\n",
       "      <td>NaN</td>\n",
       "      <td>None</td>\n",
       "      <td>NaN</td>\n",
       "      <td>None</td>\n",
       "      <td>609.0</td>\n",
       "      <td>0.26</td>\n",
       "      <td>80.0</td>\n",
       "      <td>0.0</td>\n",
       "      <td>0.00</td>\n",
       "      <td>0.00</td>\n",
       "      <td>0.0</td>\n",
       "      <td>90.0</td>\n",
       "      <td>129.84</td>\n",
       "      <td>NaN</td>\n",
       "      <td>NaN</td>\n",
       "      <td>1</td>\n",
       "    </tr>\n",
       "    <tr>\n",
       "      <th>1</th>\n",
       "      <td>2016</td>\n",
       "      <td>2016-08-14</td>\n",
       "      <td>John Deere Classic</td>\n",
       "      <td>TPC Deere Run</td>\n",
       "      <td>Abraham Ancer</td>\n",
       "      <td>T27</td>\n",
       "      <td>27</td>\n",
       "      <td>144.0</td>\n",
       "      <td>-0.307</td>\n",
       "      <td>111.0</td>\n",
       "      <td>-0.024</td>\n",
       "      <td>161.0</td>\n",
       "      <td>-0.340</td>\n",
       "      <td>77.0</td>\n",
       "      <td>0.057</td>\n",
       "      <td>172.0</td>\n",
       "      <td>-0.421</td>\n",
       "      <td>154.0</td>\n",
       "      <td>18.63</td>\n",
       "      <td>120.0</td>\n",
       "      <td>3.08</td>\n",
       "      <td>136.0</td>\n",
       "      <td>4.07</td>\n",
       "      <td>183.0</td>\n",
       "      <td>4.80</td>\n",
       "      <td>131.0</td>\n",
       "      <td>205.0</td>\n",
       "      <td>178.0</td>\n",
       "      <td>276.4</td>\n",
       "      <td>27.0</td>\n",
       "      <td>65.42</td>\n",
       "      <td>174.0</td>\n",
       "      <td>61.81</td>\n",
       "      <td>131.0</td>\n",
       "      <td>56.67</td>\n",
       "      <td>619.0</td>\n",
       "      <td>0.25</td>\n",
       "      <td>NaN</td>\n",
       "      <td>33.3</td>\n",
       "      <td>55.50</td>\n",
       "      <td>6.17</td>\n",
       "      <td>1.0</td>\n",
       "      <td>76.3</td>\n",
       "      <td>33.14</td>\n",
       "      <td>NaN</td>\n",
       "      <td>NaN</td>\n",
       "      <td>0</td>\n",
       "    </tr>\n",
       "    <tr>\n",
       "      <th>2</th>\n",
       "      <td>2016</td>\n",
       "      <td>2016-08-14</td>\n",
       "      <td>John Deere Classic</td>\n",
       "      <td>TPC Deere Run</td>\n",
       "      <td>Adam Hadwin</td>\n",
       "      <td>T8</td>\n",
       "      <td>8</td>\n",
       "      <td>111.0</td>\n",
       "      <td>-0.011</td>\n",
       "      <td>55.0</td>\n",
       "      <td>0.223</td>\n",
       "      <td>121.0</td>\n",
       "      <td>-0.055</td>\n",
       "      <td>132.0</td>\n",
       "      <td>-0.081</td>\n",
       "      <td>11.0</td>\n",
       "      <td>0.530</td>\n",
       "      <td>22.0</td>\n",
       "      <td>21.74</td>\n",
       "      <td>16.0</td>\n",
       "      <td>3.01</td>\n",
       "      <td>48.0</td>\n",
       "      <td>4.03</td>\n",
       "      <td>68.0</td>\n",
       "      <td>4.66</td>\n",
       "      <td>35.0</td>\n",
       "      <td>141.0</td>\n",
       "      <td>92.0</td>\n",
       "      <td>290.1</td>\n",
       "      <td>49.0</td>\n",
       "      <td>63.62</td>\n",
       "      <td>83.0</td>\n",
       "      <td>66.07</td>\n",
       "      <td>97.0</td>\n",
       "      <td>58.27</td>\n",
       "      <td>193.0</td>\n",
       "      <td>0.91</td>\n",
       "      <td>80.0</td>\n",
       "      <td>72.2</td>\n",
       "      <td>452.17</td>\n",
       "      <td>25.12</td>\n",
       "      <td>0.0</td>\n",
       "      <td>51.4</td>\n",
       "      <td>17.46</td>\n",
       "      <td>18.0</td>\n",
       "      <td>25.97</td>\n",
       "      <td>1</td>\n",
       "    </tr>\n",
       "    <tr>\n",
       "      <th>3</th>\n",
       "      <td>2016</td>\n",
       "      <td>2016-08-14</td>\n",
       "      <td>John Deere Classic</td>\n",
       "      <td>TPC Deere Run</td>\n",
       "      <td>Alex Prugh</td>\n",
       "      <td>T52</td>\n",
       "      <td>52</td>\n",
       "      <td>NaN</td>\n",
       "      <td>NaN</td>\n",
       "      <td>NaN</td>\n",
       "      <td>NaN</td>\n",
       "      <td>NaN</td>\n",
       "      <td>NaN</td>\n",
       "      <td>NaN</td>\n",
       "      <td>NaN</td>\n",
       "      <td>NaN</td>\n",
       "      <td>NaN</td>\n",
       "      <td>NaN</td>\n",
       "      <td>None</td>\n",
       "      <td>NaN</td>\n",
       "      <td>NaN</td>\n",
       "      <td>NaN</td>\n",
       "      <td>NaN</td>\n",
       "      <td>NaN</td>\n",
       "      <td>NaN</td>\n",
       "      <td>NaN</td>\n",
       "      <td>NaN</td>\n",
       "      <td>NaN</td>\n",
       "      <td>NaN</td>\n",
       "      <td>NaN</td>\n",
       "      <td>None</td>\n",
       "      <td>NaN</td>\n",
       "      <td>None</td>\n",
       "      <td>NaN</td>\n",
       "      <td>None</td>\n",
       "      <td>544.0</td>\n",
       "      <td>0.30</td>\n",
       "      <td>NaN</td>\n",
       "      <td>25.0</td>\n",
       "      <td>0.68</td>\n",
       "      <td>0.17</td>\n",
       "      <td>0.0</td>\n",
       "      <td>88.8</td>\n",
       "      <td>55.17</td>\n",
       "      <td>28.0</td>\n",
       "      <td>40.40</td>\n",
       "      <td>0</td>\n",
       "    </tr>\n",
       "    <tr>\n",
       "      <th>4</th>\n",
       "      <td>2016</td>\n",
       "      <td>2016-08-14</td>\n",
       "      <td>John Deere Classic</td>\n",
       "      <td>TPC Deere Run</td>\n",
       "      <td>Andres Gonzales</td>\n",
       "      <td>T64</td>\n",
       "      <td>64</td>\n",
       "      <td>160.0</td>\n",
       "      <td>-0.469</td>\n",
       "      <td>141.0</td>\n",
       "      <td>-0.222</td>\n",
       "      <td>134.0</td>\n",
       "      <td>-0.112</td>\n",
       "      <td>151.0</td>\n",
       "      <td>-0.135</td>\n",
       "      <td>94.0</td>\n",
       "      <td>0.007</td>\n",
       "      <td>91.0</td>\n",
       "      <td>20.01</td>\n",
       "      <td>78.0</td>\n",
       "      <td>3.06</td>\n",
       "      <td>162.0</td>\n",
       "      <td>4.09</td>\n",
       "      <td>80.0</td>\n",
       "      <td>4.67</td>\n",
       "      <td>145.0</td>\n",
       "      <td>224.0</td>\n",
       "      <td>59.0</td>\n",
       "      <td>294.7</td>\n",
       "      <td>165.0</td>\n",
       "      <td>54.55</td>\n",
       "      <td>81.0</td>\n",
       "      <td>66.17</td>\n",
       "      <td>148.0</td>\n",
       "      <td>55.79</td>\n",
       "      <td>270.0</td>\n",
       "      <td>0.66</td>\n",
       "      <td>NaN</td>\n",
       "      <td>35.3</td>\n",
       "      <td>95.30</td>\n",
       "      <td>5.61</td>\n",
       "      <td>1.0</td>\n",
       "      <td>77.7</td>\n",
       "      <td>26.88</td>\n",
       "      <td>90.0</td>\n",
       "      <td>129.84</td>\n",
       "      <td>0</td>\n",
       "    </tr>\n",
       "    <tr>\n",
       "      <th>5</th>\n",
       "      <td>2016</td>\n",
       "      <td>2016-08-14</td>\n",
       "      <td>John Deere Classic</td>\n",
       "      <td>TPC Deere Run</td>\n",
       "      <td>Andres Romero</td>\n",
       "      <td>T67</td>\n",
       "      <td>67</td>\n",
       "      <td>NaN</td>\n",
       "      <td>NaN</td>\n",
       "      <td>NaN</td>\n",
       "      <td>NaN</td>\n",
       "      <td>NaN</td>\n",
       "      <td>NaN</td>\n",
       "      <td>NaN</td>\n",
       "      <td>NaN</td>\n",
       "      <td>NaN</td>\n",
       "      <td>NaN</td>\n",
       "      <td>NaN</td>\n",
       "      <td>None</td>\n",
       "      <td>NaN</td>\n",
       "      <td>NaN</td>\n",
       "      <td>NaN</td>\n",
       "      <td>NaN</td>\n",
       "      <td>NaN</td>\n",
       "      <td>NaN</td>\n",
       "      <td>NaN</td>\n",
       "      <td>NaN</td>\n",
       "      <td>NaN</td>\n",
       "      <td>NaN</td>\n",
       "      <td>NaN</td>\n",
       "      <td>None</td>\n",
       "      <td>NaN</td>\n",
       "      <td>None</td>\n",
       "      <td>NaN</td>\n",
       "      <td>None</td>\n",
       "      <td>525.0</td>\n",
       "      <td>0.32</td>\n",
       "      <td>NaN</td>\n",
       "      <td>16.7</td>\n",
       "      <td>9.00</td>\n",
       "      <td>1.50</td>\n",
       "      <td>0.0</td>\n",
       "      <td>85.0</td>\n",
       "      <td>43.68</td>\n",
       "      <td>NaN</td>\n",
       "      <td>NaN</td>\n",
       "      <td>0</td>\n",
       "    </tr>\n",
       "    <tr>\n",
       "      <th>6</th>\n",
       "      <td>2016</td>\n",
       "      <td>2016-08-14</td>\n",
       "      <td>John Deere Classic</td>\n",
       "      <td>TPC Deere Run</td>\n",
       "      <td>Andrew Landry</td>\n",
       "      <td>T8</td>\n",
       "      <td>8</td>\n",
       "      <td>172.0</td>\n",
       "      <td>-0.694</td>\n",
       "      <td>11.0</td>\n",
       "      <td>0.594</td>\n",
       "      <td>181.0</td>\n",
       "      <td>-0.892</td>\n",
       "      <td>179.0</td>\n",
       "      <td>-0.396</td>\n",
       "      <td>4.0</td>\n",
       "      <td>0.654</td>\n",
       "      <td>160.0</td>\n",
       "      <td>18.48</td>\n",
       "      <td>136.0</td>\n",
       "      <td>3.09</td>\n",
       "      <td>34.0</td>\n",
       "      <td>4.02</td>\n",
       "      <td>169.0</td>\n",
       "      <td>4.76</td>\n",
       "      <td>5.0</td>\n",
       "      <td>85.0</td>\n",
       "      <td>59.0</td>\n",
       "      <td>294.7</td>\n",
       "      <td>26.0</td>\n",
       "      <td>65.55</td>\n",
       "      <td>117.0</td>\n",
       "      <td>64.63</td>\n",
       "      <td>28.0</td>\n",
       "      <td>61.86</td>\n",
       "      <td>482.0</td>\n",
       "      <td>0.37</td>\n",
       "      <td>NaN</td>\n",
       "      <td>40.0</td>\n",
       "      <td>79.29</td>\n",
       "      <td>7.93</td>\n",
       "      <td>0.0</td>\n",
       "      <td>75.1</td>\n",
       "      <td>31.32</td>\n",
       "      <td>NaN</td>\n",
       "      <td>NaN</td>\n",
       "      <td>1</td>\n",
       "    </tr>\n",
       "    <tr>\n",
       "      <th>7</th>\n",
       "      <td>2016</td>\n",
       "      <td>2016-08-14</td>\n",
       "      <td>John Deere Classic</td>\n",
       "      <td>TPC Deere Run</td>\n",
       "      <td>Andrew Loupe</td>\n",
       "      <td>T16</td>\n",
       "      <td>16</td>\n",
       "      <td>150.0</td>\n",
       "      <td>-0.395</td>\n",
       "      <td>105.0</td>\n",
       "      <td>-0.005</td>\n",
       "      <td>154.0</td>\n",
       "      <td>-0.281</td>\n",
       "      <td>158.0</td>\n",
       "      <td>-0.172</td>\n",
       "      <td>38.0</td>\n",
       "      <td>0.280</td>\n",
       "      <td>12.0</td>\n",
       "      <td>22.74</td>\n",
       "      <td>78.0</td>\n",
       "      <td>3.06</td>\n",
       "      <td>177.0</td>\n",
       "      <td>4.11</td>\n",
       "      <td>13.0</td>\n",
       "      <td>4.58</td>\n",
       "      <td>101.0</td>\n",
       "      <td>189.0</td>\n",
       "      <td>5.0</td>\n",
       "      <td>309.3</td>\n",
       "      <td>184.0</td>\n",
       "      <td>45.56</td>\n",
       "      <td>148.0</td>\n",
       "      <td>63.41</td>\n",
       "      <td>175.0</td>\n",
       "      <td>52.83</td>\n",
       "      <td>194.0</td>\n",
       "      <td>0.91</td>\n",
       "      <td>NaN</td>\n",
       "      <td>47.1</td>\n",
       "      <td>381.50</td>\n",
       "      <td>22.44</td>\n",
       "      <td>0.0</td>\n",
       "      <td>65.4</td>\n",
       "      <td>22.63</td>\n",
       "      <td>90.0</td>\n",
       "      <td>129.84</td>\n",
       "      <td>1</td>\n",
       "    </tr>\n",
       "    <tr>\n",
       "      <th>8</th>\n",
       "      <td>2016</td>\n",
       "      <td>2016-08-14</td>\n",
       "      <td>John Deere Classic</td>\n",
       "      <td>TPC Deere Run</td>\n",
       "      <td>Arjun Atwal</td>\n",
       "      <td>CUT</td>\n",
       "      <td>90</td>\n",
       "      <td>NaN</td>\n",
       "      <td>NaN</td>\n",
       "      <td>NaN</td>\n",
       "      <td>NaN</td>\n",
       "      <td>NaN</td>\n",
       "      <td>NaN</td>\n",
       "      <td>NaN</td>\n",
       "      <td>NaN</td>\n",
       "      <td>NaN</td>\n",
       "      <td>NaN</td>\n",
       "      <td>NaN</td>\n",
       "      <td>None</td>\n",
       "      <td>NaN</td>\n",
       "      <td>NaN</td>\n",
       "      <td>NaN</td>\n",
       "      <td>NaN</td>\n",
       "      <td>NaN</td>\n",
       "      <td>NaN</td>\n",
       "      <td>NaN</td>\n",
       "      <td>NaN</td>\n",
       "      <td>NaN</td>\n",
       "      <td>NaN</td>\n",
       "      <td>NaN</td>\n",
       "      <td>None</td>\n",
       "      <td>NaN</td>\n",
       "      <td>None</td>\n",
       "      <td>NaN</td>\n",
       "      <td>None</td>\n",
       "      <td>887.0</td>\n",
       "      <td>0.14</td>\n",
       "      <td>NaN</td>\n",
       "      <td>NaN</td>\n",
       "      <td>NaN</td>\n",
       "      <td>NaN</td>\n",
       "      <td>NaN</td>\n",
       "      <td>NaN</td>\n",
       "      <td>NaN</td>\n",
       "      <td>90.0</td>\n",
       "      <td>129.84</td>\n",
       "      <td>0</td>\n",
       "    </tr>\n",
       "    <tr>\n",
       "      <th>9</th>\n",
       "      <td>2016</td>\n",
       "      <td>2016-08-14</td>\n",
       "      <td>John Deere Classic</td>\n",
       "      <td>TPC Deere Run</td>\n",
       "      <td>Armando Villarreal</td>\n",
       "      <td>CUT</td>\n",
       "      <td>90</td>\n",
       "      <td>NaN</td>\n",
       "      <td>NaN</td>\n",
       "      <td>NaN</td>\n",
       "      <td>NaN</td>\n",
       "      <td>NaN</td>\n",
       "      <td>NaN</td>\n",
       "      <td>NaN</td>\n",
       "      <td>NaN</td>\n",
       "      <td>NaN</td>\n",
       "      <td>NaN</td>\n",
       "      <td>NaN</td>\n",
       "      <td>NaN</td>\n",
       "      <td>NaN</td>\n",
       "      <td>NaN</td>\n",
       "      <td>NaN</td>\n",
       "      <td>NaN</td>\n",
       "      <td>NaN</td>\n",
       "      <td>NaN</td>\n",
       "      <td>NaN</td>\n",
       "      <td>NaN</td>\n",
       "      <td>NaN</td>\n",
       "      <td>NaN</td>\n",
       "      <td>NaN</td>\n",
       "      <td>NaN</td>\n",
       "      <td>NaN</td>\n",
       "      <td>NaN</td>\n",
       "      <td>NaN</td>\n",
       "      <td>NaN</td>\n",
       "      <td>NaN</td>\n",
       "      <td>NaN</td>\n",
       "      <td>NaN</td>\n",
       "      <td>NaN</td>\n",
       "      <td>NaN</td>\n",
       "      <td>NaN</td>\n",
       "      <td>NaN</td>\n",
       "      <td>NaN</td>\n",
       "      <td>NaN</td>\n",
       "      <td>NaN</td>\n",
       "      <td>NaN</td>\n",
       "      <td>0</td>\n",
       "    </tr>\n",
       "  </tbody>\n",
       "</table>\n",
       "</div>"
      ],
      "text/plain": [
       "   SEASON ENDING_DATE          TOURNAMENT         COURSE              PLAYER  \\\n",
       "0    2016  2016-08-14  John Deere Classic  TPC Deere Run          Aaron Wise   \n",
       "1    2016  2016-08-14  John Deere Classic  TPC Deere Run       Abraham Ancer   \n",
       "2    2016  2016-08-14  John Deere Classic  TPC Deere Run         Adam Hadwin   \n",
       "3    2016  2016-08-14  John Deere Classic  TPC Deere Run          Alex Prugh   \n",
       "4    2016  2016-08-14  John Deere Classic  TPC Deere Run     Andres Gonzales   \n",
       "5    2016  2016-08-14  John Deere Classic  TPC Deere Run       Andres Romero   \n",
       "6    2016  2016-08-14  John Deere Classic  TPC Deere Run       Andrew Landry   \n",
       "7    2016  2016-08-14  John Deere Classic  TPC Deere Run        Andrew Loupe   \n",
       "8    2016  2016-08-14  John Deere Classic  TPC Deere Run         Arjun Atwal   \n",
       "9    2016  2016-08-14  John Deere Classic  TPC Deere Run  Armando Villarreal   \n",
       "\n",
       "   POS  FINAL_POS  SGTTG_RANK  SGTTG  SGOTT_RANK  SGOTT  SGAPR_RANK  SGAPR  \\\n",
       "0  T16         16         NaN    NaN         NaN    NaN         NaN    NaN   \n",
       "1  T27         27       144.0 -0.307       111.0 -0.024       161.0 -0.340   \n",
       "2   T8          8       111.0 -0.011        55.0  0.223       121.0 -0.055   \n",
       "3  T52         52         NaN    NaN         NaN    NaN         NaN    NaN   \n",
       "4  T64         64       160.0 -0.469       141.0 -0.222       134.0 -0.112   \n",
       "5  T67         67         NaN    NaN         NaN    NaN         NaN    NaN   \n",
       "6   T8          8       172.0 -0.694        11.0  0.594       181.0 -0.892   \n",
       "7  T16         16       150.0 -0.395       105.0 -0.005       154.0 -0.281   \n",
       "8  CUT         90         NaN    NaN         NaN    NaN         NaN    NaN   \n",
       "9  CUT         90         NaN    NaN         NaN    NaN         NaN    NaN   \n",
       "\n",
       "   SGATG_RANK  SGATG  SGP_RANK    SGP  BIRDIES_RANK BIRDIES  PAR_3_RANK  \\\n",
       "0         NaN    NaN       NaN    NaN           NaN    None         NaN   \n",
       "1        77.0  0.057     172.0 -0.421         154.0   18.63       120.0   \n",
       "2       132.0 -0.081      11.0  0.530          22.0   21.74        16.0   \n",
       "3         NaN    NaN       NaN    NaN           NaN    None         NaN   \n",
       "4       151.0 -0.135      94.0  0.007          91.0   20.01        78.0   \n",
       "5         NaN    NaN       NaN    NaN           NaN    None         NaN   \n",
       "6       179.0 -0.396       4.0  0.654         160.0   18.48       136.0   \n",
       "7       158.0 -0.172      38.0  0.280          12.0   22.74        78.0   \n",
       "8         NaN    NaN       NaN    NaN           NaN    None         NaN   \n",
       "9         NaN    NaN       NaN    NaN           NaN     NaN         NaN   \n",
       "\n",
       "   PAR_3  PAR_4_RANK  PAR_4  PAR_5_RANK  PAR_5  TOTAL_DRIVING_RANK  \\\n",
       "0    NaN         NaN    NaN         NaN    NaN                 NaN   \n",
       "1   3.08       136.0   4.07       183.0   4.80               131.0   \n",
       "2   3.01        48.0   4.03        68.0   4.66                35.0   \n",
       "3    NaN         NaN    NaN         NaN    NaN                 NaN   \n",
       "4   3.06       162.0   4.09        80.0   4.67               145.0   \n",
       "5    NaN         NaN    NaN         NaN    NaN                 NaN   \n",
       "6   3.09        34.0   4.02       169.0   4.76                 5.0   \n",
       "7   3.06       177.0   4.11        13.0   4.58               101.0   \n",
       "8    NaN         NaN    NaN         NaN    NaN                 NaN   \n",
       "9    NaN         NaN    NaN         NaN    NaN                 NaN   \n",
       "\n",
       "   TOTAL_DRIVING  DRIVING_DISTANCE_RANK  DRIVING_DISTANCE  \\\n",
       "0            NaN                    NaN               NaN   \n",
       "1          205.0                  178.0             276.4   \n",
       "2          141.0                   92.0             290.1   \n",
       "3            NaN                    NaN               NaN   \n",
       "4          224.0                   59.0             294.7   \n",
       "5            NaN                    NaN               NaN   \n",
       "6           85.0                   59.0             294.7   \n",
       "7          189.0                    5.0             309.3   \n",
       "8            NaN                    NaN               NaN   \n",
       "9            NaN                    NaN               NaN   \n",
       "\n",
       "   DRIVING_ACCURACY_RANK DRIVING_ACCURACY  GIR_RANK    GIR  SCRAMBLING_RANK  \\\n",
       "0                    NaN             None       NaN   None              NaN   \n",
       "1                   27.0            65.42     174.0  61.81            131.0   \n",
       "2                   49.0            63.62      83.0  66.07             97.0   \n",
       "3                    NaN             None       NaN   None              NaN   \n",
       "4                  165.0            54.55      81.0  66.17            148.0   \n",
       "5                    NaN             None       NaN   None              NaN   \n",
       "6                   26.0            65.55     117.0  64.63             28.0   \n",
       "7                  184.0            45.56     148.0  63.41            175.0   \n",
       "8                    NaN             None       NaN   None              NaN   \n",
       "9                    NaN              NaN       NaN    NaN              NaN   \n",
       "\n",
       "  SCRAMBLING  OWGR_RANK  OWGR  VEGAS_ODDS  CUT_PERCENTAGE  FEDEX_CUP_POINTS  \\\n",
       "0       None      609.0  0.26        80.0             0.0              0.00   \n",
       "1      56.67      619.0  0.25         NaN            33.3             55.50   \n",
       "2      58.27      193.0  0.91        80.0            72.2            452.17   \n",
       "3       None      544.0  0.30         NaN            25.0              0.68   \n",
       "4      55.79      270.0  0.66         NaN            35.3             95.30   \n",
       "5       None      525.0  0.32         NaN            16.7              9.00   \n",
       "6      61.86      482.0  0.37         NaN            40.0             79.29   \n",
       "7      52.83      194.0  0.91         NaN            47.1            381.50   \n",
       "8       None      887.0  0.14         NaN             NaN               NaN   \n",
       "9        NaN        NaN   NaN         NaN             NaN               NaN   \n",
       "\n",
       "   form_density  CONSECUTIVE_CUTS  RECENT_FORM  adj_form  COURSE_HISTORY  \\\n",
       "0          0.00               0.0         90.0    129.84             NaN   \n",
       "1          6.17               1.0         76.3     33.14             NaN   \n",
       "2         25.12               0.0         51.4     17.46            18.0   \n",
       "3          0.17               0.0         88.8     55.17            28.0   \n",
       "4          5.61               1.0         77.7     26.88            90.0   \n",
       "5          1.50               0.0         85.0     43.68             NaN   \n",
       "6          7.93               0.0         75.1     31.32             NaN   \n",
       "7         22.44               0.0         65.4     22.63            90.0   \n",
       "8           NaN               NaN          NaN       NaN            90.0   \n",
       "9           NaN               NaN          NaN       NaN             NaN   \n",
       "\n",
       "   adj_ch  TOP_20  \n",
       "0     NaN       1  \n",
       "1     NaN       0  \n",
       "2   25.97       1  \n",
       "3   40.40       0  \n",
       "4  129.84       0  \n",
       "5     NaN       0  \n",
       "6     NaN       1  \n",
       "7  129.84       1  \n",
       "8  129.84       0  \n",
       "9     NaN       0  "
      ]
     },
     "execution_count": 9,
     "metadata": {},
     "output_type": "execute_result"
    }
   ],
   "source": [
    "pd.set_option(\"display.max_columns\", None)   # Show all columns\n",
    "importlib.reload(utils.db_utils)\n",
    "from utils.db_utils import build_training_rows\n",
    "training_df = build_training_rows(\n",
    "    db_path,\n",
    "    history_df,\n",
    "    cuts,\n",
    "    recent_form,\n",
    "    course_hist,\n",
    ")\n",
    "training_df.head(10)\n",
    "# training_df.info()\n",
    "# training_df.isna().sum().sort_values(ascending=False)"
   ]
  },
  {
   "cell_type": "code",
   "execution_count": 10,
   "id": "c5df12cc",
   "metadata": {},
   "outputs": [
    {
     "data": {
      "text/html": [
       "<div>\n",
       "<style scoped>\n",
       "    .dataframe tbody tr th:only-of-type {\n",
       "        vertical-align: middle;\n",
       "    }\n",
       "\n",
       "    .dataframe tbody tr th {\n",
       "        vertical-align: top;\n",
       "    }\n",
       "\n",
       "    .dataframe thead th {\n",
       "        text-align: right;\n",
       "    }\n",
       "</style>\n",
       "<table border=\"1\" class=\"dataframe\">\n",
       "  <thead>\n",
       "    <tr style=\"text-align: right;\">\n",
       "      <th></th>\n",
       "      <th>SEASON</th>\n",
       "      <th>ENDING_DATE</th>\n",
       "      <th>TOURNAMENT</th>\n",
       "      <th>COURSE</th>\n",
       "      <th>PLAYER</th>\n",
       "      <th>POS</th>\n",
       "      <th>FINAL_POS</th>\n",
       "      <th>SGTTG_RANK</th>\n",
       "      <th>SGTTG</th>\n",
       "      <th>SGOTT_RANK</th>\n",
       "      <th>SGOTT</th>\n",
       "      <th>SGAPR_RANK</th>\n",
       "      <th>SGAPR</th>\n",
       "      <th>SGATG_RANK</th>\n",
       "      <th>SGATG</th>\n",
       "      <th>SGP_RANK</th>\n",
       "      <th>SGP</th>\n",
       "      <th>BIRDIES_RANK</th>\n",
       "      <th>BIRDIES</th>\n",
       "      <th>PAR_3_RANK</th>\n",
       "      <th>PAR_3</th>\n",
       "      <th>PAR_4_RANK</th>\n",
       "      <th>PAR_4</th>\n",
       "      <th>PAR_5_RANK</th>\n",
       "      <th>PAR_5</th>\n",
       "      <th>TOTAL_DRIVING_RANK</th>\n",
       "      <th>TOTAL_DRIVING</th>\n",
       "      <th>DRIVING_DISTANCE_RANK</th>\n",
       "      <th>DRIVING_DISTANCE</th>\n",
       "      <th>DRIVING_ACCURACY_RANK</th>\n",
       "      <th>DRIVING_ACCURACY</th>\n",
       "      <th>GIR_RANK</th>\n",
       "      <th>GIR</th>\n",
       "      <th>SCRAMBLING_RANK</th>\n",
       "      <th>SCRAMBLING</th>\n",
       "      <th>OWGR_RANK</th>\n",
       "      <th>OWGR</th>\n",
       "      <th>VEGAS_ODDS</th>\n",
       "      <th>CUT_PERCENTAGE</th>\n",
       "      <th>FEDEX_CUP_POINTS</th>\n",
       "      <th>form_density</th>\n",
       "      <th>CONSECUTIVE_CUTS</th>\n",
       "      <th>RECENT_FORM</th>\n",
       "      <th>adj_form</th>\n",
       "      <th>COURSE_HISTORY</th>\n",
       "      <th>adj_ch</th>\n",
       "      <th>TOP_20</th>\n",
       "    </tr>\n",
       "  </thead>\n",
       "  <tbody>\n",
       "    <tr>\n",
       "      <th>1087</th>\n",
       "      <td>2024</td>\n",
       "      <td>2024-07-07</td>\n",
       "      <td>John Deere Classic</td>\n",
       "      <td>TPC Deere Run</td>\n",
       "      <td>Aaron Rai</td>\n",
       "      <td>T7</td>\n",
       "      <td>7</td>\n",
       "      <td>9.0</td>\n",
       "      <td>1.131</td>\n",
       "      <td>36.0</td>\n",
       "      <td>0.303</td>\n",
       "      <td>8.0</td>\n",
       "      <td>0.676</td>\n",
       "      <td>56.0</td>\n",
       "      <td>0.152</td>\n",
       "      <td>83.0</td>\n",
       "      <td>0.054</td>\n",
       "      <td>99.0</td>\n",
       "      <td>22.10%</td>\n",
       "      <td>38.0</td>\n",
       "      <td>3.01</td>\n",
       "      <td>10.0</td>\n",
       "      <td>3.97</td>\n",
       "      <td>44.0</td>\n",
       "      <td>4.54</td>\n",
       "      <td>53.0</td>\n",
       "      <td>153.0</td>\n",
       "      <td>152.0</td>\n",
       "      <td>293.8</td>\n",
       "      <td>1.0</td>\n",
       "      <td>72.02%</td>\n",
       "      <td>7.0</td>\n",
       "      <td>71.58%</td>\n",
       "      <td>33.0</td>\n",
       "      <td>63.18%</td>\n",
       "      <td>21.0</td>\n",
       "      <td>3.2294</td>\n",
       "      <td>20.0</td>\n",
       "      <td>82.4</td>\n",
       "      <td>728.257</td>\n",
       "      <td>42.84</td>\n",
       "      <td>8.0</td>\n",
       "      <td>37.5</td>\n",
       "      <td>12.97</td>\n",
       "      <td>NaN</td>\n",
       "      <td>NaN</td>\n",
       "      <td>1</td>\n",
       "    </tr>\n",
       "    <tr>\n",
       "      <th>1088</th>\n",
       "      <td>2024</td>\n",
       "      <td>2024-07-07</td>\n",
       "      <td>John Deere Classic</td>\n",
       "      <td>TPC Deere Run</td>\n",
       "      <td>Adam Long</td>\n",
       "      <td>CUT</td>\n",
       "      <td>90</td>\n",
       "      <td>NaN</td>\n",
       "      <td>NaN</td>\n",
       "      <td>NaN</td>\n",
       "      <td>NaN</td>\n",
       "      <td>NaN</td>\n",
       "      <td>NaN</td>\n",
       "      <td>NaN</td>\n",
       "      <td>NaN</td>\n",
       "      <td>NaN</td>\n",
       "      <td>NaN</td>\n",
       "      <td>NaN</td>\n",
       "      <td>None</td>\n",
       "      <td>NaN</td>\n",
       "      <td>NaN</td>\n",
       "      <td>NaN</td>\n",
       "      <td>NaN</td>\n",
       "      <td>NaN</td>\n",
       "      <td>NaN</td>\n",
       "      <td>NaN</td>\n",
       "      <td>NaN</td>\n",
       "      <td>NaN</td>\n",
       "      <td>NaN</td>\n",
       "      <td>NaN</td>\n",
       "      <td>None</td>\n",
       "      <td>NaN</td>\n",
       "      <td>None</td>\n",
       "      <td>NaN</td>\n",
       "      <td>None</td>\n",
       "      <td>548.0</td>\n",
       "      <td>0.2354</td>\n",
       "      <td>400.0</td>\n",
       "      <td>50.0</td>\n",
       "      <td>125.756</td>\n",
       "      <td>12.58</td>\n",
       "      <td>0.0</td>\n",
       "      <td>62.0</td>\n",
       "      <td>25.86</td>\n",
       "      <td>44.8</td>\n",
       "      <td>27.84</td>\n",
       "      <td>0</td>\n",
       "    </tr>\n",
       "    <tr>\n",
       "      <th>1089</th>\n",
       "      <td>2024</td>\n",
       "      <td>2024-07-07</td>\n",
       "      <td>John Deere Classic</td>\n",
       "      <td>TPC Deere Run</td>\n",
       "      <td>Adam Schenk</td>\n",
       "      <td>CUT</td>\n",
       "      <td>90</td>\n",
       "      <td>146.0</td>\n",
       "      <td>-0.421</td>\n",
       "      <td>53.0</td>\n",
       "      <td>0.212</td>\n",
       "      <td>166.0</td>\n",
       "      <td>-0.520</td>\n",
       "      <td>130.0</td>\n",
       "      <td>-0.114</td>\n",
       "      <td>85.0</td>\n",
       "      <td>0.051</td>\n",
       "      <td>132.0</td>\n",
       "      <td>21.24%</td>\n",
       "      <td>152.0</td>\n",
       "      <td>3.09</td>\n",
       "      <td>131.0</td>\n",
       "      <td>4.04</td>\n",
       "      <td>116.0</td>\n",
       "      <td>4.61</td>\n",
       "      <td>102.0</td>\n",
       "      <td>180.0</td>\n",
       "      <td>82.0</td>\n",
       "      <td>302.4</td>\n",
       "      <td>98.0</td>\n",
       "      <td>59.93%</td>\n",
       "      <td>149.0</td>\n",
       "      <td>64.50%</td>\n",
       "      <td>74.0</td>\n",
       "      <td>60.50%</td>\n",
       "      <td>82.0</td>\n",
       "      <td>1.4461</td>\n",
       "      <td>60.0</td>\n",
       "      <td>62.5</td>\n",
       "      <td>577.709</td>\n",
       "      <td>24.07</td>\n",
       "      <td>0.0</td>\n",
       "      <td>54.3</td>\n",
       "      <td>16.87</td>\n",
       "      <td>38.8</td>\n",
       "      <td>21.65</td>\n",
       "      <td>0</td>\n",
       "    </tr>\n",
       "    <tr>\n",
       "      <th>1090</th>\n",
       "      <td>2024</td>\n",
       "      <td>2024-07-07</td>\n",
       "      <td>John Deere Classic</td>\n",
       "      <td>TPC Deere Run</td>\n",
       "      <td>Adam Svensson</td>\n",
       "      <td>T34</td>\n",
       "      <td>34</td>\n",
       "      <td>33.0</td>\n",
       "      <td>0.592</td>\n",
       "      <td>99.0</td>\n",
       "      <td>0.019</td>\n",
       "      <td>28.0</td>\n",
       "      <td>0.380</td>\n",
       "      <td>39.0</td>\n",
       "      <td>0.193</td>\n",
       "      <td>164.0</td>\n",
       "      <td>-0.453</td>\n",
       "      <td>153.0</td>\n",
       "      <td>20.41%</td>\n",
       "      <td>142.0</td>\n",
       "      <td>3.08</td>\n",
       "      <td>85.0</td>\n",
       "      <td>4.01</td>\n",
       "      <td>121.0</td>\n",
       "      <td>4.62</td>\n",
       "      <td>62.0</td>\n",
       "      <td>158.0</td>\n",
       "      <td>118.0</td>\n",
       "      <td>298.3</td>\n",
       "      <td>40.0</td>\n",
       "      <td>64.18%</td>\n",
       "      <td>88.0</td>\n",
       "      <td>67.13%</td>\n",
       "      <td>60.0</td>\n",
       "      <td>61.39%</td>\n",
       "      <td>112.0</td>\n",
       "      <td>1.1671</td>\n",
       "      <td>40.0</td>\n",
       "      <td>76.9</td>\n",
       "      <td>487.341</td>\n",
       "      <td>18.74</td>\n",
       "      <td>0.0</td>\n",
       "      <td>48.1</td>\n",
       "      <td>14.59</td>\n",
       "      <td>21.0</td>\n",
       "      <td>15.15</td>\n",
       "      <td>0</td>\n",
       "    </tr>\n",
       "    <tr>\n",
       "      <th>1091</th>\n",
       "      <td>2024</td>\n",
       "      <td>2024-07-07</td>\n",
       "      <td>John Deere Classic</td>\n",
       "      <td>TPC Deere Run</td>\n",
       "      <td>Adrien Dumont de Chassart</td>\n",
       "      <td>T46</td>\n",
       "      <td>46</td>\n",
       "      <td>169.0</td>\n",
       "      <td>-1.094</td>\n",
       "      <td>157.0</td>\n",
       "      <td>-0.381</td>\n",
       "      <td>157.0</td>\n",
       "      <td>-0.421</td>\n",
       "      <td>157.0</td>\n",
       "      <td>-0.292</td>\n",
       "      <td>141.0</td>\n",
       "      <td>-0.244</td>\n",
       "      <td>141.0</td>\n",
       "      <td>21.06%</td>\n",
       "      <td>142.0</td>\n",
       "      <td>3.08</td>\n",
       "      <td>141.0</td>\n",
       "      <td>4.05</td>\n",
       "      <td>116.0</td>\n",
       "      <td>4.61</td>\n",
       "      <td>154.0</td>\n",
       "      <td>229.0</td>\n",
       "      <td>69.0</td>\n",
       "      <td>303.9</td>\n",
       "      <td>160.0</td>\n",
       "      <td>54.73%</td>\n",
       "      <td>104.0</td>\n",
       "      <td>66.23%</td>\n",
       "      <td>171.0</td>\n",
       "      <td>53.47%</td>\n",
       "      <td>263.0</td>\n",
       "      <td>0.5384</td>\n",
       "      <td>250.0</td>\n",
       "      <td>41.7</td>\n",
       "      <td>37.255</td>\n",
       "      <td>3.10</td>\n",
       "      <td>0.0</td>\n",
       "      <td>77.3</td>\n",
       "      <td>30.14</td>\n",
       "      <td>NaN</td>\n",
       "      <td>NaN</td>\n",
       "      <td>0</td>\n",
       "    </tr>\n",
       "  </tbody>\n",
       "</table>\n",
       "</div>"
      ],
      "text/plain": [
       "      SEASON ENDING_DATE          TOURNAMENT         COURSE  \\\n",
       "1087    2024  2024-07-07  John Deere Classic  TPC Deere Run   \n",
       "1088    2024  2024-07-07  John Deere Classic  TPC Deere Run   \n",
       "1089    2024  2024-07-07  John Deere Classic  TPC Deere Run   \n",
       "1090    2024  2024-07-07  John Deere Classic  TPC Deere Run   \n",
       "1091    2024  2024-07-07  John Deere Classic  TPC Deere Run   \n",
       "\n",
       "                         PLAYER  POS  FINAL_POS  SGTTG_RANK  SGTTG  \\\n",
       "1087                  Aaron Rai   T7          7         9.0  1.131   \n",
       "1088                  Adam Long  CUT         90         NaN    NaN   \n",
       "1089                Adam Schenk  CUT         90       146.0 -0.421   \n",
       "1090              Adam Svensson  T34         34        33.0  0.592   \n",
       "1091  Adrien Dumont de Chassart  T46         46       169.0 -1.094   \n",
       "\n",
       "      SGOTT_RANK  SGOTT  SGAPR_RANK  SGAPR  SGATG_RANK  SGATG  SGP_RANK  \\\n",
       "1087        36.0  0.303         8.0  0.676        56.0  0.152      83.0   \n",
       "1088         NaN    NaN         NaN    NaN         NaN    NaN       NaN   \n",
       "1089        53.0  0.212       166.0 -0.520       130.0 -0.114      85.0   \n",
       "1090        99.0  0.019        28.0  0.380        39.0  0.193     164.0   \n",
       "1091       157.0 -0.381       157.0 -0.421       157.0 -0.292     141.0   \n",
       "\n",
       "        SGP  BIRDIES_RANK BIRDIES  PAR_3_RANK  PAR_3  PAR_4_RANK  PAR_4  \\\n",
       "1087  0.054          99.0  22.10%        38.0   3.01        10.0   3.97   \n",
       "1088    NaN           NaN    None         NaN    NaN         NaN    NaN   \n",
       "1089  0.051         132.0  21.24%       152.0   3.09       131.0   4.04   \n",
       "1090 -0.453         153.0  20.41%       142.0   3.08        85.0   4.01   \n",
       "1091 -0.244         141.0  21.06%       142.0   3.08       141.0   4.05   \n",
       "\n",
       "      PAR_5_RANK  PAR_5  TOTAL_DRIVING_RANK  TOTAL_DRIVING  \\\n",
       "1087        44.0   4.54                53.0          153.0   \n",
       "1088         NaN    NaN                 NaN            NaN   \n",
       "1089       116.0   4.61               102.0          180.0   \n",
       "1090       121.0   4.62                62.0          158.0   \n",
       "1091       116.0   4.61               154.0          229.0   \n",
       "\n",
       "      DRIVING_DISTANCE_RANK  DRIVING_DISTANCE  DRIVING_ACCURACY_RANK  \\\n",
       "1087                  152.0             293.8                    1.0   \n",
       "1088                    NaN               NaN                    NaN   \n",
       "1089                   82.0             302.4                   98.0   \n",
       "1090                  118.0             298.3                   40.0   \n",
       "1091                   69.0             303.9                  160.0   \n",
       "\n",
       "     DRIVING_ACCURACY  GIR_RANK     GIR  SCRAMBLING_RANK SCRAMBLING  \\\n",
       "1087           72.02%       7.0  71.58%             33.0     63.18%   \n",
       "1088             None       NaN    None              NaN       None   \n",
       "1089           59.93%     149.0  64.50%             74.0     60.50%   \n",
       "1090           64.18%      88.0  67.13%             60.0     61.39%   \n",
       "1091           54.73%     104.0  66.23%            171.0     53.47%   \n",
       "\n",
       "      OWGR_RANK    OWGR  VEGAS_ODDS  CUT_PERCENTAGE  FEDEX_CUP_POINTS  \\\n",
       "1087       21.0  3.2294        20.0            82.4           728.257   \n",
       "1088      548.0  0.2354       400.0            50.0           125.756   \n",
       "1089       82.0  1.4461        60.0            62.5           577.709   \n",
       "1090      112.0  1.1671        40.0            76.9           487.341   \n",
       "1091      263.0  0.5384       250.0            41.7            37.255   \n",
       "\n",
       "      form_density  CONSECUTIVE_CUTS  RECENT_FORM  adj_form  COURSE_HISTORY  \\\n",
       "1087         42.84               8.0         37.5     12.97             NaN   \n",
       "1088         12.58               0.0         62.0     25.86            44.8   \n",
       "1089         24.07               0.0         54.3     16.87            38.8   \n",
       "1090         18.74               0.0         48.1     14.59            21.0   \n",
       "1091          3.10               0.0         77.3     30.14             NaN   \n",
       "\n",
       "      adj_ch  TOP_20  \n",
       "1087     NaN       1  \n",
       "1088   27.84       0  \n",
       "1089   21.65       0  \n",
       "1090   15.15       0  \n",
       "1091     NaN       0  "
      ]
     },
     "execution_count": 10,
     "metadata": {},
     "output_type": "execute_result"
    }
   ],
   "source": [
    "# Play with different years to see if I notice anything wrong (check Odds)\n",
    "training_df[training_df[\"SEASON\"] == 2024].head()"
   ]
  },
  {
   "cell_type": "markdown",
   "id": "5f92ff52",
   "metadata": {},
   "source": [
    "### Normalization\n",
    "***Fix Historical Odds***\n",
    "\n",
    "Many names do not have historical odds but rather are part of the \"field.\" So giving these \"NaN\" values the average odds (as I would for missing stats) isn't a good approximation of reality – they are typically the \"field\" because they are not notable and have poor odds individually.\n",
    "\n",
    "There are also some crazy odds numbers occasionally (1000/1 or 3000/1) that don't happen all that much and are making that tail too long.\n",
    "\n",
    "This cell assigns odds of 1000/1 for anyone missing and clips anything larger to 1000/1 to normalize the data better and assign the missing odds more appropriately where they belong.\n",
    "\n",
    "***OWGR Adjustment***\n",
    "\n",
    "The NaN's for OWGR are similarly bad players.  So we should assign these the worst ranking instead of the mean and clip it at 1000 just in case there are ever outliers.\n",
    "\n",
    "For the OWGR score, it should match the lowest score in the dataset to assign that person the same as the worst.\n",
    "\n",
    "***Recent Form Adjustment***\n",
    "\n",
    "The NaN's for Recent Form mean that this player has not played any tournaments in the lookback period (9 months).  Similar to Odds and OWGR, I want to punish those that don't play often in my model.  Set these to 90 (i.e. like they miss a lot of cuts - because if they aren't playing they aren't good enough to make it to these tournaments very frequently).  The adj_form feature will also need to be updated here with the new data.\n",
    "\n",
    "***FedEx Cup Point Adjustment***\n",
    "\n",
    "The NaN's for FedEx Cup Points means there is no data.  Therefore they should be 0."
   ]
  },
  {
   "cell_type": "code",
   "execution_count": 11,
   "id": "3e9f4f19",
   "metadata": {},
   "outputs": [
    {
     "data": {
      "text/html": [
       "<div>\n",
       "<style scoped>\n",
       "    .dataframe tbody tr th:only-of-type {\n",
       "        vertical-align: middle;\n",
       "    }\n",
       "\n",
       "    .dataframe tbody tr th {\n",
       "        vertical-align: top;\n",
       "    }\n",
       "\n",
       "    .dataframe thead th {\n",
       "        text-align: right;\n",
       "    }\n",
       "</style>\n",
       "<table border=\"1\" class=\"dataframe\">\n",
       "  <thead>\n",
       "    <tr style=\"text-align: right;\">\n",
       "      <th></th>\n",
       "      <th>SEASON</th>\n",
       "      <th>ENDING_DATE</th>\n",
       "      <th>TOURNAMENT</th>\n",
       "      <th>COURSE</th>\n",
       "      <th>PLAYER</th>\n",
       "      <th>POS</th>\n",
       "      <th>FINAL_POS</th>\n",
       "      <th>SGTTG_RANK</th>\n",
       "      <th>SGTTG</th>\n",
       "      <th>SGOTT_RANK</th>\n",
       "      <th>SGOTT</th>\n",
       "      <th>SGAPR_RANK</th>\n",
       "      <th>SGAPR</th>\n",
       "      <th>SGATG_RANK</th>\n",
       "      <th>SGATG</th>\n",
       "      <th>SGP_RANK</th>\n",
       "      <th>SGP</th>\n",
       "      <th>BIRDIES_RANK</th>\n",
       "      <th>BIRDIES</th>\n",
       "      <th>PAR_3_RANK</th>\n",
       "      <th>PAR_3</th>\n",
       "      <th>PAR_4_RANK</th>\n",
       "      <th>PAR_4</th>\n",
       "      <th>PAR_5_RANK</th>\n",
       "      <th>PAR_5</th>\n",
       "      <th>TOTAL_DRIVING_RANK</th>\n",
       "      <th>TOTAL_DRIVING</th>\n",
       "      <th>DRIVING_DISTANCE_RANK</th>\n",
       "      <th>DRIVING_DISTANCE</th>\n",
       "      <th>DRIVING_ACCURACY_RANK</th>\n",
       "      <th>DRIVING_ACCURACY</th>\n",
       "      <th>GIR_RANK</th>\n",
       "      <th>GIR</th>\n",
       "      <th>SCRAMBLING_RANK</th>\n",
       "      <th>SCRAMBLING</th>\n",
       "      <th>OWGR_RANK</th>\n",
       "      <th>OWGR</th>\n",
       "      <th>VEGAS_ODDS</th>\n",
       "      <th>CUT_PERCENTAGE</th>\n",
       "      <th>FEDEX_CUP_POINTS</th>\n",
       "      <th>form_density</th>\n",
       "      <th>CONSECUTIVE_CUTS</th>\n",
       "      <th>RECENT_FORM</th>\n",
       "      <th>adj_form</th>\n",
       "      <th>COURSE_HISTORY</th>\n",
       "      <th>adj_ch</th>\n",
       "      <th>TOP_20</th>\n",
       "    </tr>\n",
       "  </thead>\n",
       "  <tbody>\n",
       "    <tr>\n",
       "      <th>0</th>\n",
       "      <td>2016</td>\n",
       "      <td>2016-08-14</td>\n",
       "      <td>John Deere Classic</td>\n",
       "      <td>TPC Deere Run</td>\n",
       "      <td>Aaron Wise</td>\n",
       "      <td>T16</td>\n",
       "      <td>16</td>\n",
       "      <td>NaN</td>\n",
       "      <td>NaN</td>\n",
       "      <td>NaN</td>\n",
       "      <td>NaN</td>\n",
       "      <td>NaN</td>\n",
       "      <td>NaN</td>\n",
       "      <td>NaN</td>\n",
       "      <td>NaN</td>\n",
       "      <td>NaN</td>\n",
       "      <td>NaN</td>\n",
       "      <td>NaN</td>\n",
       "      <td>None</td>\n",
       "      <td>NaN</td>\n",
       "      <td>NaN</td>\n",
       "      <td>NaN</td>\n",
       "      <td>NaN</td>\n",
       "      <td>NaN</td>\n",
       "      <td>NaN</td>\n",
       "      <td>NaN</td>\n",
       "      <td>NaN</td>\n",
       "      <td>NaN</td>\n",
       "      <td>NaN</td>\n",
       "      <td>NaN</td>\n",
       "      <td>None</td>\n",
       "      <td>NaN</td>\n",
       "      <td>None</td>\n",
       "      <td>NaN</td>\n",
       "      <td>None</td>\n",
       "      <td>609.0</td>\n",
       "      <td>0.26</td>\n",
       "      <td>80.0</td>\n",
       "      <td>0.0</td>\n",
       "      <td>0.00</td>\n",
       "      <td>0.00</td>\n",
       "      <td>0.0</td>\n",
       "      <td>90.0</td>\n",
       "      <td>129.84</td>\n",
       "      <td>NaN</td>\n",
       "      <td>NaN</td>\n",
       "      <td>1</td>\n",
       "    </tr>\n",
       "    <tr>\n",
       "      <th>1</th>\n",
       "      <td>2016</td>\n",
       "      <td>2016-08-14</td>\n",
       "      <td>John Deere Classic</td>\n",
       "      <td>TPC Deere Run</td>\n",
       "      <td>Abraham Ancer</td>\n",
       "      <td>T27</td>\n",
       "      <td>27</td>\n",
       "      <td>144.0</td>\n",
       "      <td>-0.307</td>\n",
       "      <td>111.0</td>\n",
       "      <td>-0.024</td>\n",
       "      <td>161.0</td>\n",
       "      <td>-0.340</td>\n",
       "      <td>77.0</td>\n",
       "      <td>0.057</td>\n",
       "      <td>172.0</td>\n",
       "      <td>-0.421</td>\n",
       "      <td>154.0</td>\n",
       "      <td>18.63</td>\n",
       "      <td>120.0</td>\n",
       "      <td>3.08</td>\n",
       "      <td>136.0</td>\n",
       "      <td>4.07</td>\n",
       "      <td>183.0</td>\n",
       "      <td>4.80</td>\n",
       "      <td>131.0</td>\n",
       "      <td>205.0</td>\n",
       "      <td>178.0</td>\n",
       "      <td>276.4</td>\n",
       "      <td>27.0</td>\n",
       "      <td>65.42</td>\n",
       "      <td>174.0</td>\n",
       "      <td>61.81</td>\n",
       "      <td>131.0</td>\n",
       "      <td>56.67</td>\n",
       "      <td>619.0</td>\n",
       "      <td>0.25</td>\n",
       "      <td>1000.0</td>\n",
       "      <td>33.3</td>\n",
       "      <td>55.50</td>\n",
       "      <td>6.17</td>\n",
       "      <td>1.0</td>\n",
       "      <td>76.3</td>\n",
       "      <td>33.14</td>\n",
       "      <td>NaN</td>\n",
       "      <td>NaN</td>\n",
       "      <td>0</td>\n",
       "    </tr>\n",
       "    <tr>\n",
       "      <th>2</th>\n",
       "      <td>2016</td>\n",
       "      <td>2016-08-14</td>\n",
       "      <td>John Deere Classic</td>\n",
       "      <td>TPC Deere Run</td>\n",
       "      <td>Adam Hadwin</td>\n",
       "      <td>T8</td>\n",
       "      <td>8</td>\n",
       "      <td>111.0</td>\n",
       "      <td>-0.011</td>\n",
       "      <td>55.0</td>\n",
       "      <td>0.223</td>\n",
       "      <td>121.0</td>\n",
       "      <td>-0.055</td>\n",
       "      <td>132.0</td>\n",
       "      <td>-0.081</td>\n",
       "      <td>11.0</td>\n",
       "      <td>0.530</td>\n",
       "      <td>22.0</td>\n",
       "      <td>21.74</td>\n",
       "      <td>16.0</td>\n",
       "      <td>3.01</td>\n",
       "      <td>48.0</td>\n",
       "      <td>4.03</td>\n",
       "      <td>68.0</td>\n",
       "      <td>4.66</td>\n",
       "      <td>35.0</td>\n",
       "      <td>141.0</td>\n",
       "      <td>92.0</td>\n",
       "      <td>290.1</td>\n",
       "      <td>49.0</td>\n",
       "      <td>63.62</td>\n",
       "      <td>83.0</td>\n",
       "      <td>66.07</td>\n",
       "      <td>97.0</td>\n",
       "      <td>58.27</td>\n",
       "      <td>193.0</td>\n",
       "      <td>0.91</td>\n",
       "      <td>80.0</td>\n",
       "      <td>72.2</td>\n",
       "      <td>452.17</td>\n",
       "      <td>25.12</td>\n",
       "      <td>0.0</td>\n",
       "      <td>51.4</td>\n",
       "      <td>17.46</td>\n",
       "      <td>18.0</td>\n",
       "      <td>25.97</td>\n",
       "      <td>1</td>\n",
       "    </tr>\n",
       "    <tr>\n",
       "      <th>3</th>\n",
       "      <td>2016</td>\n",
       "      <td>2016-08-14</td>\n",
       "      <td>John Deere Classic</td>\n",
       "      <td>TPC Deere Run</td>\n",
       "      <td>Alex Prugh</td>\n",
       "      <td>T52</td>\n",
       "      <td>52</td>\n",
       "      <td>NaN</td>\n",
       "      <td>NaN</td>\n",
       "      <td>NaN</td>\n",
       "      <td>NaN</td>\n",
       "      <td>NaN</td>\n",
       "      <td>NaN</td>\n",
       "      <td>NaN</td>\n",
       "      <td>NaN</td>\n",
       "      <td>NaN</td>\n",
       "      <td>NaN</td>\n",
       "      <td>NaN</td>\n",
       "      <td>None</td>\n",
       "      <td>NaN</td>\n",
       "      <td>NaN</td>\n",
       "      <td>NaN</td>\n",
       "      <td>NaN</td>\n",
       "      <td>NaN</td>\n",
       "      <td>NaN</td>\n",
       "      <td>NaN</td>\n",
       "      <td>NaN</td>\n",
       "      <td>NaN</td>\n",
       "      <td>NaN</td>\n",
       "      <td>NaN</td>\n",
       "      <td>None</td>\n",
       "      <td>NaN</td>\n",
       "      <td>None</td>\n",
       "      <td>NaN</td>\n",
       "      <td>None</td>\n",
       "      <td>544.0</td>\n",
       "      <td>0.30</td>\n",
       "      <td>1000.0</td>\n",
       "      <td>25.0</td>\n",
       "      <td>0.68</td>\n",
       "      <td>0.17</td>\n",
       "      <td>0.0</td>\n",
       "      <td>88.8</td>\n",
       "      <td>55.17</td>\n",
       "      <td>28.0</td>\n",
       "      <td>40.40</td>\n",
       "      <td>0</td>\n",
       "    </tr>\n",
       "    <tr>\n",
       "      <th>4</th>\n",
       "      <td>2016</td>\n",
       "      <td>2016-08-14</td>\n",
       "      <td>John Deere Classic</td>\n",
       "      <td>TPC Deere Run</td>\n",
       "      <td>Andres Gonzales</td>\n",
       "      <td>T64</td>\n",
       "      <td>64</td>\n",
       "      <td>160.0</td>\n",
       "      <td>-0.469</td>\n",
       "      <td>141.0</td>\n",
       "      <td>-0.222</td>\n",
       "      <td>134.0</td>\n",
       "      <td>-0.112</td>\n",
       "      <td>151.0</td>\n",
       "      <td>-0.135</td>\n",
       "      <td>94.0</td>\n",
       "      <td>0.007</td>\n",
       "      <td>91.0</td>\n",
       "      <td>20.01</td>\n",
       "      <td>78.0</td>\n",
       "      <td>3.06</td>\n",
       "      <td>162.0</td>\n",
       "      <td>4.09</td>\n",
       "      <td>80.0</td>\n",
       "      <td>4.67</td>\n",
       "      <td>145.0</td>\n",
       "      <td>224.0</td>\n",
       "      <td>59.0</td>\n",
       "      <td>294.7</td>\n",
       "      <td>165.0</td>\n",
       "      <td>54.55</td>\n",
       "      <td>81.0</td>\n",
       "      <td>66.17</td>\n",
       "      <td>148.0</td>\n",
       "      <td>55.79</td>\n",
       "      <td>270.0</td>\n",
       "      <td>0.66</td>\n",
       "      <td>1000.0</td>\n",
       "      <td>35.3</td>\n",
       "      <td>95.30</td>\n",
       "      <td>5.61</td>\n",
       "      <td>1.0</td>\n",
       "      <td>77.7</td>\n",
       "      <td>26.88</td>\n",
       "      <td>90.0</td>\n",
       "      <td>129.84</td>\n",
       "      <td>0</td>\n",
       "    </tr>\n",
       "  </tbody>\n",
       "</table>\n",
       "</div>"
      ],
      "text/plain": [
       "   SEASON ENDING_DATE          TOURNAMENT         COURSE           PLAYER  \\\n",
       "0    2016  2016-08-14  John Deere Classic  TPC Deere Run       Aaron Wise   \n",
       "1    2016  2016-08-14  John Deere Classic  TPC Deere Run    Abraham Ancer   \n",
       "2    2016  2016-08-14  John Deere Classic  TPC Deere Run      Adam Hadwin   \n",
       "3    2016  2016-08-14  John Deere Classic  TPC Deere Run       Alex Prugh   \n",
       "4    2016  2016-08-14  John Deere Classic  TPC Deere Run  Andres Gonzales   \n",
       "\n",
       "   POS  FINAL_POS  SGTTG_RANK  SGTTG  SGOTT_RANK  SGOTT  SGAPR_RANK  SGAPR  \\\n",
       "0  T16         16         NaN    NaN         NaN    NaN         NaN    NaN   \n",
       "1  T27         27       144.0 -0.307       111.0 -0.024       161.0 -0.340   \n",
       "2   T8          8       111.0 -0.011        55.0  0.223       121.0 -0.055   \n",
       "3  T52         52         NaN    NaN         NaN    NaN         NaN    NaN   \n",
       "4  T64         64       160.0 -0.469       141.0 -0.222       134.0 -0.112   \n",
       "\n",
       "   SGATG_RANK  SGATG  SGP_RANK    SGP  BIRDIES_RANK BIRDIES  PAR_3_RANK  \\\n",
       "0         NaN    NaN       NaN    NaN           NaN    None         NaN   \n",
       "1        77.0  0.057     172.0 -0.421         154.0   18.63       120.0   \n",
       "2       132.0 -0.081      11.0  0.530          22.0   21.74        16.0   \n",
       "3         NaN    NaN       NaN    NaN           NaN    None         NaN   \n",
       "4       151.0 -0.135      94.0  0.007          91.0   20.01        78.0   \n",
       "\n",
       "   PAR_3  PAR_4_RANK  PAR_4  PAR_5_RANK  PAR_5  TOTAL_DRIVING_RANK  \\\n",
       "0    NaN         NaN    NaN         NaN    NaN                 NaN   \n",
       "1   3.08       136.0   4.07       183.0   4.80               131.0   \n",
       "2   3.01        48.0   4.03        68.0   4.66                35.0   \n",
       "3    NaN         NaN    NaN         NaN    NaN                 NaN   \n",
       "4   3.06       162.0   4.09        80.0   4.67               145.0   \n",
       "\n",
       "   TOTAL_DRIVING  DRIVING_DISTANCE_RANK  DRIVING_DISTANCE  \\\n",
       "0            NaN                    NaN               NaN   \n",
       "1          205.0                  178.0             276.4   \n",
       "2          141.0                   92.0             290.1   \n",
       "3            NaN                    NaN               NaN   \n",
       "4          224.0                   59.0             294.7   \n",
       "\n",
       "   DRIVING_ACCURACY_RANK DRIVING_ACCURACY  GIR_RANK    GIR  SCRAMBLING_RANK  \\\n",
       "0                    NaN             None       NaN   None              NaN   \n",
       "1                   27.0            65.42     174.0  61.81            131.0   \n",
       "2                   49.0            63.62      83.0  66.07             97.0   \n",
       "3                    NaN             None       NaN   None              NaN   \n",
       "4                  165.0            54.55      81.0  66.17            148.0   \n",
       "\n",
       "  SCRAMBLING  OWGR_RANK  OWGR  VEGAS_ODDS  CUT_PERCENTAGE  FEDEX_CUP_POINTS  \\\n",
       "0       None      609.0  0.26        80.0             0.0              0.00   \n",
       "1      56.67      619.0  0.25      1000.0            33.3             55.50   \n",
       "2      58.27      193.0  0.91        80.0            72.2            452.17   \n",
       "3       None      544.0  0.30      1000.0            25.0              0.68   \n",
       "4      55.79      270.0  0.66      1000.0            35.3             95.30   \n",
       "\n",
       "   form_density  CONSECUTIVE_CUTS  RECENT_FORM  adj_form  COURSE_HISTORY  \\\n",
       "0          0.00               0.0         90.0    129.84             NaN   \n",
       "1          6.17               1.0         76.3     33.14             NaN   \n",
       "2         25.12               0.0         51.4     17.46            18.0   \n",
       "3          0.17               0.0         88.8     55.17            28.0   \n",
       "4          5.61               1.0         77.7     26.88            90.0   \n",
       "\n",
       "   adj_ch  TOP_20  \n",
       "0     NaN       1  \n",
       "1     NaN       0  \n",
       "2   25.97       1  \n",
       "3   40.40       0  \n",
       "4  129.84       0  "
      ]
     },
     "execution_count": 11,
     "metadata": {},
     "output_type": "execute_result"
    }
   ],
   "source": [
    "# === VEGAS ODDS ===\n",
    "training_df[\"VEGAS_ODDS\"] = training_df[\"VEGAS_ODDS\"].fillna(1000).clip(upper=1000)\n",
    "\n",
    "# === OWGR and OWGR_RANK ===\n",
    "owgr_min = training_df[\"OWGR\"].min(skipna=True)\n",
    "training_df[\"OWGR\"] = training_df[\"OWGR\"].fillna(owgr_min)\n",
    "training_df[\"OWGR_RANK\"] = training_df[\"OWGR_RANK\"].fillna(1000).astype(float).clip(upper=1000)\n",
    "\n",
    "# === RECENT FORM and adj_form ===\n",
    "training_df[\"RECENT_FORM\"] = training_df[\"RECENT_FORM\"].fillna(90)\n",
    "if \"TOTAL_EVENTS_PLAYED\" in training_df.columns:\n",
    "    training_df[\"adj_form\"] = (\n",
    "        training_df[\"RECENT_FORM\"] / np.log1p(training_df[\"TOTAL_EVENTS_PLAYED\"])\n",
    "    ).round(2)\n",
    "\n",
    "# === FEDEX CUP POINTS ===\n",
    "training_df[\"FEDEX_CUP_POINTS\"] = training_df[\"FEDEX_CUP_POINTS\"].fillna(0)\n",
    "\n",
    "training_df.head(5)\n"
   ]
  },
  {
   "cell_type": "markdown",
   "id": "f58c9b4a",
   "metadata": {},
   "source": [
    "#### Average the NaNs\n",
    "At this point, the intentional offsetting of NaNs for poor players is over.  I don't want to penalize statistics or course history because you never know where they might land on the spectrum, so for these NaN values, we will take the mean."
   ]
  },
  {
   "cell_type": "code",
   "execution_count": 12,
   "id": "1172b59c",
   "metadata": {},
   "outputs": [
    {
     "data": {
      "text/html": [
       "<div>\n",
       "<style scoped>\n",
       "    .dataframe tbody tr th:only-of-type {\n",
       "        vertical-align: middle;\n",
       "    }\n",
       "\n",
       "    .dataframe tbody tr th {\n",
       "        vertical-align: top;\n",
       "    }\n",
       "\n",
       "    .dataframe thead th {\n",
       "        text-align: right;\n",
       "    }\n",
       "</style>\n",
       "<table border=\"1\" class=\"dataframe\">\n",
       "  <thead>\n",
       "    <tr style=\"text-align: right;\">\n",
       "      <th></th>\n",
       "      <th>SEASON</th>\n",
       "      <th>ENDING_DATE</th>\n",
       "      <th>TOURNAMENT</th>\n",
       "      <th>COURSE</th>\n",
       "      <th>PLAYER</th>\n",
       "      <th>POS</th>\n",
       "      <th>FINAL_POS</th>\n",
       "      <th>SGTTG_RANK</th>\n",
       "      <th>SGTTG</th>\n",
       "      <th>SGOTT_RANK</th>\n",
       "      <th>SGOTT</th>\n",
       "      <th>SGAPR_RANK</th>\n",
       "      <th>SGAPR</th>\n",
       "      <th>SGATG_RANK</th>\n",
       "      <th>SGATG</th>\n",
       "      <th>SGP_RANK</th>\n",
       "      <th>SGP</th>\n",
       "      <th>BIRDIES_RANK</th>\n",
       "      <th>BIRDIES</th>\n",
       "      <th>PAR_3_RANK</th>\n",
       "      <th>PAR_3</th>\n",
       "      <th>PAR_4_RANK</th>\n",
       "      <th>PAR_4</th>\n",
       "      <th>PAR_5_RANK</th>\n",
       "      <th>PAR_5</th>\n",
       "      <th>TOTAL_DRIVING_RANK</th>\n",
       "      <th>TOTAL_DRIVING</th>\n",
       "      <th>DRIVING_DISTANCE_RANK</th>\n",
       "      <th>DRIVING_DISTANCE</th>\n",
       "      <th>DRIVING_ACCURACY_RANK</th>\n",
       "      <th>DRIVING_ACCURACY</th>\n",
       "      <th>GIR_RANK</th>\n",
       "      <th>GIR</th>\n",
       "      <th>SCRAMBLING_RANK</th>\n",
       "      <th>SCRAMBLING</th>\n",
       "      <th>OWGR_RANK</th>\n",
       "      <th>OWGR</th>\n",
       "      <th>VEGAS_ODDS</th>\n",
       "      <th>CUT_PERCENTAGE</th>\n",
       "      <th>FEDEX_CUP_POINTS</th>\n",
       "      <th>form_density</th>\n",
       "      <th>CONSECUTIVE_CUTS</th>\n",
       "      <th>RECENT_FORM</th>\n",
       "      <th>adj_form</th>\n",
       "      <th>COURSE_HISTORY</th>\n",
       "      <th>adj_ch</th>\n",
       "      <th>TOP_20</th>\n",
       "    </tr>\n",
       "  </thead>\n",
       "  <tbody>\n",
       "    <tr>\n",
       "      <th>0</th>\n",
       "      <td>2016</td>\n",
       "      <td>2016-08-14</td>\n",
       "      <td>John Deere Classic</td>\n",
       "      <td>TPC Deere Run</td>\n",
       "      <td>Aaron Wise</td>\n",
       "      <td>T16</td>\n",
       "      <td>16</td>\n",
       "      <td>115.182432</td>\n",
       "      <td>-0.123625</td>\n",
       "      <td>108.475225</td>\n",
       "      <td>-0.05639</td>\n",
       "      <td>110.260135</td>\n",
       "      <td>-0.049856</td>\n",
       "      <td>105.672297</td>\n",
       "      <td>-0.017413</td>\n",
       "      <td>102.983108</td>\n",
       "      <td>-0.018832</td>\n",
       "      <td>107.084459</td>\n",
       "      <td>20.731847</td>\n",
       "      <td>94.333333</td>\n",
       "      <td>3.060248</td>\n",
       "      <td>98.507312</td>\n",
       "      <td>4.037075</td>\n",
       "      <td>102.759009</td>\n",
       "      <td>4.648041</td>\n",
       "      <td>106.115991</td>\n",
       "      <td>200.498874</td>\n",
       "      <td>106.519144</td>\n",
       "      <td>295.220721</td>\n",
       "      <td>93.97973</td>\n",
       "      <td>60.796498</td>\n",
       "      <td>97.56243</td>\n",
       "      <td>66.136862</td>\n",
       "      <td>101.846847</td>\n",
       "      <td>58.683874</td>\n",
       "      <td>609.0</td>\n",
       "      <td>0.26</td>\n",
       "      <td>80.0</td>\n",
       "      <td>0.0</td>\n",
       "      <td>0.00</td>\n",
       "      <td>0.00</td>\n",
       "      <td>0.0</td>\n",
       "      <td>90.0</td>\n",
       "      <td>129.84</td>\n",
       "      <td>59.058171</td>\n",
       "      <td>59.776011</td>\n",
       "      <td>1</td>\n",
       "    </tr>\n",
       "    <tr>\n",
       "      <th>1</th>\n",
       "      <td>2016</td>\n",
       "      <td>2016-08-14</td>\n",
       "      <td>John Deere Classic</td>\n",
       "      <td>TPC Deere Run</td>\n",
       "      <td>Abraham Ancer</td>\n",
       "      <td>T27</td>\n",
       "      <td>27</td>\n",
       "      <td>144.000000</td>\n",
       "      <td>-0.307000</td>\n",
       "      <td>111.000000</td>\n",
       "      <td>-0.02400</td>\n",
       "      <td>161.000000</td>\n",
       "      <td>-0.340000</td>\n",
       "      <td>77.000000</td>\n",
       "      <td>0.057000</td>\n",
       "      <td>172.000000</td>\n",
       "      <td>-0.421000</td>\n",
       "      <td>154.000000</td>\n",
       "      <td>18.630000</td>\n",
       "      <td>120.000000</td>\n",
       "      <td>3.080000</td>\n",
       "      <td>136.000000</td>\n",
       "      <td>4.070000</td>\n",
       "      <td>183.000000</td>\n",
       "      <td>4.800000</td>\n",
       "      <td>131.000000</td>\n",
       "      <td>205.000000</td>\n",
       "      <td>178.000000</td>\n",
       "      <td>276.400000</td>\n",
       "      <td>27.00000</td>\n",
       "      <td>65.420000</td>\n",
       "      <td>174.00000</td>\n",
       "      <td>61.810000</td>\n",
       "      <td>131.000000</td>\n",
       "      <td>56.670000</td>\n",
       "      <td>619.0</td>\n",
       "      <td>0.25</td>\n",
       "      <td>1000.0</td>\n",
       "      <td>33.3</td>\n",
       "      <td>55.50</td>\n",
       "      <td>6.17</td>\n",
       "      <td>1.0</td>\n",
       "      <td>76.3</td>\n",
       "      <td>33.14</td>\n",
       "      <td>59.058171</td>\n",
       "      <td>59.776011</td>\n",
       "      <td>0</td>\n",
       "    </tr>\n",
       "    <tr>\n",
       "      <th>2</th>\n",
       "      <td>2016</td>\n",
       "      <td>2016-08-14</td>\n",
       "      <td>John Deere Classic</td>\n",
       "      <td>TPC Deere Run</td>\n",
       "      <td>Adam Hadwin</td>\n",
       "      <td>T8</td>\n",
       "      <td>8</td>\n",
       "      <td>111.000000</td>\n",
       "      <td>-0.011000</td>\n",
       "      <td>55.000000</td>\n",
       "      <td>0.22300</td>\n",
       "      <td>121.000000</td>\n",
       "      <td>-0.055000</td>\n",
       "      <td>132.000000</td>\n",
       "      <td>-0.081000</td>\n",
       "      <td>11.000000</td>\n",
       "      <td>0.530000</td>\n",
       "      <td>22.000000</td>\n",
       "      <td>21.740000</td>\n",
       "      <td>16.000000</td>\n",
       "      <td>3.010000</td>\n",
       "      <td>48.000000</td>\n",
       "      <td>4.030000</td>\n",
       "      <td>68.000000</td>\n",
       "      <td>4.660000</td>\n",
       "      <td>35.000000</td>\n",
       "      <td>141.000000</td>\n",
       "      <td>92.000000</td>\n",
       "      <td>290.100000</td>\n",
       "      <td>49.00000</td>\n",
       "      <td>63.620000</td>\n",
       "      <td>83.00000</td>\n",
       "      <td>66.070000</td>\n",
       "      <td>97.000000</td>\n",
       "      <td>58.270000</td>\n",
       "      <td>193.0</td>\n",
       "      <td>0.91</td>\n",
       "      <td>80.0</td>\n",
       "      <td>72.2</td>\n",
       "      <td>452.17</td>\n",
       "      <td>25.12</td>\n",
       "      <td>0.0</td>\n",
       "      <td>51.4</td>\n",
       "      <td>17.46</td>\n",
       "      <td>18.000000</td>\n",
       "      <td>25.970000</td>\n",
       "      <td>1</td>\n",
       "    </tr>\n",
       "    <tr>\n",
       "      <th>3</th>\n",
       "      <td>2016</td>\n",
       "      <td>2016-08-14</td>\n",
       "      <td>John Deere Classic</td>\n",
       "      <td>TPC Deere Run</td>\n",
       "      <td>Alex Prugh</td>\n",
       "      <td>T52</td>\n",
       "      <td>52</td>\n",
       "      <td>115.182432</td>\n",
       "      <td>-0.123625</td>\n",
       "      <td>108.475225</td>\n",
       "      <td>-0.05639</td>\n",
       "      <td>110.260135</td>\n",
       "      <td>-0.049856</td>\n",
       "      <td>105.672297</td>\n",
       "      <td>-0.017413</td>\n",
       "      <td>102.983108</td>\n",
       "      <td>-0.018832</td>\n",
       "      <td>107.084459</td>\n",
       "      <td>20.731847</td>\n",
       "      <td>94.333333</td>\n",
       "      <td>3.060248</td>\n",
       "      <td>98.507312</td>\n",
       "      <td>4.037075</td>\n",
       "      <td>102.759009</td>\n",
       "      <td>4.648041</td>\n",
       "      <td>106.115991</td>\n",
       "      <td>200.498874</td>\n",
       "      <td>106.519144</td>\n",
       "      <td>295.220721</td>\n",
       "      <td>93.97973</td>\n",
       "      <td>60.796498</td>\n",
       "      <td>97.56243</td>\n",
       "      <td>66.136862</td>\n",
       "      <td>101.846847</td>\n",
       "      <td>58.683874</td>\n",
       "      <td>544.0</td>\n",
       "      <td>0.30</td>\n",
       "      <td>1000.0</td>\n",
       "      <td>25.0</td>\n",
       "      <td>0.68</td>\n",
       "      <td>0.17</td>\n",
       "      <td>0.0</td>\n",
       "      <td>88.8</td>\n",
       "      <td>55.17</td>\n",
       "      <td>28.000000</td>\n",
       "      <td>40.400000</td>\n",
       "      <td>0</td>\n",
       "    </tr>\n",
       "    <tr>\n",
       "      <th>4</th>\n",
       "      <td>2016</td>\n",
       "      <td>2016-08-14</td>\n",
       "      <td>John Deere Classic</td>\n",
       "      <td>TPC Deere Run</td>\n",
       "      <td>Andres Gonzales</td>\n",
       "      <td>T64</td>\n",
       "      <td>64</td>\n",
       "      <td>160.000000</td>\n",
       "      <td>-0.469000</td>\n",
       "      <td>141.000000</td>\n",
       "      <td>-0.22200</td>\n",
       "      <td>134.000000</td>\n",
       "      <td>-0.112000</td>\n",
       "      <td>151.000000</td>\n",
       "      <td>-0.135000</td>\n",
       "      <td>94.000000</td>\n",
       "      <td>0.007000</td>\n",
       "      <td>91.000000</td>\n",
       "      <td>20.010000</td>\n",
       "      <td>78.000000</td>\n",
       "      <td>3.060000</td>\n",
       "      <td>162.000000</td>\n",
       "      <td>4.090000</td>\n",
       "      <td>80.000000</td>\n",
       "      <td>4.670000</td>\n",
       "      <td>145.000000</td>\n",
       "      <td>224.000000</td>\n",
       "      <td>59.000000</td>\n",
       "      <td>294.700000</td>\n",
       "      <td>165.00000</td>\n",
       "      <td>54.550000</td>\n",
       "      <td>81.00000</td>\n",
       "      <td>66.170000</td>\n",
       "      <td>148.000000</td>\n",
       "      <td>55.790000</td>\n",
       "      <td>270.0</td>\n",
       "      <td>0.66</td>\n",
       "      <td>1000.0</td>\n",
       "      <td>35.3</td>\n",
       "      <td>95.30</td>\n",
       "      <td>5.61</td>\n",
       "      <td>1.0</td>\n",
       "      <td>77.7</td>\n",
       "      <td>26.88</td>\n",
       "      <td>90.000000</td>\n",
       "      <td>129.840000</td>\n",
       "      <td>0</td>\n",
       "    </tr>\n",
       "  </tbody>\n",
       "</table>\n",
       "</div>"
      ],
      "text/plain": [
       "   SEASON ENDING_DATE          TOURNAMENT         COURSE           PLAYER  \\\n",
       "0    2016  2016-08-14  John Deere Classic  TPC Deere Run       Aaron Wise   \n",
       "1    2016  2016-08-14  John Deere Classic  TPC Deere Run    Abraham Ancer   \n",
       "2    2016  2016-08-14  John Deere Classic  TPC Deere Run      Adam Hadwin   \n",
       "3    2016  2016-08-14  John Deere Classic  TPC Deere Run       Alex Prugh   \n",
       "4    2016  2016-08-14  John Deere Classic  TPC Deere Run  Andres Gonzales   \n",
       "\n",
       "   POS  FINAL_POS  SGTTG_RANK     SGTTG  SGOTT_RANK    SGOTT  SGAPR_RANK  \\\n",
       "0  T16         16  115.182432 -0.123625  108.475225 -0.05639  110.260135   \n",
       "1  T27         27  144.000000 -0.307000  111.000000 -0.02400  161.000000   \n",
       "2   T8          8  111.000000 -0.011000   55.000000  0.22300  121.000000   \n",
       "3  T52         52  115.182432 -0.123625  108.475225 -0.05639  110.260135   \n",
       "4  T64         64  160.000000 -0.469000  141.000000 -0.22200  134.000000   \n",
       "\n",
       "      SGAPR  SGATG_RANK     SGATG    SGP_RANK       SGP  BIRDIES_RANK  \\\n",
       "0 -0.049856  105.672297 -0.017413  102.983108 -0.018832    107.084459   \n",
       "1 -0.340000   77.000000  0.057000  172.000000 -0.421000    154.000000   \n",
       "2 -0.055000  132.000000 -0.081000   11.000000  0.530000     22.000000   \n",
       "3 -0.049856  105.672297 -0.017413  102.983108 -0.018832    107.084459   \n",
       "4 -0.112000  151.000000 -0.135000   94.000000  0.007000     91.000000   \n",
       "\n",
       "     BIRDIES  PAR_3_RANK     PAR_3  PAR_4_RANK     PAR_4  PAR_5_RANK  \\\n",
       "0  20.731847   94.333333  3.060248   98.507312  4.037075  102.759009   \n",
       "1  18.630000  120.000000  3.080000  136.000000  4.070000  183.000000   \n",
       "2  21.740000   16.000000  3.010000   48.000000  4.030000   68.000000   \n",
       "3  20.731847   94.333333  3.060248   98.507312  4.037075  102.759009   \n",
       "4  20.010000   78.000000  3.060000  162.000000  4.090000   80.000000   \n",
       "\n",
       "      PAR_5  TOTAL_DRIVING_RANK  TOTAL_DRIVING  DRIVING_DISTANCE_RANK  \\\n",
       "0  4.648041          106.115991     200.498874             106.519144   \n",
       "1  4.800000          131.000000     205.000000             178.000000   \n",
       "2  4.660000           35.000000     141.000000              92.000000   \n",
       "3  4.648041          106.115991     200.498874             106.519144   \n",
       "4  4.670000          145.000000     224.000000              59.000000   \n",
       "\n",
       "   DRIVING_DISTANCE  DRIVING_ACCURACY_RANK  DRIVING_ACCURACY   GIR_RANK  \\\n",
       "0        295.220721               93.97973         60.796498   97.56243   \n",
       "1        276.400000               27.00000         65.420000  174.00000   \n",
       "2        290.100000               49.00000         63.620000   83.00000   \n",
       "3        295.220721               93.97973         60.796498   97.56243   \n",
       "4        294.700000              165.00000         54.550000   81.00000   \n",
       "\n",
       "         GIR  SCRAMBLING_RANK  SCRAMBLING  OWGR_RANK  OWGR  VEGAS_ODDS  \\\n",
       "0  66.136862       101.846847   58.683874      609.0  0.26        80.0   \n",
       "1  61.810000       131.000000   56.670000      619.0  0.25      1000.0   \n",
       "2  66.070000        97.000000   58.270000      193.0  0.91        80.0   \n",
       "3  66.136862       101.846847   58.683874      544.0  0.30      1000.0   \n",
       "4  66.170000       148.000000   55.790000      270.0  0.66      1000.0   \n",
       "\n",
       "   CUT_PERCENTAGE  FEDEX_CUP_POINTS  form_density  CONSECUTIVE_CUTS  \\\n",
       "0             0.0              0.00          0.00               0.0   \n",
       "1            33.3             55.50          6.17               1.0   \n",
       "2            72.2            452.17         25.12               0.0   \n",
       "3            25.0              0.68          0.17               0.0   \n",
       "4            35.3             95.30          5.61               1.0   \n",
       "\n",
       "   RECENT_FORM  adj_form  COURSE_HISTORY      adj_ch  TOP_20  \n",
       "0         90.0    129.84       59.058171   59.776011       1  \n",
       "1         76.3     33.14       59.058171   59.776011       0  \n",
       "2         51.4     17.46       18.000000   25.970000       1  \n",
       "3         88.8     55.17       28.000000   40.400000       0  \n",
       "4         77.7     26.88       90.000000  129.840000       0  "
      ]
     },
     "execution_count": 12,
     "metadata": {},
     "output_type": "execute_result"
    }
   ],
   "source": [
    "# === Clean percentage stats stored as strings like '62.5%' ===\n",
    "percent_stats = [\"SCRAMBLING\", \"DRIVING_ACCURACY\", \"BIRDIES\", \"GIR\"]\n",
    "\n",
    "for col in percent_stats:\n",
    "    if col in training_df.columns:\n",
    "        training_df[col] = (\n",
    "            training_df[col]\n",
    "            .astype(str)\n",
    "            .str.replace('%', '', regex=False)\n",
    "            .replace(['None', 'nan', 'NaN', '--', 'DNP', ''], np.nan)\n",
    "            .astype(float)\n",
    "        )\n",
    "\n",
    "# Select only the numeric columns\n",
    "numeric_columns = training_df.select_dtypes(include=['float64', 'int64'])\n",
    "\n",
    "# Fill NaN values with the mean of each column\n",
    "numeric_columns = numeric_columns.fillna(numeric_columns.mean())\n",
    "\n",
    "# Update the original dataframe with the filled numeric columns\n",
    "training_df.update(numeric_columns)\n",
    "\n",
    "training_df.head()"
   ]
  },
  {
   "cell_type": "code",
   "execution_count": 13,
   "id": "bb294b3c",
   "metadata": {},
   "outputs": [],
   "source": [
    "# Check for NaN values\n",
    "assert training_df.isna().sum().sum() == 0, \"🚨 Still missing values!\""
   ]
  },
  {
   "cell_type": "code",
   "execution_count": 14,
   "id": "5d68c5dc",
   "metadata": {},
   "outputs": [
    {
     "data": {
      "text/plain": [
       "SEASON         0\n",
       "ENDING_DATE    0\n",
       "TOURNAMENT     0\n",
       "COURSE         0\n",
       "PLAYER         0\n",
       "POS            0\n",
       "FINAL_POS      0\n",
       "SGTTG_RANK     0\n",
       "SGTTG          0\n",
       "SGOTT_RANK     0\n",
       "dtype: int64"
      ]
     },
     "execution_count": 14,
     "metadata": {},
     "output_type": "execute_result"
    }
   ],
   "source": [
    "# Inspect which columns have NaN values\n",
    "training_df.isna().sum().sort_values(ascending=False).head(10)\n"
   ]
  },
  {
   "cell_type": "markdown",
   "id": "1214b374",
   "metadata": {},
   "source": [
    "### Check Features for Outliers and General Health (Histograms)\n",
    "Now that all the data is cleaned, let's look at the distribution graphs."
   ]
  },
  {
   "cell_type": "code",
   "execution_count": null,
   "id": "c3ac2331",
   "metadata": {},
   "outputs": [],
   "source": [
    "import plotly.express as px\n",
    "import plotly.subplots as sp\n",
    "import plotly.graph_objects as go\n",
    "import pandas as pd\n",
    "import numpy as np\n",
    "\n",
    "# Select numeric columns with >1 unique value, excluding label\n",
    "df_numeric = training_df.select_dtypes(include=np.number)\n",
    "df_numeric = df_numeric.loc[:, df_numeric.nunique() > 1]\n",
    "df_numeric = df_numeric.drop(columns=[\"TOP_20\"], errors=\"ignore\")\n",
    "\n",
    "# Create subplots\n",
    "n_cols = 3\n",
    "n_rows = int(np.ceil(len(df_numeric.columns) / n_cols))\n",
    "fig = sp.make_subplots(rows=n_rows, cols=n_cols, subplot_titles=df_numeric.columns)\n",
    "\n",
    "# Add one histogram per feature with smart binning\n",
    "for i, column in enumerate(df_numeric.columns):\n",
    "    row = i // n_cols + 1\n",
    "    col = i % n_cols + 1\n",
    "\n",
    "    # Compute dynamic bin count\n",
    "    col_range = df_numeric[column].max() - df_numeric[column].min()\n",
    "    n_unique = df_numeric[column].nunique()\n",
    "    nbins = min(50, max(5, int(n_unique / 2))) if col_range < 10 else 50  # tighter for short-range\n",
    "\n",
    "    fig.add_trace(\n",
    "        go.Histogram(\n",
    "            x=df_numeric[column],\n",
    "            nbinsx=nbins,\n",
    "            histnorm=\"density\",\n",
    "            marker=dict(color=\"#636EFA\"),\n",
    "            opacity=0.8\n",
    "        ),\n",
    "        row=row,\n",
    "        col=col\n",
    "    )\n",
    "\n",
    "# Style the figure\n",
    "fig.update_layout(\n",
    "    height=300 * n_rows,\n",
    "    width=1000,\n",
    "    title_text=\"Feature Distributions (with Adaptive Binning)\",\n",
    "    template=\"plotly_dark\",\n",
    "    showlegend=False\n",
    ")\n",
    "\n",
    "fig.show()"
   ]
  },
  {
   "cell_type": "markdown",
   "id": "7dd53f87",
   "metadata": {},
   "source": [
    "# Current Week Data"
   ]
  },
  {
   "cell_type": "markdown",
   "id": "fbd0a012",
   "metadata": {},
   "source": [
    "## Import 2025 Field\n",
    "**Important!**  Save curren't week's `DKSalaries.csv` into Data folder before this step."
   ]
  },
  {
   "cell_type": "code",
   "execution_count": 15,
   "id": "f17875f6",
   "metadata": {},
   "outputs": [
    {
     "data": {
      "text/html": [
       "<div>\n",
       "<style scoped>\n",
       "    .dataframe tbody tr th:only-of-type {\n",
       "        vertical-align: middle;\n",
       "    }\n",
       "\n",
       "    .dataframe tbody tr th {\n",
       "        vertical-align: top;\n",
       "    }\n",
       "\n",
       "    .dataframe thead th {\n",
       "        text-align: right;\n",
       "    }\n",
       "</style>\n",
       "<table border=\"1\" class=\"dataframe\">\n",
       "  <thead>\n",
       "    <tr style=\"text-align: right;\">\n",
       "      <th></th>\n",
       "      <th>PLAYER</th>\n",
       "      <th>SALARY</th>\n",
       "    </tr>\n",
       "  </thead>\n",
       "  <tbody>\n",
       "    <tr>\n",
       "      <th>0</th>\n",
       "      <td>Jason Day</td>\n",
       "      <td>10500</td>\n",
       "    </tr>\n",
       "    <tr>\n",
       "      <th>1</th>\n",
       "      <td>Ben Griffin</td>\n",
       "      <td>10400</td>\n",
       "    </tr>\n",
       "    <tr>\n",
       "      <th>2</th>\n",
       "      <td>J.T. Poston</td>\n",
       "      <td>10100</td>\n",
       "    </tr>\n",
       "    <tr>\n",
       "      <th>3</th>\n",
       "      <td>Denny McCarthy</td>\n",
       "      <td>9900</td>\n",
       "    </tr>\n",
       "    <tr>\n",
       "      <th>4</th>\n",
       "      <td>Si Woo Kim</td>\n",
       "      <td>9700</td>\n",
       "    </tr>\n",
       "    <tr>\n",
       "      <th>5</th>\n",
       "      <td>Davis Thompson</td>\n",
       "      <td>9600</td>\n",
       "    </tr>\n",
       "    <tr>\n",
       "      <th>6</th>\n",
       "      <td>Jake Knapp</td>\n",
       "      <td>9400</td>\n",
       "    </tr>\n",
       "    <tr>\n",
       "      <th>7</th>\n",
       "      <td>Chris Gotterup</td>\n",
       "      <td>9300</td>\n",
       "    </tr>\n",
       "    <tr>\n",
       "      <th>8</th>\n",
       "      <td>Sungjae Im</td>\n",
       "      <td>9200</td>\n",
       "    </tr>\n",
       "    <tr>\n",
       "      <th>9</th>\n",
       "      <td>Michael Thorbjornsen</td>\n",
       "      <td>9100</td>\n",
       "    </tr>\n",
       "  </tbody>\n",
       "</table>\n",
       "</div>"
      ],
      "text/plain": [
       "                 PLAYER  SALARY\n",
       "0             Jason Day   10500\n",
       "1           Ben Griffin   10400\n",
       "2           J.T. Poston   10100\n",
       "3        Denny McCarthy    9900\n",
       "4            Si Woo Kim    9700\n",
       "5        Davis Thompson    9600\n",
       "6            Jake Knapp    9400\n",
       "7        Chris Gotterup    9300\n",
       "8            Sungjae Im    9200\n",
       "9  Michael Thorbjornsen    9100"
      ]
     },
     "execution_count": 15,
     "metadata": {},
     "output_type": "execute_result"
    }
   ],
   "source": [
    "importlib.reload(utils.db_utils)\n",
    "from utils.db_utils import DK_PLAYER_NAME_MAP\n",
    "\n",
    "# Load DraftKings player list\n",
    "dk = pd.read_csv(\"data/DKSalaries.csv\", usecols=[\"Name\", \"Salary\"])\n",
    "\n",
    "# Normalize DK names to PGA naming convention\n",
    "dk[\"Name\"] = dk[\"Name\"].replace(DK_PLAYER_NAME_MAP)\n",
    "\n",
    "# Rename for consistency\n",
    "dk = dk.rename(columns={\"Name\": \"PLAYER\", \"Salary\": \"SALARY\"})\n",
    "\n",
    "dk.head(10)"
   ]
  },
  {
   "cell_type": "markdown",
   "id": "544d958c",
   "metadata": {},
   "source": [
    "## Vegas Odds\n",
    "Confirm the [Vegas Odds](http://golfodds.com/weekly-odds.html) page is updated with current tournament.\n",
    "\n",
    "Note: sometimes this site can give errors and not load correctly.  Just have to do it again later.\n",
    "Another trick to try is change the url try to run it and then put the url back the way it was.  Worked once, maybe random coincidence."
   ]
  },
  {
   "cell_type": "code",
   "execution_count": 16,
   "id": "a3cba953",
   "metadata": {},
   "outputs": [
    {
     "data": {
      "text/html": [
       "<div>\n",
       "<style scoped>\n",
       "    .dataframe tbody tr th:only-of-type {\n",
       "        vertical-align: middle;\n",
       "    }\n",
       "\n",
       "    .dataframe tbody tr th {\n",
       "        vertical-align: top;\n",
       "    }\n",
       "\n",
       "    .dataframe thead th {\n",
       "        text-align: right;\n",
       "    }\n",
       "</style>\n",
       "<table border=\"1\" class=\"dataframe\">\n",
       "  <thead>\n",
       "    <tr style=\"text-align: right;\">\n",
       "      <th></th>\n",
       "      <th>SEASON</th>\n",
       "      <th>TOURNAMENT</th>\n",
       "      <th>PLAYER</th>\n",
       "      <th>ODDS</th>\n",
       "      <th>VEGAS_ODDS</th>\n",
       "    </tr>\n",
       "  </thead>\n",
       "  <tbody>\n",
       "    <tr>\n",
       "      <th>1</th>\n",
       "      <td>2025</td>\n",
       "      <td>John Deere Classic</td>\n",
       "      <td>Ben Griffin</td>\n",
       "      <td>14/1</td>\n",
       "      <td>14.0</td>\n",
       "    </tr>\n",
       "    <tr>\n",
       "      <th>2</th>\n",
       "      <td>2025</td>\n",
       "      <td>John Deere Classic</td>\n",
       "      <td>Denny McCarthy</td>\n",
       "      <td>25/1</td>\n",
       "      <td>25.0</td>\n",
       "    </tr>\n",
       "    <tr>\n",
       "      <th>3</th>\n",
       "      <td>2025</td>\n",
       "      <td>John Deere Classic</td>\n",
       "      <td>Jason Day</td>\n",
       "      <td>25/1</td>\n",
       "      <td>25.0</td>\n",
       "    </tr>\n",
       "    <tr>\n",
       "      <th>4</th>\n",
       "      <td>2025</td>\n",
       "      <td>John Deere Classic</td>\n",
       "      <td>Davis Thompson</td>\n",
       "      <td>30/1</td>\n",
       "      <td>30.0</td>\n",
       "    </tr>\n",
       "    <tr>\n",
       "      <th>5</th>\n",
       "      <td>2025</td>\n",
       "      <td>John Deere Classic</td>\n",
       "      <td>J.T. Poston</td>\n",
       "      <td>30/1</td>\n",
       "      <td>30.0</td>\n",
       "    </tr>\n",
       "    <tr>\n",
       "      <th>6</th>\n",
       "      <td>2025</td>\n",
       "      <td>John Deere Classic</td>\n",
       "      <td>Si Woo Kim</td>\n",
       "      <td>30/1</td>\n",
       "      <td>30.0</td>\n",
       "    </tr>\n",
       "    <tr>\n",
       "      <th>7</th>\n",
       "      <td>2025</td>\n",
       "      <td>John Deere Classic</td>\n",
       "      <td>Sungjae Im</td>\n",
       "      <td>35/1</td>\n",
       "      <td>35.0</td>\n",
       "    </tr>\n",
       "    <tr>\n",
       "      <th>8</th>\n",
       "      <td>2025</td>\n",
       "      <td>John Deere Classic</td>\n",
       "      <td>Jake Knapp</td>\n",
       "      <td>35/1</td>\n",
       "      <td>35.0</td>\n",
       "    </tr>\n",
       "    <tr>\n",
       "      <th>9</th>\n",
       "      <td>2025</td>\n",
       "      <td>John Deere Classic</td>\n",
       "      <td>Chris Kirk</td>\n",
       "      <td>35/1</td>\n",
       "      <td>35.0</td>\n",
       "    </tr>\n",
       "    <tr>\n",
       "      <th>10</th>\n",
       "      <td>2025</td>\n",
       "      <td>John Deere Classic</td>\n",
       "      <td>Kevin Yu</td>\n",
       "      <td>35/1</td>\n",
       "      <td>35.0</td>\n",
       "    </tr>\n",
       "  </tbody>\n",
       "</table>\n",
       "</div>"
      ],
      "text/plain": [
       "    SEASON          TOURNAMENT          PLAYER  ODDS  VEGAS_ODDS\n",
       "1     2025  John Deere Classic     Ben Griffin  14/1        14.0\n",
       "2     2025  John Deere Classic  Denny McCarthy  25/1        25.0\n",
       "3     2025  John Deere Classic       Jason Day  25/1        25.0\n",
       "4     2025  John Deere Classic  Davis Thompson  30/1        30.0\n",
       "5     2025  John Deere Classic     J.T. Poston  30/1        30.0\n",
       "6     2025  John Deere Classic      Si Woo Kim  30/1        30.0\n",
       "7     2025  John Deere Classic      Sungjae Im  35/1        35.0\n",
       "8     2025  John Deere Classic      Jake Knapp  35/1        35.0\n",
       "9     2025  John Deere Classic      Chris Kirk  35/1        35.0\n",
       "10    2025  John Deere Classic        Kevin Yu  35/1        35.0"
      ]
     },
     "execution_count": 16,
     "metadata": {},
     "output_type": "execute_result"
    }
   ],
   "source": [
    "importlib.reload(utils.db_utils)\n",
    "from utils.db_utils import get_current_week_odds\n",
    "\n",
    "odds_current = get_current_week_odds(season=2025, tournament_name=new_tournament_name)\n",
    "odds_current.head(10)\n"
   ]
  },
  {
   "cell_type": "markdown",
   "id": "f58bb5d0",
   "metadata": {},
   "source": [
    "## Cut Percentage and FedEx Points"
   ]
  },
  {
   "cell_type": "code",
   "execution_count": 17,
   "id": "a927b0b2",
   "metadata": {},
   "outputs": [
    {
     "data": {
      "text/html": [
       "<div>\n",
       "<style scoped>\n",
       "    .dataframe tbody tr th:only-of-type {\n",
       "        vertical-align: middle;\n",
       "    }\n",
       "\n",
       "    .dataframe tbody tr th {\n",
       "        vertical-align: top;\n",
       "    }\n",
       "\n",
       "    .dataframe thead th {\n",
       "        text-align: right;\n",
       "    }\n",
       "</style>\n",
       "<table border=\"1\" class=\"dataframe\">\n",
       "  <thead>\n",
       "    <tr style=\"text-align: right;\">\n",
       "      <th></th>\n",
       "      <th>PLAYER</th>\n",
       "      <th>TOTAL_EVENTS_PLAYED</th>\n",
       "      <th>CUTS_MADE</th>\n",
       "      <th>FEDEX_CUP_POINTS</th>\n",
       "      <th>CUT_PERCENTAGE</th>\n",
       "      <th>form_density</th>\n",
       "      <th>CONSECUTIVE_CUTS</th>\n",
       "      <th>ENDING_DATE</th>\n",
       "      <th>TOURNAMENT</th>\n",
       "    </tr>\n",
       "  </thead>\n",
       "  <tbody>\n",
       "    <tr>\n",
       "      <th>0</th>\n",
       "      <td>A.J. Ewart</td>\n",
       "      <td>1</td>\n",
       "      <td>0</td>\n",
       "      <td>0.000</td>\n",
       "      <td>0.0</td>\n",
       "      <td>0.00</td>\n",
       "      <td>0</td>\n",
       "      <td>2025-07-06</td>\n",
       "      <td>John Deere Classic</td>\n",
       "    </tr>\n",
       "    <tr>\n",
       "      <th>1</th>\n",
       "      <td>Aaron Baddeley</td>\n",
       "      <td>16</td>\n",
       "      <td>6</td>\n",
       "      <td>49.088</td>\n",
       "      <td>37.5</td>\n",
       "      <td>3.07</td>\n",
       "      <td>0</td>\n",
       "      <td>2025-07-06</td>\n",
       "      <td>John Deere Classic</td>\n",
       "    </tr>\n",
       "    <tr>\n",
       "      <th>2</th>\n",
       "      <td>Aaron Rai</td>\n",
       "      <td>17</td>\n",
       "      <td>13</td>\n",
       "      <td>660.480</td>\n",
       "      <td>76.5</td>\n",
       "      <td>38.85</td>\n",
       "      <td>2</td>\n",
       "      <td>2025-07-06</td>\n",
       "      <td>John Deere Classic</td>\n",
       "    </tr>\n",
       "    <tr>\n",
       "      <th>3</th>\n",
       "      <td>Aaron Wise</td>\n",
       "      <td>2</td>\n",
       "      <td>1</td>\n",
       "      <td>6.333</td>\n",
       "      <td>50.0</td>\n",
       "      <td>3.17</td>\n",
       "      <td>1</td>\n",
       "      <td>2025-07-06</td>\n",
       "      <td>John Deere Classic</td>\n",
       "    </tr>\n",
       "    <tr>\n",
       "      <th>4</th>\n",
       "      <td>Adam Hadwin</td>\n",
       "      <td>19</td>\n",
       "      <td>13</td>\n",
       "      <td>214.432</td>\n",
       "      <td>68.4</td>\n",
       "      <td>11.29</td>\n",
       "      <td>4</td>\n",
       "      <td>2025-07-06</td>\n",
       "      <td>John Deere Classic</td>\n",
       "    </tr>\n",
       "    <tr>\n",
       "      <th>5</th>\n",
       "      <td>Adam Long</td>\n",
       "      <td>1</td>\n",
       "      <td>0</td>\n",
       "      <td>0.000</td>\n",
       "      <td>0.0</td>\n",
       "      <td>0.00</td>\n",
       "      <td>0</td>\n",
       "      <td>2025-07-06</td>\n",
       "      <td>John Deere Classic</td>\n",
       "    </tr>\n",
       "    <tr>\n",
       "      <th>6</th>\n",
       "      <td>Adam Schenk</td>\n",
       "      <td>20</td>\n",
       "      <td>9</td>\n",
       "      <td>270.904</td>\n",
       "      <td>45.0</td>\n",
       "      <td>13.55</td>\n",
       "      <td>0</td>\n",
       "      <td>2025-07-06</td>\n",
       "      <td>John Deere Classic</td>\n",
       "    </tr>\n",
       "    <tr>\n",
       "      <th>7</th>\n",
       "      <td>Adam Scott</td>\n",
       "      <td>13</td>\n",
       "      <td>11</td>\n",
       "      <td>392.203</td>\n",
       "      <td>84.6</td>\n",
       "      <td>30.17</td>\n",
       "      <td>6</td>\n",
       "      <td>2025-07-06</td>\n",
       "      <td>John Deere Classic</td>\n",
       "    </tr>\n",
       "    <tr>\n",
       "      <th>8</th>\n",
       "      <td>Adam Svensson</td>\n",
       "      <td>20</td>\n",
       "      <td>10</td>\n",
       "      <td>126.043</td>\n",
       "      <td>50.0</td>\n",
       "      <td>6.30</td>\n",
       "      <td>0</td>\n",
       "      <td>2025-07-06</td>\n",
       "      <td>John Deere Classic</td>\n",
       "    </tr>\n",
       "    <tr>\n",
       "      <th>9</th>\n",
       "      <td>Adrien Dumont de Chassart</td>\n",
       "      <td>7</td>\n",
       "      <td>3</td>\n",
       "      <td>200.500</td>\n",
       "      <td>42.9</td>\n",
       "      <td>28.64</td>\n",
       "      <td>0</td>\n",
       "      <td>2025-07-06</td>\n",
       "      <td>John Deere Classic</td>\n",
       "    </tr>\n",
       "  </tbody>\n",
       "</table>\n",
       "</div>"
      ],
      "text/plain": [
       "                      PLAYER  TOTAL_EVENTS_PLAYED  CUTS_MADE  \\\n",
       "0                 A.J. Ewart                    1          0   \n",
       "1             Aaron Baddeley                   16          6   \n",
       "2                  Aaron Rai                   17         13   \n",
       "3                 Aaron Wise                    2          1   \n",
       "4                Adam Hadwin                   19         13   \n",
       "5                  Adam Long                    1          0   \n",
       "6                Adam Schenk                   20          9   \n",
       "7                 Adam Scott                   13         11   \n",
       "8              Adam Svensson                   20         10   \n",
       "9  Adrien Dumont de Chassart                    7          3   \n",
       "\n",
       "   FEDEX_CUP_POINTS  CUT_PERCENTAGE  form_density  CONSECUTIVE_CUTS  \\\n",
       "0             0.000             0.0          0.00                 0   \n",
       "1            49.088            37.5          3.07                 0   \n",
       "2           660.480            76.5         38.85                 2   \n",
       "3             6.333            50.0          3.17                 1   \n",
       "4           214.432            68.4         11.29                 4   \n",
       "5             0.000             0.0          0.00                 0   \n",
       "6           270.904            45.0         13.55                 0   \n",
       "7           392.203            84.6         30.17                 6   \n",
       "8           126.043            50.0          6.30                 0   \n",
       "9           200.500            42.9         28.64                 0   \n",
       "\n",
       "  ENDING_DATE          TOURNAMENT  \n",
       "0  2025-07-06  John Deere Classic  \n",
       "1  2025-07-06  John Deere Classic  \n",
       "2  2025-07-06  John Deere Classic  \n",
       "3  2025-07-06  John Deere Classic  \n",
       "4  2025-07-06  John Deere Classic  \n",
       "5  2025-07-06  John Deere Classic  \n",
       "6  2025-07-06  John Deere Classic  \n",
       "7  2025-07-06  John Deere Classic  \n",
       "8  2025-07-06  John Deere Classic  \n",
       "9  2025-07-06  John Deere Classic  "
      ]
     },
     "execution_count": 17,
     "metadata": {},
     "output_type": "execute_result"
    }
   ],
   "source": [
    "importlib.reload(utils.db_utils)\n",
    "from utils.db_utils import get_cut_and_fedex_history\n",
    "\n",
    "cuts_rolling = get_cut_and_fedex_history(db_path, this_week_history, window_months=9)\n",
    "cuts_current = cuts_rolling[this_week_key].copy()\n",
    "cuts_current.head(10)"
   ]
  },
  {
   "cell_type": "markdown",
   "id": "abdf22cb",
   "metadata": {},
   "source": [
    "## Recent Form"
   ]
  },
  {
   "cell_type": "code",
   "execution_count": 18,
   "id": "58cfb255",
   "metadata": {},
   "outputs": [
    {
     "data": {
      "text/html": [
       "<div>\n",
       "<style scoped>\n",
       "    .dataframe tbody tr th:only-of-type {\n",
       "        vertical-align: middle;\n",
       "    }\n",
       "\n",
       "    .dataframe tbody tr th {\n",
       "        vertical-align: top;\n",
       "    }\n",
       "\n",
       "    .dataframe thead th {\n",
       "        text-align: right;\n",
       "    }\n",
       "</style>\n",
       "<table border=\"1\" class=\"dataframe\">\n",
       "  <thead>\n",
       "    <tr style=\"text-align: right;\">\n",
       "      <th></th>\n",
       "      <th>PLAYER</th>\n",
       "      <th>TOTAL_EVENTS_PLAYED</th>\n",
       "      <th>RECENT_FORM</th>\n",
       "      <th>adj_form</th>\n",
       "      <th>ENDING_DATE</th>\n",
       "      <th>TOURNAMENT</th>\n",
       "    </tr>\n",
       "  </thead>\n",
       "  <tbody>\n",
       "    <tr>\n",
       "      <th>0</th>\n",
       "      <td>Carlos Ortiz</td>\n",
       "      <td>1</td>\n",
       "      <td>4.0</td>\n",
       "      <td>5.77</td>\n",
       "      <td>2025-07-06</td>\n",
       "      <td>John Deere Classic</td>\n",
       "    </tr>\n",
       "    <tr>\n",
       "      <th>1</th>\n",
       "      <td>Scottie Scheffler</td>\n",
       "      <td>15</td>\n",
       "      <td>6.9</td>\n",
       "      <td>2.49</td>\n",
       "      <td>2025-07-06</td>\n",
       "      <td>John Deere Classic</td>\n",
       "    </tr>\n",
       "    <tr>\n",
       "      <th>2</th>\n",
       "      <td>Jon Rahm</td>\n",
       "      <td>3</td>\n",
       "      <td>9.7</td>\n",
       "      <td>7.00</td>\n",
       "      <td>2025-07-06</td>\n",
       "      <td>John Deere Classic</td>\n",
       "    </tr>\n",
       "    <tr>\n",
       "      <th>3</th>\n",
       "      <td>Bubba Watson</td>\n",
       "      <td>1</td>\n",
       "      <td>14.0</td>\n",
       "      <td>20.20</td>\n",
       "      <td>2025-07-06</td>\n",
       "      <td>John Deere Classic</td>\n",
       "    </tr>\n",
       "    <tr>\n",
       "      <th>4</th>\n",
       "      <td>Ian Gilligan</td>\n",
       "      <td>1</td>\n",
       "      <td>16.0</td>\n",
       "      <td>23.08</td>\n",
       "      <td>2025-07-06</td>\n",
       "      <td>John Deere Classic</td>\n",
       "    </tr>\n",
       "    <tr>\n",
       "      <th>5</th>\n",
       "      <td>Taisei Shimizu</td>\n",
       "      <td>1</td>\n",
       "      <td>16.0</td>\n",
       "      <td>23.08</td>\n",
       "      <td>2025-07-06</td>\n",
       "      <td>John Deere Classic</td>\n",
       "    </tr>\n",
       "    <tr>\n",
       "      <th>6</th>\n",
       "      <td>Stewart Cink</td>\n",
       "      <td>1</td>\n",
       "      <td>17.0</td>\n",
       "      <td>24.53</td>\n",
       "      <td>2025-07-06</td>\n",
       "      <td>John Deere Classic</td>\n",
       "    </tr>\n",
       "    <tr>\n",
       "      <th>7</th>\n",
       "      <td>Rory McIlroy</td>\n",
       "      <td>11</td>\n",
       "      <td>19.0</td>\n",
       "      <td>7.65</td>\n",
       "      <td>2025-07-06</td>\n",
       "      <td>John Deere Classic</td>\n",
       "    </tr>\n",
       "    <tr>\n",
       "      <th>8</th>\n",
       "      <td>Ren Yonezawa</td>\n",
       "      <td>1</td>\n",
       "      <td>22.0</td>\n",
       "      <td>31.74</td>\n",
       "      <td>2025-07-06</td>\n",
       "      <td>John Deere Classic</td>\n",
       "    </tr>\n",
       "    <tr>\n",
       "      <th>9</th>\n",
       "      <td>Yuto Katsuragawa</td>\n",
       "      <td>1</td>\n",
       "      <td>22.0</td>\n",
       "      <td>31.74</td>\n",
       "      <td>2025-07-06</td>\n",
       "      <td>John Deere Classic</td>\n",
       "    </tr>\n",
       "  </tbody>\n",
       "</table>\n",
       "</div>"
      ],
      "text/plain": [
       "              PLAYER  TOTAL_EVENTS_PLAYED  RECENT_FORM  adj_form ENDING_DATE  \\\n",
       "0       Carlos Ortiz                    1          4.0      5.77  2025-07-06   \n",
       "1  Scottie Scheffler                   15          6.9      2.49  2025-07-06   \n",
       "2           Jon Rahm                    3          9.7      7.00  2025-07-06   \n",
       "3       Bubba Watson                    1         14.0     20.20  2025-07-06   \n",
       "4       Ian Gilligan                    1         16.0     23.08  2025-07-06   \n",
       "5     Taisei Shimizu                    1         16.0     23.08  2025-07-06   \n",
       "6       Stewart Cink                    1         17.0     24.53  2025-07-06   \n",
       "7       Rory McIlroy                   11         19.0      7.65  2025-07-06   \n",
       "8       Ren Yonezawa                    1         22.0     31.74  2025-07-06   \n",
       "9   Yuto Katsuragawa                    1         22.0     31.74  2025-07-06   \n",
       "\n",
       "           TOURNAMENT  \n",
       "0  John Deere Classic  \n",
       "1  John Deere Classic  \n",
       "2  John Deere Classic  \n",
       "3  John Deere Classic  \n",
       "4  John Deere Classic  \n",
       "5  John Deere Classic  \n",
       "6  John Deere Classic  \n",
       "7  John Deere Classic  \n",
       "8  John Deere Classic  \n",
       "9  John Deere Classic  "
      ]
     },
     "execution_count": 18,
     "metadata": {},
     "output_type": "execute_result"
    }
   ],
   "source": [
    "importlib.reload(utils.db_utils)\n",
    "from utils.db_utils import get_recent_avg_finish\n",
    "\n",
    "recent_form = get_recent_avg_finish(db_path, this_week_history, window_months=9)\n",
    "recent_form_current = recent_form[this_week_key].copy()\n",
    "\n",
    "recent_form_current.head(10)"
   ]
  },
  {
   "cell_type": "markdown",
   "id": "6386214b",
   "metadata": {},
   "source": [
    "## Course History"
   ]
  },
  {
   "cell_type": "code",
   "execution_count": 19,
   "id": "c1c0ec95",
   "metadata": {},
   "outputs": [
    {
     "data": {
      "text/html": [
       "<div>\n",
       "<style scoped>\n",
       "    .dataframe tbody tr th:only-of-type {\n",
       "        vertical-align: middle;\n",
       "    }\n",
       "\n",
       "    .dataframe tbody tr th {\n",
       "        vertical-align: top;\n",
       "    }\n",
       "\n",
       "    .dataframe thead th {\n",
       "        text-align: right;\n",
       "    }\n",
       "</style>\n",
       "<table border=\"1\" class=\"dataframe\">\n",
       "  <thead>\n",
       "    <tr style=\"text-align: right;\">\n",
       "      <th></th>\n",
       "      <th>PLAYER</th>\n",
       "      <th>TOTAL_EVENTS_PLAYED</th>\n",
       "      <th>COURSE_HISTORY</th>\n",
       "      <th>adj_ch</th>\n",
       "      <th>ENDING_DATE</th>\n",
       "      <th>COURSE</th>\n",
       "      <th>TOURNAMENT</th>\n",
       "    </tr>\n",
       "  </thead>\n",
       "  <tbody>\n",
       "    <tr>\n",
       "      <th>0</th>\n",
       "      <td>Aaron Baddeley</td>\n",
       "      <td>4</td>\n",
       "      <td>65.5</td>\n",
       "      <td>40.70</td>\n",
       "      <td>2025-07-06</td>\n",
       "      <td>TPC Deere Run</td>\n",
       "      <td>John Deere Classic</td>\n",
       "    </tr>\n",
       "    <tr>\n",
       "      <th>1</th>\n",
       "      <td>Aaron Rai</td>\n",
       "      <td>1</td>\n",
       "      <td>7.0</td>\n",
       "      <td>10.10</td>\n",
       "      <td>2025-07-06</td>\n",
       "      <td>TPC Deere Run</td>\n",
       "      <td>John Deere Classic</td>\n",
       "    </tr>\n",
       "    <tr>\n",
       "      <th>2</th>\n",
       "      <td>Aaron Wise</td>\n",
       "      <td>2</td>\n",
       "      <td>79.5</td>\n",
       "      <td>72.36</td>\n",
       "      <td>2025-07-06</td>\n",
       "      <td>TPC Deere Run</td>\n",
       "      <td>John Deere Classic</td>\n",
       "    </tr>\n",
       "    <tr>\n",
       "      <th>3</th>\n",
       "      <td>Adam Hadwin</td>\n",
       "      <td>2</td>\n",
       "      <td>90.0</td>\n",
       "      <td>81.92</td>\n",
       "      <td>2025-07-06</td>\n",
       "      <td>TPC Deere Run</td>\n",
       "      <td>John Deere Classic</td>\n",
       "    </tr>\n",
       "    <tr>\n",
       "      <th>4</th>\n",
       "      <td>Adam Long</td>\n",
       "      <td>5</td>\n",
       "      <td>53.8</td>\n",
       "      <td>30.03</td>\n",
       "      <td>2025-07-06</td>\n",
       "      <td>TPC Deere Run</td>\n",
       "      <td>John Deere Classic</td>\n",
       "    </tr>\n",
       "    <tr>\n",
       "      <th>5</th>\n",
       "      <td>Adam Schenk</td>\n",
       "      <td>6</td>\n",
       "      <td>47.3</td>\n",
       "      <td>24.31</td>\n",
       "      <td>2025-07-06</td>\n",
       "      <td>TPC Deere Run</td>\n",
       "      <td>John Deere Classic</td>\n",
       "    </tr>\n",
       "    <tr>\n",
       "      <th>6</th>\n",
       "      <td>Adam Svensson</td>\n",
       "      <td>4</td>\n",
       "      <td>24.3</td>\n",
       "      <td>15.10</td>\n",
       "      <td>2025-07-06</td>\n",
       "      <td>TPC Deere Run</td>\n",
       "      <td>John Deere Classic</td>\n",
       "    </tr>\n",
       "    <tr>\n",
       "      <th>7</th>\n",
       "      <td>Adrien Dumont de Chassart</td>\n",
       "      <td>1</td>\n",
       "      <td>46.0</td>\n",
       "      <td>66.36</td>\n",
       "      <td>2025-07-06</td>\n",
       "      <td>TPC Deere Run</td>\n",
       "      <td>John Deere Classic</td>\n",
       "    </tr>\n",
       "    <tr>\n",
       "      <th>8</th>\n",
       "      <td>Akshay Bhatia</td>\n",
       "      <td>1</td>\n",
       "      <td>35.0</td>\n",
       "      <td>50.49</td>\n",
       "      <td>2025-07-06</td>\n",
       "      <td>TPC Deere Run</td>\n",
       "      <td>John Deere Classic</td>\n",
       "    </tr>\n",
       "    <tr>\n",
       "      <th>9</th>\n",
       "      <td>Alejandro Tosti</td>\n",
       "      <td>1</td>\n",
       "      <td>90.0</td>\n",
       "      <td>129.84</td>\n",
       "      <td>2025-07-06</td>\n",
       "      <td>TPC Deere Run</td>\n",
       "      <td>John Deere Classic</td>\n",
       "    </tr>\n",
       "  </tbody>\n",
       "</table>\n",
       "</div>"
      ],
      "text/plain": [
       "                      PLAYER  TOTAL_EVENTS_PLAYED  COURSE_HISTORY  adj_ch  \\\n",
       "0             Aaron Baddeley                    4            65.5   40.70   \n",
       "1                  Aaron Rai                    1             7.0   10.10   \n",
       "2                 Aaron Wise                    2            79.5   72.36   \n",
       "3                Adam Hadwin                    2            90.0   81.92   \n",
       "4                  Adam Long                    5            53.8   30.03   \n",
       "5                Adam Schenk                    6            47.3   24.31   \n",
       "6              Adam Svensson                    4            24.3   15.10   \n",
       "7  Adrien Dumont de Chassart                    1            46.0   66.36   \n",
       "8              Akshay Bhatia                    1            35.0   50.49   \n",
       "9            Alejandro Tosti                    1            90.0  129.84   \n",
       "\n",
       "  ENDING_DATE         COURSE          TOURNAMENT  \n",
       "0  2025-07-06  TPC Deere Run  John Deere Classic  \n",
       "1  2025-07-06  TPC Deere Run  John Deere Classic  \n",
       "2  2025-07-06  TPC Deere Run  John Deere Classic  \n",
       "3  2025-07-06  TPC Deere Run  John Deere Classic  \n",
       "4  2025-07-06  TPC Deere Run  John Deere Classic  \n",
       "5  2025-07-06  TPC Deere Run  John Deere Classic  \n",
       "6  2025-07-06  TPC Deere Run  John Deere Classic  \n",
       "7  2025-07-06  TPC Deere Run  John Deere Classic  \n",
       "8  2025-07-06  TPC Deere Run  John Deere Classic  \n",
       "9  2025-07-06  TPC Deere Run  John Deere Classic  "
      ]
     },
     "execution_count": 19,
     "metadata": {},
     "output_type": "execute_result"
    }
   ],
   "source": [
    "importlib.reload(utils.db_utils)\n",
    "from utils.db_utils import get_course_history\n",
    "\n",
    "course_hist = get_course_history(db_path, this_week_history, lookback_years=7)\n",
    "course_hist_current = course_hist[this_week_key].copy()\n",
    "\n",
    "course_hist_current.head(10)\n"
   ]
  },
  {
   "cell_type": "markdown",
   "id": "cff50c6a",
   "metadata": {},
   "source": [
    "## Merged Dataframe"
   ]
  },
  {
   "cell_type": "code",
   "execution_count": 20,
   "id": "4ea0e7da",
   "metadata": {},
   "outputs": [
    {
     "data": {
      "text/html": [
       "<div>\n",
       "<style scoped>\n",
       "    .dataframe tbody tr th:only-of-type {\n",
       "        vertical-align: middle;\n",
       "    }\n",
       "\n",
       "    .dataframe tbody tr th {\n",
       "        vertical-align: top;\n",
       "    }\n",
       "\n",
       "    .dataframe thead th {\n",
       "        text-align: right;\n",
       "    }\n",
       "</style>\n",
       "<table border=\"1\" class=\"dataframe\">\n",
       "  <thead>\n",
       "    <tr style=\"text-align: right;\">\n",
       "      <th></th>\n",
       "      <th>PLAYER</th>\n",
       "      <th>SGTTG_RANK</th>\n",
       "      <th>SGTTG</th>\n",
       "      <th>SGOTT_RANK</th>\n",
       "      <th>SGOTT</th>\n",
       "      <th>SGAPR_RANK</th>\n",
       "      <th>SGAPR</th>\n",
       "      <th>SGATG_RANK</th>\n",
       "      <th>SGATG</th>\n",
       "      <th>SGP_RANK</th>\n",
       "      <th>SGP</th>\n",
       "      <th>BIRDIES_RANK</th>\n",
       "      <th>BIRDIES</th>\n",
       "      <th>PAR_3_RANK</th>\n",
       "      <th>PAR_3</th>\n",
       "      <th>PAR_4_RANK</th>\n",
       "      <th>PAR_4</th>\n",
       "      <th>PAR_5_RANK</th>\n",
       "      <th>PAR_5</th>\n",
       "      <th>TOTAL_DRIVING_RANK</th>\n",
       "      <th>TOTAL_DRIVING</th>\n",
       "      <th>DRIVING_DISTANCE_RANK</th>\n",
       "      <th>DRIVING_DISTANCE</th>\n",
       "      <th>DRIVING_ACCURACY_RANK</th>\n",
       "      <th>DRIVING_ACCURACY</th>\n",
       "      <th>GIR_RANK</th>\n",
       "      <th>GIR</th>\n",
       "      <th>SCRAMBLING_RANK</th>\n",
       "      <th>SCRAMBLING</th>\n",
       "      <th>OWGR_RANK</th>\n",
       "      <th>OWGR</th>\n",
       "      <th>SEASON</th>\n",
       "      <th>VEGAS_ODDS</th>\n",
       "      <th>CUT_PERCENTAGE</th>\n",
       "      <th>FEDEX_CUP_POINTS</th>\n",
       "      <th>form_density</th>\n",
       "      <th>CONSECUTIVE_CUTS</th>\n",
       "      <th>RECENT_FORM</th>\n",
       "      <th>adj_form</th>\n",
       "      <th>COURSE_HISTORY</th>\n",
       "      <th>adj_ch</th>\n",
       "      <th>SALARY</th>\n",
       "    </tr>\n",
       "  </thead>\n",
       "  <tbody>\n",
       "    <tr>\n",
       "      <th>0</th>\n",
       "      <td>Aaron Wise</td>\n",
       "      <td>NaN</td>\n",
       "      <td>NaN</td>\n",
       "      <td>NaN</td>\n",
       "      <td>NaN</td>\n",
       "      <td>NaN</td>\n",
       "      <td>NaN</td>\n",
       "      <td>NaN</td>\n",
       "      <td>NaN</td>\n",
       "      <td>NaN</td>\n",
       "      <td>NaN</td>\n",
       "      <td>NaN</td>\n",
       "      <td>NaN</td>\n",
       "      <td>NaN</td>\n",
       "      <td>NaN</td>\n",
       "      <td>NaN</td>\n",
       "      <td>NaN</td>\n",
       "      <td>NaN</td>\n",
       "      <td>NaN</td>\n",
       "      <td>NaN</td>\n",
       "      <td>NaN</td>\n",
       "      <td>NaN</td>\n",
       "      <td>NaN</td>\n",
       "      <td>NaN</td>\n",
       "      <td>NaN</td>\n",
       "      <td>NaN</td>\n",
       "      <td>NaN</td>\n",
       "      <td>NaN</td>\n",
       "      <td>NaN</td>\n",
       "      <td>NaN</td>\n",
       "      <td>NaN</td>\n",
       "      <td>NaN</td>\n",
       "      <td>NaN</td>\n",
       "      <td>NaN</td>\n",
       "      <td>NaN</td>\n",
       "      <td>NaN</td>\n",
       "      <td>NaN</td>\n",
       "      <td>NaN</td>\n",
       "      <td>NaN</td>\n",
       "      <td>NaN</td>\n",
       "      <td>NaN</td>\n",
       "      <td>6200</td>\n",
       "    </tr>\n",
       "    <tr>\n",
       "      <th>1</th>\n",
       "      <td>Adam Hadwin</td>\n",
       "      <td>149.0</td>\n",
       "      <td>-0.578</td>\n",
       "      <td>138.0</td>\n",
       "      <td>-0.250</td>\n",
       "      <td>154.0</td>\n",
       "      <td>-0.387</td>\n",
       "      <td>73.0</td>\n",
       "      <td>0.059</td>\n",
       "      <td>109.0</td>\n",
       "      <td>-0.069</td>\n",
       "      <td>68.0</td>\n",
       "      <td>22.13%</td>\n",
       "      <td>39.0</td>\n",
       "      <td>3.03</td>\n",
       "      <td>147.0</td>\n",
       "      <td>4.06</td>\n",
       "      <td>128.0</td>\n",
       "      <td>4.65</td>\n",
       "      <td>96.0</td>\n",
       "      <td>175</td>\n",
       "      <td>104.0</td>\n",
       "      <td>298.7</td>\n",
       "      <td>71.0</td>\n",
       "      <td>60.80%</td>\n",
       "      <td>134.0</td>\n",
       "      <td>64.12%</td>\n",
       "      <td>160.0</td>\n",
       "      <td>54.07%</td>\n",
       "      <td>117.0</td>\n",
       "      <td>1.1817</td>\n",
       "      <td>2025.0</td>\n",
       "      <td>200.0</td>\n",
       "      <td>68.4</td>\n",
       "      <td>214.432</td>\n",
       "      <td>11.29</td>\n",
       "      <td>4.0</td>\n",
       "      <td>61.7</td>\n",
       "      <td>20.60</td>\n",
       "      <td>90.0</td>\n",
       "      <td>81.92</td>\n",
       "      <td>6800</td>\n",
       "    </tr>\n",
       "    <tr>\n",
       "      <th>2</th>\n",
       "      <td>Adam Schenk</td>\n",
       "      <td>114.0</td>\n",
       "      <td>-0.086</td>\n",
       "      <td>80.0</td>\n",
       "      <td>0.103</td>\n",
       "      <td>119.0</td>\n",
       "      <td>-0.108</td>\n",
       "      <td>118.0</td>\n",
       "      <td>-0.081</td>\n",
       "      <td>115.0</td>\n",
       "      <td>-0.097</td>\n",
       "      <td>127.0</td>\n",
       "      <td>20.69%</td>\n",
       "      <td>39.0</td>\n",
       "      <td>3.03</td>\n",
       "      <td>156.0</td>\n",
       "      <td>4.08</td>\n",
       "      <td>47.0</td>\n",
       "      <td>4.57</td>\n",
       "      <td>143.0</td>\n",
       "      <td>216</td>\n",
       "      <td>59.0</td>\n",
       "      <td>304.8</td>\n",
       "      <td>157.0</td>\n",
       "      <td>53.06%</td>\n",
       "      <td>158.0</td>\n",
       "      <td>61.82%</td>\n",
       "      <td>97.0</td>\n",
       "      <td>59.44%</td>\n",
       "      <td>158.0</td>\n",
       "      <td>.8602</td>\n",
       "      <td>2025.0</td>\n",
       "      <td>150.0</td>\n",
       "      <td>45.0</td>\n",
       "      <td>270.904</td>\n",
       "      <td>13.55</td>\n",
       "      <td>0.0</td>\n",
       "      <td>66.6</td>\n",
       "      <td>21.88</td>\n",
       "      <td>47.3</td>\n",
       "      <td>24.31</td>\n",
       "      <td>6800</td>\n",
       "    </tr>\n",
       "    <tr>\n",
       "      <th>3</th>\n",
       "      <td>Adam Svensson</td>\n",
       "      <td>74.0</td>\n",
       "      <td>0.235</td>\n",
       "      <td>118.0</td>\n",
       "      <td>-0.077</td>\n",
       "      <td>73.0</td>\n",
       "      <td>0.110</td>\n",
       "      <td>37.0</td>\n",
       "      <td>0.202</td>\n",
       "      <td>162.0</td>\n",
       "      <td>-0.598</td>\n",
       "      <td>155.0</td>\n",
       "      <td>19.61%</td>\n",
       "      <td>94.0</td>\n",
       "      <td>3.07</td>\n",
       "      <td>114.0</td>\n",
       "      <td>4.04</td>\n",
       "      <td>74.0</td>\n",
       "      <td>4.60</td>\n",
       "      <td>99.0</td>\n",
       "      <td>178</td>\n",
       "      <td>151.0</td>\n",
       "      <td>293.9</td>\n",
       "      <td>27.0</td>\n",
       "      <td>64.91%</td>\n",
       "      <td>49.0</td>\n",
       "      <td>67.32%</td>\n",
       "      <td>108.0</td>\n",
       "      <td>59.00%</td>\n",
       "      <td>208.0</td>\n",
       "      <td>.6781</td>\n",
       "      <td>2025.0</td>\n",
       "      <td>150.0</td>\n",
       "      <td>50.0</td>\n",
       "      <td>126.043</td>\n",
       "      <td>6.30</td>\n",
       "      <td>0.0</td>\n",
       "      <td>67.4</td>\n",
       "      <td>22.14</td>\n",
       "      <td>24.3</td>\n",
       "      <td>15.10</td>\n",
       "      <td>6700</td>\n",
       "    </tr>\n",
       "    <tr>\n",
       "      <th>4</th>\n",
       "      <td>Aldrich Potgieter</td>\n",
       "      <td>72.0</td>\n",
       "      <td>0.239</td>\n",
       "      <td>4.0</td>\n",
       "      <td>0.671</td>\n",
       "      <td>110.0</td>\n",
       "      <td>-0.062</td>\n",
       "      <td>160.0</td>\n",
       "      <td>-0.371</td>\n",
       "      <td>29.0</td>\n",
       "      <td>0.275</td>\n",
       "      <td>24.0</td>\n",
       "      <td>23.50%</td>\n",
       "      <td>80.0</td>\n",
       "      <td>3.06</td>\n",
       "      <td>75.0</td>\n",
       "      <td>4.02</td>\n",
       "      <td>132.0</td>\n",
       "      <td>4.66</td>\n",
       "      <td>39.0</td>\n",
       "      <td>143</td>\n",
       "      <td>1.0</td>\n",
       "      <td>327.4</td>\n",
       "      <td>142.0</td>\n",
       "      <td>54.83%</td>\n",
       "      <td>93.0</td>\n",
       "      <td>65.53%</td>\n",
       "      <td>163.0</td>\n",
       "      <td>53.31%</td>\n",
       "      <td>49.0</td>\n",
       "      <td>2.2116</td>\n",
       "      <td>2025.0</td>\n",
       "      <td>45.0</td>\n",
       "      <td>41.7</td>\n",
       "      <td>941.000</td>\n",
       "      <td>78.42</td>\n",
       "      <td>2.0</td>\n",
       "      <td>58.4</td>\n",
       "      <td>22.77</td>\n",
       "      <td>NaN</td>\n",
       "      <td>NaN</td>\n",
       "      <td>7900</td>\n",
       "    </tr>\n",
       "  </tbody>\n",
       "</table>\n",
       "</div>"
      ],
      "text/plain": [
       "              PLAYER  SGTTG_RANK   SGTTG  SGOTT_RANK   SGOTT  SGAPR_RANK  \\\n",
       "0         Aaron Wise         NaN     NaN         NaN     NaN         NaN   \n",
       "1        Adam Hadwin       149.0  -0.578       138.0  -0.250       154.0   \n",
       "2        Adam Schenk       114.0  -0.086        80.0   0.103       119.0   \n",
       "3      Adam Svensson        74.0   0.235       118.0  -0.077        73.0   \n",
       "4  Aldrich Potgieter        72.0   0.239         4.0   0.671       110.0   \n",
       "\n",
       "    SGAPR  SGATG_RANK   SGATG  SGP_RANK     SGP  BIRDIES_RANK BIRDIES  \\\n",
       "0     NaN         NaN     NaN       NaN     NaN           NaN     NaN   \n",
       "1  -0.387        73.0   0.059     109.0  -0.069          68.0  22.13%   \n",
       "2  -0.108       118.0  -0.081     115.0  -0.097         127.0  20.69%   \n",
       "3   0.110        37.0   0.202     162.0  -0.598         155.0  19.61%   \n",
       "4  -0.062       160.0  -0.371      29.0   0.275          24.0  23.50%   \n",
       "\n",
       "   PAR_3_RANK PAR_3  PAR_4_RANK PAR_4  PAR_5_RANK PAR_5  TOTAL_DRIVING_RANK  \\\n",
       "0         NaN   NaN         NaN   NaN         NaN   NaN                 NaN   \n",
       "1        39.0  3.03       147.0  4.06       128.0  4.65                96.0   \n",
       "2        39.0  3.03       156.0  4.08        47.0  4.57               143.0   \n",
       "3        94.0  3.07       114.0  4.04        74.0  4.60                99.0   \n",
       "4        80.0  3.06        75.0  4.02       132.0  4.66                39.0   \n",
       "\n",
       "  TOTAL_DRIVING  DRIVING_DISTANCE_RANK DRIVING_DISTANCE  \\\n",
       "0           NaN                    NaN              NaN   \n",
       "1           175                  104.0            298.7   \n",
       "2           216                   59.0            304.8   \n",
       "3           178                  151.0            293.9   \n",
       "4           143                    1.0            327.4   \n",
       "\n",
       "   DRIVING_ACCURACY_RANK DRIVING_ACCURACY  GIR_RANK     GIR  SCRAMBLING_RANK  \\\n",
       "0                    NaN              NaN       NaN     NaN              NaN   \n",
       "1                   71.0           60.80%     134.0  64.12%            160.0   \n",
       "2                  157.0           53.06%     158.0  61.82%             97.0   \n",
       "3                   27.0           64.91%      49.0  67.32%            108.0   \n",
       "4                  142.0           54.83%      93.0  65.53%            163.0   \n",
       "\n",
       "  SCRAMBLING  OWGR_RANK    OWGR  SEASON  VEGAS_ODDS  CUT_PERCENTAGE  \\\n",
       "0        NaN        NaN     NaN     NaN         NaN             NaN   \n",
       "1     54.07%      117.0  1.1817  2025.0       200.0            68.4   \n",
       "2     59.44%      158.0   .8602  2025.0       150.0            45.0   \n",
       "3     59.00%      208.0   .6781  2025.0       150.0            50.0   \n",
       "4     53.31%       49.0  2.2116  2025.0        45.0            41.7   \n",
       "\n",
       "   FEDEX_CUP_POINTS  form_density  CONSECUTIVE_CUTS  RECENT_FORM  adj_form  \\\n",
       "0               NaN           NaN               NaN          NaN       NaN   \n",
       "1           214.432         11.29               4.0         61.7     20.60   \n",
       "2           270.904         13.55               0.0         66.6     21.88   \n",
       "3           126.043          6.30               0.0         67.4     22.14   \n",
       "4           941.000         78.42               2.0         58.4     22.77   \n",
       "\n",
       "   COURSE_HISTORY  adj_ch  SALARY  \n",
       "0             NaN     NaN    6200  \n",
       "1            90.0   81.92    6800  \n",
       "2            47.3   24.31    6800  \n",
       "3            24.3   15.10    6700  \n",
       "4             NaN     NaN    7900  "
      ]
     },
     "execution_count": 20,
     "metadata": {},
     "output_type": "execute_result"
    }
   ],
   "source": [
    "importlib.reload(utils.db_utils)\n",
    "from utils.db_utils import build_test_rows\n",
    "\n",
    "this_week = build_test_rows(\n",
    "    db_path=db_path,\n",
    "    stats_df=stats_df,\n",
    "    odds_df=odds_current,\n",
    "    cuts_df=cuts_current,\n",
    "    recent_form_df=recent_form_current,\n",
    "    course_hist_df=course_hist_current,\n",
    "    dk_df=dk,\n",
    "    season=tournament_config[\"new\"][\"season\"]\n",
    ")\n",
    "\n",
    "this_week.head()"
   ]
  },
  {
   "cell_type": "markdown",
   "id": "e30b6643",
   "metadata": {},
   "source": [
    "### Dataframe Normalization\n",
    "\n",
    "Run the same normalization techniques that I ran on the historical data:\n",
    "- Any NaN Odds go to 1000/1 and clip all values at 1000/1\n",
    "- OWGR NaN values go to 1000\n",
    "- Recent form NaN values act like a MC at 90\n",
    "- Average everything else."
   ]
  },
  {
   "cell_type": "code",
   "execution_count": 21,
   "id": "cfea9168",
   "metadata": {},
   "outputs": [],
   "source": [
    "# === 1. Clean percentage stats stored as strings like '62.5%' ===\n",
    "percent_stats = [\"SCRAMBLING\", \"DRIVING_ACCURACY\", \"BIRDIES\", \"GIR\"]\n",
    "\n",
    "for col in percent_stats:\n",
    "    if col in this_week.columns:\n",
    "        this_week[col] = (\n",
    "            this_week[col]\n",
    "            .astype(str)\n",
    "            .str.replace('%', '', regex=False)\n",
    "            .replace(['None', 'nan', 'NaN', '--', 'DNP', ''], np.nan)\n",
    "        )\n",
    "        this_week[col] = pd.to_numeric(this_week[col], errors=\"coerce\")\n",
    "\n",
    "# === 2. Normalize & assign fallback values for key fields ===\n",
    "this_week[\"VEGAS_ODDS\"] = pd.to_numeric(this_week[\"VEGAS_ODDS\"], errors=\"coerce\").fillna(1000).clip(upper=1000)\n",
    "\n",
    "if \"OWGR\" in this_week.columns:\n",
    "    this_week[\"OWGR\"] = pd.to_numeric(this_week[\"OWGR\"], errors=\"coerce\")\n",
    "    max_owgr = this_week[\"OWGR\"].dropna().max()\n",
    "    this_week[\"OWGR\"] = this_week[\"OWGR\"].fillna(max_owgr).clip(upper=1000)\n",
    "\n",
    "if \"OWGR_RANK\" in this_week.columns:\n",
    "    this_week[\"OWGR_RANK\"] = pd.to_numeric(this_week[\"OWGR_RANK\"], errors=\"coerce\").fillna(1000).clip(upper=1000)\n",
    "\n",
    "this_week[\"RECENT_FORM\"] = pd.to_numeric(this_week[\"RECENT_FORM\"], errors=\"coerce\").fillna(90)\n",
    "this_week[\"FEDEX_CUP_POINTS\"] = pd.to_numeric(this_week[\"FEDEX_CUP_POINTS\"], errors=\"coerce\").fillna(0)\n",
    "\n",
    "if \"COURSE_HISTORY\" in this_week.columns:\n",
    "    this_week[\"COURSE_HISTORY\"] = pd.to_numeric(this_week[\"COURSE_HISTORY\"], errors=\"coerce\")\n",
    "    ch_mean = this_week[\"COURSE_HISTORY\"].mean()\n",
    "    this_week[\"COURSE_HISTORY\"] = this_week[\"COURSE_HISTORY\"].fillna(ch_mean)\n",
    "\n",
    "# === 3. Fill all remaining NaNs in numeric columns ===\n",
    "# Recast everything that might look numeric to be sure\n",
    "for col in this_week.columns:\n",
    "    if col not in [\"PLAYER\", \"SALARY\", \"TOURNAMENT\", \"SEASON\"]:\n",
    "        try:\n",
    "            this_week[col] = pd.to_numeric(this_week[col], errors=\"coerce\")\n",
    "        except Exception:\n",
    "            continue\n",
    "\n",
    "numeric_cols = this_week.select_dtypes(include=[\"number\"]).columns.tolist()\n",
    "\n",
    "for col in numeric_cols:\n",
    "    if this_week[col].isna().any():\n",
    "        col_mean = this_week[col].mean()\n",
    "        this_week[col] = this_week[col].fillna(col_mean if not np.isnan(col_mean) else 0)\n"
   ]
  },
  {
   "cell_type": "code",
   "execution_count": 22,
   "id": "4b122fc3",
   "metadata": {},
   "outputs": [],
   "source": [
    "# === Final Check: No NaNs Should Remain ===\n",
    "assert this_week.isna().sum().sum() == 0, \"🚨 Still missing values in prediction set!\""
   ]
  },
  {
   "cell_type": "code",
   "execution_count": 23,
   "id": "b75f2cff",
   "metadata": {},
   "outputs": [
    {
     "name": "stdout",
     "output_type": "stream",
     "text": [
      "🧹 Columns still containing NaN values:\n"
     ]
    },
    {
     "data": {
      "text/plain": [
       "Series([], dtype: int64)"
      ]
     },
     "metadata": {},
     "output_type": "display_data"
    }
   ],
   "source": [
    "# === Check for Remaining Missing Values ===\n",
    "missing_summary = this_week.isna().sum()\n",
    "missing_summary = missing_summary[missing_summary > 0].sort_values(ascending=False)\n",
    "\n",
    "print(\"🧹 Columns still containing NaN values:\")\n",
    "display(missing_summary)"
   ]
  },
  {
   "cell_type": "code",
   "execution_count": 24,
   "id": "cc925bbf",
   "metadata": {},
   "outputs": [
    {
     "data": {
      "text/html": [
       "<div>\n",
       "<style scoped>\n",
       "    .dataframe tbody tr th:only-of-type {\n",
       "        vertical-align: middle;\n",
       "    }\n",
       "\n",
       "    .dataframe tbody tr th {\n",
       "        vertical-align: top;\n",
       "    }\n",
       "\n",
       "    .dataframe thead th {\n",
       "        text-align: right;\n",
       "    }\n",
       "</style>\n",
       "<table border=\"1\" class=\"dataframe\">\n",
       "  <thead>\n",
       "    <tr style=\"text-align: right;\">\n",
       "      <th></th>\n",
       "      <th>PLAYER</th>\n",
       "      <th>SGTTG_RANK</th>\n",
       "      <th>SGTTG</th>\n",
       "      <th>SGOTT_RANK</th>\n",
       "      <th>SGOTT</th>\n",
       "      <th>SGAPR_RANK</th>\n",
       "      <th>SGAPR</th>\n",
       "      <th>SGATG_RANK</th>\n",
       "      <th>SGATG</th>\n",
       "      <th>SGP_RANK</th>\n",
       "      <th>SGP</th>\n",
       "      <th>BIRDIES_RANK</th>\n",
       "      <th>BIRDIES</th>\n",
       "      <th>PAR_3_RANK</th>\n",
       "      <th>PAR_3</th>\n",
       "      <th>PAR_4_RANK</th>\n",
       "      <th>PAR_4</th>\n",
       "      <th>PAR_5_RANK</th>\n",
       "      <th>PAR_5</th>\n",
       "      <th>TOTAL_DRIVING_RANK</th>\n",
       "      <th>TOTAL_DRIVING</th>\n",
       "      <th>DRIVING_DISTANCE_RANK</th>\n",
       "      <th>DRIVING_DISTANCE</th>\n",
       "      <th>DRIVING_ACCURACY_RANK</th>\n",
       "      <th>DRIVING_ACCURACY</th>\n",
       "      <th>GIR_RANK</th>\n",
       "      <th>GIR</th>\n",
       "      <th>SCRAMBLING_RANK</th>\n",
       "      <th>SCRAMBLING</th>\n",
       "      <th>OWGR_RANK</th>\n",
       "      <th>OWGR</th>\n",
       "      <th>SEASON</th>\n",
       "      <th>VEGAS_ODDS</th>\n",
       "      <th>CUT_PERCENTAGE</th>\n",
       "      <th>FEDEX_CUP_POINTS</th>\n",
       "      <th>form_density</th>\n",
       "      <th>CONSECUTIVE_CUTS</th>\n",
       "      <th>RECENT_FORM</th>\n",
       "      <th>adj_form</th>\n",
       "      <th>COURSE_HISTORY</th>\n",
       "      <th>adj_ch</th>\n",
       "      <th>SALARY</th>\n",
       "    </tr>\n",
       "  </thead>\n",
       "  <tbody>\n",
       "    <tr>\n",
       "      <th>0</th>\n",
       "      <td>Aaron Wise</td>\n",
       "      <td>98.906542</td>\n",
       "      <td>-0.03272</td>\n",
       "      <td>91.654206</td>\n",
       "      <td>-0.007916</td>\n",
       "      <td>96.607477</td>\n",
       "      <td>-0.023374</td>\n",
       "      <td>89.579439</td>\n",
       "      <td>-0.001411</td>\n",
       "      <td>93.448598</td>\n",
       "      <td>-0.034738</td>\n",
       "      <td>97.719626</td>\n",
       "      <td>21.325794</td>\n",
       "      <td>80.672897</td>\n",
       "      <td>3.061963</td>\n",
       "      <td>84.046729</td>\n",
       "      <td>4.026916</td>\n",
       "      <td>83.859813</td>\n",
       "      <td>4.608598</td>\n",
       "      <td>86.364486</td>\n",
       "      <td>172.018692</td>\n",
       "      <td>88.186916</td>\n",
       "      <td>301.195327</td>\n",
       "      <td>83.831776</td>\n",
       "      <td>59.979439</td>\n",
       "      <td>90.495327</td>\n",
       "      <td>65.687664</td>\n",
       "      <td>77.401869</td>\n",
       "      <td>60.489346</td>\n",
       "      <td>1000.0</td>\n",
       "      <td>4.0421</td>\n",
       "      <td>2025.0</td>\n",
       "      <td>1000.0</td>\n",
       "      <td>52.478358</td>\n",
       "      <td>0.000</td>\n",
       "      <td>18.485821</td>\n",
       "      <td>1.380597</td>\n",
       "      <td>90.0</td>\n",
       "      <td>24.382313</td>\n",
       "      <td>54.928866</td>\n",
       "      <td>49.376392</td>\n",
       "      <td>6200</td>\n",
       "    </tr>\n",
       "    <tr>\n",
       "      <th>1</th>\n",
       "      <td>Adam Hadwin</td>\n",
       "      <td>149.000000</td>\n",
       "      <td>-0.57800</td>\n",
       "      <td>138.000000</td>\n",
       "      <td>-0.250000</td>\n",
       "      <td>154.000000</td>\n",
       "      <td>-0.387000</td>\n",
       "      <td>73.000000</td>\n",
       "      <td>0.059000</td>\n",
       "      <td>109.000000</td>\n",
       "      <td>-0.069000</td>\n",
       "      <td>68.000000</td>\n",
       "      <td>22.130000</td>\n",
       "      <td>39.000000</td>\n",
       "      <td>3.030000</td>\n",
       "      <td>147.000000</td>\n",
       "      <td>4.060000</td>\n",
       "      <td>128.000000</td>\n",
       "      <td>4.650000</td>\n",
       "      <td>96.000000</td>\n",
       "      <td>175.000000</td>\n",
       "      <td>104.000000</td>\n",
       "      <td>298.700000</td>\n",
       "      <td>71.000000</td>\n",
       "      <td>60.800000</td>\n",
       "      <td>134.000000</td>\n",
       "      <td>64.120000</td>\n",
       "      <td>160.000000</td>\n",
       "      <td>54.070000</td>\n",
       "      <td>117.0</td>\n",
       "      <td>1.1817</td>\n",
       "      <td>2025.0</td>\n",
       "      <td>200.0</td>\n",
       "      <td>68.400000</td>\n",
       "      <td>214.432</td>\n",
       "      <td>11.290000</td>\n",
       "      <td>4.000000</td>\n",
       "      <td>61.7</td>\n",
       "      <td>20.600000</td>\n",
       "      <td>90.000000</td>\n",
       "      <td>81.920000</td>\n",
       "      <td>6800</td>\n",
       "    </tr>\n",
       "    <tr>\n",
       "      <th>2</th>\n",
       "      <td>Adam Schenk</td>\n",
       "      <td>114.000000</td>\n",
       "      <td>-0.08600</td>\n",
       "      <td>80.000000</td>\n",
       "      <td>0.103000</td>\n",
       "      <td>119.000000</td>\n",
       "      <td>-0.108000</td>\n",
       "      <td>118.000000</td>\n",
       "      <td>-0.081000</td>\n",
       "      <td>115.000000</td>\n",
       "      <td>-0.097000</td>\n",
       "      <td>127.000000</td>\n",
       "      <td>20.690000</td>\n",
       "      <td>39.000000</td>\n",
       "      <td>3.030000</td>\n",
       "      <td>156.000000</td>\n",
       "      <td>4.080000</td>\n",
       "      <td>47.000000</td>\n",
       "      <td>4.570000</td>\n",
       "      <td>143.000000</td>\n",
       "      <td>216.000000</td>\n",
       "      <td>59.000000</td>\n",
       "      <td>304.800000</td>\n",
       "      <td>157.000000</td>\n",
       "      <td>53.060000</td>\n",
       "      <td>158.000000</td>\n",
       "      <td>61.820000</td>\n",
       "      <td>97.000000</td>\n",
       "      <td>59.440000</td>\n",
       "      <td>158.0</td>\n",
       "      <td>0.8602</td>\n",
       "      <td>2025.0</td>\n",
       "      <td>150.0</td>\n",
       "      <td>45.000000</td>\n",
       "      <td>270.904</td>\n",
       "      <td>13.550000</td>\n",
       "      <td>0.000000</td>\n",
       "      <td>66.6</td>\n",
       "      <td>21.880000</td>\n",
       "      <td>47.300000</td>\n",
       "      <td>24.310000</td>\n",
       "      <td>6800</td>\n",
       "    </tr>\n",
       "    <tr>\n",
       "      <th>3</th>\n",
       "      <td>Adam Svensson</td>\n",
       "      <td>74.000000</td>\n",
       "      <td>0.23500</td>\n",
       "      <td>118.000000</td>\n",
       "      <td>-0.077000</td>\n",
       "      <td>73.000000</td>\n",
       "      <td>0.110000</td>\n",
       "      <td>37.000000</td>\n",
       "      <td>0.202000</td>\n",
       "      <td>162.000000</td>\n",
       "      <td>-0.598000</td>\n",
       "      <td>155.000000</td>\n",
       "      <td>19.610000</td>\n",
       "      <td>94.000000</td>\n",
       "      <td>3.070000</td>\n",
       "      <td>114.000000</td>\n",
       "      <td>4.040000</td>\n",
       "      <td>74.000000</td>\n",
       "      <td>4.600000</td>\n",
       "      <td>99.000000</td>\n",
       "      <td>178.000000</td>\n",
       "      <td>151.000000</td>\n",
       "      <td>293.900000</td>\n",
       "      <td>27.000000</td>\n",
       "      <td>64.910000</td>\n",
       "      <td>49.000000</td>\n",
       "      <td>67.320000</td>\n",
       "      <td>108.000000</td>\n",
       "      <td>59.000000</td>\n",
       "      <td>208.0</td>\n",
       "      <td>0.6781</td>\n",
       "      <td>2025.0</td>\n",
       "      <td>150.0</td>\n",
       "      <td>50.000000</td>\n",
       "      <td>126.043</td>\n",
       "      <td>6.300000</td>\n",
       "      <td>0.000000</td>\n",
       "      <td>67.4</td>\n",
       "      <td>22.140000</td>\n",
       "      <td>24.300000</td>\n",
       "      <td>15.100000</td>\n",
       "      <td>6700</td>\n",
       "    </tr>\n",
       "    <tr>\n",
       "      <th>4</th>\n",
       "      <td>Aldrich Potgieter</td>\n",
       "      <td>72.000000</td>\n",
       "      <td>0.23900</td>\n",
       "      <td>4.000000</td>\n",
       "      <td>0.671000</td>\n",
       "      <td>110.000000</td>\n",
       "      <td>-0.062000</td>\n",
       "      <td>160.000000</td>\n",
       "      <td>-0.371000</td>\n",
       "      <td>29.000000</td>\n",
       "      <td>0.275000</td>\n",
       "      <td>24.000000</td>\n",
       "      <td>23.500000</td>\n",
       "      <td>80.000000</td>\n",
       "      <td>3.060000</td>\n",
       "      <td>75.000000</td>\n",
       "      <td>4.020000</td>\n",
       "      <td>132.000000</td>\n",
       "      <td>4.660000</td>\n",
       "      <td>39.000000</td>\n",
       "      <td>143.000000</td>\n",
       "      <td>1.000000</td>\n",
       "      <td>327.400000</td>\n",
       "      <td>142.000000</td>\n",
       "      <td>54.830000</td>\n",
       "      <td>93.000000</td>\n",
       "      <td>65.530000</td>\n",
       "      <td>163.000000</td>\n",
       "      <td>53.310000</td>\n",
       "      <td>49.0</td>\n",
       "      <td>2.2116</td>\n",
       "      <td>2025.0</td>\n",
       "      <td>45.0</td>\n",
       "      <td>41.700000</td>\n",
       "      <td>941.000</td>\n",
       "      <td>78.420000</td>\n",
       "      <td>2.000000</td>\n",
       "      <td>58.4</td>\n",
       "      <td>22.770000</td>\n",
       "      <td>54.928866</td>\n",
       "      <td>49.376392</td>\n",
       "      <td>7900</td>\n",
       "    </tr>\n",
       "    <tr>\n",
       "      <th>5</th>\n",
       "      <td>Alejandro Tosti</td>\n",
       "      <td>50.000000</td>\n",
       "      <td>0.47100</td>\n",
       "      <td>30.000000</td>\n",
       "      <td>0.345000</td>\n",
       "      <td>125.000000</td>\n",
       "      <td>-0.175000</td>\n",
       "      <td>18.000000</td>\n",
       "      <td>0.301000</td>\n",
       "      <td>166.000000</td>\n",
       "      <td>-0.688000</td>\n",
       "      <td>60.000000</td>\n",
       "      <td>22.220000</td>\n",
       "      <td>106.000000</td>\n",
       "      <td>3.080000</td>\n",
       "      <td>54.000000</td>\n",
       "      <td>4.010000</td>\n",
       "      <td>63.000000</td>\n",
       "      <td>4.590000</td>\n",
       "      <td>29.000000</td>\n",
       "      <td>131.000000</td>\n",
       "      <td>13.000000</td>\n",
       "      <td>313.300000</td>\n",
       "      <td>118.000000</td>\n",
       "      <td>56.950000</td>\n",
       "      <td>123.000000</td>\n",
       "      <td>64.700000</td>\n",
       "      <td>77.000000</td>\n",
       "      <td>60.660000</td>\n",
       "      <td>149.0</td>\n",
       "      <td>0.9114</td>\n",
       "      <td>2025.0</td>\n",
       "      <td>150.0</td>\n",
       "      <td>42.100000</td>\n",
       "      <td>316.783</td>\n",
       "      <td>16.670000</td>\n",
       "      <td>0.000000</td>\n",
       "      <td>66.4</td>\n",
       "      <td>22.160000</td>\n",
       "      <td>90.000000</td>\n",
       "      <td>129.840000</td>\n",
       "      <td>6800</td>\n",
       "    </tr>\n",
       "    <tr>\n",
       "      <th>6</th>\n",
       "      <td>Alex Smalley</td>\n",
       "      <td>9.000000</td>\n",
       "      <td>0.98500</td>\n",
       "      <td>19.000000</td>\n",
       "      <td>0.454000</td>\n",
       "      <td>60.000000</td>\n",
       "      <td>0.201000</td>\n",
       "      <td>16.000000</td>\n",
       "      <td>0.329000</td>\n",
       "      <td>49.000000</td>\n",
       "      <td>0.197000</td>\n",
       "      <td>20.000000</td>\n",
       "      <td>23.710000</td>\n",
       "      <td>80.000000</td>\n",
       "      <td>3.060000</td>\n",
       "      <td>2.000000</td>\n",
       "      <td>3.940000</td>\n",
       "      <td>63.000000</td>\n",
       "      <td>4.590000</td>\n",
       "      <td>3.000000</td>\n",
       "      <td>76.000000</td>\n",
       "      <td>47.000000</td>\n",
       "      <td>306.000000</td>\n",
       "      <td>29.000000</td>\n",
       "      <td>64.820000</td>\n",
       "      <td>32.000000</td>\n",
       "      <td>68.750000</td>\n",
       "      <td>20.000000</td>\n",
       "      <td>64.130000</td>\n",
       "      <td>119.0</td>\n",
       "      <td>1.1687</td>\n",
       "      <td>2025.0</td>\n",
       "      <td>45.0</td>\n",
       "      <td>66.700000</td>\n",
       "      <td>639.388</td>\n",
       "      <td>30.450000</td>\n",
       "      <td>0.000000</td>\n",
       "      <td>45.9</td>\n",
       "      <td>14.850000</td>\n",
       "      <td>38.800000</td>\n",
       "      <td>24.110000</td>\n",
       "      <td>7900</td>\n",
       "    </tr>\n",
       "    <tr>\n",
       "      <th>7</th>\n",
       "      <td>Anders Albertson</td>\n",
       "      <td>98.906542</td>\n",
       "      <td>-0.03272</td>\n",
       "      <td>91.654206</td>\n",
       "      <td>-0.007916</td>\n",
       "      <td>96.607477</td>\n",
       "      <td>-0.023374</td>\n",
       "      <td>89.579439</td>\n",
       "      <td>-0.001411</td>\n",
       "      <td>93.448598</td>\n",
       "      <td>-0.034738</td>\n",
       "      <td>97.719626</td>\n",
       "      <td>21.325794</td>\n",
       "      <td>80.672897</td>\n",
       "      <td>3.061963</td>\n",
       "      <td>84.046729</td>\n",
       "      <td>4.026916</td>\n",
       "      <td>83.859813</td>\n",
       "      <td>4.608598</td>\n",
       "      <td>86.364486</td>\n",
       "      <td>172.018692</td>\n",
       "      <td>88.186916</td>\n",
       "      <td>301.195327</td>\n",
       "      <td>83.831776</td>\n",
       "      <td>59.979439</td>\n",
       "      <td>90.495327</td>\n",
       "      <td>65.687664</td>\n",
       "      <td>77.401869</td>\n",
       "      <td>60.489346</td>\n",
       "      <td>1000.0</td>\n",
       "      <td>4.0421</td>\n",
       "      <td>2025.0</td>\n",
       "      <td>1000.0</td>\n",
       "      <td>52.478358</td>\n",
       "      <td>0.000</td>\n",
       "      <td>18.485821</td>\n",
       "      <td>1.380597</td>\n",
       "      <td>90.0</td>\n",
       "      <td>24.382313</td>\n",
       "      <td>54.928866</td>\n",
       "      <td>49.376392</td>\n",
       "      <td>6000</td>\n",
       "    </tr>\n",
       "    <tr>\n",
       "      <th>8</th>\n",
       "      <td>Andrew Putnam</td>\n",
       "      <td>77.000000</td>\n",
       "      <td>0.22400</td>\n",
       "      <td>164.000000</td>\n",
       "      <td>-0.650000</td>\n",
       "      <td>36.000000</td>\n",
       "      <td>0.377000</td>\n",
       "      <td>6.000000</td>\n",
       "      <td>0.497000</td>\n",
       "      <td>13.000000</td>\n",
       "      <td>0.517000</td>\n",
       "      <td>95.000000</td>\n",
       "      <td>21.380000</td>\n",
       "      <td>13.000000</td>\n",
       "      <td>3.000000</td>\n",
       "      <td>8.000000</td>\n",
       "      <td>3.970000</td>\n",
       "      <td>38.000000</td>\n",
       "      <td>4.560000</td>\n",
       "      <td>96.000000</td>\n",
       "      <td>175.000000</td>\n",
       "      <td>169.000000</td>\n",
       "      <td>282.200000</td>\n",
       "      <td>6.000000</td>\n",
       "      <td>70.110000</td>\n",
       "      <td>11.000000</td>\n",
       "      <td>70.230000</td>\n",
       "      <td>2.000000</td>\n",
       "      <td>68.660000</td>\n",
       "      <td>124.0</td>\n",
       "      <td>1.1315</td>\n",
       "      <td>2025.0</td>\n",
       "      <td>65.0</td>\n",
       "      <td>64.700000</td>\n",
       "      <td>441.783</td>\n",
       "      <td>25.990000</td>\n",
       "      <td>4.000000</td>\n",
       "      <td>47.2</td>\n",
       "      <td>16.330000</td>\n",
       "      <td>75.000000</td>\n",
       "      <td>46.600000</td>\n",
       "      <td>7600</td>\n",
       "    </tr>\n",
       "    <tr>\n",
       "      <th>9</th>\n",
       "      <td>Austin Cook</td>\n",
       "      <td>98.906542</td>\n",
       "      <td>-0.03272</td>\n",
       "      <td>91.654206</td>\n",
       "      <td>-0.007916</td>\n",
       "      <td>96.607477</td>\n",
       "      <td>-0.023374</td>\n",
       "      <td>89.579439</td>\n",
       "      <td>-0.001411</td>\n",
       "      <td>93.448598</td>\n",
       "      <td>-0.034738</td>\n",
       "      <td>97.719626</td>\n",
       "      <td>21.325794</td>\n",
       "      <td>80.672897</td>\n",
       "      <td>3.061963</td>\n",
       "      <td>84.046729</td>\n",
       "      <td>4.026916</td>\n",
       "      <td>83.859813</td>\n",
       "      <td>4.608598</td>\n",
       "      <td>86.364486</td>\n",
       "      <td>172.018692</td>\n",
       "      <td>88.186916</td>\n",
       "      <td>301.195327</td>\n",
       "      <td>83.831776</td>\n",
       "      <td>59.979439</td>\n",
       "      <td>90.495327</td>\n",
       "      <td>65.687664</td>\n",
       "      <td>77.401869</td>\n",
       "      <td>60.489346</td>\n",
       "      <td>613.0</td>\n",
       "      <td>0.1920</td>\n",
       "      <td>2025.0</td>\n",
       "      <td>1000.0</td>\n",
       "      <td>0.000000</td>\n",
       "      <td>0.000</td>\n",
       "      <td>0.000000</td>\n",
       "      <td>0.000000</td>\n",
       "      <td>90.0</td>\n",
       "      <td>55.920000</td>\n",
       "      <td>64.500000</td>\n",
       "      <td>33.150000</td>\n",
       "      <td>6100</td>\n",
       "    </tr>\n",
       "  </tbody>\n",
       "</table>\n",
       "</div>"
      ],
      "text/plain": [
       "              PLAYER  SGTTG_RANK    SGTTG  SGOTT_RANK     SGOTT  SGAPR_RANK  \\\n",
       "0         Aaron Wise   98.906542 -0.03272   91.654206 -0.007916   96.607477   \n",
       "1        Adam Hadwin  149.000000 -0.57800  138.000000 -0.250000  154.000000   \n",
       "2        Adam Schenk  114.000000 -0.08600   80.000000  0.103000  119.000000   \n",
       "3      Adam Svensson   74.000000  0.23500  118.000000 -0.077000   73.000000   \n",
       "4  Aldrich Potgieter   72.000000  0.23900    4.000000  0.671000  110.000000   \n",
       "5    Alejandro Tosti   50.000000  0.47100   30.000000  0.345000  125.000000   \n",
       "6       Alex Smalley    9.000000  0.98500   19.000000  0.454000   60.000000   \n",
       "7   Anders Albertson   98.906542 -0.03272   91.654206 -0.007916   96.607477   \n",
       "8      Andrew Putnam   77.000000  0.22400  164.000000 -0.650000   36.000000   \n",
       "9        Austin Cook   98.906542 -0.03272   91.654206 -0.007916   96.607477   \n",
       "\n",
       "      SGAPR  SGATG_RANK     SGATG    SGP_RANK       SGP  BIRDIES_RANK  \\\n",
       "0 -0.023374   89.579439 -0.001411   93.448598 -0.034738     97.719626   \n",
       "1 -0.387000   73.000000  0.059000  109.000000 -0.069000     68.000000   \n",
       "2 -0.108000  118.000000 -0.081000  115.000000 -0.097000    127.000000   \n",
       "3  0.110000   37.000000  0.202000  162.000000 -0.598000    155.000000   \n",
       "4 -0.062000  160.000000 -0.371000   29.000000  0.275000     24.000000   \n",
       "5 -0.175000   18.000000  0.301000  166.000000 -0.688000     60.000000   \n",
       "6  0.201000   16.000000  0.329000   49.000000  0.197000     20.000000   \n",
       "7 -0.023374   89.579439 -0.001411   93.448598 -0.034738     97.719626   \n",
       "8  0.377000    6.000000  0.497000   13.000000  0.517000     95.000000   \n",
       "9 -0.023374   89.579439 -0.001411   93.448598 -0.034738     97.719626   \n",
       "\n",
       "     BIRDIES  PAR_3_RANK     PAR_3  PAR_4_RANK     PAR_4  PAR_5_RANK  \\\n",
       "0  21.325794   80.672897  3.061963   84.046729  4.026916   83.859813   \n",
       "1  22.130000   39.000000  3.030000  147.000000  4.060000  128.000000   \n",
       "2  20.690000   39.000000  3.030000  156.000000  4.080000   47.000000   \n",
       "3  19.610000   94.000000  3.070000  114.000000  4.040000   74.000000   \n",
       "4  23.500000   80.000000  3.060000   75.000000  4.020000  132.000000   \n",
       "5  22.220000  106.000000  3.080000   54.000000  4.010000   63.000000   \n",
       "6  23.710000   80.000000  3.060000    2.000000  3.940000   63.000000   \n",
       "7  21.325794   80.672897  3.061963   84.046729  4.026916   83.859813   \n",
       "8  21.380000   13.000000  3.000000    8.000000  3.970000   38.000000   \n",
       "9  21.325794   80.672897  3.061963   84.046729  4.026916   83.859813   \n",
       "\n",
       "      PAR_5  TOTAL_DRIVING_RANK  TOTAL_DRIVING  DRIVING_DISTANCE_RANK  \\\n",
       "0  4.608598           86.364486     172.018692              88.186916   \n",
       "1  4.650000           96.000000     175.000000             104.000000   \n",
       "2  4.570000          143.000000     216.000000              59.000000   \n",
       "3  4.600000           99.000000     178.000000             151.000000   \n",
       "4  4.660000           39.000000     143.000000               1.000000   \n",
       "5  4.590000           29.000000     131.000000              13.000000   \n",
       "6  4.590000            3.000000      76.000000              47.000000   \n",
       "7  4.608598           86.364486     172.018692              88.186916   \n",
       "8  4.560000           96.000000     175.000000             169.000000   \n",
       "9  4.608598           86.364486     172.018692              88.186916   \n",
       "\n",
       "   DRIVING_DISTANCE  DRIVING_ACCURACY_RANK  DRIVING_ACCURACY    GIR_RANK  \\\n",
       "0        301.195327              83.831776         59.979439   90.495327   \n",
       "1        298.700000              71.000000         60.800000  134.000000   \n",
       "2        304.800000             157.000000         53.060000  158.000000   \n",
       "3        293.900000              27.000000         64.910000   49.000000   \n",
       "4        327.400000             142.000000         54.830000   93.000000   \n",
       "5        313.300000             118.000000         56.950000  123.000000   \n",
       "6        306.000000              29.000000         64.820000   32.000000   \n",
       "7        301.195327              83.831776         59.979439   90.495327   \n",
       "8        282.200000               6.000000         70.110000   11.000000   \n",
       "9        301.195327              83.831776         59.979439   90.495327   \n",
       "\n",
       "         GIR  SCRAMBLING_RANK  SCRAMBLING  OWGR_RANK    OWGR  SEASON  \\\n",
       "0  65.687664        77.401869   60.489346     1000.0  4.0421  2025.0   \n",
       "1  64.120000       160.000000   54.070000      117.0  1.1817  2025.0   \n",
       "2  61.820000        97.000000   59.440000      158.0  0.8602  2025.0   \n",
       "3  67.320000       108.000000   59.000000      208.0  0.6781  2025.0   \n",
       "4  65.530000       163.000000   53.310000       49.0  2.2116  2025.0   \n",
       "5  64.700000        77.000000   60.660000      149.0  0.9114  2025.0   \n",
       "6  68.750000        20.000000   64.130000      119.0  1.1687  2025.0   \n",
       "7  65.687664        77.401869   60.489346     1000.0  4.0421  2025.0   \n",
       "8  70.230000         2.000000   68.660000      124.0  1.1315  2025.0   \n",
       "9  65.687664        77.401869   60.489346      613.0  0.1920  2025.0   \n",
       "\n",
       "   VEGAS_ODDS  CUT_PERCENTAGE  FEDEX_CUP_POINTS  form_density  \\\n",
       "0      1000.0       52.478358             0.000     18.485821   \n",
       "1       200.0       68.400000           214.432     11.290000   \n",
       "2       150.0       45.000000           270.904     13.550000   \n",
       "3       150.0       50.000000           126.043      6.300000   \n",
       "4        45.0       41.700000           941.000     78.420000   \n",
       "5       150.0       42.100000           316.783     16.670000   \n",
       "6        45.0       66.700000           639.388     30.450000   \n",
       "7      1000.0       52.478358             0.000     18.485821   \n",
       "8        65.0       64.700000           441.783     25.990000   \n",
       "9      1000.0        0.000000             0.000      0.000000   \n",
       "\n",
       "   CONSECUTIVE_CUTS  RECENT_FORM   adj_form  COURSE_HISTORY      adj_ch  \\\n",
       "0          1.380597         90.0  24.382313       54.928866   49.376392   \n",
       "1          4.000000         61.7  20.600000       90.000000   81.920000   \n",
       "2          0.000000         66.6  21.880000       47.300000   24.310000   \n",
       "3          0.000000         67.4  22.140000       24.300000   15.100000   \n",
       "4          2.000000         58.4  22.770000       54.928866   49.376392   \n",
       "5          0.000000         66.4  22.160000       90.000000  129.840000   \n",
       "6          0.000000         45.9  14.850000       38.800000   24.110000   \n",
       "7          1.380597         90.0  24.382313       54.928866   49.376392   \n",
       "8          4.000000         47.2  16.330000       75.000000   46.600000   \n",
       "9          0.000000         90.0  55.920000       64.500000   33.150000   \n",
       "\n",
       "   SALARY  \n",
       "0    6200  \n",
       "1    6800  \n",
       "2    6800  \n",
       "3    6700  \n",
       "4    7900  \n",
       "5    6800  \n",
       "6    7900  \n",
       "7    6000  \n",
       "8    7600  \n",
       "9    6100  "
      ]
     },
     "execution_count": 24,
     "metadata": {},
     "output_type": "execute_result"
    }
   ],
   "source": [
    "this_week.head(10)"
   ]
  },
  {
   "cell_type": "markdown",
   "id": "e37950e7",
   "metadata": {},
   "source": [
    "## Correlations\n",
    "**Last 4 Years**"
   ]
  },
  {
   "cell_type": "code",
   "execution_count": 25,
   "id": "d749a70f",
   "metadata": {},
   "outputs": [
    {
     "data": {
      "application/vnd.plotly.v1+json": {
       "config": {
        "plotlyServerURL": "https://plot.ly"
       },
       "data": [
        {
         "hovertemplate": "Feature=%{x}<br>Correlation=%{y}<extra></extra>",
         "legendgroup": "",
         "marker": {
          "color": "#636efa",
          "pattern": {
           "shape": ""
          }
         },
         "name": "",
         "orientation": "v",
         "showlegend": false,
         "textposition": "auto",
         "type": "bar",
         "x": [
          "SGTTG_RANK",
          "SGTTG",
          "RECENT_FORM",
          "OWGR_RANK",
          "SGAPR_RANK",
          "SGAPR",
          "OWGR",
          "BIRDIES",
          "BIRDIES_RANK",
          "VEGAS_ODDS",
          "FEDEX_CUP_POINTS",
          "CUT_PERCENTAGE",
          "GIR_RANK",
          "PAR_4",
          "form_density",
          "GIR",
          "PAR_3_RANK",
          "PAR_4_RANK",
          "SGOTT",
          "TOTAL_DRIVING_RANK",
          "TOTAL_DRIVING",
          "PAR_3",
          "SCRAMBLING",
          "CONSECUTIVE_CUTS",
          "SGOTT_RANK",
          "SCRAMBLING_RANK",
          "adj_form",
          "PAR_5",
          "PAR_5_RANK",
          "SGATG",
          "DRIVING_ACCURACY",
          "DRIVING_DISTANCE",
          "DRIVING_ACCURACY_RANK",
          "DRIVING_DISTANCE_RANK",
          "SGATG_RANK",
          "SGP_RANK",
          "SGP",
          "adj_ch",
          "COURSE_HISTORY"
         ],
         "xaxis": "x",
         "y": {
          "bdata": "Z9XZlYFg2T+G5s+52JDXP20PBECsHdU/QxNusZXd1D/byT0v/ZrUP9vO1I1kntM/Tak/V+OD0z95wMHeguTSP92AssbFq9I/A9jtw4Dl0T8iSAnHV47RP98aiFZAiNE/pIWPz6820T+x/P3oaKnQP+2b55KHNdA/Yj+fuOXnzz9p6+mKw93PP3Wq9y4/ls8/ZOtdqoQEzj/5rGrLgMPNPxWQFqY0ecw/zHIhV667yz+sTyWfhZnLP3vo85BdLMs/gG6hsIe+yT9TUCkTRJvJPymANf7+Zsk/xm+MROOvwz8WKmK03H3DPw+yb61qvb4/ej5TAR+9vT/8dTvca9m6P6qC0OOLi7c/SiNZzIkHtz/CiacEHeO2P8d+bIrpDrI/hUbc8G21rD/f2D2+upaoP3VWeh+nimY/",
          "dtype": "f8"
         },
         "yaxis": "y"
        }
       ],
       "layout": {
        "barmode": "relative",
        "height": 500,
        "legend": {
         "tracegroupgap": 0
        },
        "template": {
         "data": {
          "bar": [
           {
            "error_x": {
             "color": "#f2f5fa"
            },
            "error_y": {
             "color": "#f2f5fa"
            },
            "marker": {
             "line": {
              "color": "rgb(17,17,17)",
              "width": 0.5
             },
             "pattern": {
              "fillmode": "overlay",
              "size": 10,
              "solidity": 0.2
             }
            },
            "type": "bar"
           }
          ],
          "barpolar": [
           {
            "marker": {
             "line": {
              "color": "rgb(17,17,17)",
              "width": 0.5
             },
             "pattern": {
              "fillmode": "overlay",
              "size": 10,
              "solidity": 0.2
             }
            },
            "type": "barpolar"
           }
          ],
          "carpet": [
           {
            "aaxis": {
             "endlinecolor": "#A2B1C6",
             "gridcolor": "#506784",
             "linecolor": "#506784",
             "minorgridcolor": "#506784",
             "startlinecolor": "#A2B1C6"
            },
            "baxis": {
             "endlinecolor": "#A2B1C6",
             "gridcolor": "#506784",
             "linecolor": "#506784",
             "minorgridcolor": "#506784",
             "startlinecolor": "#A2B1C6"
            },
            "type": "carpet"
           }
          ],
          "choropleth": [
           {
            "colorbar": {
             "outlinewidth": 0,
             "ticks": ""
            },
            "type": "choropleth"
           }
          ],
          "contour": [
           {
            "colorbar": {
             "outlinewidth": 0,
             "ticks": ""
            },
            "colorscale": [
             [
              0,
              "#0d0887"
             ],
             [
              0.1111111111111111,
              "#46039f"
             ],
             [
              0.2222222222222222,
              "#7201a8"
             ],
             [
              0.3333333333333333,
              "#9c179e"
             ],
             [
              0.4444444444444444,
              "#bd3786"
             ],
             [
              0.5555555555555556,
              "#d8576b"
             ],
             [
              0.6666666666666666,
              "#ed7953"
             ],
             [
              0.7777777777777778,
              "#fb9f3a"
             ],
             [
              0.8888888888888888,
              "#fdca26"
             ],
             [
              1,
              "#f0f921"
             ]
            ],
            "type": "contour"
           }
          ],
          "contourcarpet": [
           {
            "colorbar": {
             "outlinewidth": 0,
             "ticks": ""
            },
            "type": "contourcarpet"
           }
          ],
          "heatmap": [
           {
            "colorbar": {
             "outlinewidth": 0,
             "ticks": ""
            },
            "colorscale": [
             [
              0,
              "#0d0887"
             ],
             [
              0.1111111111111111,
              "#46039f"
             ],
             [
              0.2222222222222222,
              "#7201a8"
             ],
             [
              0.3333333333333333,
              "#9c179e"
             ],
             [
              0.4444444444444444,
              "#bd3786"
             ],
             [
              0.5555555555555556,
              "#d8576b"
             ],
             [
              0.6666666666666666,
              "#ed7953"
             ],
             [
              0.7777777777777778,
              "#fb9f3a"
             ],
             [
              0.8888888888888888,
              "#fdca26"
             ],
             [
              1,
              "#f0f921"
             ]
            ],
            "type": "heatmap"
           }
          ],
          "histogram": [
           {
            "marker": {
             "pattern": {
              "fillmode": "overlay",
              "size": 10,
              "solidity": 0.2
             }
            },
            "type": "histogram"
           }
          ],
          "histogram2d": [
           {
            "colorbar": {
             "outlinewidth": 0,
             "ticks": ""
            },
            "colorscale": [
             [
              0,
              "#0d0887"
             ],
             [
              0.1111111111111111,
              "#46039f"
             ],
             [
              0.2222222222222222,
              "#7201a8"
             ],
             [
              0.3333333333333333,
              "#9c179e"
             ],
             [
              0.4444444444444444,
              "#bd3786"
             ],
             [
              0.5555555555555556,
              "#d8576b"
             ],
             [
              0.6666666666666666,
              "#ed7953"
             ],
             [
              0.7777777777777778,
              "#fb9f3a"
             ],
             [
              0.8888888888888888,
              "#fdca26"
             ],
             [
              1,
              "#f0f921"
             ]
            ],
            "type": "histogram2d"
           }
          ],
          "histogram2dcontour": [
           {
            "colorbar": {
             "outlinewidth": 0,
             "ticks": ""
            },
            "colorscale": [
             [
              0,
              "#0d0887"
             ],
             [
              0.1111111111111111,
              "#46039f"
             ],
             [
              0.2222222222222222,
              "#7201a8"
             ],
             [
              0.3333333333333333,
              "#9c179e"
             ],
             [
              0.4444444444444444,
              "#bd3786"
             ],
             [
              0.5555555555555556,
              "#d8576b"
             ],
             [
              0.6666666666666666,
              "#ed7953"
             ],
             [
              0.7777777777777778,
              "#fb9f3a"
             ],
             [
              0.8888888888888888,
              "#fdca26"
             ],
             [
              1,
              "#f0f921"
             ]
            ],
            "type": "histogram2dcontour"
           }
          ],
          "mesh3d": [
           {
            "colorbar": {
             "outlinewidth": 0,
             "ticks": ""
            },
            "type": "mesh3d"
           }
          ],
          "parcoords": [
           {
            "line": {
             "colorbar": {
              "outlinewidth": 0,
              "ticks": ""
             }
            },
            "type": "parcoords"
           }
          ],
          "pie": [
           {
            "automargin": true,
            "type": "pie"
           }
          ],
          "scatter": [
           {
            "marker": {
             "line": {
              "color": "#283442"
             }
            },
            "type": "scatter"
           }
          ],
          "scatter3d": [
           {
            "line": {
             "colorbar": {
              "outlinewidth": 0,
              "ticks": ""
             }
            },
            "marker": {
             "colorbar": {
              "outlinewidth": 0,
              "ticks": ""
             }
            },
            "type": "scatter3d"
           }
          ],
          "scattercarpet": [
           {
            "marker": {
             "colorbar": {
              "outlinewidth": 0,
              "ticks": ""
             }
            },
            "type": "scattercarpet"
           }
          ],
          "scattergeo": [
           {
            "marker": {
             "colorbar": {
              "outlinewidth": 0,
              "ticks": ""
             }
            },
            "type": "scattergeo"
           }
          ],
          "scattergl": [
           {
            "marker": {
             "line": {
              "color": "#283442"
             }
            },
            "type": "scattergl"
           }
          ],
          "scattermap": [
           {
            "marker": {
             "colorbar": {
              "outlinewidth": 0,
              "ticks": ""
             }
            },
            "type": "scattermap"
           }
          ],
          "scattermapbox": [
           {
            "marker": {
             "colorbar": {
              "outlinewidth": 0,
              "ticks": ""
             }
            },
            "type": "scattermapbox"
           }
          ],
          "scatterpolar": [
           {
            "marker": {
             "colorbar": {
              "outlinewidth": 0,
              "ticks": ""
             }
            },
            "type": "scatterpolar"
           }
          ],
          "scatterpolargl": [
           {
            "marker": {
             "colorbar": {
              "outlinewidth": 0,
              "ticks": ""
             }
            },
            "type": "scatterpolargl"
           }
          ],
          "scatterternary": [
           {
            "marker": {
             "colorbar": {
              "outlinewidth": 0,
              "ticks": ""
             }
            },
            "type": "scatterternary"
           }
          ],
          "surface": [
           {
            "colorbar": {
             "outlinewidth": 0,
             "ticks": ""
            },
            "colorscale": [
             [
              0,
              "#0d0887"
             ],
             [
              0.1111111111111111,
              "#46039f"
             ],
             [
              0.2222222222222222,
              "#7201a8"
             ],
             [
              0.3333333333333333,
              "#9c179e"
             ],
             [
              0.4444444444444444,
              "#bd3786"
             ],
             [
              0.5555555555555556,
              "#d8576b"
             ],
             [
              0.6666666666666666,
              "#ed7953"
             ],
             [
              0.7777777777777778,
              "#fb9f3a"
             ],
             [
              0.8888888888888888,
              "#fdca26"
             ],
             [
              1,
              "#f0f921"
             ]
            ],
            "type": "surface"
           }
          ],
          "table": [
           {
            "cells": {
             "fill": {
              "color": "#506784"
             },
             "line": {
              "color": "rgb(17,17,17)"
             }
            },
            "header": {
             "fill": {
              "color": "#2a3f5f"
             },
             "line": {
              "color": "rgb(17,17,17)"
             }
            },
            "type": "table"
           }
          ]
         },
         "layout": {
          "annotationdefaults": {
           "arrowcolor": "#f2f5fa",
           "arrowhead": 0,
           "arrowwidth": 1
          },
          "autotypenumbers": "strict",
          "coloraxis": {
           "colorbar": {
            "outlinewidth": 0,
            "ticks": ""
           }
          },
          "colorscale": {
           "diverging": [
            [
             0,
             "#8e0152"
            ],
            [
             0.1,
             "#c51b7d"
            ],
            [
             0.2,
             "#de77ae"
            ],
            [
             0.3,
             "#f1b6da"
            ],
            [
             0.4,
             "#fde0ef"
            ],
            [
             0.5,
             "#f7f7f7"
            ],
            [
             0.6,
             "#e6f5d0"
            ],
            [
             0.7,
             "#b8e186"
            ],
            [
             0.8,
             "#7fbc41"
            ],
            [
             0.9,
             "#4d9221"
            ],
            [
             1,
             "#276419"
            ]
           ],
           "sequential": [
            [
             0,
             "#0d0887"
            ],
            [
             0.1111111111111111,
             "#46039f"
            ],
            [
             0.2222222222222222,
             "#7201a8"
            ],
            [
             0.3333333333333333,
             "#9c179e"
            ],
            [
             0.4444444444444444,
             "#bd3786"
            ],
            [
             0.5555555555555556,
             "#d8576b"
            ],
            [
             0.6666666666666666,
             "#ed7953"
            ],
            [
             0.7777777777777778,
             "#fb9f3a"
            ],
            [
             0.8888888888888888,
             "#fdca26"
            ],
            [
             1,
             "#f0f921"
            ]
           ],
           "sequentialminus": [
            [
             0,
             "#0d0887"
            ],
            [
             0.1111111111111111,
             "#46039f"
            ],
            [
             0.2222222222222222,
             "#7201a8"
            ],
            [
             0.3333333333333333,
             "#9c179e"
            ],
            [
             0.4444444444444444,
             "#bd3786"
            ],
            [
             0.5555555555555556,
             "#d8576b"
            ],
            [
             0.6666666666666666,
             "#ed7953"
            ],
            [
             0.7777777777777778,
             "#fb9f3a"
            ],
            [
             0.8888888888888888,
             "#fdca26"
            ],
            [
             1,
             "#f0f921"
            ]
           ]
          },
          "colorway": [
           "#636efa",
           "#EF553B",
           "#00cc96",
           "#ab63fa",
           "#FFA15A",
           "#19d3f3",
           "#FF6692",
           "#B6E880",
           "#FF97FF",
           "#FECB52"
          ],
          "font": {
           "color": "#f2f5fa"
          },
          "geo": {
           "bgcolor": "rgb(17,17,17)",
           "lakecolor": "rgb(17,17,17)",
           "landcolor": "rgb(17,17,17)",
           "showlakes": true,
           "showland": true,
           "subunitcolor": "#506784"
          },
          "hoverlabel": {
           "align": "left"
          },
          "hovermode": "closest",
          "mapbox": {
           "style": "dark"
          },
          "paper_bgcolor": "rgb(17,17,17)",
          "plot_bgcolor": "rgb(17,17,17)",
          "polar": {
           "angularaxis": {
            "gridcolor": "#506784",
            "linecolor": "#506784",
            "ticks": ""
           },
           "bgcolor": "rgb(17,17,17)",
           "radialaxis": {
            "gridcolor": "#506784",
            "linecolor": "#506784",
            "ticks": ""
           }
          },
          "scene": {
           "xaxis": {
            "backgroundcolor": "rgb(17,17,17)",
            "gridcolor": "#506784",
            "gridwidth": 2,
            "linecolor": "#506784",
            "showbackground": true,
            "ticks": "",
            "zerolinecolor": "#C8D4E3"
           },
           "yaxis": {
            "backgroundcolor": "rgb(17,17,17)",
            "gridcolor": "#506784",
            "gridwidth": 2,
            "linecolor": "#506784",
            "showbackground": true,
            "ticks": "",
            "zerolinecolor": "#C8D4E3"
           },
           "zaxis": {
            "backgroundcolor": "rgb(17,17,17)",
            "gridcolor": "#506784",
            "gridwidth": 2,
            "linecolor": "#506784",
            "showbackground": true,
            "ticks": "",
            "zerolinecolor": "#C8D4E3"
           }
          },
          "shapedefaults": {
           "line": {
            "color": "#f2f5fa"
           }
          },
          "sliderdefaults": {
           "bgcolor": "#C8D4E3",
           "bordercolor": "rgb(17,17,17)",
           "borderwidth": 1,
           "tickwidth": 0
          },
          "ternary": {
           "aaxis": {
            "gridcolor": "#506784",
            "linecolor": "#506784",
            "ticks": ""
           },
           "baxis": {
            "gridcolor": "#506784",
            "linecolor": "#506784",
            "ticks": ""
           },
           "bgcolor": "rgb(17,17,17)",
           "caxis": {
            "gridcolor": "#506784",
            "linecolor": "#506784",
            "ticks": ""
           }
          },
          "title": {
           "x": 0.05
          },
          "updatemenudefaults": {
           "bgcolor": "#506784",
           "borderwidth": 0
          },
          "xaxis": {
           "automargin": true,
           "gridcolor": "#283442",
           "linecolor": "#506784",
           "ticks": "",
           "title": {
            "standoff": 15
           },
           "zerolinecolor": "#283442",
           "zerolinewidth": 2
          },
          "yaxis": {
           "automargin": true,
           "gridcolor": "#283442",
           "linecolor": "#506784",
           "ticks": "",
           "title": {
            "standoff": 15
           },
           "zerolinecolor": "#283442",
           "zerolinewidth": 2
          }
         }
        },
        "title": {
         "text": "🔎 Correlation to TOP_20 — Season 2021"
        },
        "width": 1000,
        "xaxis": {
         "anchor": "y",
         "domain": [
          0,
          1
         ],
         "tickangle": -45,
         "title": {
          "text": "Feature"
         }
        },
        "yaxis": {
         "anchor": "x",
         "domain": [
          0,
          1
         ],
         "title": {
          "text": "Absolute Correlation to TOP_20"
         }
        }
       }
      }
     },
     "metadata": {},
     "output_type": "display_data"
    },
    {
     "data": {
      "application/vnd.plotly.v1+json": {
       "config": {
        "plotlyServerURL": "https://plot.ly"
       },
       "data": [
        {
         "hovertemplate": "Feature=%{x}<br>Correlation=%{y}<extra></extra>",
         "legendgroup": "",
         "marker": {
          "color": "#636efa",
          "pattern": {
           "shape": ""
          }
         },
         "name": "",
         "orientation": "v",
         "showlegend": false,
         "textposition": "auto",
         "type": "bar",
         "x": [
          "OWGR",
          "PAR_4_RANK",
          "PAR_4",
          "RECENT_FORM",
          "OWGR_RANK",
          "FEDEX_CUP_POINTS",
          "PAR_5",
          "CUT_PERCENTAGE",
          "PAR_5_RANK",
          "SCRAMBLING",
          "form_density",
          "SGP",
          "SCRAMBLING_RANK",
          "CONSECUTIVE_CUTS",
          "SGTTG_RANK",
          "SGP_RANK",
          "BIRDIES",
          "SGTTG",
          "VEGAS_ODDS",
          "BIRDIES_RANK",
          "SGAPR",
          "GIR",
          "SGAPR_RANK",
          "PAR_3_RANK",
          "PAR_3",
          "adj_form",
          "GIR_RANK",
          "DRIVING_DISTANCE",
          "SGOTT",
          "COURSE_HISTORY",
          "SGOTT_RANK",
          "SGATG",
          "DRIVING_DISTANCE_RANK",
          "SGATG_RANK",
          "DRIVING_ACCURACY",
          "TOTAL_DRIVING",
          "DRIVING_ACCURACY_RANK",
          "TOTAL_DRIVING_RANK",
          "adj_ch"
         ],
         "xaxis": "x",
         "y": {
          "bdata": "Uwhr9v4i2j8jr2Je92DVP9NCWShFP9Q//IBhcuo90z+2T5006gPTP1S0hnY6bNI/SL9TRK9c0j9df9OM/lrSP0ZEN0C1TdI/NM7X0rXz0T8n5fQxUWDRP2nwVHVK19A/Qo/XEbKK0D91dtq75E7PPwWheMABUc0/bwyfR+rWzD+/AKArKNPMP0yQcXG8osw/36BJ7UKayT/O+EYBY2zIP1I/mNcB6sY//IO0H7F5xj+yK2cWybDFP2ynRMO7QsU/qIy3buqWxD+5QWnEFwjEPy114GwEqsM/EFsa/lV0vz+Oex9uFw68P9vgkOguMbs/ejWlSPv/uT8vhlVUWxO5P2AUzftZOrc/UHqVR1HzrT9ZnPgXMNesP6v+5ut4hKs/cvZrwomxpT94K7IrMF6YPwtL6ynkxZQ/",
          "dtype": "f8"
         },
         "yaxis": "y"
        }
       ],
       "layout": {
        "barmode": "relative",
        "height": 500,
        "legend": {
         "tracegroupgap": 0
        },
        "template": {
         "data": {
          "bar": [
           {
            "error_x": {
             "color": "#f2f5fa"
            },
            "error_y": {
             "color": "#f2f5fa"
            },
            "marker": {
             "line": {
              "color": "rgb(17,17,17)",
              "width": 0.5
             },
             "pattern": {
              "fillmode": "overlay",
              "size": 10,
              "solidity": 0.2
             }
            },
            "type": "bar"
           }
          ],
          "barpolar": [
           {
            "marker": {
             "line": {
              "color": "rgb(17,17,17)",
              "width": 0.5
             },
             "pattern": {
              "fillmode": "overlay",
              "size": 10,
              "solidity": 0.2
             }
            },
            "type": "barpolar"
           }
          ],
          "carpet": [
           {
            "aaxis": {
             "endlinecolor": "#A2B1C6",
             "gridcolor": "#506784",
             "linecolor": "#506784",
             "minorgridcolor": "#506784",
             "startlinecolor": "#A2B1C6"
            },
            "baxis": {
             "endlinecolor": "#A2B1C6",
             "gridcolor": "#506784",
             "linecolor": "#506784",
             "minorgridcolor": "#506784",
             "startlinecolor": "#A2B1C6"
            },
            "type": "carpet"
           }
          ],
          "choropleth": [
           {
            "colorbar": {
             "outlinewidth": 0,
             "ticks": ""
            },
            "type": "choropleth"
           }
          ],
          "contour": [
           {
            "colorbar": {
             "outlinewidth": 0,
             "ticks": ""
            },
            "colorscale": [
             [
              0,
              "#0d0887"
             ],
             [
              0.1111111111111111,
              "#46039f"
             ],
             [
              0.2222222222222222,
              "#7201a8"
             ],
             [
              0.3333333333333333,
              "#9c179e"
             ],
             [
              0.4444444444444444,
              "#bd3786"
             ],
             [
              0.5555555555555556,
              "#d8576b"
             ],
             [
              0.6666666666666666,
              "#ed7953"
             ],
             [
              0.7777777777777778,
              "#fb9f3a"
             ],
             [
              0.8888888888888888,
              "#fdca26"
             ],
             [
              1,
              "#f0f921"
             ]
            ],
            "type": "contour"
           }
          ],
          "contourcarpet": [
           {
            "colorbar": {
             "outlinewidth": 0,
             "ticks": ""
            },
            "type": "contourcarpet"
           }
          ],
          "heatmap": [
           {
            "colorbar": {
             "outlinewidth": 0,
             "ticks": ""
            },
            "colorscale": [
             [
              0,
              "#0d0887"
             ],
             [
              0.1111111111111111,
              "#46039f"
             ],
             [
              0.2222222222222222,
              "#7201a8"
             ],
             [
              0.3333333333333333,
              "#9c179e"
             ],
             [
              0.4444444444444444,
              "#bd3786"
             ],
             [
              0.5555555555555556,
              "#d8576b"
             ],
             [
              0.6666666666666666,
              "#ed7953"
             ],
             [
              0.7777777777777778,
              "#fb9f3a"
             ],
             [
              0.8888888888888888,
              "#fdca26"
             ],
             [
              1,
              "#f0f921"
             ]
            ],
            "type": "heatmap"
           }
          ],
          "histogram": [
           {
            "marker": {
             "pattern": {
              "fillmode": "overlay",
              "size": 10,
              "solidity": 0.2
             }
            },
            "type": "histogram"
           }
          ],
          "histogram2d": [
           {
            "colorbar": {
             "outlinewidth": 0,
             "ticks": ""
            },
            "colorscale": [
             [
              0,
              "#0d0887"
             ],
             [
              0.1111111111111111,
              "#46039f"
             ],
             [
              0.2222222222222222,
              "#7201a8"
             ],
             [
              0.3333333333333333,
              "#9c179e"
             ],
             [
              0.4444444444444444,
              "#bd3786"
             ],
             [
              0.5555555555555556,
              "#d8576b"
             ],
             [
              0.6666666666666666,
              "#ed7953"
             ],
             [
              0.7777777777777778,
              "#fb9f3a"
             ],
             [
              0.8888888888888888,
              "#fdca26"
             ],
             [
              1,
              "#f0f921"
             ]
            ],
            "type": "histogram2d"
           }
          ],
          "histogram2dcontour": [
           {
            "colorbar": {
             "outlinewidth": 0,
             "ticks": ""
            },
            "colorscale": [
             [
              0,
              "#0d0887"
             ],
             [
              0.1111111111111111,
              "#46039f"
             ],
             [
              0.2222222222222222,
              "#7201a8"
             ],
             [
              0.3333333333333333,
              "#9c179e"
             ],
             [
              0.4444444444444444,
              "#bd3786"
             ],
             [
              0.5555555555555556,
              "#d8576b"
             ],
             [
              0.6666666666666666,
              "#ed7953"
             ],
             [
              0.7777777777777778,
              "#fb9f3a"
             ],
             [
              0.8888888888888888,
              "#fdca26"
             ],
             [
              1,
              "#f0f921"
             ]
            ],
            "type": "histogram2dcontour"
           }
          ],
          "mesh3d": [
           {
            "colorbar": {
             "outlinewidth": 0,
             "ticks": ""
            },
            "type": "mesh3d"
           }
          ],
          "parcoords": [
           {
            "line": {
             "colorbar": {
              "outlinewidth": 0,
              "ticks": ""
             }
            },
            "type": "parcoords"
           }
          ],
          "pie": [
           {
            "automargin": true,
            "type": "pie"
           }
          ],
          "scatter": [
           {
            "marker": {
             "line": {
              "color": "#283442"
             }
            },
            "type": "scatter"
           }
          ],
          "scatter3d": [
           {
            "line": {
             "colorbar": {
              "outlinewidth": 0,
              "ticks": ""
             }
            },
            "marker": {
             "colorbar": {
              "outlinewidth": 0,
              "ticks": ""
             }
            },
            "type": "scatter3d"
           }
          ],
          "scattercarpet": [
           {
            "marker": {
             "colorbar": {
              "outlinewidth": 0,
              "ticks": ""
             }
            },
            "type": "scattercarpet"
           }
          ],
          "scattergeo": [
           {
            "marker": {
             "colorbar": {
              "outlinewidth": 0,
              "ticks": ""
             }
            },
            "type": "scattergeo"
           }
          ],
          "scattergl": [
           {
            "marker": {
             "line": {
              "color": "#283442"
             }
            },
            "type": "scattergl"
           }
          ],
          "scattermap": [
           {
            "marker": {
             "colorbar": {
              "outlinewidth": 0,
              "ticks": ""
             }
            },
            "type": "scattermap"
           }
          ],
          "scattermapbox": [
           {
            "marker": {
             "colorbar": {
              "outlinewidth": 0,
              "ticks": ""
             }
            },
            "type": "scattermapbox"
           }
          ],
          "scatterpolar": [
           {
            "marker": {
             "colorbar": {
              "outlinewidth": 0,
              "ticks": ""
             }
            },
            "type": "scatterpolar"
           }
          ],
          "scatterpolargl": [
           {
            "marker": {
             "colorbar": {
              "outlinewidth": 0,
              "ticks": ""
             }
            },
            "type": "scatterpolargl"
           }
          ],
          "scatterternary": [
           {
            "marker": {
             "colorbar": {
              "outlinewidth": 0,
              "ticks": ""
             }
            },
            "type": "scatterternary"
           }
          ],
          "surface": [
           {
            "colorbar": {
             "outlinewidth": 0,
             "ticks": ""
            },
            "colorscale": [
             [
              0,
              "#0d0887"
             ],
             [
              0.1111111111111111,
              "#46039f"
             ],
             [
              0.2222222222222222,
              "#7201a8"
             ],
             [
              0.3333333333333333,
              "#9c179e"
             ],
             [
              0.4444444444444444,
              "#bd3786"
             ],
             [
              0.5555555555555556,
              "#d8576b"
             ],
             [
              0.6666666666666666,
              "#ed7953"
             ],
             [
              0.7777777777777778,
              "#fb9f3a"
             ],
             [
              0.8888888888888888,
              "#fdca26"
             ],
             [
              1,
              "#f0f921"
             ]
            ],
            "type": "surface"
           }
          ],
          "table": [
           {
            "cells": {
             "fill": {
              "color": "#506784"
             },
             "line": {
              "color": "rgb(17,17,17)"
             }
            },
            "header": {
             "fill": {
              "color": "#2a3f5f"
             },
             "line": {
              "color": "rgb(17,17,17)"
             }
            },
            "type": "table"
           }
          ]
         },
         "layout": {
          "annotationdefaults": {
           "arrowcolor": "#f2f5fa",
           "arrowhead": 0,
           "arrowwidth": 1
          },
          "autotypenumbers": "strict",
          "coloraxis": {
           "colorbar": {
            "outlinewidth": 0,
            "ticks": ""
           }
          },
          "colorscale": {
           "diverging": [
            [
             0,
             "#8e0152"
            ],
            [
             0.1,
             "#c51b7d"
            ],
            [
             0.2,
             "#de77ae"
            ],
            [
             0.3,
             "#f1b6da"
            ],
            [
             0.4,
             "#fde0ef"
            ],
            [
             0.5,
             "#f7f7f7"
            ],
            [
             0.6,
             "#e6f5d0"
            ],
            [
             0.7,
             "#b8e186"
            ],
            [
             0.8,
             "#7fbc41"
            ],
            [
             0.9,
             "#4d9221"
            ],
            [
             1,
             "#276419"
            ]
           ],
           "sequential": [
            [
             0,
             "#0d0887"
            ],
            [
             0.1111111111111111,
             "#46039f"
            ],
            [
             0.2222222222222222,
             "#7201a8"
            ],
            [
             0.3333333333333333,
             "#9c179e"
            ],
            [
             0.4444444444444444,
             "#bd3786"
            ],
            [
             0.5555555555555556,
             "#d8576b"
            ],
            [
             0.6666666666666666,
             "#ed7953"
            ],
            [
             0.7777777777777778,
             "#fb9f3a"
            ],
            [
             0.8888888888888888,
             "#fdca26"
            ],
            [
             1,
             "#f0f921"
            ]
           ],
           "sequentialminus": [
            [
             0,
             "#0d0887"
            ],
            [
             0.1111111111111111,
             "#46039f"
            ],
            [
             0.2222222222222222,
             "#7201a8"
            ],
            [
             0.3333333333333333,
             "#9c179e"
            ],
            [
             0.4444444444444444,
             "#bd3786"
            ],
            [
             0.5555555555555556,
             "#d8576b"
            ],
            [
             0.6666666666666666,
             "#ed7953"
            ],
            [
             0.7777777777777778,
             "#fb9f3a"
            ],
            [
             0.8888888888888888,
             "#fdca26"
            ],
            [
             1,
             "#f0f921"
            ]
           ]
          },
          "colorway": [
           "#636efa",
           "#EF553B",
           "#00cc96",
           "#ab63fa",
           "#FFA15A",
           "#19d3f3",
           "#FF6692",
           "#B6E880",
           "#FF97FF",
           "#FECB52"
          ],
          "font": {
           "color": "#f2f5fa"
          },
          "geo": {
           "bgcolor": "rgb(17,17,17)",
           "lakecolor": "rgb(17,17,17)",
           "landcolor": "rgb(17,17,17)",
           "showlakes": true,
           "showland": true,
           "subunitcolor": "#506784"
          },
          "hoverlabel": {
           "align": "left"
          },
          "hovermode": "closest",
          "mapbox": {
           "style": "dark"
          },
          "paper_bgcolor": "rgb(17,17,17)",
          "plot_bgcolor": "rgb(17,17,17)",
          "polar": {
           "angularaxis": {
            "gridcolor": "#506784",
            "linecolor": "#506784",
            "ticks": ""
           },
           "bgcolor": "rgb(17,17,17)",
           "radialaxis": {
            "gridcolor": "#506784",
            "linecolor": "#506784",
            "ticks": ""
           }
          },
          "scene": {
           "xaxis": {
            "backgroundcolor": "rgb(17,17,17)",
            "gridcolor": "#506784",
            "gridwidth": 2,
            "linecolor": "#506784",
            "showbackground": true,
            "ticks": "",
            "zerolinecolor": "#C8D4E3"
           },
           "yaxis": {
            "backgroundcolor": "rgb(17,17,17)",
            "gridcolor": "#506784",
            "gridwidth": 2,
            "linecolor": "#506784",
            "showbackground": true,
            "ticks": "",
            "zerolinecolor": "#C8D4E3"
           },
           "zaxis": {
            "backgroundcolor": "rgb(17,17,17)",
            "gridcolor": "#506784",
            "gridwidth": 2,
            "linecolor": "#506784",
            "showbackground": true,
            "ticks": "",
            "zerolinecolor": "#C8D4E3"
           }
          },
          "shapedefaults": {
           "line": {
            "color": "#f2f5fa"
           }
          },
          "sliderdefaults": {
           "bgcolor": "#C8D4E3",
           "bordercolor": "rgb(17,17,17)",
           "borderwidth": 1,
           "tickwidth": 0
          },
          "ternary": {
           "aaxis": {
            "gridcolor": "#506784",
            "linecolor": "#506784",
            "ticks": ""
           },
           "baxis": {
            "gridcolor": "#506784",
            "linecolor": "#506784",
            "ticks": ""
           },
           "bgcolor": "rgb(17,17,17)",
           "caxis": {
            "gridcolor": "#506784",
            "linecolor": "#506784",
            "ticks": ""
           }
          },
          "title": {
           "x": 0.05
          },
          "updatemenudefaults": {
           "bgcolor": "#506784",
           "borderwidth": 0
          },
          "xaxis": {
           "automargin": true,
           "gridcolor": "#283442",
           "linecolor": "#506784",
           "ticks": "",
           "title": {
            "standoff": 15
           },
           "zerolinecolor": "#283442",
           "zerolinewidth": 2
          },
          "yaxis": {
           "automargin": true,
           "gridcolor": "#283442",
           "linecolor": "#506784",
           "ticks": "",
           "title": {
            "standoff": 15
           },
           "zerolinecolor": "#283442",
           "zerolinewidth": 2
          }
         }
        },
        "title": {
         "text": "🔎 Correlation to TOP_20 — Season 2022"
        },
        "width": 1000,
        "xaxis": {
         "anchor": "y",
         "domain": [
          0,
          1
         ],
         "tickangle": -45,
         "title": {
          "text": "Feature"
         }
        },
        "yaxis": {
         "anchor": "x",
         "domain": [
          0,
          1
         ],
         "title": {
          "text": "Absolute Correlation to TOP_20"
         }
        }
       }
      }
     },
     "metadata": {},
     "output_type": "display_data"
    },
    {
     "data": {
      "application/vnd.plotly.v1+json": {
       "config": {
        "plotlyServerURL": "https://plot.ly"
       },
       "data": [
        {
         "hovertemplate": "Feature=%{x}<br>Correlation=%{y}<extra></extra>",
         "legendgroup": "",
         "marker": {
          "color": "#636efa",
          "pattern": {
           "shape": ""
          }
         },
         "name": "",
         "orientation": "v",
         "showlegend": false,
         "textposition": "auto",
         "type": "bar",
         "x": [
          "OWGR",
          "SGTTG_RANK",
          "SGTTG",
          "SGAPR_RANK",
          "PAR_4_RANK",
          "RECENT_FORM",
          "PAR_3_RANK",
          "VEGAS_ODDS",
          "SGAPR",
          "OWGR_RANK",
          "PAR_4",
          "CONSECUTIVE_CUTS",
          "PAR_3",
          "form_density",
          "CUT_PERCENTAGE",
          "FEDEX_CUP_POINTS",
          "BIRDIES_RANK",
          "BIRDIES",
          "SGOTT",
          "GIR",
          "SGOTT_RANK",
          "GIR_RANK",
          "SGATG",
          "TOTAL_DRIVING_RANK",
          "SGATG_RANK",
          "TOTAL_DRIVING",
          "DRIVING_ACCURACY",
          "SCRAMBLING_RANK",
          "DRIVING_ACCURACY_RANK",
          "PAR_5_RANK",
          "SCRAMBLING",
          "adj_form",
          "PAR_5",
          "adj_ch",
          "SGP",
          "SGP_RANK",
          "COURSE_HISTORY",
          "DRIVING_DISTANCE_RANK",
          "DRIVING_DISTANCE"
         ],
         "xaxis": "x",
         "y": {
          "bdata": "1KMFM1yy2D+SMI3ZUHTVP8NWmKBphtM/ZjEerfCr0D9QX032/FLQP3aHjnuUPdA/n0T0O5Qs0D+bskwhBSfPPwgAKQWPrM4/QMFsdc87zj/OOmH+1bTNP7tyR3fLZ80/aV4rmxExyz9oHoWRTnjKP4adyrhcIso/3b32C9y5yD/EEln/ZzDIP/CVNjlUccY/gW3Ir/1fxD/Bul2AdhPEP+ND8RYlDMQ/FrYXhVquwz9wZaHaHhnCP0ujv2hcSsE/uNpkk9IvwT+CXYGbwYrAP6Oq6eqQ+78/g29CvuFMvD98Ip5HSoK6PzpL/xKp/Lk/iqiat+YeuD9A0ApKk4O1P7xPyrF5VrU/xNabobrWsz+IDMrWUhqwPy+VUc/rBK4/gdPmVXY2pz8Xt35Qby2OP46lZRTLKHw/",
          "dtype": "f8"
         },
         "yaxis": "y"
        }
       ],
       "layout": {
        "barmode": "relative",
        "height": 500,
        "legend": {
         "tracegroupgap": 0
        },
        "template": {
         "data": {
          "bar": [
           {
            "error_x": {
             "color": "#f2f5fa"
            },
            "error_y": {
             "color": "#f2f5fa"
            },
            "marker": {
             "line": {
              "color": "rgb(17,17,17)",
              "width": 0.5
             },
             "pattern": {
              "fillmode": "overlay",
              "size": 10,
              "solidity": 0.2
             }
            },
            "type": "bar"
           }
          ],
          "barpolar": [
           {
            "marker": {
             "line": {
              "color": "rgb(17,17,17)",
              "width": 0.5
             },
             "pattern": {
              "fillmode": "overlay",
              "size": 10,
              "solidity": 0.2
             }
            },
            "type": "barpolar"
           }
          ],
          "carpet": [
           {
            "aaxis": {
             "endlinecolor": "#A2B1C6",
             "gridcolor": "#506784",
             "linecolor": "#506784",
             "minorgridcolor": "#506784",
             "startlinecolor": "#A2B1C6"
            },
            "baxis": {
             "endlinecolor": "#A2B1C6",
             "gridcolor": "#506784",
             "linecolor": "#506784",
             "minorgridcolor": "#506784",
             "startlinecolor": "#A2B1C6"
            },
            "type": "carpet"
           }
          ],
          "choropleth": [
           {
            "colorbar": {
             "outlinewidth": 0,
             "ticks": ""
            },
            "type": "choropleth"
           }
          ],
          "contour": [
           {
            "colorbar": {
             "outlinewidth": 0,
             "ticks": ""
            },
            "colorscale": [
             [
              0,
              "#0d0887"
             ],
             [
              0.1111111111111111,
              "#46039f"
             ],
             [
              0.2222222222222222,
              "#7201a8"
             ],
             [
              0.3333333333333333,
              "#9c179e"
             ],
             [
              0.4444444444444444,
              "#bd3786"
             ],
             [
              0.5555555555555556,
              "#d8576b"
             ],
             [
              0.6666666666666666,
              "#ed7953"
             ],
             [
              0.7777777777777778,
              "#fb9f3a"
             ],
             [
              0.8888888888888888,
              "#fdca26"
             ],
             [
              1,
              "#f0f921"
             ]
            ],
            "type": "contour"
           }
          ],
          "contourcarpet": [
           {
            "colorbar": {
             "outlinewidth": 0,
             "ticks": ""
            },
            "type": "contourcarpet"
           }
          ],
          "heatmap": [
           {
            "colorbar": {
             "outlinewidth": 0,
             "ticks": ""
            },
            "colorscale": [
             [
              0,
              "#0d0887"
             ],
             [
              0.1111111111111111,
              "#46039f"
             ],
             [
              0.2222222222222222,
              "#7201a8"
             ],
             [
              0.3333333333333333,
              "#9c179e"
             ],
             [
              0.4444444444444444,
              "#bd3786"
             ],
             [
              0.5555555555555556,
              "#d8576b"
             ],
             [
              0.6666666666666666,
              "#ed7953"
             ],
             [
              0.7777777777777778,
              "#fb9f3a"
             ],
             [
              0.8888888888888888,
              "#fdca26"
             ],
             [
              1,
              "#f0f921"
             ]
            ],
            "type": "heatmap"
           }
          ],
          "histogram": [
           {
            "marker": {
             "pattern": {
              "fillmode": "overlay",
              "size": 10,
              "solidity": 0.2
             }
            },
            "type": "histogram"
           }
          ],
          "histogram2d": [
           {
            "colorbar": {
             "outlinewidth": 0,
             "ticks": ""
            },
            "colorscale": [
             [
              0,
              "#0d0887"
             ],
             [
              0.1111111111111111,
              "#46039f"
             ],
             [
              0.2222222222222222,
              "#7201a8"
             ],
             [
              0.3333333333333333,
              "#9c179e"
             ],
             [
              0.4444444444444444,
              "#bd3786"
             ],
             [
              0.5555555555555556,
              "#d8576b"
             ],
             [
              0.6666666666666666,
              "#ed7953"
             ],
             [
              0.7777777777777778,
              "#fb9f3a"
             ],
             [
              0.8888888888888888,
              "#fdca26"
             ],
             [
              1,
              "#f0f921"
             ]
            ],
            "type": "histogram2d"
           }
          ],
          "histogram2dcontour": [
           {
            "colorbar": {
             "outlinewidth": 0,
             "ticks": ""
            },
            "colorscale": [
             [
              0,
              "#0d0887"
             ],
             [
              0.1111111111111111,
              "#46039f"
             ],
             [
              0.2222222222222222,
              "#7201a8"
             ],
             [
              0.3333333333333333,
              "#9c179e"
             ],
             [
              0.4444444444444444,
              "#bd3786"
             ],
             [
              0.5555555555555556,
              "#d8576b"
             ],
             [
              0.6666666666666666,
              "#ed7953"
             ],
             [
              0.7777777777777778,
              "#fb9f3a"
             ],
             [
              0.8888888888888888,
              "#fdca26"
             ],
             [
              1,
              "#f0f921"
             ]
            ],
            "type": "histogram2dcontour"
           }
          ],
          "mesh3d": [
           {
            "colorbar": {
             "outlinewidth": 0,
             "ticks": ""
            },
            "type": "mesh3d"
           }
          ],
          "parcoords": [
           {
            "line": {
             "colorbar": {
              "outlinewidth": 0,
              "ticks": ""
             }
            },
            "type": "parcoords"
           }
          ],
          "pie": [
           {
            "automargin": true,
            "type": "pie"
           }
          ],
          "scatter": [
           {
            "marker": {
             "line": {
              "color": "#283442"
             }
            },
            "type": "scatter"
           }
          ],
          "scatter3d": [
           {
            "line": {
             "colorbar": {
              "outlinewidth": 0,
              "ticks": ""
             }
            },
            "marker": {
             "colorbar": {
              "outlinewidth": 0,
              "ticks": ""
             }
            },
            "type": "scatter3d"
           }
          ],
          "scattercarpet": [
           {
            "marker": {
             "colorbar": {
              "outlinewidth": 0,
              "ticks": ""
             }
            },
            "type": "scattercarpet"
           }
          ],
          "scattergeo": [
           {
            "marker": {
             "colorbar": {
              "outlinewidth": 0,
              "ticks": ""
             }
            },
            "type": "scattergeo"
           }
          ],
          "scattergl": [
           {
            "marker": {
             "line": {
              "color": "#283442"
             }
            },
            "type": "scattergl"
           }
          ],
          "scattermap": [
           {
            "marker": {
             "colorbar": {
              "outlinewidth": 0,
              "ticks": ""
             }
            },
            "type": "scattermap"
           }
          ],
          "scattermapbox": [
           {
            "marker": {
             "colorbar": {
              "outlinewidth": 0,
              "ticks": ""
             }
            },
            "type": "scattermapbox"
           }
          ],
          "scatterpolar": [
           {
            "marker": {
             "colorbar": {
              "outlinewidth": 0,
              "ticks": ""
             }
            },
            "type": "scatterpolar"
           }
          ],
          "scatterpolargl": [
           {
            "marker": {
             "colorbar": {
              "outlinewidth": 0,
              "ticks": ""
             }
            },
            "type": "scatterpolargl"
           }
          ],
          "scatterternary": [
           {
            "marker": {
             "colorbar": {
              "outlinewidth": 0,
              "ticks": ""
             }
            },
            "type": "scatterternary"
           }
          ],
          "surface": [
           {
            "colorbar": {
             "outlinewidth": 0,
             "ticks": ""
            },
            "colorscale": [
             [
              0,
              "#0d0887"
             ],
             [
              0.1111111111111111,
              "#46039f"
             ],
             [
              0.2222222222222222,
              "#7201a8"
             ],
             [
              0.3333333333333333,
              "#9c179e"
             ],
             [
              0.4444444444444444,
              "#bd3786"
             ],
             [
              0.5555555555555556,
              "#d8576b"
             ],
             [
              0.6666666666666666,
              "#ed7953"
             ],
             [
              0.7777777777777778,
              "#fb9f3a"
             ],
             [
              0.8888888888888888,
              "#fdca26"
             ],
             [
              1,
              "#f0f921"
             ]
            ],
            "type": "surface"
           }
          ],
          "table": [
           {
            "cells": {
             "fill": {
              "color": "#506784"
             },
             "line": {
              "color": "rgb(17,17,17)"
             }
            },
            "header": {
             "fill": {
              "color": "#2a3f5f"
             },
             "line": {
              "color": "rgb(17,17,17)"
             }
            },
            "type": "table"
           }
          ]
         },
         "layout": {
          "annotationdefaults": {
           "arrowcolor": "#f2f5fa",
           "arrowhead": 0,
           "arrowwidth": 1
          },
          "autotypenumbers": "strict",
          "coloraxis": {
           "colorbar": {
            "outlinewidth": 0,
            "ticks": ""
           }
          },
          "colorscale": {
           "diverging": [
            [
             0,
             "#8e0152"
            ],
            [
             0.1,
             "#c51b7d"
            ],
            [
             0.2,
             "#de77ae"
            ],
            [
             0.3,
             "#f1b6da"
            ],
            [
             0.4,
             "#fde0ef"
            ],
            [
             0.5,
             "#f7f7f7"
            ],
            [
             0.6,
             "#e6f5d0"
            ],
            [
             0.7,
             "#b8e186"
            ],
            [
             0.8,
             "#7fbc41"
            ],
            [
             0.9,
             "#4d9221"
            ],
            [
             1,
             "#276419"
            ]
           ],
           "sequential": [
            [
             0,
             "#0d0887"
            ],
            [
             0.1111111111111111,
             "#46039f"
            ],
            [
             0.2222222222222222,
             "#7201a8"
            ],
            [
             0.3333333333333333,
             "#9c179e"
            ],
            [
             0.4444444444444444,
             "#bd3786"
            ],
            [
             0.5555555555555556,
             "#d8576b"
            ],
            [
             0.6666666666666666,
             "#ed7953"
            ],
            [
             0.7777777777777778,
             "#fb9f3a"
            ],
            [
             0.8888888888888888,
             "#fdca26"
            ],
            [
             1,
             "#f0f921"
            ]
           ],
           "sequentialminus": [
            [
             0,
             "#0d0887"
            ],
            [
             0.1111111111111111,
             "#46039f"
            ],
            [
             0.2222222222222222,
             "#7201a8"
            ],
            [
             0.3333333333333333,
             "#9c179e"
            ],
            [
             0.4444444444444444,
             "#bd3786"
            ],
            [
             0.5555555555555556,
             "#d8576b"
            ],
            [
             0.6666666666666666,
             "#ed7953"
            ],
            [
             0.7777777777777778,
             "#fb9f3a"
            ],
            [
             0.8888888888888888,
             "#fdca26"
            ],
            [
             1,
             "#f0f921"
            ]
           ]
          },
          "colorway": [
           "#636efa",
           "#EF553B",
           "#00cc96",
           "#ab63fa",
           "#FFA15A",
           "#19d3f3",
           "#FF6692",
           "#B6E880",
           "#FF97FF",
           "#FECB52"
          ],
          "font": {
           "color": "#f2f5fa"
          },
          "geo": {
           "bgcolor": "rgb(17,17,17)",
           "lakecolor": "rgb(17,17,17)",
           "landcolor": "rgb(17,17,17)",
           "showlakes": true,
           "showland": true,
           "subunitcolor": "#506784"
          },
          "hoverlabel": {
           "align": "left"
          },
          "hovermode": "closest",
          "mapbox": {
           "style": "dark"
          },
          "paper_bgcolor": "rgb(17,17,17)",
          "plot_bgcolor": "rgb(17,17,17)",
          "polar": {
           "angularaxis": {
            "gridcolor": "#506784",
            "linecolor": "#506784",
            "ticks": ""
           },
           "bgcolor": "rgb(17,17,17)",
           "radialaxis": {
            "gridcolor": "#506784",
            "linecolor": "#506784",
            "ticks": ""
           }
          },
          "scene": {
           "xaxis": {
            "backgroundcolor": "rgb(17,17,17)",
            "gridcolor": "#506784",
            "gridwidth": 2,
            "linecolor": "#506784",
            "showbackground": true,
            "ticks": "",
            "zerolinecolor": "#C8D4E3"
           },
           "yaxis": {
            "backgroundcolor": "rgb(17,17,17)",
            "gridcolor": "#506784",
            "gridwidth": 2,
            "linecolor": "#506784",
            "showbackground": true,
            "ticks": "",
            "zerolinecolor": "#C8D4E3"
           },
           "zaxis": {
            "backgroundcolor": "rgb(17,17,17)",
            "gridcolor": "#506784",
            "gridwidth": 2,
            "linecolor": "#506784",
            "showbackground": true,
            "ticks": "",
            "zerolinecolor": "#C8D4E3"
           }
          },
          "shapedefaults": {
           "line": {
            "color": "#f2f5fa"
           }
          },
          "sliderdefaults": {
           "bgcolor": "#C8D4E3",
           "bordercolor": "rgb(17,17,17)",
           "borderwidth": 1,
           "tickwidth": 0
          },
          "ternary": {
           "aaxis": {
            "gridcolor": "#506784",
            "linecolor": "#506784",
            "ticks": ""
           },
           "baxis": {
            "gridcolor": "#506784",
            "linecolor": "#506784",
            "ticks": ""
           },
           "bgcolor": "rgb(17,17,17)",
           "caxis": {
            "gridcolor": "#506784",
            "linecolor": "#506784",
            "ticks": ""
           }
          },
          "title": {
           "x": 0.05
          },
          "updatemenudefaults": {
           "bgcolor": "#506784",
           "borderwidth": 0
          },
          "xaxis": {
           "automargin": true,
           "gridcolor": "#283442",
           "linecolor": "#506784",
           "ticks": "",
           "title": {
            "standoff": 15
           },
           "zerolinecolor": "#283442",
           "zerolinewidth": 2
          },
          "yaxis": {
           "automargin": true,
           "gridcolor": "#283442",
           "linecolor": "#506784",
           "ticks": "",
           "title": {
            "standoff": 15
           },
           "zerolinecolor": "#283442",
           "zerolinewidth": 2
          }
         }
        },
        "title": {
         "text": "🔎 Correlation to TOP_20 — Season 2023"
        },
        "width": 1000,
        "xaxis": {
         "anchor": "y",
         "domain": [
          0,
          1
         ],
         "tickangle": -45,
         "title": {
          "text": "Feature"
         }
        },
        "yaxis": {
         "anchor": "x",
         "domain": [
          0,
          1
         ],
         "title": {
          "text": "Absolute Correlation to TOP_20"
         }
        }
       }
      }
     },
     "metadata": {},
     "output_type": "display_data"
    },
    {
     "data": {
      "application/vnd.plotly.v1+json": {
       "config": {
        "plotlyServerURL": "https://plot.ly"
       },
       "data": [
        {
         "hovertemplate": "Feature=%{x}<br>Correlation=%{y}<extra></extra>",
         "legendgroup": "",
         "marker": {
          "color": "#636efa",
          "pattern": {
           "shape": ""
          }
         },
         "name": "",
         "orientation": "v",
         "showlegend": false,
         "textposition": "auto",
         "type": "bar",
         "x": [
          "SGTTG_RANK",
          "OWGR",
          "PAR_3_RANK",
          "SGTTG",
          "PAR_3",
          "SCRAMBLING_RANK",
          "SCRAMBLING",
          "BIRDIES",
          "RECENT_FORM",
          "OWGR_RANK",
          "VEGAS_ODDS",
          "SGAPR_RANK",
          "PAR_4",
          "PAR_4_RANK",
          "BIRDIES_RANK",
          "SGAPR",
          "PAR_5",
          "FEDEX_CUP_POINTS",
          "PAR_5_RANK",
          "SGATG_RANK",
          "CUT_PERCENTAGE",
          "SGOTT_RANK",
          "form_density",
          "SGATG",
          "SGOTT",
          "COURSE_HISTORY",
          "TOTAL_DRIVING",
          "TOTAL_DRIVING_RANK",
          "GIR",
          "GIR_RANK",
          "SGP_RANK",
          "SGP",
          "adj_form",
          "DRIVING_ACCURACY",
          "adj_ch",
          "DRIVING_ACCURACY_RANK",
          "CONSECUTIVE_CUTS",
          "DRIVING_DISTANCE",
          "DRIVING_DISTANCE_RANK"
         ],
         "xaxis": "x",
         "y": {
          "bdata": "52e3Eq/02j+nl7Wsl+raPxva9iw3Rtk/YEEFaXG72D8lBci1n8XWP8wHDokxetY/iewIL0401j9MtTELv5XUP3ADFw5RNNQ/d/nM2eAb1D/Szc/VdqrTPx5AUkPd9dI/xVZyMdPF0j+G3yEDUZnSPxypXeRcXdI/lObifogf0j/EhtqsXuzRP8uNlljdPNA/ZW6zBkEk0D8l0By1j0rPP4njagOn6c4/rU/r+p6rzj8R2kaoQRjOP3rlcOMnWs0/ghXrMe6jyz/HsImrAwTLP9eUFXTx98I/j4lU85mBwj/xVGQf60jBP7gOn7gDd8A/3W1ZfurRvj8U+vtVC6e+P7UccK1lOL4/wLMPfZObvT+mT5BfGJS9P42u0Al8Vrs/DcH2WNG5uj+2le4dAR2rPx/rV9Jfw4o/",
          "dtype": "f8"
         },
         "yaxis": "y"
        }
       ],
       "layout": {
        "barmode": "relative",
        "height": 500,
        "legend": {
         "tracegroupgap": 0
        },
        "template": {
         "data": {
          "bar": [
           {
            "error_x": {
             "color": "#f2f5fa"
            },
            "error_y": {
             "color": "#f2f5fa"
            },
            "marker": {
             "line": {
              "color": "rgb(17,17,17)",
              "width": 0.5
             },
             "pattern": {
              "fillmode": "overlay",
              "size": 10,
              "solidity": 0.2
             }
            },
            "type": "bar"
           }
          ],
          "barpolar": [
           {
            "marker": {
             "line": {
              "color": "rgb(17,17,17)",
              "width": 0.5
             },
             "pattern": {
              "fillmode": "overlay",
              "size": 10,
              "solidity": 0.2
             }
            },
            "type": "barpolar"
           }
          ],
          "carpet": [
           {
            "aaxis": {
             "endlinecolor": "#A2B1C6",
             "gridcolor": "#506784",
             "linecolor": "#506784",
             "minorgridcolor": "#506784",
             "startlinecolor": "#A2B1C6"
            },
            "baxis": {
             "endlinecolor": "#A2B1C6",
             "gridcolor": "#506784",
             "linecolor": "#506784",
             "minorgridcolor": "#506784",
             "startlinecolor": "#A2B1C6"
            },
            "type": "carpet"
           }
          ],
          "choropleth": [
           {
            "colorbar": {
             "outlinewidth": 0,
             "ticks": ""
            },
            "type": "choropleth"
           }
          ],
          "contour": [
           {
            "colorbar": {
             "outlinewidth": 0,
             "ticks": ""
            },
            "colorscale": [
             [
              0,
              "#0d0887"
             ],
             [
              0.1111111111111111,
              "#46039f"
             ],
             [
              0.2222222222222222,
              "#7201a8"
             ],
             [
              0.3333333333333333,
              "#9c179e"
             ],
             [
              0.4444444444444444,
              "#bd3786"
             ],
             [
              0.5555555555555556,
              "#d8576b"
             ],
             [
              0.6666666666666666,
              "#ed7953"
             ],
             [
              0.7777777777777778,
              "#fb9f3a"
             ],
             [
              0.8888888888888888,
              "#fdca26"
             ],
             [
              1,
              "#f0f921"
             ]
            ],
            "type": "contour"
           }
          ],
          "contourcarpet": [
           {
            "colorbar": {
             "outlinewidth": 0,
             "ticks": ""
            },
            "type": "contourcarpet"
           }
          ],
          "heatmap": [
           {
            "colorbar": {
             "outlinewidth": 0,
             "ticks": ""
            },
            "colorscale": [
             [
              0,
              "#0d0887"
             ],
             [
              0.1111111111111111,
              "#46039f"
             ],
             [
              0.2222222222222222,
              "#7201a8"
             ],
             [
              0.3333333333333333,
              "#9c179e"
             ],
             [
              0.4444444444444444,
              "#bd3786"
             ],
             [
              0.5555555555555556,
              "#d8576b"
             ],
             [
              0.6666666666666666,
              "#ed7953"
             ],
             [
              0.7777777777777778,
              "#fb9f3a"
             ],
             [
              0.8888888888888888,
              "#fdca26"
             ],
             [
              1,
              "#f0f921"
             ]
            ],
            "type": "heatmap"
           }
          ],
          "histogram": [
           {
            "marker": {
             "pattern": {
              "fillmode": "overlay",
              "size": 10,
              "solidity": 0.2
             }
            },
            "type": "histogram"
           }
          ],
          "histogram2d": [
           {
            "colorbar": {
             "outlinewidth": 0,
             "ticks": ""
            },
            "colorscale": [
             [
              0,
              "#0d0887"
             ],
             [
              0.1111111111111111,
              "#46039f"
             ],
             [
              0.2222222222222222,
              "#7201a8"
             ],
             [
              0.3333333333333333,
              "#9c179e"
             ],
             [
              0.4444444444444444,
              "#bd3786"
             ],
             [
              0.5555555555555556,
              "#d8576b"
             ],
             [
              0.6666666666666666,
              "#ed7953"
             ],
             [
              0.7777777777777778,
              "#fb9f3a"
             ],
             [
              0.8888888888888888,
              "#fdca26"
             ],
             [
              1,
              "#f0f921"
             ]
            ],
            "type": "histogram2d"
           }
          ],
          "histogram2dcontour": [
           {
            "colorbar": {
             "outlinewidth": 0,
             "ticks": ""
            },
            "colorscale": [
             [
              0,
              "#0d0887"
             ],
             [
              0.1111111111111111,
              "#46039f"
             ],
             [
              0.2222222222222222,
              "#7201a8"
             ],
             [
              0.3333333333333333,
              "#9c179e"
             ],
             [
              0.4444444444444444,
              "#bd3786"
             ],
             [
              0.5555555555555556,
              "#d8576b"
             ],
             [
              0.6666666666666666,
              "#ed7953"
             ],
             [
              0.7777777777777778,
              "#fb9f3a"
             ],
             [
              0.8888888888888888,
              "#fdca26"
             ],
             [
              1,
              "#f0f921"
             ]
            ],
            "type": "histogram2dcontour"
           }
          ],
          "mesh3d": [
           {
            "colorbar": {
             "outlinewidth": 0,
             "ticks": ""
            },
            "type": "mesh3d"
           }
          ],
          "parcoords": [
           {
            "line": {
             "colorbar": {
              "outlinewidth": 0,
              "ticks": ""
             }
            },
            "type": "parcoords"
           }
          ],
          "pie": [
           {
            "automargin": true,
            "type": "pie"
           }
          ],
          "scatter": [
           {
            "marker": {
             "line": {
              "color": "#283442"
             }
            },
            "type": "scatter"
           }
          ],
          "scatter3d": [
           {
            "line": {
             "colorbar": {
              "outlinewidth": 0,
              "ticks": ""
             }
            },
            "marker": {
             "colorbar": {
              "outlinewidth": 0,
              "ticks": ""
             }
            },
            "type": "scatter3d"
           }
          ],
          "scattercarpet": [
           {
            "marker": {
             "colorbar": {
              "outlinewidth": 0,
              "ticks": ""
             }
            },
            "type": "scattercarpet"
           }
          ],
          "scattergeo": [
           {
            "marker": {
             "colorbar": {
              "outlinewidth": 0,
              "ticks": ""
             }
            },
            "type": "scattergeo"
           }
          ],
          "scattergl": [
           {
            "marker": {
             "line": {
              "color": "#283442"
             }
            },
            "type": "scattergl"
           }
          ],
          "scattermap": [
           {
            "marker": {
             "colorbar": {
              "outlinewidth": 0,
              "ticks": ""
             }
            },
            "type": "scattermap"
           }
          ],
          "scattermapbox": [
           {
            "marker": {
             "colorbar": {
              "outlinewidth": 0,
              "ticks": ""
             }
            },
            "type": "scattermapbox"
           }
          ],
          "scatterpolar": [
           {
            "marker": {
             "colorbar": {
              "outlinewidth": 0,
              "ticks": ""
             }
            },
            "type": "scatterpolar"
           }
          ],
          "scatterpolargl": [
           {
            "marker": {
             "colorbar": {
              "outlinewidth": 0,
              "ticks": ""
             }
            },
            "type": "scatterpolargl"
           }
          ],
          "scatterternary": [
           {
            "marker": {
             "colorbar": {
              "outlinewidth": 0,
              "ticks": ""
             }
            },
            "type": "scatterternary"
           }
          ],
          "surface": [
           {
            "colorbar": {
             "outlinewidth": 0,
             "ticks": ""
            },
            "colorscale": [
             [
              0,
              "#0d0887"
             ],
             [
              0.1111111111111111,
              "#46039f"
             ],
             [
              0.2222222222222222,
              "#7201a8"
             ],
             [
              0.3333333333333333,
              "#9c179e"
             ],
             [
              0.4444444444444444,
              "#bd3786"
             ],
             [
              0.5555555555555556,
              "#d8576b"
             ],
             [
              0.6666666666666666,
              "#ed7953"
             ],
             [
              0.7777777777777778,
              "#fb9f3a"
             ],
             [
              0.8888888888888888,
              "#fdca26"
             ],
             [
              1,
              "#f0f921"
             ]
            ],
            "type": "surface"
           }
          ],
          "table": [
           {
            "cells": {
             "fill": {
              "color": "#506784"
             },
             "line": {
              "color": "rgb(17,17,17)"
             }
            },
            "header": {
             "fill": {
              "color": "#2a3f5f"
             },
             "line": {
              "color": "rgb(17,17,17)"
             }
            },
            "type": "table"
           }
          ]
         },
         "layout": {
          "annotationdefaults": {
           "arrowcolor": "#f2f5fa",
           "arrowhead": 0,
           "arrowwidth": 1
          },
          "autotypenumbers": "strict",
          "coloraxis": {
           "colorbar": {
            "outlinewidth": 0,
            "ticks": ""
           }
          },
          "colorscale": {
           "diverging": [
            [
             0,
             "#8e0152"
            ],
            [
             0.1,
             "#c51b7d"
            ],
            [
             0.2,
             "#de77ae"
            ],
            [
             0.3,
             "#f1b6da"
            ],
            [
             0.4,
             "#fde0ef"
            ],
            [
             0.5,
             "#f7f7f7"
            ],
            [
             0.6,
             "#e6f5d0"
            ],
            [
             0.7,
             "#b8e186"
            ],
            [
             0.8,
             "#7fbc41"
            ],
            [
             0.9,
             "#4d9221"
            ],
            [
             1,
             "#276419"
            ]
           ],
           "sequential": [
            [
             0,
             "#0d0887"
            ],
            [
             0.1111111111111111,
             "#46039f"
            ],
            [
             0.2222222222222222,
             "#7201a8"
            ],
            [
             0.3333333333333333,
             "#9c179e"
            ],
            [
             0.4444444444444444,
             "#bd3786"
            ],
            [
             0.5555555555555556,
             "#d8576b"
            ],
            [
             0.6666666666666666,
             "#ed7953"
            ],
            [
             0.7777777777777778,
             "#fb9f3a"
            ],
            [
             0.8888888888888888,
             "#fdca26"
            ],
            [
             1,
             "#f0f921"
            ]
           ],
           "sequentialminus": [
            [
             0,
             "#0d0887"
            ],
            [
             0.1111111111111111,
             "#46039f"
            ],
            [
             0.2222222222222222,
             "#7201a8"
            ],
            [
             0.3333333333333333,
             "#9c179e"
            ],
            [
             0.4444444444444444,
             "#bd3786"
            ],
            [
             0.5555555555555556,
             "#d8576b"
            ],
            [
             0.6666666666666666,
             "#ed7953"
            ],
            [
             0.7777777777777778,
             "#fb9f3a"
            ],
            [
             0.8888888888888888,
             "#fdca26"
            ],
            [
             1,
             "#f0f921"
            ]
           ]
          },
          "colorway": [
           "#636efa",
           "#EF553B",
           "#00cc96",
           "#ab63fa",
           "#FFA15A",
           "#19d3f3",
           "#FF6692",
           "#B6E880",
           "#FF97FF",
           "#FECB52"
          ],
          "font": {
           "color": "#f2f5fa"
          },
          "geo": {
           "bgcolor": "rgb(17,17,17)",
           "lakecolor": "rgb(17,17,17)",
           "landcolor": "rgb(17,17,17)",
           "showlakes": true,
           "showland": true,
           "subunitcolor": "#506784"
          },
          "hoverlabel": {
           "align": "left"
          },
          "hovermode": "closest",
          "mapbox": {
           "style": "dark"
          },
          "paper_bgcolor": "rgb(17,17,17)",
          "plot_bgcolor": "rgb(17,17,17)",
          "polar": {
           "angularaxis": {
            "gridcolor": "#506784",
            "linecolor": "#506784",
            "ticks": ""
           },
           "bgcolor": "rgb(17,17,17)",
           "radialaxis": {
            "gridcolor": "#506784",
            "linecolor": "#506784",
            "ticks": ""
           }
          },
          "scene": {
           "xaxis": {
            "backgroundcolor": "rgb(17,17,17)",
            "gridcolor": "#506784",
            "gridwidth": 2,
            "linecolor": "#506784",
            "showbackground": true,
            "ticks": "",
            "zerolinecolor": "#C8D4E3"
           },
           "yaxis": {
            "backgroundcolor": "rgb(17,17,17)",
            "gridcolor": "#506784",
            "gridwidth": 2,
            "linecolor": "#506784",
            "showbackground": true,
            "ticks": "",
            "zerolinecolor": "#C8D4E3"
           },
           "zaxis": {
            "backgroundcolor": "rgb(17,17,17)",
            "gridcolor": "#506784",
            "gridwidth": 2,
            "linecolor": "#506784",
            "showbackground": true,
            "ticks": "",
            "zerolinecolor": "#C8D4E3"
           }
          },
          "shapedefaults": {
           "line": {
            "color": "#f2f5fa"
           }
          },
          "sliderdefaults": {
           "bgcolor": "#C8D4E3",
           "bordercolor": "rgb(17,17,17)",
           "borderwidth": 1,
           "tickwidth": 0
          },
          "ternary": {
           "aaxis": {
            "gridcolor": "#506784",
            "linecolor": "#506784",
            "ticks": ""
           },
           "baxis": {
            "gridcolor": "#506784",
            "linecolor": "#506784",
            "ticks": ""
           },
           "bgcolor": "rgb(17,17,17)",
           "caxis": {
            "gridcolor": "#506784",
            "linecolor": "#506784",
            "ticks": ""
           }
          },
          "title": {
           "x": 0.05
          },
          "updatemenudefaults": {
           "bgcolor": "#506784",
           "borderwidth": 0
          },
          "xaxis": {
           "automargin": true,
           "gridcolor": "#283442",
           "linecolor": "#506784",
           "ticks": "",
           "title": {
            "standoff": 15
           },
           "zerolinecolor": "#283442",
           "zerolinewidth": 2
          },
          "yaxis": {
           "automargin": true,
           "gridcolor": "#283442",
           "linecolor": "#506784",
           "ticks": "",
           "title": {
            "standoff": 15
           },
           "zerolinecolor": "#283442",
           "zerolinewidth": 2
          }
         }
        },
        "title": {
         "text": "🔎 Correlation to TOP_20 — Season 2024"
        },
        "width": 1000,
        "xaxis": {
         "anchor": "y",
         "domain": [
          0,
          1
         ],
         "tickangle": -45,
         "title": {
          "text": "Feature"
         }
        },
        "yaxis": {
         "anchor": "x",
         "domain": [
          0,
          1
         ],
         "title": {
          "text": "Absolute Correlation to TOP_20"
         }
        }
       }
      }
     },
     "metadata": {},
     "output_type": "display_data"
    }
   ],
   "source": [
    "import plotly.express as px\n",
    "\n",
    "# Get the 4 most recent seasons (or fewer if not available)\n",
    "available_seasons = sorted(training_df[\"SEASON\"].unique())[-4:]\n",
    "\n",
    "# Dictionary to store correlation results\n",
    "correlation_frames = {}\n",
    "\n",
    "# Calculate correlations for each season\n",
    "for season in available_seasons:\n",
    "    df = training_df[training_df[\"SEASON\"] == season].copy()\n",
    "\n",
    "    # Numeric features only, drop final result\n",
    "    numeric = df.select_dtypes(include=[\"float64\", \"int64\"]).drop(columns=[\"FINAL_POS\", \"SEASON\"], errors=\"ignore\")\n",
    "\n",
    "    # Skip if TOP_20 is not present\n",
    "    if \"TOP_20\" not in numeric.columns:\n",
    "        continue\n",
    "\n",
    "    # Correlation with TOP_20\n",
    "    cor = numeric.corr().abs()[\"TOP_20\"].drop(\"TOP_20\", errors=\"ignore\").sort_values(ascending=False)\n",
    "    cor_df = cor.reset_index()\n",
    "    cor_df.columns = [\"Feature\", \"Correlation\"]\n",
    "    correlation_frames[season] = cor_df\n",
    "\n",
    "# Plot one bar chart per season\n",
    "for season, cor_df in correlation_frames.items():\n",
    "    fig = px.bar(\n",
    "        cor_df,\n",
    "        x=\"Feature\",\n",
    "        y=\"Correlation\",\n",
    "        title=f\"🔎 Correlation to TOP_20 — Season {int(season)}\",\n",
    "        height=500,\n",
    "        width=1000\n",
    "    )\n",
    "\n",
    "    fig.update_layout(\n",
    "        xaxis_title=\"Feature\",\n",
    "        yaxis_title=\"Absolute Correlation to TOP_20\",\n",
    "        template=\"plotly_dark\",\n",
    "        xaxis_tickangle=-45\n",
    "    )\n",
    "\n",
    "    fig.show()\n"
   ]
  },
  {
   "cell_type": "markdown",
   "id": "07c346c9",
   "metadata": {},
   "source": [
    "**Average of Last 4 Years**"
   ]
  },
  {
   "cell_type": "code",
   "execution_count": 26,
   "id": "aee0c2ea",
   "metadata": {},
   "outputs": [
    {
     "data": {
      "application/vnd.plotly.v1+json": {
       "config": {
        "plotlyServerURL": "https://plot.ly"
       },
       "data": [
        {
         "hovertemplate": "Feature=%{x}<br>Avg Correlation=%{y}<extra></extra>",
         "legendgroup": "",
         "marker": {
          "color": "#636efa",
          "pattern": {
           "shape": ""
          }
         },
         "name": "",
         "orientation": "v",
         "showlegend": false,
         "textposition": "auto",
         "type": "bar",
         "x": [
          "OWGR",
          "SGTTG_RANK",
          "SGTTG",
          "RECENT_FORM",
          "OWGR_RANK",
          "PAR_4_RANK",
          "PAR_4",
          "PAR_3_RANK",
          "SGAPR_RANK",
          "VEGAS_ODDS",
          "BIRDIES",
          "FEDEX_CUP_POINTS",
          "SGAPR",
          "CUT_PERCENTAGE",
          "form_density",
          "BIRDIES_RANK",
          "PAR_3",
          "SCRAMBLING",
          "SCRAMBLING_RANK",
          "PAR_5",
          "PAR_5_RANK",
          "CONSECUTIVE_CUTS",
          "SGOTT",
          "GIR",
          "GIR_RANK",
          "SGOTT_RANK",
          "SGATG",
          "adj_form",
          "TOTAL_DRIVING",
          "TOTAL_DRIVING_RANK",
          "SGATG_RANK",
          "SGP",
          "SGP_RANK",
          "DRIVING_ACCURACY",
          "COURSE_HISTORY",
          "DRIVING_ACCURACY_RANK",
          "DRIVING_DISTANCE",
          "adj_ch",
          "DRIVING_DISTANCE_RANK"
         ],
         "xaxis": "x",
         "y": {
          "bdata": "R3tZi/VQ2D+Zr5aYgBzWP7SRCX8EidQ/1MYCD18z0z9Er6Me0sbSP81w0zsZBtI/7Ix+EDui0T8JmgDEwgDRP050uOpLxdA/5DNC6CZ80D9HsBcHIEfQP0x6CGcXJdA/RxXGXk0i0D+xll0wUBrQP6g+4XAQ784/4RewFcSrzj8KGiVzukPOP1oGrT9A/s0/jG0FCt9yzT/viPP/TrvJP0LN7XIHWMk/jUwknP1PyT8MS8gQ3wPHP8R0BR5+78Y/UJFtkjCPxj8zJ7RZkl3GP8I5vW/q1sI/Fw6Xz0TTwT+G0Cl8QbfBP9FHPUvPJsE/lLMuRzHawD9w/VDfJw/APwY0659HZL4/wjpS3fZvuj+43+SoMWK3P7tTncVFD7Y/kN2kxrNnsj9nebFa6rmwP/iFQNb+r6o/",
          "dtype": "f8"
         },
         "yaxis": "y"
        }
       ],
       "layout": {
        "barmode": "relative",
        "height": 600,
        "legend": {
         "tracegroupgap": 0
        },
        "showlegend": false,
        "template": {
         "data": {
          "bar": [
           {
            "error_x": {
             "color": "#f2f5fa"
            },
            "error_y": {
             "color": "#f2f5fa"
            },
            "marker": {
             "line": {
              "color": "rgb(17,17,17)",
              "width": 0.5
             },
             "pattern": {
              "fillmode": "overlay",
              "size": 10,
              "solidity": 0.2
             }
            },
            "type": "bar"
           }
          ],
          "barpolar": [
           {
            "marker": {
             "line": {
              "color": "rgb(17,17,17)",
              "width": 0.5
             },
             "pattern": {
              "fillmode": "overlay",
              "size": 10,
              "solidity": 0.2
             }
            },
            "type": "barpolar"
           }
          ],
          "carpet": [
           {
            "aaxis": {
             "endlinecolor": "#A2B1C6",
             "gridcolor": "#506784",
             "linecolor": "#506784",
             "minorgridcolor": "#506784",
             "startlinecolor": "#A2B1C6"
            },
            "baxis": {
             "endlinecolor": "#A2B1C6",
             "gridcolor": "#506784",
             "linecolor": "#506784",
             "minorgridcolor": "#506784",
             "startlinecolor": "#A2B1C6"
            },
            "type": "carpet"
           }
          ],
          "choropleth": [
           {
            "colorbar": {
             "outlinewidth": 0,
             "ticks": ""
            },
            "type": "choropleth"
           }
          ],
          "contour": [
           {
            "colorbar": {
             "outlinewidth": 0,
             "ticks": ""
            },
            "colorscale": [
             [
              0,
              "#0d0887"
             ],
             [
              0.1111111111111111,
              "#46039f"
             ],
             [
              0.2222222222222222,
              "#7201a8"
             ],
             [
              0.3333333333333333,
              "#9c179e"
             ],
             [
              0.4444444444444444,
              "#bd3786"
             ],
             [
              0.5555555555555556,
              "#d8576b"
             ],
             [
              0.6666666666666666,
              "#ed7953"
             ],
             [
              0.7777777777777778,
              "#fb9f3a"
             ],
             [
              0.8888888888888888,
              "#fdca26"
             ],
             [
              1,
              "#f0f921"
             ]
            ],
            "type": "contour"
           }
          ],
          "contourcarpet": [
           {
            "colorbar": {
             "outlinewidth": 0,
             "ticks": ""
            },
            "type": "contourcarpet"
           }
          ],
          "heatmap": [
           {
            "colorbar": {
             "outlinewidth": 0,
             "ticks": ""
            },
            "colorscale": [
             [
              0,
              "#0d0887"
             ],
             [
              0.1111111111111111,
              "#46039f"
             ],
             [
              0.2222222222222222,
              "#7201a8"
             ],
             [
              0.3333333333333333,
              "#9c179e"
             ],
             [
              0.4444444444444444,
              "#bd3786"
             ],
             [
              0.5555555555555556,
              "#d8576b"
             ],
             [
              0.6666666666666666,
              "#ed7953"
             ],
             [
              0.7777777777777778,
              "#fb9f3a"
             ],
             [
              0.8888888888888888,
              "#fdca26"
             ],
             [
              1,
              "#f0f921"
             ]
            ],
            "type": "heatmap"
           }
          ],
          "histogram": [
           {
            "marker": {
             "pattern": {
              "fillmode": "overlay",
              "size": 10,
              "solidity": 0.2
             }
            },
            "type": "histogram"
           }
          ],
          "histogram2d": [
           {
            "colorbar": {
             "outlinewidth": 0,
             "ticks": ""
            },
            "colorscale": [
             [
              0,
              "#0d0887"
             ],
             [
              0.1111111111111111,
              "#46039f"
             ],
             [
              0.2222222222222222,
              "#7201a8"
             ],
             [
              0.3333333333333333,
              "#9c179e"
             ],
             [
              0.4444444444444444,
              "#bd3786"
             ],
             [
              0.5555555555555556,
              "#d8576b"
             ],
             [
              0.6666666666666666,
              "#ed7953"
             ],
             [
              0.7777777777777778,
              "#fb9f3a"
             ],
             [
              0.8888888888888888,
              "#fdca26"
             ],
             [
              1,
              "#f0f921"
             ]
            ],
            "type": "histogram2d"
           }
          ],
          "histogram2dcontour": [
           {
            "colorbar": {
             "outlinewidth": 0,
             "ticks": ""
            },
            "colorscale": [
             [
              0,
              "#0d0887"
             ],
             [
              0.1111111111111111,
              "#46039f"
             ],
             [
              0.2222222222222222,
              "#7201a8"
             ],
             [
              0.3333333333333333,
              "#9c179e"
             ],
             [
              0.4444444444444444,
              "#bd3786"
             ],
             [
              0.5555555555555556,
              "#d8576b"
             ],
             [
              0.6666666666666666,
              "#ed7953"
             ],
             [
              0.7777777777777778,
              "#fb9f3a"
             ],
             [
              0.8888888888888888,
              "#fdca26"
             ],
             [
              1,
              "#f0f921"
             ]
            ],
            "type": "histogram2dcontour"
           }
          ],
          "mesh3d": [
           {
            "colorbar": {
             "outlinewidth": 0,
             "ticks": ""
            },
            "type": "mesh3d"
           }
          ],
          "parcoords": [
           {
            "line": {
             "colorbar": {
              "outlinewidth": 0,
              "ticks": ""
             }
            },
            "type": "parcoords"
           }
          ],
          "pie": [
           {
            "automargin": true,
            "type": "pie"
           }
          ],
          "scatter": [
           {
            "marker": {
             "line": {
              "color": "#283442"
             }
            },
            "type": "scatter"
           }
          ],
          "scatter3d": [
           {
            "line": {
             "colorbar": {
              "outlinewidth": 0,
              "ticks": ""
             }
            },
            "marker": {
             "colorbar": {
              "outlinewidth": 0,
              "ticks": ""
             }
            },
            "type": "scatter3d"
           }
          ],
          "scattercarpet": [
           {
            "marker": {
             "colorbar": {
              "outlinewidth": 0,
              "ticks": ""
             }
            },
            "type": "scattercarpet"
           }
          ],
          "scattergeo": [
           {
            "marker": {
             "colorbar": {
              "outlinewidth": 0,
              "ticks": ""
             }
            },
            "type": "scattergeo"
           }
          ],
          "scattergl": [
           {
            "marker": {
             "line": {
              "color": "#283442"
             }
            },
            "type": "scattergl"
           }
          ],
          "scattermap": [
           {
            "marker": {
             "colorbar": {
              "outlinewidth": 0,
              "ticks": ""
             }
            },
            "type": "scattermap"
           }
          ],
          "scattermapbox": [
           {
            "marker": {
             "colorbar": {
              "outlinewidth": 0,
              "ticks": ""
             }
            },
            "type": "scattermapbox"
           }
          ],
          "scatterpolar": [
           {
            "marker": {
             "colorbar": {
              "outlinewidth": 0,
              "ticks": ""
             }
            },
            "type": "scatterpolar"
           }
          ],
          "scatterpolargl": [
           {
            "marker": {
             "colorbar": {
              "outlinewidth": 0,
              "ticks": ""
             }
            },
            "type": "scatterpolargl"
           }
          ],
          "scatterternary": [
           {
            "marker": {
             "colorbar": {
              "outlinewidth": 0,
              "ticks": ""
             }
            },
            "type": "scatterternary"
           }
          ],
          "surface": [
           {
            "colorbar": {
             "outlinewidth": 0,
             "ticks": ""
            },
            "colorscale": [
             [
              0,
              "#0d0887"
             ],
             [
              0.1111111111111111,
              "#46039f"
             ],
             [
              0.2222222222222222,
              "#7201a8"
             ],
             [
              0.3333333333333333,
              "#9c179e"
             ],
             [
              0.4444444444444444,
              "#bd3786"
             ],
             [
              0.5555555555555556,
              "#d8576b"
             ],
             [
              0.6666666666666666,
              "#ed7953"
             ],
             [
              0.7777777777777778,
              "#fb9f3a"
             ],
             [
              0.8888888888888888,
              "#fdca26"
             ],
             [
              1,
              "#f0f921"
             ]
            ],
            "type": "surface"
           }
          ],
          "table": [
           {
            "cells": {
             "fill": {
              "color": "#506784"
             },
             "line": {
              "color": "rgb(17,17,17)"
             }
            },
            "header": {
             "fill": {
              "color": "#2a3f5f"
             },
             "line": {
              "color": "rgb(17,17,17)"
             }
            },
            "type": "table"
           }
          ]
         },
         "layout": {
          "annotationdefaults": {
           "arrowcolor": "#f2f5fa",
           "arrowhead": 0,
           "arrowwidth": 1
          },
          "autotypenumbers": "strict",
          "coloraxis": {
           "colorbar": {
            "outlinewidth": 0,
            "ticks": ""
           }
          },
          "colorscale": {
           "diverging": [
            [
             0,
             "#8e0152"
            ],
            [
             0.1,
             "#c51b7d"
            ],
            [
             0.2,
             "#de77ae"
            ],
            [
             0.3,
             "#f1b6da"
            ],
            [
             0.4,
             "#fde0ef"
            ],
            [
             0.5,
             "#f7f7f7"
            ],
            [
             0.6,
             "#e6f5d0"
            ],
            [
             0.7,
             "#b8e186"
            ],
            [
             0.8,
             "#7fbc41"
            ],
            [
             0.9,
             "#4d9221"
            ],
            [
             1,
             "#276419"
            ]
           ],
           "sequential": [
            [
             0,
             "#0d0887"
            ],
            [
             0.1111111111111111,
             "#46039f"
            ],
            [
             0.2222222222222222,
             "#7201a8"
            ],
            [
             0.3333333333333333,
             "#9c179e"
            ],
            [
             0.4444444444444444,
             "#bd3786"
            ],
            [
             0.5555555555555556,
             "#d8576b"
            ],
            [
             0.6666666666666666,
             "#ed7953"
            ],
            [
             0.7777777777777778,
             "#fb9f3a"
            ],
            [
             0.8888888888888888,
             "#fdca26"
            ],
            [
             1,
             "#f0f921"
            ]
           ],
           "sequentialminus": [
            [
             0,
             "#0d0887"
            ],
            [
             0.1111111111111111,
             "#46039f"
            ],
            [
             0.2222222222222222,
             "#7201a8"
            ],
            [
             0.3333333333333333,
             "#9c179e"
            ],
            [
             0.4444444444444444,
             "#bd3786"
            ],
            [
             0.5555555555555556,
             "#d8576b"
            ],
            [
             0.6666666666666666,
             "#ed7953"
            ],
            [
             0.7777777777777778,
             "#fb9f3a"
            ],
            [
             0.8888888888888888,
             "#fdca26"
            ],
            [
             1,
             "#f0f921"
            ]
           ]
          },
          "colorway": [
           "#636efa",
           "#EF553B",
           "#00cc96",
           "#ab63fa",
           "#FFA15A",
           "#19d3f3",
           "#FF6692",
           "#B6E880",
           "#FF97FF",
           "#FECB52"
          ],
          "font": {
           "color": "#f2f5fa"
          },
          "geo": {
           "bgcolor": "rgb(17,17,17)",
           "lakecolor": "rgb(17,17,17)",
           "landcolor": "rgb(17,17,17)",
           "showlakes": true,
           "showland": true,
           "subunitcolor": "#506784"
          },
          "hoverlabel": {
           "align": "left"
          },
          "hovermode": "closest",
          "mapbox": {
           "style": "dark"
          },
          "paper_bgcolor": "rgb(17,17,17)",
          "plot_bgcolor": "rgb(17,17,17)",
          "polar": {
           "angularaxis": {
            "gridcolor": "#506784",
            "linecolor": "#506784",
            "ticks": ""
           },
           "bgcolor": "rgb(17,17,17)",
           "radialaxis": {
            "gridcolor": "#506784",
            "linecolor": "#506784",
            "ticks": ""
           }
          },
          "scene": {
           "xaxis": {
            "backgroundcolor": "rgb(17,17,17)",
            "gridcolor": "#506784",
            "gridwidth": 2,
            "linecolor": "#506784",
            "showbackground": true,
            "ticks": "",
            "zerolinecolor": "#C8D4E3"
           },
           "yaxis": {
            "backgroundcolor": "rgb(17,17,17)",
            "gridcolor": "#506784",
            "gridwidth": 2,
            "linecolor": "#506784",
            "showbackground": true,
            "ticks": "",
            "zerolinecolor": "#C8D4E3"
           },
           "zaxis": {
            "backgroundcolor": "rgb(17,17,17)",
            "gridcolor": "#506784",
            "gridwidth": 2,
            "linecolor": "#506784",
            "showbackground": true,
            "ticks": "",
            "zerolinecolor": "#C8D4E3"
           }
          },
          "shapedefaults": {
           "line": {
            "color": "#f2f5fa"
           }
          },
          "sliderdefaults": {
           "bgcolor": "#C8D4E3",
           "bordercolor": "rgb(17,17,17)",
           "borderwidth": 1,
           "tickwidth": 0
          },
          "ternary": {
           "aaxis": {
            "gridcolor": "#506784",
            "linecolor": "#506784",
            "ticks": ""
           },
           "baxis": {
            "gridcolor": "#506784",
            "linecolor": "#506784",
            "ticks": ""
           },
           "bgcolor": "rgb(17,17,17)",
           "caxis": {
            "gridcolor": "#506784",
            "linecolor": "#506784",
            "ticks": ""
           }
          },
          "title": {
           "x": 0.05
          },
          "updatemenudefaults": {
           "bgcolor": "#506784",
           "borderwidth": 0
          },
          "xaxis": {
           "automargin": true,
           "gridcolor": "#283442",
           "linecolor": "#506784",
           "ticks": "",
           "title": {
            "standoff": 15
           },
           "zerolinecolor": "#283442",
           "zerolinewidth": 2
          },
          "yaxis": {
           "automargin": true,
           "gridcolor": "#283442",
           "linecolor": "#506784",
           "ticks": "",
           "title": {
            "standoff": 15
           },
           "zerolinecolor": "#283442",
           "zerolinewidth": 2
          }
         }
        },
        "title": {
         "text": "Average Correlation to TOP_20 (Last 4 Seasons)"
        },
        "width": 1000,
        "xaxis": {
         "anchor": "y",
         "domain": [
          0,
          1
         ],
         "tickangle": -45,
         "title": {
          "text": "Feature"
         }
        },
        "yaxis": {
         "anchor": "x",
         "domain": [
          0,
          1
         ],
         "title": {
          "text": "Avg Correlation"
         }
        }
       }
      }
     },
     "metadata": {},
     "output_type": "display_data"
    }
   ],
   "source": [
    "import pandas as pd\n",
    "import numpy as np\n",
    "import plotly.express as px\n",
    "\n",
    "# === Rebuild correlation matrices for the 4 most recent seasons ===\n",
    "cor = {}\n",
    "recent_seasons = sorted(training_df[\"SEASON\"].unique())[-4:]\n",
    "\n",
    "for season in recent_seasons:\n",
    "    df_season = training_df[training_df[\"SEASON\"] == season].copy()\n",
    "    numeric_cols = df_season.select_dtypes(include=[\"float64\", \"int64\"])\n",
    "    cor[int(season)] = numeric_cols.corr().abs()\n",
    "\n",
    "# === Combine into one summary DataFrame ===\n",
    "cor_df = pd.DataFrame()\n",
    "\n",
    "for season in recent_seasons:\n",
    "    df = cor[season].reset_index()\n",
    "    if \"TOP_20\" not in df.columns:\n",
    "        continue\n",
    "    temp = df[[\"index\", \"TOP_20\"]].copy()\n",
    "    temp = temp.rename(columns={\"TOP_20\": str(season)})\n",
    "    if cor_df.empty:\n",
    "        cor_df = temp\n",
    "    else:\n",
    "        cor_df = cor_df.merge(temp, on=\"index\", how=\"outer\")\n",
    "\n",
    "# Drop target and metadata rows\n",
    "cor_df = cor_df[~cor_df[\"index\"].isin([\"TOP_20\", \"FINAL_POS\", \"SEASON\"])]\n",
    "\n",
    "# Compute average correlation across seasons\n",
    "cor_df[\"AVERAGE\"] = cor_df.drop(columns=[\"index\"]).mean(axis=1)\n",
    "cor_df = cor_df.sort_values(by=\"AVERAGE\", ascending=False)\n",
    "\n",
    "# === Plotly Bar Chart ===\n",
    "fig = px.bar(\n",
    "    cor_df,\n",
    "    x=\"index\",\n",
    "    y=\"AVERAGE\",\n",
    "    title=\"Average Correlation to TOP_20 (Last 4 Seasons)\",\n",
    "    labels={\"index\": \"Feature\", \"AVERAGE\": \"Avg Correlation\"},\n",
    "    template=\"plotly_dark\"\n",
    ")\n",
    "\n",
    "fig.update_layout(\n",
    "    xaxis_tickangle=-45,\n",
    "    height=600,\n",
    "    width=1000,\n",
    "    showlegend=False\n",
    ")\n",
    "\n",
    "fig.show()\n"
   ]
  },
  {
   "cell_type": "markdown",
   "id": "b551789e",
   "metadata": {},
   "source": [
    "# ML Model"
   ]
  },
  {
   "cell_type": "markdown",
   "id": "d7df2d9b",
   "metadata": {},
   "source": [
    "## Predictors"
   ]
  },
  {
   "cell_type": "code",
   "execution_count": 27,
   "id": "7de6b0ed",
   "metadata": {},
   "outputs": [
    {
     "name": "stdout",
     "output_type": "stream",
     "text": [
      "Selected 39 features:\n",
      " ['SGTTG_RANK', 'SGTTG', 'SGOTT_RANK', 'SGOTT', 'SGAPR_RANK', 'SGAPR', 'SGATG_RANK', 'SGATG', 'SGP_RANK', 'SGP', 'BIRDIES_RANK', 'BIRDIES', 'PAR_3_RANK', 'PAR_3', 'PAR_4_RANK', 'PAR_4', 'PAR_5_RANK', 'PAR_5', 'TOTAL_DRIVING_RANK', 'TOTAL_DRIVING', 'DRIVING_DISTANCE_RANK', 'DRIVING_DISTANCE', 'DRIVING_ACCURACY_RANK', 'DRIVING_ACCURACY', 'GIR_RANK', 'GIR', 'SCRAMBLING_RANK', 'SCRAMBLING', 'OWGR_RANK', 'OWGR', 'VEGAS_ODDS', 'CUT_PERCENTAGE', 'FEDEX_CUP_POINTS', 'form_density', 'CONSECUTIVE_CUTS', 'RECENT_FORM', 'adj_form', 'COURSE_HISTORY', 'adj_ch']\n"
     ]
    }
   ],
   "source": [
    "# === Define Features and Target ===\n",
    "target_col = \"TOP_20\"\n",
    "\n",
    "# Columns to exclude from features\n",
    "exclude = [\n",
    "    \"PLAYER\", \"TOURNAMENT\", \"COURSE\", \"ENDING_DATE\", \"SEASON\", \"TOURN_ID\",\n",
    "    \"TOP_20\", \"FINAL_POS\"  \n",
    "]\n",
    "\n",
    "# Select numeric feature columns\n",
    "feature_cols = [\n",
    "    col for col in training_df.columns\n",
    "    if col not in exclude and training_df[col].dtype in [np.float64, np.int64]\n",
    "]\n",
    "\n",
    "print(f\"Selected {len(feature_cols)} features:\\n\", feature_cols)"
   ]
  },
  {
   "cell_type": "markdown",
   "id": "8cb568b3",
   "metadata": {},
   "source": [
    "### Random Forest\n",
    "Initial default model before hyperparameter tuning.\n",
    "\n",
    "This one actually performed really well (ROC AUC above 0.85).  Strangely doing hyperparameter tuning hurt the model (less than 0.7), so I removed that step and we will just use this default model.  This does cross-validation testing on 5 folds to ensure robust train/test splits."
   ]
  },
  {
   "cell_type": "code",
   "execution_count": 28,
   "id": "4879d3d9",
   "metadata": {},
   "outputs": [
    {
     "name": "stdout",
     "output_type": "stream",
     "text": [
      "📊 Random Forest (All Features)\n",
      "Cross-validation scores: [0.95759291 0.94111524 0.94822393 0.92601205 0.92510139]\n",
      "Average ROC AUC score: 0.94\n"
     ]
    }
   ],
   "source": [
    "from sklearn.ensemble import RandomForestClassifier\n",
    "from sklearn.model_selection import cross_val_score, StratifiedKFold\n",
    "from sklearn.preprocessing import StandardScaler\n",
    "from imblearn.over_sampling import SMOTE\n",
    "from imblearn.under_sampling import RandomUnderSampler\n",
    "from imblearn.pipeline import Pipeline\n",
    "\n",
    "# === Standardize features ===\n",
    "scaler = StandardScaler()\n",
    "X_rf_std = scaler.fit_transform(training_df[feature_cols])\n",
    "y_rf = training_df[\"TOP_20\"]\n",
    "\n",
    "# === Balance the dataset with SMOTE and undersampling ===\n",
    "over = SMOTE(sampling_strategy=0.5, k_neighbors=3)\n",
    "under = RandomUnderSampler(sampling_strategy=0.5)\n",
    "pipeline = Pipeline([(\"o\", over), (\"u\", under)])\n",
    "X_rf_bal, y_rf_bal = pipeline.fit_resample(X_rf_std, y_rf)\n",
    "\n",
    "# === Define and evaluate Random Forest ===\n",
    "rf = RandomForestClassifier(n_estimators=100, random_state=42)\n",
    "cv = StratifiedKFold(n_splits=5, shuffle=True, random_state=42)\n",
    "scores = cross_val_score(rf, X_rf_bal, y_rf_bal, cv=cv, scoring=\"roc_auc\")\n",
    "\n",
    "print(\"📊 Random Forest (All Features)\")\n",
    "print(\"Cross-validation scores:\", scores)\n",
    "print(\"Average ROC AUC score: {:.2f}\".format(scores.mean()))\n"
   ]
  },
  {
   "cell_type": "markdown",
   "id": "4fe9c753",
   "metadata": {},
   "source": [
    "Random Forest Training & Feature Importance\n",
    "\n",
    "Now we train on all the data (no longer cross-validation folds) and extract the feature importance to see how it compares with linear correlations.\n"
   ]
  },
  {
   "cell_type": "code",
   "execution_count": 29,
   "id": "74c2a8b7",
   "metadata": {},
   "outputs": [
    {
     "data": {
      "application/vnd.plotly.v1+json": {
       "config": {
        "plotlyServerURL": "https://plot.ly"
       },
       "data": [
        {
         "hovertemplate": "Feature=%{x}<br>Importance=%{y}<extra></extra>",
         "legendgroup": "",
         "marker": {
          "color": "#636efa",
          "pattern": {
           "shape": ""
          }
         },
         "name": "",
         "orientation": "v",
         "showlegend": false,
         "textposition": "auto",
         "type": "bar",
         "x": [
          "OWGR",
          "VEGAS_ODDS",
          "OWGR_RANK",
          "CONSECUTIVE_CUTS",
          "SGTTG",
          "RECENT_FORM",
          "BIRDIES_RANK",
          "SGTTG_RANK",
          "adj_form",
          "FEDEX_CUP_POINTS",
          "form_density",
          "SGAPR_RANK",
          "CUT_PERCENTAGE",
          "BIRDIES",
          "PAR_4_RANK",
          "adj_ch",
          "SGAPR",
          "PAR_3",
          "COURSE_HISTORY",
          "SCRAMBLING_RANK",
          "PAR_5_RANK",
          "SCRAMBLING",
          "PAR_4",
          "DRIVING_DISTANCE_RANK",
          "TOTAL_DRIVING_RANK",
          "TOTAL_DRIVING",
          "PAR_3_RANK",
          "GIR_RANK",
          "DRIVING_ACCURACY",
          "SGOTT",
          "DRIVING_ACCURACY_RANK",
          "PAR_5",
          "GIR",
          "SGATG_RANK",
          "SGOTT_RANK",
          "SGATG",
          "SGP",
          "DRIVING_DISTANCE",
          "SGP_RANK"
         ],
         "xaxis": "x",
         "y": {
          "bdata": "csyU528+sD+Ajh7i6h+vPyMWA9odUK0/8/MSvwwdqD//ha8qUValP+TM0Bx8paI/5OxtGYJdoj8gSCzLb0uiP34iTQAFzKA/Ax7vydfbnT+AJoURAXOdP/qxfxJftZs/YCiekZvymT++E6uMnMeXP9jOiqAaV5c/WDf8Obn6lj+aaIlOVm2WPyXzkz/EKpU/3d2yGw8qlT+u5QFPfuWUP2yZ+aCXHJQ/erXKqYkJlD+XaBDRZaiTP57MNnWIA5M/AFLEItPmkj/+HhRwTX6SP8kyzx6xYJI/2jBDiv8xkj/fTuFYLhmSPy2exlKv3pE/upXfcFiekT9Oo86IpQCRP2Ot145e+ZA/I1Pb9RTLkD92KL95lnCQP8Bc6oldEI8/ozj5t9TZjj8bmeJg1FOOPz1ieOGuO40/",
          "dtype": "f8"
         },
         "yaxis": "y"
        }
       ],
       "layout": {
        "barmode": "relative",
        "legend": {
         "tracegroupgap": 0
        },
        "template": {
         "data": {
          "bar": [
           {
            "error_x": {
             "color": "#f2f5fa"
            },
            "error_y": {
             "color": "#f2f5fa"
            },
            "marker": {
             "line": {
              "color": "rgb(17,17,17)",
              "width": 0.5
             },
             "pattern": {
              "fillmode": "overlay",
              "size": 10,
              "solidity": 0.2
             }
            },
            "type": "bar"
           }
          ],
          "barpolar": [
           {
            "marker": {
             "line": {
              "color": "rgb(17,17,17)",
              "width": 0.5
             },
             "pattern": {
              "fillmode": "overlay",
              "size": 10,
              "solidity": 0.2
             }
            },
            "type": "barpolar"
           }
          ],
          "carpet": [
           {
            "aaxis": {
             "endlinecolor": "#A2B1C6",
             "gridcolor": "#506784",
             "linecolor": "#506784",
             "minorgridcolor": "#506784",
             "startlinecolor": "#A2B1C6"
            },
            "baxis": {
             "endlinecolor": "#A2B1C6",
             "gridcolor": "#506784",
             "linecolor": "#506784",
             "minorgridcolor": "#506784",
             "startlinecolor": "#A2B1C6"
            },
            "type": "carpet"
           }
          ],
          "choropleth": [
           {
            "colorbar": {
             "outlinewidth": 0,
             "ticks": ""
            },
            "type": "choropleth"
           }
          ],
          "contour": [
           {
            "colorbar": {
             "outlinewidth": 0,
             "ticks": ""
            },
            "colorscale": [
             [
              0,
              "#0d0887"
             ],
             [
              0.1111111111111111,
              "#46039f"
             ],
             [
              0.2222222222222222,
              "#7201a8"
             ],
             [
              0.3333333333333333,
              "#9c179e"
             ],
             [
              0.4444444444444444,
              "#bd3786"
             ],
             [
              0.5555555555555556,
              "#d8576b"
             ],
             [
              0.6666666666666666,
              "#ed7953"
             ],
             [
              0.7777777777777778,
              "#fb9f3a"
             ],
             [
              0.8888888888888888,
              "#fdca26"
             ],
             [
              1,
              "#f0f921"
             ]
            ],
            "type": "contour"
           }
          ],
          "contourcarpet": [
           {
            "colorbar": {
             "outlinewidth": 0,
             "ticks": ""
            },
            "type": "contourcarpet"
           }
          ],
          "heatmap": [
           {
            "colorbar": {
             "outlinewidth": 0,
             "ticks": ""
            },
            "colorscale": [
             [
              0,
              "#0d0887"
             ],
             [
              0.1111111111111111,
              "#46039f"
             ],
             [
              0.2222222222222222,
              "#7201a8"
             ],
             [
              0.3333333333333333,
              "#9c179e"
             ],
             [
              0.4444444444444444,
              "#bd3786"
             ],
             [
              0.5555555555555556,
              "#d8576b"
             ],
             [
              0.6666666666666666,
              "#ed7953"
             ],
             [
              0.7777777777777778,
              "#fb9f3a"
             ],
             [
              0.8888888888888888,
              "#fdca26"
             ],
             [
              1,
              "#f0f921"
             ]
            ],
            "type": "heatmap"
           }
          ],
          "histogram": [
           {
            "marker": {
             "pattern": {
              "fillmode": "overlay",
              "size": 10,
              "solidity": 0.2
             }
            },
            "type": "histogram"
           }
          ],
          "histogram2d": [
           {
            "colorbar": {
             "outlinewidth": 0,
             "ticks": ""
            },
            "colorscale": [
             [
              0,
              "#0d0887"
             ],
             [
              0.1111111111111111,
              "#46039f"
             ],
             [
              0.2222222222222222,
              "#7201a8"
             ],
             [
              0.3333333333333333,
              "#9c179e"
             ],
             [
              0.4444444444444444,
              "#bd3786"
             ],
             [
              0.5555555555555556,
              "#d8576b"
             ],
             [
              0.6666666666666666,
              "#ed7953"
             ],
             [
              0.7777777777777778,
              "#fb9f3a"
             ],
             [
              0.8888888888888888,
              "#fdca26"
             ],
             [
              1,
              "#f0f921"
             ]
            ],
            "type": "histogram2d"
           }
          ],
          "histogram2dcontour": [
           {
            "colorbar": {
             "outlinewidth": 0,
             "ticks": ""
            },
            "colorscale": [
             [
              0,
              "#0d0887"
             ],
             [
              0.1111111111111111,
              "#46039f"
             ],
             [
              0.2222222222222222,
              "#7201a8"
             ],
             [
              0.3333333333333333,
              "#9c179e"
             ],
             [
              0.4444444444444444,
              "#bd3786"
             ],
             [
              0.5555555555555556,
              "#d8576b"
             ],
             [
              0.6666666666666666,
              "#ed7953"
             ],
             [
              0.7777777777777778,
              "#fb9f3a"
             ],
             [
              0.8888888888888888,
              "#fdca26"
             ],
             [
              1,
              "#f0f921"
             ]
            ],
            "type": "histogram2dcontour"
           }
          ],
          "mesh3d": [
           {
            "colorbar": {
             "outlinewidth": 0,
             "ticks": ""
            },
            "type": "mesh3d"
           }
          ],
          "parcoords": [
           {
            "line": {
             "colorbar": {
              "outlinewidth": 0,
              "ticks": ""
             }
            },
            "type": "parcoords"
           }
          ],
          "pie": [
           {
            "automargin": true,
            "type": "pie"
           }
          ],
          "scatter": [
           {
            "marker": {
             "line": {
              "color": "#283442"
             }
            },
            "type": "scatter"
           }
          ],
          "scatter3d": [
           {
            "line": {
             "colorbar": {
              "outlinewidth": 0,
              "ticks": ""
             }
            },
            "marker": {
             "colorbar": {
              "outlinewidth": 0,
              "ticks": ""
             }
            },
            "type": "scatter3d"
           }
          ],
          "scattercarpet": [
           {
            "marker": {
             "colorbar": {
              "outlinewidth": 0,
              "ticks": ""
             }
            },
            "type": "scattercarpet"
           }
          ],
          "scattergeo": [
           {
            "marker": {
             "colorbar": {
              "outlinewidth": 0,
              "ticks": ""
             }
            },
            "type": "scattergeo"
           }
          ],
          "scattergl": [
           {
            "marker": {
             "line": {
              "color": "#283442"
             }
            },
            "type": "scattergl"
           }
          ],
          "scattermap": [
           {
            "marker": {
             "colorbar": {
              "outlinewidth": 0,
              "ticks": ""
             }
            },
            "type": "scattermap"
           }
          ],
          "scattermapbox": [
           {
            "marker": {
             "colorbar": {
              "outlinewidth": 0,
              "ticks": ""
             }
            },
            "type": "scattermapbox"
           }
          ],
          "scatterpolar": [
           {
            "marker": {
             "colorbar": {
              "outlinewidth": 0,
              "ticks": ""
             }
            },
            "type": "scatterpolar"
           }
          ],
          "scatterpolargl": [
           {
            "marker": {
             "colorbar": {
              "outlinewidth": 0,
              "ticks": ""
             }
            },
            "type": "scatterpolargl"
           }
          ],
          "scatterternary": [
           {
            "marker": {
             "colorbar": {
              "outlinewidth": 0,
              "ticks": ""
             }
            },
            "type": "scatterternary"
           }
          ],
          "surface": [
           {
            "colorbar": {
             "outlinewidth": 0,
             "ticks": ""
            },
            "colorscale": [
             [
              0,
              "#0d0887"
             ],
             [
              0.1111111111111111,
              "#46039f"
             ],
             [
              0.2222222222222222,
              "#7201a8"
             ],
             [
              0.3333333333333333,
              "#9c179e"
             ],
             [
              0.4444444444444444,
              "#bd3786"
             ],
             [
              0.5555555555555556,
              "#d8576b"
             ],
             [
              0.6666666666666666,
              "#ed7953"
             ],
             [
              0.7777777777777778,
              "#fb9f3a"
             ],
             [
              0.8888888888888888,
              "#fdca26"
             ],
             [
              1,
              "#f0f921"
             ]
            ],
            "type": "surface"
           }
          ],
          "table": [
           {
            "cells": {
             "fill": {
              "color": "#506784"
             },
             "line": {
              "color": "rgb(17,17,17)"
             }
            },
            "header": {
             "fill": {
              "color": "#2a3f5f"
             },
             "line": {
              "color": "rgb(17,17,17)"
             }
            },
            "type": "table"
           }
          ]
         },
         "layout": {
          "annotationdefaults": {
           "arrowcolor": "#f2f5fa",
           "arrowhead": 0,
           "arrowwidth": 1
          },
          "autotypenumbers": "strict",
          "coloraxis": {
           "colorbar": {
            "outlinewidth": 0,
            "ticks": ""
           }
          },
          "colorscale": {
           "diverging": [
            [
             0,
             "#8e0152"
            ],
            [
             0.1,
             "#c51b7d"
            ],
            [
             0.2,
             "#de77ae"
            ],
            [
             0.3,
             "#f1b6da"
            ],
            [
             0.4,
             "#fde0ef"
            ],
            [
             0.5,
             "#f7f7f7"
            ],
            [
             0.6,
             "#e6f5d0"
            ],
            [
             0.7,
             "#b8e186"
            ],
            [
             0.8,
             "#7fbc41"
            ],
            [
             0.9,
             "#4d9221"
            ],
            [
             1,
             "#276419"
            ]
           ],
           "sequential": [
            [
             0,
             "#0d0887"
            ],
            [
             0.1111111111111111,
             "#46039f"
            ],
            [
             0.2222222222222222,
             "#7201a8"
            ],
            [
             0.3333333333333333,
             "#9c179e"
            ],
            [
             0.4444444444444444,
             "#bd3786"
            ],
            [
             0.5555555555555556,
             "#d8576b"
            ],
            [
             0.6666666666666666,
             "#ed7953"
            ],
            [
             0.7777777777777778,
             "#fb9f3a"
            ],
            [
             0.8888888888888888,
             "#fdca26"
            ],
            [
             1,
             "#f0f921"
            ]
           ],
           "sequentialminus": [
            [
             0,
             "#0d0887"
            ],
            [
             0.1111111111111111,
             "#46039f"
            ],
            [
             0.2222222222222222,
             "#7201a8"
            ],
            [
             0.3333333333333333,
             "#9c179e"
            ],
            [
             0.4444444444444444,
             "#bd3786"
            ],
            [
             0.5555555555555556,
             "#d8576b"
            ],
            [
             0.6666666666666666,
             "#ed7953"
            ],
            [
             0.7777777777777778,
             "#fb9f3a"
            ],
            [
             0.8888888888888888,
             "#fdca26"
            ],
            [
             1,
             "#f0f921"
            ]
           ]
          },
          "colorway": [
           "#636efa",
           "#EF553B",
           "#00cc96",
           "#ab63fa",
           "#FFA15A",
           "#19d3f3",
           "#FF6692",
           "#B6E880",
           "#FF97FF",
           "#FECB52"
          ],
          "font": {
           "color": "#f2f5fa"
          },
          "geo": {
           "bgcolor": "rgb(17,17,17)",
           "lakecolor": "rgb(17,17,17)",
           "landcolor": "rgb(17,17,17)",
           "showlakes": true,
           "showland": true,
           "subunitcolor": "#506784"
          },
          "hoverlabel": {
           "align": "left"
          },
          "hovermode": "closest",
          "mapbox": {
           "style": "dark"
          },
          "paper_bgcolor": "rgb(17,17,17)",
          "plot_bgcolor": "rgb(17,17,17)",
          "polar": {
           "angularaxis": {
            "gridcolor": "#506784",
            "linecolor": "#506784",
            "ticks": ""
           },
           "bgcolor": "rgb(17,17,17)",
           "radialaxis": {
            "gridcolor": "#506784",
            "linecolor": "#506784",
            "ticks": ""
           }
          },
          "scene": {
           "xaxis": {
            "backgroundcolor": "rgb(17,17,17)",
            "gridcolor": "#506784",
            "gridwidth": 2,
            "linecolor": "#506784",
            "showbackground": true,
            "ticks": "",
            "zerolinecolor": "#C8D4E3"
           },
           "yaxis": {
            "backgroundcolor": "rgb(17,17,17)",
            "gridcolor": "#506784",
            "gridwidth": 2,
            "linecolor": "#506784",
            "showbackground": true,
            "ticks": "",
            "zerolinecolor": "#C8D4E3"
           },
           "zaxis": {
            "backgroundcolor": "rgb(17,17,17)",
            "gridcolor": "#506784",
            "gridwidth": 2,
            "linecolor": "#506784",
            "showbackground": true,
            "ticks": "",
            "zerolinecolor": "#C8D4E3"
           }
          },
          "shapedefaults": {
           "line": {
            "color": "#f2f5fa"
           }
          },
          "sliderdefaults": {
           "bgcolor": "#C8D4E3",
           "bordercolor": "rgb(17,17,17)",
           "borderwidth": 1,
           "tickwidth": 0
          },
          "ternary": {
           "aaxis": {
            "gridcolor": "#506784",
            "linecolor": "#506784",
            "ticks": ""
           },
           "baxis": {
            "gridcolor": "#506784",
            "linecolor": "#506784",
            "ticks": ""
           },
           "bgcolor": "rgb(17,17,17)",
           "caxis": {
            "gridcolor": "#506784",
            "linecolor": "#506784",
            "ticks": ""
           }
          },
          "title": {
           "x": 0.05
          },
          "updatemenudefaults": {
           "bgcolor": "#506784",
           "borderwidth": 0
          },
          "xaxis": {
           "automargin": true,
           "gridcolor": "#283442",
           "linecolor": "#506784",
           "ticks": "",
           "title": {
            "standoff": 15
           },
           "zerolinecolor": "#283442",
           "zerolinewidth": 2
          },
          "yaxis": {
           "automargin": true,
           "gridcolor": "#283442",
           "linecolor": "#506784",
           "ticks": "",
           "title": {
            "standoff": 15
           },
           "zerolinecolor": "#283442",
           "zerolinewidth": 2
          }
         }
        },
        "title": {
         "text": "Random Forest Feature Importances"
        },
        "xaxis": {
         "anchor": "y",
         "domain": [
          0,
          1
         ],
         "tickangle": -45,
         "title": {
          "text": "Feature"
         }
        },
        "yaxis": {
         "anchor": "x",
         "domain": [
          0,
          1
         ],
         "title": {
          "text": "Importance"
         }
        }
       }
      }
     },
     "metadata": {},
     "output_type": "display_data"
    }
   ],
   "source": [
    "from sklearn.ensemble import RandomForestClassifier\n",
    "from sklearn.calibration import CalibratedClassifierCV\n",
    "from sklearn.preprocessing import StandardScaler\n",
    "from imblearn.pipeline import Pipeline\n",
    "from imblearn.over_sampling import SMOTE\n",
    "from imblearn.under_sampling import RandomUnderSampler\n",
    "import pandas as pd\n",
    "import plotly.express as px\n",
    "\n",
    "# === Resample the full dataset ===\n",
    "over = SMOTE(sampling_strategy=0.5, k_neighbors=3)\n",
    "under = RandomUnderSampler(sampling_strategy=0.5)\n",
    "resample_pipeline = Pipeline([(\"o\", over), (\"u\", under)])\n",
    "X_all_resampled, y_all_resampled = resample_pipeline.fit_resample(\n",
    "    training_df[feature_cols], training_df[\"TOP_20\"]\n",
    ")\n",
    "\n",
    "# === Standardize ===\n",
    "scaler = StandardScaler()\n",
    "X_all_scaled = scaler.fit_transform(X_all_resampled)\n",
    "\n",
    "# === Train Calibrated Random Forest ===\n",
    "base_rf = RandomForestClassifier(random_state=42)\n",
    "final_model = CalibratedClassifierCV(estimator=base_rf, method=\"sigmoid\", cv=5)\n",
    "final_model.fit(X_all_scaled, y_all_resampled)\n",
    "\n",
    "# === Aggregate feature importances across all CV folds ===\n",
    "all_importances = np.array([\n",
    "    est.estimator.feature_importances_ for est in final_model.calibrated_classifiers_\n",
    "])\n",
    "mean_importance = all_importances.mean(axis=0)\n",
    "\n",
    "importance_df = pd.DataFrame({\n",
    "    \"Feature\": feature_cols,\n",
    "    \"Importance\": mean_importance\n",
    "}).sort_values(by=\"Importance\", ascending=False)\n",
    "\n",
    "# === Plot feature importances ===\n",
    "fig = px.bar(\n",
    "    importance_df,\n",
    "    x=\"Feature\",\n",
    "    y=\"Importance\",\n",
    "    title=\"Random Forest Feature Importances\",\n",
    "    template=\"plotly_dark\"\n",
    ")\n",
    "fig.update_layout(xaxis_tickangle=-45)\n",
    "fig.show()\n"
   ]
  },
  {
   "cell_type": "markdown",
   "id": "e5e84f8a",
   "metadata": {},
   "source": [
    "Use this model on this week's data to predict the best performers."
   ]
  },
  {
   "cell_type": "code",
   "execution_count": 30,
   "id": "f0bf9b7d",
   "metadata": {},
   "outputs": [
    {
     "data": {
      "text/html": [
       "<div>\n",
       "<style scoped>\n",
       "    .dataframe tbody tr th:only-of-type {\n",
       "        vertical-align: middle;\n",
       "    }\n",
       "\n",
       "    .dataframe tbody tr th {\n",
       "        vertical-align: top;\n",
       "    }\n",
       "\n",
       "    .dataframe thead th {\n",
       "        text-align: right;\n",
       "    }\n",
       "</style>\n",
       "<table border=\"1\" class=\"dataframe\">\n",
       "  <thead>\n",
       "    <tr style=\"text-align: right;\">\n",
       "      <th></th>\n",
       "      <th>PLAYER</th>\n",
       "      <th>SALARY</th>\n",
       "      <th>PROBABILITY</th>\n",
       "      <th>RECENT_FORM</th>\n",
       "      <th>COURSE_HISTORY</th>\n",
       "      <th>VEGAS_ODDS</th>\n",
       "      <th>CUT_PERCENTAGE</th>\n",
       "      <th>OWGR_RANK</th>\n",
       "      <th>FEDEX_CUP_POINTS</th>\n",
       "      <th>SGTTG_RANK</th>\n",
       "      <th>SGOTT_RANK</th>\n",
       "      <th>SGAPR_RANK</th>\n",
       "      <th>SGATG_RANK</th>\n",
       "      <th>SGP_RANK</th>\n",
       "      <th>BIRDIES_RANK</th>\n",
       "      <th>PAR_3_RANK</th>\n",
       "      <th>PAR_4_RANK</th>\n",
       "      <th>PAR_5_RANK</th>\n",
       "      <th>TOTAL_DRIVING_RANK</th>\n",
       "      <th>DRIVING_DISTANCE_RANK</th>\n",
       "      <th>DRIVING_ACCURACY_RANK</th>\n",
       "      <th>GIR_RANK</th>\n",
       "      <th>SCRAMBLING_RANK</th>\n",
       "    </tr>\n",
       "  </thead>\n",
       "  <tbody>\n",
       "    <tr>\n",
       "      <th>0</th>\n",
       "      <td>Pierceson Coody</td>\n",
       "      <td>8400</td>\n",
       "      <td>0.904765</td>\n",
       "      <td>62.2</td>\n",
       "      <td>30.000000</td>\n",
       "      <td>35.0</td>\n",
       "      <td>45.5</td>\n",
       "      <td>122.0</td>\n",
       "      <td>161.875</td>\n",
       "      <td>98.906542</td>\n",
       "      <td>91.654206</td>\n",
       "      <td>96.607477</td>\n",
       "      <td>89.579439</td>\n",
       "      <td>93.448598</td>\n",
       "      <td>97.719626</td>\n",
       "      <td>80.672897</td>\n",
       "      <td>84.046729</td>\n",
       "      <td>83.859813</td>\n",
       "      <td>86.364486</td>\n",
       "      <td>88.186916</td>\n",
       "      <td>83.831776</td>\n",
       "      <td>90.495327</td>\n",
       "      <td>77.401869</td>\n",
       "    </tr>\n",
       "    <tr>\n",
       "      <th>1</th>\n",
       "      <td>Ryan Gerard</td>\n",
       "      <td>8500</td>\n",
       "      <td>0.873345</td>\n",
       "      <td>35.6</td>\n",
       "      <td>26.000000</td>\n",
       "      <td>35.0</td>\n",
       "      <td>94.7</td>\n",
       "      <td>71.0</td>\n",
       "      <td>825.212</td>\n",
       "      <td>22.000000</td>\n",
       "      <td>47.000000</td>\n",
       "      <td>22.000000</td>\n",
       "      <td>67.000000</td>\n",
       "      <td>117.000000</td>\n",
       "      <td>92.000000</td>\n",
       "      <td>39.000000</td>\n",
       "      <td>54.000000</td>\n",
       "      <td>128.000000</td>\n",
       "      <td>35.000000</td>\n",
       "      <td>84.000000</td>\n",
       "      <td>55.000000</td>\n",
       "      <td>105.000000</td>\n",
       "      <td>73.000000</td>\n",
       "    </tr>\n",
       "    <tr>\n",
       "      <th>2</th>\n",
       "      <td>Mark Hubbard</td>\n",
       "      <td>7700</td>\n",
       "      <td>0.865003</td>\n",
       "      <td>54.1</td>\n",
       "      <td>23.000000</td>\n",
       "      <td>50.0</td>\n",
       "      <td>63.6</td>\n",
       "      <td>113.0</td>\n",
       "      <td>535.946</td>\n",
       "      <td>99.000000</td>\n",
       "      <td>97.000000</td>\n",
       "      <td>88.000000</td>\n",
       "      <td>121.000000</td>\n",
       "      <td>81.000000</td>\n",
       "      <td>60.000000</td>\n",
       "      <td>64.000000</td>\n",
       "      <td>75.000000</td>\n",
       "      <td>56.000000</td>\n",
       "      <td>34.000000</td>\n",
       "      <td>85.000000</td>\n",
       "      <td>52.000000</td>\n",
       "      <td>81.000000</td>\n",
       "      <td>91.000000</td>\n",
       "    </tr>\n",
       "    <tr>\n",
       "      <th>3</th>\n",
       "      <td>Thriston Lawrence</td>\n",
       "      <td>7300</td>\n",
       "      <td>0.855245</td>\n",
       "      <td>72.6</td>\n",
       "      <td>54.928866</td>\n",
       "      <td>80.0</td>\n",
       "      <td>27.3</td>\n",
       "      <td>77.0</td>\n",
       "      <td>177.043</td>\n",
       "      <td>98.906542</td>\n",
       "      <td>91.654206</td>\n",
       "      <td>96.607477</td>\n",
       "      <td>89.579439</td>\n",
       "      <td>93.448598</td>\n",
       "      <td>97.719626</td>\n",
       "      <td>80.672897</td>\n",
       "      <td>84.046729</td>\n",
       "      <td>83.859813</td>\n",
       "      <td>86.364486</td>\n",
       "      <td>88.186916</td>\n",
       "      <td>83.831776</td>\n",
       "      <td>90.495327</td>\n",
       "      <td>77.401869</td>\n",
       "    </tr>\n",
       "    <tr>\n",
       "      <th>4</th>\n",
       "      <td>Henrik Norlander</td>\n",
       "      <td>7100</td>\n",
       "      <td>0.801162</td>\n",
       "      <td>52.8</td>\n",
       "      <td>67.300000</td>\n",
       "      <td>125.0</td>\n",
       "      <td>65.0</td>\n",
       "      <td>180.0</td>\n",
       "      <td>384.129</td>\n",
       "      <td>57.000000</td>\n",
       "      <td>134.000000</td>\n",
       "      <td>5.000000</td>\n",
       "      <td>147.000000</td>\n",
       "      <td>94.000000</td>\n",
       "      <td>99.000000</td>\n",
       "      <td>29.000000</td>\n",
       "      <td>21.000000</td>\n",
       "      <td>92.000000</td>\n",
       "      <td>66.000000</td>\n",
       "      <td>133.000000</td>\n",
       "      <td>26.000000</td>\n",
       "      <td>36.000000</td>\n",
       "      <td>29.000000</td>\n",
       "    </tr>\n",
       "    <tr>\n",
       "      <th>5</th>\n",
       "      <td>Zach Johnson</td>\n",
       "      <td>6900</td>\n",
       "      <td>0.716355</td>\n",
       "      <td>63.3</td>\n",
       "      <td>34.700000</td>\n",
       "      <td>125.0</td>\n",
       "      <td>50.0</td>\n",
       "      <td>186.0</td>\n",
       "      <td>288.896</td>\n",
       "      <td>98.906542</td>\n",
       "      <td>91.654206</td>\n",
       "      <td>96.607477</td>\n",
       "      <td>89.579439</td>\n",
       "      <td>93.448598</td>\n",
       "      <td>97.719626</td>\n",
       "      <td>80.672897</td>\n",
       "      <td>84.046729</td>\n",
       "      <td>83.859813</td>\n",
       "      <td>86.364486</td>\n",
       "      <td>88.186916</td>\n",
       "      <td>83.831776</td>\n",
       "      <td>90.495327</td>\n",
       "      <td>77.401869</td>\n",
       "    </tr>\n",
       "    <tr>\n",
       "      <th>6</th>\n",
       "      <td>Bud Cauley</td>\n",
       "      <td>8600</td>\n",
       "      <td>0.714204</td>\n",
       "      <td>33.6</td>\n",
       "      <td>39.500000</td>\n",
       "      <td>40.0</td>\n",
       "      <td>87.5</td>\n",
       "      <td>59.0</td>\n",
       "      <td>957.882</td>\n",
       "      <td>22.000000</td>\n",
       "      <td>50.000000</td>\n",
       "      <td>16.000000</td>\n",
       "      <td>86.000000</td>\n",
       "      <td>43.000000</td>\n",
       "      <td>79.000000</td>\n",
       "      <td>80.000000</td>\n",
       "      <td>54.000000</td>\n",
       "      <td>74.000000</td>\n",
       "      <td>103.000000</td>\n",
       "      <td>78.000000</td>\n",
       "      <td>101.000000</td>\n",
       "      <td>97.000000</td>\n",
       "      <td>41.000000</td>\n",
       "    </tr>\n",
       "    <tr>\n",
       "      <th>7</th>\n",
       "      <td>Jason Day</td>\n",
       "      <td>10500</td>\n",
       "      <td>0.707190</td>\n",
       "      <td>28.2</td>\n",
       "      <td>23.000000</td>\n",
       "      <td>25.0</td>\n",
       "      <td>92.3</td>\n",
       "      <td>28.0</td>\n",
       "      <td>1070.313</td>\n",
       "      <td>44.000000</td>\n",
       "      <td>91.000000</td>\n",
       "      <td>77.000000</td>\n",
       "      <td>14.000000</td>\n",
       "      <td>77.000000</td>\n",
       "      <td>55.000000</td>\n",
       "      <td>64.000000</td>\n",
       "      <td>21.000000</td>\n",
       "      <td>47.000000</td>\n",
       "      <td>157.000000</td>\n",
       "      <td>131.000000</td>\n",
       "      <td>101.000000</td>\n",
       "      <td>77.000000</td>\n",
       "      <td>44.000000</td>\n",
       "    </tr>\n",
       "    <tr>\n",
       "      <th>8</th>\n",
       "      <td>Ryo Hisatsune</td>\n",
       "      <td>7400</td>\n",
       "      <td>0.698824</td>\n",
       "      <td>47.6</td>\n",
       "      <td>52.000000</td>\n",
       "      <td>80.0</td>\n",
       "      <td>71.4</td>\n",
       "      <td>90.0</td>\n",
       "      <td>574.119</td>\n",
       "      <td>37.000000</td>\n",
       "      <td>90.000000</td>\n",
       "      <td>53.000000</td>\n",
       "      <td>27.000000</td>\n",
       "      <td>85.000000</td>\n",
       "      <td>139.000000</td>\n",
       "      <td>10.000000</td>\n",
       "      <td>35.000000</td>\n",
       "      <td>63.000000</td>\n",
       "      <td>139.000000</td>\n",
       "      <td>120.000000</td>\n",
       "      <td>91.000000</td>\n",
       "      <td>35.000000</td>\n",
       "      <td>9.000000</td>\n",
       "    </tr>\n",
       "    <tr>\n",
       "      <th>9</th>\n",
       "      <td>Kevin Roy</td>\n",
       "      <td>7400</td>\n",
       "      <td>0.697693</td>\n",
       "      <td>50.5</td>\n",
       "      <td>31.000000</td>\n",
       "      <td>65.0</td>\n",
       "      <td>61.5</td>\n",
       "      <td>152.0</td>\n",
       "      <td>287.321</td>\n",
       "      <td>43.000000</td>\n",
       "      <td>43.000000</td>\n",
       "      <td>50.000000</td>\n",
       "      <td>98.000000</td>\n",
       "      <td>89.000000</td>\n",
       "      <td>60.000000</td>\n",
       "      <td>39.000000</td>\n",
       "      <td>5.000000</td>\n",
       "      <td>38.000000</td>\n",
       "      <td>3.000000</td>\n",
       "      <td>45.000000</td>\n",
       "      <td>31.000000</td>\n",
       "      <td>16.000000</td>\n",
       "      <td>24.000000</td>\n",
       "    </tr>\n",
       "    <tr>\n",
       "      <th>10</th>\n",
       "      <td>Sami Valimaki</td>\n",
       "      <td>7300</td>\n",
       "      <td>0.675842</td>\n",
       "      <td>53.6</td>\n",
       "      <td>12.000000</td>\n",
       "      <td>80.0</td>\n",
       "      <td>66.7</td>\n",
       "      <td>107.0</td>\n",
       "      <td>401.358</td>\n",
       "      <td>97.000000</td>\n",
       "      <td>145.000000</td>\n",
       "      <td>27.000000</td>\n",
       "      <td>123.000000</td>\n",
       "      <td>8.000000</td>\n",
       "      <td>39.000000</td>\n",
       "      <td>51.000000</td>\n",
       "      <td>54.000000</td>\n",
       "      <td>63.000000</td>\n",
       "      <td>135.000000</td>\n",
       "      <td>111.000000</td>\n",
       "      <td>95.000000</td>\n",
       "      <td>63.000000</td>\n",
       "      <td>71.000000</td>\n",
       "    </tr>\n",
       "    <tr>\n",
       "      <th>11</th>\n",
       "      <td>Denny McCarthy</td>\n",
       "      <td>9900</td>\n",
       "      <td>0.668584</td>\n",
       "      <td>30.6</td>\n",
       "      <td>38.800000</td>\n",
       "      <td>25.0</td>\n",
       "      <td>100.0</td>\n",
       "      <td>45.0</td>\n",
       "      <td>912.009</td>\n",
       "      <td>103.000000</td>\n",
       "      <td>133.000000</td>\n",
       "      <td>64.000000</td>\n",
       "      <td>104.000000</td>\n",
       "      <td>9.000000</td>\n",
       "      <td>140.000000</td>\n",
       "      <td>19.000000</td>\n",
       "      <td>75.000000</td>\n",
       "      <td>147.000000</td>\n",
       "      <td>143.000000</td>\n",
       "      <td>140.000000</td>\n",
       "      <td>76.000000</td>\n",
       "      <td>96.000000</td>\n",
       "      <td>42.000000</td>\n",
       "    </tr>\n",
       "    <tr>\n",
       "      <th>12</th>\n",
       "      <td>Doug Ghim</td>\n",
       "      <td>7200</td>\n",
       "      <td>0.660576</td>\n",
       "      <td>49.2</td>\n",
       "      <td>51.600000</td>\n",
       "      <td>80.0</td>\n",
       "      <td>72.7</td>\n",
       "      <td>125.0</td>\n",
       "      <td>663.727</td>\n",
       "      <td>25.000000</td>\n",
       "      <td>61.000000</td>\n",
       "      <td>25.000000</td>\n",
       "      <td>51.000000</td>\n",
       "      <td>169.000000</td>\n",
       "      <td>116.000000</td>\n",
       "      <td>80.000000</td>\n",
       "      <td>75.000000</td>\n",
       "      <td>98.000000</td>\n",
       "      <td>56.000000</td>\n",
       "      <td>82.000000</td>\n",
       "      <td>73.000000</td>\n",
       "      <td>40.000000</td>\n",
       "      <td>112.000000</td>\n",
       "    </tr>\n",
       "    <tr>\n",
       "      <th>13</th>\n",
       "      <td>Kurt Kitayama</td>\n",
       "      <td>7700</td>\n",
       "      <td>0.653383</td>\n",
       "      <td>53.5</td>\n",
       "      <td>54.928866</td>\n",
       "      <td>55.0</td>\n",
       "      <td>61.1</td>\n",
       "      <td>102.0</td>\n",
       "      <td>404.809</td>\n",
       "      <td>29.000000</td>\n",
       "      <td>17.000000</td>\n",
       "      <td>75.000000</td>\n",
       "      <td>46.000000</td>\n",
       "      <td>152.000000</td>\n",
       "      <td>31.000000</td>\n",
       "      <td>51.000000</td>\n",
       "      <td>75.000000</td>\n",
       "      <td>26.000000</td>\n",
       "      <td>61.000000</td>\n",
       "      <td>6.000000</td>\n",
       "      <td>150.000000</td>\n",
       "      <td>91.000000</td>\n",
       "      <td>100.000000</td>\n",
       "    </tr>\n",
       "    <tr>\n",
       "      <th>14</th>\n",
       "      <td>Luke Clanton</td>\n",
       "      <td>8700</td>\n",
       "      <td>0.651577</td>\n",
       "      <td>49.0</td>\n",
       "      <td>2.000000</td>\n",
       "      <td>40.0</td>\n",
       "      <td>66.7</td>\n",
       "      <td>121.0</td>\n",
       "      <td>30.150</td>\n",
       "      <td>98.906542</td>\n",
       "      <td>91.654206</td>\n",
       "      <td>96.607477</td>\n",
       "      <td>89.579439</td>\n",
       "      <td>93.448598</td>\n",
       "      <td>97.719626</td>\n",
       "      <td>80.672897</td>\n",
       "      <td>84.046729</td>\n",
       "      <td>83.859813</td>\n",
       "      <td>86.364486</td>\n",
       "      <td>88.186916</td>\n",
       "      <td>83.831776</td>\n",
       "      <td>90.495327</td>\n",
       "      <td>77.401869</td>\n",
       "    </tr>\n",
       "    <tr>\n",
       "      <th>15</th>\n",
       "      <td>Chris Gotterup</td>\n",
       "      <td>9300</td>\n",
       "      <td>0.627395</td>\n",
       "      <td>63.0</td>\n",
       "      <td>47.000000</td>\n",
       "      <td>40.0</td>\n",
       "      <td>47.4</td>\n",
       "      <td>165.0</td>\n",
       "      <td>245.455</td>\n",
       "      <td>45.000000</td>\n",
       "      <td>12.000000</td>\n",
       "      <td>106.000000</td>\n",
       "      <td>82.000000</td>\n",
       "      <td>129.000000</td>\n",
       "      <td>44.000000</td>\n",
       "      <td>19.000000</td>\n",
       "      <td>13.000000</td>\n",
       "      <td>74.000000</td>\n",
       "      <td>56.000000</td>\n",
       "      <td>7.000000</td>\n",
       "      <td>148.000000</td>\n",
       "      <td>7.000000</td>\n",
       "      <td>27.000000</td>\n",
       "    </tr>\n",
       "    <tr>\n",
       "      <th>16</th>\n",
       "      <td>Andrew Putnam</td>\n",
       "      <td>7600</td>\n",
       "      <td>0.605264</td>\n",
       "      <td>47.2</td>\n",
       "      <td>75.000000</td>\n",
       "      <td>65.0</td>\n",
       "      <td>64.7</td>\n",
       "      <td>124.0</td>\n",
       "      <td>441.783</td>\n",
       "      <td>77.000000</td>\n",
       "      <td>164.000000</td>\n",
       "      <td>36.000000</td>\n",
       "      <td>6.000000</td>\n",
       "      <td>13.000000</td>\n",
       "      <td>95.000000</td>\n",
       "      <td>13.000000</td>\n",
       "      <td>8.000000</td>\n",
       "      <td>38.000000</td>\n",
       "      <td>96.000000</td>\n",
       "      <td>169.000000</td>\n",
       "      <td>6.000000</td>\n",
       "      <td>11.000000</td>\n",
       "      <td>2.000000</td>\n",
       "    </tr>\n",
       "    <tr>\n",
       "      <th>17</th>\n",
       "      <td>Joel Dahmen</td>\n",
       "      <td>6700</td>\n",
       "      <td>0.572562</td>\n",
       "      <td>63.3</td>\n",
       "      <td>57.000000</td>\n",
       "      <td>150.0</td>\n",
       "      <td>42.9</td>\n",
       "      <td>169.0</td>\n",
       "      <td>334.214</td>\n",
       "      <td>55.000000</td>\n",
       "      <td>71.000000</td>\n",
       "      <td>34.000000</td>\n",
       "      <td>137.000000</td>\n",
       "      <td>151.000000</td>\n",
       "      <td>120.000000</td>\n",
       "      <td>106.000000</td>\n",
       "      <td>35.000000</td>\n",
       "      <td>74.000000</td>\n",
       "      <td>32.000000</td>\n",
       "      <td>124.000000</td>\n",
       "      <td>11.000000</td>\n",
       "      <td>53.000000</td>\n",
       "      <td>32.000000</td>\n",
       "    </tr>\n",
       "    <tr>\n",
       "      <th>18</th>\n",
       "      <td>Ben Griffin</td>\n",
       "      <td>10400</td>\n",
       "      <td>0.556577</td>\n",
       "      <td>34.8</td>\n",
       "      <td>5.000000</td>\n",
       "      <td>14.0</td>\n",
       "      <td>82.1</td>\n",
       "      <td>17.0</td>\n",
       "      <td>2093.663</td>\n",
       "      <td>21.000000</td>\n",
       "      <td>46.000000</td>\n",
       "      <td>32.000000</td>\n",
       "      <td>49.000000</td>\n",
       "      <td>35.000000</td>\n",
       "      <td>49.000000</td>\n",
       "      <td>29.000000</td>\n",
       "      <td>35.000000</td>\n",
       "      <td>23.000000</td>\n",
       "      <td>56.000000</td>\n",
       "      <td>66.000000</td>\n",
       "      <td>89.000000</td>\n",
       "      <td>19.000000</td>\n",
       "      <td>84.000000</td>\n",
       "    </tr>\n",
       "    <tr>\n",
       "      <th>19</th>\n",
       "      <td>Chris Kirk</td>\n",
       "      <td>8900</td>\n",
       "      <td>0.552537</td>\n",
       "      <td>55.5</td>\n",
       "      <td>22.000000</td>\n",
       "      <td>35.0</td>\n",
       "      <td>63.2</td>\n",
       "      <td>61.0</td>\n",
       "      <td>525.849</td>\n",
       "      <td>42.000000</td>\n",
       "      <td>75.000000</td>\n",
       "      <td>52.000000</td>\n",
       "      <td>47.000000</td>\n",
       "      <td>156.000000</td>\n",
       "      <td>119.000000</td>\n",
       "      <td>154.000000</td>\n",
       "      <td>35.000000</td>\n",
       "      <td>108.000000</td>\n",
       "      <td>127.000000</td>\n",
       "      <td>132.000000</td>\n",
       "      <td>64.000000</td>\n",
       "      <td>53.000000</td>\n",
       "      <td>104.000000</td>\n",
       "    </tr>\n",
       "  </tbody>\n",
       "</table>\n",
       "</div>"
      ],
      "text/plain": [
       "               PLAYER  SALARY  PROBABILITY  RECENT_FORM  COURSE_HISTORY  \\\n",
       "0     Pierceson Coody    8400     0.904765         62.2       30.000000   \n",
       "1         Ryan Gerard    8500     0.873345         35.6       26.000000   \n",
       "2        Mark Hubbard    7700     0.865003         54.1       23.000000   \n",
       "3   Thriston Lawrence    7300     0.855245         72.6       54.928866   \n",
       "4    Henrik Norlander    7100     0.801162         52.8       67.300000   \n",
       "5        Zach Johnson    6900     0.716355         63.3       34.700000   \n",
       "6          Bud Cauley    8600     0.714204         33.6       39.500000   \n",
       "7           Jason Day   10500     0.707190         28.2       23.000000   \n",
       "8       Ryo Hisatsune    7400     0.698824         47.6       52.000000   \n",
       "9           Kevin Roy    7400     0.697693         50.5       31.000000   \n",
       "10      Sami Valimaki    7300     0.675842         53.6       12.000000   \n",
       "11     Denny McCarthy    9900     0.668584         30.6       38.800000   \n",
       "12          Doug Ghim    7200     0.660576         49.2       51.600000   \n",
       "13      Kurt Kitayama    7700     0.653383         53.5       54.928866   \n",
       "14       Luke Clanton    8700     0.651577         49.0        2.000000   \n",
       "15     Chris Gotterup    9300     0.627395         63.0       47.000000   \n",
       "16      Andrew Putnam    7600     0.605264         47.2       75.000000   \n",
       "17        Joel Dahmen    6700     0.572562         63.3       57.000000   \n",
       "18        Ben Griffin   10400     0.556577         34.8        5.000000   \n",
       "19         Chris Kirk    8900     0.552537         55.5       22.000000   \n",
       "\n",
       "    VEGAS_ODDS  CUT_PERCENTAGE  OWGR_RANK  FEDEX_CUP_POINTS  SGTTG_RANK  \\\n",
       "0         35.0            45.5      122.0           161.875   98.906542   \n",
       "1         35.0            94.7       71.0           825.212   22.000000   \n",
       "2         50.0            63.6      113.0           535.946   99.000000   \n",
       "3         80.0            27.3       77.0           177.043   98.906542   \n",
       "4        125.0            65.0      180.0           384.129   57.000000   \n",
       "5        125.0            50.0      186.0           288.896   98.906542   \n",
       "6         40.0            87.5       59.0           957.882   22.000000   \n",
       "7         25.0            92.3       28.0          1070.313   44.000000   \n",
       "8         80.0            71.4       90.0           574.119   37.000000   \n",
       "9         65.0            61.5      152.0           287.321   43.000000   \n",
       "10        80.0            66.7      107.0           401.358   97.000000   \n",
       "11        25.0           100.0       45.0           912.009  103.000000   \n",
       "12        80.0            72.7      125.0           663.727   25.000000   \n",
       "13        55.0            61.1      102.0           404.809   29.000000   \n",
       "14        40.0            66.7      121.0            30.150   98.906542   \n",
       "15        40.0            47.4      165.0           245.455   45.000000   \n",
       "16        65.0            64.7      124.0           441.783   77.000000   \n",
       "17       150.0            42.9      169.0           334.214   55.000000   \n",
       "18        14.0            82.1       17.0          2093.663   21.000000   \n",
       "19        35.0            63.2       61.0           525.849   42.000000   \n",
       "\n",
       "    SGOTT_RANK  SGAPR_RANK  SGATG_RANK    SGP_RANK  BIRDIES_RANK  PAR_3_RANK  \\\n",
       "0    91.654206   96.607477   89.579439   93.448598     97.719626   80.672897   \n",
       "1    47.000000   22.000000   67.000000  117.000000     92.000000   39.000000   \n",
       "2    97.000000   88.000000  121.000000   81.000000     60.000000   64.000000   \n",
       "3    91.654206   96.607477   89.579439   93.448598     97.719626   80.672897   \n",
       "4   134.000000    5.000000  147.000000   94.000000     99.000000   29.000000   \n",
       "5    91.654206   96.607477   89.579439   93.448598     97.719626   80.672897   \n",
       "6    50.000000   16.000000   86.000000   43.000000     79.000000   80.000000   \n",
       "7    91.000000   77.000000   14.000000   77.000000     55.000000   64.000000   \n",
       "8    90.000000   53.000000   27.000000   85.000000    139.000000   10.000000   \n",
       "9    43.000000   50.000000   98.000000   89.000000     60.000000   39.000000   \n",
       "10  145.000000   27.000000  123.000000    8.000000     39.000000   51.000000   \n",
       "11  133.000000   64.000000  104.000000    9.000000    140.000000   19.000000   \n",
       "12   61.000000   25.000000   51.000000  169.000000    116.000000   80.000000   \n",
       "13   17.000000   75.000000   46.000000  152.000000     31.000000   51.000000   \n",
       "14   91.654206   96.607477   89.579439   93.448598     97.719626   80.672897   \n",
       "15   12.000000  106.000000   82.000000  129.000000     44.000000   19.000000   \n",
       "16  164.000000   36.000000    6.000000   13.000000     95.000000   13.000000   \n",
       "17   71.000000   34.000000  137.000000  151.000000    120.000000  106.000000   \n",
       "18   46.000000   32.000000   49.000000   35.000000     49.000000   29.000000   \n",
       "19   75.000000   52.000000   47.000000  156.000000    119.000000  154.000000   \n",
       "\n",
       "    PAR_4_RANK  PAR_5_RANK  TOTAL_DRIVING_RANK  DRIVING_DISTANCE_RANK  \\\n",
       "0    84.046729   83.859813           86.364486              88.186916   \n",
       "1    54.000000  128.000000           35.000000              84.000000   \n",
       "2    75.000000   56.000000           34.000000              85.000000   \n",
       "3    84.046729   83.859813           86.364486              88.186916   \n",
       "4    21.000000   92.000000           66.000000             133.000000   \n",
       "5    84.046729   83.859813           86.364486              88.186916   \n",
       "6    54.000000   74.000000          103.000000              78.000000   \n",
       "7    21.000000   47.000000          157.000000             131.000000   \n",
       "8    35.000000   63.000000          139.000000             120.000000   \n",
       "9     5.000000   38.000000            3.000000              45.000000   \n",
       "10   54.000000   63.000000          135.000000             111.000000   \n",
       "11   75.000000  147.000000          143.000000             140.000000   \n",
       "12   75.000000   98.000000           56.000000              82.000000   \n",
       "13   75.000000   26.000000           61.000000               6.000000   \n",
       "14   84.046729   83.859813           86.364486              88.186916   \n",
       "15   13.000000   74.000000           56.000000               7.000000   \n",
       "16    8.000000   38.000000           96.000000             169.000000   \n",
       "17   35.000000   74.000000           32.000000             124.000000   \n",
       "18   35.000000   23.000000           56.000000              66.000000   \n",
       "19   35.000000  108.000000          127.000000             132.000000   \n",
       "\n",
       "    DRIVING_ACCURACY_RANK    GIR_RANK  SCRAMBLING_RANK  \n",
       "0               83.831776   90.495327        77.401869  \n",
       "1               55.000000  105.000000        73.000000  \n",
       "2               52.000000   81.000000        91.000000  \n",
       "3               83.831776   90.495327        77.401869  \n",
       "4               26.000000   36.000000        29.000000  \n",
       "5               83.831776   90.495327        77.401869  \n",
       "6              101.000000   97.000000        41.000000  \n",
       "7              101.000000   77.000000        44.000000  \n",
       "8               91.000000   35.000000         9.000000  \n",
       "9               31.000000   16.000000        24.000000  \n",
       "10              95.000000   63.000000        71.000000  \n",
       "11              76.000000   96.000000        42.000000  \n",
       "12              73.000000   40.000000       112.000000  \n",
       "13             150.000000   91.000000       100.000000  \n",
       "14              83.831776   90.495327        77.401869  \n",
       "15             148.000000    7.000000        27.000000  \n",
       "16               6.000000   11.000000         2.000000  \n",
       "17              11.000000   53.000000        32.000000  \n",
       "18              89.000000   19.000000        84.000000  \n",
       "19              64.000000   53.000000       104.000000  "
      ]
     },
     "execution_count": 30,
     "metadata": {},
     "output_type": "execute_result"
    }
   ],
   "source": [
    "# === Prepare test data (this week's players) ===\n",
    "\n",
    "# Select and standardize features using the same scaler as training\n",
    "X_test = this_week[feature_cols]\n",
    "X_test_scaled = scaler.transform(X_test)\n",
    "\n",
    "# === Predict probabilities for Top 20 finish ===\n",
    "# CalibratedClassifierCV returns well-calibrated probabilities\n",
    "this_week[\"PROBABILITY\"] = final_model.predict_proba(X_test_scaled)[:, 1]\n",
    "\n",
    "# === Sort results by highest predicted probability ===\n",
    "this_week_sorted = this_week.sort_values(by=\"PROBABILITY\", ascending=False).reset_index(drop=True)\n",
    "\n",
    "# === Define final column order explicitly ===\n",
    "columns_to_show = [\n",
    "    \"PLAYER\", \"SALARY\", \"PROBABILITY\",\n",
    "    \"RECENT_FORM\", \"COURSE_HISTORY\", \"VEGAS_ODDS\", \"CUT_PERCENTAGE\", \n",
    "    \"OWGR_RANK\", \"FEDEX_CUP_POINTS\",\n",
    "\n",
    "    # SG stats\n",
    "    \"SGTTG_RANK\", \"SGOTT_RANK\", \"SGAPR_RANK\", \"SGATG_RANK\", \"SGP_RANK\",\n",
    "\n",
    "    # Scoring/Performance\n",
    "    \"BIRDIES_RANK\", \"PAR_3_RANK\", \"PAR_4_RANK\", \"PAR_5_RANK\",\n",
    "\n",
    "    # Driving / Ball Striking\n",
    "    \"TOTAL_DRIVING_RANK\", \"DRIVING_DISTANCE_RANK\", \"DRIVING_ACCURACY_RANK\",\n",
    "    \"GIR_RANK\", \"SCRAMBLING_RANK\"\n",
    "]\n",
    "\n",
    "# Keep only columns that exist in the dataframe\n",
    "columns_to_show = [col for col in columns_to_show if col in this_week_sorted.columns]\n",
    "\n",
    "# Final dataframe for display/export\n",
    "export_df = this_week_sorted[columns_to_show].copy()\n",
    "\n",
    "# Preview top 20\n",
    "export_df.head(20)\n"
   ]
  },
  {
   "cell_type": "markdown",
   "id": "8641f78e",
   "metadata": {},
   "source": [
    "### Save to CSV"
   ]
  },
  {
   "cell_type": "code",
   "execution_count": 31,
   "id": "323933e9",
   "metadata": {},
   "outputs": [
    {
     "name": "stdout",
     "output_type": "stream",
     "text": [
      "✅ Exported to data/current_week_export.csv\n"
     ]
    }
   ],
   "source": [
    "# Ensure required columns for spreadsheet export\n",
    "if \"COURSE_HISTORY\" not in export_df.columns:\n",
    "    export_df[\"COURSE_HISTORY\"] = \"-\"\n",
    "\n",
    "# Define columns to round (FedEx + stats)\n",
    "columns_to_round = [\n",
    "    \"FEDEX_CUP_POINTS\",\n",
    "    \"SGTTG_RANK\", \"SGOTT_RANK\", \"SGAPR_RANK\", \"SGATG_RANK\", \"SGP_RANK\",\n",
    "    \"BIRDIES_RANK\", \"PAR_3_RANK\", \"PAR_4_RANK\", \"PAR_5_RANK\",\n",
    "    \"TOTAL_DRIVING_RANK\", \"DRIVING_DISTANCE_RANK\", \"DRIVING_ACCURACY_RANK\",\n",
    "    \"GIR_RANK\", \"SCRAMBLING_RANK\"\n",
    "]\n",
    "\n",
    "columns_to_round_1 = [\n",
    "    \"COURSE_HISTORY\", \"CUT_PERCENTAGE\"\n",
    "]\n",
    "\n",
    "# Round only the selected columns to 0 decimal places\n",
    "export_df[columns_to_round] = export_df[columns_to_round].round(0).astype(\"Int64\")\n",
    "# Round only the selected columns to 1 decimal places\n",
    "export_df[columns_to_round_1] = export_df[columns_to_round_1].round(1)\n",
    "\n",
    "# Explicit column order for Excel integration\n",
    "column_order = [\n",
    "    \"PLAYER\", \"SALARY\", \"PROBABILITY\", \"RECENT_FORM\", \"COURSE_HISTORY\", \"VEGAS_ODDS\", \n",
    "    \"CUT_PERCENTAGE\", \"OWGR_RANK\", \"FEDEX_CUP_POINTS\", \n",
    "    \"SGTTG_RANK\", \"SGOTT_RANK\", \"SGAPR_RANK\", \"SGATG_RANK\", \"SGP_RANK\",\n",
    "    \"BIRDIES_RANK\", \"PAR_3_RANK\", \"PAR_4_RANK\", \"PAR_5_RANK\",\n",
    "    \"TOTAL_DRIVING_RANK\", \"DRIVING_DISTANCE_RANK\", \"DRIVING_ACCURACY_RANK\",\n",
    "    \"GIR_RANK\", \"SCRAMBLING_RANK\"\n",
    "]\n",
    "\n",
    "# Ensure all expected columns exist\n",
    "for col in column_order:\n",
    "    if col not in export_df.columns:\n",
    "        export_df[col] = \"-\" if col == \"COURSE_HISTORY\" else np.nan\n",
    "\n",
    "# Reorder columns to match Excel layout\n",
    "export_df = export_df[column_order]\n",
    "\n",
    "# Export to CSV\n",
    "filename = f\"data/current_week_export.csv\"\n",
    "export_df.to_csv(filename, index=False)\n",
    "print(f\"✅ Exported to {filename}\")"
   ]
  }
 ],
 "metadata": {
  "kernelspec": {
   "display_name": "Python 3",
   "language": "python",
   "name": "python3"
  },
  "language_info": {
   "codemirror_mode": {
    "name": "ipython",
    "version": 3
   },
   "file_extension": ".py",
   "mimetype": "text/x-python",
   "name": "python",
   "nbconvert_exporter": "python",
   "pygments_lexer": "ipython3",
   "version": "3.13.3"
  }
 },
 "nbformat": 4,
 "nbformat_minor": 5
}
