{
 "cells": [
  {
   "cell_type": "markdown",
   "id": "51850cd5",
   "metadata": {},
   "source": [
    "## PGA Draftkings Notebook\n",
    "Use [PGA Website](https://www.pgatour.com/tournaments/schedule.html) to look up tournament info and fill out **form** below. (Fetch/XHR from Network tab, Paylod sub-tab)\n",
    "\n",
    "Looks like the tournament ID is also in the address bar."
   ]
  },
  {
   "cell_type": "code",
   "execution_count": null,
   "id": "8168a4ea",
   "metadata": {},
   "outputs": [],
   "source": [
    "# === LIBRARIES AND VARIABLES ===\n",
    "# Import necessary libraries\n",
    "import requests\n",
    "import pandas as pd\n",
    "from datetime import datetime\n",
    "import sqlite3 as sql\n",
    "import numpy as np\n",
    "from numpy import nan\n",
    "\n",
    "# === USER INPUTS ===\n",
    "# Old Tournament\n",
    "old_tournament_name = \"RBC Heritage\"\n",
    "tournament_date = \"4/20/2025\"\n",
    "old_course = \"Harbour Town Golf Links\"\n",
    "tournament_id = \"R2025012\"\n",
    "\n",
    "# New Tournament\n",
    "new_tournament_name = \"THE CJ CUP Byron Nelson\"\n",
    "new_course = \"TPC Craig Ranch\"\n",
    "\n",
    "# ====================\n",
    "\n",
    "tournament_config = {\n",
    "    \"old\": {\n",
    "        \"name\": old_tournament_name,\n",
    "        \"date\": tournament_date,\n",
    "        \"course\": old_course,\n",
    "        \"id\": tournament_id\n",
    "    },\n",
    "    \"new\": {\n",
    "        \"name\": new_tournament_name,\n",
    "        \"course\": new_course,\n",
    "        \"quoted_course\": f'\"{new_course}\"',\n",
    "        \"quoted_name\": f\"'{new_tournament_name}'\"\n",
    "    }\n",
    "}"
   ]
  }
 ],
 "metadata": {
  "kernelspec": {
   "display_name": "Python 3",
   "language": "python",
   "name": "python3"
  },
  "language_info": {
   "codemirror_mode": {
    "name": "ipython",
    "version": 3
   },
   "file_extension": ".py",
   "mimetype": "text/x-python",
   "name": "python",
   "nbconvert_exporter": "python",
   "pygments_lexer": "ipython3",
   "version": "3.13.3"
  }
 },
 "nbformat": 4,
 "nbformat_minor": 5
}
