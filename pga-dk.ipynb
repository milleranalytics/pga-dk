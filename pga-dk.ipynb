{
 "cells": [
  {
   "cell_type": "markdown",
   "id": "51850cd5",
   "metadata": {},
   "source": [
    "## PGA Draftkings Notebook\n",
    "Use [PGA Website](https://www.pgatour.com/tournaments/schedule.html) to look up tournament info and fill out first USER INPUT block below. (Fetch/XHR from Network tab, Paylod sub-tab)\n",
    "\n",
    "Looks like the tournament ID is also in the address bar."
   ]
  },
  {
   "cell_type": "markdown",
   "id": "cc589d19",
   "metadata": {},
   "source": [
    "### User Input"
   ]
  },
  {
   "cell_type": "code",
   "execution_count": 3,
   "id": "5b16fd89",
   "metadata": {},
   "outputs": [],
   "source": [
    "# === USER INPUTS ===\n",
    "# Old Tournament\n",
    "old_tournament_name = \"THE CJ CUP Byron Nelson\"\n",
    "tournament_date = \"5/4/2025\"\n",
    "old_course = \"TPC Craig Ranch\"\n",
    "tournament_id = \"R2025019\"\n",
    "\n",
    "# New Tournament\n",
    "new_tournament_name = \"Truist Championship\"\n",
    "new_course = \"The Philadelphia Cricket Club\""
   ]
  },
  {
   "cell_type": "code",
   "execution_count": 4,
   "id": "a11f27ae",
   "metadata": {},
   "outputs": [],
   "source": [
    "# === LIBRARIES AND VARIABLES ===\n",
    "# Import necessary libraries\n",
    "import requests\n",
    "import pandas as pd\n",
    "from datetime import datetime\n",
    "import sqlite3 as sql\n",
    "import numpy as np\n",
    "from numpy import nan\n",
    "import os\n",
    "\n",
    "# ====================\n",
    "\n",
    "tournament_config = {\n",
    "    \"old\": {\n",
    "        \"name\": old_tournament_name,\n",
    "        \"date\": tournament_date,\n",
    "        \"course\": old_course,\n",
    "        \"id\": tournament_id\n",
    "    },\n",
    "    \"new\": {\n",
    "        \"name\": new_tournament_name,\n",
    "        \"course\": new_course,\n",
    "        \"quoted_course\": f'\"{new_course}\"',\n",
    "        \"quoted_name\": f\"'{new_tournament_name}'\"\n",
    "    }\n",
    "}"
   ]
  },
  {
   "cell_type": "markdown",
   "id": "cd739282",
   "metadata": {},
   "source": [
    "### Update Database"
   ]
  },
  {
   "cell_type": "markdown",
   "id": "cebfc2dc",
   "metadata": {},
   "source": [
    "#### Old Tournament"
   ]
  },
  {
   "cell_type": "code",
   "execution_count": 5,
   "id": "7b1e0936",
   "metadata": {},
   "outputs": [
    {
     "name": "stdout",
     "output_type": "stream",
     "text": [
      "def update_tournament_results(config: dict, db_path: str, season: int, year: int):\n",
      "    \"\"\"Scrapes and updates the tournament results in the SQLite DB.\"\"\"\n",
      "\n",
      "    # Extract tournament details\n",
      "    tourn_id = config[\"old\"][\"id\"]\n",
      "    tourn_name = config[\"old\"][\"name\"]\n",
      "    course = config[\"old\"][\"course\"]\n",
      "    date_str = config[\"old\"][\"date\"]\n",
      "\n",
      "    print(f\"📦 Preparing payload for tournament ID: {tourn_id}, year: {year}\")\n",
      "\n",
      "    payload = {\n",
      "        \"operationName\": \"TournamentPastResults\",\n",
      "        \"variables\": {\n",
      "            \"tournamentPastResultsId\": tourn_id,\n",
      "            \"year\": year\n",
      "        },\n",
      "        \"query\": \"\"\"query TournamentPastResults($tournamentPastResultsId: ID!, $year: Int) {\n",
      "            tournamentPastResults(id: $tournamentPastResultsId, year: $year) {\n",
      "                id\n",
      "                players {\n",
      "                    id\n",
      "                    position\n",
      "                    player {\n",
      "                        displayName\n",
      "                    }\n",
      "                    rounds {\n",
      "                        parRelativeScore\n",
      "                    }\n",
      "                    additionalData\n",
      "                }\n",
      "            }\n",
      "        }\"\"\"\n",
      "    }\n",
      "\n",
      "    # API request\n",
      "    print(\"📬 Sending request to PGA Tour API...\")\n",
      "    try:\n",
      "        response = requests.post(\n",
      "            \"https://orchestrator.pgatour.com/graphql\",\n",
      "            json=payload,\n",
      "            headers={\"x-api-key\": X_API_KEY},\n",
      "            verify=False  # TEMPORARY: Disable SSL verification\n",
      "        )\n",
      "        response.raise_for_status()\n",
      "        print(\"✅ API request succeeded.\")\n",
      "    except Exception as e:\n",
      "        print(\"❌ API request failed:\")\n",
      "        print(e)\n",
      "        return None\n",
      "\n",
      "    try:\n",
      "        json_data = response.json()\n",
      "        players = json_data[\"data\"][\"tournamentPastResults\"][\"players\"]\n",
      "        print(f\"🔍 Found {len(players)} players in response.\")\n",
      "    except Exception as e:\n",
      "        print(\"❌ Failed to parse JSON response:\")\n",
      "        print(\"Raw response:\", response.text)\n",
      "        raise e\n",
      "\n",
      "    if not players:\n",
      "        raise ValueError(\"No player data found. Check tournament ID and year.\")\n",
      "\n",
      "    # Convert to DataFrame\n",
      "    df = pd.DataFrame(map(lambda p: {\n",
      "        \"POS\": p[\"position\"],\n",
      "        \"PLAYER\": p[\"player\"][\"displayName\"],\n",
      "        \"ROUNDS:1\": p[\"rounds\"][0][\"parRelativeScore\"] if len(p[\"rounds\"]) > 0 else nan,\n",
      "        \"ROUNDS:2\": p[\"rounds\"][1][\"parRelativeScore\"] if len(p[\"rounds\"]) > 1 else nan,\n",
      "        \"ROUNDS:3\": p[\"rounds\"][2][\"parRelativeScore\"] if len(p[\"rounds\"]) > 2 else nan,\n",
      "        \"ROUNDS:4\": p[\"rounds\"][3][\"parRelativeScore\"] if len(p[\"rounds\"]) > 3 else nan,\n",
      "        \"OFFICIAL_MONEY\": p[\"additionalData\"][1],\n",
      "        \"FEDEX_CUP_POINTS\": p[\"additionalData\"][0],\n",
      "    }, players))\n",
      "\n",
      "    df = df.dropna(subset=[\"POS\"])\n",
      "    df[\"FINAL_POS\"] = df[\"POS\"].str.extract(r\"(\\d+)\", expand=False).fillna(90).astype(int)\n",
      "    df.insert(0, \"SEASON\", season)\n",
      "    df.insert(1, \"ENDING_DATE\", datetime.strptime(date_str, \"%m/%d/%Y\").date())\n",
      "    df.insert(2, \"TOURN_ID\", tourn_id)\n",
      "    df.insert(3, \"TOURNAMENT\", tourn_name)\n",
      "    df.insert(4, \"COURSE\", course)\n",
      "\n",
      "    print(\"💾 Connecting to database...\")\n",
      "    db = sql.connect(db_path)\n",
      "    existing = pd.read_sql(\"SELECT * FROM tournaments\", db)\n",
      "\n",
      "    # Merge & write\n",
      "    combined = pd.concat([existing, df]).drop_duplicates([\"PLAYER\", \"TOURNAMENT\", \"ENDING_DATE\"], keep=\"last\")\n",
      "    combined[\"ENDING_DATE\"] = pd.to_datetime(combined[\"ENDING_DATE\"]).dt.date\n",
      "    combined.to_sql(\"tournaments\", db, index=False, if_exists=\"replace\")\n",
      "    db.close()\n",
      "\n",
      "    print(f\"✅ Tournament results for '{tourn_name}' added to {db_path}\")\n",
      "    return combined\n",
      "\n"
     ]
    }
   ],
   "source": [
    "import importlib\n",
    "import utils.db_utils\n",
    "importlib.reload(utils.db_utils)\n",
    "\n",
    "from utils.db_utils import update_tournament_results\n",
    "\n",
    "import inspect\n",
    "print(inspect.getsource(update_tournament_results))"
   ]
  },
  {
   "cell_type": "code",
   "execution_count": 7,
   "id": "31b12dc0",
   "metadata": {},
   "outputs": [
    {
     "name": "stdout",
     "output_type": "stream",
     "text": [
      "📦 Preparing payload for tournament ID: R2025019, year: 20250\n",
      "📬 Sending request to PGA Tour API...\n",
      "❌ API request failed:\n",
      "HTTPSConnectionPool(host='orchestrator.pgatour.com', port=443): Max retries exceeded with url: /graphql (Caused by SSLError(SSLCertVerificationError(1, '[SSL: CERTIFICATE_VERIFY_FAILED] certificate verify failed: unable to get local issuer certificate (_ssl.c:1000)')))\n"
     ]
    },
    {
     "ename": "AttributeError",
     "evalue": "'NoneType' object has no attribute 'head'",
     "output_type": "error",
     "traceback": [
      "\u001b[31m---------------------------------------------------------------------------\u001b[39m",
      "\u001b[31mAttributeError\u001b[39m                            Traceback (most recent call last)",
      "\u001b[36mCell\u001b[39m\u001b[36m \u001b[39m\u001b[32mIn[7]\u001b[39m\u001b[32m, line 16\u001b[39m\n\u001b[32m     13\u001b[39m tournDf = update_tournament_results(tournament_config, db_path, season, year)\n\u001b[32m     15\u001b[39m \u001b[38;5;66;03m# Preview the result\u001b[39;00m\n\u001b[32m---> \u001b[39m\u001b[32m16\u001b[39m \u001b[43mtournDf\u001b[49m\u001b[43m.\u001b[49m\u001b[43mhead\u001b[49m()\n",
      "\u001b[31mAttributeError\u001b[39m: 'NoneType' object has no attribute 'head'"
     ]
    }
   ],
   "source": [
    "import importlib\n",
    "import utils.db_utils\n",
    "importlib.reload(utils.db_utils)\n",
    "\n",
    "from utils.db_utils import update_tournament_results\n",
    "\n",
    "# Define your constants\n",
    "season = 2025\n",
    "year = 20250\n",
    "db_path = \"data/golf.db\"  # Or use os.path.join(\"data\", \"golf.db\")\n",
    "\n",
    "# Run the update\n",
    "tournDf = update_tournament_results(tournament_config, db_path, season, year)\n",
    "\n",
    "# Preview the result\n",
    "tournDf.head()\n",
    "\n"
   ]
  },
  {
   "cell_type": "code",
   "execution_count": 1,
   "id": "ea91494a",
   "metadata": {},
   "outputs": [
    {
     "name": "stderr",
     "output_type": "stream",
     "text": [
      "c:\\Users\\rmiller\\AppData\\Local\\Programs\\Python\\Python313\\Lib\\site-packages\\urllib3\\connectionpool.py:1097: InsecureRequestWarning: Unverified HTTPS request is being made to host 'orchestrator.pgatour.com'. Adding certificate verification is strongly advised. See: https://urllib3.readthedocs.io/en/latest/advanced-usage.html#tls-warnings\n",
      "  warnings.warn(\n"
     ]
    },
    {
     "name": "stdout",
     "output_type": "stream",
     "text": [
      "✅ API response received!\n",
      "Response keys: dict_keys(['data'])\n"
     ]
    }
   ],
   "source": [
    "import requests\n",
    "\n",
    "X_API_KEY = \"da2-gsrx5bibzbb4njvhl7t37wqyl4\"\n",
    "\n",
    "test_payload = {\n",
    "    \"operationName\": \"TournamentPastResults\",\n",
    "    \"variables\": {\n",
    "        \"tournamentPastResultsId\": \"R2025012\",  # Example tournament ID\n",
    "        \"year\": 20250\n",
    "    },\n",
    "    \"query\": \"query TournamentPastResults($tournamentPastResultsId: ID!, $year: Int) {\\n  tournamentPastResults(id: $tournamentPastResultsId, year: $year) {\\n    id\\n    players { id position }\\n  }\\n}\"\n",
    "}\n",
    "\n",
    "try:\n",
    "    r = requests.post(\n",
    "        \"https://orchestrator.pgatour.com/graphql\",\n",
    "        json=test_payload,\n",
    "        headers={\"x-api-key\": X_API_KEY},\n",
    "        verify=False  # TEMP bypass\n",
    "    )\n",
    "    r.raise_for_status()\n",
    "    print(\"✅ API response received!\")\n",
    "    print(\"Response keys:\", r.json().keys())\n",
    "except Exception as e:\n",
    "    print(\"❌ API test failed:\")\n",
    "    print(e)"
   ]
  },
  {
   "cell_type": "code",
   "execution_count": 12,
   "id": "0dfa80cd",
   "metadata": {},
   "outputs": [
    {
     "name": "stderr",
     "output_type": "stream",
     "text": [
      "c:\\Users\\rmiller\\AppData\\Local\\Programs\\Python\\Python313\\Lib\\site-packages\\urllib3\\connectionpool.py:1097: InsecureRequestWarning: Unverified HTTPS request is being made to host 'orchestrator.pgatour.com'. Adding certificate verification is strongly advised. See: https://urllib3.readthedocs.io/en/latest/advanced-usage.html#tls-warnings\n",
      "  warnings.warn(\n"
     ]
    },
    {
     "name": "stdout",
     "output_type": "stream",
     "text": [
      "✅ Worked\n"
     ]
    }
   ],
   "source": [
    "import requests\n",
    "\n",
    "X_API_KEY = \"da2-gsrx5bibzbb4njvhl7t37wqyl4\"\n",
    "\n",
    "payload = {\n",
    "    \"operationName\": \"TournamentPastResults\",\n",
    "    \"variables\": {\n",
    "        \"tournamentPastResultsId\": \"R2025012\",\n",
    "        \"year\": 20250\n",
    "    },\n",
    "    \"query\": \"query TournamentPastResults($tournamentPastResultsId: ID!, $year: Int) {\\n  tournamentPastResults(id: $tournamentPastResultsId, year: $year) {\\n    id\\n    players { id position }\\n  }\\n}\"\n",
    "}\n",
    "\n",
    "r = requests.post(\n",
    "    \"https://orchestrator.pgatour.com/graphql\",\n",
    "    json=payload,\n",
    "    headers={\"x-api-key\": X_API_KEY},\n",
    "    verify=False  # Make sure this is here\n",
    ")\n",
    "\n",
    "r.raise_for_status()\n",
    "print(\"✅ Worked\")\n"
   ]
  }
 ],
 "metadata": {
  "kernelspec": {
   "display_name": "Python 3",
   "language": "python",
   "name": "python3"
  },
  "language_info": {
   "codemirror_mode": {
    "name": "ipython",
    "version": 3
   },
   "file_extension": ".py",
   "mimetype": "text/x-python",
   "name": "python",
   "nbconvert_exporter": "python",
   "pygments_lexer": "ipython3",
   "version": "3.13.3"
  }
 },
 "nbformat": 4,
 "nbformat_minor": 5
}
