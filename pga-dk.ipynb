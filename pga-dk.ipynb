{
 "cells": [
  {
   "cell_type": "markdown",
   "id": "51850cd5",
   "metadata": {},
   "source": [
    "## PGA Draftkings Notebook\n",
    "Use [PGA Website](https://www.pgatour.com/tournaments/schedule.html) to look up tournament info and fill out first USER INPUT block below. (Fetch/XHR from Network tab, Paylod sub-tab)\n",
    "\n",
    "Looks like the tournament ID is also in the address bar."
   ]
  },
  {
   "cell_type": "markdown",
   "id": "cc589d19",
   "metadata": {},
   "source": [
    "### User Input"
   ]
  },
  {
   "cell_type": "code",
   "execution_count": null,
   "id": "5b16fd89",
   "metadata": {},
   "outputs": [],
   "source": [
    "# === USER INPUTS ===\n",
    "# Old Tournament\n",
    "old_tournament_name = \"John Deere Classic\"\n",
    "tournament_date = \"7/6/2025\"  # Ending date of tournament\n",
    "old_course = \"TPC Deere Run\"\n",
    "tournament_id = \"R2025030\"  # Tournament ID from the PGA Tour API - Also visible in the URL of the tournament page\n",
    "\n",
    "# New Tournament\n",
    "new_tournament_name = \"Genesis Scottish Open\"\n",
    "new_ending_date = \"7/13/2025\"\n",
    "new_course = \"The Renaissance Club\"\n",
    "new_season = 2025\n",
    "\n",
    "\n",
    "# === LIBRARIES AND VARIABLES ===\n",
    "# Import necessary libraries\n",
    "import requests\n",
    "import pandas as pd\n",
    "from datetime import datetime\n",
    "import sqlite3 as sql\n",
    "import numpy as np\n",
    "from numpy import nan\n",
    "import os\n",
    "import importlib\n",
    "import utils.db_utils\n",
    "from utils.db_utils import TOURNAMENT_NAME_MAP, PLAYER_NAME_MAP\n",
    "\n",
    "# === TOURNAMENT CONFIG ===\n",
    "tournament_config = {\n",
    "    \"old\": {\n",
    "        \"name\": old_tournament_name,\n",
    "        \"date\": tournament_date,\n",
    "        \"course\": old_course,\n",
    "        \"id\": tournament_id\n",
    "    },\n",
    "    \"new\": {\n",
    "        \"name\": new_tournament_name,\n",
    "        \"course\": new_course,\n",
    "        \"season\": new_season,\n",
    "        \"ending_date\": pd.to_datetime(new_ending_date, format=\"%m/%d/%Y\"),\n",
    "        \"quoted_course\": f'\"{new_course}\"',\n",
    "        \"quoted_name\": f\"'{new_tournament_name}'\"\n",
    "    }\n",
    "}\n",
    "\n",
    "this_week_key = str(tournament_config[\"new\"][\"ending_date\"].date())\n",
    "\n",
    "# Create a minimal one-row history DataFrame\n",
    "this_week_history = pd.DataFrame([{\n",
    "    \"SEASON\": tournament_config[\"new\"][\"season\"],\n",
    "    \"TOURNAMENT\": tournament_config[\"new\"][\"name\"],\n",
    "    \"ENDING_DATE\": tournament_config[\"new\"][\"ending_date\"],\n",
    "    \"COURSE\": tournament_config[\"new\"][\"course\"],\n",
    "    \"TOURN_ID\": None\n",
    "}])"
   ]
  },
  {
   "cell_type": "markdown",
   "id": "cd739282",
   "metadata": {},
   "source": [
    "### Update Database"
   ]
  },
  {
   "cell_type": "markdown",
   "id": "cebfc2dc",
   "metadata": {},
   "source": [
    "#### Old Tournament"
   ]
  },
  {
   "cell_type": "code",
   "execution_count": 13,
   "id": "31b12dc0",
   "metadata": {},
   "outputs": [
    {
     "name": "stdout",
     "output_type": "stream",
     "text": [
      "📦 Fetching results for tournament ID R2025030 (John Deere Classic), year: 20250\n",
      "ℹ️ Tournament 'John Deere Classic' already exists — no new data inserted.\n"
     ]
    },
    {
     "data": {
      "text/html": [
       "<div>\n",
       "<style scoped>\n",
       "    .dataframe tbody tr th:only-of-type {\n",
       "        vertical-align: middle;\n",
       "    }\n",
       "\n",
       "    .dataframe tbody tr th {\n",
       "        vertical-align: top;\n",
       "    }\n",
       "\n",
       "    .dataframe thead th {\n",
       "        text-align: right;\n",
       "    }\n",
       "</style>\n",
       "<table border=\"1\" class=\"dataframe\">\n",
       "  <thead>\n",
       "    <tr style=\"text-align: right;\">\n",
       "      <th></th>\n",
       "      <th>SEASON</th>\n",
       "      <th>ENDING_DATE</th>\n",
       "      <th>TOURN_ID</th>\n",
       "      <th>TOURNAMENT</th>\n",
       "      <th>COURSE</th>\n",
       "      <th>PLAYER</th>\n",
       "      <th>POS</th>\n",
       "      <th>FINAL_POS</th>\n",
       "      <th>ROUNDS:1</th>\n",
       "      <th>ROUNDS:2</th>\n",
       "      <th>ROUNDS:3</th>\n",
       "      <th>ROUNDS:4</th>\n",
       "      <th>OFFICIAL_MONEY</th>\n",
       "      <th>FEDEX_CUP_POINTS</th>\n",
       "    </tr>\n",
       "  </thead>\n",
       "  <tbody>\n",
       "    <tr>\n",
       "      <th>0</th>\n",
       "      <td>2025</td>\n",
       "      <td>2025-07-06</td>\n",
       "      <td>R2025030</td>\n",
       "      <td>John Deere Classic</td>\n",
       "      <td>TPC Deere Run</td>\n",
       "      <td>Brian Campbell</td>\n",
       "      <td>1</td>\n",
       "      <td>1</td>\n",
       "      <td>-6</td>\n",
       "      <td>-5</td>\n",
       "      <td>-3</td>\n",
       "      <td>-4</td>\n",
       "      <td>$1,512,000.00</td>\n",
       "      <td>500.000</td>\n",
       "    </tr>\n",
       "    <tr>\n",
       "      <th>1</th>\n",
       "      <td>2025</td>\n",
       "      <td>2025-07-06</td>\n",
       "      <td>R2025030</td>\n",
       "      <td>John Deere Classic</td>\n",
       "      <td>TPC Deere Run</td>\n",
       "      <td>Emiliano Grillo</td>\n",
       "      <td>2</td>\n",
       "      <td>2</td>\n",
       "      <td>-6</td>\n",
       "      <td>-5</td>\n",
       "      <td>-3</td>\n",
       "      <td>-4</td>\n",
       "      <td>$915,600.00</td>\n",
       "      <td>300.000</td>\n",
       "    </tr>\n",
       "    <tr>\n",
       "      <th>2</th>\n",
       "      <td>2025</td>\n",
       "      <td>2025-07-06</td>\n",
       "      <td>R2025030</td>\n",
       "      <td>John Deere Classic</td>\n",
       "      <td>TPC Deere Run</td>\n",
       "      <td>Kevin Roy</td>\n",
       "      <td>T3</td>\n",
       "      <td>3</td>\n",
       "      <td>-4</td>\n",
       "      <td>-6</td>\n",
       "      <td>-1</td>\n",
       "      <td>-6</td>\n",
       "      <td>$495,600.00</td>\n",
       "      <td>162.500</td>\n",
       "    </tr>\n",
       "    <tr>\n",
       "      <th>3</th>\n",
       "      <td>2025</td>\n",
       "      <td>2025-07-06</td>\n",
       "      <td>R2025030</td>\n",
       "      <td>John Deere Classic</td>\n",
       "      <td>TPC Deere Run</td>\n",
       "      <td>David Lipsky</td>\n",
       "      <td>T3</td>\n",
       "      <td>3</td>\n",
       "      <td>-7</td>\n",
       "      <td>-4</td>\n",
       "      <td>-3</td>\n",
       "      <td>-3</td>\n",
       "      <td>$495,600.00</td>\n",
       "      <td>162.500</td>\n",
       "    </tr>\n",
       "    <tr>\n",
       "      <th>4</th>\n",
       "      <td>2025</td>\n",
       "      <td>2025-07-06</td>\n",
       "      <td>R2025030</td>\n",
       "      <td>John Deere Classic</td>\n",
       "      <td>TPC Deere Run</td>\n",
       "      <td>Carson Young</td>\n",
       "      <td>T5</td>\n",
       "      <td>5</td>\n",
       "      <td>-4</td>\n",
       "      <td>-3</td>\n",
       "      <td>-2</td>\n",
       "      <td>-7</td>\n",
       "      <td>$278,250.00</td>\n",
       "      <td>90.000</td>\n",
       "    </tr>\n",
       "  </tbody>\n",
       "</table>\n",
       "</div>"
      ],
      "text/plain": [
       "   SEASON ENDING_DATE  TOURN_ID          TOURNAMENT         COURSE  \\\n",
       "0    2025  2025-07-06  R2025030  John Deere Classic  TPC Deere Run   \n",
       "1    2025  2025-07-06  R2025030  John Deere Classic  TPC Deere Run   \n",
       "2    2025  2025-07-06  R2025030  John Deere Classic  TPC Deere Run   \n",
       "3    2025  2025-07-06  R2025030  John Deere Classic  TPC Deere Run   \n",
       "4    2025  2025-07-06  R2025030  John Deere Classic  TPC Deere Run   \n",
       "\n",
       "            PLAYER POS  FINAL_POS ROUNDS:1 ROUNDS:2 ROUNDS:3 ROUNDS:4  \\\n",
       "0   Brian Campbell   1          1       -6       -5       -3       -4   \n",
       "1  Emiliano Grillo   2          2       -6       -5       -3       -4   \n",
       "2        Kevin Roy  T3          3       -4       -6       -1       -6   \n",
       "3     David Lipsky  T3          3       -7       -4       -3       -3   \n",
       "4     Carson Young  T5          5       -4       -3       -2       -7   \n",
       "\n",
       "  OFFICIAL_MONEY FEDEX_CUP_POINTS  \n",
       "0  $1,512,000.00          500.000  \n",
       "1    $915,600.00          300.000  \n",
       "2    $495,600.00          162.500  \n",
       "3    $495,600.00          162.500  \n",
       "4    $278,250.00           90.000  "
      ]
     },
     "execution_count": 13,
     "metadata": {},
     "output_type": "execute_result"
    }
   ],
   "source": [
    "importlib.reload(utils.db_utils)  # Only needed if you're actively editing db_utils.py\n",
    "from utils.db_utils import update_tournament_results\n",
    "\n",
    "# Change these each year!!\n",
    "season = 2025\n",
    "year = 20250  # Unique GraphQL year distinguishing number in case of multiple per year\n",
    "\n",
    "# Run the update\n",
    "db_path = \"data/golf.db\"  # Or use os.path.join(\"data\", \"golf.db\")\n",
    "tournDf = update_tournament_results(tournament_config, db_path, season, year)\n",
    "\n",
    "# Show just the most recent tournament added for confirmation\n",
    "from sqlalchemy import create_engine\n",
    "\n",
    "engine = create_engine(f\"sqlite:///{db_path}\")\n",
    "\n",
    "query = f\"\"\"\n",
    "SELECT *\n",
    "FROM tournaments\n",
    "WHERE TOURN_ID = '{tournament_config['old']['id']}'\n",
    "  AND ENDING_DATE = '{datetime.strptime(tournament_config['old']['date'], '%m/%d/%Y').date()}'\n",
    "\"\"\"\n",
    "\n",
    "recent = pd.read_sql(query, engine)\n",
    "engine.dispose()\n",
    "recent.sort_values(by='FINAL_POS').head()"
   ]
  },
  {
   "cell_type": "markdown",
   "id": "fb1dcb69",
   "metadata": {},
   "source": [
    "#### Stats"
   ]
  },
  {
   "cell_type": "code",
   "execution_count": 14,
   "id": "0cf3acf5",
   "metadata": {},
   "outputs": [
    {
     "name": "stdout",
     "output_type": "stream",
     "text": [
      "✅ Overwrote stats for season 2025 with 998 rows.\n"
     ]
    },
    {
     "data": {
      "text/html": [
       "<div>\n",
       "<style scoped>\n",
       "    .dataframe tbody tr th:only-of-type {\n",
       "        vertical-align: middle;\n",
       "    }\n",
       "\n",
       "    .dataframe tbody tr th {\n",
       "        vertical-align: top;\n",
       "    }\n",
       "\n",
       "    .dataframe thead th {\n",
       "        text-align: right;\n",
       "    }\n",
       "</style>\n",
       "<table border=\"1\" class=\"dataframe\">\n",
       "  <thead>\n",
       "    <tr style=\"text-align: right;\">\n",
       "      <th></th>\n",
       "      <th>PLAYER</th>\n",
       "      <th>SGTTG_RANK</th>\n",
       "      <th>SGTTG</th>\n",
       "      <th>SGOTT_RANK</th>\n",
       "      <th>SGOTT</th>\n",
       "      <th>SGAPR_RANK</th>\n",
       "      <th>SGAPR</th>\n",
       "      <th>SGATG_RANK</th>\n",
       "      <th>SGATG</th>\n",
       "      <th>SGP_RANK</th>\n",
       "      <th>...</th>\n",
       "      <th>DRIVING_DISTANCE</th>\n",
       "      <th>DRIVING_ACCURACY_RANK</th>\n",
       "      <th>DRIVING_ACCURACY</th>\n",
       "      <th>GIR_RANK</th>\n",
       "      <th>GIR</th>\n",
       "      <th>SCRAMBLING_RANK</th>\n",
       "      <th>SCRAMBLING</th>\n",
       "      <th>OWGR_RANK</th>\n",
       "      <th>OWGR</th>\n",
       "      <th>SEASON</th>\n",
       "    </tr>\n",
       "  </thead>\n",
       "  <tbody>\n",
       "    <tr>\n",
       "      <th>0</th>\n",
       "      <td>A.J. Ewart</td>\n",
       "      <td>NaN</td>\n",
       "      <td>NaN</td>\n",
       "      <td>NaN</td>\n",
       "      <td>NaN</td>\n",
       "      <td>NaN</td>\n",
       "      <td>NaN</td>\n",
       "      <td>NaN</td>\n",
       "      <td>NaN</td>\n",
       "      <td>NaN</td>\n",
       "      <td>...</td>\n",
       "      <td>NaN</td>\n",
       "      <td>NaN</td>\n",
       "      <td>NaN</td>\n",
       "      <td>NaN</td>\n",
       "      <td>NaN</td>\n",
       "      <td>NaN</td>\n",
       "      <td>NaN</td>\n",
       "      <td>624</td>\n",
       "      <td>.1888</td>\n",
       "      <td>2025</td>\n",
       "    </tr>\n",
       "    <tr>\n",
       "      <th>1</th>\n",
       "      <td>Aaron Baddeley</td>\n",
       "      <td>NaN</td>\n",
       "      <td>NaN</td>\n",
       "      <td>NaN</td>\n",
       "      <td>NaN</td>\n",
       "      <td>NaN</td>\n",
       "      <td>NaN</td>\n",
       "      <td>NaN</td>\n",
       "      <td>NaN</td>\n",
       "      <td>NaN</td>\n",
       "      <td>...</td>\n",
       "      <td>NaN</td>\n",
       "      <td>NaN</td>\n",
       "      <td>NaN</td>\n",
       "      <td>NaN</td>\n",
       "      <td>NaN</td>\n",
       "      <td>NaN</td>\n",
       "      <td>NaN</td>\n",
       "      <td>488</td>\n",
       "      <td>.2726</td>\n",
       "      <td>2025</td>\n",
       "    </tr>\n",
       "    <tr>\n",
       "      <th>2</th>\n",
       "      <td>Aaron Cockerill</td>\n",
       "      <td>NaN</td>\n",
       "      <td>NaN</td>\n",
       "      <td>NaN</td>\n",
       "      <td>NaN</td>\n",
       "      <td>NaN</td>\n",
       "      <td>NaN</td>\n",
       "      <td>NaN</td>\n",
       "      <td>NaN</td>\n",
       "      <td>NaN</td>\n",
       "      <td>...</td>\n",
       "      <td>NaN</td>\n",
       "      <td>NaN</td>\n",
       "      <td>NaN</td>\n",
       "      <td>NaN</td>\n",
       "      <td>NaN</td>\n",
       "      <td>NaN</td>\n",
       "      <td>NaN</td>\n",
       "      <td>327</td>\n",
       "      <td>.4381</td>\n",
       "      <td>2025</td>\n",
       "    </tr>\n",
       "    <tr>\n",
       "      <th>3</th>\n",
       "      <td>Aaron Rai</td>\n",
       "      <td>27.0</td>\n",
       "      <td>0.769</td>\n",
       "      <td>22.0</td>\n",
       "      <td>0.407</td>\n",
       "      <td>46.0</td>\n",
       "      <td>0.280</td>\n",
       "      <td>64.0</td>\n",
       "      <td>0.082</td>\n",
       "      <td>117.0</td>\n",
       "      <td>...</td>\n",
       "      <td>287.3</td>\n",
       "      <td>1.0</td>\n",
       "      <td>74.04%</td>\n",
       "      <td>21.0</td>\n",
       "      <td>69.44%</td>\n",
       "      <td>111.0</td>\n",
       "      <td>58.77%</td>\n",
       "      <td>34</td>\n",
       "      <td>2.6185</td>\n",
       "      <td>2025</td>\n",
       "    </tr>\n",
       "    <tr>\n",
       "      <th>4</th>\n",
       "      <td>Aaron Wilkin</td>\n",
       "      <td>NaN</td>\n",
       "      <td>NaN</td>\n",
       "      <td>NaN</td>\n",
       "      <td>NaN</td>\n",
       "      <td>NaN</td>\n",
       "      <td>NaN</td>\n",
       "      <td>NaN</td>\n",
       "      <td>NaN</td>\n",
       "      <td>NaN</td>\n",
       "      <td>...</td>\n",
       "      <td>NaN</td>\n",
       "      <td>NaN</td>\n",
       "      <td>NaN</td>\n",
       "      <td>NaN</td>\n",
       "      <td>NaN</td>\n",
       "      <td>NaN</td>\n",
       "      <td>NaN</td>\n",
       "      <td>852</td>\n",
       "      <td>.1117</td>\n",
       "      <td>2025</td>\n",
       "    </tr>\n",
       "  </tbody>\n",
       "</table>\n",
       "<p>5 rows × 32 columns</p>\n",
       "</div>"
      ],
      "text/plain": [
       "            PLAYER  SGTTG_RANK  SGTTG  SGOTT_RANK  SGOTT  SGAPR_RANK  SGAPR  \\\n",
       "0       A.J. Ewart         NaN    NaN         NaN    NaN         NaN    NaN   \n",
       "1   Aaron Baddeley         NaN    NaN         NaN    NaN         NaN    NaN   \n",
       "2  Aaron Cockerill         NaN    NaN         NaN    NaN         NaN    NaN   \n",
       "3        Aaron Rai        27.0  0.769        22.0  0.407        46.0  0.280   \n",
       "4     Aaron Wilkin         NaN    NaN         NaN    NaN         NaN    NaN   \n",
       "\n",
       "   SGATG_RANK  SGATG  SGP_RANK  ... DRIVING_DISTANCE  DRIVING_ACCURACY_RANK  \\\n",
       "0         NaN    NaN       NaN  ...              NaN                    NaN   \n",
       "1         NaN    NaN       NaN  ...              NaN                    NaN   \n",
       "2         NaN    NaN       NaN  ...              NaN                    NaN   \n",
       "3        64.0  0.082     117.0  ...            287.3                    1.0   \n",
       "4         NaN    NaN       NaN  ...              NaN                    NaN   \n",
       "\n",
       "  DRIVING_ACCURACY  GIR_RANK     GIR  SCRAMBLING_RANK SCRAMBLING  OWGR_RANK  \\\n",
       "0              NaN       NaN     NaN              NaN        NaN        624   \n",
       "1              NaN       NaN     NaN              NaN        NaN        488   \n",
       "2              NaN       NaN     NaN              NaN        NaN        327   \n",
       "3           74.04%      21.0  69.44%            111.0     58.77%         34   \n",
       "4              NaN       NaN     NaN              NaN        NaN        852   \n",
       "\n",
       "     OWGR  SEASON  \n",
       "0   .1888    2025  \n",
       "1   .2726    2025  \n",
       "2   .4381    2025  \n",
       "3  2.6185    2025  \n",
       "4   .1117    2025  \n",
       "\n",
       "[5 rows x 32 columns]"
      ]
     },
     "execution_count": 14,
     "metadata": {},
     "output_type": "execute_result"
    }
   ],
   "source": [
    "importlib.reload(utils.db_utils)\n",
    "from utils.db_utils import update_season_stats  # <- This line is essential\n",
    "\n",
    "# Change these each year!!\n",
    "statsYear = 2025\n",
    "\n",
    "stats_df = update_season_stats(statsYear, db_path)\n",
    "stats_df.head()"
   ]
  },
  {
   "cell_type": "markdown",
   "id": "e4d0572b",
   "metadata": {},
   "source": [
    "#### Odds\n",
    "Not usually needed for weekly routine."
   ]
  },
  {
   "cell_type": "markdown",
   "id": "ed73bb90",
   "metadata": {},
   "source": [
    "**Manual Fix! Odds name cleanup (only needed when joins fail)**\n",
    "\n",
    "Make sure to update the dictionaries in db_utils.py if new names need to be added."
   ]
  },
  {
   "cell_type": "code",
   "execution_count": 30,
   "id": "f47573f7",
   "metadata": {},
   "outputs": [
    {
     "name": "stdout",
     "output_type": "stream",
     "text": [
      "ℹ️ No odds rows required name cleanup.\n"
     ]
    },
    {
     "data": {
      "text/html": [
       "<div>\n",
       "<style scoped>\n",
       "    .dataframe tbody tr th:only-of-type {\n",
       "        vertical-align: middle;\n",
       "    }\n",
       "\n",
       "    .dataframe tbody tr th {\n",
       "        vertical-align: top;\n",
       "    }\n",
       "\n",
       "    .dataframe thead th {\n",
       "        text-align: right;\n",
       "    }\n",
       "</style>\n",
       "<table border=\"1\" class=\"dataframe\">\n",
       "  <thead>\n",
       "    <tr style=\"text-align: right;\">\n",
       "      <th></th>\n",
       "      <th>SEASON</th>\n",
       "      <th>TOURNAMENT</th>\n",
       "      <th>ENDING_DATE</th>\n",
       "      <th>PLAYER</th>\n",
       "      <th>ODDS</th>\n",
       "      <th>VEGAS_ODDS</th>\n",
       "      <th>TOURNAMENT_ORIG</th>\n",
       "      <th>PLAYER_ORIG</th>\n",
       "    </tr>\n",
       "  </thead>\n",
       "  <tbody>\n",
       "  </tbody>\n",
       "</table>\n",
       "</div>"
      ],
      "text/plain": [
       "Empty DataFrame\n",
       "Columns: [SEASON, TOURNAMENT, ENDING_DATE, PLAYER, ODDS, VEGAS_ODDS, TOURNAMENT_ORIG, PLAYER_ORIG]\n",
       "Index: []"
      ]
     },
     "execution_count": 30,
     "metadata": {},
     "output_type": "execute_result"
    }
   ],
   "source": [
    "importlib.reload(utils.db_utils)\n",
    "from utils.db_utils import clean_odds_names, PLAYER_NAME_MAP, TOURNAMENT_NAME_MAP\n",
    "\n",
    "db_path = \"data/golf.db\" \n",
    "updated_odds = clean_odds_names(db_path, TOURNAMENT_NAME_MAP, PLAYER_NAME_MAP)\n",
    "updated_odds.head()"
   ]
  },
  {
   "cell_type": "markdown",
   "id": "3ffcf8d8",
   "metadata": {},
   "source": [
    "**Historical Odds Updates**\n",
    "\n",
    "Only run this when loading in entire year odds at the start of each year or if corrections need to be made.  This will load in the entire year into the database and update it using the dictionary in db_utils.py."
   ]
  },
  {
   "cell_type": "code",
   "execution_count": 31,
   "id": "7b0ef77d",
   "metadata": {},
   "outputs": [
    {
     "name": "stdout",
     "output_type": "stream",
     "text": [
      "ℹ️ Historical odds for season 2023 already exist — no new rows added.\n"
     ]
    },
    {
     "data": {
      "text/html": [
       "<div>\n",
       "<style scoped>\n",
       "    .dataframe tbody tr th:only-of-type {\n",
       "        vertical-align: middle;\n",
       "    }\n",
       "\n",
       "    .dataframe tbody tr th {\n",
       "        vertical-align: top;\n",
       "    }\n",
       "\n",
       "    .dataframe thead th {\n",
       "        text-align: right;\n",
       "    }\n",
       "</style>\n",
       "<table border=\"1\" class=\"dataframe\">\n",
       "  <thead>\n",
       "    <tr style=\"text-align: right;\">\n",
       "      <th></th>\n",
       "      <th>SEASON</th>\n",
       "      <th>TOURNAMENT</th>\n",
       "      <th>ENDING_DATE</th>\n",
       "      <th>PLAYER</th>\n",
       "      <th>ODDS</th>\n",
       "      <th>VEGAS_ODDS</th>\n",
       "    </tr>\n",
       "  </thead>\n",
       "  <tbody>\n",
       "    <tr>\n",
       "      <th>4</th>\n",
       "      <td>2023</td>\n",
       "      <td>Fortinet Championship</td>\n",
       "      <td>2022-09-18</td>\n",
       "      <td>Hideki Matsuyama</td>\n",
       "      <td>18/1</td>\n",
       "      <td>18.0</td>\n",
       "    </tr>\n",
       "    <tr>\n",
       "      <th>5</th>\n",
       "      <td>2023</td>\n",
       "      <td>Fortinet Championship</td>\n",
       "      <td>2022-09-18</td>\n",
       "      <td>Max Homa</td>\n",
       "      <td>18/1</td>\n",
       "      <td>18.0</td>\n",
       "    </tr>\n",
       "    <tr>\n",
       "      <th>6</th>\n",
       "      <td>2023</td>\n",
       "      <td>Fortinet Championship</td>\n",
       "      <td>2022-09-18</td>\n",
       "      <td>Corey Conners</td>\n",
       "      <td>20/1</td>\n",
       "      <td>20.0</td>\n",
       "    </tr>\n",
       "    <tr>\n",
       "      <th>7</th>\n",
       "      <td>2023</td>\n",
       "      <td>Fortinet Championship</td>\n",
       "      <td>2022-09-18</td>\n",
       "      <td>Maverick McNealy</td>\n",
       "      <td>25/1</td>\n",
       "      <td>25.0</td>\n",
       "    </tr>\n",
       "    <tr>\n",
       "      <th>8</th>\n",
       "      <td>2023</td>\n",
       "      <td>Fortinet Championship</td>\n",
       "      <td>2022-09-18</td>\n",
       "      <td>Taylor Pendrith</td>\n",
       "      <td>25/1</td>\n",
       "      <td>25.0</td>\n",
       "    </tr>\n",
       "  </tbody>\n",
       "</table>\n",
       "</div>"
      ],
      "text/plain": [
       "   SEASON             TOURNAMENT ENDING_DATE            PLAYER  ODDS  \\\n",
       "4    2023  Fortinet Championship  2022-09-18  Hideki Matsuyama  18/1   \n",
       "5    2023  Fortinet Championship  2022-09-18          Max Homa  18/1   \n",
       "6    2023  Fortinet Championship  2022-09-18     Corey Conners  20/1   \n",
       "7    2023  Fortinet Championship  2022-09-18  Maverick McNealy  25/1   \n",
       "8    2023  Fortinet Championship  2022-09-18   Taylor Pendrith  25/1   \n",
       "\n",
       "   VEGAS_ODDS  \n",
       "4        18.0  \n",
       "5        18.0  \n",
       "6        20.0  \n",
       "7        25.0  \n",
       "8        25.0  "
      ]
     },
     "execution_count": 31,
     "metadata": {},
     "output_type": "execute_result"
    }
   ],
   "source": [
    "importlib.reload(utils.db_utils)\n",
    "from utils.db_utils import import_historical_odds\n",
    "\n",
    "oddsYear = \"2022-2023\"    # URL segment\n",
    "season = 2023             # PGA Tour season\n",
    "db_path = \"data/golf.db\"\n",
    "\n",
    "odds_df = import_historical_odds(oddsYear, season, db_path)\n",
    "odds_df.head()"
   ]
  },
  {
   "cell_type": "markdown",
   "id": "82fc5dfe",
   "metadata": {},
   "source": [
    "**Not normally needed**\n",
    "\n",
    "The code below is a way to troubleshoot the odds function that is in db_utils.py.  If it does not pull the stats correctly, we can run it outside of the db_utils.py file and explore what might be wrong with it, iterating until it works, and then using that fix to update db_utils.py.  This is not normally needed, but wanted to leave this in place as a reference because this odds website can be tricky."
   ]
  },
  {
   "cell_type": "code",
   "execution_count": 32,
   "id": "94460f27",
   "metadata": {},
   "outputs": [
    {
     "name": "stdout",
     "output_type": "stream",
     "text": [
      "📍 Detected: Safeway Open — Ending: 2020-09-13\n",
      "📍 Detected: US Open — Ending: 2020-09-20\n",
      "📍 Detected: R & C Championship — Ending: 2020-09-27\n",
      "📍 Detected: at Big Cedar Lodge - — Ending: 2020-09-22\n",
      "📍 Detected: Sanderson Farms Champ — Ending: 2020-10-04\n",
      "📍 Detected: Shriners H for C Open — Ending: 2020-10-11\n",
      "📍 Detected: The CJ Cup — Ending: 2020-10-18\n",
      "📍 Detected: ZOZO CHAMPIONSHIP — Ending: 2020-10-25\n",
      "📍 Detected: Bermuda Championship — Ending: 2020-11-01\n",
      "📍 Detected: Vivint Houston Open — Ending: 2020-11-08\n",
      "📍 Detected: The Masters — Ending: 2020-11-15\n",
      "📍 Detected: The RSM Classic — Ending: 2020-11-22\n",
      "📍 Detected: Champions for Change — Ending: 2020-11-27\n",
      "📍 Detected: Mayakoba Golf Classic — Ending: 2020-12-06\n",
      "📍 Detected: QBE Shootout — Ending: 2020-12-13\n",
      "📍 Detected: Sentry Tourn of Champions — Ending: 2021-01-10\n",
      "📍 Detected: Sony Open in Hawaii — Ending: 2021-01-17\n",
      "📍 Detected: The American Express — Ending: 2021-01-24\n",
      "📍 Detected: Abu Dhabi HSBC Champ — Ending: 2021-01-24\n",
      "📍 Detected: Farmers Insurance Open — Ending: 2021-01-31\n",
      "📍 Detected: Dubai Desert Classic — Ending: 2021-01-31\n",
      "📍 Detected: W M Phoenix Open — Ending: 2021-02-07\n",
      "📍 Detected: King Abdullah Economic City, — Ending: 2021-02-07\n",
      "📍 Detected: AT&T Pebble Beach Pro-Am — Ending: 2021-02-14\n",
      "📍 Detected: Collegiate Showcase — Ending: 2021-02-15\n",
      "📍 Detected: The Genesis Invitational — Ending: 2021-02-21\n",
      "📍 Detected: WGC-Workday Championship — Ending: 2021-02-28\n",
      "📍 Detected: Puerto Rico Open — Ending: 2021-02-28\n",
      "📍 Detected: Arnold Palmer Invitational — Ending: 2021-03-07\n",
      "📍 Detected: THE PLAYERS Championship — Ending: 2021-03-14\n",
      "📍 Detected: Qatar Masters — Ending: 2021-03-14\n",
      "📍 Detected: The Honda Classic — Ending: 2021-03-21\n",
      "📍 Detected: Magical Kenya Open — Ending: 2021-03-21\n",
      "📍 Detected: Kenya Savannah Classic — Ending: 2021-03-26\n",
      "📍 Detected: WGC-Dell Tech Match Play — Ending: 2021-03-28\n",
      "📍 Detected: Corales Punta Cana Champ — Ending: 2021-03-28\n",
      "📍 Detected: Valero Texas Open — Ending: 2021-04-04\n",
      "📍 Detected: The Masters — Ending: 2021-04-11\n",
      "📍 Detected: RBC Heritage — Ending: 2021-04-18\n",
      "📍 Detected: Austrian Golf Open — Ending: 2021-04-18\n",
      "📍 Detected: MGM Resorts Championship — Ending: 2021-04-18\n",
      "📍 Detected: Zurich Classic of New Orleans — Ending: 2021-04-25\n",
      "📍 Detected: Gran Canaria Lopesan Open — Ending: 2021-04-25\n",
      "📍 Detected: Valspar Championship — Ending: 2021-05-02\n",
      "📍 Detected: Tenerife Open — Ending: 2021-05-02\n",
      "📍 Detected: Wells Fargo Championship — Ending: 2021-05-09\n",
      "📍 Detected: Canary Islands Championship — Ending: 2021-05-09\n",
      "📍 Detected: AT&T Byron Nelson — Ending: 2021-05-16\n",
      "📍 Detected: British Masters — Ending: 2021-05-16\n",
      "📍 Detected: PGA Championship — Ending: 2021-05-23\n",
      "📍 Detected: Charles Schwab Challenge — Ending: 2021-05-30\n",
      "📍 Detected: Made in Himmerland — Ending: 2021-05-30\n",
      "📍 Detected: The Memorial Tournament — Ending: 2021-06-06\n",
      "📍 Detected: Porsche European Open — Ending: 2021-06-07\n",
      "📍 Detected: Palmetto Championship — Ending: 2021-06-13\n",
      "📍 Detected: Scandinavian Mixed — Ending: 2021-06-13\n",
      "📍 Detected: US Open — Ending: 2021-06-20\n",
      "📍 Detected: Travelers Championship — Ending: 2021-06-27\n",
      "📍 Detected: BMW International Open — Ending: 2021-06-27\n",
      "📍 Detected: Rocket Mortgage Classic — Ending: 2021-07-04\n",
      "📍 Detected: Dubai Duty Free Irish Open — Ending: 2021-07-04\n",
      "📍 Detected: Moonlight Basin - — Ending: 2021-07-06\n",
      "📍 Detected: John Deere Classic — Ending: 2021-07-11\n",
      "📍 Detected: abrdn Scottish Open — Ending: 2021-07-11\n",
      "📍 Detected: The Open Championship — Ending: 2021-07-18\n",
      "📍 Detected: Barbasol Championship — Ending: 2021-07-18\n",
      "📍 Detected: 3M Open — Ending: 2021-07-25\n",
      "📍 Detected: Cazoo Open — Ending: 2021-07-25\n",
      "📍 Detected: Men's Olympic Golf — Ending: 2021-08-01\n",
      "📍 Detected: World Invitational — Ending: 2021-08-01\n",
      "📍 Detected: WGC-FedEx St. Jude Invit — Ending: 2021-08-08\n",
      "📍 Detected: Barracuda Championship — Ending: 2021-08-08\n",
      "📍 Detected: Hero Open — Ending: 2021-08-08\n",
      "📍 Detected: Wyndham Championship — Ending: 2021-08-15\n",
      "📍 Detected: Cazoo Classic — Ending: 2021-08-15\n",
      "📍 Detected: The Northern Trust — Ending: 2021-08-23\n",
      "📍 Detected: D+D Real Czech Masters — Ending: 2021-08-22\n",
      "📍 Detected: BMW Championship — Ending: 2021-08-29\n",
      "📍 Detected: Omega European Masters — Ending: 2021-08-29\n",
      "📍 Detected: TOUR Championship — Ending: 2021-09-05\n",
      "📍 Detected: Italian Open — Ending: 2021-09-05\n",
      "📍 Detected: BMW PGA Championship — Ending: 2021-09-12\n",
      "📍 Detected: Dutch Open — Ending: 2021-09-19\n",
      "📍 Detected: 43rd Ryder Cup — Ending: 2021-09-26\n",
      "📍 Detected: Alfred Dunhill Links Champ — Ending: 2021-10-03\n",
      "📍 Detected: Open de Espana — Ending: 2021-10-10\n",
      "📍 Detected: Andalucia Masters — Ending: 2021-10-17\n",
      "📍 Detected: Mallorca Golf Open — Ending: 2021-10-24\n",
      "📍 Detected: Portugal Masters — Ending: 2021-11-07\n",
      "📍 Detected: AVIV Dubai Championship — Ending: 2021-11-14\n",
      "📍 Detected: DP World Tour Championship — Ending: 2021-11-21\n",
      "📍 Detected: Golf Nippon Series JT Cup — Ending: 2021-12-05\n"
     ]
    },
    {
     "data": {
      "text/html": [
       "<div>\n",
       "<style scoped>\n",
       "    .dataframe tbody tr th:only-of-type {\n",
       "        vertical-align: middle;\n",
       "    }\n",
       "\n",
       "    .dataframe tbody tr th {\n",
       "        vertical-align: top;\n",
       "    }\n",
       "\n",
       "    .dataframe thead th {\n",
       "        text-align: right;\n",
       "    }\n",
       "</style>\n",
       "<table border=\"1\" class=\"dataframe\">\n",
       "  <thead>\n",
       "    <tr style=\"text-align: right;\">\n",
       "      <th></th>\n",
       "      <th>SEASON</th>\n",
       "      <th>TOURNAMENT</th>\n",
       "      <th>ENDING_DATE</th>\n",
       "      <th>PLAYER</th>\n",
       "      <th>ODDS</th>\n",
       "      <th>VEGAS_ODDS</th>\n",
       "    </tr>\n",
       "  </thead>\n",
       "  <tbody>\n",
       "    <tr>\n",
       "      <th>0</th>\n",
       "      <td>2021</td>\n",
       "      <td>Safeway Open</td>\n",
       "      <td>2020-09-13</td>\n",
       "      <td>Phil Mickelson</td>\n",
       "      <td>20/1</td>\n",
       "      <td>20.0</td>\n",
       "    </tr>\n",
       "    <tr>\n",
       "      <th>1</th>\n",
       "      <td>2021</td>\n",
       "      <td>Safeway Open</td>\n",
       "      <td>2020-09-13</td>\n",
       "      <td>Si Woo Kim</td>\n",
       "      <td>20/1</td>\n",
       "      <td>20.0</td>\n",
       "    </tr>\n",
       "    <tr>\n",
       "      <th>2</th>\n",
       "      <td>2021</td>\n",
       "      <td>Safeway Open</td>\n",
       "      <td>2020-09-13</td>\n",
       "      <td>Brendan Steele</td>\n",
       "      <td>20/1</td>\n",
       "      <td>20.0</td>\n",
       "    </tr>\n",
       "    <tr>\n",
       "      <th>3</th>\n",
       "      <td>2021</td>\n",
       "      <td>Safeway Open</td>\n",
       "      <td>2020-09-13</td>\n",
       "      <td>Shane Lowry</td>\n",
       "      <td>25/1</td>\n",
       "      <td>25.0</td>\n",
       "    </tr>\n",
       "    <tr>\n",
       "      <th>4</th>\n",
       "      <td>2021</td>\n",
       "      <td>Safeway Open</td>\n",
       "      <td>2020-09-13</td>\n",
       "      <td>Sergio Garcia</td>\n",
       "      <td>30/1</td>\n",
       "      <td>30.0</td>\n",
       "    </tr>\n",
       "  </tbody>\n",
       "</table>\n",
       "</div>"
      ],
      "text/plain": [
       "   SEASON    TOURNAMENT ENDING_DATE          PLAYER  ODDS  VEGAS_ODDS\n",
       "0    2021  Safeway Open  2020-09-13  Phil Mickelson  20/1        20.0\n",
       "1    2021  Safeway Open  2020-09-13      Si Woo Kim  20/1        20.0\n",
       "2    2021  Safeway Open  2020-09-13  Brendan Steele  20/1        20.0\n",
       "3    2021  Safeway Open  2020-09-13     Shane Lowry  25/1        25.0\n",
       "4    2021  Safeway Open  2020-09-13   Sergio Garcia  30/1        30.0"
      ]
     },
     "metadata": {},
     "output_type": "display_data"
    }
   ],
   "source": [
    "import pandas as pd\n",
    "import numpy as np\n",
    "import requests\n",
    "import re\n",
    "from datetime import datetime\n",
    "from io import StringIO\n",
    "\n",
    "# === USER INPUT ===\n",
    "oddsYear = \"2020-2021\"    # URL segment\n",
    "season = 2021        # PGA Tour season\n",
    "\n",
    "url = f\"http://golfodds.com/archives-{oddsYear}.html\"\n",
    "response = requests.get(url)\n",
    "tables = pd.read_html(StringIO(response.text))\n",
    "# raw_df = tables[5]  # the actual table of interest\n",
    "# Find the largest 2-column table that contains at least some odds-like strings\n",
    "raw_df = None\n",
    "for tbl in tables:\n",
    "    if tbl.shape[1] == 2 and tbl.shape[0] > 50:  # Rough filter\n",
    "        sample = tbl.iloc[:, 1].astype(str).str.contains(r\"\\d+/\\d+\").sum()\n",
    "        if sample > 5:\n",
    "            raw_df = tbl\n",
    "            break\n",
    "\n",
    "if raw_df is None:\n",
    "    raise ValueError(\"❌ Could not find valid odds table on the page.\")\n",
    "\n",
    "# === STEP 1: Initial clean-up ===\n",
    "df = raw_df.dropna(how=\"all\").reset_index(drop=True)\n",
    "df.columns = [\"PLAYER\", \"ODDS\"]\n",
    "\n",
    "# 🔧 Clean up non-breaking spaces and extra whitespace\n",
    "df[\"PLAYER\"] = (\n",
    "    df[\"PLAYER\"]\n",
    "    .astype(str)\n",
    "    .str.replace(\"\\xa0\", \" \", regex=False)\n",
    "    .str.replace(r\"\\s+\", \" \", regex=True)\n",
    "    .str.strip()\n",
    ")\n",
    "\n",
    "df.insert(loc=0, column=\"SEASON\", value=season)\n",
    "df.insert(loc=1, column=\"TOURNAMENT\", value=np.nan)\n",
    "df.insert(loc=2, column=\"ENDING_DATE\", value=np.nan)\n",
    "\n",
    "# === STEP 2: Helper function for parsing date strings ===\n",
    "def parse_ending_date(text):\n",
    "    import re\n",
    "    from datetime import datetime\n",
    "\n",
    "    # Normalize whitespace and symbols\n",
    "    text = (\n",
    "        text.replace(\"\\u2013\", \"-\")\n",
    "            .replace(\"–\", \"-\")\n",
    "            .replace(\"\\xa0\", \" \")\n",
    "    )\n",
    "    text = re.sub(r\"\\bSept(?!ember)\\b\", \"Sep\", text)\n",
    "\n",
    "    # ✅ Fix typo: \"Match\" → \"March\" only when used in a date context\n",
    "    text = re.sub(r\"\\bMatch(?=\\s+\\d{1,2}\\s*[-–]\\s*\\d{1,2},\\s*\\d{4})\", \"March\", text)\n",
    "\n",
    "    # Pattern 1: \"July 30 - August 2, 2015\" or \"Oct 29 - Nov 1, 2015\"\n",
    "    match = re.search(r\"(\\w+)\\s\\d+\\s*-\\s*(\\w+)\\s(\\d+),\\s(\\d{4})\", text)\n",
    "    if match:\n",
    "        month2, day2, year = match.group(2), match.group(3), match.group(4)\n",
    "        for fmt in [\"%B %d, %Y\", \"%b %d, %Y\"]:\n",
    "            try:\n",
    "                return datetime.strptime(f\"{month2} {day2}, {year}\", fmt).date()\n",
    "            except ValueError:\n",
    "                continue\n",
    "\n",
    "    # Pattern 2: \"November 21-24, 2024\"\n",
    "    match = re.search(r\"(\\w+)\\s\\d+-\\d+,\\s(\\d{4})\", text)\n",
    "    if match:\n",
    "        month, year = match.group(1), match.group(2)\n",
    "        day = re.search(r\"(\\d+)-(\\d+)\", text).group(2)\n",
    "        for fmt in [\"%B %d, %Y\", \"%b %d, %Y\"]:\n",
    "            try:\n",
    "                return datetime.strptime(f\"{month} {day}, {year}\", fmt).date()\n",
    "            except ValueError:\n",
    "                continue\n",
    "\n",
    "    # Pattern 3: \"Sunday, October 20, 2019\"\n",
    "    try:\n",
    "        return datetime.strptime(text.strip(), \"%A, %B %d, %Y\").date()\n",
    "    except ValueError:\n",
    "        pass\n",
    "\n",
    "    # Pattern 4: \"October 20, 2019\"\n",
    "    try:\n",
    "        return datetime.strptime(text.strip(), \"%B %d, %Y\").date()\n",
    "    except ValueError:\n",
    "        pass\n",
    "\n",
    "    return None\n",
    "\n",
    "last_tourn_name = None\n",
    "last_date = None\n",
    "\n",
    "# === STEP 3: Iterate block by block ===\n",
    "final_rows = []\n",
    "i = 0\n",
    "last_tourn_name = None\n",
    "last_end_date = None\n",
    "\n",
    "while i < len(df) - 4:\n",
    "    player_i = str(df.loc[i, \"PLAYER\"])\n",
    "    player_i2 = str(df.loc[i + 2, \"PLAYER\"])\n",
    "    player_i3 = str(df.loc[i + 3, \"PLAYER\"]).lower()\n",
    "\n",
    "    # Detect start of a new tournament block\n",
    "    is_header = (\n",
    "        pd.isna(df.loc[i, \"ODDS\"]) and\n",
    "        pd.isna(df.loc[i + 1, \"ODDS\"]) and (\n",
    "            re.search(r\"\\w+\\s\\d+\\s*[-–]\\s*(\\w+\\s)?\\d+,\\s\\d{4}\", player_i2) or\n",
    "            re.search(r\"(Monday|Tuesday|Wednesday|Thursday|Friday|Saturday|Sunday),?\\s+\\w+\\s\\d{1,2},\\s\\d{4}\", player_i2)\n",
    "        )\n",
    "    )\n",
    "\n",
    "    if is_header:\n",
    "        tourn_name = player_i.strip()\n",
    "        end_date = parse_ending_date(player_i2)\n",
    "\n",
    "        # Skip cancelled or empty blocks\n",
    "        if \"cancelled\" in player_i3:\n",
    "            print(f\"⚠️ Skipping cancelled tournament: {tourn_name} — {end_date}\")\n",
    "            i += 4\n",
    "            continue\n",
    "\n",
    "        # Avoid duplicate block processing\n",
    "        if tourn_name == last_tourn_name and end_date == last_end_date:\n",
    "            i += 1\n",
    "            continue\n",
    "\n",
    "        print(f\"📍 Detected: {tourn_name} — Ending: {end_date}\")\n",
    "        last_tourn_name = tourn_name\n",
    "        last_end_date = end_date\n",
    "        i += 4  # Skip header lines\n",
    "\n",
    "        # Collect all player rows until next header block\n",
    "        while i < len(df) - 2:\n",
    "            next_i2 = str(df.loc[i + 2, \"PLAYER\"])\n",
    "            is_next_header = (\n",
    "                pd.isna(df.loc[i, \"ODDS\"]) and\n",
    "                pd.isna(df.loc[i + 1, \"ODDS\"]) and (\n",
    "                    re.search(r\"\\w+\\s\\d+\\s*[-–]\\s*(\\w+\\s)?\\d+,\\s\\d{4}\", next_i2) or\n",
    "                    re.search(r\"(Monday|Tuesday|Wednesday|Thursday|Friday|Saturday|Sunday),?\\s+\\w+\\s\\d{1,2},\\s\\d{4}\", next_i2)\n",
    "                )\n",
    "            )\n",
    "            if is_next_header:\n",
    "                break\n",
    "\n",
    "            if pd.notna(df.loc[i, \"ODDS\"]):\n",
    "                row = df.loc[i].copy()\n",
    "                row[\"TOURNAMENT\"] = tourn_name\n",
    "                row[\"ENDING_DATE\"] = end_date\n",
    "                final_rows.append(row)\n",
    "            i += 1\n",
    "    else:\n",
    "        i += 1\n",
    "\n",
    "# === STEP 4: Create cleaned DataFrame ===\n",
    "clean_df = pd.DataFrame(final_rows)\n",
    "\n",
    "# ✅ Prevent crash if nothing was parsed\n",
    "if clean_df.empty or \"PLAYER\" not in clean_df.columns:\n",
    "    print(f\"⚠️ No valid tournament blocks detected for season {season} ({oddsYear})\")\n",
    "    final_df = pd.DataFrame()  # Safe fallback\n",
    "else:\n",
    "    # Remove winner tag\n",
    "    clean_df[\"PLAYER\"] = clean_df[\"PLAYER\"].str.replace(r\"\\s\\*Winner\\*\", \"\", regex=True)\n",
    "\n",
    "    # Clean odds to numeric\n",
    "    clean_df[\"VEGAS_ODDS\"] = (\n",
    "        clean_df[\"ODDS\"]\n",
    "        .str.replace(\",\", \"\")\n",
    "        .str.extract(r\"(\\d+)/(\\d+)\")\n",
    "        .astype(float)\n",
    "        .apply(lambda x: x[0] / x[1], axis=1)\n",
    "    )\n",
    "\n",
    "    # Final output with source index for debugging\n",
    "    final_df = clean_df[\n",
    "        [\"SEASON\", \"TOURNAMENT\", \"ENDING_DATE\", \"PLAYER\", \"ODDS\", \"VEGAS_ODDS\"]\n",
    "    ].reset_index(drop=True)\n",
    "\n",
    "    # Drop non-standard team events (e.g., Presidents Cup, Ryder Cup)\n",
    "    drop_terms = [\"Presidents Cup\", \"Ryder Cup\"]\n",
    "    final_df = final_df[~final_df[\"TOURNAMENT\"].str.contains(\"|\".join(drop_terms), case=False, na=False)]\n",
    "\n",
    "    display(final_df.head())\n",
    "\n"
   ]
  },
  {
   "cell_type": "code",
   "execution_count": 33,
   "id": "1ba6ed1d",
   "metadata": {},
   "outputs": [
    {
     "name": "stdout",
     "output_type": "stream",
     "text": [
      "🧪 Rows with invalid ENDING_DATE values: 0\n"
     ]
    },
    {
     "data": {
      "text/html": [
       "<div>\n",
       "<style scoped>\n",
       "    .dataframe tbody tr th:only-of-type {\n",
       "        vertical-align: middle;\n",
       "    }\n",
       "\n",
       "    .dataframe tbody tr th {\n",
       "        vertical-align: top;\n",
       "    }\n",
       "\n",
       "    .dataframe thead th {\n",
       "        text-align: right;\n",
       "    }\n",
       "</style>\n",
       "<table border=\"1\" class=\"dataframe\">\n",
       "  <thead>\n",
       "    <tr style=\"text-align: right;\">\n",
       "      <th></th>\n",
       "      <th>SEASON</th>\n",
       "      <th>TOURNAMENT</th>\n",
       "      <th>ENDING_DATE</th>\n",
       "      <th>PLAYER</th>\n",
       "      <th>ODDS</th>\n",
       "      <th>VEGAS_ODDS</th>\n",
       "    </tr>\n",
       "  </thead>\n",
       "  <tbody>\n",
       "  </tbody>\n",
       "</table>\n",
       "</div>"
      ],
      "text/plain": [
       "Empty DataFrame\n",
       "Columns: [SEASON, TOURNAMENT, ENDING_DATE, PLAYER, ODDS, VEGAS_ODDS]\n",
       "Index: []"
      ]
     },
     "metadata": {},
     "output_type": "display_data"
    }
   ],
   "source": [
    "from datetime import datetime, date\n",
    "# ✅ Check for non-date types in ENDING_DATE\n",
    "non_dates = final_df[~final_df[\"ENDING_DATE\"].apply(lambda x: isinstance(x, date))]\n",
    "\n",
    "print(f\"🧪 Rows with invalid ENDING_DATE values: {len(non_dates)}\")\n",
    "display(non_dates.head(10))\n",
    "\n"
   ]
  },
  {
   "cell_type": "code",
   "execution_count": 34,
   "id": "d42bfaa0",
   "metadata": {},
   "outputs": [
    {
     "name": "stdout",
     "output_type": "stream",
     "text": [
      "🚨 Duplicate primary keys in final_df: 0\n"
     ]
    },
    {
     "data": {
      "text/html": [
       "<div>\n",
       "<style scoped>\n",
       "    .dataframe tbody tr th:only-of-type {\n",
       "        vertical-align: middle;\n",
       "    }\n",
       "\n",
       "    .dataframe tbody tr th {\n",
       "        vertical-align: top;\n",
       "    }\n",
       "\n",
       "    .dataframe thead th {\n",
       "        text-align: right;\n",
       "    }\n",
       "</style>\n",
       "<table border=\"1\" class=\"dataframe\">\n",
       "  <thead>\n",
       "    <tr style=\"text-align: right;\">\n",
       "      <th></th>\n",
       "      <th>SEASON</th>\n",
       "      <th>TOURNAMENT</th>\n",
       "      <th>ENDING_DATE</th>\n",
       "      <th>PLAYER</th>\n",
       "      <th>ODDS</th>\n",
       "      <th>VEGAS_ODDS</th>\n",
       "    </tr>\n",
       "  </thead>\n",
       "  <tbody>\n",
       "  </tbody>\n",
       "</table>\n",
       "</div>"
      ],
      "text/plain": [
       "Empty DataFrame\n",
       "Columns: [SEASON, TOURNAMENT, ENDING_DATE, PLAYER, ODDS, VEGAS_ODDS]\n",
       "Index: []"
      ]
     },
     "metadata": {},
     "output_type": "display_data"
    }
   ],
   "source": [
    "dupes = final_df.duplicated(subset=[\"SEASON\", \"TOURNAMENT\", \"ENDING_DATE\", \"PLAYER\"], keep=False)\n",
    "\n",
    "print(f\"🚨 Duplicate primary keys in final_df: {dupes.sum()}\")\n",
    "display(final_df[dupes].sort_values(by=[\"SEASON\", \"TOURNAMENT\", \"PLAYER\"]))"
   ]
  },
  {
   "cell_type": "markdown",
   "id": "d0386967",
   "metadata": {},
   "source": [
    "#### Misc. Cleaning\n",
    "Not normally needed"
   ]
  },
  {
   "cell_type": "code",
   "execution_count": 26,
   "id": "944b893a",
   "metadata": {},
   "outputs": [
    {
     "name": "stdout",
     "output_type": "stream",
     "text": [
      "ℹ️ No player names needed updates in 'tournaments'.\n",
      "ℹ️ No player names needed updates in 'stats'.\n",
      "ℹ️ No player names needed updates in 'odds'.\n"
     ]
    },
    {
     "data": {
      "text/html": [
       "<div>\n",
       "<style scoped>\n",
       "    .dataframe tbody tr th:only-of-type {\n",
       "        vertical-align: middle;\n",
       "    }\n",
       "\n",
       "    .dataframe tbody tr th {\n",
       "        vertical-align: top;\n",
       "    }\n",
       "\n",
       "    .dataframe thead th {\n",
       "        text-align: right;\n",
       "    }\n",
       "</style>\n",
       "<table border=\"1\" class=\"dataframe\">\n",
       "  <thead>\n",
       "    <tr style=\"text-align: right;\">\n",
       "      <th></th>\n",
       "      <th>SEASON</th>\n",
       "      <th>TOURNAMENT</th>\n",
       "      <th>ENDING_DATE</th>\n",
       "      <th>PLAYER</th>\n",
       "      <th>ODDS</th>\n",
       "      <th>VEGAS_ODDS</th>\n",
       "      <th>PLAYER_ORIG</th>\n",
       "    </tr>\n",
       "  </thead>\n",
       "  <tbody>\n",
       "  </tbody>\n",
       "</table>\n",
       "</div>"
      ],
      "text/plain": [
       "Empty DataFrame\n",
       "Columns: [SEASON, TOURNAMENT, ENDING_DATE, PLAYER, ODDS, VEGAS_ODDS, PLAYER_ORIG]\n",
       "Index: []"
      ]
     },
     "execution_count": 26,
     "metadata": {},
     "output_type": "execute_result"
    }
   ],
   "source": [
    "importlib.reload(utils.db_utils)\n",
    "from utils.db_utils import clean_player_names_in_table, PLAYER_NAME_MAP\n",
    "\n",
    "db_path = \"data/golf.db\"\n",
    "\n",
    "# Run for all relevant tables\n",
    "clean_player_names_in_table(db_path, \"tournaments\", PLAYER_NAME_MAP)\n",
    "clean_player_names_in_table(db_path, \"stats\", PLAYER_NAME_MAP)\n",
    "clean_player_names_in_table(db_path, \"odds\", PLAYER_NAME_MAP)"
   ]
  },
  {
   "cell_type": "markdown",
   "id": "d5827d49",
   "metadata": {},
   "source": [
    "## Historical Data"
   ]
  },
  {
   "cell_type": "markdown",
   "id": "72034314",
   "metadata": {},
   "source": [
    "### Pull Relevant Seasons\n",
    "Do a check to see when this course or tournament have been historically played."
   ]
  },
  {
   "cell_type": "code",
   "execution_count": 15,
   "id": "fea9c7c6",
   "metadata": {},
   "outputs": [
    {
     "name": "stdout",
     "output_type": "stream",
     "text": [
      "ℹ️ Found 3 relevant tournaments from course or tournament name.\n"
     ]
    },
    {
     "data": {
      "text/html": [
       "<div>\n",
       "<style scoped>\n",
       "    .dataframe tbody tr th:only-of-type {\n",
       "        vertical-align: middle;\n",
       "    }\n",
       "\n",
       "    .dataframe tbody tr th {\n",
       "        vertical-align: top;\n",
       "    }\n",
       "\n",
       "    .dataframe thead th {\n",
       "        text-align: right;\n",
       "    }\n",
       "</style>\n",
       "<table border=\"1\" class=\"dataframe\">\n",
       "  <thead>\n",
       "    <tr style=\"text-align: right;\">\n",
       "      <th></th>\n",
       "      <th>SEASON</th>\n",
       "      <th>COURSE</th>\n",
       "      <th>TOURN_ID</th>\n",
       "      <th>TOURNAMENT</th>\n",
       "      <th>ENDING_DATE</th>\n",
       "    </tr>\n",
       "  </thead>\n",
       "  <tbody>\n",
       "    <tr>\n",
       "      <th>0</th>\n",
       "      <td>2022</td>\n",
       "      <td>The Renaissance Club</td>\n",
       "      <td>521</td>\n",
       "      <td>Genesis Scottish Open</td>\n",
       "      <td>2022-07-10</td>\n",
       "    </tr>\n",
       "    <tr>\n",
       "      <th>78</th>\n",
       "      <td>2023</td>\n",
       "      <td>The Renaissance Club</td>\n",
       "      <td>R2023541</td>\n",
       "      <td>Genesis Scottish Open</td>\n",
       "      <td>2023-07-16</td>\n",
       "    </tr>\n",
       "    <tr>\n",
       "      <th>234</th>\n",
       "      <td>2024</td>\n",
       "      <td>The Renaissance Club</td>\n",
       "      <td>R2024541</td>\n",
       "      <td>Genesis Scottish Open</td>\n",
       "      <td>2024-07-14</td>\n",
       "    </tr>\n",
       "  </tbody>\n",
       "</table>\n",
       "</div>"
      ],
      "text/plain": [
       "     SEASON                COURSE  TOURN_ID             TOURNAMENT ENDING_DATE\n",
       "0      2022  The Renaissance Club       521  Genesis Scottish Open  2022-07-10\n",
       "78     2023  The Renaissance Club  R2023541  Genesis Scottish Open  2023-07-16\n",
       "234    2024  The Renaissance Club  R2024541  Genesis Scottish Open  2024-07-14"
      ]
     },
     "execution_count": 15,
     "metadata": {},
     "output_type": "execute_result"
    }
   ],
   "source": [
    "importlib.reload(utils.db_utils)\n",
    "from utils.db_utils import get_combined_history_seasons\n",
    "\n",
    "# === USER INPUT ===\n",
    "seasons = list(range(2016, 2025))  # Adjust as needed\n",
    "db_path = \"data/golf.db\"\n",
    "\n",
    "# Pull course and tournament from config\n",
    "n_course = tournament_config[\"new\"][\"course\"]\n",
    "n_tourn = tournament_config[\"new\"][\"name\"]\n",
    "\n",
    "# Fetch relevant history\n",
    "history_df = get_combined_history_seasons(db_path, course=n_course, tournament=n_tourn, allowed_seasons=seasons)\n",
    "history_df.head(20)\n"
   ]
  },
  {
   "cell_type": "markdown",
   "id": "09441025",
   "metadata": {},
   "source": [
    "### Cut Percentage and FedEx Points\n",
    "Use a rolling-window approach to look at the most recent cut percentage and how many FedEx cup points have been accumulated recently. This will intentionally not match the PGA Tour stats that start over every year, but will have the same amount of data all the time.  We also add a new feature called Form Density which divides the FedEx Cup Points by the Total Events."
   ]
  },
  {
   "cell_type": "code",
   "execution_count": 16,
   "id": "300bf650",
   "metadata": {},
   "outputs": [
    {
     "name": "stdout",
     "output_type": "stream",
     "text": [
      "\n",
      "📆 2022-07-10 — Genesis Scottish Open (525 players)\n"
     ]
    },
    {
     "data": {
      "text/html": [
       "<div>\n",
       "<style scoped>\n",
       "    .dataframe tbody tr th:only-of-type {\n",
       "        vertical-align: middle;\n",
       "    }\n",
       "\n",
       "    .dataframe tbody tr th {\n",
       "        vertical-align: top;\n",
       "    }\n",
       "\n",
       "    .dataframe thead th {\n",
       "        text-align: right;\n",
       "    }\n",
       "</style>\n",
       "<table border=\"1\" class=\"dataframe\">\n",
       "  <thead>\n",
       "    <tr style=\"text-align: right;\">\n",
       "      <th></th>\n",
       "      <th>PLAYER</th>\n",
       "      <th>TOTAL_EVENTS_PLAYED</th>\n",
       "      <th>CUTS_MADE</th>\n",
       "      <th>FEDEX_CUP_POINTS</th>\n",
       "      <th>CUT_PERCENTAGE</th>\n",
       "      <th>form_density</th>\n",
       "      <th>CONSECUTIVE_CUTS</th>\n",
       "      <th>ENDING_DATE</th>\n",
       "      <th>TOURNAMENT</th>\n",
       "    </tr>\n",
       "  </thead>\n",
       "  <tbody>\n",
       "    <tr>\n",
       "      <th>0</th>\n",
       "      <td>A.J. Ewart</td>\n",
       "      <td>1</td>\n",
       "      <td>0</td>\n",
       "      <td>0.00</td>\n",
       "      <td>0.0</td>\n",
       "      <td>0.00</td>\n",
       "      <td>0</td>\n",
       "      <td>2022-07-10</td>\n",
       "      <td>Genesis Scottish Open</td>\n",
       "    </tr>\n",
       "    <tr>\n",
       "      <th>1</th>\n",
       "      <td>Aaron Baddeley</td>\n",
       "      <td>5</td>\n",
       "      <td>2</td>\n",
       "      <td>45.94</td>\n",
       "      <td>40.0</td>\n",
       "      <td>9.19</td>\n",
       "      <td>1</td>\n",
       "      <td>2022-07-10</td>\n",
       "      <td>Genesis Scottish Open</td>\n",
       "    </tr>\n",
       "    <tr>\n",
       "      <th>2</th>\n",
       "      <td>Aaron Beverly</td>\n",
       "      <td>1</td>\n",
       "      <td>0</td>\n",
       "      <td>0.00</td>\n",
       "      <td>0.0</td>\n",
       "      <td>0.00</td>\n",
       "      <td>0</td>\n",
       "      <td>2022-07-10</td>\n",
       "      <td>Genesis Scottish Open</td>\n",
       "    </tr>\n",
       "  </tbody>\n",
       "</table>\n",
       "</div>"
      ],
      "text/plain": [
       "           PLAYER  TOTAL_EVENTS_PLAYED  CUTS_MADE  FEDEX_CUP_POINTS  \\\n",
       "0      A.J. Ewart                    1          0              0.00   \n",
       "1  Aaron Baddeley                    5          2             45.94   \n",
       "2   Aaron Beverly                    1          0              0.00   \n",
       "\n",
       "   CUT_PERCENTAGE  form_density  CONSECUTIVE_CUTS ENDING_DATE  \\\n",
       "0             0.0          0.00                 0  2022-07-10   \n",
       "1            40.0          9.19                 1  2022-07-10   \n",
       "2             0.0          0.00                 0  2022-07-10   \n",
       "\n",
       "              TOURNAMENT  \n",
       "0  Genesis Scottish Open  \n",
       "1  Genesis Scottish Open  \n",
       "2  Genesis Scottish Open  "
      ]
     },
     "metadata": {},
     "output_type": "display_data"
    },
    {
     "name": "stdout",
     "output_type": "stream",
     "text": [
      "\n",
      "📆 2023-07-16 — Genesis Scottish Open (539 players)\n"
     ]
    },
    {
     "data": {
      "text/html": [
       "<div>\n",
       "<style scoped>\n",
       "    .dataframe tbody tr th:only-of-type {\n",
       "        vertical-align: middle;\n",
       "    }\n",
       "\n",
       "    .dataframe tbody tr th {\n",
       "        vertical-align: top;\n",
       "    }\n",
       "\n",
       "    .dataframe thead th {\n",
       "        text-align: right;\n",
       "    }\n",
       "</style>\n",
       "<table border=\"1\" class=\"dataframe\">\n",
       "  <thead>\n",
       "    <tr style=\"text-align: right;\">\n",
       "      <th></th>\n",
       "      <th>PLAYER</th>\n",
       "      <th>TOTAL_EVENTS_PLAYED</th>\n",
       "      <th>CUTS_MADE</th>\n",
       "      <th>FEDEX_CUP_POINTS</th>\n",
       "      <th>CUT_PERCENTAGE</th>\n",
       "      <th>form_density</th>\n",
       "      <th>CONSECUTIVE_CUTS</th>\n",
       "      <th>ENDING_DATE</th>\n",
       "      <th>TOURNAMENT</th>\n",
       "    </tr>\n",
       "  </thead>\n",
       "  <tbody>\n",
       "    <tr>\n",
       "      <th>0</th>\n",
       "      <td>Aaron Baddeley</td>\n",
       "      <td>16</td>\n",
       "      <td>11</td>\n",
       "      <td>349.536</td>\n",
       "      <td>68.8</td>\n",
       "      <td>21.85</td>\n",
       "      <td>1</td>\n",
       "      <td>2023-07-16</td>\n",
       "      <td>Genesis Scottish Open</td>\n",
       "    </tr>\n",
       "    <tr>\n",
       "      <th>1</th>\n",
       "      <td>Aaron Beverly</td>\n",
       "      <td>1</td>\n",
       "      <td>1</td>\n",
       "      <td>0.000</td>\n",
       "      <td>100.0</td>\n",
       "      <td>0.00</td>\n",
       "      <td>1</td>\n",
       "      <td>2023-07-16</td>\n",
       "      <td>Genesis Scottish Open</td>\n",
       "    </tr>\n",
       "    <tr>\n",
       "      <th>2</th>\n",
       "      <td>Aaron Cockerill</td>\n",
       "      <td>1</td>\n",
       "      <td>0</td>\n",
       "      <td>0.000</td>\n",
       "      <td>0.0</td>\n",
       "      <td>0.00</td>\n",
       "      <td>0</td>\n",
       "      <td>2023-07-16</td>\n",
       "      <td>Genesis Scottish Open</td>\n",
       "    </tr>\n",
       "  </tbody>\n",
       "</table>\n",
       "</div>"
      ],
      "text/plain": [
       "            PLAYER  TOTAL_EVENTS_PLAYED  CUTS_MADE  FEDEX_CUP_POINTS  \\\n",
       "0   Aaron Baddeley                   16         11           349.536   \n",
       "1    Aaron Beverly                    1          1             0.000   \n",
       "2  Aaron Cockerill                    1          0             0.000   \n",
       "\n",
       "   CUT_PERCENTAGE  form_density  CONSECUTIVE_CUTS ENDING_DATE  \\\n",
       "0            68.8         21.85                 1  2023-07-16   \n",
       "1           100.0          0.00                 1  2023-07-16   \n",
       "2             0.0          0.00                 0  2023-07-16   \n",
       "\n",
       "              TOURNAMENT  \n",
       "0  Genesis Scottish Open  \n",
       "1  Genesis Scottish Open  \n",
       "2  Genesis Scottish Open  "
      ]
     },
     "metadata": {},
     "output_type": "display_data"
    },
    {
     "name": "stdout",
     "output_type": "stream",
     "text": [
      "\n",
      "📆 2024-07-14 — Genesis Scottish Open (507 players)\n"
     ]
    },
    {
     "data": {
      "text/html": [
       "<div>\n",
       "<style scoped>\n",
       "    .dataframe tbody tr th:only-of-type {\n",
       "        vertical-align: middle;\n",
       "    }\n",
       "\n",
       "    .dataframe tbody tr th {\n",
       "        vertical-align: top;\n",
       "    }\n",
       "\n",
       "    .dataframe thead th {\n",
       "        text-align: right;\n",
       "    }\n",
       "</style>\n",
       "<table border=\"1\" class=\"dataframe\">\n",
       "  <thead>\n",
       "    <tr style=\"text-align: right;\">\n",
       "      <th></th>\n",
       "      <th>PLAYER</th>\n",
       "      <th>TOTAL_EVENTS_PLAYED</th>\n",
       "      <th>CUTS_MADE</th>\n",
       "      <th>FEDEX_CUP_POINTS</th>\n",
       "      <th>CUT_PERCENTAGE</th>\n",
       "      <th>form_density</th>\n",
       "      <th>CONSECUTIVE_CUTS</th>\n",
       "      <th>ENDING_DATE</th>\n",
       "      <th>TOURNAMENT</th>\n",
       "    </tr>\n",
       "  </thead>\n",
       "  <tbody>\n",
       "    <tr>\n",
       "      <th>0</th>\n",
       "      <td>Aaron Baddeley</td>\n",
       "      <td>14</td>\n",
       "      <td>10</td>\n",
       "      <td>184.725</td>\n",
       "      <td>71.4</td>\n",
       "      <td>13.19</td>\n",
       "      <td>1</td>\n",
       "      <td>2024-07-14</td>\n",
       "      <td>Genesis Scottish Open</td>\n",
       "    </tr>\n",
       "    <tr>\n",
       "      <th>1</th>\n",
       "      <td>Aaron Cockerill</td>\n",
       "      <td>1</td>\n",
       "      <td>0</td>\n",
       "      <td>0.000</td>\n",
       "      <td>0.0</td>\n",
       "      <td>0.00</td>\n",
       "      <td>0</td>\n",
       "      <td>2024-07-14</td>\n",
       "      <td>Genesis Scottish Open</td>\n",
       "    </tr>\n",
       "    <tr>\n",
       "      <th>2</th>\n",
       "      <td>Aaron Rai</td>\n",
       "      <td>18</td>\n",
       "      <td>15</td>\n",
       "      <td>808.257</td>\n",
       "      <td>83.3</td>\n",
       "      <td>44.90</td>\n",
       "      <td>9</td>\n",
       "      <td>2024-07-14</td>\n",
       "      <td>Genesis Scottish Open</td>\n",
       "    </tr>\n",
       "  </tbody>\n",
       "</table>\n",
       "</div>"
      ],
      "text/plain": [
       "            PLAYER  TOTAL_EVENTS_PLAYED  CUTS_MADE  FEDEX_CUP_POINTS  \\\n",
       "0   Aaron Baddeley                   14         10           184.725   \n",
       "1  Aaron Cockerill                    1          0             0.000   \n",
       "2        Aaron Rai                   18         15           808.257   \n",
       "\n",
       "   CUT_PERCENTAGE  form_density  CONSECUTIVE_CUTS ENDING_DATE  \\\n",
       "0            71.4         13.19                 1  2024-07-14   \n",
       "1             0.0          0.00                 0  2024-07-14   \n",
       "2            83.3         44.90                 9  2024-07-14   \n",
       "\n",
       "              TOURNAMENT  \n",
       "0  Genesis Scottish Open  \n",
       "1  Genesis Scottish Open  \n",
       "2  Genesis Scottish Open  "
      ]
     },
     "metadata": {},
     "output_type": "display_data"
    }
   ],
   "source": [
    "importlib.reload(utils.db_utils)\n",
    "from utils.db_utils import get_cut_and_fedex_history\n",
    "\n",
    "cuts = get_cut_and_fedex_history(\"data/golf.db\", history_df, window_months=9)\n",
    "# cuts[\"2024-05-12\"].head(20)\n",
    "\n",
    "for end_date, df in cuts.items():\n",
    "    print(f\"\\n📆 {end_date} — {df['TOURNAMENT'].iloc[0]} ({len(df)} players)\")\n",
    "    display(df.head(3))"
   ]
  },
  {
   "cell_type": "markdown",
   "id": "ce90fa05",
   "metadata": {},
   "source": [
    "### Recent Form"
   ]
  },
  {
   "cell_type": "code",
   "execution_count": 17,
   "id": "20095a72",
   "metadata": {},
   "outputs": [
    {
     "name": "stdout",
     "output_type": "stream",
     "text": [
      "\n",
      "📆 2022-07-10 — Genesis Scottish Open (525 players)\n"
     ]
    },
    {
     "data": {
      "text/html": [
       "<div>\n",
       "<style scoped>\n",
       "    .dataframe tbody tr th:only-of-type {\n",
       "        vertical-align: middle;\n",
       "    }\n",
       "\n",
       "    .dataframe tbody tr th {\n",
       "        vertical-align: top;\n",
       "    }\n",
       "\n",
       "    .dataframe thead th {\n",
       "        text-align: right;\n",
       "    }\n",
       "</style>\n",
       "<table border=\"1\" class=\"dataframe\">\n",
       "  <thead>\n",
       "    <tr style=\"text-align: right;\">\n",
       "      <th></th>\n",
       "      <th>PLAYER</th>\n",
       "      <th>TOTAL_EVENTS_PLAYED</th>\n",
       "      <th>RECENT_FORM</th>\n",
       "      <th>adj_form</th>\n",
       "      <th>ENDING_DATE</th>\n",
       "      <th>TOURNAMENT</th>\n",
       "    </tr>\n",
       "  </thead>\n",
       "  <tbody>\n",
       "    <tr>\n",
       "      <th>0</th>\n",
       "      <td>Chris Gotterup</td>\n",
       "      <td>1</td>\n",
       "      <td>4.0</td>\n",
       "      <td>5.77</td>\n",
       "      <td>2022-07-10</td>\n",
       "      <td>Genesis Scottish Open</td>\n",
       "    </tr>\n",
       "    <tr>\n",
       "      <th>1</th>\n",
       "      <td>Haotong Li</td>\n",
       "      <td>1</td>\n",
       "      <td>12.0</td>\n",
       "      <td>17.31</td>\n",
       "      <td>2022-07-10</td>\n",
       "      <td>Genesis Scottish Open</td>\n",
       "    </tr>\n",
       "    <tr>\n",
       "      <th>2</th>\n",
       "      <td>Martin Contini</td>\n",
       "      <td>1</td>\n",
       "      <td>16.0</td>\n",
       "      <td>23.08</td>\n",
       "      <td>2022-07-10</td>\n",
       "      <td>Genesis Scottish Open</td>\n",
       "    </tr>\n",
       "  </tbody>\n",
       "</table>\n",
       "</div>"
      ],
      "text/plain": [
       "           PLAYER  TOTAL_EVENTS_PLAYED  RECENT_FORM  adj_form ENDING_DATE  \\\n",
       "0  Chris Gotterup                    1          4.0      5.77  2022-07-10   \n",
       "1      Haotong Li                    1         12.0     17.31  2022-07-10   \n",
       "2  Martin Contini                    1         16.0     23.08  2022-07-10   \n",
       "\n",
       "              TOURNAMENT  \n",
       "0  Genesis Scottish Open  \n",
       "1  Genesis Scottish Open  \n",
       "2  Genesis Scottish Open  "
      ]
     },
     "metadata": {},
     "output_type": "display_data"
    },
    {
     "name": "stdout",
     "output_type": "stream",
     "text": [
      "\n",
      "📆 2023-07-16 — Genesis Scottish Open (539 players)\n"
     ]
    },
    {
     "data": {
      "text/html": [
       "<div>\n",
       "<style scoped>\n",
       "    .dataframe tbody tr th:only-of-type {\n",
       "        vertical-align: middle;\n",
       "    }\n",
       "\n",
       "    .dataframe tbody tr th {\n",
       "        vertical-align: top;\n",
       "    }\n",
       "\n",
       "    .dataframe thead th {\n",
       "        text-align: right;\n",
       "    }\n",
       "</style>\n",
       "<table border=\"1\" class=\"dataframe\">\n",
       "  <thead>\n",
       "    <tr style=\"text-align: right;\">\n",
       "      <th></th>\n",
       "      <th>PLAYER</th>\n",
       "      <th>TOTAL_EVENTS_PLAYED</th>\n",
       "      <th>RECENT_FORM</th>\n",
       "      <th>adj_form</th>\n",
       "      <th>ENDING_DATE</th>\n",
       "      <th>TOURNAMENT</th>\n",
       "    </tr>\n",
       "  </thead>\n",
       "  <tbody>\n",
       "    <tr>\n",
       "      <th>0</th>\n",
       "      <td>Brooks Koepka</td>\n",
       "      <td>3</td>\n",
       "      <td>6.7</td>\n",
       "      <td>4.83</td>\n",
       "      <td>2023-07-16</td>\n",
       "      <td>Genesis Scottish Open</td>\n",
       "    </tr>\n",
       "    <tr>\n",
       "      <th>1</th>\n",
       "      <td>Scottie Scheffler</td>\n",
       "      <td>18</td>\n",
       "      <td>7.6</td>\n",
       "      <td>2.58</td>\n",
       "      <td>2023-07-16</td>\n",
       "      <td>Genesis Scottish Open</td>\n",
       "    </tr>\n",
       "    <tr>\n",
       "      <th>2</th>\n",
       "      <td>Ryo Hisatsune</td>\n",
       "      <td>1</td>\n",
       "      <td>12.0</td>\n",
       "      <td>17.31</td>\n",
       "      <td>2023-07-16</td>\n",
       "      <td>Genesis Scottish Open</td>\n",
       "    </tr>\n",
       "  </tbody>\n",
       "</table>\n",
       "</div>"
      ],
      "text/plain": [
       "              PLAYER  TOTAL_EVENTS_PLAYED  RECENT_FORM  adj_form ENDING_DATE  \\\n",
       "0      Brooks Koepka                    3          6.7      4.83  2023-07-16   \n",
       "1  Scottie Scheffler                   18          7.6      2.58  2023-07-16   \n",
       "2      Ryo Hisatsune                    1         12.0     17.31  2023-07-16   \n",
       "\n",
       "              TOURNAMENT  \n",
       "0  Genesis Scottish Open  \n",
       "1  Genesis Scottish Open  \n",
       "2  Genesis Scottish Open  "
      ]
     },
     "metadata": {},
     "output_type": "display_data"
    },
    {
     "name": "stdout",
     "output_type": "stream",
     "text": [
      "\n",
      "📆 2024-07-14 — Genesis Scottish Open (507 players)\n"
     ]
    },
    {
     "data": {
      "text/html": [
       "<div>\n",
       "<style scoped>\n",
       "    .dataframe tbody tr th:only-of-type {\n",
       "        vertical-align: middle;\n",
       "    }\n",
       "\n",
       "    .dataframe tbody tr th {\n",
       "        vertical-align: top;\n",
       "    }\n",
       "\n",
       "    .dataframe thead th {\n",
       "        text-align: right;\n",
       "    }\n",
       "</style>\n",
       "<table border=\"1\" class=\"dataframe\">\n",
       "  <thead>\n",
       "    <tr style=\"text-align: right;\">\n",
       "      <th></th>\n",
       "      <th>PLAYER</th>\n",
       "      <th>TOTAL_EVENTS_PLAYED</th>\n",
       "      <th>RECENT_FORM</th>\n",
       "      <th>adj_form</th>\n",
       "      <th>ENDING_DATE</th>\n",
       "      <th>TOURNAMENT</th>\n",
       "    </tr>\n",
       "  </thead>\n",
       "  <tbody>\n",
       "    <tr>\n",
       "      <th>0</th>\n",
       "      <td>Bryson DeChambeau</td>\n",
       "      <td>3</td>\n",
       "      <td>3.0</td>\n",
       "      <td>2.16</td>\n",
       "      <td>2024-07-14</td>\n",
       "      <td>Genesis Scottish Open</td>\n",
       "    </tr>\n",
       "    <tr>\n",
       "      <th>1</th>\n",
       "      <td>Scottie Scheffler</td>\n",
       "      <td>16</td>\n",
       "      <td>6.3</td>\n",
       "      <td>2.22</td>\n",
       "      <td>2024-07-14</td>\n",
       "      <td>Genesis Scottish Open</td>\n",
       "    </tr>\n",
       "    <tr>\n",
       "      <th>2</th>\n",
       "      <td>Xander Schauffele</td>\n",
       "      <td>16</td>\n",
       "      <td>12.9</td>\n",
       "      <td>4.55</td>\n",
       "      <td>2024-07-14</td>\n",
       "      <td>Genesis Scottish Open</td>\n",
       "    </tr>\n",
       "  </tbody>\n",
       "</table>\n",
       "</div>"
      ],
      "text/plain": [
       "              PLAYER  TOTAL_EVENTS_PLAYED  RECENT_FORM  adj_form ENDING_DATE  \\\n",
       "0  Bryson DeChambeau                    3          3.0      2.16  2024-07-14   \n",
       "1  Scottie Scheffler                   16          6.3      2.22  2024-07-14   \n",
       "2  Xander Schauffele                   16         12.9      4.55  2024-07-14   \n",
       "\n",
       "              TOURNAMENT  \n",
       "0  Genesis Scottish Open  \n",
       "1  Genesis Scottish Open  \n",
       "2  Genesis Scottish Open  "
      ]
     },
     "metadata": {},
     "output_type": "display_data"
    }
   ],
   "source": [
    "importlib.reload(utils.db_utils)\n",
    "from utils.db_utils import get_recent_avg_finish\n",
    "\n",
    "recent_form = get_recent_avg_finish(\"data/golf.db\", history_df, window_months=9)\n",
    "\n",
    "# Example preview\n",
    "for date, df in recent_form.items(): \n",
    "    print(f\"\\n📆 {date} — {df['TOURNAMENT'].iloc[0]} ({len(df)} players)\")\n",
    "    display(df.head(3))"
   ]
  },
  {
   "cell_type": "markdown",
   "id": "76a77f44",
   "metadata": {},
   "source": [
    "### Course History"
   ]
  },
  {
   "cell_type": "code",
   "execution_count": 18,
   "id": "7412401a",
   "metadata": {},
   "outputs": [
    {
     "name": "stdout",
     "output_type": "stream",
     "text": [
      "\n",
      "🏌️‍♂️ Course history for Genesis Scottish Open on 2023-07-16\n"
     ]
    },
    {
     "data": {
      "text/html": [
       "<div>\n",
       "<style scoped>\n",
       "    .dataframe tbody tr th:only-of-type {\n",
       "        vertical-align: middle;\n",
       "    }\n",
       "\n",
       "    .dataframe tbody tr th {\n",
       "        vertical-align: top;\n",
       "    }\n",
       "\n",
       "    .dataframe thead th {\n",
       "        text-align: right;\n",
       "    }\n",
       "</style>\n",
       "<table border=\"1\" class=\"dataframe\">\n",
       "  <thead>\n",
       "    <tr style=\"text-align: right;\">\n",
       "      <th></th>\n",
       "      <th>PLAYER</th>\n",
       "      <th>TOTAL_EVENTS_PLAYED</th>\n",
       "      <th>COURSE_HISTORY</th>\n",
       "      <th>adj_ch</th>\n",
       "      <th>ENDING_DATE</th>\n",
       "      <th>COURSE</th>\n",
       "      <th>TOURNAMENT</th>\n",
       "    </tr>\n",
       "  </thead>\n",
       "  <tbody>\n",
       "    <tr>\n",
       "      <th>0</th>\n",
       "      <td>Aaron Wise</td>\n",
       "      <td>1</td>\n",
       "      <td>5.0</td>\n",
       "      <td>7.21</td>\n",
       "      <td>2023-07-16</td>\n",
       "      <td>The Renaissance Club</td>\n",
       "      <td>Genesis Scottish Open</td>\n",
       "    </tr>\n",
       "    <tr>\n",
       "      <th>1</th>\n",
       "      <td>Abraham Ancer</td>\n",
       "      <td>1</td>\n",
       "      <td>14.0</td>\n",
       "      <td>20.20</td>\n",
       "      <td>2023-07-16</td>\n",
       "      <td>The Renaissance Club</td>\n",
       "      <td>Genesis Scottish Open</td>\n",
       "    </tr>\n",
       "    <tr>\n",
       "      <th>2</th>\n",
       "      <td>Adam Scott</td>\n",
       "      <td>1</td>\n",
       "      <td>5.0</td>\n",
       "      <td>7.21</td>\n",
       "      <td>2023-07-16</td>\n",
       "      <td>The Renaissance Club</td>\n",
       "      <td>Genesis Scottish Open</td>\n",
       "    </tr>\n",
       "  </tbody>\n",
       "</table>\n",
       "</div>"
      ],
      "text/plain": [
       "          PLAYER  TOTAL_EVENTS_PLAYED  COURSE_HISTORY  adj_ch ENDING_DATE  \\\n",
       "0     Aaron Wise                    1             5.0    7.21  2023-07-16   \n",
       "1  Abraham Ancer                    1            14.0   20.20  2023-07-16   \n",
       "2     Adam Scott                    1             5.0    7.21  2023-07-16   \n",
       "\n",
       "                 COURSE             TOURNAMENT  \n",
       "0  The Renaissance Club  Genesis Scottish Open  \n",
       "1  The Renaissance Club  Genesis Scottish Open  \n",
       "2  The Renaissance Club  Genesis Scottish Open  "
      ]
     },
     "metadata": {},
     "output_type": "display_data"
    },
    {
     "name": "stdout",
     "output_type": "stream",
     "text": [
      "\n",
      "🏌️‍♂️ Course history for Genesis Scottish Open on 2024-07-14\n"
     ]
    },
    {
     "data": {
      "text/html": [
       "<div>\n",
       "<style scoped>\n",
       "    .dataframe tbody tr th:only-of-type {\n",
       "        vertical-align: middle;\n",
       "    }\n",
       "\n",
       "    .dataframe tbody tr th {\n",
       "        vertical-align: top;\n",
       "    }\n",
       "\n",
       "    .dataframe thead th {\n",
       "        text-align: right;\n",
       "    }\n",
       "</style>\n",
       "<table border=\"1\" class=\"dataframe\">\n",
       "  <thead>\n",
       "    <tr style=\"text-align: right;\">\n",
       "      <th></th>\n",
       "      <th>PLAYER</th>\n",
       "      <th>TOTAL_EVENTS_PLAYED</th>\n",
       "      <th>COURSE_HISTORY</th>\n",
       "      <th>adj_ch</th>\n",
       "      <th>ENDING_DATE</th>\n",
       "      <th>COURSE</th>\n",
       "      <th>TOURNAMENT</th>\n",
       "    </tr>\n",
       "  </thead>\n",
       "  <tbody>\n",
       "    <tr>\n",
       "      <th>0</th>\n",
       "      <td>Aaron Baddeley</td>\n",
       "      <td>1</td>\n",
       "      <td>90.0</td>\n",
       "      <td>129.84</td>\n",
       "      <td>2024-07-14</td>\n",
       "      <td>The Renaissance Club</td>\n",
       "      <td>Genesis Scottish Open</td>\n",
       "    </tr>\n",
       "    <tr>\n",
       "      <th>1</th>\n",
       "      <td>Aaron Rai</td>\n",
       "      <td>1</td>\n",
       "      <td>90.0</td>\n",
       "      <td>129.84</td>\n",
       "      <td>2024-07-14</td>\n",
       "      <td>The Renaissance Club</td>\n",
       "      <td>Genesis Scottish Open</td>\n",
       "    </tr>\n",
       "    <tr>\n",
       "      <th>2</th>\n",
       "      <td>Aaron Wise</td>\n",
       "      <td>1</td>\n",
       "      <td>5.0</td>\n",
       "      <td>7.21</td>\n",
       "      <td>2024-07-14</td>\n",
       "      <td>The Renaissance Club</td>\n",
       "      <td>Genesis Scottish Open</td>\n",
       "    </tr>\n",
       "  </tbody>\n",
       "</table>\n",
       "</div>"
      ],
      "text/plain": [
       "           PLAYER  TOTAL_EVENTS_PLAYED  COURSE_HISTORY  adj_ch ENDING_DATE  \\\n",
       "0  Aaron Baddeley                    1            90.0  129.84  2024-07-14   \n",
       "1       Aaron Rai                    1            90.0  129.84  2024-07-14   \n",
       "2      Aaron Wise                    1             5.0    7.21  2024-07-14   \n",
       "\n",
       "                 COURSE             TOURNAMENT  \n",
       "0  The Renaissance Club  Genesis Scottish Open  \n",
       "1  The Renaissance Club  Genesis Scottish Open  \n",
       "2  The Renaissance Club  Genesis Scottish Open  "
      ]
     },
     "metadata": {},
     "output_type": "display_data"
    }
   ],
   "source": [
    "importlib.reload(utils.db_utils)\n",
    "from utils.db_utils import get_course_history\n",
    "\n",
    "# Filter history_df for only the course we're targeting\n",
    "target_course = tournament_config[\"new\"][\"course\"]\n",
    "course_df = history_df[history_df[\"COURSE\"] == target_course]\n",
    "course_hist = get_course_history(\"data/golf.db\", course_df)\n",
    "\n",
    "# View example\n",
    "for date, df in course_hist.items():\n",
    "    if not df.empty:\n",
    "        print(f\"\\n🏌️‍♂️ Course history for {df['TOURNAMENT'].iloc[0]} on {date}\")\n",
    "        display(df.head(3))"
   ]
  },
  {
   "cell_type": "code",
   "execution_count": 19,
   "id": "bb9221e1",
   "metadata": {},
   "outputs": [
    {
     "name": "stdout",
     "output_type": "stream",
     "text": [
      "ℹ️ Empty course_hist for date 2022-07-10\n"
     ]
    }
   ],
   "source": [
    "#  DEBUGGING: Check for empty DataFrames or missing columns\n",
    "for date_key, df in course_hist.items():\n",
    "    if df.empty:\n",
    "        print(f\"ℹ️ Empty course_hist for date {date_key}\")\n",
    "    elif \"PLAYER\" not in df.columns:\n",
    "        print(f\"❌ Missing 'PLAYER' column in course_hist[{date_key}]. Columns present: {df.columns.tolist()}\")\n",
    "        display(df.head())"
   ]
  },
  {
   "cell_type": "markdown",
   "id": "e8fa7578",
   "metadata": {},
   "source": [
    "## Training Dataset"
   ]
  },
  {
   "cell_type": "code",
   "execution_count": 20,
   "id": "a4277295",
   "metadata": {},
   "outputs": [
    {
     "data": {
      "text/html": [
       "<div>\n",
       "<style scoped>\n",
       "    .dataframe tbody tr th:only-of-type {\n",
       "        vertical-align: middle;\n",
       "    }\n",
       "\n",
       "    .dataframe tbody tr th {\n",
       "        vertical-align: top;\n",
       "    }\n",
       "\n",
       "    .dataframe thead th {\n",
       "        text-align: right;\n",
       "    }\n",
       "</style>\n",
       "<table border=\"1\" class=\"dataframe\">\n",
       "  <thead>\n",
       "    <tr style=\"text-align: right;\">\n",
       "      <th></th>\n",
       "      <th>SEASON</th>\n",
       "      <th>ENDING_DATE</th>\n",
       "      <th>TOURNAMENT</th>\n",
       "      <th>COURSE</th>\n",
       "      <th>PLAYER</th>\n",
       "      <th>POS</th>\n",
       "      <th>FINAL_POS</th>\n",
       "      <th>SGTTG_RANK</th>\n",
       "      <th>SGTTG</th>\n",
       "      <th>SGOTT_RANK</th>\n",
       "      <th>SGOTT</th>\n",
       "      <th>SGAPR_RANK</th>\n",
       "      <th>SGAPR</th>\n",
       "      <th>SGATG_RANK</th>\n",
       "      <th>SGATG</th>\n",
       "      <th>SGP_RANK</th>\n",
       "      <th>SGP</th>\n",
       "      <th>BIRDIES_RANK</th>\n",
       "      <th>BIRDIES</th>\n",
       "      <th>PAR_3_RANK</th>\n",
       "      <th>PAR_3</th>\n",
       "      <th>PAR_4_RANK</th>\n",
       "      <th>PAR_4</th>\n",
       "      <th>PAR_5_RANK</th>\n",
       "      <th>PAR_5</th>\n",
       "      <th>TOTAL_DRIVING_RANK</th>\n",
       "      <th>TOTAL_DRIVING</th>\n",
       "      <th>DRIVING_DISTANCE_RANK</th>\n",
       "      <th>DRIVING_DISTANCE</th>\n",
       "      <th>DRIVING_ACCURACY_RANK</th>\n",
       "      <th>DRIVING_ACCURACY</th>\n",
       "      <th>GIR_RANK</th>\n",
       "      <th>GIR</th>\n",
       "      <th>SCRAMBLING_RANK</th>\n",
       "      <th>SCRAMBLING</th>\n",
       "      <th>OWGR_RANK</th>\n",
       "      <th>OWGR</th>\n",
       "      <th>VEGAS_ODDS</th>\n",
       "      <th>CUT_PERCENTAGE</th>\n",
       "      <th>FEDEX_CUP_POINTS</th>\n",
       "      <th>form_density</th>\n",
       "      <th>CONSECUTIVE_CUTS</th>\n",
       "      <th>RECENT_FORM</th>\n",
       "      <th>adj_form</th>\n",
       "      <th>COURSE_HISTORY</th>\n",
       "      <th>adj_ch</th>\n",
       "      <th>TOP_20</th>\n",
       "    </tr>\n",
       "  </thead>\n",
       "  <tbody>\n",
       "    <tr>\n",
       "      <th>0</th>\n",
       "      <td>2022</td>\n",
       "      <td>2022-07-10</td>\n",
       "      <td>Genesis Scottish Open</td>\n",
       "      <td>The Renaissance Club</td>\n",
       "      <td>Rory McIlroy</td>\n",
       "      <td>1</td>\n",
       "      <td>1</td>\n",
       "      <td>2.0</td>\n",
       "      <td>1.619</td>\n",
       "      <td>3.0</td>\n",
       "      <td>0.771</td>\n",
       "      <td>14.0</td>\n",
       "      <td>0.626</td>\n",
       "      <td>43.0</td>\n",
       "      <td>0.222</td>\n",
       "      <td>16.0</td>\n",
       "      <td>0.495</td>\n",
       "      <td>4.0</td>\n",
       "      <td>26.11</td>\n",
       "      <td>51.0</td>\n",
       "      <td>3.03</td>\n",
       "      <td>3.0</td>\n",
       "      <td>3.95</td>\n",
       "      <td>3.0</td>\n",
       "      <td>4.44</td>\n",
       "      <td>23.0</td>\n",
       "      <td>129.0</td>\n",
       "      <td>2.0</td>\n",
       "      <td>321.3</td>\n",
       "      <td>127.0</td>\n",
       "      <td>58.06</td>\n",
       "      <td>12.0</td>\n",
       "      <td>69.91</td>\n",
       "      <td>30.0</td>\n",
       "      <td>62.77</td>\n",
       "      <td>2.0</td>\n",
       "      <td>9.07</td>\n",
       "      <td>NaN</td>\n",
       "      <td>91.7</td>\n",
       "      <td>1893.88</td>\n",
       "      <td>157.82</td>\n",
       "      <td>7.0</td>\n",
       "      <td>17.1</td>\n",
       "      <td>6.67</td>\n",
       "      <td>NaN</td>\n",
       "      <td>NaN</td>\n",
       "      <td>1</td>\n",
       "    </tr>\n",
       "    <tr>\n",
       "      <th>1</th>\n",
       "      <td>2022</td>\n",
       "      <td>2022-07-10</td>\n",
       "      <td>Genesis Scottish Open</td>\n",
       "      <td>The Renaissance Club</td>\n",
       "      <td>Collin Morikawa</td>\n",
       "      <td>2</td>\n",
       "      <td>2</td>\n",
       "      <td>17.0</td>\n",
       "      <td>1.066</td>\n",
       "      <td>36.0</td>\n",
       "      <td>0.361</td>\n",
       "      <td>3.0</td>\n",
       "      <td>0.854</td>\n",
       "      <td>152.0</td>\n",
       "      <td>-0.149</td>\n",
       "      <td>131.0</td>\n",
       "      <td>-0.088</td>\n",
       "      <td>31.0</td>\n",
       "      <td>23.06</td>\n",
       "      <td>31.0</td>\n",
       "      <td>3.02</td>\n",
       "      <td>17.0</td>\n",
       "      <td>3.98</td>\n",
       "      <td>53.0</td>\n",
       "      <td>4.59</td>\n",
       "      <td>9.0</td>\n",
       "      <td>112.0</td>\n",
       "      <td>83.0</td>\n",
       "      <td>301.8</td>\n",
       "      <td>29.0</td>\n",
       "      <td>65.27</td>\n",
       "      <td>30.0</td>\n",
       "      <td>68.61</td>\n",
       "      <td>94.0</td>\n",
       "      <td>59.59</td>\n",
       "      <td>9.0</td>\n",
       "      <td>6.33</td>\n",
       "      <td>25.0</td>\n",
       "      <td>83.3</td>\n",
       "      <td>1015.59</td>\n",
       "      <td>84.63</td>\n",
       "      <td>1.0</td>\n",
       "      <td>32.9</td>\n",
       "      <td>12.83</td>\n",
       "      <td>NaN</td>\n",
       "      <td>NaN</td>\n",
       "      <td>1</td>\n",
       "    </tr>\n",
       "    <tr>\n",
       "      <th>2</th>\n",
       "      <td>2022</td>\n",
       "      <td>2022-07-10</td>\n",
       "      <td>Genesis Scottish Open</td>\n",
       "      <td>The Renaissance Club</td>\n",
       "      <td>Rickie Fowler</td>\n",
       "      <td>T3</td>\n",
       "      <td>3</td>\n",
       "      <td>101.0</td>\n",
       "      <td>0.092</td>\n",
       "      <td>114.0</td>\n",
       "      <td>-0.022</td>\n",
       "      <td>150.0</td>\n",
       "      <td>-0.161</td>\n",
       "      <td>31.0</td>\n",
       "      <td>0.274</td>\n",
       "      <td>161.0</td>\n",
       "      <td>-0.253</td>\n",
       "      <td>165.0</td>\n",
       "      <td>19.64</td>\n",
       "      <td>83.0</td>\n",
       "      <td>3.05</td>\n",
       "      <td>183.0</td>\n",
       "      <td>4.09</td>\n",
       "      <td>106.0</td>\n",
       "      <td>4.64</td>\n",
       "      <td>48.0</td>\n",
       "      <td>158.0</td>\n",
       "      <td>27.0</td>\n",
       "      <td>309.4</td>\n",
       "      <td>131.0</td>\n",
       "      <td>57.91</td>\n",
       "      <td>186.0</td>\n",
       "      <td>62.21</td>\n",
       "      <td>152.0</td>\n",
       "      <td>56.94</td>\n",
       "      <td>185.0</td>\n",
       "      <td>0.96</td>\n",
       "      <td>125.0</td>\n",
       "      <td>58.8</td>\n",
       "      <td>300.54</td>\n",
       "      <td>17.68</td>\n",
       "      <td>0.0</td>\n",
       "      <td>60.6</td>\n",
       "      <td>20.97</td>\n",
       "      <td>NaN</td>\n",
       "      <td>NaN</td>\n",
       "      <td>1</td>\n",
       "    </tr>\n",
       "    <tr>\n",
       "      <th>3</th>\n",
       "      <td>2022</td>\n",
       "      <td>2022-07-10</td>\n",
       "      <td>Genesis Scottish Open</td>\n",
       "      <td>The Renaissance Club</td>\n",
       "      <td>Keith Mitchell</td>\n",
       "      <td>T3</td>\n",
       "      <td>3</td>\n",
       "      <td>29.0</td>\n",
       "      <td>0.865</td>\n",
       "      <td>4.0</td>\n",
       "      <td>0.761</td>\n",
       "      <td>111.0</td>\n",
       "      <td>0.024</td>\n",
       "      <td>83.0</td>\n",
       "      <td>0.079</td>\n",
       "      <td>55.0</td>\n",
       "      <td>0.209</td>\n",
       "      <td>31.0</td>\n",
       "      <td>23.06</td>\n",
       "      <td>18.0</td>\n",
       "      <td>3.01</td>\n",
       "      <td>38.0</td>\n",
       "      <td>4.00</td>\n",
       "      <td>12.0</td>\n",
       "      <td>4.52</td>\n",
       "      <td>2.0</td>\n",
       "      <td>91.0</td>\n",
       "      <td>18.0</td>\n",
       "      <td>311.8</td>\n",
       "      <td>73.0</td>\n",
       "      <td>61.76</td>\n",
       "      <td>57.0</td>\n",
       "      <td>67.64</td>\n",
       "      <td>20.0</td>\n",
       "      <td>63.67</td>\n",
       "      <td>59.0</td>\n",
       "      <td>1.97</td>\n",
       "      <td>80.0</td>\n",
       "      <td>83.3</td>\n",
       "      <td>833.39</td>\n",
       "      <td>46.30</td>\n",
       "      <td>5.0</td>\n",
       "      <td>35.3</td>\n",
       "      <td>11.99</td>\n",
       "      <td>NaN</td>\n",
       "      <td>NaN</td>\n",
       "      <td>1</td>\n",
       "    </tr>\n",
       "    <tr>\n",
       "      <th>4</th>\n",
       "      <td>2022</td>\n",
       "      <td>2022-07-10</td>\n",
       "      <td>Genesis Scottish Open</td>\n",
       "      <td>The Renaissance Club</td>\n",
       "      <td>Sam Burns</td>\n",
       "      <td>T5</td>\n",
       "      <td>5</td>\n",
       "      <td>32.0</td>\n",
       "      <td>0.838</td>\n",
       "      <td>86.0</td>\n",
       "      <td>0.067</td>\n",
       "      <td>18.0</td>\n",
       "      <td>0.554</td>\n",
       "      <td>45.0</td>\n",
       "      <td>0.217</td>\n",
       "      <td>10.0</td>\n",
       "      <td>0.553</td>\n",
       "      <td>10.0</td>\n",
       "      <td>24.44</td>\n",
       "      <td>31.0</td>\n",
       "      <td>3.02</td>\n",
       "      <td>17.0</td>\n",
       "      <td>3.98</td>\n",
       "      <td>7.0</td>\n",
       "      <td>4.50</td>\n",
       "      <td>83.0</td>\n",
       "      <td>186.0</td>\n",
       "      <td>24.0</td>\n",
       "      <td>309.6</td>\n",
       "      <td>162.0</td>\n",
       "      <td>55.38</td>\n",
       "      <td>26.0</td>\n",
       "      <td>68.68</td>\n",
       "      <td>92.0</td>\n",
       "      <td>59.65</td>\n",
       "      <td>12.0</td>\n",
       "      <td>5.67</td>\n",
       "      <td>25.0</td>\n",
       "      <td>64.7</td>\n",
       "      <td>1595.19</td>\n",
       "      <td>93.83</td>\n",
       "      <td>0.0</td>\n",
       "      <td>39.6</td>\n",
       "      <td>13.70</td>\n",
       "      <td>NaN</td>\n",
       "      <td>NaN</td>\n",
       "      <td>1</td>\n",
       "    </tr>\n",
       "    <tr>\n",
       "      <th>5</th>\n",
       "      <td>2022</td>\n",
       "      <td>2022-07-10</td>\n",
       "      <td>Genesis Scottish Open</td>\n",
       "      <td>The Renaissance Club</td>\n",
       "      <td>Talor Gooch</td>\n",
       "      <td>T5</td>\n",
       "      <td>5</td>\n",
       "      <td>21.0</td>\n",
       "      <td>1.017</td>\n",
       "      <td>140.0</td>\n",
       "      <td>-0.138</td>\n",
       "      <td>13.0</td>\n",
       "      <td>0.653</td>\n",
       "      <td>3.0</td>\n",
       "      <td>0.502</td>\n",
       "      <td>100.0</td>\n",
       "      <td>0.005</td>\n",
       "      <td>12.0</td>\n",
       "      <td>23.94</td>\n",
       "      <td>1.0</td>\n",
       "      <td>2.96</td>\n",
       "      <td>38.0</td>\n",
       "      <td>4.00</td>\n",
       "      <td>5.0</td>\n",
       "      <td>4.48</td>\n",
       "      <td>25.0</td>\n",
       "      <td>133.0</td>\n",
       "      <td>64.0</td>\n",
       "      <td>304.4</td>\n",
       "      <td>69.0</td>\n",
       "      <td>61.88</td>\n",
       "      <td>16.0</td>\n",
       "      <td>69.33</td>\n",
       "      <td>63.0</td>\n",
       "      <td>60.71</td>\n",
       "      <td>35.0</td>\n",
       "      <td>2.70</td>\n",
       "      <td>NaN</td>\n",
       "      <td>72.2</td>\n",
       "      <td>1101.31</td>\n",
       "      <td>61.18</td>\n",
       "      <td>0.0</td>\n",
       "      <td>38.6</td>\n",
       "      <td>13.11</td>\n",
       "      <td>NaN</td>\n",
       "      <td>NaN</td>\n",
       "      <td>1</td>\n",
       "    </tr>\n",
       "    <tr>\n",
       "      <th>6</th>\n",
       "      <td>2022</td>\n",
       "      <td>2022-07-10</td>\n",
       "      <td>Genesis Scottish Open</td>\n",
       "      <td>The Renaissance Club</td>\n",
       "      <td>Adam Scott</td>\n",
       "      <td>T5</td>\n",
       "      <td>5</td>\n",
       "      <td>66.0</td>\n",
       "      <td>0.340</td>\n",
       "      <td>68.0</td>\n",
       "      <td>0.158</td>\n",
       "      <td>53.0</td>\n",
       "      <td>0.256</td>\n",
       "      <td>136.0</td>\n",
       "      <td>-0.075</td>\n",
       "      <td>41.0</td>\n",
       "      <td>0.279</td>\n",
       "      <td>30.0</td>\n",
       "      <td>23.07</td>\n",
       "      <td>161.0</td>\n",
       "      <td>3.10</td>\n",
       "      <td>25.0</td>\n",
       "      <td>3.99</td>\n",
       "      <td>29.0</td>\n",
       "      <td>4.56</td>\n",
       "      <td>70.0</td>\n",
       "      <td>178.0</td>\n",
       "      <td>15.0</td>\n",
       "      <td>312.4</td>\n",
       "      <td>163.0</td>\n",
       "      <td>55.34</td>\n",
       "      <td>55.0</td>\n",
       "      <td>67.67</td>\n",
       "      <td>133.0</td>\n",
       "      <td>57.76</td>\n",
       "      <td>30.0</td>\n",
       "      <td>2.86</td>\n",
       "      <td>NaN</td>\n",
       "      <td>84.6</td>\n",
       "      <td>408.00</td>\n",
       "      <td>31.38</td>\n",
       "      <td>2.0</td>\n",
       "      <td>41.5</td>\n",
       "      <td>15.73</td>\n",
       "      <td>NaN</td>\n",
       "      <td>NaN</td>\n",
       "      <td>1</td>\n",
       "    </tr>\n",
       "    <tr>\n",
       "      <th>7</th>\n",
       "      <td>2022</td>\n",
       "      <td>2022-07-10</td>\n",
       "      <td>Genesis Scottish Open</td>\n",
       "      <td>The Renaissance Club</td>\n",
       "      <td>Aaron Wise</td>\n",
       "      <td>T5</td>\n",
       "      <td>5</td>\n",
       "      <td>25.0</td>\n",
       "      <td>0.952</td>\n",
       "      <td>31.0</td>\n",
       "      <td>0.387</td>\n",
       "      <td>21.0</td>\n",
       "      <td>0.489</td>\n",
       "      <td>85.0</td>\n",
       "      <td>0.076</td>\n",
       "      <td>81.0</td>\n",
       "      <td>0.100</td>\n",
       "      <td>22.0</td>\n",
       "      <td>23.39</td>\n",
       "      <td>4.0</td>\n",
       "      <td>2.98</td>\n",
       "      <td>25.0</td>\n",
       "      <td>3.99</td>\n",
       "      <td>24.0</td>\n",
       "      <td>4.55</td>\n",
       "      <td>44.0</td>\n",
       "      <td>154.0</td>\n",
       "      <td>39.0</td>\n",
       "      <td>308.3</td>\n",
       "      <td>115.0</td>\n",
       "      <td>59.15</td>\n",
       "      <td>21.0</td>\n",
       "      <td>69.06</td>\n",
       "      <td>31.0</td>\n",
       "      <td>62.63</td>\n",
       "      <td>37.0</td>\n",
       "      <td>2.69</td>\n",
       "      <td>NaN</td>\n",
       "      <td>72.2</td>\n",
       "      <td>846.11</td>\n",
       "      <td>47.01</td>\n",
       "      <td>0.0</td>\n",
       "      <td>42.7</td>\n",
       "      <td>14.50</td>\n",
       "      <td>NaN</td>\n",
       "      <td>NaN</td>\n",
       "      <td>1</td>\n",
       "    </tr>\n",
       "    <tr>\n",
       "      <th>8</th>\n",
       "      <td>2022</td>\n",
       "      <td>2022-07-10</td>\n",
       "      <td>Genesis Scottish Open</td>\n",
       "      <td>The Renaissance Club</td>\n",
       "      <td>Harry Higgs</td>\n",
       "      <td>T9</td>\n",
       "      <td>9</td>\n",
       "      <td>188.0</td>\n",
       "      <td>-1.039</td>\n",
       "      <td>176.0</td>\n",
       "      <td>-0.350</td>\n",
       "      <td>187.0</td>\n",
       "      <td>-0.600</td>\n",
       "      <td>139.0</td>\n",
       "      <td>-0.089</td>\n",
       "      <td>53.0</td>\n",
       "      <td>0.215</td>\n",
       "      <td>190.0</td>\n",
       "      <td>18.13</td>\n",
       "      <td>105.0</td>\n",
       "      <td>3.06</td>\n",
       "      <td>183.0</td>\n",
       "      <td>4.09</td>\n",
       "      <td>170.0</td>\n",
       "      <td>4.70</td>\n",
       "      <td>156.0</td>\n",
       "      <td>240.0</td>\n",
       "      <td>83.0</td>\n",
       "      <td>301.8</td>\n",
       "      <td>157.0</td>\n",
       "      <td>55.52</td>\n",
       "      <td>189.0</td>\n",
       "      <td>61.39</td>\n",
       "      <td>67.0</td>\n",
       "      <td>60.61</td>\n",
       "      <td>230.0</td>\n",
       "      <td>0.81</td>\n",
       "      <td>NaN</td>\n",
       "      <td>47.8</td>\n",
       "      <td>221.15</td>\n",
       "      <td>9.62</td>\n",
       "      <td>0.0</td>\n",
       "      <td>67.0</td>\n",
       "      <td>21.08</td>\n",
       "      <td>NaN</td>\n",
       "      <td>NaN</td>\n",
       "      <td>1</td>\n",
       "    </tr>\n",
       "    <tr>\n",
       "      <th>9</th>\n",
       "      <td>2022</td>\n",
       "      <td>2022-07-10</td>\n",
       "      <td>Genesis Scottish Open</td>\n",
       "      <td>The Renaissance Club</td>\n",
       "      <td>Sungjae Im</td>\n",
       "      <td>T9</td>\n",
       "      <td>9</td>\n",
       "      <td>9.0</td>\n",
       "      <td>1.342</td>\n",
       "      <td>8.0</td>\n",
       "      <td>0.651</td>\n",
       "      <td>45.0</td>\n",
       "      <td>0.308</td>\n",
       "      <td>12.0</td>\n",
       "      <td>0.383</td>\n",
       "      <td>37.0</td>\n",
       "      <td>0.326</td>\n",
       "      <td>24.0</td>\n",
       "      <td>23.3</td>\n",
       "      <td>18.0</td>\n",
       "      <td>3.01</td>\n",
       "      <td>3.0</td>\n",
       "      <td>3.95</td>\n",
       "      <td>10.0</td>\n",
       "      <td>4.51</td>\n",
       "      <td>4.0</td>\n",
       "      <td>98.0</td>\n",
       "      <td>71.0</td>\n",
       "      <td>303.7</td>\n",
       "      <td>27.0</td>\n",
       "      <td>65.51</td>\n",
       "      <td>9.0</td>\n",
       "      <td>70.83</td>\n",
       "      <td>5.0</td>\n",
       "      <td>66.02</td>\n",
       "      <td>18.0</td>\n",
       "      <td>4.21</td>\n",
       "      <td>40.0</td>\n",
       "      <td>81.2</td>\n",
       "      <td>1175.61</td>\n",
       "      <td>73.48</td>\n",
       "      <td>0.0</td>\n",
       "      <td>30.4</td>\n",
       "      <td>10.73</td>\n",
       "      <td>NaN</td>\n",
       "      <td>NaN</td>\n",
       "      <td>1</td>\n",
       "    </tr>\n",
       "  </tbody>\n",
       "</table>\n",
       "</div>"
      ],
      "text/plain": [
       "   SEASON ENDING_DATE             TOURNAMENT                COURSE  \\\n",
       "0    2022  2022-07-10  Genesis Scottish Open  The Renaissance Club   \n",
       "1    2022  2022-07-10  Genesis Scottish Open  The Renaissance Club   \n",
       "2    2022  2022-07-10  Genesis Scottish Open  The Renaissance Club   \n",
       "3    2022  2022-07-10  Genesis Scottish Open  The Renaissance Club   \n",
       "4    2022  2022-07-10  Genesis Scottish Open  The Renaissance Club   \n",
       "5    2022  2022-07-10  Genesis Scottish Open  The Renaissance Club   \n",
       "6    2022  2022-07-10  Genesis Scottish Open  The Renaissance Club   \n",
       "7    2022  2022-07-10  Genesis Scottish Open  The Renaissance Club   \n",
       "8    2022  2022-07-10  Genesis Scottish Open  The Renaissance Club   \n",
       "9    2022  2022-07-10  Genesis Scottish Open  The Renaissance Club   \n",
       "\n",
       "            PLAYER POS  FINAL_POS  SGTTG_RANK  SGTTG  SGOTT_RANK  SGOTT  \\\n",
       "0     Rory McIlroy   1          1         2.0  1.619         3.0  0.771   \n",
       "1  Collin Morikawa   2          2        17.0  1.066        36.0  0.361   \n",
       "2    Rickie Fowler  T3          3       101.0  0.092       114.0 -0.022   \n",
       "3   Keith Mitchell  T3          3        29.0  0.865         4.0  0.761   \n",
       "4        Sam Burns  T5          5        32.0  0.838        86.0  0.067   \n",
       "5      Talor Gooch  T5          5        21.0  1.017       140.0 -0.138   \n",
       "6       Adam Scott  T5          5        66.0  0.340        68.0  0.158   \n",
       "7       Aaron Wise  T5          5        25.0  0.952        31.0  0.387   \n",
       "8      Harry Higgs  T9          9       188.0 -1.039       176.0 -0.350   \n",
       "9       Sungjae Im  T9          9         9.0  1.342         8.0  0.651   \n",
       "\n",
       "   SGAPR_RANK  SGAPR  SGATG_RANK  SGATG  SGP_RANK    SGP  BIRDIES_RANK  \\\n",
       "0        14.0  0.626        43.0  0.222      16.0  0.495           4.0   \n",
       "1         3.0  0.854       152.0 -0.149     131.0 -0.088          31.0   \n",
       "2       150.0 -0.161        31.0  0.274     161.0 -0.253         165.0   \n",
       "3       111.0  0.024        83.0  0.079      55.0  0.209          31.0   \n",
       "4        18.0  0.554        45.0  0.217      10.0  0.553          10.0   \n",
       "5        13.0  0.653         3.0  0.502     100.0  0.005          12.0   \n",
       "6        53.0  0.256       136.0 -0.075      41.0  0.279          30.0   \n",
       "7        21.0  0.489        85.0  0.076      81.0  0.100          22.0   \n",
       "8       187.0 -0.600       139.0 -0.089      53.0  0.215         190.0   \n",
       "9        45.0  0.308        12.0  0.383      37.0  0.326          24.0   \n",
       "\n",
       "  BIRDIES  PAR_3_RANK  PAR_3  PAR_4_RANK  PAR_4  PAR_5_RANK  PAR_5  \\\n",
       "0   26.11        51.0   3.03         3.0   3.95         3.0   4.44   \n",
       "1   23.06        31.0   3.02        17.0   3.98        53.0   4.59   \n",
       "2   19.64        83.0   3.05       183.0   4.09       106.0   4.64   \n",
       "3   23.06        18.0   3.01        38.0   4.00        12.0   4.52   \n",
       "4   24.44        31.0   3.02        17.0   3.98         7.0   4.50   \n",
       "5   23.94         1.0   2.96        38.0   4.00         5.0   4.48   \n",
       "6   23.07       161.0   3.10        25.0   3.99        29.0   4.56   \n",
       "7   23.39         4.0   2.98        25.0   3.99        24.0   4.55   \n",
       "8   18.13       105.0   3.06       183.0   4.09       170.0   4.70   \n",
       "9    23.3        18.0   3.01         3.0   3.95        10.0   4.51   \n",
       "\n",
       "   TOTAL_DRIVING_RANK  TOTAL_DRIVING  DRIVING_DISTANCE_RANK  DRIVING_DISTANCE  \\\n",
       "0                23.0          129.0                    2.0             321.3   \n",
       "1                 9.0          112.0                   83.0             301.8   \n",
       "2                48.0          158.0                   27.0             309.4   \n",
       "3                 2.0           91.0                   18.0             311.8   \n",
       "4                83.0          186.0                   24.0             309.6   \n",
       "5                25.0          133.0                   64.0             304.4   \n",
       "6                70.0          178.0                   15.0             312.4   \n",
       "7                44.0          154.0                   39.0             308.3   \n",
       "8               156.0          240.0                   83.0             301.8   \n",
       "9                 4.0           98.0                   71.0             303.7   \n",
       "\n",
       "   DRIVING_ACCURACY_RANK DRIVING_ACCURACY  GIR_RANK    GIR  SCRAMBLING_RANK  \\\n",
       "0                  127.0            58.06      12.0  69.91             30.0   \n",
       "1                   29.0            65.27      30.0  68.61             94.0   \n",
       "2                  131.0            57.91     186.0  62.21            152.0   \n",
       "3                   73.0            61.76      57.0  67.64             20.0   \n",
       "4                  162.0            55.38      26.0  68.68             92.0   \n",
       "5                   69.0            61.88      16.0  69.33             63.0   \n",
       "6                  163.0            55.34      55.0  67.67            133.0   \n",
       "7                  115.0            59.15      21.0  69.06             31.0   \n",
       "8                  157.0            55.52     189.0  61.39             67.0   \n",
       "9                   27.0            65.51       9.0  70.83              5.0   \n",
       "\n",
       "  SCRAMBLING  OWGR_RANK  OWGR  VEGAS_ODDS  CUT_PERCENTAGE  FEDEX_CUP_POINTS  \\\n",
       "0      62.77        2.0  9.07         NaN            91.7           1893.88   \n",
       "1      59.59        9.0  6.33        25.0            83.3           1015.59   \n",
       "2      56.94      185.0  0.96       125.0            58.8            300.54   \n",
       "3      63.67       59.0  1.97        80.0            83.3            833.39   \n",
       "4      59.65       12.0  5.67        25.0            64.7           1595.19   \n",
       "5      60.71       35.0  2.70         NaN            72.2           1101.31   \n",
       "6      57.76       30.0  2.86         NaN            84.6            408.00   \n",
       "7      62.63       37.0  2.69         NaN            72.2            846.11   \n",
       "8      60.61      230.0  0.81         NaN            47.8            221.15   \n",
       "9      66.02       18.0  4.21        40.0            81.2           1175.61   \n",
       "\n",
       "   form_density  CONSECUTIVE_CUTS  RECENT_FORM  adj_form  COURSE_HISTORY  \\\n",
       "0        157.82               7.0         17.1      6.67             NaN   \n",
       "1         84.63               1.0         32.9     12.83             NaN   \n",
       "2         17.68               0.0         60.6     20.97             NaN   \n",
       "3         46.30               5.0         35.3     11.99             NaN   \n",
       "4         93.83               0.0         39.6     13.70             NaN   \n",
       "5         61.18               0.0         38.6     13.11             NaN   \n",
       "6         31.38               2.0         41.5     15.73             NaN   \n",
       "7         47.01               0.0         42.7     14.50             NaN   \n",
       "8          9.62               0.0         67.0     21.08             NaN   \n",
       "9         73.48               0.0         30.4     10.73             NaN   \n",
       "\n",
       "   adj_ch  TOP_20  \n",
       "0     NaN       1  \n",
       "1     NaN       1  \n",
       "2     NaN       1  \n",
       "3     NaN       1  \n",
       "4     NaN       1  \n",
       "5     NaN       1  \n",
       "6     NaN       1  \n",
       "7     NaN       1  \n",
       "8     NaN       1  \n",
       "9     NaN       1  "
      ]
     },
     "execution_count": 20,
     "metadata": {},
     "output_type": "execute_result"
    }
   ],
   "source": [
    "pd.set_option(\"display.max_columns\", None)   # Show all columns\n",
    "importlib.reload(utils.db_utils)\n",
    "from utils.db_utils import build_training_rows\n",
    "training_df = build_training_rows(\n",
    "    db_path,\n",
    "    history_df,\n",
    "    cuts,\n",
    "    recent_form,\n",
    "    course_hist,\n",
    ")\n",
    "training_df.head(10)\n",
    "# training_df.info()\n",
    "# training_df.isna().sum().sort_values(ascending=False)"
   ]
  },
  {
   "cell_type": "code",
   "execution_count": 21,
   "id": "c5df12cc",
   "metadata": {},
   "outputs": [
    {
     "data": {
      "text/html": [
       "<div>\n",
       "<style scoped>\n",
       "    .dataframe tbody tr th:only-of-type {\n",
       "        vertical-align: middle;\n",
       "    }\n",
       "\n",
       "    .dataframe tbody tr th {\n",
       "        vertical-align: top;\n",
       "    }\n",
       "\n",
       "    .dataframe thead th {\n",
       "        text-align: right;\n",
       "    }\n",
       "</style>\n",
       "<table border=\"1\" class=\"dataframe\">\n",
       "  <thead>\n",
       "    <tr style=\"text-align: right;\">\n",
       "      <th></th>\n",
       "      <th>SEASON</th>\n",
       "      <th>ENDING_DATE</th>\n",
       "      <th>TOURNAMENT</th>\n",
       "      <th>COURSE</th>\n",
       "      <th>PLAYER</th>\n",
       "      <th>POS</th>\n",
       "      <th>FINAL_POS</th>\n",
       "      <th>SGTTG_RANK</th>\n",
       "      <th>SGTTG</th>\n",
       "      <th>SGOTT_RANK</th>\n",
       "      <th>SGOTT</th>\n",
       "      <th>SGAPR_RANK</th>\n",
       "      <th>SGAPR</th>\n",
       "      <th>SGATG_RANK</th>\n",
       "      <th>SGATG</th>\n",
       "      <th>SGP_RANK</th>\n",
       "      <th>SGP</th>\n",
       "      <th>BIRDIES_RANK</th>\n",
       "      <th>BIRDIES</th>\n",
       "      <th>PAR_3_RANK</th>\n",
       "      <th>PAR_3</th>\n",
       "      <th>PAR_4_RANK</th>\n",
       "      <th>PAR_4</th>\n",
       "      <th>PAR_5_RANK</th>\n",
       "      <th>PAR_5</th>\n",
       "      <th>TOTAL_DRIVING_RANK</th>\n",
       "      <th>TOTAL_DRIVING</th>\n",
       "      <th>DRIVING_DISTANCE_RANK</th>\n",
       "      <th>DRIVING_DISTANCE</th>\n",
       "      <th>DRIVING_ACCURACY_RANK</th>\n",
       "      <th>DRIVING_ACCURACY</th>\n",
       "      <th>GIR_RANK</th>\n",
       "      <th>GIR</th>\n",
       "      <th>SCRAMBLING_RANK</th>\n",
       "      <th>SCRAMBLING</th>\n",
       "      <th>OWGR_RANK</th>\n",
       "      <th>OWGR</th>\n",
       "      <th>VEGAS_ODDS</th>\n",
       "      <th>CUT_PERCENTAGE</th>\n",
       "      <th>FEDEX_CUP_POINTS</th>\n",
       "      <th>form_density</th>\n",
       "      <th>CONSECUTIVE_CUTS</th>\n",
       "      <th>RECENT_FORM</th>\n",
       "      <th>adj_form</th>\n",
       "      <th>COURSE_HISTORY</th>\n",
       "      <th>adj_ch</th>\n",
       "      <th>TOP_20</th>\n",
       "    </tr>\n",
       "  </thead>\n",
       "  <tbody>\n",
       "    <tr>\n",
       "      <th>235</th>\n",
       "      <td>2024</td>\n",
       "      <td>2024-07-14</td>\n",
       "      <td>Genesis Scottish Open</td>\n",
       "      <td>The Renaissance Club</td>\n",
       "      <td>Robert MacIntyre</td>\n",
       "      <td>1</td>\n",
       "      <td>1</td>\n",
       "      <td>55.0</td>\n",
       "      <td>0.404</td>\n",
       "      <td>38.0</td>\n",
       "      <td>0.289</td>\n",
       "      <td>112.0</td>\n",
       "      <td>-0.051</td>\n",
       "      <td>48.0</td>\n",
       "      <td>0.167</td>\n",
       "      <td>36.0</td>\n",
       "      <td>0.321</td>\n",
       "      <td>90.0</td>\n",
       "      <td>22.30%</td>\n",
       "      <td>74.0</td>\n",
       "      <td>3.04</td>\n",
       "      <td>26.0</td>\n",
       "      <td>3.98</td>\n",
       "      <td>44.0</td>\n",
       "      <td>4.54</td>\n",
       "      <td>134.0</td>\n",
       "      <td>202.0</td>\n",
       "      <td>63.0</td>\n",
       "      <td>304.9</td>\n",
       "      <td>139.0</td>\n",
       "      <td>56.64%</td>\n",
       "      <td>115.0</td>\n",
       "      <td>65.97%</td>\n",
       "      <td>16.0</td>\n",
       "      <td>64.85%</td>\n",
       "      <td>16.0</td>\n",
       "      <td>3.6699</td>\n",
       "      <td>40.0</td>\n",
       "      <td>43.8</td>\n",
       "      <td>927.752</td>\n",
       "      <td>57.98</td>\n",
       "      <td>0.0</td>\n",
       "      <td>61.6</td>\n",
       "      <td>21.74</td>\n",
       "      <td>2.0</td>\n",
       "      <td>2.89</td>\n",
       "      <td>1</td>\n",
       "    </tr>\n",
       "    <tr>\n",
       "      <th>236</th>\n",
       "      <td>2024</td>\n",
       "      <td>2024-07-14</td>\n",
       "      <td>Genesis Scottish Open</td>\n",
       "      <td>The Renaissance Club</td>\n",
       "      <td>Adam Scott</td>\n",
       "      <td>2</td>\n",
       "      <td>2</td>\n",
       "      <td>38.0</td>\n",
       "      <td>0.540</td>\n",
       "      <td>33.0</td>\n",
       "      <td>0.322</td>\n",
       "      <td>87.0</td>\n",
       "      <td>0.114</td>\n",
       "      <td>67.0</td>\n",
       "      <td>0.104</td>\n",
       "      <td>29.0</td>\n",
       "      <td>0.398</td>\n",
       "      <td>79.0</td>\n",
       "      <td>22.54%</td>\n",
       "      <td>38.0</td>\n",
       "      <td>3.01</td>\n",
       "      <td>57.0</td>\n",
       "      <td>4.00</td>\n",
       "      <td>44.0</td>\n",
       "      <td>4.54</td>\n",
       "      <td>75.0</td>\n",
       "      <td>170.0</td>\n",
       "      <td>49.0</td>\n",
       "      <td>307.1</td>\n",
       "      <td>121.0</td>\n",
       "      <td>58.28%</td>\n",
       "      <td>102.0</td>\n",
       "      <td>66.35%</td>\n",
       "      <td>45.0</td>\n",
       "      <td>62.09%</td>\n",
       "      <td>20.0</td>\n",
       "      <td>3.2584</td>\n",
       "      <td>80.0</td>\n",
       "      <td>87.5</td>\n",
       "      <td>693.009</td>\n",
       "      <td>43.31</td>\n",
       "      <td>4.0</td>\n",
       "      <td>33.6</td>\n",
       "      <td>11.86</td>\n",
       "      <td>47.5</td>\n",
       "      <td>43.24</td>\n",
       "      <td>1</td>\n",
       "    </tr>\n",
       "    <tr>\n",
       "      <th>237</th>\n",
       "      <td>2024</td>\n",
       "      <td>2024-07-14</td>\n",
       "      <td>Genesis Scottish Open</td>\n",
       "      <td>The Renaissance Club</td>\n",
       "      <td>Romain Langasque</td>\n",
       "      <td>3</td>\n",
       "      <td>3</td>\n",
       "      <td>NaN</td>\n",
       "      <td>NaN</td>\n",
       "      <td>NaN</td>\n",
       "      <td>NaN</td>\n",
       "      <td>NaN</td>\n",
       "      <td>NaN</td>\n",
       "      <td>NaN</td>\n",
       "      <td>NaN</td>\n",
       "      <td>NaN</td>\n",
       "      <td>NaN</td>\n",
       "      <td>NaN</td>\n",
       "      <td>None</td>\n",
       "      <td>NaN</td>\n",
       "      <td>NaN</td>\n",
       "      <td>NaN</td>\n",
       "      <td>NaN</td>\n",
       "      <td>NaN</td>\n",
       "      <td>NaN</td>\n",
       "      <td>NaN</td>\n",
       "      <td>NaN</td>\n",
       "      <td>NaN</td>\n",
       "      <td>NaN</td>\n",
       "      <td>NaN</td>\n",
       "      <td>None</td>\n",
       "      <td>NaN</td>\n",
       "      <td>None</td>\n",
       "      <td>NaN</td>\n",
       "      <td>None</td>\n",
       "      <td>85.0</td>\n",
       "      <td>1.4115</td>\n",
       "      <td>150.0</td>\n",
       "      <td>NaN</td>\n",
       "      <td>NaN</td>\n",
       "      <td>NaN</td>\n",
       "      <td>NaN</td>\n",
       "      <td>NaN</td>\n",
       "      <td>NaN</td>\n",
       "      <td>25.0</td>\n",
       "      <td>36.07</td>\n",
       "      <td>1</td>\n",
       "    </tr>\n",
       "    <tr>\n",
       "      <th>238</th>\n",
       "      <td>2024</td>\n",
       "      <td>2024-07-14</td>\n",
       "      <td>Genesis Scottish Open</td>\n",
       "      <td>The Renaissance Club</td>\n",
       "      <td>Aaron Rai</td>\n",
       "      <td>T4</td>\n",
       "      <td>4</td>\n",
       "      <td>9.0</td>\n",
       "      <td>1.131</td>\n",
       "      <td>36.0</td>\n",
       "      <td>0.303</td>\n",
       "      <td>8.0</td>\n",
       "      <td>0.676</td>\n",
       "      <td>56.0</td>\n",
       "      <td>0.152</td>\n",
       "      <td>83.0</td>\n",
       "      <td>0.054</td>\n",
       "      <td>99.0</td>\n",
       "      <td>22.10%</td>\n",
       "      <td>38.0</td>\n",
       "      <td>3.01</td>\n",
       "      <td>10.0</td>\n",
       "      <td>3.97</td>\n",
       "      <td>44.0</td>\n",
       "      <td>4.54</td>\n",
       "      <td>53.0</td>\n",
       "      <td>153.0</td>\n",
       "      <td>152.0</td>\n",
       "      <td>293.8</td>\n",
       "      <td>1.0</td>\n",
       "      <td>72.02%</td>\n",
       "      <td>7.0</td>\n",
       "      <td>71.58%</td>\n",
       "      <td>33.0</td>\n",
       "      <td>63.18%</td>\n",
       "      <td>21.0</td>\n",
       "      <td>3.2294</td>\n",
       "      <td>40.0</td>\n",
       "      <td>83.3</td>\n",
       "      <td>808.257</td>\n",
       "      <td>44.90</td>\n",
       "      <td>9.0</td>\n",
       "      <td>35.8</td>\n",
       "      <td>12.16</td>\n",
       "      <td>90.0</td>\n",
       "      <td>129.84</td>\n",
       "      <td>1</td>\n",
       "    </tr>\n",
       "    <tr>\n",
       "      <th>239</th>\n",
       "      <td>2024</td>\n",
       "      <td>2024-07-14</td>\n",
       "      <td>Genesis Scottish Open</td>\n",
       "      <td>The Renaissance Club</td>\n",
       "      <td>Collin Morikawa</td>\n",
       "      <td>T4</td>\n",
       "      <td>4</td>\n",
       "      <td>8.0</td>\n",
       "      <td>1.150</td>\n",
       "      <td>16.0</td>\n",
       "      <td>0.435</td>\n",
       "      <td>46.0</td>\n",
       "      <td>0.283</td>\n",
       "      <td>4.0</td>\n",
       "      <td>0.432</td>\n",
       "      <td>61.0</td>\n",
       "      <td>0.165</td>\n",
       "      <td>17.0</td>\n",
       "      <td>24.30%</td>\n",
       "      <td>21.0</td>\n",
       "      <td>3.00</td>\n",
       "      <td>5.0</td>\n",
       "      <td>3.96</td>\n",
       "      <td>53.0</td>\n",
       "      <td>4.55</td>\n",
       "      <td>36.0</td>\n",
       "      <td>140.0</td>\n",
       "      <td>136.0</td>\n",
       "      <td>296.0</td>\n",
       "      <td>4.0</td>\n",
       "      <td>70.57%</td>\n",
       "      <td>135.0</td>\n",
       "      <td>65.04%</td>\n",
       "      <td>9.0</td>\n",
       "      <td>65.68%</td>\n",
       "      <td>4.0</td>\n",
       "      <td>6.1022</td>\n",
       "      <td>16.0</td>\n",
       "      <td>88.2</td>\n",
       "      <td>2232.296</td>\n",
       "      <td>131.31</td>\n",
       "      <td>10.0</td>\n",
       "      <td>24.2</td>\n",
       "      <td>8.37</td>\n",
       "      <td>2.0</td>\n",
       "      <td>2.89</td>\n",
       "      <td>1</td>\n",
       "    </tr>\n",
       "  </tbody>\n",
       "</table>\n",
       "</div>"
      ],
      "text/plain": [
       "     SEASON ENDING_DATE             TOURNAMENT                COURSE  \\\n",
       "235    2024  2024-07-14  Genesis Scottish Open  The Renaissance Club   \n",
       "236    2024  2024-07-14  Genesis Scottish Open  The Renaissance Club   \n",
       "237    2024  2024-07-14  Genesis Scottish Open  The Renaissance Club   \n",
       "238    2024  2024-07-14  Genesis Scottish Open  The Renaissance Club   \n",
       "239    2024  2024-07-14  Genesis Scottish Open  The Renaissance Club   \n",
       "\n",
       "               PLAYER POS  FINAL_POS  SGTTG_RANK  SGTTG  SGOTT_RANK  SGOTT  \\\n",
       "235  Robert MacIntyre   1          1        55.0  0.404        38.0  0.289   \n",
       "236        Adam Scott   2          2        38.0  0.540        33.0  0.322   \n",
       "237  Romain Langasque   3          3         NaN    NaN         NaN    NaN   \n",
       "238         Aaron Rai  T4          4         9.0  1.131        36.0  0.303   \n",
       "239   Collin Morikawa  T4          4         8.0  1.150        16.0  0.435   \n",
       "\n",
       "     SGAPR_RANK  SGAPR  SGATG_RANK  SGATG  SGP_RANK    SGP  BIRDIES_RANK  \\\n",
       "235       112.0 -0.051        48.0  0.167      36.0  0.321          90.0   \n",
       "236        87.0  0.114        67.0  0.104      29.0  0.398          79.0   \n",
       "237         NaN    NaN         NaN    NaN       NaN    NaN           NaN   \n",
       "238         8.0  0.676        56.0  0.152      83.0  0.054          99.0   \n",
       "239        46.0  0.283         4.0  0.432      61.0  0.165          17.0   \n",
       "\n",
       "    BIRDIES  PAR_3_RANK  PAR_3  PAR_4_RANK  PAR_4  PAR_5_RANK  PAR_5  \\\n",
       "235  22.30%        74.0   3.04        26.0   3.98        44.0   4.54   \n",
       "236  22.54%        38.0   3.01        57.0   4.00        44.0   4.54   \n",
       "237    None         NaN    NaN         NaN    NaN         NaN    NaN   \n",
       "238  22.10%        38.0   3.01        10.0   3.97        44.0   4.54   \n",
       "239  24.30%        21.0   3.00         5.0   3.96        53.0   4.55   \n",
       "\n",
       "     TOTAL_DRIVING_RANK  TOTAL_DRIVING  DRIVING_DISTANCE_RANK  \\\n",
       "235               134.0          202.0                   63.0   \n",
       "236                75.0          170.0                   49.0   \n",
       "237                 NaN            NaN                    NaN   \n",
       "238                53.0          153.0                  152.0   \n",
       "239                36.0          140.0                  136.0   \n",
       "\n",
       "     DRIVING_DISTANCE  DRIVING_ACCURACY_RANK DRIVING_ACCURACY  GIR_RANK  \\\n",
       "235             304.9                  139.0           56.64%     115.0   \n",
       "236             307.1                  121.0           58.28%     102.0   \n",
       "237               NaN                    NaN             None       NaN   \n",
       "238             293.8                    1.0           72.02%       7.0   \n",
       "239             296.0                    4.0           70.57%     135.0   \n",
       "\n",
       "        GIR  SCRAMBLING_RANK SCRAMBLING  OWGR_RANK    OWGR  VEGAS_ODDS  \\\n",
       "235  65.97%             16.0     64.85%       16.0  3.6699        40.0   \n",
       "236  66.35%             45.0     62.09%       20.0  3.2584        80.0   \n",
       "237    None              NaN       None       85.0  1.4115       150.0   \n",
       "238  71.58%             33.0     63.18%       21.0  3.2294        40.0   \n",
       "239  65.04%              9.0     65.68%        4.0  6.1022        16.0   \n",
       "\n",
       "     CUT_PERCENTAGE  FEDEX_CUP_POINTS  form_density  CONSECUTIVE_CUTS  \\\n",
       "235            43.8           927.752         57.98               0.0   \n",
       "236            87.5           693.009         43.31               4.0   \n",
       "237             NaN               NaN           NaN               NaN   \n",
       "238            83.3           808.257         44.90               9.0   \n",
       "239            88.2          2232.296        131.31              10.0   \n",
       "\n",
       "     RECENT_FORM  adj_form  COURSE_HISTORY  adj_ch  TOP_20  \n",
       "235         61.6     21.74             2.0    2.89       1  \n",
       "236         33.6     11.86            47.5   43.24       1  \n",
       "237          NaN       NaN            25.0   36.07       1  \n",
       "238         35.8     12.16            90.0  129.84       1  \n",
       "239         24.2      8.37             2.0    2.89       1  "
      ]
     },
     "execution_count": 21,
     "metadata": {},
     "output_type": "execute_result"
    }
   ],
   "source": [
    "# Play with different years to see if I notice anything wrong (check Odds)\n",
    "training_df[training_df[\"SEASON\"] == 2024].head()"
   ]
  },
  {
   "cell_type": "markdown",
   "id": "5f92ff52",
   "metadata": {},
   "source": [
    "### Normalization\n",
    "***Fix Historical Odds***\n",
    "\n",
    "Many names do not have historical odds but rather are part of the \"field.\" So giving these \"NaN\" values the average odds (as I would for missing stats) isn't a good approximation of reality – they are typically the \"field\" because they are not notable and have poor odds individually.\n",
    "\n",
    "There are also some crazy odds numbers occasionally (1000/1 or 3000/1) that don't happen all that much and are making that tail too long.\n",
    "\n",
    "This cell assigns odds of 1000/1 for anyone missing and clips anything larger to 1000/1 to normalize the data better and assign the missing odds more appropriately where they belong.\n",
    "\n",
    "***OWGR Adjustment***\n",
    "\n",
    "The NaN's for OWGR are similarly bad players.  So we should assign these the worst ranking instead of the mean and clip it at 1000 just in case there are ever outliers.\n",
    "\n",
    "For the OWGR score, it should match the lowest score in the dataset to assign that person the same as the worst.\n",
    "\n",
    "***Recent Form Adjustment***\n",
    "\n",
    "The NaN's for Recent Form mean that this player has not played any tournaments in the lookback period (9 months).  Similar to Odds and OWGR, I want to punish those that don't play often in my model.  Set these to 90 (i.e. like they miss a lot of cuts - because if they aren't playing they aren't good enough to make it to these tournaments very frequently).  The adj_form feature will also need to be updated here with the new data.\n",
    "\n",
    "***FedEx Cup Point Adjustment***\n",
    "\n",
    "The NaN's for FedEx Cup Points means there is no data.  Therefore they should be 0."
   ]
  },
  {
   "cell_type": "code",
   "execution_count": 11,
   "id": "3e9f4f19",
   "metadata": {},
   "outputs": [
    {
     "data": {
      "text/html": [
       "<div>\n",
       "<style scoped>\n",
       "    .dataframe tbody tr th:only-of-type {\n",
       "        vertical-align: middle;\n",
       "    }\n",
       "\n",
       "    .dataframe tbody tr th {\n",
       "        vertical-align: top;\n",
       "    }\n",
       "\n",
       "    .dataframe thead th {\n",
       "        text-align: right;\n",
       "    }\n",
       "</style>\n",
       "<table border=\"1\" class=\"dataframe\">\n",
       "  <thead>\n",
       "    <tr style=\"text-align: right;\">\n",
       "      <th></th>\n",
       "      <th>SEASON</th>\n",
       "      <th>ENDING_DATE</th>\n",
       "      <th>TOURNAMENT</th>\n",
       "      <th>COURSE</th>\n",
       "      <th>PLAYER</th>\n",
       "      <th>POS</th>\n",
       "      <th>FINAL_POS</th>\n",
       "      <th>SGTTG_RANK</th>\n",
       "      <th>SGTTG</th>\n",
       "      <th>SGOTT_RANK</th>\n",
       "      <th>SGOTT</th>\n",
       "      <th>SGAPR_RANK</th>\n",
       "      <th>SGAPR</th>\n",
       "      <th>SGATG_RANK</th>\n",
       "      <th>SGATG</th>\n",
       "      <th>SGP_RANK</th>\n",
       "      <th>SGP</th>\n",
       "      <th>BIRDIES_RANK</th>\n",
       "      <th>BIRDIES</th>\n",
       "      <th>PAR_3_RANK</th>\n",
       "      <th>PAR_3</th>\n",
       "      <th>PAR_4_RANK</th>\n",
       "      <th>PAR_4</th>\n",
       "      <th>PAR_5_RANK</th>\n",
       "      <th>PAR_5</th>\n",
       "      <th>TOTAL_DRIVING_RANK</th>\n",
       "      <th>TOTAL_DRIVING</th>\n",
       "      <th>DRIVING_DISTANCE_RANK</th>\n",
       "      <th>DRIVING_DISTANCE</th>\n",
       "      <th>DRIVING_ACCURACY_RANK</th>\n",
       "      <th>DRIVING_ACCURACY</th>\n",
       "      <th>GIR_RANK</th>\n",
       "      <th>GIR</th>\n",
       "      <th>SCRAMBLING_RANK</th>\n",
       "      <th>SCRAMBLING</th>\n",
       "      <th>OWGR_RANK</th>\n",
       "      <th>OWGR</th>\n",
       "      <th>VEGAS_ODDS</th>\n",
       "      <th>CUT_PERCENTAGE</th>\n",
       "      <th>FEDEX_CUP_POINTS</th>\n",
       "      <th>form_density</th>\n",
       "      <th>CONSECUTIVE_CUTS</th>\n",
       "      <th>RECENT_FORM</th>\n",
       "      <th>adj_form</th>\n",
       "      <th>COURSE_HISTORY</th>\n",
       "      <th>adj_ch</th>\n",
       "      <th>TOP_20</th>\n",
       "    </tr>\n",
       "  </thead>\n",
       "  <tbody>\n",
       "    <tr>\n",
       "      <th>0</th>\n",
       "      <td>2022</td>\n",
       "      <td>2022-07-10</td>\n",
       "      <td>Genesis Scottish Open</td>\n",
       "      <td>The Renaissance Club</td>\n",
       "      <td>Aaron Wise</td>\n",
       "      <td>T5</td>\n",
       "      <td>5</td>\n",
       "      <td>25.0</td>\n",
       "      <td>0.952</td>\n",
       "      <td>31.0</td>\n",
       "      <td>0.387</td>\n",
       "      <td>21.0</td>\n",
       "      <td>0.489</td>\n",
       "      <td>85.0</td>\n",
       "      <td>0.076</td>\n",
       "      <td>81.0</td>\n",
       "      <td>0.100</td>\n",
       "      <td>22.0</td>\n",
       "      <td>23.39</td>\n",
       "      <td>4.0</td>\n",
       "      <td>2.98</td>\n",
       "      <td>25.0</td>\n",
       "      <td>3.99</td>\n",
       "      <td>24.0</td>\n",
       "      <td>4.55</td>\n",
       "      <td>44.0</td>\n",
       "      <td>154.0</td>\n",
       "      <td>39.0</td>\n",
       "      <td>308.3</td>\n",
       "      <td>115.0</td>\n",
       "      <td>59.15</td>\n",
       "      <td>21.0</td>\n",
       "      <td>69.06</td>\n",
       "      <td>31.0</td>\n",
       "      <td>62.63</td>\n",
       "      <td>37.0</td>\n",
       "      <td>2.69</td>\n",
       "      <td>1000.0</td>\n",
       "      <td>72.2</td>\n",
       "      <td>846.11</td>\n",
       "      <td>47.01</td>\n",
       "      <td>0.0</td>\n",
       "      <td>42.7</td>\n",
       "      <td>14.50</td>\n",
       "      <td>NaN</td>\n",
       "      <td>NaN</td>\n",
       "      <td>1</td>\n",
       "    </tr>\n",
       "    <tr>\n",
       "      <th>1</th>\n",
       "      <td>2022</td>\n",
       "      <td>2022-07-10</td>\n",
       "      <td>Genesis Scottish Open</td>\n",
       "      <td>The Renaissance Club</td>\n",
       "      <td>Abraham Ancer</td>\n",
       "      <td>T14</td>\n",
       "      <td>14</td>\n",
       "      <td>122.0</td>\n",
       "      <td>-0.026</td>\n",
       "      <td>29.0</td>\n",
       "      <td>0.395</td>\n",
       "      <td>109.0</td>\n",
       "      <td>0.026</td>\n",
       "      <td>189.0</td>\n",
       "      <td>-0.447</td>\n",
       "      <td>62.0</td>\n",
       "      <td>0.165</td>\n",
       "      <td>61.0</td>\n",
       "      <td>21.84</td>\n",
       "      <td>62.0</td>\n",
       "      <td>3.04</td>\n",
       "      <td>25.0</td>\n",
       "      <td>3.99</td>\n",
       "      <td>81.0</td>\n",
       "      <td>4.62</td>\n",
       "      <td>18.0</td>\n",
       "      <td>124.0</td>\n",
       "      <td>120.0</td>\n",
       "      <td>297.1</td>\n",
       "      <td>4.0</td>\n",
       "      <td>70.54</td>\n",
       "      <td>77.0</td>\n",
       "      <td>66.86</td>\n",
       "      <td>64.0</td>\n",
       "      <td>60.69</td>\n",
       "      <td>24.0</td>\n",
       "      <td>3.21</td>\n",
       "      <td>1000.0</td>\n",
       "      <td>68.8</td>\n",
       "      <td>338.30</td>\n",
       "      <td>21.14</td>\n",
       "      <td>1.0</td>\n",
       "      <td>50.0</td>\n",
       "      <td>17.65</td>\n",
       "      <td>NaN</td>\n",
       "      <td>NaN</td>\n",
       "      <td>1</td>\n",
       "    </tr>\n",
       "    <tr>\n",
       "      <th>2</th>\n",
       "      <td>2022</td>\n",
       "      <td>2022-07-10</td>\n",
       "      <td>Genesis Scottish Open</td>\n",
       "      <td>The Renaissance Club</td>\n",
       "      <td>Adam Scott</td>\n",
       "      <td>T5</td>\n",
       "      <td>5</td>\n",
       "      <td>66.0</td>\n",
       "      <td>0.340</td>\n",
       "      <td>68.0</td>\n",
       "      <td>0.158</td>\n",
       "      <td>53.0</td>\n",
       "      <td>0.256</td>\n",
       "      <td>136.0</td>\n",
       "      <td>-0.075</td>\n",
       "      <td>41.0</td>\n",
       "      <td>0.279</td>\n",
       "      <td>30.0</td>\n",
       "      <td>23.07</td>\n",
       "      <td>161.0</td>\n",
       "      <td>3.10</td>\n",
       "      <td>25.0</td>\n",
       "      <td>3.99</td>\n",
       "      <td>29.0</td>\n",
       "      <td>4.56</td>\n",
       "      <td>70.0</td>\n",
       "      <td>178.0</td>\n",
       "      <td>15.0</td>\n",
       "      <td>312.4</td>\n",
       "      <td>163.0</td>\n",
       "      <td>55.34</td>\n",
       "      <td>55.0</td>\n",
       "      <td>67.67</td>\n",
       "      <td>133.0</td>\n",
       "      <td>57.76</td>\n",
       "      <td>30.0</td>\n",
       "      <td>2.86</td>\n",
       "      <td>1000.0</td>\n",
       "      <td>84.6</td>\n",
       "      <td>408.00</td>\n",
       "      <td>31.38</td>\n",
       "      <td>2.0</td>\n",
       "      <td>41.5</td>\n",
       "      <td>15.73</td>\n",
       "      <td>NaN</td>\n",
       "      <td>NaN</td>\n",
       "      <td>1</td>\n",
       "    </tr>\n",
       "    <tr>\n",
       "      <th>3</th>\n",
       "      <td>2022</td>\n",
       "      <td>2022-07-10</td>\n",
       "      <td>Genesis Scottish Open</td>\n",
       "      <td>The Renaissance Club</td>\n",
       "      <td>Alex Noren</td>\n",
       "      <td>T59</td>\n",
       "      <td>59</td>\n",
       "      <td>113.0</td>\n",
       "      <td>0.026</td>\n",
       "      <td>112.0</td>\n",
       "      <td>-0.019</td>\n",
       "      <td>119.0</td>\n",
       "      <td>0.002</td>\n",
       "      <td>93.0</td>\n",
       "      <td>0.042</td>\n",
       "      <td>18.0</td>\n",
       "      <td>0.457</td>\n",
       "      <td>143.0</td>\n",
       "      <td>20.23</td>\n",
       "      <td>14.0</td>\n",
       "      <td>3.00</td>\n",
       "      <td>76.0</td>\n",
       "      <td>4.02</td>\n",
       "      <td>44.0</td>\n",
       "      <td>4.58</td>\n",
       "      <td>167.0</td>\n",
       "      <td>248.0</td>\n",
       "      <td>100.0</td>\n",
       "      <td>299.8</td>\n",
       "      <td>148.0</td>\n",
       "      <td>56.22</td>\n",
       "      <td>117.0</td>\n",
       "      <td>65.71</td>\n",
       "      <td>12.0</td>\n",
       "      <td>64.56</td>\n",
       "      <td>54.0</td>\n",
       "      <td>2.04</td>\n",
       "      <td>80.0</td>\n",
       "      <td>68.8</td>\n",
       "      <td>444.57</td>\n",
       "      <td>27.79</td>\n",
       "      <td>0.0</td>\n",
       "      <td>47.6</td>\n",
       "      <td>16.80</td>\n",
       "      <td>NaN</td>\n",
       "      <td>NaN</td>\n",
       "      <td>0</td>\n",
       "    </tr>\n",
       "    <tr>\n",
       "      <th>4</th>\n",
       "      <td>2022</td>\n",
       "      <td>2022-07-10</td>\n",
       "      <td>Genesis Scottish Open</td>\n",
       "      <td>The Renaissance Club</td>\n",
       "      <td>Branden Grace</td>\n",
       "      <td>T68</td>\n",
       "      <td>68</td>\n",
       "      <td>144.0</td>\n",
       "      <td>-0.290</td>\n",
       "      <td>92.0</td>\n",
       "      <td>0.028</td>\n",
       "      <td>170.0</td>\n",
       "      <td>-0.318</td>\n",
       "      <td>110.0</td>\n",
       "      <td>0.001</td>\n",
       "      <td>188.0</td>\n",
       "      <td>-0.544</td>\n",
       "      <td>177.0</td>\n",
       "      <td>19.23</td>\n",
       "      <td>155.0</td>\n",
       "      <td>3.09</td>\n",
       "      <td>122.0</td>\n",
       "      <td>4.04</td>\n",
       "      <td>157.0</td>\n",
       "      <td>4.69</td>\n",
       "      <td>142.0</td>\n",
       "      <td>225.0</td>\n",
       "      <td>127.0</td>\n",
       "      <td>296.4</td>\n",
       "      <td>98.0</td>\n",
       "      <td>60.14</td>\n",
       "      <td>129.0</td>\n",
       "      <td>65.38</td>\n",
       "      <td>86.0</td>\n",
       "      <td>59.88</td>\n",
       "      <td>155.0</td>\n",
       "      <td>1.08</td>\n",
       "      <td>100.0</td>\n",
       "      <td>41.2</td>\n",
       "      <td>147.03</td>\n",
       "      <td>8.65</td>\n",
       "      <td>0.0</td>\n",
       "      <td>69.6</td>\n",
       "      <td>24.08</td>\n",
       "      <td>NaN</td>\n",
       "      <td>NaN</td>\n",
       "      <td>0</td>\n",
       "    </tr>\n",
       "  </tbody>\n",
       "</table>\n",
       "</div>"
      ],
      "text/plain": [
       "   SEASON ENDING_DATE             TOURNAMENT                COURSE  \\\n",
       "0    2022  2022-07-10  Genesis Scottish Open  The Renaissance Club   \n",
       "1    2022  2022-07-10  Genesis Scottish Open  The Renaissance Club   \n",
       "2    2022  2022-07-10  Genesis Scottish Open  The Renaissance Club   \n",
       "3    2022  2022-07-10  Genesis Scottish Open  The Renaissance Club   \n",
       "4    2022  2022-07-10  Genesis Scottish Open  The Renaissance Club   \n",
       "\n",
       "          PLAYER  POS  FINAL_POS  SGTTG_RANK  SGTTG  SGOTT_RANK  SGOTT  \\\n",
       "0     Aaron Wise   T5          5        25.0  0.952        31.0  0.387   \n",
       "1  Abraham Ancer  T14         14       122.0 -0.026        29.0  0.395   \n",
       "2     Adam Scott   T5          5        66.0  0.340        68.0  0.158   \n",
       "3     Alex Noren  T59         59       113.0  0.026       112.0 -0.019   \n",
       "4  Branden Grace  T68         68       144.0 -0.290        92.0  0.028   \n",
       "\n",
       "   SGAPR_RANK  SGAPR  SGATG_RANK  SGATG  SGP_RANK    SGP  BIRDIES_RANK  \\\n",
       "0        21.0  0.489        85.0  0.076      81.0  0.100          22.0   \n",
       "1       109.0  0.026       189.0 -0.447      62.0  0.165          61.0   \n",
       "2        53.0  0.256       136.0 -0.075      41.0  0.279          30.0   \n",
       "3       119.0  0.002        93.0  0.042      18.0  0.457         143.0   \n",
       "4       170.0 -0.318       110.0  0.001     188.0 -0.544         177.0   \n",
       "\n",
       "  BIRDIES  PAR_3_RANK  PAR_3  PAR_4_RANK  PAR_4  PAR_5_RANK  PAR_5  \\\n",
       "0   23.39         4.0   2.98        25.0   3.99        24.0   4.55   \n",
       "1   21.84        62.0   3.04        25.0   3.99        81.0   4.62   \n",
       "2   23.07       161.0   3.10        25.0   3.99        29.0   4.56   \n",
       "3   20.23        14.0   3.00        76.0   4.02        44.0   4.58   \n",
       "4   19.23       155.0   3.09       122.0   4.04       157.0   4.69   \n",
       "\n",
       "   TOTAL_DRIVING_RANK  TOTAL_DRIVING  DRIVING_DISTANCE_RANK  DRIVING_DISTANCE  \\\n",
       "0                44.0          154.0                   39.0             308.3   \n",
       "1                18.0          124.0                  120.0             297.1   \n",
       "2                70.0          178.0                   15.0             312.4   \n",
       "3               167.0          248.0                  100.0             299.8   \n",
       "4               142.0          225.0                  127.0             296.4   \n",
       "\n",
       "   DRIVING_ACCURACY_RANK DRIVING_ACCURACY  GIR_RANK    GIR  SCRAMBLING_RANK  \\\n",
       "0                  115.0            59.15      21.0  69.06             31.0   \n",
       "1                    4.0            70.54      77.0  66.86             64.0   \n",
       "2                  163.0            55.34      55.0  67.67            133.0   \n",
       "3                  148.0            56.22     117.0  65.71             12.0   \n",
       "4                   98.0            60.14     129.0  65.38             86.0   \n",
       "\n",
       "  SCRAMBLING  OWGR_RANK  OWGR  VEGAS_ODDS  CUT_PERCENTAGE  FEDEX_CUP_POINTS  \\\n",
       "0      62.63       37.0  2.69      1000.0            72.2            846.11   \n",
       "1      60.69       24.0  3.21      1000.0            68.8            338.30   \n",
       "2      57.76       30.0  2.86      1000.0            84.6            408.00   \n",
       "3      64.56       54.0  2.04        80.0            68.8            444.57   \n",
       "4      59.88      155.0  1.08       100.0            41.2            147.03   \n",
       "\n",
       "   form_density  CONSECUTIVE_CUTS  RECENT_FORM  adj_form  COURSE_HISTORY  \\\n",
       "0         47.01               0.0         42.7     14.50             NaN   \n",
       "1         21.14               1.0         50.0     17.65             NaN   \n",
       "2         31.38               2.0         41.5     15.73             NaN   \n",
       "3         27.79               0.0         47.6     16.80             NaN   \n",
       "4          8.65               0.0         69.6     24.08             NaN   \n",
       "\n",
       "   adj_ch  TOP_20  \n",
       "0     NaN       1  \n",
       "1     NaN       1  \n",
       "2     NaN       1  \n",
       "3     NaN       0  \n",
       "4     NaN       0  "
      ]
     },
     "execution_count": 11,
     "metadata": {},
     "output_type": "execute_result"
    }
   ],
   "source": [
    "# === VEGAS ODDS ===\n",
    "training_df[\"VEGAS_ODDS\"] = training_df[\"VEGAS_ODDS\"].fillna(1000).clip(upper=1000)\n",
    "\n",
    "# === OWGR and OWGR_RANK ===\n",
    "owgr_min = training_df[\"OWGR\"].min(skipna=True)\n",
    "training_df[\"OWGR\"] = training_df[\"OWGR\"].fillna(owgr_min)\n",
    "training_df[\"OWGR_RANK\"] = training_df[\"OWGR_RANK\"].fillna(1000).astype(float).clip(upper=1000)\n",
    "\n",
    "# === RECENT FORM and adj_form ===\n",
    "training_df[\"RECENT_FORM\"] = training_df[\"RECENT_FORM\"].fillna(90)\n",
    "if \"TOTAL_EVENTS_PLAYED\" in training_df.columns:\n",
    "    training_df[\"adj_form\"] = (\n",
    "        training_df[\"RECENT_FORM\"] / np.log1p(training_df[\"TOTAL_EVENTS_PLAYED\"])\n",
    "    ).round(2)\n",
    "\n",
    "# === FEDEX CUP POINTS ===\n",
    "training_df[\"FEDEX_CUP_POINTS\"] = training_df[\"FEDEX_CUP_POINTS\"].fillna(0)\n",
    "\n",
    "training_df.head(5)\n"
   ]
  },
  {
   "cell_type": "markdown",
   "id": "f58c9b4a",
   "metadata": {},
   "source": [
    "#### Average the NaNs\n",
    "At this point, the intentional offsetting of NaNs for poor players is over.  I don't want to penalize statistics or course history because you never know where they might land on the spectrum, so for these NaN values, we will take the mean."
   ]
  },
  {
   "cell_type": "code",
   "execution_count": 22,
   "id": "1172b59c",
   "metadata": {},
   "outputs": [
    {
     "data": {
      "text/html": [
       "<div>\n",
       "<style scoped>\n",
       "    .dataframe tbody tr th:only-of-type {\n",
       "        vertical-align: middle;\n",
       "    }\n",
       "\n",
       "    .dataframe tbody tr th {\n",
       "        vertical-align: top;\n",
       "    }\n",
       "\n",
       "    .dataframe thead th {\n",
       "        text-align: right;\n",
       "    }\n",
       "</style>\n",
       "<table border=\"1\" class=\"dataframe\">\n",
       "  <thead>\n",
       "    <tr style=\"text-align: right;\">\n",
       "      <th></th>\n",
       "      <th>SEASON</th>\n",
       "      <th>ENDING_DATE</th>\n",
       "      <th>TOURNAMENT</th>\n",
       "      <th>COURSE</th>\n",
       "      <th>PLAYER</th>\n",
       "      <th>POS</th>\n",
       "      <th>FINAL_POS</th>\n",
       "      <th>SGTTG_RANK</th>\n",
       "      <th>SGTTG</th>\n",
       "      <th>SGOTT_RANK</th>\n",
       "      <th>SGOTT</th>\n",
       "      <th>SGAPR_RANK</th>\n",
       "      <th>SGAPR</th>\n",
       "      <th>SGATG_RANK</th>\n",
       "      <th>SGATG</th>\n",
       "      <th>SGP_RANK</th>\n",
       "      <th>SGP</th>\n",
       "      <th>BIRDIES_RANK</th>\n",
       "      <th>BIRDIES</th>\n",
       "      <th>PAR_3_RANK</th>\n",
       "      <th>PAR_3</th>\n",
       "      <th>PAR_4_RANK</th>\n",
       "      <th>PAR_4</th>\n",
       "      <th>PAR_5_RANK</th>\n",
       "      <th>PAR_5</th>\n",
       "      <th>TOTAL_DRIVING_RANK</th>\n",
       "      <th>TOTAL_DRIVING</th>\n",
       "      <th>DRIVING_DISTANCE_RANK</th>\n",
       "      <th>DRIVING_DISTANCE</th>\n",
       "      <th>DRIVING_ACCURACY_RANK</th>\n",
       "      <th>DRIVING_ACCURACY</th>\n",
       "      <th>GIR_RANK</th>\n",
       "      <th>GIR</th>\n",
       "      <th>SCRAMBLING_RANK</th>\n",
       "      <th>SCRAMBLING</th>\n",
       "      <th>OWGR_RANK</th>\n",
       "      <th>OWGR</th>\n",
       "      <th>VEGAS_ODDS</th>\n",
       "      <th>CUT_PERCENTAGE</th>\n",
       "      <th>FEDEX_CUP_POINTS</th>\n",
       "      <th>form_density</th>\n",
       "      <th>CONSECUTIVE_CUTS</th>\n",
       "      <th>RECENT_FORM</th>\n",
       "      <th>adj_form</th>\n",
       "      <th>COURSE_HISTORY</th>\n",
       "      <th>adj_ch</th>\n",
       "      <th>TOP_20</th>\n",
       "    </tr>\n",
       "  </thead>\n",
       "  <tbody>\n",
       "    <tr>\n",
       "      <th>0</th>\n",
       "      <td>2022</td>\n",
       "      <td>2022-07-10</td>\n",
       "      <td>Genesis Scottish Open</td>\n",
       "      <td>The Renaissance Club</td>\n",
       "      <td>Rory McIlroy</td>\n",
       "      <td>1</td>\n",
       "      <td>1</td>\n",
       "      <td>2.0</td>\n",
       "      <td>1.619</td>\n",
       "      <td>3.0</td>\n",
       "      <td>0.771</td>\n",
       "      <td>14.0</td>\n",
       "      <td>0.626</td>\n",
       "      <td>43.0</td>\n",
       "      <td>0.222</td>\n",
       "      <td>16.0</td>\n",
       "      <td>0.495</td>\n",
       "      <td>4.0</td>\n",
       "      <td>26.11</td>\n",
       "      <td>51.0</td>\n",
       "      <td>3.03</td>\n",
       "      <td>3.0</td>\n",
       "      <td>3.95</td>\n",
       "      <td>3.0</td>\n",
       "      <td>4.44</td>\n",
       "      <td>23.0</td>\n",
       "      <td>129.0</td>\n",
       "      <td>2.0</td>\n",
       "      <td>321.3</td>\n",
       "      <td>127.0</td>\n",
       "      <td>58.06</td>\n",
       "      <td>12.0</td>\n",
       "      <td>69.91</td>\n",
       "      <td>30.0</td>\n",
       "      <td>62.77</td>\n",
       "      <td>2.0</td>\n",
       "      <td>9.07</td>\n",
       "      <td>383.960756</td>\n",
       "      <td>91.7</td>\n",
       "      <td>1893.88</td>\n",
       "      <td>157.82</td>\n",
       "      <td>7.0</td>\n",
       "      <td>17.1</td>\n",
       "      <td>6.67</td>\n",
       "      <td>51.160448</td>\n",
       "      <td>70.043209</td>\n",
       "      <td>1</td>\n",
       "    </tr>\n",
       "    <tr>\n",
       "      <th>1</th>\n",
       "      <td>2022</td>\n",
       "      <td>2022-07-10</td>\n",
       "      <td>Genesis Scottish Open</td>\n",
       "      <td>The Renaissance Club</td>\n",
       "      <td>Collin Morikawa</td>\n",
       "      <td>2</td>\n",
       "      <td>2</td>\n",
       "      <td>17.0</td>\n",
       "      <td>1.066</td>\n",
       "      <td>36.0</td>\n",
       "      <td>0.361</td>\n",
       "      <td>3.0</td>\n",
       "      <td>0.854</td>\n",
       "      <td>152.0</td>\n",
       "      <td>-0.149</td>\n",
       "      <td>131.0</td>\n",
       "      <td>-0.088</td>\n",
       "      <td>31.0</td>\n",
       "      <td>23.06</td>\n",
       "      <td>31.0</td>\n",
       "      <td>3.02</td>\n",
       "      <td>17.0</td>\n",
       "      <td>3.98</td>\n",
       "      <td>53.0</td>\n",
       "      <td>4.59</td>\n",
       "      <td>9.0</td>\n",
       "      <td>112.0</td>\n",
       "      <td>83.0</td>\n",
       "      <td>301.8</td>\n",
       "      <td>29.0</td>\n",
       "      <td>65.27</td>\n",
       "      <td>30.0</td>\n",
       "      <td>68.61</td>\n",
       "      <td>94.0</td>\n",
       "      <td>59.59</td>\n",
       "      <td>9.0</td>\n",
       "      <td>6.33</td>\n",
       "      <td>25.000000</td>\n",
       "      <td>83.3</td>\n",
       "      <td>1015.59</td>\n",
       "      <td>84.63</td>\n",
       "      <td>1.0</td>\n",
       "      <td>32.9</td>\n",
       "      <td>12.83</td>\n",
       "      <td>51.160448</td>\n",
       "      <td>70.043209</td>\n",
       "      <td>1</td>\n",
       "    </tr>\n",
       "    <tr>\n",
       "      <th>2</th>\n",
       "      <td>2022</td>\n",
       "      <td>2022-07-10</td>\n",
       "      <td>Genesis Scottish Open</td>\n",
       "      <td>The Renaissance Club</td>\n",
       "      <td>Rickie Fowler</td>\n",
       "      <td>T3</td>\n",
       "      <td>3</td>\n",
       "      <td>101.0</td>\n",
       "      <td>0.092</td>\n",
       "      <td>114.0</td>\n",
       "      <td>-0.022</td>\n",
       "      <td>150.0</td>\n",
       "      <td>-0.161</td>\n",
       "      <td>31.0</td>\n",
       "      <td>0.274</td>\n",
       "      <td>161.0</td>\n",
       "      <td>-0.253</td>\n",
       "      <td>165.0</td>\n",
       "      <td>19.64</td>\n",
       "      <td>83.0</td>\n",
       "      <td>3.05</td>\n",
       "      <td>183.0</td>\n",
       "      <td>4.09</td>\n",
       "      <td>106.0</td>\n",
       "      <td>4.64</td>\n",
       "      <td>48.0</td>\n",
       "      <td>158.0</td>\n",
       "      <td>27.0</td>\n",
       "      <td>309.4</td>\n",
       "      <td>131.0</td>\n",
       "      <td>57.91</td>\n",
       "      <td>186.0</td>\n",
       "      <td>62.21</td>\n",
       "      <td>152.0</td>\n",
       "      <td>56.94</td>\n",
       "      <td>185.0</td>\n",
       "      <td>0.96</td>\n",
       "      <td>125.000000</td>\n",
       "      <td>58.8</td>\n",
       "      <td>300.54</td>\n",
       "      <td>17.68</td>\n",
       "      <td>0.0</td>\n",
       "      <td>60.6</td>\n",
       "      <td>20.97</td>\n",
       "      <td>51.160448</td>\n",
       "      <td>70.043209</td>\n",
       "      <td>1</td>\n",
       "    </tr>\n",
       "    <tr>\n",
       "      <th>3</th>\n",
       "      <td>2022</td>\n",
       "      <td>2022-07-10</td>\n",
       "      <td>Genesis Scottish Open</td>\n",
       "      <td>The Renaissance Club</td>\n",
       "      <td>Keith Mitchell</td>\n",
       "      <td>T3</td>\n",
       "      <td>3</td>\n",
       "      <td>29.0</td>\n",
       "      <td>0.865</td>\n",
       "      <td>4.0</td>\n",
       "      <td>0.761</td>\n",
       "      <td>111.0</td>\n",
       "      <td>0.024</td>\n",
       "      <td>83.0</td>\n",
       "      <td>0.079</td>\n",
       "      <td>55.0</td>\n",
       "      <td>0.209</td>\n",
       "      <td>31.0</td>\n",
       "      <td>23.06</td>\n",
       "      <td>18.0</td>\n",
       "      <td>3.01</td>\n",
       "      <td>38.0</td>\n",
       "      <td>4.00</td>\n",
       "      <td>12.0</td>\n",
       "      <td>4.52</td>\n",
       "      <td>2.0</td>\n",
       "      <td>91.0</td>\n",
       "      <td>18.0</td>\n",
       "      <td>311.8</td>\n",
       "      <td>73.0</td>\n",
       "      <td>61.76</td>\n",
       "      <td>57.0</td>\n",
       "      <td>67.64</td>\n",
       "      <td>20.0</td>\n",
       "      <td>63.67</td>\n",
       "      <td>59.0</td>\n",
       "      <td>1.97</td>\n",
       "      <td>80.000000</td>\n",
       "      <td>83.3</td>\n",
       "      <td>833.39</td>\n",
       "      <td>46.30</td>\n",
       "      <td>5.0</td>\n",
       "      <td>35.3</td>\n",
       "      <td>11.99</td>\n",
       "      <td>51.160448</td>\n",
       "      <td>70.043209</td>\n",
       "      <td>1</td>\n",
       "    </tr>\n",
       "    <tr>\n",
       "      <th>4</th>\n",
       "      <td>2022</td>\n",
       "      <td>2022-07-10</td>\n",
       "      <td>Genesis Scottish Open</td>\n",
       "      <td>The Renaissance Club</td>\n",
       "      <td>Sam Burns</td>\n",
       "      <td>T5</td>\n",
       "      <td>5</td>\n",
       "      <td>32.0</td>\n",
       "      <td>0.838</td>\n",
       "      <td>86.0</td>\n",
       "      <td>0.067</td>\n",
       "      <td>18.0</td>\n",
       "      <td>0.554</td>\n",
       "      <td>45.0</td>\n",
       "      <td>0.217</td>\n",
       "      <td>10.0</td>\n",
       "      <td>0.553</td>\n",
       "      <td>10.0</td>\n",
       "      <td>24.44</td>\n",
       "      <td>31.0</td>\n",
       "      <td>3.02</td>\n",
       "      <td>17.0</td>\n",
       "      <td>3.98</td>\n",
       "      <td>7.0</td>\n",
       "      <td>4.50</td>\n",
       "      <td>83.0</td>\n",
       "      <td>186.0</td>\n",
       "      <td>24.0</td>\n",
       "      <td>309.6</td>\n",
       "      <td>162.0</td>\n",
       "      <td>55.38</td>\n",
       "      <td>26.0</td>\n",
       "      <td>68.68</td>\n",
       "      <td>92.0</td>\n",
       "      <td>59.65</td>\n",
       "      <td>12.0</td>\n",
       "      <td>5.67</td>\n",
       "      <td>25.000000</td>\n",
       "      <td>64.7</td>\n",
       "      <td>1595.19</td>\n",
       "      <td>93.83</td>\n",
       "      <td>0.0</td>\n",
       "      <td>39.6</td>\n",
       "      <td>13.70</td>\n",
       "      <td>51.160448</td>\n",
       "      <td>70.043209</td>\n",
       "      <td>1</td>\n",
       "    </tr>\n",
       "  </tbody>\n",
       "</table>\n",
       "</div>"
      ],
      "text/plain": [
       "   SEASON ENDING_DATE             TOURNAMENT                COURSE  \\\n",
       "0    2022  2022-07-10  Genesis Scottish Open  The Renaissance Club   \n",
       "1    2022  2022-07-10  Genesis Scottish Open  The Renaissance Club   \n",
       "2    2022  2022-07-10  Genesis Scottish Open  The Renaissance Club   \n",
       "3    2022  2022-07-10  Genesis Scottish Open  The Renaissance Club   \n",
       "4    2022  2022-07-10  Genesis Scottish Open  The Renaissance Club   \n",
       "\n",
       "            PLAYER POS  FINAL_POS  SGTTG_RANK  SGTTG  SGOTT_RANK  SGOTT  \\\n",
       "0     Rory McIlroy   1          1         2.0  1.619         3.0  0.771   \n",
       "1  Collin Morikawa   2          2        17.0  1.066        36.0  0.361   \n",
       "2    Rickie Fowler  T3          3       101.0  0.092       114.0 -0.022   \n",
       "3   Keith Mitchell  T3          3        29.0  0.865         4.0  0.761   \n",
       "4        Sam Burns  T5          5        32.0  0.838        86.0  0.067   \n",
       "\n",
       "   SGAPR_RANK  SGAPR  SGATG_RANK  SGATG  SGP_RANK    SGP  BIRDIES_RANK  \\\n",
       "0        14.0  0.626        43.0  0.222      16.0  0.495           4.0   \n",
       "1         3.0  0.854       152.0 -0.149     131.0 -0.088          31.0   \n",
       "2       150.0 -0.161        31.0  0.274     161.0 -0.253         165.0   \n",
       "3       111.0  0.024        83.0  0.079      55.0  0.209          31.0   \n",
       "4        18.0  0.554        45.0  0.217      10.0  0.553          10.0   \n",
       "\n",
       "   BIRDIES  PAR_3_RANK  PAR_3  PAR_4_RANK  PAR_4  PAR_5_RANK  PAR_5  \\\n",
       "0    26.11        51.0   3.03         3.0   3.95         3.0   4.44   \n",
       "1    23.06        31.0   3.02        17.0   3.98        53.0   4.59   \n",
       "2    19.64        83.0   3.05       183.0   4.09       106.0   4.64   \n",
       "3    23.06        18.0   3.01        38.0   4.00        12.0   4.52   \n",
       "4    24.44        31.0   3.02        17.0   3.98         7.0   4.50   \n",
       "\n",
       "   TOTAL_DRIVING_RANK  TOTAL_DRIVING  DRIVING_DISTANCE_RANK  DRIVING_DISTANCE  \\\n",
       "0                23.0          129.0                    2.0             321.3   \n",
       "1                 9.0          112.0                   83.0             301.8   \n",
       "2                48.0          158.0                   27.0             309.4   \n",
       "3                 2.0           91.0                   18.0             311.8   \n",
       "4                83.0          186.0                   24.0             309.6   \n",
       "\n",
       "   DRIVING_ACCURACY_RANK  DRIVING_ACCURACY  GIR_RANK    GIR  SCRAMBLING_RANK  \\\n",
       "0                  127.0             58.06      12.0  69.91             30.0   \n",
       "1                   29.0             65.27      30.0  68.61             94.0   \n",
       "2                  131.0             57.91     186.0  62.21            152.0   \n",
       "3                   73.0             61.76      57.0  67.64             20.0   \n",
       "4                  162.0             55.38      26.0  68.68             92.0   \n",
       "\n",
       "   SCRAMBLING  OWGR_RANK  OWGR  VEGAS_ODDS  CUT_PERCENTAGE  FEDEX_CUP_POINTS  \\\n",
       "0       62.77        2.0  9.07  383.960756            91.7           1893.88   \n",
       "1       59.59        9.0  6.33   25.000000            83.3           1015.59   \n",
       "2       56.94      185.0  0.96  125.000000            58.8            300.54   \n",
       "3       63.67       59.0  1.97   80.000000            83.3            833.39   \n",
       "4       59.65       12.0  5.67   25.000000            64.7           1595.19   \n",
       "\n",
       "   form_density  CONSECUTIVE_CUTS  RECENT_FORM  adj_form  COURSE_HISTORY  \\\n",
       "0        157.82               7.0         17.1      6.67       51.160448   \n",
       "1         84.63               1.0         32.9     12.83       51.160448   \n",
       "2         17.68               0.0         60.6     20.97       51.160448   \n",
       "3         46.30               5.0         35.3     11.99       51.160448   \n",
       "4         93.83               0.0         39.6     13.70       51.160448   \n",
       "\n",
       "      adj_ch  TOP_20  \n",
       "0  70.043209       1  \n",
       "1  70.043209       1  \n",
       "2  70.043209       1  \n",
       "3  70.043209       1  \n",
       "4  70.043209       1  "
      ]
     },
     "execution_count": 22,
     "metadata": {},
     "output_type": "execute_result"
    }
   ],
   "source": [
    "# === Clean percentage stats stored as strings like '62.5%' ===\n",
    "percent_stats = [\"SCRAMBLING\", \"DRIVING_ACCURACY\", \"BIRDIES\", \"GIR\"]\n",
    "\n",
    "for col in percent_stats:\n",
    "    if col in training_df.columns:\n",
    "        training_df[col] = (\n",
    "            training_df[col]\n",
    "            .astype(str)\n",
    "            .str.replace('%', '', regex=False)\n",
    "            .replace(['None', 'nan', 'NaN', '--', 'DNP', ''], np.nan)\n",
    "            .astype(float)\n",
    "        )\n",
    "\n",
    "# Select only the numeric columns\n",
    "numeric_columns = training_df.select_dtypes(include=['float64', 'int64'])\n",
    "\n",
    "# Fill NaN values with the mean of each column\n",
    "numeric_columns = numeric_columns.fillna(numeric_columns.mean())\n",
    "\n",
    "# Update the original dataframe with the filled numeric columns\n",
    "training_df.update(numeric_columns)\n",
    "\n",
    "training_df.head()"
   ]
  },
  {
   "cell_type": "code",
   "execution_count": 23,
   "id": "bb294b3c",
   "metadata": {},
   "outputs": [],
   "source": [
    "# Check for NaN values\n",
    "assert training_df.isna().sum().sum() == 0, \"🚨 Still missing values!\""
   ]
  },
  {
   "cell_type": "code",
   "execution_count": 24,
   "id": "5d68c5dc",
   "metadata": {},
   "outputs": [
    {
     "data": {
      "text/plain": [
       "SEASON         0\n",
       "ENDING_DATE    0\n",
       "TOURNAMENT     0\n",
       "COURSE         0\n",
       "PLAYER         0\n",
       "POS            0\n",
       "FINAL_POS      0\n",
       "SGTTG_RANK     0\n",
       "SGTTG          0\n",
       "SGOTT_RANK     0\n",
       "dtype: int64"
      ]
     },
     "execution_count": 24,
     "metadata": {},
     "output_type": "execute_result"
    }
   ],
   "source": [
    "# Inspect which columns have NaN values\n",
    "training_df.isna().sum().sort_values(ascending=False).head(10)\n"
   ]
  },
  {
   "cell_type": "markdown",
   "id": "1214b374",
   "metadata": {},
   "source": [
    "### Check Features for Outliers and General Health (Histograms)\n",
    "Now that all the data is cleaned, let's look at the distribution graphs."
   ]
  },
  {
   "cell_type": "code",
   "execution_count": 25,
   "id": "c3ac2331",
   "metadata": {},
   "outputs": [
    {
     "data": {
      "application/vnd.plotly.v1+json": {
       "config": {
        "plotlyServerURL": "https://plot.ly"
       },
       "data": [
        {
         "histnorm": "density",
         "marker": {
          "color": "#636EFA"
         },
         "nbinsx": 5,
         "opacity": 0.8,
         "type": "histogram",
         "x": {
          "bdata": "5gfmB+YH5gfmB+YH5gfmB+YH5gfmB+YH5gfmB+YH5gfmB+YH5gfmB+YH5gfmB+YH5gfmB+YH5gfmB+YH5gfmB+YH5gfmB+YH5gfmB+YH5gfmB+YH5gfmB+YH5gfmB+YH5gfmB+YH5gfmB+YH5gfmB+YH5gfmB+YH5gfmB+YH5gfmB+YH5gfmB+YH5gfmB+YH5gfmB+YH5gfmB+YH5wfnB+cH5wfnB+cH5wfnB+cH5wfnB+cH5wfnB+cH5wfnB+cH5wfnB+cH5wfnB+cH5wfnB+cH5wfnB+cH5wfnB+cH5wfnB+cH5wfnB+cH5wfnB+cH5wfnB+cH5wfnB+cH5wfnB+cH5wfnB+cH5wfnB+cH5wfnB+cH5wfnB+cH5wfnB+cH5wfnB+cH5wfnB+cH5wfnB+cH5wfnB+cH5wfnB+cH5wfnB+cH5wfnB+cH5wfnB+cH5wfnB+cH5wfnB+cH5wfnB+cH5wfnB+cH5wfnB+cH5wfnB+cH5wfnB+cH5wfnB+cH5wfnB+cH5wfnB+cH5wfnB+cH5wfnB+cH5wfnB+cH5wfnB+cH5wfnB+cH5wfnB+cH5wfnB+cH5wfnB+cH5wfnB+cH5wfnB+cH5wfnB+cH5wfnB+cH5wfoB+gH6AfoB+gH6AfoB+gH6AfoB+gH6AfoB+gH6AfoB+gH6AfoB+gH6AfoB+gH6AfoB+gH6AfoB+gH6AfoB+gH6AfoB+gH6AfoB+gH6AfoB+gH6AfoB+gH6AfoB+gH6AfoB+gH6AfoB+gH6AfoB+gH6AfoB+gH6AfoB+gH6AfoB+gH6AfoB+gH6AfoB+gH6AfoB+gH6AfoB+gH6AfoB+gH6AfoB+gH6AfoB+gH6AfoB+gH6AfoB+gH6AfoB+gH6AfoB+gH6AfoB+gH6AfoB+gH6AfoB+gH6AfoB+gH6AfoB+gH6AfoB+gH6AfoB+gH6AfoB+gH6AfoB+gH6AfoB+gH6AfoB+gH6AfoB+gH6AfoB+gH6AfoB+gH6AfoB+gH6AfoB+gH6AfoB+gH6AfoB+gH6AfoB+gH6AfoBw==",
          "dtype": "i2"
         },
         "xaxis": "x",
         "yaxis": "y"
        },
        {
         "histnorm": "density",
         "marker": {
          "color": "#636EFA"
         },
         "nbinsx": 50,
         "opacity": 0.8,
         "type": "histogram",
         "x": {
          "bdata": "AQIDAwUFBQUJCQkJCQ4ODg4SEhISEhISGRkZGRkZGSAgICAgICYmJiYmJiYtLS0tMTExMTE2NjY5OTs7Ozs/QEBAQERERERISEhLTE1aAQIDAwMGBgYGBgsMDAwMDAwMExMTExMTGRkZGRkZGRkZGSMjIyMjIyMqKioqKioqKioqKio2NjY2NjY8PDw8PEFBQURERERISUpLTE1aWlpaWlpaWlpaWlpaWlpaWlpaWlpaWlpaWlpaWlpaWlpaWlpaWlpaWlpaWlpaWlpaWlpaWlpaWlpaWlpaWlpaWlpaWlpaWlpaWlpaWlpaWgECAwQEBAQEBAoKCgoKDw8PDw8PFRUVFRUaGhoaGhoaGiIiIiIiJycnJycnJy4uLi4uLi4uLi4uOTk5OT0+Pj5BQUNDQ0ZGRklKWlpaWlpaWlpaWlpaWlpaWlpaWlpaWlpaWlpaWlpaWlpaWlpaWlpaWlpaWlpaWlpaWlpaWlpaWlpaWlpaWlpaWlpaWlpaWlpaWlpaWlpaWlpaWlo=",
          "dtype": "i1"
         },
         "xaxis": "x2",
         "yaxis": "y2"
        },
        {
         "histnorm": "density",
         "marker": {
          "color": "#636EFA"
         },
         "nbinsx": 50,
         "opacity": 0.8,
         "type": "histogram",
         "x": {
          "bdata": "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",
          "dtype": "f8"
         },
         "xaxis": "x3",
         "yaxis": "y3"
        },
        {
         "histnorm": "density",
         "marker": {
          "color": "#636EFA"
         },
         "nbinsx": 50,
         "opacity": 0.8,
         "type": "histogram",
         "x": {
          "bdata": "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",
          "dtype": "f8"
         },
         "xaxis": "x4",
         "yaxis": "y4"
        },
        {
         "histnorm": "density",
         "marker": {
          "color": "#636EFA"
         },
         "nbinsx": 50,
         "opacity": 0.8,
         "type": "histogram",
         "x": {
          "bdata": "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",
          "dtype": "f8"
         },
         "xaxis": "x5",
         "yaxis": "y5"
        },
        {
         "histnorm": "density",
         "marker": {
          "color": "#636EFA"
         },
         "nbinsx": 50,
         "opacity": 0.8,
         "type": "histogram",
         "x": {
          "bdata": "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",
          "dtype": "f8"
         },
         "xaxis": "x6",
         "yaxis": "y6"
        },
        {
         "histnorm": "density",
         "marker": {
          "color": "#636EFA"
         },
         "nbinsx": 50,
         "opacity": 0.8,
         "type": "histogram",
         "x": {
          "bdata": "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",
          "dtype": "f8"
         },
         "xaxis": "x7",
         "yaxis": "y7"
        },
        {
         "histnorm": "density",
         "marker": {
          "color": "#636EFA"
         },
         "nbinsx": 50,
         "opacity": 0.8,
         "type": "histogram",
         "x": {
          "bdata": "1XjpJjEI5D+HFtnO91PrP8/3U+Olm8S/+n5qvHSTmD/ufD81XrrhP0w3iUFg5eQ//Knx0k1i0D+yne+nxkvfPzMzMzMzM+O/g8DKoUW20z956SYxCKzoPxsv3SQGgaW/JzEIrBxa1D85tMh2vp+aP/yp8dJNYtA/5/up8dJNwj/y0k1iEFjZP2q8dJMYBKY/MQisHFpk4z8tsp3vp8bLvzvfT42XbuY/ObTIdr6f2j8Sg8DKoUXmPy/dJAaBlcM/xf1zD3MqyD/F/XMPcyrIPzVeukkMAu8/ke18PzVeyr8730+Nl26Cvz81XrpJDMK/5/up8dJN2j8rhxbZzvfbP3Noke18P+U/CKwcWmQ737/F/XMPcyrIP9V46SYxCNw/HVpkO99P3T9eukkMAivHPzEIrBxaZLs//Knx0k1isL9zaJHtfD/FP/yp8dJNYnC/xf1zD3MqyD9oke18PzXqP0oMAiuHFuU/WmQ730+N1z/F/XMPcyrIP3e+nxov3eA/ObTIdr6fir/F/XMPcyrIP8l2vp8aL9U/xf1zD3MqyD/ZzvdT46WrPxfZzvdT48W/ObTIdr6fmj/ufD81XrrlP8X9cw9zKsg/pHA9CtejsD/F/XMPcyrIP42XbhKDwOY//Knx0k1iYD83iUFg5dDSP8X9cw9zKsg/nu+nxks30T/wp8ZLN4nBv90kBoGVQ8s/xf1zD3MqyD8nMQisHFrUvzEIrBxaZLu/xf1zD3MqyD99PzVeuknUvw4tsp3vp8Y/+n5qvHST2D/F/XMPcyrIP8X9cw9zKsg/O99PjZdusj/F/XMPcyrIP8X9cw9zKsg/30+Nl24S5z/F/XMPcyrIP7TIdr6fGvM/+n5qvHSTqD8IrBxaZDuvv90kBoGVQ9M/N4lBYOXQ2j/2KFyPwvXkP8UgsHJokd0/CtejcD0K1z/F/XMPcyrIP2ZmZmZmZt4/uB6F61G4nr8bL90kBoHdPwrXo3A9Csc/xf1zD3MqyD/F/XMPcyrIP8X9cw9zKsg/ZDvfT42X5j+amZmZmZm5v6abxCCwcuA/rkfhehSu1z85tMh2vp/Sv8X9cw9zKsg/hetRuB6F4z+BlUOLbOfbP/yp8dJNYsA/N4lBYOXQwj+DwMqhRbbnP8X9cw9zKsg/xf1zD3MqyD/F/XMPcyrIP8X9cw9zKsg/xf1zD3MqyD+0yHa+nxrXP1CNl24Sg9A/xf1zD3MqyD/F/XMPcyrIP8X9cw9zKsg/xf1zD3MqyD/F/XMPcyrIPylcj8L1KOw/rkfhehSu5z8QWDm0yHbeP5HtfD81Xrq/arx0kxgExj8ZBFYOLbLVP8X9cw9zKsg/xf1zD3MqyD/F/XMPcyrIP8X9cw9zKsg/xf1zD3MqyD/F/XMPcyrIPz0K16NwPdI/xf1zD3MqyD/F/XMPcyrIP8X9cw9zKsg/xf1zD3MqyD/F/XMPcyrIP166SQwCK9c/SOF6FK5H4T/b+X5qvHTTv8X9cw9zKsg/WDm0yHa+378IrBxaZDu/v/yp8dJNYmC/xf1zD3MqyD/F/XMPcyrIP8X9cw9zKsg/xf1zD3MqyD956SYxCKysPzEIrBxaZLs/mpmZmZmZmb/F/XMPcyrIP8X9cw9zKsg/xf1zD3MqyD/F/XMPcyrIPz81XrpJDOI/bxKDwMqhxb+4HoXrUbjOvzeJQWDl0NK/+n5qvHST2D+HFtnO91PDP8X9cw9zKsg/xf1zD3MqyD/F/XMPcyrIP8X9cw9zKsg/xf1zD3MqyD/F/XMPcyrIP8X9cw9zKsg/xf1zD3MqyD/F/XMPcyrIP8X9cw9zKsg/xf1zD3MqyD/F/XMPcyrIP8X9cw9zKsg/7FG4HoXr4T/F/XMPcyrIP2ZmZmZmZsa/xf1zD3MqyD/Xo3A9Ctfbv1pkO99Pjdc/eekmMQiszD9oke18PzWuv2ZmZmZmZsY/UrgehetRuD++nxov3STGP4lBYOXQIqu/exSuR+F6xD+e76fGSzfZP8X9cw9zKsg/xf1zD3MqyD/F/XMPcyrIP8X9cw9zKsg/xf1zD3MqyD/F/XMPcyrIP8X9cw9zKsg/xf1zD3MqyD/F/XMPcyrIP8X9cw9zKsg/xf1zD3MqyD/F/XMPcyrIP8X9cw9zKsg/Rrbz/dR40T9U46WbxCCwv0oMAiuHFsk/BFYOLbKdzz/F/XMPcyrIP+Olm8QgsLI/bxKDwMqh3T9QjZduEoPAv2q8dJMYBOK/8tJNYhBYuT83iUFg5dDaP8X9cw9zKsg/j8L1KFyPwj9iEFg5tMi2vw4tsp3vp8Y/xf1zD3MqyD/F/XMPcyrIP1pkO99Pjcc/wcqhRbbzvT/F/XMPcyrIP8X9cw9zKsg/5/up8dJNwr/F/XMPcyrIP8X9cw9zKsg/xf1zD3MqyD/F/XMPcyrIP8X9cw9zKsg/xf1zD3MqyD/dJAaBlUPLv8X9cw9zKsg/c2iR7Xw/5b8OLbKd76fWv8X9cw9zKsg/xf1zD3MqyD/pJjEIrByqv8l2vp8aL70/xf1zD3MqyD9vEoPAyqHlP+kmMQisHNI/kxgEVg4t0j+kcD0K16OwP6RwPQrXo9A/zczMzMzM3D/n+6nx0k3SPzMzMzMzM7M/xf1zD3MqyD+iRbbz/dToPz0K16NwPdI/xf1zD3MqyD9mZmZmZmbmP8X9cw9zKsg/xf1zD3MqyD/F/XMPcyrIP6JFtvP91NA/y6FFtvP91D+cxCCwcmihv8X9cw9zKsg/xf1zD3MqyD/F/XMPcyrIP8X9cw9zKsg/xf1zD3MqyD/F/XMPcyrIP8X9cw9zKsg/QmDl0CLbub9KDAIrhxbJv7TIdr6fGt8/f2q8dJMYxD/F/XMPcyrIP9V46SYxCNS/ZmZmZmZm4j/Jdr6fGi+tv/LSTWIQWLk/YOXQItv51j+6SQwCK4eWPwisHFpkO7+/xf1zD3MqyD8xCKwcWmTTP8X9cw9zKsg/UrgehetRuD/F/XMPcyrIPx1aZDvfT90/xf1zD3MqyD8IrBxaZDvXP4XrUbgehcu/IbByaJHt1D/wp8ZLN4nBP9ejcD0K18M/i2zn+6nx0r/F/XMPcyrIP8X9cw9zKsg/KVyPwvUozD+oxks3iUHQP8X9cw9zKsg/GQRWDi2ynT/F/XMPcyrIP8X9cw9zKsg/xf1zD3MqyD8dWmQ730/hP/p+arx0k9A/xf1zD3MqyD/dJAaBlUPTP0Jg5dAi28k/xf1zD3MqyD/TTWIQWDnEPx+F61G4Ht0/xf1zD3MqyD+oxks3iUHQv1g5tMh2vt+/kxgEVg4twj9U46WbxCDoP8X9cw9zKsg/RIts5/up2T+R7Xw/NV7SP30/NV66Seg/7FG4HoXrob/F/XMPcyrIP8X9cw9zKsg/xf1zD3MqyD/F/XMPcyrIP8X9cw9zKsg/xf1zD3MqyD/F/XMPcyrIP7ByaJHtfN8/XrpJDAIrxz/F/XMPcyrIP8X9cw9zKsg/xf1zD3MqyD/F/XMPcyrIP8X9cw9zKsg/xf1zD3MqyD/F/XMPcyrIP8X9cw9zKsg/xf1zD3MqyD/F/XMPcyrIP8X9cw9zKsg/EoPAyqFFtr/sUbgehevhP+kmMQisHMq/xf1zD3MqyD/2KFyPwvXIP3npJjEIrHw/7FG4HoXroT/F/XMPcyrIP8X9cw9zKsg/9ihcj8L10D/F/XMPcyrIP5zEILByaNE/xf1zD3MqyD/F/XMPcyrIP8X9cw9zKsg/xf1zD3MqyD/F/XMPcyrIP8X9cw9zKsg/xf1zD3MqyD/F/XMPcyrIP8X9cw9zKsg/xf1zD3MqyD/F/XMPcyrIPylcj8L1KLy/xf1zD3MqyD+sHFpkO9/Xv8X9cw9zKsg/tMh2vp8a5z/F/XMPcyrIP9v5fmq8dNu/mpmZmZmZ0T+oxks3iUHQP8X9cw9zKsg/CtejcD0K1z/F/XMPcyrIP8X9cw9zKsg/PzVeukkM0j/F/XMPcyrIP8X9cw9zKsg/H4XrUbge1b8xCKwcWmTbv1pkO99Pjce/xf1zD3MqyD+sHFpkO9/PP8X9cw9zKsg/xf1zD3MqyD/LoUW28/3EPzvfT42XboK/xf1zD3MqyD/F/XMPcyrIP8X9cw9zKsg/xf1zD3MqyD/F/XMPcyrIP7x0kxgEVs4/1XjpJjEI1L9MN4lBYOXQvw==",
          "dtype": "f8"
         },
         "xaxis": "x8",
         "yaxis": "y8"
        },
        {
         "histnorm": "density",
         "marker": {
          "color": "#636EFA"
         },
         "nbinsx": 50,
         "opacity": 0.8,
         "type": "histogram",
         "x": {
          "bdata": "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",
          "dtype": "f8"
         },
         "xaxis": "x9",
         "yaxis": "y9"
        },
        {
         "histnorm": "density",
         "marker": {
          "color": "#636EFA"
         },
         "nbinsx": 50,
         "opacity": 0.8,
         "type": "histogram",
         "x": {
          "bdata": "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",
          "dtype": "f8"
         },
         "xaxis": "x10",
         "yaxis": "y10"
        },
        {
         "histnorm": "density",
         "marker": {
          "color": "#636EFA"
         },
         "nbinsx": 50,
         "opacity": 0.8,
         "type": "histogram",
         "x": {
          "bdata": "AAAAAAAAMEAAAAAAAGBgQAAAAAAAIGRAAAAAAACAS0AAAAAAAAAkQAAAAAAAAFlAAAAAAACAREAAAAAAAEBUQAAAAAAAgEpAAAAAAACAQkAAAAAAAAAgQAAAAAAAQFtAAAAAAAAAV0AAAAAAAABPQAAAAAAAAF1AAAAAAABAV0AAAAAAAMBjQAAAAAAAAFxAAAAAAAAAOUAAAAAAAAAxQAAAAAAAAEBAAAAAAABgY0AAAAAAAEBVQAAAAAAAABBABXlKkKc0VEAFeUqQpzRUQAAAAAAAgGJAAAAAAAAALEAAAAAAAIBRQAAAAAAAQF5AAAAAAACgZUAAAAAAAABWQAAAAAAAQFpAAAAAAABAUUAFeUqQpzRUQAAAAAAAgFlAAAAAAAAAY0AAAAAAAAA6QAAAAAAAwGZAAAAAAACARkAAAAAAAAAuQAAAAAAAADNABXlKkKc0VEAAAAAAAABNQAAAAAAAQFVAAAAAAACgZ0AFeUqQpzRUQAAAAAAAQF5AAAAAAACAYEAFeUqQpzRUQAAAAAAAAF9ABXlKkKc0VEAAAAAAAKBgQAAAAAAAACJAAAAAAAAAR0AAAAAAAIBPQAV5SpCnNFRAAAAAAAAANEAFeUqQpzRUQAAAAAAAgFxAAAAAAAAAMkAAAAAAAMBYQAV5SpCnNFRAAAAAAAAAVUAAAAAAAMBVQAAAAAAA4GFABXlKkKc0VEAAAAAAAIBnQAAAAAAAoGZABXlKkKc0VEAAAAAAAIBIQAAAAAAAQFNAAAAAAAAAO0AFeUqQpzRUQAV5SpCnNFRAAAAAAAAgZkAFeUqQpzRUQAV5SpCnNFRAAAAAAADAUEAFeUqQpzRUQAAAAAAAIGRAAAAAAADAYUAAAAAAAMBVQAAAAAAAAEBAAAAAAAAAHEAAAAAAAABSQAAAAAAAACpAAAAAAAAAOUAFeUqQpzRUQAAAAAAAABhAAAAAAAAANUAAAAAAAMBcQAAAAAAAgFBABXlKkKc0VEAFeUqQpzRUQAV5SpCnNFRAAAAAAAAAUUAAAAAAAAAgQAAAAAAAAFxAAAAAAAAASUAAAAAAAMBSQAV5SpCnNFRAAAAAAAAASkAAAAAAAAA/QAAAAAAAgEdAAAAAAABAYUAAAAAAAOBmQAV5SpCnNFRABXlKkKc0VEAFeUqQpzRUQAV5SpCnNFRABXlKkKc0VEAAAAAAAIBeQAAAAAAAYGdABXlKkKc0VEAFeUqQpzRUQAV5SpCnNFRABXlKkKc0VEAFeUqQpzRUQAAAAAAAABRAAAAAAACARUAAAAAAAAAmQAAAAAAAAEhAAAAAAACAWUAAAAAAAMBXQAV5SpCnNFRABXlKkKc0VEAFeUqQpzRUQAV5SpCnNFRABXlKkKc0VEAFeUqQpzRUQAAAAAAAIGBABXlKkKc0VEAFeUqQpzRUQAV5SpCnNFRABXlKkKc0VEAFeUqQpzRUQAAAAAAAYGBAAAAAAAAAMUAAAAAAAAAQQAV5SpCnNFRAAAAAAAAAPkAAAAAAAIBBQAAAAAAAgFJABXlKkKc0VEAFeUqQpzRUQAV5SpCnNFRABXlKkKc0VEAAAAAAAKBgQAAAAAAAwFhAAAAAAAAAO0AFeUqQpzRUQAV5SpCnNFRABXlKkKc0VEAFeUqQpzRUQAAAAAAAAEVAAAAAAAAAMEAAAAAAAIBIQAAAAAAAQFNAAAAAAADgYkAAAAAAAIBJQAV5SpCnNFRABXlKkKc0VEAFeUqQpzRUQAV5SpCnNFRABXlKkKc0VEAFeUqQpzRUQAV5SpCnNFRABXlKkKc0VEAFeUqQpzRUQAV5SpCnNFRABXlKkKc0VEAFeUqQpzRUQAV5SpCnNFRAAAAAAAAAPEAFeUqQpzRUQAAAAAAAAF9ABXlKkKc0VEAAAAAAAIBGQAAAAAAA4GNAAAAAAAAAU0AAAAAAAEBRQAAAAAAAAC5AAAAAAACATUAAAAAAAIBTQAAAAAAAACRAAAAAAABAXkAAAAAAAABnQAV5SpCnNFRABXlKkKc0VEAFeUqQpzRUQAV5SpCnNFRABXlKkKc0VEAFeUqQpzRUQAV5SpCnNFRABXlKkKc0VEAFeUqQpzRUQAV5SpCnNFRABXlKkKc0VEAFeUqQpzRUQAV5SpCnNFRAAAAAAACAQ0AAAAAAAAA4QAAAAAAAoGdAAAAAAACAW0AFeUqQpzRUQAAAAAAAQFdAAAAAAAAAKEAAAAAAACBjQAAAAAAAAABAAAAAAAAAXkAAAAAAAEBkQAV5SpCnNFRAAAAAAAAAN0AAAAAAAIBmQAAAAAAAIGJABXlKkKc0VEAFeUqQpzRUQAAAAAAAYGBAAAAAAACAWkAFeUqQpzRUQAV5SpCnNFRAAAAAAAAAVUAFeUqQpzRUQAV5SpCnNFRABXlKkKc0VEAFeUqQpzRUQAV5SpCnNFRABXlKkKc0VEAAAAAAAABSQAV5SpCnNFRAAAAAAABAVUAAAAAAAIBOQAV5SpCnNFRABXlKkKc0VEAAAAAAAABCQAAAAAAAAD1ABXlKkKc0VEAAAAAAAMBUQAAAAAAAgE5AAAAAAACAQ0AAAAAAAEBRQAAAAAAAgE1AAAAAAACAT0AAAAAAAIBKQAAAAAAAADFABXlKkKc0VEAAAAAAAABgQAAAAAAAAFFABXlKkKc0VEAAAAAAAAAkQAV5SpCnNFRABXlKkKc0VEAFeUqQpzRUQAAAAAAAwFxAAAAAAAAARUAAAAAAAAAUQAV5SpCnNFRABXlKkKc0VEAFeUqQpzRUQAV5SpCnNFRABXlKkKc0VEAFeUqQpzRUQAV5SpCnNFRAAAAAAADAYUAAAAAAAAAqQAAAAAAAoGJAAAAAAACAXkAFeUqQpzRUQAAAAAAAACZAAAAAAADAZEAAAAAAAIBUQAAAAAAAgFVAAAAAAAAgYUAAAAAAAABIQAAAAAAAADpABXlKkKc0VEAAAAAAAIBHQAV5SpCnNFRAAAAAAAAAPEAFeUqQpzRUQAAAAAAAgEVABXlKkKc0VEAAAAAAAABjQAAAAAAAAABAAAAAAACAU0AAAAAAAABOQAAAAAAAQF9AAAAAAAAAO0AFeUqQpzRUQAV5SpCnNFRAAAAAAAAAWEAAAAAAACBgQAV5SpCnNFRAAAAAAACAREAFeUqQpzRUQAV5SpCnNFRABXlKkKc0VEAAAAAAAOBkQAAAAAAAAFlABXlKkKc0VEAAAAAAAGBiQAAAAAAAgEBABXlKkKc0VEAAAAAAAIBbQAAAAAAAgFVABXlKkKc0VEAAAAAAAMBdQAAAAAAAAPA/AAAAAACASEAAAAAAAABhQAV5SpCnNFRAAAAAAACAYEAAAAAAAIBZQAAAAAAAAFVAAAAAAADAU0AFeUqQpzRUQAV5SpCnNFRABXlKkKc0VEAFeUqQpzRUQAV5SpCnNFRABXlKkKc0VEAFeUqQpzRUQAAAAAAAAF1AAAAAAABAXEAFeUqQpzRUQAV5SpCnNFRABXlKkKc0VEAFeUqQpzRUQAV5SpCnNFRABXlKkKc0VEAFeUqQpzRUQAV5SpCnNFRABXlKkKc0VEAFeUqQpzRUQAV5SpCnNFRAAAAAAADAWUAAAAAAAMBiQAAAAAAAQFhABXlKkKc0VEAAAAAAAABDQAAAAAAAADlAAAAAAAAAR0AFeUqQpzRUQAV5SpCnNFRAAAAAAACAUUAFeUqQpzRUQAAAAAAAwFFABXlKkKc0VEAFeUqQpzRUQAV5SpCnNFRABXlKkKc0VEAFeUqQpzRUQAV5SpCnNFRABXlKkKc0VEAFeUqQpzRUQAV5SpCnNFRABXlKkKc0VEAFeUqQpzRUQAAAAAAAgFpABXlKkKc0VEAAAAAAAMBWQAV5SpCnNFRAAAAAAAAgYkAFeUqQpzRUQAAAAAAAAEBAAAAAAACAVkAAAAAAAMBgQAV5SpCnNFRAAAAAAACAY0AFeUqQpzRUQAV5SpCnNFRAAAAAAABAXUAFeUqQpzRUQAV5SpCnNFRAAAAAAAAAT0AAAAAAAABWQAAAAAAAQFZABXlKkKc0VEAAAAAAAEBSQAV5SpCnNFRABXlKkKc0VEAAAAAAAEBkQAAAAAAAAAhABXlKkKc0VEAFeUqQpzRUQAV5SpCnNFRABXlKkKc0VEAFeUqQpzRUQAAAAAAAADRAAAAAAAAgZkAAAAAAAABLQA==",
          "dtype": "f8"
         },
         "xaxis": "x11",
         "yaxis": "y11"
        },
        {
         "histnorm": "density",
         "marker": {
          "color": "#636EFA"
         },
         "nbinsx": 50,
         "opacity": 0.8,
         "type": "histogram",
         "x": {
          "bdata": "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",
          "dtype": "f8"
         },
         "xaxis": "x12",
         "yaxis": "y12"
        },
        {
         "histnorm": "density",
         "marker": {
          "color": "#636EFA"
         },
         "nbinsx": 50,
         "opacity": 0.8,
         "type": "histogram",
         "x": {
          "bdata": "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",
          "dtype": "f8"
         },
         "xaxis": "x13",
         "yaxis": "y13"
        },
        {
         "histnorm": "density",
         "marker": {
          "color": "#636EFA"
         },
         "nbinsx": 50,
         "opacity": 0.8,
         "type": "histogram",
         "x": {
          "bdata": "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",
          "dtype": "f8"
         },
         "xaxis": "x14",
         "yaxis": "y14"
        },
        {
         "histnorm": "density",
         "marker": {
          "color": "#636EFA"
         },
         "nbinsx": 50,
         "opacity": 0.8,
         "type": "histogram",
         "x": {
          "bdata": "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",
          "dtype": "f8"
         },
         "xaxis": "x15",
         "yaxis": "y15"
        },
        {
         "histnorm": "density",
         "marker": {
          "color": "#636EFA"
         },
         "nbinsx": 11,
         "opacity": 0.8,
         "type": "histogram",
         "x": {
          "bdata": "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",
          "dtype": "f8"
         },
         "xaxis": "x16",
         "yaxis": "y16"
        },
        {
         "histnorm": "density",
         "marker": {
          "color": "#636EFA"
         },
         "nbinsx": 50,
         "opacity": 0.8,
         "type": "histogram",
         "x": {
          "bdata": "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",
          "dtype": "f8"
         },
         "xaxis": "x17",
         "yaxis": "y17"
        },
        {
         "histnorm": "density",
         "marker": {
          "color": "#636EFA"
         },
         "nbinsx": 11,
         "opacity": 0.8,
         "type": "histogram",
         "x": {
          "bdata": "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",
          "dtype": "f8"
         },
         "xaxis": "x18",
         "yaxis": "y18"
        },
        {
         "histnorm": "density",
         "marker": {
          "color": "#636EFA"
         },
         "nbinsx": 50,
         "opacity": 0.8,
         "type": "histogram",
         "x": {
          "bdata": "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",
          "dtype": "f8"
         },
         "xaxis": "x19",
         "yaxis": "y19"
        },
        {
         "histnorm": "density",
         "marker": {
          "color": "#636EFA"
         },
         "nbinsx": 15,
         "opacity": 0.8,
         "type": "histogram",
         "x": {
          "bdata": "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",
          "dtype": "f8"
         },
         "xaxis": "x20",
         "yaxis": "y20"
        },
        {
         "histnorm": "density",
         "marker": {
          "color": "#636EFA"
         },
         "nbinsx": 50,
         "opacity": 0.8,
         "type": "histogram",
         "x": {
          "bdata": "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",
          "dtype": "f8"
         },
         "xaxis": "x21",
         "yaxis": "y21"
        },
        {
         "histnorm": "density",
         "marker": {
          "color": "#636EFA"
         },
         "nbinsx": 50,
         "opacity": 0.8,
         "type": "histogram",
         "x": {
          "bdata": "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",
          "dtype": "f8"
         },
         "xaxis": "x22",
         "yaxis": "y22"
        },
        {
         "histnorm": "density",
         "marker": {
          "color": "#636EFA"
         },
         "nbinsx": 50,
         "opacity": 0.8,
         "type": "histogram",
         "x": {
          "bdata": "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",
          "dtype": "f8"
         },
         "xaxis": "x23",
         "yaxis": "y23"
        },
        {
         "histnorm": "density",
         "marker": {
          "color": "#636EFA"
         },
         "nbinsx": 50,
         "opacity": 0.8,
         "type": "histogram",
         "x": {
          "bdata": "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",
          "dtype": "f8"
         },
         "xaxis": "x24",
         "yaxis": "y24"
        },
        {
         "histnorm": "density",
         "marker": {
          "color": "#636EFA"
         },
         "nbinsx": 50,
         "opacity": 0.8,
         "type": "histogram",
         "x": {
          "bdata": "AAAAAADAX0AAAAAAAAA9QAAAAAAAYGBAAAAAAABAUkAAAAAAAEBkQAAAAAAAQFFAAAAAAABgZEAAAAAAAMBcQAAAAAAAoGNAAAAAAAAAO0AAAAAAAOBgQAAAAAAAgFpAAAAAAACgYUAAAAAAAAAQQAAAAAAAAEJAAAAAAAAAQUAAAAAAACBkQAAAAAAAgERAAAAAAACAUUAAAAAAAEBQQAAAAAAAAE5AAAAAAADAYkAAAAAAAOBkQAAAAAAAQGVAJchTgjwlWEAlyFOCPCVYQAAAAAAAACxAAAAAAADAYEAAAAAAAIBOQAAAAAAAgGFAAAAAAADAU0AAAAAAAABaQAAAAAAAAFNAAAAAAABAVkAlyFOCPCVYQAAAAAAAgFZAAAAAAAAgZUAAAAAAAABcQAAAAAAAYGVAAAAAAADgZUAAAAAAAOBiQAAAAAAAQGBAJchTgjwlWEAAAAAAAABZQAAAAAAAIGBAAAAAAAAAKkAlyFOCPCVYQAAAAAAAAGJAAAAAAADAWUAlyFOCPCVYQAAAAAAAgFBAJchTgjwlWEAAAAAAAAAYQAAAAAAAADpAAAAAAAAAVUAAAAAAAIBUQCXIU4I8JVhAAAAAAAAAVkAlyFOCPCVYQAAAAAAAgFtAAAAAAACAYkAAAAAAAMBeQCXIU4I8JVhAAAAAAABAY0AAAAAAAMBVQAAAAAAAAGNAJchTgjwlWEAAAAAAAIBYQAAAAAAAwGdAJchTgjwlWEAAAAAAAIBcQAAAAAAAADVAAAAAAAAAV0AlyFOCPCVYQCXIU4I8JVhAAAAAAAAARUAlyFOCPCVYQCXIU4I8JVhAAAAAAAAAZUAlyFOCPCVYQAAAAAAAgExAAAAAAAAAZkAAAAAAAAAuQAAAAAAAgFVAAAAAAACAWEAAAAAAAAAgQAAAAAAAAE9AAAAAAAAgZ0AlyFOCPCVYQAAAAAAAwFVAAAAAAAAAMEAAAAAAAABBQAAAAAAAAFZAJchTgjwlWEAlyFOCPCVYQCXIU4I8JVhAAAAAAAAAWUAAAAAAAMBgQAAAAAAAwFRAAAAAAACAW0AAAAAAAABgQCXIU4I8JVhAAAAAAACAQkAAAAAAAOBiQAAAAAAAAGJAAAAAAABAUkAAAAAAAEBcQCXIU4I8JVhAJchTgjwlWEAlyFOCPCVYQCXIU4I8JVhAJchTgjwlWEAAAAAAAMBZQAAAAAAA4GNAJchTgjwlWEAlyFOCPCVYQCXIU4I8JVhAJchTgjwlWEAlyFOCPCVYQAAAAAAAwF9AAAAAAABAW0AAAAAAAAA9QAAAAAAAIGBAAAAAAAAAY0AAAAAAAABLQCXIU4I8JVhAJchTgjwlWEAlyFOCPCVYQCXIU4I8JVhAJchTgjwlWEAlyFOCPCVYQAAAAAAAgGZAJchTgjwlWEAlyFOCPCVYQCXIU4I8JVhAJchTgjwlWEAlyFOCPCVYQAAAAAAAYGJAAAAAAABgZEAAAAAAAMBjQCXIU4I8JVhAAAAAAADgYUAAAAAAAABNQAAAAAAAgEFAJchTgjwlWEAlyFOCPCVYQCXIU4I8JVhAJchTgjwlWEAAAAAAAEBdQAAAAAAAQFlAAAAAAADgZkAlyFOCPCVYQCXIU4I8JVhAJchTgjwlWEAlyFOCPCVYQAAAAAAAADVAAAAAAADgZEAAAAAAAEBjQAAAAAAAgEdAAAAAAAAAGEAAAAAAAMBQQCXIU4I8JVhAJchTgjwlWEAlyFOCPCVYQCXIU4I8JVhAJchTgjwlWEAlyFOCPCVYQCXIU4I8JVhAJchTgjwlWEAlyFOCPCVYQCXIU4I8JVhAJchTgjwlWEAlyFOCPCVYQCXIU4I8JVhAAAAAAACASUAlyFOCPCVYQAAAAAAAgE1AJchTgjwlWEAAAAAAAABhQAAAAAAAIGZAAAAAAADAWkAAAAAAAKBjQAAAAAAAYGVAAAAAAACASEAAAAAAAKBgQAAAAAAAwGBAAAAAAAAgYkAAAAAAAABjQCXIU4I8JVhAJchTgjwlWEAlyFOCPCVYQCXIU4I8JVhAJchTgjwlWEAlyFOCPCVYQCXIU4I8JVhAJchTgjwlWEAlyFOCPCVYQCXIU4I8JVhAJchTgjwlWEAlyFOCPCVYQCXIU4I8JVhAAAAAAACAVkAAAAAAAGBgQAAAAAAAgFNAAAAAAADAUUAlyFOCPCVYQAAAAAAAACJAAAAAAAAgYUAAAAAAAGBhQAAAAAAAAGRAAAAAAAAAUkAAAAAAAIBaQCXIU4I8JVhAAAAAAACAY0AAAAAAAAA0QAAAAAAAACZAJchTgjwlWEAlyFOCPCVYQAAAAAAAAGdAAAAAAAAAWkAlyFOCPCVYQCXIU4I8JVhAAAAAAADAZUAlyFOCPCVYQCXIU4I8JVhAJchTgjwlWEAlyFOCPCVYQCXIU4I8JVhAJchTgjwlWEAAAAAAAIBdQCXIU4I8JVhAAAAAAADgZ0AAAAAAAEBaQCXIU4I8JVhAJchTgjwlWEAAAAAAAGBhQAAAAAAAQF5AJchTgjwlWEAAAAAAAADwPwAAAAAAABBAAAAAAABAWUAAAAAAAABKQAAAAAAAwFdAAAAAAACATUAAAAAAAABIQAAAAAAAQGNAJchTgjwlWEAAAAAAAIBDQAAAAAAAwFZAJchTgjwlWEAAAAAAAIBSQCXIU4I8JVhAJchTgjwlWEAlyFOCPCVYQAAAAAAAgEFAAAAAAAAANkAAAAAAAEBfQCXIU4I8JVhAJchTgjwlWEAlyFOCPCVYQCXIU4I8JVhAJchTgjwlWEAlyFOCPCVYQCXIU4I8JVhAAAAAAABAVEAAAAAAAIBbQAAAAAAAAC5AAAAAAABAUUAlyFOCPCVYQAAAAAAAAEZAAAAAAABAWkAAAAAAAIBSQAAAAAAAACZAAAAAAABgZEAAAAAAAABjQAAAAAAAgEtAJchTgjwlWEAAAAAAAMBgQCXIU4I8JVhAAAAAAACAXEAlyFOCPCVYQAAAAAAAAFVAJchTgjwlWEAAAAAAAAA6QAAAAAAAgGNAAAAAAACAVEAAAAAAACBgQAAAAAAAAABAAAAAAAAAIkAlyFOCPCVYQCXIU4I8JVhAAAAAAADAUUAAAAAAAABiQCXIU4I8JVhAAAAAAABgZUAlyFOCPCVYQCXIU4I8JVhAJchTgjwlWEAAAAAAAIBiQAAAAAAAgEJAJchTgjwlWEAAAAAAAEBkQAAAAAAAAFtAJchTgjwlWEAAAAAAAOBhQAAAAAAAAFxAJchTgjwlWEAAAAAAAIBcQAAAAAAAIGZAAAAAAAAAT0AAAAAAAAAsQCXIU4I8JVhAAAAAAAAANEAAAAAAAAAUQAAAAAAAQFhAAAAAAACAU0AlyFOCPCVYQCXIU4I8JVhAJchTgjwlWEAlyFOCPCVYQCXIU4I8JVhAJchTgjwlWEAlyFOCPCVYQAAAAAAAAFlAAAAAAADAZEAlyFOCPCVYQCXIU4I8JVhAJchTgjwlWEAlyFOCPCVYQCXIU4I8JVhAJchTgjwlWEAlyFOCPCVYQCXIU4I8JVhAJchTgjwlWEAlyFOCPCVYQCXIU4I8JVhAAAAAAACAYUAAAAAAAMBeQAAAAAAAAE9AJchTgjwlWEAAAAAAAAA8QAAAAAAAgEhAAAAAAABAVUAlyFOCPCVYQCXIU4I8JVhAAAAAAACgY0AlyFOCPCVYQAAAAAAAAElAJchTgjwlWEAlyFOCPCVYQCXIU4I8JVhAJchTgjwlWEAlyFOCPCVYQCXIU4I8JVhAJchTgjwlWEAlyFOCPCVYQCXIU4I8JVhAJchTgjwlWEAlyFOCPCVYQAAAAAAAgERAJchTgjwlWEAAAAAAAABLQCXIU4I8JVhAAAAAAAAAKEAlyFOCPCVYQAAAAAAA4GBAAAAAAAAAMkAAAAAAAEBXQCXIU4I8JVhAAAAAAAAAXkAlyFOCPCVYQCXIU4I8JVhAAAAAAAAAR0AlyFOCPCVYQCXIU4I8JVhAAAAAAADAX0AAAAAAAABmQAAAAAAAAFZAJchTgjwlWEAAAAAAAIBLQCXIU4I8JVhAJchTgjwlWEAAAAAAAAAIQAAAAAAAQFBAJchTgjwlWEAlyFOCPCVYQCXIU4I8JVhAJchTgjwlWEAlyFOCPCVYQAAAAAAAwFlAAAAAAACAXkAAAAAAAIBFQA==",
          "dtype": "f8"
         },
         "xaxis": "x25",
         "yaxis": "y25"
        },
        {
         "histnorm": "density",
         "marker": {
          "color": "#636EFA"
         },
         "nbinsx": 50,
         "opacity": 0.8,
         "type": "histogram",
         "x": {
          "bdata": "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",
          "dtype": "f8"
         },
         "xaxis": "x26",
         "yaxis": "y26"
        },
        {
         "histnorm": "density",
         "marker": {
          "color": "#636EFA"
         },
         "nbinsx": 50,
         "opacity": 0.8,
         "type": "histogram",
         "x": {
          "bdata": "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",
          "dtype": "f8"
         },
         "xaxis": "x27",
         "yaxis": "y27"
        },
        {
         "histnorm": "density",
         "marker": {
          "color": "#636EFA"
         },
         "nbinsx": 50,
         "opacity": 0.8,
         "type": "histogram",
         "x": {
          "bdata": "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",
          "dtype": "f8"
         },
         "xaxis": "x28",
         "yaxis": "y28"
        },
        {
         "histnorm": "density",
         "marker": {
          "color": "#636EFA"
         },
         "nbinsx": 50,
         "opacity": 0.8,
         "type": "histogram",
         "x": {
          "bdata": "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",
          "dtype": "f8"
         },
         "xaxis": "x29",
         "yaxis": "y29"
        },
        {
         "histnorm": "density",
         "marker": {
          "color": "#636EFA"
         },
         "nbinsx": 50,
         "opacity": 0.8,
         "type": "histogram",
         "x": {
          "bdata": "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",
          "dtype": "f8"
         },
         "xaxis": "x30",
         "yaxis": "y30"
        },
        {
         "histnorm": "density",
         "marker": {
          "color": "#636EFA"
         },
         "nbinsx": 50,
         "opacity": 0.8,
         "type": "histogram",
         "x": {
          "bdata": "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",
          "dtype": "f8"
         },
         "xaxis": "x31",
         "yaxis": "y31"
        },
        {
         "histnorm": "density",
         "marker": {
          "color": "#636EFA"
         },
         "nbinsx": 50,
         "opacity": 0.8,
         "type": "histogram",
         "x": {
          "bdata": "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",
          "dtype": "f8"
         },
         "xaxis": "x32",
         "yaxis": "y32"
        },
        {
         "histnorm": "density",
         "marker": {
          "color": "#636EFA"
         },
         "nbinsx": 50,
         "opacity": 0.8,
         "type": "histogram",
         "x": {
          "bdata": "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",
          "dtype": "f8"
         },
         "xaxis": "x33",
         "yaxis": "y33"
        },
        {
         "histnorm": "density",
         "marker": {
          "color": "#636EFA"
         },
         "nbinsx": 50,
         "opacity": 0.8,
         "type": "histogram",
         "x": {
          "bdata": "zczMzMzsVkAzMzMzM9NUQGZmZmZmZk1AMzMzMzPTVEDNzMzMzCxQQM3MzMzMDFJAZmZmZmYmVUDNzMzMzAxSQGZmZmZm5kdAzczMzMxMVECamZmZmTlTQAAAAAAAwEZAAAAAAAAASUAzMzMzMzNRQM3MzMzMrFBAMzMzMzMTUEDNzMzMzAxSQAAAAAAAgEtAzczMzMxsVUBmZmZmZiZNQM3MzMzMbFVAAAAAAADAUkAzMzMzM1NXQDMzMzMz01RAAAAAAAAAVEAzMzMzM3NTQAAAAAAA4FVAmpmZmZmZT0AAAAAAAEBUQM3MzMzMTEpAZmZmZmamSkDNzMzMzAxWQM3MzMzMzE9AZmZmZmamQEAAAAAAAABZQM3MzMzMzEtAzczMzMysUEBmZmZmZiZVQAAAAAAAAElAzczMzMyMTEAAAAAAAMBSQDMzMzMz01RAAAAAAACAUUCamZmZmTlWQM3MzMzMDFJAAAAAAADAUkAAAAAAAIBRQAAAAAAAIFNAMzMzMzOzR0AAAAAAAMBSQJqZmZmZmVRAzczMzMwsUkDNzMzMzIxNQM3MzMzMjEdAzczMzMxMVEAAAAAAAMBSQAAAAAAAAFlAzczMzMxMUUAAAAAAAABZQJqZmZmZOVdAMzMzMzMzUUCamZmZmZlPQAAAAAAAAElAmpmZmZkZUUAzMzMzMxNQQM3MzMzMrFBAAAAAAAAAWUCamZmZmZlEQDMzMzMzc0NAAAAAAAAASUDNzMzMzGxSQAAAAAAAwFJAzczMzMysVUAAAAAAAABZQAAAAAAAAFlAAAAAAADAUkAzMzMzM3NFQAAAAAAAAElAMzMzMzPTVEAAAAAAAAAAAAAAAAAAAFlAzczMzMwsUkAzMzMzM3NFQAAAAAAAgEtAMzMzMzNTV0DNzMzMzGxSQM3MzMzMTFRAzczMzMysUEDZpsoevidQQM3MzMzMTFRAAAAAAAAATkDNzMzMzKxVQAAAAAAAQExAAAAAAAAASUAzMzMzM3NTQNmmyh6+J1BAMzMzMzPzTkDNzMzMzKxQQDMzMzMzc1NAzczMzMzMS0AzMzMzM3NOQNmmyh6+J1BAAAAAAAAAWUCamZmZmZlXQM3MzMzMrFBAzczMzMzMT0CamZmZmZlUQAAAAAAAAAAAAAAAAAAAWUDZpsoevidQQAAAAAAAAFlA2abKHr4nUEAAAAAAAEBLQAAAAAAAAElAzczMzMysUEAAAAAAAABOQNmmyh6+J1BA2abKHr4nUEDZpsoevidQQDMzMzMzc1dAZmZmZmaGV0CamZmZmdlRQDMzMzMzM1FAMzMzMzNzQ0AAAAAAAABOQNmmyh6+J1BAAAAAAAAAAADZpsoevidQQNmmyh6+J1BAAAAAAAAAWUDZpsoevidQQM3MzMzMjEdA2abKHr4nUEDZpsoevidQQNmmyh6+J1BA2abKHr4nUEDZpsoevidQQAAAAAAAIFNAmpmZmZl5UkDNzMzMzKxQQNmmyh6+J1BAAAAAAABAS0AzMzMzM3NKQAAAAAAAAElA2abKHr4nUEAAAAAAAAAAANmmyh6+J1BA2abKHr4nUEDNzMzMzMw7QM3MzMzMrFBAAAAAAADARkDZpsoevidQQNmmyh6+J1BA2abKHr4nUEDZpsoevidQQDMzMzMzE1dAMzMzMzMTV0AzMzMzMzNGQJqZmZmZuVNAzczMzMxMUEDNzMzMzKxQQAAAAAAAwEJA2abKHr4nUEDZpsoevidQQNmmyh6+J1BA2abKHr4nUEDZpsoevidQQNmmyh6+J1BA2abKHr4nUEAAAAAAAABZQAAAAAAAAFlA2abKHr4nUEBmZmZmZiZNQNmmyh6+J1BAAAAAAADAUkAAAAAAAAAAADMzMzMzM0ZAAAAAAAAAOUAAAAAAAEBPQDMzMzMz805AMzMzMzPzTEDNzMzMzMxPQAAAAAAAAFlAAAAAAABAVEBmZmZmZqZRQGZmZmZmplFAAAAAAAAASUDNzMzMzIxHQAAAAAAAAERAAAAAAAAAAADZpsoevidQQAAAAAAAAFlA2abKHr4nUEAAAAAAAAAAANmmyh6+J1BA2abKHr4nUEDZpsoevidQQAAAAAAAAAAA2abKHr4nUEDZpsoevidQQAAAAAAAAElAmpmZmZkZUUAzMzMzMzNRQAAAAAAAgFFAAAAAAAAASUAAAAAAAAAAAAAAAAAAAERAzczMzMzMR0DNzMzMzExKQJqZmZmZGVFAzczMzMyMTUAzMzMzM7NRQAAAAAAAAAAAAAAAAAAASUCamZmZmZk8QAAAAAAAAElA2abKHr4nUEDZpsoevidQQDMzMzMzc0RAAAAAAABAS0DZpsoevidQQAAAAAAAAAAAAAAAAAAASUDZpsoevidQQNmmyh6+J1BA2abKHr4nUEDZpsoevidQQNmmyh6+J1BAAAAAAAAASUDNzMzMzMxLQAAAAAAAAFlAzczMzMzMN0DNzMzMzGxSQNmmyh6+J1BA2abKHr4nUEBmZmZmZuZFQAAAAAAA4FVA2abKHr4nUEAzMzMzM9NUQM3MzMzMDFZAzczMzMwMVUAAAAAAAIBRQAAAAAAAAFlAZmZmZmaGV0DNzMzMzAxVQAAAAAAAwFJAAAAAAAAAAAAAAAAAAABZQAAAAAAAwE5A2abKHr4nUEAAAAAAAABZQNmmyh6+J1BA2abKHr4nUEAAAAAAAAAAAAAAAAAAQFRAAAAAAABgVkAAAAAAAABJQAAAAAAAAElA2abKHr4nUEDZpsoevidQQNmmyh6+J1BA2abKHr4nUEDZpsoevidQQNmmyh6+J1BAmpmZmZm5U0AAAAAAAMBSQAAAAAAAgFZAAAAAAAAASUAAAAAAAABZQDMzMzMz01RAzczMzMxMVEDNzMzMzAxSQJqZmZmZOVdAmpmZmZk5U0AAAAAAAEBLQAAAAAAAwFJA2abKHr4nUEAzMzMzM7NRQAAAAAAAAAAAMzMzMzNzU0DZpsoevidQQDMzMzMz01RA2abKHr4nUEDNzMzMzKxQQAAAAAAAAFRAAAAAAADAUkDNzMzMzExRQGZmZmZmZk1AAAAAAABAVEBmZmZmZqZAQNmmyh6+J1BAzczMzMxsUkDNzMzMzIxHQM3MzMzMDFJAAAAAAAAATkDZpsoevidQQNmmyh6+J1BAAAAAAAAASUAzMzMzM1NSQM3MzMzMDFJA2abKHr4nUEAAAAAAAABJQM3MzMzMDFFA2abKHr4nUECamZmZmZlUQJqZmZmZGVFA2abKHr4nUECamZmZmTlXQGZmZmZmplFAZmZmZmamU0AAAAAAAABJQNmmyh6+J1BAAAAAAABAVEDNzMzMzAxSQM3MzMzMbFVAmpmZmZlZR0AAAAAAAAA5QNmmyh6+J1BAAAAAAAAANEAAAAAAAAAAANmmyh6+J1BAAAAAAAAAWUDZpsoevidQQAAAAAAAAFlAAAAAAAAgU0DZpsoevidQQAAAAAAAAAAA2abKHr4nUEDZpsoevidQQNmmyh6+J1BA2abKHr4nUEDZpsoevidQQNmmyh6+J1BA2abKHr4nUEDZpsoevidQQNmmyh6+J1BAMzMzMzPzTkAAAAAAAMBSQM3MzMzMbFJAAAAAAAAAAADNzMzMzGxSQDMzMzMzM1FAMzMzMzMzRkDZpsoevidQQNmmyh6+J1BAAAAAAABAT0DZpsoevidQQAAAAAAAAFRA2abKHr4nUEDZpsoevidQQNmmyh6+J1BAAAAAAAAASUDZpsoevidQQNmmyh6+J1BA2abKHr4nUEDZpsoevidQQNmmyh6+J1BAAAAAAAAAAADZpsoevidQQAAAAAAAAE5A2abKHr4nUEAzMzMzMzNRQDMzMzMzszBAAAAAAABAVEDZpsoevidQQDMzMzMzM0pAmpmZmZmZVUAAAAAAAMBSQNmmyh6+J1BAAAAAAACAS0AAAAAAAEBLQNmmyh6+J1BAZmZmZmamUUAAAAAAAAAAAAAAAAAAAFlAzczMzMwMVUBmZmZmZuZFQAAAAAAAwFJA2abKHr4nUEBmZmZmZqZTQNmmyh6+J1BAAAAAAAAAWUAAAAAAAMBGQAAAAAAAYFZA2abKHr4nUEDZpsoevidQQNmmyh6+J1BA2abKHr4nUEAAAAAAAABZQDMzMzMz01RAAAAAAAAASUAAAAAAAIBLQA==",
          "dtype": "f8"
         },
         "xaxis": "x34",
         "yaxis": "y34"
        },
        {
         "histnorm": "density",
         "marker": {
          "color": "#636EFA"
         },
         "nbinsx": 50,
         "opacity": 0.8,
         "type": "histogram",
         "x": {
          "bdata": "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",
          "dtype": "f8"
         },
         "xaxis": "x35",
         "yaxis": "y35"
        },
        {
         "histnorm": "density",
         "marker": {
          "color": "#636EFA"
         },
         "nbinsx": 50,
         "opacity": 0.8,
         "type": "histogram",
         "x": {
          "bdata": "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",
          "dtype": "f8"
         },
         "xaxis": "x36",
         "yaxis": "y36"
        },
        {
         "histnorm": "density",
         "marker": {
          "color": "#636EFA"
         },
         "nbinsx": 50,
         "opacity": 0.8,
         "type": "histogram",
         "x": {
          "bdata": "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",
          "dtype": "f8"
         },
         "xaxis": "x37",
         "yaxis": "y37"
        },
        {
         "histnorm": "density",
         "marker": {
          "color": "#636EFA"
         },
         "nbinsx": 50,
         "opacity": 0.8,
         "type": "histogram",
         "x": {
          "bdata": "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",
          "dtype": "f8"
         },
         "xaxis": "x38",
         "yaxis": "y38"
        },
        {
         "histnorm": "density",
         "marker": {
          "color": "#636EFA"
         },
         "nbinsx": 50,
         "opacity": 0.8,
         "type": "histogram",
         "x": {
          "bdata": "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",
          "dtype": "f8"
         },
         "xaxis": "x39",
         "yaxis": "y39"
        },
        {
         "histnorm": "density",
         "marker": {
          "color": "#636EFA"
         },
         "nbinsx": 50,
         "opacity": 0.8,
         "type": "histogram",
         "x": {
          "bdata": "u4VfjYmUSUC7hV+NiZRJQLuFX42JlElAu4VfjYmUSUC7hV+NiZRJQLuFX42JlElAu4VfjYmUSUC7hV+NiZRJQLuFX42JlElAu4VfjYmUSUC7hV+NiZRJQLuFX42JlElAu4VfjYmUSUC7hV+NiZRJQLuFX42JlElAu4VfjYmUSUC7hV+NiZRJQLuFX42JlElAu4VfjYmUSUC7hV+NiZRJQLuFX42JlElAu4VfjYmUSUC7hV+NiZRJQLuFX42JlElAu4VfjYmUSUC7hV+NiZRJQLuFX42JlElAu4VfjYmUSUC7hV+NiZRJQLuFX42JlElAu4VfjYmUSUC7hV+NiZRJQLuFX42JlElAu4VfjYmUSUC7hV+NiZRJQLuFX42JlElAu4VfjYmUSUC7hV+NiZRJQLuFX42JlElAu4VfjYmUSUC7hV+NiZRJQLuFX42JlElAu4VfjYmUSUC7hV+NiZRJQLuFX42JlElAu4VfjYmUSUC7hV+NiZRJQLuFX42JlElAu4VfjYmUSUC7hV+NiZRJQLuFX42JlElAu4VfjYmUSUC7hV+NiZRJQLuFX42JlElAu4VfjYmUSUC7hV+NiZRJQLuFX42JlElAu4VfjYmUSUC7hV+NiZRJQLuFX42JlElAu4VfjYmUSUC7hV+NiZRJQLuFX42JlElAu4VfjYmUSUC7hV+NiZRJQLuFX42JlElAu4VfjYmUSUC7hV+NiZRJQLuFX42JlElAu4VfjYmUSUC7hV+NiZRJQLuFX42JlElAu4VfjYmUSUC7hV+NiZRJQLuFX42JlElAu4VfjYmUSUC7hV+NiZRJQLuFX42JlElAAAAAAAAA8D+7hV+NiZRJQAAAAAAAAENAAAAAAACATUC7hV+NiZRJQLuFX42JlElAAAAAAAAAMkC7hV+NiZRJQAAAAAAAAENAu4VfjYmUSUC7hV+NiZRJQAAAAAAAAFJAAAAAAAAAUkAAAAAAAABLQLuFX42JlElAu4VfjYmUSUC7hV+NiZRJQLuFX42JlElAAAAAAAAAQEAAAAAAAAAUQLuFX42JlElAu4VfjYmUSUC7hV+NiZRJQLuFX42JlElAAAAAAAAAMkC7hV+NiZRJQLuFX42JlElAu4VfjYmUSUAAAAAAAAAiQLuFX42JlElAu4VfjYmUSUC7hV+NiZRJQLuFX42JlElAu4VfjYmUSUC7hV+NiZRJQLuFX42JlElAu4VfjYmUSUC7hV+NiZRJQLuFX42JlElAu4VfjYmUSUC7hV+NiZRJQAAAAAAAADJAAAAAAAAACEC7hV+NiZRJQLuFX42JlElAu4VfjYmUSUC7hV+NiZRJQLuFX42JlElAu4VfjYmUSUC7hV+NiZRJQLuFX42JlElAu4VfjYmUSUC7hV+NiZRJQLuFX42JlElAu4VfjYmUSUC7hV+NiZRJQLuFX42JlElAu4VfjYmUSUC7hV+NiZRJQAAAAAAAADJAu4VfjYmUSUC7hV+NiZRJQLuFX42JlElAu4VfjYmUSUC7hV+NiZRJQLuFX42JlElAu4VfjYmUSUC7hV+NiZRJQLuFX42JlElAu4VfjYmUSUAAAAAAAAA5QAAAAAAAADlAu4VfjYmUSUC7hV+NiZRJQLuFX42JlElAu4VfjYmUSUC7hV+NiZRJQLuFX42JlElAAAAAAAAAFEAAAAAAAAA5QAAAAAAAAAhAu4VfjYmUSUC7hV+NiZRJQLuFX42JlElAu4VfjYmUSUC7hV+NiZRJQLuFX42JlElAu4VfjYmUSUC7hV+NiZRJQLuFX42JlElAu4VfjYmUSUC7hV+NiZRJQLuFX42JlElAu4VfjYmUSUC7hV+NiZRJQLuFX42JlElAAAAAAACATEC7hV+NiZRJQLuFX42JlElAu4VfjYmUSUC7hV+NiZRJQLuFX42JlElAu4VfjYmUSUC7hV+NiZRJQLuFX42JlElAAAAAAAAAIkAAAAAAAAAyQLuFX42JlElAAAAAAAAAUEAAAAAAAABRQLuFX42JlElAu4VfjYmUSUC7hV+NiZRJQLuFX42JlElAu4VfjYmUSUC7hV+NiZRJQLuFX42JlElAu4VfjYmUSUC7hV+NiZRJQLuFX42JlElAu4VfjYmUSUC7hV+NiZRJQLuFX42JlElAu4VfjYmUSUC7hV+NiZRJQLuFX42JlElAu4VfjYmUSUC7hV+NiZRJQLuFX42JlElAu4VfjYmUSUC7hV+NiZRJQLuFX42JlElAu4VfjYmUSUC7hV+NiZRJQLuFX42JlElAAAAAAACATUC7hV+NiZRJQLuFX42JlElAu4VfjYmUSUC7hV+NiZRJQLuFX42JlElAu4VfjYmUSUC7hV+NiZRJQAAAAAAAgE9Au4VfjYmUSUC7hV+NiZRJQLuFX42JlElAu4VfjYmUSUC7hV+NiZRJQLuFX42JlElAu4VfjYmUSUC7hV+NiZRJQAAAAAAAAFJAu4VfjYmUSUC7hV+NiZRJQLuFX42JlElAu4VfjYmUSUAAAAAAAAAAQAAAAAAAwEdAAAAAAAAAOUAAAAAAAIBWQAAAAAAAAABAAAAAAACAVkAAAAAAAMBIQAAAAAAAAPA/AAAAAACAVkAAAAAAAKBSQAAAAAAAADlAAAAAAACAVkAAAAAAAAAzQAAAAAAAgEFAu4VfjYmUSUAAAAAAAAA+QLuFX42JlElAAAAAAACAUkC7hV+NiZRJQAAAAAAAABhAAAAAAAAARUC7hV+NiZRJQLuFX42JlElAAAAAAACAVkAAAAAAAABFQAAAAAAAADlAAAAAAACAVkAAAAAAAABRQAAAAAAAQFNAAAAAAABAU0AAAAAAAABFQAAAAAAAAFNAAAAAAAAARUC7hV+NiZRJQAAAAAAAgFZAAAAAAAAAS0C7hV+NiZRJQAAAAAAAADZAu4VfjYmUSUAAAAAAAAA5QAAAAAAAgFZAAAAAAACAVkAAAAAAAAA5QAAAAAAAACZAAAAAAABAR0AAAAAAAABLQAAAAAAAgDVAu4VfjYmUSUAAAAAAAAAoQAAAAAAAwExAu4VfjYmUSUAAAAAAAABOQLuFX42JlElAu4VfjYmUSUAAAAAAAIBWQLuFX42JlElAAAAAAAAAM0AAAAAAAMBTQLuFX42JlElAAAAAAAAAKEC7hV+NiZRJQAAAAAAAAEVAAAAAAACASEAAAAAAAIBDQAAAAAAAgFZAAAAAAABAUEAAAAAAAAAxQLuFX42JlElAu4VfjYmUSUAAAAAAAABFQLuFX42JlElAu4VfjYmUSUAAAAAAAIBBQAAAAAAAgFZAu4VfjYmUSUAAAAAAAIBWQLuFX42JlElAAAAAAABAUEC7hV+NiZRJQAAAAAAAgDlAAAAAAAAAU0AAAAAAAIBWQAAAAAAAAEtAAAAAAACAVkAAAAAAAIBWQLuFX42JlElAAAAAAACAQUAAAAAAAAA5QAAAAAAAgE1AAAAAAAAAP0AAAAAAAABLQLuFX42JlElAAAAAAACAVkAAAAAAAIBWQAAAAAAAgFZAu4VfjYmUSUAAAAAAAIBWQLuFX42JlElAu4VfjYmUSUAAAAAAAIBWQAAAAAAAgFZAAAAAAACAQUAAAAAAAEBHQAAAAAAAAEtAu4VfjYmUSUAAAAAAAABFQAAAAAAAQFBAu4VfjYmUSUC7hV+NiZRJQAAAAAAAgFZAAAAAAAAARUAAAAAAAIBWQAAAAAAAADJAAAAAAACAVkAAAAAAAABRQLuFX42JlElAu4VfjYmUSUAAAAAAAABFQAAAAAAAAChAu4VfjYmUSUAAAAAAAIBWQLuFX42JlElAu4VfjYmUSUC7hV+NiZRJQLuFX42JlElAAAAAAACAVkAAAAAAAGBSQAAAAAAAAEVAAAAAAACARkC7hV+NiZRJQAAAAAAAgEFAu4VfjYmUSUC7hV+NiZRJQLuFX42JlElAAAAAAACAVkAAAAAAAIBBQLuFX42JlElAu4VfjYmUSUAAAAAAAIBWQAAAAAAAAChAu4VfjYmUSUC7hV+NiZRJQAAAAAAAgDZAAAAAAAAATkAAAAAAAIBWQAAAAAAAwFJAu4VfjYmUSUC7hV+NiZRJQLuFX42JlElAAAAAAACAVkC7hV+NiZRJQAAAAAAAADNAu4VfjYmUSUAAAAAAAABFQAAAAAAAgFZAu4VfjYmUSUAAAAAAAEBIQA==",
          "dtype": "f8"
         },
         "xaxis": "x40",
         "yaxis": "y40"
        },
        {
         "histnorm": "density",
         "marker": {
          "color": "#636EFA"
         },
         "nbinsx": 50,
         "opacity": 0.8,
         "type": "histogram",
         "x": {
          "bdata": "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",
          "dtype": "f8"
         },
         "xaxis": "x41",
         "yaxis": "y41"
        }
       ],
       "layout": {
        "annotations": [
         {
          "font": {
           "size": 16
          },
          "showarrow": false,
          "text": "SEASON",
          "x": 0.14444444444444446,
          "xanchor": "center",
          "xref": "paper",
          "y": 1,
          "yanchor": "bottom",
          "yref": "paper"
         },
         {
          "font": {
           "size": 16
          },
          "showarrow": false,
          "text": "FINAL_POS",
          "x": 0.5,
          "xanchor": "center",
          "xref": "paper",
          "y": 1,
          "yanchor": "bottom",
          "yref": "paper"
         },
         {
          "font": {
           "size": 16
          },
          "showarrow": false,
          "text": "SGTTG_RANK",
          "x": 0.8555555555555556,
          "xanchor": "center",
          "xref": "paper",
          "y": 1,
          "yanchor": "bottom",
          "yref": "paper"
         },
         {
          "font": {
           "size": 16
          },
          "showarrow": false,
          "text": "SGTTG",
          "x": 0.14444444444444446,
          "xanchor": "center",
          "xref": "paper",
          "y": 0.9260204081632653,
          "yanchor": "bottom",
          "yref": "paper"
         },
         {
          "font": {
           "size": 16
          },
          "showarrow": false,
          "text": "SGOTT_RANK",
          "x": 0.5,
          "xanchor": "center",
          "xref": "paper",
          "y": 0.9260204081632653,
          "yanchor": "bottom",
          "yref": "paper"
         },
         {
          "font": {
           "size": 16
          },
          "showarrow": false,
          "text": "SGOTT",
          "x": 0.8555555555555556,
          "xanchor": "center",
          "xref": "paper",
          "y": 0.9260204081632653,
          "yanchor": "bottom",
          "yref": "paper"
         },
         {
          "font": {
           "size": 16
          },
          "showarrow": false,
          "text": "SGAPR_RANK",
          "x": 0.14444444444444446,
          "xanchor": "center",
          "xref": "paper",
          "y": 0.8520408163265307,
          "yanchor": "bottom",
          "yref": "paper"
         },
         {
          "font": {
           "size": 16
          },
          "showarrow": false,
          "text": "SGAPR",
          "x": 0.5,
          "xanchor": "center",
          "xref": "paper",
          "y": 0.8520408163265307,
          "yanchor": "bottom",
          "yref": "paper"
         },
         {
          "font": {
           "size": 16
          },
          "showarrow": false,
          "text": "SGATG_RANK",
          "x": 0.8555555555555556,
          "xanchor": "center",
          "xref": "paper",
          "y": 0.8520408163265307,
          "yanchor": "bottom",
          "yref": "paper"
         },
         {
          "font": {
           "size": 16
          },
          "showarrow": false,
          "text": "SGATG",
          "x": 0.14444444444444446,
          "xanchor": "center",
          "xref": "paper",
          "y": 0.778061224489796,
          "yanchor": "bottom",
          "yref": "paper"
         },
         {
          "font": {
           "size": 16
          },
          "showarrow": false,
          "text": "SGP_RANK",
          "x": 0.5,
          "xanchor": "center",
          "xref": "paper",
          "y": 0.778061224489796,
          "yanchor": "bottom",
          "yref": "paper"
         },
         {
          "font": {
           "size": 16
          },
          "showarrow": false,
          "text": "SGP",
          "x": 0.8555555555555556,
          "xanchor": "center",
          "xref": "paper",
          "y": 0.778061224489796,
          "yanchor": "bottom",
          "yref": "paper"
         },
         {
          "font": {
           "size": 16
          },
          "showarrow": false,
          "text": "BIRDIES_RANK",
          "x": 0.14444444444444446,
          "xanchor": "center",
          "xref": "paper",
          "y": 0.7040816326530612,
          "yanchor": "bottom",
          "yref": "paper"
         },
         {
          "font": {
           "size": 16
          },
          "showarrow": false,
          "text": "BIRDIES",
          "x": 0.5,
          "xanchor": "center",
          "xref": "paper",
          "y": 0.7040816326530612,
          "yanchor": "bottom",
          "yref": "paper"
         },
         {
          "font": {
           "size": 16
          },
          "showarrow": false,
          "text": "PAR_3_RANK",
          "x": 0.8555555555555556,
          "xanchor": "center",
          "xref": "paper",
          "y": 0.7040816326530612,
          "yanchor": "bottom",
          "yref": "paper"
         },
         {
          "font": {
           "size": 16
          },
          "showarrow": false,
          "text": "PAR_3",
          "x": 0.14444444444444446,
          "xanchor": "center",
          "xref": "paper",
          "y": 0.6301020408163265,
          "yanchor": "bottom",
          "yref": "paper"
         },
         {
          "font": {
           "size": 16
          },
          "showarrow": false,
          "text": "PAR_4_RANK",
          "x": 0.5,
          "xanchor": "center",
          "xref": "paper",
          "y": 0.6301020408163265,
          "yanchor": "bottom",
          "yref": "paper"
         },
         {
          "font": {
           "size": 16
          },
          "showarrow": false,
          "text": "PAR_4",
          "x": 0.8555555555555556,
          "xanchor": "center",
          "xref": "paper",
          "y": 0.6301020408163265,
          "yanchor": "bottom",
          "yref": "paper"
         },
         {
          "font": {
           "size": 16
          },
          "showarrow": false,
          "text": "PAR_5_RANK",
          "x": 0.14444444444444446,
          "xanchor": "center",
          "xref": "paper",
          "y": 0.5561224489795918,
          "yanchor": "bottom",
          "yref": "paper"
         },
         {
          "font": {
           "size": 16
          },
          "showarrow": false,
          "text": "PAR_5",
          "x": 0.5,
          "xanchor": "center",
          "xref": "paper",
          "y": 0.5561224489795918,
          "yanchor": "bottom",
          "yref": "paper"
         },
         {
          "font": {
           "size": 16
          },
          "showarrow": false,
          "text": "TOTAL_DRIVING_RANK",
          "x": 0.8555555555555556,
          "xanchor": "center",
          "xref": "paper",
          "y": 0.5561224489795918,
          "yanchor": "bottom",
          "yref": "paper"
         },
         {
          "font": {
           "size": 16
          },
          "showarrow": false,
          "text": "TOTAL_DRIVING",
          "x": 0.14444444444444446,
          "xanchor": "center",
          "xref": "paper",
          "y": 0.48214285714285715,
          "yanchor": "bottom",
          "yref": "paper"
         },
         {
          "font": {
           "size": 16
          },
          "showarrow": false,
          "text": "DRIVING_DISTANCE_RANK",
          "x": 0.5,
          "xanchor": "center",
          "xref": "paper",
          "y": 0.48214285714285715,
          "yanchor": "bottom",
          "yref": "paper"
         },
         {
          "font": {
           "size": 16
          },
          "showarrow": false,
          "text": "DRIVING_DISTANCE",
          "x": 0.8555555555555556,
          "xanchor": "center",
          "xref": "paper",
          "y": 0.48214285714285715,
          "yanchor": "bottom",
          "yref": "paper"
         },
         {
          "font": {
           "size": 16
          },
          "showarrow": false,
          "text": "DRIVING_ACCURACY_RANK",
          "x": 0.14444444444444446,
          "xanchor": "center",
          "xref": "paper",
          "y": 0.4081632653061225,
          "yanchor": "bottom",
          "yref": "paper"
         },
         {
          "font": {
           "size": 16
          },
          "showarrow": false,
          "text": "DRIVING_ACCURACY",
          "x": 0.5,
          "xanchor": "center",
          "xref": "paper",
          "y": 0.4081632653061225,
          "yanchor": "bottom",
          "yref": "paper"
         },
         {
          "font": {
           "size": 16
          },
          "showarrow": false,
          "text": "GIR_RANK",
          "x": 0.8555555555555556,
          "xanchor": "center",
          "xref": "paper",
          "y": 0.4081632653061225,
          "yanchor": "bottom",
          "yref": "paper"
         },
         {
          "font": {
           "size": 16
          },
          "showarrow": false,
          "text": "GIR",
          "x": 0.14444444444444446,
          "xanchor": "center",
          "xref": "paper",
          "y": 0.33418367346938777,
          "yanchor": "bottom",
          "yref": "paper"
         },
         {
          "font": {
           "size": 16
          },
          "showarrow": false,
          "text": "SCRAMBLING_RANK",
          "x": 0.5,
          "xanchor": "center",
          "xref": "paper",
          "y": 0.33418367346938777,
          "yanchor": "bottom",
          "yref": "paper"
         },
         {
          "font": {
           "size": 16
          },
          "showarrow": false,
          "text": "SCRAMBLING",
          "x": 0.8555555555555556,
          "xanchor": "center",
          "xref": "paper",
          "y": 0.33418367346938777,
          "yanchor": "bottom",
          "yref": "paper"
         },
         {
          "font": {
           "size": 16
          },
          "showarrow": false,
          "text": "OWGR_RANK",
          "x": 0.14444444444444446,
          "xanchor": "center",
          "xref": "paper",
          "y": 0.2602040816326531,
          "yanchor": "bottom",
          "yref": "paper"
         },
         {
          "font": {
           "size": 16
          },
          "showarrow": false,
          "text": "OWGR",
          "x": 0.5,
          "xanchor": "center",
          "xref": "paper",
          "y": 0.2602040816326531,
          "yanchor": "bottom",
          "yref": "paper"
         },
         {
          "font": {
           "size": 16
          },
          "showarrow": false,
          "text": "VEGAS_ODDS",
          "x": 0.8555555555555556,
          "xanchor": "center",
          "xref": "paper",
          "y": 0.2602040816326531,
          "yanchor": "bottom",
          "yref": "paper"
         },
         {
          "font": {
           "size": 16
          },
          "showarrow": false,
          "text": "CUT_PERCENTAGE",
          "x": 0.14444444444444446,
          "xanchor": "center",
          "xref": "paper",
          "y": 0.18622448979591838,
          "yanchor": "bottom",
          "yref": "paper"
         },
         {
          "font": {
           "size": 16
          },
          "showarrow": false,
          "text": "FEDEX_CUP_POINTS",
          "x": 0.5,
          "xanchor": "center",
          "xref": "paper",
          "y": 0.18622448979591838,
          "yanchor": "bottom",
          "yref": "paper"
         },
         {
          "font": {
           "size": 16
          },
          "showarrow": false,
          "text": "form_density",
          "x": 0.8555555555555556,
          "xanchor": "center",
          "xref": "paper",
          "y": 0.18622448979591838,
          "yanchor": "bottom",
          "yref": "paper"
         },
         {
          "font": {
           "size": 16
          },
          "showarrow": false,
          "text": "CONSECUTIVE_CUTS",
          "x": 0.14444444444444446,
          "xanchor": "center",
          "xref": "paper",
          "y": 0.11224489795918369,
          "yanchor": "bottom",
          "yref": "paper"
         },
         {
          "font": {
           "size": 16
          },
          "showarrow": false,
          "text": "RECENT_FORM",
          "x": 0.5,
          "xanchor": "center",
          "xref": "paper",
          "y": 0.11224489795918369,
          "yanchor": "bottom",
          "yref": "paper"
         },
         {
          "font": {
           "size": 16
          },
          "showarrow": false,
          "text": "adj_form",
          "x": 0.8555555555555556,
          "xanchor": "center",
          "xref": "paper",
          "y": 0.11224489795918369,
          "yanchor": "bottom",
          "yref": "paper"
         },
         {
          "font": {
           "size": 16
          },
          "showarrow": false,
          "text": "COURSE_HISTORY",
          "x": 0.14444444444444446,
          "xanchor": "center",
          "xref": "paper",
          "y": 0.03826530612244899,
          "yanchor": "bottom",
          "yref": "paper"
         },
         {
          "font": {
           "size": 16
          },
          "showarrow": false,
          "text": "adj_ch",
          "x": 0.5,
          "xanchor": "center",
          "xref": "paper",
          "y": 0.03826530612244899,
          "yanchor": "bottom",
          "yref": "paper"
         }
        ],
        "height": 4200,
        "showlegend": false,
        "template": {
         "data": {
          "bar": [
           {
            "error_x": {
             "color": "#f2f5fa"
            },
            "error_y": {
             "color": "#f2f5fa"
            },
            "marker": {
             "line": {
              "color": "rgb(17,17,17)",
              "width": 0.5
             },
             "pattern": {
              "fillmode": "overlay",
              "size": 10,
              "solidity": 0.2
             }
            },
            "type": "bar"
           }
          ],
          "barpolar": [
           {
            "marker": {
             "line": {
              "color": "rgb(17,17,17)",
              "width": 0.5
             },
             "pattern": {
              "fillmode": "overlay",
              "size": 10,
              "solidity": 0.2
             }
            },
            "type": "barpolar"
           }
          ],
          "carpet": [
           {
            "aaxis": {
             "endlinecolor": "#A2B1C6",
             "gridcolor": "#506784",
             "linecolor": "#506784",
             "minorgridcolor": "#506784",
             "startlinecolor": "#A2B1C6"
            },
            "baxis": {
             "endlinecolor": "#A2B1C6",
             "gridcolor": "#506784",
             "linecolor": "#506784",
             "minorgridcolor": "#506784",
             "startlinecolor": "#A2B1C6"
            },
            "type": "carpet"
           }
          ],
          "choropleth": [
           {
            "colorbar": {
             "outlinewidth": 0,
             "ticks": ""
            },
            "type": "choropleth"
           }
          ],
          "contour": [
           {
            "colorbar": {
             "outlinewidth": 0,
             "ticks": ""
            },
            "colorscale": [
             [
              0,
              "#0d0887"
             ],
             [
              0.1111111111111111,
              "#46039f"
             ],
             [
              0.2222222222222222,
              "#7201a8"
             ],
             [
              0.3333333333333333,
              "#9c179e"
             ],
             [
              0.4444444444444444,
              "#bd3786"
             ],
             [
              0.5555555555555556,
              "#d8576b"
             ],
             [
              0.6666666666666666,
              "#ed7953"
             ],
             [
              0.7777777777777778,
              "#fb9f3a"
             ],
             [
              0.8888888888888888,
              "#fdca26"
             ],
             [
              1,
              "#f0f921"
             ]
            ],
            "type": "contour"
           }
          ],
          "contourcarpet": [
           {
            "colorbar": {
             "outlinewidth": 0,
             "ticks": ""
            },
            "type": "contourcarpet"
           }
          ],
          "heatmap": [
           {
            "colorbar": {
             "outlinewidth": 0,
             "ticks": ""
            },
            "colorscale": [
             [
              0,
              "#0d0887"
             ],
             [
              0.1111111111111111,
              "#46039f"
             ],
             [
              0.2222222222222222,
              "#7201a8"
             ],
             [
              0.3333333333333333,
              "#9c179e"
             ],
             [
              0.4444444444444444,
              "#bd3786"
             ],
             [
              0.5555555555555556,
              "#d8576b"
             ],
             [
              0.6666666666666666,
              "#ed7953"
             ],
             [
              0.7777777777777778,
              "#fb9f3a"
             ],
             [
              0.8888888888888888,
              "#fdca26"
             ],
             [
              1,
              "#f0f921"
             ]
            ],
            "type": "heatmap"
           }
          ],
          "histogram": [
           {
            "marker": {
             "pattern": {
              "fillmode": "overlay",
              "size": 10,
              "solidity": 0.2
             }
            },
            "type": "histogram"
           }
          ],
          "histogram2d": [
           {
            "colorbar": {
             "outlinewidth": 0,
             "ticks": ""
            },
            "colorscale": [
             [
              0,
              "#0d0887"
             ],
             [
              0.1111111111111111,
              "#46039f"
             ],
             [
              0.2222222222222222,
              "#7201a8"
             ],
             [
              0.3333333333333333,
              "#9c179e"
             ],
             [
              0.4444444444444444,
              "#bd3786"
             ],
             [
              0.5555555555555556,
              "#d8576b"
             ],
             [
              0.6666666666666666,
              "#ed7953"
             ],
             [
              0.7777777777777778,
              "#fb9f3a"
             ],
             [
              0.8888888888888888,
              "#fdca26"
             ],
             [
              1,
              "#f0f921"
             ]
            ],
            "type": "histogram2d"
           }
          ],
          "histogram2dcontour": [
           {
            "colorbar": {
             "outlinewidth": 0,
             "ticks": ""
            },
            "colorscale": [
             [
              0,
              "#0d0887"
             ],
             [
              0.1111111111111111,
              "#46039f"
             ],
             [
              0.2222222222222222,
              "#7201a8"
             ],
             [
              0.3333333333333333,
              "#9c179e"
             ],
             [
              0.4444444444444444,
              "#bd3786"
             ],
             [
              0.5555555555555556,
              "#d8576b"
             ],
             [
              0.6666666666666666,
              "#ed7953"
             ],
             [
              0.7777777777777778,
              "#fb9f3a"
             ],
             [
              0.8888888888888888,
              "#fdca26"
             ],
             [
              1,
              "#f0f921"
             ]
            ],
            "type": "histogram2dcontour"
           }
          ],
          "mesh3d": [
           {
            "colorbar": {
             "outlinewidth": 0,
             "ticks": ""
            },
            "type": "mesh3d"
           }
          ],
          "parcoords": [
           {
            "line": {
             "colorbar": {
              "outlinewidth": 0,
              "ticks": ""
             }
            },
            "type": "parcoords"
           }
          ],
          "pie": [
           {
            "automargin": true,
            "type": "pie"
           }
          ],
          "scatter": [
           {
            "marker": {
             "line": {
              "color": "#283442"
             }
            },
            "type": "scatter"
           }
          ],
          "scatter3d": [
           {
            "line": {
             "colorbar": {
              "outlinewidth": 0,
              "ticks": ""
             }
            },
            "marker": {
             "colorbar": {
              "outlinewidth": 0,
              "ticks": ""
             }
            },
            "type": "scatter3d"
           }
          ],
          "scattercarpet": [
           {
            "marker": {
             "colorbar": {
              "outlinewidth": 0,
              "ticks": ""
             }
            },
            "type": "scattercarpet"
           }
          ],
          "scattergeo": [
           {
            "marker": {
             "colorbar": {
              "outlinewidth": 0,
              "ticks": ""
             }
            },
            "type": "scattergeo"
           }
          ],
          "scattergl": [
           {
            "marker": {
             "line": {
              "color": "#283442"
             }
            },
            "type": "scattergl"
           }
          ],
          "scattermap": [
           {
            "marker": {
             "colorbar": {
              "outlinewidth": 0,
              "ticks": ""
             }
            },
            "type": "scattermap"
           }
          ],
          "scattermapbox": [
           {
            "marker": {
             "colorbar": {
              "outlinewidth": 0,
              "ticks": ""
             }
            },
            "type": "scattermapbox"
           }
          ],
          "scatterpolar": [
           {
            "marker": {
             "colorbar": {
              "outlinewidth": 0,
              "ticks": ""
             }
            },
            "type": "scatterpolar"
           }
          ],
          "scatterpolargl": [
           {
            "marker": {
             "colorbar": {
              "outlinewidth": 0,
              "ticks": ""
             }
            },
            "type": "scatterpolargl"
           }
          ],
          "scatterternary": [
           {
            "marker": {
             "colorbar": {
              "outlinewidth": 0,
              "ticks": ""
             }
            },
            "type": "scatterternary"
           }
          ],
          "surface": [
           {
            "colorbar": {
             "outlinewidth": 0,
             "ticks": ""
            },
            "colorscale": [
             [
              0,
              "#0d0887"
             ],
             [
              0.1111111111111111,
              "#46039f"
             ],
             [
              0.2222222222222222,
              "#7201a8"
             ],
             [
              0.3333333333333333,
              "#9c179e"
             ],
             [
              0.4444444444444444,
              "#bd3786"
             ],
             [
              0.5555555555555556,
              "#d8576b"
             ],
             [
              0.6666666666666666,
              "#ed7953"
             ],
             [
              0.7777777777777778,
              "#fb9f3a"
             ],
             [
              0.8888888888888888,
              "#fdca26"
             ],
             [
              1,
              "#f0f921"
             ]
            ],
            "type": "surface"
           }
          ],
          "table": [
           {
            "cells": {
             "fill": {
              "color": "#506784"
             },
             "line": {
              "color": "rgb(17,17,17)"
             }
            },
            "header": {
             "fill": {
              "color": "#2a3f5f"
             },
             "line": {
              "color": "rgb(17,17,17)"
             }
            },
            "type": "table"
           }
          ]
         },
         "layout": {
          "annotationdefaults": {
           "arrowcolor": "#f2f5fa",
           "arrowhead": 0,
           "arrowwidth": 1
          },
          "autotypenumbers": "strict",
          "coloraxis": {
           "colorbar": {
            "outlinewidth": 0,
            "ticks": ""
           }
          },
          "colorscale": {
           "diverging": [
            [
             0,
             "#8e0152"
            ],
            [
             0.1,
             "#c51b7d"
            ],
            [
             0.2,
             "#de77ae"
            ],
            [
             0.3,
             "#f1b6da"
            ],
            [
             0.4,
             "#fde0ef"
            ],
            [
             0.5,
             "#f7f7f7"
            ],
            [
             0.6,
             "#e6f5d0"
            ],
            [
             0.7,
             "#b8e186"
            ],
            [
             0.8,
             "#7fbc41"
            ],
            [
             0.9,
             "#4d9221"
            ],
            [
             1,
             "#276419"
            ]
           ],
           "sequential": [
            [
             0,
             "#0d0887"
            ],
            [
             0.1111111111111111,
             "#46039f"
            ],
            [
             0.2222222222222222,
             "#7201a8"
            ],
            [
             0.3333333333333333,
             "#9c179e"
            ],
            [
             0.4444444444444444,
             "#bd3786"
            ],
            [
             0.5555555555555556,
             "#d8576b"
            ],
            [
             0.6666666666666666,
             "#ed7953"
            ],
            [
             0.7777777777777778,
             "#fb9f3a"
            ],
            [
             0.8888888888888888,
             "#fdca26"
            ],
            [
             1,
             "#f0f921"
            ]
           ],
           "sequentialminus": [
            [
             0,
             "#0d0887"
            ],
            [
             0.1111111111111111,
             "#46039f"
            ],
            [
             0.2222222222222222,
             "#7201a8"
            ],
            [
             0.3333333333333333,
             "#9c179e"
            ],
            [
             0.4444444444444444,
             "#bd3786"
            ],
            [
             0.5555555555555556,
             "#d8576b"
            ],
            [
             0.6666666666666666,
             "#ed7953"
            ],
            [
             0.7777777777777778,
             "#fb9f3a"
            ],
            [
             0.8888888888888888,
             "#fdca26"
            ],
            [
             1,
             "#f0f921"
            ]
           ]
          },
          "colorway": [
           "#636efa",
           "#EF553B",
           "#00cc96",
           "#ab63fa",
           "#FFA15A",
           "#19d3f3",
           "#FF6692",
           "#B6E880",
           "#FF97FF",
           "#FECB52"
          ],
          "font": {
           "color": "#f2f5fa"
          },
          "geo": {
           "bgcolor": "rgb(17,17,17)",
           "lakecolor": "rgb(17,17,17)",
           "landcolor": "rgb(17,17,17)",
           "showlakes": true,
           "showland": true,
           "subunitcolor": "#506784"
          },
          "hoverlabel": {
           "align": "left"
          },
          "hovermode": "closest",
          "mapbox": {
           "style": "dark"
          },
          "paper_bgcolor": "rgb(17,17,17)",
          "plot_bgcolor": "rgb(17,17,17)",
          "polar": {
           "angularaxis": {
            "gridcolor": "#506784",
            "linecolor": "#506784",
            "ticks": ""
           },
           "bgcolor": "rgb(17,17,17)",
           "radialaxis": {
            "gridcolor": "#506784",
            "linecolor": "#506784",
            "ticks": ""
           }
          },
          "scene": {
           "xaxis": {
            "backgroundcolor": "rgb(17,17,17)",
            "gridcolor": "#506784",
            "gridwidth": 2,
            "linecolor": "#506784",
            "showbackground": true,
            "ticks": "",
            "zerolinecolor": "#C8D4E3"
           },
           "yaxis": {
            "backgroundcolor": "rgb(17,17,17)",
            "gridcolor": "#506784",
            "gridwidth": 2,
            "linecolor": "#506784",
            "showbackground": true,
            "ticks": "",
            "zerolinecolor": "#C8D4E3"
           },
           "zaxis": {
            "backgroundcolor": "rgb(17,17,17)",
            "gridcolor": "#506784",
            "gridwidth": 2,
            "linecolor": "#506784",
            "showbackground": true,
            "ticks": "",
            "zerolinecolor": "#C8D4E3"
           }
          },
          "shapedefaults": {
           "line": {
            "color": "#f2f5fa"
           }
          },
          "sliderdefaults": {
           "bgcolor": "#C8D4E3",
           "bordercolor": "rgb(17,17,17)",
           "borderwidth": 1,
           "tickwidth": 0
          },
          "ternary": {
           "aaxis": {
            "gridcolor": "#506784",
            "linecolor": "#506784",
            "ticks": ""
           },
           "baxis": {
            "gridcolor": "#506784",
            "linecolor": "#506784",
            "ticks": ""
           },
           "bgcolor": "rgb(17,17,17)",
           "caxis": {
            "gridcolor": "#506784",
            "linecolor": "#506784",
            "ticks": ""
           }
          },
          "title": {
           "x": 0.05
          },
          "updatemenudefaults": {
           "bgcolor": "#506784",
           "borderwidth": 0
          },
          "xaxis": {
           "automargin": true,
           "gridcolor": "#283442",
           "linecolor": "#506784",
           "ticks": "",
           "title": {
            "standoff": 15
           },
           "zerolinecolor": "#283442",
           "zerolinewidth": 2
          },
          "yaxis": {
           "automargin": true,
           "gridcolor": "#283442",
           "linecolor": "#506784",
           "ticks": "",
           "title": {
            "standoff": 15
           },
           "zerolinecolor": "#283442",
           "zerolinewidth": 2
          }
         }
        },
        "title": {
         "text": "Feature Distributions (with Adaptive Binning)"
        },
        "width": 1000,
        "xaxis": {
         "anchor": "y",
         "domain": [
          0,
          0.2888888888888889
         ]
        },
        "xaxis10": {
         "anchor": "y10",
         "domain": [
          0,
          0.2888888888888889
         ]
        },
        "xaxis11": {
         "anchor": "y11",
         "domain": [
          0.35555555555555557,
          0.6444444444444445
         ]
        },
        "xaxis12": {
         "anchor": "y12",
         "domain": [
          0.7111111111111111,
          1
         ]
        },
        "xaxis13": {
         "anchor": "y13",
         "domain": [
          0,
          0.2888888888888889
         ]
        },
        "xaxis14": {
         "anchor": "y14",
         "domain": [
          0.35555555555555557,
          0.6444444444444445
         ]
        },
        "xaxis15": {
         "anchor": "y15",
         "domain": [
          0.7111111111111111,
          1
         ]
        },
        "xaxis16": {
         "anchor": "y16",
         "domain": [
          0,
          0.2888888888888889
         ]
        },
        "xaxis17": {
         "anchor": "y17",
         "domain": [
          0.35555555555555557,
          0.6444444444444445
         ]
        },
        "xaxis18": {
         "anchor": "y18",
         "domain": [
          0.7111111111111111,
          1
         ]
        },
        "xaxis19": {
         "anchor": "y19",
         "domain": [
          0,
          0.2888888888888889
         ]
        },
        "xaxis2": {
         "anchor": "y2",
         "domain": [
          0.35555555555555557,
          0.6444444444444445
         ]
        },
        "xaxis20": {
         "anchor": "y20",
         "domain": [
          0.35555555555555557,
          0.6444444444444445
         ]
        },
        "xaxis21": {
         "anchor": "y21",
         "domain": [
          0.7111111111111111,
          1
         ]
        },
        "xaxis22": {
         "anchor": "y22",
         "domain": [
          0,
          0.2888888888888889
         ]
        },
        "xaxis23": {
         "anchor": "y23",
         "domain": [
          0.35555555555555557,
          0.6444444444444445
         ]
        },
        "xaxis24": {
         "anchor": "y24",
         "domain": [
          0.7111111111111111,
          1
         ]
        },
        "xaxis25": {
         "anchor": "y25",
         "domain": [
          0,
          0.2888888888888889
         ]
        },
        "xaxis26": {
         "anchor": "y26",
         "domain": [
          0.35555555555555557,
          0.6444444444444445
         ]
        },
        "xaxis27": {
         "anchor": "y27",
         "domain": [
          0.7111111111111111,
          1
         ]
        },
        "xaxis28": {
         "anchor": "y28",
         "domain": [
          0,
          0.2888888888888889
         ]
        },
        "xaxis29": {
         "anchor": "y29",
         "domain": [
          0.35555555555555557,
          0.6444444444444445
         ]
        },
        "xaxis3": {
         "anchor": "y3",
         "domain": [
          0.7111111111111111,
          1
         ]
        },
        "xaxis30": {
         "anchor": "y30",
         "domain": [
          0.7111111111111111,
          1
         ]
        },
        "xaxis31": {
         "anchor": "y31",
         "domain": [
          0,
          0.2888888888888889
         ]
        },
        "xaxis32": {
         "anchor": "y32",
         "domain": [
          0.35555555555555557,
          0.6444444444444445
         ]
        },
        "xaxis33": {
         "anchor": "y33",
         "domain": [
          0.7111111111111111,
          1
         ]
        },
        "xaxis34": {
         "anchor": "y34",
         "domain": [
          0,
          0.2888888888888889
         ]
        },
        "xaxis35": {
         "anchor": "y35",
         "domain": [
          0.35555555555555557,
          0.6444444444444445
         ]
        },
        "xaxis36": {
         "anchor": "y36",
         "domain": [
          0.7111111111111111,
          1
         ]
        },
        "xaxis37": {
         "anchor": "y37",
         "domain": [
          0,
          0.2888888888888889
         ]
        },
        "xaxis38": {
         "anchor": "y38",
         "domain": [
          0.35555555555555557,
          0.6444444444444445
         ]
        },
        "xaxis39": {
         "anchor": "y39",
         "domain": [
          0.7111111111111111,
          1
         ]
        },
        "xaxis4": {
         "anchor": "y4",
         "domain": [
          0,
          0.2888888888888889
         ]
        },
        "xaxis40": {
         "anchor": "y40",
         "domain": [
          0,
          0.2888888888888889
         ]
        },
        "xaxis41": {
         "anchor": "y41",
         "domain": [
          0.35555555555555557,
          0.6444444444444445
         ]
        },
        "xaxis42": {
         "anchor": "y42",
         "domain": [
          0.7111111111111111,
          1
         ]
        },
        "xaxis5": {
         "anchor": "y5",
         "domain": [
          0.35555555555555557,
          0.6444444444444445
         ]
        },
        "xaxis6": {
         "anchor": "y6",
         "domain": [
          0.7111111111111111,
          1
         ]
        },
        "xaxis7": {
         "anchor": "y7",
         "domain": [
          0,
          0.2888888888888889
         ]
        },
        "xaxis8": {
         "anchor": "y8",
         "domain": [
          0.35555555555555557,
          0.6444444444444445
         ]
        },
        "xaxis9": {
         "anchor": "y9",
         "domain": [
          0.7111111111111111,
          1
         ]
        },
        "yaxis": {
         "anchor": "x",
         "domain": [
          0.9617346938775511,
          1
         ]
        },
        "yaxis10": {
         "anchor": "x10",
         "domain": [
          0.739795918367347,
          0.778061224489796
         ]
        },
        "yaxis11": {
         "anchor": "x11",
         "domain": [
          0.739795918367347,
          0.778061224489796
         ]
        },
        "yaxis12": {
         "anchor": "x12",
         "domain": [
          0.739795918367347,
          0.778061224489796
         ]
        },
        "yaxis13": {
         "anchor": "x13",
         "domain": [
          0.6658163265306123,
          0.7040816326530612
         ]
        },
        "yaxis14": {
         "anchor": "x14",
         "domain": [
          0.6658163265306123,
          0.7040816326530612
         ]
        },
        "yaxis15": {
         "anchor": "x15",
         "domain": [
          0.6658163265306123,
          0.7040816326530612
         ]
        },
        "yaxis16": {
         "anchor": "x16",
         "domain": [
          0.5918367346938775,
          0.6301020408163265
         ]
        },
        "yaxis17": {
         "anchor": "x17",
         "domain": [
          0.5918367346938775,
          0.6301020408163265
         ]
        },
        "yaxis18": {
         "anchor": "x18",
         "domain": [
          0.5918367346938775,
          0.6301020408163265
         ]
        },
        "yaxis19": {
         "anchor": "x19",
         "domain": [
          0.5178571428571429,
          0.5561224489795918
         ]
        },
        "yaxis2": {
         "anchor": "x2",
         "domain": [
          0.9617346938775511,
          1
         ]
        },
        "yaxis20": {
         "anchor": "x20",
         "domain": [
          0.5178571428571429,
          0.5561224489795918
         ]
        },
        "yaxis21": {
         "anchor": "x21",
         "domain": [
          0.5178571428571429,
          0.5561224489795918
         ]
        },
        "yaxis22": {
         "anchor": "x22",
         "domain": [
          0.44387755102040816,
          0.48214285714285715
         ]
        },
        "yaxis23": {
         "anchor": "x23",
         "domain": [
          0.44387755102040816,
          0.48214285714285715
         ]
        },
        "yaxis24": {
         "anchor": "x24",
         "domain": [
          0.44387755102040816,
          0.48214285714285715
         ]
        },
        "yaxis25": {
         "anchor": "x25",
         "domain": [
          0.3698979591836735,
          0.4081632653061225
         ]
        },
        "yaxis26": {
         "anchor": "x26",
         "domain": [
          0.3698979591836735,
          0.4081632653061225
         ]
        },
        "yaxis27": {
         "anchor": "x27",
         "domain": [
          0.3698979591836735,
          0.4081632653061225
         ]
        },
        "yaxis28": {
         "anchor": "x28",
         "domain": [
          0.29591836734693877,
          0.33418367346938777
         ]
        },
        "yaxis29": {
         "anchor": "x29",
         "domain": [
          0.29591836734693877,
          0.33418367346938777
         ]
        },
        "yaxis3": {
         "anchor": "x3",
         "domain": [
          0.9617346938775511,
          1
         ]
        },
        "yaxis30": {
         "anchor": "x30",
         "domain": [
          0.29591836734693877,
          0.33418367346938777
         ]
        },
        "yaxis31": {
         "anchor": "x31",
         "domain": [
          0.22193877551020408,
          0.2602040816326531
         ]
        },
        "yaxis32": {
         "anchor": "x32",
         "domain": [
          0.22193877551020408,
          0.2602040816326531
         ]
        },
        "yaxis33": {
         "anchor": "x33",
         "domain": [
          0.22193877551020408,
          0.2602040816326531
         ]
        },
        "yaxis34": {
         "anchor": "x34",
         "domain": [
          0.14795918367346939,
          0.18622448979591838
         ]
        },
        "yaxis35": {
         "anchor": "x35",
         "domain": [
          0.14795918367346939,
          0.18622448979591838
         ]
        },
        "yaxis36": {
         "anchor": "x36",
         "domain": [
          0.14795918367346939,
          0.18622448979591838
         ]
        },
        "yaxis37": {
         "anchor": "x37",
         "domain": [
          0.07397959183673469,
          0.11224489795918369
         ]
        },
        "yaxis38": {
         "anchor": "x38",
         "domain": [
          0.07397959183673469,
          0.11224489795918369
         ]
        },
        "yaxis39": {
         "anchor": "x39",
         "domain": [
          0.07397959183673469,
          0.11224489795918369
         ]
        },
        "yaxis4": {
         "anchor": "x4",
         "domain": [
          0.8877551020408163,
          0.9260204081632653
         ]
        },
        "yaxis40": {
         "anchor": "x40",
         "domain": [
          0,
          0.03826530612244899
         ]
        },
        "yaxis41": {
         "anchor": "x41",
         "domain": [
          0,
          0.03826530612244899
         ]
        },
        "yaxis42": {
         "anchor": "x42",
         "domain": [
          0,
          0.03826530612244899
         ]
        },
        "yaxis5": {
         "anchor": "x5",
         "domain": [
          0.8877551020408163,
          0.9260204081632653
         ]
        },
        "yaxis6": {
         "anchor": "x6",
         "domain": [
          0.8877551020408163,
          0.9260204081632653
         ]
        },
        "yaxis7": {
         "anchor": "x7",
         "domain": [
          0.8137755102040818,
          0.8520408163265307
         ]
        },
        "yaxis8": {
         "anchor": "x8",
         "domain": [
          0.8137755102040818,
          0.8520408163265307
         ]
        },
        "yaxis9": {
         "anchor": "x9",
         "domain": [
          0.8137755102040818,
          0.8520408163265307
         ]
        }
       }
      }
     },
     "metadata": {},
     "output_type": "display_data"
    }
   ],
   "source": [
    "import plotly.express as px\n",
    "import plotly.subplots as sp\n",
    "import plotly.graph_objects as go\n",
    "import pandas as pd\n",
    "import numpy as np\n",
    "\n",
    "# Select numeric columns with >1 unique value, excluding label\n",
    "df_numeric = training_df.select_dtypes(include=np.number)\n",
    "df_numeric = df_numeric.loc[:, df_numeric.nunique() > 1]\n",
    "df_numeric = df_numeric.drop(columns=[\"TOP_20\"], errors=\"ignore\")\n",
    "\n",
    "# Create subplots\n",
    "n_cols = 3\n",
    "n_rows = int(np.ceil(len(df_numeric.columns) / n_cols))\n",
    "fig = sp.make_subplots(rows=n_rows, cols=n_cols, subplot_titles=df_numeric.columns)\n",
    "\n",
    "# Add one histogram per feature with smart binning\n",
    "for i, column in enumerate(df_numeric.columns):\n",
    "    row = i // n_cols + 1\n",
    "    col = i % n_cols + 1\n",
    "\n",
    "    # Compute dynamic bin count\n",
    "    col_range = df_numeric[column].max() - df_numeric[column].min()\n",
    "    n_unique = df_numeric[column].nunique()\n",
    "    nbins = min(50, max(5, int(n_unique / 2))) if col_range < 10 else 50  # tighter for short-range\n",
    "\n",
    "    fig.add_trace(\n",
    "        go.Histogram(\n",
    "            x=df_numeric[column],\n",
    "            nbinsx=nbins,\n",
    "            histnorm=\"density\",\n",
    "            marker=dict(color=\"#636EFA\"),\n",
    "            opacity=0.8\n",
    "        ),\n",
    "        row=row,\n",
    "        col=col\n",
    "    )\n",
    "\n",
    "# Style the figure\n",
    "fig.update_layout(\n",
    "    height=300 * n_rows,\n",
    "    width=1000,\n",
    "    title_text=\"Feature Distributions (with Adaptive Binning)\",\n",
    "    template=\"plotly_dark\",\n",
    "    showlegend=False\n",
    ")\n",
    "\n",
    "fig.show()"
   ]
  },
  {
   "cell_type": "markdown",
   "id": "7dd53f87",
   "metadata": {},
   "source": [
    "# Current Week Data"
   ]
  },
  {
   "cell_type": "markdown",
   "id": "fbd0a012",
   "metadata": {},
   "source": [
    "## Import 2025 Field\n",
    "**Important!**  Save curren't week's `DKSalaries.csv` into Data folder before this step."
   ]
  },
  {
   "cell_type": "code",
   "execution_count": 27,
   "id": "f17875f6",
   "metadata": {},
   "outputs": [
    {
     "data": {
      "text/html": [
       "<div>\n",
       "<style scoped>\n",
       "    .dataframe tbody tr th:only-of-type {\n",
       "        vertical-align: middle;\n",
       "    }\n",
       "\n",
       "    .dataframe tbody tr th {\n",
       "        vertical-align: top;\n",
       "    }\n",
       "\n",
       "    .dataframe thead th {\n",
       "        text-align: right;\n",
       "    }\n",
       "</style>\n",
       "<table border=\"1\" class=\"dataframe\">\n",
       "  <thead>\n",
       "    <tr style=\"text-align: right;\">\n",
       "      <th></th>\n",
       "      <th>PLAYER</th>\n",
       "      <th>SALARY</th>\n",
       "    </tr>\n",
       "  </thead>\n",
       "  <tbody>\n",
       "    <tr>\n",
       "      <th>0</th>\n",
       "      <td>Scottie Scheffler</td>\n",
       "      <td>13100</td>\n",
       "    </tr>\n",
       "    <tr>\n",
       "      <th>1</th>\n",
       "      <td>Rory McIlroy</td>\n",
       "      <td>11400</td>\n",
       "    </tr>\n",
       "    <tr>\n",
       "      <th>2</th>\n",
       "      <td>Xander Schauffele</td>\n",
       "      <td>10100</td>\n",
       "    </tr>\n",
       "    <tr>\n",
       "      <th>3</th>\n",
       "      <td>Tommy Fleetwood</td>\n",
       "      <td>9900</td>\n",
       "    </tr>\n",
       "    <tr>\n",
       "      <th>4</th>\n",
       "      <td>Collin Morikawa</td>\n",
       "      <td>9600</td>\n",
       "    </tr>\n",
       "    <tr>\n",
       "      <th>5</th>\n",
       "      <td>Ludvig Aberg</td>\n",
       "      <td>9400</td>\n",
       "    </tr>\n",
       "    <tr>\n",
       "      <th>6</th>\n",
       "      <td>Viktor Hovland</td>\n",
       "      <td>9300</td>\n",
       "    </tr>\n",
       "    <tr>\n",
       "      <th>7</th>\n",
       "      <td>Justin Thomas</td>\n",
       "      <td>9200</td>\n",
       "    </tr>\n",
       "    <tr>\n",
       "      <th>8</th>\n",
       "      <td>Robert Macintyre</td>\n",
       "      <td>9100</td>\n",
       "    </tr>\n",
       "    <tr>\n",
       "      <th>9</th>\n",
       "      <td>Sam Burns</td>\n",
       "      <td>9000</td>\n",
       "    </tr>\n",
       "  </tbody>\n",
       "</table>\n",
       "</div>"
      ],
      "text/plain": [
       "              PLAYER  SALARY\n",
       "0  Scottie Scheffler   13100\n",
       "1       Rory McIlroy   11400\n",
       "2  Xander Schauffele   10100\n",
       "3    Tommy Fleetwood    9900\n",
       "4    Collin Morikawa    9600\n",
       "5       Ludvig Aberg    9400\n",
       "6     Viktor Hovland    9300\n",
       "7      Justin Thomas    9200\n",
       "8   Robert Macintyre    9100\n",
       "9          Sam Burns    9000"
      ]
     },
     "execution_count": 27,
     "metadata": {},
     "output_type": "execute_result"
    }
   ],
   "source": [
    "importlib.reload(utils.db_utils)\n",
    "from utils.db_utils import DK_PLAYER_NAME_MAP\n",
    "from utils.db_utils import standardize_player_names\n",
    "\n",
    "# Load DraftKings player list\n",
    "dk = pd.read_csv(\"data/DKSalaries.csv\", usecols=[\"Name\", \"Salary\"])\n",
    "\n",
    "# Normalize DK names to PGA naming convention\n",
    "dk[\"Name\"] = dk[\"Name\"].replace(DK_PLAYER_NAME_MAP)\n",
    "\n",
    "# Rename for consistency\n",
    "dk = dk.rename(columns={\"Name\": \"PLAYER\", \"Salary\": \"SALARY\"})\n",
    "\n",
    "dk = standardize_player_names(dk)  # ✅ Normalize to match DB\n",
    "\n",
    "dk.head(10)"
   ]
  },
  {
   "cell_type": "code",
   "execution_count": 8,
   "id": "b4e845cb",
   "metadata": {},
   "outputs": [
    {
     "name": "stdout",
     "output_type": "stream",
     "text": [
      "[76, 117, 100, 118, 105, 103, 32, 65, 98, 101, 114, 103]\n"
     ]
    }
   ],
   "source": [
    "print([ord(c) for c in dk.loc[dk[\"PLAYER\"] == \"Ludvig Aberg\", \"PLAYER\"].iloc[0]])"
   ]
  },
  {
   "cell_type": "markdown",
   "id": "544d958c",
   "metadata": {},
   "source": [
    "## Vegas Odds\n",
    "Confirm the [Vegas Odds](http://golfodds.com/weekly-odds.html) page is updated with current tournament.\n",
    "\n",
    "Note: sometimes this site can give errors and not load correctly.  Just have to do it again later.\n",
    "Another trick to try is change the url try to run it and then put the url back the way it was.  Worked once, maybe random coincidence."
   ]
  },
  {
   "cell_type": "code",
   "execution_count": 28,
   "id": "a3cba953",
   "metadata": {},
   "outputs": [
    {
     "data": {
      "text/html": [
       "<div>\n",
       "<style scoped>\n",
       "    .dataframe tbody tr th:only-of-type {\n",
       "        vertical-align: middle;\n",
       "    }\n",
       "\n",
       "    .dataframe tbody tr th {\n",
       "        vertical-align: top;\n",
       "    }\n",
       "\n",
       "    .dataframe thead th {\n",
       "        text-align: right;\n",
       "    }\n",
       "</style>\n",
       "<table border=\"1\" class=\"dataframe\">\n",
       "  <thead>\n",
       "    <tr style=\"text-align: right;\">\n",
       "      <th></th>\n",
       "      <th>SEASON</th>\n",
       "      <th>TOURNAMENT</th>\n",
       "      <th>PLAYER</th>\n",
       "      <th>ODDS</th>\n",
       "      <th>VEGAS_ODDS</th>\n",
       "    </tr>\n",
       "  </thead>\n",
       "  <tbody>\n",
       "    <tr>\n",
       "      <th>1</th>\n",
       "      <td>2025</td>\n",
       "      <td>Genesis Scottish Open</td>\n",
       "      <td>Scottie Scheffler</td>\n",
       "      <td>11/2</td>\n",
       "      <td>5.5</td>\n",
       "    </tr>\n",
       "    <tr>\n",
       "      <th>2</th>\n",
       "      <td>2025</td>\n",
       "      <td>Genesis Scottish Open</td>\n",
       "      <td>Rory McIlroy</td>\n",
       "      <td>10/1</td>\n",
       "      <td>10.0</td>\n",
       "    </tr>\n",
       "    <tr>\n",
       "      <th>3</th>\n",
       "      <td>2025</td>\n",
       "      <td>Genesis Scottish Open</td>\n",
       "      <td>Tommy Fleetwood</td>\n",
       "      <td>20/1</td>\n",
       "      <td>20.0</td>\n",
       "    </tr>\n",
       "    <tr>\n",
       "      <th>4</th>\n",
       "      <td>2025</td>\n",
       "      <td>Genesis Scottish Open</td>\n",
       "      <td>Xander Schauffele</td>\n",
       "      <td>20/1</td>\n",
       "      <td>20.0</td>\n",
       "    </tr>\n",
       "    <tr>\n",
       "      <th>5</th>\n",
       "      <td>2025</td>\n",
       "      <td>Genesis Scottish Open</td>\n",
       "      <td>Ludvig Aberg</td>\n",
       "      <td>25/1</td>\n",
       "      <td>25.0</td>\n",
       "    </tr>\n",
       "    <tr>\n",
       "      <th>6</th>\n",
       "      <td>2025</td>\n",
       "      <td>Genesis Scottish Open</td>\n",
       "      <td>Collin Morikawa</td>\n",
       "      <td>20/1</td>\n",
       "      <td>20.0</td>\n",
       "    </tr>\n",
       "    <tr>\n",
       "      <th>7</th>\n",
       "      <td>2025</td>\n",
       "      <td>Genesis Scottish Open</td>\n",
       "      <td>Robert MacIntyre</td>\n",
       "      <td>25/1</td>\n",
       "      <td>25.0</td>\n",
       "    </tr>\n",
       "    <tr>\n",
       "      <th>8</th>\n",
       "      <td>2025</td>\n",
       "      <td>Genesis Scottish Open</td>\n",
       "      <td>Viktor Hovland</td>\n",
       "      <td>30/1</td>\n",
       "      <td>30.0</td>\n",
       "    </tr>\n",
       "    <tr>\n",
       "      <th>9</th>\n",
       "      <td>2025</td>\n",
       "      <td>Genesis Scottish Open</td>\n",
       "      <td>Justin Thomas</td>\n",
       "      <td>35/1</td>\n",
       "      <td>35.0</td>\n",
       "    </tr>\n",
       "    <tr>\n",
       "      <th>10</th>\n",
       "      <td>2025</td>\n",
       "      <td>Genesis Scottish Open</td>\n",
       "      <td>Sam Burns</td>\n",
       "      <td>35/1</td>\n",
       "      <td>35.0</td>\n",
       "    </tr>\n",
       "  </tbody>\n",
       "</table>\n",
       "</div>"
      ],
      "text/plain": [
       "    SEASON             TOURNAMENT             PLAYER  ODDS  VEGAS_ODDS\n",
       "1     2025  Genesis Scottish Open  Scottie Scheffler  11/2         5.5\n",
       "2     2025  Genesis Scottish Open       Rory McIlroy  10/1        10.0\n",
       "3     2025  Genesis Scottish Open    Tommy Fleetwood  20/1        20.0\n",
       "4     2025  Genesis Scottish Open  Xander Schauffele  20/1        20.0\n",
       "5     2025  Genesis Scottish Open       Ludvig Aberg  25/1        25.0\n",
       "6     2025  Genesis Scottish Open    Collin Morikawa  20/1        20.0\n",
       "7     2025  Genesis Scottish Open   Robert MacIntyre  25/1        25.0\n",
       "8     2025  Genesis Scottish Open     Viktor Hovland  30/1        30.0\n",
       "9     2025  Genesis Scottish Open      Justin Thomas  35/1        35.0\n",
       "10    2025  Genesis Scottish Open          Sam Burns  35/1        35.0"
      ]
     },
     "execution_count": 28,
     "metadata": {},
     "output_type": "execute_result"
    }
   ],
   "source": [
    "importlib.reload(utils.db_utils)\n",
    "from utils.db_utils import get_current_week_odds\n",
    "\n",
    "odds_current = get_current_week_odds(season=2025, tournament_name=new_tournament_name)\n",
    "odds_current.head(10)\n"
   ]
  },
  {
   "cell_type": "markdown",
   "id": "f58bb5d0",
   "metadata": {},
   "source": [
    "## Cut Percentage and FedEx Points"
   ]
  },
  {
   "cell_type": "code",
   "execution_count": 30,
   "id": "a927b0b2",
   "metadata": {},
   "outputs": [
    {
     "data": {
      "text/html": [
       "<div>\n",
       "<style scoped>\n",
       "    .dataframe tbody tr th:only-of-type {\n",
       "        vertical-align: middle;\n",
       "    }\n",
       "\n",
       "    .dataframe tbody tr th {\n",
       "        vertical-align: top;\n",
       "    }\n",
       "\n",
       "    .dataframe thead th {\n",
       "        text-align: right;\n",
       "    }\n",
       "</style>\n",
       "<table border=\"1\" class=\"dataframe\">\n",
       "  <thead>\n",
       "    <tr style=\"text-align: right;\">\n",
       "      <th></th>\n",
       "      <th>PLAYER</th>\n",
       "      <th>TOTAL_EVENTS_PLAYED</th>\n",
       "      <th>CUTS_MADE</th>\n",
       "      <th>FEDEX_CUP_POINTS</th>\n",
       "      <th>CUT_PERCENTAGE</th>\n",
       "      <th>form_density</th>\n",
       "      <th>CONSECUTIVE_CUTS</th>\n",
       "      <th>ENDING_DATE</th>\n",
       "      <th>TOURNAMENT</th>\n",
       "    </tr>\n",
       "  </thead>\n",
       "  <tbody>\n",
       "    <tr>\n",
       "      <th>0</th>\n",
       "      <td>A.J. Ewart</td>\n",
       "      <td>1</td>\n",
       "      <td>0</td>\n",
       "      <td>0.000</td>\n",
       "      <td>0.0</td>\n",
       "      <td>0.00</td>\n",
       "      <td>0</td>\n",
       "      <td>2025-07-13</td>\n",
       "      <td>Genesis Scottish Open</td>\n",
       "    </tr>\n",
       "    <tr>\n",
       "      <th>1</th>\n",
       "      <td>Aaron Baddeley</td>\n",
       "      <td>15</td>\n",
       "      <td>6</td>\n",
       "      <td>49.088</td>\n",
       "      <td>40.0</td>\n",
       "      <td>3.27</td>\n",
       "      <td>0</td>\n",
       "      <td>2025-07-13</td>\n",
       "      <td>Genesis Scottish Open</td>\n",
       "    </tr>\n",
       "    <tr>\n",
       "      <th>2</th>\n",
       "      <td>Aaron Rai</td>\n",
       "      <td>17</td>\n",
       "      <td>13</td>\n",
       "      <td>660.480</td>\n",
       "      <td>76.5</td>\n",
       "      <td>38.85</td>\n",
       "      <td>2</td>\n",
       "      <td>2025-07-13</td>\n",
       "      <td>Genesis Scottish Open</td>\n",
       "    </tr>\n",
       "    <tr>\n",
       "      <th>3</th>\n",
       "      <td>Aaron Wise</td>\n",
       "      <td>3</td>\n",
       "      <td>1</td>\n",
       "      <td>6.333</td>\n",
       "      <td>33.3</td>\n",
       "      <td>2.11</td>\n",
       "      <td>0</td>\n",
       "      <td>2025-07-13</td>\n",
       "      <td>Genesis Scottish Open</td>\n",
       "    </tr>\n",
       "    <tr>\n",
       "      <th>4</th>\n",
       "      <td>Adam Hadwin</td>\n",
       "      <td>20</td>\n",
       "      <td>13</td>\n",
       "      <td>214.432</td>\n",
       "      <td>65.0</td>\n",
       "      <td>10.72</td>\n",
       "      <td>0</td>\n",
       "      <td>2025-07-13</td>\n",
       "      <td>Genesis Scottish Open</td>\n",
       "    </tr>\n",
       "    <tr>\n",
       "      <th>5</th>\n",
       "      <td>Adam Long</td>\n",
       "      <td>1</td>\n",
       "      <td>0</td>\n",
       "      <td>0.000</td>\n",
       "      <td>0.0</td>\n",
       "      <td>0.00</td>\n",
       "      <td>0</td>\n",
       "      <td>2025-07-13</td>\n",
       "      <td>Genesis Scottish Open</td>\n",
       "    </tr>\n",
       "    <tr>\n",
       "      <th>6</th>\n",
       "      <td>Adam Schenk</td>\n",
       "      <td>20</td>\n",
       "      <td>9</td>\n",
       "      <td>270.904</td>\n",
       "      <td>45.0</td>\n",
       "      <td>13.55</td>\n",
       "      <td>0</td>\n",
       "      <td>2025-07-13</td>\n",
       "      <td>Genesis Scottish Open</td>\n",
       "    </tr>\n",
       "    <tr>\n",
       "      <th>7</th>\n",
       "      <td>Adam Scott</td>\n",
       "      <td>13</td>\n",
       "      <td>11</td>\n",
       "      <td>392.203</td>\n",
       "      <td>84.6</td>\n",
       "      <td>30.17</td>\n",
       "      <td>6</td>\n",
       "      <td>2025-07-13</td>\n",
       "      <td>Genesis Scottish Open</td>\n",
       "    </tr>\n",
       "    <tr>\n",
       "      <th>8</th>\n",
       "      <td>Adam Svensson</td>\n",
       "      <td>20</td>\n",
       "      <td>11</td>\n",
       "      <td>135.343</td>\n",
       "      <td>55.0</td>\n",
       "      <td>6.77</td>\n",
       "      <td>1</td>\n",
       "      <td>2025-07-13</td>\n",
       "      <td>Genesis Scottish Open</td>\n",
       "    </tr>\n",
       "    <tr>\n",
       "      <th>9</th>\n",
       "      <td>Adrien Dumont de Chassart</td>\n",
       "      <td>6</td>\n",
       "      <td>2</td>\n",
       "      <td>195.000</td>\n",
       "      <td>33.3</td>\n",
       "      <td>32.50</td>\n",
       "      <td>0</td>\n",
       "      <td>2025-07-13</td>\n",
       "      <td>Genesis Scottish Open</td>\n",
       "    </tr>\n",
       "  </tbody>\n",
       "</table>\n",
       "</div>"
      ],
      "text/plain": [
       "                      PLAYER  TOTAL_EVENTS_PLAYED  CUTS_MADE  \\\n",
       "0                 A.J. Ewart                    1          0   \n",
       "1             Aaron Baddeley                   15          6   \n",
       "2                  Aaron Rai                   17         13   \n",
       "3                 Aaron Wise                    3          1   \n",
       "4                Adam Hadwin                   20         13   \n",
       "5                  Adam Long                    1          0   \n",
       "6                Adam Schenk                   20          9   \n",
       "7                 Adam Scott                   13         11   \n",
       "8              Adam Svensson                   20         11   \n",
       "9  Adrien Dumont de Chassart                    6          2   \n",
       "\n",
       "   FEDEX_CUP_POINTS  CUT_PERCENTAGE  form_density  CONSECUTIVE_CUTS  \\\n",
       "0             0.000             0.0          0.00                 0   \n",
       "1            49.088            40.0          3.27                 0   \n",
       "2           660.480            76.5         38.85                 2   \n",
       "3             6.333            33.3          2.11                 0   \n",
       "4           214.432            65.0         10.72                 0   \n",
       "5             0.000             0.0          0.00                 0   \n",
       "6           270.904            45.0         13.55                 0   \n",
       "7           392.203            84.6         30.17                 6   \n",
       "8           135.343            55.0          6.77                 1   \n",
       "9           195.000            33.3         32.50                 0   \n",
       "\n",
       "  ENDING_DATE             TOURNAMENT  \n",
       "0  2025-07-13  Genesis Scottish Open  \n",
       "1  2025-07-13  Genesis Scottish Open  \n",
       "2  2025-07-13  Genesis Scottish Open  \n",
       "3  2025-07-13  Genesis Scottish Open  \n",
       "4  2025-07-13  Genesis Scottish Open  \n",
       "5  2025-07-13  Genesis Scottish Open  \n",
       "6  2025-07-13  Genesis Scottish Open  \n",
       "7  2025-07-13  Genesis Scottish Open  \n",
       "8  2025-07-13  Genesis Scottish Open  \n",
       "9  2025-07-13  Genesis Scottish Open  "
      ]
     },
     "execution_count": 30,
     "metadata": {},
     "output_type": "execute_result"
    }
   ],
   "source": [
    "importlib.reload(utils.db_utils)\n",
    "from utils.db_utils import get_cut_and_fedex_history\n",
    "\n",
    "cuts_rolling = get_cut_and_fedex_history(db_path, this_week_history, window_months=9)\n",
    "cuts_current = cuts_rolling[this_week_key].copy()\n",
    "cuts_current.head(10)"
   ]
  },
  {
   "cell_type": "markdown",
   "id": "abdf22cb",
   "metadata": {},
   "source": [
    "## Recent Form"
   ]
  },
  {
   "cell_type": "code",
   "execution_count": 31,
   "id": "58cfb255",
   "metadata": {},
   "outputs": [
    {
     "data": {
      "text/html": [
       "<div>\n",
       "<style scoped>\n",
       "    .dataframe tbody tr th:only-of-type {\n",
       "        vertical-align: middle;\n",
       "    }\n",
       "\n",
       "    .dataframe tbody tr th {\n",
       "        vertical-align: top;\n",
       "    }\n",
       "\n",
       "    .dataframe thead th {\n",
       "        text-align: right;\n",
       "    }\n",
       "</style>\n",
       "<table border=\"1\" class=\"dataframe\">\n",
       "  <thead>\n",
       "    <tr style=\"text-align: right;\">\n",
       "      <th></th>\n",
       "      <th>PLAYER</th>\n",
       "      <th>TOTAL_EVENTS_PLAYED</th>\n",
       "      <th>RECENT_FORM</th>\n",
       "      <th>adj_form</th>\n",
       "      <th>ENDING_DATE</th>\n",
       "      <th>TOURNAMENT</th>\n",
       "    </tr>\n",
       "  </thead>\n",
       "  <tbody>\n",
       "    <tr>\n",
       "      <th>0</th>\n",
       "      <td>Carlos Ortiz</td>\n",
       "      <td>1</td>\n",
       "      <td>4.0</td>\n",
       "      <td>5.77</td>\n",
       "      <td>2025-07-13</td>\n",
       "      <td>Genesis Scottish Open</td>\n",
       "    </tr>\n",
       "    <tr>\n",
       "      <th>1</th>\n",
       "      <td>Scottie Scheffler</td>\n",
       "      <td>15</td>\n",
       "      <td>6.9</td>\n",
       "      <td>2.49</td>\n",
       "      <td>2025-07-13</td>\n",
       "      <td>Genesis Scottish Open</td>\n",
       "    </tr>\n",
       "    <tr>\n",
       "      <th>2</th>\n",
       "      <td>Jon Rahm</td>\n",
       "      <td>3</td>\n",
       "      <td>9.7</td>\n",
       "      <td>7.00</td>\n",
       "      <td>2025-07-13</td>\n",
       "      <td>Genesis Scottish Open</td>\n",
       "    </tr>\n",
       "    <tr>\n",
       "      <th>3</th>\n",
       "      <td>Bubba Watson</td>\n",
       "      <td>1</td>\n",
       "      <td>14.0</td>\n",
       "      <td>20.20</td>\n",
       "      <td>2025-07-13</td>\n",
       "      <td>Genesis Scottish Open</td>\n",
       "    </tr>\n",
       "    <tr>\n",
       "      <th>4</th>\n",
       "      <td>Taisei Shimizu</td>\n",
       "      <td>1</td>\n",
       "      <td>16.0</td>\n",
       "      <td>23.08</td>\n",
       "      <td>2025-07-13</td>\n",
       "      <td>Genesis Scottish Open</td>\n",
       "    </tr>\n",
       "    <tr>\n",
       "      <th>5</th>\n",
       "      <td>Ian Gilligan</td>\n",
       "      <td>1</td>\n",
       "      <td>16.0</td>\n",
       "      <td>23.08</td>\n",
       "      <td>2025-07-13</td>\n",
       "      <td>Genesis Scottish Open</td>\n",
       "    </tr>\n",
       "    <tr>\n",
       "      <th>6</th>\n",
       "      <td>Stewart Cink</td>\n",
       "      <td>1</td>\n",
       "      <td>17.0</td>\n",
       "      <td>24.53</td>\n",
       "      <td>2025-07-13</td>\n",
       "      <td>Genesis Scottish Open</td>\n",
       "    </tr>\n",
       "    <tr>\n",
       "      <th>7</th>\n",
       "      <td>Rory McIlroy</td>\n",
       "      <td>11</td>\n",
       "      <td>19.0</td>\n",
       "      <td>7.65</td>\n",
       "      <td>2025-07-13</td>\n",
       "      <td>Genesis Scottish Open</td>\n",
       "    </tr>\n",
       "    <tr>\n",
       "      <th>8</th>\n",
       "      <td>Ren Yonezawa</td>\n",
       "      <td>1</td>\n",
       "      <td>22.0</td>\n",
       "      <td>31.74</td>\n",
       "      <td>2025-07-13</td>\n",
       "      <td>Genesis Scottish Open</td>\n",
       "    </tr>\n",
       "    <tr>\n",
       "      <th>9</th>\n",
       "      <td>Yuto Katsuragawa</td>\n",
       "      <td>1</td>\n",
       "      <td>22.0</td>\n",
       "      <td>31.74</td>\n",
       "      <td>2025-07-13</td>\n",
       "      <td>Genesis Scottish Open</td>\n",
       "    </tr>\n",
       "  </tbody>\n",
       "</table>\n",
       "</div>"
      ],
      "text/plain": [
       "              PLAYER  TOTAL_EVENTS_PLAYED  RECENT_FORM  adj_form ENDING_DATE  \\\n",
       "0       Carlos Ortiz                    1          4.0      5.77  2025-07-13   \n",
       "1  Scottie Scheffler                   15          6.9      2.49  2025-07-13   \n",
       "2           Jon Rahm                    3          9.7      7.00  2025-07-13   \n",
       "3       Bubba Watson                    1         14.0     20.20  2025-07-13   \n",
       "4     Taisei Shimizu                    1         16.0     23.08  2025-07-13   \n",
       "5       Ian Gilligan                    1         16.0     23.08  2025-07-13   \n",
       "6       Stewart Cink                    1         17.0     24.53  2025-07-13   \n",
       "7       Rory McIlroy                   11         19.0      7.65  2025-07-13   \n",
       "8       Ren Yonezawa                    1         22.0     31.74  2025-07-13   \n",
       "9   Yuto Katsuragawa                    1         22.0     31.74  2025-07-13   \n",
       "\n",
       "              TOURNAMENT  \n",
       "0  Genesis Scottish Open  \n",
       "1  Genesis Scottish Open  \n",
       "2  Genesis Scottish Open  \n",
       "3  Genesis Scottish Open  \n",
       "4  Genesis Scottish Open  \n",
       "5  Genesis Scottish Open  \n",
       "6  Genesis Scottish Open  \n",
       "7  Genesis Scottish Open  \n",
       "8  Genesis Scottish Open  \n",
       "9  Genesis Scottish Open  "
      ]
     },
     "execution_count": 31,
     "metadata": {},
     "output_type": "execute_result"
    }
   ],
   "source": [
    "importlib.reload(utils.db_utils)\n",
    "from utils.db_utils import get_recent_avg_finish\n",
    "\n",
    "recent_form = get_recent_avg_finish(db_path, this_week_history, window_months=9)\n",
    "recent_form_current = recent_form[this_week_key].copy()\n",
    "\n",
    "recent_form_current.head(10)"
   ]
  },
  {
   "cell_type": "markdown",
   "id": "6386214b",
   "metadata": {},
   "source": [
    "## Course History"
   ]
  },
  {
   "cell_type": "code",
   "execution_count": 32,
   "id": "c1c0ec95",
   "metadata": {},
   "outputs": [
    {
     "data": {
      "text/html": [
       "<div>\n",
       "<style scoped>\n",
       "    .dataframe tbody tr th:only-of-type {\n",
       "        vertical-align: middle;\n",
       "    }\n",
       "\n",
       "    .dataframe tbody tr th {\n",
       "        vertical-align: top;\n",
       "    }\n",
       "\n",
       "    .dataframe thead th {\n",
       "        text-align: right;\n",
       "    }\n",
       "</style>\n",
       "<table border=\"1\" class=\"dataframe\">\n",
       "  <thead>\n",
       "    <tr style=\"text-align: right;\">\n",
       "      <th></th>\n",
       "      <th>PLAYER</th>\n",
       "      <th>TOTAL_EVENTS_PLAYED</th>\n",
       "      <th>COURSE_HISTORY</th>\n",
       "      <th>adj_ch</th>\n",
       "      <th>ENDING_DATE</th>\n",
       "      <th>COURSE</th>\n",
       "      <th>TOURNAMENT</th>\n",
       "    </tr>\n",
       "  </thead>\n",
       "  <tbody>\n",
       "    <tr>\n",
       "      <th>0</th>\n",
       "      <td>Aaron Baddeley</td>\n",
       "      <td>1</td>\n",
       "      <td>90.0</td>\n",
       "      <td>129.84</td>\n",
       "      <td>2025-07-13</td>\n",
       "      <td>The Renaissance Club</td>\n",
       "      <td>Genesis Scottish Open</td>\n",
       "    </tr>\n",
       "    <tr>\n",
       "      <th>1</th>\n",
       "      <td>Aaron Cockerill</td>\n",
       "      <td>1</td>\n",
       "      <td>90.0</td>\n",
       "      <td>129.84</td>\n",
       "      <td>2025-07-13</td>\n",
       "      <td>The Renaissance Club</td>\n",
       "      <td>Genesis Scottish Open</td>\n",
       "    </tr>\n",
       "    <tr>\n",
       "      <th>2</th>\n",
       "      <td>Aaron Rai</td>\n",
       "      <td>2</td>\n",
       "      <td>47.0</td>\n",
       "      <td>42.78</td>\n",
       "      <td>2025-07-13</td>\n",
       "      <td>The Renaissance Club</td>\n",
       "      <td>Genesis Scottish Open</td>\n",
       "    </tr>\n",
       "    <tr>\n",
       "      <th>3</th>\n",
       "      <td>Aaron Wise</td>\n",
       "      <td>1</td>\n",
       "      <td>5.0</td>\n",
       "      <td>7.21</td>\n",
       "      <td>2025-07-13</td>\n",
       "      <td>The Renaissance Club</td>\n",
       "      <td>Genesis Scottish Open</td>\n",
       "    </tr>\n",
       "    <tr>\n",
       "      <th>4</th>\n",
       "      <td>Abraham Ancer</td>\n",
       "      <td>1</td>\n",
       "      <td>14.0</td>\n",
       "      <td>20.20</td>\n",
       "      <td>2025-07-13</td>\n",
       "      <td>The Renaissance Club</td>\n",
       "      <td>Genesis Scottish Open</td>\n",
       "    </tr>\n",
       "    <tr>\n",
       "      <th>5</th>\n",
       "      <td>Adam Hadwin</td>\n",
       "      <td>1</td>\n",
       "      <td>34.0</td>\n",
       "      <td>49.05</td>\n",
       "      <td>2025-07-13</td>\n",
       "      <td>The Renaissance Club</td>\n",
       "      <td>Genesis Scottish Open</td>\n",
       "    </tr>\n",
       "    <tr>\n",
       "      <th>6</th>\n",
       "      <td>Adam Scott</td>\n",
       "      <td>3</td>\n",
       "      <td>32.3</td>\n",
       "      <td>23.30</td>\n",
       "      <td>2025-07-13</td>\n",
       "      <td>The Renaissance Club</td>\n",
       "      <td>Genesis Scottish Open</td>\n",
       "    </tr>\n",
       "    <tr>\n",
       "      <th>7</th>\n",
       "      <td>Adria Arnaus</td>\n",
       "      <td>2</td>\n",
       "      <td>79.0</td>\n",
       "      <td>71.91</td>\n",
       "      <td>2025-07-13</td>\n",
       "      <td>The Renaissance Club</td>\n",
       "      <td>Genesis Scottish Open</td>\n",
       "    </tr>\n",
       "    <tr>\n",
       "      <th>8</th>\n",
       "      <td>Adrian Meronk</td>\n",
       "      <td>1</td>\n",
       "      <td>90.0</td>\n",
       "      <td>129.84</td>\n",
       "      <td>2025-07-13</td>\n",
       "      <td>The Renaissance Club</td>\n",
       "      <td>Genesis Scottish Open</td>\n",
       "    </tr>\n",
       "    <tr>\n",
       "      <th>9</th>\n",
       "      <td>Adrian Otaegui</td>\n",
       "      <td>2</td>\n",
       "      <td>90.0</td>\n",
       "      <td>81.92</td>\n",
       "      <td>2025-07-13</td>\n",
       "      <td>The Renaissance Club</td>\n",
       "      <td>Genesis Scottish Open</td>\n",
       "    </tr>\n",
       "  </tbody>\n",
       "</table>\n",
       "</div>"
      ],
      "text/plain": [
       "            PLAYER  TOTAL_EVENTS_PLAYED  COURSE_HISTORY  adj_ch ENDING_DATE  \\\n",
       "0   Aaron Baddeley                    1            90.0  129.84  2025-07-13   \n",
       "1  Aaron Cockerill                    1            90.0  129.84  2025-07-13   \n",
       "2        Aaron Rai                    2            47.0   42.78  2025-07-13   \n",
       "3       Aaron Wise                    1             5.0    7.21  2025-07-13   \n",
       "4    Abraham Ancer                    1            14.0   20.20  2025-07-13   \n",
       "5      Adam Hadwin                    1            34.0   49.05  2025-07-13   \n",
       "6       Adam Scott                    3            32.3   23.30  2025-07-13   \n",
       "7     Adria Arnaus                    2            79.0   71.91  2025-07-13   \n",
       "8    Adrian Meronk                    1            90.0  129.84  2025-07-13   \n",
       "9   Adrian Otaegui                    2            90.0   81.92  2025-07-13   \n",
       "\n",
       "                 COURSE             TOURNAMENT  \n",
       "0  The Renaissance Club  Genesis Scottish Open  \n",
       "1  The Renaissance Club  Genesis Scottish Open  \n",
       "2  The Renaissance Club  Genesis Scottish Open  \n",
       "3  The Renaissance Club  Genesis Scottish Open  \n",
       "4  The Renaissance Club  Genesis Scottish Open  \n",
       "5  The Renaissance Club  Genesis Scottish Open  \n",
       "6  The Renaissance Club  Genesis Scottish Open  \n",
       "7  The Renaissance Club  Genesis Scottish Open  \n",
       "8  The Renaissance Club  Genesis Scottish Open  \n",
       "9  The Renaissance Club  Genesis Scottish Open  "
      ]
     },
     "execution_count": 32,
     "metadata": {},
     "output_type": "execute_result"
    }
   ],
   "source": [
    "importlib.reload(utils.db_utils)\n",
    "from utils.db_utils import get_course_history\n",
    "\n",
    "course_hist = get_course_history(db_path, this_week_history, lookback_years=7)\n",
    "course_hist_current = course_hist[this_week_key].copy()\n",
    "\n",
    "course_hist_current.head(10)\n"
   ]
  },
  {
   "cell_type": "markdown",
   "id": "cff50c6a",
   "metadata": {},
   "source": [
    "## Merged Dataframe"
   ]
  },
  {
   "cell_type": "code",
   "execution_count": 33,
   "id": "4ea0e7da",
   "metadata": {},
   "outputs": [
    {
     "data": {
      "text/html": [
       "<div>\n",
       "<style scoped>\n",
       "    .dataframe tbody tr th:only-of-type {\n",
       "        vertical-align: middle;\n",
       "    }\n",
       "\n",
       "    .dataframe tbody tr th {\n",
       "        vertical-align: top;\n",
       "    }\n",
       "\n",
       "    .dataframe thead th {\n",
       "        text-align: right;\n",
       "    }\n",
       "</style>\n",
       "<table border=\"1\" class=\"dataframe\">\n",
       "  <thead>\n",
       "    <tr style=\"text-align: right;\">\n",
       "      <th></th>\n",
       "      <th>PLAYER</th>\n",
       "      <th>SGTTG_RANK</th>\n",
       "      <th>SGTTG</th>\n",
       "      <th>SGOTT_RANK</th>\n",
       "      <th>SGOTT</th>\n",
       "      <th>SGAPR_RANK</th>\n",
       "      <th>SGAPR</th>\n",
       "      <th>SGATG_RANK</th>\n",
       "      <th>SGATG</th>\n",
       "      <th>SGP_RANK</th>\n",
       "      <th>SGP</th>\n",
       "      <th>BIRDIES_RANK</th>\n",
       "      <th>BIRDIES</th>\n",
       "      <th>PAR_3_RANK</th>\n",
       "      <th>PAR_3</th>\n",
       "      <th>PAR_4_RANK</th>\n",
       "      <th>PAR_4</th>\n",
       "      <th>PAR_5_RANK</th>\n",
       "      <th>PAR_5</th>\n",
       "      <th>TOTAL_DRIVING_RANK</th>\n",
       "      <th>TOTAL_DRIVING</th>\n",
       "      <th>DRIVING_DISTANCE_RANK</th>\n",
       "      <th>DRIVING_DISTANCE</th>\n",
       "      <th>DRIVING_ACCURACY_RANK</th>\n",
       "      <th>DRIVING_ACCURACY</th>\n",
       "      <th>GIR_RANK</th>\n",
       "      <th>GIR</th>\n",
       "      <th>SCRAMBLING_RANK</th>\n",
       "      <th>SCRAMBLING</th>\n",
       "      <th>OWGR_RANK</th>\n",
       "      <th>OWGR</th>\n",
       "      <th>SEASON</th>\n",
       "      <th>VEGAS_ODDS</th>\n",
       "      <th>CUT_PERCENTAGE</th>\n",
       "      <th>FEDEX_CUP_POINTS</th>\n",
       "      <th>form_density</th>\n",
       "      <th>CONSECUTIVE_CUTS</th>\n",
       "      <th>RECENT_FORM</th>\n",
       "      <th>adj_form</th>\n",
       "      <th>COURSE_HISTORY</th>\n",
       "      <th>adj_ch</th>\n",
       "      <th>SALARY</th>\n",
       "    </tr>\n",
       "  </thead>\n",
       "  <tbody>\n",
       "    <tr>\n",
       "      <th>0</th>\n",
       "      <td>Aaron Cockerill</td>\n",
       "      <td>NaN</td>\n",
       "      <td>NaN</td>\n",
       "      <td>NaN</td>\n",
       "      <td>NaN</td>\n",
       "      <td>NaN</td>\n",
       "      <td>NaN</td>\n",
       "      <td>NaN</td>\n",
       "      <td>NaN</td>\n",
       "      <td>NaN</td>\n",
       "      <td>NaN</td>\n",
       "      <td>NaN</td>\n",
       "      <td>NaN</td>\n",
       "      <td>NaN</td>\n",
       "      <td>NaN</td>\n",
       "      <td>NaN</td>\n",
       "      <td>NaN</td>\n",
       "      <td>NaN</td>\n",
       "      <td>NaN</td>\n",
       "      <td>NaN</td>\n",
       "      <td>NaN</td>\n",
       "      <td>NaN</td>\n",
       "      <td>NaN</td>\n",
       "      <td>NaN</td>\n",
       "      <td>NaN</td>\n",
       "      <td>NaN</td>\n",
       "      <td>NaN</td>\n",
       "      <td>NaN</td>\n",
       "      <td>NaN</td>\n",
       "      <td>327.0</td>\n",
       "      <td>.4381</td>\n",
       "      <td>2025.0</td>\n",
       "      <td>1000.0</td>\n",
       "      <td>NaN</td>\n",
       "      <td>NaN</td>\n",
       "      <td>NaN</td>\n",
       "      <td>NaN</td>\n",
       "      <td>NaN</td>\n",
       "      <td>NaN</td>\n",
       "      <td>90.0</td>\n",
       "      <td>129.84</td>\n",
       "      <td>6100</td>\n",
       "    </tr>\n",
       "    <tr>\n",
       "      <th>1</th>\n",
       "      <td>Aaron Rai</td>\n",
       "      <td>27.0</td>\n",
       "      <td>0.769</td>\n",
       "      <td>22.0</td>\n",
       "      <td>0.407</td>\n",
       "      <td>46.0</td>\n",
       "      <td>0.280</td>\n",
       "      <td>64.0</td>\n",
       "      <td>0.082</td>\n",
       "      <td>117.0</td>\n",
       "      <td>-0.086</td>\n",
       "      <td>82.0</td>\n",
       "      <td>21.92%</td>\n",
       "      <td>172.0</td>\n",
       "      <td>3.19</td>\n",
       "      <td>8.0</td>\n",
       "      <td>3.97</td>\n",
       "      <td>39.0</td>\n",
       "      <td>4.56</td>\n",
       "      <td>71.0</td>\n",
       "      <td>167</td>\n",
       "      <td>166.0</td>\n",
       "      <td>287.3</td>\n",
       "      <td>1.0</td>\n",
       "      <td>74.04%</td>\n",
       "      <td>21.0</td>\n",
       "      <td>69.44%</td>\n",
       "      <td>111.0</td>\n",
       "      <td>58.77%</td>\n",
       "      <td>34.0</td>\n",
       "      <td>2.6185</td>\n",
       "      <td>2025.0</td>\n",
       "      <td>65.0</td>\n",
       "      <td>76.5</td>\n",
       "      <td>660.480</td>\n",
       "      <td>38.85</td>\n",
       "      <td>2.0</td>\n",
       "      <td>38.4</td>\n",
       "      <td>13.29</td>\n",
       "      <td>47.0</td>\n",
       "      <td>42.78</td>\n",
       "      <td>8300</td>\n",
       "    </tr>\n",
       "    <tr>\n",
       "      <th>2</th>\n",
       "      <td>Adam Scott</td>\n",
       "      <td>46.0</td>\n",
       "      <td>0.477</td>\n",
       "      <td>33.0</td>\n",
       "      <td>0.327</td>\n",
       "      <td>99.0</td>\n",
       "      <td>0.020</td>\n",
       "      <td>51.0</td>\n",
       "      <td>0.130</td>\n",
       "      <td>114.0</td>\n",
       "      <td>-0.075</td>\n",
       "      <td>97.0</td>\n",
       "      <td>21.53%</td>\n",
       "      <td>149.0</td>\n",
       "      <td>3.12</td>\n",
       "      <td>117.0</td>\n",
       "      <td>4.04</td>\n",
       "      <td>64.0</td>\n",
       "      <td>4.59</td>\n",
       "      <td>112.0</td>\n",
       "      <td>187</td>\n",
       "      <td>82.0</td>\n",
       "      <td>302.3</td>\n",
       "      <td>105.0</td>\n",
       "      <td>58.48%</td>\n",
       "      <td>134.0</td>\n",
       "      <td>64.35%</td>\n",
       "      <td>122.0</td>\n",
       "      <td>57.79%</td>\n",
       "      <td>42.0</td>\n",
       "      <td>2.3947</td>\n",
       "      <td>2025.0</td>\n",
       "      <td>40.0</td>\n",
       "      <td>84.6</td>\n",
       "      <td>392.203</td>\n",
       "      <td>30.17</td>\n",
       "      <td>6.0</td>\n",
       "      <td>40.2</td>\n",
       "      <td>15.23</td>\n",
       "      <td>32.3</td>\n",
       "      <td>23.30</td>\n",
       "      <td>8600</td>\n",
       "    </tr>\n",
       "    <tr>\n",
       "      <th>3</th>\n",
       "      <td>Adrian Otaegui</td>\n",
       "      <td>NaN</td>\n",
       "      <td>NaN</td>\n",
       "      <td>NaN</td>\n",
       "      <td>NaN</td>\n",
       "      <td>NaN</td>\n",
       "      <td>NaN</td>\n",
       "      <td>NaN</td>\n",
       "      <td>NaN</td>\n",
       "      <td>NaN</td>\n",
       "      <td>NaN</td>\n",
       "      <td>NaN</td>\n",
       "      <td>NaN</td>\n",
       "      <td>NaN</td>\n",
       "      <td>NaN</td>\n",
       "      <td>NaN</td>\n",
       "      <td>NaN</td>\n",
       "      <td>NaN</td>\n",
       "      <td>NaN</td>\n",
       "      <td>NaN</td>\n",
       "      <td>NaN</td>\n",
       "      <td>NaN</td>\n",
       "      <td>NaN</td>\n",
       "      <td>NaN</td>\n",
       "      <td>NaN</td>\n",
       "      <td>NaN</td>\n",
       "      <td>NaN</td>\n",
       "      <td>NaN</td>\n",
       "      <td>NaN</td>\n",
       "      <td>302.0</td>\n",
       "      <td>.4774</td>\n",
       "      <td>2025.0</td>\n",
       "      <td>1000.0</td>\n",
       "      <td>NaN</td>\n",
       "      <td>NaN</td>\n",
       "      <td>NaN</td>\n",
       "      <td>NaN</td>\n",
       "      <td>NaN</td>\n",
       "      <td>NaN</td>\n",
       "      <td>90.0</td>\n",
       "      <td>81.92</td>\n",
       "      <td>6100</td>\n",
       "    </tr>\n",
       "    <tr>\n",
       "      <th>4</th>\n",
       "      <td>Adrien Saddier</td>\n",
       "      <td>NaN</td>\n",
       "      <td>NaN</td>\n",
       "      <td>NaN</td>\n",
       "      <td>NaN</td>\n",
       "      <td>NaN</td>\n",
       "      <td>NaN</td>\n",
       "      <td>NaN</td>\n",
       "      <td>NaN</td>\n",
       "      <td>NaN</td>\n",
       "      <td>NaN</td>\n",
       "      <td>NaN</td>\n",
       "      <td>NaN</td>\n",
       "      <td>NaN</td>\n",
       "      <td>NaN</td>\n",
       "      <td>NaN</td>\n",
       "      <td>NaN</td>\n",
       "      <td>NaN</td>\n",
       "      <td>NaN</td>\n",
       "      <td>NaN</td>\n",
       "      <td>NaN</td>\n",
       "      <td>NaN</td>\n",
       "      <td>NaN</td>\n",
       "      <td>NaN</td>\n",
       "      <td>NaN</td>\n",
       "      <td>NaN</td>\n",
       "      <td>NaN</td>\n",
       "      <td>NaN</td>\n",
       "      <td>NaN</td>\n",
       "      <td>134.0</td>\n",
       "      <td>1.0914</td>\n",
       "      <td>2025.0</td>\n",
       "      <td>350.0</td>\n",
       "      <td>NaN</td>\n",
       "      <td>NaN</td>\n",
       "      <td>NaN</td>\n",
       "      <td>NaN</td>\n",
       "      <td>NaN</td>\n",
       "      <td>NaN</td>\n",
       "      <td>NaN</td>\n",
       "      <td>NaN</td>\n",
       "      <td>6600</td>\n",
       "    </tr>\n",
       "  </tbody>\n",
       "</table>\n",
       "</div>"
      ],
      "text/plain": [
       "            PLAYER  SGTTG_RANK  SGTTG  SGOTT_RANK  SGOTT  SGAPR_RANK  SGAPR  \\\n",
       "0  Aaron Cockerill         NaN    NaN         NaN    NaN         NaN    NaN   \n",
       "1        Aaron Rai        27.0  0.769        22.0  0.407        46.0  0.280   \n",
       "2       Adam Scott        46.0  0.477        33.0  0.327        99.0  0.020   \n",
       "3   Adrian Otaegui         NaN    NaN         NaN    NaN         NaN    NaN   \n",
       "4   Adrien Saddier         NaN    NaN         NaN    NaN         NaN    NaN   \n",
       "\n",
       "   SGATG_RANK  SGATG  SGP_RANK     SGP  BIRDIES_RANK BIRDIES  PAR_3_RANK  \\\n",
       "0         NaN    NaN       NaN     NaN           NaN     NaN         NaN   \n",
       "1        64.0  0.082     117.0  -0.086          82.0  21.92%       172.0   \n",
       "2        51.0  0.130     114.0  -0.075          97.0  21.53%       149.0   \n",
       "3         NaN    NaN       NaN     NaN           NaN     NaN         NaN   \n",
       "4         NaN    NaN       NaN     NaN           NaN     NaN         NaN   \n",
       "\n",
       "  PAR_3  PAR_4_RANK PAR_4  PAR_5_RANK PAR_5  TOTAL_DRIVING_RANK TOTAL_DRIVING  \\\n",
       "0   NaN         NaN   NaN         NaN   NaN                 NaN           NaN   \n",
       "1  3.19         8.0  3.97        39.0  4.56                71.0           167   \n",
       "2  3.12       117.0  4.04        64.0  4.59               112.0           187   \n",
       "3   NaN         NaN   NaN         NaN   NaN                 NaN           NaN   \n",
       "4   NaN         NaN   NaN         NaN   NaN                 NaN           NaN   \n",
       "\n",
       "   DRIVING_DISTANCE_RANK DRIVING_DISTANCE  DRIVING_ACCURACY_RANK  \\\n",
       "0                    NaN              NaN                    NaN   \n",
       "1                  166.0            287.3                    1.0   \n",
       "2                   82.0            302.3                  105.0   \n",
       "3                    NaN              NaN                    NaN   \n",
       "4                    NaN              NaN                    NaN   \n",
       "\n",
       "  DRIVING_ACCURACY  GIR_RANK     GIR  SCRAMBLING_RANK SCRAMBLING  OWGR_RANK  \\\n",
       "0              NaN       NaN     NaN              NaN        NaN      327.0   \n",
       "1           74.04%      21.0  69.44%            111.0     58.77%       34.0   \n",
       "2           58.48%     134.0  64.35%            122.0     57.79%       42.0   \n",
       "3              NaN       NaN     NaN              NaN        NaN      302.0   \n",
       "4              NaN       NaN     NaN              NaN        NaN      134.0   \n",
       "\n",
       "     OWGR  SEASON  VEGAS_ODDS  CUT_PERCENTAGE  FEDEX_CUP_POINTS  form_density  \\\n",
       "0   .4381  2025.0      1000.0             NaN               NaN           NaN   \n",
       "1  2.6185  2025.0        65.0            76.5           660.480         38.85   \n",
       "2  2.3947  2025.0        40.0            84.6           392.203         30.17   \n",
       "3   .4774  2025.0      1000.0             NaN               NaN           NaN   \n",
       "4  1.0914  2025.0       350.0             NaN               NaN           NaN   \n",
       "\n",
       "   CONSECUTIVE_CUTS  RECENT_FORM  adj_form  COURSE_HISTORY  adj_ch  SALARY  \n",
       "0               NaN          NaN       NaN            90.0  129.84    6100  \n",
       "1               2.0         38.4     13.29            47.0   42.78    8300  \n",
       "2               6.0         40.2     15.23            32.3   23.30    8600  \n",
       "3               NaN          NaN       NaN            90.0   81.92    6100  \n",
       "4               NaN          NaN       NaN             NaN     NaN    6600  "
      ]
     },
     "execution_count": 33,
     "metadata": {},
     "output_type": "execute_result"
    }
   ],
   "source": [
    "importlib.reload(utils.db_utils)\n",
    "from utils.db_utils import build_test_rows\n",
    "\n",
    "this_week = build_test_rows(\n",
    "    db_path=db_path,\n",
    "    stats_df=stats_df,\n",
    "    odds_df=odds_current,\n",
    "    cuts_df=cuts_current,\n",
    "    recent_form_df=recent_form_current,\n",
    "    course_hist_df=course_hist_current,\n",
    "    dk_df=dk,\n",
    "    season=tournament_config[\"new\"][\"season\"]\n",
    ")\n",
    "\n",
    "this_week.head()"
   ]
  },
  {
   "cell_type": "markdown",
   "id": "e30b6643",
   "metadata": {},
   "source": [
    "### Dataframe Normalization\n",
    "\n",
    "Run the same normalization techniques that I ran on the historical data:\n",
    "- Any NaN Odds go to 1000/1 and clip all values at 1000/1\n",
    "- OWGR NaN values go to 1000\n",
    "- Recent form NaN values act like a MC at 90\n",
    "- Average everything else."
   ]
  },
  {
   "cell_type": "code",
   "execution_count": 34,
   "id": "cfea9168",
   "metadata": {},
   "outputs": [],
   "source": [
    "# === 1. Clean percentage stats stored as strings like '62.5%' ===\n",
    "percent_stats = [\"SCRAMBLING\", \"DRIVING_ACCURACY\", \"BIRDIES\", \"GIR\"]\n",
    "\n",
    "for col in percent_stats:\n",
    "    if col in this_week.columns:\n",
    "        this_week[col] = (\n",
    "            this_week[col]\n",
    "            .astype(str)\n",
    "            .str.replace('%', '', regex=False)\n",
    "            .replace(['None', 'nan', 'NaN', '--', 'DNP', ''], np.nan)\n",
    "        )\n",
    "        this_week[col] = pd.to_numeric(this_week[col], errors=\"coerce\")\n",
    "\n",
    "# === 2. Normalize & assign fallback values for key fields ===\n",
    "this_week[\"VEGAS_ODDS\"] = pd.to_numeric(this_week[\"VEGAS_ODDS\"], errors=\"coerce\").fillna(1000).clip(upper=1000)\n",
    "\n",
    "if \"OWGR\" in this_week.columns:\n",
    "    this_week[\"OWGR\"] = pd.to_numeric(this_week[\"OWGR\"], errors=\"coerce\")\n",
    "    max_owgr = this_week[\"OWGR\"].dropna().max()\n",
    "    this_week[\"OWGR\"] = this_week[\"OWGR\"].fillna(max_owgr).clip(upper=1000)\n",
    "\n",
    "if \"OWGR_RANK\" in this_week.columns:\n",
    "    this_week[\"OWGR_RANK\"] = pd.to_numeric(this_week[\"OWGR_RANK\"], errors=\"coerce\").fillna(1000).clip(upper=1000)\n",
    "\n",
    "this_week[\"RECENT_FORM\"] = pd.to_numeric(this_week[\"RECENT_FORM\"], errors=\"coerce\").fillna(90)\n",
    "this_week[\"FEDEX_CUP_POINTS\"] = pd.to_numeric(this_week[\"FEDEX_CUP_POINTS\"], errors=\"coerce\").fillna(0)\n",
    "\n",
    "if \"COURSE_HISTORY\" in this_week.columns:\n",
    "    this_week[\"COURSE_HISTORY\"] = pd.to_numeric(this_week[\"COURSE_HISTORY\"], errors=\"coerce\")\n",
    "    ch_mean = this_week[\"COURSE_HISTORY\"].mean()\n",
    "    this_week[\"COURSE_HISTORY\"] = this_week[\"COURSE_HISTORY\"].fillna(ch_mean)\n",
    "\n",
    "# === 3. Fill all remaining NaNs in numeric columns ===\n",
    "# Recast everything that might look numeric to be sure\n",
    "for col in this_week.columns:\n",
    "    if col not in [\"PLAYER\", \"SALARY\", \"TOURNAMENT\", \"SEASON\"]:\n",
    "        try:\n",
    "            this_week[col] = pd.to_numeric(this_week[col], errors=\"coerce\")\n",
    "        except Exception:\n",
    "            continue\n",
    "\n",
    "numeric_cols = this_week.select_dtypes(include=[\"number\"]).columns.tolist()\n",
    "\n",
    "for col in numeric_cols:\n",
    "    if this_week[col].isna().any():\n",
    "        col_mean = this_week[col].mean()\n",
    "        this_week[col] = this_week[col].fillna(col_mean if not np.isnan(col_mean) else 0)\n"
   ]
  },
  {
   "cell_type": "code",
   "execution_count": 35,
   "id": "4b122fc3",
   "metadata": {},
   "outputs": [],
   "source": [
    "# === Final Check: No NaNs Should Remain ===\n",
    "assert this_week.isna().sum().sum() == 0, \"🚨 Still missing values in prediction set!\""
   ]
  },
  {
   "cell_type": "code",
   "execution_count": 36,
   "id": "b75f2cff",
   "metadata": {},
   "outputs": [
    {
     "name": "stdout",
     "output_type": "stream",
     "text": [
      "🧹 Columns still containing NaN values:\n"
     ]
    },
    {
     "data": {
      "text/plain": [
       "Series([], dtype: int64)"
      ]
     },
     "metadata": {},
     "output_type": "display_data"
    }
   ],
   "source": [
    "# === Check for Remaining Missing Values ===\n",
    "missing_summary = this_week.isna().sum()\n",
    "missing_summary = missing_summary[missing_summary > 0].sort_values(ascending=False)\n",
    "\n",
    "print(\"🧹 Columns still containing NaN values:\")\n",
    "display(missing_summary)"
   ]
  },
  {
   "cell_type": "code",
   "execution_count": 37,
   "id": "cc925bbf",
   "metadata": {},
   "outputs": [
    {
     "data": {
      "text/html": [
       "<div>\n",
       "<style scoped>\n",
       "    .dataframe tbody tr th:only-of-type {\n",
       "        vertical-align: middle;\n",
       "    }\n",
       "\n",
       "    .dataframe tbody tr th {\n",
       "        vertical-align: top;\n",
       "    }\n",
       "\n",
       "    .dataframe thead th {\n",
       "        text-align: right;\n",
       "    }\n",
       "</style>\n",
       "<table border=\"1\" class=\"dataframe\">\n",
       "  <thead>\n",
       "    <tr style=\"text-align: right;\">\n",
       "      <th></th>\n",
       "      <th>PLAYER</th>\n",
       "      <th>SGTTG_RANK</th>\n",
       "      <th>SGTTG</th>\n",
       "      <th>SGOTT_RANK</th>\n",
       "      <th>SGOTT</th>\n",
       "      <th>SGAPR_RANK</th>\n",
       "      <th>SGAPR</th>\n",
       "      <th>SGATG_RANK</th>\n",
       "      <th>SGATG</th>\n",
       "      <th>SGP_RANK</th>\n",
       "      <th>SGP</th>\n",
       "      <th>BIRDIES_RANK</th>\n",
       "      <th>BIRDIES</th>\n",
       "      <th>PAR_3_RANK</th>\n",
       "      <th>PAR_3</th>\n",
       "      <th>PAR_4_RANK</th>\n",
       "      <th>PAR_4</th>\n",
       "      <th>PAR_5_RANK</th>\n",
       "      <th>PAR_5</th>\n",
       "      <th>TOTAL_DRIVING_RANK</th>\n",
       "      <th>TOTAL_DRIVING</th>\n",
       "      <th>DRIVING_DISTANCE_RANK</th>\n",
       "      <th>DRIVING_DISTANCE</th>\n",
       "      <th>DRIVING_ACCURACY_RANK</th>\n",
       "      <th>DRIVING_ACCURACY</th>\n",
       "      <th>GIR_RANK</th>\n",
       "      <th>GIR</th>\n",
       "      <th>SCRAMBLING_RANK</th>\n",
       "      <th>SCRAMBLING</th>\n",
       "      <th>OWGR_RANK</th>\n",
       "      <th>OWGR</th>\n",
       "      <th>SEASON</th>\n",
       "      <th>VEGAS_ODDS</th>\n",
       "      <th>CUT_PERCENTAGE</th>\n",
       "      <th>FEDEX_CUP_POINTS</th>\n",
       "      <th>form_density</th>\n",
       "      <th>CONSECUTIVE_CUTS</th>\n",
       "      <th>RECENT_FORM</th>\n",
       "      <th>adj_form</th>\n",
       "      <th>COURSE_HISTORY</th>\n",
       "      <th>adj_ch</th>\n",
       "      <th>SALARY</th>\n",
       "    </tr>\n",
       "  </thead>\n",
       "  <tbody>\n",
       "    <tr>\n",
       "      <th>0</th>\n",
       "      <td>Aaron Cockerill</td>\n",
       "      <td>67.947368</td>\n",
       "      <td>0.343711</td>\n",
       "      <td>75.25</td>\n",
       "      <td>0.1205</td>\n",
       "      <td>73.828947</td>\n",
       "      <td>0.170961</td>\n",
       "      <td>80.013158</td>\n",
       "      <td>0.052211</td>\n",
       "      <td>76.618421</td>\n",
       "      <td>0.103553</td>\n",
       "      <td>73.657895</td>\n",
       "      <td>22.309737</td>\n",
       "      <td>88.0</td>\n",
       "      <td>3.066579</td>\n",
       "      <td>64.078947</td>\n",
       "      <td>4.010132</td>\n",
       "      <td>74.105263</td>\n",
       "      <td>4.59</td>\n",
       "      <td>78.789474</td>\n",
       "      <td>167.447368</td>\n",
       "      <td>83.921053</td>\n",
       "      <td>302.281579</td>\n",
       "      <td>83.526316</td>\n",
       "      <td>60.711053</td>\n",
       "      <td>83.592105</td>\n",
       "      <td>66.382368</td>\n",
       "      <td>84.631579</td>\n",
       "      <td>59.967763</td>\n",
       "      <td>327.0</td>\n",
       "      <td>0.4381</td>\n",
       "      <td>2025.0</td>\n",
       "      <td>1000.0</td>\n",
       "      <td>62.981053</td>\n",
       "      <td>0.000</td>\n",
       "      <td>40.820737</td>\n",
       "      <td>2.494737</td>\n",
       "      <td>90.0</td>\n",
       "      <td>27.400105</td>\n",
       "      <td>90.000000</td>\n",
       "      <td>129.840000</td>\n",
       "      <td>6100</td>\n",
       "    </tr>\n",
       "    <tr>\n",
       "      <th>1</th>\n",
       "      <td>Aaron Rai</td>\n",
       "      <td>27.000000</td>\n",
       "      <td>0.769000</td>\n",
       "      <td>22.00</td>\n",
       "      <td>0.4070</td>\n",
       "      <td>46.000000</td>\n",
       "      <td>0.280000</td>\n",
       "      <td>64.000000</td>\n",
       "      <td>0.082000</td>\n",
       "      <td>117.000000</td>\n",
       "      <td>-0.086000</td>\n",
       "      <td>82.000000</td>\n",
       "      <td>21.920000</td>\n",
       "      <td>172.0</td>\n",
       "      <td>3.190000</td>\n",
       "      <td>8.000000</td>\n",
       "      <td>3.970000</td>\n",
       "      <td>39.000000</td>\n",
       "      <td>4.56</td>\n",
       "      <td>71.000000</td>\n",
       "      <td>167.000000</td>\n",
       "      <td>166.000000</td>\n",
       "      <td>287.300000</td>\n",
       "      <td>1.000000</td>\n",
       "      <td>74.040000</td>\n",
       "      <td>21.000000</td>\n",
       "      <td>69.440000</td>\n",
       "      <td>111.000000</td>\n",
       "      <td>58.770000</td>\n",
       "      <td>34.0</td>\n",
       "      <td>2.6185</td>\n",
       "      <td>2025.0</td>\n",
       "      <td>65.0</td>\n",
       "      <td>76.500000</td>\n",
       "      <td>660.480</td>\n",
       "      <td>38.850000</td>\n",
       "      <td>2.000000</td>\n",
       "      <td>38.4</td>\n",
       "      <td>13.290000</td>\n",
       "      <td>47.000000</td>\n",
       "      <td>42.780000</td>\n",
       "      <td>8300</td>\n",
       "    </tr>\n",
       "    <tr>\n",
       "      <th>2</th>\n",
       "      <td>Adam Scott</td>\n",
       "      <td>46.000000</td>\n",
       "      <td>0.477000</td>\n",
       "      <td>33.00</td>\n",
       "      <td>0.3270</td>\n",
       "      <td>99.000000</td>\n",
       "      <td>0.020000</td>\n",
       "      <td>51.000000</td>\n",
       "      <td>0.130000</td>\n",
       "      <td>114.000000</td>\n",
       "      <td>-0.075000</td>\n",
       "      <td>97.000000</td>\n",
       "      <td>21.530000</td>\n",
       "      <td>149.0</td>\n",
       "      <td>3.120000</td>\n",
       "      <td>117.000000</td>\n",
       "      <td>4.040000</td>\n",
       "      <td>64.000000</td>\n",
       "      <td>4.59</td>\n",
       "      <td>112.000000</td>\n",
       "      <td>187.000000</td>\n",
       "      <td>82.000000</td>\n",
       "      <td>302.300000</td>\n",
       "      <td>105.000000</td>\n",
       "      <td>58.480000</td>\n",
       "      <td>134.000000</td>\n",
       "      <td>64.350000</td>\n",
       "      <td>122.000000</td>\n",
       "      <td>57.790000</td>\n",
       "      <td>42.0</td>\n",
       "      <td>2.3947</td>\n",
       "      <td>2025.0</td>\n",
       "      <td>40.0</td>\n",
       "      <td>84.600000</td>\n",
       "      <td>392.203</td>\n",
       "      <td>30.170000</td>\n",
       "      <td>6.000000</td>\n",
       "      <td>40.2</td>\n",
       "      <td>15.230000</td>\n",
       "      <td>32.300000</td>\n",
       "      <td>23.300000</td>\n",
       "      <td>8600</td>\n",
       "    </tr>\n",
       "    <tr>\n",
       "      <th>3</th>\n",
       "      <td>Adrian Otaegui</td>\n",
       "      <td>67.947368</td>\n",
       "      <td>0.343711</td>\n",
       "      <td>75.25</td>\n",
       "      <td>0.1205</td>\n",
       "      <td>73.828947</td>\n",
       "      <td>0.170961</td>\n",
       "      <td>80.013158</td>\n",
       "      <td>0.052211</td>\n",
       "      <td>76.618421</td>\n",
       "      <td>0.103553</td>\n",
       "      <td>73.657895</td>\n",
       "      <td>22.309737</td>\n",
       "      <td>88.0</td>\n",
       "      <td>3.066579</td>\n",
       "      <td>64.078947</td>\n",
       "      <td>4.010132</td>\n",
       "      <td>74.105263</td>\n",
       "      <td>4.59</td>\n",
       "      <td>78.789474</td>\n",
       "      <td>167.447368</td>\n",
       "      <td>83.921053</td>\n",
       "      <td>302.281579</td>\n",
       "      <td>83.526316</td>\n",
       "      <td>60.711053</td>\n",
       "      <td>83.592105</td>\n",
       "      <td>66.382368</td>\n",
       "      <td>84.631579</td>\n",
       "      <td>59.967763</td>\n",
       "      <td>302.0</td>\n",
       "      <td>0.4774</td>\n",
       "      <td>2025.0</td>\n",
       "      <td>1000.0</td>\n",
       "      <td>62.981053</td>\n",
       "      <td>0.000</td>\n",
       "      <td>40.820737</td>\n",
       "      <td>2.494737</td>\n",
       "      <td>90.0</td>\n",
       "      <td>27.400105</td>\n",
       "      <td>90.000000</td>\n",
       "      <td>81.920000</td>\n",
       "      <td>6100</td>\n",
       "    </tr>\n",
       "    <tr>\n",
       "      <th>4</th>\n",
       "      <td>Adrien Saddier</td>\n",
       "      <td>67.947368</td>\n",
       "      <td>0.343711</td>\n",
       "      <td>75.25</td>\n",
       "      <td>0.1205</td>\n",
       "      <td>73.828947</td>\n",
       "      <td>0.170961</td>\n",
       "      <td>80.013158</td>\n",
       "      <td>0.052211</td>\n",
       "      <td>76.618421</td>\n",
       "      <td>0.103553</td>\n",
       "      <td>73.657895</td>\n",
       "      <td>22.309737</td>\n",
       "      <td>88.0</td>\n",
       "      <td>3.066579</td>\n",
       "      <td>64.078947</td>\n",
       "      <td>4.010132</td>\n",
       "      <td>74.105263</td>\n",
       "      <td>4.59</td>\n",
       "      <td>78.789474</td>\n",
       "      <td>167.447368</td>\n",
       "      <td>83.921053</td>\n",
       "      <td>302.281579</td>\n",
       "      <td>83.526316</td>\n",
       "      <td>60.711053</td>\n",
       "      <td>83.592105</td>\n",
       "      <td>66.382368</td>\n",
       "      <td>84.631579</td>\n",
       "      <td>59.967763</td>\n",
       "      <td>134.0</td>\n",
       "      <td>1.0914</td>\n",
       "      <td>2025.0</td>\n",
       "      <td>350.0</td>\n",
       "      <td>62.981053</td>\n",
       "      <td>0.000</td>\n",
       "      <td>40.820737</td>\n",
       "      <td>2.494737</td>\n",
       "      <td>90.0</td>\n",
       "      <td>27.400105</td>\n",
       "      <td>58.427451</td>\n",
       "      <td>65.226961</td>\n",
       "      <td>6600</td>\n",
       "    </tr>\n",
       "    <tr>\n",
       "      <th>5</th>\n",
       "      <td>Aldrich Potgieter</td>\n",
       "      <td>68.000000</td>\n",
       "      <td>0.292000</td>\n",
       "      <td>2.00</td>\n",
       "      <td>0.7300</td>\n",
       "      <td>121.000000</td>\n",
       "      <td>-0.111000</td>\n",
       "      <td>158.000000</td>\n",
       "      <td>-0.327000</td>\n",
       "      <td>55.000000</td>\n",
       "      <td>0.180000</td>\n",
       "      <td>21.000000</td>\n",
       "      <td>23.810000</td>\n",
       "      <td>97.0</td>\n",
       "      <td>3.070000</td>\n",
       "      <td>61.000000</td>\n",
       "      <td>4.010000</td>\n",
       "      <td>134.000000</td>\n",
       "      <td>4.65</td>\n",
       "      <td>30.000000</td>\n",
       "      <td>135.000000</td>\n",
       "      <td>1.000000</td>\n",
       "      <td>328.400000</td>\n",
       "      <td>134.000000</td>\n",
       "      <td>56.030000</td>\n",
       "      <td>96.000000</td>\n",
       "      <td>65.870000</td>\n",
       "      <td>172.000000</td>\n",
       "      <td>51.940000</td>\n",
       "      <td>50.0</td>\n",
       "      <td>2.1493</td>\n",
       "      <td>2025.0</td>\n",
       "      <td>90.0</td>\n",
       "      <td>38.500000</td>\n",
       "      <td>941.000</td>\n",
       "      <td>72.380000</td>\n",
       "      <td>0.000000</td>\n",
       "      <td>60.8</td>\n",
       "      <td>23.040000</td>\n",
       "      <td>58.427451</td>\n",
       "      <td>65.226961</td>\n",
       "      <td>7200</td>\n",
       "    </tr>\n",
       "    <tr>\n",
       "      <th>6</th>\n",
       "      <td>Alejandro Del Rey</td>\n",
       "      <td>67.947368</td>\n",
       "      <td>0.343711</td>\n",
       "      <td>75.25</td>\n",
       "      <td>0.1205</td>\n",
       "      <td>73.828947</td>\n",
       "      <td>0.170961</td>\n",
       "      <td>80.013158</td>\n",
       "      <td>0.052211</td>\n",
       "      <td>76.618421</td>\n",
       "      <td>0.103553</td>\n",
       "      <td>73.657895</td>\n",
       "      <td>22.309737</td>\n",
       "      <td>88.0</td>\n",
       "      <td>3.066579</td>\n",
       "      <td>64.078947</td>\n",
       "      <td>4.010132</td>\n",
       "      <td>74.105263</td>\n",
       "      <td>4.59</td>\n",
       "      <td>78.789474</td>\n",
       "      <td>167.447368</td>\n",
       "      <td>83.921053</td>\n",
       "      <td>302.281579</td>\n",
       "      <td>83.526316</td>\n",
       "      <td>60.711053</td>\n",
       "      <td>83.592105</td>\n",
       "      <td>66.382368</td>\n",
       "      <td>84.631579</td>\n",
       "      <td>59.967763</td>\n",
       "      <td>198.0</td>\n",
       "      <td>0.7287</td>\n",
       "      <td>2025.0</td>\n",
       "      <td>250.0</td>\n",
       "      <td>62.981053</td>\n",
       "      <td>0.000</td>\n",
       "      <td>40.820737</td>\n",
       "      <td>2.494737</td>\n",
       "      <td>90.0</td>\n",
       "      <td>27.400105</td>\n",
       "      <td>15.000000</td>\n",
       "      <td>21.640000</td>\n",
       "      <td>6400</td>\n",
       "    </tr>\n",
       "    <tr>\n",
       "      <th>7</th>\n",
       "      <td>Alejandro Tosti</td>\n",
       "      <td>48.000000</td>\n",
       "      <td>0.464000</td>\n",
       "      <td>27.00</td>\n",
       "      <td>0.3630</td>\n",
       "      <td>128.000000</td>\n",
       "      <td>-0.161000</td>\n",
       "      <td>24.000000</td>\n",
       "      <td>0.261000</td>\n",
       "      <td>168.000000</td>\n",
       "      <td>-0.643000</td>\n",
       "      <td>49.000000</td>\n",
       "      <td>22.560000</td>\n",
       "      <td>112.0</td>\n",
       "      <td>3.080000</td>\n",
       "      <td>61.000000</td>\n",
       "      <td>4.010000</td>\n",
       "      <td>59.000000</td>\n",
       "      <td>4.58</td>\n",
       "      <td>31.000000</td>\n",
       "      <td>136.000000</td>\n",
       "      <td>12.000000</td>\n",
       "      <td>313.600000</td>\n",
       "      <td>124.000000</td>\n",
       "      <td>56.810000</td>\n",
       "      <td>124.000000</td>\n",
       "      <td>64.890000</td>\n",
       "      <td>74.000000</td>\n",
       "      <td>60.440000</td>\n",
       "      <td>153.0</td>\n",
       "      <td>0.8950</td>\n",
       "      <td>2025.0</td>\n",
       "      <td>400.0</td>\n",
       "      <td>42.100000</td>\n",
       "      <td>316.783</td>\n",
       "      <td>16.670000</td>\n",
       "      <td>0.000000</td>\n",
       "      <td>66.4</td>\n",
       "      <td>22.160000</td>\n",
       "      <td>58.427451</td>\n",
       "      <td>65.226961</td>\n",
       "      <td>6500</td>\n",
       "    </tr>\n",
       "    <tr>\n",
       "      <th>8</th>\n",
       "      <td>Alex Fitzpatrick</td>\n",
       "      <td>67.947368</td>\n",
       "      <td>0.343711</td>\n",
       "      <td>75.25</td>\n",
       "      <td>0.1205</td>\n",
       "      <td>73.828947</td>\n",
       "      <td>0.170961</td>\n",
       "      <td>80.013158</td>\n",
       "      <td>0.052211</td>\n",
       "      <td>76.618421</td>\n",
       "      <td>0.103553</td>\n",
       "      <td>73.657895</td>\n",
       "      <td>22.309737</td>\n",
       "      <td>88.0</td>\n",
       "      <td>3.066579</td>\n",
       "      <td>64.078947</td>\n",
       "      <td>4.010132</td>\n",
       "      <td>74.105263</td>\n",
       "      <td>4.59</td>\n",
       "      <td>78.789474</td>\n",
       "      <td>167.447368</td>\n",
       "      <td>83.921053</td>\n",
       "      <td>302.281579</td>\n",
       "      <td>83.526316</td>\n",
       "      <td>60.711053</td>\n",
       "      <td>83.592105</td>\n",
       "      <td>66.382368</td>\n",
       "      <td>84.631579</td>\n",
       "      <td>59.967763</td>\n",
       "      <td>256.0</td>\n",
       "      <td>0.5729</td>\n",
       "      <td>2025.0</td>\n",
       "      <td>350.0</td>\n",
       "      <td>62.981053</td>\n",
       "      <td>0.000</td>\n",
       "      <td>40.820737</td>\n",
       "      <td>2.494737</td>\n",
       "      <td>90.0</td>\n",
       "      <td>27.400105</td>\n",
       "      <td>90.000000</td>\n",
       "      <td>129.840000</td>\n",
       "      <td>6500</td>\n",
       "    </tr>\n",
       "    <tr>\n",
       "      <th>9</th>\n",
       "      <td>Alex Noren</td>\n",
       "      <td>67.947368</td>\n",
       "      <td>0.343711</td>\n",
       "      <td>75.25</td>\n",
       "      <td>0.1205</td>\n",
       "      <td>73.828947</td>\n",
       "      <td>0.170961</td>\n",
       "      <td>80.013158</td>\n",
       "      <td>0.052211</td>\n",
       "      <td>76.618421</td>\n",
       "      <td>0.103553</td>\n",
       "      <td>73.657895</td>\n",
       "      <td>22.309737</td>\n",
       "      <td>88.0</td>\n",
       "      <td>3.066579</td>\n",
       "      <td>64.078947</td>\n",
       "      <td>4.010132</td>\n",
       "      <td>74.105263</td>\n",
       "      <td>4.59</td>\n",
       "      <td>78.789474</td>\n",
       "      <td>167.447368</td>\n",
       "      <td>83.921053</td>\n",
       "      <td>302.281579</td>\n",
       "      <td>83.526316</td>\n",
       "      <td>60.711053</td>\n",
       "      <td>83.592105</td>\n",
       "      <td>66.382368</td>\n",
       "      <td>84.631579</td>\n",
       "      <td>59.967763</td>\n",
       "      <td>81.0</td>\n",
       "      <td>1.5848</td>\n",
       "      <td>2025.0</td>\n",
       "      <td>80.0</td>\n",
       "      <td>66.700000</td>\n",
       "      <td>134.250</td>\n",
       "      <td>22.380000</td>\n",
       "      <td>0.000000</td>\n",
       "      <td>52.8</td>\n",
       "      <td>27.130000</td>\n",
       "      <td>53.000000</td>\n",
       "      <td>38.230000</td>\n",
       "      <td>7500</td>\n",
       "    </tr>\n",
       "  </tbody>\n",
       "</table>\n",
       "</div>"
      ],
      "text/plain": [
       "              PLAYER  SGTTG_RANK     SGTTG  SGOTT_RANK   SGOTT  SGAPR_RANK  \\\n",
       "0    Aaron Cockerill   67.947368  0.343711       75.25  0.1205   73.828947   \n",
       "1          Aaron Rai   27.000000  0.769000       22.00  0.4070   46.000000   \n",
       "2         Adam Scott   46.000000  0.477000       33.00  0.3270   99.000000   \n",
       "3     Adrian Otaegui   67.947368  0.343711       75.25  0.1205   73.828947   \n",
       "4     Adrien Saddier   67.947368  0.343711       75.25  0.1205   73.828947   \n",
       "5  Aldrich Potgieter   68.000000  0.292000        2.00  0.7300  121.000000   \n",
       "6  Alejandro Del Rey   67.947368  0.343711       75.25  0.1205   73.828947   \n",
       "7    Alejandro Tosti   48.000000  0.464000       27.00  0.3630  128.000000   \n",
       "8   Alex Fitzpatrick   67.947368  0.343711       75.25  0.1205   73.828947   \n",
       "9         Alex Noren   67.947368  0.343711       75.25  0.1205   73.828947   \n",
       "\n",
       "      SGAPR  SGATG_RANK     SGATG    SGP_RANK       SGP  BIRDIES_RANK  \\\n",
       "0  0.170961   80.013158  0.052211   76.618421  0.103553     73.657895   \n",
       "1  0.280000   64.000000  0.082000  117.000000 -0.086000     82.000000   \n",
       "2  0.020000   51.000000  0.130000  114.000000 -0.075000     97.000000   \n",
       "3  0.170961   80.013158  0.052211   76.618421  0.103553     73.657895   \n",
       "4  0.170961   80.013158  0.052211   76.618421  0.103553     73.657895   \n",
       "5 -0.111000  158.000000 -0.327000   55.000000  0.180000     21.000000   \n",
       "6  0.170961   80.013158  0.052211   76.618421  0.103553     73.657895   \n",
       "7 -0.161000   24.000000  0.261000  168.000000 -0.643000     49.000000   \n",
       "8  0.170961   80.013158  0.052211   76.618421  0.103553     73.657895   \n",
       "9  0.170961   80.013158  0.052211   76.618421  0.103553     73.657895   \n",
       "\n",
       "     BIRDIES  PAR_3_RANK     PAR_3  PAR_4_RANK     PAR_4  PAR_5_RANK  PAR_5  \\\n",
       "0  22.309737        88.0  3.066579   64.078947  4.010132   74.105263   4.59   \n",
       "1  21.920000       172.0  3.190000    8.000000  3.970000   39.000000   4.56   \n",
       "2  21.530000       149.0  3.120000  117.000000  4.040000   64.000000   4.59   \n",
       "3  22.309737        88.0  3.066579   64.078947  4.010132   74.105263   4.59   \n",
       "4  22.309737        88.0  3.066579   64.078947  4.010132   74.105263   4.59   \n",
       "5  23.810000        97.0  3.070000   61.000000  4.010000  134.000000   4.65   \n",
       "6  22.309737        88.0  3.066579   64.078947  4.010132   74.105263   4.59   \n",
       "7  22.560000       112.0  3.080000   61.000000  4.010000   59.000000   4.58   \n",
       "8  22.309737        88.0  3.066579   64.078947  4.010132   74.105263   4.59   \n",
       "9  22.309737        88.0  3.066579   64.078947  4.010132   74.105263   4.59   \n",
       "\n",
       "   TOTAL_DRIVING_RANK  TOTAL_DRIVING  DRIVING_DISTANCE_RANK  DRIVING_DISTANCE  \\\n",
       "0           78.789474     167.447368              83.921053        302.281579   \n",
       "1           71.000000     167.000000             166.000000        287.300000   \n",
       "2          112.000000     187.000000              82.000000        302.300000   \n",
       "3           78.789474     167.447368              83.921053        302.281579   \n",
       "4           78.789474     167.447368              83.921053        302.281579   \n",
       "5           30.000000     135.000000               1.000000        328.400000   \n",
       "6           78.789474     167.447368              83.921053        302.281579   \n",
       "7           31.000000     136.000000              12.000000        313.600000   \n",
       "8           78.789474     167.447368              83.921053        302.281579   \n",
       "9           78.789474     167.447368              83.921053        302.281579   \n",
       "\n",
       "   DRIVING_ACCURACY_RANK  DRIVING_ACCURACY    GIR_RANK        GIR  \\\n",
       "0              83.526316         60.711053   83.592105  66.382368   \n",
       "1               1.000000         74.040000   21.000000  69.440000   \n",
       "2             105.000000         58.480000  134.000000  64.350000   \n",
       "3              83.526316         60.711053   83.592105  66.382368   \n",
       "4              83.526316         60.711053   83.592105  66.382368   \n",
       "5             134.000000         56.030000   96.000000  65.870000   \n",
       "6              83.526316         60.711053   83.592105  66.382368   \n",
       "7             124.000000         56.810000  124.000000  64.890000   \n",
       "8              83.526316         60.711053   83.592105  66.382368   \n",
       "9              83.526316         60.711053   83.592105  66.382368   \n",
       "\n",
       "   SCRAMBLING_RANK  SCRAMBLING  OWGR_RANK    OWGR  SEASON  VEGAS_ODDS  \\\n",
       "0        84.631579   59.967763      327.0  0.4381  2025.0      1000.0   \n",
       "1       111.000000   58.770000       34.0  2.6185  2025.0        65.0   \n",
       "2       122.000000   57.790000       42.0  2.3947  2025.0        40.0   \n",
       "3        84.631579   59.967763      302.0  0.4774  2025.0      1000.0   \n",
       "4        84.631579   59.967763      134.0  1.0914  2025.0       350.0   \n",
       "5       172.000000   51.940000       50.0  2.1493  2025.0        90.0   \n",
       "6        84.631579   59.967763      198.0  0.7287  2025.0       250.0   \n",
       "7        74.000000   60.440000      153.0  0.8950  2025.0       400.0   \n",
       "8        84.631579   59.967763      256.0  0.5729  2025.0       350.0   \n",
       "9        84.631579   59.967763       81.0  1.5848  2025.0        80.0   \n",
       "\n",
       "   CUT_PERCENTAGE  FEDEX_CUP_POINTS  form_density  CONSECUTIVE_CUTS  \\\n",
       "0       62.981053             0.000     40.820737          2.494737   \n",
       "1       76.500000           660.480     38.850000          2.000000   \n",
       "2       84.600000           392.203     30.170000          6.000000   \n",
       "3       62.981053             0.000     40.820737          2.494737   \n",
       "4       62.981053             0.000     40.820737          2.494737   \n",
       "5       38.500000           941.000     72.380000          0.000000   \n",
       "6       62.981053             0.000     40.820737          2.494737   \n",
       "7       42.100000           316.783     16.670000          0.000000   \n",
       "8       62.981053             0.000     40.820737          2.494737   \n",
       "9       66.700000           134.250     22.380000          0.000000   \n",
       "\n",
       "   RECENT_FORM   adj_form  COURSE_HISTORY      adj_ch  SALARY  \n",
       "0         90.0  27.400105       90.000000  129.840000    6100  \n",
       "1         38.4  13.290000       47.000000   42.780000    8300  \n",
       "2         40.2  15.230000       32.300000   23.300000    8600  \n",
       "3         90.0  27.400105       90.000000   81.920000    6100  \n",
       "4         90.0  27.400105       58.427451   65.226961    6600  \n",
       "5         60.8  23.040000       58.427451   65.226961    7200  \n",
       "6         90.0  27.400105       15.000000   21.640000    6400  \n",
       "7         66.4  22.160000       58.427451   65.226961    6500  \n",
       "8         90.0  27.400105       90.000000  129.840000    6500  \n",
       "9         52.8  27.130000       53.000000   38.230000    7500  "
      ]
     },
     "execution_count": 37,
     "metadata": {},
     "output_type": "execute_result"
    }
   ],
   "source": [
    "this_week.head(10)"
   ]
  },
  {
   "cell_type": "markdown",
   "id": "e37950e7",
   "metadata": {},
   "source": [
    "## Correlations\n",
    "**Last 4 Years**"
   ]
  },
  {
   "cell_type": "code",
   "execution_count": 38,
   "id": "d749a70f",
   "metadata": {},
   "outputs": [
    {
     "data": {
      "application/vnd.plotly.v1+json": {
       "config": {
        "plotlyServerURL": "https://plot.ly"
       },
       "data": [
        {
         "hovertemplate": "Feature=%{x}<br>Correlation=%{y}<extra></extra>",
         "legendgroup": "",
         "marker": {
          "color": "#636efa",
          "pattern": {
           "shape": ""
          }
         },
         "name": "",
         "orientation": "v",
         "showlegend": false,
         "textposition": "auto",
         "type": "bar",
         "x": [
          "OWGR",
          "form_density",
          "DRIVING_DISTANCE",
          "FEDEX_CUP_POINTS",
          "DRIVING_DISTANCE_RANK",
          "RECENT_FORM",
          "TOTAL_DRIVING",
          "SGOTT",
          "PAR_4_RANK",
          "TOTAL_DRIVING_RANK",
          "PAR_5",
          "adj_form",
          "PAR_4",
          "SGTTG",
          "SGTTG_RANK",
          "PAR_5_RANK",
          "VEGAS_ODDS",
          "SGOTT_RANK",
          "OWGR_RANK",
          "GIR_RANK",
          "SGP",
          "BIRDIES",
          "SGAPR",
          "SGP_RANK",
          "SGAPR_RANK",
          "SCRAMBLING_RANK",
          "BIRDIES_RANK",
          "SCRAMBLING",
          "GIR",
          "SGATG_RANK",
          "SGATG",
          "CONSECUTIVE_CUTS",
          "PAR_3",
          "PAR_3_RANK",
          "CUT_PERCENTAGE",
          "DRIVING_ACCURACY",
          "DRIVING_ACCURACY_RANK",
          "COURSE_HISTORY",
          "adj_ch"
         ],
         "xaxis": "x",
         "y": {
          "bdata": "cYhfDpMG1j+6KrVgFKjVP1vBYQ3iG9Q/BnAhVqGp0z8wgYnFISfTPxXdtGXn3dI/DvtLmyNu0j+Q+L/x8NzRP3EGYpXWt9E/ESxKc5SJ0T88BDs7CCHRP3KEt5whG9E/jS6GO9rc0D95lu90B5jPP851eJmdec4/cLED46T0zT+YdL+hotrMP0lsOoSspco/PINTN2Keyj+PQakLjRrKPxGEPr1alsg/d5iEDjiBxz/tLe4fLKLEP6eX2ug7b8Q/lCauDpL+wz/81E6cF4LCPzVPRzj0+sE/b/hhZxr2wD8aQSdM/2K9PxOsNmdefbQ/jGQl2ls/sz9sx+1DhmquP2Lg40PeWKw/p9cJoepZpj82r2PkPl2aP5YHdUVHcpU/QDGkNooddj8AAAAAAAD4fwAAAAAAAPh/",
          "dtype": "f8"
         },
         "yaxis": "y"
        }
       ],
       "layout": {
        "barmode": "relative",
        "height": 500,
        "legend": {
         "tracegroupgap": 0
        },
        "template": {
         "data": {
          "bar": [
           {
            "error_x": {
             "color": "#f2f5fa"
            },
            "error_y": {
             "color": "#f2f5fa"
            },
            "marker": {
             "line": {
              "color": "rgb(17,17,17)",
              "width": 0.5
             },
             "pattern": {
              "fillmode": "overlay",
              "size": 10,
              "solidity": 0.2
             }
            },
            "type": "bar"
           }
          ],
          "barpolar": [
           {
            "marker": {
             "line": {
              "color": "rgb(17,17,17)",
              "width": 0.5
             },
             "pattern": {
              "fillmode": "overlay",
              "size": 10,
              "solidity": 0.2
             }
            },
            "type": "barpolar"
           }
          ],
          "carpet": [
           {
            "aaxis": {
             "endlinecolor": "#A2B1C6",
             "gridcolor": "#506784",
             "linecolor": "#506784",
             "minorgridcolor": "#506784",
             "startlinecolor": "#A2B1C6"
            },
            "baxis": {
             "endlinecolor": "#A2B1C6",
             "gridcolor": "#506784",
             "linecolor": "#506784",
             "minorgridcolor": "#506784",
             "startlinecolor": "#A2B1C6"
            },
            "type": "carpet"
           }
          ],
          "choropleth": [
           {
            "colorbar": {
             "outlinewidth": 0,
             "ticks": ""
            },
            "type": "choropleth"
           }
          ],
          "contour": [
           {
            "colorbar": {
             "outlinewidth": 0,
             "ticks": ""
            },
            "colorscale": [
             [
              0,
              "#0d0887"
             ],
             [
              0.1111111111111111,
              "#46039f"
             ],
             [
              0.2222222222222222,
              "#7201a8"
             ],
             [
              0.3333333333333333,
              "#9c179e"
             ],
             [
              0.4444444444444444,
              "#bd3786"
             ],
             [
              0.5555555555555556,
              "#d8576b"
             ],
             [
              0.6666666666666666,
              "#ed7953"
             ],
             [
              0.7777777777777778,
              "#fb9f3a"
             ],
             [
              0.8888888888888888,
              "#fdca26"
             ],
             [
              1,
              "#f0f921"
             ]
            ],
            "type": "contour"
           }
          ],
          "contourcarpet": [
           {
            "colorbar": {
             "outlinewidth": 0,
             "ticks": ""
            },
            "type": "contourcarpet"
           }
          ],
          "heatmap": [
           {
            "colorbar": {
             "outlinewidth": 0,
             "ticks": ""
            },
            "colorscale": [
             [
              0,
              "#0d0887"
             ],
             [
              0.1111111111111111,
              "#46039f"
             ],
             [
              0.2222222222222222,
              "#7201a8"
             ],
             [
              0.3333333333333333,
              "#9c179e"
             ],
             [
              0.4444444444444444,
              "#bd3786"
             ],
             [
              0.5555555555555556,
              "#d8576b"
             ],
             [
              0.6666666666666666,
              "#ed7953"
             ],
             [
              0.7777777777777778,
              "#fb9f3a"
             ],
             [
              0.8888888888888888,
              "#fdca26"
             ],
             [
              1,
              "#f0f921"
             ]
            ],
            "type": "heatmap"
           }
          ],
          "histogram": [
           {
            "marker": {
             "pattern": {
              "fillmode": "overlay",
              "size": 10,
              "solidity": 0.2
             }
            },
            "type": "histogram"
           }
          ],
          "histogram2d": [
           {
            "colorbar": {
             "outlinewidth": 0,
             "ticks": ""
            },
            "colorscale": [
             [
              0,
              "#0d0887"
             ],
             [
              0.1111111111111111,
              "#46039f"
             ],
             [
              0.2222222222222222,
              "#7201a8"
             ],
             [
              0.3333333333333333,
              "#9c179e"
             ],
             [
              0.4444444444444444,
              "#bd3786"
             ],
             [
              0.5555555555555556,
              "#d8576b"
             ],
             [
              0.6666666666666666,
              "#ed7953"
             ],
             [
              0.7777777777777778,
              "#fb9f3a"
             ],
             [
              0.8888888888888888,
              "#fdca26"
             ],
             [
              1,
              "#f0f921"
             ]
            ],
            "type": "histogram2d"
           }
          ],
          "histogram2dcontour": [
           {
            "colorbar": {
             "outlinewidth": 0,
             "ticks": ""
            },
            "colorscale": [
             [
              0,
              "#0d0887"
             ],
             [
              0.1111111111111111,
              "#46039f"
             ],
             [
              0.2222222222222222,
              "#7201a8"
             ],
             [
              0.3333333333333333,
              "#9c179e"
             ],
             [
              0.4444444444444444,
              "#bd3786"
             ],
             [
              0.5555555555555556,
              "#d8576b"
             ],
             [
              0.6666666666666666,
              "#ed7953"
             ],
             [
              0.7777777777777778,
              "#fb9f3a"
             ],
             [
              0.8888888888888888,
              "#fdca26"
             ],
             [
              1,
              "#f0f921"
             ]
            ],
            "type": "histogram2dcontour"
           }
          ],
          "mesh3d": [
           {
            "colorbar": {
             "outlinewidth": 0,
             "ticks": ""
            },
            "type": "mesh3d"
           }
          ],
          "parcoords": [
           {
            "line": {
             "colorbar": {
              "outlinewidth": 0,
              "ticks": ""
             }
            },
            "type": "parcoords"
           }
          ],
          "pie": [
           {
            "automargin": true,
            "type": "pie"
           }
          ],
          "scatter": [
           {
            "marker": {
             "line": {
              "color": "#283442"
             }
            },
            "type": "scatter"
           }
          ],
          "scatter3d": [
           {
            "line": {
             "colorbar": {
              "outlinewidth": 0,
              "ticks": ""
             }
            },
            "marker": {
             "colorbar": {
              "outlinewidth": 0,
              "ticks": ""
             }
            },
            "type": "scatter3d"
           }
          ],
          "scattercarpet": [
           {
            "marker": {
             "colorbar": {
              "outlinewidth": 0,
              "ticks": ""
             }
            },
            "type": "scattercarpet"
           }
          ],
          "scattergeo": [
           {
            "marker": {
             "colorbar": {
              "outlinewidth": 0,
              "ticks": ""
             }
            },
            "type": "scattergeo"
           }
          ],
          "scattergl": [
           {
            "marker": {
             "line": {
              "color": "#283442"
             }
            },
            "type": "scattergl"
           }
          ],
          "scattermap": [
           {
            "marker": {
             "colorbar": {
              "outlinewidth": 0,
              "ticks": ""
             }
            },
            "type": "scattermap"
           }
          ],
          "scattermapbox": [
           {
            "marker": {
             "colorbar": {
              "outlinewidth": 0,
              "ticks": ""
             }
            },
            "type": "scattermapbox"
           }
          ],
          "scatterpolar": [
           {
            "marker": {
             "colorbar": {
              "outlinewidth": 0,
              "ticks": ""
             }
            },
            "type": "scatterpolar"
           }
          ],
          "scatterpolargl": [
           {
            "marker": {
             "colorbar": {
              "outlinewidth": 0,
              "ticks": ""
             }
            },
            "type": "scatterpolargl"
           }
          ],
          "scatterternary": [
           {
            "marker": {
             "colorbar": {
              "outlinewidth": 0,
              "ticks": ""
             }
            },
            "type": "scatterternary"
           }
          ],
          "surface": [
           {
            "colorbar": {
             "outlinewidth": 0,
             "ticks": ""
            },
            "colorscale": [
             [
              0,
              "#0d0887"
             ],
             [
              0.1111111111111111,
              "#46039f"
             ],
             [
              0.2222222222222222,
              "#7201a8"
             ],
             [
              0.3333333333333333,
              "#9c179e"
             ],
             [
              0.4444444444444444,
              "#bd3786"
             ],
             [
              0.5555555555555556,
              "#d8576b"
             ],
             [
              0.6666666666666666,
              "#ed7953"
             ],
             [
              0.7777777777777778,
              "#fb9f3a"
             ],
             [
              0.8888888888888888,
              "#fdca26"
             ],
             [
              1,
              "#f0f921"
             ]
            ],
            "type": "surface"
           }
          ],
          "table": [
           {
            "cells": {
             "fill": {
              "color": "#506784"
             },
             "line": {
              "color": "rgb(17,17,17)"
             }
            },
            "header": {
             "fill": {
              "color": "#2a3f5f"
             },
             "line": {
              "color": "rgb(17,17,17)"
             }
            },
            "type": "table"
           }
          ]
         },
         "layout": {
          "annotationdefaults": {
           "arrowcolor": "#f2f5fa",
           "arrowhead": 0,
           "arrowwidth": 1
          },
          "autotypenumbers": "strict",
          "coloraxis": {
           "colorbar": {
            "outlinewidth": 0,
            "ticks": ""
           }
          },
          "colorscale": {
           "diverging": [
            [
             0,
             "#8e0152"
            ],
            [
             0.1,
             "#c51b7d"
            ],
            [
             0.2,
             "#de77ae"
            ],
            [
             0.3,
             "#f1b6da"
            ],
            [
             0.4,
             "#fde0ef"
            ],
            [
             0.5,
             "#f7f7f7"
            ],
            [
             0.6,
             "#e6f5d0"
            ],
            [
             0.7,
             "#b8e186"
            ],
            [
             0.8,
             "#7fbc41"
            ],
            [
             0.9,
             "#4d9221"
            ],
            [
             1,
             "#276419"
            ]
           ],
           "sequential": [
            [
             0,
             "#0d0887"
            ],
            [
             0.1111111111111111,
             "#46039f"
            ],
            [
             0.2222222222222222,
             "#7201a8"
            ],
            [
             0.3333333333333333,
             "#9c179e"
            ],
            [
             0.4444444444444444,
             "#bd3786"
            ],
            [
             0.5555555555555556,
             "#d8576b"
            ],
            [
             0.6666666666666666,
             "#ed7953"
            ],
            [
             0.7777777777777778,
             "#fb9f3a"
            ],
            [
             0.8888888888888888,
             "#fdca26"
            ],
            [
             1,
             "#f0f921"
            ]
           ],
           "sequentialminus": [
            [
             0,
             "#0d0887"
            ],
            [
             0.1111111111111111,
             "#46039f"
            ],
            [
             0.2222222222222222,
             "#7201a8"
            ],
            [
             0.3333333333333333,
             "#9c179e"
            ],
            [
             0.4444444444444444,
             "#bd3786"
            ],
            [
             0.5555555555555556,
             "#d8576b"
            ],
            [
             0.6666666666666666,
             "#ed7953"
            ],
            [
             0.7777777777777778,
             "#fb9f3a"
            ],
            [
             0.8888888888888888,
             "#fdca26"
            ],
            [
             1,
             "#f0f921"
            ]
           ]
          },
          "colorway": [
           "#636efa",
           "#EF553B",
           "#00cc96",
           "#ab63fa",
           "#FFA15A",
           "#19d3f3",
           "#FF6692",
           "#B6E880",
           "#FF97FF",
           "#FECB52"
          ],
          "font": {
           "color": "#f2f5fa"
          },
          "geo": {
           "bgcolor": "rgb(17,17,17)",
           "lakecolor": "rgb(17,17,17)",
           "landcolor": "rgb(17,17,17)",
           "showlakes": true,
           "showland": true,
           "subunitcolor": "#506784"
          },
          "hoverlabel": {
           "align": "left"
          },
          "hovermode": "closest",
          "mapbox": {
           "style": "dark"
          },
          "paper_bgcolor": "rgb(17,17,17)",
          "plot_bgcolor": "rgb(17,17,17)",
          "polar": {
           "angularaxis": {
            "gridcolor": "#506784",
            "linecolor": "#506784",
            "ticks": ""
           },
           "bgcolor": "rgb(17,17,17)",
           "radialaxis": {
            "gridcolor": "#506784",
            "linecolor": "#506784",
            "ticks": ""
           }
          },
          "scene": {
           "xaxis": {
            "backgroundcolor": "rgb(17,17,17)",
            "gridcolor": "#506784",
            "gridwidth": 2,
            "linecolor": "#506784",
            "showbackground": true,
            "ticks": "",
            "zerolinecolor": "#C8D4E3"
           },
           "yaxis": {
            "backgroundcolor": "rgb(17,17,17)",
            "gridcolor": "#506784",
            "gridwidth": 2,
            "linecolor": "#506784",
            "showbackground": true,
            "ticks": "",
            "zerolinecolor": "#C8D4E3"
           },
           "zaxis": {
            "backgroundcolor": "rgb(17,17,17)",
            "gridcolor": "#506784",
            "gridwidth": 2,
            "linecolor": "#506784",
            "showbackground": true,
            "ticks": "",
            "zerolinecolor": "#C8D4E3"
           }
          },
          "shapedefaults": {
           "line": {
            "color": "#f2f5fa"
           }
          },
          "sliderdefaults": {
           "bgcolor": "#C8D4E3",
           "bordercolor": "rgb(17,17,17)",
           "borderwidth": 1,
           "tickwidth": 0
          },
          "ternary": {
           "aaxis": {
            "gridcolor": "#506784",
            "linecolor": "#506784",
            "ticks": ""
           },
           "baxis": {
            "gridcolor": "#506784",
            "linecolor": "#506784",
            "ticks": ""
           },
           "bgcolor": "rgb(17,17,17)",
           "caxis": {
            "gridcolor": "#506784",
            "linecolor": "#506784",
            "ticks": ""
           }
          },
          "title": {
           "x": 0.05
          },
          "updatemenudefaults": {
           "bgcolor": "#506784",
           "borderwidth": 0
          },
          "xaxis": {
           "automargin": true,
           "gridcolor": "#283442",
           "linecolor": "#506784",
           "ticks": "",
           "title": {
            "standoff": 15
           },
           "zerolinecolor": "#283442",
           "zerolinewidth": 2
          },
          "yaxis": {
           "automargin": true,
           "gridcolor": "#283442",
           "linecolor": "#506784",
           "ticks": "",
           "title": {
            "standoff": 15
           },
           "zerolinecolor": "#283442",
           "zerolinewidth": 2
          }
         }
        },
        "title": {
         "text": "🔎 Correlation to TOP_20 — Season 2022"
        },
        "width": 1000,
        "xaxis": {
         "anchor": "y",
         "domain": [
          0,
          1
         ],
         "tickangle": -45,
         "title": {
          "text": "Feature"
         }
        },
        "yaxis": {
         "anchor": "x",
         "domain": [
          0,
          1
         ],
         "title": {
          "text": "Absolute Correlation to TOP_20"
         }
        }
       }
      }
     },
     "metadata": {},
     "output_type": "display_data"
    },
    {
     "data": {
      "application/vnd.plotly.v1+json": {
       "config": {
        "plotlyServerURL": "https://plot.ly"
       },
       "data": [
        {
         "hovertemplate": "Feature=%{x}<br>Correlation=%{y}<extra></extra>",
         "legendgroup": "",
         "marker": {
          "color": "#636efa",
          "pattern": {
           "shape": ""
          }
         },
         "name": "",
         "orientation": "v",
         "showlegend": false,
         "textposition": "auto",
         "type": "bar",
         "x": [
          "OWGR",
          "OWGR_RANK",
          "SGTTG",
          "VEGAS_ODDS",
          "FEDEX_CUP_POINTS",
          "SGTTG_RANK",
          "form_density",
          "SGAPR",
          "RECENT_FORM",
          "PAR_3",
          "PAR_5_RANK",
          "SGOTT",
          "SGAPR_RANK",
          "SGOTT_RANK",
          "PAR_3_RANK",
          "TOTAL_DRIVING_RANK",
          "PAR_5",
          "BIRDIES_RANK",
          "PAR_4",
          "SGP_RANK",
          "SGP",
          "BIRDIES",
          "adj_form",
          "TOTAL_DRIVING",
          "SCRAMBLING",
          "CUT_PERCENTAGE",
          "PAR_4_RANK",
          "DRIVING_ACCURACY_RANK",
          "SCRAMBLING_RANK",
          "DRIVING_ACCURACY",
          "CONSECUTIVE_CUTS",
          "COURSE_HISTORY",
          "DRIVING_DISTANCE",
          "adj_ch",
          "GIR",
          "SGATG_RANK",
          "GIR_RANK",
          "DRIVING_DISTANCE_RANK",
          "SGATG"
         ],
         "xaxis": "x",
         "y": {
          "bdata": "oQJdAp1L2j+21OQQeGvVP8wLxdGnmdA/rK6uvPmrzz+xdEstQ6XNP93bA07gKc0/mJnb0f4YzT9Qz1ah/xHNP2JmcRvEP8w/Ltm/rFRXyz+0fXiDR6vKP7sZlnoPkco/p3M4V1vsyD+D9D3jbrXIPxwGHM4UbMg/qwCRpj3+xT9KxgxFImLDP1EfwdMLZsI/ZPLZ5SHVwT/+KhAB/AXBP5aCBNGDnsA/rJMGqK57wD9aXDawnFnAPwEnoLVfRMA/wIDzyifYvz+vG1TiOEi8P9gMNg67fLs/1M1Jg0iQuj+k7Wu0uJ63P3X1yxDxN7U/R7kWjRDRsj8jzd04f92xP/pEVBA3aK0/n4boSufOqT+HgwodtfClPzseAZ82PaQ/KesN58pBlj9Dy9LU9z2VPwLYEYO72pA/",
          "dtype": "f8"
         },
         "yaxis": "y"
        }
       ],
       "layout": {
        "barmode": "relative",
        "height": 500,
        "legend": {
         "tracegroupgap": 0
        },
        "template": {
         "data": {
          "bar": [
           {
            "error_x": {
             "color": "#f2f5fa"
            },
            "error_y": {
             "color": "#f2f5fa"
            },
            "marker": {
             "line": {
              "color": "rgb(17,17,17)",
              "width": 0.5
             },
             "pattern": {
              "fillmode": "overlay",
              "size": 10,
              "solidity": 0.2
             }
            },
            "type": "bar"
           }
          ],
          "barpolar": [
           {
            "marker": {
             "line": {
              "color": "rgb(17,17,17)",
              "width": 0.5
             },
             "pattern": {
              "fillmode": "overlay",
              "size": 10,
              "solidity": 0.2
             }
            },
            "type": "barpolar"
           }
          ],
          "carpet": [
           {
            "aaxis": {
             "endlinecolor": "#A2B1C6",
             "gridcolor": "#506784",
             "linecolor": "#506784",
             "minorgridcolor": "#506784",
             "startlinecolor": "#A2B1C6"
            },
            "baxis": {
             "endlinecolor": "#A2B1C6",
             "gridcolor": "#506784",
             "linecolor": "#506784",
             "minorgridcolor": "#506784",
             "startlinecolor": "#A2B1C6"
            },
            "type": "carpet"
           }
          ],
          "choropleth": [
           {
            "colorbar": {
             "outlinewidth": 0,
             "ticks": ""
            },
            "type": "choropleth"
           }
          ],
          "contour": [
           {
            "colorbar": {
             "outlinewidth": 0,
             "ticks": ""
            },
            "colorscale": [
             [
              0,
              "#0d0887"
             ],
             [
              0.1111111111111111,
              "#46039f"
             ],
             [
              0.2222222222222222,
              "#7201a8"
             ],
             [
              0.3333333333333333,
              "#9c179e"
             ],
             [
              0.4444444444444444,
              "#bd3786"
             ],
             [
              0.5555555555555556,
              "#d8576b"
             ],
             [
              0.6666666666666666,
              "#ed7953"
             ],
             [
              0.7777777777777778,
              "#fb9f3a"
             ],
             [
              0.8888888888888888,
              "#fdca26"
             ],
             [
              1,
              "#f0f921"
             ]
            ],
            "type": "contour"
           }
          ],
          "contourcarpet": [
           {
            "colorbar": {
             "outlinewidth": 0,
             "ticks": ""
            },
            "type": "contourcarpet"
           }
          ],
          "heatmap": [
           {
            "colorbar": {
             "outlinewidth": 0,
             "ticks": ""
            },
            "colorscale": [
             [
              0,
              "#0d0887"
             ],
             [
              0.1111111111111111,
              "#46039f"
             ],
             [
              0.2222222222222222,
              "#7201a8"
             ],
             [
              0.3333333333333333,
              "#9c179e"
             ],
             [
              0.4444444444444444,
              "#bd3786"
             ],
             [
              0.5555555555555556,
              "#d8576b"
             ],
             [
              0.6666666666666666,
              "#ed7953"
             ],
             [
              0.7777777777777778,
              "#fb9f3a"
             ],
             [
              0.8888888888888888,
              "#fdca26"
             ],
             [
              1,
              "#f0f921"
             ]
            ],
            "type": "heatmap"
           }
          ],
          "histogram": [
           {
            "marker": {
             "pattern": {
              "fillmode": "overlay",
              "size": 10,
              "solidity": 0.2
             }
            },
            "type": "histogram"
           }
          ],
          "histogram2d": [
           {
            "colorbar": {
             "outlinewidth": 0,
             "ticks": ""
            },
            "colorscale": [
             [
              0,
              "#0d0887"
             ],
             [
              0.1111111111111111,
              "#46039f"
             ],
             [
              0.2222222222222222,
              "#7201a8"
             ],
             [
              0.3333333333333333,
              "#9c179e"
             ],
             [
              0.4444444444444444,
              "#bd3786"
             ],
             [
              0.5555555555555556,
              "#d8576b"
             ],
             [
              0.6666666666666666,
              "#ed7953"
             ],
             [
              0.7777777777777778,
              "#fb9f3a"
             ],
             [
              0.8888888888888888,
              "#fdca26"
             ],
             [
              1,
              "#f0f921"
             ]
            ],
            "type": "histogram2d"
           }
          ],
          "histogram2dcontour": [
           {
            "colorbar": {
             "outlinewidth": 0,
             "ticks": ""
            },
            "colorscale": [
             [
              0,
              "#0d0887"
             ],
             [
              0.1111111111111111,
              "#46039f"
             ],
             [
              0.2222222222222222,
              "#7201a8"
             ],
             [
              0.3333333333333333,
              "#9c179e"
             ],
             [
              0.4444444444444444,
              "#bd3786"
             ],
             [
              0.5555555555555556,
              "#d8576b"
             ],
             [
              0.6666666666666666,
              "#ed7953"
             ],
             [
              0.7777777777777778,
              "#fb9f3a"
             ],
             [
              0.8888888888888888,
              "#fdca26"
             ],
             [
              1,
              "#f0f921"
             ]
            ],
            "type": "histogram2dcontour"
           }
          ],
          "mesh3d": [
           {
            "colorbar": {
             "outlinewidth": 0,
             "ticks": ""
            },
            "type": "mesh3d"
           }
          ],
          "parcoords": [
           {
            "line": {
             "colorbar": {
              "outlinewidth": 0,
              "ticks": ""
             }
            },
            "type": "parcoords"
           }
          ],
          "pie": [
           {
            "automargin": true,
            "type": "pie"
           }
          ],
          "scatter": [
           {
            "marker": {
             "line": {
              "color": "#283442"
             }
            },
            "type": "scatter"
           }
          ],
          "scatter3d": [
           {
            "line": {
             "colorbar": {
              "outlinewidth": 0,
              "ticks": ""
             }
            },
            "marker": {
             "colorbar": {
              "outlinewidth": 0,
              "ticks": ""
             }
            },
            "type": "scatter3d"
           }
          ],
          "scattercarpet": [
           {
            "marker": {
             "colorbar": {
              "outlinewidth": 0,
              "ticks": ""
             }
            },
            "type": "scattercarpet"
           }
          ],
          "scattergeo": [
           {
            "marker": {
             "colorbar": {
              "outlinewidth": 0,
              "ticks": ""
             }
            },
            "type": "scattergeo"
           }
          ],
          "scattergl": [
           {
            "marker": {
             "line": {
              "color": "#283442"
             }
            },
            "type": "scattergl"
           }
          ],
          "scattermap": [
           {
            "marker": {
             "colorbar": {
              "outlinewidth": 0,
              "ticks": ""
             }
            },
            "type": "scattermap"
           }
          ],
          "scattermapbox": [
           {
            "marker": {
             "colorbar": {
              "outlinewidth": 0,
              "ticks": ""
             }
            },
            "type": "scattermapbox"
           }
          ],
          "scatterpolar": [
           {
            "marker": {
             "colorbar": {
              "outlinewidth": 0,
              "ticks": ""
             }
            },
            "type": "scatterpolar"
           }
          ],
          "scatterpolargl": [
           {
            "marker": {
             "colorbar": {
              "outlinewidth": 0,
              "ticks": ""
             }
            },
            "type": "scatterpolargl"
           }
          ],
          "scatterternary": [
           {
            "marker": {
             "colorbar": {
              "outlinewidth": 0,
              "ticks": ""
             }
            },
            "type": "scatterternary"
           }
          ],
          "surface": [
           {
            "colorbar": {
             "outlinewidth": 0,
             "ticks": ""
            },
            "colorscale": [
             [
              0,
              "#0d0887"
             ],
             [
              0.1111111111111111,
              "#46039f"
             ],
             [
              0.2222222222222222,
              "#7201a8"
             ],
             [
              0.3333333333333333,
              "#9c179e"
             ],
             [
              0.4444444444444444,
              "#bd3786"
             ],
             [
              0.5555555555555556,
              "#d8576b"
             ],
             [
              0.6666666666666666,
              "#ed7953"
             ],
             [
              0.7777777777777778,
              "#fb9f3a"
             ],
             [
              0.8888888888888888,
              "#fdca26"
             ],
             [
              1,
              "#f0f921"
             ]
            ],
            "type": "surface"
           }
          ],
          "table": [
           {
            "cells": {
             "fill": {
              "color": "#506784"
             },
             "line": {
              "color": "rgb(17,17,17)"
             }
            },
            "header": {
             "fill": {
              "color": "#2a3f5f"
             },
             "line": {
              "color": "rgb(17,17,17)"
             }
            },
            "type": "table"
           }
          ]
         },
         "layout": {
          "annotationdefaults": {
           "arrowcolor": "#f2f5fa",
           "arrowhead": 0,
           "arrowwidth": 1
          },
          "autotypenumbers": "strict",
          "coloraxis": {
           "colorbar": {
            "outlinewidth": 0,
            "ticks": ""
           }
          },
          "colorscale": {
           "diverging": [
            [
             0,
             "#8e0152"
            ],
            [
             0.1,
             "#c51b7d"
            ],
            [
             0.2,
             "#de77ae"
            ],
            [
             0.3,
             "#f1b6da"
            ],
            [
             0.4,
             "#fde0ef"
            ],
            [
             0.5,
             "#f7f7f7"
            ],
            [
             0.6,
             "#e6f5d0"
            ],
            [
             0.7,
             "#b8e186"
            ],
            [
             0.8,
             "#7fbc41"
            ],
            [
             0.9,
             "#4d9221"
            ],
            [
             1,
             "#276419"
            ]
           ],
           "sequential": [
            [
             0,
             "#0d0887"
            ],
            [
             0.1111111111111111,
             "#46039f"
            ],
            [
             0.2222222222222222,
             "#7201a8"
            ],
            [
             0.3333333333333333,
             "#9c179e"
            ],
            [
             0.4444444444444444,
             "#bd3786"
            ],
            [
             0.5555555555555556,
             "#d8576b"
            ],
            [
             0.6666666666666666,
             "#ed7953"
            ],
            [
             0.7777777777777778,
             "#fb9f3a"
            ],
            [
             0.8888888888888888,
             "#fdca26"
            ],
            [
             1,
             "#f0f921"
            ]
           ],
           "sequentialminus": [
            [
             0,
             "#0d0887"
            ],
            [
             0.1111111111111111,
             "#46039f"
            ],
            [
             0.2222222222222222,
             "#7201a8"
            ],
            [
             0.3333333333333333,
             "#9c179e"
            ],
            [
             0.4444444444444444,
             "#bd3786"
            ],
            [
             0.5555555555555556,
             "#d8576b"
            ],
            [
             0.6666666666666666,
             "#ed7953"
            ],
            [
             0.7777777777777778,
             "#fb9f3a"
            ],
            [
             0.8888888888888888,
             "#fdca26"
            ],
            [
             1,
             "#f0f921"
            ]
           ]
          },
          "colorway": [
           "#636efa",
           "#EF553B",
           "#00cc96",
           "#ab63fa",
           "#FFA15A",
           "#19d3f3",
           "#FF6692",
           "#B6E880",
           "#FF97FF",
           "#FECB52"
          ],
          "font": {
           "color": "#f2f5fa"
          },
          "geo": {
           "bgcolor": "rgb(17,17,17)",
           "lakecolor": "rgb(17,17,17)",
           "landcolor": "rgb(17,17,17)",
           "showlakes": true,
           "showland": true,
           "subunitcolor": "#506784"
          },
          "hoverlabel": {
           "align": "left"
          },
          "hovermode": "closest",
          "mapbox": {
           "style": "dark"
          },
          "paper_bgcolor": "rgb(17,17,17)",
          "plot_bgcolor": "rgb(17,17,17)",
          "polar": {
           "angularaxis": {
            "gridcolor": "#506784",
            "linecolor": "#506784",
            "ticks": ""
           },
           "bgcolor": "rgb(17,17,17)",
           "radialaxis": {
            "gridcolor": "#506784",
            "linecolor": "#506784",
            "ticks": ""
           }
          },
          "scene": {
           "xaxis": {
            "backgroundcolor": "rgb(17,17,17)",
            "gridcolor": "#506784",
            "gridwidth": 2,
            "linecolor": "#506784",
            "showbackground": true,
            "ticks": "",
            "zerolinecolor": "#C8D4E3"
           },
           "yaxis": {
            "backgroundcolor": "rgb(17,17,17)",
            "gridcolor": "#506784",
            "gridwidth": 2,
            "linecolor": "#506784",
            "showbackground": true,
            "ticks": "",
            "zerolinecolor": "#C8D4E3"
           },
           "zaxis": {
            "backgroundcolor": "rgb(17,17,17)",
            "gridcolor": "#506784",
            "gridwidth": 2,
            "linecolor": "#506784",
            "showbackground": true,
            "ticks": "",
            "zerolinecolor": "#C8D4E3"
           }
          },
          "shapedefaults": {
           "line": {
            "color": "#f2f5fa"
           }
          },
          "sliderdefaults": {
           "bgcolor": "#C8D4E3",
           "bordercolor": "rgb(17,17,17)",
           "borderwidth": 1,
           "tickwidth": 0
          },
          "ternary": {
           "aaxis": {
            "gridcolor": "#506784",
            "linecolor": "#506784",
            "ticks": ""
           },
           "baxis": {
            "gridcolor": "#506784",
            "linecolor": "#506784",
            "ticks": ""
           },
           "bgcolor": "rgb(17,17,17)",
           "caxis": {
            "gridcolor": "#506784",
            "linecolor": "#506784",
            "ticks": ""
           }
          },
          "title": {
           "x": 0.05
          },
          "updatemenudefaults": {
           "bgcolor": "#506784",
           "borderwidth": 0
          },
          "xaxis": {
           "automargin": true,
           "gridcolor": "#283442",
           "linecolor": "#506784",
           "ticks": "",
           "title": {
            "standoff": 15
           },
           "zerolinecolor": "#283442",
           "zerolinewidth": 2
          },
          "yaxis": {
           "automargin": true,
           "gridcolor": "#283442",
           "linecolor": "#506784",
           "ticks": "",
           "title": {
            "standoff": 15
           },
           "zerolinecolor": "#283442",
           "zerolinewidth": 2
          }
         }
        },
        "title": {
         "text": "🔎 Correlation to TOP_20 — Season 2023"
        },
        "width": 1000,
        "xaxis": {
         "anchor": "y",
         "domain": [
          0,
          1
         ],
         "tickangle": -45,
         "title": {
          "text": "Feature"
         }
        },
        "yaxis": {
         "anchor": "x",
         "domain": [
          0,
          1
         ],
         "title": {
          "text": "Absolute Correlation to TOP_20"
         }
        }
       }
      }
     },
     "metadata": {},
     "output_type": "display_data"
    },
    {
     "data": {
      "application/vnd.plotly.v1+json": {
       "config": {
        "plotlyServerURL": "https://plot.ly"
       },
       "data": [
        {
         "hovertemplate": "Feature=%{x}<br>Correlation=%{y}<extra></extra>",
         "legendgroup": "",
         "marker": {
          "color": "#636efa",
          "pattern": {
           "shape": ""
          }
         },
         "name": "",
         "orientation": "v",
         "showlegend": false,
         "textposition": "auto",
         "type": "bar",
         "x": [
          "OWGR",
          "form_density",
          "FEDEX_CUP_POINTS",
          "SGTTG_RANK",
          "SGOTT_RANK",
          "SGTTG",
          "PAR_4_RANK",
          "PAR_4",
          "SGOTT",
          "OWGR_RANK",
          "CONSECUTIVE_CUTS",
          "SCRAMBLING",
          "RECENT_FORM",
          "SCRAMBLING_RANK",
          "TOTAL_DRIVING",
          "BIRDIES",
          "BIRDIES_RANK",
          "TOTAL_DRIVING_RANK",
          "SGAPR",
          "SGAPR_RANK",
          "VEGAS_ODDS",
          "PAR_5",
          "SGP_RANK",
          "SGATG_RANK",
          "SGATG",
          "adj_ch",
          "PAR_5_RANK",
          "PAR_3",
          "COURSE_HISTORY",
          "SGP",
          "PAR_3_RANK",
          "DRIVING_ACCURACY",
          "DRIVING_DISTANCE",
          "GIR",
          "DRIVING_ACCURACY_RANK",
          "GIR_RANK",
          "CUT_PERCENTAGE",
          "DRIVING_DISTANCE_RANK",
          "adj_form"
         ],
         "xaxis": "x",
         "y": {
          "bdata": "nzpMxnTF3z+l38ap25zaP70lVxEtZto/eDRoo+Z12D+8F3x2GDzXP0dKc4JdtdY/mjfUGjer1D/tLRG3rmDUP9fkQMzM6tM/ZUB8pbfv0D9zGOmXYs7QP3T28wAIuNA/XvsV/eOmzj+ZO30yZQ3OP3KGgseJW80/z8nfIwFJzT/YrNyICmXMPyoJHN3dAss/1xavQzI3yD9315o+xQHIP2wIm9oqEMc/SFvYWIKFxj+EPv5kq+bFP0c5GlIWwsQ//y9F4UxaxD/PJSLftR7EP4zuS55BDMM/mNOMhNDPwj/2b5O/m8jCP1vKKrh7aME/8r/NA7lfwD+2qqUaYlC/P1d82hbL/rw/4PWsu+08vD+IMOrEUNm7P34yuK78aLs/er17Y85guD9kt1zyq0W4P231zMi9mKQ/",
          "dtype": "f8"
         },
         "yaxis": "y"
        }
       ],
       "layout": {
        "barmode": "relative",
        "height": 500,
        "legend": {
         "tracegroupgap": 0
        },
        "template": {
         "data": {
          "bar": [
           {
            "error_x": {
             "color": "#f2f5fa"
            },
            "error_y": {
             "color": "#f2f5fa"
            },
            "marker": {
             "line": {
              "color": "rgb(17,17,17)",
              "width": 0.5
             },
             "pattern": {
              "fillmode": "overlay",
              "size": 10,
              "solidity": 0.2
             }
            },
            "type": "bar"
           }
          ],
          "barpolar": [
           {
            "marker": {
             "line": {
              "color": "rgb(17,17,17)",
              "width": 0.5
             },
             "pattern": {
              "fillmode": "overlay",
              "size": 10,
              "solidity": 0.2
             }
            },
            "type": "barpolar"
           }
          ],
          "carpet": [
           {
            "aaxis": {
             "endlinecolor": "#A2B1C6",
             "gridcolor": "#506784",
             "linecolor": "#506784",
             "minorgridcolor": "#506784",
             "startlinecolor": "#A2B1C6"
            },
            "baxis": {
             "endlinecolor": "#A2B1C6",
             "gridcolor": "#506784",
             "linecolor": "#506784",
             "minorgridcolor": "#506784",
             "startlinecolor": "#A2B1C6"
            },
            "type": "carpet"
           }
          ],
          "choropleth": [
           {
            "colorbar": {
             "outlinewidth": 0,
             "ticks": ""
            },
            "type": "choropleth"
           }
          ],
          "contour": [
           {
            "colorbar": {
             "outlinewidth": 0,
             "ticks": ""
            },
            "colorscale": [
             [
              0,
              "#0d0887"
             ],
             [
              0.1111111111111111,
              "#46039f"
             ],
             [
              0.2222222222222222,
              "#7201a8"
             ],
             [
              0.3333333333333333,
              "#9c179e"
             ],
             [
              0.4444444444444444,
              "#bd3786"
             ],
             [
              0.5555555555555556,
              "#d8576b"
             ],
             [
              0.6666666666666666,
              "#ed7953"
             ],
             [
              0.7777777777777778,
              "#fb9f3a"
             ],
             [
              0.8888888888888888,
              "#fdca26"
             ],
             [
              1,
              "#f0f921"
             ]
            ],
            "type": "contour"
           }
          ],
          "contourcarpet": [
           {
            "colorbar": {
             "outlinewidth": 0,
             "ticks": ""
            },
            "type": "contourcarpet"
           }
          ],
          "heatmap": [
           {
            "colorbar": {
             "outlinewidth": 0,
             "ticks": ""
            },
            "colorscale": [
             [
              0,
              "#0d0887"
             ],
             [
              0.1111111111111111,
              "#46039f"
             ],
             [
              0.2222222222222222,
              "#7201a8"
             ],
             [
              0.3333333333333333,
              "#9c179e"
             ],
             [
              0.4444444444444444,
              "#bd3786"
             ],
             [
              0.5555555555555556,
              "#d8576b"
             ],
             [
              0.6666666666666666,
              "#ed7953"
             ],
             [
              0.7777777777777778,
              "#fb9f3a"
             ],
             [
              0.8888888888888888,
              "#fdca26"
             ],
             [
              1,
              "#f0f921"
             ]
            ],
            "type": "heatmap"
           }
          ],
          "histogram": [
           {
            "marker": {
             "pattern": {
              "fillmode": "overlay",
              "size": 10,
              "solidity": 0.2
             }
            },
            "type": "histogram"
           }
          ],
          "histogram2d": [
           {
            "colorbar": {
             "outlinewidth": 0,
             "ticks": ""
            },
            "colorscale": [
             [
              0,
              "#0d0887"
             ],
             [
              0.1111111111111111,
              "#46039f"
             ],
             [
              0.2222222222222222,
              "#7201a8"
             ],
             [
              0.3333333333333333,
              "#9c179e"
             ],
             [
              0.4444444444444444,
              "#bd3786"
             ],
             [
              0.5555555555555556,
              "#d8576b"
             ],
             [
              0.6666666666666666,
              "#ed7953"
             ],
             [
              0.7777777777777778,
              "#fb9f3a"
             ],
             [
              0.8888888888888888,
              "#fdca26"
             ],
             [
              1,
              "#f0f921"
             ]
            ],
            "type": "histogram2d"
           }
          ],
          "histogram2dcontour": [
           {
            "colorbar": {
             "outlinewidth": 0,
             "ticks": ""
            },
            "colorscale": [
             [
              0,
              "#0d0887"
             ],
             [
              0.1111111111111111,
              "#46039f"
             ],
             [
              0.2222222222222222,
              "#7201a8"
             ],
             [
              0.3333333333333333,
              "#9c179e"
             ],
             [
              0.4444444444444444,
              "#bd3786"
             ],
             [
              0.5555555555555556,
              "#d8576b"
             ],
             [
              0.6666666666666666,
              "#ed7953"
             ],
             [
              0.7777777777777778,
              "#fb9f3a"
             ],
             [
              0.8888888888888888,
              "#fdca26"
             ],
             [
              1,
              "#f0f921"
             ]
            ],
            "type": "histogram2dcontour"
           }
          ],
          "mesh3d": [
           {
            "colorbar": {
             "outlinewidth": 0,
             "ticks": ""
            },
            "type": "mesh3d"
           }
          ],
          "parcoords": [
           {
            "line": {
             "colorbar": {
              "outlinewidth": 0,
              "ticks": ""
             }
            },
            "type": "parcoords"
           }
          ],
          "pie": [
           {
            "automargin": true,
            "type": "pie"
           }
          ],
          "scatter": [
           {
            "marker": {
             "line": {
              "color": "#283442"
             }
            },
            "type": "scatter"
           }
          ],
          "scatter3d": [
           {
            "line": {
             "colorbar": {
              "outlinewidth": 0,
              "ticks": ""
             }
            },
            "marker": {
             "colorbar": {
              "outlinewidth": 0,
              "ticks": ""
             }
            },
            "type": "scatter3d"
           }
          ],
          "scattercarpet": [
           {
            "marker": {
             "colorbar": {
              "outlinewidth": 0,
              "ticks": ""
             }
            },
            "type": "scattercarpet"
           }
          ],
          "scattergeo": [
           {
            "marker": {
             "colorbar": {
              "outlinewidth": 0,
              "ticks": ""
             }
            },
            "type": "scattergeo"
           }
          ],
          "scattergl": [
           {
            "marker": {
             "line": {
              "color": "#283442"
             }
            },
            "type": "scattergl"
           }
          ],
          "scattermap": [
           {
            "marker": {
             "colorbar": {
              "outlinewidth": 0,
              "ticks": ""
             }
            },
            "type": "scattermap"
           }
          ],
          "scattermapbox": [
           {
            "marker": {
             "colorbar": {
              "outlinewidth": 0,
              "ticks": ""
             }
            },
            "type": "scattermapbox"
           }
          ],
          "scatterpolar": [
           {
            "marker": {
             "colorbar": {
              "outlinewidth": 0,
              "ticks": ""
             }
            },
            "type": "scatterpolar"
           }
          ],
          "scatterpolargl": [
           {
            "marker": {
             "colorbar": {
              "outlinewidth": 0,
              "ticks": ""
             }
            },
            "type": "scatterpolargl"
           }
          ],
          "scatterternary": [
           {
            "marker": {
             "colorbar": {
              "outlinewidth": 0,
              "ticks": ""
             }
            },
            "type": "scatterternary"
           }
          ],
          "surface": [
           {
            "colorbar": {
             "outlinewidth": 0,
             "ticks": ""
            },
            "colorscale": [
             [
              0,
              "#0d0887"
             ],
             [
              0.1111111111111111,
              "#46039f"
             ],
             [
              0.2222222222222222,
              "#7201a8"
             ],
             [
              0.3333333333333333,
              "#9c179e"
             ],
             [
              0.4444444444444444,
              "#bd3786"
             ],
             [
              0.5555555555555556,
              "#d8576b"
             ],
             [
              0.6666666666666666,
              "#ed7953"
             ],
             [
              0.7777777777777778,
              "#fb9f3a"
             ],
             [
              0.8888888888888888,
              "#fdca26"
             ],
             [
              1,
              "#f0f921"
             ]
            ],
            "type": "surface"
           }
          ],
          "table": [
           {
            "cells": {
             "fill": {
              "color": "#506784"
             },
             "line": {
              "color": "rgb(17,17,17)"
             }
            },
            "header": {
             "fill": {
              "color": "#2a3f5f"
             },
             "line": {
              "color": "rgb(17,17,17)"
             }
            },
            "type": "table"
           }
          ]
         },
         "layout": {
          "annotationdefaults": {
           "arrowcolor": "#f2f5fa",
           "arrowhead": 0,
           "arrowwidth": 1
          },
          "autotypenumbers": "strict",
          "coloraxis": {
           "colorbar": {
            "outlinewidth": 0,
            "ticks": ""
           }
          },
          "colorscale": {
           "diverging": [
            [
             0,
             "#8e0152"
            ],
            [
             0.1,
             "#c51b7d"
            ],
            [
             0.2,
             "#de77ae"
            ],
            [
             0.3,
             "#f1b6da"
            ],
            [
             0.4,
             "#fde0ef"
            ],
            [
             0.5,
             "#f7f7f7"
            ],
            [
             0.6,
             "#e6f5d0"
            ],
            [
             0.7,
             "#b8e186"
            ],
            [
             0.8,
             "#7fbc41"
            ],
            [
             0.9,
             "#4d9221"
            ],
            [
             1,
             "#276419"
            ]
           ],
           "sequential": [
            [
             0,
             "#0d0887"
            ],
            [
             0.1111111111111111,
             "#46039f"
            ],
            [
             0.2222222222222222,
             "#7201a8"
            ],
            [
             0.3333333333333333,
             "#9c179e"
            ],
            [
             0.4444444444444444,
             "#bd3786"
            ],
            [
             0.5555555555555556,
             "#d8576b"
            ],
            [
             0.6666666666666666,
             "#ed7953"
            ],
            [
             0.7777777777777778,
             "#fb9f3a"
            ],
            [
             0.8888888888888888,
             "#fdca26"
            ],
            [
             1,
             "#f0f921"
            ]
           ],
           "sequentialminus": [
            [
             0,
             "#0d0887"
            ],
            [
             0.1111111111111111,
             "#46039f"
            ],
            [
             0.2222222222222222,
             "#7201a8"
            ],
            [
             0.3333333333333333,
             "#9c179e"
            ],
            [
             0.4444444444444444,
             "#bd3786"
            ],
            [
             0.5555555555555556,
             "#d8576b"
            ],
            [
             0.6666666666666666,
             "#ed7953"
            ],
            [
             0.7777777777777778,
             "#fb9f3a"
            ],
            [
             0.8888888888888888,
             "#fdca26"
            ],
            [
             1,
             "#f0f921"
            ]
           ]
          },
          "colorway": [
           "#636efa",
           "#EF553B",
           "#00cc96",
           "#ab63fa",
           "#FFA15A",
           "#19d3f3",
           "#FF6692",
           "#B6E880",
           "#FF97FF",
           "#FECB52"
          ],
          "font": {
           "color": "#f2f5fa"
          },
          "geo": {
           "bgcolor": "rgb(17,17,17)",
           "lakecolor": "rgb(17,17,17)",
           "landcolor": "rgb(17,17,17)",
           "showlakes": true,
           "showland": true,
           "subunitcolor": "#506784"
          },
          "hoverlabel": {
           "align": "left"
          },
          "hovermode": "closest",
          "mapbox": {
           "style": "dark"
          },
          "paper_bgcolor": "rgb(17,17,17)",
          "plot_bgcolor": "rgb(17,17,17)",
          "polar": {
           "angularaxis": {
            "gridcolor": "#506784",
            "linecolor": "#506784",
            "ticks": ""
           },
           "bgcolor": "rgb(17,17,17)",
           "radialaxis": {
            "gridcolor": "#506784",
            "linecolor": "#506784",
            "ticks": ""
           }
          },
          "scene": {
           "xaxis": {
            "backgroundcolor": "rgb(17,17,17)",
            "gridcolor": "#506784",
            "gridwidth": 2,
            "linecolor": "#506784",
            "showbackground": true,
            "ticks": "",
            "zerolinecolor": "#C8D4E3"
           },
           "yaxis": {
            "backgroundcolor": "rgb(17,17,17)",
            "gridcolor": "#506784",
            "gridwidth": 2,
            "linecolor": "#506784",
            "showbackground": true,
            "ticks": "",
            "zerolinecolor": "#C8D4E3"
           },
           "zaxis": {
            "backgroundcolor": "rgb(17,17,17)",
            "gridcolor": "#506784",
            "gridwidth": 2,
            "linecolor": "#506784",
            "showbackground": true,
            "ticks": "",
            "zerolinecolor": "#C8D4E3"
           }
          },
          "shapedefaults": {
           "line": {
            "color": "#f2f5fa"
           }
          },
          "sliderdefaults": {
           "bgcolor": "#C8D4E3",
           "bordercolor": "rgb(17,17,17)",
           "borderwidth": 1,
           "tickwidth": 0
          },
          "ternary": {
           "aaxis": {
            "gridcolor": "#506784",
            "linecolor": "#506784",
            "ticks": ""
           },
           "baxis": {
            "gridcolor": "#506784",
            "linecolor": "#506784",
            "ticks": ""
           },
           "bgcolor": "rgb(17,17,17)",
           "caxis": {
            "gridcolor": "#506784",
            "linecolor": "#506784",
            "ticks": ""
           }
          },
          "title": {
           "x": 0.05
          },
          "updatemenudefaults": {
           "bgcolor": "#506784",
           "borderwidth": 0
          },
          "xaxis": {
           "automargin": true,
           "gridcolor": "#283442",
           "linecolor": "#506784",
           "ticks": "",
           "title": {
            "standoff": 15
           },
           "zerolinecolor": "#283442",
           "zerolinewidth": 2
          },
          "yaxis": {
           "automargin": true,
           "gridcolor": "#283442",
           "linecolor": "#506784",
           "ticks": "",
           "title": {
            "standoff": 15
           },
           "zerolinecolor": "#283442",
           "zerolinewidth": 2
          }
         }
        },
        "title": {
         "text": "🔎 Correlation to TOP_20 — Season 2024"
        },
        "width": 1000,
        "xaxis": {
         "anchor": "y",
         "domain": [
          0,
          1
         ],
         "tickangle": -45,
         "title": {
          "text": "Feature"
         }
        },
        "yaxis": {
         "anchor": "x",
         "domain": [
          0,
          1
         ],
         "title": {
          "text": "Absolute Correlation to TOP_20"
         }
        }
       }
      }
     },
     "metadata": {},
     "output_type": "display_data"
    }
   ],
   "source": [
    "import plotly.express as px\n",
    "\n",
    "# Get the 4 most recent seasons (or fewer if not available)\n",
    "available_seasons = sorted(training_df[\"SEASON\"].unique())[-4:]\n",
    "\n",
    "# Dictionary to store correlation results\n",
    "correlation_frames = {}\n",
    "\n",
    "# Calculate correlations for each season\n",
    "for season in available_seasons:\n",
    "    df = training_df[training_df[\"SEASON\"] == season].copy()\n",
    "\n",
    "    # Numeric features only, drop final result\n",
    "    numeric = df.select_dtypes(include=[\"float64\", \"int64\"]).drop(columns=[\"FINAL_POS\", \"SEASON\"], errors=\"ignore\")\n",
    "\n",
    "    # Skip if TOP_20 is not present\n",
    "    if \"TOP_20\" not in numeric.columns:\n",
    "        continue\n",
    "\n",
    "    # Correlation with TOP_20\n",
    "    cor = numeric.corr().abs()[\"TOP_20\"].drop(\"TOP_20\", errors=\"ignore\").sort_values(ascending=False)\n",
    "    cor_df = cor.reset_index()\n",
    "    cor_df.columns = [\"Feature\", \"Correlation\"]\n",
    "    correlation_frames[season] = cor_df\n",
    "\n",
    "# Plot one bar chart per season\n",
    "for season, cor_df in correlation_frames.items():\n",
    "    fig = px.bar(\n",
    "        cor_df,\n",
    "        x=\"Feature\",\n",
    "        y=\"Correlation\",\n",
    "        title=f\"🔎 Correlation to TOP_20 — Season {int(season)}\",\n",
    "        height=500,\n",
    "        width=1000\n",
    "    )\n",
    "\n",
    "    fig.update_layout(\n",
    "        xaxis_title=\"Feature\",\n",
    "        yaxis_title=\"Absolute Correlation to TOP_20\",\n",
    "        template=\"plotly_dark\",\n",
    "        xaxis_tickangle=-45\n",
    "    )\n",
    "\n",
    "    fig.show()\n"
   ]
  },
  {
   "cell_type": "markdown",
   "id": "07c346c9",
   "metadata": {},
   "source": [
    "**Average of Last 4 Years**"
   ]
  },
  {
   "cell_type": "code",
   "execution_count": 39,
   "id": "aee0c2ea",
   "metadata": {},
   "outputs": [
    {
     "data": {
      "application/vnd.plotly.v1+json": {
       "config": {
        "plotlyServerURL": "https://plot.ly"
       },
       "data": [
        {
         "hovertemplate": "Feature=%{x}<br>Avg Correlation=%{y}<extra></extra>",
         "legendgroup": "",
         "marker": {
          "color": "#636efa",
          "pattern": {
           "shape": ""
          }
         },
         "name": "",
         "orientation": "v",
         "showlegend": false,
         "textposition": "auto",
         "type": "bar",
         "x": [
          "OWGR",
          "form_density",
          "FEDEX_CUP_POINTS",
          "SGTTG",
          "SGTTG_RANK",
          "OWGR_RANK",
          "SGOTT",
          "SGOTT_RANK",
          "RECENT_FORM",
          "PAR_4",
          "PAR_4_RANK",
          "TOTAL_DRIVING_RANK",
          "VEGAS_ODDS",
          "TOTAL_DRIVING",
          "PAR_5",
          "PAR_5_RANK",
          "SGAPR",
          "BIRDIES",
          "SGAPR_RANK",
          "SCRAMBLING",
          "BIRDIES_RANK",
          "DRIVING_DISTANCE",
          "SCRAMBLING_RANK",
          "SGP_RANK",
          "SGP",
          "adj_form",
          "PAR_3",
          "DRIVING_DISTANCE_RANK",
          "CONSECUTIVE_CUTS",
          "PAR_3_RANK",
          "GIR_RANK",
          "COURSE_HISTORY",
          "adj_ch",
          "SGATG_RANK",
          "GIR",
          "SGATG",
          "CUT_PERCENTAGE",
          "DRIVING_ACCURACY",
          "DRIVING_ACCURACY_RANK"
         ],
         "xaxis": "x",
         "y": {
          "bdata": "O5etR4yy2j9k8s17evDUP7QaCqp6S9Q/xbU6Wlhe0j/FyQzd4RfSP5NHrvDKONE/bKNufmwF0T+2whIO4k3QP1EvqNATG9A/yOMCmWbFzj+AKy1NKCzOP/11wHjBBsw/kA4DE+3cyz/bi5Pmun7LP1hjHlw8Y8k/kLRCrGQ5yT9csaYByqPIP/xRzkhNF8c/PHuA4ZD5xj89N0EaahvGP3VeTNxYl8U/C0YXzmewxD94Ala4nR/EP7hV+MRLycM/AZskwsiJwz+Ji50eBZLCP0qMbOsev8E/0+fz1PKywT8hVchX+t/AP6XSclEw7L4/eGXvf9hkvD+IVgJcW7e7P3dH3LFvkro/leSjc7cKuD/r0h0ybd22P9ho0SmMY7U/Uuyi/xzAsz8F9kRUTEyzP3vANPklmbI/",
          "dtype": "f8"
         },
         "yaxis": "y"
        }
       ],
       "layout": {
        "barmode": "relative",
        "height": 600,
        "legend": {
         "tracegroupgap": 0
        },
        "showlegend": false,
        "template": {
         "data": {
          "bar": [
           {
            "error_x": {
             "color": "#f2f5fa"
            },
            "error_y": {
             "color": "#f2f5fa"
            },
            "marker": {
             "line": {
              "color": "rgb(17,17,17)",
              "width": 0.5
             },
             "pattern": {
              "fillmode": "overlay",
              "size": 10,
              "solidity": 0.2
             }
            },
            "type": "bar"
           }
          ],
          "barpolar": [
           {
            "marker": {
             "line": {
              "color": "rgb(17,17,17)",
              "width": 0.5
             },
             "pattern": {
              "fillmode": "overlay",
              "size": 10,
              "solidity": 0.2
             }
            },
            "type": "barpolar"
           }
          ],
          "carpet": [
           {
            "aaxis": {
             "endlinecolor": "#A2B1C6",
             "gridcolor": "#506784",
             "linecolor": "#506784",
             "minorgridcolor": "#506784",
             "startlinecolor": "#A2B1C6"
            },
            "baxis": {
             "endlinecolor": "#A2B1C6",
             "gridcolor": "#506784",
             "linecolor": "#506784",
             "minorgridcolor": "#506784",
             "startlinecolor": "#A2B1C6"
            },
            "type": "carpet"
           }
          ],
          "choropleth": [
           {
            "colorbar": {
             "outlinewidth": 0,
             "ticks": ""
            },
            "type": "choropleth"
           }
          ],
          "contour": [
           {
            "colorbar": {
             "outlinewidth": 0,
             "ticks": ""
            },
            "colorscale": [
             [
              0,
              "#0d0887"
             ],
             [
              0.1111111111111111,
              "#46039f"
             ],
             [
              0.2222222222222222,
              "#7201a8"
             ],
             [
              0.3333333333333333,
              "#9c179e"
             ],
             [
              0.4444444444444444,
              "#bd3786"
             ],
             [
              0.5555555555555556,
              "#d8576b"
             ],
             [
              0.6666666666666666,
              "#ed7953"
             ],
             [
              0.7777777777777778,
              "#fb9f3a"
             ],
             [
              0.8888888888888888,
              "#fdca26"
             ],
             [
              1,
              "#f0f921"
             ]
            ],
            "type": "contour"
           }
          ],
          "contourcarpet": [
           {
            "colorbar": {
             "outlinewidth": 0,
             "ticks": ""
            },
            "type": "contourcarpet"
           }
          ],
          "heatmap": [
           {
            "colorbar": {
             "outlinewidth": 0,
             "ticks": ""
            },
            "colorscale": [
             [
              0,
              "#0d0887"
             ],
             [
              0.1111111111111111,
              "#46039f"
             ],
             [
              0.2222222222222222,
              "#7201a8"
             ],
             [
              0.3333333333333333,
              "#9c179e"
             ],
             [
              0.4444444444444444,
              "#bd3786"
             ],
             [
              0.5555555555555556,
              "#d8576b"
             ],
             [
              0.6666666666666666,
              "#ed7953"
             ],
             [
              0.7777777777777778,
              "#fb9f3a"
             ],
             [
              0.8888888888888888,
              "#fdca26"
             ],
             [
              1,
              "#f0f921"
             ]
            ],
            "type": "heatmap"
           }
          ],
          "histogram": [
           {
            "marker": {
             "pattern": {
              "fillmode": "overlay",
              "size": 10,
              "solidity": 0.2
             }
            },
            "type": "histogram"
           }
          ],
          "histogram2d": [
           {
            "colorbar": {
             "outlinewidth": 0,
             "ticks": ""
            },
            "colorscale": [
             [
              0,
              "#0d0887"
             ],
             [
              0.1111111111111111,
              "#46039f"
             ],
             [
              0.2222222222222222,
              "#7201a8"
             ],
             [
              0.3333333333333333,
              "#9c179e"
             ],
             [
              0.4444444444444444,
              "#bd3786"
             ],
             [
              0.5555555555555556,
              "#d8576b"
             ],
             [
              0.6666666666666666,
              "#ed7953"
             ],
             [
              0.7777777777777778,
              "#fb9f3a"
             ],
             [
              0.8888888888888888,
              "#fdca26"
             ],
             [
              1,
              "#f0f921"
             ]
            ],
            "type": "histogram2d"
           }
          ],
          "histogram2dcontour": [
           {
            "colorbar": {
             "outlinewidth": 0,
             "ticks": ""
            },
            "colorscale": [
             [
              0,
              "#0d0887"
             ],
             [
              0.1111111111111111,
              "#46039f"
             ],
             [
              0.2222222222222222,
              "#7201a8"
             ],
             [
              0.3333333333333333,
              "#9c179e"
             ],
             [
              0.4444444444444444,
              "#bd3786"
             ],
             [
              0.5555555555555556,
              "#d8576b"
             ],
             [
              0.6666666666666666,
              "#ed7953"
             ],
             [
              0.7777777777777778,
              "#fb9f3a"
             ],
             [
              0.8888888888888888,
              "#fdca26"
             ],
             [
              1,
              "#f0f921"
             ]
            ],
            "type": "histogram2dcontour"
           }
          ],
          "mesh3d": [
           {
            "colorbar": {
             "outlinewidth": 0,
             "ticks": ""
            },
            "type": "mesh3d"
           }
          ],
          "parcoords": [
           {
            "line": {
             "colorbar": {
              "outlinewidth": 0,
              "ticks": ""
             }
            },
            "type": "parcoords"
           }
          ],
          "pie": [
           {
            "automargin": true,
            "type": "pie"
           }
          ],
          "scatter": [
           {
            "marker": {
             "line": {
              "color": "#283442"
             }
            },
            "type": "scatter"
           }
          ],
          "scatter3d": [
           {
            "line": {
             "colorbar": {
              "outlinewidth": 0,
              "ticks": ""
             }
            },
            "marker": {
             "colorbar": {
              "outlinewidth": 0,
              "ticks": ""
             }
            },
            "type": "scatter3d"
           }
          ],
          "scattercarpet": [
           {
            "marker": {
             "colorbar": {
              "outlinewidth": 0,
              "ticks": ""
             }
            },
            "type": "scattercarpet"
           }
          ],
          "scattergeo": [
           {
            "marker": {
             "colorbar": {
              "outlinewidth": 0,
              "ticks": ""
             }
            },
            "type": "scattergeo"
           }
          ],
          "scattergl": [
           {
            "marker": {
             "line": {
              "color": "#283442"
             }
            },
            "type": "scattergl"
           }
          ],
          "scattermap": [
           {
            "marker": {
             "colorbar": {
              "outlinewidth": 0,
              "ticks": ""
             }
            },
            "type": "scattermap"
           }
          ],
          "scattermapbox": [
           {
            "marker": {
             "colorbar": {
              "outlinewidth": 0,
              "ticks": ""
             }
            },
            "type": "scattermapbox"
           }
          ],
          "scatterpolar": [
           {
            "marker": {
             "colorbar": {
              "outlinewidth": 0,
              "ticks": ""
             }
            },
            "type": "scatterpolar"
           }
          ],
          "scatterpolargl": [
           {
            "marker": {
             "colorbar": {
              "outlinewidth": 0,
              "ticks": ""
             }
            },
            "type": "scatterpolargl"
           }
          ],
          "scatterternary": [
           {
            "marker": {
             "colorbar": {
              "outlinewidth": 0,
              "ticks": ""
             }
            },
            "type": "scatterternary"
           }
          ],
          "surface": [
           {
            "colorbar": {
             "outlinewidth": 0,
             "ticks": ""
            },
            "colorscale": [
             [
              0,
              "#0d0887"
             ],
             [
              0.1111111111111111,
              "#46039f"
             ],
             [
              0.2222222222222222,
              "#7201a8"
             ],
             [
              0.3333333333333333,
              "#9c179e"
             ],
             [
              0.4444444444444444,
              "#bd3786"
             ],
             [
              0.5555555555555556,
              "#d8576b"
             ],
             [
              0.6666666666666666,
              "#ed7953"
             ],
             [
              0.7777777777777778,
              "#fb9f3a"
             ],
             [
              0.8888888888888888,
              "#fdca26"
             ],
             [
              1,
              "#f0f921"
             ]
            ],
            "type": "surface"
           }
          ],
          "table": [
           {
            "cells": {
             "fill": {
              "color": "#506784"
             },
             "line": {
              "color": "rgb(17,17,17)"
             }
            },
            "header": {
             "fill": {
              "color": "#2a3f5f"
             },
             "line": {
              "color": "rgb(17,17,17)"
             }
            },
            "type": "table"
           }
          ]
         },
         "layout": {
          "annotationdefaults": {
           "arrowcolor": "#f2f5fa",
           "arrowhead": 0,
           "arrowwidth": 1
          },
          "autotypenumbers": "strict",
          "coloraxis": {
           "colorbar": {
            "outlinewidth": 0,
            "ticks": ""
           }
          },
          "colorscale": {
           "diverging": [
            [
             0,
             "#8e0152"
            ],
            [
             0.1,
             "#c51b7d"
            ],
            [
             0.2,
             "#de77ae"
            ],
            [
             0.3,
             "#f1b6da"
            ],
            [
             0.4,
             "#fde0ef"
            ],
            [
             0.5,
             "#f7f7f7"
            ],
            [
             0.6,
             "#e6f5d0"
            ],
            [
             0.7,
             "#b8e186"
            ],
            [
             0.8,
             "#7fbc41"
            ],
            [
             0.9,
             "#4d9221"
            ],
            [
             1,
             "#276419"
            ]
           ],
           "sequential": [
            [
             0,
             "#0d0887"
            ],
            [
             0.1111111111111111,
             "#46039f"
            ],
            [
             0.2222222222222222,
             "#7201a8"
            ],
            [
             0.3333333333333333,
             "#9c179e"
            ],
            [
             0.4444444444444444,
             "#bd3786"
            ],
            [
             0.5555555555555556,
             "#d8576b"
            ],
            [
             0.6666666666666666,
             "#ed7953"
            ],
            [
             0.7777777777777778,
             "#fb9f3a"
            ],
            [
             0.8888888888888888,
             "#fdca26"
            ],
            [
             1,
             "#f0f921"
            ]
           ],
           "sequentialminus": [
            [
             0,
             "#0d0887"
            ],
            [
             0.1111111111111111,
             "#46039f"
            ],
            [
             0.2222222222222222,
             "#7201a8"
            ],
            [
             0.3333333333333333,
             "#9c179e"
            ],
            [
             0.4444444444444444,
             "#bd3786"
            ],
            [
             0.5555555555555556,
             "#d8576b"
            ],
            [
             0.6666666666666666,
             "#ed7953"
            ],
            [
             0.7777777777777778,
             "#fb9f3a"
            ],
            [
             0.8888888888888888,
             "#fdca26"
            ],
            [
             1,
             "#f0f921"
            ]
           ]
          },
          "colorway": [
           "#636efa",
           "#EF553B",
           "#00cc96",
           "#ab63fa",
           "#FFA15A",
           "#19d3f3",
           "#FF6692",
           "#B6E880",
           "#FF97FF",
           "#FECB52"
          ],
          "font": {
           "color": "#f2f5fa"
          },
          "geo": {
           "bgcolor": "rgb(17,17,17)",
           "lakecolor": "rgb(17,17,17)",
           "landcolor": "rgb(17,17,17)",
           "showlakes": true,
           "showland": true,
           "subunitcolor": "#506784"
          },
          "hoverlabel": {
           "align": "left"
          },
          "hovermode": "closest",
          "mapbox": {
           "style": "dark"
          },
          "paper_bgcolor": "rgb(17,17,17)",
          "plot_bgcolor": "rgb(17,17,17)",
          "polar": {
           "angularaxis": {
            "gridcolor": "#506784",
            "linecolor": "#506784",
            "ticks": ""
           },
           "bgcolor": "rgb(17,17,17)",
           "radialaxis": {
            "gridcolor": "#506784",
            "linecolor": "#506784",
            "ticks": ""
           }
          },
          "scene": {
           "xaxis": {
            "backgroundcolor": "rgb(17,17,17)",
            "gridcolor": "#506784",
            "gridwidth": 2,
            "linecolor": "#506784",
            "showbackground": true,
            "ticks": "",
            "zerolinecolor": "#C8D4E3"
           },
           "yaxis": {
            "backgroundcolor": "rgb(17,17,17)",
            "gridcolor": "#506784",
            "gridwidth": 2,
            "linecolor": "#506784",
            "showbackground": true,
            "ticks": "",
            "zerolinecolor": "#C8D4E3"
           },
           "zaxis": {
            "backgroundcolor": "rgb(17,17,17)",
            "gridcolor": "#506784",
            "gridwidth": 2,
            "linecolor": "#506784",
            "showbackground": true,
            "ticks": "",
            "zerolinecolor": "#C8D4E3"
           }
          },
          "shapedefaults": {
           "line": {
            "color": "#f2f5fa"
           }
          },
          "sliderdefaults": {
           "bgcolor": "#C8D4E3",
           "bordercolor": "rgb(17,17,17)",
           "borderwidth": 1,
           "tickwidth": 0
          },
          "ternary": {
           "aaxis": {
            "gridcolor": "#506784",
            "linecolor": "#506784",
            "ticks": ""
           },
           "baxis": {
            "gridcolor": "#506784",
            "linecolor": "#506784",
            "ticks": ""
           },
           "bgcolor": "rgb(17,17,17)",
           "caxis": {
            "gridcolor": "#506784",
            "linecolor": "#506784",
            "ticks": ""
           }
          },
          "title": {
           "x": 0.05
          },
          "updatemenudefaults": {
           "bgcolor": "#506784",
           "borderwidth": 0
          },
          "xaxis": {
           "automargin": true,
           "gridcolor": "#283442",
           "linecolor": "#506784",
           "ticks": "",
           "title": {
            "standoff": 15
           },
           "zerolinecolor": "#283442",
           "zerolinewidth": 2
          },
          "yaxis": {
           "automargin": true,
           "gridcolor": "#283442",
           "linecolor": "#506784",
           "ticks": "",
           "title": {
            "standoff": 15
           },
           "zerolinecolor": "#283442",
           "zerolinewidth": 2
          }
         }
        },
        "title": {
         "text": "Average Correlation to TOP_20 (Last 4 Seasons)"
        },
        "width": 1000,
        "xaxis": {
         "anchor": "y",
         "domain": [
          0,
          1
         ],
         "tickangle": -45,
         "title": {
          "text": "Feature"
         }
        },
        "yaxis": {
         "anchor": "x",
         "domain": [
          0,
          1
         ],
         "title": {
          "text": "Avg Correlation"
         }
        }
       }
      }
     },
     "metadata": {},
     "output_type": "display_data"
    }
   ],
   "source": [
    "import pandas as pd\n",
    "import numpy as np\n",
    "import plotly.express as px\n",
    "\n",
    "# === Rebuild correlation matrices for the 4 most recent seasons ===\n",
    "cor = {}\n",
    "recent_seasons = sorted(training_df[\"SEASON\"].unique())[-4:]\n",
    "\n",
    "for season in recent_seasons:\n",
    "    df_season = training_df[training_df[\"SEASON\"] == season].copy()\n",
    "    numeric_cols = df_season.select_dtypes(include=[\"float64\", \"int64\"])\n",
    "    cor[int(season)] = numeric_cols.corr().abs()\n",
    "\n",
    "# === Combine into one summary DataFrame ===\n",
    "cor_df = pd.DataFrame()\n",
    "\n",
    "for season in recent_seasons:\n",
    "    df = cor[season].reset_index()\n",
    "    if \"TOP_20\" not in df.columns:\n",
    "        continue\n",
    "    temp = df[[\"index\", \"TOP_20\"]].copy()\n",
    "    temp = temp.rename(columns={\"TOP_20\": str(season)})\n",
    "    if cor_df.empty:\n",
    "        cor_df = temp\n",
    "    else:\n",
    "        cor_df = cor_df.merge(temp, on=\"index\", how=\"outer\")\n",
    "\n",
    "# Drop target and metadata rows\n",
    "cor_df = cor_df[~cor_df[\"index\"].isin([\"TOP_20\", \"FINAL_POS\", \"SEASON\"])]\n",
    "\n",
    "# Compute average correlation across seasons\n",
    "cor_df[\"AVERAGE\"] = cor_df.drop(columns=[\"index\"]).mean(axis=1)\n",
    "cor_df = cor_df.sort_values(by=\"AVERAGE\", ascending=False)\n",
    "\n",
    "# === Plotly Bar Chart ===\n",
    "fig = px.bar(\n",
    "    cor_df,\n",
    "    x=\"index\",\n",
    "    y=\"AVERAGE\",\n",
    "    title=\"Average Correlation to TOP_20 (Last 4 Seasons)\",\n",
    "    labels={\"index\": \"Feature\", \"AVERAGE\": \"Avg Correlation\"},\n",
    "    template=\"plotly_dark\"\n",
    ")\n",
    "\n",
    "fig.update_layout(\n",
    "    xaxis_tickangle=-45,\n",
    "    height=600,\n",
    "    width=1000,\n",
    "    showlegend=False\n",
    ")\n",
    "\n",
    "fig.show()\n"
   ]
  },
  {
   "cell_type": "markdown",
   "id": "b551789e",
   "metadata": {},
   "source": [
    "# ML Model"
   ]
  },
  {
   "cell_type": "markdown",
   "id": "d7df2d9b",
   "metadata": {},
   "source": [
    "## Predictors"
   ]
  },
  {
   "cell_type": "code",
   "execution_count": 40,
   "id": "7de6b0ed",
   "metadata": {},
   "outputs": [
    {
     "name": "stdout",
     "output_type": "stream",
     "text": [
      "Selected 39 features:\n",
      " ['SGTTG_RANK', 'SGTTG', 'SGOTT_RANK', 'SGOTT', 'SGAPR_RANK', 'SGAPR', 'SGATG_RANK', 'SGATG', 'SGP_RANK', 'SGP', 'BIRDIES_RANK', 'BIRDIES', 'PAR_3_RANK', 'PAR_3', 'PAR_4_RANK', 'PAR_4', 'PAR_5_RANK', 'PAR_5', 'TOTAL_DRIVING_RANK', 'TOTAL_DRIVING', 'DRIVING_DISTANCE_RANK', 'DRIVING_DISTANCE', 'DRIVING_ACCURACY_RANK', 'DRIVING_ACCURACY', 'GIR_RANK', 'GIR', 'SCRAMBLING_RANK', 'SCRAMBLING', 'OWGR_RANK', 'OWGR', 'VEGAS_ODDS', 'CUT_PERCENTAGE', 'FEDEX_CUP_POINTS', 'form_density', 'CONSECUTIVE_CUTS', 'RECENT_FORM', 'adj_form', 'COURSE_HISTORY', 'adj_ch']\n"
     ]
    }
   ],
   "source": [
    "# === Define Features and Target ===\n",
    "target_col = \"TOP_20\"\n",
    "\n",
    "# Columns to exclude from features\n",
    "exclude = [\n",
    "    \"PLAYER\", \"TOURNAMENT\", \"COURSE\", \"ENDING_DATE\", \"SEASON\", \"TOURN_ID\",\n",
    "    \"TOP_20\", \"FINAL_POS\"  \n",
    "]\n",
    "\n",
    "# Select numeric feature columns\n",
    "feature_cols = [\n",
    "    col for col in training_df.columns\n",
    "    if col not in exclude and training_df[col].dtype in [np.float64, np.int64]\n",
    "]\n",
    "\n",
    "print(f\"Selected {len(feature_cols)} features:\\n\", feature_cols)"
   ]
  },
  {
   "cell_type": "markdown",
   "id": "8cb568b3",
   "metadata": {},
   "source": [
    "### Random Forest\n",
    "Initial default model before hyperparameter tuning.\n",
    "\n",
    "This one actually performed really well (ROC AUC above 0.85).  Strangely doing hyperparameter tuning hurt the model (less than 0.7), so I removed that step and we will just use this default model.  This does cross-validation testing on 5 folds to ensure robust train/test splits."
   ]
  },
  {
   "cell_type": "code",
   "execution_count": 41,
   "id": "4879d3d9",
   "metadata": {},
   "outputs": [
    {
     "name": "stdout",
     "output_type": "stream",
     "text": [
      "📊 Random Forest (All Features)\n",
      "Cross-validation scores: [0.93496503 0.92956731 0.928125   0.85432692 0.90269886]\n",
      "Average ROC AUC score: 0.91\n"
     ]
    }
   ],
   "source": [
    "from sklearn.ensemble import RandomForestClassifier\n",
    "from sklearn.model_selection import cross_val_score, StratifiedKFold\n",
    "from sklearn.preprocessing import StandardScaler\n",
    "from imblearn.over_sampling import SMOTE\n",
    "from imblearn.under_sampling import RandomUnderSampler\n",
    "from imblearn.pipeline import Pipeline\n",
    "\n",
    "# === Standardize features ===\n",
    "scaler = StandardScaler()\n",
    "X_rf_std = scaler.fit_transform(training_df[feature_cols])\n",
    "y_rf = training_df[\"TOP_20\"]\n",
    "\n",
    "# === Balance the dataset with SMOTE and undersampling ===\n",
    "over = SMOTE(sampling_strategy=0.5, k_neighbors=3)\n",
    "under = RandomUnderSampler(sampling_strategy=0.5)\n",
    "pipeline = Pipeline([(\"o\", over), (\"u\", under)])\n",
    "X_rf_bal, y_rf_bal = pipeline.fit_resample(X_rf_std, y_rf)\n",
    "\n",
    "# === Define and evaluate Random Forest ===\n",
    "rf = RandomForestClassifier(n_estimators=100, random_state=42)\n",
    "cv = StratifiedKFold(n_splits=5, shuffle=True, random_state=42)\n",
    "scores = cross_val_score(rf, X_rf_bal, y_rf_bal, cv=cv, scoring=\"roc_auc\")\n",
    "\n",
    "print(\"📊 Random Forest (All Features)\")\n",
    "print(\"Cross-validation scores:\", scores)\n",
    "print(\"Average ROC AUC score: {:.2f}\".format(scores.mean()))\n"
   ]
  },
  {
   "cell_type": "markdown",
   "id": "4fe9c753",
   "metadata": {},
   "source": [
    "Random Forest Training & Feature Importance\n",
    "\n",
    "Now we train on all the data (no longer cross-validation folds) and extract the feature importance to see how it compares with linear correlations.\n"
   ]
  },
  {
   "cell_type": "code",
   "execution_count": 43,
   "id": "74c2a8b7",
   "metadata": {},
   "outputs": [
    {
     "data": {
      "application/vnd.plotly.v1+json": {
       "config": {
        "plotlyServerURL": "https://plot.ly"
       },
       "data": [
        {
         "hovertemplate": "Feature=%{x}<br>Importance=%{y}<extra></extra>",
         "legendgroup": "",
         "marker": {
          "color": "#636efa",
          "pattern": {
           "shape": ""
          }
         },
         "name": "",
         "orientation": "v",
         "showlegend": false,
         "textposition": "auto",
         "type": "bar",
         "x": [
          "OWGR",
          "OWGR_RANK",
          "SGTTG_RANK",
          "VEGAS_ODDS",
          "SGOTT",
          "SGOTT_RANK",
          "PAR_5_RANK",
          "SGTTG",
          "BIRDIES_RANK",
          "FEDEX_CUP_POINTS",
          "TOTAL_DRIVING_RANK",
          "CUT_PERCENTAGE",
          "PAR_4_RANK",
          "BIRDIES",
          "TOTAL_DRIVING",
          "PAR_4",
          "adj_form",
          "SGP",
          "GIR",
          "SGP_RANK",
          "RECENT_FORM",
          "PAR_5",
          "GIR_RANK",
          "SCRAMBLING_RANK",
          "adj_ch",
          "COURSE_HISTORY",
          "SGAPR_RANK",
          "form_density",
          "SCRAMBLING",
          "SGAPR",
          "DRIVING_ACCURACY",
          "SGATG",
          "PAR_3_RANK",
          "SGATG_RANK",
          "CONSECUTIVE_CUTS",
          "DRIVING_ACCURACY_RANK",
          "PAR_3",
          "DRIVING_DISTANCE_RANK",
          "DRIVING_DISTANCE"
         ],
         "xaxis": "x",
         "y": {
          "bdata": "otFJOItRuD96rQ2m7Fa3PzoVLZJH1a0/XR3Ep7OxrD8yEL0IlmqoP7lkH5DPuKM/RzjzwK5boD926u4DtLCeP8XTfNrg0pw/1vgnxNHwmz8z6063RCeaP8VIxyBEB5k/CGIpbIFrmD+pmUu10NiXP3qzaYNBZ5Y/rSZeiLIVlj8vhX5FetiVP97FjffmhJU/fLM8IEzPkz/uY6uYt6+TP5xAvVLrb5M/oJ5as9Pukj96bYbl5KqSPw1TXZ/WE5E/hpo7dt/ikD/lNhFv5cGQP/seY/InhJA/g52G+K7hjz/i0bPoIRqOP2OU9XGle4w/wOeL1A5Riz+9pbJSThmLP51xqEPTeYo/G0nGwSEbij/DYJAsEXGJP9CnXmedKYk/JusLK1Sahz+/6baBCQGFP6r3o/wp6YQ/",
          "dtype": "f8"
         },
         "yaxis": "y"
        }
       ],
       "layout": {
        "barmode": "relative",
        "legend": {
         "tracegroupgap": 0
        },
        "template": {
         "data": {
          "bar": [
           {
            "error_x": {
             "color": "#f2f5fa"
            },
            "error_y": {
             "color": "#f2f5fa"
            },
            "marker": {
             "line": {
              "color": "rgb(17,17,17)",
              "width": 0.5
             },
             "pattern": {
              "fillmode": "overlay",
              "size": 10,
              "solidity": 0.2
             }
            },
            "type": "bar"
           }
          ],
          "barpolar": [
           {
            "marker": {
             "line": {
              "color": "rgb(17,17,17)",
              "width": 0.5
             },
             "pattern": {
              "fillmode": "overlay",
              "size": 10,
              "solidity": 0.2
             }
            },
            "type": "barpolar"
           }
          ],
          "carpet": [
           {
            "aaxis": {
             "endlinecolor": "#A2B1C6",
             "gridcolor": "#506784",
             "linecolor": "#506784",
             "minorgridcolor": "#506784",
             "startlinecolor": "#A2B1C6"
            },
            "baxis": {
             "endlinecolor": "#A2B1C6",
             "gridcolor": "#506784",
             "linecolor": "#506784",
             "minorgridcolor": "#506784",
             "startlinecolor": "#A2B1C6"
            },
            "type": "carpet"
           }
          ],
          "choropleth": [
           {
            "colorbar": {
             "outlinewidth": 0,
             "ticks": ""
            },
            "type": "choropleth"
           }
          ],
          "contour": [
           {
            "colorbar": {
             "outlinewidth": 0,
             "ticks": ""
            },
            "colorscale": [
             [
              0,
              "#0d0887"
             ],
             [
              0.1111111111111111,
              "#46039f"
             ],
             [
              0.2222222222222222,
              "#7201a8"
             ],
             [
              0.3333333333333333,
              "#9c179e"
             ],
             [
              0.4444444444444444,
              "#bd3786"
             ],
             [
              0.5555555555555556,
              "#d8576b"
             ],
             [
              0.6666666666666666,
              "#ed7953"
             ],
             [
              0.7777777777777778,
              "#fb9f3a"
             ],
             [
              0.8888888888888888,
              "#fdca26"
             ],
             [
              1,
              "#f0f921"
             ]
            ],
            "type": "contour"
           }
          ],
          "contourcarpet": [
           {
            "colorbar": {
             "outlinewidth": 0,
             "ticks": ""
            },
            "type": "contourcarpet"
           }
          ],
          "heatmap": [
           {
            "colorbar": {
             "outlinewidth": 0,
             "ticks": ""
            },
            "colorscale": [
             [
              0,
              "#0d0887"
             ],
             [
              0.1111111111111111,
              "#46039f"
             ],
             [
              0.2222222222222222,
              "#7201a8"
             ],
             [
              0.3333333333333333,
              "#9c179e"
             ],
             [
              0.4444444444444444,
              "#bd3786"
             ],
             [
              0.5555555555555556,
              "#d8576b"
             ],
             [
              0.6666666666666666,
              "#ed7953"
             ],
             [
              0.7777777777777778,
              "#fb9f3a"
             ],
             [
              0.8888888888888888,
              "#fdca26"
             ],
             [
              1,
              "#f0f921"
             ]
            ],
            "type": "heatmap"
           }
          ],
          "histogram": [
           {
            "marker": {
             "pattern": {
              "fillmode": "overlay",
              "size": 10,
              "solidity": 0.2
             }
            },
            "type": "histogram"
           }
          ],
          "histogram2d": [
           {
            "colorbar": {
             "outlinewidth": 0,
             "ticks": ""
            },
            "colorscale": [
             [
              0,
              "#0d0887"
             ],
             [
              0.1111111111111111,
              "#46039f"
             ],
             [
              0.2222222222222222,
              "#7201a8"
             ],
             [
              0.3333333333333333,
              "#9c179e"
             ],
             [
              0.4444444444444444,
              "#bd3786"
             ],
             [
              0.5555555555555556,
              "#d8576b"
             ],
             [
              0.6666666666666666,
              "#ed7953"
             ],
             [
              0.7777777777777778,
              "#fb9f3a"
             ],
             [
              0.8888888888888888,
              "#fdca26"
             ],
             [
              1,
              "#f0f921"
             ]
            ],
            "type": "histogram2d"
           }
          ],
          "histogram2dcontour": [
           {
            "colorbar": {
             "outlinewidth": 0,
             "ticks": ""
            },
            "colorscale": [
             [
              0,
              "#0d0887"
             ],
             [
              0.1111111111111111,
              "#46039f"
             ],
             [
              0.2222222222222222,
              "#7201a8"
             ],
             [
              0.3333333333333333,
              "#9c179e"
             ],
             [
              0.4444444444444444,
              "#bd3786"
             ],
             [
              0.5555555555555556,
              "#d8576b"
             ],
             [
              0.6666666666666666,
              "#ed7953"
             ],
             [
              0.7777777777777778,
              "#fb9f3a"
             ],
             [
              0.8888888888888888,
              "#fdca26"
             ],
             [
              1,
              "#f0f921"
             ]
            ],
            "type": "histogram2dcontour"
           }
          ],
          "mesh3d": [
           {
            "colorbar": {
             "outlinewidth": 0,
             "ticks": ""
            },
            "type": "mesh3d"
           }
          ],
          "parcoords": [
           {
            "line": {
             "colorbar": {
              "outlinewidth": 0,
              "ticks": ""
             }
            },
            "type": "parcoords"
           }
          ],
          "pie": [
           {
            "automargin": true,
            "type": "pie"
           }
          ],
          "scatter": [
           {
            "marker": {
             "line": {
              "color": "#283442"
             }
            },
            "type": "scatter"
           }
          ],
          "scatter3d": [
           {
            "line": {
             "colorbar": {
              "outlinewidth": 0,
              "ticks": ""
             }
            },
            "marker": {
             "colorbar": {
              "outlinewidth": 0,
              "ticks": ""
             }
            },
            "type": "scatter3d"
           }
          ],
          "scattercarpet": [
           {
            "marker": {
             "colorbar": {
              "outlinewidth": 0,
              "ticks": ""
             }
            },
            "type": "scattercarpet"
           }
          ],
          "scattergeo": [
           {
            "marker": {
             "colorbar": {
              "outlinewidth": 0,
              "ticks": ""
             }
            },
            "type": "scattergeo"
           }
          ],
          "scattergl": [
           {
            "marker": {
             "line": {
              "color": "#283442"
             }
            },
            "type": "scattergl"
           }
          ],
          "scattermap": [
           {
            "marker": {
             "colorbar": {
              "outlinewidth": 0,
              "ticks": ""
             }
            },
            "type": "scattermap"
           }
          ],
          "scattermapbox": [
           {
            "marker": {
             "colorbar": {
              "outlinewidth": 0,
              "ticks": ""
             }
            },
            "type": "scattermapbox"
           }
          ],
          "scatterpolar": [
           {
            "marker": {
             "colorbar": {
              "outlinewidth": 0,
              "ticks": ""
             }
            },
            "type": "scatterpolar"
           }
          ],
          "scatterpolargl": [
           {
            "marker": {
             "colorbar": {
              "outlinewidth": 0,
              "ticks": ""
             }
            },
            "type": "scatterpolargl"
           }
          ],
          "scatterternary": [
           {
            "marker": {
             "colorbar": {
              "outlinewidth": 0,
              "ticks": ""
             }
            },
            "type": "scatterternary"
           }
          ],
          "surface": [
           {
            "colorbar": {
             "outlinewidth": 0,
             "ticks": ""
            },
            "colorscale": [
             [
              0,
              "#0d0887"
             ],
             [
              0.1111111111111111,
              "#46039f"
             ],
             [
              0.2222222222222222,
              "#7201a8"
             ],
             [
              0.3333333333333333,
              "#9c179e"
             ],
             [
              0.4444444444444444,
              "#bd3786"
             ],
             [
              0.5555555555555556,
              "#d8576b"
             ],
             [
              0.6666666666666666,
              "#ed7953"
             ],
             [
              0.7777777777777778,
              "#fb9f3a"
             ],
             [
              0.8888888888888888,
              "#fdca26"
             ],
             [
              1,
              "#f0f921"
             ]
            ],
            "type": "surface"
           }
          ],
          "table": [
           {
            "cells": {
             "fill": {
              "color": "#506784"
             },
             "line": {
              "color": "rgb(17,17,17)"
             }
            },
            "header": {
             "fill": {
              "color": "#2a3f5f"
             },
             "line": {
              "color": "rgb(17,17,17)"
             }
            },
            "type": "table"
           }
          ]
         },
         "layout": {
          "annotationdefaults": {
           "arrowcolor": "#f2f5fa",
           "arrowhead": 0,
           "arrowwidth": 1
          },
          "autotypenumbers": "strict",
          "coloraxis": {
           "colorbar": {
            "outlinewidth": 0,
            "ticks": ""
           }
          },
          "colorscale": {
           "diverging": [
            [
             0,
             "#8e0152"
            ],
            [
             0.1,
             "#c51b7d"
            ],
            [
             0.2,
             "#de77ae"
            ],
            [
             0.3,
             "#f1b6da"
            ],
            [
             0.4,
             "#fde0ef"
            ],
            [
             0.5,
             "#f7f7f7"
            ],
            [
             0.6,
             "#e6f5d0"
            ],
            [
             0.7,
             "#b8e186"
            ],
            [
             0.8,
             "#7fbc41"
            ],
            [
             0.9,
             "#4d9221"
            ],
            [
             1,
             "#276419"
            ]
           ],
           "sequential": [
            [
             0,
             "#0d0887"
            ],
            [
             0.1111111111111111,
             "#46039f"
            ],
            [
             0.2222222222222222,
             "#7201a8"
            ],
            [
             0.3333333333333333,
             "#9c179e"
            ],
            [
             0.4444444444444444,
             "#bd3786"
            ],
            [
             0.5555555555555556,
             "#d8576b"
            ],
            [
             0.6666666666666666,
             "#ed7953"
            ],
            [
             0.7777777777777778,
             "#fb9f3a"
            ],
            [
             0.8888888888888888,
             "#fdca26"
            ],
            [
             1,
             "#f0f921"
            ]
           ],
           "sequentialminus": [
            [
             0,
             "#0d0887"
            ],
            [
             0.1111111111111111,
             "#46039f"
            ],
            [
             0.2222222222222222,
             "#7201a8"
            ],
            [
             0.3333333333333333,
             "#9c179e"
            ],
            [
             0.4444444444444444,
             "#bd3786"
            ],
            [
             0.5555555555555556,
             "#d8576b"
            ],
            [
             0.6666666666666666,
             "#ed7953"
            ],
            [
             0.7777777777777778,
             "#fb9f3a"
            ],
            [
             0.8888888888888888,
             "#fdca26"
            ],
            [
             1,
             "#f0f921"
            ]
           ]
          },
          "colorway": [
           "#636efa",
           "#EF553B",
           "#00cc96",
           "#ab63fa",
           "#FFA15A",
           "#19d3f3",
           "#FF6692",
           "#B6E880",
           "#FF97FF",
           "#FECB52"
          ],
          "font": {
           "color": "#f2f5fa"
          },
          "geo": {
           "bgcolor": "rgb(17,17,17)",
           "lakecolor": "rgb(17,17,17)",
           "landcolor": "rgb(17,17,17)",
           "showlakes": true,
           "showland": true,
           "subunitcolor": "#506784"
          },
          "hoverlabel": {
           "align": "left"
          },
          "hovermode": "closest",
          "mapbox": {
           "style": "dark"
          },
          "paper_bgcolor": "rgb(17,17,17)",
          "plot_bgcolor": "rgb(17,17,17)",
          "polar": {
           "angularaxis": {
            "gridcolor": "#506784",
            "linecolor": "#506784",
            "ticks": ""
           },
           "bgcolor": "rgb(17,17,17)",
           "radialaxis": {
            "gridcolor": "#506784",
            "linecolor": "#506784",
            "ticks": ""
           }
          },
          "scene": {
           "xaxis": {
            "backgroundcolor": "rgb(17,17,17)",
            "gridcolor": "#506784",
            "gridwidth": 2,
            "linecolor": "#506784",
            "showbackground": true,
            "ticks": "",
            "zerolinecolor": "#C8D4E3"
           },
           "yaxis": {
            "backgroundcolor": "rgb(17,17,17)",
            "gridcolor": "#506784",
            "gridwidth": 2,
            "linecolor": "#506784",
            "showbackground": true,
            "ticks": "",
            "zerolinecolor": "#C8D4E3"
           },
           "zaxis": {
            "backgroundcolor": "rgb(17,17,17)",
            "gridcolor": "#506784",
            "gridwidth": 2,
            "linecolor": "#506784",
            "showbackground": true,
            "ticks": "",
            "zerolinecolor": "#C8D4E3"
           }
          },
          "shapedefaults": {
           "line": {
            "color": "#f2f5fa"
           }
          },
          "sliderdefaults": {
           "bgcolor": "#C8D4E3",
           "bordercolor": "rgb(17,17,17)",
           "borderwidth": 1,
           "tickwidth": 0
          },
          "ternary": {
           "aaxis": {
            "gridcolor": "#506784",
            "linecolor": "#506784",
            "ticks": ""
           },
           "baxis": {
            "gridcolor": "#506784",
            "linecolor": "#506784",
            "ticks": ""
           },
           "bgcolor": "rgb(17,17,17)",
           "caxis": {
            "gridcolor": "#506784",
            "linecolor": "#506784",
            "ticks": ""
           }
          },
          "title": {
           "x": 0.05
          },
          "updatemenudefaults": {
           "bgcolor": "#506784",
           "borderwidth": 0
          },
          "xaxis": {
           "automargin": true,
           "gridcolor": "#283442",
           "linecolor": "#506784",
           "ticks": "",
           "title": {
            "standoff": 15
           },
           "zerolinecolor": "#283442",
           "zerolinewidth": 2
          },
          "yaxis": {
           "automargin": true,
           "gridcolor": "#283442",
           "linecolor": "#506784",
           "ticks": "",
           "title": {
            "standoff": 15
           },
           "zerolinecolor": "#283442",
           "zerolinewidth": 2
          }
         }
        },
        "title": {
         "text": "Random Forest Feature Importances"
        },
        "xaxis": {
         "anchor": "y",
         "domain": [
          0,
          1
         ],
         "tickangle": -45,
         "title": {
          "text": "Feature"
         }
        },
        "yaxis": {
         "anchor": "x",
         "domain": [
          0,
          1
         ],
         "title": {
          "text": "Importance"
         }
        }
       }
      }
     },
     "metadata": {},
     "output_type": "display_data"
    }
   ],
   "source": [
    "from sklearn.ensemble import RandomForestClassifier\n",
    "from sklearn.calibration import CalibratedClassifierCV\n",
    "from sklearn.preprocessing import StandardScaler\n",
    "from imblearn.pipeline import Pipeline\n",
    "from imblearn.over_sampling import SMOTE\n",
    "from imblearn.under_sampling import RandomUnderSampler\n",
    "import pandas as pd\n",
    "import plotly.express as px\n",
    "\n",
    "# === Resample the full dataset ===\n",
    "over = SMOTE(sampling_strategy=0.5, k_neighbors=3)\n",
    "under = RandomUnderSampler(sampling_strategy=0.5)\n",
    "resample_pipeline = Pipeline([(\"o\", over), (\"u\", under)])\n",
    "X_all_resampled, y_all_resampled = resample_pipeline.fit_resample(\n",
    "    training_df[feature_cols], training_df[\"TOP_20\"]\n",
    ")\n",
    "\n",
    "# === Standardize ===\n",
    "scaler = StandardScaler()\n",
    "X_all_scaled = scaler.fit_transform(X_all_resampled)\n",
    "\n",
    "# === Train Calibrated Random Forest ===\n",
    "base_rf = RandomForestClassifier(random_state=42)\n",
    "final_model = CalibratedClassifierCV(estimator=base_rf, method=\"sigmoid\", cv=5)\n",
    "final_model.fit(X_all_scaled, y_all_resampled)\n",
    "\n",
    "# === Aggregate feature importances across all CV folds ===\n",
    "all_importances = np.array([\n",
    "    est.estimator.feature_importances_ for est in final_model.calibrated_classifiers_\n",
    "])\n",
    "mean_importance = all_importances.mean(axis=0)\n",
    "\n",
    "importance_df = pd.DataFrame({\n",
    "    \"Feature\": feature_cols,\n",
    "    \"Importance\": mean_importance\n",
    "}).sort_values(by=\"Importance\", ascending=False)\n",
    "\n",
    "# === Plot feature importances ===\n",
    "fig = px.bar(\n",
    "    importance_df,\n",
    "    x=\"Feature\",\n",
    "    y=\"Importance\",\n",
    "    title=\"Random Forest Feature Importances\",\n",
    "    template=\"plotly_dark\"\n",
    ")\n",
    "fig.update_layout(xaxis_tickangle=-45)\n",
    "fig.show()\n"
   ]
  },
  {
   "cell_type": "markdown",
   "id": "e5e84f8a",
   "metadata": {},
   "source": [
    "Use this model on this week's data to predict the best performers."
   ]
  },
  {
   "cell_type": "code",
   "execution_count": 44,
   "id": "f0bf9b7d",
   "metadata": {},
   "outputs": [
    {
     "data": {
      "text/html": [
       "<div>\n",
       "<style scoped>\n",
       "    .dataframe tbody tr th:only-of-type {\n",
       "        vertical-align: middle;\n",
       "    }\n",
       "\n",
       "    .dataframe tbody tr th {\n",
       "        vertical-align: top;\n",
       "    }\n",
       "\n",
       "    .dataframe thead th {\n",
       "        text-align: right;\n",
       "    }\n",
       "</style>\n",
       "<table border=\"1\" class=\"dataframe\">\n",
       "  <thead>\n",
       "    <tr style=\"text-align: right;\">\n",
       "      <th></th>\n",
       "      <th>PLAYER</th>\n",
       "      <th>SALARY</th>\n",
       "      <th>PROBABILITY</th>\n",
       "      <th>RECENT_FORM</th>\n",
       "      <th>COURSE_HISTORY</th>\n",
       "      <th>VEGAS_ODDS</th>\n",
       "      <th>CUT_PERCENTAGE</th>\n",
       "      <th>OWGR_RANK</th>\n",
       "      <th>FEDEX_CUP_POINTS</th>\n",
       "      <th>SGTTG_RANK</th>\n",
       "      <th>SGOTT_RANK</th>\n",
       "      <th>SGAPR_RANK</th>\n",
       "      <th>SGATG_RANK</th>\n",
       "      <th>SGP_RANK</th>\n",
       "      <th>BIRDIES_RANK</th>\n",
       "      <th>PAR_3_RANK</th>\n",
       "      <th>PAR_4_RANK</th>\n",
       "      <th>PAR_5_RANK</th>\n",
       "      <th>TOTAL_DRIVING_RANK</th>\n",
       "      <th>DRIVING_DISTANCE_RANK</th>\n",
       "      <th>DRIVING_ACCURACY_RANK</th>\n",
       "      <th>GIR_RANK</th>\n",
       "      <th>SCRAMBLING_RANK</th>\n",
       "    </tr>\n",
       "  </thead>\n",
       "  <tbody>\n",
       "    <tr>\n",
       "      <th>0</th>\n",
       "      <td>J.J. Spaun</td>\n",
       "      <td>8100</td>\n",
       "      <td>0.877225</td>\n",
       "      <td>33.5</td>\n",
       "      <td>58.427451</td>\n",
       "      <td>70.0</td>\n",
       "      <td>82.600000</td>\n",
       "      <td>8.0</td>\n",
       "      <td>2254.437</td>\n",
       "      <td>13.000000</td>\n",
       "      <td>41.00</td>\n",
       "      <td>7.000000</td>\n",
       "      <td>93.000000</td>\n",
       "      <td>39.000000</td>\n",
       "      <td>59.000000</td>\n",
       "      <td>55.0</td>\n",
       "      <td>21.000000</td>\n",
       "      <td>80.000000</td>\n",
       "      <td>22.000000</td>\n",
       "      <td>61.000000</td>\n",
       "      <td>62.000000</td>\n",
       "      <td>39.000000</td>\n",
       "      <td>104.000000</td>\n",
       "    </tr>\n",
       "    <tr>\n",
       "      <th>1</th>\n",
       "      <td>Corey Conners</td>\n",
       "      <td>8900</td>\n",
       "      <td>0.801664</td>\n",
       "      <td>32.6</td>\n",
       "      <td>14.500000</td>\n",
       "      <td>65.0</td>\n",
       "      <td>87.500000</td>\n",
       "      <td>24.0</td>\n",
       "      <td>1465.490</td>\n",
       "      <td>28.000000</td>\n",
       "      <td>15.00</td>\n",
       "      <td>43.000000</td>\n",
       "      <td>113.000000</td>\n",
       "      <td>57.000000</td>\n",
       "      <td>78.000000</td>\n",
       "      <td>80.0</td>\n",
       "      <td>41.000000</td>\n",
       "      <td>80.000000</td>\n",
       "      <td>49.000000</td>\n",
       "      <td>141.000000</td>\n",
       "      <td>14.000000</td>\n",
       "      <td>31.000000</td>\n",
       "      <td>73.000000</td>\n",
       "    </tr>\n",
       "    <tr>\n",
       "      <th>2</th>\n",
       "      <td>Maverick McNealy</td>\n",
       "      <td>8000</td>\n",
       "      <td>0.750660</td>\n",
       "      <td>33.8</td>\n",
       "      <td>38.000000</td>\n",
       "      <td>50.0</td>\n",
       "      <td>82.600000</td>\n",
       "      <td>16.0</td>\n",
       "      <td>2269.672</td>\n",
       "      <td>44.000000</td>\n",
       "      <td>40.00</td>\n",
       "      <td>41.000000</td>\n",
       "      <td>125.000000</td>\n",
       "      <td>34.000000</td>\n",
       "      <td>59.000000</td>\n",
       "      <td>122.0</td>\n",
       "      <td>41.000000</td>\n",
       "      <td>64.000000</td>\n",
       "      <td>96.000000</td>\n",
       "      <td>76.000000</td>\n",
       "      <td>102.000000</td>\n",
       "      <td>48.000000</td>\n",
       "      <td>144.000000</td>\n",
       "    </tr>\n",
       "    <tr>\n",
       "      <th>3</th>\n",
       "      <td>Rory McIlroy</td>\n",
       "      <td>11400</td>\n",
       "      <td>0.704980</td>\n",
       "      <td>19.0</td>\n",
       "      <td>2.000000</td>\n",
       "      <td>10.0</td>\n",
       "      <td>90.900000</td>\n",
       "      <td>2.0</td>\n",
       "      <td>2944.036</td>\n",
       "      <td>11.000000</td>\n",
       "      <td>4.00</td>\n",
       "      <td>80.000000</td>\n",
       "      <td>40.000000</td>\n",
       "      <td>5.000000</td>\n",
       "      <td>13.000000</td>\n",
       "      <td>28.0</td>\n",
       "      <td>21.000000</td>\n",
       "      <td>10.000000</td>\n",
       "      <td>78.000000</td>\n",
       "      <td>2.000000</td>\n",
       "      <td>166.000000</td>\n",
       "      <td>74.000000</td>\n",
       "      <td>25.000000</td>\n",
       "    </tr>\n",
       "    <tr>\n",
       "      <th>4</th>\n",
       "      <td>Justin Thomas</td>\n",
       "      <td>9200</td>\n",
       "      <td>0.689789</td>\n",
       "      <td>25.1</td>\n",
       "      <td>46.700000</td>\n",
       "      <td>35.0</td>\n",
       "      <td>88.200000</td>\n",
       "      <td>4.0</td>\n",
       "      <td>2222.365</td>\n",
       "      <td>25.000000</td>\n",
       "      <td>93.00</td>\n",
       "      <td>15.000000</td>\n",
       "      <td>36.000000</td>\n",
       "      <td>12.000000</td>\n",
       "      <td>1.000000</td>\n",
       "      <td>97.0</td>\n",
       "      <td>2.000000</td>\n",
       "      <td>94.000000</td>\n",
       "      <td>137.000000</td>\n",
       "      <td>67.000000</td>\n",
       "      <td>139.000000</td>\n",
       "      <td>78.000000</td>\n",
       "      <td>109.000000</td>\n",
       "    </tr>\n",
       "    <tr>\n",
       "      <th>5</th>\n",
       "      <td>Collin Morikawa</td>\n",
       "      <td>9600</td>\n",
       "      <td>0.645328</td>\n",
       "      <td>23.6</td>\n",
       "      <td>3.000000</td>\n",
       "      <td>20.0</td>\n",
       "      <td>100.000000</td>\n",
       "      <td>5.0</td>\n",
       "      <td>1427.158</td>\n",
       "      <td>2.000000</td>\n",
       "      <td>10.00</td>\n",
       "      <td>5.000000</td>\n",
       "      <td>70.000000</td>\n",
       "      <td>115.000000</td>\n",
       "      <td>7.000000</td>\n",
       "      <td>6.0</td>\n",
       "      <td>21.000000</td>\n",
       "      <td>80.000000</td>\n",
       "      <td>45.000000</td>\n",
       "      <td>149.000000</td>\n",
       "      <td>3.000000</td>\n",
       "      <td>16.000000</td>\n",
       "      <td>102.000000</td>\n",
       "    </tr>\n",
       "    <tr>\n",
       "      <th>6</th>\n",
       "      <td>Kristoffer Reitan</td>\n",
       "      <td>6900</td>\n",
       "      <td>0.628130</td>\n",
       "      <td>90.0</td>\n",
       "      <td>58.427451</td>\n",
       "      <td>150.0</td>\n",
       "      <td>62.981053</td>\n",
       "      <td>94.0</td>\n",
       "      <td>0.000</td>\n",
       "      <td>67.947368</td>\n",
       "      <td>75.25</td>\n",
       "      <td>73.828947</td>\n",
       "      <td>80.013158</td>\n",
       "      <td>76.618421</td>\n",
       "      <td>73.657895</td>\n",
       "      <td>88.0</td>\n",
       "      <td>64.078947</td>\n",
       "      <td>74.105263</td>\n",
       "      <td>78.789474</td>\n",
       "      <td>83.921053</td>\n",
       "      <td>83.526316</td>\n",
       "      <td>83.592105</td>\n",
       "      <td>84.631579</td>\n",
       "    </tr>\n",
       "    <tr>\n",
       "      <th>7</th>\n",
       "      <td>Laurie Canter</td>\n",
       "      <td>6900</td>\n",
       "      <td>0.625402</td>\n",
       "      <td>81.3</td>\n",
       "      <td>90.000000</td>\n",
       "      <td>150.0</td>\n",
       "      <td>25.000000</td>\n",
       "      <td>69.0</td>\n",
       "      <td>0.000</td>\n",
       "      <td>67.947368</td>\n",
       "      <td>75.25</td>\n",
       "      <td>73.828947</td>\n",
       "      <td>80.013158</td>\n",
       "      <td>76.618421</td>\n",
       "      <td>73.657895</td>\n",
       "      <td>88.0</td>\n",
       "      <td>64.078947</td>\n",
       "      <td>74.105263</td>\n",
       "      <td>78.789474</td>\n",
       "      <td>83.921053</td>\n",
       "      <td>83.526316</td>\n",
       "      <td>83.592105</td>\n",
       "      <td>84.631579</td>\n",
       "    </tr>\n",
       "    <tr>\n",
       "      <th>8</th>\n",
       "      <td>Tommy Fleetwood</td>\n",
       "      <td>9900</td>\n",
       "      <td>0.619487</td>\n",
       "      <td>22.5</td>\n",
       "      <td>26.000000</td>\n",
       "      <td>20.0</td>\n",
       "      <td>92.900000</td>\n",
       "      <td>13.0</td>\n",
       "      <td>1698.648</td>\n",
       "      <td>5.000000</td>\n",
       "      <td>51.00</td>\n",
       "      <td>8.000000</td>\n",
       "      <td>17.000000</td>\n",
       "      <td>33.000000</td>\n",
       "      <td>56.000000</td>\n",
       "      <td>157.0</td>\n",
       "      <td>15.000000</td>\n",
       "      <td>59.000000</td>\n",
       "      <td>91.000000</td>\n",
       "      <td>138.000000</td>\n",
       "      <td>37.000000</td>\n",
       "      <td>128.000000</td>\n",
       "      <td>48.000000</td>\n",
       "    </tr>\n",
       "    <tr>\n",
       "      <th>9</th>\n",
       "      <td>Sepp Straka</td>\n",
       "      <td>8700</td>\n",
       "      <td>0.608388</td>\n",
       "      <td>34.1</td>\n",
       "      <td>90.000000</td>\n",
       "      <td>60.0</td>\n",
       "      <td>73.700000</td>\n",
       "      <td>10.0</td>\n",
       "      <td>2462.765</td>\n",
       "      <td>7.000000</td>\n",
       "      <td>37.00</td>\n",
       "      <td>3.000000</td>\n",
       "      <td>128.000000</td>\n",
       "      <td>40.000000</td>\n",
       "      <td>3.000000</td>\n",
       "      <td>1.0</td>\n",
       "      <td>21.000000</td>\n",
       "      <td>8.000000</td>\n",
       "      <td>51.000000</td>\n",
       "      <td>145.000000</td>\n",
       "      <td>11.000000</td>\n",
       "      <td>1.000000</td>\n",
       "      <td>106.000000</td>\n",
       "    </tr>\n",
       "    <tr>\n",
       "      <th>10</th>\n",
       "      <td>Scottie Scheffler</td>\n",
       "      <td>13100</td>\n",
       "      <td>0.593995</td>\n",
       "      <td>6.9</td>\n",
       "      <td>20.500000</td>\n",
       "      <td>5.5</td>\n",
       "      <td>100.000000</td>\n",
       "      <td>1.0</td>\n",
       "      <td>3975.967</td>\n",
       "      <td>1.000000</td>\n",
       "      <td>3.00</td>\n",
       "      <td>1.000000</td>\n",
       "      <td>25.000000</td>\n",
       "      <td>15.000000</td>\n",
       "      <td>2.000000</td>\n",
       "      <td>22.0</td>\n",
       "      <td>1.000000</td>\n",
       "      <td>1.000000</td>\n",
       "      <td>17.000000</td>\n",
       "      <td>76.000000</td>\n",
       "      <td>39.000000</td>\n",
       "      <td>13.000000</td>\n",
       "      <td>3.000000</td>\n",
       "    </tr>\n",
       "    <tr>\n",
       "      <th>11</th>\n",
       "      <td>Haotong Li</td>\n",
       "      <td>7100</td>\n",
       "      <td>0.562292</td>\n",
       "      <td>90.0</td>\n",
       "      <td>55.500000</td>\n",
       "      <td>125.0</td>\n",
       "      <td>62.981053</td>\n",
       "      <td>107.0</td>\n",
       "      <td>0.000</td>\n",
       "      <td>67.947368</td>\n",
       "      <td>75.25</td>\n",
       "      <td>73.828947</td>\n",
       "      <td>80.013158</td>\n",
       "      <td>76.618421</td>\n",
       "      <td>73.657895</td>\n",
       "      <td>88.0</td>\n",
       "      <td>64.078947</td>\n",
       "      <td>74.105263</td>\n",
       "      <td>78.789474</td>\n",
       "      <td>83.921053</td>\n",
       "      <td>83.526316</td>\n",
       "      <td>83.592105</td>\n",
       "      <td>84.631579</td>\n",
       "    </tr>\n",
       "    <tr>\n",
       "      <th>12</th>\n",
       "      <td>Daniel Brown</td>\n",
       "      <td>7100</td>\n",
       "      <td>0.554635</td>\n",
       "      <td>90.0</td>\n",
       "      <td>61.000000</td>\n",
       "      <td>150.0</td>\n",
       "      <td>62.981053</td>\n",
       "      <td>104.0</td>\n",
       "      <td>0.000</td>\n",
       "      <td>67.947368</td>\n",
       "      <td>75.25</td>\n",
       "      <td>73.828947</td>\n",
       "      <td>80.013158</td>\n",
       "      <td>76.618421</td>\n",
       "      <td>73.657895</td>\n",
       "      <td>88.0</td>\n",
       "      <td>64.078947</td>\n",
       "      <td>74.105263</td>\n",
       "      <td>78.789474</td>\n",
       "      <td>83.921053</td>\n",
       "      <td>83.526316</td>\n",
       "      <td>83.592105</td>\n",
       "      <td>84.631579</td>\n",
       "    </tr>\n",
       "    <tr>\n",
       "      <th>13</th>\n",
       "      <td>Rasmus Neergaard-Petersen</td>\n",
       "      <td>7600</td>\n",
       "      <td>0.553352</td>\n",
       "      <td>41.3</td>\n",
       "      <td>58.427451</td>\n",
       "      <td>60.0</td>\n",
       "      <td>66.700000</td>\n",
       "      <td>82.0</td>\n",
       "      <td>0.000</td>\n",
       "      <td>67.947368</td>\n",
       "      <td>75.25</td>\n",
       "      <td>73.828947</td>\n",
       "      <td>80.013158</td>\n",
       "      <td>76.618421</td>\n",
       "      <td>73.657895</td>\n",
       "      <td>88.0</td>\n",
       "      <td>64.078947</td>\n",
       "      <td>74.105263</td>\n",
       "      <td>78.789474</td>\n",
       "      <td>83.921053</td>\n",
       "      <td>83.526316</td>\n",
       "      <td>83.592105</td>\n",
       "      <td>84.631579</td>\n",
       "    </tr>\n",
       "    <tr>\n",
       "      <th>14</th>\n",
       "      <td>Alex Noren</td>\n",
       "      <td>7500</td>\n",
       "      <td>0.547890</td>\n",
       "      <td>52.8</td>\n",
       "      <td>53.000000</td>\n",
       "      <td>80.0</td>\n",
       "      <td>66.700000</td>\n",
       "      <td>81.0</td>\n",
       "      <td>134.250</td>\n",
       "      <td>67.947368</td>\n",
       "      <td>75.25</td>\n",
       "      <td>73.828947</td>\n",
       "      <td>80.013158</td>\n",
       "      <td>76.618421</td>\n",
       "      <td>73.657895</td>\n",
       "      <td>88.0</td>\n",
       "      <td>64.078947</td>\n",
       "      <td>74.105263</td>\n",
       "      <td>78.789474</td>\n",
       "      <td>83.921053</td>\n",
       "      <td>83.526316</td>\n",
       "      <td>83.592105</td>\n",
       "      <td>84.631579</td>\n",
       "    </tr>\n",
       "    <tr>\n",
       "      <th>15</th>\n",
       "      <td>Aaron Rai</td>\n",
       "      <td>8300</td>\n",
       "      <td>0.509349</td>\n",
       "      <td>38.4</td>\n",
       "      <td>47.000000</td>\n",
       "      <td>65.0</td>\n",
       "      <td>76.500000</td>\n",
       "      <td>34.0</td>\n",
       "      <td>660.480</td>\n",
       "      <td>27.000000</td>\n",
       "      <td>22.00</td>\n",
       "      <td>46.000000</td>\n",
       "      <td>64.000000</td>\n",
       "      <td>117.000000</td>\n",
       "      <td>82.000000</td>\n",
       "      <td>172.0</td>\n",
       "      <td>8.000000</td>\n",
       "      <td>39.000000</td>\n",
       "      <td>71.000000</td>\n",
       "      <td>166.000000</td>\n",
       "      <td>1.000000</td>\n",
       "      <td>21.000000</td>\n",
       "      <td>111.000000</td>\n",
       "    </tr>\n",
       "    <tr>\n",
       "      <th>16</th>\n",
       "      <td>Shaun Norris</td>\n",
       "      <td>6400</td>\n",
       "      <td>0.487537</td>\n",
       "      <td>90.0</td>\n",
       "      <td>58.427451</td>\n",
       "      <td>500.0</td>\n",
       "      <td>62.981053</td>\n",
       "      <td>97.0</td>\n",
       "      <td>0.000</td>\n",
       "      <td>67.947368</td>\n",
       "      <td>75.25</td>\n",
       "      <td>73.828947</td>\n",
       "      <td>80.013158</td>\n",
       "      <td>76.618421</td>\n",
       "      <td>73.657895</td>\n",
       "      <td>88.0</td>\n",
       "      <td>64.078947</td>\n",
       "      <td>74.105263</td>\n",
       "      <td>78.789474</td>\n",
       "      <td>83.921053</td>\n",
       "      <td>83.526316</td>\n",
       "      <td>83.592105</td>\n",
       "      <td>84.631579</td>\n",
       "    </tr>\n",
       "    <tr>\n",
       "      <th>17</th>\n",
       "      <td>Ewen Ferguson</td>\n",
       "      <td>6900</td>\n",
       "      <td>0.469831</td>\n",
       "      <td>90.0</td>\n",
       "      <td>51.000000</td>\n",
       "      <td>150.0</td>\n",
       "      <td>62.981053</td>\n",
       "      <td>147.0</td>\n",
       "      <td>0.000</td>\n",
       "      <td>67.947368</td>\n",
       "      <td>75.25</td>\n",
       "      <td>73.828947</td>\n",
       "      <td>80.013158</td>\n",
       "      <td>76.618421</td>\n",
       "      <td>73.657895</td>\n",
       "      <td>88.0</td>\n",
       "      <td>64.078947</td>\n",
       "      <td>74.105263</td>\n",
       "      <td>78.789474</td>\n",
       "      <td>83.921053</td>\n",
       "      <td>83.526316</td>\n",
       "      <td>83.592105</td>\n",
       "      <td>84.631579</td>\n",
       "    </tr>\n",
       "    <tr>\n",
       "      <th>18</th>\n",
       "      <td>Bud Cauley</td>\n",
       "      <td>7000</td>\n",
       "      <td>0.465831</td>\n",
       "      <td>35.3</td>\n",
       "      <td>58.427451</td>\n",
       "      <td>125.0</td>\n",
       "      <td>87.500000</td>\n",
       "      <td>59.0</td>\n",
       "      <td>872.445</td>\n",
       "      <td>26.000000</td>\n",
       "      <td>43.00</td>\n",
       "      <td>25.000000</td>\n",
       "      <td>87.000000</td>\n",
       "      <td>41.000000</td>\n",
       "      <td>50.000000</td>\n",
       "      <td>112.0</td>\n",
       "      <td>21.000000</td>\n",
       "      <td>80.000000</td>\n",
       "      <td>93.000000</td>\n",
       "      <td>79.000000</td>\n",
       "      <td>98.000000</td>\n",
       "      <td>93.000000</td>\n",
       "      <td>47.000000</td>\n",
       "    </tr>\n",
       "    <tr>\n",
       "      <th>19</th>\n",
       "      <td>Alex Smalley</td>\n",
       "      <td>7000</td>\n",
       "      <td>0.458474</td>\n",
       "      <td>49.9</td>\n",
       "      <td>90.000000</td>\n",
       "      <td>125.0</td>\n",
       "      <td>61.900000</td>\n",
       "      <td>123.0</td>\n",
       "      <td>534.388</td>\n",
       "      <td>14.000000</td>\n",
       "      <td>19.00</td>\n",
       "      <td>69.000000</td>\n",
       "      <td>17.000000</td>\n",
       "      <td>41.000000</td>\n",
       "      <td>24.000000</td>\n",
       "      <td>80.0</td>\n",
       "      <td>2.000000</td>\n",
       "      <td>64.000000</td>\n",
       "      <td>3.000000</td>\n",
       "      <td>48.000000</td>\n",
       "      <td>28.000000</td>\n",
       "      <td>33.000000</td>\n",
       "      <td>20.000000</td>\n",
       "    </tr>\n",
       "  </tbody>\n",
       "</table>\n",
       "</div>"
      ],
      "text/plain": [
       "                       PLAYER  SALARY  PROBABILITY  RECENT_FORM  \\\n",
       "0                  J.J. Spaun    8100     0.877225         33.5   \n",
       "1               Corey Conners    8900     0.801664         32.6   \n",
       "2            Maverick McNealy    8000     0.750660         33.8   \n",
       "3                Rory McIlroy   11400     0.704980         19.0   \n",
       "4               Justin Thomas    9200     0.689789         25.1   \n",
       "5             Collin Morikawa    9600     0.645328         23.6   \n",
       "6           Kristoffer Reitan    6900     0.628130         90.0   \n",
       "7               Laurie Canter    6900     0.625402         81.3   \n",
       "8             Tommy Fleetwood    9900     0.619487         22.5   \n",
       "9                 Sepp Straka    8700     0.608388         34.1   \n",
       "10          Scottie Scheffler   13100     0.593995          6.9   \n",
       "11                 Haotong Li    7100     0.562292         90.0   \n",
       "12               Daniel Brown    7100     0.554635         90.0   \n",
       "13  Rasmus Neergaard-Petersen    7600     0.553352         41.3   \n",
       "14                 Alex Noren    7500     0.547890         52.8   \n",
       "15                  Aaron Rai    8300     0.509349         38.4   \n",
       "16               Shaun Norris    6400     0.487537         90.0   \n",
       "17              Ewen Ferguson    6900     0.469831         90.0   \n",
       "18                 Bud Cauley    7000     0.465831         35.3   \n",
       "19               Alex Smalley    7000     0.458474         49.9   \n",
       "\n",
       "    COURSE_HISTORY  VEGAS_ODDS  CUT_PERCENTAGE  OWGR_RANK  FEDEX_CUP_POINTS  \\\n",
       "0        58.427451        70.0       82.600000        8.0          2254.437   \n",
       "1        14.500000        65.0       87.500000       24.0          1465.490   \n",
       "2        38.000000        50.0       82.600000       16.0          2269.672   \n",
       "3         2.000000        10.0       90.900000        2.0          2944.036   \n",
       "4        46.700000        35.0       88.200000        4.0          2222.365   \n",
       "5         3.000000        20.0      100.000000        5.0          1427.158   \n",
       "6        58.427451       150.0       62.981053       94.0             0.000   \n",
       "7        90.000000       150.0       25.000000       69.0             0.000   \n",
       "8        26.000000        20.0       92.900000       13.0          1698.648   \n",
       "9        90.000000        60.0       73.700000       10.0          2462.765   \n",
       "10       20.500000         5.5      100.000000        1.0          3975.967   \n",
       "11       55.500000       125.0       62.981053      107.0             0.000   \n",
       "12       61.000000       150.0       62.981053      104.0             0.000   \n",
       "13       58.427451        60.0       66.700000       82.0             0.000   \n",
       "14       53.000000        80.0       66.700000       81.0           134.250   \n",
       "15       47.000000        65.0       76.500000       34.0           660.480   \n",
       "16       58.427451       500.0       62.981053       97.0             0.000   \n",
       "17       51.000000       150.0       62.981053      147.0             0.000   \n",
       "18       58.427451       125.0       87.500000       59.0           872.445   \n",
       "19       90.000000       125.0       61.900000      123.0           534.388   \n",
       "\n",
       "    SGTTG_RANK  SGOTT_RANK  SGAPR_RANK  SGATG_RANK    SGP_RANK  BIRDIES_RANK  \\\n",
       "0    13.000000       41.00    7.000000   93.000000   39.000000     59.000000   \n",
       "1    28.000000       15.00   43.000000  113.000000   57.000000     78.000000   \n",
       "2    44.000000       40.00   41.000000  125.000000   34.000000     59.000000   \n",
       "3    11.000000        4.00   80.000000   40.000000    5.000000     13.000000   \n",
       "4    25.000000       93.00   15.000000   36.000000   12.000000      1.000000   \n",
       "5     2.000000       10.00    5.000000   70.000000  115.000000      7.000000   \n",
       "6    67.947368       75.25   73.828947   80.013158   76.618421     73.657895   \n",
       "7    67.947368       75.25   73.828947   80.013158   76.618421     73.657895   \n",
       "8     5.000000       51.00    8.000000   17.000000   33.000000     56.000000   \n",
       "9     7.000000       37.00    3.000000  128.000000   40.000000      3.000000   \n",
       "10    1.000000        3.00    1.000000   25.000000   15.000000      2.000000   \n",
       "11   67.947368       75.25   73.828947   80.013158   76.618421     73.657895   \n",
       "12   67.947368       75.25   73.828947   80.013158   76.618421     73.657895   \n",
       "13   67.947368       75.25   73.828947   80.013158   76.618421     73.657895   \n",
       "14   67.947368       75.25   73.828947   80.013158   76.618421     73.657895   \n",
       "15   27.000000       22.00   46.000000   64.000000  117.000000     82.000000   \n",
       "16   67.947368       75.25   73.828947   80.013158   76.618421     73.657895   \n",
       "17   67.947368       75.25   73.828947   80.013158   76.618421     73.657895   \n",
       "18   26.000000       43.00   25.000000   87.000000   41.000000     50.000000   \n",
       "19   14.000000       19.00   69.000000   17.000000   41.000000     24.000000   \n",
       "\n",
       "    PAR_3_RANK  PAR_4_RANK  PAR_5_RANK  TOTAL_DRIVING_RANK  \\\n",
       "0         55.0   21.000000   80.000000           22.000000   \n",
       "1         80.0   41.000000   80.000000           49.000000   \n",
       "2        122.0   41.000000   64.000000           96.000000   \n",
       "3         28.0   21.000000   10.000000           78.000000   \n",
       "4         97.0    2.000000   94.000000          137.000000   \n",
       "5          6.0   21.000000   80.000000           45.000000   \n",
       "6         88.0   64.078947   74.105263           78.789474   \n",
       "7         88.0   64.078947   74.105263           78.789474   \n",
       "8        157.0   15.000000   59.000000           91.000000   \n",
       "9          1.0   21.000000    8.000000           51.000000   \n",
       "10        22.0    1.000000    1.000000           17.000000   \n",
       "11        88.0   64.078947   74.105263           78.789474   \n",
       "12        88.0   64.078947   74.105263           78.789474   \n",
       "13        88.0   64.078947   74.105263           78.789474   \n",
       "14        88.0   64.078947   74.105263           78.789474   \n",
       "15       172.0    8.000000   39.000000           71.000000   \n",
       "16        88.0   64.078947   74.105263           78.789474   \n",
       "17        88.0   64.078947   74.105263           78.789474   \n",
       "18       112.0   21.000000   80.000000           93.000000   \n",
       "19        80.0    2.000000   64.000000            3.000000   \n",
       "\n",
       "    DRIVING_DISTANCE_RANK  DRIVING_ACCURACY_RANK    GIR_RANK  SCRAMBLING_RANK  \n",
       "0               61.000000              62.000000   39.000000       104.000000  \n",
       "1              141.000000              14.000000   31.000000        73.000000  \n",
       "2               76.000000             102.000000   48.000000       144.000000  \n",
       "3                2.000000             166.000000   74.000000        25.000000  \n",
       "4               67.000000             139.000000   78.000000       109.000000  \n",
       "5              149.000000               3.000000   16.000000       102.000000  \n",
       "6               83.921053              83.526316   83.592105        84.631579  \n",
       "7               83.921053              83.526316   83.592105        84.631579  \n",
       "8              138.000000              37.000000  128.000000        48.000000  \n",
       "9              145.000000              11.000000    1.000000       106.000000  \n",
       "10              76.000000              39.000000   13.000000         3.000000  \n",
       "11              83.921053              83.526316   83.592105        84.631579  \n",
       "12              83.921053              83.526316   83.592105        84.631579  \n",
       "13              83.921053              83.526316   83.592105        84.631579  \n",
       "14              83.921053              83.526316   83.592105        84.631579  \n",
       "15             166.000000               1.000000   21.000000       111.000000  \n",
       "16              83.921053              83.526316   83.592105        84.631579  \n",
       "17              83.921053              83.526316   83.592105        84.631579  \n",
       "18              79.000000              98.000000   93.000000        47.000000  \n",
       "19              48.000000              28.000000   33.000000        20.000000  "
      ]
     },
     "execution_count": 44,
     "metadata": {},
     "output_type": "execute_result"
    }
   ],
   "source": [
    "# === Prepare test data (this week's players) ===\n",
    "\n",
    "# Select and standardize features using the same scaler as training\n",
    "X_test = this_week[feature_cols]\n",
    "X_test_scaled = scaler.transform(X_test)\n",
    "\n",
    "# === Predict probabilities for Top 20 finish ===\n",
    "# CalibratedClassifierCV returns well-calibrated probabilities\n",
    "this_week[\"PROBABILITY\"] = final_model.predict_proba(X_test_scaled)[:, 1]\n",
    "\n",
    "# === Sort results by highest predicted probability ===\n",
    "this_week_sorted = this_week.sort_values(by=\"PROBABILITY\", ascending=False).reset_index(drop=True)\n",
    "\n",
    "# === Define final column order explicitly ===\n",
    "columns_to_show = [\n",
    "    \"PLAYER\", \"SALARY\", \"PROBABILITY\",\n",
    "    \"RECENT_FORM\", \"COURSE_HISTORY\", \"VEGAS_ODDS\", \"CUT_PERCENTAGE\", \n",
    "    \"OWGR_RANK\", \"FEDEX_CUP_POINTS\",\n",
    "\n",
    "    # SG stats\n",
    "    \"SGTTG_RANK\", \"SGOTT_RANK\", \"SGAPR_RANK\", \"SGATG_RANK\", \"SGP_RANK\",\n",
    "\n",
    "    # Scoring/Performance\n",
    "    \"BIRDIES_RANK\", \"PAR_3_RANK\", \"PAR_4_RANK\", \"PAR_5_RANK\",\n",
    "\n",
    "    # Driving / Ball Striking\n",
    "    \"TOTAL_DRIVING_RANK\", \"DRIVING_DISTANCE_RANK\", \"DRIVING_ACCURACY_RANK\",\n",
    "    \"GIR_RANK\", \"SCRAMBLING_RANK\"\n",
    "]\n",
    "\n",
    "# Keep only columns that exist in the dataframe\n",
    "columns_to_show = [col for col in columns_to_show if col in this_week_sorted.columns]\n",
    "\n",
    "# Final dataframe for display/export\n",
    "export_df = this_week_sorted[columns_to_show].copy()\n",
    "\n",
    "# Preview top 20\n",
    "export_df.head(20)\n"
   ]
  },
  {
   "cell_type": "markdown",
   "id": "8641f78e",
   "metadata": {},
   "source": [
    "### Save to CSV"
   ]
  },
  {
   "cell_type": "code",
   "execution_count": 45,
   "id": "323933e9",
   "metadata": {},
   "outputs": [
    {
     "name": "stdout",
     "output_type": "stream",
     "text": [
      "✅ Exported to data/current_week_export.csv\n"
     ]
    }
   ],
   "source": [
    "# Ensure required columns for spreadsheet export\n",
    "if \"COURSE_HISTORY\" not in export_df.columns:\n",
    "    export_df[\"COURSE_HISTORY\"] = \"-\"\n",
    "\n",
    "# Define columns to round (FedEx + stats)\n",
    "columns_to_round = [\n",
    "    \"FEDEX_CUP_POINTS\",\n",
    "    \"SGTTG_RANK\", \"SGOTT_RANK\", \"SGAPR_RANK\", \"SGATG_RANK\", \"SGP_RANK\",\n",
    "    \"BIRDIES_RANK\", \"PAR_3_RANK\", \"PAR_4_RANK\", \"PAR_5_RANK\",\n",
    "    \"TOTAL_DRIVING_RANK\", \"DRIVING_DISTANCE_RANK\", \"DRIVING_ACCURACY_RANK\",\n",
    "    \"GIR_RANK\", \"SCRAMBLING_RANK\"\n",
    "]\n",
    "\n",
    "columns_to_round_1 = [\n",
    "    \"COURSE_HISTORY\", \"CUT_PERCENTAGE\"\n",
    "]\n",
    "\n",
    "# Round only the selected columns to 0 decimal places\n",
    "export_df[columns_to_round] = export_df[columns_to_round].round(0).astype(\"Int64\")\n",
    "# Round only the selected columns to 1 decimal places\n",
    "export_df[columns_to_round_1] = export_df[columns_to_round_1].round(1)\n",
    "\n",
    "# Explicit column order for Excel integration\n",
    "column_order = [\n",
    "    \"PLAYER\", \"SALARY\", \"PROBABILITY\", \"RECENT_FORM\", \"COURSE_HISTORY\", \"VEGAS_ODDS\", \n",
    "    \"CUT_PERCENTAGE\", \"OWGR_RANK\", \"FEDEX_CUP_POINTS\", \n",
    "    \"SGTTG_RANK\", \"SGOTT_RANK\", \"SGAPR_RANK\", \"SGATG_RANK\", \"SGP_RANK\",\n",
    "    \"BIRDIES_RANK\", \"PAR_3_RANK\", \"PAR_4_RANK\", \"PAR_5_RANK\",\n",
    "    \"TOTAL_DRIVING_RANK\", \"DRIVING_DISTANCE_RANK\", \"DRIVING_ACCURACY_RANK\",\n",
    "    \"GIR_RANK\", \"SCRAMBLING_RANK\"\n",
    "]\n",
    "\n",
    "# Ensure all expected columns exist\n",
    "for col in column_order:\n",
    "    if col not in export_df.columns:\n",
    "        export_df[col] = \"-\" if col == \"COURSE_HISTORY\" else np.nan\n",
    "\n",
    "# Reorder columns to match Excel layout\n",
    "export_df = export_df[column_order]\n",
    "\n",
    "# Export to CSV\n",
    "filename = f\"data/current_week_export.csv\"\n",
    "export_df.to_csv(filename, index=False)\n",
    "print(f\"✅ Exported to {filename}\")"
   ]
  }
 ],
 "metadata": {
  "kernelspec": {
   "display_name": "Python 3",
   "language": "python",
   "name": "python3"
  },
  "language_info": {
   "codemirror_mode": {
    "name": "ipython",
    "version": 3
   },
   "file_extension": ".py",
   "mimetype": "text/x-python",
   "name": "python",
   "nbconvert_exporter": "python",
   "pygments_lexer": "ipython3",
   "version": "3.13.3"
  }
 },
 "nbformat": 4,
 "nbformat_minor": 5
}
