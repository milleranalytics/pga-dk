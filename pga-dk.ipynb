{
 "cells": [
  {
   "cell_type": "markdown",
   "id": "51850cd5",
   "metadata": {},
   "source": [
    "## PGA Draftkings Notebook\n",
    "Use [PGA Website](https://www.pgatour.com/tournaments/schedule.html) to look up tournament info and fill out first USER INPUT block below. (Fetch/XHR from Network tab, Paylod sub-tab)\n",
    "\n",
    "Looks like the tournament ID is also in the address bar."
   ]
  },
  {
   "cell_type": "markdown",
   "id": "cc589d19",
   "metadata": {},
   "source": [
    "### User Input"
   ]
  },
  {
   "cell_type": "code",
   "execution_count": 1,
   "id": "5b16fd89",
   "metadata": {},
   "outputs": [],
   "source": [
    "# === USER INPUTS ===\n",
    "# Old Tournament\n",
    "old_tournament_name = \"RBC Canadian Open\"\n",
    "tournament_date = \"6/8/2025\"  # Ending date of tournament\n",
    "old_course = \"TPC Toronto at Osprey Valley\"\n",
    "tournament_id = \"R2025032\"  # Tournament ID from the PGA Tour API - Also visible in the URL of the tournament page\n",
    "\n",
    "# New Tournament\n",
    "new_tournament_name = \"U.S. Open\"\n",
    "new_ending_date = \"6/15/2025\"\n",
    "new_course = \"Oakmont Country Club\"\n",
    "new_season = 2025\n",
    "\n",
    "\n",
    "# === LIBRARIES AND VARIABLES ===\n",
    "# Import necessary libraries\n",
    "import requests\n",
    "import pandas as pd\n",
    "from datetime import datetime\n",
    "import sqlite3 as sql\n",
    "import numpy as np\n",
    "from numpy import nan\n",
    "import os\n",
    "import importlib\n",
    "import utils.db_utils\n",
    "from utils.db_utils import TOURNAMENT_NAME_MAP, PLAYER_NAME_MAP\n",
    "\n",
    "# === TOURNAMENT CONFIG ===\n",
    "tournament_config = {\n",
    "    \"old\": {\n",
    "        \"name\": old_tournament_name,\n",
    "        \"date\": tournament_date,\n",
    "        \"course\": old_course,\n",
    "        \"id\": tournament_id\n",
    "    },\n",
    "    \"new\": {\n",
    "        \"name\": new_tournament_name,\n",
    "        \"course\": new_course,\n",
    "        \"season\": new_season,\n",
    "        \"ending_date\": pd.to_datetime(new_ending_date, format=\"%m/%d/%Y\"),\n",
    "        \"quoted_course\": f'\"{new_course}\"',\n",
    "        \"quoted_name\": f\"'{new_tournament_name}'\"\n",
    "    }\n",
    "}\n",
    "\n",
    "this_week_key = str(tournament_config[\"new\"][\"ending_date\"].date())\n",
    "\n",
    "# Create a minimal one-row history DataFrame\n",
    "this_week_history = pd.DataFrame([{\n",
    "    \"SEASON\": tournament_config[\"new\"][\"season\"],\n",
    "    \"TOURNAMENT\": tournament_config[\"new\"][\"name\"],\n",
    "    \"ENDING_DATE\": tournament_config[\"new\"][\"ending_date\"],\n",
    "    \"COURSE\": tournament_config[\"new\"][\"course\"],\n",
    "    \"TOURN_ID\": None\n",
    "}])"
   ]
  },
  {
   "cell_type": "markdown",
   "id": "cd739282",
   "metadata": {},
   "source": [
    "### Update Database"
   ]
  },
  {
   "cell_type": "markdown",
   "id": "cebfc2dc",
   "metadata": {},
   "source": [
    "#### Old Tournament"
   ]
  },
  {
   "cell_type": "code",
   "execution_count": 2,
   "id": "31b12dc0",
   "metadata": {},
   "outputs": [
    {
     "name": "stdout",
     "output_type": "stream",
     "text": [
      "📦 Fetching results for tournament ID R2025032 (RBC Canadian Open), year: 20250\n",
      "✅ 156 new rows added for 'RBC Canadian Open'\n"
     ]
    },
    {
     "data": {
      "text/html": [
       "<div>\n",
       "<style scoped>\n",
       "    .dataframe tbody tr th:only-of-type {\n",
       "        vertical-align: middle;\n",
       "    }\n",
       "\n",
       "    .dataframe tbody tr th {\n",
       "        vertical-align: top;\n",
       "    }\n",
       "\n",
       "    .dataframe thead th {\n",
       "        text-align: right;\n",
       "    }\n",
       "</style>\n",
       "<table border=\"1\" class=\"dataframe\">\n",
       "  <thead>\n",
       "    <tr style=\"text-align: right;\">\n",
       "      <th></th>\n",
       "      <th>SEASON</th>\n",
       "      <th>ENDING_DATE</th>\n",
       "      <th>TOURN_ID</th>\n",
       "      <th>TOURNAMENT</th>\n",
       "      <th>COURSE</th>\n",
       "      <th>PLAYER</th>\n",
       "      <th>POS</th>\n",
       "      <th>FINAL_POS</th>\n",
       "      <th>ROUNDS:1</th>\n",
       "      <th>ROUNDS:2</th>\n",
       "      <th>ROUNDS:3</th>\n",
       "      <th>ROUNDS:4</th>\n",
       "      <th>OFFICIAL_MONEY</th>\n",
       "      <th>FEDEX_CUP_POINTS</th>\n",
       "    </tr>\n",
       "  </thead>\n",
       "  <tbody>\n",
       "    <tr>\n",
       "      <th>123</th>\n",
       "      <td>2025</td>\n",
       "      <td>2025-06-08</td>\n",
       "      <td>R2025032</td>\n",
       "      <td>RBC Canadian Open</td>\n",
       "      <td>TPC Toronto at Osprey Valley</td>\n",
       "      <td>Ryan Fox</td>\n",
       "      <td>1</td>\n",
       "      <td>1</td>\n",
       "      <td>-4</td>\n",
       "      <td>-4</td>\n",
       "      <td>-6</td>\n",
       "      <td>-4</td>\n",
       "      <td>$1,764,000.00</td>\n",
       "      <td>500.000</td>\n",
       "    </tr>\n",
       "    <tr>\n",
       "      <th>126</th>\n",
       "      <td>2025</td>\n",
       "      <td>2025-06-08</td>\n",
       "      <td>R2025032</td>\n",
       "      <td>RBC Canadian Open</td>\n",
       "      <td>TPC Toronto at Osprey Valley</td>\n",
       "      <td>Sam Burns</td>\n",
       "      <td>2</td>\n",
       "      <td>2</td>\n",
       "      <td>-4</td>\n",
       "      <td>-4</td>\n",
       "      <td>-2</td>\n",
       "      <td>-8</td>\n",
       "      <td>$1,068,200.00</td>\n",
       "      <td>300.000</td>\n",
       "    </tr>\n",
       "    <tr>\n",
       "      <th>75</th>\n",
       "      <td>2025</td>\n",
       "      <td>2025-06-08</td>\n",
       "      <td>R2025032</td>\n",
       "      <td>RBC Canadian Open</td>\n",
       "      <td>TPC Toronto at Osprey Valley</td>\n",
       "      <td>Kevin Yu</td>\n",
       "      <td>3</td>\n",
       "      <td>3</td>\n",
       "      <td>-5</td>\n",
       "      <td>-1</td>\n",
       "      <td>-7</td>\n",
       "      <td>-4</td>\n",
       "      <td>$676,200.00</td>\n",
       "      <td>190.000</td>\n",
       "    </tr>\n",
       "    <tr>\n",
       "      <th>22</th>\n",
       "      <td>2025</td>\n",
       "      <td>2025-06-08</td>\n",
       "      <td>R2025032</td>\n",
       "      <td>RBC Canadian Open</td>\n",
       "      <td>TPC Toronto at Osprey Valley</td>\n",
       "      <td>Cameron Young</td>\n",
       "      <td>T4</td>\n",
       "      <td>4</td>\n",
       "      <td>-2</td>\n",
       "      <td>-4</td>\n",
       "      <td>-5</td>\n",
       "      <td>-5</td>\n",
       "      <td>$441,000.00</td>\n",
       "      <td>122.500</td>\n",
       "    </tr>\n",
       "    <tr>\n",
       "      <th>88</th>\n",
       "      <td>2025</td>\n",
       "      <td>2025-06-08</td>\n",
       "      <td>R2025032</td>\n",
       "      <td>RBC Canadian Open</td>\n",
       "      <td>TPC Toronto at Osprey Valley</td>\n",
       "      <td>Matt McCarty</td>\n",
       "      <td>T4</td>\n",
       "      <td>4</td>\n",
       "      <td>-4</td>\n",
       "      <td>-3</td>\n",
       "      <td>-6</td>\n",
       "      <td>-3</td>\n",
       "      <td>$441,000.00</td>\n",
       "      <td>122.500</td>\n",
       "    </tr>\n",
       "  </tbody>\n",
       "</table>\n",
       "</div>"
      ],
      "text/plain": [
       "     SEASON ENDING_DATE  TOURN_ID         TOURNAMENT  \\\n",
       "123    2025  2025-06-08  R2025032  RBC Canadian Open   \n",
       "126    2025  2025-06-08  R2025032  RBC Canadian Open   \n",
       "75     2025  2025-06-08  R2025032  RBC Canadian Open   \n",
       "22     2025  2025-06-08  R2025032  RBC Canadian Open   \n",
       "88     2025  2025-06-08  R2025032  RBC Canadian Open   \n",
       "\n",
       "                           COURSE         PLAYER POS  FINAL_POS ROUNDS:1  \\\n",
       "123  TPC Toronto at Osprey Valley       Ryan Fox   1          1       -4   \n",
       "126  TPC Toronto at Osprey Valley      Sam Burns   2          2       -4   \n",
       "75   TPC Toronto at Osprey Valley       Kevin Yu   3          3       -5   \n",
       "22   TPC Toronto at Osprey Valley  Cameron Young  T4          4       -2   \n",
       "88   TPC Toronto at Osprey Valley   Matt McCarty  T4          4       -4   \n",
       "\n",
       "    ROUNDS:2 ROUNDS:3 ROUNDS:4 OFFICIAL_MONEY FEDEX_CUP_POINTS  \n",
       "123       -4       -6       -4  $1,764,000.00          500.000  \n",
       "126       -4       -2       -8  $1,068,200.00          300.000  \n",
       "75        -1       -7       -4    $676,200.00          190.000  \n",
       "22        -4       -5       -5    $441,000.00          122.500  \n",
       "88        -3       -6       -3    $441,000.00          122.500  "
      ]
     },
     "execution_count": 2,
     "metadata": {},
     "output_type": "execute_result"
    }
   ],
   "source": [
    "importlib.reload(utils.db_utils)  # Only needed if you're actively editing db_utils.py\n",
    "from utils.db_utils import update_tournament_results\n",
    "\n",
    "# Change these each year!!\n",
    "season = 2025\n",
    "year = 20250  # Unique GraphQL year distinguishing number in case of multiple per year\n",
    "\n",
    "# Run the update\n",
    "db_path = \"data/golf.db\"  # Or use os.path.join(\"data\", \"golf.db\")\n",
    "tournDf = update_tournament_results(tournament_config, db_path, season, year)\n",
    "\n",
    "# Show just the most recent tournament added for confirmation\n",
    "from sqlalchemy import create_engine\n",
    "\n",
    "engine = create_engine(f\"sqlite:///{db_path}\")\n",
    "\n",
    "query = f\"\"\"\n",
    "SELECT *\n",
    "FROM tournaments\n",
    "WHERE TOURN_ID = '{tournament_config['old']['id']}'\n",
    "  AND ENDING_DATE = '{datetime.strptime(tournament_config['old']['date'], '%m/%d/%Y').date()}'\n",
    "\"\"\"\n",
    "\n",
    "recent = pd.read_sql(query, engine)\n",
    "engine.dispose()\n",
    "recent.sort_values(by='FINAL_POS').head()"
   ]
  },
  {
   "cell_type": "markdown",
   "id": "fb1dcb69",
   "metadata": {},
   "source": [
    "#### Stats"
   ]
  },
  {
   "cell_type": "code",
   "execution_count": 3,
   "id": "0cf3acf5",
   "metadata": {},
   "outputs": [
    {
     "name": "stdout",
     "output_type": "stream",
     "text": [
      "✅ Overwrote stats for season 2025 with 998 rows.\n"
     ]
    },
    {
     "data": {
      "text/html": [
       "<div>\n",
       "<style scoped>\n",
       "    .dataframe tbody tr th:only-of-type {\n",
       "        vertical-align: middle;\n",
       "    }\n",
       "\n",
       "    .dataframe tbody tr th {\n",
       "        vertical-align: top;\n",
       "    }\n",
       "\n",
       "    .dataframe thead th {\n",
       "        text-align: right;\n",
       "    }\n",
       "</style>\n",
       "<table border=\"1\" class=\"dataframe\">\n",
       "  <thead>\n",
       "    <tr style=\"text-align: right;\">\n",
       "      <th></th>\n",
       "      <th>PLAYER</th>\n",
       "      <th>SGTTG_RANK</th>\n",
       "      <th>SGTTG</th>\n",
       "      <th>SGOTT_RANK</th>\n",
       "      <th>SGOTT</th>\n",
       "      <th>SGAPR_RANK</th>\n",
       "      <th>SGAPR</th>\n",
       "      <th>SGATG_RANK</th>\n",
       "      <th>SGATG</th>\n",
       "      <th>SGP_RANK</th>\n",
       "      <th>...</th>\n",
       "      <th>DRIVING_DISTANCE</th>\n",
       "      <th>DRIVING_ACCURACY_RANK</th>\n",
       "      <th>DRIVING_ACCURACY</th>\n",
       "      <th>GIR_RANK</th>\n",
       "      <th>GIR</th>\n",
       "      <th>SCRAMBLING_RANK</th>\n",
       "      <th>SCRAMBLING</th>\n",
       "      <th>OWGR_RANK</th>\n",
       "      <th>OWGR</th>\n",
       "      <th>SEASON</th>\n",
       "    </tr>\n",
       "  </thead>\n",
       "  <tbody>\n",
       "    <tr>\n",
       "      <th>0</th>\n",
       "      <td>A.J. Ewart</td>\n",
       "      <td>NaN</td>\n",
       "      <td>NaN</td>\n",
       "      <td>NaN</td>\n",
       "      <td>NaN</td>\n",
       "      <td>NaN</td>\n",
       "      <td>NaN</td>\n",
       "      <td>NaN</td>\n",
       "      <td>NaN</td>\n",
       "      <td>NaN</td>\n",
       "      <td>...</td>\n",
       "      <td>NaN</td>\n",
       "      <td>NaN</td>\n",
       "      <td>NaN</td>\n",
       "      <td>NaN</td>\n",
       "      <td>NaN</td>\n",
       "      <td>NaN</td>\n",
       "      <td>NaN</td>\n",
       "      <td>596</td>\n",
       "      <td>.1970</td>\n",
       "      <td>2025</td>\n",
       "    </tr>\n",
       "    <tr>\n",
       "      <th>1</th>\n",
       "      <td>Aaron Baddeley</td>\n",
       "      <td>168.0</td>\n",
       "      <td>-1.022</td>\n",
       "      <td>178.0</td>\n",
       "      <td>-1.292</td>\n",
       "      <td>141.0</td>\n",
       "      <td>-0.265</td>\n",
       "      <td>4.0</td>\n",
       "      <td>0.536</td>\n",
       "      <td>161.0</td>\n",
       "      <td>...</td>\n",
       "      <td>289.6</td>\n",
       "      <td>116.0</td>\n",
       "      <td>57.29%</td>\n",
       "      <td>172.0</td>\n",
       "      <td>60.48%</td>\n",
       "      <td>96.0</td>\n",
       "      <td>60.24%</td>\n",
       "      <td>445</td>\n",
       "      <td>.2958</td>\n",
       "      <td>2025</td>\n",
       "    </tr>\n",
       "    <tr>\n",
       "      <th>2</th>\n",
       "      <td>Aaron Cockerill</td>\n",
       "      <td>NaN</td>\n",
       "      <td>NaN</td>\n",
       "      <td>NaN</td>\n",
       "      <td>NaN</td>\n",
       "      <td>NaN</td>\n",
       "      <td>NaN</td>\n",
       "      <td>NaN</td>\n",
       "      <td>NaN</td>\n",
       "      <td>NaN</td>\n",
       "      <td>...</td>\n",
       "      <td>NaN</td>\n",
       "      <td>NaN</td>\n",
       "      <td>NaN</td>\n",
       "      <td>NaN</td>\n",
       "      <td>NaN</td>\n",
       "      <td>NaN</td>\n",
       "      <td>NaN</td>\n",
       "      <td>354</td>\n",
       "      <td>.4031</td>\n",
       "      <td>2025</td>\n",
       "    </tr>\n",
       "    <tr>\n",
       "      <th>3</th>\n",
       "      <td>Aaron Rai</td>\n",
       "      <td>27.0</td>\n",
       "      <td>0.732</td>\n",
       "      <td>28.0</td>\n",
       "      <td>0.349</td>\n",
       "      <td>32.0</td>\n",
       "      <td>0.403</td>\n",
       "      <td>103.0</td>\n",
       "      <td>-0.019</td>\n",
       "      <td>127.0</td>\n",
       "      <td>...</td>\n",
       "      <td>286.6</td>\n",
       "      <td>1.0</td>\n",
       "      <td>73.43%</td>\n",
       "      <td>19.0</td>\n",
       "      <td>69.21%</td>\n",
       "      <td>129.0</td>\n",
       "      <td>58.27%</td>\n",
       "      <td>33</td>\n",
       "      <td>2.6441</td>\n",
       "      <td>2025</td>\n",
       "    </tr>\n",
       "    <tr>\n",
       "      <th>4</th>\n",
       "      <td>Aaron Wilkin</td>\n",
       "      <td>NaN</td>\n",
       "      <td>NaN</td>\n",
       "      <td>NaN</td>\n",
       "      <td>NaN</td>\n",
       "      <td>NaN</td>\n",
       "      <td>NaN</td>\n",
       "      <td>NaN</td>\n",
       "      <td>NaN</td>\n",
       "      <td>NaN</td>\n",
       "      <td>...</td>\n",
       "      <td>NaN</td>\n",
       "      <td>NaN</td>\n",
       "      <td>NaN</td>\n",
       "      <td>NaN</td>\n",
       "      <td>NaN</td>\n",
       "      <td>NaN</td>\n",
       "      <td>NaN</td>\n",
       "      <td>806</td>\n",
       "      <td>.1217</td>\n",
       "      <td>2025</td>\n",
       "    </tr>\n",
       "  </tbody>\n",
       "</table>\n",
       "<p>5 rows × 32 columns</p>\n",
       "</div>"
      ],
      "text/plain": [
       "            PLAYER  SGTTG_RANK   SGTTG  SGOTT_RANK   SGOTT  SGAPR_RANK  \\\n",
       "0       A.J. Ewart         NaN     NaN         NaN     NaN         NaN   \n",
       "1   Aaron Baddeley       168.0  -1.022       178.0  -1.292       141.0   \n",
       "2  Aaron Cockerill         NaN     NaN         NaN     NaN         NaN   \n",
       "3        Aaron Rai        27.0   0.732        28.0   0.349        32.0   \n",
       "4     Aaron Wilkin         NaN     NaN         NaN     NaN         NaN   \n",
       "\n",
       "    SGAPR  SGATG_RANK   SGATG  SGP_RANK  ... DRIVING_DISTANCE  \\\n",
       "0     NaN         NaN     NaN       NaN  ...              NaN   \n",
       "1  -0.265         4.0   0.536     161.0  ...            289.6   \n",
       "2     NaN         NaN     NaN       NaN  ...              NaN   \n",
       "3   0.403       103.0  -0.019     127.0  ...            286.6   \n",
       "4     NaN         NaN     NaN       NaN  ...              NaN   \n",
       "\n",
       "   DRIVING_ACCURACY_RANK DRIVING_ACCURACY  GIR_RANK     GIR  SCRAMBLING_RANK  \\\n",
       "0                    NaN              NaN       NaN     NaN              NaN   \n",
       "1                  116.0           57.29%     172.0  60.48%             96.0   \n",
       "2                    NaN              NaN       NaN     NaN              NaN   \n",
       "3                    1.0           73.43%      19.0  69.21%            129.0   \n",
       "4                    NaN              NaN       NaN     NaN              NaN   \n",
       "\n",
       "  SCRAMBLING  OWGR_RANK    OWGR  SEASON  \n",
       "0        NaN        596   .1970    2025  \n",
       "1     60.24%        445   .2958    2025  \n",
       "2        NaN        354   .4031    2025  \n",
       "3     58.27%         33  2.6441    2025  \n",
       "4        NaN        806   .1217    2025  \n",
       "\n",
       "[5 rows x 32 columns]"
      ]
     },
     "execution_count": 3,
     "metadata": {},
     "output_type": "execute_result"
    }
   ],
   "source": [
    "importlib.reload(utils.db_utils)\n",
    "from utils.db_utils import update_season_stats  # <- This line is essential\n",
    "\n",
    "# Change these each year!!\n",
    "statsYear = 2025\n",
    "\n",
    "stats_df = update_season_stats(statsYear, db_path)\n",
    "stats_df.head()"
   ]
  },
  {
   "cell_type": "markdown",
   "id": "e4d0572b",
   "metadata": {},
   "source": [
    "#### Odds\n",
    "Not usually needed for weekly routine."
   ]
  },
  {
   "cell_type": "markdown",
   "id": "ed73bb90",
   "metadata": {},
   "source": [
    "**Manual Fix! Odds name cleanup (only needed when joins fail)**\n",
    "\n",
    "Make sure to update the dictionaries in db_utils.py if new names need to be added."
   ]
  },
  {
   "cell_type": "code",
   "execution_count": 30,
   "id": "f47573f7",
   "metadata": {},
   "outputs": [
    {
     "name": "stdout",
     "output_type": "stream",
     "text": [
      "ℹ️ No odds rows required name cleanup.\n"
     ]
    },
    {
     "data": {
      "text/html": [
       "<div>\n",
       "<style scoped>\n",
       "    .dataframe tbody tr th:only-of-type {\n",
       "        vertical-align: middle;\n",
       "    }\n",
       "\n",
       "    .dataframe tbody tr th {\n",
       "        vertical-align: top;\n",
       "    }\n",
       "\n",
       "    .dataframe thead th {\n",
       "        text-align: right;\n",
       "    }\n",
       "</style>\n",
       "<table border=\"1\" class=\"dataframe\">\n",
       "  <thead>\n",
       "    <tr style=\"text-align: right;\">\n",
       "      <th></th>\n",
       "      <th>SEASON</th>\n",
       "      <th>TOURNAMENT</th>\n",
       "      <th>ENDING_DATE</th>\n",
       "      <th>PLAYER</th>\n",
       "      <th>ODDS</th>\n",
       "      <th>VEGAS_ODDS</th>\n",
       "      <th>TOURNAMENT_ORIG</th>\n",
       "      <th>PLAYER_ORIG</th>\n",
       "    </tr>\n",
       "  </thead>\n",
       "  <tbody>\n",
       "  </tbody>\n",
       "</table>\n",
       "</div>"
      ],
      "text/plain": [
       "Empty DataFrame\n",
       "Columns: [SEASON, TOURNAMENT, ENDING_DATE, PLAYER, ODDS, VEGAS_ODDS, TOURNAMENT_ORIG, PLAYER_ORIG]\n",
       "Index: []"
      ]
     },
     "execution_count": 30,
     "metadata": {},
     "output_type": "execute_result"
    }
   ],
   "source": [
    "importlib.reload(utils.db_utils)\n",
    "from utils.db_utils import clean_odds_names, PLAYER_NAME_MAP, TOURNAMENT_NAME_MAP\n",
    "\n",
    "db_path = \"data/golf.db\" \n",
    "updated_odds = clean_odds_names(db_path, TOURNAMENT_NAME_MAP, PLAYER_NAME_MAP)\n",
    "updated_odds.head()"
   ]
  },
  {
   "cell_type": "markdown",
   "id": "3ffcf8d8",
   "metadata": {},
   "source": [
    "**Historical Odds Updates**\n",
    "\n",
    "Only run this when loading in entire year odds at the start of each year or if corrections need to be made.  This will load in the entire year into the database and update it using the dictionary in db_utils.py."
   ]
  },
  {
   "cell_type": "code",
   "execution_count": 31,
   "id": "7b0ef77d",
   "metadata": {},
   "outputs": [
    {
     "name": "stdout",
     "output_type": "stream",
     "text": [
      "ℹ️ Historical odds for season 2023 already exist — no new rows added.\n"
     ]
    },
    {
     "data": {
      "text/html": [
       "<div>\n",
       "<style scoped>\n",
       "    .dataframe tbody tr th:only-of-type {\n",
       "        vertical-align: middle;\n",
       "    }\n",
       "\n",
       "    .dataframe tbody tr th {\n",
       "        vertical-align: top;\n",
       "    }\n",
       "\n",
       "    .dataframe thead th {\n",
       "        text-align: right;\n",
       "    }\n",
       "</style>\n",
       "<table border=\"1\" class=\"dataframe\">\n",
       "  <thead>\n",
       "    <tr style=\"text-align: right;\">\n",
       "      <th></th>\n",
       "      <th>SEASON</th>\n",
       "      <th>TOURNAMENT</th>\n",
       "      <th>ENDING_DATE</th>\n",
       "      <th>PLAYER</th>\n",
       "      <th>ODDS</th>\n",
       "      <th>VEGAS_ODDS</th>\n",
       "    </tr>\n",
       "  </thead>\n",
       "  <tbody>\n",
       "    <tr>\n",
       "      <th>4</th>\n",
       "      <td>2023</td>\n",
       "      <td>Fortinet Championship</td>\n",
       "      <td>2022-09-18</td>\n",
       "      <td>Hideki Matsuyama</td>\n",
       "      <td>18/1</td>\n",
       "      <td>18.0</td>\n",
       "    </tr>\n",
       "    <tr>\n",
       "      <th>5</th>\n",
       "      <td>2023</td>\n",
       "      <td>Fortinet Championship</td>\n",
       "      <td>2022-09-18</td>\n",
       "      <td>Max Homa</td>\n",
       "      <td>18/1</td>\n",
       "      <td>18.0</td>\n",
       "    </tr>\n",
       "    <tr>\n",
       "      <th>6</th>\n",
       "      <td>2023</td>\n",
       "      <td>Fortinet Championship</td>\n",
       "      <td>2022-09-18</td>\n",
       "      <td>Corey Conners</td>\n",
       "      <td>20/1</td>\n",
       "      <td>20.0</td>\n",
       "    </tr>\n",
       "    <tr>\n",
       "      <th>7</th>\n",
       "      <td>2023</td>\n",
       "      <td>Fortinet Championship</td>\n",
       "      <td>2022-09-18</td>\n",
       "      <td>Maverick McNealy</td>\n",
       "      <td>25/1</td>\n",
       "      <td>25.0</td>\n",
       "    </tr>\n",
       "    <tr>\n",
       "      <th>8</th>\n",
       "      <td>2023</td>\n",
       "      <td>Fortinet Championship</td>\n",
       "      <td>2022-09-18</td>\n",
       "      <td>Taylor Pendrith</td>\n",
       "      <td>25/1</td>\n",
       "      <td>25.0</td>\n",
       "    </tr>\n",
       "  </tbody>\n",
       "</table>\n",
       "</div>"
      ],
      "text/plain": [
       "   SEASON             TOURNAMENT ENDING_DATE            PLAYER  ODDS  \\\n",
       "4    2023  Fortinet Championship  2022-09-18  Hideki Matsuyama  18/1   \n",
       "5    2023  Fortinet Championship  2022-09-18          Max Homa  18/1   \n",
       "6    2023  Fortinet Championship  2022-09-18     Corey Conners  20/1   \n",
       "7    2023  Fortinet Championship  2022-09-18  Maverick McNealy  25/1   \n",
       "8    2023  Fortinet Championship  2022-09-18   Taylor Pendrith  25/1   \n",
       "\n",
       "   VEGAS_ODDS  \n",
       "4        18.0  \n",
       "5        18.0  \n",
       "6        20.0  \n",
       "7        25.0  \n",
       "8        25.0  "
      ]
     },
     "execution_count": 31,
     "metadata": {},
     "output_type": "execute_result"
    }
   ],
   "source": [
    "importlib.reload(utils.db_utils)\n",
    "from utils.db_utils import import_historical_odds\n",
    "\n",
    "oddsYear = \"2022-2023\"    # URL segment\n",
    "season = 2023             # PGA Tour season\n",
    "db_path = \"data/golf.db\"\n",
    "\n",
    "odds_df = import_historical_odds(oddsYear, season, db_path)\n",
    "odds_df.head()"
   ]
  },
  {
   "cell_type": "markdown",
   "id": "82fc5dfe",
   "metadata": {},
   "source": [
    "**Not normally needed**\n",
    "\n",
    "The code below is a way to troubleshoot the odds function that is in db_utils.py.  If it does not pull the stats correctly, we can run it outside of the db_utils.py file and explore what might be wrong with it, iterating until it works, and then using that fix to update db_utils.py.  This is not normally needed, but wanted to leave this in place as a reference because this odds website can be tricky."
   ]
  },
  {
   "cell_type": "code",
   "execution_count": 32,
   "id": "94460f27",
   "metadata": {},
   "outputs": [
    {
     "name": "stdout",
     "output_type": "stream",
     "text": [
      "📍 Detected: Safeway Open — Ending: 2020-09-13\n",
      "📍 Detected: US Open — Ending: 2020-09-20\n",
      "📍 Detected: R & C Championship — Ending: 2020-09-27\n",
      "📍 Detected: at Big Cedar Lodge - — Ending: 2020-09-22\n",
      "📍 Detected: Sanderson Farms Champ — Ending: 2020-10-04\n",
      "📍 Detected: Shriners H for C Open — Ending: 2020-10-11\n",
      "📍 Detected: The CJ Cup — Ending: 2020-10-18\n",
      "📍 Detected: ZOZO CHAMPIONSHIP — Ending: 2020-10-25\n",
      "📍 Detected: Bermuda Championship — Ending: 2020-11-01\n",
      "📍 Detected: Vivint Houston Open — Ending: 2020-11-08\n",
      "📍 Detected: The Masters — Ending: 2020-11-15\n",
      "📍 Detected: The RSM Classic — Ending: 2020-11-22\n",
      "📍 Detected: Champions for Change — Ending: 2020-11-27\n",
      "📍 Detected: Mayakoba Golf Classic — Ending: 2020-12-06\n",
      "📍 Detected: QBE Shootout — Ending: 2020-12-13\n",
      "📍 Detected: Sentry Tourn of Champions — Ending: 2021-01-10\n",
      "📍 Detected: Sony Open in Hawaii — Ending: 2021-01-17\n",
      "📍 Detected: The American Express — Ending: 2021-01-24\n",
      "📍 Detected: Abu Dhabi HSBC Champ — Ending: 2021-01-24\n",
      "📍 Detected: Farmers Insurance Open — Ending: 2021-01-31\n",
      "📍 Detected: Dubai Desert Classic — Ending: 2021-01-31\n",
      "📍 Detected: W M Phoenix Open — Ending: 2021-02-07\n",
      "📍 Detected: King Abdullah Economic City, — Ending: 2021-02-07\n",
      "📍 Detected: AT&T Pebble Beach Pro-Am — Ending: 2021-02-14\n",
      "📍 Detected: Collegiate Showcase — Ending: 2021-02-15\n",
      "📍 Detected: The Genesis Invitational — Ending: 2021-02-21\n",
      "📍 Detected: WGC-Workday Championship — Ending: 2021-02-28\n",
      "📍 Detected: Puerto Rico Open — Ending: 2021-02-28\n",
      "📍 Detected: Arnold Palmer Invitational — Ending: 2021-03-07\n",
      "📍 Detected: THE PLAYERS Championship — Ending: 2021-03-14\n",
      "📍 Detected: Qatar Masters — Ending: 2021-03-14\n",
      "📍 Detected: The Honda Classic — Ending: 2021-03-21\n",
      "📍 Detected: Magical Kenya Open — Ending: 2021-03-21\n",
      "📍 Detected: Kenya Savannah Classic — Ending: 2021-03-26\n",
      "📍 Detected: WGC-Dell Tech Match Play — Ending: 2021-03-28\n",
      "📍 Detected: Corales Punta Cana Champ — Ending: 2021-03-28\n",
      "📍 Detected: Valero Texas Open — Ending: 2021-04-04\n",
      "📍 Detected: The Masters — Ending: 2021-04-11\n",
      "📍 Detected: RBC Heritage — Ending: 2021-04-18\n",
      "📍 Detected: Austrian Golf Open — Ending: 2021-04-18\n",
      "📍 Detected: MGM Resorts Championship — Ending: 2021-04-18\n",
      "📍 Detected: Zurich Classic of New Orleans — Ending: 2021-04-25\n",
      "📍 Detected: Gran Canaria Lopesan Open — Ending: 2021-04-25\n",
      "📍 Detected: Valspar Championship — Ending: 2021-05-02\n",
      "📍 Detected: Tenerife Open — Ending: 2021-05-02\n",
      "📍 Detected: Wells Fargo Championship — Ending: 2021-05-09\n",
      "📍 Detected: Canary Islands Championship — Ending: 2021-05-09\n",
      "📍 Detected: AT&T Byron Nelson — Ending: 2021-05-16\n",
      "📍 Detected: British Masters — Ending: 2021-05-16\n",
      "📍 Detected: PGA Championship — Ending: 2021-05-23\n",
      "📍 Detected: Charles Schwab Challenge — Ending: 2021-05-30\n",
      "📍 Detected: Made in Himmerland — Ending: 2021-05-30\n",
      "📍 Detected: The Memorial Tournament — Ending: 2021-06-06\n",
      "📍 Detected: Porsche European Open — Ending: 2021-06-07\n",
      "📍 Detected: Palmetto Championship — Ending: 2021-06-13\n",
      "📍 Detected: Scandinavian Mixed — Ending: 2021-06-13\n",
      "📍 Detected: US Open — Ending: 2021-06-20\n",
      "📍 Detected: Travelers Championship — Ending: 2021-06-27\n",
      "📍 Detected: BMW International Open — Ending: 2021-06-27\n",
      "📍 Detected: Rocket Mortgage Classic — Ending: 2021-07-04\n",
      "📍 Detected: Dubai Duty Free Irish Open — Ending: 2021-07-04\n",
      "📍 Detected: Moonlight Basin - — Ending: 2021-07-06\n",
      "📍 Detected: John Deere Classic — Ending: 2021-07-11\n",
      "📍 Detected: abrdn Scottish Open — Ending: 2021-07-11\n",
      "📍 Detected: The Open Championship — Ending: 2021-07-18\n",
      "📍 Detected: Barbasol Championship — Ending: 2021-07-18\n",
      "📍 Detected: 3M Open — Ending: 2021-07-25\n",
      "📍 Detected: Cazoo Open — Ending: 2021-07-25\n",
      "📍 Detected: Men's Olympic Golf — Ending: 2021-08-01\n",
      "📍 Detected: World Invitational — Ending: 2021-08-01\n",
      "📍 Detected: WGC-FedEx St. Jude Invit — Ending: 2021-08-08\n",
      "📍 Detected: Barracuda Championship — Ending: 2021-08-08\n",
      "📍 Detected: Hero Open — Ending: 2021-08-08\n",
      "📍 Detected: Wyndham Championship — Ending: 2021-08-15\n",
      "📍 Detected: Cazoo Classic — Ending: 2021-08-15\n",
      "📍 Detected: The Northern Trust — Ending: 2021-08-23\n",
      "📍 Detected: D+D Real Czech Masters — Ending: 2021-08-22\n",
      "📍 Detected: BMW Championship — Ending: 2021-08-29\n",
      "📍 Detected: Omega European Masters — Ending: 2021-08-29\n",
      "📍 Detected: TOUR Championship — Ending: 2021-09-05\n",
      "📍 Detected: Italian Open — Ending: 2021-09-05\n",
      "📍 Detected: BMW PGA Championship — Ending: 2021-09-12\n",
      "📍 Detected: Dutch Open — Ending: 2021-09-19\n",
      "📍 Detected: 43rd Ryder Cup — Ending: 2021-09-26\n",
      "📍 Detected: Alfred Dunhill Links Champ — Ending: 2021-10-03\n",
      "📍 Detected: Open de Espana — Ending: 2021-10-10\n",
      "📍 Detected: Andalucia Masters — Ending: 2021-10-17\n",
      "📍 Detected: Mallorca Golf Open — Ending: 2021-10-24\n",
      "📍 Detected: Portugal Masters — Ending: 2021-11-07\n",
      "📍 Detected: AVIV Dubai Championship — Ending: 2021-11-14\n",
      "📍 Detected: DP World Tour Championship — Ending: 2021-11-21\n",
      "📍 Detected: Golf Nippon Series JT Cup — Ending: 2021-12-05\n"
     ]
    },
    {
     "data": {
      "text/html": [
       "<div>\n",
       "<style scoped>\n",
       "    .dataframe tbody tr th:only-of-type {\n",
       "        vertical-align: middle;\n",
       "    }\n",
       "\n",
       "    .dataframe tbody tr th {\n",
       "        vertical-align: top;\n",
       "    }\n",
       "\n",
       "    .dataframe thead th {\n",
       "        text-align: right;\n",
       "    }\n",
       "</style>\n",
       "<table border=\"1\" class=\"dataframe\">\n",
       "  <thead>\n",
       "    <tr style=\"text-align: right;\">\n",
       "      <th></th>\n",
       "      <th>SEASON</th>\n",
       "      <th>TOURNAMENT</th>\n",
       "      <th>ENDING_DATE</th>\n",
       "      <th>PLAYER</th>\n",
       "      <th>ODDS</th>\n",
       "      <th>VEGAS_ODDS</th>\n",
       "    </tr>\n",
       "  </thead>\n",
       "  <tbody>\n",
       "    <tr>\n",
       "      <th>0</th>\n",
       "      <td>2021</td>\n",
       "      <td>Safeway Open</td>\n",
       "      <td>2020-09-13</td>\n",
       "      <td>Phil Mickelson</td>\n",
       "      <td>20/1</td>\n",
       "      <td>20.0</td>\n",
       "    </tr>\n",
       "    <tr>\n",
       "      <th>1</th>\n",
       "      <td>2021</td>\n",
       "      <td>Safeway Open</td>\n",
       "      <td>2020-09-13</td>\n",
       "      <td>Si Woo Kim</td>\n",
       "      <td>20/1</td>\n",
       "      <td>20.0</td>\n",
       "    </tr>\n",
       "    <tr>\n",
       "      <th>2</th>\n",
       "      <td>2021</td>\n",
       "      <td>Safeway Open</td>\n",
       "      <td>2020-09-13</td>\n",
       "      <td>Brendan Steele</td>\n",
       "      <td>20/1</td>\n",
       "      <td>20.0</td>\n",
       "    </tr>\n",
       "    <tr>\n",
       "      <th>3</th>\n",
       "      <td>2021</td>\n",
       "      <td>Safeway Open</td>\n",
       "      <td>2020-09-13</td>\n",
       "      <td>Shane Lowry</td>\n",
       "      <td>25/1</td>\n",
       "      <td>25.0</td>\n",
       "    </tr>\n",
       "    <tr>\n",
       "      <th>4</th>\n",
       "      <td>2021</td>\n",
       "      <td>Safeway Open</td>\n",
       "      <td>2020-09-13</td>\n",
       "      <td>Sergio Garcia</td>\n",
       "      <td>30/1</td>\n",
       "      <td>30.0</td>\n",
       "    </tr>\n",
       "  </tbody>\n",
       "</table>\n",
       "</div>"
      ],
      "text/plain": [
       "   SEASON    TOURNAMENT ENDING_DATE          PLAYER  ODDS  VEGAS_ODDS\n",
       "0    2021  Safeway Open  2020-09-13  Phil Mickelson  20/1        20.0\n",
       "1    2021  Safeway Open  2020-09-13      Si Woo Kim  20/1        20.0\n",
       "2    2021  Safeway Open  2020-09-13  Brendan Steele  20/1        20.0\n",
       "3    2021  Safeway Open  2020-09-13     Shane Lowry  25/1        25.0\n",
       "4    2021  Safeway Open  2020-09-13   Sergio Garcia  30/1        30.0"
      ]
     },
     "metadata": {},
     "output_type": "display_data"
    }
   ],
   "source": [
    "import pandas as pd\n",
    "import numpy as np\n",
    "import requests\n",
    "import re\n",
    "from datetime import datetime\n",
    "from io import StringIO\n",
    "\n",
    "# === USER INPUT ===\n",
    "oddsYear = \"2020-2021\"    # URL segment\n",
    "season = 2021        # PGA Tour season\n",
    "\n",
    "url = f\"http://golfodds.com/archives-{oddsYear}.html\"\n",
    "response = requests.get(url)\n",
    "tables = pd.read_html(StringIO(response.text))\n",
    "# raw_df = tables[5]  # the actual table of interest\n",
    "# Find the largest 2-column table that contains at least some odds-like strings\n",
    "raw_df = None\n",
    "for tbl in tables:\n",
    "    if tbl.shape[1] == 2 and tbl.shape[0] > 50:  # Rough filter\n",
    "        sample = tbl.iloc[:, 1].astype(str).str.contains(r\"\\d+/\\d+\").sum()\n",
    "        if sample > 5:\n",
    "            raw_df = tbl\n",
    "            break\n",
    "\n",
    "if raw_df is None:\n",
    "    raise ValueError(\"❌ Could not find valid odds table on the page.\")\n",
    "\n",
    "# === STEP 1: Initial clean-up ===\n",
    "df = raw_df.dropna(how=\"all\").reset_index(drop=True)\n",
    "df.columns = [\"PLAYER\", \"ODDS\"]\n",
    "\n",
    "# 🔧 Clean up non-breaking spaces and extra whitespace\n",
    "df[\"PLAYER\"] = (\n",
    "    df[\"PLAYER\"]\n",
    "    .astype(str)\n",
    "    .str.replace(\"\\xa0\", \" \", regex=False)\n",
    "    .str.replace(r\"\\s+\", \" \", regex=True)\n",
    "    .str.strip()\n",
    ")\n",
    "\n",
    "df.insert(loc=0, column=\"SEASON\", value=season)\n",
    "df.insert(loc=1, column=\"TOURNAMENT\", value=np.nan)\n",
    "df.insert(loc=2, column=\"ENDING_DATE\", value=np.nan)\n",
    "\n",
    "# === STEP 2: Helper function for parsing date strings ===\n",
    "def parse_ending_date(text):\n",
    "    import re\n",
    "    from datetime import datetime\n",
    "\n",
    "    # Normalize whitespace and symbols\n",
    "    text = (\n",
    "        text.replace(\"\\u2013\", \"-\")\n",
    "            .replace(\"–\", \"-\")\n",
    "            .replace(\"\\xa0\", \" \")\n",
    "    )\n",
    "    text = re.sub(r\"\\bSept(?!ember)\\b\", \"Sep\", text)\n",
    "\n",
    "    # ✅ Fix typo: \"Match\" → \"March\" only when used in a date context\n",
    "    text = re.sub(r\"\\bMatch(?=\\s+\\d{1,2}\\s*[-–]\\s*\\d{1,2},\\s*\\d{4})\", \"March\", text)\n",
    "\n",
    "    # Pattern 1: \"July 30 - August 2, 2015\" or \"Oct 29 - Nov 1, 2015\"\n",
    "    match = re.search(r\"(\\w+)\\s\\d+\\s*-\\s*(\\w+)\\s(\\d+),\\s(\\d{4})\", text)\n",
    "    if match:\n",
    "        month2, day2, year = match.group(2), match.group(3), match.group(4)\n",
    "        for fmt in [\"%B %d, %Y\", \"%b %d, %Y\"]:\n",
    "            try:\n",
    "                return datetime.strptime(f\"{month2} {day2}, {year}\", fmt).date()\n",
    "            except ValueError:\n",
    "                continue\n",
    "\n",
    "    # Pattern 2: \"November 21-24, 2024\"\n",
    "    match = re.search(r\"(\\w+)\\s\\d+-\\d+,\\s(\\d{4})\", text)\n",
    "    if match:\n",
    "        month, year = match.group(1), match.group(2)\n",
    "        day = re.search(r\"(\\d+)-(\\d+)\", text).group(2)\n",
    "        for fmt in [\"%B %d, %Y\", \"%b %d, %Y\"]:\n",
    "            try:\n",
    "                return datetime.strptime(f\"{month} {day}, {year}\", fmt).date()\n",
    "            except ValueError:\n",
    "                continue\n",
    "\n",
    "    # Pattern 3: \"Sunday, October 20, 2019\"\n",
    "    try:\n",
    "        return datetime.strptime(text.strip(), \"%A, %B %d, %Y\").date()\n",
    "    except ValueError:\n",
    "        pass\n",
    "\n",
    "    # Pattern 4: \"October 20, 2019\"\n",
    "    try:\n",
    "        return datetime.strptime(text.strip(), \"%B %d, %Y\").date()\n",
    "    except ValueError:\n",
    "        pass\n",
    "\n",
    "    return None\n",
    "\n",
    "last_tourn_name = None\n",
    "last_date = None\n",
    "\n",
    "# === STEP 3: Iterate block by block ===\n",
    "final_rows = []\n",
    "i = 0\n",
    "last_tourn_name = None\n",
    "last_end_date = None\n",
    "\n",
    "while i < len(df) - 4:\n",
    "    player_i = str(df.loc[i, \"PLAYER\"])\n",
    "    player_i2 = str(df.loc[i + 2, \"PLAYER\"])\n",
    "    player_i3 = str(df.loc[i + 3, \"PLAYER\"]).lower()\n",
    "\n",
    "    # Detect start of a new tournament block\n",
    "    is_header = (\n",
    "        pd.isna(df.loc[i, \"ODDS\"]) and\n",
    "        pd.isna(df.loc[i + 1, \"ODDS\"]) and (\n",
    "            re.search(r\"\\w+\\s\\d+\\s*[-–]\\s*(\\w+\\s)?\\d+,\\s\\d{4}\", player_i2) or\n",
    "            re.search(r\"(Monday|Tuesday|Wednesday|Thursday|Friday|Saturday|Sunday),?\\s+\\w+\\s\\d{1,2},\\s\\d{4}\", player_i2)\n",
    "        )\n",
    "    )\n",
    "\n",
    "    if is_header:\n",
    "        tourn_name = player_i.strip()\n",
    "        end_date = parse_ending_date(player_i2)\n",
    "\n",
    "        # Skip cancelled or empty blocks\n",
    "        if \"cancelled\" in player_i3:\n",
    "            print(f\"⚠️ Skipping cancelled tournament: {tourn_name} — {end_date}\")\n",
    "            i += 4\n",
    "            continue\n",
    "\n",
    "        # Avoid duplicate block processing\n",
    "        if tourn_name == last_tourn_name and end_date == last_end_date:\n",
    "            i += 1\n",
    "            continue\n",
    "\n",
    "        print(f\"📍 Detected: {tourn_name} — Ending: {end_date}\")\n",
    "        last_tourn_name = tourn_name\n",
    "        last_end_date = end_date\n",
    "        i += 4  # Skip header lines\n",
    "\n",
    "        # Collect all player rows until next header block\n",
    "        while i < len(df) - 2:\n",
    "            next_i2 = str(df.loc[i + 2, \"PLAYER\"])\n",
    "            is_next_header = (\n",
    "                pd.isna(df.loc[i, \"ODDS\"]) and\n",
    "                pd.isna(df.loc[i + 1, \"ODDS\"]) and (\n",
    "                    re.search(r\"\\w+\\s\\d+\\s*[-–]\\s*(\\w+\\s)?\\d+,\\s\\d{4}\", next_i2) or\n",
    "                    re.search(r\"(Monday|Tuesday|Wednesday|Thursday|Friday|Saturday|Sunday),?\\s+\\w+\\s\\d{1,2},\\s\\d{4}\", next_i2)\n",
    "                )\n",
    "            )\n",
    "            if is_next_header:\n",
    "                break\n",
    "\n",
    "            if pd.notna(df.loc[i, \"ODDS\"]):\n",
    "                row = df.loc[i].copy()\n",
    "                row[\"TOURNAMENT\"] = tourn_name\n",
    "                row[\"ENDING_DATE\"] = end_date\n",
    "                final_rows.append(row)\n",
    "            i += 1\n",
    "    else:\n",
    "        i += 1\n",
    "\n",
    "# === STEP 4: Create cleaned DataFrame ===\n",
    "clean_df = pd.DataFrame(final_rows)\n",
    "\n",
    "# ✅ Prevent crash if nothing was parsed\n",
    "if clean_df.empty or \"PLAYER\" not in clean_df.columns:\n",
    "    print(f\"⚠️ No valid tournament blocks detected for season {season} ({oddsYear})\")\n",
    "    final_df = pd.DataFrame()  # Safe fallback\n",
    "else:\n",
    "    # Remove winner tag\n",
    "    clean_df[\"PLAYER\"] = clean_df[\"PLAYER\"].str.replace(r\"\\s\\*Winner\\*\", \"\", regex=True)\n",
    "\n",
    "    # Clean odds to numeric\n",
    "    clean_df[\"VEGAS_ODDS\"] = (\n",
    "        clean_df[\"ODDS\"]\n",
    "        .str.replace(\",\", \"\")\n",
    "        .str.extract(r\"(\\d+)/(\\d+)\")\n",
    "        .astype(float)\n",
    "        .apply(lambda x: x[0] / x[1], axis=1)\n",
    "    )\n",
    "\n",
    "    # Final output with source index for debugging\n",
    "    final_df = clean_df[\n",
    "        [\"SEASON\", \"TOURNAMENT\", \"ENDING_DATE\", \"PLAYER\", \"ODDS\", \"VEGAS_ODDS\"]\n",
    "    ].reset_index(drop=True)\n",
    "\n",
    "    # Drop non-standard team events (e.g., Presidents Cup, Ryder Cup)\n",
    "    drop_terms = [\"Presidents Cup\", \"Ryder Cup\"]\n",
    "    final_df = final_df[~final_df[\"TOURNAMENT\"].str.contains(\"|\".join(drop_terms), case=False, na=False)]\n",
    "\n",
    "    display(final_df.head())\n",
    "\n"
   ]
  },
  {
   "cell_type": "code",
   "execution_count": 33,
   "id": "1ba6ed1d",
   "metadata": {},
   "outputs": [
    {
     "name": "stdout",
     "output_type": "stream",
     "text": [
      "🧪 Rows with invalid ENDING_DATE values: 0\n"
     ]
    },
    {
     "data": {
      "text/html": [
       "<div>\n",
       "<style scoped>\n",
       "    .dataframe tbody tr th:only-of-type {\n",
       "        vertical-align: middle;\n",
       "    }\n",
       "\n",
       "    .dataframe tbody tr th {\n",
       "        vertical-align: top;\n",
       "    }\n",
       "\n",
       "    .dataframe thead th {\n",
       "        text-align: right;\n",
       "    }\n",
       "</style>\n",
       "<table border=\"1\" class=\"dataframe\">\n",
       "  <thead>\n",
       "    <tr style=\"text-align: right;\">\n",
       "      <th></th>\n",
       "      <th>SEASON</th>\n",
       "      <th>TOURNAMENT</th>\n",
       "      <th>ENDING_DATE</th>\n",
       "      <th>PLAYER</th>\n",
       "      <th>ODDS</th>\n",
       "      <th>VEGAS_ODDS</th>\n",
       "    </tr>\n",
       "  </thead>\n",
       "  <tbody>\n",
       "  </tbody>\n",
       "</table>\n",
       "</div>"
      ],
      "text/plain": [
       "Empty DataFrame\n",
       "Columns: [SEASON, TOURNAMENT, ENDING_DATE, PLAYER, ODDS, VEGAS_ODDS]\n",
       "Index: []"
      ]
     },
     "metadata": {},
     "output_type": "display_data"
    }
   ],
   "source": [
    "from datetime import datetime, date\n",
    "# ✅ Check for non-date types in ENDING_DATE\n",
    "non_dates = final_df[~final_df[\"ENDING_DATE\"].apply(lambda x: isinstance(x, date))]\n",
    "\n",
    "print(f\"🧪 Rows with invalid ENDING_DATE values: {len(non_dates)}\")\n",
    "display(non_dates.head(10))\n",
    "\n"
   ]
  },
  {
   "cell_type": "code",
   "execution_count": 34,
   "id": "d42bfaa0",
   "metadata": {},
   "outputs": [
    {
     "name": "stdout",
     "output_type": "stream",
     "text": [
      "🚨 Duplicate primary keys in final_df: 0\n"
     ]
    },
    {
     "data": {
      "text/html": [
       "<div>\n",
       "<style scoped>\n",
       "    .dataframe tbody tr th:only-of-type {\n",
       "        vertical-align: middle;\n",
       "    }\n",
       "\n",
       "    .dataframe tbody tr th {\n",
       "        vertical-align: top;\n",
       "    }\n",
       "\n",
       "    .dataframe thead th {\n",
       "        text-align: right;\n",
       "    }\n",
       "</style>\n",
       "<table border=\"1\" class=\"dataframe\">\n",
       "  <thead>\n",
       "    <tr style=\"text-align: right;\">\n",
       "      <th></th>\n",
       "      <th>SEASON</th>\n",
       "      <th>TOURNAMENT</th>\n",
       "      <th>ENDING_DATE</th>\n",
       "      <th>PLAYER</th>\n",
       "      <th>ODDS</th>\n",
       "      <th>VEGAS_ODDS</th>\n",
       "    </tr>\n",
       "  </thead>\n",
       "  <tbody>\n",
       "  </tbody>\n",
       "</table>\n",
       "</div>"
      ],
      "text/plain": [
       "Empty DataFrame\n",
       "Columns: [SEASON, TOURNAMENT, ENDING_DATE, PLAYER, ODDS, VEGAS_ODDS]\n",
       "Index: []"
      ]
     },
     "metadata": {},
     "output_type": "display_data"
    }
   ],
   "source": [
    "dupes = final_df.duplicated(subset=[\"SEASON\", \"TOURNAMENT\", \"ENDING_DATE\", \"PLAYER\"], keep=False)\n",
    "\n",
    "print(f\"🚨 Duplicate primary keys in final_df: {dupes.sum()}\")\n",
    "display(final_df[dupes].sort_values(by=[\"SEASON\", \"TOURNAMENT\", \"PLAYER\"]))"
   ]
  },
  {
   "cell_type": "markdown",
   "id": "d5827d49",
   "metadata": {},
   "source": [
    "## Historical Data"
   ]
  },
  {
   "cell_type": "markdown",
   "id": "72034314",
   "metadata": {},
   "source": [
    "### Pull Relevant Seasons\n",
    "Do a check to see when this course or tournament have been historically played."
   ]
  },
  {
   "cell_type": "code",
   "execution_count": 4,
   "id": "fea9c7c6",
   "metadata": {},
   "outputs": [
    {
     "name": "stdout",
     "output_type": "stream",
     "text": [
      "ℹ️ Found 9 relevant tournaments from course or tournament name.\n"
     ]
    },
    {
     "data": {
      "text/html": [
       "<div>\n",
       "<style scoped>\n",
       "    .dataframe tbody tr th:only-of-type {\n",
       "        vertical-align: middle;\n",
       "    }\n",
       "\n",
       "    .dataframe tbody tr th {\n",
       "        vertical-align: top;\n",
       "    }\n",
       "\n",
       "    .dataframe thead th {\n",
       "        text-align: right;\n",
       "    }\n",
       "</style>\n",
       "<table border=\"1\" class=\"dataframe\">\n",
       "  <thead>\n",
       "    <tr style=\"text-align: right;\">\n",
       "      <th></th>\n",
       "      <th>SEASON</th>\n",
       "      <th>COURSE</th>\n",
       "      <th>TOURN_ID</th>\n",
       "      <th>TOURNAMENT</th>\n",
       "      <th>ENDING_DATE</th>\n",
       "    </tr>\n",
       "  </thead>\n",
       "  <tbody>\n",
       "    <tr>\n",
       "      <th>690</th>\n",
       "      <td>2016</td>\n",
       "      <td>Oakmont CC</td>\n",
       "      <td>026</td>\n",
       "      <td>U.S. Open</td>\n",
       "      <td>2016-06-19</td>\n",
       "    </tr>\n",
       "    <tr>\n",
       "      <th>534</th>\n",
       "      <td>2017</td>\n",
       "      <td>Erin Hills</td>\n",
       "      <td>026</td>\n",
       "      <td>U.S. Open</td>\n",
       "      <td>2017-06-18</td>\n",
       "    </tr>\n",
       "    <tr>\n",
       "      <th>234</th>\n",
       "      <td>2018</td>\n",
       "      <td>Shinnecock Hills GC</td>\n",
       "      <td>026</td>\n",
       "      <td>U.S. Open</td>\n",
       "      <td>2018-06-17</td>\n",
       "    </tr>\n",
       "    <tr>\n",
       "      <th>78</th>\n",
       "      <td>2019</td>\n",
       "      <td>Pebble Beach Golf Links</td>\n",
       "      <td>026</td>\n",
       "      <td>U.S. Open</td>\n",
       "      <td>2019-06-16</td>\n",
       "    </tr>\n",
       "    <tr>\n",
       "      <th>390</th>\n",
       "      <td>2020</td>\n",
       "      <td>Winged Foot Golf Club</td>\n",
       "      <td>026</td>\n",
       "      <td>U.S. Open</td>\n",
       "      <td>2020-09-20</td>\n",
       "    </tr>\n",
       "    <tr>\n",
       "      <th>0</th>\n",
       "      <td>2021</td>\n",
       "      <td>Torrey Pines</td>\n",
       "      <td>535</td>\n",
       "      <td>U.S. Open</td>\n",
       "      <td>2021-06-20</td>\n",
       "    </tr>\n",
       "    <tr>\n",
       "      <th>1001</th>\n",
       "      <td>2022</td>\n",
       "      <td>The Country Club</td>\n",
       "      <td>026</td>\n",
       "      <td>U.S. Open</td>\n",
       "      <td>2022-06-19</td>\n",
       "    </tr>\n",
       "    <tr>\n",
       "      <th>1157</th>\n",
       "      <td>2023</td>\n",
       "      <td>The Los Angeles Country Club</td>\n",
       "      <td>R2023026</td>\n",
       "      <td>U.S. Open</td>\n",
       "      <td>2023-06-18</td>\n",
       "    </tr>\n",
       "    <tr>\n",
       "      <th>1313</th>\n",
       "      <td>2024</td>\n",
       "      <td>Pinehurst Resort &amp; Country Club</td>\n",
       "      <td>R2024026</td>\n",
       "      <td>U.S. Open</td>\n",
       "      <td>2024-06-16</td>\n",
       "    </tr>\n",
       "  </tbody>\n",
       "</table>\n",
       "</div>"
      ],
      "text/plain": [
       "      SEASON                           COURSE  TOURN_ID TOURNAMENT ENDING_DATE\n",
       "690     2016                       Oakmont CC       026  U.S. Open  2016-06-19\n",
       "534     2017                       Erin Hills       026  U.S. Open  2017-06-18\n",
       "234     2018              Shinnecock Hills GC       026  U.S. Open  2018-06-17\n",
       "78      2019          Pebble Beach Golf Links       026  U.S. Open  2019-06-16\n",
       "390     2020            Winged Foot Golf Club       026  U.S. Open  2020-09-20\n",
       "0       2021                     Torrey Pines       535  U.S. Open  2021-06-20\n",
       "1001    2022                 The Country Club       026  U.S. Open  2022-06-19\n",
       "1157    2023     The Los Angeles Country Club  R2023026  U.S. Open  2023-06-18\n",
       "1313    2024  Pinehurst Resort & Country Club  R2024026  U.S. Open  2024-06-16"
      ]
     },
     "execution_count": 4,
     "metadata": {},
     "output_type": "execute_result"
    }
   ],
   "source": [
    "importlib.reload(utils.db_utils)\n",
    "from utils.db_utils import get_combined_history_seasons\n",
    "\n",
    "# === USER INPUT ===\n",
    "seasons = list(range(2016, 2025))  # Adjust as needed\n",
    "db_path = \"data/golf.db\"\n",
    "\n",
    "# Pull course and tournament from config\n",
    "n_course = tournament_config[\"new\"][\"course\"]\n",
    "n_tourn = tournament_config[\"new\"][\"name\"]\n",
    "\n",
    "# Fetch relevant history\n",
    "history_df = get_combined_history_seasons(db_path, course=n_course, tournament=n_tourn, allowed_seasons=seasons)\n",
    "history_df.head(20)\n"
   ]
  },
  {
   "cell_type": "markdown",
   "id": "09441025",
   "metadata": {},
   "source": [
    "### Cut Percentage and FedEx Points\n",
    "Use a rolling-window approach to look at the most recent cut percentage and how many FedEx cup points have been accumulated recently. This will intentionally not match the PGA Tour stats that start over every year, but will have the same amount of data all the time.  We also add a new feature called Form Density which divides the FedEx Cup Points by the Total Events."
   ]
  },
  {
   "cell_type": "code",
   "execution_count": 5,
   "id": "300bf650",
   "metadata": {},
   "outputs": [
    {
     "name": "stdout",
     "output_type": "stream",
     "text": [
      "\n",
      "📆 2016-06-19 — U.S. Open (422 players)\n"
     ]
    },
    {
     "data": {
      "text/html": [
       "<div>\n",
       "<style scoped>\n",
       "    .dataframe tbody tr th:only-of-type {\n",
       "        vertical-align: middle;\n",
       "    }\n",
       "\n",
       "    .dataframe tbody tr th {\n",
       "        vertical-align: top;\n",
       "    }\n",
       "\n",
       "    .dataframe thead th {\n",
       "        text-align: right;\n",
       "    }\n",
       "</style>\n",
       "<table border=\"1\" class=\"dataframe\">\n",
       "  <thead>\n",
       "    <tr style=\"text-align: right;\">\n",
       "      <th></th>\n",
       "      <th>PLAYER</th>\n",
       "      <th>TOTAL_EVENTS_PLAYED</th>\n",
       "      <th>CUTS_MADE</th>\n",
       "      <th>FEDEX_CUP_POINTS</th>\n",
       "      <th>CUT_PERCENTAGE</th>\n",
       "      <th>form_density</th>\n",
       "      <th>CONSECUTIVE_CUTS</th>\n",
       "      <th>ENDING_DATE</th>\n",
       "      <th>TOURNAMENT</th>\n",
       "    </tr>\n",
       "  </thead>\n",
       "  <tbody>\n",
       "    <tr>\n",
       "      <th>0</th>\n",
       "      <td>Aaron Baddeley</td>\n",
       "      <td>17</td>\n",
       "      <td>10</td>\n",
       "      <td>378.0</td>\n",
       "      <td>58.8</td>\n",
       "      <td>22.24</td>\n",
       "      <td>0</td>\n",
       "      <td>2016-06-19</td>\n",
       "      <td>U.S. Open</td>\n",
       "    </tr>\n",
       "    <tr>\n",
       "      <th>1</th>\n",
       "      <td>Aaron Wise</td>\n",
       "      <td>1</td>\n",
       "      <td>0</td>\n",
       "      <td>0.0</td>\n",
       "      <td>0.0</td>\n",
       "      <td>0.00</td>\n",
       "      <td>0</td>\n",
       "      <td>2016-06-19</td>\n",
       "      <td>U.S. Open</td>\n",
       "    </tr>\n",
       "    <tr>\n",
       "      <th>2</th>\n",
       "      <td>Abraham Ancer</td>\n",
       "      <td>10</td>\n",
       "      <td>2</td>\n",
       "      <td>43.0</td>\n",
       "      <td>20.0</td>\n",
       "      <td>4.30</td>\n",
       "      <td>2</td>\n",
       "      <td>2016-06-19</td>\n",
       "      <td>U.S. Open</td>\n",
       "    </tr>\n",
       "  </tbody>\n",
       "</table>\n",
       "</div>"
      ],
      "text/plain": [
       "           PLAYER  TOTAL_EVENTS_PLAYED  CUTS_MADE  FEDEX_CUP_POINTS  \\\n",
       "0  Aaron Baddeley                   17         10             378.0   \n",
       "1      Aaron Wise                    1          0               0.0   \n",
       "2   Abraham Ancer                   10          2              43.0   \n",
       "\n",
       "   CUT_PERCENTAGE  form_density  CONSECUTIVE_CUTS ENDING_DATE TOURNAMENT  \n",
       "0            58.8         22.24                 0  2016-06-19  U.S. Open  \n",
       "1             0.0          0.00                 0  2016-06-19  U.S. Open  \n",
       "2            20.0          4.30                 2  2016-06-19  U.S. Open  "
      ]
     },
     "metadata": {},
     "output_type": "display_data"
    },
    {
     "name": "stdout",
     "output_type": "stream",
     "text": [
      "\n",
      "📆 2017-06-18 — U.S. Open (405 players)\n"
     ]
    },
    {
     "data": {
      "text/html": [
       "<div>\n",
       "<style scoped>\n",
       "    .dataframe tbody tr th:only-of-type {\n",
       "        vertical-align: middle;\n",
       "    }\n",
       "\n",
       "    .dataframe tbody tr th {\n",
       "        vertical-align: top;\n",
       "    }\n",
       "\n",
       "    .dataframe thead th {\n",
       "        text-align: right;\n",
       "    }\n",
       "</style>\n",
       "<table border=\"1\" class=\"dataframe\">\n",
       "  <thead>\n",
       "    <tr style=\"text-align: right;\">\n",
       "      <th></th>\n",
       "      <th>PLAYER</th>\n",
       "      <th>TOTAL_EVENTS_PLAYED</th>\n",
       "      <th>CUTS_MADE</th>\n",
       "      <th>FEDEX_CUP_POINTS</th>\n",
       "      <th>CUT_PERCENTAGE</th>\n",
       "      <th>form_density</th>\n",
       "      <th>CONSECUTIVE_CUTS</th>\n",
       "      <th>ENDING_DATE</th>\n",
       "      <th>TOURNAMENT</th>\n",
       "    </tr>\n",
       "  </thead>\n",
       "  <tbody>\n",
       "    <tr>\n",
       "      <th>0</th>\n",
       "      <td>Aaron Baddeley</td>\n",
       "      <td>15</td>\n",
       "      <td>7</td>\n",
       "      <td>228.29</td>\n",
       "      <td>46.7</td>\n",
       "      <td>15.22</td>\n",
       "      <td>0</td>\n",
       "      <td>2017-06-18</td>\n",
       "      <td>U.S. Open</td>\n",
       "    </tr>\n",
       "    <tr>\n",
       "      <th>1</th>\n",
       "      <td>Aaron Wise</td>\n",
       "      <td>6</td>\n",
       "      <td>4</td>\n",
       "      <td>0.00</td>\n",
       "      <td>66.7</td>\n",
       "      <td>0.00</td>\n",
       "      <td>4</td>\n",
       "      <td>2017-06-18</td>\n",
       "      <td>U.S. Open</td>\n",
       "    </tr>\n",
       "    <tr>\n",
       "      <th>2</th>\n",
       "      <td>Abraham Ancer</td>\n",
       "      <td>1</td>\n",
       "      <td>1</td>\n",
       "      <td>0.00</td>\n",
       "      <td>100.0</td>\n",
       "      <td>0.00</td>\n",
       "      <td>1</td>\n",
       "      <td>2017-06-18</td>\n",
       "      <td>U.S. Open</td>\n",
       "    </tr>\n",
       "  </tbody>\n",
       "</table>\n",
       "</div>"
      ],
      "text/plain": [
       "           PLAYER  TOTAL_EVENTS_PLAYED  CUTS_MADE  FEDEX_CUP_POINTS  \\\n",
       "0  Aaron Baddeley                   15          7            228.29   \n",
       "1      Aaron Wise                    6          4              0.00   \n",
       "2   Abraham Ancer                    1          1              0.00   \n",
       "\n",
       "   CUT_PERCENTAGE  form_density  CONSECUTIVE_CUTS ENDING_DATE TOURNAMENT  \n",
       "0            46.7         15.22                 0  2017-06-18  U.S. Open  \n",
       "1            66.7          0.00                 4  2017-06-18  U.S. Open  \n",
       "2           100.0          0.00                 1  2017-06-18  U.S. Open  "
      ]
     },
     "metadata": {},
     "output_type": "display_data"
    },
    {
     "name": "stdout",
     "output_type": "stream",
     "text": [
      "\n",
      "📆 2018-06-17 — U.S. Open (410 players)\n"
     ]
    },
    {
     "data": {
      "text/html": [
       "<div>\n",
       "<style scoped>\n",
       "    .dataframe tbody tr th:only-of-type {\n",
       "        vertical-align: middle;\n",
       "    }\n",
       "\n",
       "    .dataframe tbody tr th {\n",
       "        vertical-align: top;\n",
       "    }\n",
       "\n",
       "    .dataframe thead th {\n",
       "        text-align: right;\n",
       "    }\n",
       "</style>\n",
       "<table border=\"1\" class=\"dataframe\">\n",
       "  <thead>\n",
       "    <tr style=\"text-align: right;\">\n",
       "      <th></th>\n",
       "      <th>PLAYER</th>\n",
       "      <th>TOTAL_EVENTS_PLAYED</th>\n",
       "      <th>CUTS_MADE</th>\n",
       "      <th>FEDEX_CUP_POINTS</th>\n",
       "      <th>CUT_PERCENTAGE</th>\n",
       "      <th>form_density</th>\n",
       "      <th>CONSECUTIVE_CUTS</th>\n",
       "      <th>ENDING_DATE</th>\n",
       "      <th>TOURNAMENT</th>\n",
       "    </tr>\n",
       "  </thead>\n",
       "  <tbody>\n",
       "    <tr>\n",
       "      <th>0</th>\n",
       "      <td>A.J. McInerney</td>\n",
       "      <td>2</td>\n",
       "      <td>1</td>\n",
       "      <td>0.00</td>\n",
       "      <td>50.0</td>\n",
       "      <td>0.00</td>\n",
       "      <td>0</td>\n",
       "      <td>2018-06-17</td>\n",
       "      <td>U.S. Open</td>\n",
       "    </tr>\n",
       "    <tr>\n",
       "      <th>1</th>\n",
       "      <td>Aaron Baddeley</td>\n",
       "      <td>17</td>\n",
       "      <td>10</td>\n",
       "      <td>239.12</td>\n",
       "      <td>58.8</td>\n",
       "      <td>14.07</td>\n",
       "      <td>0</td>\n",
       "      <td>2018-06-17</td>\n",
       "      <td>U.S. Open</td>\n",
       "    </tr>\n",
       "    <tr>\n",
       "      <th>2</th>\n",
       "      <td>Aaron Wise</td>\n",
       "      <td>19</td>\n",
       "      <td>11</td>\n",
       "      <td>992.76</td>\n",
       "      <td>57.9</td>\n",
       "      <td>52.25</td>\n",
       "      <td>0</td>\n",
       "      <td>2018-06-17</td>\n",
       "      <td>U.S. Open</td>\n",
       "    </tr>\n",
       "  </tbody>\n",
       "</table>\n",
       "</div>"
      ],
      "text/plain": [
       "           PLAYER  TOTAL_EVENTS_PLAYED  CUTS_MADE  FEDEX_CUP_POINTS  \\\n",
       "0  A.J. McInerney                    2          1              0.00   \n",
       "1  Aaron Baddeley                   17         10            239.12   \n",
       "2      Aaron Wise                   19         11            992.76   \n",
       "\n",
       "   CUT_PERCENTAGE  form_density  CONSECUTIVE_CUTS ENDING_DATE TOURNAMENT  \n",
       "0            50.0          0.00                 0  2018-06-17  U.S. Open  \n",
       "1            58.8         14.07                 0  2018-06-17  U.S. Open  \n",
       "2            57.9         52.25                 0  2018-06-17  U.S. Open  "
      ]
     },
     "metadata": {},
     "output_type": "display_data"
    },
    {
     "name": "stdout",
     "output_type": "stream",
     "text": [
      "\n",
      "📆 2019-06-16 — U.S. Open (449 players)\n"
     ]
    },
    {
     "data": {
      "text/html": [
       "<div>\n",
       "<style scoped>\n",
       "    .dataframe tbody tr th:only-of-type {\n",
       "        vertical-align: middle;\n",
       "    }\n",
       "\n",
       "    .dataframe tbody tr th {\n",
       "        vertical-align: top;\n",
       "    }\n",
       "\n",
       "    .dataframe thead th {\n",
       "        text-align: right;\n",
       "    }\n",
       "</style>\n",
       "<table border=\"1\" class=\"dataframe\">\n",
       "  <thead>\n",
       "    <tr style=\"text-align: right;\">\n",
       "      <th></th>\n",
       "      <th>PLAYER</th>\n",
       "      <th>TOTAL_EVENTS_PLAYED</th>\n",
       "      <th>CUTS_MADE</th>\n",
       "      <th>FEDEX_CUP_POINTS</th>\n",
       "      <th>CUT_PERCENTAGE</th>\n",
       "      <th>form_density</th>\n",
       "      <th>CONSECUTIVE_CUTS</th>\n",
       "      <th>ENDING_DATE</th>\n",
       "      <th>TOURNAMENT</th>\n",
       "    </tr>\n",
       "  </thead>\n",
       "  <tbody>\n",
       "    <tr>\n",
       "      <th>0</th>\n",
       "      <td>Aaron Baddeley</td>\n",
       "      <td>13</td>\n",
       "      <td>8</td>\n",
       "      <td>273.88</td>\n",
       "      <td>61.5</td>\n",
       "      <td>21.07</td>\n",
       "      <td>2</td>\n",
       "      <td>2019-06-16</td>\n",
       "      <td>U.S. Open</td>\n",
       "    </tr>\n",
       "    <tr>\n",
       "      <th>1</th>\n",
       "      <td>Aaron Wise</td>\n",
       "      <td>13</td>\n",
       "      <td>8</td>\n",
       "      <td>281.89</td>\n",
       "      <td>61.5</td>\n",
       "      <td>21.68</td>\n",
       "      <td>0</td>\n",
       "      <td>2019-06-16</td>\n",
       "      <td>U.S. Open</td>\n",
       "    </tr>\n",
       "    <tr>\n",
       "      <th>2</th>\n",
       "      <td>Abraham Ancer</td>\n",
       "      <td>15</td>\n",
       "      <td>12</td>\n",
       "      <td>378.14</td>\n",
       "      <td>80.0</td>\n",
       "      <td>25.21</td>\n",
       "      <td>4</td>\n",
       "      <td>2019-06-16</td>\n",
       "      <td>U.S. Open</td>\n",
       "    </tr>\n",
       "  </tbody>\n",
       "</table>\n",
       "</div>"
      ],
      "text/plain": [
       "           PLAYER  TOTAL_EVENTS_PLAYED  CUTS_MADE  FEDEX_CUP_POINTS  \\\n",
       "0  Aaron Baddeley                   13          8            273.88   \n",
       "1      Aaron Wise                   13          8            281.89   \n",
       "2   Abraham Ancer                   15         12            378.14   \n",
       "\n",
       "   CUT_PERCENTAGE  form_density  CONSECUTIVE_CUTS ENDING_DATE TOURNAMENT  \n",
       "0            61.5         21.07                 2  2019-06-16  U.S. Open  \n",
       "1            61.5         21.68                 0  2019-06-16  U.S. Open  \n",
       "2            80.0         25.21                 4  2019-06-16  U.S. Open  "
      ]
     },
     "metadata": {},
     "output_type": "display_data"
    },
    {
     "name": "stdout",
     "output_type": "stream",
     "text": [
      "\n",
      "📆 2020-09-20 — U.S. Open (368 players)\n"
     ]
    },
    {
     "data": {
      "text/html": [
       "<div>\n",
       "<style scoped>\n",
       "    .dataframe tbody tr th:only-of-type {\n",
       "        vertical-align: middle;\n",
       "    }\n",
       "\n",
       "    .dataframe tbody tr th {\n",
       "        vertical-align: top;\n",
       "    }\n",
       "\n",
       "    .dataframe thead th {\n",
       "        text-align: right;\n",
       "    }\n",
       "</style>\n",
       "<table border=\"1\" class=\"dataframe\">\n",
       "  <thead>\n",
       "    <tr style=\"text-align: right;\">\n",
       "      <th></th>\n",
       "      <th>PLAYER</th>\n",
       "      <th>TOTAL_EVENTS_PLAYED</th>\n",
       "      <th>CUTS_MADE</th>\n",
       "      <th>FEDEX_CUP_POINTS</th>\n",
       "      <th>CUT_PERCENTAGE</th>\n",
       "      <th>form_density</th>\n",
       "      <th>CONSECUTIVE_CUTS</th>\n",
       "      <th>ENDING_DATE</th>\n",
       "      <th>TOURNAMENT</th>\n",
       "    </tr>\n",
       "  </thead>\n",
       "  <tbody>\n",
       "    <tr>\n",
       "      <th>0</th>\n",
       "      <td>Aaron Baddeley</td>\n",
       "      <td>11</td>\n",
       "      <td>4</td>\n",
       "      <td>86.07</td>\n",
       "      <td>36.4</td>\n",
       "      <td>7.82</td>\n",
       "      <td>0</td>\n",
       "      <td>2020-09-20</td>\n",
       "      <td>U.S. Open</td>\n",
       "    </tr>\n",
       "    <tr>\n",
       "      <th>1</th>\n",
       "      <td>Aaron Crawford</td>\n",
       "      <td>1</td>\n",
       "      <td>0</td>\n",
       "      <td>0.00</td>\n",
       "      <td>0.0</td>\n",
       "      <td>0.00</td>\n",
       "      <td>0</td>\n",
       "      <td>2020-09-20</td>\n",
       "      <td>U.S. Open</td>\n",
       "    </tr>\n",
       "    <tr>\n",
       "      <th>2</th>\n",
       "      <td>Aaron Wise</td>\n",
       "      <td>12</td>\n",
       "      <td>3</td>\n",
       "      <td>33.25</td>\n",
       "      <td>25.0</td>\n",
       "      <td>2.77</td>\n",
       "      <td>0</td>\n",
       "      <td>2020-09-20</td>\n",
       "      <td>U.S. Open</td>\n",
       "    </tr>\n",
       "  </tbody>\n",
       "</table>\n",
       "</div>"
      ],
      "text/plain": [
       "           PLAYER  TOTAL_EVENTS_PLAYED  CUTS_MADE  FEDEX_CUP_POINTS  \\\n",
       "0  Aaron Baddeley                   11          4             86.07   \n",
       "1  Aaron Crawford                    1          0              0.00   \n",
       "2      Aaron Wise                   12          3             33.25   \n",
       "\n",
       "   CUT_PERCENTAGE  form_density  CONSECUTIVE_CUTS ENDING_DATE TOURNAMENT  \n",
       "0            36.4          7.82                 0  2020-09-20  U.S. Open  \n",
       "1             0.0          0.00                 0  2020-09-20  U.S. Open  \n",
       "2            25.0          2.77                 0  2020-09-20  U.S. Open  "
      ]
     },
     "metadata": {},
     "output_type": "display_data"
    },
    {
     "name": "stdout",
     "output_type": "stream",
     "text": [
      "\n",
      "📆 2021-06-20 — U.S. Open (468 players)\n"
     ]
    },
    {
     "data": {
      "text/html": [
       "<div>\n",
       "<style scoped>\n",
       "    .dataframe tbody tr th:only-of-type {\n",
       "        vertical-align: middle;\n",
       "    }\n",
       "\n",
       "    .dataframe tbody tr th {\n",
       "        vertical-align: top;\n",
       "    }\n",
       "\n",
       "    .dataframe thead th {\n",
       "        text-align: right;\n",
       "    }\n",
       "</style>\n",
       "<table border=\"1\" class=\"dataframe\">\n",
       "  <thead>\n",
       "    <tr style=\"text-align: right;\">\n",
       "      <th></th>\n",
       "      <th>PLAYER</th>\n",
       "      <th>TOTAL_EVENTS_PLAYED</th>\n",
       "      <th>CUTS_MADE</th>\n",
       "      <th>FEDEX_CUP_POINTS</th>\n",
       "      <th>CUT_PERCENTAGE</th>\n",
       "      <th>form_density</th>\n",
       "      <th>CONSECUTIVE_CUTS</th>\n",
       "      <th>ENDING_DATE</th>\n",
       "      <th>TOURNAMENT</th>\n",
       "    </tr>\n",
       "  </thead>\n",
       "  <tbody>\n",
       "    <tr>\n",
       "      <th>0</th>\n",
       "      <td>Aaron Baddeley</td>\n",
       "      <td>10</td>\n",
       "      <td>2</td>\n",
       "      <td>18.08</td>\n",
       "      <td>20.0</td>\n",
       "      <td>1.81</td>\n",
       "      <td>0</td>\n",
       "      <td>2021-06-20</td>\n",
       "      <td>U.S. Open</td>\n",
       "    </tr>\n",
       "    <tr>\n",
       "      <th>1</th>\n",
       "      <td>Aaron Rai</td>\n",
       "      <td>1</td>\n",
       "      <td>0</td>\n",
       "      <td>0.00</td>\n",
       "      <td>0.0</td>\n",
       "      <td>0.00</td>\n",
       "      <td>0</td>\n",
       "      <td>2021-06-20</td>\n",
       "      <td>U.S. Open</td>\n",
       "    </tr>\n",
       "    <tr>\n",
       "      <th>2</th>\n",
       "      <td>Aaron Terrazas</td>\n",
       "      <td>1</td>\n",
       "      <td>0</td>\n",
       "      <td>0.00</td>\n",
       "      <td>0.0</td>\n",
       "      <td>0.00</td>\n",
       "      <td>0</td>\n",
       "      <td>2021-06-20</td>\n",
       "      <td>U.S. Open</td>\n",
       "    </tr>\n",
       "  </tbody>\n",
       "</table>\n",
       "</div>"
      ],
      "text/plain": [
       "           PLAYER  TOTAL_EVENTS_PLAYED  CUTS_MADE  FEDEX_CUP_POINTS  \\\n",
       "0  Aaron Baddeley                   10          2             18.08   \n",
       "1       Aaron Rai                    1          0              0.00   \n",
       "2  Aaron Terrazas                    1          0              0.00   \n",
       "\n",
       "   CUT_PERCENTAGE  form_density  CONSECUTIVE_CUTS ENDING_DATE TOURNAMENT  \n",
       "0            20.0          1.81                 0  2021-06-20  U.S. Open  \n",
       "1             0.0          0.00                 0  2021-06-20  U.S. Open  \n",
       "2             0.0          0.00                 0  2021-06-20  U.S. Open  "
      ]
     },
     "metadata": {},
     "output_type": "display_data"
    },
    {
     "name": "stdout",
     "output_type": "stream",
     "text": [
      "\n",
      "📆 2022-06-19 — U.S. Open (497 players)\n"
     ]
    },
    {
     "data": {
      "text/html": [
       "<div>\n",
       "<style scoped>\n",
       "    .dataframe tbody tr th:only-of-type {\n",
       "        vertical-align: middle;\n",
       "    }\n",
       "\n",
       "    .dataframe tbody tr th {\n",
       "        vertical-align: top;\n",
       "    }\n",
       "\n",
       "    .dataframe thead th {\n",
       "        text-align: right;\n",
       "    }\n",
       "</style>\n",
       "<table border=\"1\" class=\"dataframe\">\n",
       "  <thead>\n",
       "    <tr style=\"text-align: right;\">\n",
       "      <th></th>\n",
       "      <th>PLAYER</th>\n",
       "      <th>TOTAL_EVENTS_PLAYED</th>\n",
       "      <th>CUTS_MADE</th>\n",
       "      <th>FEDEX_CUP_POINTS</th>\n",
       "      <th>CUT_PERCENTAGE</th>\n",
       "      <th>form_density</th>\n",
       "      <th>CONSECUTIVE_CUTS</th>\n",
       "      <th>ENDING_DATE</th>\n",
       "      <th>TOURNAMENT</th>\n",
       "    </tr>\n",
       "  </thead>\n",
       "  <tbody>\n",
       "    <tr>\n",
       "      <th>0</th>\n",
       "      <td>A.J. Ewart</td>\n",
       "      <td>1</td>\n",
       "      <td>0</td>\n",
       "      <td>0.00</td>\n",
       "      <td>0.0</td>\n",
       "      <td>0.00</td>\n",
       "      <td>0</td>\n",
       "      <td>2022-06-19</td>\n",
       "      <td>U.S. Open</td>\n",
       "    </tr>\n",
       "    <tr>\n",
       "      <th>1</th>\n",
       "      <td>Aaron Baddeley</td>\n",
       "      <td>5</td>\n",
       "      <td>2</td>\n",
       "      <td>56.96</td>\n",
       "      <td>40.0</td>\n",
       "      <td>11.39</td>\n",
       "      <td>0</td>\n",
       "      <td>2022-06-19</td>\n",
       "      <td>U.S. Open</td>\n",
       "    </tr>\n",
       "    <tr>\n",
       "      <th>2</th>\n",
       "      <td>Aaron Beverly</td>\n",
       "      <td>1</td>\n",
       "      <td>0</td>\n",
       "      <td>0.00</td>\n",
       "      <td>0.0</td>\n",
       "      <td>0.00</td>\n",
       "      <td>0</td>\n",
       "      <td>2022-06-19</td>\n",
       "      <td>U.S. Open</td>\n",
       "    </tr>\n",
       "  </tbody>\n",
       "</table>\n",
       "</div>"
      ],
      "text/plain": [
       "           PLAYER  TOTAL_EVENTS_PLAYED  CUTS_MADE  FEDEX_CUP_POINTS  \\\n",
       "0      A.J. Ewart                    1          0              0.00   \n",
       "1  Aaron Baddeley                    5          2             56.96   \n",
       "2   Aaron Beverly                    1          0              0.00   \n",
       "\n",
       "   CUT_PERCENTAGE  form_density  CONSECUTIVE_CUTS ENDING_DATE TOURNAMENT  \n",
       "0             0.0          0.00                 0  2022-06-19  U.S. Open  \n",
       "1            40.0         11.39                 0  2022-06-19  U.S. Open  \n",
       "2             0.0          0.00                 0  2022-06-19  U.S. Open  "
      ]
     },
     "metadata": {},
     "output_type": "display_data"
    },
    {
     "name": "stdout",
     "output_type": "stream",
     "text": [
      "\n",
      "📆 2023-06-18 — U.S. Open (503 players)\n"
     ]
    },
    {
     "data": {
      "text/html": [
       "<div>\n",
       "<style scoped>\n",
       "    .dataframe tbody tr th:only-of-type {\n",
       "        vertical-align: middle;\n",
       "    }\n",
       "\n",
       "    .dataframe tbody tr th {\n",
       "        vertical-align: top;\n",
       "    }\n",
       "\n",
       "    .dataframe thead th {\n",
       "        text-align: right;\n",
       "    }\n",
       "</style>\n",
       "<table border=\"1\" class=\"dataframe\">\n",
       "  <thead>\n",
       "    <tr style=\"text-align: right;\">\n",
       "      <th></th>\n",
       "      <th>PLAYER</th>\n",
       "      <th>TOTAL_EVENTS_PLAYED</th>\n",
       "      <th>CUTS_MADE</th>\n",
       "      <th>FEDEX_CUP_POINTS</th>\n",
       "      <th>CUT_PERCENTAGE</th>\n",
       "      <th>form_density</th>\n",
       "      <th>CONSECUTIVE_CUTS</th>\n",
       "      <th>ENDING_DATE</th>\n",
       "      <th>TOURNAMENT</th>\n",
       "    </tr>\n",
       "  </thead>\n",
       "  <tbody>\n",
       "    <tr>\n",
       "      <th>0</th>\n",
       "      <td>Aaron Baddeley</td>\n",
       "      <td>15</td>\n",
       "      <td>11</td>\n",
       "      <td>342.286</td>\n",
       "      <td>73.3</td>\n",
       "      <td>22.82</td>\n",
       "      <td>0</td>\n",
       "      <td>2023-06-18</td>\n",
       "      <td>U.S. Open</td>\n",
       "    </tr>\n",
       "    <tr>\n",
       "      <th>1</th>\n",
       "      <td>Aaron Beverly</td>\n",
       "      <td>1</td>\n",
       "      <td>1</td>\n",
       "      <td>0.000</td>\n",
       "      <td>100.0</td>\n",
       "      <td>0.00</td>\n",
       "      <td>1</td>\n",
       "      <td>2023-06-18</td>\n",
       "      <td>U.S. Open</td>\n",
       "    </tr>\n",
       "    <tr>\n",
       "      <th>2</th>\n",
       "      <td>Aaron Cockerill</td>\n",
       "      <td>1</td>\n",
       "      <td>0</td>\n",
       "      <td>0.000</td>\n",
       "      <td>0.0</td>\n",
       "      <td>0.00</td>\n",
       "      <td>0</td>\n",
       "      <td>2023-06-18</td>\n",
       "      <td>U.S. Open</td>\n",
       "    </tr>\n",
       "  </tbody>\n",
       "</table>\n",
       "</div>"
      ],
      "text/plain": [
       "            PLAYER  TOTAL_EVENTS_PLAYED  CUTS_MADE  FEDEX_CUP_POINTS  \\\n",
       "0   Aaron Baddeley                   15         11           342.286   \n",
       "1    Aaron Beverly                    1          1             0.000   \n",
       "2  Aaron Cockerill                    1          0             0.000   \n",
       "\n",
       "   CUT_PERCENTAGE  form_density  CONSECUTIVE_CUTS ENDING_DATE TOURNAMENT  \n",
       "0            73.3         22.82                 0  2023-06-18  U.S. Open  \n",
       "1           100.0          0.00                 1  2023-06-18  U.S. Open  \n",
       "2             0.0          0.00                 0  2023-06-18  U.S. Open  "
      ]
     },
     "metadata": {},
     "output_type": "display_data"
    },
    {
     "name": "stdout",
     "output_type": "stream",
     "text": [
      "\n",
      "📆 2024-06-16 — U.S. Open (469 players)\n"
     ]
    },
    {
     "data": {
      "text/html": [
       "<div>\n",
       "<style scoped>\n",
       "    .dataframe tbody tr th:only-of-type {\n",
       "        vertical-align: middle;\n",
       "    }\n",
       "\n",
       "    .dataframe tbody tr th {\n",
       "        vertical-align: top;\n",
       "    }\n",
       "\n",
       "    .dataframe thead th {\n",
       "        text-align: right;\n",
       "    }\n",
       "</style>\n",
       "<table border=\"1\" class=\"dataframe\">\n",
       "  <thead>\n",
       "    <tr style=\"text-align: right;\">\n",
       "      <th></th>\n",
       "      <th>PLAYER</th>\n",
       "      <th>TOTAL_EVENTS_PLAYED</th>\n",
       "      <th>CUTS_MADE</th>\n",
       "      <th>FEDEX_CUP_POINTS</th>\n",
       "      <th>CUT_PERCENTAGE</th>\n",
       "      <th>form_density</th>\n",
       "      <th>CONSECUTIVE_CUTS</th>\n",
       "      <th>ENDING_DATE</th>\n",
       "      <th>TOURNAMENT</th>\n",
       "    </tr>\n",
       "  </thead>\n",
       "  <tbody>\n",
       "    <tr>\n",
       "      <th>0</th>\n",
       "      <td>Aaron Baddeley</td>\n",
       "      <td>14</td>\n",
       "      <td>9</td>\n",
       "      <td>181.975</td>\n",
       "      <td>64.3</td>\n",
       "      <td>13.00</td>\n",
       "      <td>0</td>\n",
       "      <td>2024-06-16</td>\n",
       "      <td>U.S. Open</td>\n",
       "    </tr>\n",
       "    <tr>\n",
       "      <th>1</th>\n",
       "      <td>Aaron Cockerill</td>\n",
       "      <td>1</td>\n",
       "      <td>0</td>\n",
       "      <td>0.000</td>\n",
       "      <td>0.0</td>\n",
       "      <td>0.00</td>\n",
       "      <td>0</td>\n",
       "      <td>2024-06-16</td>\n",
       "      <td>U.S. Open</td>\n",
       "    </tr>\n",
       "    <tr>\n",
       "      <th>2</th>\n",
       "      <td>Aaron Rai</td>\n",
       "      <td>15</td>\n",
       "      <td>12</td>\n",
       "      <td>442.007</td>\n",
       "      <td>80.0</td>\n",
       "      <td>29.47</td>\n",
       "      <td>6</td>\n",
       "      <td>2024-06-16</td>\n",
       "      <td>U.S. Open</td>\n",
       "    </tr>\n",
       "  </tbody>\n",
       "</table>\n",
       "</div>"
      ],
      "text/plain": [
       "            PLAYER  TOTAL_EVENTS_PLAYED  CUTS_MADE  FEDEX_CUP_POINTS  \\\n",
       "0   Aaron Baddeley                   14          9           181.975   \n",
       "1  Aaron Cockerill                    1          0             0.000   \n",
       "2        Aaron Rai                   15         12           442.007   \n",
       "\n",
       "   CUT_PERCENTAGE  form_density  CONSECUTIVE_CUTS ENDING_DATE TOURNAMENT  \n",
       "0            64.3         13.00                 0  2024-06-16  U.S. Open  \n",
       "1             0.0          0.00                 0  2024-06-16  U.S. Open  \n",
       "2            80.0         29.47                 6  2024-06-16  U.S. Open  "
      ]
     },
     "metadata": {},
     "output_type": "display_data"
    }
   ],
   "source": [
    "importlib.reload(utils.db_utils)\n",
    "from utils.db_utils import get_cut_and_fedex_history\n",
    "\n",
    "cuts = get_cut_and_fedex_history(\"data/golf.db\", history_df, window_months=9)\n",
    "# cuts[\"2024-05-12\"].head(20)\n",
    "\n",
    "for end_date, df in cuts.items():\n",
    "    print(f\"\\n📆 {end_date} — {df['TOURNAMENT'].iloc[0]} ({len(df)} players)\")\n",
    "    display(df.head(3))"
   ]
  },
  {
   "cell_type": "markdown",
   "id": "ce90fa05",
   "metadata": {},
   "source": [
    "### Recent Form"
   ]
  },
  {
   "cell_type": "code",
   "execution_count": 6,
   "id": "20095a72",
   "metadata": {},
   "outputs": [
    {
     "name": "stdout",
     "output_type": "stream",
     "text": [
      "\n",
      "📆 2016-06-19 — U.S. Open (422 players)\n"
     ]
    },
    {
     "data": {
      "text/html": [
       "<div>\n",
       "<style scoped>\n",
       "    .dataframe tbody tr th:only-of-type {\n",
       "        vertical-align: middle;\n",
       "    }\n",
       "\n",
       "    .dataframe tbody tr th {\n",
       "        vertical-align: top;\n",
       "    }\n",
       "\n",
       "    .dataframe thead th {\n",
       "        text-align: right;\n",
       "    }\n",
       "</style>\n",
       "<table border=\"1\" class=\"dataframe\">\n",
       "  <thead>\n",
       "    <tr style=\"text-align: right;\">\n",
       "      <th></th>\n",
       "      <th>PLAYER</th>\n",
       "      <th>TOTAL_EVENTS_PLAYED</th>\n",
       "      <th>RECENT_FORM</th>\n",
       "      <th>adj_form</th>\n",
       "      <th>ENDING_DATE</th>\n",
       "      <th>TOURNAMENT</th>\n",
       "    </tr>\n",
       "  </thead>\n",
       "  <tbody>\n",
       "    <tr>\n",
       "      <th>0</th>\n",
       "      <td>Lee McCoy</td>\n",
       "      <td>1</td>\n",
       "      <td>4.0</td>\n",
       "      <td>5.77</td>\n",
       "      <td>2016-06-19</td>\n",
       "      <td>U.S. Open</td>\n",
       "    </tr>\n",
       "    <tr>\n",
       "      <th>1</th>\n",
       "      <td>Cody Gribble</td>\n",
       "      <td>1</td>\n",
       "      <td>8.0</td>\n",
       "      <td>11.54</td>\n",
       "      <td>2016-06-19</td>\n",
       "      <td>U.S. Open</td>\n",
       "    </tr>\n",
       "    <tr>\n",
       "      <th>2</th>\n",
       "      <td>Jon Rahm</td>\n",
       "      <td>2</td>\n",
       "      <td>12.5</td>\n",
       "      <td>11.38</td>\n",
       "      <td>2016-06-19</td>\n",
       "      <td>U.S. Open</td>\n",
       "    </tr>\n",
       "  </tbody>\n",
       "</table>\n",
       "</div>"
      ],
      "text/plain": [
       "         PLAYER  TOTAL_EVENTS_PLAYED  RECENT_FORM  adj_form ENDING_DATE  \\\n",
       "0     Lee McCoy                    1          4.0      5.77  2016-06-19   \n",
       "1  Cody Gribble                    1          8.0     11.54  2016-06-19   \n",
       "2      Jon Rahm                    2         12.5     11.38  2016-06-19   \n",
       "\n",
       "  TOURNAMENT  \n",
       "0  U.S. Open  \n",
       "1  U.S. Open  \n",
       "2  U.S. Open  "
      ]
     },
     "metadata": {},
     "output_type": "display_data"
    },
    {
     "name": "stdout",
     "output_type": "stream",
     "text": [
      "\n",
      "📆 2017-06-18 — U.S. Open (405 players)\n"
     ]
    },
    {
     "data": {
      "text/html": [
       "<div>\n",
       "<style scoped>\n",
       "    .dataframe tbody tr th:only-of-type {\n",
       "        vertical-align: middle;\n",
       "    }\n",
       "\n",
       "    .dataframe tbody tr th {\n",
       "        vertical-align: top;\n",
       "    }\n",
       "\n",
       "    .dataframe thead th {\n",
       "        text-align: right;\n",
       "    }\n",
       "</style>\n",
       "<table border=\"1\" class=\"dataframe\">\n",
       "  <thead>\n",
       "    <tr style=\"text-align: right;\">\n",
       "      <th></th>\n",
       "      <th>PLAYER</th>\n",
       "      <th>TOTAL_EVENTS_PLAYED</th>\n",
       "      <th>RECENT_FORM</th>\n",
       "      <th>adj_form</th>\n",
       "      <th>ENDING_DATE</th>\n",
       "      <th>TOURNAMENT</th>\n",
       "    </tr>\n",
       "  </thead>\n",
       "  <tbody>\n",
       "    <tr>\n",
       "      <th>0</th>\n",
       "      <td>Keith Mitchell</td>\n",
       "      <td>1</td>\n",
       "      <td>11.0</td>\n",
       "      <td>15.87</td>\n",
       "      <td>2017-06-18</td>\n",
       "      <td>U.S. Open</td>\n",
       "    </tr>\n",
       "    <tr>\n",
       "      <th>1</th>\n",
       "      <td>Oscar Fraustro</td>\n",
       "      <td>1</td>\n",
       "      <td>13.0</td>\n",
       "      <td>18.76</td>\n",
       "      <td>2017-06-18</td>\n",
       "      <td>U.S. Open</td>\n",
       "    </tr>\n",
       "    <tr>\n",
       "      <th>2</th>\n",
       "      <td>Cam Davis</td>\n",
       "      <td>1</td>\n",
       "      <td>15.0</td>\n",
       "      <td>21.64</td>\n",
       "      <td>2017-06-18</td>\n",
       "      <td>U.S. Open</td>\n",
       "    </tr>\n",
       "  </tbody>\n",
       "</table>\n",
       "</div>"
      ],
      "text/plain": [
       "           PLAYER  TOTAL_EVENTS_PLAYED  RECENT_FORM  adj_form ENDING_DATE  \\\n",
       "0  Keith Mitchell                    1         11.0     15.87  2017-06-18   \n",
       "1  Oscar Fraustro                    1         13.0     18.76  2017-06-18   \n",
       "2       Cam Davis                    1         15.0     21.64  2017-06-18   \n",
       "\n",
       "  TOURNAMENT  \n",
       "0  U.S. Open  \n",
       "1  U.S. Open  \n",
       "2  U.S. Open  "
      ]
     },
     "metadata": {},
     "output_type": "display_data"
    },
    {
     "name": "stdout",
     "output_type": "stream",
     "text": [
      "\n",
      "📆 2018-06-17 — U.S. Open (410 players)\n"
     ]
    },
    {
     "data": {
      "text/html": [
       "<div>\n",
       "<style scoped>\n",
       "    .dataframe tbody tr th:only-of-type {\n",
       "        vertical-align: middle;\n",
       "    }\n",
       "\n",
       "    .dataframe tbody tr th {\n",
       "        vertical-align: top;\n",
       "    }\n",
       "\n",
       "    .dataframe thead th {\n",
       "        text-align: right;\n",
       "    }\n",
       "</style>\n",
       "<table border=\"1\" class=\"dataframe\">\n",
       "  <thead>\n",
       "    <tr style=\"text-align: right;\">\n",
       "      <th></th>\n",
       "      <th>PLAYER</th>\n",
       "      <th>TOTAL_EVENTS_PLAYED</th>\n",
       "      <th>RECENT_FORM</th>\n",
       "      <th>adj_form</th>\n",
       "      <th>ENDING_DATE</th>\n",
       "      <th>TOURNAMENT</th>\n",
       "    </tr>\n",
       "  </thead>\n",
       "  <tbody>\n",
       "    <tr>\n",
       "      <th>0</th>\n",
       "      <td>Jason Day</td>\n",
       "      <td>9</td>\n",
       "      <td>12.2</td>\n",
       "      <td>5.30</td>\n",
       "      <td>2018-06-17</td>\n",
       "      <td>U.S. Open</td>\n",
       "    </tr>\n",
       "    <tr>\n",
       "      <th>1</th>\n",
       "      <td>Justin Rose</td>\n",
       "      <td>9</td>\n",
       "      <td>12.4</td>\n",
       "      <td>5.39</td>\n",
       "      <td>2018-06-17</td>\n",
       "      <td>U.S. Open</td>\n",
       "    </tr>\n",
       "    <tr>\n",
       "      <th>2</th>\n",
       "      <td>Dustin Johnson</td>\n",
       "      <td>8</td>\n",
       "      <td>12.9</td>\n",
       "      <td>5.87</td>\n",
       "      <td>2018-06-17</td>\n",
       "      <td>U.S. Open</td>\n",
       "    </tr>\n",
       "  </tbody>\n",
       "</table>\n",
       "</div>"
      ],
      "text/plain": [
       "           PLAYER  TOTAL_EVENTS_PLAYED  RECENT_FORM  adj_form ENDING_DATE  \\\n",
       "0       Jason Day                    9         12.2      5.30  2018-06-17   \n",
       "1     Justin Rose                    9         12.4      5.39  2018-06-17   \n",
       "2  Dustin Johnson                    8         12.9      5.87  2018-06-17   \n",
       "\n",
       "  TOURNAMENT  \n",
       "0  U.S. Open  \n",
       "1  U.S. Open  \n",
       "2  U.S. Open  "
      ]
     },
     "metadata": {},
     "output_type": "display_data"
    },
    {
     "name": "stdout",
     "output_type": "stream",
     "text": [
      "\n",
      "📆 2019-06-16 — U.S. Open (449 players)\n"
     ]
    },
    {
     "data": {
      "text/html": [
       "<div>\n",
       "<style scoped>\n",
       "    .dataframe tbody tr th:only-of-type {\n",
       "        vertical-align: middle;\n",
       "    }\n",
       "\n",
       "    .dataframe tbody tr th {\n",
       "        vertical-align: top;\n",
       "    }\n",
       "\n",
       "    .dataframe thead th {\n",
       "        text-align: right;\n",
       "    }\n",
       "</style>\n",
       "<table border=\"1\" class=\"dataframe\">\n",
       "  <thead>\n",
       "    <tr style=\"text-align: right;\">\n",
       "      <th></th>\n",
       "      <th>PLAYER</th>\n",
       "      <th>TOTAL_EVENTS_PLAYED</th>\n",
       "      <th>RECENT_FORM</th>\n",
       "      <th>adj_form</th>\n",
       "      <th>ENDING_DATE</th>\n",
       "      <th>TOURNAMENT</th>\n",
       "    </tr>\n",
       "  </thead>\n",
       "  <tbody>\n",
       "    <tr>\n",
       "      <th>0</th>\n",
       "      <td>Dustin Johnson</td>\n",
       "      <td>9</td>\n",
       "      <td>13.4</td>\n",
       "      <td>5.82</td>\n",
       "      <td>2019-06-16</td>\n",
       "      <td>U.S. Open</td>\n",
       "    </tr>\n",
       "    <tr>\n",
       "      <th>1</th>\n",
       "      <td>Collin Morikawa</td>\n",
       "      <td>1</td>\n",
       "      <td>14.0</td>\n",
       "      <td>20.20</td>\n",
       "      <td>2019-06-16</td>\n",
       "      <td>U.S. Open</td>\n",
       "    </tr>\n",
       "    <tr>\n",
       "      <th>2</th>\n",
       "      <td>Erik van Rooyen</td>\n",
       "      <td>2</td>\n",
       "      <td>14.0</td>\n",
       "      <td>12.74</td>\n",
       "      <td>2019-06-16</td>\n",
       "      <td>U.S. Open</td>\n",
       "    </tr>\n",
       "  </tbody>\n",
       "</table>\n",
       "</div>"
      ],
      "text/plain": [
       "            PLAYER  TOTAL_EVENTS_PLAYED  RECENT_FORM  adj_form ENDING_DATE  \\\n",
       "0   Dustin Johnson                    9         13.4      5.82  2019-06-16   \n",
       "1  Collin Morikawa                    1         14.0     20.20  2019-06-16   \n",
       "2  Erik van Rooyen                    2         14.0     12.74  2019-06-16   \n",
       "\n",
       "  TOURNAMENT  \n",
       "0  U.S. Open  \n",
       "1  U.S. Open  \n",
       "2  U.S. Open  "
      ]
     },
     "metadata": {},
     "output_type": "display_data"
    },
    {
     "name": "stdout",
     "output_type": "stream",
     "text": [
      "\n",
      "📆 2020-09-20 — U.S. Open (368 players)\n"
     ]
    },
    {
     "data": {
      "text/html": [
       "<div>\n",
       "<style scoped>\n",
       "    .dataframe tbody tr th:only-of-type {\n",
       "        vertical-align: middle;\n",
       "    }\n",
       "\n",
       "    .dataframe tbody tr th {\n",
       "        vertical-align: top;\n",
       "    }\n",
       "\n",
       "    .dataframe thead th {\n",
       "        text-align: right;\n",
       "    }\n",
       "</style>\n",
       "<table border=\"1\" class=\"dataframe\">\n",
       "  <thead>\n",
       "    <tr style=\"text-align: right;\">\n",
       "      <th></th>\n",
       "      <th>PLAYER</th>\n",
       "      <th>TOTAL_EVENTS_PLAYED</th>\n",
       "      <th>RECENT_FORM</th>\n",
       "      <th>adj_form</th>\n",
       "      <th>ENDING_DATE</th>\n",
       "      <th>TOURNAMENT</th>\n",
       "    </tr>\n",
       "  </thead>\n",
       "  <tbody>\n",
       "    <tr>\n",
       "      <th>0</th>\n",
       "      <td>Daniel Berger</td>\n",
       "      <td>11</td>\n",
       "      <td>19.9</td>\n",
       "      <td>8.01</td>\n",
       "      <td>2020-09-20</td>\n",
       "      <td>U.S. Open</td>\n",
       "    </tr>\n",
       "    <tr>\n",
       "      <th>1</th>\n",
       "      <td>Patrick Cantlay</td>\n",
       "      <td>8</td>\n",
       "      <td>20.6</td>\n",
       "      <td>9.38</td>\n",
       "      <td>2020-09-20</td>\n",
       "      <td>U.S. Open</td>\n",
       "    </tr>\n",
       "    <tr>\n",
       "      <th>2</th>\n",
       "      <td>Rory McIlroy</td>\n",
       "      <td>10</td>\n",
       "      <td>22.1</td>\n",
       "      <td>9.22</td>\n",
       "      <td>2020-09-20</td>\n",
       "      <td>U.S. Open</td>\n",
       "    </tr>\n",
       "  </tbody>\n",
       "</table>\n",
       "</div>"
      ],
      "text/plain": [
       "            PLAYER  TOTAL_EVENTS_PLAYED  RECENT_FORM  adj_form ENDING_DATE  \\\n",
       "0    Daniel Berger                   11         19.9      8.01  2020-09-20   \n",
       "1  Patrick Cantlay                    8         20.6      9.38  2020-09-20   \n",
       "2     Rory McIlroy                   10         22.1      9.22  2020-09-20   \n",
       "\n",
       "  TOURNAMENT  \n",
       "0  U.S. Open  \n",
       "1  U.S. Open  \n",
       "2  U.S. Open  "
      ]
     },
     "metadata": {},
     "output_type": "display_data"
    },
    {
     "name": "stdout",
     "output_type": "stream",
     "text": [
      "\n",
      "📆 2021-06-20 — U.S. Open (468 players)\n"
     ]
    },
    {
     "data": {
      "text/html": [
       "<div>\n",
       "<style scoped>\n",
       "    .dataframe tbody tr th:only-of-type {\n",
       "        vertical-align: middle;\n",
       "    }\n",
       "\n",
       "    .dataframe tbody tr th {\n",
       "        vertical-align: top;\n",
       "    }\n",
       "\n",
       "    .dataframe thead th {\n",
       "        text-align: right;\n",
       "    }\n",
       "</style>\n",
       "<table border=\"1\" class=\"dataframe\">\n",
       "  <thead>\n",
       "    <tr style=\"text-align: right;\">\n",
       "      <th></th>\n",
       "      <th>PLAYER</th>\n",
       "      <th>TOTAL_EVENTS_PLAYED</th>\n",
       "      <th>RECENT_FORM</th>\n",
       "      <th>adj_form</th>\n",
       "      <th>ENDING_DATE</th>\n",
       "      <th>TOURNAMENT</th>\n",
       "    </tr>\n",
       "  </thead>\n",
       "  <tbody>\n",
       "    <tr>\n",
       "      <th>0</th>\n",
       "      <td>Dawie van der Walt</td>\n",
       "      <td>1</td>\n",
       "      <td>20.0</td>\n",
       "      <td>28.85</td>\n",
       "      <td>2021-06-20</td>\n",
       "      <td>U.S. Open</td>\n",
       "    </tr>\n",
       "    <tr>\n",
       "      <th>1</th>\n",
       "      <td>Xander Schauffele</td>\n",
       "      <td>13</td>\n",
       "      <td>21.0</td>\n",
       "      <td>7.96</td>\n",
       "      <td>2021-06-20</td>\n",
       "      <td>U.S. Open</td>\n",
       "    </tr>\n",
       "    <tr>\n",
       "      <th>2</th>\n",
       "      <td>Jon Rahm</td>\n",
       "      <td>14</td>\n",
       "      <td>22.6</td>\n",
       "      <td>8.35</td>\n",
       "      <td>2021-06-20</td>\n",
       "      <td>U.S. Open</td>\n",
       "    </tr>\n",
       "  </tbody>\n",
       "</table>\n",
       "</div>"
      ],
      "text/plain": [
       "               PLAYER  TOTAL_EVENTS_PLAYED  RECENT_FORM  adj_form ENDING_DATE  \\\n",
       "0  Dawie van der Walt                    1         20.0     28.85  2021-06-20   \n",
       "1   Xander Schauffele                   13         21.0      7.96  2021-06-20   \n",
       "2            Jon Rahm                   14         22.6      8.35  2021-06-20   \n",
       "\n",
       "  TOURNAMENT  \n",
       "0  U.S. Open  \n",
       "1  U.S. Open  \n",
       "2  U.S. Open  "
      ]
     },
     "metadata": {},
     "output_type": "display_data"
    },
    {
     "name": "stdout",
     "output_type": "stream",
     "text": [
      "\n",
      "📆 2022-06-19 — U.S. Open (497 players)\n"
     ]
    },
    {
     "data": {
      "text/html": [
       "<div>\n",
       "<style scoped>\n",
       "    .dataframe tbody tr th:only-of-type {\n",
       "        vertical-align: middle;\n",
       "    }\n",
       "\n",
       "    .dataframe tbody tr th {\n",
       "        vertical-align: top;\n",
       "    }\n",
       "\n",
       "    .dataframe thead th {\n",
       "        text-align: right;\n",
       "    }\n",
       "</style>\n",
       "<table border=\"1\" class=\"dataframe\">\n",
       "  <thead>\n",
       "    <tr style=\"text-align: right;\">\n",
       "      <th></th>\n",
       "      <th>PLAYER</th>\n",
       "      <th>TOTAL_EVENTS_PLAYED</th>\n",
       "      <th>RECENT_FORM</th>\n",
       "      <th>adj_form</th>\n",
       "      <th>ENDING_DATE</th>\n",
       "      <th>TOURNAMENT</th>\n",
       "    </tr>\n",
       "  </thead>\n",
       "  <tbody>\n",
       "    <tr>\n",
       "      <th>0</th>\n",
       "      <td>Taylor Montgomery</td>\n",
       "      <td>1</td>\n",
       "      <td>11.0</td>\n",
       "      <td>15.87</td>\n",
       "      <td>2022-06-19</td>\n",
       "      <td>U.S. Open</td>\n",
       "    </tr>\n",
       "    <tr>\n",
       "      <th>1</th>\n",
       "      <td>Haotong Li</td>\n",
       "      <td>1</td>\n",
       "      <td>12.0</td>\n",
       "      <td>17.31</td>\n",
       "      <td>2022-06-19</td>\n",
       "      <td>U.S. Open</td>\n",
       "    </tr>\n",
       "    <tr>\n",
       "      <th>2</th>\n",
       "      <td>Martin Contini</td>\n",
       "      <td>1</td>\n",
       "      <td>16.0</td>\n",
       "      <td>23.08</td>\n",
       "      <td>2022-06-19</td>\n",
       "      <td>U.S. Open</td>\n",
       "    </tr>\n",
       "  </tbody>\n",
       "</table>\n",
       "</div>"
      ],
      "text/plain": [
       "              PLAYER  TOTAL_EVENTS_PLAYED  RECENT_FORM  adj_form ENDING_DATE  \\\n",
       "0  Taylor Montgomery                    1         11.0     15.87  2022-06-19   \n",
       "1         Haotong Li                    1         12.0     17.31  2022-06-19   \n",
       "2     Martin Contini                    1         16.0     23.08  2022-06-19   \n",
       "\n",
       "  TOURNAMENT  \n",
       "0  U.S. Open  \n",
       "1  U.S. Open  \n",
       "2  U.S. Open  "
      ]
     },
     "metadata": {},
     "output_type": "display_data"
    },
    {
     "name": "stdout",
     "output_type": "stream",
     "text": [
      "\n",
      "📆 2023-06-18 — U.S. Open (503 players)\n"
     ]
    },
    {
     "data": {
      "text/html": [
       "<div>\n",
       "<style scoped>\n",
       "    .dataframe tbody tr th:only-of-type {\n",
       "        vertical-align: middle;\n",
       "    }\n",
       "\n",
       "    .dataframe tbody tr th {\n",
       "        vertical-align: top;\n",
       "    }\n",
       "\n",
       "    .dataframe thead th {\n",
       "        text-align: right;\n",
       "    }\n",
       "</style>\n",
       "<table border=\"1\" class=\"dataframe\">\n",
       "  <thead>\n",
       "    <tr style=\"text-align: right;\">\n",
       "      <th></th>\n",
       "      <th>PLAYER</th>\n",
       "      <th>TOTAL_EVENTS_PLAYED</th>\n",
       "      <th>RECENT_FORM</th>\n",
       "      <th>adj_form</th>\n",
       "      <th>ENDING_DATE</th>\n",
       "      <th>TOURNAMENT</th>\n",
       "    </tr>\n",
       "  </thead>\n",
       "  <tbody>\n",
       "    <tr>\n",
       "      <th>0</th>\n",
       "      <td>Joohyung Kim</td>\n",
       "      <td>1</td>\n",
       "      <td>1.0</td>\n",
       "      <td>1.44</td>\n",
       "      <td>2023-06-18</td>\n",
       "      <td>U.S. Open</td>\n",
       "    </tr>\n",
       "    <tr>\n",
       "      <th>1</th>\n",
       "      <td>Brooks Koepka</td>\n",
       "      <td>2</td>\n",
       "      <td>1.5</td>\n",
       "      <td>1.37</td>\n",
       "      <td>2023-06-18</td>\n",
       "      <td>U.S. Open</td>\n",
       "    </tr>\n",
       "    <tr>\n",
       "      <th>2</th>\n",
       "      <td>Scottie Scheffler</td>\n",
       "      <td>16</td>\n",
       "      <td>8.1</td>\n",
       "      <td>2.86</td>\n",
       "      <td>2023-06-18</td>\n",
       "      <td>U.S. Open</td>\n",
       "    </tr>\n",
       "  </tbody>\n",
       "</table>\n",
       "</div>"
      ],
      "text/plain": [
       "              PLAYER  TOTAL_EVENTS_PLAYED  RECENT_FORM  adj_form ENDING_DATE  \\\n",
       "0       Joohyung Kim                    1          1.0      1.44  2023-06-18   \n",
       "1      Brooks Koepka                    2          1.5      1.37  2023-06-18   \n",
       "2  Scottie Scheffler                   16          8.1      2.86  2023-06-18   \n",
       "\n",
       "  TOURNAMENT  \n",
       "0  U.S. Open  \n",
       "1  U.S. Open  \n",
       "2  U.S. Open  "
      ]
     },
     "metadata": {},
     "output_type": "display_data"
    },
    {
     "name": "stdout",
     "output_type": "stream",
     "text": [
      "\n",
      "📆 2024-06-16 — U.S. Open (469 players)\n"
     ]
    },
    {
     "data": {
      "text/html": [
       "<div>\n",
       "<style scoped>\n",
       "    .dataframe tbody tr th:only-of-type {\n",
       "        vertical-align: middle;\n",
       "    }\n",
       "\n",
       "    .dataframe tbody tr th {\n",
       "        vertical-align: top;\n",
       "    }\n",
       "\n",
       "    .dataframe thead th {\n",
       "        text-align: right;\n",
       "    }\n",
       "</style>\n",
       "<table border=\"1\" class=\"dataframe\">\n",
       "  <thead>\n",
       "    <tr style=\"text-align: right;\">\n",
       "      <th></th>\n",
       "      <th>PLAYER</th>\n",
       "      <th>TOTAL_EVENTS_PLAYED</th>\n",
       "      <th>RECENT_FORM</th>\n",
       "      <th>adj_form</th>\n",
       "      <th>ENDING_DATE</th>\n",
       "      <th>TOURNAMENT</th>\n",
       "    </tr>\n",
       "  </thead>\n",
       "  <tbody>\n",
       "    <tr>\n",
       "      <th>0</th>\n",
       "      <td>Bryson DeChambeau</td>\n",
       "      <td>2</td>\n",
       "      <td>4.0</td>\n",
       "      <td>3.64</td>\n",
       "      <td>2024-06-16</td>\n",
       "      <td>U.S. Open</td>\n",
       "    </tr>\n",
       "    <tr>\n",
       "      <th>1</th>\n",
       "      <td>Scottie Scheffler</td>\n",
       "      <td>14</td>\n",
       "      <td>4.2</td>\n",
       "      <td>1.55</td>\n",
       "      <td>2024-06-16</td>\n",
       "      <td>U.S. Open</td>\n",
       "    </tr>\n",
       "    <tr>\n",
       "      <th>2</th>\n",
       "      <td>Dean Burmester</td>\n",
       "      <td>1</td>\n",
       "      <td>12.0</td>\n",
       "      <td>17.31</td>\n",
       "      <td>2024-06-16</td>\n",
       "      <td>U.S. Open</td>\n",
       "    </tr>\n",
       "  </tbody>\n",
       "</table>\n",
       "</div>"
      ],
      "text/plain": [
       "              PLAYER  TOTAL_EVENTS_PLAYED  RECENT_FORM  adj_form ENDING_DATE  \\\n",
       "0  Bryson DeChambeau                    2          4.0      3.64  2024-06-16   \n",
       "1  Scottie Scheffler                   14          4.2      1.55  2024-06-16   \n",
       "2     Dean Burmester                    1         12.0     17.31  2024-06-16   \n",
       "\n",
       "  TOURNAMENT  \n",
       "0  U.S. Open  \n",
       "1  U.S. Open  \n",
       "2  U.S. Open  "
      ]
     },
     "metadata": {},
     "output_type": "display_data"
    }
   ],
   "source": [
    "importlib.reload(utils.db_utils)\n",
    "from utils.db_utils import get_recent_avg_finish\n",
    "\n",
    "recent_form = get_recent_avg_finish(\"data/golf.db\", history_df, window_months=9)\n",
    "\n",
    "# Example preview\n",
    "for date, df in recent_form.items(): \n",
    "    print(f\"\\n📆 {date} — {df['TOURNAMENT'].iloc[0]} ({len(df)} players)\")\n",
    "    display(df.head(3))"
   ]
  },
  {
   "cell_type": "markdown",
   "id": "76a77f44",
   "metadata": {},
   "source": [
    "### Course History"
   ]
  },
  {
   "cell_type": "code",
   "execution_count": 7,
   "id": "7412401a",
   "metadata": {},
   "outputs": [],
   "source": [
    "importlib.reload(utils.db_utils)\n",
    "from utils.db_utils import get_course_history\n",
    "\n",
    "# Filter history_df for only the course we're targeting\n",
    "target_course = tournament_config[\"new\"][\"course\"]\n",
    "course_df = history_df[history_df[\"COURSE\"] == target_course]\n",
    "course_hist = get_course_history(\"data/golf.db\", course_df)\n",
    "\n",
    "# View example\n",
    "for date, df in course_hist.items():\n",
    "    if not df.empty:\n",
    "        print(f\"\\n🏌️‍♂️ Course history for {df['TOURNAMENT'].iloc[0]} on {date}\")\n",
    "        display(df.head(3))"
   ]
  },
  {
   "cell_type": "markdown",
   "id": "e8fa7578",
   "metadata": {},
   "source": [
    "## Training Dataset"
   ]
  },
  {
   "cell_type": "code",
   "execution_count": 8,
   "id": "a4277295",
   "metadata": {},
   "outputs": [
    {
     "data": {
      "text/html": [
       "<div>\n",
       "<style scoped>\n",
       "    .dataframe tbody tr th:only-of-type {\n",
       "        vertical-align: middle;\n",
       "    }\n",
       "\n",
       "    .dataframe tbody tr th {\n",
       "        vertical-align: top;\n",
       "    }\n",
       "\n",
       "    .dataframe thead th {\n",
       "        text-align: right;\n",
       "    }\n",
       "</style>\n",
       "<table border=\"1\" class=\"dataframe\">\n",
       "  <thead>\n",
       "    <tr style=\"text-align: right;\">\n",
       "      <th></th>\n",
       "      <th>SEASON</th>\n",
       "      <th>ENDING_DATE</th>\n",
       "      <th>TOURNAMENT</th>\n",
       "      <th>COURSE</th>\n",
       "      <th>PLAYER</th>\n",
       "      <th>POS</th>\n",
       "      <th>FINAL_POS</th>\n",
       "      <th>SGTTG_RANK</th>\n",
       "      <th>SGTTG</th>\n",
       "      <th>SGOTT_RANK</th>\n",
       "      <th>SGOTT</th>\n",
       "      <th>SGAPR_RANK</th>\n",
       "      <th>SGAPR</th>\n",
       "      <th>SGATG_RANK</th>\n",
       "      <th>SGATG</th>\n",
       "      <th>SGP_RANK</th>\n",
       "      <th>SGP</th>\n",
       "      <th>BIRDIES_RANK</th>\n",
       "      <th>BIRDIES</th>\n",
       "      <th>PAR_3_RANK</th>\n",
       "      <th>PAR_3</th>\n",
       "      <th>PAR_4_RANK</th>\n",
       "      <th>PAR_4</th>\n",
       "      <th>PAR_5_RANK</th>\n",
       "      <th>PAR_5</th>\n",
       "      <th>TOTAL_DRIVING_RANK</th>\n",
       "      <th>TOTAL_DRIVING</th>\n",
       "      <th>DRIVING_DISTANCE_RANK</th>\n",
       "      <th>DRIVING_DISTANCE</th>\n",
       "      <th>DRIVING_ACCURACY_RANK</th>\n",
       "      <th>DRIVING_ACCURACY</th>\n",
       "      <th>GIR_RANK</th>\n",
       "      <th>GIR</th>\n",
       "      <th>SCRAMBLING_RANK</th>\n",
       "      <th>SCRAMBLING</th>\n",
       "      <th>OWGR_RANK</th>\n",
       "      <th>OWGR</th>\n",
       "      <th>VEGAS_ODDS</th>\n",
       "      <th>CUT_PERCENTAGE</th>\n",
       "      <th>FEDEX_CUP_POINTS</th>\n",
       "      <th>form_density</th>\n",
       "      <th>CONSECUTIVE_CUTS</th>\n",
       "      <th>RECENT_FORM</th>\n",
       "      <th>adj_form</th>\n",
       "      <th>TOP_20</th>\n",
       "    </tr>\n",
       "  </thead>\n",
       "  <tbody>\n",
       "    <tr>\n",
       "      <th>0</th>\n",
       "      <td>2016</td>\n",
       "      <td>2016-06-19</td>\n",
       "      <td>U.S. Open</td>\n",
       "      <td>Oakmont CC</td>\n",
       "      <td>Aaron Wise</td>\n",
       "      <td>CUT</td>\n",
       "      <td>90</td>\n",
       "      <td>NaN</td>\n",
       "      <td>NaN</td>\n",
       "      <td>NaN</td>\n",
       "      <td>NaN</td>\n",
       "      <td>NaN</td>\n",
       "      <td>NaN</td>\n",
       "      <td>NaN</td>\n",
       "      <td>NaN</td>\n",
       "      <td>NaN</td>\n",
       "      <td>NaN</td>\n",
       "      <td>NaN</td>\n",
       "      <td>None</td>\n",
       "      <td>NaN</td>\n",
       "      <td>NaN</td>\n",
       "      <td>NaN</td>\n",
       "      <td>NaN</td>\n",
       "      <td>NaN</td>\n",
       "      <td>NaN</td>\n",
       "      <td>NaN</td>\n",
       "      <td>NaN</td>\n",
       "      <td>NaN</td>\n",
       "      <td>NaN</td>\n",
       "      <td>NaN</td>\n",
       "      <td>None</td>\n",
       "      <td>NaN</td>\n",
       "      <td>None</td>\n",
       "      <td>NaN</td>\n",
       "      <td>None</td>\n",
       "      <td>609.0</td>\n",
       "      <td>0.26</td>\n",
       "      <td>500.0</td>\n",
       "      <td>0.0</td>\n",
       "      <td>0.00</td>\n",
       "      <td>0.00</td>\n",
       "      <td>0.0</td>\n",
       "      <td>90.0</td>\n",
       "      <td>129.84</td>\n",
       "      <td>0</td>\n",
       "    </tr>\n",
       "    <tr>\n",
       "      <th>1</th>\n",
       "      <td>2016</td>\n",
       "      <td>2016-06-19</td>\n",
       "      <td>U.S. Open</td>\n",
       "      <td>Oakmont CC</td>\n",
       "      <td>Adam Scott</td>\n",
       "      <td>T18</td>\n",
       "      <td>18</td>\n",
       "      <td>1.0</td>\n",
       "      <td>2.062</td>\n",
       "      <td>20.0</td>\n",
       "      <td>0.522</td>\n",
       "      <td>1.0</td>\n",
       "      <td>1.491</td>\n",
       "      <td>83.0</td>\n",
       "      <td>0.049</td>\n",
       "      <td>129.0</td>\n",
       "      <td>-0.168</td>\n",
       "      <td>9.0</td>\n",
       "      <td>22.88</td>\n",
       "      <td>10.0</td>\n",
       "      <td>3.00</td>\n",
       "      <td>8.0</td>\n",
       "      <td>4.00</td>\n",
       "      <td>13.0</td>\n",
       "      <td>4.58</td>\n",
       "      <td>64.0</td>\n",
       "      <td>166.0</td>\n",
       "      <td>13.0</td>\n",
       "      <td>304.6</td>\n",
       "      <td>153.0</td>\n",
       "      <td>55.55</td>\n",
       "      <td>3.0</td>\n",
       "      <td>70.76</td>\n",
       "      <td>74.0</td>\n",
       "      <td>59.5</td>\n",
       "      <td>6.0</td>\n",
       "      <td>7.07</td>\n",
       "      <td>30.0</td>\n",
       "      <td>100.0</td>\n",
       "      <td>971.35</td>\n",
       "      <td>121.42</td>\n",
       "      <td>8.0</td>\n",
       "      <td>24.6</td>\n",
       "      <td>11.20</td>\n",
       "      <td>1</td>\n",
       "    </tr>\n",
       "    <tr>\n",
       "      <th>2</th>\n",
       "      <td>2016</td>\n",
       "      <td>2016-06-19</td>\n",
       "      <td>U.S. Open</td>\n",
       "      <td>Oakmont CC</td>\n",
       "      <td>Alex Noren</td>\n",
       "      <td>CUT</td>\n",
       "      <td>90</td>\n",
       "      <td>NaN</td>\n",
       "      <td>NaN</td>\n",
       "      <td>NaN</td>\n",
       "      <td>NaN</td>\n",
       "      <td>NaN</td>\n",
       "      <td>NaN</td>\n",
       "      <td>NaN</td>\n",
       "      <td>NaN</td>\n",
       "      <td>NaN</td>\n",
       "      <td>NaN</td>\n",
       "      <td>NaN</td>\n",
       "      <td>None</td>\n",
       "      <td>NaN</td>\n",
       "      <td>NaN</td>\n",
       "      <td>NaN</td>\n",
       "      <td>NaN</td>\n",
       "      <td>NaN</td>\n",
       "      <td>NaN</td>\n",
       "      <td>NaN</td>\n",
       "      <td>NaN</td>\n",
       "      <td>NaN</td>\n",
       "      <td>NaN</td>\n",
       "      <td>NaN</td>\n",
       "      <td>None</td>\n",
       "      <td>NaN</td>\n",
       "      <td>None</td>\n",
       "      <td>NaN</td>\n",
       "      <td>None</td>\n",
       "      <td>26.0</td>\n",
       "      <td>3.63</td>\n",
       "      <td>300.0</td>\n",
       "      <td>NaN</td>\n",
       "      <td>NaN</td>\n",
       "      <td>NaN</td>\n",
       "      <td>NaN</td>\n",
       "      <td>NaN</td>\n",
       "      <td>NaN</td>\n",
       "      <td>0</td>\n",
       "    </tr>\n",
       "    <tr>\n",
       "      <th>3</th>\n",
       "      <td>2016</td>\n",
       "      <td>2016-06-19</td>\n",
       "      <td>U.S. Open</td>\n",
       "      <td>Oakmont CC</td>\n",
       "      <td>Andres Gonzales</td>\n",
       "      <td>CUT</td>\n",
       "      <td>90</td>\n",
       "      <td>160.0</td>\n",
       "      <td>-0.469</td>\n",
       "      <td>141.0</td>\n",
       "      <td>-0.222</td>\n",
       "      <td>134.0</td>\n",
       "      <td>-0.112</td>\n",
       "      <td>151.0</td>\n",
       "      <td>-0.135</td>\n",
       "      <td>94.0</td>\n",
       "      <td>0.007</td>\n",
       "      <td>91.0</td>\n",
       "      <td>20.01</td>\n",
       "      <td>78.0</td>\n",
       "      <td>3.06</td>\n",
       "      <td>162.0</td>\n",
       "      <td>4.09</td>\n",
       "      <td>80.0</td>\n",
       "      <td>4.67</td>\n",
       "      <td>145.0</td>\n",
       "      <td>224.0</td>\n",
       "      <td>59.0</td>\n",
       "      <td>294.7</td>\n",
       "      <td>165.0</td>\n",
       "      <td>54.55</td>\n",
       "      <td>81.0</td>\n",
       "      <td>66.17</td>\n",
       "      <td>148.0</td>\n",
       "      <td>55.79</td>\n",
       "      <td>270.0</td>\n",
       "      <td>0.66</td>\n",
       "      <td>1000.0</td>\n",
       "      <td>35.3</td>\n",
       "      <td>52.80</td>\n",
       "      <td>3.11</td>\n",
       "      <td>1.0</td>\n",
       "      <td>80.2</td>\n",
       "      <td>27.75</td>\n",
       "      <td>0</td>\n",
       "    </tr>\n",
       "    <tr>\n",
       "      <th>4</th>\n",
       "      <td>2016</td>\n",
       "      <td>2016-06-19</td>\n",
       "      <td>U.S. Open</td>\n",
       "      <td>Oakmont CC</td>\n",
       "      <td>Andrew Johnston</td>\n",
       "      <td>T54</td>\n",
       "      <td>54</td>\n",
       "      <td>NaN</td>\n",
       "      <td>NaN</td>\n",
       "      <td>NaN</td>\n",
       "      <td>NaN</td>\n",
       "      <td>NaN</td>\n",
       "      <td>NaN</td>\n",
       "      <td>NaN</td>\n",
       "      <td>NaN</td>\n",
       "      <td>NaN</td>\n",
       "      <td>NaN</td>\n",
       "      <td>NaN</td>\n",
       "      <td>None</td>\n",
       "      <td>NaN</td>\n",
       "      <td>NaN</td>\n",
       "      <td>NaN</td>\n",
       "      <td>NaN</td>\n",
       "      <td>NaN</td>\n",
       "      <td>NaN</td>\n",
       "      <td>NaN</td>\n",
       "      <td>NaN</td>\n",
       "      <td>NaN</td>\n",
       "      <td>NaN</td>\n",
       "      <td>NaN</td>\n",
       "      <td>None</td>\n",
       "      <td>NaN</td>\n",
       "      <td>None</td>\n",
       "      <td>NaN</td>\n",
       "      <td>None</td>\n",
       "      <td>79.0</td>\n",
       "      <td>1.83</td>\n",
       "      <td>300.0</td>\n",
       "      <td>NaN</td>\n",
       "      <td>NaN</td>\n",
       "      <td>NaN</td>\n",
       "      <td>NaN</td>\n",
       "      <td>NaN</td>\n",
       "      <td>NaN</td>\n",
       "      <td>0</td>\n",
       "    </tr>\n",
       "    <tr>\n",
       "      <th>5</th>\n",
       "      <td>2016</td>\n",
       "      <td>2016-06-19</td>\n",
       "      <td>U.S. Open</td>\n",
       "      <td>Oakmont CC</td>\n",
       "      <td>Andrew Landry</td>\n",
       "      <td>T15</td>\n",
       "      <td>15</td>\n",
       "      <td>172.0</td>\n",
       "      <td>-0.694</td>\n",
       "      <td>11.0</td>\n",
       "      <td>0.594</td>\n",
       "      <td>181.0</td>\n",
       "      <td>-0.892</td>\n",
       "      <td>179.0</td>\n",
       "      <td>-0.396</td>\n",
       "      <td>4.0</td>\n",
       "      <td>0.654</td>\n",
       "      <td>160.0</td>\n",
       "      <td>18.48</td>\n",
       "      <td>136.0</td>\n",
       "      <td>3.09</td>\n",
       "      <td>34.0</td>\n",
       "      <td>4.02</td>\n",
       "      <td>169.0</td>\n",
       "      <td>4.76</td>\n",
       "      <td>5.0</td>\n",
       "      <td>85.0</td>\n",
       "      <td>59.0</td>\n",
       "      <td>294.7</td>\n",
       "      <td>26.0</td>\n",
       "      <td>65.55</td>\n",
       "      <td>117.0</td>\n",
       "      <td>64.63</td>\n",
       "      <td>28.0</td>\n",
       "      <td>61.86</td>\n",
       "      <td>482.0</td>\n",
       "      <td>0.37</td>\n",
       "      <td>1000.0</td>\n",
       "      <td>37.5</td>\n",
       "      <td>20.29</td>\n",
       "      <td>2.54</td>\n",
       "      <td>3.0</td>\n",
       "      <td>80.8</td>\n",
       "      <td>36.77</td>\n",
       "      <td>1</td>\n",
       "    </tr>\n",
       "    <tr>\n",
       "      <th>6</th>\n",
       "      <td>2016</td>\n",
       "      <td>2016-06-19</td>\n",
       "      <td>U.S. Open</td>\n",
       "      <td>Oakmont CC</td>\n",
       "      <td>Andy Pope</td>\n",
       "      <td>CUT</td>\n",
       "      <td>90</td>\n",
       "      <td>NaN</td>\n",
       "      <td>NaN</td>\n",
       "      <td>NaN</td>\n",
       "      <td>NaN</td>\n",
       "      <td>NaN</td>\n",
       "      <td>NaN</td>\n",
       "      <td>NaN</td>\n",
       "      <td>NaN</td>\n",
       "      <td>NaN</td>\n",
       "      <td>NaN</td>\n",
       "      <td>NaN</td>\n",
       "      <td>NaN</td>\n",
       "      <td>NaN</td>\n",
       "      <td>NaN</td>\n",
       "      <td>NaN</td>\n",
       "      <td>NaN</td>\n",
       "      <td>NaN</td>\n",
       "      <td>NaN</td>\n",
       "      <td>NaN</td>\n",
       "      <td>NaN</td>\n",
       "      <td>NaN</td>\n",
       "      <td>NaN</td>\n",
       "      <td>NaN</td>\n",
       "      <td>NaN</td>\n",
       "      <td>NaN</td>\n",
       "      <td>NaN</td>\n",
       "      <td>NaN</td>\n",
       "      <td>NaN</td>\n",
       "      <td>NaN</td>\n",
       "      <td>NaN</td>\n",
       "      <td>NaN</td>\n",
       "      <td>NaN</td>\n",
       "      <td>NaN</td>\n",
       "      <td>NaN</td>\n",
       "      <td>NaN</td>\n",
       "      <td>NaN</td>\n",
       "      <td>NaN</td>\n",
       "      <td>0</td>\n",
       "    </tr>\n",
       "    <tr>\n",
       "      <th>7</th>\n",
       "      <td>2016</td>\n",
       "      <td>2016-06-19</td>\n",
       "      <td>U.S. Open</td>\n",
       "      <td>Oakmont CC</td>\n",
       "      <td>Andy Sullivan</td>\n",
       "      <td>T23</td>\n",
       "      <td>23</td>\n",
       "      <td>NaN</td>\n",
       "      <td>NaN</td>\n",
       "      <td>NaN</td>\n",
       "      <td>NaN</td>\n",
       "      <td>NaN</td>\n",
       "      <td>NaN</td>\n",
       "      <td>NaN</td>\n",
       "      <td>NaN</td>\n",
       "      <td>NaN</td>\n",
       "      <td>NaN</td>\n",
       "      <td>NaN</td>\n",
       "      <td>None</td>\n",
       "      <td>NaN</td>\n",
       "      <td>NaN</td>\n",
       "      <td>NaN</td>\n",
       "      <td>NaN</td>\n",
       "      <td>NaN</td>\n",
       "      <td>NaN</td>\n",
       "      <td>NaN</td>\n",
       "      <td>NaN</td>\n",
       "      <td>NaN</td>\n",
       "      <td>NaN</td>\n",
       "      <td>NaN</td>\n",
       "      <td>None</td>\n",
       "      <td>NaN</td>\n",
       "      <td>None</td>\n",
       "      <td>NaN</td>\n",
       "      <td>None</td>\n",
       "      <td>51.0</td>\n",
       "      <td>2.58</td>\n",
       "      <td>300.0</td>\n",
       "      <td>60.0</td>\n",
       "      <td>0.00</td>\n",
       "      <td>0.00</td>\n",
       "      <td>0.0</td>\n",
       "      <td>60.2</td>\n",
       "      <td>33.60</td>\n",
       "      <td>0</td>\n",
       "    </tr>\n",
       "    <tr>\n",
       "      <th>8</th>\n",
       "      <td>2016</td>\n",
       "      <td>2016-06-19</td>\n",
       "      <td>U.S. Open</td>\n",
       "      <td>Oakmont CC</td>\n",
       "      <td>Anirban Lahiri</td>\n",
       "      <td>CUT</td>\n",
       "      <td>90</td>\n",
       "      <td>97.0</td>\n",
       "      <td>0.088</td>\n",
       "      <td>95.0</td>\n",
       "      <td>0.025</td>\n",
       "      <td>90.0</td>\n",
       "      <td>0.143</td>\n",
       "      <td>130.0</td>\n",
       "      <td>-0.080</td>\n",
       "      <td>99.0</td>\n",
       "      <td>-0.020</td>\n",
       "      <td>107.0</td>\n",
       "      <td>19.73</td>\n",
       "      <td>136.0</td>\n",
       "      <td>3.09</td>\n",
       "      <td>97.0</td>\n",
       "      <td>4.05</td>\n",
       "      <td>155.0</td>\n",
       "      <td>4.74</td>\n",
       "      <td>154.0</td>\n",
       "      <td>232.0</td>\n",
       "      <td>82.0</td>\n",
       "      <td>291.7</td>\n",
       "      <td>150.0</td>\n",
       "      <td>56.31</td>\n",
       "      <td>161.0</td>\n",
       "      <td>62.88</td>\n",
       "      <td>138.0</td>\n",
       "      <td>56.4</td>\n",
       "      <td>92.0</td>\n",
       "      <td>1.63</td>\n",
       "      <td>250.0</td>\n",
       "      <td>72.7</td>\n",
       "      <td>278.75</td>\n",
       "      <td>25.34</td>\n",
       "      <td>5.0</td>\n",
       "      <td>51.5</td>\n",
       "      <td>20.73</td>\n",
       "      <td>0</td>\n",
       "    </tr>\n",
       "    <tr>\n",
       "      <th>9</th>\n",
       "      <td>2016</td>\n",
       "      <td>2016-06-19</td>\n",
       "      <td>U.S. Open</td>\n",
       "      <td>Oakmont CC</td>\n",
       "      <td>Aron Price</td>\n",
       "      <td>CUT</td>\n",
       "      <td>90</td>\n",
       "      <td>NaN</td>\n",
       "      <td>NaN</td>\n",
       "      <td>NaN</td>\n",
       "      <td>NaN</td>\n",
       "      <td>NaN</td>\n",
       "      <td>NaN</td>\n",
       "      <td>NaN</td>\n",
       "      <td>NaN</td>\n",
       "      <td>NaN</td>\n",
       "      <td>NaN</td>\n",
       "      <td>NaN</td>\n",
       "      <td>None</td>\n",
       "      <td>NaN</td>\n",
       "      <td>NaN</td>\n",
       "      <td>NaN</td>\n",
       "      <td>NaN</td>\n",
       "      <td>NaN</td>\n",
       "      <td>NaN</td>\n",
       "      <td>NaN</td>\n",
       "      <td>NaN</td>\n",
       "      <td>NaN</td>\n",
       "      <td>NaN</td>\n",
       "      <td>NaN</td>\n",
       "      <td>None</td>\n",
       "      <td>NaN</td>\n",
       "      <td>None</td>\n",
       "      <td>NaN</td>\n",
       "      <td>None</td>\n",
       "      <td>499.0</td>\n",
       "      <td>0.36</td>\n",
       "      <td>1000.0</td>\n",
       "      <td>NaN</td>\n",
       "      <td>NaN</td>\n",
       "      <td>NaN</td>\n",
       "      <td>NaN</td>\n",
       "      <td>NaN</td>\n",
       "      <td>NaN</td>\n",
       "      <td>0</td>\n",
       "    </tr>\n",
       "  </tbody>\n",
       "</table>\n",
       "</div>"
      ],
      "text/plain": [
       "   SEASON ENDING_DATE TOURNAMENT      COURSE           PLAYER  POS  FINAL_POS  \\\n",
       "0    2016  2016-06-19  U.S. Open  Oakmont CC       Aaron Wise  CUT         90   \n",
       "1    2016  2016-06-19  U.S. Open  Oakmont CC       Adam Scott  T18         18   \n",
       "2    2016  2016-06-19  U.S. Open  Oakmont CC       Alex Noren  CUT         90   \n",
       "3    2016  2016-06-19  U.S. Open  Oakmont CC  Andres Gonzales  CUT         90   \n",
       "4    2016  2016-06-19  U.S. Open  Oakmont CC  Andrew Johnston  T54         54   \n",
       "5    2016  2016-06-19  U.S. Open  Oakmont CC    Andrew Landry  T15         15   \n",
       "6    2016  2016-06-19  U.S. Open  Oakmont CC        Andy Pope  CUT         90   \n",
       "7    2016  2016-06-19  U.S. Open  Oakmont CC    Andy Sullivan  T23         23   \n",
       "8    2016  2016-06-19  U.S. Open  Oakmont CC   Anirban Lahiri  CUT         90   \n",
       "9    2016  2016-06-19  U.S. Open  Oakmont CC       Aron Price  CUT         90   \n",
       "\n",
       "   SGTTG_RANK  SGTTG  SGOTT_RANK  SGOTT  SGAPR_RANK  SGAPR  SGATG_RANK  SGATG  \\\n",
       "0         NaN    NaN         NaN    NaN         NaN    NaN         NaN    NaN   \n",
       "1         1.0  2.062        20.0  0.522         1.0  1.491        83.0  0.049   \n",
       "2         NaN    NaN         NaN    NaN         NaN    NaN         NaN    NaN   \n",
       "3       160.0 -0.469       141.0 -0.222       134.0 -0.112       151.0 -0.135   \n",
       "4         NaN    NaN         NaN    NaN         NaN    NaN         NaN    NaN   \n",
       "5       172.0 -0.694        11.0  0.594       181.0 -0.892       179.0 -0.396   \n",
       "6         NaN    NaN         NaN    NaN         NaN    NaN         NaN    NaN   \n",
       "7         NaN    NaN         NaN    NaN         NaN    NaN         NaN    NaN   \n",
       "8        97.0  0.088        95.0  0.025        90.0  0.143       130.0 -0.080   \n",
       "9         NaN    NaN         NaN    NaN         NaN    NaN         NaN    NaN   \n",
       "\n",
       "   SGP_RANK    SGP  BIRDIES_RANK BIRDIES  PAR_3_RANK  PAR_3  PAR_4_RANK  \\\n",
       "0       NaN    NaN           NaN    None         NaN    NaN         NaN   \n",
       "1     129.0 -0.168           9.0   22.88        10.0   3.00         8.0   \n",
       "2       NaN    NaN           NaN    None         NaN    NaN         NaN   \n",
       "3      94.0  0.007          91.0   20.01        78.0   3.06       162.0   \n",
       "4       NaN    NaN           NaN    None         NaN    NaN         NaN   \n",
       "5       4.0  0.654         160.0   18.48       136.0   3.09        34.0   \n",
       "6       NaN    NaN           NaN     NaN         NaN    NaN         NaN   \n",
       "7       NaN    NaN           NaN    None         NaN    NaN         NaN   \n",
       "8      99.0 -0.020         107.0   19.73       136.0   3.09        97.0   \n",
       "9       NaN    NaN           NaN    None         NaN    NaN         NaN   \n",
       "\n",
       "   PAR_4  PAR_5_RANK  PAR_5  TOTAL_DRIVING_RANK  TOTAL_DRIVING  \\\n",
       "0    NaN         NaN    NaN                 NaN            NaN   \n",
       "1   4.00        13.0   4.58                64.0          166.0   \n",
       "2    NaN         NaN    NaN                 NaN            NaN   \n",
       "3   4.09        80.0   4.67               145.0          224.0   \n",
       "4    NaN         NaN    NaN                 NaN            NaN   \n",
       "5   4.02       169.0   4.76                 5.0           85.0   \n",
       "6    NaN         NaN    NaN                 NaN            NaN   \n",
       "7    NaN         NaN    NaN                 NaN            NaN   \n",
       "8   4.05       155.0   4.74               154.0          232.0   \n",
       "9    NaN         NaN    NaN                 NaN            NaN   \n",
       "\n",
       "   DRIVING_DISTANCE_RANK  DRIVING_DISTANCE  DRIVING_ACCURACY_RANK  \\\n",
       "0                    NaN               NaN                    NaN   \n",
       "1                   13.0             304.6                  153.0   \n",
       "2                    NaN               NaN                    NaN   \n",
       "3                   59.0             294.7                  165.0   \n",
       "4                    NaN               NaN                    NaN   \n",
       "5                   59.0             294.7                   26.0   \n",
       "6                    NaN               NaN                    NaN   \n",
       "7                    NaN               NaN                    NaN   \n",
       "8                   82.0             291.7                  150.0   \n",
       "9                    NaN               NaN                    NaN   \n",
       "\n",
       "  DRIVING_ACCURACY  GIR_RANK    GIR  SCRAMBLING_RANK SCRAMBLING  OWGR_RANK  \\\n",
       "0             None       NaN   None              NaN       None      609.0   \n",
       "1            55.55       3.0  70.76             74.0       59.5        6.0   \n",
       "2             None       NaN   None              NaN       None       26.0   \n",
       "3            54.55      81.0  66.17            148.0      55.79      270.0   \n",
       "4             None       NaN   None              NaN       None       79.0   \n",
       "5            65.55     117.0  64.63             28.0      61.86      482.0   \n",
       "6              NaN       NaN    NaN              NaN        NaN        NaN   \n",
       "7             None       NaN   None              NaN       None       51.0   \n",
       "8            56.31     161.0  62.88            138.0       56.4       92.0   \n",
       "9             None       NaN   None              NaN       None      499.0   \n",
       "\n",
       "   OWGR  VEGAS_ODDS  CUT_PERCENTAGE  FEDEX_CUP_POINTS  form_density  \\\n",
       "0  0.26       500.0             0.0              0.00          0.00   \n",
       "1  7.07        30.0           100.0            971.35        121.42   \n",
       "2  3.63       300.0             NaN               NaN           NaN   \n",
       "3  0.66      1000.0            35.3             52.80          3.11   \n",
       "4  1.83       300.0             NaN               NaN           NaN   \n",
       "5  0.37      1000.0            37.5             20.29          2.54   \n",
       "6   NaN         NaN             NaN               NaN           NaN   \n",
       "7  2.58       300.0            60.0              0.00          0.00   \n",
       "8  1.63       250.0            72.7            278.75         25.34   \n",
       "9  0.36      1000.0             NaN               NaN           NaN   \n",
       "\n",
       "   CONSECUTIVE_CUTS  RECENT_FORM  adj_form  TOP_20  \n",
       "0               0.0         90.0    129.84       0  \n",
       "1               8.0         24.6     11.20       1  \n",
       "2               NaN          NaN       NaN       0  \n",
       "3               1.0         80.2     27.75       0  \n",
       "4               NaN          NaN       NaN       0  \n",
       "5               3.0         80.8     36.77       1  \n",
       "6               NaN          NaN       NaN       0  \n",
       "7               0.0         60.2     33.60       0  \n",
       "8               5.0         51.5     20.73       0  \n",
       "9               NaN          NaN       NaN       0  "
      ]
     },
     "execution_count": 8,
     "metadata": {},
     "output_type": "execute_result"
    }
   ],
   "source": [
    "pd.set_option(\"display.max_columns\", None)   # Show all columns\n",
    "importlib.reload(utils.db_utils)\n",
    "from utils.db_utils import build_training_rows\n",
    "training_df = build_training_rows(\n",
    "    db_path,\n",
    "    history_df,\n",
    "    cuts,\n",
    "    recent_form,\n",
    "    course_hist,\n",
    ")\n",
    "training_df.head(10)\n",
    "# training_df.info()\n",
    "# training_df.isna().sum().sort_values(ascending=False)"
   ]
  },
  {
   "cell_type": "code",
   "execution_count": 9,
   "id": "c5df12cc",
   "metadata": {},
   "outputs": [
    {
     "data": {
      "text/html": [
       "<div>\n",
       "<style scoped>\n",
       "    .dataframe tbody tr th:only-of-type {\n",
       "        vertical-align: middle;\n",
       "    }\n",
       "\n",
       "    .dataframe tbody tr th {\n",
       "        vertical-align: top;\n",
       "    }\n",
       "\n",
       "    .dataframe thead th {\n",
       "        text-align: right;\n",
       "    }\n",
       "</style>\n",
       "<table border=\"1\" class=\"dataframe\">\n",
       "  <thead>\n",
       "    <tr style=\"text-align: right;\">\n",
       "      <th></th>\n",
       "      <th>SEASON</th>\n",
       "      <th>ENDING_DATE</th>\n",
       "      <th>TOURNAMENT</th>\n",
       "      <th>COURSE</th>\n",
       "      <th>PLAYER</th>\n",
       "      <th>POS</th>\n",
       "      <th>FINAL_POS</th>\n",
       "      <th>SGTTG_RANK</th>\n",
       "      <th>SGTTG</th>\n",
       "      <th>SGOTT_RANK</th>\n",
       "      <th>SGOTT</th>\n",
       "      <th>SGAPR_RANK</th>\n",
       "      <th>SGAPR</th>\n",
       "      <th>SGATG_RANK</th>\n",
       "      <th>SGATG</th>\n",
       "      <th>SGP_RANK</th>\n",
       "      <th>SGP</th>\n",
       "      <th>BIRDIES_RANK</th>\n",
       "      <th>BIRDIES</th>\n",
       "      <th>PAR_3_RANK</th>\n",
       "      <th>PAR_3</th>\n",
       "      <th>PAR_4_RANK</th>\n",
       "      <th>PAR_4</th>\n",
       "      <th>PAR_5_RANK</th>\n",
       "      <th>PAR_5</th>\n",
       "      <th>TOTAL_DRIVING_RANK</th>\n",
       "      <th>TOTAL_DRIVING</th>\n",
       "      <th>DRIVING_DISTANCE_RANK</th>\n",
       "      <th>DRIVING_DISTANCE</th>\n",
       "      <th>DRIVING_ACCURACY_RANK</th>\n",
       "      <th>DRIVING_ACCURACY</th>\n",
       "      <th>GIR_RANK</th>\n",
       "      <th>GIR</th>\n",
       "      <th>SCRAMBLING_RANK</th>\n",
       "      <th>SCRAMBLING</th>\n",
       "      <th>OWGR_RANK</th>\n",
       "      <th>OWGR</th>\n",
       "      <th>VEGAS_ODDS</th>\n",
       "      <th>CUT_PERCENTAGE</th>\n",
       "      <th>FEDEX_CUP_POINTS</th>\n",
       "      <th>form_density</th>\n",
       "      <th>CONSECUTIVE_CUTS</th>\n",
       "      <th>RECENT_FORM</th>\n",
       "      <th>adj_form</th>\n",
       "      <th>TOP_20</th>\n",
       "    </tr>\n",
       "  </thead>\n",
       "  <tbody>\n",
       "    <tr>\n",
       "      <th>1157</th>\n",
       "      <td>2024</td>\n",
       "      <td>2024-06-16</td>\n",
       "      <td>U.S. Open</td>\n",
       "      <td>Pinehurst Resort &amp; Country Club</td>\n",
       "      <td>Aaron Rai</td>\n",
       "      <td>T19</td>\n",
       "      <td>19</td>\n",
       "      <td>9.0</td>\n",
       "      <td>1.131</td>\n",
       "      <td>36.0</td>\n",
       "      <td>0.303</td>\n",
       "      <td>8.0</td>\n",
       "      <td>0.676</td>\n",
       "      <td>56.0</td>\n",
       "      <td>0.152</td>\n",
       "      <td>83.0</td>\n",
       "      <td>0.054</td>\n",
       "      <td>99.0</td>\n",
       "      <td>22.10%</td>\n",
       "      <td>38.0</td>\n",
       "      <td>3.01</td>\n",
       "      <td>10.0</td>\n",
       "      <td>3.97</td>\n",
       "      <td>44.0</td>\n",
       "      <td>4.54</td>\n",
       "      <td>53.0</td>\n",
       "      <td>153.0</td>\n",
       "      <td>152.0</td>\n",
       "      <td>293.8</td>\n",
       "      <td>1.0</td>\n",
       "      <td>72.02%</td>\n",
       "      <td>7.0</td>\n",
       "      <td>71.58%</td>\n",
       "      <td>33.0</td>\n",
       "      <td>63.18%</td>\n",
       "      <td>21.0</td>\n",
       "      <td>3.2294</td>\n",
       "      <td>200.0</td>\n",
       "      <td>80.0</td>\n",
       "      <td>442.007</td>\n",
       "      <td>29.47</td>\n",
       "      <td>6.0</td>\n",
       "      <td>41.1</td>\n",
       "      <td>14.82</td>\n",
       "      <td>1</td>\n",
       "    </tr>\n",
       "    <tr>\n",
       "      <th>1158</th>\n",
       "      <td>2024</td>\n",
       "      <td>2024-06-16</td>\n",
       "      <td>U.S. Open</td>\n",
       "      <td>Pinehurst Resort &amp; Country Club</td>\n",
       "      <td>Adam Hadwin</td>\n",
       "      <td>CUT</td>\n",
       "      <td>90</td>\n",
       "      <td>112.0</td>\n",
       "      <td>-0.036</td>\n",
       "      <td>101.0</td>\n",
       "      <td>0.016</td>\n",
       "      <td>113.0</td>\n",
       "      <td>-0.057</td>\n",
       "      <td>102.0</td>\n",
       "      <td>0.005</td>\n",
       "      <td>82.0</td>\n",
       "      <td>0.058</td>\n",
       "      <td>63.0</td>\n",
       "      <td>23.00%</td>\n",
       "      <td>52.0</td>\n",
       "      <td>3.02</td>\n",
       "      <td>131.0</td>\n",
       "      <td>4.04</td>\n",
       "      <td>116.0</td>\n",
       "      <td>4.61</td>\n",
       "      <td>123.0</td>\n",
       "      <td>198.0</td>\n",
       "      <td>124.0</td>\n",
       "      <td>297.9</td>\n",
       "      <td>74.0</td>\n",
       "      <td>61.57%</td>\n",
       "      <td>152.0</td>\n",
       "      <td>64.30%</td>\n",
       "      <td>151.0</td>\n",
       "      <td>55.81%</td>\n",
       "      <td>56.0</td>\n",
       "      <td>2.0027</td>\n",
       "      <td>150.0</td>\n",
       "      <td>75.0</td>\n",
       "      <td>1029.292</td>\n",
       "      <td>64.33</td>\n",
       "      <td>1.0</td>\n",
       "      <td>43.3</td>\n",
       "      <td>15.28</td>\n",
       "      <td>0</td>\n",
       "    </tr>\n",
       "    <tr>\n",
       "      <th>1159</th>\n",
       "      <td>2024</td>\n",
       "      <td>2024-06-16</td>\n",
       "      <td>U.S. Open</td>\n",
       "      <td>Pinehurst Resort &amp; Country Club</td>\n",
       "      <td>Adam Schenk</td>\n",
       "      <td>CUT</td>\n",
       "      <td>90</td>\n",
       "      <td>146.0</td>\n",
       "      <td>-0.421</td>\n",
       "      <td>53.0</td>\n",
       "      <td>0.212</td>\n",
       "      <td>166.0</td>\n",
       "      <td>-0.520</td>\n",
       "      <td>130.0</td>\n",
       "      <td>-0.114</td>\n",
       "      <td>85.0</td>\n",
       "      <td>0.051</td>\n",
       "      <td>132.0</td>\n",
       "      <td>21.24%</td>\n",
       "      <td>152.0</td>\n",
       "      <td>3.09</td>\n",
       "      <td>131.0</td>\n",
       "      <td>4.04</td>\n",
       "      <td>116.0</td>\n",
       "      <td>4.61</td>\n",
       "      <td>102.0</td>\n",
       "      <td>180.0</td>\n",
       "      <td>82.0</td>\n",
       "      <td>302.4</td>\n",
       "      <td>98.0</td>\n",
       "      <td>59.93%</td>\n",
       "      <td>149.0</td>\n",
       "      <td>64.50%</td>\n",
       "      <td>74.0</td>\n",
       "      <td>60.50%</td>\n",
       "      <td>82.0</td>\n",
       "      <td>1.4461</td>\n",
       "      <td>500.0</td>\n",
       "      <td>66.7</td>\n",
       "      <td>568.417</td>\n",
       "      <td>27.07</td>\n",
       "      <td>0.0</td>\n",
       "      <td>50.9</td>\n",
       "      <td>16.47</td>\n",
       "      <td>0</td>\n",
       "    </tr>\n",
       "    <tr>\n",
       "      <th>1160</th>\n",
       "      <td>2024</td>\n",
       "      <td>2024-06-16</td>\n",
       "      <td>U.S. Open</td>\n",
       "      <td>Pinehurst Resort &amp; Country Club</td>\n",
       "      <td>Adam Scott</td>\n",
       "      <td>T32</td>\n",
       "      <td>32</td>\n",
       "      <td>38.0</td>\n",
       "      <td>0.540</td>\n",
       "      <td>33.0</td>\n",
       "      <td>0.322</td>\n",
       "      <td>87.0</td>\n",
       "      <td>0.114</td>\n",
       "      <td>67.0</td>\n",
       "      <td>0.104</td>\n",
       "      <td>29.0</td>\n",
       "      <td>0.398</td>\n",
       "      <td>79.0</td>\n",
       "      <td>22.54%</td>\n",
       "      <td>38.0</td>\n",
       "      <td>3.01</td>\n",
       "      <td>57.0</td>\n",
       "      <td>4.00</td>\n",
       "      <td>44.0</td>\n",
       "      <td>4.54</td>\n",
       "      <td>75.0</td>\n",
       "      <td>170.0</td>\n",
       "      <td>49.0</td>\n",
       "      <td>307.1</td>\n",
       "      <td>121.0</td>\n",
       "      <td>58.28%</td>\n",
       "      <td>102.0</td>\n",
       "      <td>66.35%</td>\n",
       "      <td>45.0</td>\n",
       "      <td>62.09%</td>\n",
       "      <td>20.0</td>\n",
       "      <td>3.2584</td>\n",
       "      <td>150.0</td>\n",
       "      <td>85.7</td>\n",
       "      <td>646.065</td>\n",
       "      <td>46.15</td>\n",
       "      <td>2.0</td>\n",
       "      <td>33.4</td>\n",
       "      <td>12.33</td>\n",
       "      <td>0</td>\n",
       "    </tr>\n",
       "    <tr>\n",
       "      <th>1161</th>\n",
       "      <td>2024</td>\n",
       "      <td>2024-06-16</td>\n",
       "      <td>U.S. Open</td>\n",
       "      <td>Pinehurst Resort &amp; Country Club</td>\n",
       "      <td>Adam Svensson</td>\n",
       "      <td>T56</td>\n",
       "      <td>56</td>\n",
       "      <td>33.0</td>\n",
       "      <td>0.592</td>\n",
       "      <td>99.0</td>\n",
       "      <td>0.019</td>\n",
       "      <td>28.0</td>\n",
       "      <td>0.380</td>\n",
       "      <td>39.0</td>\n",
       "      <td>0.193</td>\n",
       "      <td>164.0</td>\n",
       "      <td>-0.453</td>\n",
       "      <td>153.0</td>\n",
       "      <td>20.41%</td>\n",
       "      <td>142.0</td>\n",
       "      <td>3.08</td>\n",
       "      <td>85.0</td>\n",
       "      <td>4.01</td>\n",
       "      <td>121.0</td>\n",
       "      <td>4.62</td>\n",
       "      <td>62.0</td>\n",
       "      <td>158.0</td>\n",
       "      <td>118.0</td>\n",
       "      <td>298.3</td>\n",
       "      <td>40.0</td>\n",
       "      <td>64.18%</td>\n",
       "      <td>88.0</td>\n",
       "      <td>67.13%</td>\n",
       "      <td>60.0</td>\n",
       "      <td>61.39%</td>\n",
       "      <td>112.0</td>\n",
       "      <td>1.1671</td>\n",
       "      <td>400.0</td>\n",
       "      <td>78.3</td>\n",
       "      <td>366.278</td>\n",
       "      <td>15.93</td>\n",
       "      <td>9.0</td>\n",
       "      <td>47.3</td>\n",
       "      <td>14.88</td>\n",
       "      <td>0</td>\n",
       "    </tr>\n",
       "  </tbody>\n",
       "</table>\n",
       "</div>"
      ],
      "text/plain": [
       "      SEASON ENDING_DATE TOURNAMENT                           COURSE  \\\n",
       "1157    2024  2024-06-16  U.S. Open  Pinehurst Resort & Country Club   \n",
       "1158    2024  2024-06-16  U.S. Open  Pinehurst Resort & Country Club   \n",
       "1159    2024  2024-06-16  U.S. Open  Pinehurst Resort & Country Club   \n",
       "1160    2024  2024-06-16  U.S. Open  Pinehurst Resort & Country Club   \n",
       "1161    2024  2024-06-16  U.S. Open  Pinehurst Resort & Country Club   \n",
       "\n",
       "             PLAYER  POS  FINAL_POS  SGTTG_RANK  SGTTG  SGOTT_RANK  SGOTT  \\\n",
       "1157      Aaron Rai  T19         19         9.0  1.131        36.0  0.303   \n",
       "1158    Adam Hadwin  CUT         90       112.0 -0.036       101.0  0.016   \n",
       "1159    Adam Schenk  CUT         90       146.0 -0.421        53.0  0.212   \n",
       "1160     Adam Scott  T32         32        38.0  0.540        33.0  0.322   \n",
       "1161  Adam Svensson  T56         56        33.0  0.592        99.0  0.019   \n",
       "\n",
       "      SGAPR_RANK  SGAPR  SGATG_RANK  SGATG  SGP_RANK    SGP  BIRDIES_RANK  \\\n",
       "1157         8.0  0.676        56.0  0.152      83.0  0.054          99.0   \n",
       "1158       113.0 -0.057       102.0  0.005      82.0  0.058          63.0   \n",
       "1159       166.0 -0.520       130.0 -0.114      85.0  0.051         132.0   \n",
       "1160        87.0  0.114        67.0  0.104      29.0  0.398          79.0   \n",
       "1161        28.0  0.380        39.0  0.193     164.0 -0.453         153.0   \n",
       "\n",
       "     BIRDIES  PAR_3_RANK  PAR_3  PAR_4_RANK  PAR_4  PAR_5_RANK  PAR_5  \\\n",
       "1157  22.10%        38.0   3.01        10.0   3.97        44.0   4.54   \n",
       "1158  23.00%        52.0   3.02       131.0   4.04       116.0   4.61   \n",
       "1159  21.24%       152.0   3.09       131.0   4.04       116.0   4.61   \n",
       "1160  22.54%        38.0   3.01        57.0   4.00        44.0   4.54   \n",
       "1161  20.41%       142.0   3.08        85.0   4.01       121.0   4.62   \n",
       "\n",
       "      TOTAL_DRIVING_RANK  TOTAL_DRIVING  DRIVING_DISTANCE_RANK  \\\n",
       "1157                53.0          153.0                  152.0   \n",
       "1158               123.0          198.0                  124.0   \n",
       "1159               102.0          180.0                   82.0   \n",
       "1160                75.0          170.0                   49.0   \n",
       "1161                62.0          158.0                  118.0   \n",
       "\n",
       "      DRIVING_DISTANCE  DRIVING_ACCURACY_RANK DRIVING_ACCURACY  GIR_RANK  \\\n",
       "1157             293.8                    1.0           72.02%       7.0   \n",
       "1158             297.9                   74.0           61.57%     152.0   \n",
       "1159             302.4                   98.0           59.93%     149.0   \n",
       "1160             307.1                  121.0           58.28%     102.0   \n",
       "1161             298.3                   40.0           64.18%      88.0   \n",
       "\n",
       "         GIR  SCRAMBLING_RANK SCRAMBLING  OWGR_RANK    OWGR  VEGAS_ODDS  \\\n",
       "1157  71.58%             33.0     63.18%       21.0  3.2294       200.0   \n",
       "1158  64.30%            151.0     55.81%       56.0  2.0027       150.0   \n",
       "1159  64.50%             74.0     60.50%       82.0  1.4461       500.0   \n",
       "1160  66.35%             45.0     62.09%       20.0  3.2584       150.0   \n",
       "1161  67.13%             60.0     61.39%      112.0  1.1671       400.0   \n",
       "\n",
       "      CUT_PERCENTAGE  FEDEX_CUP_POINTS  form_density  CONSECUTIVE_CUTS  \\\n",
       "1157            80.0           442.007         29.47               6.0   \n",
       "1158            75.0          1029.292         64.33               1.0   \n",
       "1159            66.7           568.417         27.07               0.0   \n",
       "1160            85.7           646.065         46.15               2.0   \n",
       "1161            78.3           366.278         15.93               9.0   \n",
       "\n",
       "      RECENT_FORM  adj_form  TOP_20  \n",
       "1157         41.1     14.82       1  \n",
       "1158         43.3     15.28       0  \n",
       "1159         50.9     16.47       0  \n",
       "1160         33.4     12.33       0  \n",
       "1161         47.3     14.88       0  "
      ]
     },
     "execution_count": 9,
     "metadata": {},
     "output_type": "execute_result"
    }
   ],
   "source": [
    "# Play with different years to see if I notice anything wrong\n",
    "training_df[training_df[\"SEASON\"] == 2024].head()"
   ]
  },
  {
   "cell_type": "markdown",
   "id": "5f92ff52",
   "metadata": {},
   "source": [
    "### Normalization\n",
    "***Fix Historical Odds***\n",
    "\n",
    "Many names do not have historical odds but rather are part of the \"field.\" So giving these \"NaN\" values the average odds (as I would for missing stats) isn't a good approximation of reality – they are typically the \"field\" because they are not notable and have poor odds individually.\n",
    "\n",
    "There are also some crazy odds numbers occasionally (1000/1 or 3000/1) that don't happen all that much and are making that tail too long.\n",
    "\n",
    "This cell assigns odds of 1000/1 for anyone missing and clips anything larger to 1000/1 to normalize the data better and assign the missing odds more appropriately where they belong.\n",
    "\n",
    "***OWGR Adjustment***\n",
    "\n",
    "The NaN's for OWGR are similarly bad players.  So we should assign these the worst ranking instead of the mean and clip it at 1000 just in case there are ever outliers.\n",
    "\n",
    "For the OWGR score, it should match the lowest score in the dataset to assign that person the same as the worst.\n",
    "\n",
    "***Recent Form Adjustment***\n",
    "\n",
    "The NaN's for Recent Form mean that this player has not played any tournaments in the lookback period (9 months).  Similar to Odds and OWGR, I want to punish those that don't play often in my model.  Set these to 90 (i.e. like they miss a lot of cuts - because if they aren't playing they aren't good enough to make it to these tournaments very frequently).  The adj_form feature will also need to be updated here with the new data.\n",
    "\n",
    "***FedEx Cup Point Adjustment***\n",
    "\n",
    "The NaN's for FedEx Cup Points means there is no data.  Therefore they should be 0."
   ]
  },
  {
   "cell_type": "code",
   "execution_count": 10,
   "id": "3e9f4f19",
   "metadata": {},
   "outputs": [
    {
     "data": {
      "text/html": [
       "<div>\n",
       "<style scoped>\n",
       "    .dataframe tbody tr th:only-of-type {\n",
       "        vertical-align: middle;\n",
       "    }\n",
       "\n",
       "    .dataframe tbody tr th {\n",
       "        vertical-align: top;\n",
       "    }\n",
       "\n",
       "    .dataframe thead th {\n",
       "        text-align: right;\n",
       "    }\n",
       "</style>\n",
       "<table border=\"1\" class=\"dataframe\">\n",
       "  <thead>\n",
       "    <tr style=\"text-align: right;\">\n",
       "      <th></th>\n",
       "      <th>SEASON</th>\n",
       "      <th>ENDING_DATE</th>\n",
       "      <th>TOURNAMENT</th>\n",
       "      <th>COURSE</th>\n",
       "      <th>PLAYER</th>\n",
       "      <th>POS</th>\n",
       "      <th>FINAL_POS</th>\n",
       "      <th>SGTTG_RANK</th>\n",
       "      <th>SGTTG</th>\n",
       "      <th>SGOTT_RANK</th>\n",
       "      <th>SGOTT</th>\n",
       "      <th>SGAPR_RANK</th>\n",
       "      <th>SGAPR</th>\n",
       "      <th>SGATG_RANK</th>\n",
       "      <th>SGATG</th>\n",
       "      <th>SGP_RANK</th>\n",
       "      <th>SGP</th>\n",
       "      <th>BIRDIES_RANK</th>\n",
       "      <th>BIRDIES</th>\n",
       "      <th>PAR_3_RANK</th>\n",
       "      <th>PAR_3</th>\n",
       "      <th>PAR_4_RANK</th>\n",
       "      <th>PAR_4</th>\n",
       "      <th>PAR_5_RANK</th>\n",
       "      <th>PAR_5</th>\n",
       "      <th>TOTAL_DRIVING_RANK</th>\n",
       "      <th>TOTAL_DRIVING</th>\n",
       "      <th>DRIVING_DISTANCE_RANK</th>\n",
       "      <th>DRIVING_DISTANCE</th>\n",
       "      <th>DRIVING_ACCURACY_RANK</th>\n",
       "      <th>DRIVING_ACCURACY</th>\n",
       "      <th>GIR_RANK</th>\n",
       "      <th>GIR</th>\n",
       "      <th>SCRAMBLING_RANK</th>\n",
       "      <th>SCRAMBLING</th>\n",
       "      <th>OWGR_RANK</th>\n",
       "      <th>OWGR</th>\n",
       "      <th>VEGAS_ODDS</th>\n",
       "      <th>CUT_PERCENTAGE</th>\n",
       "      <th>FEDEX_CUP_POINTS</th>\n",
       "      <th>form_density</th>\n",
       "      <th>CONSECUTIVE_CUTS</th>\n",
       "      <th>RECENT_FORM</th>\n",
       "      <th>adj_form</th>\n",
       "      <th>TOP_20</th>\n",
       "    </tr>\n",
       "  </thead>\n",
       "  <tbody>\n",
       "    <tr>\n",
       "      <th>0</th>\n",
       "      <td>2016</td>\n",
       "      <td>2016-06-19</td>\n",
       "      <td>U.S. Open</td>\n",
       "      <td>Oakmont CC</td>\n",
       "      <td>Aaron Wise</td>\n",
       "      <td>CUT</td>\n",
       "      <td>90</td>\n",
       "      <td>NaN</td>\n",
       "      <td>NaN</td>\n",
       "      <td>NaN</td>\n",
       "      <td>NaN</td>\n",
       "      <td>NaN</td>\n",
       "      <td>NaN</td>\n",
       "      <td>NaN</td>\n",
       "      <td>NaN</td>\n",
       "      <td>NaN</td>\n",
       "      <td>NaN</td>\n",
       "      <td>NaN</td>\n",
       "      <td>None</td>\n",
       "      <td>NaN</td>\n",
       "      <td>NaN</td>\n",
       "      <td>NaN</td>\n",
       "      <td>NaN</td>\n",
       "      <td>NaN</td>\n",
       "      <td>NaN</td>\n",
       "      <td>NaN</td>\n",
       "      <td>NaN</td>\n",
       "      <td>NaN</td>\n",
       "      <td>NaN</td>\n",
       "      <td>NaN</td>\n",
       "      <td>None</td>\n",
       "      <td>NaN</td>\n",
       "      <td>None</td>\n",
       "      <td>NaN</td>\n",
       "      <td>None</td>\n",
       "      <td>609.0</td>\n",
       "      <td>0.26</td>\n",
       "      <td>500.0</td>\n",
       "      <td>0.0</td>\n",
       "      <td>0.00</td>\n",
       "      <td>0.00</td>\n",
       "      <td>0.0</td>\n",
       "      <td>90.0</td>\n",
       "      <td>129.84</td>\n",
       "      <td>0</td>\n",
       "    </tr>\n",
       "    <tr>\n",
       "      <th>1</th>\n",
       "      <td>2016</td>\n",
       "      <td>2016-06-19</td>\n",
       "      <td>U.S. Open</td>\n",
       "      <td>Oakmont CC</td>\n",
       "      <td>Adam Scott</td>\n",
       "      <td>T18</td>\n",
       "      <td>18</td>\n",
       "      <td>1.0</td>\n",
       "      <td>2.062</td>\n",
       "      <td>20.0</td>\n",
       "      <td>0.522</td>\n",
       "      <td>1.0</td>\n",
       "      <td>1.491</td>\n",
       "      <td>83.0</td>\n",
       "      <td>0.049</td>\n",
       "      <td>129.0</td>\n",
       "      <td>-0.168</td>\n",
       "      <td>9.0</td>\n",
       "      <td>22.88</td>\n",
       "      <td>10.0</td>\n",
       "      <td>3.00</td>\n",
       "      <td>8.0</td>\n",
       "      <td>4.00</td>\n",
       "      <td>13.0</td>\n",
       "      <td>4.58</td>\n",
       "      <td>64.0</td>\n",
       "      <td>166.0</td>\n",
       "      <td>13.0</td>\n",
       "      <td>304.6</td>\n",
       "      <td>153.0</td>\n",
       "      <td>55.55</td>\n",
       "      <td>3.0</td>\n",
       "      <td>70.76</td>\n",
       "      <td>74.0</td>\n",
       "      <td>59.5</td>\n",
       "      <td>6.0</td>\n",
       "      <td>7.07</td>\n",
       "      <td>30.0</td>\n",
       "      <td>100.0</td>\n",
       "      <td>971.35</td>\n",
       "      <td>121.42</td>\n",
       "      <td>8.0</td>\n",
       "      <td>24.6</td>\n",
       "      <td>11.20</td>\n",
       "      <td>1</td>\n",
       "    </tr>\n",
       "    <tr>\n",
       "      <th>2</th>\n",
       "      <td>2016</td>\n",
       "      <td>2016-06-19</td>\n",
       "      <td>U.S. Open</td>\n",
       "      <td>Oakmont CC</td>\n",
       "      <td>Alex Noren</td>\n",
       "      <td>CUT</td>\n",
       "      <td>90</td>\n",
       "      <td>NaN</td>\n",
       "      <td>NaN</td>\n",
       "      <td>NaN</td>\n",
       "      <td>NaN</td>\n",
       "      <td>NaN</td>\n",
       "      <td>NaN</td>\n",
       "      <td>NaN</td>\n",
       "      <td>NaN</td>\n",
       "      <td>NaN</td>\n",
       "      <td>NaN</td>\n",
       "      <td>NaN</td>\n",
       "      <td>None</td>\n",
       "      <td>NaN</td>\n",
       "      <td>NaN</td>\n",
       "      <td>NaN</td>\n",
       "      <td>NaN</td>\n",
       "      <td>NaN</td>\n",
       "      <td>NaN</td>\n",
       "      <td>NaN</td>\n",
       "      <td>NaN</td>\n",
       "      <td>NaN</td>\n",
       "      <td>NaN</td>\n",
       "      <td>NaN</td>\n",
       "      <td>None</td>\n",
       "      <td>NaN</td>\n",
       "      <td>None</td>\n",
       "      <td>NaN</td>\n",
       "      <td>None</td>\n",
       "      <td>26.0</td>\n",
       "      <td>3.63</td>\n",
       "      <td>300.0</td>\n",
       "      <td>NaN</td>\n",
       "      <td>0.00</td>\n",
       "      <td>NaN</td>\n",
       "      <td>NaN</td>\n",
       "      <td>90.0</td>\n",
       "      <td>NaN</td>\n",
       "      <td>0</td>\n",
       "    </tr>\n",
       "    <tr>\n",
       "      <th>3</th>\n",
       "      <td>2016</td>\n",
       "      <td>2016-06-19</td>\n",
       "      <td>U.S. Open</td>\n",
       "      <td>Oakmont CC</td>\n",
       "      <td>Andres Gonzales</td>\n",
       "      <td>CUT</td>\n",
       "      <td>90</td>\n",
       "      <td>160.0</td>\n",
       "      <td>-0.469</td>\n",
       "      <td>141.0</td>\n",
       "      <td>-0.222</td>\n",
       "      <td>134.0</td>\n",
       "      <td>-0.112</td>\n",
       "      <td>151.0</td>\n",
       "      <td>-0.135</td>\n",
       "      <td>94.0</td>\n",
       "      <td>0.007</td>\n",
       "      <td>91.0</td>\n",
       "      <td>20.01</td>\n",
       "      <td>78.0</td>\n",
       "      <td>3.06</td>\n",
       "      <td>162.0</td>\n",
       "      <td>4.09</td>\n",
       "      <td>80.0</td>\n",
       "      <td>4.67</td>\n",
       "      <td>145.0</td>\n",
       "      <td>224.0</td>\n",
       "      <td>59.0</td>\n",
       "      <td>294.7</td>\n",
       "      <td>165.0</td>\n",
       "      <td>54.55</td>\n",
       "      <td>81.0</td>\n",
       "      <td>66.17</td>\n",
       "      <td>148.0</td>\n",
       "      <td>55.79</td>\n",
       "      <td>270.0</td>\n",
       "      <td>0.66</td>\n",
       "      <td>1000.0</td>\n",
       "      <td>35.3</td>\n",
       "      <td>52.80</td>\n",
       "      <td>3.11</td>\n",
       "      <td>1.0</td>\n",
       "      <td>80.2</td>\n",
       "      <td>27.75</td>\n",
       "      <td>0</td>\n",
       "    </tr>\n",
       "    <tr>\n",
       "      <th>4</th>\n",
       "      <td>2016</td>\n",
       "      <td>2016-06-19</td>\n",
       "      <td>U.S. Open</td>\n",
       "      <td>Oakmont CC</td>\n",
       "      <td>Andrew Johnston</td>\n",
       "      <td>T54</td>\n",
       "      <td>54</td>\n",
       "      <td>NaN</td>\n",
       "      <td>NaN</td>\n",
       "      <td>NaN</td>\n",
       "      <td>NaN</td>\n",
       "      <td>NaN</td>\n",
       "      <td>NaN</td>\n",
       "      <td>NaN</td>\n",
       "      <td>NaN</td>\n",
       "      <td>NaN</td>\n",
       "      <td>NaN</td>\n",
       "      <td>NaN</td>\n",
       "      <td>None</td>\n",
       "      <td>NaN</td>\n",
       "      <td>NaN</td>\n",
       "      <td>NaN</td>\n",
       "      <td>NaN</td>\n",
       "      <td>NaN</td>\n",
       "      <td>NaN</td>\n",
       "      <td>NaN</td>\n",
       "      <td>NaN</td>\n",
       "      <td>NaN</td>\n",
       "      <td>NaN</td>\n",
       "      <td>NaN</td>\n",
       "      <td>None</td>\n",
       "      <td>NaN</td>\n",
       "      <td>None</td>\n",
       "      <td>NaN</td>\n",
       "      <td>None</td>\n",
       "      <td>79.0</td>\n",
       "      <td>1.83</td>\n",
       "      <td>300.0</td>\n",
       "      <td>NaN</td>\n",
       "      <td>0.00</td>\n",
       "      <td>NaN</td>\n",
       "      <td>NaN</td>\n",
       "      <td>90.0</td>\n",
       "      <td>NaN</td>\n",
       "      <td>0</td>\n",
       "    </tr>\n",
       "  </tbody>\n",
       "</table>\n",
       "</div>"
      ],
      "text/plain": [
       "   SEASON ENDING_DATE TOURNAMENT      COURSE           PLAYER  POS  FINAL_POS  \\\n",
       "0    2016  2016-06-19  U.S. Open  Oakmont CC       Aaron Wise  CUT         90   \n",
       "1    2016  2016-06-19  U.S. Open  Oakmont CC       Adam Scott  T18         18   \n",
       "2    2016  2016-06-19  U.S. Open  Oakmont CC       Alex Noren  CUT         90   \n",
       "3    2016  2016-06-19  U.S. Open  Oakmont CC  Andres Gonzales  CUT         90   \n",
       "4    2016  2016-06-19  U.S. Open  Oakmont CC  Andrew Johnston  T54         54   \n",
       "\n",
       "   SGTTG_RANK  SGTTG  SGOTT_RANK  SGOTT  SGAPR_RANK  SGAPR  SGATG_RANK  SGATG  \\\n",
       "0         NaN    NaN         NaN    NaN         NaN    NaN         NaN    NaN   \n",
       "1         1.0  2.062        20.0  0.522         1.0  1.491        83.0  0.049   \n",
       "2         NaN    NaN         NaN    NaN         NaN    NaN         NaN    NaN   \n",
       "3       160.0 -0.469       141.0 -0.222       134.0 -0.112       151.0 -0.135   \n",
       "4         NaN    NaN         NaN    NaN         NaN    NaN         NaN    NaN   \n",
       "\n",
       "   SGP_RANK    SGP  BIRDIES_RANK BIRDIES  PAR_3_RANK  PAR_3  PAR_4_RANK  \\\n",
       "0       NaN    NaN           NaN    None         NaN    NaN         NaN   \n",
       "1     129.0 -0.168           9.0   22.88        10.0   3.00         8.0   \n",
       "2       NaN    NaN           NaN    None         NaN    NaN         NaN   \n",
       "3      94.0  0.007          91.0   20.01        78.0   3.06       162.0   \n",
       "4       NaN    NaN           NaN    None         NaN    NaN         NaN   \n",
       "\n",
       "   PAR_4  PAR_5_RANK  PAR_5  TOTAL_DRIVING_RANK  TOTAL_DRIVING  \\\n",
       "0    NaN         NaN    NaN                 NaN            NaN   \n",
       "1   4.00        13.0   4.58                64.0          166.0   \n",
       "2    NaN         NaN    NaN                 NaN            NaN   \n",
       "3   4.09        80.0   4.67               145.0          224.0   \n",
       "4    NaN         NaN    NaN                 NaN            NaN   \n",
       "\n",
       "   DRIVING_DISTANCE_RANK  DRIVING_DISTANCE  DRIVING_ACCURACY_RANK  \\\n",
       "0                    NaN               NaN                    NaN   \n",
       "1                   13.0             304.6                  153.0   \n",
       "2                    NaN               NaN                    NaN   \n",
       "3                   59.0             294.7                  165.0   \n",
       "4                    NaN               NaN                    NaN   \n",
       "\n",
       "  DRIVING_ACCURACY  GIR_RANK    GIR  SCRAMBLING_RANK SCRAMBLING  OWGR_RANK  \\\n",
       "0             None       NaN   None              NaN       None      609.0   \n",
       "1            55.55       3.0  70.76             74.0       59.5        6.0   \n",
       "2             None       NaN   None              NaN       None       26.0   \n",
       "3            54.55      81.0  66.17            148.0      55.79      270.0   \n",
       "4             None       NaN   None              NaN       None       79.0   \n",
       "\n",
       "   OWGR  VEGAS_ODDS  CUT_PERCENTAGE  FEDEX_CUP_POINTS  form_density  \\\n",
       "0  0.26       500.0             0.0              0.00          0.00   \n",
       "1  7.07        30.0           100.0            971.35        121.42   \n",
       "2  3.63       300.0             NaN              0.00           NaN   \n",
       "3  0.66      1000.0            35.3             52.80          3.11   \n",
       "4  1.83       300.0             NaN              0.00           NaN   \n",
       "\n",
       "   CONSECUTIVE_CUTS  RECENT_FORM  adj_form  TOP_20  \n",
       "0               0.0         90.0    129.84       0  \n",
       "1               8.0         24.6     11.20       1  \n",
       "2               NaN         90.0       NaN       0  \n",
       "3               1.0         80.2     27.75       0  \n",
       "4               NaN         90.0       NaN       0  "
      ]
     },
     "execution_count": 10,
     "metadata": {},
     "output_type": "execute_result"
    }
   ],
   "source": [
    "# === VEGAS ODDS ===\n",
    "training_df[\"VEGAS_ODDS\"] = training_df[\"VEGAS_ODDS\"].fillna(1000).clip(upper=1000)\n",
    "\n",
    "# === OWGR and OWGR_RANK ===\n",
    "owgr_min = training_df[\"OWGR\"].min(skipna=True)\n",
    "training_df[\"OWGR\"] = training_df[\"OWGR\"].fillna(owgr_min)\n",
    "training_df[\"OWGR_RANK\"] = training_df[\"OWGR_RANK\"].fillna(1000).astype(float).clip(upper=1000)\n",
    "\n",
    "# === RECENT FORM and adj_form ===\n",
    "training_df[\"RECENT_FORM\"] = training_df[\"RECENT_FORM\"].fillna(90)\n",
    "if \"TOTAL_EVENTS_PLAYED\" in training_df.columns:\n",
    "    training_df[\"adj_form\"] = (\n",
    "        training_df[\"RECENT_FORM\"] / np.log1p(training_df[\"TOTAL_EVENTS_PLAYED\"])\n",
    "    ).round(2)\n",
    "\n",
    "# === FEDEX CUP POINTS ===\n",
    "training_df[\"FEDEX_CUP_POINTS\"] = training_df[\"FEDEX_CUP_POINTS\"].fillna(0)\n",
    "\n",
    "training_df.head(5)\n"
   ]
  },
  {
   "cell_type": "markdown",
   "id": "f58c9b4a",
   "metadata": {},
   "source": [
    "#### Average the NaNs\n",
    "At this point, the intentional offsetting of NaNs for poor players is over.  I don't want to penalize statistics or course history because you never know where they might land on the spectrum, so for these NaN values, we will take the mean."
   ]
  },
  {
   "cell_type": "code",
   "execution_count": 11,
   "id": "1172b59c",
   "metadata": {},
   "outputs": [
    {
     "data": {
      "text/html": [
       "<div>\n",
       "<style scoped>\n",
       "    .dataframe tbody tr th:only-of-type {\n",
       "        vertical-align: middle;\n",
       "    }\n",
       "\n",
       "    .dataframe tbody tr th {\n",
       "        vertical-align: top;\n",
       "    }\n",
       "\n",
       "    .dataframe thead th {\n",
       "        text-align: right;\n",
       "    }\n",
       "</style>\n",
       "<table border=\"1\" class=\"dataframe\">\n",
       "  <thead>\n",
       "    <tr style=\"text-align: right;\">\n",
       "      <th></th>\n",
       "      <th>SEASON</th>\n",
       "      <th>ENDING_DATE</th>\n",
       "      <th>TOURNAMENT</th>\n",
       "      <th>COURSE</th>\n",
       "      <th>PLAYER</th>\n",
       "      <th>POS</th>\n",
       "      <th>FINAL_POS</th>\n",
       "      <th>SGTTG_RANK</th>\n",
       "      <th>SGTTG</th>\n",
       "      <th>SGOTT_RANK</th>\n",
       "      <th>SGOTT</th>\n",
       "      <th>SGAPR_RANK</th>\n",
       "      <th>SGAPR</th>\n",
       "      <th>SGATG_RANK</th>\n",
       "      <th>SGATG</th>\n",
       "      <th>SGP_RANK</th>\n",
       "      <th>SGP</th>\n",
       "      <th>BIRDIES_RANK</th>\n",
       "      <th>BIRDIES</th>\n",
       "      <th>PAR_3_RANK</th>\n",
       "      <th>PAR_3</th>\n",
       "      <th>PAR_4_RANK</th>\n",
       "      <th>PAR_4</th>\n",
       "      <th>PAR_5_RANK</th>\n",
       "      <th>PAR_5</th>\n",
       "      <th>TOTAL_DRIVING_RANK</th>\n",
       "      <th>TOTAL_DRIVING</th>\n",
       "      <th>DRIVING_DISTANCE_RANK</th>\n",
       "      <th>DRIVING_DISTANCE</th>\n",
       "      <th>DRIVING_ACCURACY_RANK</th>\n",
       "      <th>DRIVING_ACCURACY</th>\n",
       "      <th>GIR_RANK</th>\n",
       "      <th>GIR</th>\n",
       "      <th>SCRAMBLING_RANK</th>\n",
       "      <th>SCRAMBLING</th>\n",
       "      <th>OWGR_RANK</th>\n",
       "      <th>OWGR</th>\n",
       "      <th>VEGAS_ODDS</th>\n",
       "      <th>CUT_PERCENTAGE</th>\n",
       "      <th>FEDEX_CUP_POINTS</th>\n",
       "      <th>form_density</th>\n",
       "      <th>CONSECUTIVE_CUTS</th>\n",
       "      <th>RECENT_FORM</th>\n",
       "      <th>adj_form</th>\n",
       "      <th>TOP_20</th>\n",
       "    </tr>\n",
       "  </thead>\n",
       "  <tbody>\n",
       "    <tr>\n",
       "      <th>0</th>\n",
       "      <td>2016</td>\n",
       "      <td>2016-06-19</td>\n",
       "      <td>U.S. Open</td>\n",
       "      <td>Oakmont CC</td>\n",
       "      <td>Aaron Wise</td>\n",
       "      <td>CUT</td>\n",
       "      <td>90</td>\n",
       "      <td>67.860908</td>\n",
       "      <td>0.430742</td>\n",
       "      <td>76.81552</td>\n",
       "      <td>0.157297</td>\n",
       "      <td>74.360176</td>\n",
       "      <td>0.198589</td>\n",
       "      <td>82.578331</td>\n",
       "      <td>0.07257</td>\n",
       "      <td>85.317716</td>\n",
       "      <td>0.089129</td>\n",
       "      <td>81.556369</td>\n",
       "      <td>21.612372</td>\n",
       "      <td>82.978038</td>\n",
       "      <td>3.048946</td>\n",
       "      <td>72.011713</td>\n",
       "      <td>4.017057</td>\n",
       "      <td>78.674963</td>\n",
       "      <td>4.617262</td>\n",
       "      <td>79.136164</td>\n",
       "      <td>174.920937</td>\n",
       "      <td>81.590044</td>\n",
       "      <td>298.93675</td>\n",
       "      <td>93.330893</td>\n",
       "      <td>60.902079</td>\n",
       "      <td>92.036603</td>\n",
       "      <td>66.532211</td>\n",
       "      <td>86.197657</td>\n",
       "      <td>59.654568</td>\n",
       "      <td>609.0</td>\n",
       "      <td>0.26</td>\n",
       "      <td>500.0</td>\n",
       "      <td>0.000000</td>\n",
       "      <td>0.00</td>\n",
       "      <td>0.000000</td>\n",
       "      <td>0.00000</td>\n",
       "      <td>90.0</td>\n",
       "      <td>129.840000</td>\n",
       "      <td>0</td>\n",
       "    </tr>\n",
       "    <tr>\n",
       "      <th>1</th>\n",
       "      <td>2016</td>\n",
       "      <td>2016-06-19</td>\n",
       "      <td>U.S. Open</td>\n",
       "      <td>Oakmont CC</td>\n",
       "      <td>Adam Scott</td>\n",
       "      <td>T18</td>\n",
       "      <td>18</td>\n",
       "      <td>1.000000</td>\n",
       "      <td>2.062000</td>\n",
       "      <td>20.00000</td>\n",
       "      <td>0.522000</td>\n",
       "      <td>1.000000</td>\n",
       "      <td>1.491000</td>\n",
       "      <td>83.000000</td>\n",
       "      <td>0.04900</td>\n",
       "      <td>129.000000</td>\n",
       "      <td>-0.168000</td>\n",
       "      <td>9.000000</td>\n",
       "      <td>22.880000</td>\n",
       "      <td>10.000000</td>\n",
       "      <td>3.000000</td>\n",
       "      <td>8.000000</td>\n",
       "      <td>4.000000</td>\n",
       "      <td>13.000000</td>\n",
       "      <td>4.580000</td>\n",
       "      <td>64.000000</td>\n",
       "      <td>166.000000</td>\n",
       "      <td>13.000000</td>\n",
       "      <td>304.60000</td>\n",
       "      <td>153.000000</td>\n",
       "      <td>55.550000</td>\n",
       "      <td>3.000000</td>\n",
       "      <td>70.760000</td>\n",
       "      <td>74.000000</td>\n",
       "      <td>59.500000</td>\n",
       "      <td>6.0</td>\n",
       "      <td>7.07</td>\n",
       "      <td>30.0</td>\n",
       "      <td>100.000000</td>\n",
       "      <td>971.35</td>\n",
       "      <td>121.420000</td>\n",
       "      <td>8.00000</td>\n",
       "      <td>24.6</td>\n",
       "      <td>11.200000</td>\n",
       "      <td>1</td>\n",
       "    </tr>\n",
       "    <tr>\n",
       "      <th>2</th>\n",
       "      <td>2016</td>\n",
       "      <td>2016-06-19</td>\n",
       "      <td>U.S. Open</td>\n",
       "      <td>Oakmont CC</td>\n",
       "      <td>Alex Noren</td>\n",
       "      <td>CUT</td>\n",
       "      <td>90</td>\n",
       "      <td>67.860908</td>\n",
       "      <td>0.430742</td>\n",
       "      <td>76.81552</td>\n",
       "      <td>0.157297</td>\n",
       "      <td>74.360176</td>\n",
       "      <td>0.198589</td>\n",
       "      <td>82.578331</td>\n",
       "      <td>0.07257</td>\n",
       "      <td>85.317716</td>\n",
       "      <td>0.089129</td>\n",
       "      <td>81.556369</td>\n",
       "      <td>21.612372</td>\n",
       "      <td>82.978038</td>\n",
       "      <td>3.048946</td>\n",
       "      <td>72.011713</td>\n",
       "      <td>4.017057</td>\n",
       "      <td>78.674963</td>\n",
       "      <td>4.617262</td>\n",
       "      <td>79.136164</td>\n",
       "      <td>174.920937</td>\n",
       "      <td>81.590044</td>\n",
       "      <td>298.93675</td>\n",
       "      <td>93.330893</td>\n",
       "      <td>60.902079</td>\n",
       "      <td>92.036603</td>\n",
       "      <td>66.532211</td>\n",
       "      <td>86.197657</td>\n",
       "      <td>59.654568</td>\n",
       "      <td>26.0</td>\n",
       "      <td>3.63</td>\n",
       "      <td>300.0</td>\n",
       "      <td>63.657928</td>\n",
       "      <td>0.00</td>\n",
       "      <td>36.402495</td>\n",
       "      <td>2.17019</td>\n",
       "      <td>90.0</td>\n",
       "      <td>30.475021</td>\n",
       "      <td>0</td>\n",
       "    </tr>\n",
       "    <tr>\n",
       "      <th>3</th>\n",
       "      <td>2016</td>\n",
       "      <td>2016-06-19</td>\n",
       "      <td>U.S. Open</td>\n",
       "      <td>Oakmont CC</td>\n",
       "      <td>Andres Gonzales</td>\n",
       "      <td>CUT</td>\n",
       "      <td>90</td>\n",
       "      <td>160.000000</td>\n",
       "      <td>-0.469000</td>\n",
       "      <td>141.00000</td>\n",
       "      <td>-0.222000</td>\n",
       "      <td>134.000000</td>\n",
       "      <td>-0.112000</td>\n",
       "      <td>151.000000</td>\n",
       "      <td>-0.13500</td>\n",
       "      <td>94.000000</td>\n",
       "      <td>0.007000</td>\n",
       "      <td>91.000000</td>\n",
       "      <td>20.010000</td>\n",
       "      <td>78.000000</td>\n",
       "      <td>3.060000</td>\n",
       "      <td>162.000000</td>\n",
       "      <td>4.090000</td>\n",
       "      <td>80.000000</td>\n",
       "      <td>4.670000</td>\n",
       "      <td>145.000000</td>\n",
       "      <td>224.000000</td>\n",
       "      <td>59.000000</td>\n",
       "      <td>294.70000</td>\n",
       "      <td>165.000000</td>\n",
       "      <td>54.550000</td>\n",
       "      <td>81.000000</td>\n",
       "      <td>66.170000</td>\n",
       "      <td>148.000000</td>\n",
       "      <td>55.790000</td>\n",
       "      <td>270.0</td>\n",
       "      <td>0.66</td>\n",
       "      <td>1000.0</td>\n",
       "      <td>35.300000</td>\n",
       "      <td>52.80</td>\n",
       "      <td>3.110000</td>\n",
       "      <td>1.00000</td>\n",
       "      <td>80.2</td>\n",
       "      <td>27.750000</td>\n",
       "      <td>0</td>\n",
       "    </tr>\n",
       "    <tr>\n",
       "      <th>4</th>\n",
       "      <td>2016</td>\n",
       "      <td>2016-06-19</td>\n",
       "      <td>U.S. Open</td>\n",
       "      <td>Oakmont CC</td>\n",
       "      <td>Andrew Johnston</td>\n",
       "      <td>T54</td>\n",
       "      <td>54</td>\n",
       "      <td>67.860908</td>\n",
       "      <td>0.430742</td>\n",
       "      <td>76.81552</td>\n",
       "      <td>0.157297</td>\n",
       "      <td>74.360176</td>\n",
       "      <td>0.198589</td>\n",
       "      <td>82.578331</td>\n",
       "      <td>0.07257</td>\n",
       "      <td>85.317716</td>\n",
       "      <td>0.089129</td>\n",
       "      <td>81.556369</td>\n",
       "      <td>21.612372</td>\n",
       "      <td>82.978038</td>\n",
       "      <td>3.048946</td>\n",
       "      <td>72.011713</td>\n",
       "      <td>4.017057</td>\n",
       "      <td>78.674963</td>\n",
       "      <td>4.617262</td>\n",
       "      <td>79.136164</td>\n",
       "      <td>174.920937</td>\n",
       "      <td>81.590044</td>\n",
       "      <td>298.93675</td>\n",
       "      <td>93.330893</td>\n",
       "      <td>60.902079</td>\n",
       "      <td>92.036603</td>\n",
       "      <td>66.532211</td>\n",
       "      <td>86.197657</td>\n",
       "      <td>59.654568</td>\n",
       "      <td>79.0</td>\n",
       "      <td>1.83</td>\n",
       "      <td>300.0</td>\n",
       "      <td>63.657928</td>\n",
       "      <td>0.00</td>\n",
       "      <td>36.402495</td>\n",
       "      <td>2.17019</td>\n",
       "      <td>90.0</td>\n",
       "      <td>30.475021</td>\n",
       "      <td>0</td>\n",
       "    </tr>\n",
       "  </tbody>\n",
       "</table>\n",
       "</div>"
      ],
      "text/plain": [
       "   SEASON ENDING_DATE TOURNAMENT      COURSE           PLAYER  POS  FINAL_POS  \\\n",
       "0    2016  2016-06-19  U.S. Open  Oakmont CC       Aaron Wise  CUT         90   \n",
       "1    2016  2016-06-19  U.S. Open  Oakmont CC       Adam Scott  T18         18   \n",
       "2    2016  2016-06-19  U.S. Open  Oakmont CC       Alex Noren  CUT         90   \n",
       "3    2016  2016-06-19  U.S. Open  Oakmont CC  Andres Gonzales  CUT         90   \n",
       "4    2016  2016-06-19  U.S. Open  Oakmont CC  Andrew Johnston  T54         54   \n",
       "\n",
       "   SGTTG_RANK     SGTTG  SGOTT_RANK     SGOTT  SGAPR_RANK     SGAPR  \\\n",
       "0   67.860908  0.430742    76.81552  0.157297   74.360176  0.198589   \n",
       "1    1.000000  2.062000    20.00000  0.522000    1.000000  1.491000   \n",
       "2   67.860908  0.430742    76.81552  0.157297   74.360176  0.198589   \n",
       "3  160.000000 -0.469000   141.00000 -0.222000  134.000000 -0.112000   \n",
       "4   67.860908  0.430742    76.81552  0.157297   74.360176  0.198589   \n",
       "\n",
       "   SGATG_RANK    SGATG    SGP_RANK       SGP  BIRDIES_RANK    BIRDIES  \\\n",
       "0   82.578331  0.07257   85.317716  0.089129     81.556369  21.612372   \n",
       "1   83.000000  0.04900  129.000000 -0.168000      9.000000  22.880000   \n",
       "2   82.578331  0.07257   85.317716  0.089129     81.556369  21.612372   \n",
       "3  151.000000 -0.13500   94.000000  0.007000     91.000000  20.010000   \n",
       "4   82.578331  0.07257   85.317716  0.089129     81.556369  21.612372   \n",
       "\n",
       "   PAR_3_RANK     PAR_3  PAR_4_RANK     PAR_4  PAR_5_RANK     PAR_5  \\\n",
       "0   82.978038  3.048946   72.011713  4.017057   78.674963  4.617262   \n",
       "1   10.000000  3.000000    8.000000  4.000000   13.000000  4.580000   \n",
       "2   82.978038  3.048946   72.011713  4.017057   78.674963  4.617262   \n",
       "3   78.000000  3.060000  162.000000  4.090000   80.000000  4.670000   \n",
       "4   82.978038  3.048946   72.011713  4.017057   78.674963  4.617262   \n",
       "\n",
       "   TOTAL_DRIVING_RANK  TOTAL_DRIVING  DRIVING_DISTANCE_RANK  DRIVING_DISTANCE  \\\n",
       "0           79.136164     174.920937              81.590044         298.93675   \n",
       "1           64.000000     166.000000              13.000000         304.60000   \n",
       "2           79.136164     174.920937              81.590044         298.93675   \n",
       "3          145.000000     224.000000              59.000000         294.70000   \n",
       "4           79.136164     174.920937              81.590044         298.93675   \n",
       "\n",
       "   DRIVING_ACCURACY_RANK  DRIVING_ACCURACY   GIR_RANK        GIR  \\\n",
       "0              93.330893         60.902079  92.036603  66.532211   \n",
       "1             153.000000         55.550000   3.000000  70.760000   \n",
       "2              93.330893         60.902079  92.036603  66.532211   \n",
       "3             165.000000         54.550000  81.000000  66.170000   \n",
       "4              93.330893         60.902079  92.036603  66.532211   \n",
       "\n",
       "   SCRAMBLING_RANK  SCRAMBLING  OWGR_RANK  OWGR  VEGAS_ODDS  CUT_PERCENTAGE  \\\n",
       "0        86.197657   59.654568      609.0  0.26       500.0        0.000000   \n",
       "1        74.000000   59.500000        6.0  7.07        30.0      100.000000   \n",
       "2        86.197657   59.654568       26.0  3.63       300.0       63.657928   \n",
       "3       148.000000   55.790000      270.0  0.66      1000.0       35.300000   \n",
       "4        86.197657   59.654568       79.0  1.83       300.0       63.657928   \n",
       "\n",
       "   FEDEX_CUP_POINTS  form_density  CONSECUTIVE_CUTS  RECENT_FORM    adj_form  \\\n",
       "0              0.00      0.000000           0.00000         90.0  129.840000   \n",
       "1            971.35    121.420000           8.00000         24.6   11.200000   \n",
       "2              0.00     36.402495           2.17019         90.0   30.475021   \n",
       "3             52.80      3.110000           1.00000         80.2   27.750000   \n",
       "4              0.00     36.402495           2.17019         90.0   30.475021   \n",
       "\n",
       "   TOP_20  \n",
       "0       0  \n",
       "1       1  \n",
       "2       0  \n",
       "3       0  \n",
       "4       0  "
      ]
     },
     "execution_count": 11,
     "metadata": {},
     "output_type": "execute_result"
    }
   ],
   "source": [
    "# === Clean percentage stats stored as strings like '62.5%' ===\n",
    "percent_stats = [\"SCRAMBLING\", \"DRIVING_ACCURACY\", \"BIRDIES\", \"GIR\"]\n",
    "\n",
    "for col in percent_stats:\n",
    "    if col in training_df.columns:\n",
    "        training_df[col] = (\n",
    "            training_df[col]\n",
    "            .astype(str)\n",
    "            .str.replace('%', '', regex=False)\n",
    "            .replace(['None', 'nan', 'NaN', '--', 'DNP', ''], np.nan)\n",
    "            .astype(float)\n",
    "        )\n",
    "\n",
    "# Select only the numeric columns\n",
    "numeric_columns = training_df.select_dtypes(include=['float64', 'int64'])\n",
    "\n",
    "# Fill NaN values with the mean of each column\n",
    "numeric_columns = numeric_columns.fillna(numeric_columns.mean())\n",
    "\n",
    "# Update the original dataframe with the filled numeric columns\n",
    "training_df.update(numeric_columns)\n",
    "\n",
    "training_df.head()"
   ]
  },
  {
   "cell_type": "code",
   "execution_count": 12,
   "id": "bb294b3c",
   "metadata": {},
   "outputs": [],
   "source": [
    "# Check for NaN values\n",
    "assert training_df.isna().sum().sum() == 0, \"🚨 Still missing values!\""
   ]
  },
  {
   "cell_type": "code",
   "execution_count": 13,
   "id": "5d68c5dc",
   "metadata": {},
   "outputs": [
    {
     "data": {
      "text/plain": [
       "SEASON         0\n",
       "ENDING_DATE    0\n",
       "TOURNAMENT     0\n",
       "COURSE         0\n",
       "PLAYER         0\n",
       "POS            0\n",
       "FINAL_POS      0\n",
       "SGTTG_RANK     0\n",
       "SGTTG          0\n",
       "SGOTT_RANK     0\n",
       "dtype: int64"
      ]
     },
     "execution_count": 13,
     "metadata": {},
     "output_type": "execute_result"
    }
   ],
   "source": [
    "# Inspect which columns have NaN values\n",
    "training_df.isna().sum().sort_values(ascending=False).head(10)\n"
   ]
  },
  {
   "cell_type": "markdown",
   "id": "1214b374",
   "metadata": {},
   "source": [
    "### Check Features for Outliers and General Health (Histograms)\n",
    "Now that all the data is cleaned, let's look at the distribution graphs."
   ]
  },
  {
   "cell_type": "code",
   "execution_count": null,
   "id": "c3ac2331",
   "metadata": {},
   "outputs": [],
   "source": [
    "import plotly.express as px\n",
    "import plotly.subplots as sp\n",
    "import plotly.graph_objects as go\n",
    "import pandas as pd\n",
    "import numpy as np\n",
    "\n",
    "# Select numeric columns with >1 unique value, excluding label\n",
    "df_numeric = training_df.select_dtypes(include=np.number)\n",
    "df_numeric = df_numeric.loc[:, df_numeric.nunique() > 1]\n",
    "df_numeric = df_numeric.drop(columns=[\"TOP_20\"], errors=\"ignore\")\n",
    "\n",
    "# Create subplots\n",
    "n_cols = 3\n",
    "n_rows = int(np.ceil(len(df_numeric.columns) / n_cols))\n",
    "fig = sp.make_subplots(rows=n_rows, cols=n_cols, subplot_titles=df_numeric.columns)\n",
    "\n",
    "# Add one histogram per feature with smart binning\n",
    "for i, column in enumerate(df_numeric.columns):\n",
    "    row = i // n_cols + 1\n",
    "    col = i % n_cols + 1\n",
    "\n",
    "    # Compute dynamic bin count\n",
    "    col_range = df_numeric[column].max() - df_numeric[column].min()\n",
    "    n_unique = df_numeric[column].nunique()\n",
    "    nbins = min(50, max(5, int(n_unique / 2))) if col_range < 10 else 50  # tighter for short-range\n",
    "\n",
    "    fig.add_trace(\n",
    "        go.Histogram(\n",
    "            x=df_numeric[column],\n",
    "            nbinsx=nbins,\n",
    "            histnorm=\"density\",\n",
    "            marker=dict(color=\"#636EFA\"),\n",
    "            opacity=0.8\n",
    "        ),\n",
    "        row=row,\n",
    "        col=col\n",
    "    )\n",
    "\n",
    "# Style the figure\n",
    "fig.update_layout(\n",
    "    height=300 * n_rows,\n",
    "    width=1000,\n",
    "    title_text=\"Feature Distributions (with Adaptive Binning)\",\n",
    "    template=\"plotly_dark\",\n",
    "    showlegend=False\n",
    ")\n",
    "\n",
    "fig.show()"
   ]
  },
  {
   "cell_type": "markdown",
   "id": "7dd53f87",
   "metadata": {},
   "source": [
    "# Current Week Data"
   ]
  },
  {
   "cell_type": "markdown",
   "id": "fbd0a012",
   "metadata": {},
   "source": [
    "## Import 2025 Field\n",
    "**Important!**  Save curren't week's `DKSalaries.csv` into Data folder before this step."
   ]
  },
  {
   "cell_type": "code",
   "execution_count": 35,
   "id": "f17875f6",
   "metadata": {},
   "outputs": [
    {
     "data": {
      "text/html": [
       "<div>\n",
       "<style scoped>\n",
       "    .dataframe tbody tr th:only-of-type {\n",
       "        vertical-align: middle;\n",
       "    }\n",
       "\n",
       "    .dataframe tbody tr th {\n",
       "        vertical-align: top;\n",
       "    }\n",
       "\n",
       "    .dataframe thead th {\n",
       "        text-align: right;\n",
       "    }\n",
       "</style>\n",
       "<table border=\"1\" class=\"dataframe\">\n",
       "  <thead>\n",
       "    <tr style=\"text-align: right;\">\n",
       "      <th></th>\n",
       "      <th>PLAYER</th>\n",
       "      <th>SALARY</th>\n",
       "    </tr>\n",
       "  </thead>\n",
       "  <tbody>\n",
       "    <tr>\n",
       "      <th>0</th>\n",
       "      <td>Scottie Scheffler</td>\n",
       "      <td>14400</td>\n",
       "    </tr>\n",
       "    <tr>\n",
       "      <th>1</th>\n",
       "      <td>Rory McIlroy</td>\n",
       "      <td>12400</td>\n",
       "    </tr>\n",
       "    <tr>\n",
       "      <th>2</th>\n",
       "      <td>Bryson DeChambeau</td>\n",
       "      <td>11000</td>\n",
       "    </tr>\n",
       "    <tr>\n",
       "      <th>3</th>\n",
       "      <td>Xander Schauffele</td>\n",
       "      <td>10400</td>\n",
       "    </tr>\n",
       "    <tr>\n",
       "      <th>4</th>\n",
       "      <td>Jon Rahm</td>\n",
       "      <td>10200</td>\n",
       "    </tr>\n",
       "    <tr>\n",
       "      <th>5</th>\n",
       "      <td>Collin Morikawa</td>\n",
       "      <td>9800</td>\n",
       "    </tr>\n",
       "    <tr>\n",
       "      <th>6</th>\n",
       "      <td>Ludvig Aberg</td>\n",
       "      <td>9600</td>\n",
       "    </tr>\n",
       "    <tr>\n",
       "      <th>7</th>\n",
       "      <td>Patrick Cantlay</td>\n",
       "      <td>9300</td>\n",
       "    </tr>\n",
       "    <tr>\n",
       "      <th>8</th>\n",
       "      <td>Justin Thomas</td>\n",
       "      <td>9000</td>\n",
       "    </tr>\n",
       "    <tr>\n",
       "      <th>9</th>\n",
       "      <td>Tommy Fleetwood</td>\n",
       "      <td>8800</td>\n",
       "    </tr>\n",
       "  </tbody>\n",
       "</table>\n",
       "</div>"
      ],
      "text/plain": [
       "              PLAYER  SALARY\n",
       "0  Scottie Scheffler   14400\n",
       "1       Rory McIlroy   12400\n",
       "2  Bryson DeChambeau   11000\n",
       "3  Xander Schauffele   10400\n",
       "4           Jon Rahm   10200\n",
       "5    Collin Morikawa    9800\n",
       "6       Ludvig Aberg    9600\n",
       "7    Patrick Cantlay    9300\n",
       "8      Justin Thomas    9000\n",
       "9    Tommy Fleetwood    8800"
      ]
     },
     "execution_count": 35,
     "metadata": {},
     "output_type": "execute_result"
    }
   ],
   "source": [
    "importlib.reload(utils.db_utils)\n",
    "from utils.db_utils import DK_PLAYER_NAME_MAP\n",
    "\n",
    "# Load DraftKings player list\n",
    "dk = pd.read_csv(\"data/DKSalaries.csv\", usecols=[\"Name\", \"Salary\"])\n",
    "\n",
    "# Normalize DK names to PGA naming convention\n",
    "dk[\"Name\"] = dk[\"Name\"].replace(DK_PLAYER_NAME_MAP)\n",
    "\n",
    "# Rename for consistency\n",
    "dk = dk.rename(columns={\"Name\": \"PLAYER\", \"Salary\": \"SALARY\"})\n",
    "\n",
    "dk.head(10)"
   ]
  },
  {
   "cell_type": "markdown",
   "id": "544d958c",
   "metadata": {},
   "source": [
    "## Vegas Odds\n",
    "Confirm the [Vegas Odds](http://golfodds.com/weekly-odds.html) page is updated with current tournament.\n",
    "\n",
    "Note: sometimes this site can give errors and not load correctly.  Just have to do it again later.\n",
    "Another trick to try is change the url try to run it and then put the url back the way it was.  Worked once, maybe random coincidence."
   ]
  },
  {
   "cell_type": "code",
   "execution_count": 36,
   "id": "a3cba953",
   "metadata": {},
   "outputs": [
    {
     "data": {
      "text/html": [
       "<div>\n",
       "<style scoped>\n",
       "    .dataframe tbody tr th:only-of-type {\n",
       "        vertical-align: middle;\n",
       "    }\n",
       "\n",
       "    .dataframe tbody tr th {\n",
       "        vertical-align: top;\n",
       "    }\n",
       "\n",
       "    .dataframe thead th {\n",
       "        text-align: right;\n",
       "    }\n",
       "</style>\n",
       "<table border=\"1\" class=\"dataframe\">\n",
       "  <thead>\n",
       "    <tr style=\"text-align: right;\">\n",
       "      <th></th>\n",
       "      <th>SEASON</th>\n",
       "      <th>TOURNAMENT</th>\n",
       "      <th>PLAYER</th>\n",
       "      <th>ODDS</th>\n",
       "      <th>VEGAS_ODDS</th>\n",
       "    </tr>\n",
       "  </thead>\n",
       "  <tbody>\n",
       "    <tr>\n",
       "      <th>1</th>\n",
       "      <td>2025</td>\n",
       "      <td>U.S. Open</td>\n",
       "      <td>Scottie Scheffler</td>\n",
       "      <td>11/4</td>\n",
       "      <td>2.75</td>\n",
       "    </tr>\n",
       "    <tr>\n",
       "      <th>2</th>\n",
       "      <td>2025</td>\n",
       "      <td>U.S. Open</td>\n",
       "      <td>Rory McIlroy</td>\n",
       "      <td>14/1</td>\n",
       "      <td>14.00</td>\n",
       "    </tr>\n",
       "    <tr>\n",
       "      <th>3</th>\n",
       "      <td>2025</td>\n",
       "      <td>U.S. Open</td>\n",
       "      <td>Xander Schauffele</td>\n",
       "      <td>20/1</td>\n",
       "      <td>20.00</td>\n",
       "    </tr>\n",
       "    <tr>\n",
       "      <th>4</th>\n",
       "      <td>2025</td>\n",
       "      <td>U.S. Open</td>\n",
       "      <td>Jon Rahm</td>\n",
       "      <td>12/1</td>\n",
       "      <td>12.00</td>\n",
       "    </tr>\n",
       "    <tr>\n",
       "      <th>5</th>\n",
       "      <td>2025</td>\n",
       "      <td>U.S. Open</td>\n",
       "      <td>Bryson DeChambeau</td>\n",
       "      <td>7/1</td>\n",
       "      <td>7.00</td>\n",
       "    </tr>\n",
       "    <tr>\n",
       "      <th>6</th>\n",
       "      <td>2025</td>\n",
       "      <td>U.S. Open</td>\n",
       "      <td>Ludvig Aberg</td>\n",
       "      <td>25/1</td>\n",
       "      <td>25.00</td>\n",
       "    </tr>\n",
       "    <tr>\n",
       "      <th>7</th>\n",
       "      <td>2025</td>\n",
       "      <td>U.S. Open</td>\n",
       "      <td>Collin Morikawa</td>\n",
       "      <td>25/1</td>\n",
       "      <td>25.00</td>\n",
       "    </tr>\n",
       "    <tr>\n",
       "      <th>8</th>\n",
       "      <td>2025</td>\n",
       "      <td>U.S. Open</td>\n",
       "      <td>Viktor Hovland</td>\n",
       "      <td>60/1</td>\n",
       "      <td>60.00</td>\n",
       "    </tr>\n",
       "    <tr>\n",
       "      <th>9</th>\n",
       "      <td>2025</td>\n",
       "      <td>U.S. Open</td>\n",
       "      <td>Brooks Koepka</td>\n",
       "      <td>80/1</td>\n",
       "      <td>80.00</td>\n",
       "    </tr>\n",
       "    <tr>\n",
       "      <th>10</th>\n",
       "      <td>2025</td>\n",
       "      <td>U.S. Open</td>\n",
       "      <td>Justin Thomas</td>\n",
       "      <td>40/1</td>\n",
       "      <td>40.00</td>\n",
       "    </tr>\n",
       "  </tbody>\n",
       "</table>\n",
       "</div>"
      ],
      "text/plain": [
       "    SEASON TOURNAMENT             PLAYER  ODDS  VEGAS_ODDS\n",
       "1     2025  U.S. Open  Scottie Scheffler  11/4        2.75\n",
       "2     2025  U.S. Open       Rory McIlroy  14/1       14.00\n",
       "3     2025  U.S. Open  Xander Schauffele  20/1       20.00\n",
       "4     2025  U.S. Open           Jon Rahm  12/1       12.00\n",
       "5     2025  U.S. Open  Bryson DeChambeau   7/1        7.00\n",
       "6     2025  U.S. Open       Ludvig Aberg  25/1       25.00\n",
       "7     2025  U.S. Open    Collin Morikawa  25/1       25.00\n",
       "8     2025  U.S. Open     Viktor Hovland  60/1       60.00\n",
       "9     2025  U.S. Open      Brooks Koepka  80/1       80.00\n",
       "10    2025  U.S. Open      Justin Thomas  40/1       40.00"
      ]
     },
     "execution_count": 36,
     "metadata": {},
     "output_type": "execute_result"
    }
   ],
   "source": [
    "importlib.reload(utils.db_utils)\n",
    "from utils.db_utils import get_current_week_odds\n",
    "\n",
    "odds_current = get_current_week_odds(season=2025, tournament_name=new_tournament_name)\n",
    "odds_current.head(10)\n"
   ]
  },
  {
   "cell_type": "markdown",
   "id": "f58bb5d0",
   "metadata": {},
   "source": [
    "## Cut Percentage and FedEx Points"
   ]
  },
  {
   "cell_type": "code",
   "execution_count": 37,
   "id": "a927b0b2",
   "metadata": {},
   "outputs": [
    {
     "data": {
      "text/html": [
       "<div>\n",
       "<style scoped>\n",
       "    .dataframe tbody tr th:only-of-type {\n",
       "        vertical-align: middle;\n",
       "    }\n",
       "\n",
       "    .dataframe tbody tr th {\n",
       "        vertical-align: top;\n",
       "    }\n",
       "\n",
       "    .dataframe thead th {\n",
       "        text-align: right;\n",
       "    }\n",
       "</style>\n",
       "<table border=\"1\" class=\"dataframe\">\n",
       "  <thead>\n",
       "    <tr style=\"text-align: right;\">\n",
       "      <th></th>\n",
       "      <th>PLAYER</th>\n",
       "      <th>TOTAL_EVENTS_PLAYED</th>\n",
       "      <th>CUTS_MADE</th>\n",
       "      <th>FEDEX_CUP_POINTS</th>\n",
       "      <th>CUT_PERCENTAGE</th>\n",
       "      <th>form_density</th>\n",
       "      <th>CONSECUTIVE_CUTS</th>\n",
       "      <th>ENDING_DATE</th>\n",
       "      <th>TOURNAMENT</th>\n",
       "    </tr>\n",
       "  </thead>\n",
       "  <tbody>\n",
       "    <tr>\n",
       "      <th>0</th>\n",
       "      <td>A.J. Ewart</td>\n",
       "      <td>1</td>\n",
       "      <td>0</td>\n",
       "      <td>0.000</td>\n",
       "      <td>0.0</td>\n",
       "      <td>0.00</td>\n",
       "      <td>0</td>\n",
       "      <td>2025-06-15</td>\n",
       "      <td>U.S. Open</td>\n",
       "    </tr>\n",
       "    <tr>\n",
       "      <th>1</th>\n",
       "      <td>Aaron Baddeley</td>\n",
       "      <td>16</td>\n",
       "      <td>7</td>\n",
       "      <td>55.951</td>\n",
       "      <td>43.8</td>\n",
       "      <td>3.50</td>\n",
       "      <td>0</td>\n",
       "      <td>2025-06-15</td>\n",
       "      <td>U.S. Open</td>\n",
       "    </tr>\n",
       "    <tr>\n",
       "      <th>2</th>\n",
       "      <td>Aaron Rai</td>\n",
       "      <td>15</td>\n",
       "      <td>11</td>\n",
       "      <td>577.480</td>\n",
       "      <td>73.3</td>\n",
       "      <td>38.50</td>\n",
       "      <td>0</td>\n",
       "      <td>2025-06-15</td>\n",
       "      <td>U.S. Open</td>\n",
       "    </tr>\n",
       "    <tr>\n",
       "      <th>3</th>\n",
       "      <td>Aaron Wise</td>\n",
       "      <td>1</td>\n",
       "      <td>0</td>\n",
       "      <td>0.000</td>\n",
       "      <td>0.0</td>\n",
       "      <td>0.00</td>\n",
       "      <td>0</td>\n",
       "      <td>2025-06-15</td>\n",
       "      <td>U.S. Open</td>\n",
       "    </tr>\n",
       "    <tr>\n",
       "      <th>4</th>\n",
       "      <td>Adam Hadwin</td>\n",
       "      <td>17</td>\n",
       "      <td>11</td>\n",
       "      <td>203.569</td>\n",
       "      <td>64.7</td>\n",
       "      <td>11.97</td>\n",
       "      <td>2</td>\n",
       "      <td>2025-06-15</td>\n",
       "      <td>U.S. Open</td>\n",
       "    </tr>\n",
       "    <tr>\n",
       "      <th>5</th>\n",
       "      <td>Adam Long</td>\n",
       "      <td>1</td>\n",
       "      <td>0</td>\n",
       "      <td>0.000</td>\n",
       "      <td>0.0</td>\n",
       "      <td>0.00</td>\n",
       "      <td>0</td>\n",
       "      <td>2025-06-15</td>\n",
       "      <td>U.S. Open</td>\n",
       "    </tr>\n",
       "    <tr>\n",
       "      <th>6</th>\n",
       "      <td>Adam Schenk</td>\n",
       "      <td>19</td>\n",
       "      <td>8</td>\n",
       "      <td>257.854</td>\n",
       "      <td>42.1</td>\n",
       "      <td>13.57</td>\n",
       "      <td>1</td>\n",
       "      <td>2025-06-15</td>\n",
       "      <td>U.S. Open</td>\n",
       "    </tr>\n",
       "    <tr>\n",
       "      <th>7</th>\n",
       "      <td>Adam Scott</td>\n",
       "      <td>11</td>\n",
       "      <td>9</td>\n",
       "      <td>264.810</td>\n",
       "      <td>81.8</td>\n",
       "      <td>24.07</td>\n",
       "      <td>4</td>\n",
       "      <td>2025-06-15</td>\n",
       "      <td>U.S. Open</td>\n",
       "    </tr>\n",
       "    <tr>\n",
       "      <th>8</th>\n",
       "      <td>Adam Svensson</td>\n",
       "      <td>20</td>\n",
       "      <td>11</td>\n",
       "      <td>173.158</td>\n",
       "      <td>55.0</td>\n",
       "      <td>8.66</td>\n",
       "      <td>0</td>\n",
       "      <td>2025-06-15</td>\n",
       "      <td>U.S. Open</td>\n",
       "    </tr>\n",
       "    <tr>\n",
       "      <th>9</th>\n",
       "      <td>Adrien Dumont de Chassart</td>\n",
       "      <td>8</td>\n",
       "      <td>3</td>\n",
       "      <td>200.500</td>\n",
       "      <td>37.5</td>\n",
       "      <td>25.06</td>\n",
       "      <td>0</td>\n",
       "      <td>2025-06-15</td>\n",
       "      <td>U.S. Open</td>\n",
       "    </tr>\n",
       "  </tbody>\n",
       "</table>\n",
       "</div>"
      ],
      "text/plain": [
       "                      PLAYER  TOTAL_EVENTS_PLAYED  CUTS_MADE  \\\n",
       "0                 A.J. Ewart                    1          0   \n",
       "1             Aaron Baddeley                   16          7   \n",
       "2                  Aaron Rai                   15         11   \n",
       "3                 Aaron Wise                    1          0   \n",
       "4                Adam Hadwin                   17         11   \n",
       "5                  Adam Long                    1          0   \n",
       "6                Adam Schenk                   19          8   \n",
       "7                 Adam Scott                   11          9   \n",
       "8              Adam Svensson                   20         11   \n",
       "9  Adrien Dumont de Chassart                    8          3   \n",
       "\n",
       "   FEDEX_CUP_POINTS  CUT_PERCENTAGE  form_density  CONSECUTIVE_CUTS  \\\n",
       "0             0.000             0.0          0.00                 0   \n",
       "1            55.951            43.8          3.50                 0   \n",
       "2           577.480            73.3         38.50                 0   \n",
       "3             0.000             0.0          0.00                 0   \n",
       "4           203.569            64.7         11.97                 2   \n",
       "5             0.000             0.0          0.00                 0   \n",
       "6           257.854            42.1         13.57                 1   \n",
       "7           264.810            81.8         24.07                 4   \n",
       "8           173.158            55.0          8.66                 0   \n",
       "9           200.500            37.5         25.06                 0   \n",
       "\n",
       "  ENDING_DATE TOURNAMENT  \n",
       "0  2025-06-15  U.S. Open  \n",
       "1  2025-06-15  U.S. Open  \n",
       "2  2025-06-15  U.S. Open  \n",
       "3  2025-06-15  U.S. Open  \n",
       "4  2025-06-15  U.S. Open  \n",
       "5  2025-06-15  U.S. Open  \n",
       "6  2025-06-15  U.S. Open  \n",
       "7  2025-06-15  U.S. Open  \n",
       "8  2025-06-15  U.S. Open  \n",
       "9  2025-06-15  U.S. Open  "
      ]
     },
     "execution_count": 37,
     "metadata": {},
     "output_type": "execute_result"
    }
   ],
   "source": [
    "importlib.reload(utils.db_utils)\n",
    "from utils.db_utils import get_cut_and_fedex_history\n",
    "\n",
    "cuts_rolling = get_cut_and_fedex_history(db_path, this_week_history, window_months=9)\n",
    "cuts_current = cuts_rolling[this_week_key].copy()\n",
    "cuts_current.head(10)"
   ]
  },
  {
   "cell_type": "markdown",
   "id": "abdf22cb",
   "metadata": {},
   "source": [
    "## Recent Form"
   ]
  },
  {
   "cell_type": "code",
   "execution_count": 38,
   "id": "58cfb255",
   "metadata": {},
   "outputs": [
    {
     "data": {
      "text/html": [
       "<div>\n",
       "<style scoped>\n",
       "    .dataframe tbody tr th:only-of-type {\n",
       "        vertical-align: middle;\n",
       "    }\n",
       "\n",
       "    .dataframe tbody tr th {\n",
       "        vertical-align: top;\n",
       "    }\n",
       "\n",
       "    .dataframe thead th {\n",
       "        text-align: right;\n",
       "    }\n",
       "</style>\n",
       "<table border=\"1\" class=\"dataframe\">\n",
       "  <thead>\n",
       "    <tr style=\"text-align: right;\">\n",
       "      <th></th>\n",
       "      <th>PLAYER</th>\n",
       "      <th>TOTAL_EVENTS_PLAYED</th>\n",
       "      <th>RECENT_FORM</th>\n",
       "      <th>adj_form</th>\n",
       "      <th>ENDING_DATE</th>\n",
       "      <th>TOURNAMENT</th>\n",
       "    </tr>\n",
       "  </thead>\n",
       "  <tbody>\n",
       "    <tr>\n",
       "      <th>0</th>\n",
       "      <td>Bryson DeChambeau</td>\n",
       "      <td>2</td>\n",
       "      <td>3.5</td>\n",
       "      <td>3.19</td>\n",
       "      <td>2025-06-15</td>\n",
       "      <td>U.S. Open</td>\n",
       "    </tr>\n",
       "    <tr>\n",
       "      <th>1</th>\n",
       "      <td>Scottie Scheffler</td>\n",
       "      <td>13</td>\n",
       "      <td>6.9</td>\n",
       "      <td>2.61</td>\n",
       "      <td>2025-06-15</td>\n",
       "      <td>U.S. Open</td>\n",
       "    </tr>\n",
       "    <tr>\n",
       "      <th>2</th>\n",
       "      <td>Jon Rahm</td>\n",
       "      <td>2</td>\n",
       "      <td>11.0</td>\n",
       "      <td>10.01</td>\n",
       "      <td>2025-06-15</td>\n",
       "      <td>U.S. Open</td>\n",
       "    </tr>\n",
       "    <tr>\n",
       "      <th>3</th>\n",
       "      <td>John Keefer</td>\n",
       "      <td>1</td>\n",
       "      <td>13.0</td>\n",
       "      <td>18.76</td>\n",
       "      <td>2025-06-15</td>\n",
       "      <td>U.S. Open</td>\n",
       "    </tr>\n",
       "    <tr>\n",
       "      <th>4</th>\n",
       "      <td>Bubba Watson</td>\n",
       "      <td>1</td>\n",
       "      <td>14.0</td>\n",
       "      <td>20.20</td>\n",
       "      <td>2025-06-15</td>\n",
       "      <td>U.S. Open</td>\n",
       "    </tr>\n",
       "    <tr>\n",
       "      <th>5</th>\n",
       "      <td>Ian Gilligan</td>\n",
       "      <td>1</td>\n",
       "      <td>16.0</td>\n",
       "      <td>23.08</td>\n",
       "      <td>2025-06-15</td>\n",
       "      <td>U.S. Open</td>\n",
       "    </tr>\n",
       "    <tr>\n",
       "      <th>6</th>\n",
       "      <td>Taisei Shimizu</td>\n",
       "      <td>1</td>\n",
       "      <td>16.0</td>\n",
       "      <td>23.08</td>\n",
       "      <td>2025-06-15</td>\n",
       "      <td>U.S. Open</td>\n",
       "    </tr>\n",
       "    <tr>\n",
       "      <th>7</th>\n",
       "      <td>Joaquin Niemann</td>\n",
       "      <td>2</td>\n",
       "      <td>18.5</td>\n",
       "      <td>16.84</td>\n",
       "      <td>2025-06-15</td>\n",
       "      <td>U.S. Open</td>\n",
       "    </tr>\n",
       "    <tr>\n",
       "      <th>8</th>\n",
       "      <td>Tommy Fleetwood</td>\n",
       "      <td>12</td>\n",
       "      <td>18.6</td>\n",
       "      <td>7.25</td>\n",
       "      <td>2025-06-15</td>\n",
       "      <td>U.S. Open</td>\n",
       "    </tr>\n",
       "    <tr>\n",
       "      <th>9</th>\n",
       "      <td>Rory McIlroy</td>\n",
       "      <td>9</td>\n",
       "      <td>20.4</td>\n",
       "      <td>8.86</td>\n",
       "      <td>2025-06-15</td>\n",
       "      <td>U.S. Open</td>\n",
       "    </tr>\n",
       "  </tbody>\n",
       "</table>\n",
       "</div>"
      ],
      "text/plain": [
       "              PLAYER  TOTAL_EVENTS_PLAYED  RECENT_FORM  adj_form ENDING_DATE  \\\n",
       "0  Bryson DeChambeau                    2          3.5      3.19  2025-06-15   \n",
       "1  Scottie Scheffler                   13          6.9      2.61  2025-06-15   \n",
       "2           Jon Rahm                    2         11.0     10.01  2025-06-15   \n",
       "3        John Keefer                    1         13.0     18.76  2025-06-15   \n",
       "4       Bubba Watson                    1         14.0     20.20  2025-06-15   \n",
       "5       Ian Gilligan                    1         16.0     23.08  2025-06-15   \n",
       "6     Taisei Shimizu                    1         16.0     23.08  2025-06-15   \n",
       "7    Joaquin Niemann                    2         18.5     16.84  2025-06-15   \n",
       "8    Tommy Fleetwood                   12         18.6      7.25  2025-06-15   \n",
       "9       Rory McIlroy                    9         20.4      8.86  2025-06-15   \n",
       "\n",
       "  TOURNAMENT  \n",
       "0  U.S. Open  \n",
       "1  U.S. Open  \n",
       "2  U.S. Open  \n",
       "3  U.S. Open  \n",
       "4  U.S. Open  \n",
       "5  U.S. Open  \n",
       "6  U.S. Open  \n",
       "7  U.S. Open  \n",
       "8  U.S. Open  \n",
       "9  U.S. Open  "
      ]
     },
     "execution_count": 38,
     "metadata": {},
     "output_type": "execute_result"
    }
   ],
   "source": [
    "importlib.reload(utils.db_utils)\n",
    "from utils.db_utils import get_recent_avg_finish\n",
    "\n",
    "recent_form = get_recent_avg_finish(db_path, this_week_history, window_months=9)\n",
    "recent_form_current = recent_form[this_week_key].copy()\n",
    "\n",
    "recent_form_current.head(10)"
   ]
  },
  {
   "cell_type": "markdown",
   "id": "6386214b",
   "metadata": {},
   "source": [
    "## Course History"
   ]
  },
  {
   "cell_type": "code",
   "execution_count": 39,
   "id": "c1c0ec95",
   "metadata": {},
   "outputs": [
    {
     "data": {
      "text/html": [
       "<div>\n",
       "<style scoped>\n",
       "    .dataframe tbody tr th:only-of-type {\n",
       "        vertical-align: middle;\n",
       "    }\n",
       "\n",
       "    .dataframe tbody tr th {\n",
       "        vertical-align: top;\n",
       "    }\n",
       "\n",
       "    .dataframe thead th {\n",
       "        text-align: right;\n",
       "    }\n",
       "</style>\n",
       "<table border=\"1\" class=\"dataframe\">\n",
       "  <thead>\n",
       "    <tr style=\"text-align: right;\">\n",
       "      <th></th>\n",
       "    </tr>\n",
       "  </thead>\n",
       "  <tbody>\n",
       "  </tbody>\n",
       "</table>\n",
       "</div>"
      ],
      "text/plain": [
       "Empty DataFrame\n",
       "Columns: []\n",
       "Index: []"
      ]
     },
     "execution_count": 39,
     "metadata": {},
     "output_type": "execute_result"
    }
   ],
   "source": [
    "importlib.reload(utils.db_utils)\n",
    "from utils.db_utils import get_course_history\n",
    "\n",
    "course_hist = get_course_history(db_path, this_week_history, lookback_years=7)\n",
    "course_hist_current = course_hist[this_week_key].copy()\n",
    "\n",
    "course_hist_current.head(10)\n"
   ]
  },
  {
   "cell_type": "markdown",
   "id": "cff50c6a",
   "metadata": {},
   "source": [
    "## Merged Dataframe"
   ]
  },
  {
   "cell_type": "code",
   "execution_count": 40,
   "id": "4ea0e7da",
   "metadata": {},
   "outputs": [
    {
     "data": {
      "text/html": [
       "<div>\n",
       "<style scoped>\n",
       "    .dataframe tbody tr th:only-of-type {\n",
       "        vertical-align: middle;\n",
       "    }\n",
       "\n",
       "    .dataframe tbody tr th {\n",
       "        vertical-align: top;\n",
       "    }\n",
       "\n",
       "    .dataframe thead th {\n",
       "        text-align: right;\n",
       "    }\n",
       "</style>\n",
       "<table border=\"1\" class=\"dataframe\">\n",
       "  <thead>\n",
       "    <tr style=\"text-align: right;\">\n",
       "      <th></th>\n",
       "      <th>PLAYER</th>\n",
       "      <th>SGTTG_RANK</th>\n",
       "      <th>SGTTG</th>\n",
       "      <th>SGOTT_RANK</th>\n",
       "      <th>SGOTT</th>\n",
       "      <th>SGAPR_RANK</th>\n",
       "      <th>SGAPR</th>\n",
       "      <th>SGATG_RANK</th>\n",
       "      <th>SGATG</th>\n",
       "      <th>SGP_RANK</th>\n",
       "      <th>SGP</th>\n",
       "      <th>BIRDIES_RANK</th>\n",
       "      <th>BIRDIES</th>\n",
       "      <th>PAR_3_RANK</th>\n",
       "      <th>PAR_3</th>\n",
       "      <th>PAR_4_RANK</th>\n",
       "      <th>PAR_4</th>\n",
       "      <th>PAR_5_RANK</th>\n",
       "      <th>PAR_5</th>\n",
       "      <th>TOTAL_DRIVING_RANK</th>\n",
       "      <th>TOTAL_DRIVING</th>\n",
       "      <th>DRIVING_DISTANCE_RANK</th>\n",
       "      <th>DRIVING_DISTANCE</th>\n",
       "      <th>DRIVING_ACCURACY_RANK</th>\n",
       "      <th>DRIVING_ACCURACY</th>\n",
       "      <th>GIR_RANK</th>\n",
       "      <th>GIR</th>\n",
       "      <th>SCRAMBLING_RANK</th>\n",
       "      <th>SCRAMBLING</th>\n",
       "      <th>OWGR_RANK</th>\n",
       "      <th>OWGR</th>\n",
       "      <th>SEASON</th>\n",
       "      <th>VEGAS_ODDS</th>\n",
       "      <th>CUT_PERCENTAGE</th>\n",
       "      <th>FEDEX_CUP_POINTS</th>\n",
       "      <th>form_density</th>\n",
       "      <th>CONSECUTIVE_CUTS</th>\n",
       "      <th>RECENT_FORM</th>\n",
       "      <th>adj_form</th>\n",
       "      <th>SALARY</th>\n",
       "    </tr>\n",
       "  </thead>\n",
       "  <tbody>\n",
       "    <tr>\n",
       "      <th>0</th>\n",
       "      <td>Aaron Rai</td>\n",
       "      <td>27.0</td>\n",
       "      <td>0.732</td>\n",
       "      <td>28.0</td>\n",
       "      <td>0.349</td>\n",
       "      <td>32.0</td>\n",
       "      <td>0.403</td>\n",
       "      <td>103.0</td>\n",
       "      <td>-0.019</td>\n",
       "      <td>127.0</td>\n",
       "      <td>-0.137</td>\n",
       "      <td>42.0</td>\n",
       "      <td>22.92%</td>\n",
       "      <td>178.0</td>\n",
       "      <td>3.21</td>\n",
       "      <td>7.0</td>\n",
       "      <td>3.96</td>\n",
       "      <td>32.0</td>\n",
       "      <td>4.55</td>\n",
       "      <td>76.0</td>\n",
       "      <td>172</td>\n",
       "      <td>171.0</td>\n",
       "      <td>286.6</td>\n",
       "      <td>1.0</td>\n",
       "      <td>73.43%</td>\n",
       "      <td>19.0</td>\n",
       "      <td>69.21%</td>\n",
       "      <td>129.0</td>\n",
       "      <td>58.27%</td>\n",
       "      <td>33.0</td>\n",
       "      <td>2.6441</td>\n",
       "      <td>2025.0</td>\n",
       "      <td>125.0</td>\n",
       "      <td>73.3</td>\n",
       "      <td>577.480</td>\n",
       "      <td>38.50</td>\n",
       "      <td>0.0</td>\n",
       "      <td>40.1</td>\n",
       "      <td>14.46</td>\n",
       "      <td>6400</td>\n",
       "    </tr>\n",
       "    <tr>\n",
       "      <th>1</th>\n",
       "      <td>Adam Schenk</td>\n",
       "      <td>129.0</td>\n",
       "      <td>-0.200</td>\n",
       "      <td>107.0</td>\n",
       "      <td>-0.013</td>\n",
       "      <td>118.0</td>\n",
       "      <td>-0.102</td>\n",
       "      <td>121.0</td>\n",
       "      <td>-0.085</td>\n",
       "      <td>110.0</td>\n",
       "      <td>-0.045</td>\n",
       "      <td>92.0</td>\n",
       "      <td>21.68%</td>\n",
       "      <td>44.0</td>\n",
       "      <td>3.03</td>\n",
       "      <td>155.0</td>\n",
       "      <td>4.07</td>\n",
       "      <td>32.0</td>\n",
       "      <td>4.55</td>\n",
       "      <td>133.0</td>\n",
       "      <td>211</td>\n",
       "      <td>42.0</td>\n",
       "      <td>306.8</td>\n",
       "      <td>169.0</td>\n",
       "      <td>51.75%</td>\n",
       "      <td>165.0</td>\n",
       "      <td>61.65%</td>\n",
       "      <td>90.0</td>\n",
       "      <td>60.42%</td>\n",
       "      <td>152.0</td>\n",
       "      <td>.8818</td>\n",
       "      <td>2025.0</td>\n",
       "      <td>1000.0</td>\n",
       "      <td>42.1</td>\n",
       "      <td>257.854</td>\n",
       "      <td>13.57</td>\n",
       "      <td>1.0</td>\n",
       "      <td>67.5</td>\n",
       "      <td>22.53</td>\n",
       "      <td>5600</td>\n",
       "    </tr>\n",
       "    <tr>\n",
       "      <th>2</th>\n",
       "      <td>Adam Scott</td>\n",
       "      <td>68.0</td>\n",
       "      <td>0.237</td>\n",
       "      <td>54.0</td>\n",
       "      <td>0.227</td>\n",
       "      <td>133.0</td>\n",
       "      <td>-0.199</td>\n",
       "      <td>38.0</td>\n",
       "      <td>0.208</td>\n",
       "      <td>103.0</td>\n",
       "      <td>-0.021</td>\n",
       "      <td>76.0</td>\n",
       "      <td>22.08%</td>\n",
       "      <td>123.0</td>\n",
       "      <td>3.09</td>\n",
       "      <td>140.0</td>\n",
       "      <td>4.06</td>\n",
       "      <td>45.0</td>\n",
       "      <td>4.56</td>\n",
       "      <td>133.0</td>\n",
       "      <td>211</td>\n",
       "      <td>85.0</td>\n",
       "      <td>301.8</td>\n",
       "      <td>126.0</td>\n",
       "      <td>56.61%</td>\n",
       "      <td>134.0</td>\n",
       "      <td>63.75%</td>\n",
       "      <td>130.0</td>\n",
       "      <td>58.24%</td>\n",
       "      <td>42.0</td>\n",
       "      <td>2.3231</td>\n",
       "      <td>2025.0</td>\n",
       "      <td>150.0</td>\n",
       "      <td>81.8</td>\n",
       "      <td>264.810</td>\n",
       "      <td>24.07</td>\n",
       "      <td>4.0</td>\n",
       "      <td>43.6</td>\n",
       "      <td>17.55</td>\n",
       "      <td>6600</td>\n",
       "    </tr>\n",
       "    <tr>\n",
       "      <th>3</th>\n",
       "      <td>Akshay Bhatia</td>\n",
       "      <td>72.0</td>\n",
       "      <td>0.227</td>\n",
       "      <td>101.0</td>\n",
       "      <td>0.005</td>\n",
       "      <td>21.0</td>\n",
       "      <td>0.494</td>\n",
       "      <td>155.0</td>\n",
       "      <td>-0.272</td>\n",
       "      <td>12.0</td>\n",
       "      <td>0.502</td>\n",
       "      <td>7.0</td>\n",
       "      <td>25.22%</td>\n",
       "      <td>4.0</td>\n",
       "      <td>2.96</td>\n",
       "      <td>42.0</td>\n",
       "      <td>4.00</td>\n",
       "      <td>162.0</td>\n",
       "      <td>4.70</td>\n",
       "      <td>136.0</td>\n",
       "      <td>214</td>\n",
       "      <td>158.0</td>\n",
       "      <td>292.4</td>\n",
       "      <td>56.0</td>\n",
       "      <td>61.71%</td>\n",
       "      <td>55.0</td>\n",
       "      <td>66.56%</td>\n",
       "      <td>159.0</td>\n",
       "      <td>56.15%</td>\n",
       "      <td>30.0</td>\n",
       "      <td>2.6998</td>\n",
       "      <td>2025.0</td>\n",
       "      <td>125.0</td>\n",
       "      <td>80.0</td>\n",
       "      <td>800.240</td>\n",
       "      <td>53.35</td>\n",
       "      <td>2.0</td>\n",
       "      <td>36.6</td>\n",
       "      <td>13.20</td>\n",
       "      <td>6700</td>\n",
       "    </tr>\n",
       "    <tr>\n",
       "      <th>4</th>\n",
       "      <td>Alistair Docherty</td>\n",
       "      <td>NaN</td>\n",
       "      <td>NaN</td>\n",
       "      <td>NaN</td>\n",
       "      <td>NaN</td>\n",
       "      <td>NaN</td>\n",
       "      <td>NaN</td>\n",
       "      <td>NaN</td>\n",
       "      <td>NaN</td>\n",
       "      <td>NaN</td>\n",
       "      <td>NaN</td>\n",
       "      <td>NaN</td>\n",
       "      <td>NaN</td>\n",
       "      <td>NaN</td>\n",
       "      <td>NaN</td>\n",
       "      <td>NaN</td>\n",
       "      <td>NaN</td>\n",
       "      <td>NaN</td>\n",
       "      <td>NaN</td>\n",
       "      <td>NaN</td>\n",
       "      <td>NaN</td>\n",
       "      <td>NaN</td>\n",
       "      <td>NaN</td>\n",
       "      <td>NaN</td>\n",
       "      <td>NaN</td>\n",
       "      <td>NaN</td>\n",
       "      <td>NaN</td>\n",
       "      <td>NaN</td>\n",
       "      <td>NaN</td>\n",
       "      <td>250.0</td>\n",
       "      <td>.5759</td>\n",
       "      <td>2025.0</td>\n",
       "      <td>1000.0</td>\n",
       "      <td>NaN</td>\n",
       "      <td>NaN</td>\n",
       "      <td>NaN</td>\n",
       "      <td>NaN</td>\n",
       "      <td>NaN</td>\n",
       "      <td>NaN</td>\n",
       "      <td>5400</td>\n",
       "    </tr>\n",
       "  </tbody>\n",
       "</table>\n",
       "</div>"
      ],
      "text/plain": [
       "              PLAYER  SGTTG_RANK   SGTTG  SGOTT_RANK   SGOTT  SGAPR_RANK  \\\n",
       "0          Aaron Rai        27.0   0.732        28.0   0.349        32.0   \n",
       "1        Adam Schenk       129.0  -0.200       107.0  -0.013       118.0   \n",
       "2         Adam Scott        68.0   0.237        54.0   0.227       133.0   \n",
       "3      Akshay Bhatia        72.0   0.227       101.0   0.005        21.0   \n",
       "4  Alistair Docherty         NaN     NaN         NaN     NaN         NaN   \n",
       "\n",
       "    SGAPR  SGATG_RANK   SGATG  SGP_RANK     SGP  BIRDIES_RANK BIRDIES  \\\n",
       "0   0.403       103.0  -0.019     127.0  -0.137          42.0  22.92%   \n",
       "1  -0.102       121.0  -0.085     110.0  -0.045          92.0  21.68%   \n",
       "2  -0.199        38.0   0.208     103.0  -0.021          76.0  22.08%   \n",
       "3   0.494       155.0  -0.272      12.0   0.502           7.0  25.22%   \n",
       "4     NaN         NaN     NaN       NaN     NaN           NaN     NaN   \n",
       "\n",
       "   PAR_3_RANK PAR_3  PAR_4_RANK PAR_4  PAR_5_RANK PAR_5  TOTAL_DRIVING_RANK  \\\n",
       "0       178.0  3.21         7.0  3.96        32.0  4.55                76.0   \n",
       "1        44.0  3.03       155.0  4.07        32.0  4.55               133.0   \n",
       "2       123.0  3.09       140.0  4.06        45.0  4.56               133.0   \n",
       "3         4.0  2.96        42.0  4.00       162.0  4.70               136.0   \n",
       "4         NaN   NaN         NaN   NaN         NaN   NaN                 NaN   \n",
       "\n",
       "  TOTAL_DRIVING  DRIVING_DISTANCE_RANK DRIVING_DISTANCE  \\\n",
       "0           172                  171.0            286.6   \n",
       "1           211                   42.0            306.8   \n",
       "2           211                   85.0            301.8   \n",
       "3           214                  158.0            292.4   \n",
       "4           NaN                    NaN              NaN   \n",
       "\n",
       "   DRIVING_ACCURACY_RANK DRIVING_ACCURACY  GIR_RANK     GIR  SCRAMBLING_RANK  \\\n",
       "0                    1.0           73.43%      19.0  69.21%            129.0   \n",
       "1                  169.0           51.75%     165.0  61.65%             90.0   \n",
       "2                  126.0           56.61%     134.0  63.75%            130.0   \n",
       "3                   56.0           61.71%      55.0  66.56%            159.0   \n",
       "4                    NaN              NaN       NaN     NaN              NaN   \n",
       "\n",
       "  SCRAMBLING  OWGR_RANK    OWGR  SEASON  VEGAS_ODDS  CUT_PERCENTAGE  \\\n",
       "0     58.27%       33.0  2.6441  2025.0       125.0            73.3   \n",
       "1     60.42%      152.0   .8818  2025.0      1000.0            42.1   \n",
       "2     58.24%       42.0  2.3231  2025.0       150.0            81.8   \n",
       "3     56.15%       30.0  2.6998  2025.0       125.0            80.0   \n",
       "4        NaN      250.0   .5759  2025.0      1000.0             NaN   \n",
       "\n",
       "   FEDEX_CUP_POINTS  form_density  CONSECUTIVE_CUTS  RECENT_FORM  adj_form  \\\n",
       "0           577.480         38.50               0.0         40.1     14.46   \n",
       "1           257.854         13.57               1.0         67.5     22.53   \n",
       "2           264.810         24.07               4.0         43.6     17.55   \n",
       "3           800.240         53.35               2.0         36.6     13.20   \n",
       "4               NaN           NaN               NaN          NaN       NaN   \n",
       "\n",
       "   SALARY  \n",
       "0    6400  \n",
       "1    5600  \n",
       "2    6600  \n",
       "3    6700  \n",
       "4    5400  "
      ]
     },
     "execution_count": 40,
     "metadata": {},
     "output_type": "execute_result"
    }
   ],
   "source": [
    "importlib.reload(utils.db_utils)\n",
    "from utils.db_utils import build_test_rows\n",
    "\n",
    "this_week = build_test_rows(\n",
    "    db_path=db_path,\n",
    "    stats_df=stats_df,\n",
    "    odds_df=odds_current,\n",
    "    cuts_df=cuts_current,\n",
    "    recent_form_df=recent_form_current,\n",
    "    course_hist_df=course_hist_current,\n",
    "    dk_df=dk,\n",
    "    season=tournament_config[\"new\"][\"season\"]\n",
    ")\n",
    "\n",
    "this_week.head()"
   ]
  },
  {
   "cell_type": "markdown",
   "id": "e30b6643",
   "metadata": {},
   "source": [
    "### Dataframe Normalization\n",
    "\n",
    "Run the same normalization techniques that I ran on the historical data:\n",
    "- Any NaN Odds go to 1000/1 and clip all values at 1000/1\n",
    "- OWGR NaN values go to 1000\n",
    "- Recent form NaN values act like a MC at 90\n",
    "- Average everything else."
   ]
  },
  {
   "cell_type": "code",
   "execution_count": 49,
   "id": "cfea9168",
   "metadata": {},
   "outputs": [],
   "source": [
    "# === 1. Clean percentage stats stored as strings like '62.5%' ===\n",
    "percent_stats = [\"SCRAMBLING\", \"DRIVING_ACCURACY\", \"BIRDIES\", \"GIR\"]\n",
    "\n",
    "for col in percent_stats:\n",
    "    if col in this_week.columns:\n",
    "        this_week[col] = (\n",
    "            this_week[col]\n",
    "            .astype(str)\n",
    "            .str.replace('%', '', regex=False)\n",
    "            .replace(['None', 'nan', 'NaN', '--', 'DNP', ''], np.nan)\n",
    "        )\n",
    "        this_week[col] = pd.to_numeric(this_week[col], errors=\"coerce\")\n",
    "\n",
    "# === 2. Normalize & assign fallback values for key fields ===\n",
    "this_week[\"VEGAS_ODDS\"] = pd.to_numeric(this_week[\"VEGAS_ODDS\"], errors=\"coerce\").fillna(1000).clip(upper=1000)\n",
    "\n",
    "if \"OWGR\" in this_week.columns:\n",
    "    this_week[\"OWGR\"] = pd.to_numeric(this_week[\"OWGR\"], errors=\"coerce\")\n",
    "    max_owgr = this_week[\"OWGR\"].dropna().max()\n",
    "    this_week[\"OWGR\"] = this_week[\"OWGR\"].fillna(max_owgr).clip(upper=1000)\n",
    "\n",
    "if \"OWGR_RANK\" in this_week.columns:\n",
    "    this_week[\"OWGR_RANK\"] = pd.to_numeric(this_week[\"OWGR_RANK\"], errors=\"coerce\").fillna(1000).clip(upper=1000)\n",
    "\n",
    "this_week[\"RECENT_FORM\"] = pd.to_numeric(this_week[\"RECENT_FORM\"], errors=\"coerce\").fillna(90)\n",
    "this_week[\"FEDEX_CUP_POINTS\"] = pd.to_numeric(this_week[\"FEDEX_CUP_POINTS\"], errors=\"coerce\").fillna(0)\n",
    "\n",
    "if \"COURSE_HISTORY\" in this_week.columns:\n",
    "    this_week[\"COURSE_HISTORY\"] = pd.to_numeric(this_week[\"COURSE_HISTORY\"], errors=\"coerce\")\n",
    "    ch_mean = this_week[\"COURSE_HISTORY\"].mean()\n",
    "    this_week[\"COURSE_HISTORY\"] = this_week[\"COURSE_HISTORY\"].fillna(ch_mean)\n",
    "\n",
    "# === 3. Fill all remaining NaNs in numeric columns ===\n",
    "# Recast everything that might look numeric to be sure\n",
    "for col in this_week.columns:\n",
    "    if col not in [\"PLAYER\", \"SALARY\", \"TOURNAMENT\", \"SEASON\"]:\n",
    "        try:\n",
    "            this_week[col] = pd.to_numeric(this_week[col], errors=\"coerce\")\n",
    "        except Exception:\n",
    "            continue\n",
    "\n",
    "numeric_cols = this_week.select_dtypes(include=[\"number\"]).columns.tolist()\n",
    "\n",
    "for col in numeric_cols:\n",
    "    if this_week[col].isna().any():\n",
    "        col_mean = this_week[col].mean()\n",
    "        this_week[col] = this_week[col].fillna(col_mean if not np.isnan(col_mean) else 0)\n"
   ]
  },
  {
   "cell_type": "code",
   "execution_count": 50,
   "id": "4b122fc3",
   "metadata": {},
   "outputs": [],
   "source": [
    "# === Final Check: No NaNs Should Remain ===\n",
    "assert this_week.isna().sum().sum() == 0, \"🚨 Still missing values in prediction set!\""
   ]
  },
  {
   "cell_type": "code",
   "execution_count": 51,
   "id": "b75f2cff",
   "metadata": {},
   "outputs": [
    {
     "name": "stdout",
     "output_type": "stream",
     "text": [
      "🧹 Columns still containing NaN values:\n"
     ]
    },
    {
     "data": {
      "text/plain": [
       "Series([], dtype: int64)"
      ]
     },
     "metadata": {},
     "output_type": "display_data"
    }
   ],
   "source": [
    "# === Check for Remaining Missing Values ===\n",
    "missing_summary = this_week.isna().sum()\n",
    "missing_summary = missing_summary[missing_summary > 0].sort_values(ascending=False)\n",
    "\n",
    "print(\"🧹 Columns still containing NaN values:\")\n",
    "display(missing_summary)"
   ]
  },
  {
   "cell_type": "code",
   "execution_count": 52,
   "id": "cc925bbf",
   "metadata": {},
   "outputs": [
    {
     "data": {
      "text/html": [
       "<div>\n",
       "<style scoped>\n",
       "    .dataframe tbody tr th:only-of-type {\n",
       "        vertical-align: middle;\n",
       "    }\n",
       "\n",
       "    .dataframe tbody tr th {\n",
       "        vertical-align: top;\n",
       "    }\n",
       "\n",
       "    .dataframe thead th {\n",
       "        text-align: right;\n",
       "    }\n",
       "</style>\n",
       "<table border=\"1\" class=\"dataframe\">\n",
       "  <thead>\n",
       "    <tr style=\"text-align: right;\">\n",
       "      <th></th>\n",
       "      <th>PLAYER</th>\n",
       "      <th>SGTTG_RANK</th>\n",
       "      <th>SGTTG</th>\n",
       "      <th>SGOTT_RANK</th>\n",
       "      <th>SGOTT</th>\n",
       "      <th>SGAPR_RANK</th>\n",
       "      <th>SGAPR</th>\n",
       "      <th>SGATG_RANK</th>\n",
       "      <th>SGATG</th>\n",
       "      <th>SGP_RANK</th>\n",
       "      <th>SGP</th>\n",
       "      <th>BIRDIES_RANK</th>\n",
       "      <th>BIRDIES</th>\n",
       "      <th>PAR_3_RANK</th>\n",
       "      <th>PAR_3</th>\n",
       "      <th>PAR_4_RANK</th>\n",
       "      <th>PAR_4</th>\n",
       "      <th>PAR_5_RANK</th>\n",
       "      <th>PAR_5</th>\n",
       "      <th>TOTAL_DRIVING_RANK</th>\n",
       "      <th>TOTAL_DRIVING</th>\n",
       "      <th>DRIVING_DISTANCE_RANK</th>\n",
       "      <th>DRIVING_DISTANCE</th>\n",
       "      <th>DRIVING_ACCURACY_RANK</th>\n",
       "      <th>DRIVING_ACCURACY</th>\n",
       "      <th>GIR_RANK</th>\n",
       "      <th>GIR</th>\n",
       "      <th>SCRAMBLING_RANK</th>\n",
       "      <th>SCRAMBLING</th>\n",
       "      <th>OWGR_RANK</th>\n",
       "      <th>OWGR</th>\n",
       "      <th>SEASON</th>\n",
       "      <th>VEGAS_ODDS</th>\n",
       "      <th>CUT_PERCENTAGE</th>\n",
       "      <th>FEDEX_CUP_POINTS</th>\n",
       "      <th>form_density</th>\n",
       "      <th>CONSECUTIVE_CUTS</th>\n",
       "      <th>RECENT_FORM</th>\n",
       "      <th>adj_form</th>\n",
       "      <th>SALARY</th>\n",
       "    </tr>\n",
       "  </thead>\n",
       "  <tbody>\n",
       "    <tr>\n",
       "      <th>0</th>\n",
       "      <td>Aaron Rai</td>\n",
       "      <td>27.00</td>\n",
       "      <td>0.732000</td>\n",
       "      <td>28.000</td>\n",
       "      <td>0.3490</td>\n",
       "      <td>32.0000</td>\n",
       "      <td>0.403000</td>\n",
       "      <td>103.000</td>\n",
       "      <td>-0.01900</td>\n",
       "      <td>127.000</td>\n",
       "      <td>-0.137000</td>\n",
       "      <td>42.0000</td>\n",
       "      <td>22.920000</td>\n",
       "      <td>178.000</td>\n",
       "      <td>3.210000</td>\n",
       "      <td>7.0</td>\n",
       "      <td>3.960000</td>\n",
       "      <td>32.00</td>\n",
       "      <td>4.55000</td>\n",
       "      <td>76.0000</td>\n",
       "      <td>172.0000</td>\n",
       "      <td>171.0000</td>\n",
       "      <td>286.6000</td>\n",
       "      <td>1.000</td>\n",
       "      <td>73.430</td>\n",
       "      <td>19.0000</td>\n",
       "      <td>69.21000</td>\n",
       "      <td>129.0000</td>\n",
       "      <td>58.270</td>\n",
       "      <td>33.0</td>\n",
       "      <td>2.6441</td>\n",
       "      <td>2025.0</td>\n",
       "      <td>125.0</td>\n",
       "      <td>73.300000</td>\n",
       "      <td>577.480</td>\n",
       "      <td>38.500000</td>\n",
       "      <td>0.000000</td>\n",
       "      <td>40.1</td>\n",
       "      <td>14.460000</td>\n",
       "      <td>6400</td>\n",
       "    </tr>\n",
       "    <tr>\n",
       "      <th>1</th>\n",
       "      <td>Adam Schenk</td>\n",
       "      <td>129.00</td>\n",
       "      <td>-0.200000</td>\n",
       "      <td>107.000</td>\n",
       "      <td>-0.0130</td>\n",
       "      <td>118.0000</td>\n",
       "      <td>-0.102000</td>\n",
       "      <td>121.000</td>\n",
       "      <td>-0.08500</td>\n",
       "      <td>110.000</td>\n",
       "      <td>-0.045000</td>\n",
       "      <td>92.0000</td>\n",
       "      <td>21.680000</td>\n",
       "      <td>44.000</td>\n",
       "      <td>3.030000</td>\n",
       "      <td>155.0</td>\n",
       "      <td>4.070000</td>\n",
       "      <td>32.00</td>\n",
       "      <td>4.55000</td>\n",
       "      <td>133.0000</td>\n",
       "      <td>211.0000</td>\n",
       "      <td>42.0000</td>\n",
       "      <td>306.8000</td>\n",
       "      <td>169.000</td>\n",
       "      <td>51.750</td>\n",
       "      <td>165.0000</td>\n",
       "      <td>61.65000</td>\n",
       "      <td>90.0000</td>\n",
       "      <td>60.420</td>\n",
       "      <td>152.0</td>\n",
       "      <td>0.8818</td>\n",
       "      <td>2025.0</td>\n",
       "      <td>1000.0</td>\n",
       "      <td>42.100000</td>\n",
       "      <td>257.854</td>\n",
       "      <td>13.570000</td>\n",
       "      <td>1.000000</td>\n",
       "      <td>67.5</td>\n",
       "      <td>22.530000</td>\n",
       "      <td>5600</td>\n",
       "    </tr>\n",
       "    <tr>\n",
       "      <th>2</th>\n",
       "      <td>Adam Scott</td>\n",
       "      <td>68.00</td>\n",
       "      <td>0.237000</td>\n",
       "      <td>54.000</td>\n",
       "      <td>0.2270</td>\n",
       "      <td>133.0000</td>\n",
       "      <td>-0.199000</td>\n",
       "      <td>38.000</td>\n",
       "      <td>0.20800</td>\n",
       "      <td>103.000</td>\n",
       "      <td>-0.021000</td>\n",
       "      <td>76.0000</td>\n",
       "      <td>22.080000</td>\n",
       "      <td>123.000</td>\n",
       "      <td>3.090000</td>\n",
       "      <td>140.0</td>\n",
       "      <td>4.060000</td>\n",
       "      <td>45.00</td>\n",
       "      <td>4.56000</td>\n",
       "      <td>133.0000</td>\n",
       "      <td>211.0000</td>\n",
       "      <td>85.0000</td>\n",
       "      <td>301.8000</td>\n",
       "      <td>126.000</td>\n",
       "      <td>56.610</td>\n",
       "      <td>134.0000</td>\n",
       "      <td>63.75000</td>\n",
       "      <td>130.0000</td>\n",
       "      <td>58.240</td>\n",
       "      <td>42.0</td>\n",
       "      <td>2.3231</td>\n",
       "      <td>2025.0</td>\n",
       "      <td>150.0</td>\n",
       "      <td>81.800000</td>\n",
       "      <td>264.810</td>\n",
       "      <td>24.070000</td>\n",
       "      <td>4.000000</td>\n",
       "      <td>43.6</td>\n",
       "      <td>17.550000</td>\n",
       "      <td>6600</td>\n",
       "    </tr>\n",
       "    <tr>\n",
       "      <th>3</th>\n",
       "      <td>Akshay Bhatia</td>\n",
       "      <td>72.00</td>\n",
       "      <td>0.227000</td>\n",
       "      <td>101.000</td>\n",
       "      <td>0.0050</td>\n",
       "      <td>21.0000</td>\n",
       "      <td>0.494000</td>\n",
       "      <td>155.000</td>\n",
       "      <td>-0.27200</td>\n",
       "      <td>12.000</td>\n",
       "      <td>0.502000</td>\n",
       "      <td>7.0000</td>\n",
       "      <td>25.220000</td>\n",
       "      <td>4.000</td>\n",
       "      <td>2.960000</td>\n",
       "      <td>42.0</td>\n",
       "      <td>4.000000</td>\n",
       "      <td>162.00</td>\n",
       "      <td>4.70000</td>\n",
       "      <td>136.0000</td>\n",
       "      <td>214.0000</td>\n",
       "      <td>158.0000</td>\n",
       "      <td>292.4000</td>\n",
       "      <td>56.000</td>\n",
       "      <td>61.710</td>\n",
       "      <td>55.0000</td>\n",
       "      <td>66.56000</td>\n",
       "      <td>159.0000</td>\n",
       "      <td>56.150</td>\n",
       "      <td>30.0</td>\n",
       "      <td>2.6998</td>\n",
       "      <td>2025.0</td>\n",
       "      <td>125.0</td>\n",
       "      <td>80.000000</td>\n",
       "      <td>800.240</td>\n",
       "      <td>53.350000</td>\n",
       "      <td>2.000000</td>\n",
       "      <td>36.6</td>\n",
       "      <td>13.200000</td>\n",
       "      <td>6700</td>\n",
       "    </tr>\n",
       "    <tr>\n",
       "      <th>4</th>\n",
       "      <td>Alistair Docherty</td>\n",
       "      <td>71.75</td>\n",
       "      <td>0.294275</td>\n",
       "      <td>81.825</td>\n",
       "      <td>0.0777</td>\n",
       "      <td>76.3625</td>\n",
       "      <td>0.148825</td>\n",
       "      <td>77.975</td>\n",
       "      <td>0.06785</td>\n",
       "      <td>79.625</td>\n",
       "      <td>0.080738</td>\n",
       "      <td>74.2875</td>\n",
       "      <td>22.274875</td>\n",
       "      <td>91.375</td>\n",
       "      <td>3.065125</td>\n",
       "      <td>70.9</td>\n",
       "      <td>4.014625</td>\n",
       "      <td>86.45</td>\n",
       "      <td>4.60325</td>\n",
       "      <td>88.2125</td>\n",
       "      <td>179.0125</td>\n",
       "      <td>95.3875</td>\n",
       "      <td>300.4025</td>\n",
       "      <td>83.625</td>\n",
       "      <td>60.204</td>\n",
       "      <td>90.3125</td>\n",
       "      <td>65.55875</td>\n",
       "      <td>92.0125</td>\n",
       "      <td>60.345</td>\n",
       "      <td>250.0</td>\n",
       "      <td>0.5759</td>\n",
       "      <td>2025.0</td>\n",
       "      <td>1000.0</td>\n",
       "      <td>66.726531</td>\n",
       "      <td>0.000</td>\n",
       "      <td>44.623061</td>\n",
       "      <td>2.357143</td>\n",
       "      <td>90.0</td>\n",
       "      <td>22.965204</td>\n",
       "      <td>5400</td>\n",
       "    </tr>\n",
       "    <tr>\n",
       "      <th>5</th>\n",
       "      <td>Alvaro Ortiz</td>\n",
       "      <td>71.75</td>\n",
       "      <td>0.294275</td>\n",
       "      <td>81.825</td>\n",
       "      <td>0.0777</td>\n",
       "      <td>76.3625</td>\n",
       "      <td>0.148825</td>\n",
       "      <td>77.975</td>\n",
       "      <td>0.06785</td>\n",
       "      <td>79.625</td>\n",
       "      <td>0.080738</td>\n",
       "      <td>74.2875</td>\n",
       "      <td>22.274875</td>\n",
       "      <td>91.375</td>\n",
       "      <td>3.065125</td>\n",
       "      <td>70.9</td>\n",
       "      <td>4.014625</td>\n",
       "      <td>86.45</td>\n",
       "      <td>4.60325</td>\n",
       "      <td>88.2125</td>\n",
       "      <td>179.0125</td>\n",
       "      <td>95.3875</td>\n",
       "      <td>300.4025</td>\n",
       "      <td>83.625</td>\n",
       "      <td>60.204</td>\n",
       "      <td>90.3125</td>\n",
       "      <td>65.55875</td>\n",
       "      <td>92.0125</td>\n",
       "      <td>60.345</td>\n",
       "      <td>351.0</td>\n",
       "      <td>0.4061</td>\n",
       "      <td>2025.0</td>\n",
       "      <td>1000.0</td>\n",
       "      <td>0.000000</td>\n",
       "      <td>0.000</td>\n",
       "      <td>0.000000</td>\n",
       "      <td>0.000000</td>\n",
       "      <td>90.0</td>\n",
       "      <td>129.840000</td>\n",
       "      <td>5600</td>\n",
       "    </tr>\n",
       "    <tr>\n",
       "      <th>6</th>\n",
       "      <td>Andrea Pavan</td>\n",
       "      <td>71.75</td>\n",
       "      <td>0.294275</td>\n",
       "      <td>81.825</td>\n",
       "      <td>0.0777</td>\n",
       "      <td>76.3625</td>\n",
       "      <td>0.148825</td>\n",
       "      <td>77.975</td>\n",
       "      <td>0.06785</td>\n",
       "      <td>79.625</td>\n",
       "      <td>0.080738</td>\n",
       "      <td>74.2875</td>\n",
       "      <td>22.274875</td>\n",
       "      <td>91.375</td>\n",
       "      <td>3.065125</td>\n",
       "      <td>70.9</td>\n",
       "      <td>4.014625</td>\n",
       "      <td>86.45</td>\n",
       "      <td>4.60325</td>\n",
       "      <td>88.2125</td>\n",
       "      <td>179.0125</td>\n",
       "      <td>95.3875</td>\n",
       "      <td>300.4025</td>\n",
       "      <td>83.625</td>\n",
       "      <td>60.204</td>\n",
       "      <td>90.3125</td>\n",
       "      <td>65.55875</td>\n",
       "      <td>92.0125</td>\n",
       "      <td>60.345</td>\n",
       "      <td>297.0</td>\n",
       "      <td>0.4834</td>\n",
       "      <td>2025.0</td>\n",
       "      <td>1000.0</td>\n",
       "      <td>66.726531</td>\n",
       "      <td>0.000</td>\n",
       "      <td>44.623061</td>\n",
       "      <td>2.357143</td>\n",
       "      <td>90.0</td>\n",
       "      <td>22.965204</td>\n",
       "      <td>5700</td>\n",
       "    </tr>\n",
       "    <tr>\n",
       "      <th>7</th>\n",
       "      <td>Andrew Novak</td>\n",
       "      <td>43.00</td>\n",
       "      <td>0.537000</td>\n",
       "      <td>48.000</td>\n",
       "      <td>0.2390</td>\n",
       "      <td>86.0000</td>\n",
       "      <td>0.048000</td>\n",
       "      <td>29.000</td>\n",
       "      <td>0.25100</td>\n",
       "      <td>82.000</td>\n",
       "      <td>0.077000</td>\n",
       "      <td>115.0000</td>\n",
       "      <td>21.010000</td>\n",
       "      <td>159.000</td>\n",
       "      <td>3.130000</td>\n",
       "      <td>103.0</td>\n",
       "      <td>4.030000</td>\n",
       "      <td>45.00</td>\n",
       "      <td>4.56000</td>\n",
       "      <td>138.0000</td>\n",
       "      <td>215.0000</td>\n",
       "      <td>103.0000</td>\n",
       "      <td>299.4000</td>\n",
       "      <td>112.000</td>\n",
       "      <td>57.720</td>\n",
       "      <td>167.0000</td>\n",
       "      <td>61.21000</td>\n",
       "      <td>45.0000</td>\n",
       "      <td>62.760</td>\n",
       "      <td>36.0</td>\n",
       "      <td>2.5563</td>\n",
       "      <td>2025.0</td>\n",
       "      <td>150.0</td>\n",
       "      <td>60.900000</td>\n",
       "      <td>1513.100</td>\n",
       "      <td>65.790000</td>\n",
       "      <td>2.000000</td>\n",
       "      <td>46.7</td>\n",
       "      <td>14.690000</td>\n",
       "      <td>6300</td>\n",
       "    </tr>\n",
       "    <tr>\n",
       "      <th>8</th>\n",
       "      <td>Austen Truslow</td>\n",
       "      <td>71.75</td>\n",
       "      <td>0.294275</td>\n",
       "      <td>81.825</td>\n",
       "      <td>0.0777</td>\n",
       "      <td>76.3625</td>\n",
       "      <td>0.148825</td>\n",
       "      <td>77.975</td>\n",
       "      <td>0.06785</td>\n",
       "      <td>79.625</td>\n",
       "      <td>0.080738</td>\n",
       "      <td>74.2875</td>\n",
       "      <td>22.274875</td>\n",
       "      <td>91.375</td>\n",
       "      <td>3.065125</td>\n",
       "      <td>70.9</td>\n",
       "      <td>4.014625</td>\n",
       "      <td>86.45</td>\n",
       "      <td>4.60325</td>\n",
       "      <td>88.2125</td>\n",
       "      <td>179.0125</td>\n",
       "      <td>95.3875</td>\n",
       "      <td>300.4025</td>\n",
       "      <td>83.625</td>\n",
       "      <td>60.204</td>\n",
       "      <td>90.3125</td>\n",
       "      <td>65.55875</td>\n",
       "      <td>92.0125</td>\n",
       "      <td>60.345</td>\n",
       "      <td>997.0</td>\n",
       "      <td>0.0819</td>\n",
       "      <td>2025.0</td>\n",
       "      <td>1000.0</td>\n",
       "      <td>66.726531</td>\n",
       "      <td>0.000</td>\n",
       "      <td>44.623061</td>\n",
       "      <td>2.357143</td>\n",
       "      <td>90.0</td>\n",
       "      <td>22.965204</td>\n",
       "      <td>5200</td>\n",
       "    </tr>\n",
       "    <tr>\n",
       "      <th>9</th>\n",
       "      <td>Ben Griffin</td>\n",
       "      <td>33.00</td>\n",
       "      <td>0.706000</td>\n",
       "      <td>58.000</td>\n",
       "      <td>0.2160</td>\n",
       "      <td>42.0000</td>\n",
       "      <td>0.335000</td>\n",
       "      <td>52.000</td>\n",
       "      <td>0.15600</td>\n",
       "      <td>50.000</td>\n",
       "      <td>0.198000</td>\n",
       "      <td>53.0000</td>\n",
       "      <td>22.570000</td>\n",
       "      <td>44.000</td>\n",
       "      <td>3.030000</td>\n",
       "      <td>42.0</td>\n",
       "      <td>4.000000</td>\n",
       "      <td>45.00</td>\n",
       "      <td>4.56000</td>\n",
       "      <td>72.0000</td>\n",
       "      <td>171.0000</td>\n",
       "      <td>70.0000</td>\n",
       "      <td>303.6000</td>\n",
       "      <td>101.000</td>\n",
       "      <td>58.800</td>\n",
       "      <td>30.0000</td>\n",
       "      <td>68.75000</td>\n",
       "      <td>104.0000</td>\n",
       "      <td>59.720</td>\n",
       "      <td>15.0</td>\n",
       "      <td>3.7290</td>\n",
       "      <td>2025.0</td>\n",
       "      <td>70.0</td>\n",
       "      <td>80.000000</td>\n",
       "      <td>1784.496</td>\n",
       "      <td>71.380000</td>\n",
       "      <td>4.000000</td>\n",
       "      <td>37.4</td>\n",
       "      <td>11.480000</td>\n",
       "      <td>7200</td>\n",
       "    </tr>\n",
       "  </tbody>\n",
       "</table>\n",
       "</div>"
      ],
      "text/plain": [
       "              PLAYER  SGTTG_RANK     SGTTG  SGOTT_RANK   SGOTT  SGAPR_RANK  \\\n",
       "0          Aaron Rai       27.00  0.732000      28.000  0.3490     32.0000   \n",
       "1        Adam Schenk      129.00 -0.200000     107.000 -0.0130    118.0000   \n",
       "2         Adam Scott       68.00  0.237000      54.000  0.2270    133.0000   \n",
       "3      Akshay Bhatia       72.00  0.227000     101.000  0.0050     21.0000   \n",
       "4  Alistair Docherty       71.75  0.294275      81.825  0.0777     76.3625   \n",
       "5       Alvaro Ortiz       71.75  0.294275      81.825  0.0777     76.3625   \n",
       "6       Andrea Pavan       71.75  0.294275      81.825  0.0777     76.3625   \n",
       "7       Andrew Novak       43.00  0.537000      48.000  0.2390     86.0000   \n",
       "8     Austen Truslow       71.75  0.294275      81.825  0.0777     76.3625   \n",
       "9        Ben Griffin       33.00  0.706000      58.000  0.2160     42.0000   \n",
       "\n",
       "      SGAPR  SGATG_RANK    SGATG  SGP_RANK       SGP  BIRDIES_RANK    BIRDIES  \\\n",
       "0  0.403000     103.000 -0.01900   127.000 -0.137000       42.0000  22.920000   \n",
       "1 -0.102000     121.000 -0.08500   110.000 -0.045000       92.0000  21.680000   \n",
       "2 -0.199000      38.000  0.20800   103.000 -0.021000       76.0000  22.080000   \n",
       "3  0.494000     155.000 -0.27200    12.000  0.502000        7.0000  25.220000   \n",
       "4  0.148825      77.975  0.06785    79.625  0.080738       74.2875  22.274875   \n",
       "5  0.148825      77.975  0.06785    79.625  0.080738       74.2875  22.274875   \n",
       "6  0.148825      77.975  0.06785    79.625  0.080738       74.2875  22.274875   \n",
       "7  0.048000      29.000  0.25100    82.000  0.077000      115.0000  21.010000   \n",
       "8  0.148825      77.975  0.06785    79.625  0.080738       74.2875  22.274875   \n",
       "9  0.335000      52.000  0.15600    50.000  0.198000       53.0000  22.570000   \n",
       "\n",
       "   PAR_3_RANK     PAR_3  PAR_4_RANK     PAR_4  PAR_5_RANK    PAR_5  \\\n",
       "0     178.000  3.210000         7.0  3.960000       32.00  4.55000   \n",
       "1      44.000  3.030000       155.0  4.070000       32.00  4.55000   \n",
       "2     123.000  3.090000       140.0  4.060000       45.00  4.56000   \n",
       "3       4.000  2.960000        42.0  4.000000      162.00  4.70000   \n",
       "4      91.375  3.065125        70.9  4.014625       86.45  4.60325   \n",
       "5      91.375  3.065125        70.9  4.014625       86.45  4.60325   \n",
       "6      91.375  3.065125        70.9  4.014625       86.45  4.60325   \n",
       "7     159.000  3.130000       103.0  4.030000       45.00  4.56000   \n",
       "8      91.375  3.065125        70.9  4.014625       86.45  4.60325   \n",
       "9      44.000  3.030000        42.0  4.000000       45.00  4.56000   \n",
       "\n",
       "   TOTAL_DRIVING_RANK  TOTAL_DRIVING  DRIVING_DISTANCE_RANK  DRIVING_DISTANCE  \\\n",
       "0             76.0000       172.0000               171.0000          286.6000   \n",
       "1            133.0000       211.0000                42.0000          306.8000   \n",
       "2            133.0000       211.0000                85.0000          301.8000   \n",
       "3            136.0000       214.0000               158.0000          292.4000   \n",
       "4             88.2125       179.0125                95.3875          300.4025   \n",
       "5             88.2125       179.0125                95.3875          300.4025   \n",
       "6             88.2125       179.0125                95.3875          300.4025   \n",
       "7            138.0000       215.0000               103.0000          299.4000   \n",
       "8             88.2125       179.0125                95.3875          300.4025   \n",
       "9             72.0000       171.0000                70.0000          303.6000   \n",
       "\n",
       "   DRIVING_ACCURACY_RANK  DRIVING_ACCURACY  GIR_RANK       GIR  \\\n",
       "0                  1.000            73.430   19.0000  69.21000   \n",
       "1                169.000            51.750  165.0000  61.65000   \n",
       "2                126.000            56.610  134.0000  63.75000   \n",
       "3                 56.000            61.710   55.0000  66.56000   \n",
       "4                 83.625            60.204   90.3125  65.55875   \n",
       "5                 83.625            60.204   90.3125  65.55875   \n",
       "6                 83.625            60.204   90.3125  65.55875   \n",
       "7                112.000            57.720  167.0000  61.21000   \n",
       "8                 83.625            60.204   90.3125  65.55875   \n",
       "9                101.000            58.800   30.0000  68.75000   \n",
       "\n",
       "   SCRAMBLING_RANK  SCRAMBLING  OWGR_RANK    OWGR  SEASON  VEGAS_ODDS  \\\n",
       "0         129.0000      58.270       33.0  2.6441  2025.0       125.0   \n",
       "1          90.0000      60.420      152.0  0.8818  2025.0      1000.0   \n",
       "2         130.0000      58.240       42.0  2.3231  2025.0       150.0   \n",
       "3         159.0000      56.150       30.0  2.6998  2025.0       125.0   \n",
       "4          92.0125      60.345      250.0  0.5759  2025.0      1000.0   \n",
       "5          92.0125      60.345      351.0  0.4061  2025.0      1000.0   \n",
       "6          92.0125      60.345      297.0  0.4834  2025.0      1000.0   \n",
       "7          45.0000      62.760       36.0  2.5563  2025.0       150.0   \n",
       "8          92.0125      60.345      997.0  0.0819  2025.0      1000.0   \n",
       "9         104.0000      59.720       15.0  3.7290  2025.0        70.0   \n",
       "\n",
       "   CUT_PERCENTAGE  FEDEX_CUP_POINTS  form_density  CONSECUTIVE_CUTS  \\\n",
       "0       73.300000           577.480     38.500000          0.000000   \n",
       "1       42.100000           257.854     13.570000          1.000000   \n",
       "2       81.800000           264.810     24.070000          4.000000   \n",
       "3       80.000000           800.240     53.350000          2.000000   \n",
       "4       66.726531             0.000     44.623061          2.357143   \n",
       "5        0.000000             0.000      0.000000          0.000000   \n",
       "6       66.726531             0.000     44.623061          2.357143   \n",
       "7       60.900000          1513.100     65.790000          2.000000   \n",
       "8       66.726531             0.000     44.623061          2.357143   \n",
       "9       80.000000          1784.496     71.380000          4.000000   \n",
       "\n",
       "   RECENT_FORM    adj_form  SALARY  \n",
       "0         40.1   14.460000    6400  \n",
       "1         67.5   22.530000    5600  \n",
       "2         43.6   17.550000    6600  \n",
       "3         36.6   13.200000    6700  \n",
       "4         90.0   22.965204    5400  \n",
       "5         90.0  129.840000    5600  \n",
       "6         90.0   22.965204    5700  \n",
       "7         46.7   14.690000    6300  \n",
       "8         90.0   22.965204    5200  \n",
       "9         37.4   11.480000    7200  "
      ]
     },
     "execution_count": 52,
     "metadata": {},
     "output_type": "execute_result"
    }
   ],
   "source": [
    "this_week.head(10)"
   ]
  },
  {
   "cell_type": "markdown",
   "id": "e37950e7",
   "metadata": {},
   "source": [
    "## Correlations\n",
    "**Last 4 Years**"
   ]
  },
  {
   "cell_type": "code",
   "execution_count": 53,
   "id": "d749a70f",
   "metadata": {},
   "outputs": [
    {
     "data": {
      "application/vnd.plotly.v1+json": {
       "config": {
        "plotlyServerURL": "https://plot.ly"
       },
       "data": [
        {
         "hovertemplate": "Feature=%{x}<br>Correlation=%{y}<extra></extra>",
         "legendgroup": "",
         "marker": {
          "color": "#636efa",
          "pattern": {
           "shape": ""
          }
         },
         "name": "",
         "orientation": "v",
         "showlegend": false,
         "textposition": "auto",
         "type": "bar",
         "x": [
          "OWGR",
          "VEGAS_ODDS",
          "RECENT_FORM",
          "SGTTG",
          "PAR_4",
          "FEDEX_CUP_POINTS",
          "PAR_4_RANK",
          "SGTTG_RANK",
          "OWGR_RANK",
          "GIR_RANK",
          "SGAPR",
          "BIRDIES",
          "PAR_5_RANK",
          "SGAPR_RANK",
          "form_density",
          "GIR",
          "PAR_5",
          "BIRDIES_RANK",
          "SGOTT",
          "TOTAL_DRIVING_RANK",
          "adj_form",
          "TOTAL_DRIVING",
          "CONSECUTIVE_CUTS",
          "SGOTT_RANK",
          "DRIVING_DISTANCE",
          "SCRAMBLING",
          "DRIVING_DISTANCE_RANK",
          "SGATG",
          "SGATG_RANK",
          "CUT_PERCENTAGE",
          "PAR_3_RANK",
          "SCRAMBLING_RANK",
          "SGP",
          "SGP_RANK",
          "PAR_3",
          "DRIVING_ACCURACY",
          "DRIVING_ACCURACY_RANK"
         ],
         "xaxis": "x",
         "y": {
          "bdata": "1aAN2QIL4j/HG+a74EvdP2sIa+dpT9c/AivPJ1Hv1j8MGmBksY3VP5oBUWy1JdU/5sePNo371D/F5LTjKtHUP2j4+FbjndQ/30ybns+m0D+ZUSaixaTQP4bKoaKYHs8/2VILq8q9zT/d722IV6rNP2pKiRdTX80/n2mh50AUzT/Ee2mnU//MP6aU1v7+KMs/anie1k5uyD8YHRDK6IDHP0W3ywVhBMc/N9o5aih3wz/U8m2IAm3CPw6ETcqsW8E/y4NO5Wzmvz86iI6ibSu+P4oG1QNBQr0/6JxhGkgvvT9g+LFHX5e8P6p2YUgf77s/w9K2N/+ltD8qQ/YcEPezPw5Q7AXipqw/VrRLM+acnj8+v2K6CsCaP7CeJTcj7Jc/5Y4Mus3kUT8=",
          "dtype": "f8"
         },
         "yaxis": "y"
        }
       ],
       "layout": {
        "barmode": "relative",
        "height": 500,
        "legend": {
         "tracegroupgap": 0
        },
        "template": {
         "data": {
          "bar": [
           {
            "error_x": {
             "color": "#f2f5fa"
            },
            "error_y": {
             "color": "#f2f5fa"
            },
            "marker": {
             "line": {
              "color": "rgb(17,17,17)",
              "width": 0.5
             },
             "pattern": {
              "fillmode": "overlay",
              "size": 10,
              "solidity": 0.2
             }
            },
            "type": "bar"
           }
          ],
          "barpolar": [
           {
            "marker": {
             "line": {
              "color": "rgb(17,17,17)",
              "width": 0.5
             },
             "pattern": {
              "fillmode": "overlay",
              "size": 10,
              "solidity": 0.2
             }
            },
            "type": "barpolar"
           }
          ],
          "carpet": [
           {
            "aaxis": {
             "endlinecolor": "#A2B1C6",
             "gridcolor": "#506784",
             "linecolor": "#506784",
             "minorgridcolor": "#506784",
             "startlinecolor": "#A2B1C6"
            },
            "baxis": {
             "endlinecolor": "#A2B1C6",
             "gridcolor": "#506784",
             "linecolor": "#506784",
             "minorgridcolor": "#506784",
             "startlinecolor": "#A2B1C6"
            },
            "type": "carpet"
           }
          ],
          "choropleth": [
           {
            "colorbar": {
             "outlinewidth": 0,
             "ticks": ""
            },
            "type": "choropleth"
           }
          ],
          "contour": [
           {
            "colorbar": {
             "outlinewidth": 0,
             "ticks": ""
            },
            "colorscale": [
             [
              0,
              "#0d0887"
             ],
             [
              0.1111111111111111,
              "#46039f"
             ],
             [
              0.2222222222222222,
              "#7201a8"
             ],
             [
              0.3333333333333333,
              "#9c179e"
             ],
             [
              0.4444444444444444,
              "#bd3786"
             ],
             [
              0.5555555555555556,
              "#d8576b"
             ],
             [
              0.6666666666666666,
              "#ed7953"
             ],
             [
              0.7777777777777778,
              "#fb9f3a"
             ],
             [
              0.8888888888888888,
              "#fdca26"
             ],
             [
              1,
              "#f0f921"
             ]
            ],
            "type": "contour"
           }
          ],
          "contourcarpet": [
           {
            "colorbar": {
             "outlinewidth": 0,
             "ticks": ""
            },
            "type": "contourcarpet"
           }
          ],
          "heatmap": [
           {
            "colorbar": {
             "outlinewidth": 0,
             "ticks": ""
            },
            "colorscale": [
             [
              0,
              "#0d0887"
             ],
             [
              0.1111111111111111,
              "#46039f"
             ],
             [
              0.2222222222222222,
              "#7201a8"
             ],
             [
              0.3333333333333333,
              "#9c179e"
             ],
             [
              0.4444444444444444,
              "#bd3786"
             ],
             [
              0.5555555555555556,
              "#d8576b"
             ],
             [
              0.6666666666666666,
              "#ed7953"
             ],
             [
              0.7777777777777778,
              "#fb9f3a"
             ],
             [
              0.8888888888888888,
              "#fdca26"
             ],
             [
              1,
              "#f0f921"
             ]
            ],
            "type": "heatmap"
           }
          ],
          "histogram": [
           {
            "marker": {
             "pattern": {
              "fillmode": "overlay",
              "size": 10,
              "solidity": 0.2
             }
            },
            "type": "histogram"
           }
          ],
          "histogram2d": [
           {
            "colorbar": {
             "outlinewidth": 0,
             "ticks": ""
            },
            "colorscale": [
             [
              0,
              "#0d0887"
             ],
             [
              0.1111111111111111,
              "#46039f"
             ],
             [
              0.2222222222222222,
              "#7201a8"
             ],
             [
              0.3333333333333333,
              "#9c179e"
             ],
             [
              0.4444444444444444,
              "#bd3786"
             ],
             [
              0.5555555555555556,
              "#d8576b"
             ],
             [
              0.6666666666666666,
              "#ed7953"
             ],
             [
              0.7777777777777778,
              "#fb9f3a"
             ],
             [
              0.8888888888888888,
              "#fdca26"
             ],
             [
              1,
              "#f0f921"
             ]
            ],
            "type": "histogram2d"
           }
          ],
          "histogram2dcontour": [
           {
            "colorbar": {
             "outlinewidth": 0,
             "ticks": ""
            },
            "colorscale": [
             [
              0,
              "#0d0887"
             ],
             [
              0.1111111111111111,
              "#46039f"
             ],
             [
              0.2222222222222222,
              "#7201a8"
             ],
             [
              0.3333333333333333,
              "#9c179e"
             ],
             [
              0.4444444444444444,
              "#bd3786"
             ],
             [
              0.5555555555555556,
              "#d8576b"
             ],
             [
              0.6666666666666666,
              "#ed7953"
             ],
             [
              0.7777777777777778,
              "#fb9f3a"
             ],
             [
              0.8888888888888888,
              "#fdca26"
             ],
             [
              1,
              "#f0f921"
             ]
            ],
            "type": "histogram2dcontour"
           }
          ],
          "mesh3d": [
           {
            "colorbar": {
             "outlinewidth": 0,
             "ticks": ""
            },
            "type": "mesh3d"
           }
          ],
          "parcoords": [
           {
            "line": {
             "colorbar": {
              "outlinewidth": 0,
              "ticks": ""
             }
            },
            "type": "parcoords"
           }
          ],
          "pie": [
           {
            "automargin": true,
            "type": "pie"
           }
          ],
          "scatter": [
           {
            "marker": {
             "line": {
              "color": "#283442"
             }
            },
            "type": "scatter"
           }
          ],
          "scatter3d": [
           {
            "line": {
             "colorbar": {
              "outlinewidth": 0,
              "ticks": ""
             }
            },
            "marker": {
             "colorbar": {
              "outlinewidth": 0,
              "ticks": ""
             }
            },
            "type": "scatter3d"
           }
          ],
          "scattercarpet": [
           {
            "marker": {
             "colorbar": {
              "outlinewidth": 0,
              "ticks": ""
             }
            },
            "type": "scattercarpet"
           }
          ],
          "scattergeo": [
           {
            "marker": {
             "colorbar": {
              "outlinewidth": 0,
              "ticks": ""
             }
            },
            "type": "scattergeo"
           }
          ],
          "scattergl": [
           {
            "marker": {
             "line": {
              "color": "#283442"
             }
            },
            "type": "scattergl"
           }
          ],
          "scattermap": [
           {
            "marker": {
             "colorbar": {
              "outlinewidth": 0,
              "ticks": ""
             }
            },
            "type": "scattermap"
           }
          ],
          "scattermapbox": [
           {
            "marker": {
             "colorbar": {
              "outlinewidth": 0,
              "ticks": ""
             }
            },
            "type": "scattermapbox"
           }
          ],
          "scatterpolar": [
           {
            "marker": {
             "colorbar": {
              "outlinewidth": 0,
              "ticks": ""
             }
            },
            "type": "scatterpolar"
           }
          ],
          "scatterpolargl": [
           {
            "marker": {
             "colorbar": {
              "outlinewidth": 0,
              "ticks": ""
             }
            },
            "type": "scatterpolargl"
           }
          ],
          "scatterternary": [
           {
            "marker": {
             "colorbar": {
              "outlinewidth": 0,
              "ticks": ""
             }
            },
            "type": "scatterternary"
           }
          ],
          "surface": [
           {
            "colorbar": {
             "outlinewidth": 0,
             "ticks": ""
            },
            "colorscale": [
             [
              0,
              "#0d0887"
             ],
             [
              0.1111111111111111,
              "#46039f"
             ],
             [
              0.2222222222222222,
              "#7201a8"
             ],
             [
              0.3333333333333333,
              "#9c179e"
             ],
             [
              0.4444444444444444,
              "#bd3786"
             ],
             [
              0.5555555555555556,
              "#d8576b"
             ],
             [
              0.6666666666666666,
              "#ed7953"
             ],
             [
              0.7777777777777778,
              "#fb9f3a"
             ],
             [
              0.8888888888888888,
              "#fdca26"
             ],
             [
              1,
              "#f0f921"
             ]
            ],
            "type": "surface"
           }
          ],
          "table": [
           {
            "cells": {
             "fill": {
              "color": "#506784"
             },
             "line": {
              "color": "rgb(17,17,17)"
             }
            },
            "header": {
             "fill": {
              "color": "#2a3f5f"
             },
             "line": {
              "color": "rgb(17,17,17)"
             }
            },
            "type": "table"
           }
          ]
         },
         "layout": {
          "annotationdefaults": {
           "arrowcolor": "#f2f5fa",
           "arrowhead": 0,
           "arrowwidth": 1
          },
          "autotypenumbers": "strict",
          "coloraxis": {
           "colorbar": {
            "outlinewidth": 0,
            "ticks": ""
           }
          },
          "colorscale": {
           "diverging": [
            [
             0,
             "#8e0152"
            ],
            [
             0.1,
             "#c51b7d"
            ],
            [
             0.2,
             "#de77ae"
            ],
            [
             0.3,
             "#f1b6da"
            ],
            [
             0.4,
             "#fde0ef"
            ],
            [
             0.5,
             "#f7f7f7"
            ],
            [
             0.6,
             "#e6f5d0"
            ],
            [
             0.7,
             "#b8e186"
            ],
            [
             0.8,
             "#7fbc41"
            ],
            [
             0.9,
             "#4d9221"
            ],
            [
             1,
             "#276419"
            ]
           ],
           "sequential": [
            [
             0,
             "#0d0887"
            ],
            [
             0.1111111111111111,
             "#46039f"
            ],
            [
             0.2222222222222222,
             "#7201a8"
            ],
            [
             0.3333333333333333,
             "#9c179e"
            ],
            [
             0.4444444444444444,
             "#bd3786"
            ],
            [
             0.5555555555555556,
             "#d8576b"
            ],
            [
             0.6666666666666666,
             "#ed7953"
            ],
            [
             0.7777777777777778,
             "#fb9f3a"
            ],
            [
             0.8888888888888888,
             "#fdca26"
            ],
            [
             1,
             "#f0f921"
            ]
           ],
           "sequentialminus": [
            [
             0,
             "#0d0887"
            ],
            [
             0.1111111111111111,
             "#46039f"
            ],
            [
             0.2222222222222222,
             "#7201a8"
            ],
            [
             0.3333333333333333,
             "#9c179e"
            ],
            [
             0.4444444444444444,
             "#bd3786"
            ],
            [
             0.5555555555555556,
             "#d8576b"
            ],
            [
             0.6666666666666666,
             "#ed7953"
            ],
            [
             0.7777777777777778,
             "#fb9f3a"
            ],
            [
             0.8888888888888888,
             "#fdca26"
            ],
            [
             1,
             "#f0f921"
            ]
           ]
          },
          "colorway": [
           "#636efa",
           "#EF553B",
           "#00cc96",
           "#ab63fa",
           "#FFA15A",
           "#19d3f3",
           "#FF6692",
           "#B6E880",
           "#FF97FF",
           "#FECB52"
          ],
          "font": {
           "color": "#f2f5fa"
          },
          "geo": {
           "bgcolor": "rgb(17,17,17)",
           "lakecolor": "rgb(17,17,17)",
           "landcolor": "rgb(17,17,17)",
           "showlakes": true,
           "showland": true,
           "subunitcolor": "#506784"
          },
          "hoverlabel": {
           "align": "left"
          },
          "hovermode": "closest",
          "mapbox": {
           "style": "dark"
          },
          "paper_bgcolor": "rgb(17,17,17)",
          "plot_bgcolor": "rgb(17,17,17)",
          "polar": {
           "angularaxis": {
            "gridcolor": "#506784",
            "linecolor": "#506784",
            "ticks": ""
           },
           "bgcolor": "rgb(17,17,17)",
           "radialaxis": {
            "gridcolor": "#506784",
            "linecolor": "#506784",
            "ticks": ""
           }
          },
          "scene": {
           "xaxis": {
            "backgroundcolor": "rgb(17,17,17)",
            "gridcolor": "#506784",
            "gridwidth": 2,
            "linecolor": "#506784",
            "showbackground": true,
            "ticks": "",
            "zerolinecolor": "#C8D4E3"
           },
           "yaxis": {
            "backgroundcolor": "rgb(17,17,17)",
            "gridcolor": "#506784",
            "gridwidth": 2,
            "linecolor": "#506784",
            "showbackground": true,
            "ticks": "",
            "zerolinecolor": "#C8D4E3"
           },
           "zaxis": {
            "backgroundcolor": "rgb(17,17,17)",
            "gridcolor": "#506784",
            "gridwidth": 2,
            "linecolor": "#506784",
            "showbackground": true,
            "ticks": "",
            "zerolinecolor": "#C8D4E3"
           }
          },
          "shapedefaults": {
           "line": {
            "color": "#f2f5fa"
           }
          },
          "sliderdefaults": {
           "bgcolor": "#C8D4E3",
           "bordercolor": "rgb(17,17,17)",
           "borderwidth": 1,
           "tickwidth": 0
          },
          "ternary": {
           "aaxis": {
            "gridcolor": "#506784",
            "linecolor": "#506784",
            "ticks": ""
           },
           "baxis": {
            "gridcolor": "#506784",
            "linecolor": "#506784",
            "ticks": ""
           },
           "bgcolor": "rgb(17,17,17)",
           "caxis": {
            "gridcolor": "#506784",
            "linecolor": "#506784",
            "ticks": ""
           }
          },
          "title": {
           "x": 0.05
          },
          "updatemenudefaults": {
           "bgcolor": "#506784",
           "borderwidth": 0
          },
          "xaxis": {
           "automargin": true,
           "gridcolor": "#283442",
           "linecolor": "#506784",
           "ticks": "",
           "title": {
            "standoff": 15
           },
           "zerolinecolor": "#283442",
           "zerolinewidth": 2
          },
          "yaxis": {
           "automargin": true,
           "gridcolor": "#283442",
           "linecolor": "#506784",
           "ticks": "",
           "title": {
            "standoff": 15
           },
           "zerolinecolor": "#283442",
           "zerolinewidth": 2
          }
         }
        },
        "title": {
         "text": "🔎 Correlation to TOP_20 — Season 2021"
        },
        "width": 1000,
        "xaxis": {
         "anchor": "y",
         "domain": [
          0,
          1
         ],
         "tickangle": -45,
         "title": {
          "text": "Feature"
         }
        },
        "yaxis": {
         "anchor": "x",
         "domain": [
          0,
          1
         ],
         "title": {
          "text": "Absolute Correlation to TOP_20"
         }
        }
       }
      }
     },
     "metadata": {},
     "output_type": "display_data"
    },
    {
     "data": {
      "application/vnd.plotly.v1+json": {
       "config": {
        "plotlyServerURL": "https://plot.ly"
       },
       "data": [
        {
         "hovertemplate": "Feature=%{x}<br>Correlation=%{y}<extra></extra>",
         "legendgroup": "",
         "marker": {
          "color": "#636efa",
          "pattern": {
           "shape": ""
          }
         },
         "name": "",
         "orientation": "v",
         "showlegend": false,
         "textposition": "auto",
         "type": "bar",
         "x": [
          "OWGR",
          "GIR_RANK",
          "FEDEX_CUP_POINTS",
          "GIR",
          "RECENT_FORM",
          "form_density",
          "PAR_4",
          "TOTAL_DRIVING_RANK",
          "TOTAL_DRIVING",
          "VEGAS_ODDS",
          "PAR_4_RANK",
          "SGTTG",
          "SGOTT",
          "OWGR_RANK",
          "BIRDIES",
          "DRIVING_DISTANCE",
          "SGTTG_RANK",
          "SGOTT_RANK",
          "PAR_5",
          "SGAPR_RANK",
          "SGAPR",
          "BIRDIES_RANK",
          "adj_form",
          "PAR_3_RANK",
          "PAR_3",
          "PAR_5_RANK",
          "CUT_PERCENTAGE",
          "DRIVING_DISTANCE_RANK",
          "SGP",
          "SGP_RANK",
          "SCRAMBLING",
          "CONSECUTIVE_CUTS",
          "DRIVING_ACCURACY_RANK",
          "DRIVING_ACCURACY",
          "SCRAMBLING_RANK",
          "SGATG",
          "SGATG_RANK"
         ],
         "xaxis": "x",
         "y": {
          "bdata": "MkQJQaud2z8dZjI4c/bXPxFD9I6QZ9c/nVr0c06P1j+42bKahELWP5fr4Toe7NQ/rCnophPl1D9yVAketdzUP7sjlLV059M/P8DXTIeH0z8lGYaqFdTSPwIcQDpEX9I/yGEQoWVO0j8cJK0nEKrRP41j4R6nctE/KUcp/EdR0T+82FvGbufQPwAXTu28rtA/SIoqKspB0D+lrJVhQ7jOP6BIzLt2Rc4/P7q+HtY9zT+JFufvhvHMPyXVTsLQE8w/4O6adCBNyz/whgA+wyjLP8wqwTjPvck/RNV2gWNaxj+xTREaGybBP3Z5UGiossA/T6Kks7tEwD9uYXd9UmO+P4UkO3xwz7o/3jh/5Cs/sz+HDyA2i7yyP0epNnO+F6g/h1Ekxu3gnj8=",
          "dtype": "f8"
         },
         "yaxis": "y"
        }
       ],
       "layout": {
        "barmode": "relative",
        "height": 500,
        "legend": {
         "tracegroupgap": 0
        },
        "template": {
         "data": {
          "bar": [
           {
            "error_x": {
             "color": "#f2f5fa"
            },
            "error_y": {
             "color": "#f2f5fa"
            },
            "marker": {
             "line": {
              "color": "rgb(17,17,17)",
              "width": 0.5
             },
             "pattern": {
              "fillmode": "overlay",
              "size": 10,
              "solidity": 0.2
             }
            },
            "type": "bar"
           }
          ],
          "barpolar": [
           {
            "marker": {
             "line": {
              "color": "rgb(17,17,17)",
              "width": 0.5
             },
             "pattern": {
              "fillmode": "overlay",
              "size": 10,
              "solidity": 0.2
             }
            },
            "type": "barpolar"
           }
          ],
          "carpet": [
           {
            "aaxis": {
             "endlinecolor": "#A2B1C6",
             "gridcolor": "#506784",
             "linecolor": "#506784",
             "minorgridcolor": "#506784",
             "startlinecolor": "#A2B1C6"
            },
            "baxis": {
             "endlinecolor": "#A2B1C6",
             "gridcolor": "#506784",
             "linecolor": "#506784",
             "minorgridcolor": "#506784",
             "startlinecolor": "#A2B1C6"
            },
            "type": "carpet"
           }
          ],
          "choropleth": [
           {
            "colorbar": {
             "outlinewidth": 0,
             "ticks": ""
            },
            "type": "choropleth"
           }
          ],
          "contour": [
           {
            "colorbar": {
             "outlinewidth": 0,
             "ticks": ""
            },
            "colorscale": [
             [
              0,
              "#0d0887"
             ],
             [
              0.1111111111111111,
              "#46039f"
             ],
             [
              0.2222222222222222,
              "#7201a8"
             ],
             [
              0.3333333333333333,
              "#9c179e"
             ],
             [
              0.4444444444444444,
              "#bd3786"
             ],
             [
              0.5555555555555556,
              "#d8576b"
             ],
             [
              0.6666666666666666,
              "#ed7953"
             ],
             [
              0.7777777777777778,
              "#fb9f3a"
             ],
             [
              0.8888888888888888,
              "#fdca26"
             ],
             [
              1,
              "#f0f921"
             ]
            ],
            "type": "contour"
           }
          ],
          "contourcarpet": [
           {
            "colorbar": {
             "outlinewidth": 0,
             "ticks": ""
            },
            "type": "contourcarpet"
           }
          ],
          "heatmap": [
           {
            "colorbar": {
             "outlinewidth": 0,
             "ticks": ""
            },
            "colorscale": [
             [
              0,
              "#0d0887"
             ],
             [
              0.1111111111111111,
              "#46039f"
             ],
             [
              0.2222222222222222,
              "#7201a8"
             ],
             [
              0.3333333333333333,
              "#9c179e"
             ],
             [
              0.4444444444444444,
              "#bd3786"
             ],
             [
              0.5555555555555556,
              "#d8576b"
             ],
             [
              0.6666666666666666,
              "#ed7953"
             ],
             [
              0.7777777777777778,
              "#fb9f3a"
             ],
             [
              0.8888888888888888,
              "#fdca26"
             ],
             [
              1,
              "#f0f921"
             ]
            ],
            "type": "heatmap"
           }
          ],
          "histogram": [
           {
            "marker": {
             "pattern": {
              "fillmode": "overlay",
              "size": 10,
              "solidity": 0.2
             }
            },
            "type": "histogram"
           }
          ],
          "histogram2d": [
           {
            "colorbar": {
             "outlinewidth": 0,
             "ticks": ""
            },
            "colorscale": [
             [
              0,
              "#0d0887"
             ],
             [
              0.1111111111111111,
              "#46039f"
             ],
             [
              0.2222222222222222,
              "#7201a8"
             ],
             [
              0.3333333333333333,
              "#9c179e"
             ],
             [
              0.4444444444444444,
              "#bd3786"
             ],
             [
              0.5555555555555556,
              "#d8576b"
             ],
             [
              0.6666666666666666,
              "#ed7953"
             ],
             [
              0.7777777777777778,
              "#fb9f3a"
             ],
             [
              0.8888888888888888,
              "#fdca26"
             ],
             [
              1,
              "#f0f921"
             ]
            ],
            "type": "histogram2d"
           }
          ],
          "histogram2dcontour": [
           {
            "colorbar": {
             "outlinewidth": 0,
             "ticks": ""
            },
            "colorscale": [
             [
              0,
              "#0d0887"
             ],
             [
              0.1111111111111111,
              "#46039f"
             ],
             [
              0.2222222222222222,
              "#7201a8"
             ],
             [
              0.3333333333333333,
              "#9c179e"
             ],
             [
              0.4444444444444444,
              "#bd3786"
             ],
             [
              0.5555555555555556,
              "#d8576b"
             ],
             [
              0.6666666666666666,
              "#ed7953"
             ],
             [
              0.7777777777777778,
              "#fb9f3a"
             ],
             [
              0.8888888888888888,
              "#fdca26"
             ],
             [
              1,
              "#f0f921"
             ]
            ],
            "type": "histogram2dcontour"
           }
          ],
          "mesh3d": [
           {
            "colorbar": {
             "outlinewidth": 0,
             "ticks": ""
            },
            "type": "mesh3d"
           }
          ],
          "parcoords": [
           {
            "line": {
             "colorbar": {
              "outlinewidth": 0,
              "ticks": ""
             }
            },
            "type": "parcoords"
           }
          ],
          "pie": [
           {
            "automargin": true,
            "type": "pie"
           }
          ],
          "scatter": [
           {
            "marker": {
             "line": {
              "color": "#283442"
             }
            },
            "type": "scatter"
           }
          ],
          "scatter3d": [
           {
            "line": {
             "colorbar": {
              "outlinewidth": 0,
              "ticks": ""
             }
            },
            "marker": {
             "colorbar": {
              "outlinewidth": 0,
              "ticks": ""
             }
            },
            "type": "scatter3d"
           }
          ],
          "scattercarpet": [
           {
            "marker": {
             "colorbar": {
              "outlinewidth": 0,
              "ticks": ""
             }
            },
            "type": "scattercarpet"
           }
          ],
          "scattergeo": [
           {
            "marker": {
             "colorbar": {
              "outlinewidth": 0,
              "ticks": ""
             }
            },
            "type": "scattergeo"
           }
          ],
          "scattergl": [
           {
            "marker": {
             "line": {
              "color": "#283442"
             }
            },
            "type": "scattergl"
           }
          ],
          "scattermap": [
           {
            "marker": {
             "colorbar": {
              "outlinewidth": 0,
              "ticks": ""
             }
            },
            "type": "scattermap"
           }
          ],
          "scattermapbox": [
           {
            "marker": {
             "colorbar": {
              "outlinewidth": 0,
              "ticks": ""
             }
            },
            "type": "scattermapbox"
           }
          ],
          "scatterpolar": [
           {
            "marker": {
             "colorbar": {
              "outlinewidth": 0,
              "ticks": ""
             }
            },
            "type": "scatterpolar"
           }
          ],
          "scatterpolargl": [
           {
            "marker": {
             "colorbar": {
              "outlinewidth": 0,
              "ticks": ""
             }
            },
            "type": "scatterpolargl"
           }
          ],
          "scatterternary": [
           {
            "marker": {
             "colorbar": {
              "outlinewidth": 0,
              "ticks": ""
             }
            },
            "type": "scatterternary"
           }
          ],
          "surface": [
           {
            "colorbar": {
             "outlinewidth": 0,
             "ticks": ""
            },
            "colorscale": [
             [
              0,
              "#0d0887"
             ],
             [
              0.1111111111111111,
              "#46039f"
             ],
             [
              0.2222222222222222,
              "#7201a8"
             ],
             [
              0.3333333333333333,
              "#9c179e"
             ],
             [
              0.4444444444444444,
              "#bd3786"
             ],
             [
              0.5555555555555556,
              "#d8576b"
             ],
             [
              0.6666666666666666,
              "#ed7953"
             ],
             [
              0.7777777777777778,
              "#fb9f3a"
             ],
             [
              0.8888888888888888,
              "#fdca26"
             ],
             [
              1,
              "#f0f921"
             ]
            ],
            "type": "surface"
           }
          ],
          "table": [
           {
            "cells": {
             "fill": {
              "color": "#506784"
             },
             "line": {
              "color": "rgb(17,17,17)"
             }
            },
            "header": {
             "fill": {
              "color": "#2a3f5f"
             },
             "line": {
              "color": "rgb(17,17,17)"
             }
            },
            "type": "table"
           }
          ]
         },
         "layout": {
          "annotationdefaults": {
           "arrowcolor": "#f2f5fa",
           "arrowhead": 0,
           "arrowwidth": 1
          },
          "autotypenumbers": "strict",
          "coloraxis": {
           "colorbar": {
            "outlinewidth": 0,
            "ticks": ""
           }
          },
          "colorscale": {
           "diverging": [
            [
             0,
             "#8e0152"
            ],
            [
             0.1,
             "#c51b7d"
            ],
            [
             0.2,
             "#de77ae"
            ],
            [
             0.3,
             "#f1b6da"
            ],
            [
             0.4,
             "#fde0ef"
            ],
            [
             0.5,
             "#f7f7f7"
            ],
            [
             0.6,
             "#e6f5d0"
            ],
            [
             0.7,
             "#b8e186"
            ],
            [
             0.8,
             "#7fbc41"
            ],
            [
             0.9,
             "#4d9221"
            ],
            [
             1,
             "#276419"
            ]
           ],
           "sequential": [
            [
             0,
             "#0d0887"
            ],
            [
             0.1111111111111111,
             "#46039f"
            ],
            [
             0.2222222222222222,
             "#7201a8"
            ],
            [
             0.3333333333333333,
             "#9c179e"
            ],
            [
             0.4444444444444444,
             "#bd3786"
            ],
            [
             0.5555555555555556,
             "#d8576b"
            ],
            [
             0.6666666666666666,
             "#ed7953"
            ],
            [
             0.7777777777777778,
             "#fb9f3a"
            ],
            [
             0.8888888888888888,
             "#fdca26"
            ],
            [
             1,
             "#f0f921"
            ]
           ],
           "sequentialminus": [
            [
             0,
             "#0d0887"
            ],
            [
             0.1111111111111111,
             "#46039f"
            ],
            [
             0.2222222222222222,
             "#7201a8"
            ],
            [
             0.3333333333333333,
             "#9c179e"
            ],
            [
             0.4444444444444444,
             "#bd3786"
            ],
            [
             0.5555555555555556,
             "#d8576b"
            ],
            [
             0.6666666666666666,
             "#ed7953"
            ],
            [
             0.7777777777777778,
             "#fb9f3a"
            ],
            [
             0.8888888888888888,
             "#fdca26"
            ],
            [
             1,
             "#f0f921"
            ]
           ]
          },
          "colorway": [
           "#636efa",
           "#EF553B",
           "#00cc96",
           "#ab63fa",
           "#FFA15A",
           "#19d3f3",
           "#FF6692",
           "#B6E880",
           "#FF97FF",
           "#FECB52"
          ],
          "font": {
           "color": "#f2f5fa"
          },
          "geo": {
           "bgcolor": "rgb(17,17,17)",
           "lakecolor": "rgb(17,17,17)",
           "landcolor": "rgb(17,17,17)",
           "showlakes": true,
           "showland": true,
           "subunitcolor": "#506784"
          },
          "hoverlabel": {
           "align": "left"
          },
          "hovermode": "closest",
          "mapbox": {
           "style": "dark"
          },
          "paper_bgcolor": "rgb(17,17,17)",
          "plot_bgcolor": "rgb(17,17,17)",
          "polar": {
           "angularaxis": {
            "gridcolor": "#506784",
            "linecolor": "#506784",
            "ticks": ""
           },
           "bgcolor": "rgb(17,17,17)",
           "radialaxis": {
            "gridcolor": "#506784",
            "linecolor": "#506784",
            "ticks": ""
           }
          },
          "scene": {
           "xaxis": {
            "backgroundcolor": "rgb(17,17,17)",
            "gridcolor": "#506784",
            "gridwidth": 2,
            "linecolor": "#506784",
            "showbackground": true,
            "ticks": "",
            "zerolinecolor": "#C8D4E3"
           },
           "yaxis": {
            "backgroundcolor": "rgb(17,17,17)",
            "gridcolor": "#506784",
            "gridwidth": 2,
            "linecolor": "#506784",
            "showbackground": true,
            "ticks": "",
            "zerolinecolor": "#C8D4E3"
           },
           "zaxis": {
            "backgroundcolor": "rgb(17,17,17)",
            "gridcolor": "#506784",
            "gridwidth": 2,
            "linecolor": "#506784",
            "showbackground": true,
            "ticks": "",
            "zerolinecolor": "#C8D4E3"
           }
          },
          "shapedefaults": {
           "line": {
            "color": "#f2f5fa"
           }
          },
          "sliderdefaults": {
           "bgcolor": "#C8D4E3",
           "bordercolor": "rgb(17,17,17)",
           "borderwidth": 1,
           "tickwidth": 0
          },
          "ternary": {
           "aaxis": {
            "gridcolor": "#506784",
            "linecolor": "#506784",
            "ticks": ""
           },
           "baxis": {
            "gridcolor": "#506784",
            "linecolor": "#506784",
            "ticks": ""
           },
           "bgcolor": "rgb(17,17,17)",
           "caxis": {
            "gridcolor": "#506784",
            "linecolor": "#506784",
            "ticks": ""
           }
          },
          "title": {
           "x": 0.05
          },
          "updatemenudefaults": {
           "bgcolor": "#506784",
           "borderwidth": 0
          },
          "xaxis": {
           "automargin": true,
           "gridcolor": "#283442",
           "linecolor": "#506784",
           "ticks": "",
           "title": {
            "standoff": 15
           },
           "zerolinecolor": "#283442",
           "zerolinewidth": 2
          },
          "yaxis": {
           "automargin": true,
           "gridcolor": "#283442",
           "linecolor": "#506784",
           "ticks": "",
           "title": {
            "standoff": 15
           },
           "zerolinecolor": "#283442",
           "zerolinewidth": 2
          }
         }
        },
        "title": {
         "text": "🔎 Correlation to TOP_20 — Season 2022"
        },
        "width": 1000,
        "xaxis": {
         "anchor": "y",
         "domain": [
          0,
          1
         ],
         "tickangle": -45,
         "title": {
          "text": "Feature"
         }
        },
        "yaxis": {
         "anchor": "x",
         "domain": [
          0,
          1
         ],
         "title": {
          "text": "Absolute Correlation to TOP_20"
         }
        }
       }
      }
     },
     "metadata": {},
     "output_type": "display_data"
    },
    {
     "data": {
      "application/vnd.plotly.v1+json": {
       "config": {
        "plotlyServerURL": "https://plot.ly"
       },
       "data": [
        {
         "hovertemplate": "Feature=%{x}<br>Correlation=%{y}<extra></extra>",
         "legendgroup": "",
         "marker": {
          "color": "#636efa",
          "pattern": {
           "shape": ""
          }
         },
         "name": "",
         "orientation": "v",
         "showlegend": false,
         "textposition": "auto",
         "type": "bar",
         "x": [
          "OWGR",
          "SGTTG",
          "PAR_4",
          "VEGAS_ODDS",
          "RECENT_FORM",
          "SGAPR",
          "FEDEX_CUP_POINTS",
          "TOTAL_DRIVING",
          "OWGR_RANK",
          "SGTTG_RANK",
          "BIRDIES",
          "PAR_5",
          "TOTAL_DRIVING_RANK",
          "SGOTT",
          "SGAPR_RANK",
          "PAR_4_RANK",
          "form_density",
          "SCRAMBLING",
          "SCRAMBLING_RANK",
          "PAR_3",
          "SGOTT_RANK",
          "PAR_3_RANK",
          "GIR",
          "PAR_5_RANK",
          "CONSECUTIVE_CUTS",
          "CUT_PERCENTAGE",
          "DRIVING_DISTANCE",
          "BIRDIES_RANK",
          "GIR_RANK",
          "DRIVING_ACCURACY_RANK",
          "SGP_RANK",
          "adj_form",
          "SGATG_RANK",
          "SGATG",
          "SGP",
          "DRIVING_ACCURACY",
          "DRIVING_DISTANCE_RANK"
         ],
         "xaxis": "x",
         "y": {
          "bdata": "XsW5ESDA4T9J161wESLaP4tCYXEN8dk/oH2AACPs2T8b1HJs6X/ZP/OXU4uaG9Y/RVMgMUYG1T9hNgVPGbbUP8PXNM5oadQ/7PniTFBm1D8IjwIE627TP/XE92ESZNM/qMAgoYRF0z/GAd6uJXnSP8nb0Y88MNI/8l8IbQ4r0j8Y0UZN4A/SPz4mRYfijNE/kyRIQlAC0T+i1+BU38zQPzFULKgYbdA/OHbLqt0D0D9/zYIkMejPP9zn2MdXHc8/G/Ip1vfFzT+ao97jtErNP47o93IL5sw/GncxS1s9zD9Jfbu9pWrIP/bMRt4qxcU/bAzjm6owxD8Nqdw7A7bDP3IvDrdCZcM/KZo37lZdwz+mZN+KtuXCP5zjfdmah8I/xsSGQhddwT8=",
          "dtype": "f8"
         },
         "yaxis": "y"
        }
       ],
       "layout": {
        "barmode": "relative",
        "height": 500,
        "legend": {
         "tracegroupgap": 0
        },
        "template": {
         "data": {
          "bar": [
           {
            "error_x": {
             "color": "#f2f5fa"
            },
            "error_y": {
             "color": "#f2f5fa"
            },
            "marker": {
             "line": {
              "color": "rgb(17,17,17)",
              "width": 0.5
             },
             "pattern": {
              "fillmode": "overlay",
              "size": 10,
              "solidity": 0.2
             }
            },
            "type": "bar"
           }
          ],
          "barpolar": [
           {
            "marker": {
             "line": {
              "color": "rgb(17,17,17)",
              "width": 0.5
             },
             "pattern": {
              "fillmode": "overlay",
              "size": 10,
              "solidity": 0.2
             }
            },
            "type": "barpolar"
           }
          ],
          "carpet": [
           {
            "aaxis": {
             "endlinecolor": "#A2B1C6",
             "gridcolor": "#506784",
             "linecolor": "#506784",
             "minorgridcolor": "#506784",
             "startlinecolor": "#A2B1C6"
            },
            "baxis": {
             "endlinecolor": "#A2B1C6",
             "gridcolor": "#506784",
             "linecolor": "#506784",
             "minorgridcolor": "#506784",
             "startlinecolor": "#A2B1C6"
            },
            "type": "carpet"
           }
          ],
          "choropleth": [
           {
            "colorbar": {
             "outlinewidth": 0,
             "ticks": ""
            },
            "type": "choropleth"
           }
          ],
          "contour": [
           {
            "colorbar": {
             "outlinewidth": 0,
             "ticks": ""
            },
            "colorscale": [
             [
              0,
              "#0d0887"
             ],
             [
              0.1111111111111111,
              "#46039f"
             ],
             [
              0.2222222222222222,
              "#7201a8"
             ],
             [
              0.3333333333333333,
              "#9c179e"
             ],
             [
              0.4444444444444444,
              "#bd3786"
             ],
             [
              0.5555555555555556,
              "#d8576b"
             ],
             [
              0.6666666666666666,
              "#ed7953"
             ],
             [
              0.7777777777777778,
              "#fb9f3a"
             ],
             [
              0.8888888888888888,
              "#fdca26"
             ],
             [
              1,
              "#f0f921"
             ]
            ],
            "type": "contour"
           }
          ],
          "contourcarpet": [
           {
            "colorbar": {
             "outlinewidth": 0,
             "ticks": ""
            },
            "type": "contourcarpet"
           }
          ],
          "heatmap": [
           {
            "colorbar": {
             "outlinewidth": 0,
             "ticks": ""
            },
            "colorscale": [
             [
              0,
              "#0d0887"
             ],
             [
              0.1111111111111111,
              "#46039f"
             ],
             [
              0.2222222222222222,
              "#7201a8"
             ],
             [
              0.3333333333333333,
              "#9c179e"
             ],
             [
              0.4444444444444444,
              "#bd3786"
             ],
             [
              0.5555555555555556,
              "#d8576b"
             ],
             [
              0.6666666666666666,
              "#ed7953"
             ],
             [
              0.7777777777777778,
              "#fb9f3a"
             ],
             [
              0.8888888888888888,
              "#fdca26"
             ],
             [
              1,
              "#f0f921"
             ]
            ],
            "type": "heatmap"
           }
          ],
          "histogram": [
           {
            "marker": {
             "pattern": {
              "fillmode": "overlay",
              "size": 10,
              "solidity": 0.2
             }
            },
            "type": "histogram"
           }
          ],
          "histogram2d": [
           {
            "colorbar": {
             "outlinewidth": 0,
             "ticks": ""
            },
            "colorscale": [
             [
              0,
              "#0d0887"
             ],
             [
              0.1111111111111111,
              "#46039f"
             ],
             [
              0.2222222222222222,
              "#7201a8"
             ],
             [
              0.3333333333333333,
              "#9c179e"
             ],
             [
              0.4444444444444444,
              "#bd3786"
             ],
             [
              0.5555555555555556,
              "#d8576b"
             ],
             [
              0.6666666666666666,
              "#ed7953"
             ],
             [
              0.7777777777777778,
              "#fb9f3a"
             ],
             [
              0.8888888888888888,
              "#fdca26"
             ],
             [
              1,
              "#f0f921"
             ]
            ],
            "type": "histogram2d"
           }
          ],
          "histogram2dcontour": [
           {
            "colorbar": {
             "outlinewidth": 0,
             "ticks": ""
            },
            "colorscale": [
             [
              0,
              "#0d0887"
             ],
             [
              0.1111111111111111,
              "#46039f"
             ],
             [
              0.2222222222222222,
              "#7201a8"
             ],
             [
              0.3333333333333333,
              "#9c179e"
             ],
             [
              0.4444444444444444,
              "#bd3786"
             ],
             [
              0.5555555555555556,
              "#d8576b"
             ],
             [
              0.6666666666666666,
              "#ed7953"
             ],
             [
              0.7777777777777778,
              "#fb9f3a"
             ],
             [
              0.8888888888888888,
              "#fdca26"
             ],
             [
              1,
              "#f0f921"
             ]
            ],
            "type": "histogram2dcontour"
           }
          ],
          "mesh3d": [
           {
            "colorbar": {
             "outlinewidth": 0,
             "ticks": ""
            },
            "type": "mesh3d"
           }
          ],
          "parcoords": [
           {
            "line": {
             "colorbar": {
              "outlinewidth": 0,
              "ticks": ""
             }
            },
            "type": "parcoords"
           }
          ],
          "pie": [
           {
            "automargin": true,
            "type": "pie"
           }
          ],
          "scatter": [
           {
            "marker": {
             "line": {
              "color": "#283442"
             }
            },
            "type": "scatter"
           }
          ],
          "scatter3d": [
           {
            "line": {
             "colorbar": {
              "outlinewidth": 0,
              "ticks": ""
             }
            },
            "marker": {
             "colorbar": {
              "outlinewidth": 0,
              "ticks": ""
             }
            },
            "type": "scatter3d"
           }
          ],
          "scattercarpet": [
           {
            "marker": {
             "colorbar": {
              "outlinewidth": 0,
              "ticks": ""
             }
            },
            "type": "scattercarpet"
           }
          ],
          "scattergeo": [
           {
            "marker": {
             "colorbar": {
              "outlinewidth": 0,
              "ticks": ""
             }
            },
            "type": "scattergeo"
           }
          ],
          "scattergl": [
           {
            "marker": {
             "line": {
              "color": "#283442"
             }
            },
            "type": "scattergl"
           }
          ],
          "scattermap": [
           {
            "marker": {
             "colorbar": {
              "outlinewidth": 0,
              "ticks": ""
             }
            },
            "type": "scattermap"
           }
          ],
          "scattermapbox": [
           {
            "marker": {
             "colorbar": {
              "outlinewidth": 0,
              "ticks": ""
             }
            },
            "type": "scattermapbox"
           }
          ],
          "scatterpolar": [
           {
            "marker": {
             "colorbar": {
              "outlinewidth": 0,
              "ticks": ""
             }
            },
            "type": "scatterpolar"
           }
          ],
          "scatterpolargl": [
           {
            "marker": {
             "colorbar": {
              "outlinewidth": 0,
              "ticks": ""
             }
            },
            "type": "scatterpolargl"
           }
          ],
          "scatterternary": [
           {
            "marker": {
             "colorbar": {
              "outlinewidth": 0,
              "ticks": ""
             }
            },
            "type": "scatterternary"
           }
          ],
          "surface": [
           {
            "colorbar": {
             "outlinewidth": 0,
             "ticks": ""
            },
            "colorscale": [
             [
              0,
              "#0d0887"
             ],
             [
              0.1111111111111111,
              "#46039f"
             ],
             [
              0.2222222222222222,
              "#7201a8"
             ],
             [
              0.3333333333333333,
              "#9c179e"
             ],
             [
              0.4444444444444444,
              "#bd3786"
             ],
             [
              0.5555555555555556,
              "#d8576b"
             ],
             [
              0.6666666666666666,
              "#ed7953"
             ],
             [
              0.7777777777777778,
              "#fb9f3a"
             ],
             [
              0.8888888888888888,
              "#fdca26"
             ],
             [
              1,
              "#f0f921"
             ]
            ],
            "type": "surface"
           }
          ],
          "table": [
           {
            "cells": {
             "fill": {
              "color": "#506784"
             },
             "line": {
              "color": "rgb(17,17,17)"
             }
            },
            "header": {
             "fill": {
              "color": "#2a3f5f"
             },
             "line": {
              "color": "rgb(17,17,17)"
             }
            },
            "type": "table"
           }
          ]
         },
         "layout": {
          "annotationdefaults": {
           "arrowcolor": "#f2f5fa",
           "arrowhead": 0,
           "arrowwidth": 1
          },
          "autotypenumbers": "strict",
          "coloraxis": {
           "colorbar": {
            "outlinewidth": 0,
            "ticks": ""
           }
          },
          "colorscale": {
           "diverging": [
            [
             0,
             "#8e0152"
            ],
            [
             0.1,
             "#c51b7d"
            ],
            [
             0.2,
             "#de77ae"
            ],
            [
             0.3,
             "#f1b6da"
            ],
            [
             0.4,
             "#fde0ef"
            ],
            [
             0.5,
             "#f7f7f7"
            ],
            [
             0.6,
             "#e6f5d0"
            ],
            [
             0.7,
             "#b8e186"
            ],
            [
             0.8,
             "#7fbc41"
            ],
            [
             0.9,
             "#4d9221"
            ],
            [
             1,
             "#276419"
            ]
           ],
           "sequential": [
            [
             0,
             "#0d0887"
            ],
            [
             0.1111111111111111,
             "#46039f"
            ],
            [
             0.2222222222222222,
             "#7201a8"
            ],
            [
             0.3333333333333333,
             "#9c179e"
            ],
            [
             0.4444444444444444,
             "#bd3786"
            ],
            [
             0.5555555555555556,
             "#d8576b"
            ],
            [
             0.6666666666666666,
             "#ed7953"
            ],
            [
             0.7777777777777778,
             "#fb9f3a"
            ],
            [
             0.8888888888888888,
             "#fdca26"
            ],
            [
             1,
             "#f0f921"
            ]
           ],
           "sequentialminus": [
            [
             0,
             "#0d0887"
            ],
            [
             0.1111111111111111,
             "#46039f"
            ],
            [
             0.2222222222222222,
             "#7201a8"
            ],
            [
             0.3333333333333333,
             "#9c179e"
            ],
            [
             0.4444444444444444,
             "#bd3786"
            ],
            [
             0.5555555555555556,
             "#d8576b"
            ],
            [
             0.6666666666666666,
             "#ed7953"
            ],
            [
             0.7777777777777778,
             "#fb9f3a"
            ],
            [
             0.8888888888888888,
             "#fdca26"
            ],
            [
             1,
             "#f0f921"
            ]
           ]
          },
          "colorway": [
           "#636efa",
           "#EF553B",
           "#00cc96",
           "#ab63fa",
           "#FFA15A",
           "#19d3f3",
           "#FF6692",
           "#B6E880",
           "#FF97FF",
           "#FECB52"
          ],
          "font": {
           "color": "#f2f5fa"
          },
          "geo": {
           "bgcolor": "rgb(17,17,17)",
           "lakecolor": "rgb(17,17,17)",
           "landcolor": "rgb(17,17,17)",
           "showlakes": true,
           "showland": true,
           "subunitcolor": "#506784"
          },
          "hoverlabel": {
           "align": "left"
          },
          "hovermode": "closest",
          "mapbox": {
           "style": "dark"
          },
          "paper_bgcolor": "rgb(17,17,17)",
          "plot_bgcolor": "rgb(17,17,17)",
          "polar": {
           "angularaxis": {
            "gridcolor": "#506784",
            "linecolor": "#506784",
            "ticks": ""
           },
           "bgcolor": "rgb(17,17,17)",
           "radialaxis": {
            "gridcolor": "#506784",
            "linecolor": "#506784",
            "ticks": ""
           }
          },
          "scene": {
           "xaxis": {
            "backgroundcolor": "rgb(17,17,17)",
            "gridcolor": "#506784",
            "gridwidth": 2,
            "linecolor": "#506784",
            "showbackground": true,
            "ticks": "",
            "zerolinecolor": "#C8D4E3"
           },
           "yaxis": {
            "backgroundcolor": "rgb(17,17,17)",
            "gridcolor": "#506784",
            "gridwidth": 2,
            "linecolor": "#506784",
            "showbackground": true,
            "ticks": "",
            "zerolinecolor": "#C8D4E3"
           },
           "zaxis": {
            "backgroundcolor": "rgb(17,17,17)",
            "gridcolor": "#506784",
            "gridwidth": 2,
            "linecolor": "#506784",
            "showbackground": true,
            "ticks": "",
            "zerolinecolor": "#C8D4E3"
           }
          },
          "shapedefaults": {
           "line": {
            "color": "#f2f5fa"
           }
          },
          "sliderdefaults": {
           "bgcolor": "#C8D4E3",
           "bordercolor": "rgb(17,17,17)",
           "borderwidth": 1,
           "tickwidth": 0
          },
          "ternary": {
           "aaxis": {
            "gridcolor": "#506784",
            "linecolor": "#506784",
            "ticks": ""
           },
           "baxis": {
            "gridcolor": "#506784",
            "linecolor": "#506784",
            "ticks": ""
           },
           "bgcolor": "rgb(17,17,17)",
           "caxis": {
            "gridcolor": "#506784",
            "linecolor": "#506784",
            "ticks": ""
           }
          },
          "title": {
           "x": 0.05
          },
          "updatemenudefaults": {
           "bgcolor": "#506784",
           "borderwidth": 0
          },
          "xaxis": {
           "automargin": true,
           "gridcolor": "#283442",
           "linecolor": "#506784",
           "ticks": "",
           "title": {
            "standoff": 15
           },
           "zerolinecolor": "#283442",
           "zerolinewidth": 2
          },
          "yaxis": {
           "automargin": true,
           "gridcolor": "#283442",
           "linecolor": "#506784",
           "ticks": "",
           "title": {
            "standoff": 15
           },
           "zerolinecolor": "#283442",
           "zerolinewidth": 2
          }
         }
        },
        "title": {
         "text": "🔎 Correlation to TOP_20 — Season 2023"
        },
        "width": 1000,
        "xaxis": {
         "anchor": "y",
         "domain": [
          0,
          1
         ],
         "tickangle": -45,
         "title": {
          "text": "Feature"
         }
        },
        "yaxis": {
         "anchor": "x",
         "domain": [
          0,
          1
         ],
         "title": {
          "text": "Absolute Correlation to TOP_20"
         }
        }
       }
      }
     },
     "metadata": {},
     "output_type": "display_data"
    },
    {
     "data": {
      "application/vnd.plotly.v1+json": {
       "config": {
        "plotlyServerURL": "https://plot.ly"
       },
       "data": [
        {
         "hovertemplate": "Feature=%{x}<br>Correlation=%{y}<extra></extra>",
         "legendgroup": "",
         "marker": {
          "color": "#636efa",
          "pattern": {
           "shape": ""
          }
         },
         "name": "",
         "orientation": "v",
         "showlegend": false,
         "textposition": "auto",
         "type": "bar",
         "x": [
          "OWGR",
          "RECENT_FORM",
          "CONSECUTIVE_CUTS",
          "FEDEX_CUP_POINTS",
          "SGTTG",
          "SGTTG_RANK",
          "VEGAS_ODDS",
          "PAR_4",
          "form_density",
          "TOTAL_DRIVING",
          "SGOTT_RANK",
          "PAR_4_RANK",
          "BIRDIES",
          "SCRAMBLING",
          "TOTAL_DRIVING_RANK",
          "SGAPR_RANK",
          "PAR_5",
          "OWGR_RANK",
          "SGOTT",
          "SGAPR",
          "CUT_PERCENTAGE",
          "PAR_3",
          "SCRAMBLING_RANK",
          "BIRDIES_RANK",
          "PAR_3_RANK",
          "DRIVING_DISTANCE",
          "DRIVING_ACCURACY_RANK",
          "DRIVING_ACCURACY",
          "PAR_5_RANK",
          "adj_form",
          "SGP_RANK",
          "SGATG",
          "SGATG_RANK",
          "SGP",
          "GIR",
          "DRIVING_DISTANCE_RANK",
          "GIR_RANK"
         ],
         "xaxis": "x",
         "y": {
          "bdata": "1QCqTr8g3D/6l92/hZnZP2EARFoN+Ng/0TjEemt21z8O45Ppj2PWP1cW2KSoGtY/tRwAgbgJ1j9HTjl3A3zVPxLuSrfPLNU/H5xdHIOG1D9bh/+SG9rTP9yBE6JQotM/CBlVqjpo0z9JCldhO1/TP0tPT3bCP9M/4YwC+Jyk0j+eZCsf+Y7RP46kkoCrJdE/cBS7mTjz0D8eFACdgcLQP2eP7CYINNA/+EvTibHkzz//3yTjx7rPPxPh3xwwp80/WpYoJw6Oyj+ltqoenn3IP6mJa0ZwXMg/Kg3G00MZyD88hAiHgYjGP20WybYTPcY/JkH9j15IxD80SyeN1Y/DP6JhuAupoMI/TRiz1SJqwT/QWo8Fr7+3P0CH/JE3c7U/eBwAUzK9rD8=",
          "dtype": "f8"
         },
         "yaxis": "y"
        }
       ],
       "layout": {
        "barmode": "relative",
        "height": 500,
        "legend": {
         "tracegroupgap": 0
        },
        "template": {
         "data": {
          "bar": [
           {
            "error_x": {
             "color": "#f2f5fa"
            },
            "error_y": {
             "color": "#f2f5fa"
            },
            "marker": {
             "line": {
              "color": "rgb(17,17,17)",
              "width": 0.5
             },
             "pattern": {
              "fillmode": "overlay",
              "size": 10,
              "solidity": 0.2
             }
            },
            "type": "bar"
           }
          ],
          "barpolar": [
           {
            "marker": {
             "line": {
              "color": "rgb(17,17,17)",
              "width": 0.5
             },
             "pattern": {
              "fillmode": "overlay",
              "size": 10,
              "solidity": 0.2
             }
            },
            "type": "barpolar"
           }
          ],
          "carpet": [
           {
            "aaxis": {
             "endlinecolor": "#A2B1C6",
             "gridcolor": "#506784",
             "linecolor": "#506784",
             "minorgridcolor": "#506784",
             "startlinecolor": "#A2B1C6"
            },
            "baxis": {
             "endlinecolor": "#A2B1C6",
             "gridcolor": "#506784",
             "linecolor": "#506784",
             "minorgridcolor": "#506784",
             "startlinecolor": "#A2B1C6"
            },
            "type": "carpet"
           }
          ],
          "choropleth": [
           {
            "colorbar": {
             "outlinewidth": 0,
             "ticks": ""
            },
            "type": "choropleth"
           }
          ],
          "contour": [
           {
            "colorbar": {
             "outlinewidth": 0,
             "ticks": ""
            },
            "colorscale": [
             [
              0,
              "#0d0887"
             ],
             [
              0.1111111111111111,
              "#46039f"
             ],
             [
              0.2222222222222222,
              "#7201a8"
             ],
             [
              0.3333333333333333,
              "#9c179e"
             ],
             [
              0.4444444444444444,
              "#bd3786"
             ],
             [
              0.5555555555555556,
              "#d8576b"
             ],
             [
              0.6666666666666666,
              "#ed7953"
             ],
             [
              0.7777777777777778,
              "#fb9f3a"
             ],
             [
              0.8888888888888888,
              "#fdca26"
             ],
             [
              1,
              "#f0f921"
             ]
            ],
            "type": "contour"
           }
          ],
          "contourcarpet": [
           {
            "colorbar": {
             "outlinewidth": 0,
             "ticks": ""
            },
            "type": "contourcarpet"
           }
          ],
          "heatmap": [
           {
            "colorbar": {
             "outlinewidth": 0,
             "ticks": ""
            },
            "colorscale": [
             [
              0,
              "#0d0887"
             ],
             [
              0.1111111111111111,
              "#46039f"
             ],
             [
              0.2222222222222222,
              "#7201a8"
             ],
             [
              0.3333333333333333,
              "#9c179e"
             ],
             [
              0.4444444444444444,
              "#bd3786"
             ],
             [
              0.5555555555555556,
              "#d8576b"
             ],
             [
              0.6666666666666666,
              "#ed7953"
             ],
             [
              0.7777777777777778,
              "#fb9f3a"
             ],
             [
              0.8888888888888888,
              "#fdca26"
             ],
             [
              1,
              "#f0f921"
             ]
            ],
            "type": "heatmap"
           }
          ],
          "histogram": [
           {
            "marker": {
             "pattern": {
              "fillmode": "overlay",
              "size": 10,
              "solidity": 0.2
             }
            },
            "type": "histogram"
           }
          ],
          "histogram2d": [
           {
            "colorbar": {
             "outlinewidth": 0,
             "ticks": ""
            },
            "colorscale": [
             [
              0,
              "#0d0887"
             ],
             [
              0.1111111111111111,
              "#46039f"
             ],
             [
              0.2222222222222222,
              "#7201a8"
             ],
             [
              0.3333333333333333,
              "#9c179e"
             ],
             [
              0.4444444444444444,
              "#bd3786"
             ],
             [
              0.5555555555555556,
              "#d8576b"
             ],
             [
              0.6666666666666666,
              "#ed7953"
             ],
             [
              0.7777777777777778,
              "#fb9f3a"
             ],
             [
              0.8888888888888888,
              "#fdca26"
             ],
             [
              1,
              "#f0f921"
             ]
            ],
            "type": "histogram2d"
           }
          ],
          "histogram2dcontour": [
           {
            "colorbar": {
             "outlinewidth": 0,
             "ticks": ""
            },
            "colorscale": [
             [
              0,
              "#0d0887"
             ],
             [
              0.1111111111111111,
              "#46039f"
             ],
             [
              0.2222222222222222,
              "#7201a8"
             ],
             [
              0.3333333333333333,
              "#9c179e"
             ],
             [
              0.4444444444444444,
              "#bd3786"
             ],
             [
              0.5555555555555556,
              "#d8576b"
             ],
             [
              0.6666666666666666,
              "#ed7953"
             ],
             [
              0.7777777777777778,
              "#fb9f3a"
             ],
             [
              0.8888888888888888,
              "#fdca26"
             ],
             [
              1,
              "#f0f921"
             ]
            ],
            "type": "histogram2dcontour"
           }
          ],
          "mesh3d": [
           {
            "colorbar": {
             "outlinewidth": 0,
             "ticks": ""
            },
            "type": "mesh3d"
           }
          ],
          "parcoords": [
           {
            "line": {
             "colorbar": {
              "outlinewidth": 0,
              "ticks": ""
             }
            },
            "type": "parcoords"
           }
          ],
          "pie": [
           {
            "automargin": true,
            "type": "pie"
           }
          ],
          "scatter": [
           {
            "marker": {
             "line": {
              "color": "#283442"
             }
            },
            "type": "scatter"
           }
          ],
          "scatter3d": [
           {
            "line": {
             "colorbar": {
              "outlinewidth": 0,
              "ticks": ""
             }
            },
            "marker": {
             "colorbar": {
              "outlinewidth": 0,
              "ticks": ""
             }
            },
            "type": "scatter3d"
           }
          ],
          "scattercarpet": [
           {
            "marker": {
             "colorbar": {
              "outlinewidth": 0,
              "ticks": ""
             }
            },
            "type": "scattercarpet"
           }
          ],
          "scattergeo": [
           {
            "marker": {
             "colorbar": {
              "outlinewidth": 0,
              "ticks": ""
             }
            },
            "type": "scattergeo"
           }
          ],
          "scattergl": [
           {
            "marker": {
             "line": {
              "color": "#283442"
             }
            },
            "type": "scattergl"
           }
          ],
          "scattermap": [
           {
            "marker": {
             "colorbar": {
              "outlinewidth": 0,
              "ticks": ""
             }
            },
            "type": "scattermap"
           }
          ],
          "scattermapbox": [
           {
            "marker": {
             "colorbar": {
              "outlinewidth": 0,
              "ticks": ""
             }
            },
            "type": "scattermapbox"
           }
          ],
          "scatterpolar": [
           {
            "marker": {
             "colorbar": {
              "outlinewidth": 0,
              "ticks": ""
             }
            },
            "type": "scatterpolar"
           }
          ],
          "scatterpolargl": [
           {
            "marker": {
             "colorbar": {
              "outlinewidth": 0,
              "ticks": ""
             }
            },
            "type": "scatterpolargl"
           }
          ],
          "scatterternary": [
           {
            "marker": {
             "colorbar": {
              "outlinewidth": 0,
              "ticks": ""
             }
            },
            "type": "scatterternary"
           }
          ],
          "surface": [
           {
            "colorbar": {
             "outlinewidth": 0,
             "ticks": ""
            },
            "colorscale": [
             [
              0,
              "#0d0887"
             ],
             [
              0.1111111111111111,
              "#46039f"
             ],
             [
              0.2222222222222222,
              "#7201a8"
             ],
             [
              0.3333333333333333,
              "#9c179e"
             ],
             [
              0.4444444444444444,
              "#bd3786"
             ],
             [
              0.5555555555555556,
              "#d8576b"
             ],
             [
              0.6666666666666666,
              "#ed7953"
             ],
             [
              0.7777777777777778,
              "#fb9f3a"
             ],
             [
              0.8888888888888888,
              "#fdca26"
             ],
             [
              1,
              "#f0f921"
             ]
            ],
            "type": "surface"
           }
          ],
          "table": [
           {
            "cells": {
             "fill": {
              "color": "#506784"
             },
             "line": {
              "color": "rgb(17,17,17)"
             }
            },
            "header": {
             "fill": {
              "color": "#2a3f5f"
             },
             "line": {
              "color": "rgb(17,17,17)"
             }
            },
            "type": "table"
           }
          ]
         },
         "layout": {
          "annotationdefaults": {
           "arrowcolor": "#f2f5fa",
           "arrowhead": 0,
           "arrowwidth": 1
          },
          "autotypenumbers": "strict",
          "coloraxis": {
           "colorbar": {
            "outlinewidth": 0,
            "ticks": ""
           }
          },
          "colorscale": {
           "diverging": [
            [
             0,
             "#8e0152"
            ],
            [
             0.1,
             "#c51b7d"
            ],
            [
             0.2,
             "#de77ae"
            ],
            [
             0.3,
             "#f1b6da"
            ],
            [
             0.4,
             "#fde0ef"
            ],
            [
             0.5,
             "#f7f7f7"
            ],
            [
             0.6,
             "#e6f5d0"
            ],
            [
             0.7,
             "#b8e186"
            ],
            [
             0.8,
             "#7fbc41"
            ],
            [
             0.9,
             "#4d9221"
            ],
            [
             1,
             "#276419"
            ]
           ],
           "sequential": [
            [
             0,
             "#0d0887"
            ],
            [
             0.1111111111111111,
             "#46039f"
            ],
            [
             0.2222222222222222,
             "#7201a8"
            ],
            [
             0.3333333333333333,
             "#9c179e"
            ],
            [
             0.4444444444444444,
             "#bd3786"
            ],
            [
             0.5555555555555556,
             "#d8576b"
            ],
            [
             0.6666666666666666,
             "#ed7953"
            ],
            [
             0.7777777777777778,
             "#fb9f3a"
            ],
            [
             0.8888888888888888,
             "#fdca26"
            ],
            [
             1,
             "#f0f921"
            ]
           ],
           "sequentialminus": [
            [
             0,
             "#0d0887"
            ],
            [
             0.1111111111111111,
             "#46039f"
            ],
            [
             0.2222222222222222,
             "#7201a8"
            ],
            [
             0.3333333333333333,
             "#9c179e"
            ],
            [
             0.4444444444444444,
             "#bd3786"
            ],
            [
             0.5555555555555556,
             "#d8576b"
            ],
            [
             0.6666666666666666,
             "#ed7953"
            ],
            [
             0.7777777777777778,
             "#fb9f3a"
            ],
            [
             0.8888888888888888,
             "#fdca26"
            ],
            [
             1,
             "#f0f921"
            ]
           ]
          },
          "colorway": [
           "#636efa",
           "#EF553B",
           "#00cc96",
           "#ab63fa",
           "#FFA15A",
           "#19d3f3",
           "#FF6692",
           "#B6E880",
           "#FF97FF",
           "#FECB52"
          ],
          "font": {
           "color": "#f2f5fa"
          },
          "geo": {
           "bgcolor": "rgb(17,17,17)",
           "lakecolor": "rgb(17,17,17)",
           "landcolor": "rgb(17,17,17)",
           "showlakes": true,
           "showland": true,
           "subunitcolor": "#506784"
          },
          "hoverlabel": {
           "align": "left"
          },
          "hovermode": "closest",
          "mapbox": {
           "style": "dark"
          },
          "paper_bgcolor": "rgb(17,17,17)",
          "plot_bgcolor": "rgb(17,17,17)",
          "polar": {
           "angularaxis": {
            "gridcolor": "#506784",
            "linecolor": "#506784",
            "ticks": ""
           },
           "bgcolor": "rgb(17,17,17)",
           "radialaxis": {
            "gridcolor": "#506784",
            "linecolor": "#506784",
            "ticks": ""
           }
          },
          "scene": {
           "xaxis": {
            "backgroundcolor": "rgb(17,17,17)",
            "gridcolor": "#506784",
            "gridwidth": 2,
            "linecolor": "#506784",
            "showbackground": true,
            "ticks": "",
            "zerolinecolor": "#C8D4E3"
           },
           "yaxis": {
            "backgroundcolor": "rgb(17,17,17)",
            "gridcolor": "#506784",
            "gridwidth": 2,
            "linecolor": "#506784",
            "showbackground": true,
            "ticks": "",
            "zerolinecolor": "#C8D4E3"
           },
           "zaxis": {
            "backgroundcolor": "rgb(17,17,17)",
            "gridcolor": "#506784",
            "gridwidth": 2,
            "linecolor": "#506784",
            "showbackground": true,
            "ticks": "",
            "zerolinecolor": "#C8D4E3"
           }
          },
          "shapedefaults": {
           "line": {
            "color": "#f2f5fa"
           }
          },
          "sliderdefaults": {
           "bgcolor": "#C8D4E3",
           "bordercolor": "rgb(17,17,17)",
           "borderwidth": 1,
           "tickwidth": 0
          },
          "ternary": {
           "aaxis": {
            "gridcolor": "#506784",
            "linecolor": "#506784",
            "ticks": ""
           },
           "baxis": {
            "gridcolor": "#506784",
            "linecolor": "#506784",
            "ticks": ""
           },
           "bgcolor": "rgb(17,17,17)",
           "caxis": {
            "gridcolor": "#506784",
            "linecolor": "#506784",
            "ticks": ""
           }
          },
          "title": {
           "x": 0.05
          },
          "updatemenudefaults": {
           "bgcolor": "#506784",
           "borderwidth": 0
          },
          "xaxis": {
           "automargin": true,
           "gridcolor": "#283442",
           "linecolor": "#506784",
           "ticks": "",
           "title": {
            "standoff": 15
           },
           "zerolinecolor": "#283442",
           "zerolinewidth": 2
          },
          "yaxis": {
           "automargin": true,
           "gridcolor": "#283442",
           "linecolor": "#506784",
           "ticks": "",
           "title": {
            "standoff": 15
           },
           "zerolinecolor": "#283442",
           "zerolinewidth": 2
          }
         }
        },
        "title": {
         "text": "🔎 Correlation to TOP_20 — Season 2024"
        },
        "width": 1000,
        "xaxis": {
         "anchor": "y",
         "domain": [
          0,
          1
         ],
         "tickangle": -45,
         "title": {
          "text": "Feature"
         }
        },
        "yaxis": {
         "anchor": "x",
         "domain": [
          0,
          1
         ],
         "title": {
          "text": "Absolute Correlation to TOP_20"
         }
        }
       }
      }
     },
     "metadata": {},
     "output_type": "display_data"
    }
   ],
   "source": [
    "import plotly.express as px\n",
    "\n",
    "# Get the 4 most recent seasons (or fewer if not available)\n",
    "available_seasons = sorted(training_df[\"SEASON\"].unique())[-4:]\n",
    "\n",
    "# Dictionary to store correlation results\n",
    "correlation_frames = {}\n",
    "\n",
    "# Calculate correlations for each season\n",
    "for season in available_seasons:\n",
    "    df = training_df[training_df[\"SEASON\"] == season].copy()\n",
    "\n",
    "    # Numeric features only, drop final result\n",
    "    numeric = df.select_dtypes(include=[\"float64\", \"int64\"]).drop(columns=[\"FINAL_POS\", \"SEASON\"], errors=\"ignore\")\n",
    "\n",
    "    # Skip if TOP_20 is not present\n",
    "    if \"TOP_20\" not in numeric.columns:\n",
    "        continue\n",
    "\n",
    "    # Correlation with TOP_20\n",
    "    cor = numeric.corr().abs()[\"TOP_20\"].drop(\"TOP_20\", errors=\"ignore\").sort_values(ascending=False)\n",
    "    cor_df = cor.reset_index()\n",
    "    cor_df.columns = [\"Feature\", \"Correlation\"]\n",
    "    correlation_frames[season] = cor_df\n",
    "\n",
    "# Plot one bar chart per season\n",
    "for season, cor_df in correlation_frames.items():\n",
    "    fig = px.bar(\n",
    "        cor_df,\n",
    "        x=\"Feature\",\n",
    "        y=\"Correlation\",\n",
    "        title=f\"🔎 Correlation to TOP_20 — Season {int(season)}\",\n",
    "        height=500,\n",
    "        width=1000\n",
    "    )\n",
    "\n",
    "    fig.update_layout(\n",
    "        xaxis_title=\"Feature\",\n",
    "        yaxis_title=\"Absolute Correlation to TOP_20\",\n",
    "        template=\"plotly_dark\",\n",
    "        xaxis_tickangle=-45\n",
    "    )\n",
    "\n",
    "    fig.show()\n"
   ]
  },
  {
   "cell_type": "markdown",
   "id": "07c346c9",
   "metadata": {},
   "source": [
    "**Average of Last 4 Years**"
   ]
  },
  {
   "cell_type": "code",
   "execution_count": 54,
   "id": "aee0c2ea",
   "metadata": {},
   "outputs": [
    {
     "data": {
      "application/vnd.plotly.v1+json": {
       "config": {
        "plotlyServerURL": "https://plot.ly"
       },
       "data": [
        {
         "hovertemplate": "Feature=%{x}<br>Avg Correlation=%{y}<extra></extra>",
         "legendgroup": "",
         "marker": {
          "color": "#636efa",
          "pattern": {
           "shape": ""
          }
         },
         "name": "",
         "orientation": "v",
         "showlegend": false,
         "textposition": "auto",
         "type": "bar",
         "x": [
          "OWGR",
          "VEGAS_ODDS",
          "RECENT_FORM",
          "PAR_4",
          "SGTTG",
          "FEDEX_CUP_POINTS",
          "SGTTG_RANK",
          "PAR_4_RANK",
          "OWGR_RANK",
          "form_density",
          "BIRDIES",
          "TOTAL_DRIVING_RANK",
          "TOTAL_DRIVING",
          "SGAPR",
          "PAR_5",
          "SGAPR_RANK",
          "SGOTT",
          "SGOTT_RANK",
          "GIR",
          "BIRDIES_RANK",
          "CONSECUTIVE_CUTS",
          "GIR_RANK",
          "PAR_5_RANK",
          "SCRAMBLING",
          "DRIVING_DISTANCE",
          "CUT_PERCENTAGE",
          "PAR_3_RANK",
          "PAR_3",
          "adj_form",
          "SCRAMBLING_RANK",
          "DRIVING_DISTANCE_RANK",
          "SGP_RANK",
          "SGP",
          "DRIVING_ACCURACY_RANK",
          "SGATG",
          "SGATG_RANK",
          "DRIVING_ACCURACY"
         ],
         "xaxis": "x",
         "y": {
          "bdata": "W4RQGSzV3z+XnY/iUDLYP46Tm2vXKtg/I7X4fPV31j9WQBSvDXXWPzB0yul9QtY/cfPypmQO1D+2cAx8QGfTPzZmW/PB9dI//hPO8h220j84fKJHRvbRP7xcoCacyNE/1viEVem30T9+CBhKZ6nRP3CcwN8f7dA/u401v4nB0D8NLT7VenzQP0pa0Mbj0c4/cCa1nbl+zT/FqWkh2JLMP5rldpQvVcw/mLoFAB41zD94UfvNGaPLP94RiZWrTMo/2xsn/1v+yT8iaqoDCVrJP1RwunYmP8g/gRDff+QIyD9SIxa6P3rHP58UUIRNRsU/PJi5w41EwD/JHk0tp3++P1RvD37WT74/AAEif47WvT8Sr64SYMW9P7sLso/cFrw/hiA0g/yeuz8=",
          "dtype": "f8"
         },
         "yaxis": "y"
        }
       ],
       "layout": {
        "barmode": "relative",
        "height": 600,
        "legend": {
         "tracegroupgap": 0
        },
        "showlegend": false,
        "template": {
         "data": {
          "bar": [
           {
            "error_x": {
             "color": "#f2f5fa"
            },
            "error_y": {
             "color": "#f2f5fa"
            },
            "marker": {
             "line": {
              "color": "rgb(17,17,17)",
              "width": 0.5
             },
             "pattern": {
              "fillmode": "overlay",
              "size": 10,
              "solidity": 0.2
             }
            },
            "type": "bar"
           }
          ],
          "barpolar": [
           {
            "marker": {
             "line": {
              "color": "rgb(17,17,17)",
              "width": 0.5
             },
             "pattern": {
              "fillmode": "overlay",
              "size": 10,
              "solidity": 0.2
             }
            },
            "type": "barpolar"
           }
          ],
          "carpet": [
           {
            "aaxis": {
             "endlinecolor": "#A2B1C6",
             "gridcolor": "#506784",
             "linecolor": "#506784",
             "minorgridcolor": "#506784",
             "startlinecolor": "#A2B1C6"
            },
            "baxis": {
             "endlinecolor": "#A2B1C6",
             "gridcolor": "#506784",
             "linecolor": "#506784",
             "minorgridcolor": "#506784",
             "startlinecolor": "#A2B1C6"
            },
            "type": "carpet"
           }
          ],
          "choropleth": [
           {
            "colorbar": {
             "outlinewidth": 0,
             "ticks": ""
            },
            "type": "choropleth"
           }
          ],
          "contour": [
           {
            "colorbar": {
             "outlinewidth": 0,
             "ticks": ""
            },
            "colorscale": [
             [
              0,
              "#0d0887"
             ],
             [
              0.1111111111111111,
              "#46039f"
             ],
             [
              0.2222222222222222,
              "#7201a8"
             ],
             [
              0.3333333333333333,
              "#9c179e"
             ],
             [
              0.4444444444444444,
              "#bd3786"
             ],
             [
              0.5555555555555556,
              "#d8576b"
             ],
             [
              0.6666666666666666,
              "#ed7953"
             ],
             [
              0.7777777777777778,
              "#fb9f3a"
             ],
             [
              0.8888888888888888,
              "#fdca26"
             ],
             [
              1,
              "#f0f921"
             ]
            ],
            "type": "contour"
           }
          ],
          "contourcarpet": [
           {
            "colorbar": {
             "outlinewidth": 0,
             "ticks": ""
            },
            "type": "contourcarpet"
           }
          ],
          "heatmap": [
           {
            "colorbar": {
             "outlinewidth": 0,
             "ticks": ""
            },
            "colorscale": [
             [
              0,
              "#0d0887"
             ],
             [
              0.1111111111111111,
              "#46039f"
             ],
             [
              0.2222222222222222,
              "#7201a8"
             ],
             [
              0.3333333333333333,
              "#9c179e"
             ],
             [
              0.4444444444444444,
              "#bd3786"
             ],
             [
              0.5555555555555556,
              "#d8576b"
             ],
             [
              0.6666666666666666,
              "#ed7953"
             ],
             [
              0.7777777777777778,
              "#fb9f3a"
             ],
             [
              0.8888888888888888,
              "#fdca26"
             ],
             [
              1,
              "#f0f921"
             ]
            ],
            "type": "heatmap"
           }
          ],
          "histogram": [
           {
            "marker": {
             "pattern": {
              "fillmode": "overlay",
              "size": 10,
              "solidity": 0.2
             }
            },
            "type": "histogram"
           }
          ],
          "histogram2d": [
           {
            "colorbar": {
             "outlinewidth": 0,
             "ticks": ""
            },
            "colorscale": [
             [
              0,
              "#0d0887"
             ],
             [
              0.1111111111111111,
              "#46039f"
             ],
             [
              0.2222222222222222,
              "#7201a8"
             ],
             [
              0.3333333333333333,
              "#9c179e"
             ],
             [
              0.4444444444444444,
              "#bd3786"
             ],
             [
              0.5555555555555556,
              "#d8576b"
             ],
             [
              0.6666666666666666,
              "#ed7953"
             ],
             [
              0.7777777777777778,
              "#fb9f3a"
             ],
             [
              0.8888888888888888,
              "#fdca26"
             ],
             [
              1,
              "#f0f921"
             ]
            ],
            "type": "histogram2d"
           }
          ],
          "histogram2dcontour": [
           {
            "colorbar": {
             "outlinewidth": 0,
             "ticks": ""
            },
            "colorscale": [
             [
              0,
              "#0d0887"
             ],
             [
              0.1111111111111111,
              "#46039f"
             ],
             [
              0.2222222222222222,
              "#7201a8"
             ],
             [
              0.3333333333333333,
              "#9c179e"
             ],
             [
              0.4444444444444444,
              "#bd3786"
             ],
             [
              0.5555555555555556,
              "#d8576b"
             ],
             [
              0.6666666666666666,
              "#ed7953"
             ],
             [
              0.7777777777777778,
              "#fb9f3a"
             ],
             [
              0.8888888888888888,
              "#fdca26"
             ],
             [
              1,
              "#f0f921"
             ]
            ],
            "type": "histogram2dcontour"
           }
          ],
          "mesh3d": [
           {
            "colorbar": {
             "outlinewidth": 0,
             "ticks": ""
            },
            "type": "mesh3d"
           }
          ],
          "parcoords": [
           {
            "line": {
             "colorbar": {
              "outlinewidth": 0,
              "ticks": ""
             }
            },
            "type": "parcoords"
           }
          ],
          "pie": [
           {
            "automargin": true,
            "type": "pie"
           }
          ],
          "scatter": [
           {
            "marker": {
             "line": {
              "color": "#283442"
             }
            },
            "type": "scatter"
           }
          ],
          "scatter3d": [
           {
            "line": {
             "colorbar": {
              "outlinewidth": 0,
              "ticks": ""
             }
            },
            "marker": {
             "colorbar": {
              "outlinewidth": 0,
              "ticks": ""
             }
            },
            "type": "scatter3d"
           }
          ],
          "scattercarpet": [
           {
            "marker": {
             "colorbar": {
              "outlinewidth": 0,
              "ticks": ""
             }
            },
            "type": "scattercarpet"
           }
          ],
          "scattergeo": [
           {
            "marker": {
             "colorbar": {
              "outlinewidth": 0,
              "ticks": ""
             }
            },
            "type": "scattergeo"
           }
          ],
          "scattergl": [
           {
            "marker": {
             "line": {
              "color": "#283442"
             }
            },
            "type": "scattergl"
           }
          ],
          "scattermap": [
           {
            "marker": {
             "colorbar": {
              "outlinewidth": 0,
              "ticks": ""
             }
            },
            "type": "scattermap"
           }
          ],
          "scattermapbox": [
           {
            "marker": {
             "colorbar": {
              "outlinewidth": 0,
              "ticks": ""
             }
            },
            "type": "scattermapbox"
           }
          ],
          "scatterpolar": [
           {
            "marker": {
             "colorbar": {
              "outlinewidth": 0,
              "ticks": ""
             }
            },
            "type": "scatterpolar"
           }
          ],
          "scatterpolargl": [
           {
            "marker": {
             "colorbar": {
              "outlinewidth": 0,
              "ticks": ""
             }
            },
            "type": "scatterpolargl"
           }
          ],
          "scatterternary": [
           {
            "marker": {
             "colorbar": {
              "outlinewidth": 0,
              "ticks": ""
             }
            },
            "type": "scatterternary"
           }
          ],
          "surface": [
           {
            "colorbar": {
             "outlinewidth": 0,
             "ticks": ""
            },
            "colorscale": [
             [
              0,
              "#0d0887"
             ],
             [
              0.1111111111111111,
              "#46039f"
             ],
             [
              0.2222222222222222,
              "#7201a8"
             ],
             [
              0.3333333333333333,
              "#9c179e"
             ],
             [
              0.4444444444444444,
              "#bd3786"
             ],
             [
              0.5555555555555556,
              "#d8576b"
             ],
             [
              0.6666666666666666,
              "#ed7953"
             ],
             [
              0.7777777777777778,
              "#fb9f3a"
             ],
             [
              0.8888888888888888,
              "#fdca26"
             ],
             [
              1,
              "#f0f921"
             ]
            ],
            "type": "surface"
           }
          ],
          "table": [
           {
            "cells": {
             "fill": {
              "color": "#506784"
             },
             "line": {
              "color": "rgb(17,17,17)"
             }
            },
            "header": {
             "fill": {
              "color": "#2a3f5f"
             },
             "line": {
              "color": "rgb(17,17,17)"
             }
            },
            "type": "table"
           }
          ]
         },
         "layout": {
          "annotationdefaults": {
           "arrowcolor": "#f2f5fa",
           "arrowhead": 0,
           "arrowwidth": 1
          },
          "autotypenumbers": "strict",
          "coloraxis": {
           "colorbar": {
            "outlinewidth": 0,
            "ticks": ""
           }
          },
          "colorscale": {
           "diverging": [
            [
             0,
             "#8e0152"
            ],
            [
             0.1,
             "#c51b7d"
            ],
            [
             0.2,
             "#de77ae"
            ],
            [
             0.3,
             "#f1b6da"
            ],
            [
             0.4,
             "#fde0ef"
            ],
            [
             0.5,
             "#f7f7f7"
            ],
            [
             0.6,
             "#e6f5d0"
            ],
            [
             0.7,
             "#b8e186"
            ],
            [
             0.8,
             "#7fbc41"
            ],
            [
             0.9,
             "#4d9221"
            ],
            [
             1,
             "#276419"
            ]
           ],
           "sequential": [
            [
             0,
             "#0d0887"
            ],
            [
             0.1111111111111111,
             "#46039f"
            ],
            [
             0.2222222222222222,
             "#7201a8"
            ],
            [
             0.3333333333333333,
             "#9c179e"
            ],
            [
             0.4444444444444444,
             "#bd3786"
            ],
            [
             0.5555555555555556,
             "#d8576b"
            ],
            [
             0.6666666666666666,
             "#ed7953"
            ],
            [
             0.7777777777777778,
             "#fb9f3a"
            ],
            [
             0.8888888888888888,
             "#fdca26"
            ],
            [
             1,
             "#f0f921"
            ]
           ],
           "sequentialminus": [
            [
             0,
             "#0d0887"
            ],
            [
             0.1111111111111111,
             "#46039f"
            ],
            [
             0.2222222222222222,
             "#7201a8"
            ],
            [
             0.3333333333333333,
             "#9c179e"
            ],
            [
             0.4444444444444444,
             "#bd3786"
            ],
            [
             0.5555555555555556,
             "#d8576b"
            ],
            [
             0.6666666666666666,
             "#ed7953"
            ],
            [
             0.7777777777777778,
             "#fb9f3a"
            ],
            [
             0.8888888888888888,
             "#fdca26"
            ],
            [
             1,
             "#f0f921"
            ]
           ]
          },
          "colorway": [
           "#636efa",
           "#EF553B",
           "#00cc96",
           "#ab63fa",
           "#FFA15A",
           "#19d3f3",
           "#FF6692",
           "#B6E880",
           "#FF97FF",
           "#FECB52"
          ],
          "font": {
           "color": "#f2f5fa"
          },
          "geo": {
           "bgcolor": "rgb(17,17,17)",
           "lakecolor": "rgb(17,17,17)",
           "landcolor": "rgb(17,17,17)",
           "showlakes": true,
           "showland": true,
           "subunitcolor": "#506784"
          },
          "hoverlabel": {
           "align": "left"
          },
          "hovermode": "closest",
          "mapbox": {
           "style": "dark"
          },
          "paper_bgcolor": "rgb(17,17,17)",
          "plot_bgcolor": "rgb(17,17,17)",
          "polar": {
           "angularaxis": {
            "gridcolor": "#506784",
            "linecolor": "#506784",
            "ticks": ""
           },
           "bgcolor": "rgb(17,17,17)",
           "radialaxis": {
            "gridcolor": "#506784",
            "linecolor": "#506784",
            "ticks": ""
           }
          },
          "scene": {
           "xaxis": {
            "backgroundcolor": "rgb(17,17,17)",
            "gridcolor": "#506784",
            "gridwidth": 2,
            "linecolor": "#506784",
            "showbackground": true,
            "ticks": "",
            "zerolinecolor": "#C8D4E3"
           },
           "yaxis": {
            "backgroundcolor": "rgb(17,17,17)",
            "gridcolor": "#506784",
            "gridwidth": 2,
            "linecolor": "#506784",
            "showbackground": true,
            "ticks": "",
            "zerolinecolor": "#C8D4E3"
           },
           "zaxis": {
            "backgroundcolor": "rgb(17,17,17)",
            "gridcolor": "#506784",
            "gridwidth": 2,
            "linecolor": "#506784",
            "showbackground": true,
            "ticks": "",
            "zerolinecolor": "#C8D4E3"
           }
          },
          "shapedefaults": {
           "line": {
            "color": "#f2f5fa"
           }
          },
          "sliderdefaults": {
           "bgcolor": "#C8D4E3",
           "bordercolor": "rgb(17,17,17)",
           "borderwidth": 1,
           "tickwidth": 0
          },
          "ternary": {
           "aaxis": {
            "gridcolor": "#506784",
            "linecolor": "#506784",
            "ticks": ""
           },
           "baxis": {
            "gridcolor": "#506784",
            "linecolor": "#506784",
            "ticks": ""
           },
           "bgcolor": "rgb(17,17,17)",
           "caxis": {
            "gridcolor": "#506784",
            "linecolor": "#506784",
            "ticks": ""
           }
          },
          "title": {
           "x": 0.05
          },
          "updatemenudefaults": {
           "bgcolor": "#506784",
           "borderwidth": 0
          },
          "xaxis": {
           "automargin": true,
           "gridcolor": "#283442",
           "linecolor": "#506784",
           "ticks": "",
           "title": {
            "standoff": 15
           },
           "zerolinecolor": "#283442",
           "zerolinewidth": 2
          },
          "yaxis": {
           "automargin": true,
           "gridcolor": "#283442",
           "linecolor": "#506784",
           "ticks": "",
           "title": {
            "standoff": 15
           },
           "zerolinecolor": "#283442",
           "zerolinewidth": 2
          }
         }
        },
        "title": {
         "text": "Average Correlation to TOP_20 (Last 4 Seasons)"
        },
        "width": 1000,
        "xaxis": {
         "anchor": "y",
         "domain": [
          0,
          1
         ],
         "tickangle": -45,
         "title": {
          "text": "Feature"
         }
        },
        "yaxis": {
         "anchor": "x",
         "domain": [
          0,
          1
         ],
         "title": {
          "text": "Avg Correlation"
         }
        }
       }
      }
     },
     "metadata": {},
     "output_type": "display_data"
    }
   ],
   "source": [
    "import pandas as pd\n",
    "import numpy as np\n",
    "import plotly.express as px\n",
    "\n",
    "# === Rebuild correlation matrices for the 4 most recent seasons ===\n",
    "cor = {}\n",
    "recent_seasons = sorted(training_df[\"SEASON\"].unique())[-4:]\n",
    "\n",
    "for season in recent_seasons:\n",
    "    df_season = training_df[training_df[\"SEASON\"] == season].copy()\n",
    "    numeric_cols = df_season.select_dtypes(include=[\"float64\", \"int64\"])\n",
    "    cor[int(season)] = numeric_cols.corr().abs()\n",
    "\n",
    "# === Combine into one summary DataFrame ===\n",
    "cor_df = pd.DataFrame()\n",
    "\n",
    "for season in recent_seasons:\n",
    "    df = cor[season].reset_index()\n",
    "    if \"TOP_20\" not in df.columns:\n",
    "        continue\n",
    "    temp = df[[\"index\", \"TOP_20\"]].copy()\n",
    "    temp = temp.rename(columns={\"TOP_20\": str(season)})\n",
    "    if cor_df.empty:\n",
    "        cor_df = temp\n",
    "    else:\n",
    "        cor_df = cor_df.merge(temp, on=\"index\", how=\"outer\")\n",
    "\n",
    "# Drop target and metadata rows\n",
    "cor_df = cor_df[~cor_df[\"index\"].isin([\"TOP_20\", \"FINAL_POS\", \"SEASON\"])]\n",
    "\n",
    "# Compute average correlation across seasons\n",
    "cor_df[\"AVERAGE\"] = cor_df.drop(columns=[\"index\"]).mean(axis=1)\n",
    "cor_df = cor_df.sort_values(by=\"AVERAGE\", ascending=False)\n",
    "\n",
    "# === Plotly Bar Chart ===\n",
    "fig = px.bar(\n",
    "    cor_df,\n",
    "    x=\"index\",\n",
    "    y=\"AVERAGE\",\n",
    "    title=\"Average Correlation to TOP_20 (Last 4 Seasons)\",\n",
    "    labels={\"index\": \"Feature\", \"AVERAGE\": \"Avg Correlation\"},\n",
    "    template=\"plotly_dark\"\n",
    ")\n",
    "\n",
    "fig.update_layout(\n",
    "    xaxis_tickangle=-45,\n",
    "    height=600,\n",
    "    width=1000,\n",
    "    showlegend=False\n",
    ")\n",
    "\n",
    "fig.show()\n"
   ]
  },
  {
   "cell_type": "markdown",
   "id": "b551789e",
   "metadata": {},
   "source": [
    "# ML Model"
   ]
  },
  {
   "cell_type": "markdown",
   "id": "d7df2d9b",
   "metadata": {},
   "source": [
    "## Predictors"
   ]
  },
  {
   "cell_type": "code",
   "execution_count": 55,
   "id": "7de6b0ed",
   "metadata": {},
   "outputs": [
    {
     "name": "stdout",
     "output_type": "stream",
     "text": [
      "Selected 37 features:\n",
      " ['SGTTG_RANK', 'SGTTG', 'SGOTT_RANK', 'SGOTT', 'SGAPR_RANK', 'SGAPR', 'SGATG_RANK', 'SGATG', 'SGP_RANK', 'SGP', 'BIRDIES_RANK', 'BIRDIES', 'PAR_3_RANK', 'PAR_3', 'PAR_4_RANK', 'PAR_4', 'PAR_5_RANK', 'PAR_5', 'TOTAL_DRIVING_RANK', 'TOTAL_DRIVING', 'DRIVING_DISTANCE_RANK', 'DRIVING_DISTANCE', 'DRIVING_ACCURACY_RANK', 'DRIVING_ACCURACY', 'GIR_RANK', 'GIR', 'SCRAMBLING_RANK', 'SCRAMBLING', 'OWGR_RANK', 'OWGR', 'VEGAS_ODDS', 'CUT_PERCENTAGE', 'FEDEX_CUP_POINTS', 'form_density', 'CONSECUTIVE_CUTS', 'RECENT_FORM', 'adj_form']\n"
     ]
    }
   ],
   "source": [
    "# === Define Features and Target ===\n",
    "target_col = \"TOP_20\"\n",
    "\n",
    "# Columns to exclude from features\n",
    "exclude = [\n",
    "    \"PLAYER\", \"TOURNAMENT\", \"COURSE\", \"ENDING_DATE\", \"SEASON\", \"TOURN_ID\",\n",
    "    \"TOP_20\", \"FINAL_POS\"  \n",
    "]\n",
    "\n",
    "# Select numeric feature columns\n",
    "feature_cols = [\n",
    "    col for col in training_df.columns\n",
    "    if col not in exclude and training_df[col].dtype in [np.float64, np.int64]\n",
    "]\n",
    "\n",
    "print(f\"Selected {len(feature_cols)} features:\\n\", feature_cols)"
   ]
  },
  {
   "cell_type": "markdown",
   "id": "8cb568b3",
   "metadata": {},
   "source": [
    "### Random Forest\n",
    "Initial default model before hyperparameter tuning.\n",
    "\n",
    "This one actually performed really well (ROC AUC above 0.85).  Strangely doing hyperparameter tuning hurt the model (less than 0.7), so I removed that step and we will just use this default model.  This does cross-validation testing on 5 folds to ensure robust train/test splits."
   ]
  },
  {
   "cell_type": "code",
   "execution_count": 56,
   "id": "4879d3d9",
   "metadata": {},
   "outputs": [
    {
     "name": "stdout",
     "output_type": "stream",
     "text": [
      "📊 Random Forest (All Features)\n",
      "Cross-validation scores: [0.93575299 0.94540174 0.94599053 0.92853787 0.94743128]\n",
      "Average ROC AUC score: 0.94\n"
     ]
    }
   ],
   "source": [
    "from sklearn.ensemble import RandomForestClassifier\n",
    "from sklearn.model_selection import cross_val_score, StratifiedKFold\n",
    "from sklearn.preprocessing import StandardScaler\n",
    "from imblearn.over_sampling import SMOTE\n",
    "from imblearn.under_sampling import RandomUnderSampler\n",
    "from imblearn.pipeline import Pipeline\n",
    "\n",
    "# === Standardize features ===\n",
    "scaler = StandardScaler()\n",
    "X_rf_std = scaler.fit_transform(training_df[feature_cols])\n",
    "y_rf = training_df[\"TOP_20\"]\n",
    "\n",
    "# === Balance the dataset with SMOTE and undersampling ===\n",
    "over = SMOTE(sampling_strategy=0.5, k_neighbors=3)\n",
    "under = RandomUnderSampler(sampling_strategy=0.5)\n",
    "pipeline = Pipeline([(\"o\", over), (\"u\", under)])\n",
    "X_rf_bal, y_rf_bal = pipeline.fit_resample(X_rf_std, y_rf)\n",
    "\n",
    "# === Define and evaluate Random Forest ===\n",
    "rf = RandomForestClassifier(n_estimators=100, random_state=42)\n",
    "cv = StratifiedKFold(n_splits=5, shuffle=True, random_state=42)\n",
    "scores = cross_val_score(rf, X_rf_bal, y_rf_bal, cv=cv, scoring=\"roc_auc\")\n",
    "\n",
    "print(\"📊 Random Forest (All Features)\")\n",
    "print(\"Cross-validation scores:\", scores)\n",
    "print(\"Average ROC AUC score: {:.2f}\".format(scores.mean()))\n"
   ]
  },
  {
   "cell_type": "markdown",
   "id": "4fe9c753",
   "metadata": {},
   "source": [
    "Random Forest Training & Feature Importance\n",
    "\n",
    "Now we train on all the data (no longer cross-validation folds) and extract the feature importance to see how it compares with linear correlations.\n"
   ]
  },
  {
   "cell_type": "code",
   "execution_count": 57,
   "id": "74c2a8b7",
   "metadata": {},
   "outputs": [
    {
     "data": {
      "application/vnd.plotly.v1+json": {
       "config": {
        "plotlyServerURL": "https://plot.ly"
       },
       "data": [
        {
         "hovertemplate": "Feature=%{x}<br>Importance=%{y}<extra></extra>",
         "legendgroup": "",
         "marker": {
          "color": "#636efa",
          "pattern": {
           "shape": ""
          }
         },
         "name": "",
         "orientation": "v",
         "showlegend": false,
         "textposition": "auto",
         "type": "bar",
         "x": [
          "OWGR",
          "VEGAS_ODDS",
          "OWGR_RANK",
          "RECENT_FORM",
          "PAR_4",
          "adj_form",
          "PAR_4_RANK",
          "SGTTG_RANK",
          "SGTTG",
          "CONSECUTIVE_CUTS",
          "SGOTT_RANK",
          "CUT_PERCENTAGE",
          "FEDEX_CUP_POINTS",
          "form_density",
          "SGP_RANK",
          "SGP",
          "BIRDIES_RANK",
          "SGAPR",
          "PAR_5",
          "SGAPR_RANK",
          "BIRDIES",
          "SGOTT",
          "PAR_5_RANK",
          "GIR",
          "TOTAL_DRIVING_RANK",
          "GIR_RANK",
          "PAR_3_RANK",
          "TOTAL_DRIVING",
          "DRIVING_ACCURACY_RANK",
          "DRIVING_ACCURACY",
          "SGATG",
          "SCRAMBLING_RANK",
          "PAR_3",
          "DRIVING_DISTANCE",
          "SGATG_RANK",
          "DRIVING_DISTANCE_RANK",
          "SCRAMBLING"
         ],
         "xaxis": "x",
         "y": {
          "bdata": "PvheO6D/tD9RzWQmrAO0P0YjOA+LDbA/6r5pH9HlrD8d/RWnpoGmP7nOtVA/tqM/EgxXPyJXoz+KFGK3x9WiP6bqPiFSc6E/aVDiDjeNoD9gKZqgh5KeP9WBM+JNeZ4/Gvx27BlQmz/uqMzgwLOYP1PfZlZa8JU/TjK4lCm8lT+KaCfMHqeVP5ft/jGul5U/H6gNyLShlD8a2gWRsBOUP51rVliXq5M/LJ5P97Fvkz/L3HLF6hGSPy66pK41+pE/mAIFM7zakT/CRcOOVxKRP/sk/IKtq5A/f9gaerAqkD/qeQHeswSPP+KJPnePAI8/9vFdBt25jD8bPPIKDbSLP3oNJ5hygYs/8gVpumAIiz8NucqkiMSKP9bzfqzLuYk/FuxoS8KaiT8=",
          "dtype": "f8"
         },
         "yaxis": "y"
        }
       ],
       "layout": {
        "barmode": "relative",
        "legend": {
         "tracegroupgap": 0
        },
        "template": {
         "data": {
          "bar": [
           {
            "error_x": {
             "color": "#f2f5fa"
            },
            "error_y": {
             "color": "#f2f5fa"
            },
            "marker": {
             "line": {
              "color": "rgb(17,17,17)",
              "width": 0.5
             },
             "pattern": {
              "fillmode": "overlay",
              "size": 10,
              "solidity": 0.2
             }
            },
            "type": "bar"
           }
          ],
          "barpolar": [
           {
            "marker": {
             "line": {
              "color": "rgb(17,17,17)",
              "width": 0.5
             },
             "pattern": {
              "fillmode": "overlay",
              "size": 10,
              "solidity": 0.2
             }
            },
            "type": "barpolar"
           }
          ],
          "carpet": [
           {
            "aaxis": {
             "endlinecolor": "#A2B1C6",
             "gridcolor": "#506784",
             "linecolor": "#506784",
             "minorgridcolor": "#506784",
             "startlinecolor": "#A2B1C6"
            },
            "baxis": {
             "endlinecolor": "#A2B1C6",
             "gridcolor": "#506784",
             "linecolor": "#506784",
             "minorgridcolor": "#506784",
             "startlinecolor": "#A2B1C6"
            },
            "type": "carpet"
           }
          ],
          "choropleth": [
           {
            "colorbar": {
             "outlinewidth": 0,
             "ticks": ""
            },
            "type": "choropleth"
           }
          ],
          "contour": [
           {
            "colorbar": {
             "outlinewidth": 0,
             "ticks": ""
            },
            "colorscale": [
             [
              0,
              "#0d0887"
             ],
             [
              0.1111111111111111,
              "#46039f"
             ],
             [
              0.2222222222222222,
              "#7201a8"
             ],
             [
              0.3333333333333333,
              "#9c179e"
             ],
             [
              0.4444444444444444,
              "#bd3786"
             ],
             [
              0.5555555555555556,
              "#d8576b"
             ],
             [
              0.6666666666666666,
              "#ed7953"
             ],
             [
              0.7777777777777778,
              "#fb9f3a"
             ],
             [
              0.8888888888888888,
              "#fdca26"
             ],
             [
              1,
              "#f0f921"
             ]
            ],
            "type": "contour"
           }
          ],
          "contourcarpet": [
           {
            "colorbar": {
             "outlinewidth": 0,
             "ticks": ""
            },
            "type": "contourcarpet"
           }
          ],
          "heatmap": [
           {
            "colorbar": {
             "outlinewidth": 0,
             "ticks": ""
            },
            "colorscale": [
             [
              0,
              "#0d0887"
             ],
             [
              0.1111111111111111,
              "#46039f"
             ],
             [
              0.2222222222222222,
              "#7201a8"
             ],
             [
              0.3333333333333333,
              "#9c179e"
             ],
             [
              0.4444444444444444,
              "#bd3786"
             ],
             [
              0.5555555555555556,
              "#d8576b"
             ],
             [
              0.6666666666666666,
              "#ed7953"
             ],
             [
              0.7777777777777778,
              "#fb9f3a"
             ],
             [
              0.8888888888888888,
              "#fdca26"
             ],
             [
              1,
              "#f0f921"
             ]
            ],
            "type": "heatmap"
           }
          ],
          "histogram": [
           {
            "marker": {
             "pattern": {
              "fillmode": "overlay",
              "size": 10,
              "solidity": 0.2
             }
            },
            "type": "histogram"
           }
          ],
          "histogram2d": [
           {
            "colorbar": {
             "outlinewidth": 0,
             "ticks": ""
            },
            "colorscale": [
             [
              0,
              "#0d0887"
             ],
             [
              0.1111111111111111,
              "#46039f"
             ],
             [
              0.2222222222222222,
              "#7201a8"
             ],
             [
              0.3333333333333333,
              "#9c179e"
             ],
             [
              0.4444444444444444,
              "#bd3786"
             ],
             [
              0.5555555555555556,
              "#d8576b"
             ],
             [
              0.6666666666666666,
              "#ed7953"
             ],
             [
              0.7777777777777778,
              "#fb9f3a"
             ],
             [
              0.8888888888888888,
              "#fdca26"
             ],
             [
              1,
              "#f0f921"
             ]
            ],
            "type": "histogram2d"
           }
          ],
          "histogram2dcontour": [
           {
            "colorbar": {
             "outlinewidth": 0,
             "ticks": ""
            },
            "colorscale": [
             [
              0,
              "#0d0887"
             ],
             [
              0.1111111111111111,
              "#46039f"
             ],
             [
              0.2222222222222222,
              "#7201a8"
             ],
             [
              0.3333333333333333,
              "#9c179e"
             ],
             [
              0.4444444444444444,
              "#bd3786"
             ],
             [
              0.5555555555555556,
              "#d8576b"
             ],
             [
              0.6666666666666666,
              "#ed7953"
             ],
             [
              0.7777777777777778,
              "#fb9f3a"
             ],
             [
              0.8888888888888888,
              "#fdca26"
             ],
             [
              1,
              "#f0f921"
             ]
            ],
            "type": "histogram2dcontour"
           }
          ],
          "mesh3d": [
           {
            "colorbar": {
             "outlinewidth": 0,
             "ticks": ""
            },
            "type": "mesh3d"
           }
          ],
          "parcoords": [
           {
            "line": {
             "colorbar": {
              "outlinewidth": 0,
              "ticks": ""
             }
            },
            "type": "parcoords"
           }
          ],
          "pie": [
           {
            "automargin": true,
            "type": "pie"
           }
          ],
          "scatter": [
           {
            "marker": {
             "line": {
              "color": "#283442"
             }
            },
            "type": "scatter"
           }
          ],
          "scatter3d": [
           {
            "line": {
             "colorbar": {
              "outlinewidth": 0,
              "ticks": ""
             }
            },
            "marker": {
             "colorbar": {
              "outlinewidth": 0,
              "ticks": ""
             }
            },
            "type": "scatter3d"
           }
          ],
          "scattercarpet": [
           {
            "marker": {
             "colorbar": {
              "outlinewidth": 0,
              "ticks": ""
             }
            },
            "type": "scattercarpet"
           }
          ],
          "scattergeo": [
           {
            "marker": {
             "colorbar": {
              "outlinewidth": 0,
              "ticks": ""
             }
            },
            "type": "scattergeo"
           }
          ],
          "scattergl": [
           {
            "marker": {
             "line": {
              "color": "#283442"
             }
            },
            "type": "scattergl"
           }
          ],
          "scattermap": [
           {
            "marker": {
             "colorbar": {
              "outlinewidth": 0,
              "ticks": ""
             }
            },
            "type": "scattermap"
           }
          ],
          "scattermapbox": [
           {
            "marker": {
             "colorbar": {
              "outlinewidth": 0,
              "ticks": ""
             }
            },
            "type": "scattermapbox"
           }
          ],
          "scatterpolar": [
           {
            "marker": {
             "colorbar": {
              "outlinewidth": 0,
              "ticks": ""
             }
            },
            "type": "scatterpolar"
           }
          ],
          "scatterpolargl": [
           {
            "marker": {
             "colorbar": {
              "outlinewidth": 0,
              "ticks": ""
             }
            },
            "type": "scatterpolargl"
           }
          ],
          "scatterternary": [
           {
            "marker": {
             "colorbar": {
              "outlinewidth": 0,
              "ticks": ""
             }
            },
            "type": "scatterternary"
           }
          ],
          "surface": [
           {
            "colorbar": {
             "outlinewidth": 0,
             "ticks": ""
            },
            "colorscale": [
             [
              0,
              "#0d0887"
             ],
             [
              0.1111111111111111,
              "#46039f"
             ],
             [
              0.2222222222222222,
              "#7201a8"
             ],
             [
              0.3333333333333333,
              "#9c179e"
             ],
             [
              0.4444444444444444,
              "#bd3786"
             ],
             [
              0.5555555555555556,
              "#d8576b"
             ],
             [
              0.6666666666666666,
              "#ed7953"
             ],
             [
              0.7777777777777778,
              "#fb9f3a"
             ],
             [
              0.8888888888888888,
              "#fdca26"
             ],
             [
              1,
              "#f0f921"
             ]
            ],
            "type": "surface"
           }
          ],
          "table": [
           {
            "cells": {
             "fill": {
              "color": "#506784"
             },
             "line": {
              "color": "rgb(17,17,17)"
             }
            },
            "header": {
             "fill": {
              "color": "#2a3f5f"
             },
             "line": {
              "color": "rgb(17,17,17)"
             }
            },
            "type": "table"
           }
          ]
         },
         "layout": {
          "annotationdefaults": {
           "arrowcolor": "#f2f5fa",
           "arrowhead": 0,
           "arrowwidth": 1
          },
          "autotypenumbers": "strict",
          "coloraxis": {
           "colorbar": {
            "outlinewidth": 0,
            "ticks": ""
           }
          },
          "colorscale": {
           "diverging": [
            [
             0,
             "#8e0152"
            ],
            [
             0.1,
             "#c51b7d"
            ],
            [
             0.2,
             "#de77ae"
            ],
            [
             0.3,
             "#f1b6da"
            ],
            [
             0.4,
             "#fde0ef"
            ],
            [
             0.5,
             "#f7f7f7"
            ],
            [
             0.6,
             "#e6f5d0"
            ],
            [
             0.7,
             "#b8e186"
            ],
            [
             0.8,
             "#7fbc41"
            ],
            [
             0.9,
             "#4d9221"
            ],
            [
             1,
             "#276419"
            ]
           ],
           "sequential": [
            [
             0,
             "#0d0887"
            ],
            [
             0.1111111111111111,
             "#46039f"
            ],
            [
             0.2222222222222222,
             "#7201a8"
            ],
            [
             0.3333333333333333,
             "#9c179e"
            ],
            [
             0.4444444444444444,
             "#bd3786"
            ],
            [
             0.5555555555555556,
             "#d8576b"
            ],
            [
             0.6666666666666666,
             "#ed7953"
            ],
            [
             0.7777777777777778,
             "#fb9f3a"
            ],
            [
             0.8888888888888888,
             "#fdca26"
            ],
            [
             1,
             "#f0f921"
            ]
           ],
           "sequentialminus": [
            [
             0,
             "#0d0887"
            ],
            [
             0.1111111111111111,
             "#46039f"
            ],
            [
             0.2222222222222222,
             "#7201a8"
            ],
            [
             0.3333333333333333,
             "#9c179e"
            ],
            [
             0.4444444444444444,
             "#bd3786"
            ],
            [
             0.5555555555555556,
             "#d8576b"
            ],
            [
             0.6666666666666666,
             "#ed7953"
            ],
            [
             0.7777777777777778,
             "#fb9f3a"
            ],
            [
             0.8888888888888888,
             "#fdca26"
            ],
            [
             1,
             "#f0f921"
            ]
           ]
          },
          "colorway": [
           "#636efa",
           "#EF553B",
           "#00cc96",
           "#ab63fa",
           "#FFA15A",
           "#19d3f3",
           "#FF6692",
           "#B6E880",
           "#FF97FF",
           "#FECB52"
          ],
          "font": {
           "color": "#f2f5fa"
          },
          "geo": {
           "bgcolor": "rgb(17,17,17)",
           "lakecolor": "rgb(17,17,17)",
           "landcolor": "rgb(17,17,17)",
           "showlakes": true,
           "showland": true,
           "subunitcolor": "#506784"
          },
          "hoverlabel": {
           "align": "left"
          },
          "hovermode": "closest",
          "mapbox": {
           "style": "dark"
          },
          "paper_bgcolor": "rgb(17,17,17)",
          "plot_bgcolor": "rgb(17,17,17)",
          "polar": {
           "angularaxis": {
            "gridcolor": "#506784",
            "linecolor": "#506784",
            "ticks": ""
           },
           "bgcolor": "rgb(17,17,17)",
           "radialaxis": {
            "gridcolor": "#506784",
            "linecolor": "#506784",
            "ticks": ""
           }
          },
          "scene": {
           "xaxis": {
            "backgroundcolor": "rgb(17,17,17)",
            "gridcolor": "#506784",
            "gridwidth": 2,
            "linecolor": "#506784",
            "showbackground": true,
            "ticks": "",
            "zerolinecolor": "#C8D4E3"
           },
           "yaxis": {
            "backgroundcolor": "rgb(17,17,17)",
            "gridcolor": "#506784",
            "gridwidth": 2,
            "linecolor": "#506784",
            "showbackground": true,
            "ticks": "",
            "zerolinecolor": "#C8D4E3"
           },
           "zaxis": {
            "backgroundcolor": "rgb(17,17,17)",
            "gridcolor": "#506784",
            "gridwidth": 2,
            "linecolor": "#506784",
            "showbackground": true,
            "ticks": "",
            "zerolinecolor": "#C8D4E3"
           }
          },
          "shapedefaults": {
           "line": {
            "color": "#f2f5fa"
           }
          },
          "sliderdefaults": {
           "bgcolor": "#C8D4E3",
           "bordercolor": "rgb(17,17,17)",
           "borderwidth": 1,
           "tickwidth": 0
          },
          "ternary": {
           "aaxis": {
            "gridcolor": "#506784",
            "linecolor": "#506784",
            "ticks": ""
           },
           "baxis": {
            "gridcolor": "#506784",
            "linecolor": "#506784",
            "ticks": ""
           },
           "bgcolor": "rgb(17,17,17)",
           "caxis": {
            "gridcolor": "#506784",
            "linecolor": "#506784",
            "ticks": ""
           }
          },
          "title": {
           "x": 0.05
          },
          "updatemenudefaults": {
           "bgcolor": "#506784",
           "borderwidth": 0
          },
          "xaxis": {
           "automargin": true,
           "gridcolor": "#283442",
           "linecolor": "#506784",
           "ticks": "",
           "title": {
            "standoff": 15
           },
           "zerolinecolor": "#283442",
           "zerolinewidth": 2
          },
          "yaxis": {
           "automargin": true,
           "gridcolor": "#283442",
           "linecolor": "#506784",
           "ticks": "",
           "title": {
            "standoff": 15
           },
           "zerolinecolor": "#283442",
           "zerolinewidth": 2
          }
         }
        },
        "title": {
         "text": "Random Forest Feature Importances"
        },
        "xaxis": {
         "anchor": "y",
         "domain": [
          0,
          1
         ],
         "tickangle": -45,
         "title": {
          "text": "Feature"
         }
        },
        "yaxis": {
         "anchor": "x",
         "domain": [
          0,
          1
         ],
         "title": {
          "text": "Importance"
         }
        }
       }
      }
     },
     "metadata": {},
     "output_type": "display_data"
    }
   ],
   "source": [
    "from sklearn.ensemble import RandomForestClassifier\n",
    "from sklearn.calibration import CalibratedClassifierCV\n",
    "from sklearn.preprocessing import StandardScaler\n",
    "from imblearn.pipeline import Pipeline\n",
    "from imblearn.over_sampling import SMOTE\n",
    "from imblearn.under_sampling import RandomUnderSampler\n",
    "import pandas as pd\n",
    "import plotly.express as px\n",
    "\n",
    "# === Resample the full dataset ===\n",
    "over = SMOTE(sampling_strategy=0.5, k_neighbors=3)\n",
    "under = RandomUnderSampler(sampling_strategy=0.5)\n",
    "resample_pipeline = Pipeline([(\"o\", over), (\"u\", under)])\n",
    "X_all_resampled, y_all_resampled = resample_pipeline.fit_resample(\n",
    "    training_df[feature_cols], training_df[\"TOP_20\"]\n",
    ")\n",
    "\n",
    "# === Standardize ===\n",
    "scaler = StandardScaler()\n",
    "X_all_scaled = scaler.fit_transform(X_all_resampled)\n",
    "\n",
    "# === Train Calibrated Random Forest ===\n",
    "base_rf = RandomForestClassifier(random_state=42)\n",
    "final_model = CalibratedClassifierCV(estimator=base_rf, method=\"sigmoid\", cv=5)\n",
    "final_model.fit(X_all_scaled, y_all_resampled)\n",
    "\n",
    "# === Aggregate feature importances across all CV folds ===\n",
    "all_importances = np.array([\n",
    "    est.estimator.feature_importances_ for est in final_model.calibrated_classifiers_\n",
    "])\n",
    "mean_importance = all_importances.mean(axis=0)\n",
    "\n",
    "importance_df = pd.DataFrame({\n",
    "    \"Feature\": feature_cols,\n",
    "    \"Importance\": mean_importance\n",
    "}).sort_values(by=\"Importance\", ascending=False)\n",
    "\n",
    "# === Plot feature importances ===\n",
    "fig = px.bar(\n",
    "    importance_df,\n",
    "    x=\"Feature\",\n",
    "    y=\"Importance\",\n",
    "    title=\"Random Forest Feature Importances\",\n",
    "    template=\"plotly_dark\"\n",
    ")\n",
    "fig.update_layout(xaxis_tickangle=-45)\n",
    "fig.show()\n"
   ]
  },
  {
   "cell_type": "markdown",
   "id": "e5e84f8a",
   "metadata": {},
   "source": [
    "Use this model on this week's data to predict the best performers."
   ]
  },
  {
   "cell_type": "code",
   "execution_count": 58,
   "id": "f0bf9b7d",
   "metadata": {},
   "outputs": [
    {
     "data": {
      "text/html": [
       "<div>\n",
       "<style scoped>\n",
       "    .dataframe tbody tr th:only-of-type {\n",
       "        vertical-align: middle;\n",
       "    }\n",
       "\n",
       "    .dataframe tbody tr th {\n",
       "        vertical-align: top;\n",
       "    }\n",
       "\n",
       "    .dataframe thead th {\n",
       "        text-align: right;\n",
       "    }\n",
       "</style>\n",
       "<table border=\"1\" class=\"dataframe\">\n",
       "  <thead>\n",
       "    <tr style=\"text-align: right;\">\n",
       "      <th></th>\n",
       "      <th>PLAYER</th>\n",
       "      <th>SALARY</th>\n",
       "      <th>PROBABILITY</th>\n",
       "      <th>RECENT_FORM</th>\n",
       "      <th>VEGAS_ODDS</th>\n",
       "      <th>CUT_PERCENTAGE</th>\n",
       "      <th>OWGR_RANK</th>\n",
       "      <th>FEDEX_CUP_POINTS</th>\n",
       "      <th>SGTTG_RANK</th>\n",
       "      <th>SGOTT_RANK</th>\n",
       "      <th>SGAPR_RANK</th>\n",
       "      <th>SGATG_RANK</th>\n",
       "      <th>SGP_RANK</th>\n",
       "      <th>BIRDIES_RANK</th>\n",
       "      <th>PAR_3_RANK</th>\n",
       "      <th>PAR_4_RANK</th>\n",
       "      <th>PAR_5_RANK</th>\n",
       "      <th>TOTAL_DRIVING_RANK</th>\n",
       "      <th>DRIVING_DISTANCE_RANK</th>\n",
       "      <th>DRIVING_ACCURACY_RANK</th>\n",
       "      <th>GIR_RANK</th>\n",
       "      <th>SCRAMBLING_RANK</th>\n",
       "    </tr>\n",
       "  </thead>\n",
       "  <tbody>\n",
       "    <tr>\n",
       "      <th>0</th>\n",
       "      <td>Bryson DeChambeau</td>\n",
       "      <td>11000</td>\n",
       "      <td>0.766116</td>\n",
       "      <td>3.5</td>\n",
       "      <td>7.00</td>\n",
       "      <td>100.0</td>\n",
       "      <td>10.0</td>\n",
       "      <td>0.000</td>\n",
       "      <td>71.75</td>\n",
       "      <td>81.825</td>\n",
       "      <td>76.3625</td>\n",
       "      <td>77.975</td>\n",
       "      <td>79.625</td>\n",
       "      <td>74.2875</td>\n",
       "      <td>91.375</td>\n",
       "      <td>70.9</td>\n",
       "      <td>86.45</td>\n",
       "      <td>88.2125</td>\n",
       "      <td>95.3875</td>\n",
       "      <td>83.625</td>\n",
       "      <td>90.3125</td>\n",
       "      <td>92.0125</td>\n",
       "    </tr>\n",
       "    <tr>\n",
       "      <th>1</th>\n",
       "      <td>Shane Lowry</td>\n",
       "      <td>7800</td>\n",
       "      <td>0.740952</td>\n",
       "      <td>28.1</td>\n",
       "      <td>30.00</td>\n",
       "      <td>84.6</td>\n",
       "      <td>12.0</td>\n",
       "      <td>1373.339</td>\n",
       "      <td>2.00</td>\n",
       "      <td>68.000</td>\n",
       "      <td>2.0000</td>\n",
       "      <td>24.000</td>\n",
       "      <td>103.000</td>\n",
       "      <td>68.0000</td>\n",
       "      <td>7.000</td>\n",
       "      <td>17.0</td>\n",
       "      <td>139.00</td>\n",
       "      <td>72.0000</td>\n",
       "      <td>143.0000</td>\n",
       "      <td>28.000</td>\n",
       "      <td>36.0000</td>\n",
       "      <td>24.0000</td>\n",
       "    </tr>\n",
       "    <tr>\n",
       "      <th>2</th>\n",
       "      <td>Sepp Straka</td>\n",
       "      <td>7700</td>\n",
       "      <td>0.608681</td>\n",
       "      <td>30.1</td>\n",
       "      <td>40.00</td>\n",
       "      <td>76.5</td>\n",
       "      <td>8.0</td>\n",
       "      <td>2448.408</td>\n",
       "      <td>4.00</td>\n",
       "      <td>41.000</td>\n",
       "      <td>3.0000</td>\n",
       "      <td>133.000</td>\n",
       "      <td>17.000</td>\n",
       "      <td>2.0000</td>\n",
       "      <td>3.000</td>\n",
       "      <td>7.0</td>\n",
       "      <td>8.00</td>\n",
       "      <td>52.0000</td>\n",
       "      <td>148.0000</td>\n",
       "      <td>11.000</td>\n",
       "      <td>1.0000</td>\n",
       "      <td>77.0000</td>\n",
       "    </tr>\n",
       "    <tr>\n",
       "      <th>3</th>\n",
       "      <td>Rory McIlroy</td>\n",
       "      <td>12400</td>\n",
       "      <td>0.606831</td>\n",
       "      <td>20.4</td>\n",
       "      <td>14.00</td>\n",
       "      <td>88.9</td>\n",
       "      <td>2.0</td>\n",
       "      <td>2635.786</td>\n",
       "      <td>10.00</td>\n",
       "      <td>2.000</td>\n",
       "      <td>71.0000</td>\n",
       "      <td>56.000</td>\n",
       "      <td>11.000</td>\n",
       "      <td>11.0000</td>\n",
       "      <td>24.000</td>\n",
       "      <td>17.0</td>\n",
       "      <td>8.00</td>\n",
       "      <td>84.0000</td>\n",
       "      <td>3.0000</td>\n",
       "      <td>173.000</td>\n",
       "      <td>77.0000</td>\n",
       "      <td>14.0000</td>\n",
       "    </tr>\n",
       "    <tr>\n",
       "      <th>4</th>\n",
       "      <td>Scottie Scheffler</td>\n",
       "      <td>14400</td>\n",
       "      <td>0.605566</td>\n",
       "      <td>6.9</td>\n",
       "      <td>2.75</td>\n",
       "      <td>100.0</td>\n",
       "      <td>1.0</td>\n",
       "      <td>3500.967</td>\n",
       "      <td>1.00</td>\n",
       "      <td>1.000</td>\n",
       "      <td>1.0000</td>\n",
       "      <td>37.000</td>\n",
       "      <td>25.000</td>\n",
       "      <td>3.0000</td>\n",
       "      <td>24.000</td>\n",
       "      <td>1.0</td>\n",
       "      <td>2.00</td>\n",
       "      <td>11.0000</td>\n",
       "      <td>72.0000</td>\n",
       "      <td>30.000</td>\n",
       "      <td>6.0000</td>\n",
       "      <td>2.0000</td>\n",
       "    </tr>\n",
       "    <tr>\n",
       "      <th>5</th>\n",
       "      <td>Keegan Bradley</td>\n",
       "      <td>7400</td>\n",
       "      <td>0.604065</td>\n",
       "      <td>26.1</td>\n",
       "      <td>70.00</td>\n",
       "      <td>92.9</td>\n",
       "      <td>18.0</td>\n",
       "      <td>973.717</td>\n",
       "      <td>3.00</td>\n",
       "      <td>27.000</td>\n",
       "      <td>14.0000</td>\n",
       "      <td>20.000</td>\n",
       "      <td>138.000</td>\n",
       "      <td>54.0000</td>\n",
       "      <td>123.000</td>\n",
       "      <td>17.0</td>\n",
       "      <td>79.00</td>\n",
       "      <td>19.0000</td>\n",
       "      <td>68.0000</td>\n",
       "      <td>47.000</td>\n",
       "      <td>60.0000</td>\n",
       "      <td>115.0000</td>\n",
       "    </tr>\n",
       "    <tr>\n",
       "      <th>6</th>\n",
       "      <td>Tommy Fleetwood</td>\n",
       "      <td>8800</td>\n",
       "      <td>0.598866</td>\n",
       "      <td>18.6</td>\n",
       "      <td>30.00</td>\n",
       "      <td>100.0</td>\n",
       "      <td>13.0</td>\n",
       "      <td>1323.648</td>\n",
       "      <td>8.00</td>\n",
       "      <td>50.000</td>\n",
       "      <td>12.0000</td>\n",
       "      <td>26.000</td>\n",
       "      <td>43.000</td>\n",
       "      <td>42.0000</td>\n",
       "      <td>171.000</td>\n",
       "      <td>10.0</td>\n",
       "      <td>93.00</td>\n",
       "      <td>68.0000</td>\n",
       "      <td>135.0000</td>\n",
       "      <td>34.000</td>\n",
       "      <td>128.0000</td>\n",
       "      <td>58.0000</td>\n",
       "    </tr>\n",
       "    <tr>\n",
       "      <th>7</th>\n",
       "      <td>Collin Morikawa</td>\n",
       "      <td>9800</td>\n",
       "      <td>0.584253</td>\n",
       "      <td>23.4</td>\n",
       "      <td>25.00</td>\n",
       "      <td>100.0</td>\n",
       "      <td>4.0</td>\n",
       "      <td>1292.158</td>\n",
       "      <td>5.00</td>\n",
       "      <td>19.000</td>\n",
       "      <td>6.0000</td>\n",
       "      <td>92.000</td>\n",
       "      <td>51.000</td>\n",
       "      <td>4.0000</td>\n",
       "      <td>2.000</td>\n",
       "      <td>28.0</td>\n",
       "      <td>79.00</td>\n",
       "      <td>52.0000</td>\n",
       "      <td>157.0000</td>\n",
       "      <td>2.000</td>\n",
       "      <td>44.0000</td>\n",
       "      <td>87.0000</td>\n",
       "    </tr>\n",
       "    <tr>\n",
       "      <th>8</th>\n",
       "      <td>Russell Henley</td>\n",
       "      <td>7400</td>\n",
       "      <td>0.579052</td>\n",
       "      <td>29.2</td>\n",
       "      <td>70.00</td>\n",
       "      <td>84.6</td>\n",
       "      <td>7.0</td>\n",
       "      <td>1705.884</td>\n",
       "      <td>17.00</td>\n",
       "      <td>118.000</td>\n",
       "      <td>16.0000</td>\n",
       "      <td>11.000</td>\n",
       "      <td>46.000</td>\n",
       "      <td>16.0000</td>\n",
       "      <td>1.000</td>\n",
       "      <td>28.0</td>\n",
       "      <td>93.00</td>\n",
       "      <td>108.0000</td>\n",
       "      <td>176.0000</td>\n",
       "      <td>14.000</td>\n",
       "      <td>10.0000</td>\n",
       "      <td>78.0000</td>\n",
       "    </tr>\n",
       "    <tr>\n",
       "      <th>9</th>\n",
       "      <td>Patrick Cantlay</td>\n",
       "      <td>9300</td>\n",
       "      <td>0.535846</td>\n",
       "      <td>23.1</td>\n",
       "      <td>35.00</td>\n",
       "      <td>92.3</td>\n",
       "      <td>16.0</td>\n",
       "      <td>1135.952</td>\n",
       "      <td>11.00</td>\n",
       "      <td>37.000</td>\n",
       "      <td>10.0000</td>\n",
       "      <td>89.000</td>\n",
       "      <td>61.000</td>\n",
       "      <td>14.0000</td>\n",
       "      <td>135.000</td>\n",
       "      <td>5.0</td>\n",
       "      <td>62.00</td>\n",
       "      <td>47.0000</td>\n",
       "      <td>76.0000</td>\n",
       "      <td>80.000</td>\n",
       "      <td>3.0000</td>\n",
       "      <td>131.0000</td>\n",
       "    </tr>\n",
       "    <tr>\n",
       "      <th>10</th>\n",
       "      <td>Patrick Reed</td>\n",
       "      <td>6900</td>\n",
       "      <td>0.498118</td>\n",
       "      <td>46.5</td>\n",
       "      <td>100.00</td>\n",
       "      <td>50.0</td>\n",
       "      <td>59.0</td>\n",
       "      <td>0.000</td>\n",
       "      <td>71.75</td>\n",
       "      <td>81.825</td>\n",
       "      <td>76.3625</td>\n",
       "      <td>77.975</td>\n",
       "      <td>79.625</td>\n",
       "      <td>74.2875</td>\n",
       "      <td>91.375</td>\n",
       "      <td>70.9</td>\n",
       "      <td>86.45</td>\n",
       "      <td>88.2125</td>\n",
       "      <td>95.3875</td>\n",
       "      <td>83.625</td>\n",
       "      <td>90.3125</td>\n",
       "      <td>92.0125</td>\n",
       "    </tr>\n",
       "    <tr>\n",
       "      <th>11</th>\n",
       "      <td>Ryan Fox</td>\n",
       "      <td>6800</td>\n",
       "      <td>0.495653</td>\n",
       "      <td>45.3</td>\n",
       "      <td>125.00</td>\n",
       "      <td>80.0</td>\n",
       "      <td>32.0</td>\n",
       "      <td>800.750</td>\n",
       "      <td>29.00</td>\n",
       "      <td>78.000</td>\n",
       "      <td>17.0000</td>\n",
       "      <td>66.000</td>\n",
       "      <td>63.000</td>\n",
       "      <td>26.0000</td>\n",
       "      <td>110.000</td>\n",
       "      <td>28.0</td>\n",
       "      <td>45.00</td>\n",
       "      <td>94.0000</td>\n",
       "      <td>51.0000</td>\n",
       "      <td>129.000</td>\n",
       "      <td>88.0000</td>\n",
       "      <td>144.0000</td>\n",
       "    </tr>\n",
       "    <tr>\n",
       "      <th>12</th>\n",
       "      <td>Justin Thomas</td>\n",
       "      <td>9000</td>\n",
       "      <td>0.492899</td>\n",
       "      <td>21.8</td>\n",
       "      <td>40.00</td>\n",
       "      <td>93.3</td>\n",
       "      <td>5.0</td>\n",
       "      <td>2070.698</td>\n",
       "      <td>9.00</td>\n",
       "      <td>94.000</td>\n",
       "      <td>8.0000</td>\n",
       "      <td>27.000</td>\n",
       "      <td>15.000</td>\n",
       "      <td>1.0000</td>\n",
       "      <td>110.000</td>\n",
       "      <td>2.0</td>\n",
       "      <td>32.00</td>\n",
       "      <td>103.0000</td>\n",
       "      <td>66.0000</td>\n",
       "      <td>121.000</td>\n",
       "      <td>68.0000</td>\n",
       "      <td>114.0000</td>\n",
       "    </tr>\n",
       "    <tr>\n",
       "      <th>13</th>\n",
       "      <td>Nick Taylor</td>\n",
       "      <td>6300</td>\n",
       "      <td>0.484475</td>\n",
       "      <td>42.2</td>\n",
       "      <td>150.00</td>\n",
       "      <td>75.0</td>\n",
       "      <td>31.0</td>\n",
       "      <td>1335.232</td>\n",
       "      <td>35.00</td>\n",
       "      <td>116.000</td>\n",
       "      <td>13.0000</td>\n",
       "      <td>71.000</td>\n",
       "      <td>71.000</td>\n",
       "      <td>68.0000</td>\n",
       "      <td>24.000</td>\n",
       "      <td>10.0</td>\n",
       "      <td>105.00</td>\n",
       "      <td>92.0000</td>\n",
       "      <td>162.0000</td>\n",
       "      <td>17.000</td>\n",
       "      <td>5.0000</td>\n",
       "      <td>32.0000</td>\n",
       "    </tr>\n",
       "    <tr>\n",
       "      <th>14</th>\n",
       "      <td>Aaron Rai</td>\n",
       "      <td>6400</td>\n",
       "      <td>0.471592</td>\n",
       "      <td>40.1</td>\n",
       "      <td>125.00</td>\n",
       "      <td>73.3</td>\n",
       "      <td>33.0</td>\n",
       "      <td>577.480</td>\n",
       "      <td>27.00</td>\n",
       "      <td>28.000</td>\n",
       "      <td>32.0000</td>\n",
       "      <td>103.000</td>\n",
       "      <td>127.000</td>\n",
       "      <td>42.0000</td>\n",
       "      <td>178.000</td>\n",
       "      <td>7.0</td>\n",
       "      <td>32.00</td>\n",
       "      <td>76.0000</td>\n",
       "      <td>171.0000</td>\n",
       "      <td>1.000</td>\n",
       "      <td>19.0000</td>\n",
       "      <td>129.0000</td>\n",
       "    </tr>\n",
       "    <tr>\n",
       "      <th>15</th>\n",
       "      <td>Tony Finau</td>\n",
       "      <td>7300</td>\n",
       "      <td>0.432642</td>\n",
       "      <td>44.3</td>\n",
       "      <td>80.00</td>\n",
       "      <td>71.4</td>\n",
       "      <td>41.0</td>\n",
       "      <td>641.283</td>\n",
       "      <td>50.00</td>\n",
       "      <td>63.000</td>\n",
       "      <td>87.0000</td>\n",
       "      <td>47.000</td>\n",
       "      <td>101.000</td>\n",
       "      <td>38.0000</td>\n",
       "      <td>87.000</td>\n",
       "      <td>76.0</td>\n",
       "      <td>129.00</td>\n",
       "      <td>72.0000</td>\n",
       "      <td>69.0000</td>\n",
       "      <td>102.000</td>\n",
       "      <td>82.0000</td>\n",
       "      <td>122.0000</td>\n",
       "    </tr>\n",
       "    <tr>\n",
       "      <th>16</th>\n",
       "      <td>Corey Conners</td>\n",
       "      <td>7300</td>\n",
       "      <td>0.426247</td>\n",
       "      <td>27.4</td>\n",
       "      <td>50.00</td>\n",
       "      <td>93.8</td>\n",
       "      <td>21.0</td>\n",
       "      <td>1465.490</td>\n",
       "      <td>24.00</td>\n",
       "      <td>10.000</td>\n",
       "      <td>54.0000</td>\n",
       "      <td>113.000</td>\n",
       "      <td>74.000</td>\n",
       "      <td>63.0000</td>\n",
       "      <td>87.000</td>\n",
       "      <td>17.0</td>\n",
       "      <td>79.00</td>\n",
       "      <td>42.0000</td>\n",
       "      <td>144.0000</td>\n",
       "      <td>8.000</td>\n",
       "      <td>13.0000</td>\n",
       "      <td>66.0000</td>\n",
       "    </tr>\n",
       "    <tr>\n",
       "      <th>17</th>\n",
       "      <td>J.J. Spaun</td>\n",
       "      <td>6700</td>\n",
       "      <td>0.357011</td>\n",
       "      <td>37.9</td>\n",
       "      <td>125.00</td>\n",
       "      <td>78.3</td>\n",
       "      <td>25.0</td>\n",
       "      <td>1444.687</td>\n",
       "      <td>12.00</td>\n",
       "      <td>51.000</td>\n",
       "      <td>5.0000</td>\n",
       "      <td>120.000</td>\n",
       "      <td>84.000</td>\n",
       "      <td>68.0000</td>\n",
       "      <td>59.000</td>\n",
       "      <td>28.0</td>\n",
       "      <td>93.00</td>\n",
       "      <td>23.0000</td>\n",
       "      <td>58.0000</td>\n",
       "      <td>61.000</td>\n",
       "      <td>37.0000</td>\n",
       "      <td>100.0000</td>\n",
       "    </tr>\n",
       "    <tr>\n",
       "      <th>18</th>\n",
       "      <td>Tyrrell Hatton</td>\n",
       "      <td>7600</td>\n",
       "      <td>0.336720</td>\n",
       "      <td>37.0</td>\n",
       "      <td>70.00</td>\n",
       "      <td>100.0</td>\n",
       "      <td>24.0</td>\n",
       "      <td>0.000</td>\n",
       "      <td>71.75</td>\n",
       "      <td>81.825</td>\n",
       "      <td>76.3625</td>\n",
       "      <td>77.975</td>\n",
       "      <td>79.625</td>\n",
       "      <td>74.2875</td>\n",
       "      <td>91.375</td>\n",
       "      <td>70.9</td>\n",
       "      <td>86.45</td>\n",
       "      <td>88.2125</td>\n",
       "      <td>95.3875</td>\n",
       "      <td>83.625</td>\n",
       "      <td>90.3125</td>\n",
       "      <td>92.0125</td>\n",
       "    </tr>\n",
       "    <tr>\n",
       "      <th>19</th>\n",
       "      <td>Daniel Berger</td>\n",
       "      <td>6800</td>\n",
       "      <td>0.327704</td>\n",
       "      <td>36.7</td>\n",
       "      <td>90.00</td>\n",
       "      <td>77.3</td>\n",
       "      <td>29.0</td>\n",
       "      <td>1473.408</td>\n",
       "      <td>6.00</td>\n",
       "      <td>17.000</td>\n",
       "      <td>23.0000</td>\n",
       "      <td>31.000</td>\n",
       "      <td>120.000</td>\n",
       "      <td>83.0000</td>\n",
       "      <td>135.000</td>\n",
       "      <td>10.0</td>\n",
       "      <td>115.00</td>\n",
       "      <td>14.0000</td>\n",
       "      <td>92.0000</td>\n",
       "      <td>12.000</td>\n",
       "      <td>35.0000</td>\n",
       "      <td>26.0000</td>\n",
       "    </tr>\n",
       "  </tbody>\n",
       "</table>\n",
       "</div>"
      ],
      "text/plain": [
       "               PLAYER  SALARY  PROBABILITY  RECENT_FORM  VEGAS_ODDS  \\\n",
       "0   Bryson DeChambeau   11000     0.766116          3.5        7.00   \n",
       "1         Shane Lowry    7800     0.740952         28.1       30.00   \n",
       "2         Sepp Straka    7700     0.608681         30.1       40.00   \n",
       "3        Rory McIlroy   12400     0.606831         20.4       14.00   \n",
       "4   Scottie Scheffler   14400     0.605566          6.9        2.75   \n",
       "5      Keegan Bradley    7400     0.604065         26.1       70.00   \n",
       "6     Tommy Fleetwood    8800     0.598866         18.6       30.00   \n",
       "7     Collin Morikawa    9800     0.584253         23.4       25.00   \n",
       "8      Russell Henley    7400     0.579052         29.2       70.00   \n",
       "9     Patrick Cantlay    9300     0.535846         23.1       35.00   \n",
       "10       Patrick Reed    6900     0.498118         46.5      100.00   \n",
       "11           Ryan Fox    6800     0.495653         45.3      125.00   \n",
       "12      Justin Thomas    9000     0.492899         21.8       40.00   \n",
       "13        Nick Taylor    6300     0.484475         42.2      150.00   \n",
       "14          Aaron Rai    6400     0.471592         40.1      125.00   \n",
       "15         Tony Finau    7300     0.432642         44.3       80.00   \n",
       "16      Corey Conners    7300     0.426247         27.4       50.00   \n",
       "17         J.J. Spaun    6700     0.357011         37.9      125.00   \n",
       "18     Tyrrell Hatton    7600     0.336720         37.0       70.00   \n",
       "19      Daniel Berger    6800     0.327704         36.7       90.00   \n",
       "\n",
       "    CUT_PERCENTAGE  OWGR_RANK  FEDEX_CUP_POINTS  SGTTG_RANK  SGOTT_RANK  \\\n",
       "0            100.0       10.0             0.000       71.75      81.825   \n",
       "1             84.6       12.0          1373.339        2.00      68.000   \n",
       "2             76.5        8.0          2448.408        4.00      41.000   \n",
       "3             88.9        2.0          2635.786       10.00       2.000   \n",
       "4            100.0        1.0          3500.967        1.00       1.000   \n",
       "5             92.9       18.0           973.717        3.00      27.000   \n",
       "6            100.0       13.0          1323.648        8.00      50.000   \n",
       "7            100.0        4.0          1292.158        5.00      19.000   \n",
       "8             84.6        7.0          1705.884       17.00     118.000   \n",
       "9             92.3       16.0          1135.952       11.00      37.000   \n",
       "10            50.0       59.0             0.000       71.75      81.825   \n",
       "11            80.0       32.0           800.750       29.00      78.000   \n",
       "12            93.3        5.0          2070.698        9.00      94.000   \n",
       "13            75.0       31.0          1335.232       35.00     116.000   \n",
       "14            73.3       33.0           577.480       27.00      28.000   \n",
       "15            71.4       41.0           641.283       50.00      63.000   \n",
       "16            93.8       21.0          1465.490       24.00      10.000   \n",
       "17            78.3       25.0          1444.687       12.00      51.000   \n",
       "18           100.0       24.0             0.000       71.75      81.825   \n",
       "19            77.3       29.0          1473.408        6.00      17.000   \n",
       "\n",
       "    SGAPR_RANK  SGATG_RANK  SGP_RANK  BIRDIES_RANK  PAR_3_RANK  PAR_4_RANK  \\\n",
       "0      76.3625      77.975    79.625       74.2875      91.375        70.9   \n",
       "1       2.0000      24.000   103.000       68.0000       7.000        17.0   \n",
       "2       3.0000     133.000    17.000        2.0000       3.000         7.0   \n",
       "3      71.0000      56.000    11.000       11.0000      24.000        17.0   \n",
       "4       1.0000      37.000    25.000        3.0000      24.000         1.0   \n",
       "5      14.0000      20.000   138.000       54.0000     123.000        17.0   \n",
       "6      12.0000      26.000    43.000       42.0000     171.000        10.0   \n",
       "7       6.0000      92.000    51.000        4.0000       2.000        28.0   \n",
       "8      16.0000      11.000    46.000       16.0000       1.000        28.0   \n",
       "9      10.0000      89.000    61.000       14.0000     135.000         5.0   \n",
       "10     76.3625      77.975    79.625       74.2875      91.375        70.9   \n",
       "11     17.0000      66.000    63.000       26.0000     110.000        28.0   \n",
       "12      8.0000      27.000    15.000        1.0000     110.000         2.0   \n",
       "13     13.0000      71.000    71.000       68.0000      24.000        10.0   \n",
       "14     32.0000     103.000   127.000       42.0000     178.000         7.0   \n",
       "15     87.0000      47.000   101.000       38.0000      87.000        76.0   \n",
       "16     54.0000     113.000    74.000       63.0000      87.000        17.0   \n",
       "17      5.0000     120.000    84.000       68.0000      59.000        28.0   \n",
       "18     76.3625      77.975    79.625       74.2875      91.375        70.9   \n",
       "19     23.0000      31.000   120.000       83.0000     135.000        10.0   \n",
       "\n",
       "    PAR_5_RANK  TOTAL_DRIVING_RANK  DRIVING_DISTANCE_RANK  \\\n",
       "0        86.45             88.2125                95.3875   \n",
       "1       139.00             72.0000               143.0000   \n",
       "2         8.00             52.0000               148.0000   \n",
       "3         8.00             84.0000                 3.0000   \n",
       "4         2.00             11.0000                72.0000   \n",
       "5        79.00             19.0000                68.0000   \n",
       "6        93.00             68.0000               135.0000   \n",
       "7        79.00             52.0000               157.0000   \n",
       "8        93.00            108.0000               176.0000   \n",
       "9        62.00             47.0000                76.0000   \n",
       "10       86.45             88.2125                95.3875   \n",
       "11       45.00             94.0000                51.0000   \n",
       "12       32.00            103.0000                66.0000   \n",
       "13      105.00             92.0000               162.0000   \n",
       "14       32.00             76.0000               171.0000   \n",
       "15      129.00             72.0000                69.0000   \n",
       "16       79.00             42.0000               144.0000   \n",
       "17       93.00             23.0000                58.0000   \n",
       "18       86.45             88.2125                95.3875   \n",
       "19      115.00             14.0000                92.0000   \n",
       "\n",
       "    DRIVING_ACCURACY_RANK  GIR_RANK  SCRAMBLING_RANK  \n",
       "0                  83.625   90.3125          92.0125  \n",
       "1                  28.000   36.0000          24.0000  \n",
       "2                  11.000    1.0000          77.0000  \n",
       "3                 173.000   77.0000          14.0000  \n",
       "4                  30.000    6.0000           2.0000  \n",
       "5                  47.000   60.0000         115.0000  \n",
       "6                  34.000  128.0000          58.0000  \n",
       "7                   2.000   44.0000          87.0000  \n",
       "8                  14.000   10.0000          78.0000  \n",
       "9                  80.000    3.0000         131.0000  \n",
       "10                 83.625   90.3125          92.0125  \n",
       "11                129.000   88.0000         144.0000  \n",
       "12                121.000   68.0000         114.0000  \n",
       "13                 17.000    5.0000          32.0000  \n",
       "14                  1.000   19.0000         129.0000  \n",
       "15                102.000   82.0000         122.0000  \n",
       "16                  8.000   13.0000          66.0000  \n",
       "17                 61.000   37.0000         100.0000  \n",
       "18                 83.625   90.3125          92.0125  \n",
       "19                 12.000   35.0000          26.0000  "
      ]
     },
     "execution_count": 58,
     "metadata": {},
     "output_type": "execute_result"
    }
   ],
   "source": [
    "# === Prepare test data (this week's players) ===\n",
    "\n",
    "# Select and standardize features using the same scaler as training\n",
    "X_test = this_week[feature_cols]\n",
    "X_test_scaled = scaler.transform(X_test)\n",
    "\n",
    "# === Predict probabilities for Top 20 finish ===\n",
    "# CalibratedClassifierCV returns well-calibrated probabilities\n",
    "this_week[\"PROBABILITY\"] = final_model.predict_proba(X_test_scaled)[:, 1]\n",
    "\n",
    "# === Sort results by highest predicted probability ===\n",
    "this_week_sorted = this_week.sort_values(by=\"PROBABILITY\", ascending=False).reset_index(drop=True)\n",
    "\n",
    "# === Define final column order explicitly ===\n",
    "columns_to_show = [\n",
    "    \"PLAYER\", \"SALARY\", \"PROBABILITY\",\n",
    "    \"RECENT_FORM\", \"COURSE_HISTORY\", \"VEGAS_ODDS\", \"CUT_PERCENTAGE\", \n",
    "    \"OWGR_RANK\", \"FEDEX_CUP_POINTS\",\n",
    "\n",
    "    # SG stats\n",
    "    \"SGTTG_RANK\", \"SGOTT_RANK\", \"SGAPR_RANK\", \"SGATG_RANK\", \"SGP_RANK\",\n",
    "\n",
    "    # Scoring/Performance\n",
    "    \"BIRDIES_RANK\", \"PAR_3_RANK\", \"PAR_4_RANK\", \"PAR_5_RANK\",\n",
    "\n",
    "    # Driving / Ball Striking\n",
    "    \"TOTAL_DRIVING_RANK\", \"DRIVING_DISTANCE_RANK\", \"DRIVING_ACCURACY_RANK\",\n",
    "    \"GIR_RANK\", \"SCRAMBLING_RANK\"\n",
    "]\n",
    "\n",
    "# Keep only columns that exist in the dataframe\n",
    "columns_to_show = [col for col in columns_to_show if col in this_week_sorted.columns]\n",
    "\n",
    "# Final dataframe for display/export\n",
    "export_df = this_week_sorted[columns_to_show].copy()\n",
    "\n",
    "# Preview top 20\n",
    "export_df.head(20)\n"
   ]
  },
  {
   "cell_type": "markdown",
   "id": "8641f78e",
   "metadata": {},
   "source": [
    "### Save to CSV"
   ]
  },
  {
   "cell_type": "code",
   "execution_count": 60,
   "id": "323933e9",
   "metadata": {},
   "outputs": [
    {
     "name": "stdout",
     "output_type": "stream",
     "text": [
      "✅ Exported to data/current_week_export.csv\n"
     ]
    }
   ],
   "source": [
    "# Ensure required columns for spreadsheet export\n",
    "if \"COURSE_HISTORY\" not in export_df.columns:\n",
    "    export_df[\"COURSE_HISTORY\"] = \"-\"\n",
    "\n",
    "# Define columns to round (FedEx + stats)\n",
    "columns_to_round = [\n",
    "    \"FEDEX_CUP_POINTS\",\n",
    "    \"SGTTG_RANK\", \"SGOTT_RANK\", \"SGAPR_RANK\", \"SGATG_RANK\", \"SGP_RANK\",\n",
    "    \"BIRDIES_RANK\", \"PAR_3_RANK\", \"PAR_4_RANK\", \"PAR_5_RANK\",\n",
    "    \"TOTAL_DRIVING_RANK\", \"DRIVING_DISTANCE_RANK\", \"DRIVING_ACCURACY_RANK\",\n",
    "    \"GIR_RANK\", \"SCRAMBLING_RANK\"\n",
    "]\n",
    "\n",
    "columns_to_round_1 = [\n",
    "    \"COURSE_HISTORY\", \"CUT_PERCENTAGE\"\n",
    "]\n",
    "\n",
    "# Round only the selected columns to 0 decimal places\n",
    "export_df[columns_to_round] = export_df[columns_to_round].round(0).astype(\"Int64\")\n",
    "# Round only the selected columns to 1 decimal places\n",
    "export_df[columns_to_round_1] = export_df[columns_to_round_1].round(1)\n",
    "\n",
    "# Explicit column order for Excel integration\n",
    "column_order = [\n",
    "    \"PLAYER\", \"SALARY\", \"PROBABILITY\", \"RECENT_FORM\", \"COURSE_HISTORY\", \"VEGAS_ODDS\", \n",
    "    \"CUT_PERCENTAGE\", \"OWGR_RANK\", \"FEDEX_CUP_POINTS\", \n",
    "    \"SGTTG_RANK\", \"SGOTT_RANK\", \"SGAPR_RANK\", \"SGATG_RANK\", \"SGP_RANK\",\n",
    "    \"BIRDIES_RANK\", \"PAR_3_RANK\", \"PAR_4_RANK\", \"PAR_5_RANK\",\n",
    "    \"TOTAL_DRIVING_RANK\", \"DRIVING_DISTANCE_RANK\", \"DRIVING_ACCURACY_RANK\",\n",
    "    \"GIR_RANK\", \"SCRAMBLING_RANK\"\n",
    "]\n",
    "\n",
    "# Ensure all expected columns exist\n",
    "for col in column_order:\n",
    "    if col not in export_df.columns:\n",
    "        export_df[col] = \"-\" if col == \"COURSE_HISTORY\" else np.nan\n",
    "\n",
    "# Reorder columns to match Excel layout\n",
    "export_df = export_df[column_order]\n",
    "\n",
    "# Export to CSV\n",
    "filename = f\"data/current_week_export.csv\"\n",
    "export_df.to_csv(filename, index=False)\n",
    "print(f\"✅ Exported to {filename}\")"
   ]
  }
 ],
 "metadata": {
  "kernelspec": {
   "display_name": "Python 3",
   "language": "python",
   "name": "python3"
  },
  "language_info": {
   "codemirror_mode": {
    "name": "ipython",
    "version": 3
   },
   "file_extension": ".py",
   "mimetype": "text/x-python",
   "name": "python",
   "nbconvert_exporter": "python",
   "pygments_lexer": "ipython3",
   "version": "3.13.3"
  }
 },
 "nbformat": 4,
 "nbformat_minor": 5
}
