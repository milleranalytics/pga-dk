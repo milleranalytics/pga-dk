{
 "cells": [
  {
   "cell_type": "markdown",
   "id": "51850cd5",
   "metadata": {},
   "source": [
    "## PGA Draftkings Notebook\n",
    "Use [PGA Website](https://www.pgatour.com/tournaments/schedule.html) to look up tournament info and fill out first USER INPUT block below. (Fetch/XHR from Network tab, Paylod sub-tab)\n",
    "\n",
    "Looks like the tournament ID is also in the address bar."
   ]
  },
  {
   "cell_type": "markdown",
   "id": "cc589d19",
   "metadata": {},
   "source": [
    "### User Input"
   ]
  },
  {
   "cell_type": "code",
   "execution_count": 4,
   "id": "5b16fd89",
   "metadata": {},
   "outputs": [],
   "source": [
    "# === USER INPUTS ===\n",
    "# Old Tournament\n",
    "old_tournament_name = \"Genesis Scottish Open\"\n",
    "tournament_date = \"7/13/2025\"  # Ending date of tournament\n",
    "old_course = \"The Renaissance Club\"\n",
    "tournament_id = \"R2025541\"  # Tournament ID from the PGA Tour API - Also visible in the URL of the tournament page\n",
    "\n",
    "# New Tournament\n",
    "new_tournament_name = \"The Open Championship\"\n",
    "new_ending_date = \"7/20/2025\"\n",
    "new_course = \"Royal Portrush Golf Club\"\n",
    "new_season = 2025\n",
    "\n",
    "\n",
    "# === LIBRARIES AND VARIABLES ===\n",
    "# Import necessary libraries\n",
    "import requests\n",
    "import pandas as pd\n",
    "from datetime import datetime\n",
    "import sqlite3 as sql\n",
    "import numpy as np\n",
    "from numpy import nan\n",
    "import os\n",
    "import importlib\n",
    "import utils.db_utils\n",
    "from utils.db_utils import TOURNAMENT_NAME_MAP, PLAYER_NAME_MAP\n",
    "\n",
    "# === TOURNAMENT CONFIG ===\n",
    "tournament_config = {\n",
    "    \"old\": {\n",
    "        \"name\": old_tournament_name,\n",
    "        \"date\": tournament_date,\n",
    "        \"course\": old_course,\n",
    "        \"id\": tournament_id\n",
    "    },\n",
    "    \"new\": {\n",
    "        \"name\": new_tournament_name,\n",
    "        \"course\": new_course,\n",
    "        \"season\": new_season,\n",
    "        \"ending_date\": pd.to_datetime(new_ending_date, format=\"%m/%d/%Y\"),\n",
    "        \"quoted_course\": f'\"{new_course}\"',\n",
    "        \"quoted_name\": f\"'{new_tournament_name}'\"\n",
    "    }\n",
    "}\n",
    "\n",
    "this_week_key = str(tournament_config[\"new\"][\"ending_date\"].date())\n",
    "\n",
    "# Create a minimal one-row history DataFrame\n",
    "this_week_history = pd.DataFrame([{\n",
    "    \"SEASON\": tournament_config[\"new\"][\"season\"],\n",
    "    \"TOURNAMENT\": tournament_config[\"new\"][\"name\"],\n",
    "    \"ENDING_DATE\": tournament_config[\"new\"][\"ending_date\"],\n",
    "    \"COURSE\": tournament_config[\"new\"][\"course\"],\n",
    "    \"TOURN_ID\": None\n",
    "}])"
   ]
  },
  {
   "cell_type": "markdown",
   "id": "cd739282",
   "metadata": {},
   "source": [
    "### Update Database"
   ]
  },
  {
   "cell_type": "markdown",
   "id": "cebfc2dc",
   "metadata": {},
   "source": [
    "#### Old Tournament"
   ]
  },
  {
   "cell_type": "code",
   "execution_count": 5,
   "id": "31b12dc0",
   "metadata": {},
   "outputs": [
    {
     "name": "stdout",
     "output_type": "stream",
     "text": [
      "📦 Fetching results for tournament ID R2025541 (Genesis Scottish Open), year: 20250\n",
      "✅ 156 new rows added for 'Genesis Scottish Open'\n"
     ]
    },
    {
     "data": {
      "text/html": [
       "<div>\n",
       "<style scoped>\n",
       "    .dataframe tbody tr th:only-of-type {\n",
       "        vertical-align: middle;\n",
       "    }\n",
       "\n",
       "    .dataframe tbody tr th {\n",
       "        vertical-align: top;\n",
       "    }\n",
       "\n",
       "    .dataframe thead th {\n",
       "        text-align: right;\n",
       "    }\n",
       "</style>\n",
       "<table border=\"1\" class=\"dataframe\">\n",
       "  <thead>\n",
       "    <tr style=\"text-align: right;\">\n",
       "      <th></th>\n",
       "      <th>SEASON</th>\n",
       "      <th>ENDING_DATE</th>\n",
       "      <th>TOURN_ID</th>\n",
       "      <th>TOURNAMENT</th>\n",
       "      <th>COURSE</th>\n",
       "      <th>PLAYER</th>\n",
       "      <th>POS</th>\n",
       "      <th>FINAL_POS</th>\n",
       "      <th>ROUNDS:1</th>\n",
       "      <th>ROUNDS:2</th>\n",
       "      <th>ROUNDS:3</th>\n",
       "      <th>ROUNDS:4</th>\n",
       "      <th>OFFICIAL_MONEY</th>\n",
       "      <th>FEDEX_CUP_POINTS</th>\n",
       "    </tr>\n",
       "  </thead>\n",
       "  <tbody>\n",
       "    <tr>\n",
       "      <th>0</th>\n",
       "      <td>2025</td>\n",
       "      <td>2025-07-13</td>\n",
       "      <td>R2025541</td>\n",
       "      <td>Genesis Scottish Open</td>\n",
       "      <td>The Renaissance Club</td>\n",
       "      <td>Chris Gotterup</td>\n",
       "      <td>1</td>\n",
       "      <td>1</td>\n",
       "      <td>-2</td>\n",
       "      <td>-9</td>\n",
       "      <td>E</td>\n",
       "      <td>-4</td>\n",
       "      <td>$1,575,000.00</td>\n",
       "      <td>500.000</td>\n",
       "    </tr>\n",
       "    <tr>\n",
       "      <th>1</th>\n",
       "      <td>2025</td>\n",
       "      <td>2025-07-13</td>\n",
       "      <td>R2025541</td>\n",
       "      <td>Genesis Scottish Open</td>\n",
       "      <td>The Renaissance Club</td>\n",
       "      <td>Marco Penge</td>\n",
       "      <td>T2</td>\n",
       "      <td>2</td>\n",
       "      <td>-5</td>\n",
       "      <td>-3</td>\n",
       "      <td>-1</td>\n",
       "      <td>-4</td>\n",
       "      <td>$788,175.00</td>\n",
       "      <td>0.000</td>\n",
       "    </tr>\n",
       "    <tr>\n",
       "      <th>2</th>\n",
       "      <td>2025</td>\n",
       "      <td>2025-07-13</td>\n",
       "      <td>R2025541</td>\n",
       "      <td>Genesis Scottish Open</td>\n",
       "      <td>The Renaissance Club</td>\n",
       "      <td>Rory McIlroy</td>\n",
       "      <td>T2</td>\n",
       "      <td>2</td>\n",
       "      <td>-2</td>\n",
       "      <td>-5</td>\n",
       "      <td>-4</td>\n",
       "      <td>-2</td>\n",
       "      <td>$788,175.00</td>\n",
       "      <td>245.000</td>\n",
       "    </tr>\n",
       "    <tr>\n",
       "      <th>3</th>\n",
       "      <td>2025</td>\n",
       "      <td>2025-07-13</td>\n",
       "      <td>R2025541</td>\n",
       "      <td>Genesis Scottish Open</td>\n",
       "      <td>The Renaissance Club</td>\n",
       "      <td>Nicolai Hjgaard</td>\n",
       "      <td>T4</td>\n",
       "      <td>4</td>\n",
       "      <td>-2</td>\n",
       "      <td>-1</td>\n",
       "      <td>-3</td>\n",
       "      <td>-6</td>\n",
       "      <td>$407,250.00</td>\n",
       "      <td>122.500</td>\n",
       "    </tr>\n",
       "    <tr>\n",
       "      <th>4</th>\n",
       "      <td>2025</td>\n",
       "      <td>2025-07-13</td>\n",
       "      <td>R2025541</td>\n",
       "      <td>Genesis Scottish Open</td>\n",
       "      <td>The Renaissance Club</td>\n",
       "      <td>Matt Fitzpatrick</td>\n",
       "      <td>T4</td>\n",
       "      <td>4</td>\n",
       "      <td>-1</td>\n",
       "      <td>-7</td>\n",
       "      <td>-1</td>\n",
       "      <td>-3</td>\n",
       "      <td>$407,250.00</td>\n",
       "      <td>122.500</td>\n",
       "    </tr>\n",
       "  </tbody>\n",
       "</table>\n",
       "</div>"
      ],
      "text/plain": [
       "   SEASON ENDING_DATE  TOURN_ID             TOURNAMENT                COURSE  \\\n",
       "0    2025  2025-07-13  R2025541  Genesis Scottish Open  The Renaissance Club   \n",
       "1    2025  2025-07-13  R2025541  Genesis Scottish Open  The Renaissance Club   \n",
       "2    2025  2025-07-13  R2025541  Genesis Scottish Open  The Renaissance Club   \n",
       "3    2025  2025-07-13  R2025541  Genesis Scottish Open  The Renaissance Club   \n",
       "4    2025  2025-07-13  R2025541  Genesis Scottish Open  The Renaissance Club   \n",
       "\n",
       "             PLAYER POS  FINAL_POS ROUNDS:1 ROUNDS:2 ROUNDS:3 ROUNDS:4  \\\n",
       "0    Chris Gotterup   1          1       -2       -9        E       -4   \n",
       "1       Marco Penge  T2          2       -5       -3       -1       -4   \n",
       "2      Rory McIlroy  T2          2       -2       -5       -4       -2   \n",
       "3   Nicolai Hjgaard  T4          4       -2       -1       -3       -6   \n",
       "4  Matt Fitzpatrick  T4          4       -1       -7       -1       -3   \n",
       "\n",
       "  OFFICIAL_MONEY FEDEX_CUP_POINTS  \n",
       "0  $1,575,000.00          500.000  \n",
       "1    $788,175.00            0.000  \n",
       "2    $788,175.00          245.000  \n",
       "3    $407,250.00          122.500  \n",
       "4    $407,250.00          122.500  "
      ]
     },
     "execution_count": 5,
     "metadata": {},
     "output_type": "execute_result"
    }
   ],
   "source": [
    "importlib.reload(utils.db_utils)  # Only needed if you're actively editing db_utils.py\n",
    "from utils.db_utils import update_tournament_results\n",
    "\n",
    "# Change these each year!!\n",
    "season = 2025\n",
    "year = 20250  # Unique GraphQL year distinguishing number in case of multiple per year\n",
    "\n",
    "# Run the update\n",
    "db_path = \"data/golf.db\"  # Or use os.path.join(\"data\", \"golf.db\")\n",
    "tournDf = update_tournament_results(tournament_config, db_path, season, year)\n",
    "\n",
    "# Show just the most recent tournament added for confirmation\n",
    "from sqlalchemy import create_engine\n",
    "\n",
    "engine = create_engine(f\"sqlite:///{db_path}\")\n",
    "\n",
    "query = f\"\"\"\n",
    "SELECT *\n",
    "FROM tournaments\n",
    "WHERE TOURN_ID = '{tournament_config['old']['id']}'\n",
    "  AND ENDING_DATE = '{datetime.strptime(tournament_config['old']['date'], '%m/%d/%Y').date()}'\n",
    "\"\"\"\n",
    "\n",
    "recent = pd.read_sql(query, engine)\n",
    "engine.dispose()\n",
    "recent.sort_values(by='FINAL_POS').head()"
   ]
  },
  {
   "cell_type": "markdown",
   "id": "fb1dcb69",
   "metadata": {},
   "source": [
    "#### Stats"
   ]
  },
  {
   "cell_type": "code",
   "execution_count": 6,
   "id": "0cf3acf5",
   "metadata": {},
   "outputs": [
    {
     "name": "stdout",
     "output_type": "stream",
     "text": [
      "✅ Overwrote stats for season 2025 with 998 rows.\n"
     ]
    },
    {
     "data": {
      "text/html": [
       "<div>\n",
       "<style scoped>\n",
       "    .dataframe tbody tr th:only-of-type {\n",
       "        vertical-align: middle;\n",
       "    }\n",
       "\n",
       "    .dataframe tbody tr th {\n",
       "        vertical-align: top;\n",
       "    }\n",
       "\n",
       "    .dataframe thead th {\n",
       "        text-align: right;\n",
       "    }\n",
       "</style>\n",
       "<table border=\"1\" class=\"dataframe\">\n",
       "  <thead>\n",
       "    <tr style=\"text-align: right;\">\n",
       "      <th></th>\n",
       "      <th>PLAYER</th>\n",
       "      <th>SGTTG_RANK</th>\n",
       "      <th>SGTTG</th>\n",
       "      <th>SGOTT_RANK</th>\n",
       "      <th>SGOTT</th>\n",
       "      <th>SGAPR_RANK</th>\n",
       "      <th>SGAPR</th>\n",
       "      <th>SGATG_RANK</th>\n",
       "      <th>SGATG</th>\n",
       "      <th>SGP_RANK</th>\n",
       "      <th>...</th>\n",
       "      <th>DRIVING_DISTANCE</th>\n",
       "      <th>DRIVING_ACCURACY_RANK</th>\n",
       "      <th>DRIVING_ACCURACY</th>\n",
       "      <th>GIR_RANK</th>\n",
       "      <th>GIR</th>\n",
       "      <th>SCRAMBLING_RANK</th>\n",
       "      <th>SCRAMBLING</th>\n",
       "      <th>OWGR_RANK</th>\n",
       "      <th>OWGR</th>\n",
       "      <th>SEASON</th>\n",
       "    </tr>\n",
       "  </thead>\n",
       "  <tbody>\n",
       "    <tr>\n",
       "      <th>0</th>\n",
       "      <td>A.J. Ewart</td>\n",
       "      <td>NaN</td>\n",
       "      <td>NaN</td>\n",
       "      <td>NaN</td>\n",
       "      <td>NaN</td>\n",
       "      <td>NaN</td>\n",
       "      <td>NaN</td>\n",
       "      <td>NaN</td>\n",
       "      <td>NaN</td>\n",
       "      <td>NaN</td>\n",
       "      <td>...</td>\n",
       "      <td>NaN</td>\n",
       "      <td>NaN</td>\n",
       "      <td>NaN</td>\n",
       "      <td>NaN</td>\n",
       "      <td>NaN</td>\n",
       "      <td>NaN</td>\n",
       "      <td>NaN</td>\n",
       "      <td>631</td>\n",
       "      <td>.1868</td>\n",
       "      <td>2025</td>\n",
       "    </tr>\n",
       "    <tr>\n",
       "      <th>1</th>\n",
       "      <td>Aaron Baddeley</td>\n",
       "      <td>172.0</td>\n",
       "      <td>-1.231</td>\n",
       "      <td>176.0</td>\n",
       "      <td>-1.271</td>\n",
       "      <td>159.0</td>\n",
       "      <td>-0.454</td>\n",
       "      <td>7.0</td>\n",
       "      <td>0.494</td>\n",
       "      <td>153.0</td>\n",
       "      <td>...</td>\n",
       "      <td>290.1</td>\n",
       "      <td>115.0</td>\n",
       "      <td>57.46%</td>\n",
       "      <td>175.0</td>\n",
       "      <td>59.69%</td>\n",
       "      <td>69.0</td>\n",
       "      <td>60.42%</td>\n",
       "      <td>497</td>\n",
       "      <td>.2656</td>\n",
       "      <td>2025</td>\n",
       "    </tr>\n",
       "    <tr>\n",
       "      <th>2</th>\n",
       "      <td>Aaron Cockerill</td>\n",
       "      <td>NaN</td>\n",
       "      <td>NaN</td>\n",
       "      <td>NaN</td>\n",
       "      <td>NaN</td>\n",
       "      <td>NaN</td>\n",
       "      <td>NaN</td>\n",
       "      <td>NaN</td>\n",
       "      <td>NaN</td>\n",
       "      <td>NaN</td>\n",
       "      <td>...</td>\n",
       "      <td>NaN</td>\n",
       "      <td>NaN</td>\n",
       "      <td>NaN</td>\n",
       "      <td>NaN</td>\n",
       "      <td>NaN</td>\n",
       "      <td>NaN</td>\n",
       "      <td>NaN</td>\n",
       "      <td>336</td>\n",
       "      <td>.4307</td>\n",
       "      <td>2025</td>\n",
       "    </tr>\n",
       "    <tr>\n",
       "      <th>3</th>\n",
       "      <td>Aaron Rai</td>\n",
       "      <td>28.0</td>\n",
       "      <td>0.724</td>\n",
       "      <td>22.0</td>\n",
       "      <td>0.390</td>\n",
       "      <td>50.0</td>\n",
       "      <td>0.247</td>\n",
       "      <td>68.0</td>\n",
       "      <td>0.087</td>\n",
       "      <td>113.0</td>\n",
       "      <td>...</td>\n",
       "      <td>287.8</td>\n",
       "      <td>2.0</td>\n",
       "      <td>73.62%</td>\n",
       "      <td>25.0</td>\n",
       "      <td>69.26%</td>\n",
       "      <td>102.0</td>\n",
       "      <td>59.04%</td>\n",
       "      <td>36</td>\n",
       "      <td>2.6092</td>\n",
       "      <td>2025</td>\n",
       "    </tr>\n",
       "    <tr>\n",
       "      <th>4</th>\n",
       "      <td>Aaron Wilkin</td>\n",
       "      <td>NaN</td>\n",
       "      <td>NaN</td>\n",
       "      <td>NaN</td>\n",
       "      <td>NaN</td>\n",
       "      <td>NaN</td>\n",
       "      <td>NaN</td>\n",
       "      <td>NaN</td>\n",
       "      <td>NaN</td>\n",
       "      <td>NaN</td>\n",
       "      <td>...</td>\n",
       "      <td>NaN</td>\n",
       "      <td>NaN</td>\n",
       "      <td>NaN</td>\n",
       "      <td>NaN</td>\n",
       "      <td>NaN</td>\n",
       "      <td>NaN</td>\n",
       "      <td>NaN</td>\n",
       "      <td>862</td>\n",
       "      <td>.1092</td>\n",
       "      <td>2025</td>\n",
       "    </tr>\n",
       "  </tbody>\n",
       "</table>\n",
       "<p>5 rows × 32 columns</p>\n",
       "</div>"
      ],
      "text/plain": [
       "            PLAYER  SGTTG_RANK   SGTTG  SGOTT_RANK   SGOTT  SGAPR_RANK  \\\n",
       "0       A.J. Ewart         NaN     NaN         NaN     NaN         NaN   \n",
       "1   Aaron Baddeley       172.0  -1.231       176.0  -1.271       159.0   \n",
       "2  Aaron Cockerill         NaN     NaN         NaN     NaN         NaN   \n",
       "3        Aaron Rai        28.0   0.724        22.0   0.390        50.0   \n",
       "4     Aaron Wilkin         NaN     NaN         NaN     NaN         NaN   \n",
       "\n",
       "    SGAPR  SGATG_RANK  SGATG  SGP_RANK  ... DRIVING_DISTANCE  \\\n",
       "0     NaN         NaN    NaN       NaN  ...              NaN   \n",
       "1  -0.454         7.0  0.494     153.0  ...            290.1   \n",
       "2     NaN         NaN    NaN       NaN  ...              NaN   \n",
       "3   0.247        68.0  0.087     113.0  ...            287.8   \n",
       "4     NaN         NaN    NaN       NaN  ...              NaN   \n",
       "\n",
       "   DRIVING_ACCURACY_RANK DRIVING_ACCURACY  GIR_RANK     GIR  SCRAMBLING_RANK  \\\n",
       "0                    NaN              NaN       NaN     NaN              NaN   \n",
       "1                  115.0           57.46%     175.0  59.69%             69.0   \n",
       "2                    NaN              NaN       NaN     NaN              NaN   \n",
       "3                    2.0           73.62%      25.0  69.26%            102.0   \n",
       "4                    NaN              NaN       NaN     NaN              NaN   \n",
       "\n",
       "  SCRAMBLING  OWGR_RANK    OWGR  SEASON  \n",
       "0        NaN        631   .1868    2025  \n",
       "1     60.42%        497   .2656    2025  \n",
       "2        NaN        336   .4307    2025  \n",
       "3     59.04%         36  2.6092    2025  \n",
       "4        NaN        862   .1092    2025  \n",
       "\n",
       "[5 rows x 32 columns]"
      ]
     },
     "execution_count": 6,
     "metadata": {},
     "output_type": "execute_result"
    }
   ],
   "source": [
    "importlib.reload(utils.db_utils)\n",
    "from utils.db_utils import update_season_stats  # <- This line is essential\n",
    "\n",
    "# Change these each year!!\n",
    "statsYear = 2025\n",
    "\n",
    "stats_df = update_season_stats(statsYear, db_path)\n",
    "stats_df.head()"
   ]
  },
  {
   "cell_type": "markdown",
   "id": "e4d0572b",
   "metadata": {},
   "source": [
    "#### Odds\n",
    "Not usually needed for weekly routine."
   ]
  },
  {
   "cell_type": "markdown",
   "id": "ed73bb90",
   "metadata": {},
   "source": [
    "**Manual Fix! Odds name cleanup (only needed when joins fail)**\n",
    "\n",
    "Make sure to update the dictionaries in db_utils.py if new names need to be added."
   ]
  },
  {
   "cell_type": "code",
   "execution_count": 19,
   "id": "f47573f7",
   "metadata": {},
   "outputs": [
    {
     "name": "stdout",
     "output_type": "stream",
     "text": [
      "✅ Cleaned and updated 207 rows in 'odds' table.\n"
     ]
    },
    {
     "data": {
      "text/html": [
       "<div>\n",
       "<style scoped>\n",
       "    .dataframe tbody tr th:only-of-type {\n",
       "        vertical-align: middle;\n",
       "    }\n",
       "\n",
       "    .dataframe tbody tr th {\n",
       "        vertical-align: top;\n",
       "    }\n",
       "\n",
       "    .dataframe thead th {\n",
       "        text-align: right;\n",
       "    }\n",
       "</style>\n",
       "<table border=\"1\" class=\"dataframe\">\n",
       "  <thead>\n",
       "    <tr style=\"text-align: right;\">\n",
       "      <th></th>\n",
       "      <th>SEASON</th>\n",
       "      <th>TOURNAMENT</th>\n",
       "      <th>ENDING_DATE</th>\n",
       "      <th>PLAYER</th>\n",
       "      <th>ODDS</th>\n",
       "      <th>VEGAS_ODDS</th>\n",
       "      <th>TOURNAMENT_ORIG</th>\n",
       "      <th>PLAYER_ORIG</th>\n",
       "    </tr>\n",
       "  </thead>\n",
       "  <tbody>\n",
       "    <tr>\n",
       "      <th>5797</th>\n",
       "      <td>2024</td>\n",
       "      <td>The Open Championship</td>\n",
       "      <td>2024-07-21</td>\n",
       "      <td>Rory McIlroy</td>\n",
       "      <td>17/2</td>\n",
       "      <td>8.5</td>\n",
       "      <td>Open Championship</td>\n",
       "      <td>Rory McIlroy</td>\n",
       "    </tr>\n",
       "    <tr>\n",
       "      <th>5798</th>\n",
       "      <td>2024</td>\n",
       "      <td>The Open Championship</td>\n",
       "      <td>2024-07-21</td>\n",
       "      <td>Jon Rahm</td>\n",
       "      <td>20/1</td>\n",
       "      <td>20.0</td>\n",
       "      <td>Open Championship</td>\n",
       "      <td>Jon Rahm</td>\n",
       "    </tr>\n",
       "    <tr>\n",
       "      <th>5799</th>\n",
       "      <td>2024</td>\n",
       "      <td>The Open Championship</td>\n",
       "      <td>2024-07-21</td>\n",
       "      <td>Scottie Scheffler</td>\n",
       "      <td>11/2</td>\n",
       "      <td>5.5</td>\n",
       "      <td>Open Championship</td>\n",
       "      <td>Scottie Scheffler</td>\n",
       "    </tr>\n",
       "    <tr>\n",
       "      <th>5800</th>\n",
       "      <td>2024</td>\n",
       "      <td>The Open Championship</td>\n",
       "      <td>2024-07-21</td>\n",
       "      <td>Viktor Hovland</td>\n",
       "      <td>30/1</td>\n",
       "      <td>30.0</td>\n",
       "      <td>Open Championship</td>\n",
       "      <td>Viktor Hovland</td>\n",
       "    </tr>\n",
       "    <tr>\n",
       "      <th>5801</th>\n",
       "      <td>2024</td>\n",
       "      <td>The Open Championship</td>\n",
       "      <td>2024-07-21</td>\n",
       "      <td>Cameron Smith</td>\n",
       "      <td>50/1</td>\n",
       "      <td>50.0</td>\n",
       "      <td>Open Championship</td>\n",
       "      <td>Cameron Smith</td>\n",
       "    </tr>\n",
       "  </tbody>\n",
       "</table>\n",
       "</div>"
      ],
      "text/plain": [
       "      SEASON             TOURNAMENT ENDING_DATE             PLAYER  ODDS  \\\n",
       "5797    2024  The Open Championship  2024-07-21       Rory McIlroy  17/2   \n",
       "5798    2024  The Open Championship  2024-07-21           Jon Rahm  20/1   \n",
       "5799    2024  The Open Championship  2024-07-21  Scottie Scheffler  11/2   \n",
       "5800    2024  The Open Championship  2024-07-21     Viktor Hovland  30/1   \n",
       "5801    2024  The Open Championship  2024-07-21      Cameron Smith  50/1   \n",
       "\n",
       "      VEGAS_ODDS    TOURNAMENT_ORIG        PLAYER_ORIG  \n",
       "5797         8.5  Open Championship       Rory McIlroy  \n",
       "5798        20.0  Open Championship           Jon Rahm  \n",
       "5799         5.5  Open Championship  Scottie Scheffler  \n",
       "5800        30.0  Open Championship     Viktor Hovland  \n",
       "5801        50.0  Open Championship      Cameron Smith  "
      ]
     },
     "execution_count": 19,
     "metadata": {},
     "output_type": "execute_result"
    }
   ],
   "source": [
    "importlib.reload(utils.db_utils)\n",
    "from utils.db_utils import clean_odds_names, PLAYER_NAME_MAP, TOURNAMENT_NAME_MAP\n",
    "\n",
    "db_path = \"data/golf.db\" \n",
    "updated_odds = clean_odds_names(db_path, TOURNAMENT_NAME_MAP, PLAYER_NAME_MAP)\n",
    "updated_odds.head()"
   ]
  },
  {
   "cell_type": "markdown",
   "id": "3ffcf8d8",
   "metadata": {},
   "source": [
    "**Historical Odds Updates**\n",
    "\n",
    "Only run this when loading in entire year odds at the start of each year or if corrections need to be made.  This will load in the entire year into the database and update it using the dictionary in db_utils.py."
   ]
  },
  {
   "cell_type": "code",
   "execution_count": 15,
   "id": "7b0ef77d",
   "metadata": {},
   "outputs": [
    {
     "name": "stdout",
     "output_type": "stream",
     "text": [
      "✅ Inserting 120 new rows into odds table...\n"
     ]
    },
    {
     "data": {
      "text/html": [
       "<div>\n",
       "<style scoped>\n",
       "    .dataframe tbody tr th:only-of-type {\n",
       "        vertical-align: middle;\n",
       "    }\n",
       "\n",
       "    .dataframe tbody tr th {\n",
       "        vertical-align: top;\n",
       "    }\n",
       "\n",
       "    .dataframe thead th {\n",
       "        text-align: right;\n",
       "    }\n",
       "</style>\n",
       "<table border=\"1\" class=\"dataframe\">\n",
       "  <thead>\n",
       "    <tr style=\"text-align: right;\">\n",
       "      <th></th>\n",
       "      <th>SEASON</th>\n",
       "      <th>TOURNAMENT</th>\n",
       "      <th>ENDING_DATE</th>\n",
       "      <th>PLAYER</th>\n",
       "      <th>ODDS</th>\n",
       "      <th>VEGAS_ODDS</th>\n",
       "    </tr>\n",
       "  </thead>\n",
       "  <tbody>\n",
       "    <tr>\n",
       "      <th>4</th>\n",
       "      <td>2023</td>\n",
       "      <td>Fortinet Championship</td>\n",
       "      <td>2022-09-18</td>\n",
       "      <td>Hideki Matsuyama</td>\n",
       "      <td>18/1</td>\n",
       "      <td>18.0</td>\n",
       "    </tr>\n",
       "    <tr>\n",
       "      <th>5</th>\n",
       "      <td>2023</td>\n",
       "      <td>Fortinet Championship</td>\n",
       "      <td>2022-09-18</td>\n",
       "      <td>Max Homa</td>\n",
       "      <td>18/1</td>\n",
       "      <td>18.0</td>\n",
       "    </tr>\n",
       "    <tr>\n",
       "      <th>6</th>\n",
       "      <td>2023</td>\n",
       "      <td>Fortinet Championship</td>\n",
       "      <td>2022-09-18</td>\n",
       "      <td>Corey Conners</td>\n",
       "      <td>20/1</td>\n",
       "      <td>20.0</td>\n",
       "    </tr>\n",
       "    <tr>\n",
       "      <th>7</th>\n",
       "      <td>2023</td>\n",
       "      <td>Fortinet Championship</td>\n",
       "      <td>2022-09-18</td>\n",
       "      <td>Maverick McNealy</td>\n",
       "      <td>25/1</td>\n",
       "      <td>25.0</td>\n",
       "    </tr>\n",
       "    <tr>\n",
       "      <th>8</th>\n",
       "      <td>2023</td>\n",
       "      <td>Fortinet Championship</td>\n",
       "      <td>2022-09-18</td>\n",
       "      <td>Taylor Pendrith</td>\n",
       "      <td>25/1</td>\n",
       "      <td>25.0</td>\n",
       "    </tr>\n",
       "  </tbody>\n",
       "</table>\n",
       "</div>"
      ],
      "text/plain": [
       "   SEASON             TOURNAMENT ENDING_DATE            PLAYER  ODDS  \\\n",
       "4    2023  Fortinet Championship  2022-09-18  Hideki Matsuyama  18/1   \n",
       "5    2023  Fortinet Championship  2022-09-18          Max Homa  18/1   \n",
       "6    2023  Fortinet Championship  2022-09-18     Corey Conners  20/1   \n",
       "7    2023  Fortinet Championship  2022-09-18  Maverick McNealy  25/1   \n",
       "8    2023  Fortinet Championship  2022-09-18   Taylor Pendrith  25/1   \n",
       "\n",
       "   VEGAS_ODDS  \n",
       "4        18.0  \n",
       "5        18.0  \n",
       "6        20.0  \n",
       "7        25.0  \n",
       "8        25.0  "
      ]
     },
     "execution_count": 15,
     "metadata": {},
     "output_type": "execute_result"
    }
   ],
   "source": [
    "importlib.reload(utils.db_utils)\n",
    "from utils.db_utils import import_historical_odds\n",
    "\n",
    "oddsYear = \"2022-2023\"    # URL segment\n",
    "season = 2023             # PGA Tour season\n",
    "db_path = \"data/golf.db\"\n",
    "\n",
    "odds_df = import_historical_odds(oddsYear, season, db_path)\n",
    "odds_df.head()"
   ]
  },
  {
   "cell_type": "markdown",
   "id": "82fc5dfe",
   "metadata": {},
   "source": [
    "**Not normally needed**\n",
    "\n",
    "The code below is a way to troubleshoot the odds function that is in db_utils.py.  If it does not pull the stats correctly, we can run it outside of the db_utils.py file and explore what might be wrong with it, iterating until it works, and then using that fix to update db_utils.py.  This is not normally needed, but wanted to leave this in place as a reference because this odds website can be tricky."
   ]
  },
  {
   "cell_type": "code",
   "execution_count": 16,
   "id": "94460f27",
   "metadata": {},
   "outputs": [
    {
     "name": "stdout",
     "output_type": "stream",
     "text": [
      "📍 Detected: Safeway Open — Ending: 2020-09-13\n",
      "📍 Detected: US Open — Ending: 2020-09-20\n",
      "📍 Detected: R & C Championship — Ending: 2020-09-27\n",
      "📍 Detected: at Big Cedar Lodge - — Ending: 2020-09-22\n",
      "📍 Detected: Sanderson Farms Champ — Ending: 2020-10-04\n",
      "📍 Detected: Shriners H for C Open — Ending: 2020-10-11\n",
      "📍 Detected: The CJ Cup — Ending: 2020-10-18\n",
      "📍 Detected: ZOZO CHAMPIONSHIP — Ending: 2020-10-25\n",
      "📍 Detected: Bermuda Championship — Ending: 2020-11-01\n",
      "📍 Detected: Vivint Houston Open — Ending: 2020-11-08\n",
      "📍 Detected: The Masters — Ending: 2020-11-15\n",
      "📍 Detected: The RSM Classic — Ending: 2020-11-22\n",
      "📍 Detected: Champions for Change — Ending: 2020-11-27\n",
      "📍 Detected: Mayakoba Golf Classic — Ending: 2020-12-06\n",
      "📍 Detected: QBE Shootout — Ending: 2020-12-13\n",
      "📍 Detected: Sentry Tourn of Champions — Ending: 2021-01-10\n",
      "📍 Detected: Sony Open in Hawaii — Ending: 2021-01-17\n",
      "📍 Detected: The American Express — Ending: 2021-01-24\n",
      "📍 Detected: Abu Dhabi HSBC Champ — Ending: 2021-01-24\n",
      "📍 Detected: Farmers Insurance Open — Ending: 2021-01-31\n",
      "📍 Detected: Dubai Desert Classic — Ending: 2021-01-31\n",
      "📍 Detected: W M Phoenix Open — Ending: 2021-02-07\n",
      "📍 Detected: King Abdullah Economic City, — Ending: 2021-02-07\n",
      "📍 Detected: AT&T Pebble Beach Pro-Am — Ending: 2021-02-14\n",
      "📍 Detected: Collegiate Showcase — Ending: 2021-02-15\n",
      "📍 Detected: The Genesis Invitational — Ending: 2021-02-21\n",
      "📍 Detected: WGC-Workday Championship — Ending: 2021-02-28\n",
      "📍 Detected: Puerto Rico Open — Ending: 2021-02-28\n",
      "📍 Detected: Arnold Palmer Invitational — Ending: 2021-03-07\n",
      "📍 Detected: THE PLAYERS Championship — Ending: 2021-03-14\n",
      "📍 Detected: Qatar Masters — Ending: 2021-03-14\n",
      "📍 Detected: The Honda Classic — Ending: 2021-03-21\n",
      "📍 Detected: Magical Kenya Open — Ending: 2021-03-21\n",
      "📍 Detected: Kenya Savannah Classic — Ending: 2021-03-26\n",
      "📍 Detected: WGC-Dell Tech Match Play — Ending: 2021-03-28\n",
      "📍 Detected: Corales Punta Cana Champ — Ending: 2021-03-28\n",
      "📍 Detected: Valero Texas Open — Ending: 2021-04-04\n",
      "📍 Detected: The Masters — Ending: 2021-04-11\n",
      "📍 Detected: RBC Heritage — Ending: 2021-04-18\n",
      "📍 Detected: Austrian Golf Open — Ending: 2021-04-18\n",
      "📍 Detected: MGM Resorts Championship — Ending: 2021-04-18\n",
      "📍 Detected: Zurich Classic of New Orleans — Ending: 2021-04-25\n",
      "📍 Detected: Gran Canaria Lopesan Open — Ending: 2021-04-25\n",
      "📍 Detected: Valspar Championship — Ending: 2021-05-02\n",
      "📍 Detected: Tenerife Open — Ending: 2021-05-02\n",
      "📍 Detected: Wells Fargo Championship — Ending: 2021-05-09\n",
      "📍 Detected: Canary Islands Championship — Ending: 2021-05-09\n",
      "📍 Detected: AT&T Byron Nelson — Ending: 2021-05-16\n",
      "📍 Detected: British Masters — Ending: 2021-05-16\n",
      "📍 Detected: PGA Championship — Ending: 2021-05-23\n",
      "📍 Detected: Charles Schwab Challenge — Ending: 2021-05-30\n",
      "📍 Detected: Made in Himmerland — Ending: 2021-05-30\n",
      "📍 Detected: The Memorial Tournament — Ending: 2021-06-06\n",
      "📍 Detected: Porsche European Open — Ending: 2021-06-07\n",
      "📍 Detected: Palmetto Championship — Ending: 2021-06-13\n",
      "📍 Detected: Scandinavian Mixed — Ending: 2021-06-13\n",
      "📍 Detected: US Open — Ending: 2021-06-20\n",
      "📍 Detected: Travelers Championship — Ending: 2021-06-27\n",
      "📍 Detected: BMW International Open — Ending: 2021-06-27\n",
      "📍 Detected: Rocket Mortgage Classic — Ending: 2021-07-04\n",
      "📍 Detected: Dubai Duty Free Irish Open — Ending: 2021-07-04\n",
      "📍 Detected: Moonlight Basin - — Ending: 2021-07-06\n",
      "📍 Detected: John Deere Classic — Ending: 2021-07-11\n",
      "📍 Detected: abrdn Scottish Open — Ending: 2021-07-11\n",
      "📍 Detected: The Open Championship — Ending: 2021-07-18\n",
      "📍 Detected: Barbasol Championship — Ending: 2021-07-18\n",
      "📍 Detected: 3M Open — Ending: 2021-07-25\n",
      "📍 Detected: Cazoo Open — Ending: 2021-07-25\n",
      "📍 Detected: Men's Olympic Golf — Ending: 2021-08-01\n",
      "📍 Detected: World Invitational — Ending: 2021-08-01\n",
      "📍 Detected: WGC-FedEx St. Jude Invit — Ending: 2021-08-08\n",
      "📍 Detected: Barracuda Championship — Ending: 2021-08-08\n",
      "📍 Detected: Hero Open — Ending: 2021-08-08\n",
      "📍 Detected: Wyndham Championship — Ending: 2021-08-15\n",
      "📍 Detected: Cazoo Classic — Ending: 2021-08-15\n",
      "📍 Detected: The Northern Trust — Ending: 2021-08-23\n",
      "📍 Detected: D+D Real Czech Masters — Ending: 2021-08-22\n",
      "📍 Detected: BMW Championship — Ending: 2021-08-29\n",
      "📍 Detected: Omega European Masters — Ending: 2021-08-29\n",
      "📍 Detected: TOUR Championship — Ending: 2021-09-05\n",
      "📍 Detected: Italian Open — Ending: 2021-09-05\n",
      "📍 Detected: BMW PGA Championship — Ending: 2021-09-12\n",
      "📍 Detected: Dutch Open — Ending: 2021-09-19\n",
      "📍 Detected: 43rd Ryder Cup — Ending: 2021-09-26\n",
      "📍 Detected: Alfred Dunhill Links Champ — Ending: 2021-10-03\n",
      "📍 Detected: Open de Espana — Ending: 2021-10-10\n",
      "📍 Detected: Andalucia Masters — Ending: 2021-10-17\n",
      "📍 Detected: Mallorca Golf Open — Ending: 2021-10-24\n",
      "📍 Detected: Portugal Masters — Ending: 2021-11-07\n",
      "📍 Detected: AVIV Dubai Championship — Ending: 2021-11-14\n",
      "📍 Detected: DP World Tour Championship — Ending: 2021-11-21\n",
      "📍 Detected: Golf Nippon Series JT Cup — Ending: 2021-12-05\n"
     ]
    },
    {
     "data": {
      "text/html": [
       "<div>\n",
       "<style scoped>\n",
       "    .dataframe tbody tr th:only-of-type {\n",
       "        vertical-align: middle;\n",
       "    }\n",
       "\n",
       "    .dataframe tbody tr th {\n",
       "        vertical-align: top;\n",
       "    }\n",
       "\n",
       "    .dataframe thead th {\n",
       "        text-align: right;\n",
       "    }\n",
       "</style>\n",
       "<table border=\"1\" class=\"dataframe\">\n",
       "  <thead>\n",
       "    <tr style=\"text-align: right;\">\n",
       "      <th></th>\n",
       "      <th>SEASON</th>\n",
       "      <th>TOURNAMENT</th>\n",
       "      <th>ENDING_DATE</th>\n",
       "      <th>PLAYER</th>\n",
       "      <th>ODDS</th>\n",
       "      <th>VEGAS_ODDS</th>\n",
       "    </tr>\n",
       "  </thead>\n",
       "  <tbody>\n",
       "    <tr>\n",
       "      <th>0</th>\n",
       "      <td>2021</td>\n",
       "      <td>Safeway Open</td>\n",
       "      <td>2020-09-13</td>\n",
       "      <td>Phil Mickelson</td>\n",
       "      <td>20/1</td>\n",
       "      <td>20.0</td>\n",
       "    </tr>\n",
       "    <tr>\n",
       "      <th>1</th>\n",
       "      <td>2021</td>\n",
       "      <td>Safeway Open</td>\n",
       "      <td>2020-09-13</td>\n",
       "      <td>Si Woo Kim</td>\n",
       "      <td>20/1</td>\n",
       "      <td>20.0</td>\n",
       "    </tr>\n",
       "    <tr>\n",
       "      <th>2</th>\n",
       "      <td>2021</td>\n",
       "      <td>Safeway Open</td>\n",
       "      <td>2020-09-13</td>\n",
       "      <td>Brendan Steele</td>\n",
       "      <td>20/1</td>\n",
       "      <td>20.0</td>\n",
       "    </tr>\n",
       "    <tr>\n",
       "      <th>3</th>\n",
       "      <td>2021</td>\n",
       "      <td>Safeway Open</td>\n",
       "      <td>2020-09-13</td>\n",
       "      <td>Shane Lowry</td>\n",
       "      <td>25/1</td>\n",
       "      <td>25.0</td>\n",
       "    </tr>\n",
       "    <tr>\n",
       "      <th>4</th>\n",
       "      <td>2021</td>\n",
       "      <td>Safeway Open</td>\n",
       "      <td>2020-09-13</td>\n",
       "      <td>Sergio Garcia</td>\n",
       "      <td>30/1</td>\n",
       "      <td>30.0</td>\n",
       "    </tr>\n",
       "  </tbody>\n",
       "</table>\n",
       "</div>"
      ],
      "text/plain": [
       "   SEASON    TOURNAMENT ENDING_DATE          PLAYER  ODDS  VEGAS_ODDS\n",
       "0    2021  Safeway Open  2020-09-13  Phil Mickelson  20/1        20.0\n",
       "1    2021  Safeway Open  2020-09-13      Si Woo Kim  20/1        20.0\n",
       "2    2021  Safeway Open  2020-09-13  Brendan Steele  20/1        20.0\n",
       "3    2021  Safeway Open  2020-09-13     Shane Lowry  25/1        25.0\n",
       "4    2021  Safeway Open  2020-09-13   Sergio Garcia  30/1        30.0"
      ]
     },
     "metadata": {},
     "output_type": "display_data"
    }
   ],
   "source": [
    "import pandas as pd\n",
    "import numpy as np\n",
    "import requests\n",
    "import re\n",
    "from datetime import datetime\n",
    "from io import StringIO\n",
    "\n",
    "# === USER INPUT ===\n",
    "oddsYear = \"2020-2021\"    # URL segment\n",
    "season = 2021        # PGA Tour season\n",
    "\n",
    "url = f\"http://golfodds.com/archives-{oddsYear}.html\"\n",
    "response = requests.get(url)\n",
    "tables = pd.read_html(StringIO(response.text))\n",
    "# raw_df = tables[5]  # the actual table of interest\n",
    "# Find the largest 2-column table that contains at least some odds-like strings\n",
    "raw_df = None\n",
    "for tbl in tables:\n",
    "    if tbl.shape[1] == 2 and tbl.shape[0] > 50:  # Rough filter\n",
    "        sample = tbl.iloc[:, 1].astype(str).str.contains(r\"\\d+/\\d+\").sum()\n",
    "        if sample > 5:\n",
    "            raw_df = tbl\n",
    "            break\n",
    "\n",
    "if raw_df is None:\n",
    "    raise ValueError(\"❌ Could not find valid odds table on the page.\")\n",
    "\n",
    "# === STEP 1: Initial clean-up ===\n",
    "df = raw_df.dropna(how=\"all\").reset_index(drop=True)\n",
    "df.columns = [\"PLAYER\", \"ODDS\"]\n",
    "\n",
    "# 🔧 Clean up non-breaking spaces and extra whitespace\n",
    "df[\"PLAYER\"] = (\n",
    "    df[\"PLAYER\"]\n",
    "    .astype(str)\n",
    "    .str.replace(\"\\xa0\", \" \", regex=False)\n",
    "    .str.replace(r\"\\s+\", \" \", regex=True)\n",
    "    .str.strip()\n",
    ")\n",
    "\n",
    "df.insert(loc=0, column=\"SEASON\", value=season)\n",
    "df.insert(loc=1, column=\"TOURNAMENT\", value=np.nan)\n",
    "df.insert(loc=2, column=\"ENDING_DATE\", value=np.nan)\n",
    "\n",
    "# === STEP 2: Helper function for parsing date strings ===\n",
    "def parse_ending_date(text):\n",
    "    import re\n",
    "    from datetime import datetime\n",
    "\n",
    "    # Normalize whitespace and symbols\n",
    "    text = (\n",
    "        text.replace(\"\\u2013\", \"-\")\n",
    "            .replace(\"–\", \"-\")\n",
    "            .replace(\"\\xa0\", \" \")\n",
    "    )\n",
    "    text = re.sub(r\"\\bSept(?!ember)\\b\", \"Sep\", text)\n",
    "\n",
    "    # ✅ Fix typo: \"Match\" → \"March\" only when used in a date context\n",
    "    text = re.sub(r\"\\bMatch(?=\\s+\\d{1,2}\\s*[-–]\\s*\\d{1,2},\\s*\\d{4})\", \"March\", text)\n",
    "\n",
    "    # Pattern 1: \"July 30 - August 2, 2015\" or \"Oct 29 - Nov 1, 2015\"\n",
    "    match = re.search(r\"(\\w+)\\s\\d+\\s*-\\s*(\\w+)\\s(\\d+),\\s(\\d{4})\", text)\n",
    "    if match:\n",
    "        month2, day2, year = match.group(2), match.group(3), match.group(4)\n",
    "        for fmt in [\"%B %d, %Y\", \"%b %d, %Y\"]:\n",
    "            try:\n",
    "                return datetime.strptime(f\"{month2} {day2}, {year}\", fmt).date()\n",
    "            except ValueError:\n",
    "                continue\n",
    "\n",
    "    # Pattern 2: \"November 21-24, 2024\"\n",
    "    match = re.search(r\"(\\w+)\\s\\d+-\\d+,\\s(\\d{4})\", text)\n",
    "    if match:\n",
    "        month, year = match.group(1), match.group(2)\n",
    "        day = re.search(r\"(\\d+)-(\\d+)\", text).group(2)\n",
    "        for fmt in [\"%B %d, %Y\", \"%b %d, %Y\"]:\n",
    "            try:\n",
    "                return datetime.strptime(f\"{month} {day}, {year}\", fmt).date()\n",
    "            except ValueError:\n",
    "                continue\n",
    "\n",
    "    # Pattern 3: \"Sunday, October 20, 2019\"\n",
    "    try:\n",
    "        return datetime.strptime(text.strip(), \"%A, %B %d, %Y\").date()\n",
    "    except ValueError:\n",
    "        pass\n",
    "\n",
    "    # Pattern 4: \"October 20, 2019\"\n",
    "    try:\n",
    "        return datetime.strptime(text.strip(), \"%B %d, %Y\").date()\n",
    "    except ValueError:\n",
    "        pass\n",
    "\n",
    "    return None\n",
    "\n",
    "last_tourn_name = None\n",
    "last_date = None\n",
    "\n",
    "# === STEP 3: Iterate block by block ===\n",
    "final_rows = []\n",
    "i = 0\n",
    "last_tourn_name = None\n",
    "last_end_date = None\n",
    "\n",
    "while i < len(df) - 4:\n",
    "    player_i = str(df.loc[i, \"PLAYER\"])\n",
    "    player_i2 = str(df.loc[i + 2, \"PLAYER\"])\n",
    "    player_i3 = str(df.loc[i + 3, \"PLAYER\"]).lower()\n",
    "\n",
    "    # Detect start of a new tournament block\n",
    "    is_header = (\n",
    "        pd.isna(df.loc[i, \"ODDS\"]) and\n",
    "        pd.isna(df.loc[i + 1, \"ODDS\"]) and (\n",
    "            re.search(r\"\\w+\\s\\d+\\s*[-–]\\s*(\\w+\\s)?\\d+,\\s\\d{4}\", player_i2) or\n",
    "            re.search(r\"(Monday|Tuesday|Wednesday|Thursday|Friday|Saturday|Sunday),?\\s+\\w+\\s\\d{1,2},\\s\\d{4}\", player_i2)\n",
    "        )\n",
    "    )\n",
    "\n",
    "    if is_header:\n",
    "        tourn_name = player_i.strip()\n",
    "        end_date = parse_ending_date(player_i2)\n",
    "\n",
    "        # Skip cancelled or empty blocks\n",
    "        if \"cancelled\" in player_i3:\n",
    "            print(f\"⚠️ Skipping cancelled tournament: {tourn_name} — {end_date}\")\n",
    "            i += 4\n",
    "            continue\n",
    "\n",
    "        # Avoid duplicate block processing\n",
    "        if tourn_name == last_tourn_name and end_date == last_end_date:\n",
    "            i += 1\n",
    "            continue\n",
    "\n",
    "        print(f\"📍 Detected: {tourn_name} — Ending: {end_date}\")\n",
    "        last_tourn_name = tourn_name\n",
    "        last_end_date = end_date\n",
    "        i += 4  # Skip header lines\n",
    "\n",
    "        # Collect all player rows until next header block\n",
    "        while i < len(df) - 2:\n",
    "            next_i2 = str(df.loc[i + 2, \"PLAYER\"])\n",
    "            is_next_header = (\n",
    "                pd.isna(df.loc[i, \"ODDS\"]) and\n",
    "                pd.isna(df.loc[i + 1, \"ODDS\"]) and (\n",
    "                    re.search(r\"\\w+\\s\\d+\\s*[-–]\\s*(\\w+\\s)?\\d+,\\s\\d{4}\", next_i2) or\n",
    "                    re.search(r\"(Monday|Tuesday|Wednesday|Thursday|Friday|Saturday|Sunday),?\\s+\\w+\\s\\d{1,2},\\s\\d{4}\", next_i2)\n",
    "                )\n",
    "            )\n",
    "            if is_next_header:\n",
    "                break\n",
    "\n",
    "            if pd.notna(df.loc[i, \"ODDS\"]):\n",
    "                row = df.loc[i].copy()\n",
    "                row[\"TOURNAMENT\"] = tourn_name\n",
    "                row[\"ENDING_DATE\"] = end_date\n",
    "                final_rows.append(row)\n",
    "            i += 1\n",
    "    else:\n",
    "        i += 1\n",
    "\n",
    "# === STEP 4: Create cleaned DataFrame ===\n",
    "clean_df = pd.DataFrame(final_rows)\n",
    "\n",
    "# ✅ Prevent crash if nothing was parsed\n",
    "if clean_df.empty or \"PLAYER\" not in clean_df.columns:\n",
    "    print(f\"⚠️ No valid tournament blocks detected for season {season} ({oddsYear})\")\n",
    "    final_df = pd.DataFrame()  # Safe fallback\n",
    "else:\n",
    "    # Remove winner tag\n",
    "    clean_df[\"PLAYER\"] = clean_df[\"PLAYER\"].str.replace(r\"\\s\\*Winner\\*\", \"\", regex=True)\n",
    "\n",
    "    # Clean odds to numeric\n",
    "    clean_df[\"VEGAS_ODDS\"] = (\n",
    "        clean_df[\"ODDS\"]\n",
    "        .str.replace(\",\", \"\")\n",
    "        .str.extract(r\"(\\d+)/(\\d+)\")\n",
    "        .astype(float)\n",
    "        .apply(lambda x: x[0] / x[1], axis=1)\n",
    "    )\n",
    "\n",
    "    # Final output with source index for debugging\n",
    "    final_df = clean_df[\n",
    "        [\"SEASON\", \"TOURNAMENT\", \"ENDING_DATE\", \"PLAYER\", \"ODDS\", \"VEGAS_ODDS\"]\n",
    "    ].reset_index(drop=True)\n",
    "\n",
    "    # Drop non-standard team events (e.g., Presidents Cup, Ryder Cup)\n",
    "    drop_terms = [\"Presidents Cup\", \"Ryder Cup\"]\n",
    "    final_df = final_df[~final_df[\"TOURNAMENT\"].str.contains(\"|\".join(drop_terms), case=False, na=False)]\n",
    "\n",
    "    display(final_df.head())\n",
    "\n"
   ]
  },
  {
   "cell_type": "code",
   "execution_count": 17,
   "id": "1ba6ed1d",
   "metadata": {},
   "outputs": [
    {
     "name": "stdout",
     "output_type": "stream",
     "text": [
      "🧪 Rows with invalid ENDING_DATE values: 0\n"
     ]
    },
    {
     "data": {
      "text/html": [
       "<div>\n",
       "<style scoped>\n",
       "    .dataframe tbody tr th:only-of-type {\n",
       "        vertical-align: middle;\n",
       "    }\n",
       "\n",
       "    .dataframe tbody tr th {\n",
       "        vertical-align: top;\n",
       "    }\n",
       "\n",
       "    .dataframe thead th {\n",
       "        text-align: right;\n",
       "    }\n",
       "</style>\n",
       "<table border=\"1\" class=\"dataframe\">\n",
       "  <thead>\n",
       "    <tr style=\"text-align: right;\">\n",
       "      <th></th>\n",
       "      <th>SEASON</th>\n",
       "      <th>TOURNAMENT</th>\n",
       "      <th>ENDING_DATE</th>\n",
       "      <th>PLAYER</th>\n",
       "      <th>ODDS</th>\n",
       "      <th>VEGAS_ODDS</th>\n",
       "    </tr>\n",
       "  </thead>\n",
       "  <tbody>\n",
       "  </tbody>\n",
       "</table>\n",
       "</div>"
      ],
      "text/plain": [
       "Empty DataFrame\n",
       "Columns: [SEASON, TOURNAMENT, ENDING_DATE, PLAYER, ODDS, VEGAS_ODDS]\n",
       "Index: []"
      ]
     },
     "metadata": {},
     "output_type": "display_data"
    }
   ],
   "source": [
    "from datetime import datetime, date\n",
    "# ✅ Check for non-date types in ENDING_DATE\n",
    "non_dates = final_df[~final_df[\"ENDING_DATE\"].apply(lambda x: isinstance(x, date))]\n",
    "\n",
    "print(f\"🧪 Rows with invalid ENDING_DATE values: {len(non_dates)}\")\n",
    "display(non_dates.head(10))\n",
    "\n"
   ]
  },
  {
   "cell_type": "code",
   "execution_count": 18,
   "id": "d42bfaa0",
   "metadata": {},
   "outputs": [
    {
     "name": "stdout",
     "output_type": "stream",
     "text": [
      "🚨 Duplicate primary keys in final_df: 0\n"
     ]
    },
    {
     "data": {
      "text/html": [
       "<div>\n",
       "<style scoped>\n",
       "    .dataframe tbody tr th:only-of-type {\n",
       "        vertical-align: middle;\n",
       "    }\n",
       "\n",
       "    .dataframe tbody tr th {\n",
       "        vertical-align: top;\n",
       "    }\n",
       "\n",
       "    .dataframe thead th {\n",
       "        text-align: right;\n",
       "    }\n",
       "</style>\n",
       "<table border=\"1\" class=\"dataframe\">\n",
       "  <thead>\n",
       "    <tr style=\"text-align: right;\">\n",
       "      <th></th>\n",
       "      <th>SEASON</th>\n",
       "      <th>TOURNAMENT</th>\n",
       "      <th>ENDING_DATE</th>\n",
       "      <th>PLAYER</th>\n",
       "      <th>ODDS</th>\n",
       "      <th>VEGAS_ODDS</th>\n",
       "    </tr>\n",
       "  </thead>\n",
       "  <tbody>\n",
       "  </tbody>\n",
       "</table>\n",
       "</div>"
      ],
      "text/plain": [
       "Empty DataFrame\n",
       "Columns: [SEASON, TOURNAMENT, ENDING_DATE, PLAYER, ODDS, VEGAS_ODDS]\n",
       "Index: []"
      ]
     },
     "metadata": {},
     "output_type": "display_data"
    }
   ],
   "source": [
    "dupes = final_df.duplicated(subset=[\"SEASON\", \"TOURNAMENT\", \"ENDING_DATE\", \"PLAYER\"], keep=False)\n",
    "\n",
    "print(f\"🚨 Duplicate primary keys in final_df: {dupes.sum()}\")\n",
    "display(final_df[dupes].sort_values(by=[\"SEASON\", \"TOURNAMENT\", \"PLAYER\"]))"
   ]
  },
  {
   "cell_type": "markdown",
   "id": "d0386967",
   "metadata": {},
   "source": [
    "#### Misc. Cleaning\n",
    "Not normally needed"
   ]
  },
  {
   "cell_type": "code",
   "execution_count": 26,
   "id": "944b893a",
   "metadata": {},
   "outputs": [
    {
     "name": "stdout",
     "output_type": "stream",
     "text": [
      "ℹ️ No player names needed updates in 'tournaments'.\n",
      "ℹ️ No player names needed updates in 'stats'.\n",
      "ℹ️ No player names needed updates in 'odds'.\n"
     ]
    },
    {
     "data": {
      "text/html": [
       "<div>\n",
       "<style scoped>\n",
       "    .dataframe tbody tr th:only-of-type {\n",
       "        vertical-align: middle;\n",
       "    }\n",
       "\n",
       "    .dataframe tbody tr th {\n",
       "        vertical-align: top;\n",
       "    }\n",
       "\n",
       "    .dataframe thead th {\n",
       "        text-align: right;\n",
       "    }\n",
       "</style>\n",
       "<table border=\"1\" class=\"dataframe\">\n",
       "  <thead>\n",
       "    <tr style=\"text-align: right;\">\n",
       "      <th></th>\n",
       "      <th>SEASON</th>\n",
       "      <th>TOURNAMENT</th>\n",
       "      <th>ENDING_DATE</th>\n",
       "      <th>PLAYER</th>\n",
       "      <th>ODDS</th>\n",
       "      <th>VEGAS_ODDS</th>\n",
       "      <th>PLAYER_ORIG</th>\n",
       "    </tr>\n",
       "  </thead>\n",
       "  <tbody>\n",
       "  </tbody>\n",
       "</table>\n",
       "</div>"
      ],
      "text/plain": [
       "Empty DataFrame\n",
       "Columns: [SEASON, TOURNAMENT, ENDING_DATE, PLAYER, ODDS, VEGAS_ODDS, PLAYER_ORIG]\n",
       "Index: []"
      ]
     },
     "execution_count": 26,
     "metadata": {},
     "output_type": "execute_result"
    }
   ],
   "source": [
    "importlib.reload(utils.db_utils)\n",
    "from utils.db_utils import clean_player_names_in_table, PLAYER_NAME_MAP\n",
    "\n",
    "db_path = \"data/golf.db\"\n",
    "\n",
    "# Run for all relevant tables\n",
    "clean_player_names_in_table(db_path, \"tournaments\", PLAYER_NAME_MAP)\n",
    "clean_player_names_in_table(db_path, \"stats\", PLAYER_NAME_MAP)\n",
    "clean_player_names_in_table(db_path, \"odds\", PLAYER_NAME_MAP)"
   ]
  },
  {
   "cell_type": "markdown",
   "id": "d5827d49",
   "metadata": {},
   "source": [
    "## Historical Data"
   ]
  },
  {
   "cell_type": "markdown",
   "id": "72034314",
   "metadata": {},
   "source": [
    "### Pull Relevant Seasons\n",
    "Do a check to see when this course or tournament have been historically played."
   ]
  },
  {
   "cell_type": "code",
   "execution_count": 20,
   "id": "fea9c7c6",
   "metadata": {},
   "outputs": [
    {
     "name": "stdout",
     "output_type": "stream",
     "text": [
      "ℹ️ Found 8 relevant tournaments from course or tournament name.\n"
     ]
    },
    {
     "data": {
      "text/html": [
       "<div>\n",
       "<style scoped>\n",
       "    .dataframe tbody tr th:only-of-type {\n",
       "        vertical-align: middle;\n",
       "    }\n",
       "\n",
       "    .dataframe tbody tr th {\n",
       "        vertical-align: top;\n",
       "    }\n",
       "\n",
       "    .dataframe thead th {\n",
       "        text-align: right;\n",
       "    }\n",
       "</style>\n",
       "<table border=\"1\" class=\"dataframe\">\n",
       "  <thead>\n",
       "    <tr style=\"text-align: right;\">\n",
       "      <th></th>\n",
       "      <th>SEASON</th>\n",
       "      <th>COURSE</th>\n",
       "      <th>TOURN_ID</th>\n",
       "      <th>TOURNAMENT</th>\n",
       "      <th>ENDING_DATE</th>\n",
       "    </tr>\n",
       "  </thead>\n",
       "  <tbody>\n",
       "    <tr>\n",
       "      <th>624</th>\n",
       "      <td>2016</td>\n",
       "      <td>Royal Troon GC</td>\n",
       "      <td>100</td>\n",
       "      <td>The Open Championship</td>\n",
       "      <td>2016-07-17</td>\n",
       "    </tr>\n",
       "    <tr>\n",
       "      <th>468</th>\n",
       "      <td>2017</td>\n",
       "      <td>Royal Birkdale GC</td>\n",
       "      <td>100</td>\n",
       "      <td>The Open Championship</td>\n",
       "      <td>2017-07-23</td>\n",
       "    </tr>\n",
       "    <tr>\n",
       "      <th>312</th>\n",
       "      <td>2018</td>\n",
       "      <td>Carnoustie GC</td>\n",
       "      <td>100</td>\n",
       "      <td>The Open Championship</td>\n",
       "      <td>2018-07-22</td>\n",
       "    </tr>\n",
       "    <tr>\n",
       "      <th>156</th>\n",
       "      <td>2019</td>\n",
       "      <td>Royal Portrush Golf Club</td>\n",
       "      <td>100</td>\n",
       "      <td>The Open Championship</td>\n",
       "      <td>2019-07-21</td>\n",
       "    </tr>\n",
       "    <tr>\n",
       "      <th>0</th>\n",
       "      <td>2021</td>\n",
       "      <td>Royal St. George's GC</td>\n",
       "      <td>100</td>\n",
       "      <td>The Open Championship</td>\n",
       "      <td>2021-07-18</td>\n",
       "    </tr>\n",
       "    <tr>\n",
       "      <th>935</th>\n",
       "      <td>2022</td>\n",
       "      <td>St. Andrews Links (Old Course)</td>\n",
       "      <td>100</td>\n",
       "      <td>The Open Championship</td>\n",
       "      <td>2022-07-17</td>\n",
       "    </tr>\n",
       "    <tr>\n",
       "      <th>1091</th>\n",
       "      <td>2023</td>\n",
       "      <td>Royal Liverpool</td>\n",
       "      <td>R2023100</td>\n",
       "      <td>The Open Championship</td>\n",
       "      <td>2023-07-23</td>\n",
       "    </tr>\n",
       "    <tr>\n",
       "      <th>1247</th>\n",
       "      <td>2024</td>\n",
       "      <td>Royal Troon</td>\n",
       "      <td>R2024100</td>\n",
       "      <td>The Open Championship</td>\n",
       "      <td>2024-07-21</td>\n",
       "    </tr>\n",
       "  </tbody>\n",
       "</table>\n",
       "</div>"
      ],
      "text/plain": [
       "      SEASON                          COURSE  TOURN_ID             TOURNAMENT  \\\n",
       "624     2016                  Royal Troon GC       100  The Open Championship   \n",
       "468     2017               Royal Birkdale GC       100  The Open Championship   \n",
       "312     2018                   Carnoustie GC       100  The Open Championship   \n",
       "156     2019        Royal Portrush Golf Club       100  The Open Championship   \n",
       "0       2021           Royal St. George's GC       100  The Open Championship   \n",
       "935     2022  St. Andrews Links (Old Course)       100  The Open Championship   \n",
       "1091    2023                 Royal Liverpool  R2023100  The Open Championship   \n",
       "1247    2024                     Royal Troon  R2024100  The Open Championship   \n",
       "\n",
       "     ENDING_DATE  \n",
       "624   2016-07-17  \n",
       "468   2017-07-23  \n",
       "312   2018-07-22  \n",
       "156   2019-07-21  \n",
       "0     2021-07-18  \n",
       "935   2022-07-17  \n",
       "1091  2023-07-23  \n",
       "1247  2024-07-21  "
      ]
     },
     "execution_count": 20,
     "metadata": {},
     "output_type": "execute_result"
    }
   ],
   "source": [
    "importlib.reload(utils.db_utils)\n",
    "from utils.db_utils import get_combined_history_seasons\n",
    "\n",
    "# === USER INPUT ===\n",
    "seasons = list(range(2016, 2025))  # Adjust as needed\n",
    "db_path = \"data/golf.db\"\n",
    "\n",
    "# Pull course and tournament from config\n",
    "n_course = tournament_config[\"new\"][\"course\"]\n",
    "n_tourn = tournament_config[\"new\"][\"name\"]\n",
    "\n",
    "# Fetch relevant history\n",
    "history_df = get_combined_history_seasons(db_path, course=n_course, tournament=n_tourn, allowed_seasons=seasons)\n",
    "history_df.head(20)\n"
   ]
  },
  {
   "cell_type": "markdown",
   "id": "09441025",
   "metadata": {},
   "source": [
    "### Cut Percentage and FedEx Points\n",
    "Use a rolling-window approach to look at the most recent cut percentage and how many FedEx cup points have been accumulated recently. This will intentionally not match the PGA Tour stats that start over every year, but will have the same amount of data all the time.  We also add a new feature called Form Density which divides the FedEx Cup Points by the Total Events."
   ]
  },
  {
   "cell_type": "code",
   "execution_count": 21,
   "id": "300bf650",
   "metadata": {},
   "outputs": [
    {
     "name": "stdout",
     "output_type": "stream",
     "text": [
      "\n",
      "📆 2016-07-17 — The Open Championship (472 players)\n"
     ]
    },
    {
     "data": {
      "text/html": [
       "<div>\n",
       "<style scoped>\n",
       "    .dataframe tbody tr th:only-of-type {\n",
       "        vertical-align: middle;\n",
       "    }\n",
       "\n",
       "    .dataframe tbody tr th {\n",
       "        vertical-align: top;\n",
       "    }\n",
       "\n",
       "    .dataframe thead th {\n",
       "        text-align: right;\n",
       "    }\n",
       "</style>\n",
       "<table border=\"1\" class=\"dataframe\">\n",
       "  <thead>\n",
       "    <tr style=\"text-align: right;\">\n",
       "      <th></th>\n",
       "      <th>PLAYER</th>\n",
       "      <th>TOTAL_EVENTS_PLAYED</th>\n",
       "      <th>CUTS_MADE</th>\n",
       "      <th>FEDEX_CUP_POINTS</th>\n",
       "      <th>CUT_PERCENTAGE</th>\n",
       "      <th>form_density</th>\n",
       "      <th>CONSECUTIVE_CUTS</th>\n",
       "      <th>ENDING_DATE</th>\n",
       "      <th>TOURNAMENT</th>\n",
       "    </tr>\n",
       "  </thead>\n",
       "  <tbody>\n",
       "    <tr>\n",
       "      <th>0</th>\n",
       "      <td>Aaron Baddeley</td>\n",
       "      <td>17</td>\n",
       "      <td>10</td>\n",
       "      <td>378.0</td>\n",
       "      <td>58.8</td>\n",
       "      <td>22.24</td>\n",
       "      <td>0</td>\n",
       "      <td>2016-07-17</td>\n",
       "      <td>The Open Championship</td>\n",
       "    </tr>\n",
       "    <tr>\n",
       "      <th>1</th>\n",
       "      <td>Aaron Wise</td>\n",
       "      <td>2</td>\n",
       "      <td>0</td>\n",
       "      <td>0.0</td>\n",
       "      <td>0.0</td>\n",
       "      <td>0.00</td>\n",
       "      <td>0</td>\n",
       "      <td>2016-07-17</td>\n",
       "      <td>The Open Championship</td>\n",
       "    </tr>\n",
       "    <tr>\n",
       "      <th>2</th>\n",
       "      <td>Abraham Ancer</td>\n",
       "      <td>10</td>\n",
       "      <td>2</td>\n",
       "      <td>43.0</td>\n",
       "      <td>20.0</td>\n",
       "      <td>4.30</td>\n",
       "      <td>2</td>\n",
       "      <td>2016-07-17</td>\n",
       "      <td>The Open Championship</td>\n",
       "    </tr>\n",
       "  </tbody>\n",
       "</table>\n",
       "</div>"
      ],
      "text/plain": [
       "           PLAYER  TOTAL_EVENTS_PLAYED  CUTS_MADE  FEDEX_CUP_POINTS  \\\n",
       "0  Aaron Baddeley                   17         10             378.0   \n",
       "1      Aaron Wise                    2          0               0.0   \n",
       "2   Abraham Ancer                   10          2              43.0   \n",
       "\n",
       "   CUT_PERCENTAGE  form_density  CONSECUTIVE_CUTS ENDING_DATE  \\\n",
       "0            58.8         22.24                 0  2016-07-17   \n",
       "1             0.0          0.00                 0  2016-07-17   \n",
       "2            20.0          4.30                 2  2016-07-17   \n",
       "\n",
       "              TOURNAMENT  \n",
       "0  The Open Championship  \n",
       "1  The Open Championship  \n",
       "2  The Open Championship  "
      ]
     },
     "metadata": {},
     "output_type": "display_data"
    },
    {
     "name": "stdout",
     "output_type": "stream",
     "text": [
      "\n",
      "📆 2017-07-23 — The Open Championship (456 players)\n"
     ]
    },
    {
     "data": {
      "text/html": [
       "<div>\n",
       "<style scoped>\n",
       "    .dataframe tbody tr th:only-of-type {\n",
       "        vertical-align: middle;\n",
       "    }\n",
       "\n",
       "    .dataframe tbody tr th {\n",
       "        vertical-align: top;\n",
       "    }\n",
       "\n",
       "    .dataframe thead th {\n",
       "        text-align: right;\n",
       "    }\n",
       "</style>\n",
       "<table border=\"1\" class=\"dataframe\">\n",
       "  <thead>\n",
       "    <tr style=\"text-align: right;\">\n",
       "      <th></th>\n",
       "      <th>PLAYER</th>\n",
       "      <th>TOTAL_EVENTS_PLAYED</th>\n",
       "      <th>CUTS_MADE</th>\n",
       "      <th>FEDEX_CUP_POINTS</th>\n",
       "      <th>CUT_PERCENTAGE</th>\n",
       "      <th>form_density</th>\n",
       "      <th>CONSECUTIVE_CUTS</th>\n",
       "      <th>ENDING_DATE</th>\n",
       "      <th>TOURNAMENT</th>\n",
       "    </tr>\n",
       "  </thead>\n",
       "  <tbody>\n",
       "    <tr>\n",
       "      <th>0</th>\n",
       "      <td>Aaron Baddeley</td>\n",
       "      <td>14</td>\n",
       "      <td>6</td>\n",
       "      <td>224.79</td>\n",
       "      <td>42.9</td>\n",
       "      <td>16.06</td>\n",
       "      <td>0</td>\n",
       "      <td>2017-07-23</td>\n",
       "      <td>The Open Championship</td>\n",
       "    </tr>\n",
       "    <tr>\n",
       "      <th>1</th>\n",
       "      <td>Aaron Rai</td>\n",
       "      <td>1</td>\n",
       "      <td>0</td>\n",
       "      <td>0.00</td>\n",
       "      <td>0.0</td>\n",
       "      <td>0.00</td>\n",
       "      <td>0</td>\n",
       "      <td>2017-07-23</td>\n",
       "      <td>The Open Championship</td>\n",
       "    </tr>\n",
       "    <tr>\n",
       "      <th>2</th>\n",
       "      <td>Aaron Wise</td>\n",
       "      <td>5</td>\n",
       "      <td>4</td>\n",
       "      <td>0.00</td>\n",
       "      <td>80.0</td>\n",
       "      <td>0.00</td>\n",
       "      <td>4</td>\n",
       "      <td>2017-07-23</td>\n",
       "      <td>The Open Championship</td>\n",
       "    </tr>\n",
       "  </tbody>\n",
       "</table>\n",
       "</div>"
      ],
      "text/plain": [
       "           PLAYER  TOTAL_EVENTS_PLAYED  CUTS_MADE  FEDEX_CUP_POINTS  \\\n",
       "0  Aaron Baddeley                   14          6            224.79   \n",
       "1       Aaron Rai                    1          0              0.00   \n",
       "2      Aaron Wise                    5          4              0.00   \n",
       "\n",
       "   CUT_PERCENTAGE  form_density  CONSECUTIVE_CUTS ENDING_DATE  \\\n",
       "0            42.9         16.06                 0  2017-07-23   \n",
       "1             0.0          0.00                 0  2017-07-23   \n",
       "2            80.0          0.00                 4  2017-07-23   \n",
       "\n",
       "              TOURNAMENT  \n",
       "0  The Open Championship  \n",
       "1  The Open Championship  \n",
       "2  The Open Championship  "
      ]
     },
     "metadata": {},
     "output_type": "display_data"
    },
    {
     "name": "stdout",
     "output_type": "stream",
     "text": [
      "\n",
      "📆 2018-07-22 — The Open Championship (465 players)\n"
     ]
    },
    {
     "data": {
      "text/html": [
       "<div>\n",
       "<style scoped>\n",
       "    .dataframe tbody tr th:only-of-type {\n",
       "        vertical-align: middle;\n",
       "    }\n",
       "\n",
       "    .dataframe tbody tr th {\n",
       "        vertical-align: top;\n",
       "    }\n",
       "\n",
       "    .dataframe thead th {\n",
       "        text-align: right;\n",
       "    }\n",
       "</style>\n",
       "<table border=\"1\" class=\"dataframe\">\n",
       "  <thead>\n",
       "    <tr style=\"text-align: right;\">\n",
       "      <th></th>\n",
       "      <th>PLAYER</th>\n",
       "      <th>TOTAL_EVENTS_PLAYED</th>\n",
       "      <th>CUTS_MADE</th>\n",
       "      <th>FEDEX_CUP_POINTS</th>\n",
       "      <th>CUT_PERCENTAGE</th>\n",
       "      <th>form_density</th>\n",
       "      <th>CONSECUTIVE_CUTS</th>\n",
       "      <th>ENDING_DATE</th>\n",
       "      <th>TOURNAMENT</th>\n",
       "    </tr>\n",
       "  </thead>\n",
       "  <tbody>\n",
       "    <tr>\n",
       "      <th>0</th>\n",
       "      <td>A.J. McInerney</td>\n",
       "      <td>2</td>\n",
       "      <td>1</td>\n",
       "      <td>0.00</td>\n",
       "      <td>50.0</td>\n",
       "      <td>0.00</td>\n",
       "      <td>0</td>\n",
       "      <td>2018-07-22</td>\n",
       "      <td>The Open Championship</td>\n",
       "    </tr>\n",
       "    <tr>\n",
       "      <th>1</th>\n",
       "      <td>Aaron Baddeley</td>\n",
       "      <td>19</td>\n",
       "      <td>11</td>\n",
       "      <td>270.91</td>\n",
       "      <td>57.9</td>\n",
       "      <td>14.26</td>\n",
       "      <td>0</td>\n",
       "      <td>2018-07-22</td>\n",
       "      <td>The Open Championship</td>\n",
       "    </tr>\n",
       "    <tr>\n",
       "      <th>2</th>\n",
       "      <td>Aaron Wise</td>\n",
       "      <td>20</td>\n",
       "      <td>11</td>\n",
       "      <td>992.76</td>\n",
       "      <td>55.0</td>\n",
       "      <td>49.64</td>\n",
       "      <td>0</td>\n",
       "      <td>2018-07-22</td>\n",
       "      <td>The Open Championship</td>\n",
       "    </tr>\n",
       "  </tbody>\n",
       "</table>\n",
       "</div>"
      ],
      "text/plain": [
       "           PLAYER  TOTAL_EVENTS_PLAYED  CUTS_MADE  FEDEX_CUP_POINTS  \\\n",
       "0  A.J. McInerney                    2          1              0.00   \n",
       "1  Aaron Baddeley                   19         11            270.91   \n",
       "2      Aaron Wise                   20         11            992.76   \n",
       "\n",
       "   CUT_PERCENTAGE  form_density  CONSECUTIVE_CUTS ENDING_DATE  \\\n",
       "0            50.0          0.00                 0  2018-07-22   \n",
       "1            57.9         14.26                 0  2018-07-22   \n",
       "2            55.0         49.64                 0  2018-07-22   \n",
       "\n",
       "              TOURNAMENT  \n",
       "0  The Open Championship  \n",
       "1  The Open Championship  \n",
       "2  The Open Championship  "
      ]
     },
     "metadata": {},
     "output_type": "display_data"
    },
    {
     "name": "stdout",
     "output_type": "stream",
     "text": [
      "\n",
      "📆 2019-07-21 — The Open Championship (502 players)\n"
     ]
    },
    {
     "data": {
      "text/html": [
       "<div>\n",
       "<style scoped>\n",
       "    .dataframe tbody tr th:only-of-type {\n",
       "        vertical-align: middle;\n",
       "    }\n",
       "\n",
       "    .dataframe tbody tr th {\n",
       "        vertical-align: top;\n",
       "    }\n",
       "\n",
       "    .dataframe thead th {\n",
       "        text-align: right;\n",
       "    }\n",
       "</style>\n",
       "<table border=\"1\" class=\"dataframe\">\n",
       "  <thead>\n",
       "    <tr style=\"text-align: right;\">\n",
       "      <th></th>\n",
       "      <th>PLAYER</th>\n",
       "      <th>TOTAL_EVENTS_PLAYED</th>\n",
       "      <th>CUTS_MADE</th>\n",
       "      <th>FEDEX_CUP_POINTS</th>\n",
       "      <th>CUT_PERCENTAGE</th>\n",
       "      <th>form_density</th>\n",
       "      <th>CONSECUTIVE_CUTS</th>\n",
       "      <th>ENDING_DATE</th>\n",
       "      <th>TOURNAMENT</th>\n",
       "    </tr>\n",
       "  </thead>\n",
       "  <tbody>\n",
       "    <tr>\n",
       "      <th>0</th>\n",
       "      <td>Aaron Baddeley</td>\n",
       "      <td>14</td>\n",
       "      <td>7</td>\n",
       "      <td>169.88</td>\n",
       "      <td>50.0</td>\n",
       "      <td>12.13</td>\n",
       "      <td>0</td>\n",
       "      <td>2019-07-21</td>\n",
       "      <td>The Open Championship</td>\n",
       "    </tr>\n",
       "    <tr>\n",
       "      <th>1</th>\n",
       "      <td>Aaron Wise</td>\n",
       "      <td>15</td>\n",
       "      <td>10</td>\n",
       "      <td>319.72</td>\n",
       "      <td>66.7</td>\n",
       "      <td>21.31</td>\n",
       "      <td>2</td>\n",
       "      <td>2019-07-21</td>\n",
       "      <td>The Open Championship</td>\n",
       "    </tr>\n",
       "    <tr>\n",
       "      <th>2</th>\n",
       "      <td>Abraham Ancer</td>\n",
       "      <td>17</td>\n",
       "      <td>14</td>\n",
       "      <td>462.77</td>\n",
       "      <td>82.4</td>\n",
       "      <td>27.22</td>\n",
       "      <td>6</td>\n",
       "      <td>2019-07-21</td>\n",
       "      <td>The Open Championship</td>\n",
       "    </tr>\n",
       "  </tbody>\n",
       "</table>\n",
       "</div>"
      ],
      "text/plain": [
       "           PLAYER  TOTAL_EVENTS_PLAYED  CUTS_MADE  FEDEX_CUP_POINTS  \\\n",
       "0  Aaron Baddeley                   14          7            169.88   \n",
       "1      Aaron Wise                   15         10            319.72   \n",
       "2   Abraham Ancer                   17         14            462.77   \n",
       "\n",
       "   CUT_PERCENTAGE  form_density  CONSECUTIVE_CUTS ENDING_DATE  \\\n",
       "0            50.0         12.13                 0  2019-07-21   \n",
       "1            66.7         21.31                 2  2019-07-21   \n",
       "2            82.4         27.22                 6  2019-07-21   \n",
       "\n",
       "              TOURNAMENT  \n",
       "0  The Open Championship  \n",
       "1  The Open Championship  \n",
       "2  The Open Championship  "
      ]
     },
     "metadata": {},
     "output_type": "display_data"
    },
    {
     "name": "stdout",
     "output_type": "stream",
     "text": [
      "\n",
      "📆 2021-07-18 — The Open Championship (492 players)\n"
     ]
    },
    {
     "data": {
      "text/html": [
       "<div>\n",
       "<style scoped>\n",
       "    .dataframe tbody tr th:only-of-type {\n",
       "        vertical-align: middle;\n",
       "    }\n",
       "\n",
       "    .dataframe tbody tr th {\n",
       "        vertical-align: top;\n",
       "    }\n",
       "\n",
       "    .dataframe thead th {\n",
       "        text-align: right;\n",
       "    }\n",
       "</style>\n",
       "<table border=\"1\" class=\"dataframe\">\n",
       "  <thead>\n",
       "    <tr style=\"text-align: right;\">\n",
       "      <th></th>\n",
       "      <th>PLAYER</th>\n",
       "      <th>TOTAL_EVENTS_PLAYED</th>\n",
       "      <th>CUTS_MADE</th>\n",
       "      <th>FEDEX_CUP_POINTS</th>\n",
       "      <th>CUT_PERCENTAGE</th>\n",
       "      <th>form_density</th>\n",
       "      <th>CONSECUTIVE_CUTS</th>\n",
       "      <th>ENDING_DATE</th>\n",
       "      <th>TOURNAMENT</th>\n",
       "    </tr>\n",
       "  </thead>\n",
       "  <tbody>\n",
       "    <tr>\n",
       "      <th>0</th>\n",
       "      <td>Aaron Baddeley</td>\n",
       "      <td>11</td>\n",
       "      <td>3</td>\n",
       "      <td>29.04</td>\n",
       "      <td>27.3</td>\n",
       "      <td>2.64</td>\n",
       "      <td>0</td>\n",
       "      <td>2021-07-18</td>\n",
       "      <td>The Open Championship</td>\n",
       "    </tr>\n",
       "    <tr>\n",
       "      <th>1</th>\n",
       "      <td>Aaron Rai</td>\n",
       "      <td>1</td>\n",
       "      <td>0</td>\n",
       "      <td>0.00</td>\n",
       "      <td>0.0</td>\n",
       "      <td>0.00</td>\n",
       "      <td>0</td>\n",
       "      <td>2021-07-18</td>\n",
       "      <td>The Open Championship</td>\n",
       "    </tr>\n",
       "    <tr>\n",
       "      <th>2</th>\n",
       "      <td>Aaron Terrazas</td>\n",
       "      <td>1</td>\n",
       "      <td>0</td>\n",
       "      <td>0.00</td>\n",
       "      <td>0.0</td>\n",
       "      <td>0.00</td>\n",
       "      <td>0</td>\n",
       "      <td>2021-07-18</td>\n",
       "      <td>The Open Championship</td>\n",
       "    </tr>\n",
       "  </tbody>\n",
       "</table>\n",
       "</div>"
      ],
      "text/plain": [
       "           PLAYER  TOTAL_EVENTS_PLAYED  CUTS_MADE  FEDEX_CUP_POINTS  \\\n",
       "0  Aaron Baddeley                   11          3             29.04   \n",
       "1       Aaron Rai                    1          0              0.00   \n",
       "2  Aaron Terrazas                    1          0              0.00   \n",
       "\n",
       "   CUT_PERCENTAGE  form_density  CONSECUTIVE_CUTS ENDING_DATE  \\\n",
       "0            27.3          2.64                 0  2021-07-18   \n",
       "1             0.0          0.00                 0  2021-07-18   \n",
       "2             0.0          0.00                 0  2021-07-18   \n",
       "\n",
       "              TOURNAMENT  \n",
       "0  The Open Championship  \n",
       "1  The Open Championship  \n",
       "2  The Open Championship  "
      ]
     },
     "metadata": {},
     "output_type": "display_data"
    },
    {
     "name": "stdout",
     "output_type": "stream",
     "text": [
      "\n",
      "📆 2022-07-17 — The Open Championship (524 players)\n"
     ]
    },
    {
     "data": {
      "text/html": [
       "<div>\n",
       "<style scoped>\n",
       "    .dataframe tbody tr th:only-of-type {\n",
       "        vertical-align: middle;\n",
       "    }\n",
       "\n",
       "    .dataframe tbody tr th {\n",
       "        vertical-align: top;\n",
       "    }\n",
       "\n",
       "    .dataframe thead th {\n",
       "        text-align: right;\n",
       "    }\n",
       "</style>\n",
       "<table border=\"1\" class=\"dataframe\">\n",
       "  <thead>\n",
       "    <tr style=\"text-align: right;\">\n",
       "      <th></th>\n",
       "      <th>PLAYER</th>\n",
       "      <th>TOTAL_EVENTS_PLAYED</th>\n",
       "      <th>CUTS_MADE</th>\n",
       "      <th>FEDEX_CUP_POINTS</th>\n",
       "      <th>CUT_PERCENTAGE</th>\n",
       "      <th>form_density</th>\n",
       "      <th>CONSECUTIVE_CUTS</th>\n",
       "      <th>ENDING_DATE</th>\n",
       "      <th>TOURNAMENT</th>\n",
       "    </tr>\n",
       "  </thead>\n",
       "  <tbody>\n",
       "    <tr>\n",
       "      <th>0</th>\n",
       "      <td>A.J. Ewart</td>\n",
       "      <td>1</td>\n",
       "      <td>0</td>\n",
       "      <td>0.00</td>\n",
       "      <td>0.0</td>\n",
       "      <td>0.00</td>\n",
       "      <td>0</td>\n",
       "      <td>2022-07-17</td>\n",
       "      <td>The Open Championship</td>\n",
       "    </tr>\n",
       "    <tr>\n",
       "      <th>1</th>\n",
       "      <td>Aaron Baddeley</td>\n",
       "      <td>5</td>\n",
       "      <td>2</td>\n",
       "      <td>45.94</td>\n",
       "      <td>40.0</td>\n",
       "      <td>9.19</td>\n",
       "      <td>1</td>\n",
       "      <td>2022-07-17</td>\n",
       "      <td>The Open Championship</td>\n",
       "    </tr>\n",
       "    <tr>\n",
       "      <th>2</th>\n",
       "      <td>Aaron Beverly</td>\n",
       "      <td>1</td>\n",
       "      <td>0</td>\n",
       "      <td>0.00</td>\n",
       "      <td>0.0</td>\n",
       "      <td>0.00</td>\n",
       "      <td>0</td>\n",
       "      <td>2022-07-17</td>\n",
       "      <td>The Open Championship</td>\n",
       "    </tr>\n",
       "  </tbody>\n",
       "</table>\n",
       "</div>"
      ],
      "text/plain": [
       "           PLAYER  TOTAL_EVENTS_PLAYED  CUTS_MADE  FEDEX_CUP_POINTS  \\\n",
       "0      A.J. Ewart                    1          0              0.00   \n",
       "1  Aaron Baddeley                    5          2             45.94   \n",
       "2   Aaron Beverly                    1          0              0.00   \n",
       "\n",
       "   CUT_PERCENTAGE  form_density  CONSECUTIVE_CUTS ENDING_DATE  \\\n",
       "0             0.0          0.00                 0  2022-07-17   \n",
       "1            40.0          9.19                 1  2022-07-17   \n",
       "2             0.0          0.00                 0  2022-07-17   \n",
       "\n",
       "              TOURNAMENT  \n",
       "0  The Open Championship  \n",
       "1  The Open Championship  \n",
       "2  The Open Championship  "
      ]
     },
     "metadata": {},
     "output_type": "display_data"
    },
    {
     "name": "stdout",
     "output_type": "stream",
     "text": [
      "\n",
      "📆 2023-07-23 — The Open Championship (581 players)\n"
     ]
    },
    {
     "data": {
      "text/html": [
       "<div>\n",
       "<style scoped>\n",
       "    .dataframe tbody tr th:only-of-type {\n",
       "        vertical-align: middle;\n",
       "    }\n",
       "\n",
       "    .dataframe tbody tr th {\n",
       "        vertical-align: top;\n",
       "    }\n",
       "\n",
       "    .dataframe thead th {\n",
       "        text-align: right;\n",
       "    }\n",
       "</style>\n",
       "<table border=\"1\" class=\"dataframe\">\n",
       "  <thead>\n",
       "    <tr style=\"text-align: right;\">\n",
       "      <th></th>\n",
       "      <th>PLAYER</th>\n",
       "      <th>TOTAL_EVENTS_PLAYED</th>\n",
       "      <th>CUTS_MADE</th>\n",
       "      <th>FEDEX_CUP_POINTS</th>\n",
       "      <th>CUT_PERCENTAGE</th>\n",
       "      <th>form_density</th>\n",
       "      <th>CONSECUTIVE_CUTS</th>\n",
       "      <th>ENDING_DATE</th>\n",
       "      <th>TOURNAMENT</th>\n",
       "    </tr>\n",
       "  </thead>\n",
       "  <tbody>\n",
       "    <tr>\n",
       "      <th>0</th>\n",
       "      <td>Aaron Baddeley</td>\n",
       "      <td>17</td>\n",
       "      <td>11</td>\n",
       "      <td>349.536</td>\n",
       "      <td>64.7</td>\n",
       "      <td>20.56</td>\n",
       "      <td>0</td>\n",
       "      <td>2023-07-23</td>\n",
       "      <td>The Open Championship</td>\n",
       "    </tr>\n",
       "    <tr>\n",
       "      <th>1</th>\n",
       "      <td>Aaron Beverly</td>\n",
       "      <td>1</td>\n",
       "      <td>1</td>\n",
       "      <td>0.000</td>\n",
       "      <td>100.0</td>\n",
       "      <td>0.00</td>\n",
       "      <td>1</td>\n",
       "      <td>2023-07-23</td>\n",
       "      <td>The Open Championship</td>\n",
       "    </tr>\n",
       "    <tr>\n",
       "      <th>2</th>\n",
       "      <td>Aaron Cockerill</td>\n",
       "      <td>1</td>\n",
       "      <td>0</td>\n",
       "      <td>0.000</td>\n",
       "      <td>0.0</td>\n",
       "      <td>0.00</td>\n",
       "      <td>0</td>\n",
       "      <td>2023-07-23</td>\n",
       "      <td>The Open Championship</td>\n",
       "    </tr>\n",
       "  </tbody>\n",
       "</table>\n",
       "</div>"
      ],
      "text/plain": [
       "            PLAYER  TOTAL_EVENTS_PLAYED  CUTS_MADE  FEDEX_CUP_POINTS  \\\n",
       "0   Aaron Baddeley                   17         11           349.536   \n",
       "1    Aaron Beverly                    1          1             0.000   \n",
       "2  Aaron Cockerill                    1          0             0.000   \n",
       "\n",
       "   CUT_PERCENTAGE  form_density  CONSECUTIVE_CUTS ENDING_DATE  \\\n",
       "0            64.7         20.56                 0  2023-07-23   \n",
       "1           100.0          0.00                 1  2023-07-23   \n",
       "2             0.0          0.00                 0  2023-07-23   \n",
       "\n",
       "              TOURNAMENT  \n",
       "0  The Open Championship  \n",
       "1  The Open Championship  \n",
       "2  The Open Championship  "
      ]
     },
     "metadata": {},
     "output_type": "display_data"
    },
    {
     "name": "stdout",
     "output_type": "stream",
     "text": [
      "\n",
      "📆 2024-07-21 — The Open Championship (559 players)\n"
     ]
    },
    {
     "data": {
      "text/html": [
       "<div>\n",
       "<style scoped>\n",
       "    .dataframe tbody tr th:only-of-type {\n",
       "        vertical-align: middle;\n",
       "    }\n",
       "\n",
       "    .dataframe tbody tr th {\n",
       "        vertical-align: top;\n",
       "    }\n",
       "\n",
       "    .dataframe thead th {\n",
       "        text-align: right;\n",
       "    }\n",
       "</style>\n",
       "<table border=\"1\" class=\"dataframe\">\n",
       "  <thead>\n",
       "    <tr style=\"text-align: right;\">\n",
       "      <th></th>\n",
       "      <th>PLAYER</th>\n",
       "      <th>TOTAL_EVENTS_PLAYED</th>\n",
       "      <th>CUTS_MADE</th>\n",
       "      <th>FEDEX_CUP_POINTS</th>\n",
       "      <th>CUT_PERCENTAGE</th>\n",
       "      <th>form_density</th>\n",
       "      <th>CONSECUTIVE_CUTS</th>\n",
       "      <th>ENDING_DATE</th>\n",
       "      <th>TOURNAMENT</th>\n",
       "    </tr>\n",
       "  </thead>\n",
       "  <tbody>\n",
       "    <tr>\n",
       "      <th>0</th>\n",
       "      <td>Aaron Baddeley</td>\n",
       "      <td>14</td>\n",
       "      <td>10</td>\n",
       "      <td>184.725</td>\n",
       "      <td>71.4</td>\n",
       "      <td>13.19</td>\n",
       "      <td>1</td>\n",
       "      <td>2024-07-21</td>\n",
       "      <td>The Open Championship</td>\n",
       "    </tr>\n",
       "    <tr>\n",
       "      <th>1</th>\n",
       "      <td>Aaron Cockerill</td>\n",
       "      <td>2</td>\n",
       "      <td>0</td>\n",
       "      <td>0.000</td>\n",
       "      <td>0.0</td>\n",
       "      <td>0.00</td>\n",
       "      <td>0</td>\n",
       "      <td>2024-07-21</td>\n",
       "      <td>The Open Championship</td>\n",
       "    </tr>\n",
       "    <tr>\n",
       "      <th>2</th>\n",
       "      <td>Aaron Rai</td>\n",
       "      <td>18</td>\n",
       "      <td>15</td>\n",
       "      <td>881.757</td>\n",
       "      <td>83.3</td>\n",
       "      <td>48.99</td>\n",
       "      <td>10</td>\n",
       "      <td>2024-07-21</td>\n",
       "      <td>The Open Championship</td>\n",
       "    </tr>\n",
       "  </tbody>\n",
       "</table>\n",
       "</div>"
      ],
      "text/plain": [
       "            PLAYER  TOTAL_EVENTS_PLAYED  CUTS_MADE  FEDEX_CUP_POINTS  \\\n",
       "0   Aaron Baddeley                   14         10           184.725   \n",
       "1  Aaron Cockerill                    2          0             0.000   \n",
       "2        Aaron Rai                   18         15           881.757   \n",
       "\n",
       "   CUT_PERCENTAGE  form_density  CONSECUTIVE_CUTS ENDING_DATE  \\\n",
       "0            71.4         13.19                 1  2024-07-21   \n",
       "1             0.0          0.00                 0  2024-07-21   \n",
       "2            83.3         48.99                10  2024-07-21   \n",
       "\n",
       "              TOURNAMENT  \n",
       "0  The Open Championship  \n",
       "1  The Open Championship  \n",
       "2  The Open Championship  "
      ]
     },
     "metadata": {},
     "output_type": "display_data"
    }
   ],
   "source": [
    "importlib.reload(utils.db_utils)\n",
    "from utils.db_utils import get_cut_and_fedex_history\n",
    "\n",
    "cuts = get_cut_and_fedex_history(\"data/golf.db\", history_df, window_months=9)\n",
    "# cuts[\"2024-05-12\"].head(20)\n",
    "\n",
    "for end_date, df in cuts.items():\n",
    "    print(f\"\\n📆 {end_date} — {df['TOURNAMENT'].iloc[0]} ({len(df)} players)\")\n",
    "    display(df.head(3))"
   ]
  },
  {
   "cell_type": "markdown",
   "id": "ce90fa05",
   "metadata": {},
   "source": [
    "### Recent Form"
   ]
  },
  {
   "cell_type": "code",
   "execution_count": 22,
   "id": "20095a72",
   "metadata": {},
   "outputs": [
    {
     "name": "stdout",
     "output_type": "stream",
     "text": [
      "\n",
      "📆 2016-07-17 — The Open Championship (472 players)\n"
     ]
    },
    {
     "data": {
      "text/html": [
       "<div>\n",
       "<style scoped>\n",
       "    .dataframe tbody tr th:only-of-type {\n",
       "        vertical-align: middle;\n",
       "    }\n",
       "\n",
       "    .dataframe tbody tr th {\n",
       "        vertical-align: top;\n",
       "    }\n",
       "\n",
       "    .dataframe thead th {\n",
       "        text-align: right;\n",
       "    }\n",
       "</style>\n",
       "<table border=\"1\" class=\"dataframe\">\n",
       "  <thead>\n",
       "    <tr style=\"text-align: right;\">\n",
       "      <th></th>\n",
       "      <th>PLAYER</th>\n",
       "      <th>TOTAL_EVENTS_PLAYED</th>\n",
       "      <th>RECENT_FORM</th>\n",
       "      <th>adj_form</th>\n",
       "      <th>ENDING_DATE</th>\n",
       "      <th>TOURNAMENT</th>\n",
       "    </tr>\n",
       "  </thead>\n",
       "  <tbody>\n",
       "    <tr>\n",
       "      <th>0</th>\n",
       "      <td>Lee McCoy</td>\n",
       "      <td>1</td>\n",
       "      <td>4.0</td>\n",
       "      <td>5.77</td>\n",
       "      <td>2016-07-17</td>\n",
       "      <td>The Open Championship</td>\n",
       "    </tr>\n",
       "    <tr>\n",
       "      <th>1</th>\n",
       "      <td>Cody Gribble</td>\n",
       "      <td>1</td>\n",
       "      <td>8.0</td>\n",
       "      <td>11.54</td>\n",
       "      <td>2016-07-17</td>\n",
       "      <td>The Open Championship</td>\n",
       "    </tr>\n",
       "    <tr>\n",
       "      <th>2</th>\n",
       "      <td>Dustin Johnson</td>\n",
       "      <td>11</td>\n",
       "      <td>11.4</td>\n",
       "      <td>4.59</td>\n",
       "      <td>2016-07-17</td>\n",
       "      <td>The Open Championship</td>\n",
       "    </tr>\n",
       "  </tbody>\n",
       "</table>\n",
       "</div>"
      ],
      "text/plain": [
       "           PLAYER  TOTAL_EVENTS_PLAYED  RECENT_FORM  adj_form ENDING_DATE  \\\n",
       "0       Lee McCoy                    1          4.0      5.77  2016-07-17   \n",
       "1    Cody Gribble                    1          8.0     11.54  2016-07-17   \n",
       "2  Dustin Johnson                   11         11.4      4.59  2016-07-17   \n",
       "\n",
       "              TOURNAMENT  \n",
       "0  The Open Championship  \n",
       "1  The Open Championship  \n",
       "2  The Open Championship  "
      ]
     },
     "metadata": {},
     "output_type": "display_data"
    },
    {
     "name": "stdout",
     "output_type": "stream",
     "text": [
      "\n",
      "📆 2017-07-23 — The Open Championship (456 players)\n"
     ]
    },
    {
     "data": {
      "text/html": [
       "<div>\n",
       "<style scoped>\n",
       "    .dataframe tbody tr th:only-of-type {\n",
       "        vertical-align: middle;\n",
       "    }\n",
       "\n",
       "    .dataframe tbody tr th {\n",
       "        vertical-align: top;\n",
       "    }\n",
       "\n",
       "    .dataframe thead th {\n",
       "        text-align: right;\n",
       "    }\n",
       "</style>\n",
       "<table border=\"1\" class=\"dataframe\">\n",
       "  <thead>\n",
       "    <tr style=\"text-align: right;\">\n",
       "      <th></th>\n",
       "      <th>PLAYER</th>\n",
       "      <th>TOTAL_EVENTS_PLAYED</th>\n",
       "      <th>RECENT_FORM</th>\n",
       "      <th>adj_form</th>\n",
       "      <th>ENDING_DATE</th>\n",
       "      <th>TOURNAMENT</th>\n",
       "    </tr>\n",
       "  </thead>\n",
       "  <tbody>\n",
       "    <tr>\n",
       "      <th>0</th>\n",
       "      <td>Keith Mitchell</td>\n",
       "      <td>1</td>\n",
       "      <td>11.0</td>\n",
       "      <td>15.87</td>\n",
       "      <td>2017-07-23</td>\n",
       "      <td>The Open Championship</td>\n",
       "    </tr>\n",
       "    <tr>\n",
       "      <th>1</th>\n",
       "      <td>Oscar Fraustro</td>\n",
       "      <td>1</td>\n",
       "      <td>13.0</td>\n",
       "      <td>18.76</td>\n",
       "      <td>2017-07-23</td>\n",
       "      <td>The Open Championship</td>\n",
       "    </tr>\n",
       "    <tr>\n",
       "      <th>2</th>\n",
       "      <td>Cam Davis</td>\n",
       "      <td>1</td>\n",
       "      <td>15.0</td>\n",
       "      <td>21.64</td>\n",
       "      <td>2017-07-23</td>\n",
       "      <td>The Open Championship</td>\n",
       "    </tr>\n",
       "  </tbody>\n",
       "</table>\n",
       "</div>"
      ],
      "text/plain": [
       "           PLAYER  TOTAL_EVENTS_PLAYED  RECENT_FORM  adj_form ENDING_DATE  \\\n",
       "0  Keith Mitchell                    1         11.0     15.87  2017-07-23   \n",
       "1  Oscar Fraustro                    1         13.0     18.76  2017-07-23   \n",
       "2       Cam Davis                    1         15.0     21.64  2017-07-23   \n",
       "\n",
       "              TOURNAMENT  \n",
       "0  The Open Championship  \n",
       "1  The Open Championship  \n",
       "2  The Open Championship  "
      ]
     },
     "metadata": {},
     "output_type": "display_data"
    },
    {
     "name": "stdout",
     "output_type": "stream",
     "text": [
      "\n",
      "📆 2018-07-22 — The Open Championship (465 players)\n"
     ]
    },
    {
     "data": {
      "text/html": [
       "<div>\n",
       "<style scoped>\n",
       "    .dataframe tbody tr th:only-of-type {\n",
       "        vertical-align: middle;\n",
       "    }\n",
       "\n",
       "    .dataframe tbody tr th {\n",
       "        vertical-align: top;\n",
       "    }\n",
       "\n",
       "    .dataframe thead th {\n",
       "        text-align: right;\n",
       "    }\n",
       "</style>\n",
       "<table border=\"1\" class=\"dataframe\">\n",
       "  <thead>\n",
       "    <tr style=\"text-align: right;\">\n",
       "      <th></th>\n",
       "      <th>PLAYER</th>\n",
       "      <th>TOTAL_EVENTS_PLAYED</th>\n",
       "      <th>RECENT_FORM</th>\n",
       "      <th>adj_form</th>\n",
       "      <th>ENDING_DATE</th>\n",
       "      <th>TOURNAMENT</th>\n",
       "    </tr>\n",
       "  </thead>\n",
       "  <tbody>\n",
       "    <tr>\n",
       "      <th>0</th>\n",
       "      <td>Andres Romero</td>\n",
       "      <td>1</td>\n",
       "      <td>7.0</td>\n",
       "      <td>10.10</td>\n",
       "      <td>2018-07-22</td>\n",
       "      <td>The Open Championship</td>\n",
       "    </tr>\n",
       "    <tr>\n",
       "      <th>1</th>\n",
       "      <td>Chase Seiffert</td>\n",
       "      <td>1</td>\n",
       "      <td>9.0</td>\n",
       "      <td>12.98</td>\n",
       "      <td>2018-07-22</td>\n",
       "      <td>The Open Championship</td>\n",
       "    </tr>\n",
       "    <tr>\n",
       "      <th>2</th>\n",
       "      <td>Dustin Johnson</td>\n",
       "      <td>8</td>\n",
       "      <td>9.1</td>\n",
       "      <td>4.14</td>\n",
       "      <td>2018-07-22</td>\n",
       "      <td>The Open Championship</td>\n",
       "    </tr>\n",
       "  </tbody>\n",
       "</table>\n",
       "</div>"
      ],
      "text/plain": [
       "           PLAYER  TOTAL_EVENTS_PLAYED  RECENT_FORM  adj_form ENDING_DATE  \\\n",
       "0   Andres Romero                    1          7.0     10.10  2018-07-22   \n",
       "1  Chase Seiffert                    1          9.0     12.98  2018-07-22   \n",
       "2  Dustin Johnson                    8          9.1      4.14  2018-07-22   \n",
       "\n",
       "              TOURNAMENT  \n",
       "0  The Open Championship  \n",
       "1  The Open Championship  \n",
       "2  The Open Championship  "
      ]
     },
     "metadata": {},
     "output_type": "display_data"
    },
    {
     "name": "stdout",
     "output_type": "stream",
     "text": [
      "\n",
      "📆 2019-07-21 — The Open Championship (502 players)\n"
     ]
    },
    {
     "data": {
      "text/html": [
       "<div>\n",
       "<style scoped>\n",
       "    .dataframe tbody tr th:only-of-type {\n",
       "        vertical-align: middle;\n",
       "    }\n",
       "\n",
       "    .dataframe tbody tr th {\n",
       "        vertical-align: top;\n",
       "    }\n",
       "\n",
       "    .dataframe thead th {\n",
       "        text-align: right;\n",
       "    }\n",
       "</style>\n",
       "<table border=\"1\" class=\"dataframe\">\n",
       "  <thead>\n",
       "    <tr style=\"text-align: right;\">\n",
       "      <th></th>\n",
       "      <th>PLAYER</th>\n",
       "      <th>TOTAL_EVENTS_PLAYED</th>\n",
       "      <th>RECENT_FORM</th>\n",
       "      <th>adj_form</th>\n",
       "      <th>ENDING_DATE</th>\n",
       "      <th>TOURNAMENT</th>\n",
       "    </tr>\n",
       "  </thead>\n",
       "  <tbody>\n",
       "    <tr>\n",
       "      <th>0</th>\n",
       "      <td>Jazz Janewattananond</td>\n",
       "      <td>1</td>\n",
       "      <td>14.0</td>\n",
       "      <td>20.20</td>\n",
       "      <td>2019-07-21</td>\n",
       "      <td>The Open Championship</td>\n",
       "    </tr>\n",
       "    <tr>\n",
       "      <th>1</th>\n",
       "      <td>Rory McIlroy</td>\n",
       "      <td>10</td>\n",
       "      <td>15.2</td>\n",
       "      <td>6.34</td>\n",
       "      <td>2019-07-21</td>\n",
       "      <td>The Open Championship</td>\n",
       "    </tr>\n",
       "    <tr>\n",
       "      <th>2</th>\n",
       "      <td>Michael Lorenzo-Vera</td>\n",
       "      <td>1</td>\n",
       "      <td>16.0</td>\n",
       "      <td>23.08</td>\n",
       "      <td>2019-07-21</td>\n",
       "      <td>The Open Championship</td>\n",
       "    </tr>\n",
       "  </tbody>\n",
       "</table>\n",
       "</div>"
      ],
      "text/plain": [
       "                 PLAYER  TOTAL_EVENTS_PLAYED  RECENT_FORM  adj_form  \\\n",
       "0  Jazz Janewattananond                    1         14.0     20.20   \n",
       "1          Rory McIlroy                   10         15.2      6.34   \n",
       "2  Michael Lorenzo-Vera                    1         16.0     23.08   \n",
       "\n",
       "  ENDING_DATE             TOURNAMENT  \n",
       "0  2019-07-21  The Open Championship  \n",
       "1  2019-07-21  The Open Championship  \n",
       "2  2019-07-21  The Open Championship  "
      ]
     },
     "metadata": {},
     "output_type": "display_data"
    },
    {
     "name": "stdout",
     "output_type": "stream",
     "text": [
      "\n",
      "📆 2021-07-18 — The Open Championship (492 players)\n"
     ]
    },
    {
     "data": {
      "text/html": [
       "<div>\n",
       "<style scoped>\n",
       "    .dataframe tbody tr th:only-of-type {\n",
       "        vertical-align: middle;\n",
       "    }\n",
       "\n",
       "    .dataframe tbody tr th {\n",
       "        vertical-align: top;\n",
       "    }\n",
       "\n",
       "    .dataframe thead th {\n",
       "        text-align: right;\n",
       "    }\n",
       "</style>\n",
       "<table border=\"1\" class=\"dataframe\">\n",
       "  <thead>\n",
       "    <tr style=\"text-align: right;\">\n",
       "      <th></th>\n",
       "      <th>PLAYER</th>\n",
       "      <th>TOTAL_EVENTS_PLAYED</th>\n",
       "      <th>RECENT_FORM</th>\n",
       "      <th>adj_form</th>\n",
       "      <th>ENDING_DATE</th>\n",
       "      <th>TOURNAMENT</th>\n",
       "    </tr>\n",
       "  </thead>\n",
       "  <tbody>\n",
       "    <tr>\n",
       "      <th>0</th>\n",
       "      <td>Guido Migliozzi</td>\n",
       "      <td>2</td>\n",
       "      <td>8.5</td>\n",
       "      <td>7.74</td>\n",
       "      <td>2021-07-18</td>\n",
       "      <td>The Open Championship</td>\n",
       "    </tr>\n",
       "    <tr>\n",
       "      <th>1</th>\n",
       "      <td>Dawie van der Walt</td>\n",
       "      <td>1</td>\n",
       "      <td>20.0</td>\n",
       "      <td>28.85</td>\n",
       "      <td>2021-07-18</td>\n",
       "      <td>The Open Championship</td>\n",
       "    </tr>\n",
       "    <tr>\n",
       "      <th>2</th>\n",
       "      <td>Curtis Thompson</td>\n",
       "      <td>1</td>\n",
       "      <td>21.0</td>\n",
       "      <td>30.30</td>\n",
       "      <td>2021-07-18</td>\n",
       "      <td>The Open Championship</td>\n",
       "    </tr>\n",
       "  </tbody>\n",
       "</table>\n",
       "</div>"
      ],
      "text/plain": [
       "               PLAYER  TOTAL_EVENTS_PLAYED  RECENT_FORM  adj_form ENDING_DATE  \\\n",
       "0     Guido Migliozzi                    2          8.5      7.74  2021-07-18   \n",
       "1  Dawie van der Walt                    1         20.0     28.85  2021-07-18   \n",
       "2     Curtis Thompson                    1         21.0     30.30  2021-07-18   \n",
       "\n",
       "              TOURNAMENT  \n",
       "0  The Open Championship  \n",
       "1  The Open Championship  \n",
       "2  The Open Championship  "
      ]
     },
     "metadata": {},
     "output_type": "display_data"
    },
    {
     "name": "stdout",
     "output_type": "stream",
     "text": [
      "\n",
      "📆 2022-07-17 — The Open Championship (524 players)\n"
     ]
    },
    {
     "data": {
      "text/html": [
       "<div>\n",
       "<style scoped>\n",
       "    .dataframe tbody tr th:only-of-type {\n",
       "        vertical-align: middle;\n",
       "    }\n",
       "\n",
       "    .dataframe tbody tr th {\n",
       "        vertical-align: top;\n",
       "    }\n",
       "\n",
       "    .dataframe thead th {\n",
       "        text-align: right;\n",
       "    }\n",
       "</style>\n",
       "<table border=\"1\" class=\"dataframe\">\n",
       "  <thead>\n",
       "    <tr style=\"text-align: right;\">\n",
       "      <th></th>\n",
       "      <th>PLAYER</th>\n",
       "      <th>TOTAL_EVENTS_PLAYED</th>\n",
       "      <th>RECENT_FORM</th>\n",
       "      <th>adj_form</th>\n",
       "      <th>ENDING_DATE</th>\n",
       "      <th>TOURNAMENT</th>\n",
       "    </tr>\n",
       "  </thead>\n",
       "  <tbody>\n",
       "    <tr>\n",
       "      <th>0</th>\n",
       "      <td>Chris Gotterup</td>\n",
       "      <td>1</td>\n",
       "      <td>4.0</td>\n",
       "      <td>5.77</td>\n",
       "      <td>2022-07-17</td>\n",
       "      <td>The Open Championship</td>\n",
       "    </tr>\n",
       "    <tr>\n",
       "      <th>1</th>\n",
       "      <td>Haotong Li</td>\n",
       "      <td>1</td>\n",
       "      <td>12.0</td>\n",
       "      <td>17.31</td>\n",
       "      <td>2022-07-17</td>\n",
       "      <td>The Open Championship</td>\n",
       "    </tr>\n",
       "    <tr>\n",
       "      <th>2</th>\n",
       "      <td>Rory McIlroy</td>\n",
       "      <td>13</td>\n",
       "      <td>15.8</td>\n",
       "      <td>5.99</td>\n",
       "      <td>2022-07-17</td>\n",
       "      <td>The Open Championship</td>\n",
       "    </tr>\n",
       "  </tbody>\n",
       "</table>\n",
       "</div>"
      ],
      "text/plain": [
       "           PLAYER  TOTAL_EVENTS_PLAYED  RECENT_FORM  adj_form ENDING_DATE  \\\n",
       "0  Chris Gotterup                    1          4.0      5.77  2022-07-17   \n",
       "1      Haotong Li                    1         12.0     17.31  2022-07-17   \n",
       "2    Rory McIlroy                   13         15.8      5.99  2022-07-17   \n",
       "\n",
       "              TOURNAMENT  \n",
       "0  The Open Championship  \n",
       "1  The Open Championship  \n",
       "2  The Open Championship  "
      ]
     },
     "metadata": {},
     "output_type": "display_data"
    },
    {
     "name": "stdout",
     "output_type": "stream",
     "text": [
      "\n",
      "📆 2023-07-23 — The Open Championship (581 players)\n"
     ]
    },
    {
     "data": {
      "text/html": [
       "<div>\n",
       "<style scoped>\n",
       "    .dataframe tbody tr th:only-of-type {\n",
       "        vertical-align: middle;\n",
       "    }\n",
       "\n",
       "    .dataframe tbody tr th {\n",
       "        vertical-align: top;\n",
       "    }\n",
       "\n",
       "    .dataframe thead th {\n",
       "        text-align: right;\n",
       "    }\n",
       "</style>\n",
       "<table border=\"1\" class=\"dataframe\">\n",
       "  <thead>\n",
       "    <tr style=\"text-align: right;\">\n",
       "      <th></th>\n",
       "      <th>PLAYER</th>\n",
       "      <th>TOTAL_EVENTS_PLAYED</th>\n",
       "      <th>RECENT_FORM</th>\n",
       "      <th>adj_form</th>\n",
       "      <th>ENDING_DATE</th>\n",
       "      <th>TOURNAMENT</th>\n",
       "    </tr>\n",
       "  </thead>\n",
       "  <tbody>\n",
       "    <tr>\n",
       "      <th>0</th>\n",
       "      <td>Brooks Koepka</td>\n",
       "      <td>3</td>\n",
       "      <td>6.7</td>\n",
       "      <td>4.83</td>\n",
       "      <td>2023-07-23</td>\n",
       "      <td>The Open Championship</td>\n",
       "    </tr>\n",
       "    <tr>\n",
       "      <th>1</th>\n",
       "      <td>Scottie Scheffler</td>\n",
       "      <td>19</td>\n",
       "      <td>7.3</td>\n",
       "      <td>2.44</td>\n",
       "      <td>2023-07-23</td>\n",
       "      <td>The Open Championship</td>\n",
       "    </tr>\n",
       "    <tr>\n",
       "      <th>2</th>\n",
       "      <td>Grant Forrest</td>\n",
       "      <td>1</td>\n",
       "      <td>11.0</td>\n",
       "      <td>15.87</td>\n",
       "      <td>2023-07-23</td>\n",
       "      <td>The Open Championship</td>\n",
       "    </tr>\n",
       "  </tbody>\n",
       "</table>\n",
       "</div>"
      ],
      "text/plain": [
       "              PLAYER  TOTAL_EVENTS_PLAYED  RECENT_FORM  adj_form ENDING_DATE  \\\n",
       "0      Brooks Koepka                    3          6.7      4.83  2023-07-23   \n",
       "1  Scottie Scheffler                   19          7.3      2.44  2023-07-23   \n",
       "2      Grant Forrest                    1         11.0     15.87  2023-07-23   \n",
       "\n",
       "              TOURNAMENT  \n",
       "0  The Open Championship  \n",
       "1  The Open Championship  \n",
       "2  The Open Championship  "
      ]
     },
     "metadata": {},
     "output_type": "display_data"
    },
    {
     "name": "stdout",
     "output_type": "stream",
     "text": [
      "\n",
      "📆 2024-07-21 — The Open Championship (559 players)\n"
     ]
    },
    {
     "data": {
      "text/html": [
       "<div>\n",
       "<style scoped>\n",
       "    .dataframe tbody tr th:only-of-type {\n",
       "        vertical-align: middle;\n",
       "    }\n",
       "\n",
       "    .dataframe tbody tr th {\n",
       "        vertical-align: top;\n",
       "    }\n",
       "\n",
       "    .dataframe thead th {\n",
       "        text-align: right;\n",
       "    }\n",
       "</style>\n",
       "<table border=\"1\" class=\"dataframe\">\n",
       "  <thead>\n",
       "    <tr style=\"text-align: right;\">\n",
       "      <th></th>\n",
       "      <th>PLAYER</th>\n",
       "      <th>TOTAL_EVENTS_PLAYED</th>\n",
       "      <th>RECENT_FORM</th>\n",
       "      <th>adj_form</th>\n",
       "      <th>ENDING_DATE</th>\n",
       "      <th>TOURNAMENT</th>\n",
       "    </tr>\n",
       "  </thead>\n",
       "  <tbody>\n",
       "    <tr>\n",
       "      <th>0</th>\n",
       "      <td>Bryson DeChambeau</td>\n",
       "      <td>3</td>\n",
       "      <td>3.0</td>\n",
       "      <td>2.16</td>\n",
       "      <td>2024-07-21</td>\n",
       "      <td>The Open Championship</td>\n",
       "    </tr>\n",
       "    <tr>\n",
       "      <th>1</th>\n",
       "      <td>Romain Langasque</td>\n",
       "      <td>1</td>\n",
       "      <td>3.0</td>\n",
       "      <td>4.33</td>\n",
       "      <td>2024-07-21</td>\n",
       "      <td>The Open Championship</td>\n",
       "    </tr>\n",
       "    <tr>\n",
       "      <th>2</th>\n",
       "      <td>Scottie Scheffler</td>\n",
       "      <td>16</td>\n",
       "      <td>6.3</td>\n",
       "      <td>2.22</td>\n",
       "      <td>2024-07-21</td>\n",
       "      <td>The Open Championship</td>\n",
       "    </tr>\n",
       "  </tbody>\n",
       "</table>\n",
       "</div>"
      ],
      "text/plain": [
       "              PLAYER  TOTAL_EVENTS_PLAYED  RECENT_FORM  adj_form ENDING_DATE  \\\n",
       "0  Bryson DeChambeau                    3          3.0      2.16  2024-07-21   \n",
       "1   Romain Langasque                    1          3.0      4.33  2024-07-21   \n",
       "2  Scottie Scheffler                   16          6.3      2.22  2024-07-21   \n",
       "\n",
       "              TOURNAMENT  \n",
       "0  The Open Championship  \n",
       "1  The Open Championship  \n",
       "2  The Open Championship  "
      ]
     },
     "metadata": {},
     "output_type": "display_data"
    }
   ],
   "source": [
    "importlib.reload(utils.db_utils)\n",
    "from utils.db_utils import get_recent_avg_finish\n",
    "\n",
    "recent_form = get_recent_avg_finish(\"data/golf.db\", history_df, window_months=9)\n",
    "\n",
    "# Example preview\n",
    "for date, df in recent_form.items(): \n",
    "    print(f\"\\n📆 {date} — {df['TOURNAMENT'].iloc[0]} ({len(df)} players)\")\n",
    "    display(df.head(3))"
   ]
  },
  {
   "cell_type": "markdown",
   "id": "76a77f44",
   "metadata": {},
   "source": [
    "### Course History"
   ]
  },
  {
   "cell_type": "code",
   "execution_count": 23,
   "id": "7412401a",
   "metadata": {},
   "outputs": [],
   "source": [
    "importlib.reload(utils.db_utils)\n",
    "from utils.db_utils import get_course_history\n",
    "\n",
    "# Filter history_df for only the course we're targeting\n",
    "target_course = tournament_config[\"new\"][\"course\"]\n",
    "course_df = history_df[history_df[\"COURSE\"] == target_course]\n",
    "course_hist = get_course_history(\"data/golf.db\", course_df)\n",
    "\n",
    "# View example\n",
    "for date, df in course_hist.items():\n",
    "    if not df.empty:\n",
    "        print(f\"\\n🏌️‍♂️ Course history for {df['TOURNAMENT'].iloc[0]} on {date}\")\n",
    "        display(df.head(3))"
   ]
  },
  {
   "cell_type": "code",
   "execution_count": 24,
   "id": "bb9221e1",
   "metadata": {},
   "outputs": [
    {
     "name": "stdout",
     "output_type": "stream",
     "text": [
      "ℹ️ Empty course_hist for date 2019-07-21\n"
     ]
    }
   ],
   "source": [
    "#  DEBUGGING: Check for empty DataFrames or missing columns\n",
    "for date_key, df in course_hist.items():\n",
    "    if df.empty:\n",
    "        print(f\"ℹ️ Empty course_hist for date {date_key}\")\n",
    "    elif \"PLAYER\" not in df.columns:\n",
    "        print(f\"❌ Missing 'PLAYER' column in course_hist[{date_key}]. Columns present: {df.columns.tolist()}\")\n",
    "        display(df.head())"
   ]
  },
  {
   "cell_type": "markdown",
   "id": "e8fa7578",
   "metadata": {},
   "source": [
    "## Training Dataset"
   ]
  },
  {
   "cell_type": "code",
   "execution_count": 25,
   "id": "a4277295",
   "metadata": {},
   "outputs": [
    {
     "data": {
      "text/html": [
       "<div>\n",
       "<style scoped>\n",
       "    .dataframe tbody tr th:only-of-type {\n",
       "        vertical-align: middle;\n",
       "    }\n",
       "\n",
       "    .dataframe tbody tr th {\n",
       "        vertical-align: top;\n",
       "    }\n",
       "\n",
       "    .dataframe thead th {\n",
       "        text-align: right;\n",
       "    }\n",
       "</style>\n",
       "<table border=\"1\" class=\"dataframe\">\n",
       "  <thead>\n",
       "    <tr style=\"text-align: right;\">\n",
       "      <th></th>\n",
       "      <th>SEASON</th>\n",
       "      <th>ENDING_DATE</th>\n",
       "      <th>TOURNAMENT</th>\n",
       "      <th>COURSE</th>\n",
       "      <th>PLAYER</th>\n",
       "      <th>POS</th>\n",
       "      <th>FINAL_POS</th>\n",
       "      <th>SGTTG_RANK</th>\n",
       "      <th>SGTTG</th>\n",
       "      <th>SGOTT_RANK</th>\n",
       "      <th>SGOTT</th>\n",
       "      <th>SGAPR_RANK</th>\n",
       "      <th>SGAPR</th>\n",
       "      <th>SGATG_RANK</th>\n",
       "      <th>SGATG</th>\n",
       "      <th>SGP_RANK</th>\n",
       "      <th>SGP</th>\n",
       "      <th>BIRDIES_RANK</th>\n",
       "      <th>BIRDIES</th>\n",
       "      <th>PAR_3_RANK</th>\n",
       "      <th>PAR_3</th>\n",
       "      <th>PAR_4_RANK</th>\n",
       "      <th>PAR_4</th>\n",
       "      <th>PAR_5_RANK</th>\n",
       "      <th>PAR_5</th>\n",
       "      <th>TOTAL_DRIVING_RANK</th>\n",
       "      <th>TOTAL_DRIVING</th>\n",
       "      <th>DRIVING_DISTANCE_RANK</th>\n",
       "      <th>DRIVING_DISTANCE</th>\n",
       "      <th>DRIVING_ACCURACY_RANK</th>\n",
       "      <th>DRIVING_ACCURACY</th>\n",
       "      <th>GIR_RANK</th>\n",
       "      <th>GIR</th>\n",
       "      <th>SCRAMBLING_RANK</th>\n",
       "      <th>SCRAMBLING</th>\n",
       "      <th>OWGR_RANK</th>\n",
       "      <th>OWGR</th>\n",
       "      <th>VEGAS_ODDS</th>\n",
       "      <th>CUT_PERCENTAGE</th>\n",
       "      <th>FEDEX_CUP_POINTS</th>\n",
       "      <th>form_density</th>\n",
       "      <th>CONSECUTIVE_CUTS</th>\n",
       "      <th>RECENT_FORM</th>\n",
       "      <th>adj_form</th>\n",
       "      <th>TOP_20</th>\n",
       "    </tr>\n",
       "  </thead>\n",
       "  <tbody>\n",
       "    <tr>\n",
       "      <th>0</th>\n",
       "      <td>2016</td>\n",
       "      <td>2016-07-17</td>\n",
       "      <td>The Open Championship</td>\n",
       "      <td>Royal Troon GC</td>\n",
       "      <td>Henrik Stenson</td>\n",
       "      <td>1</td>\n",
       "      <td>1</td>\n",
       "      <td>NaN</td>\n",
       "      <td>NaN</td>\n",
       "      <td>NaN</td>\n",
       "      <td>NaN</td>\n",
       "      <td>NaN</td>\n",
       "      <td>NaN</td>\n",
       "      <td>NaN</td>\n",
       "      <td>NaN</td>\n",
       "      <td>NaN</td>\n",
       "      <td>NaN</td>\n",
       "      <td>NaN</td>\n",
       "      <td>None</td>\n",
       "      <td>NaN</td>\n",
       "      <td>NaN</td>\n",
       "      <td>NaN</td>\n",
       "      <td>NaN</td>\n",
       "      <td>NaN</td>\n",
       "      <td>NaN</td>\n",
       "      <td>NaN</td>\n",
       "      <td>NaN</td>\n",
       "      <td>NaN</td>\n",
       "      <td>NaN</td>\n",
       "      <td>NaN</td>\n",
       "      <td>None</td>\n",
       "      <td>NaN</td>\n",
       "      <td>None</td>\n",
       "      <td>NaN</td>\n",
       "      <td>None</td>\n",
       "      <td>5.0</td>\n",
       "      <td>8.52</td>\n",
       "      <td>25.0</td>\n",
       "      <td>57.1</td>\n",
       "      <td>567.07</td>\n",
       "      <td>81.01</td>\n",
       "      <td>0.0</td>\n",
       "      <td>44.3</td>\n",
       "      <td>21.30</td>\n",
       "      <td>1</td>\n",
       "    </tr>\n",
       "    <tr>\n",
       "      <th>1</th>\n",
       "      <td>2016</td>\n",
       "      <td>2016-07-17</td>\n",
       "      <td>The Open Championship</td>\n",
       "      <td>Royal Troon GC</td>\n",
       "      <td>Phil Mickelson</td>\n",
       "      <td>2</td>\n",
       "      <td>2</td>\n",
       "      <td>26.0</td>\n",
       "      <td>0.799</td>\n",
       "      <td>134.0</td>\n",
       "      <td>-0.145</td>\n",
       "      <td>6.0</td>\n",
       "      <td>0.726</td>\n",
       "      <td>36.0</td>\n",
       "      <td>0.218</td>\n",
       "      <td>9.0</td>\n",
       "      <td>0.565</td>\n",
       "      <td>8.0</td>\n",
       "      <td>22.99</td>\n",
       "      <td>1.0</td>\n",
       "      <td>2.93</td>\n",
       "      <td>68.0</td>\n",
       "      <td>4.04</td>\n",
       "      <td>17.0</td>\n",
       "      <td>4.59</td>\n",
       "      <td>141.0</td>\n",
       "      <td>219.0</td>\n",
       "      <td>56.0</td>\n",
       "      <td>294.8</td>\n",
       "      <td>163.0</td>\n",
       "      <td>54.82</td>\n",
       "      <td>84.0</td>\n",
       "      <td>66.05</td>\n",
       "      <td>4.0</td>\n",
       "      <td>64.32</td>\n",
       "      <td>15.0</td>\n",
       "      <td>4.89</td>\n",
       "      <td>30.0</td>\n",
       "      <td>64.3</td>\n",
       "      <td>871.15</td>\n",
       "      <td>62.22</td>\n",
       "      <td>1.0</td>\n",
       "      <td>41.1</td>\n",
       "      <td>15.18</td>\n",
       "      <td>1</td>\n",
       "    </tr>\n",
       "    <tr>\n",
       "      <th>2</th>\n",
       "      <td>2016</td>\n",
       "      <td>2016-07-17</td>\n",
       "      <td>The Open Championship</td>\n",
       "      <td>Royal Troon GC</td>\n",
       "      <td>J.B. Holmes</td>\n",
       "      <td>3</td>\n",
       "      <td>3</td>\n",
       "      <td>38.0</td>\n",
       "      <td>0.633</td>\n",
       "      <td>7.0</td>\n",
       "      <td>0.663</td>\n",
       "      <td>138.0</td>\n",
       "      <td>-0.151</td>\n",
       "      <td>31.0</td>\n",
       "      <td>0.233</td>\n",
       "      <td>122.0</td>\n",
       "      <td>-0.129</td>\n",
       "      <td>10.0</td>\n",
       "      <td>22.82</td>\n",
       "      <td>35.0</td>\n",
       "      <td>3.03</td>\n",
       "      <td>68.0</td>\n",
       "      <td>4.04</td>\n",
       "      <td>93.0</td>\n",
       "      <td>4.68</td>\n",
       "      <td>86.0</td>\n",
       "      <td>180.0</td>\n",
       "      <td>1.0</td>\n",
       "      <td>314.5</td>\n",
       "      <td>179.0</td>\n",
       "      <td>51.68</td>\n",
       "      <td>105.0</td>\n",
       "      <td>65.17</td>\n",
       "      <td>130.0</td>\n",
       "      <td>56.68</td>\n",
       "      <td>22.0</td>\n",
       "      <td>4.01</td>\n",
       "      <td>150.0</td>\n",
       "      <td>83.3</td>\n",
       "      <td>695.27</td>\n",
       "      <td>57.94</td>\n",
       "      <td>1.0</td>\n",
       "      <td>28.3</td>\n",
       "      <td>11.03</td>\n",
       "      <td>1</td>\n",
       "    </tr>\n",
       "    <tr>\n",
       "      <th>3</th>\n",
       "      <td>2016</td>\n",
       "      <td>2016-07-17</td>\n",
       "      <td>The Open Championship</td>\n",
       "      <td>Royal Troon GC</td>\n",
       "      <td>Steve Stricker</td>\n",
       "      <td>4</td>\n",
       "      <td>4</td>\n",
       "      <td>94.0</td>\n",
       "      <td>0.101</td>\n",
       "      <td>164.0</td>\n",
       "      <td>-0.440</td>\n",
       "      <td>116.0</td>\n",
       "      <td>-0.003</td>\n",
       "      <td>1.0</td>\n",
       "      <td>0.544</td>\n",
       "      <td>5.0</td>\n",
       "      <td>0.620</td>\n",
       "      <td>80.0</td>\n",
       "      <td>20.23</td>\n",
       "      <td>35.0</td>\n",
       "      <td>3.03</td>\n",
       "      <td>14.0</td>\n",
       "      <td>4.01</td>\n",
       "      <td>42.0</td>\n",
       "      <td>4.63</td>\n",
       "      <td>149.0</td>\n",
       "      <td>228.0</td>\n",
       "      <td>175.0</td>\n",
       "      <td>278.0</td>\n",
       "      <td>53.0</td>\n",
       "      <td>63.23</td>\n",
       "      <td>158.0</td>\n",
       "      <td>63.0</td>\n",
       "      <td>1.0</td>\n",
       "      <td>66.01</td>\n",
       "      <td>82.0</td>\n",
       "      <td>1.79</td>\n",
       "      <td>150.0</td>\n",
       "      <td>50.0</td>\n",
       "      <td>170.60</td>\n",
       "      <td>21.32</td>\n",
       "      <td>1.0</td>\n",
       "      <td>61.1</td>\n",
       "      <td>27.81</td>\n",
       "      <td>1</td>\n",
       "    </tr>\n",
       "    <tr>\n",
       "      <th>4</th>\n",
       "      <td>2016</td>\n",
       "      <td>2016-07-17</td>\n",
       "      <td>The Open Championship</td>\n",
       "      <td>Royal Troon GC</td>\n",
       "      <td>Sergio Garcia</td>\n",
       "      <td>T5</td>\n",
       "      <td>5</td>\n",
       "      <td>9.0</td>\n",
       "      <td>1.189</td>\n",
       "      <td>4.0</td>\n",
       "      <td>0.737</td>\n",
       "      <td>24.0</td>\n",
       "      <td>0.482</td>\n",
       "      <td>112.0</td>\n",
       "      <td>-0.031</td>\n",
       "      <td>168.0</td>\n",
       "      <td>-0.388</td>\n",
       "      <td>16.0</td>\n",
       "      <td>21.9</td>\n",
       "      <td>16.0</td>\n",
       "      <td>3.01</td>\n",
       "      <td>48.0</td>\n",
       "      <td>4.03</td>\n",
       "      <td>28.0</td>\n",
       "      <td>4.61</td>\n",
       "      <td>9.0</td>\n",
       "      <td>98.0</td>\n",
       "      <td>28.0</td>\n",
       "      <td>299.9</td>\n",
       "      <td>70.0</td>\n",
       "      <td>61.76</td>\n",
       "      <td>6.0</td>\n",
       "      <td>70.15</td>\n",
       "      <td>113.0</td>\n",
       "      <td>57.66</td>\n",
       "      <td>13.0</td>\n",
       "      <td>5.04</td>\n",
       "      <td>20.0</td>\n",
       "      <td>85.7</td>\n",
       "      <td>967.92</td>\n",
       "      <td>138.27</td>\n",
       "      <td>6.0</td>\n",
       "      <td>36.9</td>\n",
       "      <td>17.75</td>\n",
       "      <td>1</td>\n",
       "    </tr>\n",
       "    <tr>\n",
       "      <th>5</th>\n",
       "      <td>2016</td>\n",
       "      <td>2016-07-17</td>\n",
       "      <td>The Open Championship</td>\n",
       "      <td>Royal Troon GC</td>\n",
       "      <td>Tyrrell Hatton</td>\n",
       "      <td>T5</td>\n",
       "      <td>5</td>\n",
       "      <td>NaN</td>\n",
       "      <td>NaN</td>\n",
       "      <td>NaN</td>\n",
       "      <td>NaN</td>\n",
       "      <td>NaN</td>\n",
       "      <td>NaN</td>\n",
       "      <td>NaN</td>\n",
       "      <td>NaN</td>\n",
       "      <td>NaN</td>\n",
       "      <td>NaN</td>\n",
       "      <td>NaN</td>\n",
       "      <td>None</td>\n",
       "      <td>NaN</td>\n",
       "      <td>NaN</td>\n",
       "      <td>NaN</td>\n",
       "      <td>NaN</td>\n",
       "      <td>NaN</td>\n",
       "      <td>NaN</td>\n",
       "      <td>NaN</td>\n",
       "      <td>NaN</td>\n",
       "      <td>NaN</td>\n",
       "      <td>NaN</td>\n",
       "      <td>NaN</td>\n",
       "      <td>None</td>\n",
       "      <td>NaN</td>\n",
       "      <td>None</td>\n",
       "      <td>NaN</td>\n",
       "      <td>None</td>\n",
       "      <td>33.0</td>\n",
       "      <td>3.32</td>\n",
       "      <td>150.0</td>\n",
       "      <td>NaN</td>\n",
       "      <td>NaN</td>\n",
       "      <td>NaN</td>\n",
       "      <td>NaN</td>\n",
       "      <td>NaN</td>\n",
       "      <td>NaN</td>\n",
       "      <td>1</td>\n",
       "    </tr>\n",
       "    <tr>\n",
       "      <th>6</th>\n",
       "      <td>2016</td>\n",
       "      <td>2016-07-17</td>\n",
       "      <td>The Open Championship</td>\n",
       "      <td>Royal Troon GC</td>\n",
       "      <td>Rory McIlroy</td>\n",
       "      <td>T5</td>\n",
       "      <td>5</td>\n",
       "      <td>2.0</td>\n",
       "      <td>1.888</td>\n",
       "      <td>1.0</td>\n",
       "      <td>1.230</td>\n",
       "      <td>29.0</td>\n",
       "      <td>0.447</td>\n",
       "      <td>37.0</td>\n",
       "      <td>0.211</td>\n",
       "      <td>139.0</td>\n",
       "      <td>-0.207</td>\n",
       "      <td>2.0</td>\n",
       "      <td>25.27</td>\n",
       "      <td>136.0</td>\n",
       "      <td>3.09</td>\n",
       "      <td>8.0</td>\n",
       "      <td>4.00</td>\n",
       "      <td>1.0</td>\n",
       "      <td>4.46</td>\n",
       "      <td>6.0</td>\n",
       "      <td>86.0</td>\n",
       "      <td>9.0</td>\n",
       "      <td>306.8</td>\n",
       "      <td>77.0</td>\n",
       "      <td>61.06</td>\n",
       "      <td>11.0</td>\n",
       "      <td>69.62</td>\n",
       "      <td>88.0</td>\n",
       "      <td>58.7</td>\n",
       "      <td>3.0</td>\n",
       "      <td>11.07</td>\n",
       "      <td>10.0</td>\n",
       "      <td>77.8</td>\n",
       "      <td>488.35</td>\n",
       "      <td>54.26</td>\n",
       "      <td>0.0</td>\n",
       "      <td>31.4</td>\n",
       "      <td>13.64</td>\n",
       "      <td>1</td>\n",
       "    </tr>\n",
       "    <tr>\n",
       "      <th>7</th>\n",
       "      <td>2016</td>\n",
       "      <td>2016-07-17</td>\n",
       "      <td>The Open Championship</td>\n",
       "      <td>Royal Troon GC</td>\n",
       "      <td>Andrew Johnston</td>\n",
       "      <td>8</td>\n",
       "      <td>8</td>\n",
       "      <td>NaN</td>\n",
       "      <td>NaN</td>\n",
       "      <td>NaN</td>\n",
       "      <td>NaN</td>\n",
       "      <td>NaN</td>\n",
       "      <td>NaN</td>\n",
       "      <td>NaN</td>\n",
       "      <td>NaN</td>\n",
       "      <td>NaN</td>\n",
       "      <td>NaN</td>\n",
       "      <td>NaN</td>\n",
       "      <td>None</td>\n",
       "      <td>NaN</td>\n",
       "      <td>NaN</td>\n",
       "      <td>NaN</td>\n",
       "      <td>NaN</td>\n",
       "      <td>NaN</td>\n",
       "      <td>NaN</td>\n",
       "      <td>NaN</td>\n",
       "      <td>NaN</td>\n",
       "      <td>NaN</td>\n",
       "      <td>NaN</td>\n",
       "      <td>NaN</td>\n",
       "      <td>None</td>\n",
       "      <td>NaN</td>\n",
       "      <td>None</td>\n",
       "      <td>NaN</td>\n",
       "      <td>None</td>\n",
       "      <td>79.0</td>\n",
       "      <td>1.83</td>\n",
       "      <td>300.0</td>\n",
       "      <td>100.0</td>\n",
       "      <td>0.00</td>\n",
       "      <td>0.00</td>\n",
       "      <td>2.0</td>\n",
       "      <td>48.0</td>\n",
       "      <td>43.69</td>\n",
       "      <td>1</td>\n",
       "    </tr>\n",
       "    <tr>\n",
       "      <th>8</th>\n",
       "      <td>2016</td>\n",
       "      <td>2016-07-17</td>\n",
       "      <td>The Open Championship</td>\n",
       "      <td>Royal Troon GC</td>\n",
       "      <td>Bill Haas</td>\n",
       "      <td>T9</td>\n",
       "      <td>9</td>\n",
       "      <td>34.0</td>\n",
       "      <td>0.693</td>\n",
       "      <td>81.0</td>\n",
       "      <td>0.068</td>\n",
       "      <td>54.0</td>\n",
       "      <td>0.272</td>\n",
       "      <td>14.0</td>\n",
       "      <td>0.353</td>\n",
       "      <td>130.0</td>\n",
       "      <td>-0.174</td>\n",
       "      <td>172.0</td>\n",
       "      <td>17.89</td>\n",
       "      <td>22.0</td>\n",
       "      <td>3.02</td>\n",
       "      <td>68.0</td>\n",
       "      <td>4.04</td>\n",
       "      <td>100.0</td>\n",
       "      <td>4.69</td>\n",
       "      <td>55.0</td>\n",
       "      <td>159.0</td>\n",
       "      <td>97.0</td>\n",
       "      <td>289.6</td>\n",
       "      <td>62.0</td>\n",
       "      <td>62.34</td>\n",
       "      <td>57.0</td>\n",
       "      <td>67.14</td>\n",
       "      <td>12.0</td>\n",
       "      <td>63.3</td>\n",
       "      <td>44.0</td>\n",
       "      <td>2.87</td>\n",
       "      <td>150.0</td>\n",
       "      <td>75.0</td>\n",
       "      <td>781.50</td>\n",
       "      <td>48.84</td>\n",
       "      <td>2.0</td>\n",
       "      <td>41.7</td>\n",
       "      <td>14.72</td>\n",
       "      <td>1</td>\n",
       "    </tr>\n",
       "    <tr>\n",
       "      <th>9</th>\n",
       "      <td>2016</td>\n",
       "      <td>2016-07-17</td>\n",
       "      <td>The Open Championship</td>\n",
       "      <td>Royal Troon GC</td>\n",
       "      <td>Dustin Johnson</td>\n",
       "      <td>T9</td>\n",
       "      <td>9</td>\n",
       "      <td>3.0</td>\n",
       "      <td>1.646</td>\n",
       "      <td>2.0</td>\n",
       "      <td>1.117</td>\n",
       "      <td>31.0</td>\n",
       "      <td>0.430</td>\n",
       "      <td>75.0</td>\n",
       "      <td>0.066</td>\n",
       "      <td>37.0</td>\n",
       "      <td>0.281</td>\n",
       "      <td>1.0</td>\n",
       "      <td>25.81</td>\n",
       "      <td>16.0</td>\n",
       "      <td>3.01</td>\n",
       "      <td>1.0</td>\n",
       "      <td>3.97</td>\n",
       "      <td>4.0</td>\n",
       "      <td>4.54</td>\n",
       "      <td>33.0</td>\n",
       "      <td>140.0</td>\n",
       "      <td>2.0</td>\n",
       "      <td>313.6</td>\n",
       "      <td>138.0</td>\n",
       "      <td>57.17</td>\n",
       "      <td>43.0</td>\n",
       "      <td>67.82</td>\n",
       "      <td>70.0</td>\n",
       "      <td>59.58</td>\n",
       "      <td>2.0</td>\n",
       "      <td>11.31</td>\n",
       "      <td>8.0</td>\n",
       "      <td>100.0</td>\n",
       "      <td>2030.40</td>\n",
       "      <td>184.58</td>\n",
       "      <td>11.0</td>\n",
       "      <td>11.4</td>\n",
       "      <td>4.59</td>\n",
       "      <td>1</td>\n",
       "    </tr>\n",
       "  </tbody>\n",
       "</table>\n",
       "</div>"
      ],
      "text/plain": [
       "   SEASON ENDING_DATE             TOURNAMENT          COURSE           PLAYER  \\\n",
       "0    2016  2016-07-17  The Open Championship  Royal Troon GC   Henrik Stenson   \n",
       "1    2016  2016-07-17  The Open Championship  Royal Troon GC   Phil Mickelson   \n",
       "2    2016  2016-07-17  The Open Championship  Royal Troon GC      J.B. Holmes   \n",
       "3    2016  2016-07-17  The Open Championship  Royal Troon GC   Steve Stricker   \n",
       "4    2016  2016-07-17  The Open Championship  Royal Troon GC    Sergio Garcia   \n",
       "5    2016  2016-07-17  The Open Championship  Royal Troon GC   Tyrrell Hatton   \n",
       "6    2016  2016-07-17  The Open Championship  Royal Troon GC     Rory McIlroy   \n",
       "7    2016  2016-07-17  The Open Championship  Royal Troon GC  Andrew Johnston   \n",
       "8    2016  2016-07-17  The Open Championship  Royal Troon GC        Bill Haas   \n",
       "9    2016  2016-07-17  The Open Championship  Royal Troon GC   Dustin Johnson   \n",
       "\n",
       "  POS  FINAL_POS  SGTTG_RANK  SGTTG  SGOTT_RANK  SGOTT  SGAPR_RANK  SGAPR  \\\n",
       "0   1          1         NaN    NaN         NaN    NaN         NaN    NaN   \n",
       "1   2          2        26.0  0.799       134.0 -0.145         6.0  0.726   \n",
       "2   3          3        38.0  0.633         7.0  0.663       138.0 -0.151   \n",
       "3   4          4        94.0  0.101       164.0 -0.440       116.0 -0.003   \n",
       "4  T5          5         9.0  1.189         4.0  0.737        24.0  0.482   \n",
       "5  T5          5         NaN    NaN         NaN    NaN         NaN    NaN   \n",
       "6  T5          5         2.0  1.888         1.0  1.230        29.0  0.447   \n",
       "7   8          8         NaN    NaN         NaN    NaN         NaN    NaN   \n",
       "8  T9          9        34.0  0.693        81.0  0.068        54.0  0.272   \n",
       "9  T9          9         3.0  1.646         2.0  1.117        31.0  0.430   \n",
       "\n",
       "   SGATG_RANK  SGATG  SGP_RANK    SGP  BIRDIES_RANK BIRDIES  PAR_3_RANK  \\\n",
       "0         NaN    NaN       NaN    NaN           NaN    None         NaN   \n",
       "1        36.0  0.218       9.0  0.565           8.0   22.99         1.0   \n",
       "2        31.0  0.233     122.0 -0.129          10.0   22.82        35.0   \n",
       "3         1.0  0.544       5.0  0.620          80.0   20.23        35.0   \n",
       "4       112.0 -0.031     168.0 -0.388          16.0    21.9        16.0   \n",
       "5         NaN    NaN       NaN    NaN           NaN    None         NaN   \n",
       "6        37.0  0.211     139.0 -0.207           2.0   25.27       136.0   \n",
       "7         NaN    NaN       NaN    NaN           NaN    None         NaN   \n",
       "8        14.0  0.353     130.0 -0.174         172.0   17.89        22.0   \n",
       "9        75.0  0.066      37.0  0.281           1.0   25.81        16.0   \n",
       "\n",
       "   PAR_3  PAR_4_RANK  PAR_4  PAR_5_RANK  PAR_5  TOTAL_DRIVING_RANK  \\\n",
       "0    NaN         NaN    NaN         NaN    NaN                 NaN   \n",
       "1   2.93        68.0   4.04        17.0   4.59               141.0   \n",
       "2   3.03        68.0   4.04        93.0   4.68                86.0   \n",
       "3   3.03        14.0   4.01        42.0   4.63               149.0   \n",
       "4   3.01        48.0   4.03        28.0   4.61                 9.0   \n",
       "5    NaN         NaN    NaN         NaN    NaN                 NaN   \n",
       "6   3.09         8.0   4.00         1.0   4.46                 6.0   \n",
       "7    NaN         NaN    NaN         NaN    NaN                 NaN   \n",
       "8   3.02        68.0   4.04       100.0   4.69                55.0   \n",
       "9   3.01         1.0   3.97         4.0   4.54                33.0   \n",
       "\n",
       "   TOTAL_DRIVING  DRIVING_DISTANCE_RANK  DRIVING_DISTANCE  \\\n",
       "0            NaN                    NaN               NaN   \n",
       "1          219.0                   56.0             294.8   \n",
       "2          180.0                    1.0             314.5   \n",
       "3          228.0                  175.0             278.0   \n",
       "4           98.0                   28.0             299.9   \n",
       "5            NaN                    NaN               NaN   \n",
       "6           86.0                    9.0             306.8   \n",
       "7            NaN                    NaN               NaN   \n",
       "8          159.0                   97.0             289.6   \n",
       "9          140.0                    2.0             313.6   \n",
       "\n",
       "   DRIVING_ACCURACY_RANK DRIVING_ACCURACY  GIR_RANK    GIR  SCRAMBLING_RANK  \\\n",
       "0                    NaN             None       NaN   None              NaN   \n",
       "1                  163.0            54.82      84.0  66.05              4.0   \n",
       "2                  179.0            51.68     105.0  65.17            130.0   \n",
       "3                   53.0            63.23     158.0   63.0              1.0   \n",
       "4                   70.0            61.76       6.0  70.15            113.0   \n",
       "5                    NaN             None       NaN   None              NaN   \n",
       "6                   77.0            61.06      11.0  69.62             88.0   \n",
       "7                    NaN             None       NaN   None              NaN   \n",
       "8                   62.0            62.34      57.0  67.14             12.0   \n",
       "9                  138.0            57.17      43.0  67.82             70.0   \n",
       "\n",
       "  SCRAMBLING  OWGR_RANK   OWGR  VEGAS_ODDS  CUT_PERCENTAGE  FEDEX_CUP_POINTS  \\\n",
       "0       None        5.0   8.52        25.0            57.1            567.07   \n",
       "1      64.32       15.0   4.89        30.0            64.3            871.15   \n",
       "2      56.68       22.0   4.01       150.0            83.3            695.27   \n",
       "3      66.01       82.0   1.79       150.0            50.0            170.60   \n",
       "4      57.66       13.0   5.04        20.0            85.7            967.92   \n",
       "5       None       33.0   3.32       150.0             NaN               NaN   \n",
       "6       58.7        3.0  11.07        10.0            77.8            488.35   \n",
       "7       None       79.0   1.83       300.0           100.0              0.00   \n",
       "8       63.3       44.0   2.87       150.0            75.0            781.50   \n",
       "9      59.58        2.0  11.31         8.0           100.0           2030.40   \n",
       "\n",
       "   form_density  CONSECUTIVE_CUTS  RECENT_FORM  adj_form  TOP_20  \n",
       "0         81.01               0.0         44.3     21.30       1  \n",
       "1         62.22               1.0         41.1     15.18       1  \n",
       "2         57.94               1.0         28.3     11.03       1  \n",
       "3         21.32               1.0         61.1     27.81       1  \n",
       "4        138.27               6.0         36.9     17.75       1  \n",
       "5           NaN               NaN          NaN       NaN       1  \n",
       "6         54.26               0.0         31.4     13.64       1  \n",
       "7          0.00               2.0         48.0     43.69       1  \n",
       "8         48.84               2.0         41.7     14.72       1  \n",
       "9        184.58              11.0         11.4      4.59       1  "
      ]
     },
     "execution_count": 25,
     "metadata": {},
     "output_type": "execute_result"
    }
   ],
   "source": [
    "pd.set_option(\"display.max_columns\", None)   # Show all columns\n",
    "importlib.reload(utils.db_utils)\n",
    "from utils.db_utils import build_training_rows\n",
    "training_df = build_training_rows(\n",
    "    db_path,\n",
    "    history_df,\n",
    "    cuts,\n",
    "    recent_form,\n",
    "    course_hist,\n",
    ")\n",
    "training_df.head(10)\n",
    "# training_df.info()\n",
    "# training_df.isna().sum().sort_values(ascending=False)"
   ]
  },
  {
   "cell_type": "code",
   "execution_count": null,
   "id": "c5df12cc",
   "metadata": {},
   "outputs": [
    {
     "data": {
      "text/html": [
       "<div>\n",
       "<style scoped>\n",
       "    .dataframe tbody tr th:only-of-type {\n",
       "        vertical-align: middle;\n",
       "    }\n",
       "\n",
       "    .dataframe tbody tr th {\n",
       "        vertical-align: top;\n",
       "    }\n",
       "\n",
       "    .dataframe thead th {\n",
       "        text-align: right;\n",
       "    }\n",
       "</style>\n",
       "<table border=\"1\" class=\"dataframe\">\n",
       "  <thead>\n",
       "    <tr style=\"text-align: right;\">\n",
       "      <th></th>\n",
       "      <th>SEASON</th>\n",
       "      <th>ENDING_DATE</th>\n",
       "      <th>TOURNAMENT</th>\n",
       "      <th>COURSE</th>\n",
       "      <th>PLAYER</th>\n",
       "      <th>POS</th>\n",
       "      <th>FINAL_POS</th>\n",
       "      <th>SGTTG_RANK</th>\n",
       "      <th>SGTTG</th>\n",
       "      <th>SGOTT_RANK</th>\n",
       "      <th>SGOTT</th>\n",
       "      <th>SGAPR_RANK</th>\n",
       "      <th>SGAPR</th>\n",
       "      <th>SGATG_RANK</th>\n",
       "      <th>SGATG</th>\n",
       "      <th>SGP_RANK</th>\n",
       "      <th>SGP</th>\n",
       "      <th>BIRDIES_RANK</th>\n",
       "      <th>BIRDIES</th>\n",
       "      <th>PAR_3_RANK</th>\n",
       "      <th>PAR_3</th>\n",
       "      <th>PAR_4_RANK</th>\n",
       "      <th>PAR_4</th>\n",
       "      <th>PAR_5_RANK</th>\n",
       "      <th>PAR_5</th>\n",
       "      <th>TOTAL_DRIVING_RANK</th>\n",
       "      <th>TOTAL_DRIVING</th>\n",
       "      <th>DRIVING_DISTANCE_RANK</th>\n",
       "      <th>DRIVING_DISTANCE</th>\n",
       "      <th>DRIVING_ACCURACY_RANK</th>\n",
       "      <th>DRIVING_ACCURACY</th>\n",
       "      <th>GIR_RANK</th>\n",
       "      <th>GIR</th>\n",
       "      <th>SCRAMBLING_RANK</th>\n",
       "      <th>SCRAMBLING</th>\n",
       "      <th>OWGR_RANK</th>\n",
       "      <th>OWGR</th>\n",
       "      <th>VEGAS_ODDS</th>\n",
       "      <th>CUT_PERCENTAGE</th>\n",
       "      <th>FEDEX_CUP_POINTS</th>\n",
       "      <th>form_density</th>\n",
       "      <th>CONSECUTIVE_CUTS</th>\n",
       "      <th>RECENT_FORM</th>\n",
       "      <th>adj_form</th>\n",
       "      <th>TOP_20</th>\n",
       "    </tr>\n",
       "  </thead>\n",
       "  <tbody>\n",
       "    <tr>\n",
       "      <th>1091</th>\n",
       "      <td>2024</td>\n",
       "      <td>2024-07-21</td>\n",
       "      <td>The Open Championship</td>\n",
       "      <td>Royal Troon</td>\n",
       "      <td>Xander Schauffele</td>\n",
       "      <td>1</td>\n",
       "      <td>1</td>\n",
       "      <td>2.0</td>\n",
       "      <td>1.521</td>\n",
       "      <td>10.0</td>\n",
       "      <td>0.568</td>\n",
       "      <td>7.0</td>\n",
       "      <td>0.700</td>\n",
       "      <td>25.0</td>\n",
       "      <td>0.252</td>\n",
       "      <td>10.0</td>\n",
       "      <td>0.546</td>\n",
       "      <td>6.0</td>\n",
       "      <td>25.04%</td>\n",
       "      <td>1.0</td>\n",
       "      <td>2.93</td>\n",
       "      <td>2.0</td>\n",
       "      <td>3.92</td>\n",
       "      <td>15.0</td>\n",
       "      <td>4.50</td>\n",
       "      <td>12.0</td>\n",
       "      <td>112.0</td>\n",
       "      <td>38.0</td>\n",
       "      <td>308.6</td>\n",
       "      <td>74.0</td>\n",
       "      <td>61.57%</td>\n",
       "      <td>30.0</td>\n",
       "      <td>69.63%</td>\n",
       "      <td>1.0</td>\n",
       "      <td>70.49%</td>\n",
       "      <td>2.0</td>\n",
       "      <td>10.8280</td>\n",
       "      <td>12.0</td>\n",
       "      <td>100.0</td>\n",
       "      <td>3298.583</td>\n",
       "      <td>194.03</td>\n",
       "      <td>17.0</td>\n",
       "      <td>13.1</td>\n",
       "      <td>4.53</td>\n",
       "      <td>1</td>\n",
       "    </tr>\n",
       "    <tr>\n",
       "      <th>1092</th>\n",
       "      <td>2024</td>\n",
       "      <td>2024-07-21</td>\n",
       "      <td>The Open Championship</td>\n",
       "      <td>Royal Troon</td>\n",
       "      <td>Justin Rose</td>\n",
       "      <td>T2</td>\n",
       "      <td>2</td>\n",
       "      <td>151.0</td>\n",
       "      <td>-0.467</td>\n",
       "      <td>116.0</td>\n",
       "      <td>-0.065</td>\n",
       "      <td>152.0</td>\n",
       "      <td>-0.373</td>\n",
       "      <td>112.0</td>\n",
       "      <td>-0.029</td>\n",
       "      <td>91.0</td>\n",
       "      <td>0.022</td>\n",
       "      <td>150.0</td>\n",
       "      <td>20.67%</td>\n",
       "      <td>126.0</td>\n",
       "      <td>3.07</td>\n",
       "      <td>131.0</td>\n",
       "      <td>4.04</td>\n",
       "      <td>101.0</td>\n",
       "      <td>4.59</td>\n",
       "      <td>104.0</td>\n",
       "      <td>181.0</td>\n",
       "      <td>127.0</td>\n",
       "      <td>297.5</td>\n",
       "      <td>54.0</td>\n",
       "      <td>63.20%</td>\n",
       "      <td>161.0</td>\n",
       "      <td>63.30%</td>\n",
       "      <td>38.0</td>\n",
       "      <td>62.53%</td>\n",
       "      <td>39.0</td>\n",
       "      <td>2.4538</td>\n",
       "      <td>200.0</td>\n",
       "      <td>64.7</td>\n",
       "      <td>506.025</td>\n",
       "      <td>29.77</td>\n",
       "      <td>0.0</td>\n",
       "      <td>57.5</td>\n",
       "      <td>19.89</td>\n",
       "      <td>1</td>\n",
       "    </tr>\n",
       "    <tr>\n",
       "      <th>1093</th>\n",
       "      <td>2024</td>\n",
       "      <td>2024-07-21</td>\n",
       "      <td>The Open Championship</td>\n",
       "      <td>Royal Troon</td>\n",
       "      <td>Billy Horschel</td>\n",
       "      <td>T2</td>\n",
       "      <td>2</td>\n",
       "      <td>67.0</td>\n",
       "      <td>0.289</td>\n",
       "      <td>69.0</td>\n",
       "      <td>0.146</td>\n",
       "      <td>105.0</td>\n",
       "      <td>0.007</td>\n",
       "      <td>61.0</td>\n",
       "      <td>0.136</td>\n",
       "      <td>25.0</td>\n",
       "      <td>0.442</td>\n",
       "      <td>93.0</td>\n",
       "      <td>22.22%</td>\n",
       "      <td>4.0</td>\n",
       "      <td>2.97</td>\n",
       "      <td>107.0</td>\n",
       "      <td>4.02</td>\n",
       "      <td>15.0</td>\n",
       "      <td>4.50</td>\n",
       "      <td>60.0</td>\n",
       "      <td>157.0</td>\n",
       "      <td>108.0</td>\n",
       "      <td>299.4</td>\n",
       "      <td>49.0</td>\n",
       "      <td>63.76%</td>\n",
       "      <td>100.0</td>\n",
       "      <td>66.45%</td>\n",
       "      <td>27.0</td>\n",
       "      <td>63.62%</td>\n",
       "      <td>17.0</td>\n",
       "      <td>3.5729</td>\n",
       "      <td>250.0</td>\n",
       "      <td>64.7</td>\n",
       "      <td>636.917</td>\n",
       "      <td>37.47</td>\n",
       "      <td>0.0</td>\n",
       "      <td>48.4</td>\n",
       "      <td>16.75</td>\n",
       "      <td>1</td>\n",
       "    </tr>\n",
       "    <tr>\n",
       "      <th>1094</th>\n",
       "      <td>2024</td>\n",
       "      <td>2024-07-21</td>\n",
       "      <td>The Open Championship</td>\n",
       "      <td>Royal Troon</td>\n",
       "      <td>Thriston Lawrence</td>\n",
       "      <td>4</td>\n",
       "      <td>4</td>\n",
       "      <td>NaN</td>\n",
       "      <td>NaN</td>\n",
       "      <td>NaN</td>\n",
       "      <td>NaN</td>\n",
       "      <td>NaN</td>\n",
       "      <td>NaN</td>\n",
       "      <td>NaN</td>\n",
       "      <td>NaN</td>\n",
       "      <td>NaN</td>\n",
       "      <td>NaN</td>\n",
       "      <td>NaN</td>\n",
       "      <td>None</td>\n",
       "      <td>NaN</td>\n",
       "      <td>NaN</td>\n",
       "      <td>NaN</td>\n",
       "      <td>NaN</td>\n",
       "      <td>NaN</td>\n",
       "      <td>NaN</td>\n",
       "      <td>NaN</td>\n",
       "      <td>NaN</td>\n",
       "      <td>NaN</td>\n",
       "      <td>NaN</td>\n",
       "      <td>NaN</td>\n",
       "      <td>None</td>\n",
       "      <td>NaN</td>\n",
       "      <td>None</td>\n",
       "      <td>NaN</td>\n",
       "      <td>None</td>\n",
       "      <td>49.0</td>\n",
       "      <td>2.1696</td>\n",
       "      <td>600.0</td>\n",
       "      <td>0.0</td>\n",
       "      <td>0.000</td>\n",
       "      <td>0.00</td>\n",
       "      <td>0.0</td>\n",
       "      <td>90.0</td>\n",
       "      <td>81.92</td>\n",
       "      <td>1</td>\n",
       "    </tr>\n",
       "    <tr>\n",
       "      <th>1095</th>\n",
       "      <td>2024</td>\n",
       "      <td>2024-07-21</td>\n",
       "      <td>The Open Championship</td>\n",
       "      <td>Royal Troon</td>\n",
       "      <td>Russell Henley</td>\n",
       "      <td>5</td>\n",
       "      <td>5</td>\n",
       "      <td>26.0</td>\n",
       "      <td>0.646</td>\n",
       "      <td>103.0</td>\n",
       "      <td>0.014</td>\n",
       "      <td>34.0</td>\n",
       "      <td>0.343</td>\n",
       "      <td>20.0</td>\n",
       "      <td>0.289</td>\n",
       "      <td>40.0</td>\n",
       "      <td>0.304</td>\n",
       "      <td>114.0</td>\n",
       "      <td>21.69%</td>\n",
       "      <td>21.0</td>\n",
       "      <td>3.00</td>\n",
       "      <td>26.0</td>\n",
       "      <td>3.98</td>\n",
       "      <td>129.0</td>\n",
       "      <td>4.63</td>\n",
       "      <td>70.0</td>\n",
       "      <td>167.0</td>\n",
       "      <td>160.0</td>\n",
       "      <td>291.3</td>\n",
       "      <td>7.0</td>\n",
       "      <td>69.49%</td>\n",
       "      <td>136.0</td>\n",
       "      <td>64.99%</td>\n",
       "      <td>13.0</td>\n",
       "      <td>65.00%</td>\n",
       "      <td>15.0</td>\n",
       "      <td>3.7122</td>\n",
       "      <td>125.0</td>\n",
       "      <td>93.8</td>\n",
       "      <td>1370.575</td>\n",
       "      <td>85.66</td>\n",
       "      <td>8.0</td>\n",
       "      <td>28.4</td>\n",
       "      <td>10.02</td>\n",
       "      <td>1</td>\n",
       "    </tr>\n",
       "  </tbody>\n",
       "</table>\n",
       "</div>"
      ],
      "text/plain": [
       "      SEASON ENDING_DATE             TOURNAMENT       COURSE  \\\n",
       "1091    2024  2024-07-21  The Open Championship  Royal Troon   \n",
       "1092    2024  2024-07-21  The Open Championship  Royal Troon   \n",
       "1093    2024  2024-07-21  The Open Championship  Royal Troon   \n",
       "1094    2024  2024-07-21  The Open Championship  Royal Troon   \n",
       "1095    2024  2024-07-21  The Open Championship  Royal Troon   \n",
       "\n",
       "                 PLAYER POS  FINAL_POS  SGTTG_RANK  SGTTG  SGOTT_RANK  SGOTT  \\\n",
       "1091  Xander Schauffele   1          1         2.0  1.521        10.0  0.568   \n",
       "1092        Justin Rose  T2          2       151.0 -0.467       116.0 -0.065   \n",
       "1093     Billy Horschel  T2          2        67.0  0.289        69.0  0.146   \n",
       "1094  Thriston Lawrence   4          4         NaN    NaN         NaN    NaN   \n",
       "1095     Russell Henley   5          5        26.0  0.646       103.0  0.014   \n",
       "\n",
       "      SGAPR_RANK  SGAPR  SGATG_RANK  SGATG  SGP_RANK    SGP  BIRDIES_RANK  \\\n",
       "1091         7.0  0.700        25.0  0.252      10.0  0.546           6.0   \n",
       "1092       152.0 -0.373       112.0 -0.029      91.0  0.022         150.0   \n",
       "1093       105.0  0.007        61.0  0.136      25.0  0.442          93.0   \n",
       "1094         NaN    NaN         NaN    NaN       NaN    NaN           NaN   \n",
       "1095        34.0  0.343        20.0  0.289      40.0  0.304         114.0   \n",
       "\n",
       "     BIRDIES  PAR_3_RANK  PAR_3  PAR_4_RANK  PAR_4  PAR_5_RANK  PAR_5  \\\n",
       "1091  25.04%         1.0   2.93         2.0   3.92        15.0   4.50   \n",
       "1092  20.67%       126.0   3.07       131.0   4.04       101.0   4.59   \n",
       "1093  22.22%         4.0   2.97       107.0   4.02        15.0   4.50   \n",
       "1094    None         NaN    NaN         NaN    NaN         NaN    NaN   \n",
       "1095  21.69%        21.0   3.00        26.0   3.98       129.0   4.63   \n",
       "\n",
       "      TOTAL_DRIVING_RANK  TOTAL_DRIVING  DRIVING_DISTANCE_RANK  \\\n",
       "1091                12.0          112.0                   38.0   \n",
       "1092               104.0          181.0                  127.0   \n",
       "1093                60.0          157.0                  108.0   \n",
       "1094                 NaN            NaN                    NaN   \n",
       "1095                70.0          167.0                  160.0   \n",
       "\n",
       "      DRIVING_DISTANCE  DRIVING_ACCURACY_RANK DRIVING_ACCURACY  GIR_RANK  \\\n",
       "1091             308.6                   74.0           61.57%      30.0   \n",
       "1092             297.5                   54.0           63.20%     161.0   \n",
       "1093             299.4                   49.0           63.76%     100.0   \n",
       "1094               NaN                    NaN             None       NaN   \n",
       "1095             291.3                    7.0           69.49%     136.0   \n",
       "\n",
       "         GIR  SCRAMBLING_RANK SCRAMBLING  OWGR_RANK     OWGR  VEGAS_ODDS  \\\n",
       "1091  69.63%              1.0     70.49%        2.0  10.8280        12.0   \n",
       "1092  63.30%             38.0     62.53%       39.0   2.4538       200.0   \n",
       "1093  66.45%             27.0     63.62%       17.0   3.5729       250.0   \n",
       "1094    None              NaN       None       49.0   2.1696       600.0   \n",
       "1095  64.99%             13.0     65.00%       15.0   3.7122       125.0   \n",
       "\n",
       "      CUT_PERCENTAGE  FEDEX_CUP_POINTS  form_density  CONSECUTIVE_CUTS  \\\n",
       "1091           100.0          3298.583        194.03              17.0   \n",
       "1092            64.7           506.025         29.77               0.0   \n",
       "1093            64.7           636.917         37.47               0.0   \n",
       "1094             0.0             0.000          0.00               0.0   \n",
       "1095            93.8          1370.575         85.66               8.0   \n",
       "\n",
       "      RECENT_FORM  adj_form  TOP_20  \n",
       "1091         13.1      4.53       1  \n",
       "1092         57.5     19.89       1  \n",
       "1093         48.4     16.75       1  \n",
       "1094         90.0     81.92       1  \n",
       "1095         28.4     10.02       1  "
      ]
     },
     "execution_count": 26,
     "metadata": {},
     "output_type": "execute_result"
    }
   ],
   "source": [
    "# Play with different years to see if I notice anything wrong (check Odds for tournament name mismatches)\n",
    "training_df[training_df[\"SEASON\"] == 2024].head()"
   ]
  },
  {
   "cell_type": "markdown",
   "id": "5f92ff52",
   "metadata": {},
   "source": [
    "### Normalization\n",
    "***Fix Historical Odds***\n",
    "\n",
    "Many names do not have historical odds but rather are part of the \"field.\" So giving these \"NaN\" values the average odds (as I would for missing stats) isn't a good approximation of reality – they are typically the \"field\" because they are not notable and have poor odds individually.\n",
    "\n",
    "There are also some crazy odds numbers occasionally (1000/1 or 3000/1) that don't happen all that much and are making that tail too long.\n",
    "\n",
    "This cell assigns odds of 1000/1 for anyone missing and clips anything larger to 1000/1 to normalize the data better and assign the missing odds more appropriately where they belong.\n",
    "\n",
    "***OWGR Adjustment***\n",
    "\n",
    "The NaN's for OWGR are similarly bad players.  So we should assign these the worst ranking instead of the mean and clip it at 1000 just in case there are ever outliers.\n",
    "\n",
    "For the OWGR score, it should match the lowest score in the dataset to assign that person the same as the worst.\n",
    "\n",
    "***Recent Form Adjustment***\n",
    "\n",
    "The NaN's for Recent Form mean that this player has not played any tournaments in the lookback period (9 months).  Similar to Odds and OWGR, I want to punish those that don't play often in my model.  Set these to 90 (i.e. like they miss a lot of cuts - because if they aren't playing they aren't good enough to make it to these tournaments very frequently).  The adj_form feature will also need to be updated here with the new data.\n",
    "\n",
    "***FedEx Cup Point Adjustment***\n",
    "\n",
    "The NaN's for FedEx Cup Points means there is no data.  Therefore they should be 0."
   ]
  },
  {
   "cell_type": "code",
   "execution_count": 27,
   "id": "3e9f4f19",
   "metadata": {},
   "outputs": [
    {
     "data": {
      "text/html": [
       "<div>\n",
       "<style scoped>\n",
       "    .dataframe tbody tr th:only-of-type {\n",
       "        vertical-align: middle;\n",
       "    }\n",
       "\n",
       "    .dataframe tbody tr th {\n",
       "        vertical-align: top;\n",
       "    }\n",
       "\n",
       "    .dataframe thead th {\n",
       "        text-align: right;\n",
       "    }\n",
       "</style>\n",
       "<table border=\"1\" class=\"dataframe\">\n",
       "  <thead>\n",
       "    <tr style=\"text-align: right;\">\n",
       "      <th></th>\n",
       "      <th>SEASON</th>\n",
       "      <th>ENDING_DATE</th>\n",
       "      <th>TOURNAMENT</th>\n",
       "      <th>COURSE</th>\n",
       "      <th>PLAYER</th>\n",
       "      <th>POS</th>\n",
       "      <th>FINAL_POS</th>\n",
       "      <th>SGTTG_RANK</th>\n",
       "      <th>SGTTG</th>\n",
       "      <th>SGOTT_RANK</th>\n",
       "      <th>SGOTT</th>\n",
       "      <th>SGAPR_RANK</th>\n",
       "      <th>SGAPR</th>\n",
       "      <th>SGATG_RANK</th>\n",
       "      <th>SGATG</th>\n",
       "      <th>SGP_RANK</th>\n",
       "      <th>SGP</th>\n",
       "      <th>BIRDIES_RANK</th>\n",
       "      <th>BIRDIES</th>\n",
       "      <th>PAR_3_RANK</th>\n",
       "      <th>PAR_3</th>\n",
       "      <th>PAR_4_RANK</th>\n",
       "      <th>PAR_4</th>\n",
       "      <th>PAR_5_RANK</th>\n",
       "      <th>PAR_5</th>\n",
       "      <th>TOTAL_DRIVING_RANK</th>\n",
       "      <th>TOTAL_DRIVING</th>\n",
       "      <th>DRIVING_DISTANCE_RANK</th>\n",
       "      <th>DRIVING_DISTANCE</th>\n",
       "      <th>DRIVING_ACCURACY_RANK</th>\n",
       "      <th>DRIVING_ACCURACY</th>\n",
       "      <th>GIR_RANK</th>\n",
       "      <th>GIR</th>\n",
       "      <th>SCRAMBLING_RANK</th>\n",
       "      <th>SCRAMBLING</th>\n",
       "      <th>OWGR_RANK</th>\n",
       "      <th>OWGR</th>\n",
       "      <th>VEGAS_ODDS</th>\n",
       "      <th>CUT_PERCENTAGE</th>\n",
       "      <th>FEDEX_CUP_POINTS</th>\n",
       "      <th>form_density</th>\n",
       "      <th>CONSECUTIVE_CUTS</th>\n",
       "      <th>RECENT_FORM</th>\n",
       "      <th>adj_form</th>\n",
       "      <th>TOP_20</th>\n",
       "    </tr>\n",
       "  </thead>\n",
       "  <tbody>\n",
       "    <tr>\n",
       "      <th>0</th>\n",
       "      <td>2016</td>\n",
       "      <td>2016-07-17</td>\n",
       "      <td>The Open Championship</td>\n",
       "      <td>Royal Troon GC</td>\n",
       "      <td>Henrik Stenson</td>\n",
       "      <td>1</td>\n",
       "      <td>1</td>\n",
       "      <td>NaN</td>\n",
       "      <td>NaN</td>\n",
       "      <td>NaN</td>\n",
       "      <td>NaN</td>\n",
       "      <td>NaN</td>\n",
       "      <td>NaN</td>\n",
       "      <td>NaN</td>\n",
       "      <td>NaN</td>\n",
       "      <td>NaN</td>\n",
       "      <td>NaN</td>\n",
       "      <td>NaN</td>\n",
       "      <td>None</td>\n",
       "      <td>NaN</td>\n",
       "      <td>NaN</td>\n",
       "      <td>NaN</td>\n",
       "      <td>NaN</td>\n",
       "      <td>NaN</td>\n",
       "      <td>NaN</td>\n",
       "      <td>NaN</td>\n",
       "      <td>NaN</td>\n",
       "      <td>NaN</td>\n",
       "      <td>NaN</td>\n",
       "      <td>NaN</td>\n",
       "      <td>None</td>\n",
       "      <td>NaN</td>\n",
       "      <td>None</td>\n",
       "      <td>NaN</td>\n",
       "      <td>None</td>\n",
       "      <td>5.0</td>\n",
       "      <td>8.52</td>\n",
       "      <td>25.0</td>\n",
       "      <td>57.1</td>\n",
       "      <td>567.07</td>\n",
       "      <td>81.01</td>\n",
       "      <td>0.0</td>\n",
       "      <td>44.3</td>\n",
       "      <td>21.30</td>\n",
       "      <td>1</td>\n",
       "    </tr>\n",
       "    <tr>\n",
       "      <th>1</th>\n",
       "      <td>2016</td>\n",
       "      <td>2016-07-17</td>\n",
       "      <td>The Open Championship</td>\n",
       "      <td>Royal Troon GC</td>\n",
       "      <td>Phil Mickelson</td>\n",
       "      <td>2</td>\n",
       "      <td>2</td>\n",
       "      <td>26.0</td>\n",
       "      <td>0.799</td>\n",
       "      <td>134.0</td>\n",
       "      <td>-0.145</td>\n",
       "      <td>6.0</td>\n",
       "      <td>0.726</td>\n",
       "      <td>36.0</td>\n",
       "      <td>0.218</td>\n",
       "      <td>9.0</td>\n",
       "      <td>0.565</td>\n",
       "      <td>8.0</td>\n",
       "      <td>22.99</td>\n",
       "      <td>1.0</td>\n",
       "      <td>2.93</td>\n",
       "      <td>68.0</td>\n",
       "      <td>4.04</td>\n",
       "      <td>17.0</td>\n",
       "      <td>4.59</td>\n",
       "      <td>141.0</td>\n",
       "      <td>219.0</td>\n",
       "      <td>56.0</td>\n",
       "      <td>294.8</td>\n",
       "      <td>163.0</td>\n",
       "      <td>54.82</td>\n",
       "      <td>84.0</td>\n",
       "      <td>66.05</td>\n",
       "      <td>4.0</td>\n",
       "      <td>64.32</td>\n",
       "      <td>15.0</td>\n",
       "      <td>4.89</td>\n",
       "      <td>30.0</td>\n",
       "      <td>64.3</td>\n",
       "      <td>871.15</td>\n",
       "      <td>62.22</td>\n",
       "      <td>1.0</td>\n",
       "      <td>41.1</td>\n",
       "      <td>15.18</td>\n",
       "      <td>1</td>\n",
       "    </tr>\n",
       "    <tr>\n",
       "      <th>2</th>\n",
       "      <td>2016</td>\n",
       "      <td>2016-07-17</td>\n",
       "      <td>The Open Championship</td>\n",
       "      <td>Royal Troon GC</td>\n",
       "      <td>J.B. Holmes</td>\n",
       "      <td>3</td>\n",
       "      <td>3</td>\n",
       "      <td>38.0</td>\n",
       "      <td>0.633</td>\n",
       "      <td>7.0</td>\n",
       "      <td>0.663</td>\n",
       "      <td>138.0</td>\n",
       "      <td>-0.151</td>\n",
       "      <td>31.0</td>\n",
       "      <td>0.233</td>\n",
       "      <td>122.0</td>\n",
       "      <td>-0.129</td>\n",
       "      <td>10.0</td>\n",
       "      <td>22.82</td>\n",
       "      <td>35.0</td>\n",
       "      <td>3.03</td>\n",
       "      <td>68.0</td>\n",
       "      <td>4.04</td>\n",
       "      <td>93.0</td>\n",
       "      <td>4.68</td>\n",
       "      <td>86.0</td>\n",
       "      <td>180.0</td>\n",
       "      <td>1.0</td>\n",
       "      <td>314.5</td>\n",
       "      <td>179.0</td>\n",
       "      <td>51.68</td>\n",
       "      <td>105.0</td>\n",
       "      <td>65.17</td>\n",
       "      <td>130.0</td>\n",
       "      <td>56.68</td>\n",
       "      <td>22.0</td>\n",
       "      <td>4.01</td>\n",
       "      <td>150.0</td>\n",
       "      <td>83.3</td>\n",
       "      <td>695.27</td>\n",
       "      <td>57.94</td>\n",
       "      <td>1.0</td>\n",
       "      <td>28.3</td>\n",
       "      <td>11.03</td>\n",
       "      <td>1</td>\n",
       "    </tr>\n",
       "    <tr>\n",
       "      <th>3</th>\n",
       "      <td>2016</td>\n",
       "      <td>2016-07-17</td>\n",
       "      <td>The Open Championship</td>\n",
       "      <td>Royal Troon GC</td>\n",
       "      <td>Steve Stricker</td>\n",
       "      <td>4</td>\n",
       "      <td>4</td>\n",
       "      <td>94.0</td>\n",
       "      <td>0.101</td>\n",
       "      <td>164.0</td>\n",
       "      <td>-0.440</td>\n",
       "      <td>116.0</td>\n",
       "      <td>-0.003</td>\n",
       "      <td>1.0</td>\n",
       "      <td>0.544</td>\n",
       "      <td>5.0</td>\n",
       "      <td>0.620</td>\n",
       "      <td>80.0</td>\n",
       "      <td>20.23</td>\n",
       "      <td>35.0</td>\n",
       "      <td>3.03</td>\n",
       "      <td>14.0</td>\n",
       "      <td>4.01</td>\n",
       "      <td>42.0</td>\n",
       "      <td>4.63</td>\n",
       "      <td>149.0</td>\n",
       "      <td>228.0</td>\n",
       "      <td>175.0</td>\n",
       "      <td>278.0</td>\n",
       "      <td>53.0</td>\n",
       "      <td>63.23</td>\n",
       "      <td>158.0</td>\n",
       "      <td>63.0</td>\n",
       "      <td>1.0</td>\n",
       "      <td>66.01</td>\n",
       "      <td>82.0</td>\n",
       "      <td>1.79</td>\n",
       "      <td>150.0</td>\n",
       "      <td>50.0</td>\n",
       "      <td>170.60</td>\n",
       "      <td>21.32</td>\n",
       "      <td>1.0</td>\n",
       "      <td>61.1</td>\n",
       "      <td>27.81</td>\n",
       "      <td>1</td>\n",
       "    </tr>\n",
       "    <tr>\n",
       "      <th>4</th>\n",
       "      <td>2016</td>\n",
       "      <td>2016-07-17</td>\n",
       "      <td>The Open Championship</td>\n",
       "      <td>Royal Troon GC</td>\n",
       "      <td>Sergio Garcia</td>\n",
       "      <td>T5</td>\n",
       "      <td>5</td>\n",
       "      <td>9.0</td>\n",
       "      <td>1.189</td>\n",
       "      <td>4.0</td>\n",
       "      <td>0.737</td>\n",
       "      <td>24.0</td>\n",
       "      <td>0.482</td>\n",
       "      <td>112.0</td>\n",
       "      <td>-0.031</td>\n",
       "      <td>168.0</td>\n",
       "      <td>-0.388</td>\n",
       "      <td>16.0</td>\n",
       "      <td>21.9</td>\n",
       "      <td>16.0</td>\n",
       "      <td>3.01</td>\n",
       "      <td>48.0</td>\n",
       "      <td>4.03</td>\n",
       "      <td>28.0</td>\n",
       "      <td>4.61</td>\n",
       "      <td>9.0</td>\n",
       "      <td>98.0</td>\n",
       "      <td>28.0</td>\n",
       "      <td>299.9</td>\n",
       "      <td>70.0</td>\n",
       "      <td>61.76</td>\n",
       "      <td>6.0</td>\n",
       "      <td>70.15</td>\n",
       "      <td>113.0</td>\n",
       "      <td>57.66</td>\n",
       "      <td>13.0</td>\n",
       "      <td>5.04</td>\n",
       "      <td>20.0</td>\n",
       "      <td>85.7</td>\n",
       "      <td>967.92</td>\n",
       "      <td>138.27</td>\n",
       "      <td>6.0</td>\n",
       "      <td>36.9</td>\n",
       "      <td>17.75</td>\n",
       "      <td>1</td>\n",
       "    </tr>\n",
       "  </tbody>\n",
       "</table>\n",
       "</div>"
      ],
      "text/plain": [
       "   SEASON ENDING_DATE             TOURNAMENT          COURSE          PLAYER  \\\n",
       "0    2016  2016-07-17  The Open Championship  Royal Troon GC  Henrik Stenson   \n",
       "1    2016  2016-07-17  The Open Championship  Royal Troon GC  Phil Mickelson   \n",
       "2    2016  2016-07-17  The Open Championship  Royal Troon GC     J.B. Holmes   \n",
       "3    2016  2016-07-17  The Open Championship  Royal Troon GC  Steve Stricker   \n",
       "4    2016  2016-07-17  The Open Championship  Royal Troon GC   Sergio Garcia   \n",
       "\n",
       "  POS  FINAL_POS  SGTTG_RANK  SGTTG  SGOTT_RANK  SGOTT  SGAPR_RANK  SGAPR  \\\n",
       "0   1          1         NaN    NaN         NaN    NaN         NaN    NaN   \n",
       "1   2          2        26.0  0.799       134.0 -0.145         6.0  0.726   \n",
       "2   3          3        38.0  0.633         7.0  0.663       138.0 -0.151   \n",
       "3   4          4        94.0  0.101       164.0 -0.440       116.0 -0.003   \n",
       "4  T5          5         9.0  1.189         4.0  0.737        24.0  0.482   \n",
       "\n",
       "   SGATG_RANK  SGATG  SGP_RANK    SGP  BIRDIES_RANK BIRDIES  PAR_3_RANK  \\\n",
       "0         NaN    NaN       NaN    NaN           NaN    None         NaN   \n",
       "1        36.0  0.218       9.0  0.565           8.0   22.99         1.0   \n",
       "2        31.0  0.233     122.0 -0.129          10.0   22.82        35.0   \n",
       "3         1.0  0.544       5.0  0.620          80.0   20.23        35.0   \n",
       "4       112.0 -0.031     168.0 -0.388          16.0    21.9        16.0   \n",
       "\n",
       "   PAR_3  PAR_4_RANK  PAR_4  PAR_5_RANK  PAR_5  TOTAL_DRIVING_RANK  \\\n",
       "0    NaN         NaN    NaN         NaN    NaN                 NaN   \n",
       "1   2.93        68.0   4.04        17.0   4.59               141.0   \n",
       "2   3.03        68.0   4.04        93.0   4.68                86.0   \n",
       "3   3.03        14.0   4.01        42.0   4.63               149.0   \n",
       "4   3.01        48.0   4.03        28.0   4.61                 9.0   \n",
       "\n",
       "   TOTAL_DRIVING  DRIVING_DISTANCE_RANK  DRIVING_DISTANCE  \\\n",
       "0            NaN                    NaN               NaN   \n",
       "1          219.0                   56.0             294.8   \n",
       "2          180.0                    1.0             314.5   \n",
       "3          228.0                  175.0             278.0   \n",
       "4           98.0                   28.0             299.9   \n",
       "\n",
       "   DRIVING_ACCURACY_RANK DRIVING_ACCURACY  GIR_RANK    GIR  SCRAMBLING_RANK  \\\n",
       "0                    NaN             None       NaN   None              NaN   \n",
       "1                  163.0            54.82      84.0  66.05              4.0   \n",
       "2                  179.0            51.68     105.0  65.17            130.0   \n",
       "3                   53.0            63.23     158.0   63.0              1.0   \n",
       "4                   70.0            61.76       6.0  70.15            113.0   \n",
       "\n",
       "  SCRAMBLING  OWGR_RANK  OWGR  VEGAS_ODDS  CUT_PERCENTAGE  FEDEX_CUP_POINTS  \\\n",
       "0       None        5.0  8.52        25.0            57.1            567.07   \n",
       "1      64.32       15.0  4.89        30.0            64.3            871.15   \n",
       "2      56.68       22.0  4.01       150.0            83.3            695.27   \n",
       "3      66.01       82.0  1.79       150.0            50.0            170.60   \n",
       "4      57.66       13.0  5.04        20.0            85.7            967.92   \n",
       "\n",
       "   form_density  CONSECUTIVE_CUTS  RECENT_FORM  adj_form  TOP_20  \n",
       "0         81.01               0.0         44.3     21.30       1  \n",
       "1         62.22               1.0         41.1     15.18       1  \n",
       "2         57.94               1.0         28.3     11.03       1  \n",
       "3         21.32               1.0         61.1     27.81       1  \n",
       "4        138.27               6.0         36.9     17.75       1  "
      ]
     },
     "execution_count": 27,
     "metadata": {},
     "output_type": "execute_result"
    }
   ],
   "source": [
    "# === VEGAS ODDS ===\n",
    "training_df[\"VEGAS_ODDS\"] = training_df[\"VEGAS_ODDS\"].fillna(1000).clip(upper=1000)\n",
    "\n",
    "# === OWGR and OWGR_RANK ===\n",
    "owgr_min = training_df[\"OWGR\"].min(skipna=True)\n",
    "training_df[\"OWGR\"] = training_df[\"OWGR\"].fillna(owgr_min)\n",
    "training_df[\"OWGR_RANK\"] = training_df[\"OWGR_RANK\"].fillna(1000).astype(float).clip(upper=1000)\n",
    "\n",
    "# === RECENT FORM and adj_form ===\n",
    "training_df[\"RECENT_FORM\"] = training_df[\"RECENT_FORM\"].fillna(90)\n",
    "if \"TOTAL_EVENTS_PLAYED\" in training_df.columns:\n",
    "    training_df[\"adj_form\"] = (\n",
    "        training_df[\"RECENT_FORM\"] / np.log1p(training_df[\"TOTAL_EVENTS_PLAYED\"])\n",
    "    ).round(2)\n",
    "\n",
    "# === FEDEX CUP POINTS ===\n",
    "training_df[\"FEDEX_CUP_POINTS\"] = training_df[\"FEDEX_CUP_POINTS\"].fillna(0)\n",
    "\n",
    "training_df.head(5)\n"
   ]
  },
  {
   "cell_type": "markdown",
   "id": "f58c9b4a",
   "metadata": {},
   "source": [
    "#### Average the NaNs\n",
    "At this point, the intentional offsetting of NaNs for poor players is over.  I don't want to penalize statistics or course history because you never know where they might land on the spectrum, so for these NaN values, we will take the mean."
   ]
  },
  {
   "cell_type": "code",
   "execution_count": 28,
   "id": "1172b59c",
   "metadata": {},
   "outputs": [
    {
     "data": {
      "text/html": [
       "<div>\n",
       "<style scoped>\n",
       "    .dataframe tbody tr th:only-of-type {\n",
       "        vertical-align: middle;\n",
       "    }\n",
       "\n",
       "    .dataframe tbody tr th {\n",
       "        vertical-align: top;\n",
       "    }\n",
       "\n",
       "    .dataframe thead th {\n",
       "        text-align: right;\n",
       "    }\n",
       "</style>\n",
       "<table border=\"1\" class=\"dataframe\">\n",
       "  <thead>\n",
       "    <tr style=\"text-align: right;\">\n",
       "      <th></th>\n",
       "      <th>SEASON</th>\n",
       "      <th>ENDING_DATE</th>\n",
       "      <th>TOURNAMENT</th>\n",
       "      <th>COURSE</th>\n",
       "      <th>PLAYER</th>\n",
       "      <th>POS</th>\n",
       "      <th>FINAL_POS</th>\n",
       "      <th>SGTTG_RANK</th>\n",
       "      <th>SGTTG</th>\n",
       "      <th>SGOTT_RANK</th>\n",
       "      <th>SGOTT</th>\n",
       "      <th>SGAPR_RANK</th>\n",
       "      <th>SGAPR</th>\n",
       "      <th>SGATG_RANK</th>\n",
       "      <th>SGATG</th>\n",
       "      <th>SGP_RANK</th>\n",
       "      <th>SGP</th>\n",
       "      <th>BIRDIES_RANK</th>\n",
       "      <th>BIRDIES</th>\n",
       "      <th>PAR_3_RANK</th>\n",
       "      <th>PAR_3</th>\n",
       "      <th>PAR_4_RANK</th>\n",
       "      <th>PAR_4</th>\n",
       "      <th>PAR_5_RANK</th>\n",
       "      <th>PAR_5</th>\n",
       "      <th>TOTAL_DRIVING_RANK</th>\n",
       "      <th>TOTAL_DRIVING</th>\n",
       "      <th>DRIVING_DISTANCE_RANK</th>\n",
       "      <th>DRIVING_DISTANCE</th>\n",
       "      <th>DRIVING_ACCURACY_RANK</th>\n",
       "      <th>DRIVING_ACCURACY</th>\n",
       "      <th>GIR_RANK</th>\n",
       "      <th>GIR</th>\n",
       "      <th>SCRAMBLING_RANK</th>\n",
       "      <th>SCRAMBLING</th>\n",
       "      <th>OWGR_RANK</th>\n",
       "      <th>OWGR</th>\n",
       "      <th>VEGAS_ODDS</th>\n",
       "      <th>CUT_PERCENTAGE</th>\n",
       "      <th>FEDEX_CUP_POINTS</th>\n",
       "      <th>form_density</th>\n",
       "      <th>CONSECUTIVE_CUTS</th>\n",
       "      <th>RECENT_FORM</th>\n",
       "      <th>adj_form</th>\n",
       "      <th>TOP_20</th>\n",
       "    </tr>\n",
       "  </thead>\n",
       "  <tbody>\n",
       "    <tr>\n",
       "      <th>0</th>\n",
       "      <td>2016</td>\n",
       "      <td>2016-07-17</td>\n",
       "      <td>The Open Championship</td>\n",
       "      <td>Royal Troon GC</td>\n",
       "      <td>Henrik Stenson</td>\n",
       "      <td>1</td>\n",
       "      <td>1</td>\n",
       "      <td>59.415808</td>\n",
       "      <td>0.535055</td>\n",
       "      <td>72.905498</td>\n",
       "      <td>0.182797</td>\n",
       "      <td>68.309278</td>\n",
       "      <td>0.24706</td>\n",
       "      <td>75.235395</td>\n",
       "      <td>0.103979</td>\n",
       "      <td>81.902062</td>\n",
       "      <td>0.110789</td>\n",
       "      <td>75.383162</td>\n",
       "      <td>21.760498</td>\n",
       "      <td>78.733677</td>\n",
       "      <td>3.047904</td>\n",
       "      <td>67.121993</td>\n",
       "      <td>4.016237</td>\n",
       "      <td>72.687285</td>\n",
       "      <td>4.61012</td>\n",
       "      <td>76.132302</td>\n",
       "      <td>172.689003</td>\n",
       "      <td>79.252577</td>\n",
       "      <td>299.243471</td>\n",
       "      <td>93.436426</td>\n",
       "      <td>61.015533</td>\n",
       "      <td>90.931271</td>\n",
       "      <td>66.475825</td>\n",
       "      <td>82.245704</td>\n",
       "      <td>59.887388</td>\n",
       "      <td>5.0</td>\n",
       "      <td>8.52</td>\n",
       "      <td>25.0</td>\n",
       "      <td>57.1</td>\n",
       "      <td>567.07</td>\n",
       "      <td>81.01</td>\n",
       "      <td>0.0</td>\n",
       "      <td>44.3</td>\n",
       "      <td>21.30</td>\n",
       "      <td>1</td>\n",
       "    </tr>\n",
       "    <tr>\n",
       "      <th>1</th>\n",
       "      <td>2016</td>\n",
       "      <td>2016-07-17</td>\n",
       "      <td>The Open Championship</td>\n",
       "      <td>Royal Troon GC</td>\n",
       "      <td>Phil Mickelson</td>\n",
       "      <td>2</td>\n",
       "      <td>2</td>\n",
       "      <td>26.000000</td>\n",
       "      <td>0.799000</td>\n",
       "      <td>134.000000</td>\n",
       "      <td>-0.145000</td>\n",
       "      <td>6.000000</td>\n",
       "      <td>0.72600</td>\n",
       "      <td>36.000000</td>\n",
       "      <td>0.218000</td>\n",
       "      <td>9.000000</td>\n",
       "      <td>0.565000</td>\n",
       "      <td>8.000000</td>\n",
       "      <td>22.990000</td>\n",
       "      <td>1.000000</td>\n",
       "      <td>2.930000</td>\n",
       "      <td>68.000000</td>\n",
       "      <td>4.040000</td>\n",
       "      <td>17.000000</td>\n",
       "      <td>4.59000</td>\n",
       "      <td>141.000000</td>\n",
       "      <td>219.000000</td>\n",
       "      <td>56.000000</td>\n",
       "      <td>294.800000</td>\n",
       "      <td>163.000000</td>\n",
       "      <td>54.820000</td>\n",
       "      <td>84.000000</td>\n",
       "      <td>66.050000</td>\n",
       "      <td>4.000000</td>\n",
       "      <td>64.320000</td>\n",
       "      <td>15.0</td>\n",
       "      <td>4.89</td>\n",
       "      <td>30.0</td>\n",
       "      <td>64.3</td>\n",
       "      <td>871.15</td>\n",
       "      <td>62.22</td>\n",
       "      <td>1.0</td>\n",
       "      <td>41.1</td>\n",
       "      <td>15.18</td>\n",
       "      <td>1</td>\n",
       "    </tr>\n",
       "    <tr>\n",
       "      <th>2</th>\n",
       "      <td>2016</td>\n",
       "      <td>2016-07-17</td>\n",
       "      <td>The Open Championship</td>\n",
       "      <td>Royal Troon GC</td>\n",
       "      <td>J.B. Holmes</td>\n",
       "      <td>3</td>\n",
       "      <td>3</td>\n",
       "      <td>38.000000</td>\n",
       "      <td>0.633000</td>\n",
       "      <td>7.000000</td>\n",
       "      <td>0.663000</td>\n",
       "      <td>138.000000</td>\n",
       "      <td>-0.15100</td>\n",
       "      <td>31.000000</td>\n",
       "      <td>0.233000</td>\n",
       "      <td>122.000000</td>\n",
       "      <td>-0.129000</td>\n",
       "      <td>10.000000</td>\n",
       "      <td>22.820000</td>\n",
       "      <td>35.000000</td>\n",
       "      <td>3.030000</td>\n",
       "      <td>68.000000</td>\n",
       "      <td>4.040000</td>\n",
       "      <td>93.000000</td>\n",
       "      <td>4.68000</td>\n",
       "      <td>86.000000</td>\n",
       "      <td>180.000000</td>\n",
       "      <td>1.000000</td>\n",
       "      <td>314.500000</td>\n",
       "      <td>179.000000</td>\n",
       "      <td>51.680000</td>\n",
       "      <td>105.000000</td>\n",
       "      <td>65.170000</td>\n",
       "      <td>130.000000</td>\n",
       "      <td>56.680000</td>\n",
       "      <td>22.0</td>\n",
       "      <td>4.01</td>\n",
       "      <td>150.0</td>\n",
       "      <td>83.3</td>\n",
       "      <td>695.27</td>\n",
       "      <td>57.94</td>\n",
       "      <td>1.0</td>\n",
       "      <td>28.3</td>\n",
       "      <td>11.03</td>\n",
       "      <td>1</td>\n",
       "    </tr>\n",
       "    <tr>\n",
       "      <th>3</th>\n",
       "      <td>2016</td>\n",
       "      <td>2016-07-17</td>\n",
       "      <td>The Open Championship</td>\n",
       "      <td>Royal Troon GC</td>\n",
       "      <td>Steve Stricker</td>\n",
       "      <td>4</td>\n",
       "      <td>4</td>\n",
       "      <td>94.000000</td>\n",
       "      <td>0.101000</td>\n",
       "      <td>164.000000</td>\n",
       "      <td>-0.440000</td>\n",
       "      <td>116.000000</td>\n",
       "      <td>-0.00300</td>\n",
       "      <td>1.000000</td>\n",
       "      <td>0.544000</td>\n",
       "      <td>5.000000</td>\n",
       "      <td>0.620000</td>\n",
       "      <td>80.000000</td>\n",
       "      <td>20.230000</td>\n",
       "      <td>35.000000</td>\n",
       "      <td>3.030000</td>\n",
       "      <td>14.000000</td>\n",
       "      <td>4.010000</td>\n",
       "      <td>42.000000</td>\n",
       "      <td>4.63000</td>\n",
       "      <td>149.000000</td>\n",
       "      <td>228.000000</td>\n",
       "      <td>175.000000</td>\n",
       "      <td>278.000000</td>\n",
       "      <td>53.000000</td>\n",
       "      <td>63.230000</td>\n",
       "      <td>158.000000</td>\n",
       "      <td>63.000000</td>\n",
       "      <td>1.000000</td>\n",
       "      <td>66.010000</td>\n",
       "      <td>82.0</td>\n",
       "      <td>1.79</td>\n",
       "      <td>150.0</td>\n",
       "      <td>50.0</td>\n",
       "      <td>170.60</td>\n",
       "      <td>21.32</td>\n",
       "      <td>1.0</td>\n",
       "      <td>61.1</td>\n",
       "      <td>27.81</td>\n",
       "      <td>1</td>\n",
       "    </tr>\n",
       "    <tr>\n",
       "      <th>4</th>\n",
       "      <td>2016</td>\n",
       "      <td>2016-07-17</td>\n",
       "      <td>The Open Championship</td>\n",
       "      <td>Royal Troon GC</td>\n",
       "      <td>Sergio Garcia</td>\n",
       "      <td>T5</td>\n",
       "      <td>5</td>\n",
       "      <td>9.000000</td>\n",
       "      <td>1.189000</td>\n",
       "      <td>4.000000</td>\n",
       "      <td>0.737000</td>\n",
       "      <td>24.000000</td>\n",
       "      <td>0.48200</td>\n",
       "      <td>112.000000</td>\n",
       "      <td>-0.031000</td>\n",
       "      <td>168.000000</td>\n",
       "      <td>-0.388000</td>\n",
       "      <td>16.000000</td>\n",
       "      <td>21.900000</td>\n",
       "      <td>16.000000</td>\n",
       "      <td>3.010000</td>\n",
       "      <td>48.000000</td>\n",
       "      <td>4.030000</td>\n",
       "      <td>28.000000</td>\n",
       "      <td>4.61000</td>\n",
       "      <td>9.000000</td>\n",
       "      <td>98.000000</td>\n",
       "      <td>28.000000</td>\n",
       "      <td>299.900000</td>\n",
       "      <td>70.000000</td>\n",
       "      <td>61.760000</td>\n",
       "      <td>6.000000</td>\n",
       "      <td>70.150000</td>\n",
       "      <td>113.000000</td>\n",
       "      <td>57.660000</td>\n",
       "      <td>13.0</td>\n",
       "      <td>5.04</td>\n",
       "      <td>20.0</td>\n",
       "      <td>85.7</td>\n",
       "      <td>967.92</td>\n",
       "      <td>138.27</td>\n",
       "      <td>6.0</td>\n",
       "      <td>36.9</td>\n",
       "      <td>17.75</td>\n",
       "      <td>1</td>\n",
       "    </tr>\n",
       "  </tbody>\n",
       "</table>\n",
       "</div>"
      ],
      "text/plain": [
       "   SEASON ENDING_DATE             TOURNAMENT          COURSE          PLAYER  \\\n",
       "0    2016  2016-07-17  The Open Championship  Royal Troon GC  Henrik Stenson   \n",
       "1    2016  2016-07-17  The Open Championship  Royal Troon GC  Phil Mickelson   \n",
       "2    2016  2016-07-17  The Open Championship  Royal Troon GC     J.B. Holmes   \n",
       "3    2016  2016-07-17  The Open Championship  Royal Troon GC  Steve Stricker   \n",
       "4    2016  2016-07-17  The Open Championship  Royal Troon GC   Sergio Garcia   \n",
       "\n",
       "  POS  FINAL_POS  SGTTG_RANK     SGTTG  SGOTT_RANK     SGOTT  SGAPR_RANK  \\\n",
       "0   1          1   59.415808  0.535055   72.905498  0.182797   68.309278   \n",
       "1   2          2   26.000000  0.799000  134.000000 -0.145000    6.000000   \n",
       "2   3          3   38.000000  0.633000    7.000000  0.663000  138.000000   \n",
       "3   4          4   94.000000  0.101000  164.000000 -0.440000  116.000000   \n",
       "4  T5          5    9.000000  1.189000    4.000000  0.737000   24.000000   \n",
       "\n",
       "     SGAPR  SGATG_RANK     SGATG    SGP_RANK       SGP  BIRDIES_RANK  \\\n",
       "0  0.24706   75.235395  0.103979   81.902062  0.110789     75.383162   \n",
       "1  0.72600   36.000000  0.218000    9.000000  0.565000      8.000000   \n",
       "2 -0.15100   31.000000  0.233000  122.000000 -0.129000     10.000000   \n",
       "3 -0.00300    1.000000  0.544000    5.000000  0.620000     80.000000   \n",
       "4  0.48200  112.000000 -0.031000  168.000000 -0.388000     16.000000   \n",
       "\n",
       "     BIRDIES  PAR_3_RANK     PAR_3  PAR_4_RANK     PAR_4  PAR_5_RANK    PAR_5  \\\n",
       "0  21.760498   78.733677  3.047904   67.121993  4.016237   72.687285  4.61012   \n",
       "1  22.990000    1.000000  2.930000   68.000000  4.040000   17.000000  4.59000   \n",
       "2  22.820000   35.000000  3.030000   68.000000  4.040000   93.000000  4.68000   \n",
       "3  20.230000   35.000000  3.030000   14.000000  4.010000   42.000000  4.63000   \n",
       "4  21.900000   16.000000  3.010000   48.000000  4.030000   28.000000  4.61000   \n",
       "\n",
       "   TOTAL_DRIVING_RANK  TOTAL_DRIVING  DRIVING_DISTANCE_RANK  DRIVING_DISTANCE  \\\n",
       "0           76.132302     172.689003              79.252577        299.243471   \n",
       "1          141.000000     219.000000              56.000000        294.800000   \n",
       "2           86.000000     180.000000               1.000000        314.500000   \n",
       "3          149.000000     228.000000             175.000000        278.000000   \n",
       "4            9.000000      98.000000              28.000000        299.900000   \n",
       "\n",
       "   DRIVING_ACCURACY_RANK  DRIVING_ACCURACY    GIR_RANK        GIR  \\\n",
       "0              93.436426         61.015533   90.931271  66.475825   \n",
       "1             163.000000         54.820000   84.000000  66.050000   \n",
       "2             179.000000         51.680000  105.000000  65.170000   \n",
       "3              53.000000         63.230000  158.000000  63.000000   \n",
       "4              70.000000         61.760000    6.000000  70.150000   \n",
       "\n",
       "   SCRAMBLING_RANK  SCRAMBLING  OWGR_RANK  OWGR  VEGAS_ODDS  CUT_PERCENTAGE  \\\n",
       "0        82.245704   59.887388        5.0  8.52        25.0            57.1   \n",
       "1         4.000000   64.320000       15.0  4.89        30.0            64.3   \n",
       "2       130.000000   56.680000       22.0  4.01       150.0            83.3   \n",
       "3         1.000000   66.010000       82.0  1.79       150.0            50.0   \n",
       "4       113.000000   57.660000       13.0  5.04        20.0            85.7   \n",
       "\n",
       "   FEDEX_CUP_POINTS  form_density  CONSECUTIVE_CUTS  RECENT_FORM  adj_form  \\\n",
       "0            567.07         81.01               0.0         44.3     21.30   \n",
       "1            871.15         62.22               1.0         41.1     15.18   \n",
       "2            695.27         57.94               1.0         28.3     11.03   \n",
       "3            170.60         21.32               1.0         61.1     27.81   \n",
       "4            967.92        138.27               6.0         36.9     17.75   \n",
       "\n",
       "   TOP_20  \n",
       "0       1  \n",
       "1       1  \n",
       "2       1  \n",
       "3       1  \n",
       "4       1  "
      ]
     },
     "execution_count": 28,
     "metadata": {},
     "output_type": "execute_result"
    }
   ],
   "source": [
    "# === Clean percentage stats stored as strings like '62.5%' ===\n",
    "percent_stats = [\"SCRAMBLING\", \"DRIVING_ACCURACY\", \"BIRDIES\", \"GIR\"]\n",
    "\n",
    "for col in percent_stats:\n",
    "    if col in training_df.columns:\n",
    "        training_df[col] = (\n",
    "            training_df[col]\n",
    "            .astype(str)\n",
    "            .str.replace('%', '', regex=False)\n",
    "            .replace(['None', 'nan', 'NaN', '--', 'DNP', ''], np.nan)\n",
    "            .astype(float)\n",
    "        )\n",
    "\n",
    "# Select only the numeric columns\n",
    "numeric_columns = training_df.select_dtypes(include=['float64', 'int64'])\n",
    "\n",
    "# Fill NaN values with the mean of each column\n",
    "numeric_columns = numeric_columns.fillna(numeric_columns.mean())\n",
    "\n",
    "# Update the original dataframe with the filled numeric columns\n",
    "training_df.update(numeric_columns)\n",
    "\n",
    "training_df.head()"
   ]
  },
  {
   "cell_type": "code",
   "execution_count": 29,
   "id": "bb294b3c",
   "metadata": {},
   "outputs": [],
   "source": [
    "# Check for NaN values\n",
    "assert training_df.isna().sum().sum() == 0, \"🚨 Still missing values!\""
   ]
  },
  {
   "cell_type": "code",
   "execution_count": 30,
   "id": "5d68c5dc",
   "metadata": {},
   "outputs": [
    {
     "data": {
      "text/plain": [
       "SEASON         0\n",
       "ENDING_DATE    0\n",
       "TOURNAMENT     0\n",
       "COURSE         0\n",
       "PLAYER         0\n",
       "POS            0\n",
       "FINAL_POS      0\n",
       "SGTTG_RANK     0\n",
       "SGTTG          0\n",
       "SGOTT_RANK     0\n",
       "dtype: int64"
      ]
     },
     "execution_count": 30,
     "metadata": {},
     "output_type": "execute_result"
    }
   ],
   "source": [
    "# Inspect which columns have NaN values\n",
    "training_df.isna().sum().sort_values(ascending=False).head(10)\n"
   ]
  },
  {
   "cell_type": "markdown",
   "id": "1214b374",
   "metadata": {},
   "source": [
    "### Check Features for Outliers and General Health (Histograms)\n",
    "Now that all the data is cleaned, let's look at the distribution graphs."
   ]
  },
  {
   "cell_type": "code",
   "execution_count": null,
   "id": "c3ac2331",
   "metadata": {},
   "outputs": [],
   "source": [
    "import plotly.express as px\n",
    "import plotly.subplots as sp\n",
    "import plotly.graph_objects as go\n",
    "import pandas as pd\n",
    "import numpy as np\n",
    "\n",
    "# Select numeric columns with >1 unique value, excluding label\n",
    "df_numeric = training_df.select_dtypes(include=np.number)\n",
    "df_numeric = df_numeric.loc[:, df_numeric.nunique() > 1]\n",
    "df_numeric = df_numeric.drop(columns=[\"TOP_20\"], errors=\"ignore\")\n",
    "\n",
    "# Create subplots\n",
    "n_cols = 3\n",
    "n_rows = int(np.ceil(len(df_numeric.columns) / n_cols))\n",
    "fig = sp.make_subplots(rows=n_rows, cols=n_cols, subplot_titles=df_numeric.columns)\n",
    "\n",
    "# Add one histogram per feature with smart binning\n",
    "for i, column in enumerate(df_numeric.columns):\n",
    "    row = i // n_cols + 1\n",
    "    col = i % n_cols + 1\n",
    "\n",
    "    # Compute dynamic bin count\n",
    "    col_range = df_numeric[column].max() - df_numeric[column].min()\n",
    "    n_unique = df_numeric[column].nunique()\n",
    "    nbins = min(50, max(5, int(n_unique / 2))) if col_range < 10 else 50  # tighter for short-range\n",
    "\n",
    "    fig.add_trace(\n",
    "        go.Histogram(\n",
    "            x=df_numeric[column],\n",
    "            nbinsx=nbins,\n",
    "            histnorm=\"density\",\n",
    "            marker=dict(color=\"#636EFA\"),\n",
    "            opacity=0.8\n",
    "        ),\n",
    "        row=row,\n",
    "        col=col\n",
    "    )\n",
    "\n",
    "# Style the figure\n",
    "fig.update_layout(\n",
    "    height=300 * n_rows,\n",
    "    width=1000,\n",
    "    title_text=\"Feature Distributions (with Adaptive Binning)\",\n",
    "    template=\"plotly_dark\",\n",
    "    showlegend=False\n",
    ")\n",
    "\n",
    "fig.show()"
   ]
  },
  {
   "cell_type": "markdown",
   "id": "7dd53f87",
   "metadata": {},
   "source": [
    "# Current Week Data"
   ]
  },
  {
   "cell_type": "markdown",
   "id": "fbd0a012",
   "metadata": {},
   "source": [
    "## Import 2025 Field\n",
    "**Important!**  Save curren't week's `DKSalaries.csv` into Data folder before this step."
   ]
  },
  {
   "cell_type": "code",
   "execution_count": 31,
   "id": "f17875f6",
   "metadata": {},
   "outputs": [
    {
     "data": {
      "text/html": [
       "<div>\n",
       "<style scoped>\n",
       "    .dataframe tbody tr th:only-of-type {\n",
       "        vertical-align: middle;\n",
       "    }\n",
       "\n",
       "    .dataframe tbody tr th {\n",
       "        vertical-align: top;\n",
       "    }\n",
       "\n",
       "    .dataframe thead th {\n",
       "        text-align: right;\n",
       "    }\n",
       "</style>\n",
       "<table border=\"1\" class=\"dataframe\">\n",
       "  <thead>\n",
       "    <tr style=\"text-align: right;\">\n",
       "      <th></th>\n",
       "      <th>PLAYER</th>\n",
       "      <th>SALARY</th>\n",
       "    </tr>\n",
       "  </thead>\n",
       "  <tbody>\n",
       "    <tr>\n",
       "      <th>0</th>\n",
       "      <td>Scottie Scheffler</td>\n",
       "      <td>14200</td>\n",
       "    </tr>\n",
       "    <tr>\n",
       "      <th>1</th>\n",
       "      <td>Rory McIlroy</td>\n",
       "      <td>11500</td>\n",
       "    </tr>\n",
       "    <tr>\n",
       "      <th>2</th>\n",
       "      <td>Jon Rahm</td>\n",
       "      <td>10400</td>\n",
       "    </tr>\n",
       "    <tr>\n",
       "      <th>3</th>\n",
       "      <td>Bryson DeChambeau</td>\n",
       "      <td>10100</td>\n",
       "    </tr>\n",
       "    <tr>\n",
       "      <th>4</th>\n",
       "      <td>Xander Schauffele</td>\n",
       "      <td>9700</td>\n",
       "    </tr>\n",
       "    <tr>\n",
       "      <th>5</th>\n",
       "      <td>Tommy Fleetwood</td>\n",
       "      <td>9500</td>\n",
       "    </tr>\n",
       "    <tr>\n",
       "      <th>6</th>\n",
       "      <td>Shane Lowry</td>\n",
       "      <td>9300</td>\n",
       "    </tr>\n",
       "    <tr>\n",
       "      <th>7</th>\n",
       "      <td>Ludvig Aberg</td>\n",
       "      <td>9100</td>\n",
       "    </tr>\n",
       "    <tr>\n",
       "      <th>8</th>\n",
       "      <td>Robert Macintyre</td>\n",
       "      <td>9000</td>\n",
       "    </tr>\n",
       "    <tr>\n",
       "      <th>9</th>\n",
       "      <td>Tyrrell Hatton</td>\n",
       "      <td>8900</td>\n",
       "    </tr>\n",
       "  </tbody>\n",
       "</table>\n",
       "</div>"
      ],
      "text/plain": [
       "              PLAYER  SALARY\n",
       "0  Scottie Scheffler   14200\n",
       "1       Rory McIlroy   11500\n",
       "2           Jon Rahm   10400\n",
       "3  Bryson DeChambeau   10100\n",
       "4  Xander Schauffele    9700\n",
       "5    Tommy Fleetwood    9500\n",
       "6        Shane Lowry    9300\n",
       "7       Ludvig Aberg    9100\n",
       "8   Robert Macintyre    9000\n",
       "9     Tyrrell Hatton    8900"
      ]
     },
     "execution_count": 31,
     "metadata": {},
     "output_type": "execute_result"
    }
   ],
   "source": [
    "importlib.reload(utils.db_utils)\n",
    "from utils.db_utils import DK_PLAYER_NAME_MAP\n",
    "from utils.db_utils import standardize_player_names\n",
    "\n",
    "# Load DraftKings player list\n",
    "dk = pd.read_csv(\"data/DKSalaries.csv\", usecols=[\"Name\", \"Salary\"])\n",
    "\n",
    "# Normalize DK names to PGA naming convention\n",
    "dk[\"Name\"] = dk[\"Name\"].replace(DK_PLAYER_NAME_MAP)\n",
    "\n",
    "# Rename for consistency\n",
    "dk = dk.rename(columns={\"Name\": \"PLAYER\", \"Salary\": \"SALARY\"})\n",
    "\n",
    "dk = standardize_player_names(dk)  # ✅ Normalize to match DB\n",
    "\n",
    "dk.head(10)"
   ]
  },
  {
   "cell_type": "markdown",
   "id": "544d958c",
   "metadata": {},
   "source": [
    "## Vegas Odds\n",
    "Confirm the [Vegas Odds](http://golfodds.com/weekly-odds.html) page is updated with current tournament.\n",
    "\n",
    "Note: sometimes this site can give errors and not load correctly.  Just have to do it again later.\n",
    "Another trick to try is change the url try to run it and then put the url back the way it was.  Worked once, maybe random coincidence."
   ]
  },
  {
   "cell_type": "code",
   "execution_count": 32,
   "id": "a3cba953",
   "metadata": {},
   "outputs": [
    {
     "data": {
      "text/html": [
       "<div>\n",
       "<style scoped>\n",
       "    .dataframe tbody tr th:only-of-type {\n",
       "        vertical-align: middle;\n",
       "    }\n",
       "\n",
       "    .dataframe tbody tr th {\n",
       "        vertical-align: top;\n",
       "    }\n",
       "\n",
       "    .dataframe thead th {\n",
       "        text-align: right;\n",
       "    }\n",
       "</style>\n",
       "<table border=\"1\" class=\"dataframe\">\n",
       "  <thead>\n",
       "    <tr style=\"text-align: right;\">\n",
       "      <th></th>\n",
       "      <th>SEASON</th>\n",
       "      <th>TOURNAMENT</th>\n",
       "      <th>PLAYER</th>\n",
       "      <th>ODDS</th>\n",
       "      <th>VEGAS_ODDS</th>\n",
       "    </tr>\n",
       "  </thead>\n",
       "  <tbody>\n",
       "    <tr>\n",
       "      <th>1</th>\n",
       "      <td>2025</td>\n",
       "      <td>The Open Championship</td>\n",
       "      <td>Scottie Scheffler</td>\n",
       "      <td>11/2</td>\n",
       "      <td>5.5</td>\n",
       "    </tr>\n",
       "    <tr>\n",
       "      <th>2</th>\n",
       "      <td>2025</td>\n",
       "      <td>The Open Championship</td>\n",
       "      <td>Rory McIlroy</td>\n",
       "      <td>15/2</td>\n",
       "      <td>7.5</td>\n",
       "    </tr>\n",
       "    <tr>\n",
       "      <th>3</th>\n",
       "      <td>2025</td>\n",
       "      <td>The Open Championship</td>\n",
       "      <td>Xander Schauffele</td>\n",
       "      <td>25/1</td>\n",
       "      <td>25.0</td>\n",
       "    </tr>\n",
       "    <tr>\n",
       "      <th>4</th>\n",
       "      <td>2025</td>\n",
       "      <td>The Open Championship</td>\n",
       "      <td>Jon Rahm</td>\n",
       "      <td>11/1</td>\n",
       "      <td>11.0</td>\n",
       "    </tr>\n",
       "    <tr>\n",
       "      <th>5</th>\n",
       "      <td>2025</td>\n",
       "      <td>The Open Championship</td>\n",
       "      <td>Ludvig Aberg</td>\n",
       "      <td>25/1</td>\n",
       "      <td>25.0</td>\n",
       "    </tr>\n",
       "    <tr>\n",
       "      <th>6</th>\n",
       "      <td>2025</td>\n",
       "      <td>The Open Championship</td>\n",
       "      <td>Collin Morikawa</td>\n",
       "      <td>35/1</td>\n",
       "      <td>35.0</td>\n",
       "    </tr>\n",
       "    <tr>\n",
       "      <th>7</th>\n",
       "      <td>2025</td>\n",
       "      <td>The Open Championship</td>\n",
       "      <td>Bryson DeChambeau</td>\n",
       "      <td>20/1</td>\n",
       "      <td>20.0</td>\n",
       "    </tr>\n",
       "    <tr>\n",
       "      <th>8</th>\n",
       "      <td>2025</td>\n",
       "      <td>The Open Championship</td>\n",
       "      <td>Viktor Hovland</td>\n",
       "      <td>25/1</td>\n",
       "      <td>25.0</td>\n",
       "    </tr>\n",
       "    <tr>\n",
       "      <th>9</th>\n",
       "      <td>2025</td>\n",
       "      <td>The Open Championship</td>\n",
       "      <td>Tommy Fleetwood</td>\n",
       "      <td>20/1</td>\n",
       "      <td>20.0</td>\n",
       "    </tr>\n",
       "    <tr>\n",
       "      <th>10</th>\n",
       "      <td>2025</td>\n",
       "      <td>The Open Championship</td>\n",
       "      <td>Brooks Koepka</td>\n",
       "      <td>65/1</td>\n",
       "      <td>65.0</td>\n",
       "    </tr>\n",
       "  </tbody>\n",
       "</table>\n",
       "</div>"
      ],
      "text/plain": [
       "    SEASON             TOURNAMENT             PLAYER  ODDS  VEGAS_ODDS\n",
       "1     2025  The Open Championship  Scottie Scheffler  11/2         5.5\n",
       "2     2025  The Open Championship       Rory McIlroy  15/2         7.5\n",
       "3     2025  The Open Championship  Xander Schauffele  25/1        25.0\n",
       "4     2025  The Open Championship           Jon Rahm  11/1        11.0\n",
       "5     2025  The Open Championship       Ludvig Aberg  25/1        25.0\n",
       "6     2025  The Open Championship    Collin Morikawa  35/1        35.0\n",
       "7     2025  The Open Championship  Bryson DeChambeau  20/1        20.0\n",
       "8     2025  The Open Championship     Viktor Hovland  25/1        25.0\n",
       "9     2025  The Open Championship    Tommy Fleetwood  20/1        20.0\n",
       "10    2025  The Open Championship      Brooks Koepka  65/1        65.0"
      ]
     },
     "execution_count": 32,
     "metadata": {},
     "output_type": "execute_result"
    }
   ],
   "source": [
    "importlib.reload(utils.db_utils)\n",
    "from utils.db_utils import get_current_week_odds\n",
    "\n",
    "odds_current = get_current_week_odds(season=2025, tournament_name=new_tournament_name)\n",
    "odds_current.head(10)\n"
   ]
  },
  {
   "cell_type": "markdown",
   "id": "f58bb5d0",
   "metadata": {},
   "source": [
    "## Cut Percentage and FedEx Points"
   ]
  },
  {
   "cell_type": "code",
   "execution_count": 33,
   "id": "a927b0b2",
   "metadata": {},
   "outputs": [
    {
     "data": {
      "text/html": [
       "<div>\n",
       "<style scoped>\n",
       "    .dataframe tbody tr th:only-of-type {\n",
       "        vertical-align: middle;\n",
       "    }\n",
       "\n",
       "    .dataframe tbody tr th {\n",
       "        vertical-align: top;\n",
       "    }\n",
       "\n",
       "    .dataframe thead th {\n",
       "        text-align: right;\n",
       "    }\n",
       "</style>\n",
       "<table border=\"1\" class=\"dataframe\">\n",
       "  <thead>\n",
       "    <tr style=\"text-align: right;\">\n",
       "      <th></th>\n",
       "      <th>PLAYER</th>\n",
       "      <th>TOTAL_EVENTS_PLAYED</th>\n",
       "      <th>CUTS_MADE</th>\n",
       "      <th>FEDEX_CUP_POINTS</th>\n",
       "      <th>CUT_PERCENTAGE</th>\n",
       "      <th>form_density</th>\n",
       "      <th>CONSECUTIVE_CUTS</th>\n",
       "      <th>ENDING_DATE</th>\n",
       "      <th>TOURNAMENT</th>\n",
       "    </tr>\n",
       "  </thead>\n",
       "  <tbody>\n",
       "    <tr>\n",
       "      <th>0</th>\n",
       "      <td>A.J. Ewart</td>\n",
       "      <td>1</td>\n",
       "      <td>0</td>\n",
       "      <td>0.000</td>\n",
       "      <td>0.0</td>\n",
       "      <td>0.00</td>\n",
       "      <td>0</td>\n",
       "      <td>2025-07-20</td>\n",
       "      <td>The Open Championship</td>\n",
       "    </tr>\n",
       "    <tr>\n",
       "      <th>1</th>\n",
       "      <td>Aaron Baddeley</td>\n",
       "      <td>14</td>\n",
       "      <td>6</td>\n",
       "      <td>49.088</td>\n",
       "      <td>42.9</td>\n",
       "      <td>3.51</td>\n",
       "      <td>0</td>\n",
       "      <td>2025-07-20</td>\n",
       "      <td>The Open Championship</td>\n",
       "    </tr>\n",
       "    <tr>\n",
       "      <th>2</th>\n",
       "      <td>Aaron Cockerill</td>\n",
       "      <td>1</td>\n",
       "      <td>0</td>\n",
       "      <td>0.000</td>\n",
       "      <td>0.0</td>\n",
       "      <td>0.00</td>\n",
       "      <td>0</td>\n",
       "      <td>2025-07-20</td>\n",
       "      <td>The Open Championship</td>\n",
       "    </tr>\n",
       "    <tr>\n",
       "      <th>3</th>\n",
       "      <td>Aaron Rai</td>\n",
       "      <td>18</td>\n",
       "      <td>14</td>\n",
       "      <td>669.980</td>\n",
       "      <td>77.8</td>\n",
       "      <td>37.22</td>\n",
       "      <td>3</td>\n",
       "      <td>2025-07-20</td>\n",
       "      <td>The Open Championship</td>\n",
       "    </tr>\n",
       "    <tr>\n",
       "      <th>4</th>\n",
       "      <td>Aaron Wise</td>\n",
       "      <td>3</td>\n",
       "      <td>1</td>\n",
       "      <td>6.333</td>\n",
       "      <td>33.3</td>\n",
       "      <td>2.11</td>\n",
       "      <td>0</td>\n",
       "      <td>2025-07-20</td>\n",
       "      <td>The Open Championship</td>\n",
       "    </tr>\n",
       "    <tr>\n",
       "      <th>5</th>\n",
       "      <td>Adam Hadwin</td>\n",
       "      <td>20</td>\n",
       "      <td>13</td>\n",
       "      <td>214.432</td>\n",
       "      <td>65.0</td>\n",
       "      <td>10.72</td>\n",
       "      <td>0</td>\n",
       "      <td>2025-07-20</td>\n",
       "      <td>The Open Championship</td>\n",
       "    </tr>\n",
       "    <tr>\n",
       "      <th>6</th>\n",
       "      <td>Adam Long</td>\n",
       "      <td>1</td>\n",
       "      <td>0</td>\n",
       "      <td>0.000</td>\n",
       "      <td>0.0</td>\n",
       "      <td>0.00</td>\n",
       "      <td>0</td>\n",
       "      <td>2025-07-20</td>\n",
       "      <td>The Open Championship</td>\n",
       "    </tr>\n",
       "    <tr>\n",
       "      <th>7</th>\n",
       "      <td>Adam Schenk</td>\n",
       "      <td>20</td>\n",
       "      <td>9</td>\n",
       "      <td>270.904</td>\n",
       "      <td>45.0</td>\n",
       "      <td>13.55</td>\n",
       "      <td>0</td>\n",
       "      <td>2025-07-20</td>\n",
       "      <td>The Open Championship</td>\n",
       "    </tr>\n",
       "    <tr>\n",
       "      <th>8</th>\n",
       "      <td>Adam Scott</td>\n",
       "      <td>14</td>\n",
       "      <td>12</td>\n",
       "      <td>439.203</td>\n",
       "      <td>85.7</td>\n",
       "      <td>31.37</td>\n",
       "      <td>7</td>\n",
       "      <td>2025-07-20</td>\n",
       "      <td>The Open Championship</td>\n",
       "    </tr>\n",
       "    <tr>\n",
       "      <th>9</th>\n",
       "      <td>Adam Svensson</td>\n",
       "      <td>19</td>\n",
       "      <td>10</td>\n",
       "      <td>106.593</td>\n",
       "      <td>52.6</td>\n",
       "      <td>5.61</td>\n",
       "      <td>1</td>\n",
       "      <td>2025-07-20</td>\n",
       "      <td>The Open Championship</td>\n",
       "    </tr>\n",
       "  </tbody>\n",
       "</table>\n",
       "</div>"
      ],
      "text/plain": [
       "            PLAYER  TOTAL_EVENTS_PLAYED  CUTS_MADE  FEDEX_CUP_POINTS  \\\n",
       "0       A.J. Ewart                    1          0             0.000   \n",
       "1   Aaron Baddeley                   14          6            49.088   \n",
       "2  Aaron Cockerill                    1          0             0.000   \n",
       "3        Aaron Rai                   18         14           669.980   \n",
       "4       Aaron Wise                    3          1             6.333   \n",
       "5      Adam Hadwin                   20         13           214.432   \n",
       "6        Adam Long                    1          0             0.000   \n",
       "7      Adam Schenk                   20          9           270.904   \n",
       "8       Adam Scott                   14         12           439.203   \n",
       "9    Adam Svensson                   19         10           106.593   \n",
       "\n",
       "   CUT_PERCENTAGE  form_density  CONSECUTIVE_CUTS ENDING_DATE  \\\n",
       "0             0.0          0.00                 0  2025-07-20   \n",
       "1            42.9          3.51                 0  2025-07-20   \n",
       "2             0.0          0.00                 0  2025-07-20   \n",
       "3            77.8         37.22                 3  2025-07-20   \n",
       "4            33.3          2.11                 0  2025-07-20   \n",
       "5            65.0         10.72                 0  2025-07-20   \n",
       "6             0.0          0.00                 0  2025-07-20   \n",
       "7            45.0         13.55                 0  2025-07-20   \n",
       "8            85.7         31.37                 7  2025-07-20   \n",
       "9            52.6          5.61                 1  2025-07-20   \n",
       "\n",
       "              TOURNAMENT  \n",
       "0  The Open Championship  \n",
       "1  The Open Championship  \n",
       "2  The Open Championship  \n",
       "3  The Open Championship  \n",
       "4  The Open Championship  \n",
       "5  The Open Championship  \n",
       "6  The Open Championship  \n",
       "7  The Open Championship  \n",
       "8  The Open Championship  \n",
       "9  The Open Championship  "
      ]
     },
     "execution_count": 33,
     "metadata": {},
     "output_type": "execute_result"
    }
   ],
   "source": [
    "importlib.reload(utils.db_utils)\n",
    "from utils.db_utils import get_cut_and_fedex_history\n",
    "\n",
    "cuts_rolling = get_cut_and_fedex_history(db_path, this_week_history, window_months=9)\n",
    "cuts_current = cuts_rolling[this_week_key].copy()\n",
    "cuts_current.head(10)"
   ]
  },
  {
   "cell_type": "markdown",
   "id": "abdf22cb",
   "metadata": {},
   "source": [
    "## Recent Form"
   ]
  },
  {
   "cell_type": "code",
   "execution_count": 34,
   "id": "58cfb255",
   "metadata": {},
   "outputs": [
    {
     "data": {
      "text/html": [
       "<div>\n",
       "<style scoped>\n",
       "    .dataframe tbody tr th:only-of-type {\n",
       "        vertical-align: middle;\n",
       "    }\n",
       "\n",
       "    .dataframe tbody tr th {\n",
       "        vertical-align: top;\n",
       "    }\n",
       "\n",
       "    .dataframe thead th {\n",
       "        text-align: right;\n",
       "    }\n",
       "</style>\n",
       "<table border=\"1\" class=\"dataframe\">\n",
       "  <thead>\n",
       "    <tr style=\"text-align: right;\">\n",
       "      <th></th>\n",
       "      <th>PLAYER</th>\n",
       "      <th>TOTAL_EVENTS_PLAYED</th>\n",
       "      <th>RECENT_FORM</th>\n",
       "      <th>adj_form</th>\n",
       "      <th>ENDING_DATE</th>\n",
       "      <th>TOURNAMENT</th>\n",
       "    </tr>\n",
       "  </thead>\n",
       "  <tbody>\n",
       "    <tr>\n",
       "      <th>0</th>\n",
       "      <td>Carlos Ortiz</td>\n",
       "      <td>1</td>\n",
       "      <td>4.0</td>\n",
       "      <td>5.77</td>\n",
       "      <td>2025-07-20</td>\n",
       "      <td>The Open Championship</td>\n",
       "    </tr>\n",
       "    <tr>\n",
       "      <th>1</th>\n",
       "      <td>Scottie Scheffler</td>\n",
       "      <td>16</td>\n",
       "      <td>6.9</td>\n",
       "      <td>2.44</td>\n",
       "      <td>2025-07-20</td>\n",
       "      <td>The Open Championship</td>\n",
       "    </tr>\n",
       "    <tr>\n",
       "      <th>2</th>\n",
       "      <td>Jon Rahm</td>\n",
       "      <td>3</td>\n",
       "      <td>9.7</td>\n",
       "      <td>7.00</td>\n",
       "      <td>2025-07-20</td>\n",
       "      <td>The Open Championship</td>\n",
       "    </tr>\n",
       "    <tr>\n",
       "      <th>3</th>\n",
       "      <td>Kristoffer Reitan</td>\n",
       "      <td>1</td>\n",
       "      <td>13.0</td>\n",
       "      <td>18.76</td>\n",
       "      <td>2025-07-20</td>\n",
       "      <td>The Open Championship</td>\n",
       "    </tr>\n",
       "    <tr>\n",
       "      <th>4</th>\n",
       "      <td>Bubba Watson</td>\n",
       "      <td>1</td>\n",
       "      <td>14.0</td>\n",
       "      <td>20.20</td>\n",
       "      <td>2025-07-20</td>\n",
       "      <td>The Open Championship</td>\n",
       "    </tr>\n",
       "    <tr>\n",
       "      <th>5</th>\n",
       "      <td>Marco Penge</td>\n",
       "      <td>2</td>\n",
       "      <td>15.0</td>\n",
       "      <td>13.65</td>\n",
       "      <td>2025-07-20</td>\n",
       "      <td>The Open Championship</td>\n",
       "    </tr>\n",
       "    <tr>\n",
       "      <th>6</th>\n",
       "      <td>Taisei Shimizu</td>\n",
       "      <td>1</td>\n",
       "      <td>16.0</td>\n",
       "      <td>23.08</td>\n",
       "      <td>2025-07-20</td>\n",
       "      <td>The Open Championship</td>\n",
       "    </tr>\n",
       "    <tr>\n",
       "      <th>7</th>\n",
       "      <td>Ian Gilligan</td>\n",
       "      <td>1</td>\n",
       "      <td>16.0</td>\n",
       "      <td>23.08</td>\n",
       "      <td>2025-07-20</td>\n",
       "      <td>The Open Championship</td>\n",
       "    </tr>\n",
       "    <tr>\n",
       "      <th>8</th>\n",
       "      <td>Stewart Cink</td>\n",
       "      <td>1</td>\n",
       "      <td>17.0</td>\n",
       "      <td>24.53</td>\n",
       "      <td>2025-07-20</td>\n",
       "      <td>The Open Championship</td>\n",
       "    </tr>\n",
       "    <tr>\n",
       "      <th>9</th>\n",
       "      <td>Andy Sullivan</td>\n",
       "      <td>1</td>\n",
       "      <td>17.0</td>\n",
       "      <td>24.53</td>\n",
       "      <td>2025-07-20</td>\n",
       "      <td>The Open Championship</td>\n",
       "    </tr>\n",
       "  </tbody>\n",
       "</table>\n",
       "</div>"
      ],
      "text/plain": [
       "              PLAYER  TOTAL_EVENTS_PLAYED  RECENT_FORM  adj_form ENDING_DATE  \\\n",
       "0       Carlos Ortiz                    1          4.0      5.77  2025-07-20   \n",
       "1  Scottie Scheffler                   16          6.9      2.44  2025-07-20   \n",
       "2           Jon Rahm                    3          9.7      7.00  2025-07-20   \n",
       "3  Kristoffer Reitan                    1         13.0     18.76  2025-07-20   \n",
       "4       Bubba Watson                    1         14.0     20.20  2025-07-20   \n",
       "5        Marco Penge                    2         15.0     13.65  2025-07-20   \n",
       "6     Taisei Shimizu                    1         16.0     23.08  2025-07-20   \n",
       "7       Ian Gilligan                    1         16.0     23.08  2025-07-20   \n",
       "8       Stewart Cink                    1         17.0     24.53  2025-07-20   \n",
       "9      Andy Sullivan                    1         17.0     24.53  2025-07-20   \n",
       "\n",
       "              TOURNAMENT  \n",
       "0  The Open Championship  \n",
       "1  The Open Championship  \n",
       "2  The Open Championship  \n",
       "3  The Open Championship  \n",
       "4  The Open Championship  \n",
       "5  The Open Championship  \n",
       "6  The Open Championship  \n",
       "7  The Open Championship  \n",
       "8  The Open Championship  \n",
       "9  The Open Championship  "
      ]
     },
     "execution_count": 34,
     "metadata": {},
     "output_type": "execute_result"
    }
   ],
   "source": [
    "importlib.reload(utils.db_utils)\n",
    "from utils.db_utils import get_recent_avg_finish\n",
    "\n",
    "recent_form = get_recent_avg_finish(db_path, this_week_history, window_months=9)\n",
    "recent_form_current = recent_form[this_week_key].copy()\n",
    "\n",
    "recent_form_current.head(10)"
   ]
  },
  {
   "cell_type": "markdown",
   "id": "6386214b",
   "metadata": {},
   "source": [
    "## Course History"
   ]
  },
  {
   "cell_type": "code",
   "execution_count": 35,
   "id": "c1c0ec95",
   "metadata": {},
   "outputs": [
    {
     "data": {
      "text/html": [
       "<div>\n",
       "<style scoped>\n",
       "    .dataframe tbody tr th:only-of-type {\n",
       "        vertical-align: middle;\n",
       "    }\n",
       "\n",
       "    .dataframe tbody tr th {\n",
       "        vertical-align: top;\n",
       "    }\n",
       "\n",
       "    .dataframe thead th {\n",
       "        text-align: right;\n",
       "    }\n",
       "</style>\n",
       "<table border=\"1\" class=\"dataframe\">\n",
       "  <thead>\n",
       "    <tr style=\"text-align: right;\">\n",
       "      <th></th>\n",
       "      <th>PLAYER</th>\n",
       "      <th>TOTAL_EVENTS_PLAYED</th>\n",
       "      <th>COURSE_HISTORY</th>\n",
       "      <th>adj_ch</th>\n",
       "      <th>ENDING_DATE</th>\n",
       "      <th>COURSE</th>\n",
       "      <th>TOURNAMENT</th>\n",
       "    </tr>\n",
       "  </thead>\n",
       "  <tbody>\n",
       "    <tr>\n",
       "      <th>0</th>\n",
       "      <td>Aaron Wise</td>\n",
       "      <td>1</td>\n",
       "      <td>41.0</td>\n",
       "      <td>59.15</td>\n",
       "      <td>2025-07-20</td>\n",
       "      <td>Royal Portrush Golf Club</td>\n",
       "      <td>The Open Championship</td>\n",
       "    </tr>\n",
       "    <tr>\n",
       "      <th>1</th>\n",
       "      <td>Abraham Ancer</td>\n",
       "      <td>1</td>\n",
       "      <td>90.0</td>\n",
       "      <td>129.84</td>\n",
       "      <td>2025-07-20</td>\n",
       "      <td>Royal Portrush Golf Club</td>\n",
       "      <td>The Open Championship</td>\n",
       "    </tr>\n",
       "    <tr>\n",
       "      <th>2</th>\n",
       "      <td>Adam Hadwin</td>\n",
       "      <td>1</td>\n",
       "      <td>57.0</td>\n",
       "      <td>82.23</td>\n",
       "      <td>2025-07-20</td>\n",
       "      <td>Royal Portrush Golf Club</td>\n",
       "      <td>The Open Championship</td>\n",
       "    </tr>\n",
       "    <tr>\n",
       "      <th>3</th>\n",
       "      <td>Adam Scott</td>\n",
       "      <td>1</td>\n",
       "      <td>90.0</td>\n",
       "      <td>129.84</td>\n",
       "      <td>2025-07-20</td>\n",
       "      <td>Royal Portrush Golf Club</td>\n",
       "      <td>The Open Championship</td>\n",
       "    </tr>\n",
       "    <tr>\n",
       "      <th>4</th>\n",
       "      <td>Adria Arnaus</td>\n",
       "      <td>1</td>\n",
       "      <td>90.0</td>\n",
       "      <td>129.84</td>\n",
       "      <td>2025-07-20</td>\n",
       "      <td>Royal Portrush Golf Club</td>\n",
       "      <td>The Open Championship</td>\n",
       "    </tr>\n",
       "    <tr>\n",
       "      <th>5</th>\n",
       "      <td>Adrian Otaegui</td>\n",
       "      <td>1</td>\n",
       "      <td>90.0</td>\n",
       "      <td>129.84</td>\n",
       "      <td>2025-07-20</td>\n",
       "      <td>Royal Portrush Golf Club</td>\n",
       "      <td>The Open Championship</td>\n",
       "    </tr>\n",
       "    <tr>\n",
       "      <th>6</th>\n",
       "      <td>Alex Noren</td>\n",
       "      <td>1</td>\n",
       "      <td>11.0</td>\n",
       "      <td>15.87</td>\n",
       "      <td>2025-07-20</td>\n",
       "      <td>Royal Portrush Golf Club</td>\n",
       "      <td>The Open Championship</td>\n",
       "    </tr>\n",
       "    <tr>\n",
       "      <th>7</th>\n",
       "      <td>Alexander Bjork</td>\n",
       "      <td>1</td>\n",
       "      <td>90.0</td>\n",
       "      <td>129.84</td>\n",
       "      <td>2025-07-20</td>\n",
       "      <td>Royal Portrush Golf Club</td>\n",
       "      <td>The Open Championship</td>\n",
       "    </tr>\n",
       "    <tr>\n",
       "      <th>8</th>\n",
       "      <td>Alexander Levy</td>\n",
       "      <td>1</td>\n",
       "      <td>90.0</td>\n",
       "      <td>129.84</td>\n",
       "      <td>2025-07-20</td>\n",
       "      <td>Royal Portrush Golf Club</td>\n",
       "      <td>The Open Championship</td>\n",
       "    </tr>\n",
       "    <tr>\n",
       "      <th>9</th>\n",
       "      <td>Andrea Pavan</td>\n",
       "      <td>1</td>\n",
       "      <td>90.0</td>\n",
       "      <td>129.84</td>\n",
       "      <td>2025-07-20</td>\n",
       "      <td>Royal Portrush Golf Club</td>\n",
       "      <td>The Open Championship</td>\n",
       "    </tr>\n",
       "  </tbody>\n",
       "</table>\n",
       "</div>"
      ],
      "text/plain": [
       "            PLAYER  TOTAL_EVENTS_PLAYED  COURSE_HISTORY  adj_ch ENDING_DATE  \\\n",
       "0       Aaron Wise                    1            41.0   59.15  2025-07-20   \n",
       "1    Abraham Ancer                    1            90.0  129.84  2025-07-20   \n",
       "2      Adam Hadwin                    1            57.0   82.23  2025-07-20   \n",
       "3       Adam Scott                    1            90.0  129.84  2025-07-20   \n",
       "4     Adria Arnaus                    1            90.0  129.84  2025-07-20   \n",
       "5   Adrian Otaegui                    1            90.0  129.84  2025-07-20   \n",
       "6       Alex Noren                    1            11.0   15.87  2025-07-20   \n",
       "7  Alexander Bjork                    1            90.0  129.84  2025-07-20   \n",
       "8   Alexander Levy                    1            90.0  129.84  2025-07-20   \n",
       "9     Andrea Pavan                    1            90.0  129.84  2025-07-20   \n",
       "\n",
       "                     COURSE             TOURNAMENT  \n",
       "0  Royal Portrush Golf Club  The Open Championship  \n",
       "1  Royal Portrush Golf Club  The Open Championship  \n",
       "2  Royal Portrush Golf Club  The Open Championship  \n",
       "3  Royal Portrush Golf Club  The Open Championship  \n",
       "4  Royal Portrush Golf Club  The Open Championship  \n",
       "5  Royal Portrush Golf Club  The Open Championship  \n",
       "6  Royal Portrush Golf Club  The Open Championship  \n",
       "7  Royal Portrush Golf Club  The Open Championship  \n",
       "8  Royal Portrush Golf Club  The Open Championship  \n",
       "9  Royal Portrush Golf Club  The Open Championship  "
      ]
     },
     "execution_count": 35,
     "metadata": {},
     "output_type": "execute_result"
    }
   ],
   "source": [
    "importlib.reload(utils.db_utils)\n",
    "from utils.db_utils import get_course_history\n",
    "\n",
    "course_hist = get_course_history(db_path, this_week_history, lookback_years=7)\n",
    "course_hist_current = course_hist[this_week_key].copy()\n",
    "\n",
    "course_hist_current.head(10)\n"
   ]
  },
  {
   "cell_type": "markdown",
   "id": "cff50c6a",
   "metadata": {},
   "source": [
    "## Merged Dataframe"
   ]
  },
  {
   "cell_type": "code",
   "execution_count": 36,
   "id": "4ea0e7da",
   "metadata": {},
   "outputs": [
    {
     "data": {
      "text/html": [
       "<div>\n",
       "<style scoped>\n",
       "    .dataframe tbody tr th:only-of-type {\n",
       "        vertical-align: middle;\n",
       "    }\n",
       "\n",
       "    .dataframe tbody tr th {\n",
       "        vertical-align: top;\n",
       "    }\n",
       "\n",
       "    .dataframe thead th {\n",
       "        text-align: right;\n",
       "    }\n",
       "</style>\n",
       "<table border=\"1\" class=\"dataframe\">\n",
       "  <thead>\n",
       "    <tr style=\"text-align: right;\">\n",
       "      <th></th>\n",
       "      <th>PLAYER</th>\n",
       "      <th>SGTTG_RANK</th>\n",
       "      <th>SGTTG</th>\n",
       "      <th>SGOTT_RANK</th>\n",
       "      <th>SGOTT</th>\n",
       "      <th>SGAPR_RANK</th>\n",
       "      <th>SGAPR</th>\n",
       "      <th>SGATG_RANK</th>\n",
       "      <th>SGATG</th>\n",
       "      <th>SGP_RANK</th>\n",
       "      <th>SGP</th>\n",
       "      <th>BIRDIES_RANK</th>\n",
       "      <th>BIRDIES</th>\n",
       "      <th>PAR_3_RANK</th>\n",
       "      <th>PAR_3</th>\n",
       "      <th>PAR_4_RANK</th>\n",
       "      <th>PAR_4</th>\n",
       "      <th>PAR_5_RANK</th>\n",
       "      <th>PAR_5</th>\n",
       "      <th>TOTAL_DRIVING_RANK</th>\n",
       "      <th>TOTAL_DRIVING</th>\n",
       "      <th>DRIVING_DISTANCE_RANK</th>\n",
       "      <th>DRIVING_DISTANCE</th>\n",
       "      <th>DRIVING_ACCURACY_RANK</th>\n",
       "      <th>DRIVING_ACCURACY</th>\n",
       "      <th>GIR_RANK</th>\n",
       "      <th>GIR</th>\n",
       "      <th>SCRAMBLING_RANK</th>\n",
       "      <th>SCRAMBLING</th>\n",
       "      <th>OWGR_RANK</th>\n",
       "      <th>OWGR</th>\n",
       "      <th>SEASON</th>\n",
       "      <th>VEGAS_ODDS</th>\n",
       "      <th>CUT_PERCENTAGE</th>\n",
       "      <th>FEDEX_CUP_POINTS</th>\n",
       "      <th>form_density</th>\n",
       "      <th>CONSECUTIVE_CUTS</th>\n",
       "      <th>RECENT_FORM</th>\n",
       "      <th>adj_form</th>\n",
       "      <th>COURSE_HISTORY</th>\n",
       "      <th>adj_ch</th>\n",
       "      <th>SALARY</th>\n",
       "    </tr>\n",
       "  </thead>\n",
       "  <tbody>\n",
       "    <tr>\n",
       "      <th>0</th>\n",
       "      <td>Aaron Rai</td>\n",
       "      <td>28.0</td>\n",
       "      <td>0.724</td>\n",
       "      <td>22.0</td>\n",
       "      <td>0.390</td>\n",
       "      <td>50.0</td>\n",
       "      <td>0.247</td>\n",
       "      <td>68.0</td>\n",
       "      <td>0.087</td>\n",
       "      <td>113.0</td>\n",
       "      <td>-0.047</td>\n",
       "      <td>90.0</td>\n",
       "      <td>21.67%</td>\n",
       "      <td>177.0</td>\n",
       "      <td>3.18</td>\n",
       "      <td>10.0</td>\n",
       "      <td>3.98</td>\n",
       "      <td>48.0</td>\n",
       "      <td>4.57</td>\n",
       "      <td>76.0</td>\n",
       "      <td>171</td>\n",
       "      <td>169.0</td>\n",
       "      <td>287.8</td>\n",
       "      <td>2.0</td>\n",
       "      <td>73.62%</td>\n",
       "      <td>25.0</td>\n",
       "      <td>69.26%</td>\n",
       "      <td>102.0</td>\n",
       "      <td>59.04%</td>\n",
       "      <td>36.0</td>\n",
       "      <td>2.6092</td>\n",
       "      <td>2025.0</td>\n",
       "      <td>80.0</td>\n",
       "      <td>77.8</td>\n",
       "      <td>669.980</td>\n",
       "      <td>37.22</td>\n",
       "      <td>3.0</td>\n",
       "      <td>38.8</td>\n",
       "      <td>13.18</td>\n",
       "      <td>NaN</td>\n",
       "      <td>NaN</td>\n",
       "      <td>6900</td>\n",
       "    </tr>\n",
       "    <tr>\n",
       "      <th>1</th>\n",
       "      <td>Adam Scott</td>\n",
       "      <td>42.0</td>\n",
       "      <td>0.512</td>\n",
       "      <td>32.0</td>\n",
       "      <td>0.322</td>\n",
       "      <td>90.0</td>\n",
       "      <td>0.070</td>\n",
       "      <td>57.0</td>\n",
       "      <td>0.120</td>\n",
       "      <td>103.0</td>\n",
       "      <td>-0.016</td>\n",
       "      <td>93.0</td>\n",
       "      <td>21.58%</td>\n",
       "      <td>140.0</td>\n",
       "      <td>3.10</td>\n",
       "      <td>134.0</td>\n",
       "      <td>4.05</td>\n",
       "      <td>37.0</td>\n",
       "      <td>4.56</td>\n",
       "      <td>128.0</td>\n",
       "      <td>203</td>\n",
       "      <td>81.0</td>\n",
       "      <td>303.5</td>\n",
       "      <td>122.0</td>\n",
       "      <td>56.77%</td>\n",
       "      <td>123.0</td>\n",
       "      <td>64.96%</td>\n",
       "      <td>124.0</td>\n",
       "      <td>57.62%</td>\n",
       "      <td>40.0</td>\n",
       "      <td>2.4616</td>\n",
       "      <td>2025.0</td>\n",
       "      <td>70.0</td>\n",
       "      <td>85.7</td>\n",
       "      <td>439.203</td>\n",
       "      <td>31.37</td>\n",
       "      <td>7.0</td>\n",
       "      <td>38.5</td>\n",
       "      <td>14.22</td>\n",
       "      <td>90.0</td>\n",
       "      <td>129.84</td>\n",
       "      <td>7300</td>\n",
       "    </tr>\n",
       "    <tr>\n",
       "      <th>2</th>\n",
       "      <td>Adrien Saddier</td>\n",
       "      <td>NaN</td>\n",
       "      <td>NaN</td>\n",
       "      <td>NaN</td>\n",
       "      <td>NaN</td>\n",
       "      <td>NaN</td>\n",
       "      <td>NaN</td>\n",
       "      <td>NaN</td>\n",
       "      <td>NaN</td>\n",
       "      <td>NaN</td>\n",
       "      <td>NaN</td>\n",
       "      <td>NaN</td>\n",
       "      <td>NaN</td>\n",
       "      <td>NaN</td>\n",
       "      <td>NaN</td>\n",
       "      <td>NaN</td>\n",
       "      <td>NaN</td>\n",
       "      <td>NaN</td>\n",
       "      <td>NaN</td>\n",
       "      <td>NaN</td>\n",
       "      <td>NaN</td>\n",
       "      <td>NaN</td>\n",
       "      <td>NaN</td>\n",
       "      <td>NaN</td>\n",
       "      <td>NaN</td>\n",
       "      <td>NaN</td>\n",
       "      <td>NaN</td>\n",
       "      <td>NaN</td>\n",
       "      <td>NaN</td>\n",
       "      <td>139.0</td>\n",
       "      <td>1.0797</td>\n",
       "      <td>2025.0</td>\n",
       "      <td>400.0</td>\n",
       "      <td>0.0</td>\n",
       "      <td>0.000</td>\n",
       "      <td>0.00</td>\n",
       "      <td>0.0</td>\n",
       "      <td>90.0</td>\n",
       "      <td>129.84</td>\n",
       "      <td>NaN</td>\n",
       "      <td>NaN</td>\n",
       "      <td>5200</td>\n",
       "    </tr>\n",
       "    <tr>\n",
       "      <th>3</th>\n",
       "      <td>Akshay Bhatia</td>\n",
       "      <td>77.0</td>\n",
       "      <td>0.239</td>\n",
       "      <td>103.0</td>\n",
       "      <td>0.016</td>\n",
       "      <td>16.0</td>\n",
       "      <td>0.566</td>\n",
       "      <td>164.0</td>\n",
       "      <td>-0.343</td>\n",
       "      <td>22.0</td>\n",
       "      <td>0.362</td>\n",
       "      <td>14.0</td>\n",
       "      <td>24.07%</td>\n",
       "      <td>3.0</td>\n",
       "      <td>2.97</td>\n",
       "      <td>55.0</td>\n",
       "      <td>4.01</td>\n",
       "      <td>166.0</td>\n",
       "      <td>4.70</td>\n",
       "      <td>135.0</td>\n",
       "      <td>207</td>\n",
       "      <td>156.0</td>\n",
       "      <td>294.8</td>\n",
       "      <td>51.0</td>\n",
       "      <td>62.38%</td>\n",
       "      <td>54.0</td>\n",
       "      <td>67.22%</td>\n",
       "      <td>161.0</td>\n",
       "      <td>55.08%</td>\n",
       "      <td>38.0</td>\n",
       "      <td>2.5083</td>\n",
       "      <td>2025.0</td>\n",
       "      <td>150.0</td>\n",
       "      <td>77.8</td>\n",
       "      <td>840.990</td>\n",
       "      <td>46.72</td>\n",
       "      <td>2.0</td>\n",
       "      <td>39.9</td>\n",
       "      <td>13.55</td>\n",
       "      <td>NaN</td>\n",
       "      <td>NaN</td>\n",
       "      <td>6700</td>\n",
       "    </tr>\n",
       "    <tr>\n",
       "      <th>4</th>\n",
       "      <td>Aldrich Potgieter</td>\n",
       "      <td>74.0</td>\n",
       "      <td>0.258</td>\n",
       "      <td>2.0</td>\n",
       "      <td>0.686</td>\n",
       "      <td>117.0</td>\n",
       "      <td>-0.102</td>\n",
       "      <td>162.0</td>\n",
       "      <td>-0.326</td>\n",
       "      <td>72.0</td>\n",
       "      <td>0.132</td>\n",
       "      <td>29.0</td>\n",
       "      <td>23.36%</td>\n",
       "      <td>94.0</td>\n",
       "      <td>3.07</td>\n",
       "      <td>81.0</td>\n",
       "      <td>4.02</td>\n",
       "      <td>141.0</td>\n",
       "      <td>4.66</td>\n",
       "      <td>30.0</td>\n",
       "      <td>136</td>\n",
       "      <td>1.0</td>\n",
       "      <td>328.2</td>\n",
       "      <td>135.0</td>\n",
       "      <td>55.78%</td>\n",
       "      <td>101.0</td>\n",
       "      <td>65.40%</td>\n",
       "      <td>173.0</td>\n",
       "      <td>52.19%</td>\n",
       "      <td>53.0</td>\n",
       "      <td>2.0898</td>\n",
       "      <td>2025.0</td>\n",
       "      <td>200.0</td>\n",
       "      <td>35.7</td>\n",
       "      <td>941.000</td>\n",
       "      <td>67.21</td>\n",
       "      <td>0.0</td>\n",
       "      <td>62.9</td>\n",
       "      <td>23.23</td>\n",
       "      <td>NaN</td>\n",
       "      <td>NaN</td>\n",
       "      <td>6300</td>\n",
       "    </tr>\n",
       "  </tbody>\n",
       "</table>\n",
       "</div>"
      ],
      "text/plain": [
       "              PLAYER  SGTTG_RANK  SGTTG  SGOTT_RANK  SGOTT  SGAPR_RANK  \\\n",
       "0          Aaron Rai        28.0  0.724        22.0  0.390        50.0   \n",
       "1         Adam Scott        42.0  0.512        32.0  0.322        90.0   \n",
       "2     Adrien Saddier         NaN    NaN         NaN    NaN         NaN   \n",
       "3      Akshay Bhatia        77.0  0.239       103.0  0.016        16.0   \n",
       "4  Aldrich Potgieter        74.0  0.258         2.0  0.686       117.0   \n",
       "\n",
       "    SGAPR  SGATG_RANK   SGATG  SGP_RANK     SGP  BIRDIES_RANK BIRDIES  \\\n",
       "0   0.247        68.0   0.087     113.0  -0.047          90.0  21.67%   \n",
       "1   0.070        57.0   0.120     103.0  -0.016          93.0  21.58%   \n",
       "2     NaN         NaN     NaN       NaN     NaN           NaN     NaN   \n",
       "3   0.566       164.0  -0.343      22.0   0.362          14.0  24.07%   \n",
       "4  -0.102       162.0  -0.326      72.0   0.132          29.0  23.36%   \n",
       "\n",
       "   PAR_3_RANK PAR_3  PAR_4_RANK PAR_4  PAR_5_RANK PAR_5  TOTAL_DRIVING_RANK  \\\n",
       "0       177.0  3.18        10.0  3.98        48.0  4.57                76.0   \n",
       "1       140.0  3.10       134.0  4.05        37.0  4.56               128.0   \n",
       "2         NaN   NaN         NaN   NaN         NaN   NaN                 NaN   \n",
       "3         3.0  2.97        55.0  4.01       166.0  4.70               135.0   \n",
       "4        94.0  3.07        81.0  4.02       141.0  4.66                30.0   \n",
       "\n",
       "  TOTAL_DRIVING  DRIVING_DISTANCE_RANK DRIVING_DISTANCE  \\\n",
       "0           171                  169.0            287.8   \n",
       "1           203                   81.0            303.5   \n",
       "2           NaN                    NaN              NaN   \n",
       "3           207                  156.0            294.8   \n",
       "4           136                    1.0            328.2   \n",
       "\n",
       "   DRIVING_ACCURACY_RANK DRIVING_ACCURACY  GIR_RANK     GIR  SCRAMBLING_RANK  \\\n",
       "0                    2.0           73.62%      25.0  69.26%            102.0   \n",
       "1                  122.0           56.77%     123.0  64.96%            124.0   \n",
       "2                    NaN              NaN       NaN     NaN              NaN   \n",
       "3                   51.0           62.38%      54.0  67.22%            161.0   \n",
       "4                  135.0           55.78%     101.0  65.40%            173.0   \n",
       "\n",
       "  SCRAMBLING  OWGR_RANK    OWGR  SEASON  VEGAS_ODDS  CUT_PERCENTAGE  \\\n",
       "0     59.04%       36.0  2.6092  2025.0        80.0            77.8   \n",
       "1     57.62%       40.0  2.4616  2025.0        70.0            85.7   \n",
       "2        NaN      139.0  1.0797  2025.0       400.0             0.0   \n",
       "3     55.08%       38.0  2.5083  2025.0       150.0            77.8   \n",
       "4     52.19%       53.0  2.0898  2025.0       200.0            35.7   \n",
       "\n",
       "   FEDEX_CUP_POINTS  form_density  CONSECUTIVE_CUTS  RECENT_FORM  adj_form  \\\n",
       "0           669.980         37.22               3.0         38.8     13.18   \n",
       "1           439.203         31.37               7.0         38.5     14.22   \n",
       "2             0.000          0.00               0.0         90.0    129.84   \n",
       "3           840.990         46.72               2.0         39.9     13.55   \n",
       "4           941.000         67.21               0.0         62.9     23.23   \n",
       "\n",
       "   COURSE_HISTORY  adj_ch  SALARY  \n",
       "0             NaN     NaN    6900  \n",
       "1            90.0  129.84    7300  \n",
       "2             NaN     NaN    5200  \n",
       "3             NaN     NaN    6700  \n",
       "4             NaN     NaN    6300  "
      ]
     },
     "execution_count": 36,
     "metadata": {},
     "output_type": "execute_result"
    }
   ],
   "source": [
    "importlib.reload(utils.db_utils)\n",
    "from utils.db_utils import build_test_rows\n",
    "\n",
    "this_week = build_test_rows(\n",
    "    db_path=db_path,\n",
    "    stats_df=stats_df,\n",
    "    odds_df=odds_current,\n",
    "    cuts_df=cuts_current,\n",
    "    recent_form_df=recent_form_current,\n",
    "    course_hist_df=course_hist_current,\n",
    "    dk_df=dk,\n",
    "    season=tournament_config[\"new\"][\"season\"]\n",
    ")\n",
    "\n",
    "this_week.head()"
   ]
  },
  {
   "cell_type": "markdown",
   "id": "e30b6643",
   "metadata": {},
   "source": [
    "### Dataframe Normalization\n",
    "\n",
    "Run the same normalization techniques that I ran on the historical data:\n",
    "- Any NaN Odds go to 1000/1 and clip all values at 1000/1\n",
    "- OWGR NaN values go to 1000\n",
    "- Recent form NaN values act like a MC at 90\n",
    "- Average everything else."
   ]
  },
  {
   "cell_type": "code",
   "execution_count": 37,
   "id": "cfea9168",
   "metadata": {},
   "outputs": [],
   "source": [
    "# === 1. Clean percentage stats stored as strings like '62.5%' ===\n",
    "percent_stats = [\"SCRAMBLING\", \"DRIVING_ACCURACY\", \"BIRDIES\", \"GIR\"]\n",
    "\n",
    "for col in percent_stats:\n",
    "    if col in this_week.columns:\n",
    "        this_week[col] = (\n",
    "            this_week[col]\n",
    "            .astype(str)\n",
    "            .str.replace('%', '', regex=False)\n",
    "            .replace(['None', 'nan', 'NaN', '--', 'DNP', ''], np.nan)\n",
    "        )\n",
    "        this_week[col] = pd.to_numeric(this_week[col], errors=\"coerce\")\n",
    "\n",
    "# === 2. Normalize & assign fallback values for key fields ===\n",
    "this_week[\"VEGAS_ODDS\"] = pd.to_numeric(this_week[\"VEGAS_ODDS\"], errors=\"coerce\").fillna(1000).clip(upper=1000)\n",
    "\n",
    "if \"OWGR\" in this_week.columns:\n",
    "    this_week[\"OWGR\"] = pd.to_numeric(this_week[\"OWGR\"], errors=\"coerce\")\n",
    "    max_owgr = this_week[\"OWGR\"].dropna().max()\n",
    "    this_week[\"OWGR\"] = this_week[\"OWGR\"].fillna(max_owgr).clip(upper=1000)\n",
    "\n",
    "if \"OWGR_RANK\" in this_week.columns:\n",
    "    this_week[\"OWGR_RANK\"] = pd.to_numeric(this_week[\"OWGR_RANK\"], errors=\"coerce\").fillna(1000).clip(upper=1000)\n",
    "\n",
    "this_week[\"RECENT_FORM\"] = pd.to_numeric(this_week[\"RECENT_FORM\"], errors=\"coerce\").fillna(90)\n",
    "this_week[\"FEDEX_CUP_POINTS\"] = pd.to_numeric(this_week[\"FEDEX_CUP_POINTS\"], errors=\"coerce\").fillna(0)\n",
    "\n",
    "if \"COURSE_HISTORY\" in this_week.columns:\n",
    "    this_week[\"COURSE_HISTORY\"] = pd.to_numeric(this_week[\"COURSE_HISTORY\"], errors=\"coerce\")\n",
    "    ch_mean = this_week[\"COURSE_HISTORY\"].mean()\n",
    "    this_week[\"COURSE_HISTORY\"] = this_week[\"COURSE_HISTORY\"].fillna(ch_mean)\n",
    "\n",
    "# === 3. Fill all remaining NaNs in numeric columns ===\n",
    "# Recast everything that might look numeric to be sure\n",
    "for col in this_week.columns:\n",
    "    if col not in [\"PLAYER\", \"SALARY\", \"TOURNAMENT\", \"SEASON\"]:\n",
    "        try:\n",
    "            this_week[col] = pd.to_numeric(this_week[col], errors=\"coerce\")\n",
    "        except Exception:\n",
    "            continue\n",
    "\n",
    "numeric_cols = this_week.select_dtypes(include=[\"number\"]).columns.tolist()\n",
    "\n",
    "for col in numeric_cols:\n",
    "    if this_week[col].isna().any():\n",
    "        col_mean = this_week[col].mean()\n",
    "        this_week[col] = this_week[col].fillna(col_mean if not np.isnan(col_mean) else 0)\n"
   ]
  },
  {
   "cell_type": "code",
   "execution_count": 38,
   "id": "4b122fc3",
   "metadata": {},
   "outputs": [],
   "source": [
    "# === Final Check: No NaNs Should Remain ===\n",
    "assert this_week.isna().sum().sum() == 0, \"🚨 Still missing values in prediction set!\""
   ]
  },
  {
   "cell_type": "code",
   "execution_count": 39,
   "id": "b75f2cff",
   "metadata": {},
   "outputs": [
    {
     "name": "stdout",
     "output_type": "stream",
     "text": [
      "🧹 Columns still containing NaN values:\n"
     ]
    },
    {
     "data": {
      "text/plain": [
       "Series([], dtype: int64)"
      ]
     },
     "metadata": {},
     "output_type": "display_data"
    }
   ],
   "source": [
    "# === Check for Remaining Missing Values ===\n",
    "missing_summary = this_week.isna().sum()\n",
    "missing_summary = missing_summary[missing_summary > 0].sort_values(ascending=False)\n",
    "\n",
    "print(\"🧹 Columns still containing NaN values:\")\n",
    "display(missing_summary)"
   ]
  },
  {
   "cell_type": "code",
   "execution_count": 40,
   "id": "cc925bbf",
   "metadata": {},
   "outputs": [
    {
     "data": {
      "text/html": [
       "<div>\n",
       "<style scoped>\n",
       "    .dataframe tbody tr th:only-of-type {\n",
       "        vertical-align: middle;\n",
       "    }\n",
       "\n",
       "    .dataframe tbody tr th {\n",
       "        vertical-align: top;\n",
       "    }\n",
       "\n",
       "    .dataframe thead th {\n",
       "        text-align: right;\n",
       "    }\n",
       "</style>\n",
       "<table border=\"1\" class=\"dataframe\">\n",
       "  <thead>\n",
       "    <tr style=\"text-align: right;\">\n",
       "      <th></th>\n",
       "      <th>PLAYER</th>\n",
       "      <th>SGTTG_RANK</th>\n",
       "      <th>SGTTG</th>\n",
       "      <th>SGOTT_RANK</th>\n",
       "      <th>SGOTT</th>\n",
       "      <th>SGAPR_RANK</th>\n",
       "      <th>SGAPR</th>\n",
       "      <th>SGATG_RANK</th>\n",
       "      <th>SGATG</th>\n",
       "      <th>SGP_RANK</th>\n",
       "      <th>SGP</th>\n",
       "      <th>BIRDIES_RANK</th>\n",
       "      <th>BIRDIES</th>\n",
       "      <th>PAR_3_RANK</th>\n",
       "      <th>PAR_3</th>\n",
       "      <th>PAR_4_RANK</th>\n",
       "      <th>PAR_4</th>\n",
       "      <th>PAR_5_RANK</th>\n",
       "      <th>PAR_5</th>\n",
       "      <th>TOTAL_DRIVING_RANK</th>\n",
       "      <th>TOTAL_DRIVING</th>\n",
       "      <th>DRIVING_DISTANCE_RANK</th>\n",
       "      <th>DRIVING_DISTANCE</th>\n",
       "      <th>DRIVING_ACCURACY_RANK</th>\n",
       "      <th>DRIVING_ACCURACY</th>\n",
       "      <th>GIR_RANK</th>\n",
       "      <th>GIR</th>\n",
       "      <th>SCRAMBLING_RANK</th>\n",
       "      <th>SCRAMBLING</th>\n",
       "      <th>OWGR_RANK</th>\n",
       "      <th>OWGR</th>\n",
       "      <th>SEASON</th>\n",
       "      <th>VEGAS_ODDS</th>\n",
       "      <th>CUT_PERCENTAGE</th>\n",
       "      <th>FEDEX_CUP_POINTS</th>\n",
       "      <th>form_density</th>\n",
       "      <th>CONSECUTIVE_CUTS</th>\n",
       "      <th>RECENT_FORM</th>\n",
       "      <th>adj_form</th>\n",
       "      <th>COURSE_HISTORY</th>\n",
       "      <th>adj_ch</th>\n",
       "      <th>SALARY</th>\n",
       "    </tr>\n",
       "  </thead>\n",
       "  <tbody>\n",
       "    <tr>\n",
       "      <th>0</th>\n",
       "      <td>Aaron Rai</td>\n",
       "      <td>28.000000</td>\n",
       "      <td>0.724000</td>\n",
       "      <td>22.000000</td>\n",
       "      <td>0.390000</td>\n",
       "      <td>50.000000</td>\n",
       "      <td>0.247000</td>\n",
       "      <td>68.000000</td>\n",
       "      <td>0.087000</td>\n",
       "      <td>113.000000</td>\n",
       "      <td>-0.047000</td>\n",
       "      <td>90.000000</td>\n",
       "      <td>21.670000</td>\n",
       "      <td>177.000000</td>\n",
       "      <td>3.180000</td>\n",
       "      <td>10.000000</td>\n",
       "      <td>3.980000</td>\n",
       "      <td>48.00000</td>\n",
       "      <td>4.570000</td>\n",
       "      <td>76.000000</td>\n",
       "      <td>171.000000</td>\n",
       "      <td>169.000000</td>\n",
       "      <td>287.800000</td>\n",
       "      <td>2.000000</td>\n",
       "      <td>73.620000</td>\n",
       "      <td>25.000000</td>\n",
       "      <td>69.260000</td>\n",
       "      <td>102.000000</td>\n",
       "      <td>59.040000</td>\n",
       "      <td>36.0</td>\n",
       "      <td>2.6092</td>\n",
       "      <td>2025.0</td>\n",
       "      <td>80.0</td>\n",
       "      <td>77.80000</td>\n",
       "      <td>669.980</td>\n",
       "      <td>37.220000</td>\n",
       "      <td>3.00000</td>\n",
       "      <td>38.8</td>\n",
       "      <td>13.180000</td>\n",
       "      <td>51.565217</td>\n",
       "      <td>74.391739</td>\n",
       "      <td>6900</td>\n",
       "    </tr>\n",
       "    <tr>\n",
       "      <th>1</th>\n",
       "      <td>Adam Scott</td>\n",
       "      <td>42.000000</td>\n",
       "      <td>0.512000</td>\n",
       "      <td>32.000000</td>\n",
       "      <td>0.322000</td>\n",
       "      <td>90.000000</td>\n",
       "      <td>0.070000</td>\n",
       "      <td>57.000000</td>\n",
       "      <td>0.120000</td>\n",
       "      <td>103.000000</td>\n",
       "      <td>-0.016000</td>\n",
       "      <td>93.000000</td>\n",
       "      <td>21.580000</td>\n",
       "      <td>140.000000</td>\n",
       "      <td>3.100000</td>\n",
       "      <td>134.000000</td>\n",
       "      <td>4.050000</td>\n",
       "      <td>37.00000</td>\n",
       "      <td>4.560000</td>\n",
       "      <td>128.000000</td>\n",
       "      <td>203.000000</td>\n",
       "      <td>81.000000</td>\n",
       "      <td>303.500000</td>\n",
       "      <td>122.000000</td>\n",
       "      <td>56.770000</td>\n",
       "      <td>123.000000</td>\n",
       "      <td>64.960000</td>\n",
       "      <td>124.000000</td>\n",
       "      <td>57.620000</td>\n",
       "      <td>40.0</td>\n",
       "      <td>2.4616</td>\n",
       "      <td>2025.0</td>\n",
       "      <td>70.0</td>\n",
       "      <td>85.70000</td>\n",
       "      <td>439.203</td>\n",
       "      <td>31.370000</td>\n",
       "      <td>7.00000</td>\n",
       "      <td>38.5</td>\n",
       "      <td>14.220000</td>\n",
       "      <td>90.000000</td>\n",
       "      <td>129.840000</td>\n",
       "      <td>7300</td>\n",
       "    </tr>\n",
       "    <tr>\n",
       "      <th>2</th>\n",
       "      <td>Adrien Saddier</td>\n",
       "      <td>64.123288</td>\n",
       "      <td>0.407904</td>\n",
       "      <td>75.506849</td>\n",
       "      <td>0.123658</td>\n",
       "      <td>73.876712</td>\n",
       "      <td>0.181575</td>\n",
       "      <td>70.767123</td>\n",
       "      <td>0.102726</td>\n",
       "      <td>76.068493</td>\n",
       "      <td>0.123795</td>\n",
       "      <td>71.191781</td>\n",
       "      <td>22.269589</td>\n",
       "      <td>86.712329</td>\n",
       "      <td>3.062192</td>\n",
       "      <td>67.493151</td>\n",
       "      <td>4.013973</td>\n",
       "      <td>82.30137</td>\n",
       "      <td>4.599863</td>\n",
       "      <td>90.493151</td>\n",
       "      <td>179.150685</td>\n",
       "      <td>94.041096</td>\n",
       "      <td>301.847945</td>\n",
       "      <td>85.109589</td>\n",
       "      <td>60.338356</td>\n",
       "      <td>86.575342</td>\n",
       "      <td>66.238904</td>\n",
       "      <td>91.794521</td>\n",
       "      <td>59.519178</td>\n",
       "      <td>139.0</td>\n",
       "      <td>1.0797</td>\n",
       "      <td>2025.0</td>\n",
       "      <td>400.0</td>\n",
       "      <td>0.00000</td>\n",
       "      <td>0.000</td>\n",
       "      <td>0.000000</td>\n",
       "      <td>0.00000</td>\n",
       "      <td>90.0</td>\n",
       "      <td>129.840000</td>\n",
       "      <td>51.565217</td>\n",
       "      <td>74.391739</td>\n",
       "      <td>5200</td>\n",
       "    </tr>\n",
       "    <tr>\n",
       "      <th>3</th>\n",
       "      <td>Akshay Bhatia</td>\n",
       "      <td>77.000000</td>\n",
       "      <td>0.239000</td>\n",
       "      <td>103.000000</td>\n",
       "      <td>0.016000</td>\n",
       "      <td>16.000000</td>\n",
       "      <td>0.566000</td>\n",
       "      <td>164.000000</td>\n",
       "      <td>-0.343000</td>\n",
       "      <td>22.000000</td>\n",
       "      <td>0.362000</td>\n",
       "      <td>14.000000</td>\n",
       "      <td>24.070000</td>\n",
       "      <td>3.000000</td>\n",
       "      <td>2.970000</td>\n",
       "      <td>55.000000</td>\n",
       "      <td>4.010000</td>\n",
       "      <td>166.00000</td>\n",
       "      <td>4.700000</td>\n",
       "      <td>135.000000</td>\n",
       "      <td>207.000000</td>\n",
       "      <td>156.000000</td>\n",
       "      <td>294.800000</td>\n",
       "      <td>51.000000</td>\n",
       "      <td>62.380000</td>\n",
       "      <td>54.000000</td>\n",
       "      <td>67.220000</td>\n",
       "      <td>161.000000</td>\n",
       "      <td>55.080000</td>\n",
       "      <td>38.0</td>\n",
       "      <td>2.5083</td>\n",
       "      <td>2025.0</td>\n",
       "      <td>150.0</td>\n",
       "      <td>77.80000</td>\n",
       "      <td>840.990</td>\n",
       "      <td>46.720000</td>\n",
       "      <td>2.00000</td>\n",
       "      <td>39.9</td>\n",
       "      <td>13.550000</td>\n",
       "      <td>51.565217</td>\n",
       "      <td>74.391739</td>\n",
       "      <td>6700</td>\n",
       "    </tr>\n",
       "    <tr>\n",
       "      <th>4</th>\n",
       "      <td>Aldrich Potgieter</td>\n",
       "      <td>74.000000</td>\n",
       "      <td>0.258000</td>\n",
       "      <td>2.000000</td>\n",
       "      <td>0.686000</td>\n",
       "      <td>117.000000</td>\n",
       "      <td>-0.102000</td>\n",
       "      <td>162.000000</td>\n",
       "      <td>-0.326000</td>\n",
       "      <td>72.000000</td>\n",
       "      <td>0.132000</td>\n",
       "      <td>29.000000</td>\n",
       "      <td>23.360000</td>\n",
       "      <td>94.000000</td>\n",
       "      <td>3.070000</td>\n",
       "      <td>81.000000</td>\n",
       "      <td>4.020000</td>\n",
       "      <td>141.00000</td>\n",
       "      <td>4.660000</td>\n",
       "      <td>30.000000</td>\n",
       "      <td>136.000000</td>\n",
       "      <td>1.000000</td>\n",
       "      <td>328.200000</td>\n",
       "      <td>135.000000</td>\n",
       "      <td>55.780000</td>\n",
       "      <td>101.000000</td>\n",
       "      <td>65.400000</td>\n",
       "      <td>173.000000</td>\n",
       "      <td>52.190000</td>\n",
       "      <td>53.0</td>\n",
       "      <td>2.0898</td>\n",
       "      <td>2025.0</td>\n",
       "      <td>200.0</td>\n",
       "      <td>35.70000</td>\n",
       "      <td>941.000</td>\n",
       "      <td>67.210000</td>\n",
       "      <td>0.00000</td>\n",
       "      <td>62.9</td>\n",
       "      <td>23.230000</td>\n",
       "      <td>51.565217</td>\n",
       "      <td>74.391739</td>\n",
       "      <td>6300</td>\n",
       "    </tr>\n",
       "    <tr>\n",
       "      <th>5</th>\n",
       "      <td>Andrew Novak</td>\n",
       "      <td>49.000000</td>\n",
       "      <td>0.412000</td>\n",
       "      <td>67.000000</td>\n",
       "      <td>0.166000</td>\n",
       "      <td>98.000000</td>\n",
       "      <td>0.047000</td>\n",
       "      <td>38.000000</td>\n",
       "      <td>0.199000</td>\n",
       "      <td>37.000000</td>\n",
       "      <td>0.269000</td>\n",
       "      <td>121.000000</td>\n",
       "      <td>21.060000</td>\n",
       "      <td>156.000000</td>\n",
       "      <td>3.120000</td>\n",
       "      <td>120.000000</td>\n",
       "      <td>4.040000</td>\n",
       "      <td>37.00000</td>\n",
       "      <td>4.560000</td>\n",
       "      <td>157.000000</td>\n",
       "      <td>229.000000</td>\n",
       "      <td>112.000000</td>\n",
       "      <td>299.500000</td>\n",
       "      <td>117.000000</td>\n",
       "      <td>57.330000</td>\n",
       "      <td>168.000000</td>\n",
       "      <td>61.440000</td>\n",
       "      <td>67.000000</td>\n",
       "      <td>60.650000</td>\n",
       "      <td>31.0</td>\n",
       "      <td>2.6756</td>\n",
       "      <td>2025.0</td>\n",
       "      <td>150.0</td>\n",
       "      <td>66.70000</td>\n",
       "      <td>1583.125</td>\n",
       "      <td>65.960000</td>\n",
       "      <td>5.00000</td>\n",
       "      <td>43.6</td>\n",
       "      <td>13.550000</td>\n",
       "      <td>51.565217</td>\n",
       "      <td>74.391739</td>\n",
       "      <td>6200</td>\n",
       "    </tr>\n",
       "    <tr>\n",
       "      <th>6</th>\n",
       "      <td>Angel Hidalgo</td>\n",
       "      <td>64.123288</td>\n",
       "      <td>0.407904</td>\n",
       "      <td>75.506849</td>\n",
       "      <td>0.123658</td>\n",
       "      <td>73.876712</td>\n",
       "      <td>0.181575</td>\n",
       "      <td>70.767123</td>\n",
       "      <td>0.102726</td>\n",
       "      <td>76.068493</td>\n",
       "      <td>0.123795</td>\n",
       "      <td>71.191781</td>\n",
       "      <td>22.269589</td>\n",
       "      <td>86.712329</td>\n",
       "      <td>3.062192</td>\n",
       "      <td>67.493151</td>\n",
       "      <td>4.013973</td>\n",
       "      <td>82.30137</td>\n",
       "      <td>4.599863</td>\n",
       "      <td>90.493151</td>\n",
       "      <td>179.150685</td>\n",
       "      <td>94.041096</td>\n",
       "      <td>301.847945</td>\n",
       "      <td>85.109589</td>\n",
       "      <td>60.338356</td>\n",
       "      <td>86.575342</td>\n",
       "      <td>66.238904</td>\n",
       "      <td>91.794521</td>\n",
       "      <td>59.519178</td>\n",
       "      <td>1000.0</td>\n",
       "      <td>17.9550</td>\n",
       "      <td>2025.0</td>\n",
       "      <td>1000.0</td>\n",
       "      <td>65.49115</td>\n",
       "      <td>0.000</td>\n",
       "      <td>38.612743</td>\n",
       "      <td>2.19469</td>\n",
       "      <td>90.0</td>\n",
       "      <td>34.037522</td>\n",
       "      <td>51.565217</td>\n",
       "      <td>74.391739</td>\n",
       "      <td>5400</td>\n",
       "    </tr>\n",
       "    <tr>\n",
       "      <th>7</th>\n",
       "      <td>Antoine Rozner</td>\n",
       "      <td>89.000000</td>\n",
       "      <td>0.137000</td>\n",
       "      <td>115.000000</td>\n",
       "      <td>-0.026000</td>\n",
       "      <td>28.000000</td>\n",
       "      <td>0.454000</td>\n",
       "      <td>159.000000</td>\n",
       "      <td>-0.291000</td>\n",
       "      <td>129.000000</td>\n",
       "      <td>-0.113000</td>\n",
       "      <td>39.000000</td>\n",
       "      <td>22.880000</td>\n",
       "      <td>1.000000</td>\n",
       "      <td>2.960000</td>\n",
       "      <td>134.000000</td>\n",
       "      <td>4.050000</td>\n",
       "      <td>76.00000</td>\n",
       "      <td>4.600000</td>\n",
       "      <td>74.000000</td>\n",
       "      <td>170.000000</td>\n",
       "      <td>40.000000</td>\n",
       "      <td>308.400000</td>\n",
       "      <td>130.000000</td>\n",
       "      <td>56.300000</td>\n",
       "      <td>23.000000</td>\n",
       "      <td>69.280000</td>\n",
       "      <td>162.000000</td>\n",
       "      <td>54.960000</td>\n",
       "      <td>148.0</td>\n",
       "      <td>0.9949</td>\n",
       "      <td>2025.0</td>\n",
       "      <td>500.0</td>\n",
       "      <td>90.90000</td>\n",
       "      <td>173.796</td>\n",
       "      <td>15.800000</td>\n",
       "      <td>10.00000</td>\n",
       "      <td>50.9</td>\n",
       "      <td>20.480000</td>\n",
       "      <td>51.565217</td>\n",
       "      <td>74.391739</td>\n",
       "      <td>5600</td>\n",
       "    </tr>\n",
       "    <tr>\n",
       "      <th>8</th>\n",
       "      <td>Ben Griffin</td>\n",
       "      <td>21.000000</td>\n",
       "      <td>0.844000</td>\n",
       "      <td>46.000000</td>\n",
       "      <td>0.265000</td>\n",
       "      <td>32.000000</td>\n",
       "      <td>0.411000</td>\n",
       "      <td>46.000000</td>\n",
       "      <td>0.168000</td>\n",
       "      <td>50.000000</td>\n",
       "      <td>0.200000</td>\n",
       "      <td>52.000000</td>\n",
       "      <td>22.510000</td>\n",
       "      <td>26.000000</td>\n",
       "      <td>3.020000</td>\n",
       "      <td>33.000000</td>\n",
       "      <td>4.000000</td>\n",
       "      <td>26.00000</td>\n",
       "      <td>4.540000</td>\n",
       "      <td>67.000000</td>\n",
       "      <td>167.000000</td>\n",
       "      <td>73.000000</td>\n",
       "      <td>304.500000</td>\n",
       "      <td>94.000000</td>\n",
       "      <td>59.520000</td>\n",
       "      <td>20.000000</td>\n",
       "      <td>69.590000</td>\n",
       "      <td>74.000000</td>\n",
       "      <td>60.190000</td>\n",
       "      <td>16.0</td>\n",
       "      <td>3.9902</td>\n",
       "      <td>2025.0</td>\n",
       "      <td>80.0</td>\n",
       "      <td>77.80000</td>\n",
       "      <td>2021.463</td>\n",
       "      <td>74.870000</td>\n",
       "      <td>0.00000</td>\n",
       "      <td>37.6</td>\n",
       "      <td>11.280000</td>\n",
       "      <td>51.565217</td>\n",
       "      <td>74.391739</td>\n",
       "      <td>7300</td>\n",
       "    </tr>\n",
       "    <tr>\n",
       "      <th>9</th>\n",
       "      <td>Brian Campbell</td>\n",
       "      <td>149.000000</td>\n",
       "      <td>-0.470000</td>\n",
       "      <td>174.000000</td>\n",
       "      <td>-1.006000</td>\n",
       "      <td>49.000000</td>\n",
       "      <td>0.253000</td>\n",
       "      <td>23.000000</td>\n",
       "      <td>0.284000</td>\n",
       "      <td>26.000000</td>\n",
       "      <td>0.352000</td>\n",
       "      <td>90.000000</td>\n",
       "      <td>21.670000</td>\n",
       "      <td>48.000000</td>\n",
       "      <td>3.040000</td>\n",
       "      <td>157.000000</td>\n",
       "      <td>4.070000</td>\n",
       "      <td>133.00000</td>\n",
       "      <td>4.650000</td>\n",
       "      <td>127.000000</td>\n",
       "      <td>197.000000</td>\n",
       "      <td>177.000000</td>\n",
       "      <td>277.100000</td>\n",
       "      <td>20.000000</td>\n",
       "      <td>66.330000</td>\n",
       "      <td>149.000000</td>\n",
       "      <td>63.330000</td>\n",
       "      <td>122.000000</td>\n",
       "      <td>57.880000</td>\n",
       "      <td>57.0</td>\n",
       "      <td>2.0542</td>\n",
       "      <td>2025.0</td>\n",
       "      <td>600.0</td>\n",
       "      <td>44.40000</td>\n",
       "      <td>1103.535</td>\n",
       "      <td>61.310000</td>\n",
       "      <td>0.00000</td>\n",
       "      <td>64.1</td>\n",
       "      <td>21.770000</td>\n",
       "      <td>51.565217</td>\n",
       "      <td>74.391739</td>\n",
       "      <td>5400</td>\n",
       "    </tr>\n",
       "  </tbody>\n",
       "</table>\n",
       "</div>"
      ],
      "text/plain": [
       "              PLAYER  SGTTG_RANK     SGTTG  SGOTT_RANK     SGOTT  SGAPR_RANK  \\\n",
       "0          Aaron Rai   28.000000  0.724000   22.000000  0.390000   50.000000   \n",
       "1         Adam Scott   42.000000  0.512000   32.000000  0.322000   90.000000   \n",
       "2     Adrien Saddier   64.123288  0.407904   75.506849  0.123658   73.876712   \n",
       "3      Akshay Bhatia   77.000000  0.239000  103.000000  0.016000   16.000000   \n",
       "4  Aldrich Potgieter   74.000000  0.258000    2.000000  0.686000  117.000000   \n",
       "5       Andrew Novak   49.000000  0.412000   67.000000  0.166000   98.000000   \n",
       "6      Angel Hidalgo   64.123288  0.407904   75.506849  0.123658   73.876712   \n",
       "7     Antoine Rozner   89.000000  0.137000  115.000000 -0.026000   28.000000   \n",
       "8        Ben Griffin   21.000000  0.844000   46.000000  0.265000   32.000000   \n",
       "9     Brian Campbell  149.000000 -0.470000  174.000000 -1.006000   49.000000   \n",
       "\n",
       "      SGAPR  SGATG_RANK     SGATG    SGP_RANK       SGP  BIRDIES_RANK  \\\n",
       "0  0.247000   68.000000  0.087000  113.000000 -0.047000     90.000000   \n",
       "1  0.070000   57.000000  0.120000  103.000000 -0.016000     93.000000   \n",
       "2  0.181575   70.767123  0.102726   76.068493  0.123795     71.191781   \n",
       "3  0.566000  164.000000 -0.343000   22.000000  0.362000     14.000000   \n",
       "4 -0.102000  162.000000 -0.326000   72.000000  0.132000     29.000000   \n",
       "5  0.047000   38.000000  0.199000   37.000000  0.269000    121.000000   \n",
       "6  0.181575   70.767123  0.102726   76.068493  0.123795     71.191781   \n",
       "7  0.454000  159.000000 -0.291000  129.000000 -0.113000     39.000000   \n",
       "8  0.411000   46.000000  0.168000   50.000000  0.200000     52.000000   \n",
       "9  0.253000   23.000000  0.284000   26.000000  0.352000     90.000000   \n",
       "\n",
       "     BIRDIES  PAR_3_RANK     PAR_3  PAR_4_RANK     PAR_4  PAR_5_RANK  \\\n",
       "0  21.670000  177.000000  3.180000   10.000000  3.980000    48.00000   \n",
       "1  21.580000  140.000000  3.100000  134.000000  4.050000    37.00000   \n",
       "2  22.269589   86.712329  3.062192   67.493151  4.013973    82.30137   \n",
       "3  24.070000    3.000000  2.970000   55.000000  4.010000   166.00000   \n",
       "4  23.360000   94.000000  3.070000   81.000000  4.020000   141.00000   \n",
       "5  21.060000  156.000000  3.120000  120.000000  4.040000    37.00000   \n",
       "6  22.269589   86.712329  3.062192   67.493151  4.013973    82.30137   \n",
       "7  22.880000    1.000000  2.960000  134.000000  4.050000    76.00000   \n",
       "8  22.510000   26.000000  3.020000   33.000000  4.000000    26.00000   \n",
       "9  21.670000   48.000000  3.040000  157.000000  4.070000   133.00000   \n",
       "\n",
       "      PAR_5  TOTAL_DRIVING_RANK  TOTAL_DRIVING  DRIVING_DISTANCE_RANK  \\\n",
       "0  4.570000           76.000000     171.000000             169.000000   \n",
       "1  4.560000          128.000000     203.000000              81.000000   \n",
       "2  4.599863           90.493151     179.150685              94.041096   \n",
       "3  4.700000          135.000000     207.000000             156.000000   \n",
       "4  4.660000           30.000000     136.000000               1.000000   \n",
       "5  4.560000          157.000000     229.000000             112.000000   \n",
       "6  4.599863           90.493151     179.150685              94.041096   \n",
       "7  4.600000           74.000000     170.000000              40.000000   \n",
       "8  4.540000           67.000000     167.000000              73.000000   \n",
       "9  4.650000          127.000000     197.000000             177.000000   \n",
       "\n",
       "   DRIVING_DISTANCE  DRIVING_ACCURACY_RANK  DRIVING_ACCURACY    GIR_RANK  \\\n",
       "0        287.800000               2.000000         73.620000   25.000000   \n",
       "1        303.500000             122.000000         56.770000  123.000000   \n",
       "2        301.847945              85.109589         60.338356   86.575342   \n",
       "3        294.800000              51.000000         62.380000   54.000000   \n",
       "4        328.200000             135.000000         55.780000  101.000000   \n",
       "5        299.500000             117.000000         57.330000  168.000000   \n",
       "6        301.847945              85.109589         60.338356   86.575342   \n",
       "7        308.400000             130.000000         56.300000   23.000000   \n",
       "8        304.500000              94.000000         59.520000   20.000000   \n",
       "9        277.100000              20.000000         66.330000  149.000000   \n",
       "\n",
       "         GIR  SCRAMBLING_RANK  SCRAMBLING  OWGR_RANK     OWGR  SEASON  \\\n",
       "0  69.260000       102.000000   59.040000       36.0   2.6092  2025.0   \n",
       "1  64.960000       124.000000   57.620000       40.0   2.4616  2025.0   \n",
       "2  66.238904        91.794521   59.519178      139.0   1.0797  2025.0   \n",
       "3  67.220000       161.000000   55.080000       38.0   2.5083  2025.0   \n",
       "4  65.400000       173.000000   52.190000       53.0   2.0898  2025.0   \n",
       "5  61.440000        67.000000   60.650000       31.0   2.6756  2025.0   \n",
       "6  66.238904        91.794521   59.519178     1000.0  17.9550  2025.0   \n",
       "7  69.280000       162.000000   54.960000      148.0   0.9949  2025.0   \n",
       "8  69.590000        74.000000   60.190000       16.0   3.9902  2025.0   \n",
       "9  63.330000       122.000000   57.880000       57.0   2.0542  2025.0   \n",
       "\n",
       "   VEGAS_ODDS  CUT_PERCENTAGE  FEDEX_CUP_POINTS  form_density  \\\n",
       "0        80.0        77.80000           669.980     37.220000   \n",
       "1        70.0        85.70000           439.203     31.370000   \n",
       "2       400.0         0.00000             0.000      0.000000   \n",
       "3       150.0        77.80000           840.990     46.720000   \n",
       "4       200.0        35.70000           941.000     67.210000   \n",
       "5       150.0        66.70000          1583.125     65.960000   \n",
       "6      1000.0        65.49115             0.000     38.612743   \n",
       "7       500.0        90.90000           173.796     15.800000   \n",
       "8        80.0        77.80000          2021.463     74.870000   \n",
       "9       600.0        44.40000          1103.535     61.310000   \n",
       "\n",
       "   CONSECUTIVE_CUTS  RECENT_FORM    adj_form  COURSE_HISTORY      adj_ch  \\\n",
       "0           3.00000         38.8   13.180000       51.565217   74.391739   \n",
       "1           7.00000         38.5   14.220000       90.000000  129.840000   \n",
       "2           0.00000         90.0  129.840000       51.565217   74.391739   \n",
       "3           2.00000         39.9   13.550000       51.565217   74.391739   \n",
       "4           0.00000         62.9   23.230000       51.565217   74.391739   \n",
       "5           5.00000         43.6   13.550000       51.565217   74.391739   \n",
       "6           2.19469         90.0   34.037522       51.565217   74.391739   \n",
       "7          10.00000         50.9   20.480000       51.565217   74.391739   \n",
       "8           0.00000         37.6   11.280000       51.565217   74.391739   \n",
       "9           0.00000         64.1   21.770000       51.565217   74.391739   \n",
       "\n",
       "   SALARY  \n",
       "0    6900  \n",
       "1    7300  \n",
       "2    5200  \n",
       "3    6700  \n",
       "4    6300  \n",
       "5    6200  \n",
       "6    5400  \n",
       "7    5600  \n",
       "8    7300  \n",
       "9    5400  "
      ]
     },
     "execution_count": 40,
     "metadata": {},
     "output_type": "execute_result"
    }
   ],
   "source": [
    "this_week.head(10)"
   ]
  },
  {
   "cell_type": "markdown",
   "id": "e37950e7",
   "metadata": {},
   "source": [
    "## Correlations\n",
    "**Last 4 Years**"
   ]
  },
  {
   "cell_type": "code",
   "execution_count": 41,
   "id": "d749a70f",
   "metadata": {},
   "outputs": [
    {
     "data": {
      "application/vnd.plotly.v1+json": {
       "config": {
        "plotlyServerURL": "https://plot.ly"
       },
       "data": [
        {
         "hovertemplate": "Feature=%{x}<br>Correlation=%{y}<extra></extra>",
         "legendgroup": "",
         "marker": {
          "color": "#636efa",
          "pattern": {
           "shape": ""
          }
         },
         "name": "",
         "orientation": "v",
         "showlegend": false,
         "textposition": "auto",
         "type": "bar",
         "x": [
          "OWGR",
          "BIRDIES",
          "GIR",
          "RECENT_FORM",
          "PAR_4",
          "GIR_RANK",
          "PAR_4_RANK",
          "VEGAS_ODDS",
          "SGTTG",
          "BIRDIES_RANK",
          "FEDEX_CUP_POINTS",
          "PAR_5_RANK",
          "PAR_5",
          "SGTTG_RANK",
          "OWGR_RANK",
          "form_density",
          "SGAPR",
          "TOTAL_DRIVING",
          "TOTAL_DRIVING_RANK",
          "PAR_3_RANK",
          "SGAPR_RANK",
          "CONSECUTIVE_CUTS",
          "SGOTT",
          "SGOTT_RANK",
          "adj_form",
          "PAR_3",
          "CUT_PERCENTAGE",
          "SGATG_RANK",
          "SGATG",
          "DRIVING_ACCURACY_RANK",
          "SCRAMBLING",
          "DRIVING_ACCURACY",
          "SCRAMBLING_RANK",
          "DRIVING_DISTANCE",
          "DRIVING_DISTANCE_RANK",
          "SGP_RANK",
          "SGP"
         ],
         "xaxis": "x",
         "y": {
          "bdata": "fDlN5dCf2z/Rdvw1YbHUP4UmgI/JrNQ/ZSoNRvU01D/wmKlIJjDUP3FUlkbZsdM/QtCKTuyU0z8Za2hBV4zTP1OSLHz0D9M/LvehcMIP0z/SFCQaGWHSPyNLkLkCItI/xlKlgW400T+mCBlVn1DQP0CJ3yyYEdA/reKhIPPrzz+a2UkHYxLPP2dL4DOiWc0/RuQqulwwzT8jXEpRu2rLP4nMIVxl9sk/SD28Im7jyT91NytZ5cvHPwwLjz4ZUsc/L0BNDJV4xj+OIK7hfhrFP0P5JcPlDcQ/F7C1wZ8swD8h83TEMBHAP60ct30U3rs/+5uO6Tmtuz8BoUridMC6PyitaqXTo7g/r/qLKFR1tT+kUSQZ/rqyPxE96Hue/aw/QbsykaT7oj8=",
          "dtype": "f8"
         },
         "yaxis": "y"
        }
       ],
       "layout": {
        "barmode": "relative",
        "height": 500,
        "legend": {
         "tracegroupgap": 0
        },
        "template": {
         "data": {
          "bar": [
           {
            "error_x": {
             "color": "#f2f5fa"
            },
            "error_y": {
             "color": "#f2f5fa"
            },
            "marker": {
             "line": {
              "color": "rgb(17,17,17)",
              "width": 0.5
             },
             "pattern": {
              "fillmode": "overlay",
              "size": 10,
              "solidity": 0.2
             }
            },
            "type": "bar"
           }
          ],
          "barpolar": [
           {
            "marker": {
             "line": {
              "color": "rgb(17,17,17)",
              "width": 0.5
             },
             "pattern": {
              "fillmode": "overlay",
              "size": 10,
              "solidity": 0.2
             }
            },
            "type": "barpolar"
           }
          ],
          "carpet": [
           {
            "aaxis": {
             "endlinecolor": "#A2B1C6",
             "gridcolor": "#506784",
             "linecolor": "#506784",
             "minorgridcolor": "#506784",
             "startlinecolor": "#A2B1C6"
            },
            "baxis": {
             "endlinecolor": "#A2B1C6",
             "gridcolor": "#506784",
             "linecolor": "#506784",
             "minorgridcolor": "#506784",
             "startlinecolor": "#A2B1C6"
            },
            "type": "carpet"
           }
          ],
          "choropleth": [
           {
            "colorbar": {
             "outlinewidth": 0,
             "ticks": ""
            },
            "type": "choropleth"
           }
          ],
          "contour": [
           {
            "colorbar": {
             "outlinewidth": 0,
             "ticks": ""
            },
            "colorscale": [
             [
              0,
              "#0d0887"
             ],
             [
              0.1111111111111111,
              "#46039f"
             ],
             [
              0.2222222222222222,
              "#7201a8"
             ],
             [
              0.3333333333333333,
              "#9c179e"
             ],
             [
              0.4444444444444444,
              "#bd3786"
             ],
             [
              0.5555555555555556,
              "#d8576b"
             ],
             [
              0.6666666666666666,
              "#ed7953"
             ],
             [
              0.7777777777777778,
              "#fb9f3a"
             ],
             [
              0.8888888888888888,
              "#fdca26"
             ],
             [
              1,
              "#f0f921"
             ]
            ],
            "type": "contour"
           }
          ],
          "contourcarpet": [
           {
            "colorbar": {
             "outlinewidth": 0,
             "ticks": ""
            },
            "type": "contourcarpet"
           }
          ],
          "heatmap": [
           {
            "colorbar": {
             "outlinewidth": 0,
             "ticks": ""
            },
            "colorscale": [
             [
              0,
              "#0d0887"
             ],
             [
              0.1111111111111111,
              "#46039f"
             ],
             [
              0.2222222222222222,
              "#7201a8"
             ],
             [
              0.3333333333333333,
              "#9c179e"
             ],
             [
              0.4444444444444444,
              "#bd3786"
             ],
             [
              0.5555555555555556,
              "#d8576b"
             ],
             [
              0.6666666666666666,
              "#ed7953"
             ],
             [
              0.7777777777777778,
              "#fb9f3a"
             ],
             [
              0.8888888888888888,
              "#fdca26"
             ],
             [
              1,
              "#f0f921"
             ]
            ],
            "type": "heatmap"
           }
          ],
          "histogram": [
           {
            "marker": {
             "pattern": {
              "fillmode": "overlay",
              "size": 10,
              "solidity": 0.2
             }
            },
            "type": "histogram"
           }
          ],
          "histogram2d": [
           {
            "colorbar": {
             "outlinewidth": 0,
             "ticks": ""
            },
            "colorscale": [
             [
              0,
              "#0d0887"
             ],
             [
              0.1111111111111111,
              "#46039f"
             ],
             [
              0.2222222222222222,
              "#7201a8"
             ],
             [
              0.3333333333333333,
              "#9c179e"
             ],
             [
              0.4444444444444444,
              "#bd3786"
             ],
             [
              0.5555555555555556,
              "#d8576b"
             ],
             [
              0.6666666666666666,
              "#ed7953"
             ],
             [
              0.7777777777777778,
              "#fb9f3a"
             ],
             [
              0.8888888888888888,
              "#fdca26"
             ],
             [
              1,
              "#f0f921"
             ]
            ],
            "type": "histogram2d"
           }
          ],
          "histogram2dcontour": [
           {
            "colorbar": {
             "outlinewidth": 0,
             "ticks": ""
            },
            "colorscale": [
             [
              0,
              "#0d0887"
             ],
             [
              0.1111111111111111,
              "#46039f"
             ],
             [
              0.2222222222222222,
              "#7201a8"
             ],
             [
              0.3333333333333333,
              "#9c179e"
             ],
             [
              0.4444444444444444,
              "#bd3786"
             ],
             [
              0.5555555555555556,
              "#d8576b"
             ],
             [
              0.6666666666666666,
              "#ed7953"
             ],
             [
              0.7777777777777778,
              "#fb9f3a"
             ],
             [
              0.8888888888888888,
              "#fdca26"
             ],
             [
              1,
              "#f0f921"
             ]
            ],
            "type": "histogram2dcontour"
           }
          ],
          "mesh3d": [
           {
            "colorbar": {
             "outlinewidth": 0,
             "ticks": ""
            },
            "type": "mesh3d"
           }
          ],
          "parcoords": [
           {
            "line": {
             "colorbar": {
              "outlinewidth": 0,
              "ticks": ""
             }
            },
            "type": "parcoords"
           }
          ],
          "pie": [
           {
            "automargin": true,
            "type": "pie"
           }
          ],
          "scatter": [
           {
            "marker": {
             "line": {
              "color": "#283442"
             }
            },
            "type": "scatter"
           }
          ],
          "scatter3d": [
           {
            "line": {
             "colorbar": {
              "outlinewidth": 0,
              "ticks": ""
             }
            },
            "marker": {
             "colorbar": {
              "outlinewidth": 0,
              "ticks": ""
             }
            },
            "type": "scatter3d"
           }
          ],
          "scattercarpet": [
           {
            "marker": {
             "colorbar": {
              "outlinewidth": 0,
              "ticks": ""
             }
            },
            "type": "scattercarpet"
           }
          ],
          "scattergeo": [
           {
            "marker": {
             "colorbar": {
              "outlinewidth": 0,
              "ticks": ""
             }
            },
            "type": "scattergeo"
           }
          ],
          "scattergl": [
           {
            "marker": {
             "line": {
              "color": "#283442"
             }
            },
            "type": "scattergl"
           }
          ],
          "scattermap": [
           {
            "marker": {
             "colorbar": {
              "outlinewidth": 0,
              "ticks": ""
             }
            },
            "type": "scattermap"
           }
          ],
          "scattermapbox": [
           {
            "marker": {
             "colorbar": {
              "outlinewidth": 0,
              "ticks": ""
             }
            },
            "type": "scattermapbox"
           }
          ],
          "scatterpolar": [
           {
            "marker": {
             "colorbar": {
              "outlinewidth": 0,
              "ticks": ""
             }
            },
            "type": "scatterpolar"
           }
          ],
          "scatterpolargl": [
           {
            "marker": {
             "colorbar": {
              "outlinewidth": 0,
              "ticks": ""
             }
            },
            "type": "scatterpolargl"
           }
          ],
          "scatterternary": [
           {
            "marker": {
             "colorbar": {
              "outlinewidth": 0,
              "ticks": ""
             }
            },
            "type": "scatterternary"
           }
          ],
          "surface": [
           {
            "colorbar": {
             "outlinewidth": 0,
             "ticks": ""
            },
            "colorscale": [
             [
              0,
              "#0d0887"
             ],
             [
              0.1111111111111111,
              "#46039f"
             ],
             [
              0.2222222222222222,
              "#7201a8"
             ],
             [
              0.3333333333333333,
              "#9c179e"
             ],
             [
              0.4444444444444444,
              "#bd3786"
             ],
             [
              0.5555555555555556,
              "#d8576b"
             ],
             [
              0.6666666666666666,
              "#ed7953"
             ],
             [
              0.7777777777777778,
              "#fb9f3a"
             ],
             [
              0.8888888888888888,
              "#fdca26"
             ],
             [
              1,
              "#f0f921"
             ]
            ],
            "type": "surface"
           }
          ],
          "table": [
           {
            "cells": {
             "fill": {
              "color": "#506784"
             },
             "line": {
              "color": "rgb(17,17,17)"
             }
            },
            "header": {
             "fill": {
              "color": "#2a3f5f"
             },
             "line": {
              "color": "rgb(17,17,17)"
             }
            },
            "type": "table"
           }
          ]
         },
         "layout": {
          "annotationdefaults": {
           "arrowcolor": "#f2f5fa",
           "arrowhead": 0,
           "arrowwidth": 1
          },
          "autotypenumbers": "strict",
          "coloraxis": {
           "colorbar": {
            "outlinewidth": 0,
            "ticks": ""
           }
          },
          "colorscale": {
           "diverging": [
            [
             0,
             "#8e0152"
            ],
            [
             0.1,
             "#c51b7d"
            ],
            [
             0.2,
             "#de77ae"
            ],
            [
             0.3,
             "#f1b6da"
            ],
            [
             0.4,
             "#fde0ef"
            ],
            [
             0.5,
             "#f7f7f7"
            ],
            [
             0.6,
             "#e6f5d0"
            ],
            [
             0.7,
             "#b8e186"
            ],
            [
             0.8,
             "#7fbc41"
            ],
            [
             0.9,
             "#4d9221"
            ],
            [
             1,
             "#276419"
            ]
           ],
           "sequential": [
            [
             0,
             "#0d0887"
            ],
            [
             0.1111111111111111,
             "#46039f"
            ],
            [
             0.2222222222222222,
             "#7201a8"
            ],
            [
             0.3333333333333333,
             "#9c179e"
            ],
            [
             0.4444444444444444,
             "#bd3786"
            ],
            [
             0.5555555555555556,
             "#d8576b"
            ],
            [
             0.6666666666666666,
             "#ed7953"
            ],
            [
             0.7777777777777778,
             "#fb9f3a"
            ],
            [
             0.8888888888888888,
             "#fdca26"
            ],
            [
             1,
             "#f0f921"
            ]
           ],
           "sequentialminus": [
            [
             0,
             "#0d0887"
            ],
            [
             0.1111111111111111,
             "#46039f"
            ],
            [
             0.2222222222222222,
             "#7201a8"
            ],
            [
             0.3333333333333333,
             "#9c179e"
            ],
            [
             0.4444444444444444,
             "#bd3786"
            ],
            [
             0.5555555555555556,
             "#d8576b"
            ],
            [
             0.6666666666666666,
             "#ed7953"
            ],
            [
             0.7777777777777778,
             "#fb9f3a"
            ],
            [
             0.8888888888888888,
             "#fdca26"
            ],
            [
             1,
             "#f0f921"
            ]
           ]
          },
          "colorway": [
           "#636efa",
           "#EF553B",
           "#00cc96",
           "#ab63fa",
           "#FFA15A",
           "#19d3f3",
           "#FF6692",
           "#B6E880",
           "#FF97FF",
           "#FECB52"
          ],
          "font": {
           "color": "#f2f5fa"
          },
          "geo": {
           "bgcolor": "rgb(17,17,17)",
           "lakecolor": "rgb(17,17,17)",
           "landcolor": "rgb(17,17,17)",
           "showlakes": true,
           "showland": true,
           "subunitcolor": "#506784"
          },
          "hoverlabel": {
           "align": "left"
          },
          "hovermode": "closest",
          "mapbox": {
           "style": "dark"
          },
          "paper_bgcolor": "rgb(17,17,17)",
          "plot_bgcolor": "rgb(17,17,17)",
          "polar": {
           "angularaxis": {
            "gridcolor": "#506784",
            "linecolor": "#506784",
            "ticks": ""
           },
           "bgcolor": "rgb(17,17,17)",
           "radialaxis": {
            "gridcolor": "#506784",
            "linecolor": "#506784",
            "ticks": ""
           }
          },
          "scene": {
           "xaxis": {
            "backgroundcolor": "rgb(17,17,17)",
            "gridcolor": "#506784",
            "gridwidth": 2,
            "linecolor": "#506784",
            "showbackground": true,
            "ticks": "",
            "zerolinecolor": "#C8D4E3"
           },
           "yaxis": {
            "backgroundcolor": "rgb(17,17,17)",
            "gridcolor": "#506784",
            "gridwidth": 2,
            "linecolor": "#506784",
            "showbackground": true,
            "ticks": "",
            "zerolinecolor": "#C8D4E3"
           },
           "zaxis": {
            "backgroundcolor": "rgb(17,17,17)",
            "gridcolor": "#506784",
            "gridwidth": 2,
            "linecolor": "#506784",
            "showbackground": true,
            "ticks": "",
            "zerolinecolor": "#C8D4E3"
           }
          },
          "shapedefaults": {
           "line": {
            "color": "#f2f5fa"
           }
          },
          "sliderdefaults": {
           "bgcolor": "#C8D4E3",
           "bordercolor": "rgb(17,17,17)",
           "borderwidth": 1,
           "tickwidth": 0
          },
          "ternary": {
           "aaxis": {
            "gridcolor": "#506784",
            "linecolor": "#506784",
            "ticks": ""
           },
           "baxis": {
            "gridcolor": "#506784",
            "linecolor": "#506784",
            "ticks": ""
           },
           "bgcolor": "rgb(17,17,17)",
           "caxis": {
            "gridcolor": "#506784",
            "linecolor": "#506784",
            "ticks": ""
           }
          },
          "title": {
           "x": 0.05
          },
          "updatemenudefaults": {
           "bgcolor": "#506784",
           "borderwidth": 0
          },
          "xaxis": {
           "automargin": true,
           "gridcolor": "#283442",
           "linecolor": "#506784",
           "ticks": "",
           "title": {
            "standoff": 15
           },
           "zerolinecolor": "#283442",
           "zerolinewidth": 2
          },
          "yaxis": {
           "automargin": true,
           "gridcolor": "#283442",
           "linecolor": "#506784",
           "ticks": "",
           "title": {
            "standoff": 15
           },
           "zerolinecolor": "#283442",
           "zerolinewidth": 2
          }
         }
        },
        "title": {
         "text": "🔎 Correlation to TOP_20 — Season 2021"
        },
        "width": 1000,
        "xaxis": {
         "anchor": "y",
         "domain": [
          0,
          1
         ],
         "tickangle": -45,
         "title": {
          "text": "Feature"
         }
        },
        "yaxis": {
         "anchor": "x",
         "domain": [
          0,
          1
         ],
         "title": {
          "text": "Absolute Correlation to TOP_20"
         }
        }
       }
      }
     },
     "metadata": {},
     "output_type": "display_data"
    },
    {
     "data": {
      "application/vnd.plotly.v1+json": {
       "config": {
        "plotlyServerURL": "https://plot.ly"
       },
       "data": [
        {
         "hovertemplate": "Feature=%{x}<br>Correlation=%{y}<extra></extra>",
         "legendgroup": "",
         "marker": {
          "color": "#636efa",
          "pattern": {
           "shape": ""
          }
         },
         "name": "",
         "orientation": "v",
         "showlegend": false,
         "textposition": "auto",
         "type": "bar",
         "x": [
          "OWGR",
          "BIRDIES",
          "PAR_4",
          "VEGAS_ODDS",
          "FEDEX_CUP_POINTS",
          "OWGR_RANK",
          "SGP",
          "RECENT_FORM",
          "form_density",
          "SGP_RANK",
          "BIRDIES_RANK",
          "PAR_5",
          "PAR_4_RANK",
          "DRIVING_DISTANCE",
          "PAR_3",
          "PAR_3_RANK",
          "adj_form",
          "SCRAMBLING_RANK",
          "PAR_5_RANK",
          "SCRAMBLING",
          "DRIVING_DISTANCE_RANK",
          "GIR",
          "CUT_PERCENTAGE",
          "SGOTT",
          "DRIVING_ACCURACY",
          "SGATG_RANK",
          "DRIVING_ACCURACY_RANK",
          "GIR_RANK",
          "SGOTT_RANK",
          "SGTTG_RANK",
          "SGAPR",
          "SGAPR_RANK",
          "TOTAL_DRIVING",
          "TOTAL_DRIVING_RANK",
          "SGTTG",
          "CONSECUTIVE_CUTS",
          "SGATG"
         ],
         "xaxis": "x",
         "y": {
          "bdata": "6RWDG3A/2T8hpbzbywrSP+0uZ5twpdA/ylHEqCAH0D9WdWnZXrXPP4oIPjKaBM8/s08c5tEfzj9qBRAIBw7OP9qUAS16zM0/acPmksVRzD8C323o8WnJPza9YM+6Gck/gNzd9z6sxz9Ksh+hIXvGP28xBmAmZb0/P8+xnFtJvT/l+u79a5u8PyEMhPphdLw/mONOsLVMuz86EMriCZK5P+XxlpZn3bQ/uiGEPEgctD+UsJyt8LevP2x5jO4N3K0/zjlkUY5XrT9is4bqF7GsPw6pTFv+y6s/zIj9jz2hoz+3JEP2VAigP8ZymJ9jkp8/RflNR18fnT/XRI2XlbqaP6o8N9l5W5Y/dblor7K3jj/iNUd4AQyKP0K9+VTAe3A/JQ0Hv2b/Rz8=",
          "dtype": "f8"
         },
         "yaxis": "y"
        }
       ],
       "layout": {
        "barmode": "relative",
        "height": 500,
        "legend": {
         "tracegroupgap": 0
        },
        "template": {
         "data": {
          "bar": [
           {
            "error_x": {
             "color": "#f2f5fa"
            },
            "error_y": {
             "color": "#f2f5fa"
            },
            "marker": {
             "line": {
              "color": "rgb(17,17,17)",
              "width": 0.5
             },
             "pattern": {
              "fillmode": "overlay",
              "size": 10,
              "solidity": 0.2
             }
            },
            "type": "bar"
           }
          ],
          "barpolar": [
           {
            "marker": {
             "line": {
              "color": "rgb(17,17,17)",
              "width": 0.5
             },
             "pattern": {
              "fillmode": "overlay",
              "size": 10,
              "solidity": 0.2
             }
            },
            "type": "barpolar"
           }
          ],
          "carpet": [
           {
            "aaxis": {
             "endlinecolor": "#A2B1C6",
             "gridcolor": "#506784",
             "linecolor": "#506784",
             "minorgridcolor": "#506784",
             "startlinecolor": "#A2B1C6"
            },
            "baxis": {
             "endlinecolor": "#A2B1C6",
             "gridcolor": "#506784",
             "linecolor": "#506784",
             "minorgridcolor": "#506784",
             "startlinecolor": "#A2B1C6"
            },
            "type": "carpet"
           }
          ],
          "choropleth": [
           {
            "colorbar": {
             "outlinewidth": 0,
             "ticks": ""
            },
            "type": "choropleth"
           }
          ],
          "contour": [
           {
            "colorbar": {
             "outlinewidth": 0,
             "ticks": ""
            },
            "colorscale": [
             [
              0,
              "#0d0887"
             ],
             [
              0.1111111111111111,
              "#46039f"
             ],
             [
              0.2222222222222222,
              "#7201a8"
             ],
             [
              0.3333333333333333,
              "#9c179e"
             ],
             [
              0.4444444444444444,
              "#bd3786"
             ],
             [
              0.5555555555555556,
              "#d8576b"
             ],
             [
              0.6666666666666666,
              "#ed7953"
             ],
             [
              0.7777777777777778,
              "#fb9f3a"
             ],
             [
              0.8888888888888888,
              "#fdca26"
             ],
             [
              1,
              "#f0f921"
             ]
            ],
            "type": "contour"
           }
          ],
          "contourcarpet": [
           {
            "colorbar": {
             "outlinewidth": 0,
             "ticks": ""
            },
            "type": "contourcarpet"
           }
          ],
          "heatmap": [
           {
            "colorbar": {
             "outlinewidth": 0,
             "ticks": ""
            },
            "colorscale": [
             [
              0,
              "#0d0887"
             ],
             [
              0.1111111111111111,
              "#46039f"
             ],
             [
              0.2222222222222222,
              "#7201a8"
             ],
             [
              0.3333333333333333,
              "#9c179e"
             ],
             [
              0.4444444444444444,
              "#bd3786"
             ],
             [
              0.5555555555555556,
              "#d8576b"
             ],
             [
              0.6666666666666666,
              "#ed7953"
             ],
             [
              0.7777777777777778,
              "#fb9f3a"
             ],
             [
              0.8888888888888888,
              "#fdca26"
             ],
             [
              1,
              "#f0f921"
             ]
            ],
            "type": "heatmap"
           }
          ],
          "histogram": [
           {
            "marker": {
             "pattern": {
              "fillmode": "overlay",
              "size": 10,
              "solidity": 0.2
             }
            },
            "type": "histogram"
           }
          ],
          "histogram2d": [
           {
            "colorbar": {
             "outlinewidth": 0,
             "ticks": ""
            },
            "colorscale": [
             [
              0,
              "#0d0887"
             ],
             [
              0.1111111111111111,
              "#46039f"
             ],
             [
              0.2222222222222222,
              "#7201a8"
             ],
             [
              0.3333333333333333,
              "#9c179e"
             ],
             [
              0.4444444444444444,
              "#bd3786"
             ],
             [
              0.5555555555555556,
              "#d8576b"
             ],
             [
              0.6666666666666666,
              "#ed7953"
             ],
             [
              0.7777777777777778,
              "#fb9f3a"
             ],
             [
              0.8888888888888888,
              "#fdca26"
             ],
             [
              1,
              "#f0f921"
             ]
            ],
            "type": "histogram2d"
           }
          ],
          "histogram2dcontour": [
           {
            "colorbar": {
             "outlinewidth": 0,
             "ticks": ""
            },
            "colorscale": [
             [
              0,
              "#0d0887"
             ],
             [
              0.1111111111111111,
              "#46039f"
             ],
             [
              0.2222222222222222,
              "#7201a8"
             ],
             [
              0.3333333333333333,
              "#9c179e"
             ],
             [
              0.4444444444444444,
              "#bd3786"
             ],
             [
              0.5555555555555556,
              "#d8576b"
             ],
             [
              0.6666666666666666,
              "#ed7953"
             ],
             [
              0.7777777777777778,
              "#fb9f3a"
             ],
             [
              0.8888888888888888,
              "#fdca26"
             ],
             [
              1,
              "#f0f921"
             ]
            ],
            "type": "histogram2dcontour"
           }
          ],
          "mesh3d": [
           {
            "colorbar": {
             "outlinewidth": 0,
             "ticks": ""
            },
            "type": "mesh3d"
           }
          ],
          "parcoords": [
           {
            "line": {
             "colorbar": {
              "outlinewidth": 0,
              "ticks": ""
             }
            },
            "type": "parcoords"
           }
          ],
          "pie": [
           {
            "automargin": true,
            "type": "pie"
           }
          ],
          "scatter": [
           {
            "marker": {
             "line": {
              "color": "#283442"
             }
            },
            "type": "scatter"
           }
          ],
          "scatter3d": [
           {
            "line": {
             "colorbar": {
              "outlinewidth": 0,
              "ticks": ""
             }
            },
            "marker": {
             "colorbar": {
              "outlinewidth": 0,
              "ticks": ""
             }
            },
            "type": "scatter3d"
           }
          ],
          "scattercarpet": [
           {
            "marker": {
             "colorbar": {
              "outlinewidth": 0,
              "ticks": ""
             }
            },
            "type": "scattercarpet"
           }
          ],
          "scattergeo": [
           {
            "marker": {
             "colorbar": {
              "outlinewidth": 0,
              "ticks": ""
             }
            },
            "type": "scattergeo"
           }
          ],
          "scattergl": [
           {
            "marker": {
             "line": {
              "color": "#283442"
             }
            },
            "type": "scattergl"
           }
          ],
          "scattermap": [
           {
            "marker": {
             "colorbar": {
              "outlinewidth": 0,
              "ticks": ""
             }
            },
            "type": "scattermap"
           }
          ],
          "scattermapbox": [
           {
            "marker": {
             "colorbar": {
              "outlinewidth": 0,
              "ticks": ""
             }
            },
            "type": "scattermapbox"
           }
          ],
          "scatterpolar": [
           {
            "marker": {
             "colorbar": {
              "outlinewidth": 0,
              "ticks": ""
             }
            },
            "type": "scatterpolar"
           }
          ],
          "scatterpolargl": [
           {
            "marker": {
             "colorbar": {
              "outlinewidth": 0,
              "ticks": ""
             }
            },
            "type": "scatterpolargl"
           }
          ],
          "scatterternary": [
           {
            "marker": {
             "colorbar": {
              "outlinewidth": 0,
              "ticks": ""
             }
            },
            "type": "scatterternary"
           }
          ],
          "surface": [
           {
            "colorbar": {
             "outlinewidth": 0,
             "ticks": ""
            },
            "colorscale": [
             [
              0,
              "#0d0887"
             ],
             [
              0.1111111111111111,
              "#46039f"
             ],
             [
              0.2222222222222222,
              "#7201a8"
             ],
             [
              0.3333333333333333,
              "#9c179e"
             ],
             [
              0.4444444444444444,
              "#bd3786"
             ],
             [
              0.5555555555555556,
              "#d8576b"
             ],
             [
              0.6666666666666666,
              "#ed7953"
             ],
             [
              0.7777777777777778,
              "#fb9f3a"
             ],
             [
              0.8888888888888888,
              "#fdca26"
             ],
             [
              1,
              "#f0f921"
             ]
            ],
            "type": "surface"
           }
          ],
          "table": [
           {
            "cells": {
             "fill": {
              "color": "#506784"
             },
             "line": {
              "color": "rgb(17,17,17)"
             }
            },
            "header": {
             "fill": {
              "color": "#2a3f5f"
             },
             "line": {
              "color": "rgb(17,17,17)"
             }
            },
            "type": "table"
           }
          ]
         },
         "layout": {
          "annotationdefaults": {
           "arrowcolor": "#f2f5fa",
           "arrowhead": 0,
           "arrowwidth": 1
          },
          "autotypenumbers": "strict",
          "coloraxis": {
           "colorbar": {
            "outlinewidth": 0,
            "ticks": ""
           }
          },
          "colorscale": {
           "diverging": [
            [
             0,
             "#8e0152"
            ],
            [
             0.1,
             "#c51b7d"
            ],
            [
             0.2,
             "#de77ae"
            ],
            [
             0.3,
             "#f1b6da"
            ],
            [
             0.4,
             "#fde0ef"
            ],
            [
             0.5,
             "#f7f7f7"
            ],
            [
             0.6,
             "#e6f5d0"
            ],
            [
             0.7,
             "#b8e186"
            ],
            [
             0.8,
             "#7fbc41"
            ],
            [
             0.9,
             "#4d9221"
            ],
            [
             1,
             "#276419"
            ]
           ],
           "sequential": [
            [
             0,
             "#0d0887"
            ],
            [
             0.1111111111111111,
             "#46039f"
            ],
            [
             0.2222222222222222,
             "#7201a8"
            ],
            [
             0.3333333333333333,
             "#9c179e"
            ],
            [
             0.4444444444444444,
             "#bd3786"
            ],
            [
             0.5555555555555556,
             "#d8576b"
            ],
            [
             0.6666666666666666,
             "#ed7953"
            ],
            [
             0.7777777777777778,
             "#fb9f3a"
            ],
            [
             0.8888888888888888,
             "#fdca26"
            ],
            [
             1,
             "#f0f921"
            ]
           ],
           "sequentialminus": [
            [
             0,
             "#0d0887"
            ],
            [
             0.1111111111111111,
             "#46039f"
            ],
            [
             0.2222222222222222,
             "#7201a8"
            ],
            [
             0.3333333333333333,
             "#9c179e"
            ],
            [
             0.4444444444444444,
             "#bd3786"
            ],
            [
             0.5555555555555556,
             "#d8576b"
            ],
            [
             0.6666666666666666,
             "#ed7953"
            ],
            [
             0.7777777777777778,
             "#fb9f3a"
            ],
            [
             0.8888888888888888,
             "#fdca26"
            ],
            [
             1,
             "#f0f921"
            ]
           ]
          },
          "colorway": [
           "#636efa",
           "#EF553B",
           "#00cc96",
           "#ab63fa",
           "#FFA15A",
           "#19d3f3",
           "#FF6692",
           "#B6E880",
           "#FF97FF",
           "#FECB52"
          ],
          "font": {
           "color": "#f2f5fa"
          },
          "geo": {
           "bgcolor": "rgb(17,17,17)",
           "lakecolor": "rgb(17,17,17)",
           "landcolor": "rgb(17,17,17)",
           "showlakes": true,
           "showland": true,
           "subunitcolor": "#506784"
          },
          "hoverlabel": {
           "align": "left"
          },
          "hovermode": "closest",
          "mapbox": {
           "style": "dark"
          },
          "paper_bgcolor": "rgb(17,17,17)",
          "plot_bgcolor": "rgb(17,17,17)",
          "polar": {
           "angularaxis": {
            "gridcolor": "#506784",
            "linecolor": "#506784",
            "ticks": ""
           },
           "bgcolor": "rgb(17,17,17)",
           "radialaxis": {
            "gridcolor": "#506784",
            "linecolor": "#506784",
            "ticks": ""
           }
          },
          "scene": {
           "xaxis": {
            "backgroundcolor": "rgb(17,17,17)",
            "gridcolor": "#506784",
            "gridwidth": 2,
            "linecolor": "#506784",
            "showbackground": true,
            "ticks": "",
            "zerolinecolor": "#C8D4E3"
           },
           "yaxis": {
            "backgroundcolor": "rgb(17,17,17)",
            "gridcolor": "#506784",
            "gridwidth": 2,
            "linecolor": "#506784",
            "showbackground": true,
            "ticks": "",
            "zerolinecolor": "#C8D4E3"
           },
           "zaxis": {
            "backgroundcolor": "rgb(17,17,17)",
            "gridcolor": "#506784",
            "gridwidth": 2,
            "linecolor": "#506784",
            "showbackground": true,
            "ticks": "",
            "zerolinecolor": "#C8D4E3"
           }
          },
          "shapedefaults": {
           "line": {
            "color": "#f2f5fa"
           }
          },
          "sliderdefaults": {
           "bgcolor": "#C8D4E3",
           "bordercolor": "rgb(17,17,17)",
           "borderwidth": 1,
           "tickwidth": 0
          },
          "ternary": {
           "aaxis": {
            "gridcolor": "#506784",
            "linecolor": "#506784",
            "ticks": ""
           },
           "baxis": {
            "gridcolor": "#506784",
            "linecolor": "#506784",
            "ticks": ""
           },
           "bgcolor": "rgb(17,17,17)",
           "caxis": {
            "gridcolor": "#506784",
            "linecolor": "#506784",
            "ticks": ""
           }
          },
          "title": {
           "x": 0.05
          },
          "updatemenudefaults": {
           "bgcolor": "#506784",
           "borderwidth": 0
          },
          "xaxis": {
           "automargin": true,
           "gridcolor": "#283442",
           "linecolor": "#506784",
           "ticks": "",
           "title": {
            "standoff": 15
           },
           "zerolinecolor": "#283442",
           "zerolinewidth": 2
          },
          "yaxis": {
           "automargin": true,
           "gridcolor": "#283442",
           "linecolor": "#506784",
           "ticks": "",
           "title": {
            "standoff": 15
           },
           "zerolinecolor": "#283442",
           "zerolinewidth": 2
          }
         }
        },
        "title": {
         "text": "🔎 Correlation to TOP_20 — Season 2022"
        },
        "width": 1000,
        "xaxis": {
         "anchor": "y",
         "domain": [
          0,
          1
         ],
         "tickangle": -45,
         "title": {
          "text": "Feature"
         }
        },
        "yaxis": {
         "anchor": "x",
         "domain": [
          0,
          1
         ],
         "title": {
          "text": "Absolute Correlation to TOP_20"
         }
        }
       }
      }
     },
     "metadata": {},
     "output_type": "display_data"
    },
    {
     "data": {
      "application/vnd.plotly.v1+json": {
       "config": {
        "plotlyServerURL": "https://plot.ly"
       },
       "data": [
        {
         "hovertemplate": "Feature=%{x}<br>Correlation=%{y}<extra></extra>",
         "legendgroup": "",
         "marker": {
          "color": "#636efa",
          "pattern": {
           "shape": ""
          }
         },
         "name": "",
         "orientation": "v",
         "showlegend": false,
         "textposition": "auto",
         "type": "bar",
         "x": [
          "OWGR",
          "form_density",
          "BIRDIES",
          "PAR_4",
          "FEDEX_CUP_POINTS",
          "PAR_3",
          "PAR_3_RANK",
          "TOTAL_DRIVING_RANK",
          "PAR_4_RANK",
          "BIRDIES_RANK",
          "SGOTT_RANK",
          "VEGAS_ODDS",
          "TOTAL_DRIVING",
          "SGOTT",
          "SGTTG_RANK",
          "SCRAMBLING",
          "SGTTG",
          "PAR_5",
          "CONSECUTIVE_CUTS",
          "OWGR_RANK",
          "PAR_5_RANK",
          "DRIVING_DISTANCE",
          "RECENT_FORM",
          "SCRAMBLING_RANK",
          "SGP_RANK",
          "SGP",
          "SGAPR",
          "SGAPR_RANK",
          "GIR",
          "CUT_PERCENTAGE",
          "GIR_RANK",
          "DRIVING_ACCURACY_RANK",
          "adj_form",
          "DRIVING_DISTANCE_RANK",
          "DRIVING_ACCURACY",
          "SGATG_RANK",
          "SGATG"
         ],
         "xaxis": "x",
         "y": {
          "bdata": "+hZP5V0n2z89BLAUFbDXPyDJ3Kueltc/OJoI5FpC1z9T5Mn1aqrWP3vsOmGkE9Y/dpDYyUE41D+24hjKhjPUP/sFMH388dM/nxttE6bS0z+LIsVHbmXTP1lzJh+dktE/B904uLuB0T9uN5gQckjRPwUHcCi4QtA/m8OoZBmQzz+8v3t3MYnPP324tweySs8/ZThKfm0lzT+YCqkxdbjMP0skWFy9uss/CmfMHtcbyz8xlfgSqdzKPz3aA1cA2so/LZjCMDfByD9sL72f1yfIPwJPP/S/Pcc/SKU1S7QFxz8xcWuppqLGPysQetv1IcU/bircN6hMwj+UT29RIdXBPwQI5/PaWL8/aBTsvxWVtz8f4s7Oz3uxP2yT+GVwZIU/5nSA8TWBRD8=",
          "dtype": "f8"
         },
         "yaxis": "y"
        }
       ],
       "layout": {
        "barmode": "relative",
        "height": 500,
        "legend": {
         "tracegroupgap": 0
        },
        "template": {
         "data": {
          "bar": [
           {
            "error_x": {
             "color": "#f2f5fa"
            },
            "error_y": {
             "color": "#f2f5fa"
            },
            "marker": {
             "line": {
              "color": "rgb(17,17,17)",
              "width": 0.5
             },
             "pattern": {
              "fillmode": "overlay",
              "size": 10,
              "solidity": 0.2
             }
            },
            "type": "bar"
           }
          ],
          "barpolar": [
           {
            "marker": {
             "line": {
              "color": "rgb(17,17,17)",
              "width": 0.5
             },
             "pattern": {
              "fillmode": "overlay",
              "size": 10,
              "solidity": 0.2
             }
            },
            "type": "barpolar"
           }
          ],
          "carpet": [
           {
            "aaxis": {
             "endlinecolor": "#A2B1C6",
             "gridcolor": "#506784",
             "linecolor": "#506784",
             "minorgridcolor": "#506784",
             "startlinecolor": "#A2B1C6"
            },
            "baxis": {
             "endlinecolor": "#A2B1C6",
             "gridcolor": "#506784",
             "linecolor": "#506784",
             "minorgridcolor": "#506784",
             "startlinecolor": "#A2B1C6"
            },
            "type": "carpet"
           }
          ],
          "choropleth": [
           {
            "colorbar": {
             "outlinewidth": 0,
             "ticks": ""
            },
            "type": "choropleth"
           }
          ],
          "contour": [
           {
            "colorbar": {
             "outlinewidth": 0,
             "ticks": ""
            },
            "colorscale": [
             [
              0,
              "#0d0887"
             ],
             [
              0.1111111111111111,
              "#46039f"
             ],
             [
              0.2222222222222222,
              "#7201a8"
             ],
             [
              0.3333333333333333,
              "#9c179e"
             ],
             [
              0.4444444444444444,
              "#bd3786"
             ],
             [
              0.5555555555555556,
              "#d8576b"
             ],
             [
              0.6666666666666666,
              "#ed7953"
             ],
             [
              0.7777777777777778,
              "#fb9f3a"
             ],
             [
              0.8888888888888888,
              "#fdca26"
             ],
             [
              1,
              "#f0f921"
             ]
            ],
            "type": "contour"
           }
          ],
          "contourcarpet": [
           {
            "colorbar": {
             "outlinewidth": 0,
             "ticks": ""
            },
            "type": "contourcarpet"
           }
          ],
          "heatmap": [
           {
            "colorbar": {
             "outlinewidth": 0,
             "ticks": ""
            },
            "colorscale": [
             [
              0,
              "#0d0887"
             ],
             [
              0.1111111111111111,
              "#46039f"
             ],
             [
              0.2222222222222222,
              "#7201a8"
             ],
             [
              0.3333333333333333,
              "#9c179e"
             ],
             [
              0.4444444444444444,
              "#bd3786"
             ],
             [
              0.5555555555555556,
              "#d8576b"
             ],
             [
              0.6666666666666666,
              "#ed7953"
             ],
             [
              0.7777777777777778,
              "#fb9f3a"
             ],
             [
              0.8888888888888888,
              "#fdca26"
             ],
             [
              1,
              "#f0f921"
             ]
            ],
            "type": "heatmap"
           }
          ],
          "histogram": [
           {
            "marker": {
             "pattern": {
              "fillmode": "overlay",
              "size": 10,
              "solidity": 0.2
             }
            },
            "type": "histogram"
           }
          ],
          "histogram2d": [
           {
            "colorbar": {
             "outlinewidth": 0,
             "ticks": ""
            },
            "colorscale": [
             [
              0,
              "#0d0887"
             ],
             [
              0.1111111111111111,
              "#46039f"
             ],
             [
              0.2222222222222222,
              "#7201a8"
             ],
             [
              0.3333333333333333,
              "#9c179e"
             ],
             [
              0.4444444444444444,
              "#bd3786"
             ],
             [
              0.5555555555555556,
              "#d8576b"
             ],
             [
              0.6666666666666666,
              "#ed7953"
             ],
             [
              0.7777777777777778,
              "#fb9f3a"
             ],
             [
              0.8888888888888888,
              "#fdca26"
             ],
             [
              1,
              "#f0f921"
             ]
            ],
            "type": "histogram2d"
           }
          ],
          "histogram2dcontour": [
           {
            "colorbar": {
             "outlinewidth": 0,
             "ticks": ""
            },
            "colorscale": [
             [
              0,
              "#0d0887"
             ],
             [
              0.1111111111111111,
              "#46039f"
             ],
             [
              0.2222222222222222,
              "#7201a8"
             ],
             [
              0.3333333333333333,
              "#9c179e"
             ],
             [
              0.4444444444444444,
              "#bd3786"
             ],
             [
              0.5555555555555556,
              "#d8576b"
             ],
             [
              0.6666666666666666,
              "#ed7953"
             ],
             [
              0.7777777777777778,
              "#fb9f3a"
             ],
             [
              0.8888888888888888,
              "#fdca26"
             ],
             [
              1,
              "#f0f921"
             ]
            ],
            "type": "histogram2dcontour"
           }
          ],
          "mesh3d": [
           {
            "colorbar": {
             "outlinewidth": 0,
             "ticks": ""
            },
            "type": "mesh3d"
           }
          ],
          "parcoords": [
           {
            "line": {
             "colorbar": {
              "outlinewidth": 0,
              "ticks": ""
             }
            },
            "type": "parcoords"
           }
          ],
          "pie": [
           {
            "automargin": true,
            "type": "pie"
           }
          ],
          "scatter": [
           {
            "marker": {
             "line": {
              "color": "#283442"
             }
            },
            "type": "scatter"
           }
          ],
          "scatter3d": [
           {
            "line": {
             "colorbar": {
              "outlinewidth": 0,
              "ticks": ""
             }
            },
            "marker": {
             "colorbar": {
              "outlinewidth": 0,
              "ticks": ""
             }
            },
            "type": "scatter3d"
           }
          ],
          "scattercarpet": [
           {
            "marker": {
             "colorbar": {
              "outlinewidth": 0,
              "ticks": ""
             }
            },
            "type": "scattercarpet"
           }
          ],
          "scattergeo": [
           {
            "marker": {
             "colorbar": {
              "outlinewidth": 0,
              "ticks": ""
             }
            },
            "type": "scattergeo"
           }
          ],
          "scattergl": [
           {
            "marker": {
             "line": {
              "color": "#283442"
             }
            },
            "type": "scattergl"
           }
          ],
          "scattermap": [
           {
            "marker": {
             "colorbar": {
              "outlinewidth": 0,
              "ticks": ""
             }
            },
            "type": "scattermap"
           }
          ],
          "scattermapbox": [
           {
            "marker": {
             "colorbar": {
              "outlinewidth": 0,
              "ticks": ""
             }
            },
            "type": "scattermapbox"
           }
          ],
          "scatterpolar": [
           {
            "marker": {
             "colorbar": {
              "outlinewidth": 0,
              "ticks": ""
             }
            },
            "type": "scatterpolar"
           }
          ],
          "scatterpolargl": [
           {
            "marker": {
             "colorbar": {
              "outlinewidth": 0,
              "ticks": ""
             }
            },
            "type": "scatterpolargl"
           }
          ],
          "scatterternary": [
           {
            "marker": {
             "colorbar": {
              "outlinewidth": 0,
              "ticks": ""
             }
            },
            "type": "scatterternary"
           }
          ],
          "surface": [
           {
            "colorbar": {
             "outlinewidth": 0,
             "ticks": ""
            },
            "colorscale": [
             [
              0,
              "#0d0887"
             ],
             [
              0.1111111111111111,
              "#46039f"
             ],
             [
              0.2222222222222222,
              "#7201a8"
             ],
             [
              0.3333333333333333,
              "#9c179e"
             ],
             [
              0.4444444444444444,
              "#bd3786"
             ],
             [
              0.5555555555555556,
              "#d8576b"
             ],
             [
              0.6666666666666666,
              "#ed7953"
             ],
             [
              0.7777777777777778,
              "#fb9f3a"
             ],
             [
              0.8888888888888888,
              "#fdca26"
             ],
             [
              1,
              "#f0f921"
             ]
            ],
            "type": "surface"
           }
          ],
          "table": [
           {
            "cells": {
             "fill": {
              "color": "#506784"
             },
             "line": {
              "color": "rgb(17,17,17)"
             }
            },
            "header": {
             "fill": {
              "color": "#2a3f5f"
             },
             "line": {
              "color": "rgb(17,17,17)"
             }
            },
            "type": "table"
           }
          ]
         },
         "layout": {
          "annotationdefaults": {
           "arrowcolor": "#f2f5fa",
           "arrowhead": 0,
           "arrowwidth": 1
          },
          "autotypenumbers": "strict",
          "coloraxis": {
           "colorbar": {
            "outlinewidth": 0,
            "ticks": ""
           }
          },
          "colorscale": {
           "diverging": [
            [
             0,
             "#8e0152"
            ],
            [
             0.1,
             "#c51b7d"
            ],
            [
             0.2,
             "#de77ae"
            ],
            [
             0.3,
             "#f1b6da"
            ],
            [
             0.4,
             "#fde0ef"
            ],
            [
             0.5,
             "#f7f7f7"
            ],
            [
             0.6,
             "#e6f5d0"
            ],
            [
             0.7,
             "#b8e186"
            ],
            [
             0.8,
             "#7fbc41"
            ],
            [
             0.9,
             "#4d9221"
            ],
            [
             1,
             "#276419"
            ]
           ],
           "sequential": [
            [
             0,
             "#0d0887"
            ],
            [
             0.1111111111111111,
             "#46039f"
            ],
            [
             0.2222222222222222,
             "#7201a8"
            ],
            [
             0.3333333333333333,
             "#9c179e"
            ],
            [
             0.4444444444444444,
             "#bd3786"
            ],
            [
             0.5555555555555556,
             "#d8576b"
            ],
            [
             0.6666666666666666,
             "#ed7953"
            ],
            [
             0.7777777777777778,
             "#fb9f3a"
            ],
            [
             0.8888888888888888,
             "#fdca26"
            ],
            [
             1,
             "#f0f921"
            ]
           ],
           "sequentialminus": [
            [
             0,
             "#0d0887"
            ],
            [
             0.1111111111111111,
             "#46039f"
            ],
            [
             0.2222222222222222,
             "#7201a8"
            ],
            [
             0.3333333333333333,
             "#9c179e"
            ],
            [
             0.4444444444444444,
             "#bd3786"
            ],
            [
             0.5555555555555556,
             "#d8576b"
            ],
            [
             0.6666666666666666,
             "#ed7953"
            ],
            [
             0.7777777777777778,
             "#fb9f3a"
            ],
            [
             0.8888888888888888,
             "#fdca26"
            ],
            [
             1,
             "#f0f921"
            ]
           ]
          },
          "colorway": [
           "#636efa",
           "#EF553B",
           "#00cc96",
           "#ab63fa",
           "#FFA15A",
           "#19d3f3",
           "#FF6692",
           "#B6E880",
           "#FF97FF",
           "#FECB52"
          ],
          "font": {
           "color": "#f2f5fa"
          },
          "geo": {
           "bgcolor": "rgb(17,17,17)",
           "lakecolor": "rgb(17,17,17)",
           "landcolor": "rgb(17,17,17)",
           "showlakes": true,
           "showland": true,
           "subunitcolor": "#506784"
          },
          "hoverlabel": {
           "align": "left"
          },
          "hovermode": "closest",
          "mapbox": {
           "style": "dark"
          },
          "paper_bgcolor": "rgb(17,17,17)",
          "plot_bgcolor": "rgb(17,17,17)",
          "polar": {
           "angularaxis": {
            "gridcolor": "#506784",
            "linecolor": "#506784",
            "ticks": ""
           },
           "bgcolor": "rgb(17,17,17)",
           "radialaxis": {
            "gridcolor": "#506784",
            "linecolor": "#506784",
            "ticks": ""
           }
          },
          "scene": {
           "xaxis": {
            "backgroundcolor": "rgb(17,17,17)",
            "gridcolor": "#506784",
            "gridwidth": 2,
            "linecolor": "#506784",
            "showbackground": true,
            "ticks": "",
            "zerolinecolor": "#C8D4E3"
           },
           "yaxis": {
            "backgroundcolor": "rgb(17,17,17)",
            "gridcolor": "#506784",
            "gridwidth": 2,
            "linecolor": "#506784",
            "showbackground": true,
            "ticks": "",
            "zerolinecolor": "#C8D4E3"
           },
           "zaxis": {
            "backgroundcolor": "rgb(17,17,17)",
            "gridcolor": "#506784",
            "gridwidth": 2,
            "linecolor": "#506784",
            "showbackground": true,
            "ticks": "",
            "zerolinecolor": "#C8D4E3"
           }
          },
          "shapedefaults": {
           "line": {
            "color": "#f2f5fa"
           }
          },
          "sliderdefaults": {
           "bgcolor": "#C8D4E3",
           "bordercolor": "rgb(17,17,17)",
           "borderwidth": 1,
           "tickwidth": 0
          },
          "ternary": {
           "aaxis": {
            "gridcolor": "#506784",
            "linecolor": "#506784",
            "ticks": ""
           },
           "baxis": {
            "gridcolor": "#506784",
            "linecolor": "#506784",
            "ticks": ""
           },
           "bgcolor": "rgb(17,17,17)",
           "caxis": {
            "gridcolor": "#506784",
            "linecolor": "#506784",
            "ticks": ""
           }
          },
          "title": {
           "x": 0.05
          },
          "updatemenudefaults": {
           "bgcolor": "#506784",
           "borderwidth": 0
          },
          "xaxis": {
           "automargin": true,
           "gridcolor": "#283442",
           "linecolor": "#506784",
           "ticks": "",
           "title": {
            "standoff": 15
           },
           "zerolinecolor": "#283442",
           "zerolinewidth": 2
          },
          "yaxis": {
           "automargin": true,
           "gridcolor": "#283442",
           "linecolor": "#506784",
           "ticks": "",
           "title": {
            "standoff": 15
           },
           "zerolinecolor": "#283442",
           "zerolinewidth": 2
          }
         }
        },
        "title": {
         "text": "🔎 Correlation to TOP_20 — Season 2023"
        },
        "width": 1000,
        "xaxis": {
         "anchor": "y",
         "domain": [
          0,
          1
         ],
         "tickangle": -45,
         "title": {
          "text": "Feature"
         }
        },
        "yaxis": {
         "anchor": "x",
         "domain": [
          0,
          1
         ],
         "title": {
          "text": "Absolute Correlation to TOP_20"
         }
        }
       }
      }
     },
     "metadata": {},
     "output_type": "display_data"
    },
    {
     "data": {
      "application/vnd.plotly.v1+json": {
       "config": {
        "plotlyServerURL": "https://plot.ly"
       },
       "data": [
        {
         "hovertemplate": "Feature=%{x}<br>Correlation=%{y}<extra></extra>",
         "legendgroup": "",
         "marker": {
          "color": "#636efa",
          "pattern": {
           "shape": ""
          }
         },
         "name": "",
         "orientation": "v",
         "showlegend": false,
         "textposition": "auto",
         "type": "bar",
         "x": [
          "OWGR",
          "SCRAMBLING",
          "SCRAMBLING_RANK",
          "PAR_4",
          "FEDEX_CUP_POINTS",
          "PAR_5",
          "RECENT_FORM",
          "form_density",
          "VEGAS_ODDS",
          "OWGR_RANK",
          "CUT_PERCENTAGE",
          "BIRDIES",
          "CONSECUTIVE_CUTS",
          "PAR_5_RANK",
          "SGP_RANK",
          "SGP",
          "PAR_4_RANK",
          "SGATG_RANK",
          "SGATG",
          "SGTTG",
          "PAR_3",
          "BIRDIES_RANK",
          "DRIVING_ACCURACY_RANK",
          "SGOTT",
          "SGTTG_RANK",
          "SGOTT_RANK",
          "DRIVING_ACCURACY",
          "PAR_3_RANK",
          "adj_form",
          "TOTAL_DRIVING_RANK",
          "TOTAL_DRIVING",
          "DRIVING_DISTANCE_RANK",
          "SGAPR",
          "GIR",
          "SGAPR_RANK",
          "DRIVING_DISTANCE",
          "GIR_RANK"
         ],
         "xaxis": "x",
         "y": {
          "bdata": "L8zJNOsf1j/KycQAr9vUP4+8P8xsGdM/r8sfA0r80T8S7W6pTfrRP6rxe98tWdE/E9nQ1epR0T/9ne9FMp3PP56oYQz+gc4/bB7qlzFDzj+JzezcHDfNP8d5qvrrasw/suYEmfFZyz/jpMcxcBjLPzDcd9whNco/n7QBI5tdyT/eCq7RqZDIPzh21Gd7ksc/mcj883Kgxj+bFtw8BdLCP62c+IBSzsI/c54gwwsVwj+8eHdFe0u/P0mXzsi0ML0/6tNYQJ4svT9nNOnTJ/S7P6BZJpscxLs/MjFRGT+nuT9/JWRrebG4PztsC57lk7I/A1mn7RIHsj+UUn/9E7euPxI44/tylZU/M4GWWMY/lT+pc8W+g1yIP7VuC03TLoc/EXgUIqVTfj8=",
          "dtype": "f8"
         },
         "yaxis": "y"
        }
       ],
       "layout": {
        "barmode": "relative",
        "height": 500,
        "legend": {
         "tracegroupgap": 0
        },
        "template": {
         "data": {
          "bar": [
           {
            "error_x": {
             "color": "#f2f5fa"
            },
            "error_y": {
             "color": "#f2f5fa"
            },
            "marker": {
             "line": {
              "color": "rgb(17,17,17)",
              "width": 0.5
             },
             "pattern": {
              "fillmode": "overlay",
              "size": 10,
              "solidity": 0.2
             }
            },
            "type": "bar"
           }
          ],
          "barpolar": [
           {
            "marker": {
             "line": {
              "color": "rgb(17,17,17)",
              "width": 0.5
             },
             "pattern": {
              "fillmode": "overlay",
              "size": 10,
              "solidity": 0.2
             }
            },
            "type": "barpolar"
           }
          ],
          "carpet": [
           {
            "aaxis": {
             "endlinecolor": "#A2B1C6",
             "gridcolor": "#506784",
             "linecolor": "#506784",
             "minorgridcolor": "#506784",
             "startlinecolor": "#A2B1C6"
            },
            "baxis": {
             "endlinecolor": "#A2B1C6",
             "gridcolor": "#506784",
             "linecolor": "#506784",
             "minorgridcolor": "#506784",
             "startlinecolor": "#A2B1C6"
            },
            "type": "carpet"
           }
          ],
          "choropleth": [
           {
            "colorbar": {
             "outlinewidth": 0,
             "ticks": ""
            },
            "type": "choropleth"
           }
          ],
          "contour": [
           {
            "colorbar": {
             "outlinewidth": 0,
             "ticks": ""
            },
            "colorscale": [
             [
              0,
              "#0d0887"
             ],
             [
              0.1111111111111111,
              "#46039f"
             ],
             [
              0.2222222222222222,
              "#7201a8"
             ],
             [
              0.3333333333333333,
              "#9c179e"
             ],
             [
              0.4444444444444444,
              "#bd3786"
             ],
             [
              0.5555555555555556,
              "#d8576b"
             ],
             [
              0.6666666666666666,
              "#ed7953"
             ],
             [
              0.7777777777777778,
              "#fb9f3a"
             ],
             [
              0.8888888888888888,
              "#fdca26"
             ],
             [
              1,
              "#f0f921"
             ]
            ],
            "type": "contour"
           }
          ],
          "contourcarpet": [
           {
            "colorbar": {
             "outlinewidth": 0,
             "ticks": ""
            },
            "type": "contourcarpet"
           }
          ],
          "heatmap": [
           {
            "colorbar": {
             "outlinewidth": 0,
             "ticks": ""
            },
            "colorscale": [
             [
              0,
              "#0d0887"
             ],
             [
              0.1111111111111111,
              "#46039f"
             ],
             [
              0.2222222222222222,
              "#7201a8"
             ],
             [
              0.3333333333333333,
              "#9c179e"
             ],
             [
              0.4444444444444444,
              "#bd3786"
             ],
             [
              0.5555555555555556,
              "#d8576b"
             ],
             [
              0.6666666666666666,
              "#ed7953"
             ],
             [
              0.7777777777777778,
              "#fb9f3a"
             ],
             [
              0.8888888888888888,
              "#fdca26"
             ],
             [
              1,
              "#f0f921"
             ]
            ],
            "type": "heatmap"
           }
          ],
          "histogram": [
           {
            "marker": {
             "pattern": {
              "fillmode": "overlay",
              "size": 10,
              "solidity": 0.2
             }
            },
            "type": "histogram"
           }
          ],
          "histogram2d": [
           {
            "colorbar": {
             "outlinewidth": 0,
             "ticks": ""
            },
            "colorscale": [
             [
              0,
              "#0d0887"
             ],
             [
              0.1111111111111111,
              "#46039f"
             ],
             [
              0.2222222222222222,
              "#7201a8"
             ],
             [
              0.3333333333333333,
              "#9c179e"
             ],
             [
              0.4444444444444444,
              "#bd3786"
             ],
             [
              0.5555555555555556,
              "#d8576b"
             ],
             [
              0.6666666666666666,
              "#ed7953"
             ],
             [
              0.7777777777777778,
              "#fb9f3a"
             ],
             [
              0.8888888888888888,
              "#fdca26"
             ],
             [
              1,
              "#f0f921"
             ]
            ],
            "type": "histogram2d"
           }
          ],
          "histogram2dcontour": [
           {
            "colorbar": {
             "outlinewidth": 0,
             "ticks": ""
            },
            "colorscale": [
             [
              0,
              "#0d0887"
             ],
             [
              0.1111111111111111,
              "#46039f"
             ],
             [
              0.2222222222222222,
              "#7201a8"
             ],
             [
              0.3333333333333333,
              "#9c179e"
             ],
             [
              0.4444444444444444,
              "#bd3786"
             ],
             [
              0.5555555555555556,
              "#d8576b"
             ],
             [
              0.6666666666666666,
              "#ed7953"
             ],
             [
              0.7777777777777778,
              "#fb9f3a"
             ],
             [
              0.8888888888888888,
              "#fdca26"
             ],
             [
              1,
              "#f0f921"
             ]
            ],
            "type": "histogram2dcontour"
           }
          ],
          "mesh3d": [
           {
            "colorbar": {
             "outlinewidth": 0,
             "ticks": ""
            },
            "type": "mesh3d"
           }
          ],
          "parcoords": [
           {
            "line": {
             "colorbar": {
              "outlinewidth": 0,
              "ticks": ""
             }
            },
            "type": "parcoords"
           }
          ],
          "pie": [
           {
            "automargin": true,
            "type": "pie"
           }
          ],
          "scatter": [
           {
            "marker": {
             "line": {
              "color": "#283442"
             }
            },
            "type": "scatter"
           }
          ],
          "scatter3d": [
           {
            "line": {
             "colorbar": {
              "outlinewidth": 0,
              "ticks": ""
             }
            },
            "marker": {
             "colorbar": {
              "outlinewidth": 0,
              "ticks": ""
             }
            },
            "type": "scatter3d"
           }
          ],
          "scattercarpet": [
           {
            "marker": {
             "colorbar": {
              "outlinewidth": 0,
              "ticks": ""
             }
            },
            "type": "scattercarpet"
           }
          ],
          "scattergeo": [
           {
            "marker": {
             "colorbar": {
              "outlinewidth": 0,
              "ticks": ""
             }
            },
            "type": "scattergeo"
           }
          ],
          "scattergl": [
           {
            "marker": {
             "line": {
              "color": "#283442"
             }
            },
            "type": "scattergl"
           }
          ],
          "scattermap": [
           {
            "marker": {
             "colorbar": {
              "outlinewidth": 0,
              "ticks": ""
             }
            },
            "type": "scattermap"
           }
          ],
          "scattermapbox": [
           {
            "marker": {
             "colorbar": {
              "outlinewidth": 0,
              "ticks": ""
             }
            },
            "type": "scattermapbox"
           }
          ],
          "scatterpolar": [
           {
            "marker": {
             "colorbar": {
              "outlinewidth": 0,
              "ticks": ""
             }
            },
            "type": "scatterpolar"
           }
          ],
          "scatterpolargl": [
           {
            "marker": {
             "colorbar": {
              "outlinewidth": 0,
              "ticks": ""
             }
            },
            "type": "scatterpolargl"
           }
          ],
          "scatterternary": [
           {
            "marker": {
             "colorbar": {
              "outlinewidth": 0,
              "ticks": ""
             }
            },
            "type": "scatterternary"
           }
          ],
          "surface": [
           {
            "colorbar": {
             "outlinewidth": 0,
             "ticks": ""
            },
            "colorscale": [
             [
              0,
              "#0d0887"
             ],
             [
              0.1111111111111111,
              "#46039f"
             ],
             [
              0.2222222222222222,
              "#7201a8"
             ],
             [
              0.3333333333333333,
              "#9c179e"
             ],
             [
              0.4444444444444444,
              "#bd3786"
             ],
             [
              0.5555555555555556,
              "#d8576b"
             ],
             [
              0.6666666666666666,
              "#ed7953"
             ],
             [
              0.7777777777777778,
              "#fb9f3a"
             ],
             [
              0.8888888888888888,
              "#fdca26"
             ],
             [
              1,
              "#f0f921"
             ]
            ],
            "type": "surface"
           }
          ],
          "table": [
           {
            "cells": {
             "fill": {
              "color": "#506784"
             },
             "line": {
              "color": "rgb(17,17,17)"
             }
            },
            "header": {
             "fill": {
              "color": "#2a3f5f"
             },
             "line": {
              "color": "rgb(17,17,17)"
             }
            },
            "type": "table"
           }
          ]
         },
         "layout": {
          "annotationdefaults": {
           "arrowcolor": "#f2f5fa",
           "arrowhead": 0,
           "arrowwidth": 1
          },
          "autotypenumbers": "strict",
          "coloraxis": {
           "colorbar": {
            "outlinewidth": 0,
            "ticks": ""
           }
          },
          "colorscale": {
           "diverging": [
            [
             0,
             "#8e0152"
            ],
            [
             0.1,
             "#c51b7d"
            ],
            [
             0.2,
             "#de77ae"
            ],
            [
             0.3,
             "#f1b6da"
            ],
            [
             0.4,
             "#fde0ef"
            ],
            [
             0.5,
             "#f7f7f7"
            ],
            [
             0.6,
             "#e6f5d0"
            ],
            [
             0.7,
             "#b8e186"
            ],
            [
             0.8,
             "#7fbc41"
            ],
            [
             0.9,
             "#4d9221"
            ],
            [
             1,
             "#276419"
            ]
           ],
           "sequential": [
            [
             0,
             "#0d0887"
            ],
            [
             0.1111111111111111,
             "#46039f"
            ],
            [
             0.2222222222222222,
             "#7201a8"
            ],
            [
             0.3333333333333333,
             "#9c179e"
            ],
            [
             0.4444444444444444,
             "#bd3786"
            ],
            [
             0.5555555555555556,
             "#d8576b"
            ],
            [
             0.6666666666666666,
             "#ed7953"
            ],
            [
             0.7777777777777778,
             "#fb9f3a"
            ],
            [
             0.8888888888888888,
             "#fdca26"
            ],
            [
             1,
             "#f0f921"
            ]
           ],
           "sequentialminus": [
            [
             0,
             "#0d0887"
            ],
            [
             0.1111111111111111,
             "#46039f"
            ],
            [
             0.2222222222222222,
             "#7201a8"
            ],
            [
             0.3333333333333333,
             "#9c179e"
            ],
            [
             0.4444444444444444,
             "#bd3786"
            ],
            [
             0.5555555555555556,
             "#d8576b"
            ],
            [
             0.6666666666666666,
             "#ed7953"
            ],
            [
             0.7777777777777778,
             "#fb9f3a"
            ],
            [
             0.8888888888888888,
             "#fdca26"
            ],
            [
             1,
             "#f0f921"
            ]
           ]
          },
          "colorway": [
           "#636efa",
           "#EF553B",
           "#00cc96",
           "#ab63fa",
           "#FFA15A",
           "#19d3f3",
           "#FF6692",
           "#B6E880",
           "#FF97FF",
           "#FECB52"
          ],
          "font": {
           "color": "#f2f5fa"
          },
          "geo": {
           "bgcolor": "rgb(17,17,17)",
           "lakecolor": "rgb(17,17,17)",
           "landcolor": "rgb(17,17,17)",
           "showlakes": true,
           "showland": true,
           "subunitcolor": "#506784"
          },
          "hoverlabel": {
           "align": "left"
          },
          "hovermode": "closest",
          "mapbox": {
           "style": "dark"
          },
          "paper_bgcolor": "rgb(17,17,17)",
          "plot_bgcolor": "rgb(17,17,17)",
          "polar": {
           "angularaxis": {
            "gridcolor": "#506784",
            "linecolor": "#506784",
            "ticks": ""
           },
           "bgcolor": "rgb(17,17,17)",
           "radialaxis": {
            "gridcolor": "#506784",
            "linecolor": "#506784",
            "ticks": ""
           }
          },
          "scene": {
           "xaxis": {
            "backgroundcolor": "rgb(17,17,17)",
            "gridcolor": "#506784",
            "gridwidth": 2,
            "linecolor": "#506784",
            "showbackground": true,
            "ticks": "",
            "zerolinecolor": "#C8D4E3"
           },
           "yaxis": {
            "backgroundcolor": "rgb(17,17,17)",
            "gridcolor": "#506784",
            "gridwidth": 2,
            "linecolor": "#506784",
            "showbackground": true,
            "ticks": "",
            "zerolinecolor": "#C8D4E3"
           },
           "zaxis": {
            "backgroundcolor": "rgb(17,17,17)",
            "gridcolor": "#506784",
            "gridwidth": 2,
            "linecolor": "#506784",
            "showbackground": true,
            "ticks": "",
            "zerolinecolor": "#C8D4E3"
           }
          },
          "shapedefaults": {
           "line": {
            "color": "#f2f5fa"
           }
          },
          "sliderdefaults": {
           "bgcolor": "#C8D4E3",
           "bordercolor": "rgb(17,17,17)",
           "borderwidth": 1,
           "tickwidth": 0
          },
          "ternary": {
           "aaxis": {
            "gridcolor": "#506784",
            "linecolor": "#506784",
            "ticks": ""
           },
           "baxis": {
            "gridcolor": "#506784",
            "linecolor": "#506784",
            "ticks": ""
           },
           "bgcolor": "rgb(17,17,17)",
           "caxis": {
            "gridcolor": "#506784",
            "linecolor": "#506784",
            "ticks": ""
           }
          },
          "title": {
           "x": 0.05
          },
          "updatemenudefaults": {
           "bgcolor": "#506784",
           "borderwidth": 0
          },
          "xaxis": {
           "automargin": true,
           "gridcolor": "#283442",
           "linecolor": "#506784",
           "ticks": "",
           "title": {
            "standoff": 15
           },
           "zerolinecolor": "#283442",
           "zerolinewidth": 2
          },
          "yaxis": {
           "automargin": true,
           "gridcolor": "#283442",
           "linecolor": "#506784",
           "ticks": "",
           "title": {
            "standoff": 15
           },
           "zerolinecolor": "#283442",
           "zerolinewidth": 2
          }
         }
        },
        "title": {
         "text": "🔎 Correlation to TOP_20 — Season 2024"
        },
        "width": 1000,
        "xaxis": {
         "anchor": "y",
         "domain": [
          0,
          1
         ],
         "tickangle": -45,
         "title": {
          "text": "Feature"
         }
        },
        "yaxis": {
         "anchor": "x",
         "domain": [
          0,
          1
         ],
         "title": {
          "text": "Absolute Correlation to TOP_20"
         }
        }
       }
      }
     },
     "metadata": {},
     "output_type": "display_data"
    }
   ],
   "source": [
    "import plotly.express as px\n",
    "\n",
    "# Get the 4 most recent seasons (or fewer if not available)\n",
    "available_seasons = sorted(training_df[\"SEASON\"].unique())[-4:]\n",
    "\n",
    "# Dictionary to store correlation results\n",
    "correlation_frames = {}\n",
    "\n",
    "# Calculate correlations for each season\n",
    "for season in available_seasons:\n",
    "    df = training_df[training_df[\"SEASON\"] == season].copy()\n",
    "\n",
    "    # Numeric features only, drop final result\n",
    "    numeric = df.select_dtypes(include=[\"float64\", \"int64\"]).drop(columns=[\"FINAL_POS\", \"SEASON\"], errors=\"ignore\")\n",
    "\n",
    "    # Skip if TOP_20 is not present\n",
    "    if \"TOP_20\" not in numeric.columns:\n",
    "        continue\n",
    "\n",
    "    # Correlation with TOP_20\n",
    "    cor = numeric.corr().abs()[\"TOP_20\"].drop(\"TOP_20\", errors=\"ignore\").sort_values(ascending=False)\n",
    "    cor_df = cor.reset_index()\n",
    "    cor_df.columns = [\"Feature\", \"Correlation\"]\n",
    "    correlation_frames[season] = cor_df\n",
    "\n",
    "# Plot one bar chart per season\n",
    "for season, cor_df in correlation_frames.items():\n",
    "    fig = px.bar(\n",
    "        cor_df,\n",
    "        x=\"Feature\",\n",
    "        y=\"Correlation\",\n",
    "        title=f\"🔎 Correlation to TOP_20 — Season {int(season)}\",\n",
    "        height=500,\n",
    "        width=1000\n",
    "    )\n",
    "\n",
    "    fig.update_layout(\n",
    "        xaxis_title=\"Feature\",\n",
    "        yaxis_title=\"Absolute Correlation to TOP_20\",\n",
    "        template=\"plotly_dark\",\n",
    "        xaxis_tickangle=-45\n",
    "    )\n",
    "\n",
    "    fig.show()\n"
   ]
  },
  {
   "cell_type": "markdown",
   "id": "07c346c9",
   "metadata": {},
   "source": [
    "**Average of Last 4 Years**"
   ]
  },
  {
   "cell_type": "code",
   "execution_count": 42,
   "id": "aee0c2ea",
   "metadata": {},
   "outputs": [
    {
     "data": {
      "application/vnd.plotly.v1+json": {
       "config": {
        "plotlyServerURL": "https://plot.ly"
       },
       "data": [
        {
         "hovertemplate": "Feature=%{x}<br>Avg Correlation=%{y}<extra></extra>",
         "legendgroup": "",
         "marker": {
          "color": "#636efa",
          "pattern": {
           "shape": ""
          }
         },
         "name": "",
         "orientation": "v",
         "showlegend": false,
         "textposition": "auto",
         "type": "bar",
         "x": [
          "OWGR",
          "PAR_4",
          "BIRDIES",
          "FEDEX_CUP_POINTS",
          "form_density",
          "VEGAS_ODDS",
          "RECENT_FORM",
          "PAR_4_RANK",
          "PAR_5",
          "OWGR_RANK",
          "BIRDIES_RANK",
          "PAR_5_RANK",
          "SCRAMBLING",
          "PAR_3",
          "PAR_3_RANK",
          "SCRAMBLING_RANK",
          "SGTTG",
          "SGP_RANK",
          "SGP",
          "SGTTG_RANK",
          "CONSECUTIVE_CUTS",
          "TOTAL_DRIVING_RANK",
          "SGOTT",
          "SGOTT_RANK",
          "CUT_PERCENTAGE",
          "GIR",
          "TOTAL_DRIVING",
          "adj_form",
          "GIR_RANK",
          "DRIVING_DISTANCE",
          "SGAPR",
          "DRIVING_ACCURACY_RANK",
          "SGAPR_RANK",
          "SGATG_RANK",
          "DRIVING_ACCURACY",
          "DRIVING_DISTANCE_RANK",
          "SGATG"
         ],
         "xaxis": "x",
         "y": {
          "bdata": "pEy6hqKJ2T9xS87yDoXTP33Ium4QItM/OGiESSC40j/AY543uZbRPyMB4QPFGdE/MZRYCg5/0D/2ZECYrtLPP6W/VmbpX88/AxFkVdyIzj/EKOus81DOP1D0WXZjL8o/UqsXU8b5yD+660dVq7DIP1I//w/j1Mc/AKzeLz3mxj+XWw3x94bGP8PRxo/hocU/pPhJcwsZxT/pZcyj0uvEP5LKLM+qucQ/2ToWEjYzxD8UhJnWCRvEP+GsZ71HBsQ/xwC9KT2Vwz/QJ3CslSzDP2Imk5UEC8M/GZW6Tt0ywD+hbAypo8W/P8xmgQRI4r4/Y6f3oV5Tvj9G4uxkdC67P9O4Gkua7Lo/MK5FFdQguD9qfjwdCqu1P07AmVtBorM/niGRKhJvsz8=",
          "dtype": "f8"
         },
         "yaxis": "y"
        }
       ],
       "layout": {
        "barmode": "relative",
        "height": 600,
        "legend": {
         "tracegroupgap": 0
        },
        "showlegend": false,
        "template": {
         "data": {
          "bar": [
           {
            "error_x": {
             "color": "#f2f5fa"
            },
            "error_y": {
             "color": "#f2f5fa"
            },
            "marker": {
             "line": {
              "color": "rgb(17,17,17)",
              "width": 0.5
             },
             "pattern": {
              "fillmode": "overlay",
              "size": 10,
              "solidity": 0.2
             }
            },
            "type": "bar"
           }
          ],
          "barpolar": [
           {
            "marker": {
             "line": {
              "color": "rgb(17,17,17)",
              "width": 0.5
             },
             "pattern": {
              "fillmode": "overlay",
              "size": 10,
              "solidity": 0.2
             }
            },
            "type": "barpolar"
           }
          ],
          "carpet": [
           {
            "aaxis": {
             "endlinecolor": "#A2B1C6",
             "gridcolor": "#506784",
             "linecolor": "#506784",
             "minorgridcolor": "#506784",
             "startlinecolor": "#A2B1C6"
            },
            "baxis": {
             "endlinecolor": "#A2B1C6",
             "gridcolor": "#506784",
             "linecolor": "#506784",
             "minorgridcolor": "#506784",
             "startlinecolor": "#A2B1C6"
            },
            "type": "carpet"
           }
          ],
          "choropleth": [
           {
            "colorbar": {
             "outlinewidth": 0,
             "ticks": ""
            },
            "type": "choropleth"
           }
          ],
          "contour": [
           {
            "colorbar": {
             "outlinewidth": 0,
             "ticks": ""
            },
            "colorscale": [
             [
              0,
              "#0d0887"
             ],
             [
              0.1111111111111111,
              "#46039f"
             ],
             [
              0.2222222222222222,
              "#7201a8"
             ],
             [
              0.3333333333333333,
              "#9c179e"
             ],
             [
              0.4444444444444444,
              "#bd3786"
             ],
             [
              0.5555555555555556,
              "#d8576b"
             ],
             [
              0.6666666666666666,
              "#ed7953"
             ],
             [
              0.7777777777777778,
              "#fb9f3a"
             ],
             [
              0.8888888888888888,
              "#fdca26"
             ],
             [
              1,
              "#f0f921"
             ]
            ],
            "type": "contour"
           }
          ],
          "contourcarpet": [
           {
            "colorbar": {
             "outlinewidth": 0,
             "ticks": ""
            },
            "type": "contourcarpet"
           }
          ],
          "heatmap": [
           {
            "colorbar": {
             "outlinewidth": 0,
             "ticks": ""
            },
            "colorscale": [
             [
              0,
              "#0d0887"
             ],
             [
              0.1111111111111111,
              "#46039f"
             ],
             [
              0.2222222222222222,
              "#7201a8"
             ],
             [
              0.3333333333333333,
              "#9c179e"
             ],
             [
              0.4444444444444444,
              "#bd3786"
             ],
             [
              0.5555555555555556,
              "#d8576b"
             ],
             [
              0.6666666666666666,
              "#ed7953"
             ],
             [
              0.7777777777777778,
              "#fb9f3a"
             ],
             [
              0.8888888888888888,
              "#fdca26"
             ],
             [
              1,
              "#f0f921"
             ]
            ],
            "type": "heatmap"
           }
          ],
          "histogram": [
           {
            "marker": {
             "pattern": {
              "fillmode": "overlay",
              "size": 10,
              "solidity": 0.2
             }
            },
            "type": "histogram"
           }
          ],
          "histogram2d": [
           {
            "colorbar": {
             "outlinewidth": 0,
             "ticks": ""
            },
            "colorscale": [
             [
              0,
              "#0d0887"
             ],
             [
              0.1111111111111111,
              "#46039f"
             ],
             [
              0.2222222222222222,
              "#7201a8"
             ],
             [
              0.3333333333333333,
              "#9c179e"
             ],
             [
              0.4444444444444444,
              "#bd3786"
             ],
             [
              0.5555555555555556,
              "#d8576b"
             ],
             [
              0.6666666666666666,
              "#ed7953"
             ],
             [
              0.7777777777777778,
              "#fb9f3a"
             ],
             [
              0.8888888888888888,
              "#fdca26"
             ],
             [
              1,
              "#f0f921"
             ]
            ],
            "type": "histogram2d"
           }
          ],
          "histogram2dcontour": [
           {
            "colorbar": {
             "outlinewidth": 0,
             "ticks": ""
            },
            "colorscale": [
             [
              0,
              "#0d0887"
             ],
             [
              0.1111111111111111,
              "#46039f"
             ],
             [
              0.2222222222222222,
              "#7201a8"
             ],
             [
              0.3333333333333333,
              "#9c179e"
             ],
             [
              0.4444444444444444,
              "#bd3786"
             ],
             [
              0.5555555555555556,
              "#d8576b"
             ],
             [
              0.6666666666666666,
              "#ed7953"
             ],
             [
              0.7777777777777778,
              "#fb9f3a"
             ],
             [
              0.8888888888888888,
              "#fdca26"
             ],
             [
              1,
              "#f0f921"
             ]
            ],
            "type": "histogram2dcontour"
           }
          ],
          "mesh3d": [
           {
            "colorbar": {
             "outlinewidth": 0,
             "ticks": ""
            },
            "type": "mesh3d"
           }
          ],
          "parcoords": [
           {
            "line": {
             "colorbar": {
              "outlinewidth": 0,
              "ticks": ""
             }
            },
            "type": "parcoords"
           }
          ],
          "pie": [
           {
            "automargin": true,
            "type": "pie"
           }
          ],
          "scatter": [
           {
            "marker": {
             "line": {
              "color": "#283442"
             }
            },
            "type": "scatter"
           }
          ],
          "scatter3d": [
           {
            "line": {
             "colorbar": {
              "outlinewidth": 0,
              "ticks": ""
             }
            },
            "marker": {
             "colorbar": {
              "outlinewidth": 0,
              "ticks": ""
             }
            },
            "type": "scatter3d"
           }
          ],
          "scattercarpet": [
           {
            "marker": {
             "colorbar": {
              "outlinewidth": 0,
              "ticks": ""
             }
            },
            "type": "scattercarpet"
           }
          ],
          "scattergeo": [
           {
            "marker": {
             "colorbar": {
              "outlinewidth": 0,
              "ticks": ""
             }
            },
            "type": "scattergeo"
           }
          ],
          "scattergl": [
           {
            "marker": {
             "line": {
              "color": "#283442"
             }
            },
            "type": "scattergl"
           }
          ],
          "scattermap": [
           {
            "marker": {
             "colorbar": {
              "outlinewidth": 0,
              "ticks": ""
             }
            },
            "type": "scattermap"
           }
          ],
          "scattermapbox": [
           {
            "marker": {
             "colorbar": {
              "outlinewidth": 0,
              "ticks": ""
             }
            },
            "type": "scattermapbox"
           }
          ],
          "scatterpolar": [
           {
            "marker": {
             "colorbar": {
              "outlinewidth": 0,
              "ticks": ""
             }
            },
            "type": "scatterpolar"
           }
          ],
          "scatterpolargl": [
           {
            "marker": {
             "colorbar": {
              "outlinewidth": 0,
              "ticks": ""
             }
            },
            "type": "scatterpolargl"
           }
          ],
          "scatterternary": [
           {
            "marker": {
             "colorbar": {
              "outlinewidth": 0,
              "ticks": ""
             }
            },
            "type": "scatterternary"
           }
          ],
          "surface": [
           {
            "colorbar": {
             "outlinewidth": 0,
             "ticks": ""
            },
            "colorscale": [
             [
              0,
              "#0d0887"
             ],
             [
              0.1111111111111111,
              "#46039f"
             ],
             [
              0.2222222222222222,
              "#7201a8"
             ],
             [
              0.3333333333333333,
              "#9c179e"
             ],
             [
              0.4444444444444444,
              "#bd3786"
             ],
             [
              0.5555555555555556,
              "#d8576b"
             ],
             [
              0.6666666666666666,
              "#ed7953"
             ],
             [
              0.7777777777777778,
              "#fb9f3a"
             ],
             [
              0.8888888888888888,
              "#fdca26"
             ],
             [
              1,
              "#f0f921"
             ]
            ],
            "type": "surface"
           }
          ],
          "table": [
           {
            "cells": {
             "fill": {
              "color": "#506784"
             },
             "line": {
              "color": "rgb(17,17,17)"
             }
            },
            "header": {
             "fill": {
              "color": "#2a3f5f"
             },
             "line": {
              "color": "rgb(17,17,17)"
             }
            },
            "type": "table"
           }
          ]
         },
         "layout": {
          "annotationdefaults": {
           "arrowcolor": "#f2f5fa",
           "arrowhead": 0,
           "arrowwidth": 1
          },
          "autotypenumbers": "strict",
          "coloraxis": {
           "colorbar": {
            "outlinewidth": 0,
            "ticks": ""
           }
          },
          "colorscale": {
           "diverging": [
            [
             0,
             "#8e0152"
            ],
            [
             0.1,
             "#c51b7d"
            ],
            [
             0.2,
             "#de77ae"
            ],
            [
             0.3,
             "#f1b6da"
            ],
            [
             0.4,
             "#fde0ef"
            ],
            [
             0.5,
             "#f7f7f7"
            ],
            [
             0.6,
             "#e6f5d0"
            ],
            [
             0.7,
             "#b8e186"
            ],
            [
             0.8,
             "#7fbc41"
            ],
            [
             0.9,
             "#4d9221"
            ],
            [
             1,
             "#276419"
            ]
           ],
           "sequential": [
            [
             0,
             "#0d0887"
            ],
            [
             0.1111111111111111,
             "#46039f"
            ],
            [
             0.2222222222222222,
             "#7201a8"
            ],
            [
             0.3333333333333333,
             "#9c179e"
            ],
            [
             0.4444444444444444,
             "#bd3786"
            ],
            [
             0.5555555555555556,
             "#d8576b"
            ],
            [
             0.6666666666666666,
             "#ed7953"
            ],
            [
             0.7777777777777778,
             "#fb9f3a"
            ],
            [
             0.8888888888888888,
             "#fdca26"
            ],
            [
             1,
             "#f0f921"
            ]
           ],
           "sequentialminus": [
            [
             0,
             "#0d0887"
            ],
            [
             0.1111111111111111,
             "#46039f"
            ],
            [
             0.2222222222222222,
             "#7201a8"
            ],
            [
             0.3333333333333333,
             "#9c179e"
            ],
            [
             0.4444444444444444,
             "#bd3786"
            ],
            [
             0.5555555555555556,
             "#d8576b"
            ],
            [
             0.6666666666666666,
             "#ed7953"
            ],
            [
             0.7777777777777778,
             "#fb9f3a"
            ],
            [
             0.8888888888888888,
             "#fdca26"
            ],
            [
             1,
             "#f0f921"
            ]
           ]
          },
          "colorway": [
           "#636efa",
           "#EF553B",
           "#00cc96",
           "#ab63fa",
           "#FFA15A",
           "#19d3f3",
           "#FF6692",
           "#B6E880",
           "#FF97FF",
           "#FECB52"
          ],
          "font": {
           "color": "#f2f5fa"
          },
          "geo": {
           "bgcolor": "rgb(17,17,17)",
           "lakecolor": "rgb(17,17,17)",
           "landcolor": "rgb(17,17,17)",
           "showlakes": true,
           "showland": true,
           "subunitcolor": "#506784"
          },
          "hoverlabel": {
           "align": "left"
          },
          "hovermode": "closest",
          "mapbox": {
           "style": "dark"
          },
          "paper_bgcolor": "rgb(17,17,17)",
          "plot_bgcolor": "rgb(17,17,17)",
          "polar": {
           "angularaxis": {
            "gridcolor": "#506784",
            "linecolor": "#506784",
            "ticks": ""
           },
           "bgcolor": "rgb(17,17,17)",
           "radialaxis": {
            "gridcolor": "#506784",
            "linecolor": "#506784",
            "ticks": ""
           }
          },
          "scene": {
           "xaxis": {
            "backgroundcolor": "rgb(17,17,17)",
            "gridcolor": "#506784",
            "gridwidth": 2,
            "linecolor": "#506784",
            "showbackground": true,
            "ticks": "",
            "zerolinecolor": "#C8D4E3"
           },
           "yaxis": {
            "backgroundcolor": "rgb(17,17,17)",
            "gridcolor": "#506784",
            "gridwidth": 2,
            "linecolor": "#506784",
            "showbackground": true,
            "ticks": "",
            "zerolinecolor": "#C8D4E3"
           },
           "zaxis": {
            "backgroundcolor": "rgb(17,17,17)",
            "gridcolor": "#506784",
            "gridwidth": 2,
            "linecolor": "#506784",
            "showbackground": true,
            "ticks": "",
            "zerolinecolor": "#C8D4E3"
           }
          },
          "shapedefaults": {
           "line": {
            "color": "#f2f5fa"
           }
          },
          "sliderdefaults": {
           "bgcolor": "#C8D4E3",
           "bordercolor": "rgb(17,17,17)",
           "borderwidth": 1,
           "tickwidth": 0
          },
          "ternary": {
           "aaxis": {
            "gridcolor": "#506784",
            "linecolor": "#506784",
            "ticks": ""
           },
           "baxis": {
            "gridcolor": "#506784",
            "linecolor": "#506784",
            "ticks": ""
           },
           "bgcolor": "rgb(17,17,17)",
           "caxis": {
            "gridcolor": "#506784",
            "linecolor": "#506784",
            "ticks": ""
           }
          },
          "title": {
           "x": 0.05
          },
          "updatemenudefaults": {
           "bgcolor": "#506784",
           "borderwidth": 0
          },
          "xaxis": {
           "automargin": true,
           "gridcolor": "#283442",
           "linecolor": "#506784",
           "ticks": "",
           "title": {
            "standoff": 15
           },
           "zerolinecolor": "#283442",
           "zerolinewidth": 2
          },
          "yaxis": {
           "automargin": true,
           "gridcolor": "#283442",
           "linecolor": "#506784",
           "ticks": "",
           "title": {
            "standoff": 15
           },
           "zerolinecolor": "#283442",
           "zerolinewidth": 2
          }
         }
        },
        "title": {
         "text": "Average Correlation to TOP_20 (Last 4 Seasons)"
        },
        "width": 1000,
        "xaxis": {
         "anchor": "y",
         "domain": [
          0,
          1
         ],
         "tickangle": -45,
         "title": {
          "text": "Feature"
         }
        },
        "yaxis": {
         "anchor": "x",
         "domain": [
          0,
          1
         ],
         "title": {
          "text": "Avg Correlation"
         }
        }
       }
      }
     },
     "metadata": {},
     "output_type": "display_data"
    }
   ],
   "source": [
    "import pandas as pd\n",
    "import numpy as np\n",
    "import plotly.express as px\n",
    "\n",
    "# === Rebuild correlation matrices for the 4 most recent seasons ===\n",
    "cor = {}\n",
    "recent_seasons = sorted(training_df[\"SEASON\"].unique())[-4:]\n",
    "\n",
    "for season in recent_seasons:\n",
    "    df_season = training_df[training_df[\"SEASON\"] == season].copy()\n",
    "    numeric_cols = df_season.select_dtypes(include=[\"float64\", \"int64\"])\n",
    "    cor[int(season)] = numeric_cols.corr().abs()\n",
    "\n",
    "# === Combine into one summary DataFrame ===\n",
    "cor_df = pd.DataFrame()\n",
    "\n",
    "for season in recent_seasons:\n",
    "    df = cor[season].reset_index()\n",
    "    if \"TOP_20\" not in df.columns:\n",
    "        continue\n",
    "    temp = df[[\"index\", \"TOP_20\"]].copy()\n",
    "    temp = temp.rename(columns={\"TOP_20\": str(season)})\n",
    "    if cor_df.empty:\n",
    "        cor_df = temp\n",
    "    else:\n",
    "        cor_df = cor_df.merge(temp, on=\"index\", how=\"outer\")\n",
    "\n",
    "# Drop target and metadata rows\n",
    "cor_df = cor_df[~cor_df[\"index\"].isin([\"TOP_20\", \"FINAL_POS\", \"SEASON\"])]\n",
    "\n",
    "# Compute average correlation across seasons\n",
    "cor_df[\"AVERAGE\"] = cor_df.drop(columns=[\"index\"]).mean(axis=1)\n",
    "cor_df = cor_df.sort_values(by=\"AVERAGE\", ascending=False)\n",
    "\n",
    "# === Plotly Bar Chart ===\n",
    "fig = px.bar(\n",
    "    cor_df,\n",
    "    x=\"index\",\n",
    "    y=\"AVERAGE\",\n",
    "    title=\"Average Correlation to TOP_20 (Last 4 Seasons)\",\n",
    "    labels={\"index\": \"Feature\", \"AVERAGE\": \"Avg Correlation\"},\n",
    "    template=\"plotly_dark\"\n",
    ")\n",
    "\n",
    "fig.update_layout(\n",
    "    xaxis_tickangle=-45,\n",
    "    height=600,\n",
    "    width=1000,\n",
    "    showlegend=False\n",
    ")\n",
    "\n",
    "fig.show()\n"
   ]
  },
  {
   "cell_type": "markdown",
   "id": "b551789e",
   "metadata": {},
   "source": [
    "# ML Model"
   ]
  },
  {
   "cell_type": "markdown",
   "id": "d7df2d9b",
   "metadata": {},
   "source": [
    "## Predictors"
   ]
  },
  {
   "cell_type": "code",
   "execution_count": 43,
   "id": "7de6b0ed",
   "metadata": {},
   "outputs": [
    {
     "name": "stdout",
     "output_type": "stream",
     "text": [
      "Selected 37 features:\n",
      " ['SGTTG_RANK', 'SGTTG', 'SGOTT_RANK', 'SGOTT', 'SGAPR_RANK', 'SGAPR', 'SGATG_RANK', 'SGATG', 'SGP_RANK', 'SGP', 'BIRDIES_RANK', 'BIRDIES', 'PAR_3_RANK', 'PAR_3', 'PAR_4_RANK', 'PAR_4', 'PAR_5_RANK', 'PAR_5', 'TOTAL_DRIVING_RANK', 'TOTAL_DRIVING', 'DRIVING_DISTANCE_RANK', 'DRIVING_DISTANCE', 'DRIVING_ACCURACY_RANK', 'DRIVING_ACCURACY', 'GIR_RANK', 'GIR', 'SCRAMBLING_RANK', 'SCRAMBLING', 'OWGR_RANK', 'OWGR', 'VEGAS_ODDS', 'CUT_PERCENTAGE', 'FEDEX_CUP_POINTS', 'form_density', 'CONSECUTIVE_CUTS', 'RECENT_FORM', 'adj_form']\n"
     ]
    }
   ],
   "source": [
    "# === Define Features and Target ===\n",
    "target_col = \"TOP_20\"\n",
    "\n",
    "# Columns to exclude from features\n",
    "exclude = [\n",
    "    \"PLAYER\", \"TOURNAMENT\", \"COURSE\", \"ENDING_DATE\", \"SEASON\", \"TOURN_ID\",\n",
    "    \"TOP_20\", \"FINAL_POS\"  \n",
    "]\n",
    "\n",
    "# Select numeric feature columns\n",
    "feature_cols = [\n",
    "    col for col in training_df.columns\n",
    "    if col not in exclude and training_df[col].dtype in [np.float64, np.int64]\n",
    "]\n",
    "\n",
    "print(f\"Selected {len(feature_cols)} features:\\n\", feature_cols)"
   ]
  },
  {
   "cell_type": "markdown",
   "id": "8cb568b3",
   "metadata": {},
   "source": [
    "### Random Forest\n",
    "Initial default model before hyperparameter tuning.\n",
    "\n",
    "This one actually performed really well (ROC AUC above 0.85).  Strangely doing hyperparameter tuning hurt the model (less than 0.7), so I removed that step and we will just use this default model.  This does cross-validation testing on 5 folds to ensure robust train/test splits."
   ]
  },
  {
   "cell_type": "code",
   "execution_count": 44,
   "id": "4879d3d9",
   "metadata": {},
   "outputs": [
    {
     "name": "stdout",
     "output_type": "stream",
     "text": [
      "📊 Random Forest (All Features)\n",
      "Cross-validation scores: [0.90350026 0.93611513 0.93117897 0.91547102 0.93918859]\n",
      "Average ROC AUC score: 0.93\n"
     ]
    }
   ],
   "source": [
    "from sklearn.ensemble import RandomForestClassifier\n",
    "from sklearn.model_selection import cross_val_score, StratifiedKFold\n",
    "from sklearn.preprocessing import StandardScaler\n",
    "from imblearn.over_sampling import SMOTE\n",
    "from imblearn.under_sampling import RandomUnderSampler\n",
    "from imblearn.pipeline import Pipeline\n",
    "\n",
    "# === Standardize features ===\n",
    "scaler = StandardScaler()\n",
    "X_rf_std = scaler.fit_transform(training_df[feature_cols])\n",
    "y_rf = training_df[\"TOP_20\"]\n",
    "\n",
    "# === Balance the dataset with SMOTE and undersampling ===\n",
    "over = SMOTE(sampling_strategy=0.5, k_neighbors=3)\n",
    "under = RandomUnderSampler(sampling_strategy=0.5)\n",
    "pipeline = Pipeline([(\"o\", over), (\"u\", under)])\n",
    "X_rf_bal, y_rf_bal = pipeline.fit_resample(X_rf_std, y_rf)\n",
    "\n",
    "# === Define and evaluate Random Forest ===\n",
    "rf = RandomForestClassifier(n_estimators=100, random_state=42)\n",
    "cv = StratifiedKFold(n_splits=5, shuffle=True, random_state=42)\n",
    "scores = cross_val_score(rf, X_rf_bal, y_rf_bal, cv=cv, scoring=\"roc_auc\")\n",
    "\n",
    "print(\"📊 Random Forest (All Features)\")\n",
    "print(\"Cross-validation scores:\", scores)\n",
    "print(\"Average ROC AUC score: {:.2f}\".format(scores.mean()))\n"
   ]
  },
  {
   "cell_type": "markdown",
   "id": "4fe9c753",
   "metadata": {},
   "source": [
    "Random Forest Training & Feature Importance\n",
    "\n",
    "Now we train on all the data (no longer cross-validation folds) and extract the feature importance to see how it compares with linear correlations.\n"
   ]
  },
  {
   "cell_type": "code",
   "execution_count": 45,
   "id": "74c2a8b7",
   "metadata": {},
   "outputs": [
    {
     "data": {
      "application/vnd.plotly.v1+json": {
       "config": {
        "plotlyServerURL": "https://plot.ly"
       },
       "data": [
        {
         "hovertemplate": "Feature=%{x}<br>Importance=%{y}<extra></extra>",
         "legendgroup": "",
         "marker": {
          "color": "#636efa",
          "pattern": {
           "shape": ""
          }
         },
         "name": "",
         "orientation": "v",
         "showlegend": false,
         "textposition": "auto",
         "type": "bar",
         "x": [
          "OWGR",
          "OWGR_RANK",
          "VEGAS_ODDS",
          "adj_form",
          "RECENT_FORM",
          "CONSECUTIVE_CUTS",
          "CUT_PERCENTAGE",
          "PAR_4",
          "form_density",
          "SGTTG",
          "FEDEX_CUP_POINTS",
          "PAR_4_RANK",
          "PAR_5_RANK",
          "BIRDIES",
          "BIRDIES_RANK",
          "SGTTG_RANK",
          "PAR_5",
          "SGATG",
          "SCRAMBLING",
          "SCRAMBLING_RANK",
          "SGATG_RANK",
          "SGP",
          "PAR_3_RANK",
          "SGAPR_RANK",
          "GIR",
          "SGOTT_RANK",
          "DRIVING_ACCURACY",
          "GIR_RANK",
          "DRIVING_DISTANCE",
          "SGP_RANK",
          "TOTAL_DRIVING_RANK",
          "PAR_3",
          "SGAPR",
          "DRIVING_ACCURACY_RANK",
          "TOTAL_DRIVING",
          "SGOTT",
          "DRIVING_DISTANCE_RANK"
         ],
         "xaxis": "x",
         "y": {
          "bdata": "aWEkCI7QwT9ynQAUEmXAP3WmwQef/rI//tJ682C3pz8IpbFizZGmP6cg8jWHPqM/1YwRdItRoT+wTxgscSeeP+bGjMo3IZ0/q7jYEISAmz+qoAV8fa2aPwVmWeEzO5c/ZcXflhJ/lj9q/lI/WUOVP1lkKSTWaJQ/h1jTlDrqkz/a2LvArQmSP/p474V4vZA/9fQgs/NckD/YYg0wpu+PP9AScY5IGo4/sFCCqbNQjT/ociaScUmNP2ABVw61Fo0/w2s1pHZpjD9GsVpjCuuKP+CB3bZm6Yo/mxsr+jXPij/VOwVsYiCKP7RzVpsPN4k/C1MwcAOyiD+lhPz3zJqIPxPu3bP/Yog/V7xkVWQchz/GgzAzU4KGPw6f7gOsG4Y/KMQvsovrhT8=",
          "dtype": "f8"
         },
         "yaxis": "y"
        }
       ],
       "layout": {
        "barmode": "relative",
        "legend": {
         "tracegroupgap": 0
        },
        "template": {
         "data": {
          "bar": [
           {
            "error_x": {
             "color": "#f2f5fa"
            },
            "error_y": {
             "color": "#f2f5fa"
            },
            "marker": {
             "line": {
              "color": "rgb(17,17,17)",
              "width": 0.5
             },
             "pattern": {
              "fillmode": "overlay",
              "size": 10,
              "solidity": 0.2
             }
            },
            "type": "bar"
           }
          ],
          "barpolar": [
           {
            "marker": {
             "line": {
              "color": "rgb(17,17,17)",
              "width": 0.5
             },
             "pattern": {
              "fillmode": "overlay",
              "size": 10,
              "solidity": 0.2
             }
            },
            "type": "barpolar"
           }
          ],
          "carpet": [
           {
            "aaxis": {
             "endlinecolor": "#A2B1C6",
             "gridcolor": "#506784",
             "linecolor": "#506784",
             "minorgridcolor": "#506784",
             "startlinecolor": "#A2B1C6"
            },
            "baxis": {
             "endlinecolor": "#A2B1C6",
             "gridcolor": "#506784",
             "linecolor": "#506784",
             "minorgridcolor": "#506784",
             "startlinecolor": "#A2B1C6"
            },
            "type": "carpet"
           }
          ],
          "choropleth": [
           {
            "colorbar": {
             "outlinewidth": 0,
             "ticks": ""
            },
            "type": "choropleth"
           }
          ],
          "contour": [
           {
            "colorbar": {
             "outlinewidth": 0,
             "ticks": ""
            },
            "colorscale": [
             [
              0,
              "#0d0887"
             ],
             [
              0.1111111111111111,
              "#46039f"
             ],
             [
              0.2222222222222222,
              "#7201a8"
             ],
             [
              0.3333333333333333,
              "#9c179e"
             ],
             [
              0.4444444444444444,
              "#bd3786"
             ],
             [
              0.5555555555555556,
              "#d8576b"
             ],
             [
              0.6666666666666666,
              "#ed7953"
             ],
             [
              0.7777777777777778,
              "#fb9f3a"
             ],
             [
              0.8888888888888888,
              "#fdca26"
             ],
             [
              1,
              "#f0f921"
             ]
            ],
            "type": "contour"
           }
          ],
          "contourcarpet": [
           {
            "colorbar": {
             "outlinewidth": 0,
             "ticks": ""
            },
            "type": "contourcarpet"
           }
          ],
          "heatmap": [
           {
            "colorbar": {
             "outlinewidth": 0,
             "ticks": ""
            },
            "colorscale": [
             [
              0,
              "#0d0887"
             ],
             [
              0.1111111111111111,
              "#46039f"
             ],
             [
              0.2222222222222222,
              "#7201a8"
             ],
             [
              0.3333333333333333,
              "#9c179e"
             ],
             [
              0.4444444444444444,
              "#bd3786"
             ],
             [
              0.5555555555555556,
              "#d8576b"
             ],
             [
              0.6666666666666666,
              "#ed7953"
             ],
             [
              0.7777777777777778,
              "#fb9f3a"
             ],
             [
              0.8888888888888888,
              "#fdca26"
             ],
             [
              1,
              "#f0f921"
             ]
            ],
            "type": "heatmap"
           }
          ],
          "histogram": [
           {
            "marker": {
             "pattern": {
              "fillmode": "overlay",
              "size": 10,
              "solidity": 0.2
             }
            },
            "type": "histogram"
           }
          ],
          "histogram2d": [
           {
            "colorbar": {
             "outlinewidth": 0,
             "ticks": ""
            },
            "colorscale": [
             [
              0,
              "#0d0887"
             ],
             [
              0.1111111111111111,
              "#46039f"
             ],
             [
              0.2222222222222222,
              "#7201a8"
             ],
             [
              0.3333333333333333,
              "#9c179e"
             ],
             [
              0.4444444444444444,
              "#bd3786"
             ],
             [
              0.5555555555555556,
              "#d8576b"
             ],
             [
              0.6666666666666666,
              "#ed7953"
             ],
             [
              0.7777777777777778,
              "#fb9f3a"
             ],
             [
              0.8888888888888888,
              "#fdca26"
             ],
             [
              1,
              "#f0f921"
             ]
            ],
            "type": "histogram2d"
           }
          ],
          "histogram2dcontour": [
           {
            "colorbar": {
             "outlinewidth": 0,
             "ticks": ""
            },
            "colorscale": [
             [
              0,
              "#0d0887"
             ],
             [
              0.1111111111111111,
              "#46039f"
             ],
             [
              0.2222222222222222,
              "#7201a8"
             ],
             [
              0.3333333333333333,
              "#9c179e"
             ],
             [
              0.4444444444444444,
              "#bd3786"
             ],
             [
              0.5555555555555556,
              "#d8576b"
             ],
             [
              0.6666666666666666,
              "#ed7953"
             ],
             [
              0.7777777777777778,
              "#fb9f3a"
             ],
             [
              0.8888888888888888,
              "#fdca26"
             ],
             [
              1,
              "#f0f921"
             ]
            ],
            "type": "histogram2dcontour"
           }
          ],
          "mesh3d": [
           {
            "colorbar": {
             "outlinewidth": 0,
             "ticks": ""
            },
            "type": "mesh3d"
           }
          ],
          "parcoords": [
           {
            "line": {
             "colorbar": {
              "outlinewidth": 0,
              "ticks": ""
             }
            },
            "type": "parcoords"
           }
          ],
          "pie": [
           {
            "automargin": true,
            "type": "pie"
           }
          ],
          "scatter": [
           {
            "marker": {
             "line": {
              "color": "#283442"
             }
            },
            "type": "scatter"
           }
          ],
          "scatter3d": [
           {
            "line": {
             "colorbar": {
              "outlinewidth": 0,
              "ticks": ""
             }
            },
            "marker": {
             "colorbar": {
              "outlinewidth": 0,
              "ticks": ""
             }
            },
            "type": "scatter3d"
           }
          ],
          "scattercarpet": [
           {
            "marker": {
             "colorbar": {
              "outlinewidth": 0,
              "ticks": ""
             }
            },
            "type": "scattercarpet"
           }
          ],
          "scattergeo": [
           {
            "marker": {
             "colorbar": {
              "outlinewidth": 0,
              "ticks": ""
             }
            },
            "type": "scattergeo"
           }
          ],
          "scattergl": [
           {
            "marker": {
             "line": {
              "color": "#283442"
             }
            },
            "type": "scattergl"
           }
          ],
          "scattermap": [
           {
            "marker": {
             "colorbar": {
              "outlinewidth": 0,
              "ticks": ""
             }
            },
            "type": "scattermap"
           }
          ],
          "scattermapbox": [
           {
            "marker": {
             "colorbar": {
              "outlinewidth": 0,
              "ticks": ""
             }
            },
            "type": "scattermapbox"
           }
          ],
          "scatterpolar": [
           {
            "marker": {
             "colorbar": {
              "outlinewidth": 0,
              "ticks": ""
             }
            },
            "type": "scatterpolar"
           }
          ],
          "scatterpolargl": [
           {
            "marker": {
             "colorbar": {
              "outlinewidth": 0,
              "ticks": ""
             }
            },
            "type": "scatterpolargl"
           }
          ],
          "scatterternary": [
           {
            "marker": {
             "colorbar": {
              "outlinewidth": 0,
              "ticks": ""
             }
            },
            "type": "scatterternary"
           }
          ],
          "surface": [
           {
            "colorbar": {
             "outlinewidth": 0,
             "ticks": ""
            },
            "colorscale": [
             [
              0,
              "#0d0887"
             ],
             [
              0.1111111111111111,
              "#46039f"
             ],
             [
              0.2222222222222222,
              "#7201a8"
             ],
             [
              0.3333333333333333,
              "#9c179e"
             ],
             [
              0.4444444444444444,
              "#bd3786"
             ],
             [
              0.5555555555555556,
              "#d8576b"
             ],
             [
              0.6666666666666666,
              "#ed7953"
             ],
             [
              0.7777777777777778,
              "#fb9f3a"
             ],
             [
              0.8888888888888888,
              "#fdca26"
             ],
             [
              1,
              "#f0f921"
             ]
            ],
            "type": "surface"
           }
          ],
          "table": [
           {
            "cells": {
             "fill": {
              "color": "#506784"
             },
             "line": {
              "color": "rgb(17,17,17)"
             }
            },
            "header": {
             "fill": {
              "color": "#2a3f5f"
             },
             "line": {
              "color": "rgb(17,17,17)"
             }
            },
            "type": "table"
           }
          ]
         },
         "layout": {
          "annotationdefaults": {
           "arrowcolor": "#f2f5fa",
           "arrowhead": 0,
           "arrowwidth": 1
          },
          "autotypenumbers": "strict",
          "coloraxis": {
           "colorbar": {
            "outlinewidth": 0,
            "ticks": ""
           }
          },
          "colorscale": {
           "diverging": [
            [
             0,
             "#8e0152"
            ],
            [
             0.1,
             "#c51b7d"
            ],
            [
             0.2,
             "#de77ae"
            ],
            [
             0.3,
             "#f1b6da"
            ],
            [
             0.4,
             "#fde0ef"
            ],
            [
             0.5,
             "#f7f7f7"
            ],
            [
             0.6,
             "#e6f5d0"
            ],
            [
             0.7,
             "#b8e186"
            ],
            [
             0.8,
             "#7fbc41"
            ],
            [
             0.9,
             "#4d9221"
            ],
            [
             1,
             "#276419"
            ]
           ],
           "sequential": [
            [
             0,
             "#0d0887"
            ],
            [
             0.1111111111111111,
             "#46039f"
            ],
            [
             0.2222222222222222,
             "#7201a8"
            ],
            [
             0.3333333333333333,
             "#9c179e"
            ],
            [
             0.4444444444444444,
             "#bd3786"
            ],
            [
             0.5555555555555556,
             "#d8576b"
            ],
            [
             0.6666666666666666,
             "#ed7953"
            ],
            [
             0.7777777777777778,
             "#fb9f3a"
            ],
            [
             0.8888888888888888,
             "#fdca26"
            ],
            [
             1,
             "#f0f921"
            ]
           ],
           "sequentialminus": [
            [
             0,
             "#0d0887"
            ],
            [
             0.1111111111111111,
             "#46039f"
            ],
            [
             0.2222222222222222,
             "#7201a8"
            ],
            [
             0.3333333333333333,
             "#9c179e"
            ],
            [
             0.4444444444444444,
             "#bd3786"
            ],
            [
             0.5555555555555556,
             "#d8576b"
            ],
            [
             0.6666666666666666,
             "#ed7953"
            ],
            [
             0.7777777777777778,
             "#fb9f3a"
            ],
            [
             0.8888888888888888,
             "#fdca26"
            ],
            [
             1,
             "#f0f921"
            ]
           ]
          },
          "colorway": [
           "#636efa",
           "#EF553B",
           "#00cc96",
           "#ab63fa",
           "#FFA15A",
           "#19d3f3",
           "#FF6692",
           "#B6E880",
           "#FF97FF",
           "#FECB52"
          ],
          "font": {
           "color": "#f2f5fa"
          },
          "geo": {
           "bgcolor": "rgb(17,17,17)",
           "lakecolor": "rgb(17,17,17)",
           "landcolor": "rgb(17,17,17)",
           "showlakes": true,
           "showland": true,
           "subunitcolor": "#506784"
          },
          "hoverlabel": {
           "align": "left"
          },
          "hovermode": "closest",
          "mapbox": {
           "style": "dark"
          },
          "paper_bgcolor": "rgb(17,17,17)",
          "plot_bgcolor": "rgb(17,17,17)",
          "polar": {
           "angularaxis": {
            "gridcolor": "#506784",
            "linecolor": "#506784",
            "ticks": ""
           },
           "bgcolor": "rgb(17,17,17)",
           "radialaxis": {
            "gridcolor": "#506784",
            "linecolor": "#506784",
            "ticks": ""
           }
          },
          "scene": {
           "xaxis": {
            "backgroundcolor": "rgb(17,17,17)",
            "gridcolor": "#506784",
            "gridwidth": 2,
            "linecolor": "#506784",
            "showbackground": true,
            "ticks": "",
            "zerolinecolor": "#C8D4E3"
           },
           "yaxis": {
            "backgroundcolor": "rgb(17,17,17)",
            "gridcolor": "#506784",
            "gridwidth": 2,
            "linecolor": "#506784",
            "showbackground": true,
            "ticks": "",
            "zerolinecolor": "#C8D4E3"
           },
           "zaxis": {
            "backgroundcolor": "rgb(17,17,17)",
            "gridcolor": "#506784",
            "gridwidth": 2,
            "linecolor": "#506784",
            "showbackground": true,
            "ticks": "",
            "zerolinecolor": "#C8D4E3"
           }
          },
          "shapedefaults": {
           "line": {
            "color": "#f2f5fa"
           }
          },
          "sliderdefaults": {
           "bgcolor": "#C8D4E3",
           "bordercolor": "rgb(17,17,17)",
           "borderwidth": 1,
           "tickwidth": 0
          },
          "ternary": {
           "aaxis": {
            "gridcolor": "#506784",
            "linecolor": "#506784",
            "ticks": ""
           },
           "baxis": {
            "gridcolor": "#506784",
            "linecolor": "#506784",
            "ticks": ""
           },
           "bgcolor": "rgb(17,17,17)",
           "caxis": {
            "gridcolor": "#506784",
            "linecolor": "#506784",
            "ticks": ""
           }
          },
          "title": {
           "x": 0.05
          },
          "updatemenudefaults": {
           "bgcolor": "#506784",
           "borderwidth": 0
          },
          "xaxis": {
           "automargin": true,
           "gridcolor": "#283442",
           "linecolor": "#506784",
           "ticks": "",
           "title": {
            "standoff": 15
           },
           "zerolinecolor": "#283442",
           "zerolinewidth": 2
          },
          "yaxis": {
           "automargin": true,
           "gridcolor": "#283442",
           "linecolor": "#506784",
           "ticks": "",
           "title": {
            "standoff": 15
           },
           "zerolinecolor": "#283442",
           "zerolinewidth": 2
          }
         }
        },
        "title": {
         "text": "Random Forest Feature Importances"
        },
        "xaxis": {
         "anchor": "y",
         "domain": [
          0,
          1
         ],
         "tickangle": -45,
         "title": {
          "text": "Feature"
         }
        },
        "yaxis": {
         "anchor": "x",
         "domain": [
          0,
          1
         ],
         "title": {
          "text": "Importance"
         }
        }
       }
      }
     },
     "metadata": {},
     "output_type": "display_data"
    }
   ],
   "source": [
    "from sklearn.ensemble import RandomForestClassifier\n",
    "from sklearn.calibration import CalibratedClassifierCV\n",
    "from sklearn.preprocessing import StandardScaler\n",
    "from imblearn.pipeline import Pipeline\n",
    "from imblearn.over_sampling import SMOTE\n",
    "from imblearn.under_sampling import RandomUnderSampler\n",
    "import pandas as pd\n",
    "import plotly.express as px\n",
    "\n",
    "# === Resample the full dataset ===\n",
    "over = SMOTE(sampling_strategy=0.5, k_neighbors=3)\n",
    "under = RandomUnderSampler(sampling_strategy=0.5)\n",
    "resample_pipeline = Pipeline([(\"o\", over), (\"u\", under)])\n",
    "X_all_resampled, y_all_resampled = resample_pipeline.fit_resample(\n",
    "    training_df[feature_cols], training_df[\"TOP_20\"]\n",
    ")\n",
    "\n",
    "# === Standardize ===\n",
    "scaler = StandardScaler()\n",
    "X_all_scaled = scaler.fit_transform(X_all_resampled)\n",
    "\n",
    "# === Train Calibrated Random Forest ===\n",
    "base_rf = RandomForestClassifier(random_state=42)\n",
    "final_model = CalibratedClassifierCV(estimator=base_rf, method=\"sigmoid\", cv=5)\n",
    "final_model.fit(X_all_scaled, y_all_resampled)\n",
    "\n",
    "# === Aggregate feature importances across all CV folds ===\n",
    "all_importances = np.array([\n",
    "    est.estimator.feature_importances_ for est in final_model.calibrated_classifiers_\n",
    "])\n",
    "mean_importance = all_importances.mean(axis=0)\n",
    "\n",
    "importance_df = pd.DataFrame({\n",
    "    \"Feature\": feature_cols,\n",
    "    \"Importance\": mean_importance\n",
    "}).sort_values(by=\"Importance\", ascending=False)\n",
    "\n",
    "# === Plot feature importances ===\n",
    "fig = px.bar(\n",
    "    importance_df,\n",
    "    x=\"Feature\",\n",
    "    y=\"Importance\",\n",
    "    title=\"Random Forest Feature Importances\",\n",
    "    template=\"plotly_dark\"\n",
    ")\n",
    "fig.update_layout(xaxis_tickangle=-45)\n",
    "fig.show()\n"
   ]
  },
  {
   "cell_type": "markdown",
   "id": "e5e84f8a",
   "metadata": {},
   "source": [
    "Use this model on this week's data to predict the best performers."
   ]
  },
  {
   "cell_type": "code",
   "execution_count": 46,
   "id": "f0bf9b7d",
   "metadata": {},
   "outputs": [
    {
     "data": {
      "text/html": [
       "<div>\n",
       "<style scoped>\n",
       "    .dataframe tbody tr th:only-of-type {\n",
       "        vertical-align: middle;\n",
       "    }\n",
       "\n",
       "    .dataframe tbody tr th {\n",
       "        vertical-align: top;\n",
       "    }\n",
       "\n",
       "    .dataframe thead th {\n",
       "        text-align: right;\n",
       "    }\n",
       "</style>\n",
       "<table border=\"1\" class=\"dataframe\">\n",
       "  <thead>\n",
       "    <tr style=\"text-align: right;\">\n",
       "      <th></th>\n",
       "      <th>PLAYER</th>\n",
       "      <th>SALARY</th>\n",
       "      <th>PROBABILITY</th>\n",
       "      <th>RECENT_FORM</th>\n",
       "      <th>COURSE_HISTORY</th>\n",
       "      <th>VEGAS_ODDS</th>\n",
       "      <th>CUT_PERCENTAGE</th>\n",
       "      <th>OWGR_RANK</th>\n",
       "      <th>FEDEX_CUP_POINTS</th>\n",
       "      <th>SGTTG_RANK</th>\n",
       "      <th>SGOTT_RANK</th>\n",
       "      <th>SGAPR_RANK</th>\n",
       "      <th>SGATG_RANK</th>\n",
       "      <th>SGP_RANK</th>\n",
       "      <th>BIRDIES_RANK</th>\n",
       "      <th>PAR_3_RANK</th>\n",
       "      <th>PAR_4_RANK</th>\n",
       "      <th>PAR_5_RANK</th>\n",
       "      <th>TOTAL_DRIVING_RANK</th>\n",
       "      <th>DRIVING_DISTANCE_RANK</th>\n",
       "      <th>DRIVING_ACCURACY_RANK</th>\n",
       "      <th>GIR_RANK</th>\n",
       "      <th>SCRAMBLING_RANK</th>\n",
       "    </tr>\n",
       "  </thead>\n",
       "  <tbody>\n",
       "    <tr>\n",
       "      <th>0</th>\n",
       "      <td>Scottie Scheffler</td>\n",
       "      <td>14200</td>\n",
       "      <td>0.727074</td>\n",
       "      <td>6.9</td>\n",
       "      <td>51.565217</td>\n",
       "      <td>5.5</td>\n",
       "      <td>100.0</td>\n",
       "      <td>1.0</td>\n",
       "      <td>4055.967</td>\n",
       "      <td>1.000000</td>\n",
       "      <td>1.000000</td>\n",
       "      <td>1.000000</td>\n",
       "      <td>25.000000</td>\n",
       "      <td>22.000000</td>\n",
       "      <td>3.000000</td>\n",
       "      <td>26.000000</td>\n",
       "      <td>1.000000</td>\n",
       "      <td>1.00000</td>\n",
       "      <td>15.000000</td>\n",
       "      <td>69.000000</td>\n",
       "      <td>44.000000</td>\n",
       "      <td>13.000000</td>\n",
       "      <td>2.000000</td>\n",
       "    </tr>\n",
       "    <tr>\n",
       "      <th>1</th>\n",
       "      <td>Sam Burns</td>\n",
       "      <td>7400</td>\n",
       "      <td>0.581448</td>\n",
       "      <td>33.1</td>\n",
       "      <td>51.565217</td>\n",
       "      <td>70.0</td>\n",
       "      <td>85.0</td>\n",
       "      <td>22.0</td>\n",
       "      <td>1246.382</td>\n",
       "      <td>105.000000</td>\n",
       "      <td>77.000000</td>\n",
       "      <td>136.000000</td>\n",
       "      <td>83.000000</td>\n",
       "      <td>1.000000</td>\n",
       "      <td>15.000000</td>\n",
       "      <td>48.000000</td>\n",
       "      <td>21.000000</td>\n",
       "      <td>48.00000</td>\n",
       "      <td>35.000000</td>\n",
       "      <td>55.000000</td>\n",
       "      <td>89.000000</td>\n",
       "      <td>93.000000</td>\n",
       "      <td>112.000000</td>\n",
       "    </tr>\n",
       "    <tr>\n",
       "      <th>2</th>\n",
       "      <td>Hideki Matsuyama</td>\n",
       "      <td>7500</td>\n",
       "      <td>0.571233</td>\n",
       "      <td>37.2</td>\n",
       "      <td>90.000000</td>\n",
       "      <td>80.0</td>\n",
       "      <td>83.3</td>\n",
       "      <td>12.0</td>\n",
       "      <td>1198.836</td>\n",
       "      <td>18.000000</td>\n",
       "      <td>132.000000</td>\n",
       "      <td>22.000000</td>\n",
       "      <td>5.000000</td>\n",
       "      <td>73.000000</td>\n",
       "      <td>55.000000</td>\n",
       "      <td>17.000000</td>\n",
       "      <td>33.000000</td>\n",
       "      <td>117.00000</td>\n",
       "      <td>163.000000</td>\n",
       "      <td>116.000000</td>\n",
       "      <td>131.000000</td>\n",
       "      <td>88.000000</td>\n",
       "      <td>7.000000</td>\n",
       "    </tr>\n",
       "    <tr>\n",
       "      <th>3</th>\n",
       "      <td>Ben Griffin</td>\n",
       "      <td>7300</td>\n",
       "      <td>0.564745</td>\n",
       "      <td>37.6</td>\n",
       "      <td>51.565217</td>\n",
       "      <td>80.0</td>\n",
       "      <td>77.8</td>\n",
       "      <td>16.0</td>\n",
       "      <td>2021.463</td>\n",
       "      <td>21.000000</td>\n",
       "      <td>46.000000</td>\n",
       "      <td>32.000000</td>\n",
       "      <td>46.000000</td>\n",
       "      <td>50.000000</td>\n",
       "      <td>52.000000</td>\n",
       "      <td>26.000000</td>\n",
       "      <td>33.000000</td>\n",
       "      <td>26.00000</td>\n",
       "      <td>67.000000</td>\n",
       "      <td>73.000000</td>\n",
       "      <td>94.000000</td>\n",
       "      <td>20.000000</td>\n",
       "      <td>74.000000</td>\n",
       "    </tr>\n",
       "    <tr>\n",
       "      <th>4</th>\n",
       "      <td>Rory McIlroy</td>\n",
       "      <td>11500</td>\n",
       "      <td>0.534512</td>\n",
       "      <td>17.6</td>\n",
       "      <td>90.000000</td>\n",
       "      <td>7.5</td>\n",
       "      <td>91.7</td>\n",
       "      <td>2.0</td>\n",
       "      <td>3189.036</td>\n",
       "      <td>10.000000</td>\n",
       "      <td>5.000000</td>\n",
       "      <td>68.000000</td>\n",
       "      <td>31.000000</td>\n",
       "      <td>4.000000</td>\n",
       "      <td>10.000000</td>\n",
       "      <td>12.000000</td>\n",
       "      <td>10.000000</td>\n",
       "      <td>13.00000</td>\n",
       "      <td>76.000000</td>\n",
       "      <td>2.000000</td>\n",
       "      <td>169.000000</td>\n",
       "      <td>58.000000</td>\n",
       "      <td>17.000000</td>\n",
       "    </tr>\n",
       "    <tr>\n",
       "      <th>5</th>\n",
       "      <td>Keegan Bradley</td>\n",
       "      <td>6700</td>\n",
       "      <td>0.517336</td>\n",
       "      <td>25.9</td>\n",
       "      <td>90.000000</td>\n",
       "      <td>100.0</td>\n",
       "      <td>94.1</td>\n",
       "      <td>7.0</td>\n",
       "      <td>1714.967</td>\n",
       "      <td>4.000000</td>\n",
       "      <td>28.000000</td>\n",
       "      <td>35.000000</td>\n",
       "      <td>10.000000</td>\n",
       "      <td>112.000000</td>\n",
       "      <td>43.000000</td>\n",
       "      <td>66.000000</td>\n",
       "      <td>10.000000</td>\n",
       "      <td>117.00000</td>\n",
       "      <td>20.000000</td>\n",
       "      <td>74.000000</td>\n",
       "      <td>48.000000</td>\n",
       "      <td>76.000000</td>\n",
       "      <td>81.000000</td>\n",
       "    </tr>\n",
       "    <tr>\n",
       "      <th>6</th>\n",
       "      <td>Tommy Fleetwood</td>\n",
       "      <td>9500</td>\n",
       "      <td>0.516227</td>\n",
       "      <td>23.3</td>\n",
       "      <td>2.000000</td>\n",
       "      <td>20.0</td>\n",
       "      <td>93.3</td>\n",
       "      <td>13.0</td>\n",
       "      <td>1716.648</td>\n",
       "      <td>3.000000</td>\n",
       "      <td>46.000000</td>\n",
       "      <td>9.000000</td>\n",
       "      <td>17.000000</td>\n",
       "      <td>56.000000</td>\n",
       "      <td>64.000000</td>\n",
       "      <td>150.000000</td>\n",
       "      <td>21.000000</td>\n",
       "      <td>48.00000</td>\n",
       "      <td>82.000000</td>\n",
       "      <td>136.000000</td>\n",
       "      <td>38.000000</td>\n",
       "      <td>119.000000</td>\n",
       "      <td>29.000000</td>\n",
       "    </tr>\n",
       "    <tr>\n",
       "      <th>7</th>\n",
       "      <td>Jason Day</td>\n",
       "      <td>7200</td>\n",
       "      <td>0.447835</td>\n",
       "      <td>32.6</td>\n",
       "      <td>90.000000</td>\n",
       "      <td>90.0</td>\n",
       "      <td>85.7</td>\n",
       "      <td>30.0</td>\n",
       "      <td>1070.313</td>\n",
       "      <td>57.000000</td>\n",
       "      <td>97.000000</td>\n",
       "      <td>100.000000</td>\n",
       "      <td>20.000000</td>\n",
       "      <td>64.000000</td>\n",
       "      <td>58.000000</td>\n",
       "      <td>94.000000</td>\n",
       "      <td>21.000000</td>\n",
       "      <td>48.00000</td>\n",
       "      <td>162.000000</td>\n",
       "      <td>134.000000</td>\n",
       "      <td>107.000000</td>\n",
       "      <td>85.000000</td>\n",
       "      <td>37.000000</td>\n",
       "    </tr>\n",
       "    <tr>\n",
       "      <th>8</th>\n",
       "      <td>Bryson DeChambeau</td>\n",
       "      <td>10100</td>\n",
       "      <td>0.444699</td>\n",
       "      <td>32.3</td>\n",
       "      <td>90.000000</td>\n",
       "      <td>20.0</td>\n",
       "      <td>66.7</td>\n",
       "      <td>15.0</td>\n",
       "      <td>0.000</td>\n",
       "      <td>64.123288</td>\n",
       "      <td>75.506849</td>\n",
       "      <td>73.876712</td>\n",
       "      <td>70.767123</td>\n",
       "      <td>76.068493</td>\n",
       "      <td>71.191781</td>\n",
       "      <td>86.712329</td>\n",
       "      <td>67.493151</td>\n",
       "      <td>82.30137</td>\n",
       "      <td>90.493151</td>\n",
       "      <td>94.041096</td>\n",
       "      <td>85.109589</td>\n",
       "      <td>86.575342</td>\n",
       "      <td>91.794521</td>\n",
       "    </tr>\n",
       "    <tr>\n",
       "      <th>9</th>\n",
       "      <td>Wyndham Clark</td>\n",
       "      <td>6700</td>\n",
       "      <td>0.431597</td>\n",
       "      <td>45.7</td>\n",
       "      <td>51.565217</td>\n",
       "      <td>125.0</td>\n",
       "      <td>78.9</td>\n",
       "      <td>28.0</td>\n",
       "      <td>490.373</td>\n",
       "      <td>97.000000</td>\n",
       "      <td>66.000000</td>\n",
       "      <td>158.000000</td>\n",
       "      <td>18.000000</td>\n",
       "      <td>59.000000</td>\n",
       "      <td>26.000000</td>\n",
       "      <td>140.000000</td>\n",
       "      <td>81.000000</td>\n",
       "      <td>29.00000</td>\n",
       "      <td>68.000000</td>\n",
       "      <td>23.000000</td>\n",
       "      <td>145.000000</td>\n",
       "      <td>120.000000</td>\n",
       "      <td>130.000000</td>\n",
       "    </tr>\n",
       "    <tr>\n",
       "      <th>10</th>\n",
       "      <td>J.J. Spaun</td>\n",
       "      <td>6900</td>\n",
       "      <td>0.428813</td>\n",
       "      <td>36.3</td>\n",
       "      <td>51.565217</td>\n",
       "      <td>100.0</td>\n",
       "      <td>78.3</td>\n",
       "      <td>10.0</td>\n",
       "      <td>2225.687</td>\n",
       "      <td>13.000000</td>\n",
       "      <td>40.000000</td>\n",
       "      <td>8.000000</td>\n",
       "      <td>100.000000</td>\n",
       "      <td>52.000000</td>\n",
       "      <td>73.000000</td>\n",
       "      <td>48.000000</td>\n",
       "      <td>21.000000</td>\n",
       "      <td>76.00000</td>\n",
       "      <td>19.000000</td>\n",
       "      <td>61.000000</td>\n",
       "      <td>58.000000</td>\n",
       "      <td>40.000000</td>\n",
       "      <td>99.000000</td>\n",
       "    </tr>\n",
       "    <tr>\n",
       "      <th>11</th>\n",
       "      <td>Russell Henley</td>\n",
       "      <td>7900</td>\n",
       "      <td>0.401032</td>\n",
       "      <td>26.1</td>\n",
       "      <td>51.565217</td>\n",
       "      <td>50.0</td>\n",
       "      <td>86.7</td>\n",
       "      <td>5.0</td>\n",
       "      <td>2245.884</td>\n",
       "      <td>9.000000</td>\n",
       "      <td>116.000000</td>\n",
       "      <td>15.000000</td>\n",
       "      <td>6.000000</td>\n",
       "      <td>34.000000</td>\n",
       "      <td>23.000000</td>\n",
       "      <td>3.000000</td>\n",
       "      <td>10.000000</td>\n",
       "      <td>76.00000</td>\n",
       "      <td>105.000000</td>\n",
       "      <td>171.000000</td>\n",
       "      <td>14.000000</td>\n",
       "      <td>14.000000</td>\n",
       "      <td>55.000000</td>\n",
       "    </tr>\n",
       "    <tr>\n",
       "      <th>12</th>\n",
       "      <td>Sepp Straka</td>\n",
       "      <td>7400</td>\n",
       "      <td>0.387561</td>\n",
       "      <td>32.7</td>\n",
       "      <td>51.565217</td>\n",
       "      <td>50.0</td>\n",
       "      <td>75.0</td>\n",
       "      <td>8.0</td>\n",
       "      <td>2552.765</td>\n",
       "      <td>7.000000</td>\n",
       "      <td>48.000000</td>\n",
       "      <td>4.000000</td>\n",
       "      <td>110.000000</td>\n",
       "      <td>27.000000</td>\n",
       "      <td>2.000000</td>\n",
       "      <td>5.000000</td>\n",
       "      <td>21.000000</td>\n",
       "      <td>6.00000</td>\n",
       "      <td>54.000000</td>\n",
       "      <td>141.000000</td>\n",
       "      <td>17.000000</td>\n",
       "      <td>4.000000</td>\n",
       "      <td>84.000000</td>\n",
       "    </tr>\n",
       "    <tr>\n",
       "      <th>13</th>\n",
       "      <td>Justin Thomas</td>\n",
       "      <td>8500</td>\n",
       "      <td>0.384302</td>\n",
       "      <td>24.9</td>\n",
       "      <td>11.000000</td>\n",
       "      <td>50.0</td>\n",
       "      <td>88.9</td>\n",
       "      <td>4.0</td>\n",
       "      <td>2254.240</td>\n",
       "      <td>20.000000</td>\n",
       "      <td>93.000000</td>\n",
       "      <td>17.000000</td>\n",
       "      <td>35.000000</td>\n",
       "      <td>14.000000</td>\n",
       "      <td>1.000000</td>\n",
       "      <td>83.000000</td>\n",
       "      <td>2.000000</td>\n",
       "      <td>95.00000</td>\n",
       "      <td>152.000000</td>\n",
       "      <td>72.000000</td>\n",
       "      <td>151.000000</td>\n",
       "      <td>71.000000</td>\n",
       "      <td>103.000000</td>\n",
       "    </tr>\n",
       "    <tr>\n",
       "      <th>14</th>\n",
       "      <td>Patrick Cantlay</td>\n",
       "      <td>8100</td>\n",
       "      <td>0.349074</td>\n",
       "      <td>27.1</td>\n",
       "      <td>41.000000</td>\n",
       "      <td>60.0</td>\n",
       "      <td>87.5</td>\n",
       "      <td>20.0</td>\n",
       "      <td>1275.202</td>\n",
       "      <td>11.000000</td>\n",
       "      <td>30.000000</td>\n",
       "      <td>12.000000</td>\n",
       "      <td>64.000000</td>\n",
       "      <td>81.000000</td>\n",
       "      <td>13.000000</td>\n",
       "      <td>126.000000</td>\n",
       "      <td>3.000000</td>\n",
       "      <td>95.00000</td>\n",
       "      <td>58.000000</td>\n",
       "      <td>78.000000</td>\n",
       "      <td>83.000000</td>\n",
       "      <td>2.000000</td>\n",
       "      <td>120.000000</td>\n",
       "    </tr>\n",
       "    <tr>\n",
       "      <th>15</th>\n",
       "      <td>Sungjae Im</td>\n",
       "      <td>6900</td>\n",
       "      <td>0.305405</td>\n",
       "      <td>47.6</td>\n",
       "      <td>90.000000</td>\n",
       "      <td>150.0</td>\n",
       "      <td>69.6</td>\n",
       "      <td>25.0</td>\n",
       "      <td>1129.647</td>\n",
       "      <td>104.000000</td>\n",
       "      <td>25.000000</td>\n",
       "      <td>176.000000</td>\n",
       "      <td>3.000000</td>\n",
       "      <td>70.000000</td>\n",
       "      <td>37.000000</td>\n",
       "      <td>163.000000</td>\n",
       "      <td>55.000000</td>\n",
       "      <td>37.00000</td>\n",
       "      <td>62.000000</td>\n",
       "      <td>153.000000</td>\n",
       "      <td>12.000000</td>\n",
       "      <td>161.000000</td>\n",
       "      <td>64.000000</td>\n",
       "    </tr>\n",
       "    <tr>\n",
       "      <th>16</th>\n",
       "      <td>Ludvig Aberg</td>\n",
       "      <td>9100</td>\n",
       "      <td>0.294079</td>\n",
       "      <td>40.9</td>\n",
       "      <td>51.565217</td>\n",
       "      <td>25.0</td>\n",
       "      <td>72.2</td>\n",
       "      <td>9.0</td>\n",
       "      <td>1511.584</td>\n",
       "      <td>50.000000</td>\n",
       "      <td>15.000000</td>\n",
       "      <td>76.000000</td>\n",
       "      <td>153.000000</td>\n",
       "      <td>108.000000</td>\n",
       "      <td>25.000000</td>\n",
       "      <td>126.000000</td>\n",
       "      <td>55.000000</td>\n",
       "      <td>76.00000</td>\n",
       "      <td>27.000000</td>\n",
       "      <td>29.000000</td>\n",
       "      <td>106.000000</td>\n",
       "      <td>75.000000</td>\n",
       "      <td>118.000000</td>\n",
       "    </tr>\n",
       "    <tr>\n",
       "      <th>17</th>\n",
       "      <td>Corey Conners</td>\n",
       "      <td>7200</td>\n",
       "      <td>0.274287</td>\n",
       "      <td>33.5</td>\n",
       "      <td>90.000000</td>\n",
       "      <td>70.0</td>\n",
       "      <td>88.2</td>\n",
       "      <td>24.0</td>\n",
       "      <td>1474.990</td>\n",
       "      <td>35.000000</td>\n",
       "      <td>17.000000</td>\n",
       "      <td>52.000000</td>\n",
       "      <td>123.000000</td>\n",
       "      <td>47.000000</td>\n",
       "      <td>87.000000</td>\n",
       "      <td>83.000000</td>\n",
       "      <td>21.000000</td>\n",
       "      <td>95.00000</td>\n",
       "      <td>50.000000</td>\n",
       "      <td>139.000000</td>\n",
       "      <td>16.000000</td>\n",
       "      <td>27.000000</td>\n",
       "      <td>70.000000</td>\n",
       "    </tr>\n",
       "    <tr>\n",
       "      <th>18</th>\n",
       "      <td>Matteo Manassero</td>\n",
       "      <td>5900</td>\n",
       "      <td>0.259149</td>\n",
       "      <td>58.6</td>\n",
       "      <td>51.565217</td>\n",
       "      <td>350.0</td>\n",
       "      <td>60.0</td>\n",
       "      <td>143.0</td>\n",
       "      <td>160.293</td>\n",
       "      <td>110.000000</td>\n",
       "      <td>173.000000</td>\n",
       "      <td>48.000000</td>\n",
       "      <td>1.000000</td>\n",
       "      <td>66.000000</td>\n",
       "      <td>108.000000</td>\n",
       "      <td>26.000000</td>\n",
       "      <td>10.000000</td>\n",
       "      <td>133.00000</td>\n",
       "      <td>167.000000</td>\n",
       "      <td>172.000000</td>\n",
       "      <td>78.000000</td>\n",
       "      <td>125.000000</td>\n",
       "      <td>1.000000</td>\n",
       "    </tr>\n",
       "    <tr>\n",
       "      <th>19</th>\n",
       "      <td>Nick Taylor</td>\n",
       "      <td>6000</td>\n",
       "      <td>0.250434</td>\n",
       "      <td>37.7</td>\n",
       "      <td>51.565217</td>\n",
       "      <td>125.0</td>\n",
       "      <td>81.0</td>\n",
       "      <td>29.0</td>\n",
       "      <td>1435.107</td>\n",
       "      <td>30.000000</td>\n",
       "      <td>98.000000</td>\n",
       "      <td>11.000000</td>\n",
       "      <td>77.000000</td>\n",
       "      <td>53.000000</td>\n",
       "      <td>74.000000</td>\n",
       "      <td>37.000000</td>\n",
       "      <td>10.000000</td>\n",
       "      <td>103.00000</td>\n",
       "      <td>99.000000</td>\n",
       "      <td>160.000000</td>\n",
       "      <td>22.000000</td>\n",
       "      <td>12.000000</td>\n",
       "      <td>50.000000</td>\n",
       "    </tr>\n",
       "  </tbody>\n",
       "</table>\n",
       "</div>"
      ],
      "text/plain": [
       "               PLAYER  SALARY  PROBABILITY  RECENT_FORM  COURSE_HISTORY  \\\n",
       "0   Scottie Scheffler   14200     0.727074          6.9       51.565217   \n",
       "1           Sam Burns    7400     0.581448         33.1       51.565217   \n",
       "2    Hideki Matsuyama    7500     0.571233         37.2       90.000000   \n",
       "3         Ben Griffin    7300     0.564745         37.6       51.565217   \n",
       "4        Rory McIlroy   11500     0.534512         17.6       90.000000   \n",
       "5      Keegan Bradley    6700     0.517336         25.9       90.000000   \n",
       "6     Tommy Fleetwood    9500     0.516227         23.3        2.000000   \n",
       "7           Jason Day    7200     0.447835         32.6       90.000000   \n",
       "8   Bryson DeChambeau   10100     0.444699         32.3       90.000000   \n",
       "9       Wyndham Clark    6700     0.431597         45.7       51.565217   \n",
       "10         J.J. Spaun    6900     0.428813         36.3       51.565217   \n",
       "11     Russell Henley    7900     0.401032         26.1       51.565217   \n",
       "12        Sepp Straka    7400     0.387561         32.7       51.565217   \n",
       "13      Justin Thomas    8500     0.384302         24.9       11.000000   \n",
       "14    Patrick Cantlay    8100     0.349074         27.1       41.000000   \n",
       "15         Sungjae Im    6900     0.305405         47.6       90.000000   \n",
       "16       Ludvig Aberg    9100     0.294079         40.9       51.565217   \n",
       "17      Corey Conners    7200     0.274287         33.5       90.000000   \n",
       "18   Matteo Manassero    5900     0.259149         58.6       51.565217   \n",
       "19        Nick Taylor    6000     0.250434         37.7       51.565217   \n",
       "\n",
       "    VEGAS_ODDS  CUT_PERCENTAGE  OWGR_RANK  FEDEX_CUP_POINTS  SGTTG_RANK  \\\n",
       "0          5.5           100.0        1.0          4055.967    1.000000   \n",
       "1         70.0            85.0       22.0          1246.382  105.000000   \n",
       "2         80.0            83.3       12.0          1198.836   18.000000   \n",
       "3         80.0            77.8       16.0          2021.463   21.000000   \n",
       "4          7.5            91.7        2.0          3189.036   10.000000   \n",
       "5        100.0            94.1        7.0          1714.967    4.000000   \n",
       "6         20.0            93.3       13.0          1716.648    3.000000   \n",
       "7         90.0            85.7       30.0          1070.313   57.000000   \n",
       "8         20.0            66.7       15.0             0.000   64.123288   \n",
       "9        125.0            78.9       28.0           490.373   97.000000   \n",
       "10       100.0            78.3       10.0          2225.687   13.000000   \n",
       "11        50.0            86.7        5.0          2245.884    9.000000   \n",
       "12        50.0            75.0        8.0          2552.765    7.000000   \n",
       "13        50.0            88.9        4.0          2254.240   20.000000   \n",
       "14        60.0            87.5       20.0          1275.202   11.000000   \n",
       "15       150.0            69.6       25.0          1129.647  104.000000   \n",
       "16        25.0            72.2        9.0          1511.584   50.000000   \n",
       "17        70.0            88.2       24.0          1474.990   35.000000   \n",
       "18       350.0            60.0      143.0           160.293  110.000000   \n",
       "19       125.0            81.0       29.0          1435.107   30.000000   \n",
       "\n",
       "    SGOTT_RANK  SGAPR_RANK  SGATG_RANK    SGP_RANK  BIRDIES_RANK  PAR_3_RANK  \\\n",
       "0     1.000000    1.000000   25.000000   22.000000      3.000000   26.000000   \n",
       "1    77.000000  136.000000   83.000000    1.000000     15.000000   48.000000   \n",
       "2   132.000000   22.000000    5.000000   73.000000     55.000000   17.000000   \n",
       "3    46.000000   32.000000   46.000000   50.000000     52.000000   26.000000   \n",
       "4     5.000000   68.000000   31.000000    4.000000     10.000000   12.000000   \n",
       "5    28.000000   35.000000   10.000000  112.000000     43.000000   66.000000   \n",
       "6    46.000000    9.000000   17.000000   56.000000     64.000000  150.000000   \n",
       "7    97.000000  100.000000   20.000000   64.000000     58.000000   94.000000   \n",
       "8    75.506849   73.876712   70.767123   76.068493     71.191781   86.712329   \n",
       "9    66.000000  158.000000   18.000000   59.000000     26.000000  140.000000   \n",
       "10   40.000000    8.000000  100.000000   52.000000     73.000000   48.000000   \n",
       "11  116.000000   15.000000    6.000000   34.000000     23.000000    3.000000   \n",
       "12   48.000000    4.000000  110.000000   27.000000      2.000000    5.000000   \n",
       "13   93.000000   17.000000   35.000000   14.000000      1.000000   83.000000   \n",
       "14   30.000000   12.000000   64.000000   81.000000     13.000000  126.000000   \n",
       "15   25.000000  176.000000    3.000000   70.000000     37.000000  163.000000   \n",
       "16   15.000000   76.000000  153.000000  108.000000     25.000000  126.000000   \n",
       "17   17.000000   52.000000  123.000000   47.000000     87.000000   83.000000   \n",
       "18  173.000000   48.000000    1.000000   66.000000    108.000000   26.000000   \n",
       "19   98.000000   11.000000   77.000000   53.000000     74.000000   37.000000   \n",
       "\n",
       "    PAR_4_RANK  PAR_5_RANK  TOTAL_DRIVING_RANK  DRIVING_DISTANCE_RANK  \\\n",
       "0     1.000000     1.00000           15.000000              69.000000   \n",
       "1    21.000000    48.00000           35.000000              55.000000   \n",
       "2    33.000000   117.00000          163.000000             116.000000   \n",
       "3    33.000000    26.00000           67.000000              73.000000   \n",
       "4    10.000000    13.00000           76.000000               2.000000   \n",
       "5    10.000000   117.00000           20.000000              74.000000   \n",
       "6    21.000000    48.00000           82.000000             136.000000   \n",
       "7    21.000000    48.00000          162.000000             134.000000   \n",
       "8    67.493151    82.30137           90.493151              94.041096   \n",
       "9    81.000000    29.00000           68.000000              23.000000   \n",
       "10   21.000000    76.00000           19.000000              61.000000   \n",
       "11   10.000000    76.00000          105.000000             171.000000   \n",
       "12   21.000000     6.00000           54.000000             141.000000   \n",
       "13    2.000000    95.00000          152.000000              72.000000   \n",
       "14    3.000000    95.00000           58.000000              78.000000   \n",
       "15   55.000000    37.00000           62.000000             153.000000   \n",
       "16   55.000000    76.00000           27.000000              29.000000   \n",
       "17   21.000000    95.00000           50.000000             139.000000   \n",
       "18   10.000000   133.00000          167.000000             172.000000   \n",
       "19   10.000000   103.00000           99.000000             160.000000   \n",
       "\n",
       "    DRIVING_ACCURACY_RANK    GIR_RANK  SCRAMBLING_RANK  \n",
       "0               44.000000   13.000000         2.000000  \n",
       "1               89.000000   93.000000       112.000000  \n",
       "2              131.000000   88.000000         7.000000  \n",
       "3               94.000000   20.000000        74.000000  \n",
       "4              169.000000   58.000000        17.000000  \n",
       "5               48.000000   76.000000        81.000000  \n",
       "6               38.000000  119.000000        29.000000  \n",
       "7              107.000000   85.000000        37.000000  \n",
       "8               85.109589   86.575342        91.794521  \n",
       "9              145.000000  120.000000       130.000000  \n",
       "10              58.000000   40.000000        99.000000  \n",
       "11              14.000000   14.000000        55.000000  \n",
       "12              17.000000    4.000000        84.000000  \n",
       "13             151.000000   71.000000       103.000000  \n",
       "14              83.000000    2.000000       120.000000  \n",
       "15              12.000000  161.000000        64.000000  \n",
       "16             106.000000   75.000000       118.000000  \n",
       "17              16.000000   27.000000        70.000000  \n",
       "18              78.000000  125.000000         1.000000  \n",
       "19              22.000000   12.000000        50.000000  "
      ]
     },
     "execution_count": 46,
     "metadata": {},
     "output_type": "execute_result"
    }
   ],
   "source": [
    "# === Prepare test data (this week's players) ===\n",
    "\n",
    "# Select and standardize features using the same scaler as training\n",
    "X_test = this_week[feature_cols]\n",
    "X_test_scaled = scaler.transform(X_test)\n",
    "\n",
    "# === Predict probabilities for Top 20 finish ===\n",
    "# CalibratedClassifierCV returns well-calibrated probabilities\n",
    "this_week[\"PROBABILITY\"] = final_model.predict_proba(X_test_scaled)[:, 1]\n",
    "\n",
    "# === Sort results by highest predicted probability ===\n",
    "this_week_sorted = this_week.sort_values(by=\"PROBABILITY\", ascending=False).reset_index(drop=True)\n",
    "\n",
    "# === Define final column order explicitly ===\n",
    "columns_to_show = [\n",
    "    \"PLAYER\", \"SALARY\", \"PROBABILITY\",\n",
    "    \"RECENT_FORM\", \"COURSE_HISTORY\", \"VEGAS_ODDS\", \"CUT_PERCENTAGE\", \n",
    "    \"OWGR_RANK\", \"FEDEX_CUP_POINTS\",\n",
    "\n",
    "    # SG stats\n",
    "    \"SGTTG_RANK\", \"SGOTT_RANK\", \"SGAPR_RANK\", \"SGATG_RANK\", \"SGP_RANK\",\n",
    "\n",
    "    # Scoring/Performance\n",
    "    \"BIRDIES_RANK\", \"PAR_3_RANK\", \"PAR_4_RANK\", \"PAR_5_RANK\",\n",
    "\n",
    "    # Driving / Ball Striking\n",
    "    \"TOTAL_DRIVING_RANK\", \"DRIVING_DISTANCE_RANK\", \"DRIVING_ACCURACY_RANK\",\n",
    "    \"GIR_RANK\", \"SCRAMBLING_RANK\"\n",
    "]\n",
    "\n",
    "# Keep only columns that exist in the dataframe\n",
    "columns_to_show = [col for col in columns_to_show if col in this_week_sorted.columns]\n",
    "\n",
    "# Final dataframe for display/export\n",
    "export_df = this_week_sorted[columns_to_show].copy()\n",
    "\n",
    "# Preview top 20\n",
    "export_df.head(20)\n"
   ]
  },
  {
   "cell_type": "markdown",
   "id": "8641f78e",
   "metadata": {},
   "source": [
    "### Save to CSV"
   ]
  },
  {
   "cell_type": "code",
   "execution_count": 47,
   "id": "323933e9",
   "metadata": {},
   "outputs": [
    {
     "name": "stdout",
     "output_type": "stream",
     "text": [
      "✅ Exported to data/current_week_export.csv\n"
     ]
    }
   ],
   "source": [
    "# Ensure required columns for spreadsheet export\n",
    "if \"COURSE_HISTORY\" not in export_df.columns:\n",
    "    export_df[\"COURSE_HISTORY\"] = \"-\"\n",
    "\n",
    "# Define columns to round (FedEx + stats)\n",
    "columns_to_round = [\n",
    "    \"FEDEX_CUP_POINTS\",\n",
    "    \"SGTTG_RANK\", \"SGOTT_RANK\", \"SGAPR_RANK\", \"SGATG_RANK\", \"SGP_RANK\",\n",
    "    \"BIRDIES_RANK\", \"PAR_3_RANK\", \"PAR_4_RANK\", \"PAR_5_RANK\",\n",
    "    \"TOTAL_DRIVING_RANK\", \"DRIVING_DISTANCE_RANK\", \"DRIVING_ACCURACY_RANK\",\n",
    "    \"GIR_RANK\", \"SCRAMBLING_RANK\"\n",
    "]\n",
    "\n",
    "columns_to_round_1 = [\n",
    "    \"COURSE_HISTORY\", \"CUT_PERCENTAGE\"\n",
    "]\n",
    "\n",
    "# Round only the selected columns to 0 decimal places\n",
    "export_df[columns_to_round] = export_df[columns_to_round].round(0).astype(\"Int64\")\n",
    "# Round only the selected columns to 1 decimal places\n",
    "export_df[columns_to_round_1] = export_df[columns_to_round_1].round(1)\n",
    "\n",
    "# Explicit column order for Excel integration\n",
    "column_order = [\n",
    "    \"PLAYER\", \"SALARY\", \"PROBABILITY\", \"RECENT_FORM\", \"COURSE_HISTORY\", \"VEGAS_ODDS\", \n",
    "    \"CUT_PERCENTAGE\", \"OWGR_RANK\", \"FEDEX_CUP_POINTS\", \n",
    "    \"SGTTG_RANK\", \"SGOTT_RANK\", \"SGAPR_RANK\", \"SGATG_RANK\", \"SGP_RANK\",\n",
    "    \"BIRDIES_RANK\", \"PAR_3_RANK\", \"PAR_4_RANK\", \"PAR_5_RANK\",\n",
    "    \"TOTAL_DRIVING_RANK\", \"DRIVING_DISTANCE_RANK\", \"DRIVING_ACCURACY_RANK\",\n",
    "    \"GIR_RANK\", \"SCRAMBLING_RANK\"\n",
    "]\n",
    "\n",
    "# Ensure all expected columns exist\n",
    "for col in column_order:\n",
    "    if col not in export_df.columns:\n",
    "        export_df[col] = \"-\" if col == \"COURSE_HISTORY\" else np.nan\n",
    "\n",
    "# Reorder columns to match Excel layout\n",
    "export_df = export_df[column_order]\n",
    "\n",
    "# Export to CSV\n",
    "filename = f\"data/current_week_export.csv\"\n",
    "export_df.to_csv(filename, index=False)\n",
    "print(f\"✅ Exported to {filename}\")"
   ]
  }
 ],
 "metadata": {
  "kernelspec": {
   "display_name": "Python 3",
   "language": "python",
   "name": "python3"
  },
  "language_info": {
   "codemirror_mode": {
    "name": "ipython",
    "version": 3
   },
   "file_extension": ".py",
   "mimetype": "text/x-python",
   "name": "python",
   "nbconvert_exporter": "python",
   "pygments_lexer": "ipython3",
   "version": "3.13.3"
  }
 },
 "nbformat": 4,
 "nbformat_minor": 5
}
