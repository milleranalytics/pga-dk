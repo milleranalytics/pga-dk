{
 "cells": [
  {
   "cell_type": "markdown",
   "id": "51850cd5",
   "metadata": {},
   "source": [
    "## PGA Draftkings Notebook\n",
    "Use [PGA Website](https://www.pgatour.com/tournaments/schedule.html) to look up tournament info and fill out first USER INPUT block below. (Fetch/XHR from Network tab, Paylod sub-tab)\n",
    "\n",
    "Looks like the tournament ID is also in the address bar."
   ]
  },
  {
   "cell_type": "markdown",
   "id": "cc589d19",
   "metadata": {},
   "source": [
    "### User Input"
   ]
  },
  {
   "cell_type": "code",
   "execution_count": null,
   "id": "5b16fd89",
   "metadata": {},
   "outputs": [],
   "source": [
    "# === USER INPUTS ===\n",
    "# Old Tournament\n",
    "old_tournament_name = \"Charles Schwab Challenge\"\n",
    "tournament_date = \"5/25/2025\"  # Ending date of tournament\n",
    "old_course = \"Colonial Country Club\"\n",
    "tournament_id = \"R2025021\"\n",
    "\n",
    "# New Tournament\n",
    "new_tournament_name = \"the Memorial Tournament presented by Workday\"\n",
    "new_ending_date = \"6/1/2025\"\n",
    "new_course = \"Muirfield Village Golf Club\"\n",
    "new_season = 2025\n",
    "\n",
    "\n",
    "# === LIBRARIES AND VARIABLES ===\n",
    "# Import necessary libraries\n",
    "import requests\n",
    "import pandas as pd\n",
    "from datetime import datetime\n",
    "import sqlite3 as sql\n",
    "import numpy as np\n",
    "from numpy import nan\n",
    "import os\n",
    "import importlib\n",
    "import utils.db_utils\n",
    "from utils.db_utils import TOURNAMENT_NAME_MAP, PLAYER_NAME_MAP\n",
    "\n",
    "# === TOURNAMENT CONFIG ===\n",
    "tournament_config = {\n",
    "    \"old\": {\n",
    "        \"name\": old_tournament_name,\n",
    "        \"date\": tournament_date,\n",
    "        \"course\": old_course,\n",
    "        \"id\": tournament_id\n",
    "    },\n",
    "    \"new\": {\n",
    "        \"name\": new_tournament_name,\n",
    "        \"course\": new_course,\n",
    "        \"season\": new_season,\n",
    "        \"ending_date\": pd.to_datetime(new_ending_date, format=\"%m/%d/%Y\"),\n",
    "        \"quoted_course\": f'\"{new_course}\"',\n",
    "        \"quoted_name\": f\"'{new_tournament_name}'\"\n",
    "    }\n",
    "}\n",
    "\n",
    "this_week_key = str(tournament_config[\"new\"][\"ending_date\"].date())\n",
    "\n",
    "# Create a minimal one-row history DataFrame\n",
    "this_week_history = pd.DataFrame([{\n",
    "    \"SEASON\": tournament_config[\"new\"][\"season\"],\n",
    "    \"TOURNAMENT\": tournament_config[\"new\"][\"name\"],\n",
    "    \"ENDING_DATE\": tournament_config[\"new\"][\"ending_date\"],\n",
    "    \"COURSE\": tournament_config[\"new\"][\"course\"],\n",
    "    \"TOURN_ID\": None\n",
    "}])"
   ]
  },
  {
   "cell_type": "markdown",
   "id": "cd739282",
   "metadata": {},
   "source": [
    "### Update Database"
   ]
  },
  {
   "cell_type": "markdown",
   "id": "cebfc2dc",
   "metadata": {},
   "source": [
    "#### Old Tournament"
   ]
  },
  {
   "cell_type": "code",
   "execution_count": 2,
   "id": "31b12dc0",
   "metadata": {},
   "outputs": [
    {
     "name": "stdout",
     "output_type": "stream",
     "text": [
      "📦 Fetching results for tournament ID R2025021 (Charles Schwab Challenge), year: 20250\n",
      "✅ 135 new rows added for 'Charles Schwab Challenge'\n"
     ]
    },
    {
     "data": {
      "text/html": [
       "<div>\n",
       "<style scoped>\n",
       "    .dataframe tbody tr th:only-of-type {\n",
       "        vertical-align: middle;\n",
       "    }\n",
       "\n",
       "    .dataframe tbody tr th {\n",
       "        vertical-align: top;\n",
       "    }\n",
       "\n",
       "    .dataframe thead th {\n",
       "        text-align: right;\n",
       "    }\n",
       "</style>\n",
       "<table border=\"1\" class=\"dataframe\">\n",
       "  <thead>\n",
       "    <tr style=\"text-align: right;\">\n",
       "      <th></th>\n",
       "      <th>SEASON</th>\n",
       "      <th>ENDING_DATE</th>\n",
       "      <th>TOURN_ID</th>\n",
       "      <th>TOURNAMENT</th>\n",
       "      <th>COURSE</th>\n",
       "      <th>PLAYER</th>\n",
       "      <th>POS</th>\n",
       "      <th>FINAL_POS</th>\n",
       "      <th>ROUNDS:1</th>\n",
       "      <th>ROUNDS:2</th>\n",
       "      <th>ROUNDS:3</th>\n",
       "      <th>ROUNDS:4</th>\n",
       "      <th>OFFICIAL_MONEY</th>\n",
       "      <th>FEDEX_CUP_POINTS</th>\n",
       "    </tr>\n",
       "  </thead>\n",
       "  <tbody>\n",
       "    <tr>\n",
       "      <th>11</th>\n",
       "      <td>2025</td>\n",
       "      <td>2025-05-25</td>\n",
       "      <td>R2025021</td>\n",
       "      <td>Charles Schwab Challenge</td>\n",
       "      <td>Colonial Country Club</td>\n",
       "      <td>Ben Griffin</td>\n",
       "      <td>1</td>\n",
       "      <td>1</td>\n",
       "      <td>-4</td>\n",
       "      <td>-7</td>\n",
       "      <td>-2</td>\n",
       "      <td>+1</td>\n",
       "      <td>$1,710,000.00</td>\n",
       "      <td>500.000</td>\n",
       "    </tr>\n",
       "    <tr>\n",
       "      <th>86</th>\n",
       "      <td>2025</td>\n",
       "      <td>2025-05-25</td>\n",
       "      <td>R2025021</td>\n",
       "      <td>Charles Schwab Challenge</td>\n",
       "      <td>Colonial Country Club</td>\n",
       "      <td>Matti Schmid</td>\n",
       "      <td>2</td>\n",
       "      <td>2</td>\n",
       "      <td>-4</td>\n",
       "      <td>-7</td>\n",
       "      <td>-2</td>\n",
       "      <td>+2</td>\n",
       "      <td>$1,035,500.00</td>\n",
       "      <td>300.000</td>\n",
       "    </tr>\n",
       "    <tr>\n",
       "      <th>19</th>\n",
       "      <td>2025</td>\n",
       "      <td>2025-05-25</td>\n",
       "      <td>R2025021</td>\n",
       "      <td>Charles Schwab Challenge</td>\n",
       "      <td>Colonial Country Club</td>\n",
       "      <td>Bud Cauley</td>\n",
       "      <td>3</td>\n",
       "      <td>3</td>\n",
       "      <td>-4</td>\n",
       "      <td>-1</td>\n",
       "      <td>-1</td>\n",
       "      <td>-3</td>\n",
       "      <td>$655,500.00</td>\n",
       "      <td>190.000</td>\n",
       "    </tr>\n",
       "    <tr>\n",
       "      <th>126</th>\n",
       "      <td>2025</td>\n",
       "      <td>2025-05-25</td>\n",
       "      <td>R2025021</td>\n",
       "      <td>Charles Schwab Challenge</td>\n",
       "      <td>Colonial Country Club</td>\n",
       "      <td>Tommy Fleetwood</td>\n",
       "      <td>T4</td>\n",
       "      <td>4</td>\n",
       "      <td>-3</td>\n",
       "      <td>-3</td>\n",
       "      <td>E</td>\n",
       "      <td>-2</td>\n",
       "      <td>$427,500.00</td>\n",
       "      <td>122.500</td>\n",
       "    </tr>\n",
       "    <tr>\n",
       "      <th>116</th>\n",
       "      <td>2025</td>\n",
       "      <td>2025-05-25</td>\n",
       "      <td>R2025021</td>\n",
       "      <td>Charles Schwab Challenge</td>\n",
       "      <td>Colonial Country Club</td>\n",
       "      <td>Scottie Scheffler</td>\n",
       "      <td>T4</td>\n",
       "      <td>4</td>\n",
       "      <td>-2</td>\n",
       "      <td>+1</td>\n",
       "      <td>-6</td>\n",
       "      <td>-1</td>\n",
       "      <td>$427,500.00</td>\n",
       "      <td>122.500</td>\n",
       "    </tr>\n",
       "  </tbody>\n",
       "</table>\n",
       "</div>"
      ],
      "text/plain": [
       "     SEASON ENDING_DATE  TOURN_ID                TOURNAMENT  \\\n",
       "11     2025  2025-05-25  R2025021  Charles Schwab Challenge   \n",
       "86     2025  2025-05-25  R2025021  Charles Schwab Challenge   \n",
       "19     2025  2025-05-25  R2025021  Charles Schwab Challenge   \n",
       "126    2025  2025-05-25  R2025021  Charles Schwab Challenge   \n",
       "116    2025  2025-05-25  R2025021  Charles Schwab Challenge   \n",
       "\n",
       "                    COURSE             PLAYER POS  FINAL_POS ROUNDS:1  \\\n",
       "11   Colonial Country Club        Ben Griffin   1          1       -4   \n",
       "86   Colonial Country Club       Matti Schmid   2          2       -4   \n",
       "19   Colonial Country Club         Bud Cauley   3          3       -4   \n",
       "126  Colonial Country Club    Tommy Fleetwood  T4          4       -3   \n",
       "116  Colonial Country Club  Scottie Scheffler  T4          4       -2   \n",
       "\n",
       "    ROUNDS:2 ROUNDS:3 ROUNDS:4 OFFICIAL_MONEY FEDEX_CUP_POINTS  \n",
       "11        -7       -2       +1  $1,710,000.00          500.000  \n",
       "86        -7       -2       +2  $1,035,500.00          300.000  \n",
       "19        -1       -1       -3    $655,500.00          190.000  \n",
       "126       -3        E       -2    $427,500.00          122.500  \n",
       "116       +1       -6       -1    $427,500.00          122.500  "
      ]
     },
     "execution_count": 2,
     "metadata": {},
     "output_type": "execute_result"
    }
   ],
   "source": [
    "importlib.reload(utils.db_utils)  # Only needed if you're actively editing db_utils.py\n",
    "from utils.db_utils import update_tournament_results\n",
    "\n",
    "# Change these each year!!\n",
    "season = 2025\n",
    "year = 20250  # Unique GraphQL year distinguishing number in case of multiple per year\n",
    "\n",
    "# Run the update\n",
    "db_path = \"data/golf.db\"  # Or use os.path.join(\"data\", \"golf.db\")\n",
    "tournDf = update_tournament_results(tournament_config, db_path, season, year)\n",
    "\n",
    "# Show just the most recent tournament added for confirmation\n",
    "from sqlalchemy import create_engine\n",
    "\n",
    "engine = create_engine(f\"sqlite:///{db_path}\")\n",
    "\n",
    "query = f\"\"\"\n",
    "SELECT *\n",
    "FROM tournaments\n",
    "WHERE TOURN_ID = '{tournament_config['old']['id']}'\n",
    "  AND ENDING_DATE = '{datetime.strptime(tournament_config['old']['date'], '%m/%d/%Y').date()}'\n",
    "\"\"\"\n",
    "\n",
    "recent = pd.read_sql(query, engine)\n",
    "engine.dispose()\n",
    "recent.sort_values(by='FINAL_POS').head()"
   ]
  },
  {
   "cell_type": "markdown",
   "id": "fb1dcb69",
   "metadata": {},
   "source": [
    "#### Stats"
   ]
  },
  {
   "cell_type": "code",
   "execution_count": 3,
   "id": "0cf3acf5",
   "metadata": {},
   "outputs": [
    {
     "name": "stdout",
     "output_type": "stream",
     "text": [
      "✅ Overwrote stats for season 2025 with 999 rows.\n"
     ]
    },
    {
     "data": {
      "text/html": [
       "<div>\n",
       "<style scoped>\n",
       "    .dataframe tbody tr th:only-of-type {\n",
       "        vertical-align: middle;\n",
       "    }\n",
       "\n",
       "    .dataframe tbody tr th {\n",
       "        vertical-align: top;\n",
       "    }\n",
       "\n",
       "    .dataframe thead th {\n",
       "        text-align: right;\n",
       "    }\n",
       "</style>\n",
       "<table border=\"1\" class=\"dataframe\">\n",
       "  <thead>\n",
       "    <tr style=\"text-align: right;\">\n",
       "      <th></th>\n",
       "      <th>PLAYER</th>\n",
       "      <th>SGTTG_RANK</th>\n",
       "      <th>SGTTG</th>\n",
       "      <th>SGOTT_RANK</th>\n",
       "      <th>SGOTT</th>\n",
       "      <th>SGAPR_RANK</th>\n",
       "      <th>SGAPR</th>\n",
       "      <th>SGATG_RANK</th>\n",
       "      <th>SGATG</th>\n",
       "      <th>SGP_RANK</th>\n",
       "      <th>...</th>\n",
       "      <th>DRIVING_DISTANCE</th>\n",
       "      <th>DRIVING_ACCURACY_RANK</th>\n",
       "      <th>DRIVING_ACCURACY</th>\n",
       "      <th>GIR_RANK</th>\n",
       "      <th>GIR</th>\n",
       "      <th>SCRAMBLING_RANK</th>\n",
       "      <th>SCRAMBLING</th>\n",
       "      <th>OWGR_RANK</th>\n",
       "      <th>OWGR</th>\n",
       "      <th>SEASON</th>\n",
       "    </tr>\n",
       "  </thead>\n",
       "  <tbody>\n",
       "    <tr>\n",
       "      <th>0</th>\n",
       "      <td>A.J. Ewart</td>\n",
       "      <td>NaN</td>\n",
       "      <td>NaN</td>\n",
       "      <td>NaN</td>\n",
       "      <td>NaN</td>\n",
       "      <td>NaN</td>\n",
       "      <td>NaN</td>\n",
       "      <td>NaN</td>\n",
       "      <td>NaN</td>\n",
       "      <td>NaN</td>\n",
       "      <td>...</td>\n",
       "      <td>NaN</td>\n",
       "      <td>NaN</td>\n",
       "      <td>NaN</td>\n",
       "      <td>NaN</td>\n",
       "      <td>NaN</td>\n",
       "      <td>NaN</td>\n",
       "      <td>NaN</td>\n",
       "      <td>580</td>\n",
       "      <td>.2011</td>\n",
       "      <td>2025</td>\n",
       "    </tr>\n",
       "    <tr>\n",
       "      <th>1</th>\n",
       "      <td>Aaron Baddeley</td>\n",
       "      <td>167.0</td>\n",
       "      <td>-0.965</td>\n",
       "      <td>178.0</td>\n",
       "      <td>-1.366</td>\n",
       "      <td>137.0</td>\n",
       "      <td>-0.203</td>\n",
       "      <td>3.0</td>\n",
       "      <td>0.604</td>\n",
       "      <td>161.0</td>\n",
       "      <td>...</td>\n",
       "      <td>288.9</td>\n",
       "      <td>119.0</td>\n",
       "      <td>56.64%</td>\n",
       "      <td>171.0</td>\n",
       "      <td>60.61%</td>\n",
       "      <td>89.0</td>\n",
       "      <td>60.68%</td>\n",
       "      <td>423</td>\n",
       "      <td>.3101</td>\n",
       "      <td>2025</td>\n",
       "    </tr>\n",
       "    <tr>\n",
       "      <th>2</th>\n",
       "      <td>Aaron Cockerill</td>\n",
       "      <td>NaN</td>\n",
       "      <td>NaN</td>\n",
       "      <td>NaN</td>\n",
       "      <td>NaN</td>\n",
       "      <td>NaN</td>\n",
       "      <td>NaN</td>\n",
       "      <td>NaN</td>\n",
       "      <td>NaN</td>\n",
       "      <td>NaN</td>\n",
       "      <td>...</td>\n",
       "      <td>NaN</td>\n",
       "      <td>NaN</td>\n",
       "      <td>NaN</td>\n",
       "      <td>NaN</td>\n",
       "      <td>NaN</td>\n",
       "      <td>NaN</td>\n",
       "      <td>NaN</td>\n",
       "      <td>360</td>\n",
       "      <td>.3777</td>\n",
       "      <td>2025</td>\n",
       "    </tr>\n",
       "    <tr>\n",
       "      <th>3</th>\n",
       "      <td>Aaron Rai</td>\n",
       "      <td>19.0</td>\n",
       "      <td>0.867</td>\n",
       "      <td>26.0</td>\n",
       "      <td>0.355</td>\n",
       "      <td>19.0</td>\n",
       "      <td>0.523</td>\n",
       "      <td>104.0</td>\n",
       "      <td>-0.011</td>\n",
       "      <td>119.0</td>\n",
       "      <td>...</td>\n",
       "      <td>287.3</td>\n",
       "      <td>1.0</td>\n",
       "      <td>73.36%</td>\n",
       "      <td>7.0</td>\n",
       "      <td>70.05%</td>\n",
       "      <td>129.0</td>\n",
       "      <td>58.87%</td>\n",
       "      <td>30</td>\n",
       "      <td>2.7271</td>\n",
       "      <td>2025</td>\n",
       "    </tr>\n",
       "    <tr>\n",
       "      <th>4</th>\n",
       "      <td>Aaron Wilkin</td>\n",
       "      <td>NaN</td>\n",
       "      <td>NaN</td>\n",
       "      <td>NaN</td>\n",
       "      <td>NaN</td>\n",
       "      <td>NaN</td>\n",
       "      <td>NaN</td>\n",
       "      <td>NaN</td>\n",
       "      <td>NaN</td>\n",
       "      <td>NaN</td>\n",
       "      <td>...</td>\n",
       "      <td>NaN</td>\n",
       "      <td>NaN</td>\n",
       "      <td>NaN</td>\n",
       "      <td>NaN</td>\n",
       "      <td>NaN</td>\n",
       "      <td>NaN</td>\n",
       "      <td>NaN</td>\n",
       "      <td>770</td>\n",
       "      <td>.1267</td>\n",
       "      <td>2025</td>\n",
       "    </tr>\n",
       "  </tbody>\n",
       "</table>\n",
       "<p>5 rows × 32 columns</p>\n",
       "</div>"
      ],
      "text/plain": [
       "            PLAYER  SGTTG_RANK   SGTTG  SGOTT_RANK   SGOTT  SGAPR_RANK  \\\n",
       "0       A.J. Ewart         NaN     NaN         NaN     NaN         NaN   \n",
       "1   Aaron Baddeley       167.0  -0.965       178.0  -1.366       137.0   \n",
       "2  Aaron Cockerill         NaN     NaN         NaN     NaN         NaN   \n",
       "3        Aaron Rai        19.0   0.867        26.0   0.355        19.0   \n",
       "4     Aaron Wilkin         NaN     NaN         NaN     NaN         NaN   \n",
       "\n",
       "    SGAPR  SGATG_RANK   SGATG  SGP_RANK  ... DRIVING_DISTANCE  \\\n",
       "0     NaN         NaN     NaN       NaN  ...              NaN   \n",
       "1  -0.203         3.0   0.604     161.0  ...            288.9   \n",
       "2     NaN         NaN     NaN       NaN  ...              NaN   \n",
       "3   0.523       104.0  -0.011     119.0  ...            287.3   \n",
       "4     NaN         NaN     NaN       NaN  ...              NaN   \n",
       "\n",
       "   DRIVING_ACCURACY_RANK DRIVING_ACCURACY  GIR_RANK     GIR  SCRAMBLING_RANK  \\\n",
       "0                    NaN              NaN       NaN     NaN              NaN   \n",
       "1                  119.0           56.64%     171.0  60.61%             89.0   \n",
       "2                    NaN              NaN       NaN     NaN              NaN   \n",
       "3                    1.0           73.36%       7.0  70.05%            129.0   \n",
       "4                    NaN              NaN       NaN     NaN              NaN   \n",
       "\n",
       "  SCRAMBLING  OWGR_RANK    OWGR  SEASON  \n",
       "0        NaN        580   .2011    2025  \n",
       "1     60.68%        423   .3101    2025  \n",
       "2        NaN        360   .3777    2025  \n",
       "3     58.87%         30  2.7271    2025  \n",
       "4        NaN        770   .1267    2025  \n",
       "\n",
       "[5 rows x 32 columns]"
      ]
     },
     "execution_count": 3,
     "metadata": {},
     "output_type": "execute_result"
    }
   ],
   "source": [
    "importlib.reload(utils.db_utils)\n",
    "from utils.db_utils import update_season_stats  # <- This line is essential\n",
    "\n",
    "# Change these each year!!\n",
    "statsYear = 2025\n",
    "\n",
    "stats_df = update_season_stats(statsYear, db_path)\n",
    "stats_df.head()"
   ]
  },
  {
   "cell_type": "markdown",
   "id": "e4d0572b",
   "metadata": {},
   "source": [
    "#### Odds\n",
    "Not usually needed for weekly routine."
   ]
  },
  {
   "cell_type": "markdown",
   "id": "ed73bb90",
   "metadata": {},
   "source": [
    "**Manual Fix! Odds name cleanup (only needed when joins fail)**\n",
    "\n",
    "Make sure to update the dictionaries in db_utils.py if new names need to be added."
   ]
  },
  {
   "cell_type": "code",
   "execution_count": 30,
   "id": "f47573f7",
   "metadata": {},
   "outputs": [
    {
     "name": "stdout",
     "output_type": "stream",
     "text": [
      "ℹ️ No odds rows required name cleanup.\n"
     ]
    },
    {
     "data": {
      "text/html": [
       "<div>\n",
       "<style scoped>\n",
       "    .dataframe tbody tr th:only-of-type {\n",
       "        vertical-align: middle;\n",
       "    }\n",
       "\n",
       "    .dataframe tbody tr th {\n",
       "        vertical-align: top;\n",
       "    }\n",
       "\n",
       "    .dataframe thead th {\n",
       "        text-align: right;\n",
       "    }\n",
       "</style>\n",
       "<table border=\"1\" class=\"dataframe\">\n",
       "  <thead>\n",
       "    <tr style=\"text-align: right;\">\n",
       "      <th></th>\n",
       "      <th>SEASON</th>\n",
       "      <th>TOURNAMENT</th>\n",
       "      <th>ENDING_DATE</th>\n",
       "      <th>PLAYER</th>\n",
       "      <th>ODDS</th>\n",
       "      <th>VEGAS_ODDS</th>\n",
       "      <th>TOURNAMENT_ORIG</th>\n",
       "      <th>PLAYER_ORIG</th>\n",
       "    </tr>\n",
       "  </thead>\n",
       "  <tbody>\n",
       "  </tbody>\n",
       "</table>\n",
       "</div>"
      ],
      "text/plain": [
       "Empty DataFrame\n",
       "Columns: [SEASON, TOURNAMENT, ENDING_DATE, PLAYER, ODDS, VEGAS_ODDS, TOURNAMENT_ORIG, PLAYER_ORIG]\n",
       "Index: []"
      ]
     },
     "execution_count": 30,
     "metadata": {},
     "output_type": "execute_result"
    }
   ],
   "source": [
    "importlib.reload(utils.db_utils)\n",
    "from utils.db_utils import clean_odds_names, PLAYER_NAME_MAP, TOURNAMENT_NAME_MAP\n",
    "\n",
    "db_path = \"data/golf.db\" \n",
    "updated_odds = clean_odds_names(db_path, TOURNAMENT_NAME_MAP, PLAYER_NAME_MAP)\n",
    "updated_odds.head()"
   ]
  },
  {
   "cell_type": "markdown",
   "id": "3ffcf8d8",
   "metadata": {},
   "source": [
    "**Historical Odds Updates**\n",
    "\n",
    "Only run this when loading in entire year odds at the start of each year or if corrections need to be made.  This will load in the entire year into the database and update it using the dictionary in db_utils.py."
   ]
  },
  {
   "cell_type": "code",
   "execution_count": 31,
   "id": "7b0ef77d",
   "metadata": {},
   "outputs": [
    {
     "name": "stdout",
     "output_type": "stream",
     "text": [
      "ℹ️ Historical odds for season 2023 already exist — no new rows added.\n"
     ]
    },
    {
     "data": {
      "text/html": [
       "<div>\n",
       "<style scoped>\n",
       "    .dataframe tbody tr th:only-of-type {\n",
       "        vertical-align: middle;\n",
       "    }\n",
       "\n",
       "    .dataframe tbody tr th {\n",
       "        vertical-align: top;\n",
       "    }\n",
       "\n",
       "    .dataframe thead th {\n",
       "        text-align: right;\n",
       "    }\n",
       "</style>\n",
       "<table border=\"1\" class=\"dataframe\">\n",
       "  <thead>\n",
       "    <tr style=\"text-align: right;\">\n",
       "      <th></th>\n",
       "      <th>SEASON</th>\n",
       "      <th>TOURNAMENT</th>\n",
       "      <th>ENDING_DATE</th>\n",
       "      <th>PLAYER</th>\n",
       "      <th>ODDS</th>\n",
       "      <th>VEGAS_ODDS</th>\n",
       "    </tr>\n",
       "  </thead>\n",
       "  <tbody>\n",
       "    <tr>\n",
       "      <th>4</th>\n",
       "      <td>2023</td>\n",
       "      <td>Fortinet Championship</td>\n",
       "      <td>2022-09-18</td>\n",
       "      <td>Hideki Matsuyama</td>\n",
       "      <td>18/1</td>\n",
       "      <td>18.0</td>\n",
       "    </tr>\n",
       "    <tr>\n",
       "      <th>5</th>\n",
       "      <td>2023</td>\n",
       "      <td>Fortinet Championship</td>\n",
       "      <td>2022-09-18</td>\n",
       "      <td>Max Homa</td>\n",
       "      <td>18/1</td>\n",
       "      <td>18.0</td>\n",
       "    </tr>\n",
       "    <tr>\n",
       "      <th>6</th>\n",
       "      <td>2023</td>\n",
       "      <td>Fortinet Championship</td>\n",
       "      <td>2022-09-18</td>\n",
       "      <td>Corey Conners</td>\n",
       "      <td>20/1</td>\n",
       "      <td>20.0</td>\n",
       "    </tr>\n",
       "    <tr>\n",
       "      <th>7</th>\n",
       "      <td>2023</td>\n",
       "      <td>Fortinet Championship</td>\n",
       "      <td>2022-09-18</td>\n",
       "      <td>Maverick McNealy</td>\n",
       "      <td>25/1</td>\n",
       "      <td>25.0</td>\n",
       "    </tr>\n",
       "    <tr>\n",
       "      <th>8</th>\n",
       "      <td>2023</td>\n",
       "      <td>Fortinet Championship</td>\n",
       "      <td>2022-09-18</td>\n",
       "      <td>Taylor Pendrith</td>\n",
       "      <td>25/1</td>\n",
       "      <td>25.0</td>\n",
       "    </tr>\n",
       "  </tbody>\n",
       "</table>\n",
       "</div>"
      ],
      "text/plain": [
       "   SEASON             TOURNAMENT ENDING_DATE            PLAYER  ODDS  \\\n",
       "4    2023  Fortinet Championship  2022-09-18  Hideki Matsuyama  18/1   \n",
       "5    2023  Fortinet Championship  2022-09-18          Max Homa  18/1   \n",
       "6    2023  Fortinet Championship  2022-09-18     Corey Conners  20/1   \n",
       "7    2023  Fortinet Championship  2022-09-18  Maverick McNealy  25/1   \n",
       "8    2023  Fortinet Championship  2022-09-18   Taylor Pendrith  25/1   \n",
       "\n",
       "   VEGAS_ODDS  \n",
       "4        18.0  \n",
       "5        18.0  \n",
       "6        20.0  \n",
       "7        25.0  \n",
       "8        25.0  "
      ]
     },
     "execution_count": 31,
     "metadata": {},
     "output_type": "execute_result"
    }
   ],
   "source": [
    "importlib.reload(utils.db_utils)\n",
    "from utils.db_utils import import_historical_odds\n",
    "\n",
    "oddsYear = \"2022-2023\"    # URL segment\n",
    "season = 2023             # PGA Tour season\n",
    "db_path = \"data/golf.db\"\n",
    "\n",
    "odds_df = import_historical_odds(oddsYear, season, db_path)\n",
    "odds_df.head()"
   ]
  },
  {
   "cell_type": "markdown",
   "id": "82fc5dfe",
   "metadata": {},
   "source": [
    "**Not normally needed**\n",
    "\n",
    "The code below is a way to troubleshoot the odds function that is in db_utils.py.  If it does not pull the stats correctly, we can run it outside of the db_utils.py file and explore what might be wrong with it, iterating until it works, and then using that fix to update db_utils.py.  This is not normally needed, but wanted to leave this in place as a reference because this odds website can be tricky."
   ]
  },
  {
   "cell_type": "code",
   "execution_count": 32,
   "id": "94460f27",
   "metadata": {},
   "outputs": [
    {
     "name": "stdout",
     "output_type": "stream",
     "text": [
      "📍 Detected: Safeway Open — Ending: 2020-09-13\n",
      "📍 Detected: US Open — Ending: 2020-09-20\n",
      "📍 Detected: R & C Championship — Ending: 2020-09-27\n",
      "📍 Detected: at Big Cedar Lodge - — Ending: 2020-09-22\n",
      "📍 Detected: Sanderson Farms Champ — Ending: 2020-10-04\n",
      "📍 Detected: Shriners H for C Open — Ending: 2020-10-11\n",
      "📍 Detected: The CJ Cup — Ending: 2020-10-18\n",
      "📍 Detected: ZOZO CHAMPIONSHIP — Ending: 2020-10-25\n",
      "📍 Detected: Bermuda Championship — Ending: 2020-11-01\n",
      "📍 Detected: Vivint Houston Open — Ending: 2020-11-08\n",
      "📍 Detected: The Masters — Ending: 2020-11-15\n",
      "📍 Detected: The RSM Classic — Ending: 2020-11-22\n",
      "📍 Detected: Champions for Change — Ending: 2020-11-27\n",
      "📍 Detected: Mayakoba Golf Classic — Ending: 2020-12-06\n",
      "📍 Detected: QBE Shootout — Ending: 2020-12-13\n",
      "📍 Detected: Sentry Tourn of Champions — Ending: 2021-01-10\n",
      "📍 Detected: Sony Open in Hawaii — Ending: 2021-01-17\n",
      "📍 Detected: The American Express — Ending: 2021-01-24\n",
      "📍 Detected: Abu Dhabi HSBC Champ — Ending: 2021-01-24\n",
      "📍 Detected: Farmers Insurance Open — Ending: 2021-01-31\n",
      "📍 Detected: Dubai Desert Classic — Ending: 2021-01-31\n",
      "📍 Detected: W M Phoenix Open — Ending: 2021-02-07\n",
      "📍 Detected: King Abdullah Economic City, — Ending: 2021-02-07\n",
      "📍 Detected: AT&T Pebble Beach Pro-Am — Ending: 2021-02-14\n",
      "📍 Detected: Collegiate Showcase — Ending: 2021-02-15\n",
      "📍 Detected: The Genesis Invitational — Ending: 2021-02-21\n",
      "📍 Detected: WGC-Workday Championship — Ending: 2021-02-28\n",
      "📍 Detected: Puerto Rico Open — Ending: 2021-02-28\n",
      "📍 Detected: Arnold Palmer Invitational — Ending: 2021-03-07\n",
      "📍 Detected: THE PLAYERS Championship — Ending: 2021-03-14\n",
      "📍 Detected: Qatar Masters — Ending: 2021-03-14\n",
      "📍 Detected: The Honda Classic — Ending: 2021-03-21\n",
      "📍 Detected: Magical Kenya Open — Ending: 2021-03-21\n",
      "📍 Detected: Kenya Savannah Classic — Ending: 2021-03-26\n",
      "📍 Detected: WGC-Dell Tech Match Play — Ending: 2021-03-28\n",
      "📍 Detected: Corales Punta Cana Champ — Ending: 2021-03-28\n",
      "📍 Detected: Valero Texas Open — Ending: 2021-04-04\n",
      "📍 Detected: The Masters — Ending: 2021-04-11\n",
      "📍 Detected: RBC Heritage — Ending: 2021-04-18\n",
      "📍 Detected: Austrian Golf Open — Ending: 2021-04-18\n",
      "📍 Detected: MGM Resorts Championship — Ending: 2021-04-18\n",
      "📍 Detected: Zurich Classic of New Orleans — Ending: 2021-04-25\n",
      "📍 Detected: Gran Canaria Lopesan Open — Ending: 2021-04-25\n",
      "📍 Detected: Valspar Championship — Ending: 2021-05-02\n",
      "📍 Detected: Tenerife Open — Ending: 2021-05-02\n",
      "📍 Detected: Wells Fargo Championship — Ending: 2021-05-09\n",
      "📍 Detected: Canary Islands Championship — Ending: 2021-05-09\n",
      "📍 Detected: AT&T Byron Nelson — Ending: 2021-05-16\n",
      "📍 Detected: British Masters — Ending: 2021-05-16\n",
      "📍 Detected: PGA Championship — Ending: 2021-05-23\n",
      "📍 Detected: Charles Schwab Challenge — Ending: 2021-05-30\n",
      "📍 Detected: Made in Himmerland — Ending: 2021-05-30\n",
      "📍 Detected: The Memorial Tournament — Ending: 2021-06-06\n",
      "📍 Detected: Porsche European Open — Ending: 2021-06-07\n",
      "📍 Detected: Palmetto Championship — Ending: 2021-06-13\n",
      "📍 Detected: Scandinavian Mixed — Ending: 2021-06-13\n",
      "📍 Detected: US Open — Ending: 2021-06-20\n",
      "📍 Detected: Travelers Championship — Ending: 2021-06-27\n",
      "📍 Detected: BMW International Open — Ending: 2021-06-27\n",
      "📍 Detected: Rocket Mortgage Classic — Ending: 2021-07-04\n",
      "📍 Detected: Dubai Duty Free Irish Open — Ending: 2021-07-04\n",
      "📍 Detected: Moonlight Basin - — Ending: 2021-07-06\n",
      "📍 Detected: John Deere Classic — Ending: 2021-07-11\n",
      "📍 Detected: abrdn Scottish Open — Ending: 2021-07-11\n",
      "📍 Detected: The Open Championship — Ending: 2021-07-18\n",
      "📍 Detected: Barbasol Championship — Ending: 2021-07-18\n",
      "📍 Detected: 3M Open — Ending: 2021-07-25\n",
      "📍 Detected: Cazoo Open — Ending: 2021-07-25\n",
      "📍 Detected: Men's Olympic Golf — Ending: 2021-08-01\n",
      "📍 Detected: World Invitational — Ending: 2021-08-01\n",
      "📍 Detected: WGC-FedEx St. Jude Invit — Ending: 2021-08-08\n",
      "📍 Detected: Barracuda Championship — Ending: 2021-08-08\n",
      "📍 Detected: Hero Open — Ending: 2021-08-08\n",
      "📍 Detected: Wyndham Championship — Ending: 2021-08-15\n",
      "📍 Detected: Cazoo Classic — Ending: 2021-08-15\n",
      "📍 Detected: The Northern Trust — Ending: 2021-08-23\n",
      "📍 Detected: D+D Real Czech Masters — Ending: 2021-08-22\n",
      "📍 Detected: BMW Championship — Ending: 2021-08-29\n",
      "📍 Detected: Omega European Masters — Ending: 2021-08-29\n",
      "📍 Detected: TOUR Championship — Ending: 2021-09-05\n",
      "📍 Detected: Italian Open — Ending: 2021-09-05\n",
      "📍 Detected: BMW PGA Championship — Ending: 2021-09-12\n",
      "📍 Detected: Dutch Open — Ending: 2021-09-19\n",
      "📍 Detected: 43rd Ryder Cup — Ending: 2021-09-26\n",
      "📍 Detected: Alfred Dunhill Links Champ — Ending: 2021-10-03\n",
      "📍 Detected: Open de Espana — Ending: 2021-10-10\n",
      "📍 Detected: Andalucia Masters — Ending: 2021-10-17\n",
      "📍 Detected: Mallorca Golf Open — Ending: 2021-10-24\n",
      "📍 Detected: Portugal Masters — Ending: 2021-11-07\n",
      "📍 Detected: AVIV Dubai Championship — Ending: 2021-11-14\n",
      "📍 Detected: DP World Tour Championship — Ending: 2021-11-21\n",
      "📍 Detected: Golf Nippon Series JT Cup — Ending: 2021-12-05\n"
     ]
    },
    {
     "data": {
      "text/html": [
       "<div>\n",
       "<style scoped>\n",
       "    .dataframe tbody tr th:only-of-type {\n",
       "        vertical-align: middle;\n",
       "    }\n",
       "\n",
       "    .dataframe tbody tr th {\n",
       "        vertical-align: top;\n",
       "    }\n",
       "\n",
       "    .dataframe thead th {\n",
       "        text-align: right;\n",
       "    }\n",
       "</style>\n",
       "<table border=\"1\" class=\"dataframe\">\n",
       "  <thead>\n",
       "    <tr style=\"text-align: right;\">\n",
       "      <th></th>\n",
       "      <th>SEASON</th>\n",
       "      <th>TOURNAMENT</th>\n",
       "      <th>ENDING_DATE</th>\n",
       "      <th>PLAYER</th>\n",
       "      <th>ODDS</th>\n",
       "      <th>VEGAS_ODDS</th>\n",
       "    </tr>\n",
       "  </thead>\n",
       "  <tbody>\n",
       "    <tr>\n",
       "      <th>0</th>\n",
       "      <td>2021</td>\n",
       "      <td>Safeway Open</td>\n",
       "      <td>2020-09-13</td>\n",
       "      <td>Phil Mickelson</td>\n",
       "      <td>20/1</td>\n",
       "      <td>20.0</td>\n",
       "    </tr>\n",
       "    <tr>\n",
       "      <th>1</th>\n",
       "      <td>2021</td>\n",
       "      <td>Safeway Open</td>\n",
       "      <td>2020-09-13</td>\n",
       "      <td>Si Woo Kim</td>\n",
       "      <td>20/1</td>\n",
       "      <td>20.0</td>\n",
       "    </tr>\n",
       "    <tr>\n",
       "      <th>2</th>\n",
       "      <td>2021</td>\n",
       "      <td>Safeway Open</td>\n",
       "      <td>2020-09-13</td>\n",
       "      <td>Brendan Steele</td>\n",
       "      <td>20/1</td>\n",
       "      <td>20.0</td>\n",
       "    </tr>\n",
       "    <tr>\n",
       "      <th>3</th>\n",
       "      <td>2021</td>\n",
       "      <td>Safeway Open</td>\n",
       "      <td>2020-09-13</td>\n",
       "      <td>Shane Lowry</td>\n",
       "      <td>25/1</td>\n",
       "      <td>25.0</td>\n",
       "    </tr>\n",
       "    <tr>\n",
       "      <th>4</th>\n",
       "      <td>2021</td>\n",
       "      <td>Safeway Open</td>\n",
       "      <td>2020-09-13</td>\n",
       "      <td>Sergio Garcia</td>\n",
       "      <td>30/1</td>\n",
       "      <td>30.0</td>\n",
       "    </tr>\n",
       "  </tbody>\n",
       "</table>\n",
       "</div>"
      ],
      "text/plain": [
       "   SEASON    TOURNAMENT ENDING_DATE          PLAYER  ODDS  VEGAS_ODDS\n",
       "0    2021  Safeway Open  2020-09-13  Phil Mickelson  20/1        20.0\n",
       "1    2021  Safeway Open  2020-09-13      Si Woo Kim  20/1        20.0\n",
       "2    2021  Safeway Open  2020-09-13  Brendan Steele  20/1        20.0\n",
       "3    2021  Safeway Open  2020-09-13     Shane Lowry  25/1        25.0\n",
       "4    2021  Safeway Open  2020-09-13   Sergio Garcia  30/1        30.0"
      ]
     },
     "metadata": {},
     "output_type": "display_data"
    }
   ],
   "source": [
    "import pandas as pd\n",
    "import numpy as np\n",
    "import requests\n",
    "import re\n",
    "from datetime import datetime\n",
    "from io import StringIO\n",
    "\n",
    "# === USER INPUT ===\n",
    "oddsYear = \"2020-2021\"    # URL segment\n",
    "season = 2021        # PGA Tour season\n",
    "\n",
    "url = f\"http://golfodds.com/archives-{oddsYear}.html\"\n",
    "response = requests.get(url)\n",
    "tables = pd.read_html(StringIO(response.text))\n",
    "# raw_df = tables[5]  # the actual table of interest\n",
    "# Find the largest 2-column table that contains at least some odds-like strings\n",
    "raw_df = None\n",
    "for tbl in tables:\n",
    "    if tbl.shape[1] == 2 and tbl.shape[0] > 50:  # Rough filter\n",
    "        sample = tbl.iloc[:, 1].astype(str).str.contains(r\"\\d+/\\d+\").sum()\n",
    "        if sample > 5:\n",
    "            raw_df = tbl\n",
    "            break\n",
    "\n",
    "if raw_df is None:\n",
    "    raise ValueError(\"❌ Could not find valid odds table on the page.\")\n",
    "\n",
    "# === STEP 1: Initial clean-up ===\n",
    "df = raw_df.dropna(how=\"all\").reset_index(drop=True)\n",
    "df.columns = [\"PLAYER\", \"ODDS\"]\n",
    "\n",
    "# 🔧 Clean up non-breaking spaces and extra whitespace\n",
    "df[\"PLAYER\"] = (\n",
    "    df[\"PLAYER\"]\n",
    "    .astype(str)\n",
    "    .str.replace(\"\\xa0\", \" \", regex=False)\n",
    "    .str.replace(r\"\\s+\", \" \", regex=True)\n",
    "    .str.strip()\n",
    ")\n",
    "\n",
    "df.insert(loc=0, column=\"SEASON\", value=season)\n",
    "df.insert(loc=1, column=\"TOURNAMENT\", value=np.nan)\n",
    "df.insert(loc=2, column=\"ENDING_DATE\", value=np.nan)\n",
    "\n",
    "# === STEP 2: Helper function for parsing date strings ===\n",
    "def parse_ending_date(text):\n",
    "    import re\n",
    "    from datetime import datetime\n",
    "\n",
    "    # Normalize whitespace and symbols\n",
    "    text = (\n",
    "        text.replace(\"\\u2013\", \"-\")\n",
    "            .replace(\"–\", \"-\")\n",
    "            .replace(\"\\xa0\", \" \")\n",
    "    )\n",
    "    text = re.sub(r\"\\bSept(?!ember)\\b\", \"Sep\", text)\n",
    "\n",
    "    # ✅ Fix typo: \"Match\" → \"March\" only when used in a date context\n",
    "    text = re.sub(r\"\\bMatch(?=\\s+\\d{1,2}\\s*[-–]\\s*\\d{1,2},\\s*\\d{4})\", \"March\", text)\n",
    "\n",
    "    # Pattern 1: \"July 30 - August 2, 2015\" or \"Oct 29 - Nov 1, 2015\"\n",
    "    match = re.search(r\"(\\w+)\\s\\d+\\s*-\\s*(\\w+)\\s(\\d+),\\s(\\d{4})\", text)\n",
    "    if match:\n",
    "        month2, day2, year = match.group(2), match.group(3), match.group(4)\n",
    "        for fmt in [\"%B %d, %Y\", \"%b %d, %Y\"]:\n",
    "            try:\n",
    "                return datetime.strptime(f\"{month2} {day2}, {year}\", fmt).date()\n",
    "            except ValueError:\n",
    "                continue\n",
    "\n",
    "    # Pattern 2: \"November 21-24, 2024\"\n",
    "    match = re.search(r\"(\\w+)\\s\\d+-\\d+,\\s(\\d{4})\", text)\n",
    "    if match:\n",
    "        month, year = match.group(1), match.group(2)\n",
    "        day = re.search(r\"(\\d+)-(\\d+)\", text).group(2)\n",
    "        for fmt in [\"%B %d, %Y\", \"%b %d, %Y\"]:\n",
    "            try:\n",
    "                return datetime.strptime(f\"{month} {day}, {year}\", fmt).date()\n",
    "            except ValueError:\n",
    "                continue\n",
    "\n",
    "    # Pattern 3: \"Sunday, October 20, 2019\"\n",
    "    try:\n",
    "        return datetime.strptime(text.strip(), \"%A, %B %d, %Y\").date()\n",
    "    except ValueError:\n",
    "        pass\n",
    "\n",
    "    # Pattern 4: \"October 20, 2019\"\n",
    "    try:\n",
    "        return datetime.strptime(text.strip(), \"%B %d, %Y\").date()\n",
    "    except ValueError:\n",
    "        pass\n",
    "\n",
    "    return None\n",
    "\n",
    "last_tourn_name = None\n",
    "last_date = None\n",
    "\n",
    "# === STEP 3: Iterate block by block ===\n",
    "final_rows = []\n",
    "i = 0\n",
    "last_tourn_name = None\n",
    "last_end_date = None\n",
    "\n",
    "while i < len(df) - 4:\n",
    "    player_i = str(df.loc[i, \"PLAYER\"])\n",
    "    player_i2 = str(df.loc[i + 2, \"PLAYER\"])\n",
    "    player_i3 = str(df.loc[i + 3, \"PLAYER\"]).lower()\n",
    "\n",
    "    # Detect start of a new tournament block\n",
    "    is_header = (\n",
    "        pd.isna(df.loc[i, \"ODDS\"]) and\n",
    "        pd.isna(df.loc[i + 1, \"ODDS\"]) and (\n",
    "            re.search(r\"\\w+\\s\\d+\\s*[-–]\\s*(\\w+\\s)?\\d+,\\s\\d{4}\", player_i2) or\n",
    "            re.search(r\"(Monday|Tuesday|Wednesday|Thursday|Friday|Saturday|Sunday),?\\s+\\w+\\s\\d{1,2},\\s\\d{4}\", player_i2)\n",
    "        )\n",
    "    )\n",
    "\n",
    "    if is_header:\n",
    "        tourn_name = player_i.strip()\n",
    "        end_date = parse_ending_date(player_i2)\n",
    "\n",
    "        # Skip cancelled or empty blocks\n",
    "        if \"cancelled\" in player_i3:\n",
    "            print(f\"⚠️ Skipping cancelled tournament: {tourn_name} — {end_date}\")\n",
    "            i += 4\n",
    "            continue\n",
    "\n",
    "        # Avoid duplicate block processing\n",
    "        if tourn_name == last_tourn_name and end_date == last_end_date:\n",
    "            i += 1\n",
    "            continue\n",
    "\n",
    "        print(f\"📍 Detected: {tourn_name} — Ending: {end_date}\")\n",
    "        last_tourn_name = tourn_name\n",
    "        last_end_date = end_date\n",
    "        i += 4  # Skip header lines\n",
    "\n",
    "        # Collect all player rows until next header block\n",
    "        while i < len(df) - 2:\n",
    "            next_i2 = str(df.loc[i + 2, \"PLAYER\"])\n",
    "            is_next_header = (\n",
    "                pd.isna(df.loc[i, \"ODDS\"]) and\n",
    "                pd.isna(df.loc[i + 1, \"ODDS\"]) and (\n",
    "                    re.search(r\"\\w+\\s\\d+\\s*[-–]\\s*(\\w+\\s)?\\d+,\\s\\d{4}\", next_i2) or\n",
    "                    re.search(r\"(Monday|Tuesday|Wednesday|Thursday|Friday|Saturday|Sunday),?\\s+\\w+\\s\\d{1,2},\\s\\d{4}\", next_i2)\n",
    "                )\n",
    "            )\n",
    "            if is_next_header:\n",
    "                break\n",
    "\n",
    "            if pd.notna(df.loc[i, \"ODDS\"]):\n",
    "                row = df.loc[i].copy()\n",
    "                row[\"TOURNAMENT\"] = tourn_name\n",
    "                row[\"ENDING_DATE\"] = end_date\n",
    "                final_rows.append(row)\n",
    "            i += 1\n",
    "    else:\n",
    "        i += 1\n",
    "\n",
    "# === STEP 4: Create cleaned DataFrame ===\n",
    "clean_df = pd.DataFrame(final_rows)\n",
    "\n",
    "# ✅ Prevent crash if nothing was parsed\n",
    "if clean_df.empty or \"PLAYER\" not in clean_df.columns:\n",
    "    print(f\"⚠️ No valid tournament blocks detected for season {season} ({oddsYear})\")\n",
    "    final_df = pd.DataFrame()  # Safe fallback\n",
    "else:\n",
    "    # Remove winner tag\n",
    "    clean_df[\"PLAYER\"] = clean_df[\"PLAYER\"].str.replace(r\"\\s\\*Winner\\*\", \"\", regex=True)\n",
    "\n",
    "    # Clean odds to numeric\n",
    "    clean_df[\"VEGAS_ODDS\"] = (\n",
    "        clean_df[\"ODDS\"]\n",
    "        .str.replace(\",\", \"\")\n",
    "        .str.extract(r\"(\\d+)/(\\d+)\")\n",
    "        .astype(float)\n",
    "        .apply(lambda x: x[0] / x[1], axis=1)\n",
    "    )\n",
    "\n",
    "    # Final output with source index for debugging\n",
    "    final_df = clean_df[\n",
    "        [\"SEASON\", \"TOURNAMENT\", \"ENDING_DATE\", \"PLAYER\", \"ODDS\", \"VEGAS_ODDS\"]\n",
    "    ].reset_index(drop=True)\n",
    "\n",
    "    # Drop non-standard team events (e.g., Presidents Cup, Ryder Cup)\n",
    "    drop_terms = [\"Presidents Cup\", \"Ryder Cup\"]\n",
    "    final_df = final_df[~final_df[\"TOURNAMENT\"].str.contains(\"|\".join(drop_terms), case=False, na=False)]\n",
    "\n",
    "    display(final_df.head())\n",
    "\n"
   ]
  },
  {
   "cell_type": "code",
   "execution_count": 33,
   "id": "1ba6ed1d",
   "metadata": {},
   "outputs": [
    {
     "name": "stdout",
     "output_type": "stream",
     "text": [
      "🧪 Rows with invalid ENDING_DATE values: 0\n"
     ]
    },
    {
     "data": {
      "text/html": [
       "<div>\n",
       "<style scoped>\n",
       "    .dataframe tbody tr th:only-of-type {\n",
       "        vertical-align: middle;\n",
       "    }\n",
       "\n",
       "    .dataframe tbody tr th {\n",
       "        vertical-align: top;\n",
       "    }\n",
       "\n",
       "    .dataframe thead th {\n",
       "        text-align: right;\n",
       "    }\n",
       "</style>\n",
       "<table border=\"1\" class=\"dataframe\">\n",
       "  <thead>\n",
       "    <tr style=\"text-align: right;\">\n",
       "      <th></th>\n",
       "      <th>SEASON</th>\n",
       "      <th>TOURNAMENT</th>\n",
       "      <th>ENDING_DATE</th>\n",
       "      <th>PLAYER</th>\n",
       "      <th>ODDS</th>\n",
       "      <th>VEGAS_ODDS</th>\n",
       "    </tr>\n",
       "  </thead>\n",
       "  <tbody>\n",
       "  </tbody>\n",
       "</table>\n",
       "</div>"
      ],
      "text/plain": [
       "Empty DataFrame\n",
       "Columns: [SEASON, TOURNAMENT, ENDING_DATE, PLAYER, ODDS, VEGAS_ODDS]\n",
       "Index: []"
      ]
     },
     "metadata": {},
     "output_type": "display_data"
    }
   ],
   "source": [
    "from datetime import datetime, date\n",
    "# ✅ Check for non-date types in ENDING_DATE\n",
    "non_dates = final_df[~final_df[\"ENDING_DATE\"].apply(lambda x: isinstance(x, date))]\n",
    "\n",
    "print(f\"🧪 Rows with invalid ENDING_DATE values: {len(non_dates)}\")\n",
    "display(non_dates.head(10))\n",
    "\n"
   ]
  },
  {
   "cell_type": "code",
   "execution_count": 34,
   "id": "d42bfaa0",
   "metadata": {},
   "outputs": [
    {
     "name": "stdout",
     "output_type": "stream",
     "text": [
      "🚨 Duplicate primary keys in final_df: 0\n"
     ]
    },
    {
     "data": {
      "text/html": [
       "<div>\n",
       "<style scoped>\n",
       "    .dataframe tbody tr th:only-of-type {\n",
       "        vertical-align: middle;\n",
       "    }\n",
       "\n",
       "    .dataframe tbody tr th {\n",
       "        vertical-align: top;\n",
       "    }\n",
       "\n",
       "    .dataframe thead th {\n",
       "        text-align: right;\n",
       "    }\n",
       "</style>\n",
       "<table border=\"1\" class=\"dataframe\">\n",
       "  <thead>\n",
       "    <tr style=\"text-align: right;\">\n",
       "      <th></th>\n",
       "      <th>SEASON</th>\n",
       "      <th>TOURNAMENT</th>\n",
       "      <th>ENDING_DATE</th>\n",
       "      <th>PLAYER</th>\n",
       "      <th>ODDS</th>\n",
       "      <th>VEGAS_ODDS</th>\n",
       "    </tr>\n",
       "  </thead>\n",
       "  <tbody>\n",
       "  </tbody>\n",
       "</table>\n",
       "</div>"
      ],
      "text/plain": [
       "Empty DataFrame\n",
       "Columns: [SEASON, TOURNAMENT, ENDING_DATE, PLAYER, ODDS, VEGAS_ODDS]\n",
       "Index: []"
      ]
     },
     "metadata": {},
     "output_type": "display_data"
    }
   ],
   "source": [
    "dupes = final_df.duplicated(subset=[\"SEASON\", \"TOURNAMENT\", \"ENDING_DATE\", \"PLAYER\"], keep=False)\n",
    "\n",
    "print(f\"🚨 Duplicate primary keys in final_df: {dupes.sum()}\")\n",
    "display(final_df[dupes].sort_values(by=[\"SEASON\", \"TOURNAMENT\", \"PLAYER\"]))"
   ]
  },
  {
   "cell_type": "markdown",
   "id": "d5827d49",
   "metadata": {},
   "source": [
    "## Historical Data"
   ]
  },
  {
   "cell_type": "markdown",
   "id": "72034314",
   "metadata": {},
   "source": [
    "### Pull Relevant Seasons\n",
    "Do a check to see when this course or tournament have been historically played."
   ]
  },
  {
   "cell_type": "code",
   "execution_count": 39,
   "id": "fea9c7c6",
   "metadata": {},
   "outputs": [
    {
     "name": "stdout",
     "output_type": "stream",
     "text": [
      "ℹ️ Found 9 relevant tournaments from course or tournament name.\n"
     ]
    },
    {
     "data": {
      "text/html": [
       "<div>\n",
       "<style scoped>\n",
       "    .dataframe tbody tr th:only-of-type {\n",
       "        vertical-align: middle;\n",
       "    }\n",
       "\n",
       "    .dataframe tbody tr th {\n",
       "        vertical-align: top;\n",
       "    }\n",
       "\n",
       "    .dataframe thead th {\n",
       "        text-align: right;\n",
       "    }\n",
       "</style>\n",
       "<table border=\"1\" class=\"dataframe\">\n",
       "  <thead>\n",
       "    <tr style=\"text-align: right;\">\n",
       "      <th></th>\n",
       "      <th>SEASON</th>\n",
       "      <th>COURSE</th>\n",
       "      <th>TOURN_ID</th>\n",
       "      <th>TOURNAMENT</th>\n",
       "      <th>ENDING_DATE</th>\n",
       "    </tr>\n",
       "  </thead>\n",
       "  <tbody>\n",
       "    <tr>\n",
       "      <th>608</th>\n",
       "      <td>2016</td>\n",
       "      <td>Muirfield Village Golf Club</td>\n",
       "      <td>023</td>\n",
       "      <td>the Memorial Tournament presented by Nationwide</td>\n",
       "      <td>2016-06-05</td>\n",
       "    </tr>\n",
       "    <tr>\n",
       "      <th>489</th>\n",
       "      <td>2017</td>\n",
       "      <td>Muirfield Village Golf Club</td>\n",
       "      <td>023</td>\n",
       "      <td>the Memorial Tournament presented by Nationwide</td>\n",
       "      <td>2017-06-04</td>\n",
       "    </tr>\n",
       "    <tr>\n",
       "      <th>369</th>\n",
       "      <td>2018</td>\n",
       "      <td>Muirfield Village Golf Club</td>\n",
       "      <td>023</td>\n",
       "      <td>the Memorial Tournament presented by Nationwide</td>\n",
       "      <td>2018-06-03</td>\n",
       "    </tr>\n",
       "    <tr>\n",
       "      <th>249</th>\n",
       "      <td>2019</td>\n",
       "      <td>Muirfield Village Golf Club</td>\n",
       "      <td>023</td>\n",
       "      <td>the Memorial Tournament presented by Nationwide</td>\n",
       "      <td>2019-06-02</td>\n",
       "    </tr>\n",
       "    <tr>\n",
       "      <th>119</th>\n",
       "      <td>2020</td>\n",
       "      <td>Muirfield Village Golf Club</td>\n",
       "      <td>023</td>\n",
       "      <td>the Memorial Tournament presented by Nationwide</td>\n",
       "      <td>2020-07-19</td>\n",
       "    </tr>\n",
       "    <tr>\n",
       "      <th>0</th>\n",
       "      <td>2021</td>\n",
       "      <td>Muirfield Village Golf Club</td>\n",
       "      <td>023</td>\n",
       "      <td>the Memorial Tournament presented by Nationwide</td>\n",
       "      <td>2021-06-06</td>\n",
       "    </tr>\n",
       "    <tr>\n",
       "      <th>848</th>\n",
       "      <td>2022</td>\n",
       "      <td>Muirfield Village Golf Club</td>\n",
       "      <td>023</td>\n",
       "      <td>the Memorial Tournament presented by Workday</td>\n",
       "      <td>2022-06-05</td>\n",
       "    </tr>\n",
       "    <tr>\n",
       "      <th>967</th>\n",
       "      <td>2023</td>\n",
       "      <td>Muirfield Village Golf Club</td>\n",
       "      <td>R2023023</td>\n",
       "      <td>the Memorial Tournament presented by Workday</td>\n",
       "      <td>2023-06-04</td>\n",
       "    </tr>\n",
       "    <tr>\n",
       "      <th>1087</th>\n",
       "      <td>2024</td>\n",
       "      <td>Muirfield Village Golf Club</td>\n",
       "      <td>R2024023</td>\n",
       "      <td>the Memorial Tournament presented by Workday</td>\n",
       "      <td>2024-06-09</td>\n",
       "    </tr>\n",
       "  </tbody>\n",
       "</table>\n",
       "</div>"
      ],
      "text/plain": [
       "      SEASON                       COURSE  TOURN_ID  \\\n",
       "608     2016  Muirfield Village Golf Club       023   \n",
       "489     2017  Muirfield Village Golf Club       023   \n",
       "369     2018  Muirfield Village Golf Club       023   \n",
       "249     2019  Muirfield Village Golf Club       023   \n",
       "119     2020  Muirfield Village Golf Club       023   \n",
       "0       2021  Muirfield Village Golf Club       023   \n",
       "848     2022  Muirfield Village Golf Club       023   \n",
       "967     2023  Muirfield Village Golf Club  R2023023   \n",
       "1087    2024  Muirfield Village Golf Club  R2024023   \n",
       "\n",
       "                                           TOURNAMENT ENDING_DATE  \n",
       "608   the Memorial Tournament presented by Nationwide  2016-06-05  \n",
       "489   the Memorial Tournament presented by Nationwide  2017-06-04  \n",
       "369   the Memorial Tournament presented by Nationwide  2018-06-03  \n",
       "249   the Memorial Tournament presented by Nationwide  2019-06-02  \n",
       "119   the Memorial Tournament presented by Nationwide  2020-07-19  \n",
       "0     the Memorial Tournament presented by Nationwide  2021-06-06  \n",
       "848      the Memorial Tournament presented by Workday  2022-06-05  \n",
       "967      the Memorial Tournament presented by Workday  2023-06-04  \n",
       "1087     the Memorial Tournament presented by Workday  2024-06-09  "
      ]
     },
     "execution_count": 39,
     "metadata": {},
     "output_type": "execute_result"
    }
   ],
   "source": [
    "importlib.reload(utils.db_utils)\n",
    "from utils.db_utils import get_combined_history_seasons\n",
    "\n",
    "# === USER INPUT ===\n",
    "seasons = list(range(2016, 2025))  # Adjust as needed\n",
    "db_path = \"data/golf.db\"\n",
    "\n",
    "# Pull course and tournament from config\n",
    "n_course = tournament_config[\"new\"][\"course\"]\n",
    "n_tourn = tournament_config[\"new\"][\"name\"]\n",
    "\n",
    "# Fetch relevant history\n",
    "history_df = get_combined_history_seasons(db_path, course=n_course, tournament=n_tourn, allowed_seasons=seasons)\n",
    "history_df.head(20)\n"
   ]
  },
  {
   "cell_type": "markdown",
   "id": "09441025",
   "metadata": {},
   "source": [
    "### Cut Percentage and FedEx Points\n",
    "Use a rolling-window approach to look at the most recent cut percentage and how many FedEx cup points have been accumulated recently. This will intentionally not match the PGA Tour stats that start over every year, but will have the same amount of data all the time.  We also add a new feature called Form Density which divides the FedEx Cup Points by the Total Events."
   ]
  },
  {
   "cell_type": "code",
   "execution_count": 40,
   "id": "300bf650",
   "metadata": {},
   "outputs": [
    {
     "name": "stdout",
     "output_type": "stream",
     "text": [
      "\n",
      "📆 2016-06-05 — the Memorial Tournament presented by Nationwide (417 players)\n"
     ]
    },
    {
     "data": {
      "text/html": [
       "<div>\n",
       "<style scoped>\n",
       "    .dataframe tbody tr th:only-of-type {\n",
       "        vertical-align: middle;\n",
       "    }\n",
       "\n",
       "    .dataframe tbody tr th {\n",
       "        vertical-align: top;\n",
       "    }\n",
       "\n",
       "    .dataframe thead th {\n",
       "        text-align: right;\n",
       "    }\n",
       "</style>\n",
       "<table border=\"1\" class=\"dataframe\">\n",
       "  <thead>\n",
       "    <tr style=\"text-align: right;\">\n",
       "      <th></th>\n",
       "      <th>PLAYER</th>\n",
       "      <th>TOTAL_EVENTS_PLAYED</th>\n",
       "      <th>CUTS_MADE</th>\n",
       "      <th>FEDEX_CUP_POINTS</th>\n",
       "      <th>CUT_PERCENTAGE</th>\n",
       "      <th>form_density</th>\n",
       "      <th>CONSECUTIVE_CUTS</th>\n",
       "      <th>ENDING_DATE</th>\n",
       "      <th>TOURNAMENT</th>\n",
       "    </tr>\n",
       "  </thead>\n",
       "  <tbody>\n",
       "    <tr>\n",
       "      <th>0</th>\n",
       "      <td>Aaron Baddeley</td>\n",
       "      <td>16</td>\n",
       "      <td>10</td>\n",
       "      <td>378.0</td>\n",
       "      <td>62.5</td>\n",
       "      <td>23.62</td>\n",
       "      <td>1</td>\n",
       "      <td>2016-06-05</td>\n",
       "      <td>the Memorial Tournament presented by Nationwide</td>\n",
       "    </tr>\n",
       "    <tr>\n",
       "      <th>1</th>\n",
       "      <td>Aaron Wise</td>\n",
       "      <td>1</td>\n",
       "      <td>0</td>\n",
       "      <td>0.0</td>\n",
       "      <td>0.0</td>\n",
       "      <td>0.00</td>\n",
       "      <td>0</td>\n",
       "      <td>2016-06-05</td>\n",
       "      <td>the Memorial Tournament presented by Nationwide</td>\n",
       "    </tr>\n",
       "    <tr>\n",
       "      <th>2</th>\n",
       "      <td>Abraham Ancer</td>\n",
       "      <td>10</td>\n",
       "      <td>2</td>\n",
       "      <td>43.0</td>\n",
       "      <td>20.0</td>\n",
       "      <td>4.30</td>\n",
       "      <td>2</td>\n",
       "      <td>2016-06-05</td>\n",
       "      <td>the Memorial Tournament presented by Nationwide</td>\n",
       "    </tr>\n",
       "  </tbody>\n",
       "</table>\n",
       "</div>"
      ],
      "text/plain": [
       "           PLAYER  TOTAL_EVENTS_PLAYED  CUTS_MADE  FEDEX_CUP_POINTS  \\\n",
       "0  Aaron Baddeley                   16         10             378.0   \n",
       "1      Aaron Wise                    1          0               0.0   \n",
       "2   Abraham Ancer                   10          2              43.0   \n",
       "\n",
       "   CUT_PERCENTAGE  form_density  CONSECUTIVE_CUTS ENDING_DATE  \\\n",
       "0            62.5         23.62                 1  2016-06-05   \n",
       "1             0.0          0.00                 0  2016-06-05   \n",
       "2            20.0          4.30                 2  2016-06-05   \n",
       "\n",
       "                                        TOURNAMENT  \n",
       "0  the Memorial Tournament presented by Nationwide  \n",
       "1  the Memorial Tournament presented by Nationwide  \n",
       "2  the Memorial Tournament presented by Nationwide  "
      ]
     },
     "metadata": {},
     "output_type": "display_data"
    },
    {
     "name": "stdout",
     "output_type": "stream",
     "text": [
      "\n",
      "📆 2017-06-04 — the Memorial Tournament presented by Nationwide (404 players)\n"
     ]
    },
    {
     "data": {
      "text/html": [
       "<div>\n",
       "<style scoped>\n",
       "    .dataframe tbody tr th:only-of-type {\n",
       "        vertical-align: middle;\n",
       "    }\n",
       "\n",
       "    .dataframe tbody tr th {\n",
       "        vertical-align: top;\n",
       "    }\n",
       "\n",
       "    .dataframe thead th {\n",
       "        text-align: right;\n",
       "    }\n",
       "</style>\n",
       "<table border=\"1\" class=\"dataframe\">\n",
       "  <thead>\n",
       "    <tr style=\"text-align: right;\">\n",
       "      <th></th>\n",
       "      <th>PLAYER</th>\n",
       "      <th>TOTAL_EVENTS_PLAYED</th>\n",
       "      <th>CUTS_MADE</th>\n",
       "      <th>FEDEX_CUP_POINTS</th>\n",
       "      <th>CUT_PERCENTAGE</th>\n",
       "      <th>form_density</th>\n",
       "      <th>CONSECUTIVE_CUTS</th>\n",
       "      <th>ENDING_DATE</th>\n",
       "      <th>TOURNAMENT</th>\n",
       "    </tr>\n",
       "  </thead>\n",
       "  <tbody>\n",
       "    <tr>\n",
       "      <th>0</th>\n",
       "      <td>Aaron Baddeley</td>\n",
       "      <td>15</td>\n",
       "      <td>8</td>\n",
       "      <td>264.29</td>\n",
       "      <td>53.3</td>\n",
       "      <td>17.62</td>\n",
       "      <td>0</td>\n",
       "      <td>2017-06-04</td>\n",
       "      <td>the Memorial Tournament presented by Nationwide</td>\n",
       "    </tr>\n",
       "    <tr>\n",
       "      <th>1</th>\n",
       "      <td>Aaron Wise</td>\n",
       "      <td>6</td>\n",
       "      <td>4</td>\n",
       "      <td>0.00</td>\n",
       "      <td>66.7</td>\n",
       "      <td>0.00</td>\n",
       "      <td>4</td>\n",
       "      <td>2017-06-04</td>\n",
       "      <td>the Memorial Tournament presented by Nationwide</td>\n",
       "    </tr>\n",
       "    <tr>\n",
       "      <th>2</th>\n",
       "      <td>Abraham Ancer</td>\n",
       "      <td>1</td>\n",
       "      <td>1</td>\n",
       "      <td>0.00</td>\n",
       "      <td>100.0</td>\n",
       "      <td>0.00</td>\n",
       "      <td>1</td>\n",
       "      <td>2017-06-04</td>\n",
       "      <td>the Memorial Tournament presented by Nationwide</td>\n",
       "    </tr>\n",
       "  </tbody>\n",
       "</table>\n",
       "</div>"
      ],
      "text/plain": [
       "           PLAYER  TOTAL_EVENTS_PLAYED  CUTS_MADE  FEDEX_CUP_POINTS  \\\n",
       "0  Aaron Baddeley                   15          8            264.29   \n",
       "1      Aaron Wise                    6          4              0.00   \n",
       "2   Abraham Ancer                    1          1              0.00   \n",
       "\n",
       "   CUT_PERCENTAGE  form_density  CONSECUTIVE_CUTS ENDING_DATE  \\\n",
       "0            53.3         17.62                 0  2017-06-04   \n",
       "1            66.7          0.00                 4  2017-06-04   \n",
       "2           100.0          0.00                 1  2017-06-04   \n",
       "\n",
       "                                        TOURNAMENT  \n",
       "0  the Memorial Tournament presented by Nationwide  \n",
       "1  the Memorial Tournament presented by Nationwide  \n",
       "2  the Memorial Tournament presented by Nationwide  "
      ]
     },
     "metadata": {},
     "output_type": "display_data"
    },
    {
     "name": "stdout",
     "output_type": "stream",
     "text": [
      "\n",
      "📆 2018-06-03 — the Memorial Tournament presented by Nationwide (408 players)\n"
     ]
    },
    {
     "data": {
      "text/html": [
       "<div>\n",
       "<style scoped>\n",
       "    .dataframe tbody tr th:only-of-type {\n",
       "        vertical-align: middle;\n",
       "    }\n",
       "\n",
       "    .dataframe tbody tr th {\n",
       "        vertical-align: top;\n",
       "    }\n",
       "\n",
       "    .dataframe thead th {\n",
       "        text-align: right;\n",
       "    }\n",
       "</style>\n",
       "<table border=\"1\" class=\"dataframe\">\n",
       "  <thead>\n",
       "    <tr style=\"text-align: right;\">\n",
       "      <th></th>\n",
       "      <th>PLAYER</th>\n",
       "      <th>TOTAL_EVENTS_PLAYED</th>\n",
       "      <th>CUTS_MADE</th>\n",
       "      <th>FEDEX_CUP_POINTS</th>\n",
       "      <th>CUT_PERCENTAGE</th>\n",
       "      <th>form_density</th>\n",
       "      <th>CONSECUTIVE_CUTS</th>\n",
       "      <th>ENDING_DATE</th>\n",
       "      <th>TOURNAMENT</th>\n",
       "    </tr>\n",
       "  </thead>\n",
       "  <tbody>\n",
       "    <tr>\n",
       "      <th>0</th>\n",
       "      <td>A.J. McInerney</td>\n",
       "      <td>2</td>\n",
       "      <td>1</td>\n",
       "      <td>0.00</td>\n",
       "      <td>50.0</td>\n",
       "      <td>0.00</td>\n",
       "      <td>0</td>\n",
       "      <td>2018-06-03</td>\n",
       "      <td>the Memorial Tournament presented by Nationwide</td>\n",
       "    </tr>\n",
       "    <tr>\n",
       "      <th>1</th>\n",
       "      <td>Aaron Baddeley</td>\n",
       "      <td>17</td>\n",
       "      <td>10</td>\n",
       "      <td>239.12</td>\n",
       "      <td>58.8</td>\n",
       "      <td>14.07</td>\n",
       "      <td>0</td>\n",
       "      <td>2018-06-03</td>\n",
       "      <td>the Memorial Tournament presented by Nationwide</td>\n",
       "    </tr>\n",
       "    <tr>\n",
       "      <th>2</th>\n",
       "      <td>Aaron Wise</td>\n",
       "      <td>18</td>\n",
       "      <td>11</td>\n",
       "      <td>992.76</td>\n",
       "      <td>61.1</td>\n",
       "      <td>55.15</td>\n",
       "      <td>0</td>\n",
       "      <td>2018-06-03</td>\n",
       "      <td>the Memorial Tournament presented by Nationwide</td>\n",
       "    </tr>\n",
       "  </tbody>\n",
       "</table>\n",
       "</div>"
      ],
      "text/plain": [
       "           PLAYER  TOTAL_EVENTS_PLAYED  CUTS_MADE  FEDEX_CUP_POINTS  \\\n",
       "0  A.J. McInerney                    2          1              0.00   \n",
       "1  Aaron Baddeley                   17         10            239.12   \n",
       "2      Aaron Wise                   18         11            992.76   \n",
       "\n",
       "   CUT_PERCENTAGE  form_density  CONSECUTIVE_CUTS ENDING_DATE  \\\n",
       "0            50.0          0.00                 0  2018-06-03   \n",
       "1            58.8         14.07                 0  2018-06-03   \n",
       "2            61.1         55.15                 0  2018-06-03   \n",
       "\n",
       "                                        TOURNAMENT  \n",
       "0  the Memorial Tournament presented by Nationwide  \n",
       "1  the Memorial Tournament presented by Nationwide  \n",
       "2  the Memorial Tournament presented by Nationwide  "
      ]
     },
     "metadata": {},
     "output_type": "display_data"
    },
    {
     "name": "stdout",
     "output_type": "stream",
     "text": [
      "\n",
      "📆 2019-06-02 — the Memorial Tournament presented by Nationwide (431 players)\n"
     ]
    },
    {
     "data": {
      "text/html": [
       "<div>\n",
       "<style scoped>\n",
       "    .dataframe tbody tr th:only-of-type {\n",
       "        vertical-align: middle;\n",
       "    }\n",
       "\n",
       "    .dataframe tbody tr th {\n",
       "        vertical-align: top;\n",
       "    }\n",
       "\n",
       "    .dataframe thead th {\n",
       "        text-align: right;\n",
       "    }\n",
       "</style>\n",
       "<table border=\"1\" class=\"dataframe\">\n",
       "  <thead>\n",
       "    <tr style=\"text-align: right;\">\n",
       "      <th></th>\n",
       "      <th>PLAYER</th>\n",
       "      <th>TOTAL_EVENTS_PLAYED</th>\n",
       "      <th>CUTS_MADE</th>\n",
       "      <th>FEDEX_CUP_POINTS</th>\n",
       "      <th>CUT_PERCENTAGE</th>\n",
       "      <th>form_density</th>\n",
       "      <th>CONSECUTIVE_CUTS</th>\n",
       "      <th>ENDING_DATE</th>\n",
       "      <th>TOURNAMENT</th>\n",
       "    </tr>\n",
       "  </thead>\n",
       "  <tbody>\n",
       "    <tr>\n",
       "      <th>0</th>\n",
       "      <td>Aaron Baddeley</td>\n",
       "      <td>12</td>\n",
       "      <td>7</td>\n",
       "      <td>236.58</td>\n",
       "      <td>58.3</td>\n",
       "      <td>19.72</td>\n",
       "      <td>1</td>\n",
       "      <td>2019-06-02</td>\n",
       "      <td>the Memorial Tournament presented by Nationwide</td>\n",
       "    </tr>\n",
       "    <tr>\n",
       "      <th>1</th>\n",
       "      <td>Aaron Wise</td>\n",
       "      <td>12</td>\n",
       "      <td>9</td>\n",
       "      <td>485.89</td>\n",
       "      <td>75.0</td>\n",
       "      <td>40.49</td>\n",
       "      <td>4</td>\n",
       "      <td>2019-06-02</td>\n",
       "      <td>the Memorial Tournament presented by Nationwide</td>\n",
       "    </tr>\n",
       "    <tr>\n",
       "      <th>2</th>\n",
       "      <td>Abraham Ancer</td>\n",
       "      <td>15</td>\n",
       "      <td>12</td>\n",
       "      <td>403.34</td>\n",
       "      <td>80.0</td>\n",
       "      <td>26.89</td>\n",
       "      <td>3</td>\n",
       "      <td>2019-06-02</td>\n",
       "      <td>the Memorial Tournament presented by Nationwide</td>\n",
       "    </tr>\n",
       "  </tbody>\n",
       "</table>\n",
       "</div>"
      ],
      "text/plain": [
       "           PLAYER  TOTAL_EVENTS_PLAYED  CUTS_MADE  FEDEX_CUP_POINTS  \\\n",
       "0  Aaron Baddeley                   12          7            236.58   \n",
       "1      Aaron Wise                   12          9            485.89   \n",
       "2   Abraham Ancer                   15         12            403.34   \n",
       "\n",
       "   CUT_PERCENTAGE  form_density  CONSECUTIVE_CUTS ENDING_DATE  \\\n",
       "0            58.3         19.72                 1  2019-06-02   \n",
       "1            75.0         40.49                 4  2019-06-02   \n",
       "2            80.0         26.89                 3  2019-06-02   \n",
       "\n",
       "                                        TOURNAMENT  \n",
       "0  the Memorial Tournament presented by Nationwide  \n",
       "1  the Memorial Tournament presented by Nationwide  \n",
       "2  the Memorial Tournament presented by Nationwide  "
      ]
     },
     "metadata": {},
     "output_type": "display_data"
    },
    {
     "name": "stdout",
     "output_type": "stream",
     "text": [
      "\n",
      "📆 2020-07-19 — the Memorial Tournament presented by Nationwide (383 players)\n"
     ]
    },
    {
     "data": {
      "text/html": [
       "<div>\n",
       "<style scoped>\n",
       "    .dataframe tbody tr th:only-of-type {\n",
       "        vertical-align: middle;\n",
       "    }\n",
       "\n",
       "    .dataframe tbody tr th {\n",
       "        vertical-align: top;\n",
       "    }\n",
       "\n",
       "    .dataframe thead th {\n",
       "        text-align: right;\n",
       "    }\n",
       "</style>\n",
       "<table border=\"1\" class=\"dataframe\">\n",
       "  <thead>\n",
       "    <tr style=\"text-align: right;\">\n",
       "      <th></th>\n",
       "      <th>PLAYER</th>\n",
       "      <th>TOTAL_EVENTS_PLAYED</th>\n",
       "      <th>CUTS_MADE</th>\n",
       "      <th>FEDEX_CUP_POINTS</th>\n",
       "      <th>CUT_PERCENTAGE</th>\n",
       "      <th>form_density</th>\n",
       "      <th>CONSECUTIVE_CUTS</th>\n",
       "      <th>ENDING_DATE</th>\n",
       "      <th>TOURNAMENT</th>\n",
       "    </tr>\n",
       "  </thead>\n",
       "  <tbody>\n",
       "    <tr>\n",
       "      <th>0</th>\n",
       "      <td>Aaron Baddeley</td>\n",
       "      <td>10</td>\n",
       "      <td>4</td>\n",
       "      <td>78.40</td>\n",
       "      <td>40.0</td>\n",
       "      <td>7.84</td>\n",
       "      <td>0</td>\n",
       "      <td>2020-07-19</td>\n",
       "      <td>the Memorial Tournament presented by Nationwide</td>\n",
       "    </tr>\n",
       "    <tr>\n",
       "      <th>1</th>\n",
       "      <td>Aaron Wise</td>\n",
       "      <td>12</td>\n",
       "      <td>4</td>\n",
       "      <td>110.75</td>\n",
       "      <td>33.3</td>\n",
       "      <td>9.23</td>\n",
       "      <td>0</td>\n",
       "      <td>2020-07-19</td>\n",
       "      <td>the Memorial Tournament presented by Nationwide</td>\n",
       "    </tr>\n",
       "    <tr>\n",
       "      <th>2</th>\n",
       "      <td>Abraham Ancer</td>\n",
       "      <td>10</td>\n",
       "      <td>10</td>\n",
       "      <td>839.66</td>\n",
       "      <td>100.0</td>\n",
       "      <td>83.97</td>\n",
       "      <td>10</td>\n",
       "      <td>2020-07-19</td>\n",
       "      <td>the Memorial Tournament presented by Nationwide</td>\n",
       "    </tr>\n",
       "  </tbody>\n",
       "</table>\n",
       "</div>"
      ],
      "text/plain": [
       "           PLAYER  TOTAL_EVENTS_PLAYED  CUTS_MADE  FEDEX_CUP_POINTS  \\\n",
       "0  Aaron Baddeley                   10          4             78.40   \n",
       "1      Aaron Wise                   12          4            110.75   \n",
       "2   Abraham Ancer                   10         10            839.66   \n",
       "\n",
       "   CUT_PERCENTAGE  form_density  CONSECUTIVE_CUTS ENDING_DATE  \\\n",
       "0            40.0          7.84                 0  2020-07-19   \n",
       "1            33.3          9.23                 0  2020-07-19   \n",
       "2           100.0         83.97                10  2020-07-19   \n",
       "\n",
       "                                        TOURNAMENT  \n",
       "0  the Memorial Tournament presented by Nationwide  \n",
       "1  the Memorial Tournament presented by Nationwide  \n",
       "2  the Memorial Tournament presented by Nationwide  "
      ]
     },
     "metadata": {},
     "output_type": "display_data"
    },
    {
     "name": "stdout",
     "output_type": "stream",
     "text": [
      "\n",
      "📆 2021-06-06 — the Memorial Tournament presented by Nationwide (472 players)\n"
     ]
    },
    {
     "data": {
      "text/html": [
       "<div>\n",
       "<style scoped>\n",
       "    .dataframe tbody tr th:only-of-type {\n",
       "        vertical-align: middle;\n",
       "    }\n",
       "\n",
       "    .dataframe tbody tr th {\n",
       "        vertical-align: top;\n",
       "    }\n",
       "\n",
       "    .dataframe thead th {\n",
       "        text-align: right;\n",
       "    }\n",
       "</style>\n",
       "<table border=\"1\" class=\"dataframe\">\n",
       "  <thead>\n",
       "    <tr style=\"text-align: right;\">\n",
       "      <th></th>\n",
       "      <th>PLAYER</th>\n",
       "      <th>TOTAL_EVENTS_PLAYED</th>\n",
       "      <th>CUTS_MADE</th>\n",
       "      <th>FEDEX_CUP_POINTS</th>\n",
       "      <th>CUT_PERCENTAGE</th>\n",
       "      <th>form_density</th>\n",
       "      <th>CONSECUTIVE_CUTS</th>\n",
       "      <th>ENDING_DATE</th>\n",
       "      <th>TOURNAMENT</th>\n",
       "    </tr>\n",
       "  </thead>\n",
       "  <tbody>\n",
       "    <tr>\n",
       "      <th>0</th>\n",
       "      <td>Aaron Baddeley</td>\n",
       "      <td>11</td>\n",
       "      <td>2</td>\n",
       "      <td>18.08</td>\n",
       "      <td>18.2</td>\n",
       "      <td>1.64</td>\n",
       "      <td>0</td>\n",
       "      <td>2021-06-06</td>\n",
       "      <td>the Memorial Tournament presented by Nationwide</td>\n",
       "    </tr>\n",
       "    <tr>\n",
       "      <th>1</th>\n",
       "      <td>Aaron Rai</td>\n",
       "      <td>1</td>\n",
       "      <td>0</td>\n",
       "      <td>0.00</td>\n",
       "      <td>0.0</td>\n",
       "      <td>0.00</td>\n",
       "      <td>0</td>\n",
       "      <td>2021-06-06</td>\n",
       "      <td>the Memorial Tournament presented by Nationwide</td>\n",
       "    </tr>\n",
       "    <tr>\n",
       "      <th>2</th>\n",
       "      <td>Aaron Terrazas</td>\n",
       "      <td>1</td>\n",
       "      <td>0</td>\n",
       "      <td>0.00</td>\n",
       "      <td>0.0</td>\n",
       "      <td>0.00</td>\n",
       "      <td>0</td>\n",
       "      <td>2021-06-06</td>\n",
       "      <td>the Memorial Tournament presented by Nationwide</td>\n",
       "    </tr>\n",
       "  </tbody>\n",
       "</table>\n",
       "</div>"
      ],
      "text/plain": [
       "           PLAYER  TOTAL_EVENTS_PLAYED  CUTS_MADE  FEDEX_CUP_POINTS  \\\n",
       "0  Aaron Baddeley                   11          2             18.08   \n",
       "1       Aaron Rai                    1          0              0.00   \n",
       "2  Aaron Terrazas                    1          0              0.00   \n",
       "\n",
       "   CUT_PERCENTAGE  form_density  CONSECUTIVE_CUTS ENDING_DATE  \\\n",
       "0            18.2          1.64                 0  2021-06-06   \n",
       "1             0.0          0.00                 0  2021-06-06   \n",
       "2             0.0          0.00                 0  2021-06-06   \n",
       "\n",
       "                                        TOURNAMENT  \n",
       "0  the Memorial Tournament presented by Nationwide  \n",
       "1  the Memorial Tournament presented by Nationwide  \n",
       "2  the Memorial Tournament presented by Nationwide  "
      ]
     },
     "metadata": {},
     "output_type": "display_data"
    },
    {
     "name": "stdout",
     "output_type": "stream",
     "text": [
      "\n",
      "📆 2022-06-05 — the Memorial Tournament presented by Workday (476 players)\n"
     ]
    },
    {
     "data": {
      "text/html": [
       "<div>\n",
       "<style scoped>\n",
       "    .dataframe tbody tr th:only-of-type {\n",
       "        vertical-align: middle;\n",
       "    }\n",
       "\n",
       "    .dataframe tbody tr th {\n",
       "        vertical-align: top;\n",
       "    }\n",
       "\n",
       "    .dataframe thead th {\n",
       "        text-align: right;\n",
       "    }\n",
       "</style>\n",
       "<table border=\"1\" class=\"dataframe\">\n",
       "  <thead>\n",
       "    <tr style=\"text-align: right;\">\n",
       "      <th></th>\n",
       "      <th>PLAYER</th>\n",
       "      <th>TOTAL_EVENTS_PLAYED</th>\n",
       "      <th>CUTS_MADE</th>\n",
       "      <th>FEDEX_CUP_POINTS</th>\n",
       "      <th>CUT_PERCENTAGE</th>\n",
       "      <th>form_density</th>\n",
       "      <th>CONSECUTIVE_CUTS</th>\n",
       "      <th>ENDING_DATE</th>\n",
       "      <th>TOURNAMENT</th>\n",
       "    </tr>\n",
       "  </thead>\n",
       "  <tbody>\n",
       "    <tr>\n",
       "      <th>0</th>\n",
       "      <td>Aaron Baddeley</td>\n",
       "      <td>5</td>\n",
       "      <td>2</td>\n",
       "      <td>56.96</td>\n",
       "      <td>40.0</td>\n",
       "      <td>11.39</td>\n",
       "      <td>0</td>\n",
       "      <td>2022-06-05</td>\n",
       "      <td>the Memorial Tournament presented by Workday</td>\n",
       "    </tr>\n",
       "    <tr>\n",
       "      <th>1</th>\n",
       "      <td>Aaron Beverly</td>\n",
       "      <td>1</td>\n",
       "      <td>0</td>\n",
       "      <td>0.00</td>\n",
       "      <td>0.0</td>\n",
       "      <td>0.00</td>\n",
       "      <td>0</td>\n",
       "      <td>2022-06-05</td>\n",
       "      <td>the Memorial Tournament presented by Workday</td>\n",
       "    </tr>\n",
       "    <tr>\n",
       "      <th>2</th>\n",
       "      <td>Aaron Jarvis</td>\n",
       "      <td>1</td>\n",
       "      <td>0</td>\n",
       "      <td>0.00</td>\n",
       "      <td>0.0</td>\n",
       "      <td>0.00</td>\n",
       "      <td>0</td>\n",
       "      <td>2022-06-05</td>\n",
       "      <td>the Memorial Tournament presented by Workday</td>\n",
       "    </tr>\n",
       "  </tbody>\n",
       "</table>\n",
       "</div>"
      ],
      "text/plain": [
       "           PLAYER  TOTAL_EVENTS_PLAYED  CUTS_MADE  FEDEX_CUP_POINTS  \\\n",
       "0  Aaron Baddeley                    5          2             56.96   \n",
       "1   Aaron Beverly                    1          0              0.00   \n",
       "2    Aaron Jarvis                    1          0              0.00   \n",
       "\n",
       "   CUT_PERCENTAGE  form_density  CONSECUTIVE_CUTS ENDING_DATE  \\\n",
       "0            40.0         11.39                 0  2022-06-05   \n",
       "1             0.0          0.00                 0  2022-06-05   \n",
       "2             0.0          0.00                 0  2022-06-05   \n",
       "\n",
       "                                     TOURNAMENT  \n",
       "0  the Memorial Tournament presented by Workday  \n",
       "1  the Memorial Tournament presented by Workday  \n",
       "2  the Memorial Tournament presented by Workday  "
      ]
     },
     "metadata": {},
     "output_type": "display_data"
    },
    {
     "name": "stdout",
     "output_type": "stream",
     "text": [
      "\n",
      "📆 2023-06-04 — the Memorial Tournament presented by Workday (488 players)\n"
     ]
    },
    {
     "data": {
      "text/html": [
       "<div>\n",
       "<style scoped>\n",
       "    .dataframe tbody tr th:only-of-type {\n",
       "        vertical-align: middle;\n",
       "    }\n",
       "\n",
       "    .dataframe tbody tr th {\n",
       "        vertical-align: top;\n",
       "    }\n",
       "\n",
       "    .dataframe thead th {\n",
       "        text-align: right;\n",
       "    }\n",
       "</style>\n",
       "<table border=\"1\" class=\"dataframe\">\n",
       "  <thead>\n",
       "    <tr style=\"text-align: right;\">\n",
       "      <th></th>\n",
       "      <th>PLAYER</th>\n",
       "      <th>TOTAL_EVENTS_PLAYED</th>\n",
       "      <th>CUTS_MADE</th>\n",
       "      <th>FEDEX_CUP_POINTS</th>\n",
       "      <th>CUT_PERCENTAGE</th>\n",
       "      <th>form_density</th>\n",
       "      <th>CONSECUTIVE_CUTS</th>\n",
       "      <th>ENDING_DATE</th>\n",
       "      <th>TOURNAMENT</th>\n",
       "    </tr>\n",
       "  </thead>\n",
       "  <tbody>\n",
       "    <tr>\n",
       "      <th>0</th>\n",
       "      <td>Aaron Baddeley</td>\n",
       "      <td>14</td>\n",
       "      <td>11</td>\n",
       "      <td>342.286</td>\n",
       "      <td>78.6</td>\n",
       "      <td>24.45</td>\n",
       "      <td>5</td>\n",
       "      <td>2023-06-04</td>\n",
       "      <td>the Memorial Tournament presented by Workday</td>\n",
       "    </tr>\n",
       "    <tr>\n",
       "      <th>1</th>\n",
       "      <td>Aaron Beverly</td>\n",
       "      <td>1</td>\n",
       "      <td>1</td>\n",
       "      <td>0.000</td>\n",
       "      <td>100.0</td>\n",
       "      <td>0.00</td>\n",
       "      <td>1</td>\n",
       "      <td>2023-06-04</td>\n",
       "      <td>the Memorial Tournament presented by Workday</td>\n",
       "    </tr>\n",
       "    <tr>\n",
       "      <th>2</th>\n",
       "      <td>Aaron Jarvis</td>\n",
       "      <td>1</td>\n",
       "      <td>0</td>\n",
       "      <td>0.000</td>\n",
       "      <td>0.0</td>\n",
       "      <td>0.00</td>\n",
       "      <td>0</td>\n",
       "      <td>2023-06-04</td>\n",
       "      <td>the Memorial Tournament presented by Workday</td>\n",
       "    </tr>\n",
       "  </tbody>\n",
       "</table>\n",
       "</div>"
      ],
      "text/plain": [
       "           PLAYER  TOTAL_EVENTS_PLAYED  CUTS_MADE  FEDEX_CUP_POINTS  \\\n",
       "0  Aaron Baddeley                   14         11           342.286   \n",
       "1   Aaron Beverly                    1          1             0.000   \n",
       "2    Aaron Jarvis                    1          0             0.000   \n",
       "\n",
       "   CUT_PERCENTAGE  form_density  CONSECUTIVE_CUTS ENDING_DATE  \\\n",
       "0            78.6         24.45                 5  2023-06-04   \n",
       "1           100.0          0.00                 1  2023-06-04   \n",
       "2             0.0          0.00                 0  2023-06-04   \n",
       "\n",
       "                                     TOURNAMENT  \n",
       "0  the Memorial Tournament presented by Workday  \n",
       "1  the Memorial Tournament presented by Workday  \n",
       "2  the Memorial Tournament presented by Workday  "
      ]
     },
     "metadata": {},
     "output_type": "display_data"
    },
    {
     "name": "stdout",
     "output_type": "stream",
     "text": [
      "\n",
      "📆 2024-06-09 — the Memorial Tournament presented by Workday (468 players)\n"
     ]
    },
    {
     "data": {
      "text/html": [
       "<div>\n",
       "<style scoped>\n",
       "    .dataframe tbody tr th:only-of-type {\n",
       "        vertical-align: middle;\n",
       "    }\n",
       "\n",
       "    .dataframe tbody tr th {\n",
       "        vertical-align: top;\n",
       "    }\n",
       "\n",
       "    .dataframe thead th {\n",
       "        text-align: right;\n",
       "    }\n",
       "</style>\n",
       "<table border=\"1\" class=\"dataframe\">\n",
       "  <thead>\n",
       "    <tr style=\"text-align: right;\">\n",
       "      <th></th>\n",
       "      <th>PLAYER</th>\n",
       "      <th>TOTAL_EVENTS_PLAYED</th>\n",
       "      <th>CUTS_MADE</th>\n",
       "      <th>FEDEX_CUP_POINTS</th>\n",
       "      <th>CUT_PERCENTAGE</th>\n",
       "      <th>form_density</th>\n",
       "      <th>CONSECUTIVE_CUTS</th>\n",
       "      <th>ENDING_DATE</th>\n",
       "      <th>TOURNAMENT</th>\n",
       "    </tr>\n",
       "  </thead>\n",
       "  <tbody>\n",
       "    <tr>\n",
       "      <th>0</th>\n",
       "      <td>Aaron Baddeley</td>\n",
       "      <td>14</td>\n",
       "      <td>9</td>\n",
       "      <td>181.975</td>\n",
       "      <td>64.3</td>\n",
       "      <td>13.00</td>\n",
       "      <td>0</td>\n",
       "      <td>2024-06-09</td>\n",
       "      <td>the Memorial Tournament presented by Workday</td>\n",
       "    </tr>\n",
       "    <tr>\n",
       "      <th>1</th>\n",
       "      <td>Aaron Cockerill</td>\n",
       "      <td>1</td>\n",
       "      <td>0</td>\n",
       "      <td>0.000</td>\n",
       "      <td>0.0</td>\n",
       "      <td>0.00</td>\n",
       "      <td>0</td>\n",
       "      <td>2024-06-09</td>\n",
       "      <td>the Memorial Tournament presented by Workday</td>\n",
       "    </tr>\n",
       "    <tr>\n",
       "      <th>2</th>\n",
       "      <td>Aaron Rai</td>\n",
       "      <td>15</td>\n",
       "      <td>12</td>\n",
       "      <td>442.007</td>\n",
       "      <td>80.0</td>\n",
       "      <td>29.47</td>\n",
       "      <td>6</td>\n",
       "      <td>2024-06-09</td>\n",
       "      <td>the Memorial Tournament presented by Workday</td>\n",
       "    </tr>\n",
       "  </tbody>\n",
       "</table>\n",
       "</div>"
      ],
      "text/plain": [
       "            PLAYER  TOTAL_EVENTS_PLAYED  CUTS_MADE  FEDEX_CUP_POINTS  \\\n",
       "0   Aaron Baddeley                   14          9           181.975   \n",
       "1  Aaron Cockerill                    1          0             0.000   \n",
       "2        Aaron Rai                   15         12           442.007   \n",
       "\n",
       "   CUT_PERCENTAGE  form_density  CONSECUTIVE_CUTS ENDING_DATE  \\\n",
       "0            64.3         13.00                 0  2024-06-09   \n",
       "1             0.0          0.00                 0  2024-06-09   \n",
       "2            80.0         29.47                 6  2024-06-09   \n",
       "\n",
       "                                     TOURNAMENT  \n",
       "0  the Memorial Tournament presented by Workday  \n",
       "1  the Memorial Tournament presented by Workday  \n",
       "2  the Memorial Tournament presented by Workday  "
      ]
     },
     "metadata": {},
     "output_type": "display_data"
    }
   ],
   "source": [
    "importlib.reload(utils.db_utils)\n",
    "from utils.db_utils import get_cut_and_fedex_history\n",
    "\n",
    "cuts = get_cut_and_fedex_history(\"data/golf.db\", history_df, window_months=9)\n",
    "# cuts[\"2024-05-12\"].head(20)\n",
    "\n",
    "for end_date, df in cuts.items():\n",
    "    print(f\"\\n📆 {end_date} — {df['TOURNAMENT'].iloc[0]} ({len(df)} players)\")\n",
    "    display(df.head(3))"
   ]
  },
  {
   "cell_type": "markdown",
   "id": "ce90fa05",
   "metadata": {},
   "source": [
    "### Recent Form"
   ]
  },
  {
   "cell_type": "code",
   "execution_count": 41,
   "id": "20095a72",
   "metadata": {},
   "outputs": [
    {
     "name": "stdout",
     "output_type": "stream",
     "text": [
      "\n",
      "📆 2016-06-05 — the Memorial Tournament presented by Nationwide (417 players)\n"
     ]
    },
    {
     "data": {
      "text/html": [
       "<div>\n",
       "<style scoped>\n",
       "    .dataframe tbody tr th:only-of-type {\n",
       "        vertical-align: middle;\n",
       "    }\n",
       "\n",
       "    .dataframe tbody tr th {\n",
       "        vertical-align: top;\n",
       "    }\n",
       "\n",
       "    .dataframe thead th {\n",
       "        text-align: right;\n",
       "    }\n",
       "</style>\n",
       "<table border=\"1\" class=\"dataframe\">\n",
       "  <thead>\n",
       "    <tr style=\"text-align: right;\">\n",
       "      <th></th>\n",
       "      <th>PLAYER</th>\n",
       "      <th>TOTAL_EVENTS_PLAYED</th>\n",
       "      <th>RECENT_FORM</th>\n",
       "      <th>adj_form</th>\n",
       "      <th>ENDING_DATE</th>\n",
       "      <th>TOURNAMENT</th>\n",
       "    </tr>\n",
       "  </thead>\n",
       "  <tbody>\n",
       "    <tr>\n",
       "      <th>0</th>\n",
       "      <td>Lee McCoy</td>\n",
       "      <td>1</td>\n",
       "      <td>4.0</td>\n",
       "      <td>5.77</td>\n",
       "      <td>2016-06-05</td>\n",
       "      <td>the Memorial Tournament presented by Nationwide</td>\n",
       "    </tr>\n",
       "    <tr>\n",
       "      <th>1</th>\n",
       "      <td>Cody Gribble</td>\n",
       "      <td>1</td>\n",
       "      <td>8.0</td>\n",
       "      <td>11.54</td>\n",
       "      <td>2016-06-05</td>\n",
       "      <td>the Memorial Tournament presented by Nationwide</td>\n",
       "    </tr>\n",
       "    <tr>\n",
       "      <th>2</th>\n",
       "      <td>Jon Rahm</td>\n",
       "      <td>2</td>\n",
       "      <td>12.5</td>\n",
       "      <td>11.38</td>\n",
       "      <td>2016-06-05</td>\n",
       "      <td>the Memorial Tournament presented by Nationwide</td>\n",
       "    </tr>\n",
       "  </tbody>\n",
       "</table>\n",
       "</div>"
      ],
      "text/plain": [
       "         PLAYER  TOTAL_EVENTS_PLAYED  RECENT_FORM  adj_form ENDING_DATE  \\\n",
       "0     Lee McCoy                    1          4.0      5.77  2016-06-05   \n",
       "1  Cody Gribble                    1          8.0     11.54  2016-06-05   \n",
       "2      Jon Rahm                    2         12.5     11.38  2016-06-05   \n",
       "\n",
       "                                        TOURNAMENT  \n",
       "0  the Memorial Tournament presented by Nationwide  \n",
       "1  the Memorial Tournament presented by Nationwide  \n",
       "2  the Memorial Tournament presented by Nationwide  "
      ]
     },
     "metadata": {},
     "output_type": "display_data"
    },
    {
     "name": "stdout",
     "output_type": "stream",
     "text": [
      "\n",
      "📆 2017-06-04 — the Memorial Tournament presented by Nationwide (404 players)\n"
     ]
    },
    {
     "data": {
      "text/html": [
       "<div>\n",
       "<style scoped>\n",
       "    .dataframe tbody tr th:only-of-type {\n",
       "        vertical-align: middle;\n",
       "    }\n",
       "\n",
       "    .dataframe tbody tr th {\n",
       "        vertical-align: top;\n",
       "    }\n",
       "\n",
       "    .dataframe thead th {\n",
       "        text-align: right;\n",
       "    }\n",
       "</style>\n",
       "<table border=\"1\" class=\"dataframe\">\n",
       "  <thead>\n",
       "    <tr style=\"text-align: right;\">\n",
       "      <th></th>\n",
       "      <th>PLAYER</th>\n",
       "      <th>TOTAL_EVENTS_PLAYED</th>\n",
       "      <th>RECENT_FORM</th>\n",
       "      <th>adj_form</th>\n",
       "      <th>ENDING_DATE</th>\n",
       "      <th>TOURNAMENT</th>\n",
       "    </tr>\n",
       "  </thead>\n",
       "  <tbody>\n",
       "    <tr>\n",
       "      <th>0</th>\n",
       "      <td>Keith Mitchell</td>\n",
       "      <td>1</td>\n",
       "      <td>11.0</td>\n",
       "      <td>15.87</td>\n",
       "      <td>2017-06-04</td>\n",
       "      <td>the Memorial Tournament presented by Nationwide</td>\n",
       "    </tr>\n",
       "    <tr>\n",
       "      <th>1</th>\n",
       "      <td>Oscar Fraustro</td>\n",
       "      <td>1</td>\n",
       "      <td>13.0</td>\n",
       "      <td>18.76</td>\n",
       "      <td>2017-06-04</td>\n",
       "      <td>the Memorial Tournament presented by Nationwide</td>\n",
       "    </tr>\n",
       "    <tr>\n",
       "      <th>2</th>\n",
       "      <td>Cam Davis</td>\n",
       "      <td>1</td>\n",
       "      <td>15.0</td>\n",
       "      <td>21.64</td>\n",
       "      <td>2017-06-04</td>\n",
       "      <td>the Memorial Tournament presented by Nationwide</td>\n",
       "    </tr>\n",
       "  </tbody>\n",
       "</table>\n",
       "</div>"
      ],
      "text/plain": [
       "           PLAYER  TOTAL_EVENTS_PLAYED  RECENT_FORM  adj_form ENDING_DATE  \\\n",
       "0  Keith Mitchell                    1         11.0     15.87  2017-06-04   \n",
       "1  Oscar Fraustro                    1         13.0     18.76  2017-06-04   \n",
       "2       Cam Davis                    1         15.0     21.64  2017-06-04   \n",
       "\n",
       "                                        TOURNAMENT  \n",
       "0  the Memorial Tournament presented by Nationwide  \n",
       "1  the Memorial Tournament presented by Nationwide  \n",
       "2  the Memorial Tournament presented by Nationwide  "
      ]
     },
     "metadata": {},
     "output_type": "display_data"
    },
    {
     "name": "stdout",
     "output_type": "stream",
     "text": [
      "\n",
      "📆 2018-06-03 — the Memorial Tournament presented by Nationwide (408 players)\n"
     ]
    },
    {
     "data": {
      "text/html": [
       "<div>\n",
       "<style scoped>\n",
       "    .dataframe tbody tr th:only-of-type {\n",
       "        vertical-align: middle;\n",
       "    }\n",
       "\n",
       "    .dataframe tbody tr th {\n",
       "        vertical-align: top;\n",
       "    }\n",
       "\n",
       "    .dataframe thead th {\n",
       "        text-align: right;\n",
       "    }\n",
       "</style>\n",
       "<table border=\"1\" class=\"dataframe\">\n",
       "  <thead>\n",
       "    <tr style=\"text-align: right;\">\n",
       "      <th></th>\n",
       "      <th>PLAYER</th>\n",
       "      <th>TOTAL_EVENTS_PLAYED</th>\n",
       "      <th>RECENT_FORM</th>\n",
       "      <th>adj_form</th>\n",
       "      <th>ENDING_DATE</th>\n",
       "      <th>TOURNAMENT</th>\n",
       "    </tr>\n",
       "  </thead>\n",
       "  <tbody>\n",
       "    <tr>\n",
       "      <th>0</th>\n",
       "      <td>Jason Day</td>\n",
       "      <td>8</td>\n",
       "      <td>8.3</td>\n",
       "      <td>3.78</td>\n",
       "      <td>2018-06-03</td>\n",
       "      <td>the Memorial Tournament presented by Nationwide</td>\n",
       "    </tr>\n",
       "    <tr>\n",
       "      <th>1</th>\n",
       "      <td>Justin Rose</td>\n",
       "      <td>8</td>\n",
       "      <td>13.3</td>\n",
       "      <td>6.05</td>\n",
       "      <td>2018-06-03</td>\n",
       "      <td>the Memorial Tournament presented by Nationwide</td>\n",
       "    </tr>\n",
       "    <tr>\n",
       "      <th>2</th>\n",
       "      <td>Dustin Johnson</td>\n",
       "      <td>7</td>\n",
       "      <td>13.6</td>\n",
       "      <td>6.54</td>\n",
       "      <td>2018-06-03</td>\n",
       "      <td>the Memorial Tournament presented by Nationwide</td>\n",
       "    </tr>\n",
       "  </tbody>\n",
       "</table>\n",
       "</div>"
      ],
      "text/plain": [
       "           PLAYER  TOTAL_EVENTS_PLAYED  RECENT_FORM  adj_form ENDING_DATE  \\\n",
       "0       Jason Day                    8          8.3      3.78  2018-06-03   \n",
       "1     Justin Rose                    8         13.3      6.05  2018-06-03   \n",
       "2  Dustin Johnson                    7         13.6      6.54  2018-06-03   \n",
       "\n",
       "                                        TOURNAMENT  \n",
       "0  the Memorial Tournament presented by Nationwide  \n",
       "1  the Memorial Tournament presented by Nationwide  \n",
       "2  the Memorial Tournament presented by Nationwide  "
      ]
     },
     "metadata": {},
     "output_type": "display_data"
    },
    {
     "name": "stdout",
     "output_type": "stream",
     "text": [
      "\n",
      "📆 2019-06-02 — the Memorial Tournament presented by Nationwide (431 players)\n"
     ]
    },
    {
     "data": {
      "text/html": [
       "<div>\n",
       "<style scoped>\n",
       "    .dataframe tbody tr th:only-of-type {\n",
       "        vertical-align: middle;\n",
       "    }\n",
       "\n",
       "    .dataframe tbody tr th {\n",
       "        vertical-align: top;\n",
       "    }\n",
       "\n",
       "    .dataframe thead th {\n",
       "        text-align: right;\n",
       "    }\n",
       "</style>\n",
       "<table border=\"1\" class=\"dataframe\">\n",
       "  <thead>\n",
       "    <tr style=\"text-align: right;\">\n",
       "      <th></th>\n",
       "      <th>PLAYER</th>\n",
       "      <th>TOTAL_EVENTS_PLAYED</th>\n",
       "      <th>RECENT_FORM</th>\n",
       "      <th>adj_form</th>\n",
       "      <th>ENDING_DATE</th>\n",
       "      <th>TOURNAMENT</th>\n",
       "    </tr>\n",
       "  </thead>\n",
       "  <tbody>\n",
       "    <tr>\n",
       "      <th>0</th>\n",
       "      <td>Rory McIlroy</td>\n",
       "      <td>8</td>\n",
       "      <td>7.1</td>\n",
       "      <td>3.23</td>\n",
       "      <td>2019-06-02</td>\n",
       "      <td>the Memorial Tournament presented by Nationwide</td>\n",
       "    </tr>\n",
       "    <tr>\n",
       "      <th>1</th>\n",
       "      <td>Erik van Rooyen</td>\n",
       "      <td>1</td>\n",
       "      <td>8.0</td>\n",
       "      <td>11.54</td>\n",
       "      <td>2019-06-02</td>\n",
       "      <td>the Memorial Tournament presented by Nationwide</td>\n",
       "    </tr>\n",
       "    <tr>\n",
       "      <th>2</th>\n",
       "      <td>Dustin Johnson</td>\n",
       "      <td>9</td>\n",
       "      <td>13.9</td>\n",
       "      <td>6.04</td>\n",
       "      <td>2019-06-02</td>\n",
       "      <td>the Memorial Tournament presented by Nationwide</td>\n",
       "    </tr>\n",
       "  </tbody>\n",
       "</table>\n",
       "</div>"
      ],
      "text/plain": [
       "            PLAYER  TOTAL_EVENTS_PLAYED  RECENT_FORM  adj_form ENDING_DATE  \\\n",
       "0     Rory McIlroy                    8          7.1      3.23  2019-06-02   \n",
       "1  Erik van Rooyen                    1          8.0     11.54  2019-06-02   \n",
       "2   Dustin Johnson                    9         13.9      6.04  2019-06-02   \n",
       "\n",
       "                                        TOURNAMENT  \n",
       "0  the Memorial Tournament presented by Nationwide  \n",
       "1  the Memorial Tournament presented by Nationwide  \n",
       "2  the Memorial Tournament presented by Nationwide  "
      ]
     },
     "metadata": {},
     "output_type": "display_data"
    },
    {
     "name": "stdout",
     "output_type": "stream",
     "text": [
      "\n",
      "📆 2020-07-19 — the Memorial Tournament presented by Nationwide (383 players)\n"
     ]
    },
    {
     "data": {
      "text/html": [
       "<div>\n",
       "<style scoped>\n",
       "    .dataframe tbody tr th:only-of-type {\n",
       "        vertical-align: middle;\n",
       "    }\n",
       "\n",
       "    .dataframe tbody tr th {\n",
       "        vertical-align: top;\n",
       "    }\n",
       "\n",
       "    .dataframe thead th {\n",
       "        text-align: right;\n",
       "    }\n",
       "</style>\n",
       "<table border=\"1\" class=\"dataframe\">\n",
       "  <thead>\n",
       "    <tr style=\"text-align: right;\">\n",
       "      <th></th>\n",
       "      <th>PLAYER</th>\n",
       "      <th>TOTAL_EVENTS_PLAYED</th>\n",
       "      <th>RECENT_FORM</th>\n",
       "      <th>adj_form</th>\n",
       "      <th>ENDING_DATE</th>\n",
       "      <th>TOURNAMENT</th>\n",
       "    </tr>\n",
       "  </thead>\n",
       "  <tbody>\n",
       "    <tr>\n",
       "      <th>0</th>\n",
       "      <td>Tyrrell Hatton</td>\n",
       "      <td>4</td>\n",
       "      <td>3.5</td>\n",
       "      <td>2.17</td>\n",
       "      <td>2020-07-19</td>\n",
       "      <td>the Memorial Tournament presented by Nationwide</td>\n",
       "    </tr>\n",
       "    <tr>\n",
       "      <th>1</th>\n",
       "      <td>Patrick Cantlay</td>\n",
       "      <td>4</td>\n",
       "      <td>10.8</td>\n",
       "      <td>6.71</td>\n",
       "      <td>2020-07-19</td>\n",
       "      <td>the Memorial Tournament presented by Nationwide</td>\n",
       "    </tr>\n",
       "    <tr>\n",
       "      <th>2</th>\n",
       "      <td>Bryson DeChambeau</td>\n",
       "      <td>7</td>\n",
       "      <td>11.3</td>\n",
       "      <td>5.43</td>\n",
       "      <td>2020-07-19</td>\n",
       "      <td>the Memorial Tournament presented by Nationwide</td>\n",
       "    </tr>\n",
       "  </tbody>\n",
       "</table>\n",
       "</div>"
      ],
      "text/plain": [
       "              PLAYER  TOTAL_EVENTS_PLAYED  RECENT_FORM  adj_form ENDING_DATE  \\\n",
       "0     Tyrrell Hatton                    4          3.5      2.17  2020-07-19   \n",
       "1    Patrick Cantlay                    4         10.8      6.71  2020-07-19   \n",
       "2  Bryson DeChambeau                    7         11.3      5.43  2020-07-19   \n",
       "\n",
       "                                        TOURNAMENT  \n",
       "0  the Memorial Tournament presented by Nationwide  \n",
       "1  the Memorial Tournament presented by Nationwide  \n",
       "2  the Memorial Tournament presented by Nationwide  "
      ]
     },
     "metadata": {},
     "output_type": "display_data"
    },
    {
     "name": "stdout",
     "output_type": "stream",
     "text": [
      "\n",
      "📆 2021-06-06 — the Memorial Tournament presented by Nationwide (472 players)\n"
     ]
    },
    {
     "data": {
      "text/html": [
       "<div>\n",
       "<style scoped>\n",
       "    .dataframe tbody tr th:only-of-type {\n",
       "        vertical-align: middle;\n",
       "    }\n",
       "\n",
       "    .dataframe tbody tr th {\n",
       "        vertical-align: top;\n",
       "    }\n",
       "\n",
       "    .dataframe thead th {\n",
       "        text-align: right;\n",
       "    }\n",
       "</style>\n",
       "<table border=\"1\" class=\"dataframe\">\n",
       "  <thead>\n",
       "    <tr style=\"text-align: right;\">\n",
       "      <th></th>\n",
       "      <th>PLAYER</th>\n",
       "      <th>TOTAL_EVENTS_PLAYED</th>\n",
       "      <th>RECENT_FORM</th>\n",
       "      <th>adj_form</th>\n",
       "      <th>ENDING_DATE</th>\n",
       "      <th>TOURNAMENT</th>\n",
       "    </tr>\n",
       "  </thead>\n",
       "  <tbody>\n",
       "    <tr>\n",
       "      <th>0</th>\n",
       "      <td>Bud Cauley</td>\n",
       "      <td>1</td>\n",
       "      <td>14.0</td>\n",
       "      <td>20.20</td>\n",
       "      <td>2021-06-06</td>\n",
       "      <td>the Memorial Tournament presented by Nationwide</td>\n",
       "    </tr>\n",
       "    <tr>\n",
       "      <th>1</th>\n",
       "      <td>Jon Rahm</td>\n",
       "      <td>13</td>\n",
       "      <td>17.5</td>\n",
       "      <td>6.63</td>\n",
       "      <td>2021-06-06</td>\n",
       "      <td>the Memorial Tournament presented by Nationwide</td>\n",
       "    </tr>\n",
       "    <tr>\n",
       "      <th>2</th>\n",
       "      <td>Dawie van der Walt</td>\n",
       "      <td>1</td>\n",
       "      <td>20.0</td>\n",
       "      <td>28.85</td>\n",
       "      <td>2021-06-06</td>\n",
       "      <td>the Memorial Tournament presented by Nationwide</td>\n",
       "    </tr>\n",
       "  </tbody>\n",
       "</table>\n",
       "</div>"
      ],
      "text/plain": [
       "               PLAYER  TOTAL_EVENTS_PLAYED  RECENT_FORM  adj_form ENDING_DATE  \\\n",
       "0          Bud Cauley                    1         14.0     20.20  2021-06-06   \n",
       "1            Jon Rahm                   13         17.5      6.63  2021-06-06   \n",
       "2  Dawie van der Walt                    1         20.0     28.85  2021-06-06   \n",
       "\n",
       "                                        TOURNAMENT  \n",
       "0  the Memorial Tournament presented by Nationwide  \n",
       "1  the Memorial Tournament presented by Nationwide  \n",
       "2  the Memorial Tournament presented by Nationwide  "
      ]
     },
     "metadata": {},
     "output_type": "display_data"
    },
    {
     "name": "stdout",
     "output_type": "stream",
     "text": [
      "\n",
      "📆 2022-06-05 — the Memorial Tournament presented by Workday (476 players)\n"
     ]
    },
    {
     "data": {
      "text/html": [
       "<div>\n",
       "<style scoped>\n",
       "    .dataframe tbody tr th:only-of-type {\n",
       "        vertical-align: middle;\n",
       "    }\n",
       "\n",
       "    .dataframe tbody tr th {\n",
       "        vertical-align: top;\n",
       "    }\n",
       "\n",
       "    .dataframe thead th {\n",
       "        text-align: right;\n",
       "    }\n",
       "</style>\n",
       "<table border=\"1\" class=\"dataframe\">\n",
       "  <thead>\n",
       "    <tr style=\"text-align: right;\">\n",
       "      <th></th>\n",
       "      <th>PLAYER</th>\n",
       "      <th>TOTAL_EVENTS_PLAYED</th>\n",
       "      <th>RECENT_FORM</th>\n",
       "      <th>adj_form</th>\n",
       "      <th>ENDING_DATE</th>\n",
       "      <th>TOURNAMENT</th>\n",
       "    </tr>\n",
       "  </thead>\n",
       "  <tbody>\n",
       "    <tr>\n",
       "      <th>0</th>\n",
       "      <td>Taylor Montgomery</td>\n",
       "      <td>1</td>\n",
       "      <td>11.0</td>\n",
       "      <td>15.87</td>\n",
       "      <td>2022-06-05</td>\n",
       "      <td>the Memorial Tournament presented by Workday</td>\n",
       "    </tr>\n",
       "    <tr>\n",
       "      <th>1</th>\n",
       "      <td>Haotong Li</td>\n",
       "      <td>1</td>\n",
       "      <td>12.0</td>\n",
       "      <td>17.31</td>\n",
       "      <td>2022-06-05</td>\n",
       "      <td>the Memorial Tournament presented by Workday</td>\n",
       "    </tr>\n",
       "    <tr>\n",
       "      <th>2</th>\n",
       "      <td>Martin Contini</td>\n",
       "      <td>1</td>\n",
       "      <td>16.0</td>\n",
       "      <td>23.08</td>\n",
       "      <td>2022-06-05</td>\n",
       "      <td>the Memorial Tournament presented by Workday</td>\n",
       "    </tr>\n",
       "  </tbody>\n",
       "</table>\n",
       "</div>"
      ],
      "text/plain": [
       "              PLAYER  TOTAL_EVENTS_PLAYED  RECENT_FORM  adj_form ENDING_DATE  \\\n",
       "0  Taylor Montgomery                    1         11.0     15.87  2022-06-05   \n",
       "1         Haotong Li                    1         12.0     17.31  2022-06-05   \n",
       "2     Martin Contini                    1         16.0     23.08  2022-06-05   \n",
       "\n",
       "                                     TOURNAMENT  \n",
       "0  the Memorial Tournament presented by Workday  \n",
       "1  the Memorial Tournament presented by Workday  \n",
       "2  the Memorial Tournament presented by Workday  "
      ]
     },
     "metadata": {},
     "output_type": "display_data"
    },
    {
     "name": "stdout",
     "output_type": "stream",
     "text": [
      "\n",
      "📆 2023-06-04 — the Memorial Tournament presented by Workday (488 players)\n"
     ]
    },
    {
     "data": {
      "text/html": [
       "<div>\n",
       "<style scoped>\n",
       "    .dataframe tbody tr th:only-of-type {\n",
       "        vertical-align: middle;\n",
       "    }\n",
       "\n",
       "    .dataframe tbody tr th {\n",
       "        vertical-align: top;\n",
       "    }\n",
       "\n",
       "    .dataframe thead th {\n",
       "        text-align: right;\n",
       "    }\n",
       "</style>\n",
       "<table border=\"1\" class=\"dataframe\">\n",
       "  <thead>\n",
       "    <tr style=\"text-align: right;\">\n",
       "      <th></th>\n",
       "      <th>PLAYER</th>\n",
       "      <th>TOTAL_EVENTS_PLAYED</th>\n",
       "      <th>RECENT_FORM</th>\n",
       "      <th>adj_form</th>\n",
       "      <th>ENDING_DATE</th>\n",
       "      <th>TOURNAMENT</th>\n",
       "    </tr>\n",
       "  </thead>\n",
       "  <tbody>\n",
       "    <tr>\n",
       "      <th>0</th>\n",
       "      <td>Joohyung Kim</td>\n",
       "      <td>1</td>\n",
       "      <td>1.0</td>\n",
       "      <td>1.44</td>\n",
       "      <td>2023-06-04</td>\n",
       "      <td>the Memorial Tournament presented by Workday</td>\n",
       "    </tr>\n",
       "    <tr>\n",
       "      <th>1</th>\n",
       "      <td>Brooks Koepka</td>\n",
       "      <td>2</td>\n",
       "      <td>1.5</td>\n",
       "      <td>1.37</td>\n",
       "      <td>2023-06-04</td>\n",
       "      <td>the Memorial Tournament presented by Workday</td>\n",
       "    </tr>\n",
       "    <tr>\n",
       "      <th>2</th>\n",
       "      <td>Scottie Scheffler</td>\n",
       "      <td>15</td>\n",
       "      <td>8.4</td>\n",
       "      <td>3.03</td>\n",
       "      <td>2023-06-04</td>\n",
       "      <td>the Memorial Tournament presented by Workday</td>\n",
       "    </tr>\n",
       "  </tbody>\n",
       "</table>\n",
       "</div>"
      ],
      "text/plain": [
       "              PLAYER  TOTAL_EVENTS_PLAYED  RECENT_FORM  adj_form ENDING_DATE  \\\n",
       "0       Joohyung Kim                    1          1.0      1.44  2023-06-04   \n",
       "1      Brooks Koepka                    2          1.5      1.37  2023-06-04   \n",
       "2  Scottie Scheffler                   15          8.4      3.03  2023-06-04   \n",
       "\n",
       "                                     TOURNAMENT  \n",
       "0  the Memorial Tournament presented by Workday  \n",
       "1  the Memorial Tournament presented by Workday  \n",
       "2  the Memorial Tournament presented by Workday  "
      ]
     },
     "metadata": {},
     "output_type": "display_data"
    },
    {
     "name": "stdout",
     "output_type": "stream",
     "text": [
      "\n",
      "📆 2024-06-09 — the Memorial Tournament presented by Workday (468 players)\n"
     ]
    },
    {
     "data": {
      "text/html": [
       "<div>\n",
       "<style scoped>\n",
       "    .dataframe tbody tr th:only-of-type {\n",
       "        vertical-align: middle;\n",
       "    }\n",
       "\n",
       "    .dataframe tbody tr th {\n",
       "        vertical-align: top;\n",
       "    }\n",
       "\n",
       "    .dataframe thead th {\n",
       "        text-align: right;\n",
       "    }\n",
       "</style>\n",
       "<table border=\"1\" class=\"dataframe\">\n",
       "  <thead>\n",
       "    <tr style=\"text-align: right;\">\n",
       "      <th></th>\n",
       "      <th>PLAYER</th>\n",
       "      <th>TOTAL_EVENTS_PLAYED</th>\n",
       "      <th>RECENT_FORM</th>\n",
       "      <th>adj_form</th>\n",
       "      <th>ENDING_DATE</th>\n",
       "      <th>TOURNAMENT</th>\n",
       "    </tr>\n",
       "  </thead>\n",
       "  <tbody>\n",
       "    <tr>\n",
       "      <th>0</th>\n",
       "      <td>Bryson DeChambeau</td>\n",
       "      <td>2</td>\n",
       "      <td>4.0</td>\n",
       "      <td>3.64</td>\n",
       "      <td>2024-06-09</td>\n",
       "      <td>the Memorial Tournament presented by Workday</td>\n",
       "    </tr>\n",
       "    <tr>\n",
       "      <th>1</th>\n",
       "      <td>Scottie Scheffler</td>\n",
       "      <td>13</td>\n",
       "      <td>4.5</td>\n",
       "      <td>1.71</td>\n",
       "      <td>2024-06-09</td>\n",
       "      <td>the Memorial Tournament presented by Workday</td>\n",
       "    </tr>\n",
       "    <tr>\n",
       "      <th>2</th>\n",
       "      <td>Dean Burmester</td>\n",
       "      <td>1</td>\n",
       "      <td>12.0</td>\n",
       "      <td>17.31</td>\n",
       "      <td>2024-06-09</td>\n",
       "      <td>the Memorial Tournament presented by Workday</td>\n",
       "    </tr>\n",
       "  </tbody>\n",
       "</table>\n",
       "</div>"
      ],
      "text/plain": [
       "              PLAYER  TOTAL_EVENTS_PLAYED  RECENT_FORM  adj_form ENDING_DATE  \\\n",
       "0  Bryson DeChambeau                    2          4.0      3.64  2024-06-09   \n",
       "1  Scottie Scheffler                   13          4.5      1.71  2024-06-09   \n",
       "2     Dean Burmester                    1         12.0     17.31  2024-06-09   \n",
       "\n",
       "                                     TOURNAMENT  \n",
       "0  the Memorial Tournament presented by Workday  \n",
       "1  the Memorial Tournament presented by Workday  \n",
       "2  the Memorial Tournament presented by Workday  "
      ]
     },
     "metadata": {},
     "output_type": "display_data"
    }
   ],
   "source": [
    "importlib.reload(utils.db_utils)\n",
    "from utils.db_utils import get_recent_avg_finish\n",
    "\n",
    "recent_form = get_recent_avg_finish(\"data/golf.db\", history_df, window_months=9)\n",
    "\n",
    "# Example preview\n",
    "for date, df in recent_form.items(): \n",
    "    print(f\"\\n📆 {date} — {df['TOURNAMENT'].iloc[0]} ({len(df)} players)\")\n",
    "    display(df.head(3))"
   ]
  },
  {
   "cell_type": "markdown",
   "id": "76a77f44",
   "metadata": {},
   "source": [
    "### Course History"
   ]
  },
  {
   "cell_type": "code",
   "execution_count": 42,
   "id": "7412401a",
   "metadata": {},
   "outputs": [
    {
     "name": "stdout",
     "output_type": "stream",
     "text": [
      "\n",
      "🏌️‍♂️ Course history for the Memorial Tournament presented by Nationwide on 2016-06-05\n"
     ]
    },
    {
     "data": {
      "text/html": [
       "<div>\n",
       "<style scoped>\n",
       "    .dataframe tbody tr th:only-of-type {\n",
       "        vertical-align: middle;\n",
       "    }\n",
       "\n",
       "    .dataframe tbody tr th {\n",
       "        vertical-align: top;\n",
       "    }\n",
       "\n",
       "    .dataframe thead th {\n",
       "        text-align: right;\n",
       "    }\n",
       "</style>\n",
       "<table border=\"1\" class=\"dataframe\">\n",
       "  <thead>\n",
       "    <tr style=\"text-align: right;\">\n",
       "      <th></th>\n",
       "      <th>PLAYER</th>\n",
       "      <th>TOTAL_EVENTS_PLAYED</th>\n",
       "      <th>COURSE_HISTORY</th>\n",
       "      <th>adj_ch</th>\n",
       "      <th>ENDING_DATE</th>\n",
       "      <th>COURSE</th>\n",
       "      <th>TOURNAMENT</th>\n",
       "    </tr>\n",
       "  </thead>\n",
       "  <tbody>\n",
       "    <tr>\n",
       "      <th>0</th>\n",
       "      <td>Adam Hadwin</td>\n",
       "      <td>1</td>\n",
       "      <td>57.0</td>\n",
       "      <td>82.23</td>\n",
       "      <td>2016-06-05</td>\n",
       "      <td>Muirfield Village Golf Club</td>\n",
       "      <td>the Memorial Tournament presented by Nationwide</td>\n",
       "    </tr>\n",
       "    <tr>\n",
       "      <th>1</th>\n",
       "      <td>Alex Cejka</td>\n",
       "      <td>1</td>\n",
       "      <td>90.0</td>\n",
       "      <td>129.84</td>\n",
       "      <td>2016-06-05</td>\n",
       "      <td>Muirfield Village Golf Club</td>\n",
       "      <td>the Memorial Tournament presented by Nationwide</td>\n",
       "    </tr>\n",
       "    <tr>\n",
       "      <th>2</th>\n",
       "      <td>Andres Gonzales</td>\n",
       "      <td>1</td>\n",
       "      <td>90.0</td>\n",
       "      <td>129.84</td>\n",
       "      <td>2016-06-05</td>\n",
       "      <td>Muirfield Village Golf Club</td>\n",
       "      <td>the Memorial Tournament presented by Nationwide</td>\n",
       "    </tr>\n",
       "  </tbody>\n",
       "</table>\n",
       "</div>"
      ],
      "text/plain": [
       "            PLAYER  TOTAL_EVENTS_PLAYED  COURSE_HISTORY  adj_ch ENDING_DATE  \\\n",
       "0      Adam Hadwin                    1            57.0   82.23  2016-06-05   \n",
       "1       Alex Cejka                    1            90.0  129.84  2016-06-05   \n",
       "2  Andres Gonzales                    1            90.0  129.84  2016-06-05   \n",
       "\n",
       "                        COURSE  \\\n",
       "0  Muirfield Village Golf Club   \n",
       "1  Muirfield Village Golf Club   \n",
       "2  Muirfield Village Golf Club   \n",
       "\n",
       "                                        TOURNAMENT  \n",
       "0  the Memorial Tournament presented by Nationwide  \n",
       "1  the Memorial Tournament presented by Nationwide  \n",
       "2  the Memorial Tournament presented by Nationwide  "
      ]
     },
     "metadata": {},
     "output_type": "display_data"
    },
    {
     "name": "stdout",
     "output_type": "stream",
     "text": [
      "\n",
      "🏌️‍♂️ Course history for the Memorial Tournament presented by Nationwide on 2017-06-04\n"
     ]
    },
    {
     "data": {
      "text/html": [
       "<div>\n",
       "<style scoped>\n",
       "    .dataframe tbody tr th:only-of-type {\n",
       "        vertical-align: middle;\n",
       "    }\n",
       "\n",
       "    .dataframe tbody tr th {\n",
       "        vertical-align: top;\n",
       "    }\n",
       "\n",
       "    .dataframe thead th {\n",
       "        text-align: right;\n",
       "    }\n",
       "</style>\n",
       "<table border=\"1\" class=\"dataframe\">\n",
       "  <thead>\n",
       "    <tr style=\"text-align: right;\">\n",
       "      <th></th>\n",
       "      <th>PLAYER</th>\n",
       "      <th>TOTAL_EVENTS_PLAYED</th>\n",
       "      <th>COURSE_HISTORY</th>\n",
       "      <th>adj_ch</th>\n",
       "      <th>ENDING_DATE</th>\n",
       "      <th>COURSE</th>\n",
       "      <th>TOURNAMENT</th>\n",
       "    </tr>\n",
       "  </thead>\n",
       "  <tbody>\n",
       "    <tr>\n",
       "      <th>0</th>\n",
       "      <td>Aaron Baddeley</td>\n",
       "      <td>1</td>\n",
       "      <td>90.0</td>\n",
       "      <td>129.84</td>\n",
       "      <td>2017-06-04</td>\n",
       "      <td>Muirfield Village Golf Club</td>\n",
       "      <td>the Memorial Tournament presented by Nationwide</td>\n",
       "    </tr>\n",
       "    <tr>\n",
       "      <th>1</th>\n",
       "      <td>Adam Hadwin</td>\n",
       "      <td>2</td>\n",
       "      <td>34.0</td>\n",
       "      <td>30.95</td>\n",
       "      <td>2017-06-04</td>\n",
       "      <td>Muirfield Village Golf Club</td>\n",
       "      <td>the Memorial Tournament presented by Nationwide</td>\n",
       "    </tr>\n",
       "    <tr>\n",
       "      <th>2</th>\n",
       "      <td>Alex Cejka</td>\n",
       "      <td>2</td>\n",
       "      <td>73.5</td>\n",
       "      <td>66.90</td>\n",
       "      <td>2017-06-04</td>\n",
       "      <td>Muirfield Village Golf Club</td>\n",
       "      <td>the Memorial Tournament presented by Nationwide</td>\n",
       "    </tr>\n",
       "  </tbody>\n",
       "</table>\n",
       "</div>"
      ],
      "text/plain": [
       "           PLAYER  TOTAL_EVENTS_PLAYED  COURSE_HISTORY  adj_ch ENDING_DATE  \\\n",
       "0  Aaron Baddeley                    1            90.0  129.84  2017-06-04   \n",
       "1     Adam Hadwin                    2            34.0   30.95  2017-06-04   \n",
       "2      Alex Cejka                    2            73.5   66.90  2017-06-04   \n",
       "\n",
       "                        COURSE  \\\n",
       "0  Muirfield Village Golf Club   \n",
       "1  Muirfield Village Golf Club   \n",
       "2  Muirfield Village Golf Club   \n",
       "\n",
       "                                        TOURNAMENT  \n",
       "0  the Memorial Tournament presented by Nationwide  \n",
       "1  the Memorial Tournament presented by Nationwide  \n",
       "2  the Memorial Tournament presented by Nationwide  "
      ]
     },
     "metadata": {},
     "output_type": "display_data"
    },
    {
     "name": "stdout",
     "output_type": "stream",
     "text": [
      "\n",
      "🏌️‍♂️ Course history for the Memorial Tournament presented by Nationwide on 2018-06-03\n"
     ]
    },
    {
     "data": {
      "text/html": [
       "<div>\n",
       "<style scoped>\n",
       "    .dataframe tbody tr th:only-of-type {\n",
       "        vertical-align: middle;\n",
       "    }\n",
       "\n",
       "    .dataframe tbody tr th {\n",
       "        vertical-align: top;\n",
       "    }\n",
       "\n",
       "    .dataframe thead th {\n",
       "        text-align: right;\n",
       "    }\n",
       "</style>\n",
       "<table border=\"1\" class=\"dataframe\">\n",
       "  <thead>\n",
       "    <tr style=\"text-align: right;\">\n",
       "      <th></th>\n",
       "      <th>PLAYER</th>\n",
       "      <th>TOTAL_EVENTS_PLAYED</th>\n",
       "      <th>COURSE_HISTORY</th>\n",
       "      <th>adj_ch</th>\n",
       "      <th>ENDING_DATE</th>\n",
       "      <th>COURSE</th>\n",
       "      <th>TOURNAMENT</th>\n",
       "    </tr>\n",
       "  </thead>\n",
       "  <tbody>\n",
       "    <tr>\n",
       "      <th>0</th>\n",
       "      <td>Aaron Baddeley</td>\n",
       "      <td>2</td>\n",
       "      <td>90.0</td>\n",
       "      <td>81.92</td>\n",
       "      <td>2018-06-03</td>\n",
       "      <td>Muirfield Village Golf Club</td>\n",
       "      <td>the Memorial Tournament presented by Nationwide</td>\n",
       "    </tr>\n",
       "    <tr>\n",
       "      <th>1</th>\n",
       "      <td>Adam Hadwin</td>\n",
       "      <td>3</td>\n",
       "      <td>52.7</td>\n",
       "      <td>38.02</td>\n",
       "      <td>2018-06-03</td>\n",
       "      <td>Muirfield Village Golf Club</td>\n",
       "      <td>the Memorial Tournament presented by Nationwide</td>\n",
       "    </tr>\n",
       "    <tr>\n",
       "      <th>2</th>\n",
       "      <td>Adam Scott</td>\n",
       "      <td>1</td>\n",
       "      <td>31.0</td>\n",
       "      <td>44.72</td>\n",
       "      <td>2018-06-03</td>\n",
       "      <td>Muirfield Village Golf Club</td>\n",
       "      <td>the Memorial Tournament presented by Nationwide</td>\n",
       "    </tr>\n",
       "  </tbody>\n",
       "</table>\n",
       "</div>"
      ],
      "text/plain": [
       "           PLAYER  TOTAL_EVENTS_PLAYED  COURSE_HISTORY  adj_ch ENDING_DATE  \\\n",
       "0  Aaron Baddeley                    2            90.0   81.92  2018-06-03   \n",
       "1     Adam Hadwin                    3            52.7   38.02  2018-06-03   \n",
       "2      Adam Scott                    1            31.0   44.72  2018-06-03   \n",
       "\n",
       "                        COURSE  \\\n",
       "0  Muirfield Village Golf Club   \n",
       "1  Muirfield Village Golf Club   \n",
       "2  Muirfield Village Golf Club   \n",
       "\n",
       "                                        TOURNAMENT  \n",
       "0  the Memorial Tournament presented by Nationwide  \n",
       "1  the Memorial Tournament presented by Nationwide  \n",
       "2  the Memorial Tournament presented by Nationwide  "
      ]
     },
     "metadata": {},
     "output_type": "display_data"
    },
    {
     "name": "stdout",
     "output_type": "stream",
     "text": [
      "\n",
      "🏌️‍♂️ Course history for the Memorial Tournament presented by Nationwide on 2019-06-02\n"
     ]
    },
    {
     "data": {
      "text/html": [
       "<div>\n",
       "<style scoped>\n",
       "    .dataframe tbody tr th:only-of-type {\n",
       "        vertical-align: middle;\n",
       "    }\n",
       "\n",
       "    .dataframe tbody tr th {\n",
       "        vertical-align: top;\n",
       "    }\n",
       "\n",
       "    .dataframe thead th {\n",
       "        text-align: right;\n",
       "    }\n",
       "</style>\n",
       "<table border=\"1\" class=\"dataframe\">\n",
       "  <thead>\n",
       "    <tr style=\"text-align: right;\">\n",
       "      <th></th>\n",
       "      <th>PLAYER</th>\n",
       "      <th>TOTAL_EVENTS_PLAYED</th>\n",
       "      <th>COURSE_HISTORY</th>\n",
       "      <th>adj_ch</th>\n",
       "      <th>ENDING_DATE</th>\n",
       "      <th>COURSE</th>\n",
       "      <th>TOURNAMENT</th>\n",
       "    </tr>\n",
       "  </thead>\n",
       "  <tbody>\n",
       "    <tr>\n",
       "      <th>0</th>\n",
       "      <td>Aaron Baddeley</td>\n",
       "      <td>2</td>\n",
       "      <td>90.0</td>\n",
       "      <td>81.92</td>\n",
       "      <td>2019-06-02</td>\n",
       "      <td>Muirfield Village Golf Club</td>\n",
       "      <td>the Memorial Tournament presented by Nationwide</td>\n",
       "    </tr>\n",
       "    <tr>\n",
       "      <th>1</th>\n",
       "      <td>Aaron Wise</td>\n",
       "      <td>1</td>\n",
       "      <td>90.0</td>\n",
       "      <td>129.84</td>\n",
       "      <td>2019-06-02</td>\n",
       "      <td>Muirfield Village Golf Club</td>\n",
       "      <td>the Memorial Tournament presented by Nationwide</td>\n",
       "    </tr>\n",
       "    <tr>\n",
       "      <th>2</th>\n",
       "      <td>Abraham Ancer</td>\n",
       "      <td>1</td>\n",
       "      <td>57.0</td>\n",
       "      <td>82.23</td>\n",
       "      <td>2019-06-02</td>\n",
       "      <td>Muirfield Village Golf Club</td>\n",
       "      <td>the Memorial Tournament presented by Nationwide</td>\n",
       "    </tr>\n",
       "  </tbody>\n",
       "</table>\n",
       "</div>"
      ],
      "text/plain": [
       "           PLAYER  TOTAL_EVENTS_PLAYED  COURSE_HISTORY  adj_ch ENDING_DATE  \\\n",
       "0  Aaron Baddeley                    2            90.0   81.92  2019-06-02   \n",
       "1      Aaron Wise                    1            90.0  129.84  2019-06-02   \n",
       "2   Abraham Ancer                    1            57.0   82.23  2019-06-02   \n",
       "\n",
       "                        COURSE  \\\n",
       "0  Muirfield Village Golf Club   \n",
       "1  Muirfield Village Golf Club   \n",
       "2  Muirfield Village Golf Club   \n",
       "\n",
       "                                        TOURNAMENT  \n",
       "0  the Memorial Tournament presented by Nationwide  \n",
       "1  the Memorial Tournament presented by Nationwide  \n",
       "2  the Memorial Tournament presented by Nationwide  "
      ]
     },
     "metadata": {},
     "output_type": "display_data"
    },
    {
     "name": "stdout",
     "output_type": "stream",
     "text": [
      "\n",
      "🏌️‍♂️ Course history for the Memorial Tournament presented by Nationwide on 2020-07-19\n"
     ]
    },
    {
     "data": {
      "text/html": [
       "<div>\n",
       "<style scoped>\n",
       "    .dataframe tbody tr th:only-of-type {\n",
       "        vertical-align: middle;\n",
       "    }\n",
       "\n",
       "    .dataframe tbody tr th {\n",
       "        vertical-align: top;\n",
       "    }\n",
       "\n",
       "    .dataframe thead th {\n",
       "        text-align: right;\n",
       "    }\n",
       "</style>\n",
       "<table border=\"1\" class=\"dataframe\">\n",
       "  <thead>\n",
       "    <tr style=\"text-align: right;\">\n",
       "      <th></th>\n",
       "      <th>PLAYER</th>\n",
       "      <th>TOTAL_EVENTS_PLAYED</th>\n",
       "      <th>COURSE_HISTORY</th>\n",
       "      <th>adj_ch</th>\n",
       "      <th>ENDING_DATE</th>\n",
       "      <th>COURSE</th>\n",
       "      <th>TOURNAMENT</th>\n",
       "    </tr>\n",
       "  </thead>\n",
       "  <tbody>\n",
       "    <tr>\n",
       "      <th>0</th>\n",
       "      <td>Aaron Baddeley</td>\n",
       "      <td>3</td>\n",
       "      <td>67.3</td>\n",
       "      <td>48.55</td>\n",
       "      <td>2020-07-19</td>\n",
       "      <td>Muirfield Village Golf Club</td>\n",
       "      <td>the Memorial Tournament presented by Nationwide</td>\n",
       "    </tr>\n",
       "    <tr>\n",
       "      <th>1</th>\n",
       "      <td>Aaron Wise</td>\n",
       "      <td>2</td>\n",
       "      <td>90.0</td>\n",
       "      <td>81.92</td>\n",
       "      <td>2020-07-19</td>\n",
       "      <td>Muirfield Village Golf Club</td>\n",
       "      <td>the Memorial Tournament presented by Nationwide</td>\n",
       "    </tr>\n",
       "    <tr>\n",
       "      <th>2</th>\n",
       "      <td>Abraham Ancer</td>\n",
       "      <td>2</td>\n",
       "      <td>61.0</td>\n",
       "      <td>55.52</td>\n",
       "      <td>2020-07-19</td>\n",
       "      <td>Muirfield Village Golf Club</td>\n",
       "      <td>the Memorial Tournament presented by Nationwide</td>\n",
       "    </tr>\n",
       "  </tbody>\n",
       "</table>\n",
       "</div>"
      ],
      "text/plain": [
       "           PLAYER  TOTAL_EVENTS_PLAYED  COURSE_HISTORY  adj_ch ENDING_DATE  \\\n",
       "0  Aaron Baddeley                    3            67.3   48.55  2020-07-19   \n",
       "1      Aaron Wise                    2            90.0   81.92  2020-07-19   \n",
       "2   Abraham Ancer                    2            61.0   55.52  2020-07-19   \n",
       "\n",
       "                        COURSE  \\\n",
       "0  Muirfield Village Golf Club   \n",
       "1  Muirfield Village Golf Club   \n",
       "2  Muirfield Village Golf Club   \n",
       "\n",
       "                                        TOURNAMENT  \n",
       "0  the Memorial Tournament presented by Nationwide  \n",
       "1  the Memorial Tournament presented by Nationwide  \n",
       "2  the Memorial Tournament presented by Nationwide  "
      ]
     },
     "metadata": {},
     "output_type": "display_data"
    },
    {
     "name": "stdout",
     "output_type": "stream",
     "text": [
      "\n",
      "🏌️‍♂️ Course history for the Memorial Tournament presented by Nationwide on 2021-06-06\n"
     ]
    },
    {
     "data": {
      "text/html": [
       "<div>\n",
       "<style scoped>\n",
       "    .dataframe tbody tr th:only-of-type {\n",
       "        vertical-align: middle;\n",
       "    }\n",
       "\n",
       "    .dataframe tbody tr th {\n",
       "        vertical-align: top;\n",
       "    }\n",
       "\n",
       "    .dataframe thead th {\n",
       "        text-align: right;\n",
       "    }\n",
       "</style>\n",
       "<table border=\"1\" class=\"dataframe\">\n",
       "  <thead>\n",
       "    <tr style=\"text-align: right;\">\n",
       "      <th></th>\n",
       "      <th>PLAYER</th>\n",
       "      <th>TOTAL_EVENTS_PLAYED</th>\n",
       "      <th>COURSE_HISTORY</th>\n",
       "      <th>adj_ch</th>\n",
       "      <th>ENDING_DATE</th>\n",
       "      <th>COURSE</th>\n",
       "      <th>TOURNAMENT</th>\n",
       "    </tr>\n",
       "  </thead>\n",
       "  <tbody>\n",
       "    <tr>\n",
       "      <th>0</th>\n",
       "      <td>Aaron Baddeley</td>\n",
       "      <td>3</td>\n",
       "      <td>67.3</td>\n",
       "      <td>48.55</td>\n",
       "      <td>2021-06-06</td>\n",
       "      <td>Muirfield Village Golf Club</td>\n",
       "      <td>the Memorial Tournament presented by Nationwide</td>\n",
       "    </tr>\n",
       "    <tr>\n",
       "      <th>1</th>\n",
       "      <td>Aaron Wise</td>\n",
       "      <td>2</td>\n",
       "      <td>90.0</td>\n",
       "      <td>81.92</td>\n",
       "      <td>2021-06-06</td>\n",
       "      <td>Muirfield Village Golf Club</td>\n",
       "      <td>the Memorial Tournament presented by Nationwide</td>\n",
       "    </tr>\n",
       "    <tr>\n",
       "      <th>2</th>\n",
       "      <td>Abraham Ancer</td>\n",
       "      <td>3</td>\n",
       "      <td>60.0</td>\n",
       "      <td>43.28</td>\n",
       "      <td>2021-06-06</td>\n",
       "      <td>Muirfield Village Golf Club</td>\n",
       "      <td>the Memorial Tournament presented by Nationwide</td>\n",
       "    </tr>\n",
       "  </tbody>\n",
       "</table>\n",
       "</div>"
      ],
      "text/plain": [
       "           PLAYER  TOTAL_EVENTS_PLAYED  COURSE_HISTORY  adj_ch ENDING_DATE  \\\n",
       "0  Aaron Baddeley                    3            67.3   48.55  2021-06-06   \n",
       "1      Aaron Wise                    2            90.0   81.92  2021-06-06   \n",
       "2   Abraham Ancer                    3            60.0   43.28  2021-06-06   \n",
       "\n",
       "                        COURSE  \\\n",
       "0  Muirfield Village Golf Club   \n",
       "1  Muirfield Village Golf Club   \n",
       "2  Muirfield Village Golf Club   \n",
       "\n",
       "                                        TOURNAMENT  \n",
       "0  the Memorial Tournament presented by Nationwide  \n",
       "1  the Memorial Tournament presented by Nationwide  \n",
       "2  the Memorial Tournament presented by Nationwide  "
      ]
     },
     "metadata": {},
     "output_type": "display_data"
    },
    {
     "name": "stdout",
     "output_type": "stream",
     "text": [
      "\n",
      "🏌️‍♂️ Course history for the Memorial Tournament presented by Workday on 2022-06-05\n"
     ]
    },
    {
     "data": {
      "text/html": [
       "<div>\n",
       "<style scoped>\n",
       "    .dataframe tbody tr th:only-of-type {\n",
       "        vertical-align: middle;\n",
       "    }\n",
       "\n",
       "    .dataframe tbody tr th {\n",
       "        vertical-align: top;\n",
       "    }\n",
       "\n",
       "    .dataframe thead th {\n",
       "        text-align: right;\n",
       "    }\n",
       "</style>\n",
       "<table border=\"1\" class=\"dataframe\">\n",
       "  <thead>\n",
       "    <tr style=\"text-align: right;\">\n",
       "      <th></th>\n",
       "      <th>PLAYER</th>\n",
       "      <th>TOTAL_EVENTS_PLAYED</th>\n",
       "      <th>COURSE_HISTORY</th>\n",
       "      <th>adj_ch</th>\n",
       "      <th>ENDING_DATE</th>\n",
       "      <th>COURSE</th>\n",
       "      <th>TOURNAMENT</th>\n",
       "    </tr>\n",
       "  </thead>\n",
       "  <tbody>\n",
       "    <tr>\n",
       "      <th>0</th>\n",
       "      <td>Aaron Baddeley</td>\n",
       "      <td>3</td>\n",
       "      <td>67.3</td>\n",
       "      <td>48.55</td>\n",
       "      <td>2022-06-05</td>\n",
       "      <td>Muirfield Village Golf Club</td>\n",
       "      <td>the Memorial Tournament presented by Workday</td>\n",
       "    </tr>\n",
       "    <tr>\n",
       "      <th>1</th>\n",
       "      <td>Aaron Wise</td>\n",
       "      <td>3</td>\n",
       "      <td>63.0</td>\n",
       "      <td>45.44</td>\n",
       "      <td>2022-06-05</td>\n",
       "      <td>Muirfield Village Golf Club</td>\n",
       "      <td>the Memorial Tournament presented by Workday</td>\n",
       "    </tr>\n",
       "    <tr>\n",
       "      <th>2</th>\n",
       "      <td>Abraham Ancer</td>\n",
       "      <td>3</td>\n",
       "      <td>60.0</td>\n",
       "      <td>43.28</td>\n",
       "      <td>2022-06-05</td>\n",
       "      <td>Muirfield Village Golf Club</td>\n",
       "      <td>the Memorial Tournament presented by Workday</td>\n",
       "    </tr>\n",
       "  </tbody>\n",
       "</table>\n",
       "</div>"
      ],
      "text/plain": [
       "           PLAYER  TOTAL_EVENTS_PLAYED  COURSE_HISTORY  adj_ch ENDING_DATE  \\\n",
       "0  Aaron Baddeley                    3            67.3   48.55  2022-06-05   \n",
       "1      Aaron Wise                    3            63.0   45.44  2022-06-05   \n",
       "2   Abraham Ancer                    3            60.0   43.28  2022-06-05   \n",
       "\n",
       "                        COURSE                                    TOURNAMENT  \n",
       "0  Muirfield Village Golf Club  the Memorial Tournament presented by Workday  \n",
       "1  Muirfield Village Golf Club  the Memorial Tournament presented by Workday  \n",
       "2  Muirfield Village Golf Club  the Memorial Tournament presented by Workday  "
      ]
     },
     "metadata": {},
     "output_type": "display_data"
    },
    {
     "name": "stdout",
     "output_type": "stream",
     "text": [
      "\n",
      "🏌️‍♂️ Course history for the Memorial Tournament presented by Workday on 2023-06-04\n"
     ]
    },
    {
     "data": {
      "text/html": [
       "<div>\n",
       "<style scoped>\n",
       "    .dataframe tbody tr th:only-of-type {\n",
       "        vertical-align: middle;\n",
       "    }\n",
       "\n",
       "    .dataframe tbody tr th {\n",
       "        vertical-align: top;\n",
       "    }\n",
       "\n",
       "    .dataframe thead th {\n",
       "        text-align: right;\n",
       "    }\n",
       "</style>\n",
       "<table border=\"1\" class=\"dataframe\">\n",
       "  <thead>\n",
       "    <tr style=\"text-align: right;\">\n",
       "      <th></th>\n",
       "      <th>PLAYER</th>\n",
       "      <th>TOTAL_EVENTS_PLAYED</th>\n",
       "      <th>COURSE_HISTORY</th>\n",
       "      <th>adj_ch</th>\n",
       "      <th>ENDING_DATE</th>\n",
       "      <th>COURSE</th>\n",
       "      <th>TOURNAMENT</th>\n",
       "    </tr>\n",
       "  </thead>\n",
       "  <tbody>\n",
       "    <tr>\n",
       "      <th>0</th>\n",
       "      <td>Aaron Baddeley</td>\n",
       "      <td>3</td>\n",
       "      <td>67.3</td>\n",
       "      <td>48.55</td>\n",
       "      <td>2023-06-04</td>\n",
       "      <td>Muirfield Village Golf Club</td>\n",
       "      <td>the Memorial Tournament presented by Workday</td>\n",
       "    </tr>\n",
       "    <tr>\n",
       "      <th>1</th>\n",
       "      <td>Aaron Rai</td>\n",
       "      <td>1</td>\n",
       "      <td>26.0</td>\n",
       "      <td>37.51</td>\n",
       "      <td>2023-06-04</td>\n",
       "      <td>Muirfield Village Golf Club</td>\n",
       "      <td>the Memorial Tournament presented by Workday</td>\n",
       "    </tr>\n",
       "    <tr>\n",
       "      <th>2</th>\n",
       "      <td>Aaron Wise</td>\n",
       "      <td>4</td>\n",
       "      <td>47.8</td>\n",
       "      <td>29.70</td>\n",
       "      <td>2023-06-04</td>\n",
       "      <td>Muirfield Village Golf Club</td>\n",
       "      <td>the Memorial Tournament presented by Workday</td>\n",
       "    </tr>\n",
       "  </tbody>\n",
       "</table>\n",
       "</div>"
      ],
      "text/plain": [
       "           PLAYER  TOTAL_EVENTS_PLAYED  COURSE_HISTORY  adj_ch ENDING_DATE  \\\n",
       "0  Aaron Baddeley                    3            67.3   48.55  2023-06-04   \n",
       "1       Aaron Rai                    1            26.0   37.51  2023-06-04   \n",
       "2      Aaron Wise                    4            47.8   29.70  2023-06-04   \n",
       "\n",
       "                        COURSE                                    TOURNAMENT  \n",
       "0  Muirfield Village Golf Club  the Memorial Tournament presented by Workday  \n",
       "1  Muirfield Village Golf Club  the Memorial Tournament presented by Workday  \n",
       "2  Muirfield Village Golf Club  the Memorial Tournament presented by Workday  "
      ]
     },
     "metadata": {},
     "output_type": "display_data"
    },
    {
     "name": "stdout",
     "output_type": "stream",
     "text": [
      "\n",
      "🏌️‍♂️ Course history for the Memorial Tournament presented by Workday on 2024-06-09\n"
     ]
    },
    {
     "data": {
      "text/html": [
       "<div>\n",
       "<style scoped>\n",
       "    .dataframe tbody tr th:only-of-type {\n",
       "        vertical-align: middle;\n",
       "    }\n",
       "\n",
       "    .dataframe tbody tr th {\n",
       "        vertical-align: top;\n",
       "    }\n",
       "\n",
       "    .dataframe thead th {\n",
       "        text-align: right;\n",
       "    }\n",
       "</style>\n",
       "<table border=\"1\" class=\"dataframe\">\n",
       "  <thead>\n",
       "    <tr style=\"text-align: right;\">\n",
       "      <th></th>\n",
       "      <th>PLAYER</th>\n",
       "      <th>TOTAL_EVENTS_PLAYED</th>\n",
       "      <th>COURSE_HISTORY</th>\n",
       "      <th>adj_ch</th>\n",
       "      <th>ENDING_DATE</th>\n",
       "      <th>COURSE</th>\n",
       "      <th>TOURNAMENT</th>\n",
       "    </tr>\n",
       "  </thead>\n",
       "  <tbody>\n",
       "    <tr>\n",
       "      <th>0</th>\n",
       "      <td>Aaron Baddeley</td>\n",
       "      <td>1</td>\n",
       "      <td>22.0</td>\n",
       "      <td>31.74</td>\n",
       "      <td>2024-06-09</td>\n",
       "      <td>Muirfield Village Golf Club</td>\n",
       "      <td>the Memorial Tournament presented by Workday</td>\n",
       "    </tr>\n",
       "    <tr>\n",
       "      <th>1</th>\n",
       "      <td>Aaron Rai</td>\n",
       "      <td>2</td>\n",
       "      <td>58.0</td>\n",
       "      <td>52.79</td>\n",
       "      <td>2024-06-09</td>\n",
       "      <td>Muirfield Village Golf Club</td>\n",
       "      <td>the Memorial Tournament presented by Workday</td>\n",
       "    </tr>\n",
       "    <tr>\n",
       "      <th>2</th>\n",
       "      <td>Aaron Wise</td>\n",
       "      <td>4</td>\n",
       "      <td>47.8</td>\n",
       "      <td>29.70</td>\n",
       "      <td>2024-06-09</td>\n",
       "      <td>Muirfield Village Golf Club</td>\n",
       "      <td>the Memorial Tournament presented by Workday</td>\n",
       "    </tr>\n",
       "  </tbody>\n",
       "</table>\n",
       "</div>"
      ],
      "text/plain": [
       "           PLAYER  TOTAL_EVENTS_PLAYED  COURSE_HISTORY  adj_ch ENDING_DATE  \\\n",
       "0  Aaron Baddeley                    1            22.0   31.74  2024-06-09   \n",
       "1       Aaron Rai                    2            58.0   52.79  2024-06-09   \n",
       "2      Aaron Wise                    4            47.8   29.70  2024-06-09   \n",
       "\n",
       "                        COURSE                                    TOURNAMENT  \n",
       "0  Muirfield Village Golf Club  the Memorial Tournament presented by Workday  \n",
       "1  Muirfield Village Golf Club  the Memorial Tournament presented by Workday  \n",
       "2  Muirfield Village Golf Club  the Memorial Tournament presented by Workday  "
      ]
     },
     "metadata": {},
     "output_type": "display_data"
    }
   ],
   "source": [
    "importlib.reload(utils.db_utils)\n",
    "from utils.db_utils import get_course_history\n",
    "\n",
    "# Filter history_df for only the course we're targeting\n",
    "target_course = tournament_config[\"new\"][\"course\"]\n",
    "course_df = history_df[history_df[\"COURSE\"] == target_course]\n",
    "course_hist = get_course_history(\"data/golf.db\", course_df)\n",
    "\n",
    "# View example\n",
    "for date, df in course_hist.items():\n",
    "    if not df.empty:\n",
    "        print(f\"\\n🏌️‍♂️ Course history for {df['TOURNAMENT'].iloc[0]} on {date}\")\n",
    "        display(df.head(3))"
   ]
  },
  {
   "cell_type": "markdown",
   "id": "e8fa7578",
   "metadata": {},
   "source": [
    "## Training Dataset"
   ]
  },
  {
   "cell_type": "code",
   "execution_count": 43,
   "id": "a4277295",
   "metadata": {},
   "outputs": [
    {
     "data": {
      "text/html": [
       "<div>\n",
       "<style scoped>\n",
       "    .dataframe tbody tr th:only-of-type {\n",
       "        vertical-align: middle;\n",
       "    }\n",
       "\n",
       "    .dataframe tbody tr th {\n",
       "        vertical-align: top;\n",
       "    }\n",
       "\n",
       "    .dataframe thead th {\n",
       "        text-align: right;\n",
       "    }\n",
       "</style>\n",
       "<table border=\"1\" class=\"dataframe\">\n",
       "  <thead>\n",
       "    <tr style=\"text-align: right;\">\n",
       "      <th></th>\n",
       "      <th>SEASON</th>\n",
       "      <th>ENDING_DATE</th>\n",
       "      <th>TOURNAMENT</th>\n",
       "      <th>COURSE</th>\n",
       "      <th>PLAYER</th>\n",
       "      <th>POS</th>\n",
       "      <th>FINAL_POS</th>\n",
       "      <th>SGTTG_RANK</th>\n",
       "      <th>SGTTG</th>\n",
       "      <th>SGOTT_RANK</th>\n",
       "      <th>SGOTT</th>\n",
       "      <th>SGAPR_RANK</th>\n",
       "      <th>SGAPR</th>\n",
       "      <th>SGATG_RANK</th>\n",
       "      <th>SGATG</th>\n",
       "      <th>SGP_RANK</th>\n",
       "      <th>SGP</th>\n",
       "      <th>BIRDIES_RANK</th>\n",
       "      <th>BIRDIES</th>\n",
       "      <th>PAR_3_RANK</th>\n",
       "      <th>PAR_3</th>\n",
       "      <th>PAR_4_RANK</th>\n",
       "      <th>PAR_4</th>\n",
       "      <th>PAR_5_RANK</th>\n",
       "      <th>PAR_5</th>\n",
       "      <th>TOTAL_DRIVING_RANK</th>\n",
       "      <th>TOTAL_DRIVING</th>\n",
       "      <th>DRIVING_DISTANCE_RANK</th>\n",
       "      <th>DRIVING_DISTANCE</th>\n",
       "      <th>DRIVING_ACCURACY_RANK</th>\n",
       "      <th>DRIVING_ACCURACY</th>\n",
       "      <th>GIR_RANK</th>\n",
       "      <th>GIR</th>\n",
       "      <th>SCRAMBLING_RANK</th>\n",
       "      <th>SCRAMBLING</th>\n",
       "      <th>OWGR_RANK</th>\n",
       "      <th>OWGR</th>\n",
       "      <th>VEGAS_ODDS</th>\n",
       "      <th>CUT_PERCENTAGE</th>\n",
       "      <th>FEDEX_CUP_POINTS</th>\n",
       "      <th>form_density</th>\n",
       "      <th>CONSECUTIVE_CUTS</th>\n",
       "      <th>RECENT_FORM</th>\n",
       "      <th>adj_form</th>\n",
       "      <th>COURSE_HISTORY</th>\n",
       "      <th>adj_ch</th>\n",
       "      <th>TOP_20</th>\n",
       "    </tr>\n",
       "  </thead>\n",
       "  <tbody>\n",
       "    <tr>\n",
       "      <th>0</th>\n",
       "      <td>2016</td>\n",
       "      <td>2016-06-05</td>\n",
       "      <td>the Memorial Tournament presented by Nationwide</td>\n",
       "      <td>Muirfield Village Golf Club</td>\n",
       "      <td>Aaron Baddeley</td>\n",
       "      <td>CUT</td>\n",
       "      <td>90</td>\n",
       "      <td>146.0</td>\n",
       "      <td>-0.330</td>\n",
       "      <td>159.0</td>\n",
       "      <td>-0.366</td>\n",
       "      <td>164.0</td>\n",
       "      <td>-0.362</td>\n",
       "      <td>10.0</td>\n",
       "      <td>0.402</td>\n",
       "      <td>8.0</td>\n",
       "      <td>0.586</td>\n",
       "      <td>59.0</td>\n",
       "      <td>20.72</td>\n",
       "      <td>78.0</td>\n",
       "      <td>3.06</td>\n",
       "      <td>14.0</td>\n",
       "      <td>4.01</td>\n",
       "      <td>50.0</td>\n",
       "      <td>4.64</td>\n",
       "      <td>159.0</td>\n",
       "      <td>237.0</td>\n",
       "      <td>82.0</td>\n",
       "      <td>291.7</td>\n",
       "      <td>155.0</td>\n",
       "      <td>55.42</td>\n",
       "      <td>154.0</td>\n",
       "      <td>63.11</td>\n",
       "      <td>5.0</td>\n",
       "      <td>64.3</td>\n",
       "      <td>143.0</td>\n",
       "      <td>1.14</td>\n",
       "      <td>NaN</td>\n",
       "      <td>62.5</td>\n",
       "      <td>378.00</td>\n",
       "      <td>23.62</td>\n",
       "      <td>1.0</td>\n",
       "      <td>54.1</td>\n",
       "      <td>19.09</td>\n",
       "      <td>NaN</td>\n",
       "      <td>NaN</td>\n",
       "      <td>0</td>\n",
       "    </tr>\n",
       "    <tr>\n",
       "      <th>1</th>\n",
       "      <td>2016</td>\n",
       "      <td>2016-06-05</td>\n",
       "      <td>the Memorial Tournament presented by Nationwide</td>\n",
       "      <td>Muirfield Village Golf Club</td>\n",
       "      <td>Adam Hadwin</td>\n",
       "      <td>T11</td>\n",
       "      <td>11</td>\n",
       "      <td>111.0</td>\n",
       "      <td>-0.011</td>\n",
       "      <td>55.0</td>\n",
       "      <td>0.223</td>\n",
       "      <td>121.0</td>\n",
       "      <td>-0.055</td>\n",
       "      <td>132.0</td>\n",
       "      <td>-0.081</td>\n",
       "      <td>11.0</td>\n",
       "      <td>0.530</td>\n",
       "      <td>22.0</td>\n",
       "      <td>21.74</td>\n",
       "      <td>16.0</td>\n",
       "      <td>3.01</td>\n",
       "      <td>48.0</td>\n",
       "      <td>4.03</td>\n",
       "      <td>68.0</td>\n",
       "      <td>4.66</td>\n",
       "      <td>35.0</td>\n",
       "      <td>141.0</td>\n",
       "      <td>92.0</td>\n",
       "      <td>290.1</td>\n",
       "      <td>49.0</td>\n",
       "      <td>63.62</td>\n",
       "      <td>83.0</td>\n",
       "      <td>66.07</td>\n",
       "      <td>97.0</td>\n",
       "      <td>58.27</td>\n",
       "      <td>193.0</td>\n",
       "      <td>0.91</td>\n",
       "      <td>NaN</td>\n",
       "      <td>72.2</td>\n",
       "      <td>426.67</td>\n",
       "      <td>23.70</td>\n",
       "      <td>5.0</td>\n",
       "      <td>51.9</td>\n",
       "      <td>17.63</td>\n",
       "      <td>57.0</td>\n",
       "      <td>82.23</td>\n",
       "      <td>1</td>\n",
       "    </tr>\n",
       "    <tr>\n",
       "      <th>2</th>\n",
       "      <td>2016</td>\n",
       "      <td>2016-06-05</td>\n",
       "      <td>the Memorial Tournament presented by Nationwide</td>\n",
       "      <td>Muirfield Village Golf Club</td>\n",
       "      <td>Alex Cejka</td>\n",
       "      <td>T57</td>\n",
       "      <td>57</td>\n",
       "      <td>39.0</td>\n",
       "      <td>0.631</td>\n",
       "      <td>148.0</td>\n",
       "      <td>-0.292</td>\n",
       "      <td>12.0</td>\n",
       "      <td>0.626</td>\n",
       "      <td>20.0</td>\n",
       "      <td>0.297</td>\n",
       "      <td>90.0</td>\n",
       "      <td>0.010</td>\n",
       "      <td>17.0</td>\n",
       "      <td>21.89</td>\n",
       "      <td>3.0</td>\n",
       "      <td>2.98</td>\n",
       "      <td>14.0</td>\n",
       "      <td>4.01</td>\n",
       "      <td>10.0</td>\n",
       "      <td>4.57</td>\n",
       "      <td>78.0</td>\n",
       "      <td>177.0</td>\n",
       "      <td>155.0</td>\n",
       "      <td>281.5</td>\n",
       "      <td>22.0</td>\n",
       "      <td>65.89</td>\n",
       "      <td>39.0</td>\n",
       "      <td>67.99</td>\n",
       "      <td>3.0</td>\n",
       "      <td>65.03</td>\n",
       "      <td>130.0</td>\n",
       "      <td>1.22</td>\n",
       "      <td>NaN</td>\n",
       "      <td>57.1</td>\n",
       "      <td>491.17</td>\n",
       "      <td>35.08</td>\n",
       "      <td>0.0</td>\n",
       "      <td>52.5</td>\n",
       "      <td>19.39</td>\n",
       "      <td>90.0</td>\n",
       "      <td>129.84</td>\n",
       "      <td>0</td>\n",
       "    </tr>\n",
       "    <tr>\n",
       "      <th>3</th>\n",
       "      <td>2016</td>\n",
       "      <td>2016-06-05</td>\n",
       "      <td>the Memorial Tournament presented by Nationwide</td>\n",
       "      <td>Muirfield Village Golf Club</td>\n",
       "      <td>Andrew Loupe</td>\n",
       "      <td>CUT</td>\n",
       "      <td>90</td>\n",
       "      <td>150.0</td>\n",
       "      <td>-0.395</td>\n",
       "      <td>105.0</td>\n",
       "      <td>-0.005</td>\n",
       "      <td>154.0</td>\n",
       "      <td>-0.281</td>\n",
       "      <td>158.0</td>\n",
       "      <td>-0.172</td>\n",
       "      <td>38.0</td>\n",
       "      <td>0.280</td>\n",
       "      <td>12.0</td>\n",
       "      <td>22.74</td>\n",
       "      <td>78.0</td>\n",
       "      <td>3.06</td>\n",
       "      <td>177.0</td>\n",
       "      <td>4.11</td>\n",
       "      <td>13.0</td>\n",
       "      <td>4.58</td>\n",
       "      <td>101.0</td>\n",
       "      <td>189.0</td>\n",
       "      <td>5.0</td>\n",
       "      <td>309.3</td>\n",
       "      <td>184.0</td>\n",
       "      <td>45.56</td>\n",
       "      <td>148.0</td>\n",
       "      <td>63.41</td>\n",
       "      <td>175.0</td>\n",
       "      <td>52.83</td>\n",
       "      <td>194.0</td>\n",
       "      <td>0.91</td>\n",
       "      <td>NaN</td>\n",
       "      <td>58.8</td>\n",
       "      <td>482.82</td>\n",
       "      <td>28.40</td>\n",
       "      <td>0.0</td>\n",
       "      <td>56.0</td>\n",
       "      <td>19.37</td>\n",
       "      <td>NaN</td>\n",
       "      <td>NaN</td>\n",
       "      <td>0</td>\n",
       "    </tr>\n",
       "    <tr>\n",
       "      <th>4</th>\n",
       "      <td>2016</td>\n",
       "      <td>2016-06-05</td>\n",
       "      <td>the Memorial Tournament presented by Nationwide</td>\n",
       "      <td>Muirfield Village Golf Club</td>\n",
       "      <td>Anirban Lahiri</td>\n",
       "      <td>T61</td>\n",
       "      <td>61</td>\n",
       "      <td>97.0</td>\n",
       "      <td>0.088</td>\n",
       "      <td>95.0</td>\n",
       "      <td>0.025</td>\n",
       "      <td>90.0</td>\n",
       "      <td>0.143</td>\n",
       "      <td>130.0</td>\n",
       "      <td>-0.080</td>\n",
       "      <td>99.0</td>\n",
       "      <td>-0.020</td>\n",
       "      <td>107.0</td>\n",
       "      <td>19.73</td>\n",
       "      <td>136.0</td>\n",
       "      <td>3.09</td>\n",
       "      <td>97.0</td>\n",
       "      <td>4.05</td>\n",
       "      <td>155.0</td>\n",
       "      <td>4.74</td>\n",
       "      <td>154.0</td>\n",
       "      <td>232.0</td>\n",
       "      <td>82.0</td>\n",
       "      <td>291.7</td>\n",
       "      <td>150.0</td>\n",
       "      <td>56.31</td>\n",
       "      <td>161.0</td>\n",
       "      <td>62.88</td>\n",
       "      <td>138.0</td>\n",
       "      <td>56.4</td>\n",
       "      <td>92.0</td>\n",
       "      <td>1.63</td>\n",
       "      <td>100.0</td>\n",
       "      <td>70.0</td>\n",
       "      <td>269.75</td>\n",
       "      <td>26.98</td>\n",
       "      <td>4.0</td>\n",
       "      <td>50.5</td>\n",
       "      <td>21.06</td>\n",
       "      <td>NaN</td>\n",
       "      <td>NaN</td>\n",
       "      <td>0</td>\n",
       "    </tr>\n",
       "    <tr>\n",
       "      <th>5</th>\n",
       "      <td>2016</td>\n",
       "      <td>2016-06-05</td>\n",
       "      <td>the Memorial Tournament presented by Nationwide</td>\n",
       "      <td>Muirfield Village Golf Club</td>\n",
       "      <td>Ben Martin</td>\n",
       "      <td>T38</td>\n",
       "      <td>38</td>\n",
       "      <td>126.0</td>\n",
       "      <td>-0.117</td>\n",
       "      <td>79.0</td>\n",
       "      <td>0.079</td>\n",
       "      <td>101.0</td>\n",
       "      <td>0.081</td>\n",
       "      <td>169.0</td>\n",
       "      <td>-0.277</td>\n",
       "      <td>70.0</td>\n",
       "      <td>0.140</td>\n",
       "      <td>29.0</td>\n",
       "      <td>21.53</td>\n",
       "      <td>146.0</td>\n",
       "      <td>3.10</td>\n",
       "      <td>97.0</td>\n",
       "      <td>4.05</td>\n",
       "      <td>28.0</td>\n",
       "      <td>4.61</td>\n",
       "      <td>71.0</td>\n",
       "      <td>174.0</td>\n",
       "      <td>108.0</td>\n",
       "      <td>288.8</td>\n",
       "      <td>66.0</td>\n",
       "      <td>62.14</td>\n",
       "      <td>64.0</td>\n",
       "      <td>66.73</td>\n",
       "      <td>160.0</td>\n",
       "      <td>54.84</td>\n",
       "      <td>123.0</td>\n",
       "      <td>1.27</td>\n",
       "      <td>NaN</td>\n",
       "      <td>66.7</td>\n",
       "      <td>297.05</td>\n",
       "      <td>19.80</td>\n",
       "      <td>1.0</td>\n",
       "      <td>56.9</td>\n",
       "      <td>20.52</td>\n",
       "      <td>90.0</td>\n",
       "      <td>129.84</td>\n",
       "      <td>0</td>\n",
       "    </tr>\n",
       "    <tr>\n",
       "      <th>6</th>\n",
       "      <td>2016</td>\n",
       "      <td>2016-06-05</td>\n",
       "      <td>the Memorial Tournament presented by Nationwide</td>\n",
       "      <td>Muirfield Village Golf Club</td>\n",
       "      <td>Bill Haas</td>\n",
       "      <td>CUT</td>\n",
       "      <td>90</td>\n",
       "      <td>34.0</td>\n",
       "      <td>0.693</td>\n",
       "      <td>81.0</td>\n",
       "      <td>0.068</td>\n",
       "      <td>54.0</td>\n",
       "      <td>0.272</td>\n",
       "      <td>14.0</td>\n",
       "      <td>0.353</td>\n",
       "      <td>130.0</td>\n",
       "      <td>-0.174</td>\n",
       "      <td>172.0</td>\n",
       "      <td>17.89</td>\n",
       "      <td>22.0</td>\n",
       "      <td>3.02</td>\n",
       "      <td>68.0</td>\n",
       "      <td>4.04</td>\n",
       "      <td>100.0</td>\n",
       "      <td>4.69</td>\n",
       "      <td>55.0</td>\n",
       "      <td>159.0</td>\n",
       "      <td>97.0</td>\n",
       "      <td>289.6</td>\n",
       "      <td>62.0</td>\n",
       "      <td>62.34</td>\n",
       "      <td>57.0</td>\n",
       "      <td>67.14</td>\n",
       "      <td>12.0</td>\n",
       "      <td>63.3</td>\n",
       "      <td>44.0</td>\n",
       "      <td>2.87</td>\n",
       "      <td>60.0</td>\n",
       "      <td>78.6</td>\n",
       "      <td>932.50</td>\n",
       "      <td>66.61</td>\n",
       "      <td>2.0</td>\n",
       "      <td>36.2</td>\n",
       "      <td>13.37</td>\n",
       "      <td>18.0</td>\n",
       "      <td>25.97</td>\n",
       "      <td>0</td>\n",
       "    </tr>\n",
       "    <tr>\n",
       "      <th>7</th>\n",
       "      <td>2016</td>\n",
       "      <td>2016-06-05</td>\n",
       "      <td>the Memorial Tournament presented by Nationwide</td>\n",
       "      <td>Muirfield Village Golf Club</td>\n",
       "      <td>Brendan Steele</td>\n",
       "      <td>T20</td>\n",
       "      <td>20</td>\n",
       "      <td>50.0</td>\n",
       "      <td>0.542</td>\n",
       "      <td>39.0</td>\n",
       "      <td>0.331</td>\n",
       "      <td>63.0</td>\n",
       "      <td>0.238</td>\n",
       "      <td>161.0</td>\n",
       "      <td>-0.188</td>\n",
       "      <td>153.0</td>\n",
       "      <td>-0.287</td>\n",
       "      <td>82.0</td>\n",
       "      <td>20.17</td>\n",
       "      <td>136.0</td>\n",
       "      <td>3.09</td>\n",
       "      <td>114.0</td>\n",
       "      <td>4.06</td>\n",
       "      <td>13.0</td>\n",
       "      <td>4.58</td>\n",
       "      <td>15.0</td>\n",
       "      <td>114.0</td>\n",
       "      <td>20.0</td>\n",
       "      <td>302.2</td>\n",
       "      <td>94.0</td>\n",
       "      <td>60.29</td>\n",
       "      <td>25.0</td>\n",
       "      <td>68.72</td>\n",
       "      <td>162.0</td>\n",
       "      <td>54.76</td>\n",
       "      <td>88.0</td>\n",
       "      <td>1.69</td>\n",
       "      <td>150.0</td>\n",
       "      <td>73.3</td>\n",
       "      <td>602.08</td>\n",
       "      <td>40.14</td>\n",
       "      <td>3.0</td>\n",
       "      <td>44.9</td>\n",
       "      <td>16.19</td>\n",
       "      <td>63.0</td>\n",
       "      <td>90.89</td>\n",
       "      <td>1</td>\n",
       "    </tr>\n",
       "    <tr>\n",
       "      <th>8</th>\n",
       "      <td>2016</td>\n",
       "      <td>2016-06-05</td>\n",
       "      <td>the Memorial Tournament presented by Nationwide</td>\n",
       "      <td>Muirfield Village Golf Club</td>\n",
       "      <td>Brendon Todd</td>\n",
       "      <td>CUT</td>\n",
       "      <td>90</td>\n",
       "      <td>184.0</td>\n",
       "      <td>-2.055</td>\n",
       "      <td>184.0</td>\n",
       "      <td>-1.043</td>\n",
       "      <td>184.0</td>\n",
       "      <td>-1.424</td>\n",
       "      <td>5.0</td>\n",
       "      <td>0.412</td>\n",
       "      <td>17.0</td>\n",
       "      <td>0.462</td>\n",
       "      <td>183.0</td>\n",
       "      <td>15.78</td>\n",
       "      <td>184.0</td>\n",
       "      <td>3.21</td>\n",
       "      <td>177.0</td>\n",
       "      <td>4.11</td>\n",
       "      <td>164.0</td>\n",
       "      <td>4.75</td>\n",
       "      <td>178.0</td>\n",
       "      <td>292.0</td>\n",
       "      <td>167.0</td>\n",
       "      <td>280.1</td>\n",
       "      <td>125.0</td>\n",
       "      <td>58.02</td>\n",
       "      <td>185.0</td>\n",
       "      <td>54.23</td>\n",
       "      <td>35.0</td>\n",
       "      <td>61.46</td>\n",
       "      <td>364.0</td>\n",
       "      <td>0.51</td>\n",
       "      <td>NaN</td>\n",
       "      <td>20.0</td>\n",
       "      <td>242.73</td>\n",
       "      <td>12.14</td>\n",
       "      <td>0.0</td>\n",
       "      <td>81.4</td>\n",
       "      <td>26.74</td>\n",
       "      <td>17.0</td>\n",
       "      <td>24.53</td>\n",
       "      <td>0</td>\n",
       "    </tr>\n",
       "    <tr>\n",
       "      <th>9</th>\n",
       "      <td>2016</td>\n",
       "      <td>2016-06-05</td>\n",
       "      <td>the Memorial Tournament presented by Nationwide</td>\n",
       "      <td>Muirfield Village Golf Club</td>\n",
       "      <td>Brendon de Jonge</td>\n",
       "      <td>CUT</td>\n",
       "      <td>90</td>\n",
       "      <td>163.0</td>\n",
       "      <td>-0.488</td>\n",
       "      <td>143.0</td>\n",
       "      <td>-0.229</td>\n",
       "      <td>145.0</td>\n",
       "      <td>-0.195</td>\n",
       "      <td>125.0</td>\n",
       "      <td>-0.063</td>\n",
       "      <td>63.0</td>\n",
       "      <td>0.156</td>\n",
       "      <td>156.0</td>\n",
       "      <td>18.59</td>\n",
       "      <td>102.0</td>\n",
       "      <td>3.07</td>\n",
       "      <td>136.0</td>\n",
       "      <td>4.07</td>\n",
       "      <td>68.0</td>\n",
       "      <td>4.66</td>\n",
       "      <td>153.0</td>\n",
       "      <td>231.0</td>\n",
       "      <td>122.0</td>\n",
       "      <td>287.5</td>\n",
       "      <td>109.0</td>\n",
       "      <td>59.19</td>\n",
       "      <td>93.0</td>\n",
       "      <td>65.64</td>\n",
       "      <td>136.0</td>\n",
       "      <td>56.49</td>\n",
       "      <td>429.0</td>\n",
       "      <td>0.44</td>\n",
       "      <td>NaN</td>\n",
       "      <td>42.1</td>\n",
       "      <td>322.67</td>\n",
       "      <td>16.98</td>\n",
       "      <td>0.0</td>\n",
       "      <td>69.6</td>\n",
       "      <td>23.23</td>\n",
       "      <td>90.0</td>\n",
       "      <td>129.84</td>\n",
       "      <td>0</td>\n",
       "    </tr>\n",
       "  </tbody>\n",
       "</table>\n",
       "</div>"
      ],
      "text/plain": [
       "   SEASON ENDING_DATE                                       TOURNAMENT  \\\n",
       "0    2016  2016-06-05  the Memorial Tournament presented by Nationwide   \n",
       "1    2016  2016-06-05  the Memorial Tournament presented by Nationwide   \n",
       "2    2016  2016-06-05  the Memorial Tournament presented by Nationwide   \n",
       "3    2016  2016-06-05  the Memorial Tournament presented by Nationwide   \n",
       "4    2016  2016-06-05  the Memorial Tournament presented by Nationwide   \n",
       "5    2016  2016-06-05  the Memorial Tournament presented by Nationwide   \n",
       "6    2016  2016-06-05  the Memorial Tournament presented by Nationwide   \n",
       "7    2016  2016-06-05  the Memorial Tournament presented by Nationwide   \n",
       "8    2016  2016-06-05  the Memorial Tournament presented by Nationwide   \n",
       "9    2016  2016-06-05  the Memorial Tournament presented by Nationwide   \n",
       "\n",
       "                        COURSE            PLAYER  POS  FINAL_POS  SGTTG_RANK  \\\n",
       "0  Muirfield Village Golf Club    Aaron Baddeley  CUT         90       146.0   \n",
       "1  Muirfield Village Golf Club       Adam Hadwin  T11         11       111.0   \n",
       "2  Muirfield Village Golf Club        Alex Cejka  T57         57        39.0   \n",
       "3  Muirfield Village Golf Club      Andrew Loupe  CUT         90       150.0   \n",
       "4  Muirfield Village Golf Club    Anirban Lahiri  T61         61        97.0   \n",
       "5  Muirfield Village Golf Club        Ben Martin  T38         38       126.0   \n",
       "6  Muirfield Village Golf Club         Bill Haas  CUT         90        34.0   \n",
       "7  Muirfield Village Golf Club    Brendan Steele  T20         20        50.0   \n",
       "8  Muirfield Village Golf Club      Brendon Todd  CUT         90       184.0   \n",
       "9  Muirfield Village Golf Club  Brendon de Jonge  CUT         90       163.0   \n",
       "\n",
       "   SGTTG  SGOTT_RANK  SGOTT  SGAPR_RANK  SGAPR  SGATG_RANK  SGATG  SGP_RANK  \\\n",
       "0 -0.330       159.0 -0.366       164.0 -0.362        10.0  0.402       8.0   \n",
       "1 -0.011        55.0  0.223       121.0 -0.055       132.0 -0.081      11.0   \n",
       "2  0.631       148.0 -0.292        12.0  0.626        20.0  0.297      90.0   \n",
       "3 -0.395       105.0 -0.005       154.0 -0.281       158.0 -0.172      38.0   \n",
       "4  0.088        95.0  0.025        90.0  0.143       130.0 -0.080      99.0   \n",
       "5 -0.117        79.0  0.079       101.0  0.081       169.0 -0.277      70.0   \n",
       "6  0.693        81.0  0.068        54.0  0.272        14.0  0.353     130.0   \n",
       "7  0.542        39.0  0.331        63.0  0.238       161.0 -0.188     153.0   \n",
       "8 -2.055       184.0 -1.043       184.0 -1.424         5.0  0.412      17.0   \n",
       "9 -0.488       143.0 -0.229       145.0 -0.195       125.0 -0.063      63.0   \n",
       "\n",
       "     SGP  BIRDIES_RANK BIRDIES  PAR_3_RANK  PAR_3  PAR_4_RANK  PAR_4  \\\n",
       "0  0.586          59.0   20.72        78.0   3.06        14.0   4.01   \n",
       "1  0.530          22.0   21.74        16.0   3.01        48.0   4.03   \n",
       "2  0.010          17.0   21.89         3.0   2.98        14.0   4.01   \n",
       "3  0.280          12.0   22.74        78.0   3.06       177.0   4.11   \n",
       "4 -0.020         107.0   19.73       136.0   3.09        97.0   4.05   \n",
       "5  0.140          29.0   21.53       146.0   3.10        97.0   4.05   \n",
       "6 -0.174         172.0   17.89        22.0   3.02        68.0   4.04   \n",
       "7 -0.287          82.0   20.17       136.0   3.09       114.0   4.06   \n",
       "8  0.462         183.0   15.78       184.0   3.21       177.0   4.11   \n",
       "9  0.156         156.0   18.59       102.0   3.07       136.0   4.07   \n",
       "\n",
       "   PAR_5_RANK  PAR_5  TOTAL_DRIVING_RANK  TOTAL_DRIVING  \\\n",
       "0        50.0   4.64               159.0          237.0   \n",
       "1        68.0   4.66                35.0          141.0   \n",
       "2        10.0   4.57                78.0          177.0   \n",
       "3        13.0   4.58               101.0          189.0   \n",
       "4       155.0   4.74               154.0          232.0   \n",
       "5        28.0   4.61                71.0          174.0   \n",
       "6       100.0   4.69                55.0          159.0   \n",
       "7        13.0   4.58                15.0          114.0   \n",
       "8       164.0   4.75               178.0          292.0   \n",
       "9        68.0   4.66               153.0          231.0   \n",
       "\n",
       "   DRIVING_DISTANCE_RANK  DRIVING_DISTANCE  DRIVING_ACCURACY_RANK  \\\n",
       "0                   82.0             291.7                  155.0   \n",
       "1                   92.0             290.1                   49.0   \n",
       "2                  155.0             281.5                   22.0   \n",
       "3                    5.0             309.3                  184.0   \n",
       "4                   82.0             291.7                  150.0   \n",
       "5                  108.0             288.8                   66.0   \n",
       "6                   97.0             289.6                   62.0   \n",
       "7                   20.0             302.2                   94.0   \n",
       "8                  167.0             280.1                  125.0   \n",
       "9                  122.0             287.5                  109.0   \n",
       "\n",
       "  DRIVING_ACCURACY  GIR_RANK    GIR  SCRAMBLING_RANK SCRAMBLING  OWGR_RANK  \\\n",
       "0            55.42     154.0  63.11              5.0       64.3      143.0   \n",
       "1            63.62      83.0  66.07             97.0      58.27      193.0   \n",
       "2            65.89      39.0  67.99              3.0      65.03      130.0   \n",
       "3            45.56     148.0  63.41            175.0      52.83      194.0   \n",
       "4            56.31     161.0  62.88            138.0       56.4       92.0   \n",
       "5            62.14      64.0  66.73            160.0      54.84      123.0   \n",
       "6            62.34      57.0  67.14             12.0       63.3       44.0   \n",
       "7            60.29      25.0  68.72            162.0      54.76       88.0   \n",
       "8            58.02     185.0  54.23             35.0      61.46      364.0   \n",
       "9            59.19      93.0  65.64            136.0      56.49      429.0   \n",
       "\n",
       "   OWGR  VEGAS_ODDS  CUT_PERCENTAGE  FEDEX_CUP_POINTS  form_density  \\\n",
       "0  1.14         NaN            62.5            378.00         23.62   \n",
       "1  0.91         NaN            72.2            426.67         23.70   \n",
       "2  1.22         NaN            57.1            491.17         35.08   \n",
       "3  0.91         NaN            58.8            482.82         28.40   \n",
       "4  1.63       100.0            70.0            269.75         26.98   \n",
       "5  1.27         NaN            66.7            297.05         19.80   \n",
       "6  2.87        60.0            78.6            932.50         66.61   \n",
       "7  1.69       150.0            73.3            602.08         40.14   \n",
       "8  0.51         NaN            20.0            242.73         12.14   \n",
       "9  0.44         NaN            42.1            322.67         16.98   \n",
       "\n",
       "   CONSECUTIVE_CUTS  RECENT_FORM  adj_form  COURSE_HISTORY  adj_ch  TOP_20  \n",
       "0               1.0         54.1     19.09             NaN     NaN       0  \n",
       "1               5.0         51.9     17.63            57.0   82.23       1  \n",
       "2               0.0         52.5     19.39            90.0  129.84       0  \n",
       "3               0.0         56.0     19.37             NaN     NaN       0  \n",
       "4               4.0         50.5     21.06             NaN     NaN       0  \n",
       "5               1.0         56.9     20.52            90.0  129.84       0  \n",
       "6               2.0         36.2     13.37            18.0   25.97       0  \n",
       "7               3.0         44.9     16.19            63.0   90.89       1  \n",
       "8               0.0         81.4     26.74            17.0   24.53       0  \n",
       "9               0.0         69.6     23.23            90.0  129.84       0  "
      ]
     },
     "execution_count": 43,
     "metadata": {},
     "output_type": "execute_result"
    }
   ],
   "source": [
    "pd.set_option(\"display.max_columns\", None)   # Show all columns\n",
    "importlib.reload(utils.db_utils)\n",
    "from utils.db_utils import build_training_rows\n",
    "training_df = build_training_rows(\n",
    "    db_path,\n",
    "    history_df,\n",
    "    cuts,\n",
    "    recent_form,\n",
    "    course_hist,\n",
    ")\n",
    "training_df.head(10)\n",
    "# training_df.info()\n",
    "# training_df.isna().sum().sort_values(ascending=False)"
   ]
  },
  {
   "cell_type": "code",
   "execution_count": 44,
   "id": "c5df12cc",
   "metadata": {},
   "outputs": [
    {
     "data": {
      "text/html": [
       "<div>\n",
       "<style scoped>\n",
       "    .dataframe tbody tr th:only-of-type {\n",
       "        vertical-align: middle;\n",
       "    }\n",
       "\n",
       "    .dataframe tbody tr th {\n",
       "        vertical-align: top;\n",
       "    }\n",
       "\n",
       "    .dataframe thead th {\n",
       "        text-align: right;\n",
       "    }\n",
       "</style>\n",
       "<table border=\"1\" class=\"dataframe\">\n",
       "  <thead>\n",
       "    <tr style=\"text-align: right;\">\n",
       "      <th></th>\n",
       "      <th>SEASON</th>\n",
       "      <th>ENDING_DATE</th>\n",
       "      <th>TOURNAMENT</th>\n",
       "      <th>COURSE</th>\n",
       "      <th>PLAYER</th>\n",
       "      <th>POS</th>\n",
       "      <th>FINAL_POS</th>\n",
       "      <th>SGTTG_RANK</th>\n",
       "      <th>SGTTG</th>\n",
       "      <th>SGOTT_RANK</th>\n",
       "      <th>SGOTT</th>\n",
       "      <th>SGAPR_RANK</th>\n",
       "      <th>SGAPR</th>\n",
       "      <th>SGATG_RANK</th>\n",
       "      <th>SGATG</th>\n",
       "      <th>SGP_RANK</th>\n",
       "      <th>SGP</th>\n",
       "      <th>BIRDIES_RANK</th>\n",
       "      <th>BIRDIES</th>\n",
       "      <th>PAR_3_RANK</th>\n",
       "      <th>PAR_3</th>\n",
       "      <th>PAR_4_RANK</th>\n",
       "      <th>PAR_4</th>\n",
       "      <th>PAR_5_RANK</th>\n",
       "      <th>PAR_5</th>\n",
       "      <th>TOTAL_DRIVING_RANK</th>\n",
       "      <th>TOTAL_DRIVING</th>\n",
       "      <th>DRIVING_DISTANCE_RANK</th>\n",
       "      <th>DRIVING_DISTANCE</th>\n",
       "      <th>DRIVING_ACCURACY_RANK</th>\n",
       "      <th>DRIVING_ACCURACY</th>\n",
       "      <th>GIR_RANK</th>\n",
       "      <th>GIR</th>\n",
       "      <th>SCRAMBLING_RANK</th>\n",
       "      <th>SCRAMBLING</th>\n",
       "      <th>OWGR_RANK</th>\n",
       "      <th>OWGR</th>\n",
       "      <th>VEGAS_ODDS</th>\n",
       "      <th>CUT_PERCENTAGE</th>\n",
       "      <th>FEDEX_CUP_POINTS</th>\n",
       "      <th>form_density</th>\n",
       "      <th>CONSECUTIVE_CUTS</th>\n",
       "      <th>RECENT_FORM</th>\n",
       "      <th>adj_form</th>\n",
       "      <th>COURSE_HISTORY</th>\n",
       "      <th>adj_ch</th>\n",
       "      <th>TOP_20</th>\n",
       "    </tr>\n",
       "  </thead>\n",
       "  <tbody>\n",
       "    <tr>\n",
       "      <th>728</th>\n",
       "      <td>2022</td>\n",
       "      <td>2022-06-05</td>\n",
       "      <td>the Memorial Tournament presented by Workday</td>\n",
       "      <td>Muirfield Village Golf Club</td>\n",
       "      <td>Aaron Rai</td>\n",
       "      <td>T26</td>\n",
       "      <td>26</td>\n",
       "      <td>46.0</td>\n",
       "      <td>0.490</td>\n",
       "      <td>69.0</td>\n",
       "      <td>0.146</td>\n",
       "      <td>46.0</td>\n",
       "      <td>0.301</td>\n",
       "      <td>93.0</td>\n",
       "      <td>0.042</td>\n",
       "      <td>139.0</td>\n",
       "      <td>-0.106</td>\n",
       "      <td>151.0</td>\n",
       "      <td>20.04</td>\n",
       "      <td>125.0</td>\n",
       "      <td>3.07</td>\n",
       "      <td>76.0</td>\n",
       "      <td>4.02</td>\n",
       "      <td>44.0</td>\n",
       "      <td>4.58</td>\n",
       "      <td>42.0</td>\n",
       "      <td>151.0</td>\n",
       "      <td>135.0</td>\n",
       "      <td>295.4</td>\n",
       "      <td>16.0</td>\n",
       "      <td>67.37</td>\n",
       "      <td>23.0</td>\n",
       "      <td>68.79</td>\n",
       "      <td>75.0</td>\n",
       "      <td>60.2</td>\n",
       "      <td>173.0</td>\n",
       "      <td>1.00</td>\n",
       "      <td>150.0</td>\n",
       "      <td>68.4</td>\n",
       "      <td>317.41</td>\n",
       "      <td>16.71</td>\n",
       "      <td>2.0</td>\n",
       "      <td>56.6</td>\n",
       "      <td>18.89</td>\n",
       "      <td>NaN</td>\n",
       "      <td>NaN</td>\n",
       "      <td>0</td>\n",
       "    </tr>\n",
       "    <tr>\n",
       "      <th>729</th>\n",
       "      <td>2022</td>\n",
       "      <td>2022-06-05</td>\n",
       "      <td>the Memorial Tournament presented by Workday</td>\n",
       "      <td>Muirfield Village Golf Club</td>\n",
       "      <td>Aaron Wise</td>\n",
       "      <td>2</td>\n",
       "      <td>2</td>\n",
       "      <td>25.0</td>\n",
       "      <td>0.952</td>\n",
       "      <td>31.0</td>\n",
       "      <td>0.387</td>\n",
       "      <td>21.0</td>\n",
       "      <td>0.489</td>\n",
       "      <td>85.0</td>\n",
       "      <td>0.076</td>\n",
       "      <td>81.0</td>\n",
       "      <td>0.100</td>\n",
       "      <td>22.0</td>\n",
       "      <td>23.39</td>\n",
       "      <td>4.0</td>\n",
       "      <td>2.98</td>\n",
       "      <td>25.0</td>\n",
       "      <td>3.99</td>\n",
       "      <td>24.0</td>\n",
       "      <td>4.55</td>\n",
       "      <td>44.0</td>\n",
       "      <td>154.0</td>\n",
       "      <td>39.0</td>\n",
       "      <td>308.3</td>\n",
       "      <td>115.0</td>\n",
       "      <td>59.15</td>\n",
       "      <td>21.0</td>\n",
       "      <td>69.06</td>\n",
       "      <td>31.0</td>\n",
       "      <td>62.63</td>\n",
       "      <td>37.0</td>\n",
       "      <td>2.69</td>\n",
       "      <td>60.0</td>\n",
       "      <td>75.0</td>\n",
       "      <td>529.33</td>\n",
       "      <td>33.08</td>\n",
       "      <td>4.0</td>\n",
       "      <td>42.2</td>\n",
       "      <td>14.89</td>\n",
       "      <td>63.0</td>\n",
       "      <td>45.44</td>\n",
       "      <td>1</td>\n",
       "    </tr>\n",
       "    <tr>\n",
       "      <th>730</th>\n",
       "      <td>2022</td>\n",
       "      <td>2022-06-05</td>\n",
       "      <td>the Memorial Tournament presented by Workday</td>\n",
       "      <td>Muirfield Village Golf Club</td>\n",
       "      <td>Abraham Ancer</td>\n",
       "      <td>T32</td>\n",
       "      <td>32</td>\n",
       "      <td>122.0</td>\n",
       "      <td>-0.026</td>\n",
       "      <td>29.0</td>\n",
       "      <td>0.395</td>\n",
       "      <td>109.0</td>\n",
       "      <td>0.026</td>\n",
       "      <td>189.0</td>\n",
       "      <td>-0.447</td>\n",
       "      <td>62.0</td>\n",
       "      <td>0.165</td>\n",
       "      <td>61.0</td>\n",
       "      <td>21.84</td>\n",
       "      <td>62.0</td>\n",
       "      <td>3.04</td>\n",
       "      <td>25.0</td>\n",
       "      <td>3.99</td>\n",
       "      <td>81.0</td>\n",
       "      <td>4.62</td>\n",
       "      <td>18.0</td>\n",
       "      <td>124.0</td>\n",
       "      <td>120.0</td>\n",
       "      <td>297.1</td>\n",
       "      <td>4.0</td>\n",
       "      <td>70.54</td>\n",
       "      <td>77.0</td>\n",
       "      <td>66.86</td>\n",
       "      <td>64.0</td>\n",
       "      <td>60.69</td>\n",
       "      <td>24.0</td>\n",
       "      <td>3.21</td>\n",
       "      <td>60.0</td>\n",
       "      <td>66.7</td>\n",
       "      <td>313.03</td>\n",
       "      <td>20.87</td>\n",
       "      <td>0.0</td>\n",
       "      <td>51.2</td>\n",
       "      <td>18.47</td>\n",
       "      <td>60.0</td>\n",
       "      <td>43.28</td>\n",
       "      <td>0</td>\n",
       "    </tr>\n",
       "    <tr>\n",
       "      <th>731</th>\n",
       "      <td>2022</td>\n",
       "      <td>2022-06-05</td>\n",
       "      <td>the Memorial Tournament presented by Workday</td>\n",
       "      <td>Muirfield Village Golf Club</td>\n",
       "      <td>Adam Hadwin</td>\n",
       "      <td>T18</td>\n",
       "      <td>18</td>\n",
       "      <td>43.0</td>\n",
       "      <td>0.550</td>\n",
       "      <td>130.0</td>\n",
       "      <td>-0.084</td>\n",
       "      <td>49.0</td>\n",
       "      <td>0.274</td>\n",
       "      <td>14.0</td>\n",
       "      <td>0.361</td>\n",
       "      <td>73.0</td>\n",
       "      <td>0.127</td>\n",
       "      <td>81.0</td>\n",
       "      <td>21.54</td>\n",
       "      <td>31.0</td>\n",
       "      <td>3.02</td>\n",
       "      <td>58.0</td>\n",
       "      <td>4.01</td>\n",
       "      <td>64.0</td>\n",
       "      <td>4.60</td>\n",
       "      <td>49.0</td>\n",
       "      <td>161.0</td>\n",
       "      <td>117.0</td>\n",
       "      <td>297.2</td>\n",
       "      <td>44.0</td>\n",
       "      <td>63.71</td>\n",
       "      <td>52.0</td>\n",
       "      <td>67.84</td>\n",
       "      <td>46.0</td>\n",
       "      <td>61.61</td>\n",
       "      <td>82.0</td>\n",
       "      <td>1.60</td>\n",
       "      <td>100.0</td>\n",
       "      <td>76.5</td>\n",
       "      <td>531.52</td>\n",
       "      <td>31.27</td>\n",
       "      <td>1.0</td>\n",
       "      <td>44.0</td>\n",
       "      <td>15.22</td>\n",
       "      <td>61.1</td>\n",
       "      <td>29.38</td>\n",
       "      <td>1</td>\n",
       "    </tr>\n",
       "    <tr>\n",
       "      <th>732</th>\n",
       "      <td>2022</td>\n",
       "      <td>2022-06-05</td>\n",
       "      <td>the Memorial Tournament presented by Workday</td>\n",
       "      <td>Muirfield Village Golf Club</td>\n",
       "      <td>Adam Long</td>\n",
       "      <td>CUT</td>\n",
       "      <td>90</td>\n",
       "      <td>91.0</td>\n",
       "      <td>0.150</td>\n",
       "      <td>83.0</td>\n",
       "      <td>0.088</td>\n",
       "      <td>100.0</td>\n",
       "      <td>0.062</td>\n",
       "      <td>112.0</td>\n",
       "      <td>0.000</td>\n",
       "      <td>24.0</td>\n",
       "      <td>0.402</td>\n",
       "      <td>134.0</td>\n",
       "      <td>20.45</td>\n",
       "      <td>31.0</td>\n",
       "      <td>3.02</td>\n",
       "      <td>25.0</td>\n",
       "      <td>3.99</td>\n",
       "      <td>157.0</td>\n",
       "      <td>4.69</td>\n",
       "      <td>102.0</td>\n",
       "      <td>198.0</td>\n",
       "      <td>165.0</td>\n",
       "      <td>291.6</td>\n",
       "      <td>33.0</td>\n",
       "      <td>64.74</td>\n",
       "      <td>66.0</td>\n",
       "      <td>67.17</td>\n",
       "      <td>17.0</td>\n",
       "      <td>64.23</td>\n",
       "      <td>221.0</td>\n",
       "      <td>0.84</td>\n",
       "      <td>125.0</td>\n",
       "      <td>65.0</td>\n",
       "      <td>391.54</td>\n",
       "      <td>19.58</td>\n",
       "      <td>1.0</td>\n",
       "      <td>52.4</td>\n",
       "      <td>17.21</td>\n",
       "      <td>68.7</td>\n",
       "      <td>49.56</td>\n",
       "      <td>0</td>\n",
       "    </tr>\n",
       "  </tbody>\n",
       "</table>\n",
       "</div>"
      ],
      "text/plain": [
       "     SEASON ENDING_DATE                                    TOURNAMENT  \\\n",
       "728    2022  2022-06-05  the Memorial Tournament presented by Workday   \n",
       "729    2022  2022-06-05  the Memorial Tournament presented by Workday   \n",
       "730    2022  2022-06-05  the Memorial Tournament presented by Workday   \n",
       "731    2022  2022-06-05  the Memorial Tournament presented by Workday   \n",
       "732    2022  2022-06-05  the Memorial Tournament presented by Workday   \n",
       "\n",
       "                          COURSE         PLAYER  POS  FINAL_POS  SGTTG_RANK  \\\n",
       "728  Muirfield Village Golf Club      Aaron Rai  T26         26        46.0   \n",
       "729  Muirfield Village Golf Club     Aaron Wise    2          2        25.0   \n",
       "730  Muirfield Village Golf Club  Abraham Ancer  T32         32       122.0   \n",
       "731  Muirfield Village Golf Club    Adam Hadwin  T18         18        43.0   \n",
       "732  Muirfield Village Golf Club      Adam Long  CUT         90        91.0   \n",
       "\n",
       "     SGTTG  SGOTT_RANK  SGOTT  SGAPR_RANK  SGAPR  SGATG_RANK  SGATG  SGP_RANK  \\\n",
       "728  0.490        69.0  0.146        46.0  0.301        93.0  0.042     139.0   \n",
       "729  0.952        31.0  0.387        21.0  0.489        85.0  0.076      81.0   \n",
       "730 -0.026        29.0  0.395       109.0  0.026       189.0 -0.447      62.0   \n",
       "731  0.550       130.0 -0.084        49.0  0.274        14.0  0.361      73.0   \n",
       "732  0.150        83.0  0.088       100.0  0.062       112.0  0.000      24.0   \n",
       "\n",
       "       SGP  BIRDIES_RANK BIRDIES  PAR_3_RANK  PAR_3  PAR_4_RANK  PAR_4  \\\n",
       "728 -0.106         151.0   20.04       125.0   3.07        76.0   4.02   \n",
       "729  0.100          22.0   23.39         4.0   2.98        25.0   3.99   \n",
       "730  0.165          61.0   21.84        62.0   3.04        25.0   3.99   \n",
       "731  0.127          81.0   21.54        31.0   3.02        58.0   4.01   \n",
       "732  0.402         134.0   20.45        31.0   3.02        25.0   3.99   \n",
       "\n",
       "     PAR_5_RANK  PAR_5  TOTAL_DRIVING_RANK  TOTAL_DRIVING  \\\n",
       "728        44.0   4.58                42.0          151.0   \n",
       "729        24.0   4.55                44.0          154.0   \n",
       "730        81.0   4.62                18.0          124.0   \n",
       "731        64.0   4.60                49.0          161.0   \n",
       "732       157.0   4.69               102.0          198.0   \n",
       "\n",
       "     DRIVING_DISTANCE_RANK  DRIVING_DISTANCE  DRIVING_ACCURACY_RANK  \\\n",
       "728                  135.0             295.4                   16.0   \n",
       "729                   39.0             308.3                  115.0   \n",
       "730                  120.0             297.1                    4.0   \n",
       "731                  117.0             297.2                   44.0   \n",
       "732                  165.0             291.6                   33.0   \n",
       "\n",
       "    DRIVING_ACCURACY  GIR_RANK    GIR  SCRAMBLING_RANK SCRAMBLING  OWGR_RANK  \\\n",
       "728            67.37      23.0  68.79             75.0       60.2      173.0   \n",
       "729            59.15      21.0  69.06             31.0      62.63       37.0   \n",
       "730            70.54      77.0  66.86             64.0      60.69       24.0   \n",
       "731            63.71      52.0  67.84             46.0      61.61       82.0   \n",
       "732            64.74      66.0  67.17             17.0      64.23      221.0   \n",
       "\n",
       "     OWGR  VEGAS_ODDS  CUT_PERCENTAGE  FEDEX_CUP_POINTS  form_density  \\\n",
       "728  1.00       150.0            68.4            317.41         16.71   \n",
       "729  2.69        60.0            75.0            529.33         33.08   \n",
       "730  3.21        60.0            66.7            313.03         20.87   \n",
       "731  1.60       100.0            76.5            531.52         31.27   \n",
       "732  0.84       125.0            65.0            391.54         19.58   \n",
       "\n",
       "     CONSECUTIVE_CUTS  RECENT_FORM  adj_form  COURSE_HISTORY  adj_ch  TOP_20  \n",
       "728               2.0         56.6     18.89             NaN     NaN       0  \n",
       "729               4.0         42.2     14.89            63.0   45.44       1  \n",
       "730               0.0         51.2     18.47            60.0   43.28       0  \n",
       "731               1.0         44.0     15.22            61.1   29.38       1  \n",
       "732               1.0         52.4     17.21            68.7   49.56       0  "
      ]
     },
     "execution_count": 44,
     "metadata": {},
     "output_type": "execute_result"
    }
   ],
   "source": [
    "# Play with different years to see if I notice anything wrong\n",
    "training_df[training_df[\"SEASON\"] == 2022].head()"
   ]
  },
  {
   "cell_type": "markdown",
   "id": "5f92ff52",
   "metadata": {},
   "source": [
    "### Normalization\n",
    "***Fix Historical Odds***\n",
    "\n",
    "Many names do not have historical odds but rather are part of the \"field.\" So giving these \"NaN\" values the average odds (as I would for missing stats) isn't a good approximation of reality – they are typically the \"field\" because they are not notable and have poor odds individually.\n",
    "\n",
    "There are also some crazy odds numbers occasionally (1000/1 or 3000/1) that don't happen all that much and are making that tail too long.\n",
    "\n",
    "This cell assigns odds of 1000/1 for anyone missing and clips anything larger to 1000/1 to normalize the data better and assign the missing odds more appropriately where they belong.\n",
    "\n",
    "***OWGR Adjustment***\n",
    "\n",
    "The NaN's for OWGR are similarly bad players.  So we should assign these the worst ranking instead of the mean and clip it at 1000 just in case there are ever outliers.\n",
    "\n",
    "For the OWGR score, it should match the lowest score in the dataset to assign that person the same as the worst.\n",
    "\n",
    "***Recent Form Adjustment***\n",
    "\n",
    "The NaN's for Recent Form mean that this player has not played any tournaments in the lookback period (9 months).  Similar to Odds and OWGR, I want to punish those that don't play often in my model.  Set these to 90 (i.e. like they miss a lot of cuts - because if they aren't playing they aren't good enough to make it to these tournaments very frequently).  The adj_form feature will also need to be updated here with the new data.\n",
    "\n",
    "***FedEx Cup Point Adjustment***\n",
    "\n",
    "The NaN's for FedEx Cup Points means there is no data.  Therefore they should be 0."
   ]
  },
  {
   "cell_type": "code",
   "execution_count": 45,
   "id": "3e9f4f19",
   "metadata": {},
   "outputs": [
    {
     "data": {
      "text/html": [
       "<div>\n",
       "<style scoped>\n",
       "    .dataframe tbody tr th:only-of-type {\n",
       "        vertical-align: middle;\n",
       "    }\n",
       "\n",
       "    .dataframe tbody tr th {\n",
       "        vertical-align: top;\n",
       "    }\n",
       "\n",
       "    .dataframe thead th {\n",
       "        text-align: right;\n",
       "    }\n",
       "</style>\n",
       "<table border=\"1\" class=\"dataframe\">\n",
       "  <thead>\n",
       "    <tr style=\"text-align: right;\">\n",
       "      <th></th>\n",
       "      <th>SEASON</th>\n",
       "      <th>ENDING_DATE</th>\n",
       "      <th>TOURNAMENT</th>\n",
       "      <th>COURSE</th>\n",
       "      <th>PLAYER</th>\n",
       "      <th>POS</th>\n",
       "      <th>FINAL_POS</th>\n",
       "      <th>SGTTG_RANK</th>\n",
       "      <th>SGTTG</th>\n",
       "      <th>SGOTT_RANK</th>\n",
       "      <th>SGOTT</th>\n",
       "      <th>SGAPR_RANK</th>\n",
       "      <th>SGAPR</th>\n",
       "      <th>SGATG_RANK</th>\n",
       "      <th>SGATG</th>\n",
       "      <th>SGP_RANK</th>\n",
       "      <th>SGP</th>\n",
       "      <th>BIRDIES_RANK</th>\n",
       "      <th>BIRDIES</th>\n",
       "      <th>PAR_3_RANK</th>\n",
       "      <th>PAR_3</th>\n",
       "      <th>PAR_4_RANK</th>\n",
       "      <th>PAR_4</th>\n",
       "      <th>PAR_5_RANK</th>\n",
       "      <th>PAR_5</th>\n",
       "      <th>TOTAL_DRIVING_RANK</th>\n",
       "      <th>TOTAL_DRIVING</th>\n",
       "      <th>DRIVING_DISTANCE_RANK</th>\n",
       "      <th>DRIVING_DISTANCE</th>\n",
       "      <th>DRIVING_ACCURACY_RANK</th>\n",
       "      <th>DRIVING_ACCURACY</th>\n",
       "      <th>GIR_RANK</th>\n",
       "      <th>GIR</th>\n",
       "      <th>SCRAMBLING_RANK</th>\n",
       "      <th>SCRAMBLING</th>\n",
       "      <th>OWGR_RANK</th>\n",
       "      <th>OWGR</th>\n",
       "      <th>VEGAS_ODDS</th>\n",
       "      <th>CUT_PERCENTAGE</th>\n",
       "      <th>FEDEX_CUP_POINTS</th>\n",
       "      <th>form_density</th>\n",
       "      <th>CONSECUTIVE_CUTS</th>\n",
       "      <th>RECENT_FORM</th>\n",
       "      <th>adj_form</th>\n",
       "      <th>COURSE_HISTORY</th>\n",
       "      <th>adj_ch</th>\n",
       "      <th>TOP_20</th>\n",
       "    </tr>\n",
       "  </thead>\n",
       "  <tbody>\n",
       "    <tr>\n",
       "      <th>0</th>\n",
       "      <td>2016</td>\n",
       "      <td>2016-06-05</td>\n",
       "      <td>the Memorial Tournament presented by Nationwide</td>\n",
       "      <td>Muirfield Village Golf Club</td>\n",
       "      <td>Aaron Baddeley</td>\n",
       "      <td>CUT</td>\n",
       "      <td>90</td>\n",
       "      <td>146.0</td>\n",
       "      <td>-0.330</td>\n",
       "      <td>159.0</td>\n",
       "      <td>-0.366</td>\n",
       "      <td>164.0</td>\n",
       "      <td>-0.362</td>\n",
       "      <td>10.0</td>\n",
       "      <td>0.402</td>\n",
       "      <td>8.0</td>\n",
       "      <td>0.586</td>\n",
       "      <td>59.0</td>\n",
       "      <td>20.72</td>\n",
       "      <td>78.0</td>\n",
       "      <td>3.06</td>\n",
       "      <td>14.0</td>\n",
       "      <td>4.01</td>\n",
       "      <td>50.0</td>\n",
       "      <td>4.64</td>\n",
       "      <td>159.0</td>\n",
       "      <td>237.0</td>\n",
       "      <td>82.0</td>\n",
       "      <td>291.7</td>\n",
       "      <td>155.0</td>\n",
       "      <td>55.42</td>\n",
       "      <td>154.0</td>\n",
       "      <td>63.11</td>\n",
       "      <td>5.0</td>\n",
       "      <td>64.3</td>\n",
       "      <td>143.0</td>\n",
       "      <td>1.14</td>\n",
       "      <td>1000.0</td>\n",
       "      <td>62.5</td>\n",
       "      <td>378.00</td>\n",
       "      <td>23.62</td>\n",
       "      <td>1.0</td>\n",
       "      <td>54.1</td>\n",
       "      <td>19.09</td>\n",
       "      <td>NaN</td>\n",
       "      <td>NaN</td>\n",
       "      <td>0</td>\n",
       "    </tr>\n",
       "    <tr>\n",
       "      <th>1</th>\n",
       "      <td>2016</td>\n",
       "      <td>2016-06-05</td>\n",
       "      <td>the Memorial Tournament presented by Nationwide</td>\n",
       "      <td>Muirfield Village Golf Club</td>\n",
       "      <td>Adam Hadwin</td>\n",
       "      <td>T11</td>\n",
       "      <td>11</td>\n",
       "      <td>111.0</td>\n",
       "      <td>-0.011</td>\n",
       "      <td>55.0</td>\n",
       "      <td>0.223</td>\n",
       "      <td>121.0</td>\n",
       "      <td>-0.055</td>\n",
       "      <td>132.0</td>\n",
       "      <td>-0.081</td>\n",
       "      <td>11.0</td>\n",
       "      <td>0.530</td>\n",
       "      <td>22.0</td>\n",
       "      <td>21.74</td>\n",
       "      <td>16.0</td>\n",
       "      <td>3.01</td>\n",
       "      <td>48.0</td>\n",
       "      <td>4.03</td>\n",
       "      <td>68.0</td>\n",
       "      <td>4.66</td>\n",
       "      <td>35.0</td>\n",
       "      <td>141.0</td>\n",
       "      <td>92.0</td>\n",
       "      <td>290.1</td>\n",
       "      <td>49.0</td>\n",
       "      <td>63.62</td>\n",
       "      <td>83.0</td>\n",
       "      <td>66.07</td>\n",
       "      <td>97.0</td>\n",
       "      <td>58.27</td>\n",
       "      <td>193.0</td>\n",
       "      <td>0.91</td>\n",
       "      <td>1000.0</td>\n",
       "      <td>72.2</td>\n",
       "      <td>426.67</td>\n",
       "      <td>23.70</td>\n",
       "      <td>5.0</td>\n",
       "      <td>51.9</td>\n",
       "      <td>17.63</td>\n",
       "      <td>57.0</td>\n",
       "      <td>82.23</td>\n",
       "      <td>1</td>\n",
       "    </tr>\n",
       "    <tr>\n",
       "      <th>2</th>\n",
       "      <td>2016</td>\n",
       "      <td>2016-06-05</td>\n",
       "      <td>the Memorial Tournament presented by Nationwide</td>\n",
       "      <td>Muirfield Village Golf Club</td>\n",
       "      <td>Alex Cejka</td>\n",
       "      <td>T57</td>\n",
       "      <td>57</td>\n",
       "      <td>39.0</td>\n",
       "      <td>0.631</td>\n",
       "      <td>148.0</td>\n",
       "      <td>-0.292</td>\n",
       "      <td>12.0</td>\n",
       "      <td>0.626</td>\n",
       "      <td>20.0</td>\n",
       "      <td>0.297</td>\n",
       "      <td>90.0</td>\n",
       "      <td>0.010</td>\n",
       "      <td>17.0</td>\n",
       "      <td>21.89</td>\n",
       "      <td>3.0</td>\n",
       "      <td>2.98</td>\n",
       "      <td>14.0</td>\n",
       "      <td>4.01</td>\n",
       "      <td>10.0</td>\n",
       "      <td>4.57</td>\n",
       "      <td>78.0</td>\n",
       "      <td>177.0</td>\n",
       "      <td>155.0</td>\n",
       "      <td>281.5</td>\n",
       "      <td>22.0</td>\n",
       "      <td>65.89</td>\n",
       "      <td>39.0</td>\n",
       "      <td>67.99</td>\n",
       "      <td>3.0</td>\n",
       "      <td>65.03</td>\n",
       "      <td>130.0</td>\n",
       "      <td>1.22</td>\n",
       "      <td>1000.0</td>\n",
       "      <td>57.1</td>\n",
       "      <td>491.17</td>\n",
       "      <td>35.08</td>\n",
       "      <td>0.0</td>\n",
       "      <td>52.5</td>\n",
       "      <td>19.39</td>\n",
       "      <td>90.0</td>\n",
       "      <td>129.84</td>\n",
       "      <td>0</td>\n",
       "    </tr>\n",
       "    <tr>\n",
       "      <th>3</th>\n",
       "      <td>2016</td>\n",
       "      <td>2016-06-05</td>\n",
       "      <td>the Memorial Tournament presented by Nationwide</td>\n",
       "      <td>Muirfield Village Golf Club</td>\n",
       "      <td>Andrew Loupe</td>\n",
       "      <td>CUT</td>\n",
       "      <td>90</td>\n",
       "      <td>150.0</td>\n",
       "      <td>-0.395</td>\n",
       "      <td>105.0</td>\n",
       "      <td>-0.005</td>\n",
       "      <td>154.0</td>\n",
       "      <td>-0.281</td>\n",
       "      <td>158.0</td>\n",
       "      <td>-0.172</td>\n",
       "      <td>38.0</td>\n",
       "      <td>0.280</td>\n",
       "      <td>12.0</td>\n",
       "      <td>22.74</td>\n",
       "      <td>78.0</td>\n",
       "      <td>3.06</td>\n",
       "      <td>177.0</td>\n",
       "      <td>4.11</td>\n",
       "      <td>13.0</td>\n",
       "      <td>4.58</td>\n",
       "      <td>101.0</td>\n",
       "      <td>189.0</td>\n",
       "      <td>5.0</td>\n",
       "      <td>309.3</td>\n",
       "      <td>184.0</td>\n",
       "      <td>45.56</td>\n",
       "      <td>148.0</td>\n",
       "      <td>63.41</td>\n",
       "      <td>175.0</td>\n",
       "      <td>52.83</td>\n",
       "      <td>194.0</td>\n",
       "      <td>0.91</td>\n",
       "      <td>1000.0</td>\n",
       "      <td>58.8</td>\n",
       "      <td>482.82</td>\n",
       "      <td>28.40</td>\n",
       "      <td>0.0</td>\n",
       "      <td>56.0</td>\n",
       "      <td>19.37</td>\n",
       "      <td>NaN</td>\n",
       "      <td>NaN</td>\n",
       "      <td>0</td>\n",
       "    </tr>\n",
       "    <tr>\n",
       "      <th>4</th>\n",
       "      <td>2016</td>\n",
       "      <td>2016-06-05</td>\n",
       "      <td>the Memorial Tournament presented by Nationwide</td>\n",
       "      <td>Muirfield Village Golf Club</td>\n",
       "      <td>Anirban Lahiri</td>\n",
       "      <td>T61</td>\n",
       "      <td>61</td>\n",
       "      <td>97.0</td>\n",
       "      <td>0.088</td>\n",
       "      <td>95.0</td>\n",
       "      <td>0.025</td>\n",
       "      <td>90.0</td>\n",
       "      <td>0.143</td>\n",
       "      <td>130.0</td>\n",
       "      <td>-0.080</td>\n",
       "      <td>99.0</td>\n",
       "      <td>-0.020</td>\n",
       "      <td>107.0</td>\n",
       "      <td>19.73</td>\n",
       "      <td>136.0</td>\n",
       "      <td>3.09</td>\n",
       "      <td>97.0</td>\n",
       "      <td>4.05</td>\n",
       "      <td>155.0</td>\n",
       "      <td>4.74</td>\n",
       "      <td>154.0</td>\n",
       "      <td>232.0</td>\n",
       "      <td>82.0</td>\n",
       "      <td>291.7</td>\n",
       "      <td>150.0</td>\n",
       "      <td>56.31</td>\n",
       "      <td>161.0</td>\n",
       "      <td>62.88</td>\n",
       "      <td>138.0</td>\n",
       "      <td>56.4</td>\n",
       "      <td>92.0</td>\n",
       "      <td>1.63</td>\n",
       "      <td>100.0</td>\n",
       "      <td>70.0</td>\n",
       "      <td>269.75</td>\n",
       "      <td>26.98</td>\n",
       "      <td>4.0</td>\n",
       "      <td>50.5</td>\n",
       "      <td>21.06</td>\n",
       "      <td>NaN</td>\n",
       "      <td>NaN</td>\n",
       "      <td>0</td>\n",
       "    </tr>\n",
       "  </tbody>\n",
       "</table>\n",
       "</div>"
      ],
      "text/plain": [
       "   SEASON ENDING_DATE                                       TOURNAMENT  \\\n",
       "0    2016  2016-06-05  the Memorial Tournament presented by Nationwide   \n",
       "1    2016  2016-06-05  the Memorial Tournament presented by Nationwide   \n",
       "2    2016  2016-06-05  the Memorial Tournament presented by Nationwide   \n",
       "3    2016  2016-06-05  the Memorial Tournament presented by Nationwide   \n",
       "4    2016  2016-06-05  the Memorial Tournament presented by Nationwide   \n",
       "\n",
       "                        COURSE          PLAYER  POS  FINAL_POS  SGTTG_RANK  \\\n",
       "0  Muirfield Village Golf Club  Aaron Baddeley  CUT         90       146.0   \n",
       "1  Muirfield Village Golf Club     Adam Hadwin  T11         11       111.0   \n",
       "2  Muirfield Village Golf Club      Alex Cejka  T57         57        39.0   \n",
       "3  Muirfield Village Golf Club    Andrew Loupe  CUT         90       150.0   \n",
       "4  Muirfield Village Golf Club  Anirban Lahiri  T61         61        97.0   \n",
       "\n",
       "   SGTTG  SGOTT_RANK  SGOTT  SGAPR_RANK  SGAPR  SGATG_RANK  SGATG  SGP_RANK  \\\n",
       "0 -0.330       159.0 -0.366       164.0 -0.362        10.0  0.402       8.0   \n",
       "1 -0.011        55.0  0.223       121.0 -0.055       132.0 -0.081      11.0   \n",
       "2  0.631       148.0 -0.292        12.0  0.626        20.0  0.297      90.0   \n",
       "3 -0.395       105.0 -0.005       154.0 -0.281       158.0 -0.172      38.0   \n",
       "4  0.088        95.0  0.025        90.0  0.143       130.0 -0.080      99.0   \n",
       "\n",
       "     SGP  BIRDIES_RANK BIRDIES  PAR_3_RANK  PAR_3  PAR_4_RANK  PAR_4  \\\n",
       "0  0.586          59.0   20.72        78.0   3.06        14.0   4.01   \n",
       "1  0.530          22.0   21.74        16.0   3.01        48.0   4.03   \n",
       "2  0.010          17.0   21.89         3.0   2.98        14.0   4.01   \n",
       "3  0.280          12.0   22.74        78.0   3.06       177.0   4.11   \n",
       "4 -0.020         107.0   19.73       136.0   3.09        97.0   4.05   \n",
       "\n",
       "   PAR_5_RANK  PAR_5  TOTAL_DRIVING_RANK  TOTAL_DRIVING  \\\n",
       "0        50.0   4.64               159.0          237.0   \n",
       "1        68.0   4.66                35.0          141.0   \n",
       "2        10.0   4.57                78.0          177.0   \n",
       "3        13.0   4.58               101.0          189.0   \n",
       "4       155.0   4.74               154.0          232.0   \n",
       "\n",
       "   DRIVING_DISTANCE_RANK  DRIVING_DISTANCE  DRIVING_ACCURACY_RANK  \\\n",
       "0                   82.0             291.7                  155.0   \n",
       "1                   92.0             290.1                   49.0   \n",
       "2                  155.0             281.5                   22.0   \n",
       "3                    5.0             309.3                  184.0   \n",
       "4                   82.0             291.7                  150.0   \n",
       "\n",
       "  DRIVING_ACCURACY  GIR_RANK    GIR  SCRAMBLING_RANK SCRAMBLING  OWGR_RANK  \\\n",
       "0            55.42     154.0  63.11              5.0       64.3      143.0   \n",
       "1            63.62      83.0  66.07             97.0      58.27      193.0   \n",
       "2            65.89      39.0  67.99              3.0      65.03      130.0   \n",
       "3            45.56     148.0  63.41            175.0      52.83      194.0   \n",
       "4            56.31     161.0  62.88            138.0       56.4       92.0   \n",
       "\n",
       "   OWGR  VEGAS_ODDS  CUT_PERCENTAGE  FEDEX_CUP_POINTS  form_density  \\\n",
       "0  1.14      1000.0            62.5            378.00         23.62   \n",
       "1  0.91      1000.0            72.2            426.67         23.70   \n",
       "2  1.22      1000.0            57.1            491.17         35.08   \n",
       "3  0.91      1000.0            58.8            482.82         28.40   \n",
       "4  1.63       100.0            70.0            269.75         26.98   \n",
       "\n",
       "   CONSECUTIVE_CUTS  RECENT_FORM  adj_form  COURSE_HISTORY  adj_ch  TOP_20  \n",
       "0               1.0         54.1     19.09             NaN     NaN       0  \n",
       "1               5.0         51.9     17.63            57.0   82.23       1  \n",
       "2               0.0         52.5     19.39            90.0  129.84       0  \n",
       "3               0.0         56.0     19.37             NaN     NaN       0  \n",
       "4               4.0         50.5     21.06             NaN     NaN       0  "
      ]
     },
     "execution_count": 45,
     "metadata": {},
     "output_type": "execute_result"
    }
   ],
   "source": [
    "# === VEGAS ODDS ===\n",
    "training_df[\"VEGAS_ODDS\"] = training_df[\"VEGAS_ODDS\"].fillna(1000).clip(upper=1000)\n",
    "\n",
    "# === OWGR and OWGR_RANK ===\n",
    "owgr_min = training_df[\"OWGR\"].min(skipna=True)\n",
    "training_df[\"OWGR\"] = training_df[\"OWGR\"].fillna(owgr_min)\n",
    "training_df[\"OWGR_RANK\"] = training_df[\"OWGR_RANK\"].fillna(1000).astype(float).clip(upper=1000)\n",
    "\n",
    "# === RECENT FORM and adj_form ===\n",
    "training_df[\"RECENT_FORM\"] = training_df[\"RECENT_FORM\"].fillna(90)\n",
    "if \"TOTAL_EVENTS_PLAYED\" in training_df.columns:\n",
    "    training_df[\"adj_form\"] = (\n",
    "        training_df[\"RECENT_FORM\"] / np.log1p(training_df[\"TOTAL_EVENTS_PLAYED\"])\n",
    "    ).round(2)\n",
    "\n",
    "# === FEDEX CUP POINTS ===\n",
    "training_df[\"FEDEX_CUP_POINTS\"] = training_df[\"FEDEX_CUP_POINTS\"].fillna(0)\n",
    "\n",
    "training_df.head(5)\n"
   ]
  },
  {
   "cell_type": "markdown",
   "id": "f58c9b4a",
   "metadata": {},
   "source": [
    "#### Average the NaNs\n",
    "At this point, the intentional offsetting of NaNs for poor players is over.  I don't want to penalize statistics or course history because you never know where they might land on the spectrum, so for these NaN values, we will take the mean."
   ]
  },
  {
   "cell_type": "code",
   "execution_count": 46,
   "id": "1172b59c",
   "metadata": {},
   "outputs": [
    {
     "data": {
      "text/html": [
       "<div>\n",
       "<style scoped>\n",
       "    .dataframe tbody tr th:only-of-type {\n",
       "        vertical-align: middle;\n",
       "    }\n",
       "\n",
       "    .dataframe tbody tr th {\n",
       "        vertical-align: top;\n",
       "    }\n",
       "\n",
       "    .dataframe thead th {\n",
       "        text-align: right;\n",
       "    }\n",
       "</style>\n",
       "<table border=\"1\" class=\"dataframe\">\n",
       "  <thead>\n",
       "    <tr style=\"text-align: right;\">\n",
       "      <th></th>\n",
       "      <th>SEASON</th>\n",
       "      <th>ENDING_DATE</th>\n",
       "      <th>TOURNAMENT</th>\n",
       "      <th>COURSE</th>\n",
       "      <th>PLAYER</th>\n",
       "      <th>POS</th>\n",
       "      <th>FINAL_POS</th>\n",
       "      <th>SGTTG_RANK</th>\n",
       "      <th>SGTTG</th>\n",
       "      <th>SGOTT_RANK</th>\n",
       "      <th>SGOTT</th>\n",
       "      <th>SGAPR_RANK</th>\n",
       "      <th>SGAPR</th>\n",
       "      <th>SGATG_RANK</th>\n",
       "      <th>SGATG</th>\n",
       "      <th>SGP_RANK</th>\n",
       "      <th>SGP</th>\n",
       "      <th>BIRDIES_RANK</th>\n",
       "      <th>BIRDIES</th>\n",
       "      <th>PAR_3_RANK</th>\n",
       "      <th>PAR_3</th>\n",
       "      <th>PAR_4_RANK</th>\n",
       "      <th>PAR_4</th>\n",
       "      <th>PAR_5_RANK</th>\n",
       "      <th>PAR_5</th>\n",
       "      <th>TOTAL_DRIVING_RANK</th>\n",
       "      <th>TOTAL_DRIVING</th>\n",
       "      <th>DRIVING_DISTANCE_RANK</th>\n",
       "      <th>DRIVING_DISTANCE</th>\n",
       "      <th>DRIVING_ACCURACY_RANK</th>\n",
       "      <th>DRIVING_ACCURACY</th>\n",
       "      <th>GIR_RANK</th>\n",
       "      <th>GIR</th>\n",
       "      <th>SCRAMBLING_RANK</th>\n",
       "      <th>SCRAMBLING</th>\n",
       "      <th>OWGR_RANK</th>\n",
       "      <th>OWGR</th>\n",
       "      <th>VEGAS_ODDS</th>\n",
       "      <th>CUT_PERCENTAGE</th>\n",
       "      <th>FEDEX_CUP_POINTS</th>\n",
       "      <th>form_density</th>\n",
       "      <th>CONSECUTIVE_CUTS</th>\n",
       "      <th>RECENT_FORM</th>\n",
       "      <th>adj_form</th>\n",
       "      <th>COURSE_HISTORY</th>\n",
       "      <th>adj_ch</th>\n",
       "      <th>TOP_20</th>\n",
       "    </tr>\n",
       "  </thead>\n",
       "  <tbody>\n",
       "    <tr>\n",
       "      <th>0</th>\n",
       "      <td>2016</td>\n",
       "      <td>2016-06-05</td>\n",
       "      <td>the Memorial Tournament presented by Nationwide</td>\n",
       "      <td>Muirfield Village Golf Club</td>\n",
       "      <td>Aaron Baddeley</td>\n",
       "      <td>CUT</td>\n",
       "      <td>90</td>\n",
       "      <td>146.0</td>\n",
       "      <td>-0.330</td>\n",
       "      <td>159.0</td>\n",
       "      <td>-0.366</td>\n",
       "      <td>164.0</td>\n",
       "      <td>-0.362</td>\n",
       "      <td>10.0</td>\n",
       "      <td>0.402</td>\n",
       "      <td>8.0</td>\n",
       "      <td>0.586</td>\n",
       "      <td>59.0</td>\n",
       "      <td>20.72</td>\n",
       "      <td>78.0</td>\n",
       "      <td>3.06</td>\n",
       "      <td>14.0</td>\n",
       "      <td>4.01</td>\n",
       "      <td>50.0</td>\n",
       "      <td>4.64</td>\n",
       "      <td>159.0</td>\n",
       "      <td>237.0</td>\n",
       "      <td>82.0</td>\n",
       "      <td>291.7</td>\n",
       "      <td>155.0</td>\n",
       "      <td>55.42</td>\n",
       "      <td>154.0</td>\n",
       "      <td>63.11</td>\n",
       "      <td>5.0</td>\n",
       "      <td>64.30</td>\n",
       "      <td>143.0</td>\n",
       "      <td>1.14</td>\n",
       "      <td>1000.0</td>\n",
       "      <td>62.5</td>\n",
       "      <td>378.00</td>\n",
       "      <td>23.62</td>\n",
       "      <td>1.0</td>\n",
       "      <td>54.1</td>\n",
       "      <td>19.09</td>\n",
       "      <td>51.916169</td>\n",
       "      <td>49.737052</td>\n",
       "      <td>0</td>\n",
       "    </tr>\n",
       "    <tr>\n",
       "      <th>1</th>\n",
       "      <td>2016</td>\n",
       "      <td>2016-06-05</td>\n",
       "      <td>the Memorial Tournament presented by Nationwide</td>\n",
       "      <td>Muirfield Village Golf Club</td>\n",
       "      <td>Adam Hadwin</td>\n",
       "      <td>T11</td>\n",
       "      <td>11</td>\n",
       "      <td>111.0</td>\n",
       "      <td>-0.011</td>\n",
       "      <td>55.0</td>\n",
       "      <td>0.223</td>\n",
       "      <td>121.0</td>\n",
       "      <td>-0.055</td>\n",
       "      <td>132.0</td>\n",
       "      <td>-0.081</td>\n",
       "      <td>11.0</td>\n",
       "      <td>0.530</td>\n",
       "      <td>22.0</td>\n",
       "      <td>21.74</td>\n",
       "      <td>16.0</td>\n",
       "      <td>3.01</td>\n",
       "      <td>48.0</td>\n",
       "      <td>4.03</td>\n",
       "      <td>68.0</td>\n",
       "      <td>4.66</td>\n",
       "      <td>35.0</td>\n",
       "      <td>141.0</td>\n",
       "      <td>92.0</td>\n",
       "      <td>290.1</td>\n",
       "      <td>49.0</td>\n",
       "      <td>63.62</td>\n",
       "      <td>83.0</td>\n",
       "      <td>66.07</td>\n",
       "      <td>97.0</td>\n",
       "      <td>58.27</td>\n",
       "      <td>193.0</td>\n",
       "      <td>0.91</td>\n",
       "      <td>1000.0</td>\n",
       "      <td>72.2</td>\n",
       "      <td>426.67</td>\n",
       "      <td>23.70</td>\n",
       "      <td>5.0</td>\n",
       "      <td>51.9</td>\n",
       "      <td>17.63</td>\n",
       "      <td>57.000000</td>\n",
       "      <td>82.230000</td>\n",
       "      <td>1</td>\n",
       "    </tr>\n",
       "    <tr>\n",
       "      <th>2</th>\n",
       "      <td>2016</td>\n",
       "      <td>2016-06-05</td>\n",
       "      <td>the Memorial Tournament presented by Nationwide</td>\n",
       "      <td>Muirfield Village Golf Club</td>\n",
       "      <td>Alex Cejka</td>\n",
       "      <td>T57</td>\n",
       "      <td>57</td>\n",
       "      <td>39.0</td>\n",
       "      <td>0.631</td>\n",
       "      <td>148.0</td>\n",
       "      <td>-0.292</td>\n",
       "      <td>12.0</td>\n",
       "      <td>0.626</td>\n",
       "      <td>20.0</td>\n",
       "      <td>0.297</td>\n",
       "      <td>90.0</td>\n",
       "      <td>0.010</td>\n",
       "      <td>17.0</td>\n",
       "      <td>21.89</td>\n",
       "      <td>3.0</td>\n",
       "      <td>2.98</td>\n",
       "      <td>14.0</td>\n",
       "      <td>4.01</td>\n",
       "      <td>10.0</td>\n",
       "      <td>4.57</td>\n",
       "      <td>78.0</td>\n",
       "      <td>177.0</td>\n",
       "      <td>155.0</td>\n",
       "      <td>281.5</td>\n",
       "      <td>22.0</td>\n",
       "      <td>65.89</td>\n",
       "      <td>39.0</td>\n",
       "      <td>67.99</td>\n",
       "      <td>3.0</td>\n",
       "      <td>65.03</td>\n",
       "      <td>130.0</td>\n",
       "      <td>1.22</td>\n",
       "      <td>1000.0</td>\n",
       "      <td>57.1</td>\n",
       "      <td>491.17</td>\n",
       "      <td>35.08</td>\n",
       "      <td>0.0</td>\n",
       "      <td>52.5</td>\n",
       "      <td>19.39</td>\n",
       "      <td>90.000000</td>\n",
       "      <td>129.840000</td>\n",
       "      <td>0</td>\n",
       "    </tr>\n",
       "    <tr>\n",
       "      <th>3</th>\n",
       "      <td>2016</td>\n",
       "      <td>2016-06-05</td>\n",
       "      <td>the Memorial Tournament presented by Nationwide</td>\n",
       "      <td>Muirfield Village Golf Club</td>\n",
       "      <td>Andrew Loupe</td>\n",
       "      <td>CUT</td>\n",
       "      <td>90</td>\n",
       "      <td>150.0</td>\n",
       "      <td>-0.395</td>\n",
       "      <td>105.0</td>\n",
       "      <td>-0.005</td>\n",
       "      <td>154.0</td>\n",
       "      <td>-0.281</td>\n",
       "      <td>158.0</td>\n",
       "      <td>-0.172</td>\n",
       "      <td>38.0</td>\n",
       "      <td>0.280</td>\n",
       "      <td>12.0</td>\n",
       "      <td>22.74</td>\n",
       "      <td>78.0</td>\n",
       "      <td>3.06</td>\n",
       "      <td>177.0</td>\n",
       "      <td>4.11</td>\n",
       "      <td>13.0</td>\n",
       "      <td>4.58</td>\n",
       "      <td>101.0</td>\n",
       "      <td>189.0</td>\n",
       "      <td>5.0</td>\n",
       "      <td>309.3</td>\n",
       "      <td>184.0</td>\n",
       "      <td>45.56</td>\n",
       "      <td>148.0</td>\n",
       "      <td>63.41</td>\n",
       "      <td>175.0</td>\n",
       "      <td>52.83</td>\n",
       "      <td>194.0</td>\n",
       "      <td>0.91</td>\n",
       "      <td>1000.0</td>\n",
       "      <td>58.8</td>\n",
       "      <td>482.82</td>\n",
       "      <td>28.40</td>\n",
       "      <td>0.0</td>\n",
       "      <td>56.0</td>\n",
       "      <td>19.37</td>\n",
       "      <td>51.916169</td>\n",
       "      <td>49.737052</td>\n",
       "      <td>0</td>\n",
       "    </tr>\n",
       "    <tr>\n",
       "      <th>4</th>\n",
       "      <td>2016</td>\n",
       "      <td>2016-06-05</td>\n",
       "      <td>the Memorial Tournament presented by Nationwide</td>\n",
       "      <td>Muirfield Village Golf Club</td>\n",
       "      <td>Anirban Lahiri</td>\n",
       "      <td>T61</td>\n",
       "      <td>61</td>\n",
       "      <td>97.0</td>\n",
       "      <td>0.088</td>\n",
       "      <td>95.0</td>\n",
       "      <td>0.025</td>\n",
       "      <td>90.0</td>\n",
       "      <td>0.143</td>\n",
       "      <td>130.0</td>\n",
       "      <td>-0.080</td>\n",
       "      <td>99.0</td>\n",
       "      <td>-0.020</td>\n",
       "      <td>107.0</td>\n",
       "      <td>19.73</td>\n",
       "      <td>136.0</td>\n",
       "      <td>3.09</td>\n",
       "      <td>97.0</td>\n",
       "      <td>4.05</td>\n",
       "      <td>155.0</td>\n",
       "      <td>4.74</td>\n",
       "      <td>154.0</td>\n",
       "      <td>232.0</td>\n",
       "      <td>82.0</td>\n",
       "      <td>291.7</td>\n",
       "      <td>150.0</td>\n",
       "      <td>56.31</td>\n",
       "      <td>161.0</td>\n",
       "      <td>62.88</td>\n",
       "      <td>138.0</td>\n",
       "      <td>56.40</td>\n",
       "      <td>92.0</td>\n",
       "      <td>1.63</td>\n",
       "      <td>100.0</td>\n",
       "      <td>70.0</td>\n",
       "      <td>269.75</td>\n",
       "      <td>26.98</td>\n",
       "      <td>4.0</td>\n",
       "      <td>50.5</td>\n",
       "      <td>21.06</td>\n",
       "      <td>51.916169</td>\n",
       "      <td>49.737052</td>\n",
       "      <td>0</td>\n",
       "    </tr>\n",
       "  </tbody>\n",
       "</table>\n",
       "</div>"
      ],
      "text/plain": [
       "   SEASON ENDING_DATE                                       TOURNAMENT  \\\n",
       "0    2016  2016-06-05  the Memorial Tournament presented by Nationwide   \n",
       "1    2016  2016-06-05  the Memorial Tournament presented by Nationwide   \n",
       "2    2016  2016-06-05  the Memorial Tournament presented by Nationwide   \n",
       "3    2016  2016-06-05  the Memorial Tournament presented by Nationwide   \n",
       "4    2016  2016-06-05  the Memorial Tournament presented by Nationwide   \n",
       "\n",
       "                        COURSE          PLAYER  POS  FINAL_POS  SGTTG_RANK  \\\n",
       "0  Muirfield Village Golf Club  Aaron Baddeley  CUT         90       146.0   \n",
       "1  Muirfield Village Golf Club     Adam Hadwin  T11         11       111.0   \n",
       "2  Muirfield Village Golf Club      Alex Cejka  T57         57        39.0   \n",
       "3  Muirfield Village Golf Club    Andrew Loupe  CUT         90       150.0   \n",
       "4  Muirfield Village Golf Club  Anirban Lahiri  T61         61        97.0   \n",
       "\n",
       "   SGTTG  SGOTT_RANK  SGOTT  SGAPR_RANK  SGAPR  SGATG_RANK  SGATG  SGP_RANK  \\\n",
       "0 -0.330       159.0 -0.366       164.0 -0.362        10.0  0.402       8.0   \n",
       "1 -0.011        55.0  0.223       121.0 -0.055       132.0 -0.081      11.0   \n",
       "2  0.631       148.0 -0.292        12.0  0.626        20.0  0.297      90.0   \n",
       "3 -0.395       105.0 -0.005       154.0 -0.281       158.0 -0.172      38.0   \n",
       "4  0.088        95.0  0.025        90.0  0.143       130.0 -0.080      99.0   \n",
       "\n",
       "     SGP  BIRDIES_RANK  BIRDIES  PAR_3_RANK  PAR_3  PAR_4_RANK  PAR_4  \\\n",
       "0  0.586          59.0    20.72        78.0   3.06        14.0   4.01   \n",
       "1  0.530          22.0    21.74        16.0   3.01        48.0   4.03   \n",
       "2  0.010          17.0    21.89         3.0   2.98        14.0   4.01   \n",
       "3  0.280          12.0    22.74        78.0   3.06       177.0   4.11   \n",
       "4 -0.020         107.0    19.73       136.0   3.09        97.0   4.05   \n",
       "\n",
       "   PAR_5_RANK  PAR_5  TOTAL_DRIVING_RANK  TOTAL_DRIVING  \\\n",
       "0        50.0   4.64               159.0          237.0   \n",
       "1        68.0   4.66                35.0          141.0   \n",
       "2        10.0   4.57                78.0          177.0   \n",
       "3        13.0   4.58               101.0          189.0   \n",
       "4       155.0   4.74               154.0          232.0   \n",
       "\n",
       "   DRIVING_DISTANCE_RANK  DRIVING_DISTANCE  DRIVING_ACCURACY_RANK  \\\n",
       "0                   82.0             291.7                  155.0   \n",
       "1                   92.0             290.1                   49.0   \n",
       "2                  155.0             281.5                   22.0   \n",
       "3                    5.0             309.3                  184.0   \n",
       "4                   82.0             291.7                  150.0   \n",
       "\n",
       "   DRIVING_ACCURACY  GIR_RANK    GIR  SCRAMBLING_RANK  SCRAMBLING  OWGR_RANK  \\\n",
       "0             55.42     154.0  63.11              5.0       64.30      143.0   \n",
       "1             63.62      83.0  66.07             97.0       58.27      193.0   \n",
       "2             65.89      39.0  67.99              3.0       65.03      130.0   \n",
       "3             45.56     148.0  63.41            175.0       52.83      194.0   \n",
       "4             56.31     161.0  62.88            138.0       56.40       92.0   \n",
       "\n",
       "   OWGR  VEGAS_ODDS  CUT_PERCENTAGE  FEDEX_CUP_POINTS  form_density  \\\n",
       "0  1.14      1000.0            62.5            378.00         23.62   \n",
       "1  0.91      1000.0            72.2            426.67         23.70   \n",
       "2  1.22      1000.0            57.1            491.17         35.08   \n",
       "3  0.91      1000.0            58.8            482.82         28.40   \n",
       "4  1.63       100.0            70.0            269.75         26.98   \n",
       "\n",
       "   CONSECUTIVE_CUTS  RECENT_FORM  adj_form  COURSE_HISTORY      adj_ch  TOP_20  \n",
       "0               1.0         54.1     19.09       51.916169   49.737052       0  \n",
       "1               5.0         51.9     17.63       57.000000   82.230000       1  \n",
       "2               0.0         52.5     19.39       90.000000  129.840000       0  \n",
       "3               0.0         56.0     19.37       51.916169   49.737052       0  \n",
       "4               4.0         50.5     21.06       51.916169   49.737052       0  "
      ]
     },
     "execution_count": 46,
     "metadata": {},
     "output_type": "execute_result"
    }
   ],
   "source": [
    "# === Clean percentage stats stored as strings like '62.5%' ===\n",
    "percent_stats = [\"SCRAMBLING\", \"DRIVING_ACCURACY\", \"BIRDIES\", \"GIR\"]\n",
    "\n",
    "for col in percent_stats:\n",
    "    if col in training_df.columns:\n",
    "        training_df[col] = (\n",
    "            training_df[col]\n",
    "            .astype(str)\n",
    "            .str.replace('%', '', regex=False)\n",
    "            .replace(['None', 'nan', 'NaN', '--', 'DNP', ''], np.nan)\n",
    "            .astype(float)\n",
    "        )\n",
    "\n",
    "# Select only the numeric columns\n",
    "numeric_columns = training_df.select_dtypes(include=['float64', 'int64'])\n",
    "\n",
    "# Fill NaN values with the mean of each column\n",
    "numeric_columns = numeric_columns.fillna(numeric_columns.mean())\n",
    "\n",
    "# Update the original dataframe with the filled numeric columns\n",
    "training_df.update(numeric_columns)\n",
    "\n",
    "training_df.head()"
   ]
  },
  {
   "cell_type": "code",
   "execution_count": 47,
   "id": "bb294b3c",
   "metadata": {},
   "outputs": [],
   "source": [
    "# Check for NaN values\n",
    "assert training_df.isna().sum().sum() == 0, \"🚨 Still missing values!\""
   ]
  },
  {
   "cell_type": "code",
   "execution_count": 13,
   "id": "5d68c5dc",
   "metadata": {},
   "outputs": [
    {
     "data": {
      "text/plain": [
       "SEASON         0\n",
       "ENDING_DATE    0\n",
       "TOURNAMENT     0\n",
       "COURSE         0\n",
       "PLAYER         0\n",
       "POS            0\n",
       "FINAL_POS      0\n",
       "SGTTG_RANK     0\n",
       "SGTTG          0\n",
       "SGOTT_RANK     0\n",
       "dtype: int64"
      ]
     },
     "execution_count": 13,
     "metadata": {},
     "output_type": "execute_result"
    }
   ],
   "source": [
    "# Inspect which columns have NaN values\n",
    "training_df.isna().sum().sort_values(ascending=False).head(10)\n"
   ]
  },
  {
   "cell_type": "markdown",
   "id": "1214b374",
   "metadata": {},
   "source": [
    "### Check Features for Outliers and General Health (Histograms)\n",
    "Now that all the data is cleaned, let's look at the distribution graphs."
   ]
  },
  {
   "cell_type": "code",
   "execution_count": null,
   "id": "c3ac2331",
   "metadata": {},
   "outputs": [],
   "source": [
    "import plotly.express as px\n",
    "import plotly.subplots as sp\n",
    "import plotly.graph_objects as go\n",
    "import pandas as pd\n",
    "import numpy as np\n",
    "\n",
    "# Select numeric columns with >1 unique value, excluding label\n",
    "df_numeric = training_df.select_dtypes(include=np.number)\n",
    "df_numeric = df_numeric.loc[:, df_numeric.nunique() > 1]\n",
    "df_numeric = df_numeric.drop(columns=[\"TOP_20\"], errors=\"ignore\")\n",
    "\n",
    "# Create subplots\n",
    "n_cols = 3\n",
    "n_rows = int(np.ceil(len(df_numeric.columns) / n_cols))\n",
    "fig = sp.make_subplots(rows=n_rows, cols=n_cols, subplot_titles=df_numeric.columns)\n",
    "\n",
    "# Add one histogram per feature with smart binning\n",
    "for i, column in enumerate(df_numeric.columns):\n",
    "    row = i // n_cols + 1\n",
    "    col = i % n_cols + 1\n",
    "\n",
    "    # Compute dynamic bin count\n",
    "    col_range = df_numeric[column].max() - df_numeric[column].min()\n",
    "    n_unique = df_numeric[column].nunique()\n",
    "    nbins = min(50, max(5, int(n_unique / 2))) if col_range < 10 else 50  # tighter for short-range\n",
    "\n",
    "    fig.add_trace(\n",
    "        go.Histogram(\n",
    "            x=df_numeric[column],\n",
    "            nbinsx=nbins,\n",
    "            histnorm=\"density\",\n",
    "            marker=dict(color=\"#636EFA\"),\n",
    "            opacity=0.8\n",
    "        ),\n",
    "        row=row,\n",
    "        col=col\n",
    "    )\n",
    "\n",
    "# Style the figure\n",
    "fig.update_layout(\n",
    "    height=300 * n_rows,\n",
    "    width=1000,\n",
    "    title_text=\"Feature Distributions (with Adaptive Binning)\",\n",
    "    template=\"plotly_dark\",\n",
    "    showlegend=False\n",
    ")\n",
    "\n",
    "fig.show()"
   ]
  },
  {
   "cell_type": "markdown",
   "id": "7dd53f87",
   "metadata": {},
   "source": [
    "# Current Week Data"
   ]
  },
  {
   "cell_type": "markdown",
   "id": "fbd0a012",
   "metadata": {},
   "source": [
    "## Import 2025 Field\n",
    "**Important!**  Save curren't week's `DKSalaries.csv` into Data folder before this step."
   ]
  },
  {
   "cell_type": "code",
   "execution_count": 48,
   "id": "f17875f6",
   "metadata": {},
   "outputs": [
    {
     "data": {
      "text/html": [
       "<div>\n",
       "<style scoped>\n",
       "    .dataframe tbody tr th:only-of-type {\n",
       "        vertical-align: middle;\n",
       "    }\n",
       "\n",
       "    .dataframe tbody tr th {\n",
       "        vertical-align: top;\n",
       "    }\n",
       "\n",
       "    .dataframe thead th {\n",
       "        text-align: right;\n",
       "    }\n",
       "</style>\n",
       "<table border=\"1\" class=\"dataframe\">\n",
       "  <thead>\n",
       "    <tr style=\"text-align: right;\">\n",
       "      <th></th>\n",
       "      <th>PLAYER</th>\n",
       "      <th>SALARY</th>\n",
       "    </tr>\n",
       "  </thead>\n",
       "  <tbody>\n",
       "    <tr>\n",
       "      <th>0</th>\n",
       "      <td>Scottie Scheffler</td>\n",
       "      <td>13300</td>\n",
       "    </tr>\n",
       "    <tr>\n",
       "      <th>1</th>\n",
       "      <td>Xander Schauffele</td>\n",
       "      <td>10900</td>\n",
       "    </tr>\n",
       "    <tr>\n",
       "      <th>2</th>\n",
       "      <td>Justin Thomas</td>\n",
       "      <td>10100</td>\n",
       "    </tr>\n",
       "    <tr>\n",
       "      <th>3</th>\n",
       "      <td>Collin Morikawa</td>\n",
       "      <td>9900</td>\n",
       "    </tr>\n",
       "    <tr>\n",
       "      <th>4</th>\n",
       "      <td>Patrick Cantlay</td>\n",
       "      <td>9500</td>\n",
       "    </tr>\n",
       "    <tr>\n",
       "      <th>5</th>\n",
       "      <td>Tommy Fleetwood</td>\n",
       "      <td>9400</td>\n",
       "    </tr>\n",
       "    <tr>\n",
       "      <th>6</th>\n",
       "      <td>Ludvig Aberg</td>\n",
       "      <td>9300</td>\n",
       "    </tr>\n",
       "    <tr>\n",
       "      <th>7</th>\n",
       "      <td>Corey Conners</td>\n",
       "      <td>9100</td>\n",
       "    </tr>\n",
       "    <tr>\n",
       "      <th>8</th>\n",
       "      <td>Hideki Matsuyama</td>\n",
       "      <td>9000</td>\n",
       "    </tr>\n",
       "    <tr>\n",
       "      <th>9</th>\n",
       "      <td>Viktor Hovland</td>\n",
       "      <td>8900</td>\n",
       "    </tr>\n",
       "  </tbody>\n",
       "</table>\n",
       "</div>"
      ],
      "text/plain": [
       "              PLAYER  SALARY\n",
       "0  Scottie Scheffler   13300\n",
       "1  Xander Schauffele   10900\n",
       "2      Justin Thomas   10100\n",
       "3    Collin Morikawa    9900\n",
       "4    Patrick Cantlay    9500\n",
       "5    Tommy Fleetwood    9400\n",
       "6       Ludvig Aberg    9300\n",
       "7      Corey Conners    9100\n",
       "8   Hideki Matsuyama    9000\n",
       "9     Viktor Hovland    8900"
      ]
     },
     "execution_count": 48,
     "metadata": {},
     "output_type": "execute_result"
    }
   ],
   "source": [
    "importlib.reload(utils.db_utils)\n",
    "from utils.db_utils import DK_PLAYER_NAME_MAP\n",
    "\n",
    "# Load DraftKings player list\n",
    "dk = pd.read_csv(\"data/DKSalaries.csv\", usecols=[\"Name\", \"Salary\"])\n",
    "\n",
    "# Normalize DK names to PGA naming convention\n",
    "dk[\"Name\"] = dk[\"Name\"].replace(DK_PLAYER_NAME_MAP)\n",
    "\n",
    "# Rename for consistency\n",
    "dk = dk.rename(columns={\"Name\": \"PLAYER\", \"Salary\": \"SALARY\"})\n",
    "\n",
    "dk.head(10)"
   ]
  },
  {
   "cell_type": "markdown",
   "id": "544d958c",
   "metadata": {},
   "source": [
    "## Vegas Odds\n",
    "Confirm the [Vegas Odds](http://golfodds.com/weekly-odds.html) page is updated with current tournament.\n",
    "\n",
    "Note: sometimes this site can give errors and not load correctly.  Just have to do it again later.\n",
    "Another trick to try is change the url try to run it and then put the url back the way it was.  Worked once, maybe random coincidence."
   ]
  },
  {
   "cell_type": "code",
   "execution_count": 49,
   "id": "a3cba953",
   "metadata": {},
   "outputs": [
    {
     "data": {
      "text/html": [
       "<div>\n",
       "<style scoped>\n",
       "    .dataframe tbody tr th:only-of-type {\n",
       "        vertical-align: middle;\n",
       "    }\n",
       "\n",
       "    .dataframe tbody tr th {\n",
       "        vertical-align: top;\n",
       "    }\n",
       "\n",
       "    .dataframe thead th {\n",
       "        text-align: right;\n",
       "    }\n",
       "</style>\n",
       "<table border=\"1\" class=\"dataframe\">\n",
       "  <thead>\n",
       "    <tr style=\"text-align: right;\">\n",
       "      <th></th>\n",
       "      <th>SEASON</th>\n",
       "      <th>TOURNAMENT</th>\n",
       "      <th>PLAYER</th>\n",
       "      <th>ODDS</th>\n",
       "      <th>VEGAS_ODDS</th>\n",
       "    </tr>\n",
       "  </thead>\n",
       "  <tbody>\n",
       "    <tr>\n",
       "      <th>1</th>\n",
       "      <td>2025</td>\n",
       "      <td>the Memorial Tournament presented by Workday</td>\n",
       "      <td>Scottie Scheffler</td>\n",
       "      <td>11/4</td>\n",
       "      <td>2.75</td>\n",
       "    </tr>\n",
       "    <tr>\n",
       "      <th>2</th>\n",
       "      <td>2025</td>\n",
       "      <td>the Memorial Tournament presented by Workday</td>\n",
       "      <td>Collin Morikawa</td>\n",
       "      <td>16/1</td>\n",
       "      <td>16.00</td>\n",
       "    </tr>\n",
       "    <tr>\n",
       "      <th>3</th>\n",
       "      <td>2025</td>\n",
       "      <td>the Memorial Tournament presented by Workday</td>\n",
       "      <td>Xander Schauffele</td>\n",
       "      <td>18/1</td>\n",
       "      <td>18.00</td>\n",
       "    </tr>\n",
       "    <tr>\n",
       "      <th>4</th>\n",
       "      <td>2025</td>\n",
       "      <td>the Memorial Tournament presented by Workday</td>\n",
       "      <td>Justin Thomas</td>\n",
       "      <td>20/1</td>\n",
       "      <td>20.00</td>\n",
       "    </tr>\n",
       "    <tr>\n",
       "      <th>5</th>\n",
       "      <td>2025</td>\n",
       "      <td>the Memorial Tournament presented by Workday</td>\n",
       "      <td>Patrick Cantlay</td>\n",
       "      <td>20/1</td>\n",
       "      <td>20.00</td>\n",
       "    </tr>\n",
       "    <tr>\n",
       "      <th>6</th>\n",
       "      <td>2025</td>\n",
       "      <td>the Memorial Tournament presented by Workday</td>\n",
       "      <td>Tommy Fleetwood</td>\n",
       "      <td>20/1</td>\n",
       "      <td>20.00</td>\n",
       "    </tr>\n",
       "    <tr>\n",
       "      <th>7</th>\n",
       "      <td>2025</td>\n",
       "      <td>the Memorial Tournament presented by Workday</td>\n",
       "      <td>Ludvig Aberg</td>\n",
       "      <td>25/1</td>\n",
       "      <td>25.00</td>\n",
       "    </tr>\n",
       "    <tr>\n",
       "      <th>8</th>\n",
       "      <td>2025</td>\n",
       "      <td>the Memorial Tournament presented by Workday</td>\n",
       "      <td>Viktor Hovland</td>\n",
       "      <td>30/1</td>\n",
       "      <td>30.00</td>\n",
       "    </tr>\n",
       "    <tr>\n",
       "      <th>9</th>\n",
       "      <td>2025</td>\n",
       "      <td>the Memorial Tournament presented by Workday</td>\n",
       "      <td>Corey Conners</td>\n",
       "      <td>30/1</td>\n",
       "      <td>30.00</td>\n",
       "    </tr>\n",
       "    <tr>\n",
       "      <th>10</th>\n",
       "      <td>2025</td>\n",
       "      <td>the Memorial Tournament presented by Workday</td>\n",
       "      <td>Hideki Matsuyama</td>\n",
       "      <td>30/1</td>\n",
       "      <td>30.00</td>\n",
       "    </tr>\n",
       "  </tbody>\n",
       "</table>\n",
       "</div>"
      ],
      "text/plain": [
       "    SEASON                                    TOURNAMENT             PLAYER  \\\n",
       "1     2025  the Memorial Tournament presented by Workday  Scottie Scheffler   \n",
       "2     2025  the Memorial Tournament presented by Workday    Collin Morikawa   \n",
       "3     2025  the Memorial Tournament presented by Workday  Xander Schauffele   \n",
       "4     2025  the Memorial Tournament presented by Workday      Justin Thomas   \n",
       "5     2025  the Memorial Tournament presented by Workday    Patrick Cantlay   \n",
       "6     2025  the Memorial Tournament presented by Workday    Tommy Fleetwood   \n",
       "7     2025  the Memorial Tournament presented by Workday       Ludvig Aberg   \n",
       "8     2025  the Memorial Tournament presented by Workday     Viktor Hovland   \n",
       "9     2025  the Memorial Tournament presented by Workday      Corey Conners   \n",
       "10    2025  the Memorial Tournament presented by Workday   Hideki Matsuyama   \n",
       "\n",
       "    ODDS  VEGAS_ODDS  \n",
       "1   11/4        2.75  \n",
       "2   16/1       16.00  \n",
       "3   18/1       18.00  \n",
       "4   20/1       20.00  \n",
       "5   20/1       20.00  \n",
       "6   20/1       20.00  \n",
       "7   25/1       25.00  \n",
       "8   30/1       30.00  \n",
       "9   30/1       30.00  \n",
       "10  30/1       30.00  "
      ]
     },
     "execution_count": 49,
     "metadata": {},
     "output_type": "execute_result"
    }
   ],
   "source": [
    "importlib.reload(utils.db_utils)\n",
    "from utils.db_utils import get_current_week_odds\n",
    "\n",
    "odds_current = get_current_week_odds(season=2025, tournament_name=new_tournament_name)\n",
    "odds_current.head(10)\n"
   ]
  },
  {
   "cell_type": "markdown",
   "id": "f58bb5d0",
   "metadata": {},
   "source": [
    "## Cut Percentage and FedEx Points"
   ]
  },
  {
   "cell_type": "code",
   "execution_count": 50,
   "id": "a927b0b2",
   "metadata": {},
   "outputs": [
    {
     "data": {
      "text/html": [
       "<div>\n",
       "<style scoped>\n",
       "    .dataframe tbody tr th:only-of-type {\n",
       "        vertical-align: middle;\n",
       "    }\n",
       "\n",
       "    .dataframe tbody tr th {\n",
       "        vertical-align: top;\n",
       "    }\n",
       "\n",
       "    .dataframe thead th {\n",
       "        text-align: right;\n",
       "    }\n",
       "</style>\n",
       "<table border=\"1\" class=\"dataframe\">\n",
       "  <thead>\n",
       "    <tr style=\"text-align: right;\">\n",
       "      <th></th>\n",
       "      <th>PLAYER</th>\n",
       "      <th>TOTAL_EVENTS_PLAYED</th>\n",
       "      <th>CUTS_MADE</th>\n",
       "      <th>FEDEX_CUP_POINTS</th>\n",
       "      <th>CUT_PERCENTAGE</th>\n",
       "      <th>form_density</th>\n",
       "      <th>CONSECUTIVE_CUTS</th>\n",
       "      <th>ENDING_DATE</th>\n",
       "      <th>TOURNAMENT</th>\n",
       "    </tr>\n",
       "  </thead>\n",
       "  <tbody>\n",
       "    <tr>\n",
       "      <th>0</th>\n",
       "      <td>Aaron Baddeley</td>\n",
       "      <td>15</td>\n",
       "      <td>7</td>\n",
       "      <td>55.951</td>\n",
       "      <td>46.7</td>\n",
       "      <td>3.73</td>\n",
       "      <td>0</td>\n",
       "      <td>2025-06-01</td>\n",
       "      <td>the Memorial Tournament presented by Workday</td>\n",
       "    </tr>\n",
       "    <tr>\n",
       "      <th>1</th>\n",
       "      <td>Aaron Rai</td>\n",
       "      <td>14</td>\n",
       "      <td>11</td>\n",
       "      <td>577.480</td>\n",
       "      <td>78.6</td>\n",
       "      <td>41.25</td>\n",
       "      <td>0</td>\n",
       "      <td>2025-06-01</td>\n",
       "      <td>the Memorial Tournament presented by Workday</td>\n",
       "    </tr>\n",
       "    <tr>\n",
       "      <th>2</th>\n",
       "      <td>Adam Hadwin</td>\n",
       "      <td>15</td>\n",
       "      <td>9</td>\n",
       "      <td>165.263</td>\n",
       "      <td>60.0</td>\n",
       "      <td>11.02</td>\n",
       "      <td>0</td>\n",
       "      <td>2025-06-01</td>\n",
       "      <td>the Memorial Tournament presented by Workday</td>\n",
       "    </tr>\n",
       "    <tr>\n",
       "      <th>3</th>\n",
       "      <td>Adam Long</td>\n",
       "      <td>1</td>\n",
       "      <td>0</td>\n",
       "      <td>0.000</td>\n",
       "      <td>0.0</td>\n",
       "      <td>0.00</td>\n",
       "      <td>0</td>\n",
       "      <td>2025-06-01</td>\n",
       "      <td>the Memorial Tournament presented by Workday</td>\n",
       "    </tr>\n",
       "    <tr>\n",
       "      <th>4</th>\n",
       "      <td>Adam Schenk</td>\n",
       "      <td>18</td>\n",
       "      <td>7</td>\n",
       "      <td>253.954</td>\n",
       "      <td>38.9</td>\n",
       "      <td>14.11</td>\n",
       "      <td>0</td>\n",
       "      <td>2025-06-01</td>\n",
       "      <td>the Memorial Tournament presented by Workday</td>\n",
       "    </tr>\n",
       "    <tr>\n",
       "      <th>5</th>\n",
       "      <td>Adam Scott</td>\n",
       "      <td>10</td>\n",
       "      <td>8</td>\n",
       "      <td>238.096</td>\n",
       "      <td>80.0</td>\n",
       "      <td>23.81</td>\n",
       "      <td>3</td>\n",
       "      <td>2025-06-01</td>\n",
       "      <td>the Memorial Tournament presented by Workday</td>\n",
       "    </tr>\n",
       "    <tr>\n",
       "      <th>6</th>\n",
       "      <td>Adam Svensson</td>\n",
       "      <td>19</td>\n",
       "      <td>11</td>\n",
       "      <td>173.158</td>\n",
       "      <td>57.9</td>\n",
       "      <td>9.11</td>\n",
       "      <td>1</td>\n",
       "      <td>2025-06-01</td>\n",
       "      <td>the Memorial Tournament presented by Workday</td>\n",
       "    </tr>\n",
       "    <tr>\n",
       "      <th>7</th>\n",
       "      <td>Adrien Dumont de Chassart</td>\n",
       "      <td>8</td>\n",
       "      <td>3</td>\n",
       "      <td>200.500</td>\n",
       "      <td>37.5</td>\n",
       "      <td>25.06</td>\n",
       "      <td>0</td>\n",
       "      <td>2025-06-01</td>\n",
       "      <td>the Memorial Tournament presented by Workday</td>\n",
       "    </tr>\n",
       "    <tr>\n",
       "      <th>8</th>\n",
       "      <td>Akshay Bhatia</td>\n",
       "      <td>14</td>\n",
       "      <td>11</td>\n",
       "      <td>731.490</td>\n",
       "      <td>78.6</td>\n",
       "      <td>52.25</td>\n",
       "      <td>1</td>\n",
       "      <td>2025-06-01</td>\n",
       "      <td>the Memorial Tournament presented by Workday</td>\n",
       "    </tr>\n",
       "    <tr>\n",
       "      <th>9</th>\n",
       "      <td>Aldrich Potgieter</td>\n",
       "      <td>11</td>\n",
       "      <td>4</td>\n",
       "      <td>441.000</td>\n",
       "      <td>36.4</td>\n",
       "      <td>40.09</td>\n",
       "      <td>1</td>\n",
       "      <td>2025-06-01</td>\n",
       "      <td>the Memorial Tournament presented by Workday</td>\n",
       "    </tr>\n",
       "  </tbody>\n",
       "</table>\n",
       "</div>"
      ],
      "text/plain": [
       "                      PLAYER  TOTAL_EVENTS_PLAYED  CUTS_MADE  \\\n",
       "0             Aaron Baddeley                   15          7   \n",
       "1                  Aaron Rai                   14         11   \n",
       "2                Adam Hadwin                   15          9   \n",
       "3                  Adam Long                    1          0   \n",
       "4                Adam Schenk                   18          7   \n",
       "5                 Adam Scott                   10          8   \n",
       "6              Adam Svensson                   19         11   \n",
       "7  Adrien Dumont de Chassart                    8          3   \n",
       "8              Akshay Bhatia                   14         11   \n",
       "9          Aldrich Potgieter                   11          4   \n",
       "\n",
       "   FEDEX_CUP_POINTS  CUT_PERCENTAGE  form_density  CONSECUTIVE_CUTS  \\\n",
       "0            55.951            46.7          3.73                 0   \n",
       "1           577.480            78.6         41.25                 0   \n",
       "2           165.263            60.0         11.02                 0   \n",
       "3             0.000             0.0          0.00                 0   \n",
       "4           253.954            38.9         14.11                 0   \n",
       "5           238.096            80.0         23.81                 3   \n",
       "6           173.158            57.9          9.11                 1   \n",
       "7           200.500            37.5         25.06                 0   \n",
       "8           731.490            78.6         52.25                 1   \n",
       "9           441.000            36.4         40.09                 1   \n",
       "\n",
       "  ENDING_DATE                                    TOURNAMENT  \n",
       "0  2025-06-01  the Memorial Tournament presented by Workday  \n",
       "1  2025-06-01  the Memorial Tournament presented by Workday  \n",
       "2  2025-06-01  the Memorial Tournament presented by Workday  \n",
       "3  2025-06-01  the Memorial Tournament presented by Workday  \n",
       "4  2025-06-01  the Memorial Tournament presented by Workday  \n",
       "5  2025-06-01  the Memorial Tournament presented by Workday  \n",
       "6  2025-06-01  the Memorial Tournament presented by Workday  \n",
       "7  2025-06-01  the Memorial Tournament presented by Workday  \n",
       "8  2025-06-01  the Memorial Tournament presented by Workday  \n",
       "9  2025-06-01  the Memorial Tournament presented by Workday  "
      ]
     },
     "execution_count": 50,
     "metadata": {},
     "output_type": "execute_result"
    }
   ],
   "source": [
    "importlib.reload(utils.db_utils)\n",
    "from utils.db_utils import get_cut_and_fedex_history\n",
    "\n",
    "cuts_rolling = get_cut_and_fedex_history(db_path, this_week_history, window_months=9)\n",
    "cuts_current = cuts_rolling[this_week_key].copy()\n",
    "cuts_current.head(10)"
   ]
  },
  {
   "cell_type": "markdown",
   "id": "abdf22cb",
   "metadata": {},
   "source": [
    "## Recent Form"
   ]
  },
  {
   "cell_type": "code",
   "execution_count": 51,
   "id": "58cfb255",
   "metadata": {},
   "outputs": [
    {
     "data": {
      "text/html": [
       "<div>\n",
       "<style scoped>\n",
       "    .dataframe tbody tr th:only-of-type {\n",
       "        vertical-align: middle;\n",
       "    }\n",
       "\n",
       "    .dataframe tbody tr th {\n",
       "        vertical-align: top;\n",
       "    }\n",
       "\n",
       "    .dataframe thead th {\n",
       "        text-align: right;\n",
       "    }\n",
       "</style>\n",
       "<table border=\"1\" class=\"dataframe\">\n",
       "  <thead>\n",
       "    <tr style=\"text-align: right;\">\n",
       "      <th></th>\n",
       "      <th>PLAYER</th>\n",
       "      <th>TOTAL_EVENTS_PLAYED</th>\n",
       "      <th>RECENT_FORM</th>\n",
       "      <th>adj_form</th>\n",
       "      <th>ENDING_DATE</th>\n",
       "      <th>TOURNAMENT</th>\n",
       "    </tr>\n",
       "  </thead>\n",
       "  <tbody>\n",
       "    <tr>\n",
       "      <th>0</th>\n",
       "      <td>Bryson DeChambeau</td>\n",
       "      <td>2</td>\n",
       "      <td>3.5</td>\n",
       "      <td>3.19</td>\n",
       "      <td>2025-06-01</td>\n",
       "      <td>the Memorial Tournament presented by Workday</td>\n",
       "    </tr>\n",
       "    <tr>\n",
       "      <th>1</th>\n",
       "      <td>Scottie Scheffler</td>\n",
       "      <td>12</td>\n",
       "      <td>7.4</td>\n",
       "      <td>2.89</td>\n",
       "      <td>2025-06-01</td>\n",
       "      <td>the Memorial Tournament presented by Workday</td>\n",
       "    </tr>\n",
       "    <tr>\n",
       "      <th>2</th>\n",
       "      <td>Jon Rahm</td>\n",
       "      <td>2</td>\n",
       "      <td>11.0</td>\n",
       "      <td>10.01</td>\n",
       "      <td>2025-06-01</td>\n",
       "      <td>the Memorial Tournament presented by Workday</td>\n",
       "    </tr>\n",
       "    <tr>\n",
       "      <th>3</th>\n",
       "      <td>Rory McIlroy</td>\n",
       "      <td>8</td>\n",
       "      <td>11.8</td>\n",
       "      <td>5.37</td>\n",
       "      <td>2025-06-01</td>\n",
       "      <td>the Memorial Tournament presented by Workday</td>\n",
       "    </tr>\n",
       "    <tr>\n",
       "      <th>4</th>\n",
       "      <td>John Keefer</td>\n",
       "      <td>1</td>\n",
       "      <td>13.0</td>\n",
       "      <td>18.76</td>\n",
       "      <td>2025-06-01</td>\n",
       "      <td>the Memorial Tournament presented by Workday</td>\n",
       "    </tr>\n",
       "    <tr>\n",
       "      <th>5</th>\n",
       "      <td>Bubba Watson</td>\n",
       "      <td>1</td>\n",
       "      <td>14.0</td>\n",
       "      <td>20.20</td>\n",
       "      <td>2025-06-01</td>\n",
       "      <td>the Memorial Tournament presented by Workday</td>\n",
       "    </tr>\n",
       "    <tr>\n",
       "      <th>6</th>\n",
       "      <td>Taisei Shimizu</td>\n",
       "      <td>1</td>\n",
       "      <td>16.0</td>\n",
       "      <td>23.08</td>\n",
       "      <td>2025-06-01</td>\n",
       "      <td>the Memorial Tournament presented by Workday</td>\n",
       "    </tr>\n",
       "    <tr>\n",
       "      <th>7</th>\n",
       "      <td>Ian Gilligan</td>\n",
       "      <td>1</td>\n",
       "      <td>16.0</td>\n",
       "      <td>23.08</td>\n",
       "      <td>2025-06-01</td>\n",
       "      <td>the Memorial Tournament presented by Workday</td>\n",
       "    </tr>\n",
       "    <tr>\n",
       "      <th>8</th>\n",
       "      <td>Joaquin Niemann</td>\n",
       "      <td>2</td>\n",
       "      <td>18.5</td>\n",
       "      <td>16.84</td>\n",
       "      <td>2025-06-01</td>\n",
       "      <td>the Memorial Tournament presented by Workday</td>\n",
       "    </tr>\n",
       "    <tr>\n",
       "      <th>9</th>\n",
       "      <td>Tommy Fleetwood</td>\n",
       "      <td>11</td>\n",
       "      <td>18.8</td>\n",
       "      <td>7.57</td>\n",
       "      <td>2025-06-01</td>\n",
       "      <td>the Memorial Tournament presented by Workday</td>\n",
       "    </tr>\n",
       "  </tbody>\n",
       "</table>\n",
       "</div>"
      ],
      "text/plain": [
       "              PLAYER  TOTAL_EVENTS_PLAYED  RECENT_FORM  adj_form ENDING_DATE  \\\n",
       "0  Bryson DeChambeau                    2          3.5      3.19  2025-06-01   \n",
       "1  Scottie Scheffler                   12          7.4      2.89  2025-06-01   \n",
       "2           Jon Rahm                    2         11.0     10.01  2025-06-01   \n",
       "3       Rory McIlroy                    8         11.8      5.37  2025-06-01   \n",
       "4        John Keefer                    1         13.0     18.76  2025-06-01   \n",
       "5       Bubba Watson                    1         14.0     20.20  2025-06-01   \n",
       "6     Taisei Shimizu                    1         16.0     23.08  2025-06-01   \n",
       "7       Ian Gilligan                    1         16.0     23.08  2025-06-01   \n",
       "8    Joaquin Niemann                    2         18.5     16.84  2025-06-01   \n",
       "9    Tommy Fleetwood                   11         18.8      7.57  2025-06-01   \n",
       "\n",
       "                                     TOURNAMENT  \n",
       "0  the Memorial Tournament presented by Workday  \n",
       "1  the Memorial Tournament presented by Workday  \n",
       "2  the Memorial Tournament presented by Workday  \n",
       "3  the Memorial Tournament presented by Workday  \n",
       "4  the Memorial Tournament presented by Workday  \n",
       "5  the Memorial Tournament presented by Workday  \n",
       "6  the Memorial Tournament presented by Workday  \n",
       "7  the Memorial Tournament presented by Workday  \n",
       "8  the Memorial Tournament presented by Workday  \n",
       "9  the Memorial Tournament presented by Workday  "
      ]
     },
     "execution_count": 51,
     "metadata": {},
     "output_type": "execute_result"
    }
   ],
   "source": [
    "importlib.reload(utils.db_utils)\n",
    "from utils.db_utils import get_recent_avg_finish\n",
    "\n",
    "recent_form = get_recent_avg_finish(db_path, this_week_history, window_months=9)\n",
    "recent_form_current = recent_form[this_week_key].copy()\n",
    "\n",
    "recent_form_current.head(10)"
   ]
  },
  {
   "cell_type": "markdown",
   "id": "6386214b",
   "metadata": {},
   "source": [
    "## Course History"
   ]
  },
  {
   "cell_type": "code",
   "execution_count": 52,
   "id": "c1c0ec95",
   "metadata": {},
   "outputs": [
    {
     "data": {
      "text/html": [
       "<div>\n",
       "<style scoped>\n",
       "    .dataframe tbody tr th:only-of-type {\n",
       "        vertical-align: middle;\n",
       "    }\n",
       "\n",
       "    .dataframe tbody tr th {\n",
       "        vertical-align: top;\n",
       "    }\n",
       "\n",
       "    .dataframe thead th {\n",
       "        text-align: right;\n",
       "    }\n",
       "</style>\n",
       "<table border=\"1\" class=\"dataframe\">\n",
       "  <thead>\n",
       "    <tr style=\"text-align: right;\">\n",
       "      <th></th>\n",
       "      <th>PLAYER</th>\n",
       "      <th>TOTAL_EVENTS_PLAYED</th>\n",
       "      <th>COURSE_HISTORY</th>\n",
       "      <th>adj_ch</th>\n",
       "      <th>ENDING_DATE</th>\n",
       "      <th>COURSE</th>\n",
       "      <th>TOURNAMENT</th>\n",
       "    </tr>\n",
       "  </thead>\n",
       "  <tbody>\n",
       "    <tr>\n",
       "      <th>0</th>\n",
       "      <td>Aaron Baddeley</td>\n",
       "      <td>1</td>\n",
       "      <td>22.0</td>\n",
       "      <td>31.74</td>\n",
       "      <td>2025-06-01</td>\n",
       "      <td>Muirfield Village Golf Club</td>\n",
       "      <td>the Memorial Tournament presented by Workday</td>\n",
       "    </tr>\n",
       "    <tr>\n",
       "      <th>1</th>\n",
       "      <td>Aaron Rai</td>\n",
       "      <td>2</td>\n",
       "      <td>58.0</td>\n",
       "      <td>52.79</td>\n",
       "      <td>2025-06-01</td>\n",
       "      <td>Muirfield Village Golf Club</td>\n",
       "      <td>the Memorial Tournament presented by Workday</td>\n",
       "    </tr>\n",
       "    <tr>\n",
       "      <th>2</th>\n",
       "      <td>Aaron Wise</td>\n",
       "      <td>4</td>\n",
       "      <td>47.8</td>\n",
       "      <td>29.70</td>\n",
       "      <td>2025-06-01</td>\n",
       "      <td>Muirfield Village Golf Club</td>\n",
       "      <td>the Memorial Tournament presented by Workday</td>\n",
       "    </tr>\n",
       "    <tr>\n",
       "      <th>3</th>\n",
       "      <td>Abraham Ancer</td>\n",
       "      <td>4</td>\n",
       "      <td>53.0</td>\n",
       "      <td>32.93</td>\n",
       "      <td>2025-06-01</td>\n",
       "      <td>Muirfield Village Golf Club</td>\n",
       "      <td>the Memorial Tournament presented by Workday</td>\n",
       "    </tr>\n",
       "    <tr>\n",
       "      <th>4</th>\n",
       "      <td>Adam Hadwin</td>\n",
       "      <td>7</td>\n",
       "      <td>54.4</td>\n",
       "      <td>26.16</td>\n",
       "      <td>2025-06-01</td>\n",
       "      <td>Muirfield Village Golf Club</td>\n",
       "      <td>the Memorial Tournament presented by Workday</td>\n",
       "    </tr>\n",
       "    <tr>\n",
       "      <th>5</th>\n",
       "      <td>Adam Long</td>\n",
       "      <td>5</td>\n",
       "      <td>77.2</td>\n",
       "      <td>43.09</td>\n",
       "      <td>2025-06-01</td>\n",
       "      <td>Muirfield Village Golf Club</td>\n",
       "      <td>the Memorial Tournament presented by Workday</td>\n",
       "    </tr>\n",
       "    <tr>\n",
       "      <th>6</th>\n",
       "      <td>Adam Schenk</td>\n",
       "      <td>4</td>\n",
       "      <td>47.0</td>\n",
       "      <td>29.20</td>\n",
       "      <td>2025-06-01</td>\n",
       "      <td>Muirfield Village Golf Club</td>\n",
       "      <td>the Memorial Tournament presented by Workday</td>\n",
       "    </tr>\n",
       "    <tr>\n",
       "      <th>7</th>\n",
       "      <td>Adam Scott</td>\n",
       "      <td>5</td>\n",
       "      <td>25.8</td>\n",
       "      <td>14.40</td>\n",
       "      <td>2025-06-01</td>\n",
       "      <td>Muirfield Village Golf Club</td>\n",
       "      <td>the Memorial Tournament presented by Workday</td>\n",
       "    </tr>\n",
       "    <tr>\n",
       "      <th>8</th>\n",
       "      <td>Adam Svensson</td>\n",
       "      <td>3</td>\n",
       "      <td>54.0</td>\n",
       "      <td>38.95</td>\n",
       "      <td>2025-06-01</td>\n",
       "      <td>Muirfield Village Golf Club</td>\n",
       "      <td>the Memorial Tournament presented by Workday</td>\n",
       "    </tr>\n",
       "    <tr>\n",
       "      <th>9</th>\n",
       "      <td>Akshay Bhatia</td>\n",
       "      <td>2</td>\n",
       "      <td>56.0</td>\n",
       "      <td>50.97</td>\n",
       "      <td>2025-06-01</td>\n",
       "      <td>Muirfield Village Golf Club</td>\n",
       "      <td>the Memorial Tournament presented by Workday</td>\n",
       "    </tr>\n",
       "  </tbody>\n",
       "</table>\n",
       "</div>"
      ],
      "text/plain": [
       "           PLAYER  TOTAL_EVENTS_PLAYED  COURSE_HISTORY  adj_ch ENDING_DATE  \\\n",
       "0  Aaron Baddeley                    1            22.0   31.74  2025-06-01   \n",
       "1       Aaron Rai                    2            58.0   52.79  2025-06-01   \n",
       "2      Aaron Wise                    4            47.8   29.70  2025-06-01   \n",
       "3   Abraham Ancer                    4            53.0   32.93  2025-06-01   \n",
       "4     Adam Hadwin                    7            54.4   26.16  2025-06-01   \n",
       "5       Adam Long                    5            77.2   43.09  2025-06-01   \n",
       "6     Adam Schenk                    4            47.0   29.20  2025-06-01   \n",
       "7      Adam Scott                    5            25.8   14.40  2025-06-01   \n",
       "8   Adam Svensson                    3            54.0   38.95  2025-06-01   \n",
       "9   Akshay Bhatia                    2            56.0   50.97  2025-06-01   \n",
       "\n",
       "                        COURSE                                    TOURNAMENT  \n",
       "0  Muirfield Village Golf Club  the Memorial Tournament presented by Workday  \n",
       "1  Muirfield Village Golf Club  the Memorial Tournament presented by Workday  \n",
       "2  Muirfield Village Golf Club  the Memorial Tournament presented by Workday  \n",
       "3  Muirfield Village Golf Club  the Memorial Tournament presented by Workday  \n",
       "4  Muirfield Village Golf Club  the Memorial Tournament presented by Workday  \n",
       "5  Muirfield Village Golf Club  the Memorial Tournament presented by Workday  \n",
       "6  Muirfield Village Golf Club  the Memorial Tournament presented by Workday  \n",
       "7  Muirfield Village Golf Club  the Memorial Tournament presented by Workday  \n",
       "8  Muirfield Village Golf Club  the Memorial Tournament presented by Workday  \n",
       "9  Muirfield Village Golf Club  the Memorial Tournament presented by Workday  "
      ]
     },
     "execution_count": 52,
     "metadata": {},
     "output_type": "execute_result"
    }
   ],
   "source": [
    "importlib.reload(utils.db_utils)\n",
    "from utils.db_utils import get_course_history\n",
    "\n",
    "course_hist = get_course_history(db_path, this_week_history, lookback_years=7)\n",
    "course_hist_current = course_hist[this_week_key].copy()\n",
    "\n",
    "course_hist_current.head(10)\n"
   ]
  },
  {
   "cell_type": "markdown",
   "id": "cff50c6a",
   "metadata": {},
   "source": [
    "## Merged Dataframe"
   ]
  },
  {
   "cell_type": "code",
   "execution_count": 53,
   "id": "2ca1130d",
   "metadata": {},
   "outputs": [
    {
     "data": {
      "text/html": [
       "<div>\n",
       "<style scoped>\n",
       "    .dataframe tbody tr th:only-of-type {\n",
       "        vertical-align: middle;\n",
       "    }\n",
       "\n",
       "    .dataframe tbody tr th {\n",
       "        vertical-align: top;\n",
       "    }\n",
       "\n",
       "    .dataframe thead th {\n",
       "        text-align: right;\n",
       "    }\n",
       "</style>\n",
       "<table border=\"1\" class=\"dataframe\">\n",
       "  <thead>\n",
       "    <tr style=\"text-align: right;\">\n",
       "      <th></th>\n",
       "      <th>SEASON</th>\n",
       "      <th>PLAYER</th>\n",
       "      <th>SGTTG_RANK</th>\n",
       "      <th>SGTTG</th>\n",
       "      <th>SGOTT_RANK</th>\n",
       "      <th>SGOTT</th>\n",
       "      <th>SGAPR_RANK</th>\n",
       "      <th>SGAPR</th>\n",
       "      <th>SGATG_RANK</th>\n",
       "      <th>SGATG</th>\n",
       "      <th>SGP_RANK</th>\n",
       "      <th>SGP</th>\n",
       "      <th>BIRDIES_RANK</th>\n",
       "      <th>BIRDIES</th>\n",
       "      <th>PAR_3_RANK</th>\n",
       "      <th>PAR_3</th>\n",
       "      <th>PAR_4_RANK</th>\n",
       "      <th>PAR_4</th>\n",
       "      <th>PAR_5_RANK</th>\n",
       "      <th>PAR_5</th>\n",
       "      <th>TOTAL_DRIVING_RANK</th>\n",
       "      <th>TOTAL_DRIVING</th>\n",
       "      <th>DRIVING_DISTANCE_RANK</th>\n",
       "      <th>DRIVING_DISTANCE</th>\n",
       "      <th>DRIVING_ACCURACY_RANK</th>\n",
       "      <th>DRIVING_ACCURACY</th>\n",
       "      <th>GIR_RANK</th>\n",
       "      <th>GIR</th>\n",
       "      <th>SCRAMBLING_RANK</th>\n",
       "      <th>SCRAMBLING</th>\n",
       "      <th>OWGR_RANK</th>\n",
       "      <th>OWGR</th>\n",
       "      <th>VEGAS_ODDS</th>\n",
       "      <th>CUT_PERCENTAGE</th>\n",
       "      <th>FEDEX_CUP_POINTS</th>\n",
       "      <th>form_density</th>\n",
       "      <th>CONSECUTIVE_CUTS</th>\n",
       "      <th>RECENT_FORM</th>\n",
       "      <th>adj_form</th>\n",
       "      <th>COURSE_HISTORY</th>\n",
       "      <th>adj_ch</th>\n",
       "      <th>SALARY</th>\n",
       "    </tr>\n",
       "  </thead>\n",
       "  <tbody>\n",
       "    <tr>\n",
       "      <th>0</th>\n",
       "      <td>2025.0</td>\n",
       "      <td>Aaron Rai</td>\n",
       "      <td>19.0</td>\n",
       "      <td>0.867</td>\n",
       "      <td>26.0</td>\n",
       "      <td>0.355</td>\n",
       "      <td>19.0</td>\n",
       "      <td>0.523</td>\n",
       "      <td>104.0</td>\n",
       "      <td>-0.011</td>\n",
       "      <td>119.0</td>\n",
       "      <td>-0.094</td>\n",
       "      <td>38.0</td>\n",
       "      <td>23.31%</td>\n",
       "      <td>176.0</td>\n",
       "      <td>3.17</td>\n",
       "      <td>5.0</td>\n",
       "      <td>3.95</td>\n",
       "      <td>29.0</td>\n",
       "      <td>4.54</td>\n",
       "      <td>79.0</td>\n",
       "      <td>171.0</td>\n",
       "      <td>170.0</td>\n",
       "      <td>287.3</td>\n",
       "      <td>1.0</td>\n",
       "      <td>73.36%</td>\n",
       "      <td>7.0</td>\n",
       "      <td>70.05%</td>\n",
       "      <td>129.0</td>\n",
       "      <td>58.87%</td>\n",
       "      <td>30.0</td>\n",
       "      <td>2.7271</td>\n",
       "      <td>40.0</td>\n",
       "      <td>78.6</td>\n",
       "      <td>577.480</td>\n",
       "      <td>41.25</td>\n",
       "      <td>0.0</td>\n",
       "      <td>36.6</td>\n",
       "      <td>13.52</td>\n",
       "      <td>58.0</td>\n",
       "      <td>52.79</td>\n",
       "      <td>7600</td>\n",
       "    </tr>\n",
       "    <tr>\n",
       "      <th>1</th>\n",
       "      <td>2025.0</td>\n",
       "      <td>Adam Hadwin</td>\n",
       "      <td>152.0</td>\n",
       "      <td>-0.564</td>\n",
       "      <td>144.0</td>\n",
       "      <td>-0.243</td>\n",
       "      <td>157.0</td>\n",
       "      <td>-0.480</td>\n",
       "      <td>51.0</td>\n",
       "      <td>0.159</td>\n",
       "      <td>114.0</td>\n",
       "      <td>-0.071</td>\n",
       "      <td>61.0</td>\n",
       "      <td>22.61%</td>\n",
       "      <td>30.0</td>\n",
       "      <td>3.02</td>\n",
       "      <td>126.0</td>\n",
       "      <td>4.05</td>\n",
       "      <td>139.0</td>\n",
       "      <td>4.65</td>\n",
       "      <td>117.0</td>\n",
       "      <td>196.0</td>\n",
       "      <td>105.0</td>\n",
       "      <td>299.1</td>\n",
       "      <td>91.0</td>\n",
       "      <td>59.00%</td>\n",
       "      <td>157.0</td>\n",
       "      <td>62.53%</td>\n",
       "      <td>164.0</td>\n",
       "      <td>55.17%</td>\n",
       "      <td>101.0</td>\n",
       "      <td>1.2731</td>\n",
       "      <td>250.0</td>\n",
       "      <td>60.0</td>\n",
       "      <td>165.263</td>\n",
       "      <td>11.02</td>\n",
       "      <td>0.0</td>\n",
       "      <td>64.0</td>\n",
       "      <td>23.08</td>\n",
       "      <td>54.4</td>\n",
       "      <td>26.16</td>\n",
       "      <td>6200</td>\n",
       "    </tr>\n",
       "    <tr>\n",
       "      <th>2</th>\n",
       "      <td>2025.0</td>\n",
       "      <td>Adam Scott</td>\n",
       "      <td>73.0</td>\n",
       "      <td>0.176</td>\n",
       "      <td>65.0</td>\n",
       "      <td>0.180</td>\n",
       "      <td>125.0</td>\n",
       "      <td>-0.148</td>\n",
       "      <td>56.0</td>\n",
       "      <td>0.144</td>\n",
       "      <td>90.0</td>\n",
       "      <td>0.051</td>\n",
       "      <td>67.0</td>\n",
       "      <td>22.53%</td>\n",
       "      <td>135.0</td>\n",
       "      <td>3.10</td>\n",
       "      <td>115.0</td>\n",
       "      <td>4.04</td>\n",
       "      <td>36.0</td>\n",
       "      <td>4.55</td>\n",
       "      <td>119.0</td>\n",
       "      <td>199.0</td>\n",
       "      <td>79.0</td>\n",
       "      <td>302.7</td>\n",
       "      <td>120.0</td>\n",
       "      <td>56.55%</td>\n",
       "      <td>112.0</td>\n",
       "      <td>64.51%</td>\n",
       "      <td>116.0</td>\n",
       "      <td>59.57%</td>\n",
       "      <td>41.0</td>\n",
       "      <td>2.3779</td>\n",
       "      <td>100.0</td>\n",
       "      <td>80.0</td>\n",
       "      <td>238.096</td>\n",
       "      <td>23.81</td>\n",
       "      <td>3.0</td>\n",
       "      <td>44.9</td>\n",
       "      <td>18.72</td>\n",
       "      <td>25.8</td>\n",
       "      <td>14.40</td>\n",
       "      <td>7200</td>\n",
       "    </tr>\n",
       "    <tr>\n",
       "      <th>3</th>\n",
       "      <td>2025.0</td>\n",
       "      <td>Akshay Bhatia</td>\n",
       "      <td>85.0</td>\n",
       "      <td>0.081</td>\n",
       "      <td>107.0</td>\n",
       "      <td>-0.015</td>\n",
       "      <td>35.0</td>\n",
       "      <td>0.387</td>\n",
       "      <td>154.0</td>\n",
       "      <td>-0.291</td>\n",
       "      <td>9.0</td>\n",
       "      <td>0.611</td>\n",
       "      <td>6.0</td>\n",
       "      <td>25.36%</td>\n",
       "      <td>7.0</td>\n",
       "      <td>2.97</td>\n",
       "      <td>32.0</td>\n",
       "      <td>3.99</td>\n",
       "      <td>162.0</td>\n",
       "      <td>4.69</td>\n",
       "      <td>141.0</td>\n",
       "      <td>218.0</td>\n",
       "      <td>157.0</td>\n",
       "      <td>293.3</td>\n",
       "      <td>61.0</td>\n",
       "      <td>60.87%</td>\n",
       "      <td>46.0</td>\n",
       "      <td>67.15%</td>\n",
       "      <td>158.0</td>\n",
       "      <td>56.25%</td>\n",
       "      <td>31.0</td>\n",
       "      <td>2.7051</td>\n",
       "      <td>80.0</td>\n",
       "      <td>78.6</td>\n",
       "      <td>731.490</td>\n",
       "      <td>52.25</td>\n",
       "      <td>1.0</td>\n",
       "      <td>38.1</td>\n",
       "      <td>14.07</td>\n",
       "      <td>56.0</td>\n",
       "      <td>50.97</td>\n",
       "      <td>7300</td>\n",
       "    </tr>\n",
       "    <tr>\n",
       "      <th>4</th>\n",
       "      <td>2025.0</td>\n",
       "      <td>Alex Noren</td>\n",
       "      <td>NaN</td>\n",
       "      <td>NaN</td>\n",
       "      <td>NaN</td>\n",
       "      <td>NaN</td>\n",
       "      <td>NaN</td>\n",
       "      <td>NaN</td>\n",
       "      <td>NaN</td>\n",
       "      <td>NaN</td>\n",
       "      <td>NaN</td>\n",
       "      <td>NaN</td>\n",
       "      <td>NaN</td>\n",
       "      <td>None</td>\n",
       "      <td>NaN</td>\n",
       "      <td>NaN</td>\n",
       "      <td>NaN</td>\n",
       "      <td>NaN</td>\n",
       "      <td>NaN</td>\n",
       "      <td>NaN</td>\n",
       "      <td>NaN</td>\n",
       "      <td>NaN</td>\n",
       "      <td>NaN</td>\n",
       "      <td>NaN</td>\n",
       "      <td>NaN</td>\n",
       "      <td>None</td>\n",
       "      <td>NaN</td>\n",
       "      <td>None</td>\n",
       "      <td>NaN</td>\n",
       "      <td>None</td>\n",
       "      <td>72.0</td>\n",
       "      <td>1.7302</td>\n",
       "      <td>80.0</td>\n",
       "      <td>100.0</td>\n",
       "      <td>84.500</td>\n",
       "      <td>42.25</td>\n",
       "      <td>2.0</td>\n",
       "      <td>34.0</td>\n",
       "      <td>30.95</td>\n",
       "      <td>51.3</td>\n",
       "      <td>26.36</td>\n",
       "      <td>7400</td>\n",
       "    </tr>\n",
       "  </tbody>\n",
       "</table>\n",
       "</div>"
      ],
      "text/plain": [
       "   SEASON         PLAYER  SGTTG_RANK  SGTTG  SGOTT_RANK  SGOTT  SGAPR_RANK  \\\n",
       "0  2025.0      Aaron Rai        19.0  0.867        26.0  0.355        19.0   \n",
       "1  2025.0    Adam Hadwin       152.0 -0.564       144.0 -0.243       157.0   \n",
       "2  2025.0     Adam Scott        73.0  0.176        65.0  0.180       125.0   \n",
       "3  2025.0  Akshay Bhatia        85.0  0.081       107.0 -0.015        35.0   \n",
       "4  2025.0     Alex Noren         NaN    NaN         NaN    NaN         NaN   \n",
       "\n",
       "   SGAPR  SGATG_RANK  SGATG  SGP_RANK    SGP  BIRDIES_RANK BIRDIES  \\\n",
       "0  0.523       104.0 -0.011     119.0 -0.094          38.0  23.31%   \n",
       "1 -0.480        51.0  0.159     114.0 -0.071          61.0  22.61%   \n",
       "2 -0.148        56.0  0.144      90.0  0.051          67.0  22.53%   \n",
       "3  0.387       154.0 -0.291       9.0  0.611           6.0  25.36%   \n",
       "4    NaN         NaN    NaN       NaN    NaN           NaN    None   \n",
       "\n",
       "   PAR_3_RANK  PAR_3  PAR_4_RANK  PAR_4  PAR_5_RANK  PAR_5  \\\n",
       "0       176.0   3.17         5.0   3.95        29.0   4.54   \n",
       "1        30.0   3.02       126.0   4.05       139.0   4.65   \n",
       "2       135.0   3.10       115.0   4.04        36.0   4.55   \n",
       "3         7.0   2.97        32.0   3.99       162.0   4.69   \n",
       "4         NaN    NaN         NaN    NaN         NaN    NaN   \n",
       "\n",
       "   TOTAL_DRIVING_RANK  TOTAL_DRIVING  DRIVING_DISTANCE_RANK  DRIVING_DISTANCE  \\\n",
       "0                79.0          171.0                  170.0             287.3   \n",
       "1               117.0          196.0                  105.0             299.1   \n",
       "2               119.0          199.0                   79.0             302.7   \n",
       "3               141.0          218.0                  157.0             293.3   \n",
       "4                 NaN            NaN                    NaN               NaN   \n",
       "\n",
       "   DRIVING_ACCURACY_RANK DRIVING_ACCURACY  GIR_RANK     GIR  SCRAMBLING_RANK  \\\n",
       "0                    1.0           73.36%       7.0  70.05%            129.0   \n",
       "1                   91.0           59.00%     157.0  62.53%            164.0   \n",
       "2                  120.0           56.55%     112.0  64.51%            116.0   \n",
       "3                   61.0           60.87%      46.0  67.15%            158.0   \n",
       "4                    NaN             None       NaN    None              NaN   \n",
       "\n",
       "  SCRAMBLING  OWGR_RANK    OWGR  VEGAS_ODDS  CUT_PERCENTAGE  FEDEX_CUP_POINTS  \\\n",
       "0     58.87%       30.0  2.7271        40.0            78.6           577.480   \n",
       "1     55.17%      101.0  1.2731       250.0            60.0           165.263   \n",
       "2     59.57%       41.0  2.3779       100.0            80.0           238.096   \n",
       "3     56.25%       31.0  2.7051        80.0            78.6           731.490   \n",
       "4       None       72.0  1.7302        80.0           100.0            84.500   \n",
       "\n",
       "   form_density  CONSECUTIVE_CUTS  RECENT_FORM  adj_form  COURSE_HISTORY  \\\n",
       "0         41.25               0.0         36.6     13.52            58.0   \n",
       "1         11.02               0.0         64.0     23.08            54.4   \n",
       "2         23.81               3.0         44.9     18.72            25.8   \n",
       "3         52.25               1.0         38.1     14.07            56.0   \n",
       "4         42.25               2.0         34.0     30.95            51.3   \n",
       "\n",
       "   adj_ch  SALARY  \n",
       "0   52.79    7600  \n",
       "1   26.16    6200  \n",
       "2   14.40    7200  \n",
       "3   50.97    7300  \n",
       "4   26.36    7400  "
      ]
     },
     "execution_count": 53,
     "metadata": {},
     "output_type": "execute_result"
    }
   ],
   "source": [
    "importlib.reload(utils.db_utils)\n",
    "from utils.db_utils import load_all_stats  # New helper function\n",
    "\n",
    "# === Load current season stats directly from database ===\n",
    "season = tournament_config[\"new\"][\"season\"]\n",
    "stats_df = load_all_stats(db_path)\n",
    "stats_df = stats_df[stats_df[\"SEASON\"] == season].copy()\n",
    "\n",
    "# === Standardize PLAYER columns for consistent merges ===\n",
    "for df in [stats_df, odds_current, cuts_current, recent_form_current, course_hist_current, dk]:\n",
    "    df[\"PLAYER\"] = df[\"PLAYER\"].astype(str).str.strip()\n",
    "\n",
    "# === Merge all engineered and DK features ===\n",
    "this_week = stats_df.copy()\n",
    "this_week = this_week.merge(odds_current[[\"PLAYER\", \"VEGAS_ODDS\"]], on=\"PLAYER\", how=\"left\")\n",
    "this_week = this_week.merge(cuts_current[[\"PLAYER\", \"CUT_PERCENTAGE\", \"FEDEX_CUP_POINTS\", \"form_density\", \"CONSECUTIVE_CUTS\"]], on=\"PLAYER\", how=\"left\")\n",
    "this_week = this_week.merge(recent_form_current[[\"PLAYER\", \"RECENT_FORM\", \"adj_form\"]], on=\"PLAYER\", how=\"left\")\n",
    "this_week = this_week.merge(course_hist_current[[\"PLAYER\", \"COURSE_HISTORY\", \"adj_ch\"]], on=\"PLAYER\", how=\"left\")\n",
    "this_week = this_week.merge(dk[[\"PLAYER\", \"SALARY\"]], on=\"PLAYER\", how=\"right\")  # keep only DK players\n",
    "\n",
    "# === Final cleanup ===\n",
    "this_week = this_week.sort_values(\"PLAYER\").reset_index(drop=True)\n",
    "this_week[\"SEASON\"] = this_week[\"SEASON\"].astype(float)  # allows averaging if needed\n",
    "\n",
    "this_week.head()"
   ]
  },
  {
   "cell_type": "markdown",
   "id": "e30b6643",
   "metadata": {},
   "source": [
    "### Dataframe Normalization\n",
    "\n",
    "Run the same normalization techniques that I ran on the historical data:\n",
    "- Any NaN Odds go to 1000/1 and clip all values at 1000/1\n",
    "- OWGR NaN values go to 1000\n",
    "- Recent form NaN values act like a MC at 90\n",
    "- Average everything else."
   ]
  },
  {
   "cell_type": "code",
   "execution_count": 54,
   "id": "cfea9168",
   "metadata": {},
   "outputs": [],
   "source": [
    "# === Clean percentage stats stored as strings like '62.5%' ===\n",
    "percent_stats = [\"SCRAMBLING\", \"DRIVING_ACCURACY\", \"BIRDIES\", \"GIR\"]\n",
    "\n",
    "for col in percent_stats:\n",
    "    if col in this_week.columns:\n",
    "        this_week[col] = (\n",
    "            this_week[col]\n",
    "            .astype(str)\n",
    "            .str.replace('%', '', regex=False)\n",
    "            .replace(['None', 'nan', 'NaN', '--', 'DNP', ''], np.nan)\n",
    "            .astype(float)\n",
    "        )\n",
    "\n",
    "# === Normalize & Assign Odds for Poor or Unknown Players ===\n",
    "this_week[\"VEGAS_ODDS\"] = this_week[\"VEGAS_ODDS\"].fillna(1000).clip(upper=1000)\n",
    "\n",
    "# === Normalize & Assign OWGR & OWGR_RANK for Unranked Players ===\n",
    "# OWGR (raw) — assign worst actual rank in dataset\n",
    "if \"OWGR\" in this_week.columns:\n",
    "    max_owgr = this_week[\"OWGR\"].dropna().max()\n",
    "    this_week[\"OWGR\"] = this_week[\"OWGR\"].fillna(max_owgr).astype(float).clip(upper=1000)\n",
    "\n",
    "# OWGR_RANK — if present, use 1000 for missing (very poor)\n",
    "if \"OWGR_RANK\" in this_week.columns:\n",
    "    this_week[\"OWGR_RANK\"] = this_week[\"OWGR_RANK\"].fillna(1000).clip(upper=1000)\n",
    "\n",
    "# === Assign RECENT FORM Score for Players Who Haven’t Played Recently ===\n",
    "this_week[\"RECENT_FORM\"] = this_week[\"RECENT_FORM\"].fillna(90)\n",
    "\n",
    "# === Assign 0 to FEDEX_CUP_POINTS Where No Data ===\n",
    "this_week[\"FEDEX_CUP_POINTS\"] = this_week[\"FEDEX_CUP_POINTS\"].fillna(0)\n",
    "\n",
    "# === Course History NaNs: Fill with Mean (not 0 — 0 implies bad, not missing) ===\n",
    "if \"COURSE_HISTORY\" in this_week.columns:\n",
    "    this_week[\"COURSE_HISTORY\"] = this_week[\"COURSE_HISTORY\"].fillna(this_week[\"COURSE_HISTORY\"].mean())\n",
    "\n",
    "# === Fill Remaining NaNs in Numeric Columns with Column Mean ===\n",
    "numeric_cols = this_week.select_dtypes(include=[\"float64\", \"int64\"])\n",
    "numeric_filled = numeric_cols.fillna(numeric_columns.mean())\n",
    "this_week.update(numeric_filled)\n",
    "\n"
   ]
  },
  {
   "cell_type": "code",
   "execution_count": 21,
   "id": "4b122fc3",
   "metadata": {},
   "outputs": [],
   "source": [
    "# === Final Check: No NaNs Should Remain ===\n",
    "assert this_week.isna().sum().sum() == 0, \"🚨 Still missing values in prediction set!\""
   ]
  },
  {
   "cell_type": "code",
   "execution_count": 22,
   "id": "b75f2cff",
   "metadata": {},
   "outputs": [
    {
     "name": "stdout",
     "output_type": "stream",
     "text": [
      "🧹 Columns still containing NaN values:\n"
     ]
    },
    {
     "data": {
      "text/plain": [
       "Series([], dtype: int64)"
      ]
     },
     "metadata": {},
     "output_type": "display_data"
    }
   ],
   "source": [
    "# === Check for Remaining Missing Values ===\n",
    "missing_summary = this_week.isna().sum()\n",
    "missing_summary = missing_summary[missing_summary > 0].sort_values(ascending=False)\n",
    "\n",
    "print(\"🧹 Columns still containing NaN values:\")\n",
    "display(missing_summary)"
   ]
  },
  {
   "cell_type": "markdown",
   "id": "e37950e7",
   "metadata": {},
   "source": [
    "## Correlations\n",
    "**Last 4 Years**"
   ]
  },
  {
   "cell_type": "code",
   "execution_count": 55,
   "id": "d749a70f",
   "metadata": {},
   "outputs": [
    {
     "data": {
      "application/vnd.plotly.v1+json": {
       "config": {
        "plotlyServerURL": "https://plot.ly"
       },
       "data": [
        {
         "hovertemplate": "Feature=%{x}<br>Correlation=%{y}<extra></extra>",
         "legendgroup": "",
         "marker": {
          "color": "#636efa",
          "pattern": {
           "shape": ""
          }
         },
         "name": "",
         "orientation": "v",
         "showlegend": false,
         "textposition": "auto",
         "type": "bar",
         "x": [
          "OWGR",
          "SGATG",
          "BIRDIES",
          "PAR_5",
          "SGATG_RANK",
          "BIRDIES_RANK",
          "PAR_5_RANK",
          "SGTTG_RANK",
          "form_density",
          "SGTTG",
          "OWGR_RANK",
          "RECENT_FORM",
          "VEGAS_ODDS",
          "FEDEX_CUP_POINTS",
          "SGAPR_RANK",
          "PAR_4_RANK",
          "SGP",
          "SGAPR",
          "SGP_RANK",
          "PAR_4",
          "CUT_PERCENTAGE",
          "DRIVING_DISTANCE",
          "SCRAMBLING",
          "DRIVING_DISTANCE_RANK",
          "SCRAMBLING_RANK",
          "CONSECUTIVE_CUTS",
          "PAR_3_RANK",
          "DRIVING_ACCURACY",
          "SGOTT",
          "adj_form",
          "DRIVING_ACCURACY_RANK",
          "GIR_RANK",
          "PAR_3",
          "SGOTT_RANK",
          "COURSE_HISTORY",
          "TOTAL_DRIVING_RANK",
          "adj_ch",
          "GIR",
          "TOTAL_DRIVING"
         ],
         "xaxis": "x",
         "y": {
          "bdata": "yI0wEuSK1z/N3NHOa6TSP98ou2xGBtI/ujIvEVX30T888ky/cPPRPxXZh6If7dE/wQUjYefl0T//co091Z7RP1r6dpRzCtE/mm65BJCD0D/Ag+s1CJzPP2g9MEc3Ys0/2OO0ulO+zD/JUG12JZfLPyDy9iqRhMo/48BG3Nsvyj/nbIYnxffJP1dUOn1mf8k/yFEvLRwZyD8KcYhulejGPxvdLNrLB8Y/MHwy2kM3vT+7SGQ5eNa8P00WCHzco7w/tllOTbAiuT+RUbfbDfi2P9Ghn+aUxbY/a8M+8QK8tD+0Veqjpke0P89q65n02rM/OKrdrO+1sz+RFddAT/yxP0TPWdvM07A/yASW46dNsD8pomrJ9YyuP1JEIgz2Wq4/kYipvVvfqj/3TRC3i1+oP+D5Nal5tKA/",
          "dtype": "f8"
         },
         "yaxis": "y"
        }
       ],
       "layout": {
        "barmode": "relative",
        "height": 500,
        "legend": {
         "tracegroupgap": 0
        },
        "template": {
         "data": {
          "bar": [
           {
            "error_x": {
             "color": "#f2f5fa"
            },
            "error_y": {
             "color": "#f2f5fa"
            },
            "marker": {
             "line": {
              "color": "rgb(17,17,17)",
              "width": 0.5
             },
             "pattern": {
              "fillmode": "overlay",
              "size": 10,
              "solidity": 0.2
             }
            },
            "type": "bar"
           }
          ],
          "barpolar": [
           {
            "marker": {
             "line": {
              "color": "rgb(17,17,17)",
              "width": 0.5
             },
             "pattern": {
              "fillmode": "overlay",
              "size": 10,
              "solidity": 0.2
             }
            },
            "type": "barpolar"
           }
          ],
          "carpet": [
           {
            "aaxis": {
             "endlinecolor": "#A2B1C6",
             "gridcolor": "#506784",
             "linecolor": "#506784",
             "minorgridcolor": "#506784",
             "startlinecolor": "#A2B1C6"
            },
            "baxis": {
             "endlinecolor": "#A2B1C6",
             "gridcolor": "#506784",
             "linecolor": "#506784",
             "minorgridcolor": "#506784",
             "startlinecolor": "#A2B1C6"
            },
            "type": "carpet"
           }
          ],
          "choropleth": [
           {
            "colorbar": {
             "outlinewidth": 0,
             "ticks": ""
            },
            "type": "choropleth"
           }
          ],
          "contour": [
           {
            "colorbar": {
             "outlinewidth": 0,
             "ticks": ""
            },
            "colorscale": [
             [
              0,
              "#0d0887"
             ],
             [
              0.1111111111111111,
              "#46039f"
             ],
             [
              0.2222222222222222,
              "#7201a8"
             ],
             [
              0.3333333333333333,
              "#9c179e"
             ],
             [
              0.4444444444444444,
              "#bd3786"
             ],
             [
              0.5555555555555556,
              "#d8576b"
             ],
             [
              0.6666666666666666,
              "#ed7953"
             ],
             [
              0.7777777777777778,
              "#fb9f3a"
             ],
             [
              0.8888888888888888,
              "#fdca26"
             ],
             [
              1,
              "#f0f921"
             ]
            ],
            "type": "contour"
           }
          ],
          "contourcarpet": [
           {
            "colorbar": {
             "outlinewidth": 0,
             "ticks": ""
            },
            "type": "contourcarpet"
           }
          ],
          "heatmap": [
           {
            "colorbar": {
             "outlinewidth": 0,
             "ticks": ""
            },
            "colorscale": [
             [
              0,
              "#0d0887"
             ],
             [
              0.1111111111111111,
              "#46039f"
             ],
             [
              0.2222222222222222,
              "#7201a8"
             ],
             [
              0.3333333333333333,
              "#9c179e"
             ],
             [
              0.4444444444444444,
              "#bd3786"
             ],
             [
              0.5555555555555556,
              "#d8576b"
             ],
             [
              0.6666666666666666,
              "#ed7953"
             ],
             [
              0.7777777777777778,
              "#fb9f3a"
             ],
             [
              0.8888888888888888,
              "#fdca26"
             ],
             [
              1,
              "#f0f921"
             ]
            ],
            "type": "heatmap"
           }
          ],
          "histogram": [
           {
            "marker": {
             "pattern": {
              "fillmode": "overlay",
              "size": 10,
              "solidity": 0.2
             }
            },
            "type": "histogram"
           }
          ],
          "histogram2d": [
           {
            "colorbar": {
             "outlinewidth": 0,
             "ticks": ""
            },
            "colorscale": [
             [
              0,
              "#0d0887"
             ],
             [
              0.1111111111111111,
              "#46039f"
             ],
             [
              0.2222222222222222,
              "#7201a8"
             ],
             [
              0.3333333333333333,
              "#9c179e"
             ],
             [
              0.4444444444444444,
              "#bd3786"
             ],
             [
              0.5555555555555556,
              "#d8576b"
             ],
             [
              0.6666666666666666,
              "#ed7953"
             ],
             [
              0.7777777777777778,
              "#fb9f3a"
             ],
             [
              0.8888888888888888,
              "#fdca26"
             ],
             [
              1,
              "#f0f921"
             ]
            ],
            "type": "histogram2d"
           }
          ],
          "histogram2dcontour": [
           {
            "colorbar": {
             "outlinewidth": 0,
             "ticks": ""
            },
            "colorscale": [
             [
              0,
              "#0d0887"
             ],
             [
              0.1111111111111111,
              "#46039f"
             ],
             [
              0.2222222222222222,
              "#7201a8"
             ],
             [
              0.3333333333333333,
              "#9c179e"
             ],
             [
              0.4444444444444444,
              "#bd3786"
             ],
             [
              0.5555555555555556,
              "#d8576b"
             ],
             [
              0.6666666666666666,
              "#ed7953"
             ],
             [
              0.7777777777777778,
              "#fb9f3a"
             ],
             [
              0.8888888888888888,
              "#fdca26"
             ],
             [
              1,
              "#f0f921"
             ]
            ],
            "type": "histogram2dcontour"
           }
          ],
          "mesh3d": [
           {
            "colorbar": {
             "outlinewidth": 0,
             "ticks": ""
            },
            "type": "mesh3d"
           }
          ],
          "parcoords": [
           {
            "line": {
             "colorbar": {
              "outlinewidth": 0,
              "ticks": ""
             }
            },
            "type": "parcoords"
           }
          ],
          "pie": [
           {
            "automargin": true,
            "type": "pie"
           }
          ],
          "scatter": [
           {
            "marker": {
             "line": {
              "color": "#283442"
             }
            },
            "type": "scatter"
           }
          ],
          "scatter3d": [
           {
            "line": {
             "colorbar": {
              "outlinewidth": 0,
              "ticks": ""
             }
            },
            "marker": {
             "colorbar": {
              "outlinewidth": 0,
              "ticks": ""
             }
            },
            "type": "scatter3d"
           }
          ],
          "scattercarpet": [
           {
            "marker": {
             "colorbar": {
              "outlinewidth": 0,
              "ticks": ""
             }
            },
            "type": "scattercarpet"
           }
          ],
          "scattergeo": [
           {
            "marker": {
             "colorbar": {
              "outlinewidth": 0,
              "ticks": ""
             }
            },
            "type": "scattergeo"
           }
          ],
          "scattergl": [
           {
            "marker": {
             "line": {
              "color": "#283442"
             }
            },
            "type": "scattergl"
           }
          ],
          "scattermap": [
           {
            "marker": {
             "colorbar": {
              "outlinewidth": 0,
              "ticks": ""
             }
            },
            "type": "scattermap"
           }
          ],
          "scattermapbox": [
           {
            "marker": {
             "colorbar": {
              "outlinewidth": 0,
              "ticks": ""
             }
            },
            "type": "scattermapbox"
           }
          ],
          "scatterpolar": [
           {
            "marker": {
             "colorbar": {
              "outlinewidth": 0,
              "ticks": ""
             }
            },
            "type": "scatterpolar"
           }
          ],
          "scatterpolargl": [
           {
            "marker": {
             "colorbar": {
              "outlinewidth": 0,
              "ticks": ""
             }
            },
            "type": "scatterpolargl"
           }
          ],
          "scatterternary": [
           {
            "marker": {
             "colorbar": {
              "outlinewidth": 0,
              "ticks": ""
             }
            },
            "type": "scatterternary"
           }
          ],
          "surface": [
           {
            "colorbar": {
             "outlinewidth": 0,
             "ticks": ""
            },
            "colorscale": [
             [
              0,
              "#0d0887"
             ],
             [
              0.1111111111111111,
              "#46039f"
             ],
             [
              0.2222222222222222,
              "#7201a8"
             ],
             [
              0.3333333333333333,
              "#9c179e"
             ],
             [
              0.4444444444444444,
              "#bd3786"
             ],
             [
              0.5555555555555556,
              "#d8576b"
             ],
             [
              0.6666666666666666,
              "#ed7953"
             ],
             [
              0.7777777777777778,
              "#fb9f3a"
             ],
             [
              0.8888888888888888,
              "#fdca26"
             ],
             [
              1,
              "#f0f921"
             ]
            ],
            "type": "surface"
           }
          ],
          "table": [
           {
            "cells": {
             "fill": {
              "color": "#506784"
             },
             "line": {
              "color": "rgb(17,17,17)"
             }
            },
            "header": {
             "fill": {
              "color": "#2a3f5f"
             },
             "line": {
              "color": "rgb(17,17,17)"
             }
            },
            "type": "table"
           }
          ]
         },
         "layout": {
          "annotationdefaults": {
           "arrowcolor": "#f2f5fa",
           "arrowhead": 0,
           "arrowwidth": 1
          },
          "autotypenumbers": "strict",
          "coloraxis": {
           "colorbar": {
            "outlinewidth": 0,
            "ticks": ""
           }
          },
          "colorscale": {
           "diverging": [
            [
             0,
             "#8e0152"
            ],
            [
             0.1,
             "#c51b7d"
            ],
            [
             0.2,
             "#de77ae"
            ],
            [
             0.3,
             "#f1b6da"
            ],
            [
             0.4,
             "#fde0ef"
            ],
            [
             0.5,
             "#f7f7f7"
            ],
            [
             0.6,
             "#e6f5d0"
            ],
            [
             0.7,
             "#b8e186"
            ],
            [
             0.8,
             "#7fbc41"
            ],
            [
             0.9,
             "#4d9221"
            ],
            [
             1,
             "#276419"
            ]
           ],
           "sequential": [
            [
             0,
             "#0d0887"
            ],
            [
             0.1111111111111111,
             "#46039f"
            ],
            [
             0.2222222222222222,
             "#7201a8"
            ],
            [
             0.3333333333333333,
             "#9c179e"
            ],
            [
             0.4444444444444444,
             "#bd3786"
            ],
            [
             0.5555555555555556,
             "#d8576b"
            ],
            [
             0.6666666666666666,
             "#ed7953"
            ],
            [
             0.7777777777777778,
             "#fb9f3a"
            ],
            [
             0.8888888888888888,
             "#fdca26"
            ],
            [
             1,
             "#f0f921"
            ]
           ],
           "sequentialminus": [
            [
             0,
             "#0d0887"
            ],
            [
             0.1111111111111111,
             "#46039f"
            ],
            [
             0.2222222222222222,
             "#7201a8"
            ],
            [
             0.3333333333333333,
             "#9c179e"
            ],
            [
             0.4444444444444444,
             "#bd3786"
            ],
            [
             0.5555555555555556,
             "#d8576b"
            ],
            [
             0.6666666666666666,
             "#ed7953"
            ],
            [
             0.7777777777777778,
             "#fb9f3a"
            ],
            [
             0.8888888888888888,
             "#fdca26"
            ],
            [
             1,
             "#f0f921"
            ]
           ]
          },
          "colorway": [
           "#636efa",
           "#EF553B",
           "#00cc96",
           "#ab63fa",
           "#FFA15A",
           "#19d3f3",
           "#FF6692",
           "#B6E880",
           "#FF97FF",
           "#FECB52"
          ],
          "font": {
           "color": "#f2f5fa"
          },
          "geo": {
           "bgcolor": "rgb(17,17,17)",
           "lakecolor": "rgb(17,17,17)",
           "landcolor": "rgb(17,17,17)",
           "showlakes": true,
           "showland": true,
           "subunitcolor": "#506784"
          },
          "hoverlabel": {
           "align": "left"
          },
          "hovermode": "closest",
          "mapbox": {
           "style": "dark"
          },
          "paper_bgcolor": "rgb(17,17,17)",
          "plot_bgcolor": "rgb(17,17,17)",
          "polar": {
           "angularaxis": {
            "gridcolor": "#506784",
            "linecolor": "#506784",
            "ticks": ""
           },
           "bgcolor": "rgb(17,17,17)",
           "radialaxis": {
            "gridcolor": "#506784",
            "linecolor": "#506784",
            "ticks": ""
           }
          },
          "scene": {
           "xaxis": {
            "backgroundcolor": "rgb(17,17,17)",
            "gridcolor": "#506784",
            "gridwidth": 2,
            "linecolor": "#506784",
            "showbackground": true,
            "ticks": "",
            "zerolinecolor": "#C8D4E3"
           },
           "yaxis": {
            "backgroundcolor": "rgb(17,17,17)",
            "gridcolor": "#506784",
            "gridwidth": 2,
            "linecolor": "#506784",
            "showbackground": true,
            "ticks": "",
            "zerolinecolor": "#C8D4E3"
           },
           "zaxis": {
            "backgroundcolor": "rgb(17,17,17)",
            "gridcolor": "#506784",
            "gridwidth": 2,
            "linecolor": "#506784",
            "showbackground": true,
            "ticks": "",
            "zerolinecolor": "#C8D4E3"
           }
          },
          "shapedefaults": {
           "line": {
            "color": "#f2f5fa"
           }
          },
          "sliderdefaults": {
           "bgcolor": "#C8D4E3",
           "bordercolor": "rgb(17,17,17)",
           "borderwidth": 1,
           "tickwidth": 0
          },
          "ternary": {
           "aaxis": {
            "gridcolor": "#506784",
            "linecolor": "#506784",
            "ticks": ""
           },
           "baxis": {
            "gridcolor": "#506784",
            "linecolor": "#506784",
            "ticks": ""
           },
           "bgcolor": "rgb(17,17,17)",
           "caxis": {
            "gridcolor": "#506784",
            "linecolor": "#506784",
            "ticks": ""
           }
          },
          "title": {
           "x": 0.05
          },
          "updatemenudefaults": {
           "bgcolor": "#506784",
           "borderwidth": 0
          },
          "xaxis": {
           "automargin": true,
           "gridcolor": "#283442",
           "linecolor": "#506784",
           "ticks": "",
           "title": {
            "standoff": 15
           },
           "zerolinecolor": "#283442",
           "zerolinewidth": 2
          },
          "yaxis": {
           "automargin": true,
           "gridcolor": "#283442",
           "linecolor": "#506784",
           "ticks": "",
           "title": {
            "standoff": 15
           },
           "zerolinecolor": "#283442",
           "zerolinewidth": 2
          }
         }
        },
        "title": {
         "text": "🔎 Correlation to TOP_20 — Season 2021"
        },
        "width": 1000,
        "xaxis": {
         "anchor": "y",
         "domain": [
          0,
          1
         ],
         "tickangle": -45,
         "title": {
          "text": "Feature"
         }
        },
        "yaxis": {
         "anchor": "x",
         "domain": [
          0,
          1
         ],
         "title": {
          "text": "Absolute Correlation to TOP_20"
         }
        }
       }
      }
     },
     "metadata": {},
     "output_type": "display_data"
    },
    {
     "data": {
      "application/vnd.plotly.v1+json": {
       "config": {
        "plotlyServerURL": "https://plot.ly"
       },
       "data": [
        {
         "hovertemplate": "Feature=%{x}<br>Correlation=%{y}<extra></extra>",
         "legendgroup": "",
         "marker": {
          "color": "#636efa",
          "pattern": {
           "shape": ""
          }
         },
         "name": "",
         "orientation": "v",
         "showlegend": false,
         "textposition": "auto",
         "type": "bar",
         "x": [
          "OWGR",
          "RECENT_FORM",
          "SGTTG",
          "form_density",
          "FEDEX_CUP_POINTS",
          "SGTTG_RANK",
          "PAR_4",
          "PAR_4_RANK",
          "BIRDIES",
          "CUT_PERCENTAGE",
          "GIR",
          "PAR_5",
          "SGOTT",
          "GIR_RANK",
          "BIRDIES_RANK",
          "SGOTT_RANK",
          "TOTAL_DRIVING",
          "PAR_5_RANK",
          "TOTAL_DRIVING_RANK",
          "VEGAS_ODDS",
          "SGAPR",
          "CONSECUTIVE_CUTS",
          "OWGR_RANK",
          "SGAPR_RANK",
          "SCRAMBLING_RANK",
          "PAR_3_RANK",
          "PAR_3",
          "adj_form",
          "SGATG_RANK",
          "SGATG",
          "DRIVING_DISTANCE",
          "DRIVING_DISTANCE_RANK",
          "SCRAMBLING",
          "SGP",
          "SGP_RANK",
          "DRIVING_ACCURACY_RANK",
          "DRIVING_ACCURACY",
          "adj_ch",
          "COURSE_HISTORY"
         ],
         "xaxis": "x",
         "y": {
          "bdata": "eWxZit4e4T8Z/f7QllPgP/Aj8Be8MuA/e/tlLaeo3z89lxHdVj7eP+g77nH0/d0/kccotxma3D9cnlWeSTjcP7n8CE1j8ts/BWkJTYvD2z+6eBbDNA7bP4XedMlY9dk/ibo2X/WC2T+R4dfYAHfZP71egRIbFNg/vpCwJMmV1j8ioUYg+XjWPyWzgYx6+9U/4lQLpcZC1T/qttMntfXUP79pD9P+8dQ/PTdItLPE1D8ry40qoF7UP0d60rLoyNM/+T23CVtA0z+QAcook9LSP5/Pf1InxNE/OAGyXFWd0T9yjWpRhp3QP8b6n6C84M4/QYB+Jrxvzj+ctIE7pAHOPz93zYRzPco/a9Ky9HsqwT8kpftDLjHAP7aUvs3c87k/K34UdU7gtz+CaJ6W51elPwoD/a+sSJA/",
          "dtype": "f8"
         },
         "yaxis": "y"
        }
       ],
       "layout": {
        "barmode": "relative",
        "height": 500,
        "legend": {
         "tracegroupgap": 0
        },
        "template": {
         "data": {
          "bar": [
           {
            "error_x": {
             "color": "#f2f5fa"
            },
            "error_y": {
             "color": "#f2f5fa"
            },
            "marker": {
             "line": {
              "color": "rgb(17,17,17)",
              "width": 0.5
             },
             "pattern": {
              "fillmode": "overlay",
              "size": 10,
              "solidity": 0.2
             }
            },
            "type": "bar"
           }
          ],
          "barpolar": [
           {
            "marker": {
             "line": {
              "color": "rgb(17,17,17)",
              "width": 0.5
             },
             "pattern": {
              "fillmode": "overlay",
              "size": 10,
              "solidity": 0.2
             }
            },
            "type": "barpolar"
           }
          ],
          "carpet": [
           {
            "aaxis": {
             "endlinecolor": "#A2B1C6",
             "gridcolor": "#506784",
             "linecolor": "#506784",
             "minorgridcolor": "#506784",
             "startlinecolor": "#A2B1C6"
            },
            "baxis": {
             "endlinecolor": "#A2B1C6",
             "gridcolor": "#506784",
             "linecolor": "#506784",
             "minorgridcolor": "#506784",
             "startlinecolor": "#A2B1C6"
            },
            "type": "carpet"
           }
          ],
          "choropleth": [
           {
            "colorbar": {
             "outlinewidth": 0,
             "ticks": ""
            },
            "type": "choropleth"
           }
          ],
          "contour": [
           {
            "colorbar": {
             "outlinewidth": 0,
             "ticks": ""
            },
            "colorscale": [
             [
              0,
              "#0d0887"
             ],
             [
              0.1111111111111111,
              "#46039f"
             ],
             [
              0.2222222222222222,
              "#7201a8"
             ],
             [
              0.3333333333333333,
              "#9c179e"
             ],
             [
              0.4444444444444444,
              "#bd3786"
             ],
             [
              0.5555555555555556,
              "#d8576b"
             ],
             [
              0.6666666666666666,
              "#ed7953"
             ],
             [
              0.7777777777777778,
              "#fb9f3a"
             ],
             [
              0.8888888888888888,
              "#fdca26"
             ],
             [
              1,
              "#f0f921"
             ]
            ],
            "type": "contour"
           }
          ],
          "contourcarpet": [
           {
            "colorbar": {
             "outlinewidth": 0,
             "ticks": ""
            },
            "type": "contourcarpet"
           }
          ],
          "heatmap": [
           {
            "colorbar": {
             "outlinewidth": 0,
             "ticks": ""
            },
            "colorscale": [
             [
              0,
              "#0d0887"
             ],
             [
              0.1111111111111111,
              "#46039f"
             ],
             [
              0.2222222222222222,
              "#7201a8"
             ],
             [
              0.3333333333333333,
              "#9c179e"
             ],
             [
              0.4444444444444444,
              "#bd3786"
             ],
             [
              0.5555555555555556,
              "#d8576b"
             ],
             [
              0.6666666666666666,
              "#ed7953"
             ],
             [
              0.7777777777777778,
              "#fb9f3a"
             ],
             [
              0.8888888888888888,
              "#fdca26"
             ],
             [
              1,
              "#f0f921"
             ]
            ],
            "type": "heatmap"
           }
          ],
          "histogram": [
           {
            "marker": {
             "pattern": {
              "fillmode": "overlay",
              "size": 10,
              "solidity": 0.2
             }
            },
            "type": "histogram"
           }
          ],
          "histogram2d": [
           {
            "colorbar": {
             "outlinewidth": 0,
             "ticks": ""
            },
            "colorscale": [
             [
              0,
              "#0d0887"
             ],
             [
              0.1111111111111111,
              "#46039f"
             ],
             [
              0.2222222222222222,
              "#7201a8"
             ],
             [
              0.3333333333333333,
              "#9c179e"
             ],
             [
              0.4444444444444444,
              "#bd3786"
             ],
             [
              0.5555555555555556,
              "#d8576b"
             ],
             [
              0.6666666666666666,
              "#ed7953"
             ],
             [
              0.7777777777777778,
              "#fb9f3a"
             ],
             [
              0.8888888888888888,
              "#fdca26"
             ],
             [
              1,
              "#f0f921"
             ]
            ],
            "type": "histogram2d"
           }
          ],
          "histogram2dcontour": [
           {
            "colorbar": {
             "outlinewidth": 0,
             "ticks": ""
            },
            "colorscale": [
             [
              0,
              "#0d0887"
             ],
             [
              0.1111111111111111,
              "#46039f"
             ],
             [
              0.2222222222222222,
              "#7201a8"
             ],
             [
              0.3333333333333333,
              "#9c179e"
             ],
             [
              0.4444444444444444,
              "#bd3786"
             ],
             [
              0.5555555555555556,
              "#d8576b"
             ],
             [
              0.6666666666666666,
              "#ed7953"
             ],
             [
              0.7777777777777778,
              "#fb9f3a"
             ],
             [
              0.8888888888888888,
              "#fdca26"
             ],
             [
              1,
              "#f0f921"
             ]
            ],
            "type": "histogram2dcontour"
           }
          ],
          "mesh3d": [
           {
            "colorbar": {
             "outlinewidth": 0,
             "ticks": ""
            },
            "type": "mesh3d"
           }
          ],
          "parcoords": [
           {
            "line": {
             "colorbar": {
              "outlinewidth": 0,
              "ticks": ""
             }
            },
            "type": "parcoords"
           }
          ],
          "pie": [
           {
            "automargin": true,
            "type": "pie"
           }
          ],
          "scatter": [
           {
            "marker": {
             "line": {
              "color": "#283442"
             }
            },
            "type": "scatter"
           }
          ],
          "scatter3d": [
           {
            "line": {
             "colorbar": {
              "outlinewidth": 0,
              "ticks": ""
             }
            },
            "marker": {
             "colorbar": {
              "outlinewidth": 0,
              "ticks": ""
             }
            },
            "type": "scatter3d"
           }
          ],
          "scattercarpet": [
           {
            "marker": {
             "colorbar": {
              "outlinewidth": 0,
              "ticks": ""
             }
            },
            "type": "scattercarpet"
           }
          ],
          "scattergeo": [
           {
            "marker": {
             "colorbar": {
              "outlinewidth": 0,
              "ticks": ""
             }
            },
            "type": "scattergeo"
           }
          ],
          "scattergl": [
           {
            "marker": {
             "line": {
              "color": "#283442"
             }
            },
            "type": "scattergl"
           }
          ],
          "scattermap": [
           {
            "marker": {
             "colorbar": {
              "outlinewidth": 0,
              "ticks": ""
             }
            },
            "type": "scattermap"
           }
          ],
          "scattermapbox": [
           {
            "marker": {
             "colorbar": {
              "outlinewidth": 0,
              "ticks": ""
             }
            },
            "type": "scattermapbox"
           }
          ],
          "scatterpolar": [
           {
            "marker": {
             "colorbar": {
              "outlinewidth": 0,
              "ticks": ""
             }
            },
            "type": "scatterpolar"
           }
          ],
          "scatterpolargl": [
           {
            "marker": {
             "colorbar": {
              "outlinewidth": 0,
              "ticks": ""
             }
            },
            "type": "scatterpolargl"
           }
          ],
          "scatterternary": [
           {
            "marker": {
             "colorbar": {
              "outlinewidth": 0,
              "ticks": ""
             }
            },
            "type": "scatterternary"
           }
          ],
          "surface": [
           {
            "colorbar": {
             "outlinewidth": 0,
             "ticks": ""
            },
            "colorscale": [
             [
              0,
              "#0d0887"
             ],
             [
              0.1111111111111111,
              "#46039f"
             ],
             [
              0.2222222222222222,
              "#7201a8"
             ],
             [
              0.3333333333333333,
              "#9c179e"
             ],
             [
              0.4444444444444444,
              "#bd3786"
             ],
             [
              0.5555555555555556,
              "#d8576b"
             ],
             [
              0.6666666666666666,
              "#ed7953"
             ],
             [
              0.7777777777777778,
              "#fb9f3a"
             ],
             [
              0.8888888888888888,
              "#fdca26"
             ],
             [
              1,
              "#f0f921"
             ]
            ],
            "type": "surface"
           }
          ],
          "table": [
           {
            "cells": {
             "fill": {
              "color": "#506784"
             },
             "line": {
              "color": "rgb(17,17,17)"
             }
            },
            "header": {
             "fill": {
              "color": "#2a3f5f"
             },
             "line": {
              "color": "rgb(17,17,17)"
             }
            },
            "type": "table"
           }
          ]
         },
         "layout": {
          "annotationdefaults": {
           "arrowcolor": "#f2f5fa",
           "arrowhead": 0,
           "arrowwidth": 1
          },
          "autotypenumbers": "strict",
          "coloraxis": {
           "colorbar": {
            "outlinewidth": 0,
            "ticks": ""
           }
          },
          "colorscale": {
           "diverging": [
            [
             0,
             "#8e0152"
            ],
            [
             0.1,
             "#c51b7d"
            ],
            [
             0.2,
             "#de77ae"
            ],
            [
             0.3,
             "#f1b6da"
            ],
            [
             0.4,
             "#fde0ef"
            ],
            [
             0.5,
             "#f7f7f7"
            ],
            [
             0.6,
             "#e6f5d0"
            ],
            [
             0.7,
             "#b8e186"
            ],
            [
             0.8,
             "#7fbc41"
            ],
            [
             0.9,
             "#4d9221"
            ],
            [
             1,
             "#276419"
            ]
           ],
           "sequential": [
            [
             0,
             "#0d0887"
            ],
            [
             0.1111111111111111,
             "#46039f"
            ],
            [
             0.2222222222222222,
             "#7201a8"
            ],
            [
             0.3333333333333333,
             "#9c179e"
            ],
            [
             0.4444444444444444,
             "#bd3786"
            ],
            [
             0.5555555555555556,
             "#d8576b"
            ],
            [
             0.6666666666666666,
             "#ed7953"
            ],
            [
             0.7777777777777778,
             "#fb9f3a"
            ],
            [
             0.8888888888888888,
             "#fdca26"
            ],
            [
             1,
             "#f0f921"
            ]
           ],
           "sequentialminus": [
            [
             0,
             "#0d0887"
            ],
            [
             0.1111111111111111,
             "#46039f"
            ],
            [
             0.2222222222222222,
             "#7201a8"
            ],
            [
             0.3333333333333333,
             "#9c179e"
            ],
            [
             0.4444444444444444,
             "#bd3786"
            ],
            [
             0.5555555555555556,
             "#d8576b"
            ],
            [
             0.6666666666666666,
             "#ed7953"
            ],
            [
             0.7777777777777778,
             "#fb9f3a"
            ],
            [
             0.8888888888888888,
             "#fdca26"
            ],
            [
             1,
             "#f0f921"
            ]
           ]
          },
          "colorway": [
           "#636efa",
           "#EF553B",
           "#00cc96",
           "#ab63fa",
           "#FFA15A",
           "#19d3f3",
           "#FF6692",
           "#B6E880",
           "#FF97FF",
           "#FECB52"
          ],
          "font": {
           "color": "#f2f5fa"
          },
          "geo": {
           "bgcolor": "rgb(17,17,17)",
           "lakecolor": "rgb(17,17,17)",
           "landcolor": "rgb(17,17,17)",
           "showlakes": true,
           "showland": true,
           "subunitcolor": "#506784"
          },
          "hoverlabel": {
           "align": "left"
          },
          "hovermode": "closest",
          "mapbox": {
           "style": "dark"
          },
          "paper_bgcolor": "rgb(17,17,17)",
          "plot_bgcolor": "rgb(17,17,17)",
          "polar": {
           "angularaxis": {
            "gridcolor": "#506784",
            "linecolor": "#506784",
            "ticks": ""
           },
           "bgcolor": "rgb(17,17,17)",
           "radialaxis": {
            "gridcolor": "#506784",
            "linecolor": "#506784",
            "ticks": ""
           }
          },
          "scene": {
           "xaxis": {
            "backgroundcolor": "rgb(17,17,17)",
            "gridcolor": "#506784",
            "gridwidth": 2,
            "linecolor": "#506784",
            "showbackground": true,
            "ticks": "",
            "zerolinecolor": "#C8D4E3"
           },
           "yaxis": {
            "backgroundcolor": "rgb(17,17,17)",
            "gridcolor": "#506784",
            "gridwidth": 2,
            "linecolor": "#506784",
            "showbackground": true,
            "ticks": "",
            "zerolinecolor": "#C8D4E3"
           },
           "zaxis": {
            "backgroundcolor": "rgb(17,17,17)",
            "gridcolor": "#506784",
            "gridwidth": 2,
            "linecolor": "#506784",
            "showbackground": true,
            "ticks": "",
            "zerolinecolor": "#C8D4E3"
           }
          },
          "shapedefaults": {
           "line": {
            "color": "#f2f5fa"
           }
          },
          "sliderdefaults": {
           "bgcolor": "#C8D4E3",
           "bordercolor": "rgb(17,17,17)",
           "borderwidth": 1,
           "tickwidth": 0
          },
          "ternary": {
           "aaxis": {
            "gridcolor": "#506784",
            "linecolor": "#506784",
            "ticks": ""
           },
           "baxis": {
            "gridcolor": "#506784",
            "linecolor": "#506784",
            "ticks": ""
           },
           "bgcolor": "rgb(17,17,17)",
           "caxis": {
            "gridcolor": "#506784",
            "linecolor": "#506784",
            "ticks": ""
           }
          },
          "title": {
           "x": 0.05
          },
          "updatemenudefaults": {
           "bgcolor": "#506784",
           "borderwidth": 0
          },
          "xaxis": {
           "automargin": true,
           "gridcolor": "#283442",
           "linecolor": "#506784",
           "ticks": "",
           "title": {
            "standoff": 15
           },
           "zerolinecolor": "#283442",
           "zerolinewidth": 2
          },
          "yaxis": {
           "automargin": true,
           "gridcolor": "#283442",
           "linecolor": "#506784",
           "ticks": "",
           "title": {
            "standoff": 15
           },
           "zerolinecolor": "#283442",
           "zerolinewidth": 2
          }
         }
        },
        "title": {
         "text": "🔎 Correlation to TOP_20 — Season 2022"
        },
        "width": 1000,
        "xaxis": {
         "anchor": "y",
         "domain": [
          0,
          1
         ],
         "tickangle": -45,
         "title": {
          "text": "Feature"
         }
        },
        "yaxis": {
         "anchor": "x",
         "domain": [
          0,
          1
         ],
         "title": {
          "text": "Absolute Correlation to TOP_20"
         }
        }
       }
      }
     },
     "metadata": {},
     "output_type": "display_data"
    },
    {
     "data": {
      "application/vnd.plotly.v1+json": {
       "config": {
        "plotlyServerURL": "https://plot.ly"
       },
       "data": [
        {
         "hovertemplate": "Feature=%{x}<br>Correlation=%{y}<extra></extra>",
         "legendgroup": "",
         "marker": {
          "color": "#636efa",
          "pattern": {
           "shape": ""
          }
         },
         "name": "",
         "orientation": "v",
         "showlegend": false,
         "textposition": "auto",
         "type": "bar",
         "x": [
          "OWGR",
          "form_density",
          "SGTTG",
          "FEDEX_CUP_POINTS",
          "SGTTG_RANK",
          "RECENT_FORM",
          "SGAPR",
          "SGAPR_RANK",
          "VEGAS_ODDS",
          "SGOTT",
          "PAR_4",
          "SGOTT_RANK",
          "CUT_PERCENTAGE",
          "OWGR_RANK",
          "PAR_5",
          "PAR_5_RANK",
          "DRIVING_DISTANCE",
          "adj_ch",
          "adj_form",
          "CONSECUTIVE_CUTS",
          "BIRDIES",
          "SCRAMBLING_RANK",
          "SCRAMBLING",
          "TOTAL_DRIVING_RANK",
          "PAR_3",
          "COURSE_HISTORY",
          "DRIVING_DISTANCE_RANK",
          "TOTAL_DRIVING",
          "GIR",
          "SGATG_RANK",
          "PAR_4_RANK",
          "PAR_3_RANK",
          "SGATG",
          "BIRDIES_RANK",
          "GIR_RANK",
          "SGP_RANK",
          "SGP",
          "DRIVING_ACCURACY_RANK",
          "DRIVING_ACCURACY"
         ],
         "xaxis": "x",
         "y": {
          "bdata": "rjFov6tW3z+u/pss5oTbPzvPJmfhYds/Bh+0VG/z2T+nQO21bVTZPzyY5fkyvtc/9AV3XseG1z8finuPoO/WP+wJek1qc9U/V+RVkyqe0T8yq1S7KznRP5lHOpMbHtE/xpOk3gKe0D9yF/7Vj87PP/3C8hDfbs8/tQKrBwOPzj/XZjbEobPLP97pBg9iN8s/FgcOQdReyj926cTKj8rJP2y2CB/bCsg/nk8xAGjzxz+KdCBefZnHP/K0qOkrdcc/EPUNvm9Mxz99XivQTlfGP23F5wwS7sU/cg2SirW5xT88TRUbnJHFPywKc8Akf8U/lZ3tefxkxT+YPrcjbknEP1g2LgFEYsM/ShO448iMvz80Ax9nAiC8P0VEhHWkx7Q/l3FT7AnGtD9JKlTBWMiPPyR4JpQ+EIY/",
          "dtype": "f8"
         },
         "yaxis": "y"
        }
       ],
       "layout": {
        "barmode": "relative",
        "height": 500,
        "legend": {
         "tracegroupgap": 0
        },
        "template": {
         "data": {
          "bar": [
           {
            "error_x": {
             "color": "#f2f5fa"
            },
            "error_y": {
             "color": "#f2f5fa"
            },
            "marker": {
             "line": {
              "color": "rgb(17,17,17)",
              "width": 0.5
             },
             "pattern": {
              "fillmode": "overlay",
              "size": 10,
              "solidity": 0.2
             }
            },
            "type": "bar"
           }
          ],
          "barpolar": [
           {
            "marker": {
             "line": {
              "color": "rgb(17,17,17)",
              "width": 0.5
             },
             "pattern": {
              "fillmode": "overlay",
              "size": 10,
              "solidity": 0.2
             }
            },
            "type": "barpolar"
           }
          ],
          "carpet": [
           {
            "aaxis": {
             "endlinecolor": "#A2B1C6",
             "gridcolor": "#506784",
             "linecolor": "#506784",
             "minorgridcolor": "#506784",
             "startlinecolor": "#A2B1C6"
            },
            "baxis": {
             "endlinecolor": "#A2B1C6",
             "gridcolor": "#506784",
             "linecolor": "#506784",
             "minorgridcolor": "#506784",
             "startlinecolor": "#A2B1C6"
            },
            "type": "carpet"
           }
          ],
          "choropleth": [
           {
            "colorbar": {
             "outlinewidth": 0,
             "ticks": ""
            },
            "type": "choropleth"
           }
          ],
          "contour": [
           {
            "colorbar": {
             "outlinewidth": 0,
             "ticks": ""
            },
            "colorscale": [
             [
              0,
              "#0d0887"
             ],
             [
              0.1111111111111111,
              "#46039f"
             ],
             [
              0.2222222222222222,
              "#7201a8"
             ],
             [
              0.3333333333333333,
              "#9c179e"
             ],
             [
              0.4444444444444444,
              "#bd3786"
             ],
             [
              0.5555555555555556,
              "#d8576b"
             ],
             [
              0.6666666666666666,
              "#ed7953"
             ],
             [
              0.7777777777777778,
              "#fb9f3a"
             ],
             [
              0.8888888888888888,
              "#fdca26"
             ],
             [
              1,
              "#f0f921"
             ]
            ],
            "type": "contour"
           }
          ],
          "contourcarpet": [
           {
            "colorbar": {
             "outlinewidth": 0,
             "ticks": ""
            },
            "type": "contourcarpet"
           }
          ],
          "heatmap": [
           {
            "colorbar": {
             "outlinewidth": 0,
             "ticks": ""
            },
            "colorscale": [
             [
              0,
              "#0d0887"
             ],
             [
              0.1111111111111111,
              "#46039f"
             ],
             [
              0.2222222222222222,
              "#7201a8"
             ],
             [
              0.3333333333333333,
              "#9c179e"
             ],
             [
              0.4444444444444444,
              "#bd3786"
             ],
             [
              0.5555555555555556,
              "#d8576b"
             ],
             [
              0.6666666666666666,
              "#ed7953"
             ],
             [
              0.7777777777777778,
              "#fb9f3a"
             ],
             [
              0.8888888888888888,
              "#fdca26"
             ],
             [
              1,
              "#f0f921"
             ]
            ],
            "type": "heatmap"
           }
          ],
          "histogram": [
           {
            "marker": {
             "pattern": {
              "fillmode": "overlay",
              "size": 10,
              "solidity": 0.2
             }
            },
            "type": "histogram"
           }
          ],
          "histogram2d": [
           {
            "colorbar": {
             "outlinewidth": 0,
             "ticks": ""
            },
            "colorscale": [
             [
              0,
              "#0d0887"
             ],
             [
              0.1111111111111111,
              "#46039f"
             ],
             [
              0.2222222222222222,
              "#7201a8"
             ],
             [
              0.3333333333333333,
              "#9c179e"
             ],
             [
              0.4444444444444444,
              "#bd3786"
             ],
             [
              0.5555555555555556,
              "#d8576b"
             ],
             [
              0.6666666666666666,
              "#ed7953"
             ],
             [
              0.7777777777777778,
              "#fb9f3a"
             ],
             [
              0.8888888888888888,
              "#fdca26"
             ],
             [
              1,
              "#f0f921"
             ]
            ],
            "type": "histogram2d"
           }
          ],
          "histogram2dcontour": [
           {
            "colorbar": {
             "outlinewidth": 0,
             "ticks": ""
            },
            "colorscale": [
             [
              0,
              "#0d0887"
             ],
             [
              0.1111111111111111,
              "#46039f"
             ],
             [
              0.2222222222222222,
              "#7201a8"
             ],
             [
              0.3333333333333333,
              "#9c179e"
             ],
             [
              0.4444444444444444,
              "#bd3786"
             ],
             [
              0.5555555555555556,
              "#d8576b"
             ],
             [
              0.6666666666666666,
              "#ed7953"
             ],
             [
              0.7777777777777778,
              "#fb9f3a"
             ],
             [
              0.8888888888888888,
              "#fdca26"
             ],
             [
              1,
              "#f0f921"
             ]
            ],
            "type": "histogram2dcontour"
           }
          ],
          "mesh3d": [
           {
            "colorbar": {
             "outlinewidth": 0,
             "ticks": ""
            },
            "type": "mesh3d"
           }
          ],
          "parcoords": [
           {
            "line": {
             "colorbar": {
              "outlinewidth": 0,
              "ticks": ""
             }
            },
            "type": "parcoords"
           }
          ],
          "pie": [
           {
            "automargin": true,
            "type": "pie"
           }
          ],
          "scatter": [
           {
            "marker": {
             "line": {
              "color": "#283442"
             }
            },
            "type": "scatter"
           }
          ],
          "scatter3d": [
           {
            "line": {
             "colorbar": {
              "outlinewidth": 0,
              "ticks": ""
             }
            },
            "marker": {
             "colorbar": {
              "outlinewidth": 0,
              "ticks": ""
             }
            },
            "type": "scatter3d"
           }
          ],
          "scattercarpet": [
           {
            "marker": {
             "colorbar": {
              "outlinewidth": 0,
              "ticks": ""
             }
            },
            "type": "scattercarpet"
           }
          ],
          "scattergeo": [
           {
            "marker": {
             "colorbar": {
              "outlinewidth": 0,
              "ticks": ""
             }
            },
            "type": "scattergeo"
           }
          ],
          "scattergl": [
           {
            "marker": {
             "line": {
              "color": "#283442"
             }
            },
            "type": "scattergl"
           }
          ],
          "scattermap": [
           {
            "marker": {
             "colorbar": {
              "outlinewidth": 0,
              "ticks": ""
             }
            },
            "type": "scattermap"
           }
          ],
          "scattermapbox": [
           {
            "marker": {
             "colorbar": {
              "outlinewidth": 0,
              "ticks": ""
             }
            },
            "type": "scattermapbox"
           }
          ],
          "scatterpolar": [
           {
            "marker": {
             "colorbar": {
              "outlinewidth": 0,
              "ticks": ""
             }
            },
            "type": "scatterpolar"
           }
          ],
          "scatterpolargl": [
           {
            "marker": {
             "colorbar": {
              "outlinewidth": 0,
              "ticks": ""
             }
            },
            "type": "scatterpolargl"
           }
          ],
          "scatterternary": [
           {
            "marker": {
             "colorbar": {
              "outlinewidth": 0,
              "ticks": ""
             }
            },
            "type": "scatterternary"
           }
          ],
          "surface": [
           {
            "colorbar": {
             "outlinewidth": 0,
             "ticks": ""
            },
            "colorscale": [
             [
              0,
              "#0d0887"
             ],
             [
              0.1111111111111111,
              "#46039f"
             ],
             [
              0.2222222222222222,
              "#7201a8"
             ],
             [
              0.3333333333333333,
              "#9c179e"
             ],
             [
              0.4444444444444444,
              "#bd3786"
             ],
             [
              0.5555555555555556,
              "#d8576b"
             ],
             [
              0.6666666666666666,
              "#ed7953"
             ],
             [
              0.7777777777777778,
              "#fb9f3a"
             ],
             [
              0.8888888888888888,
              "#fdca26"
             ],
             [
              1,
              "#f0f921"
             ]
            ],
            "type": "surface"
           }
          ],
          "table": [
           {
            "cells": {
             "fill": {
              "color": "#506784"
             },
             "line": {
              "color": "rgb(17,17,17)"
             }
            },
            "header": {
             "fill": {
              "color": "#2a3f5f"
             },
             "line": {
              "color": "rgb(17,17,17)"
             }
            },
            "type": "table"
           }
          ]
         },
         "layout": {
          "annotationdefaults": {
           "arrowcolor": "#f2f5fa",
           "arrowhead": 0,
           "arrowwidth": 1
          },
          "autotypenumbers": "strict",
          "coloraxis": {
           "colorbar": {
            "outlinewidth": 0,
            "ticks": ""
           }
          },
          "colorscale": {
           "diverging": [
            [
             0,
             "#8e0152"
            ],
            [
             0.1,
             "#c51b7d"
            ],
            [
             0.2,
             "#de77ae"
            ],
            [
             0.3,
             "#f1b6da"
            ],
            [
             0.4,
             "#fde0ef"
            ],
            [
             0.5,
             "#f7f7f7"
            ],
            [
             0.6,
             "#e6f5d0"
            ],
            [
             0.7,
             "#b8e186"
            ],
            [
             0.8,
             "#7fbc41"
            ],
            [
             0.9,
             "#4d9221"
            ],
            [
             1,
             "#276419"
            ]
           ],
           "sequential": [
            [
             0,
             "#0d0887"
            ],
            [
             0.1111111111111111,
             "#46039f"
            ],
            [
             0.2222222222222222,
             "#7201a8"
            ],
            [
             0.3333333333333333,
             "#9c179e"
            ],
            [
             0.4444444444444444,
             "#bd3786"
            ],
            [
             0.5555555555555556,
             "#d8576b"
            ],
            [
             0.6666666666666666,
             "#ed7953"
            ],
            [
             0.7777777777777778,
             "#fb9f3a"
            ],
            [
             0.8888888888888888,
             "#fdca26"
            ],
            [
             1,
             "#f0f921"
            ]
           ],
           "sequentialminus": [
            [
             0,
             "#0d0887"
            ],
            [
             0.1111111111111111,
             "#46039f"
            ],
            [
             0.2222222222222222,
             "#7201a8"
            ],
            [
             0.3333333333333333,
             "#9c179e"
            ],
            [
             0.4444444444444444,
             "#bd3786"
            ],
            [
             0.5555555555555556,
             "#d8576b"
            ],
            [
             0.6666666666666666,
             "#ed7953"
            ],
            [
             0.7777777777777778,
             "#fb9f3a"
            ],
            [
             0.8888888888888888,
             "#fdca26"
            ],
            [
             1,
             "#f0f921"
            ]
           ]
          },
          "colorway": [
           "#636efa",
           "#EF553B",
           "#00cc96",
           "#ab63fa",
           "#FFA15A",
           "#19d3f3",
           "#FF6692",
           "#B6E880",
           "#FF97FF",
           "#FECB52"
          ],
          "font": {
           "color": "#f2f5fa"
          },
          "geo": {
           "bgcolor": "rgb(17,17,17)",
           "lakecolor": "rgb(17,17,17)",
           "landcolor": "rgb(17,17,17)",
           "showlakes": true,
           "showland": true,
           "subunitcolor": "#506784"
          },
          "hoverlabel": {
           "align": "left"
          },
          "hovermode": "closest",
          "mapbox": {
           "style": "dark"
          },
          "paper_bgcolor": "rgb(17,17,17)",
          "plot_bgcolor": "rgb(17,17,17)",
          "polar": {
           "angularaxis": {
            "gridcolor": "#506784",
            "linecolor": "#506784",
            "ticks": ""
           },
           "bgcolor": "rgb(17,17,17)",
           "radialaxis": {
            "gridcolor": "#506784",
            "linecolor": "#506784",
            "ticks": ""
           }
          },
          "scene": {
           "xaxis": {
            "backgroundcolor": "rgb(17,17,17)",
            "gridcolor": "#506784",
            "gridwidth": 2,
            "linecolor": "#506784",
            "showbackground": true,
            "ticks": "",
            "zerolinecolor": "#C8D4E3"
           },
           "yaxis": {
            "backgroundcolor": "rgb(17,17,17)",
            "gridcolor": "#506784",
            "gridwidth": 2,
            "linecolor": "#506784",
            "showbackground": true,
            "ticks": "",
            "zerolinecolor": "#C8D4E3"
           },
           "zaxis": {
            "backgroundcolor": "rgb(17,17,17)",
            "gridcolor": "#506784",
            "gridwidth": 2,
            "linecolor": "#506784",
            "showbackground": true,
            "ticks": "",
            "zerolinecolor": "#C8D4E3"
           }
          },
          "shapedefaults": {
           "line": {
            "color": "#f2f5fa"
           }
          },
          "sliderdefaults": {
           "bgcolor": "#C8D4E3",
           "bordercolor": "rgb(17,17,17)",
           "borderwidth": 1,
           "tickwidth": 0
          },
          "ternary": {
           "aaxis": {
            "gridcolor": "#506784",
            "linecolor": "#506784",
            "ticks": ""
           },
           "baxis": {
            "gridcolor": "#506784",
            "linecolor": "#506784",
            "ticks": ""
           },
           "bgcolor": "rgb(17,17,17)",
           "caxis": {
            "gridcolor": "#506784",
            "linecolor": "#506784",
            "ticks": ""
           }
          },
          "title": {
           "x": 0.05
          },
          "updatemenudefaults": {
           "bgcolor": "#506784",
           "borderwidth": 0
          },
          "xaxis": {
           "automargin": true,
           "gridcolor": "#283442",
           "linecolor": "#506784",
           "ticks": "",
           "title": {
            "standoff": 15
           },
           "zerolinecolor": "#283442",
           "zerolinewidth": 2
          },
          "yaxis": {
           "automargin": true,
           "gridcolor": "#283442",
           "linecolor": "#506784",
           "ticks": "",
           "title": {
            "standoff": 15
           },
           "zerolinecolor": "#283442",
           "zerolinewidth": 2
          }
         }
        },
        "title": {
         "text": "🔎 Correlation to TOP_20 — Season 2023"
        },
        "width": 1000,
        "xaxis": {
         "anchor": "y",
         "domain": [
          0,
          1
         ],
         "tickangle": -45,
         "title": {
          "text": "Feature"
         }
        },
        "yaxis": {
         "anchor": "x",
         "domain": [
          0,
          1
         ],
         "title": {
          "text": "Absolute Correlation to TOP_20"
         }
        }
       }
      }
     },
     "metadata": {},
     "output_type": "display_data"
    },
    {
     "data": {
      "application/vnd.plotly.v1+json": {
       "config": {
        "plotlyServerURL": "https://plot.ly"
       },
       "data": [
        {
         "hovertemplate": "Feature=%{x}<br>Correlation=%{y}<extra></extra>",
         "legendgroup": "",
         "marker": {
          "color": "#636efa",
          "pattern": {
           "shape": ""
          }
         },
         "name": "",
         "orientation": "v",
         "showlegend": false,
         "textposition": "auto",
         "type": "bar",
         "x": [
          "OWGR",
          "SGTTG",
          "SGOTT",
          "SGTTG_RANK",
          "SGOTT_RANK",
          "SGAPR",
          "BIRDIES",
          "form_density",
          "RECENT_FORM",
          "PAR_3",
          "SGAPR_RANK",
          "BIRDIES_RANK",
          "PAR_3_RANK",
          "PAR_5",
          "FEDEX_CUP_POINTS",
          "PAR_5_RANK",
          "PAR_4",
          "adj_form",
          "TOTAL_DRIVING",
          "adj_ch",
          "TOTAL_DRIVING_RANK",
          "PAR_4_RANK",
          "SCRAMBLING",
          "GIR",
          "CONSECUTIVE_CUTS",
          "GIR_RANK",
          "OWGR_RANK",
          "CUT_PERCENTAGE",
          "COURSE_HISTORY",
          "SCRAMBLING_RANK",
          "DRIVING_ACCURACY",
          "DRIVING_ACCURACY_RANK",
          "VEGAS_ODDS",
          "DRIVING_DISTANCE",
          "SGATG_RANK",
          "DRIVING_DISTANCE_RANK",
          "SGP_RANK",
          "SGATG",
          "SGP"
         ],
         "xaxis": "x",
         "y": {
          "bdata": "b82aUOXM3z9Sdnd0fCfdP/44wwcVHds/lNoGoR3Q2T/WYSe9Z7jZP8EqsAyxcNc/2cTNdj8U1z8arI553dzWP6s1ytT7xNY/BCY0IM4b1j87jVNREz/VP3ePG1G7JdU/Tsw7l8mJ1D/bx3is8BrUPznQUM3stdM/ZIiGD6uM0z+UAWyPiArTP5GfX3twctI/5PDPlsZB0T8cMJw8asfQP+Qrhod4p9A/ha316Ol20D/HQhSdRYzOPxNXiX90Yc4/yXecuuZXzD8iqk3WpjbMP4umsGmdAcw/z0yqYakRyj+BT7OWseLJP28vUmUQfsk/d91Gt3mNxj/+QqXxw3LEPy42EOk5OMI/m9CfZAG3vz8ex6s3Iqa4P7uFgWsqAbg/hBTA+AOAtj8A3HxKE3G2PyuA4TXYcbM/",
          "dtype": "f8"
         },
         "yaxis": "y"
        }
       ],
       "layout": {
        "barmode": "relative",
        "height": 500,
        "legend": {
         "tracegroupgap": 0
        },
        "template": {
         "data": {
          "bar": [
           {
            "error_x": {
             "color": "#f2f5fa"
            },
            "error_y": {
             "color": "#f2f5fa"
            },
            "marker": {
             "line": {
              "color": "rgb(17,17,17)",
              "width": 0.5
             },
             "pattern": {
              "fillmode": "overlay",
              "size": 10,
              "solidity": 0.2
             }
            },
            "type": "bar"
           }
          ],
          "barpolar": [
           {
            "marker": {
             "line": {
              "color": "rgb(17,17,17)",
              "width": 0.5
             },
             "pattern": {
              "fillmode": "overlay",
              "size": 10,
              "solidity": 0.2
             }
            },
            "type": "barpolar"
           }
          ],
          "carpet": [
           {
            "aaxis": {
             "endlinecolor": "#A2B1C6",
             "gridcolor": "#506784",
             "linecolor": "#506784",
             "minorgridcolor": "#506784",
             "startlinecolor": "#A2B1C6"
            },
            "baxis": {
             "endlinecolor": "#A2B1C6",
             "gridcolor": "#506784",
             "linecolor": "#506784",
             "minorgridcolor": "#506784",
             "startlinecolor": "#A2B1C6"
            },
            "type": "carpet"
           }
          ],
          "choropleth": [
           {
            "colorbar": {
             "outlinewidth": 0,
             "ticks": ""
            },
            "type": "choropleth"
           }
          ],
          "contour": [
           {
            "colorbar": {
             "outlinewidth": 0,
             "ticks": ""
            },
            "colorscale": [
             [
              0,
              "#0d0887"
             ],
             [
              0.1111111111111111,
              "#46039f"
             ],
             [
              0.2222222222222222,
              "#7201a8"
             ],
             [
              0.3333333333333333,
              "#9c179e"
             ],
             [
              0.4444444444444444,
              "#bd3786"
             ],
             [
              0.5555555555555556,
              "#d8576b"
             ],
             [
              0.6666666666666666,
              "#ed7953"
             ],
             [
              0.7777777777777778,
              "#fb9f3a"
             ],
             [
              0.8888888888888888,
              "#fdca26"
             ],
             [
              1,
              "#f0f921"
             ]
            ],
            "type": "contour"
           }
          ],
          "contourcarpet": [
           {
            "colorbar": {
             "outlinewidth": 0,
             "ticks": ""
            },
            "type": "contourcarpet"
           }
          ],
          "heatmap": [
           {
            "colorbar": {
             "outlinewidth": 0,
             "ticks": ""
            },
            "colorscale": [
             [
              0,
              "#0d0887"
             ],
             [
              0.1111111111111111,
              "#46039f"
             ],
             [
              0.2222222222222222,
              "#7201a8"
             ],
             [
              0.3333333333333333,
              "#9c179e"
             ],
             [
              0.4444444444444444,
              "#bd3786"
             ],
             [
              0.5555555555555556,
              "#d8576b"
             ],
             [
              0.6666666666666666,
              "#ed7953"
             ],
             [
              0.7777777777777778,
              "#fb9f3a"
             ],
             [
              0.8888888888888888,
              "#fdca26"
             ],
             [
              1,
              "#f0f921"
             ]
            ],
            "type": "heatmap"
           }
          ],
          "histogram": [
           {
            "marker": {
             "pattern": {
              "fillmode": "overlay",
              "size": 10,
              "solidity": 0.2
             }
            },
            "type": "histogram"
           }
          ],
          "histogram2d": [
           {
            "colorbar": {
             "outlinewidth": 0,
             "ticks": ""
            },
            "colorscale": [
             [
              0,
              "#0d0887"
             ],
             [
              0.1111111111111111,
              "#46039f"
             ],
             [
              0.2222222222222222,
              "#7201a8"
             ],
             [
              0.3333333333333333,
              "#9c179e"
             ],
             [
              0.4444444444444444,
              "#bd3786"
             ],
             [
              0.5555555555555556,
              "#d8576b"
             ],
             [
              0.6666666666666666,
              "#ed7953"
             ],
             [
              0.7777777777777778,
              "#fb9f3a"
             ],
             [
              0.8888888888888888,
              "#fdca26"
             ],
             [
              1,
              "#f0f921"
             ]
            ],
            "type": "histogram2d"
           }
          ],
          "histogram2dcontour": [
           {
            "colorbar": {
             "outlinewidth": 0,
             "ticks": ""
            },
            "colorscale": [
             [
              0,
              "#0d0887"
             ],
             [
              0.1111111111111111,
              "#46039f"
             ],
             [
              0.2222222222222222,
              "#7201a8"
             ],
             [
              0.3333333333333333,
              "#9c179e"
             ],
             [
              0.4444444444444444,
              "#bd3786"
             ],
             [
              0.5555555555555556,
              "#d8576b"
             ],
             [
              0.6666666666666666,
              "#ed7953"
             ],
             [
              0.7777777777777778,
              "#fb9f3a"
             ],
             [
              0.8888888888888888,
              "#fdca26"
             ],
             [
              1,
              "#f0f921"
             ]
            ],
            "type": "histogram2dcontour"
           }
          ],
          "mesh3d": [
           {
            "colorbar": {
             "outlinewidth": 0,
             "ticks": ""
            },
            "type": "mesh3d"
           }
          ],
          "parcoords": [
           {
            "line": {
             "colorbar": {
              "outlinewidth": 0,
              "ticks": ""
             }
            },
            "type": "parcoords"
           }
          ],
          "pie": [
           {
            "automargin": true,
            "type": "pie"
           }
          ],
          "scatter": [
           {
            "marker": {
             "line": {
              "color": "#283442"
             }
            },
            "type": "scatter"
           }
          ],
          "scatter3d": [
           {
            "line": {
             "colorbar": {
              "outlinewidth": 0,
              "ticks": ""
             }
            },
            "marker": {
             "colorbar": {
              "outlinewidth": 0,
              "ticks": ""
             }
            },
            "type": "scatter3d"
           }
          ],
          "scattercarpet": [
           {
            "marker": {
             "colorbar": {
              "outlinewidth": 0,
              "ticks": ""
             }
            },
            "type": "scattercarpet"
           }
          ],
          "scattergeo": [
           {
            "marker": {
             "colorbar": {
              "outlinewidth": 0,
              "ticks": ""
             }
            },
            "type": "scattergeo"
           }
          ],
          "scattergl": [
           {
            "marker": {
             "line": {
              "color": "#283442"
             }
            },
            "type": "scattergl"
           }
          ],
          "scattermap": [
           {
            "marker": {
             "colorbar": {
              "outlinewidth": 0,
              "ticks": ""
             }
            },
            "type": "scattermap"
           }
          ],
          "scattermapbox": [
           {
            "marker": {
             "colorbar": {
              "outlinewidth": 0,
              "ticks": ""
             }
            },
            "type": "scattermapbox"
           }
          ],
          "scatterpolar": [
           {
            "marker": {
             "colorbar": {
              "outlinewidth": 0,
              "ticks": ""
             }
            },
            "type": "scatterpolar"
           }
          ],
          "scatterpolargl": [
           {
            "marker": {
             "colorbar": {
              "outlinewidth": 0,
              "ticks": ""
             }
            },
            "type": "scatterpolargl"
           }
          ],
          "scatterternary": [
           {
            "marker": {
             "colorbar": {
              "outlinewidth": 0,
              "ticks": ""
             }
            },
            "type": "scatterternary"
           }
          ],
          "surface": [
           {
            "colorbar": {
             "outlinewidth": 0,
             "ticks": ""
            },
            "colorscale": [
             [
              0,
              "#0d0887"
             ],
             [
              0.1111111111111111,
              "#46039f"
             ],
             [
              0.2222222222222222,
              "#7201a8"
             ],
             [
              0.3333333333333333,
              "#9c179e"
             ],
             [
              0.4444444444444444,
              "#bd3786"
             ],
             [
              0.5555555555555556,
              "#d8576b"
             ],
             [
              0.6666666666666666,
              "#ed7953"
             ],
             [
              0.7777777777777778,
              "#fb9f3a"
             ],
             [
              0.8888888888888888,
              "#fdca26"
             ],
             [
              1,
              "#f0f921"
             ]
            ],
            "type": "surface"
           }
          ],
          "table": [
           {
            "cells": {
             "fill": {
              "color": "#506784"
             },
             "line": {
              "color": "rgb(17,17,17)"
             }
            },
            "header": {
             "fill": {
              "color": "#2a3f5f"
             },
             "line": {
              "color": "rgb(17,17,17)"
             }
            },
            "type": "table"
           }
          ]
         },
         "layout": {
          "annotationdefaults": {
           "arrowcolor": "#f2f5fa",
           "arrowhead": 0,
           "arrowwidth": 1
          },
          "autotypenumbers": "strict",
          "coloraxis": {
           "colorbar": {
            "outlinewidth": 0,
            "ticks": ""
           }
          },
          "colorscale": {
           "diverging": [
            [
             0,
             "#8e0152"
            ],
            [
             0.1,
             "#c51b7d"
            ],
            [
             0.2,
             "#de77ae"
            ],
            [
             0.3,
             "#f1b6da"
            ],
            [
             0.4,
             "#fde0ef"
            ],
            [
             0.5,
             "#f7f7f7"
            ],
            [
             0.6,
             "#e6f5d0"
            ],
            [
             0.7,
             "#b8e186"
            ],
            [
             0.8,
             "#7fbc41"
            ],
            [
             0.9,
             "#4d9221"
            ],
            [
             1,
             "#276419"
            ]
           ],
           "sequential": [
            [
             0,
             "#0d0887"
            ],
            [
             0.1111111111111111,
             "#46039f"
            ],
            [
             0.2222222222222222,
             "#7201a8"
            ],
            [
             0.3333333333333333,
             "#9c179e"
            ],
            [
             0.4444444444444444,
             "#bd3786"
            ],
            [
             0.5555555555555556,
             "#d8576b"
            ],
            [
             0.6666666666666666,
             "#ed7953"
            ],
            [
             0.7777777777777778,
             "#fb9f3a"
            ],
            [
             0.8888888888888888,
             "#fdca26"
            ],
            [
             1,
             "#f0f921"
            ]
           ],
           "sequentialminus": [
            [
             0,
             "#0d0887"
            ],
            [
             0.1111111111111111,
             "#46039f"
            ],
            [
             0.2222222222222222,
             "#7201a8"
            ],
            [
             0.3333333333333333,
             "#9c179e"
            ],
            [
             0.4444444444444444,
             "#bd3786"
            ],
            [
             0.5555555555555556,
             "#d8576b"
            ],
            [
             0.6666666666666666,
             "#ed7953"
            ],
            [
             0.7777777777777778,
             "#fb9f3a"
            ],
            [
             0.8888888888888888,
             "#fdca26"
            ],
            [
             1,
             "#f0f921"
            ]
           ]
          },
          "colorway": [
           "#636efa",
           "#EF553B",
           "#00cc96",
           "#ab63fa",
           "#FFA15A",
           "#19d3f3",
           "#FF6692",
           "#B6E880",
           "#FF97FF",
           "#FECB52"
          ],
          "font": {
           "color": "#f2f5fa"
          },
          "geo": {
           "bgcolor": "rgb(17,17,17)",
           "lakecolor": "rgb(17,17,17)",
           "landcolor": "rgb(17,17,17)",
           "showlakes": true,
           "showland": true,
           "subunitcolor": "#506784"
          },
          "hoverlabel": {
           "align": "left"
          },
          "hovermode": "closest",
          "mapbox": {
           "style": "dark"
          },
          "paper_bgcolor": "rgb(17,17,17)",
          "plot_bgcolor": "rgb(17,17,17)",
          "polar": {
           "angularaxis": {
            "gridcolor": "#506784",
            "linecolor": "#506784",
            "ticks": ""
           },
           "bgcolor": "rgb(17,17,17)",
           "radialaxis": {
            "gridcolor": "#506784",
            "linecolor": "#506784",
            "ticks": ""
           }
          },
          "scene": {
           "xaxis": {
            "backgroundcolor": "rgb(17,17,17)",
            "gridcolor": "#506784",
            "gridwidth": 2,
            "linecolor": "#506784",
            "showbackground": true,
            "ticks": "",
            "zerolinecolor": "#C8D4E3"
           },
           "yaxis": {
            "backgroundcolor": "rgb(17,17,17)",
            "gridcolor": "#506784",
            "gridwidth": 2,
            "linecolor": "#506784",
            "showbackground": true,
            "ticks": "",
            "zerolinecolor": "#C8D4E3"
           },
           "zaxis": {
            "backgroundcolor": "rgb(17,17,17)",
            "gridcolor": "#506784",
            "gridwidth": 2,
            "linecolor": "#506784",
            "showbackground": true,
            "ticks": "",
            "zerolinecolor": "#C8D4E3"
           }
          },
          "shapedefaults": {
           "line": {
            "color": "#f2f5fa"
           }
          },
          "sliderdefaults": {
           "bgcolor": "#C8D4E3",
           "bordercolor": "rgb(17,17,17)",
           "borderwidth": 1,
           "tickwidth": 0
          },
          "ternary": {
           "aaxis": {
            "gridcolor": "#506784",
            "linecolor": "#506784",
            "ticks": ""
           },
           "baxis": {
            "gridcolor": "#506784",
            "linecolor": "#506784",
            "ticks": ""
           },
           "bgcolor": "rgb(17,17,17)",
           "caxis": {
            "gridcolor": "#506784",
            "linecolor": "#506784",
            "ticks": ""
           }
          },
          "title": {
           "x": 0.05
          },
          "updatemenudefaults": {
           "bgcolor": "#506784",
           "borderwidth": 0
          },
          "xaxis": {
           "automargin": true,
           "gridcolor": "#283442",
           "linecolor": "#506784",
           "ticks": "",
           "title": {
            "standoff": 15
           },
           "zerolinecolor": "#283442",
           "zerolinewidth": 2
          },
          "yaxis": {
           "automargin": true,
           "gridcolor": "#283442",
           "linecolor": "#506784",
           "ticks": "",
           "title": {
            "standoff": 15
           },
           "zerolinecolor": "#283442",
           "zerolinewidth": 2
          }
         }
        },
        "title": {
         "text": "🔎 Correlation to TOP_20 — Season 2024"
        },
        "width": 1000,
        "xaxis": {
         "anchor": "y",
         "domain": [
          0,
          1
         ],
         "tickangle": -45,
         "title": {
          "text": "Feature"
         }
        },
        "yaxis": {
         "anchor": "x",
         "domain": [
          0,
          1
         ],
         "title": {
          "text": "Absolute Correlation to TOP_20"
         }
        }
       }
      }
     },
     "metadata": {},
     "output_type": "display_data"
    }
   ],
   "source": [
    "import plotly.express as px\n",
    "\n",
    "# Get the 4 most recent seasons (or fewer if not available)\n",
    "available_seasons = sorted(training_df[\"SEASON\"].unique())[-4:]\n",
    "\n",
    "# Dictionary to store correlation results\n",
    "correlation_frames = {}\n",
    "\n",
    "# Calculate correlations for each season\n",
    "for season in available_seasons:\n",
    "    df = training_df[training_df[\"SEASON\"] == season].copy()\n",
    "\n",
    "    # Numeric features only, drop final result\n",
    "    numeric = df.select_dtypes(include=[\"float64\", \"int64\"]).drop(columns=[\"FINAL_POS\", \"SEASON\"], errors=\"ignore\")\n",
    "\n",
    "    # Skip if TOP_20 is not present\n",
    "    if \"TOP_20\" not in numeric.columns:\n",
    "        continue\n",
    "\n",
    "    # Correlation with TOP_20\n",
    "    cor = numeric.corr().abs()[\"TOP_20\"].drop(\"TOP_20\", errors=\"ignore\").sort_values(ascending=False)\n",
    "    cor_df = cor.reset_index()\n",
    "    cor_df.columns = [\"Feature\", \"Correlation\"]\n",
    "    correlation_frames[season] = cor_df\n",
    "\n",
    "# Plot one bar chart per season\n",
    "for season, cor_df in correlation_frames.items():\n",
    "    fig = px.bar(\n",
    "        cor_df,\n",
    "        x=\"Feature\",\n",
    "        y=\"Correlation\",\n",
    "        title=f\"🔎 Correlation to TOP_20 — Season {int(season)}\",\n",
    "        height=500,\n",
    "        width=1000\n",
    "    )\n",
    "\n",
    "    fig.update_layout(\n",
    "        xaxis_title=\"Feature\",\n",
    "        yaxis_title=\"Absolute Correlation to TOP_20\",\n",
    "        template=\"plotly_dark\",\n",
    "        xaxis_tickangle=-45\n",
    "    )\n",
    "\n",
    "    fig.show()\n"
   ]
  },
  {
   "cell_type": "markdown",
   "id": "07c346c9",
   "metadata": {},
   "source": [
    "**Average of Last 4 Years**"
   ]
  },
  {
   "cell_type": "code",
   "execution_count": 56,
   "id": "aee0c2ea",
   "metadata": {},
   "outputs": [
    {
     "data": {
      "application/vnd.plotly.v1+json": {
       "config": {
        "plotlyServerURL": "https://plot.ly"
       },
       "data": [
        {
         "hovertemplate": "Feature=%{x}<br>Avg Correlation=%{y}<extra></extra>",
         "legendgroup": "",
         "marker": {
          "color": "#636efa",
          "pattern": {
           "shape": ""
          }
         },
         "name": "",
         "orientation": "v",
         "showlegend": false,
         "textposition": "auto",
         "type": "bar",
         "x": [
          "OWGR",
          "SGTTG",
          "form_density",
          "SGTTG_RANK",
          "RECENT_FORM",
          "FEDEX_CUP_POINTS",
          "BIRDIES",
          "SGAPR",
          "PAR_5",
          "SGAPR_RANK",
          "PAR_4",
          "SGOTT",
          "PAR_5_RANK",
          "BIRDIES_RANK",
          "SGOTT_RANK",
          "PAR_4_RANK",
          "CUT_PERCENTAGE",
          "OWGR_RANK",
          "VEGAS_ODDS",
          "GIR",
          "PAR_3",
          "PAR_3_RANK",
          "adj_form",
          "CONSECUTIVE_CUTS",
          "TOTAL_DRIVING_RANK",
          "TOTAL_DRIVING",
          "SGATG_RANK",
          "GIR_RANK",
          "SCRAMBLING_RANK",
          "SGATG",
          "SCRAMBLING",
          "DRIVING_DISTANCE",
          "DRIVING_DISTANCE_RANK",
          "adj_ch",
          "SGP",
          "SGP_RANK",
          "COURSE_HISTORY",
          "DRIVING_ACCURACY",
          "DRIVING_ACCURACY_RANK"
         ],
         "xaxis": "x",
         "y": {
          "bdata": "dpm5jQw73j8C/w2EmVzaPyboAZo3xdg/ifKbQVWw2D+zeREF3nbXP7hLk27RbNY/apEFsJVE1D8o8TSfSirUP6aO5YPD79M/rUJHSnlO0z83a0suhhTTP1Kb0qgH1NI/qTBAoGOt0j8Hs8QPisLRP9jufZvtX9E/x16Z7Gce0T9wZGYykhvRPwK7VrkuhdA/dhPMkRl50D9R6qND1wnMP/6xSESQ3cs/z6rEhTyZyz+Ev4mP9hrLPyBe8zb5yco/5BF18Rm4yj/+K8PYFFfKP0b7bf8Ivck/ah7+VrSMyT/2Sean4SDJPy4WLHkYscg/vBQtp5yzxz9fg4cioCbGPwOSC2+OkMM/l1FU1wE1wj8a3KkWGZ+/P6iRJlQP974/dHuctynzvD/ictkpUx63P41ShN0XorY/",
          "dtype": "f8"
         },
         "yaxis": "y"
        }
       ],
       "layout": {
        "barmode": "relative",
        "height": 600,
        "legend": {
         "tracegroupgap": 0
        },
        "showlegend": false,
        "template": {
         "data": {
          "bar": [
           {
            "error_x": {
             "color": "#f2f5fa"
            },
            "error_y": {
             "color": "#f2f5fa"
            },
            "marker": {
             "line": {
              "color": "rgb(17,17,17)",
              "width": 0.5
             },
             "pattern": {
              "fillmode": "overlay",
              "size": 10,
              "solidity": 0.2
             }
            },
            "type": "bar"
           }
          ],
          "barpolar": [
           {
            "marker": {
             "line": {
              "color": "rgb(17,17,17)",
              "width": 0.5
             },
             "pattern": {
              "fillmode": "overlay",
              "size": 10,
              "solidity": 0.2
             }
            },
            "type": "barpolar"
           }
          ],
          "carpet": [
           {
            "aaxis": {
             "endlinecolor": "#A2B1C6",
             "gridcolor": "#506784",
             "linecolor": "#506784",
             "minorgridcolor": "#506784",
             "startlinecolor": "#A2B1C6"
            },
            "baxis": {
             "endlinecolor": "#A2B1C6",
             "gridcolor": "#506784",
             "linecolor": "#506784",
             "minorgridcolor": "#506784",
             "startlinecolor": "#A2B1C6"
            },
            "type": "carpet"
           }
          ],
          "choropleth": [
           {
            "colorbar": {
             "outlinewidth": 0,
             "ticks": ""
            },
            "type": "choropleth"
           }
          ],
          "contour": [
           {
            "colorbar": {
             "outlinewidth": 0,
             "ticks": ""
            },
            "colorscale": [
             [
              0,
              "#0d0887"
             ],
             [
              0.1111111111111111,
              "#46039f"
             ],
             [
              0.2222222222222222,
              "#7201a8"
             ],
             [
              0.3333333333333333,
              "#9c179e"
             ],
             [
              0.4444444444444444,
              "#bd3786"
             ],
             [
              0.5555555555555556,
              "#d8576b"
             ],
             [
              0.6666666666666666,
              "#ed7953"
             ],
             [
              0.7777777777777778,
              "#fb9f3a"
             ],
             [
              0.8888888888888888,
              "#fdca26"
             ],
             [
              1,
              "#f0f921"
             ]
            ],
            "type": "contour"
           }
          ],
          "contourcarpet": [
           {
            "colorbar": {
             "outlinewidth": 0,
             "ticks": ""
            },
            "type": "contourcarpet"
           }
          ],
          "heatmap": [
           {
            "colorbar": {
             "outlinewidth": 0,
             "ticks": ""
            },
            "colorscale": [
             [
              0,
              "#0d0887"
             ],
             [
              0.1111111111111111,
              "#46039f"
             ],
             [
              0.2222222222222222,
              "#7201a8"
             ],
             [
              0.3333333333333333,
              "#9c179e"
             ],
             [
              0.4444444444444444,
              "#bd3786"
             ],
             [
              0.5555555555555556,
              "#d8576b"
             ],
             [
              0.6666666666666666,
              "#ed7953"
             ],
             [
              0.7777777777777778,
              "#fb9f3a"
             ],
             [
              0.8888888888888888,
              "#fdca26"
             ],
             [
              1,
              "#f0f921"
             ]
            ],
            "type": "heatmap"
           }
          ],
          "histogram": [
           {
            "marker": {
             "pattern": {
              "fillmode": "overlay",
              "size": 10,
              "solidity": 0.2
             }
            },
            "type": "histogram"
           }
          ],
          "histogram2d": [
           {
            "colorbar": {
             "outlinewidth": 0,
             "ticks": ""
            },
            "colorscale": [
             [
              0,
              "#0d0887"
             ],
             [
              0.1111111111111111,
              "#46039f"
             ],
             [
              0.2222222222222222,
              "#7201a8"
             ],
             [
              0.3333333333333333,
              "#9c179e"
             ],
             [
              0.4444444444444444,
              "#bd3786"
             ],
             [
              0.5555555555555556,
              "#d8576b"
             ],
             [
              0.6666666666666666,
              "#ed7953"
             ],
             [
              0.7777777777777778,
              "#fb9f3a"
             ],
             [
              0.8888888888888888,
              "#fdca26"
             ],
             [
              1,
              "#f0f921"
             ]
            ],
            "type": "histogram2d"
           }
          ],
          "histogram2dcontour": [
           {
            "colorbar": {
             "outlinewidth": 0,
             "ticks": ""
            },
            "colorscale": [
             [
              0,
              "#0d0887"
             ],
             [
              0.1111111111111111,
              "#46039f"
             ],
             [
              0.2222222222222222,
              "#7201a8"
             ],
             [
              0.3333333333333333,
              "#9c179e"
             ],
             [
              0.4444444444444444,
              "#bd3786"
             ],
             [
              0.5555555555555556,
              "#d8576b"
             ],
             [
              0.6666666666666666,
              "#ed7953"
             ],
             [
              0.7777777777777778,
              "#fb9f3a"
             ],
             [
              0.8888888888888888,
              "#fdca26"
             ],
             [
              1,
              "#f0f921"
             ]
            ],
            "type": "histogram2dcontour"
           }
          ],
          "mesh3d": [
           {
            "colorbar": {
             "outlinewidth": 0,
             "ticks": ""
            },
            "type": "mesh3d"
           }
          ],
          "parcoords": [
           {
            "line": {
             "colorbar": {
              "outlinewidth": 0,
              "ticks": ""
             }
            },
            "type": "parcoords"
           }
          ],
          "pie": [
           {
            "automargin": true,
            "type": "pie"
           }
          ],
          "scatter": [
           {
            "marker": {
             "line": {
              "color": "#283442"
             }
            },
            "type": "scatter"
           }
          ],
          "scatter3d": [
           {
            "line": {
             "colorbar": {
              "outlinewidth": 0,
              "ticks": ""
             }
            },
            "marker": {
             "colorbar": {
              "outlinewidth": 0,
              "ticks": ""
             }
            },
            "type": "scatter3d"
           }
          ],
          "scattercarpet": [
           {
            "marker": {
             "colorbar": {
              "outlinewidth": 0,
              "ticks": ""
             }
            },
            "type": "scattercarpet"
           }
          ],
          "scattergeo": [
           {
            "marker": {
             "colorbar": {
              "outlinewidth": 0,
              "ticks": ""
             }
            },
            "type": "scattergeo"
           }
          ],
          "scattergl": [
           {
            "marker": {
             "line": {
              "color": "#283442"
             }
            },
            "type": "scattergl"
           }
          ],
          "scattermap": [
           {
            "marker": {
             "colorbar": {
              "outlinewidth": 0,
              "ticks": ""
             }
            },
            "type": "scattermap"
           }
          ],
          "scattermapbox": [
           {
            "marker": {
             "colorbar": {
              "outlinewidth": 0,
              "ticks": ""
             }
            },
            "type": "scattermapbox"
           }
          ],
          "scatterpolar": [
           {
            "marker": {
             "colorbar": {
              "outlinewidth": 0,
              "ticks": ""
             }
            },
            "type": "scatterpolar"
           }
          ],
          "scatterpolargl": [
           {
            "marker": {
             "colorbar": {
              "outlinewidth": 0,
              "ticks": ""
             }
            },
            "type": "scatterpolargl"
           }
          ],
          "scatterternary": [
           {
            "marker": {
             "colorbar": {
              "outlinewidth": 0,
              "ticks": ""
             }
            },
            "type": "scatterternary"
           }
          ],
          "surface": [
           {
            "colorbar": {
             "outlinewidth": 0,
             "ticks": ""
            },
            "colorscale": [
             [
              0,
              "#0d0887"
             ],
             [
              0.1111111111111111,
              "#46039f"
             ],
             [
              0.2222222222222222,
              "#7201a8"
             ],
             [
              0.3333333333333333,
              "#9c179e"
             ],
             [
              0.4444444444444444,
              "#bd3786"
             ],
             [
              0.5555555555555556,
              "#d8576b"
             ],
             [
              0.6666666666666666,
              "#ed7953"
             ],
             [
              0.7777777777777778,
              "#fb9f3a"
             ],
             [
              0.8888888888888888,
              "#fdca26"
             ],
             [
              1,
              "#f0f921"
             ]
            ],
            "type": "surface"
           }
          ],
          "table": [
           {
            "cells": {
             "fill": {
              "color": "#506784"
             },
             "line": {
              "color": "rgb(17,17,17)"
             }
            },
            "header": {
             "fill": {
              "color": "#2a3f5f"
             },
             "line": {
              "color": "rgb(17,17,17)"
             }
            },
            "type": "table"
           }
          ]
         },
         "layout": {
          "annotationdefaults": {
           "arrowcolor": "#f2f5fa",
           "arrowhead": 0,
           "arrowwidth": 1
          },
          "autotypenumbers": "strict",
          "coloraxis": {
           "colorbar": {
            "outlinewidth": 0,
            "ticks": ""
           }
          },
          "colorscale": {
           "diverging": [
            [
             0,
             "#8e0152"
            ],
            [
             0.1,
             "#c51b7d"
            ],
            [
             0.2,
             "#de77ae"
            ],
            [
             0.3,
             "#f1b6da"
            ],
            [
             0.4,
             "#fde0ef"
            ],
            [
             0.5,
             "#f7f7f7"
            ],
            [
             0.6,
             "#e6f5d0"
            ],
            [
             0.7,
             "#b8e186"
            ],
            [
             0.8,
             "#7fbc41"
            ],
            [
             0.9,
             "#4d9221"
            ],
            [
             1,
             "#276419"
            ]
           ],
           "sequential": [
            [
             0,
             "#0d0887"
            ],
            [
             0.1111111111111111,
             "#46039f"
            ],
            [
             0.2222222222222222,
             "#7201a8"
            ],
            [
             0.3333333333333333,
             "#9c179e"
            ],
            [
             0.4444444444444444,
             "#bd3786"
            ],
            [
             0.5555555555555556,
             "#d8576b"
            ],
            [
             0.6666666666666666,
             "#ed7953"
            ],
            [
             0.7777777777777778,
             "#fb9f3a"
            ],
            [
             0.8888888888888888,
             "#fdca26"
            ],
            [
             1,
             "#f0f921"
            ]
           ],
           "sequentialminus": [
            [
             0,
             "#0d0887"
            ],
            [
             0.1111111111111111,
             "#46039f"
            ],
            [
             0.2222222222222222,
             "#7201a8"
            ],
            [
             0.3333333333333333,
             "#9c179e"
            ],
            [
             0.4444444444444444,
             "#bd3786"
            ],
            [
             0.5555555555555556,
             "#d8576b"
            ],
            [
             0.6666666666666666,
             "#ed7953"
            ],
            [
             0.7777777777777778,
             "#fb9f3a"
            ],
            [
             0.8888888888888888,
             "#fdca26"
            ],
            [
             1,
             "#f0f921"
            ]
           ]
          },
          "colorway": [
           "#636efa",
           "#EF553B",
           "#00cc96",
           "#ab63fa",
           "#FFA15A",
           "#19d3f3",
           "#FF6692",
           "#B6E880",
           "#FF97FF",
           "#FECB52"
          ],
          "font": {
           "color": "#f2f5fa"
          },
          "geo": {
           "bgcolor": "rgb(17,17,17)",
           "lakecolor": "rgb(17,17,17)",
           "landcolor": "rgb(17,17,17)",
           "showlakes": true,
           "showland": true,
           "subunitcolor": "#506784"
          },
          "hoverlabel": {
           "align": "left"
          },
          "hovermode": "closest",
          "mapbox": {
           "style": "dark"
          },
          "paper_bgcolor": "rgb(17,17,17)",
          "plot_bgcolor": "rgb(17,17,17)",
          "polar": {
           "angularaxis": {
            "gridcolor": "#506784",
            "linecolor": "#506784",
            "ticks": ""
           },
           "bgcolor": "rgb(17,17,17)",
           "radialaxis": {
            "gridcolor": "#506784",
            "linecolor": "#506784",
            "ticks": ""
           }
          },
          "scene": {
           "xaxis": {
            "backgroundcolor": "rgb(17,17,17)",
            "gridcolor": "#506784",
            "gridwidth": 2,
            "linecolor": "#506784",
            "showbackground": true,
            "ticks": "",
            "zerolinecolor": "#C8D4E3"
           },
           "yaxis": {
            "backgroundcolor": "rgb(17,17,17)",
            "gridcolor": "#506784",
            "gridwidth": 2,
            "linecolor": "#506784",
            "showbackground": true,
            "ticks": "",
            "zerolinecolor": "#C8D4E3"
           },
           "zaxis": {
            "backgroundcolor": "rgb(17,17,17)",
            "gridcolor": "#506784",
            "gridwidth": 2,
            "linecolor": "#506784",
            "showbackground": true,
            "ticks": "",
            "zerolinecolor": "#C8D4E3"
           }
          },
          "shapedefaults": {
           "line": {
            "color": "#f2f5fa"
           }
          },
          "sliderdefaults": {
           "bgcolor": "#C8D4E3",
           "bordercolor": "rgb(17,17,17)",
           "borderwidth": 1,
           "tickwidth": 0
          },
          "ternary": {
           "aaxis": {
            "gridcolor": "#506784",
            "linecolor": "#506784",
            "ticks": ""
           },
           "baxis": {
            "gridcolor": "#506784",
            "linecolor": "#506784",
            "ticks": ""
           },
           "bgcolor": "rgb(17,17,17)",
           "caxis": {
            "gridcolor": "#506784",
            "linecolor": "#506784",
            "ticks": ""
           }
          },
          "title": {
           "x": 0.05
          },
          "updatemenudefaults": {
           "bgcolor": "#506784",
           "borderwidth": 0
          },
          "xaxis": {
           "automargin": true,
           "gridcolor": "#283442",
           "linecolor": "#506784",
           "ticks": "",
           "title": {
            "standoff": 15
           },
           "zerolinecolor": "#283442",
           "zerolinewidth": 2
          },
          "yaxis": {
           "automargin": true,
           "gridcolor": "#283442",
           "linecolor": "#506784",
           "ticks": "",
           "title": {
            "standoff": 15
           },
           "zerolinecolor": "#283442",
           "zerolinewidth": 2
          }
         }
        },
        "title": {
         "text": "Average Correlation to TOP_20 (Last 4 Seasons)"
        },
        "width": 1000,
        "xaxis": {
         "anchor": "y",
         "domain": [
          0,
          1
         ],
         "tickangle": -45,
         "title": {
          "text": "Feature"
         }
        },
        "yaxis": {
         "anchor": "x",
         "domain": [
          0,
          1
         ],
         "title": {
          "text": "Avg Correlation"
         }
        }
       }
      }
     },
     "metadata": {},
     "output_type": "display_data"
    }
   ],
   "source": [
    "import pandas as pd\n",
    "import numpy as np\n",
    "import plotly.express as px\n",
    "\n",
    "# === Rebuild correlation matrices for the 4 most recent seasons ===\n",
    "cor = {}\n",
    "recent_seasons = sorted(training_df[\"SEASON\"].unique())[-4:]\n",
    "\n",
    "for season in recent_seasons:\n",
    "    df_season = training_df[training_df[\"SEASON\"] == season].copy()\n",
    "    numeric_cols = df_season.select_dtypes(include=[\"float64\", \"int64\"])\n",
    "    cor[int(season)] = numeric_cols.corr().abs()\n",
    "\n",
    "# === Combine into one summary DataFrame ===\n",
    "cor_df = pd.DataFrame()\n",
    "\n",
    "for season in recent_seasons:\n",
    "    df = cor[season].reset_index()\n",
    "    if \"TOP_20\" not in df.columns:\n",
    "        continue\n",
    "    temp = df[[\"index\", \"TOP_20\"]].copy()\n",
    "    temp = temp.rename(columns={\"TOP_20\": str(season)})\n",
    "    if cor_df.empty:\n",
    "        cor_df = temp\n",
    "    else:\n",
    "        cor_df = cor_df.merge(temp, on=\"index\", how=\"outer\")\n",
    "\n",
    "# Drop target and metadata rows\n",
    "cor_df = cor_df[~cor_df[\"index\"].isin([\"TOP_20\", \"FINAL_POS\", \"SEASON\"])]\n",
    "\n",
    "# Compute average correlation across seasons\n",
    "cor_df[\"AVERAGE\"] = cor_df.drop(columns=[\"index\"]).mean(axis=1)\n",
    "cor_df = cor_df.sort_values(by=\"AVERAGE\", ascending=False)\n",
    "\n",
    "# === Plotly Bar Chart ===\n",
    "fig = px.bar(\n",
    "    cor_df,\n",
    "    x=\"index\",\n",
    "    y=\"AVERAGE\",\n",
    "    title=\"Average Correlation to TOP_20 (Last 4 Seasons)\",\n",
    "    labels={\"index\": \"Feature\", \"AVERAGE\": \"Avg Correlation\"},\n",
    "    template=\"plotly_dark\"\n",
    ")\n",
    "\n",
    "fig.update_layout(\n",
    "    xaxis_tickangle=-45,\n",
    "    height=600,\n",
    "    width=1000,\n",
    "    showlegend=False\n",
    ")\n",
    "\n",
    "fig.show()\n"
   ]
  },
  {
   "cell_type": "markdown",
   "id": "b551789e",
   "metadata": {},
   "source": [
    "# ML Model"
   ]
  },
  {
   "cell_type": "markdown",
   "id": "d7df2d9b",
   "metadata": {},
   "source": [
    "## Predictors"
   ]
  },
  {
   "cell_type": "code",
   "execution_count": 57,
   "id": "7de6b0ed",
   "metadata": {},
   "outputs": [
    {
     "name": "stdout",
     "output_type": "stream",
     "text": [
      "Selected 39 features:\n",
      " ['SGTTG_RANK', 'SGTTG', 'SGOTT_RANK', 'SGOTT', 'SGAPR_RANK', 'SGAPR', 'SGATG_RANK', 'SGATG', 'SGP_RANK', 'SGP', 'BIRDIES_RANK', 'BIRDIES', 'PAR_3_RANK', 'PAR_3', 'PAR_4_RANK', 'PAR_4', 'PAR_5_RANK', 'PAR_5', 'TOTAL_DRIVING_RANK', 'TOTAL_DRIVING', 'DRIVING_DISTANCE_RANK', 'DRIVING_DISTANCE', 'DRIVING_ACCURACY_RANK', 'DRIVING_ACCURACY', 'GIR_RANK', 'GIR', 'SCRAMBLING_RANK', 'SCRAMBLING', 'OWGR_RANK', 'OWGR', 'VEGAS_ODDS', 'CUT_PERCENTAGE', 'FEDEX_CUP_POINTS', 'form_density', 'CONSECUTIVE_CUTS', 'RECENT_FORM', 'adj_form', 'COURSE_HISTORY', 'adj_ch']\n"
     ]
    }
   ],
   "source": [
    "# === Define Features and Target ===\n",
    "target_col = \"TOP_20\"\n",
    "\n",
    "# Columns to exclude from features\n",
    "exclude = [\n",
    "    \"PLAYER\", \"TOURNAMENT\", \"COURSE\", \"ENDING_DATE\", \"SEASON\", \"TOURN_ID\",\n",
    "    \"TOP_20\", \"FINAL_POS\"  \n",
    "]\n",
    "\n",
    "# Select numeric feature columns\n",
    "feature_cols = [\n",
    "    col for col in training_df.columns\n",
    "    if col not in exclude and training_df[col].dtype in [np.float64, np.int64]\n",
    "]\n",
    "\n",
    "print(f\"Selected {len(feature_cols)} features:\\n\", feature_cols)"
   ]
  },
  {
   "cell_type": "markdown",
   "id": "8cb568b3",
   "metadata": {},
   "source": [
    "### Random Forest\n",
    "Initial default model before hyperparameter tuning.\n",
    "\n",
    "This one actually performed really well (ROC AUC above 0.85).  Strangely doing hyperparameter tuning hurt the model (less than 0.7), so I removed that step and we will just use this default model.  This does cross-validation testing on 5 folds to ensure robust train/test splits."
   ]
  },
  {
   "cell_type": "code",
   "execution_count": 58,
   "id": "4879d3d9",
   "metadata": {},
   "outputs": [
    {
     "name": "stdout",
     "output_type": "stream",
     "text": [
      "📊 Random Forest (All Features)\n",
      "Cross-validation scores: [0.89959367 0.90246014 0.90415554 0.86342977 0.91060671]\n",
      "Average ROC AUC score: 0.90\n"
     ]
    }
   ],
   "source": [
    "from sklearn.ensemble import RandomForestClassifier\n",
    "from sklearn.model_selection import cross_val_score, StratifiedKFold\n",
    "from sklearn.preprocessing import StandardScaler\n",
    "from imblearn.over_sampling import SMOTE\n",
    "from imblearn.under_sampling import RandomUnderSampler\n",
    "from imblearn.pipeline import Pipeline\n",
    "\n",
    "# === Standardize features ===\n",
    "scaler = StandardScaler()\n",
    "X_rf_std = scaler.fit_transform(training_df[feature_cols])\n",
    "y_rf = training_df[\"TOP_20\"]\n",
    "\n",
    "# === Balance the dataset with SMOTE and undersampling ===\n",
    "over = SMOTE(sampling_strategy=0.5, k_neighbors=3)\n",
    "under = RandomUnderSampler(sampling_strategy=0.5)\n",
    "pipeline = Pipeline([(\"o\", over), (\"u\", under)])\n",
    "X_rf_bal, y_rf_bal = pipeline.fit_resample(X_rf_std, y_rf)\n",
    "\n",
    "# === Define and evaluate Random Forest ===\n",
    "rf = RandomForestClassifier(n_estimators=100, random_state=42)\n",
    "cv = StratifiedKFold(n_splits=5, shuffle=True, random_state=42)\n",
    "scores = cross_val_score(rf, X_rf_bal, y_rf_bal, cv=cv, scoring=\"roc_auc\")\n",
    "\n",
    "print(\"📊 Random Forest (All Features)\")\n",
    "print(\"Cross-validation scores:\", scores)\n",
    "print(\"Average ROC AUC score: {:.2f}\".format(scores.mean()))\n"
   ]
  },
  {
   "cell_type": "markdown",
   "id": "4fe9c753",
   "metadata": {},
   "source": [
    "Random Forest Training & Feature Importance\n",
    "\n",
    "Now we train on all the data (no longer cross-validation folds) and extract the feature importance to see how it compares with linear correlations.\n"
   ]
  },
  {
   "cell_type": "code",
   "execution_count": 59,
   "id": "74c2a8b7",
   "metadata": {},
   "outputs": [
    {
     "data": {
      "application/vnd.plotly.v1+json": {
       "config": {
        "plotlyServerURL": "https://plot.ly"
       },
       "data": [
        {
         "hovertemplate": "Feature=%{x}<br>Importance=%{y}<extra></extra>",
         "legendgroup": "",
         "marker": {
          "color": "#636efa",
          "pattern": {
           "shape": ""
          }
         },
         "name": "",
         "orientation": "v",
         "showlegend": false,
         "textposition": "auto",
         "type": "bar",
         "x": [
          "OWGR",
          "OWGR_RANK",
          "VEGAS_ODDS",
          "SGTTG",
          "SGTTG_RANK",
          "SGATG_RANK",
          "BIRDIES",
          "RECENT_FORM",
          "SGOTT_RANK",
          "SGP_RANK",
          "SGP",
          "SGOTT",
          "PAR_4",
          "SGATG",
          "SCRAMBLING",
          "CUT_PERCENTAGE",
          "FEDEX_CUP_POINTS",
          "BIRDIES_RANK",
          "SGAPR",
          "PAR_5_RANK",
          "form_density",
          "DRIVING_DISTANCE_RANK",
          "adj_form",
          "PAR_5",
          "CONSECUTIVE_CUTS",
          "SGAPR_RANK",
          "adj_ch",
          "COURSE_HISTORY",
          "GIR",
          "PAR_3_RANK",
          "TOTAL_DRIVING",
          "GIR_RANK",
          "SCRAMBLING_RANK",
          "PAR_4_RANK",
          "DRIVING_DISTANCE",
          "PAR_3",
          "DRIVING_ACCURACY",
          "TOTAL_DRIVING_RANK",
          "DRIVING_ACCURACY_RANK"
         ],
         "xaxis": "x",
         "y": {
          "bdata": "QFMGVyK8sD9fqWLkwfKsP17TTAKqh6Y/DhWI0SKCpT9uXyJjRpekP6Jd17uWdJ4/maR0Nd9nnj/++2LijBqeP7l+eiR1SZ0/jP7SQTj/nD9ZYd9klKScP+xUvF6LNpw/8EJG7wlgmj/HfNsMozmaP9j2ppodUZk/5579vT7RmD9PCvR4VkKYP9X877mZJJg/mvJ5RFUCmD9zsWyGa7OWP1DAKW10VpY/fEfEKMtKlj/P2qYaJC2WP5jZpOvAD5Y/ZSIl4td9lT9KA29GBRWVPwHhfQDX/pQ/XAXafOA1lD+EpavQPA6UP9KGMkQa15M/F6liW8cYkz9MMK+THMeSPwkl7yBHD5I/QED74+YBkj++x+gZ6DSRP3j4F7I1IZE/eIjpQL56kD85Y78JcWuPP33hfoAW44k/",
          "dtype": "f8"
         },
         "yaxis": "y"
        }
       ],
       "layout": {
        "barmode": "relative",
        "legend": {
         "tracegroupgap": 0
        },
        "template": {
         "data": {
          "bar": [
           {
            "error_x": {
             "color": "#f2f5fa"
            },
            "error_y": {
             "color": "#f2f5fa"
            },
            "marker": {
             "line": {
              "color": "rgb(17,17,17)",
              "width": 0.5
             },
             "pattern": {
              "fillmode": "overlay",
              "size": 10,
              "solidity": 0.2
             }
            },
            "type": "bar"
           }
          ],
          "barpolar": [
           {
            "marker": {
             "line": {
              "color": "rgb(17,17,17)",
              "width": 0.5
             },
             "pattern": {
              "fillmode": "overlay",
              "size": 10,
              "solidity": 0.2
             }
            },
            "type": "barpolar"
           }
          ],
          "carpet": [
           {
            "aaxis": {
             "endlinecolor": "#A2B1C6",
             "gridcolor": "#506784",
             "linecolor": "#506784",
             "minorgridcolor": "#506784",
             "startlinecolor": "#A2B1C6"
            },
            "baxis": {
             "endlinecolor": "#A2B1C6",
             "gridcolor": "#506784",
             "linecolor": "#506784",
             "minorgridcolor": "#506784",
             "startlinecolor": "#A2B1C6"
            },
            "type": "carpet"
           }
          ],
          "choropleth": [
           {
            "colorbar": {
             "outlinewidth": 0,
             "ticks": ""
            },
            "type": "choropleth"
           }
          ],
          "contour": [
           {
            "colorbar": {
             "outlinewidth": 0,
             "ticks": ""
            },
            "colorscale": [
             [
              0,
              "#0d0887"
             ],
             [
              0.1111111111111111,
              "#46039f"
             ],
             [
              0.2222222222222222,
              "#7201a8"
             ],
             [
              0.3333333333333333,
              "#9c179e"
             ],
             [
              0.4444444444444444,
              "#bd3786"
             ],
             [
              0.5555555555555556,
              "#d8576b"
             ],
             [
              0.6666666666666666,
              "#ed7953"
             ],
             [
              0.7777777777777778,
              "#fb9f3a"
             ],
             [
              0.8888888888888888,
              "#fdca26"
             ],
             [
              1,
              "#f0f921"
             ]
            ],
            "type": "contour"
           }
          ],
          "contourcarpet": [
           {
            "colorbar": {
             "outlinewidth": 0,
             "ticks": ""
            },
            "type": "contourcarpet"
           }
          ],
          "heatmap": [
           {
            "colorbar": {
             "outlinewidth": 0,
             "ticks": ""
            },
            "colorscale": [
             [
              0,
              "#0d0887"
             ],
             [
              0.1111111111111111,
              "#46039f"
             ],
             [
              0.2222222222222222,
              "#7201a8"
             ],
             [
              0.3333333333333333,
              "#9c179e"
             ],
             [
              0.4444444444444444,
              "#bd3786"
             ],
             [
              0.5555555555555556,
              "#d8576b"
             ],
             [
              0.6666666666666666,
              "#ed7953"
             ],
             [
              0.7777777777777778,
              "#fb9f3a"
             ],
             [
              0.8888888888888888,
              "#fdca26"
             ],
             [
              1,
              "#f0f921"
             ]
            ],
            "type": "heatmap"
           }
          ],
          "histogram": [
           {
            "marker": {
             "pattern": {
              "fillmode": "overlay",
              "size": 10,
              "solidity": 0.2
             }
            },
            "type": "histogram"
           }
          ],
          "histogram2d": [
           {
            "colorbar": {
             "outlinewidth": 0,
             "ticks": ""
            },
            "colorscale": [
             [
              0,
              "#0d0887"
             ],
             [
              0.1111111111111111,
              "#46039f"
             ],
             [
              0.2222222222222222,
              "#7201a8"
             ],
             [
              0.3333333333333333,
              "#9c179e"
             ],
             [
              0.4444444444444444,
              "#bd3786"
             ],
             [
              0.5555555555555556,
              "#d8576b"
             ],
             [
              0.6666666666666666,
              "#ed7953"
             ],
             [
              0.7777777777777778,
              "#fb9f3a"
             ],
             [
              0.8888888888888888,
              "#fdca26"
             ],
             [
              1,
              "#f0f921"
             ]
            ],
            "type": "histogram2d"
           }
          ],
          "histogram2dcontour": [
           {
            "colorbar": {
             "outlinewidth": 0,
             "ticks": ""
            },
            "colorscale": [
             [
              0,
              "#0d0887"
             ],
             [
              0.1111111111111111,
              "#46039f"
             ],
             [
              0.2222222222222222,
              "#7201a8"
             ],
             [
              0.3333333333333333,
              "#9c179e"
             ],
             [
              0.4444444444444444,
              "#bd3786"
             ],
             [
              0.5555555555555556,
              "#d8576b"
             ],
             [
              0.6666666666666666,
              "#ed7953"
             ],
             [
              0.7777777777777778,
              "#fb9f3a"
             ],
             [
              0.8888888888888888,
              "#fdca26"
             ],
             [
              1,
              "#f0f921"
             ]
            ],
            "type": "histogram2dcontour"
           }
          ],
          "mesh3d": [
           {
            "colorbar": {
             "outlinewidth": 0,
             "ticks": ""
            },
            "type": "mesh3d"
           }
          ],
          "parcoords": [
           {
            "line": {
             "colorbar": {
              "outlinewidth": 0,
              "ticks": ""
             }
            },
            "type": "parcoords"
           }
          ],
          "pie": [
           {
            "automargin": true,
            "type": "pie"
           }
          ],
          "scatter": [
           {
            "marker": {
             "line": {
              "color": "#283442"
             }
            },
            "type": "scatter"
           }
          ],
          "scatter3d": [
           {
            "line": {
             "colorbar": {
              "outlinewidth": 0,
              "ticks": ""
             }
            },
            "marker": {
             "colorbar": {
              "outlinewidth": 0,
              "ticks": ""
             }
            },
            "type": "scatter3d"
           }
          ],
          "scattercarpet": [
           {
            "marker": {
             "colorbar": {
              "outlinewidth": 0,
              "ticks": ""
             }
            },
            "type": "scattercarpet"
           }
          ],
          "scattergeo": [
           {
            "marker": {
             "colorbar": {
              "outlinewidth": 0,
              "ticks": ""
             }
            },
            "type": "scattergeo"
           }
          ],
          "scattergl": [
           {
            "marker": {
             "line": {
              "color": "#283442"
             }
            },
            "type": "scattergl"
           }
          ],
          "scattermap": [
           {
            "marker": {
             "colorbar": {
              "outlinewidth": 0,
              "ticks": ""
             }
            },
            "type": "scattermap"
           }
          ],
          "scattermapbox": [
           {
            "marker": {
             "colorbar": {
              "outlinewidth": 0,
              "ticks": ""
             }
            },
            "type": "scattermapbox"
           }
          ],
          "scatterpolar": [
           {
            "marker": {
             "colorbar": {
              "outlinewidth": 0,
              "ticks": ""
             }
            },
            "type": "scatterpolar"
           }
          ],
          "scatterpolargl": [
           {
            "marker": {
             "colorbar": {
              "outlinewidth": 0,
              "ticks": ""
             }
            },
            "type": "scatterpolargl"
           }
          ],
          "scatterternary": [
           {
            "marker": {
             "colorbar": {
              "outlinewidth": 0,
              "ticks": ""
             }
            },
            "type": "scatterternary"
           }
          ],
          "surface": [
           {
            "colorbar": {
             "outlinewidth": 0,
             "ticks": ""
            },
            "colorscale": [
             [
              0,
              "#0d0887"
             ],
             [
              0.1111111111111111,
              "#46039f"
             ],
             [
              0.2222222222222222,
              "#7201a8"
             ],
             [
              0.3333333333333333,
              "#9c179e"
             ],
             [
              0.4444444444444444,
              "#bd3786"
             ],
             [
              0.5555555555555556,
              "#d8576b"
             ],
             [
              0.6666666666666666,
              "#ed7953"
             ],
             [
              0.7777777777777778,
              "#fb9f3a"
             ],
             [
              0.8888888888888888,
              "#fdca26"
             ],
             [
              1,
              "#f0f921"
             ]
            ],
            "type": "surface"
           }
          ],
          "table": [
           {
            "cells": {
             "fill": {
              "color": "#506784"
             },
             "line": {
              "color": "rgb(17,17,17)"
             }
            },
            "header": {
             "fill": {
              "color": "#2a3f5f"
             },
             "line": {
              "color": "rgb(17,17,17)"
             }
            },
            "type": "table"
           }
          ]
         },
         "layout": {
          "annotationdefaults": {
           "arrowcolor": "#f2f5fa",
           "arrowhead": 0,
           "arrowwidth": 1
          },
          "autotypenumbers": "strict",
          "coloraxis": {
           "colorbar": {
            "outlinewidth": 0,
            "ticks": ""
           }
          },
          "colorscale": {
           "diverging": [
            [
             0,
             "#8e0152"
            ],
            [
             0.1,
             "#c51b7d"
            ],
            [
             0.2,
             "#de77ae"
            ],
            [
             0.3,
             "#f1b6da"
            ],
            [
             0.4,
             "#fde0ef"
            ],
            [
             0.5,
             "#f7f7f7"
            ],
            [
             0.6,
             "#e6f5d0"
            ],
            [
             0.7,
             "#b8e186"
            ],
            [
             0.8,
             "#7fbc41"
            ],
            [
             0.9,
             "#4d9221"
            ],
            [
             1,
             "#276419"
            ]
           ],
           "sequential": [
            [
             0,
             "#0d0887"
            ],
            [
             0.1111111111111111,
             "#46039f"
            ],
            [
             0.2222222222222222,
             "#7201a8"
            ],
            [
             0.3333333333333333,
             "#9c179e"
            ],
            [
             0.4444444444444444,
             "#bd3786"
            ],
            [
             0.5555555555555556,
             "#d8576b"
            ],
            [
             0.6666666666666666,
             "#ed7953"
            ],
            [
             0.7777777777777778,
             "#fb9f3a"
            ],
            [
             0.8888888888888888,
             "#fdca26"
            ],
            [
             1,
             "#f0f921"
            ]
           ],
           "sequentialminus": [
            [
             0,
             "#0d0887"
            ],
            [
             0.1111111111111111,
             "#46039f"
            ],
            [
             0.2222222222222222,
             "#7201a8"
            ],
            [
             0.3333333333333333,
             "#9c179e"
            ],
            [
             0.4444444444444444,
             "#bd3786"
            ],
            [
             0.5555555555555556,
             "#d8576b"
            ],
            [
             0.6666666666666666,
             "#ed7953"
            ],
            [
             0.7777777777777778,
             "#fb9f3a"
            ],
            [
             0.8888888888888888,
             "#fdca26"
            ],
            [
             1,
             "#f0f921"
            ]
           ]
          },
          "colorway": [
           "#636efa",
           "#EF553B",
           "#00cc96",
           "#ab63fa",
           "#FFA15A",
           "#19d3f3",
           "#FF6692",
           "#B6E880",
           "#FF97FF",
           "#FECB52"
          ],
          "font": {
           "color": "#f2f5fa"
          },
          "geo": {
           "bgcolor": "rgb(17,17,17)",
           "lakecolor": "rgb(17,17,17)",
           "landcolor": "rgb(17,17,17)",
           "showlakes": true,
           "showland": true,
           "subunitcolor": "#506784"
          },
          "hoverlabel": {
           "align": "left"
          },
          "hovermode": "closest",
          "mapbox": {
           "style": "dark"
          },
          "paper_bgcolor": "rgb(17,17,17)",
          "plot_bgcolor": "rgb(17,17,17)",
          "polar": {
           "angularaxis": {
            "gridcolor": "#506784",
            "linecolor": "#506784",
            "ticks": ""
           },
           "bgcolor": "rgb(17,17,17)",
           "radialaxis": {
            "gridcolor": "#506784",
            "linecolor": "#506784",
            "ticks": ""
           }
          },
          "scene": {
           "xaxis": {
            "backgroundcolor": "rgb(17,17,17)",
            "gridcolor": "#506784",
            "gridwidth": 2,
            "linecolor": "#506784",
            "showbackground": true,
            "ticks": "",
            "zerolinecolor": "#C8D4E3"
           },
           "yaxis": {
            "backgroundcolor": "rgb(17,17,17)",
            "gridcolor": "#506784",
            "gridwidth": 2,
            "linecolor": "#506784",
            "showbackground": true,
            "ticks": "",
            "zerolinecolor": "#C8D4E3"
           },
           "zaxis": {
            "backgroundcolor": "rgb(17,17,17)",
            "gridcolor": "#506784",
            "gridwidth": 2,
            "linecolor": "#506784",
            "showbackground": true,
            "ticks": "",
            "zerolinecolor": "#C8D4E3"
           }
          },
          "shapedefaults": {
           "line": {
            "color": "#f2f5fa"
           }
          },
          "sliderdefaults": {
           "bgcolor": "#C8D4E3",
           "bordercolor": "rgb(17,17,17)",
           "borderwidth": 1,
           "tickwidth": 0
          },
          "ternary": {
           "aaxis": {
            "gridcolor": "#506784",
            "linecolor": "#506784",
            "ticks": ""
           },
           "baxis": {
            "gridcolor": "#506784",
            "linecolor": "#506784",
            "ticks": ""
           },
           "bgcolor": "rgb(17,17,17)",
           "caxis": {
            "gridcolor": "#506784",
            "linecolor": "#506784",
            "ticks": ""
           }
          },
          "title": {
           "x": 0.05
          },
          "updatemenudefaults": {
           "bgcolor": "#506784",
           "borderwidth": 0
          },
          "xaxis": {
           "automargin": true,
           "gridcolor": "#283442",
           "linecolor": "#506784",
           "ticks": "",
           "title": {
            "standoff": 15
           },
           "zerolinecolor": "#283442",
           "zerolinewidth": 2
          },
          "yaxis": {
           "automargin": true,
           "gridcolor": "#283442",
           "linecolor": "#506784",
           "ticks": "",
           "title": {
            "standoff": 15
           },
           "zerolinecolor": "#283442",
           "zerolinewidth": 2
          }
         }
        },
        "title": {
         "text": "Random Forest Feature Importances"
        },
        "xaxis": {
         "anchor": "y",
         "domain": [
          0,
          1
         ],
         "tickangle": -45,
         "title": {
          "text": "Feature"
         }
        },
        "yaxis": {
         "anchor": "x",
         "domain": [
          0,
          1
         ],
         "title": {
          "text": "Importance"
         }
        }
       }
      }
     },
     "metadata": {},
     "output_type": "display_data"
    }
   ],
   "source": [
    "from sklearn.ensemble import RandomForestClassifier\n",
    "from sklearn.calibration import CalibratedClassifierCV\n",
    "from sklearn.preprocessing import StandardScaler\n",
    "from imblearn.pipeline import Pipeline\n",
    "from imblearn.over_sampling import SMOTE\n",
    "from imblearn.under_sampling import RandomUnderSampler\n",
    "import pandas as pd\n",
    "import plotly.express as px\n",
    "\n",
    "# === Resample the full dataset ===\n",
    "over = SMOTE(sampling_strategy=0.5, k_neighbors=3)\n",
    "under = RandomUnderSampler(sampling_strategy=0.5)\n",
    "resample_pipeline = Pipeline([(\"o\", over), (\"u\", under)])\n",
    "X_all_resampled, y_all_resampled = resample_pipeline.fit_resample(\n",
    "    training_df[feature_cols], training_df[\"TOP_20\"]\n",
    ")\n",
    "\n",
    "# === Standardize ===\n",
    "scaler = StandardScaler()\n",
    "X_all_scaled = scaler.fit_transform(X_all_resampled)\n",
    "\n",
    "# === Train Calibrated Random Forest ===\n",
    "base_rf = RandomForestClassifier(random_state=42)\n",
    "final_model = CalibratedClassifierCV(estimator=base_rf, method=\"sigmoid\", cv=5)\n",
    "final_model.fit(X_all_scaled, y_all_resampled)\n",
    "\n",
    "# === Extract feature importances from one of the inner estimators ===\n",
    "rf_model = final_model.calibrated_classifiers_[0].estimator\n",
    "importances = rf_model.feature_importances_\n",
    "importance_df = pd.DataFrame({\n",
    "    \"Feature\": feature_cols,\n",
    "    \"Importance\": importances\n",
    "}).sort_values(by=\"Importance\", ascending=False)\n",
    "\n",
    "# === Plot feature importances ===\n",
    "fig = px.bar(\n",
    "    importance_df,\n",
    "    x=\"Feature\",\n",
    "    y=\"Importance\",\n",
    "    title=\"Random Forest Feature Importances\",\n",
    "    template=\"plotly_dark\"\n",
    ")\n",
    "fig.update_layout(xaxis_tickangle=-45)\n",
    "fig.show()\n"
   ]
  },
  {
   "cell_type": "markdown",
   "id": "e5e84f8a",
   "metadata": {},
   "source": [
    "Use this model on this week's data to predict the best performers."
   ]
  },
  {
   "cell_type": "code",
   "execution_count": 60,
   "id": "f0bf9b7d",
   "metadata": {},
   "outputs": [
    {
     "data": {
      "text/html": [
       "<div>\n",
       "<style scoped>\n",
       "    .dataframe tbody tr th:only-of-type {\n",
       "        vertical-align: middle;\n",
       "    }\n",
       "\n",
       "    .dataframe tbody tr th {\n",
       "        vertical-align: top;\n",
       "    }\n",
       "\n",
       "    .dataframe thead th {\n",
       "        text-align: right;\n",
       "    }\n",
       "</style>\n",
       "<table border=\"1\" class=\"dataframe\">\n",
       "  <thead>\n",
       "    <tr style=\"text-align: right;\">\n",
       "      <th></th>\n",
       "      <th>PLAYER</th>\n",
       "      <th>SALARY</th>\n",
       "      <th>PROBABILITY</th>\n",
       "      <th>RECENT_FORM</th>\n",
       "      <th>COURSE_HISTORY</th>\n",
       "      <th>VEGAS_ODDS</th>\n",
       "      <th>CUT_PERCENTAGE</th>\n",
       "      <th>OWGR_RANK</th>\n",
       "      <th>FEDEX_CUP_POINTS</th>\n",
       "      <th>SGTTG_RANK</th>\n",
       "      <th>SGOTT_RANK</th>\n",
       "      <th>SGAPR_RANK</th>\n",
       "      <th>SGATG_RANK</th>\n",
       "      <th>SGP_RANK</th>\n",
       "      <th>BIRDIES_RANK</th>\n",
       "      <th>PAR_3_RANK</th>\n",
       "      <th>PAR_4_RANK</th>\n",
       "      <th>PAR_5_RANK</th>\n",
       "      <th>TOTAL_DRIVING_RANK</th>\n",
       "      <th>DRIVING_DISTANCE_RANK</th>\n",
       "      <th>DRIVING_ACCURACY_RANK</th>\n",
       "      <th>GIR_RANK</th>\n",
       "      <th>SCRAMBLING_RANK</th>\n",
       "    </tr>\n",
       "  </thead>\n",
       "  <tbody>\n",
       "    <tr>\n",
       "      <th>0</th>\n",
       "      <td>Shane Lowry</td>\n",
       "      <td>8700</td>\n",
       "      <td>0.797711</td>\n",
       "      <td>29.9</td>\n",
       "      <td>40.800000</td>\n",
       "      <td>35.00</td>\n",
       "      <td>81.8</td>\n",
       "      <td>14.0</td>\n",
       "      <td>1273.139</td>\n",
       "      <td>2.0</td>\n",
       "      <td>34.0</td>\n",
       "      <td>6.0</td>\n",
       "      <td>18.0</td>\n",
       "      <td>86.0</td>\n",
       "      <td>58.0</td>\n",
       "      <td>9.0</td>\n",
       "      <td>19.0</td>\n",
       "      <td>139.0</td>\n",
       "      <td>77.0</td>\n",
       "      <td>142.0</td>\n",
       "      <td>28.0</td>\n",
       "      <td>67.0</td>\n",
       "      <td>20.0</td>\n",
       "    </tr>\n",
       "    <tr>\n",
       "      <th>1</th>\n",
       "      <td>Justin Thomas</td>\n",
       "      <td>10100</td>\n",
       "      <td>0.774907</td>\n",
       "      <td>21.1</td>\n",
       "      <td>46.800000</td>\n",
       "      <td>20.00</td>\n",
       "      <td>92.9</td>\n",
       "      <td>5.0</td>\n",
       "      <td>2043.984</td>\n",
       "      <td>8.0</td>\n",
       "      <td>100.0</td>\n",
       "      <td>5.0</td>\n",
       "      <td>21.0</td>\n",
       "      <td>17.0</td>\n",
       "      <td>1.0</td>\n",
       "      <td>84.0</td>\n",
       "      <td>2.0</td>\n",
       "      <td>36.0</td>\n",
       "      <td>67.0</td>\n",
       "      <td>55.0</td>\n",
       "      <td>111.0</td>\n",
       "      <td>43.0</td>\n",
       "      <td>114.0</td>\n",
       "    </tr>\n",
       "    <tr>\n",
       "      <th>2</th>\n",
       "      <td>Daniel Berger</td>\n",
       "      <td>8600</td>\n",
       "      <td>0.765065</td>\n",
       "      <td>34.2</td>\n",
       "      <td>47.500000</td>\n",
       "      <td>35.00</td>\n",
       "      <td>81.0</td>\n",
       "      <td>28.0</td>\n",
       "      <td>1473.408</td>\n",
       "      <td>4.0</td>\n",
       "      <td>12.0</td>\n",
       "      <td>15.0</td>\n",
       "      <td>32.0</td>\n",
       "      <td>100.0</td>\n",
       "      <td>73.0</td>\n",
       "      <td>145.0</td>\n",
       "      <td>5.0</td>\n",
       "      <td>75.0</td>\n",
       "      <td>13.0</td>\n",
       "      <td>95.0</td>\n",
       "      <td>8.0</td>\n",
       "      <td>25.0</td>\n",
       "      <td>16.0</td>\n",
       "    </tr>\n",
       "    <tr>\n",
       "      <th>3</th>\n",
       "      <td>Collin Morikawa</td>\n",
       "      <td>9900</td>\n",
       "      <td>0.740975</td>\n",
       "      <td>23.7</td>\n",
       "      <td>46.400000</td>\n",
       "      <td>16.00</td>\n",
       "      <td>100.0</td>\n",
       "      <td>4.0</td>\n",
       "      <td>1241.158</td>\n",
       "      <td>6.0</td>\n",
       "      <td>22.0</td>\n",
       "      <td>7.0</td>\n",
       "      <td>76.0</td>\n",
       "      <td>54.0</td>\n",
       "      <td>3.0</td>\n",
       "      <td>2.0</td>\n",
       "      <td>32.0</td>\n",
       "      <td>22.0</td>\n",
       "      <td>49.0</td>\n",
       "      <td>153.0</td>\n",
       "      <td>2.0</td>\n",
       "      <td>19.0</td>\n",
       "      <td>105.0</td>\n",
       "    </tr>\n",
       "    <tr>\n",
       "      <th>4</th>\n",
       "      <td>Scottie Scheffler</td>\n",
       "      <td>13300</td>\n",
       "      <td>0.728951</td>\n",
       "      <td>7.4</td>\n",
       "      <td>7.300000</td>\n",
       "      <td>2.75</td>\n",
       "      <td>100.0</td>\n",
       "      <td>1.0</td>\n",
       "      <td>2800.967</td>\n",
       "      <td>1.0</td>\n",
       "      <td>2.0</td>\n",
       "      <td>1.0</td>\n",
       "      <td>63.0</td>\n",
       "      <td>23.0</td>\n",
       "      <td>4.0</td>\n",
       "      <td>30.0</td>\n",
       "      <td>1.0</td>\n",
       "      <td>1.0</td>\n",
       "      <td>7.0</td>\n",
       "      <td>68.0</td>\n",
       "      <td>26.0</td>\n",
       "      <td>3.0</td>\n",
       "      <td>2.0</td>\n",
       "    </tr>\n",
       "    <tr>\n",
       "      <th>5</th>\n",
       "      <td>Hideki Matsuyama</td>\n",
       "      <td>9000</td>\n",
       "      <td>0.682934</td>\n",
       "      <td>39.1</td>\n",
       "      <td>32.500000</td>\n",
       "      <td>30.00</td>\n",
       "      <td>78.6</td>\n",
       "      <td>7.0</td>\n",
       "      <td>1073.294</td>\n",
       "      <td>17.0</td>\n",
       "      <td>103.0</td>\n",
       "      <td>30.0</td>\n",
       "      <td>6.0</td>\n",
       "      <td>61.0</td>\n",
       "      <td>49.0</td>\n",
       "      <td>9.0</td>\n",
       "      <td>44.0</td>\n",
       "      <td>29.0</td>\n",
       "      <td>148.0</td>\n",
       "      <td>92.0</td>\n",
       "      <td>130.0</td>\n",
       "      <td>77.0</td>\n",
       "      <td>3.0</td>\n",
       "    </tr>\n",
       "    <tr>\n",
       "      <th>6</th>\n",
       "      <td>Patrick Cantlay</td>\n",
       "      <td>9500</td>\n",
       "      <td>0.653885</td>\n",
       "      <td>24.0</td>\n",
       "      <td>23.000000</td>\n",
       "      <td>20.00</td>\n",
       "      <td>91.7</td>\n",
       "      <td>15.0</td>\n",
       "      <td>1030.952</td>\n",
       "      <td>11.0</td>\n",
       "      <td>29.0</td>\n",
       "      <td>10.0</td>\n",
       "      <td>80.0</td>\n",
       "      <td>83.0</td>\n",
       "      <td>15.0</td>\n",
       "      <td>125.0</td>\n",
       "      <td>3.0</td>\n",
       "      <td>70.0</td>\n",
       "      <td>41.0</td>\n",
       "      <td>75.0</td>\n",
       "      <td>76.0</td>\n",
       "      <td>2.0</td>\n",
       "      <td>133.0</td>\n",
       "    </tr>\n",
       "    <tr>\n",
       "      <th>7</th>\n",
       "      <td>Keegan Bradley</td>\n",
       "      <td>8000</td>\n",
       "      <td>0.638927</td>\n",
       "      <td>27.5</td>\n",
       "      <td>54.400000</td>\n",
       "      <td>50.00</td>\n",
       "      <td>92.3</td>\n",
       "      <td>18.0</td>\n",
       "      <td>797.717</td>\n",
       "      <td>5.0</td>\n",
       "      <td>23.0</td>\n",
       "      <td>13.0</td>\n",
       "      <td>19.0</td>\n",
       "      <td>148.0</td>\n",
       "      <td>63.0</td>\n",
       "      <td>135.0</td>\n",
       "      <td>19.0</td>\n",
       "      <td>58.0</td>\n",
       "      <td>18.0</td>\n",
       "      <td>65.0</td>\n",
       "      <td>45.0</td>\n",
       "      <td>55.0</td>\n",
       "      <td>105.0</td>\n",
       "    </tr>\n",
       "    <tr>\n",
       "      <th>8</th>\n",
       "      <td>Si Woo Kim</td>\n",
       "      <td>8300</td>\n",
       "      <td>0.582863</td>\n",
       "      <td>40.5</td>\n",
       "      <td>18.400000</td>\n",
       "      <td>40.00</td>\n",
       "      <td>72.2</td>\n",
       "      <td>59.0</td>\n",
       "      <td>757.596</td>\n",
       "      <td>14.0</td>\n",
       "      <td>39.0</td>\n",
       "      <td>52.0</td>\n",
       "      <td>12.0</td>\n",
       "      <td>118.0</td>\n",
       "      <td>18.0</td>\n",
       "      <td>135.0</td>\n",
       "      <td>19.0</td>\n",
       "      <td>1.0</td>\n",
       "      <td>69.0</td>\n",
       "      <td>134.0</td>\n",
       "      <td>33.0</td>\n",
       "      <td>71.0</td>\n",
       "      <td>38.0</td>\n",
       "    </tr>\n",
       "    <tr>\n",
       "      <th>9</th>\n",
       "      <td>Sepp Straka</td>\n",
       "      <td>8800</td>\n",
       "      <td>0.544180</td>\n",
       "      <td>31.8</td>\n",
       "      <td>43.400000</td>\n",
       "      <td>40.00</td>\n",
       "      <td>75.0</td>\n",
       "      <td>9.0</td>\n",
       "      <td>2098.408</td>\n",
       "      <td>9.0</td>\n",
       "      <td>52.0</td>\n",
       "      <td>2.0</td>\n",
       "      <td>126.0</td>\n",
       "      <td>28.0</td>\n",
       "      <td>2.0</td>\n",
       "      <td>3.0</td>\n",
       "      <td>12.0</td>\n",
       "      <td>1.0</td>\n",
       "      <td>47.0</td>\n",
       "      <td>142.0</td>\n",
       "      <td>11.0</td>\n",
       "      <td>1.0</td>\n",
       "      <td>79.0</td>\n",
       "    </tr>\n",
       "    <tr>\n",
       "      <th>10</th>\n",
       "      <td>Jordan Spieth</td>\n",
       "      <td>8500</td>\n",
       "      <td>0.542031</td>\n",
       "      <td>35.9</td>\n",
       "      <td>34.400000</td>\n",
       "      <td>50.00</td>\n",
       "      <td>84.6</td>\n",
       "      <td>51.0</td>\n",
       "      <td>601.338</td>\n",
       "      <td>29.0</td>\n",
       "      <td>30.0</td>\n",
       "      <td>75.0</td>\n",
       "      <td>44.0</td>\n",
       "      <td>69.0</td>\n",
       "      <td>72.0</td>\n",
       "      <td>135.0</td>\n",
       "      <td>32.0</td>\n",
       "      <td>22.0</td>\n",
       "      <td>25.0</td>\n",
       "      <td>43.0</td>\n",
       "      <td>81.0</td>\n",
       "      <td>73.0</td>\n",
       "      <td>58.0</td>\n",
       "    </tr>\n",
       "    <tr>\n",
       "      <th>11</th>\n",
       "      <td>Tommy Fleetwood</td>\n",
       "      <td>9400</td>\n",
       "      <td>0.527045</td>\n",
       "      <td>18.8</td>\n",
       "      <td>20.000000</td>\n",
       "      <td>20.00</td>\n",
       "      <td>100.0</td>\n",
       "      <td>12.0</td>\n",
       "      <td>1254.898</td>\n",
       "      <td>7.0</td>\n",
       "      <td>43.0</td>\n",
       "      <td>11.0</td>\n",
       "      <td>17.0</td>\n",
       "      <td>55.0</td>\n",
       "      <td>55.0</td>\n",
       "      <td>151.0</td>\n",
       "      <td>12.0</td>\n",
       "      <td>75.0</td>\n",
       "      <td>39.0</td>\n",
       "      <td>118.0</td>\n",
       "      <td>31.0</td>\n",
       "      <td>115.0</td>\n",
       "      <td>50.0</td>\n",
       "    </tr>\n",
       "    <tr>\n",
       "      <th>12</th>\n",
       "      <td>Ben Griffin</td>\n",
       "      <td>7800</td>\n",
       "      <td>0.521443</td>\n",
       "      <td>38.9</td>\n",
       "      <td>90.000000</td>\n",
       "      <td>60.00</td>\n",
       "      <td>79.2</td>\n",
       "      <td>24.0</td>\n",
       "      <td>1384.496</td>\n",
       "      <td>38.0</td>\n",
       "      <td>68.0</td>\n",
       "      <td>48.0</td>\n",
       "      <td>60.0</td>\n",
       "      <td>63.0</td>\n",
       "      <td>70.0</td>\n",
       "      <td>55.0</td>\n",
       "      <td>44.0</td>\n",
       "      <td>48.0</td>\n",
       "      <td>69.0</td>\n",
       "      <td>70.0</td>\n",
       "      <td>97.0</td>\n",
       "      <td>20.0</td>\n",
       "      <td>101.0</td>\n",
       "    </tr>\n",
       "    <tr>\n",
       "      <th>13</th>\n",
       "      <td>Sungjae Im</td>\n",
       "      <td>8100</td>\n",
       "      <td>0.499039</td>\n",
       "      <td>40.6</td>\n",
       "      <td>49.300000</td>\n",
       "      <td>50.00</td>\n",
       "      <td>76.5</td>\n",
       "      <td>21.0</td>\n",
       "      <td>1042.772</td>\n",
       "      <td>89.0</td>\n",
       "      <td>18.0</td>\n",
       "      <td>172.0</td>\n",
       "      <td>14.0</td>\n",
       "      <td>25.0</td>\n",
       "      <td>10.0</td>\n",
       "      <td>145.0</td>\n",
       "      <td>12.0</td>\n",
       "      <td>9.0</td>\n",
       "      <td>52.0</td>\n",
       "      <td>148.0</td>\n",
       "      <td>10.0</td>\n",
       "      <td>123.0</td>\n",
       "      <td>61.0</td>\n",
       "    </tr>\n",
       "    <tr>\n",
       "      <th>14</th>\n",
       "      <td>Russell Henley</td>\n",
       "      <td>8400</td>\n",
       "      <td>0.458702</td>\n",
       "      <td>31.2</td>\n",
       "      <td>40.500000</td>\n",
       "      <td>50.00</td>\n",
       "      <td>83.3</td>\n",
       "      <td>8.0</td>\n",
       "      <td>1418.384</td>\n",
       "      <td>28.0</td>\n",
       "      <td>128.0</td>\n",
       "      <td>28.0</td>\n",
       "      <td>15.0</td>\n",
       "      <td>35.0</td>\n",
       "      <td>14.0</td>\n",
       "      <td>1.0</td>\n",
       "      <td>12.0</td>\n",
       "      <td>107.0</td>\n",
       "      <td>109.0</td>\n",
       "      <td>174.0</td>\n",
       "      <td>15.0</td>\n",
       "      <td>4.0</td>\n",
       "      <td>103.0</td>\n",
       "    </tr>\n",
       "    <tr>\n",
       "      <th>15</th>\n",
       "      <td>Andrew Novak</td>\n",
       "      <td>7100</td>\n",
       "      <td>0.438930</td>\n",
       "      <td>46.5</td>\n",
       "      <td>49.191935</td>\n",
       "      <td>70.00</td>\n",
       "      <td>59.1</td>\n",
       "      <td>33.0</td>\n",
       "      <td>1501.350</td>\n",
       "      <td>30.0</td>\n",
       "      <td>53.0</td>\n",
       "      <td>87.0</td>\n",
       "      <td>9.0</td>\n",
       "      <td>82.0</td>\n",
       "      <td>112.0</td>\n",
       "      <td>151.0</td>\n",
       "      <td>96.0</td>\n",
       "      <td>9.0</td>\n",
       "      <td>143.0</td>\n",
       "      <td>96.0</td>\n",
       "      <td>124.0</td>\n",
       "      <td>165.0</td>\n",
       "      <td>21.0</td>\n",
       "    </tr>\n",
       "    <tr>\n",
       "      <th>16</th>\n",
       "      <td>Aaron Rai</td>\n",
       "      <td>7600</td>\n",
       "      <td>0.415812</td>\n",
       "      <td>36.6</td>\n",
       "      <td>58.000000</td>\n",
       "      <td>40.00</td>\n",
       "      <td>78.6</td>\n",
       "      <td>30.0</td>\n",
       "      <td>577.480</td>\n",
       "      <td>19.0</td>\n",
       "      <td>26.0</td>\n",
       "      <td>19.0</td>\n",
       "      <td>104.0</td>\n",
       "      <td>119.0</td>\n",
       "      <td>38.0</td>\n",
       "      <td>176.0</td>\n",
       "      <td>5.0</td>\n",
       "      <td>29.0</td>\n",
       "      <td>79.0</td>\n",
       "      <td>170.0</td>\n",
       "      <td>1.0</td>\n",
       "      <td>7.0</td>\n",
       "      <td>129.0</td>\n",
       "    </tr>\n",
       "    <tr>\n",
       "      <th>17</th>\n",
       "      <td>Harris English</td>\n",
       "      <td>7800</td>\n",
       "      <td>0.399388</td>\n",
       "      <td>41.2</td>\n",
       "      <td>61.300000</td>\n",
       "      <td>60.00</td>\n",
       "      <td>78.9</td>\n",
       "      <td>16.0</td>\n",
       "      <td>1495.343</td>\n",
       "      <td>67.0</td>\n",
       "      <td>53.0</td>\n",
       "      <td>88.0</td>\n",
       "      <td>110.0</td>\n",
       "      <td>34.0</td>\n",
       "      <td>145.0</td>\n",
       "      <td>102.0</td>\n",
       "      <td>64.0</td>\n",
       "      <td>107.0</td>\n",
       "      <td>30.0</td>\n",
       "      <td>88.0</td>\n",
       "      <td>47.0</td>\n",
       "      <td>58.0</td>\n",
       "      <td>55.0</td>\n",
       "    </tr>\n",
       "    <tr>\n",
       "      <th>18</th>\n",
       "      <td>Tony Finau</td>\n",
       "      <td>8200</td>\n",
       "      <td>0.366716</td>\n",
       "      <td>45.3</td>\n",
       "      <td>30.200000</td>\n",
       "      <td>50.00</td>\n",
       "      <td>69.2</td>\n",
       "      <td>37.0</td>\n",
       "      <td>614.569</td>\n",
       "      <td>53.0</td>\n",
       "      <td>38.0</td>\n",
       "      <td>93.0</td>\n",
       "      <td>62.0</td>\n",
       "      <td>96.0</td>\n",
       "      <td>34.0</td>\n",
       "      <td>84.0</td>\n",
       "      <td>44.0</td>\n",
       "      <td>119.0</td>\n",
       "      <td>33.0</td>\n",
       "      <td>59.0</td>\n",
       "      <td>84.0</td>\n",
       "      <td>55.0</td>\n",
       "      <td>126.0</td>\n",
       "    </tr>\n",
       "    <tr>\n",
       "      <th>19</th>\n",
       "      <td>Davis Thompson</td>\n",
       "      <td>7000</td>\n",
       "      <td>0.361196</td>\n",
       "      <td>49.5</td>\n",
       "      <td>41.500000</td>\n",
       "      <td>100.00</td>\n",
       "      <td>70.6</td>\n",
       "      <td>56.0</td>\n",
       "      <td>434.367</td>\n",
       "      <td>44.0</td>\n",
       "      <td>24.0</td>\n",
       "      <td>112.0</td>\n",
       "      <td>43.0</td>\n",
       "      <td>143.0</td>\n",
       "      <td>30.0</td>\n",
       "      <td>112.0</td>\n",
       "      <td>77.0</td>\n",
       "      <td>17.0</td>\n",
       "      <td>20.0</td>\n",
       "      <td>72.0</td>\n",
       "      <td>46.0</td>\n",
       "      <td>28.0</td>\n",
       "      <td>99.0</td>\n",
       "    </tr>\n",
       "  </tbody>\n",
       "</table>\n",
       "</div>"
      ],
      "text/plain": [
       "               PLAYER  SALARY  PROBABILITY  RECENT_FORM  COURSE_HISTORY  \\\n",
       "0         Shane Lowry    8700     0.797711         29.9       40.800000   \n",
       "1       Justin Thomas   10100     0.774907         21.1       46.800000   \n",
       "2       Daniel Berger    8600     0.765065         34.2       47.500000   \n",
       "3     Collin Morikawa    9900     0.740975         23.7       46.400000   \n",
       "4   Scottie Scheffler   13300     0.728951          7.4        7.300000   \n",
       "5    Hideki Matsuyama    9000     0.682934         39.1       32.500000   \n",
       "6     Patrick Cantlay    9500     0.653885         24.0       23.000000   \n",
       "7      Keegan Bradley    8000     0.638927         27.5       54.400000   \n",
       "8          Si Woo Kim    8300     0.582863         40.5       18.400000   \n",
       "9         Sepp Straka    8800     0.544180         31.8       43.400000   \n",
       "10      Jordan Spieth    8500     0.542031         35.9       34.400000   \n",
       "11    Tommy Fleetwood    9400     0.527045         18.8       20.000000   \n",
       "12        Ben Griffin    7800     0.521443         38.9       90.000000   \n",
       "13         Sungjae Im    8100     0.499039         40.6       49.300000   \n",
       "14     Russell Henley    8400     0.458702         31.2       40.500000   \n",
       "15       Andrew Novak    7100     0.438930         46.5       49.191935   \n",
       "16          Aaron Rai    7600     0.415812         36.6       58.000000   \n",
       "17     Harris English    7800     0.399388         41.2       61.300000   \n",
       "18         Tony Finau    8200     0.366716         45.3       30.200000   \n",
       "19     Davis Thompson    7000     0.361196         49.5       41.500000   \n",
       "\n",
       "    VEGAS_ODDS  CUT_PERCENTAGE  OWGR_RANK  FEDEX_CUP_POINTS  SGTTG_RANK  \\\n",
       "0        35.00            81.8       14.0          1273.139         2.0   \n",
       "1        20.00            92.9        5.0          2043.984         8.0   \n",
       "2        35.00            81.0       28.0          1473.408         4.0   \n",
       "3        16.00           100.0        4.0          1241.158         6.0   \n",
       "4         2.75           100.0        1.0          2800.967         1.0   \n",
       "5        30.00            78.6        7.0          1073.294        17.0   \n",
       "6        20.00            91.7       15.0          1030.952        11.0   \n",
       "7        50.00            92.3       18.0           797.717         5.0   \n",
       "8        40.00            72.2       59.0           757.596        14.0   \n",
       "9        40.00            75.0        9.0          2098.408         9.0   \n",
       "10       50.00            84.6       51.0           601.338        29.0   \n",
       "11       20.00           100.0       12.0          1254.898         7.0   \n",
       "12       60.00            79.2       24.0          1384.496        38.0   \n",
       "13       50.00            76.5       21.0          1042.772        89.0   \n",
       "14       50.00            83.3        8.0          1418.384        28.0   \n",
       "15       70.00            59.1       33.0          1501.350        30.0   \n",
       "16       40.00            78.6       30.0           577.480        19.0   \n",
       "17       60.00            78.9       16.0          1495.343        67.0   \n",
       "18       50.00            69.2       37.0           614.569        53.0   \n",
       "19      100.00            70.6       56.0           434.367        44.0   \n",
       "\n",
       "    SGOTT_RANK  SGAPR_RANK  SGATG_RANK  SGP_RANK  BIRDIES_RANK  PAR_3_RANK  \\\n",
       "0         34.0         6.0        18.0      86.0          58.0         9.0   \n",
       "1        100.0         5.0        21.0      17.0           1.0        84.0   \n",
       "2         12.0        15.0        32.0     100.0          73.0       145.0   \n",
       "3         22.0         7.0        76.0      54.0           3.0         2.0   \n",
       "4          2.0         1.0        63.0      23.0           4.0        30.0   \n",
       "5        103.0        30.0         6.0      61.0          49.0         9.0   \n",
       "6         29.0        10.0        80.0      83.0          15.0       125.0   \n",
       "7         23.0        13.0        19.0     148.0          63.0       135.0   \n",
       "8         39.0        52.0        12.0     118.0          18.0       135.0   \n",
       "9         52.0         2.0       126.0      28.0           2.0         3.0   \n",
       "10        30.0        75.0        44.0      69.0          72.0       135.0   \n",
       "11        43.0        11.0        17.0      55.0          55.0       151.0   \n",
       "12        68.0        48.0        60.0      63.0          70.0        55.0   \n",
       "13        18.0       172.0        14.0      25.0          10.0       145.0   \n",
       "14       128.0        28.0        15.0      35.0          14.0         1.0   \n",
       "15        53.0        87.0         9.0      82.0         112.0       151.0   \n",
       "16        26.0        19.0       104.0     119.0          38.0       176.0   \n",
       "17        53.0        88.0       110.0      34.0         145.0       102.0   \n",
       "18        38.0        93.0        62.0      96.0          34.0        84.0   \n",
       "19        24.0       112.0        43.0     143.0          30.0       112.0   \n",
       "\n",
       "    PAR_4_RANK  PAR_5_RANK  TOTAL_DRIVING_RANK  DRIVING_DISTANCE_RANK  \\\n",
       "0         19.0       139.0                77.0                  142.0   \n",
       "1          2.0        36.0                67.0                   55.0   \n",
       "2          5.0        75.0                13.0                   95.0   \n",
       "3         32.0        22.0                49.0                  153.0   \n",
       "4          1.0         1.0                 7.0                   68.0   \n",
       "5         44.0        29.0               148.0                   92.0   \n",
       "6          3.0        70.0                41.0                   75.0   \n",
       "7         19.0        58.0                18.0                   65.0   \n",
       "8         19.0         1.0                69.0                  134.0   \n",
       "9         12.0         1.0                47.0                  142.0   \n",
       "10        32.0        22.0                25.0                   43.0   \n",
       "11        12.0        75.0                39.0                  118.0   \n",
       "12        44.0        48.0                69.0                   70.0   \n",
       "13        12.0         9.0                52.0                  148.0   \n",
       "14        12.0       107.0               109.0                  174.0   \n",
       "15        96.0         9.0               143.0                   96.0   \n",
       "16         5.0        29.0                79.0                  170.0   \n",
       "17        64.0       107.0                30.0                   88.0   \n",
       "18        44.0       119.0                33.0                   59.0   \n",
       "19        77.0        17.0                20.0                   72.0   \n",
       "\n",
       "    DRIVING_ACCURACY_RANK  GIR_RANK  SCRAMBLING_RANK  \n",
       "0                    28.0      67.0             20.0  \n",
       "1                   111.0      43.0            114.0  \n",
       "2                     8.0      25.0             16.0  \n",
       "3                     2.0      19.0            105.0  \n",
       "4                    26.0       3.0              2.0  \n",
       "5                   130.0      77.0              3.0  \n",
       "6                    76.0       2.0            133.0  \n",
       "7                    45.0      55.0            105.0  \n",
       "8                    33.0      71.0             38.0  \n",
       "9                    11.0       1.0             79.0  \n",
       "10                   81.0      73.0             58.0  \n",
       "11                   31.0     115.0             50.0  \n",
       "12                   97.0      20.0            101.0  \n",
       "13                   10.0     123.0             61.0  \n",
       "14                   15.0       4.0            103.0  \n",
       "15                  124.0     165.0             21.0  \n",
       "16                    1.0       7.0            129.0  \n",
       "17                   47.0      58.0             55.0  \n",
       "18                   84.0      55.0            126.0  \n",
       "19                   46.0      28.0             99.0  "
      ]
     },
     "execution_count": 60,
     "metadata": {},
     "output_type": "execute_result"
    }
   ],
   "source": [
    "# === Prepare test data (this week's players) ===\n",
    "\n",
    "# Select and standardize features using the same scaler as training\n",
    "X_test = this_week[feature_cols]\n",
    "X_test_scaled = scaler.transform(X_test)\n",
    "\n",
    "# === Predict probabilities for Top 20 finish ===\n",
    "# CalibratedClassifierCV returns well-calibrated probabilities\n",
    "this_week[\"PROBABILITY\"] = final_model.predict_proba(X_test_scaled)[:, 1]\n",
    "\n",
    "# === Sort results by highest predicted probability ===\n",
    "this_week_sorted = this_week.sort_values(by=\"PROBABILITY\", ascending=False).reset_index(drop=True)\n",
    "\n",
    "# === Define final column order explicitly ===\n",
    "columns_to_show = [\n",
    "    \"PLAYER\", \"SALARY\", \"PROBABILITY\",\n",
    "    \"RECENT_FORM\", \"COURSE_HISTORY\", \"VEGAS_ODDS\", \"CUT_PERCENTAGE\", \n",
    "    \"OWGR_RANK\", \"FEDEX_CUP_POINTS\",\n",
    "\n",
    "    # SG stats\n",
    "    \"SGTTG_RANK\", \"SGOTT_RANK\", \"SGAPR_RANK\", \"SGATG_RANK\", \"SGP_RANK\",\n",
    "\n",
    "    # Scoring/Performance\n",
    "    \"BIRDIES_RANK\", \"PAR_3_RANK\", \"PAR_4_RANK\", \"PAR_5_RANK\",\n",
    "\n",
    "    # Driving / Ball Striking\n",
    "    \"TOTAL_DRIVING_RANK\", \"DRIVING_DISTANCE_RANK\", \"DRIVING_ACCURACY_RANK\",\n",
    "    \"GIR_RANK\", \"SCRAMBLING_RANK\"\n",
    "]\n",
    "\n",
    "# Keep only columns that exist in the dataframe\n",
    "columns_to_show = [col for col in columns_to_show if col in this_week_sorted.columns]\n",
    "\n",
    "# Final dataframe for display/export\n",
    "export_df = this_week_sorted[columns_to_show].copy()\n",
    "\n",
    "# Preview top 20\n",
    "export_df.head(20)\n"
   ]
  },
  {
   "cell_type": "markdown",
   "id": "8641f78e",
   "metadata": {},
   "source": [
    "### Save to CSV"
   ]
  },
  {
   "cell_type": "code",
   "execution_count": 61,
   "id": "323933e9",
   "metadata": {},
   "outputs": [
    {
     "name": "stdout",
     "output_type": "stream",
     "text": [
      "✅ Exported to data/the_Memorial_Tournament_presented_by_Workday_2025-06-01.csv\n"
     ]
    }
   ],
   "source": [
    "# Define columns to round (FedEx + stats)\n",
    "columns_to_round = [\n",
    "    \"FEDEX_CUP_POINTS\",\n",
    "    \"SGTTG_RANK\", \"SGOTT_RANK\", \"SGAPR_RANK\", \"SGATG_RANK\", \"SGP_RANK\",\n",
    "    \"BIRDIES_RANK\", \"PAR_3_RANK\", \"PAR_4_RANK\", \"PAR_5_RANK\",\n",
    "    \"TOTAL_DRIVING_RANK\", \"DRIVING_DISTANCE_RANK\", \"DRIVING_ACCURACY_RANK\",\n",
    "    \"GIR_RANK\", \"SCRAMBLING_RANK\"\n",
    "]\n",
    "\n",
    "columns_to_round_1 = [\n",
    "    \"COURSE_HISTORY\", \"CUT_PERCENTAGE\"\n",
    "]\n",
    "\n",
    "# Round only the selected columns to 0 decimal places\n",
    "export_df[columns_to_round] = export_df[columns_to_round].round(0).astype(\"Int64\")\n",
    "# Round only the selected columns to 1 decimal places\n",
    "export_df[columns_to_round_1] = export_df[columns_to_round_1].round(1)\n",
    "\n",
    "# Export to CSV\n",
    "filename = f\"data/{tournament_config['new']['name'].replace(' ', '_')}_{tournament_config['new']['ending_date'].date()}.csv\"\n",
    "export_df.to_csv(filename, index=False)\n",
    "print(f\"✅ Exported to {filename}\")"
   ]
  }
 ],
 "metadata": {
  "kernelspec": {
   "display_name": "Python 3",
   "language": "python",
   "name": "python3"
  },
  "language_info": {
   "codemirror_mode": {
    "name": "ipython",
    "version": 3
   },
   "file_extension": ".py",
   "mimetype": "text/x-python",
   "name": "python",
   "nbconvert_exporter": "python",
   "pygments_lexer": "ipython3",
   "version": "3.13.3"
  }
 },
 "nbformat": 4,
 "nbformat_minor": 5
}
